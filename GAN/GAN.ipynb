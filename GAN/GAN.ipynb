{
 "cells": [
  {
   "cell_type": "code",
   "execution_count": 1,
   "metadata": {},
   "outputs": [],
   "source": [
    "import tensorflow as tf\n",
    "import plotly.express as px\n",
    "import matplotlib.pyplot as plt\n",
    "import sys\n",
    "sys.path.append('../')\n",
    "from utils import *"
   ]
  },
  {
   "cell_type": "code",
   "execution_count": 2,
   "metadata": {},
   "outputs": [],
   "source": [
    "directory = '../images/final/'\n",
    "width = 128\n",
    "height = 128\n",
    "channels = 4\n",
    "image_size = (width, height)\n",
    "input_shape = (width, height, channels)\n",
    "batch_size = 32\n",
    "latent_dim = 100"
   ]
  },
  {
   "cell_type": "code",
   "execution_count": 3,
   "metadata": {},
   "outputs": [
    {
     "name": "stdout",
     "output_type": "stream",
     "text": [
      "Found 13849 files belonging to 905 classes.\n"
     ]
    }
   ],
   "source": [
    "train_ds, class_names = load_data(directory, batch_size, image_size, GAN=True)"
   ]
  },
  {
   "cell_type": "code",
   "execution_count": 4,
   "metadata": {},
   "outputs": [
    {
     "name": "stdout",
     "output_type": "stream",
     "text": [
      "WARNING:tensorflow:Using a while_loop for converting RngReadAndSkip cause there is no registered converter for this op.\n",
      "WARNING:tensorflow:Using a while_loop for converting Bitcast cause there is no registered converter for this op.\n",
      "WARNING:tensorflow:Using a while_loop for converting Bitcast cause there is no registered converter for this op.\n",
      "WARNING:tensorflow:Using a while_loop for converting StatelessRandomUniformV2 cause there is no registered converter for this op.\n",
      "WARNING:tensorflow:Using a while_loop for converting ImageProjectiveTransformV3 cause there is no registered converter for this op.\n",
      "WARNING:tensorflow:Using a while_loop for converting RngReadAndSkip cause there is no registered converter for this op.\n",
      "WARNING:tensorflow:Using a while_loop for converting Bitcast cause there is no registered converter for this op.\n",
      "WARNING:tensorflow:Using a while_loop for converting Bitcast cause there is no registered converter for this op.\n",
      "WARNING:tensorflow:Using a while_loop for converting StatelessRandomUniformV2 cause there is no registered converter for this op.\n",
      "WARNING:tensorflow:Using a while_loop for converting RngReadAndSkip cause there is no registered converter for this op.\n",
      "WARNING:tensorflow:Using a while_loop for converting Bitcast cause there is no registered converter for this op.\n",
      "WARNING:tensorflow:Using a while_loop for converting Bitcast cause there is no registered converter for this op.\n",
      "WARNING:tensorflow:Using a while_loop for converting StatelessRandomUniformV2 cause there is no registered converter for this op.\n",
      "WARNING:tensorflow:Using a while_loop for converting RngReadAndSkip cause there is no registered converter for this op.\n",
      "WARNING:tensorflow:Using a while_loop for converting Bitcast cause there is no registered converter for this op.\n",
      "WARNING:tensorflow:Using a while_loop for converting Bitcast cause there is no registered converter for this op.\n",
      "WARNING:tensorflow:Using a while_loop for converting StatelessRandomUniformV2 cause there is no registered converter for this op.\n",
      "WARNING:tensorflow:Using a while_loop for converting ImageProjectiveTransformV3 cause there is no registered converter for this op.\n",
      "WARNING:tensorflow:Using a while_loop for converting RngReadAndSkip cause there is no registered converter for this op.\n",
      "WARNING:tensorflow:Using a while_loop for converting Bitcast cause there is no registered converter for this op.\n",
      "WARNING:tensorflow:Using a while_loop for converting Bitcast cause there is no registered converter for this op.\n",
      "WARNING:tensorflow:Using a while_loop for converting StatelessRandomUniformV2 cause there is no registered converter for this op.\n",
      "WARNING:tensorflow:Using a while_loop for converting RngReadAndSkip cause there is no registered converter for this op.\n",
      "WARNING:tensorflow:Using a while_loop for converting Bitcast cause there is no registered converter for this op.\n",
      "WARNING:tensorflow:Using a while_loop for converting Bitcast cause there is no registered converter for this op.\n",
      "WARNING:tensorflow:Using a while_loop for converting StatelessRandomUniformV2 cause there is no registered converter for this op.\n"
     ]
    }
   ],
   "source": [
    "train_ds = prepare(train_ds, shuffle=True, augment=True, GAN=True)\n",
    "\n",
    "channels = 3\n",
    "input_shape = (width, height, channels)"
   ]
  },
  {
   "cell_type": "code",
   "execution_count": 5,
   "metadata": {},
   "outputs": [
    {
     "name": "stdout",
     "output_type": "stream",
     "text": [
      "image shape :  (128, 128, 3)\n"
     ]
    },
    {
     "data": {
      "application/vnd.plotly.v1+json": {
       "config": {
        "plotlyServerURL": "https://plot.ly"
       },
       "data": [
        {
         "hovertemplate": "x: %{x}<br>y: %{y}<br>color: [%{z[0]}, %{z[1]}, %{z[2]}]<extra></extra>",
         "name": "0",
         "source": "data:image/png;base64,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",
         "type": "image",
         "xaxis": "x",
         "yaxis": "y"
        }
       ],
       "layout": {
        "height": 350,
        "margin": {
         "l": 0,
         "t": 60
        },
        "shapes": [
         {
          "line": {
           "color": "black",
           "width": 2
          },
          "type": "rect",
          "x0": 0,
          "x1": 128,
          "xref": "x",
          "y0": 0,
          "y1": 128,
          "yref": "y"
         }
        ],
        "template": {
         "data": {
          "bar": [
           {
            "error_x": {
             "color": "#2a3f5f"
            },
            "error_y": {
             "color": "#2a3f5f"
            },
            "marker": {
             "line": {
              "color": "#E5ECF6",
              "width": 0.5
             },
             "pattern": {
              "fillmode": "overlay",
              "size": 10,
              "solidity": 0.2
             }
            },
            "type": "bar"
           }
          ],
          "barpolar": [
           {
            "marker": {
             "line": {
              "color": "#E5ECF6",
              "width": 0.5
             },
             "pattern": {
              "fillmode": "overlay",
              "size": 10,
              "solidity": 0.2
             }
            },
            "type": "barpolar"
           }
          ],
          "carpet": [
           {
            "aaxis": {
             "endlinecolor": "#2a3f5f",
             "gridcolor": "white",
             "linecolor": "white",
             "minorgridcolor": "white",
             "startlinecolor": "#2a3f5f"
            },
            "baxis": {
             "endlinecolor": "#2a3f5f",
             "gridcolor": "white",
             "linecolor": "white",
             "minorgridcolor": "white",
             "startlinecolor": "#2a3f5f"
            },
            "type": "carpet"
           }
          ],
          "choropleth": [
           {
            "colorbar": {
             "outlinewidth": 0,
             "ticks": ""
            },
            "type": "choropleth"
           }
          ],
          "contour": [
           {
            "colorbar": {
             "outlinewidth": 0,
             "ticks": ""
            },
            "colorscale": [
             [
              0,
              "#0d0887"
             ],
             [
              0.1111111111111111,
              "#46039f"
             ],
             [
              0.2222222222222222,
              "#7201a8"
             ],
             [
              0.3333333333333333,
              "#9c179e"
             ],
             [
              0.4444444444444444,
              "#bd3786"
             ],
             [
              0.5555555555555556,
              "#d8576b"
             ],
             [
              0.6666666666666666,
              "#ed7953"
             ],
             [
              0.7777777777777778,
              "#fb9f3a"
             ],
             [
              0.8888888888888888,
              "#fdca26"
             ],
             [
              1,
              "#f0f921"
             ]
            ],
            "type": "contour"
           }
          ],
          "contourcarpet": [
           {
            "colorbar": {
             "outlinewidth": 0,
             "ticks": ""
            },
            "type": "contourcarpet"
           }
          ],
          "heatmap": [
           {
            "colorbar": {
             "outlinewidth": 0,
             "ticks": ""
            },
            "colorscale": [
             [
              0,
              "#0d0887"
             ],
             [
              0.1111111111111111,
              "#46039f"
             ],
             [
              0.2222222222222222,
              "#7201a8"
             ],
             [
              0.3333333333333333,
              "#9c179e"
             ],
             [
              0.4444444444444444,
              "#bd3786"
             ],
             [
              0.5555555555555556,
              "#d8576b"
             ],
             [
              0.6666666666666666,
              "#ed7953"
             ],
             [
              0.7777777777777778,
              "#fb9f3a"
             ],
             [
              0.8888888888888888,
              "#fdca26"
             ],
             [
              1,
              "#f0f921"
             ]
            ],
            "type": "heatmap"
           }
          ],
          "heatmapgl": [
           {
            "colorbar": {
             "outlinewidth": 0,
             "ticks": ""
            },
            "colorscale": [
             [
              0,
              "#0d0887"
             ],
             [
              0.1111111111111111,
              "#46039f"
             ],
             [
              0.2222222222222222,
              "#7201a8"
             ],
             [
              0.3333333333333333,
              "#9c179e"
             ],
             [
              0.4444444444444444,
              "#bd3786"
             ],
             [
              0.5555555555555556,
              "#d8576b"
             ],
             [
              0.6666666666666666,
              "#ed7953"
             ],
             [
              0.7777777777777778,
              "#fb9f3a"
             ],
             [
              0.8888888888888888,
              "#fdca26"
             ],
             [
              1,
              "#f0f921"
             ]
            ],
            "type": "heatmapgl"
           }
          ],
          "histogram": [
           {
            "marker": {
             "pattern": {
              "fillmode": "overlay",
              "size": 10,
              "solidity": 0.2
             }
            },
            "type": "histogram"
           }
          ],
          "histogram2d": [
           {
            "colorbar": {
             "outlinewidth": 0,
             "ticks": ""
            },
            "colorscale": [
             [
              0,
              "#0d0887"
             ],
             [
              0.1111111111111111,
              "#46039f"
             ],
             [
              0.2222222222222222,
              "#7201a8"
             ],
             [
              0.3333333333333333,
              "#9c179e"
             ],
             [
              0.4444444444444444,
              "#bd3786"
             ],
             [
              0.5555555555555556,
              "#d8576b"
             ],
             [
              0.6666666666666666,
              "#ed7953"
             ],
             [
              0.7777777777777778,
              "#fb9f3a"
             ],
             [
              0.8888888888888888,
              "#fdca26"
             ],
             [
              1,
              "#f0f921"
             ]
            ],
            "type": "histogram2d"
           }
          ],
          "histogram2dcontour": [
           {
            "colorbar": {
             "outlinewidth": 0,
             "ticks": ""
            },
            "colorscale": [
             [
              0,
              "#0d0887"
             ],
             [
              0.1111111111111111,
              "#46039f"
             ],
             [
              0.2222222222222222,
              "#7201a8"
             ],
             [
              0.3333333333333333,
              "#9c179e"
             ],
             [
              0.4444444444444444,
              "#bd3786"
             ],
             [
              0.5555555555555556,
              "#d8576b"
             ],
             [
              0.6666666666666666,
              "#ed7953"
             ],
             [
              0.7777777777777778,
              "#fb9f3a"
             ],
             [
              0.8888888888888888,
              "#fdca26"
             ],
             [
              1,
              "#f0f921"
             ]
            ],
            "type": "histogram2dcontour"
           }
          ],
          "mesh3d": [
           {
            "colorbar": {
             "outlinewidth": 0,
             "ticks": ""
            },
            "type": "mesh3d"
           }
          ],
          "parcoords": [
           {
            "line": {
             "colorbar": {
              "outlinewidth": 0,
              "ticks": ""
             }
            },
            "type": "parcoords"
           }
          ],
          "pie": [
           {
            "automargin": true,
            "type": "pie"
           }
          ],
          "scatter": [
           {
            "fillpattern": {
             "fillmode": "overlay",
             "size": 10,
             "solidity": 0.2
            },
            "type": "scatter"
           }
          ],
          "scatter3d": [
           {
            "line": {
             "colorbar": {
              "outlinewidth": 0,
              "ticks": ""
             }
            },
            "marker": {
             "colorbar": {
              "outlinewidth": 0,
              "ticks": ""
             }
            },
            "type": "scatter3d"
           }
          ],
          "scattercarpet": [
           {
            "marker": {
             "colorbar": {
              "outlinewidth": 0,
              "ticks": ""
             }
            },
            "type": "scattercarpet"
           }
          ],
          "scattergeo": [
           {
            "marker": {
             "colorbar": {
              "outlinewidth": 0,
              "ticks": ""
             }
            },
            "type": "scattergeo"
           }
          ],
          "scattergl": [
           {
            "marker": {
             "colorbar": {
              "outlinewidth": 0,
              "ticks": ""
             }
            },
            "type": "scattergl"
           }
          ],
          "scattermapbox": [
           {
            "marker": {
             "colorbar": {
              "outlinewidth": 0,
              "ticks": ""
             }
            },
            "type": "scattermapbox"
           }
          ],
          "scatterpolar": [
           {
            "marker": {
             "colorbar": {
              "outlinewidth": 0,
              "ticks": ""
             }
            },
            "type": "scatterpolar"
           }
          ],
          "scatterpolargl": [
           {
            "marker": {
             "colorbar": {
              "outlinewidth": 0,
              "ticks": ""
             }
            },
            "type": "scatterpolargl"
           }
          ],
          "scatterternary": [
           {
            "marker": {
             "colorbar": {
              "outlinewidth": 0,
              "ticks": ""
             }
            },
            "type": "scatterternary"
           }
          ],
          "surface": [
           {
            "colorbar": {
             "outlinewidth": 0,
             "ticks": ""
            },
            "colorscale": [
             [
              0,
              "#0d0887"
             ],
             [
              0.1111111111111111,
              "#46039f"
             ],
             [
              0.2222222222222222,
              "#7201a8"
             ],
             [
              0.3333333333333333,
              "#9c179e"
             ],
             [
              0.4444444444444444,
              "#bd3786"
             ],
             [
              0.5555555555555556,
              "#d8576b"
             ],
             [
              0.6666666666666666,
              "#ed7953"
             ],
             [
              0.7777777777777778,
              "#fb9f3a"
             ],
             [
              0.8888888888888888,
              "#fdca26"
             ],
             [
              1,
              "#f0f921"
             ]
            ],
            "type": "surface"
           }
          ],
          "table": [
           {
            "cells": {
             "fill": {
              "color": "#EBF0F8"
             },
             "line": {
              "color": "white"
             }
            },
            "header": {
             "fill": {
              "color": "#C8D4E3"
             },
             "line": {
              "color": "white"
             }
            },
            "type": "table"
           }
          ]
         },
         "layout": {
          "annotationdefaults": {
           "arrowcolor": "#2a3f5f",
           "arrowhead": 0,
           "arrowwidth": 1
          },
          "autotypenumbers": "strict",
          "coloraxis": {
           "colorbar": {
            "outlinewidth": 0,
            "ticks": ""
           }
          },
          "colorscale": {
           "diverging": [
            [
             0,
             "#8e0152"
            ],
            [
             0.1,
             "#c51b7d"
            ],
            [
             0.2,
             "#de77ae"
            ],
            [
             0.3,
             "#f1b6da"
            ],
            [
             0.4,
             "#fde0ef"
            ],
            [
             0.5,
             "#f7f7f7"
            ],
            [
             0.6,
             "#e6f5d0"
            ],
            [
             0.7,
             "#b8e186"
            ],
            [
             0.8,
             "#7fbc41"
            ],
            [
             0.9,
             "#4d9221"
            ],
            [
             1,
             "#276419"
            ]
           ],
           "sequential": [
            [
             0,
             "#0d0887"
            ],
            [
             0.1111111111111111,
             "#46039f"
            ],
            [
             0.2222222222222222,
             "#7201a8"
            ],
            [
             0.3333333333333333,
             "#9c179e"
            ],
            [
             0.4444444444444444,
             "#bd3786"
            ],
            [
             0.5555555555555556,
             "#d8576b"
            ],
            [
             0.6666666666666666,
             "#ed7953"
            ],
            [
             0.7777777777777778,
             "#fb9f3a"
            ],
            [
             0.8888888888888888,
             "#fdca26"
            ],
            [
             1,
             "#f0f921"
            ]
           ],
           "sequentialminus": [
            [
             0,
             "#0d0887"
            ],
            [
             0.1111111111111111,
             "#46039f"
            ],
            [
             0.2222222222222222,
             "#7201a8"
            ],
            [
             0.3333333333333333,
             "#9c179e"
            ],
            [
             0.4444444444444444,
             "#bd3786"
            ],
            [
             0.5555555555555556,
             "#d8576b"
            ],
            [
             0.6666666666666666,
             "#ed7953"
            ],
            [
             0.7777777777777778,
             "#fb9f3a"
            ],
            [
             0.8888888888888888,
             "#fdca26"
            ],
            [
             1,
             "#f0f921"
            ]
           ]
          },
          "colorway": [
           "#636efa",
           "#EF553B",
           "#00cc96",
           "#ab63fa",
           "#FFA15A",
           "#19d3f3",
           "#FF6692",
           "#B6E880",
           "#FF97FF",
           "#FECB52"
          ],
          "font": {
           "color": "#2a3f5f"
          },
          "geo": {
           "bgcolor": "white",
           "lakecolor": "white",
           "landcolor": "#E5ECF6",
           "showlakes": true,
           "showland": true,
           "subunitcolor": "white"
          },
          "hoverlabel": {
           "align": "left"
          },
          "hovermode": "closest",
          "mapbox": {
           "style": "light"
          },
          "paper_bgcolor": "white",
          "plot_bgcolor": "#E5ECF6",
          "polar": {
           "angularaxis": {
            "gridcolor": "white",
            "linecolor": "white",
            "ticks": ""
           },
           "bgcolor": "#E5ECF6",
           "radialaxis": {
            "gridcolor": "white",
            "linecolor": "white",
            "ticks": ""
           }
          },
          "scene": {
           "xaxis": {
            "backgroundcolor": "#E5ECF6",
            "gridcolor": "white",
            "gridwidth": 2,
            "linecolor": "white",
            "showbackground": true,
            "ticks": "",
            "zerolinecolor": "white"
           },
           "yaxis": {
            "backgroundcolor": "#E5ECF6",
            "gridcolor": "white",
            "gridwidth": 2,
            "linecolor": "white",
            "showbackground": true,
            "ticks": "",
            "zerolinecolor": "white"
           },
           "zaxis": {
            "backgroundcolor": "#E5ECF6",
            "gridcolor": "white",
            "gridwidth": 2,
            "linecolor": "white",
            "showbackground": true,
            "ticks": "",
            "zerolinecolor": "white"
           }
          },
          "shapedefaults": {
           "line": {
            "color": "#2a3f5f"
           }
          },
          "ternary": {
           "aaxis": {
            "gridcolor": "white",
            "linecolor": "white",
            "ticks": ""
           },
           "baxis": {
            "gridcolor": "white",
            "linecolor": "white",
            "ticks": ""
           },
           "bgcolor": "#E5ECF6",
           "caxis": {
            "gridcolor": "white",
            "linecolor": "white",
            "ticks": ""
           }
          },
          "title": {
           "x": 0.05
          },
          "xaxis": {
           "automargin": true,
           "gridcolor": "white",
           "linecolor": "white",
           "ticks": "",
           "title": {
            "standoff": 15
           },
           "zerolinecolor": "white",
           "zerolinewidth": 2
          },
          "yaxis": {
           "automargin": true,
           "gridcolor": "white",
           "linecolor": "white",
           "ticks": "",
           "title": {
            "standoff": 15
           },
           "zerolinecolor": "white",
           "zerolinewidth": 2
          }
         }
        },
        "title": {
         "text": "Label: Carracosta"
        },
        "width": 500,
        "xaxis": {
         "anchor": "y",
         "domain": [
          0,
          1
         ],
         "showgrid": false,
         "showticklabels": false,
         "visible": false,
         "zeroline": false
        },
        "yaxis": {
         "anchor": "x",
         "domain": [
          0,
          1
         ],
         "showgrid": false,
         "showticklabels": false,
         "visible": false,
         "zeroline": false
        }
       }
      }
     },
     "metadata": {},
     "output_type": "display_data"
    },
    {
     "data": {
      "application/vnd.plotly.v1+json": {
       "config": {
        "plotlyServerURL": "https://plot.ly"
       },
       "data": [
        {
         "hovertemplate": "x: %{x}<br>y: %{y}<br>color: [%{z[0]}, %{z[1]}, %{z[2]}]<extra></extra>",
         "name": "0",
         "source": "data:image/png;base64,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",
         "type": "image",
         "xaxis": "x",
         "yaxis": "y"
        }
       ],
       "layout": {
        "height": 350,
        "margin": {
         "l": 0,
         "t": 60
        },
        "shapes": [
         {
          "line": {
           "color": "black",
           "width": 2
          },
          "type": "rect",
          "x0": 0,
          "x1": 128,
          "xref": "x",
          "y0": 0,
          "y1": 128,
          "yref": "y"
         }
        ],
        "template": {
         "data": {
          "bar": [
           {
            "error_x": {
             "color": "#2a3f5f"
            },
            "error_y": {
             "color": "#2a3f5f"
            },
            "marker": {
             "line": {
              "color": "#E5ECF6",
              "width": 0.5
             },
             "pattern": {
              "fillmode": "overlay",
              "size": 10,
              "solidity": 0.2
             }
            },
            "type": "bar"
           }
          ],
          "barpolar": [
           {
            "marker": {
             "line": {
              "color": "#E5ECF6",
              "width": 0.5
             },
             "pattern": {
              "fillmode": "overlay",
              "size": 10,
              "solidity": 0.2
             }
            },
            "type": "barpolar"
           }
          ],
          "carpet": [
           {
            "aaxis": {
             "endlinecolor": "#2a3f5f",
             "gridcolor": "white",
             "linecolor": "white",
             "minorgridcolor": "white",
             "startlinecolor": "#2a3f5f"
            },
            "baxis": {
             "endlinecolor": "#2a3f5f",
             "gridcolor": "white",
             "linecolor": "white",
             "minorgridcolor": "white",
             "startlinecolor": "#2a3f5f"
            },
            "type": "carpet"
           }
          ],
          "choropleth": [
           {
            "colorbar": {
             "outlinewidth": 0,
             "ticks": ""
            },
            "type": "choropleth"
           }
          ],
          "contour": [
           {
            "colorbar": {
             "outlinewidth": 0,
             "ticks": ""
            },
            "colorscale": [
             [
              0,
              "#0d0887"
             ],
             [
              0.1111111111111111,
              "#46039f"
             ],
             [
              0.2222222222222222,
              "#7201a8"
             ],
             [
              0.3333333333333333,
              "#9c179e"
             ],
             [
              0.4444444444444444,
              "#bd3786"
             ],
             [
              0.5555555555555556,
              "#d8576b"
             ],
             [
              0.6666666666666666,
              "#ed7953"
             ],
             [
              0.7777777777777778,
              "#fb9f3a"
             ],
             [
              0.8888888888888888,
              "#fdca26"
             ],
             [
              1,
              "#f0f921"
             ]
            ],
            "type": "contour"
           }
          ],
          "contourcarpet": [
           {
            "colorbar": {
             "outlinewidth": 0,
             "ticks": ""
            },
            "type": "contourcarpet"
           }
          ],
          "heatmap": [
           {
            "colorbar": {
             "outlinewidth": 0,
             "ticks": ""
            },
            "colorscale": [
             [
              0,
              "#0d0887"
             ],
             [
              0.1111111111111111,
              "#46039f"
             ],
             [
              0.2222222222222222,
              "#7201a8"
             ],
             [
              0.3333333333333333,
              "#9c179e"
             ],
             [
              0.4444444444444444,
              "#bd3786"
             ],
             [
              0.5555555555555556,
              "#d8576b"
             ],
             [
              0.6666666666666666,
              "#ed7953"
             ],
             [
              0.7777777777777778,
              "#fb9f3a"
             ],
             [
              0.8888888888888888,
              "#fdca26"
             ],
             [
              1,
              "#f0f921"
             ]
            ],
            "type": "heatmap"
           }
          ],
          "heatmapgl": [
           {
            "colorbar": {
             "outlinewidth": 0,
             "ticks": ""
            },
            "colorscale": [
             [
              0,
              "#0d0887"
             ],
             [
              0.1111111111111111,
              "#46039f"
             ],
             [
              0.2222222222222222,
              "#7201a8"
             ],
             [
              0.3333333333333333,
              "#9c179e"
             ],
             [
              0.4444444444444444,
              "#bd3786"
             ],
             [
              0.5555555555555556,
              "#d8576b"
             ],
             [
              0.6666666666666666,
              "#ed7953"
             ],
             [
              0.7777777777777778,
              "#fb9f3a"
             ],
             [
              0.8888888888888888,
              "#fdca26"
             ],
             [
              1,
              "#f0f921"
             ]
            ],
            "type": "heatmapgl"
           }
          ],
          "histogram": [
           {
            "marker": {
             "pattern": {
              "fillmode": "overlay",
              "size": 10,
              "solidity": 0.2
             }
            },
            "type": "histogram"
           }
          ],
          "histogram2d": [
           {
            "colorbar": {
             "outlinewidth": 0,
             "ticks": ""
            },
            "colorscale": [
             [
              0,
              "#0d0887"
             ],
             [
              0.1111111111111111,
              "#46039f"
             ],
             [
              0.2222222222222222,
              "#7201a8"
             ],
             [
              0.3333333333333333,
              "#9c179e"
             ],
             [
              0.4444444444444444,
              "#bd3786"
             ],
             [
              0.5555555555555556,
              "#d8576b"
             ],
             [
              0.6666666666666666,
              "#ed7953"
             ],
             [
              0.7777777777777778,
              "#fb9f3a"
             ],
             [
              0.8888888888888888,
              "#fdca26"
             ],
             [
              1,
              "#f0f921"
             ]
            ],
            "type": "histogram2d"
           }
          ],
          "histogram2dcontour": [
           {
            "colorbar": {
             "outlinewidth": 0,
             "ticks": ""
            },
            "colorscale": [
             [
              0,
              "#0d0887"
             ],
             [
              0.1111111111111111,
              "#46039f"
             ],
             [
              0.2222222222222222,
              "#7201a8"
             ],
             [
              0.3333333333333333,
              "#9c179e"
             ],
             [
              0.4444444444444444,
              "#bd3786"
             ],
             [
              0.5555555555555556,
              "#d8576b"
             ],
             [
              0.6666666666666666,
              "#ed7953"
             ],
             [
              0.7777777777777778,
              "#fb9f3a"
             ],
             [
              0.8888888888888888,
              "#fdca26"
             ],
             [
              1,
              "#f0f921"
             ]
            ],
            "type": "histogram2dcontour"
           }
          ],
          "mesh3d": [
           {
            "colorbar": {
             "outlinewidth": 0,
             "ticks": ""
            },
            "type": "mesh3d"
           }
          ],
          "parcoords": [
           {
            "line": {
             "colorbar": {
              "outlinewidth": 0,
              "ticks": ""
             }
            },
            "type": "parcoords"
           }
          ],
          "pie": [
           {
            "automargin": true,
            "type": "pie"
           }
          ],
          "scatter": [
           {
            "fillpattern": {
             "fillmode": "overlay",
             "size": 10,
             "solidity": 0.2
            },
            "type": "scatter"
           }
          ],
          "scatter3d": [
           {
            "line": {
             "colorbar": {
              "outlinewidth": 0,
              "ticks": ""
             }
            },
            "marker": {
             "colorbar": {
              "outlinewidth": 0,
              "ticks": ""
             }
            },
            "type": "scatter3d"
           }
          ],
          "scattercarpet": [
           {
            "marker": {
             "colorbar": {
              "outlinewidth": 0,
              "ticks": ""
             }
            },
            "type": "scattercarpet"
           }
          ],
          "scattergeo": [
           {
            "marker": {
             "colorbar": {
              "outlinewidth": 0,
              "ticks": ""
             }
            },
            "type": "scattergeo"
           }
          ],
          "scattergl": [
           {
            "marker": {
             "colorbar": {
              "outlinewidth": 0,
              "ticks": ""
             }
            },
            "type": "scattergl"
           }
          ],
          "scattermapbox": [
           {
            "marker": {
             "colorbar": {
              "outlinewidth": 0,
              "ticks": ""
             }
            },
            "type": "scattermapbox"
           }
          ],
          "scatterpolar": [
           {
            "marker": {
             "colorbar": {
              "outlinewidth": 0,
              "ticks": ""
             }
            },
            "type": "scatterpolar"
           }
          ],
          "scatterpolargl": [
           {
            "marker": {
             "colorbar": {
              "outlinewidth": 0,
              "ticks": ""
             }
            },
            "type": "scatterpolargl"
           }
          ],
          "scatterternary": [
           {
            "marker": {
             "colorbar": {
              "outlinewidth": 0,
              "ticks": ""
             }
            },
            "type": "scatterternary"
           }
          ],
          "surface": [
           {
            "colorbar": {
             "outlinewidth": 0,
             "ticks": ""
            },
            "colorscale": [
             [
              0,
              "#0d0887"
             ],
             [
              0.1111111111111111,
              "#46039f"
             ],
             [
              0.2222222222222222,
              "#7201a8"
             ],
             [
              0.3333333333333333,
              "#9c179e"
             ],
             [
              0.4444444444444444,
              "#bd3786"
             ],
             [
              0.5555555555555556,
              "#d8576b"
             ],
             [
              0.6666666666666666,
              "#ed7953"
             ],
             [
              0.7777777777777778,
              "#fb9f3a"
             ],
             [
              0.8888888888888888,
              "#fdca26"
             ],
             [
              1,
              "#f0f921"
             ]
            ],
            "type": "surface"
           }
          ],
          "table": [
           {
            "cells": {
             "fill": {
              "color": "#EBF0F8"
             },
             "line": {
              "color": "white"
             }
            },
            "header": {
             "fill": {
              "color": "#C8D4E3"
             },
             "line": {
              "color": "white"
             }
            },
            "type": "table"
           }
          ]
         },
         "layout": {
          "annotationdefaults": {
           "arrowcolor": "#2a3f5f",
           "arrowhead": 0,
           "arrowwidth": 1
          },
          "autotypenumbers": "strict",
          "coloraxis": {
           "colorbar": {
            "outlinewidth": 0,
            "ticks": ""
           }
          },
          "colorscale": {
           "diverging": [
            [
             0,
             "#8e0152"
            ],
            [
             0.1,
             "#c51b7d"
            ],
            [
             0.2,
             "#de77ae"
            ],
            [
             0.3,
             "#f1b6da"
            ],
            [
             0.4,
             "#fde0ef"
            ],
            [
             0.5,
             "#f7f7f7"
            ],
            [
             0.6,
             "#e6f5d0"
            ],
            [
             0.7,
             "#b8e186"
            ],
            [
             0.8,
             "#7fbc41"
            ],
            [
             0.9,
             "#4d9221"
            ],
            [
             1,
             "#276419"
            ]
           ],
           "sequential": [
            [
             0,
             "#0d0887"
            ],
            [
             0.1111111111111111,
             "#46039f"
            ],
            [
             0.2222222222222222,
             "#7201a8"
            ],
            [
             0.3333333333333333,
             "#9c179e"
            ],
            [
             0.4444444444444444,
             "#bd3786"
            ],
            [
             0.5555555555555556,
             "#d8576b"
            ],
            [
             0.6666666666666666,
             "#ed7953"
            ],
            [
             0.7777777777777778,
             "#fb9f3a"
            ],
            [
             0.8888888888888888,
             "#fdca26"
            ],
            [
             1,
             "#f0f921"
            ]
           ],
           "sequentialminus": [
            [
             0,
             "#0d0887"
            ],
            [
             0.1111111111111111,
             "#46039f"
            ],
            [
             0.2222222222222222,
             "#7201a8"
            ],
            [
             0.3333333333333333,
             "#9c179e"
            ],
            [
             0.4444444444444444,
             "#bd3786"
            ],
            [
             0.5555555555555556,
             "#d8576b"
            ],
            [
             0.6666666666666666,
             "#ed7953"
            ],
            [
             0.7777777777777778,
             "#fb9f3a"
            ],
            [
             0.8888888888888888,
             "#fdca26"
            ],
            [
             1,
             "#f0f921"
            ]
           ]
          },
          "colorway": [
           "#636efa",
           "#EF553B",
           "#00cc96",
           "#ab63fa",
           "#FFA15A",
           "#19d3f3",
           "#FF6692",
           "#B6E880",
           "#FF97FF",
           "#FECB52"
          ],
          "font": {
           "color": "#2a3f5f"
          },
          "geo": {
           "bgcolor": "white",
           "lakecolor": "white",
           "landcolor": "#E5ECF6",
           "showlakes": true,
           "showland": true,
           "subunitcolor": "white"
          },
          "hoverlabel": {
           "align": "left"
          },
          "hovermode": "closest",
          "mapbox": {
           "style": "light"
          },
          "paper_bgcolor": "white",
          "plot_bgcolor": "#E5ECF6",
          "polar": {
           "angularaxis": {
            "gridcolor": "white",
            "linecolor": "white",
            "ticks": ""
           },
           "bgcolor": "#E5ECF6",
           "radialaxis": {
            "gridcolor": "white",
            "linecolor": "white",
            "ticks": ""
           }
          },
          "scene": {
           "xaxis": {
            "backgroundcolor": "#E5ECF6",
            "gridcolor": "white",
            "gridwidth": 2,
            "linecolor": "white",
            "showbackground": true,
            "ticks": "",
            "zerolinecolor": "white"
           },
           "yaxis": {
            "backgroundcolor": "#E5ECF6",
            "gridcolor": "white",
            "gridwidth": 2,
            "linecolor": "white",
            "showbackground": true,
            "ticks": "",
            "zerolinecolor": "white"
           },
           "zaxis": {
            "backgroundcolor": "#E5ECF6",
            "gridcolor": "white",
            "gridwidth": 2,
            "linecolor": "white",
            "showbackground": true,
            "ticks": "",
            "zerolinecolor": "white"
           }
          },
          "shapedefaults": {
           "line": {
            "color": "#2a3f5f"
           }
          },
          "ternary": {
           "aaxis": {
            "gridcolor": "white",
            "linecolor": "white",
            "ticks": ""
           },
           "baxis": {
            "gridcolor": "white",
            "linecolor": "white",
            "ticks": ""
           },
           "bgcolor": "#E5ECF6",
           "caxis": {
            "gridcolor": "white",
            "linecolor": "white",
            "ticks": ""
           }
          },
          "title": {
           "x": 0.05
          },
          "xaxis": {
           "automargin": true,
           "gridcolor": "white",
           "linecolor": "white",
           "ticks": "",
           "title": {
            "standoff": 15
           },
           "zerolinecolor": "white",
           "zerolinewidth": 2
          },
          "yaxis": {
           "automargin": true,
           "gridcolor": "white",
           "linecolor": "white",
           "ticks": "",
           "title": {
            "standoff": 15
           },
           "zerolinecolor": "white",
           "zerolinewidth": 2
          }
         }
        },
        "title": {
         "text": "Label: Castform"
        },
        "width": 500,
        "xaxis": {
         "anchor": "y",
         "domain": [
          0,
          1
         ],
         "showgrid": false,
         "showticklabels": false,
         "visible": false,
         "zeroline": false
        },
        "yaxis": {
         "anchor": "x",
         "domain": [
          0,
          1
         ],
         "showgrid": false,
         "showticklabels": false,
         "visible": false,
         "zeroline": false
        }
       }
      }
     },
     "metadata": {},
     "output_type": "display_data"
    },
    {
     "data": {
      "application/vnd.plotly.v1+json": {
       "config": {
        "plotlyServerURL": "https://plot.ly"
       },
       "data": [
        {
         "hovertemplate": "x: %{x}<br>y: %{y}<br>color: [%{z[0]}, %{z[1]}, %{z[2]}]<extra></extra>",
         "name": "0",
         "source": "data:image/png;base64,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",
         "type": "image",
         "xaxis": "x",
         "yaxis": "y"
        }
       ],
       "layout": {
        "height": 350,
        "margin": {
         "l": 0,
         "t": 60
        },
        "shapes": [
         {
          "line": {
           "color": "black",
           "width": 2
          },
          "type": "rect",
          "x0": 0,
          "x1": 128,
          "xref": "x",
          "y0": 0,
          "y1": 128,
          "yref": "y"
         }
        ],
        "template": {
         "data": {
          "bar": [
           {
            "error_x": {
             "color": "#2a3f5f"
            },
            "error_y": {
             "color": "#2a3f5f"
            },
            "marker": {
             "line": {
              "color": "#E5ECF6",
              "width": 0.5
             },
             "pattern": {
              "fillmode": "overlay",
              "size": 10,
              "solidity": 0.2
             }
            },
            "type": "bar"
           }
          ],
          "barpolar": [
           {
            "marker": {
             "line": {
              "color": "#E5ECF6",
              "width": 0.5
             },
             "pattern": {
              "fillmode": "overlay",
              "size": 10,
              "solidity": 0.2
             }
            },
            "type": "barpolar"
           }
          ],
          "carpet": [
           {
            "aaxis": {
             "endlinecolor": "#2a3f5f",
             "gridcolor": "white",
             "linecolor": "white",
             "minorgridcolor": "white",
             "startlinecolor": "#2a3f5f"
            },
            "baxis": {
             "endlinecolor": "#2a3f5f",
             "gridcolor": "white",
             "linecolor": "white",
             "minorgridcolor": "white",
             "startlinecolor": "#2a3f5f"
            },
            "type": "carpet"
           }
          ],
          "choropleth": [
           {
            "colorbar": {
             "outlinewidth": 0,
             "ticks": ""
            },
            "type": "choropleth"
           }
          ],
          "contour": [
           {
            "colorbar": {
             "outlinewidth": 0,
             "ticks": ""
            },
            "colorscale": [
             [
              0,
              "#0d0887"
             ],
             [
              0.1111111111111111,
              "#46039f"
             ],
             [
              0.2222222222222222,
              "#7201a8"
             ],
             [
              0.3333333333333333,
              "#9c179e"
             ],
             [
              0.4444444444444444,
              "#bd3786"
             ],
             [
              0.5555555555555556,
              "#d8576b"
             ],
             [
              0.6666666666666666,
              "#ed7953"
             ],
             [
              0.7777777777777778,
              "#fb9f3a"
             ],
             [
              0.8888888888888888,
              "#fdca26"
             ],
             [
              1,
              "#f0f921"
             ]
            ],
            "type": "contour"
           }
          ],
          "contourcarpet": [
           {
            "colorbar": {
             "outlinewidth": 0,
             "ticks": ""
            },
            "type": "contourcarpet"
           }
          ],
          "heatmap": [
           {
            "colorbar": {
             "outlinewidth": 0,
             "ticks": ""
            },
            "colorscale": [
             [
              0,
              "#0d0887"
             ],
             [
              0.1111111111111111,
              "#46039f"
             ],
             [
              0.2222222222222222,
              "#7201a8"
             ],
             [
              0.3333333333333333,
              "#9c179e"
             ],
             [
              0.4444444444444444,
              "#bd3786"
             ],
             [
              0.5555555555555556,
              "#d8576b"
             ],
             [
              0.6666666666666666,
              "#ed7953"
             ],
             [
              0.7777777777777778,
              "#fb9f3a"
             ],
             [
              0.8888888888888888,
              "#fdca26"
             ],
             [
              1,
              "#f0f921"
             ]
            ],
            "type": "heatmap"
           }
          ],
          "heatmapgl": [
           {
            "colorbar": {
             "outlinewidth": 0,
             "ticks": ""
            },
            "colorscale": [
             [
              0,
              "#0d0887"
             ],
             [
              0.1111111111111111,
              "#46039f"
             ],
             [
              0.2222222222222222,
              "#7201a8"
             ],
             [
              0.3333333333333333,
              "#9c179e"
             ],
             [
              0.4444444444444444,
              "#bd3786"
             ],
             [
              0.5555555555555556,
              "#d8576b"
             ],
             [
              0.6666666666666666,
              "#ed7953"
             ],
             [
              0.7777777777777778,
              "#fb9f3a"
             ],
             [
              0.8888888888888888,
              "#fdca26"
             ],
             [
              1,
              "#f0f921"
             ]
            ],
            "type": "heatmapgl"
           }
          ],
          "histogram": [
           {
            "marker": {
             "pattern": {
              "fillmode": "overlay",
              "size": 10,
              "solidity": 0.2
             }
            },
            "type": "histogram"
           }
          ],
          "histogram2d": [
           {
            "colorbar": {
             "outlinewidth": 0,
             "ticks": ""
            },
            "colorscale": [
             [
              0,
              "#0d0887"
             ],
             [
              0.1111111111111111,
              "#46039f"
             ],
             [
              0.2222222222222222,
              "#7201a8"
             ],
             [
              0.3333333333333333,
              "#9c179e"
             ],
             [
              0.4444444444444444,
              "#bd3786"
             ],
             [
              0.5555555555555556,
              "#d8576b"
             ],
             [
              0.6666666666666666,
              "#ed7953"
             ],
             [
              0.7777777777777778,
              "#fb9f3a"
             ],
             [
              0.8888888888888888,
              "#fdca26"
             ],
             [
              1,
              "#f0f921"
             ]
            ],
            "type": "histogram2d"
           }
          ],
          "histogram2dcontour": [
           {
            "colorbar": {
             "outlinewidth": 0,
             "ticks": ""
            },
            "colorscale": [
             [
              0,
              "#0d0887"
             ],
             [
              0.1111111111111111,
              "#46039f"
             ],
             [
              0.2222222222222222,
              "#7201a8"
             ],
             [
              0.3333333333333333,
              "#9c179e"
             ],
             [
              0.4444444444444444,
              "#bd3786"
             ],
             [
              0.5555555555555556,
              "#d8576b"
             ],
             [
              0.6666666666666666,
              "#ed7953"
             ],
             [
              0.7777777777777778,
              "#fb9f3a"
             ],
             [
              0.8888888888888888,
              "#fdca26"
             ],
             [
              1,
              "#f0f921"
             ]
            ],
            "type": "histogram2dcontour"
           }
          ],
          "mesh3d": [
           {
            "colorbar": {
             "outlinewidth": 0,
             "ticks": ""
            },
            "type": "mesh3d"
           }
          ],
          "parcoords": [
           {
            "line": {
             "colorbar": {
              "outlinewidth": 0,
              "ticks": ""
             }
            },
            "type": "parcoords"
           }
          ],
          "pie": [
           {
            "automargin": true,
            "type": "pie"
           }
          ],
          "scatter": [
           {
            "fillpattern": {
             "fillmode": "overlay",
             "size": 10,
             "solidity": 0.2
            },
            "type": "scatter"
           }
          ],
          "scatter3d": [
           {
            "line": {
             "colorbar": {
              "outlinewidth": 0,
              "ticks": ""
             }
            },
            "marker": {
             "colorbar": {
              "outlinewidth": 0,
              "ticks": ""
             }
            },
            "type": "scatter3d"
           }
          ],
          "scattercarpet": [
           {
            "marker": {
             "colorbar": {
              "outlinewidth": 0,
              "ticks": ""
             }
            },
            "type": "scattercarpet"
           }
          ],
          "scattergeo": [
           {
            "marker": {
             "colorbar": {
              "outlinewidth": 0,
              "ticks": ""
             }
            },
            "type": "scattergeo"
           }
          ],
          "scattergl": [
           {
            "marker": {
             "colorbar": {
              "outlinewidth": 0,
              "ticks": ""
             }
            },
            "type": "scattergl"
           }
          ],
          "scattermapbox": [
           {
            "marker": {
             "colorbar": {
              "outlinewidth": 0,
              "ticks": ""
             }
            },
            "type": "scattermapbox"
           }
          ],
          "scatterpolar": [
           {
            "marker": {
             "colorbar": {
              "outlinewidth": 0,
              "ticks": ""
             }
            },
            "type": "scatterpolar"
           }
          ],
          "scatterpolargl": [
           {
            "marker": {
             "colorbar": {
              "outlinewidth": 0,
              "ticks": ""
             }
            },
            "type": "scatterpolargl"
           }
          ],
          "scatterternary": [
           {
            "marker": {
             "colorbar": {
              "outlinewidth": 0,
              "ticks": ""
             }
            },
            "type": "scatterternary"
           }
          ],
          "surface": [
           {
            "colorbar": {
             "outlinewidth": 0,
             "ticks": ""
            },
            "colorscale": [
             [
              0,
              "#0d0887"
             ],
             [
              0.1111111111111111,
              "#46039f"
             ],
             [
              0.2222222222222222,
              "#7201a8"
             ],
             [
              0.3333333333333333,
              "#9c179e"
             ],
             [
              0.4444444444444444,
              "#bd3786"
             ],
             [
              0.5555555555555556,
              "#d8576b"
             ],
             [
              0.6666666666666666,
              "#ed7953"
             ],
             [
              0.7777777777777778,
              "#fb9f3a"
             ],
             [
              0.8888888888888888,
              "#fdca26"
             ],
             [
              1,
              "#f0f921"
             ]
            ],
            "type": "surface"
           }
          ],
          "table": [
           {
            "cells": {
             "fill": {
              "color": "#EBF0F8"
             },
             "line": {
              "color": "white"
             }
            },
            "header": {
             "fill": {
              "color": "#C8D4E3"
             },
             "line": {
              "color": "white"
             }
            },
            "type": "table"
           }
          ]
         },
         "layout": {
          "annotationdefaults": {
           "arrowcolor": "#2a3f5f",
           "arrowhead": 0,
           "arrowwidth": 1
          },
          "autotypenumbers": "strict",
          "coloraxis": {
           "colorbar": {
            "outlinewidth": 0,
            "ticks": ""
           }
          },
          "colorscale": {
           "diverging": [
            [
             0,
             "#8e0152"
            ],
            [
             0.1,
             "#c51b7d"
            ],
            [
             0.2,
             "#de77ae"
            ],
            [
             0.3,
             "#f1b6da"
            ],
            [
             0.4,
             "#fde0ef"
            ],
            [
             0.5,
             "#f7f7f7"
            ],
            [
             0.6,
             "#e6f5d0"
            ],
            [
             0.7,
             "#b8e186"
            ],
            [
             0.8,
             "#7fbc41"
            ],
            [
             0.9,
             "#4d9221"
            ],
            [
             1,
             "#276419"
            ]
           ],
           "sequential": [
            [
             0,
             "#0d0887"
            ],
            [
             0.1111111111111111,
             "#46039f"
            ],
            [
             0.2222222222222222,
             "#7201a8"
            ],
            [
             0.3333333333333333,
             "#9c179e"
            ],
            [
             0.4444444444444444,
             "#bd3786"
            ],
            [
             0.5555555555555556,
             "#d8576b"
            ],
            [
             0.6666666666666666,
             "#ed7953"
            ],
            [
             0.7777777777777778,
             "#fb9f3a"
            ],
            [
             0.8888888888888888,
             "#fdca26"
            ],
            [
             1,
             "#f0f921"
            ]
           ],
           "sequentialminus": [
            [
             0,
             "#0d0887"
            ],
            [
             0.1111111111111111,
             "#46039f"
            ],
            [
             0.2222222222222222,
             "#7201a8"
            ],
            [
             0.3333333333333333,
             "#9c179e"
            ],
            [
             0.4444444444444444,
             "#bd3786"
            ],
            [
             0.5555555555555556,
             "#d8576b"
            ],
            [
             0.6666666666666666,
             "#ed7953"
            ],
            [
             0.7777777777777778,
             "#fb9f3a"
            ],
            [
             0.8888888888888888,
             "#fdca26"
            ],
            [
             1,
             "#f0f921"
            ]
           ]
          },
          "colorway": [
           "#636efa",
           "#EF553B",
           "#00cc96",
           "#ab63fa",
           "#FFA15A",
           "#19d3f3",
           "#FF6692",
           "#B6E880",
           "#FF97FF",
           "#FECB52"
          ],
          "font": {
           "color": "#2a3f5f"
          },
          "geo": {
           "bgcolor": "white",
           "lakecolor": "white",
           "landcolor": "#E5ECF6",
           "showlakes": true,
           "showland": true,
           "subunitcolor": "white"
          },
          "hoverlabel": {
           "align": "left"
          },
          "hovermode": "closest",
          "mapbox": {
           "style": "light"
          },
          "paper_bgcolor": "white",
          "plot_bgcolor": "#E5ECF6",
          "polar": {
           "angularaxis": {
            "gridcolor": "white",
            "linecolor": "white",
            "ticks": ""
           },
           "bgcolor": "#E5ECF6",
           "radialaxis": {
            "gridcolor": "white",
            "linecolor": "white",
            "ticks": ""
           }
          },
          "scene": {
           "xaxis": {
            "backgroundcolor": "#E5ECF6",
            "gridcolor": "white",
            "gridwidth": 2,
            "linecolor": "white",
            "showbackground": true,
            "ticks": "",
            "zerolinecolor": "white"
           },
           "yaxis": {
            "backgroundcolor": "#E5ECF6",
            "gridcolor": "white",
            "gridwidth": 2,
            "linecolor": "white",
            "showbackground": true,
            "ticks": "",
            "zerolinecolor": "white"
           },
           "zaxis": {
            "backgroundcolor": "#E5ECF6",
            "gridcolor": "white",
            "gridwidth": 2,
            "linecolor": "white",
            "showbackground": true,
            "ticks": "",
            "zerolinecolor": "white"
           }
          },
          "shapedefaults": {
           "line": {
            "color": "#2a3f5f"
           }
          },
          "ternary": {
           "aaxis": {
            "gridcolor": "white",
            "linecolor": "white",
            "ticks": ""
           },
           "baxis": {
            "gridcolor": "white",
            "linecolor": "white",
            "ticks": ""
           },
           "bgcolor": "#E5ECF6",
           "caxis": {
            "gridcolor": "white",
            "linecolor": "white",
            "ticks": ""
           }
          },
          "title": {
           "x": 0.05
          },
          "xaxis": {
           "automargin": true,
           "gridcolor": "white",
           "linecolor": "white",
           "ticks": "",
           "title": {
            "standoff": 15
           },
           "zerolinecolor": "white",
           "zerolinewidth": 2
          },
          "yaxis": {
           "automargin": true,
           "gridcolor": "white",
           "linecolor": "white",
           "ticks": "",
           "title": {
            "standoff": 15
           },
           "zerolinecolor": "white",
           "zerolinewidth": 2
          }
         }
        },
        "title": {
         "text": "Label: Swablu"
        },
        "width": 500,
        "xaxis": {
         "anchor": "y",
         "domain": [
          0,
          1
         ],
         "showgrid": false,
         "showticklabels": false,
         "visible": false,
         "zeroline": false
        },
        "yaxis": {
         "anchor": "x",
         "domain": [
          0,
          1
         ],
         "showgrid": false,
         "showticklabels": false,
         "visible": false,
         "zeroline": false
        }
       }
      }
     },
     "metadata": {},
     "output_type": "display_data"
    },
    {
     "data": {
      "application/vnd.plotly.v1+json": {
       "config": {
        "plotlyServerURL": "https://plot.ly"
       },
       "data": [
        {
         "hovertemplate": "x: %{x}<br>y: %{y}<br>color: [%{z[0]}, %{z[1]}, %{z[2]}]<extra></extra>",
         "name": "0",
         "source": "data:image/png;base64,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",
         "type": "image",
         "xaxis": "x",
         "yaxis": "y"
        }
       ],
       "layout": {
        "height": 350,
        "margin": {
         "l": 0,
         "t": 60
        },
        "shapes": [
         {
          "line": {
           "color": "black",
           "width": 2
          },
          "type": "rect",
          "x0": 0,
          "x1": 128,
          "xref": "x",
          "y0": 0,
          "y1": 128,
          "yref": "y"
         }
        ],
        "template": {
         "data": {
          "bar": [
           {
            "error_x": {
             "color": "#2a3f5f"
            },
            "error_y": {
             "color": "#2a3f5f"
            },
            "marker": {
             "line": {
              "color": "#E5ECF6",
              "width": 0.5
             },
             "pattern": {
              "fillmode": "overlay",
              "size": 10,
              "solidity": 0.2
             }
            },
            "type": "bar"
           }
          ],
          "barpolar": [
           {
            "marker": {
             "line": {
              "color": "#E5ECF6",
              "width": 0.5
             },
             "pattern": {
              "fillmode": "overlay",
              "size": 10,
              "solidity": 0.2
             }
            },
            "type": "barpolar"
           }
          ],
          "carpet": [
           {
            "aaxis": {
             "endlinecolor": "#2a3f5f",
             "gridcolor": "white",
             "linecolor": "white",
             "minorgridcolor": "white",
             "startlinecolor": "#2a3f5f"
            },
            "baxis": {
             "endlinecolor": "#2a3f5f",
             "gridcolor": "white",
             "linecolor": "white",
             "minorgridcolor": "white",
             "startlinecolor": "#2a3f5f"
            },
            "type": "carpet"
           }
          ],
          "choropleth": [
           {
            "colorbar": {
             "outlinewidth": 0,
             "ticks": ""
            },
            "type": "choropleth"
           }
          ],
          "contour": [
           {
            "colorbar": {
             "outlinewidth": 0,
             "ticks": ""
            },
            "colorscale": [
             [
              0,
              "#0d0887"
             ],
             [
              0.1111111111111111,
              "#46039f"
             ],
             [
              0.2222222222222222,
              "#7201a8"
             ],
             [
              0.3333333333333333,
              "#9c179e"
             ],
             [
              0.4444444444444444,
              "#bd3786"
             ],
             [
              0.5555555555555556,
              "#d8576b"
             ],
             [
              0.6666666666666666,
              "#ed7953"
             ],
             [
              0.7777777777777778,
              "#fb9f3a"
             ],
             [
              0.8888888888888888,
              "#fdca26"
             ],
             [
              1,
              "#f0f921"
             ]
            ],
            "type": "contour"
           }
          ],
          "contourcarpet": [
           {
            "colorbar": {
             "outlinewidth": 0,
             "ticks": ""
            },
            "type": "contourcarpet"
           }
          ],
          "heatmap": [
           {
            "colorbar": {
             "outlinewidth": 0,
             "ticks": ""
            },
            "colorscale": [
             [
              0,
              "#0d0887"
             ],
             [
              0.1111111111111111,
              "#46039f"
             ],
             [
              0.2222222222222222,
              "#7201a8"
             ],
             [
              0.3333333333333333,
              "#9c179e"
             ],
             [
              0.4444444444444444,
              "#bd3786"
             ],
             [
              0.5555555555555556,
              "#d8576b"
             ],
             [
              0.6666666666666666,
              "#ed7953"
             ],
             [
              0.7777777777777778,
              "#fb9f3a"
             ],
             [
              0.8888888888888888,
              "#fdca26"
             ],
             [
              1,
              "#f0f921"
             ]
            ],
            "type": "heatmap"
           }
          ],
          "heatmapgl": [
           {
            "colorbar": {
             "outlinewidth": 0,
             "ticks": ""
            },
            "colorscale": [
             [
              0,
              "#0d0887"
             ],
             [
              0.1111111111111111,
              "#46039f"
             ],
             [
              0.2222222222222222,
              "#7201a8"
             ],
             [
              0.3333333333333333,
              "#9c179e"
             ],
             [
              0.4444444444444444,
              "#bd3786"
             ],
             [
              0.5555555555555556,
              "#d8576b"
             ],
             [
              0.6666666666666666,
              "#ed7953"
             ],
             [
              0.7777777777777778,
              "#fb9f3a"
             ],
             [
              0.8888888888888888,
              "#fdca26"
             ],
             [
              1,
              "#f0f921"
             ]
            ],
            "type": "heatmapgl"
           }
          ],
          "histogram": [
           {
            "marker": {
             "pattern": {
              "fillmode": "overlay",
              "size": 10,
              "solidity": 0.2
             }
            },
            "type": "histogram"
           }
          ],
          "histogram2d": [
           {
            "colorbar": {
             "outlinewidth": 0,
             "ticks": ""
            },
            "colorscale": [
             [
              0,
              "#0d0887"
             ],
             [
              0.1111111111111111,
              "#46039f"
             ],
             [
              0.2222222222222222,
              "#7201a8"
             ],
             [
              0.3333333333333333,
              "#9c179e"
             ],
             [
              0.4444444444444444,
              "#bd3786"
             ],
             [
              0.5555555555555556,
              "#d8576b"
             ],
             [
              0.6666666666666666,
              "#ed7953"
             ],
             [
              0.7777777777777778,
              "#fb9f3a"
             ],
             [
              0.8888888888888888,
              "#fdca26"
             ],
             [
              1,
              "#f0f921"
             ]
            ],
            "type": "histogram2d"
           }
          ],
          "histogram2dcontour": [
           {
            "colorbar": {
             "outlinewidth": 0,
             "ticks": ""
            },
            "colorscale": [
             [
              0,
              "#0d0887"
             ],
             [
              0.1111111111111111,
              "#46039f"
             ],
             [
              0.2222222222222222,
              "#7201a8"
             ],
             [
              0.3333333333333333,
              "#9c179e"
             ],
             [
              0.4444444444444444,
              "#bd3786"
             ],
             [
              0.5555555555555556,
              "#d8576b"
             ],
             [
              0.6666666666666666,
              "#ed7953"
             ],
             [
              0.7777777777777778,
              "#fb9f3a"
             ],
             [
              0.8888888888888888,
              "#fdca26"
             ],
             [
              1,
              "#f0f921"
             ]
            ],
            "type": "histogram2dcontour"
           }
          ],
          "mesh3d": [
           {
            "colorbar": {
             "outlinewidth": 0,
             "ticks": ""
            },
            "type": "mesh3d"
           }
          ],
          "parcoords": [
           {
            "line": {
             "colorbar": {
              "outlinewidth": 0,
              "ticks": ""
             }
            },
            "type": "parcoords"
           }
          ],
          "pie": [
           {
            "automargin": true,
            "type": "pie"
           }
          ],
          "scatter": [
           {
            "fillpattern": {
             "fillmode": "overlay",
             "size": 10,
             "solidity": 0.2
            },
            "type": "scatter"
           }
          ],
          "scatter3d": [
           {
            "line": {
             "colorbar": {
              "outlinewidth": 0,
              "ticks": ""
             }
            },
            "marker": {
             "colorbar": {
              "outlinewidth": 0,
              "ticks": ""
             }
            },
            "type": "scatter3d"
           }
          ],
          "scattercarpet": [
           {
            "marker": {
             "colorbar": {
              "outlinewidth": 0,
              "ticks": ""
             }
            },
            "type": "scattercarpet"
           }
          ],
          "scattergeo": [
           {
            "marker": {
             "colorbar": {
              "outlinewidth": 0,
              "ticks": ""
             }
            },
            "type": "scattergeo"
           }
          ],
          "scattergl": [
           {
            "marker": {
             "colorbar": {
              "outlinewidth": 0,
              "ticks": ""
             }
            },
            "type": "scattergl"
           }
          ],
          "scattermapbox": [
           {
            "marker": {
             "colorbar": {
              "outlinewidth": 0,
              "ticks": ""
             }
            },
            "type": "scattermapbox"
           }
          ],
          "scatterpolar": [
           {
            "marker": {
             "colorbar": {
              "outlinewidth": 0,
              "ticks": ""
             }
            },
            "type": "scatterpolar"
           }
          ],
          "scatterpolargl": [
           {
            "marker": {
             "colorbar": {
              "outlinewidth": 0,
              "ticks": ""
             }
            },
            "type": "scatterpolargl"
           }
          ],
          "scatterternary": [
           {
            "marker": {
             "colorbar": {
              "outlinewidth": 0,
              "ticks": ""
             }
            },
            "type": "scatterternary"
           }
          ],
          "surface": [
           {
            "colorbar": {
             "outlinewidth": 0,
             "ticks": ""
            },
            "colorscale": [
             [
              0,
              "#0d0887"
             ],
             [
              0.1111111111111111,
              "#46039f"
             ],
             [
              0.2222222222222222,
              "#7201a8"
             ],
             [
              0.3333333333333333,
              "#9c179e"
             ],
             [
              0.4444444444444444,
              "#bd3786"
             ],
             [
              0.5555555555555556,
              "#d8576b"
             ],
             [
              0.6666666666666666,
              "#ed7953"
             ],
             [
              0.7777777777777778,
              "#fb9f3a"
             ],
             [
              0.8888888888888888,
              "#fdca26"
             ],
             [
              1,
              "#f0f921"
             ]
            ],
            "type": "surface"
           }
          ],
          "table": [
           {
            "cells": {
             "fill": {
              "color": "#EBF0F8"
             },
             "line": {
              "color": "white"
             }
            },
            "header": {
             "fill": {
              "color": "#C8D4E3"
             },
             "line": {
              "color": "white"
             }
            },
            "type": "table"
           }
          ]
         },
         "layout": {
          "annotationdefaults": {
           "arrowcolor": "#2a3f5f",
           "arrowhead": 0,
           "arrowwidth": 1
          },
          "autotypenumbers": "strict",
          "coloraxis": {
           "colorbar": {
            "outlinewidth": 0,
            "ticks": ""
           }
          },
          "colorscale": {
           "diverging": [
            [
             0,
             "#8e0152"
            ],
            [
             0.1,
             "#c51b7d"
            ],
            [
             0.2,
             "#de77ae"
            ],
            [
             0.3,
             "#f1b6da"
            ],
            [
             0.4,
             "#fde0ef"
            ],
            [
             0.5,
             "#f7f7f7"
            ],
            [
             0.6,
             "#e6f5d0"
            ],
            [
             0.7,
             "#b8e186"
            ],
            [
             0.8,
             "#7fbc41"
            ],
            [
             0.9,
             "#4d9221"
            ],
            [
             1,
             "#276419"
            ]
           ],
           "sequential": [
            [
             0,
             "#0d0887"
            ],
            [
             0.1111111111111111,
             "#46039f"
            ],
            [
             0.2222222222222222,
             "#7201a8"
            ],
            [
             0.3333333333333333,
             "#9c179e"
            ],
            [
             0.4444444444444444,
             "#bd3786"
            ],
            [
             0.5555555555555556,
             "#d8576b"
            ],
            [
             0.6666666666666666,
             "#ed7953"
            ],
            [
             0.7777777777777778,
             "#fb9f3a"
            ],
            [
             0.8888888888888888,
             "#fdca26"
            ],
            [
             1,
             "#f0f921"
            ]
           ],
           "sequentialminus": [
            [
             0,
             "#0d0887"
            ],
            [
             0.1111111111111111,
             "#46039f"
            ],
            [
             0.2222222222222222,
             "#7201a8"
            ],
            [
             0.3333333333333333,
             "#9c179e"
            ],
            [
             0.4444444444444444,
             "#bd3786"
            ],
            [
             0.5555555555555556,
             "#d8576b"
            ],
            [
             0.6666666666666666,
             "#ed7953"
            ],
            [
             0.7777777777777778,
             "#fb9f3a"
            ],
            [
             0.8888888888888888,
             "#fdca26"
            ],
            [
             1,
             "#f0f921"
            ]
           ]
          },
          "colorway": [
           "#636efa",
           "#EF553B",
           "#00cc96",
           "#ab63fa",
           "#FFA15A",
           "#19d3f3",
           "#FF6692",
           "#B6E880",
           "#FF97FF",
           "#FECB52"
          ],
          "font": {
           "color": "#2a3f5f"
          },
          "geo": {
           "bgcolor": "white",
           "lakecolor": "white",
           "landcolor": "#E5ECF6",
           "showlakes": true,
           "showland": true,
           "subunitcolor": "white"
          },
          "hoverlabel": {
           "align": "left"
          },
          "hovermode": "closest",
          "mapbox": {
           "style": "light"
          },
          "paper_bgcolor": "white",
          "plot_bgcolor": "#E5ECF6",
          "polar": {
           "angularaxis": {
            "gridcolor": "white",
            "linecolor": "white",
            "ticks": ""
           },
           "bgcolor": "#E5ECF6",
           "radialaxis": {
            "gridcolor": "white",
            "linecolor": "white",
            "ticks": ""
           }
          },
          "scene": {
           "xaxis": {
            "backgroundcolor": "#E5ECF6",
            "gridcolor": "white",
            "gridwidth": 2,
            "linecolor": "white",
            "showbackground": true,
            "ticks": "",
            "zerolinecolor": "white"
           },
           "yaxis": {
            "backgroundcolor": "#E5ECF6",
            "gridcolor": "white",
            "gridwidth": 2,
            "linecolor": "white",
            "showbackground": true,
            "ticks": "",
            "zerolinecolor": "white"
           },
           "zaxis": {
            "backgroundcolor": "#E5ECF6",
            "gridcolor": "white",
            "gridwidth": 2,
            "linecolor": "white",
            "showbackground": true,
            "ticks": "",
            "zerolinecolor": "white"
           }
          },
          "shapedefaults": {
           "line": {
            "color": "#2a3f5f"
           }
          },
          "ternary": {
           "aaxis": {
            "gridcolor": "white",
            "linecolor": "white",
            "ticks": ""
           },
           "baxis": {
            "gridcolor": "white",
            "linecolor": "white",
            "ticks": ""
           },
           "bgcolor": "#E5ECF6",
           "caxis": {
            "gridcolor": "white",
            "linecolor": "white",
            "ticks": ""
           }
          },
          "title": {
           "x": 0.05
          },
          "xaxis": {
           "automargin": true,
           "gridcolor": "white",
           "linecolor": "white",
           "ticks": "",
           "title": {
            "standoff": 15
           },
           "zerolinecolor": "white",
           "zerolinewidth": 2
          },
          "yaxis": {
           "automargin": true,
           "gridcolor": "white",
           "linecolor": "white",
           "ticks": "",
           "title": {
            "standoff": 15
           },
           "zerolinecolor": "white",
           "zerolinewidth": 2
          }
         }
        },
        "title": {
         "text": "Label: Gallade"
        },
        "width": 500,
        "xaxis": {
         "anchor": "y",
         "domain": [
          0,
          1
         ],
         "showgrid": false,
         "showticklabels": false,
         "visible": false,
         "zeroline": false
        },
        "yaxis": {
         "anchor": "x",
         "domain": [
          0,
          1
         ],
         "showgrid": false,
         "showticklabels": false,
         "visible": false,
         "zeroline": false
        }
       }
      }
     },
     "metadata": {},
     "output_type": "display_data"
    },
    {
     "data": {
      "application/vnd.plotly.v1+json": {
       "config": {
        "plotlyServerURL": "https://plot.ly"
       },
       "data": [
        {
         "hovertemplate": "x: %{x}<br>y: %{y}<br>color: [%{z[0]}, %{z[1]}, %{z[2]}]<extra></extra>",
         "name": "0",
         "source": "data:image/png;base64,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",
         "type": "image",
         "xaxis": "x",
         "yaxis": "y"
        }
       ],
       "layout": {
        "height": 350,
        "margin": {
         "l": 0,
         "t": 60
        },
        "shapes": [
         {
          "line": {
           "color": "black",
           "width": 2
          },
          "type": "rect",
          "x0": 0,
          "x1": 128,
          "xref": "x",
          "y0": 0,
          "y1": 128,
          "yref": "y"
         }
        ],
        "template": {
         "data": {
          "bar": [
           {
            "error_x": {
             "color": "#2a3f5f"
            },
            "error_y": {
             "color": "#2a3f5f"
            },
            "marker": {
             "line": {
              "color": "#E5ECF6",
              "width": 0.5
             },
             "pattern": {
              "fillmode": "overlay",
              "size": 10,
              "solidity": 0.2
             }
            },
            "type": "bar"
           }
          ],
          "barpolar": [
           {
            "marker": {
             "line": {
              "color": "#E5ECF6",
              "width": 0.5
             },
             "pattern": {
              "fillmode": "overlay",
              "size": 10,
              "solidity": 0.2
             }
            },
            "type": "barpolar"
           }
          ],
          "carpet": [
           {
            "aaxis": {
             "endlinecolor": "#2a3f5f",
             "gridcolor": "white",
             "linecolor": "white",
             "minorgridcolor": "white",
             "startlinecolor": "#2a3f5f"
            },
            "baxis": {
             "endlinecolor": "#2a3f5f",
             "gridcolor": "white",
             "linecolor": "white",
             "minorgridcolor": "white",
             "startlinecolor": "#2a3f5f"
            },
            "type": "carpet"
           }
          ],
          "choropleth": [
           {
            "colorbar": {
             "outlinewidth": 0,
             "ticks": ""
            },
            "type": "choropleth"
           }
          ],
          "contour": [
           {
            "colorbar": {
             "outlinewidth": 0,
             "ticks": ""
            },
            "colorscale": [
             [
              0,
              "#0d0887"
             ],
             [
              0.1111111111111111,
              "#46039f"
             ],
             [
              0.2222222222222222,
              "#7201a8"
             ],
             [
              0.3333333333333333,
              "#9c179e"
             ],
             [
              0.4444444444444444,
              "#bd3786"
             ],
             [
              0.5555555555555556,
              "#d8576b"
             ],
             [
              0.6666666666666666,
              "#ed7953"
             ],
             [
              0.7777777777777778,
              "#fb9f3a"
             ],
             [
              0.8888888888888888,
              "#fdca26"
             ],
             [
              1,
              "#f0f921"
             ]
            ],
            "type": "contour"
           }
          ],
          "contourcarpet": [
           {
            "colorbar": {
             "outlinewidth": 0,
             "ticks": ""
            },
            "type": "contourcarpet"
           }
          ],
          "heatmap": [
           {
            "colorbar": {
             "outlinewidth": 0,
             "ticks": ""
            },
            "colorscale": [
             [
              0,
              "#0d0887"
             ],
             [
              0.1111111111111111,
              "#46039f"
             ],
             [
              0.2222222222222222,
              "#7201a8"
             ],
             [
              0.3333333333333333,
              "#9c179e"
             ],
             [
              0.4444444444444444,
              "#bd3786"
             ],
             [
              0.5555555555555556,
              "#d8576b"
             ],
             [
              0.6666666666666666,
              "#ed7953"
             ],
             [
              0.7777777777777778,
              "#fb9f3a"
             ],
             [
              0.8888888888888888,
              "#fdca26"
             ],
             [
              1,
              "#f0f921"
             ]
            ],
            "type": "heatmap"
           }
          ],
          "heatmapgl": [
           {
            "colorbar": {
             "outlinewidth": 0,
             "ticks": ""
            },
            "colorscale": [
             [
              0,
              "#0d0887"
             ],
             [
              0.1111111111111111,
              "#46039f"
             ],
             [
              0.2222222222222222,
              "#7201a8"
             ],
             [
              0.3333333333333333,
              "#9c179e"
             ],
             [
              0.4444444444444444,
              "#bd3786"
             ],
             [
              0.5555555555555556,
              "#d8576b"
             ],
             [
              0.6666666666666666,
              "#ed7953"
             ],
             [
              0.7777777777777778,
              "#fb9f3a"
             ],
             [
              0.8888888888888888,
              "#fdca26"
             ],
             [
              1,
              "#f0f921"
             ]
            ],
            "type": "heatmapgl"
           }
          ],
          "histogram": [
           {
            "marker": {
             "pattern": {
              "fillmode": "overlay",
              "size": 10,
              "solidity": 0.2
             }
            },
            "type": "histogram"
           }
          ],
          "histogram2d": [
           {
            "colorbar": {
             "outlinewidth": 0,
             "ticks": ""
            },
            "colorscale": [
             [
              0,
              "#0d0887"
             ],
             [
              0.1111111111111111,
              "#46039f"
             ],
             [
              0.2222222222222222,
              "#7201a8"
             ],
             [
              0.3333333333333333,
              "#9c179e"
             ],
             [
              0.4444444444444444,
              "#bd3786"
             ],
             [
              0.5555555555555556,
              "#d8576b"
             ],
             [
              0.6666666666666666,
              "#ed7953"
             ],
             [
              0.7777777777777778,
              "#fb9f3a"
             ],
             [
              0.8888888888888888,
              "#fdca26"
             ],
             [
              1,
              "#f0f921"
             ]
            ],
            "type": "histogram2d"
           }
          ],
          "histogram2dcontour": [
           {
            "colorbar": {
             "outlinewidth": 0,
             "ticks": ""
            },
            "colorscale": [
             [
              0,
              "#0d0887"
             ],
             [
              0.1111111111111111,
              "#46039f"
             ],
             [
              0.2222222222222222,
              "#7201a8"
             ],
             [
              0.3333333333333333,
              "#9c179e"
             ],
             [
              0.4444444444444444,
              "#bd3786"
             ],
             [
              0.5555555555555556,
              "#d8576b"
             ],
             [
              0.6666666666666666,
              "#ed7953"
             ],
             [
              0.7777777777777778,
              "#fb9f3a"
             ],
             [
              0.8888888888888888,
              "#fdca26"
             ],
             [
              1,
              "#f0f921"
             ]
            ],
            "type": "histogram2dcontour"
           }
          ],
          "mesh3d": [
           {
            "colorbar": {
             "outlinewidth": 0,
             "ticks": ""
            },
            "type": "mesh3d"
           }
          ],
          "parcoords": [
           {
            "line": {
             "colorbar": {
              "outlinewidth": 0,
              "ticks": ""
             }
            },
            "type": "parcoords"
           }
          ],
          "pie": [
           {
            "automargin": true,
            "type": "pie"
           }
          ],
          "scatter": [
           {
            "fillpattern": {
             "fillmode": "overlay",
             "size": 10,
             "solidity": 0.2
            },
            "type": "scatter"
           }
          ],
          "scatter3d": [
           {
            "line": {
             "colorbar": {
              "outlinewidth": 0,
              "ticks": ""
             }
            },
            "marker": {
             "colorbar": {
              "outlinewidth": 0,
              "ticks": ""
             }
            },
            "type": "scatter3d"
           }
          ],
          "scattercarpet": [
           {
            "marker": {
             "colorbar": {
              "outlinewidth": 0,
              "ticks": ""
             }
            },
            "type": "scattercarpet"
           }
          ],
          "scattergeo": [
           {
            "marker": {
             "colorbar": {
              "outlinewidth": 0,
              "ticks": ""
             }
            },
            "type": "scattergeo"
           }
          ],
          "scattergl": [
           {
            "marker": {
             "colorbar": {
              "outlinewidth": 0,
              "ticks": ""
             }
            },
            "type": "scattergl"
           }
          ],
          "scattermapbox": [
           {
            "marker": {
             "colorbar": {
              "outlinewidth": 0,
              "ticks": ""
             }
            },
            "type": "scattermapbox"
           }
          ],
          "scatterpolar": [
           {
            "marker": {
             "colorbar": {
              "outlinewidth": 0,
              "ticks": ""
             }
            },
            "type": "scatterpolar"
           }
          ],
          "scatterpolargl": [
           {
            "marker": {
             "colorbar": {
              "outlinewidth": 0,
              "ticks": ""
             }
            },
            "type": "scatterpolargl"
           }
          ],
          "scatterternary": [
           {
            "marker": {
             "colorbar": {
              "outlinewidth": 0,
              "ticks": ""
             }
            },
            "type": "scatterternary"
           }
          ],
          "surface": [
           {
            "colorbar": {
             "outlinewidth": 0,
             "ticks": ""
            },
            "colorscale": [
             [
              0,
              "#0d0887"
             ],
             [
              0.1111111111111111,
              "#46039f"
             ],
             [
              0.2222222222222222,
              "#7201a8"
             ],
             [
              0.3333333333333333,
              "#9c179e"
             ],
             [
              0.4444444444444444,
              "#bd3786"
             ],
             [
              0.5555555555555556,
              "#d8576b"
             ],
             [
              0.6666666666666666,
              "#ed7953"
             ],
             [
              0.7777777777777778,
              "#fb9f3a"
             ],
             [
              0.8888888888888888,
              "#fdca26"
             ],
             [
              1,
              "#f0f921"
             ]
            ],
            "type": "surface"
           }
          ],
          "table": [
           {
            "cells": {
             "fill": {
              "color": "#EBF0F8"
             },
             "line": {
              "color": "white"
             }
            },
            "header": {
             "fill": {
              "color": "#C8D4E3"
             },
             "line": {
              "color": "white"
             }
            },
            "type": "table"
           }
          ]
         },
         "layout": {
          "annotationdefaults": {
           "arrowcolor": "#2a3f5f",
           "arrowhead": 0,
           "arrowwidth": 1
          },
          "autotypenumbers": "strict",
          "coloraxis": {
           "colorbar": {
            "outlinewidth": 0,
            "ticks": ""
           }
          },
          "colorscale": {
           "diverging": [
            [
             0,
             "#8e0152"
            ],
            [
             0.1,
             "#c51b7d"
            ],
            [
             0.2,
             "#de77ae"
            ],
            [
             0.3,
             "#f1b6da"
            ],
            [
             0.4,
             "#fde0ef"
            ],
            [
             0.5,
             "#f7f7f7"
            ],
            [
             0.6,
             "#e6f5d0"
            ],
            [
             0.7,
             "#b8e186"
            ],
            [
             0.8,
             "#7fbc41"
            ],
            [
             0.9,
             "#4d9221"
            ],
            [
             1,
             "#276419"
            ]
           ],
           "sequential": [
            [
             0,
             "#0d0887"
            ],
            [
             0.1111111111111111,
             "#46039f"
            ],
            [
             0.2222222222222222,
             "#7201a8"
            ],
            [
             0.3333333333333333,
             "#9c179e"
            ],
            [
             0.4444444444444444,
             "#bd3786"
            ],
            [
             0.5555555555555556,
             "#d8576b"
            ],
            [
             0.6666666666666666,
             "#ed7953"
            ],
            [
             0.7777777777777778,
             "#fb9f3a"
            ],
            [
             0.8888888888888888,
             "#fdca26"
            ],
            [
             1,
             "#f0f921"
            ]
           ],
           "sequentialminus": [
            [
             0,
             "#0d0887"
            ],
            [
             0.1111111111111111,
             "#46039f"
            ],
            [
             0.2222222222222222,
             "#7201a8"
            ],
            [
             0.3333333333333333,
             "#9c179e"
            ],
            [
             0.4444444444444444,
             "#bd3786"
            ],
            [
             0.5555555555555556,
             "#d8576b"
            ],
            [
             0.6666666666666666,
             "#ed7953"
            ],
            [
             0.7777777777777778,
             "#fb9f3a"
            ],
            [
             0.8888888888888888,
             "#fdca26"
            ],
            [
             1,
             "#f0f921"
            ]
           ]
          },
          "colorway": [
           "#636efa",
           "#EF553B",
           "#00cc96",
           "#ab63fa",
           "#FFA15A",
           "#19d3f3",
           "#FF6692",
           "#B6E880",
           "#FF97FF",
           "#FECB52"
          ],
          "font": {
           "color": "#2a3f5f"
          },
          "geo": {
           "bgcolor": "white",
           "lakecolor": "white",
           "landcolor": "#E5ECF6",
           "showlakes": true,
           "showland": true,
           "subunitcolor": "white"
          },
          "hoverlabel": {
           "align": "left"
          },
          "hovermode": "closest",
          "mapbox": {
           "style": "light"
          },
          "paper_bgcolor": "white",
          "plot_bgcolor": "#E5ECF6",
          "polar": {
           "angularaxis": {
            "gridcolor": "white",
            "linecolor": "white",
            "ticks": ""
           },
           "bgcolor": "#E5ECF6",
           "radialaxis": {
            "gridcolor": "white",
            "linecolor": "white",
            "ticks": ""
           }
          },
          "scene": {
           "xaxis": {
            "backgroundcolor": "#E5ECF6",
            "gridcolor": "white",
            "gridwidth": 2,
            "linecolor": "white",
            "showbackground": true,
            "ticks": "",
            "zerolinecolor": "white"
           },
           "yaxis": {
            "backgroundcolor": "#E5ECF6",
            "gridcolor": "white",
            "gridwidth": 2,
            "linecolor": "white",
            "showbackground": true,
            "ticks": "",
            "zerolinecolor": "white"
           },
           "zaxis": {
            "backgroundcolor": "#E5ECF6",
            "gridcolor": "white",
            "gridwidth": 2,
            "linecolor": "white",
            "showbackground": true,
            "ticks": "",
            "zerolinecolor": "white"
           }
          },
          "shapedefaults": {
           "line": {
            "color": "#2a3f5f"
           }
          },
          "ternary": {
           "aaxis": {
            "gridcolor": "white",
            "linecolor": "white",
            "ticks": ""
           },
           "baxis": {
            "gridcolor": "white",
            "linecolor": "white",
            "ticks": ""
           },
           "bgcolor": "#E5ECF6",
           "caxis": {
            "gridcolor": "white",
            "linecolor": "white",
            "ticks": ""
           }
          },
          "title": {
           "x": 0.05
          },
          "xaxis": {
           "automargin": true,
           "gridcolor": "white",
           "linecolor": "white",
           "ticks": "",
           "title": {
            "standoff": 15
           },
           "zerolinecolor": "white",
           "zerolinewidth": 2
          },
          "yaxis": {
           "automargin": true,
           "gridcolor": "white",
           "linecolor": "white",
           "ticks": "",
           "title": {
            "standoff": 15
           },
           "zerolinecolor": "white",
           "zerolinewidth": 2
          }
         }
        },
        "title": {
         "text": "Label: Kyogre"
        },
        "width": 500,
        "xaxis": {
         "anchor": "y",
         "domain": [
          0,
          1
         ],
         "showgrid": false,
         "showticklabels": false,
         "visible": false,
         "zeroline": false
        },
        "yaxis": {
         "anchor": "x",
         "domain": [
          0,
          1
         ],
         "showgrid": false,
         "showticklabels": false,
         "visible": false,
         "zeroline": false
        }
       }
      }
     },
     "metadata": {},
     "output_type": "display_data"
    }
   ],
   "source": [
    "plot_n_images(train_ds, 5, class_names, GAN=True)"
   ]
  },
  {
   "cell_type": "code",
   "execution_count": 6,
   "metadata": {},
   "outputs": [],
   "source": [
    "# define the discriminator model\n",
    "def define_discriminator(in_shape=input_shape):\n",
    "    model = tf.keras.Sequential()\n",
    "    # normal\n",
    "    model.add(tf.keras.layers.Conv2D(64, (3,3), padding='same', input_shape=in_shape))\n",
    "    model.add(tf.keras.layers.LeakyReLU(alpha=0.2))\n",
    "    # downsample to 64x64\n",
    "    model.add(tf.keras.layers.Conv2D(128, (3,3), strides=(2,2), padding='same'))\n",
    "    model.add(tf.keras.layers.LeakyReLU(alpha=0.2))\n",
    "    # downsample to 32x32\n",
    "    model.add(tf.keras.layers.Conv2D(128, (3,3), strides=(2,2), padding='same'))\n",
    "    model.add(tf.keras.layers.LeakyReLU(alpha=0.2))\n",
    "    # downsample to 16x16\n",
    "    model.add(tf.keras.layers.Conv2D(256, (3,3), strides=(2,2), padding='same'))\n",
    "    model.add(tf.keras.layers.LeakyReLU(alpha=0.2))\n",
    "    # downsample to 8x8\n",
    "    model.add(tf.keras.layers.Conv2D(256, (3,3), strides=(2,2), padding='same'))\n",
    "    model.add(tf.keras.layers.LeakyReLU(alpha=0.2))\n",
    "    # classifier\n",
    "    model.add(tf.keras.layers.Flatten())\n",
    "    model.add(tf.keras.layers.Dropout(0.4))\n",
    "    model.add(tf.keras.layers.Dense(1, activation='sigmoid'))\n",
    "    # compile model\n",
    "    opt = tf.keras.optimizers.Adam(learning_rate=0.0002, beta_1=0.5)\n",
    "    model.compile(loss='binary_crossentropy', optimizer=opt, metrics=['accuracy'])\n",
    "    return model"
   ]
  },
  {
   "cell_type": "code",
   "execution_count": 7,
   "metadata": {},
   "outputs": [],
   "source": [
    "# define the standalone generator model\n",
    "def define_generator(latent_dim):\n",
    "    model = tf.keras.Sequential()\n",
    "    # foundation for 8x8 feature maps\n",
    "    n_nodes = 256 * 8 * 8\n",
    "    model.add(tf.keras.layers.Dense(n_nodes, input_dim=latent_dim))\n",
    "    model.add(tf.keras.layers.LeakyReLU(alpha=0.2))\n",
    "    model.add(tf.keras.layers.Reshape((8, 8, 256)))\n",
    "    # upsample to 16x16\n",
    "    model.add(tf.keras.layers.Conv2DTranspose(256, (4,4), strides=(2,2), padding='same'))\n",
    "    model.add(tf.keras.layers.LeakyReLU(alpha=0.2))\n",
    "    # upsample to 32x32\n",
    "    model.add(tf.keras.layers.Conv2DTranspose(256, (4,4), strides=(2,2), padding='same'))\n",
    "    model.add(tf.keras.layers.LeakyReLU(alpha=0.2))\n",
    "    # upsample to 64x64\n",
    "    model.add(tf.keras.layers.Conv2DTranspose(128, (4,4), strides=(2,2), padding='same'))\n",
    "    model.add(tf.keras.layers.LeakyReLU(alpha=0.2))\n",
    "    # upsample to 128x128\n",
    "    model.add(tf.keras.layers.Conv2DTranspose(128, (4,4), strides=(2,2), padding='same'))\n",
    "    model.add(tf.keras.layers.LeakyReLU(alpha=0.2))\n",
    "    # output layer\n",
    "    model.add(tf.keras.layers.Conv2D(3, (3,3), activation='tanh', padding='same'))\n",
    "    return model"
   ]
  },
  {
   "cell_type": "code",
   "execution_count": 8,
   "metadata": {},
   "outputs": [],
   "source": [
    "# define the combined generator and discriminator model, for updating the generator\n",
    "def define_gan(g_model, d_model):\n",
    "    # make weights in the discriminator not trainable\n",
    "    d_model.trainable = False\n",
    "    # connect them\n",
    "    model = tf.keras.Sequential()\n",
    "    # add generator\n",
    "    model.add(g_model)\n",
    "    # add the discriminator\n",
    "    model.add(d_model)\n",
    "    # compile model\n",
    "    opt = tf.keras.optimizers.Adam(learning_rate=0.0002, beta_1=0.5)\n",
    "    model.compile(loss='binary_crossentropy', optimizer=opt)\n",
    "    return model"
   ]
  },
  {
   "cell_type": "code",
   "execution_count": 9,
   "metadata": {},
   "outputs": [
    {
     "name": "stdout",
     "output_type": "stream",
     "text": [
      "Model: \"sequential_1\"\n",
      "_________________________________________________________________\n",
      " Layer (type)                Output Shape              Param #   \n",
      "=================================================================\n",
      " conv2d (Conv2D)             (None, 128, 128, 64)      1792      \n",
      "                                                                 \n",
      " leaky_re_lu (LeakyReLU)     (None, 128, 128, 64)      0         \n",
      "                                                                 \n",
      " conv2d_1 (Conv2D)           (None, 64, 64, 128)       73856     \n",
      "                                                                 \n",
      " leaky_re_lu_1 (LeakyReLU)   (None, 64, 64, 128)       0         \n",
      "                                                                 \n",
      " conv2d_2 (Conv2D)           (None, 32, 32, 128)       147584    \n",
      "                                                                 \n",
      " leaky_re_lu_2 (LeakyReLU)   (None, 32, 32, 128)       0         \n",
      "                                                                 \n",
      " conv2d_3 (Conv2D)           (None, 16, 16, 256)       295168    \n",
      "                                                                 \n",
      " leaky_re_lu_3 (LeakyReLU)   (None, 16, 16, 256)       0         \n",
      "                                                                 \n",
      " conv2d_4 (Conv2D)           (None, 8, 8, 256)         590080    \n",
      "                                                                 \n",
      " leaky_re_lu_4 (LeakyReLU)   (None, 8, 8, 256)         0         \n",
      "                                                                 \n",
      " flatten (Flatten)           (None, 16384)             0         \n",
      "                                                                 \n",
      " dropout (Dropout)           (None, 16384)             0         \n",
      "                                                                 \n",
      " dense (Dense)               (None, 1)                 16385     \n",
      "                                                                 \n",
      "=================================================================\n",
      "Total params: 1,124,865\n",
      "Trainable params: 1,124,865\n",
      "Non-trainable params: 0\n",
      "_________________________________________________________________\n"
     ]
    }
   ],
   "source": [
    "# build and compile the discriminator\n",
    "discriminator = define_discriminator()\n",
    "discriminator.summary()"
   ]
  },
  {
   "cell_type": "code",
   "execution_count": 10,
   "metadata": {},
   "outputs": [
    {
     "name": "stdout",
     "output_type": "stream",
     "text": [
      "Model: \"sequential_2\"\n",
      "_________________________________________________________________\n",
      " Layer (type)                Output Shape              Param #   \n",
      "=================================================================\n",
      " dense_1 (Dense)             (None, 16384)             1654784   \n",
      "                                                                 \n",
      " leaky_re_lu_5 (LeakyReLU)   (None, 16384)             0         \n",
      "                                                                 \n",
      " reshape (Reshape)           (None, 8, 8, 256)         0         \n",
      "                                                                 \n",
      " conv2d_transpose (Conv2DTra  (None, 16, 16, 256)      1048832   \n",
      " nspose)                                                         \n",
      "                                                                 \n",
      " leaky_re_lu_6 (LeakyReLU)   (None, 16, 16, 256)       0         \n",
      "                                                                 \n",
      " conv2d_transpose_1 (Conv2DT  (None, 32, 32, 256)      1048832   \n",
      " ranspose)                                                       \n",
      "                                                                 \n",
      " leaky_re_lu_7 (LeakyReLU)   (None, 32, 32, 256)       0         \n",
      "                                                                 \n",
      " conv2d_transpose_2 (Conv2DT  (None, 64, 64, 128)      524416    \n",
      " ranspose)                                                       \n",
      "                                                                 \n",
      " leaky_re_lu_8 (LeakyReLU)   (None, 64, 64, 128)       0         \n",
      "                                                                 \n",
      " conv2d_transpose_3 (Conv2DT  (None, 128, 128, 128)    262272    \n",
      " ranspose)                                                       \n",
      "                                                                 \n",
      " leaky_re_lu_9 (LeakyReLU)   (None, 128, 128, 128)     0         \n",
      "                                                                 \n",
      " conv2d_5 (Conv2D)           (None, 128, 128, 3)       3459      \n",
      "                                                                 \n",
      "=================================================================\n",
      "Total params: 4,542,595\n",
      "Trainable params: 4,542,595\n",
      "Non-trainable params: 0\n",
      "_________________________________________________________________\n"
     ]
    }
   ],
   "source": [
    "# build the generator\n",
    "generator = define_generator(latent_dim)\n",
    "generator.summary()"
   ]
  },
  {
   "cell_type": "code",
   "execution_count": 11,
   "metadata": {},
   "outputs": [
    {
     "name": "stdout",
     "output_type": "stream",
     "text": [
      "Model: \"sequential_3\"\n",
      "_________________________________________________________________\n",
      " Layer (type)                Output Shape              Param #   \n",
      "=================================================================\n",
      " sequential_2 (Sequential)   (None, 128, 128, 3)       4542595   \n",
      "                                                                 \n",
      " sequential_1 (Sequential)   (None, 1)                 1124865   \n",
      "                                                                 \n",
      "=================================================================\n",
      "Total params: 5,667,460\n",
      "Trainable params: 4,542,595\n",
      "Non-trainable params: 1,124,865\n",
      "_________________________________________________________________\n"
     ]
    }
   ],
   "source": [
    "# build the gan\n",
    "gan_model = define_gan(generator, discriminator)\n",
    "gan_model.summary()"
   ]
  },
  {
   "cell_type": "code",
   "execution_count": 15,
   "metadata": {},
   "outputs": [],
   "source": [
    "def generate_fake_samples(g_model, latent_dim, n_samples):\n",
    "    # generate points in latent space\n",
    "    x_input = generate_latent_points(latent_dim, n_samples)\n",
    "    # predict outputs\n",
    "    X = g_model.predict(x_input, verbose=0)\n",
    "    # create 'fake' class labels (0)\n",
    "    y = tf.zeros((n_samples, 1))\n",
    "    return X, y\n",
    "\n",
    "def generate_latent_points(latent_dim, n_samples):\n",
    "    # generate points in the latent space\n",
    "    x_input = tf.random.normal(shape=(n_samples, latent_dim))\n",
    "    return x_input\n",
    "\n",
    "def generate_real_samples(dataset, n_samples):\n",
    "    X = []\n",
    "    while len(X) < n_samples:\n",
    "        dataset.shuffle(100, seed=123)\n",
    "        for x, _ in dataset.take(5):\n",
    "            for i in range(len(x)):\n",
    "                X.append(x[i])\n",
    "                if len(X) == n_samples:\n",
    "                    break\n",
    "            if len(X) == n_samples:\n",
    "                break\n",
    "    X = tf.stack(X)\n",
    "    y = tf.ones((n_samples, 1))\n",
    "    return X, y\n",
    "\n",
    "def summarize_performance(epoch, g_model, d_model, dataset, latent_dim, n_samples=100):\n",
    "    # prepare real samples\n",
    "    X_real, y_real = generate_real_samples(dataset, n_samples)\n",
    "    # evaluate discriminator on real examples\n",
    "    _, acc_real = d_model.evaluate(X_real, y_real, verbose=0)\n",
    "    # prepare fake examples\n",
    "    x_fake, y_fake = generate_fake_samples(g_model, latent_dim, n_samples)\n",
    "    # evaluate discriminator on fake examples\n",
    "    _, acc_fake = d_model.evaluate(x_fake, y_fake, verbose=0)\n",
    "    # summarize discriminator performance\n",
    "    print('>Accuracy real: %.0f%%, fake: %.0f%%' % (acc_real*100, acc_fake*100))\n",
    "    # save plot\n",
    "    save_plot(x_fake, epoch)\n",
    "    # save the generator model tile file\n",
    "    filename = 'generator_model_e%03d.h5' % (epoch+1)\n",
    "    g_model.save(filename)\n",
    "\n",
    "def save_plot(examples, epoch, n=10):\n",
    "    # plot images\n",
    "    for i in range(n * n):\n",
    "        # define subplot\n",
    "        plt.subplot(n, n, 1 + i)\n",
    "        # turn off axis\n",
    "        plt.axis('off')\n",
    "        # plot raw pixel data\n",
    "        plt.imshow(examples[i, :, :, :])\n",
    "    # save plot to file\n",
    "    filename = 'generated_plot_e%03d.png' % (epoch+1)\n",
    "    plt.savefig(filename)\n",
    "    plt.close()"
   ]
  },
  {
   "cell_type": "code",
   "execution_count": 20,
   "metadata": {},
   "outputs": [],
   "source": [
    "def train(g_model, d_model, gan_model, dataset, latent_dim, n_epochs=10, n_batch=64):\n",
    "    bat_per_epo = int(dataset.cardinality())\n",
    "    # manually enumerate epochs\n",
    "    for i in range(n_epochs):\n",
    "        # enumerate batches over the training set\n",
    "        for j, batch in enumerate(dataset):\n",
    "            # get randomly selected 'real' samples\n",
    "            X_real = batch[0]\n",
    "            half_batch = int(X_real.shape[0])\n",
    "            y_real = tf.ones((half_batch, 1))\n",
    "            # generate 'fake' examples\n",
    "            X_fake, y_fake = generate_fake_samples(g_model, latent_dim, half_batch)\n",
    "            # create training set for the discriminator\n",
    "            X, y = tf.concat([X_real, X_fake], axis=0), tf.concat([y_real, y_fake], axis=0)\n",
    "            # update discriminator model weights\n",
    "            d_loss, _ = d_model.train_on_batch(X, y)\n",
    "            # prepare points in latent space as input for the generator\n",
    "            X_gan = generate_latent_points(latent_dim, n_batch)\n",
    "            # create inverted labels for the fake samples\n",
    "            y_gan = tf.ones((n_batch, 1))\n",
    "            # update the generator via the discriminator's error\n",
    "            g_loss = gan_model.train_on_batch(X_gan, y_gan)\n",
    "            # summarize loss on this batch\n",
    "            print('>%d, %d/%d, d=%.3f, g=%.3f' % (i+1, j+1, bat_per_epo, d_loss, g_loss))\n",
    "        # evaluate the model performance, sometimes\n",
    "        if (i) % 10 == 0:\n",
    "            summarize_performance(i, g_model, d_model, dataset, latent_dim)\n",
    "    # save the generator model\n",
    "    g_model.save('generator_model_final.h5')\n",
    "    d_model.save('discriminator_model_final.h5')\n"
   ]
  },
  {
   "cell_type": "code",
   "execution_count": 22,
   "metadata": {},
   "outputs": [],
   "source": [
    "# train model\n",
    "train(generator, discriminator, gan_model, train_ds, latent_dim, n_epochs=51)"
   ]
  },
  {
   "attachments": {},
   "cell_type": "markdown",
   "metadata": {},
   "source": [
    "## ZONE DE TEST"
   ]
  },
  {
   "cell_type": "code",
   "execution_count": 23,
   "metadata": {},
   "outputs": [
    {
     "name": "stdout",
     "output_type": "stream",
     "text": [
      "WARNING:tensorflow:No training configuration found in the save file, so the model was *not* compiled. Compile it manually.\n",
      "WARNING:tensorflow:Error in loading the saved optimizer state. As a result, your model is starting with a freshly initialized optimizer.\n"
     ]
    }
   ],
   "source": [
    "try :\n",
    "    generator, discriminator = tf.keras.models.load_model('generator_model_64_final.h5'), tf.keras.models.load_model('discriminator_model_64.h5')\n",
    "except:\n",
    "    generator, discriminator = tf.keras.models.load_model('generator_model_50_64.h5'), tf.keras.models.load_model('discriminator_model_50_64.h5')"
   ]
  },
  {
   "cell_type": "code",
   "execution_count": 24,
   "metadata": {},
   "outputs": [
    {
     "data": {
      "application/vnd.plotly.v1+json": {
       "config": {
        "plotlyServerURL": "https://plot.ly"
       },
       "data": [
        {
         "hovertemplate": "x: %{x}<br>y: %{y}<extra></extra>",
         "name": "0",
         "source": "data:image/png;base64,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",
         "type": "image",
         "xaxis": "x",
         "yaxis": "y"
        }
       ],
       "layout": {
        "annotations": [
         {
          "align": "left",
          "bgcolor": "#ff7f0e",
          "bordercolor": "#c7c7c7",
          "borderpad": 2,
          "borderwidth": 1,
          "font": {
           "color": "#ffffff",
           "family": "Courier New, monospace",
           "size": 12
          },
          "opacity": 0.8,
          "showarrow": false,
          "text": "real: 15%",
          "x": 1,
          "xref": "paper",
          "y": 1,
          "yref": "paper"
         }
        ],
        "height": 350,
        "images": [
         {
          "layer": "below",
          "sizex": 0.3,
          "sizey": 0.3,
          "source": "images/final/real/1.png",
          "x": 1,
          "xref": "paper",
          "y": 1.1,
          "yref": "paper"
         }
        ],
        "margin": {
         "l": 0,
         "t": 60
        },
        "shapes": [
         {
          "line": {
           "color": "black",
           "width": 2
          },
          "type": "rect",
          "x0": 0,
          "x1": 64,
          "xref": "x",
          "y0": 0,
          "y1": 64,
          "yref": "y"
         }
        ],
        "template": {
         "data": {
          "bar": [
           {
            "error_x": {
             "color": "#2a3f5f"
            },
            "error_y": {
             "color": "#2a3f5f"
            },
            "marker": {
             "line": {
              "color": "#E5ECF6",
              "width": 0.5
             },
             "pattern": {
              "fillmode": "overlay",
              "size": 10,
              "solidity": 0.2
             }
            },
            "type": "bar"
           }
          ],
          "barpolar": [
           {
            "marker": {
             "line": {
              "color": "#E5ECF6",
              "width": 0.5
             },
             "pattern": {
              "fillmode": "overlay",
              "size": 10,
              "solidity": 0.2
             }
            },
            "type": "barpolar"
           }
          ],
          "carpet": [
           {
            "aaxis": {
             "endlinecolor": "#2a3f5f",
             "gridcolor": "white",
             "linecolor": "white",
             "minorgridcolor": "white",
             "startlinecolor": "#2a3f5f"
            },
            "baxis": {
             "endlinecolor": "#2a3f5f",
             "gridcolor": "white",
             "linecolor": "white",
             "minorgridcolor": "white",
             "startlinecolor": "#2a3f5f"
            },
            "type": "carpet"
           }
          ],
          "choropleth": [
           {
            "colorbar": {
             "outlinewidth": 0,
             "ticks": ""
            },
            "type": "choropleth"
           }
          ],
          "contour": [
           {
            "colorbar": {
             "outlinewidth": 0,
             "ticks": ""
            },
            "colorscale": [
             [
              0,
              "#0d0887"
             ],
             [
              0.1111111111111111,
              "#46039f"
             ],
             [
              0.2222222222222222,
              "#7201a8"
             ],
             [
              0.3333333333333333,
              "#9c179e"
             ],
             [
              0.4444444444444444,
              "#bd3786"
             ],
             [
              0.5555555555555556,
              "#d8576b"
             ],
             [
              0.6666666666666666,
              "#ed7953"
             ],
             [
              0.7777777777777778,
              "#fb9f3a"
             ],
             [
              0.8888888888888888,
              "#fdca26"
             ],
             [
              1,
              "#f0f921"
             ]
            ],
            "type": "contour"
           }
          ],
          "contourcarpet": [
           {
            "colorbar": {
             "outlinewidth": 0,
             "ticks": ""
            },
            "type": "contourcarpet"
           }
          ],
          "heatmap": [
           {
            "colorbar": {
             "outlinewidth": 0,
             "ticks": ""
            },
            "colorscale": [
             [
              0,
              "#0d0887"
             ],
             [
              0.1111111111111111,
              "#46039f"
             ],
             [
              0.2222222222222222,
              "#7201a8"
             ],
             [
              0.3333333333333333,
              "#9c179e"
             ],
             [
              0.4444444444444444,
              "#bd3786"
             ],
             [
              0.5555555555555556,
              "#d8576b"
             ],
             [
              0.6666666666666666,
              "#ed7953"
             ],
             [
              0.7777777777777778,
              "#fb9f3a"
             ],
             [
              0.8888888888888888,
              "#fdca26"
             ],
             [
              1,
              "#f0f921"
             ]
            ],
            "type": "heatmap"
           }
          ],
          "heatmapgl": [
           {
            "colorbar": {
             "outlinewidth": 0,
             "ticks": ""
            },
            "colorscale": [
             [
              0,
              "#0d0887"
             ],
             [
              0.1111111111111111,
              "#46039f"
             ],
             [
              0.2222222222222222,
              "#7201a8"
             ],
             [
              0.3333333333333333,
              "#9c179e"
             ],
             [
              0.4444444444444444,
              "#bd3786"
             ],
             [
              0.5555555555555556,
              "#d8576b"
             ],
             [
              0.6666666666666666,
              "#ed7953"
             ],
             [
              0.7777777777777778,
              "#fb9f3a"
             ],
             [
              0.8888888888888888,
              "#fdca26"
             ],
             [
              1,
              "#f0f921"
             ]
            ],
            "type": "heatmapgl"
           }
          ],
          "histogram": [
           {
            "marker": {
             "pattern": {
              "fillmode": "overlay",
              "size": 10,
              "solidity": 0.2
             }
            },
            "type": "histogram"
           }
          ],
          "histogram2d": [
           {
            "colorbar": {
             "outlinewidth": 0,
             "ticks": ""
            },
            "colorscale": [
             [
              0,
              "#0d0887"
             ],
             [
              0.1111111111111111,
              "#46039f"
             ],
             [
              0.2222222222222222,
              "#7201a8"
             ],
             [
              0.3333333333333333,
              "#9c179e"
             ],
             [
              0.4444444444444444,
              "#bd3786"
             ],
             [
              0.5555555555555556,
              "#d8576b"
             ],
             [
              0.6666666666666666,
              "#ed7953"
             ],
             [
              0.7777777777777778,
              "#fb9f3a"
             ],
             [
              0.8888888888888888,
              "#fdca26"
             ],
             [
              1,
              "#f0f921"
             ]
            ],
            "type": "histogram2d"
           }
          ],
          "histogram2dcontour": [
           {
            "colorbar": {
             "outlinewidth": 0,
             "ticks": ""
            },
            "colorscale": [
             [
              0,
              "#0d0887"
             ],
             [
              0.1111111111111111,
              "#46039f"
             ],
             [
              0.2222222222222222,
              "#7201a8"
             ],
             [
              0.3333333333333333,
              "#9c179e"
             ],
             [
              0.4444444444444444,
              "#bd3786"
             ],
             [
              0.5555555555555556,
              "#d8576b"
             ],
             [
              0.6666666666666666,
              "#ed7953"
             ],
             [
              0.7777777777777778,
              "#fb9f3a"
             ],
             [
              0.8888888888888888,
              "#fdca26"
             ],
             [
              1,
              "#f0f921"
             ]
            ],
            "type": "histogram2dcontour"
           }
          ],
          "mesh3d": [
           {
            "colorbar": {
             "outlinewidth": 0,
             "ticks": ""
            },
            "type": "mesh3d"
           }
          ],
          "parcoords": [
           {
            "line": {
             "colorbar": {
              "outlinewidth": 0,
              "ticks": ""
             }
            },
            "type": "parcoords"
           }
          ],
          "pie": [
           {
            "automargin": true,
            "type": "pie"
           }
          ],
          "scatter": [
           {
            "fillpattern": {
             "fillmode": "overlay",
             "size": 10,
             "solidity": 0.2
            },
            "type": "scatter"
           }
          ],
          "scatter3d": [
           {
            "line": {
             "colorbar": {
              "outlinewidth": 0,
              "ticks": ""
             }
            },
            "marker": {
             "colorbar": {
              "outlinewidth": 0,
              "ticks": ""
             }
            },
            "type": "scatter3d"
           }
          ],
          "scattercarpet": [
           {
            "marker": {
             "colorbar": {
              "outlinewidth": 0,
              "ticks": ""
             }
            },
            "type": "scattercarpet"
           }
          ],
          "scattergeo": [
           {
            "marker": {
             "colorbar": {
              "outlinewidth": 0,
              "ticks": ""
             }
            },
            "type": "scattergeo"
           }
          ],
          "scattergl": [
           {
            "marker": {
             "colorbar": {
              "outlinewidth": 0,
              "ticks": ""
             }
            },
            "type": "scattergl"
           }
          ],
          "scattermapbox": [
           {
            "marker": {
             "colorbar": {
              "outlinewidth": 0,
              "ticks": ""
             }
            },
            "type": "scattermapbox"
           }
          ],
          "scatterpolar": [
           {
            "marker": {
             "colorbar": {
              "outlinewidth": 0,
              "ticks": ""
             }
            },
            "type": "scatterpolar"
           }
          ],
          "scatterpolargl": [
           {
            "marker": {
             "colorbar": {
              "outlinewidth": 0,
              "ticks": ""
             }
            },
            "type": "scatterpolargl"
           }
          ],
          "scatterternary": [
           {
            "marker": {
             "colorbar": {
              "outlinewidth": 0,
              "ticks": ""
             }
            },
            "type": "scatterternary"
           }
          ],
          "surface": [
           {
            "colorbar": {
             "outlinewidth": 0,
             "ticks": ""
            },
            "colorscale": [
             [
              0,
              "#0d0887"
             ],
             [
              0.1111111111111111,
              "#46039f"
             ],
             [
              0.2222222222222222,
              "#7201a8"
             ],
             [
              0.3333333333333333,
              "#9c179e"
             ],
             [
              0.4444444444444444,
              "#bd3786"
             ],
             [
              0.5555555555555556,
              "#d8576b"
             ],
             [
              0.6666666666666666,
              "#ed7953"
             ],
             [
              0.7777777777777778,
              "#fb9f3a"
             ],
             [
              0.8888888888888888,
              "#fdca26"
             ],
             [
              1,
              "#f0f921"
             ]
            ],
            "type": "surface"
           }
          ],
          "table": [
           {
            "cells": {
             "fill": {
              "color": "#EBF0F8"
             },
             "line": {
              "color": "white"
             }
            },
            "header": {
             "fill": {
              "color": "#C8D4E3"
             },
             "line": {
              "color": "white"
             }
            },
            "type": "table"
           }
          ]
         },
         "layout": {
          "annotationdefaults": {
           "arrowcolor": "#2a3f5f",
           "arrowhead": 0,
           "arrowwidth": 1
          },
          "autotypenumbers": "strict",
          "coloraxis": {
           "colorbar": {
            "outlinewidth": 0,
            "ticks": ""
           }
          },
          "colorscale": {
           "diverging": [
            [
             0,
             "#8e0152"
            ],
            [
             0.1,
             "#c51b7d"
            ],
            [
             0.2,
             "#de77ae"
            ],
            [
             0.3,
             "#f1b6da"
            ],
            [
             0.4,
             "#fde0ef"
            ],
            [
             0.5,
             "#f7f7f7"
            ],
            [
             0.6,
             "#e6f5d0"
            ],
            [
             0.7,
             "#b8e186"
            ],
            [
             0.8,
             "#7fbc41"
            ],
            [
             0.9,
             "#4d9221"
            ],
            [
             1,
             "#276419"
            ]
           ],
           "sequential": [
            [
             0,
             "#0d0887"
            ],
            [
             0.1111111111111111,
             "#46039f"
            ],
            [
             0.2222222222222222,
             "#7201a8"
            ],
            [
             0.3333333333333333,
             "#9c179e"
            ],
            [
             0.4444444444444444,
             "#bd3786"
            ],
            [
             0.5555555555555556,
             "#d8576b"
            ],
            [
             0.6666666666666666,
             "#ed7953"
            ],
            [
             0.7777777777777778,
             "#fb9f3a"
            ],
            [
             0.8888888888888888,
             "#fdca26"
            ],
            [
             1,
             "#f0f921"
            ]
           ],
           "sequentialminus": [
            [
             0,
             "#0d0887"
            ],
            [
             0.1111111111111111,
             "#46039f"
            ],
            [
             0.2222222222222222,
             "#7201a8"
            ],
            [
             0.3333333333333333,
             "#9c179e"
            ],
            [
             0.4444444444444444,
             "#bd3786"
            ],
            [
             0.5555555555555556,
             "#d8576b"
            ],
            [
             0.6666666666666666,
             "#ed7953"
            ],
            [
             0.7777777777777778,
             "#fb9f3a"
            ],
            [
             0.8888888888888888,
             "#fdca26"
            ],
            [
             1,
             "#f0f921"
            ]
           ]
          },
          "colorway": [
           "#636efa",
           "#EF553B",
           "#00cc96",
           "#ab63fa",
           "#FFA15A",
           "#19d3f3",
           "#FF6692",
           "#B6E880",
           "#FF97FF",
           "#FECB52"
          ],
          "font": {
           "color": "#2a3f5f"
          },
          "geo": {
           "bgcolor": "white",
           "lakecolor": "white",
           "landcolor": "#E5ECF6",
           "showlakes": true,
           "showland": true,
           "subunitcolor": "white"
          },
          "hoverlabel": {
           "align": "left"
          },
          "hovermode": "closest",
          "mapbox": {
           "style": "light"
          },
          "paper_bgcolor": "white",
          "plot_bgcolor": "#E5ECF6",
          "polar": {
           "angularaxis": {
            "gridcolor": "white",
            "linecolor": "white",
            "ticks": ""
           },
           "bgcolor": "#E5ECF6",
           "radialaxis": {
            "gridcolor": "white",
            "linecolor": "white",
            "ticks": ""
           }
          },
          "scene": {
           "xaxis": {
            "backgroundcolor": "#E5ECF6",
            "gridcolor": "white",
            "gridwidth": 2,
            "linecolor": "white",
            "showbackground": true,
            "ticks": "",
            "zerolinecolor": "white"
           },
           "yaxis": {
            "backgroundcolor": "#E5ECF6",
            "gridcolor": "white",
            "gridwidth": 2,
            "linecolor": "white",
            "showbackground": true,
            "ticks": "",
            "zerolinecolor": "white"
           },
           "zaxis": {
            "backgroundcolor": "#E5ECF6",
            "gridcolor": "white",
            "gridwidth": 2,
            "linecolor": "white",
            "showbackground": true,
            "ticks": "",
            "zerolinecolor": "white"
           }
          },
          "shapedefaults": {
           "line": {
            "color": "#2a3f5f"
           }
          },
          "ternary": {
           "aaxis": {
            "gridcolor": "white",
            "linecolor": "white",
            "ticks": ""
           },
           "baxis": {
            "gridcolor": "white",
            "linecolor": "white",
            "ticks": ""
           },
           "bgcolor": "#E5ECF6",
           "caxis": {
            "gridcolor": "white",
            "linecolor": "white",
            "ticks": ""
           }
          },
          "title": {
           "x": 0.05
          },
          "xaxis": {
           "automargin": true,
           "gridcolor": "white",
           "linecolor": "white",
           "ticks": "",
           "title": {
            "standoff": 15
           },
           "zerolinecolor": "white",
           "zerolinewidth": 2
          },
          "yaxis": {
           "automargin": true,
           "gridcolor": "white",
           "linecolor": "white",
           "ticks": "",
           "title": {
            "standoff": 15
           },
           "zerolinecolor": "white",
           "zerolinewidth": 2
          }
         }
        },
        "title": {
         "text": "Label: image générée"
        },
        "width": 500,
        "xaxis": {
         "anchor": "y",
         "domain": [
          0,
          1
         ],
         "showgrid": false,
         "showticklabels": false,
         "visible": false,
         "zeroline": false
        },
        "yaxis": {
         "anchor": "x",
         "domain": [
          0,
          1
         ],
         "showgrid": false,
         "showticklabels": false,
         "visible": false,
         "zeroline": false
        }
       }
      }
     },
     "metadata": {},
     "output_type": "display_data"
    }
   ],
   "source": [
    "X = generator.predict(generate_latent_points(100, 1), verbose=0)\n",
    "plot_image(X[0], \"image générée\", {\"real\": float(discriminator.predict(X, verbose=0))}, size=64)"
   ]
  },
  {
   "cell_type": "code",
   "execution_count": 25,
   "metadata": {},
   "outputs": [
    {
     "data": {
      "image/png": "[encoded data removed]",
      "text/plain": [
       "<Figure size 640x480 with 100 Axes>"
      ]
     },
     "metadata": {},
     "output_type": "display_data"
    }
   ],
   "source": [
    "n = 10\n",
    "x_fake, _ = generate_fake_samples(generator, 100, n * n)\n",
    "x_fake = (x_fake * 255).astype('uint8')\n",
    "# plot images\n",
    "for i in range(n * n):\n",
    "    # define subplot\n",
    "    plt.subplot(n, n, 1 + i)\n",
    "    # turn off axis\n",
    "    plt.axis('off')\n",
    "    # plot raw pixel data\n",
    "    plt.imshow(x_fake[i, :, :, :])\n",
    "# save plot to file\n",
    "# plt.savefig(\"generated_plot_GAN_64.png\")\n",
    "plt.show()\n",
    "plt.close()"
   ]
  }
 ],
 "metadata": {
  "kernelspec": {
   "display_name": "Python 3",
   "language": "python",
   "name": "python3"
  },
  "language_info": {
   "codemirror_mode": {
    "name": "ipython",
    "version": 3
   },
   "file_extension": ".py",
   "mimetype": "text/x-python",
   "name": "python",
   "nbconvert_exporter": "python",
   "pygments_lexer": "ipython3",
   "version": "3.10.6"
  },
  "orig_nbformat": 4
 },
 "nbformat": 4,
 "nbformat_minor": 2
}
