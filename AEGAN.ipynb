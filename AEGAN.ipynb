{
 "cells": [
  {
   "cell_type": "code",
   "execution_count": 1,
   "metadata": {},
   "outputs": [],
   "source": [
    "import tensorflow as tf\n",
    "# import plotly.express as px\n",
    "import matplotlib.pyplot as plt\n",
    "from utils import *\n",
    "import pandas as pd"
   ]
  },
  {
   "cell_type": "code",
   "execution_count": 2,
   "metadata": {},
   "outputs": [],
   "source": [
    "directory = 'images/final/'\n",
    "width = 96\n",
    "height = 96\n",
    "channels = 4\n",
    "image_size = (width, height)\n",
    "input_shape = (width, height, channels)\n",
    "batch_size = 32\n",
    "latent_dim = 100\n",
    "num_classes = 18"
   ]
  },
  {
   "cell_type": "code",
   "execution_count": 3,
   "metadata": {},
   "outputs": [
    {
     "name": "stdout",
     "output_type": "stream",
     "text": [
      "Found 13849 files belonging to 905 classes.\n"
     ]
    }
   ],
   "source": [
    "train_ds, class_names = load_data(directory, batch_size, image_size, GAN=True)"
   ]
  },
  {
   "cell_type": "code",
   "execution_count": 4,
   "metadata": {},
   "outputs": [],
   "source": [
    "types = pd.read_csv('PokeDataset.csv', usecols=['Name', 'Type1', 'Type2'])\n",
    "# reorder by alphabetical order of column 'Name'\n",
    "types = types.sort_values(by=['Name'])\n",
    "types = types.reset_index(drop=True)"
   ]
  },
  {
   "cell_type": "code",
   "execution_count": 5,
   "metadata": {},
   "outputs": [
    {
     "name": "stdout",
     "output_type": "stream",
     "text": [
      "Percentage of pokemon with double type: 49.61%\n"
     ]
    }
   ],
   "source": [
    "# give percentage of pokemon with double type\n",
    "print(f\"Percentage of pokemon with double type: {types['Type2'].count() / types['Type1'].count() * 100:.2f}%\")"
   ]
  },
  {
   "cell_type": "code",
   "execution_count": 6,
   "metadata": {},
   "outputs": [
    {
     "data": {
      "text/html": [
       "<div>\n",
       "<style scoped>\n",
       "    .dataframe tbody tr th:only-of-type {\n",
       "        vertical-align: middle;\n",
       "    }\n",
       "\n",
       "    .dataframe tbody tr th {\n",
       "        vertical-align: top;\n",
       "    }\n",
       "\n",
       "    .dataframe thead th {\n",
       "        text-align: right;\n",
       "    }\n",
       "</style>\n",
       "<table border=\"1\" class=\"dataframe\">\n",
       "  <thead>\n",
       "    <tr style=\"text-align: right;\">\n",
       "      <th></th>\n",
       "      <th>Name</th>\n",
       "      <th>Type1</th>\n",
       "      <th>Type2</th>\n",
       "    </tr>\n",
       "  </thead>\n",
       "  <tbody>\n",
       "    <tr>\n",
       "      <th>0</th>\n",
       "      <td>Abomasnow</td>\n",
       "      <td>Grass</td>\n",
       "      <td>Ice</td>\n",
       "    </tr>\n",
       "    <tr>\n",
       "      <th>1</th>\n",
       "      <td>Abra</td>\n",
       "      <td>Psychic</td>\n",
       "      <td>NaN</td>\n",
       "    </tr>\n",
       "    <tr>\n",
       "      <th>2</th>\n",
       "      <td>Absol</td>\n",
       "      <td>Dark</td>\n",
       "      <td>NaN</td>\n",
       "    </tr>\n",
       "    <tr>\n",
       "      <th>3</th>\n",
       "      <td>Accelgor</td>\n",
       "      <td>Bug</td>\n",
       "      <td>NaN</td>\n",
       "    </tr>\n",
       "    <tr>\n",
       "      <th>4</th>\n",
       "      <td>Aegislash</td>\n",
       "      <td>Steel</td>\n",
       "      <td>Ghost</td>\n",
       "    </tr>\n",
       "  </tbody>\n",
       "</table>\n",
       "</div>"
      ],
      "text/plain": [
       "        Name    Type1  Type2\n",
       "0  Abomasnow    Grass    Ice\n",
       "1       Abra  Psychic    NaN\n",
       "2      Absol     Dark    NaN\n",
       "3   Accelgor      Bug    NaN\n",
       "4  Aegislash    Steel  Ghost"
      ]
     },
     "execution_count": 6,
     "metadata": {},
     "output_type": "execute_result"
    }
   ],
   "source": [
    "types.head(5)"
   ]
  },
  {
   "cell_type": "code",
   "execution_count": 7,
   "metadata": {},
   "outputs": [],
   "source": [
    "# make a dictionary of types and their index in the list of types\n",
    "types_dict = {}\n",
    "for i, t in enumerate(types['Type1'].unique()):\n",
    "    types_dict[t] = i\n",
    "\n",
    "# create vector of labels with 0 for each type except the one in the row (type1 and type2 are strings)\n",
    "def create_label(row):\n",
    "    label = np.zeros(18)\n",
    "    label[types_dict[row['Type1']]] = 1\n",
    "    if row['Type2'] in types_dict:\n",
    "        label[types_dict[row['Type2']]] = 1\n",
    "    return label\n",
    "\n",
    "types['Label'] = types.apply(create_label, axis=1)"
   ]
  },
  {
   "cell_type": "code",
   "execution_count": 8,
   "metadata": {},
   "outputs": [],
   "source": [
    "def types_to_vector(type1, type2=None):\n",
    "    label = np.zeros(18)\n",
    "    label[types_dict[type1]] = 1\n",
    "    if type2 in types_dict:\n",
    "        label[types_dict[type2]] = 1\n",
    "    return label.reshape(1, 18)"
   ]
  },
  {
   "cell_type": "code",
   "execution_count": 9,
   "metadata": {},
   "outputs": [
    {
     "name": "stdout",
     "output_type": "stream",
     "text": [
      "521\n"
     ]
    },
    {
     "data": {
      "application/vnd.plotly.v1+json": {
       "config": {
        "plotlyServerURL": "https://plot.ly"
       },
       "data": [
        {
         "hovertemplate": "x: %{x}<br>y: %{y}<extra></extra>",
         "name": "0",
         "source": "data:image/png;base64,iVBORw0KGgoAAAANSUhEUgAAAGAAAABgCAYAAADimHc4AAAcyElEQVR4Xu2ceXhU1d3Hv3eZmTv7lkwy2QOBkAVCEhbZBAEDCioKyCJUhFYUV9SCVazVarWvUCpaxeVFbV2KiFC1IiKIRhaDQAIkISQEksk6mX2/M3d5/4iEMC8oCMHRJ5/nmSdP7vndc+6c7/mde5bfGaCXXnrppZdeeumll1566aWXywoRfSEWiYuLU5IkSVmtVk/36yaTScNIGOrU/2S3NG/Iz9vt9jPsYxE6+kIsUjKh5HazUp9++PDhzyorjwymKFoKgJ8wckKBSWJilEoFzOYkZAjarnu+bDjoP3iwvJTnebu6IPVQVdWhturqw87TuV4Y06bN0tQdqbzZ6rCWWR3WQ9HpP5WY94CRw0em6FX6D6YWjdonk8kCHo9HR1GUDkAIgFMVUfEejyf++PHjVxtOEomkhERedh5a5SGRpmnW6XSGy+M87nDY3ZiRkfh+fHL8rn3f7qvdtGHTeXvH6NETCgsLR/1126fv988bkDd343837o62+alcdgE0Gg2t1WqlFoslEJ0WDUlSVEJCxp9uuGFm1tq1z86JTo8mPj5ePvXqq++wNzUtm6a8MpGiKITDYRzWmgAAHMfBFXLxSpWsdODAnDceW/XbnTzPt/t8PjYqK+h0Oloul8evmLvqVovF8nBdXZ2WSvC8un7L+sXRthfDZRPg1mmzZM5AcKQgCCOvGH4FseLpFU9F20Rzy6zb+jc0tG4xmrR3/uej9Z9Hp5+L26ZPXxTv6vuiTqdjeJ6HXaVBJBwBABASAmzYj3A4gAjprfN4PP/u6OjYlZal373hw/c8ADBvxj1944xxMwxGw3TPSc9Qj8eDiooKd/wAuviTbZ8cP6Owi+SyvAOmjJ5QWJCa/cymL78smD9//qcv/fOlZ6NtzkZKYvocvzuk/Lr08wv60p/s3Pn2hCHZS/wyWREAtLVa4HK5AAAqpQomkwFarRaikJAlJwLLGJi9ctpV94cHHv8nTUt0gs98eyAQSLA3CQwh4eAIOnD/H+5fMWfJ5At6jvOhRwUwxSfS2xa/vOjAiapHd+86KMsbnTf/9uW3/2hLnnndb5KSDX3fjFPmX+1P5j+QMTs7om1+iIeWLUurK+WTpKIEjY2N8Fq9UMgUAADWx6KhtRlyuRyEgYDJZJKmZ6QZBX+KMdJODY8A4DgfBEEARVEIkxHozcznD/z5tvfOLOXS0H3kdsmZd/Nts/fu3bu2qqpK18Y7F69du/ZHKx8AnE6nORwO55WVlUVYlv1u3rx5F9RVVlZUDtdoNImhYAgOhwMqlQ4SiRwSiRwKhQYKhQaCQCLgCKDhaAOa6ppAhv2IeB2IeB0gWB8I1gclJaKtrS0giuLGcDjsiC7nUtBjAgzMLRwbDLJPabVa+Hy+8M7KPUeibc6F2+XqX1RUpA4Ggx19+/Y9mZGRcWu0zQ/Bsdx4iqIQDAYhiiI6Hf30hySlkEjkUJJKyAk5wu4wvB2tYN12hD0OiEEvOJ8LYY8d4UioWWeQf2C328UzS7k09IgAZpNZefPkRYsU6Jt+RCeDPTHReHPJkhfNCWbZKZuhg4ea71p0l7n7fQBgNqXIb5lyzzAFm8wY+rrqhUBzAnnSPSTaLpr09HQyPaWP5qbJ8yYX50wcwws8vE4vVJQq2rQLgpCDJBXgOBpWNw2zTI8Rai1SKBWkpAx7jh5FxmD9W6//67WfPH/4MS5agKJBRSqdVnfGu2T00NFDHA7HJJYNo7XNCZ0+EQ2N7ZPGjx6/YmDOQBUALL9r+RC9Sl9gNBhJACguGM4svvU+fW7fwrEajebW/fv3SxITE7e3tLSMPnSy5v3u+Z+NxYsXD7t/4V/+tzB33Lvt7e4sm80Gn88Hmv7x15xEIun6SxAEQqEQACAvLw/1Va2zfzf/3it1WsMFdYPny0UJYDQalUMKhjydm5r74ZL7lxScup5qSp0eiURMLpcTLS0OtLQ4kJ6ejVZL67JBhYOWm81m2ZOrnqyO18dP1Kq1CqPRqJk9fd7qEYOv+nb2jbe+oNFo9DabDTRNNwWDwYFvf7Shvnu5Z0MQhEhp6XeT7faAvq6uGRaLBQzDgCDOv978fj8aGxvR1taGUCgEiqKQnVaQV7W//jWBE9Oi7S8FFyWA3W737zqwa4s8QT6UtRh2P3bPS6vy+hfnkmTf/qxfDkttI9R0POQwoP2kB+b4IqmvWb3i4TueX+IP+VUn206meP1efZIhyUC2SK/SOhL6pSivzGJdBETRcTi+wpsTRyldCp36R1+AK1as2B9RNTzD8ragilaCAAFRpEAQ8mjTs0JSchxx8NjLGdEsNaHFQ6LhaDuCThmhkJr6XT/ut0/o9XoNAJjNZmVyYmqcSqHuQ5Lkj7vYD3D+zeMcFBUV0ddff/2CfduaVqampmpNJpPV5+VMzQ3N8Dg8UEviIX7/+nLzbUhOTobeoEf/HHlZeXm5jJJR80tGjpfVlbftUPAmtSolGyTpxrZt7+8pyTJ6OtRc+6pN65Z43G52zs0369dv3Gh3OBzCmU/RiVarS5xesngTw8VdUVdXBwkhh4xSRpudJxwikSA4mkNqphn1jceQmKl7t7m5edeUKVOGRTyR1MN1+8gvvvl4ltVqtUbffb5clAcAwIEDB7jXX3993bRp0xY0NDS4BUEw+f1+CILQ1beegqF1cNlCaD5pR+OxlmEnjzYVDM8bNdJut49lGEbJ8zxIkoTT6UR2dnaBw+EYs2PHjsNPPvkkcd24casmjR9/fVxcXNfqZzR33/3gQBkjSydJsmscfzFIJBLwPI+TJ08iKysLGkn67MIB41fVlFt/s2vXrlyJRPKkw+GwRd93IVy0AADQ1NQkPL769o8Gjol7aMeBd5yMqxUZNAWjN9LV+gFAJjKgOQn89gBqjkUgo+Pw3htvPJBHTrw9yziGNKUXQKfTQdbsgLmyRcEwDHnjFdeMqX57d63CrzJ9Xlr69rFjxzrXFM5CimogJSHk8nZPAwhWDhpMtMkFQANgoCANUASkCFa1gIFASiRBZn/VtqC+D5a/tX7tlxzHndUbz5eL6r+609LSImzduvXNiRMnwrHLsTLNFK+Ni5PA7e9s1QC6XohyuRxBNgitUgWZxpwml8sR5nmIJIFgmAVBEBg4cCBKm0sZMRLpe8BS+fy2ml3P4ovuJZ7J1KlTZbVVJ+bQYJRcEJBKpdEmPwmCIKBSqxGnlsDj9cJls2HSpElrn1m9/J/Rtj+FS+IBp6ioqODefffddf369XvRZutcPeisc/H7z2kkEgk8Hg9ycnKYQCDAsCyLcDgMp9MJuVyO7xfA7PstlX/Yebzsf864OYqpU6fKsrKyHmdo1c1cCJKQj7tkAoiiCKlUimAwCI/HA7vNDgAX17d145IKAACtra0CmUdu7FCGXDUuDwiCgCiK389IT6PheYheCj6bGpHkePgYEjKNHNXV/0VLroj1hQIUV+ZrZt67+Iokc9JZPdVkMmkG5VxRfM0Vd72vR/FDHMcxra2t4Hn+HMNP4vvrHEQxCEEQuj6iLAgwIRByFp1bDRwIggBFUbD7eVh8NLwdHLSyROz9smKR2Xx6UnkxXHIBAGDVqlVN8fHx5dGVfkoIURQRIMMIkGFI9HLs2fMlgkEHKiv3Q2vQYNINE+ByuTD3lrkSRsUsuKbkmr7d81Ep1JJrxt04edm9j79yU8mS7RUVFdfv3r1bUne0Dn63HzLqh+vG7/ejo6MDdndD16ejowM2mw1+vx88z5/RYEiShEQigUQiAcuy8Hg8qqVLl5Z0y/Inc9aWdTGsWbNG+eGHHz7l9/vzaZrGqZFNJ51fiqZpNPtsMJgNsAYc4G02eL1WfPfdd3joDwvQ7GgASZIYPGow3nzlzaTkhOR7Adx5qozn/ri2n6WhZfWJqtbshoYawmKxQKfTQU4wkEvkIAgCQtSrkSQpCIIAi8WCwsKBB7KyMkrBOPnTFnq0t7drKioqrmUjbBLLBtDa0QGdSgeNRgOlUgmCILpm1nv37h0F4OPT9/80zuanF82yO5763ZFDlffJpPIBcDEUTasgCFIQBAGCJ0AKJFrFKpSUlMDhcKDeGQRJkjAajZg0KRtNTU0YN24cWipb8O67m/DttxV46Omb+ixevPjEK6+8klK+xf2xUqkcXFFRgTb3URTmD4EYoeC3n+73T3U1BMFD0Iiw2+0RjuM6Rl+X+WhbW/N7b731v/9vF6w7M2bMkGVnZ48POLmCI0dqrhJ4qm+ontUrFAp1XFycRJpEH80YpC984oknOtctfiI9IgAAxOkScwtyi19PIvNGsCwBnu9cZyF4AjJKhjrfHsyZMwfV1dUgDAbo9XqYzWaoaRZarRbl5eWor6qHy8WisdGK/gX0B3JGfptCoVij5gfdVltbi5aWFvTJM6Awfwi+2r4LMjGxq/xOr+PgdtsBHeuWKcm1Ih354NMd73x3+inPj7FjxtKZ6QMMx/bXFVOUbKQoUr8jlKwnvzh7+Msvv3BRC3U9JgAAMAxjHp088wDD6BJlMi1EUQTBE/C5fKhybMfYsWORmZmJL/Z/g8GDB4NlWbBtHpw4cQKDBg2CwWBAZWU9vN4IwuGjzpycnA0qlWqGvVljOHbsGGiaxgOPLsSm9z9CwBMGQnqQJIlQKASfzwev14ni4oKtM+4b9vT02TeWebzuH2z154NCoZLMnbt4dnt7+yypVHxk48Z3DkXbXAg9KgAA3HnnnYtqD9teZEQz4/P5RKVSaenTL3Xd4OHGrV9//XVW/379H87rc13eU089BbPZDEVYD5fLhfz8fEQoLziOQ6OlETKpFhzHgaZpBAQn7PZm3HHHbzBkeI64aMF9Qa1W63K7SR4AFAoZC8q5Z/rcqRueW/PUFovFwkU/V6zQ4wLodDrjyKIp/xb82omtzirHVeOvWvTme2v+43J3bnCMGTkm93cLlu2HCGblypUwUtkgSRI5OTkgSQEiRLS0tMBpDaKoqAjt7e2oajyI0aOLsXz5XVj/0TvtBw8e/CPLsvt4XsICQFqaqeNvLz19QduYPxeXfBQUjdfrddht9ud5f6TQGal3d3iTvztV+QBQuru06reLf7s8Pz//+bc3voClt63ZlpmZ3qAxKWa729wqURShUqkg5TWQEBIUFxRjf81ulJRcjZqaOgQE+7sfb3v/NafT2SM7Vj1Nj8wDusPzvPjtoc8+Uad1bELnDFIbbbNs2bL3a8qte30Wk3jfbxYPGSDLStXV6+hRxVMwbFAJhg0swRViBvKURshEJ/71wj+xf3sV/vXCJxBF8etTlZ+eni4zGo097tWXkh73gFNotdq7JRLJ7RqNxhOdFg6Hrbt3794sDNYW6SlG7/f5J6lpPWwnXAAAl8uNrPh4UBIKTU1NSLfbMWrsWAgkieoDO5aMKp7YIWcY2ZiRhVe32tvXrF33auuZJcQul7W1SKVSqNVqInqDOyEhgXxgyZ/vykws+uvOzVvk/U25MDOpaGhnwTAMGIZBkUGBamc1SutK0RrqXEtKTEyEOs4n1NXVHacoyudqq4oz9Uma/PZ/1ld1zz+WuSweoFGpGJqikkWR5ERebIxOT4pPjxMD4uQtW96Vcx4u5IpvQlKmhrleGYFUyuLEiXL8200CJOCQSmHq37JTEIQNIaJl1p7P3VkZGRkpXq+fCZP9Ojx+ZCabM+uaW0+Eo8uJRXrcA5SMQnnT2JL7w4HA/S6WcI4YN+J3/1j3j687bB1dXvD8nzas+Gz7pkeMOnP9ofJvXko2JRXk9M9d0D8SL2XZEFiWRUu8DsFgEIePHA5Jk5pH7ty58+Att9wia28I53rskUXx+tRFDMNISZJsysvL23DgxOa/fvTRhzE/EupxD0hJSYmkDRjwQYpSv+eva19ey+iYP9IkPRtABwDcOGtKyZEjdctZv6y+tP7T+Q3N1QerWyTajAGJVR+W1/09OTkZAGA71gybzYaxY8eufvbN+w5ed9118X369JmWpjOPSklKG5qclCZ95513SJqm015798/33zDzuhoAr3V7lJikxz2gOytWrJix/YMDr+Qnj6maf/uENRVVVbmlZbtuP3ywUu/nbUsbO4690t3+9tmP3ltXc+KvABitYAbv5zGycOQ3zYEjQZ/PN0ChUKRCj0ggEAhkZmaSdfvq+KQ8w2uEIdSan5//6i233OLvnl8sclkF0Ov18UsXPPl+inLguG8PbYI3FHKe7DjempGRtq+iav/dlTUVvlO2UybMSUGAGcUHmL+wLNtHI9FCCAjoY+4DudwAu92G+HgTrFSDVyqTNnIRzuW3N+UwZjyxccfbL7lcrpid/Xanx7ug7vz+9783tVRa0w9Vf4pW1xG0eprecoRtq2oaD/rsdntX5RfnX1UyNH/ySq2YkLxv3z51q7sVpIxEdk42UowpUIYHoo+eB8dx4EhaPXz48Dy/3x/66KO/S0Ku4BKCIDYBsHQrOma5LALo9XqCoqiE2jLbyhMnjtMZfTM2G05wXonWsLn+YE1Td9t+ycOHzcz7n38kOjOyBEFASb9iBJIDoFUUOI5D0BeEjbYiJPjQ7mxG/pA8yBVaaLRxzNhB01DrO9QhkWy/6EW3y0WPCzD3prkpXIS7KcJF5litjXHjJw1f+MK61du7j4JOMW7EhLE3DP3L67yNyuI4DhxCEDgBAsnD62Mh8J27LIIgIOAPICcnB6lmM1i/HyyA/v37w1J1LCkcDp9fNFYM0ONLEQvnLOybn5Xff/q10/+z+8j2iX9/deW5Kj9+5nVz/xYXF5fFcTxCoRACYTdCnBfBiBc8z0JEBCIiCAaDSDQnIjMzE0I4AoIXQPCdcUDBYDDjmWde6BOdf6zS4x4wcebErwB8FX09GikXNzBJNiS1tvYEwmEgAALotq1IEJ29Cs/zcAgnkJ05AoIkiLAQAUVToGkaTQ436uudpHSfdnZaWtpXjY2NFxWzcznocQEugAEajUatUgURcHgAAhDF0zFYPMFBEAV4vB7kFudCqVSC53kIggCSJOH1elFWVgaJVIodO3ZMu3PB0gOfffZZQ0JCQgMv9Tdv3Ljx/61BxQI/uwCrV69OaGxsnBaxqm4CcEY4g4jTAnAEhxAbgkwlg9lsRjgchiAIoGkaoVAIZWVl8Pk6B1Iqlcq087NvV7WddIdcbWxg2KR+KwGs6coshvhZBZg2bZqmrKxs1p49e+7NTio2ipP9MKXFw2JpgcALIMnOc10AQAoiWMIPfYIaFE0gHOEhiDw6bC1otbTC1dYClUoFXpCi2RVEcgp5UpOYtXPEuHFfJCWptr32WmxOii/rROxcLFy40MTaJLMnDL/hSR2To92/qwIEKwXVPbJZDMHHu1A8qgCCEEYwGIDf7wdFATWVNQj7WfCCADdrx/7Kvbh1yZV3/elvf3rpdAaxSY+Pgs6HdevWWR1Ox3+am5stMpkMyckp4DjudETj92MmRsYgHA7Dam2By2UHRQF2ux0etxuBQABerxeC0Bnqs3///pSuAmKYmBAAALaUbmiocu7YzrIsjMkahBgnIpwXEc4LNuxGG1sNUumHy9WKMMmCoyPwhN04ebIaTl8HAmIAESqMsBjG0GFDITGabrz77ocuJjz6shAzAgDA4cOHX92z70s3IWGR1scEX7ADnoAVbn87gkEvGIZGJBKE2++Gw+OApdUCq9XadQ5AFEXQFA29Xh+Vc+wSUwIcOXKkSqWjnz1UVQZKFoFABuD2tUEkA5BKSQAc7PZ2eINeOL1ONLU1QS6Xn3EQQ6FUXPTBjMtJTAkAAKv/fe8bdv/xXawrjOR8I0RdEPXOKvh5P2w+GwJiAGQ4DHe7HbyfhyjKIIqdFc4SbmhMUtQ1HUE43L7zzTfXRuUee8ScACqVyqXX67+xWCwRr9cLnU4HqVQKler0eV+SJCGTyc6IYD4Vkh4IBKBUKvHgXcuv++28Ox5VyJWaLqMY5GedB5yN9vZ2dt++fdtIt3FhEm+ONxqNyMjIgFQq7apwiUQCn8/XeQjj+1X/SCQCo8kIQYjAbDYjyZCWvPjWJQ/JafWV7YGGR9atW7erWzExQ8x5QEZqhuzZZ5ePThkYVluaDsPvtkMmyroOUhAgEGJD4FkeVKSz6+EJHoJUgFzPQsKwaLLU2T/975fW2mPNzPQb5l15w9gbPrtx8o33JCcmn57ZxQgxJ8CE0RPGer3eJbm5uUwkEkGjpbFriQEAZDIZ2traEI6Eu07BiKL4fTS0HFarF8XFo149ULXrlrJDX32xZeemcKIxUfXgHQ8+/Zff/+XFIYVDcrsyiwFiSoDHHnssYdG8RW9ZrVaTyWTaOn369FsjkYi1vb0dTqcTADrPadntYJjTQ/xTQbsEIUcwKGLChDE73tv8xvZX/7VmNq2KTF//zvpvao7UqAtyC2675457Nj3yyCMzExITYuK7x8RSBAColWrNY0sfe72ooOimz3Z+VrruvXWzSUh8wwaPfra1wb7QZMxRqFQqWK1WGAgDaJoGSZLwSzuPFDEMgxRlGO3tJy0763aPtXmcJ07lbTQaNfPnz38iGAzOmHPjbWa73R6prq5+7cXXVz7Bsqzj54wrjQkBNBqN5NEHHl2WoE1YUX6ofO+HWz+8q7GlsQoA+mXm6GdOmzOr9uvau+12e55ebwATlCESiYCiKHCcD0qlEmq1GjbeFjAma598e9t7f3dFnQUoLCykU1NTC0YPmTgvGAzeajQa9XFG1ZbKysqXnl/7/FaPz3PO88c9SUwIkJqa2mf1M6t3H6s4VvvcK8/NcHqc7d3TU1JSSCUnzR1uzHs1LS1tRLYpGzabDW63GzpRhEajQXl5OdwDjP/dvG/zLLfPfc5wlPS0TFnx4GEjkxPSHspOS78mIyPDsfPrnS8n5yY/u3Tp0nPe11PEhAAlJSWfm0wmasuWLXPtdvsZld+dq6+8ui/N0csyed0UkiQNGo1G7hcFSKVSCIKAwrkjhs+bN68s+r5zsXTp0mn2dvszJeNLMsuPNpQ3Nx+/Y/36N48IgnDZQlpiQoBrr732ytra2rba2tpj0WlnY8bIKYMJnlgwavioxXFJqYzBYEBTUxO8Su/MB5c/+EG0/Q+Rnpqe+vgjj8/67xe7p8pkImU26xasWrXqkv8437mICQF+CjOnzkwZNmjYV4MKhvWx2WxgWRbVJw9uem7NczdF2/4Y6WnppM8fNIoir9DrdW3Hjx+/bGEtv1gBAGDJwiUPDh145UrJ92d3a6yN5U1NdSVvvPFSzAflniImxsI/laJhRZvb2trcFE1DKpWC53kjy4bio+1imV+0AI//+fETKpWqVBRF8DwPhUKhaWxszIu2i2V+0QI0NzcL8amqf/v9Nl4MBpEkl6v0jDxHIpH8YrrWX7QAAFC6p3QfF+EaRFGEIAjUtVOuzTebzepou1jlFy/A5o83t9ISeh/DMKcCtLSRSOTM30qLYX7xAhAk4eclfHkIoYhEIgERIoZHQhFDtF2s8osXoKmpSfjkk0/2+Hw+p0wmA8Mw2ikTpxRE28Uqv3gBAODrvV/vrauva6Sozt8EmjJxyvBom1jlVyGAx+dhOSW3wevjIGN0qK1rGhhtE6v8KgQAgKqqqo319fUhqUQCv98/KTo9VvnVCLB169bjapVqB0EQCAWDePjhh38R74FfjQAAIOqCb7OkW4iPV0Mv118TnR6L/KoEeO655/YAaEpLS0NzS/NVo0aMirmwm2h+VQJIpVK7w+HYU1tbC7VKnTZ65OiYFyDmH/BCaG5u9m74eMPLSUlJ/Y4fPa5NNaeOAPBltF0s8avyAAA4ePDgVyRJTk41p97tDriPRqf30ksvvfTSSy+99NJLL7300ksvPyf/Bwt6jQmIJet0AAAAAElFTkSuQmCC",
         "type": "image",
         "xaxis": "x",
         "yaxis": "y"
        }
       ],
       "layout": {
        "height": 350,
        "margin": {
         "l": 0,
         "t": 60
        },
        "shapes": [
         {
          "line": {
           "color": "black",
           "width": 2
          },
          "type": "rect",
          "x0": 0,
          "x1": 96,
          "xref": "x",
          "y0": 0,
          "y1": 96,
          "yref": "y"
         }
        ],
        "template": {
         "data": {
          "bar": [
           {
            "error_x": {
             "color": "#2a3f5f"
            },
            "error_y": {
             "color": "#2a3f5f"
            },
            "marker": {
             "line": {
              "color": "#E5ECF6",
              "width": 0.5
             },
             "pattern": {
              "fillmode": "overlay",
              "size": 10,
              "solidity": 0.2
             }
            },
            "type": "bar"
           }
          ],
          "barpolar": [
           {
            "marker": {
             "line": {
              "color": "#E5ECF6",
              "width": 0.5
             },
             "pattern": {
              "fillmode": "overlay",
              "size": 10,
              "solidity": 0.2
             }
            },
            "type": "barpolar"
           }
          ],
          "carpet": [
           {
            "aaxis": {
             "endlinecolor": "#2a3f5f",
             "gridcolor": "white",
             "linecolor": "white",
             "minorgridcolor": "white",
             "startlinecolor": "#2a3f5f"
            },
            "baxis": {
             "endlinecolor": "#2a3f5f",
             "gridcolor": "white",
             "linecolor": "white",
             "minorgridcolor": "white",
             "startlinecolor": "#2a3f5f"
            },
            "type": "carpet"
           }
          ],
          "choropleth": [
           {
            "colorbar": {
             "outlinewidth": 0,
             "ticks": ""
            },
            "type": "choropleth"
           }
          ],
          "contour": [
           {
            "colorbar": {
             "outlinewidth": 0,
             "ticks": ""
            },
            "colorscale": [
             [
              0,
              "#0d0887"
             ],
             [
              0.1111111111111111,
              "#46039f"
             ],
             [
              0.2222222222222222,
              "#7201a8"
             ],
             [
              0.3333333333333333,
              "#9c179e"
             ],
             [
              0.4444444444444444,
              "#bd3786"
             ],
             [
              0.5555555555555556,
              "#d8576b"
             ],
             [
              0.6666666666666666,
              "#ed7953"
             ],
             [
              0.7777777777777778,
              "#fb9f3a"
             ],
             [
              0.8888888888888888,
              "#fdca26"
             ],
             [
              1,
              "#f0f921"
             ]
            ],
            "type": "contour"
           }
          ],
          "contourcarpet": [
           {
            "colorbar": {
             "outlinewidth": 0,
             "ticks": ""
            },
            "type": "contourcarpet"
           }
          ],
          "heatmap": [
           {
            "colorbar": {
             "outlinewidth": 0,
             "ticks": ""
            },
            "colorscale": [
             [
              0,
              "#0d0887"
             ],
             [
              0.1111111111111111,
              "#46039f"
             ],
             [
              0.2222222222222222,
              "#7201a8"
             ],
             [
              0.3333333333333333,
              "#9c179e"
             ],
             [
              0.4444444444444444,
              "#bd3786"
             ],
             [
              0.5555555555555556,
              "#d8576b"
             ],
             [
              0.6666666666666666,
              "#ed7953"
             ],
             [
              0.7777777777777778,
              "#fb9f3a"
             ],
             [
              0.8888888888888888,
              "#fdca26"
             ],
             [
              1,
              "#f0f921"
             ]
            ],
            "type": "heatmap"
           }
          ],
          "heatmapgl": [
           {
            "colorbar": {
             "outlinewidth": 0,
             "ticks": ""
            },
            "colorscale": [
             [
              0,
              "#0d0887"
             ],
             [
              0.1111111111111111,
              "#46039f"
             ],
             [
              0.2222222222222222,
              "#7201a8"
             ],
             [
              0.3333333333333333,
              "#9c179e"
             ],
             [
              0.4444444444444444,
              "#bd3786"
             ],
             [
              0.5555555555555556,
              "#d8576b"
             ],
             [
              0.6666666666666666,
              "#ed7953"
             ],
             [
              0.7777777777777778,
              "#fb9f3a"
             ],
             [
              0.8888888888888888,
              "#fdca26"
             ],
             [
              1,
              "#f0f921"
             ]
            ],
            "type": "heatmapgl"
           }
          ],
          "histogram": [
           {
            "marker": {
             "pattern": {
              "fillmode": "overlay",
              "size": 10,
              "solidity": 0.2
             }
            },
            "type": "histogram"
           }
          ],
          "histogram2d": [
           {
            "colorbar": {
             "outlinewidth": 0,
             "ticks": ""
            },
            "colorscale": [
             [
              0,
              "#0d0887"
             ],
             [
              0.1111111111111111,
              "#46039f"
             ],
             [
              0.2222222222222222,
              "#7201a8"
             ],
             [
              0.3333333333333333,
              "#9c179e"
             ],
             [
              0.4444444444444444,
              "#bd3786"
             ],
             [
              0.5555555555555556,
              "#d8576b"
             ],
             [
              0.6666666666666666,
              "#ed7953"
             ],
             [
              0.7777777777777778,
              "#fb9f3a"
             ],
             [
              0.8888888888888888,
              "#fdca26"
             ],
             [
              1,
              "#f0f921"
             ]
            ],
            "type": "histogram2d"
           }
          ],
          "histogram2dcontour": [
           {
            "colorbar": {
             "outlinewidth": 0,
             "ticks": ""
            },
            "colorscale": [
             [
              0,
              "#0d0887"
             ],
             [
              0.1111111111111111,
              "#46039f"
             ],
             [
              0.2222222222222222,
              "#7201a8"
             ],
             [
              0.3333333333333333,
              "#9c179e"
             ],
             [
              0.4444444444444444,
              "#bd3786"
             ],
             [
              0.5555555555555556,
              "#d8576b"
             ],
             [
              0.6666666666666666,
              "#ed7953"
             ],
             [
              0.7777777777777778,
              "#fb9f3a"
             ],
             [
              0.8888888888888888,
              "#fdca26"
             ],
             [
              1,
              "#f0f921"
             ]
            ],
            "type": "histogram2dcontour"
           }
          ],
          "mesh3d": [
           {
            "colorbar": {
             "outlinewidth": 0,
             "ticks": ""
            },
            "type": "mesh3d"
           }
          ],
          "parcoords": [
           {
            "line": {
             "colorbar": {
              "outlinewidth": 0,
              "ticks": ""
             }
            },
            "type": "parcoords"
           }
          ],
          "pie": [
           {
            "automargin": true,
            "type": "pie"
           }
          ],
          "scatter": [
           {
            "fillpattern": {
             "fillmode": "overlay",
             "size": 10,
             "solidity": 0.2
            },
            "type": "scatter"
           }
          ],
          "scatter3d": [
           {
            "line": {
             "colorbar": {
              "outlinewidth": 0,
              "ticks": ""
             }
            },
            "marker": {
             "colorbar": {
              "outlinewidth": 0,
              "ticks": ""
             }
            },
            "type": "scatter3d"
           }
          ],
          "scattercarpet": [
           {
            "marker": {
             "colorbar": {
              "outlinewidth": 0,
              "ticks": ""
             }
            },
            "type": "scattercarpet"
           }
          ],
          "scattergeo": [
           {
            "marker": {
             "colorbar": {
              "outlinewidth": 0,
              "ticks": ""
             }
            },
            "type": "scattergeo"
           }
          ],
          "scattergl": [
           {
            "marker": {
             "colorbar": {
              "outlinewidth": 0,
              "ticks": ""
             }
            },
            "type": "scattergl"
           }
          ],
          "scattermapbox": [
           {
            "marker": {
             "colorbar": {
              "outlinewidth": 0,
              "ticks": ""
             }
            },
            "type": "scattermapbox"
           }
          ],
          "scatterpolar": [
           {
            "marker": {
             "colorbar": {
              "outlinewidth": 0,
              "ticks": ""
             }
            },
            "type": "scatterpolar"
           }
          ],
          "scatterpolargl": [
           {
            "marker": {
             "colorbar": {
              "outlinewidth": 0,
              "ticks": ""
             }
            },
            "type": "scatterpolargl"
           }
          ],
          "scatterternary": [
           {
            "marker": {
             "colorbar": {
              "outlinewidth": 0,
              "ticks": ""
             }
            },
            "type": "scatterternary"
           }
          ],
          "surface": [
           {
            "colorbar": {
             "outlinewidth": 0,
             "ticks": ""
            },
            "colorscale": [
             [
              0,
              "#0d0887"
             ],
             [
              0.1111111111111111,
              "#46039f"
             ],
             [
              0.2222222222222222,
              "#7201a8"
             ],
             [
              0.3333333333333333,
              "#9c179e"
             ],
             [
              0.4444444444444444,
              "#bd3786"
             ],
             [
              0.5555555555555556,
              "#d8576b"
             ],
             [
              0.6666666666666666,
              "#ed7953"
             ],
             [
              0.7777777777777778,
              "#fb9f3a"
             ],
             [
              0.8888888888888888,
              "#fdca26"
             ],
             [
              1,
              "#f0f921"
             ]
            ],
            "type": "surface"
           }
          ],
          "table": [
           {
            "cells": {
             "fill": {
              "color": "#EBF0F8"
             },
             "line": {
              "color": "white"
             }
            },
            "header": {
             "fill": {
              "color": "#C8D4E3"
             },
             "line": {
              "color": "white"
             }
            },
            "type": "table"
           }
          ]
         },
         "layout": {
          "annotationdefaults": {
           "arrowcolor": "#2a3f5f",
           "arrowhead": 0,
           "arrowwidth": 1
          },
          "autotypenumbers": "strict",
          "coloraxis": {
           "colorbar": {
            "outlinewidth": 0,
            "ticks": ""
           }
          },
          "colorscale": {
           "diverging": [
            [
             0,
             "#8e0152"
            ],
            [
             0.1,
             "#c51b7d"
            ],
            [
             0.2,
             "#de77ae"
            ],
            [
             0.3,
             "#f1b6da"
            ],
            [
             0.4,
             "#fde0ef"
            ],
            [
             0.5,
             "#f7f7f7"
            ],
            [
             0.6,
             "#e6f5d0"
            ],
            [
             0.7,
             "#b8e186"
            ],
            [
             0.8,
             "#7fbc41"
            ],
            [
             0.9,
             "#4d9221"
            ],
            [
             1,
             "#276419"
            ]
           ],
           "sequential": [
            [
             0,
             "#0d0887"
            ],
            [
             0.1111111111111111,
             "#46039f"
            ],
            [
             0.2222222222222222,
             "#7201a8"
            ],
            [
             0.3333333333333333,
             "#9c179e"
            ],
            [
             0.4444444444444444,
             "#bd3786"
            ],
            [
             0.5555555555555556,
             "#d8576b"
            ],
            [
             0.6666666666666666,
             "#ed7953"
            ],
            [
             0.7777777777777778,
             "#fb9f3a"
            ],
            [
             0.8888888888888888,
             "#fdca26"
            ],
            [
             1,
             "#f0f921"
            ]
           ],
           "sequentialminus": [
            [
             0,
             "#0d0887"
            ],
            [
             0.1111111111111111,
             "#46039f"
            ],
            [
             0.2222222222222222,
             "#7201a8"
            ],
            [
             0.3333333333333333,
             "#9c179e"
            ],
            [
             0.4444444444444444,
             "#bd3786"
            ],
            [
             0.5555555555555556,
             "#d8576b"
            ],
            [
             0.6666666666666666,
             "#ed7953"
            ],
            [
             0.7777777777777778,
             "#fb9f3a"
            ],
            [
             0.8888888888888888,
             "#fdca26"
            ],
            [
             1,
             "#f0f921"
            ]
           ]
          },
          "colorway": [
           "#636efa",
           "#EF553B",
           "#00cc96",
           "#ab63fa",
           "#FFA15A",
           "#19d3f3",
           "#FF6692",
           "#B6E880",
           "#FF97FF",
           "#FECB52"
          ],
          "font": {
           "color": "#2a3f5f"
          },
          "geo": {
           "bgcolor": "white",
           "lakecolor": "white",
           "landcolor": "#E5ECF6",
           "showlakes": true,
           "showland": true,
           "subunitcolor": "white"
          },
          "hoverlabel": {
           "align": "left"
          },
          "hovermode": "closest",
          "mapbox": {
           "style": "light"
          },
          "paper_bgcolor": "white",
          "plot_bgcolor": "#E5ECF6",
          "polar": {
           "angularaxis": {
            "gridcolor": "white",
            "linecolor": "white",
            "ticks": ""
           },
           "bgcolor": "#E5ECF6",
           "radialaxis": {
            "gridcolor": "white",
            "linecolor": "white",
            "ticks": ""
           }
          },
          "scene": {
           "xaxis": {
            "backgroundcolor": "#E5ECF6",
            "gridcolor": "white",
            "gridwidth": 2,
            "linecolor": "white",
            "showbackground": true,
            "ticks": "",
            "zerolinecolor": "white"
           },
           "yaxis": {
            "backgroundcolor": "#E5ECF6",
            "gridcolor": "white",
            "gridwidth": 2,
            "linecolor": "white",
            "showbackground": true,
            "ticks": "",
            "zerolinecolor": "white"
           },
           "zaxis": {
            "backgroundcolor": "#E5ECF6",
            "gridcolor": "white",
            "gridwidth": 2,
            "linecolor": "white",
            "showbackground": true,
            "ticks": "",
            "zerolinecolor": "white"
           }
          },
          "shapedefaults": {
           "line": {
            "color": "#2a3f5f"
           }
          },
          "ternary": {
           "aaxis": {
            "gridcolor": "white",
            "linecolor": "white",
            "ticks": ""
           },
           "baxis": {
            "gridcolor": "white",
            "linecolor": "white",
            "ticks": ""
           },
           "bgcolor": "#E5ECF6",
           "caxis": {
            "gridcolor": "white",
            "linecolor": "white",
            "ticks": ""
           }
          },
          "title": {
           "x": 0.05
          },
          "xaxis": {
           "automargin": true,
           "gridcolor": "white",
           "linecolor": "white",
           "ticks": "",
           "title": {
            "standoff": 15
           },
           "zerolinecolor": "white",
           "zerolinewidth": 2
          },
          "yaxis": {
           "automargin": true,
           "gridcolor": "white",
           "linecolor": "white",
           "ticks": "",
           "title": {
            "standoff": 15
           },
           "zerolinecolor": "white",
           "zerolinewidth": 2
          }
         }
        },
        "title": {
         "text": "Label: Naganadel"
        },
        "width": 500,
        "xaxis": {
         "anchor": "y",
         "domain": [
          0,
          1
         ],
         "showgrid": false,
         "showticklabels": false,
         "visible": false,
         "zeroline": false
        },
        "yaxis": {
         "anchor": "x",
         "domain": [
          0,
          1
         ],
         "showgrid": false,
         "showticklabels": false,
         "visible": false,
         "zeroline": false
        }
       }
      }
     },
     "metadata": {},
     "output_type": "display_data"
    }
   ],
   "source": [
    "for x, y in train_ds.take(1):\n",
    "    print(int(tf.argmax(tf.reshape(y[0], [-1, 1]), axis=0)))\n",
    "    plot_image(x[0], class_names[int(tf.argmax(tf.reshape(y[0], [-1, 1]), axis=0))], size=width)"
   ]
  },
  {
   "cell_type": "code",
   "execution_count": 10,
   "metadata": {},
   "outputs": [],
   "source": [
    "# map labels in train_ds to the column Label in types\n",
    "def map_labels(x, y):\n",
    "    y_onehot = tf.argmax(y, axis=1).numpy()\n",
    "    y_labels = np.zeros((len(y_onehot), 18))\n",
    "    for i in range(len(y_onehot)):\n",
    "        y_labels[i] = types.loc[y_onehot[i], 'Label']\n",
    "    y_label = np.insert(y_labels, 0, 1, axis=1)\n",
    "    y_label_tensor = tf.convert_to_tensor(y_label, dtype=tf.float32)\n",
    "    return x, y_label_tensor\n",
    "\n"
   ]
  },
  {
   "cell_type": "code",
   "execution_count": 11,
   "metadata": {},
   "outputs": [
    {
     "name": "stdout",
     "output_type": "stream",
     "text": [
      "WARNING:tensorflow:Using a while_loop for converting RngReadAndSkip cause there is no registered converter for this op.\n",
      "WARNING:tensorflow:Using a while_loop for converting Bitcast cause there is no registered converter for this op.\n",
      "WARNING:tensorflow:Using a while_loop for converting Bitcast cause there is no registered converter for this op.\n",
      "WARNING:tensorflow:Using a while_loop for converting StatelessRandomUniformV2 cause there is no registered converter for this op.\n",
      "WARNING:tensorflow:Using a while_loop for converting ImageProjectiveTransformV3 cause there is no registered converter for this op.\n",
      "WARNING:tensorflow:Using a while_loop for converting RngReadAndSkip cause there is no registered converter for this op.\n",
      "WARNING:tensorflow:Using a while_loop for converting Bitcast cause there is no registered converter for this op.\n",
      "WARNING:tensorflow:Using a while_loop for converting Bitcast cause there is no registered converter for this op.\n",
      "WARNING:tensorflow:Using a while_loop for converting StatelessRandomUniformV2 cause there is no registered converter for this op.\n",
      "WARNING:tensorflow:Using a while_loop for converting RngReadAndSkip cause there is no registered converter for this op.\n",
      "WARNING:tensorflow:Using a while_loop for converting Bitcast cause there is no registered converter for this op.\n",
      "WARNING:tensorflow:Using a while_loop for converting Bitcast cause there is no registered converter for this op.\n",
      "WARNING:tensorflow:Using a while_loop for converting StatelessRandomUniformV2 cause there is no registered converter for this op.\n",
      "WARNING:tensorflow:Using a while_loop for converting RngReadAndSkip cause there is no registered converter for this op.\n",
      "WARNING:tensorflow:Using a while_loop for converting Bitcast cause there is no registered converter for this op.\n",
      "WARNING:tensorflow:Using a while_loop for converting Bitcast cause there is no registered converter for this op.\n",
      "WARNING:tensorflow:Using a while_loop for converting StatelessRandomUniformV2 cause there is no registered converter for this op.\n",
      "WARNING:tensorflow:Using a while_loop for converting ImageProjectiveTransformV3 cause there is no registered converter for this op.\n",
      "WARNING:tensorflow:Using a while_loop for converting RngReadAndSkip cause there is no registered converter for this op.\n",
      "WARNING:tensorflow:Using a while_loop for converting Bitcast cause there is no registered converter for this op.\n",
      "WARNING:tensorflow:Using a while_loop for converting Bitcast cause there is no registered converter for this op.\n",
      "WARNING:tensorflow:Using a while_loop for converting StatelessRandomUniformV2 cause there is no registered converter for this op.\n",
      "WARNING:tensorflow:Using a while_loop for converting RngReadAndSkip cause there is no registered converter for this op.\n",
      "WARNING:tensorflow:Using a while_loop for converting Bitcast cause there is no registered converter for this op.\n",
      "WARNING:tensorflow:Using a while_loop for converting Bitcast cause there is no registered converter for this op.\n",
      "WARNING:tensorflow:Using a while_loop for converting StatelessRandomUniformV2 cause there is no registered converter for this op.\n"
     ]
    }
   ],
   "source": [
    "train_ds = prepare(train_ds, shuffle=True, augment=True, GAN=True)\n",
    "train_ds = train_ds.map(lambda x, y: tf.py_function(map_labels, [x, y], [tf.float32, tf.float32]))\n",
    "\n",
    "channels = 3\n",
    "input_shape = (width, height, channels)"
   ]
  },
  {
   "cell_type": "code",
   "execution_count": 12,
   "metadata": {},
   "outputs": [
    {
     "name": "stdout",
     "output_type": "stream",
     "text": [
      "tf.Tensor([1. 0. 0. 0. 0. 0. 0. 0. 0. 0. 0. 0. 0. 0. 0. 0. 1. 0. 0.], shape=(19,), dtype=float32)\n",
      "(96, 96, 3)\n"
     ]
    },
    {
     "data": {
      "application/vnd.plotly.v1+json": {
       "config": {
        "plotlyServerURL": "https://plot.ly"
       },
       "data": [
        {
         "hovertemplate": "x: %{x}<br>y: %{y}<br>color: [%{z[0]}, %{z[1]}, %{z[2]}]<extra></extra>",
         "name": "0",
         "source": "data:image/png;base64,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",
         "type": "image",
         "xaxis": "x",
         "yaxis": "y"
        }
       ],
       "layout": {
        "height": 350,
        "margin": {
         "l": 0,
         "t": 60
        },
        "shapes": [
         {
          "line": {
           "color": "black",
           "width": 2
          },
          "type": "rect",
          "x0": 0,
          "x1": 96,
          "xref": "x",
          "y0": 0,
          "y1": 96,
          "yref": "y"
         }
        ],
        "template": {
         "data": {
          "bar": [
           {
            "error_x": {
             "color": "#2a3f5f"
            },
            "error_y": {
             "color": "#2a3f5f"
            },
            "marker": {
             "line": {
              "color": "#E5ECF6",
              "width": 0.5
             },
             "pattern": {
              "fillmode": "overlay",
              "size": 10,
              "solidity": 0.2
             }
            },
            "type": "bar"
           }
          ],
          "barpolar": [
           {
            "marker": {
             "line": {
              "color": "#E5ECF6",
              "width": 0.5
             },
             "pattern": {
              "fillmode": "overlay",
              "size": 10,
              "solidity": 0.2
             }
            },
            "type": "barpolar"
           }
          ],
          "carpet": [
           {
            "aaxis": {
             "endlinecolor": "#2a3f5f",
             "gridcolor": "white",
             "linecolor": "white",
             "minorgridcolor": "white",
             "startlinecolor": "#2a3f5f"
            },
            "baxis": {
             "endlinecolor": "#2a3f5f",
             "gridcolor": "white",
             "linecolor": "white",
             "minorgridcolor": "white",
             "startlinecolor": "#2a3f5f"
            },
            "type": "carpet"
           }
          ],
          "choropleth": [
           {
            "colorbar": {
             "outlinewidth": 0,
             "ticks": ""
            },
            "type": "choropleth"
           }
          ],
          "contour": [
           {
            "colorbar": {
             "outlinewidth": 0,
             "ticks": ""
            },
            "colorscale": [
             [
              0,
              "#0d0887"
             ],
             [
              0.1111111111111111,
              "#46039f"
             ],
             [
              0.2222222222222222,
              "#7201a8"
             ],
             [
              0.3333333333333333,
              "#9c179e"
             ],
             [
              0.4444444444444444,
              "#bd3786"
             ],
             [
              0.5555555555555556,
              "#d8576b"
             ],
             [
              0.6666666666666666,
              "#ed7953"
             ],
             [
              0.7777777777777778,
              "#fb9f3a"
             ],
             [
              0.8888888888888888,
              "#fdca26"
             ],
             [
              1,
              "#f0f921"
             ]
            ],
            "type": "contour"
           }
          ],
          "contourcarpet": [
           {
            "colorbar": {
             "outlinewidth": 0,
             "ticks": ""
            },
            "type": "contourcarpet"
           }
          ],
          "heatmap": [
           {
            "colorbar": {
             "outlinewidth": 0,
             "ticks": ""
            },
            "colorscale": [
             [
              0,
              "#0d0887"
             ],
             [
              0.1111111111111111,
              "#46039f"
             ],
             [
              0.2222222222222222,
              "#7201a8"
             ],
             [
              0.3333333333333333,
              "#9c179e"
             ],
             [
              0.4444444444444444,
              "#bd3786"
             ],
             [
              0.5555555555555556,
              "#d8576b"
             ],
             [
              0.6666666666666666,
              "#ed7953"
             ],
             [
              0.7777777777777778,
              "#fb9f3a"
             ],
             [
              0.8888888888888888,
              "#fdca26"
             ],
             [
              1,
              "#f0f921"
             ]
            ],
            "type": "heatmap"
           }
          ],
          "heatmapgl": [
           {
            "colorbar": {
             "outlinewidth": 0,
             "ticks": ""
            },
            "colorscale": [
             [
              0,
              "#0d0887"
             ],
             [
              0.1111111111111111,
              "#46039f"
             ],
             [
              0.2222222222222222,
              "#7201a8"
             ],
             [
              0.3333333333333333,
              "#9c179e"
             ],
             [
              0.4444444444444444,
              "#bd3786"
             ],
             [
              0.5555555555555556,
              "#d8576b"
             ],
             [
              0.6666666666666666,
              "#ed7953"
             ],
             [
              0.7777777777777778,
              "#fb9f3a"
             ],
             [
              0.8888888888888888,
              "#fdca26"
             ],
             [
              1,
              "#f0f921"
             ]
            ],
            "type": "heatmapgl"
           }
          ],
          "histogram": [
           {
            "marker": {
             "pattern": {
              "fillmode": "overlay",
              "size": 10,
              "solidity": 0.2
             }
            },
            "type": "histogram"
           }
          ],
          "histogram2d": [
           {
            "colorbar": {
             "outlinewidth": 0,
             "ticks": ""
            },
            "colorscale": [
             [
              0,
              "#0d0887"
             ],
             [
              0.1111111111111111,
              "#46039f"
             ],
             [
              0.2222222222222222,
              "#7201a8"
             ],
             [
              0.3333333333333333,
              "#9c179e"
             ],
             [
              0.4444444444444444,
              "#bd3786"
             ],
             [
              0.5555555555555556,
              "#d8576b"
             ],
             [
              0.6666666666666666,
              "#ed7953"
             ],
             [
              0.7777777777777778,
              "#fb9f3a"
             ],
             [
              0.8888888888888888,
              "#fdca26"
             ],
             [
              1,
              "#f0f921"
             ]
            ],
            "type": "histogram2d"
           }
          ],
          "histogram2dcontour": [
           {
            "colorbar": {
             "outlinewidth": 0,
             "ticks": ""
            },
            "colorscale": [
             [
              0,
              "#0d0887"
             ],
             [
              0.1111111111111111,
              "#46039f"
             ],
             [
              0.2222222222222222,
              "#7201a8"
             ],
             [
              0.3333333333333333,
              "#9c179e"
             ],
             [
              0.4444444444444444,
              "#bd3786"
             ],
             [
              0.5555555555555556,
              "#d8576b"
             ],
             [
              0.6666666666666666,
              "#ed7953"
             ],
             [
              0.7777777777777778,
              "#fb9f3a"
             ],
             [
              0.8888888888888888,
              "#fdca26"
             ],
             [
              1,
              "#f0f921"
             ]
            ],
            "type": "histogram2dcontour"
           }
          ],
          "mesh3d": [
           {
            "colorbar": {
             "outlinewidth": 0,
             "ticks": ""
            },
            "type": "mesh3d"
           }
          ],
          "parcoords": [
           {
            "line": {
             "colorbar": {
              "outlinewidth": 0,
              "ticks": ""
             }
            },
            "type": "parcoords"
           }
          ],
          "pie": [
           {
            "automargin": true,
            "type": "pie"
           }
          ],
          "scatter": [
           {
            "fillpattern": {
             "fillmode": "overlay",
             "size": 10,
             "solidity": 0.2
            },
            "type": "scatter"
           }
          ],
          "scatter3d": [
           {
            "line": {
             "colorbar": {
              "outlinewidth": 0,
              "ticks": ""
             }
            },
            "marker": {
             "colorbar": {
              "outlinewidth": 0,
              "ticks": ""
             }
            },
            "type": "scatter3d"
           }
          ],
          "scattercarpet": [
           {
            "marker": {
             "colorbar": {
              "outlinewidth": 0,
              "ticks": ""
             }
            },
            "type": "scattercarpet"
           }
          ],
          "scattergeo": [
           {
            "marker": {
             "colorbar": {
              "outlinewidth": 0,
              "ticks": ""
             }
            },
            "type": "scattergeo"
           }
          ],
          "scattergl": [
           {
            "marker": {
             "colorbar": {
              "outlinewidth": 0,
              "ticks": ""
             }
            },
            "type": "scattergl"
           }
          ],
          "scattermapbox": [
           {
            "marker": {
             "colorbar": {
              "outlinewidth": 0,
              "ticks": ""
             }
            },
            "type": "scattermapbox"
           }
          ],
          "scatterpolar": [
           {
            "marker": {
             "colorbar": {
              "outlinewidth": 0,
              "ticks": ""
             }
            },
            "type": "scatterpolar"
           }
          ],
          "scatterpolargl": [
           {
            "marker": {
             "colorbar": {
              "outlinewidth": 0,
              "ticks": ""
             }
            },
            "type": "scatterpolargl"
           }
          ],
          "scatterternary": [
           {
            "marker": {
             "colorbar": {
              "outlinewidth": 0,
              "ticks": ""
             }
            },
            "type": "scatterternary"
           }
          ],
          "surface": [
           {
            "colorbar": {
             "outlinewidth": 0,
             "ticks": ""
            },
            "colorscale": [
             [
              0,
              "#0d0887"
             ],
             [
              0.1111111111111111,
              "#46039f"
             ],
             [
              0.2222222222222222,
              "#7201a8"
             ],
             [
              0.3333333333333333,
              "#9c179e"
             ],
             [
              0.4444444444444444,
              "#bd3786"
             ],
             [
              0.5555555555555556,
              "#d8576b"
             ],
             [
              0.6666666666666666,
              "#ed7953"
             ],
             [
              0.7777777777777778,
              "#fb9f3a"
             ],
             [
              0.8888888888888888,
              "#fdca26"
             ],
             [
              1,
              "#f0f921"
             ]
            ],
            "type": "surface"
           }
          ],
          "table": [
           {
            "cells": {
             "fill": {
              "color": "#EBF0F8"
             },
             "line": {
              "color": "white"
             }
            },
            "header": {
             "fill": {
              "color": "#C8D4E3"
             },
             "line": {
              "color": "white"
             }
            },
            "type": "table"
           }
          ]
         },
         "layout": {
          "annotationdefaults": {
           "arrowcolor": "#2a3f5f",
           "arrowhead": 0,
           "arrowwidth": 1
          },
          "autotypenumbers": "strict",
          "coloraxis": {
           "colorbar": {
            "outlinewidth": 0,
            "ticks": ""
           }
          },
          "colorscale": {
           "diverging": [
            [
             0,
             "#8e0152"
            ],
            [
             0.1,
             "#c51b7d"
            ],
            [
             0.2,
             "#de77ae"
            ],
            [
             0.3,
             "#f1b6da"
            ],
            [
             0.4,
             "#fde0ef"
            ],
            [
             0.5,
             "#f7f7f7"
            ],
            [
             0.6,
             "#e6f5d0"
            ],
            [
             0.7,
             "#b8e186"
            ],
            [
             0.8,
             "#7fbc41"
            ],
            [
             0.9,
             "#4d9221"
            ],
            [
             1,
             "#276419"
            ]
           ],
           "sequential": [
            [
             0,
             "#0d0887"
            ],
            [
             0.1111111111111111,
             "#46039f"
            ],
            [
             0.2222222222222222,
             "#7201a8"
            ],
            [
             0.3333333333333333,
             "#9c179e"
            ],
            [
             0.4444444444444444,
             "#bd3786"
            ],
            [
             0.5555555555555556,
             "#d8576b"
            ],
            [
             0.6666666666666666,
             "#ed7953"
            ],
            [
             0.7777777777777778,
             "#fb9f3a"
            ],
            [
             0.8888888888888888,
             "#fdca26"
            ],
            [
             1,
             "#f0f921"
            ]
           ],
           "sequentialminus": [
            [
             0,
             "#0d0887"
            ],
            [
             0.1111111111111111,
             "#46039f"
            ],
            [
             0.2222222222222222,
             "#7201a8"
            ],
            [
             0.3333333333333333,
             "#9c179e"
            ],
            [
             0.4444444444444444,
             "#bd3786"
            ],
            [
             0.5555555555555556,
             "#d8576b"
            ],
            [
             0.6666666666666666,
             "#ed7953"
            ],
            [
             0.7777777777777778,
             "#fb9f3a"
            ],
            [
             0.8888888888888888,
             "#fdca26"
            ],
            [
             1,
             "#f0f921"
            ]
           ]
          },
          "colorway": [
           "#636efa",
           "#EF553B",
           "#00cc96",
           "#ab63fa",
           "#FFA15A",
           "#19d3f3",
           "#FF6692",
           "#B6E880",
           "#FF97FF",
           "#FECB52"
          ],
          "font": {
           "color": "#2a3f5f"
          },
          "geo": {
           "bgcolor": "white",
           "lakecolor": "white",
           "landcolor": "#E5ECF6",
           "showlakes": true,
           "showland": true,
           "subunitcolor": "white"
          },
          "hoverlabel": {
           "align": "left"
          },
          "hovermode": "closest",
          "mapbox": {
           "style": "light"
          },
          "paper_bgcolor": "white",
          "plot_bgcolor": "#E5ECF6",
          "polar": {
           "angularaxis": {
            "gridcolor": "white",
            "linecolor": "white",
            "ticks": ""
           },
           "bgcolor": "#E5ECF6",
           "radialaxis": {
            "gridcolor": "white",
            "linecolor": "white",
            "ticks": ""
           }
          },
          "scene": {
           "xaxis": {
            "backgroundcolor": "#E5ECF6",
            "gridcolor": "white",
            "gridwidth": 2,
            "linecolor": "white",
            "showbackground": true,
            "ticks": "",
            "zerolinecolor": "white"
           },
           "yaxis": {
            "backgroundcolor": "#E5ECF6",
            "gridcolor": "white",
            "gridwidth": 2,
            "linecolor": "white",
            "showbackground": true,
            "ticks": "",
            "zerolinecolor": "white"
           },
           "zaxis": {
            "backgroundcolor": "#E5ECF6",
            "gridcolor": "white",
            "gridwidth": 2,
            "linecolor": "white",
            "showbackground": true,
            "ticks": "",
            "zerolinecolor": "white"
           }
          },
          "shapedefaults": {
           "line": {
            "color": "#2a3f5f"
           }
          },
          "ternary": {
           "aaxis": {
            "gridcolor": "white",
            "linecolor": "white",
            "ticks": ""
           },
           "baxis": {
            "gridcolor": "white",
            "linecolor": "white",
            "ticks": ""
           },
           "bgcolor": "#E5ECF6",
           "caxis": {
            "gridcolor": "white",
            "linecolor": "white",
            "ticks": ""
           }
          },
          "title": {
           "x": 0.05
          },
          "xaxis": {
           "automargin": true,
           "gridcolor": "white",
           "linecolor": "white",
           "ticks": "",
           "title": {
            "standoff": 15
           },
           "zerolinecolor": "white",
           "zerolinewidth": 2
          },
          "yaxis": {
           "automargin": true,
           "gridcolor": "white",
           "linecolor": "white",
           "ticks": "",
           "title": {
            "standoff": 15
           },
           "zerolinecolor": "white",
           "zerolinewidth": 2
          }
         }
        },
        "title": {
         "text": "Label: Abomasnow"
        },
        "width": 500,
        "xaxis": {
         "anchor": "y",
         "domain": [
          0,
          1
         ],
         "showgrid": false,
         "showticklabels": false,
         "visible": false,
         "zeroline": false
        },
        "yaxis": {
         "anchor": "x",
         "domain": [
          0,
          1
         ],
         "showgrid": false,
         "showticklabels": false,
         "visible": false,
         "zeroline": false
        }
       }
      }
     },
     "metadata": {},
     "output_type": "display_data"
    },
    {
     "name": "stdout",
     "output_type": "stream",
     "text": [
      "tf.Tensor([1. 0. 1. 0. 0. 0. 0. 0. 0. 0. 0. 0. 0. 0. 0. 0. 0. 0. 0.], shape=(19,), dtype=float32)\n",
      "(96, 96, 3)\n"
     ]
    },
    {
     "data": {
      "application/vnd.plotly.v1+json": {
       "config": {
        "plotlyServerURL": "https://plot.ly"
       },
       "data": [
        {
         "hovertemplate": "x: %{x}<br>y: %{y}<br>color: [%{z[0]}, %{z[1]}, %{z[2]}]<extra></extra>",
         "name": "0",
         "source": "data:image/png;base64,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",
         "type": "image",
         "xaxis": "x",
         "yaxis": "y"
        }
       ],
       "layout": {
        "height": 350,
        "margin": {
         "l": 0,
         "t": 60
        },
        "shapes": [
         {
          "line": {
           "color": "black",
           "width": 2
          },
          "type": "rect",
          "x0": 0,
          "x1": 96,
          "xref": "x",
          "y0": 0,
          "y1": 96,
          "yref": "y"
         }
        ],
        "template": {
         "data": {
          "bar": [
           {
            "error_x": {
             "color": "#2a3f5f"
            },
            "error_y": {
             "color": "#2a3f5f"
            },
            "marker": {
             "line": {
              "color": "#E5ECF6",
              "width": 0.5
             },
             "pattern": {
              "fillmode": "overlay",
              "size": 10,
              "solidity": 0.2
             }
            },
            "type": "bar"
           }
          ],
          "barpolar": [
           {
            "marker": {
             "line": {
              "color": "#E5ECF6",
              "width": 0.5
             },
             "pattern": {
              "fillmode": "overlay",
              "size": 10,
              "solidity": 0.2
             }
            },
            "type": "barpolar"
           }
          ],
          "carpet": [
           {
            "aaxis": {
             "endlinecolor": "#2a3f5f",
             "gridcolor": "white",
             "linecolor": "white",
             "minorgridcolor": "white",
             "startlinecolor": "#2a3f5f"
            },
            "baxis": {
             "endlinecolor": "#2a3f5f",
             "gridcolor": "white",
             "linecolor": "white",
             "minorgridcolor": "white",
             "startlinecolor": "#2a3f5f"
            },
            "type": "carpet"
           }
          ],
          "choropleth": [
           {
            "colorbar": {
             "outlinewidth": 0,
             "ticks": ""
            },
            "type": "choropleth"
           }
          ],
          "contour": [
           {
            "colorbar": {
             "outlinewidth": 0,
             "ticks": ""
            },
            "colorscale": [
             [
              0,
              "#0d0887"
             ],
             [
              0.1111111111111111,
              "#46039f"
             ],
             [
              0.2222222222222222,
              "#7201a8"
             ],
             [
              0.3333333333333333,
              "#9c179e"
             ],
             [
              0.4444444444444444,
              "#bd3786"
             ],
             [
              0.5555555555555556,
              "#d8576b"
             ],
             [
              0.6666666666666666,
              "#ed7953"
             ],
             [
              0.7777777777777778,
              "#fb9f3a"
             ],
             [
              0.8888888888888888,
              "#fdca26"
             ],
             [
              1,
              "#f0f921"
             ]
            ],
            "type": "contour"
           }
          ],
          "contourcarpet": [
           {
            "colorbar": {
             "outlinewidth": 0,
             "ticks": ""
            },
            "type": "contourcarpet"
           }
          ],
          "heatmap": [
           {
            "colorbar": {
             "outlinewidth": 0,
             "ticks": ""
            },
            "colorscale": [
             [
              0,
              "#0d0887"
             ],
             [
              0.1111111111111111,
              "#46039f"
             ],
             [
              0.2222222222222222,
              "#7201a8"
             ],
             [
              0.3333333333333333,
              "#9c179e"
             ],
             [
              0.4444444444444444,
              "#bd3786"
             ],
             [
              0.5555555555555556,
              "#d8576b"
             ],
             [
              0.6666666666666666,
              "#ed7953"
             ],
             [
              0.7777777777777778,
              "#fb9f3a"
             ],
             [
              0.8888888888888888,
              "#fdca26"
             ],
             [
              1,
              "#f0f921"
             ]
            ],
            "type": "heatmap"
           }
          ],
          "heatmapgl": [
           {
            "colorbar": {
             "outlinewidth": 0,
             "ticks": ""
            },
            "colorscale": [
             [
              0,
              "#0d0887"
             ],
             [
              0.1111111111111111,
              "#46039f"
             ],
             [
              0.2222222222222222,
              "#7201a8"
             ],
             [
              0.3333333333333333,
              "#9c179e"
             ],
             [
              0.4444444444444444,
              "#bd3786"
             ],
             [
              0.5555555555555556,
              "#d8576b"
             ],
             [
              0.6666666666666666,
              "#ed7953"
             ],
             [
              0.7777777777777778,
              "#fb9f3a"
             ],
             [
              0.8888888888888888,
              "#fdca26"
             ],
             [
              1,
              "#f0f921"
             ]
            ],
            "type": "heatmapgl"
           }
          ],
          "histogram": [
           {
            "marker": {
             "pattern": {
              "fillmode": "overlay",
              "size": 10,
              "solidity": 0.2
             }
            },
            "type": "histogram"
           }
          ],
          "histogram2d": [
           {
            "colorbar": {
             "outlinewidth": 0,
             "ticks": ""
            },
            "colorscale": [
             [
              0,
              "#0d0887"
             ],
             [
              0.1111111111111111,
              "#46039f"
             ],
             [
              0.2222222222222222,
              "#7201a8"
             ],
             [
              0.3333333333333333,
              "#9c179e"
             ],
             [
              0.4444444444444444,
              "#bd3786"
             ],
             [
              0.5555555555555556,
              "#d8576b"
             ],
             [
              0.6666666666666666,
              "#ed7953"
             ],
             [
              0.7777777777777778,
              "#fb9f3a"
             ],
             [
              0.8888888888888888,
              "#fdca26"
             ],
             [
              1,
              "#f0f921"
             ]
            ],
            "type": "histogram2d"
           }
          ],
          "histogram2dcontour": [
           {
            "colorbar": {
             "outlinewidth": 0,
             "ticks": ""
            },
            "colorscale": [
             [
              0,
              "#0d0887"
             ],
             [
              0.1111111111111111,
              "#46039f"
             ],
             [
              0.2222222222222222,
              "#7201a8"
             ],
             [
              0.3333333333333333,
              "#9c179e"
             ],
             [
              0.4444444444444444,
              "#bd3786"
             ],
             [
              0.5555555555555556,
              "#d8576b"
             ],
             [
              0.6666666666666666,
              "#ed7953"
             ],
             [
              0.7777777777777778,
              "#fb9f3a"
             ],
             [
              0.8888888888888888,
              "#fdca26"
             ],
             [
              1,
              "#f0f921"
             ]
            ],
            "type": "histogram2dcontour"
           }
          ],
          "mesh3d": [
           {
            "colorbar": {
             "outlinewidth": 0,
             "ticks": ""
            },
            "type": "mesh3d"
           }
          ],
          "parcoords": [
           {
            "line": {
             "colorbar": {
              "outlinewidth": 0,
              "ticks": ""
             }
            },
            "type": "parcoords"
           }
          ],
          "pie": [
           {
            "automargin": true,
            "type": "pie"
           }
          ],
          "scatter": [
           {
            "fillpattern": {
             "fillmode": "overlay",
             "size": 10,
             "solidity": 0.2
            },
            "type": "scatter"
           }
          ],
          "scatter3d": [
           {
            "line": {
             "colorbar": {
              "outlinewidth": 0,
              "ticks": ""
             }
            },
            "marker": {
             "colorbar": {
              "outlinewidth": 0,
              "ticks": ""
             }
            },
            "type": "scatter3d"
           }
          ],
          "scattercarpet": [
           {
            "marker": {
             "colorbar": {
              "outlinewidth": 0,
              "ticks": ""
             }
            },
            "type": "scattercarpet"
           }
          ],
          "scattergeo": [
           {
            "marker": {
             "colorbar": {
              "outlinewidth": 0,
              "ticks": ""
             }
            },
            "type": "scattergeo"
           }
          ],
          "scattergl": [
           {
            "marker": {
             "colorbar": {
              "outlinewidth": 0,
              "ticks": ""
             }
            },
            "type": "scattergl"
           }
          ],
          "scattermapbox": [
           {
            "marker": {
             "colorbar": {
              "outlinewidth": 0,
              "ticks": ""
             }
            },
            "type": "scattermapbox"
           }
          ],
          "scatterpolar": [
           {
            "marker": {
             "colorbar": {
              "outlinewidth": 0,
              "ticks": ""
             }
            },
            "type": "scatterpolar"
           }
          ],
          "scatterpolargl": [
           {
            "marker": {
             "colorbar": {
              "outlinewidth": 0,
              "ticks": ""
             }
            },
            "type": "scatterpolargl"
           }
          ],
          "scatterternary": [
           {
            "marker": {
             "colorbar": {
              "outlinewidth": 0,
              "ticks": ""
             }
            },
            "type": "scatterternary"
           }
          ],
          "surface": [
           {
            "colorbar": {
             "outlinewidth": 0,
             "ticks": ""
            },
            "colorscale": [
             [
              0,
              "#0d0887"
             ],
             [
              0.1111111111111111,
              "#46039f"
             ],
             [
              0.2222222222222222,
              "#7201a8"
             ],
             [
              0.3333333333333333,
              "#9c179e"
             ],
             [
              0.4444444444444444,
              "#bd3786"
             ],
             [
              0.5555555555555556,
              "#d8576b"
             ],
             [
              0.6666666666666666,
              "#ed7953"
             ],
             [
              0.7777777777777778,
              "#fb9f3a"
             ],
             [
              0.8888888888888888,
              "#fdca26"
             ],
             [
              1,
              "#f0f921"
             ]
            ],
            "type": "surface"
           }
          ],
          "table": [
           {
            "cells": {
             "fill": {
              "color": "#EBF0F8"
             },
             "line": {
              "color": "white"
             }
            },
            "header": {
             "fill": {
              "color": "#C8D4E3"
             },
             "line": {
              "color": "white"
             }
            },
            "type": "table"
           }
          ]
         },
         "layout": {
          "annotationdefaults": {
           "arrowcolor": "#2a3f5f",
           "arrowhead": 0,
           "arrowwidth": 1
          },
          "autotypenumbers": "strict",
          "coloraxis": {
           "colorbar": {
            "outlinewidth": 0,
            "ticks": ""
           }
          },
          "colorscale": {
           "diverging": [
            [
             0,
             "#8e0152"
            ],
            [
             0.1,
             "#c51b7d"
            ],
            [
             0.2,
             "#de77ae"
            ],
            [
             0.3,
             "#f1b6da"
            ],
            [
             0.4,
             "#fde0ef"
            ],
            [
             0.5,
             "#f7f7f7"
            ],
            [
             0.6,
             "#e6f5d0"
            ],
            [
             0.7,
             "#b8e186"
            ],
            [
             0.8,
             "#7fbc41"
            ],
            [
             0.9,
             "#4d9221"
            ],
            [
             1,
             "#276419"
            ]
           ],
           "sequential": [
            [
             0,
             "#0d0887"
            ],
            [
             0.1111111111111111,
             "#46039f"
            ],
            [
             0.2222222222222222,
             "#7201a8"
            ],
            [
             0.3333333333333333,
             "#9c179e"
            ],
            [
             0.4444444444444444,
             "#bd3786"
            ],
            [
             0.5555555555555556,
             "#d8576b"
            ],
            [
             0.6666666666666666,
             "#ed7953"
            ],
            [
             0.7777777777777778,
             "#fb9f3a"
            ],
            [
             0.8888888888888888,
             "#fdca26"
            ],
            [
             1,
             "#f0f921"
            ]
           ],
           "sequentialminus": [
            [
             0,
             "#0d0887"
            ],
            [
             0.1111111111111111,
             "#46039f"
            ],
            [
             0.2222222222222222,
             "#7201a8"
            ],
            [
             0.3333333333333333,
             "#9c179e"
            ],
            [
             0.4444444444444444,
             "#bd3786"
            ],
            [
             0.5555555555555556,
             "#d8576b"
            ],
            [
             0.6666666666666666,
             "#ed7953"
            ],
            [
             0.7777777777777778,
             "#fb9f3a"
            ],
            [
             0.8888888888888888,
             "#fdca26"
            ],
            [
             1,
             "#f0f921"
            ]
           ]
          },
          "colorway": [
           "#636efa",
           "#EF553B",
           "#00cc96",
           "#ab63fa",
           "#FFA15A",
           "#19d3f3",
           "#FF6692",
           "#B6E880",
           "#FF97FF",
           "#FECB52"
          ],
          "font": {
           "color": "#2a3f5f"
          },
          "geo": {
           "bgcolor": "white",
           "lakecolor": "white",
           "landcolor": "#E5ECF6",
           "showlakes": true,
           "showland": true,
           "subunitcolor": "white"
          },
          "hoverlabel": {
           "align": "left"
          },
          "hovermode": "closest",
          "mapbox": {
           "style": "light"
          },
          "paper_bgcolor": "white",
          "plot_bgcolor": "#E5ECF6",
          "polar": {
           "angularaxis": {
            "gridcolor": "white",
            "linecolor": "white",
            "ticks": ""
           },
           "bgcolor": "#E5ECF6",
           "radialaxis": {
            "gridcolor": "white",
            "linecolor": "white",
            "ticks": ""
           }
          },
          "scene": {
           "xaxis": {
            "backgroundcolor": "#E5ECF6",
            "gridcolor": "white",
            "gridwidth": 2,
            "linecolor": "white",
            "showbackground": true,
            "ticks": "",
            "zerolinecolor": "white"
           },
           "yaxis": {
            "backgroundcolor": "#E5ECF6",
            "gridcolor": "white",
            "gridwidth": 2,
            "linecolor": "white",
            "showbackground": true,
            "ticks": "",
            "zerolinecolor": "white"
           },
           "zaxis": {
            "backgroundcolor": "#E5ECF6",
            "gridcolor": "white",
            "gridwidth": 2,
            "linecolor": "white",
            "showbackground": true,
            "ticks": "",
            "zerolinecolor": "white"
           }
          },
          "shapedefaults": {
           "line": {
            "color": "#2a3f5f"
           }
          },
          "ternary": {
           "aaxis": {
            "gridcolor": "white",
            "linecolor": "white",
            "ticks": ""
           },
           "baxis": {
            "gridcolor": "white",
            "linecolor": "white",
            "ticks": ""
           },
           "bgcolor": "#E5ECF6",
           "caxis": {
            "gridcolor": "white",
            "linecolor": "white",
            "ticks": ""
           }
          },
          "title": {
           "x": 0.05
          },
          "xaxis": {
           "automargin": true,
           "gridcolor": "white",
           "linecolor": "white",
           "ticks": "",
           "title": {
            "standoff": 15
           },
           "zerolinecolor": "white",
           "zerolinewidth": 2
          },
          "yaxis": {
           "automargin": true,
           "gridcolor": "white",
           "linecolor": "white",
           "ticks": "",
           "title": {
            "standoff": 15
           },
           "zerolinecolor": "white",
           "zerolinewidth": 2
          }
         }
        },
        "title": {
         "text": "Label: Abomasnow"
        },
        "width": 500,
        "xaxis": {
         "anchor": "y",
         "domain": [
          0,
          1
         ],
         "showgrid": false,
         "showticklabels": false,
         "visible": false,
         "zeroline": false
        },
        "yaxis": {
         "anchor": "x",
         "domain": [
          0,
          1
         ],
         "showgrid": false,
         "showticklabels": false,
         "visible": false,
         "zeroline": false
        }
       }
      }
     },
     "metadata": {},
     "output_type": "display_data"
    },
    {
     "name": "stdout",
     "output_type": "stream",
     "text": [
      "tf.Tensor([1. 0. 0. 0. 0. 0. 0. 0. 0. 1. 0. 0. 0. 0. 0. 0. 0. 0. 1.], shape=(19,), dtype=float32)\n",
      "(96, 96, 3)\n"
     ]
    },
    {
     "data": {
      "application/vnd.plotly.v1+json": {
       "config": {
        "plotlyServerURL": "https://plot.ly"
       },
       "data": [
        {
         "hovertemplate": "x: %{x}<br>y: %{y}<br>color: [%{z[0]}, %{z[1]}, %{z[2]}]<extra></extra>",
         "name": "0",
         "source": "data:image/png;base64,iVBORw0KGgoAAAANSUhEUgAAAGAAAABgCAIAAABt+uBvAAAkYElEQVR4XuWcd5Bcx53fu1+Ok8PmnIHF7gKLjCUCQYBJJEVRoY4Kp7vz3dlnlc6lcpXtKpfL5SqXqxzKdfadq+STTJ1OoiSKxyiSEkEABEEu0i7iApvzzk5Ob2Ze7vYfAywXg7CzC4DylT//oND9637zvq/Dr3/dvRBjDDaKZVnT0zPvvf/BzPy8JIpHDj++ta9XluVSu3/MUKUJ9yaXy01MTCwvL7Mc19HeHggE4onE746feP39YxbN8QydzGnZfGHPzu1ej6e08D9ayhVIVbXLV0de/Yc3R6dmOYbe1bels7UFEvDK6GSws7dr92NqTpm7OvzmB8dEnjt0YH9p+UeDYRjL4fDCwiKAsLqqsrGhodTigSlLIF3XRycmPhq8YHtr9+08oqSTg2dOv/3BsfqqoFhR27Z1d3PPNlPXOVGaOXNycSlUWv7RYFnW3PzC62++ffrcBZYTu5rrX/7GSx3t7aV2D0ZZAmWy2XNDFyejqc2HnvZV1wIMats3XT754cUTH3gw2yRKAACaZb1VNQlvQFFypeUfAbZtRyLRYyc+PnXhsljT5vB4Px0ajEb+55/96R9v7e0ttX4AyhLItu1sLq9ayBWoJCkaY+z0BXoPHqEZNjI/bepq0YyiGVoQVe3mfx8dCKFkKnX841O//XjQ29bdd+hJmmEpjjvz1qvs3//s9yAQQzMiz6tK1tRVluchhBBCyeVu6tlq21ZsYb6peytBkjTDCE4Xyhul5R82CKHxsfGfvfpLjfc8duhJT0UVRqi9f1cmEioo0VLrB4MoTbgbNENzDL08M7U0OYYRKiZSNOOrqqluabdMI5dOAQBIiiJo5gvoYhDCeDI5Mj7VsLnHU1EFIYQEIThcDn8wny8YhvEgvksJZQnEMkxl0C8A88aZ02oht/J4imYqG1sqG1uXJkcBAARJmZYdXlq8rfAjwDRNTdUDNQ0tvf3FFAghSZI0x4fjiQ+PHdc07fYSG6csgWia3tbX9+VnnpwYPjcxdNbUNYwxxhgSBC87ZI8nl0pijAiShASRzWZN0yyt4qGyuLh04uOPZZfb6fN/ngohJ4iheOqv/uZ/JZLJz9MfjLIEIggiEPAP7N3tE+hP3/jF+PBZvZAHAGOMIYSy21vT3oUxgBCSNANJOpd7tL0sGotdvHZd9gcAhBDCYiIEgBUEVyCIAVCyyu0lNk5ZAhXpaG//wff/olJmP33951dPn1BSSWTbGGNedlQ2thAEAW4NQ9lbwxBCyLIsdGvYeiiYpqkbhr+yurZjE8Pxn2dASFI0w/E2xrn8Q/tCZc1iRWRZOnz4cafL9cMfv3LmjZ9lk7HOnQMuf5DheJKiAAAYI4pmGJfnxuzicjyVikXz+RzHc5u7utxuF89xDMOUVrp+EonkhQtDBd1w+YIrAmGMAYAAAJ5lmmuanU7nbWUegHUIBADgOW73zh0OWfrh//7Rpx+8GVuY79y5t76rW/b4CIJEts3LcsWmbUOhTHz5+tzEWCaddsnizqn5Kr+3q6O1wu93Oh2iKJbWux6SqeTQlSuKZtAcV2y2RSAEEBLBYODowT3NTU2KoiiKghCWHbLT4VhVwfpYn0AAAJqmt3R3/8kffXdh4T9c+exj0emuaGyRMQAAEATp8gVktxcA4G7ubN9/lKSoTDQydmFwZGlsbH7ZxVOb2lob62t9Pq/X6y2puRwQQhgDlzdQ7ax2Bypvz4QUTUOSTqfSsVj87LlzF4aGCYLo6enePzCwsceBDQiUz+fHJyaHr454G9t3tvR27trnDlQQJAkhhCTJCqWtw19b76upy6dTExfPjY+PXJ+ak0jc19119MgTlZUlb7g2+Xx+bGxseTni37LztikMgOI0qurGx6dPR2KxM0OXro1NSJI0OjVDkdRzX3p2tXH5rE8gTdMuXrryo5/+fD5d2P3815t7thEkWWp0BxBCye3p3neoqqV95srFkQufTs+8JwjC1776UqnpWuTy+SvXro9Nz9bvO3LbozG2LdPQtUQq+dvfvlPV2Lp538EndhxEth2dGLl89doXIZBhGKPjk+98eCKB6D0vfKOlb3upxX2hGCZQUy+7PJLLfeOTY+eHL/Vv729aZ4CCZVh/sKKyoaW2rXN1OgbAMoxMPKok4sG6pn0vfGPbkWcE2aHmlDGWUWOzq43XRbnTvGVZs3MLHxw/taAY2556obG7t9SiHCBkBSFQU1tZVz+/FP7bH71y/fr1Upt7gzEmCEIQJU9lVaCucXUWBABhnIlF0uHw5j37ew8eEWQHAICiGUaUE5nszOzcavvyKUsg27ZDoeX3P/xoaGymqX9PTUtHcU2PMUa2beq6VbbrbJsmUPOdVf4DA3suXbr8s1d/UWpxbzDGkWh0cn6xtr2rNA9CkiQJgnL6A32PPyl7bg7JBEUSNDMzt3Du3IWNLdDKEsg0zZEbox+c+MTd0FrXuZm65c5g29aVjBJezMWWc+myvHtT12hb726p39zZ8fihg5cuXzt79myp0T1ACI1PTp06f6lz50BpHgBaLqcXcpv3Hqjv7P48FQPT0EmI6+vrPk9cD2sLhDHO5fNTM3MGLWzee4DlhWKibZr5RIRKLtXRBpdaXro6rKQSa34lXdOQoTMs++Gx41WVlYtLS3/1139jWlap3d2IxeIjoxPBugaKoUuybMuKhxYL2ez2p55bnY6Qbeqaw+FoaW5aWZSsi7UFAgDMzy98euFix449jlUzazYRXb50ZrOHfXJHz5622iAoLFy9aFvmfTSCEAKMbYRyBfXTwbOjY+MDjw1otl3m2m1yauqDk6fb+nff+aqFbDqbiNV3bWFYbiWxOAhAkoAklVU2uDpbWyBVVW+Mjs2HY6sHZowRKihBGnd1dmaVrMMhH9i5TdQzuUQM2fbnhe+A5nhKkJR8gWHoianp/r4+t+wqJ4SUSCZvjE26ApW+mjqCLJ18tUJBLxRq2jrpVQIBACzDMDTNRugRCrSwsHDso484SWZ5YeXTafm8RJPPPfdsKp3+1Wv/8Mtfva6pam9bU2zyhpor/SkYY4yQZRqGrlE0TfBSSsl3b+qiKJIgoMALShm/fm5u/v2PTspVtZwglrQg2zJphmns7nN4fauzELKVZDyxMMsy1H3a9f0p/RR3kkwmxyanve19q59RyGYyk2N2e1UqFnvt9TcVRXE45Na2ttTcpFRVL7ncK5YYY2Rbel7RM1Fs5hGAmVjKXFjs6uyora0RBIHnuTVbUFZRpmZmGdnZuKlHcJQuRC3TNA3d4fGW9C9k20oqaWRS2zd1VFdVrSqxDtYWiGX5qrpGT3MrwwmrkrFpmrlcnqYZhywvLi5dG7kRCPgZgPTbQw2WoSeXZrNzF91o2s0XVA1FFvOFtI4r9tRU1yk5Vdf1rKJYlqXrhmHoum4U/wUA+Hxet9sNAIiEIydPf5YHlMMXuHMAomjG6Q2QNA1XrV0BAKah59JJaBs1VZUBv291VvmsLRDDsv5gheDxsfznwReKYXmHy7CRg2UDQf/E1JRh6AQknLJk6Z+HO01Dj81PRi6+G9QG+9vVKj+lariTt5UClcz8bmyON2ySQ9b8pPO9fCKdyZlG3tALhp439DxFkZ2bdmztf0yWpYWlJR2TzT193qqalcpXICmqGG9ZodipC9lsdH5GTSWIUknXQRkCMbQsiaZlrl778JKDbWwxCJpmqH17dluW3dzU5PN5mZmFxK0xyNT16MyN+OV3O9ihIzushqqbDRBjrOk4kU0XtDRBkJmcPTr7D2euaKaFJYGQeSgJhJcjbEyPDC1pFrtz+7azQxeXUtnHGppXxzfuj21buXRSiYaq/d7uzZtKs8umHIEYSRTD6m1hcIbjbOQen58BLvbZp59sb28VBUGSZZYXEMIY46I66Stv9EpDh3phlf9zzwVCyHOwhiMwxhgDhKneVookpWIuxhhhoOTRyIwdG88pihKOxuJppbK1q6KxeaWS+4AxBhgbqhpfnNNS8c0Duzo7b1u4rYu1BeJ43h+sSCi3+XIQQs0w5+eW1GW7o711357dpmmOTc2SktPnCGaiy6m5a2RscJd36MmdJM/e/bMXA8oreUW9NAMns/b1aePYBeyoqK+urHjjzbeuTc3t+ep+CO9ez50ghJR0cnFsxMwkfT7f6Ni4ruumZTkdjtaWslReYQ2BbIRsjB2BiqCnNFrKiVKguT0bmh48f7G/ryebzV4dHZ9ZXKrtYPHcID99bF+n2tdEsaXl7kKx1ZgW1g08GzIHr6rDo/r1BcczjdWpdPq9YyfaB47WtHbcOTzfC8s044vzc9evctiaXIpcn31b1Y2corgF9pvfeGlL9+bSAvfmngJhjHVdjyeSN6bnllLZQFd/iQFJ085gVUzTLszPJ/SL4aWFeDqVjYzx/JmBjpyzMutzEdw92k4RjDFCoKDjRNqeDZlKwRYFIhQ1PzyTnwkzO3bv2Lm9/9yFISi5N+87SNFlKH2LgpKZu3E1FY1Wt7bP6aTsCbC8SKeTZ099aPyfn/zX//yfyDLCWEXuLlBRnWvXR4+fHswTHAg2BFm21AgAimErWjry/orRybFUHrGE0SDM1FApCbM+182ehTA2LaAb2DCxbmLDwKaFEcYYA4IABAS6iRcj5rkRLaXYIg9zKgUZf1Nr/be/+TIBwbGTn7T27gnUNZQ++97YlpVYXszGY7ue/Urr1u217V00y0EIs4lYbGlhYWmiUCiUf8rr7gIBAJZCoV++/ub5yYUdTz3f3rnJMg2MMYQQQmKlqWOAMcacKDVu7qlsbEqNnzKXEosRm6GAZdMIgZSCMjmUydk5FesGNkykmxghQFOAoaAoQK+TCLhJlwzb6pm5CLw6aUdzwS996fn21ubu7k3vvPdbwhXse/xJkipdnd4LhJCSSsSXFuq7tmx9/El2ldtd9HMt285mlYcgkK7rmWxWdrlljzebjBMkBQAmCLK4fQowuDmqYoQRtm3LMnSLciWpdlIL8clcQdOyeRROWLGUrRQwQoChAUNDhoIcCyWeQCTWdBiO48WINbVojC9JDW37mrt9T7U2vfSVFzHGnw6e+fjs0Jb9h93ByjJHH4yxls9F52YEydHWv4tbFSDHGBeUTD4ebq6pAmVVdpO7CwQh7Ors/NY3vvKv//1/nBx0extbZa9fcDhJkgTF34oxvmN1w7iqxI6n8+mpc6HRoEOvcqpud9Ih6SRJYEibiDRsyrBJw6aSBowtqnNzUU2nmpo3MZxzz/7mP/+zP13Ze5iYnHzjN+8vpgoHm9vKbz4AANs0aZat7egqUQchu5DNyCz95JEn/L51eNV3F6hIbU3N159/RtHMifFrEYavaG7zVFQV+3OpKQAAAE4Q6YYuVakhAz0W1EeiobnZybySkyRGlnma5SiGo3geknQhX5grjC/ElJ3b+v7FX36/vb2d5z/f5NINYyEUjueNth37XL5g+c4hAEBye0SX+84iWi6XiYSCXndNddW69i/hnQ2hhGg09s77v/3dyU9Thl3d2e2vrXf6Agx3W1ShBIwxRsiyTIAxRTOQIDBCxQfZlpkML4fGRgrL836B/oOvv7R371521Qxgmub07Nz7J04v6ERj/17J7bnX9ygTjDGy7eWZyanPju9tr//ai8/L8k2ntBzu14KKBAL+F597RhL4X7/51pVjvxF9FU09Wysamhxe/0rsteQdIISQJJlVUykkSQCAbVn5VDI1PSbqypNHD/X3bamvr1+tjm3boeXlYydOXZ5aat77uOhyP6A6RXS1kFpeJI1CbXXlutQB5QgEAHC73U8dfUKWhLfefjccT5mLkzPREOX0eCurHb4AywuQgBRNEyR5H2e3OIKm5qcbnNzAE892dXUEA4HVBgiheDxx/OQnJ84MBbr7fdW1d/aU9YIxtkwjsbwYnRptC3h71uMiFilLIACAw+E4sH9/c1Ozbhi6bnzy2ZmLl6/OzU9CyeX2B1hRZh1OThBZQeQl6V5OnaFpuUSselPzwQOPlWRhjLOKcvqzz97+7TEyUN/Su52Xyp2J70VxbM6lknPXLqXmpuo2PxEM3vZJyqFcgQAAgiC0t7cBACzb7upsT6bSp06dHr50mQVqIpJYmMhLThfn9DhrGwO19aWFAQAAkBS1OjxsGMbi4tLM7Gx1dVV9Xd3QhaFXf/1GFnCHDh29a1hjXWCMMca6WgjPTs1eGa4W2T27d5YalcE6BFqBIklKFEVRfPkPvv7yH3xdUZThS5eujVynKGZicXlx7PpdBYIQkjRNsmwuly+mFArqyVOfvPLzXw3s399U6T9x6tRcInv0Oy/X3L5rugGKE4Jl6OloZObaxcT81IFnjrQ0r2+ZWmQjApUgy/L+gYH9AwOpdPq1N9+9evKe+1wUTTOClMpGQ8vLwUAglU6H4mlPa3eSdb/xw1cQQk//8ffWu6N9JyvTpZJKzI5cnr10vq2++vDhx0vtyuMhCLQCQzMOWULonrsaFM24q+vSeuGd353Y3tt98cq1iVhm+5PPAQDad+wL1jVu2X/4oUxbyLaUdHJ+9Nr10x+5afxHf/idnTt2lBqVx0MTCGNsGIZu2q5ARWneLQiSdFdUkTRzdWFm9sNPItEYFF2pyHI2GXd6/bueffHB1Sl6PblMen702pUTv4OZ+B/++T85dOhgqV3ZrO0oloOmabF4/MaN0V/95kO5q7+yqeX+r4psW1NyBSU7O3I5PDPZ0rd995e+UrKltQEwRrZp5TKpuetXrp8+kZ658Z2Xv/Htb33zQc60PahAlmUVCoXJqam3331vZiE8m8we/e4/ZQRh5bz5nRAEyYkyxwtKKhmZm9LVQnNPv+h03V/T+1Ocs0xDzyZikxfPL10brhKZvu7Or770ktfrKbVeDw/UxRBCoVDo2PET1ydmjp361Bms6dg54PD6ISRMU7ct8667rCRNMyxrWaapa5VNrSwvrN6S3ADFbmVoajISmhg+Nz54atfm9r/83p/X1jyorwAeUKBkMvXWb97/6WtvehramrbucvmCrVu3C7ITAMDYvGnolmEgZCPbQggBDCAEBEmxnEDRDMZI9vpohiUpasPqFBuObZr5bDoyNz158fzU0GBve/OffPfbD0UdsOEulslkrly9dmlk9NSl65yvMlDXqKQS7kBl05Y+TpTAzZ+OMMbIRpZp2JYJiq4QSdEsVzzTWFrpeij+bGRbWiGfXA4tTo7OXbkAlFRbfc3XXvrynt13OeCwMTYiUC6XO37y1A9/8jODd2574lkAQGxhTnA6W/t2OLy3hVpWKn9YP3elQmTbWiGfTcTSkVB2cSYfXqSxefixvYcOHnA5nesKaNyf9Qmkqurc/PzVkRsnzw6nANu5e7+uFhYnRl2+QFPPVqdv3Sud9VLsULpWUFLJ6OxUYm5KAFZXU11vZ5vTIddUVxW3qh8i6xiDdF0fuX79Z6/+ciIUb9rxWN+m3mwyPj86UtnY3Njd9+Bry/uAMTY0Nbm8FF2Y0/I5XS1kE7HEwrSbAvuPHB4Y2NvS3FRa5iFRrkCmaU5PT7/x1jvnR8bb9h5u6N2eSyXmb1wL1DW0bt3x4C7M/cEYG6oanpueGDprWxbLCwRJQkhqWk4QuEenDii/i6XTmbfffffHP/91Td/u/qNfMjR1YvgcJ8o9Bw7TzF12hFaDMUa2bVsWAJikimGj9Q1JGGOMELJtSBDFIwKGpk5dGvrsjZ/3NVb+1X//b6UFHh5ltSCEUCabXQjH5bqWrYefphh27vpV27La+3dRNIMQskzDMgwAMM1wFMOsvH/xxdR8LhFezmUzFMM5PR5BFETnXcLGuAiyIUGW5EIIIUkSJFm0sAxDy+dMU2doRpI2fg+jHNYWCGOcTmfOD12cDid69j/h9AeXp8bjoYX6zm7J7UHILmSz8fByOpkkSEp2OJxul8sfJCkKY6zlc8tzs7FkOqVauVyeFUQ+kuCtfHtPn+9uER9DU5VkQpAdyLYNXYMQUgxT9JUwwAADyzDSsUhkbjo6P7M8MeoE5hOHD5XW8lBZWyCE0NT0zGtvvYu9NTvau1QlG5qeoGimYXMPACAdjVw9fy5PChpkSBLD0CRn5jZt3VbV3KYq2bHLFyfnlzU56O8bkAjS1tXE4pQ6v2Dqg3ufem51W7v5LMvS8jnLNKLzs0oyzgoiL8kERdqWpSpZU9cLSjYyMxmZHlfikbqaqm9/73uPDexdXcNDZ22BdF2fmJqeCSeeff5bDC+EZ6eXZyZ3P/siRTO5VPLy4Kcjs+Gqfc+IVQ22oeUWpxNTV7TTn2CMC/nCjelFqWe/w1cJCRIAQHGCq6WbEuTI2JlkLOKvrC4G84tACAWHkxOlbCJG0bTocguSAyGUioSS4dDixKgaC3e1Nbe6HT0Du3iG6uhof+ro4fJ32TfG2gKFQsvnL19t699V3dJuqIV0LMxyvMtfAQCILsxev3yl7it/wXoCEEKK5Z2NnYzDHR86fvL1X7ob24T27YwnCG6P5LMuL1PXnorH3b7A6p2PIgRJugIVrkAFxhjZll4o+GvrDFV1+gKZ0Yv/9l/9oLPzIf9thftTOlKWYJrmxNTU5RsTTVu2QoLIxKKR2enm3n6Spm3LMi1Eu/1w1WIKEgTnCYjN3RFFW4qmSIcHkrcttTDGAEJI0Zgg8X0nUAghSdGCw+mrqg3WNwXrG1lR1nTt/qUeOmu0oEg0emH4kuj2uvxBgiS1Qj6XTkkuN0lRak5RDdPV2Fmy1QMJUgjWVe5/npHdlCjfOaNbah5nEpy/hqJv21PGCNm2BTAgKApCuLoghJAVRAsS5y4MBwL+DR9Z3QBrCBSNxC5cvibWd9Ach2wLIVtwOItHwyCEFEWSANnGbafzIIS06HC1dBMUDW8/8V2cxS0lbceXrCqXkkpk4jE1l7UN0zINyzQBSTr9QU+gghMEhuNWto8wACwvqIB87e13gwFf9XP/zwjEsEywqoavb+QEsZBTcumUKxAsXtegWU52OMDYlJaMct6K2z44QZDsqvvIq7AN3cqloZaPLc5Ho9GF6el0ImGapmGYCGPB7a2oU7yhiEPgKmpqvMGKm1cYMSYoinc4sxhklWxppY+SNQSiaVqWRBMhhJCSjKciy6LTXbyKRVKUIAiEpuiJMG7etLqx3NmtQLH52KaWjGTnxlEsahM0U9FIde31cyLFiRQvkiyHEdaSkcWFCSqdSOfUBlWtaWrGGGiFnKpkCIyqKoJfZP8CawrEMAzPscl0Us0rulowDU3NZVOR5fjSAsbYUAsOp0MzC2osxPur73M9s9i5DCWdW5hU0wku0ADrO+hgLePwEKuOOEMCCIFqzhs0M8nk8jSeD5mWRQlyJpnIxsKZeKzJKfs8XsuyqNsPRj861ngMTdM8yyhLcTWnaPl8Ia8mUkrWvqLrBoYEL4gkJ6PQUvzKYGDbAUZy3KtnAYysQk6NLWOEfN27HA2djOwstbkFQVKMy0dQdHLueurGpFTfYQIpj8Soxc5cGImF/8v3//k/2717V2mxR8MaAjE0LXBsJh5LhBbDS6FYwWIqm826dlpwQIoxTT21PFdgFEiShciCVXDLtXffvcQYI8skKNrV0i0Eqkuz7wASBClIVKBOo3hd8lOCJHtr+Pqu1MTly8d+8Xd///Pe3h5+1cn/R8daAjGMU5by8fCNofMq6+Y6d4uV9YzDTZAUxpgEwOPyezq32ZqqxpcBvudOBiRI1uktFizNuweQpDhfJevyQZIiKBpjTPJiYNt+mmGnPnvt2EcffenZDV5kXhdrOIo8z3V3dWxubpybmSNrOz0dWzm3v/iSt+Z6CCFB8aJc2yLXtZaWvwWEEBJE+eqAm0VIguGKy5RbT2IYT3Aypf3ox69Y5d1TfEDWEIhl2d6eLU898biJCXd7b8l1mkfNLf0/fyiEkJacYlWjaeMy7yk+IGu/MEVRAs8SABP3OPXzBYORDTEiGSafv3lK5JGytkAQQpZhBJax1PwXvA66K5amSsDs7+tdfXbv0bG2QKA42dNQjS5h+4vo9ivgW6yk2IauxUI+nnr66BHfek7zbpiyBBJFwS8ymevn1Hj4rrvJj4Kib4kso7jNjzG2DT23NK1PX2mu9DmdjzbSukJZAlVVVT5zcE+VESuMXcgtTVtaodRioxRVKDnpgIuphqYlo1oqZuuqbWiGkkqNX0oPHe9ywO989fn13mraMOXuaqRS6ZOfnfnNp8PjaYtt3epq3UILn5+nXV0JvNtCrISb9hghy0KWAQmSoNmV2QpjhEyjEF1KjV9Clin4qpBtaslobmy43Ul+/8++O7B3z+raHinlOiZut+vwY/sYAv7tL14f+yxCibKzsbPooQBwsyVg2wYQECQFVl14WeFzEYvGyEaWaWkFZBqQoiiGJxkWQKJ4UENPJ9KjQ8bYBRdPSblFCiNo6a56z9OHD+zZtZGzmBumXIEAALIs9fV091+9uvjp5XxoVgjWkDSDMQDF203IxrYFACQZlqAYQEAIyWKjgLDYTjHAGCOELMM2DWToZkGxtAItyBDZpmVaOg0JwtY1PZPITo/g6Ut7W6sP7dsty5IkS7IoyQ7Z7XI96iB0CesQCADg8XiOHDoUUYzTS9OOxg6CYcGqzoURQpYJAGAkFyQIgqYJshgzxBjfVAcj2zYNW1f1dCw3ewPpqtzWxzjcBMVg0zCVtB5dRIkQDE12eflvfe3L27ZtXan/98L6BOI4rqmxoaHC986p94SKWrm+neLFlaZhqfl8aNbIZdwt3bTDTRgUgLDYoYoDLwAAW6alFcxMAodHXKHBgmpH4mGuooHieFstGPFQEOb3bm5ztPX3dG/+vasD1isQAIBlmboKn8fOzB/7ta97lxCsZV1egqItrYDTUToyTRayFE8pSQ/JCozDTQkSJAiMEbYsS1e1RNiKzBPpkEu98mJfYjIE3h/WGgSbVSkK24Kb3rVz4FvffLn0qb8/1i0Qz/N79+z5i2z27fc+kHE8M7s8Fs+Jbi+FrUavfPRgP8cxU0ux1957tbXNZ7uboqYPYIQtk0AWNDUrGa6kreYKz9SVhV2b3RxjJo3aH/zLHzgcDkkSv5gIxrpYt0AkSVZUBL/21ZcOP35IlKSJ8Ykfv/ITWeIcDkd39+YXv/wCQvjY8Y9OvTn+tY7oyPz4G6eZnq5OnqYEnpc8olBT39HW4nS6/seVNy0buGTod+pZJV1bW8MwDEKoGC28c+f+98W6BQIAQAglSZIkCQDg3bVz1615V9P0hcUlVVXTyWhrHd9ehdRcrquu9T/+u39TVVlBkiSE0DCMZCp17uxghV/QTex1EkFx/qN3/1pTXkjliKxSEDhm27Z+mmYAwC6X6yGeFdsYGxFoNRhj27Z1XTdMI7Q0//GJD9LJiKmGu1tIggABD1nnL5w/94nHV929qYtl2YXFhY9PfJhL3ti1iaQpxFDE9g4Uy1y99PH4pdFsJJalOd/M1AsYUCTF7ti5J+D3B4NBQVj9d1W+UMr1pO9FPB4fHByMRsMA65Y6n1z4mKfzXidZV0GJPEGRYD6CTw7bedvXt/1pDPlUfHZu7KOuenX3Fo5nIEVBAgKlgBMZ2ykRNAVHpoyJBSuRNhOKUN3YJzkqHtv/xPb+/i9s8VXCxgXKZDLXRkbOnDn7+ms/cXLJ5lq+o4HZsYl1yaSNcCqLlAIKeEiegaqOJxbMv3s3G44bu7YIB/uFtjqaIKBSQBJPCBzM5PD4vMHSsKWW8blIjGEsbQ+P6pfGtMuToKJu60tfeWn/YwNfzPK9hI10sXw+Pz09PTQ8/N47v7IKU0d3UNs6/RIPZZHwOAiShAUNGSZwiKRTJEkCWDbSDdzRyB7sF3dvYQMekiQhBIChCZ4lOBY6JSDy5GzIwoCwERlOEllV9HjJjjZCBXYknRsavtjc1PSPQyBN0y5evPTTn74SWbqyqUF//jHnpiY2FLPCccshUk6JyKkoreCUgkkC51VgIxxOWPPL9o5N/KZmxjDQUtRiaELkSZEnJIEUWAIDYCNb4NHlcT2hEIKns7q+l3LwTTVi63aBoARJctbUrL0X8ihYt0DJZOqj4ydOnz65udHyycLUAkikbYdINlYzskiEYubVSWtiWTSw10Q0Rji0vDw3v7illWuyyMFrMJaC2TzNC4JDYh28WuXOV/kozcCXxrUTQ0Zcrdq1a+Do9sP79j7aY1Hls26BCAI6HI66+jbKwY9E2asRwID4lvqoyMNrU+jcDZjUgoGabQf2HJIkCSP7wvCwPXiuwHKfzfOSJAgy5w3yTqeL5+nw4tjJYx9ZahgDKqUF2joHvn7w8RdeeKH0kb9X1j1I67oeDkfS6bQkS7Ik28i+OHx+6sYn7fVEIgNmonJLS8emTZ2buroAALZt5wsFy7IkUSzxaHTdmJyaOnbs2PVrw6IobOnd8eKLL4qC8AUv1tdk3QL9/8b/Bfb6caM14oLRAAAAAElFTkSuQmCC",
         "type": "image",
         "xaxis": "x",
         "yaxis": "y"
        }
       ],
       "layout": {
        "height": 350,
        "margin": {
         "l": 0,
         "t": 60
        },
        "shapes": [
         {
          "line": {
           "color": "black",
           "width": 2
          },
          "type": "rect",
          "x0": 0,
          "x1": 96,
          "xref": "x",
          "y0": 0,
          "y1": 96,
          "yref": "y"
         }
        ],
        "template": {
         "data": {
          "bar": [
           {
            "error_x": {
             "color": "#2a3f5f"
            },
            "error_y": {
             "color": "#2a3f5f"
            },
            "marker": {
             "line": {
              "color": "#E5ECF6",
              "width": 0.5
             },
             "pattern": {
              "fillmode": "overlay",
              "size": 10,
              "solidity": 0.2
             }
            },
            "type": "bar"
           }
          ],
          "barpolar": [
           {
            "marker": {
             "line": {
              "color": "#E5ECF6",
              "width": 0.5
             },
             "pattern": {
              "fillmode": "overlay",
              "size": 10,
              "solidity": 0.2
             }
            },
            "type": "barpolar"
           }
          ],
          "carpet": [
           {
            "aaxis": {
             "endlinecolor": "#2a3f5f",
             "gridcolor": "white",
             "linecolor": "white",
             "minorgridcolor": "white",
             "startlinecolor": "#2a3f5f"
            },
            "baxis": {
             "endlinecolor": "#2a3f5f",
             "gridcolor": "white",
             "linecolor": "white",
             "minorgridcolor": "white",
             "startlinecolor": "#2a3f5f"
            },
            "type": "carpet"
           }
          ],
          "choropleth": [
           {
            "colorbar": {
             "outlinewidth": 0,
             "ticks": ""
            },
            "type": "choropleth"
           }
          ],
          "contour": [
           {
            "colorbar": {
             "outlinewidth": 0,
             "ticks": ""
            },
            "colorscale": [
             [
              0,
              "#0d0887"
             ],
             [
              0.1111111111111111,
              "#46039f"
             ],
             [
              0.2222222222222222,
              "#7201a8"
             ],
             [
              0.3333333333333333,
              "#9c179e"
             ],
             [
              0.4444444444444444,
              "#bd3786"
             ],
             [
              0.5555555555555556,
              "#d8576b"
             ],
             [
              0.6666666666666666,
              "#ed7953"
             ],
             [
              0.7777777777777778,
              "#fb9f3a"
             ],
             [
              0.8888888888888888,
              "#fdca26"
             ],
             [
              1,
              "#f0f921"
             ]
            ],
            "type": "contour"
           }
          ],
          "contourcarpet": [
           {
            "colorbar": {
             "outlinewidth": 0,
             "ticks": ""
            },
            "type": "contourcarpet"
           }
          ],
          "heatmap": [
           {
            "colorbar": {
             "outlinewidth": 0,
             "ticks": ""
            },
            "colorscale": [
             [
              0,
              "#0d0887"
             ],
             [
              0.1111111111111111,
              "#46039f"
             ],
             [
              0.2222222222222222,
              "#7201a8"
             ],
             [
              0.3333333333333333,
              "#9c179e"
             ],
             [
              0.4444444444444444,
              "#bd3786"
             ],
             [
              0.5555555555555556,
              "#d8576b"
             ],
             [
              0.6666666666666666,
              "#ed7953"
             ],
             [
              0.7777777777777778,
              "#fb9f3a"
             ],
             [
              0.8888888888888888,
              "#fdca26"
             ],
             [
              1,
              "#f0f921"
             ]
            ],
            "type": "heatmap"
           }
          ],
          "heatmapgl": [
           {
            "colorbar": {
             "outlinewidth": 0,
             "ticks": ""
            },
            "colorscale": [
             [
              0,
              "#0d0887"
             ],
             [
              0.1111111111111111,
              "#46039f"
             ],
             [
              0.2222222222222222,
              "#7201a8"
             ],
             [
              0.3333333333333333,
              "#9c179e"
             ],
             [
              0.4444444444444444,
              "#bd3786"
             ],
             [
              0.5555555555555556,
              "#d8576b"
             ],
             [
              0.6666666666666666,
              "#ed7953"
             ],
             [
              0.7777777777777778,
              "#fb9f3a"
             ],
             [
              0.8888888888888888,
              "#fdca26"
             ],
             [
              1,
              "#f0f921"
             ]
            ],
            "type": "heatmapgl"
           }
          ],
          "histogram": [
           {
            "marker": {
             "pattern": {
              "fillmode": "overlay",
              "size": 10,
              "solidity": 0.2
             }
            },
            "type": "histogram"
           }
          ],
          "histogram2d": [
           {
            "colorbar": {
             "outlinewidth": 0,
             "ticks": ""
            },
            "colorscale": [
             [
              0,
              "#0d0887"
             ],
             [
              0.1111111111111111,
              "#46039f"
             ],
             [
              0.2222222222222222,
              "#7201a8"
             ],
             [
              0.3333333333333333,
              "#9c179e"
             ],
             [
              0.4444444444444444,
              "#bd3786"
             ],
             [
              0.5555555555555556,
              "#d8576b"
             ],
             [
              0.6666666666666666,
              "#ed7953"
             ],
             [
              0.7777777777777778,
              "#fb9f3a"
             ],
             [
              0.8888888888888888,
              "#fdca26"
             ],
             [
              1,
              "#f0f921"
             ]
            ],
            "type": "histogram2d"
           }
          ],
          "histogram2dcontour": [
           {
            "colorbar": {
             "outlinewidth": 0,
             "ticks": ""
            },
            "colorscale": [
             [
              0,
              "#0d0887"
             ],
             [
              0.1111111111111111,
              "#46039f"
             ],
             [
              0.2222222222222222,
              "#7201a8"
             ],
             [
              0.3333333333333333,
              "#9c179e"
             ],
             [
              0.4444444444444444,
              "#bd3786"
             ],
             [
              0.5555555555555556,
              "#d8576b"
             ],
             [
              0.6666666666666666,
              "#ed7953"
             ],
             [
              0.7777777777777778,
              "#fb9f3a"
             ],
             [
              0.8888888888888888,
              "#fdca26"
             ],
             [
              1,
              "#f0f921"
             ]
            ],
            "type": "histogram2dcontour"
           }
          ],
          "mesh3d": [
           {
            "colorbar": {
             "outlinewidth": 0,
             "ticks": ""
            },
            "type": "mesh3d"
           }
          ],
          "parcoords": [
           {
            "line": {
             "colorbar": {
              "outlinewidth": 0,
              "ticks": ""
             }
            },
            "type": "parcoords"
           }
          ],
          "pie": [
           {
            "automargin": true,
            "type": "pie"
           }
          ],
          "scatter": [
           {
            "fillpattern": {
             "fillmode": "overlay",
             "size": 10,
             "solidity": 0.2
            },
            "type": "scatter"
           }
          ],
          "scatter3d": [
           {
            "line": {
             "colorbar": {
              "outlinewidth": 0,
              "ticks": ""
             }
            },
            "marker": {
             "colorbar": {
              "outlinewidth": 0,
              "ticks": ""
             }
            },
            "type": "scatter3d"
           }
          ],
          "scattercarpet": [
           {
            "marker": {
             "colorbar": {
              "outlinewidth": 0,
              "ticks": ""
             }
            },
            "type": "scattercarpet"
           }
          ],
          "scattergeo": [
           {
            "marker": {
             "colorbar": {
              "outlinewidth": 0,
              "ticks": ""
             }
            },
            "type": "scattergeo"
           }
          ],
          "scattergl": [
           {
            "marker": {
             "colorbar": {
              "outlinewidth": 0,
              "ticks": ""
             }
            },
            "type": "scattergl"
           }
          ],
          "scattermapbox": [
           {
            "marker": {
             "colorbar": {
              "outlinewidth": 0,
              "ticks": ""
             }
            },
            "type": "scattermapbox"
           }
          ],
          "scatterpolar": [
           {
            "marker": {
             "colorbar": {
              "outlinewidth": 0,
              "ticks": ""
             }
            },
            "type": "scatterpolar"
           }
          ],
          "scatterpolargl": [
           {
            "marker": {
             "colorbar": {
              "outlinewidth": 0,
              "ticks": ""
             }
            },
            "type": "scatterpolargl"
           }
          ],
          "scatterternary": [
           {
            "marker": {
             "colorbar": {
              "outlinewidth": 0,
              "ticks": ""
             }
            },
            "type": "scatterternary"
           }
          ],
          "surface": [
           {
            "colorbar": {
             "outlinewidth": 0,
             "ticks": ""
            },
            "colorscale": [
             [
              0,
              "#0d0887"
             ],
             [
              0.1111111111111111,
              "#46039f"
             ],
             [
              0.2222222222222222,
              "#7201a8"
             ],
             [
              0.3333333333333333,
              "#9c179e"
             ],
             [
              0.4444444444444444,
              "#bd3786"
             ],
             [
              0.5555555555555556,
              "#d8576b"
             ],
             [
              0.6666666666666666,
              "#ed7953"
             ],
             [
              0.7777777777777778,
              "#fb9f3a"
             ],
             [
              0.8888888888888888,
              "#fdca26"
             ],
             [
              1,
              "#f0f921"
             ]
            ],
            "type": "surface"
           }
          ],
          "table": [
           {
            "cells": {
             "fill": {
              "color": "#EBF0F8"
             },
             "line": {
              "color": "white"
             }
            },
            "header": {
             "fill": {
              "color": "#C8D4E3"
             },
             "line": {
              "color": "white"
             }
            },
            "type": "table"
           }
          ]
         },
         "layout": {
          "annotationdefaults": {
           "arrowcolor": "#2a3f5f",
           "arrowhead": 0,
           "arrowwidth": 1
          },
          "autotypenumbers": "strict",
          "coloraxis": {
           "colorbar": {
            "outlinewidth": 0,
            "ticks": ""
           }
          },
          "colorscale": {
           "diverging": [
            [
             0,
             "#8e0152"
            ],
            [
             0.1,
             "#c51b7d"
            ],
            [
             0.2,
             "#de77ae"
            ],
            [
             0.3,
             "#f1b6da"
            ],
            [
             0.4,
             "#fde0ef"
            ],
            [
             0.5,
             "#f7f7f7"
            ],
            [
             0.6,
             "#e6f5d0"
            ],
            [
             0.7,
             "#b8e186"
            ],
            [
             0.8,
             "#7fbc41"
            ],
            [
             0.9,
             "#4d9221"
            ],
            [
             1,
             "#276419"
            ]
           ],
           "sequential": [
            [
             0,
             "#0d0887"
            ],
            [
             0.1111111111111111,
             "#46039f"
            ],
            [
             0.2222222222222222,
             "#7201a8"
            ],
            [
             0.3333333333333333,
             "#9c179e"
            ],
            [
             0.4444444444444444,
             "#bd3786"
            ],
            [
             0.5555555555555556,
             "#d8576b"
            ],
            [
             0.6666666666666666,
             "#ed7953"
            ],
            [
             0.7777777777777778,
             "#fb9f3a"
            ],
            [
             0.8888888888888888,
             "#fdca26"
            ],
            [
             1,
             "#f0f921"
            ]
           ],
           "sequentialminus": [
            [
             0,
             "#0d0887"
            ],
            [
             0.1111111111111111,
             "#46039f"
            ],
            [
             0.2222222222222222,
             "#7201a8"
            ],
            [
             0.3333333333333333,
             "#9c179e"
            ],
            [
             0.4444444444444444,
             "#bd3786"
            ],
            [
             0.5555555555555556,
             "#d8576b"
            ],
            [
             0.6666666666666666,
             "#ed7953"
            ],
            [
             0.7777777777777778,
             "#fb9f3a"
            ],
            [
             0.8888888888888888,
             "#fdca26"
            ],
            [
             1,
             "#f0f921"
            ]
           ]
          },
          "colorway": [
           "#636efa",
           "#EF553B",
           "#00cc96",
           "#ab63fa",
           "#FFA15A",
           "#19d3f3",
           "#FF6692",
           "#B6E880",
           "#FF97FF",
           "#FECB52"
          ],
          "font": {
           "color": "#2a3f5f"
          },
          "geo": {
           "bgcolor": "white",
           "lakecolor": "white",
           "landcolor": "#E5ECF6",
           "showlakes": true,
           "showland": true,
           "subunitcolor": "white"
          },
          "hoverlabel": {
           "align": "left"
          },
          "hovermode": "closest",
          "mapbox": {
           "style": "light"
          },
          "paper_bgcolor": "white",
          "plot_bgcolor": "#E5ECF6",
          "polar": {
           "angularaxis": {
            "gridcolor": "white",
            "linecolor": "white",
            "ticks": ""
           },
           "bgcolor": "#E5ECF6",
           "radialaxis": {
            "gridcolor": "white",
            "linecolor": "white",
            "ticks": ""
           }
          },
          "scene": {
           "xaxis": {
            "backgroundcolor": "#E5ECF6",
            "gridcolor": "white",
            "gridwidth": 2,
            "linecolor": "white",
            "showbackground": true,
            "ticks": "",
            "zerolinecolor": "white"
           },
           "yaxis": {
            "backgroundcolor": "#E5ECF6",
            "gridcolor": "white",
            "gridwidth": 2,
            "linecolor": "white",
            "showbackground": true,
            "ticks": "",
            "zerolinecolor": "white"
           },
           "zaxis": {
            "backgroundcolor": "#E5ECF6",
            "gridcolor": "white",
            "gridwidth": 2,
            "linecolor": "white",
            "showbackground": true,
            "ticks": "",
            "zerolinecolor": "white"
           }
          },
          "shapedefaults": {
           "line": {
            "color": "#2a3f5f"
           }
          },
          "ternary": {
           "aaxis": {
            "gridcolor": "white",
            "linecolor": "white",
            "ticks": ""
           },
           "baxis": {
            "gridcolor": "white",
            "linecolor": "white",
            "ticks": ""
           },
           "bgcolor": "#E5ECF6",
           "caxis": {
            "gridcolor": "white",
            "linecolor": "white",
            "ticks": ""
           }
          },
          "title": {
           "x": 0.05
          },
          "xaxis": {
           "automargin": true,
           "gridcolor": "white",
           "linecolor": "white",
           "ticks": "",
           "title": {
            "standoff": 15
           },
           "zerolinecolor": "white",
           "zerolinewidth": 2
          },
          "yaxis": {
           "automargin": true,
           "gridcolor": "white",
           "linecolor": "white",
           "ticks": "",
           "title": {
            "standoff": 15
           },
           "zerolinecolor": "white",
           "zerolinewidth": 2
          }
         }
        },
        "title": {
         "text": "Label: Abomasnow"
        },
        "width": 500,
        "xaxis": {
         "anchor": "y",
         "domain": [
          0,
          1
         ],
         "showgrid": false,
         "showticklabels": false,
         "visible": false,
         "zeroline": false
        },
        "yaxis": {
         "anchor": "x",
         "domain": [
          0,
          1
         ],
         "showgrid": false,
         "showticklabels": false,
         "visible": false,
         "zeroline": false
        }
       }
      }
     },
     "metadata": {},
     "output_type": "display_data"
    },
    {
     "name": "stdout",
     "output_type": "stream",
     "text": [
      "tf.Tensor([1. 0. 1. 0. 1. 0. 0. 0. 0. 0. 0. 0. 0. 0. 0. 0. 0. 0. 0.], shape=(19,), dtype=float32)\n",
      "(96, 96, 3)\n"
     ]
    },
    {
     "data": {
      "application/vnd.plotly.v1+json": {
       "config": {
        "plotlyServerURL": "https://plot.ly"
       },
       "data": [
        {
         "hovertemplate": "x: %{x}<br>y: %{y}<br>color: [%{z[0]}, %{z[1]}, %{z[2]}]<extra></extra>",
         "name": "0",
         "source": "data:image/png;base64,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",
         "type": "image",
         "xaxis": "x",
         "yaxis": "y"
        }
       ],
       "layout": {
        "height": 350,
        "margin": {
         "l": 0,
         "t": 60
        },
        "shapes": [
         {
          "line": {
           "color": "black",
           "width": 2
          },
          "type": "rect",
          "x0": 0,
          "x1": 96,
          "xref": "x",
          "y0": 0,
          "y1": 96,
          "yref": "y"
         }
        ],
        "template": {
         "data": {
          "bar": [
           {
            "error_x": {
             "color": "#2a3f5f"
            },
            "error_y": {
             "color": "#2a3f5f"
            },
            "marker": {
             "line": {
              "color": "#E5ECF6",
              "width": 0.5
             },
             "pattern": {
              "fillmode": "overlay",
              "size": 10,
              "solidity": 0.2
             }
            },
            "type": "bar"
           }
          ],
          "barpolar": [
           {
            "marker": {
             "line": {
              "color": "#E5ECF6",
              "width": 0.5
             },
             "pattern": {
              "fillmode": "overlay",
              "size": 10,
              "solidity": 0.2
             }
            },
            "type": "barpolar"
           }
          ],
          "carpet": [
           {
            "aaxis": {
             "endlinecolor": "#2a3f5f",
             "gridcolor": "white",
             "linecolor": "white",
             "minorgridcolor": "white",
             "startlinecolor": "#2a3f5f"
            },
            "baxis": {
             "endlinecolor": "#2a3f5f",
             "gridcolor": "white",
             "linecolor": "white",
             "minorgridcolor": "white",
             "startlinecolor": "#2a3f5f"
            },
            "type": "carpet"
           }
          ],
          "choropleth": [
           {
            "colorbar": {
             "outlinewidth": 0,
             "ticks": ""
            },
            "type": "choropleth"
           }
          ],
          "contour": [
           {
            "colorbar": {
             "outlinewidth": 0,
             "ticks": ""
            },
            "colorscale": [
             [
              0,
              "#0d0887"
             ],
             [
              0.1111111111111111,
              "#46039f"
             ],
             [
              0.2222222222222222,
              "#7201a8"
             ],
             [
              0.3333333333333333,
              "#9c179e"
             ],
             [
              0.4444444444444444,
              "#bd3786"
             ],
             [
              0.5555555555555556,
              "#d8576b"
             ],
             [
              0.6666666666666666,
              "#ed7953"
             ],
             [
              0.7777777777777778,
              "#fb9f3a"
             ],
             [
              0.8888888888888888,
              "#fdca26"
             ],
             [
              1,
              "#f0f921"
             ]
            ],
            "type": "contour"
           }
          ],
          "contourcarpet": [
           {
            "colorbar": {
             "outlinewidth": 0,
             "ticks": ""
            },
            "type": "contourcarpet"
           }
          ],
          "heatmap": [
           {
            "colorbar": {
             "outlinewidth": 0,
             "ticks": ""
            },
            "colorscale": [
             [
              0,
              "#0d0887"
             ],
             [
              0.1111111111111111,
              "#46039f"
             ],
             [
              0.2222222222222222,
              "#7201a8"
             ],
             [
              0.3333333333333333,
              "#9c179e"
             ],
             [
              0.4444444444444444,
              "#bd3786"
             ],
             [
              0.5555555555555556,
              "#d8576b"
             ],
             [
              0.6666666666666666,
              "#ed7953"
             ],
             [
              0.7777777777777778,
              "#fb9f3a"
             ],
             [
              0.8888888888888888,
              "#fdca26"
             ],
             [
              1,
              "#f0f921"
             ]
            ],
            "type": "heatmap"
           }
          ],
          "heatmapgl": [
           {
            "colorbar": {
             "outlinewidth": 0,
             "ticks": ""
            },
            "colorscale": [
             [
              0,
              "#0d0887"
             ],
             [
              0.1111111111111111,
              "#46039f"
             ],
             [
              0.2222222222222222,
              "#7201a8"
             ],
             [
              0.3333333333333333,
              "#9c179e"
             ],
             [
              0.4444444444444444,
              "#bd3786"
             ],
             [
              0.5555555555555556,
              "#d8576b"
             ],
             [
              0.6666666666666666,
              "#ed7953"
             ],
             [
              0.7777777777777778,
              "#fb9f3a"
             ],
             [
              0.8888888888888888,
              "#fdca26"
             ],
             [
              1,
              "#f0f921"
             ]
            ],
            "type": "heatmapgl"
           }
          ],
          "histogram": [
           {
            "marker": {
             "pattern": {
              "fillmode": "overlay",
              "size": 10,
              "solidity": 0.2
             }
            },
            "type": "histogram"
           }
          ],
          "histogram2d": [
           {
            "colorbar": {
             "outlinewidth": 0,
             "ticks": ""
            },
            "colorscale": [
             [
              0,
              "#0d0887"
             ],
             [
              0.1111111111111111,
              "#46039f"
             ],
             [
              0.2222222222222222,
              "#7201a8"
             ],
             [
              0.3333333333333333,
              "#9c179e"
             ],
             [
              0.4444444444444444,
              "#bd3786"
             ],
             [
              0.5555555555555556,
              "#d8576b"
             ],
             [
              0.6666666666666666,
              "#ed7953"
             ],
             [
              0.7777777777777778,
              "#fb9f3a"
             ],
             [
              0.8888888888888888,
              "#fdca26"
             ],
             [
              1,
              "#f0f921"
             ]
            ],
            "type": "histogram2d"
           }
          ],
          "histogram2dcontour": [
           {
            "colorbar": {
             "outlinewidth": 0,
             "ticks": ""
            },
            "colorscale": [
             [
              0,
              "#0d0887"
             ],
             [
              0.1111111111111111,
              "#46039f"
             ],
             [
              0.2222222222222222,
              "#7201a8"
             ],
             [
              0.3333333333333333,
              "#9c179e"
             ],
             [
              0.4444444444444444,
              "#bd3786"
             ],
             [
              0.5555555555555556,
              "#d8576b"
             ],
             [
              0.6666666666666666,
              "#ed7953"
             ],
             [
              0.7777777777777778,
              "#fb9f3a"
             ],
             [
              0.8888888888888888,
              "#fdca26"
             ],
             [
              1,
              "#f0f921"
             ]
            ],
            "type": "histogram2dcontour"
           }
          ],
          "mesh3d": [
           {
            "colorbar": {
             "outlinewidth": 0,
             "ticks": ""
            },
            "type": "mesh3d"
           }
          ],
          "parcoords": [
           {
            "line": {
             "colorbar": {
              "outlinewidth": 0,
              "ticks": ""
             }
            },
            "type": "parcoords"
           }
          ],
          "pie": [
           {
            "automargin": true,
            "type": "pie"
           }
          ],
          "scatter": [
           {
            "fillpattern": {
             "fillmode": "overlay",
             "size": 10,
             "solidity": 0.2
            },
            "type": "scatter"
           }
          ],
          "scatter3d": [
           {
            "line": {
             "colorbar": {
              "outlinewidth": 0,
              "ticks": ""
             }
            },
            "marker": {
             "colorbar": {
              "outlinewidth": 0,
              "ticks": ""
             }
            },
            "type": "scatter3d"
           }
          ],
          "scattercarpet": [
           {
            "marker": {
             "colorbar": {
              "outlinewidth": 0,
              "ticks": ""
             }
            },
            "type": "scattercarpet"
           }
          ],
          "scattergeo": [
           {
            "marker": {
             "colorbar": {
              "outlinewidth": 0,
              "ticks": ""
             }
            },
            "type": "scattergeo"
           }
          ],
          "scattergl": [
           {
            "marker": {
             "colorbar": {
              "outlinewidth": 0,
              "ticks": ""
             }
            },
            "type": "scattergl"
           }
          ],
          "scattermapbox": [
           {
            "marker": {
             "colorbar": {
              "outlinewidth": 0,
              "ticks": ""
             }
            },
            "type": "scattermapbox"
           }
          ],
          "scatterpolar": [
           {
            "marker": {
             "colorbar": {
              "outlinewidth": 0,
              "ticks": ""
             }
            },
            "type": "scatterpolar"
           }
          ],
          "scatterpolargl": [
           {
            "marker": {
             "colorbar": {
              "outlinewidth": 0,
              "ticks": ""
             }
            },
            "type": "scatterpolargl"
           }
          ],
          "scatterternary": [
           {
            "marker": {
             "colorbar": {
              "outlinewidth": 0,
              "ticks": ""
             }
            },
            "type": "scatterternary"
           }
          ],
          "surface": [
           {
            "colorbar": {
             "outlinewidth": 0,
             "ticks": ""
            },
            "colorscale": [
             [
              0,
              "#0d0887"
             ],
             [
              0.1111111111111111,
              "#46039f"
             ],
             [
              0.2222222222222222,
              "#7201a8"
             ],
             [
              0.3333333333333333,
              "#9c179e"
             ],
             [
              0.4444444444444444,
              "#bd3786"
             ],
             [
              0.5555555555555556,
              "#d8576b"
             ],
             [
              0.6666666666666666,
              "#ed7953"
             ],
             [
              0.7777777777777778,
              "#fb9f3a"
             ],
             [
              0.8888888888888888,
              "#fdca26"
             ],
             [
              1,
              "#f0f921"
             ]
            ],
            "type": "surface"
           }
          ],
          "table": [
           {
            "cells": {
             "fill": {
              "color": "#EBF0F8"
             },
             "line": {
              "color": "white"
             }
            },
            "header": {
             "fill": {
              "color": "#C8D4E3"
             },
             "line": {
              "color": "white"
             }
            },
            "type": "table"
           }
          ]
         },
         "layout": {
          "annotationdefaults": {
           "arrowcolor": "#2a3f5f",
           "arrowhead": 0,
           "arrowwidth": 1
          },
          "autotypenumbers": "strict",
          "coloraxis": {
           "colorbar": {
            "outlinewidth": 0,
            "ticks": ""
           }
          },
          "colorscale": {
           "diverging": [
            [
             0,
             "#8e0152"
            ],
            [
             0.1,
             "#c51b7d"
            ],
            [
             0.2,
             "#de77ae"
            ],
            [
             0.3,
             "#f1b6da"
            ],
            [
             0.4,
             "#fde0ef"
            ],
            [
             0.5,
             "#f7f7f7"
            ],
            [
             0.6,
             "#e6f5d0"
            ],
            [
             0.7,
             "#b8e186"
            ],
            [
             0.8,
             "#7fbc41"
            ],
            [
             0.9,
             "#4d9221"
            ],
            [
             1,
             "#276419"
            ]
           ],
           "sequential": [
            [
             0,
             "#0d0887"
            ],
            [
             0.1111111111111111,
             "#46039f"
            ],
            [
             0.2222222222222222,
             "#7201a8"
            ],
            [
             0.3333333333333333,
             "#9c179e"
            ],
            [
             0.4444444444444444,
             "#bd3786"
            ],
            [
             0.5555555555555556,
             "#d8576b"
            ],
            [
             0.6666666666666666,
             "#ed7953"
            ],
            [
             0.7777777777777778,
             "#fb9f3a"
            ],
            [
             0.8888888888888888,
             "#fdca26"
            ],
            [
             1,
             "#f0f921"
            ]
           ],
           "sequentialminus": [
            [
             0,
             "#0d0887"
            ],
            [
             0.1111111111111111,
             "#46039f"
            ],
            [
             0.2222222222222222,
             "#7201a8"
            ],
            [
             0.3333333333333333,
             "#9c179e"
            ],
            [
             0.4444444444444444,
             "#bd3786"
            ],
            [
             0.5555555555555556,
             "#d8576b"
            ],
            [
             0.6666666666666666,
             "#ed7953"
            ],
            [
             0.7777777777777778,
             "#fb9f3a"
            ],
            [
             0.8888888888888888,
             "#fdca26"
            ],
            [
             1,
             "#f0f921"
            ]
           ]
          },
          "colorway": [
           "#636efa",
           "#EF553B",
           "#00cc96",
           "#ab63fa",
           "#FFA15A",
           "#19d3f3",
           "#FF6692",
           "#B6E880",
           "#FF97FF",
           "#FECB52"
          ],
          "font": {
           "color": "#2a3f5f"
          },
          "geo": {
           "bgcolor": "white",
           "lakecolor": "white",
           "landcolor": "#E5ECF6",
           "showlakes": true,
           "showland": true,
           "subunitcolor": "white"
          },
          "hoverlabel": {
           "align": "left"
          },
          "hovermode": "closest",
          "mapbox": {
           "style": "light"
          },
          "paper_bgcolor": "white",
          "plot_bgcolor": "#E5ECF6",
          "polar": {
           "angularaxis": {
            "gridcolor": "white",
            "linecolor": "white",
            "ticks": ""
           },
           "bgcolor": "#E5ECF6",
           "radialaxis": {
            "gridcolor": "white",
            "linecolor": "white",
            "ticks": ""
           }
          },
          "scene": {
           "xaxis": {
            "backgroundcolor": "#E5ECF6",
            "gridcolor": "white",
            "gridwidth": 2,
            "linecolor": "white",
            "showbackground": true,
            "ticks": "",
            "zerolinecolor": "white"
           },
           "yaxis": {
            "backgroundcolor": "#E5ECF6",
            "gridcolor": "white",
            "gridwidth": 2,
            "linecolor": "white",
            "showbackground": true,
            "ticks": "",
            "zerolinecolor": "white"
           },
           "zaxis": {
            "backgroundcolor": "#E5ECF6",
            "gridcolor": "white",
            "gridwidth": 2,
            "linecolor": "white",
            "showbackground": true,
            "ticks": "",
            "zerolinecolor": "white"
           }
          },
          "shapedefaults": {
           "line": {
            "color": "#2a3f5f"
           }
          },
          "ternary": {
           "aaxis": {
            "gridcolor": "white",
            "linecolor": "white",
            "ticks": ""
           },
           "baxis": {
            "gridcolor": "white",
            "linecolor": "white",
            "ticks": ""
           },
           "bgcolor": "#E5ECF6",
           "caxis": {
            "gridcolor": "white",
            "linecolor": "white",
            "ticks": ""
           }
          },
          "title": {
           "x": 0.05
          },
          "xaxis": {
           "automargin": true,
           "gridcolor": "white",
           "linecolor": "white",
           "ticks": "",
           "title": {
            "standoff": 15
           },
           "zerolinecolor": "white",
           "zerolinewidth": 2
          },
          "yaxis": {
           "automargin": true,
           "gridcolor": "white",
           "linecolor": "white",
           "ticks": "",
           "title": {
            "standoff": 15
           },
           "zerolinecolor": "white",
           "zerolinewidth": 2
          }
         }
        },
        "title": {
         "text": "Label: Abomasnow"
        },
        "width": 500,
        "xaxis": {
         "anchor": "y",
         "domain": [
          0,
          1
         ],
         "showgrid": false,
         "showticklabels": false,
         "visible": false,
         "zeroline": false
        },
        "yaxis": {
         "anchor": "x",
         "domain": [
          0,
          1
         ],
         "showgrid": false,
         "showticklabels": false,
         "visible": false,
         "zeroline": false
        }
       }
      }
     },
     "metadata": {},
     "output_type": "display_data"
    },
    {
     "name": "stdout",
     "output_type": "stream",
     "text": [
      "tf.Tensor([1. 0. 0. 0. 0. 0. 0. 1. 0. 0. 0. 0. 0. 0. 0. 0. 0. 0. 0.], shape=(19,), dtype=float32)\n",
      "(96, 96, 3)\n"
     ]
    },
    {
     "data": {
      "application/vnd.plotly.v1+json": {
       "config": {
        "plotlyServerURL": "https://plot.ly"
       },
       "data": [
        {
         "hovertemplate": "x: %{x}<br>y: %{y}<br>color: [%{z[0]}, %{z[1]}, %{z[2]}]<extra></extra>",
         "name": "0",
         "source": "data:image/png;base64,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",
         "type": "image",
         "xaxis": "x",
         "yaxis": "y"
        }
       ],
       "layout": {
        "height": 350,
        "margin": {
         "l": 0,
         "t": 60
        },
        "shapes": [
         {
          "line": {
           "color": "black",
           "width": 2
          },
          "type": "rect",
          "x0": 0,
          "x1": 96,
          "xref": "x",
          "y0": 0,
          "y1": 96,
          "yref": "y"
         }
        ],
        "template": {
         "data": {
          "bar": [
           {
            "error_x": {
             "color": "#2a3f5f"
            },
            "error_y": {
             "color": "#2a3f5f"
            },
            "marker": {
             "line": {
              "color": "#E5ECF6",
              "width": 0.5
             },
             "pattern": {
              "fillmode": "overlay",
              "size": 10,
              "solidity": 0.2
             }
            },
            "type": "bar"
           }
          ],
          "barpolar": [
           {
            "marker": {
             "line": {
              "color": "#E5ECF6",
              "width": 0.5
             },
             "pattern": {
              "fillmode": "overlay",
              "size": 10,
              "solidity": 0.2
             }
            },
            "type": "barpolar"
           }
          ],
          "carpet": [
           {
            "aaxis": {
             "endlinecolor": "#2a3f5f",
             "gridcolor": "white",
             "linecolor": "white",
             "minorgridcolor": "white",
             "startlinecolor": "#2a3f5f"
            },
            "baxis": {
             "endlinecolor": "#2a3f5f",
             "gridcolor": "white",
             "linecolor": "white",
             "minorgridcolor": "white",
             "startlinecolor": "#2a3f5f"
            },
            "type": "carpet"
           }
          ],
          "choropleth": [
           {
            "colorbar": {
             "outlinewidth": 0,
             "ticks": ""
            },
            "type": "choropleth"
           }
          ],
          "contour": [
           {
            "colorbar": {
             "outlinewidth": 0,
             "ticks": ""
            },
            "colorscale": [
             [
              0,
              "#0d0887"
             ],
             [
              0.1111111111111111,
              "#46039f"
             ],
             [
              0.2222222222222222,
              "#7201a8"
             ],
             [
              0.3333333333333333,
              "#9c179e"
             ],
             [
              0.4444444444444444,
              "#bd3786"
             ],
             [
              0.5555555555555556,
              "#d8576b"
             ],
             [
              0.6666666666666666,
              "#ed7953"
             ],
             [
              0.7777777777777778,
              "#fb9f3a"
             ],
             [
              0.8888888888888888,
              "#fdca26"
             ],
             [
              1,
              "#f0f921"
             ]
            ],
            "type": "contour"
           }
          ],
          "contourcarpet": [
           {
            "colorbar": {
             "outlinewidth": 0,
             "ticks": ""
            },
            "type": "contourcarpet"
           }
          ],
          "heatmap": [
           {
            "colorbar": {
             "outlinewidth": 0,
             "ticks": ""
            },
            "colorscale": [
             [
              0,
              "#0d0887"
             ],
             [
              0.1111111111111111,
              "#46039f"
             ],
             [
              0.2222222222222222,
              "#7201a8"
             ],
             [
              0.3333333333333333,
              "#9c179e"
             ],
             [
              0.4444444444444444,
              "#bd3786"
             ],
             [
              0.5555555555555556,
              "#d8576b"
             ],
             [
              0.6666666666666666,
              "#ed7953"
             ],
             [
              0.7777777777777778,
              "#fb9f3a"
             ],
             [
              0.8888888888888888,
              "#fdca26"
             ],
             [
              1,
              "#f0f921"
             ]
            ],
            "type": "heatmap"
           }
          ],
          "heatmapgl": [
           {
            "colorbar": {
             "outlinewidth": 0,
             "ticks": ""
            },
            "colorscale": [
             [
              0,
              "#0d0887"
             ],
             [
              0.1111111111111111,
              "#46039f"
             ],
             [
              0.2222222222222222,
              "#7201a8"
             ],
             [
              0.3333333333333333,
              "#9c179e"
             ],
             [
              0.4444444444444444,
              "#bd3786"
             ],
             [
              0.5555555555555556,
              "#d8576b"
             ],
             [
              0.6666666666666666,
              "#ed7953"
             ],
             [
              0.7777777777777778,
              "#fb9f3a"
             ],
             [
              0.8888888888888888,
              "#fdca26"
             ],
             [
              1,
              "#f0f921"
             ]
            ],
            "type": "heatmapgl"
           }
          ],
          "histogram": [
           {
            "marker": {
             "pattern": {
              "fillmode": "overlay",
              "size": 10,
              "solidity": 0.2
             }
            },
            "type": "histogram"
           }
          ],
          "histogram2d": [
           {
            "colorbar": {
             "outlinewidth": 0,
             "ticks": ""
            },
            "colorscale": [
             [
              0,
              "#0d0887"
             ],
             [
              0.1111111111111111,
              "#46039f"
             ],
             [
              0.2222222222222222,
              "#7201a8"
             ],
             [
              0.3333333333333333,
              "#9c179e"
             ],
             [
              0.4444444444444444,
              "#bd3786"
             ],
             [
              0.5555555555555556,
              "#d8576b"
             ],
             [
              0.6666666666666666,
              "#ed7953"
             ],
             [
              0.7777777777777778,
              "#fb9f3a"
             ],
             [
              0.8888888888888888,
              "#fdca26"
             ],
             [
              1,
              "#f0f921"
             ]
            ],
            "type": "histogram2d"
           }
          ],
          "histogram2dcontour": [
           {
            "colorbar": {
             "outlinewidth": 0,
             "ticks": ""
            },
            "colorscale": [
             [
              0,
              "#0d0887"
             ],
             [
              0.1111111111111111,
              "#46039f"
             ],
             [
              0.2222222222222222,
              "#7201a8"
             ],
             [
              0.3333333333333333,
              "#9c179e"
             ],
             [
              0.4444444444444444,
              "#bd3786"
             ],
             [
              0.5555555555555556,
              "#d8576b"
             ],
             [
              0.6666666666666666,
              "#ed7953"
             ],
             [
              0.7777777777777778,
              "#fb9f3a"
             ],
             [
              0.8888888888888888,
              "#fdca26"
             ],
             [
              1,
              "#f0f921"
             ]
            ],
            "type": "histogram2dcontour"
           }
          ],
          "mesh3d": [
           {
            "colorbar": {
             "outlinewidth": 0,
             "ticks": ""
            },
            "type": "mesh3d"
           }
          ],
          "parcoords": [
           {
            "line": {
             "colorbar": {
              "outlinewidth": 0,
              "ticks": ""
             }
            },
            "type": "parcoords"
           }
          ],
          "pie": [
           {
            "automargin": true,
            "type": "pie"
           }
          ],
          "scatter": [
           {
            "fillpattern": {
             "fillmode": "overlay",
             "size": 10,
             "solidity": 0.2
            },
            "type": "scatter"
           }
          ],
          "scatter3d": [
           {
            "line": {
             "colorbar": {
              "outlinewidth": 0,
              "ticks": ""
             }
            },
            "marker": {
             "colorbar": {
              "outlinewidth": 0,
              "ticks": ""
             }
            },
            "type": "scatter3d"
           }
          ],
          "scattercarpet": [
           {
            "marker": {
             "colorbar": {
              "outlinewidth": 0,
              "ticks": ""
             }
            },
            "type": "scattercarpet"
           }
          ],
          "scattergeo": [
           {
            "marker": {
             "colorbar": {
              "outlinewidth": 0,
              "ticks": ""
             }
            },
            "type": "scattergeo"
           }
          ],
          "scattergl": [
           {
            "marker": {
             "colorbar": {
              "outlinewidth": 0,
              "ticks": ""
             }
            },
            "type": "scattergl"
           }
          ],
          "scattermapbox": [
           {
            "marker": {
             "colorbar": {
              "outlinewidth": 0,
              "ticks": ""
             }
            },
            "type": "scattermapbox"
           }
          ],
          "scatterpolar": [
           {
            "marker": {
             "colorbar": {
              "outlinewidth": 0,
              "ticks": ""
             }
            },
            "type": "scatterpolar"
           }
          ],
          "scatterpolargl": [
           {
            "marker": {
             "colorbar": {
              "outlinewidth": 0,
              "ticks": ""
             }
            },
            "type": "scatterpolargl"
           }
          ],
          "scatterternary": [
           {
            "marker": {
             "colorbar": {
              "outlinewidth": 0,
              "ticks": ""
             }
            },
            "type": "scatterternary"
           }
          ],
          "surface": [
           {
            "colorbar": {
             "outlinewidth": 0,
             "ticks": ""
            },
            "colorscale": [
             [
              0,
              "#0d0887"
             ],
             [
              0.1111111111111111,
              "#46039f"
             ],
             [
              0.2222222222222222,
              "#7201a8"
             ],
             [
              0.3333333333333333,
              "#9c179e"
             ],
             [
              0.4444444444444444,
              "#bd3786"
             ],
             [
              0.5555555555555556,
              "#d8576b"
             ],
             [
              0.6666666666666666,
              "#ed7953"
             ],
             [
              0.7777777777777778,
              "#fb9f3a"
             ],
             [
              0.8888888888888888,
              "#fdca26"
             ],
             [
              1,
              "#f0f921"
             ]
            ],
            "type": "surface"
           }
          ],
          "table": [
           {
            "cells": {
             "fill": {
              "color": "#EBF0F8"
             },
             "line": {
              "color": "white"
             }
            },
            "header": {
             "fill": {
              "color": "#C8D4E3"
             },
             "line": {
              "color": "white"
             }
            },
            "type": "table"
           }
          ]
         },
         "layout": {
          "annotationdefaults": {
           "arrowcolor": "#2a3f5f",
           "arrowhead": 0,
           "arrowwidth": 1
          },
          "autotypenumbers": "strict",
          "coloraxis": {
           "colorbar": {
            "outlinewidth": 0,
            "ticks": ""
           }
          },
          "colorscale": {
           "diverging": [
            [
             0,
             "#8e0152"
            ],
            [
             0.1,
             "#c51b7d"
            ],
            [
             0.2,
             "#de77ae"
            ],
            [
             0.3,
             "#f1b6da"
            ],
            [
             0.4,
             "#fde0ef"
            ],
            [
             0.5,
             "#f7f7f7"
            ],
            [
             0.6,
             "#e6f5d0"
            ],
            [
             0.7,
             "#b8e186"
            ],
            [
             0.8,
             "#7fbc41"
            ],
            [
             0.9,
             "#4d9221"
            ],
            [
             1,
             "#276419"
            ]
           ],
           "sequential": [
            [
             0,
             "#0d0887"
            ],
            [
             0.1111111111111111,
             "#46039f"
            ],
            [
             0.2222222222222222,
             "#7201a8"
            ],
            [
             0.3333333333333333,
             "#9c179e"
            ],
            [
             0.4444444444444444,
             "#bd3786"
            ],
            [
             0.5555555555555556,
             "#d8576b"
            ],
            [
             0.6666666666666666,
             "#ed7953"
            ],
            [
             0.7777777777777778,
             "#fb9f3a"
            ],
            [
             0.8888888888888888,
             "#fdca26"
            ],
            [
             1,
             "#f0f921"
            ]
           ],
           "sequentialminus": [
            [
             0,
             "#0d0887"
            ],
            [
             0.1111111111111111,
             "#46039f"
            ],
            [
             0.2222222222222222,
             "#7201a8"
            ],
            [
             0.3333333333333333,
             "#9c179e"
            ],
            [
             0.4444444444444444,
             "#bd3786"
            ],
            [
             0.5555555555555556,
             "#d8576b"
            ],
            [
             0.6666666666666666,
             "#ed7953"
            ],
            [
             0.7777777777777778,
             "#fb9f3a"
            ],
            [
             0.8888888888888888,
             "#fdca26"
            ],
            [
             1,
             "#f0f921"
            ]
           ]
          },
          "colorway": [
           "#636efa",
           "#EF553B",
           "#00cc96",
           "#ab63fa",
           "#FFA15A",
           "#19d3f3",
           "#FF6692",
           "#B6E880",
           "#FF97FF",
           "#FECB52"
          ],
          "font": {
           "color": "#2a3f5f"
          },
          "geo": {
           "bgcolor": "white",
           "lakecolor": "white",
           "landcolor": "#E5ECF6",
           "showlakes": true,
           "showland": true,
           "subunitcolor": "white"
          },
          "hoverlabel": {
           "align": "left"
          },
          "hovermode": "closest",
          "mapbox": {
           "style": "light"
          },
          "paper_bgcolor": "white",
          "plot_bgcolor": "#E5ECF6",
          "polar": {
           "angularaxis": {
            "gridcolor": "white",
            "linecolor": "white",
            "ticks": ""
           },
           "bgcolor": "#E5ECF6",
           "radialaxis": {
            "gridcolor": "white",
            "linecolor": "white",
            "ticks": ""
           }
          },
          "scene": {
           "xaxis": {
            "backgroundcolor": "#E5ECF6",
            "gridcolor": "white",
            "gridwidth": 2,
            "linecolor": "white",
            "showbackground": true,
            "ticks": "",
            "zerolinecolor": "white"
           },
           "yaxis": {
            "backgroundcolor": "#E5ECF6",
            "gridcolor": "white",
            "gridwidth": 2,
            "linecolor": "white",
            "showbackground": true,
            "ticks": "",
            "zerolinecolor": "white"
           },
           "zaxis": {
            "backgroundcolor": "#E5ECF6",
            "gridcolor": "white",
            "gridwidth": 2,
            "linecolor": "white",
            "showbackground": true,
            "ticks": "",
            "zerolinecolor": "white"
           }
          },
          "shapedefaults": {
           "line": {
            "color": "#2a3f5f"
           }
          },
          "ternary": {
           "aaxis": {
            "gridcolor": "white",
            "linecolor": "white",
            "ticks": ""
           },
           "baxis": {
            "gridcolor": "white",
            "linecolor": "white",
            "ticks": ""
           },
           "bgcolor": "#E5ECF6",
           "caxis": {
            "gridcolor": "white",
            "linecolor": "white",
            "ticks": ""
           }
          },
          "title": {
           "x": 0.05
          },
          "xaxis": {
           "automargin": true,
           "gridcolor": "white",
           "linecolor": "white",
           "ticks": "",
           "title": {
            "standoff": 15
           },
           "zerolinecolor": "white",
           "zerolinewidth": 2
          },
          "yaxis": {
           "automargin": true,
           "gridcolor": "white",
           "linecolor": "white",
           "ticks": "",
           "title": {
            "standoff": 15
           },
           "zerolinecolor": "white",
           "zerolinewidth": 2
          }
         }
        },
        "title": {
         "text": "Label: Abomasnow"
        },
        "width": 500,
        "xaxis": {
         "anchor": "y",
         "domain": [
          0,
          1
         ],
         "showgrid": false,
         "showticklabels": false,
         "visible": false,
         "zeroline": false
        },
        "yaxis": {
         "anchor": "x",
         "domain": [
          0,
          1
         ],
         "showgrid": false,
         "showticklabels": false,
         "visible": false,
         "zeroline": false
        }
       }
      }
     },
     "metadata": {},
     "output_type": "display_data"
    }
   ],
   "source": [
    "plot_n_images(train_ds, 5, class_names, GAN=True, size=width)"
   ]
  },
  {
   "cell_type": "code",
   "execution_count": 58,
   "metadata": {},
   "outputs": [],
   "source": [
    "from keras.layers import Dense, Reshape, Conv2DTranspose, Activation, BatchNormalization, Input, LeakyReLU, Conv2D, BatchNormalization, Flatten, Dropout\n",
    "from keras.models import Model, Sequential\n",
    "\n",
    "def build_encoder(input_shape, latent_dim):\n",
    "    input_layer = Input(shape=input_shape)\n",
    "    \n",
    "    x = Conv2D(filters=32, kernel_size=3, strides=2, padding='same')(input_layer)\n",
    "    x = BatchNormalization()(x)\n",
    "    x = LeakyReLU(alpha=0.2)(x)\n",
    "    \n",
    "    x = Conv2D(filters=64, kernel_size=3, strides=2, padding='same')(x)\n",
    "    x = BatchNormalization()(x)\n",
    "    x = LeakyReLU(alpha=0.2)(x)\n",
    "    \n",
    "    x = Conv2D(filters=128, kernel_size=3, strides=2, padding='same')(x)\n",
    "    x = BatchNormalization()(x)\n",
    "    x = LeakyReLU(alpha=0.2)(x)\n",
    "    \n",
    "    x = Flatten()(x)\n",
    "    x = Dense(units=latent_dim)(x)\n",
    "    \n",
    "    output_layer = x\n",
    "    \n",
    "    model = Model(inputs=input_layer, outputs=output_layer)\n",
    "    \n",
    "    return model\n",
    "\n",
    "def build_generator(latent_dim):\n",
    "    inputs = Input(shape=(latent_dim,))\n",
    "    x = Dense(12*12*256)(inputs)\n",
    "    x = Reshape((12, 12, 256))(x)\n",
    "    x = Conv2DTranspose(128, kernel_size=5, strides=2, padding='same')(x)\n",
    "    x = BatchNormalization()(x)\n",
    "    x = LeakyReLU()(x)\n",
    "    x = Conv2DTranspose(64, kernel_size=5, strides=2, padding='same')(x)\n",
    "    x = BatchNormalization()(x)\n",
    "    x = LeakyReLU()(x)\n",
    "    x = Conv2DTranspose(3, kernel_size=5, strides=2, padding='same')(x)\n",
    "    outputs = Activation('tanh')(x)\n",
    "    generator = Model(inputs=inputs, outputs=outputs, name='generator')\n",
    "    return generator\n",
    "\n",
    "def build_discriminator_image(input_shape):\n",
    "    model = Sequential()\n",
    "    model.add(Conv2D(64, (5, 5), strides=(2, 2), padding='same', input_shape=input_shape))\n",
    "    model.add(LeakyReLU(alpha=0.2))\n",
    "    model.add(Dropout(0.4))\n",
    "\n",
    "    model.add(Conv2D(128, (5, 5), strides=(2, 2), padding='same'))\n",
    "    model.add(LeakyReLU(alpha=0.2))\n",
    "    model.add(Dropout(0.4))\n",
    "\n",
    "    model.add(Conv2D(256, (5, 5), strides=(2, 2), padding='same'))\n",
    "    model.add(LeakyReLU(alpha=0.2))\n",
    "    model.add(Dropout(0.4))\n",
    "\n",
    "    model.add(Conv2D(512, (5, 5), strides=(2, 2), padding='same'))\n",
    "    model.add(LeakyReLU(alpha=0.2))\n",
    "    model.add(Dropout(0.4))\n",
    "\n",
    "    model.add(Flatten())\n",
    "    model.add(Dense(1, activation='sigmoid'))\n",
    "\n",
    "    return model\n",
    "\n",
    "def build_discriminator_latent(input_shape):\n",
    "    model = Sequential()\n",
    "    model.add(Dense(256, input_shape=input_shape))\n",
    "    model.add(LeakyReLU(alpha=0.2))\n",
    "    model.add(Dropout(0.4))\n",
    "    model.add(Dense(256))\n",
    "    model.add(LeakyReLU(alpha=0.2))\n",
    "    model.add(Dropout(0.4))\n",
    "    model.add(Dense(256))\n",
    "    model.add(LeakyReLU(alpha=0.2))\n",
    "    model.add(Dropout(0.4))\n",
    "    model.add(Dense(1, activation='sigmoid'))\n",
    "    return model\n"
   ]
  },
  {
   "cell_type": "code",
   "execution_count": 59,
   "metadata": {},
   "outputs": [],
   "source": [
    "encoder = build_encoder(input_shape, latent_dim)\n",
    "generator = build_generator(latent_dim)\n",
    "discriminator_image = build_discriminator_image(input_shape)\n",
    "discriminator_latent = build_discriminator_latent((latent_dim,))\n"
   ]
  },
  {
   "cell_type": "code",
   "execution_count": 64,
   "metadata": {},
   "outputs": [],
   "source": [
    "class AEGAN():\n",
    "    def __init__(self, encoder, generator, discriminator_image, discriminator_latent, latent_dim, input_shape):\n",
    "        self.encoder = encoder\n",
    "        self.generator = generator\n",
    "        self.discriminator_image = discriminator_image\n",
    "        self.discriminator_latent = discriminator_latent\n",
    "        self.latent_dim = latent_dim\n",
    "        self.input_shape = input_shape\n",
    "        \n",
    "        self.discriminator_image.compile(loss='binary_crossentropy', optimizer='adam', metrics=['accuracy'])\n",
    "        self.discriminator_latent.compile(loss='binary_crossentropy', optimizer='adam', metrics=['accuracy'])\n",
    "        \n",
    "        self.encoder.trainable = False\n",
    "        self.generator.trainable = False\n",
    "        \n",
    "        z = Input(shape=(self.latent_dim,))\n",
    "        fake_image = self.generator(z)\n",
    "        fake_latent = self.encoder(fake_image)\n",
    "        valid_image = self.discriminator_image(fake_image)\n",
    "        valid_latent = self.discriminator_latent(fake_latent)\n",
    "        \n",
    "        self.combined = Model(z, [valid_image, valid_latent])\n",
    "        self.combined.compile(loss=['binary_crossentropy', 'binary_crossentropy'], optimizer='adam')\n",
    "        \n",
    "    def train(self, epochs, batch_size, train_ds):\n",
    "        for epoch in range(epochs):\n",
    "            for x, y in train_ds:\n",
    "                batch_size = x.shape[0]\n",
    "                # Train Discriminator\n",
    "                # Train on real images\n",
    "                real_image = x\n",
    "                real_latent = self.encoder.predict(real_image, verbose=0)\n",
    "                d_loss_real_image = self.discriminator_image.train_on_batch(real_image, np.ones((batch_size, 1)))\n",
    "                d_loss_real_latent = self.discriminator_latent.train_on_batch(real_latent, np.ones((batch_size, 1)))\n",
    "                # Train on fake images\n",
    "                latent = np.random.normal(0, 1, (batch_size, self.latent_dim))\n",
    "                fake_image = self.generator.predict(latent, verbose=0)\n",
    "                fake_latent = self.encoder.predict(fake_image, verbose=0)\n",
    "                d_loss_fake_image = self.discriminator_image.train_on_batch(fake_image, np.zeros((batch_size, 1)))\n",
    "                d_loss_fake_latent = self.discriminator_latent.train_on_batch(fake_latent, np.ones((batch_size, 1)))\n",
    "                # Train Generator\n",
    "                latent = np.random.normal(0, 1, (batch_size, self.latent_dim))\n",
    "                g_loss = self.combined.train_on_batch(latent, [np.ones((batch_size, 1)), np.ones((batch_size, 1))], verbose=0)\n",
    "                print(f'Epoch: {epoch+1}/{epochs}, d_loss_real_image: {d_loss_real_image[0]:.2f}, d_loss_real_latent: {d_loss_real_latent[0]:.2f}, d_loss_fake_image: {d_loss_fake_image[0]:.2f}, d_loss_fake_latent: {d_loss_fake_latent[0]:.2f}, g_loss: {g_loss[0]:.2f}')\n",
    "                if epoch % 1 == 0:\n",
    "                    self.save_images(epoch)\n",
    "                    # self.save_model()\n",
    "\n",
    "    def save_images(self, epoch):\n",
    "        r, c = 5, 5\n",
    "        latent = np.random.normal(0, 1, (r * c, self.latent_dim))\n",
    "        gen_imgs = self.generator.predict(latent)\n",
    "        gen_imgs = 0.5 * gen_imgs + 0.5\n",
    "        fig, axs = plt.subplots(r, c)\n",
    "        cnt = 0\n",
    "        for i in range(r):\n",
    "            for j in range(c):\n",
    "                axs[i,j].imshow(gen_imgs[cnt])\n",
    "                axs[i,j].axis('off')\n",
    "                cnt += 1\n",
    "        fig.savefig(f\"images/{epoch}.png\")\n",
    "        plt.close()\n",
    "\n",
    "    def save_model(self):\n",
    "        self.encoder.save('encoder.h5')\n",
    "        self.generator.save('generator.h5')\n",
    "        self.discriminator_image.save('discriminator_image.h5')\n",
    "        self.discriminator_latent.save('discriminator_latent.h5')\n",
    "\n",
    "aegan = AEGAN(encoder, generator, discriminator_image, discriminator_latent, latent_dim, input_shape)\n"
   ]
  },
  {
   "cell_type": "code",
   "execution_count": 65,
   "metadata": {},
   "outputs": [
    {
     "name": "stdout",
     "output_type": "stream",
     "text": [
      "Epoch: 1/10000, d_loss_real_image: 247.7805633544922, d_loss_real_latent: 22.761545181274414, d_loss_fake_image: 0.06968501955270767, d_loss_fake_latent: 0.2066766619682312, g_loss: 2.7245993614196777\n",
      "1/1 [==============================] - 0s 24ms/step\n",
      "Epoch: 1/10000, d_loss_real_image: 0.0, d_loss_real_latent: 20.079715728759766, d_loss_fake_image: 8.231388092041016, d_loss_fake_latent: 0.13667231798171997, g_loss: 0.12692897021770477\n",
      "1/1 [==============================] - 0s 31ms/step\n",
      "Epoch: 1/10000, d_loss_real_image: 0.0, d_loss_real_latent: 15.8850736618042, d_loss_fake_image: 11.180007934570312, d_loss_fake_latent: 0.08875682950019836, g_loss: 0.08446097373962402\n",
      "1/1 [==============================] - 0s 27ms/step\n",
      "Epoch: 1/10000, d_loss_real_image: 0.0, d_loss_real_latent: 11.260910987854004, d_loss_fake_image: 9.45897102355957, d_loss_fake_latent: 0.053345657885074615, g_loss: 0.05214875191450119\n",
      "1/1 [==============================] - 0s 29ms/step\n",
      "Epoch: 1/10000, d_loss_real_image: 0.0, d_loss_real_latent: 7.54658317565918, d_loss_fake_image: 5.473231315612793, d_loss_fake_latent: 0.030864577740430832, g_loss: 0.17540240287780762\n",
      "1/1 [==============================] - 0s 48ms/step\n",
      "Epoch: 1/10000, d_loss_real_image: 1.7556442022323608, d_loss_real_latent: 2.813413381576538, d_loss_fake_image: 3.4989123344421387, d_loss_fake_latent: 0.02110106498003006, g_loss: 0.26342976093292236\n",
      "1/1 [==============================] - 0s 23ms/step\n",
      "Epoch: 1/10000, d_loss_real_image: 0.0, d_loss_real_latent: 0.46964460611343384, d_loss_fake_image: 4.757512092590332, d_loss_fake_latent: 0.011494538746774197, g_loss: 0.08635784685611725\n",
      "1/1 [==============================] - 0s 27ms/step\n",
      "Epoch: 1/10000, d_loss_real_image: 0.0, d_loss_real_latent: 0.005627312697470188, d_loss_fake_image: 7.087098121643066, d_loss_fake_latent: 0.006519562564790249, g_loss: 0.051200687885284424\n",
      "1/1 [==============================] - 0s 25ms/step\n",
      "Epoch: 1/10000, d_loss_real_image: 0.0, d_loss_real_latent: 0.0005637727444991469, d_loss_fake_image: 6.897738456726074, d_loss_fake_latent: 0.003327624872326851, g_loss: 0.15742604434490204\n",
      "1/1 [==============================] - 0s 30ms/step\n",
      "Epoch: 1/10000, d_loss_real_image: 0.0, d_loss_real_latent: 0.00010366313654230908, d_loss_fake_image: 5.3952956199646, d_loss_fake_latent: 0.0017438858048990369, g_loss: 0.29037773609161377\n",
      "1/1 [==============================] - 0s 29ms/step\n",
      "Epoch: 1/10000, d_loss_real_image: 0.0, d_loss_real_latent: 1.2205286111566238e-05, d_loss_fake_image: 4.792644500732422, d_loss_fake_latent: 0.0008675067219883204, g_loss: 0.24886205792427063\n",
      "1/1 [==============================] - 0s 23ms/step\n",
      "Epoch: 1/10000, d_loss_real_image: 0.0, d_loss_real_latent: 3.9135093743425386e-07, d_loss_fake_image: 5.916661262512207, d_loss_fake_latent: 0.0006832684739492834, g_loss: 0.13847650587558746\n",
      "1/1 [==============================] - 0s 22ms/step\n",
      "Epoch: 1/10000, d_loss_real_image: 0.0, d_loss_real_latent: 1.1425988155622235e-08, d_loss_fake_image: 6.317472457885742, d_loss_fake_latent: 0.0004517950292211026, g_loss: 0.12015697360038757\n",
      "1/1 [==============================] - 0s 20ms/step\n",
      "Epoch: 1/10000, d_loss_real_image: 0.0, d_loss_real_latent: 5.740569686274455e-10, d_loss_fake_image: 6.306427955627441, d_loss_fake_latent: 0.0002493535284884274, g_loss: 0.12137117981910706\n",
      "1/1 [==============================] - 0s 23ms/step\n",
      "Epoch: 1/10000, d_loss_real_image: 95.91614532470703, d_loss_real_latent: 3.120358971209214e-10, d_loss_fake_image: 9.183813095092773, d_loss_fake_latent: 0.0002202333853347227, g_loss: 0.0017003595130518079\n",
      "1/1 [==============================] - 0s 30ms/step\n",
      "Epoch: 1/10000, d_loss_real_image: 0.0, d_loss_real_latent: 1.5634544769937975e-09, d_loss_fake_image: 16.32448959350586, d_loss_fake_latent: 0.000154286200995557, g_loss: 0.00029951572651043534\n",
      "1/1 [==============================] - 0s 23ms/step\n",
      "Epoch: 1/10000, d_loss_real_image: 0.0, d_loss_real_latent: 6.255451712178228e-10, d_loss_fake_image: 14.44775676727295, d_loss_fake_latent: 9.751826291903853e-05, g_loss: 0.000955406401772052\n",
      "1/1 [==============================] - 0s 21ms/step\n",
      "Epoch: 1/10000, d_loss_real_image: 0.0, d_loss_real_latent: 9.881625682647832e-13, d_loss_fake_image: 9.672565460205078, d_loss_fake_latent: 7.3249451816082e-05, g_loss: 0.291500985622406\n",
      "1/1 [==============================] - 0s 22ms/step\n",
      "Epoch: 1/10000, d_loss_real_image: 0.0, d_loss_real_latent: 2.6576870044980883e-12, d_loss_fake_image: 9.401373863220215, d_loss_fake_latent: 6.461345765274018e-05, g_loss: 2.3966102600097656\n",
      "1/1 [==============================] - 0s 20ms/step\n",
      "Epoch: 1/10000, d_loss_real_image: 0.0, d_loss_real_latent: 9.853851068442054e-11, d_loss_fake_image: 9.603597640991211, d_loss_fake_latent: 3.7758134567411616e-05, g_loss: 8.921113014221191\n",
      "1/1 [==============================] - 0s 23ms/step\n",
      "Epoch: 1/10000, d_loss_real_image: 75.01275634765625, d_loss_real_latent: 1.2198351053219203e-12, d_loss_fake_image: 10.482917785644531, d_loss_fake_latent: 2.7264884920441546e-05, g_loss: 11.776209831237793\n",
      "1/1 [==============================] - 0s 27ms/step\n",
      "Epoch: 1/10000, d_loss_real_image: 0.0, d_loss_real_latent: 4.097741094469427e-14, d_loss_fake_image: 11.374883651733398, d_loss_fake_latent: 2.7586385840550065e-05, g_loss: 9.24299430847168\n",
      "1/1 [==============================] - 0s 25ms/step\n",
      "Epoch: 1/10000, d_loss_real_image: 0.0, d_loss_real_latent: 3.517702622246599e-13, d_loss_fake_image: 14.733060836791992, d_loss_fake_latent: 1.8519251170801e-05, g_loss: 2.9372966289520264\n",
      "1/1 [==============================] - 0s 20ms/step\n",
      "Epoch: 1/10000, d_loss_real_image: 0.0, d_loss_real_latent: 1.176362479649029e-11, d_loss_fake_image: 18.439027786254883, d_loss_fake_latent: 1.2610797057277523e-05, g_loss: 0.7535989284515381\n",
      "1/1 [==============================] - 0s 21ms/step\n",
      "Epoch: 1/10000, d_loss_real_image: 0.0, d_loss_real_latent: 1.88146161087457e-16, d_loss_fake_image: 17.018892288208008, d_loss_fake_latent: 1.2362849702185486e-05, g_loss: 0.8023675680160522\n",
      "1/1 [==============================] - 0s 28ms/step\n",
      "Epoch: 1/10000, d_loss_real_image: 90.22318267822266, d_loss_real_latent: 2.7357864847772813e-14, d_loss_fake_image: 13.421703338623047, d_loss_fake_latent: 1.0192702575295698e-05, g_loss: 0.23300376534461975\n",
      "1/1 [==============================] - 0s 27ms/step\n",
      "Epoch: 1/10000, d_loss_real_image: 0.0, d_loss_real_latent: 7.92804839179896e-16, d_loss_fake_image: 9.729450225830078, d_loss_fake_latent: 1.2204835002194159e-05, g_loss: 0.18325452506542206\n",
      "1/1 [==============================] - 0s 24ms/step\n",
      "Epoch: 1/10000, d_loss_real_image: 0.0, d_loss_real_latent: 5.338120223630227e-11, d_loss_fake_image: 6.041502952575684, d_loss_fake_latent: 6.2786712078377604e-06, g_loss: 0.12325498461723328\n",
      "1/1 [==============================] - 0s 21ms/step\n",
      "Epoch: 1/10000, d_loss_real_image: 0.0, d_loss_real_latent: 2.0808062489738883e-17, d_loss_fake_image: 3.323317766189575, d_loss_fake_latent: 8.183062163880095e-06, g_loss: 0.4034310579299927\n",
      "1/1 [==============================] - 0s 21ms/step\n",
      "Epoch: 1/10000, d_loss_real_image: 0.0, d_loss_real_latent: 1.2879769543646183e-14, d_loss_fake_image: 1.4958975315093994, d_loss_fake_latent: 7.403604286082555e-06, g_loss: 1.0512986183166504\n",
      "1/1 [==============================] - 0s 22ms/step\n",
      "Epoch: 1/10000, d_loss_real_image: 2.6907200573707143e-35, d_loss_real_latent: 5.500930657167946e-13, d_loss_fake_image: 0.9995269775390625, d_loss_fake_latent: 2.8618189844564768e-06, g_loss: 1.651262879371643\n",
      "1/1 [==============================] - 0s 23ms/step\n",
      "Epoch: 1/10000, d_loss_real_image: 0.0, d_loss_real_latent: 1.3938890647047014e-16, d_loss_fake_image: 2.192410469055176, d_loss_fake_latent: 8.245552635344211e-06, g_loss: 0.789008378982544\n",
      "1/1 [==============================] - 0s 36ms/step\n",
      "Epoch: 1/10000, d_loss_real_image: 172.88124084472656, d_loss_real_latent: 7.837225707546091e-15, d_loss_fake_image: 5.016057014465332, d_loss_fake_latent: 5.236372089711949e-06, g_loss: 0.4678068459033966\n",
      "1/1 [==============================] - 0s 21ms/step\n",
      "Epoch: 1/10000, d_loss_real_image: 0.0, d_loss_real_latent: 5.5786072714948155e-15, d_loss_fake_image: 10.512136459350586, d_loss_fake_latent: 2.30440559789713e-06, g_loss: 0.08834785968065262\n",
      "1/1 [==============================] - 0s 20ms/step\n",
      "Epoch: 1/10000, d_loss_real_image: 0.0, d_loss_real_latent: 5.316908819144074e-14, d_loss_fake_image: 12.686897277832031, d_loss_fake_latent: 5.919967406953219e-06, g_loss: 0.2141253650188446\n",
      "1/1 [==============================] - 0s 22ms/step\n",
      "Epoch: 1/10000, d_loss_real_image: 0.0, d_loss_real_latent: 8.440118348413284e-15, d_loss_fake_image: 9.171618461608887, d_loss_fake_latent: 2.573449364717817e-06, g_loss: 1.4003443717956543\n",
      "1/1 [==============================] - 0s 22ms/step\n",
      "Epoch: 1/10000, d_loss_real_image: 0.0, d_loss_real_latent: 7.953729499023468e-14, d_loss_fake_image: 6.784921646118164, d_loss_fake_latent: 3.065312057515257e-06, g_loss: 2.8777382373809814\n",
      "1/1 [==============================] - 0s 26ms/step\n",
      "Epoch: 1/10000, d_loss_real_image: 0.0, d_loss_real_latent: 1.3831008820880397e-12, d_loss_fake_image: 6.884406089782715, d_loss_fake_latent: 2.816588221321581e-06, g_loss: 2.2809863090515137\n",
      "1/1 [==============================] - 0s 20ms/step\n",
      "Epoch: 1/10000, d_loss_real_image: 0.0, d_loss_real_latent: 3.7707681486802425e-13, d_loss_fake_image: 10.590749740600586, d_loss_fake_latent: 4.168254235992208e-06, g_loss: 0.2509002983570099\n",
      "1/1 [==============================] - 0s 24ms/step\n",
      "Epoch: 1/10000, d_loss_real_image: 0.0, d_loss_real_latent: 6.058220873746134e-14, d_loss_fake_image: 12.325583457946777, d_loss_fake_latent: 7.912799446785357e-06, g_loss: 0.022891856729984283\n",
      "1/1 [==============================] - 0s 21ms/step\n",
      "Epoch: 1/10000, d_loss_real_image: 0.0, d_loss_real_latent: 3.889387252477457e-14, d_loss_fake_image: 9.773395538330078, d_loss_fake_latent: 5.414410225057509e-06, g_loss: 0.04048134386539459\n",
      "1/1 [==============================] - 0s 24ms/step\n",
      "Epoch: 1/10000, d_loss_real_image: 0.0, d_loss_real_latent: 2.1480492962155408e-14, d_loss_fake_image: 6.744129180908203, d_loss_fake_latent: 3.0802366381976753e-06, g_loss: 0.14807866513729095\n",
      "1/1 [==============================] - 0s 19ms/step\n",
      "Epoch: 1/10000, d_loss_real_image: 0.0, d_loss_real_latent: 6.70413838376252e-14, d_loss_fake_image: 4.645694255828857, d_loss_fake_latent: 3.7298464121704455e-06, g_loss: 0.4009847939014435\n",
      "1/1 [==============================] - 0s 31ms/step\n",
      "Epoch: 1/10000, d_loss_real_image: 0.0, d_loss_real_latent: 7.823703842982713e-14, d_loss_fake_image: 3.277980327606201, d_loss_fake_latent: 3.238521003368078e-06, g_loss: 0.5780010223388672\n",
      "1/1 [==============================] - 0s 30ms/step\n",
      "Epoch: 1/10000, d_loss_real_image: 0.0, d_loss_real_latent: 5.913196364851214e-13, d_loss_fake_image: 3.251000165939331, d_loss_fake_latent: 2.206045792263467e-06, g_loss: 0.6336318254470825\n",
      "1/1 [==============================] - 0s 56ms/step\n",
      "Epoch: 1/10000, d_loss_real_image: 0.0, d_loss_real_latent: 3.611812014563381e-15, d_loss_fake_image: 4.668562889099121, d_loss_fake_latent: 8.630944648757577e-06, g_loss: 0.39900878071784973\n",
      "1/1 [==============================] - 0s 40ms/step\n",
      "Epoch: 1/10000, d_loss_real_image: 0.0, d_loss_real_latent: 6.068645901151056e-16, d_loss_fake_image: 6.120835304260254, d_loss_fake_latent: 4.03192825615406e-06, g_loss: 0.23932740092277527\n",
      "1/1 [==============================] - 0s 26ms/step\n",
      "Epoch: 1/10000, d_loss_real_image: 0.0, d_loss_real_latent: 2.5727547262738293e-12, d_loss_fake_image: 6.063490867614746, d_loss_fake_latent: 4.99612360727042e-06, g_loss: 0.3420597016811371\n",
      "1/1 [==============================] - 0s 21ms/step\n",
      "Epoch: 1/10000, d_loss_real_image: 11.092018127441406, d_loss_real_latent: 7.165175028821247e-14, d_loss_fake_image: 10.13991928100586, d_loss_fake_latent: 1.717581540106039e-06, g_loss: 0.006507364101707935\n",
      "1/1 [==============================] - 0s 21ms/step\n",
      "Epoch: 1/10000, d_loss_real_image: 0.0, d_loss_real_latent: 3.934017282943014e-13, d_loss_fake_image: 11.72789478302002, d_loss_fake_latent: 3.2719017326598987e-06, g_loss: 0.058983393013477325\n",
      "1/1 [==============================] - 0s 21ms/step\n",
      "Epoch: 1/10000, d_loss_real_image: 0.0, d_loss_real_latent: 3.318528127126e-15, d_loss_fake_image: 4.0983476638793945, d_loss_fake_latent: 2.7377589049137896e-06, g_loss: 3.9318301677703857\n",
      "1/1 [==============================] - 0s 34ms/step\n",
      "Epoch: 1/10000, d_loss_real_image: 0.0, d_loss_real_latent: 3.01991030381317e-14, d_loss_fake_image: 1.1798717975616455, d_loss_fake_latent: 2.865676378860371e-06, g_loss: 4.672616004943848\n",
      "1/1 [==============================] - 0s 20ms/step\n",
      "Epoch: 1/10000, d_loss_real_image: 0.0, d_loss_real_latent: 2.1883772495183673e-16, d_loss_fake_image: 2.773108720779419, d_loss_fake_latent: 3.5405503240326652e-06, g_loss: 3.756035327911377\n",
      "1/1 [==============================] - 0s 24ms/step\n",
      "Epoch: 1/10000, d_loss_real_image: 0.0, d_loss_real_latent: 3.681711092429827e-17, d_loss_fake_image: 3.754746437072754, d_loss_fake_latent: 4.861539309786167e-06, g_loss: 4.331440448760986\n",
      "1/1 [==============================] - 0s 23ms/step\n",
      "Epoch: 1/10000, d_loss_real_image: 0.0, d_loss_real_latent: 1.221218354382258e-17, d_loss_fake_image: 2.3676156997680664, d_loss_fake_latent: 3.678628672787454e-06, g_loss: 1.4241830110549927\n",
      "1/1 [==============================] - 0s 32ms/step\n",
      "Epoch: 1/10000, d_loss_real_image: 0.0, d_loss_real_latent: 1.0314718643014004e-13, d_loss_fake_image: 10.759734153747559, d_loss_fake_latent: 1.1584427284105914e-06, g_loss: 0.08587615936994553\n",
      "1/1 [==============================] - 0s 30ms/step\n",
      "Epoch: 1/10000, d_loss_real_image: 0.0, d_loss_real_latent: 4.206712669180268e-12, d_loss_fake_image: 11.069787979125977, d_loss_fake_latent: 2.1827358978043776e-06, g_loss: 0.6703795790672302\n",
      "1/1 [==============================] - 0s 21ms/step\n",
      "Epoch: 1/10000, d_loss_real_image: 0.0, d_loss_real_latent: 3.9263467807421794e-17, d_loss_fake_image: 7.821474552154541, d_loss_fake_latent: 1.3335591120267054e-06, g_loss: 2.6101057529449463\n",
      "1/1 [==============================] - 0s 25ms/step\n",
      "Epoch: 1/10000, d_loss_real_image: 71.96343994140625, d_loss_real_latent: 3.2486608659346354e-17, d_loss_fake_image: 3.8912065029144287, d_loss_fake_latent: 2.3364445951301605e-06, g_loss: 1.1737773418426514\n",
      "1/1 [==============================] - 0s 26ms/step\n",
      "Epoch: 1/10000, d_loss_real_image: 0.0, d_loss_real_latent: 9.350576275725039e-14, d_loss_fake_image: 14.191000938415527, d_loss_fake_latent: 2.0826801119255833e-06, g_loss: 1.636291742324829\n",
      "1/1 [==============================] - 0s 23ms/step\n",
      "Epoch: 1/10000, d_loss_real_image: 0.0, d_loss_real_latent: 4.775362962998247e-15, d_loss_fake_image: 10.707900047302246, d_loss_fake_latent: 2.2108117718744325e-06, g_loss: 1.9560638666152954\n",
      "1/1 [==============================] - 0s 23ms/step\n",
      "Epoch: 1/10000, d_loss_real_image: 0.0, d_loss_real_latent: 6.158403335593634e-16, d_loss_fake_image: 12.6897611618042, d_loss_fake_latent: 1.6777851215010742e-06, g_loss: 0.3055269718170166\n",
      "1/1 [==============================] - 0s 24ms/step\n",
      "Epoch: 1/10000, d_loss_real_image: 0.0, d_loss_real_latent: 2.3889249682173402e-14, d_loss_fake_image: 11.080364227294922, d_loss_fake_latent: 2.0120583030802663e-06, g_loss: 1.8444210290908813\n",
      "1/1 [==============================] - 0s 21ms/step\n",
      "Epoch: 1/10000, d_loss_real_image: 0.0, d_loss_real_latent: 9.643791299383808e-14, d_loss_fake_image: 12.249869346618652, d_loss_fake_latent: 3.0171672733558808e-06, g_loss: 0.9085497260093689\n",
      "1/1 [==============================] - 0s 21ms/step\n",
      "Epoch: 1/10000, d_loss_real_image: 0.0, d_loss_real_latent: 1.7680403311109288e-13, d_loss_fake_image: 14.880959510803223, d_loss_fake_latent: 2.282982677570544e-06, g_loss: 2.1073813438415527\n",
      "1/1 [==============================] - 0s 21ms/step\n",
      "Epoch: 1/10000, d_loss_real_image: 0.0, d_loss_real_latent: 7.30543788271087e-16, d_loss_fake_image: 9.836891174316406, d_loss_fake_latent: 1.2826614010919002e-06, g_loss: 1.4837578535079956\n",
      "1/1 [==============================] - 0s 24ms/step\n",
      "Epoch: 1/10000, d_loss_real_image: 0.0, d_loss_real_latent: 1.154792098364665e-15, d_loss_fake_image: 15.983933448791504, d_loss_fake_latent: 1.6296939975291025e-06, g_loss: 0.32743728160858154\n",
      "1/1 [==============================] - 0s 23ms/step\n",
      "Epoch: 1/10000, d_loss_real_image: 0.0, d_loss_real_latent: 5.406666867685539e-14, d_loss_fake_image: 17.836618423461914, d_loss_fake_latent: 2.2694132439937675e-06, g_loss: 1.2798668146133423\n",
      "1/1 [==============================] - 0s 21ms/step\n",
      "Epoch: 1/10000, d_loss_real_image: 59.4713249206543, d_loss_real_latent: 1.2643351636639193e-15, d_loss_fake_image: 9.57742977142334, d_loss_fake_latent: 2.837866531990585e-06, g_loss: 5.175119876861572\n",
      "1/1 [==============================] - 0s 24ms/step\n",
      "Epoch: 1/10000, d_loss_real_image: 0.0, d_loss_real_latent: 2.8312663891082147e-16, d_loss_fake_image: 8.771305084228516, d_loss_fake_latent: 2.9587117751361802e-06, g_loss: 1.936785101890564\n",
      "1/1 [==============================] - 0s 24ms/step\n",
      "Epoch: 1/10000, d_loss_real_image: 0.0, d_loss_real_latent: 1.414488111888538e-17, d_loss_fake_image: 22.277854919433594, d_loss_fake_latent: 1.5387283838208532e-06, g_loss: 0.3307324945926666\n",
      "1/1 [==============================] - 0s 52ms/step\n",
      "Epoch: 1/10000, d_loss_real_image: 0.0, d_loss_real_latent: 9.558463571969662e-15, d_loss_fake_image: 14.358793258666992, d_loss_fake_latent: 1.4774766441405518e-06, g_loss: 0.8715546131134033\n",
      "1/1 [==============================] - 0s 24ms/step\n",
      "Epoch: 1/10000, d_loss_real_image: 0.0, d_loss_real_latent: 4.592840068359154e-15, d_loss_fake_image: 21.725261688232422, d_loss_fake_latent: 2.2891645130584948e-06, g_loss: 0.0037245091516524553\n",
      "1/1 [==============================] - 0s 21ms/step\n",
      "Epoch: 1/10000, d_loss_real_image: 0.0, d_loss_real_latent: 2.6896262808221794e-15, d_loss_fake_image: 18.422935485839844, d_loss_fake_latent: 2.4447003852401394e-06, g_loss: 0.6487082242965698\n",
      "1/1 [==============================] - 0s 24ms/step\n",
      "Epoch: 1/10000, d_loss_real_image: 0.0, d_loss_real_latent: 6.947789443919293e-15, d_loss_fake_image: 9.838163375854492, d_loss_fake_latent: 1.6046288919824292e-06, g_loss: 4.03708553314209\n",
      "1/1 [==============================] - 0s 24ms/step\n",
      "Epoch: 1/10000, d_loss_real_image: 0.0, d_loss_real_latent: 2.3993639716658917e-14, d_loss_fake_image: 11.571273803710938, d_loss_fake_latent: 1.4694687706651166e-06, g_loss: 2.2272379398345947\n",
      "1/1 [==============================] - 0s 31ms/step\n",
      "Epoch: 1/10000, d_loss_real_image: 417.3061828613281, d_loss_real_latent: 6.345225451835634e-16, d_loss_fake_image: 18.211467742919922, d_loss_fake_latent: 1.0285981488777907e-06, g_loss: 1.1318498849868774\n",
      "1/1 [==============================] - 0s 57ms/step\n",
      "Epoch: 1/10000, d_loss_real_image: 0.0, d_loss_real_latent: 2.544359071576883e-15, d_loss_fake_image: 25.723501205444336, d_loss_fake_latent: 2.3803499971108977e-06, g_loss: 0.23134435713291168\n",
      "1/1 [==============================] - 0s 28ms/step\n",
      "Epoch: 1/10000, d_loss_real_image: 0.0, d_loss_real_latent: 2.586517595427624e-14, d_loss_fake_image: 31.786104202270508, d_loss_fake_latent: 1.6383285128540592e-06, g_loss: 3.1451616287231445\n",
      "1/1 [==============================] - 0s 33ms/step\n",
      "Epoch: 1/10000, d_loss_real_image: 0.0, d_loss_real_latent: 2.7584818008627183e-15, d_loss_fake_image: 25.876256942749023, d_loss_fake_latent: 2.634538759593852e-06, g_loss: 15.192174911499023\n",
      "1/1 [==============================] - 0s 21ms/step\n",
      "Epoch: 1/10000, d_loss_real_image: 0.0, d_loss_real_latent: 1.4073290084434987e-18, d_loss_fake_image: 26.822223663330078, d_loss_fake_latent: 2.4115797714330256e-06, g_loss: 12.058629035949707\n",
      "1/1 [==============================] - 0s 24ms/step\n",
      "Epoch: 1/10000, d_loss_real_image: 0.0, d_loss_real_latent: 1.829675022331067e-15, d_loss_fake_image: 42.80030822753906, d_loss_fake_latent: 4.248054210620467e-06, g_loss: 0.16460628807544708\n",
      "1/1 [==============================] - 0s 24ms/step\n",
      "Epoch: 1/10000, d_loss_real_image: 0.0, d_loss_real_latent: 3.870517475994999e-15, d_loss_fake_image: 43.26771545410156, d_loss_fake_latent: 2.0066913748451043e-06, g_loss: 0.20691099762916565\n",
      "1/1 [==============================] - 0s 21ms/step\n",
      "Epoch: 1/10000, d_loss_real_image: 0.0, d_loss_real_latent: 4.271468452585535e-18, d_loss_fake_image: 29.573715209960938, d_loss_fake_latent: 1.2242395541761653e-06, g_loss: 18.563461303710938\n",
      "1/1 [==============================] - 0s 23ms/step\n",
      "Epoch: 1/10000, d_loss_real_image: 0.0, d_loss_real_latent: 2.7817038443864054e-15, d_loss_fake_image: 29.290109634399414, d_loss_fake_latent: 3.207383088010829e-06, g_loss: 14.315916061401367\n",
      "1/1 [==============================] - 0s 34ms/step\n",
      "Epoch: 1/10000, d_loss_real_image: 0.0, d_loss_real_latent: 6.710716780444076e-15, d_loss_fake_image: 37.126609802246094, d_loss_fake_latent: 2.3516261080658296e-06, g_loss: 1.3365328311920166\n",
      "1/1 [==============================] - 0s 27ms/step\n",
      "Epoch: 1/10000, d_loss_real_image: 0.0, d_loss_real_latent: 3.0296288210367867e-14, d_loss_fake_image: 41.618350982666016, d_loss_fake_latent: 2.001476786972489e-06, g_loss: 0.04819893464446068\n",
      "1/1 [==============================] - 0s 46ms/step\n",
      "Epoch: 1/10000, d_loss_real_image: 0.0, d_loss_real_latent: 7.067051312315784e-17, d_loss_fake_image: 31.139755249023438, d_loss_fake_latent: 1.566226046634256e-06, g_loss: 2.774829149246216\n",
      "1/1 [==============================] - 0s 24ms/step\n",
      "Epoch: 1/10000, d_loss_real_image: 415.6202087402344, d_loss_real_latent: 6.15630692904918e-17, d_loss_fake_image: 29.034076690673828, d_loss_fake_latent: 3.2792065667308634e-06, g_loss: 3.178229331970215\n",
      "1/1 [==============================] - 0s 22ms/step\n",
      "Epoch: 1/10000, d_loss_real_image: 0.0, d_loss_real_latent: 1.2440122174571522e-13, d_loss_fake_image: 48.122650146484375, d_loss_fake_latent: 7.890438382673892e-07, g_loss: 4.917215347290039\n",
      "1/1 [==============================] - 0s 23ms/step\n",
      "Epoch: 1/10000, d_loss_real_image: 0.0, d_loss_real_latent: 1.041620982502806e-18, d_loss_fake_image: 32.340919494628906, d_loss_fake_latent: 9.968009635485942e-07, g_loss: 11.548370361328125\n",
      "1/1 [==============================] - 0s 21ms/step\n",
      "Epoch: 1/10000, d_loss_real_image: 0.0, d_loss_real_latent: 5.311655103906174e-18, d_loss_fake_image: 45.129180908203125, d_loss_fake_latent: 2.6761379103845684e-06, g_loss: 2.8605282306671143\n",
      "1/1 [==============================] - 0s 34ms/step\n",
      "Epoch: 1/10000, d_loss_real_image: 0.0, d_loss_real_latent: 1.493039141620264e-15, d_loss_fake_image: 59.61896514892578, d_loss_fake_latent: 2.6337102099205367e-06, g_loss: 0.014871736988425255\n",
      "1/1 [==============================] - 0s 26ms/step\n",
      "Epoch: 1/10000, d_loss_real_image: 0.0, d_loss_real_latent: 2.2328826104983743e-16, d_loss_fake_image: 55.01814270019531, d_loss_fake_latent: 3.1888275771052577e-06, g_loss: 0.7064228653907776\n",
      "1/1 [==============================] - 0s 47ms/step\n",
      "Epoch: 1/10000, d_loss_real_image: 0.0, d_loss_real_latent: 3.489604303219193e-14, d_loss_fake_image: 44.785736083984375, d_loss_fake_latent: 2.0322265754657565e-06, g_loss: 3.206544876098633\n",
      "1/1 [==============================] - 0s 70ms/step\n",
      "Epoch: 1/10000, d_loss_real_image: 0.0, d_loss_real_latent: 8.389226895024017e-18, d_loss_fake_image: 37.59795379638672, d_loss_fake_latent: 2.4404487248830264e-06, g_loss: 3.2862093448638916\n",
      "1/1 [==============================] - 0s 24ms/step\n",
      "Epoch: 1/10000, d_loss_real_image: 0.0, d_loss_real_latent: 4.949086930203239e-13, d_loss_fake_image: 45.2425537109375, d_loss_fake_latent: 3.035489953617798e-06, g_loss: 0.09394807368516922\n",
      "1/1 [==============================] - 0s 21ms/step\n",
      "Epoch: 1/10000, d_loss_real_image: 0.0, d_loss_real_latent: 1.717595675689937e-16, d_loss_fake_image: 39.349891662597656, d_loss_fake_latent: 3.3481894661235856e-06, g_loss: 0.4273820221424103\n",
      "1/1 [==============================] - 0s 25ms/step\n",
      "Epoch: 1/10000, d_loss_real_image: 0.0, d_loss_real_latent: 1.4934214075893598e-13, d_loss_fake_image: 34.116355895996094, d_loss_fake_latent: 1.9916842575185e-06, g_loss: 1.9237099885940552\n",
      "1/1 [==============================] - 0s 48ms/step\n",
      "Epoch: 1/10000, d_loss_real_image: 0.0, d_loss_real_latent: 1.304373818157567e-13, d_loss_fake_image: 35.033172607421875, d_loss_fake_latent: 1.7486909200670198e-06, g_loss: 0.6282063722610474\n",
      "1/1 [==============================] - 0s 31ms/step\n",
      "Epoch: 1/10000, d_loss_real_image: 0.0, d_loss_real_latent: 6.85074742025121e-16, d_loss_fake_image: 34.27141571044922, d_loss_fake_latent: 1.7877556501844083e-06, g_loss: 0.6034529209136963\n",
      "1/1 [==============================] - 0s 21ms/step\n",
      "Epoch: 1/10000, d_loss_real_image: 0.0, d_loss_real_latent: 5.899890087113571e-14, d_loss_fake_image: 30.45053482055664, d_loss_fake_latent: 1.63995764523861e-06, g_loss: 1.6521918773651123\n",
      "1/1 [==============================] - 0s 22ms/step\n",
      "Epoch: 1/10000, d_loss_real_image: 5201.93359375, d_loss_real_latent: 4.7326311566608925e-17, d_loss_fake_image: 60.484771728515625, d_loss_fake_latent: 1.718663725114311e-06, g_loss: 1.387704969602055e-06\n",
      "1/1 [==============================] - 0s 21ms/step\n",
      "Epoch: 1/10000, d_loss_real_image: 0.0, d_loss_real_latent: 3.884375358528553e-15, d_loss_fake_image: 131.27420043945312, d_loss_fake_latent: 2.142180619557621e-06, g_loss: 2.132379904651316e-06\n",
      "1/1 [==============================] - 0s 29ms/step\n",
      "Epoch: 1/10000, d_loss_real_image: 0.0, d_loss_real_latent: 1.245997217993219e-15, d_loss_fake_image: 116.24018859863281, d_loss_fake_latent: 2.9239295145089272e-06, g_loss: 1.7973153591156006\n",
      "1/1 [==============================] - 0s 22ms/step\n",
      "Epoch: 1/10000, d_loss_real_image: 0.0, d_loss_real_latent: 8.702050687736586e-16, d_loss_fake_image: 64.8606948852539, d_loss_fake_latent: 1.5402972621814115e-06, g_loss: 180.70559692382812\n",
      "1/1 [==============================] - 0s 22ms/step\n",
      "Epoch: 1/10000, d_loss_real_image: 0.0, d_loss_real_latent: 8.698803904570642e-15, d_loss_fake_image: 51.418270111083984, d_loss_fake_latent: 1.6200198160731816e-06, g_loss: 390.84185791015625\n",
      "1/1 [==============================] - 0s 22ms/step\n",
      "Epoch: 1/10000, d_loss_real_image: 0.0, d_loss_real_latent: 1.058548431201456e-12, d_loss_fake_image: 86.67835235595703, d_loss_fake_latent: 3.1622346341464436e-06, g_loss: 403.5444641113281\n",
      "1/1 [==============================] - 0s 22ms/step\n",
      "Epoch: 1/10000, d_loss_real_image: 0.0, d_loss_real_latent: 9.299032097423129e-18, d_loss_fake_image: 135.49530029296875, d_loss_fake_latent: 3.881438715325203e-06, g_loss: 443.1983642578125\n",
      "1/1 [==============================] - 0s 21ms/step\n",
      "Epoch: 1/10000, d_loss_real_image: 4762.091796875, d_loss_real_latent: 5.280958504695621e-13, d_loss_fake_image: 310.6368408203125, d_loss_fake_latent: 2.5183119305438595e-06, g_loss: 36.553680419921875\n",
      "1/1 [==============================] - 0s 21ms/step\n",
      "Epoch: 1/10000, d_loss_real_image: 3520.69580078125, d_loss_real_latent: 1.4555368425838745e-14, d_loss_fake_image: 433.2636413574219, d_loss_fake_latent: 1.2557671880131238e-06, g_loss: 0.19193099439144135\n",
      "1/1 [==============================] - 0s 24ms/step\n",
      "Epoch: 1/10000, d_loss_real_image: 0.0, d_loss_real_latent: 5.723257628996274e-15, d_loss_fake_image: 359.17950439453125, d_loss_fake_latent: 1.2294538009882672e-06, g_loss: 35.9113655090332\n",
      "1/1 [==============================] - 0s 25ms/step\n",
      "Epoch: 1/10000, d_loss_real_image: 0.0, d_loss_real_latent: 6.027563744418038e-16, d_loss_fake_image: 216.88531494140625, d_loss_fake_latent: 2.390454483247595e-06, g_loss: 797.59033203125\n",
      "1/1 [==============================] - 0s 57ms/step\n",
      "Epoch: 1/10000, d_loss_real_image: 0.0, d_loss_real_latent: 8.335308450283728e-17, d_loss_fake_image: 80.59771728515625, d_loss_fake_latent: 5.55922815692611e-06, g_loss: 1973.1004638671875\n",
      "1/1 [==============================] - 0s 40ms/step\n",
      "Epoch: 1/10000, d_loss_real_image: 0.0, d_loss_real_latent: 3.675180005185353e-17, d_loss_fake_image: 0.0, d_loss_fake_latent: 2.3502634576288983e-06, g_loss: 2027.992431640625\n",
      "1/1 [==============================] - 0s 18ms/step\n",
      "Epoch: 1/10000, d_loss_real_image: 0.0, d_loss_real_latent: 2.558881112644379e-13, d_loss_fake_image: 41.74827575683594, d_loss_fake_latent: 1.3332951311895158e-06, g_loss: 1246.70654296875\n",
      "1/1 [==============================] - 0s 21ms/step\n",
      "Epoch: 1/10000, d_loss_real_image: 0.0, d_loss_real_latent: 1.0578707133640942e-14, d_loss_fake_image: 399.5336608886719, d_loss_fake_latent: 2.114091330440715e-06, g_loss: 507.8873291015625\n",
      "1/1 [==============================] - 0s 27ms/step\n",
      "Epoch: 1/10000, d_loss_real_image: 0.0, d_loss_real_latent: 6.175044356633629e-16, d_loss_fake_image: 683.8108520507812, d_loss_fake_latent: 2.225743628514465e-06, g_loss: 12.101860046386719\n",
      "1/1 [==============================] - 0s 25ms/step\n",
      "Epoch: 1/10000, d_loss_real_image: 0.0, d_loss_real_latent: 3.444839289583161e-14, d_loss_fake_image: 498.6637878417969, d_loss_fake_latent: 1.7673050933808554e-06, g_loss: 31.07040023803711\n",
      "1/1 [==============================] - 0s 36ms/step\n",
      "Epoch: 1/10000, d_loss_real_image: 0.0, d_loss_real_latent: 1.0140871673919576e-16, d_loss_fake_image: 32.157249450683594, d_loss_fake_latent: 2.012608547374839e-06, g_loss: 274.5173034667969\n",
      "1/1 [==============================] - 0s 21ms/step\n",
      "Epoch: 1/10000, d_loss_real_image: 0.0, d_loss_real_latent: 1.1594740365846661e-17, d_loss_fake_image: 0.0, d_loss_fake_latent: 1.847370072027843e-06, g_loss: 675.6771850585938\n",
      "1/1 [==============================] - 0s 30ms/step\n",
      "Epoch: 1/10000, d_loss_real_image: 0.0, d_loss_real_latent: 2.366878888327595e-17, d_loss_fake_image: 0.0, d_loss_fake_latent: 1.5377171393993194e-06, g_loss: 698.4932861328125\n",
      "1/1 [==============================] - 0s 20ms/step\n",
      "Epoch: 1/10000, d_loss_real_image: 0.0, d_loss_real_latent: 5.904757201955965e-16, d_loss_fake_image: 0.0, d_loss_fake_latent: 1.1586714663280873e-06, g_loss: 289.6587219238281\n",
      "1/1 [==============================] - 0s 31ms/step\n",
      "Epoch: 1/10000, d_loss_real_image: 0.0, d_loss_real_latent: 1.0891252338540648e-15, d_loss_fake_image: 462.81866455078125, d_loss_fake_latent: 1.0076867056341143e-06, g_loss: 2.0748441329487832e-06\n",
      "1/1 [==============================] - 0s 25ms/step\n",
      "Epoch: 1/10000, d_loss_real_image: 0.0, d_loss_real_latent: 7.925735991852955e-16, d_loss_fake_image: 754.0931396484375, d_loss_fake_latent: 1.3224014310253551e-06, g_loss: 1.5486001530007343e-06\n",
      "1/1 [==============================] - 0s 28ms/step\n",
      "Epoch: 1/10000, d_loss_real_image: 0.0, d_loss_real_latent: 5.314137259578022e-13, d_loss_fake_image: 685.3995971679688, d_loss_fake_latent: 2.4337430204468546e-06, g_loss: 1.5254399841069244e-06\n",
      "1/1 [==============================] - 0s 28ms/step\n",
      "Epoch: 1/10000, d_loss_real_image: 0.0, d_loss_real_latent: 1.2604724393145555e-14, d_loss_fake_image: 337.857177734375, d_loss_fake_latent: 3.3922110560524743e-06, g_loss: 133.1104736328125\n",
      "1/1 [==============================] - 0s 22ms/step\n",
      "Epoch: 1/10000, d_loss_real_image: 0.0, d_loss_real_latent: 1.6885998850208503e-16, d_loss_fake_image: 99.42081451416016, d_loss_fake_latent: 1.3737353583564982e-06, g_loss: 423.7938232421875\n",
      "1/1 [==============================] - 0s 26ms/step\n",
      "Epoch: 1/10000, d_loss_real_image: 0.0, d_loss_real_latent: 1.5481828923106502e-15, d_loss_fake_image: 0.9888883233070374, d_loss_fake_latent: 2.1189030121604446e-06, g_loss: 457.00787353515625\n",
      "1/1 [==============================] - 0s 27ms/step\n",
      "Epoch: 1/10000, d_loss_real_image: 0.0, d_loss_real_latent: 7.167916027438562e-14, d_loss_fake_image: 94.06832885742188, d_loss_fake_latent: 1.3428040119833895e-06, g_loss: 323.572509765625\n",
      "1/1 [==============================] - 0s 22ms/step\n",
      "Epoch: 1/10000, d_loss_real_image: 0.0, d_loss_real_latent: 4.1749641938038096e-12, d_loss_fake_image: 234.20278930664062, d_loss_fake_latent: 2.1155576632736484e-06, g_loss: 240.15835571289062\n",
      "1/1 [==============================] - 0s 21ms/step\n",
      "Epoch: 1/10000, d_loss_real_image: 0.0, d_loss_real_latent: 1.0941385042315078e-15, d_loss_fake_image: 291.20672607421875, d_loss_fake_latent: 1.8508795847083093e-06, g_loss: 278.5051574707031\n",
      "1/1 [==============================] - 0s 24ms/step\n",
      "Epoch: 1/10000, d_loss_real_image: 0.0, d_loss_real_latent: 4.677450930614215e-16, d_loss_fake_image: 292.3087158203125, d_loss_fake_latent: 8.512865861121099e-07, g_loss: 327.2441101074219\n",
      "1/1 [==============================] - 0s 24ms/step\n",
      "Epoch: 1/10000, d_loss_real_image: 0.0, d_loss_real_latent: 4.169228303525438e-15, d_loss_fake_image: 292.3179931640625, d_loss_fake_latent: 2.3631273506907746e-06, g_loss: 4.46709680557251\n",
      "1/1 [==============================] - 0s 24ms/step\n",
      "Epoch: 1/10000, d_loss_real_image: 0.0, d_loss_real_latent: 1.52383096639233e-17, d_loss_fake_image: 540.0714111328125, d_loss_fake_latent: 3.811640908679692e-06, g_loss: 337.2482604980469\n",
      "1/1 [==============================] - 0s 28ms/step\n",
      "Epoch: 1/10000, d_loss_real_image: 0.0, d_loss_real_latent: 5.616167253474913e-17, d_loss_fake_image: 406.670166015625, d_loss_fake_latent: 3.2089217256725533e-06, g_loss: 2.453403949737549\n",
      "1/1 [==============================] - 0s 27ms/step\n",
      "Epoch: 1/10000, d_loss_real_image: 0.0, d_loss_real_latent: 4.70373343652523e-17, d_loss_fake_image: 587.2323608398438, d_loss_fake_latent: 4.2691149246820714e-06, g_loss: 0.2599967122077942\n",
      "1/1 [==============================] - 0s 23ms/step\n",
      "Epoch: 1/10000, d_loss_real_image: 0.0, d_loss_real_latent: 1.1746110811436394e-15, d_loss_fake_image: 382.92449951171875, d_loss_fake_latent: 2.7219211915507913e-06, g_loss: 288.9384765625\n",
      "1/1 [==============================] - 0s 26ms/step\n",
      "Epoch: 1/10000, d_loss_real_image: 0.0, d_loss_real_latent: 4.06709876280692e-13, d_loss_fake_image: 79.57102966308594, d_loss_fake_latent: 1.0414798907731893e-06, g_loss: 603.1134033203125\n",
      "1/1 [==============================] - 0s 23ms/step\n",
      "Epoch: 1/10000, d_loss_real_image: 0.0, d_loss_real_latent: 8.044164962164499e-16, d_loss_fake_image: 0.0, d_loss_fake_latent: 1.1752269983844599e-06, g_loss: 683.4228515625\n",
      "1/1 [==============================] - 0s 24ms/step\n",
      "Epoch: 1/10000, d_loss_real_image: 0.0, d_loss_real_latent: 1.237477459913039e-13, d_loss_fake_image: 0.0, d_loss_fake_latent: 2.3147836145653855e-06, g_loss: 465.1312255859375\n",
      "1/1 [==============================] - 0s 29ms/step\n",
      "Epoch: 1/10000, d_loss_real_image: 0.0, d_loss_real_latent: 7.806754374894975e-12, d_loss_fake_image: 3.6531918048858643, d_loss_fake_latent: 1.0522986713112914e-06, g_loss: 150.99972534179688\n",
      "1/1 [==============================] - 0s 27ms/step\n",
      "Epoch: 1/10000, d_loss_real_image: 0.0, d_loss_real_latent: 1.3783736710422687e-16, d_loss_fake_image: 255.57266235351562, d_loss_fake_latent: 2.4692853912711143e-06, g_loss: 1.3800760143567459e-06\n",
      "1/1 [==============================] - 0s 23ms/step\n",
      "Epoch: 1/10000, d_loss_real_image: 0.0, d_loss_real_latent: 1.53094545419667e-15, d_loss_fake_image: 249.09645080566406, d_loss_fake_latent: 1.6291753581754165e-06, g_loss: 0.37045589089393616\n",
      "1/1 [==============================] - 0s 32ms/step\n",
      "Epoch: 1/10000, d_loss_real_image: 0.0, d_loss_real_latent: 1.8393325057486365e-12, d_loss_fake_image: 66.92064666748047, d_loss_fake_latent: 1.401695271852077e-06, g_loss: 98.6801528930664\n",
      "1/1 [==============================] - 0s 23ms/step\n",
      "Epoch: 1/10000, d_loss_real_image: 0.0, d_loss_real_latent: 1.1821054169027087e-15, d_loss_fake_image: 21.34316062927246, d_loss_fake_latent: 1.1868494311784161e-06, g_loss: 143.82418823242188\n",
      "1/1 [==============================] - 0s 42ms/step\n",
      "Epoch: 1/10000, d_loss_real_image: 0.0, d_loss_real_latent: 6.455847954747046e-14, d_loss_fake_image: 27.846309661865234, d_loss_fake_latent: 1.34988101763156e-06, g_loss: 133.95550537109375\n",
      "1/1 [==============================] - 0s 23ms/step\n",
      "Epoch: 1/10000, d_loss_real_image: 0.0, d_loss_real_latent: 9.747990992331185e-18, d_loss_fake_image: 23.843597412109375, d_loss_fake_latent: 2.5396261662535835e-06, g_loss: 129.1707305908203\n",
      "1/1 [==============================] - 0s 21ms/step\n",
      "Epoch: 1/10000, d_loss_real_image: 0.0, d_loss_real_latent: 5.132428325484758e-16, d_loss_fake_image: 66.88273620605469, d_loss_fake_latent: 2.1122771158843534e-06, g_loss: 81.08998107910156\n",
      "1/1 [==============================] - 0s 21ms/step\n",
      "Epoch: 1/10000, d_loss_real_image: 0.0, d_loss_real_latent: 4.536460311310267e-17, d_loss_fake_image: 125.0662841796875, d_loss_fake_latent: 1.506618218627409e-06, g_loss: 98.02932739257812\n",
      "1/1 [==============================] - 0s 29ms/step\n",
      "Epoch: 1/10000, d_loss_real_image: 0.0, d_loss_real_latent: 1.5733842136040542e-16, d_loss_fake_image: 68.87773895263672, d_loss_fake_latent: 1.9784561118285637e-06, g_loss: 150.22723388671875\n",
      "1/1 [==============================] - 0s 20ms/step\n",
      "Epoch: 1/10000, d_loss_real_image: 0.0, d_loss_real_latent: 1.3861673005992944e-16, d_loss_fake_image: 19.844432830810547, d_loss_fake_latent: 1.1045096925954567e-06, g_loss: 136.77127075195312\n",
      "1/1 [==============================] - 0s 21ms/step\n",
      "Epoch: 1/10000, d_loss_real_image: 0.0, d_loss_real_latent: 2.0730834922517462e-14, d_loss_fake_image: 57.58279800415039, d_loss_fake_latent: 1.1313936738588382e-06, g_loss: 105.65052032470703\n",
      "1/1 [==============================] - 0s 26ms/step\n",
      "Epoch: 1/10000, d_loss_real_image: 0.0, d_loss_real_latent: 3.8729202437685635e-16, d_loss_fake_image: 55.881072998046875, d_loss_fake_latent: 3.5065129395661643e-06, g_loss: 98.91622924804688\n",
      "1/1 [==============================] - 0s 21ms/step\n",
      "Epoch: 1/10000, d_loss_real_image: 0.0, d_loss_real_latent: 8.595455618966297e-13, d_loss_fake_image: 47.334495544433594, d_loss_fake_latent: 2.2789188278693473e-06, g_loss: 88.05855560302734\n",
      "1/1 [==============================] - 0s 26ms/step\n",
      "Epoch: 1/10000, d_loss_real_image: 0.0, d_loss_real_latent: 5.14365204143147e-15, d_loss_fake_image: 79.40187072753906, d_loss_fake_latent: 8.518066465512675e-07, g_loss: 91.87616729736328\n",
      "1/1 [==============================] - 0s 21ms/step\n",
      "Epoch: 1/10000, d_loss_real_image: 0.0, d_loss_real_latent: 5.716355369267336e-16, d_loss_fake_image: 74.64707946777344, d_loss_fake_latent: 1.5959396932885284e-06, g_loss: 129.142822265625\n",
      "1/1 [==============================] - 0s 23ms/step\n",
      "Epoch: 1/10000, d_loss_real_image: 0.0, d_loss_real_latent: 6.3887356649079034e-18, d_loss_fake_image: 13.278043746948242, d_loss_fake_latent: 4.222904863127042e-06, g_loss: 146.0821533203125\n",
      "1/1 [==============================] - 0s 21ms/step\n",
      "Epoch: 1/10000, d_loss_real_image: 0.0, d_loss_real_latent: 8.771421627325529e-16, d_loss_fake_image: 23.396137237548828, d_loss_fake_latent: 2.3973211682459805e-06, g_loss: 128.02500915527344\n",
      "1/1 [==============================] - 0s 21ms/step\n",
      "Epoch: 1/10000, d_loss_real_image: 0.0, d_loss_real_latent: 4.112100589914345e-15, d_loss_fake_image: 55.21351623535156, d_loss_fake_latent: 2.030828909482807e-06, g_loss: 142.409912109375\n",
      "1/1 [==============================] - 0s 20ms/step\n",
      "Epoch: 1/10000, d_loss_real_image: 0.0, d_loss_real_latent: 6.349411014322515e-13, d_loss_fake_image: 32.77201461791992, d_loss_fake_latent: 8.871691079548327e-07, g_loss: 147.1358642578125\n",
      "1/1 [==============================] - 0s 25ms/step\n",
      "Epoch: 1/10000, d_loss_real_image: 0.0, d_loss_real_latent: 1.462817768391883e-14, d_loss_fake_image: 110.90735626220703, d_loss_fake_latent: 1.1400572930142516e-06, g_loss: 150.4317626953125\n",
      "1/1 [==============================] - 0s 23ms/step\n",
      "Epoch: 1/10000, d_loss_real_image: 0.0, d_loss_real_latent: 1.0539303160934672e-14, d_loss_fake_image: 26.61900520324707, d_loss_fake_latent: 1.5860142639212427e-06, g_loss: 148.67529296875\n",
      "1/1 [==============================] - 0s 20ms/step\n",
      "Epoch: 1/10000, d_loss_real_image: 0.0, d_loss_real_latent: 3.3173946117541166e-17, d_loss_fake_image: 57.26838684082031, d_loss_fake_latent: 1.3214216778578702e-06, g_loss: 151.53585815429688\n",
      "1/1 [==============================] - 0s 20ms/step\n",
      "Epoch: 1/10000, d_loss_real_image: 193.8207244873047, d_loss_real_latent: 3.1444119550790673e-17, d_loss_fake_image: 58.685203552246094, d_loss_fake_latent: 3.2844386623764876e-06, g_loss: 130.4481658935547\n",
      "1/1 [==============================] - 0s 20ms/step\n",
      "Epoch: 1/10000, d_loss_real_image: 0.0, d_loss_real_latent: 7.743790932502568e-17, d_loss_fake_image: 102.40083312988281, d_loss_fake_latent: 4.070122031407664e-06, g_loss: 80.15131378173828\n",
      "1/1 [==============================] - 0s 21ms/step\n",
      "Epoch: 1/10000, d_loss_real_image: 0.0, d_loss_real_latent: 1.5121981600018743e-17, d_loss_fake_image: 151.91030883789062, d_loss_fake_latent: 1.9483936739561614e-06, g_loss: 120.98213958740234\n",
      "1/1 [==============================] - 0s 24ms/step\n",
      "Epoch: 1/10000, d_loss_real_image: 0.0, d_loss_real_latent: 3.447179663453993e-18, d_loss_fake_image: 81.78755187988281, d_loss_fake_latent: 1.3339304132387042e-06, g_loss: 111.57566833496094\n",
      "1/1 [==============================] - 0s 21ms/step\n",
      "Epoch: 1/10000, d_loss_real_image: 0.0, d_loss_real_latent: 1.934455327247029e-15, d_loss_fake_image: 140.76416015625, d_loss_fake_latent: 2.045396740868455e-06, g_loss: 140.6872100830078\n",
      "1/1 [==============================] - 0s 23ms/step\n",
      "Epoch: 1/10000, d_loss_real_image: 0.0, d_loss_real_latent: 9.193575172000988e-17, d_loss_fake_image: 132.10791015625, d_loss_fake_latent: 1.5931705092953052e-06, g_loss: 187.18612670898438\n",
      "1/1 [==============================] - 0s 22ms/step\n",
      "Epoch: 1/10000, d_loss_real_image: 0.0, d_loss_real_latent: 2.5537868659171784e-16, d_loss_fake_image: 96.89778900146484, d_loss_fake_latent: 1.9746194084291346e-06, g_loss: 230.120361328125\n",
      "1/1 [==============================] - 0s 21ms/step\n",
      "Epoch: 1/10000, d_loss_real_image: 0.0, d_loss_real_latent: 6.775486001788823e-15, d_loss_fake_image: 50.681156158447266, d_loss_fake_latent: 2.1810060388816055e-06, g_loss: 268.5826416015625\n",
      "1/1 [==============================] - 0s 22ms/step\n",
      "Epoch: 1/10000, d_loss_real_image: 0.0, d_loss_real_latent: 1.751266537656452e-14, d_loss_fake_image: 34.18125915527344, d_loss_fake_latent: 1.304957891079539e-06, g_loss: 276.2916259765625\n",
      "1/1 [==============================] - 0s 22ms/step\n",
      "Epoch: 1/10000, d_loss_real_image: 0.0, d_loss_real_latent: 3.602272305994929e-15, d_loss_fake_image: 34.80906295776367, d_loss_fake_latent: 2.7035748644266278e-06, g_loss: 206.91424560546875\n",
      "1/1 [==============================] - 0s 21ms/step\n",
      "Epoch: 1/10000, d_loss_real_image: 0.0, d_loss_real_latent: 4.1768387251499284e-13, d_loss_fake_image: 82.61476135253906, d_loss_fake_latent: 3.565724227883038e-06, g_loss: 130.96652221679688\n",
      "1/1 [==============================] - 0s 25ms/step\n",
      "Epoch: 1/10000, d_loss_real_image: 0.0, d_loss_real_latent: 9.700011247785328e-15, d_loss_fake_image: 220.680419921875, d_loss_fake_latent: 1.438372805750987e-06, g_loss: 160.04591369628906\n",
      "1/1 [==============================] - 0s 19ms/step\n",
      "Epoch: 1/10000, d_loss_real_image: 0.0, d_loss_real_latent: 3.961356677390339e-15, d_loss_fake_image: 100.861328125, d_loss_fake_latent: 1.1004183306795312e-06, g_loss: 233.86996459960938\n",
      "1/1 [==============================] - 0s 21ms/step\n",
      "Epoch: 1/10000, d_loss_real_image: 0.0, d_loss_real_latent: 2.5616854481503248e-16, d_loss_fake_image: 19.76182746887207, d_loss_fake_latent: 1.368312950944528e-06, g_loss: 265.50689697265625\n",
      "1/1 [==============================] - 0s 21ms/step\n",
      "Epoch: 1/10000, d_loss_real_image: 0.0, d_loss_real_latent: 7.094893020594237e-16, d_loss_fake_image: 51.66204833984375, d_loss_fake_latent: 8.155095656547928e-07, g_loss: 247.19384765625\n",
      "1/1 [==============================] - 0s 21ms/step\n",
      "Epoch: 1/10000, d_loss_real_image: 0.0, d_loss_real_latent: 4.75710701739603e-18, d_loss_fake_image: 72.02537536621094, d_loss_fake_latent: 1.3245372656456311e-06, g_loss: 203.99200439453125\n",
      "1/1 [==============================] - 0s 21ms/step\n",
      "Epoch: 1/10000, d_loss_real_image: 0.0, d_loss_real_latent: 1.0541816307689175e-13, d_loss_fake_image: 137.2108612060547, d_loss_fake_latent: 1.702265990388696e-06, g_loss: 189.583740234375\n",
      "1/1 [==============================] - 0s 25ms/step\n",
      "Epoch: 1/10000, d_loss_real_image: 0.0, d_loss_real_latent: 1.293579452623907e-16, d_loss_fake_image: 147.15969848632812, d_loss_fake_latent: 3.4662757570913527e-06, g_loss: 197.70867919921875\n",
      "1/1 [==============================] - 0s 23ms/step\n",
      "Epoch: 1/10000, d_loss_real_image: 0.0, d_loss_real_latent: 1.5093219100752175e-14, d_loss_fake_image: 103.71615600585938, d_loss_fake_latent: 1.7293617702307529e-06, g_loss: 230.68328857421875\n",
      "1/1 [==============================] - 0s 21ms/step\n",
      "Epoch: 1/10000, d_loss_real_image: 0.0, d_loss_real_latent: 2.3246793826405855e-14, d_loss_fake_image: 43.73345184326172, d_loss_fake_latent: 1.1089518920925912e-06, g_loss: 270.79779052734375\n",
      "1/1 [==============================] - 0s 21ms/step\n",
      "Epoch: 1/10000, d_loss_real_image: 0.0, d_loss_real_latent: 1.784304061507776e-18, d_loss_fake_image: 31.1152400970459, d_loss_fake_latent: 1.8768027985061053e-06, g_loss: 271.38134765625\n",
      "1/1 [==============================] - 0s 20ms/step\n",
      "Epoch: 1/10000, d_loss_real_image: 665.363037109375, d_loss_real_latent: 2.7888904293588146e-12, d_loss_fake_image: 58.392154693603516, d_loss_fake_latent: 1.0850383205252001e-06, g_loss: 256.07684326171875\n",
      "1/1 [==============================] - 0s 20ms/step\n",
      "Epoch: 1/10000, d_loss_real_image: 0.0, d_loss_real_latent: 4.4889900173775144e-14, d_loss_fake_image: 110.95677185058594, d_loss_fake_latent: 1.7653914028414874e-06, g_loss: 255.07073974609375\n",
      "1/1 [==============================] - 0s 19ms/step\n",
      "Epoch: 1/10000, d_loss_real_image: 0.0, d_loss_real_latent: 1.2130942231571257e-15, d_loss_fake_image: 43.53661346435547, d_loss_fake_latent: 3.611024794736295e-06, g_loss: 269.8332824707031\n",
      "1/1 [==============================] - 0s 24ms/step\n",
      "Epoch: 1/10000, d_loss_real_image: 0.0, d_loss_real_latent: 3.6960646877608715e-15, d_loss_fake_image: 76.0338134765625, d_loss_fake_latent: 8.317903166243923e-07, g_loss: 248.82911682128906\n",
      "1/1 [==============================] - 0s 26ms/step\n",
      "Epoch: 1/10000, d_loss_real_image: 0.0, d_loss_real_latent: 7.325768579269105e-15, d_loss_fake_image: 60.621299743652344, d_loss_fake_latent: 2.339333605050342e-06, g_loss: 220.87515258789062\n",
      "1/1 [==============================] - 0s 20ms/step\n",
      "Epoch: 1/10000, d_loss_real_image: 0.0, d_loss_real_latent: 1.6111108460078015e-18, d_loss_fake_image: 138.7397003173828, d_loss_fake_latent: 1.438338472325995e-06, g_loss: 243.71817016601562\n",
      "1/1 [==============================] - 0s 23ms/step\n",
      "Epoch: 1/10000, d_loss_real_image: 0.0, d_loss_real_latent: 3.135765733921071e-15, d_loss_fake_image: 20.534059524536133, d_loss_fake_latent: 1.3271887837618124e-06, g_loss: 269.86346435546875\n",
      "1/1 [==============================] - 0s 20ms/step\n",
      "Epoch: 1/10000, d_loss_real_image: 0.0, d_loss_real_latent: 8.023600590391941e-16, d_loss_fake_image: 40.59552764892578, d_loss_fake_latent: 2.1168787043279735e-06, g_loss: 242.7755584716797\n",
      "1/1 [==============================] - 0s 23ms/step\n",
      "Epoch: 1/10000, d_loss_real_image: 0.0, d_loss_real_latent: 1.416436370385284e-18, d_loss_fake_image: 67.83316802978516, d_loss_fake_latent: 1.787255541785271e-06, g_loss: 227.27488708496094\n",
      "1/1 [==============================] - 0s 23ms/step\n",
      "Epoch: 1/10000, d_loss_real_image: 0.0, d_loss_real_latent: 1.840997258797456e-16, d_loss_fake_image: 83.86918640136719, d_loss_fake_latent: 4.131770310777938e-06, g_loss: 194.05831909179688\n",
      "1/1 [==============================] - 0s 20ms/step\n",
      "Epoch: 1/10000, d_loss_real_image: 0.0, d_loss_real_latent: 3.040706656734157e-14, d_loss_fake_image: 109.40388488769531, d_loss_fake_latent: 2.1617042875732295e-06, g_loss: 193.114501953125\n",
      "1/1 [==============================] - 0s 22ms/step\n",
      "Epoch: 1/10000, d_loss_real_image: 0.0, d_loss_real_latent: 1.3008756198964462e-18, d_loss_fake_image: 93.50761413574219, d_loss_fake_latent: 1.2380330645100912e-06, g_loss: 171.9267120361328\n",
      "1/1 [==============================] - 0s 24ms/step\n",
      "Epoch: 1/10000, d_loss_real_image: 0.0, d_loss_real_latent: 2.504139406142407e-14, d_loss_fake_image: 91.02687072753906, d_loss_fake_latent: 2.3991437956283335e-06, g_loss: 198.1098175048828\n",
      "1/1 [==============================] - 0s 20ms/step\n",
      "Epoch: 1/10000, d_loss_real_image: 0.0, d_loss_real_latent: 5.145198937045459e-12, d_loss_fake_image: 76.36181640625, d_loss_fake_latent: 2.4974733605631627e-06, g_loss: 213.95310974121094\n",
      "1/1 [==============================] - 0s 23ms/step\n",
      "Epoch: 1/10000, d_loss_real_image: 0.0, d_loss_real_latent: 3.1624591725724904e-13, d_loss_fake_image: 72.61608123779297, d_loss_fake_latent: 2.307491740793921e-06, g_loss: 252.0628662109375\n",
      "1/1 [==============================] - 0s 23ms/step\n",
      "Epoch: 1/10000, d_loss_real_image: 0.0, d_loss_real_latent: 4.3517452011712643e-13, d_loss_fake_image: 19.463279724121094, d_loss_fake_latent: 1.0165812227569404e-06, g_loss: 189.85089111328125\n",
      "1/1 [==============================] - 0s 22ms/step\n",
      "Epoch: 1/10000, d_loss_real_image: 0.0, d_loss_real_latent: 3.49581780075405e-17, d_loss_fake_image: 96.45458221435547, d_loss_fake_latent: 1.4053875929675996e-06, g_loss: 186.6254119873047\n",
      "1/1 [==============================] - 0s 21ms/step\n",
      "Epoch: 1/10000, d_loss_real_image: 0.0, d_loss_real_latent: 1.1261904427138474e-14, d_loss_fake_image: 170.281982421875, d_loss_fake_latent: 2.582909019110957e-06, g_loss: 145.2797393798828\n",
      "1/1 [==============================] - 0s 21ms/step\n",
      "Epoch: 1/10000, d_loss_real_image: 0.0, d_loss_real_latent: 1.3572265141322199e-15, d_loss_fake_image: 236.217529296875, d_loss_fake_latent: 1.328940925304778e-06, g_loss: 174.4124755859375\n",
      "1/1 [==============================] - 0s 21ms/step\n",
      "Epoch: 1/10000, d_loss_real_image: 0.0, d_loss_real_latent: 4.407960304544326e-15, d_loss_fake_image: 159.0010223388672, d_loss_fake_latent: 1.8567517372503062e-06, g_loss: 193.70358276367188\n",
      "1/1 [==============================] - 0s 21ms/step\n",
      "Epoch: 1/10000, d_loss_real_image: 0.0, d_loss_real_latent: 7.160304081154766e-15, d_loss_fake_image: 136.70066833496094, d_loss_fake_latent: 2.17631190935208e-06, g_loss: 226.89134216308594\n",
      "1/1 [==============================] - 0s 24ms/step\n",
      "Epoch: 1/10000, d_loss_real_image: 0.0, d_loss_real_latent: 4.271478732786188e-15, d_loss_fake_image: 124.88296508789062, d_loss_fake_latent: 1.6485478226968553e-06, g_loss: 225.46780395507812\n",
      "1/1 [==============================] - 0s 21ms/step\n",
      "Epoch: 1/10000, d_loss_real_image: 1699.6112060546875, d_loss_real_latent: 8.469935094002762e-14, d_loss_fake_image: 106.3713150024414, d_loss_fake_latent: 1.4791107787459623e-06, g_loss: 247.63522338867188\n",
      "1/1 [==============================] - 0s 24ms/step\n",
      "Epoch: 1/10000, d_loss_real_image: 0.0, d_loss_real_latent: 8.007603991645986e-20, d_loss_fake_image: 117.32442474365234, d_loss_fake_latent: 2.101995050907135e-06, g_loss: 222.97576904296875\n",
      "1/1 [==============================] - 0s 20ms/step\n",
      "Epoch: 1/10000, d_loss_real_image: 0.0, d_loss_real_latent: 2.2463697043592678e-15, d_loss_fake_image: 172.87322998046875, d_loss_fake_latent: 1.6048027191573055e-06, g_loss: 230.14073181152344\n",
      "1/1 [==============================] - 0s 21ms/step\n",
      "Epoch: 1/10000, d_loss_real_image: 0.0, d_loss_real_latent: 1.3812167106599482e-15, d_loss_fake_image: 136.90435791015625, d_loss_fake_latent: 7.20555931366107e-07, g_loss: 255.8598175048828\n",
      "1/1 [==============================] - 0s 22ms/step\n",
      "Epoch: 1/10000, d_loss_real_image: 0.0, d_loss_real_latent: 6.206447031656404e-13, d_loss_fake_image: 182.58970642089844, d_loss_fake_latent: 7.89542582424474e-07, g_loss: 285.7774353027344\n",
      "1/1 [==============================] - 0s 27ms/step\n",
      "Epoch: 1/10000, d_loss_real_image: 0.0, d_loss_real_latent: 1.0038788321907672e-16, d_loss_fake_image: 151.00393676757812, d_loss_fake_latent: 3.094374960710411e-06, g_loss: 320.35919189453125\n",
      "1/1 [==============================] - 0s 19ms/step\n",
      "Epoch: 1/10000, d_loss_real_image: 0.0, d_loss_real_latent: 3.460174854974518e-12, d_loss_fake_image: 211.0969696044922, d_loss_fake_latent: 1.5711657397332601e-06, g_loss: 270.49578857421875\n",
      "1/1 [==============================] - 0s 24ms/step\n",
      "Epoch: 1/10000, d_loss_real_image: 0.0, d_loss_real_latent: 6.7555803040118736e-15, d_loss_fake_image: 178.2542724609375, d_loss_fake_latent: 1.1928389085369417e-06, g_loss: 292.80792236328125\n",
      "1/1 [==============================] - 0s 23ms/step\n",
      "Epoch: 1/10000, d_loss_real_image: 0.0, d_loss_real_latent: 4.7856785537463836e-14, d_loss_fake_image: 200.0756072998047, d_loss_fake_latent: 1.389779527016799e-06, g_loss: 319.16937255859375\n",
      "1/1 [==============================] - 0s 29ms/step\n",
      "Epoch: 1/10000, d_loss_real_image: 0.0, d_loss_real_latent: 8.998912759980524e-15, d_loss_fake_image: 142.26791381835938, d_loss_fake_latent: 1.1920042197743896e-06, g_loss: 348.6724853515625\n",
      "1/1 [==============================] - 0s 35ms/step\n",
      "Epoch: 1/10000, d_loss_real_image: 0.0, d_loss_real_latent: 7.729962854940845e-16, d_loss_fake_image: 205.2678985595703, d_loss_fake_latent: 1.431306145605049e-06, g_loss: 298.11041259765625\n",
      "1/1 [==============================] - 0s 22ms/step\n",
      "Epoch: 1/10000, d_loss_real_image: 0.0, d_loss_real_latent: 2.4295888071414445e-16, d_loss_fake_image: 243.8040313720703, d_loss_fake_latent: 1.2820451047446113e-06, g_loss: 311.63043212890625\n",
      "1/1 [==============================] - 0s 22ms/step\n",
      "Epoch: 1/10000, d_loss_real_image: 0.0, d_loss_real_latent: 4.900621877600858e-16, d_loss_fake_image: 250.24603271484375, d_loss_fake_latent: 1.0326293704565614e-06, g_loss: 271.38519287109375\n",
      "1/1 [==============================] - 0s 20ms/step\n",
      "Epoch: 1/10000, d_loss_real_image: 0.0, d_loss_real_latent: 3.1739652257763455e-15, d_loss_fake_image: 218.9066162109375, d_loss_fake_latent: 1.224324591930781e-06, g_loss: 308.52972412109375\n",
      "1/1 [==============================] - 0s 23ms/step\n",
      "Epoch: 1/10000, d_loss_real_image: 0.0, d_loss_real_latent: 2.6944280682485167e-13, d_loss_fake_image: 205.756591796875, d_loss_fake_latent: 1.9919805254176026e-06, g_loss: 291.85943603515625\n",
      "1/1 [==============================] - 0s 35ms/step\n",
      "Epoch: 1/10000, d_loss_real_image: 0.0, d_loss_real_latent: 1.4136432296108763e-17, d_loss_fake_image: 119.123046875, d_loss_fake_latent: 3.3984722449531546e-06, g_loss: 361.3052978515625\n",
      "1/1 [==============================] - 0s 27ms/step\n",
      "Epoch: 1/10000, d_loss_real_image: 0.0, d_loss_real_latent: 1.2418078989152176e-15, d_loss_fake_image: 144.4916534423828, d_loss_fake_latent: 1.4741851828148356e-06, g_loss: 394.4015197753906\n",
      "1/1 [==============================] - 0s 24ms/step\n",
      "Epoch: 1/10000, d_loss_real_image: 0.0, d_loss_real_latent: 3.311121247518735e-14, d_loss_fake_image: 140.1830291748047, d_loss_fake_latent: 8.987584010355931e-07, g_loss: 364.9317321777344\n",
      "1/1 [==============================] - 0s 51ms/step\n",
      "Epoch: 1/10000, d_loss_real_image: 0.0, d_loss_real_latent: 1.0665723463587086e-15, d_loss_fake_image: 123.91144561767578, d_loss_fake_latent: 1.5785157074788003e-06, g_loss: 360.13507080078125\n",
      "1/1 [==============================] - 0s 22ms/step\n",
      "Epoch: 1/10000, d_loss_real_image: 0.0, d_loss_real_latent: 5.5642462513905925e-16, d_loss_fake_image: 143.1530303955078, d_loss_fake_latent: 1.444336021449999e-06, g_loss: 340.66845703125\n",
      "1/1 [==============================] - 0s 36ms/step\n",
      "Epoch: 1/10000, d_loss_real_image: 12642.0498046875, d_loss_real_latent: 5.3227071831845035e-15, d_loss_fake_image: 215.77627563476562, d_loss_fake_latent: 1.8928842564491788e-06, g_loss: 412.020751953125\n",
      "1/1 [==============================] - 0s 54ms/step\n",
      "Epoch: 1/10000, d_loss_real_image: 0.0, d_loss_real_latent: 9.464639087655019e-14, d_loss_fake_image: 203.7137451171875, d_loss_fake_latent: 1.2460295693017542e-06, g_loss: 460.81573486328125\n",
      "1/1 [==============================] - 0s 36ms/step\n",
      "Epoch: 1/10000, d_loss_real_image: 0.0, d_loss_real_latent: 2.8709608924610317e-19, d_loss_fake_image: 133.58729553222656, d_loss_fake_latent: 1.2601133221323835e-06, g_loss: 539.5172119140625\n",
      "1/1 [==============================] - 0s 20ms/step\n",
      "Epoch: 1/10000, d_loss_real_image: 0.0, d_loss_real_latent: 8.21076046102166e-15, d_loss_fake_image: 143.8197021484375, d_loss_fake_latent: 1.3404771834757412e-06, g_loss: 543.740478515625\n",
      "1/1 [==============================] - 0s 105ms/step\n",
      "Epoch: 1/10000, d_loss_real_image: 0.0, d_loss_real_latent: 9.122729071594842e-16, d_loss_fake_image: 265.0185546875, d_loss_fake_latent: 3.516510560075403e-06, g_loss: 371.67169189453125\n",
      "1/1 [==============================] - 0s 65ms/step\n",
      "Epoch: 1/10000, d_loss_real_image: 0.0, d_loss_real_latent: 7.131310990403199e-15, d_loss_fake_image: 419.75848388671875, d_loss_fake_latent: 2.1201062736508902e-06, g_loss: 403.530029296875\n",
      "1/1 [==============================] - 0s 27ms/step\n",
      "Epoch: 1/10000, d_loss_real_image: 0.0, d_loss_real_latent: 1.2176114498648328e-16, d_loss_fake_image: 357.7220764160156, d_loss_fake_latent: 3.069030753977131e-06, g_loss: 419.7403259277344\n",
      "1/1 [==============================] - 0s 28ms/step\n",
      "Epoch: 1/10000, d_loss_real_image: 0.0, d_loss_real_latent: 2.1301230879665448e-16, d_loss_fake_image: 313.28570556640625, d_loss_fake_latent: 1.6884073374967556e-06, g_loss: 429.286865234375\n",
      "1/1 [==============================] - 0s 27ms/step\n",
      "Epoch: 1/10000, d_loss_real_image: 0.0, d_loss_real_latent: 1.5190682258613722e-17, d_loss_fake_image: 413.46636962890625, d_loss_fake_latent: 3.2197763175645377e-06, g_loss: 515.2785034179688\n",
      "1/1 [==============================] - 0s 28ms/step\n",
      "Epoch: 1/10000, d_loss_real_image: 0.0, d_loss_real_latent: 3.84959853366646e-19, d_loss_fake_image: 263.76324462890625, d_loss_fake_latent: 1.371173652842117e-06, g_loss: 664.3599853515625\n",
      "1/1 [==============================] - 0s 28ms/step\n",
      "Epoch: 1/10000, d_loss_real_image: 0.0, d_loss_real_latent: 6.2502819522943735e-15, d_loss_fake_image: 322.6148986816406, d_loss_fake_latent: 1.2672921911871526e-06, g_loss: 622.2653198242188\n",
      "1/1 [==============================] - 0s 31ms/step\n",
      "Epoch: 1/10000, d_loss_real_image: 0.0, d_loss_real_latent: 8.294581926686362e-13, d_loss_fake_image: 203.31423950195312, d_loss_fake_latent: 8.329150205099722e-07, g_loss: 538.187744140625\n",
      "1/1 [==============================] - 0s 28ms/step\n",
      "Epoch: 1/10000, d_loss_real_image: 0.0, d_loss_real_latent: 3.0178783353001777e-16, d_loss_fake_image: 237.84178161621094, d_loss_fake_latent: 7.482390174118336e-07, g_loss: 554.09521484375\n",
      "1/1 [==============================] - 0s 62ms/step\n",
      "Epoch: 1/10000, d_loss_real_image: 0.0, d_loss_real_latent: 1.1113552694476191e-16, d_loss_fake_image: 340.56439208984375, d_loss_fake_latent: 1.6222022622969234e-06, g_loss: 587.3756713867188\n",
      "1/1 [==============================] - 0s 22ms/step\n",
      "Epoch: 1/10000, d_loss_real_image: 0.0, d_loss_real_latent: 2.3090030461007297e-17, d_loss_fake_image: 590.4652099609375, d_loss_fake_latent: 1.3641317764268024e-06, g_loss: 438.6858215332031\n",
      "1/1 [==============================] - 0s 20ms/step\n",
      "Epoch: 1/10000, d_loss_real_image: 0.0, d_loss_real_latent: 1.402150282918391e-16, d_loss_fake_image: 856.38330078125, d_loss_fake_latent: 1.9203969259251608e-06, g_loss: 452.95648193359375\n",
      "1/1 [==============================] - 0s 24ms/step\n",
      "Epoch: 1/10000, d_loss_real_image: 60240.4375, d_loss_real_latent: 1.474692196224499e-15, d_loss_fake_image: 1037.3243408203125, d_loss_fake_latent: 1.3092850394968991e-06, g_loss: 210.2011260986328\n",
      "1/1 [==============================] - 0s 24ms/step\n",
      "Epoch: 1/10000, d_loss_real_image: 0.0, d_loss_real_latent: 2.6807649794700295e-17, d_loss_fake_image: 1364.852783203125, d_loss_fake_latent: 1.3278682899908745e-06, g_loss: 104.10265350341797\n",
      "1/1 [==============================] - 0s 21ms/step\n",
      "Epoch: 1/10000, d_loss_real_image: 0.0, d_loss_real_latent: 3.931833238134672e-16, d_loss_fake_image: 1148.0782470703125, d_loss_fake_latent: 7.278472935468017e-07, g_loss: 1242.4332275390625\n",
      "1/1 [==============================] - 0s 20ms/step\n",
      "Epoch: 1/10000, d_loss_real_image: 0.0, d_loss_real_latent: 3.05098144167006e-16, d_loss_fake_image: 525.204833984375, d_loss_fake_latent: 1.4348476042869152e-06, g_loss: 2246.31396484375\n",
      "1/1 [==============================] - 0s 26ms/step\n",
      "Epoch: 1/10000, d_loss_real_image: 0.0, d_loss_real_latent: 2.1146878977363053e-16, d_loss_fake_image: 442.58685302734375, d_loss_fake_latent: 2.364375177421607e-06, g_loss: 3639.1015625\n",
      "1/1 [==============================] - 0s 22ms/step\n",
      "Epoch: 1/10000, d_loss_real_image: 0.0, d_loss_real_latent: 4.945921940773847e-15, d_loss_fake_image: 673.0526123046875, d_loss_fake_latent: 1.8075224943459034e-06, g_loss: 3910.059814453125\n",
      "1/1 [==============================] - 0s 25ms/step\n",
      "Epoch: 1/10000, d_loss_real_image: 0.0, d_loss_real_latent: 6.923634903147463e-18, d_loss_fake_image: 660.04345703125, d_loss_fake_latent: 1.6078431599453324e-06, g_loss: 3644.86279296875\n",
      "1/1 [==============================] - 0s 22ms/step\n",
      "Epoch: 1/10000, d_loss_real_image: 0.0, d_loss_real_latent: 3.362067102922529e-15, d_loss_fake_image: 1076.36474609375, d_loss_fake_latent: 1.6877405641935184e-06, g_loss: 2016.7724609375\n",
      "1/1 [==============================] - 0s 25ms/step\n",
      "Epoch: 1/10000, d_loss_real_image: 0.0, d_loss_real_latent: 1.2247386264874205e-13, d_loss_fake_image: 1951.9267578125, d_loss_fake_latent: 1.1403378721297486e-06, g_loss: 2099.47900390625\n",
      "1/1 [==============================] - 0s 29ms/step\n",
      "Epoch: 1/10000, d_loss_real_image: 0.0, d_loss_real_latent: 2.0300633241354107e-15, d_loss_fake_image: 2286.548583984375, d_loss_fake_latent: 2.23309234570479e-06, g_loss: 1454.1904296875\n",
      "1/1 [==============================] - 0s 47ms/step\n",
      "Epoch: 1/10000, d_loss_real_image: 11561.8837890625, d_loss_real_latent: 6.836586723439012e-15, d_loss_fake_image: 2816.7392578125, d_loss_fake_latent: 1.9851054275932256e-06, g_loss: 220.20114135742188\n",
      "1/1 [==============================] - 0s 40ms/step\n",
      "Epoch: 1/10000, d_loss_real_image: 0.0, d_loss_real_latent: 1.2279428695411712e-16, d_loss_fake_image: 3502.245361328125, d_loss_fake_latent: 2.799652975227218e-06, g_loss: 1.4709688425064087\n",
      "1/1 [==============================] - 0s 21ms/step\n",
      "Epoch: 1/10000, d_loss_real_image: 2349.83984375, d_loss_real_latent: 6.266503056750767e-15, d_loss_fake_image: 3441.79638671875, d_loss_fake_latent: 1.228690166499291e-06, g_loss: 18.22385597229004\n",
      "1/1 [==============================] - 0s 20ms/step\n",
      "Epoch: 1/10000, d_loss_real_image: 0.0, d_loss_real_latent: 9.558145426394674e-14, d_loss_fake_image: 2914.396240234375, d_loss_fake_latent: 1.7195145574078197e-06, g_loss: 77.55728149414062\n",
      "1/1 [==============================] - 0s 43ms/step\n",
      "Epoch: 1/10000, d_loss_real_image: 0.0, d_loss_real_latent: 2.406462690099034e-16, d_loss_fake_image: 1600.150634765625, d_loss_fake_latent: 1.7538783367854194e-06, g_loss: 252.2828369140625\n",
      "1/1 [==============================] - 0s 24ms/step\n",
      "Epoch: 1/10000, d_loss_real_image: 0.0, d_loss_real_latent: 5.520360102199973e-13, d_loss_fake_image: 713.3009033203125, d_loss_fake_latent: 2.413825768599054e-06, g_loss: 797.1572265625\n",
      "1/1 [==============================] - 0s 32ms/step\n",
      "Epoch: 1/10000, d_loss_real_image: 0.0, d_loss_real_latent: 4.3291920108616295e-16, d_loss_fake_image: 459.7186279296875, d_loss_fake_latent: 2.2852993879496353e-06, g_loss: 751.1475830078125\n",
      "1/1 [==============================] - 0s 23ms/step\n",
      "Epoch: 1/10000, d_loss_real_image: 0.0, d_loss_real_latent: 2.3873693498580604e-15, d_loss_fake_image: 541.8479614257812, d_loss_fake_latent: 1.2028773426209227e-06, g_loss: 409.6348876953125\n",
      "1/1 [==============================] - 0s 34ms/step\n",
      "Epoch: 1/10000, d_loss_real_image: 0.0, d_loss_real_latent: 3.5101812957826655e-17, d_loss_fake_image: 463.31396484375, d_loss_fake_latent: 4.287372121325461e-06, g_loss: 280.5703125\n",
      "1/1 [==============================] - 0s 45ms/step\n",
      "Epoch: 1/10000, d_loss_real_image: 13160.9404296875, d_loss_real_latent: 2.6232664586574306e-14, d_loss_fake_image: 486.917724609375, d_loss_fake_latent: 1.4347535852721194e-06, g_loss: 397.7629089355469\n",
      "1/1 [==============================] - 0s 23ms/step\n",
      "Epoch: 1/10000, d_loss_real_image: 184468.203125, d_loss_real_latent: 1.7358854357738505e-14, d_loss_fake_image: 1179.800537109375, d_loss_fake_latent: 1.1513914159877459e-06, g_loss: 34.49691390991211\n",
      "1/1 [==============================] - 0s 22ms/step\n",
      "Epoch: 1/10000, d_loss_real_image: 0.0, d_loss_real_latent: 1.799891861597948e-15, d_loss_fake_image: 2559.34033203125, d_loss_fake_latent: 2.9436105251079425e-06, g_loss: 22.55518913269043\n",
      "1/1 [==============================] - 0s 34ms/step\n",
      "Epoch: 1/10000, d_loss_real_image: 0.0, d_loss_real_latent: 1.2253422560469518e-14, d_loss_fake_image: 2363.41162109375, d_loss_fake_latent: 1.8463052811057423e-06, g_loss: 479.13739013671875\n",
      "1/1 [==============================] - 0s 35ms/step\n",
      "Epoch: 1/10000, d_loss_real_image: 0.0, d_loss_real_latent: 8.410026682398908e-17, d_loss_fake_image: 1130.923828125, d_loss_fake_latent: 2.574767677288037e-06, g_loss: 1466.7528076171875\n",
      "1/1 [==============================] - 0s 25ms/step\n",
      "Epoch: 1/10000, d_loss_real_image: 0.0, d_loss_real_latent: 1.746827312095275e-16, d_loss_fake_image: 642.3055419921875, d_loss_fake_latent: 1.5627811080776155e-06, g_loss: 2126.312255859375\n",
      "1/1 [==============================] - 0s 23ms/step\n",
      "Epoch: 1/10000, d_loss_real_image: 0.0, d_loss_real_latent: 1.069399636457525e-15, d_loss_fake_image: 609.0679931640625, d_loss_fake_latent: 1.21308960387978e-06, g_loss: 3308.72216796875\n",
      "1/1 [==============================] - 0s 86ms/step\n",
      "Epoch: 1/10000, d_loss_real_image: 0.0, d_loss_real_latent: 8.917284406611864e-16, d_loss_fake_image: 1168.751953125, d_loss_fake_latent: 4.74265016237041e-06, g_loss: 2925.078857421875\n",
      "1/1 [==============================] - 0s 22ms/step\n",
      "Epoch: 1/10000, d_loss_real_image: 0.0, d_loss_real_latent: 1.1698708306609202e-14, d_loss_fake_image: 2089.71923828125, d_loss_fake_latent: 1.2589785001182463e-06, g_loss: 1861.28369140625\n",
      "1/1 [==============================] - 0s 26ms/step\n",
      "Epoch: 1/10000, d_loss_real_image: 0.0, d_loss_real_latent: 2.5017747019119097e-15, d_loss_fake_image: 2547.454345703125, d_loss_fake_latent: 1.414189682691358e-06, g_loss: 1643.447509765625\n",
      "1/1 [==============================] - 0s 30ms/step\n",
      "Epoch: 1/10000, d_loss_real_image: 0.0, d_loss_real_latent: 4.3834598765449956e-14, d_loss_fake_image: 3679.628173828125, d_loss_fake_latent: 1.5945635141179082e-06, g_loss: 86.13716888427734\n",
      "1/1 [==============================] - 0s 25ms/step\n",
      "Epoch: 1/10000, d_loss_real_image: 0.0, d_loss_real_latent: 1.1378997245327371e-13, d_loss_fake_image: 3580.353515625, d_loss_fake_latent: 1.4559770988853415e-06, g_loss: 30.338336944580078\n",
      "1/1 [==============================] - 0s 21ms/step\n",
      "Epoch: 1/10000, d_loss_real_image: 0.0, d_loss_real_latent: 9.712327106838406e-14, d_loss_fake_image: 4063.965087890625, d_loss_fake_latent: 1.4504248611046933e-06, g_loss: 1.25614610624325e-06\n",
      "1/1 [==============================] - 0s 27ms/step\n",
      "Epoch: 1/10000, d_loss_real_image: 0.0, d_loss_real_latent: 5.434753442601131e-16, d_loss_fake_image: 3767.68310546875, d_loss_fake_latent: 2.0835470877500484e-06, g_loss: 42.171661376953125\n",
      "1/1 [==============================] - 0s 23ms/step\n",
      "Epoch: 1/10000, d_loss_real_image: 0.0, d_loss_real_latent: 5.448614872085152e-17, d_loss_fake_image: 2964.5791015625, d_loss_fake_latent: 1.3077689118290436e-06, g_loss: 22.519065856933594\n",
      "1/1 [==============================] - 0s 24ms/step\n",
      "Epoch: 1/10000, d_loss_real_image: 5857.78515625, d_loss_real_latent: 4.7789950402760736e-15, d_loss_fake_image: 1857.7879638671875, d_loss_fake_latent: 1.69780241776607e-06, g_loss: 950.4981079101562\n",
      "1/1 [==============================] - 0s 24ms/step\n",
      "Epoch: 1/10000, d_loss_real_image: 0.0, d_loss_real_latent: 1.4456071759283749e-16, d_loss_fake_image: 828.026611328125, d_loss_fake_latent: 1.0337473668187158e-06, g_loss: 2801.87353515625\n",
      "1/1 [==============================] - 0s 22ms/step\n",
      "Epoch: 1/10000, d_loss_real_image: 0.0, d_loss_real_latent: 2.6857995977247213e-15, d_loss_fake_image: 1042.813232421875, d_loss_fake_latent: 1.1735038469851133e-06, g_loss: 3362.22119140625\n",
      "1/1 [==============================] - 0s 25ms/step\n",
      "Epoch: 1/10000, d_loss_real_image: 0.0, d_loss_real_latent: 1.2713773447654148e-13, d_loss_fake_image: 1842.57373046875, d_loss_fake_latent: 6.721675163134933e-07, g_loss: 2664.168701171875\n",
      "1/1 [==============================] - 0s 25ms/step\n",
      "Epoch: 1/10000, d_loss_real_image: 0.0, d_loss_real_latent: 3.8241339518033535e-15, d_loss_fake_image: 3670.041015625, d_loss_fake_latent: 1.9625031200121157e-06, g_loss: 957.7465209960938\n",
      "1/1 [==============================] - 0s 24ms/step\n",
      "Epoch: 1/10000, d_loss_real_image: 0.0, d_loss_real_latent: 1.328919420806255e-18, d_loss_fake_image: 5703.18701171875, d_loss_fake_latent: 1.6463113752251957e-06, g_loss: 423.2331848144531\n",
      "1/1 [==============================] - 0s 23ms/step\n",
      "Epoch: 1/10000, d_loss_real_image: 0.0, d_loss_real_latent: 7.792130520467219e-14, d_loss_fake_image: 6124.6923828125, d_loss_fake_latent: 2.2066851670388132e-06, g_loss: 227.51983642578125\n",
      "1/1 [==============================] - 0s 21ms/step\n",
      "Epoch: 1/10000, d_loss_real_image: 0.0, d_loss_real_latent: 8.968483445457548e-17, d_loss_fake_image: 5745.666015625, d_loss_fake_latent: 1.846447503339732e-06, g_loss: 472.82421875\n",
      "1/1 [==============================] - 0s 23ms/step\n",
      "Epoch: 1/10000, d_loss_real_image: 0.0, d_loss_real_latent: 1.1543151923455811e-16, d_loss_fake_image: 5056.75537109375, d_loss_fake_latent: 4.038918632431887e-06, g_loss: 820.322998046875\n",
      "1/1 [==============================] - 0s 22ms/step\n",
      "Epoch: 1/10000, d_loss_real_image: 0.0, d_loss_real_latent: 4.4199628408162585e-17, d_loss_fake_image: 4729.60888671875, d_loss_fake_latent: 2.3401644284604117e-06, g_loss: 1043.9825439453125\n",
      "1/1 [==============================] - 0s 28ms/step\n",
      "Epoch: 1/10000, d_loss_real_image: 0.0, d_loss_real_latent: 2.5644623397887796e-15, d_loss_fake_image: 4749.955078125, d_loss_fake_latent: 2.2730698674422456e-06, g_loss: 1516.822021484375\n",
      "1/1 [==============================] - 0s 59ms/step\n",
      "Epoch: 1/10000, d_loss_real_image: 73922.9375, d_loss_real_latent: 1.0459367179394626e-15, d_loss_fake_image: 5171.83056640625, d_loss_fake_latent: 1.4753063624084461e-06, g_loss: 189.33432006835938\n",
      "1/1 [==============================] - 0s 23ms/step\n",
      "Epoch: 1/10000, d_loss_real_image: 7925.0615234375, d_loss_real_latent: 8.702687815331599e-18, d_loss_fake_image: 5153.64453125, d_loss_fake_latent: 6.013104211888276e-06, g_loss: 159.8936767578125\n",
      "1/1 [==============================] - 0s 26ms/step\n",
      "Epoch: 1/10000, d_loss_real_image: 0.0, d_loss_real_latent: 2.717452795447141e-15, d_loss_fake_image: 5220.673828125, d_loss_fake_latent: 2.3115665044315392e-06, g_loss: 381.9837646484375\n",
      "1/1 [==============================] - 0s 36ms/step\n",
      "Epoch: 1/10000, d_loss_real_image: 0.0, d_loss_real_latent: 5.2414114225965387e-17, d_loss_fake_image: 4560.85595703125, d_loss_fake_latent: 1.4430349892791128e-06, g_loss: 716.4478759765625\n",
      "1/1 [==============================] - 0s 45ms/step\n",
      "Epoch: 1/10000, d_loss_real_image: 0.0, d_loss_real_latent: 4.998353280208888e-15, d_loss_fake_image: 4196.61328125, d_loss_fake_latent: 1.7238219243154163e-06, g_loss: 709.6875610351562\n",
      "1/1 [==============================] - 0s 27ms/step\n",
      "Epoch: 1/10000, d_loss_real_image: 521782.21875, d_loss_real_latent: 6.390864857583117e-15, d_loss_fake_image: 2406.4521484375, d_loss_fake_latent: 1.0816677331604296e-06, g_loss: 5287.9677734375\n",
      "1/1 [==============================] - 0s 29ms/step\n",
      "Epoch: 1/10000, d_loss_real_image: 0.0, d_loss_real_latent: 2.212630052729524e-16, d_loss_fake_image: 1340.91845703125, d_loss_fake_latent: 4.046112735522911e-06, g_loss: 7126.3115234375\n",
      "1/1 [==============================] - 0s 23ms/step\n",
      "Epoch: 1/10000, d_loss_real_image: 0.0, d_loss_real_latent: 7.934581133404658e-17, d_loss_fake_image: 2378.869384765625, d_loss_fake_latent: 2.234870180473081e-06, g_loss: 6230.1279296875\n",
      "1/1 [==============================] - 0s 25ms/step\n",
      "Epoch: 1/10000, d_loss_real_image: 0.0, d_loss_real_latent: 9.666436774197744e-19, d_loss_fake_image: 5274.2646484375, d_loss_fake_latent: 1.3361138826439856e-06, g_loss: 4220.828125\n",
      "1/1 [==============================] - 0s 30ms/step\n",
      "Epoch: 1/10000, d_loss_real_image: 0.0, d_loss_real_latent: 6.417116102684422e-15, d_loss_fake_image: 10016.1953125, d_loss_fake_latent: 1.7809144310376723e-06, g_loss: 1308.94482421875\n",
      "1/1 [==============================] - 0s 25ms/step\n",
      "Epoch: 1/10000, d_loss_real_image: 0.0, d_loss_real_latent: 3.45943158144572e-16, d_loss_fake_image: 14055.4453125, d_loss_fake_latent: 1.093297896659351e-06, g_loss: 474.2666015625\n",
      "1/1 [==============================] - 0s 23ms/step\n",
      "Epoch: 1/10000, d_loss_real_image: 0.0, d_loss_real_latent: 4.365563340918933e-15, d_loss_fake_image: 15460.2919921875, d_loss_fake_latent: 8.15095006601041e-07, g_loss: 325.2254943847656\n",
      "1/1 [==============================] - 0s 24ms/step\n",
      "Epoch: 1/10000, d_loss_real_image: 0.0, d_loss_real_latent: 1.4652311343343278e-18, d_loss_fake_image: 14093.900390625, d_loss_fake_latent: 5.337358857104846e-07, g_loss: 251.97068786621094\n",
      "1/1 [==============================] - 0s 24ms/step\n",
      "Epoch: 1/10000, d_loss_real_image: 0.0, d_loss_real_latent: 9.078127789427515e-14, d_loss_fake_image: 11881.5732421875, d_loss_fake_latent: 4.256820375303505e-06, g_loss: 1767.519287109375\n",
      "1/1 [==============================] - 0s 30ms/step\n",
      "Epoch: 1/10000, d_loss_real_image: 0.0, d_loss_real_latent: 4.941198885059957e-15, d_loss_fake_image: 11572.736328125, d_loss_fake_latent: 1.4194952200341504e-06, g_loss: 1097.844970703125\n",
      "1/1 [==============================] - 0s 25ms/step\n",
      "Epoch: 1/10000, d_loss_real_image: 0.0, d_loss_real_latent: 2.1595860543637338e-14, d_loss_fake_image: 12555.4072265625, d_loss_fake_latent: 4.091039045306388e-06, g_loss: 1087.45556640625\n",
      "1/1 [==============================] - 0s 25ms/step\n",
      "Epoch: 1/10000, d_loss_real_image: 0.0, d_loss_real_latent: 3.415749364436877e-17, d_loss_fake_image: 14641.44140625, d_loss_fake_latent: 1.8282250948686851e-06, g_loss: 124.2274169921875\n",
      "1/1 [==============================] - 0s 22ms/step\n",
      "Epoch: 1/10000, d_loss_real_image: 293046.1875, d_loss_real_latent: 8.620499096728771e-15, d_loss_fake_image: 14572.392578125, d_loss_fake_latent: 1.9474759938020725e-06, g_loss: 53.728973388671875\n",
      "1/1 [==============================] - 0s 22ms/step\n",
      "Epoch: 1/10000, d_loss_real_image: 97078.609375, d_loss_real_latent: 9.101147333843293e-18, d_loss_fake_image: 12132.9013671875, d_loss_fake_latent: 1.6985909496725071e-06, g_loss: 3265.55810546875\n",
      "1/1 [==============================] - 0s 22ms/step\n",
      "Epoch: 1/10000, d_loss_real_image: 0.0, d_loss_real_latent: 1.0271045082152486e-12, d_loss_fake_image: 11712.109375, d_loss_fake_latent: 2.4745113478275016e-06, g_loss: 6705.48974609375\n",
      "1/1 [==============================] - 0s 22ms/step\n",
      "Epoch: 1/10000, d_loss_real_image: 0.0, d_loss_real_latent: 1.0695038347449272e-17, d_loss_fake_image: 13364.2412109375, d_loss_fake_latent: 1.732978375912353e-06, g_loss: 7548.046875\n",
      "1/1 [==============================] - 0s 23ms/step\n",
      "Epoch: 1/10000, d_loss_real_image: 0.0, d_loss_real_latent: 4.306488219152764e-17, d_loss_fake_image: 18049.572265625, d_loss_fake_latent: 1.267899278900586e-06, g_loss: 5171.1015625\n",
      "1/1 [==============================] - 0s 22ms/step\n",
      "Epoch: 1/10000, d_loss_real_image: 0.0, d_loss_real_latent: 9.141103466152054e-18, d_loss_fake_image: 23233.81640625, d_loss_fake_latent: 1.0668554750736803e-06, g_loss: 2716.908447265625\n",
      "1/1 [==============================] - 0s 28ms/step\n",
      "Epoch: 1/10000, d_loss_real_image: 132813.578125, d_loss_real_latent: 4.004002910238964e-18, d_loss_fake_image: 33038.875, d_loss_fake_latent: 1.3183563396523823e-06, g_loss: 1593.633056640625\n",
      "1/1 [==============================] - 0s 31ms/step\n",
      "Epoch: 1/10000, d_loss_real_image: 0.0, d_loss_real_latent: 1.0460339910707764e-17, d_loss_fake_image: 39081.953125, d_loss_fake_latent: 1.4986751466494752e-06, g_loss: 843.6995239257812\n",
      "1/1 [==============================] - 0s 22ms/step\n",
      "Epoch: 1/10000, d_loss_real_image: 0.0, d_loss_real_latent: 1.9785031580866206e-15, d_loss_fake_image: 42010.7578125, d_loss_fake_latent: 2.21957998292055e-06, g_loss: 3024.2314453125\n",
      "1/1 [==============================] - 0s 28ms/step\n",
      "Epoch: 1/10000, d_loss_real_image: 0.0, d_loss_real_latent: 9.19629705943743e-16, d_loss_fake_image: 42485.65625, d_loss_fake_latent: 1.002467342914315e-06, g_loss: 9393.8447265625\n",
      "1/1 [==============================] - 0s 29ms/step\n",
      "Epoch: 1/10000, d_loss_real_image: 0.0, d_loss_real_latent: 1.2094881888337048e-17, d_loss_fake_image: 40134.2421875, d_loss_fake_latent: 1.3460239642881788e-06, g_loss: 13362.7724609375\n",
      "1/1 [==============================] - 0s 23ms/step\n",
      "Epoch: 1/10000, d_loss_real_image: 0.0, d_loss_real_latent: 6.893001252249176e-13, d_loss_fake_image: 41819.75390625, d_loss_fake_latent: 9.847756246017525e-07, g_loss: 17736.134765625\n",
      "1/1 [==============================] - 0s 22ms/step\n",
      "Epoch: 1/10000, d_loss_real_image: 0.0, d_loss_real_latent: 1.8530091455190325e-17, d_loss_fake_image: 43260.78125, d_loss_fake_latent: 3.097336502833059e-06, g_loss: 20200.76171875\n",
      "1/1 [==============================] - 0s 24ms/step\n",
      "Epoch: 1/10000, d_loss_real_image: 0.0, d_loss_real_latent: 5.311555676796545e-16, d_loss_fake_image: 46106.23828125, d_loss_fake_latent: 1.4003791193317738e-06, g_loss: 23611.48046875\n",
      "1/1 [==============================] - 0s 30ms/step\n",
      "Epoch: 1/10000, d_loss_real_image: 792936.875, d_loss_real_latent: 3.03861414654126e-14, d_loss_fake_image: 58786.109375, d_loss_fake_latent: 1.340419657935854e-06, g_loss: 5101.0771484375\n",
      "1/1 [==============================] - 0s 29ms/step\n",
      "Epoch: 1/10000, d_loss_real_image: 0.0, d_loss_real_latent: 1.207186168350027e-15, d_loss_fake_image: 80960.0390625, d_loss_fake_latent: 1.206228830596956e-06, g_loss: 826.3445434570312\n",
      "1/1 [==============================] - 0s 27ms/step\n",
      "Epoch: 1/10000, d_loss_real_image: 0.0, d_loss_real_latent: 1.9033347808995342e-16, d_loss_fake_image: 81118.9921875, d_loss_fake_latent: 1.1522663498908514e-06, g_loss: 2015.87939453125\n",
      "1/1 [==============================] - 0s 27ms/step\n",
      "Epoch: 1/10000, d_loss_real_image: 0.0, d_loss_real_latent: 2.2770568345355642e-17, d_loss_fake_image: 77338.1171875, d_loss_fake_latent: 1.4578453146896209e-06, g_loss: 14446.427734375\n",
      "1/1 [==============================] - 0s 28ms/step\n",
      "Epoch: 1/10000, d_loss_real_image: 0.0, d_loss_real_latent: 9.115565505510398e-19, d_loss_fake_image: 63076.66015625, d_loss_fake_latent: 1.0172664133278886e-06, g_loss: 29349.20703125\n",
      "1/1 [==============================] - 0s 23ms/step\n",
      "Epoch: 1/10000, d_loss_real_image: 0.0, d_loss_real_latent: 5.4697155957078233e-14, d_loss_fake_image: 50284.70703125, d_loss_fake_latent: 2.5839926820481196e-06, g_loss: 55346.125\n",
      "1/1 [==============================] - 0s 26ms/step\n",
      "Epoch: 1/10000, d_loss_real_image: 1923397.375, d_loss_real_latent: 1.856302350060953e-16, d_loss_fake_image: 45809.5703125, d_loss_fake_latent: 6.993471970417886e-07, g_loss: 80874.8828125\n",
      "1/1 [==============================] - 0s 28ms/step\n",
      "Epoch: 1/10000, d_loss_real_image: 0.0, d_loss_real_latent: 1.8035076334915398e-14, d_loss_fake_image: 33199.703125, d_loss_fake_latent: 1.9101735233562067e-06, g_loss: 111500.109375\n",
      "1/1 [==============================] - 0s 23ms/step\n",
      "Epoch: 1/10000, d_loss_real_image: 1133701.875, d_loss_real_latent: 2.7643045594520285e-14, d_loss_fake_image: 18692.251953125, d_loss_fake_latent: 1.677200771155185e-06, g_loss: 150040.46875\n",
      "1/1 [==============================] - 0s 24ms/step\n",
      "Epoch: 1/10000, d_loss_real_image: 1553968.75, d_loss_real_latent: 3.983969915983187e-15, d_loss_fake_image: 0.0, d_loss_fake_latent: 1.270692678190244e-06, g_loss: 174676.78125\n",
      "1/1 [==============================] - 0s 29ms/step\n",
      "Epoch: 1/10000, d_loss_real_image: 26303.314453125, d_loss_real_latent: 5.885324545610278e-17, d_loss_fake_image: 6901.1455078125, d_loss_fake_latent: 1.417615635546099e-06, g_loss: 154159.0\n",
      "1/1 [==============================] - 0s 27ms/step\n",
      "Epoch: 1/10000, d_loss_real_image: 0.0, d_loss_real_latent: 5.646278745354211e-16, d_loss_fake_image: 22728.171875, d_loss_fake_latent: 1.1783115496655228e-06, g_loss: 138714.765625\n",
      "1/1 [==============================] - 0s 25ms/step\n",
      "Epoch: 1/10000, d_loss_real_image: 0.0, d_loss_real_latent: 1.3591339297590406e-17, d_loss_fake_image: 51118.63671875, d_loss_fake_latent: 1.0204490763499052e-06, g_loss: 137114.34375\n",
      "1/1 [==============================] - 0s 26ms/step\n",
      "Epoch: 1/10000, d_loss_real_image: 0.0, d_loss_real_latent: 3.121770759105004e-14, d_loss_fake_image: 56195.1796875, d_loss_fake_latent: 1.344782049272908e-06, g_loss: 146437.4375\n",
      "1/1 [==============================] - 0s 27ms/step\n",
      "Epoch: 1/10000, d_loss_real_image: 0.0, d_loss_real_latent: 1.5668724455929206e-13, d_loss_fake_image: 56471.97265625, d_loss_fake_latent: 2.2818476281827316e-06, g_loss: 193959.890625\n",
      "1/1 [==============================] - 0s 23ms/step\n",
      "Epoch: 1/10000, d_loss_real_image: 0.0, d_loss_real_latent: 3.043775838266886e-17, d_loss_fake_image: 46644.59375, d_loss_fake_latent: 2.6322813937440515e-06, g_loss: 230132.75\n",
      "1/1 [==============================] - 0s 28ms/step\n",
      "Epoch: 1/10000, d_loss_real_image: 0.0, d_loss_real_latent: 1.360039092823842e-18, d_loss_fake_image: 19121.25, d_loss_fake_latent: 2.041649395323475e-06, g_loss: 272818.28125\n",
      "1/1 [==============================] - 0s 27ms/step\n",
      "Epoch: 1/10000, d_loss_real_image: 0.0, d_loss_real_latent: 3.4540125208766537e-13, d_loss_fake_image: 18488.40625, d_loss_fake_latent: 4.3645295022542996e-07, g_loss: 284948.0\n",
      "1/1 [==============================] - 0s 24ms/step\n",
      "Epoch: 1/10000, d_loss_real_image: 6166255.0, d_loss_real_latent: 6.720897692953599e-15, d_loss_fake_image: 18251.142578125, d_loss_fake_latent: 1.833573719522974e-06, g_loss: 333823.21875\n",
      "1/1 [==============================] - 0s 24ms/step\n",
      "Epoch: 1/10000, d_loss_real_image: 0.0, d_loss_real_latent: 2.2328128929105517e-12, d_loss_fake_image: 27593.044921875, d_loss_fake_latent: 1.9052930610996555e-06, g_loss: 360222.40625\n",
      "1/1 [==============================] - 0s 25ms/step\n",
      "Epoch: 1/10000, d_loss_real_image: 0.0, d_loss_real_latent: 2.0763240285497043e-15, d_loss_fake_image: 40205.703125, d_loss_fake_latent: 1.5680545857321704e-06, g_loss: 360420.0625\n",
      "1/1 [==============================] - 0s 26ms/step\n",
      "Epoch: 1/10000, d_loss_real_image: 0.0, d_loss_real_latent: 1.2602664409017833e-15, d_loss_fake_image: 54976.6875, d_loss_fake_latent: 1.5997552509361412e-06, g_loss: 352628.0\n",
      "1/1 [==============================] - 0s 22ms/step\n",
      "Epoch: 1/10000, d_loss_real_image: 0.0, d_loss_real_latent: 1.1913855098728268e-15, d_loss_fake_image: 66172.9453125, d_loss_fake_latent: 1.2518792118498823e-06, g_loss: 388711.09375\n",
      "1/1 [==============================] - 0s 28ms/step\n",
      "Epoch: 1/10000, d_loss_real_image: 0.0, d_loss_real_latent: 3.5287591105961165e-16, d_loss_fake_image: 62280.72265625, d_loss_fake_latent: 1.3236588074505562e-06, g_loss: 444663.0625\n",
      "1/1 [==============================] - 0s 28ms/step\n",
      "Epoch: 1/10000, d_loss_real_image: 0.0, d_loss_real_latent: 1.763173989186099e-16, d_loss_fake_image: 20176.0703125, d_loss_fake_latent: 1.2421796782291494e-06, g_loss: 481105.90625\n",
      "1/1 [==============================] - 0s 28ms/step\n",
      "Epoch: 1/10000, d_loss_real_image: 0.0, d_loss_real_latent: 3.1243673174289883e-16, d_loss_fake_image: 26502.72265625, d_loss_fake_latent: 1.3640044471685542e-06, g_loss: 474089.40625\n",
      "1/1 [==============================] - 0s 31ms/step\n",
      "Epoch: 1/10000, d_loss_real_image: 970639.875, d_loss_real_latent: 6.058125112673451e-10, d_loss_fake_image: 67705.96875, d_loss_fake_latent: 2.5471131266385783e-06, g_loss: 500133.4375\n",
      "1/1 [==============================] - 0s 24ms/step\n",
      "Epoch: 1/10000, d_loss_real_image: 0.0, d_loss_real_latent: 1.0027656720793974e-15, d_loss_fake_image: 56846.3359375, d_loss_fake_latent: 1.321046056546038e-06, g_loss: 581412.75\n",
      "1/1 [==============================] - 0s 22ms/step\n",
      "Epoch: 1/10000, d_loss_real_image: 0.0, d_loss_real_latent: 1.080363080355369e-14, d_loss_fake_image: 95816.296875, d_loss_fake_latent: 1.265243213310896e-06, g_loss: 602216.75\n",
      "1/1 [==============================] - 0s 26ms/step\n",
      "Epoch: 1/10000, d_loss_real_image: 1169193.5, d_loss_real_latent: 1.367500034474402e-17, d_loss_fake_image: 41310.9453125, d_loss_fake_latent: 6.033661748006125e-07, g_loss: 719094.5\n",
      "1/1 [==============================] - 0s 25ms/step\n",
      "Epoch: 1/10000, d_loss_real_image: 0.0, d_loss_real_latent: 4.035693026686483e-18, d_loss_fake_image: 91712.3828125, d_loss_fake_latent: 1.647632757340034e-06, g_loss: 768961.875\n",
      "1/1 [==============================] - 0s 23ms/step\n",
      "Epoch: 1/10000, d_loss_real_image: 0.0, d_loss_real_latent: 3.476955729624434e-14, d_loss_fake_image: 67146.4375, d_loss_fake_latent: 1.56440057708096e-06, g_loss: 798238.5\n",
      "1/1 [==============================] - 0s 26ms/step\n",
      "Epoch: 1/10000, d_loss_real_image: 0.0, d_loss_real_latent: 9.86759176972718e-13, d_loss_fake_image: 47443.58984375, d_loss_fake_latent: 1.5245664144458715e-06, g_loss: 858292.125\n",
      "1/1 [==============================] - 0s 20ms/step\n",
      "Epoch: 1/10000, d_loss_real_image: 0.0, d_loss_real_latent: 8.533513498196744e-17, d_loss_fake_image: 182840.421875, d_loss_fake_latent: 8.370808473046054e-07, g_loss: 759120.8125\n",
      "1/1 [==============================] - 0s 24ms/step\n",
      "Epoch: 1/10000, d_loss_real_image: 0.0, d_loss_real_latent: 3.6637565747515467e-16, d_loss_fake_image: 132389.015625, d_loss_fake_latent: 9.980809636545018e-07, g_loss: 799941.5625\n",
      "1/1 [==============================] - 0s 23ms/step\n",
      "Epoch: 1/10000, d_loss_real_image: 0.0, d_loss_real_latent: 3.236017575707885e-17, d_loss_fake_image: 82403.2421875, d_loss_fake_latent: 2.429572532491875e-06, g_loss: 869790.5625\n",
      "1/1 [==============================] - 0s 23ms/step\n",
      "Epoch: 1/10000, d_loss_real_image: 122538.59375, d_loss_real_latent: 1.2744437044872889e-17, d_loss_fake_image: 194598.34375, d_loss_fake_latent: 1.174441649709479e-06, g_loss: 907139.5\n",
      "1/1 [==============================] - 0s 23ms/step\n",
      "Epoch: 1/10000, d_loss_real_image: 0.0, d_loss_real_latent: 2.022536462311167e-14, d_loss_fake_image: 89561.84375, d_loss_fake_latent: 6.953513320695492e-07, g_loss: 953442.9375\n",
      "1/1 [==============================] - 0s 23ms/step\n",
      "Epoch: 1/10000, d_loss_real_image: 0.0, d_loss_real_latent: 1.2127122907072528e-17, d_loss_fake_image: 107425.4375, d_loss_fake_latent: 7.305538360924402e-07, g_loss: 1002443.3125\n",
      "1/1 [==============================] - 0s 26ms/step\n",
      "Epoch: 1/10000, d_loss_real_image: 0.0, d_loss_real_latent: 2.193087291629814e-12, d_loss_fake_image: 118840.40625, d_loss_fake_latent: 1.1236513728363207e-06, g_loss: 941095.25\n",
      "1/1 [==============================] - 0s 24ms/step\n",
      "Epoch: 1/10000, d_loss_real_image: 0.0, d_loss_real_latent: 3.308610641863073e-14, d_loss_fake_image: 115119.71875, d_loss_fake_latent: 1.6982652368824347e-06, g_loss: 1070690.875\n",
      "1/1 [==============================] - 0s 28ms/step\n",
      "Epoch: 1/10000, d_loss_real_image: 0.0, d_loss_real_latent: 1.5862976893415287e-13, d_loss_fake_image: 173113.875, d_loss_fake_latent: 3.0917508411221206e-06, g_loss: 1099572.25\n",
      "1/1 [==============================] - 0s 25ms/step\n",
      "Epoch: 1/10000, d_loss_real_image: 0.0, d_loss_real_latent: 1.590067506882073e-15, d_loss_fake_image: 87334.9375, d_loss_fake_latent: 1.8874768556997878e-06, g_loss: 1227766.75\n",
      "1/1 [==============================] - 0s 21ms/step\n",
      "Epoch: 1/10000, d_loss_real_image: 0.0, d_loss_real_latent: 9.823700716215795e-16, d_loss_fake_image: 96053.625, d_loss_fake_latent: 1.744459950714372e-06, g_loss: 1109718.375\n",
      "1/1 [==============================] - 0s 24ms/step\n",
      "Epoch: 1/10000, d_loss_real_image: 0.0, d_loss_real_latent: 9.808553517187622e-17, d_loss_fake_image: 145901.484375, d_loss_fake_latent: 1.6395351849496365e-06, g_loss: 1279119.75\n",
      "1/1 [==============================] - 0s 24ms/step\n",
      "Epoch: 1/10000, d_loss_real_image: 0.0, d_loss_real_latent: 2.436471849810392e-15, d_loss_fake_image: 102227.8984375, d_loss_fake_latent: 8.656049317323777e-07, g_loss: 1239042.75\n",
      "1/1 [==============================] - 0s 25ms/step\n",
      "Epoch: 1/10000, d_loss_real_image: 0.0, d_loss_real_latent: 1.5732648514416628e-18, d_loss_fake_image: 84525.796875, d_loss_fake_latent: 1.0271334076605854e-06, g_loss: 1202055.5\n",
      "1/1 [==============================] - 0s 22ms/step\n",
      "Epoch: 1/10000, d_loss_real_image: 0.0, d_loss_real_latent: 3.91351202136468e-15, d_loss_fake_image: 150884.078125, d_loss_fake_latent: 1.4006466244609328e-06, g_loss: 1063066.25\n",
      "1/1 [==============================] - 0s 24ms/step\n",
      "Epoch: 1/10000, d_loss_real_image: 0.0, d_loss_real_latent: 2.923405468440235e-14, d_loss_fake_image: 186648.984375, d_loss_fake_latent: 5.258756345938309e-07, g_loss: 1048732.75\n",
      "1/1 [==============================] - 0s 22ms/step\n",
      "Epoch: 1/10000, d_loss_real_image: 0.0, d_loss_real_latent: 5.569461327367719e-17, d_loss_fake_image: 263850.6875, d_loss_fake_latent: 1.2199229786347132e-06, g_loss: 1189444.125\n",
      "1/1 [==============================] - 0s 23ms/step\n",
      "Epoch: 1/10000, d_loss_real_image: 0.0, d_loss_real_latent: 4.0226398064276665e-19, d_loss_fake_image: 167640.265625, d_loss_fake_latent: 9.568690302330651e-07, g_loss: 1397511.0\n",
      "1/1 [==============================] - 0s 23ms/step\n",
      "Epoch: 1/10000, d_loss_real_image: 0.0, d_loss_real_latent: 1.783694516415725e-14, d_loss_fake_image: 66837.9375, d_loss_fake_latent: 1.2478487860789755e-06, g_loss: 1536108.5\n",
      "1/1 [==============================] - 0s 31ms/step\n",
      "Epoch: 1/10000, d_loss_real_image: 0.0, d_loss_real_latent: 2.472921583354876e-15, d_loss_fake_image: 93468.296875, d_loss_fake_latent: 1.651752086218039e-06, g_loss: 1570609.0\n",
      "1/1 [==============================] - 0s 24ms/step\n",
      "Epoch: 1/10000, d_loss_real_image: 0.0, d_loss_real_latent: 1.9496972616163963e-15, d_loss_fake_image: 112089.0390625, d_loss_fake_latent: 2.1546818516071653e-06, g_loss: 1427551.75\n",
      "1/1 [==============================] - 0s 28ms/step\n",
      "Epoch: 1/10000, d_loss_real_image: 0.0, d_loss_real_latent: 3.631603362892451e-15, d_loss_fake_image: 274406.71875, d_loss_fake_latent: 2.0014472283946816e-06, g_loss: 1495371.125\n",
      "1/1 [==============================] - 0s 22ms/step\n",
      "Epoch: 1/10000, d_loss_real_image: 0.0, d_loss_real_latent: 4.320453674870619e-17, d_loss_fake_image: 180775.875, d_loss_fake_latent: 4.083166459167842e-06, g_loss: 1466865.0\n",
      "1/1 [==============================] - 0s 22ms/step\n",
      "Epoch: 1/10000, d_loss_real_image: 0.0, d_loss_real_latent: 1.2017412889461787e-12, d_loss_fake_image: 253348.0625, d_loss_fake_latent: 1.7041427327058045e-06, g_loss: 1459838.125\n",
      "1/1 [==============================] - 0s 22ms/step\n",
      "Epoch: 1/10000, d_loss_real_image: 5198830.0, d_loss_real_latent: 2.3196930320289975e-17, d_loss_fake_image: 154109.15625, d_loss_fake_latent: 1.3064441191090737e-06, g_loss: 1215628.625\n",
      "1/1 [==============================] - 0s 26ms/step\n",
      "Epoch: 1/10000, d_loss_real_image: 0.0, d_loss_real_latent: 1.852699495419807e-15, d_loss_fake_image: 695215.8125, d_loss_fake_latent: 1.8170627527069882e-06, g_loss: 1073688.875\n",
      "1/1 [==============================] - 0s 22ms/step\n",
      "Epoch: 1/10000, d_loss_real_image: 0.0, d_loss_real_latent: 4.96074095159265e-14, d_loss_fake_image: 711110.625, d_loss_fake_latent: 1.0037824722530786e-06, g_loss: 1153668.875\n",
      "1/1 [==============================] - 0s 22ms/step\n",
      "Epoch: 1/10000, d_loss_real_image: 0.0, d_loss_real_latent: 8.567981121705093e-17, d_loss_fake_image: 592789.5, d_loss_fake_latent: 2.0872821551165543e-06, g_loss: 1441065.25\n",
      "1/1 [==============================] - 0s 23ms/step\n",
      "Epoch: 1/10000, d_loss_real_image: 0.0, d_loss_real_latent: 4.366081288331289e-17, d_loss_fake_image: 165973.8125, d_loss_fake_latent: 1.6820835071484908e-06, g_loss: 2205074.25\n",
      "1/1 [==============================] - 0s 22ms/step\n",
      "Epoch: 1/10000, d_loss_real_image: 0.0, d_loss_real_latent: 1.7397939210781897e-15, d_loss_fake_image: 40645.328125, d_loss_fake_latent: 7.794502607794129e-07, g_loss: 2272599.5\n",
      "1/1 [==============================] - 0s 23ms/step\n",
      "Epoch: 1/10000, d_loss_real_image: 0.0, d_loss_real_latent: 3.800942560284445e-16, d_loss_fake_image: 205831.40625, d_loss_fake_latent: 1.3534256595448824e-06, g_loss: 2199024.0\n",
      "1/1 [==============================] - 0s 27ms/step\n",
      "Epoch: 1/10000, d_loss_real_image: 0.0, d_loss_real_latent: 1.9997702495680447e-15, d_loss_fake_image: 138581.1875, d_loss_fake_latent: 2.176986981794471e-06, g_loss: 1631454.0\n",
      "1/1 [==============================] - 0s 23ms/step\n",
      "Epoch: 1/10000, d_loss_real_image: 0.0, d_loss_real_latent: 1.482253854162216e-13, d_loss_fake_image: 707256.25, d_loss_fake_latent: 1.019382466438401e-06, g_loss: 1630790.5\n",
      "1/1 [==============================] - 0s 22ms/step\n",
      "Epoch: 1/10000, d_loss_real_image: 0.0, d_loss_real_latent: 8.804506304111364e-19, d_loss_fake_image: 868739.0, d_loss_fake_latent: 1.510658762526873e-06, g_loss: 1579430.125\n",
      "1/1 [==============================] - 0s 22ms/step\n",
      "Epoch: 1/10000, d_loss_real_image: 0.0, d_loss_real_latent: 1.40360691277229e-13, d_loss_fake_image: 680011.5, d_loss_fake_latent: 1.2756395335600246e-06, g_loss: 2076416.625\n",
      "1/1 [==============================] - 0s 25ms/step\n",
      "Epoch: 1/10000, d_loss_real_image: 0.0, d_loss_real_latent: 2.2360494549299214e-16, d_loss_fake_image: 683867.375, d_loss_fake_latent: 1.0974896440529847e-06, g_loss: 2247447.25\n",
      "1/1 [==============================] - 0s 25ms/step\n",
      "Epoch: 1/10000, d_loss_real_image: 0.0, d_loss_real_latent: 1.2847288847673855e-16, d_loss_fake_image: 234887.703125, d_loss_fake_latent: 1.8872179907702957e-06, g_loss: 2728089.5\n",
      "1/1 [==============================] - 0s 26ms/step\n",
      "Epoch: 1/10000, d_loss_real_image: 0.0, d_loss_real_latent: 1.2878182223755363e-17, d_loss_fake_image: 322922.375, d_loss_fake_latent: 1.3162452887627296e-06, g_loss: 2540994.0\n",
      "1/1 [==============================] - 0s 26ms/step\n",
      "Epoch: 1/10000, d_loss_real_image: 0.0, d_loss_real_latent: 2.0365712900274023e-15, d_loss_fake_image: 321240.125, d_loss_fake_latent: 1.9343178792041726e-06, g_loss: 2489863.5\n",
      "1/1 [==============================] - 0s 29ms/step\n",
      "Epoch: 1/10000, d_loss_real_image: 0.0, d_loss_real_latent: 4.935410864913087e-19, d_loss_fake_image: 517688.8125, d_loss_fake_latent: 1.7229265267815208e-06, g_loss: 1960506.25\n",
      "1/1 [==============================] - 0s 24ms/step\n",
      "Epoch: 1/10000, d_loss_real_image: 2511432.0, d_loss_real_latent: 1.7573721883094862e-13, d_loss_fake_image: 672214.625, d_loss_fake_latent: 1.2221098586451262e-06, g_loss: 2224676.25\n",
      "1/1 [==============================] - 0s 21ms/step\n",
      "Epoch: 1/10000, d_loss_real_image: 0.0, d_loss_real_latent: 2.421460235610784e-17, d_loss_fake_image: 742799.75, d_loss_fake_latent: 1.7278694031119812e-06, g_loss: 1877910.5\n",
      "1/1 [==============================] - 0s 108ms/step\n",
      "Epoch: 1/10000, d_loss_real_image: 0.0, d_loss_real_latent: 9.095468904374239e-17, d_loss_fake_image: 709378.5625, d_loss_fake_latent: 9.064716550710727e-07, g_loss: 2023585.0\n",
      "1/1 [==============================] - 0s 22ms/step\n",
      "Epoch: 1/10000, d_loss_real_image: 0.0, d_loss_real_latent: 1.5499488633614468e-17, d_loss_fake_image: 439817.71875, d_loss_fake_latent: 2.428701463941252e-06, g_loss: 2741482.5\n",
      "1/1 [==============================] - 0s 70ms/step\n",
      "Epoch: 1/10000, d_loss_real_image: 0.0, d_loss_real_latent: 1.4159890013315133e-15, d_loss_fake_image: 328498.375, d_loss_fake_latent: 1.047817249855143e-06, g_loss: 3104160.75\n",
      "1/1 [==============================] - 0s 24ms/step\n",
      "Epoch: 1/10000, d_loss_real_image: 0.0, d_loss_real_latent: 1.2802323627212828e-14, d_loss_fake_image: 356395.375, d_loss_fake_latent: 1.6538635918550426e-06, g_loss: 3212535.0\n",
      "1/1 [==============================] - 0s 24ms/step\n",
      "Epoch: 1/10000, d_loss_real_image: 0.0, d_loss_real_latent: 7.224806566530467e-17, d_loss_fake_image: 162289.265625, d_loss_fake_latent: 1.0894373190240003e-06, g_loss: 2429278.75\n",
      "1/1 [==============================] - 0s 24ms/step\n",
      "Epoch: 1/10000, d_loss_real_image: 0.0, d_loss_real_latent: 2.0507031612496135e-17, d_loss_fake_image: 601653.375, d_loss_fake_latent: 9.706366199679906e-07, g_loss: 2722347.75\n",
      "1/1 [==============================] - 0s 23ms/step\n",
      "Epoch: 1/10000, d_loss_real_image: 0.0, d_loss_real_latent: 1.4228927632204442e-17, d_loss_fake_image: 743263.9375, d_loss_fake_latent: 1.1740585250663571e-06, g_loss: 2686422.0\n",
      "1/1 [==============================] - 0s 28ms/step\n",
      "Epoch: 1/10000, d_loss_real_image: 0.0, d_loss_real_latent: 9.567026439791693e-16, d_loss_fake_image: 530941.75, d_loss_fake_latent: 1.0439547395435511e-06, g_loss: 2895630.5\n",
      "1/1 [==============================] - 0s 20ms/step\n",
      "Epoch: 1/10000, d_loss_real_image: 0.0, d_loss_real_latent: 4.4288880534512566e-16, d_loss_fake_image: 648813.125, d_loss_fake_latent: 9.057596344064223e-07, g_loss: 3164072.5\n",
      "1/1 [==============================] - 0s 21ms/step\n",
      "Epoch: 1/10000, d_loss_real_image: 0.0, d_loss_real_latent: 1.3552949825509485e-14, d_loss_fake_image: 338210.5, d_loss_fake_latent: 2.316487098141806e-06, g_loss: 3136304.75\n",
      "1/1 [==============================] - 0s 23ms/step\n",
      "Epoch: 1/10000, d_loss_real_image: 0.0, d_loss_real_latent: 2.753017717051434e-17, d_loss_fake_image: 613633.125, d_loss_fake_latent: 1.5241666915244423e-06, g_loss: 3404318.75\n",
      "1/1 [==============================] - 0s 23ms/step\n",
      "Epoch: 1/10000, d_loss_real_image: 0.0, d_loss_real_latent: 2.6919608690609348e-18, d_loss_fake_image: 673371.625, d_loss_fake_latent: 2.3430602595908567e-06, g_loss: 3092258.5\n",
      "1/1 [==============================] - 0s 23ms/step\n",
      "Epoch: 1/10000, d_loss_real_image: 0.0, d_loss_real_latent: 1.7075831850940637e-14, d_loss_fake_image: 867167.4375, d_loss_fake_latent: 7.642136665708676e-07, g_loss: 3602222.5\n",
      "1/1 [==============================] - 0s 31ms/step\n",
      "Epoch: 1/10000, d_loss_real_image: 0.0, d_loss_real_latent: 3.035106074886912e-14, d_loss_fake_image: 728069.0, d_loss_fake_latent: 6.701540087306057e-07, g_loss: 3682255.5\n",
      "1/1 [==============================] - 0s 22ms/step\n",
      "Epoch: 1/10000, d_loss_real_image: 0.0, d_loss_real_latent: 9.026993073469752e-18, d_loss_fake_image: 1049647.75, d_loss_fake_latent: 8.698499982529029e-07, g_loss: 3650738.5\n",
      "1/1 [==============================] - 0s 23ms/step\n",
      "Epoch: 1/10000, d_loss_real_image: 0.0, d_loss_real_latent: 1.1322787037804745e-16, d_loss_fake_image: 272910.625, d_loss_fake_latent: 1.214487497236405e-06, g_loss: 4171029.0\n",
      "1/1 [==============================] - 0s 21ms/step\n",
      "Epoch: 1/10000, d_loss_real_image: 0.0, d_loss_real_latent: 3.0151175372877207e-15, d_loss_fake_image: 249220.78125, d_loss_fake_latent: 8.100685704448551e-07, g_loss: 3443970.0\n",
      "1/1 [==============================] - 0s 24ms/step\n",
      "Epoch: 1/10000, d_loss_real_image: 0.0, d_loss_real_latent: 9.066111271817997e-17, d_loss_fake_image: 699857.125, d_loss_fake_latent: 1.1631864254013635e-06, g_loss: 3702298.0\n",
      "1/1 [==============================] - 0s 26ms/step\n",
      "Epoch: 1/10000, d_loss_real_image: 0.0, d_loss_real_latent: 2.8363210499491486e-18, d_loss_fake_image: 741237.0, d_loss_fake_latent: 1.436884645045211e-06, g_loss: 3313950.25\n",
      "1/1 [==============================] - 0s 21ms/step\n",
      "Epoch: 1/10000, d_loss_real_image: 0.0, d_loss_real_latent: 1.1671422622521062e-15, d_loss_fake_image: 1243697.25, d_loss_fake_latent: 5.325015308699221e-07, g_loss: 3219131.75\n",
      "1/1 [==============================] - 0s 26ms/step\n",
      "Epoch: 1/10000, d_loss_real_image: 0.0, d_loss_real_latent: 3.2861799173636625e-18, d_loss_fake_image: 581796.5, d_loss_fake_latent: 1.3796509392705048e-06, g_loss: 2896330.0\n",
      "1/1 [==============================] - 0s 22ms/step\n",
      "Epoch: 1/10000, d_loss_real_image: 0.0, d_loss_real_latent: 1.0849408778597388e-16, d_loss_fake_image: 630794.8125, d_loss_fake_latent: 1.925874812513939e-06, g_loss: 3627260.25\n",
      "1/1 [==============================] - 0s 25ms/step\n",
      "Epoch: 1/10000, d_loss_real_image: 0.0, d_loss_real_latent: 3.967086666681335e-18, d_loss_fake_image: 526284.1875, d_loss_fake_latent: 2.9363327485043555e-06, g_loss: 4318253.0\n",
      "1/1 [==============================] - 0s 22ms/step\n",
      "Epoch: 1/10000, d_loss_real_image: 0.0, d_loss_real_latent: 7.037827352146531e-15, d_loss_fake_image: 337110.90625, d_loss_fake_latent: 1.0150700973099447e-06, g_loss: 4506855.5\n",
      "1/1 [==============================] - 0s 23ms/step\n",
      "Epoch: 1/10000, d_loss_real_image: 0.0, d_loss_real_latent: 1.4445960568173696e-15, d_loss_fake_image: 241008.4375, d_loss_fake_latent: 1.704182977846358e-06, g_loss: 3910176.25\n",
      "1/1 [==============================] - 0s 22ms/step\n",
      "Epoch: 1/10000, d_loss_real_image: 0.0, d_loss_real_latent: 3.5247908141777893e-15, d_loss_fake_image: 460863.1875, d_loss_fake_latent: 1.333232603428769e-06, g_loss: 3581573.5\n",
      "1/1 [==============================] - 0s 25ms/step\n",
      "Epoch: 1/10000, d_loss_real_image: 0.0, d_loss_real_latent: 1.894582151227539e-16, d_loss_fake_image: 994844.75, d_loss_fake_latent: 1.4531501619785558e-06, g_loss: 2927105.5\n",
      "1/1 [==============================] - 0s 27ms/step\n",
      "Epoch: 1/10000, d_loss_real_image: 0.0, d_loss_real_latent: 1.5258562684913293e-15, d_loss_fake_image: 1150693.125, d_loss_fake_latent: 1.1298336630716221e-06, g_loss: 2244271.5\n",
      "1/1 [==============================] - 0s 21ms/step\n",
      "Epoch: 1/10000, d_loss_real_image: 190211504.0, d_loss_real_latent: 3.1242712850685934e-15, d_loss_fake_image: 710915.75, d_loss_fake_latent: 3.4335064356127987e-06, g_loss: 2861596.0\n",
      "1/1 [==============================] - 0s 28ms/step\n",
      "Epoch: 1/10000, d_loss_real_image: 0.0, d_loss_real_latent: 3.496245486217964e-16, d_loss_fake_image: 1136049.75, d_loss_fake_latent: 1.6469606407554238e-06, g_loss: 3165848.5\n",
      "1/1 [==============================] - 0s 26ms/step\n",
      "Epoch: 1/10000, d_loss_real_image: 0.0, d_loss_real_latent: 2.6868259898985567e-15, d_loss_fake_image: 2729760.5, d_loss_fake_latent: 1.1370169659130624e-06, g_loss: 2912258.25\n",
      "1/1 [==============================] - 0s 24ms/step\n",
      "Epoch: 1/10000, d_loss_real_image: 0.0, d_loss_real_latent: 2.5931586725472765e-14, d_loss_fake_image: 742213.375, d_loss_fake_latent: 7.628902380929503e-07, g_loss: 3385975.75\n",
      "1/1 [==============================] - 0s 21ms/step\n",
      "Epoch: 1/10000, d_loss_real_image: 124188.0, d_loss_real_latent: 3.4550577150643357e-16, d_loss_fake_image: 1130360.25, d_loss_fake_latent: 9.901103794618393e-07, g_loss: 3610132.5\n",
      "1/1 [==============================] - 0s 24ms/step\n",
      "Epoch: 1/10000, d_loss_real_image: 0.0, d_loss_real_latent: 2.9124558735310786e-15, d_loss_fake_image: 2012221.75, d_loss_fake_latent: 1.0952948059639311e-06, g_loss: 3813799.0\n",
      "1/1 [==============================] - 0s 28ms/step\n",
      "Epoch: 1/10000, d_loss_real_image: 18538360.0, d_loss_real_latent: 5.626864750203143e-16, d_loss_fake_image: 1017635.625, d_loss_fake_latent: 2.028341441473458e-06, g_loss: 4474063.5\n",
      "1/1 [==============================] - 0s 27ms/step\n",
      "Epoch: 1/10000, d_loss_real_image: 0.0, d_loss_real_latent: 7.467866641212029e-17, d_loss_fake_image: 1741237.125, d_loss_fake_latent: 4.932219326292397e-07, g_loss: 3585028.5\n",
      "1/1 [==============================] - 0s 29ms/step\n",
      "Epoch: 1/10000, d_loss_real_image: 0.0, d_loss_real_latent: 2.5212663593963296e-16, d_loss_fake_image: 2789296.5, d_loss_fake_latent: 1.5436972944371519e-06, g_loss: 3583869.75\n",
      "1/1 [==============================] - 0s 22ms/step\n",
      "Epoch: 1/10000, d_loss_real_image: 0.0, d_loss_real_latent: 2.152271427894081e-18, d_loss_fake_image: 1372368.5, d_loss_fake_latent: 2.74717513093492e-06, g_loss: 4646382.0\n",
      "1/1 [==============================] - 0s 29ms/step\n",
      "Epoch: 1/10000, d_loss_real_image: 0.0, d_loss_real_latent: 1.631049290210841e-16, d_loss_fake_image: 1074452.75, d_loss_fake_latent: 1.4390570868272334e-06, g_loss: 5774879.5\n",
      "1/1 [==============================] - 0s 25ms/step\n",
      "Epoch: 2/10000, d_loss_real_image: 0.0, d_loss_real_latent: 4.914801272665366e-14, d_loss_fake_image: 1772831.0, d_loss_fake_latent: 8.700963007868268e-07, g_loss: 5209473.0\n",
      "1/1 [==============================] - 0s 37ms/step\n",
      "Epoch: 2/10000, d_loss_real_image: 0.0, d_loss_real_latent: 1.6632722764089666e-16, d_loss_fake_image: 1332873.375, d_loss_fake_latent: 2.4334515273949364e-06, g_loss: 6135020.5\n",
      "1/1 [==============================] - 0s 27ms/step\n",
      "Epoch: 2/10000, d_loss_real_image: 0.0, d_loss_real_latent: 1.7635777856739228e-16, d_loss_fake_image: 1089017.5, d_loss_fake_latent: 1.1525009995239088e-06, g_loss: 5507574.5\n",
      "1/1 [==============================] - 0s 27ms/step\n",
      "Epoch: 2/10000, d_loss_real_image: 0.0, d_loss_real_latent: 3.350109274108344e-17, d_loss_fake_image: 2482055.5, d_loss_fake_latent: 1.4775404224565136e-06, g_loss: 6130599.0\n",
      "1/1 [==============================] - 0s 32ms/step\n",
      "Epoch: 2/10000, d_loss_real_image: 0.0, d_loss_real_latent: 2.0924358234042546e-14, d_loss_fake_image: 2099751.25, d_loss_fake_latent: 5.996767526994518e-07, g_loss: 5026282.0\n",
      "1/1 [==============================] - 0s 23ms/step\n",
      "Epoch: 2/10000, d_loss_real_image: 0.0, d_loss_real_latent: 8.294900478837165e-15, d_loss_fake_image: 2784721.5, d_loss_fake_latent: 1.3749399840889964e-06, g_loss: 5353775.0\n",
      "1/1 [==============================] - 0s 30ms/step\n",
      "Epoch: 2/10000, d_loss_real_image: 0.0, d_loss_real_latent: 8.89433067400911e-18, d_loss_fake_image: 1723832.875, d_loss_fake_latent: 5.565979108723695e-07, g_loss: 3654974.0\n",
      "1/1 [==============================] - 0s 25ms/step\n",
      "Epoch: 2/10000, d_loss_real_image: 0.0, d_loss_real_latent: 4.6276767547105344e-14, d_loss_fake_image: 3840237.5, d_loss_fake_latent: 5.905891384827555e-07, g_loss: 5453743.0\n",
      "1/1 [==============================] - 0s 27ms/step\n",
      "Epoch: 2/10000, d_loss_real_image: 0.0, d_loss_real_latent: 5.023114170839499e-15, d_loss_fake_image: 2291440.75, d_loss_fake_latent: 2.6795185021910584e-06, g_loss: 5871145.5\n",
      "1/1 [==============================] - 0s 27ms/step\n",
      "Epoch: 2/10000, d_loss_real_image: 0.0, d_loss_real_latent: 1.19113076471394e-14, d_loss_fake_image: 1762083.125, d_loss_fake_latent: 1.6563910776312696e-06, g_loss: 5801232.5\n",
      "1/1 [==============================] - 0s 29ms/step\n",
      "Epoch: 2/10000, d_loss_real_image: 0.0, d_loss_real_latent: 1.1992576223263714e-14, d_loss_fake_image: 1777874.0, d_loss_fake_latent: 2.628214588185074e-06, g_loss: 6612643.0\n",
      "1/1 [==============================] - 0s 29ms/step\n",
      "Epoch: 2/10000, d_loss_real_image: 0.0, d_loss_real_latent: 3.9174471445317214e-18, d_loss_fake_image: 878043.375, d_loss_fake_latent: 1.5586401787004434e-06, g_loss: 7035437.0\n",
      "1/1 [==============================] - 0s 30ms/step\n",
      "Epoch: 2/10000, d_loss_real_image: 0.0, d_loss_real_latent: 1.0073651585903006e-18, d_loss_fake_image: 1845644.75, d_loss_fake_latent: 1.2685134151979582e-06, g_loss: 5748324.0\n",
      "1/1 [==============================] - 0s 22ms/step\n",
      "Epoch: 2/10000, d_loss_real_image: 0.0, d_loss_real_latent: 6.253491247014571e-20, d_loss_fake_image: 2271623.75, d_loss_fake_latent: 1.7842672832557582e-06, g_loss: 5543514.0\n",
      "1/1 [==============================] - 0s 29ms/step\n",
      "Epoch: 2/10000, d_loss_real_image: 0.0, d_loss_real_latent: 2.6494899422538896e-16, d_loss_fake_image: 2835253.25, d_loss_fake_latent: 1.2243402807143866e-06, g_loss: 5185620.0\n",
      "1/1 [==============================] - 0s 28ms/step\n",
      "Epoch: 2/10000, d_loss_real_image: 0.0, d_loss_real_latent: 7.343001803394172e-14, d_loss_fake_image: 3663864.5, d_loss_fake_latent: 1.363702722301241e-06, g_loss: 4143363.0\n",
      "1/1 [==============================] - 0s 27ms/step\n",
      "Epoch: 2/10000, d_loss_real_image: 0.0, d_loss_real_latent: 1.691936069867399e-17, d_loss_fake_image: 3067557.5, d_loss_fake_latent: 6.091433988331119e-07, g_loss: 6218509.5\n",
      "1/1 [==============================] - 0s 24ms/step\n",
      "Epoch: 2/10000, d_loss_real_image: 0.0, d_loss_real_latent: 1.4422620575312104e-15, d_loss_fake_image: 3242531.0, d_loss_fake_latent: 2.494440650480101e-06, g_loss: 6862635.0\n",
      "1/1 [==============================] - 0s 25ms/step\n",
      "Epoch: 2/10000, d_loss_real_image: 0.0, d_loss_real_latent: 6.3210909420695176e-15, d_loss_fake_image: 2060829.25, d_loss_fake_latent: 8.950146366260014e-07, g_loss: 6803460.0\n",
      "1/1 [==============================] - 0s 27ms/step\n",
      "Epoch: 2/10000, d_loss_real_image: 0.0, d_loss_real_latent: 7.7492414943923785e-19, d_loss_fake_image: 2272707.0, d_loss_fake_latent: 1.50259040765377e-06, g_loss: 7824935.0\n",
      "1/1 [==============================] - 0s 27ms/step\n",
      "Epoch: 2/10000, d_loss_real_image: 484137.25, d_loss_real_latent: 3.753046711705036e-15, d_loss_fake_image: 1819967.25, d_loss_fake_latent: 1.303684143749706e-06, g_loss: 6046164.0\n",
      "1/1 [==============================] - 0s 29ms/step\n",
      "Epoch: 2/10000, d_loss_real_image: 0.0, d_loss_real_latent: 4.838862905471534e-15, d_loss_fake_image: 3528015.0, d_loss_fake_latent: 2.1070591174066067e-06, g_loss: 5423345.0\n",
      "1/1 [==============================] - 0s 25ms/step\n",
      "Epoch: 2/10000, d_loss_real_image: 0.0, d_loss_real_latent: 1.8020117733066887e-15, d_loss_fake_image: 2643567.5, d_loss_fake_latent: 1.7471862747697742e-06, g_loss: 5617122.0\n",
      "1/1 [==============================] - 0s 25ms/step\n",
      "Epoch: 2/10000, d_loss_real_image: 0.0, d_loss_real_latent: 6.4417459480536704e-18, d_loss_fake_image: 4768714.0, d_loss_fake_latent: 1.282921175516094e-06, g_loss: 7219640.0\n",
      "1/1 [==============================] - 0s 23ms/step\n",
      "Epoch: 2/10000, d_loss_real_image: 0.0, d_loss_real_latent: 1.8329746656468756e-17, d_loss_fake_image: 2371419.25, d_loss_fake_latent: 9.445394653084804e-07, g_loss: 6399236.0\n",
      "1/1 [==============================] - 0s 21ms/step\n",
      "Epoch: 2/10000, d_loss_real_image: 0.0, d_loss_real_latent: 6.102930287610113e-18, d_loss_fake_image: 2351406.5, d_loss_fake_latent: 4.6104980810923735e-07, g_loss: 7204569.0\n",
      "1/1 [==============================] - 0s 21ms/step\n",
      "Epoch: 2/10000, d_loss_real_image: 0.0, d_loss_real_latent: 2.7300210703185e-16, d_loss_fake_image: 2669102.0, d_loss_fake_latent: 9.803804914554348e-07, g_loss: 6156347.0\n",
      "1/1 [==============================] - 0s 28ms/step\n",
      "Epoch: 2/10000, d_loss_real_image: 0.0, d_loss_real_latent: 5.309774508783535e-18, d_loss_fake_image: 2320249.5, d_loss_fake_latent: 3.378226892891689e-06, g_loss: 5999602.0\n",
      "1/1 [==============================] - 0s 24ms/step\n",
      "Epoch: 2/10000, d_loss_real_image: 0.0, d_loss_real_latent: 6.505791981932475e-15, d_loss_fake_image: 2708929.75, d_loss_fake_latent: 7.825741477063275e-07, g_loss: 8384381.0\n",
      "1/1 [==============================] - 0s 54ms/step\n",
      "Epoch: 2/10000, d_loss_real_image: 0.0, d_loss_real_latent: 2.372910391569311e-16, d_loss_fake_image: 2015556.625, d_loss_fake_latent: 1.0677558748284355e-06, g_loss: 7012929.0\n",
      "1/1 [==============================] - 0s 24ms/step\n",
      "Epoch: 2/10000, d_loss_real_image: 0.0, d_loss_real_latent: 7.520058429141675e-17, d_loss_fake_image: 3188561.25, d_loss_fake_latent: 1.3928020052844658e-06, g_loss: 6174550.0\n",
      "1/1 [==============================] - 0s 30ms/step\n",
      "Epoch: 2/10000, d_loss_real_image: 0.0, d_loss_real_latent: 3.556944462788248e-18, d_loss_fake_image: 983552.375, d_loss_fake_latent: 5.084124268250889e-07, g_loss: 6071073.5\n",
      "1/1 [==============================] - 0s 24ms/step\n",
      "Epoch: 2/10000, d_loss_real_image: 0.0, d_loss_real_latent: 2.8951720554001525e-18, d_loss_fake_image: 2651468.0, d_loss_fake_latent: 5.352815151127288e-07, g_loss: 7403450.0\n",
      "1/1 [==============================] - 0s 22ms/step\n",
      "Epoch: 2/10000, d_loss_real_image: 0.0, d_loss_real_latent: 6.967596243982206e-18, d_loss_fake_image: 1361561.5, d_loss_fake_latent: 8.901902788238658e-07, g_loss: 7427293.5\n",
      "1/1 [==============================] - 0s 24ms/step\n",
      "Epoch: 2/10000, d_loss_real_image: 0.0, d_loss_real_latent: 1.5214480244836872e-17, d_loss_fake_image: 2604205.0, d_loss_fake_latent: 1.4392543334906804e-06, g_loss: 7418006.5\n",
      "1/1 [==============================] - 0s 24ms/step\n",
      "Epoch: 2/10000, d_loss_real_image: 0.0, d_loss_real_latent: 2.537411707343503e-14, d_loss_fake_image: 1487118.375, d_loss_fake_latent: 1.3342171314434381e-06, g_loss: 9437956.0\n",
      "1/1 [==============================] - 0s 26ms/step\n",
      "Epoch: 2/10000, d_loss_real_image: 0.0, d_loss_real_latent: 4.591347913943447e-16, d_loss_fake_image: 2451191.0, d_loss_fake_latent: 2.2987337615631986e-06, g_loss: 8390833.0\n",
      "1/1 [==============================] - 0s 29ms/step\n",
      "Epoch: 2/10000, d_loss_real_image: 0.0, d_loss_real_latent: 2.0552485187155923e-17, d_loss_fake_image: 1076333.0, d_loss_fake_latent: 6.368045433191583e-07, g_loss: 9790790.0\n",
      "1/1 [==============================] - 0s 24ms/step\n",
      "Epoch: 2/10000, d_loss_real_image: 0.0, d_loss_real_latent: 2.6893884763222378e-15, d_loss_fake_image: 2609514.0, d_loss_fake_latent: 4.362289871551184e-07, g_loss: 9478511.0\n",
      "1/1 [==============================] - 0s 27ms/step\n",
      "Epoch: 2/10000, d_loss_real_image: 0.0, d_loss_real_latent: 2.0865404635034529e-16, d_loss_fake_image: 1687947.25, d_loss_fake_latent: 1.4778005379412207e-06, g_loss: 9008480.0\n",
      "1/1 [==============================] - 0s 26ms/step\n",
      "Epoch: 2/10000, d_loss_real_image: 0.0, d_loss_real_latent: 1.2171048182832564e-15, d_loss_fake_image: 3257285.5, d_loss_fake_latent: 8.578011261306528e-07, g_loss: 9621772.0\n",
      "1/1 [==============================] - 0s 26ms/step\n",
      "Epoch: 2/10000, d_loss_real_image: 0.0, d_loss_real_latent: 1.0043773904895651e-16, d_loss_fake_image: 1160432.125, d_loss_fake_latent: 1.79128335275891e-06, g_loss: 10411501.0\n",
      "1/1 [==============================] - 0s 23ms/step\n",
      "Epoch: 2/10000, d_loss_real_image: 0.0, d_loss_real_latent: 1.7114763920416168e-16, d_loss_fake_image: 4445176.0, d_loss_fake_latent: 9.592801006874652e-07, g_loss: 10620664.0\n",
      "1/1 [==============================] - 0s 29ms/step\n",
      "Epoch: 2/10000, d_loss_real_image: 0.0, d_loss_real_latent: 3.714124700745754e-15, d_loss_fake_image: 1861431.75, d_loss_fake_latent: 7.598860065627377e-07, g_loss: 10128444.0\n",
      "1/1 [==============================] - 0s 27ms/step\n",
      "Epoch: 2/10000, d_loss_real_image: 0.0, d_loss_real_latent: 1.2147829739198902e-14, d_loss_fake_image: 2197942.0, d_loss_fake_latent: 1.1698656408043462e-06, g_loss: 10207899.0\n",
      "1/1 [==============================] - 0s 27ms/step\n",
      "Epoch: 2/10000, d_loss_real_image: 0.0, d_loss_real_latent: 1.5115031893209868e-14, d_loss_fake_image: 2364563.0, d_loss_fake_latent: 1.7941782743946533e-06, g_loss: 6050541.5\n",
      "1/1 [==============================] - 0s 27ms/step\n",
      "Epoch: 2/10000, d_loss_real_image: 0.0, d_loss_real_latent: 8.294996134003201e-18, d_loss_fake_image: 2319238.75, d_loss_fake_latent: 1.1265941566307447e-06, g_loss: 7895511.0\n",
      "1/1 [==============================] - 0s 25ms/step\n",
      "Epoch: 2/10000, d_loss_real_image: 0.0, d_loss_real_latent: 1.6692784917467403e-14, d_loss_fake_image: 2645378.25, d_loss_fake_latent: 1.170299810837605e-06, g_loss: 8742222.0\n",
      "1/1 [==============================] - 0s 27ms/step\n",
      "Epoch: 2/10000, d_loss_real_image: 0.0, d_loss_real_latent: 3.030582762446002e-18, d_loss_fake_image: 2459670.0, d_loss_fake_latent: 1.0391000841991627e-06, g_loss: 9355615.0\n",
      "1/1 [==============================] - 0s 25ms/step\n",
      "Epoch: 2/10000, d_loss_real_image: 0.0, d_loss_real_latent: 2.2598280520395137e-16, d_loss_fake_image: 1612573.0, d_loss_fake_latent: 1.0561032013356453e-06, g_loss: 9246333.0\n",
      "1/1 [==============================] - 0s 26ms/step\n",
      "Epoch: 2/10000, d_loss_real_image: 0.0, d_loss_real_latent: 6.799817711412973e-17, d_loss_fake_image: 2103596.0, d_loss_fake_latent: 9.749868468134082e-07, g_loss: 10118618.0\n",
      "1/1 [==============================] - 0s 22ms/step\n",
      "Epoch: 2/10000, d_loss_real_image: 0.0, d_loss_real_latent: 4.300449271285535e-16, d_loss_fake_image: 982701.375, d_loss_fake_latent: 1.049950242304476e-06, g_loss: 7750475.0\n",
      "1/1 [==============================] - 0s 27ms/step\n",
      "Epoch: 2/10000, d_loss_real_image: 0.0, d_loss_real_latent: 5.907208187741797e-18, d_loss_fake_image: 3597455.0, d_loss_fake_latent: 8.32634952985245e-07, g_loss: 7044076.5\n",
      "1/1 [==============================] - 0s 29ms/step\n",
      "Epoch: 2/10000, d_loss_real_image: 0.0, d_loss_real_latent: 3.498430037128492e-16, d_loss_fake_image: 2898999.25, d_loss_fake_latent: 6.65814411604515e-07, g_loss: 5879739.0\n",
      "1/1 [==============================] - 0s 26ms/step\n",
      "Epoch: 2/10000, d_loss_real_image: 0.0, d_loss_real_latent: 2.660039472914146e-17, d_loss_fake_image: 3156704.0, d_loss_fake_latent: 2.60585647993139e-06, g_loss: 8033690.0\n",
      "1/1 [==============================] - 0s 38ms/step\n",
      "Epoch: 2/10000, d_loss_real_image: 0.0, d_loss_real_latent: 3.7071362554144324e-14, d_loss_fake_image: 3740394.75, d_loss_fake_latent: 1.1576847782635014e-06, g_loss: 9905938.0\n",
      "1/1 [==============================] - 0s 23ms/step\n",
      "Epoch: 2/10000, d_loss_real_image: 0.0, d_loss_real_latent: 5.786166848706912e-18, d_loss_fake_image: 3269960.0, d_loss_fake_latent: 1.3278350934342598e-06, g_loss: 8128446.0\n",
      "1/1 [==============================] - 0s 33ms/step\n",
      "Epoch: 2/10000, d_loss_real_image: 0.0, d_loss_real_latent: 2.8043558347365903e-15, d_loss_fake_image: 2312208.5, d_loss_fake_latent: 7.863674227337469e-07, g_loss: 8255090.0\n",
      "1/1 [==============================] - 0s 26ms/step\n",
      "Epoch: 2/10000, d_loss_real_image: 0.0, d_loss_real_latent: 9.160037908306079e-15, d_loss_fake_image: 986980.25, d_loss_fake_latent: 1.2331360039752326e-06, g_loss: 10422230.0\n",
      "1/1 [==============================] - 0s 27ms/step\n",
      "Epoch: 2/10000, d_loss_real_image: 0.0, d_loss_real_latent: 5.699316242742131e-16, d_loss_fake_image: 1531432.75, d_loss_fake_latent: 1.032250565913273e-06, g_loss: 12564974.0\n",
      "1/1 [==============================] - 0s 27ms/step\n",
      "Epoch: 2/10000, d_loss_real_image: 0.0, d_loss_real_latent: 1.3553417286052416e-12, d_loss_fake_image: 4405162.0, d_loss_fake_latent: 2.2458284547610674e-06, g_loss: 11527260.0\n",
      "1/1 [==============================] - 0s 23ms/step\n",
      "Epoch: 2/10000, d_loss_real_image: 0.0, d_loss_real_latent: 8.851642292403983e-13, d_loss_fake_image: 1129597.125, d_loss_fake_latent: 8.761399499235267e-07, g_loss: 10237386.0\n",
      "1/1 [==============================] - 0s 22ms/step\n",
      "Epoch: 2/10000, d_loss_real_image: 0.0, d_loss_real_latent: 4.156924302933622e-16, d_loss_fake_image: 1450689.375, d_loss_fake_latent: 8.916606475395383e-07, g_loss: 13042390.0\n",
      "1/1 [==============================] - 0s 26ms/step\n",
      "Epoch: 2/10000, d_loss_real_image: 0.0, d_loss_real_latent: 6.838762962838745e-16, d_loss_fake_image: 993255.3125, d_loss_fake_latent: 9.815264547796687e-07, g_loss: 8977332.0\n",
      "1/1 [==============================] - 0s 25ms/step\n",
      "Epoch: 2/10000, d_loss_real_image: 0.0, d_loss_real_latent: 4.61997180420913e-16, d_loss_fake_image: 2999999.0, d_loss_fake_latent: 9.957207112165634e-07, g_loss: 9153334.0\n",
      "1/1 [==============================] - 0s 32ms/step\n",
      "Epoch: 2/10000, d_loss_real_image: 0.0, d_loss_real_latent: 6.423249362376372e-18, d_loss_fake_image: 6225362.0, d_loss_fake_latent: 1.9132062334392685e-06, g_loss: 7609614.0\n",
      "1/1 [==============================] - 0s 28ms/step\n",
      "Epoch: 2/10000, d_loss_real_image: 0.0, d_loss_real_latent: 1.12112575727107e-18, d_loss_fake_image: 2005382.125, d_loss_fake_latent: 9.889963621390052e-07, g_loss: 9329397.0\n",
      "1/1 [==============================] - 0s 30ms/step\n",
      "Epoch: 2/10000, d_loss_real_image: 16709136.0, d_loss_real_latent: 1.1643880270906292e-19, d_loss_fake_image: 3897613.5, d_loss_fake_latent: 9.932464308803901e-07, g_loss: 7965818.0\n",
      "1/1 [==============================] - 0s 27ms/step\n",
      "Epoch: 2/10000, d_loss_real_image: 0.0, d_loss_real_latent: 1.2552778056173434e-18, d_loss_fake_image: 3055931.5, d_loss_fake_latent: 5.467647952173138e-07, g_loss: 5796757.0\n",
      "1/1 [==============================] - 0s 25ms/step\n",
      "Epoch: 2/10000, d_loss_real_image: 0.0, d_loss_real_latent: 3.5184623663310564e-18, d_loss_fake_image: 5899201.0, d_loss_fake_latent: 7.6959804573562e-07, g_loss: 6295020.5\n",
      "1/1 [==============================] - 0s 32ms/step\n",
      "Epoch: 2/10000, d_loss_real_image: 748818.875, d_loss_real_latent: 2.196732567798541e-16, d_loss_fake_image: 5814448.5, d_loss_fake_latent: 8.818325909487612e-07, g_loss: 3568506.0\n",
      "1/1 [==============================] - 0s 22ms/step\n",
      "Epoch: 2/10000, d_loss_real_image: 0.0, d_loss_real_latent: 3.9397552196529864e-14, d_loss_fake_image: 4506236.0, d_loss_fake_latent: 5.173785211809445e-06, g_loss: 7436811.5\n",
      "1/1 [==============================] - 0s 32ms/step\n",
      "Epoch: 2/10000, d_loss_real_image: 0.0, d_loss_real_latent: 3.24974381079259e-16, d_loss_fake_image: 4395801.0, d_loss_fake_latent: 9.168349492938432e-07, g_loss: 7006069.0\n",
      "1/1 [==============================] - 0s 30ms/step\n",
      "Epoch: 2/10000, d_loss_real_image: 0.0, d_loss_real_latent: 4.635025395343284e-19, d_loss_fake_image: 2643197.5, d_loss_fake_latent: 9.180157576338388e-07, g_loss: 10627468.0\n",
      "1/1 [==============================] - 0s 22ms/step\n",
      "Epoch: 2/10000, d_loss_real_image: 0.0, d_loss_real_latent: 3.074698099495384e-16, d_loss_fake_image: 3355275.0, d_loss_fake_latent: 7.614600008309935e-07, g_loss: 11962890.0\n",
      "1/1 [==============================] - 0s 26ms/step\n",
      "Epoch: 2/10000, d_loss_real_image: 0.0, d_loss_real_latent: 1.1071441301722392e-18, d_loss_fake_image: 2857552.0, d_loss_fake_latent: 1.7374602521158522e-06, g_loss: 11677510.0\n",
      "1/1 [==============================] - 0s 26ms/step\n",
      "Epoch: 2/10000, d_loss_real_image: 0.0, d_loss_real_latent: 7.332079715879978e-16, d_loss_fake_image: 1498426.25, d_loss_fake_latent: 6.988561835896689e-07, g_loss: 10028158.0\n",
      "1/1 [==============================] - 0s 29ms/step\n",
      "Epoch: 2/10000, d_loss_real_image: 0.0, d_loss_real_latent: 1.8471389094095397e-16, d_loss_fake_image: 2497756.75, d_loss_fake_latent: 4.3899541424252675e-07, g_loss: 12387406.0\n",
      "1/1 [==============================] - 0s 29ms/step\n",
      "Epoch: 2/10000, d_loss_real_image: 0.0, d_loss_real_latent: 2.6995903528972054e-15, d_loss_fake_image: 1092581.75, d_loss_fake_latent: 1.1963691122218734e-06, g_loss: 10041088.0\n",
      "1/1 [==============================] - 0s 28ms/step\n",
      "Epoch: 2/10000, d_loss_real_image: 0.0, d_loss_real_latent: 2.3043944258615027e-16, d_loss_fake_image: 2698027.5, d_loss_fake_latent: 7.541597142335377e-07, g_loss: 9367486.0\n",
      "1/1 [==============================] - 0s 27ms/step\n",
      "Epoch: 2/10000, d_loss_real_image: 0.0, d_loss_real_latent: 1.1641316953993276e-15, d_loss_fake_image: 2333916.0, d_loss_fake_latent: 1.108026594920375e-06, g_loss: 8519103.0\n",
      "1/1 [==============================] - 0s 22ms/step\n",
      "Epoch: 2/10000, d_loss_real_image: 0.0, d_loss_real_latent: 1.4554081681147912e-12, d_loss_fake_image: 2987070.75, d_loss_fake_latent: 9.123701829594211e-07, g_loss: 7707044.0\n",
      "1/1 [==============================] - 0s 30ms/step\n",
      "Epoch: 2/10000, d_loss_real_image: 0.0, d_loss_real_latent: 2.10495100625048e-13, d_loss_fake_image: 3441176.25, d_loss_fake_latent: 1.6657327250868548e-06, g_loss: 6990553.0\n",
      "1/1 [==============================] - 0s 26ms/step\n",
      "Epoch: 2/10000, d_loss_real_image: 0.0, d_loss_real_latent: 1.996618863487785e-15, d_loss_fake_image: 3469711.5, d_loss_fake_latent: 7.438898137479555e-07, g_loss: 10351194.0\n",
      "1/1 [==============================] - 0s 30ms/step\n",
      "Epoch: 2/10000, d_loss_real_image: 0.0, d_loss_real_latent: 1.2613253379649696e-15, d_loss_fake_image: 1616108.125, d_loss_fake_latent: 1.7085881154343951e-06, g_loss: 6938715.0\n",
      "1/1 [==============================] - 0s 26ms/step\n",
      "Epoch: 2/10000, d_loss_real_image: 0.0, d_loss_real_latent: 2.584136850510688e-16, d_loss_fake_image: 3548037.0, d_loss_fake_latent: 7.768809950903233e-07, g_loss: 9784435.0\n",
      "1/1 [==============================] - 0s 27ms/step\n",
      "Epoch: 2/10000, d_loss_real_image: 0.0, d_loss_real_latent: 4.372058389558479e-15, d_loss_fake_image: 1288236.75, d_loss_fake_latent: 1.352096546725079e-06, g_loss: 10110816.0\n",
      "1/1 [==============================] - 0s 23ms/step\n",
      "Epoch: 2/10000, d_loss_real_image: 0.0, d_loss_real_latent: 1.4595383956332933e-14, d_loss_fake_image: 1894580.125, d_loss_fake_latent: 1.156027678916871e-06, g_loss: 8917317.0\n",
      "1/1 [==============================] - 0s 23ms/step\n",
      "Epoch: 2/10000, d_loss_real_image: 0.0, d_loss_real_latent: 1.8905302235405603e-17, d_loss_fake_image: 1799931.25, d_loss_fake_latent: 8.294272220155108e-07, g_loss: 11097272.0\n",
      "1/1 [==============================] - 0s 28ms/step\n",
      "Epoch: 2/10000, d_loss_real_image: 0.0, d_loss_real_latent: 1.941426196644695e-15, d_loss_fake_image: 3867868.75, d_loss_fake_latent: 9.879763638309669e-07, g_loss: 8950730.0\n",
      "1/1 [==============================] - 0s 24ms/step\n",
      "Epoch: 2/10000, d_loss_real_image: 0.0, d_loss_real_latent: 4.076719176674586e-15, d_loss_fake_image: 1652138.375, d_loss_fake_latent: 1.470926918045734e-06, g_loss: 9886704.0\n",
      "1/1 [==============================] - 0s 24ms/step\n",
      "Epoch: 2/10000, d_loss_real_image: 0.0, d_loss_real_latent: 2.040613046701569e-17, d_loss_fake_image: 2984510.75, d_loss_fake_latent: 1.6576138932578033e-06, g_loss: 10531824.0\n",
      "1/1 [==============================] - 0s 24ms/step\n",
      "Epoch: 2/10000, d_loss_real_image: 0.0, d_loss_real_latent: 1.4953267235009136e-14, d_loss_fake_image: 3692822.0, d_loss_fake_latent: 1.067783045982651e-06, g_loss: 8595343.0\n",
      "1/1 [==============================] - 0s 24ms/step\n",
      "Epoch: 2/10000, d_loss_real_image: 0.0, d_loss_real_latent: 1.9127643834566488e-18, d_loss_fake_image: 2236331.5, d_loss_fake_latent: 1.392650801790296e-06, g_loss: 8315424.5\n",
      "1/1 [==============================] - 0s 22ms/step\n",
      "Epoch: 2/10000, d_loss_real_image: 0.0, d_loss_real_latent: 5.670359743813885e-14, d_loss_fake_image: 5840128.5, d_loss_fake_latent: 1.1694419299601577e-06, g_loss: 11315032.0\n",
      "1/1 [==============================] - 0s 25ms/step\n",
      "Epoch: 2/10000, d_loss_real_image: 0.0, d_loss_real_latent: 2.0682718157157497e-17, d_loss_fake_image: 1797030.25, d_loss_fake_latent: 8.118257710520993e-07, g_loss: 11280541.0\n",
      "1/1 [==============================] - 0s 24ms/step\n",
      "Epoch: 2/10000, d_loss_real_image: 0.0, d_loss_real_latent: 1.4655336948339592e-14, d_loss_fake_image: 533109.4375, d_loss_fake_latent: 6.560821930179372e-07, g_loss: 10921281.0\n",
      "1/1 [==============================] - 0s 27ms/step\n",
      "Epoch: 2/10000, d_loss_real_image: 0.0, d_loss_real_latent: 4.0520150372514406e-15, d_loss_fake_image: 3336240.0, d_loss_fake_latent: 1.1247764177824138e-06, g_loss: 8089255.0\n",
      "1/1 [==============================] - 0s 29ms/step\n",
      "Epoch: 2/10000, d_loss_real_image: 0.0, d_loss_real_latent: 2.6628676034284647e-17, d_loss_fake_image: 2494321.75, d_loss_fake_latent: 1.5317898487410275e-06, g_loss: 8504736.0\n",
      "1/1 [==============================] - 0s 27ms/step\n",
      "Epoch: 2/10000, d_loss_real_image: 0.0, d_loss_real_latent: 4.093777467320222e-16, d_loss_fake_image: 3720841.0, d_loss_fake_latent: 7.563859298898024e-07, g_loss: 9634698.0\n",
      "1/1 [==============================] - 0s 25ms/step\n",
      "Epoch: 2/10000, d_loss_real_image: 0.0, d_loss_real_latent: 1.2806749586120468e-15, d_loss_fake_image: 2600361.5, d_loss_fake_latent: 9.116257615460199e-07, g_loss: 8806401.0\n",
      "1/1 [==============================] - 0s 24ms/step\n",
      "Epoch: 2/10000, d_loss_real_image: 0.0, d_loss_real_latent: 2.0810633367082697e-16, d_loss_fake_image: 1635079.625, d_loss_fake_latent: 1.3371897011893452e-06, g_loss: 9352550.0\n",
      "1/1 [==============================] - 0s 25ms/step\n",
      "Epoch: 2/10000, d_loss_real_image: 0.0, d_loss_real_latent: 1.5287994962248012e-15, d_loss_fake_image: 2676077.0, d_loss_fake_latent: 1.2875451602667454e-06, g_loss: 11102054.0\n",
      "1/1 [==============================] - 0s 29ms/step\n",
      "Epoch: 2/10000, d_loss_real_image: 0.0, d_loss_real_latent: 3.1251056972249336e-14, d_loss_fake_image: 2953293.75, d_loss_fake_latent: 1.5073981103341794e-06, g_loss: 6649124.5\n",
      "1/1 [==============================] - 0s 26ms/step\n",
      "Epoch: 2/10000, d_loss_real_image: 28775176.0, d_loss_real_latent: 1.664113856581623e-15, d_loss_fake_image: 3790399.25, d_loss_fake_latent: 6.833867587374698e-07, g_loss: 5103063.0\n",
      "1/1 [==============================] - 0s 27ms/step\n",
      "Epoch: 2/10000, d_loss_real_image: 0.0, d_loss_real_latent: 9.202162630248269e-18, d_loss_fake_image: 7414291.0, d_loss_fake_latent: 7.919815061541158e-07, g_loss: 3650079.75\n",
      "1/1 [==============================] - 0s 27ms/step\n",
      "Epoch: 2/10000, d_loss_real_image: 0.0, d_loss_real_latent: 1.863789459570191e-16, d_loss_fake_image: 8782474.0, d_loss_fake_latent: 9.630550721340114e-07, g_loss: 6109587.0\n",
      "1/1 [==============================] - 0s 26ms/step\n",
      "Epoch: 2/10000, d_loss_real_image: 0.0, d_loss_real_latent: 1.4813315581024334e-15, d_loss_fake_image: 8002458.0, d_loss_fake_latent: 8.407158134104975e-07, g_loss: 4793056.5\n",
      "1/1 [==============================] - 0s 24ms/step\n",
      "Epoch: 2/10000, d_loss_real_image: 0.0, d_loss_real_latent: 2.5487480786721994e-16, d_loss_fake_image: 8232941.0, d_loss_fake_latent: 2.4397879769821884e-06, g_loss: 7995455.0\n",
      "1/1 [==============================] - 0s 23ms/step\n",
      "Epoch: 2/10000, d_loss_real_image: 0.0, d_loss_real_latent: 1.9094745786270458e-16, d_loss_fake_image: 4114163.25, d_loss_fake_latent: 4.434022002897109e-07, g_loss: 11941075.0\n",
      "1/1 [==============================] - 0s 25ms/step\n",
      "Epoch: 2/10000, d_loss_real_image: 0.0, d_loss_real_latent: 1.1197906852808675e-15, d_loss_fake_image: 3610484.0, d_loss_fake_latent: 1.0752855814644136e-06, g_loss: 13028347.0\n",
      "1/1 [==============================] - 0s 27ms/step\n",
      "Epoch: 2/10000, d_loss_real_image: 0.0, d_loss_real_latent: 6.110814589397164e-15, d_loss_fake_image: 2538230.75, d_loss_fake_latent: 1.0466429785083164e-06, g_loss: 15395567.0\n",
      "1/1 [==============================] - 0s 25ms/step\n",
      "Epoch: 2/10000, d_loss_real_image: 0.0, d_loss_real_latent: 2.2313163618756064e-14, d_loss_fake_image: 3063217.5, d_loss_fake_latent: 6.788717428207747e-07, g_loss: 14639448.0\n",
      "1/1 [==============================] - 0s 33ms/step\n",
      "Epoch: 2/10000, d_loss_real_image: 0.0, d_loss_real_latent: 1.557390180151974e-17, d_loss_fake_image: 3004507.0, d_loss_fake_latent: 1.1165059277118417e-06, g_loss: 10709860.0\n",
      "1/1 [==============================] - 0s 22ms/step\n",
      "Epoch: 2/10000, d_loss_real_image: 0.0, d_loss_real_latent: 3.510440434924966e-16, d_loss_fake_image: 2417381.25, d_loss_fake_latent: 1.4547370028594742e-06, g_loss: 11616648.0\n",
      "1/1 [==============================] - 0s 28ms/step\n",
      "Epoch: 2/10000, d_loss_real_image: 0.0, d_loss_real_latent: 1.195106049154082e-16, d_loss_fake_image: 3243386.75, d_loss_fake_latent: 7.954945431265514e-07, g_loss: 7485462.0\n",
      "1/1 [==============================] - 0s 29ms/step\n",
      "Epoch: 2/10000, d_loss_real_image: 0.0, d_loss_real_latent: 1.9974802790544838e-13, d_loss_fake_image: 5673292.0, d_loss_fake_latent: 7.387300797745411e-07, g_loss: 7252903.0\n",
      "1/1 [==============================] - 0s 27ms/step\n",
      "Epoch: 2/10000, d_loss_real_image: 0.0, d_loss_real_latent: 3.435690306725366e-16, d_loss_fake_image: 3758488.5, d_loss_fake_latent: 1.717103714327095e-06, g_loss: 7902686.0\n",
      "1/1 [==============================] - 0s 26ms/step\n",
      "Epoch: 2/10000, d_loss_real_image: 0.0, d_loss_real_latent: 4.934081796599771e-16, d_loss_fake_image: 6842595.5, d_loss_fake_latent: 1.0551651712376042e-06, g_loss: 7384046.0\n",
      "1/1 [==============================] - 0s 29ms/step\n",
      "Epoch: 2/10000, d_loss_real_image: 0.0, d_loss_real_latent: 4.334535253511587e-15, d_loss_fake_image: 6987919.0, d_loss_fake_latent: 8.866666121321032e-07, g_loss: 7597108.5\n",
      "1/1 [==============================] - 0s 30ms/step\n",
      "Epoch: 2/10000, d_loss_real_image: 0.0, d_loss_real_latent: 1.22843331319816e-18, d_loss_fake_image: 7035644.0, d_loss_fake_latent: 3.16645468956267e-06, g_loss: 7691702.0\n",
      "1/1 [==============================] - 0s 30ms/step\n",
      "Epoch: 2/10000, d_loss_real_image: 0.0, d_loss_real_latent: 8.259142982968825e-17, d_loss_fake_image: 7127938.0, d_loss_fake_latent: 7.753138788757497e-07, g_loss: 9434644.0\n",
      "1/1 [==============================] - 0s 31ms/step\n",
      "Epoch: 2/10000, d_loss_real_image: 0.0, d_loss_real_latent: 4.729184166669953e-14, d_loss_fake_image: 3048009.0, d_loss_fake_latent: 1.0691195484469063e-06, g_loss: 10927889.0\n",
      "1/1 [==============================] - 0s 35ms/step\n",
      "Epoch: 2/10000, d_loss_real_image: 0.0, d_loss_real_latent: 8.84370430619813e-13, d_loss_fake_image: 3731044.5, d_loss_fake_latent: 1.1457836990302894e-06, g_loss: 7902555.5\n",
      "1/1 [==============================] - 0s 27ms/step\n"
     ]
    },
    {
     "ename": "KeyboardInterrupt",
     "evalue": "",
     "output_type": "error",
     "traceback": [
      "\u001b[1;31m---------------------------------------------------------------------------\u001b[0m",
      "\u001b[1;31mKeyboardInterrupt\u001b[0m                         Traceback (most recent call last)",
      "\u001b[1;32md:\\GAN_poke\\AEGAN.ipynb Cell 16\u001b[0m in \u001b[0;36m1\n\u001b[1;32m----> <a href='vscode-notebook-cell:/d%3A/GAN_poke/AEGAN.ipynb#X56sZmlsZQ%3D%3D?line=0'>1</a>\u001b[0m aegan\u001b[39m.\u001b[39;49mtrain(epochs\u001b[39m=\u001b[39;49m\u001b[39m10000\u001b[39;49m, batch_size\u001b[39m=\u001b[39;49m\u001b[39m32\u001b[39;49m, train_ds\u001b[39m=\u001b[39;49mtrain_ds)\n",
      "\u001b[1;32md:\\GAN_poke\\AEGAN.ipynb Cell 16\u001b[0m in \u001b[0;36m3\n\u001b[0;32m     <a href='vscode-notebook-cell:/d%3A/GAN_poke/AEGAN.ipynb#X56sZmlsZQ%3D%3D?line=34'>35</a>\u001b[0m \u001b[39m# Train on fake images\u001b[39;00m\n\u001b[0;32m     <a href='vscode-notebook-cell:/d%3A/GAN_poke/AEGAN.ipynb#X56sZmlsZQ%3D%3D?line=35'>36</a>\u001b[0m latent \u001b[39m=\u001b[39m np\u001b[39m.\u001b[39mrandom\u001b[39m.\u001b[39mnormal(\u001b[39m0\u001b[39m, \u001b[39m1\u001b[39m, (batch_size, \u001b[39mself\u001b[39m\u001b[39m.\u001b[39mlatent_dim))\n\u001b[1;32m---> <a href='vscode-notebook-cell:/d%3A/GAN_poke/AEGAN.ipynb#X56sZmlsZQ%3D%3D?line=36'>37</a>\u001b[0m fake_image \u001b[39m=\u001b[39m \u001b[39mself\u001b[39;49m\u001b[39m.\u001b[39;49mgenerator\u001b[39m.\u001b[39;49mpredict(latent, verbose\u001b[39m=\u001b[39;49m\u001b[39m0\u001b[39;49m)\n\u001b[0;32m     <a href='vscode-notebook-cell:/d%3A/GAN_poke/AEGAN.ipynb#X56sZmlsZQ%3D%3D?line=37'>38</a>\u001b[0m fake_latent \u001b[39m=\u001b[39m \u001b[39mself\u001b[39m\u001b[39m.\u001b[39mencoder\u001b[39m.\u001b[39mpredict(fake_image, verbose\u001b[39m=\u001b[39m\u001b[39m0\u001b[39m)\n\u001b[0;32m     <a href='vscode-notebook-cell:/d%3A/GAN_poke/AEGAN.ipynb#X56sZmlsZQ%3D%3D?line=38'>39</a>\u001b[0m d_loss_fake_image \u001b[39m=\u001b[39m \u001b[39mself\u001b[39m\u001b[39m.\u001b[39mdiscriminator_image\u001b[39m.\u001b[39mtrain_on_batch(fake_image, np\u001b[39m.\u001b[39mzeros((batch_size, \u001b[39m1\u001b[39m)))\n",
      "File \u001b[1;32mc:\\Users\\valen\\AppData\\Local\\Programs\\Python\\Python310\\lib\\site-packages\\keras\\utils\\traceback_utils.py:65\u001b[0m, in \u001b[0;36mfilter_traceback.<locals>.error_handler\u001b[1;34m(*args, **kwargs)\u001b[0m\n\u001b[0;32m     63\u001b[0m filtered_tb \u001b[39m=\u001b[39m \u001b[39mNone\u001b[39;00m\n\u001b[0;32m     64\u001b[0m \u001b[39mtry\u001b[39;00m:\n\u001b[1;32m---> 65\u001b[0m     \u001b[39mreturn\u001b[39;00m fn(\u001b[39m*\u001b[39margs, \u001b[39m*\u001b[39m\u001b[39m*\u001b[39mkwargs)\n\u001b[0;32m     66\u001b[0m \u001b[39mexcept\u001b[39;00m \u001b[39mException\u001b[39;00m \u001b[39mas\u001b[39;00m e:\n\u001b[0;32m     67\u001b[0m     filtered_tb \u001b[39m=\u001b[39m _process_traceback_frames(e\u001b[39m.\u001b[39m__traceback__)\n",
      "File \u001b[1;32mc:\\Users\\valen\\AppData\\Local\\Programs\\Python\\Python310\\lib\\site-packages\\keras\\engine\\training.py:2220\u001b[0m, in \u001b[0;36mModel.predict\u001b[1;34m(self, x, batch_size, verbose, steps, callbacks, max_queue_size, workers, use_multiprocessing)\u001b[0m\n\u001b[0;32m   2211\u001b[0m     \u001b[39mexcept\u001b[39;00m \u001b[39mValueError\u001b[39;00m:\n\u001b[0;32m   2212\u001b[0m         warnings\u001b[39m.\u001b[39mwarn(\n\u001b[0;32m   2213\u001b[0m             \u001b[39m\"\u001b[39m\u001b[39mUsing Model.predict with MultiWorkerMirroredStrategy \u001b[39m\u001b[39m\"\u001b[39m\n\u001b[0;32m   2214\u001b[0m             \u001b[39m\"\u001b[39m\u001b[39mor TPUStrategy and AutoShardPolicy.FILE might lead to \u001b[39m\u001b[39m\"\u001b[39m\n\u001b[1;32m   (...)\u001b[0m\n\u001b[0;32m   2217\u001b[0m             stacklevel\u001b[39m=\u001b[39m\u001b[39m2\u001b[39m,\n\u001b[0;32m   2218\u001b[0m         )\n\u001b[1;32m-> 2220\u001b[0m data_handler \u001b[39m=\u001b[39m data_adapter\u001b[39m.\u001b[39;49mget_data_handler(\n\u001b[0;32m   2221\u001b[0m     x\u001b[39m=\u001b[39;49mx,\n\u001b[0;32m   2222\u001b[0m     batch_size\u001b[39m=\u001b[39;49mbatch_size,\n\u001b[0;32m   2223\u001b[0m     steps_per_epoch\u001b[39m=\u001b[39;49msteps,\n\u001b[0;32m   2224\u001b[0m     initial_epoch\u001b[39m=\u001b[39;49m\u001b[39m0\u001b[39;49m,\n\u001b[0;32m   2225\u001b[0m     epochs\u001b[39m=\u001b[39;49m\u001b[39m1\u001b[39;49m,\n\u001b[0;32m   2226\u001b[0m     max_queue_size\u001b[39m=\u001b[39;49mmax_queue_size,\n\u001b[0;32m   2227\u001b[0m     workers\u001b[39m=\u001b[39;49mworkers,\n\u001b[0;32m   2228\u001b[0m     use_multiprocessing\u001b[39m=\u001b[39;49muse_multiprocessing,\n\u001b[0;32m   2229\u001b[0m     model\u001b[39m=\u001b[39;49m\u001b[39mself\u001b[39;49m,\n\u001b[0;32m   2230\u001b[0m     steps_per_execution\u001b[39m=\u001b[39;49m\u001b[39mself\u001b[39;49m\u001b[39m.\u001b[39;49m_steps_per_execution,\n\u001b[0;32m   2231\u001b[0m )\n\u001b[0;32m   2233\u001b[0m \u001b[39m# Container that configures and calls `tf.keras.Callback`s.\u001b[39;00m\n\u001b[0;32m   2234\u001b[0m \u001b[39mif\u001b[39;00m \u001b[39mnot\u001b[39;00m \u001b[39misinstance\u001b[39m(callbacks, callbacks_module\u001b[39m.\u001b[39mCallbackList):\n",
      "File \u001b[1;32mc:\\Users\\valen\\AppData\\Local\\Programs\\Python\\Python310\\lib\\site-packages\\keras\\engine\\data_adapter.py:1582\u001b[0m, in \u001b[0;36mget_data_handler\u001b[1;34m(*args, **kwargs)\u001b[0m\n\u001b[0;32m   1580\u001b[0m \u001b[39mif\u001b[39;00m \u001b[39mgetattr\u001b[39m(kwargs[\u001b[39m\"\u001b[39m\u001b[39mmodel\u001b[39m\u001b[39m\"\u001b[39m], \u001b[39m\"\u001b[39m\u001b[39m_cluster_coordinator\u001b[39m\u001b[39m\"\u001b[39m, \u001b[39mNone\u001b[39;00m):\n\u001b[0;32m   1581\u001b[0m     \u001b[39mreturn\u001b[39;00m _ClusterCoordinatorDataHandler(\u001b[39m*\u001b[39margs, \u001b[39m*\u001b[39m\u001b[39m*\u001b[39mkwargs)\n\u001b[1;32m-> 1582\u001b[0m \u001b[39mreturn\u001b[39;00m DataHandler(\u001b[39m*\u001b[39margs, \u001b[39m*\u001b[39m\u001b[39m*\u001b[39mkwargs)\n",
      "File \u001b[1;32mc:\\Users\\valen\\AppData\\Local\\Programs\\Python\\Python310\\lib\\site-packages\\keras\\engine\\data_adapter.py:1262\u001b[0m, in \u001b[0;36mDataHandler.__init__\u001b[1;34m(self, x, y, sample_weight, batch_size, steps_per_epoch, initial_epoch, epochs, shuffle, class_weight, max_queue_size, workers, use_multiprocessing, model, steps_per_execution, distribute)\u001b[0m\n\u001b[0;32m   1259\u001b[0m     \u001b[39mself\u001b[39m\u001b[39m.\u001b[39m_steps_per_execution \u001b[39m=\u001b[39m steps_per_execution\n\u001b[0;32m   1261\u001b[0m adapter_cls \u001b[39m=\u001b[39m select_data_adapter(x, y)\n\u001b[1;32m-> 1262\u001b[0m \u001b[39mself\u001b[39m\u001b[39m.\u001b[39m_adapter \u001b[39m=\u001b[39m adapter_cls(\n\u001b[0;32m   1263\u001b[0m     x,\n\u001b[0;32m   1264\u001b[0m     y,\n\u001b[0;32m   1265\u001b[0m     batch_size\u001b[39m=\u001b[39;49mbatch_size,\n\u001b[0;32m   1266\u001b[0m     steps\u001b[39m=\u001b[39;49msteps_per_epoch,\n\u001b[0;32m   1267\u001b[0m     epochs\u001b[39m=\u001b[39;49mepochs \u001b[39m-\u001b[39;49m initial_epoch,\n\u001b[0;32m   1268\u001b[0m     sample_weights\u001b[39m=\u001b[39;49msample_weight,\n\u001b[0;32m   1269\u001b[0m     shuffle\u001b[39m=\u001b[39;49mshuffle,\n\u001b[0;32m   1270\u001b[0m     max_queue_size\u001b[39m=\u001b[39;49mmax_queue_size,\n\u001b[0;32m   1271\u001b[0m     workers\u001b[39m=\u001b[39;49mworkers,\n\u001b[0;32m   1272\u001b[0m     use_multiprocessing\u001b[39m=\u001b[39;49muse_multiprocessing,\n\u001b[0;32m   1273\u001b[0m     distribution_strategy\u001b[39m=\u001b[39;49mtf\u001b[39m.\u001b[39;49mdistribute\u001b[39m.\u001b[39;49mget_strategy(),\n\u001b[0;32m   1274\u001b[0m     model\u001b[39m=\u001b[39;49mmodel,\n\u001b[0;32m   1275\u001b[0m )\n\u001b[0;32m   1277\u001b[0m strategy \u001b[39m=\u001b[39m tf\u001b[39m.\u001b[39mdistribute\u001b[39m.\u001b[39mget_strategy()\n\u001b[0;32m   1279\u001b[0m \u001b[39mself\u001b[39m\u001b[39m.\u001b[39m_current_step \u001b[39m=\u001b[39m \u001b[39m0\u001b[39m\n",
      "File \u001b[1;32mc:\\Users\\valen\\AppData\\Local\\Programs\\Python\\Python310\\lib\\site-packages\\keras\\engine\\data_adapter.py:308\u001b[0m, in \u001b[0;36mTensorLikeDataAdapter.__init__\u001b[1;34m(self, x, y, sample_weights, sample_weight_modes, batch_size, epochs, steps, shuffle, **kwargs)\u001b[0m\n\u001b[0;32m    301\u001b[0m     \u001b[39mreturn\u001b[39;00m indices\n\u001b[0;32m    303\u001b[0m \u001b[39m# We prefetch a single element. Computing large permutations can take\u001b[39;00m\n\u001b[0;32m    304\u001b[0m \u001b[39m# quite a while so we don't want to wait for prefetching over an epoch\u001b[39;00m\n\u001b[0;32m    305\u001b[0m \u001b[39m# boundary to trigger the next permutation. On the other hand, too many\u001b[39;00m\n\u001b[0;32m    306\u001b[0m \u001b[39m# simultaneous shuffles can contend on a hardware level and degrade all\u001b[39;00m\n\u001b[0;32m    307\u001b[0m \u001b[39m# performance.\u001b[39;00m\n\u001b[1;32m--> 308\u001b[0m indices_dataset \u001b[39m=\u001b[39m indices_dataset\u001b[39m.\u001b[39;49mmap(permutation)\u001b[39m.\u001b[39mprefetch(\u001b[39m1\u001b[39m)\n\u001b[0;32m    310\u001b[0m \u001b[39mdef\u001b[39;00m \u001b[39mslice_batch_indices\u001b[39m(indices):\n\u001b[0;32m    311\u001b[0m     \u001b[39m\"\"\"Convert a Tensor of indices into a dataset of batched indices.\u001b[39;00m\n\u001b[0;32m    312\u001b[0m \n\u001b[0;32m    313\u001b[0m \u001b[39m    This step can be accomplished in several ways. The most natural is\u001b[39;00m\n\u001b[1;32m   (...)\u001b[0m\n\u001b[0;32m    325\u001b[0m \u001b[39m      A Dataset of batched indices.\u001b[39;00m\n\u001b[0;32m    326\u001b[0m \u001b[39m    \"\"\"\u001b[39;00m\n",
      "File \u001b[1;32mc:\\Users\\valen\\AppData\\Local\\Programs\\Python\\Python310\\lib\\site-packages\\tensorflow\\python\\data\\ops\\dataset_ops.py:2202\u001b[0m, in \u001b[0;36mDatasetV2.map\u001b[1;34m(self, map_func, num_parallel_calls, deterministic, name)\u001b[0m\n\u001b[0;32m   2199\u001b[0m   \u001b[39mif\u001b[39;00m deterministic \u001b[39mis\u001b[39;00m \u001b[39mnot\u001b[39;00m \u001b[39mNone\u001b[39;00m \u001b[39mand\u001b[39;00m \u001b[39mnot\u001b[39;00m DEBUG_MODE:\n\u001b[0;32m   2200\u001b[0m     warnings\u001b[39m.\u001b[39mwarn(\u001b[39m\"\u001b[39m\u001b[39mThe `deterministic` argument has no effect unless the \u001b[39m\u001b[39m\"\u001b[39m\n\u001b[0;32m   2201\u001b[0m                   \u001b[39m\"\u001b[39m\u001b[39m`num_parallel_calls` argument is specified.\u001b[39m\u001b[39m\"\u001b[39m)\n\u001b[1;32m-> 2202\u001b[0m   \u001b[39mreturn\u001b[39;00m MapDataset(\u001b[39mself\u001b[39;49m, map_func, preserve_cardinality\u001b[39m=\u001b[39;49m\u001b[39mTrue\u001b[39;49;00m, name\u001b[39m=\u001b[39;49mname)\n\u001b[0;32m   2203\u001b[0m \u001b[39melse\u001b[39;00m:\n\u001b[0;32m   2204\u001b[0m   \u001b[39mreturn\u001b[39;00m ParallelMapDataset(\n\u001b[0;32m   2205\u001b[0m       \u001b[39mself\u001b[39m,\n\u001b[0;32m   2206\u001b[0m       map_func,\n\u001b[1;32m   (...)\u001b[0m\n\u001b[0;32m   2209\u001b[0m       preserve_cardinality\u001b[39m=\u001b[39m\u001b[39mTrue\u001b[39;00m,\n\u001b[0;32m   2210\u001b[0m       name\u001b[39m=\u001b[39mname)\n",
      "File \u001b[1;32mc:\\Users\\valen\\AppData\\Local\\Programs\\Python\\Python310\\lib\\site-packages\\tensorflow\\python\\data\\ops\\dataset_ops.py:5400\u001b[0m, in \u001b[0;36mMapDataset.__init__\u001b[1;34m(self, input_dataset, map_func, use_inter_op_parallelism, preserve_cardinality, use_legacy_function, name)\u001b[0m\n\u001b[0;32m   5398\u001b[0m \u001b[39mself\u001b[39m\u001b[39m.\u001b[39m_use_inter_op_parallelism \u001b[39m=\u001b[39m use_inter_op_parallelism\n\u001b[0;32m   5399\u001b[0m \u001b[39mself\u001b[39m\u001b[39m.\u001b[39m_preserve_cardinality \u001b[39m=\u001b[39m preserve_cardinality\n\u001b[1;32m-> 5400\u001b[0m \u001b[39mself\u001b[39m\u001b[39m.\u001b[39m_map_func \u001b[39m=\u001b[39m structured_function\u001b[39m.\u001b[39;49mStructuredFunctionWrapper(\n\u001b[0;32m   5401\u001b[0m     map_func,\n\u001b[0;32m   5402\u001b[0m     \u001b[39mself\u001b[39;49m\u001b[39m.\u001b[39;49m_transformation_name(),\n\u001b[0;32m   5403\u001b[0m     dataset\u001b[39m=\u001b[39;49minput_dataset,\n\u001b[0;32m   5404\u001b[0m     use_legacy_function\u001b[39m=\u001b[39;49muse_legacy_function)\n\u001b[0;32m   5405\u001b[0m \u001b[39mself\u001b[39m\u001b[39m.\u001b[39m_name \u001b[39m=\u001b[39m name\n\u001b[0;32m   5406\u001b[0m variant_tensor \u001b[39m=\u001b[39m gen_dataset_ops\u001b[39m.\u001b[39mmap_dataset(\n\u001b[0;32m   5407\u001b[0m     input_dataset\u001b[39m.\u001b[39m_variant_tensor,  \u001b[39m# pylint: disable=protected-access\u001b[39;00m\n\u001b[0;32m   5408\u001b[0m     \u001b[39mself\u001b[39m\u001b[39m.\u001b[39m_map_func\u001b[39m.\u001b[39mfunction\u001b[39m.\u001b[39mcaptured_inputs,\n\u001b[1;32m   (...)\u001b[0m\n\u001b[0;32m   5411\u001b[0m     preserve_cardinality\u001b[39m=\u001b[39m\u001b[39mself\u001b[39m\u001b[39m.\u001b[39m_preserve_cardinality,\n\u001b[0;32m   5412\u001b[0m     \u001b[39m*\u001b[39m\u001b[39m*\u001b[39m\u001b[39mself\u001b[39m\u001b[39m.\u001b[39m_common_args)\n",
      "File \u001b[1;32mc:\\Users\\valen\\AppData\\Local\\Programs\\Python\\Python310\\lib\\site-packages\\tensorflow\\python\\data\\ops\\structured_function.py:271\u001b[0m, in \u001b[0;36mStructuredFunctionWrapper.__init__\u001b[1;34m(self, func, transformation_name, dataset, input_classes, input_shapes, input_types, input_structure, add_to_graph, use_legacy_function, defun_kwargs)\u001b[0m\n\u001b[0;32m    264\u001b[0m       warnings\u001b[39m.\u001b[39mwarn(\n\u001b[0;32m    265\u001b[0m           \u001b[39m\"\u001b[39m\u001b[39mEven though the `tf.config.experimental_run_functions_eagerly` \u001b[39m\u001b[39m\"\u001b[39m\n\u001b[0;32m    266\u001b[0m           \u001b[39m\"\u001b[39m\u001b[39moption is set, this option does not apply to tf.data functions. \u001b[39m\u001b[39m\"\u001b[39m\n\u001b[0;32m    267\u001b[0m           \u001b[39m\"\u001b[39m\u001b[39mTo force eager execution of tf.data functions, please use \u001b[39m\u001b[39m\"\u001b[39m\n\u001b[0;32m    268\u001b[0m           \u001b[39m\"\u001b[39m\u001b[39m`tf.data.experimental.enable_debug_mode()`.\u001b[39m\u001b[39m\"\u001b[39m)\n\u001b[0;32m    269\u001b[0m     fn_factory \u001b[39m=\u001b[39m trace_tf_function(defun_kwargs)\n\u001b[1;32m--> 271\u001b[0m \u001b[39mself\u001b[39m\u001b[39m.\u001b[39m_function \u001b[39m=\u001b[39m fn_factory()\n\u001b[0;32m    272\u001b[0m \u001b[39m# There is no graph to add in eager mode.\u001b[39;00m\n\u001b[0;32m    273\u001b[0m add_to_graph \u001b[39m&\u001b[39m\u001b[39m=\u001b[39m \u001b[39mnot\u001b[39;00m context\u001b[39m.\u001b[39mexecuting_eagerly()\n",
      "File \u001b[1;32mc:\\Users\\valen\\AppData\\Local\\Programs\\Python\\Python310\\lib\\site-packages\\tensorflow\\python\\eager\\function.py:2610\u001b[0m, in \u001b[0;36mFunction.get_concrete_function\u001b[1;34m(self, *args, **kwargs)\u001b[0m\n\u001b[0;32m   2601\u001b[0m \u001b[39mdef\u001b[39;00m \u001b[39mget_concrete_function\u001b[39m(\u001b[39mself\u001b[39m, \u001b[39m*\u001b[39margs, \u001b[39m*\u001b[39m\u001b[39m*\u001b[39mkwargs):\n\u001b[0;32m   2602\u001b[0m   \u001b[39m\"\"\"Returns a `ConcreteFunction` specialized to inputs and execution context.\u001b[39;00m\n\u001b[0;32m   2603\u001b[0m \n\u001b[0;32m   2604\u001b[0m \u001b[39m  Args:\u001b[39;00m\n\u001b[1;32m   (...)\u001b[0m\n\u001b[0;32m   2608\u001b[0m \u001b[39m       or `tf.Tensor` or `tf.TensorSpec`.\u001b[39;00m\n\u001b[0;32m   2609\u001b[0m \u001b[39m  \"\"\"\u001b[39;00m\n\u001b[1;32m-> 2610\u001b[0m   graph_function \u001b[39m=\u001b[39m \u001b[39mself\u001b[39m\u001b[39m.\u001b[39m_get_concrete_function_garbage_collected(\n\u001b[0;32m   2611\u001b[0m       \u001b[39m*\u001b[39margs, \u001b[39m*\u001b[39m\u001b[39m*\u001b[39mkwargs)\n\u001b[0;32m   2612\u001b[0m   graph_function\u001b[39m.\u001b[39m_garbage_collector\u001b[39m.\u001b[39mrelease()  \u001b[39m# pylint: disable=protected-access\u001b[39;00m\n\u001b[0;32m   2613\u001b[0m   \u001b[39mreturn\u001b[39;00m graph_function\n",
      "File \u001b[1;32mc:\\Users\\valen\\AppData\\Local\\Programs\\Python\\Python310\\lib\\site-packages\\tensorflow\\python\\eager\\function.py:2576\u001b[0m, in \u001b[0;36mFunction._get_concrete_function_garbage_collected\u001b[1;34m(self, *args, **kwargs)\u001b[0m\n\u001b[0;32m   2574\u001b[0m   args, kwargs \u001b[39m=\u001b[39m \u001b[39mNone\u001b[39;00m, \u001b[39mNone\u001b[39;00m\n\u001b[0;32m   2575\u001b[0m \u001b[39mwith\u001b[39;00m \u001b[39mself\u001b[39m\u001b[39m.\u001b[39m_lock:\n\u001b[1;32m-> 2576\u001b[0m   graph_function, _ \u001b[39m=\u001b[39m \u001b[39mself\u001b[39;49m\u001b[39m.\u001b[39;49m_maybe_define_function(args, kwargs)\n\u001b[0;32m   2577\u001b[0m   seen_names \u001b[39m=\u001b[39m \u001b[39mset\u001b[39m()\n\u001b[0;32m   2578\u001b[0m   captured \u001b[39m=\u001b[39m object_identity\u001b[39m.\u001b[39mObjectIdentitySet(\n\u001b[0;32m   2579\u001b[0m       graph_function\u001b[39m.\u001b[39mgraph\u001b[39m.\u001b[39minternal_captures)\n",
      "File \u001b[1;32mc:\\Users\\valen\\AppData\\Local\\Programs\\Python\\Python310\\lib\\site-packages\\tensorflow\\python\\eager\\function.py:2760\u001b[0m, in \u001b[0;36mFunction._maybe_define_function\u001b[1;34m(self, args, kwargs)\u001b[0m\n\u001b[0;32m   2758\u001b[0m   \u001b[39m# Only get placeholders for arguments, not captures\u001b[39;00m\n\u001b[0;32m   2759\u001b[0m   args, kwargs \u001b[39m=\u001b[39m placeholder_dict[\u001b[39m\"\u001b[39m\u001b[39margs\u001b[39m\u001b[39m\"\u001b[39m]\n\u001b[1;32m-> 2760\u001b[0m graph_function \u001b[39m=\u001b[39m \u001b[39mself\u001b[39;49m\u001b[39m.\u001b[39;49m_create_graph_function(args, kwargs)\n\u001b[0;32m   2762\u001b[0m graph_capture_container \u001b[39m=\u001b[39m graph_function\u001b[39m.\u001b[39mgraph\u001b[39m.\u001b[39m_capture_func_lib  \u001b[39m# pylint: disable=protected-access\u001b[39;00m\n\u001b[0;32m   2763\u001b[0m \u001b[39m# Maintain the list of all captures\u001b[39;00m\n",
      "File \u001b[1;32mc:\\Users\\valen\\AppData\\Local\\Programs\\Python\\Python310\\lib\\site-packages\\tensorflow\\python\\eager\\function.py:2670\u001b[0m, in \u001b[0;36mFunction._create_graph_function\u001b[1;34m(self, args, kwargs)\u001b[0m\n\u001b[0;32m   2665\u001b[0m missing_arg_names \u001b[39m=\u001b[39m [\n\u001b[0;32m   2666\u001b[0m     \u001b[39m\"\u001b[39m\u001b[39m%s\u001b[39;00m\u001b[39m_\u001b[39m\u001b[39m%d\u001b[39;00m\u001b[39m\"\u001b[39m \u001b[39m%\u001b[39m (arg, i) \u001b[39mfor\u001b[39;00m i, arg \u001b[39min\u001b[39;00m \u001b[39menumerate\u001b[39m(missing_arg_names)\n\u001b[0;32m   2667\u001b[0m ]\n\u001b[0;32m   2668\u001b[0m arg_names \u001b[39m=\u001b[39m base_arg_names \u001b[39m+\u001b[39m missing_arg_names\n\u001b[0;32m   2669\u001b[0m graph_function \u001b[39m=\u001b[39m ConcreteFunction(\n\u001b[1;32m-> 2670\u001b[0m     func_graph_module\u001b[39m.\u001b[39;49mfunc_graph_from_py_func(\n\u001b[0;32m   2671\u001b[0m         \u001b[39mself\u001b[39;49m\u001b[39m.\u001b[39;49m_name,\n\u001b[0;32m   2672\u001b[0m         \u001b[39mself\u001b[39;49m\u001b[39m.\u001b[39;49m_python_function,\n\u001b[0;32m   2673\u001b[0m         args,\n\u001b[0;32m   2674\u001b[0m         kwargs,\n\u001b[0;32m   2675\u001b[0m         \u001b[39mself\u001b[39;49m\u001b[39m.\u001b[39;49minput_signature,\n\u001b[0;32m   2676\u001b[0m         autograph\u001b[39m=\u001b[39;49m\u001b[39mself\u001b[39;49m\u001b[39m.\u001b[39;49m_autograph,\n\u001b[0;32m   2677\u001b[0m         autograph_options\u001b[39m=\u001b[39;49m\u001b[39mself\u001b[39;49m\u001b[39m.\u001b[39;49m_autograph_options,\n\u001b[0;32m   2678\u001b[0m         arg_names\u001b[39m=\u001b[39;49marg_names,\n\u001b[0;32m   2679\u001b[0m         capture_by_value\u001b[39m=\u001b[39;49m\u001b[39mself\u001b[39;49m\u001b[39m.\u001b[39;49m_capture_by_value),\n\u001b[0;32m   2680\u001b[0m     \u001b[39mself\u001b[39m\u001b[39m.\u001b[39m_function_attributes,\n\u001b[0;32m   2681\u001b[0m     spec\u001b[39m=\u001b[39m\u001b[39mself\u001b[39m\u001b[39m.\u001b[39mfunction_spec,\n\u001b[0;32m   2682\u001b[0m     \u001b[39m# Tell the ConcreteFunction to clean up its graph once it goes out of\u001b[39;00m\n\u001b[0;32m   2683\u001b[0m     \u001b[39m# scope. This is not the default behavior since it gets used in some\u001b[39;00m\n\u001b[0;32m   2684\u001b[0m     \u001b[39m# places (like Keras) where the FuncGraph lives longer than the\u001b[39;00m\n\u001b[0;32m   2685\u001b[0m     \u001b[39m# ConcreteFunction.\u001b[39;00m\n\u001b[0;32m   2686\u001b[0m     shared_func_graph\u001b[39m=\u001b[39m\u001b[39mFalse\u001b[39;00m)\n\u001b[0;32m   2687\u001b[0m \u001b[39mreturn\u001b[39;00m graph_function\n",
      "File \u001b[1;32mc:\\Users\\valen\\AppData\\Local\\Programs\\Python\\Python310\\lib\\site-packages\\tensorflow\\python\\framework\\func_graph.py:1247\u001b[0m, in \u001b[0;36mfunc_graph_from_py_func\u001b[1;34m(name, python_func, args, kwargs, signature, func_graph, autograph, autograph_options, add_control_dependencies, arg_names, op_return_value, collections, capture_by_value, acd_record_initial_resource_uses)\u001b[0m\n\u001b[0;32m   1244\u001b[0m \u001b[39melse\u001b[39;00m:\n\u001b[0;32m   1245\u001b[0m   _, original_func \u001b[39m=\u001b[39m tf_decorator\u001b[39m.\u001b[39munwrap(python_func)\n\u001b[1;32m-> 1247\u001b[0m func_outputs \u001b[39m=\u001b[39m python_func(\u001b[39m*\u001b[39mfunc_args, \u001b[39m*\u001b[39m\u001b[39m*\u001b[39mfunc_kwargs)\n\u001b[0;32m   1249\u001b[0m \u001b[39m# invariant: `func_outputs` contains only Tensors, CompositeTensors,\u001b[39;00m\n\u001b[0;32m   1250\u001b[0m \u001b[39m# TensorArrays and `None`s.\u001b[39;00m\n\u001b[0;32m   1251\u001b[0m func_outputs \u001b[39m=\u001b[39m nest\u001b[39m.\u001b[39mmap_structure(\n\u001b[0;32m   1252\u001b[0m     convert, func_outputs, expand_composites\u001b[39m=\u001b[39m\u001b[39mTrue\u001b[39;00m)\n",
      "File \u001b[1;32mc:\\Users\\valen\\AppData\\Local\\Programs\\Python\\Python310\\lib\\site-packages\\tensorflow\\python\\data\\ops\\structured_function.py:248\u001b[0m, in \u001b[0;36mStructuredFunctionWrapper.__init__.<locals>.trace_tf_function.<locals>.wrapped_fn\u001b[1;34m(*args)\u001b[0m\n\u001b[0;32m    242\u001b[0m \u001b[39m@eager_function\u001b[39m\u001b[39m.\u001b[39mdefun_with_attributes(\n\u001b[0;32m    243\u001b[0m     input_signature\u001b[39m=\u001b[39mstructure\u001b[39m.\u001b[39mget_flat_tensor_specs(\n\u001b[0;32m    244\u001b[0m         \u001b[39mself\u001b[39m\u001b[39m.\u001b[39m_input_structure),\n\u001b[0;32m    245\u001b[0m     autograph\u001b[39m=\u001b[39m\u001b[39mFalse\u001b[39;00m,\n\u001b[0;32m    246\u001b[0m     attributes\u001b[39m=\u001b[39mdefun_kwargs)\n\u001b[0;32m    247\u001b[0m \u001b[39mdef\u001b[39;00m \u001b[39mwrapped_fn\u001b[39m(\u001b[39m*\u001b[39margs):  \u001b[39m# pylint: disable=missing-docstring\u001b[39;00m\n\u001b[1;32m--> 248\u001b[0m   ret \u001b[39m=\u001b[39m wrapper_helper(\u001b[39m*\u001b[39;49margs)\n\u001b[0;32m    249\u001b[0m   ret \u001b[39m=\u001b[39m structure\u001b[39m.\u001b[39mto_tensor_list(\u001b[39mself\u001b[39m\u001b[39m.\u001b[39m_output_structure, ret)\n\u001b[0;32m    250\u001b[0m   \u001b[39mreturn\u001b[39;00m [ops\u001b[39m.\u001b[39mconvert_to_tensor(t) \u001b[39mfor\u001b[39;00m t \u001b[39min\u001b[39;00m ret]\n",
      "File \u001b[1;32mc:\\Users\\valen\\AppData\\Local\\Programs\\Python\\Python310\\lib\\site-packages\\tensorflow\\python\\data\\ops\\structured_function.py:177\u001b[0m, in \u001b[0;36mStructuredFunctionWrapper.__init__.<locals>.wrapper_helper\u001b[1;34m(*args)\u001b[0m\n\u001b[0;32m    175\u001b[0m \u001b[39mif\u001b[39;00m \u001b[39mnot\u001b[39;00m _should_unpack(nested_args):\n\u001b[0;32m    176\u001b[0m   nested_args \u001b[39m=\u001b[39m (nested_args,)\n\u001b[1;32m--> 177\u001b[0m ret \u001b[39m=\u001b[39m autograph\u001b[39m.\u001b[39;49mtf_convert(\u001b[39mself\u001b[39;49m\u001b[39m.\u001b[39;49m_func, ag_ctx)(\u001b[39m*\u001b[39;49mnested_args)\n\u001b[0;32m    178\u001b[0m \u001b[39mif\u001b[39;00m _should_pack(ret):\n\u001b[0;32m    179\u001b[0m   ret \u001b[39m=\u001b[39m \u001b[39mtuple\u001b[39m(ret)\n",
      "File \u001b[1;32mc:\\Users\\valen\\AppData\\Local\\Programs\\Python\\Python310\\lib\\site-packages\\tensorflow\\python\\autograph\\impl\\api.py:689\u001b[0m, in \u001b[0;36mconvert.<locals>.decorator.<locals>.wrapper\u001b[1;34m(*args, **kwargs)\u001b[0m\n\u001b[0;32m    687\u001b[0m \u001b[39mtry\u001b[39;00m:\n\u001b[0;32m    688\u001b[0m   \u001b[39mwith\u001b[39;00m conversion_ctx:\n\u001b[1;32m--> 689\u001b[0m     \u001b[39mreturn\u001b[39;00m converted_call(f, args, kwargs, options\u001b[39m=\u001b[39;49moptions)\n\u001b[0;32m    690\u001b[0m \u001b[39mexcept\u001b[39;00m \u001b[39mException\u001b[39;00m \u001b[39mas\u001b[39;00m e:  \u001b[39m# pylint:disable=broad-except\u001b[39;00m\n\u001b[0;32m    691\u001b[0m   \u001b[39mif\u001b[39;00m \u001b[39mhasattr\u001b[39m(e, \u001b[39m'\u001b[39m\u001b[39mag_error_metadata\u001b[39m\u001b[39m'\u001b[39m):\n",
      "File \u001b[1;32mc:\\Users\\valen\\AppData\\Local\\Programs\\Python\\Python310\\lib\\site-packages\\tensorflow\\python\\autograph\\impl\\api.py:377\u001b[0m, in \u001b[0;36mconverted_call\u001b[1;34m(f, args, kwargs, caller_fn_scope, options)\u001b[0m\n\u001b[0;32m    374\u001b[0m   \u001b[39mreturn\u001b[39;00m _call_unconverted(f, args, kwargs, options)\n\u001b[0;32m    376\u001b[0m \u001b[39mif\u001b[39;00m \u001b[39mnot\u001b[39;00m options\u001b[39m.\u001b[39muser_requested \u001b[39mand\u001b[39;00m conversion\u001b[39m.\u001b[39mis_allowlisted(f):\n\u001b[1;32m--> 377\u001b[0m   \u001b[39mreturn\u001b[39;00m _call_unconverted(f, args, kwargs, options)\n\u001b[0;32m    379\u001b[0m \u001b[39m# internal_convert_user_code is for example turned off when issuing a dynamic\u001b[39;00m\n\u001b[0;32m    380\u001b[0m \u001b[39m# call conversion from generated code while in nonrecursive mode. In that\u001b[39;00m\n\u001b[0;32m    381\u001b[0m \u001b[39m# case we evidently don't want to recurse, but we still have to convert\u001b[39;00m\n\u001b[0;32m    382\u001b[0m \u001b[39m# things like builtins.\u001b[39;00m\n\u001b[0;32m    383\u001b[0m \u001b[39mif\u001b[39;00m \u001b[39mnot\u001b[39;00m options\u001b[39m.\u001b[39minternal_convert_user_code:\n",
      "File \u001b[1;32mc:\\Users\\valen\\AppData\\Local\\Programs\\Python\\Python310\\lib\\site-packages\\tensorflow\\python\\autograph\\impl\\api.py:458\u001b[0m, in \u001b[0;36m_call_unconverted\u001b[1;34m(f, args, kwargs, options, update_cache)\u001b[0m\n\u001b[0;32m    455\u001b[0m   \u001b[39mreturn\u001b[39;00m f\u001b[39m.\u001b[39m\u001b[39m__self__\u001b[39m\u001b[39m.\u001b[39mcall(args, kwargs)\n\u001b[0;32m    457\u001b[0m \u001b[39mif\u001b[39;00m kwargs \u001b[39mis\u001b[39;00m \u001b[39mnot\u001b[39;00m \u001b[39mNone\u001b[39;00m:\n\u001b[1;32m--> 458\u001b[0m   \u001b[39mreturn\u001b[39;00m f(\u001b[39m*\u001b[39margs, \u001b[39m*\u001b[39m\u001b[39m*\u001b[39mkwargs)\n\u001b[0;32m    459\u001b[0m \u001b[39mreturn\u001b[39;00m f(\u001b[39m*\u001b[39margs)\n",
      "File \u001b[1;32mc:\\Users\\valen\\AppData\\Local\\Programs\\Python\\Python310\\lib\\site-packages\\keras\\engine\\data_adapter.py:298\u001b[0m, in \u001b[0;36mTensorLikeDataAdapter.__init__.<locals>.permutation\u001b[1;34m(_)\u001b[0m\n\u001b[0;32m    294\u001b[0m \u001b[39mdef\u001b[39;00m \u001b[39mpermutation\u001b[39m(_):\n\u001b[0;32m    295\u001b[0m     \u001b[39m# It turns out to be more performant to make a new set of indices\u001b[39;00m\n\u001b[0;32m    296\u001b[0m     \u001b[39m# rather than reusing the same range Tensor. (presumably because of\u001b[39;00m\n\u001b[0;32m    297\u001b[0m     \u001b[39m# buffer forwarding.)\u001b[39;00m\n\u001b[1;32m--> 298\u001b[0m     indices \u001b[39m=\u001b[39m tf\u001b[39m.\u001b[39;49mrange(num_samples, dtype\u001b[39m=\u001b[39;49mtf\u001b[39m.\u001b[39;49mint64)\n\u001b[0;32m    299\u001b[0m     \u001b[39mif\u001b[39;00m shuffle \u001b[39mand\u001b[39;00m shuffle \u001b[39m!=\u001b[39m \u001b[39m\"\u001b[39m\u001b[39mbatch\u001b[39m\u001b[39m\"\u001b[39m:\n\u001b[0;32m    300\u001b[0m         indices \u001b[39m=\u001b[39m tf\u001b[39m.\u001b[39mrandom\u001b[39m.\u001b[39mshuffle(indices)\n",
      "File \u001b[1;32mc:\\Users\\valen\\AppData\\Local\\Programs\\Python\\Python310\\lib\\site-packages\\tensorflow\\python\\util\\traceback_utils.py:150\u001b[0m, in \u001b[0;36mfilter_traceback.<locals>.error_handler\u001b[1;34m(*args, **kwargs)\u001b[0m\n\u001b[0;32m    148\u001b[0m filtered_tb \u001b[39m=\u001b[39m \u001b[39mNone\u001b[39;00m\n\u001b[0;32m    149\u001b[0m \u001b[39mtry\u001b[39;00m:\n\u001b[1;32m--> 150\u001b[0m   \u001b[39mreturn\u001b[39;00m fn(\u001b[39m*\u001b[39margs, \u001b[39m*\u001b[39m\u001b[39m*\u001b[39mkwargs)\n\u001b[0;32m    151\u001b[0m \u001b[39mexcept\u001b[39;00m \u001b[39mException\u001b[39;00m \u001b[39mas\u001b[39;00m e:\n\u001b[0;32m    152\u001b[0m   filtered_tb \u001b[39m=\u001b[39m _process_traceback_frames(e\u001b[39m.\u001b[39m__traceback__)\n",
      "File \u001b[1;32mc:\\Users\\valen\\AppData\\Local\\Programs\\Python\\Python310\\lib\\site-packages\\tensorflow\\python\\util\\dispatch.py:1176\u001b[0m, in \u001b[0;36madd_dispatch_support.<locals>.decorator.<locals>.op_dispatch_handler\u001b[1;34m(*args, **kwargs)\u001b[0m\n\u001b[0;32m   1174\u001b[0m \u001b[39m# Fallback dispatch system (dispatch v1):\u001b[39;00m\n\u001b[0;32m   1175\u001b[0m \u001b[39mtry\u001b[39;00m:\n\u001b[1;32m-> 1176\u001b[0m   \u001b[39mreturn\u001b[39;00m dispatch_target(\u001b[39m*\u001b[39margs, \u001b[39m*\u001b[39m\u001b[39m*\u001b[39mkwargs)\n\u001b[0;32m   1177\u001b[0m \u001b[39mexcept\u001b[39;00m (\u001b[39mTypeError\u001b[39;00m, \u001b[39mValueError\u001b[39;00m):\n\u001b[0;32m   1178\u001b[0m   \u001b[39m# Note: convert_to_eager_tensor currently raises a ValueError, not a\u001b[39;00m\n\u001b[0;32m   1179\u001b[0m   \u001b[39m# TypeError, when given unexpected types.  So we need to catch both.\u001b[39;00m\n\u001b[0;32m   1180\u001b[0m   result \u001b[39m=\u001b[39m dispatch(op_dispatch_handler, args, kwargs)\n",
      "File \u001b[1;32mc:\\Users\\valen\\AppData\\Local\\Programs\\Python\\Python310\\lib\\site-packages\\tensorflow\\python\\ops\\math_ops.py:2103\u001b[0m, in \u001b[0;36mrange\u001b[1;34m(start, limit, delta, dtype, name)\u001b[0m\n\u001b[0;32m   2101\u001b[0m   start \u001b[39m=\u001b[39m ops\u001b[39m.\u001b[39mconvert_to_tensor(start, dtype\u001b[39m=\u001b[39mdtype, name\u001b[39m=\u001b[39m\u001b[39m\"\u001b[39m\u001b[39mstart\u001b[39m\u001b[39m\"\u001b[39m)\n\u001b[0;32m   2102\u001b[0m \u001b[39mif\u001b[39;00m \u001b[39mnot\u001b[39;00m \u001b[39misinstance\u001b[39m(limit, ops\u001b[39m.\u001b[39mTensor):\n\u001b[1;32m-> 2103\u001b[0m   limit \u001b[39m=\u001b[39m ops\u001b[39m.\u001b[39;49mconvert_to_tensor(limit, dtype\u001b[39m=\u001b[39;49mdtype, name\u001b[39m=\u001b[39;49m\u001b[39m\"\u001b[39;49m\u001b[39mlimit\u001b[39;49m\u001b[39m\"\u001b[39;49m)\n\u001b[0;32m   2104\u001b[0m \u001b[39mif\u001b[39;00m \u001b[39mnot\u001b[39;00m \u001b[39misinstance\u001b[39m(delta, ops\u001b[39m.\u001b[39mTensor):\n\u001b[0;32m   2105\u001b[0m   delta \u001b[39m=\u001b[39m ops\u001b[39m.\u001b[39mconvert_to_tensor(delta, dtype\u001b[39m=\u001b[39mdtype, name\u001b[39m=\u001b[39m\u001b[39m\"\u001b[39m\u001b[39mdelta\u001b[39m\u001b[39m\"\u001b[39m)\n",
      "File \u001b[1;32mc:\\Users\\valen\\AppData\\Local\\Programs\\Python\\Python310\\lib\\site-packages\\tensorflow\\python\\profiler\\trace.py:183\u001b[0m, in \u001b[0;36mtrace_wrapper.<locals>.inner_wrapper.<locals>.wrapped\u001b[1;34m(*args, **kwargs)\u001b[0m\n\u001b[0;32m    181\u001b[0m   \u001b[39mwith\u001b[39;00m Trace(trace_name, \u001b[39m*\u001b[39m\u001b[39m*\u001b[39mtrace_kwargs):\n\u001b[0;32m    182\u001b[0m     \u001b[39mreturn\u001b[39;00m func(\u001b[39m*\u001b[39margs, \u001b[39m*\u001b[39m\u001b[39m*\u001b[39mkwargs)\n\u001b[1;32m--> 183\u001b[0m \u001b[39mreturn\u001b[39;00m func(\u001b[39m*\u001b[39margs, \u001b[39m*\u001b[39m\u001b[39m*\u001b[39mkwargs)\n",
      "File \u001b[1;32mc:\\Users\\valen\\AppData\\Local\\Programs\\Python\\Python310\\lib\\site-packages\\tensorflow\\python\\framework\\ops.py:1638\u001b[0m, in \u001b[0;36mconvert_to_tensor\u001b[1;34m(value, dtype, name, as_ref, preferred_dtype, dtype_hint, ctx, accepted_result_types)\u001b[0m\n\u001b[0;32m   1629\u001b[0m       \u001b[39mraise\u001b[39;00m \u001b[39mRuntimeError\u001b[39;00m(\n\u001b[0;32m   1630\u001b[0m           _add_error_prefix(\n\u001b[0;32m   1631\u001b[0m               \u001b[39mf\u001b[39m\u001b[39m\"\u001b[39m\u001b[39mConversion function \u001b[39m\u001b[39m{\u001b[39;00mconversion_func\u001b[39m!r}\u001b[39;00m\u001b[39m for type \u001b[39m\u001b[39m\"\u001b[39m\n\u001b[1;32m   (...)\u001b[0m\n\u001b[0;32m   1634\u001b[0m               \u001b[39mf\u001b[39m\u001b[39m\"\u001b[39m\u001b[39mactual = \u001b[39m\u001b[39m{\u001b[39;00mret\u001b[39m.\u001b[39mdtype\u001b[39m.\u001b[39mbase_dtype\u001b[39m.\u001b[39mname\u001b[39m}\u001b[39;00m\u001b[39m\"\u001b[39m,\n\u001b[0;32m   1635\u001b[0m               name\u001b[39m=\u001b[39mname))\n\u001b[0;32m   1637\u001b[0m \u001b[39mif\u001b[39;00m ret \u001b[39mis\u001b[39;00m \u001b[39mNone\u001b[39;00m:\n\u001b[1;32m-> 1638\u001b[0m   ret \u001b[39m=\u001b[39m conversion_func(value, dtype\u001b[39m=\u001b[39;49mdtype, name\u001b[39m=\u001b[39;49mname, as_ref\u001b[39m=\u001b[39;49mas_ref)\n\u001b[0;32m   1640\u001b[0m \u001b[39mif\u001b[39;00m ret \u001b[39mis\u001b[39;00m \u001b[39mNotImplemented\u001b[39m:\n\u001b[0;32m   1641\u001b[0m   \u001b[39mcontinue\u001b[39;00m\n",
      "File \u001b[1;32mc:\\Users\\valen\\AppData\\Local\\Programs\\Python\\Python310\\lib\\site-packages\\tensorflow\\python\\framework\\tensor_conversion_registry.py:48\u001b[0m, in \u001b[0;36m_default_conversion_function\u001b[1;34m(***failed resolving arguments***)\u001b[0m\n\u001b[0;32m     46\u001b[0m \u001b[39mdef\u001b[39;00m \u001b[39m_default_conversion_function\u001b[39m(value, dtype, name, as_ref):\n\u001b[0;32m     47\u001b[0m   \u001b[39mdel\u001b[39;00m as_ref  \u001b[39m# Unused.\u001b[39;00m\n\u001b[1;32m---> 48\u001b[0m   \u001b[39mreturn\u001b[39;00m constant_op\u001b[39m.\u001b[39;49mconstant(value, dtype, name\u001b[39m=\u001b[39;49mname)\n",
      "File \u001b[1;32mc:\\Users\\valen\\AppData\\Local\\Programs\\Python\\Python310\\lib\\site-packages\\tensorflow\\python\\framework\\constant_op.py:267\u001b[0m, in \u001b[0;36mconstant\u001b[1;34m(value, dtype, shape, name)\u001b[0m\n\u001b[0;32m    170\u001b[0m \u001b[39m@tf_export\u001b[39m(\u001b[39m\"\u001b[39m\u001b[39mconstant\u001b[39m\u001b[39m\"\u001b[39m, v1\u001b[39m=\u001b[39m[])\n\u001b[0;32m    171\u001b[0m \u001b[39mdef\u001b[39;00m \u001b[39mconstant\u001b[39m(value, dtype\u001b[39m=\u001b[39m\u001b[39mNone\u001b[39;00m, shape\u001b[39m=\u001b[39m\u001b[39mNone\u001b[39;00m, name\u001b[39m=\u001b[39m\u001b[39m\"\u001b[39m\u001b[39mConst\u001b[39m\u001b[39m\"\u001b[39m):\n\u001b[0;32m    172\u001b[0m   \u001b[39m\"\"\"Creates a constant tensor from a tensor-like object.\u001b[39;00m\n\u001b[0;32m    173\u001b[0m \n\u001b[0;32m    174\u001b[0m \u001b[39m  Note: All eager `tf.Tensor` values are immutable (in contrast to\u001b[39;00m\n\u001b[1;32m   (...)\u001b[0m\n\u001b[0;32m    265\u001b[0m \u001b[39m    ValueError: if called on a symbolic tensor.\u001b[39;00m\n\u001b[0;32m    266\u001b[0m \u001b[39m  \"\"\"\u001b[39;00m\n\u001b[1;32m--> 267\u001b[0m   \u001b[39mreturn\u001b[39;00m _constant_impl(value, dtype, shape, name, verify_shape\u001b[39m=\u001b[39;49m\u001b[39mFalse\u001b[39;49;00m,\n\u001b[0;32m    268\u001b[0m                         allow_broadcast\u001b[39m=\u001b[39;49m\u001b[39mTrue\u001b[39;49;00m)\n",
      "File \u001b[1;32mc:\\Users\\valen\\AppData\\Local\\Programs\\Python\\Python310\\lib\\site-packages\\tensorflow\\python\\framework\\constant_op.py:289\u001b[0m, in \u001b[0;36m_constant_impl\u001b[1;34m(value, dtype, shape, name, verify_shape, allow_broadcast)\u001b[0m\n\u001b[0;32m    287\u001b[0m dtype_value \u001b[39m=\u001b[39m attr_value_pb2\u001b[39m.\u001b[39mAttrValue(\u001b[39mtype\u001b[39m\u001b[39m=\u001b[39mtensor_value\u001b[39m.\u001b[39mtensor\u001b[39m.\u001b[39mdtype)\n\u001b[0;32m    288\u001b[0m attrs \u001b[39m=\u001b[39m {\u001b[39m\"\u001b[39m\u001b[39mvalue\u001b[39m\u001b[39m\"\u001b[39m: tensor_value, \u001b[39m\"\u001b[39m\u001b[39mdtype\u001b[39m\u001b[39m\"\u001b[39m: dtype_value}\n\u001b[1;32m--> 289\u001b[0m const_tensor \u001b[39m=\u001b[39m g\u001b[39m.\u001b[39;49m_create_op_internal(  \u001b[39m# pylint: disable=protected-access\u001b[39;49;00m\n\u001b[0;32m    290\u001b[0m     \u001b[39m\"\u001b[39;49m\u001b[39mConst\u001b[39;49m\u001b[39m\"\u001b[39;49m, [], [dtype_value\u001b[39m.\u001b[39;49mtype], attrs\u001b[39m=\u001b[39;49mattrs, name\u001b[39m=\u001b[39;49mname)\u001b[39m.\u001b[39moutputs[\u001b[39m0\u001b[39m]\n\u001b[0;32m    292\u001b[0m \u001b[39mif\u001b[39;00m op_callbacks\u001b[39m.\u001b[39mshould_invoke_op_callbacks():\n\u001b[0;32m    293\u001b[0m   \u001b[39m# TODO(b/147670703): Once the special-op creation code paths\u001b[39;00m\n\u001b[0;32m    294\u001b[0m   \u001b[39m# are unified. Remove this `if` block.\u001b[39;00m\n\u001b[0;32m    295\u001b[0m   callback_outputs \u001b[39m=\u001b[39m op_callbacks\u001b[39m.\u001b[39minvoke_op_callbacks(\n\u001b[0;32m    296\u001b[0m       \u001b[39m\"\u001b[39m\u001b[39mConst\u001b[39m\u001b[39m\"\u001b[39m, \u001b[39mtuple\u001b[39m(), attrs, (const_tensor,), op_name\u001b[39m=\u001b[39mname, graph\u001b[39m=\u001b[39mg)\n",
      "File \u001b[1;32mc:\\Users\\valen\\AppData\\Local\\Programs\\Python\\Python310\\lib\\site-packages\\tensorflow\\python\\framework\\func_graph.py:735\u001b[0m, in \u001b[0;36mFuncGraph._create_op_internal\u001b[1;34m(self, op_type, inputs, dtypes, input_types, name, attrs, op_def, compute_device)\u001b[0m\n\u001b[0;32m    733\u001b[0m   inp \u001b[39m=\u001b[39m \u001b[39mself\u001b[39m\u001b[39m.\u001b[39mcapture(inp)\n\u001b[0;32m    734\u001b[0m   captured_inputs\u001b[39m.\u001b[39mappend(inp)\n\u001b[1;32m--> 735\u001b[0m \u001b[39mreturn\u001b[39;00m \u001b[39msuper\u001b[39;49m(FuncGraph, \u001b[39mself\u001b[39;49m)\u001b[39m.\u001b[39;49m_create_op_internal(  \u001b[39m# pylint: disable=protected-access\u001b[39;49;00m\n\u001b[0;32m    736\u001b[0m     op_type, captured_inputs, dtypes, input_types, name, attrs, op_def,\n\u001b[0;32m    737\u001b[0m     compute_device)\n",
      "File \u001b[1;32mc:\\Users\\valen\\AppData\\Local\\Programs\\Python\\Python310\\lib\\site-packages\\tensorflow\\python\\framework\\ops.py:3800\u001b[0m, in \u001b[0;36mGraph._create_op_internal\u001b[1;34m(self, op_type, inputs, dtypes, input_types, name, attrs, op_def, compute_device)\u001b[0m\n\u001b[0;32m   3797\u001b[0m \u001b[39m# _create_op_helper mutates the new Operation. `_mutation_lock` ensures a\u001b[39;00m\n\u001b[0;32m   3798\u001b[0m \u001b[39m# Session.run call cannot occur between creating and mutating the op.\u001b[39;00m\n\u001b[0;32m   3799\u001b[0m \u001b[39mwith\u001b[39;00m \u001b[39mself\u001b[39m\u001b[39m.\u001b[39m_mutation_lock():\n\u001b[1;32m-> 3800\u001b[0m   ret \u001b[39m=\u001b[39m Operation(\n\u001b[0;32m   3801\u001b[0m       node_def,\n\u001b[0;32m   3802\u001b[0m       \u001b[39mself\u001b[39;49m,\n\u001b[0;32m   3803\u001b[0m       inputs\u001b[39m=\u001b[39;49minputs,\n\u001b[0;32m   3804\u001b[0m       output_types\u001b[39m=\u001b[39;49mdtypes,\n\u001b[0;32m   3805\u001b[0m       control_inputs\u001b[39m=\u001b[39;49mcontrol_inputs,\n\u001b[0;32m   3806\u001b[0m       input_types\u001b[39m=\u001b[39;49minput_types,\n\u001b[0;32m   3807\u001b[0m       original_op\u001b[39m=\u001b[39;49m\u001b[39mself\u001b[39;49m\u001b[39m.\u001b[39;49m_default_original_op,\n\u001b[0;32m   3808\u001b[0m       op_def\u001b[39m=\u001b[39;49mop_def)\n\u001b[0;32m   3809\u001b[0m   \u001b[39mself\u001b[39m\u001b[39m.\u001b[39m_create_op_helper(ret, compute_device\u001b[39m=\u001b[39mcompute_device)\n\u001b[0;32m   3810\u001b[0m \u001b[39mreturn\u001b[39;00m ret\n",
      "File \u001b[1;32mc:\\Users\\valen\\AppData\\Local\\Programs\\Python\\Python310\\lib\\site-packages\\tensorflow\\python\\framework\\ops.py:2108\u001b[0m, in \u001b[0;36mOperation.__init__\u001b[1;34m(***failed resolving arguments***)\u001b[0m\n\u001b[0;32m   2105\u001b[0m     control_input_ops\u001b[39m.\u001b[39mappend(control_op)\n\u001b[0;32m   2107\u001b[0m \u001b[39m# Initialize c_op from node_def and other inputs\u001b[39;00m\n\u001b[1;32m-> 2108\u001b[0m c_op \u001b[39m=\u001b[39m _create_c_op(g, node_def, inputs, control_input_ops, op_def\u001b[39m=\u001b[39;49mop_def)\n\u001b[0;32m   2109\u001b[0m \u001b[39mself\u001b[39m\u001b[39m.\u001b[39m_init_from_c_op(c_op\u001b[39m=\u001b[39mc_op, g\u001b[39m=\u001b[39mg)\n\u001b[0;32m   2111\u001b[0m \u001b[39mself\u001b[39m\u001b[39m.\u001b[39m_original_op \u001b[39m=\u001b[39m original_op\n",
      "File \u001b[1;32mc:\\Users\\valen\\AppData\\Local\\Programs\\Python\\Python310\\lib\\site-packages\\tensorflow\\python\\util\\traceback_utils.py:150\u001b[0m, in \u001b[0;36mfilter_traceback.<locals>.error_handler\u001b[1;34m(*args, **kwargs)\u001b[0m\n\u001b[0;32m    148\u001b[0m filtered_tb \u001b[39m=\u001b[39m \u001b[39mNone\u001b[39;00m\n\u001b[0;32m    149\u001b[0m \u001b[39mtry\u001b[39;00m:\n\u001b[1;32m--> 150\u001b[0m   \u001b[39mreturn\u001b[39;00m fn(\u001b[39m*\u001b[39margs, \u001b[39m*\u001b[39m\u001b[39m*\u001b[39mkwargs)\n\u001b[0;32m    151\u001b[0m \u001b[39mexcept\u001b[39;00m \u001b[39mException\u001b[39;00m \u001b[39mas\u001b[39;00m e:\n\u001b[0;32m    152\u001b[0m   filtered_tb \u001b[39m=\u001b[39m _process_traceback_frames(e\u001b[39m.\u001b[39m__traceback__)\n",
      "File \u001b[1;32mc:\\Users\\valen\\AppData\\Local\\Programs\\Python\\Python310\\lib\\site-packages\\tensorflow\\python\\framework\\ops.py:1939\u001b[0m, in \u001b[0;36m_create_c_op\u001b[1;34m(graph, node_def, inputs, control_inputs, op_def, extract_traceback)\u001b[0m\n\u001b[0;32m   1937\u001b[0m \u001b[39m# pylint: disable=protected-access\u001b[39;00m\n\u001b[0;32m   1938\u001b[0m \u001b[39mwith\u001b[39;00m graph\u001b[39m.\u001b[39m_c_graph\u001b[39m.\u001b[39mget() \u001b[39mas\u001b[39;00m c_graph:\n\u001b[1;32m-> 1939\u001b[0m   op_desc \u001b[39m=\u001b[39m pywrap_tf_session\u001b[39m.\u001b[39;49mTF_NewOperation(c_graph,\n\u001b[0;32m   1940\u001b[0m                                               compat\u001b[39m.\u001b[39;49mas_str(node_def\u001b[39m.\u001b[39;49mop),\n\u001b[0;32m   1941\u001b[0m                                               compat\u001b[39m.\u001b[39;49mas_str(node_def\u001b[39m.\u001b[39;49mname))\n\u001b[0;32m   1942\u001b[0m \u001b[39mif\u001b[39;00m node_def\u001b[39m.\u001b[39mdevice:\n\u001b[0;32m   1943\u001b[0m   pywrap_tf_session\u001b[39m.\u001b[39mTF_SetDevice(op_desc, compat\u001b[39m.\u001b[39mas_str(node_def\u001b[39m.\u001b[39mdevice))\n",
      "\u001b[1;31mKeyboardInterrupt\u001b[0m: "
     ]
    }
   ],
   "source": [
    "aegan.train(epochs=10000, batch_size=32, train_ds=train_ds)"
   ]
  },
  {
   "cell_type": "code",
   "execution_count": 43,
   "metadata": {},
   "outputs": [],
   "source": [
    "# define the discriminator model\n",
    "def define_discriminator(input_shape, num_classes):\n",
    "    img_input = tf.keras.layers.Input(shape=input_shape)\n",
    "    label_input = tf.keras.layers.Input(shape=(num_classes,))\n",
    "    \n",
    "    # image branch\n",
    "    layer = tf.keras.layers.Conv2D(64, (3, 3), padding='same')(img_input)\n",
    "    layer = tf.keras.layers.LeakyReLU(alpha=0.2)(layer)\n",
    "    layer = tf.keras.layers.Conv2D(128, (3, 3), strides=(2, 2), padding='same')(layer)\n",
    "    layer = tf.keras.layers.LeakyReLU(alpha=0.2)(layer)\n",
    "    layer = tf.keras.layers.Conv2D(128, (3, 3), strides=(2, 2), padding='same')(layer)\n",
    "    layer = tf.keras.layers.LeakyReLU(alpha=0.2)(layer)\n",
    "    layer = tf.keras.layers.Conv2D(256, (3, 3), strides=(2, 2), padding='same')(layer)\n",
    "    layer = tf.keras.layers.LeakyReLU(alpha=0.2)(layer)\n",
    "    layer = tf.keras.layers.Conv2D(256, (3, 3), strides=(2, 2), padding='same')(layer)\n",
    "    layer = tf.keras.layers.LeakyReLU(alpha=0.2)(layer)\n",
    "    layer = tf.keras.layers.Flatten()(layer)\n",
    "\n",
    "    # label branch\n",
    "    label_layer = tf.keras.layers.Dense(64)(label_input)\n",
    "    label_layer = tf.keras.layers.LeakyReLU(alpha=0.2)(label_layer)\n",
    "    label_layer = tf.keras.layers.Dense(128)(label_layer)\n",
    "    label_layer = tf.keras.layers.LeakyReLU(alpha=0.2)(label_layer)\n",
    "    label_layer = tf.keras.layers.Dense(256)(label_layer)\n",
    "    # label_layer = tf.keras.layers.LeakyReLU(alpha=0.2)(label_layer)\n",
    "    # label_layer = tf.keras.layers.Dense(256)(label_layer)\n",
    "    label_layer = tf.keras.layers.LeakyReLU(alpha=0.2)(label_layer)\n",
    "    label_layer = tf.keras.layers.Flatten()(label_layer)\n",
    "\n",
    "    # concatenate image and label branches\n",
    "    layer = tf.keras.layers.concatenate([layer, label_layer])\n",
    "    layer = tf.keras.layers.Dropout(0.4)(layer)\n",
    "    layer = tf.keras.layers.Dense(1, activation='sigmoid')(layer)\n",
    "    \n",
    "    # define the model\n",
    "    model = tf.keras.models.Model(inputs=[img_input, label_input], outputs=layer)\n",
    "\n",
    "    # compile the model\n",
    "    opt = tf.keras.optimizers.Adam(learning_rate=0.0001, beta_1=0.5)\n",
    "    model.compile(loss='binary_crossentropy', optimizer=opt, metrics=['accuracy'])\n",
    "    \n",
    "    return model\n",
    "\n",
    "    \n",
    "def define_aegenerator(latent_dim, num_classes, input_shape):\n",
    "    # Encoder network\n",
    "    encoder_input = tf.keras.layers.Input(shape=input_shape)\n",
    "    encoder = tf.keras.layers.Conv2D(64, (3, 3), padding='same')(encoder_input)\n",
    "    encoder = tf.keras.layers.LeakyReLU(alpha=0.2)(encoder)\n",
    "    encoder = tf.keras.layers.Conv2D(128, (3, 3), strides=(2, 2), padding='same')(encoder)\n",
    "    encoder = tf.keras.layers.LeakyReLU(alpha=0.2)(encoder)\n",
    "    encoder = tf.keras.layers.Conv2D(128, (3, 3), strides=(2, 2), padding='same')(encoder)\n",
    "    encoder = tf.keras.layers.LeakyReLU(alpha=0.2)(encoder)\n",
    "    encoder = tf.keras.layers.Conv2D(256, (3, 3), strides=(2, 2), padding='same')(encoder)\n",
    "    encoder = tf.keras.layers.LeakyReLU(alpha=0.2)(encoder)\n",
    "    encoder = tf.keras.layers.Conv2D(256, (3, 3), strides=(2, 2), padding='same')(encoder)\n",
    "    encoder = tf.keras.layers.LeakyReLU(alpha=0.2)(encoder)\n",
    "    encoder = tf.keras.layers.Flatten()(encoder)\n",
    "    encoder = tf.keras.layers.Dense(latent_dim)(encoder)\n",
    "    # Decoder network\n",
    "    generator_input = tf.keras.layers.Input(shape=(latent_dim,))\n",
    "    label_input = tf.keras.layers.Input(shape=(num_classes,))\n",
    "    # Concatenate the latent representation and class label\n",
    "    merge = tf.keras.layers.concatenate([generator_input, label_input])\n",
    "    # Project to a larger dimension\n",
    "    n = 128\n",
    "    size = int(input_shape[0]/16)\n",
    "    n_nodes = n * size * size\n",
    "    dense = tf.keras.layers.Dense(n_nodes)(merge)\n",
    "    # Reshape the dense layer output\n",
    "    reshaped = tf.keras.layers.Reshape((size, size, n))(dense)\n",
    "    # Upsample the feature maps\n",
    "    upsampled = tf.keras.layers.Conv2DTranspose(256, (4,4), strides=(2,2), padding='same')(reshaped)\n",
    "    upsampled = tf.keras.layers.LeakyReLU(alpha=0.2)(upsampled)\n",
    "    upsampled = tf.keras.layers.Conv2DTranspose(256, (4,4), strides=(2,2), padding='same')(upsampled)\n",
    "    upsampled = tf.keras.layers.LeakyReLU(alpha=0.2)(upsampled)\n",
    "    upsampled = tf.keras.layers.Conv2DTranspose(128, (4,4), strides=(2,2), padding='same')(upsampled)\n",
    "    upsampled = tf.keras.layers.LeakyReLU(alpha=0.2)(upsampled)\n",
    "    upsampled = tf.keras.layers.Conv2DTranspose(128, (4,4), strides=(2,2), padding='same')(upsampled)\n",
    "    upsampled = tf.keras.layers.LeakyReLU(alpha=0.2)(upsampled)\n",
    "    # Output layer\n",
    "    generator_output = tf.keras.layers.Conv2D(3, (3,3), activation='tanh', padding='same')(upsampled)\n",
    "    # Define the model\n",
    "    generator = tf.keras.models.Model([generator_input, label_input], generator_output)\n",
    "    return generator"
   ]
  },
  {
   "cell_type": "code",
   "execution_count": 45,
   "metadata": {},
   "outputs": [],
   "source": [
    "def define_gan(g_model, d_model):\n",
    "    d_model.trainable = False\n",
    "    gen_noise, gen_label = g_model.input\n",
    "    gen_output = g_model.output\n",
    "    gan_output = d_model([gen_output, gen_label])\n",
    "    model = tf.keras.Model([gen_noise, gen_label], gan_output)\n",
    "    opt = tf.keras.optimizers.Adam(learning_rate=0.0002, beta_1=0.5)\n",
    "    model.compile(loss='binary_crossentropy', optimizer=opt)\n",
    "    return model"
   ]
  },
  {
   "cell_type": "code",
   "execution_count": 46,
   "metadata": {},
   "outputs": [
    {
     "name": "stdout",
     "output_type": "stream",
     "text": [
      "Model: \"model_8\"\n",
      "__________________________________________________________________________________________________\n",
      " Layer (type)                   Output Shape         Param #     Connected to                     \n",
      "==================================================================================================\n",
      " input_23 (InputLayer)          [(None, 96, 96, 3)]  0           []                               \n",
      "                                                                                                  \n",
      " conv2d_68 (Conv2D)             (None, 96, 96, 64)   1792        ['input_23[0][0]']               \n",
      "                                                                                                  \n",
      " leaky_re_lu_86 (LeakyReLU)     (None, 96, 96, 64)   0           ['conv2d_68[0][0]']              \n",
      "                                                                                                  \n",
      " conv2d_69 (Conv2D)             (None, 48, 48, 128)  73856       ['leaky_re_lu_86[0][0]']         \n",
      "                                                                                                  \n",
      " leaky_re_lu_87 (LeakyReLU)     (None, 48, 48, 128)  0           ['conv2d_69[0][0]']              \n",
      "                                                                                                  \n",
      " input_24 (InputLayer)          [(None, 18)]         0           []                               \n",
      "                                                                                                  \n",
      " conv2d_70 (Conv2D)             (None, 24, 24, 128)  147584      ['leaky_re_lu_87[0][0]']         \n",
      "                                                                                                  \n",
      " dense_20 (Dense)               (None, 64)           1216        ['input_24[0][0]']               \n",
      "                                                                                                  \n",
      " leaky_re_lu_88 (LeakyReLU)     (None, 24, 24, 128)  0           ['conv2d_70[0][0]']              \n",
      "                                                                                                  \n",
      " leaky_re_lu_91 (LeakyReLU)     (None, 64)           0           ['dense_20[0][0]']               \n",
      "                                                                                                  \n",
      " conv2d_71 (Conv2D)             (None, 12, 12, 256)  295168      ['leaky_re_lu_88[0][0]']         \n",
      "                                                                                                  \n",
      " dense_21 (Dense)               (None, 128)          8320        ['leaky_re_lu_91[0][0]']         \n",
      "                                                                                                  \n",
      " leaky_re_lu_89 (LeakyReLU)     (None, 12, 12, 256)  0           ['conv2d_71[0][0]']              \n",
      "                                                                                                  \n",
      " leaky_re_lu_92 (LeakyReLU)     (None, 128)          0           ['dense_21[0][0]']               \n",
      "                                                                                                  \n",
      " conv2d_72 (Conv2D)             (None, 6, 6, 256)    590080      ['leaky_re_lu_89[0][0]']         \n",
      "                                                                                                  \n",
      " dense_22 (Dense)               (None, 256)          33024       ['leaky_re_lu_92[0][0]']         \n",
      "                                                                                                  \n",
      " leaky_re_lu_90 (LeakyReLU)     (None, 6, 6, 256)    0           ['conv2d_72[0][0]']              \n",
      "                                                                                                  \n",
      " leaky_re_lu_93 (LeakyReLU)     (None, 256)          0           ['dense_22[0][0]']               \n",
      "                                                                                                  \n",
      " flatten_14 (Flatten)           (None, 9216)         0           ['leaky_re_lu_90[0][0]']         \n",
      "                                                                                                  \n",
      " flatten_15 (Flatten)           (None, 256)          0           ['leaky_re_lu_93[0][0]']         \n",
      "                                                                                                  \n",
      " concatenate_6 (Concatenate)    (None, 9472)         0           ['flatten_14[0][0]',             \n",
      "                                                                  'flatten_15[0][0]']             \n",
      "                                                                                                  \n",
      " dropout_8 (Dropout)            (None, 9472)         0           ['concatenate_6[0][0]']          \n",
      "                                                                                                  \n",
      " dense_23 (Dense)               (None, 1)            9473        ['dropout_8[0][0]']              \n",
      "                                                                                                  \n",
      "==================================================================================================\n",
      "Total params: 1,160,513\n",
      "Trainable params: 1,160,513\n",
      "Non-trainable params: 0\n",
      "__________________________________________________________________________________________________\n"
     ]
    }
   ],
   "source": [
    "# build and compile the discriminator\n",
    "discriminator = define_discriminator(input_shape, num_classes)\n",
    "discriminator.summary()"
   ]
  },
  {
   "cell_type": "code",
   "execution_count": 47,
   "metadata": {},
   "outputs": [
    {
     "name": "stdout",
     "output_type": "stream",
     "text": [
      "Model: \"model_9\"\n",
      "__________________________________________________________________________________________________\n",
      " Layer (type)                   Output Shape         Param #     Connected to                     \n",
      "==================================================================================================\n",
      " input_26 (InputLayer)          [(None, 100)]        0           []                               \n",
      "                                                                                                  \n",
      " input_27 (InputLayer)          [(None, 18)]         0           []                               \n",
      "                                                                                                  \n",
      " concatenate_7 (Concatenate)    (None, 118)          0           ['input_26[0][0]',               \n",
      "                                                                  'input_27[0][0]']               \n",
      "                                                                                                  \n",
      " dense_25 (Dense)               (None, 4608)         548352      ['concatenate_7[0][0]']          \n",
      "                                                                                                  \n",
      " reshape_6 (Reshape)            (None, 6, 6, 128)    0           ['dense_25[0][0]']               \n",
      "                                                                                                  \n",
      " conv2d_transpose_24 (Conv2DTra  (None, 12, 12, 256)  524544     ['reshape_6[0][0]']              \n",
      " nspose)                                                                                          \n",
      "                                                                                                  \n",
      " leaky_re_lu_99 (LeakyReLU)     (None, 12, 12, 256)  0           ['conv2d_transpose_24[0][0]']    \n",
      "                                                                                                  \n",
      " conv2d_transpose_25 (Conv2DTra  (None, 24, 24, 256)  1048832    ['leaky_re_lu_99[0][0]']         \n",
      " nspose)                                                                                          \n",
      "                                                                                                  \n",
      " leaky_re_lu_100 (LeakyReLU)    (None, 24, 24, 256)  0           ['conv2d_transpose_25[0][0]']    \n",
      "                                                                                                  \n",
      " conv2d_transpose_26 (Conv2DTra  (None, 48, 48, 128)  524416     ['leaky_re_lu_100[0][0]']        \n",
      " nspose)                                                                                          \n",
      "                                                                                                  \n",
      " leaky_re_lu_101 (LeakyReLU)    (None, 48, 48, 128)  0           ['conv2d_transpose_26[0][0]']    \n",
      "                                                                                                  \n",
      " conv2d_transpose_27 (Conv2DTra  (None, 96, 96, 128)  262272     ['leaky_re_lu_101[0][0]']        \n",
      " nspose)                                                                                          \n",
      "                                                                                                  \n",
      " leaky_re_lu_102 (LeakyReLU)    (None, 96, 96, 128)  0           ['conv2d_transpose_27[0][0]']    \n",
      "                                                                                                  \n",
      " conv2d_78 (Conv2D)             (None, 96, 96, 3)    3459        ['leaky_re_lu_102[0][0]']        \n",
      "                                                                                                  \n",
      "==================================================================================================\n",
      "Total params: 2,911,875\n",
      "Trainable params: 2,911,875\n",
      "Non-trainable params: 0\n",
      "__________________________________________________________________________________________________\n"
     ]
    }
   ],
   "source": [
    "# build the generator\n",
    "generator = define_aegenerator(latent_dim, num_classes, input_shape)\n",
    "generator.summary()"
   ]
  },
  {
   "cell_type": "code",
   "execution_count": 48,
   "metadata": {},
   "outputs": [
    {
     "name": "stdout",
     "output_type": "stream",
     "text": [
      "Model: \"model_10\"\n",
      "__________________________________________________________________________________________________\n",
      " Layer (type)                   Output Shape         Param #     Connected to                     \n",
      "==================================================================================================\n",
      " input_26 (InputLayer)          [(None, 100)]        0           []                               \n",
      "                                                                                                  \n",
      " input_27 (InputLayer)          [(None, 18)]         0           []                               \n",
      "                                                                                                  \n",
      " concatenate_7 (Concatenate)    (None, 118)          0           ['input_26[0][0]',               \n",
      "                                                                  'input_27[0][0]']               \n",
      "                                                                                                  \n",
      " dense_25 (Dense)               (None, 4608)         548352      ['concatenate_7[0][0]']          \n",
      "                                                                                                  \n",
      " reshape_6 (Reshape)            (None, 6, 6, 128)    0           ['dense_25[0][0]']               \n",
      "                                                                                                  \n",
      " conv2d_transpose_24 (Conv2DTra  (None, 12, 12, 256)  524544     ['reshape_6[0][0]']              \n",
      " nspose)                                                                                          \n",
      "                                                                                                  \n",
      " leaky_re_lu_99 (LeakyReLU)     (None, 12, 12, 256)  0           ['conv2d_transpose_24[0][0]']    \n",
      "                                                                                                  \n",
      " conv2d_transpose_25 (Conv2DTra  (None, 24, 24, 256)  1048832    ['leaky_re_lu_99[0][0]']         \n",
      " nspose)                                                                                          \n",
      "                                                                                                  \n",
      " leaky_re_lu_100 (LeakyReLU)    (None, 24, 24, 256)  0           ['conv2d_transpose_25[0][0]']    \n",
      "                                                                                                  \n",
      " conv2d_transpose_26 (Conv2DTra  (None, 48, 48, 128)  524416     ['leaky_re_lu_100[0][0]']        \n",
      " nspose)                                                                                          \n",
      "                                                                                                  \n",
      " leaky_re_lu_101 (LeakyReLU)    (None, 48, 48, 128)  0           ['conv2d_transpose_26[0][0]']    \n",
      "                                                                                                  \n",
      " conv2d_transpose_27 (Conv2DTra  (None, 96, 96, 128)  262272     ['leaky_re_lu_101[0][0]']        \n",
      " nspose)                                                                                          \n",
      "                                                                                                  \n",
      " leaky_re_lu_102 (LeakyReLU)    (None, 96, 96, 128)  0           ['conv2d_transpose_27[0][0]']    \n",
      "                                                                                                  \n",
      " conv2d_78 (Conv2D)             (None, 96, 96, 3)    3459        ['leaky_re_lu_102[0][0]']        \n",
      "                                                                                                  \n",
      " model_8 (Functional)           (None, 1)            1160513     ['conv2d_78[0][0]',              \n",
      "                                                                  'input_27[0][0]']               \n",
      "                                                                                                  \n",
      "==================================================================================================\n",
      "Total params: 4,072,388\n",
      "Trainable params: 2,911,875\n",
      "Non-trainable params: 1,160,513\n",
      "__________________________________________________________________________________________________\n"
     ]
    }
   ],
   "source": [
    "# build the gan\n",
    "gan_model = define_gan(generator, discriminator)\n",
    "gan_model.summary()"
   ]
  },
  {
   "cell_type": "code",
   "execution_count": 49,
   "metadata": {},
   "outputs": [
    {
     "data": {
      "image/png": "[encoded data removed]",
      "text/plain": [
       "<IPython.core.display.Image object>"
      ]
     },
     "execution_count": 49,
     "metadata": {},
     "output_type": "execute_result"
    }
   ],
   "source": [
    "dot_img_file = '/AEGAN.png'\n",
    "tf.keras.utils.plot_model(gan_model, to_file=dot_img_file, show_shapes=True)"
   ]
  },
  {
   "cell_type": "code",
   "execution_count": 50,
   "metadata": {},
   "outputs": [],
   "source": [
    "def generate_fake_samples(g_model, latent_dim, n_samples, n_classes):\n",
    "    # generate points in latent space\n",
    "    noise_input = generate_latent_points(latent_dim, n_samples)\n",
    "    # generate random class labels\n",
    "    y_types = generate_class_labels(n_samples, n_classes)\n",
    "    # predict outputs\n",
    "    X = g_model.predict([noise_input, y_types], verbose=0)\n",
    "    # # create 'fake' class labels (0)\n",
    "    y_class = tf.zeros((n_samples, 1))\n",
    "    return X, y_types, y_class\n",
    "\n",
    "def generate_latent_points(latent_dim, n_samples):\n",
    "    # generate points in the latent space\n",
    "    x_input = tf.random.normal(shape=(n_samples, latent_dim))\n",
    "    return x_input\n",
    "\n",
    "def generate_class_labels(n_samples, n_classes):\n",
    "    class_labels = np.zeros((n_samples, n_classes))\n",
    "    for i in range(n_samples):\n",
    "        class_labels[i, np.random.randint(0, n_classes)] = 1\n",
    "        if np.random.random() > 0.5:\n",
    "            class_labels[i, np.random.randint(0, n_classes)] = 1\n",
    "    class_labels = tf.convert_to_tensor(class_labels, dtype=tf.float32)\n",
    "    # print(class_labels)\n",
    "    return class_labels\n",
    "\n",
    "def generate_real_samples(dataset, n_samples):\n",
    "    X, y_types, y_class = [], [], []\n",
    "    while len(X) < n_samples:\n",
    "        dataset.shuffle(100)\n",
    "        for x, label in dataset.take(5):\n",
    "            for i in range(len(x)):\n",
    "                X.append(x[i])\n",
    "                y_types.append(label[i][1:])\n",
    "                y_class.append(label[i][0])\n",
    "                if len(X) == n_samples:\n",
    "                    break\n",
    "            if len(X) == n_samples:\n",
    "                break\n",
    "    X = tf.stack(X)\n",
    "    y_types = tf.stack(y_types)\n",
    "    y_class = tf.reshape(tf.stack(y_class), (n_samples, 1))\n",
    "    return X, y_types, y_class"
   ]
  },
  {
   "cell_type": "code",
   "execution_count": 51,
   "metadata": {},
   "outputs": [],
   "source": [
    "def summarize_performance(epoch, g_model, d_model, dataset, latent_dim, n_samples=100):\n",
    "    # prepare real samples\n",
    "    X_real, y_real_types, y_real_class = generate_real_samples(dataset, n_samples)\n",
    "    # print(X_real.shape, y_real_types.shape, y_real_class.shape)\n",
    "    # evaluate discriminator on real examples\n",
    "    _, acc_real = d_model.evaluate([X_real, y_real_types], y_real_class, verbose=0)\n",
    "    # prepare fake examples\n",
    "    x_fake, y_fake_types, y_fake_class = generate_fake_samples(g_model, latent_dim, n_samples, 18)\n",
    "    # evaluate discriminator on fake examples\n",
    "    _, acc_fake = d_model.evaluate([x_fake, y_fake_types], y_fake_class, verbose=0)\n",
    "    # summarize discriminator performance\n",
    "    print('>Accuracy real: %.0f%%, fake: %.0f%%' % (acc_real*100, acc_fake*100))\n",
    "    # save plot\n",
    "    save_plot(x_fake, epoch)\n",
    "    # save the generator model tile file\n",
    "    filename = 'aegenerator_model_64_e%03d.h5' % (epoch+1)\n",
    "    g_model.save(filename)\n",
    "\n",
    "def save_plot(examples, epoch, n=10):\n",
    "    # plot images\n",
    "    for i in range(n * n):\n",
    "        # define subplot\n",
    "        plt.subplot(n, n, 1 + i)\n",
    "        # turn off axis\n",
    "        plt.axis('off')\n",
    "        # scale from [-1,1] to [0,1]\n",
    "        examples[i, :, :, :] = (examples[i, :, :, :] + 1) / 2.0\n",
    "        # plot raw pixel data\n",
    "        plt.imshow(examples[i, :, :, :])\n",
    "    # save plot to file\n",
    "    filename = 'aegenerated_plot_64_e%03d.png' % (epoch+1)\n",
    "    plt.savefig(filename)\n",
    "    plt.close()"
   ]
  },
  {
   "cell_type": "code",
   "execution_count": 52,
   "metadata": {},
   "outputs": [],
   "source": [
    "def train(g_model, d_model, gan_model, dataset, latent_dim, n_epochs=10, n_batch=64, resume_training=0):\n",
    "    # checkpoint_dir = './checkpoints/'\n",
    "    # checkpoint = tf.train.Checkpoint(gan_optimizer=gan_model.optimizer,\n",
    "    #                             discriminator_optimizer=d_model.optimizer,\n",
    "    #                                 generator=g_model,\n",
    "    #                                 discriminator=d_model,\n",
    "    #                                 gan_model = gan_model)\n",
    "    # ckpt_manager = tf.train.CheckpointManager(checkpoint, checkpoint_dir, max_to_keep=3)\n",
    "    bat_per_epo = int(dataset.cardinality())\n",
    "    # print(bat_per_epo)\n",
    "    # manually enumerate epochs\n",
    "    for i in range(n_epochs):\n",
    "        # enumerate batches over the training set\n",
    "        for j, batch in enumerate(dataset):\n",
    "            # get randomly selected 'real' samples\n",
    "            X_real, y_real_types, y_real_class = batch[0], batch[1][:, 1:], batch[1][:, 0]\n",
    "            # print(y_real_types[0])\n",
    "            # plot_image(X_real[0], str(y_real_class[0]), size=64)\n",
    "            half_batch = int(X_real.shape[0])\n",
    "            # generate 'fake' examples\n",
    "            X_fake, y_fake_types, y_fake_class = generate_fake_samples(g_model, latent_dim, half_batch, 18)\n",
    "            # print(y_fake_types[0])\n",
    "            # plot_image(X_fake[0], str(y_fake_class[0]), size=64)\n",
    "            # create training set for the discriminator\n",
    "            y_real_class = tf.reshape(y_real_class, (half_batch, 1))\n",
    "            X, y_types, y_class = tf.concat([X_real, X_fake], axis=0), tf.concat([y_real_types, y_fake_types], axis=0), tf.concat([y_real_class, y_fake_class], axis=0)\n",
    "            # update discriminator model weights\n",
    "            # print(\"\\ntraining on both real and fake for discriminator...\\n\")\n",
    "            d_loss, _ = d_model.train_on_batch([X, y_types], y_class)\n",
    "            # prepare points in latent space as input for the generator\n",
    "            X_gan, y_gan_types, y_gan_class = generate_latent_points(latent_dim, n_batch), generate_class_labels(n_batch, 18), tf.ones((n_batch, 1))\n",
    "            # print(X_gan.shape, y_gan_types.shape, y_gan_class.shape)\n",
    "            # print(y_gan_types[0])\n",
    "            # print(y_gan_class[0])\n",
    "            # print(\"\\ntraining on random latent points for generator...\\n\")\n",
    "            g_loss = gan_model.train_on_batch([X_gan, y_gan_types], y_gan_class)\n",
    "            # summarize loss on this batch\n",
    "            print('>%d, %d/%d, d=%.3f, g=%.3f' % (i+resume_training+1, j+1, bat_per_epo, d_loss, g_loss))\n",
    "            # break\n",
    "        # evaluate the model performance, sometimes\n",
    "        if (i+resume_training) % 10 == 0:\n",
    "            # ckpt_save_path = ckpt_manager.save()\n",
    "            # print ('Saving checkpoint for epoch {} at {}'.format(i+1,ckpt_save_path))\n",
    "            summarize_performance(i+resume_training, g_model, d_model, dataset, latent_dim)\n",
    "            pass\n",
    "    # save the generator model\n",
    "    g_model.save('aegenerator_model_64_final.h5')\n"
   ]
  },
  {
   "cell_type": "code",
   "execution_count": 53,
   "metadata": {},
   "outputs": [
    {
     "name": "stdout",
     "output_type": "stream",
     "text": [
      ">1, 1/433, d=0.691, g=0.683\n",
      ">1, 2/433, d=0.637, g=0.683\n",
      ">1, 3/433, d=0.578, g=0.682\n",
      ">1, 4/433, d=0.506, g=0.675\n",
      ">1, 5/433, d=0.428, g=0.653\n",
      ">1, 6/433, d=0.415, g=0.599\n",
      ">1, 7/433, d=0.482, g=0.543\n",
      ">1, 8/433, d=0.561, g=0.534\n",
      ">1, 9/433, d=0.585, g=0.566\n",
      ">1, 10/433, d=0.588, g=0.620\n",
      ">1, 11/433, d=0.588, g=0.657\n",
      ">1, 12/433, d=0.594, g=0.705\n",
      ">1, 13/433, d=0.560, g=0.814\n",
      ">1, 14/433, d=0.526, g=0.937\n",
      ">1, 15/433, d=0.450, g=1.285\n",
      ">1, 16/433, d=0.378, g=1.261\n",
      ">1, 17/433, d=0.321, g=1.665\n",
      ">1, 18/433, d=0.347, g=1.026\n",
      ">1, 19/433, d=0.317, g=0.950\n",
      ">1, 20/433, d=0.294, g=0.941\n",
      ">1, 21/433, d=0.298, g=0.881\n",
      ">1, 22/433, d=0.313, g=0.830\n",
      ">1, 23/433, d=0.312, g=0.810\n",
      ">1, 24/433, d=0.315, g=0.798\n",
      ">1, 25/433, d=0.320, g=0.792\n",
      ">1, 26/433, d=0.343, g=0.776\n",
      ">1, 27/433, d=0.422, g=0.747\n",
      ">1, 28/433, d=0.409, g=0.900\n",
      ">1, 29/433, d=0.264, g=1.166\n",
      ">1, 30/433, d=0.243, g=1.092\n",
      ">1, 31/433, d=0.263, g=0.963\n",
      ">1, 32/433, d=0.266, g=0.966\n",
      ">1, 33/433, d=0.245, g=1.013\n",
      ">1, 34/433, d=0.229, g=1.084\n",
      ">1, 35/433, d=0.212, g=1.180\n",
      ">1, 36/433, d=0.194, g=1.307\n",
      ">1, 37/433, d=0.172, g=1.478\n",
      ">1, 38/433, d=0.173, g=1.721\n",
      ">1, 39/433, d=0.121, g=2.254\n",
      ">1, 40/433, d=0.064, g=2.896\n",
      ">1, 41/433, d=0.116, g=2.005\n",
      ">1, 42/433, d=0.132, g=1.645\n",
      ">1, 43/433, d=0.914, g=1.129\n",
      ">1, 44/433, d=1.316, g=1.317\n",
      ">1, 45/433, d=0.667, g=2.852\n",
      ">1, 46/433, d=0.812, g=0.656\n",
      ">1, 47/433, d=0.495, g=0.980\n",
      ">1, 48/433, d=0.364, g=2.558\n",
      ">1, 49/433, d=0.235, g=3.050\n",
      ">1, 50/433, d=0.238, g=1.744\n",
      ">1, 51/433, d=0.256, g=2.521\n",
      ">1, 52/433, d=0.258, g=2.397\n",
      ">1, 53/433, d=0.268, g=1.850\n",
      ">1, 54/433, d=0.354, g=2.638\n",
      ">1, 55/433, d=0.340, g=0.804\n",
      ">1, 56/433, d=0.557, g=2.509\n",
      ">1, 57/433, d=0.433, g=1.769\n",
      ">1, 58/433, d=0.374, g=1.643\n",
      ">1, 59/433, d=0.362, g=2.014\n",
      ">1, 60/433, d=0.453, g=2.632\n",
      ">1, 61/433, d=0.462, g=4.906\n",
      ">1, 62/433, d=0.244, g=5.151\n",
      ">1, 63/433, d=0.100, g=5.396\n",
      ">1, 64/433, d=0.022, g=5.641\n",
      ">1, 65/433, d=0.025, g=5.790\n",
      ">1, 66/433, d=0.042, g=5.651\n",
      ">1, 67/433, d=1.209, g=7.777\n",
      ">1, 68/433, d=2.305, g=0.881\n",
      ">1, 69/433, d=0.744, g=1.264\n",
      ">1, 70/433, d=0.537, g=2.017\n",
      ">1, 71/433, d=0.495, g=1.764\n",
      ">1, 72/433, d=0.523, g=1.433\n",
      ">1, 73/433, d=0.477, g=1.316\n",
      ">1, 74/433, d=0.606, g=1.079\n",
      ">1, 75/433, d=0.497, g=1.374\n",
      ">1, 76/433, d=0.512, g=1.254\n",
      ">1, 77/433, d=0.531, g=1.033\n",
      ">1, 78/433, d=0.498, g=1.052\n",
      ">1, 79/433, d=0.593, g=1.131\n",
      ">1, 80/433, d=0.579, g=1.139\n",
      ">1, 81/433, d=0.551, g=1.274\n",
      ">1, 82/433, d=0.677, g=1.188\n",
      ">1, 83/433, d=0.527, g=1.081\n",
      ">1, 84/433, d=0.456, g=1.160\n",
      ">1, 85/433, d=0.451, g=1.154\n",
      ">1, 86/433, d=0.578, g=1.382\n",
      ">1, 87/433, d=0.576, g=1.268\n",
      ">1, 88/433, d=0.466, g=1.337\n",
      ">1, 89/433, d=0.470, g=1.322\n",
      ">1, 90/433, d=0.455, g=1.112\n",
      ">1, 91/433, d=0.434, g=1.467\n",
      ">1, 92/433, d=0.521, g=1.198\n",
      ">1, 93/433, d=0.497, g=1.113\n",
      ">1, 94/433, d=0.446, g=1.262\n",
      ">1, 95/433, d=0.435, g=1.331\n",
      ">1, 96/433, d=0.467, g=1.427\n",
      ">1, 97/433, d=0.478, g=1.447\n",
      ">1, 98/433, d=0.632, g=0.857\n",
      ">1, 99/433, d=0.596, g=1.063\n",
      ">1, 100/433, d=0.599, g=1.443\n",
      ">1, 101/433, d=0.623, g=1.180\n",
      ">1, 102/433, d=0.471, g=1.678\n",
      ">1, 103/433, d=0.347, g=2.144\n",
      ">1, 104/433, d=0.343, g=1.701\n",
      ">1, 105/433, d=0.334, g=1.388\n",
      ">1, 106/433, d=0.378, g=2.295\n",
      ">1, 107/433, d=0.442, g=2.134\n",
      ">1, 108/433, d=0.386, g=1.998\n",
      ">1, 109/433, d=0.418, g=0.816\n",
      ">1, 110/433, d=0.572, g=2.932\n",
      ">1, 111/433, d=0.735, g=1.386\n",
      ">1, 112/433, d=0.545, g=1.554\n",
      ">1, 113/433, d=0.338, g=2.229\n",
      ">1, 114/433, d=0.484, g=1.870\n",
      ">1, 115/433, d=0.400, g=2.180\n",
      ">1, 116/433, d=0.446, g=1.920\n",
      ">1, 117/433, d=0.724, g=1.290\n",
      ">1, 118/433, d=0.439, g=1.461\n",
      ">1, 119/433, d=0.465, g=1.395\n",
      ">1, 120/433, d=0.344, g=1.429\n",
      ">1, 121/433, d=0.301, g=1.563\n",
      ">1, 122/433, d=0.332, g=1.819\n",
      ">1, 123/433, d=0.393, g=2.449\n",
      ">1, 124/433, d=0.417, g=2.355\n",
      ">1, 125/433, d=0.391, g=3.256\n",
      ">1, 126/433, d=0.453, g=1.731\n",
      ">1, 127/433, d=0.849, g=3.510\n",
      ">1, 128/433, d=0.755, g=1.190\n",
      ">1, 129/433, d=0.516, g=1.594\n",
      ">1, 130/433, d=0.563, g=2.302\n",
      ">1, 131/433, d=0.720, g=0.961\n",
      ">1, 132/433, d=0.739, g=1.996\n",
      ">1, 133/433, d=0.618, g=1.942\n",
      ">1, 134/433, d=0.601, g=1.090\n",
      ">1, 135/433, d=0.489, g=1.773\n",
      ">1, 136/433, d=0.428, g=2.236\n",
      ">1, 137/433, d=0.483, g=1.212\n",
      ">1, 138/433, d=0.488, g=1.527\n",
      ">1, 139/433, d=0.406, g=2.531\n",
      ">1, 140/433, d=0.475, g=1.762\n",
      ">1, 141/433, d=0.503, g=1.089\n",
      ">1, 142/433, d=0.519, g=1.353\n",
      ">1, 143/433, d=0.559, g=1.929\n",
      ">1, 144/433, d=0.456, g=1.657\n",
      ">1, 145/433, d=0.531, g=1.194\n",
      ">1, 146/433, d=0.458, g=2.287\n",
      ">1, 147/433, d=0.423, g=1.836\n",
      ">1, 148/433, d=0.494, g=1.147\n",
      ">1, 149/433, d=0.418, g=1.753\n",
      ">1, 150/433, d=0.479, g=1.455\n",
      ">1, 151/433, d=0.441, g=1.686\n",
      ">1, 152/433, d=0.432, g=1.809\n",
      ">1, 153/433, d=0.634, g=1.081\n",
      ">1, 154/433, d=0.605, g=1.678\n",
      ">1, 155/433, d=0.647, g=1.531\n",
      ">1, 156/433, d=0.665, g=1.432\n",
      ">1, 157/433, d=0.779, g=1.465\n",
      ">1, 158/433, d=0.664, g=1.630\n",
      ">1, 159/433, d=0.735, g=1.512\n",
      ">1, 160/433, d=0.535, g=1.516\n",
      ">1, 161/433, d=0.517, g=1.624\n",
      ">1, 162/433, d=0.411, g=1.927\n",
      ">1, 163/433, d=0.524, g=1.594\n",
      ">1, 164/433, d=0.581, g=1.578\n",
      ">1, 165/433, d=0.717, g=1.248\n",
      ">1, 166/433, d=0.624, g=1.389\n",
      ">1, 167/433, d=0.774, g=0.936\n",
      ">1, 168/433, d=0.730, g=1.132\n",
      ">1, 169/433, d=0.727, g=1.260\n",
      ">1, 170/433, d=0.628, g=1.375\n",
      ">1, 171/433, d=0.533, g=1.605\n",
      ">1, 172/433, d=0.629, g=1.908\n",
      ">1, 173/433, d=0.506, g=1.957\n",
      ">1, 174/433, d=0.431, g=1.696\n",
      ">1, 175/433, d=0.554, g=1.561\n",
      ">1, 176/433, d=0.645, g=1.414\n",
      ">1, 177/433, d=0.616, g=1.429\n",
      ">1, 178/433, d=0.516, g=1.283\n",
      ">1, 179/433, d=0.423, g=1.374\n",
      ">1, 180/433, d=0.369, g=1.439\n",
      ">1, 181/433, d=0.309, g=1.784\n",
      ">1, 182/433, d=0.365, g=1.565\n",
      ">1, 183/433, d=0.293, g=1.578\n",
      ">1, 184/433, d=0.254, g=1.978\n",
      ">1, 185/433, d=0.339, g=2.443\n",
      ">1, 186/433, d=0.467, g=1.649\n",
      ">1, 187/433, d=0.507, g=1.994\n",
      ">1, 188/433, d=0.504, g=1.897\n",
      ">1, 189/433, d=0.538, g=1.820\n",
      ">1, 190/433, d=0.614, g=1.325\n",
      ">1, 191/433, d=0.542, g=2.720\n",
      ">1, 192/433, d=0.629, g=1.831\n",
      ">1, 193/433, d=0.472, g=1.156\n",
      ">1, 194/433, d=0.545, g=1.866\n",
      ">1, 195/433, d=0.505, g=1.796\n",
      ">1, 196/433, d=0.482, g=1.412\n",
      ">1, 197/433, d=0.465, g=1.560\n",
      ">1, 198/433, d=0.490, g=1.560\n",
      ">1, 199/433, d=0.630, g=1.437\n",
      ">1, 200/433, d=0.594, g=1.513\n",
      ">1, 201/433, d=0.603, g=1.716\n",
      ">1, 202/433, d=0.619, g=1.796\n",
      ">1, 203/433, d=0.675, g=1.496\n",
      ">1, 204/433, d=0.611, g=1.478\n",
      ">1, 205/433, d=0.502, g=1.638\n",
      ">1, 206/433, d=0.428, g=1.896\n",
      ">1, 207/433, d=0.345, g=2.122\n",
      ">1, 208/433, d=0.237, g=2.107\n",
      ">1, 209/433, d=0.269, g=2.021\n",
      ">1, 210/433, d=0.240, g=2.377\n",
      ">1, 211/433, d=0.197, g=2.407\n",
      ">1, 212/433, d=0.191, g=2.404\n",
      ">1, 213/433, d=0.229, g=2.351\n",
      ">1, 214/433, d=0.227, g=2.353\n",
      ">1, 215/433, d=0.211, g=2.300\n",
      ">1, 216/433, d=0.251, g=1.931\n",
      ">1, 217/433, d=0.219, g=2.745\n",
      ">1, 218/433, d=0.253, g=2.160\n",
      ">1, 219/433, d=0.302, g=1.432\n",
      ">1, 220/433, d=0.314, g=2.275\n",
      ">1, 221/433, d=0.199, g=3.176\n",
      ">1, 222/433, d=0.458, g=0.900\n",
      ">1, 223/433, d=0.548, g=3.724\n",
      ">1, 224/433, d=0.307, g=2.998\n",
      ">1, 225/433, d=0.394, g=1.269\n",
      ">1, 226/433, d=0.434, g=1.601\n",
      ">1, 227/433, d=0.318, g=2.657\n",
      ">1, 228/433, d=0.234, g=2.629\n",
      ">1, 229/433, d=0.420, g=1.557\n",
      ">1, 230/433, d=0.412, g=1.971\n",
      ">1, 231/433, d=0.313, g=2.461\n",
      ">1, 232/433, d=0.562, g=1.719\n",
      ">1, 233/433, d=0.530, g=1.708\n",
      ">1, 234/433, d=0.675, g=1.980\n",
      ">1, 235/433, d=0.484, g=1.432\n",
      ">1, 236/433, d=0.489, g=1.228\n",
      ">1, 237/433, d=0.513, g=1.172\n",
      ">1, 238/433, d=0.554, g=1.804\n",
      ">1, 239/433, d=0.398, g=1.579\n",
      ">1, 240/433, d=0.438, g=1.384\n",
      ">1, 241/433, d=0.462, g=1.358\n",
      ">1, 242/433, d=0.324, g=1.591\n",
      ">1, 243/433, d=0.325, g=1.918\n",
      ">1, 244/433, d=0.311, g=2.155\n",
      ">1, 245/433, d=0.269, g=2.032\n",
      ">1, 246/433, d=0.424, g=1.902\n",
      ">1, 247/433, d=0.484, g=2.177\n",
      ">1, 248/433, d=0.521, g=2.160\n",
      ">1, 249/433, d=0.692, g=3.491\n",
      ">1, 250/433, d=0.717, g=1.560\n",
      ">1, 251/433, d=0.810, g=3.143\n",
      ">1, 252/433, d=0.709, g=1.089\n",
      ">1, 253/433, d=0.572, g=1.094\n",
      ">1, 254/433, d=0.518, g=1.478\n",
      ">1, 255/433, d=0.509, g=1.508\n",
      ">1, 256/433, d=0.436, g=1.380\n",
      ">1, 257/433, d=0.497, g=1.574\n",
      ">1, 258/433, d=0.554, g=1.351\n",
      ">1, 259/433, d=0.476, g=1.230\n",
      ">1, 260/433, d=0.543, g=1.181\n",
      ">1, 261/433, d=0.454, g=1.481\n",
      ">1, 262/433, d=0.444, g=1.398\n",
      ">1, 263/433, d=0.486, g=1.333\n",
      ">1, 264/433, d=0.512, g=1.660\n",
      ">1, 265/433, d=0.373, g=1.524\n",
      ">1, 266/433, d=0.386, g=1.660\n",
      ">1, 267/433, d=0.531, g=1.653\n",
      ">1, 268/433, d=0.474, g=2.811\n",
      ">1, 269/433, d=0.617, g=1.825\n",
      ">1, 270/433, d=0.545, g=1.096\n",
      ">1, 271/433, d=0.448, g=1.386\n",
      ">1, 272/433, d=0.429, g=1.442\n",
      ">1, 273/433, d=0.546, g=1.037\n",
      ">1, 274/433, d=0.505, g=1.587\n",
      ">1, 275/433, d=0.440, g=1.342\n",
      ">1, 276/433, d=0.420, g=1.467\n",
      ">1, 277/433, d=0.642, g=1.568\n",
      ">1, 278/433, d=0.459, g=1.932\n",
      ">1, 279/433, d=0.375, g=1.785\n",
      ">1, 280/433, d=0.474, g=2.179\n",
      ">1, 281/433, d=0.628, g=0.436\n",
      ">1, 282/433, d=0.856, g=3.920\n",
      ">1, 283/433, d=1.431, g=1.350\n",
      ">1, 284/433, d=0.790, g=0.837\n",
      ">1, 285/433, d=0.697, g=1.549\n",
      ">1, 286/433, d=0.748, g=1.185\n",
      ">1, 287/433, d=0.756, g=0.710\n",
      ">1, 288/433, d=0.606, g=0.844\n",
      ">1, 289/433, d=0.547, g=1.177\n",
      ">1, 290/433, d=0.465, g=1.295\n",
      ">1, 291/433, d=0.585, g=1.161\n",
      ">1, 292/433, d=0.546, g=1.034\n",
      ">1, 293/433, d=0.514, g=1.076\n",
      ">1, 294/433, d=0.556, g=1.063\n",
      ">1, 295/433, d=0.471, g=1.307\n",
      ">1, 296/433, d=0.552, g=1.221\n",
      ">1, 297/433, d=0.619, g=1.115\n",
      ">1, 298/433, d=0.491, g=0.983\n",
      ">1, 299/433, d=0.575, g=1.004\n",
      ">1, 300/433, d=0.531, g=1.205\n",
      ">1, 301/433, d=0.486, g=1.319\n",
      ">1, 302/433, d=0.507, g=1.273\n",
      ">1, 303/433, d=0.550, g=1.186\n",
      ">1, 304/433, d=0.542, g=1.096\n",
      ">1, 305/433, d=0.501, g=1.192\n",
      ">1, 306/433, d=0.411, g=1.241\n",
      ">1, 307/433, d=0.440, g=1.371\n",
      ">1, 308/433, d=0.386, g=1.455\n",
      ">1, 309/433, d=0.458, g=1.467\n",
      ">1, 310/433, d=0.392, g=1.428\n",
      ">1, 311/433, d=0.353, g=1.382\n",
      ">1, 312/433, d=0.395, g=1.303\n",
      ">1, 313/433, d=0.363, g=1.337\n",
      ">1, 314/433, d=0.352, g=1.619\n",
      ">1, 315/433, d=0.338, g=1.769\n",
      ">1, 316/433, d=0.343, g=2.127\n",
      ">1, 317/433, d=0.489, g=1.519\n",
      ">1, 318/433, d=1.106, g=1.111\n",
      ">1, 319/433, d=1.117, g=2.158\n",
      ">1, 320/433, d=0.914, g=3.006\n",
      ">1, 321/433, d=0.761, g=2.475\n",
      ">1, 322/433, d=0.519, g=1.711\n",
      ">1, 323/433, d=0.425, g=1.808\n",
      ">1, 324/433, d=0.488, g=2.122\n",
      ">1, 325/433, d=0.771, g=1.663\n",
      ">1, 326/433, d=1.039, g=1.775\n",
      ">1, 327/433, d=0.703, g=1.711\n",
      ">1, 328/433, d=0.763, g=1.599\n",
      ">1, 329/433, d=0.844, g=1.163\n",
      ">1, 330/433, d=0.755, g=0.860\n",
      ">1, 331/433, d=0.682, g=0.756\n",
      ">1, 332/433, d=0.642, g=0.860\n",
      ">1, 333/433, d=0.632, g=0.832\n",
      ">1, 334/433, d=0.612, g=0.876\n",
      ">1, 335/433, d=0.535, g=0.948\n",
      ">1, 336/433, d=0.553, g=0.972\n",
      ">1, 337/433, d=0.541, g=0.881\n",
      ">1, 338/433, d=0.584, g=0.921\n",
      ">1, 339/433, d=0.642, g=0.885\n",
      ">1, 340/433, d=0.600, g=0.886\n",
      ">1, 341/433, d=0.593, g=0.893\n",
      ">1, 342/433, d=0.562, g=0.935\n",
      ">1, 343/433, d=0.532, g=0.946\n",
      ">1, 344/433, d=0.615, g=0.834\n",
      ">1, 345/433, d=0.625, g=0.867\n",
      ">1, 346/433, d=0.689, g=0.889\n",
      ">1, 347/433, d=0.597, g=1.055\n",
      ">1, 348/433, d=0.635, g=1.029\n",
      ">1, 349/433, d=0.627, g=1.311\n",
      ">1, 350/433, d=0.544, g=1.383\n",
      ">1, 351/433, d=0.559, g=1.220\n",
      ">1, 352/433, d=0.496, g=1.257\n",
      ">1, 353/433, d=0.482, g=1.214\n",
      ">1, 354/433, d=0.503, g=1.239\n",
      ">1, 355/433, d=0.494, g=1.331\n",
      ">1, 356/433, d=0.518, g=1.251\n",
      ">1, 357/433, d=0.492, g=1.211\n",
      ">1, 358/433, d=0.415, g=1.422\n",
      ">1, 359/433, d=0.425, g=1.349\n",
      ">1, 360/433, d=0.372, g=1.454\n",
      ">1, 361/433, d=0.445, g=1.509\n",
      ">1, 362/433, d=0.460, g=1.478\n",
      ">1, 363/433, d=0.426, g=1.590\n",
      ">1, 364/433, d=0.362, g=1.282\n",
      ">1, 365/433, d=0.405, g=1.210\n",
      ">1, 366/433, d=0.393, g=1.876\n",
      ">1, 367/433, d=0.538, g=1.283\n",
      ">1, 368/433, d=0.542, g=1.267\n",
      ">1, 369/433, d=0.596, g=1.272\n",
      ">1, 370/433, d=0.593, g=1.176\n",
      ">1, 371/433, d=0.629, g=1.516\n",
      ">1, 372/433, d=0.838, g=1.081\n",
      ">1, 373/433, d=0.713, g=1.201\n",
      ">1, 374/433, d=0.782, g=1.651\n",
      ">1, 375/433, d=0.641, g=1.608\n",
      ">1, 376/433, d=0.626, g=1.357\n",
      ">1, 377/433, d=0.495, g=1.375\n",
      ">1, 378/433, d=0.491, g=1.729\n",
      ">1, 379/433, d=0.376, g=2.057\n",
      ">1, 380/433, d=0.412, g=1.906\n",
      ">1, 381/433, d=0.500, g=1.754\n",
      ">1, 382/433, d=0.587, g=1.887\n",
      ">1, 383/433, d=0.538, g=1.918\n",
      ">1, 384/433, d=0.536, g=1.786\n",
      ">1, 385/433, d=0.570, g=1.281\n",
      ">1, 386/433, d=0.475, g=1.362\n",
      ">1, 387/433, d=0.408, g=1.816\n",
      ">1, 388/433, d=0.390, g=1.609\n",
      ">1, 389/433, d=0.396, g=1.528\n",
      ">1, 390/433, d=0.377, g=1.289\n",
      ">1, 391/433, d=0.393, g=1.250\n",
      ">1, 392/433, d=0.376, g=1.406\n",
      ">1, 393/433, d=0.454, g=1.659\n",
      ">1, 394/433, d=0.465, g=1.471\n",
      ">1, 395/433, d=0.346, g=1.899\n",
      ">1, 396/433, d=0.426, g=1.551\n",
      ">1, 397/433, d=0.392, g=1.230\n",
      ">1, 398/433, d=0.458, g=1.863\n",
      ">1, 399/433, d=0.446, g=2.138\n",
      ">1, 400/433, d=0.765, g=1.217\n",
      ">1, 401/433, d=0.548, g=1.259\n",
      ">1, 402/433, d=0.660, g=1.563\n",
      ">1, 403/433, d=0.540, g=1.855\n",
      ">1, 404/433, d=0.456, g=1.714\n",
      ">1, 405/433, d=0.459, g=1.706\n",
      ">1, 406/433, d=0.419, g=1.955\n",
      ">1, 407/433, d=0.456, g=1.721\n",
      ">1, 408/433, d=0.734, g=1.315\n",
      ">1, 409/433, d=0.521, g=1.765\n",
      ">1, 410/433, d=0.551, g=1.120\n",
      ">1, 411/433, d=0.479, g=1.879\n",
      ">1, 412/433, d=0.399, g=2.333\n",
      ">1, 413/433, d=0.548, g=1.616\n",
      ">1, 414/433, d=0.545, g=1.465\n",
      ">1, 415/433, d=0.614, g=2.277\n",
      ">1, 416/433, d=0.504, g=1.797\n",
      ">1, 417/433, d=0.467, g=1.757\n",
      ">1, 418/433, d=0.444, g=1.561\n",
      ">1, 419/433, d=0.528, g=2.303\n",
      ">1, 420/433, d=0.502, g=2.030\n",
      ">1, 421/433, d=0.362, g=1.810\n",
      ">1, 422/433, d=0.403, g=2.554\n",
      ">1, 423/433, d=0.379, g=1.583\n",
      ">1, 424/433, d=0.370, g=1.949\n",
      ">1, 425/433, d=0.458, g=2.007\n",
      ">1, 426/433, d=0.505, g=1.161\n",
      ">1, 427/433, d=0.617, g=2.842\n",
      ">1, 428/433, d=0.765, g=0.820\n",
      ">1, 429/433, d=0.593, g=1.241\n",
      ">1, 430/433, d=0.469, g=1.847\n",
      ">1, 431/433, d=0.499, g=1.262\n",
      ">1, 432/433, d=0.480, g=1.297\n",
      ">1, 433/433, d=0.445, g=1.817\n",
      ">Accuracy real: 68%, fake: 96%\n",
      "WARNING:tensorflow:Compiled the loaded model, but the compiled metrics have yet to be built. `model.compile_metrics` will be empty until you train or evaluate the model.\n",
      "WARNING:tensorflow:Compiled the loaded model, but the compiled metrics have yet to be built. `model.compile_metrics` will be empty until you train or evaluate the model.\n"
     ]
    }
   ],
   "source": [
    "train(generator, discriminator, gan_model, train_ds, latent_dim, n_epochs=1, resume_training=0)"
   ]
  },
  {
   "attachments": {},
   "cell_type": "markdown",
   "metadata": {},
   "source": [
    "test"
   ]
  },
  {
   "cell_type": "code",
   "execution_count": 38,
   "metadata": {},
   "outputs": [
    {
     "name": "stdout",
     "output_type": "stream",
     "text": [
      "WARNING:tensorflow:No training configuration found in the save file, so the model was *not* compiled. Compile it manually.\n",
      "WARNING:tensorflow:Error in loading the saved optimizer state. As a result, your model is starting with a freshly initialized optimizer.\n"
     ]
    },
    {
     "ename": "ValueError",
     "evalue": "You called `set_weights(weights)` on optimizer Adam with a  weight list of length 41, but the optimizer was expecting 1 weights. Provided weights: [57156, array([[[[ 0.15729398,  0.08485835,  0.094...",
     "output_type": "error",
     "traceback": [
      "\u001b[1;31m---------------------------------------------------------------------------\u001b[0m",
      "\u001b[1;31mValueError\u001b[0m                                Traceback (most recent call last)",
      "\u001b[1;32md:\\GAN_poke\\CGAN.ipynb Cell 26\u001b[0m in \u001b[0;36m7\n\u001b[0;32m      <a href='vscode-notebook-cell:/d%3A/GAN_poke/CGAN.ipynb#X33sZmlsZQ%3D%3D?line=4'>5</a>\u001b[0m \u001b[39m# load optimizer state\u001b[39;00m\n\u001b[0;32m      <a href='vscode-notebook-cell:/d%3A/GAN_poke/CGAN.ipynb#X33sZmlsZQ%3D%3D?line=5'>6</a>\u001b[0m \u001b[39mwith\u001b[39;00m \u001b[39mopen\u001b[39m(\u001b[39m'\u001b[39m\u001b[39mcdiscriminator_optimizer_64.pkl\u001b[39m\u001b[39m'\u001b[39m, \u001b[39m'\u001b[39m\u001b[39mrb\u001b[39m\u001b[39m'\u001b[39m) \u001b[39mas\u001b[39;00m f:\n\u001b[1;32m----> <a href='vscode-notebook-cell:/d%3A/GAN_poke/CGAN.ipynb#X33sZmlsZQ%3D%3D?line=6'>7</a>\u001b[0m     discriminator\u001b[39m.\u001b[39;49moptimizer\u001b[39m.\u001b[39;49mset_weights(pickle\u001b[39m.\u001b[39;49mload(f))\n\u001b[0;32m      <a href='vscode-notebook-cell:/d%3A/GAN_poke/CGAN.ipynb#X33sZmlsZQ%3D%3D?line=7'>8</a>\u001b[0m gan_model \u001b[39m=\u001b[39m tf\u001b[39m.\u001b[39mkeras\u001b[39m.\u001b[39mmodels\u001b[39m.\u001b[39mload_model(\u001b[39m'\u001b[39m\u001b[39mcgan_model_64.h5\u001b[39m\u001b[39m'\u001b[39m)\n",
      "File \u001b[1;32mc:\\Users\\valen\\AppData\\Local\\Programs\\Python\\Python310\\lib\\site-packages\\keras\\optimizers\\optimizer_v2\\adam.py:165\u001b[0m, in \u001b[0;36mAdam.set_weights\u001b[1;34m(self, weights)\u001b[0m\n\u001b[0;32m    163\u001b[0m \u001b[39mif\u001b[39;00m \u001b[39mlen\u001b[39m(weights) \u001b[39m==\u001b[39m \u001b[39m3\u001b[39m \u001b[39m*\u001b[39m num_vars \u001b[39m+\u001b[39m \u001b[39m1\u001b[39m:\n\u001b[0;32m    164\u001b[0m     weights \u001b[39m=\u001b[39m weights[: \u001b[39mlen\u001b[39m(params)]\n\u001b[1;32m--> 165\u001b[0m \u001b[39msuper\u001b[39;49m()\u001b[39m.\u001b[39;49mset_weights(weights)\n",
      "File \u001b[1;32mc:\\Users\\valen\\AppData\\Local\\Programs\\Python\\Python310\\lib\\site-packages\\keras\\optimizers\\optimizer_v2\\optimizer_v2.py:1301\u001b[0m, in \u001b[0;36mOptimizerV2.set_weights\u001b[1;34m(self, weights)\u001b[0m\n\u001b[0;32m   1299\u001b[0m params \u001b[39m=\u001b[39m \u001b[39mself\u001b[39m\u001b[39m.\u001b[39mweights\n\u001b[0;32m   1300\u001b[0m \u001b[39mif\u001b[39;00m \u001b[39mlen\u001b[39m(params) \u001b[39m!=\u001b[39m \u001b[39mlen\u001b[39m(weights):\n\u001b[1;32m-> 1301\u001b[0m     \u001b[39mraise\u001b[39;00m \u001b[39mValueError\u001b[39;00m(\n\u001b[0;32m   1302\u001b[0m         \u001b[39mf\u001b[39m\u001b[39m\"\u001b[39m\u001b[39mYou called `set_weights(weights)` on optimizer \u001b[39m\u001b[39m{\u001b[39;00m\u001b[39mself\u001b[39m\u001b[39m.\u001b[39m_name\u001b[39m}\u001b[39;00m\u001b[39m \u001b[39m\u001b[39m\"\u001b[39m\n\u001b[0;32m   1303\u001b[0m         \u001b[39mf\u001b[39m\u001b[39m\"\u001b[39m\u001b[39mwith a  weight list of length \u001b[39m\u001b[39m{\u001b[39;00m\u001b[39mstr\u001b[39m(\u001b[39mlen\u001b[39m(weights))\u001b[39m}\u001b[39;00m\u001b[39m, \u001b[39m\u001b[39m\"\u001b[39m\n\u001b[0;32m   1304\u001b[0m         \u001b[39mf\u001b[39m\u001b[39m\"\u001b[39m\u001b[39mbut the optimizer was expecting \u001b[39m\u001b[39m{\u001b[39;00m\u001b[39mstr\u001b[39m(\u001b[39mlen\u001b[39m(params))\u001b[39m}\u001b[39;00m\u001b[39m \u001b[39m\u001b[39m\"\u001b[39m\n\u001b[0;32m   1305\u001b[0m         \u001b[39mf\u001b[39m\u001b[39m\"\u001b[39m\u001b[39mweights. Provided weights: \u001b[39m\u001b[39m{\u001b[39;00m\u001b[39mstr\u001b[39m(weights)[:\u001b[39m50\u001b[39m]\u001b[39m}\u001b[39;00m\u001b[39m...\u001b[39m\u001b[39m\"\u001b[39m\n\u001b[0;32m   1306\u001b[0m     )\n\u001b[0;32m   1307\u001b[0m \u001b[39mif\u001b[39;00m \u001b[39mnot\u001b[39;00m params:\n\u001b[0;32m   1308\u001b[0m     \u001b[39mreturn\u001b[39;00m\n",
      "\u001b[1;31mValueError\u001b[0m: You called `set_weights(weights)` on optimizer Adam with a  weight list of length 41, but the optimizer was expecting 1 weights. Provided weights: [57156, array([[[[ 0.15729398,  0.08485835,  0.094..."
     ]
    }
   ],
   "source": [
    "generator = tf.keras.models.load_model('cgenerator_model_64_final.h5')\n",
    "# discriminator = define_cdiscriminator((64, 64, 3), 18)\n",
    "# discriminator.load_weights('cdiscriminator_model_64.h5')\n",
    "discriminator = tf.keras.models.load_model('cdiscriminator_model_64.h5')\n",
    "# load optimizer state\n",
    "with open('cdiscriminator_optimizer_64.pkl', 'rb') as f:\n",
    "    discriminator.optimizer.set_weights(pickle.load(f))\n",
    "gan_model = tf.keras.models.load_model('cgan_model_64.h5')"
   ]
  },
  {
   "cell_type": "code",
   "execution_count": 54,
   "metadata": {},
   "outputs": [
    {
     "name": "stdout",
     "output_type": "stream",
     "text": [
      "WARNING:tensorflow:Inconsistent references when loading the checkpoint into this object graph. For example, in the saved checkpoint object, `model.layer.weight` and `model.layer_copy.weight` reference the same variable, while in the current object these are two different variables. The referenced variables are:(<keras.engine.functional.Functional object at 0x000002DC82DA7340> and <keras.engine.functional.Functional object at 0x000002DC8722DE70>).\n",
      "WARNING:tensorflow:Inconsistent references when loading the checkpoint into this object graph. For example, in the saved checkpoint object, `model.layer.weight` and `model.layer_copy.weight` reference the same variable, while in the current object these are two different variables. The referenced variables are:(<keras.engine.functional.Functional object at 0x000002DC82DA7340> and <keras.engine.functional.Functional object at 0x000002DC8722DE70>).\n",
      "WARNING:tensorflow:Inconsistent references when loading the checkpoint into this object graph. For example, in the saved checkpoint object, `model.layer.weight` and `model.layer_copy.weight` reference the same variable, while in the current object these are two different variables. The referenced variables are:(<keras.engine.input_layer.InputLayer object at 0x000002DC875258A0> and <keras.engine.input_layer.InputLayer object at 0x000002DC82D6A050>).\n",
      "WARNING:tensorflow:Inconsistent references when loading the checkpoint into this object graph. For example, in the saved checkpoint object, `model.layer.weight` and `model.layer_copy.weight` reference the same variable, while in the current object these are two different variables. The referenced variables are:(<keras.engine.input_layer.InputLayer object at 0x000002DC87525900> and <keras.engine.input_layer.InputLayer object at 0x000002DC82D68880>).\n",
      "WARNING:tensorflow:Inconsistent references when loading the checkpoint into this object graph. For example, in the saved checkpoint object, `model.layer.weight` and `model.layer_copy.weight` reference the same variable, while in the current object these are two different variables. The referenced variables are:(<keras.layers.merging.concatenate.Concatenate object at 0x000002DC87525E40> and <keras.layers.merging.concatenate.Concatenate object at 0x000002DC998306A0>).\n",
      "WARNING:tensorflow:Inconsistent references when loading the checkpoint into this object graph. For example, in the saved checkpoint object, `model.layer.weight` and `model.layer_copy.weight` reference the same variable, while in the current object these are two different variables. The referenced variables are:(<keras.layers.core.dense.Dense object at 0x000002DC87525F90> and <keras.layers.core.dense.Dense object at 0x000002DC998308B0>).\n",
      "WARNING:tensorflow:Inconsistent references when loading the checkpoint into this object graph. For example, in the saved checkpoint object, `model.layer.weight` and `model.layer_copy.weight` reference the same variable, while in the current object these are two different variables. The referenced variables are:(<keras.layers.core.dense.Dense object at 0x000002DC87525F90> and <keras.layers.core.dense.Dense object at 0x000002DC998308B0>).\n",
      "WARNING:tensorflow:Inconsistent references when loading the checkpoint into this object graph. For example, in the saved checkpoint object, `model.layer.weight` and `model.layer_copy.weight` reference the same variable, while in the current object these are two different variables. The referenced variables are:(<keras.layers.reshaping.reshape.Reshape object at 0x000002DC875260E0> and <keras.layers.reshaping.reshape.Reshape object at 0x000002DC99831F60>).\n",
      "WARNING:tensorflow:Inconsistent references when loading the checkpoint into this object graph. For example, in the saved checkpoint object, `model.layer.weight` and `model.layer_copy.weight` reference the same variable, while in the current object these are two different variables. The referenced variables are:(<keras.layers.convolutional.conv2d_transpose.Conv2DTranspose object at 0x000002DC87526020> and <keras.layers.convolutional.conv2d_transpose.Conv2DTranspose object at 0x000002DC99833A60>).\n",
      "WARNING:tensorflow:Inconsistent references when loading the checkpoint into this object graph. For example, in the saved checkpoint object, `model.layer.weight` and `model.layer_copy.weight` reference the same variable, while in the current object these are two different variables. The referenced variables are:(<keras.layers.convolutional.conv2d_transpose.Conv2DTranspose object at 0x000002DC87526020> and <keras.layers.convolutional.conv2d_transpose.Conv2DTranspose object at 0x000002DC99833A60>).\n",
      "WARNING:tensorflow:Inconsistent references when loading the checkpoint into this object graph. For example, in the saved checkpoint object, `model.layer.weight` and `model.layer_copy.weight` reference the same variable, while in the current object these are two different variables. The referenced variables are:(<keras.layers.activation.leaky_relu.LeakyReLU object at 0x000002DC87526560> and <keras.layers.activation.leaky_relu.LeakyReLU object at 0x000002DC7A9008B0>).\n",
      "WARNING:tensorflow:Inconsistent references when loading the checkpoint into this object graph. For example, in the saved checkpoint object, `model.layer.weight` and `model.layer_copy.weight` reference the same variable, while in the current object these are two different variables. The referenced variables are:(<keras.layers.convolutional.conv2d_transpose.Conv2DTranspose object at 0x000002DC87526740> and <keras.layers.convolutional.conv2d_transpose.Conv2DTranspose object at 0x000002DC82D68190>).\n",
      "WARNING:tensorflow:Inconsistent references when loading the checkpoint into this object graph. For example, in the saved checkpoint object, `model.layer.weight` and `model.layer_copy.weight` reference the same variable, while in the current object these are two different variables. The referenced variables are:(<keras.layers.convolutional.conv2d_transpose.Conv2DTranspose object at 0x000002DC87526740> and <keras.layers.convolutional.conv2d_transpose.Conv2DTranspose object at 0x000002DC82D68190>).\n",
      "WARNING:tensorflow:Inconsistent references when loading the checkpoint into this object graph. For example, in the saved checkpoint object, `model.layer.weight` and `model.layer_copy.weight` reference the same variable, while in the current object these are two different variables. The referenced variables are:(<keras.layers.activation.leaky_relu.LeakyReLU object at 0x000002DC87526BC0> and <keras.layers.activation.leaky_relu.LeakyReLU object at 0x000002DC82CE9EA0>).\n",
      "WARNING:tensorflow:Inconsistent references when loading the checkpoint into this object graph. For example, in the saved checkpoint object, `model.layer.weight` and `model.layer_copy.weight` reference the same variable, while in the current object these are two different variables. The referenced variables are:(<keras.layers.convolutional.conv2d_transpose.Conv2DTranspose object at 0x000002DC87526E00> and <keras.layers.convolutional.conv2d_transpose.Conv2DTranspose object at 0x000002DC82D6A440>).\n",
      "WARNING:tensorflow:Inconsistent references when loading the checkpoint into this object graph. For example, in the saved checkpoint object, `model.layer.weight` and `model.layer_copy.weight` reference the same variable, while in the current object these are two different variables. The referenced variables are:(<keras.layers.convolutional.conv2d_transpose.Conv2DTranspose object at 0x000002DC87526E00> and <keras.layers.convolutional.conv2d_transpose.Conv2DTranspose object at 0x000002DC82D6A440>).\n",
      "WARNING:tensorflow:Inconsistent references when loading the checkpoint into this object graph. For example, in the saved checkpoint object, `model.layer.weight` and `model.layer_copy.weight` reference the same variable, while in the current object these are two different variables. The referenced variables are:(<keras.layers.activation.leaky_relu.LeakyReLU object at 0x000002DC87527280> and <keras.layers.activation.leaky_relu.LeakyReLU object at 0x000002DC82CEBDC0>).\n",
      "WARNING:tensorflow:Inconsistent references when loading the checkpoint into this object graph. For example, in the saved checkpoint object, `model.layer.weight` and `model.layer_copy.weight` reference the same variable, while in the current object these are two different variables. The referenced variables are:(<keras.layers.convolutional.conv2d_transpose.Conv2DTranspose object at 0x000002DC875274C0> and <keras.layers.convolutional.conv2d_transpose.Conv2DTranspose object at 0x000002DC82CE95A0>).\n",
      "WARNING:tensorflow:Inconsistent references when loading the checkpoint into this object graph. For example, in the saved checkpoint object, `model.layer.weight` and `model.layer_copy.weight` reference the same variable, while in the current object these are two different variables. The referenced variables are:(<keras.layers.convolutional.conv2d_transpose.Conv2DTranspose object at 0x000002DC875274C0> and <keras.layers.convolutional.conv2d_transpose.Conv2DTranspose object at 0x000002DC82CE95A0>).\n",
      "WARNING:tensorflow:Inconsistent references when loading the checkpoint into this object graph. For example, in the saved checkpoint object, `model.layer.weight` and `model.layer_copy.weight` reference the same variable, while in the current object these are two different variables. The referenced variables are:(<keras.layers.activation.leaky_relu.LeakyReLU object at 0x000002DC87527940> and <keras.layers.activation.leaky_relu.LeakyReLU object at 0x000002DC82CE1840>).\n",
      "WARNING:tensorflow:Inconsistent references when loading the checkpoint into this object graph. For example, in the saved checkpoint object, `model.layer.weight` and `model.layer_copy.weight` reference the same variable, while in the current object these are two different variables. The referenced variables are:(<keras.layers.convolutional.conv2d.Conv2D object at 0x000002DC87527B50> and <keras.layers.convolutional.conv2d.Conv2D object at 0x000002DC82CE82B0>).\n",
      "WARNING:tensorflow:Inconsistent references when loading the checkpoint into this object graph. For example, in the saved checkpoint object, `model.layer.weight` and `model.layer_copy.weight` reference the same variable, while in the current object these are two different variables. The referenced variables are:(<keras.layers.convolutional.conv2d.Conv2D object at 0x000002DC87527B50> and <keras.layers.convolutional.conv2d.Conv2D object at 0x000002DC82CE82B0>).\n"
     ]
    },
    {
     "data": {
      "text/plain": [
       "'./checkpoints/ckpt-1'"
      ]
     },
     "execution_count": 54,
     "metadata": {},
     "output_type": "execute_result"
    }
   ],
   "source": [
    "# load model from ./checkpoints\n",
    "checkpoint_dir = './checkpoints/'\n",
    "checkpoint = tf.train.Checkpoint(gan_optimizer=gan_model.optimizer,\n",
    "                                discriminator_optimizer=discriminator.optimizer,\n",
    "\n",
    "                                    generator=generator,\n",
    "                                    discriminator=discriminator,\n",
    "                                    gan_model = gan_model)\n",
    "ckpt_manager = tf.train.CheckpointManager(checkpoint, checkpoint_dir, max_to_keep=3)\n",
    "ckpt_manager.restore_or_initialize()\n"
   ]
  },
  {
   "cell_type": "code",
   "execution_count": 58,
   "metadata": {},
   "outputs": [
    {
     "name": "stdout",
     "output_type": "stream",
     "text": [
      ">151, 1/433, d=0.106, g=2.799\n",
      ">151, 2/433, d=0.128, g=2.816\n",
      ">151, 3/433, d=0.146, g=3.102\n",
      ">151, 4/433, d=0.147, g=2.906\n",
      ">151, 5/433, d=0.093, g=3.158\n",
      ">151, 6/433, d=0.042, g=2.776\n",
      ">151, 7/433, d=0.060, g=2.803\n",
      ">151, 8/433, d=0.076, g=2.228\n",
      ">151, 9/433, d=0.139, g=2.613\n",
      ">151, 10/433, d=0.185, g=2.321\n",
      ">151, 11/433, d=0.158, g=2.132\n",
      ">151, 12/433, d=0.110, g=2.301\n",
      ">151, 13/433, d=0.216, g=2.586\n",
      ">151, 14/433, d=0.169, g=2.202\n",
      ">151, 15/433, d=0.126, g=2.279\n",
      ">151, 16/433, d=0.080, g=2.145\n",
      ">151, 17/433, d=0.085, g=2.272\n",
      ">151, 18/433, d=0.178, g=2.094\n",
      ">151, 19/433, d=0.182, g=2.017\n",
      ">151, 20/433, d=0.142, g=1.983\n",
      ">151, 21/433, d=0.168, g=2.026\n",
      ">151, 22/433, d=0.125, g=1.542\n",
      ">151, 23/433, d=0.084, g=1.294\n",
      ">151, 24/433, d=0.209, g=1.146\n",
      ">151, 25/433, d=0.144, g=0.755\n",
      ">151, 26/433, d=0.207, g=0.675\n",
      ">151, 27/433, d=0.096, g=0.646\n",
      ">151, 28/433, d=0.109, g=1.049\n",
      ">151, 29/433, d=0.198, g=1.056\n",
      ">151, 30/433, d=0.057, g=0.663\n",
      ">151, 31/433, d=0.111, g=0.628\n",
      ">151, 32/433, d=0.055, g=0.492\n",
      ">151, 33/433, d=0.159, g=0.789\n",
      ">151, 34/433, d=0.151, g=0.628\n",
      ">151, 35/433, d=0.165, g=0.601\n",
      ">151, 36/433, d=0.224, g=0.346\n",
      ">151, 37/433, d=0.117, g=0.254\n",
      ">151, 38/433, d=0.075, g=0.484\n",
      ">151, 39/433, d=0.174, g=0.475\n",
      ">151, 40/433, d=0.100, g=0.367\n",
      ">151, 41/433, d=0.147, g=0.298\n",
      ">151, 42/433, d=0.116, g=0.133\n",
      ">151, 43/433, d=0.154, g=0.262\n",
      ">151, 44/433, d=0.136, g=0.107\n",
      ">151, 45/433, d=0.147, g=0.205\n",
      ">151, 46/433, d=0.104, g=0.202\n",
      ">151, 47/433, d=0.116, g=0.141\n",
      ">151, 48/433, d=0.059, g=0.047\n",
      ">151, 49/433, d=0.118, g=0.120\n",
      ">151, 50/433, d=0.123, g=0.179\n",
      ">151, 51/433, d=0.134, g=0.124\n",
      ">151, 52/433, d=0.168, g=0.128\n",
      ">151, 53/433, d=0.133, g=0.193\n",
      ">151, 54/433, d=0.156, g=0.040\n",
      ">151, 55/433, d=0.080, g=0.098\n",
      ">151, 56/433, d=0.105, g=0.003\n",
      ">151, 57/433, d=0.141, g=0.004\n",
      ">151, 58/433, d=0.134, g=0.196\n",
      ">151, 59/433, d=0.174, g=0.172\n",
      ">151, 60/433, d=0.173, g=0.219\n",
      ">151, 61/433, d=0.114, g=0.146\n",
      ">151, 62/433, d=0.170, g=0.046\n",
      ">151, 63/433, d=0.151, g=0.032\n",
      ">151, 64/433, d=0.150, g=0.041\n",
      ">151, 65/433, d=0.086, g=0.051\n",
      ">151, 66/433, d=0.166, g=0.007\n",
      ">151, 67/433, d=0.130, g=0.030\n",
      ">151, 68/433, d=0.091, g=0.119\n",
      ">151, 69/433, d=0.111, g=0.048\n",
      ">151, 70/433, d=0.100, g=0.007\n",
      ">151, 71/433, d=0.091, g=0.054\n",
      ">151, 72/433, d=0.158, g=0.105\n",
      ">151, 73/433, d=0.135, g=0.024\n",
      ">151, 74/433, d=0.161, g=0.002\n",
      ">151, 75/433, d=0.080, g=0.028\n",
      ">151, 76/433, d=0.114, g=0.004\n",
      ">151, 77/433, d=0.084, g=0.008\n",
      ">151, 78/433, d=0.195, g=0.004\n",
      ">151, 79/433, d=0.107, g=0.001\n",
      ">151, 80/433, d=0.132, g=0.119\n",
      ">151, 81/433, d=0.036, g=0.098\n",
      ">151, 82/433, d=0.094, g=0.014\n",
      ">151, 83/433, d=0.096, g=0.003\n",
      ">151, 84/433, d=0.126, g=0.010\n",
      ">151, 85/433, d=0.094, g=0.014\n",
      ">151, 86/433, d=0.098, g=0.005\n",
      ">151, 87/433, d=0.166, g=0.050\n",
      ">151, 88/433, d=0.182, g=0.009\n",
      ">151, 89/433, d=0.113, g=0.008\n",
      ">151, 90/433, d=0.118, g=0.020\n",
      ">151, 91/433, d=0.119, g=0.001\n",
      ">151, 92/433, d=0.183, g=0.004\n",
      ">151, 93/433, d=0.073, g=0.012\n",
      ">151, 94/433, d=0.124, g=0.061\n",
      ">151, 95/433, d=0.051, g=0.000\n",
      ">151, 96/433, d=0.108, g=0.105\n",
      ">151, 97/433, d=0.211, g=0.006\n",
      ">151, 98/433, d=0.133, g=0.001\n",
      ">151, 99/433, d=0.081, g=0.000\n",
      ">151, 100/433, d=0.116, g=0.051\n",
      ">151, 101/433, d=0.239, g=0.109\n",
      ">151, 102/433, d=0.182, g=0.000\n",
      ">151, 103/433, d=0.135, g=0.015\n",
      ">151, 104/433, d=0.096, g=0.050\n",
      ">151, 105/433, d=0.240, g=0.022\n",
      ">151, 106/433, d=0.067, g=0.000\n",
      ">151, 107/433, d=0.117, g=0.054\n",
      ">151, 108/433, d=0.121, g=0.031\n",
      ">151, 109/433, d=0.154, g=0.000\n",
      ">151, 110/433, d=0.135, g=0.002\n",
      ">151, 111/433, d=0.184, g=0.058\n",
      ">151, 112/433, d=0.282, g=0.000\n",
      ">151, 113/433, d=0.130, g=0.019\n",
      ">151, 114/433, d=0.113, g=0.000\n",
      ">151, 115/433, d=0.120, g=0.016\n",
      ">151, 116/433, d=0.151, g=0.001\n",
      ">151, 117/433, d=0.122, g=0.008\n",
      ">151, 118/433, d=0.122, g=0.117\n",
      ">151, 119/433, d=0.068, g=0.001\n",
      ">151, 120/433, d=0.109, g=0.012\n",
      ">151, 121/433, d=0.179, g=0.002\n",
      ">151, 122/433, d=0.104, g=0.000\n",
      ">151, 123/433, d=0.100, g=0.002\n",
      ">151, 124/433, d=0.169, g=0.016\n",
      ">151, 125/433, d=0.121, g=0.000\n",
      ">151, 126/433, d=0.107, g=0.001\n",
      ">151, 127/433, d=0.157, g=0.063\n",
      ">151, 128/433, d=0.112, g=0.009\n",
      ">151, 129/433, d=0.098, g=0.001\n",
      ">151, 130/433, d=0.117, g=0.006\n",
      ">151, 131/433, d=0.079, g=0.002\n",
      ">151, 132/433, d=0.088, g=0.002\n",
      ">151, 133/433, d=0.162, g=0.000\n",
      ">151, 134/433, d=0.049, g=0.001\n",
      ">151, 135/433, d=0.156, g=0.001\n",
      ">151, 136/433, d=0.151, g=0.004\n",
      ">151, 137/433, d=0.185, g=0.004\n",
      ">151, 138/433, d=0.174, g=0.001\n",
      ">151, 139/433, d=0.169, g=0.000\n",
      ">151, 140/433, d=0.142, g=0.000\n",
      ">151, 141/433, d=0.185, g=0.006\n",
      ">151, 142/433, d=0.116, g=0.003\n",
      ">151, 143/433, d=0.102, g=0.001\n",
      ">151, 144/433, d=0.102, g=0.000\n",
      ">151, 145/433, d=0.118, g=0.003\n",
      ">151, 146/433, d=0.117, g=0.009\n",
      ">151, 147/433, d=0.093, g=0.016\n",
      ">151, 148/433, d=0.167, g=0.000\n",
      ">151, 149/433, d=0.100, g=0.000\n",
      ">151, 150/433, d=0.103, g=0.001\n",
      ">151, 151/433, d=0.114, g=0.000\n",
      ">151, 152/433, d=0.135, g=0.015\n",
      ">151, 153/433, d=0.109, g=0.000\n",
      ">151, 154/433, d=0.063, g=0.000\n",
      ">151, 155/433, d=0.063, g=0.000\n",
      ">151, 156/433, d=0.210, g=0.000\n",
      ">151, 157/433, d=0.082, g=0.000\n",
      ">151, 158/433, d=0.138, g=0.000\n",
      ">151, 159/433, d=0.061, g=0.046\n",
      ">151, 160/433, d=0.108, g=0.000\n",
      ">151, 161/433, d=0.225, g=0.000\n",
      ">151, 162/433, d=0.130, g=0.095\n",
      ">151, 163/433, d=0.064, g=0.003\n",
      ">151, 164/433, d=0.110, g=0.003\n",
      ">151, 165/433, d=0.108, g=0.000\n",
      ">151, 166/433, d=0.139, g=0.000\n",
      ">151, 167/433, d=0.238, g=0.000\n",
      ">151, 168/433, d=0.084, g=0.001\n",
      ">151, 169/433, d=0.103, g=0.000\n",
      ">151, 170/433, d=0.087, g=0.009\n",
      ">151, 171/433, d=0.149, g=0.001\n",
      ">151, 172/433, d=0.097, g=0.013\n",
      ">151, 173/433, d=0.109, g=0.001\n",
      ">151, 174/433, d=0.142, g=0.001\n",
      ">151, 175/433, d=0.060, g=0.003\n",
      ">151, 176/433, d=0.123, g=0.000\n",
      ">151, 177/433, d=0.098, g=0.014\n",
      ">151, 178/433, d=0.154, g=0.010\n",
      ">151, 179/433, d=0.173, g=0.000\n",
      ">151, 180/433, d=0.147, g=0.007\n",
      ">151, 181/433, d=0.179, g=0.000\n",
      ">151, 182/433, d=0.055, g=0.000\n",
      ">151, 183/433, d=0.090, g=0.001\n",
      ">151, 184/433, d=0.217, g=0.005\n",
      ">151, 185/433, d=0.162, g=0.000\n",
      ">151, 186/433, d=0.094, g=0.000\n",
      ">151, 187/433, d=0.110, g=0.000\n",
      ">151, 188/433, d=0.179, g=0.040\n",
      ">151, 189/433, d=0.209, g=0.000\n",
      ">151, 190/433, d=0.095, g=0.000\n",
      ">151, 191/433, d=0.058, g=0.002\n",
      ">151, 192/433, d=0.216, g=0.031\n",
      ">151, 193/433, d=0.073, g=0.000\n",
      ">151, 194/433, d=0.060, g=0.000\n",
      ">151, 195/433, d=0.140, g=0.000\n",
      ">151, 196/433, d=0.128, g=0.000\n",
      ">151, 197/433, d=0.116, g=0.000\n",
      ">151, 198/433, d=0.144, g=0.000\n",
      ">151, 199/433, d=0.101, g=0.000\n",
      ">151, 200/433, d=0.140, g=0.010\n",
      ">151, 201/433, d=0.048, g=0.000\n",
      ">151, 202/433, d=0.137, g=0.020\n",
      ">151, 203/433, d=0.074, g=0.000\n",
      ">151, 204/433, d=0.129, g=0.000\n",
      ">151, 205/433, d=0.140, g=0.000\n",
      ">151, 206/433, d=0.103, g=0.028\n",
      ">151, 207/433, d=0.106, g=0.000\n",
      ">151, 208/433, d=0.229, g=0.000\n"
     ]
    },
    {
     "ename": "KeyboardInterrupt",
     "evalue": "",
     "output_type": "error",
     "traceback": [
      "\u001b[1;31m---------------------------------------------------------------------------\u001b[0m",
      "\u001b[1;31mKeyboardInterrupt\u001b[0m                         Traceback (most recent call last)",
      "\u001b[1;32md:\\GAN_poke\\CGAN.ipynb Cell 29\u001b[0m in \u001b[0;36m2\n\u001b[0;32m      <a href='vscode-notebook-cell:/d%3A/GAN_poke/CGAN.ipynb#X52sZmlsZQ%3D%3D?line=0'>1</a>\u001b[0m \u001b[39m# resume training\u001b[39;00m\n\u001b[1;32m----> <a href='vscode-notebook-cell:/d%3A/GAN_poke/CGAN.ipynb#X52sZmlsZQ%3D%3D?line=1'>2</a>\u001b[0m train(generator, discriminator, gan_model, train_ds, latent_dim, n_epochs\u001b[39m=\u001b[39;49m\u001b[39m1\u001b[39;49m, resume_training\u001b[39m=\u001b[39;49m\u001b[39m150\u001b[39;49m)\n",
      "\u001b[1;32md:\\GAN_poke\\CGAN.ipynb Cell 29\u001b[0m in \u001b[0;36m2\n\u001b[0;32m     <a href='vscode-notebook-cell:/d%3A/GAN_poke/CGAN.ipynb#X52sZmlsZQ%3D%3D?line=25'>26</a>\u001b[0m X, y_types, y_class \u001b[39m=\u001b[39m tf\u001b[39m.\u001b[39mconcat([X_real, X_fake], axis\u001b[39m=\u001b[39m\u001b[39m0\u001b[39m), tf\u001b[39m.\u001b[39mconcat([y_real_types, y_fake_types], axis\u001b[39m=\u001b[39m\u001b[39m0\u001b[39m), tf\u001b[39m.\u001b[39mconcat([y_real_class, y_fake_class], axis\u001b[39m=\u001b[39m\u001b[39m0\u001b[39m)\n\u001b[0;32m     <a href='vscode-notebook-cell:/d%3A/GAN_poke/CGAN.ipynb#X52sZmlsZQ%3D%3D?line=26'>27</a>\u001b[0m \u001b[39m# update discriminator model weights\u001b[39;00m\n\u001b[0;32m     <a href='vscode-notebook-cell:/d%3A/GAN_poke/CGAN.ipynb#X52sZmlsZQ%3D%3D?line=27'>28</a>\u001b[0m \u001b[39m# print(\"\\ntraining on both real and fake for discriminator...\\n\")\u001b[39;00m\n\u001b[1;32m---> <a href='vscode-notebook-cell:/d%3A/GAN_poke/CGAN.ipynb#X52sZmlsZQ%3D%3D?line=28'>29</a>\u001b[0m d_loss, _ \u001b[39m=\u001b[39m d_model\u001b[39m.\u001b[39;49mtrain_on_batch([X, y_types], y_class)\n\u001b[0;32m     <a href='vscode-notebook-cell:/d%3A/GAN_poke/CGAN.ipynb#X52sZmlsZQ%3D%3D?line=29'>30</a>\u001b[0m \u001b[39m# prepare points in latent space as input for the generator\u001b[39;00m\n\u001b[0;32m     <a href='vscode-notebook-cell:/d%3A/GAN_poke/CGAN.ipynb#X52sZmlsZQ%3D%3D?line=30'>31</a>\u001b[0m X_gan, y_gan_types, y_gan_class \u001b[39m=\u001b[39m generate_latent_points(latent_dim, n_batch), generate_class_labels(n_batch, \u001b[39m18\u001b[39m), tf\u001b[39m.\u001b[39mones((n_batch, \u001b[39m1\u001b[39m))\n",
      "\u001b[1;31mKeyboardInterrupt\u001b[0m: "
     ]
    }
   ],
   "source": [
    "# resume training\n",
    "train(generator, discriminator, gan_model, train_ds, latent_dim, n_epochs=1, resume_training=150)"
   ]
  },
  {
   "cell_type": "code",
   "execution_count": 17,
   "metadata": {},
   "outputs": [
    {
     "name": "stdout",
     "output_type": "stream",
     "text": [
      "WARNING:tensorflow:No training configuration found in the save file, so the model was *not* compiled. Compile it manually.\n",
      "WARNING:tensorflow:Error in loading the saved optimizer state. As a result, your model is starting with a freshly initialized optimizer.\n"
     ]
    }
   ],
   "source": [
    "generator = tf.keras.models.load_model('cgenerator_model_64_e131.h5')\n",
    "discriminator = tf.keras.models.load_model('cdiscriminator_model_64.h5')"
   ]
  },
  {
   "cell_type": "code",
   "execution_count": 492,
   "metadata": {},
   "outputs": [
    {
     "data": {
      "application/vnd.plotly.v1+json": {
       "config": {
        "plotlyServerURL": "https://plot.ly"
       },
       "data": [
        {
         "hovertemplate": "x: %{x}<br>y: %{y}<extra></extra>",
         "name": "0",
         "source": "data:image/png;base64,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",
         "type": "image",
         "xaxis": "x",
         "yaxis": "y"
        }
       ],
       "layout": {
        "annotations": [
         {
          "align": "left",
          "bgcolor": "#ff7f0e",
          "bordercolor": "#c7c7c7",
          "borderpad": 2,
          "borderwidth": 1,
          "font": {
           "color": "#ffffff",
           "family": "Courier New, monospace",
           "size": 12
          },
          "opacity": 0.8,
          "showarrow": false,
          "text": "real: 0%",
          "x": 1,
          "xref": "paper",
          "y": 1,
          "yref": "paper"
         }
        ],
        "height": 350,
        "images": [
         {
          "layer": "below",
          "sizex": 0.3,
          "sizey": 0.3,
          "source": "images/final/real/1.png",
          "x": 1,
          "xref": "paper",
          "y": 1.1,
          "yref": "paper"
         }
        ],
        "margin": {
         "l": 0,
         "t": 60
        },
        "shapes": [
         {
          "line": {
           "color": "black",
           "width": 2
          },
          "type": "rect",
          "x0": 0,
          "x1": 96,
          "xref": "x",
          "y0": 0,
          "y1": 96,
          "yref": "y"
         }
        ],
        "template": {
         "data": {
          "bar": [
           {
            "error_x": {
             "color": "#2a3f5f"
            },
            "error_y": {
             "color": "#2a3f5f"
            },
            "marker": {
             "line": {
              "color": "#E5ECF6",
              "width": 0.5
             },
             "pattern": {
              "fillmode": "overlay",
              "size": 10,
              "solidity": 0.2
             }
            },
            "type": "bar"
           }
          ],
          "barpolar": [
           {
            "marker": {
             "line": {
              "color": "#E5ECF6",
              "width": 0.5
             },
             "pattern": {
              "fillmode": "overlay",
              "size": 10,
              "solidity": 0.2
             }
            },
            "type": "barpolar"
           }
          ],
          "carpet": [
           {
            "aaxis": {
             "endlinecolor": "#2a3f5f",
             "gridcolor": "white",
             "linecolor": "white",
             "minorgridcolor": "white",
             "startlinecolor": "#2a3f5f"
            },
            "baxis": {
             "endlinecolor": "#2a3f5f",
             "gridcolor": "white",
             "linecolor": "white",
             "minorgridcolor": "white",
             "startlinecolor": "#2a3f5f"
            },
            "type": "carpet"
           }
          ],
          "choropleth": [
           {
            "colorbar": {
             "outlinewidth": 0,
             "ticks": ""
            },
            "type": "choropleth"
           }
          ],
          "contour": [
           {
            "colorbar": {
             "outlinewidth": 0,
             "ticks": ""
            },
            "colorscale": [
             [
              0,
              "#0d0887"
             ],
             [
              0.1111111111111111,
              "#46039f"
             ],
             [
              0.2222222222222222,
              "#7201a8"
             ],
             [
              0.3333333333333333,
              "#9c179e"
             ],
             [
              0.4444444444444444,
              "#bd3786"
             ],
             [
              0.5555555555555556,
              "#d8576b"
             ],
             [
              0.6666666666666666,
              "#ed7953"
             ],
             [
              0.7777777777777778,
              "#fb9f3a"
             ],
             [
              0.8888888888888888,
              "#fdca26"
             ],
             [
              1,
              "#f0f921"
             ]
            ],
            "type": "contour"
           }
          ],
          "contourcarpet": [
           {
            "colorbar": {
             "outlinewidth": 0,
             "ticks": ""
            },
            "type": "contourcarpet"
           }
          ],
          "heatmap": [
           {
            "colorbar": {
             "outlinewidth": 0,
             "ticks": ""
            },
            "colorscale": [
             [
              0,
              "#0d0887"
             ],
             [
              0.1111111111111111,
              "#46039f"
             ],
             [
              0.2222222222222222,
              "#7201a8"
             ],
             [
              0.3333333333333333,
              "#9c179e"
             ],
             [
              0.4444444444444444,
              "#bd3786"
             ],
             [
              0.5555555555555556,
              "#d8576b"
             ],
             [
              0.6666666666666666,
              "#ed7953"
             ],
             [
              0.7777777777777778,
              "#fb9f3a"
             ],
             [
              0.8888888888888888,
              "#fdca26"
             ],
             [
              1,
              "#f0f921"
             ]
            ],
            "type": "heatmap"
           }
          ],
          "heatmapgl": [
           {
            "colorbar": {
             "outlinewidth": 0,
             "ticks": ""
            },
            "colorscale": [
             [
              0,
              "#0d0887"
             ],
             [
              0.1111111111111111,
              "#46039f"
             ],
             [
              0.2222222222222222,
              "#7201a8"
             ],
             [
              0.3333333333333333,
              "#9c179e"
             ],
             [
              0.4444444444444444,
              "#bd3786"
             ],
             [
              0.5555555555555556,
              "#d8576b"
             ],
             [
              0.6666666666666666,
              "#ed7953"
             ],
             [
              0.7777777777777778,
              "#fb9f3a"
             ],
             [
              0.8888888888888888,
              "#fdca26"
             ],
             [
              1,
              "#f0f921"
             ]
            ],
            "type": "heatmapgl"
           }
          ],
          "histogram": [
           {
            "marker": {
             "pattern": {
              "fillmode": "overlay",
              "size": 10,
              "solidity": 0.2
             }
            },
            "type": "histogram"
           }
          ],
          "histogram2d": [
           {
            "colorbar": {
             "outlinewidth": 0,
             "ticks": ""
            },
            "colorscale": [
             [
              0,
              "#0d0887"
             ],
             [
              0.1111111111111111,
              "#46039f"
             ],
             [
              0.2222222222222222,
              "#7201a8"
             ],
             [
              0.3333333333333333,
              "#9c179e"
             ],
             [
              0.4444444444444444,
              "#bd3786"
             ],
             [
              0.5555555555555556,
              "#d8576b"
             ],
             [
              0.6666666666666666,
              "#ed7953"
             ],
             [
              0.7777777777777778,
              "#fb9f3a"
             ],
             [
              0.8888888888888888,
              "#fdca26"
             ],
             [
              1,
              "#f0f921"
             ]
            ],
            "type": "histogram2d"
           }
          ],
          "histogram2dcontour": [
           {
            "colorbar": {
             "outlinewidth": 0,
             "ticks": ""
            },
            "colorscale": [
             [
              0,
              "#0d0887"
             ],
             [
              0.1111111111111111,
              "#46039f"
             ],
             [
              0.2222222222222222,
              "#7201a8"
             ],
             [
              0.3333333333333333,
              "#9c179e"
             ],
             [
              0.4444444444444444,
              "#bd3786"
             ],
             [
              0.5555555555555556,
              "#d8576b"
             ],
             [
              0.6666666666666666,
              "#ed7953"
             ],
             [
              0.7777777777777778,
              "#fb9f3a"
             ],
             [
              0.8888888888888888,
              "#fdca26"
             ],
             [
              1,
              "#f0f921"
             ]
            ],
            "type": "histogram2dcontour"
           }
          ],
          "mesh3d": [
           {
            "colorbar": {
             "outlinewidth": 0,
             "ticks": ""
            },
            "type": "mesh3d"
           }
          ],
          "parcoords": [
           {
            "line": {
             "colorbar": {
              "outlinewidth": 0,
              "ticks": ""
             }
            },
            "type": "parcoords"
           }
          ],
          "pie": [
           {
            "automargin": true,
            "type": "pie"
           }
          ],
          "scatter": [
           {
            "fillpattern": {
             "fillmode": "overlay",
             "size": 10,
             "solidity": 0.2
            },
            "type": "scatter"
           }
          ],
          "scatter3d": [
           {
            "line": {
             "colorbar": {
              "outlinewidth": 0,
              "ticks": ""
             }
            },
            "marker": {
             "colorbar": {
              "outlinewidth": 0,
              "ticks": ""
             }
            },
            "type": "scatter3d"
           }
          ],
          "scattercarpet": [
           {
            "marker": {
             "colorbar": {
              "outlinewidth": 0,
              "ticks": ""
             }
            },
            "type": "scattercarpet"
           }
          ],
          "scattergeo": [
           {
            "marker": {
             "colorbar": {
              "outlinewidth": 0,
              "ticks": ""
             }
            },
            "type": "scattergeo"
           }
          ],
          "scattergl": [
           {
            "marker": {
             "colorbar": {
              "outlinewidth": 0,
              "ticks": ""
             }
            },
            "type": "scattergl"
           }
          ],
          "scattermapbox": [
           {
            "marker": {
             "colorbar": {
              "outlinewidth": 0,
              "ticks": ""
             }
            },
            "type": "scattermapbox"
           }
          ],
          "scatterpolar": [
           {
            "marker": {
             "colorbar": {
              "outlinewidth": 0,
              "ticks": ""
             }
            },
            "type": "scatterpolar"
           }
          ],
          "scatterpolargl": [
           {
            "marker": {
             "colorbar": {
              "outlinewidth": 0,
              "ticks": ""
             }
            },
            "type": "scatterpolargl"
           }
          ],
          "scatterternary": [
           {
            "marker": {
             "colorbar": {
              "outlinewidth": 0,
              "ticks": ""
             }
            },
            "type": "scatterternary"
           }
          ],
          "surface": [
           {
            "colorbar": {
             "outlinewidth": 0,
             "ticks": ""
            },
            "colorscale": [
             [
              0,
              "#0d0887"
             ],
             [
              0.1111111111111111,
              "#46039f"
             ],
             [
              0.2222222222222222,
              "#7201a8"
             ],
             [
              0.3333333333333333,
              "#9c179e"
             ],
             [
              0.4444444444444444,
              "#bd3786"
             ],
             [
              0.5555555555555556,
              "#d8576b"
             ],
             [
              0.6666666666666666,
              "#ed7953"
             ],
             [
              0.7777777777777778,
              "#fb9f3a"
             ],
             [
              0.8888888888888888,
              "#fdca26"
             ],
             [
              1,
              "#f0f921"
             ]
            ],
            "type": "surface"
           }
          ],
          "table": [
           {
            "cells": {
             "fill": {
              "color": "#EBF0F8"
             },
             "line": {
              "color": "white"
             }
            },
            "header": {
             "fill": {
              "color": "#C8D4E3"
             },
             "line": {
              "color": "white"
             }
            },
            "type": "table"
           }
          ]
         },
         "layout": {
          "annotationdefaults": {
           "arrowcolor": "#2a3f5f",
           "arrowhead": 0,
           "arrowwidth": 1
          },
          "autotypenumbers": "strict",
          "coloraxis": {
           "colorbar": {
            "outlinewidth": 0,
            "ticks": ""
           }
          },
          "colorscale": {
           "diverging": [
            [
             0,
             "#8e0152"
            ],
            [
             0.1,
             "#c51b7d"
            ],
            [
             0.2,
             "#de77ae"
            ],
            [
             0.3,
             "#f1b6da"
            ],
            [
             0.4,
             "#fde0ef"
            ],
            [
             0.5,
             "#f7f7f7"
            ],
            [
             0.6,
             "#e6f5d0"
            ],
            [
             0.7,
             "#b8e186"
            ],
            [
             0.8,
             "#7fbc41"
            ],
            [
             0.9,
             "#4d9221"
            ],
            [
             1,
             "#276419"
            ]
           ],
           "sequential": [
            [
             0,
             "#0d0887"
            ],
            [
             0.1111111111111111,
             "#46039f"
            ],
            [
             0.2222222222222222,
             "#7201a8"
            ],
            [
             0.3333333333333333,
             "#9c179e"
            ],
            [
             0.4444444444444444,
             "#bd3786"
            ],
            [
             0.5555555555555556,
             "#d8576b"
            ],
            [
             0.6666666666666666,
             "#ed7953"
            ],
            [
             0.7777777777777778,
             "#fb9f3a"
            ],
            [
             0.8888888888888888,
             "#fdca26"
            ],
            [
             1,
             "#f0f921"
            ]
           ],
           "sequentialminus": [
            [
             0,
             "#0d0887"
            ],
            [
             0.1111111111111111,
             "#46039f"
            ],
            [
             0.2222222222222222,
             "#7201a8"
            ],
            [
             0.3333333333333333,
             "#9c179e"
            ],
            [
             0.4444444444444444,
             "#bd3786"
            ],
            [
             0.5555555555555556,
             "#d8576b"
            ],
            [
             0.6666666666666666,
             "#ed7953"
            ],
            [
             0.7777777777777778,
             "#fb9f3a"
            ],
            [
             0.8888888888888888,
             "#fdca26"
            ],
            [
             1,
             "#f0f921"
            ]
           ]
          },
          "colorway": [
           "#636efa",
           "#EF553B",
           "#00cc96",
           "#ab63fa",
           "#FFA15A",
           "#19d3f3",
           "#FF6692",
           "#B6E880",
           "#FF97FF",
           "#FECB52"
          ],
          "font": {
           "color": "#2a3f5f"
          },
          "geo": {
           "bgcolor": "white",
           "lakecolor": "white",
           "landcolor": "#E5ECF6",
           "showlakes": true,
           "showland": true,
           "subunitcolor": "white"
          },
          "hoverlabel": {
           "align": "left"
          },
          "hovermode": "closest",
          "mapbox": {
           "style": "light"
          },
          "paper_bgcolor": "white",
          "plot_bgcolor": "#E5ECF6",
          "polar": {
           "angularaxis": {
            "gridcolor": "white",
            "linecolor": "white",
            "ticks": ""
           },
           "bgcolor": "#E5ECF6",
           "radialaxis": {
            "gridcolor": "white",
            "linecolor": "white",
            "ticks": ""
           }
          },
          "scene": {
           "xaxis": {
            "backgroundcolor": "#E5ECF6",
            "gridcolor": "white",
            "gridwidth": 2,
            "linecolor": "white",
            "showbackground": true,
            "ticks": "",
            "zerolinecolor": "white"
           },
           "yaxis": {
            "backgroundcolor": "#E5ECF6",
            "gridcolor": "white",
            "gridwidth": 2,
            "linecolor": "white",
            "showbackground": true,
            "ticks": "",
            "zerolinecolor": "white"
           },
           "zaxis": {
            "backgroundcolor": "#E5ECF6",
            "gridcolor": "white",
            "gridwidth": 2,
            "linecolor": "white",
            "showbackground": true,
            "ticks": "",
            "zerolinecolor": "white"
           }
          },
          "shapedefaults": {
           "line": {
            "color": "#2a3f5f"
           }
          },
          "ternary": {
           "aaxis": {
            "gridcolor": "white",
            "linecolor": "white",
            "ticks": ""
           },
           "baxis": {
            "gridcolor": "white",
            "linecolor": "white",
            "ticks": ""
           },
           "bgcolor": "#E5ECF6",
           "caxis": {
            "gridcolor": "white",
            "linecolor": "white",
            "ticks": ""
           }
          },
          "title": {
           "x": 0.05
          },
          "xaxis": {
           "automargin": true,
           "gridcolor": "white",
           "linecolor": "white",
           "ticks": "",
           "title": {
            "standoff": 15
           },
           "zerolinecolor": "white",
           "zerolinewidth": 2
          },
          "yaxis": {
           "automargin": true,
           "gridcolor": "white",
           "linecolor": "white",
           "ticks": "",
           "title": {
            "standoff": 15
           },
           "zerolinecolor": "white",
           "zerolinewidth": 2
          }
         }
        },
        "title": {
         "text": "Label: image générée"
        },
        "width": 500,
        "xaxis": {
         "anchor": "y",
         "domain": [
          0,
          1
         ],
         "showgrid": false,
         "showticklabels": false,
         "visible": false,
         "zeroline": false
        },
        "yaxis": {
         "anchor": "x",
         "domain": [
          0,
          1
         ],
         "showgrid": false,
         "showticklabels": false,
         "visible": false,
         "zeroline": false
        }
       }
      }
     },
     "metadata": {},
     "output_type": "display_data"
    }
   ],
   "source": [
    "X = generator.predict([generate_latent_points(100, 1), types_to_vector('Ghost', 'Fighting')], verbose=0)\n",
    "plot_image(X[0], \"image générée\", {\"real\": discriminator.predict([X, types_to_vector('Ghost', 'Fighting')], verbose=0)[0][0]}, 96)"
   ]
  },
  {
   "cell_type": "code",
   "execution_count": null,
   "metadata": {},
   "outputs": [],
   "source": [
    "X = generator.predict([generate_latent_points(100, 1), np.array([[1., 1., 1., 1., 1., 1., 1., 1., 1., 1., 1., 1., 1., 1., 1., 1., 1., 1.]])], verbose=0)\n",
    "plot_image(X[0], \"image générée\", {\"real\": discriminator.predict([X, np.array([[1., 1., 1., 1., 1., 1., 1., 1., 1., 1., 1., 1., 1., 1., 1., 1., 1., 1.]])], verbose=0)[0][0]}, 96)"
   ]
  },
  {
   "cell_type": "code",
   "execution_count": 91,
   "metadata": {},
   "outputs": [],
   "source": [
    "# test image with random noise between -1 and 1\n",
    "test_image_noise = tf.random.uniform(shape=(1, 96, 96, 3), minval=-1, maxval=1)"
   ]
  },
  {
   "cell_type": "code",
   "execution_count": 94,
   "metadata": {},
   "outputs": [
    {
     "data": {
      "application/vnd.plotly.v1+json": {
       "config": {
        "plotlyServerURL": "https://plot.ly"
       },
       "data": [
        {
         "hovertemplate": "x: %{x}<br>y: %{y}<extra></extra>",
         "name": "0",
         "source": "data:image/png;base64,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",
         "type": "image",
         "xaxis": "x",
         "yaxis": "y"
        }
       ],
       "layout": {
        "annotations": [
         {
          "align": "left",
          "bgcolor": "#ff7f0e",
          "bordercolor": "#c7c7c7",
          "borderpad": 2,
          "borderwidth": 1,
          "font": {
           "color": "#ffffff",
           "family": "Courier New, monospace",
           "size": 12
          },
          "opacity": 0.8,
          "showarrow": false,
          "text": "real: 0%",
          "x": 1,
          "xref": "paper",
          "y": 1,
          "yref": "paper"
         }
        ],
        "height": 350,
        "images": [
         {
          "layer": "below",
          "sizex": 0.3,
          "sizey": 0.3,
          "source": "images/final/real/1.png",
          "x": 1,
          "xref": "paper",
          "y": 1.1,
          "yref": "paper"
         }
        ],
        "margin": {
         "l": 0,
         "t": 60
        },
        "shapes": [
         {
          "line": {
           "color": "black",
           "width": 2
          },
          "type": "rect",
          "x0": 0,
          "x1": 96,
          "xref": "x",
          "y0": 0,
          "y1": 96,
          "yref": "y"
         }
        ],
        "template": {
         "data": {
          "bar": [
           {
            "error_x": {
             "color": "#2a3f5f"
            },
            "error_y": {
             "color": "#2a3f5f"
            },
            "marker": {
             "line": {
              "color": "#E5ECF6",
              "width": 0.5
             },
             "pattern": {
              "fillmode": "overlay",
              "size": 10,
              "solidity": 0.2
             }
            },
            "type": "bar"
           }
          ],
          "barpolar": [
           {
            "marker": {
             "line": {
              "color": "#E5ECF6",
              "width": 0.5
             },
             "pattern": {
              "fillmode": "overlay",
              "size": 10,
              "solidity": 0.2
             }
            },
            "type": "barpolar"
           }
          ],
          "carpet": [
           {
            "aaxis": {
             "endlinecolor": "#2a3f5f",
             "gridcolor": "white",
             "linecolor": "white",
             "minorgridcolor": "white",
             "startlinecolor": "#2a3f5f"
            },
            "baxis": {
             "endlinecolor": "#2a3f5f",
             "gridcolor": "white",
             "linecolor": "white",
             "minorgridcolor": "white",
             "startlinecolor": "#2a3f5f"
            },
            "type": "carpet"
           }
          ],
          "choropleth": [
           {
            "colorbar": {
             "outlinewidth": 0,
             "ticks": ""
            },
            "type": "choropleth"
           }
          ],
          "contour": [
           {
            "colorbar": {
             "outlinewidth": 0,
             "ticks": ""
            },
            "colorscale": [
             [
              0,
              "#0d0887"
             ],
             [
              0.1111111111111111,
              "#46039f"
             ],
             [
              0.2222222222222222,
              "#7201a8"
             ],
             [
              0.3333333333333333,
              "#9c179e"
             ],
             [
              0.4444444444444444,
              "#bd3786"
             ],
             [
              0.5555555555555556,
              "#d8576b"
             ],
             [
              0.6666666666666666,
              "#ed7953"
             ],
             [
              0.7777777777777778,
              "#fb9f3a"
             ],
             [
              0.8888888888888888,
              "#fdca26"
             ],
             [
              1,
              "#f0f921"
             ]
            ],
            "type": "contour"
           }
          ],
          "contourcarpet": [
           {
            "colorbar": {
             "outlinewidth": 0,
             "ticks": ""
            },
            "type": "contourcarpet"
           }
          ],
          "heatmap": [
           {
            "colorbar": {
             "outlinewidth": 0,
             "ticks": ""
            },
            "colorscale": [
             [
              0,
              "#0d0887"
             ],
             [
              0.1111111111111111,
              "#46039f"
             ],
             [
              0.2222222222222222,
              "#7201a8"
             ],
             [
              0.3333333333333333,
              "#9c179e"
             ],
             [
              0.4444444444444444,
              "#bd3786"
             ],
             [
              0.5555555555555556,
              "#d8576b"
             ],
             [
              0.6666666666666666,
              "#ed7953"
             ],
             [
              0.7777777777777778,
              "#fb9f3a"
             ],
             [
              0.8888888888888888,
              "#fdca26"
             ],
             [
              1,
              "#f0f921"
             ]
            ],
            "type": "heatmap"
           }
          ],
          "heatmapgl": [
           {
            "colorbar": {
             "outlinewidth": 0,
             "ticks": ""
            },
            "colorscale": [
             [
              0,
              "#0d0887"
             ],
             [
              0.1111111111111111,
              "#46039f"
             ],
             [
              0.2222222222222222,
              "#7201a8"
             ],
             [
              0.3333333333333333,
              "#9c179e"
             ],
             [
              0.4444444444444444,
              "#bd3786"
             ],
             [
              0.5555555555555556,
              "#d8576b"
             ],
             [
              0.6666666666666666,
              "#ed7953"
             ],
             [
              0.7777777777777778,
              "#fb9f3a"
             ],
             [
              0.8888888888888888,
              "#fdca26"
             ],
             [
              1,
              "#f0f921"
             ]
            ],
            "type": "heatmapgl"
           }
          ],
          "histogram": [
           {
            "marker": {
             "pattern": {
              "fillmode": "overlay",
              "size": 10,
              "solidity": 0.2
             }
            },
            "type": "histogram"
           }
          ],
          "histogram2d": [
           {
            "colorbar": {
             "outlinewidth": 0,
             "ticks": ""
            },
            "colorscale": [
             [
              0,
              "#0d0887"
             ],
             [
              0.1111111111111111,
              "#46039f"
             ],
             [
              0.2222222222222222,
              "#7201a8"
             ],
             [
              0.3333333333333333,
              "#9c179e"
             ],
             [
              0.4444444444444444,
              "#bd3786"
             ],
             [
              0.5555555555555556,
              "#d8576b"
             ],
             [
              0.6666666666666666,
              "#ed7953"
             ],
             [
              0.7777777777777778,
              "#fb9f3a"
             ],
             [
              0.8888888888888888,
              "#fdca26"
             ],
             [
              1,
              "#f0f921"
             ]
            ],
            "type": "histogram2d"
           }
          ],
          "histogram2dcontour": [
           {
            "colorbar": {
             "outlinewidth": 0,
             "ticks": ""
            },
            "colorscale": [
             [
              0,
              "#0d0887"
             ],
             [
              0.1111111111111111,
              "#46039f"
             ],
             [
              0.2222222222222222,
              "#7201a8"
             ],
             [
              0.3333333333333333,
              "#9c179e"
             ],
             [
              0.4444444444444444,
              "#bd3786"
             ],
             [
              0.5555555555555556,
              "#d8576b"
             ],
             [
              0.6666666666666666,
              "#ed7953"
             ],
             [
              0.7777777777777778,
              "#fb9f3a"
             ],
             [
              0.8888888888888888,
              "#fdca26"
             ],
             [
              1,
              "#f0f921"
             ]
            ],
            "type": "histogram2dcontour"
           }
          ],
          "mesh3d": [
           {
            "colorbar": {
             "outlinewidth": 0,
             "ticks": ""
            },
            "type": "mesh3d"
           }
          ],
          "parcoords": [
           {
            "line": {
             "colorbar": {
              "outlinewidth": 0,
              "ticks": ""
             }
            },
            "type": "parcoords"
           }
          ],
          "pie": [
           {
            "automargin": true,
            "type": "pie"
           }
          ],
          "scatter": [
           {
            "fillpattern": {
             "fillmode": "overlay",
             "size": 10,
             "solidity": 0.2
            },
            "type": "scatter"
           }
          ],
          "scatter3d": [
           {
            "line": {
             "colorbar": {
              "outlinewidth": 0,
              "ticks": ""
             }
            },
            "marker": {
             "colorbar": {
              "outlinewidth": 0,
              "ticks": ""
             }
            },
            "type": "scatter3d"
           }
          ],
          "scattercarpet": [
           {
            "marker": {
             "colorbar": {
              "outlinewidth": 0,
              "ticks": ""
             }
            },
            "type": "scattercarpet"
           }
          ],
          "scattergeo": [
           {
            "marker": {
             "colorbar": {
              "outlinewidth": 0,
              "ticks": ""
             }
            },
            "type": "scattergeo"
           }
          ],
          "scattergl": [
           {
            "marker": {
             "colorbar": {
              "outlinewidth": 0,
              "ticks": ""
             }
            },
            "type": "scattergl"
           }
          ],
          "scattermapbox": [
           {
            "marker": {
             "colorbar": {
              "outlinewidth": 0,
              "ticks": ""
             }
            },
            "type": "scattermapbox"
           }
          ],
          "scatterpolar": [
           {
            "marker": {
             "colorbar": {
              "outlinewidth": 0,
              "ticks": ""
             }
            },
            "type": "scatterpolar"
           }
          ],
          "scatterpolargl": [
           {
            "marker": {
             "colorbar": {
              "outlinewidth": 0,
              "ticks": ""
             }
            },
            "type": "scatterpolargl"
           }
          ],
          "scatterternary": [
           {
            "marker": {
             "colorbar": {
              "outlinewidth": 0,
              "ticks": ""
             }
            },
            "type": "scatterternary"
           }
          ],
          "surface": [
           {
            "colorbar": {
             "outlinewidth": 0,
             "ticks": ""
            },
            "colorscale": [
             [
              0,
              "#0d0887"
             ],
             [
              0.1111111111111111,
              "#46039f"
             ],
             [
              0.2222222222222222,
              "#7201a8"
             ],
             [
              0.3333333333333333,
              "#9c179e"
             ],
             [
              0.4444444444444444,
              "#bd3786"
             ],
             [
              0.5555555555555556,
              "#d8576b"
             ],
             [
              0.6666666666666666,
              "#ed7953"
             ],
             [
              0.7777777777777778,
              "#fb9f3a"
             ],
             [
              0.8888888888888888,
              "#fdca26"
             ],
             [
              1,
              "#f0f921"
             ]
            ],
            "type": "surface"
           }
          ],
          "table": [
           {
            "cells": {
             "fill": {
              "color": "#EBF0F8"
             },
             "line": {
              "color": "white"
             }
            },
            "header": {
             "fill": {
              "color": "#C8D4E3"
             },
             "line": {
              "color": "white"
             }
            },
            "type": "table"
           }
          ]
         },
         "layout": {
          "annotationdefaults": {
           "arrowcolor": "#2a3f5f",
           "arrowhead": 0,
           "arrowwidth": 1
          },
          "autotypenumbers": "strict",
          "coloraxis": {
           "colorbar": {
            "outlinewidth": 0,
            "ticks": ""
           }
          },
          "colorscale": {
           "diverging": [
            [
             0,
             "#8e0152"
            ],
            [
             0.1,
             "#c51b7d"
            ],
            [
             0.2,
             "#de77ae"
            ],
            [
             0.3,
             "#f1b6da"
            ],
            [
             0.4,
             "#fde0ef"
            ],
            [
             0.5,
             "#f7f7f7"
            ],
            [
             0.6,
             "#e6f5d0"
            ],
            [
             0.7,
             "#b8e186"
            ],
            [
             0.8,
             "#7fbc41"
            ],
            [
             0.9,
             "#4d9221"
            ],
            [
             1,
             "#276419"
            ]
           ],
           "sequential": [
            [
             0,
             "#0d0887"
            ],
            [
             0.1111111111111111,
             "#46039f"
            ],
            [
             0.2222222222222222,
             "#7201a8"
            ],
            [
             0.3333333333333333,
             "#9c179e"
            ],
            [
             0.4444444444444444,
             "#bd3786"
            ],
            [
             0.5555555555555556,
             "#d8576b"
            ],
            [
             0.6666666666666666,
             "#ed7953"
            ],
            [
             0.7777777777777778,
             "#fb9f3a"
            ],
            [
             0.8888888888888888,
             "#fdca26"
            ],
            [
             1,
             "#f0f921"
            ]
           ],
           "sequentialminus": [
            [
             0,
             "#0d0887"
            ],
            [
             0.1111111111111111,
             "#46039f"
            ],
            [
             0.2222222222222222,
             "#7201a8"
            ],
            [
             0.3333333333333333,
             "#9c179e"
            ],
            [
             0.4444444444444444,
             "#bd3786"
            ],
            [
             0.5555555555555556,
             "#d8576b"
            ],
            [
             0.6666666666666666,
             "#ed7953"
            ],
            [
             0.7777777777777778,
             "#fb9f3a"
            ],
            [
             0.8888888888888888,
             "#fdca26"
            ],
            [
             1,
             "#f0f921"
            ]
           ]
          },
          "colorway": [
           "#636efa",
           "#EF553B",
           "#00cc96",
           "#ab63fa",
           "#FFA15A",
           "#19d3f3",
           "#FF6692",
           "#B6E880",
           "#FF97FF",
           "#FECB52"
          ],
          "font": {
           "color": "#2a3f5f"
          },
          "geo": {
           "bgcolor": "white",
           "lakecolor": "white",
           "landcolor": "#E5ECF6",
           "showlakes": true,
           "showland": true,
           "subunitcolor": "white"
          },
          "hoverlabel": {
           "align": "left"
          },
          "hovermode": "closest",
          "mapbox": {
           "style": "light"
          },
          "paper_bgcolor": "white",
          "plot_bgcolor": "#E5ECF6",
          "polar": {
           "angularaxis": {
            "gridcolor": "white",
            "linecolor": "white",
            "ticks": ""
           },
           "bgcolor": "#E5ECF6",
           "radialaxis": {
            "gridcolor": "white",
            "linecolor": "white",
            "ticks": ""
           }
          },
          "scene": {
           "xaxis": {
            "backgroundcolor": "#E5ECF6",
            "gridcolor": "white",
            "gridwidth": 2,
            "linecolor": "white",
            "showbackground": true,
            "ticks": "",
            "zerolinecolor": "white"
           },
           "yaxis": {
            "backgroundcolor": "#E5ECF6",
            "gridcolor": "white",
            "gridwidth": 2,
            "linecolor": "white",
            "showbackground": true,
            "ticks": "",
            "zerolinecolor": "white"
           },
           "zaxis": {
            "backgroundcolor": "#E5ECF6",
            "gridcolor": "white",
            "gridwidth": 2,
            "linecolor": "white",
            "showbackground": true,
            "ticks": "",
            "zerolinecolor": "white"
           }
          },
          "shapedefaults": {
           "line": {
            "color": "#2a3f5f"
           }
          },
          "ternary": {
           "aaxis": {
            "gridcolor": "white",
            "linecolor": "white",
            "ticks": ""
           },
           "baxis": {
            "gridcolor": "white",
            "linecolor": "white",
            "ticks": ""
           },
           "bgcolor": "#E5ECF6",
           "caxis": {
            "gridcolor": "white",
            "linecolor": "white",
            "ticks": ""
           }
          },
          "title": {
           "x": 0.05
          },
          "xaxis": {
           "automargin": true,
           "gridcolor": "white",
           "linecolor": "white",
           "ticks": "",
           "title": {
            "standoff": 15
           },
           "zerolinecolor": "white",
           "zerolinewidth": 2
          },
          "yaxis": {
           "automargin": true,
           "gridcolor": "white",
           "linecolor": "white",
           "ticks": "",
           "title": {
            "standoff": 15
           },
           "zerolinecolor": "white",
           "zerolinewidth": 2
          }
         }
        },
        "title": {
         "text": "Label: image test"
        },
        "width": 500,
        "xaxis": {
         "anchor": "y",
         "domain": [
          0,
          1
         ],
         "showgrid": false,
         "showticklabels": false,
         "visible": false,
         "zeroline": false
        },
        "yaxis": {
         "anchor": "x",
         "domain": [
          0,
          1
         ],
         "showgrid": false,
         "showticklabels": false,
         "visible": false,
         "zeroline": false
        }
       }
      }
     },
     "metadata": {},
     "output_type": "display_data"
    }
   ],
   "source": [
    "plot_image(test_image_noise[0], \"image test\", {\"real\": discriminator.predict([test_image_noise, types_to_vector('Dark')], verbose=0)[0][0]}, 96)"
   ]
  },
  {
   "cell_type": "code",
   "execution_count": 84,
   "metadata": {},
   "outputs": [
    {
     "name": "stdout",
     "output_type": "stream",
     "text": [
      "(1, 96, 96, 3)\n"
     ]
    }
   ],
   "source": [
    "# load images/test/charmander.png to test\n",
    "test_image = tf.keras.preprocessing.image.load_img('images/test/charmander.png', color_mode='rgba', target_size=image_size)\n",
    "test_image = tf.keras.preprocessing.image.img_to_array(test_image)\n",
    "test_image = tf.expand_dims(test_image, axis=0)\n",
    "test_image = preprocess_image(test_image)\n",
    "print(test_image.shape)"
   ]
  },
  {
   "cell_type": "code",
   "execution_count": 192,
   "metadata": {},
   "outputs": [
    {
     "data": {
      "application/vnd.plotly.v1+json": {
       "config": {
        "plotlyServerURL": "https://plot.ly"
       },
       "data": [
        {
         "hovertemplate": "x: %{x}<br>y: %{y}<br>color: [%{z[0]}, %{z[1]}, %{z[2]}]<extra></extra>",
         "name": "0",
         "source": "data:image/png;base64,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",
         "type": "image",
         "xaxis": "x",
         "yaxis": "y"
        }
       ],
       "layout": {
        "annotations": [
         {
          "align": "left",
          "bgcolor": "#ff7f0e",
          "bordercolor": "#c7c7c7",
          "borderpad": 2,
          "borderwidth": 1,
          "font": {
           "color": "#ffffff",
           "family": "Courier New, monospace",
           "size": 12
          },
          "opacity": 0.8,
          "showarrow": false,
          "text": "real: 100%",
          "x": 1,
          "xref": "paper",
          "y": 1,
          "yref": "paper"
         }
        ],
        "height": 350,
        "images": [
         {
          "layer": "below",
          "sizex": 0.3,
          "sizey": 0.3,
          "source": "images/final/real/1.png",
          "x": 1,
          "xref": "paper",
          "y": 1.1,
          "yref": "paper"
         }
        ],
        "margin": {
         "l": 0,
         "t": 60
        },
        "shapes": [
         {
          "line": {
           "color": "black",
           "width": 2
          },
          "type": "rect",
          "x0": 0,
          "x1": 96,
          "xref": "x",
          "y0": 0,
          "y1": 96,
          "yref": "y"
         }
        ],
        "template": {
         "data": {
          "bar": [
           {
            "error_x": {
             "color": "#2a3f5f"
            },
            "error_y": {
             "color": "#2a3f5f"
            },
            "marker": {
             "line": {
              "color": "#E5ECF6",
              "width": 0.5
             },
             "pattern": {
              "fillmode": "overlay",
              "size": 10,
              "solidity": 0.2
             }
            },
            "type": "bar"
           }
          ],
          "barpolar": [
           {
            "marker": {
             "line": {
              "color": "#E5ECF6",
              "width": 0.5
             },
             "pattern": {
              "fillmode": "overlay",
              "size": 10,
              "solidity": 0.2
             }
            },
            "type": "barpolar"
           }
          ],
          "carpet": [
           {
            "aaxis": {
             "endlinecolor": "#2a3f5f",
             "gridcolor": "white",
             "linecolor": "white",
             "minorgridcolor": "white",
             "startlinecolor": "#2a3f5f"
            },
            "baxis": {
             "endlinecolor": "#2a3f5f",
             "gridcolor": "white",
             "linecolor": "white",
             "minorgridcolor": "white",
             "startlinecolor": "#2a3f5f"
            },
            "type": "carpet"
           }
          ],
          "choropleth": [
           {
            "colorbar": {
             "outlinewidth": 0,
             "ticks": ""
            },
            "type": "choropleth"
           }
          ],
          "contour": [
           {
            "colorbar": {
             "outlinewidth": 0,
             "ticks": ""
            },
            "colorscale": [
             [
              0,
              "#0d0887"
             ],
             [
              0.1111111111111111,
              "#46039f"
             ],
             [
              0.2222222222222222,
              "#7201a8"
             ],
             [
              0.3333333333333333,
              "#9c179e"
             ],
             [
              0.4444444444444444,
              "#bd3786"
             ],
             [
              0.5555555555555556,
              "#d8576b"
             ],
             [
              0.6666666666666666,
              "#ed7953"
             ],
             [
              0.7777777777777778,
              "#fb9f3a"
             ],
             [
              0.8888888888888888,
              "#fdca26"
             ],
             [
              1,
              "#f0f921"
             ]
            ],
            "type": "contour"
           }
          ],
          "contourcarpet": [
           {
            "colorbar": {
             "outlinewidth": 0,
             "ticks": ""
            },
            "type": "contourcarpet"
           }
          ],
          "heatmap": [
           {
            "colorbar": {
             "outlinewidth": 0,
             "ticks": ""
            },
            "colorscale": [
             [
              0,
              "#0d0887"
             ],
             [
              0.1111111111111111,
              "#46039f"
             ],
             [
              0.2222222222222222,
              "#7201a8"
             ],
             [
              0.3333333333333333,
              "#9c179e"
             ],
             [
              0.4444444444444444,
              "#bd3786"
             ],
             [
              0.5555555555555556,
              "#d8576b"
             ],
             [
              0.6666666666666666,
              "#ed7953"
             ],
             [
              0.7777777777777778,
              "#fb9f3a"
             ],
             [
              0.8888888888888888,
              "#fdca26"
             ],
             [
              1,
              "#f0f921"
             ]
            ],
            "type": "heatmap"
           }
          ],
          "heatmapgl": [
           {
            "colorbar": {
             "outlinewidth": 0,
             "ticks": ""
            },
            "colorscale": [
             [
              0,
              "#0d0887"
             ],
             [
              0.1111111111111111,
              "#46039f"
             ],
             [
              0.2222222222222222,
              "#7201a8"
             ],
             [
              0.3333333333333333,
              "#9c179e"
             ],
             [
              0.4444444444444444,
              "#bd3786"
             ],
             [
              0.5555555555555556,
              "#d8576b"
             ],
             [
              0.6666666666666666,
              "#ed7953"
             ],
             [
              0.7777777777777778,
              "#fb9f3a"
             ],
             [
              0.8888888888888888,
              "#fdca26"
             ],
             [
              1,
              "#f0f921"
             ]
            ],
            "type": "heatmapgl"
           }
          ],
          "histogram": [
           {
            "marker": {
             "pattern": {
              "fillmode": "overlay",
              "size": 10,
              "solidity": 0.2
             }
            },
            "type": "histogram"
           }
          ],
          "histogram2d": [
           {
            "colorbar": {
             "outlinewidth": 0,
             "ticks": ""
            },
            "colorscale": [
             [
              0,
              "#0d0887"
             ],
             [
              0.1111111111111111,
              "#46039f"
             ],
             [
              0.2222222222222222,
              "#7201a8"
             ],
             [
              0.3333333333333333,
              "#9c179e"
             ],
             [
              0.4444444444444444,
              "#bd3786"
             ],
             [
              0.5555555555555556,
              "#d8576b"
             ],
             [
              0.6666666666666666,
              "#ed7953"
             ],
             [
              0.7777777777777778,
              "#fb9f3a"
             ],
             [
              0.8888888888888888,
              "#fdca26"
             ],
             [
              1,
              "#f0f921"
             ]
            ],
            "type": "histogram2d"
           }
          ],
          "histogram2dcontour": [
           {
            "colorbar": {
             "outlinewidth": 0,
             "ticks": ""
            },
            "colorscale": [
             [
              0,
              "#0d0887"
             ],
             [
              0.1111111111111111,
              "#46039f"
             ],
             [
              0.2222222222222222,
              "#7201a8"
             ],
             [
              0.3333333333333333,
              "#9c179e"
             ],
             [
              0.4444444444444444,
              "#bd3786"
             ],
             [
              0.5555555555555556,
              "#d8576b"
             ],
             [
              0.6666666666666666,
              "#ed7953"
             ],
             [
              0.7777777777777778,
              "#fb9f3a"
             ],
             [
              0.8888888888888888,
              "#fdca26"
             ],
             [
              1,
              "#f0f921"
             ]
            ],
            "type": "histogram2dcontour"
           }
          ],
          "mesh3d": [
           {
            "colorbar": {
             "outlinewidth": 0,
             "ticks": ""
            },
            "type": "mesh3d"
           }
          ],
          "parcoords": [
           {
            "line": {
             "colorbar": {
              "outlinewidth": 0,
              "ticks": ""
             }
            },
            "type": "parcoords"
           }
          ],
          "pie": [
           {
            "automargin": true,
            "type": "pie"
           }
          ],
          "scatter": [
           {
            "fillpattern": {
             "fillmode": "overlay",
             "size": 10,
             "solidity": 0.2
            },
            "type": "scatter"
           }
          ],
          "scatter3d": [
           {
            "line": {
             "colorbar": {
              "outlinewidth": 0,
              "ticks": ""
             }
            },
            "marker": {
             "colorbar": {
              "outlinewidth": 0,
              "ticks": ""
             }
            },
            "type": "scatter3d"
           }
          ],
          "scattercarpet": [
           {
            "marker": {
             "colorbar": {
              "outlinewidth": 0,
              "ticks": ""
             }
            },
            "type": "scattercarpet"
           }
          ],
          "scattergeo": [
           {
            "marker": {
             "colorbar": {
              "outlinewidth": 0,
              "ticks": ""
             }
            },
            "type": "scattergeo"
           }
          ],
          "scattergl": [
           {
            "marker": {
             "colorbar": {
              "outlinewidth": 0,
              "ticks": ""
             }
            },
            "type": "scattergl"
           }
          ],
          "scattermapbox": [
           {
            "marker": {
             "colorbar": {
              "outlinewidth": 0,
              "ticks": ""
             }
            },
            "type": "scattermapbox"
           }
          ],
          "scatterpolar": [
           {
            "marker": {
             "colorbar": {
              "outlinewidth": 0,
              "ticks": ""
             }
            },
            "type": "scatterpolar"
           }
          ],
          "scatterpolargl": [
           {
            "marker": {
             "colorbar": {
              "outlinewidth": 0,
              "ticks": ""
             }
            },
            "type": "scatterpolargl"
           }
          ],
          "scatterternary": [
           {
            "marker": {
             "colorbar": {
              "outlinewidth": 0,
              "ticks": ""
             }
            },
            "type": "scatterternary"
           }
          ],
          "surface": [
           {
            "colorbar": {
             "outlinewidth": 0,
             "ticks": ""
            },
            "colorscale": [
             [
              0,
              "#0d0887"
             ],
             [
              0.1111111111111111,
              "#46039f"
             ],
             [
              0.2222222222222222,
              "#7201a8"
             ],
             [
              0.3333333333333333,
              "#9c179e"
             ],
             [
              0.4444444444444444,
              "#bd3786"
             ],
             [
              0.5555555555555556,
              "#d8576b"
             ],
             [
              0.6666666666666666,
              "#ed7953"
             ],
             [
              0.7777777777777778,
              "#fb9f3a"
             ],
             [
              0.8888888888888888,
              "#fdca26"
             ],
             [
              1,
              "#f0f921"
             ]
            ],
            "type": "surface"
           }
          ],
          "table": [
           {
            "cells": {
             "fill": {
              "color": "#EBF0F8"
             },
             "line": {
              "color": "white"
             }
            },
            "header": {
             "fill": {
              "color": "#C8D4E3"
             },
             "line": {
              "color": "white"
             }
            },
            "type": "table"
           }
          ]
         },
         "layout": {
          "annotationdefaults": {
           "arrowcolor": "#2a3f5f",
           "arrowhead": 0,
           "arrowwidth": 1
          },
          "autotypenumbers": "strict",
          "coloraxis": {
           "colorbar": {
            "outlinewidth": 0,
            "ticks": ""
           }
          },
          "colorscale": {
           "diverging": [
            [
             0,
             "#8e0152"
            ],
            [
             0.1,
             "#c51b7d"
            ],
            [
             0.2,
             "#de77ae"
            ],
            [
             0.3,
             "#f1b6da"
            ],
            [
             0.4,
             "#fde0ef"
            ],
            [
             0.5,
             "#f7f7f7"
            ],
            [
             0.6,
             "#e6f5d0"
            ],
            [
             0.7,
             "#b8e186"
            ],
            [
             0.8,
             "#7fbc41"
            ],
            [
             0.9,
             "#4d9221"
            ],
            [
             1,
             "#276419"
            ]
           ],
           "sequential": [
            [
             0,
             "#0d0887"
            ],
            [
             0.1111111111111111,
             "#46039f"
            ],
            [
             0.2222222222222222,
             "#7201a8"
            ],
            [
             0.3333333333333333,
             "#9c179e"
            ],
            [
             0.4444444444444444,
             "#bd3786"
            ],
            [
             0.5555555555555556,
             "#d8576b"
            ],
            [
             0.6666666666666666,
             "#ed7953"
            ],
            [
             0.7777777777777778,
             "#fb9f3a"
            ],
            [
             0.8888888888888888,
             "#fdca26"
            ],
            [
             1,
             "#f0f921"
            ]
           ],
           "sequentialminus": [
            [
             0,
             "#0d0887"
            ],
            [
             0.1111111111111111,
             "#46039f"
            ],
            [
             0.2222222222222222,
             "#7201a8"
            ],
            [
             0.3333333333333333,
             "#9c179e"
            ],
            [
             0.4444444444444444,
             "#bd3786"
            ],
            [
             0.5555555555555556,
             "#d8576b"
            ],
            [
             0.6666666666666666,
             "#ed7953"
            ],
            [
             0.7777777777777778,
             "#fb9f3a"
            ],
            [
             0.8888888888888888,
             "#fdca26"
            ],
            [
             1,
             "#f0f921"
            ]
           ]
          },
          "colorway": [
           "#636efa",
           "#EF553B",
           "#00cc96",
           "#ab63fa",
           "#FFA15A",
           "#19d3f3",
           "#FF6692",
           "#B6E880",
           "#FF97FF",
           "#FECB52"
          ],
          "font": {
           "color": "#2a3f5f"
          },
          "geo": {
           "bgcolor": "white",
           "lakecolor": "white",
           "landcolor": "#E5ECF6",
           "showlakes": true,
           "showland": true,
           "subunitcolor": "white"
          },
          "hoverlabel": {
           "align": "left"
          },
          "hovermode": "closest",
          "mapbox": {
           "style": "light"
          },
          "paper_bgcolor": "white",
          "plot_bgcolor": "#E5ECF6",
          "polar": {
           "angularaxis": {
            "gridcolor": "white",
            "linecolor": "white",
            "ticks": ""
           },
           "bgcolor": "#E5ECF6",
           "radialaxis": {
            "gridcolor": "white",
            "linecolor": "white",
            "ticks": ""
           }
          },
          "scene": {
           "xaxis": {
            "backgroundcolor": "#E5ECF6",
            "gridcolor": "white",
            "gridwidth": 2,
            "linecolor": "white",
            "showbackground": true,
            "ticks": "",
            "zerolinecolor": "white"
           },
           "yaxis": {
            "backgroundcolor": "#E5ECF6",
            "gridcolor": "white",
            "gridwidth": 2,
            "linecolor": "white",
            "showbackground": true,
            "ticks": "",
            "zerolinecolor": "white"
           },
           "zaxis": {
            "backgroundcolor": "#E5ECF6",
            "gridcolor": "white",
            "gridwidth": 2,
            "linecolor": "white",
            "showbackground": true,
            "ticks": "",
            "zerolinecolor": "white"
           }
          },
          "shapedefaults": {
           "line": {
            "color": "#2a3f5f"
           }
          },
          "ternary": {
           "aaxis": {
            "gridcolor": "white",
            "linecolor": "white",
            "ticks": ""
           },
           "baxis": {
            "gridcolor": "white",
            "linecolor": "white",
            "ticks": ""
           },
           "bgcolor": "#E5ECF6",
           "caxis": {
            "gridcolor": "white",
            "linecolor": "white",
            "ticks": ""
           }
          },
          "title": {
           "x": 0.05
          },
          "xaxis": {
           "automargin": true,
           "gridcolor": "white",
           "linecolor": "white",
           "ticks": "",
           "title": {
            "standoff": 15
           },
           "zerolinecolor": "white",
           "zerolinewidth": 2
          },
          "yaxis": {
           "automargin": true,
           "gridcolor": "white",
           "linecolor": "white",
           "ticks": "",
           "title": {
            "standoff": 15
           },
           "zerolinecolor": "white",
           "zerolinewidth": 2
          }
         }
        },
        "title": {
         "text": "Label: image test"
        },
        "width": 500,
        "xaxis": {
         "anchor": "y",
         "domain": [
          0,
          1
         ],
         "showgrid": false,
         "showticklabels": false,
         "visible": false,
         "zeroline": false
        },
        "yaxis": {
         "anchor": "x",
         "domain": [
          0,
          1
         ],
         "showgrid": false,
         "showticklabels": false,
         "visible": false,
         "zeroline": false
        }
       }
      }
     },
     "metadata": {},
     "output_type": "display_data"
    }
   ],
   "source": [
    "# test discriminator with test image\n",
    "plot_image(test_image[0], \"image test\", {\"real\": discriminator.predict([test_image, types_to_vector('Fire', 'Flying')], verbose=0)[0][0]}, 96)"
   ]
  }
 ],
 "metadata": {
  "kernelspec": {
   "display_name": "Python 3",
   "language": "python",
   "name": "python3"
  },
  "language_info": {
   "codemirror_mode": {
    "name": "ipython",
    "version": 3
   },
   "file_extension": ".py",
   "mimetype": "text/x-python",
   "name": "python",
   "nbconvert_exporter": "python",
   "pygments_lexer": "ipython3",
   "version": "3.10.6"
  },
  "orig_nbformat": 4
 },
 "nbformat": 4,
 "nbformat_minor": 2
}
