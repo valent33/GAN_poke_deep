{
 "cells": [
  {
   "cell_type": "code",
   "execution_count": 1,
   "metadata": {},
   "outputs": [],
   "source": [
    "import numpy as np\n",
    "import pandas as pd\n",
    "import tensorflow as tf\n",
    "from keras.layers import Input, Dense, Conv2D, Flatten, Lambda, BatchNormalization, Concatenate, LeakyReLU, Dropout, Reshape, Conv2DTranspose, Activation\n",
    "from keras.models import Model\n",
    "from keras import backend as K\n",
    "import matplotlib.pyplot as plt\n",
    "import sys\n",
    "sys.path.append('../')\n",
    "from utils import *\n"
   ]
  },
  {
   "cell_type": "code",
   "execution_count": 2,
   "metadata": {},
   "outputs": [],
   "source": [
    "directory = '../images/final/'\n",
    "width = 96\n",
    "height = 96\n",
    "channels = 4\n",
    "image_size = (width, height)\n",
    "input_shape = (width, height, channels)\n",
    "batch_size = 32\n",
    "latent_dim = 100\n"
   ]
  },
  {
   "cell_type": "code",
   "execution_count": 3,
   "metadata": {},
   "outputs": [
    {
     "name": "stdout",
     "output_type": "stream",
     "text": [
      "Found 13849 files belonging to 905 classes.\n"
     ]
    }
   ],
   "source": [
    "train_ds, class_names = load_data(directory, batch_size, image_size, GAN=True)\n"
   ]
  },
  {
   "cell_type": "code",
   "execution_count": 4,
   "metadata": {},
   "outputs": [],
   "source": [
    "types = pd.read_csv('../PokeDataset.csv', usecols=['Name', 'Type1', 'Type2'])\n",
    "# reorder by alphabetical order of column 'Name'\n",
    "types = types.sort_values(by=['Name'])\n",
    "types = types.reset_index(drop=True)\n"
   ]
  },
  {
   "cell_type": "code",
   "execution_count": 5,
   "metadata": {},
   "outputs": [
    {
     "name": "stdout",
     "output_type": "stream",
     "text": [
      "Percentage of pokemon with double type: 50.69%\n"
     ]
    }
   ],
   "source": [
    "# give percentage of pokemon with double type\n",
    "print(\n",
    "    f\"Percentage of pokemon with double type: {types['Type2'].count() / types['Type1'].count() * 100:.2f}%\")\n"
   ]
  },
  {
   "cell_type": "code",
   "execution_count": 6,
   "metadata": {},
   "outputs": [
    {
     "data": {
      "text/html": [
       "<div>\n",
       "<style scoped>\n",
       "    .dataframe tbody tr th:only-of-type {\n",
       "        vertical-align: middle;\n",
       "    }\n",
       "\n",
       "    .dataframe tbody tr th {\n",
       "        vertical-align: top;\n",
       "    }\n",
       "\n",
       "    .dataframe thead th {\n",
       "        text-align: right;\n",
       "    }\n",
       "</style>\n",
       "<table border=\"1\" class=\"dataframe\">\n",
       "  <thead>\n",
       "    <tr style=\"text-align: right;\">\n",
       "      <th></th>\n",
       "      <th>Name</th>\n",
       "      <th>Type1</th>\n",
       "      <th>Type2</th>\n",
       "    </tr>\n",
       "  </thead>\n",
       "  <tbody>\n",
       "    <tr>\n",
       "      <th>0</th>\n",
       "      <td>Abomasnow</td>\n",
       "      <td>Grass</td>\n",
       "      <td>Ice</td>\n",
       "    </tr>\n",
       "    <tr>\n",
       "      <th>1</th>\n",
       "      <td>Abra</td>\n",
       "      <td>Psychic</td>\n",
       "      <td>NaN</td>\n",
       "    </tr>\n",
       "    <tr>\n",
       "      <th>2</th>\n",
       "      <td>Absol</td>\n",
       "      <td>Dark</td>\n",
       "      <td>NaN</td>\n",
       "    </tr>\n",
       "    <tr>\n",
       "      <th>3</th>\n",
       "      <td>Accelgor</td>\n",
       "      <td>Bug</td>\n",
       "      <td>NaN</td>\n",
       "    </tr>\n",
       "    <tr>\n",
       "      <th>4</th>\n",
       "      <td>Aegislash</td>\n",
       "      <td>Steel</td>\n",
       "      <td>Ghost</td>\n",
       "    </tr>\n",
       "  </tbody>\n",
       "</table>\n",
       "</div>"
      ],
      "text/plain": [
       "        Name    Type1  Type2\n",
       "0  Abomasnow    Grass    Ice\n",
       "1       Abra  Psychic    NaN\n",
       "2      Absol     Dark    NaN\n",
       "3   Accelgor      Bug    NaN\n",
       "4  Aegislash    Steel  Ghost"
      ]
     },
     "execution_count": 6,
     "metadata": {},
     "output_type": "execute_result"
    }
   ],
   "source": [
    "types.head(5)\n"
   ]
  },
  {
   "cell_type": "code",
   "execution_count": 7,
   "metadata": {},
   "outputs": [],
   "source": [
    "# make a dictionary of types and their index in the list of types\n",
    "types_dict = {}\n",
    "for i, t in enumerate(types['Type1'].unique()):\n",
    "    types_dict[t] = i\n",
    "\n",
    "# create vector of labels with 0 for each type except the one in the row (type1 and type2 are strings)\n",
    "def create_label(row):\n",
    "    label = np.zeros(18)\n",
    "    label[types_dict[row['Type1']]] = 1\n",
    "    if row['Type2'] in types_dict:\n",
    "        label[types_dict[row['Type2']]] = 1\n",
    "    return label\n",
    "\n",
    "\n",
    "types['Label'] = types.apply(create_label, axis=1)\n"
   ]
  },
  {
   "cell_type": "code",
   "execution_count": 8,
   "metadata": {},
   "outputs": [],
   "source": [
    "def types_to_vector(type1, type2=None):\n",
    "    label = np.zeros(18)\n",
    "    label[types_dict[type1]] = 1\n",
    "    if type2 in types_dict:\n",
    "        label[types_dict[type2]] = 1\n",
    "    return label.reshape(1, 18)\n"
   ]
  },
  {
   "cell_type": "code",
   "execution_count": 9,
   "metadata": {},
   "outputs": [
    {
     "name": "stdout",
     "output_type": "stream",
     "text": [
      "521\n"
     ]
    },
    {
     "data": {
      "application/vnd.plotly.v1+json": {
       "config": {
        "plotlyServerURL": "https://plot.ly"
       },
       "data": [
        {
         "hovertemplate": "x: %{x}<br>y: %{y}<extra></extra>",
         "name": "0",
         "source": "data:image/png;base64,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",
         "type": "image",
         "xaxis": "x",
         "yaxis": "y"
        }
       ],
       "layout": {
        "height": 350,
        "margin": {
         "l": 0,
         "t": 60
        },
        "shapes": [
         {
          "line": {
           "color": "black",
           "width": 2
          },
          "type": "rect",
          "x0": 0,
          "x1": 96,
          "xref": "x",
          "y0": 0,
          "y1": 96,
          "yref": "y"
         }
        ],
        "template": {
         "data": {
          "bar": [
           {
            "error_x": {
             "color": "#2a3f5f"
            },
            "error_y": {
             "color": "#2a3f5f"
            },
            "marker": {
             "line": {
              "color": "#E5ECF6",
              "width": 0.5
             },
             "pattern": {
              "fillmode": "overlay",
              "size": 10,
              "solidity": 0.2
             }
            },
            "type": "bar"
           }
          ],
          "barpolar": [
           {
            "marker": {
             "line": {
              "color": "#E5ECF6",
              "width": 0.5
             },
             "pattern": {
              "fillmode": "overlay",
              "size": 10,
              "solidity": 0.2
             }
            },
            "type": "barpolar"
           }
          ],
          "carpet": [
           {
            "aaxis": {
             "endlinecolor": "#2a3f5f",
             "gridcolor": "white",
             "linecolor": "white",
             "minorgridcolor": "white",
             "startlinecolor": "#2a3f5f"
            },
            "baxis": {
             "endlinecolor": "#2a3f5f",
             "gridcolor": "white",
             "linecolor": "white",
             "minorgridcolor": "white",
             "startlinecolor": "#2a3f5f"
            },
            "type": "carpet"
           }
          ],
          "choropleth": [
           {
            "colorbar": {
             "outlinewidth": 0,
             "ticks": ""
            },
            "type": "choropleth"
           }
          ],
          "contour": [
           {
            "colorbar": {
             "outlinewidth": 0,
             "ticks": ""
            },
            "colorscale": [
             [
              0,
              "#0d0887"
             ],
             [
              0.1111111111111111,
              "#46039f"
             ],
             [
              0.2222222222222222,
              "#7201a8"
             ],
             [
              0.3333333333333333,
              "#9c179e"
             ],
             [
              0.4444444444444444,
              "#bd3786"
             ],
             [
              0.5555555555555556,
              "#d8576b"
             ],
             [
              0.6666666666666666,
              "#ed7953"
             ],
             [
              0.7777777777777778,
              "#fb9f3a"
             ],
             [
              0.8888888888888888,
              "#fdca26"
             ],
             [
              1,
              "#f0f921"
             ]
            ],
            "type": "contour"
           }
          ],
          "contourcarpet": [
           {
            "colorbar": {
             "outlinewidth": 0,
             "ticks": ""
            },
            "type": "contourcarpet"
           }
          ],
          "heatmap": [
           {
            "colorbar": {
             "outlinewidth": 0,
             "ticks": ""
            },
            "colorscale": [
             [
              0,
              "#0d0887"
             ],
             [
              0.1111111111111111,
              "#46039f"
             ],
             [
              0.2222222222222222,
              "#7201a8"
             ],
             [
              0.3333333333333333,
              "#9c179e"
             ],
             [
              0.4444444444444444,
              "#bd3786"
             ],
             [
              0.5555555555555556,
              "#d8576b"
             ],
             [
              0.6666666666666666,
              "#ed7953"
             ],
             [
              0.7777777777777778,
              "#fb9f3a"
             ],
             [
              0.8888888888888888,
              "#fdca26"
             ],
             [
              1,
              "#f0f921"
             ]
            ],
            "type": "heatmap"
           }
          ],
          "heatmapgl": [
           {
            "colorbar": {
             "outlinewidth": 0,
             "ticks": ""
            },
            "colorscale": [
             [
              0,
              "#0d0887"
             ],
             [
              0.1111111111111111,
              "#46039f"
             ],
             [
              0.2222222222222222,
              "#7201a8"
             ],
             [
              0.3333333333333333,
              "#9c179e"
             ],
             [
              0.4444444444444444,
              "#bd3786"
             ],
             [
              0.5555555555555556,
              "#d8576b"
             ],
             [
              0.6666666666666666,
              "#ed7953"
             ],
             [
              0.7777777777777778,
              "#fb9f3a"
             ],
             [
              0.8888888888888888,
              "#fdca26"
             ],
             [
              1,
              "#f0f921"
             ]
            ],
            "type": "heatmapgl"
           }
          ],
          "histogram": [
           {
            "marker": {
             "pattern": {
              "fillmode": "overlay",
              "size": 10,
              "solidity": 0.2
             }
            },
            "type": "histogram"
           }
          ],
          "histogram2d": [
           {
            "colorbar": {
             "outlinewidth": 0,
             "ticks": ""
            },
            "colorscale": [
             [
              0,
              "#0d0887"
             ],
             [
              0.1111111111111111,
              "#46039f"
             ],
             [
              0.2222222222222222,
              "#7201a8"
             ],
             [
              0.3333333333333333,
              "#9c179e"
             ],
             [
              0.4444444444444444,
              "#bd3786"
             ],
             [
              0.5555555555555556,
              "#d8576b"
             ],
             [
              0.6666666666666666,
              "#ed7953"
             ],
             [
              0.7777777777777778,
              "#fb9f3a"
             ],
             [
              0.8888888888888888,
              "#fdca26"
             ],
             [
              1,
              "#f0f921"
             ]
            ],
            "type": "histogram2d"
           }
          ],
          "histogram2dcontour": [
           {
            "colorbar": {
             "outlinewidth": 0,
             "ticks": ""
            },
            "colorscale": [
             [
              0,
              "#0d0887"
             ],
             [
              0.1111111111111111,
              "#46039f"
             ],
             [
              0.2222222222222222,
              "#7201a8"
             ],
             [
              0.3333333333333333,
              "#9c179e"
             ],
             [
              0.4444444444444444,
              "#bd3786"
             ],
             [
              0.5555555555555556,
              "#d8576b"
             ],
             [
              0.6666666666666666,
              "#ed7953"
             ],
             [
              0.7777777777777778,
              "#fb9f3a"
             ],
             [
              0.8888888888888888,
              "#fdca26"
             ],
             [
              1,
              "#f0f921"
             ]
            ],
            "type": "histogram2dcontour"
           }
          ],
          "mesh3d": [
           {
            "colorbar": {
             "outlinewidth": 0,
             "ticks": ""
            },
            "type": "mesh3d"
           }
          ],
          "parcoords": [
           {
            "line": {
             "colorbar": {
              "outlinewidth": 0,
              "ticks": ""
             }
            },
            "type": "parcoords"
           }
          ],
          "pie": [
           {
            "automargin": true,
            "type": "pie"
           }
          ],
          "scatter": [
           {
            "fillpattern": {
             "fillmode": "overlay",
             "size": 10,
             "solidity": 0.2
            },
            "type": "scatter"
           }
          ],
          "scatter3d": [
           {
            "line": {
             "colorbar": {
              "outlinewidth": 0,
              "ticks": ""
             }
            },
            "marker": {
             "colorbar": {
              "outlinewidth": 0,
              "ticks": ""
             }
            },
            "type": "scatter3d"
           }
          ],
          "scattercarpet": [
           {
            "marker": {
             "colorbar": {
              "outlinewidth": 0,
              "ticks": ""
             }
            },
            "type": "scattercarpet"
           }
          ],
          "scattergeo": [
           {
            "marker": {
             "colorbar": {
              "outlinewidth": 0,
              "ticks": ""
             }
            },
            "type": "scattergeo"
           }
          ],
          "scattergl": [
           {
            "marker": {
             "colorbar": {
              "outlinewidth": 0,
              "ticks": ""
             }
            },
            "type": "scattergl"
           }
          ],
          "scattermapbox": [
           {
            "marker": {
             "colorbar": {
              "outlinewidth": 0,
              "ticks": ""
             }
            },
            "type": "scattermapbox"
           }
          ],
          "scatterpolar": [
           {
            "marker": {
             "colorbar": {
              "outlinewidth": 0,
              "ticks": ""
             }
            },
            "type": "scatterpolar"
           }
          ],
          "scatterpolargl": [
           {
            "marker": {
             "colorbar": {
              "outlinewidth": 0,
              "ticks": ""
             }
            },
            "type": "scatterpolargl"
           }
          ],
          "scatterternary": [
           {
            "marker": {
             "colorbar": {
              "outlinewidth": 0,
              "ticks": ""
             }
            },
            "type": "scatterternary"
           }
          ],
          "surface": [
           {
            "colorbar": {
             "outlinewidth": 0,
             "ticks": ""
            },
            "colorscale": [
             [
              0,
              "#0d0887"
             ],
             [
              0.1111111111111111,
              "#46039f"
             ],
             [
              0.2222222222222222,
              "#7201a8"
             ],
             [
              0.3333333333333333,
              "#9c179e"
             ],
             [
              0.4444444444444444,
              "#bd3786"
             ],
             [
              0.5555555555555556,
              "#d8576b"
             ],
             [
              0.6666666666666666,
              "#ed7953"
             ],
             [
              0.7777777777777778,
              "#fb9f3a"
             ],
             [
              0.8888888888888888,
              "#fdca26"
             ],
             [
              1,
              "#f0f921"
             ]
            ],
            "type": "surface"
           }
          ],
          "table": [
           {
            "cells": {
             "fill": {
              "color": "#EBF0F8"
             },
             "line": {
              "color": "white"
             }
            },
            "header": {
             "fill": {
              "color": "#C8D4E3"
             },
             "line": {
              "color": "white"
             }
            },
            "type": "table"
           }
          ]
         },
         "layout": {
          "annotationdefaults": {
           "arrowcolor": "#2a3f5f",
           "arrowhead": 0,
           "arrowwidth": 1
          },
          "autotypenumbers": "strict",
          "coloraxis": {
           "colorbar": {
            "outlinewidth": 0,
            "ticks": ""
           }
          },
          "colorscale": {
           "diverging": [
            [
             0,
             "#8e0152"
            ],
            [
             0.1,
             "#c51b7d"
            ],
            [
             0.2,
             "#de77ae"
            ],
            [
             0.3,
             "#f1b6da"
            ],
            [
             0.4,
             "#fde0ef"
            ],
            [
             0.5,
             "#f7f7f7"
            ],
            [
             0.6,
             "#e6f5d0"
            ],
            [
             0.7,
             "#b8e186"
            ],
            [
             0.8,
             "#7fbc41"
            ],
            [
             0.9,
             "#4d9221"
            ],
            [
             1,
             "#276419"
            ]
           ],
           "sequential": [
            [
             0,
             "#0d0887"
            ],
            [
             0.1111111111111111,
             "#46039f"
            ],
            [
             0.2222222222222222,
             "#7201a8"
            ],
            [
             0.3333333333333333,
             "#9c179e"
            ],
            [
             0.4444444444444444,
             "#bd3786"
            ],
            [
             0.5555555555555556,
             "#d8576b"
            ],
            [
             0.6666666666666666,
             "#ed7953"
            ],
            [
             0.7777777777777778,
             "#fb9f3a"
            ],
            [
             0.8888888888888888,
             "#fdca26"
            ],
            [
             1,
             "#f0f921"
            ]
           ],
           "sequentialminus": [
            [
             0,
             "#0d0887"
            ],
            [
             0.1111111111111111,
             "#46039f"
            ],
            [
             0.2222222222222222,
             "#7201a8"
            ],
            [
             0.3333333333333333,
             "#9c179e"
            ],
            [
             0.4444444444444444,
             "#bd3786"
            ],
            [
             0.5555555555555556,
             "#d8576b"
            ],
            [
             0.6666666666666666,
             "#ed7953"
            ],
            [
             0.7777777777777778,
             "#fb9f3a"
            ],
            [
             0.8888888888888888,
             "#fdca26"
            ],
            [
             1,
             "#f0f921"
            ]
           ]
          },
          "colorway": [
           "#636efa",
           "#EF553B",
           "#00cc96",
           "#ab63fa",
           "#FFA15A",
           "#19d3f3",
           "#FF6692",
           "#B6E880",
           "#FF97FF",
           "#FECB52"
          ],
          "font": {
           "color": "#2a3f5f"
          },
          "geo": {
           "bgcolor": "white",
           "lakecolor": "white",
           "landcolor": "#E5ECF6",
           "showlakes": true,
           "showland": true,
           "subunitcolor": "white"
          },
          "hoverlabel": {
           "align": "left"
          },
          "hovermode": "closest",
          "mapbox": {
           "style": "light"
          },
          "paper_bgcolor": "white",
          "plot_bgcolor": "#E5ECF6",
          "polar": {
           "angularaxis": {
            "gridcolor": "white",
            "linecolor": "white",
            "ticks": ""
           },
           "bgcolor": "#E5ECF6",
           "radialaxis": {
            "gridcolor": "white",
            "linecolor": "white",
            "ticks": ""
           }
          },
          "scene": {
           "xaxis": {
            "backgroundcolor": "#E5ECF6",
            "gridcolor": "white",
            "gridwidth": 2,
            "linecolor": "white",
            "showbackground": true,
            "ticks": "",
            "zerolinecolor": "white"
           },
           "yaxis": {
            "backgroundcolor": "#E5ECF6",
            "gridcolor": "white",
            "gridwidth": 2,
            "linecolor": "white",
            "showbackground": true,
            "ticks": "",
            "zerolinecolor": "white"
           },
           "zaxis": {
            "backgroundcolor": "#E5ECF6",
            "gridcolor": "white",
            "gridwidth": 2,
            "linecolor": "white",
            "showbackground": true,
            "ticks": "",
            "zerolinecolor": "white"
           }
          },
          "shapedefaults": {
           "line": {
            "color": "#2a3f5f"
           }
          },
          "ternary": {
           "aaxis": {
            "gridcolor": "white",
            "linecolor": "white",
            "ticks": ""
           },
           "baxis": {
            "gridcolor": "white",
            "linecolor": "white",
            "ticks": ""
           },
           "bgcolor": "#E5ECF6",
           "caxis": {
            "gridcolor": "white",
            "linecolor": "white",
            "ticks": ""
           }
          },
          "title": {
           "x": 0.05
          },
          "xaxis": {
           "automargin": true,
           "gridcolor": "white",
           "linecolor": "white",
           "ticks": "",
           "title": {
            "standoff": 15
           },
           "zerolinecolor": "white",
           "zerolinewidth": 2
          },
          "yaxis": {
           "automargin": true,
           "gridcolor": "white",
           "linecolor": "white",
           "ticks": "",
           "title": {
            "standoff": 15
           },
           "zerolinecolor": "white",
           "zerolinewidth": 2
          }
         }
        },
        "title": {
         "text": "Label: Naganadel"
        },
        "width": 500,
        "xaxis": {
         "anchor": "y",
         "domain": [
          0,
          1
         ],
         "showgrid": false,
         "showticklabels": false,
         "visible": false,
         "zeroline": false
        },
        "yaxis": {
         "anchor": "x",
         "domain": [
          0,
          1
         ],
         "showgrid": false,
         "showticklabels": false,
         "visible": false,
         "zeroline": false
        }
       }
      }
     },
     "metadata": {},
     "output_type": "display_data"
    }
   ],
   "source": [
    "for x, y in train_ds.take(1):\n",
    "    print(int(tf.argmax(tf.reshape(y[0], [-1, 1]), axis=0)))\n",
    "    plot_image(x[0], class_names[int(\n",
    "        tf.argmax(tf.reshape(y[0], [-1, 1]), axis=0))], size=width)\n"
   ]
  },
  {
   "cell_type": "code",
   "execution_count": 10,
   "metadata": {},
   "outputs": [],
   "source": [
    "# map labels in train_ds to the column Label in types\n",
    "def map_labels(x, y):\n",
    "    y_onehot = tf.argmax(y, axis=1).numpy()\n",
    "    y_labels = np.zeros((len(y_onehot), 18))\n",
    "    for i in range(len(y_onehot)):\n",
    "        y_labels[i] = types.loc[y_onehot[i], 'Label']\n",
    "    y_label = np.insert(y_labels, 0, 1, axis=1)\n",
    "    y_label_tensor = tf.convert_to_tensor(y_label, dtype=tf.float32)\n",
    "    return x, y_label_tensor\n"
   ]
  },
  {
   "cell_type": "code",
   "execution_count": 11,
   "metadata": {},
   "outputs": [
    {
     "name": "stdout",
     "output_type": "stream",
     "text": [
      "WARNING:tensorflow:Using a while_loop for converting RngReadAndSkip cause there is no registered converter for this op.\n",
      "WARNING:tensorflow:Using a while_loop for converting Bitcast cause there is no registered converter for this op.\n",
      "WARNING:tensorflow:Using a while_loop for converting Bitcast cause there is no registered converter for this op.\n",
      "WARNING:tensorflow:Using a while_loop for converting StatelessRandomUniformV2 cause there is no registered converter for this op.\n",
      "WARNING:tensorflow:Using a while_loop for converting ImageProjectiveTransformV3 cause there is no registered converter for this op.\n",
      "WARNING:tensorflow:Using a while_loop for converting RngReadAndSkip cause there is no registered converter for this op.\n",
      "WARNING:tensorflow:Using a while_loop for converting Bitcast cause there is no registered converter for this op.\n",
      "WARNING:tensorflow:Using a while_loop for converting Bitcast cause there is no registered converter for this op.\n",
      "WARNING:tensorflow:Using a while_loop for converting StatelessRandomUniformV2 cause there is no registered converter for this op.\n",
      "WARNING:tensorflow:Using a while_loop for converting RngReadAndSkip cause there is no registered converter for this op.\n",
      "WARNING:tensorflow:Using a while_loop for converting Bitcast cause there is no registered converter for this op.\n",
      "WARNING:tensorflow:Using a while_loop for converting Bitcast cause there is no registered converter for this op.\n",
      "WARNING:tensorflow:Using a while_loop for converting StatelessRandomUniformV2 cause there is no registered converter for this op.\n",
      "WARNING:tensorflow:Using a while_loop for converting RngReadAndSkip cause there is no registered converter for this op.\n",
      "WARNING:tensorflow:Using a while_loop for converting Bitcast cause there is no registered converter for this op.\n",
      "WARNING:tensorflow:Using a while_loop for converting Bitcast cause there is no registered converter for this op.\n",
      "WARNING:tensorflow:Using a while_loop for converting StatelessRandomUniformV2 cause there is no registered converter for this op.\n",
      "WARNING:tensorflow:Using a while_loop for converting ImageProjectiveTransformV3 cause there is no registered converter for this op.\n",
      "WARNING:tensorflow:Using a while_loop for converting RngReadAndSkip cause there is no registered converter for this op.\n",
      "WARNING:tensorflow:Using a while_loop for converting Bitcast cause there is no registered converter for this op.\n",
      "WARNING:tensorflow:Using a while_loop for converting Bitcast cause there is no registered converter for this op.\n",
      "WARNING:tensorflow:Using a while_loop for converting StatelessRandomUniformV2 cause there is no registered converter for this op.\n",
      "WARNING:tensorflow:Using a while_loop for converting RngReadAndSkip cause there is no registered converter for this op.\n",
      "WARNING:tensorflow:Using a while_loop for converting Bitcast cause there is no registered converter for this op.\n",
      "WARNING:tensorflow:Using a while_loop for converting Bitcast cause there is no registered converter for this op.\n",
      "WARNING:tensorflow:Using a while_loop for converting StatelessRandomUniformV2 cause there is no registered converter for this op.\n"
     ]
    }
   ],
   "source": [
    "train_ds = prepare(train_ds, shuffle=True, augment=True, GAN=True)\n",
    "train_ds = train_ds.map(lambda x, y: tf.py_function(\n",
    "    map_labels, [x, y], [tf.float32, tf.float32]))\n",
    "\n",
    "channels = 3\n",
    "input_shape = (width, height, channels)\n"
   ]
  },
  {
   "cell_type": "code",
   "execution_count": 12,
   "metadata": {},
   "outputs": [
    {
     "name": "stdout",
     "output_type": "stream",
     "text": [
      "image shape :  (96, 96, 3)\n"
     ]
    },
    {
     "data": {
      "application/vnd.plotly.v1+json": {
       "config": {
        "plotlyServerURL": "https://plot.ly"
       },
       "data": [
        {
         "hovertemplate": "x: %{x}<br>y: %{y}<br>color: [%{z[0]}, %{z[1]}, %{z[2]}]<extra></extra>",
         "name": "0",
         "source": "data:image/png;base64,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",
         "type": "image",
         "xaxis": "x",
         "yaxis": "y"
        }
       ],
       "layout": {
        "height": 350,
        "margin": {
         "l": 0,
         "t": 60
        },
        "shapes": [
         {
          "line": {
           "color": "black",
           "width": 2
          },
          "type": "rect",
          "x0": 0,
          "x1": 96,
          "xref": "x",
          "y0": 0,
          "y1": 96,
          "yref": "y"
         }
        ],
        "template": {
         "data": {
          "bar": [
           {
            "error_x": {
             "color": "#2a3f5f"
            },
            "error_y": {
             "color": "#2a3f5f"
            },
            "marker": {
             "line": {
              "color": "#E5ECF6",
              "width": 0.5
             },
             "pattern": {
              "fillmode": "overlay",
              "size": 10,
              "solidity": 0.2
             }
            },
            "type": "bar"
           }
          ],
          "barpolar": [
           {
            "marker": {
             "line": {
              "color": "#E5ECF6",
              "width": 0.5
             },
             "pattern": {
              "fillmode": "overlay",
              "size": 10,
              "solidity": 0.2
             }
            },
            "type": "barpolar"
           }
          ],
          "carpet": [
           {
            "aaxis": {
             "endlinecolor": "#2a3f5f",
             "gridcolor": "white",
             "linecolor": "white",
             "minorgridcolor": "white",
             "startlinecolor": "#2a3f5f"
            },
            "baxis": {
             "endlinecolor": "#2a3f5f",
             "gridcolor": "white",
             "linecolor": "white",
             "minorgridcolor": "white",
             "startlinecolor": "#2a3f5f"
            },
            "type": "carpet"
           }
          ],
          "choropleth": [
           {
            "colorbar": {
             "outlinewidth": 0,
             "ticks": ""
            },
            "type": "choropleth"
           }
          ],
          "contour": [
           {
            "colorbar": {
             "outlinewidth": 0,
             "ticks": ""
            },
            "colorscale": [
             [
              0,
              "#0d0887"
             ],
             [
              0.1111111111111111,
              "#46039f"
             ],
             [
              0.2222222222222222,
              "#7201a8"
             ],
             [
              0.3333333333333333,
              "#9c179e"
             ],
             [
              0.4444444444444444,
              "#bd3786"
             ],
             [
              0.5555555555555556,
              "#d8576b"
             ],
             [
              0.6666666666666666,
              "#ed7953"
             ],
             [
              0.7777777777777778,
              "#fb9f3a"
             ],
             [
              0.8888888888888888,
              "#fdca26"
             ],
             [
              1,
              "#f0f921"
             ]
            ],
            "type": "contour"
           }
          ],
          "contourcarpet": [
           {
            "colorbar": {
             "outlinewidth": 0,
             "ticks": ""
            },
            "type": "contourcarpet"
           }
          ],
          "heatmap": [
           {
            "colorbar": {
             "outlinewidth": 0,
             "ticks": ""
            },
            "colorscale": [
             [
              0,
              "#0d0887"
             ],
             [
              0.1111111111111111,
              "#46039f"
             ],
             [
              0.2222222222222222,
              "#7201a8"
             ],
             [
              0.3333333333333333,
              "#9c179e"
             ],
             [
              0.4444444444444444,
              "#bd3786"
             ],
             [
              0.5555555555555556,
              "#d8576b"
             ],
             [
              0.6666666666666666,
              "#ed7953"
             ],
             [
              0.7777777777777778,
              "#fb9f3a"
             ],
             [
              0.8888888888888888,
              "#fdca26"
             ],
             [
              1,
              "#f0f921"
             ]
            ],
            "type": "heatmap"
           }
          ],
          "heatmapgl": [
           {
            "colorbar": {
             "outlinewidth": 0,
             "ticks": ""
            },
            "colorscale": [
             [
              0,
              "#0d0887"
             ],
             [
              0.1111111111111111,
              "#46039f"
             ],
             [
              0.2222222222222222,
              "#7201a8"
             ],
             [
              0.3333333333333333,
              "#9c179e"
             ],
             [
              0.4444444444444444,
              "#bd3786"
             ],
             [
              0.5555555555555556,
              "#d8576b"
             ],
             [
              0.6666666666666666,
              "#ed7953"
             ],
             [
              0.7777777777777778,
              "#fb9f3a"
             ],
             [
              0.8888888888888888,
              "#fdca26"
             ],
             [
              1,
              "#f0f921"
             ]
            ],
            "type": "heatmapgl"
           }
          ],
          "histogram": [
           {
            "marker": {
             "pattern": {
              "fillmode": "overlay",
              "size": 10,
              "solidity": 0.2
             }
            },
            "type": "histogram"
           }
          ],
          "histogram2d": [
           {
            "colorbar": {
             "outlinewidth": 0,
             "ticks": ""
            },
            "colorscale": [
             [
              0,
              "#0d0887"
             ],
             [
              0.1111111111111111,
              "#46039f"
             ],
             [
              0.2222222222222222,
              "#7201a8"
             ],
             [
              0.3333333333333333,
              "#9c179e"
             ],
             [
              0.4444444444444444,
              "#bd3786"
             ],
             [
              0.5555555555555556,
              "#d8576b"
             ],
             [
              0.6666666666666666,
              "#ed7953"
             ],
             [
              0.7777777777777778,
              "#fb9f3a"
             ],
             [
              0.8888888888888888,
              "#fdca26"
             ],
             [
              1,
              "#f0f921"
             ]
            ],
            "type": "histogram2d"
           }
          ],
          "histogram2dcontour": [
           {
            "colorbar": {
             "outlinewidth": 0,
             "ticks": ""
            },
            "colorscale": [
             [
              0,
              "#0d0887"
             ],
             [
              0.1111111111111111,
              "#46039f"
             ],
             [
              0.2222222222222222,
              "#7201a8"
             ],
             [
              0.3333333333333333,
              "#9c179e"
             ],
             [
              0.4444444444444444,
              "#bd3786"
             ],
             [
              0.5555555555555556,
              "#d8576b"
             ],
             [
              0.6666666666666666,
              "#ed7953"
             ],
             [
              0.7777777777777778,
              "#fb9f3a"
             ],
             [
              0.8888888888888888,
              "#fdca26"
             ],
             [
              1,
              "#f0f921"
             ]
            ],
            "type": "histogram2dcontour"
           }
          ],
          "mesh3d": [
           {
            "colorbar": {
             "outlinewidth": 0,
             "ticks": ""
            },
            "type": "mesh3d"
           }
          ],
          "parcoords": [
           {
            "line": {
             "colorbar": {
              "outlinewidth": 0,
              "ticks": ""
             }
            },
            "type": "parcoords"
           }
          ],
          "pie": [
           {
            "automargin": true,
            "type": "pie"
           }
          ],
          "scatter": [
           {
            "fillpattern": {
             "fillmode": "overlay",
             "size": 10,
             "solidity": 0.2
            },
            "type": "scatter"
           }
          ],
          "scatter3d": [
           {
            "line": {
             "colorbar": {
              "outlinewidth": 0,
              "ticks": ""
             }
            },
            "marker": {
             "colorbar": {
              "outlinewidth": 0,
              "ticks": ""
             }
            },
            "type": "scatter3d"
           }
          ],
          "scattercarpet": [
           {
            "marker": {
             "colorbar": {
              "outlinewidth": 0,
              "ticks": ""
             }
            },
            "type": "scattercarpet"
           }
          ],
          "scattergeo": [
           {
            "marker": {
             "colorbar": {
              "outlinewidth": 0,
              "ticks": ""
             }
            },
            "type": "scattergeo"
           }
          ],
          "scattergl": [
           {
            "marker": {
             "colorbar": {
              "outlinewidth": 0,
              "ticks": ""
             }
            },
            "type": "scattergl"
           }
          ],
          "scattermapbox": [
           {
            "marker": {
             "colorbar": {
              "outlinewidth": 0,
              "ticks": ""
             }
            },
            "type": "scattermapbox"
           }
          ],
          "scatterpolar": [
           {
            "marker": {
             "colorbar": {
              "outlinewidth": 0,
              "ticks": ""
             }
            },
            "type": "scatterpolar"
           }
          ],
          "scatterpolargl": [
           {
            "marker": {
             "colorbar": {
              "outlinewidth": 0,
              "ticks": ""
             }
            },
            "type": "scatterpolargl"
           }
          ],
          "scatterternary": [
           {
            "marker": {
             "colorbar": {
              "outlinewidth": 0,
              "ticks": ""
             }
            },
            "type": "scatterternary"
           }
          ],
          "surface": [
           {
            "colorbar": {
             "outlinewidth": 0,
             "ticks": ""
            },
            "colorscale": [
             [
              0,
              "#0d0887"
             ],
             [
              0.1111111111111111,
              "#46039f"
             ],
             [
              0.2222222222222222,
              "#7201a8"
             ],
             [
              0.3333333333333333,
              "#9c179e"
             ],
             [
              0.4444444444444444,
              "#bd3786"
             ],
             [
              0.5555555555555556,
              "#d8576b"
             ],
             [
              0.6666666666666666,
              "#ed7953"
             ],
             [
              0.7777777777777778,
              "#fb9f3a"
             ],
             [
              0.8888888888888888,
              "#fdca26"
             ],
             [
              1,
              "#f0f921"
             ]
            ],
            "type": "surface"
           }
          ],
          "table": [
           {
            "cells": {
             "fill": {
              "color": "#EBF0F8"
             },
             "line": {
              "color": "white"
             }
            },
            "header": {
             "fill": {
              "color": "#C8D4E3"
             },
             "line": {
              "color": "white"
             }
            },
            "type": "table"
           }
          ]
         },
         "layout": {
          "annotationdefaults": {
           "arrowcolor": "#2a3f5f",
           "arrowhead": 0,
           "arrowwidth": 1
          },
          "autotypenumbers": "strict",
          "coloraxis": {
           "colorbar": {
            "outlinewidth": 0,
            "ticks": ""
           }
          },
          "colorscale": {
           "diverging": [
            [
             0,
             "#8e0152"
            ],
            [
             0.1,
             "#c51b7d"
            ],
            [
             0.2,
             "#de77ae"
            ],
            [
             0.3,
             "#f1b6da"
            ],
            [
             0.4,
             "#fde0ef"
            ],
            [
             0.5,
             "#f7f7f7"
            ],
            [
             0.6,
             "#e6f5d0"
            ],
            [
             0.7,
             "#b8e186"
            ],
            [
             0.8,
             "#7fbc41"
            ],
            [
             0.9,
             "#4d9221"
            ],
            [
             1,
             "#276419"
            ]
           ],
           "sequential": [
            [
             0,
             "#0d0887"
            ],
            [
             0.1111111111111111,
             "#46039f"
            ],
            [
             0.2222222222222222,
             "#7201a8"
            ],
            [
             0.3333333333333333,
             "#9c179e"
            ],
            [
             0.4444444444444444,
             "#bd3786"
            ],
            [
             0.5555555555555556,
             "#d8576b"
            ],
            [
             0.6666666666666666,
             "#ed7953"
            ],
            [
             0.7777777777777778,
             "#fb9f3a"
            ],
            [
             0.8888888888888888,
             "#fdca26"
            ],
            [
             1,
             "#f0f921"
            ]
           ],
           "sequentialminus": [
            [
             0,
             "#0d0887"
            ],
            [
             0.1111111111111111,
             "#46039f"
            ],
            [
             0.2222222222222222,
             "#7201a8"
            ],
            [
             0.3333333333333333,
             "#9c179e"
            ],
            [
             0.4444444444444444,
             "#bd3786"
            ],
            [
             0.5555555555555556,
             "#d8576b"
            ],
            [
             0.6666666666666666,
             "#ed7953"
            ],
            [
             0.7777777777777778,
             "#fb9f3a"
            ],
            [
             0.8888888888888888,
             "#fdca26"
            ],
            [
             1,
             "#f0f921"
            ]
           ]
          },
          "colorway": [
           "#636efa",
           "#EF553B",
           "#00cc96",
           "#ab63fa",
           "#FFA15A",
           "#19d3f3",
           "#FF6692",
           "#B6E880",
           "#FF97FF",
           "#FECB52"
          ],
          "font": {
           "color": "#2a3f5f"
          },
          "geo": {
           "bgcolor": "white",
           "lakecolor": "white",
           "landcolor": "#E5ECF6",
           "showlakes": true,
           "showland": true,
           "subunitcolor": "white"
          },
          "hoverlabel": {
           "align": "left"
          },
          "hovermode": "closest",
          "mapbox": {
           "style": "light"
          },
          "paper_bgcolor": "white",
          "plot_bgcolor": "#E5ECF6",
          "polar": {
           "angularaxis": {
            "gridcolor": "white",
            "linecolor": "white",
            "ticks": ""
           },
           "bgcolor": "#E5ECF6",
           "radialaxis": {
            "gridcolor": "white",
            "linecolor": "white",
            "ticks": ""
           }
          },
          "scene": {
           "xaxis": {
            "backgroundcolor": "#E5ECF6",
            "gridcolor": "white",
            "gridwidth": 2,
            "linecolor": "white",
            "showbackground": true,
            "ticks": "",
            "zerolinecolor": "white"
           },
           "yaxis": {
            "backgroundcolor": "#E5ECF6",
            "gridcolor": "white",
            "gridwidth": 2,
            "linecolor": "white",
            "showbackground": true,
            "ticks": "",
            "zerolinecolor": "white"
           },
           "zaxis": {
            "backgroundcolor": "#E5ECF6",
            "gridcolor": "white",
            "gridwidth": 2,
            "linecolor": "white",
            "showbackground": true,
            "ticks": "",
            "zerolinecolor": "white"
           }
          },
          "shapedefaults": {
           "line": {
            "color": "#2a3f5f"
           }
          },
          "ternary": {
           "aaxis": {
            "gridcolor": "white",
            "linecolor": "white",
            "ticks": ""
           },
           "baxis": {
            "gridcolor": "white",
            "linecolor": "white",
            "ticks": ""
           },
           "bgcolor": "#E5ECF6",
           "caxis": {
            "gridcolor": "white",
            "linecolor": "white",
            "ticks": ""
           }
          },
          "title": {
           "x": 0.05
          },
          "xaxis": {
           "automargin": true,
           "gridcolor": "white",
           "linecolor": "white",
           "ticks": "",
           "title": {
            "standoff": 15
           },
           "zerolinecolor": "white",
           "zerolinewidth": 2
          },
          "yaxis": {
           "automargin": true,
           "gridcolor": "white",
           "linecolor": "white",
           "ticks": "",
           "title": {
            "standoff": 15
           },
           "zerolinecolor": "white",
           "zerolinewidth": 2
          }
         }
        },
        "title": {
         "text": "Label: Abomasnow"
        },
        "width": 500,
        "xaxis": {
         "anchor": "y",
         "domain": [
          0,
          1
         ],
         "showgrid": false,
         "showticklabels": false,
         "visible": false,
         "zeroline": false
        },
        "yaxis": {
         "anchor": "x",
         "domain": [
          0,
          1
         ],
         "showgrid": false,
         "showticklabels": false,
         "visible": false,
         "zeroline": false
        }
       }
      }
     },
     "metadata": {},
     "output_type": "display_data"
    },
    {
     "data": {
      "application/vnd.plotly.v1+json": {
       "config": {
        "plotlyServerURL": "https://plot.ly"
       },
       "data": [
        {
         "hovertemplate": "x: %{x}<br>y: %{y}<br>color: [%{z[0]}, %{z[1]}, %{z[2]}]<extra></extra>",
         "name": "0",
         "source": "data:image/png;base64,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",
         "type": "image",
         "xaxis": "x",
         "yaxis": "y"
        }
       ],
       "layout": {
        "height": 350,
        "margin": {
         "l": 0,
         "t": 60
        },
        "shapes": [
         {
          "line": {
           "color": "black",
           "width": 2
          },
          "type": "rect",
          "x0": 0,
          "x1": 96,
          "xref": "x",
          "y0": 0,
          "y1": 96,
          "yref": "y"
         }
        ],
        "template": {
         "data": {
          "bar": [
           {
            "error_x": {
             "color": "#2a3f5f"
            },
            "error_y": {
             "color": "#2a3f5f"
            },
            "marker": {
             "line": {
              "color": "#E5ECF6",
              "width": 0.5
             },
             "pattern": {
              "fillmode": "overlay",
              "size": 10,
              "solidity": 0.2
             }
            },
            "type": "bar"
           }
          ],
          "barpolar": [
           {
            "marker": {
             "line": {
              "color": "#E5ECF6",
              "width": 0.5
             },
             "pattern": {
              "fillmode": "overlay",
              "size": 10,
              "solidity": 0.2
             }
            },
            "type": "barpolar"
           }
          ],
          "carpet": [
           {
            "aaxis": {
             "endlinecolor": "#2a3f5f",
             "gridcolor": "white",
             "linecolor": "white",
             "minorgridcolor": "white",
             "startlinecolor": "#2a3f5f"
            },
            "baxis": {
             "endlinecolor": "#2a3f5f",
             "gridcolor": "white",
             "linecolor": "white",
             "minorgridcolor": "white",
             "startlinecolor": "#2a3f5f"
            },
            "type": "carpet"
           }
          ],
          "choropleth": [
           {
            "colorbar": {
             "outlinewidth": 0,
             "ticks": ""
            },
            "type": "choropleth"
           }
          ],
          "contour": [
           {
            "colorbar": {
             "outlinewidth": 0,
             "ticks": ""
            },
            "colorscale": [
             [
              0,
              "#0d0887"
             ],
             [
              0.1111111111111111,
              "#46039f"
             ],
             [
              0.2222222222222222,
              "#7201a8"
             ],
             [
              0.3333333333333333,
              "#9c179e"
             ],
             [
              0.4444444444444444,
              "#bd3786"
             ],
             [
              0.5555555555555556,
              "#d8576b"
             ],
             [
              0.6666666666666666,
              "#ed7953"
             ],
             [
              0.7777777777777778,
              "#fb9f3a"
             ],
             [
              0.8888888888888888,
              "#fdca26"
             ],
             [
              1,
              "#f0f921"
             ]
            ],
            "type": "contour"
           }
          ],
          "contourcarpet": [
           {
            "colorbar": {
             "outlinewidth": 0,
             "ticks": ""
            },
            "type": "contourcarpet"
           }
          ],
          "heatmap": [
           {
            "colorbar": {
             "outlinewidth": 0,
             "ticks": ""
            },
            "colorscale": [
             [
              0,
              "#0d0887"
             ],
             [
              0.1111111111111111,
              "#46039f"
             ],
             [
              0.2222222222222222,
              "#7201a8"
             ],
             [
              0.3333333333333333,
              "#9c179e"
             ],
             [
              0.4444444444444444,
              "#bd3786"
             ],
             [
              0.5555555555555556,
              "#d8576b"
             ],
             [
              0.6666666666666666,
              "#ed7953"
             ],
             [
              0.7777777777777778,
              "#fb9f3a"
             ],
             [
              0.8888888888888888,
              "#fdca26"
             ],
             [
              1,
              "#f0f921"
             ]
            ],
            "type": "heatmap"
           }
          ],
          "heatmapgl": [
           {
            "colorbar": {
             "outlinewidth": 0,
             "ticks": ""
            },
            "colorscale": [
             [
              0,
              "#0d0887"
             ],
             [
              0.1111111111111111,
              "#46039f"
             ],
             [
              0.2222222222222222,
              "#7201a8"
             ],
             [
              0.3333333333333333,
              "#9c179e"
             ],
             [
              0.4444444444444444,
              "#bd3786"
             ],
             [
              0.5555555555555556,
              "#d8576b"
             ],
             [
              0.6666666666666666,
              "#ed7953"
             ],
             [
              0.7777777777777778,
              "#fb9f3a"
             ],
             [
              0.8888888888888888,
              "#fdca26"
             ],
             [
              1,
              "#f0f921"
             ]
            ],
            "type": "heatmapgl"
           }
          ],
          "histogram": [
           {
            "marker": {
             "pattern": {
              "fillmode": "overlay",
              "size": 10,
              "solidity": 0.2
             }
            },
            "type": "histogram"
           }
          ],
          "histogram2d": [
           {
            "colorbar": {
             "outlinewidth": 0,
             "ticks": ""
            },
            "colorscale": [
             [
              0,
              "#0d0887"
             ],
             [
              0.1111111111111111,
              "#46039f"
             ],
             [
              0.2222222222222222,
              "#7201a8"
             ],
             [
              0.3333333333333333,
              "#9c179e"
             ],
             [
              0.4444444444444444,
              "#bd3786"
             ],
             [
              0.5555555555555556,
              "#d8576b"
             ],
             [
              0.6666666666666666,
              "#ed7953"
             ],
             [
              0.7777777777777778,
              "#fb9f3a"
             ],
             [
              0.8888888888888888,
              "#fdca26"
             ],
             [
              1,
              "#f0f921"
             ]
            ],
            "type": "histogram2d"
           }
          ],
          "histogram2dcontour": [
           {
            "colorbar": {
             "outlinewidth": 0,
             "ticks": ""
            },
            "colorscale": [
             [
              0,
              "#0d0887"
             ],
             [
              0.1111111111111111,
              "#46039f"
             ],
             [
              0.2222222222222222,
              "#7201a8"
             ],
             [
              0.3333333333333333,
              "#9c179e"
             ],
             [
              0.4444444444444444,
              "#bd3786"
             ],
             [
              0.5555555555555556,
              "#d8576b"
             ],
             [
              0.6666666666666666,
              "#ed7953"
             ],
             [
              0.7777777777777778,
              "#fb9f3a"
             ],
             [
              0.8888888888888888,
              "#fdca26"
             ],
             [
              1,
              "#f0f921"
             ]
            ],
            "type": "histogram2dcontour"
           }
          ],
          "mesh3d": [
           {
            "colorbar": {
             "outlinewidth": 0,
             "ticks": ""
            },
            "type": "mesh3d"
           }
          ],
          "parcoords": [
           {
            "line": {
             "colorbar": {
              "outlinewidth": 0,
              "ticks": ""
             }
            },
            "type": "parcoords"
           }
          ],
          "pie": [
           {
            "automargin": true,
            "type": "pie"
           }
          ],
          "scatter": [
           {
            "fillpattern": {
             "fillmode": "overlay",
             "size": 10,
             "solidity": 0.2
            },
            "type": "scatter"
           }
          ],
          "scatter3d": [
           {
            "line": {
             "colorbar": {
              "outlinewidth": 0,
              "ticks": ""
             }
            },
            "marker": {
             "colorbar": {
              "outlinewidth": 0,
              "ticks": ""
             }
            },
            "type": "scatter3d"
           }
          ],
          "scattercarpet": [
           {
            "marker": {
             "colorbar": {
              "outlinewidth": 0,
              "ticks": ""
             }
            },
            "type": "scattercarpet"
           }
          ],
          "scattergeo": [
           {
            "marker": {
             "colorbar": {
              "outlinewidth": 0,
              "ticks": ""
             }
            },
            "type": "scattergeo"
           }
          ],
          "scattergl": [
           {
            "marker": {
             "colorbar": {
              "outlinewidth": 0,
              "ticks": ""
             }
            },
            "type": "scattergl"
           }
          ],
          "scattermapbox": [
           {
            "marker": {
             "colorbar": {
              "outlinewidth": 0,
              "ticks": ""
             }
            },
            "type": "scattermapbox"
           }
          ],
          "scatterpolar": [
           {
            "marker": {
             "colorbar": {
              "outlinewidth": 0,
              "ticks": ""
             }
            },
            "type": "scatterpolar"
           }
          ],
          "scatterpolargl": [
           {
            "marker": {
             "colorbar": {
              "outlinewidth": 0,
              "ticks": ""
             }
            },
            "type": "scatterpolargl"
           }
          ],
          "scatterternary": [
           {
            "marker": {
             "colorbar": {
              "outlinewidth": 0,
              "ticks": ""
             }
            },
            "type": "scatterternary"
           }
          ],
          "surface": [
           {
            "colorbar": {
             "outlinewidth": 0,
             "ticks": ""
            },
            "colorscale": [
             [
              0,
              "#0d0887"
             ],
             [
              0.1111111111111111,
              "#46039f"
             ],
             [
              0.2222222222222222,
              "#7201a8"
             ],
             [
              0.3333333333333333,
              "#9c179e"
             ],
             [
              0.4444444444444444,
              "#bd3786"
             ],
             [
              0.5555555555555556,
              "#d8576b"
             ],
             [
              0.6666666666666666,
              "#ed7953"
             ],
             [
              0.7777777777777778,
              "#fb9f3a"
             ],
             [
              0.8888888888888888,
              "#fdca26"
             ],
             [
              1,
              "#f0f921"
             ]
            ],
            "type": "surface"
           }
          ],
          "table": [
           {
            "cells": {
             "fill": {
              "color": "#EBF0F8"
             },
             "line": {
              "color": "white"
             }
            },
            "header": {
             "fill": {
              "color": "#C8D4E3"
             },
             "line": {
              "color": "white"
             }
            },
            "type": "table"
           }
          ]
         },
         "layout": {
          "annotationdefaults": {
           "arrowcolor": "#2a3f5f",
           "arrowhead": 0,
           "arrowwidth": 1
          },
          "autotypenumbers": "strict",
          "coloraxis": {
           "colorbar": {
            "outlinewidth": 0,
            "ticks": ""
           }
          },
          "colorscale": {
           "diverging": [
            [
             0,
             "#8e0152"
            ],
            [
             0.1,
             "#c51b7d"
            ],
            [
             0.2,
             "#de77ae"
            ],
            [
             0.3,
             "#f1b6da"
            ],
            [
             0.4,
             "#fde0ef"
            ],
            [
             0.5,
             "#f7f7f7"
            ],
            [
             0.6,
             "#e6f5d0"
            ],
            [
             0.7,
             "#b8e186"
            ],
            [
             0.8,
             "#7fbc41"
            ],
            [
             0.9,
             "#4d9221"
            ],
            [
             1,
             "#276419"
            ]
           ],
           "sequential": [
            [
             0,
             "#0d0887"
            ],
            [
             0.1111111111111111,
             "#46039f"
            ],
            [
             0.2222222222222222,
             "#7201a8"
            ],
            [
             0.3333333333333333,
             "#9c179e"
            ],
            [
             0.4444444444444444,
             "#bd3786"
            ],
            [
             0.5555555555555556,
             "#d8576b"
            ],
            [
             0.6666666666666666,
             "#ed7953"
            ],
            [
             0.7777777777777778,
             "#fb9f3a"
            ],
            [
             0.8888888888888888,
             "#fdca26"
            ],
            [
             1,
             "#f0f921"
            ]
           ],
           "sequentialminus": [
            [
             0,
             "#0d0887"
            ],
            [
             0.1111111111111111,
             "#46039f"
            ],
            [
             0.2222222222222222,
             "#7201a8"
            ],
            [
             0.3333333333333333,
             "#9c179e"
            ],
            [
             0.4444444444444444,
             "#bd3786"
            ],
            [
             0.5555555555555556,
             "#d8576b"
            ],
            [
             0.6666666666666666,
             "#ed7953"
            ],
            [
             0.7777777777777778,
             "#fb9f3a"
            ],
            [
             0.8888888888888888,
             "#fdca26"
            ],
            [
             1,
             "#f0f921"
            ]
           ]
          },
          "colorway": [
           "#636efa",
           "#EF553B",
           "#00cc96",
           "#ab63fa",
           "#FFA15A",
           "#19d3f3",
           "#FF6692",
           "#B6E880",
           "#FF97FF",
           "#FECB52"
          ],
          "font": {
           "color": "#2a3f5f"
          },
          "geo": {
           "bgcolor": "white",
           "lakecolor": "white",
           "landcolor": "#E5ECF6",
           "showlakes": true,
           "showland": true,
           "subunitcolor": "white"
          },
          "hoverlabel": {
           "align": "left"
          },
          "hovermode": "closest",
          "mapbox": {
           "style": "light"
          },
          "paper_bgcolor": "white",
          "plot_bgcolor": "#E5ECF6",
          "polar": {
           "angularaxis": {
            "gridcolor": "white",
            "linecolor": "white",
            "ticks": ""
           },
           "bgcolor": "#E5ECF6",
           "radialaxis": {
            "gridcolor": "white",
            "linecolor": "white",
            "ticks": ""
           }
          },
          "scene": {
           "xaxis": {
            "backgroundcolor": "#E5ECF6",
            "gridcolor": "white",
            "gridwidth": 2,
            "linecolor": "white",
            "showbackground": true,
            "ticks": "",
            "zerolinecolor": "white"
           },
           "yaxis": {
            "backgroundcolor": "#E5ECF6",
            "gridcolor": "white",
            "gridwidth": 2,
            "linecolor": "white",
            "showbackground": true,
            "ticks": "",
            "zerolinecolor": "white"
           },
           "zaxis": {
            "backgroundcolor": "#E5ECF6",
            "gridcolor": "white",
            "gridwidth": 2,
            "linecolor": "white",
            "showbackground": true,
            "ticks": "",
            "zerolinecolor": "white"
           }
          },
          "shapedefaults": {
           "line": {
            "color": "#2a3f5f"
           }
          },
          "ternary": {
           "aaxis": {
            "gridcolor": "white",
            "linecolor": "white",
            "ticks": ""
           },
           "baxis": {
            "gridcolor": "white",
            "linecolor": "white",
            "ticks": ""
           },
           "bgcolor": "#E5ECF6",
           "caxis": {
            "gridcolor": "white",
            "linecolor": "white",
            "ticks": ""
           }
          },
          "title": {
           "x": 0.05
          },
          "xaxis": {
           "automargin": true,
           "gridcolor": "white",
           "linecolor": "white",
           "ticks": "",
           "title": {
            "standoff": 15
           },
           "zerolinecolor": "white",
           "zerolinewidth": 2
          },
          "yaxis": {
           "automargin": true,
           "gridcolor": "white",
           "linecolor": "white",
           "ticks": "",
           "title": {
            "standoff": 15
           },
           "zerolinecolor": "white",
           "zerolinewidth": 2
          }
         }
        },
        "title": {
         "text": "Label: Abomasnow"
        },
        "width": 500,
        "xaxis": {
         "anchor": "y",
         "domain": [
          0,
          1
         ],
         "showgrid": false,
         "showticklabels": false,
         "visible": false,
         "zeroline": false
        },
        "yaxis": {
         "anchor": "x",
         "domain": [
          0,
          1
         ],
         "showgrid": false,
         "showticklabels": false,
         "visible": false,
         "zeroline": false
        }
       }
      }
     },
     "metadata": {},
     "output_type": "display_data"
    },
    {
     "data": {
      "application/vnd.plotly.v1+json": {
       "config": {
        "plotlyServerURL": "https://plot.ly"
       },
       "data": [
        {
         "hovertemplate": "x: %{x}<br>y: %{y}<br>color: [%{z[0]}, %{z[1]}, %{z[2]}]<extra></extra>",
         "name": "0",
         "source": "data:image/png;base64,iVBORw0KGgoAAAANSUhEUgAAAGAAAABgCAIAAABt+uBvAAAlrElEQVR4Xu2ceZBc13Wfz7n3Lb13T88+g9kxwGAw2MkBIZLiIoiLKFGmbK2W7KTschwltuNylZNYsV1ZypWUYydxWXEqXuV4kR1t1EKKIkVSBAkRIEGsgwEwGACz7z29v+3ec/LH68EyhASIABWxir8CGpjX795+7+tzzj333PsGmRne1Q+WWH/gXV2rdwHdQO8CuoHeBXQDvQvoBnoX0A30LqAb6F1AN9C7gG6gdwHdQO8CuoHeBXQDvQvoBjLWH3gHiplZEymlNUnLMExz/Rm3oHc2ICLyXbdSKLpzy8WxydncSvfde/q2D64/7xb0DgPEzEqpwPcNwzBNc3Vh8eUnv/XqV79V70Jja0v63j1tvV3r29ya3mGAPM87ffz44Re/19Pbu2P37uXjo03jy59t31kg7/sJv23P1mgivr7NrekdBkgFwdjIyFf//C+aEqmvS/One7a22Q12LHnGL3q97UPbt69vcMt6hwGSiD11DY9v2dETSe5KtTUZ0eVy8WLUv/tXfqF1aMv6s2+H3gGAmJmJAt8npVbOna8ePPTBxg0ZsOI+VUu5adPj3UNNmzeub3ab9A4ARFovTE+98dKLlbHzWwv+vb4BIFETsyoKt9Ce7du7R97Wof1qvQMAVUulI889e+gLf7W/o7M93QRaowCwAWKWzrRgT8+GvrfLfOAnH5BSChE3b+iyGtrvzbZK0kCaBZSBSs2tTT/76c7W1vVtbqvWA2JmZhbiJ2IKwkQXzpx54U//9K6F1fc1NAodMCAYXPb9mZgV2b418jbTgTfPxSql0uzEFBGtO/7jFzP7pZJ14cLesrs5FpUGAyoAFbA3A9Wplvq6bTvWt3kbtB7Q6PFTf/4Hf7y6uExah9a07oS3VcxMWruOUy0Vi4uLSyOnkqfP9Pi+HQWQBEqD1hUKJi3pDWxJtbStb/82aL2L1WWzzZm60acObNt3p9WcCUglMikiJqWMiP1jcL2FhfkXvv10fvSUc36sNDP7W9t3mrYETQAMoIn1xdLyyXj8o1u3I+L6xm+D1gNqamrcPbStcGx8fHTJ1X6+Qex79MFCqTxx8vTmx+5PNzYQsG1HDWN9w1sRMzMxk0Yhzp4e/cIf/pcdSXtDJPELWzcbCCA0aAYiRpULnPFSsRro6fNjnZvelsxwndbfZ6qxfs9PP1oani+/8EbTqYvebKn4d0/FmuuXX3np5MHnmvZsm2fn0cc/vnHjwK1/gUxEWpFSpLVTKJZn5hLNjY1R+8O7du6hapsZbY6YwAoCAAUgiKSq+P6cp2cTseDtt+VQ6wEBgDBkvKPZ3dVz6sSJtoCaDRMmFz7U1lMJSgdeetWP0aWujQ2Z+lRdVt6CHTGzVy4vnT61OnYyX1hNNbUmyCkdWyqen7lfYHc0ZSMKYPSZGcAgIrVccl9ayOmh7X/83z4vpFzf49sjfHMYdqvV8yMjrzz97ekjp3alW/d39MWWViT5gMrHYF5XTwWVXFvbA5/6RMPGzZYdQSFCa2JmpZRSKqxFrOs2FBOR0qSU9rzVC5fOPvXM0uhZUJTIRNp6Es1NkPaUeXRRMoMEUAKRGDSzdsrB2SJ9d7ZE3d0f+Tf/qrGvM1GXNsy3/g3dpK4DqLi6evLwoaX5+a2793R1dhe/fzT311/aaEdREhgamAD0Mvuv6orevXffYx/MtrQIw3BcL5fLjY2Nzc3N7dixY9u2bZc7ZGYizVox6aBYWhkZXxk9tzJyNj85XfXI8SgIlO8FiDTQF7kzayYdbVoICKAYgDiiHVeNL6k3ls0lF10NmE33PXjH0P59G3cMRmOxq6799us6gNZp7LXXvv8Hf7g/mW6IWCYzEIGnUVGO/VGvxH0d9ffea7V2feOFA1/8h3+wbfuhhx564oknBgevlPU8p7w4fT4/Ox4sTvjj83OHclXHd6q+5yulWREBMAqIG7AjI3fWG7YJIAEQwCQSVK1486ve0bw8nbcMRCTBAK5BQXN8+6P3ffjTn7DjUWkYb9MIe2NA58+c/ts/+gM9Nv54R/fOVEqSBq3R89lVVfLHVWU6Bqplw1zb5v2Pfai3t/fq4E2klectXBg5+tTfqcliMOergnYd7SjtK6U0EzADELAU2JOS97eZTTYCMggGU5GhPUcvFL2TK/pkwVaByczAAMAoMEBdoqB1YOMD/+Rj/Xu2Z5sarlz07dONAeXzq6dPnYRKpZ8D4/XXY4urllagPdSaXZ+1gKQ8W86/mq574nf/czSTtW07bMjMpcX5M889VTh+NKX0ynhledFxFDlEPpNmZmBmYGRiSJhwd5s53GKE9w+24kSgyrCS90dm9agjFyvhW1B7RQAEROER2W0Nj/zSp+74wINWpPbRt1E3BhSKmZ1yaep7L9KTX99om0ZQBSKQDC5DwIHUI+C+Wte64yMff899D4RNlOsuHjs6/uTXaGbRzevZxUpZkUukmcO0D5gZgAGIoTclPjZgWAagwWwSpV0HquVZNVPgVydjC2VLh6ZTewkpAiAiYCQea9nUN/DwPbseuy+eSt5eX7vZUQAR56Ymn33u6S7Pq2doAoPBB2awAQwwlezzLbNcSq0skNYohPKD4uTMypHRldNzpXJQqPqe0gFpqt0nAgMDhlbUmBR7+6QZZUQNpgdNnm70/UuUU2JkNTpdsBAvg1lDw8y1rxcr5cr46yePHj7+7PPP//rvfS7TUC/kbWP0I3TUNzj06d/87dTuPceL+YpFYAEQAIVGwEmQA4gNUxcKl8adcvnk917+y8/+5qVnDuZLQb7iO77ySa9ZQRikEAAQIRrFzmZsSGnEgBOKtwQ87GvkXF6czkfOztlCYO0zGIiBwqz7cvpNWmvFTEkw4zPO2e+9vjwzd/Vl36Ju1sVCVavVkaNHX/7qV5LnTv5cf6vpE7gKAEEzIIPmFc85apnLPdvcmYI9k/Ncv1D1PF9rYgZmQIQamRoqwY1Z2LeRBlIsEwQDintdpd3Vk8Zr37XOzcRWVgUAEwDXYhYT1GJXeEk1b2NEEJohUp+655Mfev8vftyORi5f9q3oRwMUqlQsTh54OfLis+1cMJ2y0AgMgAwMpHnWqR5cLFZVEimVd3xHBURrdxMCAqzZEIO0uK+b9g/4GQOhV8H9PmTImQ/OfFu++NX06pIRcqnZC3Dtx/Ci166cgYEAAAGENIx0Z9veTz22/5OPCylvfT70VgABADP7c1Or3/g7Gnm1JSaRARSAz6BYB1zw9UiBjiwK1wNFBIxYg4J4xYiAGZINfOded2fGi3QC3ksc18EyXToqXvy/iYnTFgIgMMFVPnXVK4TBCDh0v9AiEVBpbBnq/9jn/nnn4MZo/FbTyB8hBl0tRKRkprp1eKlr0zxVuU5BhwdxBRGSEaiLcYvlU+ApVsShc0FoPpfpALM0ONsYbNjoRTb7sF1xioI8Tb0BB78SvXDMFsA1PwzFQGEYAggdrGZQoePVOJJmEgiLY5f+4j/81+e++vUrzd+q3iIgAIgmU733PAj7HvvbieJswnO2urzPgb4S1DmQDJpa1d5hv75FEyHXwMBlPoiAAqRJzf2qfQdBkwEZAStcOI8jB+zZccMwr5Q0Ea60D2msCRggNC5i5jBmMxFo8rxgark6Puu7nue4t1Igvdlh/gepe3DH9k//xtff+Oau+emBYTczaMAI8QWI2NzbqVZflfNzJjECgERkAAQUBqeayI5Tqs4ffqBCArHNhDLBCnqzUbeQFNITkpgQAEPvQQAADKPOWkgKXQtCPxOIAoAAFBMCSZS6qqZPjL/45W8GpPbuv7+htfmqq/4R9BZj0NXSWhfysyMnvphb+vvHHmuQPvEZomUd9AdzY/LAlyPjx21TIhIyIQI2dtHwR7xMo5LKb+1V0pbkCr+oirP20mxHUI0szhbHzpbnZxSiAKh5k2bWTFR7DZMLBgAEkCgsIUMb08yKNLBgAE8HC26+YXPXL/7Wb+zbf//V13zzulULAgApZTzetLLU+eU/Vhs5s+mDRbnFwzmQLrT3qv2fcbbczaTg+Av2ypSIp3HvJ7wd7/fZZSoSu6hdCHyYXk6/fCY2eckdaqDNHXVai5XcvHIijBAOWzUnCl0spMMAAEIIWxq2MEQ4jgIwQFhOR4RkPNm8ob2huYmZtdI6CJTvA4poInaTFaXbAAgA7Ig90LtpqH7P6NdI+9y+j+INgchLSdDSI1oHNPlqQ59z6BuRpdmIaTEQsmLlsl9UTKKk24L6hx/4xF0TM6tf++s/q7or2zrTPQX70ij4PjCEf5iAia4YPAMDIDJIEAbKWlEKgIAtAACIm2YKojRfnDx8qiGbnRufGD924uzrx6LJ5Ef/9a/Ut7fIm2B0G1wMAJi5ODlz/K++dO75Q1600n2vP/h+1dQSRAJCQ6AlyQ3yl9zXn7XPnUjc9YTe/VDARe2sBE6eVgt0eDx54FJr1YdHHv1AOh5945mvDGcxQvLw95cLq8zMikkR6dCMaubDIStDyLhhRaVpCCkAEREu501MgMiAwhKxWGx+eUkLqmo/095y98ceH7x3b+/m/vV38ibdBgtiZs91i/m8FKB0sDinSt8VWid791W39lcg0ACCfSAfJaJTVBdfo74OHY+SVybXo/mi/eIJ59Cp11BI3/UffuihuuaO8xdPNHK0XPSZzdrcgomYIIzJAACAiGvHmYABWKAQiAAowyQABAEzEPuq6hWS0iQUUbQr07lv/slfLy4ttf7aP4tEo2FXV+7nWt0GQEqpl5597m/+3X96uLnX8YMgCGxDpDM9Za9uuXws4i1ErSCoeH5JNmezw3emG5tiVlX5Qd4pc0FsNLp2tHS/oU8+GTEM27JMYSRsu8R4dr6itcWgNZMirUgDXB7ua04HwJrZJ2WxJJAMUEtEgTG0HWAGZGACImZkMABTppVUdPG5g1+Nxx/+xBOJdOpyiebNug2ATNNsaGrKNDfPl8peoDMZs6snMbHiTq2U/uxLS8ND+rHhhFXVEezraevvaUWBLDwkp02VKlNVizpi23buPnbqZOB52we3NNZnDr7yVIcSxVUpQCsALUAxE7PAsAYAEAIKCTH7pDwtDSENFAyMa/l6mGgyIwMDAoQZJTAAChDBYuml//3FY99/7Wc++0/37NsrjevHo9sAiImaMnW7B4dmDh5VrE2EhB1JNzUdObd66EguUP1RqylbHn+gv0OGHgAAAELIjB3zJ+YOjH7rwx/5xC//8i9HYlFT4tEXno64bm4RlQ9akxGPZHvbfMeZHx0HxDBgci0PAgYgYJ806kAKKVEgICOIWnoJCFiriQAigEQAEJqJGATKDFs8vTJ28EgmW7dp6/VX2d56Jh2KmSvF0viRo4sjZzJWjAED0rNLOU28Y/t21/XcwPKNoTfO2p4vhSSBhAgauOz4KyuFFAcbzdIrT33x0skjT37x/3z+936nev5kE0hVAZ8VCch0tQ2+7z1dQwOIazUhAOa1f5kBgJh9HVSVV9V+wFozaWYd5gQQngIAgBjmkygwjOUgESlXfu4v//FvPv+nWuu1e7pGt2RBzExa5y7NTB44YVQBEAWIaonPjKyU6i+1DXdu2rQpFo2mYnbrlo2+rzyBhpCu759fXM0X3Px0dXqiSCZk6hxaWtwZ0Xse2lEtVA9/fzGoGAErO5vq2DXYtrFbl6p2NOY5Tvix4d/wxpmZmQMiYhcABGBEGDJcimIIgxbWYhMygERmAOZwSgcmighhdW5lfmK6/Xo7ZN8KoJALIpKm1am58QOvL41eZA1KkCkNrTlpiljZUcvTn/nZT7W3to289B1ndubQOCbSVn9/a2M61lGXyi8GZ8+VuWxKRH+B0VKQli/PTTO6xdWIC+RIqOto2njHNlNIaRiJ+ow37YTmUyN0hRIQsNbE7CCwsKKC0RBCgAhNRQIKEADACMQgAHktWgGALSJmRU+fvXDbALmV6tLMrGFabq7wwp/8zezrp00hbUtahlREvtKmsEXOLZ46duGNY1+ZWtwUlX3J+lMXyYy45aK3qb8un4OTr6xQyVCsNaIAZh+dJS3YAEgFoHztJRrrtt5/VyyTCioOEwsp1zwLQkq85mJrpNhXQY60T7rOjmliiSwBDRSIAgEgLCcgAAgGYhDMzMCWlKLkzY2cL921GwXGk8na6QDw1gA5ler48dOzZ8eXT110xucEIQEDgGkIoYUAUB7PXHBjBXpwb2N9f//sTPXMyYpWFpfFuRP+3OQs6YhTJWWgjCZJUVWVQSihUBIigGaKZJIDd9+xZXi3DpRhmaZtKc8HBKiNXABrphSGawTgMJ1hqHieH+iEbUcNKyINREREEfoZAAMQg0CkWlaJEtkvFL//tW8fPHgw3ZD91d//3WQ6dflm3wqgTEP9lu3bFl4dyZ2djAoDhdBArtYRMFkKFAgEUth+SY8dy49pKK1KFQgNgW3bgcLFBQw4UIIijZlN772ra+vm3MzcuZcPFxaXnVwZmWXE7tzWv+OeOznQyGBYZjSZCMMqQ4jncuSFtYPhuB5GHNRMJc/zlE6almlLBEAUtakagEAgRgRERGREZIm8Or945vxI956hmanpgfSVVc8fARARqSBQXhBUnZljozOvnoyiZCZGVARakesrAEAU8YY6aRjFhaXikgIARRTYRtu2gY7NGyePnCzMr6hiRSOmutv63runbUN7747Brfv2Xhw5XVpYHj3wWqohs2l4e6o+oxA0AxMbETOSStD0HIvLgSe0ntDLruCquRIiAng6YKaUFa1ljxhaIOJazAbA8C0EEZHm5s7eBx97bGDomkc9fgRAlXzh1IFDo997dfX0RW8hj4DAyAC1EoQmJxC2YaBh1He1Zrs7jnz5O8gmIbtC2+2ZrQ/fM7jvrqH3v/fsgUMzp846jvPoz38q3lgnCRE4mohtGd5Dyt/x4D5pGuEWB1ZaKeWWy1Onxlam5lAKpnBJLXSsmpgh/KlGB2r/DckxcDj/CI+vnbmGqWZzYEmTPM5PLxLR1StrNwUofKhmanTs8D8+tXhqPCoMuVYl5HAmyeSTAo9ty0ABpFXLQG+sra00u0AcCMvoGujffMd2w8C6lvo7n9i/9YE7ETCRzapAhd+rZiIilFJGokREiIygta+CwHOcSjHvVEsMwFiLzwCXw/QV84HwXsPQgmgJETXCXRAhnfCE8AxGwLVaJwKwgagdZ2L8fH45d/Uq9g0AMbNWqrCce/nL33z681+ol/GkFV27QCBgxRSQVqQ9pXytTMOI2KZTLALrj/z7zx7/zsvjh19PN2XvfeLRWDIGxMDAUiTqM8ysSSGiJu06jut6UggUAgEMw1BKBYEKgsCplKdHzk2PnENErq06XnGutZ8vM7psFyiEiEgjblj22iYmBARmBkRghDBjBMG1+E3IphBUrE6Mjv0IgCrF4pkjxy6+drx4dKwzmgFGJgqRE4AiHdTMR2vWxJD33XpLeoXy2Zdf29FY/8AvfWz3Tz1oJ6LxZAKUYgSldBD4UkopJUjUQIEfBEHAzIFSYQB2nNA0QCudn1u68NqJ3OwiEdQGqzUaax4E4fUAICIgoEBAAANFxDANIUwpkQHD2RiiACaumQ2uxaCwO1MYWPHmzl/add++2mf8cEBKqTOvv/GXn/uPsuC32ElEkwEAkTms/uoQja9VoJUm1gAci2Y62/X0wszxMzKZaOhqr29rRtNgpQDA87zAC7TWPoKUhm1ZKlC+5+uriuo10yAKXH95cvbUMy9PnxoDgbW3an4FHHrWGqy1W0WBKEBY0kiYloESAQOtLGGEHC4PZDUoACHT0KokCi4HuUsLa28C/BBARDRxbuyFf3wyVoZsJAMgGAQwhEsImkmx9kkHpANSxKS19m3Zcc+u/R94/5O//ftUcscOHI4mY7s+cH+mMWtalqf05cVn0qQCz3VcIiIKy2AMwAwMiES6MLd08cipc68cWZ1bACGYmcI7q9lM+LeGJ7QCxJCRMEwzZtkmoyGEJaWBAngNCQIwQhgjwuVORCSQBlpS+r5Wnq9XS2G3oa4PiJmr+eLE4RPO6ek6MxEuS4Qi5oC1ohCQ8rUOSDOwNkX3nsFP/stfcPIFaqnTE4uG4534xvO5ydnBB/d17dwiDIO5ZtwIAMDhdYauEdoNMIMQTr504fDxC6+dKCwsAQARhUvPIcHQ/Wp0wu9/zVMECjsa7d012NbeMvL09whBSmGbhlJXVdrWuEqB0pSBJuXqeMJobY/mcu7SoiPxmlnr9QGR1qtTszOHj0PJAZSIwIwATAzhmBWwDkiHdBTraDY9vP/eu594pLm9dREgs6nn0txioxkJipXzL78+deZ8795dux+9L9PcwMAAqJUmIgijMhMR+VUnNzU3e2Z8+tS5hfMTgecxIjFzrWKvEFlKwcB+oBgAUSDXBmMEFCgEIAMmGrK7H3uwpaVx9LlXtK99pbVg5DAQM4TDOoFAyDTYbb3x+YXqxIUiMtRl7bbO2NnRvBW9psJxfUBOuXLx+KmFE2dNlBz6KQADEjABa6KAlKuUJk0AkXiie+fW4Q++b+vwbgCob2565DMfL3/gIXdy8fk/+oLUws0Vj3/jhfFX39h2/77mgd5Ma8vcuYsgMNPWTKRnRsenR87Nn7tUWVklYh2aCoQ2wwwgJDU22H39aSZaXKyu5NzlZQ+Aw5E6NBwpDWmb2jYadvTt3H93YXYh09u+OHqRQfpaGyAQ0LAwmTVY8cpcYNiiuS06uDtbNxsh5ovnCqs5f2B7U6CpeMVbAK4LSGs9cebcwSefYl+BEKghHB6AQYRXDUwMxKSIzET0rp959Od/59cvN4/Eon1btwDAxMkzdUN9lUszolgxUbtLhUNfetpOxKulCqKI12eUH+TnlxgBpQxnAjU0ABB6IAOHlQOBDY0RZNHUlKhU/YvjhfNjReZwto6ImGyp3/fEw3d/5JHm7g4AUI7buql34fQFRJQSQYOQ2NIW2zXcuLLgvDw/G85GpRQdXYlUylQ+eQ55HnV0J4yWK2M8XLdgtjQ//8qzzy1euGSbBmIt+Iman4eDKCIAMSumxv6ue3/6A+u7AACArm0Dj//Wv0hv31RFkkIYUgpEt1wOI05pKVfNF42IaVgmCgEAiCAEoyBADRDOfxkAiLCQCyYulCoVrRTYpplOR5JJSyAKFAJFqjE7eP/wtvftC+kAQDKb6R7cFDFN0xJ2TAJAJCY39Ca7e1Id3ckN3YlMQ6SzJ2VIgQCxhLF7X8OG7rhTUcxgWdfUXq9jQcl4Yqizx4ml3EAhIyIiADMKDJdRwu+METjZlN1+/77mjh/4UEmyqX7bhx4EU0y9coyrgdRArA1T+j4jhGMLMjAQodCZtJ1MWxpoYb7qOgTAyAyAEoXv8rnTq1MT5Wx93JBGbilQVUsarEw2krHtH37w5/7tr179uWYkkm5rqm/NbGg141HrwqliQ3N0y1AWENL19q73NF26WAIJAEzECJxtjCQzVqC16wW2vmYh/zqALl248MI3n24V0UD7xKGNhVEIBQBizYisiL1hYOPu+94TTyXX9XBZyVRq+MH3bt97xxvPH3jqf/5VneM1txvpOvv0qVyxEPg+aWIAEAIzddHtu+pb2+NVR+dz/uREYWqyWK0EUhqAksEIFPsFmS8owwTbsiKNiZbu1v47t22+c0ffVY/zMrPWenbs4ivffMaDyubB3mTUSiUirZ3xZNrggA0Dm9uiRgQ1MykiIq05UDrQFCjtB0r/cEBElDYjPZmm3PQ4hCMwYK2YAAwQ+heikNG43bdl08Zt1691XxYiRhPx4Ufel0lnnv8ff+YW8m0t9r572i+cz09NlIoFhQwEXK2q2dlyImlFImZrS7IuFU3FI0dOzAmB5ElhCCNu2ZFYuqmxb89Q/x1DPTsGsu3X2Y8QBMH0+fOHvvXM6uSFwY1Nva0ZKaGxPmpHBWiGcPolMZExtSalSRNrTX6gAk1EpImuzlrhzYCccnnizNnc1LzUJrMfZixhLEBAhHB6hwKwVChdOnu+XCgl69LXdHE9rSwsvPrcC5fOXawzorlFN9VoRdNmLG4yYb4USJTah3Ojlckpp7srTRXPFuySFElbsbTikXRjdtfD9+774P6Wvi7Ea4eZaxV43vzU9MLFsd4sPjDcYZjoUwAAoAQgMoAm8gPlBUoTM7MmVkSBJl/pK4PnVVoPSKCIEZuVclWHVhOqNopdacosmEvLucnRsa3vuePy4R+kumz99m3bZ586SBocD4qTnqdKWuiANBEIEGHIJ5koRluLlXy5VGnd1PW+J3ZsuXNnPJ06f/rMht7u1o3d6/t9k+LJ5I7hPQ26hGNHSOqiF5Rdn4iTESsZiwiBmjjQ5PpaEwmBAKCJlSatNCCEC7JXaz2gYqEwOTFlmxFHeECAjAAQfmdhQwQIyyvAUF4tTJ4bvxlAdjxa19lqphLOSoEYCYgBgoCDcHGGNQAo0r7yVNK6432PPPihR+qumlJ39vdd6etGUtUy5Ofq0xEvCFYrTrnqAQAiRCKmAUIzKc2eUr6vDEMaUoS/OEYpjYBEwNd42JuG+WqxOHl2bLVaru23QV4zaYTQuWoxGgSiIQ246R3J8bp086ZuzZqAFBMhh52E8Z8BpJCi6J596fD4mbPphuw6U795JdLp9p4eTV6+Ui5UHccNkDEesQ0pFFHNp5R2feV4vuMHfqC11kQcBEQkhLjmOaVrbo+Zs3XZ7UPb4naUEAAAQ5NZS4IQUSAKRASQQnb09ex7+IGre/ghimZSDZu7lQQACncccLgNA4ghTJoZEc2AChOzc5emPNelaweUm5SIxKyGJsMAIh1GYgaUEok5IO0GQaC00qyJPF9XHL/iuDrQhhW10w3x1t6mwT3X9Hb1DwDgB4Hr+VEzomtLH7VXBBAYPoODCChRAGJ+JTcxOnZ18x+ieF26/57htju3+bZAiRDu9+GQCxgCLVOmE9aGlkR5duq/f+4/PP2Vb8zPvZUt4WhYmK7HdMqwhSGEKQ3NuFx2qoGvNFXcoOT4AYFp2KYwdECO5y96XMp22zveq7oGmncOX93bNTEIERdmZl967vlmT2KIombmHDoCIoq1LW+eDpYWF8+eGtlxVXnph8i0rIHhXa29XUe+/fwb3/juwvgEVapSSgYRsY2mhlhrY7ytJRZNwMKKc/TMzFf/1xeEZXz4ox9Z39FNyBf2khEvK9ewZaAg56icJrQidZYVEHmI0aYmiaY7PxNNJUQ0Ztd3tG7auWn77jcPkeuDdENDw7ZtQwuHRkDxNcNWbaQHAWgJKQUyQL7sTp8Z913PMM2bfDwi3ZC996OPd23b9MqXvzTz2usxEUlYkWhUdvUkGuvtZNwA0JmkiZbcumHgrdEBADajBay7uFDtaGlt7trUVN+RaOuqN0FNnltczpXz+bt+7led1ZXC5MW6zu5ItnF9+6u0HlA6Wzc4tNU7ej7nucxhnRKEAEQMw7sAMG0pLIMqLLWU06tHv/5s7/DOTGtj+AjrDff+ae1VC+MN9tgdj/X4BdmcjSdSZqFaZc3xqF11AzfArqGh3kc/ub7lTSuaSPfteaCha0trT78du5Loy47NPZVycykPwLFsQyx7zbz0uloPyEomMl0bTMMIMx1CZOZEytrQEy+sBLkllxE6+xPZ5ki+4K8sOamMs/DKNwsXT7bs3FXf141StvX8sH1tRFTJz1mFs/v727SSbsoyTVl1vXzF9zQXPV2qOBUR29A7lGxsWd/4piWkrGtuq2u+ziQxGk9E44n1R3+w1gMKgqDkuxCzM+hn2qOLM9XVJY+Q2vsSQ3siJw4tLy06bZ2J/qFMpRz4npISXNcvV2ZmXhx75Wuljl3vaf3FXwtn59dVpZCbPX3UyuV8K1J2Ag1BBLmkAJv7Mhv65y5dnCue7xjcXdc3KK0fuOvrx6n1gJZnZ1955pml+enmTDKTFbFY3HOoqT3W0ByNx4xdww2LC65hIARsCpSWRAQjbtumkbSNlC0cZ7W4NBfLNppmuNN0vVTg55ZXYCkvEtHFnOMQS9NUVqZ3266e4bu776K37zcBvTWtB5TM1m0Y3DR35Hg0ZTQ0RbSCuQlXCkzEDYnY0Bipr48EivxAO24QppEMrAGUgGjcIi9/8Mm/37D7nm133LWu51CJdHbjnQ+cDujA8dfbuzc2bdzSObg909opTRsAQNwgfv349SZAmczAjsGJ7yTB5M7OuPKA9ohITKImIUUtu0XwAlV2PQYwTYkIWnNARMSqWq7kRgvZZvgBgEw70t63pamjN/ipz8SS6fVv/+RpPSBmjqajG+/YIEslUpiMG919UhoCRa2EzoA+6WoQlB2PAeqsGAAqrXytAiKJwlBBYXGe+fIc5ToyLdv8yQgxN9T6aLowOfvcPzy9OLPY15OJG5ZhYDwmpWRiUswBkSYmBkRUmhRDU3u9FTGlQGZmzaChsWnD4J13v+WZ1E+a1gNKZFJdW7fG6lvj2agRN5jDKUGocL8yKU3EbEihfLU0nxdSGJYwJAoF4CJrtKR5ex89/v+o9S6WrEvf+zOPe/cNVt74stY+KgAARBAMmjl8ziacExuGtIjz+YplSSEZBViW4bhAyUysoWldt+9crQcUBg5pxq1Ii784IWuLLxCWy4ioNhVWhIhCCD/QVcfXDBWFqxWKZ1rqN/RmOjrXdfvO1XpAAMDMGu2lqu3O5rsa40QMCCyAgbXSQUDEqIl8T/m+Vkq7ijDV0H/f/oZNQ/VtG9Z39w7XdQABQBAEK6ViPl+JRSIWsTTRYU8iMImqB8WqqwKlAlKaDTPi20ayo79pcEdd09v+O+l+/LoOIERk5SWTiQ1P/LzSOHHscHMmOjtzEX2/ra3LakotjI4uzl6IRyMdQ3uG7n842d5lRm/14eKfWP0/eIE3m9oivb4AAAAASUVORK5CYII=",
         "type": "image",
         "xaxis": "x",
         "yaxis": "y"
        }
       ],
       "layout": {
        "height": 350,
        "margin": {
         "l": 0,
         "t": 60
        },
        "shapes": [
         {
          "line": {
           "color": "black",
           "width": 2
          },
          "type": "rect",
          "x0": 0,
          "x1": 96,
          "xref": "x",
          "y0": 0,
          "y1": 96,
          "yref": "y"
         }
        ],
        "template": {
         "data": {
          "bar": [
           {
            "error_x": {
             "color": "#2a3f5f"
            },
            "error_y": {
             "color": "#2a3f5f"
            },
            "marker": {
             "line": {
              "color": "#E5ECF6",
              "width": 0.5
             },
             "pattern": {
              "fillmode": "overlay",
              "size": 10,
              "solidity": 0.2
             }
            },
            "type": "bar"
           }
          ],
          "barpolar": [
           {
            "marker": {
             "line": {
              "color": "#E5ECF6",
              "width": 0.5
             },
             "pattern": {
              "fillmode": "overlay",
              "size": 10,
              "solidity": 0.2
             }
            },
            "type": "barpolar"
           }
          ],
          "carpet": [
           {
            "aaxis": {
             "endlinecolor": "#2a3f5f",
             "gridcolor": "white",
             "linecolor": "white",
             "minorgridcolor": "white",
             "startlinecolor": "#2a3f5f"
            },
            "baxis": {
             "endlinecolor": "#2a3f5f",
             "gridcolor": "white",
             "linecolor": "white",
             "minorgridcolor": "white",
             "startlinecolor": "#2a3f5f"
            },
            "type": "carpet"
           }
          ],
          "choropleth": [
           {
            "colorbar": {
             "outlinewidth": 0,
             "ticks": ""
            },
            "type": "choropleth"
           }
          ],
          "contour": [
           {
            "colorbar": {
             "outlinewidth": 0,
             "ticks": ""
            },
            "colorscale": [
             [
              0,
              "#0d0887"
             ],
             [
              0.1111111111111111,
              "#46039f"
             ],
             [
              0.2222222222222222,
              "#7201a8"
             ],
             [
              0.3333333333333333,
              "#9c179e"
             ],
             [
              0.4444444444444444,
              "#bd3786"
             ],
             [
              0.5555555555555556,
              "#d8576b"
             ],
             [
              0.6666666666666666,
              "#ed7953"
             ],
             [
              0.7777777777777778,
              "#fb9f3a"
             ],
             [
              0.8888888888888888,
              "#fdca26"
             ],
             [
              1,
              "#f0f921"
             ]
            ],
            "type": "contour"
           }
          ],
          "contourcarpet": [
           {
            "colorbar": {
             "outlinewidth": 0,
             "ticks": ""
            },
            "type": "contourcarpet"
           }
          ],
          "heatmap": [
           {
            "colorbar": {
             "outlinewidth": 0,
             "ticks": ""
            },
            "colorscale": [
             [
              0,
              "#0d0887"
             ],
             [
              0.1111111111111111,
              "#46039f"
             ],
             [
              0.2222222222222222,
              "#7201a8"
             ],
             [
              0.3333333333333333,
              "#9c179e"
             ],
             [
              0.4444444444444444,
              "#bd3786"
             ],
             [
              0.5555555555555556,
              "#d8576b"
             ],
             [
              0.6666666666666666,
              "#ed7953"
             ],
             [
              0.7777777777777778,
              "#fb9f3a"
             ],
             [
              0.8888888888888888,
              "#fdca26"
             ],
             [
              1,
              "#f0f921"
             ]
            ],
            "type": "heatmap"
           }
          ],
          "heatmapgl": [
           {
            "colorbar": {
             "outlinewidth": 0,
             "ticks": ""
            },
            "colorscale": [
             [
              0,
              "#0d0887"
             ],
             [
              0.1111111111111111,
              "#46039f"
             ],
             [
              0.2222222222222222,
              "#7201a8"
             ],
             [
              0.3333333333333333,
              "#9c179e"
             ],
             [
              0.4444444444444444,
              "#bd3786"
             ],
             [
              0.5555555555555556,
              "#d8576b"
             ],
             [
              0.6666666666666666,
              "#ed7953"
             ],
             [
              0.7777777777777778,
              "#fb9f3a"
             ],
             [
              0.8888888888888888,
              "#fdca26"
             ],
             [
              1,
              "#f0f921"
             ]
            ],
            "type": "heatmapgl"
           }
          ],
          "histogram": [
           {
            "marker": {
             "pattern": {
              "fillmode": "overlay",
              "size": 10,
              "solidity": 0.2
             }
            },
            "type": "histogram"
           }
          ],
          "histogram2d": [
           {
            "colorbar": {
             "outlinewidth": 0,
             "ticks": ""
            },
            "colorscale": [
             [
              0,
              "#0d0887"
             ],
             [
              0.1111111111111111,
              "#46039f"
             ],
             [
              0.2222222222222222,
              "#7201a8"
             ],
             [
              0.3333333333333333,
              "#9c179e"
             ],
             [
              0.4444444444444444,
              "#bd3786"
             ],
             [
              0.5555555555555556,
              "#d8576b"
             ],
             [
              0.6666666666666666,
              "#ed7953"
             ],
             [
              0.7777777777777778,
              "#fb9f3a"
             ],
             [
              0.8888888888888888,
              "#fdca26"
             ],
             [
              1,
              "#f0f921"
             ]
            ],
            "type": "histogram2d"
           }
          ],
          "histogram2dcontour": [
           {
            "colorbar": {
             "outlinewidth": 0,
             "ticks": ""
            },
            "colorscale": [
             [
              0,
              "#0d0887"
             ],
             [
              0.1111111111111111,
              "#46039f"
             ],
             [
              0.2222222222222222,
              "#7201a8"
             ],
             [
              0.3333333333333333,
              "#9c179e"
             ],
             [
              0.4444444444444444,
              "#bd3786"
             ],
             [
              0.5555555555555556,
              "#d8576b"
             ],
             [
              0.6666666666666666,
              "#ed7953"
             ],
             [
              0.7777777777777778,
              "#fb9f3a"
             ],
             [
              0.8888888888888888,
              "#fdca26"
             ],
             [
              1,
              "#f0f921"
             ]
            ],
            "type": "histogram2dcontour"
           }
          ],
          "mesh3d": [
           {
            "colorbar": {
             "outlinewidth": 0,
             "ticks": ""
            },
            "type": "mesh3d"
           }
          ],
          "parcoords": [
           {
            "line": {
             "colorbar": {
              "outlinewidth": 0,
              "ticks": ""
             }
            },
            "type": "parcoords"
           }
          ],
          "pie": [
           {
            "automargin": true,
            "type": "pie"
           }
          ],
          "scatter": [
           {
            "fillpattern": {
             "fillmode": "overlay",
             "size": 10,
             "solidity": 0.2
            },
            "type": "scatter"
           }
          ],
          "scatter3d": [
           {
            "line": {
             "colorbar": {
              "outlinewidth": 0,
              "ticks": ""
             }
            },
            "marker": {
             "colorbar": {
              "outlinewidth": 0,
              "ticks": ""
             }
            },
            "type": "scatter3d"
           }
          ],
          "scattercarpet": [
           {
            "marker": {
             "colorbar": {
              "outlinewidth": 0,
              "ticks": ""
             }
            },
            "type": "scattercarpet"
           }
          ],
          "scattergeo": [
           {
            "marker": {
             "colorbar": {
              "outlinewidth": 0,
              "ticks": ""
             }
            },
            "type": "scattergeo"
           }
          ],
          "scattergl": [
           {
            "marker": {
             "colorbar": {
              "outlinewidth": 0,
              "ticks": ""
             }
            },
            "type": "scattergl"
           }
          ],
          "scattermapbox": [
           {
            "marker": {
             "colorbar": {
              "outlinewidth": 0,
              "ticks": ""
             }
            },
            "type": "scattermapbox"
           }
          ],
          "scatterpolar": [
           {
            "marker": {
             "colorbar": {
              "outlinewidth": 0,
              "ticks": ""
             }
            },
            "type": "scatterpolar"
           }
          ],
          "scatterpolargl": [
           {
            "marker": {
             "colorbar": {
              "outlinewidth": 0,
              "ticks": ""
             }
            },
            "type": "scatterpolargl"
           }
          ],
          "scatterternary": [
           {
            "marker": {
             "colorbar": {
              "outlinewidth": 0,
              "ticks": ""
             }
            },
            "type": "scatterternary"
           }
          ],
          "surface": [
           {
            "colorbar": {
             "outlinewidth": 0,
             "ticks": ""
            },
            "colorscale": [
             [
              0,
              "#0d0887"
             ],
             [
              0.1111111111111111,
              "#46039f"
             ],
             [
              0.2222222222222222,
              "#7201a8"
             ],
             [
              0.3333333333333333,
              "#9c179e"
             ],
             [
              0.4444444444444444,
              "#bd3786"
             ],
             [
              0.5555555555555556,
              "#d8576b"
             ],
             [
              0.6666666666666666,
              "#ed7953"
             ],
             [
              0.7777777777777778,
              "#fb9f3a"
             ],
             [
              0.8888888888888888,
              "#fdca26"
             ],
             [
              1,
              "#f0f921"
             ]
            ],
            "type": "surface"
           }
          ],
          "table": [
           {
            "cells": {
             "fill": {
              "color": "#EBF0F8"
             },
             "line": {
              "color": "white"
             }
            },
            "header": {
             "fill": {
              "color": "#C8D4E3"
             },
             "line": {
              "color": "white"
             }
            },
            "type": "table"
           }
          ]
         },
         "layout": {
          "annotationdefaults": {
           "arrowcolor": "#2a3f5f",
           "arrowhead": 0,
           "arrowwidth": 1
          },
          "autotypenumbers": "strict",
          "coloraxis": {
           "colorbar": {
            "outlinewidth": 0,
            "ticks": ""
           }
          },
          "colorscale": {
           "diverging": [
            [
             0,
             "#8e0152"
            ],
            [
             0.1,
             "#c51b7d"
            ],
            [
             0.2,
             "#de77ae"
            ],
            [
             0.3,
             "#f1b6da"
            ],
            [
             0.4,
             "#fde0ef"
            ],
            [
             0.5,
             "#f7f7f7"
            ],
            [
             0.6,
             "#e6f5d0"
            ],
            [
             0.7,
             "#b8e186"
            ],
            [
             0.8,
             "#7fbc41"
            ],
            [
             0.9,
             "#4d9221"
            ],
            [
             1,
             "#276419"
            ]
           ],
           "sequential": [
            [
             0,
             "#0d0887"
            ],
            [
             0.1111111111111111,
             "#46039f"
            ],
            [
             0.2222222222222222,
             "#7201a8"
            ],
            [
             0.3333333333333333,
             "#9c179e"
            ],
            [
             0.4444444444444444,
             "#bd3786"
            ],
            [
             0.5555555555555556,
             "#d8576b"
            ],
            [
             0.6666666666666666,
             "#ed7953"
            ],
            [
             0.7777777777777778,
             "#fb9f3a"
            ],
            [
             0.8888888888888888,
             "#fdca26"
            ],
            [
             1,
             "#f0f921"
            ]
           ],
           "sequentialminus": [
            [
             0,
             "#0d0887"
            ],
            [
             0.1111111111111111,
             "#46039f"
            ],
            [
             0.2222222222222222,
             "#7201a8"
            ],
            [
             0.3333333333333333,
             "#9c179e"
            ],
            [
             0.4444444444444444,
             "#bd3786"
            ],
            [
             0.5555555555555556,
             "#d8576b"
            ],
            [
             0.6666666666666666,
             "#ed7953"
            ],
            [
             0.7777777777777778,
             "#fb9f3a"
            ],
            [
             0.8888888888888888,
             "#fdca26"
            ],
            [
             1,
             "#f0f921"
            ]
           ]
          },
          "colorway": [
           "#636efa",
           "#EF553B",
           "#00cc96",
           "#ab63fa",
           "#FFA15A",
           "#19d3f3",
           "#FF6692",
           "#B6E880",
           "#FF97FF",
           "#FECB52"
          ],
          "font": {
           "color": "#2a3f5f"
          },
          "geo": {
           "bgcolor": "white",
           "lakecolor": "white",
           "landcolor": "#E5ECF6",
           "showlakes": true,
           "showland": true,
           "subunitcolor": "white"
          },
          "hoverlabel": {
           "align": "left"
          },
          "hovermode": "closest",
          "mapbox": {
           "style": "light"
          },
          "paper_bgcolor": "white",
          "plot_bgcolor": "#E5ECF6",
          "polar": {
           "angularaxis": {
            "gridcolor": "white",
            "linecolor": "white",
            "ticks": ""
           },
           "bgcolor": "#E5ECF6",
           "radialaxis": {
            "gridcolor": "white",
            "linecolor": "white",
            "ticks": ""
           }
          },
          "scene": {
           "xaxis": {
            "backgroundcolor": "#E5ECF6",
            "gridcolor": "white",
            "gridwidth": 2,
            "linecolor": "white",
            "showbackground": true,
            "ticks": "",
            "zerolinecolor": "white"
           },
           "yaxis": {
            "backgroundcolor": "#E5ECF6",
            "gridcolor": "white",
            "gridwidth": 2,
            "linecolor": "white",
            "showbackground": true,
            "ticks": "",
            "zerolinecolor": "white"
           },
           "zaxis": {
            "backgroundcolor": "#E5ECF6",
            "gridcolor": "white",
            "gridwidth": 2,
            "linecolor": "white",
            "showbackground": true,
            "ticks": "",
            "zerolinecolor": "white"
           }
          },
          "shapedefaults": {
           "line": {
            "color": "#2a3f5f"
           }
          },
          "ternary": {
           "aaxis": {
            "gridcolor": "white",
            "linecolor": "white",
            "ticks": ""
           },
           "baxis": {
            "gridcolor": "white",
            "linecolor": "white",
            "ticks": ""
           },
           "bgcolor": "#E5ECF6",
           "caxis": {
            "gridcolor": "white",
            "linecolor": "white",
            "ticks": ""
           }
          },
          "title": {
           "x": 0.05
          },
          "xaxis": {
           "automargin": true,
           "gridcolor": "white",
           "linecolor": "white",
           "ticks": "",
           "title": {
            "standoff": 15
           },
           "zerolinecolor": "white",
           "zerolinewidth": 2
          },
          "yaxis": {
           "automargin": true,
           "gridcolor": "white",
           "linecolor": "white",
           "ticks": "",
           "title": {
            "standoff": 15
           },
           "zerolinecolor": "white",
           "zerolinewidth": 2
          }
         }
        },
        "title": {
         "text": "Label: Abomasnow"
        },
        "width": 500,
        "xaxis": {
         "anchor": "y",
         "domain": [
          0,
          1
         ],
         "showgrid": false,
         "showticklabels": false,
         "visible": false,
         "zeroline": false
        },
        "yaxis": {
         "anchor": "x",
         "domain": [
          0,
          1
         ],
         "showgrid": false,
         "showticklabels": false,
         "visible": false,
         "zeroline": false
        }
       }
      }
     },
     "metadata": {},
     "output_type": "display_data"
    },
    {
     "data": {
      "application/vnd.plotly.v1+json": {
       "config": {
        "plotlyServerURL": "https://plot.ly"
       },
       "data": [
        {
         "hovertemplate": "x: %{x}<br>y: %{y}<br>color: [%{z[0]}, %{z[1]}, %{z[2]}]<extra></extra>",
         "name": "0",
         "source": "data:image/png;base64,iVBORw0KGgoAAAANSUhEUgAAAGAAAABgCAIAAABt+uBvAAAXr0lEQVR4Xu2be7BdV3nYv8daaz/O4z70tB6WZMv4IdtCgoldXGpCwAQPNAkMYJ5phoaZZmCSKZ22k5nkj3ba6Uwmf7RN2zQd2mnDwAyZTqGER1wbauNiwMQEJNkGZFuWLEu6ku6959xz9mM9vq9/HFm2LzbHGEtJO+f3x7179l577b1+d+21vvXtfVFVYcZLQ+t3zHghM0FTmAmawkzQFGaCpjATNIWZoCnMBE1hJmgKM0FTmAmawkzQFGaCpjATNIWZoCnMBE1hJmgKM0FTmAmawkzQFGaCpjATNIWZoCnMBE3BrN8BoKoppRiCgoICIrIx1tr15f6aUFVVFZGLrzyJiJlfWOpVY70gVa2r6rHDhx7+1oOhaVMIWZ7f8NoDr7/tNkBgNuav21RK6fz58ydOnKjrOsZIhNu2b79m7zXry71KrBcUvD/66JHPfeo/3v/nf+5HY0gyP7/w+ttue+bRI2Dt1TfedPBvv3HdKZeZtm0ffvh7n/70p8+dOxeC7/XKd7zjHZdPkG+bHx859MPvPri93xUmipIZc+7wkS8/+ij1ure/6937Xvd6ZjbOrTvxsoGIzESERIgECppE1hd69VgvCBCNYYvYzVxurRUkhaTSND6l+OS3v/1ll+266aaDv/jm9Sf+fFwcUBDxhUdeBCKajDuUCABCCN77yX5jfqJFPx/rq0NEa2zmssJoniBTMIAqWsYYUhr+6EffXTqbmmbfLbeqqoICoLHGumxdPeuYDPzee0R8ng0AAGYmorZtVdUYUxTFc8deDEQkIiJkJkKKMT517Mm77/4qIm3btn3fvn2vTJOqxhjbtgEFRDDGZnkOLyIIEJkFMSEqAyoaRAPUsVZFk6o27cnvPPSFP/iDOoaRb6jIr3/d62972532pz503vvHHnv0/vvvY2aZTEEiIsJsdu3atbi44Stf/goS3nrrre985zvXn/wTMBMSEiExBh++89BD/+eb37TW3XTjzXfcccfOnVcePHhw/TnTaNv2r/7yO//jzz6bvM+sO/gLt777g78OPykIEBLooKmTILvcILKoQTXIbFAVQorLR3988kc/HAW/3FTU7SwdO5a77Na3vX19VS8keL+6upplE484iSFE28OHj3jvq7pS0aZpJr3rpzxoiIhEAKqgzAwK3oeUtGlGD37rwSOPHLnz7XdOFTQJFFKMk21VrarR6aefevj+e8O46nV7m+cXJiV/UhCitTHPfNKaCH1CAUZkUmICAEJyxEREqEls07ZLR48+8f3vH3jjm8jwT+lHRMyITKwAgAAKAMCAQhpCUNWYYl3Xg8HAGNPpdJ4/Kq3zRYgiIkkICQwiMiiCAqCoRoUXjNmqqiIxJYDJRRUAUkxnTp169AeHVMW31Xi0Olg9e+LxHxegGIP1Hn07OX29IGPs7r2veeddHzJJBieePvrgt7MIrU+gmlSYEJGMsYbAgEHGkfdSVU/85fe+8B/+eMd11x1885tgMsYgMBv3rC9EtNY4lz3XOS40mZihKAoRqarqscceO378qT179txxx9tE0iQazPJ8w+KGSelJVUQEoEliSqICIpBn5Z49e/a/9qayLPbdcOPFwgAgKZ05s3Tk0CFJSZJoElUB0fFwbenUKSZIoW7r4drq2bXTZ/pZbvNYuMzghTXGekHOuX37bt637+YYwonHjz6055rhsROPfO0+EU0ADtESIQiAMmBuHbIJyMNTZ47c98CZEyePHztWa1rzjRp6zbXXvf1td06qtdZedfXVf+dNb/rG/fc9f4RGVCIuisI5VxRF0zR1XR955Mjhw4dERFSstTffdPNdd31gUn7yOAAoogJoijFGTVHKsty//8A/+uQ/nJQKIUxCf1WNMZ4+deqb33gghRhDgCSZdZ2y7JWdbl4SiE+xbZIfNH7kVTjr9LsLi67bm1xxvaCLGGv3XHf99t17fnD/A498968gqsTofVAFQ4ykQoTMhhCRlZhE06g6ffSJIcblphLL8wuLF2tDROeyfr/vnIspTWZlAES88CQhYpZlRBRiEElt23jvU0qIKPKcUVVdWxseP/FUCJ4IEFU1iaYQwzMnn77n3q9O+t2WLdtu+YW/BQAicu7cuUcfeSSlhAAoCqIGMWPO2JBobNvR8uD8ybPnTp+r6hZNft2BA+/52Mfmnr35lxQ0gY25Yu/Vb/3ob5gk5x4/9r0v/oUIcOnYMRpUVkEVRQI2xlhrKHMF2wI1IOhkmHkWY8xVV139wQ99+Mknn7z77q8CTOZ+UYU8z7Mss9YQoTEsKsawYRNiYGJAFZHJg+t9+8MfHfncn/3XtdEaKCoAkjIrQPvEscf+8395HElU8OCBWw+89nUAEEI4c/rMoe9/3xD1y67rdFjBABqAMBp53w5Wlk8//fTg7HlfVSbPunOLm7bvvO61B5677YtbLwobs/2qPduv2hPa9sgD337onm+gKPW6WTenjFtMKlFCAEFwNiGw4U6ngDKvJapqVVWT2epCbcz9/lyv182yDEC996uDYQhxYX7BWAZkIiQyAFrkGfbnvG9DCMG3Tz99PKUQU/C+fubU0bXq1HBtLc9KIoPMRdeUZTY3l3d6hYpU47A6WL7nnrtFgJlHw2GWudyYXpnnyBhiO1wbrg6q8UgQBsPBmVMnm2Fl2V69/7q7fue3+ovPdXwAeLaLTyOltHT85Nc/9/lHHnyo3y+zwgnryFfKaJ0zyIatK0vX7WGnaDXVMSQR57LxeASiKUZEuPba69/7vvenlJqmEZGjR3/0mc9+WlIy1jRNHUPslJ2yKAGhKMputyuiMYa2repm1LRrMY2QG2JfN9VgMFo+v9bUHokWFuY2bd64YcMiEdd1GKy0qB3DPULb6/bm53s5s1GFNkDTxlFVnV9eWTq7Nl7Le2Ubw+nTS82oZbKve/Obfv9P/u26hk/pQRdh5i1X7njbr9+1++YbrLNIcOr0yXvu/YvMZRs3LhRZbtgQW3IOrbMiYEzj/dLZpcHqKil434rI/MIiIhpjut2uqu7ff+CGG24UkSOP/OAP//Bf1VXV6/Z7vR4C9vt9IjTGIIIxZA2kGBG8zUKng2bT3EqX6moQo7fOzm8w8xu47EqMgm0wVnNX9DqLzpTOucyxRWiHw+WTp5qVgdZtwSYvMmDlMjNYbCIarIx8m+jFYpSXKwgAiGnD1s1vePtbACDGaA4fGt79ZWpqHY/mCEtjGMEROkJVZDZFwYsLi3mWhdYPVlfHo5H37Wg0YmZrbV3Xk0kpxuh9YGbnXNs2wbeE6H0jKXa6fZdZ0ZZJeqUlzJ3FPE9AUJFYlCI3Zb/s9jPiVNVD76FtFdA5ZztlmWc9ldQ248a3w6WzJ598slpezdjcdODgm3/tV4EQDQOzqoYoKrCwaeP6Nv9MgtZhrc3LUiSFKCFJ1ba+HWVZ3uv1mA0RIWKW5UwmZoGQiOj48eP/4l/+8x07dtxyy62f+tSfeO/rum6aehIaqUCKQSQawroarSyf277jyrm5OdEmtynLU86YMdmYgiQboZMXrqCy1zFsUpIUk281JZu5IssyIk4xjEdrg9Wz6tvq/PJosOqbmsputnHx4Fvfsr49L8ErFERE27fv+MiH/h4isuG14eCB++8/f26ZjRHVbqdrnVMBUDBsrLHW2rwoVlZWBquDleWVQ4cOLS+veO/H43Fd1c65LMvYUIoJJKLB4erK2mjEzKrRmmR7ZBAzggKIA2HSArKF3rxnQmdEIXhJCVSNMbkzOSjFGH2MVTVu6ookEVN/fk57c3mnazvl+va8NK9c0Nzc3C233Oq9F5FTz5x8uPju4sICIFpjAcC3HhFpsighyrKMmYioKIqqqkajkXMuxmiMyfPcGIOIIQSVyAgqAqgxtafPPAVU7dq5uSyKPEMHaIUtEpL0CrfBFKu+qaLHiKKaEhAYJCtCzuX79x9EQJEkyRsiUoWoTGxdtrB58/r2vDSvUBAAqOrS0pmvfvlLALCwsPh3f/VdCkpERLy8vPy1r91LxETKzJPFgbW2LAtjTZY5Y0g0NU2FCMYyEU4Wj6AqqlEkJSXSPNf5edq0OZ/v2gwSBkkhiZc2SQBAJMPWAipA9H48quuqYqo3LLhdOxd/+ZcvBPE/Jy9XkKqqaggeABBwEhqMRqNvf+dbzHz9Dft+5dfedbGkc05ERaKCMhFiNoluANRazlyPDUbxKyvnUvKIKJJUFWASDapPkhSKTr77qq3XX7/jii1zlKIfhdTExsdUpyZKDVozJAIACj7WVVwbtqNhm2e0fWvvxhv2X7zzn5OXKwgAVpbP33f3VxShKEtRKMrOVddcm2UZGU4iTduCKgCoqve+qqqqqrLMdTqdptHRyLe+zvMsyx0TWQdl6YwFpASgxhgRiW1LRMY4R7Y758pyw5Yti2VhUmhC60PboqoahoIpKYpICqNqvDoaN7UPQUHttit23/aGt+zcsef221/uGDyVn0HQeDC4/ytfRDabrrgCjJlb3HjLG974gQ9+eDAcPvjgg1/4wudFJlkwqauqbdvB6urcfL/b7dR1PRoNx9Xa4mKfTQcsI6m1aqwQR0mJLTFoiNE6V5bGOFeWbr7v+v2CAWMTNEZQVMLI6lUbkHEKo7YejsaD1WE19obzuf7cnt2v+ehvfOLZdMGrg4kX1o0XeX5o/eyWAgCo90Ubg8awMgCXaadvjdm//8CpZ575xn33HT36uE7SPAgqYqzJ86wsysxla2vDpm2IUDECBusghODjGpJnjgrRWsuG2dgsz8puRs7kmSkKAwqxAcPGssVcG9/WsV4J9ahpR7UfjZq68jEoKme23Lxx2803vT6EcFHPhbtXQERjzSsTZw7dew+ogiqIiKRJ0kRS0pRUhACIUJLElFaWl7M2gkIcjrkD7XDtni9+QYnWqirPcmMdACoCgIIqAhqifrdT5q7fLfMM2QC7aGxEVk1twiZBbXLp5aXLHCLEaMgoGE9GFJP3oZWsiIXplIZIJMbYNkHGPgyaZlz7EESErTGdvFPkvW5nYXF+84PffCDGBIAIGH1IIWlKvV7vtjffjvxKBOE/vum6LMuctesS3QiAiEyG2SQFLxoIIxvIsmxhPp+fc3M9LgqxNigIGkWDzAAgkEAVJKFI4UyesUokFrKpjSOvlbC0oV1ZXX3iiSdAdfOmTQiQUgwxhBQF1FjDCjZBH/PFvLexP2etEUhVbNeSX41+tarrNlIyEhDVdMo5ZwpCi2BUMIbEbK2xqQ3gE8S0afPGf/BPP2nspIGTgRKQyGXZ1G5lCogF2YzBMIiIqDwvS0EpaNPGBChswFnjLJd52e3YMlfCJnoffB1T06ak3O31AKBuq8wygjKor9NqqB0G5kAuZXNZVpoWQ0pN5CabMwhgCkUFSCoBUgCJknyrSTXAKPiUxqPTK52yLLtd0ynnO/P9Mt8QpU2KajSiJGRyTJbJgEAKEn0ERQQQDmpaqZvm/Nn/9dnPoEaJIaUQYgpJ5jZvufMDH5r6PsaUReasYQaApJo0PZeeEjQRMJIB6yjLKM8wt1jmkBkP2rR1FWOdYhOkqqMkikkAoexk733Pe4siZ6Lls6f/+5/+ceMHBht2YsxGk3eT+DaOI7ZZ17ACUYIkpIlBMAX1gYExQqpi26pEihR9I3WjrlFuQGsFVxiXG5tRZgktIhMQKpIAZKpRog+hDcAiCjH4ZrDy3f/5eYitJB9DW3vvFbdde/3td74z73Yu5GNUJ7+RKC/Kiz3LcKeLzEokCsJJRGDy6gpQyJLJMleCy8BadEYci+UWNKbgARIBkXWMipICTq7TLbt79uzplCUAWEKjCm1DMgIfZeSCTePYVKmJEjNnjCh5L03EKEaBqhYbn+ddSFA3IbRA6MDYNsp4daTjNvIgWlvOL3bmFjo9zvPMOYvAKSaN0SJbZDIkjY9VLVUF4xGsDbOmdlFQQASCIiZ1oPHMmS/9u38NbGJKPgbv26ppvKSN27e/9zd/a37DRiQCALP3F+9gZmRGJkRCImJGnvy0nBUmK9BaNAYNg2FgQjbABIaRmdggMQIBkDGGCfM8z57NGxBibjJLrsACMcSVajiuxxC8Q3UEANAmHbUwajlI5rK+KbHoR9FRXY+rELyIAbQ5EHqQlFABsrKz88qrevOLvbmFvCitcb5pjx59PNRNaZwax6LNuBqvDvzqKgwHrh7b6I0mBCVURsM2F1AYj47+73sEIIEmER/DsK5blSfn5qStP/LJ3+305wDA/Mrv/bNJYy4FiJixzdH1QVFpddR4bb0R6TpATj5QHW2lVCm36ox0ei4rOyvNeFzFVIU2irckLqCjRCQIxLxt8xV//6Mfn3/2vRUAnFlaOv7U8di0qiqSUJCJmFhibEZro+XzBWrGRERsDVkGYNCESViVCYBQSD2DGlQfx8tnnzjyA982HZiDnylQfEUgCGqTJAWC6DLXcbahIGSCcjMeU6tzttft9pV8Na50FJOEsNb4kQ9NCioJYmxaJmOKrCh7V1559Y7tu+iFXwMVeb7vhhtSiAxokAxSM6oee/gHYbw2tmYkUTOrLpt85mSsEYnVaBDacc6YOzZMihhVgEiZlciU5cVo8FILAokyHtUUG2e1JeMtU1bazKkBS55iG31iLgCgGq36tYazehyDbxMAs7FibKuQG7tz997du/d+6P0fnZ97ru9M6Pf7d7zlrc/fc+7M0hNPPA4rOS70ep3db/ylX5pfWCQzSb2Y1XPnvvSn/+3M0pmOpW5hLRMSKbFHjC7buG37u3/z472XfLP66qIQRetxg6ntdF2VpFIjNgebMULhhBDbcYiZQsDhqBk0FTqn1kQkIMPOibMedHHT1t/5xO9esXU70YX3eT8dJDJFns318tSWZX77Xe/bvPWKi0dPHjv29a9/3TW1NWgsIyggCCIwMlN389ade19zcfq/tIKIqej0YH6eqqFYM79lUzFfPl0NB4MqImRC892FBcdah9HaSlAkW3CeR6IkyaeUFJOiEoeQfvz4j6u6uXLnlXmWr7/MT5CXxc2vOzB+zd62ra01Zaf7/KPzGza852Mfa8YjZ9gyEyEy4WSmMibvdOYXnvci9/lLr1ed4P3y0pnVp4/f+5/+/WD5zBU3XEObFw+fePKZlfNRda4ot+ZzW7gYnz679PTJ1dXVhEh5Fg1XEkcxJGsgc4k4IQGaa/Ze+3v/5Pd37rhy/WUuJZe2B1nntuzYiSqN5aXxWi/EHrJE9HUKIMGCWidZORA5VzcJCBBVVJACmyYFUWBFUKqrpm58tbWKMa2/xiXm0gq6AJEURSrK06vDszGdPz+sKx9USKqSxrZn16IEm3U6/SzPEuJIYmqr4L0CITCjMewyS4Qsl/JruxflcghKqoMoq0GHZ1fS8nDkWx8kqoylXcY1jDQKMTgnRQlFAQAaGokRTURmIkfE1iCCIfj/VJCP6fjS6g9PLBXdor8wD8zMGaiA4nBU12MPMQlyPa6oqskaYVK2WdElZmZWBVVmBkSSdLkFXdpBeoL3/vSpU08de/KP/ujfLJ1dcpkDREVARFCFKN77FKM1Js9zl2VJNUi6mO4CAGPdtiu27d6954Pv/8CuXbueX/ml5nL0IOfclbt2iSoZV9WtKCAxMSERIapi1bRN287NzXXywuZ5bFtJgogpJUmJmLdt2vzbn/jtffv2ra/60nM5BE1g5n6/b50DQJGUUgJQIjbMWZYzGwT0rVfVEGJKCYkkaUpqrdm0aXOWT0ncXCJeVmD6qrB169aPf/wT+2++GRERECbpF1UAMMY45xAxxhhDTCmlSV5LBIk2btp013vft/fqvetrvCxcvh5krd20aePi4oZ+v6+gbdNOPiBDxAtzEwIgACgiqkKSlGXZ1i1bd+/alefTo+dLxOUYpC8SY1xbW4sxLi8vf+Yznz58+DBcGKlVVZHQGGOMJSJAQsStW7Z+5MMfvvHGF3yUeZm5rIIuIiJ1XYsIMzMzTf6v4OUtRC8zfz2C/h/ib+If7W8UM0FTmAmawkzQFGaCpjATNIWZoCnMBE1hJmgKM0FTmAmawkzQFGaCpjATNIWZoCnMBE1hJmgKM0FTmAmawkzQFGaCpjATNIX/C7BNUlksN24NAAAAAElFTkSuQmCC",
         "type": "image",
         "xaxis": "x",
         "yaxis": "y"
        }
       ],
       "layout": {
        "height": 350,
        "margin": {
         "l": 0,
         "t": 60
        },
        "shapes": [
         {
          "line": {
           "color": "black",
           "width": 2
          },
          "type": "rect",
          "x0": 0,
          "x1": 96,
          "xref": "x",
          "y0": 0,
          "y1": 96,
          "yref": "y"
         }
        ],
        "template": {
         "data": {
          "bar": [
           {
            "error_x": {
             "color": "#2a3f5f"
            },
            "error_y": {
             "color": "#2a3f5f"
            },
            "marker": {
             "line": {
              "color": "#E5ECF6",
              "width": 0.5
             },
             "pattern": {
              "fillmode": "overlay",
              "size": 10,
              "solidity": 0.2
             }
            },
            "type": "bar"
           }
          ],
          "barpolar": [
           {
            "marker": {
             "line": {
              "color": "#E5ECF6",
              "width": 0.5
             },
             "pattern": {
              "fillmode": "overlay",
              "size": 10,
              "solidity": 0.2
             }
            },
            "type": "barpolar"
           }
          ],
          "carpet": [
           {
            "aaxis": {
             "endlinecolor": "#2a3f5f",
             "gridcolor": "white",
             "linecolor": "white",
             "minorgridcolor": "white",
             "startlinecolor": "#2a3f5f"
            },
            "baxis": {
             "endlinecolor": "#2a3f5f",
             "gridcolor": "white",
             "linecolor": "white",
             "minorgridcolor": "white",
             "startlinecolor": "#2a3f5f"
            },
            "type": "carpet"
           }
          ],
          "choropleth": [
           {
            "colorbar": {
             "outlinewidth": 0,
             "ticks": ""
            },
            "type": "choropleth"
           }
          ],
          "contour": [
           {
            "colorbar": {
             "outlinewidth": 0,
             "ticks": ""
            },
            "colorscale": [
             [
              0,
              "#0d0887"
             ],
             [
              0.1111111111111111,
              "#46039f"
             ],
             [
              0.2222222222222222,
              "#7201a8"
             ],
             [
              0.3333333333333333,
              "#9c179e"
             ],
             [
              0.4444444444444444,
              "#bd3786"
             ],
             [
              0.5555555555555556,
              "#d8576b"
             ],
             [
              0.6666666666666666,
              "#ed7953"
             ],
             [
              0.7777777777777778,
              "#fb9f3a"
             ],
             [
              0.8888888888888888,
              "#fdca26"
             ],
             [
              1,
              "#f0f921"
             ]
            ],
            "type": "contour"
           }
          ],
          "contourcarpet": [
           {
            "colorbar": {
             "outlinewidth": 0,
             "ticks": ""
            },
            "type": "contourcarpet"
           }
          ],
          "heatmap": [
           {
            "colorbar": {
             "outlinewidth": 0,
             "ticks": ""
            },
            "colorscale": [
             [
              0,
              "#0d0887"
             ],
             [
              0.1111111111111111,
              "#46039f"
             ],
             [
              0.2222222222222222,
              "#7201a8"
             ],
             [
              0.3333333333333333,
              "#9c179e"
             ],
             [
              0.4444444444444444,
              "#bd3786"
             ],
             [
              0.5555555555555556,
              "#d8576b"
             ],
             [
              0.6666666666666666,
              "#ed7953"
             ],
             [
              0.7777777777777778,
              "#fb9f3a"
             ],
             [
              0.8888888888888888,
              "#fdca26"
             ],
             [
              1,
              "#f0f921"
             ]
            ],
            "type": "heatmap"
           }
          ],
          "heatmapgl": [
           {
            "colorbar": {
             "outlinewidth": 0,
             "ticks": ""
            },
            "colorscale": [
             [
              0,
              "#0d0887"
             ],
             [
              0.1111111111111111,
              "#46039f"
             ],
             [
              0.2222222222222222,
              "#7201a8"
             ],
             [
              0.3333333333333333,
              "#9c179e"
             ],
             [
              0.4444444444444444,
              "#bd3786"
             ],
             [
              0.5555555555555556,
              "#d8576b"
             ],
             [
              0.6666666666666666,
              "#ed7953"
             ],
             [
              0.7777777777777778,
              "#fb9f3a"
             ],
             [
              0.8888888888888888,
              "#fdca26"
             ],
             [
              1,
              "#f0f921"
             ]
            ],
            "type": "heatmapgl"
           }
          ],
          "histogram": [
           {
            "marker": {
             "pattern": {
              "fillmode": "overlay",
              "size": 10,
              "solidity": 0.2
             }
            },
            "type": "histogram"
           }
          ],
          "histogram2d": [
           {
            "colorbar": {
             "outlinewidth": 0,
             "ticks": ""
            },
            "colorscale": [
             [
              0,
              "#0d0887"
             ],
             [
              0.1111111111111111,
              "#46039f"
             ],
             [
              0.2222222222222222,
              "#7201a8"
             ],
             [
              0.3333333333333333,
              "#9c179e"
             ],
             [
              0.4444444444444444,
              "#bd3786"
             ],
             [
              0.5555555555555556,
              "#d8576b"
             ],
             [
              0.6666666666666666,
              "#ed7953"
             ],
             [
              0.7777777777777778,
              "#fb9f3a"
             ],
             [
              0.8888888888888888,
              "#fdca26"
             ],
             [
              1,
              "#f0f921"
             ]
            ],
            "type": "histogram2d"
           }
          ],
          "histogram2dcontour": [
           {
            "colorbar": {
             "outlinewidth": 0,
             "ticks": ""
            },
            "colorscale": [
             [
              0,
              "#0d0887"
             ],
             [
              0.1111111111111111,
              "#46039f"
             ],
             [
              0.2222222222222222,
              "#7201a8"
             ],
             [
              0.3333333333333333,
              "#9c179e"
             ],
             [
              0.4444444444444444,
              "#bd3786"
             ],
             [
              0.5555555555555556,
              "#d8576b"
             ],
             [
              0.6666666666666666,
              "#ed7953"
             ],
             [
              0.7777777777777778,
              "#fb9f3a"
             ],
             [
              0.8888888888888888,
              "#fdca26"
             ],
             [
              1,
              "#f0f921"
             ]
            ],
            "type": "histogram2dcontour"
           }
          ],
          "mesh3d": [
           {
            "colorbar": {
             "outlinewidth": 0,
             "ticks": ""
            },
            "type": "mesh3d"
           }
          ],
          "parcoords": [
           {
            "line": {
             "colorbar": {
              "outlinewidth": 0,
              "ticks": ""
             }
            },
            "type": "parcoords"
           }
          ],
          "pie": [
           {
            "automargin": true,
            "type": "pie"
           }
          ],
          "scatter": [
           {
            "fillpattern": {
             "fillmode": "overlay",
             "size": 10,
             "solidity": 0.2
            },
            "type": "scatter"
           }
          ],
          "scatter3d": [
           {
            "line": {
             "colorbar": {
              "outlinewidth": 0,
              "ticks": ""
             }
            },
            "marker": {
             "colorbar": {
              "outlinewidth": 0,
              "ticks": ""
             }
            },
            "type": "scatter3d"
           }
          ],
          "scattercarpet": [
           {
            "marker": {
             "colorbar": {
              "outlinewidth": 0,
              "ticks": ""
             }
            },
            "type": "scattercarpet"
           }
          ],
          "scattergeo": [
           {
            "marker": {
             "colorbar": {
              "outlinewidth": 0,
              "ticks": ""
             }
            },
            "type": "scattergeo"
           }
          ],
          "scattergl": [
           {
            "marker": {
             "colorbar": {
              "outlinewidth": 0,
              "ticks": ""
             }
            },
            "type": "scattergl"
           }
          ],
          "scattermapbox": [
           {
            "marker": {
             "colorbar": {
              "outlinewidth": 0,
              "ticks": ""
             }
            },
            "type": "scattermapbox"
           }
          ],
          "scatterpolar": [
           {
            "marker": {
             "colorbar": {
              "outlinewidth": 0,
              "ticks": ""
             }
            },
            "type": "scatterpolar"
           }
          ],
          "scatterpolargl": [
           {
            "marker": {
             "colorbar": {
              "outlinewidth": 0,
              "ticks": ""
             }
            },
            "type": "scatterpolargl"
           }
          ],
          "scatterternary": [
           {
            "marker": {
             "colorbar": {
              "outlinewidth": 0,
              "ticks": ""
             }
            },
            "type": "scatterternary"
           }
          ],
          "surface": [
           {
            "colorbar": {
             "outlinewidth": 0,
             "ticks": ""
            },
            "colorscale": [
             [
              0,
              "#0d0887"
             ],
             [
              0.1111111111111111,
              "#46039f"
             ],
             [
              0.2222222222222222,
              "#7201a8"
             ],
             [
              0.3333333333333333,
              "#9c179e"
             ],
             [
              0.4444444444444444,
              "#bd3786"
             ],
             [
              0.5555555555555556,
              "#d8576b"
             ],
             [
              0.6666666666666666,
              "#ed7953"
             ],
             [
              0.7777777777777778,
              "#fb9f3a"
             ],
             [
              0.8888888888888888,
              "#fdca26"
             ],
             [
              1,
              "#f0f921"
             ]
            ],
            "type": "surface"
           }
          ],
          "table": [
           {
            "cells": {
             "fill": {
              "color": "#EBF0F8"
             },
             "line": {
              "color": "white"
             }
            },
            "header": {
             "fill": {
              "color": "#C8D4E3"
             },
             "line": {
              "color": "white"
             }
            },
            "type": "table"
           }
          ]
         },
         "layout": {
          "annotationdefaults": {
           "arrowcolor": "#2a3f5f",
           "arrowhead": 0,
           "arrowwidth": 1
          },
          "autotypenumbers": "strict",
          "coloraxis": {
           "colorbar": {
            "outlinewidth": 0,
            "ticks": ""
           }
          },
          "colorscale": {
           "diverging": [
            [
             0,
             "#8e0152"
            ],
            [
             0.1,
             "#c51b7d"
            ],
            [
             0.2,
             "#de77ae"
            ],
            [
             0.3,
             "#f1b6da"
            ],
            [
             0.4,
             "#fde0ef"
            ],
            [
             0.5,
             "#f7f7f7"
            ],
            [
             0.6,
             "#e6f5d0"
            ],
            [
             0.7,
             "#b8e186"
            ],
            [
             0.8,
             "#7fbc41"
            ],
            [
             0.9,
             "#4d9221"
            ],
            [
             1,
             "#276419"
            ]
           ],
           "sequential": [
            [
             0,
             "#0d0887"
            ],
            [
             0.1111111111111111,
             "#46039f"
            ],
            [
             0.2222222222222222,
             "#7201a8"
            ],
            [
             0.3333333333333333,
             "#9c179e"
            ],
            [
             0.4444444444444444,
             "#bd3786"
            ],
            [
             0.5555555555555556,
             "#d8576b"
            ],
            [
             0.6666666666666666,
             "#ed7953"
            ],
            [
             0.7777777777777778,
             "#fb9f3a"
            ],
            [
             0.8888888888888888,
             "#fdca26"
            ],
            [
             1,
             "#f0f921"
            ]
           ],
           "sequentialminus": [
            [
             0,
             "#0d0887"
            ],
            [
             0.1111111111111111,
             "#46039f"
            ],
            [
             0.2222222222222222,
             "#7201a8"
            ],
            [
             0.3333333333333333,
             "#9c179e"
            ],
            [
             0.4444444444444444,
             "#bd3786"
            ],
            [
             0.5555555555555556,
             "#d8576b"
            ],
            [
             0.6666666666666666,
             "#ed7953"
            ],
            [
             0.7777777777777778,
             "#fb9f3a"
            ],
            [
             0.8888888888888888,
             "#fdca26"
            ],
            [
             1,
             "#f0f921"
            ]
           ]
          },
          "colorway": [
           "#636efa",
           "#EF553B",
           "#00cc96",
           "#ab63fa",
           "#FFA15A",
           "#19d3f3",
           "#FF6692",
           "#B6E880",
           "#FF97FF",
           "#FECB52"
          ],
          "font": {
           "color": "#2a3f5f"
          },
          "geo": {
           "bgcolor": "white",
           "lakecolor": "white",
           "landcolor": "#E5ECF6",
           "showlakes": true,
           "showland": true,
           "subunitcolor": "white"
          },
          "hoverlabel": {
           "align": "left"
          },
          "hovermode": "closest",
          "mapbox": {
           "style": "light"
          },
          "paper_bgcolor": "white",
          "plot_bgcolor": "#E5ECF6",
          "polar": {
           "angularaxis": {
            "gridcolor": "white",
            "linecolor": "white",
            "ticks": ""
           },
           "bgcolor": "#E5ECF6",
           "radialaxis": {
            "gridcolor": "white",
            "linecolor": "white",
            "ticks": ""
           }
          },
          "scene": {
           "xaxis": {
            "backgroundcolor": "#E5ECF6",
            "gridcolor": "white",
            "gridwidth": 2,
            "linecolor": "white",
            "showbackground": true,
            "ticks": "",
            "zerolinecolor": "white"
           },
           "yaxis": {
            "backgroundcolor": "#E5ECF6",
            "gridcolor": "white",
            "gridwidth": 2,
            "linecolor": "white",
            "showbackground": true,
            "ticks": "",
            "zerolinecolor": "white"
           },
           "zaxis": {
            "backgroundcolor": "#E5ECF6",
            "gridcolor": "white",
            "gridwidth": 2,
            "linecolor": "white",
            "showbackground": true,
            "ticks": "",
            "zerolinecolor": "white"
           }
          },
          "shapedefaults": {
           "line": {
            "color": "#2a3f5f"
           }
          },
          "ternary": {
           "aaxis": {
            "gridcolor": "white",
            "linecolor": "white",
            "ticks": ""
           },
           "baxis": {
            "gridcolor": "white",
            "linecolor": "white",
            "ticks": ""
           },
           "bgcolor": "#E5ECF6",
           "caxis": {
            "gridcolor": "white",
            "linecolor": "white",
            "ticks": ""
           }
          },
          "title": {
           "x": 0.05
          },
          "xaxis": {
           "automargin": true,
           "gridcolor": "white",
           "linecolor": "white",
           "ticks": "",
           "title": {
            "standoff": 15
           },
           "zerolinecolor": "white",
           "zerolinewidth": 2
          },
          "yaxis": {
           "automargin": true,
           "gridcolor": "white",
           "linecolor": "white",
           "ticks": "",
           "title": {
            "standoff": 15
           },
           "zerolinecolor": "white",
           "zerolinewidth": 2
          }
         }
        },
        "title": {
         "text": "Label: Abomasnow"
        },
        "width": 500,
        "xaxis": {
         "anchor": "y",
         "domain": [
          0,
          1
         ],
         "showgrid": false,
         "showticklabels": false,
         "visible": false,
         "zeroline": false
        },
        "yaxis": {
         "anchor": "x",
         "domain": [
          0,
          1
         ],
         "showgrid": false,
         "showticklabels": false,
         "visible": false,
         "zeroline": false
        }
       }
      }
     },
     "metadata": {},
     "output_type": "display_data"
    },
    {
     "data": {
      "application/vnd.plotly.v1+json": {
       "config": {
        "plotlyServerURL": "https://plot.ly"
       },
       "data": [
        {
         "hovertemplate": "x: %{x}<br>y: %{y}<br>color: [%{z[0]}, %{z[1]}, %{z[2]}]<extra></extra>",
         "name": "0",
         "source": "data:image/png;base64,iVBORw0KGgoAAAANSUhEUgAAAGAAAABgCAIAAABt+uBvAAAkTklEQVR4XuWc+ZNdx3Xfz+m+b7lv39fZFwx2EgQIAlxFUotFWpRKtmMrjuNUUlkqqfyQpPInpFIp/5AqJ47iRFZiJS7bFLVTMiiKO0UCIEHswGAwM5iZN2/m7ftyt+6TH94DZsGAWDQAWZVPoVD17uu+993vnD73nO7TF4kI7p6f/Ozn//F7L3/iicuBUdR1cnvJ7cVynlVLpLpkJImWgcVV1DVQ3aTY+NxlkR62dj4EjAMRVoqO079+0qc8f2Dv177ypd27diLi5mt8PlA2H7gzXC6XV5q2Ut5Q3VgrI5EcHCO7kwCwlENhyXAC/WFWzmEpx3SNGAIRtpvk8gJj5A8aew69c+Xshb/9caVU/sZvf3Xn1I5QKLT5Mp8D8N4sSNO0v/jf/+dPf/SL+aHd1s6HwGYHAmAMeoZABEAACACACEJgvcLKeVAUGU2R29s/WC3ZLp+2Xzp1eDD2b/7Vv3j+uWdVVd14nc8etvnAneFwOL70/LNf2DXuX55lxRwAAOd9dQAAEZABYv8I5+QLyHAc201WLoBl9g9G4sbBJ7Ujz5/vyGPvfnDuwsVGsyml7J/k88E9CoSIg4MDL3zx2YdVdF49j40afLolKjYKRsjtZcUVViuvNXZ5rD0HK7sffXO5/Od//crxEyc1Xd/Q8bPmHn0QAKhO52OPHrp08fLSL15fmA2Yew+BQ10zoq0QA2NYr7KVRXK6yO0FxgAAuCKGJ2fyrrlT77UajUq1+vhjh4eGhjZ3/oy4RwvqkYjHX3zhK4dH0q7ZC3w1A8ICywJh9Q1ECDB0sK5/RASbXUzsAUVhq0vQbUNvNCGCyyOGxsWBx3+6VPq3/+FPvvdXf3358nSz2Vx/rc+Ke3TSPYio2+3+3Wu//M9//t2PlYC5/zAwhq0GEJEvQA4V2y3stgEA7HZyukh1k9OFjQor5Uj1yGgCnK41oyPCesV54aORZuGpHSN/8I2vHT50UFVV1jO0z4h7H2K6rq/mCx99cqZjQXT3fnZ5nueWyR9k1RLWyjKalOkRQGCNKqtXQEqy28njly4PMMaadSgXkKRIDoHN3tcIkQLh7iNPzsxebM1d03/0s1a788SRw5/t4/8eLaharZ2/PP3ar0/8+MNT1wS39h4S/jBapowmKBDBTgu6bbA7SXWBzQ6dFivlWGGFlXJs7hLqOrncYJkyHDf3HqJIYoPnIsJ2k61m+PmTR/y2b73w5eeffWZ4aMhut6+1eYDctUCmaWaWs2+998GrJz45XtNK6QkxtZ/8wf5zfUuIwNCxXmH5LF+aJc4pFMNqkS3OyljK2nWAvP7NXaRky9fsp94N5hb+6KWv/vN/+k9GR0c/k2j77oZYo9H45MzZH/7k1TdnlhbjI52HH5XpEXDeOrojAgBs1lhumeUyYJrW/sMylgZhQaXIbQ6emeOzF8XQBPkCYFtnI4zJwTFDiuqb5TfffvepJ58YGRn5vAuk6/obb73zp9/57ifldvfwc9beR8kfAs43t1uPEKy4wpZmUeuCacrEgAzHwe4AncChiqn9FI7x+Wll7pIYnpTh+KZok8JxSgy0y0umZX1WrvpOBWq12pevzv7lq8c+bIP11W+JHfs2/MFvhgj0Ls/M85lz5PKKyT1gmiy/zEp5mR4BkgAEiDIcJ8XGM/OsuEoOJ/mC68cpOVWRHPK5GOfcMIzPxA3dkUC5XO74iY9+/tGZM9xvvvCMHJ4AdhvDgU6LL8/zi6colrL2P0a+ACBDXWO5ZXJ7yeXpt2SMfEGZHGTL8zy7IBgnr39NI8UGNnu+VL46O3f0scPRaPT6BR4cd2S37//6w//yP7/7w3MzywM7ZGoYuHJLfwwAUmKjyq9dYUtzcmyn9fDj5A8C44AoxneRorDledDaa+05l9EkhWJYzvO5S9ioriUiiORUc/Vmpda4u0fJ9nEbgYiIiObmFy439GZsUIbj4HDc+A4sC4RYux8iIMJKgS3MYL0iB0atyX092+k3sNnlyA4Qgq1mwDTWOgKIgVE5OM5KOb4wA912/ysiGQgr/qDP43HeuO6D5TZDrNPpnL946cTlK5WxvRQIY6tO4RhoTdaogRBg6thqACKpbnB5yOXFWoktXwOuyKEJGU+B07XphOQLUiCMhSwCkC8AcD044IoYHCOu8Ow1vpoRg2N9H8c4sztm5+eXl7O7d/s2nOuBcBuBlpYyf/Jnf/6LhYL1pSNgWaxcYI0a5pd5Zh4sC6TgK4ugaxSMyGhSRhI8e02M7jSf+DL5gv1cdBOKIsMxXsiySlE4nBsUVGwynka9i40Kq/llJA6MA4LGbbPZ1UKxuBt2rTV+UNxGoOWV1SLYxM6HZDDKamV+9rhy8WNsNUFaaFkA0BskrFHli1cBgBSbDEaxUSWXBxzODefqQQSqmwIRNneJqS6Z2GhidoeMpZVamZVy0hcAh0qqhwLhaNjuDwSI6MGHQlv9kdexsrJacnrlxB7UOsqFj5WLH2OlCIbWUwcAEHrzhtexTOXcCdt7x9jKYn9ibDMEUshQFOxOtprBZm29JwJE8vpJsWG1hJ02AIDDCQ7naqGYLxSs6xd9kNxSIClltVq9MnO1YHPLxCBfnOXnT2C9ekMROzKVcb5RHwTARlWZPqNc+gRr5f6Exnqk7E2AWGNTaJl8YQa07gaNAGQ4jqbBGtX+R4//9NW56Zmr4uaz3X9uOcSazebfHTv21vGTjd1PgpRsaZYVVkEKAGCAUbtzwh2I2lVdipqp1yy9oHfrlm4RoZRQLijnTshYyvL4NyciUoJlAklQ3WJ0J8vM8vyySA4CU0Ba2O2AEAAAlgmGDgBARMGIPRStlMrVSiWZTG442/3nlgItLi7+zcuvnM7m6YBTmb3AVxZRCgBw2+0T0cQXU2MHbb5hsLuYUjK6c536u5WVdyrZVa0jgVBYbGlOOfOhTAzKgdENQVNvUo0IAGQogtUilvMcgBBRSuy0QQqy2cjjA66AZYLNTjZ7m9ne+vDEM089/jkSKJNZLtUblBwCKfmVc1jOA4BPsR8anfyDL3/l6Z17nDNZc3qBNMOtehMOV9SuOhg/Vlxc1TsAAMLiV87xyb0yllrz1v3QyexFTL3okTVqknFE6E2hEVeAM9S62G6grpHNTqqboinRLTSarW63+4BXPm4t0HKmWG/S5BR222xpDjstANjtC//+408/940XwulkmZ2sX8uwtulg3M74Xm/Yq9hblvmL4kJbWAgAWpfPnJfhmEwOk+oCuwOQgWWCkCAlmAarV1g5Ty63TA7KUAxstr5/I2KNGjlVstkAAFSXDEfPvXvy1OkzTxw98rkQSAiRySxXqnUIRbFZZ/ls75G0yxt6dMdUaDDFgr7LoB8vLthL9Ul3YNId8Cn2lNN90B890yjOduoEgIbGsgt85jx22+QNklMFZKR3wTJBWKzVYIUs+YLW8A5wX0/NelgWAJHDCYqtd0DG0iIUr7c6nW53Q8v7z9YCdTVN1w1QFHCqWMphpwVECrKEXQ1IJhrtitb5+emP/u+5D0AzHg8m/nhg1wFf1MF41OEK2pwcmxZJAKBQTI5MyVAUDL1/HkPHehVNXbo8IjUio0mw35RDCEvEBwARdA1cHgAgt1dGEh9dnL4yc3VkeHhz+/vJ1gIhwJ69e4auLF40TWCcnCprN0M2R9SmwoX5AonXm/l3332/1W4DwNlmeVVvH8QoEY2o3rhj3RDQ2thuQCxFvqCMxKHTZqtLyuoSENHwZF+dm2M/RQGbHVt11Lr9vN9mt8Z21hetYrX2gN3Q1gK53e5UKuX1+8Eyye0FlwfaTY9iA6JOrlwsl05eO5ddWEAABHQzRWUKR0ZEDsYJoG8+AKxcUD58g0+fkYEIef3SF8ROU4bjMjEoI/FbzihxBZt17LbXkhVE8vjKzH7i3MWH9+zeObVDUbb+5dvOLS9TqVbbywuYVikQIbeXSvmGaSx0GzWt4zH4I4o354sudhsebj/ojw6pXgAwSS51myVDu3ESbFR5vYJEAECIMjVsPnTE2vkQ+YI32mwJqxTI4aR1xkjeYNUVePPjs4/sGB8eGvR6veua30duKdDI0GDC57nUbppju2Q0ybILJVM70ygdDSQf9kWeCqaCNkde70bsziHVm3S4iCjTbb1fXV3WWr0zIMCGSJoI201ApJudziYMHbtt8m4MMjkXA6Nz89PXsjndMB6QPJ8i0P59+8ZGR97+4DTsfVQmBsl5FkzjeC03pHqdnA+r3ieDKQkEBAyRgGqW/l5l5VelTKEXB90EAkC7yXLLOLqTPnWRmjWqoNjI49vUhvwhGJ5YarQLhVIkHF7/1f3jlrmYaZrpZCJhQ1YtyYFRmR4Bzg0p3yov/1X2yif1YtXUBZFBMqd3plvVY8WlY6XFhU7DoFtmTGgaICwUFphGL2vZAiKsV0hRpGujlSAC42Ys9ctz0z977VfFUnnDt/eNW1pQIBD43d/55mK5/nKhWh8YFRO7WX4ZqqVVrf12OVuzjH2tStLhQsDZTm2p2zrfLN8YXIQIyIBkz/vcgBDJ6weSPDMHQpDXL/1hcKqA1wtliMDQWCkP3Ebum4YR5xSMlFT/y8deH0rGvvbiCx6Pe3Ob7eaWAgHAxMT4o3t3vfX6B3VTF+N72NKc0mpI0yiZ2q9KmV+VMi6u+BR7R1gty7hhNsQ4+QLSF8RWg9XKvQyOoFclFJLRJDmcPLvASjnpD8EQkTdANhsaOrZboChYK/OVRZEeoU3RIwAAkMcvxndNv3fthz99dWRo8NChg7ZetH3f+DSBAMDncfuqeb40Zz181Dr8BXA42coiq5V7tRkdYXXEhjkaUmwyGLEm9ojRKVYpKDPnWaWIWheIZChiTe4TqWEKRMyDT4FpYL3CGlVWXCWnCoCsnAeuYL0CpiFDUVgfT61DJgbMkakPL544febMvn17P2OBnnn6ybMXLq6cvJAbHLcOPC4mdvPZS8q5k3z+MtbKZJk9L0qMAQCpHplIW2O7xNhOGUmI4QmZGGTZBZ5bBiAxNGmN7qBAGBCBCCwTO21WLfXmg2RyyIomeT7LqkUZipLqBkMDxoErm6duFZtMDVevXihV64ax5ZzcdnIbgYKBwFe//MUrC0u/vPRxIxihaNLasY88PpEeYfksq1ewXsFqidweGYzK5KAYmpDRJLk9vWpWkR6RoZgYnkRDl8EI+YLAORCB1mHFVWy3RCRB4Xjf3UhJhRVWygEyCseAK+T2kNMFim3NSQEAoowkcHji1JW5s+fOP370Mcf9XPC4jUCKouzZtevLTx1dfOUnF06+1d13mAJhkRoRg2PAODbrbP6ycu6kDEWtfY+S2wvI1hajEXuzOeTx8YUZ7LbJHwIi0DVWyoEkmRwkt7d//0RYLSqLV1l+hfxBJECnCg4nSInFVWw3QLFJX7A3T0SqWxuc+OjiiTff/2B8fHRocHDDj95WbiMQAPj9vmefftrQtB+++f4nH/6yPnVAJgZ6eTYhk9GkmNhNLg+pnlsuKJIERJASTB0NAytFFJaMxMnj75sGSei0bZdOK1fOgrDMw89aT3yJFDsIE7sdVljhy9fAMkU0KZLD5A+CYpOJgdLKwnSuVCpXBtLp+7dyfxflL6+9/sZ/+vZ3jhuKvu+wjCb7hU+WxRdm0NDE4Bh5A5v7XAfrFaxXgCvYbaOuieQQBSN9NaWEblu5esF+/A1WysmBMf2lPxJ7Dm7QutVgpRzLzGOtLBIDMp4GrrDstcc7hZcmki88/+zU1NR9ys7u4qTPPPXE1asz5lsfXF24VJRCpoaBcVAUAMJ2EzWNPLS1BQGAZbFqGTgnt1cMjq3lYqbJ6mW+OKucPc6KOfL6rR37ZDS5+Txur3R5gHGlWVOuXZG1sgyESXWfnCuf/sn3bSQnJibuk0B3YZkOh+Nrv/3iv//jbz3tYcGrZ20LM9iogRAykgAArJVvsc4DAEDBMFomdtsyFCXP9QXSTpsvzdo+etf+/jGemQMpZCQhR6fIF1jfF6AXRjM5OGY8/QKoLvuJt+wn3uIrS9Ifcg6MdgzRbPVj1G3nLlRHxOGhoVAoBAi+nx976+x7mVBajO0il4cUG3aarFKU/hA4nJv//gAACLpGqotUNxCAsLBeUWYvKlfOsZUl7LYBEWwOGU+LWApst3gqIYLHZx16GrsdrBRZo0aK0lHsP3/r3R3jY1/9yhfd7u0PrO9CoB5ej+elF1/YtWNH6m+//+Hl2VppvsIdZcBus8kqBZEakckhcqr9CWYpQVg9N0xePygKNmusWcd2k89fVq5ewFYDpARkMhwFu6MfAQEA3XK0ylja2v0Inz4LDgdaJiG/upj5xbFjI8MDD+3fv+1x410L1GNycuLf/et/mVnOLiwuLSwu/eqttz84e6EpEVeWZGqIAhFS3f0kq9tGQwdAVq9gvcxnLrBKgZVyqHVQCLieoFm7DoCU0uMHIjAN4M5e/r8FnMvhCVYtElcoFAXF3i7n3//wxK6pyVQqlUwktnd5+h4FAgC/3+/3+/fu2Q0Au6cmY99/ZWZ2rt5sr5z/oNXWKD4Abi8hYrfNiqtomaTY0DTA0NdnsMQ5+cPW+C6RHkWtQy4PGDpoHeAcbLa1upmNkMcvBsb4/LS0O8xnXiSbbfntV3927PW9+/ZFI5HtNaJ7F2g9zz337EMPP7RwbWFubu47f/EX7527JPYeYvUKK+WACA0dDJ3B5gUJcjhFfMCa2id27CdkrFoEhxOkAF0DxgDcayXUNyGTg2w1w1aXRTBqPfw4q1VOnXrnb3/4YynkIw8/lEwmNne4V7ZHIAAIh0LhUGhiYvz19379Thvljn3s4imRHpW+ADmcfGkOu+01y0Ekb0CM7DD3HBRD4+B0YbPWX+QhAilA6wIyYAy40mt/o2v/o80hB8f41fOskBXDk9bDR7Hd/P77p47PZ//Z3/vGbz/zRDqV2hafvW0C9VjOrpS5Kg8/R74gSEmKIsZ2ymjSdu4Ezy5At4PCIrdXur1iaMKa2k/BaC81IZsddA1s9v6wElZ/oDldm5PVHpzLQJh5A9hqoqGLoQkwDe4PZhn77rsfZxYW//CbLz20f5/tNw6OftP+m1jOrhTBRvE0dNvYqDLFBoYuU0OGP4iVEquVUOuKeJqCEXI4wX49ICACItaoSrt9LZWzTOi2ARk4nFsXG3v9MhTjy/NYLdHAmNixD03dWLx6VZPa+SvpxPF0KpWIx35Dn73NAmWzKwWJxDi26iCs6zeG5PGTxy+HxgEAek56/e9GZO0m6trmoWToQAQk+3Z0063KsZ2sWmSFFRmOg9trTe611atYr2S09k/efn/P5MQXn/vCb+izt7Lee0UIsbyyWiSO9QpoHam6yea4sXy8Bq6bu7iB1iXFRoqtX/5yA9OATgu0zoZq0XXI5BBqHZ6Zg24b3F4xtpMcKgQiJxdWXn7lB3Nzc5s73CXbKVCj2cxWai1iLJfBepVUN0gBprG53ZYoCkjBVzOsUljbcdbDMqHTAq29+TgAAJDThc06v/Axn7sMnbaMJCgYIYeKsdRbH58+febspvZ3y3YOsWx2paiZ2G2DZUrVDf4gq1dYqyEit3voEpHqxlYDtQ4wDromI4m1lKUXOhIBMnCqvaKZfkdEcnulP8zrFZ6ZA8Um0yMyluTNGgUiDiZa7W6j0fD57r08djstKJNZLuZymM9Sb4dqb7OcZd78Z98CroCiiPHd0hdgqxlWXAGts4Udddr9+qsbXzmc5HKLgTEZS7PsNT57EZD1io2X29qJs+dWV3NrJ7l7ttOCms2Gns8y7rWm9kt/iDdrwDiaJljmFiUc60EEQwNEQCaGxrHV4LlllFIkBjdUN5gGWCZIAaq779oQAYACIUCUQ+Os6GfXppmhY6VIbo+IJBuGaLbaQgi+5XPwDthOC5oYHxtIJiia7N0YeXwgLGzWYOPKx60guwOMLloWeQPk8WKzzsqFfqXiWiMCrQPtBhjaDTuicAL1LtYqYnRKjO/GRpVn5tDQifPTZ8698/6vy+XKhpPcDdsp0Nj4eCyRlEIASQCQvhAwBkRbPMhuojefzZoNMA2wO0QsTS43yy2x4iqYG6eZhABNg04b9G5/7Z8ITAP1LjAmU8MymiSnC8t5cqqr3Pmr9z6cmb33Z9l2ClQsFputppLPsHIBEIEkOVTUOr3yvdvgUIErIKz+Pbs8IjVCqodnF1g5D3LjM54kaB1oNaDbBsskh4OCUTAN7LTA5ZFju2Qsic062J1WfGC52VkpFO95gWg7BVKd6mAyHvS4gSQQAefkD7JamZXzm5veDJEMhLDbZvXri+5OVUzsJtXNVhax2djQuIdpQKsB7RYgA2FhvQpaFwDIF5DJIRlNYL0CUja9ocuZbC6fu/PZ9/Vsp0ADA+mdO3f5/X60LJACHKr0BsipgmV9ymxsH0QZigHj2G6u1TUoNjE0jiRZfrkfVW9CCtA70GlJXxAYw942oZ7n9odBSgqGV12Bn7393smPT2naWuHSnbOdAkkpl5ezlSuXbtTYk8cHWpeV82DcLlxEBM7JqaLW7W+1BwAA8vhkJIHtJquVeq5tM0KA1iG3F6tFls8CSZACHE7pD5HLI+IDYnLv+ZXC5Sszxm1/w1Zsp0CtVnslX2jWG72pQgCQ8QHyBVDroridBQGQL0iqGxs1bLf6WiACV3pLTKxcwM71fWSbIIJOSwajxBi2mqDrhAy4IgMhCoRlesQ9PDE4NOz3+zd3vAO2U6DlbLbQNcTwBCBgqwEAICV5/NhuYO0OynkUG3n8qGvYqvddNQAgkssj42lsNVhx5ZYRg2Iju4NVilgrYbOGWgdMnVQ32R0ghT2eyre1Yqm0udcdsJ0CZbLZfLtDqhvbTey0gCQoihgcI5cX263buyEAMTROnLNyATZu7JGRhPQF2MoSqxS2NiJEcrmJMey0WG4Z6xVsVHsuiWyOss39/vnL164tbO51B2ynQMVCoZ5ZwE4TetOslgWIvfd1sHaj70E/BURgDOwOrJXZ+p2rAAAgBsdRCpZdAH1rX0v+MJgmlvJsZQG7bVYtY6tBQMAYMOx2O/VG4x7c0HYKNJBOxVUHBSJgs2Oz1kuayOvvuWrQutDff3dLyKmK1BAAYL26oUYPEewOEUtht8MqhbUBuB5Ecnmw1eDZBbAs1qyhaQBXwDSIK8dPnf7k9Gn97l9OtJ0CPXro0OSOSWjW0DTQ0LFXD8y4jCWBiDVqW9/YehgnXwgYY7USdjcmqza7DMcBGauVQde2NEYZiWGthKV8b2KEVBcoNjB0cnu5LxAMBFyuzXtob8t2CqTrRjQSjuqtXqEvq1X6OUcgDJxj78Y+HUQZCINDZcXczW+1In9IBsPYafXewLP+K4DeCOXEOLk8IIX0h6Q/DABgaKB1h9IDyWTqHlLW7RQoFAo++fjj46k4tptoGtioYqcNiKDYZHwALfNmz7IFTlWkh0FYWF/3Jq8eik1GEmAarFbaYvKMCBtVsDuk1w+IIj0sI3EAAENnucygV41E7qVyeDsFAgCnw+YFYW9WgXFWr7DCCpgGKDYZjgHnWKvAujr8WyFjafL4WKWI7Y2Wgkj+ECg2Viujvm6Vjfr79XlmHhhHIhCCAmFQ3QCA7Rbmlgf8nug9lVZvs0CHDx8+sHe3s5xDrUMeHyus8GvT2KiR2ytDMdassWrplhXSPRDJ7pDRJCuu8sXZzak84yKeBiGwUesfIQLTwFpJmT6LukYOB6kuGUmQ6gZEIGKVAltZHAj5PhcWZLPZfF6P2qqxlUWZGIBAWFma4wtXWLUk/UHiCjZqYN5ujtHuEIkB8vhYOY+N6gbXzjkFwsA5q1fA0EFK6HZYblm5fAaFJeNp7LRFLCWGxvtzLIbGV5e83eZAPH5vE6/bLBARPffcs888/ZQ3n1Gmz4pYytpzCHVNmT6rLMzw/DJfXWLV4m2DRgrHxegUELF6eZO7IZdHev3YbmKjhq06X57n2WvAuQzFQNeAcwrFwO4EACBi9QrLLQ+G/LFY9N7K9LZzyhUAOOc7Jidf+K2vLK7mzyxdJcUmhsZlOMaKOVbOo9YFIdjKEnCb9AdAsW+9akoEAGJoElsNrJUxGCFvABQFkIEQICywO0FU+MoCCAt1nQJhcnmxUkBhifSI7FUaA4BlKpWio1UbHh+MRiObLnKHbLNAAODxeJ544ugn5y/MnrqsOZys1ZD+kLX3EDldYJnYqrN6la0usew1cKikusjp6v0PnKPWBUMDrgDj2G4AIms1IHNNBsMoJSASIHZbqGusmMNuW6RHxMAYMMYXrwJjYmRH/wVOAADAKoVILee2cwRqNZv39gai7RcIAAYH0mPDA+5fnyxyRUZTWC0yrSNjaXJ7KRSTdgfvtvnqEnbbZOu9PtBFqhscKphG/8lls2O7CUKQ2wOcs1qZVYq99qDYUNdIdYnRKRmKoaHxuWlAtMb3yWgSei82IgIplMWrU7LjTEZOf/LJqVOnDj966PMiEACk06ko6UvXpuXAKEUS0KqzfBYURfqC5PVbux+xdj8CWpfVyqxWwmqJr2ZIUWQoRm4vtptgGiI1TMFwPyMHRMvEdgM7bXKoMhBG02DVIltdZK0GOV1iZIeMJtbUERavloLllcmRiK7yaQZ+n+8ewmi4fwI9/4UvXL54Ofs3P1idOWc98RVKDvLzH7HFaxhNCkRyuUGxg+qSqksmr5eB6xpIAYodFAUQgST0iswQgYjsDnJ5QOui3mXlPKuVsF4FRBFPy9TIpvfoYa3iX7i8y+uIRyNLS5mBdDoej99DGA33TyCXy/V7v/c7i9nsyx+errt91iNPWg8fheFJbDdR67BaGYQFio3sTnI6waGSQwWHszc0wLKAM0AGUvRnWhljjRroGmvWsV5GrSO9QTEwSr3a+/V7X4mw3bAtzox2ykd2jQQD/pmZmXQ6dc+v97pfAgHA0ODg11/8aqXeOJ6Zznt82p6D5A+RokCdsF7h+SzoGtgdZHeAzU4OlVxucrp6b6RAQwNAUhTUOthpg2LDRrW/CZpIjO0WycH+c+3GsmIP0+Czl5LZqw9PDe2cGK3VGpVKddfOqc+jQJzzQwcPej3exA9+9Or0maxp6GO7pMtNoZgIxcTkPuy0sF5htRIrF/jKIgGQN0BePzHGqmU0NOkPkeruFQnL1BCpbnJ5yePbOjiQErSOsnDVc/mTw+PJIwf2xqKR1VyhWCw9/dST0djnTyAACIVCR48eQYTwm2/PreQ/zFye9Ual20eqGzgnr5+8fjkwCgAgLGw1sNUAKcjpsnYdQMsCUwe7k1Q38J4iW9XN9BACW3U+P+346J2o7O4aPzI0kLbb7ZVqrdPpxGIx/z2F0XC/Bepx5MiRI0eOtDudb7/y05ffPTGvuCqJUQpGNtSNcYX8IfKH+h97i1i3kmM9JMGysFZW5qc9cxdsrYoaCthtdq/HU280V1ZWQ6FQPBa/tzAaHoxAPZwO5+8+8/iQV/3L195+98JJLZrq7SAj1dV/PK+X406kAQDTwHaLFVf43KVYvXhoNGVE3EuZ5eXsarVWX8pkAdgzTz89Pj62ueMd8+AE4pyNDA/5fN7Cai77v763ev6EunOfMbGnHoxrTo9cX8XRy7y2/HgjKbNMbDdZfpkvX2PXroypthefe+alF3+rUa/+1z/79pWZGX/Al8lkJyYm/+gPvzU2OtLvdfc8OIF6hILBL3/p+a6mnfjoYx2Z1lzNd2oFtNcVh+lwkbP3TwXOQUqwLCTZi57BMrFXMSSJNapYr7CVRVtm1tupT6ST/+Bbv//SS1+Lx6KMsXwu/z++892fvnqMM370yJHewc2/4465i/1i28ux117/xbHX5hcWnA67x+25vLh8pVjV3X4KxyAYYR4fUxRu6kzXDcZMhwulUDsNm7BAWLg0rxdzNssYDAcee+zQ3/+D33/s0UdvbMwsFov/7dv//c1339+/d88//kf/8MDDD2+48F3ymQlUq9WvLSz8zSs/WF1d3TExdubshXffe99hdyDjAb8vOjiIXj8yVKVF3U7LsDSmBD2uoENRgCrV2uXpq8lE4ve++dLXX/ra8MYX5liWtbi4tLK6Ojo6OpBOrf/qHnjQQ+wGgYB//7697W7njTff+dmrx6avXFEU/tyzz7TbHU3rTO0YCwb9brcrGPD7/T5DNyrVGuc8GPQ7nc6FhaVup/vII498/etfHx7avGFVUZTx8bHfxDGv5zMTCAA4508ePbp7asrvcb3xxpsOp/N3v/kNXdd/9JNXPzzx8cT4yOFDBwJ+v8/nZQwjkbCUQggppQiHgj6fL51KRcLXw4L7xmc2xNZjWVahUKhUKolEIhKJLC4u/uCHP17N5yfGx6Ymx4eGBhx2u2Gu0elqx0+cOnDgwLPPPLX5XNvN50KgzzP3/vz7/4T/B2jMwVQC6SmTAAAAAElFTkSuQmCC",
         "type": "image",
         "xaxis": "x",
         "yaxis": "y"
        }
       ],
       "layout": {
        "height": 350,
        "margin": {
         "l": 0,
         "t": 60
        },
        "shapes": [
         {
          "line": {
           "color": "black",
           "width": 2
          },
          "type": "rect",
          "x0": 0,
          "x1": 96,
          "xref": "x",
          "y0": 0,
          "y1": 96,
          "yref": "y"
         }
        ],
        "template": {
         "data": {
          "bar": [
           {
            "error_x": {
             "color": "#2a3f5f"
            },
            "error_y": {
             "color": "#2a3f5f"
            },
            "marker": {
             "line": {
              "color": "#E5ECF6",
              "width": 0.5
             },
             "pattern": {
              "fillmode": "overlay",
              "size": 10,
              "solidity": 0.2
             }
            },
            "type": "bar"
           }
          ],
          "barpolar": [
           {
            "marker": {
             "line": {
              "color": "#E5ECF6",
              "width": 0.5
             },
             "pattern": {
              "fillmode": "overlay",
              "size": 10,
              "solidity": 0.2
             }
            },
            "type": "barpolar"
           }
          ],
          "carpet": [
           {
            "aaxis": {
             "endlinecolor": "#2a3f5f",
             "gridcolor": "white",
             "linecolor": "white",
             "minorgridcolor": "white",
             "startlinecolor": "#2a3f5f"
            },
            "baxis": {
             "endlinecolor": "#2a3f5f",
             "gridcolor": "white",
             "linecolor": "white",
             "minorgridcolor": "white",
             "startlinecolor": "#2a3f5f"
            },
            "type": "carpet"
           }
          ],
          "choropleth": [
           {
            "colorbar": {
             "outlinewidth": 0,
             "ticks": ""
            },
            "type": "choropleth"
           }
          ],
          "contour": [
           {
            "colorbar": {
             "outlinewidth": 0,
             "ticks": ""
            },
            "colorscale": [
             [
              0,
              "#0d0887"
             ],
             [
              0.1111111111111111,
              "#46039f"
             ],
             [
              0.2222222222222222,
              "#7201a8"
             ],
             [
              0.3333333333333333,
              "#9c179e"
             ],
             [
              0.4444444444444444,
              "#bd3786"
             ],
             [
              0.5555555555555556,
              "#d8576b"
             ],
             [
              0.6666666666666666,
              "#ed7953"
             ],
             [
              0.7777777777777778,
              "#fb9f3a"
             ],
             [
              0.8888888888888888,
              "#fdca26"
             ],
             [
              1,
              "#f0f921"
             ]
            ],
            "type": "contour"
           }
          ],
          "contourcarpet": [
           {
            "colorbar": {
             "outlinewidth": 0,
             "ticks": ""
            },
            "type": "contourcarpet"
           }
          ],
          "heatmap": [
           {
            "colorbar": {
             "outlinewidth": 0,
             "ticks": ""
            },
            "colorscale": [
             [
              0,
              "#0d0887"
             ],
             [
              0.1111111111111111,
              "#46039f"
             ],
             [
              0.2222222222222222,
              "#7201a8"
             ],
             [
              0.3333333333333333,
              "#9c179e"
             ],
             [
              0.4444444444444444,
              "#bd3786"
             ],
             [
              0.5555555555555556,
              "#d8576b"
             ],
             [
              0.6666666666666666,
              "#ed7953"
             ],
             [
              0.7777777777777778,
              "#fb9f3a"
             ],
             [
              0.8888888888888888,
              "#fdca26"
             ],
             [
              1,
              "#f0f921"
             ]
            ],
            "type": "heatmap"
           }
          ],
          "heatmapgl": [
           {
            "colorbar": {
             "outlinewidth": 0,
             "ticks": ""
            },
            "colorscale": [
             [
              0,
              "#0d0887"
             ],
             [
              0.1111111111111111,
              "#46039f"
             ],
             [
              0.2222222222222222,
              "#7201a8"
             ],
             [
              0.3333333333333333,
              "#9c179e"
             ],
             [
              0.4444444444444444,
              "#bd3786"
             ],
             [
              0.5555555555555556,
              "#d8576b"
             ],
             [
              0.6666666666666666,
              "#ed7953"
             ],
             [
              0.7777777777777778,
              "#fb9f3a"
             ],
             [
              0.8888888888888888,
              "#fdca26"
             ],
             [
              1,
              "#f0f921"
             ]
            ],
            "type": "heatmapgl"
           }
          ],
          "histogram": [
           {
            "marker": {
             "pattern": {
              "fillmode": "overlay",
              "size": 10,
              "solidity": 0.2
             }
            },
            "type": "histogram"
           }
          ],
          "histogram2d": [
           {
            "colorbar": {
             "outlinewidth": 0,
             "ticks": ""
            },
            "colorscale": [
             [
              0,
              "#0d0887"
             ],
             [
              0.1111111111111111,
              "#46039f"
             ],
             [
              0.2222222222222222,
              "#7201a8"
             ],
             [
              0.3333333333333333,
              "#9c179e"
             ],
             [
              0.4444444444444444,
              "#bd3786"
             ],
             [
              0.5555555555555556,
              "#d8576b"
             ],
             [
              0.6666666666666666,
              "#ed7953"
             ],
             [
              0.7777777777777778,
              "#fb9f3a"
             ],
             [
              0.8888888888888888,
              "#fdca26"
             ],
             [
              1,
              "#f0f921"
             ]
            ],
            "type": "histogram2d"
           }
          ],
          "histogram2dcontour": [
           {
            "colorbar": {
             "outlinewidth": 0,
             "ticks": ""
            },
            "colorscale": [
             [
              0,
              "#0d0887"
             ],
             [
              0.1111111111111111,
              "#46039f"
             ],
             [
              0.2222222222222222,
              "#7201a8"
             ],
             [
              0.3333333333333333,
              "#9c179e"
             ],
             [
              0.4444444444444444,
              "#bd3786"
             ],
             [
              0.5555555555555556,
              "#d8576b"
             ],
             [
              0.6666666666666666,
              "#ed7953"
             ],
             [
              0.7777777777777778,
              "#fb9f3a"
             ],
             [
              0.8888888888888888,
              "#fdca26"
             ],
             [
              1,
              "#f0f921"
             ]
            ],
            "type": "histogram2dcontour"
           }
          ],
          "mesh3d": [
           {
            "colorbar": {
             "outlinewidth": 0,
             "ticks": ""
            },
            "type": "mesh3d"
           }
          ],
          "parcoords": [
           {
            "line": {
             "colorbar": {
              "outlinewidth": 0,
              "ticks": ""
             }
            },
            "type": "parcoords"
           }
          ],
          "pie": [
           {
            "automargin": true,
            "type": "pie"
           }
          ],
          "scatter": [
           {
            "fillpattern": {
             "fillmode": "overlay",
             "size": 10,
             "solidity": 0.2
            },
            "type": "scatter"
           }
          ],
          "scatter3d": [
           {
            "line": {
             "colorbar": {
              "outlinewidth": 0,
              "ticks": ""
             }
            },
            "marker": {
             "colorbar": {
              "outlinewidth": 0,
              "ticks": ""
             }
            },
            "type": "scatter3d"
           }
          ],
          "scattercarpet": [
           {
            "marker": {
             "colorbar": {
              "outlinewidth": 0,
              "ticks": ""
             }
            },
            "type": "scattercarpet"
           }
          ],
          "scattergeo": [
           {
            "marker": {
             "colorbar": {
              "outlinewidth": 0,
              "ticks": ""
             }
            },
            "type": "scattergeo"
           }
          ],
          "scattergl": [
           {
            "marker": {
             "colorbar": {
              "outlinewidth": 0,
              "ticks": ""
             }
            },
            "type": "scattergl"
           }
          ],
          "scattermapbox": [
           {
            "marker": {
             "colorbar": {
              "outlinewidth": 0,
              "ticks": ""
             }
            },
            "type": "scattermapbox"
           }
          ],
          "scatterpolar": [
           {
            "marker": {
             "colorbar": {
              "outlinewidth": 0,
              "ticks": ""
             }
            },
            "type": "scatterpolar"
           }
          ],
          "scatterpolargl": [
           {
            "marker": {
             "colorbar": {
              "outlinewidth": 0,
              "ticks": ""
             }
            },
            "type": "scatterpolargl"
           }
          ],
          "scatterternary": [
           {
            "marker": {
             "colorbar": {
              "outlinewidth": 0,
              "ticks": ""
             }
            },
            "type": "scatterternary"
           }
          ],
          "surface": [
           {
            "colorbar": {
             "outlinewidth": 0,
             "ticks": ""
            },
            "colorscale": [
             [
              0,
              "#0d0887"
             ],
             [
              0.1111111111111111,
              "#46039f"
             ],
             [
              0.2222222222222222,
              "#7201a8"
             ],
             [
              0.3333333333333333,
              "#9c179e"
             ],
             [
              0.4444444444444444,
              "#bd3786"
             ],
             [
              0.5555555555555556,
              "#d8576b"
             ],
             [
              0.6666666666666666,
              "#ed7953"
             ],
             [
              0.7777777777777778,
              "#fb9f3a"
             ],
             [
              0.8888888888888888,
              "#fdca26"
             ],
             [
              1,
              "#f0f921"
             ]
            ],
            "type": "surface"
           }
          ],
          "table": [
           {
            "cells": {
             "fill": {
              "color": "#EBF0F8"
             },
             "line": {
              "color": "white"
             }
            },
            "header": {
             "fill": {
              "color": "#C8D4E3"
             },
             "line": {
              "color": "white"
             }
            },
            "type": "table"
           }
          ]
         },
         "layout": {
          "annotationdefaults": {
           "arrowcolor": "#2a3f5f",
           "arrowhead": 0,
           "arrowwidth": 1
          },
          "autotypenumbers": "strict",
          "coloraxis": {
           "colorbar": {
            "outlinewidth": 0,
            "ticks": ""
           }
          },
          "colorscale": {
           "diverging": [
            [
             0,
             "#8e0152"
            ],
            [
             0.1,
             "#c51b7d"
            ],
            [
             0.2,
             "#de77ae"
            ],
            [
             0.3,
             "#f1b6da"
            ],
            [
             0.4,
             "#fde0ef"
            ],
            [
             0.5,
             "#f7f7f7"
            ],
            [
             0.6,
             "#e6f5d0"
            ],
            [
             0.7,
             "#b8e186"
            ],
            [
             0.8,
             "#7fbc41"
            ],
            [
             0.9,
             "#4d9221"
            ],
            [
             1,
             "#276419"
            ]
           ],
           "sequential": [
            [
             0,
             "#0d0887"
            ],
            [
             0.1111111111111111,
             "#46039f"
            ],
            [
             0.2222222222222222,
             "#7201a8"
            ],
            [
             0.3333333333333333,
             "#9c179e"
            ],
            [
             0.4444444444444444,
             "#bd3786"
            ],
            [
             0.5555555555555556,
             "#d8576b"
            ],
            [
             0.6666666666666666,
             "#ed7953"
            ],
            [
             0.7777777777777778,
             "#fb9f3a"
            ],
            [
             0.8888888888888888,
             "#fdca26"
            ],
            [
             1,
             "#f0f921"
            ]
           ],
           "sequentialminus": [
            [
             0,
             "#0d0887"
            ],
            [
             0.1111111111111111,
             "#46039f"
            ],
            [
             0.2222222222222222,
             "#7201a8"
            ],
            [
             0.3333333333333333,
             "#9c179e"
            ],
            [
             0.4444444444444444,
             "#bd3786"
            ],
            [
             0.5555555555555556,
             "#d8576b"
            ],
            [
             0.6666666666666666,
             "#ed7953"
            ],
            [
             0.7777777777777778,
             "#fb9f3a"
            ],
            [
             0.8888888888888888,
             "#fdca26"
            ],
            [
             1,
             "#f0f921"
            ]
           ]
          },
          "colorway": [
           "#636efa",
           "#EF553B",
           "#00cc96",
           "#ab63fa",
           "#FFA15A",
           "#19d3f3",
           "#FF6692",
           "#B6E880",
           "#FF97FF",
           "#FECB52"
          ],
          "font": {
           "color": "#2a3f5f"
          },
          "geo": {
           "bgcolor": "white",
           "lakecolor": "white",
           "landcolor": "#E5ECF6",
           "showlakes": true,
           "showland": true,
           "subunitcolor": "white"
          },
          "hoverlabel": {
           "align": "left"
          },
          "hovermode": "closest",
          "mapbox": {
           "style": "light"
          },
          "paper_bgcolor": "white",
          "plot_bgcolor": "#E5ECF6",
          "polar": {
           "angularaxis": {
            "gridcolor": "white",
            "linecolor": "white",
            "ticks": ""
           },
           "bgcolor": "#E5ECF6",
           "radialaxis": {
            "gridcolor": "white",
            "linecolor": "white",
            "ticks": ""
           }
          },
          "scene": {
           "xaxis": {
            "backgroundcolor": "#E5ECF6",
            "gridcolor": "white",
            "gridwidth": 2,
            "linecolor": "white",
            "showbackground": true,
            "ticks": "",
            "zerolinecolor": "white"
           },
           "yaxis": {
            "backgroundcolor": "#E5ECF6",
            "gridcolor": "white",
            "gridwidth": 2,
            "linecolor": "white",
            "showbackground": true,
            "ticks": "",
            "zerolinecolor": "white"
           },
           "zaxis": {
            "backgroundcolor": "#E5ECF6",
            "gridcolor": "white",
            "gridwidth": 2,
            "linecolor": "white",
            "showbackground": true,
            "ticks": "",
            "zerolinecolor": "white"
           }
          },
          "shapedefaults": {
           "line": {
            "color": "#2a3f5f"
           }
          },
          "ternary": {
           "aaxis": {
            "gridcolor": "white",
            "linecolor": "white",
            "ticks": ""
           },
           "baxis": {
            "gridcolor": "white",
            "linecolor": "white",
            "ticks": ""
           },
           "bgcolor": "#E5ECF6",
           "caxis": {
            "gridcolor": "white",
            "linecolor": "white",
            "ticks": ""
           }
          },
          "title": {
           "x": 0.05
          },
          "xaxis": {
           "automargin": true,
           "gridcolor": "white",
           "linecolor": "white",
           "ticks": "",
           "title": {
            "standoff": 15
           },
           "zerolinecolor": "white",
           "zerolinewidth": 2
          },
          "yaxis": {
           "automargin": true,
           "gridcolor": "white",
           "linecolor": "white",
           "ticks": "",
           "title": {
            "standoff": 15
           },
           "zerolinecolor": "white",
           "zerolinewidth": 2
          }
         }
        },
        "title": {
         "text": "Label: Abomasnow"
        },
        "width": 500,
        "xaxis": {
         "anchor": "y",
         "domain": [
          0,
          1
         ],
         "showgrid": false,
         "showticklabels": false,
         "visible": false,
         "zeroline": false
        },
        "yaxis": {
         "anchor": "x",
         "domain": [
          0,
          1
         ],
         "showgrid": false,
         "showticklabels": false,
         "visible": false,
         "zeroline": false
        }
       }
      }
     },
     "metadata": {},
     "output_type": "display_data"
    }
   ],
   "source": [
    "plot_n_images(train_ds, 5, class_names, GAN=True, size=width)\n"
   ]
  },
  {
   "cell_type": "code",
   "execution_count": 13,
   "metadata": {},
   "outputs": [],
   "source": [
    "# Define the encoder\n",
    "def build_encoder(input_shape, latent_dim):\n",
    "    input_encoder = Input(shape=input_shape, name='input_encoder')\n",
    "    x = Conv2D(64, kernel_size=3, strides=2, padding='same')(input_encoder)\n",
    "    x = LeakyReLU(alpha=0.2)(x)\n",
    "    x = BatchNormalization()(x)\n",
    "    x = Conv2D(128, kernel_size=3, strides=2, padding='same')(x)\n",
    "    x = LeakyReLU(alpha=0.2)(x)\n",
    "    x = BatchNormalization()(x)\n",
    "    x = Conv2D(128, kernel_size=3, strides=2, padding='same')(x)\n",
    "    x = LeakyReLU(alpha=0.2)(x)\n",
    "    x = BatchNormalization()(x)\n",
    "    x = Conv2D(256, kernel_size=3, strides=2, padding='same')(x)\n",
    "    x = LeakyReLU(alpha=0.2)(x)\n",
    "    x = BatchNormalization()(x)\n",
    "    x = Flatten()(x)\n",
    "    x = Dense(256, activation='relu')(x)\n",
    "    x = BatchNormalization()(x)\n",
    "    z_mean = Dense(latent_dim, name='z_mean')(x)\n",
    "    z_log_var = Dense(latent_dim, name='z_log_var')(x)\n",
    "\n",
    "    # Define sampling function\n",
    "    def sampling(args):\n",
    "        z_mean, z_log_var = args\n",
    "        epsilon = K.random_normal(\n",
    "            shape=(K.shape(z_mean)[0], latent_dim), mean=0., stddev=1.)\n",
    "        return z_mean + K.exp(z_log_var / 2) * epsilon\n",
    "\n",
    "    # Sample the latent space\n",
    "    z = Lambda(sampling, output_shape=(latent_dim,),\n",
    "               name='z')([z_mean, z_log_var])\n",
    "\n",
    "    # Define the encoder\n",
    "    encoder = Model(input_encoder, [z_mean, z_log_var, z], name='encoder')\n",
    "\n",
    "    return encoder\n",
    "\n",
    "\n",
    "# Define the decoder/generator\n",
    "def build_decoder(latent_dim):\n",
    "    # Define the noise vector input\n",
    "    in_lat = Input(shape=(latent_dim,))\n",
    "    # Project the concatenated vector to a larger dimension\n",
    "    n = 128\n",
    "    size = int(width/16)\n",
    "    n_nodes = n * size * size\n",
    "    dense = Dense(n_nodes)(in_lat)\n",
    "    # Reshape the dense layer output\n",
    "    reshaped = Reshape((size, size, n))(dense)\n",
    "    # Upsample the feature maps\n",
    "    upsampled = Conv2DTranspose(\n",
    "        256, (4, 4), strides=(2, 2), padding='same')(reshaped)\n",
    "    upsampled = LeakyReLU(alpha=0.2)(upsampled)\n",
    "    upsampled = Conv2DTranspose(\n",
    "        256, (4, 4), strides=(2, 2), padding='same')(upsampled)\n",
    "    upsampled = LeakyReLU(alpha=0.2)(upsampled)\n",
    "    upsampled = Conv2DTranspose(\n",
    "        128, (4, 4), strides=(2, 2), padding='same')(upsampled)\n",
    "    upsampled = LeakyReLU(alpha=0.2)(upsampled)\n",
    "    upsampled = Conv2DTranspose(\n",
    "        128, (4, 4), strides=(2, 2), padding='same')(upsampled)\n",
    "    upsampled = LeakyReLU(alpha=0.2)(upsampled)\n",
    "    # Output layer\n",
    "    out_layer = Conv2D(\n",
    "        3, (3, 3), activation='tanh', padding='same')(upsampled)\n",
    "    # Define the model\n",
    "    model = Model(in_lat, out_layer, name='decoder')\n",
    "\n",
    "    return model\n"
   ]
  },
  {
   "cell_type": "code",
   "execution_count": 14,
   "metadata": {},
   "outputs": [],
   "source": [
    "# Define the discriminator\n",
    "def build_discriminator(input_shape, latent_dim):\n",
    "    # Define both input layers\n",
    "    img_input = Input(shape=input_shape)\n",
    "    enc_input = Input(shape=(latent_dim,))\n",
    "\n",
    "    # image branch\n",
    "    img_layer = Conv2D(64, (3, 3), strides=(2, 2), padding='same')(img_input)\n",
    "    img_layer = LeakyReLU(alpha=0.2)(img_layer)\n",
    "    img_layer = Dropout(0.25)(img_layer)\n",
    "    img_layer = Conv2D(128, (3, 3), strides=(2, 2), padding='same')(img_layer)\n",
    "    img_layer = LeakyReLU(alpha=0.2)(img_layer)\n",
    "    img_layer = Dropout(0.25)(img_layer)\n",
    "    img_layer = Conv2D(256, (3, 3), strides=(2, 2), padding='same')(img_layer)\n",
    "    img_layer = LeakyReLU(alpha=0.2)(img_layer)\n",
    "    img_layer = Dropout(0.25)(img_layer)\n",
    "    img_layer = Conv2D(512, (3, 3), strides=(2, 2), padding='same')(img_layer)\n",
    "    img_layer = LeakyReLU(alpha=0.2)(img_layer)\n",
    "    img_layer = Dropout(0.25)(img_layer)\n",
    "    # Flatten the features\n",
    "    features = Flatten()(img_layer)\n",
    "\n",
    "    # label branch\n",
    "    latent_layer = Dense(64)(enc_input)\n",
    "    latent_layer = LeakyReLU(alpha=0.2)(latent_layer)\n",
    "    latent_layer = Dense(128)(latent_layer)\n",
    "    latent_layer = LeakyReLU(alpha=0.2)(latent_layer)\n",
    "    latent_layer = Dense(256)(latent_layer)\n",
    "    latent_layer = LeakyReLU(alpha=0.2)(latent_layer)\n",
    "    latent_layer = Dense(256)(latent_layer)\n",
    "    latent_layer = LeakyReLU(alpha=0.2)(latent_layer)\n",
    "    latent_layer = Flatten()(latent_layer)\n",
    "\n",
    "    # Concatenate the input layers\n",
    "    merged_input = Concatenate()([features, latent_layer])\n",
    "    merged_input = Dropout(0.4)(merged_input)\n",
    "    validity = Dense(1, activation='sigmoid')(merged_input)\n",
    "\n",
    "    # Define the model\n",
    "    model = Model(inputs=[img_input, enc_input],\n",
    "                  outputs=validity, name='discriminator')\n",
    "\n",
    "    return model\n"
   ]
  },
  {
   "cell_type": "code",
   "execution_count": 15,
   "metadata": {},
   "outputs": [],
   "source": [
    "decoder = build_decoder(latent_dim)\n",
    "encoder = build_encoder(input_shape, latent_dim)\n",
    "discriminator = build_discriminator(input_shape, latent_dim)\n"
   ]
  },
  {
   "cell_type": "code",
   "execution_count": 16,
   "metadata": {},
   "outputs": [
    {
     "name": "stdout",
     "output_type": "stream",
     "text": [
      "Model: \"encoder\"\n",
      "__________________________________________________________________________________________________\n",
      " Layer (type)                   Output Shape         Param #     Connected to                     \n",
      "==================================================================================================\n",
      " input_encoder (InputLayer)     [(None, 96, 96, 3)]  0           []                               \n",
      "                                                                                                  \n",
      " conv2d_9 (Conv2D)              (None, 48, 48, 64)   1792        ['input_encoder[0][0]']          \n",
      "                                                                                                  \n",
      " leaky_re_lu_16 (LeakyReLU)     (None, 48, 48, 64)   0           ['conv2d_9[0][0]']               \n",
      "                                                                                                  \n",
      " batch_normalization_5 (BatchNo  (None, 48, 48, 64)  256         ['leaky_re_lu_16[0][0]']         \n",
      " rmalization)                                                                                     \n",
      "                                                                                                  \n",
      " conv2d_10 (Conv2D)             (None, 24, 24, 128)  73856       ['batch_normalization_5[0][0]']  \n",
      "                                                                                                  \n",
      " leaky_re_lu_17 (LeakyReLU)     (None, 24, 24, 128)  0           ['conv2d_10[0][0]']              \n",
      "                                                                                                  \n",
      " batch_normalization_6 (BatchNo  (None, 24, 24, 128)  512        ['leaky_re_lu_17[0][0]']         \n",
      " rmalization)                                                                                     \n",
      "                                                                                                  \n",
      " conv2d_11 (Conv2D)             (None, 12, 12, 128)  147584      ['batch_normalization_6[0][0]']  \n",
      "                                                                                                  \n",
      " leaky_re_lu_18 (LeakyReLU)     (None, 12, 12, 128)  0           ['conv2d_11[0][0]']              \n",
      "                                                                                                  \n",
      " batch_normalization_7 (BatchNo  (None, 12, 12, 128)  512        ['leaky_re_lu_18[0][0]']         \n",
      " rmalization)                                                                                     \n",
      "                                                                                                  \n",
      " conv2d_12 (Conv2D)             (None, 6, 6, 256)    295168      ['batch_normalization_7[0][0]']  \n",
      "                                                                                                  \n",
      " leaky_re_lu_19 (LeakyReLU)     (None, 6, 6, 256)    0           ['conv2d_12[0][0]']              \n",
      "                                                                                                  \n",
      " batch_normalization_8 (BatchNo  (None, 6, 6, 256)   1024        ['leaky_re_lu_19[0][0]']         \n",
      " rmalization)                                                                                     \n",
      "                                                                                                  \n",
      " flatten_3 (Flatten)            (None, 9216)         0           ['batch_normalization_8[0][0]']  \n",
      "                                                                                                  \n",
      " dense_7 (Dense)                (None, 256)          2359552     ['flatten_3[0][0]']              \n",
      "                                                                                                  \n",
      " batch_normalization_9 (BatchNo  (None, 256)         1024        ['dense_7[0][0]']                \n",
      " rmalization)                                                                                     \n",
      "                                                                                                  \n",
      " z_mean (Dense)                 (None, 100)          25700       ['batch_normalization_9[0][0]']  \n",
      "                                                                                                  \n",
      " z_log_var (Dense)              (None, 100)          25700       ['batch_normalization_9[0][0]']  \n",
      "                                                                                                  \n",
      " z (Lambda)                     (None, 100)          0           ['z_mean[0][0]',                 \n",
      "                                                                  'z_log_var[0][0]']              \n",
      "                                                                                                  \n",
      "==================================================================================================\n",
      "Total params: 2,932,680\n",
      "Trainable params: 2,931,016\n",
      "Non-trainable params: 1,664\n",
      "__________________________________________________________________________________________________\n",
      "Model: \"decoder\"\n",
      "_________________________________________________________________\n",
      " Layer (type)                Output Shape              Param #   \n",
      "=================================================================\n",
      " input_4 (InputLayer)        [(None, 100)]             0         \n",
      "                                                                 \n",
      " dense_8 (Dense)             (None, 4608)              465408    \n",
      "                                                                 \n",
      " reshape_1 (Reshape)         (None, 6, 6, 128)         0         \n",
      "                                                                 \n",
      " conv2d_transpose_4 (Conv2DT  (None, 12, 12, 256)      524544    \n",
      " ranspose)                                                       \n",
      "                                                                 \n",
      " leaky_re_lu_20 (LeakyReLU)  (None, 12, 12, 256)       0         \n",
      "                                                                 \n",
      " conv2d_transpose_5 (Conv2DT  (None, 24, 24, 256)      1048832   \n",
      " ranspose)                                                       \n",
      "                                                                 \n",
      " leaky_re_lu_21 (LeakyReLU)  (None, 24, 24, 256)       0         \n",
      "                                                                 \n",
      " conv2d_transpose_6 (Conv2DT  (None, 48, 48, 128)      524416    \n",
      " ranspose)                                                       \n",
      "                                                                 \n",
      " leaky_re_lu_22 (LeakyReLU)  (None, 48, 48, 128)       0         \n",
      "                                                                 \n",
      " conv2d_transpose_7 (Conv2DT  (None, 96, 96, 128)      262272    \n",
      " ranspose)                                                       \n",
      "                                                                 \n",
      " leaky_re_lu_23 (LeakyReLU)  (None, 96, 96, 128)       0         \n",
      "                                                                 \n",
      " conv2d_13 (Conv2D)          (None, 96, 96, 3)         3459      \n",
      "                                                                 \n",
      "=================================================================\n",
      "Total params: 2,828,931\n",
      "Trainable params: 2,828,931\n",
      "Non-trainable params: 0\n",
      "_________________________________________________________________\n",
      "Model: \"discriminator\"\n",
      "__________________________________________________________________________________________________\n",
      " Layer (type)                   Output Shape         Param #     Connected to                     \n",
      "==================================================================================================\n",
      " input_5 (InputLayer)           [(None, 96, 96, 3)]  0           []                               \n",
      "                                                                                                  \n",
      " conv2d_14 (Conv2D)             (None, 48, 48, 64)   1792        ['input_5[0][0]']                \n",
      "                                                                                                  \n",
      " leaky_re_lu_24 (LeakyReLU)     (None, 48, 48, 64)   0           ['conv2d_14[0][0]']              \n",
      "                                                                                                  \n",
      " dropout_5 (Dropout)            (None, 48, 48, 64)   0           ['leaky_re_lu_24[0][0]']         \n",
      "                                                                                                  \n",
      " conv2d_15 (Conv2D)             (None, 24, 24, 128)  73856       ['dropout_5[0][0]']              \n",
      "                                                                                                  \n",
      " input_6 (InputLayer)           [(None, 100)]        0           []                               \n",
      "                                                                                                  \n",
      " leaky_re_lu_25 (LeakyReLU)     (None, 24, 24, 128)  0           ['conv2d_15[0][0]']              \n",
      "                                                                                                  \n",
      " dense_9 (Dense)                (None, 64)           6464        ['input_6[0][0]']                \n",
      "                                                                                                  \n",
      " dropout_6 (Dropout)            (None, 24, 24, 128)  0           ['leaky_re_lu_25[0][0]']         \n",
      "                                                                                                  \n",
      " leaky_re_lu_28 (LeakyReLU)     (None, 64)           0           ['dense_9[0][0]']                \n",
      "                                                                                                  \n",
      " conv2d_16 (Conv2D)             (None, 12, 12, 256)  295168      ['dropout_6[0][0]']              \n",
      "                                                                                                  \n",
      " dense_10 (Dense)               (None, 128)          8320        ['leaky_re_lu_28[0][0]']         \n",
      "                                                                                                  \n",
      " leaky_re_lu_26 (LeakyReLU)     (None, 12, 12, 256)  0           ['conv2d_16[0][0]']              \n",
      "                                                                                                  \n",
      " leaky_re_lu_29 (LeakyReLU)     (None, 128)          0           ['dense_10[0][0]']               \n",
      "                                                                                                  \n",
      " dropout_7 (Dropout)            (None, 12, 12, 256)  0           ['leaky_re_lu_26[0][0]']         \n",
      "                                                                                                  \n",
      " dense_11 (Dense)               (None, 256)          33024       ['leaky_re_lu_29[0][0]']         \n",
      "                                                                                                  \n",
      " conv2d_17 (Conv2D)             (None, 6, 6, 512)    1180160     ['dropout_7[0][0]']              \n",
      "                                                                                                  \n",
      " leaky_re_lu_30 (LeakyReLU)     (None, 256)          0           ['dense_11[0][0]']               \n",
      "                                                                                                  \n",
      " leaky_re_lu_27 (LeakyReLU)     (None, 6, 6, 512)    0           ['conv2d_17[0][0]']              \n",
      "                                                                                                  \n",
      " dense_12 (Dense)               (None, 256)          65792       ['leaky_re_lu_30[0][0]']         \n",
      "                                                                                                  \n",
      " dropout_8 (Dropout)            (None, 6, 6, 512)    0           ['leaky_re_lu_27[0][0]']         \n",
      "                                                                                                  \n",
      " leaky_re_lu_31 (LeakyReLU)     (None, 256)          0           ['dense_12[0][0]']               \n",
      "                                                                                                  \n",
      " flatten_4 (Flatten)            (None, 18432)        0           ['dropout_8[0][0]']              \n",
      "                                                                                                  \n",
      " flatten_5 (Flatten)            (None, 256)          0           ['leaky_re_lu_31[0][0]']         \n",
      "                                                                                                  \n",
      " concatenate_1 (Concatenate)    (None, 18688)        0           ['flatten_4[0][0]',              \n",
      "                                                                  'flatten_5[0][0]']              \n",
      "                                                                                                  \n",
      " dropout_9 (Dropout)            (None, 18688)        0           ['concatenate_1[0][0]']          \n",
      "                                                                                                  \n",
      " dense_13 (Dense)               (None, 1)            18689       ['dropout_9[0][0]']              \n",
      "                                                                                                  \n",
      "==================================================================================================\n",
      "Total params: 1,683,265\n",
      "Trainable params: 1,683,265\n",
      "Non-trainable params: 0\n",
      "__________________________________________________________________________________________________\n"
     ]
    }
   ],
   "source": [
    "# Compile the models\n",
    "from keras.optimizers import SGD, Adam\n",
    "# optimizers\n",
    "SGDop = SGD(learning_rate=0.0003)\n",
    "ADAMop = Adam(learning_rate=0.0002)\n",
    "# encoder\n",
    "E = build_encoder(input_shape, latent_dim)\n",
    "E.compile(optimizer=SGDop, loss='mse')\n",
    "E.summary()\n",
    "# generator/decoder\n",
    "G = build_decoder(latent_dim)\n",
    "G.compile(optimizer=SGDop, loss='mse')\n",
    "G.summary()\n",
    "# discriminator\n",
    "D = build_discriminator(input_shape, latent_dim)\n",
    "D.compile(optimizer=SGDop, loss='mse')\n",
    "D.summary()\n"
   ]
  },
  {
   "cell_type": "code",
   "execution_count": 17,
   "metadata": {},
   "outputs": [],
   "source": [
    "X = Input(shape=input_shape)\n",
    "latent_rep = E(X)[-1]\n",
    "E_mean, E_logsigma, Z = E(X)\n"
   ]
  },
  {
   "cell_type": "code",
   "execution_count": 18,
   "metadata": {},
   "outputs": [],
   "source": [
    "output = G(Z)\n",
    "D_fake = D([output, Z])\n",
    "D_true = D([X, latent_rep])\n"
   ]
  },
  {
   "cell_type": "code",
   "execution_count": 19,
   "metadata": {},
   "outputs": [],
   "source": [
    "from keras import metrics, backend as K\n",
    "VAE = Model(X, output)\n",
    "kl = - 0.5 * K.sum(1 + E_logsigma - K.square(E_mean) -\n",
    "                   K.exp(E_logsigma), axis=-1)\n",
    "crossent = 64 * metrics.mse(K.flatten(X), K.flatten(output))\n",
    "VAEloss = K.mean(crossent + kl)\n",
    "VAE.add_loss(VAEloss)\n",
    "VAE.compile(optimizer=SGDop)\n"
   ]
  },
  {
   "cell_type": "code",
   "execution_count": 20,
   "metadata": {},
   "outputs": [],
   "source": [
    "latent_rep = Input(shape=(latent_dim,))\n",
    "fake_or_true = D([G(latent_rep), latent_rep])\n",
    "GAN = Model(latent_rep, fake_or_true)\n",
    "GAN.compile(optimizer=SGDop, loss='binary_crossentropy')\n"
   ]
  },
  {
   "cell_type": "code",
   "execution_count": 30,
   "metadata": {},
   "outputs": [
    {
     "name": "stdout",
     "output_type": "stream",
     "text": [
      "epoch number 1\n",
      "loss:\n",
      "D: 0.2678421139717102 0.24402441084384918\n",
      "G: 0.6994256973266602 0.7021198272705078\n",
      "VAE: 175.24673461914062\n",
      "epoch number 1\n",
      "loss:\n",
      "D: 0.27213597297668457 0.24997669458389282\n",
      "G: 0.7054152488708496 0.7017720937728882\n",
      "VAE: 167.93971252441406\n",
      "epoch number 1\n",
      "loss:\n",
      "D: 0.27350252866744995 0.2470567226409912\n",
      "G: 0.6974077224731445 0.7009695768356323\n",
      "VAE: 169.04281616210938\n",
      "epoch number 1\n",
      "loss:\n",
      "D: 0.2680792808532715 0.24521134793758392\n",
      "G: 0.7021411061286926 0.6975362300872803\n",
      "VAE: 165.32888793945312\n",
      "epoch number 1\n",
      "loss:\n",
      "D: 0.2646970748901367 0.247745543718338\n",
      "G: 0.6952120065689087 0.690826416015625\n",
      "VAE: 166.5557861328125\n",
      "epoch number 1\n",
      "loss:\n",
      "D: 0.2631726861000061 0.25100189447402954\n",
      "G: 0.6954878568649292 0.6896201372146606\n",
      "VAE: 156.93505859375\n",
      "epoch number 1\n",
      "loss:\n",
      "D: 0.2630050778388977 0.24975381791591644\n",
      "G: 0.6953389644622803 0.6909964084625244\n",
      "VAE: 145.1114501953125\n",
      "epoch number 1\n",
      "loss:\n",
      "D: 0.25775331258773804 0.25022435188293457\n",
      "G: 0.6930232048034668 0.6923444271087646\n",
      "VAE: 135.6337890625\n",
      "epoch number 1\n",
      "loss:\n",
      "D: 0.26110315322875977 0.2524835765361786\n",
      "G: 0.6904172897338867 0.6891217231750488\n",
      "VAE: 136.25051879882812\n",
      "epoch number 1\n",
      "loss:\n",
      "D: 0.26120302081108093 0.2484222948551178\n",
      "G: 0.6933207511901855 0.6868596076965332\n",
      "VAE: 129.9947509765625\n",
      "epoch number 1\n",
      "loss:\n",
      "D: 0.2507401704788208 0.25205886363983154\n",
      "G: 0.6955099701881409 0.6900455951690674\n",
      "VAE: 123.93751525878906\n",
      "epoch number 1\n",
      "loss:\n",
      "D: 0.2509087324142456 0.25322240591049194\n",
      "G: 0.6837310791015625 0.687346339225769\n",
      "VAE: 121.48507690429688\n",
      "epoch number 1\n",
      "loss:\n",
      "D: 0.25003063678741455 0.2506461441516876\n",
      "G: 0.6878056526184082 0.6835774183273315\n",
      "VAE: 116.6513900756836\n",
      "epoch number 1\n",
      "loss:\n",
      "D: 0.25623446702957153 0.25000661611557007\n",
      "G: 0.6907696723937988 0.684130072593689\n",
      "VAE: 113.2303695678711\n",
      "epoch number 1\n",
      "loss:\n",
      "D: 0.25579309463500977 0.2557017207145691\n",
      "G: 0.6866025924682617 0.6805369257926941\n",
      "VAE: 110.12657165527344\n",
      "epoch number 1\n",
      "loss:\n",
      "D: 0.248430997133255 0.25656527280807495\n",
      "G: 0.6875536441802979 0.6826667785644531\n",
      "VAE: 103.04328918457031\n",
      "epoch number 1\n",
      "loss:\n",
      "D: 0.24310490489006042 0.25315994024276733\n",
      "G: 0.6814450025558472 0.6822018027305603\n",
      "VAE: 103.65525817871094\n",
      "epoch number 1\n",
      "loss:\n",
      "D: 0.23588883876800537 0.25790464878082275\n",
      "G: 0.68180251121521 0.6734087467193604\n",
      "VAE: 98.50843811035156\n",
      "epoch number 1\n",
      "loss:\n",
      "D: 0.23918160796165466 0.25830015540122986\n",
      "G: 0.6794288158416748 0.668063759803772\n",
      "VAE: 89.15767669677734\n",
      "epoch number 1\n",
      "loss:\n",
      "D: 0.24039027094841003 0.25909698009490967\n",
      "G: 0.670987606048584 0.6775306463241577\n",
      "VAE: 88.26602935791016\n",
      "epoch number 1\n",
      "loss:\n",
      "D: 0.2397390902042389 0.26281625032424927\n",
      "G: 0.6739246249198914 0.6732350587844849\n",
      "VAE: 81.11434936523438\n",
      "epoch number 1\n",
      "loss:\n",
      "D: 0.2321525365114212 0.2600834369659424\n",
      "G: 0.6737200617790222 0.6799154281616211\n",
      "VAE: 83.93616485595703\n",
      "epoch number 1\n",
      "loss:\n",
      "D: 0.22932299971580505 0.2588566541671753\n",
      "G: 0.673145592212677 0.6681219935417175\n",
      "VAE: 83.49124145507812\n",
      "epoch number 1\n",
      "loss:\n",
      "D: 0.23837324976921082 0.2617056965827942\n",
      "G: 0.675581693649292 0.6724640727043152\n",
      "VAE: 79.17415618896484\n",
      "epoch number 1\n",
      "loss:\n",
      "D: 0.2407664954662323 0.2609233558177948\n",
      "G: 0.668716549873352 0.6703798174858093\n",
      "VAE: 67.93173217773438\n",
      "epoch number 1\n",
      "loss:\n",
      "D: 0.2314993143081665 0.266090452671051\n",
      "G: 0.6607615947723389 0.6670576333999634\n",
      "VAE: 71.64335632324219\n",
      "epoch number 1\n",
      "loss:\n",
      "D: 0.22803615033626556 0.26625722646713257\n",
      "G: 0.6601919531822205 0.6620018482208252\n",
      "VAE: 73.05838012695312\n",
      "epoch number 1\n",
      "loss:\n",
      "D: 0.23272757232189178 0.2665000557899475\n",
      "G: 0.6610289216041565 0.6639785170555115\n",
      "VAE: 66.09674072265625\n",
      "epoch number 1\n",
      "loss:\n",
      "D: 0.2319045066833496 0.2688907980918884\n",
      "G: 0.6576367616653442 0.6638399362564087\n",
      "VAE: 68.29560852050781\n",
      "epoch number 1\n",
      "loss:\n",
      "D: 0.2261912226676941 0.2736935615539551\n",
      "G: 0.6552869081497192 0.6603397727012634\n",
      "VAE: 63.8745231628418\n",
      "epoch number 1\n",
      "loss:\n",
      "D: 0.22848480939865112 0.272052526473999\n",
      "G: 0.6463074088096619 0.665045976638794\n",
      "VAE: 55.861148834228516\n",
      "epoch number 1\n",
      "loss:\n",
      "D: 0.225175142288208 0.271213173866272\n",
      "G: 0.6507608890533447 0.6538454294204712\n",
      "VAE: 60.55290222167969\n",
      "epoch number 1\n",
      "loss:\n",
      "D: 0.22007501125335693 0.2746179699897766\n",
      "G: 0.6504834294319153 0.6473800539970398\n",
      "VAE: 59.66339111328125\n",
      "epoch number 1\n",
      "loss:\n",
      "D: 0.21104857325553894 0.27606409788131714\n",
      "G: 0.6400336623191833 0.6411893367767334\n",
      "VAE: 56.34601593017578\n",
      "epoch number 1\n",
      "loss:\n",
      "D: 0.22108452022075653 0.2790781855583191\n",
      "G: 0.643466591835022 0.6366263031959534\n",
      "VAE: 56.23274230957031\n",
      "epoch number 1\n",
      "loss:\n",
      "D: 0.2066497504711151 0.27645784616470337\n",
      "G: 0.6316112279891968 0.6371479630470276\n",
      "VAE: 56.505462646484375\n",
      "epoch number 1\n",
      "loss:\n",
      "D: 0.20923861861228943 0.2832931876182556\n",
      "G: 0.6417977809906006 0.6383357048034668\n",
      "VAE: 53.244781494140625\n",
      "epoch number 1\n",
      "loss:\n",
      "D: 0.20739635825157166 0.28238341212272644\n",
      "G: 0.6329317092895508 0.6263158321380615\n",
      "VAE: 52.608436584472656\n",
      "epoch number 1\n",
      "loss:\n",
      "D: 0.20058999955654144 0.28995802998542786\n",
      "G: 0.630631685256958 0.6254568099975586\n",
      "VAE: 48.00054931640625\n",
      "epoch number 1\n",
      "loss:\n",
      "D: 0.20196139812469482 0.28724604845046997\n",
      "G: 0.6197890043258667 0.6159876585006714\n",
      "VAE: 50.93138122558594\n",
      "epoch number 1\n",
      "loss:\n",
      "D: 0.20016860961914062 0.2891799807548523\n",
      "G: 0.622279942035675 0.6205857992172241\n",
      "VAE: 48.85939025878906\n",
      "epoch number 1\n",
      "loss:\n",
      "D: 0.203690767288208 0.29146039485931396\n",
      "G: 0.6162639260292053 0.6134136319160461\n",
      "VAE: 44.63182830810547\n",
      "epoch number 1\n",
      "loss:\n",
      "D: 0.1986871063709259 0.28833654522895813\n",
      "G: 0.6220740079879761 0.6256489753723145\n",
      "VAE: 45.01530456542969\n",
      "epoch number 1\n",
      "loss:\n",
      "D: 0.19776028394699097 0.29221057891845703\n",
      "G: 0.5997573137283325 0.6036500930786133\n",
      "VAE: 47.51591491699219\n",
      "epoch number 1\n",
      "loss:\n",
      "D: 0.1954137086868286 0.2955006957054138\n",
      "G: 0.604615330696106 0.6007150411605835\n",
      "VAE: 44.54154586791992\n",
      "epoch number 1\n",
      "loss:\n",
      "D: 0.194752499461174 0.30054569244384766\n",
      "G: 0.6128113269805908 0.5933377742767334\n",
      "VAE: 40.65461730957031\n",
      "epoch number 1\n",
      "loss:\n",
      "D: 0.19363713264465332 0.30473998188972473\n",
      "G: 0.6073664426803589 0.5938701629638672\n",
      "VAE: 38.49095916748047\n",
      "epoch number 1\n",
      "loss:\n",
      "D: 0.19207033514976501 0.305446982383728\n",
      "G: 0.600078821182251 0.5939415693283081\n",
      "VAE: 43.88953399658203\n",
      "epoch number 1\n",
      "loss:\n",
      "D: 0.18617241084575653 0.3005620241165161\n",
      "G: 0.5951166749000549 0.5897123217582703\n",
      "VAE: 40.037445068359375\n",
      "epoch number 1\n",
      "loss:\n",
      "D: 0.19031789898872375 0.3053221106529236\n",
      "G: 0.5926188230514526 0.5981406569480896\n",
      "VAE: 41.868717193603516\n",
      "epoch number 1\n",
      "loss:\n",
      "D: 0.18278062343597412 0.31422871351242065\n",
      "G: 0.5726083517074585 0.59632408618927\n",
      "VAE: 37.26413345336914\n",
      "epoch number 1\n",
      "loss:\n",
      "D: 0.18289496004581451 0.30492621660232544\n",
      "G: 0.5764864683151245 0.5836101174354553\n",
      "VAE: 43.564002990722656\n",
      "epoch number 1\n",
      "loss:\n",
      "D: 0.17965438961982727 0.3144689202308655\n",
      "G: 0.584471583366394 0.5795355439186096\n",
      "VAE: 37.43853759765625\n",
      "epoch number 1\n",
      "loss:\n",
      "D: 0.18172413110733032 0.3135376572608948\n",
      "G: 0.573768138885498 0.5801206231117249\n",
      "VAE: 37.50581359863281\n",
      "epoch number 1\n",
      "loss:\n",
      "D: 0.1726834625005722 0.3134457767009735\n",
      "G: 0.5747300386428833 0.5816283226013184\n",
      "VAE: 36.601837158203125\n",
      "epoch number 1\n",
      "loss:\n",
      "D: 0.17747175693511963 0.3181273639202118\n",
      "G: 0.5670313239097595 0.5737782716751099\n",
      "VAE: 38.311744689941406\n",
      "epoch number 1\n",
      "loss:\n",
      "D: 0.16457542777061462 0.3198430836200714\n",
      "G: 0.5660238265991211 0.5636919736862183\n",
      "VAE: 35.07294845581055\n",
      "epoch number 1\n",
      "loss:\n",
      "D: 0.18072164058685303 0.3279878497123718\n",
      "G: 0.5755099058151245 0.5615673065185547\n",
      "VAE: 34.017154693603516\n",
      "epoch number 1\n",
      "loss:\n",
      "D: 0.17232029139995575 0.3287726044654846\n",
      "G: 0.5655899047851562 0.5647182464599609\n",
      "VAE: 38.54585266113281\n",
      "epoch number 1\n",
      "loss:\n",
      "D: 0.16734923422336578 0.32598239183425903\n",
      "G: 0.5534582138061523 0.5606145262718201\n",
      "VAE: 33.62060546875\n",
      "epoch number 1\n",
      "loss:\n",
      "D: 0.1632087230682373 0.3375867009162903\n",
      "G: 0.562894344329834 0.5510133504867554\n",
      "VAE: 34.16213607788086\n",
      "epoch number 1\n",
      "loss:\n",
      "D: 0.16620203852653503 0.3325011134147644\n",
      "G: 0.5500727295875549 0.5525214672088623\n",
      "VAE: 31.444881439208984\n",
      "epoch number 1\n",
      "loss:\n",
      "D: 0.1617797315120697 0.33905360102653503\n",
      "G: 0.5417212247848511 0.5485384464263916\n",
      "VAE: 33.43006896972656\n",
      "epoch number 1\n",
      "loss:\n",
      "D: 0.1635695993900299 0.3395451605319977\n",
      "G: 0.5476807355880737 0.5437242984771729\n",
      "VAE: 34.331573486328125\n",
      "epoch number 1\n",
      "loss:\n",
      "D: 0.1588296890258789 0.3373737335205078\n",
      "G: 0.5248479843139648 0.5297335982322693\n",
      "VAE: 31.799137115478516\n",
      "epoch number 1\n",
      "loss:\n",
      "D: 0.1557258516550064 0.3423229455947876\n",
      "G: 0.5289424657821655 0.52730393409729\n",
      "VAE: 32.25545883178711\n",
      "epoch number 1\n",
      "loss:\n",
      "D: 0.15994158387184143 0.34249234199523926\n",
      "G: 0.5216073989868164 0.5313183069229126\n",
      "VAE: 32.193359375\n",
      "epoch number 1\n",
      "loss:\n",
      "D: 0.15511268377304077 0.35211703181266785\n",
      "G: 0.5276839733123779 0.5300582051277161\n",
      "VAE: 28.958913803100586\n",
      "epoch number 1\n",
      "loss:\n",
      "D: 0.15160907804965973 0.3450601398944855\n",
      "G: 0.5286343097686768 0.5207387208938599\n",
      "VAE: 30.972749710083008\n",
      "epoch number 1\n",
      "loss:\n",
      "D: 0.1499631702899933 0.3558346629142761\n",
      "G: 0.5225276947021484 0.5090789794921875\n",
      "VAE: 27.385149002075195\n",
      "epoch number 1\n",
      "loss:\n",
      "D: 0.1469304859638214 0.3491246700286865\n",
      "G: 0.5186624526977539 0.5117042064666748\n",
      "VAE: 33.27366638183594\n",
      "epoch number 1\n",
      "loss:\n",
      "D: 0.13896675407886505 0.3579210340976715\n",
      "G: 0.5039936900138855 0.5169861912727356\n",
      "VAE: 30.613252639770508\n",
      "epoch number 1\n",
      "loss:\n",
      "D: 0.1434994339942932 0.36433231830596924\n",
      "G: 0.4995119273662567 0.5050828456878662\n",
      "VAE: 28.74026870727539\n",
      "epoch number 1\n",
      "loss:\n",
      "D: 0.1394888162612915 0.3557116985321045\n",
      "G: 0.5077683925628662 0.5048837661743164\n",
      "VAE: 28.812374114990234\n",
      "epoch number 1\n",
      "loss:\n",
      "D: 0.14280280470848083 0.37096017599105835\n",
      "G: 0.49980536103248596 0.5018359422683716\n",
      "VAE: 30.044565200805664\n",
      "epoch number 1\n",
      "loss:\n",
      "D: 0.13983547687530518 0.364616334438324\n",
      "G: 0.49347561597824097 0.5131627321243286\n",
      "VAE: 30.43050765991211\n",
      "epoch number 1\n",
      "loss:\n",
      "D: 0.13841457664966583 0.37205517292022705\n",
      "G: 0.4945099353790283 0.4932158589363098\n",
      "VAE: 28.056425094604492\n",
      "epoch number 1\n",
      "loss:\n",
      "D: 0.1324962079524994 0.3694922626018524\n",
      "G: 0.48400628566741943 0.4964132010936737\n",
      "VAE: 30.600982666015625\n",
      "epoch number 1\n",
      "loss:\n",
      "D: 0.1303977221250534 0.37107834219932556\n",
      "G: 0.4747791886329651 0.47933217883110046\n",
      "VAE: 30.407094955444336\n",
      "epoch number 1\n",
      "loss:\n",
      "D: 0.13279715180397034 0.38411128520965576\n",
      "G: 0.475680947303772 0.48929545283317566\n",
      "VAE: 33.04307174682617\n",
      "epoch number 1\n",
      "loss:\n",
      "D: 0.13284142315387726 0.38437092304229736\n",
      "G: 0.48194000124931335 0.47320887446403503\n",
      "VAE: 32.53937530517578\n",
      "epoch number 1\n",
      "loss:\n",
      "D: 0.12958241999149323 0.3897412419319153\n",
      "G: 0.47047632932662964 0.4671790897846222\n",
      "VAE: 31.155776977539062\n",
      "epoch number 1\n",
      "loss:\n",
      "D: 0.13023877143859863 0.3879680931568146\n",
      "G: 0.4744843542575836 0.4681471288204193\n",
      "VAE: 29.29514503479004\n",
      "epoch number 1\n",
      "loss:\n",
      "D: 0.12919382750988007 0.3952576816082001\n",
      "G: 0.45797327160835266 0.47163182497024536\n",
      "VAE: 28.303205490112305\n",
      "epoch number 1\n",
      "loss:\n",
      "D: 0.12357532978057861 0.4045938551425934\n",
      "G: 0.4620983898639679 0.46350300312042236\n",
      "VAE: 27.42345428466797\n",
      "epoch number 1\n",
      "loss:\n",
      "D: 0.11525768041610718 0.40348049998283386\n",
      "G: 0.4630013108253479 0.45521023869514465\n",
      "VAE: 29.011959075927734\n",
      "epoch number 1\n",
      "loss:\n",
      "D: 0.11777850985527039 0.40423938632011414\n",
      "G: 0.45865604281425476 0.46263059973716736\n",
      "VAE: 26.775447845458984\n",
      "epoch number 1\n",
      "loss:\n",
      "D: 0.1199076846241951 0.4039413332939148\n",
      "G: 0.44885146617889404 0.4535735249519348\n",
      "VAE: 25.637786865234375\n",
      "epoch number 1\n",
      "loss:\n",
      "D: 0.11611431837081909 0.4183516204357147\n",
      "G: 0.44089627265930176 0.45290619134902954\n",
      "VAE: 26.700729370117188\n",
      "epoch number 1\n",
      "loss:\n",
      "D: 0.11799007654190063 0.4028671979904175\n",
      "G: 0.45340973138809204 0.4494495987892151\n",
      "VAE: 27.563575744628906\n",
      "epoch number 1\n",
      "loss:\n",
      "D: 0.11498004198074341 0.41852349042892456\n",
      "G: 0.43772369623184204 0.43872618675231934\n",
      "VAE: 24.766990661621094\n",
      "epoch number 1\n",
      "loss:\n",
      "D: 0.11548800021409988 0.4129529595375061\n",
      "G: 0.43238335847854614 0.43261900544166565\n",
      "VAE: 25.3312931060791\n",
      "epoch number 1\n",
      "loss:\n",
      "D: 0.11802129447460175 0.41604429483413696\n",
      "G: 0.43784642219543457 0.4400347173213959\n",
      "VAE: 29.5916805267334\n",
      "epoch number 1\n",
      "loss:\n",
      "D: 0.11354345083236694 0.42468100786209106\n",
      "G: 0.44499465823173523 0.4451786279678345\n",
      "VAE: 26.48235511779785\n",
      "epoch number 1\n",
      "loss:\n",
      "D: 0.11084898561239243 0.4150645136833191\n",
      "G: 0.43050724267959595 0.4271262288093567\n",
      "VAE: 25.417686462402344\n",
      "epoch number 1\n",
      "loss:\n",
      "D: 0.11193370819091797 0.4264982044696808\n",
      "G: 0.4393128752708435 0.41394370794296265\n",
      "VAE: 25.5155029296875\n",
      "epoch number 1\n",
      "loss:\n",
      "D: 0.10745328664779663 0.4333443343639374\n",
      "G: 0.42522022128105164 0.4265446960926056\n",
      "VAE: 24.506031036376953\n",
      "epoch number 1\n",
      "loss:\n",
      "D: 0.10322914272546768 0.42362096905708313\n",
      "G: 0.41267630457878113 0.42917776107788086\n",
      "VAE: 25.561813354492188\n",
      "epoch number 1\n",
      "loss:\n",
      "D: 0.10124652087688446 0.42959749698638916\n",
      "G: 0.40087825059890747 0.4232707619667053\n",
      "VAE: 27.860536575317383\n",
      "epoch number 1\n",
      "loss:\n",
      "D: 0.10078387707471848 0.4332766830921173\n",
      "G: 0.4164919853210449 0.41229167580604553\n",
      "VAE: 23.245588302612305\n",
      "epoch number 1\n",
      "loss:\n",
      "D: 0.10373401641845703 0.4381870925426483\n",
      "G: 0.4157557487487793 0.4195050895214081\n",
      "VAE: 25.54922103881836\n",
      "epoch number 1\n",
      "loss:\n",
      "D: 0.09630286693572998 0.43927764892578125\n",
      "G: 0.41371607780456543 0.4078046679496765\n",
      "VAE: 22.73517608642578\n",
      "epoch number 1\n",
      "loss:\n",
      "D: 0.09661239385604858 0.44318005442619324\n",
      "G: 0.3935544788837433 0.4071030616760254\n",
      "VAE: 25.090961456298828\n",
      "epoch number 1\n",
      "loss:\n",
      "D: 0.09578733146190643 0.4409962594509125\n",
      "G: 0.4102092385292053 0.40027737617492676\n",
      "VAE: 25.395978927612305\n",
      "epoch number 1\n",
      "loss:\n",
      "D: 0.09636329859495163 0.44353145360946655\n",
      "G: 0.4057205319404602 0.4137323796749115\n",
      "VAE: 23.863224029541016\n",
      "epoch number 1\n",
      "loss:\n",
      "D: 0.09885964542627335 0.4636193513870239\n",
      "G: 0.3980677127838135 0.39361771941185\n",
      "VAE: 29.483806610107422\n",
      "epoch number 1\n",
      "loss:\n",
      "D: 0.09431000053882599 0.45943695306777954\n",
      "G: 0.406505823135376 0.40374523401260376\n",
      "VAE: 24.911460876464844\n",
      "epoch number 1\n",
      "loss:\n",
      "D: 0.0945892482995987 0.4453798234462738\n",
      "G: 0.37988823652267456 0.3874223828315735\n",
      "VAE: 25.92188262939453\n",
      "epoch number 1\n",
      "loss:\n",
      "D: 0.09174644947052002 0.4691932201385498\n",
      "G: 0.3856748938560486 0.38055139780044556\n",
      "VAE: 26.91558074951172\n",
      "epoch number 1\n",
      "loss:\n",
      "D: 0.08750379085540771 0.4591861367225647\n",
      "G: 0.3691893219947815 0.3835330307483673\n",
      "VAE: 25.546085357666016\n",
      "epoch number 1\n",
      "loss:\n",
      "D: 0.08716338872909546 0.471255362033844\n",
      "G: 0.368519127368927 0.3878886103630066\n",
      "VAE: 23.08040428161621\n",
      "epoch number 1\n",
      "loss:\n",
      "D: 0.08268243074417114 0.4651497006416321\n",
      "G: 0.37563252449035645 0.3808661103248596\n",
      "VAE: 22.252777099609375\n",
      "epoch number 1\n",
      "loss:\n",
      "D: 0.0921180248260498 0.47976136207580566\n",
      "G: 0.37614381313323975 0.3757140040397644\n",
      "VAE: 27.628299713134766\n",
      "epoch number 1\n",
      "loss:\n",
      "D: 0.088727205991745 0.47076863050460815\n",
      "G: 0.37579345703125 0.3668300211429596\n",
      "VAE: 22.295089721679688\n",
      "epoch number 1\n",
      "loss:\n",
      "D: 0.08520008623600006 0.47536733746528625\n",
      "G: 0.3721987009048462 0.3668525815010071\n",
      "VAE: 23.759654998779297\n",
      "epoch number 1\n",
      "loss:\n",
      "D: 0.08413917571306229 0.47399088740348816\n",
      "G: 0.361257404088974 0.3748443126678467\n",
      "VAE: 23.338130950927734\n",
      "epoch number 1\n",
      "loss:\n",
      "D: 0.07890495657920837 0.4838777184486389\n",
      "G: 0.363701730966568 0.3704548180103302\n",
      "VAE: 24.13368034362793\n",
      "epoch number 1\n",
      "loss:\n",
      "D: 0.08435074985027313 0.488659143447876\n",
      "G: 0.3688223958015442 0.363165944814682\n",
      "VAE: 22.187393188476562\n",
      "epoch number 1\n",
      "loss:\n",
      "D: 0.08292728662490845 0.4910135269165039\n",
      "G: 0.3553275763988495 0.37430769205093384\n",
      "VAE: 25.275432586669922\n",
      "epoch number 1\n",
      "loss:\n",
      "D: 0.07629898190498352 0.4877743721008301\n",
      "G: 0.34928566217422485 0.3604845404624939\n",
      "VAE: 22.929798126220703\n",
      "epoch number 1\n",
      "loss:\n",
      "D: 0.08051222562789917 0.4967288076877594\n",
      "G: 0.35715818405151367 0.3572840988636017\n",
      "VAE: 25.2860107421875\n",
      "epoch number 1\n",
      "loss:\n",
      "D: 0.07176458835601807 0.502593457698822\n",
      "G: 0.34810057282447815 0.3503761291503906\n",
      "VAE: 22.926223754882812\n",
      "epoch number 1\n",
      "loss:\n",
      "D: 0.07495979219675064 0.5074454545974731\n",
      "G: 0.3404732048511505 0.34018951654434204\n",
      "VAE: 22.51336669921875\n",
      "epoch number 1\n",
      "loss:\n",
      "D: 0.07139188051223755 0.5036542415618896\n",
      "G: 0.3356473445892334 0.3469955027103424\n",
      "VAE: 23.2503662109375\n",
      "epoch number 1\n",
      "loss:\n",
      "D: 0.07018846273422241 0.509954035282135\n",
      "G: 0.3420031666755676 0.3280722200870514\n",
      "VAE: 22.95010757446289\n",
      "epoch number 1\n",
      "loss:\n",
      "D: 0.06721099466085434 0.504217267036438\n",
      "G: 0.3276543915271759 0.3337762951850891\n",
      "VAE: 21.80377197265625\n",
      "epoch number 1\n",
      "loss:\n",
      "D: 0.07510297000408173 0.5063581466674805\n",
      "G: 0.3352804183959961 0.33932507038116455\n",
      "VAE: 24.374120712280273\n",
      "epoch number 1\n",
      "loss:\n",
      "D: 0.06859813630580902 0.5109781622886658\n",
      "G: 0.33231320977211 0.3365233540534973\n",
      "VAE: 20.136737823486328\n",
      "epoch number 1\n",
      "loss:\n",
      "D: 0.07071993499994278 0.524648904800415\n",
      "G: 0.3310219943523407 0.3316330909729004\n",
      "VAE: 21.542810440063477\n",
      "epoch number 1\n",
      "loss:\n",
      "D: 0.06976491957902908 0.5218448638916016\n",
      "G: 0.3262571394443512 0.3275948166847229\n",
      "VAE: 20.861217498779297\n",
      "epoch number 1\n",
      "loss:\n",
      "D: 0.06903225183486938 0.5320079326629639\n",
      "G: 0.32172030210494995 0.3222872316837311\n",
      "VAE: 20.115787506103516\n",
      "epoch number 1\n",
      "loss:\n",
      "D: 0.06836991012096405 0.5145490169525146\n",
      "G: 0.32294780015945435 0.3237120807170868\n",
      "VAE: 23.69086456298828\n",
      "epoch number 1\n",
      "loss:\n",
      "D: 0.07078756392002106 0.5267881155014038\n",
      "G: 0.3134872019290924 0.31634190678596497\n",
      "VAE: 23.976829528808594\n",
      "epoch number 1\n",
      "loss:\n",
      "D: 0.06991343200206757 0.5365088582038879\n",
      "G: 0.31766602396965027 0.318798303604126\n",
      "VAE: 21.208114624023438\n",
      "epoch number 1\n",
      "loss:\n",
      "D: 0.06634463369846344 0.5357377529144287\n",
      "G: 0.30930572748184204 0.3109350800514221\n",
      "VAE: 22.099063873291016\n",
      "epoch number 1\n",
      "loss:\n",
      "D: 0.06605415046215057 0.5426239967346191\n",
      "G: 0.3139183521270752 0.3073798418045044\n",
      "VAE: 22.444427490234375\n",
      "epoch number 1\n",
      "loss:\n",
      "D: 0.06463656574487686 0.5340803861618042\n",
      "G: 0.30026692152023315 0.3186885118484497\n",
      "VAE: 24.846599578857422\n",
      "epoch number 1\n",
      "loss:\n",
      "D: 0.07021012902259827 0.546021580696106\n",
      "G: 0.31369203329086304 0.31260138750076294\n",
      "VAE: 24.070331573486328\n",
      "epoch number 1\n",
      "loss:\n",
      "D: 0.06445662677288055 0.528465747833252\n",
      "G: 0.30258065462112427 0.3136100172996521\n",
      "VAE: 25.260984420776367\n",
      "epoch number 1\n",
      "loss:\n",
      "D: 0.06016506999731064 0.5439683198928833\n",
      "G: 0.2973567545413971 0.31057074666023254\n",
      "VAE: 21.92508316040039\n",
      "epoch number 1\n",
      "loss:\n",
      "D: 0.05361684784293175 0.5428414940834045\n",
      "G: 0.2965996265411377 0.3047015368938446\n",
      "VAE: 19.076948165893555\n",
      "epoch number 1\n",
      "loss:\n",
      "D: 0.061742350459098816 0.5511224269866943\n",
      "G: 0.30444714426994324 0.3090698719024658\n",
      "VAE: 23.19804573059082\n",
      "epoch number 1\n",
      "loss:\n",
      "D: 0.05942152068018913 0.5530078411102295\n",
      "G: 0.2922096848487854 0.3012174069881439\n",
      "VAE: 23.047645568847656\n",
      "epoch number 1\n",
      "loss:\n",
      "D: 0.059766627848148346 0.563474178314209\n",
      "G: 0.2976677417755127 0.2957345247268677\n",
      "VAE: 25.4033260345459\n",
      "epoch number 1\n",
      "loss:\n",
      "D: 0.060701075941324234 0.5467162132263184\n",
      "G: 0.29067209362983704 0.29284706711769104\n",
      "VAE: 23.858858108520508\n",
      "epoch number 1\n",
      "loss:\n",
      "D: 0.05536813288927078 0.5436290502548218\n",
      "G: 0.28757309913635254 0.30154287815093994\n",
      "VAE: 20.330442428588867\n",
      "epoch number 1\n",
      "loss:\n",
      "D: 0.05300547927618027 0.5651602745056152\n",
      "G: 0.28695690631866455 0.30411624908447266\n",
      "VAE: 20.24949073791504\n",
      "epoch number 1\n",
      "loss:\n",
      "D: 0.04883613437414169 0.5560163259506226\n",
      "G: 0.28344660997390747 0.27798014879226685\n",
      "VAE: 19.83194923400879\n",
      "epoch number 1\n",
      "loss:\n",
      "D: 0.05283862352371216 0.5667852163314819\n",
      "G: 0.28128182888031006 0.28918731212615967\n",
      "VAE: 21.83784294128418\n",
      "epoch number 1\n",
      "loss:\n",
      "D: 0.05122281610965729 0.5631736516952515\n",
      "G: 0.2786966860294342 0.27900856733322144\n",
      "VAE: 20.273529052734375\n",
      "epoch number 1\n",
      "loss:\n",
      "D: 0.05287213996052742 0.5673026442527771\n",
      "G: 0.26993513107299805 0.2887409031391144\n",
      "VAE: 22.561445236206055\n",
      "epoch number 1\n",
      "loss:\n",
      "D: 0.052830785512924194 0.579748809337616\n",
      "G: 0.28271591663360596 0.27068889141082764\n",
      "VAE: 24.10198211669922\n",
      "epoch number 1\n",
      "loss:\n",
      "D: 0.048215821385383606 0.5636346936225891\n",
      "G: 0.28029006719589233 0.27399295568466187\n",
      "VAE: 20.295209884643555\n",
      "epoch number 1\n",
      "loss:\n",
      "D: 0.05046515539288521 0.5818619728088379\n",
      "G: 0.25913846492767334 0.27680978178977966\n",
      "VAE: 22.04459571838379\n",
      "epoch number 1\n",
      "loss:\n",
      "D: 0.05392037332057953 0.5911930799484253\n",
      "G: 0.26679301261901855 0.26918208599090576\n",
      "VAE: 24.24065399169922\n",
      "epoch number 1\n",
      "loss:\n",
      "D: 0.041999854147434235 0.5819733142852783\n",
      "G: 0.2543521225452423 0.2679137587547302\n",
      "VAE: 18.209918975830078\n",
      "epoch number 1\n",
      "loss:\n",
      "D: 0.04576229304075241 0.5843126177787781\n",
      "G: 0.26183032989501953 0.2721070647239685\n",
      "VAE: 21.49533462524414\n",
      "epoch number 1\n",
      "loss:\n",
      "D: 0.04928404837846756 0.584152102470398\n",
      "G: 0.25779855251312256 0.2701379060745239\n",
      "VAE: 22.59218978881836\n",
      "epoch number 1\n",
      "loss:\n",
      "D: 0.03963138163089752 0.5882742404937744\n",
      "G: 0.2618359327316284 0.2632944583892822\n",
      "VAE: 18.81496810913086\n",
      "epoch number 1\n",
      "loss:\n",
      "D: 0.048349663615226746 0.5897138714790344\n",
      "G: 0.26541924476623535 0.268578439950943\n",
      "VAE: 23.266407012939453\n",
      "epoch number 1\n",
      "loss:\n",
      "D: 0.04474304988980293 0.6086648106575012\n",
      "G: 0.25990718603134155 0.25321441888809204\n",
      "VAE: 17.44904899597168\n",
      "epoch number 1\n",
      "loss:\n",
      "D: 0.045622922480106354 0.598716139793396\n",
      "G: 0.25543075799942017 0.25526395440101624\n",
      "VAE: 21.213817596435547\n",
      "epoch number 1\n",
      "loss:\n",
      "D: 0.049795448780059814 0.5886733531951904\n",
      "G: 0.24781154096126556 0.257079541683197\n",
      "VAE: 22.360233306884766\n",
      "epoch number 1\n",
      "loss:\n",
      "D: 0.04169796407222748 0.6107913255691528\n",
      "G: 0.2499065399169922 0.2547895610332489\n",
      "VAE: 21.383522033691406\n",
      "epoch number 1\n",
      "loss:\n",
      "D: 0.04375686123967171 0.6143654584884644\n",
      "G: 0.25056377053260803 0.25357699394226074\n",
      "VAE: 23.35603904724121\n",
      "epoch number 1\n",
      "loss:\n",
      "D: 0.0450088232755661 0.6191864013671875\n",
      "G: 0.24499128758907318 0.24313893914222717\n",
      "VAE: 22.359798431396484\n",
      "epoch number 1\n",
      "loss:\n",
      "D: 0.043139662593603134 0.598591685295105\n",
      "G: 0.2458009123802185 0.25057125091552734\n",
      "VAE: 21.68368911743164\n",
      "epoch number 1\n",
      "loss:\n",
      "D: 0.043058931827545166 0.6091601848602295\n",
      "G: 0.2476879358291626 0.2443045824766159\n",
      "VAE: 22.053586959838867\n",
      "epoch number 1\n",
      "loss:\n",
      "D: 0.04209798574447632 0.6075005531311035\n",
      "G: 0.24367251992225647 0.2547205686569214\n",
      "VAE: 21.4488525390625\n",
      "epoch number 1\n",
      "loss:\n",
      "D: 0.04041554778814316 0.6094613075256348\n",
      "G: 0.24913349747657776 0.24761439859867096\n",
      "VAE: 21.295696258544922\n",
      "epoch number 1\n",
      "loss:\n",
      "D: 0.0384516678750515 0.6301686763763428\n",
      "G: 0.2324194759130478 0.24390941858291626\n",
      "VAE: 20.410018920898438\n",
      "epoch number 1\n",
      "loss:\n",
      "D: 0.0390065535902977 0.6237741708755493\n",
      "G: 0.23359420895576477 0.23722973465919495\n",
      "VAE: 20.69817352294922\n",
      "epoch number 1\n",
      "loss:\n",
      "D: 0.03935509920120239 0.6266779899597168\n",
      "G: 0.23298919200897217 0.24415645003318787\n",
      "VAE: 20.372699737548828\n",
      "epoch number 1\n",
      "loss:\n",
      "D: 0.043176524341106415 0.6291795969009399\n",
      "G: 0.23662477731704712 0.23629602789878845\n",
      "VAE: 21.428619384765625\n",
      "epoch number 1\n",
      "loss:\n",
      "D: 0.04171418026089668 0.6399888396263123\n",
      "G: 0.23250296711921692 0.24594047665596008\n",
      "VAE: 20.945682525634766\n",
      "epoch number 1\n",
      "loss:\n",
      "D: 0.03655179962515831 0.6265260577201843\n",
      "G: 0.22997555136680603 0.24014362692832947\n",
      "VAE: 19.911121368408203\n",
      "epoch number 1\n",
      "loss:\n",
      "D: 0.03684856370091438 0.6397524476051331\n",
      "G: 0.22317449748516083 0.23486509919166565\n",
      "VAE: 18.82006072998047\n",
      "epoch number 1\n",
      "loss:\n",
      "D: 0.039828501641750336 0.632171630859375\n",
      "G: 0.22324921190738678 0.2345198690891266\n",
      "VAE: 20.28676986694336\n",
      "epoch number 1\n",
      "loss:\n",
      "D: 0.040329914540052414 0.6437039971351624\n",
      "G: 0.22639763355255127 0.230128675699234\n",
      "VAE: 21.266843795776367\n",
      "epoch number 1\n",
      "loss:\n",
      "D: 0.03279817849397659 0.6357412338256836\n",
      "G: 0.22701017558574677 0.22884541749954224\n",
      "VAE: 18.19788360595703\n",
      "epoch number 1\n",
      "loss:\n",
      "D: 0.03729519993066788 0.6421749591827393\n",
      "G: 0.22050440311431885 0.2238672375679016\n",
      "VAE: 18.664033889770508\n",
      "epoch number 1\n",
      "loss:\n",
      "D: 0.03544307500123978 0.6334519982337952\n",
      "G: 0.22911399602890015 0.22238671779632568\n",
      "VAE: 19.208724975585938\n",
      "epoch number 1\n",
      "loss:\n",
      "D: 0.03738170117139816 0.6535667181015015\n",
      "G: 0.2198670357465744 0.22091791033744812\n",
      "VAE: 21.617816925048828\n",
      "epoch number 1\n",
      "loss:\n",
      "D: 0.03441348299384117 0.640850841999054\n",
      "G: 0.21117092669010162 0.21744245290756226\n",
      "VAE: 23.1005859375\n",
      "epoch number 1\n",
      "loss:\n",
      "D: 0.034901101142168045 0.654768168926239\n",
      "G: 0.2120247334241867 0.22821447253227234\n",
      "VAE: 21.18157958984375\n",
      "epoch number 1\n",
      "loss:\n",
      "D: 0.031558807939291 0.6391893625259399\n",
      "G: 0.21032030880451202 0.21840813755989075\n",
      "VAE: 20.15707015991211\n",
      "epoch number 1\n",
      "loss:\n",
      "D: 0.03328514099121094 0.6528734564781189\n",
      "G: 0.2202664017677307 0.21343272924423218\n",
      "VAE: 21.564847946166992\n",
      "epoch number 1\n",
      "loss:\n",
      "D: 0.03336707502603531 0.6539371609687805\n",
      "G: 0.2055920958518982 0.21697142720222473\n",
      "VAE: 20.355194091796875\n",
      "epoch number 1\n",
      "loss:\n",
      "D: 0.02965339832007885 0.6545302271842957\n",
      "G: 0.20129653811454773 0.20938479900360107\n",
      "VAE: 19.7271728515625\n",
      "epoch number 1\n",
      "loss:\n",
      "D: 0.02910163812339306 0.6567115783691406\n",
      "G: 0.20327366888523102 0.21702830493450165\n",
      "VAE: 20.03830337524414\n",
      "epoch number 1\n",
      "loss:\n",
      "D: 0.034016333520412445 0.6562756896018982\n",
      "G: 0.20516043901443481 0.21442539989948273\n",
      "VAE: 20.03840446472168\n",
      "epoch number 1\n",
      "loss:\n",
      "D: 0.03344659507274628 0.6603605151176453\n",
      "G: 0.21165356040000916 0.20489928126335144\n",
      "VAE: 20.270719528198242\n",
      "epoch number 1\n",
      "loss:\n",
      "D: 0.03133169561624527 0.6542130708694458\n",
      "G: 0.20554840564727783 0.20706520974636078\n",
      "VAE: 20.41830825805664\n",
      "epoch number 1\n",
      "loss:\n",
      "D: 0.025336001068353653 0.6671190857887268\n",
      "G: 0.20448310673236847 0.207048699259758\n",
      "VAE: 19.50039291381836\n",
      "epoch number 1\n",
      "loss:\n",
      "D: 0.0329078771173954 0.6652088165283203\n",
      "G: 0.2071203589439392 0.19679167866706848\n",
      "VAE: 22.26198387145996\n",
      "epoch number 1\n",
      "loss:\n",
      "D: 0.025517717003822327 0.6659127473831177\n",
      "G: 0.20668162405490875 0.20213773846626282\n",
      "VAE: 17.277162551879883\n",
      "epoch number 1\n",
      "loss:\n",
      "D: 0.02664829045534134 0.6719093322753906\n",
      "G: 0.1954604685306549 0.21074017882347107\n",
      "VAE: 19.511341094970703\n",
      "epoch number 1\n",
      "loss:\n",
      "D: 0.03098970279097557 0.6773040294647217\n",
      "G: 0.2014443725347519 0.19044536352157593\n",
      "VAE: 20.062007904052734\n",
      "epoch number 1\n",
      "loss:\n",
      "D: 0.031165068969130516 0.6826854944229126\n",
      "G: 0.1913813203573227 0.19553235173225403\n",
      "VAE: 21.104251861572266\n",
      "epoch number 1\n",
      "loss:\n",
      "D: 0.030216308310627937 0.680828332901001\n",
      "G: 0.1923840045928955 0.20246955752372742\n",
      "VAE: 23.059837341308594\n",
      "epoch number 1\n",
      "loss:\n",
      "D: 0.02694583684206009 0.6748781204223633\n",
      "G: 0.19383755326271057 0.19295132160186768\n",
      "VAE: 22.020492553710938\n",
      "epoch number 1\n",
      "loss:\n",
      "D: 0.029050569981336594 0.6836186051368713\n",
      "G: 0.19319896399974823 0.1958729475736618\n",
      "VAE: 18.805870056152344\n",
      "epoch number 1\n",
      "loss:\n",
      "D: 0.027719121426343918 0.669305145740509\n",
      "G: 0.20039531588554382 0.18948429822921753\n",
      "VAE: 17.07652473449707\n",
      "epoch number 1\n",
      "loss:\n",
      "D: 0.0251275897026062 0.6812893748283386\n",
      "G: 0.18622535467147827 0.1904659867286682\n",
      "VAE: 18.794578552246094\n",
      "epoch number 1\n",
      "loss:\n",
      "D: 0.02912353351712227 0.678472101688385\n",
      "G: 0.18558914959430695 0.1881055235862732\n",
      "VAE: 24.390369415283203\n",
      "epoch number 1\n",
      "loss:\n",
      "D: 0.02734728530049324 0.6947042346000671\n",
      "G: 0.19635865092277527 0.1894487589597702\n",
      "VAE: 17.67481231689453\n",
      "epoch number 1\n",
      "loss:\n",
      "D: 0.025320788845419884 0.6893975734710693\n",
      "G: 0.18362578749656677 0.18858826160430908\n",
      "VAE: 17.761028289794922\n",
      "epoch number 1\n",
      "loss:\n",
      "D: 0.024812165647745132 0.6932833194732666\n",
      "G: 0.1870173215866089 0.19435662031173706\n",
      "VAE: 19.904233932495117\n",
      "epoch number 1\n",
      "loss:\n",
      "D: 0.02578551322221756 0.6878542304039001\n",
      "G: 0.1871296465396881 0.19658905267715454\n",
      "VAE: 21.063419342041016\n",
      "epoch number 1\n",
      "loss:\n",
      "D: 0.027512580156326294 0.6877344846725464\n",
      "G: 0.18244311213493347 0.18648701906204224\n",
      "VAE: 18.963943481445312\n",
      "epoch number 1\n",
      "loss:\n",
      "D: 0.02567709982395172 0.6867461204528809\n",
      "G: 0.1865621954202652 0.18892279267311096\n",
      "VAE: 16.33597755432129\n",
      "epoch number 1\n",
      "loss:\n",
      "D: 0.026231789961457253 0.6895993947982788\n",
      "G: 0.18555724620819092 0.18353137373924255\n",
      "VAE: 20.160879135131836\n",
      "epoch number 1\n",
      "loss:\n",
      "D: 0.028220660984516144 0.6961644887924194\n",
      "G: 0.17927448451519012 0.18021515011787415\n",
      "VAE: 18.47747802734375\n",
      "epoch number 1\n",
      "loss:\n",
      "D: 0.02815927565097809 0.695970356464386\n",
      "G: 0.17907698452472687 0.1891295611858368\n",
      "VAE: 19.2596435546875\n",
      "epoch number 1\n",
      "loss:\n",
      "D: 0.0218298751860857 0.6923943758010864\n",
      "G: 0.17743581533432007 0.1822035014629364\n",
      "VAE: 16.603174209594727\n",
      "epoch number 1\n",
      "loss:\n",
      "D: 0.027662094682455063 0.687745213508606\n",
      "G: 0.1827271580696106 0.1809534728527069\n",
      "VAE: 18.655921936035156\n",
      "epoch number 1\n",
      "loss:\n",
      "D: 0.028476029634475708 0.6965889930725098\n",
      "G: 0.17091788351535797 0.1814744770526886\n",
      "VAE: 23.315919876098633\n",
      "epoch number 1\n",
      "loss:\n",
      "D: 0.023877225816249847 0.7044187784194946\n",
      "G: 0.17335477471351624 0.18095514178276062\n",
      "VAE: 18.77664566040039\n",
      "epoch number 1\n",
      "loss:\n",
      "D: 0.02818305231630802 0.704493522644043\n",
      "G: 0.17166180908679962 0.17792151868343353\n",
      "VAE: 21.757526397705078\n",
      "epoch number 1\n",
      "loss:\n",
      "D: 0.02132084034383297 0.7082783579826355\n",
      "G: 0.16949893534183502 0.17623767256736755\n",
      "VAE: 16.566774368286133\n",
      "epoch number 1\n",
      "loss:\n",
      "D: 0.024198118597269058 0.6987541913986206\n",
      "G: 0.17651823163032532 0.18194255232810974\n",
      "VAE: 19.748943328857422\n",
      "epoch number 1\n",
      "loss:\n",
      "D: 0.020607516169548035 0.7130701541900635\n",
      "G: 0.16962803900241852 0.1728568971157074\n",
      "VAE: 19.60125160217285\n",
      "epoch number 1\n",
      "loss:\n",
      "D: 0.02192152850329876 0.7052282094955444\n",
      "G: 0.17504297196865082 0.17005887627601624\n",
      "VAE: 19.741287231445312\n",
      "epoch number 1\n",
      "loss:\n",
      "D: 0.02657279372215271 0.7096551060676575\n",
      "G: 0.16350455582141876 0.17168378829956055\n",
      "VAE: 19.01201057434082\n",
      "epoch number 1\n",
      "loss:\n",
      "D: 0.02233324572443962 0.7163244485855103\n",
      "G: 0.16626432538032532 0.17137055099010468\n",
      "VAE: 21.487335205078125\n",
      "epoch number 1\n",
      "loss:\n",
      "D: 0.0260520800948143 0.7057650089263916\n",
      "G: 0.16521905362606049 0.16559718549251556\n",
      "VAE: 21.088857650756836\n",
      "epoch number 1\n",
      "loss:\n",
      "D: 0.01949899084866047 0.7216472625732422\n",
      "G: 0.17088565230369568 0.17175841331481934\n",
      "VAE: 17.797311782836914\n",
      "epoch number 1\n",
      "loss:\n",
      "D: 0.02261958085000515 0.7112924456596375\n",
      "G: 0.16681429743766785 0.1720164269208908\n",
      "VAE: 20.087589263916016\n",
      "epoch number 1\n",
      "loss:\n",
      "D: 0.022858217358589172 0.7227867841720581\n",
      "G: 0.1594797670841217 0.16844648122787476\n",
      "VAE: 18.42831802368164\n",
      "epoch number 1\n",
      "loss:\n",
      "D: 0.021417278796434402 0.7238876223564148\n",
      "G: 0.16084176301956177 0.1637205183506012\n",
      "VAE: 19.86064910888672\n",
      "epoch number 1\n",
      "loss:\n",
      "D: 0.023045599460601807 0.7190752625465393\n",
      "G: 0.17135880887508392 0.1585809290409088\n",
      "VAE: 18.439552307128906\n",
      "epoch number 1\n",
      "loss:\n",
      "D: 0.020084332674741745 0.7160652875900269\n",
      "G: 0.1590263843536377 0.1641225814819336\n",
      "VAE: 18.88191795349121\n",
      "epoch number 1\n",
      "loss:\n",
      "D: 0.019304988905787468 0.7222767472267151\n",
      "G: 0.1613253802061081 0.15685203671455383\n",
      "VAE: 18.981786727905273\n",
      "epoch number 1\n",
      "loss:\n",
      "D: 0.023045267909765244 0.7186511754989624\n",
      "G: 0.15720799565315247 0.16126449406147003\n",
      "VAE: 18.07763671875\n",
      "epoch number 1\n",
      "loss:\n",
      "D: 0.02044554427266121 0.7244926691055298\n",
      "G: 0.16765424609184265 0.16084420680999756\n",
      "VAE: 20.7871036529541\n",
      "epoch number 1\n",
      "loss:\n",
      "D: 0.021756775677204132 0.7192712426185608\n",
      "G: 0.16226410865783691 0.16608089208602905\n",
      "VAE: 20.355148315429688\n",
      "epoch number 1\n",
      "loss:\n",
      "D: 0.018909644335508347 0.7261544466018677\n",
      "G: 0.16224978864192963 0.1582518070936203\n",
      "VAE: 17.312267303466797\n",
      "epoch number 1\n",
      "loss:\n",
      "D: 0.020284757018089294 0.7346537113189697\n",
      "G: 0.1576600819826126 0.15925177931785583\n",
      "VAE: 19.565826416015625\n",
      "epoch number 1\n",
      "loss:\n",
      "D: 0.019704045727849007 0.734512209892273\n",
      "G: 0.15626783668994904 0.15778031945228577\n",
      "VAE: 20.276798248291016\n",
      "epoch number 1\n",
      "loss:\n",
      "D: 0.01597553864121437 0.7411653995513916\n",
      "G: 0.15545284748077393 0.15611064434051514\n",
      "VAE: 17.22599983215332\n",
      "epoch number 1\n",
      "loss:\n",
      "D: 0.019738657400012016 0.7323293685913086\n",
      "G: 0.16012126207351685 0.15503203868865967\n",
      "VAE: 20.214895248413086\n",
      "epoch number 1\n",
      "loss:\n",
      "D: 0.01754668541252613 0.7496345043182373\n",
      "G: 0.1542421281337738 0.15891215205192566\n",
      "VAE: 16.522167205810547\n",
      "epoch number 1\n",
      "loss:\n",
      "D: 0.015850059688091278 0.7398314476013184\n",
      "G: 0.1526033878326416 0.15051913261413574\n",
      "VAE: 18.95676040649414\n",
      "epoch number 1\n",
      "loss:\n",
      "D: 0.0192016139626503 0.7430182695388794\n",
      "G: 0.1506158709526062 0.15402540564537048\n",
      "VAE: 17.467599868774414\n",
      "epoch number 1\n",
      "loss:\n",
      "D: 0.016342850401997566 0.7333478927612305\n",
      "G: 0.14897000789642334 0.1519295871257782\n",
      "VAE: 16.942155838012695\n",
      "epoch number 1\n",
      "loss:\n",
      "D: 0.017711032181978226 0.7448619604110718\n",
      "G: 0.1432054340839386 0.15713456273078918\n",
      "VAE: 17.788877487182617\n",
      "epoch number 1\n",
      "loss:\n",
      "D: 0.017067860811948776 0.7403411865234375\n",
      "G: 0.15304037928581238 0.1499183475971222\n",
      "VAE: 16.201690673828125\n",
      "epoch number 1\n",
      "loss:\n",
      "D: 0.017281334847211838 0.7388936281204224\n",
      "G: 0.1498418152332306 0.15004503726959229\n",
      "VAE: 19.03978729248047\n",
      "epoch number 1\n",
      "loss:\n",
      "D: 0.02160777896642685 0.7430477738380432\n",
      "G: 0.14906324446201324 0.15307573974132538\n",
      "VAE: 20.530502319335938\n",
      "epoch number 1\n",
      "loss:\n",
      "D: 0.015677109360694885 0.7452489733695984\n",
      "G: 0.14851999282836914 0.147704616189003\n",
      "VAE: 18.46929931640625\n",
      "epoch number 1\n",
      "loss:\n",
      "D: 0.018852494657039642 0.7327467203140259\n",
      "G: 0.15135423839092255 0.1531602442264557\n",
      "VAE: 20.23255157470703\n",
      "epoch number 1\n",
      "loss:\n",
      "D: 0.016692187637090683 0.7469817399978638\n",
      "G: 0.15132823586463928 0.14991304278373718\n",
      "VAE: 18.809234619140625\n",
      "epoch number 1\n",
      "loss:\n",
      "D: 0.01744265854358673 0.7513834834098816\n",
      "G: 0.1414865404367447 0.1485818326473236\n",
      "VAE: 17.546527862548828\n",
      "epoch number 1\n",
      "loss:\n",
      "D: 0.017876027151942253 0.7482026815414429\n",
      "G: 0.13997343182563782 0.1457175612449646\n",
      "VAE: 18.639793395996094\n",
      "epoch number 1\n",
      "loss:\n",
      "D: 0.019517235457897186 0.7418755292892456\n",
      "G: 0.14012570679187775 0.14856880903244019\n",
      "VAE: 18.490142822265625\n",
      "epoch number 1\n",
      "loss:\n",
      "D: 0.019699960947036743 0.7483135461807251\n",
      "G: 0.14459450542926788 0.14354325830936432\n",
      "VAE: 18.445415496826172\n",
      "epoch number 1\n",
      "loss:\n",
      "D: 0.015548684634268284 0.7559514045715332\n",
      "G: 0.14669722318649292 0.14108806848526\n",
      "VAE: 19.016876220703125\n",
      "epoch number 1\n",
      "loss:\n",
      "D: 0.01529848761856556 0.7574368715286255\n",
      "G: 0.13984468579292297 0.14270879328250885\n",
      "VAE: 18.646995544433594\n",
      "epoch number 1\n",
      "loss:\n",
      "D: 0.01757463999092579 0.7535780668258667\n",
      "G: 0.14500899612903595 0.14675477147102356\n",
      "VAE: 20.837154388427734\n",
      "epoch number 1\n",
      "loss:\n",
      "D: 0.014388388954102993 0.7569637298583984\n",
      "G: 0.14073440432548523 0.1409538835287094\n",
      "VAE: 17.620908737182617\n",
      "epoch number 1\n",
      "loss:\n",
      "D: 0.014593474566936493 0.7550475597381592\n",
      "G: 0.14132928848266602 0.1452518105506897\n",
      "VAE: 18.472732543945312\n",
      "epoch number 1\n",
      "loss:\n",
      "D: 0.012948776595294476 0.754608154296875\n",
      "G: 0.13816803693771362 0.13341259956359863\n",
      "VAE: 15.483983993530273\n",
      "epoch number 1\n",
      "loss:\n",
      "D: 0.01608854904770851 0.7625893354415894\n",
      "G: 0.1413888931274414 0.14286556839942932\n",
      "VAE: 17.280078887939453\n",
      "epoch number 1\n",
      "loss:\n",
      "D: 0.014115149155259132 0.7567917108535767\n",
      "G: 0.13372237980365753 0.14215464890003204\n",
      "VAE: 17.786914825439453\n",
      "epoch number 1\n",
      "loss:\n",
      "D: 0.01853390783071518 0.764122486114502\n",
      "G: 0.13651171326637268 0.13300108909606934\n",
      "VAE: 22.10999870300293\n",
      "epoch number 1\n",
      "loss:\n",
      "D: 0.014892974868416786 0.7550641894340515\n",
      "G: 0.13083429634571075 0.13834111392498016\n",
      "VAE: 18.44637680053711\n",
      "epoch number 1\n",
      "loss:\n",
      "D: 0.011566484346985817 0.7583847045898438\n",
      "G: 0.14149241149425507 0.14102883636951447\n",
      "VAE: 15.264053344726562\n",
      "epoch number 1\n",
      "loss:\n",
      "D: 0.014206224121153355 0.764846920967102\n",
      "G: 0.12978069484233856 0.1311270296573639\n",
      "VAE: 18.854522705078125\n",
      "epoch number 1\n",
      "loss:\n",
      "D: 0.015114056877791882 0.772335946559906\n",
      "G: 0.13285788893699646 0.1288629174232483\n",
      "VAE: 20.345714569091797\n",
      "epoch number 1\n",
      "loss:\n",
      "D: 0.018537335097789764 0.7689129114151001\n",
      "G: 0.13407385349273682 0.13279692828655243\n",
      "VAE: 20.39940643310547\n",
      "epoch number 1\n",
      "loss:\n",
      "D: 0.014916088432073593 0.7641721963882446\n",
      "G: 0.13304124772548676 0.1322258859872818\n",
      "VAE: 19.15932846069336\n",
      "epoch number 1\n",
      "loss:\n",
      "D: 0.016822678968310356 0.772681474685669\n",
      "G: 0.1386113464832306 0.1358005702495575\n",
      "VAE: 21.687135696411133\n",
      "epoch number 1\n",
      "loss:\n",
      "D: 0.014553818851709366 0.7723600268363953\n",
      "G: 0.13348469138145447 0.13405027985572815\n",
      "VAE: 17.28731918334961\n",
      "epoch number 1\n",
      "loss:\n",
      "D: 0.013594089075922966 0.76421058177948\n",
      "G: 0.13336297869682312 0.13149219751358032\n",
      "VAE: 16.866378784179688\n",
      "epoch number 1\n",
      "loss:\n",
      "D: 0.012465234845876694 0.762941837310791\n",
      "G: 0.12968039512634277 0.13713884353637695\n",
      "VAE: 17.746780395507812\n",
      "epoch number 1\n",
      "loss:\n",
      "D: 0.010395897552371025 0.7700464725494385\n",
      "G: 0.12793007493019104 0.1277524083852768\n",
      "VAE: 16.267635345458984\n",
      "epoch number 1\n",
      "loss:\n",
      "D: 0.015465070493519306 0.771625280380249\n",
      "G: 0.1285475194454193 0.1329740434885025\n",
      "VAE: 19.539108276367188\n",
      "epoch number 1\n",
      "loss:\n",
      "D: 0.017598241567611694 0.7699522972106934\n",
      "G: 0.12076753377914429 0.13186237215995789\n",
      "VAE: 20.34634017944336\n",
      "epoch number 1\n",
      "loss:\n",
      "D: 0.014327742159366608 0.7786422967910767\n",
      "G: 0.13472633063793182 0.12503176927566528\n",
      "VAE: 17.516712188720703\n",
      "epoch number 1\n",
      "loss:\n",
      "D: 0.017666148021817207 0.7697497606277466\n",
      "G: 0.12957939505577087 0.12959909439086914\n",
      "VAE: 21.360517501831055\n",
      "epoch number 1\n",
      "loss:\n",
      "D: 0.014825038611888885 0.7809690237045288\n",
      "G: 0.1266467571258545 0.128075510263443\n",
      "VAE: 18.935688018798828\n",
      "epoch number 1\n",
      "loss:\n",
      "D: 0.013258624821901321 0.7745543718338013\n",
      "G: 0.13095629215240479 0.1255035400390625\n",
      "VAE: 16.665353775024414\n",
      "epoch number 1\n",
      "loss:\n",
      "D: 0.014166444540023804 0.7732465267181396\n",
      "G: 0.12907381355762482 0.12987911701202393\n",
      "VAE: 18.26642608642578\n",
      "epoch number 1\n",
      "loss:\n",
      "D: 0.013417785987257957 0.7773804664611816\n",
      "G: 0.12828679382801056 0.12594914436340332\n",
      "VAE: 17.634937286376953\n",
      "epoch number 1\n",
      "loss:\n",
      "D: 0.012837909162044525 0.7800945043563843\n",
      "G: 0.12518566846847534 0.1255100667476654\n",
      "VAE: 19.147342681884766\n",
      "epoch number 1\n",
      "loss:\n",
      "D: 0.012704676017165184 0.792572021484375\n",
      "G: 0.12992024421691895 0.13105255365371704\n",
      "VAE: 15.559928894042969\n",
      "epoch number 1\n",
      "loss:\n",
      "D: 0.013319737277925014 0.7846114039421082\n",
      "G: 0.12980905175209045 0.12441684305667877\n",
      "VAE: 18.277225494384766\n",
      "epoch number 1\n",
      "loss:\n",
      "D: 0.01066926121711731 0.7810468673706055\n",
      "G: 0.1231955885887146 0.1275184154510498\n",
      "VAE: 16.25564956665039\n",
      "epoch number 1\n",
      "loss:\n",
      "D: 0.010220219381153584 0.7834901809692383\n",
      "G: 0.12858064472675323 0.12066569924354553\n",
      "VAE: 16.11199951171875\n",
      "epoch number 1\n",
      "loss:\n",
      "D: 0.011652271263301373 0.7861815690994263\n",
      "G: 0.12010516226291656 0.12779390811920166\n",
      "VAE: 16.51276969909668\n",
      "epoch number 1\n",
      "loss:\n",
      "D: 0.010691922158002853 0.7926846742630005\n",
      "G: 0.1216631531715393 0.12039240449666977\n",
      "VAE: 17.430452346801758\n",
      "epoch number 1\n",
      "loss:\n",
      "D: 0.013179740868508816 0.7854915261268616\n",
      "G: 0.12614262104034424 0.12708166241645813\n",
      "VAE: 17.327726364135742\n",
      "epoch number 1\n",
      "loss:\n",
      "D: 0.011531824246048927 0.7890645861625671\n",
      "G: 0.1161988377571106 0.12527130544185638\n",
      "VAE: 15.76950454711914\n",
      "epoch number 1\n",
      "loss:\n",
      "D: 0.013577627018094063 0.7920471429824829\n",
      "G: 0.11897915601730347 0.11789712309837341\n",
      "VAE: 18.80534553527832\n",
      "epoch number 1\n",
      "loss:\n",
      "D: 0.011621961370110512 0.794883131980896\n",
      "G: 0.11558765172958374 0.12124745547771454\n",
      "VAE: 17.45241355895996\n",
      "epoch number 1\n",
      "loss:\n",
      "D: 0.009697564877569675 0.7884916067123413\n",
      "G: 0.11720704287290573 0.11658783257007599\n",
      "VAE: 16.162208557128906\n",
      "epoch number 1\n",
      "loss:\n",
      "D: 0.012002942152321339 0.7912453413009644\n",
      "G: 0.1194363459944725 0.11651673913002014\n",
      "VAE: 15.976948738098145\n",
      "epoch number 1\n",
      "loss:\n",
      "D: 0.010435216128826141 0.7803475260734558\n",
      "G: 0.12312482297420502 0.1169256716966629\n",
      "VAE: 16.70229721069336\n",
      "epoch number 1\n",
      "loss:\n",
      "D: 0.010815702378749847 0.8018819093704224\n",
      "G: 0.11737076938152313 0.11707790195941925\n",
      "VAE: 15.64384937286377\n",
      "epoch number 1\n",
      "loss:\n",
      "D: 0.009846258908510208 0.789667010307312\n",
      "G: 0.11553061753511429 0.11731467396020889\n",
      "VAE: 16.073299407958984\n",
      "epoch number 1\n",
      "loss:\n",
      "D: 0.015611713752150536 0.7876001596450806\n",
      "G: 0.12395154684782028 0.11193007230758667\n",
      "VAE: 20.86111068725586\n",
      "epoch number 1\n",
      "loss:\n",
      "D: 0.009721051901578903 0.7919111251831055\n",
      "G: 0.11480970680713654 0.11794876307249069\n",
      "VAE: 19.253583908081055\n",
      "epoch number 1\n",
      "loss:\n",
      "D: 0.012958395294845104 0.8034815788269043\n",
      "G: 0.11830403655767441 0.11462537944316864\n",
      "VAE: 20.24443244934082\n",
      "epoch number 1\n",
      "loss:\n",
      "D: 0.01543974969536066 0.7991239428520203\n",
      "G: 0.11704324185848236 0.11464396119117737\n",
      "VAE: 20.423629760742188\n",
      "epoch number 1\n",
      "loss:\n",
      "D: 0.01095248106867075 0.8004046678543091\n",
      "G: 0.11086663603782654 0.11549802124500275\n",
      "VAE: 17.754064559936523\n",
      "epoch number 1\n",
      "loss:\n",
      "D: 0.010787751525640488 0.7957192659378052\n",
      "G: 0.11274905502796173 0.11202512681484222\n",
      "VAE: 17.199413299560547\n",
      "epoch number 1\n",
      "loss:\n",
      "D: 0.013587111607193947 0.7966154217720032\n",
      "G: 0.11899291723966599 0.11238725483417511\n",
      "VAE: 20.33095932006836\n",
      "epoch number 1\n",
      "loss:\n",
      "D: 0.010353446006774902 0.8028683066368103\n",
      "G: 0.10821367800235748 0.11036042124032974\n",
      "VAE: 18.820507049560547\n",
      "epoch number 1\n",
      "loss:\n",
      "D: 0.011306310072541237 0.7982840538024902\n",
      "G: 0.11453847587108612 0.11574964225292206\n",
      "VAE: 17.729923248291016\n",
      "epoch number 1\n",
      "loss:\n",
      "D: 0.010072000324726105 0.8008996248245239\n",
      "G: 0.10952971875667572 0.11058531701564789\n",
      "VAE: 17.188560485839844\n",
      "epoch number 1\n",
      "loss:\n",
      "D: 0.013855647295713425 0.8009722232818604\n",
      "G: 0.11398860812187195 0.10946855694055557\n",
      "VAE: 19.47500228881836\n",
      "epoch number 1\n",
      "loss:\n",
      "D: 0.011655239388346672 0.8024721145629883\n",
      "G: 0.10715139657258987 0.11084473133087158\n",
      "VAE: 20.182254791259766\n",
      "epoch number 1\n",
      "loss:\n",
      "D: 0.01089855283498764 0.8076800107955933\n",
      "G: 0.11119720339775085 0.10831461101770401\n",
      "VAE: 18.236953735351562\n",
      "epoch number 1\n",
      "loss:\n",
      "D: 0.010934011079370975 0.7998149394989014\n",
      "G: 0.10737815499305725 0.10565628111362457\n",
      "VAE: 16.861724853515625\n",
      "epoch number 1\n",
      "loss:\n",
      "D: 0.015147947706282139 0.8013720512390137\n",
      "G: 0.10949462652206421 0.1135815978050232\n",
      "VAE: 18.449478149414062\n",
      "epoch number 1\n",
      "loss:\n",
      "D: 0.009813191369175911 0.8068563938140869\n",
      "G: 0.11102522909641266 0.10590247809886932\n",
      "VAE: 15.225870132446289\n",
      "epoch number 1\n",
      "loss:\n",
      "D: 0.01016587670892477 0.8003429174423218\n",
      "G: 0.10865066200494766 0.11122605949640274\n",
      "VAE: 17.489612579345703\n",
      "epoch number 1\n",
      "loss:\n",
      "D: 0.01126012671738863 0.7964538335800171\n",
      "G: 0.112935870885849 0.11149364709854126\n",
      "VAE: 17.903024673461914\n",
      "epoch number 1\n",
      "loss:\n",
      "D: 0.010988601483404636 0.8068540692329407\n",
      "G: 0.1118701845407486 0.10011638700962067\n",
      "VAE: 18.066028594970703\n",
      "epoch number 1\n",
      "loss:\n",
      "D: 0.010207838378846645 0.8103165626525879\n",
      "G: 0.11011551320552826 0.10935626924037933\n",
      "VAE: 19.71166229248047\n",
      "epoch number 1\n",
      "loss:\n",
      "D: 0.01011190190911293 0.8033016324043274\n",
      "G: 0.10886697471141815 0.11023874580860138\n",
      "VAE: 18.08898162841797\n",
      "epoch number 1\n",
      "loss:\n",
      "D: 0.012257549911737442 0.816877007484436\n",
      "G: 0.10995157063007355 0.10868638008832932\n",
      "VAE: 20.165782928466797\n",
      "epoch number 1\n",
      "loss:\n",
      "D: 0.010533342137932777 0.8064864873886108\n",
      "G: 0.10038618743419647 0.10998125374317169\n",
      "VAE: 17.57477569580078\n",
      "epoch number 1\n",
      "loss:\n",
      "D: 0.011789415962994099 0.8102899789810181\n",
      "G: 0.1046251505613327 0.10460914671421051\n",
      "VAE: 17.064302444458008\n",
      "epoch number 1\n",
      "loss:\n",
      "D: 0.011048553511500359 0.81150883436203\n",
      "G: 0.10897861421108246 0.1025991141796112\n",
      "VAE: 19.577367782592773\n",
      "epoch number 1\n",
      "loss:\n",
      "D: 0.0103872986510396 0.8146907687187195\n",
      "G: 0.10804910212755203 0.10470476746559143\n",
      "VAE: 17.978683471679688\n",
      "epoch number 1\n",
      "loss:\n",
      "D: 0.012732288800179958 0.8182454109191895\n",
      "G: 0.10199011862277985 0.10703916847705841\n",
      "VAE: 20.080062866210938\n",
      "epoch number 1\n",
      "loss:\n",
      "D: 0.009072298184037209 0.8123018741607666\n",
      "G: 0.10841922461986542 0.10361677408218384\n",
      "VAE: 17.819177627563477\n",
      "epoch number 1\n",
      "loss:\n",
      "D: 0.009020060300827026 0.8097589612007141\n",
      "G: 0.10982786864042282 0.10290790349245071\n",
      "VAE: 18.05318832397461\n",
      "epoch number 1\n",
      "loss:\n",
      "D: 0.00985219981521368 0.8175617456436157\n",
      "G: 0.10666383802890778 0.10601735860109329\n",
      "VAE: 17.57901382446289\n",
      "epoch number 1\n",
      "loss:\n",
      "D: 0.01038394495844841 0.8114727735519409\n",
      "G: 0.09998010843992233 0.10698137432336807\n",
      "VAE: 18.565887451171875\n",
      "epoch number 1\n",
      "loss:\n",
      "D: 0.011100497096776962 0.8147510886192322\n",
      "G: 0.10391052067279816 0.10620977729558945\n",
      "VAE: 20.719364166259766\n",
      "epoch number 1\n",
      "loss:\n",
      "D: 0.009641245007514954 0.8078516721725464\n",
      "G: 0.10987676680088043 0.108688585460186\n",
      "VAE: 18.498327255249023\n",
      "epoch number 1\n",
      "loss:\n",
      "D: 0.011794928461313248 0.8120982646942139\n",
      "G: 0.10676738619804382 0.10849606990814209\n",
      "VAE: 19.421817779541016\n",
      "epoch number 1\n",
      "loss:\n",
      "D: 0.00888244528323412 0.8136587738990784\n",
      "G: 0.10379120707511902 0.09804973006248474\n",
      "VAE: 16.14798355102539\n",
      "epoch number 1\n",
      "loss:\n",
      "D: 0.012144124135375023 0.8198899030685425\n",
      "G: 0.10162079334259033 0.10007225722074509\n",
      "VAE: 18.287967681884766\n",
      "epoch number 1\n",
      "loss:\n",
      "D: 0.010542267933487892 0.8106263875961304\n",
      "G: 0.10318481177091599 0.09911265969276428\n",
      "VAE: 16.868587493896484\n",
      "epoch number 1\n",
      "loss:\n",
      "D: 0.010419453494250774 0.8182829022407532\n",
      "G: 0.09923237562179565 0.10394971817731857\n",
      "VAE: 18.427165985107422\n",
      "epoch number 1\n",
      "loss:\n",
      "D: 0.009982872754335403 0.8094799518585205\n",
      "G: 0.0995619148015976 0.10387446731328964\n",
      "VAE: 18.091617584228516\n",
      "epoch number 1\n",
      "loss:\n",
      "D: 0.01028544083237648 0.8206291198730469\n",
      "G: 0.09698683768510818 0.10394497215747833\n",
      "VAE: 19.05010986328125\n",
      "epoch number 1\n",
      "loss:\n",
      "D: 0.008425727486610413 0.8166532516479492\n",
      "G: 0.10193231701850891 0.09882064163684845\n",
      "VAE: 17.297040939331055\n",
      "epoch number 1\n",
      "loss:\n",
      "D: 0.010402629151940346 0.817762017250061\n",
      "G: 0.10364887118339539 0.0927669033408165\n",
      "VAE: 18.201313018798828\n",
      "epoch number 1\n",
      "loss:\n",
      "D: 0.012901080772280693 0.8135453462600708\n",
      "G: 0.10107189416885376 0.09856061637401581\n",
      "VAE: 19.69055938720703\n",
      "epoch number 1\n",
      "loss:\n",
      "D: 0.00736839696764946 0.8113372325897217\n",
      "G: 0.10138349235057831 0.10277462005615234\n",
      "VAE: 16.425399780273438\n",
      "epoch number 1\n",
      "loss:\n",
      "D: 0.008935732766985893 0.8136621713638306\n",
      "G: 0.09935566782951355 0.10404597222805023\n",
      "VAE: 18.3244571685791\n",
      "epoch number 1\n",
      "loss:\n",
      "D: 0.008428076282143593 0.8128731846809387\n",
      "G: 0.09405652433633804 0.09487305581569672\n",
      "VAE: 18.594791412353516\n",
      "epoch number 1\n",
      "loss:\n",
      "D: 0.009404150769114494 0.8110439777374268\n",
      "G: 0.10603095591068268 0.09847160428762436\n",
      "VAE: 16.899324417114258\n",
      "epoch number 1\n",
      "loss:\n",
      "D: 0.00867225881665945 0.8265875577926636\n",
      "G: 0.09884651005268097 0.0942552238702774\n",
      "VAE: 16.556339263916016\n",
      "epoch number 1\n",
      "loss:\n",
      "D: 0.008540578186511993 0.8182475566864014\n",
      "G: 0.10471029579639435 0.09949096292257309\n",
      "VAE: 17.384408950805664\n",
      "epoch number 1\n",
      "loss:\n",
      "D: 0.010808942839503288 0.8204301595687866\n",
      "G: 0.0911114364862442 0.09956967830657959\n",
      "VAE: 18.64104652404785\n",
      "epoch number 1\n",
      "loss:\n",
      "D: 0.0074000973254442215 0.8242064714431763\n",
      "G: 0.10141719877719879 0.09816887974739075\n",
      "VAE: 17.771400451660156\n",
      "epoch number 1\n",
      "loss:\n",
      "D: 0.008610665798187256 0.8277777433395386\n",
      "G: 0.10032777488231659 0.09555148333311081\n",
      "VAE: 16.86563491821289\n",
      "epoch number 1\n",
      "loss:\n",
      "D: 0.0074213603511452675 0.824621319770813\n",
      "G: 0.09659668803215027 0.10183689743280411\n",
      "VAE: 16.769533157348633\n",
      "epoch number 1\n",
      "loss:\n",
      "D: 0.011380846612155437 0.8262195587158203\n",
      "G: 0.09314770996570587 0.09602464735507965\n",
      "VAE: 19.956356048583984\n",
      "epoch number 1\n",
      "loss:\n",
      "D: 0.009736288338899612 0.8252301216125488\n",
      "G: 0.09749583154916763 0.09629812836647034\n",
      "VAE: 19.18528938293457\n",
      "epoch number 1\n",
      "loss:\n",
      "D: 0.00836216937750578 0.8176161050796509\n",
      "G: 0.0959867462515831 0.09759075939655304\n",
      "VAE: 16.992826461791992\n",
      "epoch number 1\n",
      "loss:\n",
      "D: 0.007288683205842972 0.8269163370132446\n",
      "G: 0.0972457006573677 0.09630066156387329\n",
      "VAE: 16.995689392089844\n",
      "epoch number 1\n",
      "loss:\n",
      "D: 0.0072896648198366165 0.8241930603981018\n",
      "G: 0.09418915212154388 0.09353676438331604\n",
      "VAE: 15.663922309875488\n",
      "epoch number 1\n",
      "loss:\n",
      "D: 0.0063476841896772385 0.8264318704605103\n",
      "G: 0.0963873565196991 0.10079565644264221\n",
      "VAE: 15.208785057067871\n",
      "epoch number 1\n",
      "loss:\n",
      "D: 0.006364001426845789 0.8268980979919434\n",
      "G: 0.09363707154989243 0.09118771553039551\n",
      "VAE: 16.154048919677734\n",
      "epoch number 1\n",
      "loss:\n",
      "D: 0.008854440413415432 0.833577573299408\n",
      "G: 0.09074310213327408 0.09380580484867096\n",
      "VAE: 18.36492919921875\n",
      "epoch number 1\n",
      "loss:\n",
      "D: 0.007984902709722519 0.8353061676025391\n",
      "G: 0.08608103543519974 0.096260204911232\n",
      "VAE: 18.52437973022461\n",
      "epoch number 1\n",
      "loss:\n",
      "D: 0.007112856954336166 0.8239936828613281\n",
      "G: 0.09823446720838547 0.09556020796298981\n",
      "VAE: 17.00985336303711\n",
      "epoch number 1\n",
      "loss:\n",
      "D: 0.0076019796542823315 0.8220069408416748\n",
      "G: 0.08961759507656097 0.09259473532438278\n",
      "VAE: 18.225872039794922\n",
      "epoch number 1\n",
      "loss:\n",
      "D: 0.007255189586430788 0.8340930938720703\n",
      "G: 0.09134694933891296 0.09391063451766968\n",
      "VAE: 16.0988826751709\n",
      "epoch number 1\n",
      "loss:\n",
      "D: 0.006030995864421129 0.8380287885665894\n",
      "G: 0.09321393817663193 0.09042062610387802\n",
      "VAE: 15.574305534362793\n",
      "epoch number 1\n",
      "loss:\n",
      "D: 0.00724873598664999 0.8418787717819214\n",
      "G: 0.0938505083322525 0.09456487745046616\n",
      "VAE: 16.30353546142578\n",
      "epoch number 1\n",
      "loss:\n",
      "D: 0.00784258171916008 0.8355082273483276\n",
      "G: 0.09162487089633942 0.09243810176849365\n",
      "VAE: 14.953429222106934\n",
      "epoch number 1\n",
      "loss:\n",
      "D: 0.010193935595452785 0.8311083316802979\n",
      "G: 0.09668301045894623 0.0915835052728653\n",
      "VAE: 18.242019653320312\n",
      "epoch number 1\n",
      "loss:\n",
      "D: 0.0068344371393322945 0.8356585502624512\n",
      "G: 0.09506429731845856 0.0914561003446579\n",
      "VAE: 17.201419830322266\n",
      "epoch number 1\n",
      "loss:\n",
      "D: 0.005879366770386696 0.8323801159858704\n",
      "G: 0.09041810035705566 0.09225326031446457\n",
      "VAE: 14.67391586303711\n",
      "epoch number 1\n",
      "loss:\n",
      "D: 0.009190291166305542 0.8272213339805603\n",
      "G: 0.08939097821712494 0.0957571342587471\n",
      "VAE: 18.66277313232422\n",
      "epoch number 1\n",
      "loss:\n",
      "D: 0.009527932852506638 0.842261016368866\n",
      "G: 0.08906647562980652 0.0873010903596878\n",
      "VAE: 18.91017723083496\n",
      "epoch number 1\n",
      "loss:\n",
      "D: 0.00675877695903182 0.8393558263778687\n",
      "G: 0.09451526403427124 0.09180314093828201\n",
      "VAE: 17.735830307006836\n",
      "epoch number 1\n",
      "loss:\n",
      "D: 0.006042942404747009 0.8344677686691284\n",
      "G: 0.08826624602079391 0.09399132430553436\n",
      "VAE: 16.58399200439453\n",
      "epoch number 1\n",
      "loss:\n",
      "D: 0.007618964649736881 0.8400329947471619\n",
      "G: 0.08869302272796631 0.08519914001226425\n",
      "VAE: 16.737342834472656\n",
      "epoch number 1\n",
      "loss:\n",
      "D: 0.006620901636779308 0.8388777375221252\n",
      "G: 0.0889107808470726 0.08302059769630432\n",
      "VAE: 18.531564712524414\n",
      "epoch number 1\n",
      "loss:\n",
      "D: 0.0059908488765358925 0.8348411321640015\n",
      "G: 0.08439162373542786 0.09143758565187454\n",
      "VAE: 15.49084758758545\n",
      "epoch number 1\n",
      "loss:\n",
      "D: 0.007919571362435818 0.840531587600708\n",
      "G: 0.08816565573215485 0.08937841653823853\n",
      "VAE: 16.480411529541016\n",
      "epoch number 1\n",
      "loss:\n",
      "D: 0.00782378576695919 0.8377723097801208\n",
      "G: 0.08539673686027527 0.0914776474237442\n",
      "VAE: 16.817527770996094\n",
      "epoch number 1\n",
      "loss:\n",
      "D: 0.009743532165884972 0.841504693031311\n",
      "G: 0.0882434993982315 0.08956386148929596\n",
      "VAE: 18.343219757080078\n",
      "epoch number 1\n",
      "loss:\n",
      "D: 0.007533019408583641 0.8444394469261169\n",
      "G: 0.08752775192260742 0.0900043398141861\n",
      "VAE: 17.627790451049805\n",
      "epoch number 1\n",
      "loss:\n",
      "D: 0.005770496092736721 0.8377947807312012\n",
      "G: 0.08550698310136795 0.08522104471921921\n",
      "VAE: 16.349021911621094\n",
      "epoch number 1\n",
      "loss:\n",
      "D: 0.008720754645764828 0.8454325199127197\n",
      "G: 0.08268477767705917 0.08765216171741486\n",
      "VAE: 19.380767822265625\n",
      "epoch number 1\n",
      "loss:\n",
      "D: 0.007052998058497906 0.8505717515945435\n",
      "G: 0.08722251653671265 0.08599153161048889\n",
      "VAE: 16.639083862304688\n",
      "epoch number 1\n",
      "loss:\n",
      "D: 0.009198609739542007 0.8387449383735657\n",
      "G: 0.08586569875478745 0.08677530288696289\n",
      "VAE: 19.61359405517578\n",
      "epoch number 1\n",
      "loss:\n",
      "D: 0.005235529039055109 0.839569628238678\n",
      "G: 0.08071236312389374 0.08702832460403442\n",
      "VAE: 15.455092430114746\n",
      "epoch number 1\n",
      "loss:\n",
      "D: 0.008572129532694817 0.8438743352890015\n",
      "G: 0.085782490670681 0.08433347940444946\n",
      "VAE: 18.713449478149414\n",
      "epoch number 1\n",
      "loss:\n",
      "D: 0.006435076706111431 0.843193531036377\n",
      "G: 0.09311611950397491 0.08613990247249603\n",
      "VAE: 15.312772750854492\n",
      "epoch number 1\n",
      "loss:\n",
      "D: 0.008365295827388763 0.8454433679580688\n",
      "G: 0.08158065378665924 0.08457231521606445\n",
      "VAE: 17.19058609008789\n",
      "epoch number 1\n",
      "loss:\n",
      "D: 0.008170404471457005 0.8428188562393188\n",
      "G: 0.0886453241109848 0.08595722913742065\n",
      "VAE: 19.52433967590332\n",
      "epoch number 1\n",
      "loss:\n",
      "D: 0.0070362999103963375 0.844414234161377\n",
      "G: 0.08753124624490738 0.08984331786632538\n",
      "VAE: 16.784557342529297\n",
      "epoch number 1\n",
      "loss:\n",
      "D: 0.006225863005965948 0.8446667194366455\n",
      "G: 0.08858083188533783 0.08177019655704498\n",
      "VAE: 16.032411575317383\n",
      "epoch number 1\n",
      "loss:\n",
      "D: 0.006559647619724274 0.8486205339431763\n",
      "G: 0.08566706627607346 0.0882338136434555\n",
      "VAE: 17.172222137451172\n",
      "epoch number 1\n",
      "loss:\n",
      "D: 0.009594148024916649 0.8450394868850708\n",
      "G: 0.08706341683864594 0.08450254052877426\n",
      "VAE: 19.535581588745117\n",
      "epoch number 1\n",
      "loss:\n",
      "D: 0.006570981815457344 0.8362888097763062\n",
      "G: 0.08404353260993958 0.0804678350687027\n",
      "VAE: 18.46544075012207\n",
      "epoch number 1\n",
      "loss:\n",
      "D: 0.008055012673139572 0.8455143570899963\n",
      "G: 0.08712530136108398 0.08439232409000397\n",
      "VAE: 17.630346298217773\n",
      "epoch number 1\n",
      "loss:\n",
      "D: 0.007524070795625448 0.8510030508041382\n",
      "G: 0.08124442398548126 0.07904757559299469\n",
      "VAE: 16.351938247680664\n",
      "epoch number 1\n",
      "loss:\n",
      "D: 0.006947600282728672 0.8537322878837585\n",
      "G: 0.08094669133424759 0.08301184326410294\n",
      "VAE: 18.875572204589844\n",
      "epoch number 1\n",
      "loss:\n",
      "D: 0.00548171903938055 0.8424729108810425\n",
      "G: 0.08651506155729294 0.08370824158191681\n",
      "VAE: 15.639832496643066\n",
      "epoch number 1\n",
      "loss:\n",
      "D: 0.007360327988862991 0.8526013493537903\n",
      "G: 0.08464232087135315 0.08383581042289734\n",
      "VAE: 19.04505729675293\n",
      "epoch number 1\n",
      "loss:\n",
      "D: 0.007871806621551514 0.8543171286582947\n",
      "G: 0.08192776143550873 0.08412393927574158\n",
      "VAE: 19.234132766723633\n",
      "epoch number 1\n",
      "loss:\n",
      "D: 0.005243807099759579 0.8474709987640381\n",
      "G: 0.08070266246795654 0.08231933414936066\n",
      "VAE: 14.010929107666016\n",
      "epoch number 1\n",
      "loss:\n",
      "D: 0.007378824520856142 0.847970187664032\n",
      "G: 0.0818755105137825 0.08435271680355072\n",
      "VAE: 18.833477020263672\n",
      "epoch number 1\n",
      "loss:\n",
      "D: 0.007923288270831108 0.8486496210098267\n",
      "G: 0.08218440413475037 0.08117231726646423\n",
      "VAE: 15.996479034423828\n",
      "epoch number 1\n",
      "loss:\n",
      "D: 0.008506626822054386 0.8495372533798218\n",
      "G: 0.07677680999040604 0.07937124371528625\n",
      "VAE: 20.250225067138672\n",
      "epoch number 1\n",
      "loss:\n",
      "D: 0.007708372548222542 0.8493642807006836\n",
      "G: 0.08204740285873413 0.07789485156536102\n",
      "VAE: 18.968555450439453\n",
      "epoch number 1\n",
      "loss:\n",
      "D: 0.007219755556434393 0.8498828411102295\n",
      "G: 0.08170722424983978 0.08368811011314392\n",
      "VAE: 16.75220489501953\n",
      "epoch number 1\n",
      "loss:\n",
      "D: 0.00791531428694725 0.8486299514770508\n",
      "G: 0.08400027453899384 0.07954856753349304\n",
      "VAE: 16.984352111816406\n",
      "epoch number 1\n",
      "loss:\n",
      "D: 0.008507831022143364 0.8423282504081726\n",
      "G: 0.08096236735582352 0.08239731192588806\n",
      "VAE: 19.826377868652344\n",
      "epoch number 1\n",
      "loss:\n",
      "D: 0.006323273293673992 0.8579643368721008\n",
      "G: 0.08042831718921661 0.08042429387569427\n",
      "VAE: 16.348159790039062\n",
      "epoch number 1\n",
      "loss:\n",
      "D: 0.006225735414773226 0.8420836925506592\n",
      "G: 0.08397355675697327 0.08570188283920288\n",
      "VAE: 18.76842498779297\n",
      "epoch number 1\n",
      "loss:\n",
      "D: 0.007171896751970053 0.8487971425056458\n",
      "G: 0.0806787759065628 0.08147969096899033\n",
      "VAE: 20.21103286743164\n",
      "epoch number 1\n",
      "loss:\n",
      "D: 0.007197492755949497 0.8604477643966675\n",
      "G: 0.08256040513515472 0.08004589378833771\n",
      "VAE: 15.854730606079102\n",
      "epoch number 1\n",
      "loss:\n",
      "D: 0.0075530800968408585 0.8533012866973877\n",
      "G: 0.08231180161237717 0.07802344858646393\n",
      "VAE: 16.463001251220703\n",
      "epoch number 1\n",
      "loss:\n",
      "D: 0.008540729060769081 0.8520607352256775\n",
      "G: 0.08154416084289551 0.08022050559520721\n",
      "VAE: 18.839101791381836\n",
      "epoch number 1\n",
      "loss:\n",
      "D: 0.005355347879230976 0.8529382944107056\n",
      "G: 0.0761287659406662 0.0825144425034523\n",
      "VAE: 16.965044021606445\n",
      "epoch number 1\n",
      "loss:\n",
      "D: 0.006123076193034649 0.8518946766853333\n",
      "G: 0.07899606227874756 0.08174018561840057\n",
      "VAE: 16.532852172851562\n",
      "epoch number 1\n",
      "loss:\n",
      "D: 0.00557646295055747 0.8536902666091919\n",
      "G: 0.07909880578517914 0.08025980740785599\n",
      "VAE: 14.996552467346191\n",
      "epoch number 1\n",
      "loss:\n",
      "D: 0.0070317885838449 0.8476753234863281\n",
      "G: 0.08016268908977509 0.08091391623020172\n",
      "VAE: 17.628265380859375\n",
      "epoch number 1\n",
      "loss:\n",
      "D: 0.00696457689628005 0.8561766147613525\n",
      "G: 0.07550669461488724 0.07964950799942017\n",
      "VAE: 19.042133331298828\n",
      "epoch number 1\n",
      "loss:\n",
      "D: 0.005609016865491867 0.8560187816619873\n",
      "G: 0.07641389966011047 0.0825762003660202\n",
      "VAE: 16.7438907623291\n",
      "epoch number 1\n",
      "loss:\n",
      "D: 0.006111666560173035 0.8485161066055298\n",
      "G: 0.07559141516685486 0.079503133893013\n",
      "VAE: 17.497539520263672\n",
      "epoch number 1\n",
      "loss:\n",
      "D: 0.005477910861372948 0.8587636947631836\n",
      "G: 0.07528077065944672 0.07713638246059418\n",
      "VAE: 16.924150466918945\n",
      "epoch number 1\n",
      "loss:\n",
      "D: 0.005912061780691147 0.8504308462142944\n",
      "G: 0.07665517181158066 0.07889823615550995\n",
      "VAE: 16.343969345092773\n",
      "epoch number 1\n",
      "loss:\n",
      "D: 0.0058623612858355045 0.8535363674163818\n",
      "G: 0.0789184719324112 0.07841499149799347\n",
      "VAE: 16.790637969970703\n",
      "epoch number 1\n",
      "loss:\n",
      "D: 0.006513637490570545 0.8551837205886841\n",
      "G: 0.07674417644739151 0.07500526309013367\n",
      "VAE: 19.328170776367188\n",
      "epoch number 1\n",
      "loss:\n",
      "D: 0.005464710295200348 0.8491185903549194\n",
      "G: 0.07397689670324326 0.07480727136135101\n",
      "VAE: 15.928247451782227\n",
      "epoch number 1\n",
      "loss:\n",
      "D: 0.005737887695431709 0.8604207038879395\n",
      "G: 0.07690306752920151 0.08255089819431305\n",
      "VAE: 15.964780807495117\n",
      "epoch number 1\n",
      "loss:\n",
      "D: 0.004900217521935701 0.8574531078338623\n",
      "G: 0.0789850503206253 0.08008399605751038\n",
      "VAE: 15.438009262084961\n",
      "epoch number 1\n",
      "loss:\n",
      "D: 0.0055761439725756645 0.8575044274330139\n",
      "G: 0.08375411480665207 0.07930063456296921\n",
      "VAE: 16.128040313720703\n",
      "epoch number 1\n",
      "loss:\n",
      "D: 0.004811952821910381 0.850374698638916\n",
      "G: 0.07708355784416199 0.07745175808668137\n",
      "VAE: 16.138690948486328\n",
      "epoch number 1\n",
      "loss:\n",
      "D: 0.0059080165810883045 0.8615596294403076\n",
      "G: 0.07995397597551346 0.07802830636501312\n",
      "VAE: 17.35559844970703\n",
      "epoch number 2\n",
      "loss:\n",
      "D: 0.005546288564801216 0.8549697995185852\n",
      "G: 0.07995397597551346 0.07802830636501312\n",
      "VAE: 17.35559844970703\n",
      "epoch number 2\n",
      "loss:\n",
      "D: 0.0059896791353821754 0.8573819398880005\n",
      "G: 0.07995397597551346 0.07802830636501312\n",
      "VAE: 17.35559844970703\n",
      "epoch number 2\n",
      "loss:\n",
      "D: 0.006728820502758026 0.857283353805542\n",
      "G: 0.07995397597551346 0.07802830636501312\n",
      "VAE: 17.35559844970703\n",
      "epoch number 2\n",
      "loss:\n",
      "D: 0.005689121317118406 0.8531937599182129\n",
      "G: 0.07995397597551346 0.07802830636501312\n",
      "VAE: 17.35559844970703\n",
      "epoch number 2\n",
      "loss:\n",
      "D: 0.006205445155501366 0.8570793867111206\n",
      "G: 0.07995397597551346 0.07802830636501312\n",
      "VAE: 17.35559844970703\n",
      "epoch number 2\n",
      "loss:\n",
      "D: 0.008346650749444962 0.846121072769165\n",
      "G: 0.07995397597551346 0.07802830636501312\n",
      "VAE: 17.35559844970703\n",
      "epoch number 2\n",
      "loss:\n",
      "D: 0.005174904130399227 0.8521131277084351\n",
      "G: 0.07995397597551346 0.07802830636501312\n",
      "VAE: 17.35559844970703\n",
      "epoch number 2\n",
      "loss:\n",
      "D: 0.00835525430738926 0.852135181427002\n",
      "G: 0.07995397597551346 0.07802830636501312\n",
      "VAE: 17.35559844970703\n",
      "epoch number 2\n",
      "loss:\n",
      "D: 0.006740273907780647 0.8474287986755371\n",
      "G: 0.07995397597551346 0.07802830636501312\n",
      "VAE: 17.35559844970703\n",
      "epoch number 2\n",
      "loss:\n",
      "D: 0.007446750532835722 0.846259355545044\n",
      "G: 0.07995397597551346 0.07802830636501312\n",
      "VAE: 17.35559844970703\n",
      "epoch number 2\n",
      "loss:\n",
      "D: 0.004907309077680111 0.8425742387771606\n",
      "G: 0.07995397597551346 0.07802830636501312\n",
      "VAE: 17.35559844970703\n",
      "epoch number 2\n",
      "loss:\n",
      "D: 0.007406951859593391 0.8445204496383667\n",
      "G: 0.07995397597551346 0.07802830636501312\n",
      "VAE: 17.35559844970703\n",
      "epoch number 2\n",
      "loss:\n",
      "D: 0.006931021809577942 0.8450738787651062\n",
      "G: 0.07995397597551346 0.07802830636501312\n",
      "VAE: 17.35559844970703\n",
      "epoch number 2\n",
      "loss:\n",
      "D: 0.00727680791169405 0.8455292582511902\n",
      "G: 0.07995397597551346 0.07802830636501312\n",
      "VAE: 17.35559844970703\n",
      "epoch number 2\n",
      "loss:\n",
      "D: 0.009016587398946285 0.845784068107605\n",
      "G: 0.07995397597551346 0.07802830636501312\n",
      "VAE: 17.35559844970703\n",
      "epoch number 2\n",
      "loss:\n",
      "D: 0.008172240108251572 0.8439801335334778\n",
      "G: 0.07995397597551346 0.07802830636501312\n",
      "VAE: 17.35559844970703\n",
      "epoch number 2\n",
      "loss:\n",
      "D: 0.006930235307663679 0.8465114831924438\n",
      "G: 0.07995397597551346 0.07802830636501312\n",
      "VAE: 17.35559844970703\n",
      "epoch number 2\n",
      "loss:\n",
      "D: 0.009264709427952766 0.8352364301681519\n",
      "G: 0.07995397597551346 0.07802830636501312\n",
      "VAE: 17.35559844970703\n",
      "epoch number 2\n",
      "loss:\n",
      "D: 0.005276015028357506 0.8355839848518372\n",
      "G: 0.07995397597551346 0.07802830636501312\n",
      "VAE: 17.35559844970703\n",
      "epoch number 2\n",
      "loss:\n",
      "D: 0.0075800977647304535 0.8331553339958191\n",
      "G: 0.07995397597551346 0.07802830636501312\n",
      "VAE: 17.35559844970703\n",
      "epoch number 2\n",
      "loss:\n",
      "D: 0.007065642159432173 0.8267533779144287\n",
      "G: 0.07995397597551346 0.07802830636501312\n",
      "VAE: 17.35559844970703\n",
      "epoch number 2\n",
      "loss:\n",
      "D: 0.007940966635942459 0.8256293535232544\n",
      "G: 0.07995397597551346 0.07802830636501312\n",
      "VAE: 17.35559844970703\n",
      "epoch number 2\n",
      "loss:\n",
      "D: 0.008255794644355774 0.8405629992485046\n",
      "G: 0.07995397597551346 0.07802830636501312\n",
      "VAE: 17.35559844970703\n",
      "epoch number 2\n",
      "loss:\n",
      "D: 0.00866259727627039 0.8281298875808716\n",
      "G: 0.07995397597551346 0.07802830636501312\n",
      "VAE: 17.35559844970703\n",
      "epoch number 2\n",
      "loss:\n",
      "D: 0.009422702714800835 0.830226480960846\n",
      "G: 0.07995397597551346 0.07802830636501312\n",
      "VAE: 17.35559844970703\n",
      "epoch number 2\n",
      "loss:\n",
      "D: 0.010905217379331589 0.8206604719161987\n",
      "G: 0.07995397597551346 0.07802830636501312\n",
      "VAE: 17.35559844970703\n",
      "epoch number 2\n",
      "loss:\n",
      "D: 0.008143054321408272 0.8227235078811646\n",
      "G: 0.07995397597551346 0.07802830636501312\n",
      "VAE: 17.35559844970703\n",
      "epoch number 2\n",
      "loss:\n",
      "D: 0.013534428551793098 0.817416250705719\n",
      "G: 0.07995397597551346 0.07802830636501312\n",
      "VAE: 17.35559844970703\n",
      "epoch number 2\n",
      "loss:\n",
      "D: 0.007550215348601341 0.8139065504074097\n",
      "G: 0.07995397597551346 0.07802830636501312\n",
      "VAE: 17.35559844970703\n",
      "epoch number 2\n",
      "loss:\n",
      "D: 0.011089487001299858 0.8150225877761841\n",
      "G: 0.07995397597551346 0.07802830636501312\n",
      "VAE: 17.35559844970703\n",
      "epoch number 2\n",
      "loss:\n",
      "D: 0.00999036617577076 0.8154726624488831\n",
      "G: 0.07995397597551346 0.07802830636501312\n",
      "VAE: 17.35559844970703\n",
      "epoch number 2\n",
      "loss:\n",
      "D: 0.010161099955439568 0.8130417466163635\n",
      "G: 0.07995397597551346 0.07802830636501312\n",
      "VAE: 17.35559844970703\n",
      "epoch number 2\n",
      "loss:\n",
      "D: 0.008374207653105259 0.8189701437950134\n",
      "G: 0.07995397597551346 0.07802830636501312\n",
      "VAE: 17.35559844970703\n",
      "epoch number 2\n",
      "loss:\n",
      "D: 0.008602364920079708 0.808545708656311\n",
      "G: 0.07995397597551346 0.07802830636501312\n",
      "VAE: 17.35559844970703\n",
      "epoch number 2\n",
      "loss:\n",
      "D: 0.009963282383978367 0.8022786378860474\n",
      "G: 0.07995397597551346 0.07802830636501312\n",
      "VAE: 17.35559844970703\n",
      "epoch number 2\n",
      "loss:\n",
      "D: 0.013506815768778324 0.808364748954773\n",
      "G: 0.07995397597551346 0.07802830636501312\n",
      "VAE: 17.35559844970703\n",
      "epoch number 2\n",
      "loss:\n",
      "D: 0.010717209428548813 0.8000385761260986\n",
      "G: 0.07995397597551346 0.07802830636501312\n",
      "VAE: 17.35559844970703\n",
      "epoch number 2\n",
      "loss:\n",
      "D: 0.008972257375717163 0.7939325571060181\n",
      "G: 0.07995397597551346 0.07802830636501312\n",
      "VAE: 17.35559844970703\n",
      "epoch number 2\n",
      "loss:\n",
      "D: 0.012437823228538036 0.8103236556053162\n",
      "G: 0.07995397597551346 0.07802830636501312\n",
      "VAE: 17.35559844970703\n",
      "epoch number 2\n",
      "loss:\n",
      "D: 0.013183878734707832 0.8080286979675293\n",
      "G: 0.07995397597551346 0.07802830636501312\n",
      "VAE: 17.35559844970703\n",
      "epoch number 2\n",
      "loss:\n",
      "D: 0.009881990030407906 0.7883281111717224\n",
      "G: 0.07995397597551346 0.07802830636501312\n",
      "VAE: 17.35559844970703\n",
      "epoch number 2\n",
      "loss:\n",
      "D: 0.012611402198672295 0.7939045429229736\n",
      "G: 0.07995397597551346 0.07802830636501312\n",
      "VAE: 17.35559844970703\n",
      "epoch number 2\n",
      "loss:\n",
      "D: 0.01117524690926075 0.788912296295166\n",
      "G: 0.07995397597551346 0.07802830636501312\n",
      "VAE: 17.35559844970703\n",
      "epoch number 2\n",
      "loss:\n",
      "D: 0.01290176436305046 0.796928346157074\n",
      "G: 0.07995397597551346 0.07802830636501312\n",
      "VAE: 17.35559844970703\n",
      "epoch number 2\n",
      "loss:\n",
      "D: 0.011567487381398678 0.7920923829078674\n",
      "G: 0.07995397597551346 0.07802830636501312\n",
      "VAE: 17.35559844970703\n",
      "epoch number 2\n",
      "loss:\n",
      "D: 0.012517333030700684 0.7920339107513428\n",
      "G: 0.07995397597551346 0.07802830636501312\n",
      "VAE: 17.35559844970703\n",
      "epoch number 2\n",
      "loss:\n",
      "D: 0.010644769296050072 0.7852747440338135\n",
      "G: 0.07995397597551346 0.07802830636501312\n",
      "VAE: 17.35559844970703\n",
      "epoch number 2\n",
      "loss:\n",
      "D: 0.011124862357974052 0.7834906578063965\n",
      "G: 0.07995397597551346 0.07802830636501312\n",
      "VAE: 17.35559844970703\n",
      "epoch number 2\n",
      "loss:\n",
      "D: 0.013147905468940735 0.7850192785263062\n",
      "G: 0.07995397597551346 0.07802830636501312\n",
      "VAE: 17.35559844970703\n",
      "epoch number 2\n",
      "loss:\n",
      "D: 0.012808685190975666 0.7791383266448975\n",
      "G: 0.07995397597551346 0.07802830636501312\n",
      "VAE: 17.35559844970703\n",
      "epoch number 2\n",
      "loss:\n",
      "D: 0.013874882832169533 0.7863426804542542\n",
      "G: 0.07995397597551346 0.07802830636501312\n",
      "VAE: 17.35559844970703\n",
      "epoch number 2\n",
      "loss:\n",
      "D: 0.01138050016015768 0.785092830657959\n",
      "G: 0.07995397597551346 0.07802830636501312\n",
      "VAE: 17.35559844970703\n",
      "epoch number 2\n",
      "loss:\n",
      "D: 0.01369049958884716 0.7747656106948853\n",
      "G: 0.07995397597551346 0.07802830636501312\n",
      "VAE: 17.35559844970703\n",
      "epoch number 2\n",
      "loss:\n",
      "D: 0.01832490600645542 0.7798008918762207\n",
      "G: 0.07995397597551346 0.07802830636501312\n",
      "VAE: 17.35559844970703\n",
      "epoch number 2\n",
      "loss:\n",
      "D: 0.016227753832936287 0.7763963937759399\n",
      "G: 0.07995397597551346 0.07802830636501312\n",
      "VAE: 17.35559844970703\n",
      "epoch number 2\n",
      "loss:\n",
      "D: 0.01248064823448658 0.7684066295623779\n",
      "G: 0.07995397597551346 0.07802830636501312\n",
      "VAE: 17.35559844970703\n",
      "epoch number 2\n",
      "loss:\n",
      "D: 0.013489415869116783 0.7645020484924316\n",
      "G: 0.07995397597551346 0.07802830636501312\n",
      "VAE: 17.35559844970703\n",
      "epoch number 2\n",
      "loss:\n",
      "D: 0.01678883656859398 0.7638588547706604\n",
      "G: 0.07995397597551346 0.07802830636501312\n",
      "VAE: 17.35559844970703\n",
      "epoch number 2\n",
      "loss:\n",
      "D: 0.016004528850317 0.7589972615242004\n",
      "G: 0.07995397597551346 0.07802830636501312\n",
      "VAE: 17.35559844970703\n",
      "epoch number 2\n",
      "loss:\n",
      "D: 0.0175044946372509 0.7686218619346619\n",
      "G: 0.07995397597551346 0.07802830636501312\n",
      "VAE: 17.35559844970703\n",
      "epoch number 2\n",
      "loss:\n",
      "D: 0.01728079281747341 0.7674649953842163\n",
      "G: 0.07995397597551346 0.07802830636501312\n",
      "VAE: 17.35559844970703\n",
      "epoch number 2\n",
      "loss:\n",
      "D: 0.015477899461984634 0.7578060626983643\n",
      "G: 0.07995397597551346 0.07802830636501312\n",
      "VAE: 17.35559844970703\n",
      "epoch number 2\n",
      "loss:\n",
      "D: 0.014335313811898232 0.7597234845161438\n",
      "G: 0.07995397597551346 0.07802830636501312\n",
      "VAE: 17.35559844970703\n",
      "epoch number 2\n",
      "loss:\n",
      "D: 0.014742808416485786 0.7600528001785278\n",
      "G: 0.07995397597551346 0.07802830636501312\n",
      "VAE: 17.35559844970703\n",
      "epoch number 2\n",
      "loss:\n",
      "D: 0.016647739335894585 0.7528861165046692\n",
      "G: 0.07995397597551346 0.07802830636501312\n",
      "VAE: 17.35559844970703\n",
      "epoch number 2\n",
      "loss:\n",
      "D: 0.016117868945002556 0.7489535808563232\n",
      "G: 0.07995397597551346 0.07802830636501312\n",
      "VAE: 17.35559844970703\n",
      "epoch number 2\n",
      "loss:\n",
      "D: 0.01703874208033085 0.7575145959854126\n",
      "G: 0.07995397597551346 0.07802830636501312\n",
      "VAE: 17.35559844970703\n",
      "epoch number 2\n",
      "loss:\n",
      "D: 0.016567403450608253 0.752082109451294\n",
      "G: 0.07995397597551346 0.07802830636501312\n",
      "VAE: 17.35559844970703\n",
      "epoch number 2\n",
      "loss:\n",
      "D: 0.01655721664428711 0.7545915842056274\n",
      "G: 0.07995397597551346 0.07802830636501312\n",
      "VAE: 17.35559844970703\n",
      "epoch number 2\n",
      "loss:\n",
      "D: 0.01816307194530964 0.7431354522705078\n",
      "G: 0.07995397597551346 0.07802830636501312\n",
      "VAE: 17.35559844970703\n",
      "epoch number 2\n",
      "loss:\n",
      "D: 0.018941504880785942 0.7455819845199585\n",
      "G: 0.07995397597551346 0.07802830636501312\n",
      "VAE: 17.35559844970703\n",
      "epoch number 2\n",
      "loss:\n",
      "D: 0.017674420028924942 0.745520830154419\n",
      "G: 0.07995397597551346 0.07802830636501312\n",
      "VAE: 17.35559844970703\n",
      "epoch number 2\n",
      "loss:\n",
      "D: 0.017629027366638184 0.7377483248710632\n",
      "G: 0.07995397597551346 0.07802830636501312\n",
      "VAE: 17.35559844970703\n",
      "epoch number 2\n",
      "loss:\n",
      "D: 0.018921945244073868 0.735700786113739\n",
      "G: 0.07995397597551346 0.07802830636501312\n",
      "VAE: 17.35559844970703\n",
      "epoch number 2\n",
      "loss:\n",
      "D: 0.01793704181909561 0.7240705490112305\n",
      "G: 0.07995397597551346 0.07802830636501312\n",
      "VAE: 17.35559844970703\n",
      "epoch number 2\n",
      "loss:\n",
      "D: 0.02105245366692543 0.7340842485427856\n",
      "G: 0.07995397597551346 0.07802830636501312\n",
      "VAE: 17.35559844970703\n",
      "epoch number 2\n",
      "loss:\n",
      "D: 0.01696869730949402 0.7353370189666748\n",
      "G: 0.07995397597551346 0.07802830636501312\n",
      "VAE: 17.35559844970703\n",
      "epoch number 2\n",
      "loss:\n",
      "D: 0.019012290984392166 0.7317487597465515\n",
      "G: 0.07995397597551346 0.07802830636501312\n",
      "VAE: 17.35559844970703\n",
      "epoch number 2\n",
      "loss:\n",
      "D: 0.020751476287841797 0.7239946722984314\n",
      "G: 0.07995397597551346 0.07802830636501312\n",
      "VAE: 17.35559844970703\n",
      "epoch number 2\n",
      "loss:\n",
      "D: 0.021811246871948242 0.7187581062316895\n",
      "G: 0.07995397597551346 0.07802830636501312\n",
      "VAE: 17.35559844970703\n",
      "epoch number 2\n",
      "loss:\n",
      "D: 0.018944989889860153 0.7278586030006409\n",
      "G: 0.07995397597551346 0.07802830636501312\n",
      "VAE: 17.35559844970703\n",
      "epoch number 2\n",
      "loss:\n",
      "D: 0.020254118368029594 0.7229831218719482\n",
      "G: 0.07995397597551346 0.07802830636501312\n",
      "VAE: 17.35559844970703\n",
      "epoch number 2\n",
      "loss:\n",
      "D: 0.021152853965759277 0.7188631296157837\n",
      "G: 0.07995397597551346 0.07802830636501312\n",
      "VAE: 17.35559844970703\n",
      "epoch number 2\n",
      "loss:\n",
      "D: 0.020354952663183212 0.7167425155639648\n",
      "G: 0.07995397597551346 0.07802830636501312\n",
      "VAE: 17.35559844970703\n",
      "epoch number 2\n",
      "loss:\n",
      "D: 0.02128976210951805 0.7152214050292969\n",
      "G: 0.07995397597551346 0.07802830636501312\n",
      "VAE: 17.35559844970703\n",
      "epoch number 2\n",
      "loss:\n",
      "D: 0.021495288237929344 0.7073239088058472\n",
      "G: 0.07995397597551346 0.07802830636501312\n",
      "VAE: 17.35559844970703\n",
      "epoch number 2\n",
      "loss:\n",
      "D: 0.02195294387638569 0.7180312871932983\n",
      "G: 0.07995397597551346 0.07802830636501312\n",
      "VAE: 17.35559844970703\n",
      "epoch number 2\n",
      "loss:\n",
      "D: 0.02063818834722042 0.710978627204895\n",
      "G: 0.07995397597551346 0.07802830636501312\n",
      "VAE: 17.35559844970703\n",
      "epoch number 2\n",
      "loss:\n",
      "D: 0.023861020803451538 0.7105104923248291\n",
      "G: 0.07995397597551346 0.07802830636501312\n",
      "VAE: 17.35559844970703\n",
      "epoch number 2\n",
      "loss:\n",
      "D: 0.023709332570433617 0.7091351747512817\n",
      "G: 0.07995397597551346 0.07802830636501312\n",
      "VAE: 17.35559844970703\n",
      "epoch number 2\n",
      "loss:\n",
      "D: 0.027101635932922363 0.6961556673049927\n",
      "G: 0.07995397597551346 0.07802830636501312\n",
      "VAE: 17.35559844970703\n",
      "epoch number 2\n",
      "loss:\n",
      "D: 0.023074153810739517 0.7019900679588318\n",
      "G: 0.07995397597551346 0.07802830636501312\n",
      "VAE: 17.35559844970703\n",
      "epoch number 2\n",
      "loss:\n",
      "D: 0.023890893906354904 0.6924734115600586\n",
      "G: 0.07995397597551346 0.07802830636501312\n",
      "VAE: 17.35559844970703\n",
      "epoch number 2\n",
      "loss:\n",
      "D: 0.022853942587971687 0.6884007453918457\n",
      "G: 0.07995397597551346 0.07802830636501312\n",
      "VAE: 17.35559844970703\n",
      "epoch number 2\n",
      "loss:\n",
      "D: 0.026017919182777405 0.6936241388320923\n",
      "G: 0.07995397597551346 0.07802830636501312\n",
      "VAE: 17.35559844970703\n",
      "epoch number 2\n",
      "loss:\n",
      "D: 0.0250183567404747 0.7060863971710205\n",
      "G: 0.07995397597551346 0.07802830636501312\n",
      "VAE: 17.35559844970703\n",
      "epoch number 2\n",
      "loss:\n",
      "D: 0.030093200504779816 0.6912479400634766\n",
      "G: 0.07995397597551346 0.07802830636501312\n",
      "VAE: 17.35559844970703\n",
      "epoch number 2\n",
      "loss:\n",
      "D: 0.02407531812787056 0.6877763867378235\n",
      "G: 0.07995397597551346 0.07802830636501312\n",
      "VAE: 17.35559844970703\n",
      "epoch number 2\n",
      "loss:\n",
      "D: 0.03154893219470978 0.6927527189254761\n",
      "G: 0.07995397597551346 0.07802830636501312\n",
      "VAE: 17.35559844970703\n",
      "epoch number 2\n",
      "loss:\n",
      "D: 0.024934988468885422 0.682873547077179\n",
      "G: 0.07995397597551346 0.07802830636501312\n",
      "VAE: 17.35559844970703\n",
      "epoch number 2\n",
      "loss:\n",
      "D: 0.029552534222602844 0.6824840307235718\n",
      "G: 0.07995397597551346 0.07802830636501312\n",
      "VAE: 17.35559844970703\n",
      "epoch number 2\n",
      "loss:\n",
      "D: 0.026760758832097054 0.68119215965271\n",
      "G: 0.07995397597551346 0.07802830636501312\n",
      "VAE: 17.35559844970703\n",
      "epoch number 2\n",
      "loss:\n",
      "D: 0.0260800588876009 0.6856103539466858\n",
      "G: 0.07995397597551346 0.07802830636501312\n",
      "VAE: 17.35559844970703\n",
      "epoch number 2\n",
      "loss:\n",
      "D: 0.03151830658316612 0.686293363571167\n",
      "G: 0.07995397597551346 0.07802830636501312\n",
      "VAE: 17.35559844970703\n",
      "epoch number 2\n",
      "loss:\n",
      "D: 0.025866735726594925 0.6822942495346069\n",
      "G: 0.07995397597551346 0.07802830636501312\n",
      "VAE: 17.35559844970703\n",
      "epoch number 2\n",
      "loss:\n",
      "D: 0.030397657305002213 0.6834779381752014\n",
      "G: 0.07995397597551346 0.07802830636501312\n",
      "VAE: 17.35559844970703\n",
      "epoch number 2\n",
      "loss:\n",
      "D: 0.030653342604637146 0.6666347980499268\n",
      "G: 0.07995397597551346 0.07802830636501312\n",
      "VAE: 17.35559844970703\n",
      "epoch number 2\n",
      "loss:\n",
      "D: 0.028547195717692375 0.669231116771698\n",
      "G: 0.07995397597551346 0.07802830636501312\n",
      "VAE: 17.35559844970703\n",
      "epoch number 2\n",
      "loss:\n",
      "D: 0.03300224989652634 0.6695352792739868\n",
      "G: 0.07995397597551346 0.07802830636501312\n",
      "VAE: 17.35559844970703\n",
      "epoch number 2\n",
      "loss:\n",
      "D: 0.029419243335723877 0.6659795045852661\n",
      "G: 0.07995397597551346 0.07802830636501312\n",
      "VAE: 17.35559844970703\n",
      "epoch number 2\n",
      "loss:\n",
      "D: 0.03542586416006088 0.66575688123703\n",
      "G: 0.07995397597551346 0.07802830636501312\n",
      "VAE: 17.35559844970703\n",
      "epoch number 2\n",
      "loss:\n",
      "D: 0.03039493039250374 0.6580658555030823\n",
      "G: 0.07995397597551346 0.07802830636501312\n",
      "VAE: 17.35559844970703\n",
      "epoch number 2\n",
      "loss:\n",
      "D: 0.03188211843371391 0.6631803512573242\n",
      "G: 0.07995397597551346 0.07802830636501312\n",
      "VAE: 17.35559844970703\n",
      "epoch number 2\n",
      "loss:\n",
      "D: 0.03346318006515503 0.663524329662323\n",
      "G: 0.07995397597551346 0.07802830636501312\n",
      "VAE: 17.35559844970703\n",
      "epoch number 2\n",
      "loss:\n",
      "D: 0.03013305552303791 0.6509400606155396\n",
      "G: 0.07995397597551346 0.07802830636501312\n",
      "VAE: 17.35559844970703\n",
      "epoch number 2\n",
      "loss:\n",
      "D: 0.03220941126346588 0.6531969308853149\n",
      "G: 0.07995397597551346 0.07802830636501312\n",
      "VAE: 17.35559844970703\n",
      "epoch number 2\n",
      "loss:\n",
      "D: 0.03610026463866234 0.6537408828735352\n",
      "G: 0.07995397597551346 0.07802830636501312\n",
      "VAE: 17.35559844970703\n",
      "epoch number 2\n",
      "loss:\n",
      "D: 0.03554882854223251 0.657944917678833\n",
      "G: 0.07995397597551346 0.07802830636501312\n",
      "VAE: 17.35559844970703\n",
      "epoch number 2\n",
      "loss:\n",
      "D: 0.03454285115003586 0.6466346979141235\n",
      "G: 0.07995397597551346 0.07802830636501312\n",
      "VAE: 17.35559844970703\n",
      "epoch number 2\n",
      "loss:\n",
      "D: 0.03537052124738693 0.650635838508606\n",
      "G: 0.07995397597551346 0.07802830636501312\n",
      "VAE: 17.35559844970703\n",
      "epoch number 2\n",
      "loss:\n",
      "D: 0.036405861377716064 0.6394535303115845\n",
      "G: 0.07995397597551346 0.07802830636501312\n",
      "VAE: 17.35559844970703\n",
      "epoch number 2\n",
      "loss:\n",
      "D: 0.03963248059153557 0.6399121880531311\n",
      "G: 0.07995397597551346 0.07802830636501312\n",
      "VAE: 17.35559844970703\n",
      "epoch number 2\n",
      "loss:\n",
      "D: 0.035044994205236435 0.6498705744743347\n",
      "G: 0.07995397597551346 0.07802830636501312\n",
      "VAE: 17.35559844970703\n",
      "epoch number 2\n",
      "loss:\n",
      "D: 0.039265092462301254 0.6346585750579834\n",
      "G: 0.07995397597551346 0.07802830636501312\n",
      "VAE: 17.35559844970703\n",
      "epoch number 2\n",
      "loss:\n",
      "D: 0.03937754034996033 0.6379498243331909\n",
      "G: 0.07995397597551346 0.07802830636501312\n",
      "VAE: 17.35559844970703\n",
      "epoch number 2\n",
      "loss:\n",
      "D: 0.03961315378546715 0.6395883560180664\n",
      "G: 0.07995397597551346 0.07802830636501312\n",
      "VAE: 17.35559844970703\n",
      "epoch number 2\n",
      "loss:\n",
      "D: 0.04227112978696823 0.6315808296203613\n",
      "G: 0.07995397597551346 0.07802830636501312\n",
      "VAE: 17.35559844970703\n",
      "epoch number 2\n",
      "loss:\n",
      "D: 0.03855183720588684 0.6273252367973328\n",
      "G: 0.07995397597551346 0.07802830636501312\n",
      "VAE: 17.35559844970703\n",
      "epoch number 2\n",
      "loss:\n",
      "D: 0.039330605417490005 0.6282744407653809\n",
      "G: 0.07995397597551346 0.07802830636501312\n",
      "VAE: 17.35559844970703\n",
      "epoch number 2\n",
      "loss:\n",
      "D: 0.03944341093301773 0.6278197765350342\n",
      "G: 0.07995397597551346 0.07802830636501312\n",
      "VAE: 17.35559844970703\n",
      "epoch number 2\n",
      "loss:\n",
      "D: 0.038909558206796646 0.6150436997413635\n",
      "G: 0.07995397597551346 0.07802830636501312\n",
      "VAE: 17.35559844970703\n",
      "epoch number 2\n",
      "loss:\n",
      "D: 0.042010776698589325 0.6338165998458862\n",
      "G: 0.07995397597551346 0.07802830636501312\n",
      "VAE: 17.35559844970703\n",
      "epoch number 2\n",
      "loss:\n",
      "D: 0.040699347853660583 0.6234104037284851\n",
      "G: 0.07995397597551346 0.07802830636501312\n",
      "VAE: 17.35559844970703\n",
      "epoch number 2\n",
      "loss:\n",
      "D: 0.039505235850811005 0.6274189949035645\n",
      "G: 0.07995397597551346 0.07802830636501312\n",
      "VAE: 17.35559844970703\n",
      "epoch number 2\n",
      "loss:\n",
      "D: 0.04123179614543915 0.6083275079727173\n",
      "G: 0.07995397597551346 0.07802830636501312\n",
      "VAE: 17.35559844970703\n",
      "epoch number 2\n",
      "loss:\n",
      "D: 0.03915093094110489 0.6179921627044678\n",
      "G: 0.07995397597551346 0.07802830636501312\n",
      "VAE: 17.35559844970703\n",
      "epoch number 2\n",
      "loss:\n",
      "D: 0.04203950613737106 0.6179081797599792\n",
      "G: 0.07995397597551346 0.07802830636501312\n",
      "VAE: 17.35559844970703\n",
      "epoch number 2\n",
      "loss:\n",
      "D: 0.0441548116505146 0.6119877696037292\n",
      "G: 0.07995397597551346 0.07802830636501312\n",
      "VAE: 17.35559844970703\n",
      "epoch number 2\n",
      "loss:\n",
      "D: 0.04733109846711159 0.6087937355041504\n",
      "G: 0.07995397597551346 0.07802830636501312\n",
      "VAE: 17.35559844970703\n",
      "epoch number 2\n",
      "loss:\n",
      "D: 0.03945546597242355 0.6186106204986572\n",
      "G: 0.07995397597551346 0.07802830636501312\n",
      "VAE: 17.35559844970703\n",
      "epoch number 2\n",
      "loss:\n",
      "D: 0.045219652354717255 0.6060227155685425\n",
      "G: 0.07995397597551346 0.07802830636501312\n",
      "VAE: 17.35559844970703\n",
      "epoch number 2\n",
      "loss:\n",
      "D: 0.045069169253110886 0.5991528034210205\n",
      "G: 0.07995397597551346 0.07802830636501312\n",
      "VAE: 17.35559844970703\n",
      "epoch number 2\n",
      "loss:\n",
      "D: 0.04956322908401489 0.6010450124740601\n",
      "G: 0.07995397597551346 0.07802830636501312\n",
      "VAE: 17.35559844970703\n"
     ]
    }
   ],
   "source": [
    "for epoch in range(25):\n",
    "    for i, batch in enumerate(train_ds):\n",
    "        # Get randomly selected 'real' samples\n",
    "        X_real, y_real_class = batch[0], batch[1][:, 0]\n",
    "        half_batch = int(X_real.shape[0])\n",
    "        latent_vect = E.predict(X_real, verbose=0)[-1]\n",
    "\n",
    "        # Generate 'fake' examples\n",
    "        noise = tf.random.normal([half_batch, latent_dim])\n",
    "        fakeImg = G.predict(noise, verbose=0)\n",
    "\n",
    "        # Train the discriminator\n",
    "        DlossTrue = D.train_on_batch([X_real, latent_vect], y_real_class)\n",
    "        DlossFake = D.train_on_batch(\n",
    "            [fakeImg, noise], np.zeros((half_batch, 1)))\n",
    "\n",
    "        # Train the generator\n",
    "        if epoch % 4 == 0:\n",
    "            GlossEnc = GAN.train_on_batch(\n",
    "                latent_vect, np.ones((half_batch, 1)))\n",
    "            GlossGen = GAN.train_on_batch(noise, np.ones((half_batch, 1)))\n",
    "            Eloss = VAE.train_on_batch(X_real, None)\n",
    "\n",
    "    if epoch % 10 == 0:\n",
    "        D.save_weights(f'vaediscriminator{epoch}.h5')\n",
    "        G.save_weights(f'vaegenerator{epoch}.h5')\n",
    "        E.save_weights(f'vaeencoder{epoch}.h5')\n",
    "\n",
    "    print(\"epoch number\", epoch + 1)\n",
    "    print(\"loss:\")\n",
    "    print(\"D:\", DlossTrue, DlossFake)\n",
    "    print(\"G:\", GlossEnc, GlossGen)\n",
    "    print(\"VAE:\", Eloss)\n",
    "\n",
    "print('Training done,saving weights')\n",
    "D.save_weights('vaediscriminator.h5')\n",
    "G.save_weights('vaegenerator.h5')\n",
    "E.save_weights('vaeencoder.h5')\n",
    "print('end')\n"
   ]
  }
 ],
 "metadata": {
  "kernelspec": {
   "display_name": "Python 3",
   "language": "python",
   "name": "python3"
  },
  "language_info": {
   "codemirror_mode": {
    "name": "ipython",
    "version": 3
   },
   "file_extension": ".py",
   "mimetype": "text/x-python",
   "name": "python",
   "nbconvert_exporter": "python",
   "pygments_lexer": "ipython3",
   "version": "3.10.6"
  },
  "orig_nbformat": 4
 },
 "nbformat": 4,
 "nbformat_minor": 2
}
