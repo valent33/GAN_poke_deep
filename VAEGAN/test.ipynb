{
 "cells": [
  {
   "cell_type": "code",
   "execution_count": 1,
   "metadata": {},
   "outputs": [],
   "source": [
    "import tensorflow as tf"
   ]
  },
  {
   "cell_type": "code",
   "execution_count": 2,
   "metadata": {},
   "outputs": [],
   "source": [
    "from keras.layers import Input, Dense, Conv2D, Flatten, Lambda, Reshape, BatchNormalization, Concatenate, LeakyReLU, Dropout, Activation, UpSampling2D\n",
    "from keras.models import Model\n",
    "from keras import backend as K\n",
    "import numpy as np\n",
    "\n",
    "\n",
    "def build_encoder(input_shape, latent_dim):\n",
    "    # Define the input shape\n",
    "    input_shape = (96, 96, 3)\n",
    "\n",
    "    # Define the number of latent variables\n",
    "    latent_dim = 100\n",
    "\n",
    "    # Define the encoder architecture\n",
    "    input_encoder = Input(shape=input_shape, name='input_encoder')\n",
    "    x = Conv2D(64, kernel_size=3, strides=2, padding='same')(input_encoder)\n",
    "    x = tf.keras.layers.LeakyReLU(alpha=0.2)(x)\n",
    "    x = BatchNormalization()(x)\n",
    "    x = Conv2D(128, kernel_size=3, strides=2, padding='same')(x)\n",
    "    x = tf.keras.layers.LeakyReLU(alpha=0.2)(x)\n",
    "    x = BatchNormalization()(x)\n",
    "    x = Conv2D(128, kernel_size=3, strides=2, padding='same')(x)\n",
    "    x = tf.keras.layers.LeakyReLU(alpha=0.2)(x)\n",
    "    x = BatchNormalization()(x)\n",
    "    x = Conv2D(256, kernel_size=3, strides=2, padding='same')(x)\n",
    "    x = tf.keras.layers.LeakyReLU(alpha=0.2)(x)\n",
    "    x = BatchNormalization()(x)\n",
    "    x = Flatten()(x)\n",
    "    x = Dense(256, activation='relu')(x)\n",
    "    x = BatchNormalization()(x)\n",
    "    z_mean = Dense(latent_dim, name='z_mean')(x)\n",
    "    z_log_var = Dense(latent_dim, name='z_log_var')(x)\n",
    "    \n",
    "    # Define sampling function\n",
    "    def sampling(args):\n",
    "        z_mean, z_log_var = args\n",
    "        epsilon = K.random_normal(shape=(K.shape(z_mean)[0], latent_dim), mean=0., stddev=1.)\n",
    "        return z_mean + K.exp(z_log_var / 2) * epsilon\n",
    "    \n",
    "    # Sample the latent space\n",
    "    z = Lambda(sampling, output_shape=(latent_dim,), name='z')([z_mean, z_log_var])\n",
    "    \n",
    "    # Define the encoder\n",
    "    encoder = Model(input_encoder, [z_mean, z_log_var, z], name='encoder')\n",
    "\n",
    "    return encoder"
   ]
  },
  {
   "cell_type": "code",
   "execution_count": 4,
   "metadata": {},
   "outputs": [],
   "source": [
    "# build the encoder and set weights with encoder50.h5\n",
    "encoder = build_encoder((96, 96, 3), 100)\n",
    "encoder.load_weights('vaeencoder0.h5')"
   ]
  },
  {
   "cell_type": "code",
   "execution_count": 5,
   "metadata": {},
   "outputs": [],
   "source": [
    "# Define the generator\n",
    "def build_decoder(latent_dim):\n",
    "    # Define the noise vector input\n",
    "    in_lat = tf.keras.layers.Input(shape=(latent_dim,))\n",
    "    # Define the class vector input\n",
    "    # in_class = tf.keras.layers.Input(shape=(num_classes,))\n",
    "    # Concatenate the noise and class vectors\n",
    "    # merge = tf.keras.layers.Concatenate()([in_lat, in_class])\n",
    "    # Project the concatenated vector to a larger dimension\n",
    "    n = 128\n",
    "    size = int(96/16)\n",
    "    n_nodes = n * size * size\n",
    "    dense = tf.keras.layers.Dense(n_nodes)(in_lat)\n",
    "    # Reshape the dense layer output\n",
    "    reshaped = tf.keras.layers.Reshape((size, size, n))(dense)\n",
    "    # Upsample the feature maps\n",
    "    upsampled = tf.keras.layers.Conv2DTranspose(256, (4,4), strides=(2,2), padding='same')(reshaped)\n",
    "    upsampled = tf.keras.layers.LeakyReLU(alpha=0.2)(upsampled)\n",
    "    upsampled = tf.keras.layers.Conv2DTranspose(256, (4,4), strides=(2,2), padding='same')(upsampled)\n",
    "    upsampled = tf.keras.layers.LeakyReLU(alpha=0.2)(upsampled)\n",
    "    upsampled = tf.keras.layers.Conv2DTranspose(128, (4,4), strides=(2,2), padding='same')(upsampled)\n",
    "    upsampled = tf.keras.layers.LeakyReLU(alpha=0.2)(upsampled)\n",
    "    upsampled = tf.keras.layers.Conv2DTranspose(128, (4,4), strides=(2,2), padding='same')(upsampled)\n",
    "    upsampled = tf.keras.layers.LeakyReLU(alpha=0.2)(upsampled)\n",
    "    # Output layer\n",
    "    out_layer = tf.keras.layers.Conv2D(3, (3,3), activation='tanh', padding='same')(upsampled)\n",
    "    # Define the model\n",
    "    model = tf.keras.models.Model(in_lat, out_layer, name='decoder')\n",
    "\n",
    "    return model"
   ]
  },
  {
   "cell_type": "code",
   "execution_count": 6,
   "metadata": {},
   "outputs": [],
   "source": [
    "# build generator and set weights with generator.h5\n",
    "decoder = build_decoder(100)\n",
    "decoder.load_weights('vaegenerator0.h5')\n"
   ]
  },
  {
   "cell_type": "code",
   "execution_count": 7,
   "metadata": {},
   "outputs": [],
   "source": [
    "def build_discriminator(input_shape, latent_dim):\n",
    "    # Define input layers\n",
    "    img_input = Input(shape=input_shape)\n",
    "    enc_input = Input(shape=(latent_dim,))\n",
    "\n",
    "    # image branch\n",
    "    img_layer = Conv2D(64, (3,3), strides=(2,2), padding='same')(img_input)\n",
    "    img_layer = LeakyReLU(alpha=0.2)(img_layer)\n",
    "    img_layer = Dropout(0.25)(img_layer)\n",
    "    img_layer = Conv2D(128, (3,3), strides=(2,2), padding='same')(img_layer)\n",
    "    img_layer = LeakyReLU(alpha=0.2)(img_layer)\n",
    "    img_layer = Dropout(0.25)(img_layer)\n",
    "    img_layer = Conv2D(256, (3,3), strides=(2,2), padding='same')(img_layer)\n",
    "    img_layer = LeakyReLU(alpha=0.2)(img_layer)\n",
    "    img_layer = Dropout(0.25)(img_layer)\n",
    "    img_layer = Conv2D(512, (3,3), strides=(2,2), padding='same')(img_layer)\n",
    "    img_layer = LeakyReLU(alpha=0.2)(img_layer)\n",
    "    img_layer = Dropout(0.25)(img_layer)\n",
    "    # Flatten the features\n",
    "    features = Flatten()(img_layer)\n",
    "\n",
    "    # label branch\n",
    "    latent_layer = tf.keras.layers.Dense(64)(enc_input)\n",
    "    latent_layer = tf.keras.layers.LeakyReLU(alpha=0.2)(latent_layer)\n",
    "    latent_layer = tf.keras.layers.Dense(128)(latent_layer)\n",
    "    latent_layer = tf.keras.layers.LeakyReLU(alpha=0.2)(latent_layer)\n",
    "    latent_layer = tf.keras.layers.Dense(256)(latent_layer)\n",
    "    latent_layer = tf.keras.layers.LeakyReLU(alpha=0.2)(latent_layer)\n",
    "    latent_layer = tf.keras.layers.Dense(256)(latent_layer)\n",
    "    latent_layer = tf.keras.layers.LeakyReLU(alpha=0.2)(latent_layer)\n",
    "    latent_layer = tf.keras.layers.Flatten()(latent_layer)\n",
    "\n",
    "    # Concatenate the input layers\n",
    "    merged_input = Concatenate()([features, latent_layer])\n",
    "    merged_input = tf.keras.layers.Dropout(0.4)(merged_input)\n",
    "    validity = Dense(1, activation='sigmoid')(merged_input)\n",
    "\n",
    "    # Define the model\n",
    "    model = Model(inputs=[img_input, enc_input], outputs=validity, name='discriminator')\n",
    "\n",
    "    # compile the model\n",
    "    # opt = tf.keras.optimizers.Adam(learning_rate=0.0001, beta_1=0.5)\n",
    "    # model.compile(loss='binary_crossentropy', optimizer=opt, metrics=['accuracy'])\n",
    "    \n",
    "    return model"
   ]
  },
  {
   "cell_type": "code",
   "execution_count": 8,
   "metadata": {},
   "outputs": [],
   "source": [
    "#build discriminator and set weights with discriminator50.h5\n",
    "discriminator = build_discriminator((96, 96, 3), 100)\n",
    "discriminator.load_weights('vaediscriminator0.h5')"
   ]
  },
  {
   "cell_type": "code",
   "execution_count": 9,
   "metadata": {},
   "outputs": [
    {
     "name": "stdout",
     "output_type": "stream",
     "text": [
      "1/1 [==============================] - 7s 7s/step\n"
     ]
    },
    {
     "data": {
      "image/png": "[encoded data removed]",
      "text/plain": [
       "<Figure size 640x480 with 25 Axes>"
      ]
     },
     "metadata": {},
     "output_type": "display_data"
    }
   ],
   "source": [
    "import matplotlib.pyplot as plt\n",
    "\n",
    "# plot the generated image\n",
    "def plot_generated(examples, n):\n",
    "    # plot images\n",
    "    for i in range(n * n):\n",
    "        # define subplot\n",
    "        plt.subplot(n, n, 1 + i)\n",
    "        # turn off axis\n",
    "        plt.axis('off')\n",
    "        # plot raw pixel data\n",
    "        plt.imshow(examples[i])\n",
    "    plt.show()\n",
    "\n",
    "# generate points in latent space as input for the generator\n",
    "def generate_latent_points(latent_dim, n_samples):\n",
    "    # generate points in the latent space\n",
    "    x_input = tf.random.normal([n_samples, latent_dim])\n",
    "    return x_input\n",
    "\n",
    "# generate images\n",
    "def generate_fake_samples(generator, latent_dim, n_samples):\n",
    "    # generate points in latent space\n",
    "    x_input = generate_latent_points(latent_dim, n_samples)\n",
    "    # predict outputs\n",
    "    X = generator.predict(x_input)\n",
    "    return X\n",
    "\n",
    "# generate images\n",
    "latent_dim = 100\n",
    "n_samples = 25\n",
    "X = generate_fake_samples(decoder, latent_dim, n_samples)\n",
    "# plot the result\n",
    "plot_generated(X, 5)\n"
   ]
  },
  {
   "cell_type": "code",
   "execution_count": 10,
   "metadata": {},
   "outputs": [
    {
     "name": "stdout",
     "output_type": "stream",
     "text": [
      "1/1 [==============================] - 1s 500ms/step\n"
     ]
    },
    {
     "data": {
      "image/png": "[encoded data removed]",
      "text/plain": [
       "<Figure size 640x480 with 4 Axes>"
      ]
     },
     "metadata": {},
     "output_type": "display_data"
    }
   ],
   "source": [
    "X = (generate_fake_samples(decoder, latent_dim, 4) * 255).astype('uint8')\n",
    "# plot the result\n",
    "plot_generated(X, 2)"
   ]
  },
  {
   "cell_type": "code",
   "execution_count": 15,
   "metadata": {},
   "outputs": [
    {
     "name": "stdout",
     "output_type": "stream",
     "text": [
      "(1, 96, 96, 3)\n"
     ]
    }
   ],
   "source": [
    "test_image = tf.keras.preprocessing.image.load_img('../images/test/charmander.png', color_mode='rgba', target_size=(96, 96, 4))\n",
    "test_image = tf.keras.preprocessing.image.img_to_array(test_image)\n",
    "test_image = tf.expand_dims(test_image, axis=0)\n",
    "import sys\n",
    "sys.path.append('../')\n",
    "from utils import preprocess_image\n",
    "test_image = preprocess_image(test_image)\n",
    "print(test_image.shape)"
   ]
  },
  {
   "cell_type": "code",
   "execution_count": 16,
   "metadata": {},
   "outputs": [
    {
     "name": "stdout",
     "output_type": "stream",
     "text": [
      "1/1 [==============================] - 0s 321ms/step\n",
      "1/1 [==============================] - 0s 203ms/step\n"
     ]
    }
   ],
   "source": [
    "fake_or_true = discriminator.predict([test_image, encoder.predict(test_image)[-1]])[0][0]"
   ]
  },
  {
   "cell_type": "code",
   "execution_count": 18,
   "metadata": {},
   "outputs": [
    {
     "data": {
      "application/vnd.plotly.v1+json": {
       "config": {
        "plotlyServerURL": "https://plot.ly"
       },
       "data": [
        {
         "hovertemplate": "x: %{x}<br>y: %{y}<br>color: [%{z[0]}, %{z[1]}, %{z[2]}]<extra></extra>",
         "name": "0",
         "source": "data:image/png;base64,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",
         "type": "image",
         "xaxis": "x",
         "yaxis": "y"
        }
       ],
       "layout": {
        "annotations": [
         {
          "align": "left",
          "bgcolor": "#ff7f0e",
          "bordercolor": "#c7c7c7",
          "borderpad": 2,
          "borderwidth": 1,
          "font": {
           "color": "#ffffff",
           "family": "Courier New, monospace",
           "size": 12
          },
          "opacity": 0.8,
          "showarrow": false,
          "text": "true:: nan%",
          "x": 1,
          "xref": "paper",
          "y": 1,
          "yref": "paper"
         }
        ],
        "height": 350,
        "images": [
         {
          "layer": "below",
          "sizex": 0.3,
          "sizey": 0.3,
          "source": "images/final/true:/1.png",
          "x": 1,
          "xref": "paper",
          "y": 1.1,
          "yref": "paper"
         }
        ],
        "margin": {
         "l": 0,
         "t": 60
        },
        "shapes": [
         {
          "line": {
           "color": "black",
           "width": 2
          },
          "type": "rect",
          "x0": 0,
          "x1": 96,
          "xref": "x",
          "y0": 0,
          "y1": 96,
          "yref": "y"
         }
        ],
        "template": {
         "data": {
          "bar": [
           {
            "error_x": {
             "color": "#2a3f5f"
            },
            "error_y": {
             "color": "#2a3f5f"
            },
            "marker": {
             "line": {
              "color": "#E5ECF6",
              "width": 0.5
             },
             "pattern": {
              "fillmode": "overlay",
              "size": 10,
              "solidity": 0.2
             }
            },
            "type": "bar"
           }
          ],
          "barpolar": [
           {
            "marker": {
             "line": {
              "color": "#E5ECF6",
              "width": 0.5
             },
             "pattern": {
              "fillmode": "overlay",
              "size": 10,
              "solidity": 0.2
             }
            },
            "type": "barpolar"
           }
          ],
          "carpet": [
           {
            "aaxis": {
             "endlinecolor": "#2a3f5f",
             "gridcolor": "white",
             "linecolor": "white",
             "minorgridcolor": "white",
             "startlinecolor": "#2a3f5f"
            },
            "baxis": {
             "endlinecolor": "#2a3f5f",
             "gridcolor": "white",
             "linecolor": "white",
             "minorgridcolor": "white",
             "startlinecolor": "#2a3f5f"
            },
            "type": "carpet"
           }
          ],
          "choropleth": [
           {
            "colorbar": {
             "outlinewidth": 0,
             "ticks": ""
            },
            "type": "choropleth"
           }
          ],
          "contour": [
           {
            "colorbar": {
             "outlinewidth": 0,
             "ticks": ""
            },
            "colorscale": [
             [
              0,
              "#0d0887"
             ],
             [
              0.1111111111111111,
              "#46039f"
             ],
             [
              0.2222222222222222,
              "#7201a8"
             ],
             [
              0.3333333333333333,
              "#9c179e"
             ],
             [
              0.4444444444444444,
              "#bd3786"
             ],
             [
              0.5555555555555556,
              "#d8576b"
             ],
             [
              0.6666666666666666,
              "#ed7953"
             ],
             [
              0.7777777777777778,
              "#fb9f3a"
             ],
             [
              0.8888888888888888,
              "#fdca26"
             ],
             [
              1,
              "#f0f921"
             ]
            ],
            "type": "contour"
           }
          ],
          "contourcarpet": [
           {
            "colorbar": {
             "outlinewidth": 0,
             "ticks": ""
            },
            "type": "contourcarpet"
           }
          ],
          "heatmap": [
           {
            "colorbar": {
             "outlinewidth": 0,
             "ticks": ""
            },
            "colorscale": [
             [
              0,
              "#0d0887"
             ],
             [
              0.1111111111111111,
              "#46039f"
             ],
             [
              0.2222222222222222,
              "#7201a8"
             ],
             [
              0.3333333333333333,
              "#9c179e"
             ],
             [
              0.4444444444444444,
              "#bd3786"
             ],
             [
              0.5555555555555556,
              "#d8576b"
             ],
             [
              0.6666666666666666,
              "#ed7953"
             ],
             [
              0.7777777777777778,
              "#fb9f3a"
             ],
             [
              0.8888888888888888,
              "#fdca26"
             ],
             [
              1,
              "#f0f921"
             ]
            ],
            "type": "heatmap"
           }
          ],
          "heatmapgl": [
           {
            "colorbar": {
             "outlinewidth": 0,
             "ticks": ""
            },
            "colorscale": [
             [
              0,
              "#0d0887"
             ],
             [
              0.1111111111111111,
              "#46039f"
             ],
             [
              0.2222222222222222,
              "#7201a8"
             ],
             [
              0.3333333333333333,
              "#9c179e"
             ],
             [
              0.4444444444444444,
              "#bd3786"
             ],
             [
              0.5555555555555556,
              "#d8576b"
             ],
             [
              0.6666666666666666,
              "#ed7953"
             ],
             [
              0.7777777777777778,
              "#fb9f3a"
             ],
             [
              0.8888888888888888,
              "#fdca26"
             ],
             [
              1,
              "#f0f921"
             ]
            ],
            "type": "heatmapgl"
           }
          ],
          "histogram": [
           {
            "marker": {
             "pattern": {
              "fillmode": "overlay",
              "size": 10,
              "solidity": 0.2
             }
            },
            "type": "histogram"
           }
          ],
          "histogram2d": [
           {
            "colorbar": {
             "outlinewidth": 0,
             "ticks": ""
            },
            "colorscale": [
             [
              0,
              "#0d0887"
             ],
             [
              0.1111111111111111,
              "#46039f"
             ],
             [
              0.2222222222222222,
              "#7201a8"
             ],
             [
              0.3333333333333333,
              "#9c179e"
             ],
             [
              0.4444444444444444,
              "#bd3786"
             ],
             [
              0.5555555555555556,
              "#d8576b"
             ],
             [
              0.6666666666666666,
              "#ed7953"
             ],
             [
              0.7777777777777778,
              "#fb9f3a"
             ],
             [
              0.8888888888888888,
              "#fdca26"
             ],
             [
              1,
              "#f0f921"
             ]
            ],
            "type": "histogram2d"
           }
          ],
          "histogram2dcontour": [
           {
            "colorbar": {
             "outlinewidth": 0,
             "ticks": ""
            },
            "colorscale": [
             [
              0,
              "#0d0887"
             ],
             [
              0.1111111111111111,
              "#46039f"
             ],
             [
              0.2222222222222222,
              "#7201a8"
             ],
             [
              0.3333333333333333,
              "#9c179e"
             ],
             [
              0.4444444444444444,
              "#bd3786"
             ],
             [
              0.5555555555555556,
              "#d8576b"
             ],
             [
              0.6666666666666666,
              "#ed7953"
             ],
             [
              0.7777777777777778,
              "#fb9f3a"
             ],
             [
              0.8888888888888888,
              "#fdca26"
             ],
             [
              1,
              "#f0f921"
             ]
            ],
            "type": "histogram2dcontour"
           }
          ],
          "mesh3d": [
           {
            "colorbar": {
             "outlinewidth": 0,
             "ticks": ""
            },
            "type": "mesh3d"
           }
          ],
          "parcoords": [
           {
            "line": {
             "colorbar": {
              "outlinewidth": 0,
              "ticks": ""
             }
            },
            "type": "parcoords"
           }
          ],
          "pie": [
           {
            "automargin": true,
            "type": "pie"
           }
          ],
          "scatter": [
           {
            "fillpattern": {
             "fillmode": "overlay",
             "size": 10,
             "solidity": 0.2
            },
            "type": "scatter"
           }
          ],
          "scatter3d": [
           {
            "line": {
             "colorbar": {
              "outlinewidth": 0,
              "ticks": ""
             }
            },
            "marker": {
             "colorbar": {
              "outlinewidth": 0,
              "ticks": ""
             }
            },
            "type": "scatter3d"
           }
          ],
          "scattercarpet": [
           {
            "marker": {
             "colorbar": {
              "outlinewidth": 0,
              "ticks": ""
             }
            },
            "type": "scattercarpet"
           }
          ],
          "scattergeo": [
           {
            "marker": {
             "colorbar": {
              "outlinewidth": 0,
              "ticks": ""
             }
            },
            "type": "scattergeo"
           }
          ],
          "scattergl": [
           {
            "marker": {
             "colorbar": {
              "outlinewidth": 0,
              "ticks": ""
             }
            },
            "type": "scattergl"
           }
          ],
          "scattermapbox": [
           {
            "marker": {
             "colorbar": {
              "outlinewidth": 0,
              "ticks": ""
             }
            },
            "type": "scattermapbox"
           }
          ],
          "scatterpolar": [
           {
            "marker": {
             "colorbar": {
              "outlinewidth": 0,
              "ticks": ""
             }
            },
            "type": "scatterpolar"
           }
          ],
          "scatterpolargl": [
           {
            "marker": {
             "colorbar": {
              "outlinewidth": 0,
              "ticks": ""
             }
            },
            "type": "scatterpolargl"
           }
          ],
          "scatterternary": [
           {
            "marker": {
             "colorbar": {
              "outlinewidth": 0,
              "ticks": ""
             }
            },
            "type": "scatterternary"
           }
          ],
          "surface": [
           {
            "colorbar": {
             "outlinewidth": 0,
             "ticks": ""
            },
            "colorscale": [
             [
              0,
              "#0d0887"
             ],
             [
              0.1111111111111111,
              "#46039f"
             ],
             [
              0.2222222222222222,
              "#7201a8"
             ],
             [
              0.3333333333333333,
              "#9c179e"
             ],
             [
              0.4444444444444444,
              "#bd3786"
             ],
             [
              0.5555555555555556,
              "#d8576b"
             ],
             [
              0.6666666666666666,
              "#ed7953"
             ],
             [
              0.7777777777777778,
              "#fb9f3a"
             ],
             [
              0.8888888888888888,
              "#fdca26"
             ],
             [
              1,
              "#f0f921"
             ]
            ],
            "type": "surface"
           }
          ],
          "table": [
           {
            "cells": {
             "fill": {
              "color": "#EBF0F8"
             },
             "line": {
              "color": "white"
             }
            },
            "header": {
             "fill": {
              "color": "#C8D4E3"
             },
             "line": {
              "color": "white"
             }
            },
            "type": "table"
           }
          ]
         },
         "layout": {
          "annotationdefaults": {
           "arrowcolor": "#2a3f5f",
           "arrowhead": 0,
           "arrowwidth": 1
          },
          "autotypenumbers": "strict",
          "coloraxis": {
           "colorbar": {
            "outlinewidth": 0,
            "ticks": ""
           }
          },
          "colorscale": {
           "diverging": [
            [
             0,
             "#8e0152"
            ],
            [
             0.1,
             "#c51b7d"
            ],
            [
             0.2,
             "#de77ae"
            ],
            [
             0.3,
             "#f1b6da"
            ],
            [
             0.4,
             "#fde0ef"
            ],
            [
             0.5,
             "#f7f7f7"
            ],
            [
             0.6,
             "#e6f5d0"
            ],
            [
             0.7,
             "#b8e186"
            ],
            [
             0.8,
             "#7fbc41"
            ],
            [
             0.9,
             "#4d9221"
            ],
            [
             1,
             "#276419"
            ]
           ],
           "sequential": [
            [
             0,
             "#0d0887"
            ],
            [
             0.1111111111111111,
             "#46039f"
            ],
            [
             0.2222222222222222,
             "#7201a8"
            ],
            [
             0.3333333333333333,
             "#9c179e"
            ],
            [
             0.4444444444444444,
             "#bd3786"
            ],
            [
             0.5555555555555556,
             "#d8576b"
            ],
            [
             0.6666666666666666,
             "#ed7953"
            ],
            [
             0.7777777777777778,
             "#fb9f3a"
            ],
            [
             0.8888888888888888,
             "#fdca26"
            ],
            [
             1,
             "#f0f921"
            ]
           ],
           "sequentialminus": [
            [
             0,
             "#0d0887"
            ],
            [
             0.1111111111111111,
             "#46039f"
            ],
            [
             0.2222222222222222,
             "#7201a8"
            ],
            [
             0.3333333333333333,
             "#9c179e"
            ],
            [
             0.4444444444444444,
             "#bd3786"
            ],
            [
             0.5555555555555556,
             "#d8576b"
            ],
            [
             0.6666666666666666,
             "#ed7953"
            ],
            [
             0.7777777777777778,
             "#fb9f3a"
            ],
            [
             0.8888888888888888,
             "#fdca26"
            ],
            [
             1,
             "#f0f921"
            ]
           ]
          },
          "colorway": [
           "#636efa",
           "#EF553B",
           "#00cc96",
           "#ab63fa",
           "#FFA15A",
           "#19d3f3",
           "#FF6692",
           "#B6E880",
           "#FF97FF",
           "#FECB52"
          ],
          "font": {
           "color": "#2a3f5f"
          },
          "geo": {
           "bgcolor": "white",
           "lakecolor": "white",
           "landcolor": "#E5ECF6",
           "showlakes": true,
           "showland": true,
           "subunitcolor": "white"
          },
          "hoverlabel": {
           "align": "left"
          },
          "hovermode": "closest",
          "mapbox": {
           "style": "light"
          },
          "paper_bgcolor": "white",
          "plot_bgcolor": "#E5ECF6",
          "polar": {
           "angularaxis": {
            "gridcolor": "white",
            "linecolor": "white",
            "ticks": ""
           },
           "bgcolor": "#E5ECF6",
           "radialaxis": {
            "gridcolor": "white",
            "linecolor": "white",
            "ticks": ""
           }
          },
          "scene": {
           "xaxis": {
            "backgroundcolor": "#E5ECF6",
            "gridcolor": "white",
            "gridwidth": 2,
            "linecolor": "white",
            "showbackground": true,
            "ticks": "",
            "zerolinecolor": "white"
           },
           "yaxis": {
            "backgroundcolor": "#E5ECF6",
            "gridcolor": "white",
            "gridwidth": 2,
            "linecolor": "white",
            "showbackground": true,
            "ticks": "",
            "zerolinecolor": "white"
           },
           "zaxis": {
            "backgroundcolor": "#E5ECF6",
            "gridcolor": "white",
            "gridwidth": 2,
            "linecolor": "white",
            "showbackground": true,
            "ticks": "",
            "zerolinecolor": "white"
           }
          },
          "shapedefaults": {
           "line": {
            "color": "#2a3f5f"
           }
          },
          "ternary": {
           "aaxis": {
            "gridcolor": "white",
            "linecolor": "white",
            "ticks": ""
           },
           "baxis": {
            "gridcolor": "white",
            "linecolor": "white",
            "ticks": ""
           },
           "bgcolor": "#E5ECF6",
           "caxis": {
            "gridcolor": "white",
            "linecolor": "white",
            "ticks": ""
           }
          },
          "title": {
           "x": 0.05
          },
          "xaxis": {
           "automargin": true,
           "gridcolor": "white",
           "linecolor": "white",
           "ticks": "",
           "title": {
            "standoff": 15
           },
           "zerolinecolor": "white",
           "zerolinewidth": 2
          },
          "yaxis": {
           "automargin": true,
           "gridcolor": "white",
           "linecolor": "white",
           "ticks": "",
           "title": {
            "standoff": 15
           },
           "zerolinecolor": "white",
           "zerolinewidth": 2
          }
         }
        },
        "title": {
         "text": "Label: test_image"
        },
        "width": 500,
        "xaxis": {
         "anchor": "y",
         "domain": [
          0,
          1
         ],
         "showgrid": false,
         "showticklabels": false,
         "visible": false,
         "zeroline": false
        },
        "yaxis": {
         "anchor": "x",
         "domain": [
          0,
          1
         ],
         "showgrid": false,
         "showticklabels": false,
         "visible": false,
         "zeroline": false
        }
       }
      }
     },
     "metadata": {},
     "output_type": "display_data"
    }
   ],
   "source": [
    "from utils import plot_image\n",
    "plot_image(test_image[0], 'test_image', labels={\"true:\": fake_or_true}, size=96)"
   ]
  },
  {
   "cell_type": "code",
   "execution_count": 19,
   "metadata": {},
   "outputs": [
    {
     "name": "stdout",
     "output_type": "stream",
     "text": [
      "1/1 [==============================] - 0s 37ms/step\n",
      "1/1 [==============================] - 0s 381ms/step\n"
     ]
    }
   ],
   "source": [
    "reconstruction = decoder.predict(encoder.predict(test_image)[-1])"
   ]
  },
  {
   "cell_type": "code",
   "execution_count": 22,
   "metadata": {},
   "outputs": [],
   "source": [
    "plot_image(reconstruction, 'test_image', size=96)"
   ]
  }
 ],
 "metadata": {
  "kernelspec": {
   "display_name": "Python 3",
   "language": "python",
   "name": "python3"
  },
  "language_info": {
   "codemirror_mode": {
    "name": "ipython",
    "version": 3
   },
   "file_extension": ".py",
   "mimetype": "text/x-python",
   "name": "python",
   "nbconvert_exporter": "python",
   "pygments_lexer": "ipython3",
   "version": "3.10.6"
  },
  "orig_nbformat": 4
 },
 "nbformat": 4,
 "nbformat_minor": 2
}
