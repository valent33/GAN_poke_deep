{
 "cells": [
  {
   "cell_type": "code",
   "execution_count": 1,
   "metadata": {},
   "outputs": [],
   "source": [
    "import tensorflow as tf\n",
    "import pandas as pd\n",
    "from keras.models import Sequential\n",
    "from keras.layers import LSTM, Dense\n",
    "import numpy as np\n",
    "from keras.callbacks import LambdaCallback\n"
   ]
  },
  {
   "attachments": {},
   "cell_type": "markdown",
   "metadata": {},
   "source": [
    "## Chargement du dataset de noms/types/stats"
   ]
  },
  {
   "cell_type": "code",
   "execution_count": 2,
   "metadata": {},
   "outputs": [],
   "source": [
    "df = pd.read_csv('PokeDataset.csv')\n"
   ]
  },
  {
   "cell_type": "code",
   "execution_count": 3,
   "metadata": {},
   "outputs": [],
   "source": [
    "df = df[['Name', 'Type1', 'Type2', 'HP', 'Attack',\n",
    "         'Defense', 'Sp. Atk', 'Sp. Def', 'Speed']]\n"
   ]
  },
  {
   "cell_type": "code",
   "execution_count": 4,
   "metadata": {},
   "outputs": [
    {
     "data": {
      "text/html": [
       "<div>\n",
       "<style scoped>\n",
       "    .dataframe tbody tr th:only-of-type {\n",
       "        vertical-align: middle;\n",
       "    }\n",
       "\n",
       "    .dataframe tbody tr th {\n",
       "        vertical-align: top;\n",
       "    }\n",
       "\n",
       "    .dataframe thead th {\n",
       "        text-align: right;\n",
       "    }\n",
       "</style>\n",
       "<table border=\"1\" class=\"dataframe\">\n",
       "  <thead>\n",
       "    <tr style=\"text-align: right;\">\n",
       "      <th></th>\n",
       "      <th>Name</th>\n",
       "      <th>Type1</th>\n",
       "      <th>Type2</th>\n",
       "      <th>HP</th>\n",
       "      <th>Attack</th>\n",
       "      <th>Defense</th>\n",
       "      <th>Sp. Atk</th>\n",
       "      <th>Sp. Def</th>\n",
       "      <th>Speed</th>\n",
       "    </tr>\n",
       "  </thead>\n",
       "  <tbody>\n",
       "    <tr>\n",
       "      <th>0</th>\n",
       "      <td>Bulbasaur</td>\n",
       "      <td>Grass</td>\n",
       "      <td>Poison</td>\n",
       "      <td>45</td>\n",
       "      <td>49</td>\n",
       "      <td>49</td>\n",
       "      <td>65</td>\n",
       "      <td>65</td>\n",
       "      <td>45</td>\n",
       "    </tr>\n",
       "    <tr>\n",
       "      <th>1</th>\n",
       "      <td>Ivysaur</td>\n",
       "      <td>Grass</td>\n",
       "      <td>Poison</td>\n",
       "      <td>60</td>\n",
       "      <td>62</td>\n",
       "      <td>63</td>\n",
       "      <td>80</td>\n",
       "      <td>80</td>\n",
       "      <td>60</td>\n",
       "    </tr>\n",
       "    <tr>\n",
       "      <th>2</th>\n",
       "      <td>Venusaur</td>\n",
       "      <td>Grass</td>\n",
       "      <td>Poison</td>\n",
       "      <td>80</td>\n",
       "      <td>82</td>\n",
       "      <td>83</td>\n",
       "      <td>100</td>\n",
       "      <td>100</td>\n",
       "      <td>80</td>\n",
       "    </tr>\n",
       "    <tr>\n",
       "      <th>3</th>\n",
       "      <td>Charmander</td>\n",
       "      <td>Fire</td>\n",
       "      <td>NaN</td>\n",
       "      <td>39</td>\n",
       "      <td>52</td>\n",
       "      <td>43</td>\n",
       "      <td>60</td>\n",
       "      <td>50</td>\n",
       "      <td>65</td>\n",
       "    </tr>\n",
       "    <tr>\n",
       "      <th>4</th>\n",
       "      <td>Charmeleon</td>\n",
       "      <td>Fire</td>\n",
       "      <td>NaN</td>\n",
       "      <td>58</td>\n",
       "      <td>64</td>\n",
       "      <td>58</td>\n",
       "      <td>80</td>\n",
       "      <td>65</td>\n",
       "      <td>80</td>\n",
       "    </tr>\n",
       "  </tbody>\n",
       "</table>\n",
       "</div>"
      ],
      "text/plain": [
       "         Name  Type1   Type2  HP  Attack  Defense  Sp. Atk  Sp. Def  Speed\n",
       "0   Bulbasaur  Grass  Poison  45      49       49       65       65     45\n",
       "1     Ivysaur  Grass  Poison  60      62       63       80       80     60\n",
       "2    Venusaur  Grass  Poison  80      82       83      100      100     80\n",
       "3  Charmander   Fire     NaN  39      52       43       60       50     65\n",
       "4  Charmeleon   Fire     NaN  58      64       58       80       65     80"
      ]
     },
     "execution_count": 4,
     "metadata": {},
     "output_type": "execute_result"
    }
   ],
   "source": [
    "df.head()\n"
   ]
  },
  {
   "cell_type": "code",
   "execution_count": 5,
   "metadata": {},
   "outputs": [
    {
     "name": "stdout",
     "output_type": "stream",
     "text": [
      "['Bulbasaur' 'Ivysaur' 'Venusaur' 'Charmander' 'Charmeleon']\n"
     ]
    }
   ],
   "source": [
    "names = df['Name'].values\n",
    "print(names[:5])\n"
   ]
  },
  {
   "attachments": {},
   "cell_type": "markdown",
   "metadata": {},
   "source": [
    "### Map charactères"
   ]
  },
  {
   "cell_type": "code",
   "execution_count": 6,
   "metadata": {},
   "outputs": [],
   "source": [
    "names_duplicates = list(map(lambda s: s.split('-')[0], names))\n",
    "names = list(set(names_duplicates))\n",
    "names = list(map(lambda s: s + '.', names))\n",
    "names = list(map(lambda s: s.lower(), names))\n",
    "# remove '\n",
    "names = list(map(lambda s: s.replace(\"'\", ''), names))\n",
    "# remove numbers\n",
    "names = list(map(lambda s: ''.join([i for i in s if not i.isdigit()]), names))\n",
    "# remove :\n",
    "names = list(map(lambda s: s.replace(\":\", ''), names))\n",
    "# change é to e\n",
    "names = list(map(lambda s: s.replace(\"é\", 'e'), names))\n",
    "# remove ♂ and ♀\n",
    "names = list(map(lambda s: s.replace(\"♂\", ''), names))\n",
    "names = list(map(lambda s: s.replace(\"♀\", ''), names))\n"
   ]
  },
  {
   "cell_type": "code",
   "execution_count": 7,
   "metadata": {},
   "outputs": [],
   "source": [
    "char_to_index = dict((chr(i+96), i) for i in range(1, 27))\n",
    "char_to_index[' '] = 0\n",
    "char_to_index['.'] = 27\n",
    "\n",
    "index_to_char = dict((i, chr(i+96)) for i in range(1, 27))\n",
    "index_to_char[0] = ' '\n",
    "index_to_char[27] = '.'\n",
    "\n",
    "max_char = len(max(names, key=len))\n",
    "m = len(names)\n",
    "char_dim = len(char_to_index)\n"
   ]
  },
  {
   "attachments": {},
   "cell_type": "markdown",
   "metadata": {},
   "source": [
    "### Map types"
   ]
  },
  {
   "cell_type": "code",
   "execution_count": 8,
   "metadata": {},
   "outputs": [],
   "source": [
    "type_dim = 18\n",
    "type_dict = {'Normal': 1, 'Fire': 2, 'Water': 3, 'Electric': 4, 'Grass': 5, 'Ice': 6, 'Fighting': 7, 'Poison': 8, 'Ground': 9,\n",
    "             'Flying': 10, 'Psychic': 11, 'Bug': 12, 'Rock': 13, 'Ghost': 14, 'Dragon': 15, 'Dark': 16, 'Steel': 17, 'Fairy': 18}\n"
   ]
  },
  {
   "attachments": {},
   "cell_type": "markdown",
   "metadata": {},
   "source": [
    "### Map stats"
   ]
  },
  {
   "cell_type": "code",
   "execution_count": 43,
   "metadata": {},
   "outputs": [
    {
     "name": "stdout",
     "output_type": "stream",
     "text": [
      "[[-0.93086301 -0.94855447 -0.78768439 -0.15621768 -0.18050015 -0.76499173]\n",
      " [-0.36777359 -0.5114464  -0.3081211   0.3527496   0.38170735 -0.24142719]\n",
      " [ 0.38301231  0.16102755  0.3769693   1.03137264  1.13131736  0.45665887]\n",
      " [-1.15609878 -0.84768338 -0.99321151 -0.32587344 -0.74270766 -0.06690567]\n",
      " [-0.44285218 -0.44419901 -0.47939371  0.3527496  -0.18050015  0.45665887]]\n"
     ]
    }
   ],
   "source": [
    "stats_dim = 6\n",
    "stats = df[['HP', 'Attack', 'Defense', 'Sp. Atk', 'Sp. Def', 'Speed']].values\n",
    "stats = (stats - stats.mean(axis=0)) / stats.std(axis=0)\n",
    "print(stats[:5])\n"
   ]
  },
  {
   "attachments": {},
   "cell_type": "markdown",
   "metadata": {},
   "source": [
    "### Création des X et Y\n",
    "X est le concaténation d'un charactère (28), des types (18) et des stats (6) répétées jusqu'à la fin du nom du Pokémon (max_char=13)<br>\n",
    "Y est le charactère suivant celui de X dans le nom du Pokémon"
   ]
  },
  {
   "cell_type": "code",
   "execution_count": 10,
   "metadata": {},
   "outputs": [],
   "source": [
    "X = np.zeros((m, max_char, char_dim + type_dim + stats_dim))\n",
    "Y = np.zeros((m, max_char, char_dim))\n",
    "\n",
    "for i in range(m):\n",
    "    name = list(names[i])\n",
    "    type1 = df.iloc[i]['Type1']\n",
    "    type2 = df.iloc[i]['Type2']\n",
    "    for j in range(len(name)):\n",
    "        X[i, j, char_to_index[name[j]]] = 1\n",
    "        if j < len(name)-1:\n",
    "            Y[i, j, char_to_index[name[j+1]]] = 1\n",
    "            # add type info\n",
    "            X[i, j, char_dim + type_dict[type1] - 1] = 1\n",
    "            # there isn't always a second type\n",
    "            try:\n",
    "                X[i, j, char_dim + type_dict[type2] - 1] = 1\n",
    "            except:\n",
    "                pass\n",
    "            # add stats info\n",
    "            X[i, j, char_dim + type_dim:] = stats[i, :]\n"
   ]
  },
  {
   "cell_type": "code",
   "execution_count": 11,
   "metadata": {},
   "outputs": [
    {
     "data": {
      "text/plain": [
       "((1009, 13, 52), (1009, 13, 28))"
      ]
     },
     "execution_count": 11,
     "metadata": {},
     "output_type": "execute_result"
    }
   ],
   "source": [
    "X.shape, Y.shape\n"
   ]
  },
  {
   "attachments": {},
   "cell_type": "markdown",
   "metadata": {},
   "source": [
    "## Modèle"
   ]
  },
  {
   "cell_type": "code",
   "execution_count": 12,
   "metadata": {},
   "outputs": [],
   "source": [
    "model = Sequential()\n",
    "model.add(LSTM(128, input_shape=(max_char, char_dim +\n",
    "          type_dim + stats_dim), return_sequences=True))\n",
    "model.add(Dense(char_dim, activation='softmax'))\n",
    "\n",
    "model.compile(loss='categorical_crossentropy', optimizer='adam')\n"
   ]
  },
  {
   "cell_type": "code",
   "execution_count": 13,
   "metadata": {},
   "outputs": [
    {
     "data": {
      "image/png": "[encoded data removed]",
      "text/plain": [
       "<IPython.core.display.Image object>"
      ]
     },
     "execution_count": 13,
     "metadata": {},
     "output_type": "execute_result"
    }
   ],
   "source": [
    "tf.keras.utils.plot_model(model, show_shapes=True, show_layer_names=True)\n"
   ]
  },
  {
   "cell_type": "code",
   "execution_count": 14,
   "metadata": {},
   "outputs": [],
   "source": [
    "def make_name(model, types=np.zeros((1, type_dim)), stats=np.zeros((1, stats_dim))):\n",
    "\n",
    "    name = []\n",
    "    x = np.zeros((1, max_char, char_dim))\n",
    "\n",
    "    types = np.tile(types, (1, max_char, 1))\n",
    "    x = np.concatenate((x, types), axis=2)\n",
    "\n",
    "    stats = np.tile(stats, (1, max_char, 1))\n",
    "    x = np.concatenate((x, stats), axis=2)\n",
    "\n",
    "    end = False\n",
    "    i = 0\n",
    "\n",
    "    while end == False:\n",
    "        probs = list(model.predict(x, verbose=0)[0, i])\n",
    "        probs = probs / np.sum(probs)\n",
    "        index = np.random.choice(range(char_dim), p=probs)\n",
    "        if i == max_char-2:\n",
    "            character = '.'\n",
    "            end = True\n",
    "        else:\n",
    "            character = index_to_char[index]\n",
    "        name.append(character)\n",
    "        x[0, i+1, index] = 1\n",
    "        i += 1\n",
    "        if character == '.':\n",
    "            end = True\n",
    "\n",
    "    print(''.join(name))\n"
   ]
  },
  {
   "cell_type": "code",
   "execution_count": 16,
   "metadata": {},
   "outputs": [
    {
     "name": "stdout",
     "output_type": "stream",
     "text": [
      "Names generated after epoch 0:\n",
      "rstppm.\n",
      "lqgltnzrloh.\n",
      "tcyqbu.\n",
      "\n",
      "Names generated after epoch 25:\n",
      "baggelz.\n",
      "ymobwetzehi.\n",
      "ngtmklors.\n",
      "\n",
      "Names generated after epoch 50:\n",
      "losfb.\n",
      ".\n",
      "gmurka.\n",
      "\n",
      "Names generated after epoch 75:\n",
      "srourasckeu.\n",
      "hntroc.\n",
      " ngvalt.\n",
      "\n",
      "Names generated after epoch 100:\n",
      "vulpul ik s.\n",
      "yangu.\n",
      "ecrc iha.\n",
      "\n",
      "Names generated after epoch 125:\n",
      " ubltlpu.\n",
      "roogv.\n",
      "optekenoaex.\n",
      "\n",
      "Names generated after epoch 150:\n",
      "maapln.\n",
      "atizbrs.\n",
      "owgerez.\n",
      "\n",
      "Names generated after epoch 175:\n",
      "frifw.\n",
      "pomup.\n",
      "hinmtfslsfm.\n",
      "\n",
      "Names generated after epoch 200:\n",
      "xrreo.\n",
      "agid.\n",
      "urvabuto.\n",
      "\n",
      "Names generated after epoch 225:\n",
      "ceazitrmzoz.\n",
      "ladokousa.\n",
      "ulrolw.\n",
      "\n",
      "Names generated after epoch 250:\n",
      "raplleltcaf.\n",
      "saloaretws.\n",
      "avann.\n",
      "\n",
      "Names generated after epoch 275:\n",
      "ulbafyiingc.\n",
      "jolt.\n",
      "vinlecwe.\n",
      "\n",
      "Names generated after epoch 300:\n",
      "zgamgeae.\n",
      "mosk.\n",
      "yenn.\n",
      "\n",
      "Names generated after epoch 325:\n",
      "xilu.\n",
      "aos b.\n",
      "n.\n",
      "\n",
      "Names generated after epoch 350:\n",
      "fabenedk.\n",
      "flleto.\n",
      "etagceen.\n",
      "\n",
      "Names generated after epoch 375:\n",
      "yqluenakoze.\n",
      "araufyf.\n",
      "atonenk.\n",
      "\n",
      "Names generated after epoch 400:\n",
      "zavvoho.\n",
      "rawoopi.\n",
      "tynsael.\n",
      "\n",
      "Names generated after epoch 425:\n",
      "dubbunsabws.\n",
      "duraclhncds.\n",
      "ntthoqokas.\n",
      "\n",
      "Names generated after epoch 450:\n",
      "ossgdso.\n",
      "ldama.\n",
      "raonuro sgi.\n",
      "\n",
      "Names generated after epoch 475:\n",
      "zaridyogu.\n",
      "invoe.\n",
      "jysre.\n",
      "\n"
     ]
    },
    {
     "data": {
      "text/plain": [
       "<keras.callbacks.History at 0x1ccee6a8a60>"
      ]
     },
     "execution_count": 16,
     "metadata": {},
     "output_type": "execute_result"
    }
   ],
   "source": [
    "def train(epoch, _):\n",
    "    if epoch % 25 == 0:\n",
    "\n",
    "        print('Names generated after epoch %d:' % epoch)\n",
    "\n",
    "        for _ in range(3):\n",
    "            types = np.zeros((1, type_dim))\n",
    "            types[0][np.random.randint(0, type_dim)] = 1\n",
    "            stats = np.random.randn(1, stats_dim)\n",
    "            make_name(model, types=types, stats=stats)\n",
    "\n",
    "        print()\n",
    "\n",
    "name_generator = LambdaCallback(on_epoch_end=train)\n",
    "\n",
    "model.fit(X, Y, batch_size=64, epochs=500,\n",
    "          callbacks=[name_generator], verbose=0)\n"
   ]
  },
  {
   "attachments": {},
   "cell_type": "markdown",
   "metadata": {},
   "source": [
    "## Tests"
   ]
  },
  {
   "cell_type": "code",
   "execution_count": 42,
   "metadata": {},
   "outputs": [
    {
     "name": "stdout",
     "output_type": "stream",
     "text": [
      " carapeena.\n"
     ]
    }
   ],
   "source": [
    "types_ = np.zeros((1, type_dim))\n",
    "types_[0][type_dict['Fire'] - 1] = 1\n",
    "stats_ = np.random.randn(1, stats_dim)\n",
    "make_name(model, types=types_, stats=stats_)\n"
   ]
  },
  {
   "cell_type": "code",
   "execution_count": 31,
   "metadata": {},
   "outputs": [],
   "source": [
    "model.save('model_namegen_500_type_stat.h5')\n"
   ]
  },
  {
   "cell_type": "code",
   "execution_count": 32,
   "metadata": {},
   "outputs": [],
   "source": [
    "model = tf.keras.models.load_model('model_namegen_500_type_stat.h5')\n"
   ]
  },
  {
   "cell_type": "code",
   "execution_count": 33,
   "metadata": {},
   "outputs": [
    {
     "data": {
      "text/plain": [
       "0.7862266898155212"
      ]
     },
     "execution_count": 33,
     "metadata": {},
     "output_type": "execute_result"
    }
   ],
   "source": [
    "# evaluate the model\n",
    "model.evaluate(X, Y, verbose=0)\n"
   ]
  },
  {
   "cell_type": "code",
   "execution_count": 60,
   "metadata": {},
   "outputs": [
    {
     "name": "stdout",
     "output_type": "stream",
     "text": [
      "pilpoxi.\n"
     ]
    }
   ],
   "source": [
    "# try to recreate \"Pikachu\"\n",
    "pikachu = np.zeros((1, max_char, char_dim + type_dim + stats_dim))\n",
    "pikachu[0, 0, char_to_index['p']] = 1\n",
    "# set type\n",
    "pikachu[0, :, char_dim + type_dict['Electric'] - 1] = 1\n",
    "# set stats\n",
    "pikachu[0, :, char_dim + type_dim:] = stats[25, :]\n",
    "\n",
    "name = ['p']\n",
    "end = False\n",
    "i = 1\n",
    "while end == False:\n",
    "    probs = list(model.predict(pikachu, verbose=0)[0, i])\n",
    "    probs = probs / np.sum(probs)\n",
    "    index = np.random.choice(range(char_dim), p=probs)\n",
    "    if i == max_char-2:\n",
    "        character = '.'\n",
    "        end = True\n",
    "    else:\n",
    "        character = index_to_char[index]\n",
    "    name.append(character)\n",
    "    pikachu[0, i+1, index] = 1\n",
    "    i += 1\n",
    "    if character == '.':\n",
    "        end = True\n",
    "\n",
    "print(''.join(name))\n"
   ]
  }
 ],
 "metadata": {
  "kernelspec": {
   "display_name": "Python 3",
   "language": "python",
   "name": "python3"
  },
  "language_info": {
   "codemirror_mode": {
    "name": "ipython",
    "version": 3
   },
   "file_extension": ".py",
   "mimetype": "text/x-python",
   "name": "python",
   "nbconvert_exporter": "python",
   "pygments_lexer": "ipython3",
   "version": "3.10.6"
  },
  "orig_nbformat": 4
 },
 "nbformat": 4,
 "nbformat_minor": 2
}
