{
 "cells": [
  {
   "cell_type": "code",
   "execution_count": 1,
   "metadata": {},
   "outputs": [],
   "source": [
    "import tensorflow as tf\n",
    "import plotly.express as px\n",
    "from tensorflow.keras.applications import EfficientNetB4\n",
    "from tensorflow.keras.applications.efficientnet import preprocess_input\n",
    "from utils import *"
   ]
  },
  {
   "cell_type": "code",
   "execution_count": 2,
   "metadata": {},
   "outputs": [],
   "source": [
    "directory = 'images/final/'\n",
    "width = 128\n",
    "height = 128\n",
    "channels = 4\n",
    "image_size = (width, height)\n",
    "input_shape = (width, height, channels)\n",
    "batch_size = 32"
   ]
  },
  {
   "cell_type": "code",
   "execution_count": 3,
   "metadata": {},
   "outputs": [
    {
     "name": "stdout",
     "output_type": "stream",
     "text": [
      "Found 13849 files belonging to 905 classes.\n"
     ]
    }
   ],
   "source": [
    "train_ds, class_names = load_data(directory, batch_size, image_size, GAN=True)"
   ]
  },
  {
   "cell_type": "code",
   "execution_count": 4,
   "metadata": {},
   "outputs": [],
   "source": [
    "train_ds = prepare(train_ds, shuffle=True, augment=False, GAN=True)\n",
    "\n",
    "channels = 3\n",
    "input_shape = (width, height, channels)"
   ]
  },
  {
   "cell_type": "code",
   "execution_count": 5,
   "metadata": {},
   "outputs": [],
   "source": [
    "# for image_batch, label_batch in train_ds.take(1):\n",
    "#     print(image_batch[0][50][50])\n",
    "#     im = image_batch * 127.5 + 127.5\n",
    "#     print(im[0][50][50])\n",
    "#     break"
   ]
  },
  {
   "cell_type": "code",
   "execution_count": 6,
   "metadata": {},
   "outputs": [
    {
     "name": "stdout",
     "output_type": "stream",
     "text": [
      "(128, 128, 3)\n"
     ]
    },
    {
     "data": {
      "application/vnd.plotly.v1+json": {
       "config": {
        "plotlyServerURL": "https://plot.ly"
       },
       "data": [
        {
         "hovertemplate": "x: %{x}<br>y: %{y}<br>color: [%{z[0]}, %{z[1]}, %{z[2]}]<extra></extra>",
         "name": "0",
         "source": "data:image/png;base64,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",
         "type": "image",
         "xaxis": "x",
         "yaxis": "y"
        }
       ],
       "layout": {
        "height": 350,
        "margin": {
         "l": 0,
         "t": 60
        },
        "shapes": [
         {
          "line": {
           "color": "black",
           "width": 2
          },
          "type": "rect",
          "x0": 0,
          "x1": 128,
          "xref": "x",
          "y0": 0,
          "y1": 128,
          "yref": "y"
         }
        ],
        "template": {
         "data": {
          "bar": [
           {
            "error_x": {
             "color": "#2a3f5f"
            },
            "error_y": {
             "color": "#2a3f5f"
            },
            "marker": {
             "line": {
              "color": "#E5ECF6",
              "width": 0.5
             },
             "pattern": {
              "fillmode": "overlay",
              "size": 10,
              "solidity": 0.2
             }
            },
            "type": "bar"
           }
          ],
          "barpolar": [
           {
            "marker": {
             "line": {
              "color": "#E5ECF6",
              "width": 0.5
             },
             "pattern": {
              "fillmode": "overlay",
              "size": 10,
              "solidity": 0.2
             }
            },
            "type": "barpolar"
           }
          ],
          "carpet": [
           {
            "aaxis": {
             "endlinecolor": "#2a3f5f",
             "gridcolor": "white",
             "linecolor": "white",
             "minorgridcolor": "white",
             "startlinecolor": "#2a3f5f"
            },
            "baxis": {
             "endlinecolor": "#2a3f5f",
             "gridcolor": "white",
             "linecolor": "white",
             "minorgridcolor": "white",
             "startlinecolor": "#2a3f5f"
            },
            "type": "carpet"
           }
          ],
          "choropleth": [
           {
            "colorbar": {
             "outlinewidth": 0,
             "ticks": ""
            },
            "type": "choropleth"
           }
          ],
          "contour": [
           {
            "colorbar": {
             "outlinewidth": 0,
             "ticks": ""
            },
            "colorscale": [
             [
              0,
              "#0d0887"
             ],
             [
              0.1111111111111111,
              "#46039f"
             ],
             [
              0.2222222222222222,
              "#7201a8"
             ],
             [
              0.3333333333333333,
              "#9c179e"
             ],
             [
              0.4444444444444444,
              "#bd3786"
             ],
             [
              0.5555555555555556,
              "#d8576b"
             ],
             [
              0.6666666666666666,
              "#ed7953"
             ],
             [
              0.7777777777777778,
              "#fb9f3a"
             ],
             [
              0.8888888888888888,
              "#fdca26"
             ],
             [
              1,
              "#f0f921"
             ]
            ],
            "type": "contour"
           }
          ],
          "contourcarpet": [
           {
            "colorbar": {
             "outlinewidth": 0,
             "ticks": ""
            },
            "type": "contourcarpet"
           }
          ],
          "heatmap": [
           {
            "colorbar": {
             "outlinewidth": 0,
             "ticks": ""
            },
            "colorscale": [
             [
              0,
              "#0d0887"
             ],
             [
              0.1111111111111111,
              "#46039f"
             ],
             [
              0.2222222222222222,
              "#7201a8"
             ],
             [
              0.3333333333333333,
              "#9c179e"
             ],
             [
              0.4444444444444444,
              "#bd3786"
             ],
             [
              0.5555555555555556,
              "#d8576b"
             ],
             [
              0.6666666666666666,
              "#ed7953"
             ],
             [
              0.7777777777777778,
              "#fb9f3a"
             ],
             [
              0.8888888888888888,
              "#fdca26"
             ],
             [
              1,
              "#f0f921"
             ]
            ],
            "type": "heatmap"
           }
          ],
          "heatmapgl": [
           {
            "colorbar": {
             "outlinewidth": 0,
             "ticks": ""
            },
            "colorscale": [
             [
              0,
              "#0d0887"
             ],
             [
              0.1111111111111111,
              "#46039f"
             ],
             [
              0.2222222222222222,
              "#7201a8"
             ],
             [
              0.3333333333333333,
              "#9c179e"
             ],
             [
              0.4444444444444444,
              "#bd3786"
             ],
             [
              0.5555555555555556,
              "#d8576b"
             ],
             [
              0.6666666666666666,
              "#ed7953"
             ],
             [
              0.7777777777777778,
              "#fb9f3a"
             ],
             [
              0.8888888888888888,
              "#fdca26"
             ],
             [
              1,
              "#f0f921"
             ]
            ],
            "type": "heatmapgl"
           }
          ],
          "histogram": [
           {
            "marker": {
             "pattern": {
              "fillmode": "overlay",
              "size": 10,
              "solidity": 0.2
             }
            },
            "type": "histogram"
           }
          ],
          "histogram2d": [
           {
            "colorbar": {
             "outlinewidth": 0,
             "ticks": ""
            },
            "colorscale": [
             [
              0,
              "#0d0887"
             ],
             [
              0.1111111111111111,
              "#46039f"
             ],
             [
              0.2222222222222222,
              "#7201a8"
             ],
             [
              0.3333333333333333,
              "#9c179e"
             ],
             [
              0.4444444444444444,
              "#bd3786"
             ],
             [
              0.5555555555555556,
              "#d8576b"
             ],
             [
              0.6666666666666666,
              "#ed7953"
             ],
             [
              0.7777777777777778,
              "#fb9f3a"
             ],
             [
              0.8888888888888888,
              "#fdca26"
             ],
             [
              1,
              "#f0f921"
             ]
            ],
            "type": "histogram2d"
           }
          ],
          "histogram2dcontour": [
           {
            "colorbar": {
             "outlinewidth": 0,
             "ticks": ""
            },
            "colorscale": [
             [
              0,
              "#0d0887"
             ],
             [
              0.1111111111111111,
              "#46039f"
             ],
             [
              0.2222222222222222,
              "#7201a8"
             ],
             [
              0.3333333333333333,
              "#9c179e"
             ],
             [
              0.4444444444444444,
              "#bd3786"
             ],
             [
              0.5555555555555556,
              "#d8576b"
             ],
             [
              0.6666666666666666,
              "#ed7953"
             ],
             [
              0.7777777777777778,
              "#fb9f3a"
             ],
             [
              0.8888888888888888,
              "#fdca26"
             ],
             [
              1,
              "#f0f921"
             ]
            ],
            "type": "histogram2dcontour"
           }
          ],
          "mesh3d": [
           {
            "colorbar": {
             "outlinewidth": 0,
             "ticks": ""
            },
            "type": "mesh3d"
           }
          ],
          "parcoords": [
           {
            "line": {
             "colorbar": {
              "outlinewidth": 0,
              "ticks": ""
             }
            },
            "type": "parcoords"
           }
          ],
          "pie": [
           {
            "automargin": true,
            "type": "pie"
           }
          ],
          "scatter": [
           {
            "fillpattern": {
             "fillmode": "overlay",
             "size": 10,
             "solidity": 0.2
            },
            "type": "scatter"
           }
          ],
          "scatter3d": [
           {
            "line": {
             "colorbar": {
              "outlinewidth": 0,
              "ticks": ""
             }
            },
            "marker": {
             "colorbar": {
              "outlinewidth": 0,
              "ticks": ""
             }
            },
            "type": "scatter3d"
           }
          ],
          "scattercarpet": [
           {
            "marker": {
             "colorbar": {
              "outlinewidth": 0,
              "ticks": ""
             }
            },
            "type": "scattercarpet"
           }
          ],
          "scattergeo": [
           {
            "marker": {
             "colorbar": {
              "outlinewidth": 0,
              "ticks": ""
             }
            },
            "type": "scattergeo"
           }
          ],
          "scattergl": [
           {
            "marker": {
             "colorbar": {
              "outlinewidth": 0,
              "ticks": ""
             }
            },
            "type": "scattergl"
           }
          ],
          "scattermapbox": [
           {
            "marker": {
             "colorbar": {
              "outlinewidth": 0,
              "ticks": ""
             }
            },
            "type": "scattermapbox"
           }
          ],
          "scatterpolar": [
           {
            "marker": {
             "colorbar": {
              "outlinewidth": 0,
              "ticks": ""
             }
            },
            "type": "scatterpolar"
           }
          ],
          "scatterpolargl": [
           {
            "marker": {
             "colorbar": {
              "outlinewidth": 0,
              "ticks": ""
             }
            },
            "type": "scatterpolargl"
           }
          ],
          "scatterternary": [
           {
            "marker": {
             "colorbar": {
              "outlinewidth": 0,
              "ticks": ""
             }
            },
            "type": "scatterternary"
           }
          ],
          "surface": [
           {
            "colorbar": {
             "outlinewidth": 0,
             "ticks": ""
            },
            "colorscale": [
             [
              0,
              "#0d0887"
             ],
             [
              0.1111111111111111,
              "#46039f"
             ],
             [
              0.2222222222222222,
              "#7201a8"
             ],
             [
              0.3333333333333333,
              "#9c179e"
             ],
             [
              0.4444444444444444,
              "#bd3786"
             ],
             [
              0.5555555555555556,
              "#d8576b"
             ],
             [
              0.6666666666666666,
              "#ed7953"
             ],
             [
              0.7777777777777778,
              "#fb9f3a"
             ],
             [
              0.8888888888888888,
              "#fdca26"
             ],
             [
              1,
              "#f0f921"
             ]
            ],
            "type": "surface"
           }
          ],
          "table": [
           {
            "cells": {
             "fill": {
              "color": "#EBF0F8"
             },
             "line": {
              "color": "white"
             }
            },
            "header": {
             "fill": {
              "color": "#C8D4E3"
             },
             "line": {
              "color": "white"
             }
            },
            "type": "table"
           }
          ]
         },
         "layout": {
          "annotationdefaults": {
           "arrowcolor": "#2a3f5f",
           "arrowhead": 0,
           "arrowwidth": 1
          },
          "autotypenumbers": "strict",
          "coloraxis": {
           "colorbar": {
            "outlinewidth": 0,
            "ticks": ""
           }
          },
          "colorscale": {
           "diverging": [
            [
             0,
             "#8e0152"
            ],
            [
             0.1,
             "#c51b7d"
            ],
            [
             0.2,
             "#de77ae"
            ],
            [
             0.3,
             "#f1b6da"
            ],
            [
             0.4,
             "#fde0ef"
            ],
            [
             0.5,
             "#f7f7f7"
            ],
            [
             0.6,
             "#e6f5d0"
            ],
            [
             0.7,
             "#b8e186"
            ],
            [
             0.8,
             "#7fbc41"
            ],
            [
             0.9,
             "#4d9221"
            ],
            [
             1,
             "#276419"
            ]
           ],
           "sequential": [
            [
             0,
             "#0d0887"
            ],
            [
             0.1111111111111111,
             "#46039f"
            ],
            [
             0.2222222222222222,
             "#7201a8"
            ],
            [
             0.3333333333333333,
             "#9c179e"
            ],
            [
             0.4444444444444444,
             "#bd3786"
            ],
            [
             0.5555555555555556,
             "#d8576b"
            ],
            [
             0.6666666666666666,
             "#ed7953"
            ],
            [
             0.7777777777777778,
             "#fb9f3a"
            ],
            [
             0.8888888888888888,
             "#fdca26"
            ],
            [
             1,
             "#f0f921"
            ]
           ],
           "sequentialminus": [
            [
             0,
             "#0d0887"
            ],
            [
             0.1111111111111111,
             "#46039f"
            ],
            [
             0.2222222222222222,
             "#7201a8"
            ],
            [
             0.3333333333333333,
             "#9c179e"
            ],
            [
             0.4444444444444444,
             "#bd3786"
            ],
            [
             0.5555555555555556,
             "#d8576b"
            ],
            [
             0.6666666666666666,
             "#ed7953"
            ],
            [
             0.7777777777777778,
             "#fb9f3a"
            ],
            [
             0.8888888888888888,
             "#fdca26"
            ],
            [
             1,
             "#f0f921"
            ]
           ]
          },
          "colorway": [
           "#636efa",
           "#EF553B",
           "#00cc96",
           "#ab63fa",
           "#FFA15A",
           "#19d3f3",
           "#FF6692",
           "#B6E880",
           "#FF97FF",
           "#FECB52"
          ],
          "font": {
           "color": "#2a3f5f"
          },
          "geo": {
           "bgcolor": "white",
           "lakecolor": "white",
           "landcolor": "#E5ECF6",
           "showlakes": true,
           "showland": true,
           "subunitcolor": "white"
          },
          "hoverlabel": {
           "align": "left"
          },
          "hovermode": "closest",
          "mapbox": {
           "style": "light"
          },
          "paper_bgcolor": "white",
          "plot_bgcolor": "#E5ECF6",
          "polar": {
           "angularaxis": {
            "gridcolor": "white",
            "linecolor": "white",
            "ticks": ""
           },
           "bgcolor": "#E5ECF6",
           "radialaxis": {
            "gridcolor": "white",
            "linecolor": "white",
            "ticks": ""
           }
          },
          "scene": {
           "xaxis": {
            "backgroundcolor": "#E5ECF6",
            "gridcolor": "white",
            "gridwidth": 2,
            "linecolor": "white",
            "showbackground": true,
            "ticks": "",
            "zerolinecolor": "white"
           },
           "yaxis": {
            "backgroundcolor": "#E5ECF6",
            "gridcolor": "white",
            "gridwidth": 2,
            "linecolor": "white",
            "showbackground": true,
            "ticks": "",
            "zerolinecolor": "white"
           },
           "zaxis": {
            "backgroundcolor": "#E5ECF6",
            "gridcolor": "white",
            "gridwidth": 2,
            "linecolor": "white",
            "showbackground": true,
            "ticks": "",
            "zerolinecolor": "white"
           }
          },
          "shapedefaults": {
           "line": {
            "color": "#2a3f5f"
           }
          },
          "ternary": {
           "aaxis": {
            "gridcolor": "white",
            "linecolor": "white",
            "ticks": ""
           },
           "baxis": {
            "gridcolor": "white",
            "linecolor": "white",
            "ticks": ""
           },
           "bgcolor": "#E5ECF6",
           "caxis": {
            "gridcolor": "white",
            "linecolor": "white",
            "ticks": ""
           }
          },
          "title": {
           "x": 0.05
          },
          "xaxis": {
           "automargin": true,
           "gridcolor": "white",
           "linecolor": "white",
           "ticks": "",
           "title": {
            "standoff": 15
           },
           "zerolinecolor": "white",
           "zerolinewidth": 2
          },
          "yaxis": {
           "automargin": true,
           "gridcolor": "white",
           "linecolor": "white",
           "ticks": "",
           "title": {
            "standoff": 15
           },
           "zerolinecolor": "white",
           "zerolinewidth": 2
          }
         }
        },
        "title": {
         "text": "Label: Abomasnow"
        },
        "width": 500,
        "xaxis": {
         "anchor": "y",
         "domain": [
          0,
          1
         ],
         "showgrid": false,
         "showticklabels": false,
         "visible": false,
         "zeroline": false
        },
        "yaxis": {
         "anchor": "x",
         "domain": [
          0,
          1
         ],
         "showgrid": false,
         "showticklabels": false,
         "visible": false,
         "zeroline": false
        }
       }
      }
     },
     "metadata": {},
     "output_type": "display_data"
    },
    {
     "name": "stdout",
     "output_type": "stream",
     "text": [
      "(128, 128, 3)\n"
     ]
    },
    {
     "data": {
      "application/vnd.plotly.v1+json": {
       "config": {
        "plotlyServerURL": "https://plot.ly"
       },
       "data": [
        {
         "hovertemplate": "x: %{x}<br>y: %{y}<br>color: [%{z[0]}, %{z[1]}, %{z[2]}]<extra></extra>",
         "name": "0",
         "source": "data:image/png;base64,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",
         "type": "image",
         "xaxis": "x",
         "yaxis": "y"
        }
       ],
       "layout": {
        "height": 350,
        "margin": {
         "l": 0,
         "t": 60
        },
        "shapes": [
         {
          "line": {
           "color": "black",
           "width": 2
          },
          "type": "rect",
          "x0": 0,
          "x1": 128,
          "xref": "x",
          "y0": 0,
          "y1": 128,
          "yref": "y"
         }
        ],
        "template": {
         "data": {
          "bar": [
           {
            "error_x": {
             "color": "#2a3f5f"
            },
            "error_y": {
             "color": "#2a3f5f"
            },
            "marker": {
             "line": {
              "color": "#E5ECF6",
              "width": 0.5
             },
             "pattern": {
              "fillmode": "overlay",
              "size": 10,
              "solidity": 0.2
             }
            },
            "type": "bar"
           }
          ],
          "barpolar": [
           {
            "marker": {
             "line": {
              "color": "#E5ECF6",
              "width": 0.5
             },
             "pattern": {
              "fillmode": "overlay",
              "size": 10,
              "solidity": 0.2
             }
            },
            "type": "barpolar"
           }
          ],
          "carpet": [
           {
            "aaxis": {
             "endlinecolor": "#2a3f5f",
             "gridcolor": "white",
             "linecolor": "white",
             "minorgridcolor": "white",
             "startlinecolor": "#2a3f5f"
            },
            "baxis": {
             "endlinecolor": "#2a3f5f",
             "gridcolor": "white",
             "linecolor": "white",
             "minorgridcolor": "white",
             "startlinecolor": "#2a3f5f"
            },
            "type": "carpet"
           }
          ],
          "choropleth": [
           {
            "colorbar": {
             "outlinewidth": 0,
             "ticks": ""
            },
            "type": "choropleth"
           }
          ],
          "contour": [
           {
            "colorbar": {
             "outlinewidth": 0,
             "ticks": ""
            },
            "colorscale": [
             [
              0,
              "#0d0887"
             ],
             [
              0.1111111111111111,
              "#46039f"
             ],
             [
              0.2222222222222222,
              "#7201a8"
             ],
             [
              0.3333333333333333,
              "#9c179e"
             ],
             [
              0.4444444444444444,
              "#bd3786"
             ],
             [
              0.5555555555555556,
              "#d8576b"
             ],
             [
              0.6666666666666666,
              "#ed7953"
             ],
             [
              0.7777777777777778,
              "#fb9f3a"
             ],
             [
              0.8888888888888888,
              "#fdca26"
             ],
             [
              1,
              "#f0f921"
             ]
            ],
            "type": "contour"
           }
          ],
          "contourcarpet": [
           {
            "colorbar": {
             "outlinewidth": 0,
             "ticks": ""
            },
            "type": "contourcarpet"
           }
          ],
          "heatmap": [
           {
            "colorbar": {
             "outlinewidth": 0,
             "ticks": ""
            },
            "colorscale": [
             [
              0,
              "#0d0887"
             ],
             [
              0.1111111111111111,
              "#46039f"
             ],
             [
              0.2222222222222222,
              "#7201a8"
             ],
             [
              0.3333333333333333,
              "#9c179e"
             ],
             [
              0.4444444444444444,
              "#bd3786"
             ],
             [
              0.5555555555555556,
              "#d8576b"
             ],
             [
              0.6666666666666666,
              "#ed7953"
             ],
             [
              0.7777777777777778,
              "#fb9f3a"
             ],
             [
              0.8888888888888888,
              "#fdca26"
             ],
             [
              1,
              "#f0f921"
             ]
            ],
            "type": "heatmap"
           }
          ],
          "heatmapgl": [
           {
            "colorbar": {
             "outlinewidth": 0,
             "ticks": ""
            },
            "colorscale": [
             [
              0,
              "#0d0887"
             ],
             [
              0.1111111111111111,
              "#46039f"
             ],
             [
              0.2222222222222222,
              "#7201a8"
             ],
             [
              0.3333333333333333,
              "#9c179e"
             ],
             [
              0.4444444444444444,
              "#bd3786"
             ],
             [
              0.5555555555555556,
              "#d8576b"
             ],
             [
              0.6666666666666666,
              "#ed7953"
             ],
             [
              0.7777777777777778,
              "#fb9f3a"
             ],
             [
              0.8888888888888888,
              "#fdca26"
             ],
             [
              1,
              "#f0f921"
             ]
            ],
            "type": "heatmapgl"
           }
          ],
          "histogram": [
           {
            "marker": {
             "pattern": {
              "fillmode": "overlay",
              "size": 10,
              "solidity": 0.2
             }
            },
            "type": "histogram"
           }
          ],
          "histogram2d": [
           {
            "colorbar": {
             "outlinewidth": 0,
             "ticks": ""
            },
            "colorscale": [
             [
              0,
              "#0d0887"
             ],
             [
              0.1111111111111111,
              "#46039f"
             ],
             [
              0.2222222222222222,
              "#7201a8"
             ],
             [
              0.3333333333333333,
              "#9c179e"
             ],
             [
              0.4444444444444444,
              "#bd3786"
             ],
             [
              0.5555555555555556,
              "#d8576b"
             ],
             [
              0.6666666666666666,
              "#ed7953"
             ],
             [
              0.7777777777777778,
              "#fb9f3a"
             ],
             [
              0.8888888888888888,
              "#fdca26"
             ],
             [
              1,
              "#f0f921"
             ]
            ],
            "type": "histogram2d"
           }
          ],
          "histogram2dcontour": [
           {
            "colorbar": {
             "outlinewidth": 0,
             "ticks": ""
            },
            "colorscale": [
             [
              0,
              "#0d0887"
             ],
             [
              0.1111111111111111,
              "#46039f"
             ],
             [
              0.2222222222222222,
              "#7201a8"
             ],
             [
              0.3333333333333333,
              "#9c179e"
             ],
             [
              0.4444444444444444,
              "#bd3786"
             ],
             [
              0.5555555555555556,
              "#d8576b"
             ],
             [
              0.6666666666666666,
              "#ed7953"
             ],
             [
              0.7777777777777778,
              "#fb9f3a"
             ],
             [
              0.8888888888888888,
              "#fdca26"
             ],
             [
              1,
              "#f0f921"
             ]
            ],
            "type": "histogram2dcontour"
           }
          ],
          "mesh3d": [
           {
            "colorbar": {
             "outlinewidth": 0,
             "ticks": ""
            },
            "type": "mesh3d"
           }
          ],
          "parcoords": [
           {
            "line": {
             "colorbar": {
              "outlinewidth": 0,
              "ticks": ""
             }
            },
            "type": "parcoords"
           }
          ],
          "pie": [
           {
            "automargin": true,
            "type": "pie"
           }
          ],
          "scatter": [
           {
            "fillpattern": {
             "fillmode": "overlay",
             "size": 10,
             "solidity": 0.2
            },
            "type": "scatter"
           }
          ],
          "scatter3d": [
           {
            "line": {
             "colorbar": {
              "outlinewidth": 0,
              "ticks": ""
             }
            },
            "marker": {
             "colorbar": {
              "outlinewidth": 0,
              "ticks": ""
             }
            },
            "type": "scatter3d"
           }
          ],
          "scattercarpet": [
           {
            "marker": {
             "colorbar": {
              "outlinewidth": 0,
              "ticks": ""
             }
            },
            "type": "scattercarpet"
           }
          ],
          "scattergeo": [
           {
            "marker": {
             "colorbar": {
              "outlinewidth": 0,
              "ticks": ""
             }
            },
            "type": "scattergeo"
           }
          ],
          "scattergl": [
           {
            "marker": {
             "colorbar": {
              "outlinewidth": 0,
              "ticks": ""
             }
            },
            "type": "scattergl"
           }
          ],
          "scattermapbox": [
           {
            "marker": {
             "colorbar": {
              "outlinewidth": 0,
              "ticks": ""
             }
            },
            "type": "scattermapbox"
           }
          ],
          "scatterpolar": [
           {
            "marker": {
             "colorbar": {
              "outlinewidth": 0,
              "ticks": ""
             }
            },
            "type": "scatterpolar"
           }
          ],
          "scatterpolargl": [
           {
            "marker": {
             "colorbar": {
              "outlinewidth": 0,
              "ticks": ""
             }
            },
            "type": "scatterpolargl"
           }
          ],
          "scatterternary": [
           {
            "marker": {
             "colorbar": {
              "outlinewidth": 0,
              "ticks": ""
             }
            },
            "type": "scatterternary"
           }
          ],
          "surface": [
           {
            "colorbar": {
             "outlinewidth": 0,
             "ticks": ""
            },
            "colorscale": [
             [
              0,
              "#0d0887"
             ],
             [
              0.1111111111111111,
              "#46039f"
             ],
             [
              0.2222222222222222,
              "#7201a8"
             ],
             [
              0.3333333333333333,
              "#9c179e"
             ],
             [
              0.4444444444444444,
              "#bd3786"
             ],
             [
              0.5555555555555556,
              "#d8576b"
             ],
             [
              0.6666666666666666,
              "#ed7953"
             ],
             [
              0.7777777777777778,
              "#fb9f3a"
             ],
             [
              0.8888888888888888,
              "#fdca26"
             ],
             [
              1,
              "#f0f921"
             ]
            ],
            "type": "surface"
           }
          ],
          "table": [
           {
            "cells": {
             "fill": {
              "color": "#EBF0F8"
             },
             "line": {
              "color": "white"
             }
            },
            "header": {
             "fill": {
              "color": "#C8D4E3"
             },
             "line": {
              "color": "white"
             }
            },
            "type": "table"
           }
          ]
         },
         "layout": {
          "annotationdefaults": {
           "arrowcolor": "#2a3f5f",
           "arrowhead": 0,
           "arrowwidth": 1
          },
          "autotypenumbers": "strict",
          "coloraxis": {
           "colorbar": {
            "outlinewidth": 0,
            "ticks": ""
           }
          },
          "colorscale": {
           "diverging": [
            [
             0,
             "#8e0152"
            ],
            [
             0.1,
             "#c51b7d"
            ],
            [
             0.2,
             "#de77ae"
            ],
            [
             0.3,
             "#f1b6da"
            ],
            [
             0.4,
             "#fde0ef"
            ],
            [
             0.5,
             "#f7f7f7"
            ],
            [
             0.6,
             "#e6f5d0"
            ],
            [
             0.7,
             "#b8e186"
            ],
            [
             0.8,
             "#7fbc41"
            ],
            [
             0.9,
             "#4d9221"
            ],
            [
             1,
             "#276419"
            ]
           ],
           "sequential": [
            [
             0,
             "#0d0887"
            ],
            [
             0.1111111111111111,
             "#46039f"
            ],
            [
             0.2222222222222222,
             "#7201a8"
            ],
            [
             0.3333333333333333,
             "#9c179e"
            ],
            [
             0.4444444444444444,
             "#bd3786"
            ],
            [
             0.5555555555555556,
             "#d8576b"
            ],
            [
             0.6666666666666666,
             "#ed7953"
            ],
            [
             0.7777777777777778,
             "#fb9f3a"
            ],
            [
             0.8888888888888888,
             "#fdca26"
            ],
            [
             1,
             "#f0f921"
            ]
           ],
           "sequentialminus": [
            [
             0,
             "#0d0887"
            ],
            [
             0.1111111111111111,
             "#46039f"
            ],
            [
             0.2222222222222222,
             "#7201a8"
            ],
            [
             0.3333333333333333,
             "#9c179e"
            ],
            [
             0.4444444444444444,
             "#bd3786"
            ],
            [
             0.5555555555555556,
             "#d8576b"
            ],
            [
             0.6666666666666666,
             "#ed7953"
            ],
            [
             0.7777777777777778,
             "#fb9f3a"
            ],
            [
             0.8888888888888888,
             "#fdca26"
            ],
            [
             1,
             "#f0f921"
            ]
           ]
          },
          "colorway": [
           "#636efa",
           "#EF553B",
           "#00cc96",
           "#ab63fa",
           "#FFA15A",
           "#19d3f3",
           "#FF6692",
           "#B6E880",
           "#FF97FF",
           "#FECB52"
          ],
          "font": {
           "color": "#2a3f5f"
          },
          "geo": {
           "bgcolor": "white",
           "lakecolor": "white",
           "landcolor": "#E5ECF6",
           "showlakes": true,
           "showland": true,
           "subunitcolor": "white"
          },
          "hoverlabel": {
           "align": "left"
          },
          "hovermode": "closest",
          "mapbox": {
           "style": "light"
          },
          "paper_bgcolor": "white",
          "plot_bgcolor": "#E5ECF6",
          "polar": {
           "angularaxis": {
            "gridcolor": "white",
            "linecolor": "white",
            "ticks": ""
           },
           "bgcolor": "#E5ECF6",
           "radialaxis": {
            "gridcolor": "white",
            "linecolor": "white",
            "ticks": ""
           }
          },
          "scene": {
           "xaxis": {
            "backgroundcolor": "#E5ECF6",
            "gridcolor": "white",
            "gridwidth": 2,
            "linecolor": "white",
            "showbackground": true,
            "ticks": "",
            "zerolinecolor": "white"
           },
           "yaxis": {
            "backgroundcolor": "#E5ECF6",
            "gridcolor": "white",
            "gridwidth": 2,
            "linecolor": "white",
            "showbackground": true,
            "ticks": "",
            "zerolinecolor": "white"
           },
           "zaxis": {
            "backgroundcolor": "#E5ECF6",
            "gridcolor": "white",
            "gridwidth": 2,
            "linecolor": "white",
            "showbackground": true,
            "ticks": "",
            "zerolinecolor": "white"
           }
          },
          "shapedefaults": {
           "line": {
            "color": "#2a3f5f"
           }
          },
          "ternary": {
           "aaxis": {
            "gridcolor": "white",
            "linecolor": "white",
            "ticks": ""
           },
           "baxis": {
            "gridcolor": "white",
            "linecolor": "white",
            "ticks": ""
           },
           "bgcolor": "#E5ECF6",
           "caxis": {
            "gridcolor": "white",
            "linecolor": "white",
            "ticks": ""
           }
          },
          "title": {
           "x": 0.05
          },
          "xaxis": {
           "automargin": true,
           "gridcolor": "white",
           "linecolor": "white",
           "ticks": "",
           "title": {
            "standoff": 15
           },
           "zerolinecolor": "white",
           "zerolinewidth": 2
          },
          "yaxis": {
           "automargin": true,
           "gridcolor": "white",
           "linecolor": "white",
           "ticks": "",
           "title": {
            "standoff": 15
           },
           "zerolinecolor": "white",
           "zerolinewidth": 2
          }
         }
        },
        "title": {
         "text": "Label: Abomasnow"
        },
        "width": 500,
        "xaxis": {
         "anchor": "y",
         "domain": [
          0,
          1
         ],
         "showgrid": false,
         "showticklabels": false,
         "visible": false,
         "zeroline": false
        },
        "yaxis": {
         "anchor": "x",
         "domain": [
          0,
          1
         ],
         "showgrid": false,
         "showticklabels": false,
         "visible": false,
         "zeroline": false
        }
       }
      }
     },
     "metadata": {},
     "output_type": "display_data"
    },
    {
     "name": "stdout",
     "output_type": "stream",
     "text": [
      "(128, 128, 3)\n"
     ]
    },
    {
     "data": {
      "application/vnd.plotly.v1+json": {
       "config": {
        "plotlyServerURL": "https://plot.ly"
       },
       "data": [
        {
         "hovertemplate": "x: %{x}<br>y: %{y}<br>color: [%{z[0]}, %{z[1]}, %{z[2]}]<extra></extra>",
         "name": "0",
         "source": "data:image/png;base64,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",
         "type": "image",
         "xaxis": "x",
         "yaxis": "y"
        }
       ],
       "layout": {
        "height": 350,
        "margin": {
         "l": 0,
         "t": 60
        },
        "shapes": [
         {
          "line": {
           "color": "black",
           "width": 2
          },
          "type": "rect",
          "x0": 0,
          "x1": 128,
          "xref": "x",
          "y0": 0,
          "y1": 128,
          "yref": "y"
         }
        ],
        "template": {
         "data": {
          "bar": [
           {
            "error_x": {
             "color": "#2a3f5f"
            },
            "error_y": {
             "color": "#2a3f5f"
            },
            "marker": {
             "line": {
              "color": "#E5ECF6",
              "width": 0.5
             },
             "pattern": {
              "fillmode": "overlay",
              "size": 10,
              "solidity": 0.2
             }
            },
            "type": "bar"
           }
          ],
          "barpolar": [
           {
            "marker": {
             "line": {
              "color": "#E5ECF6",
              "width": 0.5
             },
             "pattern": {
              "fillmode": "overlay",
              "size": 10,
              "solidity": 0.2
             }
            },
            "type": "barpolar"
           }
          ],
          "carpet": [
           {
            "aaxis": {
             "endlinecolor": "#2a3f5f",
             "gridcolor": "white",
             "linecolor": "white",
             "minorgridcolor": "white",
             "startlinecolor": "#2a3f5f"
            },
            "baxis": {
             "endlinecolor": "#2a3f5f",
             "gridcolor": "white",
             "linecolor": "white",
             "minorgridcolor": "white",
             "startlinecolor": "#2a3f5f"
            },
            "type": "carpet"
           }
          ],
          "choropleth": [
           {
            "colorbar": {
             "outlinewidth": 0,
             "ticks": ""
            },
            "type": "choropleth"
           }
          ],
          "contour": [
           {
            "colorbar": {
             "outlinewidth": 0,
             "ticks": ""
            },
            "colorscale": [
             [
              0,
              "#0d0887"
             ],
             [
              0.1111111111111111,
              "#46039f"
             ],
             [
              0.2222222222222222,
              "#7201a8"
             ],
             [
              0.3333333333333333,
              "#9c179e"
             ],
             [
              0.4444444444444444,
              "#bd3786"
             ],
             [
              0.5555555555555556,
              "#d8576b"
             ],
             [
              0.6666666666666666,
              "#ed7953"
             ],
             [
              0.7777777777777778,
              "#fb9f3a"
             ],
             [
              0.8888888888888888,
              "#fdca26"
             ],
             [
              1,
              "#f0f921"
             ]
            ],
            "type": "contour"
           }
          ],
          "contourcarpet": [
           {
            "colorbar": {
             "outlinewidth": 0,
             "ticks": ""
            },
            "type": "contourcarpet"
           }
          ],
          "heatmap": [
           {
            "colorbar": {
             "outlinewidth": 0,
             "ticks": ""
            },
            "colorscale": [
             [
              0,
              "#0d0887"
             ],
             [
              0.1111111111111111,
              "#46039f"
             ],
             [
              0.2222222222222222,
              "#7201a8"
             ],
             [
              0.3333333333333333,
              "#9c179e"
             ],
             [
              0.4444444444444444,
              "#bd3786"
             ],
             [
              0.5555555555555556,
              "#d8576b"
             ],
             [
              0.6666666666666666,
              "#ed7953"
             ],
             [
              0.7777777777777778,
              "#fb9f3a"
             ],
             [
              0.8888888888888888,
              "#fdca26"
             ],
             [
              1,
              "#f0f921"
             ]
            ],
            "type": "heatmap"
           }
          ],
          "heatmapgl": [
           {
            "colorbar": {
             "outlinewidth": 0,
             "ticks": ""
            },
            "colorscale": [
             [
              0,
              "#0d0887"
             ],
             [
              0.1111111111111111,
              "#46039f"
             ],
             [
              0.2222222222222222,
              "#7201a8"
             ],
             [
              0.3333333333333333,
              "#9c179e"
             ],
             [
              0.4444444444444444,
              "#bd3786"
             ],
             [
              0.5555555555555556,
              "#d8576b"
             ],
             [
              0.6666666666666666,
              "#ed7953"
             ],
             [
              0.7777777777777778,
              "#fb9f3a"
             ],
             [
              0.8888888888888888,
              "#fdca26"
             ],
             [
              1,
              "#f0f921"
             ]
            ],
            "type": "heatmapgl"
           }
          ],
          "histogram": [
           {
            "marker": {
             "pattern": {
              "fillmode": "overlay",
              "size": 10,
              "solidity": 0.2
             }
            },
            "type": "histogram"
           }
          ],
          "histogram2d": [
           {
            "colorbar": {
             "outlinewidth": 0,
             "ticks": ""
            },
            "colorscale": [
             [
              0,
              "#0d0887"
             ],
             [
              0.1111111111111111,
              "#46039f"
             ],
             [
              0.2222222222222222,
              "#7201a8"
             ],
             [
              0.3333333333333333,
              "#9c179e"
             ],
             [
              0.4444444444444444,
              "#bd3786"
             ],
             [
              0.5555555555555556,
              "#d8576b"
             ],
             [
              0.6666666666666666,
              "#ed7953"
             ],
             [
              0.7777777777777778,
              "#fb9f3a"
             ],
             [
              0.8888888888888888,
              "#fdca26"
             ],
             [
              1,
              "#f0f921"
             ]
            ],
            "type": "histogram2d"
           }
          ],
          "histogram2dcontour": [
           {
            "colorbar": {
             "outlinewidth": 0,
             "ticks": ""
            },
            "colorscale": [
             [
              0,
              "#0d0887"
             ],
             [
              0.1111111111111111,
              "#46039f"
             ],
             [
              0.2222222222222222,
              "#7201a8"
             ],
             [
              0.3333333333333333,
              "#9c179e"
             ],
             [
              0.4444444444444444,
              "#bd3786"
             ],
             [
              0.5555555555555556,
              "#d8576b"
             ],
             [
              0.6666666666666666,
              "#ed7953"
             ],
             [
              0.7777777777777778,
              "#fb9f3a"
             ],
             [
              0.8888888888888888,
              "#fdca26"
             ],
             [
              1,
              "#f0f921"
             ]
            ],
            "type": "histogram2dcontour"
           }
          ],
          "mesh3d": [
           {
            "colorbar": {
             "outlinewidth": 0,
             "ticks": ""
            },
            "type": "mesh3d"
           }
          ],
          "parcoords": [
           {
            "line": {
             "colorbar": {
              "outlinewidth": 0,
              "ticks": ""
             }
            },
            "type": "parcoords"
           }
          ],
          "pie": [
           {
            "automargin": true,
            "type": "pie"
           }
          ],
          "scatter": [
           {
            "fillpattern": {
             "fillmode": "overlay",
             "size": 10,
             "solidity": 0.2
            },
            "type": "scatter"
           }
          ],
          "scatter3d": [
           {
            "line": {
             "colorbar": {
              "outlinewidth": 0,
              "ticks": ""
             }
            },
            "marker": {
             "colorbar": {
              "outlinewidth": 0,
              "ticks": ""
             }
            },
            "type": "scatter3d"
           }
          ],
          "scattercarpet": [
           {
            "marker": {
             "colorbar": {
              "outlinewidth": 0,
              "ticks": ""
             }
            },
            "type": "scattercarpet"
           }
          ],
          "scattergeo": [
           {
            "marker": {
             "colorbar": {
              "outlinewidth": 0,
              "ticks": ""
             }
            },
            "type": "scattergeo"
           }
          ],
          "scattergl": [
           {
            "marker": {
             "colorbar": {
              "outlinewidth": 0,
              "ticks": ""
             }
            },
            "type": "scattergl"
           }
          ],
          "scattermapbox": [
           {
            "marker": {
             "colorbar": {
              "outlinewidth": 0,
              "ticks": ""
             }
            },
            "type": "scattermapbox"
           }
          ],
          "scatterpolar": [
           {
            "marker": {
             "colorbar": {
              "outlinewidth": 0,
              "ticks": ""
             }
            },
            "type": "scatterpolar"
           }
          ],
          "scatterpolargl": [
           {
            "marker": {
             "colorbar": {
              "outlinewidth": 0,
              "ticks": ""
             }
            },
            "type": "scatterpolargl"
           }
          ],
          "scatterternary": [
           {
            "marker": {
             "colorbar": {
              "outlinewidth": 0,
              "ticks": ""
             }
            },
            "type": "scatterternary"
           }
          ],
          "surface": [
           {
            "colorbar": {
             "outlinewidth": 0,
             "ticks": ""
            },
            "colorscale": [
             [
              0,
              "#0d0887"
             ],
             [
              0.1111111111111111,
              "#46039f"
             ],
             [
              0.2222222222222222,
              "#7201a8"
             ],
             [
              0.3333333333333333,
              "#9c179e"
             ],
             [
              0.4444444444444444,
              "#bd3786"
             ],
             [
              0.5555555555555556,
              "#d8576b"
             ],
             [
              0.6666666666666666,
              "#ed7953"
             ],
             [
              0.7777777777777778,
              "#fb9f3a"
             ],
             [
              0.8888888888888888,
              "#fdca26"
             ],
             [
              1,
              "#f0f921"
             ]
            ],
            "type": "surface"
           }
          ],
          "table": [
           {
            "cells": {
             "fill": {
              "color": "#EBF0F8"
             },
             "line": {
              "color": "white"
             }
            },
            "header": {
             "fill": {
              "color": "#C8D4E3"
             },
             "line": {
              "color": "white"
             }
            },
            "type": "table"
           }
          ]
         },
         "layout": {
          "annotationdefaults": {
           "arrowcolor": "#2a3f5f",
           "arrowhead": 0,
           "arrowwidth": 1
          },
          "autotypenumbers": "strict",
          "coloraxis": {
           "colorbar": {
            "outlinewidth": 0,
            "ticks": ""
           }
          },
          "colorscale": {
           "diverging": [
            [
             0,
             "#8e0152"
            ],
            [
             0.1,
             "#c51b7d"
            ],
            [
             0.2,
             "#de77ae"
            ],
            [
             0.3,
             "#f1b6da"
            ],
            [
             0.4,
             "#fde0ef"
            ],
            [
             0.5,
             "#f7f7f7"
            ],
            [
             0.6,
             "#e6f5d0"
            ],
            [
             0.7,
             "#b8e186"
            ],
            [
             0.8,
             "#7fbc41"
            ],
            [
             0.9,
             "#4d9221"
            ],
            [
             1,
             "#276419"
            ]
           ],
           "sequential": [
            [
             0,
             "#0d0887"
            ],
            [
             0.1111111111111111,
             "#46039f"
            ],
            [
             0.2222222222222222,
             "#7201a8"
            ],
            [
             0.3333333333333333,
             "#9c179e"
            ],
            [
             0.4444444444444444,
             "#bd3786"
            ],
            [
             0.5555555555555556,
             "#d8576b"
            ],
            [
             0.6666666666666666,
             "#ed7953"
            ],
            [
             0.7777777777777778,
             "#fb9f3a"
            ],
            [
             0.8888888888888888,
             "#fdca26"
            ],
            [
             1,
             "#f0f921"
            ]
           ],
           "sequentialminus": [
            [
             0,
             "#0d0887"
            ],
            [
             0.1111111111111111,
             "#46039f"
            ],
            [
             0.2222222222222222,
             "#7201a8"
            ],
            [
             0.3333333333333333,
             "#9c179e"
            ],
            [
             0.4444444444444444,
             "#bd3786"
            ],
            [
             0.5555555555555556,
             "#d8576b"
            ],
            [
             0.6666666666666666,
             "#ed7953"
            ],
            [
             0.7777777777777778,
             "#fb9f3a"
            ],
            [
             0.8888888888888888,
             "#fdca26"
            ],
            [
             1,
             "#f0f921"
            ]
           ]
          },
          "colorway": [
           "#636efa",
           "#EF553B",
           "#00cc96",
           "#ab63fa",
           "#FFA15A",
           "#19d3f3",
           "#FF6692",
           "#B6E880",
           "#FF97FF",
           "#FECB52"
          ],
          "font": {
           "color": "#2a3f5f"
          },
          "geo": {
           "bgcolor": "white",
           "lakecolor": "white",
           "landcolor": "#E5ECF6",
           "showlakes": true,
           "showland": true,
           "subunitcolor": "white"
          },
          "hoverlabel": {
           "align": "left"
          },
          "hovermode": "closest",
          "mapbox": {
           "style": "light"
          },
          "paper_bgcolor": "white",
          "plot_bgcolor": "#E5ECF6",
          "polar": {
           "angularaxis": {
            "gridcolor": "white",
            "linecolor": "white",
            "ticks": ""
           },
           "bgcolor": "#E5ECF6",
           "radialaxis": {
            "gridcolor": "white",
            "linecolor": "white",
            "ticks": ""
           }
          },
          "scene": {
           "xaxis": {
            "backgroundcolor": "#E5ECF6",
            "gridcolor": "white",
            "gridwidth": 2,
            "linecolor": "white",
            "showbackground": true,
            "ticks": "",
            "zerolinecolor": "white"
           },
           "yaxis": {
            "backgroundcolor": "#E5ECF6",
            "gridcolor": "white",
            "gridwidth": 2,
            "linecolor": "white",
            "showbackground": true,
            "ticks": "",
            "zerolinecolor": "white"
           },
           "zaxis": {
            "backgroundcolor": "#E5ECF6",
            "gridcolor": "white",
            "gridwidth": 2,
            "linecolor": "white",
            "showbackground": true,
            "ticks": "",
            "zerolinecolor": "white"
           }
          },
          "shapedefaults": {
           "line": {
            "color": "#2a3f5f"
           }
          },
          "ternary": {
           "aaxis": {
            "gridcolor": "white",
            "linecolor": "white",
            "ticks": ""
           },
           "baxis": {
            "gridcolor": "white",
            "linecolor": "white",
            "ticks": ""
           },
           "bgcolor": "#E5ECF6",
           "caxis": {
            "gridcolor": "white",
            "linecolor": "white",
            "ticks": ""
           }
          },
          "title": {
           "x": 0.05
          },
          "xaxis": {
           "automargin": true,
           "gridcolor": "white",
           "linecolor": "white",
           "ticks": "",
           "title": {
            "standoff": 15
           },
           "zerolinecolor": "white",
           "zerolinewidth": 2
          },
          "yaxis": {
           "automargin": true,
           "gridcolor": "white",
           "linecolor": "white",
           "ticks": "",
           "title": {
            "standoff": 15
           },
           "zerolinecolor": "white",
           "zerolinewidth": 2
          }
         }
        },
        "title": {
         "text": "Label: Abomasnow"
        },
        "width": 500,
        "xaxis": {
         "anchor": "y",
         "domain": [
          0,
          1
         ],
         "showgrid": false,
         "showticklabels": false,
         "visible": false,
         "zeroline": false
        },
        "yaxis": {
         "anchor": "x",
         "domain": [
          0,
          1
         ],
         "showgrid": false,
         "showticklabels": false,
         "visible": false,
         "zeroline": false
        }
       }
      }
     },
     "metadata": {},
     "output_type": "display_data"
    },
    {
     "name": "stdout",
     "output_type": "stream",
     "text": [
      "(128, 128, 3)\n"
     ]
    },
    {
     "data": {
      "application/vnd.plotly.v1+json": {
       "config": {
        "plotlyServerURL": "https://plot.ly"
       },
       "data": [
        {
         "hovertemplate": "x: %{x}<br>y: %{y}<br>color: [%{z[0]}, %{z[1]}, %{z[2]}]<extra></extra>",
         "name": "0",
         "source": "data:image/png;base64,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",
         "type": "image",
         "xaxis": "x",
         "yaxis": "y"
        }
       ],
       "layout": {
        "height": 350,
        "margin": {
         "l": 0,
         "t": 60
        },
        "shapes": [
         {
          "line": {
           "color": "black",
           "width": 2
          },
          "type": "rect",
          "x0": 0,
          "x1": 128,
          "xref": "x",
          "y0": 0,
          "y1": 128,
          "yref": "y"
         }
        ],
        "template": {
         "data": {
          "bar": [
           {
            "error_x": {
             "color": "#2a3f5f"
            },
            "error_y": {
             "color": "#2a3f5f"
            },
            "marker": {
             "line": {
              "color": "#E5ECF6",
              "width": 0.5
             },
             "pattern": {
              "fillmode": "overlay",
              "size": 10,
              "solidity": 0.2
             }
            },
            "type": "bar"
           }
          ],
          "barpolar": [
           {
            "marker": {
             "line": {
              "color": "#E5ECF6",
              "width": 0.5
             },
             "pattern": {
              "fillmode": "overlay",
              "size": 10,
              "solidity": 0.2
             }
            },
            "type": "barpolar"
           }
          ],
          "carpet": [
           {
            "aaxis": {
             "endlinecolor": "#2a3f5f",
             "gridcolor": "white",
             "linecolor": "white",
             "minorgridcolor": "white",
             "startlinecolor": "#2a3f5f"
            },
            "baxis": {
             "endlinecolor": "#2a3f5f",
             "gridcolor": "white",
             "linecolor": "white",
             "minorgridcolor": "white",
             "startlinecolor": "#2a3f5f"
            },
            "type": "carpet"
           }
          ],
          "choropleth": [
           {
            "colorbar": {
             "outlinewidth": 0,
             "ticks": ""
            },
            "type": "choropleth"
           }
          ],
          "contour": [
           {
            "colorbar": {
             "outlinewidth": 0,
             "ticks": ""
            },
            "colorscale": [
             [
              0,
              "#0d0887"
             ],
             [
              0.1111111111111111,
              "#46039f"
             ],
             [
              0.2222222222222222,
              "#7201a8"
             ],
             [
              0.3333333333333333,
              "#9c179e"
             ],
             [
              0.4444444444444444,
              "#bd3786"
             ],
             [
              0.5555555555555556,
              "#d8576b"
             ],
             [
              0.6666666666666666,
              "#ed7953"
             ],
             [
              0.7777777777777778,
              "#fb9f3a"
             ],
             [
              0.8888888888888888,
              "#fdca26"
             ],
             [
              1,
              "#f0f921"
             ]
            ],
            "type": "contour"
           }
          ],
          "contourcarpet": [
           {
            "colorbar": {
             "outlinewidth": 0,
             "ticks": ""
            },
            "type": "contourcarpet"
           }
          ],
          "heatmap": [
           {
            "colorbar": {
             "outlinewidth": 0,
             "ticks": ""
            },
            "colorscale": [
             [
              0,
              "#0d0887"
             ],
             [
              0.1111111111111111,
              "#46039f"
             ],
             [
              0.2222222222222222,
              "#7201a8"
             ],
             [
              0.3333333333333333,
              "#9c179e"
             ],
             [
              0.4444444444444444,
              "#bd3786"
             ],
             [
              0.5555555555555556,
              "#d8576b"
             ],
             [
              0.6666666666666666,
              "#ed7953"
             ],
             [
              0.7777777777777778,
              "#fb9f3a"
             ],
             [
              0.8888888888888888,
              "#fdca26"
             ],
             [
              1,
              "#f0f921"
             ]
            ],
            "type": "heatmap"
           }
          ],
          "heatmapgl": [
           {
            "colorbar": {
             "outlinewidth": 0,
             "ticks": ""
            },
            "colorscale": [
             [
              0,
              "#0d0887"
             ],
             [
              0.1111111111111111,
              "#46039f"
             ],
             [
              0.2222222222222222,
              "#7201a8"
             ],
             [
              0.3333333333333333,
              "#9c179e"
             ],
             [
              0.4444444444444444,
              "#bd3786"
             ],
             [
              0.5555555555555556,
              "#d8576b"
             ],
             [
              0.6666666666666666,
              "#ed7953"
             ],
             [
              0.7777777777777778,
              "#fb9f3a"
             ],
             [
              0.8888888888888888,
              "#fdca26"
             ],
             [
              1,
              "#f0f921"
             ]
            ],
            "type": "heatmapgl"
           }
          ],
          "histogram": [
           {
            "marker": {
             "pattern": {
              "fillmode": "overlay",
              "size": 10,
              "solidity": 0.2
             }
            },
            "type": "histogram"
           }
          ],
          "histogram2d": [
           {
            "colorbar": {
             "outlinewidth": 0,
             "ticks": ""
            },
            "colorscale": [
             [
              0,
              "#0d0887"
             ],
             [
              0.1111111111111111,
              "#46039f"
             ],
             [
              0.2222222222222222,
              "#7201a8"
             ],
             [
              0.3333333333333333,
              "#9c179e"
             ],
             [
              0.4444444444444444,
              "#bd3786"
             ],
             [
              0.5555555555555556,
              "#d8576b"
             ],
             [
              0.6666666666666666,
              "#ed7953"
             ],
             [
              0.7777777777777778,
              "#fb9f3a"
             ],
             [
              0.8888888888888888,
              "#fdca26"
             ],
             [
              1,
              "#f0f921"
             ]
            ],
            "type": "histogram2d"
           }
          ],
          "histogram2dcontour": [
           {
            "colorbar": {
             "outlinewidth": 0,
             "ticks": ""
            },
            "colorscale": [
             [
              0,
              "#0d0887"
             ],
             [
              0.1111111111111111,
              "#46039f"
             ],
             [
              0.2222222222222222,
              "#7201a8"
             ],
             [
              0.3333333333333333,
              "#9c179e"
             ],
             [
              0.4444444444444444,
              "#bd3786"
             ],
             [
              0.5555555555555556,
              "#d8576b"
             ],
             [
              0.6666666666666666,
              "#ed7953"
             ],
             [
              0.7777777777777778,
              "#fb9f3a"
             ],
             [
              0.8888888888888888,
              "#fdca26"
             ],
             [
              1,
              "#f0f921"
             ]
            ],
            "type": "histogram2dcontour"
           }
          ],
          "mesh3d": [
           {
            "colorbar": {
             "outlinewidth": 0,
             "ticks": ""
            },
            "type": "mesh3d"
           }
          ],
          "parcoords": [
           {
            "line": {
             "colorbar": {
              "outlinewidth": 0,
              "ticks": ""
             }
            },
            "type": "parcoords"
           }
          ],
          "pie": [
           {
            "automargin": true,
            "type": "pie"
           }
          ],
          "scatter": [
           {
            "fillpattern": {
             "fillmode": "overlay",
             "size": 10,
             "solidity": 0.2
            },
            "type": "scatter"
           }
          ],
          "scatter3d": [
           {
            "line": {
             "colorbar": {
              "outlinewidth": 0,
              "ticks": ""
             }
            },
            "marker": {
             "colorbar": {
              "outlinewidth": 0,
              "ticks": ""
             }
            },
            "type": "scatter3d"
           }
          ],
          "scattercarpet": [
           {
            "marker": {
             "colorbar": {
              "outlinewidth": 0,
              "ticks": ""
             }
            },
            "type": "scattercarpet"
           }
          ],
          "scattergeo": [
           {
            "marker": {
             "colorbar": {
              "outlinewidth": 0,
              "ticks": ""
             }
            },
            "type": "scattergeo"
           }
          ],
          "scattergl": [
           {
            "marker": {
             "colorbar": {
              "outlinewidth": 0,
              "ticks": ""
             }
            },
            "type": "scattergl"
           }
          ],
          "scattermapbox": [
           {
            "marker": {
             "colorbar": {
              "outlinewidth": 0,
              "ticks": ""
             }
            },
            "type": "scattermapbox"
           }
          ],
          "scatterpolar": [
           {
            "marker": {
             "colorbar": {
              "outlinewidth": 0,
              "ticks": ""
             }
            },
            "type": "scatterpolar"
           }
          ],
          "scatterpolargl": [
           {
            "marker": {
             "colorbar": {
              "outlinewidth": 0,
              "ticks": ""
             }
            },
            "type": "scatterpolargl"
           }
          ],
          "scatterternary": [
           {
            "marker": {
             "colorbar": {
              "outlinewidth": 0,
              "ticks": ""
             }
            },
            "type": "scatterternary"
           }
          ],
          "surface": [
           {
            "colorbar": {
             "outlinewidth": 0,
             "ticks": ""
            },
            "colorscale": [
             [
              0,
              "#0d0887"
             ],
             [
              0.1111111111111111,
              "#46039f"
             ],
             [
              0.2222222222222222,
              "#7201a8"
             ],
             [
              0.3333333333333333,
              "#9c179e"
             ],
             [
              0.4444444444444444,
              "#bd3786"
             ],
             [
              0.5555555555555556,
              "#d8576b"
             ],
             [
              0.6666666666666666,
              "#ed7953"
             ],
             [
              0.7777777777777778,
              "#fb9f3a"
             ],
             [
              0.8888888888888888,
              "#fdca26"
             ],
             [
              1,
              "#f0f921"
             ]
            ],
            "type": "surface"
           }
          ],
          "table": [
           {
            "cells": {
             "fill": {
              "color": "#EBF0F8"
             },
             "line": {
              "color": "white"
             }
            },
            "header": {
             "fill": {
              "color": "#C8D4E3"
             },
             "line": {
              "color": "white"
             }
            },
            "type": "table"
           }
          ]
         },
         "layout": {
          "annotationdefaults": {
           "arrowcolor": "#2a3f5f",
           "arrowhead": 0,
           "arrowwidth": 1
          },
          "autotypenumbers": "strict",
          "coloraxis": {
           "colorbar": {
            "outlinewidth": 0,
            "ticks": ""
           }
          },
          "colorscale": {
           "diverging": [
            [
             0,
             "#8e0152"
            ],
            [
             0.1,
             "#c51b7d"
            ],
            [
             0.2,
             "#de77ae"
            ],
            [
             0.3,
             "#f1b6da"
            ],
            [
             0.4,
             "#fde0ef"
            ],
            [
             0.5,
             "#f7f7f7"
            ],
            [
             0.6,
             "#e6f5d0"
            ],
            [
             0.7,
             "#b8e186"
            ],
            [
             0.8,
             "#7fbc41"
            ],
            [
             0.9,
             "#4d9221"
            ],
            [
             1,
             "#276419"
            ]
           ],
           "sequential": [
            [
             0,
             "#0d0887"
            ],
            [
             0.1111111111111111,
             "#46039f"
            ],
            [
             0.2222222222222222,
             "#7201a8"
            ],
            [
             0.3333333333333333,
             "#9c179e"
            ],
            [
             0.4444444444444444,
             "#bd3786"
            ],
            [
             0.5555555555555556,
             "#d8576b"
            ],
            [
             0.6666666666666666,
             "#ed7953"
            ],
            [
             0.7777777777777778,
             "#fb9f3a"
            ],
            [
             0.8888888888888888,
             "#fdca26"
            ],
            [
             1,
             "#f0f921"
            ]
           ],
           "sequentialminus": [
            [
             0,
             "#0d0887"
            ],
            [
             0.1111111111111111,
             "#46039f"
            ],
            [
             0.2222222222222222,
             "#7201a8"
            ],
            [
             0.3333333333333333,
             "#9c179e"
            ],
            [
             0.4444444444444444,
             "#bd3786"
            ],
            [
             0.5555555555555556,
             "#d8576b"
            ],
            [
             0.6666666666666666,
             "#ed7953"
            ],
            [
             0.7777777777777778,
             "#fb9f3a"
            ],
            [
             0.8888888888888888,
             "#fdca26"
            ],
            [
             1,
             "#f0f921"
            ]
           ]
          },
          "colorway": [
           "#636efa",
           "#EF553B",
           "#00cc96",
           "#ab63fa",
           "#FFA15A",
           "#19d3f3",
           "#FF6692",
           "#B6E880",
           "#FF97FF",
           "#FECB52"
          ],
          "font": {
           "color": "#2a3f5f"
          },
          "geo": {
           "bgcolor": "white",
           "lakecolor": "white",
           "landcolor": "#E5ECF6",
           "showlakes": true,
           "showland": true,
           "subunitcolor": "white"
          },
          "hoverlabel": {
           "align": "left"
          },
          "hovermode": "closest",
          "mapbox": {
           "style": "light"
          },
          "paper_bgcolor": "white",
          "plot_bgcolor": "#E5ECF6",
          "polar": {
           "angularaxis": {
            "gridcolor": "white",
            "linecolor": "white",
            "ticks": ""
           },
           "bgcolor": "#E5ECF6",
           "radialaxis": {
            "gridcolor": "white",
            "linecolor": "white",
            "ticks": ""
           }
          },
          "scene": {
           "xaxis": {
            "backgroundcolor": "#E5ECF6",
            "gridcolor": "white",
            "gridwidth": 2,
            "linecolor": "white",
            "showbackground": true,
            "ticks": "",
            "zerolinecolor": "white"
           },
           "yaxis": {
            "backgroundcolor": "#E5ECF6",
            "gridcolor": "white",
            "gridwidth": 2,
            "linecolor": "white",
            "showbackground": true,
            "ticks": "",
            "zerolinecolor": "white"
           },
           "zaxis": {
            "backgroundcolor": "#E5ECF6",
            "gridcolor": "white",
            "gridwidth": 2,
            "linecolor": "white",
            "showbackground": true,
            "ticks": "",
            "zerolinecolor": "white"
           }
          },
          "shapedefaults": {
           "line": {
            "color": "#2a3f5f"
           }
          },
          "ternary": {
           "aaxis": {
            "gridcolor": "white",
            "linecolor": "white",
            "ticks": ""
           },
           "baxis": {
            "gridcolor": "white",
            "linecolor": "white",
            "ticks": ""
           },
           "bgcolor": "#E5ECF6",
           "caxis": {
            "gridcolor": "white",
            "linecolor": "white",
            "ticks": ""
           }
          },
          "title": {
           "x": 0.05
          },
          "xaxis": {
           "automargin": true,
           "gridcolor": "white",
           "linecolor": "white",
           "ticks": "",
           "title": {
            "standoff": 15
           },
           "zerolinecolor": "white",
           "zerolinewidth": 2
          },
          "yaxis": {
           "automargin": true,
           "gridcolor": "white",
           "linecolor": "white",
           "ticks": "",
           "title": {
            "standoff": 15
           },
           "zerolinecolor": "white",
           "zerolinewidth": 2
          }
         }
        },
        "title": {
         "text": "Label: Abomasnow"
        },
        "width": 500,
        "xaxis": {
         "anchor": "y",
         "domain": [
          0,
          1
         ],
         "showgrid": false,
         "showticklabels": false,
         "visible": false,
         "zeroline": false
        },
        "yaxis": {
         "anchor": "x",
         "domain": [
          0,
          1
         ],
         "showgrid": false,
         "showticklabels": false,
         "visible": false,
         "zeroline": false
        }
       }
      }
     },
     "metadata": {},
     "output_type": "display_data"
    },
    {
     "name": "stdout",
     "output_type": "stream",
     "text": [
      "(128, 128, 3)\n"
     ]
    },
    {
     "data": {
      "application/vnd.plotly.v1+json": {
       "config": {
        "plotlyServerURL": "https://plot.ly"
       },
       "data": [
        {
         "hovertemplate": "x: %{x}<br>y: %{y}<br>color: [%{z[0]}, %{z[1]}, %{z[2]}]<extra></extra>",
         "name": "0",
         "source": "data:image/png;base64,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",
         "type": "image",
         "xaxis": "x",
         "yaxis": "y"
        }
       ],
       "layout": {
        "height": 350,
        "margin": {
         "l": 0,
         "t": 60
        },
        "shapes": [
         {
          "line": {
           "color": "black",
           "width": 2
          },
          "type": "rect",
          "x0": 0,
          "x1": 128,
          "xref": "x",
          "y0": 0,
          "y1": 128,
          "yref": "y"
         }
        ],
        "template": {
         "data": {
          "bar": [
           {
            "error_x": {
             "color": "#2a3f5f"
            },
            "error_y": {
             "color": "#2a3f5f"
            },
            "marker": {
             "line": {
              "color": "#E5ECF6",
              "width": 0.5
             },
             "pattern": {
              "fillmode": "overlay",
              "size": 10,
              "solidity": 0.2
             }
            },
            "type": "bar"
           }
          ],
          "barpolar": [
           {
            "marker": {
             "line": {
              "color": "#E5ECF6",
              "width": 0.5
             },
             "pattern": {
              "fillmode": "overlay",
              "size": 10,
              "solidity": 0.2
             }
            },
            "type": "barpolar"
           }
          ],
          "carpet": [
           {
            "aaxis": {
             "endlinecolor": "#2a3f5f",
             "gridcolor": "white",
             "linecolor": "white",
             "minorgridcolor": "white",
             "startlinecolor": "#2a3f5f"
            },
            "baxis": {
             "endlinecolor": "#2a3f5f",
             "gridcolor": "white",
             "linecolor": "white",
             "minorgridcolor": "white",
             "startlinecolor": "#2a3f5f"
            },
            "type": "carpet"
           }
          ],
          "choropleth": [
           {
            "colorbar": {
             "outlinewidth": 0,
             "ticks": ""
            },
            "type": "choropleth"
           }
          ],
          "contour": [
           {
            "colorbar": {
             "outlinewidth": 0,
             "ticks": ""
            },
            "colorscale": [
             [
              0,
              "#0d0887"
             ],
             [
              0.1111111111111111,
              "#46039f"
             ],
             [
              0.2222222222222222,
              "#7201a8"
             ],
             [
              0.3333333333333333,
              "#9c179e"
             ],
             [
              0.4444444444444444,
              "#bd3786"
             ],
             [
              0.5555555555555556,
              "#d8576b"
             ],
             [
              0.6666666666666666,
              "#ed7953"
             ],
             [
              0.7777777777777778,
              "#fb9f3a"
             ],
             [
              0.8888888888888888,
              "#fdca26"
             ],
             [
              1,
              "#f0f921"
             ]
            ],
            "type": "contour"
           }
          ],
          "contourcarpet": [
           {
            "colorbar": {
             "outlinewidth": 0,
             "ticks": ""
            },
            "type": "contourcarpet"
           }
          ],
          "heatmap": [
           {
            "colorbar": {
             "outlinewidth": 0,
             "ticks": ""
            },
            "colorscale": [
             [
              0,
              "#0d0887"
             ],
             [
              0.1111111111111111,
              "#46039f"
             ],
             [
              0.2222222222222222,
              "#7201a8"
             ],
             [
              0.3333333333333333,
              "#9c179e"
             ],
             [
              0.4444444444444444,
              "#bd3786"
             ],
             [
              0.5555555555555556,
              "#d8576b"
             ],
             [
              0.6666666666666666,
              "#ed7953"
             ],
             [
              0.7777777777777778,
              "#fb9f3a"
             ],
             [
              0.8888888888888888,
              "#fdca26"
             ],
             [
              1,
              "#f0f921"
             ]
            ],
            "type": "heatmap"
           }
          ],
          "heatmapgl": [
           {
            "colorbar": {
             "outlinewidth": 0,
             "ticks": ""
            },
            "colorscale": [
             [
              0,
              "#0d0887"
             ],
             [
              0.1111111111111111,
              "#46039f"
             ],
             [
              0.2222222222222222,
              "#7201a8"
             ],
             [
              0.3333333333333333,
              "#9c179e"
             ],
             [
              0.4444444444444444,
              "#bd3786"
             ],
             [
              0.5555555555555556,
              "#d8576b"
             ],
             [
              0.6666666666666666,
              "#ed7953"
             ],
             [
              0.7777777777777778,
              "#fb9f3a"
             ],
             [
              0.8888888888888888,
              "#fdca26"
             ],
             [
              1,
              "#f0f921"
             ]
            ],
            "type": "heatmapgl"
           }
          ],
          "histogram": [
           {
            "marker": {
             "pattern": {
              "fillmode": "overlay",
              "size": 10,
              "solidity": 0.2
             }
            },
            "type": "histogram"
           }
          ],
          "histogram2d": [
           {
            "colorbar": {
             "outlinewidth": 0,
             "ticks": ""
            },
            "colorscale": [
             [
              0,
              "#0d0887"
             ],
             [
              0.1111111111111111,
              "#46039f"
             ],
             [
              0.2222222222222222,
              "#7201a8"
             ],
             [
              0.3333333333333333,
              "#9c179e"
             ],
             [
              0.4444444444444444,
              "#bd3786"
             ],
             [
              0.5555555555555556,
              "#d8576b"
             ],
             [
              0.6666666666666666,
              "#ed7953"
             ],
             [
              0.7777777777777778,
              "#fb9f3a"
             ],
             [
              0.8888888888888888,
              "#fdca26"
             ],
             [
              1,
              "#f0f921"
             ]
            ],
            "type": "histogram2d"
           }
          ],
          "histogram2dcontour": [
           {
            "colorbar": {
             "outlinewidth": 0,
             "ticks": ""
            },
            "colorscale": [
             [
              0,
              "#0d0887"
             ],
             [
              0.1111111111111111,
              "#46039f"
             ],
             [
              0.2222222222222222,
              "#7201a8"
             ],
             [
              0.3333333333333333,
              "#9c179e"
             ],
             [
              0.4444444444444444,
              "#bd3786"
             ],
             [
              0.5555555555555556,
              "#d8576b"
             ],
             [
              0.6666666666666666,
              "#ed7953"
             ],
             [
              0.7777777777777778,
              "#fb9f3a"
             ],
             [
              0.8888888888888888,
              "#fdca26"
             ],
             [
              1,
              "#f0f921"
             ]
            ],
            "type": "histogram2dcontour"
           }
          ],
          "mesh3d": [
           {
            "colorbar": {
             "outlinewidth": 0,
             "ticks": ""
            },
            "type": "mesh3d"
           }
          ],
          "parcoords": [
           {
            "line": {
             "colorbar": {
              "outlinewidth": 0,
              "ticks": ""
             }
            },
            "type": "parcoords"
           }
          ],
          "pie": [
           {
            "automargin": true,
            "type": "pie"
           }
          ],
          "scatter": [
           {
            "fillpattern": {
             "fillmode": "overlay",
             "size": 10,
             "solidity": 0.2
            },
            "type": "scatter"
           }
          ],
          "scatter3d": [
           {
            "line": {
             "colorbar": {
              "outlinewidth": 0,
              "ticks": ""
             }
            },
            "marker": {
             "colorbar": {
              "outlinewidth": 0,
              "ticks": ""
             }
            },
            "type": "scatter3d"
           }
          ],
          "scattercarpet": [
           {
            "marker": {
             "colorbar": {
              "outlinewidth": 0,
              "ticks": ""
             }
            },
            "type": "scattercarpet"
           }
          ],
          "scattergeo": [
           {
            "marker": {
             "colorbar": {
              "outlinewidth": 0,
              "ticks": ""
             }
            },
            "type": "scattergeo"
           }
          ],
          "scattergl": [
           {
            "marker": {
             "colorbar": {
              "outlinewidth": 0,
              "ticks": ""
             }
            },
            "type": "scattergl"
           }
          ],
          "scattermapbox": [
           {
            "marker": {
             "colorbar": {
              "outlinewidth": 0,
              "ticks": ""
             }
            },
            "type": "scattermapbox"
           }
          ],
          "scatterpolar": [
           {
            "marker": {
             "colorbar": {
              "outlinewidth": 0,
              "ticks": ""
             }
            },
            "type": "scatterpolar"
           }
          ],
          "scatterpolargl": [
           {
            "marker": {
             "colorbar": {
              "outlinewidth": 0,
              "ticks": ""
             }
            },
            "type": "scatterpolargl"
           }
          ],
          "scatterternary": [
           {
            "marker": {
             "colorbar": {
              "outlinewidth": 0,
              "ticks": ""
             }
            },
            "type": "scatterternary"
           }
          ],
          "surface": [
           {
            "colorbar": {
             "outlinewidth": 0,
             "ticks": ""
            },
            "colorscale": [
             [
              0,
              "#0d0887"
             ],
             [
              0.1111111111111111,
              "#46039f"
             ],
             [
              0.2222222222222222,
              "#7201a8"
             ],
             [
              0.3333333333333333,
              "#9c179e"
             ],
             [
              0.4444444444444444,
              "#bd3786"
             ],
             [
              0.5555555555555556,
              "#d8576b"
             ],
             [
              0.6666666666666666,
              "#ed7953"
             ],
             [
              0.7777777777777778,
              "#fb9f3a"
             ],
             [
              0.8888888888888888,
              "#fdca26"
             ],
             [
              1,
              "#f0f921"
             ]
            ],
            "type": "surface"
           }
          ],
          "table": [
           {
            "cells": {
             "fill": {
              "color": "#EBF0F8"
             },
             "line": {
              "color": "white"
             }
            },
            "header": {
             "fill": {
              "color": "#C8D4E3"
             },
             "line": {
              "color": "white"
             }
            },
            "type": "table"
           }
          ]
         },
         "layout": {
          "annotationdefaults": {
           "arrowcolor": "#2a3f5f",
           "arrowhead": 0,
           "arrowwidth": 1
          },
          "autotypenumbers": "strict",
          "coloraxis": {
           "colorbar": {
            "outlinewidth": 0,
            "ticks": ""
           }
          },
          "colorscale": {
           "diverging": [
            [
             0,
             "#8e0152"
            ],
            [
             0.1,
             "#c51b7d"
            ],
            [
             0.2,
             "#de77ae"
            ],
            [
             0.3,
             "#f1b6da"
            ],
            [
             0.4,
             "#fde0ef"
            ],
            [
             0.5,
             "#f7f7f7"
            ],
            [
             0.6,
             "#e6f5d0"
            ],
            [
             0.7,
             "#b8e186"
            ],
            [
             0.8,
             "#7fbc41"
            ],
            [
             0.9,
             "#4d9221"
            ],
            [
             1,
             "#276419"
            ]
           ],
           "sequential": [
            [
             0,
             "#0d0887"
            ],
            [
             0.1111111111111111,
             "#46039f"
            ],
            [
             0.2222222222222222,
             "#7201a8"
            ],
            [
             0.3333333333333333,
             "#9c179e"
            ],
            [
             0.4444444444444444,
             "#bd3786"
            ],
            [
             0.5555555555555556,
             "#d8576b"
            ],
            [
             0.6666666666666666,
             "#ed7953"
            ],
            [
             0.7777777777777778,
             "#fb9f3a"
            ],
            [
             0.8888888888888888,
             "#fdca26"
            ],
            [
             1,
             "#f0f921"
            ]
           ],
           "sequentialminus": [
            [
             0,
             "#0d0887"
            ],
            [
             0.1111111111111111,
             "#46039f"
            ],
            [
             0.2222222222222222,
             "#7201a8"
            ],
            [
             0.3333333333333333,
             "#9c179e"
            ],
            [
             0.4444444444444444,
             "#bd3786"
            ],
            [
             0.5555555555555556,
             "#d8576b"
            ],
            [
             0.6666666666666666,
             "#ed7953"
            ],
            [
             0.7777777777777778,
             "#fb9f3a"
            ],
            [
             0.8888888888888888,
             "#fdca26"
            ],
            [
             1,
             "#f0f921"
            ]
           ]
          },
          "colorway": [
           "#636efa",
           "#EF553B",
           "#00cc96",
           "#ab63fa",
           "#FFA15A",
           "#19d3f3",
           "#FF6692",
           "#B6E880",
           "#FF97FF",
           "#FECB52"
          ],
          "font": {
           "color": "#2a3f5f"
          },
          "geo": {
           "bgcolor": "white",
           "lakecolor": "white",
           "landcolor": "#E5ECF6",
           "showlakes": true,
           "showland": true,
           "subunitcolor": "white"
          },
          "hoverlabel": {
           "align": "left"
          },
          "hovermode": "closest",
          "mapbox": {
           "style": "light"
          },
          "paper_bgcolor": "white",
          "plot_bgcolor": "#E5ECF6",
          "polar": {
           "angularaxis": {
            "gridcolor": "white",
            "linecolor": "white",
            "ticks": ""
           },
           "bgcolor": "#E5ECF6",
           "radialaxis": {
            "gridcolor": "white",
            "linecolor": "white",
            "ticks": ""
           }
          },
          "scene": {
           "xaxis": {
            "backgroundcolor": "#E5ECF6",
            "gridcolor": "white",
            "gridwidth": 2,
            "linecolor": "white",
            "showbackground": true,
            "ticks": "",
            "zerolinecolor": "white"
           },
           "yaxis": {
            "backgroundcolor": "#E5ECF6",
            "gridcolor": "white",
            "gridwidth": 2,
            "linecolor": "white",
            "showbackground": true,
            "ticks": "",
            "zerolinecolor": "white"
           },
           "zaxis": {
            "backgroundcolor": "#E5ECF6",
            "gridcolor": "white",
            "gridwidth": 2,
            "linecolor": "white",
            "showbackground": true,
            "ticks": "",
            "zerolinecolor": "white"
           }
          },
          "shapedefaults": {
           "line": {
            "color": "#2a3f5f"
           }
          },
          "ternary": {
           "aaxis": {
            "gridcolor": "white",
            "linecolor": "white",
            "ticks": ""
           },
           "baxis": {
            "gridcolor": "white",
            "linecolor": "white",
            "ticks": ""
           },
           "bgcolor": "#E5ECF6",
           "caxis": {
            "gridcolor": "white",
            "linecolor": "white",
            "ticks": ""
           }
          },
          "title": {
           "x": 0.05
          },
          "xaxis": {
           "automargin": true,
           "gridcolor": "white",
           "linecolor": "white",
           "ticks": "",
           "title": {
            "standoff": 15
           },
           "zerolinecolor": "white",
           "zerolinewidth": 2
          },
          "yaxis": {
           "automargin": true,
           "gridcolor": "white",
           "linecolor": "white",
           "ticks": "",
           "title": {
            "standoff": 15
           },
           "zerolinecolor": "white",
           "zerolinewidth": 2
          }
         }
        },
        "title": {
         "text": "Label: Abomasnow"
        },
        "width": 500,
        "xaxis": {
         "anchor": "y",
         "domain": [
          0,
          1
         ],
         "showgrid": false,
         "showticklabels": false,
         "visible": false,
         "zeroline": false
        },
        "yaxis": {
         "anchor": "x",
         "domain": [
          0,
          1
         ],
         "showgrid": false,
         "showticklabels": false,
         "visible": false,
         "zeroline": false
        }
       }
      }
     },
     "metadata": {},
     "output_type": "display_data"
    }
   ],
   "source": [
    "plot_n_images(train_ds, 5, class_names, GAN=True)"
   ]
  },
  {
   "cell_type": "code",
   "execution_count": 7,
   "metadata": {},
   "outputs": [],
   "source": [
    "# define the discriminator model\n",
    "def define_discriminator(in_shape=input_shape):\n",
    "    model = tf.keras.Sequential()\n",
    "    # normal\n",
    "    model.add(tf.keras.layers.Conv2D(64, (3,3), padding='same', input_shape=in_shape))\n",
    "    model.add(tf.keras.layers.LeakyReLU(alpha=0.2))\n",
    "    # downsample to 64x64\n",
    "    model.add(tf.keras.layers.Conv2D(128, (3,3), strides=(2,2), padding='same'))\n",
    "    model.add(tf.keras.layers.LeakyReLU(alpha=0.2))\n",
    "    # downsample to 32x32\n",
    "    model.add(tf.keras.layers.Conv2D(128, (3,3), strides=(2,2), padding='same'))\n",
    "    model.add(tf.keras.layers.LeakyReLU(alpha=0.2))\n",
    "    # downsample to 16x16\n",
    "    model.add(tf.keras.layers.Conv2D(256, (3,3), strides=(2,2), padding='same'))\n",
    "    model.add(tf.keras.layers.LeakyReLU(alpha=0.2))\n",
    "    # downsample to 8x8\n",
    "    model.add(tf.keras.layers.Conv2D(256, (3,3), strides=(2,2), padding='same'))\n",
    "    model.add(tf.keras.layers.LeakyReLU(alpha=0.2))\n",
    "    # classifier\n",
    "    model.add(tf.keras.layers.Flatten())\n",
    "    model.add(tf.keras.layers.Dropout(0.4))\n",
    "    model.add(tf.keras.layers.Dense(1, activation='sigmoid'))\n",
    "    # compile model\n",
    "    opt = tf.keras.optimizers.Adam(learning_rate=0.0002, beta_1=0.5)\n",
    "    model.compile(loss='binary_crossentropy', optimizer=opt, metrics=['accuracy'])\n",
    "    return model\n",
    "    "
   ]
  },
  {
   "cell_type": "code",
   "execution_count": 8,
   "metadata": {},
   "outputs": [],
   "source": [
    "# define the standalone generator model\n",
    "def define_generator(latent_dim):\n",
    "    model = tf.keras.Sequential()\n",
    "    # foundation for 8x8 feature maps\n",
    "    n_nodes = 256 * 8 * 8\n",
    "    model.add(tf.keras.layers.Dense(n_nodes, input_dim=latent_dim))\n",
    "    model.add(tf.keras.layers.LeakyReLU(alpha=0.2))\n",
    "    model.add(tf.keras.layers.Reshape((8, 8, 256)))\n",
    "    # upsample to 16x16\n",
    "    model.add(tf.keras.layers.Conv2DTranspose(256, (4,4), strides=(2,2), padding='same'))\n",
    "    model.add(tf.keras.layers.LeakyReLU(alpha=0.2))\n",
    "    # upsample to 32x32\n",
    "    model.add(tf.keras.layers.Conv2DTranspose(256, (4,4), strides=(2,2), padding='same'))\n",
    "    model.add(tf.keras.layers.LeakyReLU(alpha=0.2))\n",
    "    # upsample to 64x64\n",
    "    model.add(tf.keras.layers.Conv2DTranspose(128, (4,4), strides=(2,2), padding='same'))\n",
    "    model.add(tf.keras.layers.LeakyReLU(alpha=0.2))\n",
    "    # upsample to 128x128\n",
    "    model.add(tf.keras.layers.Conv2DTranspose(128, (4,4), strides=(2,2), padding='same'))\n",
    "    model.add(tf.keras.layers.LeakyReLU(alpha=0.2))\n",
    "    # output layer\n",
    "    model.add(tf.keras.layers.Conv2D(3, (3,3), activation='tanh', padding='same'))\n",
    "    return model"
   ]
  },
  {
   "cell_type": "code",
   "execution_count": 9,
   "metadata": {},
   "outputs": [],
   "source": [
    "# define the combined generator and discriminator model, for updating the generator\n",
    "def define_gan(g_model, d_model):\n",
    "    # make weights in the discriminator not trainable\n",
    "    d_model.trainable = False\n",
    "    # connect them\n",
    "    model = tf.keras.Sequential()\n",
    "    # add generator\n",
    "    model.add(g_model)\n",
    "    # add the discriminator\n",
    "    model.add(d_model)\n",
    "    # compile model\n",
    "    opt = tf.keras.optimizers.Adam(learning_rate=0.0002, beta_1=0.5)\n",
    "    model.compile(loss='binary_crossentropy', optimizer=opt)\n",
    "    return model"
   ]
  },
  {
   "cell_type": "code",
   "execution_count": 10,
   "metadata": {},
   "outputs": [
    {
     "name": "stdout",
     "output_type": "stream",
     "text": [
      "Model: \"sequential_1\"\n",
      "_________________________________________________________________\n",
      " Layer (type)                Output Shape              Param #   \n",
      "=================================================================\n",
      " conv2d (Conv2D)             (None, 128, 128, 64)      1792      \n",
      "                                                                 \n",
      " leaky_re_lu (LeakyReLU)     (None, 128, 128, 64)      0         \n",
      "                                                                 \n",
      " conv2d_1 (Conv2D)           (None, 64, 64, 128)       73856     \n",
      "                                                                 \n",
      " leaky_re_lu_1 (LeakyReLU)   (None, 64, 64, 128)       0         \n",
      "                                                                 \n",
      " conv2d_2 (Conv2D)           (None, 32, 32, 128)       147584    \n",
      "                                                                 \n",
      " leaky_re_lu_2 (LeakyReLU)   (None, 32, 32, 128)       0         \n",
      "                                                                 \n",
      " conv2d_3 (Conv2D)           (None, 16, 16, 256)       295168    \n",
      "                                                                 \n",
      " leaky_re_lu_3 (LeakyReLU)   (None, 16, 16, 256)       0         \n",
      "                                                                 \n",
      " conv2d_4 (Conv2D)           (None, 8, 8, 256)         590080    \n",
      "                                                                 \n",
      " leaky_re_lu_4 (LeakyReLU)   (None, 8, 8, 256)         0         \n",
      "                                                                 \n",
      " flatten (Flatten)           (None, 16384)             0         \n",
      "                                                                 \n",
      " dropout (Dropout)           (None, 16384)             0         \n",
      "                                                                 \n",
      " dense (Dense)               (None, 1)                 16385     \n",
      "                                                                 \n",
      "=================================================================\n",
      "Total params: 1,124,865\n",
      "Trainable params: 1,124,865\n",
      "Non-trainable params: 0\n",
      "_________________________________________________________________\n"
     ]
    }
   ],
   "source": [
    "# build and compile the discriminator\n",
    "discriminator = define_discriminator()\n",
    "discriminator.summary()\n"
   ]
  },
  {
   "cell_type": "code",
   "execution_count": 11,
   "metadata": {},
   "outputs": [
    {
     "name": "stdout",
     "output_type": "stream",
     "text": [
      "Model: \"sequential_2\"\n",
      "_________________________________________________________________\n",
      " Layer (type)                Output Shape              Param #   \n",
      "=================================================================\n",
      " dense_1 (Dense)             (None, 16384)             1654784   \n",
      "                                                                 \n",
      " leaky_re_lu_5 (LeakyReLU)   (None, 16384)             0         \n",
      "                                                                 \n",
      " reshape (Reshape)           (None, 8, 8, 256)         0         \n",
      "                                                                 \n",
      " conv2d_transpose (Conv2DTra  (None, 16, 16, 256)      1048832   \n",
      " nspose)                                                         \n",
      "                                                                 \n",
      " leaky_re_lu_6 (LeakyReLU)   (None, 16, 16, 256)       0         \n",
      "                                                                 \n",
      " conv2d_transpose_1 (Conv2DT  (None, 32, 32, 256)      1048832   \n",
      " ranspose)                                                       \n",
      "                                                                 \n",
      " leaky_re_lu_7 (LeakyReLU)   (None, 32, 32, 256)       0         \n",
      "                                                                 \n",
      " conv2d_transpose_2 (Conv2DT  (None, 64, 64, 128)      524416    \n",
      " ranspose)                                                       \n",
      "                                                                 \n",
      " leaky_re_lu_8 (LeakyReLU)   (None, 64, 64, 128)       0         \n",
      "                                                                 \n",
      " conv2d_transpose_3 (Conv2DT  (None, 128, 128, 128)    262272    \n",
      " ranspose)                                                       \n",
      "                                                                 \n",
      " leaky_re_lu_9 (LeakyReLU)   (None, 128, 128, 128)     0         \n",
      "                                                                 \n",
      " conv2d_5 (Conv2D)           (None, 128, 128, 3)       3459      \n",
      "                                                                 \n",
      "=================================================================\n",
      "Total params: 4,542,595\n",
      "Trainable params: 4,542,595\n",
      "Non-trainable params: 0\n",
      "_________________________________________________________________\n"
     ]
    }
   ],
   "source": [
    "# build the generator\n",
    "generator = define_generator(100)\n",
    "generator.summary()"
   ]
  },
  {
   "cell_type": "code",
   "execution_count": 12,
   "metadata": {},
   "outputs": [
    {
     "name": "stdout",
     "output_type": "stream",
     "text": [
      "Model: \"sequential_3\"\n",
      "_________________________________________________________________\n",
      " Layer (type)                Output Shape              Param #   \n",
      "=================================================================\n",
      " sequential_2 (Sequential)   (None, 128, 128, 3)       4542595   \n",
      "                                                                 \n",
      " sequential_1 (Sequential)   (None, 1)                 1124865   \n",
      "                                                                 \n",
      "=================================================================\n",
      "Total params: 5,667,460\n",
      "Trainable params: 4,542,595\n",
      "Non-trainable params: 1,124,865\n",
      "_________________________________________________________________\n"
     ]
    }
   ],
   "source": [
    "# build the gan\n",
    "gan_model = define_gan(generator, discriminator)\n",
    "gan_model.summary()\n"
   ]
  },
  {
   "cell_type": "code",
   "execution_count": 13,
   "metadata": {},
   "outputs": [],
   "source": [
    "def train(g_model, d_model, gan_model, dataset, latent_dim, n_epochs=100, n_batch=64):\n",
    "    bat_per_epo = int(dataset.cardinality())\n",
    "    half_batch = int(n_batch / 2)\n",
    "    # manually enumerate epochs\n",
    "    for i in range(n_epochs):\n",
    "        # enumerate batches over the training set\n",
    "        for j, batch in enumerate(dataset):\n",
    "            # get randomly selected 'real' samples\n",
    "            X_real, y_real = batch[0], batch[1]\n",
    "            # generate 'fake' examples\n",
    "            X_fake, y_fake = generate_fake_samples(g_model, latent_dim, half_batch)\n",
    "            # create training set for the discriminator\n",
    "            X, y = tf.concat([X_real, X_fake], axis=0), tf.concat([y_real, y_fake], axis=0)\n",
    "            # update discriminator model weights\n",
    "            d_loss, _ = d_model.train_on_batch(X, y)\n",
    "            # prepare points in latent space as input for the generator\n",
    "            X_gan = generate_latent_points(latent_dim, n_batch)\n",
    "            # create inverted labels for the fake samples\n",
    "            y_gan = tf.ones((n_batch, 1))\n",
    "            # update the generator via the discriminator's error\n",
    "            g_loss = gan_model.train_on_batch(X_gan, y_gan)\n",
    "            # summarize loss on this batch\n",
    "            print('>%d, %d/%d, d=%.3f, g=%.3f' % (i+1, j+1, bat_per_epo, d_loss, g_loss))\n",
    "        # evaluate the model performance, sometimes\n",
    "        if (i+1) % 10 == 0:\n",
    "            summarize_performance(i, g_model, d_model, dataset, latent_dim)\n",
    "    # save the generator model\n",
    "    g_model.save('generator_model.h5')\n"
   ]
  },
  {
   "cell_type": "code",
   "execution_count": 14,
   "metadata": {},
   "outputs": [],
   "source": [
    "def generate_fake_samples(g_model, latent_dim, n_samples):\n",
    "    # generate points in latent space\n",
    "    x_input = generate_latent_points(latent_dim, n_samples)\n",
    "    # predict outputs\n",
    "    X = g_model.predict(x_input)\n",
    "    # create 'fake' class labels (0)\n",
    "    y = tf.zeros((n_samples, 1))\n",
    "    return X, y\n",
    "\n",
    "# generate points in latent space as input for the generator\n",
    "def generate_latent_points(latent_dim, n_samples):\n",
    "    # generate points in the latent space\n",
    "    x_input = tf.random.normal(shape=(n_samples, latent_dim))\n",
    "    return x_input"
   ]
  },
  {
   "cell_type": "code",
   "execution_count": 16,
   "metadata": {},
   "outputs": [
    {
     "name": "stdout",
     "output_type": "stream",
     "text": [
      "1/1 [==============================] - 10s 10s/step\n"
     ]
    },
    {
     "ename": "InvalidArgumentError",
     "evalue": "{{function_node __wrapped__ConcatV2_N_2_device_/job:localhost/replica:0/task:0/device:GPU:0}} ConcatOp : Ranks of all input tensors should match: shape[0] = [32] vs. shape[1] = [32,1] [Op:ConcatV2] name: concat",
     "output_type": "error",
     "traceback": [
      "\u001b[1;31m---------------------------------------------------------------------------\u001b[0m",
      "\u001b[1;31mInvalidArgumentError\u001b[0m                      Traceback (most recent call last)",
      "\u001b[1;32md:\\GAN_poke\\GAN.ipynb Cell 15\u001b[0m in \u001b[0;36m4\n\u001b[0;32m      <a href='vscode-notebook-cell:/d%3A/GAN_poke/GAN.ipynb#X15sZmlsZQ%3D%3D?line=1'>2</a>\u001b[0m latent_dim \u001b[39m=\u001b[39m \u001b[39m100\u001b[39m\n\u001b[0;32m      <a href='vscode-notebook-cell:/d%3A/GAN_poke/GAN.ipynb#X15sZmlsZQ%3D%3D?line=2'>3</a>\u001b[0m \u001b[39m# train model\u001b[39;00m\n\u001b[1;32m----> <a href='vscode-notebook-cell:/d%3A/GAN_poke/GAN.ipynb#X15sZmlsZQ%3D%3D?line=3'>4</a>\u001b[0m train(generator, discriminator, gan_model, train_ds, latent_dim)\n",
      "\u001b[1;32md:\\GAN_poke\\GAN.ipynb Cell 15\u001b[0m in \u001b[0;36m1\n\u001b[0;32m     <a href='vscode-notebook-cell:/d%3A/GAN_poke/GAN.ipynb#X15sZmlsZQ%3D%3D?line=10'>11</a>\u001b[0m X_fake, y_fake \u001b[39m=\u001b[39m generate_fake_samples(g_model, latent_dim, half_batch)\n\u001b[0;32m     <a href='vscode-notebook-cell:/d%3A/GAN_poke/GAN.ipynb#X15sZmlsZQ%3D%3D?line=11'>12</a>\u001b[0m \u001b[39m# create training set for the discriminator\u001b[39;00m\n\u001b[1;32m---> <a href='vscode-notebook-cell:/d%3A/GAN_poke/GAN.ipynb#X15sZmlsZQ%3D%3D?line=12'>13</a>\u001b[0m X, y \u001b[39m=\u001b[39m tf\u001b[39m.\u001b[39mconcat([X_real, X_fake], axis\u001b[39m=\u001b[39m\u001b[39m0\u001b[39m), tf\u001b[39m.\u001b[39;49mconcat([y_real, y_fake], axis\u001b[39m=\u001b[39;49m\u001b[39m0\u001b[39;49m)\n\u001b[0;32m     <a href='vscode-notebook-cell:/d%3A/GAN_poke/GAN.ipynb#X15sZmlsZQ%3D%3D?line=13'>14</a>\u001b[0m \u001b[39m# update discriminator model weights\u001b[39;00m\n\u001b[0;32m     <a href='vscode-notebook-cell:/d%3A/GAN_poke/GAN.ipynb#X15sZmlsZQ%3D%3D?line=14'>15</a>\u001b[0m d_loss, _ \u001b[39m=\u001b[39m d_model\u001b[39m.\u001b[39mtrain_on_batch(X, y)\n",
      "File \u001b[1;32mc:\\Users\\valen\\AppData\\Local\\Programs\\Python\\Python310\\lib\\site-packages\\tensorflow\\python\\util\\traceback_utils.py:153\u001b[0m, in \u001b[0;36mfilter_traceback.<locals>.error_handler\u001b[1;34m(*args, **kwargs)\u001b[0m\n\u001b[0;32m    151\u001b[0m \u001b[39mexcept\u001b[39;00m \u001b[39mException\u001b[39;00m \u001b[39mas\u001b[39;00m e:\n\u001b[0;32m    152\u001b[0m   filtered_tb \u001b[39m=\u001b[39m _process_traceback_frames(e\u001b[39m.\u001b[39m__traceback__)\n\u001b[1;32m--> 153\u001b[0m   \u001b[39mraise\u001b[39;00m e\u001b[39m.\u001b[39mwith_traceback(filtered_tb) \u001b[39mfrom\u001b[39;00m \u001b[39mNone\u001b[39m\n\u001b[0;32m    154\u001b[0m \u001b[39mfinally\u001b[39;00m:\n\u001b[0;32m    155\u001b[0m   \u001b[39mdel\u001b[39;00m filtered_tb\n",
      "File \u001b[1;32mc:\\Users\\valen\\AppData\\Local\\Programs\\Python\\Python310\\lib\\site-packages\\tensorflow\\python\\framework\\ops.py:7209\u001b[0m, in \u001b[0;36mraise_from_not_ok_status\u001b[1;34m(e, name)\u001b[0m\n\u001b[0;32m   7207\u001b[0m \u001b[39mdef\u001b[39;00m \u001b[39mraise_from_not_ok_status\u001b[39m(e, name):\n\u001b[0;32m   7208\u001b[0m   e\u001b[39m.\u001b[39mmessage \u001b[39m+\u001b[39m\u001b[39m=\u001b[39m (\u001b[39m\"\u001b[39m\u001b[39m name: \u001b[39m\u001b[39m\"\u001b[39m \u001b[39m+\u001b[39m name \u001b[39mif\u001b[39;00m name \u001b[39mis\u001b[39;00m \u001b[39mnot\u001b[39;00m \u001b[39mNone\u001b[39;00m \u001b[39melse\u001b[39;00m \u001b[39m\"\u001b[39m\u001b[39m\"\u001b[39m)\n\u001b[1;32m-> 7209\u001b[0m   \u001b[39mraise\u001b[39;00m core\u001b[39m.\u001b[39m_status_to_exception(e) \u001b[39mfrom\u001b[39;00m \u001b[39mNone\u001b[39m\n",
      "\u001b[1;31mInvalidArgumentError\u001b[0m: {{function_node __wrapped__ConcatV2_N_2_device_/job:localhost/replica:0/task:0/device:GPU:0}} ConcatOp : Ranks of all input tensors should match: shape[0] = [32] vs. shape[1] = [32,1] [Op:ConcatV2] name: concat"
     ]
    }
   ],
   "source": [
    "# size of the latent space\n",
    "latent_dim = 100\n",
    "# train model\n",
    "train(generator, discriminator, gan_model, train_ds, latent_dim)\n"
   ]
  },
  {
   "cell_type": "code",
   "execution_count": null,
   "metadata": {},
   "outputs": [],
   "source": []
  }
 ],
 "metadata": {
  "kernelspec": {
   "display_name": "Python 3",
   "language": "python",
   "name": "python3"
  },
  "language_info": {
   "codemirror_mode": {
    "name": "ipython",
    "version": 3
   },
   "file_extension": ".py",
   "mimetype": "text/x-python",
   "name": "python",
   "nbconvert_exporter": "python",
   "pygments_lexer": "ipython3",
   "version": "3.10.6"
  },
  "orig_nbformat": 4
 },
 "nbformat": 4,
 "nbformat_minor": 2
}
