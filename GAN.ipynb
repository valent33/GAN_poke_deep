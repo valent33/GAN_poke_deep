{
 "cells": [
  {
   "cell_type": "code",
   "execution_count": 1,
   "metadata": {},
   "outputs": [],
   "source": [
    "import tensorflow as tf\n",
    "import plotly.express as px\n",
    "from tensorflow.keras.applications import EfficientNetB4\n",
    "from tensorflow.keras.applications.efficientnet import preprocess_input\n",
    "import matplotlib.pyplot as plt\n",
    "from utils import *"
   ]
  },
  {
   "cell_type": "code",
   "execution_count": 2,
   "metadata": {},
   "outputs": [],
   "source": [
    "directory = 'images/final/'\n",
    "width = 128\n",
    "height = 128\n",
    "channels = 4\n",
    "image_size = (width, height)\n",
    "input_shape = (width, height, channels)\n",
    "batch_size = 32"
   ]
  },
  {
   "cell_type": "code",
   "execution_count": 3,
   "metadata": {},
   "outputs": [
    {
     "name": "stdout",
     "output_type": "stream",
     "text": [
      "Found 13849 files belonging to 905 classes.\n"
     ]
    }
   ],
   "source": [
    "train_ds, class_names = load_data(directory, batch_size, image_size, GAN=True)"
   ]
  },
  {
   "cell_type": "code",
   "execution_count": 4,
   "metadata": {},
   "outputs": [
    {
     "name": "stdout",
     "output_type": "stream",
     "text": [
      "WARNING:tensorflow:Using a while_loop for converting RngReadAndSkip cause there is no registered converter for this op.\n",
      "WARNING:tensorflow:Using a while_loop for converting Bitcast cause there is no registered converter for this op.\n",
      "WARNING:tensorflow:Using a while_loop for converting Bitcast cause there is no registered converter for this op.\n",
      "WARNING:tensorflow:Using a while_loop for converting StatelessRandomUniformV2 cause there is no registered converter for this op.\n",
      "WARNING:tensorflow:Using a while_loop for converting ImageProjectiveTransformV3 cause there is no registered converter for this op.\n",
      "WARNING:tensorflow:Using a while_loop for converting RngReadAndSkip cause there is no registered converter for this op.\n",
      "WARNING:tensorflow:Using a while_loop for converting Bitcast cause there is no registered converter for this op.\n",
      "WARNING:tensorflow:Using a while_loop for converting Bitcast cause there is no registered converter for this op.\n",
      "WARNING:tensorflow:Using a while_loop for converting StatelessRandomUniformV2 cause there is no registered converter for this op.\n",
      "WARNING:tensorflow:Using a while_loop for converting ImageProjectiveTransformV3 cause there is no registered converter for this op.\n"
     ]
    }
   ],
   "source": [
    "train_ds = prepare(train_ds, shuffle=True, augment=True, GAN=True)\n",
    "\n",
    "channels = 3\n",
    "input_shape = (width, height, channels)"
   ]
  },
  {
   "cell_type": "code",
   "execution_count": 5,
   "metadata": {},
   "outputs": [],
   "source": [
    "# for image_batch, label_batch in train_ds.take(1):\n",
    "#     print(image_batch[0][50][50])\n",
    "#     im = image_batch * 127.5 + 127.5\n",
    "#     print(im[0][50][50])\n",
    "#     break"
   ]
  },
  {
   "cell_type": "code",
   "execution_count": 6,
   "metadata": {},
   "outputs": [
    {
     "name": "stdout",
     "output_type": "stream",
     "text": [
      "(128, 128, 3)\n"
     ]
    },
    {
     "data": {
      "application/vnd.plotly.v1+json": {
       "config": {
        "plotlyServerURL": "https://plot.ly"
       },
       "data": [
        {
         "hovertemplate": "x: %{x}<br>y: %{y}<br>color: [%{z[0]}, %{z[1]}, %{z[2]}]<extra></extra>",
         "name": "0",
         "source": "data:image/png;base64,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",
         "type": "image",
         "xaxis": "x",
         "yaxis": "y"
        }
       ],
       "layout": {
        "height": 350,
        "margin": {
         "l": 0,
         "t": 60
        },
        "shapes": [
         {
          "line": {
           "color": "black",
           "width": 2
          },
          "type": "rect",
          "x0": 0,
          "x1": 128,
          "xref": "x",
          "y0": 0,
          "y1": 128,
          "yref": "y"
         }
        ],
        "template": {
         "data": {
          "bar": [
           {
            "error_x": {
             "color": "#2a3f5f"
            },
            "error_y": {
             "color": "#2a3f5f"
            },
            "marker": {
             "line": {
              "color": "#E5ECF6",
              "width": 0.5
             },
             "pattern": {
              "fillmode": "overlay",
              "size": 10,
              "solidity": 0.2
             }
            },
            "type": "bar"
           }
          ],
          "barpolar": [
           {
            "marker": {
             "line": {
              "color": "#E5ECF6",
              "width": 0.5
             },
             "pattern": {
              "fillmode": "overlay",
              "size": 10,
              "solidity": 0.2
             }
            },
            "type": "barpolar"
           }
          ],
          "carpet": [
           {
            "aaxis": {
             "endlinecolor": "#2a3f5f",
             "gridcolor": "white",
             "linecolor": "white",
             "minorgridcolor": "white",
             "startlinecolor": "#2a3f5f"
            },
            "baxis": {
             "endlinecolor": "#2a3f5f",
             "gridcolor": "white",
             "linecolor": "white",
             "minorgridcolor": "white",
             "startlinecolor": "#2a3f5f"
            },
            "type": "carpet"
           }
          ],
          "choropleth": [
           {
            "colorbar": {
             "outlinewidth": 0,
             "ticks": ""
            },
            "type": "choropleth"
           }
          ],
          "contour": [
           {
            "colorbar": {
             "outlinewidth": 0,
             "ticks": ""
            },
            "colorscale": [
             [
              0,
              "#0d0887"
             ],
             [
              0.1111111111111111,
              "#46039f"
             ],
             [
              0.2222222222222222,
              "#7201a8"
             ],
             [
              0.3333333333333333,
              "#9c179e"
             ],
             [
              0.4444444444444444,
              "#bd3786"
             ],
             [
              0.5555555555555556,
              "#d8576b"
             ],
             [
              0.6666666666666666,
              "#ed7953"
             ],
             [
              0.7777777777777778,
              "#fb9f3a"
             ],
             [
              0.8888888888888888,
              "#fdca26"
             ],
             [
              1,
              "#f0f921"
             ]
            ],
            "type": "contour"
           }
          ],
          "contourcarpet": [
           {
            "colorbar": {
             "outlinewidth": 0,
             "ticks": ""
            },
            "type": "contourcarpet"
           }
          ],
          "heatmap": [
           {
            "colorbar": {
             "outlinewidth": 0,
             "ticks": ""
            },
            "colorscale": [
             [
              0,
              "#0d0887"
             ],
             [
              0.1111111111111111,
              "#46039f"
             ],
             [
              0.2222222222222222,
              "#7201a8"
             ],
             [
              0.3333333333333333,
              "#9c179e"
             ],
             [
              0.4444444444444444,
              "#bd3786"
             ],
             [
              0.5555555555555556,
              "#d8576b"
             ],
             [
              0.6666666666666666,
              "#ed7953"
             ],
             [
              0.7777777777777778,
              "#fb9f3a"
             ],
             [
              0.8888888888888888,
              "#fdca26"
             ],
             [
              1,
              "#f0f921"
             ]
            ],
            "type": "heatmap"
           }
          ],
          "heatmapgl": [
           {
            "colorbar": {
             "outlinewidth": 0,
             "ticks": ""
            },
            "colorscale": [
             [
              0,
              "#0d0887"
             ],
             [
              0.1111111111111111,
              "#46039f"
             ],
             [
              0.2222222222222222,
              "#7201a8"
             ],
             [
              0.3333333333333333,
              "#9c179e"
             ],
             [
              0.4444444444444444,
              "#bd3786"
             ],
             [
              0.5555555555555556,
              "#d8576b"
             ],
             [
              0.6666666666666666,
              "#ed7953"
             ],
             [
              0.7777777777777778,
              "#fb9f3a"
             ],
             [
              0.8888888888888888,
              "#fdca26"
             ],
             [
              1,
              "#f0f921"
             ]
            ],
            "type": "heatmapgl"
           }
          ],
          "histogram": [
           {
            "marker": {
             "pattern": {
              "fillmode": "overlay",
              "size": 10,
              "solidity": 0.2
             }
            },
            "type": "histogram"
           }
          ],
          "histogram2d": [
           {
            "colorbar": {
             "outlinewidth": 0,
             "ticks": ""
            },
            "colorscale": [
             [
              0,
              "#0d0887"
             ],
             [
              0.1111111111111111,
              "#46039f"
             ],
             [
              0.2222222222222222,
              "#7201a8"
             ],
             [
              0.3333333333333333,
              "#9c179e"
             ],
             [
              0.4444444444444444,
              "#bd3786"
             ],
             [
              0.5555555555555556,
              "#d8576b"
             ],
             [
              0.6666666666666666,
              "#ed7953"
             ],
             [
              0.7777777777777778,
              "#fb9f3a"
             ],
             [
              0.8888888888888888,
              "#fdca26"
             ],
             [
              1,
              "#f0f921"
             ]
            ],
            "type": "histogram2d"
           }
          ],
          "histogram2dcontour": [
           {
            "colorbar": {
             "outlinewidth": 0,
             "ticks": ""
            },
            "colorscale": [
             [
              0,
              "#0d0887"
             ],
             [
              0.1111111111111111,
              "#46039f"
             ],
             [
              0.2222222222222222,
              "#7201a8"
             ],
             [
              0.3333333333333333,
              "#9c179e"
             ],
             [
              0.4444444444444444,
              "#bd3786"
             ],
             [
              0.5555555555555556,
              "#d8576b"
             ],
             [
              0.6666666666666666,
              "#ed7953"
             ],
             [
              0.7777777777777778,
              "#fb9f3a"
             ],
             [
              0.8888888888888888,
              "#fdca26"
             ],
             [
              1,
              "#f0f921"
             ]
            ],
            "type": "histogram2dcontour"
           }
          ],
          "mesh3d": [
           {
            "colorbar": {
             "outlinewidth": 0,
             "ticks": ""
            },
            "type": "mesh3d"
           }
          ],
          "parcoords": [
           {
            "line": {
             "colorbar": {
              "outlinewidth": 0,
              "ticks": ""
             }
            },
            "type": "parcoords"
           }
          ],
          "pie": [
           {
            "automargin": true,
            "type": "pie"
           }
          ],
          "scatter": [
           {
            "fillpattern": {
             "fillmode": "overlay",
             "size": 10,
             "solidity": 0.2
            },
            "type": "scatter"
           }
          ],
          "scatter3d": [
           {
            "line": {
             "colorbar": {
              "outlinewidth": 0,
              "ticks": ""
             }
            },
            "marker": {
             "colorbar": {
              "outlinewidth": 0,
              "ticks": ""
             }
            },
            "type": "scatter3d"
           }
          ],
          "scattercarpet": [
           {
            "marker": {
             "colorbar": {
              "outlinewidth": 0,
              "ticks": ""
             }
            },
            "type": "scattercarpet"
           }
          ],
          "scattergeo": [
           {
            "marker": {
             "colorbar": {
              "outlinewidth": 0,
              "ticks": ""
             }
            },
            "type": "scattergeo"
           }
          ],
          "scattergl": [
           {
            "marker": {
             "colorbar": {
              "outlinewidth": 0,
              "ticks": ""
             }
            },
            "type": "scattergl"
           }
          ],
          "scattermapbox": [
           {
            "marker": {
             "colorbar": {
              "outlinewidth": 0,
              "ticks": ""
             }
            },
            "type": "scattermapbox"
           }
          ],
          "scatterpolar": [
           {
            "marker": {
             "colorbar": {
              "outlinewidth": 0,
              "ticks": ""
             }
            },
            "type": "scatterpolar"
           }
          ],
          "scatterpolargl": [
           {
            "marker": {
             "colorbar": {
              "outlinewidth": 0,
              "ticks": ""
             }
            },
            "type": "scatterpolargl"
           }
          ],
          "scatterternary": [
           {
            "marker": {
             "colorbar": {
              "outlinewidth": 0,
              "ticks": ""
             }
            },
            "type": "scatterternary"
           }
          ],
          "surface": [
           {
            "colorbar": {
             "outlinewidth": 0,
             "ticks": ""
            },
            "colorscale": [
             [
              0,
              "#0d0887"
             ],
             [
              0.1111111111111111,
              "#46039f"
             ],
             [
              0.2222222222222222,
              "#7201a8"
             ],
             [
              0.3333333333333333,
              "#9c179e"
             ],
             [
              0.4444444444444444,
              "#bd3786"
             ],
             [
              0.5555555555555556,
              "#d8576b"
             ],
             [
              0.6666666666666666,
              "#ed7953"
             ],
             [
              0.7777777777777778,
              "#fb9f3a"
             ],
             [
              0.8888888888888888,
              "#fdca26"
             ],
             [
              1,
              "#f0f921"
             ]
            ],
            "type": "surface"
           }
          ],
          "table": [
           {
            "cells": {
             "fill": {
              "color": "#EBF0F8"
             },
             "line": {
              "color": "white"
             }
            },
            "header": {
             "fill": {
              "color": "#C8D4E3"
             },
             "line": {
              "color": "white"
             }
            },
            "type": "table"
           }
          ]
         },
         "layout": {
          "annotationdefaults": {
           "arrowcolor": "#2a3f5f",
           "arrowhead": 0,
           "arrowwidth": 1
          },
          "autotypenumbers": "strict",
          "coloraxis": {
           "colorbar": {
            "outlinewidth": 0,
            "ticks": ""
           }
          },
          "colorscale": {
           "diverging": [
            [
             0,
             "#8e0152"
            ],
            [
             0.1,
             "#c51b7d"
            ],
            [
             0.2,
             "#de77ae"
            ],
            [
             0.3,
             "#f1b6da"
            ],
            [
             0.4,
             "#fde0ef"
            ],
            [
             0.5,
             "#f7f7f7"
            ],
            [
             0.6,
             "#e6f5d0"
            ],
            [
             0.7,
             "#b8e186"
            ],
            [
             0.8,
             "#7fbc41"
            ],
            [
             0.9,
             "#4d9221"
            ],
            [
             1,
             "#276419"
            ]
           ],
           "sequential": [
            [
             0,
             "#0d0887"
            ],
            [
             0.1111111111111111,
             "#46039f"
            ],
            [
             0.2222222222222222,
             "#7201a8"
            ],
            [
             0.3333333333333333,
             "#9c179e"
            ],
            [
             0.4444444444444444,
             "#bd3786"
            ],
            [
             0.5555555555555556,
             "#d8576b"
            ],
            [
             0.6666666666666666,
             "#ed7953"
            ],
            [
             0.7777777777777778,
             "#fb9f3a"
            ],
            [
             0.8888888888888888,
             "#fdca26"
            ],
            [
             1,
             "#f0f921"
            ]
           ],
           "sequentialminus": [
            [
             0,
             "#0d0887"
            ],
            [
             0.1111111111111111,
             "#46039f"
            ],
            [
             0.2222222222222222,
             "#7201a8"
            ],
            [
             0.3333333333333333,
             "#9c179e"
            ],
            [
             0.4444444444444444,
             "#bd3786"
            ],
            [
             0.5555555555555556,
             "#d8576b"
            ],
            [
             0.6666666666666666,
             "#ed7953"
            ],
            [
             0.7777777777777778,
             "#fb9f3a"
            ],
            [
             0.8888888888888888,
             "#fdca26"
            ],
            [
             1,
             "#f0f921"
            ]
           ]
          },
          "colorway": [
           "#636efa",
           "#EF553B",
           "#00cc96",
           "#ab63fa",
           "#FFA15A",
           "#19d3f3",
           "#FF6692",
           "#B6E880",
           "#FF97FF",
           "#FECB52"
          ],
          "font": {
           "color": "#2a3f5f"
          },
          "geo": {
           "bgcolor": "white",
           "lakecolor": "white",
           "landcolor": "#E5ECF6",
           "showlakes": true,
           "showland": true,
           "subunitcolor": "white"
          },
          "hoverlabel": {
           "align": "left"
          },
          "hovermode": "closest",
          "mapbox": {
           "style": "light"
          },
          "paper_bgcolor": "white",
          "plot_bgcolor": "#E5ECF6",
          "polar": {
           "angularaxis": {
            "gridcolor": "white",
            "linecolor": "white",
            "ticks": ""
           },
           "bgcolor": "#E5ECF6",
           "radialaxis": {
            "gridcolor": "white",
            "linecolor": "white",
            "ticks": ""
           }
          },
          "scene": {
           "xaxis": {
            "backgroundcolor": "#E5ECF6",
            "gridcolor": "white",
            "gridwidth": 2,
            "linecolor": "white",
            "showbackground": true,
            "ticks": "",
            "zerolinecolor": "white"
           },
           "yaxis": {
            "backgroundcolor": "#E5ECF6",
            "gridcolor": "white",
            "gridwidth": 2,
            "linecolor": "white",
            "showbackground": true,
            "ticks": "",
            "zerolinecolor": "white"
           },
           "zaxis": {
            "backgroundcolor": "#E5ECF6",
            "gridcolor": "white",
            "gridwidth": 2,
            "linecolor": "white",
            "showbackground": true,
            "ticks": "",
            "zerolinecolor": "white"
           }
          },
          "shapedefaults": {
           "line": {
            "color": "#2a3f5f"
           }
          },
          "ternary": {
           "aaxis": {
            "gridcolor": "white",
            "linecolor": "white",
            "ticks": ""
           },
           "baxis": {
            "gridcolor": "white",
            "linecolor": "white",
            "ticks": ""
           },
           "bgcolor": "#E5ECF6",
           "caxis": {
            "gridcolor": "white",
            "linecolor": "white",
            "ticks": ""
           }
          },
          "title": {
           "x": 0.05
          },
          "xaxis": {
           "automargin": true,
           "gridcolor": "white",
           "linecolor": "white",
           "ticks": "",
           "title": {
            "standoff": 15
           },
           "zerolinecolor": "white",
           "zerolinewidth": 2
          },
          "yaxis": {
           "automargin": true,
           "gridcolor": "white",
           "linecolor": "white",
           "ticks": "",
           "title": {
            "standoff": 15
           },
           "zerolinecolor": "white",
           "zerolinewidth": 2
          }
         }
        },
        "title": {
         "text": "Label: Abomasnow"
        },
        "width": 500,
        "xaxis": {
         "anchor": "y",
         "domain": [
          0,
          1
         ],
         "showgrid": false,
         "showticklabels": false,
         "visible": false,
         "zeroline": false
        },
        "yaxis": {
         "anchor": "x",
         "domain": [
          0,
          1
         ],
         "showgrid": false,
         "showticklabels": false,
         "visible": false,
         "zeroline": false
        }
       }
      }
     },
     "metadata": {},
     "output_type": "display_data"
    },
    {
     "name": "stdout",
     "output_type": "stream",
     "text": [
      "(128, 128, 3)\n"
     ]
    },
    {
     "data": {
      "application/vnd.plotly.v1+json": {
       "config": {
        "plotlyServerURL": "https://plot.ly"
       },
       "data": [
        {
         "hovertemplate": "x: %{x}<br>y: %{y}<br>color: [%{z[0]}, %{z[1]}, %{z[2]}]<extra></extra>",
         "name": "0",
         "source": "data:image/png;base64,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",
         "type": "image",
         "xaxis": "x",
         "yaxis": "y"
        }
       ],
       "layout": {
        "height": 350,
        "margin": {
         "l": 0,
         "t": 60
        },
        "shapes": [
         {
          "line": {
           "color": "black",
           "width": 2
          },
          "type": "rect",
          "x0": 0,
          "x1": 128,
          "xref": "x",
          "y0": 0,
          "y1": 128,
          "yref": "y"
         }
        ],
        "template": {
         "data": {
          "bar": [
           {
            "error_x": {
             "color": "#2a3f5f"
            },
            "error_y": {
             "color": "#2a3f5f"
            },
            "marker": {
             "line": {
              "color": "#E5ECF6",
              "width": 0.5
             },
             "pattern": {
              "fillmode": "overlay",
              "size": 10,
              "solidity": 0.2
             }
            },
            "type": "bar"
           }
          ],
          "barpolar": [
           {
            "marker": {
             "line": {
              "color": "#E5ECF6",
              "width": 0.5
             },
             "pattern": {
              "fillmode": "overlay",
              "size": 10,
              "solidity": 0.2
             }
            },
            "type": "barpolar"
           }
          ],
          "carpet": [
           {
            "aaxis": {
             "endlinecolor": "#2a3f5f",
             "gridcolor": "white",
             "linecolor": "white",
             "minorgridcolor": "white",
             "startlinecolor": "#2a3f5f"
            },
            "baxis": {
             "endlinecolor": "#2a3f5f",
             "gridcolor": "white",
             "linecolor": "white",
             "minorgridcolor": "white",
             "startlinecolor": "#2a3f5f"
            },
            "type": "carpet"
           }
          ],
          "choropleth": [
           {
            "colorbar": {
             "outlinewidth": 0,
             "ticks": ""
            },
            "type": "choropleth"
           }
          ],
          "contour": [
           {
            "colorbar": {
             "outlinewidth": 0,
             "ticks": ""
            },
            "colorscale": [
             [
              0,
              "#0d0887"
             ],
             [
              0.1111111111111111,
              "#46039f"
             ],
             [
              0.2222222222222222,
              "#7201a8"
             ],
             [
              0.3333333333333333,
              "#9c179e"
             ],
             [
              0.4444444444444444,
              "#bd3786"
             ],
             [
              0.5555555555555556,
              "#d8576b"
             ],
             [
              0.6666666666666666,
              "#ed7953"
             ],
             [
              0.7777777777777778,
              "#fb9f3a"
             ],
             [
              0.8888888888888888,
              "#fdca26"
             ],
             [
              1,
              "#f0f921"
             ]
            ],
            "type": "contour"
           }
          ],
          "contourcarpet": [
           {
            "colorbar": {
             "outlinewidth": 0,
             "ticks": ""
            },
            "type": "contourcarpet"
           }
          ],
          "heatmap": [
           {
            "colorbar": {
             "outlinewidth": 0,
             "ticks": ""
            },
            "colorscale": [
             [
              0,
              "#0d0887"
             ],
             [
              0.1111111111111111,
              "#46039f"
             ],
             [
              0.2222222222222222,
              "#7201a8"
             ],
             [
              0.3333333333333333,
              "#9c179e"
             ],
             [
              0.4444444444444444,
              "#bd3786"
             ],
             [
              0.5555555555555556,
              "#d8576b"
             ],
             [
              0.6666666666666666,
              "#ed7953"
             ],
             [
              0.7777777777777778,
              "#fb9f3a"
             ],
             [
              0.8888888888888888,
              "#fdca26"
             ],
             [
              1,
              "#f0f921"
             ]
            ],
            "type": "heatmap"
           }
          ],
          "heatmapgl": [
           {
            "colorbar": {
             "outlinewidth": 0,
             "ticks": ""
            },
            "colorscale": [
             [
              0,
              "#0d0887"
             ],
             [
              0.1111111111111111,
              "#46039f"
             ],
             [
              0.2222222222222222,
              "#7201a8"
             ],
             [
              0.3333333333333333,
              "#9c179e"
             ],
             [
              0.4444444444444444,
              "#bd3786"
             ],
             [
              0.5555555555555556,
              "#d8576b"
             ],
             [
              0.6666666666666666,
              "#ed7953"
             ],
             [
              0.7777777777777778,
              "#fb9f3a"
             ],
             [
              0.8888888888888888,
              "#fdca26"
             ],
             [
              1,
              "#f0f921"
             ]
            ],
            "type": "heatmapgl"
           }
          ],
          "histogram": [
           {
            "marker": {
             "pattern": {
              "fillmode": "overlay",
              "size": 10,
              "solidity": 0.2
             }
            },
            "type": "histogram"
           }
          ],
          "histogram2d": [
           {
            "colorbar": {
             "outlinewidth": 0,
             "ticks": ""
            },
            "colorscale": [
             [
              0,
              "#0d0887"
             ],
             [
              0.1111111111111111,
              "#46039f"
             ],
             [
              0.2222222222222222,
              "#7201a8"
             ],
             [
              0.3333333333333333,
              "#9c179e"
             ],
             [
              0.4444444444444444,
              "#bd3786"
             ],
             [
              0.5555555555555556,
              "#d8576b"
             ],
             [
              0.6666666666666666,
              "#ed7953"
             ],
             [
              0.7777777777777778,
              "#fb9f3a"
             ],
             [
              0.8888888888888888,
              "#fdca26"
             ],
             [
              1,
              "#f0f921"
             ]
            ],
            "type": "histogram2d"
           }
          ],
          "histogram2dcontour": [
           {
            "colorbar": {
             "outlinewidth": 0,
             "ticks": ""
            },
            "colorscale": [
             [
              0,
              "#0d0887"
             ],
             [
              0.1111111111111111,
              "#46039f"
             ],
             [
              0.2222222222222222,
              "#7201a8"
             ],
             [
              0.3333333333333333,
              "#9c179e"
             ],
             [
              0.4444444444444444,
              "#bd3786"
             ],
             [
              0.5555555555555556,
              "#d8576b"
             ],
             [
              0.6666666666666666,
              "#ed7953"
             ],
             [
              0.7777777777777778,
              "#fb9f3a"
             ],
             [
              0.8888888888888888,
              "#fdca26"
             ],
             [
              1,
              "#f0f921"
             ]
            ],
            "type": "histogram2dcontour"
           }
          ],
          "mesh3d": [
           {
            "colorbar": {
             "outlinewidth": 0,
             "ticks": ""
            },
            "type": "mesh3d"
           }
          ],
          "parcoords": [
           {
            "line": {
             "colorbar": {
              "outlinewidth": 0,
              "ticks": ""
             }
            },
            "type": "parcoords"
           }
          ],
          "pie": [
           {
            "automargin": true,
            "type": "pie"
           }
          ],
          "scatter": [
           {
            "fillpattern": {
             "fillmode": "overlay",
             "size": 10,
             "solidity": 0.2
            },
            "type": "scatter"
           }
          ],
          "scatter3d": [
           {
            "line": {
             "colorbar": {
              "outlinewidth": 0,
              "ticks": ""
             }
            },
            "marker": {
             "colorbar": {
              "outlinewidth": 0,
              "ticks": ""
             }
            },
            "type": "scatter3d"
           }
          ],
          "scattercarpet": [
           {
            "marker": {
             "colorbar": {
              "outlinewidth": 0,
              "ticks": ""
             }
            },
            "type": "scattercarpet"
           }
          ],
          "scattergeo": [
           {
            "marker": {
             "colorbar": {
              "outlinewidth": 0,
              "ticks": ""
             }
            },
            "type": "scattergeo"
           }
          ],
          "scattergl": [
           {
            "marker": {
             "colorbar": {
              "outlinewidth": 0,
              "ticks": ""
             }
            },
            "type": "scattergl"
           }
          ],
          "scattermapbox": [
           {
            "marker": {
             "colorbar": {
              "outlinewidth": 0,
              "ticks": ""
             }
            },
            "type": "scattermapbox"
           }
          ],
          "scatterpolar": [
           {
            "marker": {
             "colorbar": {
              "outlinewidth": 0,
              "ticks": ""
             }
            },
            "type": "scatterpolar"
           }
          ],
          "scatterpolargl": [
           {
            "marker": {
             "colorbar": {
              "outlinewidth": 0,
              "ticks": ""
             }
            },
            "type": "scatterpolargl"
           }
          ],
          "scatterternary": [
           {
            "marker": {
             "colorbar": {
              "outlinewidth": 0,
              "ticks": ""
             }
            },
            "type": "scatterternary"
           }
          ],
          "surface": [
           {
            "colorbar": {
             "outlinewidth": 0,
             "ticks": ""
            },
            "colorscale": [
             [
              0,
              "#0d0887"
             ],
             [
              0.1111111111111111,
              "#46039f"
             ],
             [
              0.2222222222222222,
              "#7201a8"
             ],
             [
              0.3333333333333333,
              "#9c179e"
             ],
             [
              0.4444444444444444,
              "#bd3786"
             ],
             [
              0.5555555555555556,
              "#d8576b"
             ],
             [
              0.6666666666666666,
              "#ed7953"
             ],
             [
              0.7777777777777778,
              "#fb9f3a"
             ],
             [
              0.8888888888888888,
              "#fdca26"
             ],
             [
              1,
              "#f0f921"
             ]
            ],
            "type": "surface"
           }
          ],
          "table": [
           {
            "cells": {
             "fill": {
              "color": "#EBF0F8"
             },
             "line": {
              "color": "white"
             }
            },
            "header": {
             "fill": {
              "color": "#C8D4E3"
             },
             "line": {
              "color": "white"
             }
            },
            "type": "table"
           }
          ]
         },
         "layout": {
          "annotationdefaults": {
           "arrowcolor": "#2a3f5f",
           "arrowhead": 0,
           "arrowwidth": 1
          },
          "autotypenumbers": "strict",
          "coloraxis": {
           "colorbar": {
            "outlinewidth": 0,
            "ticks": ""
           }
          },
          "colorscale": {
           "diverging": [
            [
             0,
             "#8e0152"
            ],
            [
             0.1,
             "#c51b7d"
            ],
            [
             0.2,
             "#de77ae"
            ],
            [
             0.3,
             "#f1b6da"
            ],
            [
             0.4,
             "#fde0ef"
            ],
            [
             0.5,
             "#f7f7f7"
            ],
            [
             0.6,
             "#e6f5d0"
            ],
            [
             0.7,
             "#b8e186"
            ],
            [
             0.8,
             "#7fbc41"
            ],
            [
             0.9,
             "#4d9221"
            ],
            [
             1,
             "#276419"
            ]
           ],
           "sequential": [
            [
             0,
             "#0d0887"
            ],
            [
             0.1111111111111111,
             "#46039f"
            ],
            [
             0.2222222222222222,
             "#7201a8"
            ],
            [
             0.3333333333333333,
             "#9c179e"
            ],
            [
             0.4444444444444444,
             "#bd3786"
            ],
            [
             0.5555555555555556,
             "#d8576b"
            ],
            [
             0.6666666666666666,
             "#ed7953"
            ],
            [
             0.7777777777777778,
             "#fb9f3a"
            ],
            [
             0.8888888888888888,
             "#fdca26"
            ],
            [
             1,
             "#f0f921"
            ]
           ],
           "sequentialminus": [
            [
             0,
             "#0d0887"
            ],
            [
             0.1111111111111111,
             "#46039f"
            ],
            [
             0.2222222222222222,
             "#7201a8"
            ],
            [
             0.3333333333333333,
             "#9c179e"
            ],
            [
             0.4444444444444444,
             "#bd3786"
            ],
            [
             0.5555555555555556,
             "#d8576b"
            ],
            [
             0.6666666666666666,
             "#ed7953"
            ],
            [
             0.7777777777777778,
             "#fb9f3a"
            ],
            [
             0.8888888888888888,
             "#fdca26"
            ],
            [
             1,
             "#f0f921"
            ]
           ]
          },
          "colorway": [
           "#636efa",
           "#EF553B",
           "#00cc96",
           "#ab63fa",
           "#FFA15A",
           "#19d3f3",
           "#FF6692",
           "#B6E880",
           "#FF97FF",
           "#FECB52"
          ],
          "font": {
           "color": "#2a3f5f"
          },
          "geo": {
           "bgcolor": "white",
           "lakecolor": "white",
           "landcolor": "#E5ECF6",
           "showlakes": true,
           "showland": true,
           "subunitcolor": "white"
          },
          "hoverlabel": {
           "align": "left"
          },
          "hovermode": "closest",
          "mapbox": {
           "style": "light"
          },
          "paper_bgcolor": "white",
          "plot_bgcolor": "#E5ECF6",
          "polar": {
           "angularaxis": {
            "gridcolor": "white",
            "linecolor": "white",
            "ticks": ""
           },
           "bgcolor": "#E5ECF6",
           "radialaxis": {
            "gridcolor": "white",
            "linecolor": "white",
            "ticks": ""
           }
          },
          "scene": {
           "xaxis": {
            "backgroundcolor": "#E5ECF6",
            "gridcolor": "white",
            "gridwidth": 2,
            "linecolor": "white",
            "showbackground": true,
            "ticks": "",
            "zerolinecolor": "white"
           },
           "yaxis": {
            "backgroundcolor": "#E5ECF6",
            "gridcolor": "white",
            "gridwidth": 2,
            "linecolor": "white",
            "showbackground": true,
            "ticks": "",
            "zerolinecolor": "white"
           },
           "zaxis": {
            "backgroundcolor": "#E5ECF6",
            "gridcolor": "white",
            "gridwidth": 2,
            "linecolor": "white",
            "showbackground": true,
            "ticks": "",
            "zerolinecolor": "white"
           }
          },
          "shapedefaults": {
           "line": {
            "color": "#2a3f5f"
           }
          },
          "ternary": {
           "aaxis": {
            "gridcolor": "white",
            "linecolor": "white",
            "ticks": ""
           },
           "baxis": {
            "gridcolor": "white",
            "linecolor": "white",
            "ticks": ""
           },
           "bgcolor": "#E5ECF6",
           "caxis": {
            "gridcolor": "white",
            "linecolor": "white",
            "ticks": ""
           }
          },
          "title": {
           "x": 0.05
          },
          "xaxis": {
           "automargin": true,
           "gridcolor": "white",
           "linecolor": "white",
           "ticks": "",
           "title": {
            "standoff": 15
           },
           "zerolinecolor": "white",
           "zerolinewidth": 2
          },
          "yaxis": {
           "automargin": true,
           "gridcolor": "white",
           "linecolor": "white",
           "ticks": "",
           "title": {
            "standoff": 15
           },
           "zerolinecolor": "white",
           "zerolinewidth": 2
          }
         }
        },
        "title": {
         "text": "Label: Abomasnow"
        },
        "width": 500,
        "xaxis": {
         "anchor": "y",
         "domain": [
          0,
          1
         ],
         "showgrid": false,
         "showticklabels": false,
         "visible": false,
         "zeroline": false
        },
        "yaxis": {
         "anchor": "x",
         "domain": [
          0,
          1
         ],
         "showgrid": false,
         "showticklabels": false,
         "visible": false,
         "zeroline": false
        }
       }
      }
     },
     "metadata": {},
     "output_type": "display_data"
    },
    {
     "name": "stdout",
     "output_type": "stream",
     "text": [
      "(128, 128, 3)\n"
     ]
    },
    {
     "data": {
      "application/vnd.plotly.v1+json": {
       "config": {
        "plotlyServerURL": "https://plot.ly"
       },
       "data": [
        {
         "hovertemplate": "x: %{x}<br>y: %{y}<br>color: [%{z[0]}, %{z[1]}, %{z[2]}]<extra></extra>",
         "name": "0",
         "source": "data:image/png;base64,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",
         "type": "image",
         "xaxis": "x",
         "yaxis": "y"
        }
       ],
       "layout": {
        "height": 350,
        "margin": {
         "l": 0,
         "t": 60
        },
        "shapes": [
         {
          "line": {
           "color": "black",
           "width": 2
          },
          "type": "rect",
          "x0": 0,
          "x1": 128,
          "xref": "x",
          "y0": 0,
          "y1": 128,
          "yref": "y"
         }
        ],
        "template": {
         "data": {
          "bar": [
           {
            "error_x": {
             "color": "#2a3f5f"
            },
            "error_y": {
             "color": "#2a3f5f"
            },
            "marker": {
             "line": {
              "color": "#E5ECF6",
              "width": 0.5
             },
             "pattern": {
              "fillmode": "overlay",
              "size": 10,
              "solidity": 0.2
             }
            },
            "type": "bar"
           }
          ],
          "barpolar": [
           {
            "marker": {
             "line": {
              "color": "#E5ECF6",
              "width": 0.5
             },
             "pattern": {
              "fillmode": "overlay",
              "size": 10,
              "solidity": 0.2
             }
            },
            "type": "barpolar"
           }
          ],
          "carpet": [
           {
            "aaxis": {
             "endlinecolor": "#2a3f5f",
             "gridcolor": "white",
             "linecolor": "white",
             "minorgridcolor": "white",
             "startlinecolor": "#2a3f5f"
            },
            "baxis": {
             "endlinecolor": "#2a3f5f",
             "gridcolor": "white",
             "linecolor": "white",
             "minorgridcolor": "white",
             "startlinecolor": "#2a3f5f"
            },
            "type": "carpet"
           }
          ],
          "choropleth": [
           {
            "colorbar": {
             "outlinewidth": 0,
             "ticks": ""
            },
            "type": "choropleth"
           }
          ],
          "contour": [
           {
            "colorbar": {
             "outlinewidth": 0,
             "ticks": ""
            },
            "colorscale": [
             [
              0,
              "#0d0887"
             ],
             [
              0.1111111111111111,
              "#46039f"
             ],
             [
              0.2222222222222222,
              "#7201a8"
             ],
             [
              0.3333333333333333,
              "#9c179e"
             ],
             [
              0.4444444444444444,
              "#bd3786"
             ],
             [
              0.5555555555555556,
              "#d8576b"
             ],
             [
              0.6666666666666666,
              "#ed7953"
             ],
             [
              0.7777777777777778,
              "#fb9f3a"
             ],
             [
              0.8888888888888888,
              "#fdca26"
             ],
             [
              1,
              "#f0f921"
             ]
            ],
            "type": "contour"
           }
          ],
          "contourcarpet": [
           {
            "colorbar": {
             "outlinewidth": 0,
             "ticks": ""
            },
            "type": "contourcarpet"
           }
          ],
          "heatmap": [
           {
            "colorbar": {
             "outlinewidth": 0,
             "ticks": ""
            },
            "colorscale": [
             [
              0,
              "#0d0887"
             ],
             [
              0.1111111111111111,
              "#46039f"
             ],
             [
              0.2222222222222222,
              "#7201a8"
             ],
             [
              0.3333333333333333,
              "#9c179e"
             ],
             [
              0.4444444444444444,
              "#bd3786"
             ],
             [
              0.5555555555555556,
              "#d8576b"
             ],
             [
              0.6666666666666666,
              "#ed7953"
             ],
             [
              0.7777777777777778,
              "#fb9f3a"
             ],
             [
              0.8888888888888888,
              "#fdca26"
             ],
             [
              1,
              "#f0f921"
             ]
            ],
            "type": "heatmap"
           }
          ],
          "heatmapgl": [
           {
            "colorbar": {
             "outlinewidth": 0,
             "ticks": ""
            },
            "colorscale": [
             [
              0,
              "#0d0887"
             ],
             [
              0.1111111111111111,
              "#46039f"
             ],
             [
              0.2222222222222222,
              "#7201a8"
             ],
             [
              0.3333333333333333,
              "#9c179e"
             ],
             [
              0.4444444444444444,
              "#bd3786"
             ],
             [
              0.5555555555555556,
              "#d8576b"
             ],
             [
              0.6666666666666666,
              "#ed7953"
             ],
             [
              0.7777777777777778,
              "#fb9f3a"
             ],
             [
              0.8888888888888888,
              "#fdca26"
             ],
             [
              1,
              "#f0f921"
             ]
            ],
            "type": "heatmapgl"
           }
          ],
          "histogram": [
           {
            "marker": {
             "pattern": {
              "fillmode": "overlay",
              "size": 10,
              "solidity": 0.2
             }
            },
            "type": "histogram"
           }
          ],
          "histogram2d": [
           {
            "colorbar": {
             "outlinewidth": 0,
             "ticks": ""
            },
            "colorscale": [
             [
              0,
              "#0d0887"
             ],
             [
              0.1111111111111111,
              "#46039f"
             ],
             [
              0.2222222222222222,
              "#7201a8"
             ],
             [
              0.3333333333333333,
              "#9c179e"
             ],
             [
              0.4444444444444444,
              "#bd3786"
             ],
             [
              0.5555555555555556,
              "#d8576b"
             ],
             [
              0.6666666666666666,
              "#ed7953"
             ],
             [
              0.7777777777777778,
              "#fb9f3a"
             ],
             [
              0.8888888888888888,
              "#fdca26"
             ],
             [
              1,
              "#f0f921"
             ]
            ],
            "type": "histogram2d"
           }
          ],
          "histogram2dcontour": [
           {
            "colorbar": {
             "outlinewidth": 0,
             "ticks": ""
            },
            "colorscale": [
             [
              0,
              "#0d0887"
             ],
             [
              0.1111111111111111,
              "#46039f"
             ],
             [
              0.2222222222222222,
              "#7201a8"
             ],
             [
              0.3333333333333333,
              "#9c179e"
             ],
             [
              0.4444444444444444,
              "#bd3786"
             ],
             [
              0.5555555555555556,
              "#d8576b"
             ],
             [
              0.6666666666666666,
              "#ed7953"
             ],
             [
              0.7777777777777778,
              "#fb9f3a"
             ],
             [
              0.8888888888888888,
              "#fdca26"
             ],
             [
              1,
              "#f0f921"
             ]
            ],
            "type": "histogram2dcontour"
           }
          ],
          "mesh3d": [
           {
            "colorbar": {
             "outlinewidth": 0,
             "ticks": ""
            },
            "type": "mesh3d"
           }
          ],
          "parcoords": [
           {
            "line": {
             "colorbar": {
              "outlinewidth": 0,
              "ticks": ""
             }
            },
            "type": "parcoords"
           }
          ],
          "pie": [
           {
            "automargin": true,
            "type": "pie"
           }
          ],
          "scatter": [
           {
            "fillpattern": {
             "fillmode": "overlay",
             "size": 10,
             "solidity": 0.2
            },
            "type": "scatter"
           }
          ],
          "scatter3d": [
           {
            "line": {
             "colorbar": {
              "outlinewidth": 0,
              "ticks": ""
             }
            },
            "marker": {
             "colorbar": {
              "outlinewidth": 0,
              "ticks": ""
             }
            },
            "type": "scatter3d"
           }
          ],
          "scattercarpet": [
           {
            "marker": {
             "colorbar": {
              "outlinewidth": 0,
              "ticks": ""
             }
            },
            "type": "scattercarpet"
           }
          ],
          "scattergeo": [
           {
            "marker": {
             "colorbar": {
              "outlinewidth": 0,
              "ticks": ""
             }
            },
            "type": "scattergeo"
           }
          ],
          "scattergl": [
           {
            "marker": {
             "colorbar": {
              "outlinewidth": 0,
              "ticks": ""
             }
            },
            "type": "scattergl"
           }
          ],
          "scattermapbox": [
           {
            "marker": {
             "colorbar": {
              "outlinewidth": 0,
              "ticks": ""
             }
            },
            "type": "scattermapbox"
           }
          ],
          "scatterpolar": [
           {
            "marker": {
             "colorbar": {
              "outlinewidth": 0,
              "ticks": ""
             }
            },
            "type": "scatterpolar"
           }
          ],
          "scatterpolargl": [
           {
            "marker": {
             "colorbar": {
              "outlinewidth": 0,
              "ticks": ""
             }
            },
            "type": "scatterpolargl"
           }
          ],
          "scatterternary": [
           {
            "marker": {
             "colorbar": {
              "outlinewidth": 0,
              "ticks": ""
             }
            },
            "type": "scatterternary"
           }
          ],
          "surface": [
           {
            "colorbar": {
             "outlinewidth": 0,
             "ticks": ""
            },
            "colorscale": [
             [
              0,
              "#0d0887"
             ],
             [
              0.1111111111111111,
              "#46039f"
             ],
             [
              0.2222222222222222,
              "#7201a8"
             ],
             [
              0.3333333333333333,
              "#9c179e"
             ],
             [
              0.4444444444444444,
              "#bd3786"
             ],
             [
              0.5555555555555556,
              "#d8576b"
             ],
             [
              0.6666666666666666,
              "#ed7953"
             ],
             [
              0.7777777777777778,
              "#fb9f3a"
             ],
             [
              0.8888888888888888,
              "#fdca26"
             ],
             [
              1,
              "#f0f921"
             ]
            ],
            "type": "surface"
           }
          ],
          "table": [
           {
            "cells": {
             "fill": {
              "color": "#EBF0F8"
             },
             "line": {
              "color": "white"
             }
            },
            "header": {
             "fill": {
              "color": "#C8D4E3"
             },
             "line": {
              "color": "white"
             }
            },
            "type": "table"
           }
          ]
         },
         "layout": {
          "annotationdefaults": {
           "arrowcolor": "#2a3f5f",
           "arrowhead": 0,
           "arrowwidth": 1
          },
          "autotypenumbers": "strict",
          "coloraxis": {
           "colorbar": {
            "outlinewidth": 0,
            "ticks": ""
           }
          },
          "colorscale": {
           "diverging": [
            [
             0,
             "#8e0152"
            ],
            [
             0.1,
             "#c51b7d"
            ],
            [
             0.2,
             "#de77ae"
            ],
            [
             0.3,
             "#f1b6da"
            ],
            [
             0.4,
             "#fde0ef"
            ],
            [
             0.5,
             "#f7f7f7"
            ],
            [
             0.6,
             "#e6f5d0"
            ],
            [
             0.7,
             "#b8e186"
            ],
            [
             0.8,
             "#7fbc41"
            ],
            [
             0.9,
             "#4d9221"
            ],
            [
             1,
             "#276419"
            ]
           ],
           "sequential": [
            [
             0,
             "#0d0887"
            ],
            [
             0.1111111111111111,
             "#46039f"
            ],
            [
             0.2222222222222222,
             "#7201a8"
            ],
            [
             0.3333333333333333,
             "#9c179e"
            ],
            [
             0.4444444444444444,
             "#bd3786"
            ],
            [
             0.5555555555555556,
             "#d8576b"
            ],
            [
             0.6666666666666666,
             "#ed7953"
            ],
            [
             0.7777777777777778,
             "#fb9f3a"
            ],
            [
             0.8888888888888888,
             "#fdca26"
            ],
            [
             1,
             "#f0f921"
            ]
           ],
           "sequentialminus": [
            [
             0,
             "#0d0887"
            ],
            [
             0.1111111111111111,
             "#46039f"
            ],
            [
             0.2222222222222222,
             "#7201a8"
            ],
            [
             0.3333333333333333,
             "#9c179e"
            ],
            [
             0.4444444444444444,
             "#bd3786"
            ],
            [
             0.5555555555555556,
             "#d8576b"
            ],
            [
             0.6666666666666666,
             "#ed7953"
            ],
            [
             0.7777777777777778,
             "#fb9f3a"
            ],
            [
             0.8888888888888888,
             "#fdca26"
            ],
            [
             1,
             "#f0f921"
            ]
           ]
          },
          "colorway": [
           "#636efa",
           "#EF553B",
           "#00cc96",
           "#ab63fa",
           "#FFA15A",
           "#19d3f3",
           "#FF6692",
           "#B6E880",
           "#FF97FF",
           "#FECB52"
          ],
          "font": {
           "color": "#2a3f5f"
          },
          "geo": {
           "bgcolor": "white",
           "lakecolor": "white",
           "landcolor": "#E5ECF6",
           "showlakes": true,
           "showland": true,
           "subunitcolor": "white"
          },
          "hoverlabel": {
           "align": "left"
          },
          "hovermode": "closest",
          "mapbox": {
           "style": "light"
          },
          "paper_bgcolor": "white",
          "plot_bgcolor": "#E5ECF6",
          "polar": {
           "angularaxis": {
            "gridcolor": "white",
            "linecolor": "white",
            "ticks": ""
           },
           "bgcolor": "#E5ECF6",
           "radialaxis": {
            "gridcolor": "white",
            "linecolor": "white",
            "ticks": ""
           }
          },
          "scene": {
           "xaxis": {
            "backgroundcolor": "#E5ECF6",
            "gridcolor": "white",
            "gridwidth": 2,
            "linecolor": "white",
            "showbackground": true,
            "ticks": "",
            "zerolinecolor": "white"
           },
           "yaxis": {
            "backgroundcolor": "#E5ECF6",
            "gridcolor": "white",
            "gridwidth": 2,
            "linecolor": "white",
            "showbackground": true,
            "ticks": "",
            "zerolinecolor": "white"
           },
           "zaxis": {
            "backgroundcolor": "#E5ECF6",
            "gridcolor": "white",
            "gridwidth": 2,
            "linecolor": "white",
            "showbackground": true,
            "ticks": "",
            "zerolinecolor": "white"
           }
          },
          "shapedefaults": {
           "line": {
            "color": "#2a3f5f"
           }
          },
          "ternary": {
           "aaxis": {
            "gridcolor": "white",
            "linecolor": "white",
            "ticks": ""
           },
           "baxis": {
            "gridcolor": "white",
            "linecolor": "white",
            "ticks": ""
           },
           "bgcolor": "#E5ECF6",
           "caxis": {
            "gridcolor": "white",
            "linecolor": "white",
            "ticks": ""
           }
          },
          "title": {
           "x": 0.05
          },
          "xaxis": {
           "automargin": true,
           "gridcolor": "white",
           "linecolor": "white",
           "ticks": "",
           "title": {
            "standoff": 15
           },
           "zerolinecolor": "white",
           "zerolinewidth": 2
          },
          "yaxis": {
           "automargin": true,
           "gridcolor": "white",
           "linecolor": "white",
           "ticks": "",
           "title": {
            "standoff": 15
           },
           "zerolinecolor": "white",
           "zerolinewidth": 2
          }
         }
        },
        "title": {
         "text": "Label: Abomasnow"
        },
        "width": 500,
        "xaxis": {
         "anchor": "y",
         "domain": [
          0,
          1
         ],
         "showgrid": false,
         "showticklabels": false,
         "visible": false,
         "zeroline": false
        },
        "yaxis": {
         "anchor": "x",
         "domain": [
          0,
          1
         ],
         "showgrid": false,
         "showticklabels": false,
         "visible": false,
         "zeroline": false
        }
       }
      }
     },
     "metadata": {},
     "output_type": "display_data"
    },
    {
     "name": "stdout",
     "output_type": "stream",
     "text": [
      "(128, 128, 3)\n"
     ]
    },
    {
     "data": {
      "application/vnd.plotly.v1+json": {
       "config": {
        "plotlyServerURL": "https://plot.ly"
       },
       "data": [
        {
         "hovertemplate": "x: %{x}<br>y: %{y}<br>color: [%{z[0]}, %{z[1]}, %{z[2]}]<extra></extra>",
         "name": "0",
         "source": "data:image/png;base64,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",
         "type": "image",
         "xaxis": "x",
         "yaxis": "y"
        }
       ],
       "layout": {
        "height": 350,
        "margin": {
         "l": 0,
         "t": 60
        },
        "shapes": [
         {
          "line": {
           "color": "black",
           "width": 2
          },
          "type": "rect",
          "x0": 0,
          "x1": 128,
          "xref": "x",
          "y0": 0,
          "y1": 128,
          "yref": "y"
         }
        ],
        "template": {
         "data": {
          "bar": [
           {
            "error_x": {
             "color": "#2a3f5f"
            },
            "error_y": {
             "color": "#2a3f5f"
            },
            "marker": {
             "line": {
              "color": "#E5ECF6",
              "width": 0.5
             },
             "pattern": {
              "fillmode": "overlay",
              "size": 10,
              "solidity": 0.2
             }
            },
            "type": "bar"
           }
          ],
          "barpolar": [
           {
            "marker": {
             "line": {
              "color": "#E5ECF6",
              "width": 0.5
             },
             "pattern": {
              "fillmode": "overlay",
              "size": 10,
              "solidity": 0.2
             }
            },
            "type": "barpolar"
           }
          ],
          "carpet": [
           {
            "aaxis": {
             "endlinecolor": "#2a3f5f",
             "gridcolor": "white",
             "linecolor": "white",
             "minorgridcolor": "white",
             "startlinecolor": "#2a3f5f"
            },
            "baxis": {
             "endlinecolor": "#2a3f5f",
             "gridcolor": "white",
             "linecolor": "white",
             "minorgridcolor": "white",
             "startlinecolor": "#2a3f5f"
            },
            "type": "carpet"
           }
          ],
          "choropleth": [
           {
            "colorbar": {
             "outlinewidth": 0,
             "ticks": ""
            },
            "type": "choropleth"
           }
          ],
          "contour": [
           {
            "colorbar": {
             "outlinewidth": 0,
             "ticks": ""
            },
            "colorscale": [
             [
              0,
              "#0d0887"
             ],
             [
              0.1111111111111111,
              "#46039f"
             ],
             [
              0.2222222222222222,
              "#7201a8"
             ],
             [
              0.3333333333333333,
              "#9c179e"
             ],
             [
              0.4444444444444444,
              "#bd3786"
             ],
             [
              0.5555555555555556,
              "#d8576b"
             ],
             [
              0.6666666666666666,
              "#ed7953"
             ],
             [
              0.7777777777777778,
              "#fb9f3a"
             ],
             [
              0.8888888888888888,
              "#fdca26"
             ],
             [
              1,
              "#f0f921"
             ]
            ],
            "type": "contour"
           }
          ],
          "contourcarpet": [
           {
            "colorbar": {
             "outlinewidth": 0,
             "ticks": ""
            },
            "type": "contourcarpet"
           }
          ],
          "heatmap": [
           {
            "colorbar": {
             "outlinewidth": 0,
             "ticks": ""
            },
            "colorscale": [
             [
              0,
              "#0d0887"
             ],
             [
              0.1111111111111111,
              "#46039f"
             ],
             [
              0.2222222222222222,
              "#7201a8"
             ],
             [
              0.3333333333333333,
              "#9c179e"
             ],
             [
              0.4444444444444444,
              "#bd3786"
             ],
             [
              0.5555555555555556,
              "#d8576b"
             ],
             [
              0.6666666666666666,
              "#ed7953"
             ],
             [
              0.7777777777777778,
              "#fb9f3a"
             ],
             [
              0.8888888888888888,
              "#fdca26"
             ],
             [
              1,
              "#f0f921"
             ]
            ],
            "type": "heatmap"
           }
          ],
          "heatmapgl": [
           {
            "colorbar": {
             "outlinewidth": 0,
             "ticks": ""
            },
            "colorscale": [
             [
              0,
              "#0d0887"
             ],
             [
              0.1111111111111111,
              "#46039f"
             ],
             [
              0.2222222222222222,
              "#7201a8"
             ],
             [
              0.3333333333333333,
              "#9c179e"
             ],
             [
              0.4444444444444444,
              "#bd3786"
             ],
             [
              0.5555555555555556,
              "#d8576b"
             ],
             [
              0.6666666666666666,
              "#ed7953"
             ],
             [
              0.7777777777777778,
              "#fb9f3a"
             ],
             [
              0.8888888888888888,
              "#fdca26"
             ],
             [
              1,
              "#f0f921"
             ]
            ],
            "type": "heatmapgl"
           }
          ],
          "histogram": [
           {
            "marker": {
             "pattern": {
              "fillmode": "overlay",
              "size": 10,
              "solidity": 0.2
             }
            },
            "type": "histogram"
           }
          ],
          "histogram2d": [
           {
            "colorbar": {
             "outlinewidth": 0,
             "ticks": ""
            },
            "colorscale": [
             [
              0,
              "#0d0887"
             ],
             [
              0.1111111111111111,
              "#46039f"
             ],
             [
              0.2222222222222222,
              "#7201a8"
             ],
             [
              0.3333333333333333,
              "#9c179e"
             ],
             [
              0.4444444444444444,
              "#bd3786"
             ],
             [
              0.5555555555555556,
              "#d8576b"
             ],
             [
              0.6666666666666666,
              "#ed7953"
             ],
             [
              0.7777777777777778,
              "#fb9f3a"
             ],
             [
              0.8888888888888888,
              "#fdca26"
             ],
             [
              1,
              "#f0f921"
             ]
            ],
            "type": "histogram2d"
           }
          ],
          "histogram2dcontour": [
           {
            "colorbar": {
             "outlinewidth": 0,
             "ticks": ""
            },
            "colorscale": [
             [
              0,
              "#0d0887"
             ],
             [
              0.1111111111111111,
              "#46039f"
             ],
             [
              0.2222222222222222,
              "#7201a8"
             ],
             [
              0.3333333333333333,
              "#9c179e"
             ],
             [
              0.4444444444444444,
              "#bd3786"
             ],
             [
              0.5555555555555556,
              "#d8576b"
             ],
             [
              0.6666666666666666,
              "#ed7953"
             ],
             [
              0.7777777777777778,
              "#fb9f3a"
             ],
             [
              0.8888888888888888,
              "#fdca26"
             ],
             [
              1,
              "#f0f921"
             ]
            ],
            "type": "histogram2dcontour"
           }
          ],
          "mesh3d": [
           {
            "colorbar": {
             "outlinewidth": 0,
             "ticks": ""
            },
            "type": "mesh3d"
           }
          ],
          "parcoords": [
           {
            "line": {
             "colorbar": {
              "outlinewidth": 0,
              "ticks": ""
             }
            },
            "type": "parcoords"
           }
          ],
          "pie": [
           {
            "automargin": true,
            "type": "pie"
           }
          ],
          "scatter": [
           {
            "fillpattern": {
             "fillmode": "overlay",
             "size": 10,
             "solidity": 0.2
            },
            "type": "scatter"
           }
          ],
          "scatter3d": [
           {
            "line": {
             "colorbar": {
              "outlinewidth": 0,
              "ticks": ""
             }
            },
            "marker": {
             "colorbar": {
              "outlinewidth": 0,
              "ticks": ""
             }
            },
            "type": "scatter3d"
           }
          ],
          "scattercarpet": [
           {
            "marker": {
             "colorbar": {
              "outlinewidth": 0,
              "ticks": ""
             }
            },
            "type": "scattercarpet"
           }
          ],
          "scattergeo": [
           {
            "marker": {
             "colorbar": {
              "outlinewidth": 0,
              "ticks": ""
             }
            },
            "type": "scattergeo"
           }
          ],
          "scattergl": [
           {
            "marker": {
             "colorbar": {
              "outlinewidth": 0,
              "ticks": ""
             }
            },
            "type": "scattergl"
           }
          ],
          "scattermapbox": [
           {
            "marker": {
             "colorbar": {
              "outlinewidth": 0,
              "ticks": ""
             }
            },
            "type": "scattermapbox"
           }
          ],
          "scatterpolar": [
           {
            "marker": {
             "colorbar": {
              "outlinewidth": 0,
              "ticks": ""
             }
            },
            "type": "scatterpolar"
           }
          ],
          "scatterpolargl": [
           {
            "marker": {
             "colorbar": {
              "outlinewidth": 0,
              "ticks": ""
             }
            },
            "type": "scatterpolargl"
           }
          ],
          "scatterternary": [
           {
            "marker": {
             "colorbar": {
              "outlinewidth": 0,
              "ticks": ""
             }
            },
            "type": "scatterternary"
           }
          ],
          "surface": [
           {
            "colorbar": {
             "outlinewidth": 0,
             "ticks": ""
            },
            "colorscale": [
             [
              0,
              "#0d0887"
             ],
             [
              0.1111111111111111,
              "#46039f"
             ],
             [
              0.2222222222222222,
              "#7201a8"
             ],
             [
              0.3333333333333333,
              "#9c179e"
             ],
             [
              0.4444444444444444,
              "#bd3786"
             ],
             [
              0.5555555555555556,
              "#d8576b"
             ],
             [
              0.6666666666666666,
              "#ed7953"
             ],
             [
              0.7777777777777778,
              "#fb9f3a"
             ],
             [
              0.8888888888888888,
              "#fdca26"
             ],
             [
              1,
              "#f0f921"
             ]
            ],
            "type": "surface"
           }
          ],
          "table": [
           {
            "cells": {
             "fill": {
              "color": "#EBF0F8"
             },
             "line": {
              "color": "white"
             }
            },
            "header": {
             "fill": {
              "color": "#C8D4E3"
             },
             "line": {
              "color": "white"
             }
            },
            "type": "table"
           }
          ]
         },
         "layout": {
          "annotationdefaults": {
           "arrowcolor": "#2a3f5f",
           "arrowhead": 0,
           "arrowwidth": 1
          },
          "autotypenumbers": "strict",
          "coloraxis": {
           "colorbar": {
            "outlinewidth": 0,
            "ticks": ""
           }
          },
          "colorscale": {
           "diverging": [
            [
             0,
             "#8e0152"
            ],
            [
             0.1,
             "#c51b7d"
            ],
            [
             0.2,
             "#de77ae"
            ],
            [
             0.3,
             "#f1b6da"
            ],
            [
             0.4,
             "#fde0ef"
            ],
            [
             0.5,
             "#f7f7f7"
            ],
            [
             0.6,
             "#e6f5d0"
            ],
            [
             0.7,
             "#b8e186"
            ],
            [
             0.8,
             "#7fbc41"
            ],
            [
             0.9,
             "#4d9221"
            ],
            [
             1,
             "#276419"
            ]
           ],
           "sequential": [
            [
             0,
             "#0d0887"
            ],
            [
             0.1111111111111111,
             "#46039f"
            ],
            [
             0.2222222222222222,
             "#7201a8"
            ],
            [
             0.3333333333333333,
             "#9c179e"
            ],
            [
             0.4444444444444444,
             "#bd3786"
            ],
            [
             0.5555555555555556,
             "#d8576b"
            ],
            [
             0.6666666666666666,
             "#ed7953"
            ],
            [
             0.7777777777777778,
             "#fb9f3a"
            ],
            [
             0.8888888888888888,
             "#fdca26"
            ],
            [
             1,
             "#f0f921"
            ]
           ],
           "sequentialminus": [
            [
             0,
             "#0d0887"
            ],
            [
             0.1111111111111111,
             "#46039f"
            ],
            [
             0.2222222222222222,
             "#7201a8"
            ],
            [
             0.3333333333333333,
             "#9c179e"
            ],
            [
             0.4444444444444444,
             "#bd3786"
            ],
            [
             0.5555555555555556,
             "#d8576b"
            ],
            [
             0.6666666666666666,
             "#ed7953"
            ],
            [
             0.7777777777777778,
             "#fb9f3a"
            ],
            [
             0.8888888888888888,
             "#fdca26"
            ],
            [
             1,
             "#f0f921"
            ]
           ]
          },
          "colorway": [
           "#636efa",
           "#EF553B",
           "#00cc96",
           "#ab63fa",
           "#FFA15A",
           "#19d3f3",
           "#FF6692",
           "#B6E880",
           "#FF97FF",
           "#FECB52"
          ],
          "font": {
           "color": "#2a3f5f"
          },
          "geo": {
           "bgcolor": "white",
           "lakecolor": "white",
           "landcolor": "#E5ECF6",
           "showlakes": true,
           "showland": true,
           "subunitcolor": "white"
          },
          "hoverlabel": {
           "align": "left"
          },
          "hovermode": "closest",
          "mapbox": {
           "style": "light"
          },
          "paper_bgcolor": "white",
          "plot_bgcolor": "#E5ECF6",
          "polar": {
           "angularaxis": {
            "gridcolor": "white",
            "linecolor": "white",
            "ticks": ""
           },
           "bgcolor": "#E5ECF6",
           "radialaxis": {
            "gridcolor": "white",
            "linecolor": "white",
            "ticks": ""
           }
          },
          "scene": {
           "xaxis": {
            "backgroundcolor": "#E5ECF6",
            "gridcolor": "white",
            "gridwidth": 2,
            "linecolor": "white",
            "showbackground": true,
            "ticks": "",
            "zerolinecolor": "white"
           },
           "yaxis": {
            "backgroundcolor": "#E5ECF6",
            "gridcolor": "white",
            "gridwidth": 2,
            "linecolor": "white",
            "showbackground": true,
            "ticks": "",
            "zerolinecolor": "white"
           },
           "zaxis": {
            "backgroundcolor": "#E5ECF6",
            "gridcolor": "white",
            "gridwidth": 2,
            "linecolor": "white",
            "showbackground": true,
            "ticks": "",
            "zerolinecolor": "white"
           }
          },
          "shapedefaults": {
           "line": {
            "color": "#2a3f5f"
           }
          },
          "ternary": {
           "aaxis": {
            "gridcolor": "white",
            "linecolor": "white",
            "ticks": ""
           },
           "baxis": {
            "gridcolor": "white",
            "linecolor": "white",
            "ticks": ""
           },
           "bgcolor": "#E5ECF6",
           "caxis": {
            "gridcolor": "white",
            "linecolor": "white",
            "ticks": ""
           }
          },
          "title": {
           "x": 0.05
          },
          "xaxis": {
           "automargin": true,
           "gridcolor": "white",
           "linecolor": "white",
           "ticks": "",
           "title": {
            "standoff": 15
           },
           "zerolinecolor": "white",
           "zerolinewidth": 2
          },
          "yaxis": {
           "automargin": true,
           "gridcolor": "white",
           "linecolor": "white",
           "ticks": "",
           "title": {
            "standoff": 15
           },
           "zerolinecolor": "white",
           "zerolinewidth": 2
          }
         }
        },
        "title": {
         "text": "Label: Abomasnow"
        },
        "width": 500,
        "xaxis": {
         "anchor": "y",
         "domain": [
          0,
          1
         ],
         "showgrid": false,
         "showticklabels": false,
         "visible": false,
         "zeroline": false
        },
        "yaxis": {
         "anchor": "x",
         "domain": [
          0,
          1
         ],
         "showgrid": false,
         "showticklabels": false,
         "visible": false,
         "zeroline": false
        }
       }
      }
     },
     "metadata": {},
     "output_type": "display_data"
    },
    {
     "name": "stdout",
     "output_type": "stream",
     "text": [
      "(128, 128, 3)\n"
     ]
    },
    {
     "data": {
      "application/vnd.plotly.v1+json": {
       "config": {
        "plotlyServerURL": "https://plot.ly"
       },
       "data": [
        {
         "hovertemplate": "x: %{x}<br>y: %{y}<br>color: [%{z[0]}, %{z[1]}, %{z[2]}]<extra></extra>",
         "name": "0",
         "source": "data:image/png;base64,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",
         "type": "image",
         "xaxis": "x",
         "yaxis": "y"
        }
       ],
       "layout": {
        "height": 350,
        "margin": {
         "l": 0,
         "t": 60
        },
        "shapes": [
         {
          "line": {
           "color": "black",
           "width": 2
          },
          "type": "rect",
          "x0": 0,
          "x1": 128,
          "xref": "x",
          "y0": 0,
          "y1": 128,
          "yref": "y"
         }
        ],
        "template": {
         "data": {
          "bar": [
           {
            "error_x": {
             "color": "#2a3f5f"
            },
            "error_y": {
             "color": "#2a3f5f"
            },
            "marker": {
             "line": {
              "color": "#E5ECF6",
              "width": 0.5
             },
             "pattern": {
              "fillmode": "overlay",
              "size": 10,
              "solidity": 0.2
             }
            },
            "type": "bar"
           }
          ],
          "barpolar": [
           {
            "marker": {
             "line": {
              "color": "#E5ECF6",
              "width": 0.5
             },
             "pattern": {
              "fillmode": "overlay",
              "size": 10,
              "solidity": 0.2
             }
            },
            "type": "barpolar"
           }
          ],
          "carpet": [
           {
            "aaxis": {
             "endlinecolor": "#2a3f5f",
             "gridcolor": "white",
             "linecolor": "white",
             "minorgridcolor": "white",
             "startlinecolor": "#2a3f5f"
            },
            "baxis": {
             "endlinecolor": "#2a3f5f",
             "gridcolor": "white",
             "linecolor": "white",
             "minorgridcolor": "white",
             "startlinecolor": "#2a3f5f"
            },
            "type": "carpet"
           }
          ],
          "choropleth": [
           {
            "colorbar": {
             "outlinewidth": 0,
             "ticks": ""
            },
            "type": "choropleth"
           }
          ],
          "contour": [
           {
            "colorbar": {
             "outlinewidth": 0,
             "ticks": ""
            },
            "colorscale": [
             [
              0,
              "#0d0887"
             ],
             [
              0.1111111111111111,
              "#46039f"
             ],
             [
              0.2222222222222222,
              "#7201a8"
             ],
             [
              0.3333333333333333,
              "#9c179e"
             ],
             [
              0.4444444444444444,
              "#bd3786"
             ],
             [
              0.5555555555555556,
              "#d8576b"
             ],
             [
              0.6666666666666666,
              "#ed7953"
             ],
             [
              0.7777777777777778,
              "#fb9f3a"
             ],
             [
              0.8888888888888888,
              "#fdca26"
             ],
             [
              1,
              "#f0f921"
             ]
            ],
            "type": "contour"
           }
          ],
          "contourcarpet": [
           {
            "colorbar": {
             "outlinewidth": 0,
             "ticks": ""
            },
            "type": "contourcarpet"
           }
          ],
          "heatmap": [
           {
            "colorbar": {
             "outlinewidth": 0,
             "ticks": ""
            },
            "colorscale": [
             [
              0,
              "#0d0887"
             ],
             [
              0.1111111111111111,
              "#46039f"
             ],
             [
              0.2222222222222222,
              "#7201a8"
             ],
             [
              0.3333333333333333,
              "#9c179e"
             ],
             [
              0.4444444444444444,
              "#bd3786"
             ],
             [
              0.5555555555555556,
              "#d8576b"
             ],
             [
              0.6666666666666666,
              "#ed7953"
             ],
             [
              0.7777777777777778,
              "#fb9f3a"
             ],
             [
              0.8888888888888888,
              "#fdca26"
             ],
             [
              1,
              "#f0f921"
             ]
            ],
            "type": "heatmap"
           }
          ],
          "heatmapgl": [
           {
            "colorbar": {
             "outlinewidth": 0,
             "ticks": ""
            },
            "colorscale": [
             [
              0,
              "#0d0887"
             ],
             [
              0.1111111111111111,
              "#46039f"
             ],
             [
              0.2222222222222222,
              "#7201a8"
             ],
             [
              0.3333333333333333,
              "#9c179e"
             ],
             [
              0.4444444444444444,
              "#bd3786"
             ],
             [
              0.5555555555555556,
              "#d8576b"
             ],
             [
              0.6666666666666666,
              "#ed7953"
             ],
             [
              0.7777777777777778,
              "#fb9f3a"
             ],
             [
              0.8888888888888888,
              "#fdca26"
             ],
             [
              1,
              "#f0f921"
             ]
            ],
            "type": "heatmapgl"
           }
          ],
          "histogram": [
           {
            "marker": {
             "pattern": {
              "fillmode": "overlay",
              "size": 10,
              "solidity": 0.2
             }
            },
            "type": "histogram"
           }
          ],
          "histogram2d": [
           {
            "colorbar": {
             "outlinewidth": 0,
             "ticks": ""
            },
            "colorscale": [
             [
              0,
              "#0d0887"
             ],
             [
              0.1111111111111111,
              "#46039f"
             ],
             [
              0.2222222222222222,
              "#7201a8"
             ],
             [
              0.3333333333333333,
              "#9c179e"
             ],
             [
              0.4444444444444444,
              "#bd3786"
             ],
             [
              0.5555555555555556,
              "#d8576b"
             ],
             [
              0.6666666666666666,
              "#ed7953"
             ],
             [
              0.7777777777777778,
              "#fb9f3a"
             ],
             [
              0.8888888888888888,
              "#fdca26"
             ],
             [
              1,
              "#f0f921"
             ]
            ],
            "type": "histogram2d"
           }
          ],
          "histogram2dcontour": [
           {
            "colorbar": {
             "outlinewidth": 0,
             "ticks": ""
            },
            "colorscale": [
             [
              0,
              "#0d0887"
             ],
             [
              0.1111111111111111,
              "#46039f"
             ],
             [
              0.2222222222222222,
              "#7201a8"
             ],
             [
              0.3333333333333333,
              "#9c179e"
             ],
             [
              0.4444444444444444,
              "#bd3786"
             ],
             [
              0.5555555555555556,
              "#d8576b"
             ],
             [
              0.6666666666666666,
              "#ed7953"
             ],
             [
              0.7777777777777778,
              "#fb9f3a"
             ],
             [
              0.8888888888888888,
              "#fdca26"
             ],
             [
              1,
              "#f0f921"
             ]
            ],
            "type": "histogram2dcontour"
           }
          ],
          "mesh3d": [
           {
            "colorbar": {
             "outlinewidth": 0,
             "ticks": ""
            },
            "type": "mesh3d"
           }
          ],
          "parcoords": [
           {
            "line": {
             "colorbar": {
              "outlinewidth": 0,
              "ticks": ""
             }
            },
            "type": "parcoords"
           }
          ],
          "pie": [
           {
            "automargin": true,
            "type": "pie"
           }
          ],
          "scatter": [
           {
            "fillpattern": {
             "fillmode": "overlay",
             "size": 10,
             "solidity": 0.2
            },
            "type": "scatter"
           }
          ],
          "scatter3d": [
           {
            "line": {
             "colorbar": {
              "outlinewidth": 0,
              "ticks": ""
             }
            },
            "marker": {
             "colorbar": {
              "outlinewidth": 0,
              "ticks": ""
             }
            },
            "type": "scatter3d"
           }
          ],
          "scattercarpet": [
           {
            "marker": {
             "colorbar": {
              "outlinewidth": 0,
              "ticks": ""
             }
            },
            "type": "scattercarpet"
           }
          ],
          "scattergeo": [
           {
            "marker": {
             "colorbar": {
              "outlinewidth": 0,
              "ticks": ""
             }
            },
            "type": "scattergeo"
           }
          ],
          "scattergl": [
           {
            "marker": {
             "colorbar": {
              "outlinewidth": 0,
              "ticks": ""
             }
            },
            "type": "scattergl"
           }
          ],
          "scattermapbox": [
           {
            "marker": {
             "colorbar": {
              "outlinewidth": 0,
              "ticks": ""
             }
            },
            "type": "scattermapbox"
           }
          ],
          "scatterpolar": [
           {
            "marker": {
             "colorbar": {
              "outlinewidth": 0,
              "ticks": ""
             }
            },
            "type": "scatterpolar"
           }
          ],
          "scatterpolargl": [
           {
            "marker": {
             "colorbar": {
              "outlinewidth": 0,
              "ticks": ""
             }
            },
            "type": "scatterpolargl"
           }
          ],
          "scatterternary": [
           {
            "marker": {
             "colorbar": {
              "outlinewidth": 0,
              "ticks": ""
             }
            },
            "type": "scatterternary"
           }
          ],
          "surface": [
           {
            "colorbar": {
             "outlinewidth": 0,
             "ticks": ""
            },
            "colorscale": [
             [
              0,
              "#0d0887"
             ],
             [
              0.1111111111111111,
              "#46039f"
             ],
             [
              0.2222222222222222,
              "#7201a8"
             ],
             [
              0.3333333333333333,
              "#9c179e"
             ],
             [
              0.4444444444444444,
              "#bd3786"
             ],
             [
              0.5555555555555556,
              "#d8576b"
             ],
             [
              0.6666666666666666,
              "#ed7953"
             ],
             [
              0.7777777777777778,
              "#fb9f3a"
             ],
             [
              0.8888888888888888,
              "#fdca26"
             ],
             [
              1,
              "#f0f921"
             ]
            ],
            "type": "surface"
           }
          ],
          "table": [
           {
            "cells": {
             "fill": {
              "color": "#EBF0F8"
             },
             "line": {
              "color": "white"
             }
            },
            "header": {
             "fill": {
              "color": "#C8D4E3"
             },
             "line": {
              "color": "white"
             }
            },
            "type": "table"
           }
          ]
         },
         "layout": {
          "annotationdefaults": {
           "arrowcolor": "#2a3f5f",
           "arrowhead": 0,
           "arrowwidth": 1
          },
          "autotypenumbers": "strict",
          "coloraxis": {
           "colorbar": {
            "outlinewidth": 0,
            "ticks": ""
           }
          },
          "colorscale": {
           "diverging": [
            [
             0,
             "#8e0152"
            ],
            [
             0.1,
             "#c51b7d"
            ],
            [
             0.2,
             "#de77ae"
            ],
            [
             0.3,
             "#f1b6da"
            ],
            [
             0.4,
             "#fde0ef"
            ],
            [
             0.5,
             "#f7f7f7"
            ],
            [
             0.6,
             "#e6f5d0"
            ],
            [
             0.7,
             "#b8e186"
            ],
            [
             0.8,
             "#7fbc41"
            ],
            [
             0.9,
             "#4d9221"
            ],
            [
             1,
             "#276419"
            ]
           ],
           "sequential": [
            [
             0,
             "#0d0887"
            ],
            [
             0.1111111111111111,
             "#46039f"
            ],
            [
             0.2222222222222222,
             "#7201a8"
            ],
            [
             0.3333333333333333,
             "#9c179e"
            ],
            [
             0.4444444444444444,
             "#bd3786"
            ],
            [
             0.5555555555555556,
             "#d8576b"
            ],
            [
             0.6666666666666666,
             "#ed7953"
            ],
            [
             0.7777777777777778,
             "#fb9f3a"
            ],
            [
             0.8888888888888888,
             "#fdca26"
            ],
            [
             1,
             "#f0f921"
            ]
           ],
           "sequentialminus": [
            [
             0,
             "#0d0887"
            ],
            [
             0.1111111111111111,
             "#46039f"
            ],
            [
             0.2222222222222222,
             "#7201a8"
            ],
            [
             0.3333333333333333,
             "#9c179e"
            ],
            [
             0.4444444444444444,
             "#bd3786"
            ],
            [
             0.5555555555555556,
             "#d8576b"
            ],
            [
             0.6666666666666666,
             "#ed7953"
            ],
            [
             0.7777777777777778,
             "#fb9f3a"
            ],
            [
             0.8888888888888888,
             "#fdca26"
            ],
            [
             1,
             "#f0f921"
            ]
           ]
          },
          "colorway": [
           "#636efa",
           "#EF553B",
           "#00cc96",
           "#ab63fa",
           "#FFA15A",
           "#19d3f3",
           "#FF6692",
           "#B6E880",
           "#FF97FF",
           "#FECB52"
          ],
          "font": {
           "color": "#2a3f5f"
          },
          "geo": {
           "bgcolor": "white",
           "lakecolor": "white",
           "landcolor": "#E5ECF6",
           "showlakes": true,
           "showland": true,
           "subunitcolor": "white"
          },
          "hoverlabel": {
           "align": "left"
          },
          "hovermode": "closest",
          "mapbox": {
           "style": "light"
          },
          "paper_bgcolor": "white",
          "plot_bgcolor": "#E5ECF6",
          "polar": {
           "angularaxis": {
            "gridcolor": "white",
            "linecolor": "white",
            "ticks": ""
           },
           "bgcolor": "#E5ECF6",
           "radialaxis": {
            "gridcolor": "white",
            "linecolor": "white",
            "ticks": ""
           }
          },
          "scene": {
           "xaxis": {
            "backgroundcolor": "#E5ECF6",
            "gridcolor": "white",
            "gridwidth": 2,
            "linecolor": "white",
            "showbackground": true,
            "ticks": "",
            "zerolinecolor": "white"
           },
           "yaxis": {
            "backgroundcolor": "#E5ECF6",
            "gridcolor": "white",
            "gridwidth": 2,
            "linecolor": "white",
            "showbackground": true,
            "ticks": "",
            "zerolinecolor": "white"
           },
           "zaxis": {
            "backgroundcolor": "#E5ECF6",
            "gridcolor": "white",
            "gridwidth": 2,
            "linecolor": "white",
            "showbackground": true,
            "ticks": "",
            "zerolinecolor": "white"
           }
          },
          "shapedefaults": {
           "line": {
            "color": "#2a3f5f"
           }
          },
          "ternary": {
           "aaxis": {
            "gridcolor": "white",
            "linecolor": "white",
            "ticks": ""
           },
           "baxis": {
            "gridcolor": "white",
            "linecolor": "white",
            "ticks": ""
           },
           "bgcolor": "#E5ECF6",
           "caxis": {
            "gridcolor": "white",
            "linecolor": "white",
            "ticks": ""
           }
          },
          "title": {
           "x": 0.05
          },
          "xaxis": {
           "automargin": true,
           "gridcolor": "white",
           "linecolor": "white",
           "ticks": "",
           "title": {
            "standoff": 15
           },
           "zerolinecolor": "white",
           "zerolinewidth": 2
          },
          "yaxis": {
           "automargin": true,
           "gridcolor": "white",
           "linecolor": "white",
           "ticks": "",
           "title": {
            "standoff": 15
           },
           "zerolinecolor": "white",
           "zerolinewidth": 2
          }
         }
        },
        "title": {
         "text": "Label: Abomasnow"
        },
        "width": 500,
        "xaxis": {
         "anchor": "y",
         "domain": [
          0,
          1
         ],
         "showgrid": false,
         "showticklabels": false,
         "visible": false,
         "zeroline": false
        },
        "yaxis": {
         "anchor": "x",
         "domain": [
          0,
          1
         ],
         "showgrid": false,
         "showticklabels": false,
         "visible": false,
         "zeroline": false
        }
       }
      }
     },
     "metadata": {},
     "output_type": "display_data"
    }
   ],
   "source": [
    "plot_n_images(train_ds, 5, class_names, GAN=True)"
   ]
  },
  {
   "cell_type": "code",
   "execution_count": 7,
   "metadata": {},
   "outputs": [],
   "source": [
    "# define the discriminator model\n",
    "def define_discriminator(in_shape=input_shape):\n",
    "    model = tf.keras.Sequential()\n",
    "    # normal\n",
    "    model.add(tf.keras.layers.Conv2D(64, (3,3), padding='same', input_shape=in_shape))\n",
    "    model.add(tf.keras.layers.LeakyReLU(alpha=0.2))\n",
    "    # downsample to 64x64\n",
    "    model.add(tf.keras.layers.Conv2D(128, (3,3), strides=(2,2), padding='same'))\n",
    "    model.add(tf.keras.layers.LeakyReLU(alpha=0.2))\n",
    "    # downsample to 32x32\n",
    "    model.add(tf.keras.layers.Conv2D(128, (3,3), strides=(2,2), padding='same'))\n",
    "    model.add(tf.keras.layers.LeakyReLU(alpha=0.2))\n",
    "    # downsample to 16x16\n",
    "    model.add(tf.keras.layers.Conv2D(256, (3,3), strides=(2,2), padding='same'))\n",
    "    model.add(tf.keras.layers.LeakyReLU(alpha=0.2))\n",
    "    # downsample to 8x8\n",
    "    model.add(tf.keras.layers.Conv2D(256, (3,3), strides=(2,2), padding='same'))\n",
    "    model.add(tf.keras.layers.LeakyReLU(alpha=0.2))\n",
    "    # classifier\n",
    "    model.add(tf.keras.layers.Flatten())\n",
    "    model.add(tf.keras.layers.Dropout(0.4))\n",
    "    model.add(tf.keras.layers.Dense(1, activation='sigmoid'))\n",
    "    # compile model\n",
    "    opt = tf.keras.optimizers.Adam(learning_rate=0.0002, beta_1=0.5)\n",
    "    model.compile(loss='binary_crossentropy', optimizer=opt, metrics=['accuracy'])\n",
    "    return model\n",
    "    "
   ]
  },
  {
   "cell_type": "code",
   "execution_count": 8,
   "metadata": {},
   "outputs": [],
   "source": [
    "# define the standalone generator model\n",
    "def define_generator(latent_dim):\n",
    "    model = tf.keras.Sequential()\n",
    "    # foundation for 8x8 feature maps\n",
    "    n_nodes = 256 * 8 * 8\n",
    "    model.add(tf.keras.layers.Dense(n_nodes, input_dim=latent_dim))\n",
    "    model.add(tf.keras.layers.LeakyReLU(alpha=0.2))\n",
    "    model.add(tf.keras.layers.Reshape((8, 8, 256)))\n",
    "    # upsample to 16x16\n",
    "    model.add(tf.keras.layers.Conv2DTranspose(256, (4,4), strides=(2,2), padding='same'))\n",
    "    model.add(tf.keras.layers.LeakyReLU(alpha=0.2))\n",
    "    # upsample to 32x32\n",
    "    model.add(tf.keras.layers.Conv2DTranspose(256, (4,4), strides=(2,2), padding='same'))\n",
    "    model.add(tf.keras.layers.LeakyReLU(alpha=0.2))\n",
    "    # upsample to 64x64\n",
    "    model.add(tf.keras.layers.Conv2DTranspose(128, (4,4), strides=(2,2), padding='same'))\n",
    "    model.add(tf.keras.layers.LeakyReLU(alpha=0.2))\n",
    "    # upsample to 128x128\n",
    "    model.add(tf.keras.layers.Conv2DTranspose(128, (4,4), strides=(2,2), padding='same'))\n",
    "    model.add(tf.keras.layers.LeakyReLU(alpha=0.2))\n",
    "    # output layer\n",
    "    model.add(tf.keras.layers.Conv2D(3, (3,3), activation='tanh', padding='same'))\n",
    "    return model"
   ]
  },
  {
   "cell_type": "code",
   "execution_count": 9,
   "metadata": {},
   "outputs": [],
   "source": [
    "# define the combined generator and discriminator model, for updating the generator\n",
    "def define_gan(g_model, d_model):\n",
    "    # make weights in the discriminator not trainable\n",
    "    d_model.trainable = False\n",
    "    # connect them\n",
    "    model = tf.keras.Sequential()\n",
    "    # add generator\n",
    "    model.add(g_model)\n",
    "    # add the discriminator\n",
    "    model.add(d_model)\n",
    "    # compile model\n",
    "    opt = tf.keras.optimizers.Adam(learning_rate=0.0002, beta_1=0.5)\n",
    "    model.compile(loss='binary_crossentropy', optimizer=opt)\n",
    "    return model"
   ]
  },
  {
   "cell_type": "code",
   "execution_count": 10,
   "metadata": {},
   "outputs": [
    {
     "name": "stdout",
     "output_type": "stream",
     "text": [
      "Model: \"sequential_1\"\n",
      "_________________________________________________________________\n",
      " Layer (type)                Output Shape              Param #   \n",
      "=================================================================\n",
      " conv2d (Conv2D)             (None, 128, 128, 64)      1792      \n",
      "                                                                 \n",
      " leaky_re_lu (LeakyReLU)     (None, 128, 128, 64)      0         \n",
      "                                                                 \n",
      " conv2d_1 (Conv2D)           (None, 64, 64, 128)       73856     \n",
      "                                                                 \n",
      " leaky_re_lu_1 (LeakyReLU)   (None, 64, 64, 128)       0         \n",
      "                                                                 \n",
      " conv2d_2 (Conv2D)           (None, 32, 32, 128)       147584    \n",
      "                                                                 \n",
      " leaky_re_lu_2 (LeakyReLU)   (None, 32, 32, 128)       0         \n",
      "                                                                 \n",
      " conv2d_3 (Conv2D)           (None, 16, 16, 256)       295168    \n",
      "                                                                 \n",
      " leaky_re_lu_3 (LeakyReLU)   (None, 16, 16, 256)       0         \n",
      "                                                                 \n",
      " conv2d_4 (Conv2D)           (None, 8, 8, 256)         590080    \n",
      "                                                                 \n",
      " leaky_re_lu_4 (LeakyReLU)   (None, 8, 8, 256)         0         \n",
      "                                                                 \n",
      " flatten (Flatten)           (None, 16384)             0         \n",
      "                                                                 \n",
      " dropout (Dropout)           (None, 16384)             0         \n",
      "                                                                 \n",
      " dense (Dense)               (None, 1)                 16385     \n",
      "                                                                 \n",
      "=================================================================\n",
      "Total params: 1,124,865\n",
      "Trainable params: 1,124,865\n",
      "Non-trainable params: 0\n",
      "_________________________________________________________________\n"
     ]
    }
   ],
   "source": [
    "# build and compile the discriminator\n",
    "discriminator = define_discriminator()\n",
    "discriminator.summary()\n"
   ]
  },
  {
   "cell_type": "code",
   "execution_count": 11,
   "metadata": {},
   "outputs": [
    {
     "name": "stdout",
     "output_type": "stream",
     "text": [
      "Model: \"sequential_2\"\n",
      "_________________________________________________________________\n",
      " Layer (type)                Output Shape              Param #   \n",
      "=================================================================\n",
      " dense_1 (Dense)             (None, 16384)             1654784   \n",
      "                                                                 \n",
      " leaky_re_lu_5 (LeakyReLU)   (None, 16384)             0         \n",
      "                                                                 \n",
      " reshape (Reshape)           (None, 8, 8, 256)         0         \n",
      "                                                                 \n",
      " conv2d_transpose (Conv2DTra  (None, 16, 16, 256)      1048832   \n",
      " nspose)                                                         \n",
      "                                                                 \n",
      " leaky_re_lu_6 (LeakyReLU)   (None, 16, 16, 256)       0         \n",
      "                                                                 \n",
      " conv2d_transpose_1 (Conv2DT  (None, 32, 32, 256)      1048832   \n",
      " ranspose)                                                       \n",
      "                                                                 \n",
      " leaky_re_lu_7 (LeakyReLU)   (None, 32, 32, 256)       0         \n",
      "                                                                 \n",
      " conv2d_transpose_2 (Conv2DT  (None, 64, 64, 128)      524416    \n",
      " ranspose)                                                       \n",
      "                                                                 \n",
      " leaky_re_lu_8 (LeakyReLU)   (None, 64, 64, 128)       0         \n",
      "                                                                 \n",
      " conv2d_transpose_3 (Conv2DT  (None, 128, 128, 128)    262272    \n",
      " ranspose)                                                       \n",
      "                                                                 \n",
      " leaky_re_lu_9 (LeakyReLU)   (None, 128, 128, 128)     0         \n",
      "                                                                 \n",
      " conv2d_5 (Conv2D)           (None, 128, 128, 3)       3459      \n",
      "                                                                 \n",
      "=================================================================\n",
      "Total params: 4,542,595\n",
      "Trainable params: 4,542,595\n",
      "Non-trainable params: 0\n",
      "_________________________________________________________________\n"
     ]
    }
   ],
   "source": [
    "# build the generator\n",
    "generator = define_generator(100)\n",
    "generator.summary()"
   ]
  },
  {
   "cell_type": "code",
   "execution_count": 12,
   "metadata": {},
   "outputs": [
    {
     "name": "stdout",
     "output_type": "stream",
     "text": [
      "Model: \"sequential_3\"\n",
      "_________________________________________________________________\n",
      " Layer (type)                Output Shape              Param #   \n",
      "=================================================================\n",
      " sequential_2 (Sequential)   (None, 128, 128, 3)       4542595   \n",
      "                                                                 \n",
      " sequential_1 (Sequential)   (None, 1)                 1124865   \n",
      "                                                                 \n",
      "=================================================================\n",
      "Total params: 5,667,460\n",
      "Trainable params: 4,542,595\n",
      "Non-trainable params: 1,124,865\n",
      "_________________________________________________________________\n"
     ]
    }
   ],
   "source": [
    "# build the gan\n",
    "gan_model = define_gan(generator, discriminator)\n",
    "gan_model.summary()\n"
   ]
  },
  {
   "cell_type": "code",
   "execution_count": 13,
   "metadata": {},
   "outputs": [],
   "source": [
    "def generate_fake_samples(g_model, latent_dim, n_samples):\n",
    "    # generate points in latent space\n",
    "    x_input = generate_latent_points(latent_dim, n_samples)\n",
    "    # predict outputs\n",
    "    X = g_model.predict(x_input)\n",
    "    # create 'fake' class labels (0)\n",
    "    y = tf.zeros((n_samples, 1))\n",
    "    return X, y\n",
    "\n",
    "def generate_latent_points(latent_dim, n_samples):\n",
    "    # generate points in the latent space\n",
    "    x_input = tf.random.normal(shape=(n_samples, latent_dim))\n",
    "    return x_input\n",
    "\n",
    "def generate_real_samples(dataset, n_samples):\n",
    "    X = []\n",
    "    while len(X) < n_samples:\n",
    "        dataset.shuffle(100, seed=123)\n",
    "        for x, _ in dataset.take(5):\n",
    "            for i in range(len(x)):\n",
    "                X.append(x[i])\n",
    "                if len(X) == n_samples:\n",
    "                    break\n",
    "            if len(X) == n_samples:\n",
    "                break\n",
    "    X = tf.stack(X)\n",
    "    y = tf.ones((n_samples, 1))\n",
    "    return X, y\n",
    "\n",
    "def summarize_performance(epoch, g_model, d_model, dataset, latent_dim, n_samples=100):\n",
    "    # prepare real samples\n",
    "    X_real, y_real = generate_real_samples(dataset, n_samples)\n",
    "    # evaluate discriminator on real examples\n",
    "    _, acc_real = d_model.evaluate(X_real, y_real, verbose=0)\n",
    "    # prepare fake examples\n",
    "    x_fake, y_fake = generate_fake_samples(g_model, latent_dim, n_samples)\n",
    "    # evaluate discriminator on fake examples\n",
    "    _, acc_fake = d_model.evaluate(x_fake, y_fake, verbose=0)\n",
    "    # summarize discriminator performance\n",
    "    print('>Accuracy real: %.0f%%, fake: %.0f%%' % (acc_real*100, acc_fake*100))\n",
    "    # save plot\n",
    "    save_plot(x_fake, epoch)\n",
    "    # save the generator model tile file\n",
    "    filename = 'generator_model_e%03d.h5' % (epoch+1)\n",
    "    g_model.save(filename)\n",
    "\n",
    "def save_plot(examples, epoch, n=10):\n",
    "    # plot images\n",
    "    for i in range(n * n):\n",
    "        # define subplot\n",
    "        plt.subplot(n, n, 1 + i)\n",
    "        # turn off axis\n",
    "        plt.axis('off')\n",
    "        # plot raw pixel data\n",
    "        plt.imshow(examples[i, :, :, 0], cmap='gray_r')\n",
    "    # save plot to file\n",
    "    filename = 'generated_plot_e%03d.png' % (epoch+1)\n",
    "    plt.savefig(filename)\n",
    "    plt.close()"
   ]
  },
  {
   "cell_type": "code",
   "execution_count": 14,
   "metadata": {},
   "outputs": [],
   "source": [
    "def train(g_model, d_model, gan_model, dataset, latent_dim, n_epochs=10, n_batch=64):\n",
    "    bat_per_epo = int(dataset.cardinality())\n",
    "    # manually enumerate epochs\n",
    "    for i in range(n_epochs):\n",
    "        # enumerate batches over the training set\n",
    "        for j, batch in enumerate(dataset):\n",
    "            # get randomly selected 'real' samples\n",
    "            X_real, y_real = batch[0], batch[1]\n",
    "            half_batch = int(X_real.shape[0])\n",
    "            # generate 'fake' examples\n",
    "            X_fake, y_fake = generate_fake_samples(g_model, latent_dim, half_batch)\n",
    "            # create training set for the discriminator\n",
    "            y_real = tf.reshape(y_real, (half_batch, 1))\n",
    "            X, y = tf.concat([X_real, X_fake], axis=0), tf.concat([y_real, y_fake], axis=0)\n",
    "            # update discriminator model weights\n",
    "            d_loss, _ = d_model.train_on_batch(X, y)\n",
    "            # prepare points in latent space as input for the generator\n",
    "            X_gan = generate_latent_points(latent_dim, n_batch)\n",
    "            # create inverted labels for the fake samples\n",
    "            y_gan = tf.ones((n_batch, 1))\n",
    "            # update the generator via the discriminator's error\n",
    "            g_loss = gan_model.train_on_batch(X_gan, y_gan)\n",
    "            # summarize loss on this batch\n",
    "            print('>%d, %d/%d, d=%.3f, g=%.3f' % (i+1, j+1, bat_per_epo, d_loss, g_loss))\n",
    "        # evaluate the model performance, sometimes\n",
    "        if (i) % 10 == 0:\n",
    "            summarize_performance(i, g_model, d_model, dataset, latent_dim)\n",
    "    # save the generator model\n",
    "    g_model.save('generator_model_final.h5')\n"
   ]
  },
  {
   "cell_type": "code",
   "execution_count": 15,
   "metadata": {},
   "outputs": [
    {
     "name": "stdout",
     "output_type": "stream",
     "text": [
      "1/1 [==============================] - 21s 21s/step\n",
      ">1, 1/433, d=0.694, g=0.693\n",
      "1/1 [==============================] - 0s 50ms/step\n",
      ">1, 2/433, d=0.612, g=0.694\n",
      "1/1 [==============================] - 0s 53ms/step\n",
      ">1, 3/433, d=0.523, g=0.693\n",
      "1/1 [==============================] - 0s 38ms/step\n",
      ">1, 4/433, d=0.435, g=0.684\n",
      "1/1 [==============================] - 0s 21ms/step\n",
      ">1, 5/433, d=0.394, g=0.651\n",
      "1/1 [==============================] - 0s 22ms/step\n",
      ">1, 6/433, d=0.426, g=0.580\n",
      "1/1 [==============================] - 0s 50ms/step\n",
      ">1, 7/433, d=0.557, g=0.519\n",
      "1/1 [==============================] - 0s 48ms/step\n",
      ">1, 8/433, d=0.665, g=0.522\n",
      "1/1 [==============================] - 0s 68ms/step\n",
      ">1, 9/433, d=0.647, g=0.603\n",
      "1/1 [==============================] - 0s 51ms/step\n",
      ">1, 10/433, d=0.630, g=0.699\n",
      "1/1 [==============================] - 0s 44ms/step\n",
      ">1, 11/433, d=0.609, g=0.782\n",
      "1/1 [==============================] - 0s 27ms/step\n",
      ">1, 12/433, d=0.605, g=0.910\n",
      "1/1 [==============================] - 0s 22ms/step\n",
      ">1, 13/433, d=0.568, g=1.015\n",
      "1/1 [==============================] - 0s 29ms/step\n",
      ">1, 14/433, d=0.517, g=1.282\n",
      "1/1 [==============================] - 0s 51ms/step\n",
      ">1, 15/433, d=0.437, g=1.210\n",
      "1/1 [==============================] - 0s 27ms/step\n",
      ">1, 16/433, d=0.348, g=2.960\n",
      "1/1 [==============================] - 0s 45ms/step\n",
      ">1, 17/433, d=0.428, g=0.448\n",
      "1/1 [==============================] - 0s 42ms/step\n",
      ">1, 18/433, d=0.580, g=3.239\n",
      "1/1 [==============================] - 0s 25ms/step\n",
      ">1, 19/433, d=0.382, g=2.819\n",
      "1/1 [==============================] - 0s 21ms/step\n",
      ">1, 20/433, d=0.176, g=2.340\n",
      "1/1 [==============================] - 0s 21ms/step\n",
      ">1, 21/433, d=0.222, g=1.719\n",
      "1/1 [==============================] - 0s 26ms/step\n",
      ">1, 22/433, d=0.146, g=2.155\n",
      "1/1 [==============================] - 0s 21ms/step\n",
      ">1, 23/433, d=0.113, g=2.796\n",
      "1/1 [==============================] - 0s 22ms/step\n",
      ">1, 24/433, d=0.123, g=3.112\n",
      "1/1 [==============================] - 0s 21ms/step\n",
      ">1, 25/433, d=0.270, g=1.884\n",
      "1/1 [==============================] - 0s 31ms/step\n",
      ">1, 26/433, d=0.131, g=2.572\n",
      "1/1 [==============================] - 0s 30ms/step\n",
      ">1, 27/433, d=0.092, g=3.350\n",
      "1/1 [==============================] - 0s 23ms/step\n",
      ">1, 28/433, d=0.107, g=2.987\n",
      "1/1 [==============================] - 0s 25ms/step\n",
      ">1, 29/433, d=0.067, g=3.041\n",
      "1/1 [==============================] - 0s 23ms/step\n",
      ">1, 30/433, d=0.054, g=3.460\n",
      "1/1 [==============================] - 0s 22ms/step\n",
      ">1, 31/433, d=0.022, g=4.179\n",
      "1/1 [==============================] - 0s 31ms/step\n",
      ">1, 32/433, d=0.093, g=3.438\n",
      "1/1 [==============================] - 0s 25ms/step\n",
      ">1, 33/433, d=0.069, g=2.173\n",
      "1/1 [==============================] - 0s 26ms/step\n",
      ">1, 34/433, d=0.060, g=5.009\n",
      "1/1 [==============================] - 0s 23ms/step\n",
      ">1, 35/433, d=0.074, g=4.401\n",
      "1/1 [==============================] - 0s 26ms/step\n",
      ">1, 36/433, d=0.090, g=3.553\n",
      "1/1 [==============================] - 0s 20ms/step\n",
      ">1, 37/433, d=0.054, g=2.915\n",
      "1/1 [==============================] - 0s 23ms/step\n",
      ">1, 38/433, d=0.038, g=3.797\n",
      "1/1 [==============================] - 0s 25ms/step\n",
      ">1, 39/433, d=0.017, g=5.095\n",
      "1/1 [==============================] - 0s 26ms/step\n",
      ">1, 40/433, d=0.030, g=4.797\n",
      "1/1 [==============================] - 0s 24ms/step\n",
      ">1, 41/433, d=0.011, g=4.924\n",
      "1/1 [==============================] - 0s 23ms/step\n",
      ">1, 42/433, d=0.011, g=4.316\n",
      "1/1 [==============================] - 0s 21ms/step\n",
      ">1, 43/433, d=0.009, g=5.467\n",
      "1/1 [==============================] - 0s 25ms/step\n",
      ">1, 44/433, d=0.005, g=5.991\n",
      "1/1 [==============================] - 0s 21ms/step\n",
      ">1, 45/433, d=0.085, g=1.715\n",
      "1/1 [==============================] - 0s 26ms/step\n",
      ">1, 46/433, d=0.128, g=9.034\n",
      "1/1 [==============================] - 0s 22ms/step\n",
      ">1, 47/433, d=0.191, g=7.691\n",
      "1/1 [==============================] - 0s 28ms/step\n",
      ">1, 48/433, d=0.080, g=5.187\n",
      "1/1 [==============================] - 0s 23ms/step\n",
      ">1, 49/433, d=0.024, g=3.596\n",
      "1/1 [==============================] - 0s 21ms/step\n",
      ">1, 50/433, d=0.089, g=2.844\n",
      "1/1 [==============================] - 0s 24ms/step\n",
      ">1, 51/433, d=0.051, g=4.498\n",
      "1/1 [==============================] - 0s 22ms/step\n",
      ">1, 52/433, d=0.020, g=6.729\n",
      "1/1 [==============================] - 0s 19ms/step\n",
      ">1, 53/433, d=0.077, g=6.387\n",
      "1/1 [==============================] - 0s 24ms/step\n",
      ">1, 54/433, d=0.007, g=5.769\n",
      "1/1 [==============================] - 0s 22ms/step\n",
      ">1, 55/433, d=0.011, g=5.753\n",
      "1/1 [==============================] - 0s 20ms/step\n",
      ">1, 56/433, d=0.032, g=5.094\n",
      "1/1 [==============================] - 0s 20ms/step\n",
      ">1, 57/433, d=0.035, g=4.728\n",
      "1/1 [==============================] - 0s 22ms/step\n",
      ">1, 58/433, d=0.017, g=4.509\n",
      "1/1 [==============================] - 0s 20ms/step\n",
      ">1, 59/433, d=0.023, g=4.774\n",
      "1/1 [==============================] - 0s 19ms/step\n",
      ">1, 60/433, d=0.023, g=4.456\n",
      "1/1 [==============================] - 0s 23ms/step\n",
      ">1, 61/433, d=0.054, g=3.835\n",
      "1/1 [==============================] - 0s 21ms/step\n",
      ">1, 62/433, d=0.018, g=4.231\n",
      "1/1 [==============================] - 0s 27ms/step\n",
      ">1, 63/433, d=0.023, g=4.042\n",
      "1/1 [==============================] - 0s 23ms/step\n",
      ">1, 64/433, d=0.192, g=4.709\n",
      "1/1 [==============================] - 0s 38ms/step\n",
      ">1, 65/433, d=0.025, g=5.230\n",
      "1/1 [==============================] - 0s 20ms/step\n",
      ">1, 66/433, d=0.012, g=5.033\n",
      "1/1 [==============================] - 0s 22ms/step\n",
      ">1, 67/433, d=0.019, g=5.040\n",
      "1/1 [==============================] - 0s 21ms/step\n",
      ">1, 68/433, d=0.024, g=4.314\n",
      "1/1 [==============================] - 0s 25ms/step\n",
      ">1, 69/433, d=0.014, g=4.534\n",
      "1/1 [==============================] - 0s 20ms/step\n",
      ">1, 70/433, d=0.008, g=5.082\n",
      "1/1 [==============================] - 0s 21ms/step\n",
      ">1, 71/433, d=0.031, g=4.836\n",
      "1/1 [==============================] - 0s 30ms/step\n",
      ">1, 72/433, d=0.005, g=4.876\n",
      "1/1 [==============================] - 0s 24ms/step\n",
      ">1, 73/433, d=0.007, g=4.991\n",
      "1/1 [==============================] - 0s 22ms/step\n",
      ">1, 74/433, d=0.050, g=4.490\n",
      "1/1 [==============================] - 0s 31ms/step\n",
      ">1, 75/433, d=0.031, g=3.910\n",
      "1/1 [==============================] - 0s 21ms/step\n",
      ">1, 76/433, d=0.031, g=3.790\n",
      "1/1 [==============================] - 0s 19ms/step\n",
      ">1, 77/433, d=0.021, g=5.229\n",
      "1/1 [==============================] - 0s 21ms/step\n",
      ">1, 78/433, d=0.007, g=6.212\n",
      "1/1 [==============================] - 0s 22ms/step\n",
      ">1, 79/433, d=0.002, g=6.703\n",
      "1/1 [==============================] - 0s 19ms/step\n",
      ">1, 80/433, d=0.001, g=7.278\n",
      "1/1 [==============================] - 0s 22ms/step\n",
      ">1, 81/433, d=0.002, g=7.355\n",
      "1/1 [==============================] - 0s 24ms/step\n",
      ">1, 82/433, d=0.001, g=7.677\n",
      "1/1 [==============================] - 0s 19ms/step\n",
      ">1, 83/433, d=0.001, g=7.785\n",
      "1/1 [==============================] - 0s 19ms/step\n",
      ">1, 84/433, d=0.001, g=7.805\n",
      "1/1 [==============================] - 0s 22ms/step\n",
      ">1, 85/433, d=0.004, g=7.520\n",
      "1/1 [==============================] - 0s 22ms/step\n",
      ">1, 86/433, d=0.025, g=6.159\n",
      "1/1 [==============================] - 0s 21ms/step\n",
      ">1, 87/433, d=0.080, g=1.937\n",
      "1/1 [==============================] - 0s 23ms/step\n",
      ">1, 88/433, d=0.093, g=8.559\n",
      "1/1 [==============================] - 0s 22ms/step\n",
      ">1, 89/433, d=0.003, g=10.768\n",
      "1/1 [==============================] - 0s 23ms/step\n",
      ">1, 90/433, d=0.163, g=8.105\n",
      "1/1 [==============================] - 0s 22ms/step\n",
      ">1, 91/433, d=0.122, g=4.446\n",
      "1/1 [==============================] - 0s 24ms/step\n",
      ">1, 92/433, d=0.022, g=4.587\n",
      "1/1 [==============================] - 0s 24ms/step\n",
      ">1, 93/433, d=0.015, g=5.410\n",
      "1/1 [==============================] - 0s 19ms/step\n",
      ">1, 94/433, d=0.007, g=6.668\n",
      "1/1 [==============================] - 0s 24ms/step\n",
      ">1, 95/433, d=0.004, g=7.160\n",
      "1/1 [==============================] - 0s 23ms/step\n",
      ">1, 96/433, d=0.050, g=6.227\n",
      "1/1 [==============================] - 0s 31ms/step\n",
      ">1, 97/433, d=0.002, g=5.897\n",
      "1/1 [==============================] - 0s 29ms/step\n",
      ">1, 98/433, d=0.003, g=6.089\n",
      "1/1 [==============================] - 0s 23ms/step\n",
      ">1, 99/433, d=0.062, g=5.203\n",
      "1/1 [==============================] - 0s 20ms/step\n",
      ">1, 100/433, d=0.006, g=4.856\n",
      "1/1 [==============================] - 0s 25ms/step\n",
      ">1, 101/433, d=0.005, g=5.143\n",
      "1/1 [==============================] - 0s 23ms/step\n",
      ">1, 102/433, d=0.019, g=5.376\n",
      "1/1 [==============================] - 0s 23ms/step\n",
      ">1, 103/433, d=0.004, g=5.308\n",
      "1/1 [==============================] - 0s 21ms/step\n",
      ">1, 104/433, d=0.060, g=4.230\n",
      "1/1 [==============================] - 0s 20ms/step\n",
      ">1, 105/433, d=0.030, g=3.553\n",
      "1/1 [==============================] - 0s 22ms/step\n",
      ">1, 106/433, d=0.031, g=5.331\n",
      "1/1 [==============================] - 0s 22ms/step\n",
      ">1, 107/433, d=0.004, g=6.704\n",
      "1/1 [==============================] - 0s 21ms/step\n",
      ">1, 108/433, d=0.043, g=6.342\n",
      "1/1 [==============================] - 0s 21ms/step\n",
      ">1, 109/433, d=0.002, g=6.633\n",
      "1/1 [==============================] - 0s 26ms/step\n",
      ">1, 110/433, d=0.002, g=6.650\n",
      "1/1 [==============================] - 0s 27ms/step\n",
      ">1, 111/433, d=0.001, g=6.773\n",
      "1/1 [==============================] - 0s 29ms/step\n",
      ">1, 112/433, d=0.017, g=6.572\n",
      "1/1 [==============================] - 0s 25ms/step\n",
      ">1, 113/433, d=0.005, g=6.262\n",
      "1/1 [==============================] - 0s 22ms/step\n",
      ">1, 114/433, d=0.003, g=6.546\n",
      "1/1 [==============================] - 0s 23ms/step\n",
      ">1, 115/433, d=0.035, g=5.348\n",
      "1/1 [==============================] - 0s 26ms/step\n",
      ">1, 116/433, d=0.059, g=4.492\n",
      "1/1 [==============================] - 0s 24ms/step\n",
      ">1, 117/433, d=0.018, g=4.341\n",
      "1/1 [==============================] - 0s 22ms/step\n",
      ">1, 118/433, d=0.009, g=5.015\n",
      "1/1 [==============================] - 0s 27ms/step\n",
      ">1, 119/433, d=0.007, g=5.688\n",
      "1/1 [==============================] - 0s 30ms/step\n",
      ">1, 120/433, d=0.005, g=6.207\n",
      "1/1 [==============================] - 0s 26ms/step\n",
      ">1, 121/433, d=0.002, g=6.502\n",
      "1/1 [==============================] - 0s 20ms/step\n",
      ">1, 122/433, d=0.077, g=5.939\n",
      "1/1 [==============================] - 0s 26ms/step\n",
      ">1, 123/433, d=0.003, g=5.377\n",
      "1/1 [==============================] - 0s 24ms/step\n",
      ">1, 124/433, d=0.003, g=5.260\n",
      "1/1 [==============================] - 0s 31ms/step\n",
      ">1, 125/433, d=0.003, g=5.598\n",
      "1/1 [==============================] - 0s 24ms/step\n",
      ">1, 126/433, d=0.003, g=6.206\n",
      "1/1 [==============================] - 0s 22ms/step\n",
      ">1, 127/433, d=0.002, g=6.576\n",
      "1/1 [==============================] - 0s 50ms/step\n",
      ">1, 128/433, d=0.002, g=6.635\n",
      "1/1 [==============================] - 0s 38ms/step\n",
      ">1, 129/433, d=0.086, g=5.484\n",
      "1/1 [==============================] - 0s 37ms/step\n",
      ">1, 130/433, d=0.004, g=5.451\n",
      "1/1 [==============================] - 0s 27ms/step\n",
      ">1, 131/433, d=0.004, g=5.819\n",
      "1/1 [==============================] - 0s 22ms/step\n",
      ">1, 132/433, d=0.003, g=5.693\n",
      "1/1 [==============================] - 0s 21ms/step\n",
      ">1, 133/433, d=0.002, g=6.080\n",
      "1/1 [==============================] - 0s 19ms/step\n",
      ">1, 134/433, d=0.033, g=5.208\n",
      "1/1 [==============================] - 0s 23ms/step\n",
      ">1, 135/433, d=0.004, g=5.301\n",
      "1/1 [==============================] - 0s 27ms/step\n",
      ">1, 136/433, d=0.004, g=5.281\n",
      "1/1 [==============================] - 0s 23ms/step\n",
      ">1, 137/433, d=0.004, g=5.887\n",
      "1/1 [==============================] - 0s 20ms/step\n",
      ">1, 138/433, d=0.002, g=6.239\n",
      "1/1 [==============================] - 0s 24ms/step\n",
      ">1, 139/433, d=0.002, g=6.656\n",
      "1/1 [==============================] - 0s 23ms/step\n",
      ">1, 140/433, d=0.015, g=5.137\n",
      "1/1 [==============================] - 0s 24ms/step\n",
      ">1, 141/433, d=0.005, g=4.923\n",
      "1/1 [==============================] - 0s 21ms/step\n",
      ">1, 142/433, d=0.009, g=4.187\n",
      "1/1 [==============================] - 0s 21ms/step\n",
      ">1, 143/433, d=0.009, g=5.180\n",
      "1/1 [==============================] - 0s 26ms/step\n",
      ">1, 144/433, d=0.003, g=6.329\n",
      "1/1 [==============================] - 0s 22ms/step\n",
      ">1, 145/433, d=0.001, g=6.923\n",
      "1/1 [==============================] - 0s 23ms/step\n",
      ">1, 146/433, d=0.001, g=7.200\n",
      "1/1 [==============================] - 0s 20ms/step\n",
      ">1, 147/433, d=0.001, g=7.161\n",
      "1/1 [==============================] - 0s 21ms/step\n",
      ">1, 148/433, d=0.001, g=7.455\n",
      "1/1 [==============================] - 0s 20ms/step\n",
      ">1, 149/433, d=0.001, g=7.689\n",
      "1/1 [==============================] - 0s 24ms/step\n",
      ">1, 150/433, d=0.000, g=7.906\n",
      "1/1 [==============================] - 0s 20ms/step\n",
      ">1, 151/433, d=0.000, g=7.859\n",
      "1/1 [==============================] - 0s 23ms/step\n",
      ">1, 152/433, d=0.000, g=7.944\n",
      "1/1 [==============================] - 0s 24ms/step\n",
      ">1, 153/433, d=0.000, g=7.731\n",
      "1/1 [==============================] - 0s 23ms/step\n",
      ">1, 154/433, d=0.000, g=7.978\n",
      "1/1 [==============================] - 0s 30ms/step\n",
      ">1, 155/433, d=0.000, g=8.114\n",
      "1/1 [==============================] - 0s 26ms/step\n",
      ">1, 156/433, d=0.001, g=8.160\n",
      "1/1 [==============================] - 0s 22ms/step\n",
      ">1, 157/433, d=0.001, g=8.101\n",
      "1/1 [==============================] - 0s 24ms/step\n",
      ">1, 158/433, d=0.000, g=8.044\n",
      "1/1 [==============================] - 0s 24ms/step\n",
      ">1, 159/433, d=0.000, g=8.292\n",
      "1/1 [==============================] - 0s 23ms/step\n",
      ">1, 160/433, d=0.000, g=8.359\n",
      "1/1 [==============================] - 0s 20ms/step\n",
      ">1, 161/433, d=0.000, g=8.278\n",
      "1/1 [==============================] - 0s 21ms/step\n",
      ">1, 162/433, d=0.000, g=8.250\n",
      "1/1 [==============================] - 0s 22ms/step\n",
      ">1, 163/433, d=0.000, g=8.359\n",
      "1/1 [==============================] - 0s 22ms/step\n",
      ">1, 164/433, d=0.000, g=8.311\n",
      "1/1 [==============================] - 0s 20ms/step\n",
      ">1, 165/433, d=0.004, g=7.819\n",
      "1/1 [==============================] - 0s 25ms/step\n",
      ">1, 166/433, d=0.000, g=7.544\n",
      "1/1 [==============================] - 0s 27ms/step\n",
      ">1, 167/433, d=0.000, g=7.509\n",
      "1/1 [==============================] - 0s 21ms/step\n",
      ">1, 168/433, d=0.000, g=7.654\n",
      "1/1 [==============================] - 0s 22ms/step\n",
      ">1, 169/433, d=0.000, g=7.502\n",
      "1/1 [==============================] - 0s 20ms/step\n",
      ">1, 170/433, d=0.000, g=7.423\n",
      "1/1 [==============================] - 0s 23ms/step\n",
      ">1, 171/433, d=0.000, g=7.921\n",
      "1/1 [==============================] - 0s 21ms/step\n",
      ">1, 172/433, d=0.000, g=7.748\n",
      "1/1 [==============================] - 0s 42ms/step\n",
      ">1, 173/433, d=0.000, g=7.979\n",
      "1/1 [==============================] - 0s 29ms/step\n",
      ">1, 174/433, d=0.000, g=8.036\n",
      "1/1 [==============================] - 0s 36ms/step\n",
      ">1, 175/433, d=0.000, g=8.034\n",
      "1/1 [==============================] - 0s 27ms/step\n",
      ">1, 176/433, d=0.000, g=8.400\n",
      "1/1 [==============================] - 0s 33ms/step\n",
      ">1, 177/433, d=0.000, g=7.968\n",
      "1/1 [==============================] - 0s 22ms/step\n",
      ">1, 178/433, d=0.007, g=7.157\n",
      "1/1 [==============================] - 0s 29ms/step\n",
      ">1, 179/433, d=0.000, g=6.543\n",
      "1/1 [==============================] - 0s 34ms/step\n",
      ">1, 180/433, d=0.001, g=6.487\n",
      "1/1 [==============================] - 0s 37ms/step\n",
      ">1, 181/433, d=0.001, g=6.884\n",
      "1/1 [==============================] - 0s 29ms/step\n",
      ">1, 182/433, d=0.001, g=7.232\n",
      "1/1 [==============================] - 0s 21ms/step\n",
      ">1, 183/433, d=0.001, g=7.308\n",
      "1/1 [==============================] - 0s 18ms/step\n",
      ">1, 184/433, d=0.001, g=7.690\n",
      "1/1 [==============================] - 0s 20ms/step\n",
      ">1, 185/433, d=0.000, g=7.777\n",
      "1/1 [==============================] - 0s 22ms/step\n",
      ">1, 186/433, d=0.000, g=7.842\n",
      "1/1 [==============================] - 0s 21ms/step\n",
      ">1, 187/433, d=0.000, g=8.046\n",
      "1/1 [==============================] - 0s 21ms/step\n",
      ">1, 188/433, d=0.000, g=8.264\n",
      "1/1 [==============================] - 0s 26ms/step\n",
      ">1, 189/433, d=0.000, g=8.440\n",
      "1/1 [==============================] - 0s 31ms/step\n",
      ">1, 190/433, d=0.000, g=8.378\n",
      "1/1 [==============================] - 0s 28ms/step\n",
      ">1, 191/433, d=0.000, g=8.405\n",
      "1/1 [==============================] - 0s 35ms/step\n",
      ">1, 192/433, d=0.000, g=8.556\n",
      "1/1 [==============================] - 0s 40ms/step\n",
      ">1, 193/433, d=0.000, g=8.685\n",
      "1/1 [==============================] - 0s 22ms/step\n",
      ">1, 194/433, d=0.000, g=8.739\n",
      "1/1 [==============================] - 0s 24ms/step\n",
      ">1, 195/433, d=0.000, g=8.586\n",
      "1/1 [==============================] - 0s 22ms/step\n",
      ">1, 196/433, d=0.000, g=8.641\n",
      "1/1 [==============================] - 0s 21ms/step\n",
      ">1, 197/433, d=0.000, g=8.670\n",
      "1/1 [==============================] - 0s 21ms/step\n",
      ">1, 198/433, d=0.000, g=8.696\n",
      "1/1 [==============================] - 0s 20ms/step\n",
      ">1, 199/433, d=0.000, g=8.843\n",
      "1/1 [==============================] - 0s 21ms/step\n",
      ">1, 200/433, d=0.000, g=8.651\n",
      "1/1 [==============================] - 0s 22ms/step\n",
      ">1, 201/433, d=0.000, g=8.791\n",
      "1/1 [==============================] - 0s 21ms/step\n",
      ">1, 202/433, d=0.000, g=8.719\n",
      "1/1 [==============================] - 0s 25ms/step\n",
      ">1, 203/433, d=0.000, g=9.121\n",
      "1/1 [==============================] - 0s 27ms/step\n",
      ">1, 204/433, d=0.000, g=8.888\n",
      "1/1 [==============================] - 0s 22ms/step\n",
      ">1, 205/433, d=0.000, g=9.042\n",
      "1/1 [==============================] - 0s 29ms/step\n",
      ">1, 206/433, d=0.000, g=9.017\n",
      "1/1 [==============================] - 0s 30ms/step\n",
      ">1, 207/433, d=0.000, g=9.049\n",
      "1/1 [==============================] - 0s 22ms/step\n",
      ">1, 208/433, d=0.000, g=9.105\n",
      "1/1 [==============================] - 0s 25ms/step\n",
      ">1, 209/433, d=0.000, g=9.085\n",
      "1/1 [==============================] - 0s 22ms/step\n",
      ">1, 210/433, d=0.000, g=9.257\n",
      "1/1 [==============================] - 0s 32ms/step\n",
      ">1, 211/433, d=0.004, g=7.962\n",
      "1/1 [==============================] - 0s 26ms/step\n",
      ">1, 212/433, d=0.000, g=7.341\n",
      "1/1 [==============================] - 0s 24ms/step\n",
      ">1, 213/433, d=0.000, g=7.198\n",
      "1/1 [==============================] - 0s 21ms/step\n",
      ">1, 214/433, d=0.000, g=7.499\n",
      "1/1 [==============================] - 0s 22ms/step\n",
      ">1, 215/433, d=0.000, g=7.673\n",
      "1/1 [==============================] - 0s 39ms/step\n",
      ">1, 216/433, d=0.000, g=7.893\n",
      "1/1 [==============================] - 0s 28ms/step\n",
      ">1, 217/433, d=0.000, g=7.937\n",
      "1/1 [==============================] - 0s 38ms/step\n",
      ">1, 218/433, d=0.000, g=8.151\n",
      "1/1 [==============================] - 0s 27ms/step\n",
      ">1, 219/433, d=0.000, g=8.270\n",
      "1/1 [==============================] - 0s 54ms/step\n",
      ">1, 220/433, d=0.000, g=8.360\n",
      "1/1 [==============================] - 0s 29ms/step\n",
      ">1, 221/433, d=0.000, g=8.637\n",
      "1/1 [==============================] - 0s 27ms/step\n",
      ">1, 222/433, d=0.000, g=8.422\n",
      "1/1 [==============================] - 0s 24ms/step\n",
      ">1, 223/433, d=0.000, g=8.487\n",
      "1/1 [==============================] - 0s 24ms/step\n",
      ">1, 224/433, d=0.000, g=8.742\n",
      "1/1 [==============================] - 0s 24ms/step\n",
      ">1, 225/433, d=0.000, g=8.678\n",
      "1/1 [==============================] - 0s 25ms/step\n",
      ">1, 226/433, d=0.000, g=8.661\n",
      "1/1 [==============================] - 0s 24ms/step\n",
      ">1, 227/433, d=0.000, g=8.813\n",
      "1/1 [==============================] - 0s 24ms/step\n",
      ">1, 228/433, d=0.000, g=8.915\n",
      "1/1 [==============================] - 0s 52ms/step\n",
      ">1, 229/433, d=0.000, g=8.998\n",
      "1/1 [==============================] - 0s 31ms/step\n",
      ">1, 230/433, d=0.000, g=8.905\n",
      "1/1 [==============================] - 0s 29ms/step\n",
      ">1, 231/433, d=0.000, g=8.917\n",
      "1/1 [==============================] - 0s 26ms/step\n",
      ">1, 232/433, d=0.003, g=7.482\n",
      "1/1 [==============================] - 0s 22ms/step\n",
      ">1, 233/433, d=0.000, g=6.685\n",
      "1/1 [==============================] - 0s 22ms/step\n",
      ">1, 234/433, d=0.001, g=6.675\n",
      "1/1 [==============================] - 0s 20ms/step\n",
      ">1, 235/433, d=0.001, g=7.414\n",
      "1/1 [==============================] - 0s 24ms/step\n",
      ">1, 236/433, d=0.000, g=7.770\n",
      "1/1 [==============================] - 0s 23ms/step\n",
      ">1, 237/433, d=0.000, g=8.114\n",
      "1/1 [==============================] - 0s 21ms/step\n",
      ">1, 238/433, d=0.000, g=8.556\n",
      "1/1 [==============================] - 0s 22ms/step\n",
      ">1, 239/433, d=0.000, g=8.587\n",
      "1/1 [==============================] - 0s 23ms/step\n",
      ">1, 240/433, d=0.001, g=8.703\n",
      "1/1 [==============================] - 0s 25ms/step\n",
      ">1, 241/433, d=0.000, g=8.484\n",
      "1/1 [==============================] - 0s 25ms/step\n",
      ">1, 242/433, d=0.000, g=8.720\n",
      "1/1 [==============================] - 0s 22ms/step\n",
      ">1, 243/433, d=0.000, g=8.761\n",
      "1/1 [==============================] - 0s 24ms/step\n",
      ">1, 244/433, d=0.019, g=0.000\n",
      "1/1 [==============================] - 0s 19ms/step\n",
      ">1, 245/433, d=4.965, g=17.697\n",
      "1/1 [==============================] - 0s 21ms/step\n",
      ">1, 246/433, d=0.001, g=15.370\n",
      "1/1 [==============================] - 0s 22ms/step\n",
      ">1, 247/433, d=0.000, g=12.748\n",
      "1/1 [==============================] - 0s 21ms/step\n",
      ">1, 248/433, d=0.417, g=9.788\n",
      "1/1 [==============================] - 0s 23ms/step\n",
      ">1, 249/433, d=0.019, g=37.123\n",
      "1/1 [==============================] - 0s 24ms/step\n",
      ">1, 250/433, d=0.863, g=0.000\n",
      "1/1 [==============================] - 0s 25ms/step\n",
      ">1, 251/433, d=13.826, g=24.898\n",
      "1/1 [==============================] - 0s 22ms/step\n",
      ">1, 252/433, d=0.620, g=21.924\n",
      "1/1 [==============================] - 0s 21ms/step\n",
      ">1, 253/433, d=1.375, g=11.810\n",
      "1/1 [==============================] - 0s 21ms/step\n",
      ">1, 254/433, d=0.203, g=5.746\n",
      "1/1 [==============================] - 0s 20ms/step\n",
      ">1, 255/433, d=0.093, g=2.529\n",
      "1/1 [==============================] - 0s 19ms/step\n",
      ">1, 256/433, d=0.077, g=2.115\n",
      "1/1 [==============================] - 0s 20ms/step\n",
      ">1, 257/433, d=0.118, g=3.265\n",
      "1/1 [==============================] - 0s 22ms/step\n",
      ">1, 258/433, d=0.162, g=3.188\n",
      "1/1 [==============================] - 0s 20ms/step\n",
      ">1, 259/433, d=0.065, g=3.548\n",
      "1/1 [==============================] - 0s 26ms/step\n",
      ">1, 260/433, d=0.112, g=3.298\n",
      "1/1 [==============================] - 0s 22ms/step\n",
      ">1, 261/433, d=0.019, g=3.759\n",
      "1/1 [==============================] - 0s 21ms/step\n",
      ">1, 262/433, d=0.039, g=4.025\n",
      "1/1 [==============================] - 0s 21ms/step\n",
      ">1, 263/433, d=0.070, g=3.723\n",
      "1/1 [==============================] - 0s 22ms/step\n",
      ">1, 264/433, d=0.081, g=3.183\n",
      "1/1 [==============================] - 0s 21ms/step\n",
      ">1, 265/433, d=0.084, g=2.776\n",
      "1/1 [==============================] - 0s 22ms/step\n",
      ">1, 266/433, d=0.077, g=3.198\n",
      "1/1 [==============================] - 0s 20ms/step\n",
      ">1, 267/433, d=0.078, g=3.279\n",
      "1/1 [==============================] - 0s 24ms/step\n",
      ">1, 268/433, d=0.028, g=3.954\n",
      "1/1 [==============================] - 0s 20ms/step\n",
      ">1, 269/433, d=0.032, g=4.217\n",
      "1/1 [==============================] - 0s 53ms/step\n",
      ">1, 270/433, d=0.037, g=4.244\n",
      "1/1 [==============================] - 0s 27ms/step\n",
      ">1, 271/433, d=0.035, g=4.227\n",
      "1/1 [==============================] - 0s 23ms/step\n",
      ">1, 272/433, d=0.009, g=4.509\n",
      "1/1 [==============================] - 0s 21ms/step\n",
      ">1, 273/433, d=0.022, g=4.643\n",
      "1/1 [==============================] - 0s 25ms/step\n",
      ">1, 274/433, d=0.055, g=4.375\n",
      "1/1 [==============================] - 0s 40ms/step\n",
      ">1, 275/433, d=0.014, g=4.382\n",
      "1/1 [==============================] - 0s 31ms/step\n",
      ">1, 276/433, d=0.025, g=4.261\n",
      "1/1 [==============================] - 0s 29ms/step\n",
      ">1, 277/433, d=0.014, g=4.520\n",
      "1/1 [==============================] - 0s 25ms/step\n",
      ">1, 278/433, d=0.054, g=3.834\n",
      "1/1 [==============================] - 0s 24ms/step\n",
      ">1, 279/433, d=0.016, g=3.849\n",
      "1/1 [==============================] - 0s 22ms/step\n",
      ">1, 280/433, d=0.030, g=4.153\n",
      "1/1 [==============================] - 0s 23ms/step\n",
      ">1, 281/433, d=0.157, g=2.309\n",
      "1/1 [==============================] - 0s 23ms/step\n",
      ">1, 282/433, d=0.074, g=3.675\n",
      "1/1 [==============================] - 0s 21ms/step\n",
      ">1, 283/433, d=0.042, g=4.491\n",
      "1/1 [==============================] - 0s 34ms/step\n",
      ">1, 284/433, d=0.014, g=5.033\n",
      "1/1 [==============================] - 0s 23ms/step\n",
      ">1, 285/433, d=0.125, g=3.866\n",
      "1/1 [==============================] - 0s 24ms/step\n",
      ">1, 286/433, d=0.016, g=3.723\n",
      "1/1 [==============================] - 0s 21ms/step\n",
      ">1, 287/433, d=0.014, g=4.046\n",
      "1/1 [==============================] - 0s 22ms/step\n",
      ">1, 288/433, d=0.048, g=4.159\n",
      "1/1 [==============================] - 0s 29ms/step\n",
      ">1, 289/433, d=0.017, g=4.397\n",
      "1/1 [==============================] - 0s 33ms/step\n",
      ">1, 290/433, d=0.018, g=4.561\n",
      "1/1 [==============================] - 0s 28ms/step\n",
      ">1, 291/433, d=0.023, g=4.482\n",
      "1/1 [==============================] - 0s 31ms/step\n",
      ">1, 292/433, d=0.006, g=4.805\n",
      "1/1 [==============================] - 0s 29ms/step\n",
      ">1, 293/433, d=0.005, g=4.962\n",
      "1/1 [==============================] - 0s 24ms/step\n",
      ">1, 294/433, d=0.083, g=4.370\n",
      "1/1 [==============================] - 0s 24ms/step\n",
      ">1, 295/433, d=0.019, g=3.947\n",
      "1/1 [==============================] - 0s 23ms/step\n",
      ">1, 296/433, d=0.017, g=4.169\n",
      "1/1 [==============================] - 0s 24ms/step\n",
      ">1, 297/433, d=0.072, g=3.790\n",
      "1/1 [==============================] - 0s 25ms/step\n",
      ">1, 298/433, d=0.047, g=3.292\n",
      "1/1 [==============================] - 0s 26ms/step\n",
      ">1, 299/433, d=0.033, g=3.773\n",
      "1/1 [==============================] - 0s 21ms/step\n",
      ">1, 300/433, d=0.060, g=3.508\n",
      "1/1 [==============================] - 0s 23ms/step\n",
      ">1, 301/433, d=0.053, g=3.244\n",
      "1/1 [==============================] - 0s 22ms/step\n",
      ">1, 302/433, d=0.023, g=4.473\n",
      "1/1 [==============================] - 0s 30ms/step\n",
      ">1, 303/433, d=0.051, g=3.874\n",
      "1/1 [==============================] - 0s 22ms/step\n",
      ">1, 304/433, d=0.010, g=4.242\n",
      "1/1 [==============================] - 0s 28ms/step\n",
      ">1, 305/433, d=0.010, g=4.787\n",
      "1/1 [==============================] - 0s 20ms/step\n",
      ">1, 306/433, d=0.005, g=5.247\n",
      "1/1 [==============================] - 0s 24ms/step\n",
      ">1, 307/433, d=0.003, g=5.627\n",
      "1/1 [==============================] - 0s 21ms/step\n",
      ">1, 308/433, d=0.010, g=5.778\n",
      "1/1 [==============================] - 0s 25ms/step\n",
      ">1, 309/433, d=0.002, g=5.737\n",
      "1/1 [==============================] - 0s 21ms/step\n",
      ">1, 310/433, d=0.002, g=5.807\n",
      "1/1 [==============================] - 0s 29ms/step\n",
      ">1, 311/433, d=0.063, g=5.167\n",
      "1/1 [==============================] - 0s 26ms/step\n",
      ">1, 312/433, d=0.024, g=4.149\n",
      "1/1 [==============================] - 0s 27ms/step\n",
      ">1, 313/433, d=0.032, g=2.984\n",
      "1/1 [==============================] - 0s 21ms/step\n",
      ">1, 314/433, d=0.049, g=4.474\n",
      "1/1 [==============================] - 0s 47ms/step\n",
      ">1, 315/433, d=0.066, g=3.612\n",
      "1/1 [==============================] - 0s 23ms/step\n",
      ">1, 316/433, d=0.016, g=4.553\n",
      "1/1 [==============================] - 0s 20ms/step\n",
      ">1, 317/433, d=0.028, g=4.607\n",
      "1/1 [==============================] - 0s 22ms/step\n",
      ">1, 318/433, d=0.038, g=3.737\n",
      "1/1 [==============================] - 0s 23ms/step\n",
      ">1, 319/433, d=0.012, g=4.175\n",
      "1/1 [==============================] - 0s 25ms/step\n",
      ">1, 320/433, d=0.020, g=4.455\n",
      "1/1 [==============================] - 3s 3s/step\n",
      ">1, 321/433, d=0.025, g=4.017\n",
      "1/1 [==============================] - 0s 20ms/step\n",
      ">1, 322/433, d=0.028, g=4.300\n",
      "1/1 [==============================] - 0s 21ms/step\n",
      ">1, 323/433, d=0.008, g=5.088\n",
      "1/1 [==============================] - 0s 19ms/step\n",
      ">1, 324/433, d=0.003, g=5.647\n",
      "1/1 [==============================] - 0s 22ms/step\n",
      ">1, 325/433, d=0.002, g=6.048\n",
      "1/1 [==============================] - 0s 18ms/step\n",
      ">1, 326/433, d=0.003, g=6.246\n",
      "1/1 [==============================] - 0s 23ms/step\n",
      ">1, 327/433, d=0.002, g=6.211\n",
      "1/1 [==============================] - 0s 19ms/step\n",
      ">1, 328/433, d=0.053, g=5.598\n",
      "1/1 [==============================] - 0s 20ms/step\n",
      ">1, 329/433, d=0.019, g=4.408\n",
      "1/1 [==============================] - 0s 20ms/step\n",
      ">1, 330/433, d=0.015, g=3.936\n",
      "1/1 [==============================] - 0s 20ms/step\n",
      ">1, 331/433, d=0.013, g=5.041\n",
      "1/1 [==============================] - 0s 18ms/step\n",
      ">1, 332/433, d=0.054, g=3.417\n",
      "1/1 [==============================] - 0s 26ms/step\n",
      ">1, 333/433, d=0.019, g=5.097\n",
      "1/1 [==============================] - 0s 19ms/step\n",
      ">1, 334/433, d=0.023, g=5.259\n",
      "1/1 [==============================] - 0s 24ms/step\n",
      ">1, 335/433, d=0.003, g=5.461\n",
      "1/1 [==============================] - 0s 20ms/step\n",
      ">1, 336/433, d=0.058, g=4.582\n",
      "1/1 [==============================] - 0s 27ms/step\n",
      ">1, 337/433, d=0.021, g=3.912\n",
      "1/1 [==============================] - 0s 19ms/step\n",
      ">1, 338/433, d=0.012, g=4.359\n",
      "1/1 [==============================] - 0s 18ms/step\n",
      ">1, 339/433, d=0.007, g=5.150\n",
      "1/1 [==============================] - 0s 18ms/step\n",
      ">1, 340/433, d=0.085, g=4.489\n",
      "1/1 [==============================] - 0s 19ms/step\n",
      ">1, 341/433, d=0.024, g=4.048\n",
      "1/1 [==============================] - 0s 21ms/step\n",
      ">1, 342/433, d=0.018, g=4.028\n",
      "1/1 [==============================] - 0s 19ms/step\n",
      ">1, 343/433, d=0.011, g=4.845\n",
      "1/1 [==============================] - 0s 21ms/step\n",
      ">1, 344/433, d=0.005, g=5.436\n",
      "1/1 [==============================] - 0s 21ms/step\n",
      ">1, 345/433, d=0.006, g=5.864\n",
      "1/1 [==============================] - 0s 23ms/step\n",
      ">1, 346/433, d=0.002, g=6.053\n",
      "1/1 [==============================] - 0s 20ms/step\n",
      ">1, 347/433, d=0.005, g=6.039\n",
      "1/1 [==============================] - 0s 21ms/step\n",
      ">1, 348/433, d=0.026, g=5.003\n",
      "1/1 [==============================] - 0s 24ms/step\n",
      ">1, 349/433, d=0.004, g=4.833\n",
      "1/1 [==============================] - 0s 22ms/step\n",
      ">1, 350/433, d=0.086, g=2.710\n",
      "1/1 [==============================] - 0s 21ms/step\n",
      ">1, 351/433, d=0.037, g=7.154\n",
      "1/1 [==============================] - 0s 21ms/step\n",
      ">1, 352/433, d=0.008, g=8.007\n",
      "1/1 [==============================] - 0s 21ms/step\n",
      ">1, 353/433, d=0.022, g=7.982\n",
      "1/1 [==============================] - 0s 22ms/step\n",
      ">1, 354/433, d=0.035, g=7.426\n",
      "1/1 [==============================] - 0s 32ms/step\n",
      ">1, 355/433, d=0.008, g=6.849\n",
      "1/1 [==============================] - 0s 31ms/step\n",
      ">1, 356/433, d=0.012, g=6.100\n",
      "1/1 [==============================] - 0s 23ms/step\n",
      ">1, 357/433, d=0.001, g=5.640\n",
      "1/1 [==============================] - 0s 23ms/step\n",
      ">1, 358/433, d=0.054, g=5.017\n",
      "1/1 [==============================] - 0s 23ms/step\n",
      ">1, 359/433, d=0.070, g=3.400\n",
      "1/1 [==============================] - 0s 25ms/step\n",
      ">1, 360/433, d=0.026, g=3.533\n",
      "1/1 [==============================] - 0s 28ms/step\n",
      ">1, 361/433, d=0.029, g=4.125\n",
      "1/1 [==============================] - 0s 23ms/step\n",
      ">1, 362/433, d=0.023, g=4.469\n",
      "1/1 [==============================] - 0s 28ms/step\n",
      ">1, 363/433, d=0.007, g=4.949\n",
      "1/1 [==============================] - 0s 26ms/step\n",
      ">1, 364/433, d=0.004, g=5.465\n",
      "1/1 [==============================] - 0s 23ms/step\n",
      ">1, 365/433, d=0.003, g=5.572\n",
      "1/1 [==============================] - 0s 24ms/step\n",
      ">1, 366/433, d=0.057, g=4.556\n",
      "1/1 [==============================] - 0s 26ms/step\n",
      ">1, 367/433, d=0.006, g=4.364\n",
      "1/1 [==============================] - 0s 30ms/step\n",
      ">1, 368/433, d=0.017, g=4.165\n",
      "1/1 [==============================] - 0s 33ms/step\n",
      ">1, 369/433, d=0.011, g=4.810\n",
      "1/1 [==============================] - 0s 21ms/step\n",
      ">1, 370/433, d=0.005, g=5.412\n",
      "1/1 [==============================] - 0s 23ms/step\n",
      ">1, 371/433, d=0.003, g=5.923\n",
      "1/1 [==============================] - 0s 18ms/step\n",
      ">1, 372/433, d=0.002, g=6.062\n",
      "1/1 [==============================] - 0s 19ms/step\n",
      ">1, 373/433, d=0.001, g=6.431\n",
      "1/1 [==============================] - 0s 20ms/step\n",
      ">1, 374/433, d=0.001, g=6.321\n",
      "1/1 [==============================] - 0s 20ms/step\n",
      ">1, 375/433, d=0.010, g=6.215\n",
      "1/1 [==============================] - 0s 18ms/step\n",
      ">1, 376/433, d=0.013, g=5.592\n",
      "1/1 [==============================] - 0s 20ms/step\n",
      ">1, 377/433, d=0.003, g=5.419\n",
      "1/1 [==============================] - 0s 23ms/step\n",
      ">1, 378/433, d=0.110, g=1.533\n",
      "1/1 [==============================] - 0s 23ms/step\n",
      ">1, 379/433, d=0.123, g=11.268\n",
      "1/1 [==============================] - 0s 21ms/step\n",
      ">1, 380/433, d=0.000, g=14.808\n",
      "1/1 [==============================] - 0s 22ms/step\n",
      ">1, 381/433, d=0.342, g=13.782\n",
      "1/1 [==============================] - 0s 19ms/step\n",
      ">1, 382/433, d=0.162, g=11.859\n",
      "1/1 [==============================] - 0s 22ms/step\n",
      ">1, 383/433, d=0.024, g=10.068\n",
      "1/1 [==============================] - 0s 21ms/step\n",
      ">1, 384/433, d=0.113, g=8.339\n",
      "1/1 [==============================] - 0s 25ms/step\n",
      ">1, 385/433, d=0.000, g=7.744\n",
      "1/1 [==============================] - 0s 21ms/step\n",
      ">1, 386/433, d=0.050, g=6.961\n",
      "1/1 [==============================] - 0s 23ms/step\n",
      ">1, 387/433, d=0.007, g=6.286\n",
      "1/1 [==============================] - 0s 22ms/step\n",
      ">1, 388/433, d=0.006, g=5.716\n",
      "1/1 [==============================] - 0s 21ms/step\n",
      ">1, 389/433, d=0.002, g=5.689\n",
      "1/1 [==============================] - 0s 20ms/step\n",
      ">1, 390/433, d=0.002, g=5.804\n",
      "1/1 [==============================] - 0s 22ms/step\n",
      ">1, 391/433, d=0.025, g=5.628\n",
      "1/1 [==============================] - 0s 22ms/step\n",
      ">1, 392/433, d=0.003, g=5.649\n",
      "1/1 [==============================] - 0s 28ms/step\n",
      ">1, 393/433, d=0.002, g=5.573\n",
      "1/1 [==============================] - 0s 24ms/step\n",
      ">1, 394/433, d=0.003, g=5.654\n",
      "1/1 [==============================] - 0s 24ms/step\n",
      ">1, 395/433, d=0.002, g=5.966\n",
      "1/1 [==============================] - 0s 19ms/step\n",
      ">1, 396/433, d=0.103, g=5.083\n",
      "1/1 [==============================] - 0s 24ms/step\n",
      ">1, 397/433, d=0.005, g=4.580\n",
      "1/1 [==============================] - 0s 20ms/step\n",
      ">1, 398/433, d=0.015, g=4.588\n",
      "1/1 [==============================] - 0s 19ms/step\n",
      ">1, 399/433, d=0.011, g=4.906\n",
      "1/1 [==============================] - 0s 21ms/step\n",
      ">1, 400/433, d=0.195, g=4.908\n",
      "1/1 [==============================] - 0s 18ms/step\n",
      ">1, 401/433, d=0.053, g=4.591\n",
      "1/1 [==============================] - 0s 61ms/step\n",
      ">1, 402/433, d=0.008, g=4.503\n",
      "1/1 [==============================] - 0s 47ms/step\n",
      ">1, 403/433, d=0.021, g=4.711\n",
      "1/1 [==============================] - 0s 20ms/step\n",
      ">1, 404/433, d=0.018, g=4.528\n",
      "1/1 [==============================] - 0s 21ms/step\n",
      ">1, 405/433, d=0.008, g=5.217\n",
      "1/1 [==============================] - 0s 66ms/step\n",
      ">1, 406/433, d=0.028, g=4.921\n",
      "1/1 [==============================] - 0s 22ms/step\n",
      ">1, 407/433, d=0.006, g=5.292\n",
      "1/1 [==============================] - 0s 24ms/step\n",
      ">1, 408/433, d=0.005, g=5.504\n",
      "1/1 [==============================] - 0s 29ms/step\n",
      ">1, 409/433, d=0.018, g=5.508\n",
      "1/1 [==============================] - 0s 28ms/step\n",
      ">1, 410/433, d=0.007, g=5.248\n",
      "1/1 [==============================] - 0s 23ms/step\n",
      ">1, 411/433, d=0.012, g=5.194\n",
      "1/1 [==============================] - 0s 23ms/step\n",
      ">1, 412/433, d=0.005, g=5.145\n",
      "1/1 [==============================] - 0s 18ms/step\n",
      ">1, 413/433, d=0.004, g=5.572\n",
      "1/1 [==============================] - 0s 19ms/step\n",
      ">1, 414/433, d=0.004, g=5.766\n",
      "1/1 [==============================] - 0s 20ms/step\n",
      ">1, 415/433, d=0.002, g=5.885\n",
      "1/1 [==============================] - 0s 18ms/step\n",
      ">1, 416/433, d=0.060, g=5.379\n",
      "1/1 [==============================] - 0s 21ms/step\n",
      ">1, 417/433, d=0.027, g=5.018\n",
      "1/1 [==============================] - 0s 18ms/step\n",
      ">1, 418/433, d=0.010, g=4.607\n",
      "1/1 [==============================] - 0s 20ms/step\n",
      ">1, 419/433, d=0.009, g=4.537\n",
      "1/1 [==============================] - 0s 20ms/step\n",
      ">1, 420/433, d=0.006, g=5.038\n",
      "1/1 [==============================] - 0s 20ms/step\n",
      ">1, 421/433, d=0.006, g=5.145\n",
      "1/1 [==============================] - 0s 22ms/step\n",
      ">1, 422/433, d=0.005, g=5.290\n",
      "1/1 [==============================] - 0s 22ms/step\n",
      ">1, 423/433, d=0.002, g=5.734\n",
      "1/1 [==============================] - 0s 21ms/step\n",
      ">1, 424/433, d=0.002, g=5.995\n",
      "1/1 [==============================] - 0s 24ms/step\n",
      ">1, 425/433, d=0.003, g=6.271\n",
      "1/1 [==============================] - 0s 20ms/step\n",
      ">1, 426/433, d=0.002, g=6.256\n",
      "1/1 [==============================] - 0s 27ms/step\n",
      ">1, 427/433, d=0.007, g=5.989\n",
      "1/1 [==============================] - 0s 22ms/step\n",
      ">1, 428/433, d=0.007, g=6.108\n",
      "1/1 [==============================] - 0s 20ms/step\n",
      ">1, 429/433, d=0.053, g=5.355\n",
      "1/1 [==============================] - 0s 19ms/step\n",
      ">1, 430/433, d=0.004, g=5.336\n",
      "1/1 [==============================] - 0s 20ms/step\n",
      ">1, 431/433, d=0.002, g=5.302\n",
      "1/1 [==============================] - 0s 21ms/step\n",
      ">1, 432/433, d=0.005, g=5.596\n",
      "1/1 [==============================] - 0s 21ms/step\n",
      ">1, 433/433, d=0.003, g=5.830\n",
      "4/4 [==============================] - 1s 191ms/step\n",
      ">Accuracy real: 99%, fake: 100%\n",
      "WARNING:tensorflow:Compiled the loaded model, but the compiled metrics have yet to be built. `model.compile_metrics` will be empty until you train or evaluate the model.\n",
      "1/1 [==============================] - 0s 18ms/step\n",
      ">2, 1/433, d=0.003, g=5.972\n",
      "1/1 [==============================] - 0s 20ms/step\n",
      ">2, 2/433, d=0.010, g=5.790\n",
      "1/1 [==============================] - 0s 20ms/step\n",
      ">2, 3/433, d=0.017, g=5.622\n",
      "1/1 [==============================] - 0s 22ms/step\n",
      ">2, 4/433, d=0.004, g=5.544\n",
      "1/1 [==============================] - 0s 20ms/step\n",
      ">2, 5/433, d=0.004, g=5.727\n",
      "1/1 [==============================] - 0s 19ms/step\n",
      ">2, 6/433, d=0.056, g=5.313\n",
      "1/1 [==============================] - 0s 22ms/step\n",
      ">2, 7/433, d=0.004, g=4.955\n",
      "1/1 [==============================] - 0s 22ms/step\n",
      ">2, 8/433, d=0.006, g=5.219\n",
      "1/1 [==============================] - 0s 25ms/step\n",
      ">2, 9/433, d=0.005, g=5.524\n",
      "1/1 [==============================] - 0s 17ms/step\n",
      ">2, 10/433, d=0.006, g=5.640\n",
      "1/1 [==============================] - 0s 22ms/step\n",
      ">2, 11/433, d=0.003, g=6.049\n",
      "1/1 [==============================] - 0s 18ms/step\n",
      ">2, 12/433, d=0.041, g=5.782\n",
      "1/1 [==============================] - 0s 23ms/step\n",
      ">2, 13/433, d=0.011, g=5.291\n",
      "1/1 [==============================] - 0s 26ms/step\n",
      ">2, 14/433, d=0.004, g=5.437\n",
      "1/1 [==============================] - 0s 25ms/step\n",
      ">2, 15/433, d=0.008, g=5.513\n",
      "1/1 [==============================] - 0s 22ms/step\n",
      ">2, 16/433, d=0.003, g=5.633\n",
      "1/1 [==============================] - 0s 21ms/step\n",
      ">2, 17/433, d=0.002, g=6.106\n",
      "1/1 [==============================] - 0s 24ms/step\n",
      ">2, 18/433, d=0.002, g=5.922\n",
      "1/1 [==============================] - 0s 20ms/step\n",
      ">2, 19/433, d=0.002, g=6.341\n",
      "1/1 [==============================] - 0s 22ms/step\n",
      ">2, 20/433, d=0.002, g=6.723\n",
      "1/1 [==============================] - 0s 20ms/step\n",
      ">2, 21/433, d=0.001, g=6.633\n",
      "1/1 [==============================] - 0s 27ms/step\n",
      ">2, 22/433, d=0.001, g=6.838\n",
      "1/1 [==============================] - 0s 20ms/step\n",
      ">2, 23/433, d=0.006, g=6.528\n",
      "1/1 [==============================] - 0s 18ms/step\n",
      ">2, 24/433, d=0.001, g=6.595\n",
      "1/1 [==============================] - 0s 22ms/step\n",
      ">2, 25/433, d=0.001, g=6.487\n",
      "1/1 [==============================] - 0s 21ms/step\n",
      ">2, 26/433, d=0.001, g=6.793\n",
      "1/1 [==============================] - 0s 27ms/step\n",
      ">2, 27/433, d=0.001, g=6.837\n",
      "1/1 [==============================] - 0s 20ms/step\n",
      ">2, 28/433, d=0.028, g=6.415\n",
      "1/1 [==============================] - 0s 20ms/step\n",
      ">2, 29/433, d=0.002, g=6.412\n",
      "1/1 [==============================] - 0s 25ms/step\n",
      ">2, 30/433, d=0.002, g=5.980\n",
      "1/1 [==============================] - 0s 25ms/step\n",
      ">2, 31/433, d=0.001, g=6.457\n",
      "1/1 [==============================] - 0s 24ms/step\n",
      ">2, 32/433, d=0.001, g=6.755\n",
      "1/1 [==============================] - 0s 22ms/step\n",
      ">2, 33/433, d=0.001, g=6.575\n",
      "1/1 [==============================] - 0s 23ms/step\n",
      ">2, 34/433, d=0.003, g=6.883\n",
      "1/1 [==============================] - 0s 23ms/step\n",
      ">2, 35/433, d=0.026, g=6.143\n",
      "1/1 [==============================] - 0s 19ms/step\n",
      ">2, 36/433, d=0.005, g=5.902\n",
      "1/1 [==============================] - 0s 22ms/step\n",
      ">2, 37/433, d=0.003, g=5.978\n",
      "1/1 [==============================] - 0s 24ms/step\n",
      ">2, 38/433, d=0.051, g=5.452\n",
      "1/1 [==============================] - 0s 27ms/step\n",
      ">2, 39/433, d=0.004, g=5.545\n",
      "1/1 [==============================] - 0s 20ms/step\n",
      ">2, 40/433, d=0.003, g=5.579\n",
      "1/1 [==============================] - 0s 23ms/step\n",
      ">2, 41/433, d=0.004, g=5.867\n",
      "1/1 [==============================] - 0s 19ms/step\n",
      ">2, 42/433, d=0.003, g=5.963\n",
      "1/1 [==============================] - 0s 22ms/step\n",
      ">2, 43/433, d=0.002, g=6.177\n",
      "1/1 [==============================] - 0s 21ms/step\n",
      ">2, 44/433, d=0.002, g=6.374\n",
      "1/1 [==============================] - 0s 24ms/step\n",
      ">2, 45/433, d=0.001, g=6.414\n",
      "1/1 [==============================] - 0s 20ms/step\n",
      ">2, 46/433, d=0.001, g=6.706\n",
      "1/1 [==============================] - 0s 24ms/step\n",
      ">2, 47/433, d=0.004, g=6.814\n",
      "1/1 [==============================] - 0s 28ms/step\n",
      ">2, 48/433, d=0.001, g=6.715\n",
      "1/1 [==============================] - 0s 42ms/step\n",
      ">2, 49/433, d=0.002, g=6.677\n",
      "1/1 [==============================] - 0s 26ms/step\n",
      ">2, 50/433, d=0.066, g=6.229\n",
      "1/1 [==============================] - 0s 21ms/step\n",
      ">2, 51/433, d=0.002, g=5.778\n",
      "1/1 [==============================] - 0s 25ms/step\n",
      ">2, 52/433, d=0.041, g=5.655\n",
      "1/1 [==============================] - 0s 23ms/step\n",
      ">2, 53/433, d=0.002, g=5.596\n",
      "1/1 [==============================] - 0s 21ms/step\n",
      ">2, 54/433, d=0.006, g=5.413\n",
      "1/1 [==============================] - 0s 25ms/step\n",
      ">2, 55/433, d=0.004, g=5.551\n",
      "1/1 [==============================] - 0s 25ms/step\n",
      ">2, 56/433, d=0.003, g=5.761\n",
      "1/1 [==============================] - 0s 21ms/step\n",
      ">2, 57/433, d=0.009, g=5.747\n",
      "1/1 [==============================] - 0s 36ms/step\n",
      ">2, 58/433, d=0.004, g=5.947\n",
      "1/1 [==============================] - 0s 23ms/step\n",
      ">2, 59/433, d=0.001, g=5.918\n",
      "1/1 [==============================] - 0s 19ms/step\n",
      ">2, 60/433, d=0.004, g=6.059\n",
      "1/1 [==============================] - 0s 24ms/step\n",
      ">2, 61/433, d=0.007, g=6.048\n",
      "1/1 [==============================] - 0s 22ms/step\n",
      ">2, 62/433, d=0.057, g=4.583\n",
      "1/1 [==============================] - 0s 24ms/step\n",
      ">2, 63/433, d=0.005, g=4.515\n",
      "1/1 [==============================] - 0s 24ms/step\n",
      ">2, 64/433, d=0.007, g=4.740\n",
      "1/1 [==============================] - 0s 46ms/step\n",
      ">2, 65/433, d=0.021, g=4.778\n",
      "1/1 [==============================] - 0s 26ms/step\n",
      ">2, 66/433, d=0.006, g=4.996\n",
      "1/1 [==============================] - 0s 25ms/step\n",
      ">2, 67/433, d=0.005, g=5.387\n",
      "1/1 [==============================] - 0s 24ms/step\n",
      ">2, 68/433, d=0.004, g=5.635\n",
      "1/1 [==============================] - 0s 29ms/step\n",
      ">2, 69/433, d=0.002, g=6.056\n",
      "1/1 [==============================] - 0s 23ms/step\n",
      ">2, 70/433, d=0.002, g=6.156\n",
      "1/1 [==============================] - 0s 24ms/step\n",
      ">2, 71/433, d=0.006, g=6.158\n",
      "1/1 [==============================] - 0s 27ms/step\n",
      ">2, 72/433, d=0.002, g=6.091\n",
      "1/1 [==============================] - 0s 25ms/step\n",
      ">2, 73/433, d=0.002, g=6.268\n",
      "1/1 [==============================] - 0s 22ms/step\n",
      ">2, 74/433, d=0.001, g=6.530\n",
      "1/1 [==============================] - 0s 22ms/step\n",
      ">2, 75/433, d=0.054, g=5.586\n",
      "1/1 [==============================] - 0s 24ms/step\n",
      ">2, 76/433, d=0.003, g=5.456\n",
      "1/1 [==============================] - 0s 21ms/step\n",
      ">2, 77/433, d=0.003, g=5.508\n",
      "1/1 [==============================] - 0s 25ms/step\n",
      ">2, 78/433, d=0.002, g=5.552\n",
      "1/1 [==============================] - 0s 24ms/step\n",
      ">2, 79/433, d=2.512, g=19.445\n",
      "1/1 [==============================] - 0s 24ms/step\n",
      ">2, 80/433, d=0.052, g=24.230\n",
      "1/1 [==============================] - 0s 33ms/step\n",
      ">2, 81/433, d=0.068, g=19.943\n",
      "1/1 [==============================] - 0s 48ms/step\n",
      ">2, 82/433, d=0.304, g=8.102\n",
      "1/1 [==============================] - 0s 46ms/step\n",
      ">2, 83/433, d=0.034, g=8.588\n",
      "1/1 [==============================] - 0s 35ms/step\n",
      ">2, 84/433, d=0.733, g=22.214\n",
      "1/1 [==============================] - 0s 74ms/step\n",
      ">2, 85/433, d=3.527, g=42.682\n",
      "1/1 [==============================] - 0s 29ms/step\n",
      ">2, 86/433, d=1.574, g=42.235\n",
      "1/1 [==============================] - 0s 36ms/step\n",
      ">2, 87/433, d=1.152, g=35.336\n",
      "1/1 [==============================] - 0s 24ms/step\n",
      ">2, 88/433, d=9.301, g=10.057\n",
      "1/1 [==============================] - 0s 19ms/step\n",
      ">2, 89/433, d=4.779, g=50.941\n",
      "1/1 [==============================] - 0s 25ms/step\n",
      ">2, 90/433, d=1.275, g=0.984\n",
      "1/1 [==============================] - 0s 22ms/step\n",
      ">2, 91/433, d=0.256, g=1.831\n",
      "1/1 [==============================] - 0s 19ms/step\n",
      ">2, 92/433, d=0.834, g=2.022\n",
      "1/1 [==============================] - 0s 20ms/step\n",
      ">2, 93/433, d=0.799, g=1.976\n",
      "1/1 [==============================] - 0s 30ms/step\n",
      ">2, 94/433, d=1.767, g=0.825\n",
      "1/1 [==============================] - 0s 21ms/step\n",
      ">2, 95/433, d=1.421, g=0.897\n",
      "1/1 [==============================] - 0s 30ms/step\n",
      ">2, 96/433, d=0.513, g=1.650\n",
      "1/1 [==============================] - 0s 21ms/step\n",
      ">2, 97/433, d=0.615, g=1.000\n",
      "1/1 [==============================] - 0s 23ms/step\n",
      ">2, 98/433, d=0.453, g=0.860\n",
      "1/1 [==============================] - 0s 21ms/step\n",
      ">2, 99/433, d=0.409, g=0.981\n",
      "1/1 [==============================] - 0s 26ms/step\n",
      ">2, 100/433, d=0.371, g=1.187\n",
      "1/1 [==============================] - 0s 23ms/step\n",
      ">2, 101/433, d=0.357, g=1.216\n",
      "1/1 [==============================] - 0s 22ms/step\n",
      ">2, 102/433, d=0.378, g=1.077\n",
      "1/1 [==============================] - 0s 20ms/step\n",
      ">2, 103/433, d=0.328, g=1.122\n",
      "1/1 [==============================] - 0s 23ms/step\n",
      ">2, 104/433, d=0.355, g=0.971\n",
      "1/1 [==============================] - 0s 22ms/step\n",
      ">2, 105/433, d=0.415, g=0.973\n",
      "1/1 [==============================] - 0s 21ms/step\n",
      ">2, 106/433, d=0.335, g=1.054\n",
      "1/1 [==============================] - 0s 21ms/step\n",
      ">2, 107/433, d=0.282, g=1.337\n",
      "1/1 [==============================] - 0s 23ms/step\n",
      ">2, 108/433, d=0.318, g=1.284\n",
      "1/1 [==============================] - 0s 21ms/step\n",
      ">2, 109/433, d=0.260, g=1.443\n",
      "1/1 [==============================] - 0s 23ms/step\n",
      ">2, 110/433, d=0.240, g=1.546\n",
      "1/1 [==============================] - 0s 22ms/step\n",
      ">2, 111/433, d=0.532, g=1.200\n",
      "1/1 [==============================] - 0s 27ms/step\n",
      ">2, 112/433, d=0.340, g=2.002\n",
      "1/1 [==============================] - 0s 19ms/step\n",
      ">2, 113/433, d=0.253, g=1.225\n",
      "1/1 [==============================] - 0s 20ms/step\n",
      ">2, 114/433, d=0.277, g=1.940\n",
      "1/1 [==============================] - 0s 21ms/step\n",
      ">2, 115/433, d=0.336, g=1.751\n",
      "1/1 [==============================] - 0s 24ms/step\n",
      ">2, 116/433, d=0.152, g=1.907\n",
      "1/1 [==============================] - 0s 22ms/step\n",
      ">2, 117/433, d=0.203, g=1.201\n",
      "1/1 [==============================] - 0s 20ms/step\n",
      ">2, 118/433, d=0.376, g=3.626\n",
      "1/1 [==============================] - 0s 26ms/step\n",
      ">2, 119/433, d=0.756, g=0.646\n",
      "1/1 [==============================] - 0s 20ms/step\n",
      ">2, 120/433, d=0.603, g=0.791\n",
      "1/1 [==============================] - 0s 23ms/step\n",
      ">2, 121/433, d=0.501, g=1.395\n",
      "1/1 [==============================] - 0s 21ms/step\n",
      ">2, 122/433, d=0.286, g=2.049\n",
      "1/1 [==============================] - 0s 23ms/step\n",
      ">2, 123/433, d=0.378, g=1.090\n",
      "1/1 [==============================] - 0s 23ms/step\n",
      ">2, 124/433, d=0.250, g=1.320\n",
      "1/1 [==============================] - 0s 19ms/step\n",
      ">2, 125/433, d=0.247, g=2.138\n",
      "1/1 [==============================] - 0s 21ms/step\n",
      ">2, 126/433, d=0.190, g=2.162\n",
      "1/1 [==============================] - 0s 21ms/step\n",
      ">2, 127/433, d=0.222, g=1.446\n",
      "1/1 [==============================] - 0s 22ms/step\n",
      ">2, 128/433, d=0.174, g=1.978\n",
      "1/1 [==============================] - 0s 24ms/step\n",
      ">2, 129/433, d=0.205, g=1.584\n",
      "1/1 [==============================] - 0s 19ms/step\n",
      ">2, 130/433, d=0.175, g=2.128\n",
      "1/1 [==============================] - 0s 22ms/step\n",
      ">2, 131/433, d=0.194, g=2.300\n",
      "1/1 [==============================] - 0s 20ms/step\n",
      ">2, 132/433, d=0.305, g=0.821\n",
      "1/1 [==============================] - 0s 23ms/step\n",
      ">2, 133/433, d=0.491, g=3.041\n",
      "1/1 [==============================] - 0s 18ms/step\n",
      ">2, 134/433, d=0.287, g=2.480\n",
      "1/1 [==============================] - 0s 29ms/step\n",
      ">2, 135/433, d=0.245, g=1.627\n",
      "1/1 [==============================] - 0s 21ms/step\n",
      ">2, 136/433, d=0.167, g=1.553\n",
      "1/1 [==============================] - 0s 24ms/step\n",
      ">2, 137/433, d=0.174, g=1.916\n",
      "1/1 [==============================] - 0s 20ms/step\n",
      ">2, 138/433, d=0.234, g=1.812\n",
      "1/1 [==============================] - 0s 22ms/step\n",
      ">2, 139/433, d=0.228, g=1.820\n",
      "1/1 [==============================] - 0s 22ms/step\n",
      ">2, 140/433, d=0.143, g=2.463\n",
      "1/1 [==============================] - 0s 19ms/step\n",
      ">2, 141/433, d=0.289, g=1.104\n",
      "1/1 [==============================] - 0s 23ms/step\n",
      ">2, 142/433, d=0.268, g=2.192\n",
      "1/1 [==============================] - 0s 24ms/step\n",
      ">2, 143/433, d=0.263, g=2.301\n",
      "1/1 [==============================] - 0s 22ms/step\n",
      ">2, 144/433, d=0.088, g=2.469\n",
      "1/1 [==============================] - 0s 32ms/step\n",
      ">2, 145/433, d=0.329, g=1.007\n",
      "1/1 [==============================] - 0s 23ms/step\n",
      ">2, 146/433, d=0.349, g=2.778\n",
      "1/1 [==============================] - 0s 20ms/step\n",
      ">2, 147/433, d=0.325, g=3.970\n",
      "1/1 [==============================] - 0s 21ms/step\n",
      ">2, 148/433, d=0.583, g=1.597\n",
      "1/1 [==============================] - 0s 21ms/step\n",
      ">2, 149/433, d=0.509, g=0.640\n",
      "1/1 [==============================] - 0s 22ms/step\n",
      ">2, 150/433, d=0.871, g=1.694\n",
      "1/1 [==============================] - 0s 21ms/step\n",
      ">2, 151/433, d=0.289, g=2.234\n",
      "1/1 [==============================] - 0s 19ms/step\n",
      ">2, 152/433, d=0.504, g=1.961\n",
      "1/1 [==============================] - 0s 24ms/step\n",
      ">2, 153/433, d=0.378, g=1.919\n",
      "1/1 [==============================] - 0s 20ms/step\n",
      ">2, 154/433, d=0.728, g=1.671\n",
      "1/1 [==============================] - 0s 20ms/step\n",
      ">2, 155/433, d=0.317, g=1.335\n",
      "1/1 [==============================] - 0s 25ms/step\n",
      ">2, 156/433, d=0.281, g=1.371\n",
      "1/1 [==============================] - 0s 20ms/step\n",
      ">2, 157/433, d=0.742, g=1.942\n",
      "1/1 [==============================] - 0s 20ms/step\n",
      ">2, 158/433, d=0.384, g=0.804\n",
      "1/1 [==============================] - 0s 23ms/step\n",
      ">2, 159/433, d=0.506, g=2.388\n",
      "1/1 [==============================] - 0s 22ms/step\n",
      ">2, 160/433, d=0.424, g=1.414\n",
      "1/1 [==============================] - 0s 23ms/step\n",
      ">2, 161/433, d=0.458, g=2.977\n",
      "1/1 [==============================] - 0s 21ms/step\n",
      ">2, 162/433, d=0.362, g=1.102\n",
      "1/1 [==============================] - 0s 20ms/step\n",
      ">2, 163/433, d=0.349, g=2.742\n",
      "1/1 [==============================] - 0s 24ms/step\n",
      ">2, 164/433, d=0.200, g=2.949\n",
      "1/1 [==============================] - 0s 23ms/step\n",
      ">2, 165/433, d=0.358, g=1.997\n",
      "1/1 [==============================] - 0s 22ms/step\n",
      ">2, 166/433, d=0.239, g=1.814\n",
      "1/1 [==============================] - 0s 19ms/step\n",
      ">2, 167/433, d=0.333, g=1.877\n",
      "1/1 [==============================] - 0s 23ms/step\n",
      ">2, 168/433, d=0.256, g=2.560\n",
      "1/1 [==============================] - 0s 28ms/step\n",
      ">2, 169/433, d=0.343, g=1.064\n",
      "1/1 [==============================] - 0s 24ms/step\n",
      ">2, 170/433, d=0.347, g=1.838\n",
      "1/1 [==============================] - 0s 34ms/step\n",
      ">2, 171/433, d=0.314, g=1.779\n",
      "1/1 [==============================] - 0s 23ms/step\n",
      ">2, 172/433, d=0.411, g=0.963\n",
      "1/1 [==============================] - 0s 20ms/step\n",
      ">2, 173/433, d=0.703, g=1.776\n",
      "1/1 [==============================] - 0s 23ms/step\n",
      ">2, 174/433, d=0.935, g=0.634\n",
      "1/1 [==============================] - 0s 20ms/step\n",
      ">2, 175/433, d=0.787, g=5.134\n",
      "1/1 [==============================] - 0s 21ms/step\n",
      ">2, 176/433, d=0.681, g=1.200\n",
      "1/1 [==============================] - 0s 24ms/step\n",
      ">2, 177/433, d=1.906, g=0.913\n",
      "1/1 [==============================] - 0s 24ms/step\n",
      ">2, 178/433, d=0.870, g=3.944\n",
      "1/1 [==============================] - 0s 22ms/step\n",
      ">2, 179/433, d=1.059, g=0.960\n",
      "1/1 [==============================] - 0s 22ms/step\n",
      ">2, 180/433, d=0.395, g=1.125\n",
      "1/1 [==============================] - 0s 22ms/step\n",
      ">2, 181/433, d=0.545, g=1.737\n",
      "1/1 [==============================] - 0s 19ms/step\n",
      ">2, 182/433, d=0.463, g=2.017\n",
      "1/1 [==============================] - 0s 21ms/step\n",
      ">2, 183/433, d=0.514, g=1.996\n",
      "1/1 [==============================] - 0s 19ms/step\n",
      ">2, 184/433, d=0.466, g=2.042\n",
      "1/1 [==============================] - 0s 21ms/step\n",
      ">2, 185/433, d=0.444, g=1.771\n",
      "1/1 [==============================] - 0s 20ms/step\n",
      ">2, 186/433, d=0.402, g=1.364\n",
      "1/1 [==============================] - 0s 24ms/step\n",
      ">2, 187/433, d=0.519, g=1.328\n",
      "1/1 [==============================] - 0s 25ms/step\n",
      ">2, 188/433, d=0.475, g=1.332\n",
      "1/1 [==============================] - 0s 32ms/step\n",
      ">2, 189/433, d=0.658, g=1.611\n",
      "1/1 [==============================] - 0s 20ms/step\n",
      ">2, 190/433, d=0.458, g=1.372\n",
      "1/1 [==============================] - 0s 20ms/step\n",
      ">2, 191/433, d=0.481, g=1.143\n",
      "1/1 [==============================] - 0s 21ms/step\n",
      ">2, 192/433, d=0.444, g=1.255\n",
      "1/1 [==============================] - 0s 21ms/step\n",
      ">2, 193/433, d=0.431, g=1.232\n",
      "1/1 [==============================] - 0s 20ms/step\n",
      ">2, 194/433, d=0.438, g=1.473\n",
      "1/1 [==============================] - 0s 26ms/step\n",
      ">2, 195/433, d=0.428, g=1.378\n",
      "1/1 [==============================] - 0s 24ms/step\n",
      ">2, 196/433, d=0.425, g=1.289\n",
      "1/1 [==============================] - 0s 30ms/step\n",
      ">2, 197/433, d=0.367, g=1.432\n",
      "1/1 [==============================] - 0s 22ms/step\n",
      ">2, 198/433, d=0.409, g=1.540\n",
      "1/1 [==============================] - 0s 26ms/step\n",
      ">2, 199/433, d=0.446, g=1.180\n",
      "1/1 [==============================] - 0s 26ms/step\n",
      ">2, 200/433, d=0.383, g=1.342\n",
      "1/1 [==============================] - 0s 30ms/step\n",
      ">2, 201/433, d=0.490, g=1.194\n",
      "1/1 [==============================] - 0s 24ms/step\n",
      ">2, 202/433, d=0.524, g=0.816\n",
      "1/1 [==============================] - 0s 26ms/step\n",
      ">2, 203/433, d=0.666, g=1.179\n",
      "1/1 [==============================] - 0s 25ms/step\n",
      ">2, 204/433, d=0.524, g=1.067\n",
      "1/1 [==============================] - 0s 22ms/step\n",
      ">2, 205/433, d=0.438, g=1.047\n",
      "1/1 [==============================] - 0s 26ms/step\n",
      ">2, 206/433, d=0.507, g=0.991\n",
      "1/1 [==============================] - 0s 21ms/step\n",
      ">2, 207/433, d=0.472, g=1.086\n",
      "1/1 [==============================] - 0s 23ms/step\n",
      ">2, 208/433, d=0.402, g=1.129\n",
      "1/1 [==============================] - 0s 23ms/step\n",
      ">2, 209/433, d=0.363, g=1.280\n",
      "1/1 [==============================] - 0s 28ms/step\n",
      ">2, 210/433, d=0.347, g=1.288\n",
      "1/1 [==============================] - 0s 25ms/step\n",
      ">2, 211/433, d=0.313, g=1.546\n",
      "1/1 [==============================] - 0s 28ms/step\n",
      ">2, 212/433, d=0.363, g=1.015\n",
      "1/1 [==============================] - 0s 24ms/step\n",
      ">2, 213/433, d=0.574, g=2.410\n",
      "1/1 [==============================] - 0s 20ms/step\n",
      ">2, 214/433, d=0.942, g=0.339\n",
      "1/1 [==============================] - 0s 20ms/step\n",
      ">2, 215/433, d=0.878, g=1.005\n",
      "1/1 [==============================] - 0s 25ms/step\n",
      ">2, 216/433, d=0.426, g=1.937\n",
      "1/1 [==============================] - 0s 20ms/step\n",
      ">2, 217/433, d=0.700, g=2.584\n",
      "1/1 [==============================] - 0s 34ms/step\n",
      ">2, 218/433, d=0.684, g=1.108\n",
      "1/1 [==============================] - 0s 24ms/step\n",
      ">2, 219/433, d=0.741, g=1.180\n",
      "1/1 [==============================] - 0s 25ms/step\n",
      ">2, 220/433, d=0.463, g=1.253\n",
      "1/1 [==============================] - 0s 21ms/step\n",
      ">2, 221/433, d=0.497, g=1.190\n",
      "1/1 [==============================] - 0s 23ms/step\n",
      ">2, 222/433, d=0.547, g=0.936\n",
      "1/1 [==============================] - 0s 24ms/step\n",
      ">2, 223/433, d=0.504, g=1.148\n",
      "1/1 [==============================] - 0s 20ms/step\n",
      ">2, 224/433, d=0.490, g=0.991\n",
      "1/1 [==============================] - 0s 21ms/step\n",
      ">2, 225/433, d=0.456, g=1.182\n",
      "1/1 [==============================] - 0s 37ms/step\n",
      ">2, 226/433, d=0.459, g=1.358\n",
      "1/1 [==============================] - 0s 51ms/step\n",
      ">2, 227/433, d=0.446, g=1.443\n",
      "1/1 [==============================] - 0s 44ms/step\n",
      ">2, 228/433, d=0.471, g=0.973\n",
      "1/1 [==============================] - 0s 43ms/step\n",
      ">2, 229/433, d=0.445, g=1.429\n",
      "1/1 [==============================] - 0s 51ms/step\n",
      ">2, 230/433, d=0.522, g=1.737\n",
      "1/1 [==============================] - 0s 22ms/step\n",
      ">2, 231/433, d=0.474, g=1.002\n",
      "1/1 [==============================] - 0s 21ms/step\n",
      ">2, 232/433, d=0.564, g=2.018\n",
      "1/1 [==============================] - 0s 20ms/step\n",
      ">2, 233/433, d=0.644, g=0.588\n",
      "1/1 [==============================] - 0s 24ms/step\n",
      ">2, 234/433, d=0.662, g=1.410\n",
      "1/1 [==============================] - 0s 26ms/step\n",
      ">2, 235/433, d=0.481, g=2.391\n",
      "1/1 [==============================] - 0s 25ms/step\n",
      ">2, 236/433, d=0.550, g=0.868\n",
      "1/1 [==============================] - 0s 20ms/step\n",
      ">2, 237/433, d=0.577, g=1.682\n",
      "1/1 [==============================] - 0s 20ms/step\n",
      ">2, 238/433, d=0.413, g=3.371\n",
      "1/1 [==============================] - 0s 18ms/step\n",
      ">2, 239/433, d=0.742, g=0.530\n",
      "1/1 [==============================] - 0s 19ms/step\n",
      ">2, 240/433, d=0.639, g=0.815\n",
      "1/1 [==============================] - 0s 25ms/step\n",
      ">2, 241/433, d=0.489, g=1.815\n",
      "1/1 [==============================] - 0s 20ms/step\n",
      ">2, 242/433, d=0.478, g=1.779\n",
      "1/1 [==============================] - 0s 24ms/step\n",
      ">2, 243/433, d=0.610, g=0.989\n",
      "1/1 [==============================] - 0s 21ms/step\n",
      ">2, 244/433, d=0.395, g=1.044\n",
      "1/1 [==============================] - 0s 22ms/step\n",
      ">2, 245/433, d=0.615, g=1.281\n",
      "1/1 [==============================] - 0s 20ms/step\n",
      ">2, 246/433, d=0.644, g=2.323\n",
      "1/1 [==============================] - 0s 23ms/step\n",
      ">2, 247/433, d=0.515, g=1.695\n",
      "1/1 [==============================] - 0s 36ms/step\n",
      ">2, 248/433, d=0.438, g=1.589\n",
      "1/1 [==============================] - 0s 22ms/step\n",
      ">2, 249/433, d=0.426, g=1.454\n",
      "1/1 [==============================] - 0s 20ms/step\n",
      ">2, 250/433, d=0.504, g=1.208\n",
      "1/1 [==============================] - 0s 19ms/step\n",
      ">2, 251/433, d=0.510, g=1.280\n",
      "1/1 [==============================] - 0s 27ms/step\n",
      ">2, 252/433, d=0.368, g=2.031\n",
      "1/1 [==============================] - 0s 20ms/step\n",
      ">2, 253/433, d=0.483, g=1.248\n",
      "1/1 [==============================] - 0s 26ms/step\n",
      ">2, 254/433, d=0.351, g=1.382\n",
      "1/1 [==============================] - 0s 21ms/step\n",
      ">2, 255/433, d=0.411, g=3.482\n",
      "1/1 [==============================] - 0s 24ms/step\n",
      ">2, 256/433, d=0.489, g=1.236\n",
      "1/1 [==============================] - 0s 21ms/step\n",
      ">2, 257/433, d=0.535, g=3.600\n",
      "1/1 [==============================] - 0s 31ms/step\n",
      ">2, 258/433, d=0.362, g=2.491\n",
      "1/1 [==============================] - 0s 23ms/step\n",
      ">2, 259/433, d=0.346, g=1.481\n",
      "1/1 [==============================] - 0s 21ms/step\n",
      ">2, 260/433, d=0.352, g=1.389\n",
      "1/1 [==============================] - 0s 29ms/step\n",
      ">2, 261/433, d=0.356, g=2.201\n",
      "1/1 [==============================] - 0s 22ms/step\n",
      ">2, 262/433, d=0.465, g=1.622\n",
      "1/1 [==============================] - 0s 28ms/step\n",
      ">2, 263/433, d=0.425, g=1.719\n",
      "1/1 [==============================] - 0s 26ms/step\n",
      ">2, 264/433, d=0.469, g=3.181\n",
      "1/1 [==============================] - 0s 22ms/step\n",
      ">2, 265/433, d=0.958, g=0.916\n",
      "1/1 [==============================] - 0s 22ms/step\n",
      ">2, 266/433, d=0.953, g=1.974\n",
      "1/1 [==============================] - 0s 22ms/step\n",
      ">2, 267/433, d=0.752, g=3.235\n",
      "1/1 [==============================] - 0s 22ms/step\n",
      ">2, 268/433, d=0.629, g=2.388\n",
      "1/1 [==============================] - 0s 20ms/step\n",
      ">2, 269/433, d=0.575, g=1.078\n",
      "1/1 [==============================] - 0s 23ms/step\n",
      ">2, 270/433, d=0.774, g=1.881\n",
      "1/1 [==============================] - 0s 28ms/step\n",
      ">2, 271/433, d=1.029, g=0.908\n",
      "1/1 [==============================] - 0s 22ms/step\n",
      ">2, 272/433, d=0.920, g=0.774\n",
      "1/1 [==============================] - 0s 26ms/step\n",
      ">2, 273/433, d=0.705, g=1.000\n",
      "1/1 [==============================] - 0s 20ms/step\n",
      ">2, 274/433, d=0.741, g=1.243\n",
      "1/1 [==============================] - 0s 20ms/step\n",
      ">2, 275/433, d=0.747, g=1.230\n",
      "1/1 [==============================] - 0s 23ms/step\n",
      ">2, 276/433, d=0.673, g=1.149\n",
      "1/1 [==============================] - 0s 21ms/step\n",
      ">2, 277/433, d=0.726, g=1.205\n",
      "1/1 [==============================] - 0s 20ms/step\n",
      ">2, 278/433, d=0.671, g=1.273\n",
      "1/1 [==============================] - 0s 21ms/step\n",
      ">2, 279/433, d=0.623, g=1.299\n",
      "1/1 [==============================] - 0s 24ms/step\n",
      ">2, 280/433, d=0.655, g=1.034\n",
      "1/1 [==============================] - 0s 19ms/step\n",
      ">2, 281/433, d=0.667, g=1.161\n",
      "1/1 [==============================] - 0s 21ms/step\n",
      ">2, 282/433, d=0.739, g=1.441\n",
      "1/1 [==============================] - 0s 19ms/step\n",
      ">2, 283/433, d=0.645, g=1.731\n",
      "1/1 [==============================] - 0s 20ms/step\n",
      ">2, 284/433, d=0.678, g=1.419\n",
      "1/1 [==============================] - 0s 28ms/step\n",
      ">2, 285/433, d=0.436, g=1.517\n",
      "1/1 [==============================] - 0s 21ms/step\n",
      ">2, 286/433, d=0.549, g=1.984\n",
      "1/1 [==============================] - 0s 22ms/step\n",
      ">2, 287/433, d=0.761, g=1.251\n",
      "1/1 [==============================] - 0s 20ms/step\n",
      ">2, 288/433, d=0.887, g=0.875\n",
      "1/1 [==============================] - 0s 19ms/step\n",
      ">2, 289/433, d=0.808, g=2.131\n",
      "1/1 [==============================] - 0s 22ms/step\n",
      ">2, 290/433, d=0.600, g=2.301\n",
      "1/1 [==============================] - 0s 18ms/step\n",
      ">2, 291/433, d=0.586, g=1.806\n",
      "1/1 [==============================] - 0s 22ms/step\n",
      ">2, 292/433, d=0.752, g=0.962\n",
      "1/1 [==============================] - 0s 18ms/step\n",
      ">2, 293/433, d=0.746, g=0.982\n",
      "1/1 [==============================] - 0s 49ms/step\n",
      ">2, 294/433, d=0.721, g=1.032\n",
      "1/1 [==============================] - 0s 50ms/step\n",
      ">2, 295/433, d=0.770, g=0.755\n",
      "1/1 [==============================] - 0s 57ms/step\n",
      ">2, 296/433, d=0.676, g=0.807\n",
      "1/1 [==============================] - 0s 33ms/step\n",
      ">2, 297/433, d=0.640, g=0.869\n",
      "1/1 [==============================] - 0s 67ms/step\n",
      ">2, 298/433, d=0.618, g=0.956\n",
      "1/1 [==============================] - 0s 21ms/step\n",
      ">2, 299/433, d=0.537, g=0.942\n",
      "1/1 [==============================] - 0s 23ms/step\n",
      ">2, 300/433, d=0.581, g=1.041\n",
      "1/1 [==============================] - 0s 23ms/step\n",
      ">2, 301/433, d=0.561, g=1.197\n",
      "1/1 [==============================] - 0s 27ms/step\n",
      ">2, 302/433, d=0.613, g=1.244\n",
      "1/1 [==============================] - 0s 22ms/step\n",
      ">2, 303/433, d=0.590, g=1.196\n",
      "1/1 [==============================] - 0s 19ms/step\n",
      ">2, 304/433, d=0.534, g=1.358\n",
      "1/1 [==============================] - 0s 22ms/step\n",
      ">2, 305/433, d=0.488, g=1.377\n",
      "1/1 [==============================] - 0s 20ms/step\n",
      ">2, 306/433, d=0.540, g=1.163\n",
      "1/1 [==============================] - 0s 20ms/step\n",
      ">2, 307/433, d=0.553, g=1.025\n",
      "1/1 [==============================] - 0s 25ms/step\n",
      ">2, 308/433, d=0.493, g=1.212\n",
      "1/1 [==============================] - 0s 25ms/step\n",
      ">2, 309/433, d=0.459, g=1.372\n",
      "1/1 [==============================] - 0s 20ms/step\n",
      ">2, 310/433, d=0.510, g=1.208\n",
      "1/1 [==============================] - 0s 23ms/step\n",
      ">2, 311/433, d=0.516, g=0.911\n",
      "1/1 [==============================] - 0s 34ms/step\n",
      ">2, 312/433, d=0.474, g=1.231\n",
      "1/1 [==============================] - 0s 24ms/step\n",
      ">2, 313/433, d=0.520, g=1.303\n",
      "1/1 [==============================] - 0s 19ms/step\n",
      ">2, 314/433, d=0.517, g=1.019\n",
      "1/1 [==============================] - 0s 20ms/step\n",
      ">2, 315/433, d=0.534, g=1.148\n",
      "1/1 [==============================] - 0s 24ms/step\n",
      ">2, 316/433, d=0.542, g=1.080\n",
      "1/1 [==============================] - 0s 20ms/step\n",
      ">2, 317/433, d=0.523, g=1.697\n",
      "1/1 [==============================] - 0s 20ms/step\n",
      ">2, 318/433, d=0.598, g=0.976\n",
      "1/1 [==============================] - 0s 20ms/step\n",
      ">2, 319/433, d=0.574, g=1.785\n",
      "1/1 [==============================] - 0s 25ms/step\n",
      ">2, 320/433, d=0.644, g=0.676\n",
      "1/1 [==============================] - 0s 21ms/step\n",
      ">2, 321/433, d=0.646, g=0.753\n",
      "1/1 [==============================] - 0s 19ms/step\n",
      ">2, 322/433, d=0.585, g=1.293\n",
      "1/1 [==============================] - 0s 24ms/step\n",
      ">2, 323/433, d=0.704, g=0.735\n",
      "1/1 [==============================] - 0s 19ms/step\n",
      ">2, 324/433, d=0.723, g=0.791\n",
      "1/1 [==============================] - 0s 22ms/step\n",
      ">2, 325/433, d=0.661, g=0.863\n",
      "1/1 [==============================] - 0s 23ms/step\n",
      ">2, 326/433, d=0.555, g=1.016\n",
      "1/1 [==============================] - 0s 24ms/step\n",
      ">2, 327/433, d=0.660, g=1.063\n",
      "1/1 [==============================] - 0s 22ms/step\n",
      ">2, 328/433, d=0.680, g=0.627\n",
      "1/1 [==============================] - 0s 40ms/step\n",
      ">2, 329/433, d=0.692, g=0.842\n",
      "1/1 [==============================] - 0s 22ms/step\n",
      ">2, 330/433, d=0.675, g=1.367\n",
      "1/1 [==============================] - 0s 27ms/step\n",
      ">2, 331/433, d=0.710, g=0.820\n",
      "1/1 [==============================] - 0s 19ms/step\n",
      ">2, 332/433, d=0.616, g=0.741\n",
      "1/1 [==============================] - 0s 20ms/step\n",
      ">2, 333/433, d=0.620, g=1.133\n",
      "1/1 [==============================] - 0s 22ms/step\n",
      ">2, 334/433, d=0.635, g=0.880\n",
      "1/1 [==============================] - 0s 20ms/step\n",
      ">2, 335/433, d=0.582, g=0.737\n",
      "1/1 [==============================] - 0s 24ms/step\n",
      ">2, 336/433, d=0.602, g=0.871\n",
      "1/1 [==============================] - 0s 28ms/step\n",
      ">2, 337/433, d=0.521, g=1.020\n",
      "1/1 [==============================] - 0s 21ms/step\n",
      ">2, 338/433, d=0.509, g=1.103\n",
      "1/1 [==============================] - 0s 24ms/step\n",
      ">2, 339/433, d=0.522, g=1.119\n",
      "1/1 [==============================] - 0s 24ms/step\n",
      ">2, 340/433, d=0.532, g=1.172\n",
      "1/1 [==============================] - 0s 21ms/step\n",
      ">2, 341/433, d=0.498, g=1.332\n",
      "1/1 [==============================] - 0s 20ms/step\n",
      ">2, 342/433, d=0.520, g=1.154\n",
      "1/1 [==============================] - 0s 20ms/step\n",
      ">2, 343/433, d=0.633, g=1.042\n",
      "1/1 [==============================] - 0s 22ms/step\n",
      ">2, 344/433, d=0.640, g=1.288\n",
      "1/1 [==============================] - 0s 20ms/step\n",
      ">2, 345/433, d=0.720, g=1.184\n",
      "1/1 [==============================] - 0s 25ms/step\n",
      ">2, 346/433, d=0.727, g=0.912\n",
      "1/1 [==============================] - 0s 23ms/step\n",
      ">2, 347/433, d=0.611, g=0.681\n",
      "1/1 [==============================] - 0s 23ms/step\n",
      ">2, 348/433, d=0.705, g=1.742\n",
      "1/1 [==============================] - 0s 29ms/step\n",
      ">2, 349/433, d=0.715, g=1.123\n",
      "1/1 [==============================] - 0s 24ms/step\n",
      ">2, 350/433, d=0.558, g=0.648\n",
      "1/1 [==============================] - 0s 21ms/step\n",
      ">2, 351/433, d=0.604, g=1.079\n",
      "1/1 [==============================] - 0s 24ms/step\n",
      ">2, 352/433, d=0.620, g=1.466\n",
      "1/1 [==============================] - 0s 20ms/step\n",
      ">2, 353/433, d=0.629, g=1.001\n",
      "1/1 [==============================] - 0s 19ms/step\n",
      ">2, 354/433, d=0.609, g=0.705\n",
      "1/1 [==============================] - 0s 25ms/step\n",
      ">2, 355/433, d=0.647, g=1.101\n",
      "1/1 [==============================] - 0s 27ms/step\n",
      ">2, 356/433, d=0.573, g=1.253\n",
      "1/1 [==============================] - 0s 24ms/step\n",
      ">2, 357/433, d=0.602, g=0.926\n",
      "1/1 [==============================] - 0s 21ms/step\n",
      ">2, 358/433, d=0.542, g=1.045\n",
      "1/1 [==============================] - 0s 21ms/step\n",
      ">2, 359/433, d=0.465, g=1.117\n",
      "1/1 [==============================] - 0s 24ms/step\n",
      ">2, 360/433, d=0.545, g=1.010\n",
      "1/1 [==============================] - 0s 25ms/step\n",
      ">2, 361/433, d=0.604, g=0.979\n",
      "1/1 [==============================] - 0s 21ms/step\n",
      ">2, 362/433, d=0.494, g=0.959\n",
      "1/1 [==============================] - 0s 32ms/step\n",
      ">2, 363/433, d=0.534, g=0.932\n",
      "1/1 [==============================] - 0s 24ms/step\n",
      ">2, 364/433, d=0.480, g=1.024\n",
      "1/1 [==============================] - 0s 22ms/step\n",
      ">2, 365/433, d=0.457, g=1.173\n",
      "1/1 [==============================] - 0s 20ms/step\n",
      ">2, 366/433, d=0.434, g=1.267\n",
      "1/1 [==============================] - 0s 22ms/step\n",
      ">2, 367/433, d=0.572, g=1.553\n",
      "1/1 [==============================] - 0s 21ms/step\n",
      ">2, 368/433, d=0.591, g=1.257\n",
      "1/1 [==============================] - 0s 22ms/step\n",
      ">2, 369/433, d=0.779, g=1.546\n",
      "1/1 [==============================] - 0s 23ms/step\n",
      ">2, 370/433, d=0.581, g=0.894\n",
      "1/1 [==============================] - 0s 21ms/step\n",
      ">2, 371/433, d=0.523, g=1.456\n",
      "1/1 [==============================] - 0s 25ms/step\n",
      ">2, 372/433, d=0.499, g=1.441\n",
      "1/1 [==============================] - 0s 22ms/step\n",
      ">2, 373/433, d=0.397, g=1.278\n",
      "1/1 [==============================] - 0s 20ms/step\n",
      ">2, 374/433, d=0.419, g=1.472\n",
      "1/1 [==============================] - 0s 23ms/step\n",
      ">2, 375/433, d=0.492, g=1.441\n",
      "1/1 [==============================] - 0s 22ms/step\n",
      ">2, 376/433, d=0.517, g=1.318\n",
      "1/1 [==============================] - 0s 24ms/step\n",
      ">2, 377/433, d=0.680, g=1.471\n",
      "1/1 [==============================] - 0s 20ms/step\n",
      ">2, 378/433, d=0.697, g=1.695\n",
      "1/1 [==============================] - 0s 19ms/step\n",
      ">2, 379/433, d=0.576, g=1.207\n",
      "1/1 [==============================] - 0s 23ms/step\n",
      ">2, 380/433, d=0.739, g=3.406\n",
      "1/1 [==============================] - 0s 24ms/step\n",
      ">2, 381/433, d=0.763, g=1.470\n",
      "1/1 [==============================] - 0s 22ms/step\n",
      ">2, 382/433, d=0.619, g=0.790\n",
      "1/1 [==============================] - 0s 22ms/step\n",
      ">2, 383/433, d=0.625, g=1.058\n",
      "1/1 [==============================] - 0s 23ms/step\n",
      ">2, 384/433, d=0.686, g=0.688\n",
      "1/1 [==============================] - 0s 31ms/step\n",
      ">2, 385/433, d=0.687, g=0.716\n",
      "1/1 [==============================] - 0s 31ms/step\n",
      ">2, 386/433, d=0.658, g=0.832\n",
      "1/1 [==============================] - 0s 24ms/step\n",
      ">2, 387/433, d=0.663, g=1.068\n",
      "1/1 [==============================] - 0s 66ms/step\n",
      ">2, 388/433, d=0.736, g=1.077\n",
      "1/1 [==============================] - 0s 30ms/step\n",
      ">2, 389/433, d=0.648, g=1.034\n",
      "1/1 [==============================] - 0s 33ms/step\n",
      ">2, 390/433, d=0.685, g=1.043\n",
      "1/1 [==============================] - 0s 59ms/step\n",
      ">2, 391/433, d=0.651, g=1.020\n",
      "1/1 [==============================] - 0s 38ms/step\n",
      ">2, 392/433, d=0.594, g=1.098\n",
      "1/1 [==============================] - 0s 26ms/step\n",
      ">2, 393/433, d=0.593, g=0.851\n",
      "1/1 [==============================] - 0s 22ms/step\n",
      ">2, 394/433, d=0.529, g=1.051\n",
      "1/1 [==============================] - 0s 28ms/step\n",
      ">2, 395/433, d=0.476, g=1.231\n",
      "1/1 [==============================] - 0s 21ms/step\n",
      ">2, 396/433, d=0.513, g=1.540\n",
      "1/1 [==============================] - 0s 29ms/step\n",
      ">2, 397/433, d=0.555, g=1.012\n",
      "1/1 [==============================] - 0s 21ms/step\n",
      ">2, 398/433, d=0.526, g=1.024\n",
      "1/1 [==============================] - 0s 23ms/step\n",
      ">2, 399/433, d=0.493, g=1.197\n",
      "1/1 [==============================] - 0s 20ms/step\n",
      ">2, 400/433, d=0.478, g=1.227\n",
      "1/1 [==============================] - 0s 20ms/step\n",
      ">2, 401/433, d=0.478, g=1.447\n",
      "1/1 [==============================] - 0s 24ms/step\n",
      ">2, 402/433, d=0.410, g=1.623\n",
      "1/1 [==============================] - 0s 22ms/step\n",
      ">2, 403/433, d=0.441, g=1.375\n",
      "1/1 [==============================] - 0s 24ms/step\n",
      ">2, 404/433, d=0.528, g=2.044\n",
      "1/1 [==============================] - 0s 30ms/step\n",
      ">2, 405/433, d=0.668, g=0.346\n",
      "1/1 [==============================] - 0s 23ms/step\n",
      ">2, 406/433, d=0.997, g=2.490\n",
      "1/1 [==============================] - 0s 22ms/step\n",
      ">2, 407/433, d=0.694, g=1.307\n",
      "1/1 [==============================] - 0s 22ms/step\n",
      ">2, 408/433, d=0.573, g=0.586\n",
      "1/1 [==============================] - 0s 20ms/step\n",
      ">2, 409/433, d=0.586, g=1.039\n",
      "1/1 [==============================] - 0s 26ms/step\n",
      ">2, 410/433, d=0.533, g=1.185\n",
      "1/1 [==============================] - 0s 37ms/step\n",
      ">2, 411/433, d=0.509, g=1.153\n",
      "1/1 [==============================] - 0s 41ms/step\n",
      ">2, 412/433, d=0.551, g=1.254\n",
      "1/1 [==============================] - 0s 24ms/step\n",
      ">2, 413/433, d=0.470, g=1.350\n",
      "1/1 [==============================] - 0s 45ms/step\n",
      ">2, 414/433, d=0.471, g=1.061\n",
      "1/1 [==============================] - 0s 40ms/step\n",
      ">2, 415/433, d=0.569, g=1.941\n",
      "1/1 [==============================] - 0s 26ms/step\n",
      ">2, 416/433, d=0.614, g=1.695\n",
      "1/1 [==============================] - 0s 21ms/step\n",
      ">2, 417/433, d=0.519, g=1.023\n",
      "1/1 [==============================] - 0s 40ms/step\n",
      ">2, 418/433, d=0.587, g=1.167\n",
      "1/1 [==============================] - 0s 29ms/step\n",
      ">2, 419/433, d=0.511, g=1.408\n",
      "1/1 [==============================] - 0s 34ms/step\n",
      ">2, 420/433, d=0.598, g=1.216\n",
      "1/1 [==============================] - 0s 42ms/step\n",
      ">2, 421/433, d=0.655, g=1.444\n",
      "1/1 [==============================] - 0s 32ms/step\n",
      ">2, 422/433, d=0.684, g=1.308\n",
      "1/1 [==============================] - 0s 40ms/step\n",
      ">2, 423/433, d=0.766, g=1.108\n",
      "1/1 [==============================] - 0s 48ms/step\n",
      ">2, 424/433, d=0.710, g=1.093\n",
      "1/1 [==============================] - 0s 25ms/step\n",
      ">2, 425/433, d=0.665, g=1.448\n",
      "1/1 [==============================] - 0s 24ms/step\n",
      ">2, 426/433, d=0.615, g=1.167\n",
      "1/1 [==============================] - 0s 23ms/step\n",
      ">2, 427/433, d=0.549, g=1.190\n",
      "1/1 [==============================] - 0s 21ms/step\n",
      ">2, 428/433, d=0.641, g=1.430\n",
      "1/1 [==============================] - 0s 23ms/step\n",
      ">2, 429/433, d=0.603, g=1.307\n",
      "1/1 [==============================] - 0s 19ms/step\n",
      ">2, 430/433, d=0.462, g=1.511\n",
      "1/1 [==============================] - 0s 56ms/step\n",
      ">2, 431/433, d=0.444, g=1.661\n",
      "1/1 [==============================] - 0s 39ms/step\n",
      ">2, 432/433, d=0.473, g=1.337\n",
      "1/1 [==============================] - 0s 26ms/step\n",
      ">2, 433/433, d=0.490, g=1.729\n",
      "1/1 [==============================] - 0s 31ms/step\n",
      ">3, 1/433, d=0.463, g=1.770\n",
      "1/1 [==============================] - 0s 23ms/step\n",
      ">3, 2/433, d=0.429, g=1.420\n",
      "1/1 [==============================] - 0s 22ms/step\n",
      ">3, 3/433, d=0.435, g=1.278\n",
      "1/1 [==============================] - 0s 20ms/step\n",
      ">3, 4/433, d=0.396, g=1.701\n",
      "1/1 [==============================] - 0s 26ms/step\n",
      ">3, 5/433, d=0.304, g=2.259\n",
      "1/1 [==============================] - 0s 38ms/step\n",
      ">3, 6/433, d=0.491, g=1.654\n",
      "1/1 [==============================] - 0s 58ms/step\n",
      ">3, 7/433, d=0.601, g=1.817\n",
      "1/1 [==============================] - 0s 60ms/step\n",
      ">3, 8/433, d=0.600, g=3.647\n",
      "1/1 [==============================] - 0s 31ms/step\n",
      ">3, 9/433, d=0.604, g=1.389\n",
      "1/1 [==============================] - 0s 57ms/step\n",
      ">3, 10/433, d=0.639, g=0.805\n",
      "1/1 [==============================] - 0s 65ms/step\n",
      ">3, 11/433, d=0.785, g=0.829\n",
      "1/1 [==============================] - 0s 47ms/step\n",
      ">3, 12/433, d=0.714, g=1.136\n",
      "1/1 [==============================] - 0s 39ms/step\n",
      ">3, 13/433, d=0.727, g=1.292\n",
      "1/1 [==============================] - 0s 26ms/step\n",
      ">3, 14/433, d=1.036, g=2.001\n",
      "1/1 [==============================] - 0s 27ms/step\n",
      ">3, 15/433, d=1.029, g=0.805\n",
      "1/1 [==============================] - 0s 24ms/step\n",
      ">3, 16/433, d=0.679, g=0.819\n",
      "1/1 [==============================] - 0s 78ms/step\n",
      ">3, 17/433, d=0.641, g=1.161\n",
      "1/1 [==============================] - 0s 33ms/step\n",
      ">3, 18/433, d=0.610, g=1.072\n",
      "1/1 [==============================] - 0s 31ms/step\n",
      ">3, 19/433, d=0.557, g=0.978\n",
      "1/1 [==============================] - 0s 30ms/step\n",
      ">3, 20/433, d=0.605, g=0.914\n",
      "1/1 [==============================] - 0s 25ms/step\n",
      ">3, 21/433, d=0.510, g=0.917\n",
      "1/1 [==============================] - 0s 26ms/step\n",
      ">3, 22/433, d=0.510, g=0.918\n",
      "1/1 [==============================] - 0s 54ms/step\n",
      ">3, 23/433, d=0.476, g=1.049\n",
      "1/1 [==============================] - 0s 29ms/step\n",
      ">3, 24/433, d=0.537, g=1.156\n",
      "1/1 [==============================] - 0s 20ms/step\n",
      ">3, 25/433, d=0.480, g=1.205\n",
      "1/1 [==============================] - 0s 23ms/step\n",
      ">3, 26/433, d=0.469, g=1.158\n",
      "1/1 [==============================] - 0s 42ms/step\n",
      ">3, 27/433, d=0.469, g=1.416\n",
      "1/1 [==============================] - 0s 25ms/step\n",
      ">3, 28/433, d=0.439, g=1.284\n",
      "1/1 [==============================] - 0s 19ms/step\n",
      ">3, 29/433, d=0.464, g=1.176\n",
      "1/1 [==============================] - 0s 26ms/step\n",
      ">3, 30/433, d=0.445, g=1.227\n",
      "1/1 [==============================] - 0s 24ms/step\n",
      ">3, 31/433, d=0.441, g=1.409\n",
      "1/1 [==============================] - 0s 24ms/step\n",
      ">3, 32/433, d=0.454, g=1.576\n",
      "1/1 [==============================] - 0s 21ms/step\n",
      ">3, 33/433, d=0.472, g=1.618\n",
      "1/1 [==============================] - 0s 21ms/step\n",
      ">3, 34/433, d=0.442, g=1.826\n",
      "1/1 [==============================] - 0s 19ms/step\n",
      ">3, 35/433, d=0.442, g=1.499\n",
      "1/1 [==============================] - 0s 21ms/step\n",
      ">3, 36/433, d=0.466, g=1.478\n",
      "1/1 [==============================] - 0s 25ms/step\n",
      ">3, 37/433, d=0.496, g=1.689\n",
      "1/1 [==============================] - 0s 24ms/step\n",
      ">3, 38/433, d=0.479, g=1.597\n",
      "1/1 [==============================] - 0s 21ms/step\n",
      ">3, 39/433, d=0.448, g=1.622\n",
      "1/1 [==============================] - 0s 28ms/step\n",
      ">3, 40/433, d=0.481, g=1.439\n",
      "1/1 [==============================] - 0s 26ms/step\n",
      ">3, 41/433, d=0.387, g=1.513\n",
      "1/1 [==============================] - 0s 22ms/step\n",
      ">3, 42/433, d=0.439, g=1.503\n",
      "1/1 [==============================] - 0s 24ms/step\n",
      ">3, 43/433, d=0.471, g=1.953\n",
      "1/1 [==============================] - 0s 27ms/step\n",
      ">3, 44/433, d=0.633, g=1.856\n",
      "1/1 [==============================] - 0s 20ms/step\n",
      ">3, 45/433, d=0.806, g=2.716\n",
      "1/1 [==============================] - 0s 25ms/step\n",
      ">3, 46/433, d=0.785, g=2.132\n",
      "1/1 [==============================] - 0s 19ms/step\n",
      ">3, 47/433, d=0.867, g=1.512\n",
      "1/1 [==============================] - 0s 20ms/step\n",
      ">3, 48/433, d=0.824, g=3.082\n",
      "1/1 [==============================] - 0s 19ms/step\n",
      ">3, 49/433, d=0.493, g=2.330\n",
      "1/1 [==============================] - 0s 22ms/step\n",
      ">3, 50/433, d=0.384, g=1.667\n",
      "1/1 [==============================] - 0s 19ms/step\n",
      ">3, 51/433, d=0.419, g=1.756\n",
      "1/1 [==============================] - 0s 21ms/step\n",
      ">3, 52/433, d=0.613, g=1.148\n",
      "1/1 [==============================] - 0s 20ms/step\n",
      ">3, 53/433, d=0.706, g=1.154\n",
      "1/1 [==============================] - 0s 19ms/step\n",
      ">3, 54/433, d=0.724, g=1.244\n",
      "1/1 [==============================] - 0s 21ms/step\n",
      ">3, 55/433, d=0.513, g=1.139\n",
      "1/1 [==============================] - 0s 18ms/step\n",
      ">3, 56/433, d=0.525, g=1.127\n",
      "1/1 [==============================] - 0s 23ms/step\n",
      ">3, 57/433, d=0.459, g=1.147\n",
      "1/1 [==============================] - 0s 23ms/step\n",
      ">3, 58/433, d=0.555, g=1.260\n",
      "1/1 [==============================] - 0s 22ms/step\n",
      ">3, 59/433, d=0.489, g=1.252\n",
      "1/1 [==============================] - 0s 19ms/step\n",
      ">3, 60/433, d=0.570, g=1.430\n",
      "1/1 [==============================] - 0s 21ms/step\n",
      ">3, 61/433, d=0.537, g=1.301\n",
      "1/1 [==============================] - 0s 19ms/step\n",
      ">3, 62/433, d=0.608, g=0.938\n",
      "1/1 [==============================] - 0s 18ms/step\n",
      ">3, 63/433, d=0.576, g=1.070\n",
      "1/1 [==============================] - 0s 20ms/step\n",
      ">3, 64/433, d=0.688, g=1.569\n",
      "1/1 [==============================] - 0s 19ms/step\n",
      ">3, 65/433, d=0.637, g=1.049\n",
      "1/1 [==============================] - 0s 19ms/step\n",
      ">3, 66/433, d=0.586, g=1.246\n",
      "1/1 [==============================] - 0s 21ms/step\n",
      ">3, 67/433, d=0.535, g=1.262\n",
      "1/1 [==============================] - 0s 30ms/step\n",
      ">3, 68/433, d=0.598, g=0.898\n",
      "1/1 [==============================] - 0s 20ms/step\n",
      ">3, 69/433, d=0.555, g=0.944\n",
      "1/1 [==============================] - 0s 20ms/step\n",
      ">3, 70/433, d=0.546, g=1.120\n",
      "1/1 [==============================] - 0s 21ms/step\n",
      ">3, 71/433, d=0.575, g=1.088\n",
      "1/1 [==============================] - 0s 23ms/step\n",
      ">3, 72/433, d=0.633, g=1.026\n",
      "1/1 [==============================] - 0s 21ms/step\n",
      ">3, 73/433, d=0.648, g=0.905\n",
      "1/1 [==============================] - 0s 22ms/step\n",
      ">3, 74/433, d=0.559, g=1.163\n",
      "1/1 [==============================] - 0s 20ms/step\n",
      ">3, 75/433, d=0.575, g=1.028\n",
      "1/1 [==============================] - 0s 26ms/step\n",
      ">3, 76/433, d=0.543, g=0.908\n",
      "1/1 [==============================] - 0s 18ms/step\n",
      ">3, 77/433, d=0.548, g=1.045\n",
      "1/1 [==============================] - 0s 21ms/step\n",
      ">3, 78/433, d=0.555, g=1.159\n",
      "1/1 [==============================] - 0s 22ms/step\n",
      ">3, 79/433, d=0.527, g=1.114\n",
      "1/1 [==============================] - 0s 19ms/step\n",
      ">3, 80/433, d=0.528, g=1.065\n",
      "1/1 [==============================] - 0s 20ms/step\n",
      ">3, 81/433, d=0.489, g=1.159\n",
      "1/1 [==============================] - 0s 18ms/step\n",
      ">3, 82/433, d=0.465, g=1.009\n",
      "1/1 [==============================] - 0s 22ms/step\n",
      ">3, 83/433, d=0.460, g=1.294\n",
      "1/1 [==============================] - 0s 19ms/step\n",
      ">3, 84/433, d=0.469, g=1.342\n",
      "1/1 [==============================] - 0s 21ms/step\n",
      ">3, 85/433, d=0.450, g=1.389\n",
      "1/1 [==============================] - 0s 20ms/step\n",
      ">3, 86/433, d=0.420, g=1.049\n",
      "1/1 [==============================] - 0s 19ms/step\n",
      ">3, 87/433, d=0.458, g=1.483\n",
      "1/1 [==============================] - 0s 24ms/step\n",
      ">3, 88/433, d=0.404, g=1.588\n",
      "1/1 [==============================] - 0s 19ms/step\n",
      ">3, 89/433, d=0.383, g=1.428\n",
      "1/1 [==============================] - 0s 20ms/step\n",
      ">3, 90/433, d=0.318, g=1.597\n",
      "1/1 [==============================] - 0s 20ms/step\n",
      ">3, 91/433, d=0.363, g=1.402\n",
      "1/1 [==============================] - 0s 22ms/step\n",
      ">3, 92/433, d=0.431, g=1.213\n",
      "1/1 [==============================] - 0s 20ms/step\n",
      ">3, 93/433, d=0.360, g=1.469\n",
      "1/1 [==============================] - 0s 20ms/step\n",
      ">3, 94/433, d=0.308, g=2.049\n",
      "1/1 [==============================] - 0s 21ms/step\n",
      ">3, 95/433, d=0.370, g=1.251\n",
      "1/1 [==============================] - 0s 21ms/step\n",
      ">3, 96/433, d=0.428, g=1.213\n",
      "1/1 [==============================] - 0s 20ms/step\n",
      ">3, 97/433, d=0.510, g=2.735\n",
      "1/1 [==============================] - 0s 22ms/step\n",
      ">3, 98/433, d=0.670, g=0.341\n",
      "1/1 [==============================] - 0s 19ms/step\n",
      ">3, 99/433, d=0.884, g=1.184\n",
      "1/1 [==============================] - 0s 19ms/step\n",
      ">3, 100/433, d=0.575, g=2.688\n",
      "1/1 [==============================] - 0s 20ms/step\n",
      ">3, 101/433, d=0.557, g=1.431\n",
      "1/1 [==============================] - 0s 17ms/step\n",
      ">3, 102/433, d=0.474, g=0.912\n",
      "1/1 [==============================] - 0s 20ms/step\n",
      ">3, 103/433, d=0.468, g=1.092\n",
      "1/1 [==============================] - 0s 27ms/step\n",
      ">3, 104/433, d=0.440, g=1.094\n",
      "1/1 [==============================] - 0s 20ms/step\n",
      ">3, 105/433, d=0.427, g=1.330\n",
      "1/1 [==============================] - 0s 22ms/step\n",
      ">3, 106/433, d=0.500, g=1.765\n",
      "1/1 [==============================] - 0s 22ms/step\n",
      ">3, 107/433, d=0.545, g=1.406\n",
      "1/1 [==============================] - 0s 23ms/step\n",
      ">3, 108/433, d=0.621, g=1.546\n",
      "1/1 [==============================] - 0s 20ms/step\n",
      ">3, 109/433, d=0.655, g=1.256\n",
      "1/1 [==============================] - 0s 21ms/step\n",
      ">3, 110/433, d=0.669, g=1.135\n",
      "1/1 [==============================] - 0s 20ms/step\n",
      ">3, 111/433, d=0.616, g=1.778\n",
      "1/1 [==============================] - 0s 23ms/step\n",
      ">3, 112/433, d=0.606, g=1.329\n",
      "1/1 [==============================] - 0s 50ms/step\n",
      ">3, 113/433, d=0.425, g=1.366\n",
      "1/1 [==============================] - 0s 23ms/step\n",
      ">3, 114/433, d=0.287, g=1.782\n",
      "1/1 [==============================] - 0s 45ms/step\n",
      ">3, 115/433, d=0.276, g=2.132\n",
      "1/1 [==============================] - 0s 21ms/step\n",
      ">3, 116/433, d=0.253, g=2.659\n",
      "1/1 [==============================] - 0s 57ms/step\n",
      ">3, 117/433, d=0.261, g=1.989\n",
      "1/1 [==============================] - 0s 20ms/step\n",
      ">3, 118/433, d=0.320, g=1.638\n",
      "1/1 [==============================] - 0s 59ms/step\n",
      ">3, 119/433, d=0.353, g=1.721\n",
      "1/1 [==============================] - 0s 35ms/step\n",
      ">3, 120/433, d=0.326, g=1.536\n",
      "1/1 [==============================] - 0s 74ms/step\n",
      ">3, 121/433, d=0.381, g=1.737\n",
      "1/1 [==============================] - 0s 48ms/step\n",
      ">3, 122/433, d=0.418, g=1.839\n",
      "1/1 [==============================] - 0s 51ms/step\n",
      ">3, 123/433, d=0.562, g=1.538\n",
      "1/1 [==============================] - 0s 51ms/step\n",
      ">3, 124/433, d=0.447, g=1.259\n",
      "1/1 [==============================] - 0s 55ms/step\n",
      ">3, 125/433, d=0.534, g=1.676\n",
      "1/1 [==============================] - 0s 44ms/step\n",
      ">3, 126/433, d=0.436, g=2.410\n",
      "1/1 [==============================] - 0s 50ms/step\n",
      ">3, 127/433, d=0.486, g=1.730\n",
      "1/1 [==============================] - 0s 36ms/step\n",
      ">3, 128/433, d=0.898, g=1.448\n",
      "1/1 [==============================] - 0s 47ms/step\n",
      ">3, 129/433, d=0.799, g=1.825\n",
      "1/1 [==============================] - 0s 22ms/step\n",
      ">3, 130/433, d=0.593, g=1.158\n",
      "1/1 [==============================] - 0s 21ms/step\n",
      ">3, 131/433, d=0.663, g=1.216\n",
      "1/1 [==============================] - 0s 21ms/step\n",
      ">3, 132/433, d=0.573, g=1.287\n",
      "1/1 [==============================] - 0s 25ms/step\n",
      ">3, 133/433, d=0.523, g=1.417\n",
      "1/1 [==============================] - 0s 23ms/step\n",
      ">3, 134/433, d=0.566, g=1.179\n",
      "1/1 [==============================] - 0s 21ms/step\n",
      ">3, 135/433, d=0.505, g=1.286\n",
      "1/1 [==============================] - 0s 26ms/step\n",
      ">3, 136/433, d=0.493, g=1.376\n",
      "1/1 [==============================] - 0s 19ms/step\n",
      ">3, 137/433, d=0.446, g=1.366\n",
      "1/1 [==============================] - 0s 19ms/step\n",
      ">3, 138/433, d=0.417, g=1.467\n",
      "1/1 [==============================] - 0s 21ms/step\n",
      ">3, 139/433, d=0.475, g=1.359\n",
      "1/1 [==============================] - 0s 19ms/step\n",
      ">3, 140/433, d=0.464, g=1.325\n",
      "1/1 [==============================] - 0s 18ms/step\n",
      ">3, 141/433, d=0.372, g=1.547\n",
      "1/1 [==============================] - 0s 20ms/step\n",
      ">3, 142/433, d=0.437, g=1.386\n",
      "1/1 [==============================] - 0s 19ms/step\n",
      ">3, 143/433, d=0.585, g=1.459\n",
      "1/1 [==============================] - 0s 20ms/step\n",
      ">3, 144/433, d=0.398, g=1.923\n",
      "1/1 [==============================] - 0s 24ms/step\n",
      ">3, 145/433, d=0.483, g=2.083\n",
      "1/1 [==============================] - 0s 19ms/step\n",
      ">3, 146/433, d=0.525, g=1.177\n",
      "1/1 [==============================] - 0s 20ms/step\n",
      ">3, 147/433, d=0.596, g=1.684\n",
      "1/1 [==============================] - 0s 20ms/step\n",
      ">3, 148/433, d=0.633, g=1.786\n",
      "1/1 [==============================] - 0s 19ms/step\n",
      ">3, 149/433, d=0.585, g=1.401\n",
      "1/1 [==============================] - 0s 20ms/step\n",
      ">3, 150/433, d=0.416, g=2.186\n",
      "1/1 [==============================] - 0s 24ms/step\n",
      ">3, 151/433, d=0.375, g=2.103\n",
      "1/1 [==============================] - 0s 20ms/step\n",
      ">3, 152/433, d=0.479, g=1.267\n",
      "1/1 [==============================] - 0s 21ms/step\n",
      ">3, 153/433, d=0.527, g=2.250\n",
      "1/1 [==============================] - 0s 20ms/step\n",
      ">3, 154/433, d=0.469, g=1.554\n",
      "1/1 [==============================] - 0s 22ms/step\n",
      ">3, 155/433, d=0.516, g=1.018\n",
      "1/1 [==============================] - 0s 27ms/step\n",
      ">3, 156/433, d=0.566, g=1.275\n",
      "1/1 [==============================] - 0s 20ms/step\n",
      ">3, 157/433, d=0.601, g=1.063\n",
      "1/1 [==============================] - 0s 18ms/step\n",
      ">3, 158/433, d=0.663, g=1.051\n",
      "1/1 [==============================] - 0s 19ms/step\n",
      ">3, 159/433, d=0.774, g=1.452\n",
      "1/1 [==============================] - 0s 19ms/step\n",
      ">3, 160/433, d=0.619, g=0.830\n",
      "1/1 [==============================] - 0s 19ms/step\n",
      ">3, 161/433, d=0.711, g=1.350\n",
      "1/1 [==============================] - 0s 21ms/step\n",
      ">3, 162/433, d=0.640, g=1.023\n",
      "1/1 [==============================] - 0s 25ms/step\n",
      ">3, 163/433, d=0.628, g=0.980\n",
      "1/1 [==============================] - 0s 19ms/step\n",
      ">3, 164/433, d=0.629, g=0.826\n",
      "1/1 [==============================] - 0s 30ms/step\n",
      ">3, 165/433, d=0.672, g=1.458\n",
      "1/1 [==============================] - 0s 47ms/step\n",
      ">3, 166/433, d=0.558, g=1.087\n",
      "1/1 [==============================] - 0s 21ms/step\n",
      ">3, 167/433, d=0.559, g=0.835\n",
      "1/1 [==============================] - 0s 25ms/step\n",
      ">3, 168/433, d=0.489, g=1.213\n",
      "1/1 [==============================] - 0s 19ms/step\n",
      ">3, 169/433, d=0.464, g=1.265\n",
      "1/1 [==============================] - 0s 20ms/step\n",
      ">3, 170/433, d=0.511, g=1.211\n",
      "1/1 [==============================] - 0s 22ms/step\n",
      ">3, 171/433, d=0.408, g=1.312\n",
      "1/1 [==============================] - 0s 17ms/step\n",
      ">3, 172/433, d=0.445, g=1.433\n",
      "1/1 [==============================] - 0s 19ms/step\n",
      ">3, 173/433, d=0.396, g=1.422\n",
      "1/1 [==============================] - 0s 21ms/step\n",
      ">3, 174/433, d=0.358, g=1.617\n",
      "1/1 [==============================] - 0s 20ms/step\n",
      ">3, 175/433, d=0.413, g=1.652\n",
      "1/1 [==============================] - 0s 19ms/step\n",
      ">3, 176/433, d=0.417, g=1.444\n",
      "1/1 [==============================] - 0s 20ms/step\n",
      ">3, 177/433, d=0.514, g=1.174\n",
      "1/1 [==============================] - 0s 20ms/step\n",
      ">3, 178/433, d=0.489, g=1.820\n",
      "1/1 [==============================] - 0s 21ms/step\n",
      ">3, 179/433, d=0.476, g=1.603\n",
      "1/1 [==============================] - 0s 19ms/step\n",
      ">3, 180/433, d=0.362, g=1.503\n",
      "1/1 [==============================] - 0s 21ms/step\n",
      ">3, 181/433, d=0.322, g=1.817\n",
      "1/1 [==============================] - 0s 20ms/step\n",
      ">3, 182/433, d=0.468, g=1.400\n",
      "1/1 [==============================] - 0s 21ms/step\n",
      ">3, 183/433, d=0.859, g=3.325\n",
      "1/1 [==============================] - 0s 20ms/step\n",
      ">3, 184/433, d=0.984, g=0.480\n",
      "1/1 [==============================] - 0s 22ms/step\n",
      ">3, 185/433, d=0.701, g=0.929\n",
      "1/1 [==============================] - 0s 22ms/step\n",
      ">3, 186/433, d=0.475, g=1.715\n",
      "1/1 [==============================] - 0s 20ms/step\n",
      ">3, 187/433, d=0.565, g=1.368\n",
      "1/1 [==============================] - 0s 25ms/step\n",
      ">3, 188/433, d=0.404, g=1.139\n",
      "1/1 [==============================] - 0s 19ms/step\n",
      ">3, 189/433, d=0.586, g=1.120\n",
      "1/1 [==============================] - 0s 20ms/step\n",
      ">3, 190/433, d=0.512, g=1.276\n",
      "1/1 [==============================] - 0s 23ms/step\n",
      ">3, 191/433, d=0.464, g=1.463\n",
      "1/1 [==============================] - 0s 23ms/step\n",
      ">3, 192/433, d=0.505, g=1.177\n",
      "1/1 [==============================] - 0s 18ms/step\n",
      ">3, 193/433, d=0.509, g=1.376\n",
      "1/1 [==============================] - 0s 20ms/step\n",
      ">3, 194/433, d=0.381, g=1.691\n",
      "1/1 [==============================] - 0s 25ms/step\n",
      ">3, 195/433, d=0.410, g=1.632\n",
      "1/1 [==============================] - 0s 19ms/step\n",
      ">3, 196/433, d=0.418, g=1.750\n",
      "1/1 [==============================] - 0s 20ms/step\n",
      ">3, 197/433, d=0.709, g=1.844\n",
      "1/1 [==============================] - 0s 19ms/step\n",
      ">3, 198/433, d=0.754, g=3.472\n",
      "1/1 [==============================] - 0s 20ms/step\n",
      ">3, 199/433, d=1.088, g=1.956\n",
      "1/1 [==============================] - 0s 24ms/step\n",
      ">3, 200/433, d=1.401, g=3.841\n",
      "1/1 [==============================] - 0s 21ms/step\n",
      ">3, 201/433, d=0.916, g=2.060\n",
      "1/1 [==============================] - 0s 20ms/step\n",
      ">3, 202/433, d=0.572, g=1.318\n",
      "1/1 [==============================] - 0s 22ms/step\n",
      ">3, 203/433, d=0.437, g=1.482\n",
      "1/1 [==============================] - 0s 22ms/step\n",
      ">3, 204/433, d=0.352, g=1.966\n",
      "1/1 [==============================] - 0s 19ms/step\n",
      ">3, 205/433, d=0.405, g=1.938\n",
      "1/1 [==============================] - 0s 19ms/step\n",
      ">3, 206/433, d=0.498, g=2.064\n",
      "1/1 [==============================] - 0s 20ms/step\n",
      ">3, 207/433, d=0.641, g=2.063\n",
      "1/1 [==============================] - 0s 19ms/step\n",
      ">3, 208/433, d=1.006, g=1.791\n",
      "1/1 [==============================] - 0s 23ms/step\n",
      ">3, 209/433, d=0.897, g=1.305\n",
      "1/1 [==============================] - 0s 23ms/step\n",
      ">3, 210/433, d=0.943, g=1.283\n",
      "1/1 [==============================] - 0s 19ms/step\n",
      ">3, 211/433, d=0.808, g=1.174\n",
      "1/1 [==============================] - 0s 21ms/step\n",
      ">3, 212/433, d=0.721, g=1.213\n",
      "1/1 [==============================] - 0s 21ms/step\n",
      ">3, 213/433, d=0.655, g=1.273\n",
      "1/1 [==============================] - 0s 21ms/step\n",
      ">3, 214/433, d=0.657, g=1.141\n",
      "1/1 [==============================] - 0s 20ms/step\n",
      ">3, 215/433, d=0.656, g=1.189\n",
      "1/1 [==============================] - 0s 25ms/step\n",
      ">3, 216/433, d=0.670, g=1.224\n",
      "1/1 [==============================] - 0s 21ms/step\n",
      ">3, 217/433, d=0.624, g=1.126\n",
      "1/1 [==============================] - 0s 21ms/step\n",
      ">3, 218/433, d=0.664, g=0.937\n",
      "1/1 [==============================] - 0s 23ms/step\n",
      ">3, 219/433, d=0.688, g=1.125\n",
      "1/1 [==============================] - 0s 21ms/step\n",
      ">3, 220/433, d=0.712, g=1.116\n",
      "1/1 [==============================] - 0s 30ms/step\n",
      ">3, 221/433, d=0.638, g=1.098\n",
      "1/1 [==============================] - 0s 18ms/step\n",
      ">3, 222/433, d=0.611, g=1.130\n",
      "1/1 [==============================] - 0s 22ms/step\n",
      ">3, 223/433, d=0.702, g=0.805\n",
      "1/1 [==============================] - 0s 18ms/step\n",
      ">3, 224/433, d=0.649, g=0.952\n",
      "1/1 [==============================] - 0s 19ms/step\n",
      ">3, 225/433, d=0.537, g=1.254\n",
      "1/1 [==============================] - 0s 28ms/step\n",
      ">3, 226/433, d=0.532, g=1.017\n",
      "1/1 [==============================] - 0s 19ms/step\n",
      ">3, 227/433, d=0.545, g=1.104\n",
      "1/1 [==============================] - 0s 22ms/step\n",
      ">3, 228/433, d=0.549, g=1.120\n",
      "1/1 [==============================] - 0s 19ms/step\n",
      ">3, 229/433, d=0.625, g=0.832\n",
      "1/1 [==============================] - 0s 21ms/step\n",
      ">3, 230/433, d=0.571, g=1.089\n",
      "1/1 [==============================] - 0s 18ms/step\n",
      ">3, 231/433, d=0.579, g=1.032\n",
      "1/1 [==============================] - 0s 20ms/step\n",
      ">3, 232/433, d=0.593, g=0.844\n",
      "1/1 [==============================] - 0s 20ms/step\n",
      ">3, 233/433, d=0.541, g=1.181\n",
      "1/1 [==============================] - 0s 22ms/step\n",
      ">3, 234/433, d=0.564, g=1.285\n",
      "1/1 [==============================] - 0s 20ms/step\n",
      ">3, 235/433, d=0.504, g=1.129\n",
      "1/1 [==============================] - 0s 19ms/step\n",
      ">3, 236/433, d=0.539, g=1.100\n",
      "1/1 [==============================] - 0s 23ms/step\n",
      ">3, 237/433, d=0.511, g=1.318\n",
      "1/1 [==============================] - 0s 19ms/step\n",
      ">3, 238/433, d=0.491, g=1.222\n",
      "1/1 [==============================] - 0s 20ms/step\n",
      ">3, 239/433, d=0.411, g=1.349\n",
      "1/1 [==============================] - 0s 19ms/step\n",
      ">3, 240/433, d=0.522, g=1.487\n",
      "1/1 [==============================] - 0s 24ms/step\n",
      ">3, 241/433, d=0.492, g=1.449\n",
      "1/1 [==============================] - 0s 26ms/step\n",
      ">3, 242/433, d=0.438, g=1.111\n",
      "1/1 [==============================] - 0s 21ms/step\n",
      ">3, 243/433, d=0.459, g=1.200\n",
      "1/1 [==============================] - 0s 20ms/step\n",
      ">3, 244/433, d=0.449, g=1.158\n",
      "1/1 [==============================] - 0s 18ms/step\n",
      ">3, 245/433, d=0.500, g=1.777\n",
      "1/1 [==============================] - 0s 19ms/step\n",
      ">3, 246/433, d=0.657, g=1.256\n",
      "1/1 [==============================] - 0s 18ms/step\n",
      ">3, 247/433, d=0.667, g=1.145\n",
      "1/1 [==============================] - 0s 20ms/step\n",
      ">3, 248/433, d=0.448, g=1.477\n",
      "1/1 [==============================] - 0s 51ms/step\n",
      ">3, 249/433, d=0.513, g=1.349\n",
      "1/1 [==============================] - 0s 22ms/step\n",
      ">3, 250/433, d=0.521, g=1.054\n",
      "1/1 [==============================] - 0s 46ms/step\n",
      ">3, 251/433, d=0.518, g=1.549\n",
      "1/1 [==============================] - 0s 25ms/step\n",
      ">3, 252/433, d=0.445, g=1.308\n",
      "1/1 [==============================] - 0s 24ms/step\n",
      ">3, 253/433, d=0.388, g=1.348\n",
      "1/1 [==============================] - 0s 20ms/step\n",
      ">3, 254/433, d=0.445, g=1.314\n",
      "1/1 [==============================] - 0s 22ms/step\n",
      ">3, 255/433, d=0.432, g=1.582\n",
      "1/1 [==============================] - 0s 19ms/step\n",
      ">3, 256/433, d=0.444, g=1.505\n",
      "1/1 [==============================] - 0s 21ms/step\n",
      ">3, 257/433, d=0.456, g=1.322\n",
      "1/1 [==============================] - 0s 19ms/step\n",
      ">3, 258/433, d=0.491, g=1.446\n",
      "1/1 [==============================] - 0s 22ms/step\n",
      ">3, 259/433, d=0.504, g=0.948\n",
      "1/1 [==============================] - 0s 19ms/step\n",
      ">3, 260/433, d=0.598, g=2.724\n",
      "1/1 [==============================] - 0s 22ms/step\n",
      ">3, 261/433, d=0.700, g=1.269\n",
      "1/1 [==============================] - 0s 20ms/step\n",
      ">3, 262/433, d=0.378, g=1.298\n",
      "1/1 [==============================] - 0s 19ms/step\n",
      ">3, 263/433, d=0.421, g=1.853\n",
      "1/1 [==============================] - 0s 20ms/step\n",
      ">3, 264/433, d=0.336, g=2.006\n",
      "1/1 [==============================] - 0s 19ms/step\n",
      ">3, 265/433, d=0.299, g=1.579\n",
      "1/1 [==============================] - 0s 21ms/step\n",
      ">3, 266/433, d=0.327, g=1.590\n",
      "1/1 [==============================] - 0s 19ms/step\n",
      ">3, 267/433, d=0.308, g=1.689\n",
      "1/1 [==============================] - 0s 23ms/step\n",
      ">3, 268/433, d=0.369, g=1.691\n",
      "1/1 [==============================] - 0s 21ms/step\n",
      ">3, 269/433, d=0.314, g=1.757\n",
      "1/1 [==============================] - 0s 22ms/step\n",
      ">3, 270/433, d=0.354, g=1.966\n",
      "1/1 [==============================] - 0s 21ms/step\n",
      ">3, 271/433, d=0.454, g=2.010\n",
      "1/1 [==============================] - 0s 23ms/step\n",
      ">3, 272/433, d=0.619, g=1.127\n",
      "1/1 [==============================] - 0s 18ms/step\n",
      ">3, 273/433, d=0.707, g=4.098\n",
      "1/1 [==============================] - 0s 20ms/step\n",
      ">3, 274/433, d=0.967, g=1.492\n",
      "1/1 [==============================] - 0s 20ms/step\n",
      ">3, 275/433, d=0.510, g=1.436\n",
      "1/1 [==============================] - 0s 19ms/step\n",
      ">3, 276/433, d=0.519, g=1.932\n",
      "1/1 [==============================] - 0s 19ms/step\n",
      ">3, 277/433, d=0.539, g=2.238\n",
      "1/1 [==============================] - 0s 18ms/step\n",
      ">3, 278/433, d=0.497, g=2.449\n",
      "1/1 [==============================] - 0s 18ms/step\n",
      ">3, 279/433, d=0.408, g=2.008\n",
      "1/1 [==============================] - 0s 19ms/step\n",
      ">3, 280/433, d=0.453, g=1.310\n",
      "1/1 [==============================] - 0s 20ms/step\n",
      ">3, 281/433, d=0.432, g=1.189\n",
      "1/1 [==============================] - 0s 18ms/step\n",
      ">3, 282/433, d=0.521, g=1.431\n",
      "1/1 [==============================] - 0s 20ms/step\n",
      ">3, 283/433, d=0.650, g=1.623\n",
      "1/1 [==============================] - 0s 25ms/step\n",
      ">3, 284/433, d=0.634, g=1.136\n",
      "1/1 [==============================] - 0s 26ms/step\n",
      ">3, 285/433, d=0.513, g=1.297\n",
      "1/1 [==============================] - 0s 18ms/step\n",
      ">3, 286/433, d=0.643, g=1.221\n",
      "1/1 [==============================] - 0s 20ms/step\n",
      ">3, 287/433, d=0.490, g=1.310\n",
      "1/1 [==============================] - 0s 21ms/step\n",
      ">3, 288/433, d=0.496, g=1.301\n",
      "1/1 [==============================] - 0s 18ms/step\n",
      ">3, 289/433, d=0.574, g=1.116\n",
      "1/1 [==============================] - 0s 21ms/step\n",
      ">3, 290/433, d=0.513, g=1.112\n",
      "1/1 [==============================] - 0s 20ms/step\n",
      ">3, 291/433, d=0.506, g=1.513\n",
      "1/1 [==============================] - 0s 21ms/step\n",
      ">3, 292/433, d=0.554, g=1.135\n",
      "1/1 [==============================] - 0s 20ms/step\n",
      ">3, 293/433, d=0.562, g=1.074\n",
      "1/1 [==============================] - 0s 24ms/step\n",
      ">3, 294/433, d=0.515, g=1.198\n",
      "1/1 [==============================] - 0s 19ms/step\n",
      ">3, 295/433, d=0.518, g=1.352\n",
      "1/1 [==============================] - 0s 21ms/step\n",
      ">3, 296/433, d=0.638, g=1.550\n",
      "1/1 [==============================] - 0s 21ms/step\n",
      ">3, 297/433, d=0.667, g=1.392\n",
      "1/1 [==============================] - 0s 20ms/step\n",
      ">3, 298/433, d=0.747, g=1.611\n",
      "1/1 [==============================] - 0s 21ms/step\n",
      ">3, 299/433, d=0.772, g=1.934\n",
      "1/1 [==============================] - 0s 19ms/step\n",
      ">3, 300/433, d=0.716, g=1.932\n",
      "1/1 [==============================] - 0s 21ms/step\n",
      ">3, 301/433, d=0.569, g=1.202\n",
      "1/1 [==============================] - 0s 21ms/step\n",
      ">3, 302/433, d=0.477, g=1.265\n",
      "1/1 [==============================] - 0s 21ms/step\n",
      ">3, 303/433, d=0.520, g=1.540\n",
      "1/1 [==============================] - 0s 22ms/step\n",
      ">3, 304/433, d=0.632, g=1.668\n",
      "1/1 [==============================] - 0s 22ms/step\n",
      ">3, 305/433, d=0.658, g=1.531\n",
      "1/1 [==============================] - 0s 20ms/step\n",
      ">3, 306/433, d=0.551, g=1.372\n",
      "1/1 [==============================] - 0s 22ms/step\n",
      ">3, 307/433, d=0.578, g=1.401\n",
      "1/1 [==============================] - 0s 23ms/step\n",
      ">3, 308/433, d=0.512, g=1.430\n",
      "1/1 [==============================] - 0s 23ms/step\n",
      ">3, 309/433, d=0.421, g=1.451\n",
      "1/1 [==============================] - 0s 20ms/step\n",
      ">3, 310/433, d=0.415, g=1.725\n",
      "1/1 [==============================] - 0s 20ms/step\n",
      ">3, 311/433, d=0.375, g=1.546\n",
      "1/1 [==============================] - 0s 21ms/step\n",
      ">3, 312/433, d=0.551, g=0.931\n",
      "1/1 [==============================] - 0s 20ms/step\n",
      ">3, 313/433, d=0.433, g=1.203\n",
      "1/1 [==============================] - 0s 25ms/step\n",
      ">3, 314/433, d=0.388, g=1.792\n",
      "1/1 [==============================] - 0s 20ms/step\n",
      ">3, 315/433, d=0.515, g=1.423\n",
      "1/1 [==============================] - 0s 20ms/step\n",
      ">3, 316/433, d=0.621, g=1.832\n",
      "1/1 [==============================] - 0s 20ms/step\n",
      ">3, 317/433, d=0.603, g=2.017\n",
      "1/1 [==============================] - 0s 19ms/step\n",
      ">3, 318/433, d=0.574, g=1.419\n",
      "1/1 [==============================] - 0s 20ms/step\n",
      ">3, 319/433, d=0.849, g=0.851\n",
      "1/1 [==============================] - 0s 22ms/step\n",
      ">3, 320/433, d=0.711, g=1.522\n",
      "1/1 [==============================] - 0s 19ms/step\n",
      ">3, 321/433, d=0.727, g=1.166\n",
      "1/1 [==============================] - 0s 22ms/step\n",
      ">3, 322/433, d=0.974, g=0.581\n",
      "1/1 [==============================] - 0s 20ms/step\n",
      ">3, 323/433, d=0.784, g=0.598\n",
      "1/1 [==============================] - 0s 26ms/step\n",
      ">3, 324/433, d=0.650, g=0.937\n",
      "1/1 [==============================] - 0s 23ms/step\n",
      ">3, 325/433, d=0.541, g=1.206\n",
      "1/1 [==============================] - 0s 22ms/step\n",
      ">3, 326/433, d=0.633, g=1.111\n",
      "1/1 [==============================] - 0s 18ms/step\n",
      ">3, 327/433, d=0.583, g=1.006\n",
      "1/1 [==============================] - 0s 23ms/step\n",
      ">3, 328/433, d=0.529, g=1.238\n",
      "1/1 [==============================] - 0s 18ms/step\n",
      ">3, 329/433, d=0.454, g=1.186\n",
      "1/1 [==============================] - 0s 20ms/step\n",
      ">3, 330/433, d=0.558, g=1.205\n",
      "1/1 [==============================] - 0s 23ms/step\n",
      ">3, 331/433, d=0.498, g=1.347\n",
      "1/1 [==============================] - 0s 19ms/step\n",
      ">3, 332/433, d=0.383, g=1.438\n",
      "1/1 [==============================] - 0s 18ms/step\n",
      ">3, 333/433, d=0.374, g=1.589\n",
      "1/1 [==============================] - 0s 19ms/step\n",
      ">3, 334/433, d=0.310, g=1.607\n",
      "1/1 [==============================] - 0s 19ms/step\n",
      ">3, 335/433, d=0.369, g=1.849\n",
      "1/1 [==============================] - 0s 23ms/step\n",
      ">3, 336/433, d=0.354, g=2.023\n",
      "1/1 [==============================] - 0s 19ms/step\n",
      ">3, 337/433, d=0.306, g=1.953\n",
      "1/1 [==============================] - 0s 21ms/step\n",
      ">3, 338/433, d=0.318, g=2.181\n",
      "1/1 [==============================] - 0s 20ms/step\n",
      ">3, 339/433, d=0.339, g=1.957\n",
      "1/1 [==============================] - 0s 20ms/step\n",
      ">3, 340/433, d=0.445, g=1.556\n",
      "1/1 [==============================] - 0s 18ms/step\n",
      ">3, 341/433, d=0.453, g=1.503\n",
      "1/1 [==============================] - 0s 20ms/step\n",
      ">3, 342/433, d=0.351, g=1.614\n",
      "1/1 [==============================] - 0s 21ms/step\n",
      ">3, 343/433, d=0.528, g=1.492\n",
      "1/1 [==============================] - 0s 21ms/step\n",
      ">3, 344/433, d=0.553, g=1.969\n",
      "1/1 [==============================] - 0s 20ms/step\n",
      ">3, 345/433, d=0.528, g=1.438\n",
      "1/1 [==============================] - 0s 22ms/step\n",
      ">3, 346/433, d=0.606, g=1.793\n",
      "1/1 [==============================] - 0s 19ms/step\n",
      ">3, 347/433, d=0.836, g=0.741\n",
      "1/1 [==============================] - 0s 19ms/step\n",
      ">3, 348/433, d=0.714, g=2.927\n",
      "1/1 [==============================] - 0s 21ms/step\n",
      ">3, 349/433, d=0.770, g=1.956\n",
      "1/1 [==============================] - 0s 22ms/step\n",
      ">3, 350/433, d=0.409, g=1.242\n",
      "1/1 [==============================] - 0s 20ms/step\n",
      ">3, 351/433, d=0.522, g=1.262\n",
      "1/1 [==============================] - 0s 22ms/step\n",
      ">3, 352/433, d=0.423, g=1.676\n",
      "1/1 [==============================] - 0s 23ms/step\n",
      ">3, 353/433, d=0.527, g=1.708\n",
      "1/1 [==============================] - 0s 20ms/step\n",
      ">3, 354/433, d=0.524, g=1.411\n",
      "1/1 [==============================] - 0s 19ms/step\n",
      ">3, 355/433, d=0.583, g=1.511\n",
      "1/1 [==============================] - 0s 17ms/step\n",
      ">3, 356/433, d=0.718, g=1.469\n",
      "1/1 [==============================] - 0s 21ms/step\n",
      ">3, 357/433, d=0.653, g=0.966\n",
      "1/1 [==============================] - 0s 20ms/step\n",
      ">3, 358/433, d=0.914, g=0.977\n",
      "1/1 [==============================] - 0s 22ms/step\n",
      ">3, 359/433, d=0.999, g=1.311\n",
      "1/1 [==============================] - 0s 19ms/step\n",
      ">3, 360/433, d=0.724, g=1.226\n",
      "1/1 [==============================] - 0s 19ms/step\n",
      ">3, 361/433, d=0.768, g=1.509\n",
      "1/1 [==============================] - 0s 18ms/step\n",
      ">3, 362/433, d=0.716, g=1.545\n",
      "1/1 [==============================] - 0s 21ms/step\n",
      ">3, 363/433, d=0.716, g=1.033\n",
      "1/1 [==============================] - 0s 25ms/step\n",
      ">3, 364/433, d=0.648, g=1.117\n",
      "1/1 [==============================] - 0s 22ms/step\n",
      ">3, 365/433, d=0.585, g=1.429\n",
      "1/1 [==============================] - 0s 19ms/step\n",
      ">3, 366/433, d=0.555, g=1.568\n",
      "1/1 [==============================] - 0s 21ms/step\n",
      ">3, 367/433, d=0.507, g=1.211\n",
      "1/1 [==============================] - 0s 20ms/step\n",
      ">3, 368/433, d=0.450, g=1.246\n",
      "1/1 [==============================] - 0s 17ms/step\n",
      ">3, 369/433, d=0.462, g=1.278\n",
      "1/1 [==============================] - 0s 21ms/step\n",
      ">3, 370/433, d=0.392, g=1.470\n",
      "1/1 [==============================] - 0s 24ms/step\n",
      ">3, 371/433, d=0.441, g=1.558\n",
      "1/1 [==============================] - 0s 24ms/step\n",
      ">3, 372/433, d=0.370, g=1.449\n",
      "1/1 [==============================] - 0s 28ms/step\n",
      ">3, 373/433, d=0.352, g=1.372\n",
      "1/1 [==============================] - 0s 41ms/step\n",
      ">3, 374/433, d=0.342, g=1.430\n",
      "1/1 [==============================] - 0s 23ms/step\n",
      ">3, 375/433, d=0.296, g=1.458\n",
      "1/1 [==============================] - 0s 27ms/step\n",
      ">3, 376/433, d=0.344, g=1.532\n",
      "1/1 [==============================] - 0s 30ms/step\n",
      ">3, 377/433, d=0.379, g=1.682\n",
      "1/1 [==============================] - 0s 25ms/step\n",
      ">3, 378/433, d=0.358, g=1.887\n",
      "1/1 [==============================] - 0s 24ms/step\n",
      ">3, 379/433, d=0.416, g=1.804\n",
      "1/1 [==============================] - 0s 24ms/step\n",
      ">3, 380/433, d=0.407, g=1.936\n",
      "1/1 [==============================] - 0s 23ms/step\n",
      ">3, 381/433, d=0.638, g=1.281\n",
      "1/1 [==============================] - 0s 22ms/step\n",
      ">3, 382/433, d=0.564, g=1.339\n",
      "1/1 [==============================] - 0s 22ms/step\n",
      ">3, 383/433, d=0.630, g=1.260\n",
      "1/1 [==============================] - 0s 18ms/step\n",
      ">3, 384/433, d=0.612, g=2.423\n",
      "1/1 [==============================] - 0s 25ms/step\n",
      ">3, 385/433, d=0.726, g=1.388\n",
      "1/1 [==============================] - 0s 21ms/step\n",
      ">3, 386/433, d=0.616, g=0.957\n",
      "1/1 [==============================] - 0s 22ms/step\n",
      ">3, 387/433, d=0.625, g=1.334\n",
      "1/1 [==============================] - 0s 18ms/step\n",
      ">3, 388/433, d=0.761, g=1.126\n",
      "1/1 [==============================] - 0s 19ms/step\n",
      ">3, 389/433, d=0.776, g=1.458\n",
      "1/1 [==============================] - 0s 18ms/step\n",
      ">3, 390/433, d=0.645, g=1.284\n",
      "1/1 [==============================] - 0s 20ms/step\n",
      ">3, 391/433, d=0.656, g=1.988\n",
      "1/1 [==============================] - 0s 18ms/step\n",
      ">3, 392/433, d=0.579, g=1.627\n",
      "1/1 [==============================] - 0s 26ms/step\n",
      ">3, 393/433, d=0.445, g=1.594\n",
      "1/1 [==============================] - 0s 26ms/step\n",
      ">3, 394/433, d=0.516, g=1.829\n",
      "1/1 [==============================] - 0s 26ms/step\n",
      ">3, 395/433, d=0.482, g=1.699\n",
      "1/1 [==============================] - 0s 22ms/step\n",
      ">3, 396/433, d=0.493, g=1.383\n",
      "1/1 [==============================] - 0s 19ms/step\n",
      ">3, 397/433, d=0.467, g=1.186\n",
      "1/1 [==============================] - 0s 24ms/step\n",
      ">3, 398/433, d=0.470, g=1.299\n",
      "1/1 [==============================] - 0s 25ms/step\n",
      ">3, 399/433, d=0.447, g=1.361\n",
      "1/1 [==============================] - 0s 18ms/step\n",
      ">3, 400/433, d=0.450, g=1.406\n",
      "1/1 [==============================] - 0s 24ms/step\n",
      ">3, 401/433, d=0.404, g=1.240\n",
      "1/1 [==============================] - 0s 20ms/step\n",
      ">3, 402/433, d=0.518, g=1.448\n",
      "1/1 [==============================] - 0s 21ms/step\n",
      ">3, 403/433, d=0.501, g=1.484\n",
      "1/1 [==============================] - 0s 19ms/step\n",
      ">3, 404/433, d=0.453, g=1.363\n",
      "1/1 [==============================] - 0s 18ms/step\n",
      ">3, 405/433, d=0.448, g=1.310\n",
      "1/1 [==============================] - 0s 20ms/step\n",
      ">3, 406/433, d=0.388, g=1.408\n",
      "1/1 [==============================] - 0s 20ms/step\n",
      ">3, 407/433, d=0.463, g=1.273\n",
      "1/1 [==============================] - 0s 20ms/step\n",
      ">3, 408/433, d=0.554, g=1.253\n",
      "1/1 [==============================] - 0s 20ms/step\n",
      ">3, 409/433, d=0.490, g=1.503\n",
      "1/1 [==============================] - 0s 20ms/step\n",
      ">3, 410/433, d=0.512, g=1.472\n",
      "1/1 [==============================] - 0s 20ms/step\n",
      ">3, 411/433, d=0.635, g=1.137\n",
      "1/1 [==============================] - 0s 20ms/step\n",
      ">3, 412/433, d=0.566, g=0.925\n",
      "1/1 [==============================] - 0s 21ms/step\n",
      ">3, 413/433, d=0.821, g=1.213\n",
      "1/1 [==============================] - 0s 19ms/step\n",
      ">3, 414/433, d=0.750, g=1.093\n",
      "1/1 [==============================] - 0s 18ms/step\n",
      ">3, 415/433, d=0.745, g=0.825\n",
      "1/1 [==============================] - 0s 18ms/step\n",
      ">3, 416/433, d=0.646, g=0.968\n",
      "1/1 [==============================] - 0s 20ms/step\n",
      ">3, 417/433, d=0.646, g=1.058\n",
      "1/1 [==============================] - 0s 20ms/step\n",
      ">3, 418/433, d=0.605, g=0.972\n",
      "1/1 [==============================] - 0s 18ms/step\n",
      ">3, 419/433, d=0.643, g=1.014\n",
      "1/1 [==============================] - 0s 24ms/step\n",
      ">3, 420/433, d=0.608, g=0.913\n",
      "1/1 [==============================] - 0s 22ms/step\n",
      ">3, 421/433, d=0.559, g=0.976\n",
      "1/1 [==============================] - 0s 19ms/step\n",
      ">3, 422/433, d=0.497, g=1.205\n",
      "1/1 [==============================] - 0s 22ms/step\n",
      ">3, 423/433, d=0.474, g=1.221\n",
      "1/1 [==============================] - 0s 21ms/step\n",
      ">3, 424/433, d=0.468, g=1.216\n",
      "1/1 [==============================] - 0s 20ms/step\n",
      ">3, 425/433, d=0.626, g=1.361\n",
      "1/1 [==============================] - 0s 22ms/step\n",
      ">3, 426/433, d=0.628, g=1.457\n",
      "1/1 [==============================] - 0s 21ms/step\n",
      ">3, 427/433, d=0.634, g=1.486\n",
      "1/1 [==============================] - 0s 19ms/step\n",
      ">3, 428/433, d=0.820, g=1.466\n",
      "1/1 [==============================] - 0s 19ms/step\n",
      ">3, 429/433, d=0.680, g=1.539\n",
      "1/1 [==============================] - 0s 18ms/step\n",
      ">3, 430/433, d=0.608, g=1.577\n",
      "1/1 [==============================] - 0s 22ms/step\n",
      ">3, 431/433, d=0.497, g=1.369\n",
      "1/1 [==============================] - 0s 20ms/step\n",
      ">3, 432/433, d=0.572, g=1.333\n",
      "1/1 [==============================] - 0s 20ms/step\n",
      ">3, 433/433, d=0.460, g=1.222\n",
      "1/1 [==============================] - 0s 33ms/step\n",
      ">4, 1/433, d=0.494, g=1.129\n",
      "1/1 [==============================] - 0s 24ms/step\n",
      ">4, 2/433, d=0.465, g=1.162\n",
      "1/1 [==============================] - 0s 19ms/step\n",
      ">4, 3/433, d=0.556, g=1.381\n",
      "1/1 [==============================] - 0s 21ms/step\n",
      ">4, 4/433, d=0.598, g=1.398\n",
      "1/1 [==============================] - 0s 19ms/step\n",
      ">4, 5/433, d=0.585, g=1.387\n",
      "1/1 [==============================] - 0s 20ms/step\n",
      ">4, 6/433, d=0.756, g=1.511\n",
      "1/1 [==============================] - 0s 19ms/step\n",
      ">4, 7/433, d=0.708, g=1.268\n",
      "1/1 [==============================] - 0s 24ms/step\n",
      ">4, 8/433, d=0.801, g=1.646\n",
      "1/1 [==============================] - 0s 19ms/step\n",
      ">4, 9/433, d=0.510, g=1.734\n",
      "1/1 [==============================] - 0s 22ms/step\n",
      ">4, 10/433, d=0.371, g=1.681\n",
      "1/1 [==============================] - 0s 22ms/step\n",
      ">4, 11/433, d=0.335, g=1.598\n",
      "1/1 [==============================] - 0s 21ms/step\n",
      ">4, 12/433, d=0.318, g=1.646\n",
      "1/1 [==============================] - 0s 20ms/step\n",
      ">4, 13/433, d=0.358, g=1.647\n",
      "1/1 [==============================] - 0s 25ms/step\n",
      ">4, 14/433, d=0.279, g=2.034\n",
      "1/1 [==============================] - 0s 25ms/step\n",
      ">4, 15/433, d=0.713, g=2.347\n",
      "1/1 [==============================] - 0s 18ms/step\n",
      ">4, 16/433, d=1.883, g=3.367\n",
      "1/1 [==============================] - 0s 21ms/step\n",
      ">4, 17/433, d=1.087, g=2.281\n",
      "1/1 [==============================] - 0s 20ms/step\n",
      ">4, 18/433, d=0.598, g=2.418\n",
      "1/1 [==============================] - 0s 20ms/step\n",
      ">4, 19/433, d=0.376, g=2.115\n",
      "1/1 [==============================] - 0s 19ms/step\n",
      ">4, 20/433, d=0.423, g=1.263\n",
      "1/1 [==============================] - 0s 21ms/step\n",
      ">4, 21/433, d=0.558, g=1.141\n",
      "1/1 [==============================] - 0s 18ms/step\n",
      ">4, 22/433, d=0.489, g=1.139\n",
      "1/1 [==============================] - 0s 19ms/step\n",
      ">4, 23/433, d=0.492, g=1.384\n",
      "1/1 [==============================] - 0s 66ms/step\n",
      ">4, 24/433, d=0.539, g=1.514\n",
      "1/1 [==============================] - 0s 20ms/step\n",
      ">4, 25/433, d=0.622, g=1.246\n",
      "1/1 [==============================] - 0s 50ms/step\n",
      ">4, 26/433, d=0.586, g=1.238\n",
      "1/1 [==============================] - 0s 23ms/step\n",
      ">4, 27/433, d=0.550, g=1.054\n",
      "1/1 [==============================] - 0s 18ms/step\n",
      ">4, 28/433, d=0.673, g=1.305\n",
      "1/1 [==============================] - 0s 18ms/step\n",
      ">4, 29/433, d=0.613, g=1.169\n",
      "1/1 [==============================] - 0s 19ms/step\n",
      ">4, 30/433, d=0.708, g=0.957\n",
      "1/1 [==============================] - 0s 29ms/step\n",
      ">4, 31/433, d=0.709, g=0.803\n",
      "1/1 [==============================] - 0s 22ms/step\n",
      ">4, 32/433, d=0.637, g=0.933\n",
      "1/1 [==============================] - 0s 19ms/step\n",
      ">4, 33/433, d=0.629, g=0.905\n",
      "1/1 [==============================] - 0s 20ms/step\n",
      ">4, 34/433, d=0.592, g=1.141\n",
      "1/1 [==============================] - 0s 24ms/step\n",
      ">4, 35/433, d=0.543, g=1.196\n",
      "1/1 [==============================] - 0s 21ms/step\n",
      ">4, 36/433, d=0.580, g=1.185\n",
      "1/1 [==============================] - 0s 20ms/step\n",
      ">4, 37/433, d=0.492, g=1.438\n",
      "1/1 [==============================] - 0s 19ms/step\n",
      ">4, 38/433, d=0.498, g=1.248\n",
      "1/1 [==============================] - 0s 20ms/step\n",
      ">4, 39/433, d=0.550, g=1.423\n",
      "1/1 [==============================] - 0s 18ms/step\n",
      ">4, 40/433, d=0.690, g=1.060\n",
      "1/1 [==============================] - 0s 19ms/step\n",
      ">4, 41/433, d=0.590, g=1.362\n",
      "1/1 [==============================] - 0s 22ms/step\n",
      ">4, 42/433, d=0.621, g=1.507\n",
      "1/1 [==============================] - 0s 27ms/step\n",
      ">4, 43/433, d=0.552, g=1.328\n",
      "1/1 [==============================] - 0s 19ms/step\n",
      ">4, 44/433, d=0.613, g=1.144\n",
      "1/1 [==============================] - 0s 41ms/step\n",
      ">4, 45/433, d=0.596, g=1.021\n",
      "1/1 [==============================] - 0s 19ms/step\n",
      ">4, 46/433, d=0.520, g=1.380\n",
      "1/1 [==============================] - 0s 50ms/step\n",
      ">4, 47/433, d=0.460, g=1.255\n",
      "1/1 [==============================] - 0s 21ms/step\n",
      ">4, 48/433, d=0.497, g=1.180\n",
      "1/1 [==============================] - 0s 57ms/step\n",
      ">4, 49/433, d=0.432, g=1.316\n",
      "1/1 [==============================] - 0s 26ms/step\n",
      ">4, 50/433, d=0.487, g=1.393\n",
      "1/1 [==============================] - 0s 23ms/step\n",
      ">4, 51/433, d=0.469, g=1.530\n",
      "1/1 [==============================] - 0s 21ms/step\n",
      ">4, 52/433, d=0.433, g=1.348\n",
      "1/1 [==============================] - 0s 22ms/step\n",
      ">4, 53/433, d=0.552, g=0.956\n",
      "1/1 [==============================] - 0s 20ms/step\n",
      ">4, 54/433, d=0.720, g=1.469\n",
      "1/1 [==============================] - 0s 22ms/step\n",
      ">4, 55/433, d=0.559, g=1.531\n",
      "1/1 [==============================] - 0s 21ms/step\n",
      ">4, 56/433, d=0.561, g=0.993\n",
      "1/1 [==============================] - 0s 24ms/step\n",
      ">4, 57/433, d=0.547, g=0.889\n",
      "1/1 [==============================] - 0s 19ms/step\n",
      ">4, 58/433, d=0.510, g=1.165\n",
      "1/1 [==============================] - 0s 22ms/step\n",
      ">4, 59/433, d=0.536, g=1.450\n",
      "1/1 [==============================] - 0s 21ms/step\n",
      ">4, 60/433, d=0.580, g=1.511\n",
      "1/1 [==============================] - 0s 19ms/step\n",
      ">4, 61/433, d=0.615, g=1.299\n",
      "1/1 [==============================] - 0s 23ms/step\n",
      ">4, 62/433, d=0.637, g=2.080\n",
      "1/1 [==============================] - 0s 20ms/step\n",
      ">4, 63/433, d=0.702, g=0.757\n",
      "1/1 [==============================] - 0s 22ms/step\n",
      ">4, 64/433, d=0.668, g=1.760\n",
      "1/1 [==============================] - 0s 22ms/step\n",
      ">4, 65/433, d=0.433, g=2.873\n",
      "1/1 [==============================] - 0s 20ms/step\n",
      ">4, 66/433, d=0.525, g=1.429\n",
      "1/1 [==============================] - 0s 22ms/step\n",
      ">4, 67/433, d=0.449, g=1.065\n",
      "1/1 [==============================] - 0s 19ms/step\n",
      ">4, 68/433, d=0.588, g=1.275\n",
      "1/1 [==============================] - 0s 22ms/step\n",
      ">4, 69/433, d=0.386, g=2.162\n",
      "1/1 [==============================] - 0s 18ms/step\n",
      ">4, 70/433, d=0.434, g=1.786\n",
      "1/1 [==============================] - 0s 23ms/step\n",
      ">4, 71/433, d=0.485, g=1.028\n",
      "1/1 [==============================] - 0s 18ms/step\n",
      ">4, 72/433, d=0.417, g=1.301\n",
      "1/1 [==============================] - 0s 19ms/step\n",
      ">4, 73/433, d=0.595, g=1.625\n",
      "1/1 [==============================] - 0s 20ms/step\n",
      ">4, 74/433, d=0.530, g=1.985\n",
      "1/1 [==============================] - 0s 22ms/step\n",
      ">4, 75/433, d=0.766, g=1.131\n",
      "1/1 [==============================] - 0s 19ms/step\n",
      ">4, 76/433, d=0.681, g=2.047\n",
      "1/1 [==============================] - 0s 20ms/step\n",
      ">4, 77/433, d=0.679, g=1.650\n",
      "1/1 [==============================] - 0s 20ms/step\n",
      ">4, 78/433, d=0.661, g=1.534\n",
      "1/1 [==============================] - 0s 22ms/step\n",
      ">4, 79/433, d=0.690, g=1.527\n",
      "1/1 [==============================] - 0s 18ms/step\n",
      ">4, 80/433, d=0.438, g=1.779\n",
      "1/1 [==============================] - 0s 19ms/step\n",
      ">4, 81/433, d=0.454, g=1.509\n",
      "1/1 [==============================] - 0s 19ms/step\n",
      ">4, 82/433, d=0.370, g=1.517\n",
      "1/1 [==============================] - 0s 20ms/step\n",
      ">4, 83/433, d=0.357, g=1.597\n",
      "1/1 [==============================] - 0s 19ms/step\n",
      ">4, 84/433, d=0.464, g=1.472\n",
      "1/1 [==============================] - 0s 22ms/step\n",
      ">4, 85/433, d=0.428, g=1.733\n",
      "1/1 [==============================] - 0s 25ms/step\n",
      ">4, 86/433, d=0.405, g=1.410\n",
      "1/1 [==============================] - 0s 22ms/step\n",
      ">4, 87/433, d=0.386, g=1.365\n",
      "1/1 [==============================] - 0s 20ms/step\n",
      ">4, 88/433, d=0.464, g=1.687\n",
      "1/1 [==============================] - 0s 21ms/step\n",
      ">4, 89/433, d=0.536, g=1.694\n",
      "1/1 [==============================] - 0s 21ms/step\n",
      ">4, 90/433, d=0.553, g=1.515\n",
      "1/1 [==============================] - 0s 20ms/step\n",
      ">4, 91/433, d=0.583, g=1.337\n",
      "1/1 [==============================] - 0s 20ms/step\n",
      ">4, 92/433, d=0.662, g=1.330\n",
      "1/1 [==============================] - 0s 23ms/step\n",
      ">4, 93/433, d=0.672, g=1.077\n",
      "1/1 [==============================] - 0s 19ms/step\n",
      ">4, 94/433, d=0.644, g=1.400\n",
      "1/1 [==============================] - 0s 17ms/step\n",
      ">4, 95/433, d=0.608, g=1.722\n",
      "1/1 [==============================] - 0s 20ms/step\n",
      ">4, 96/433, d=0.709, g=0.967\n",
      "1/1 [==============================] - 0s 22ms/step\n",
      ">4, 97/433, d=0.645, g=1.390\n",
      "1/1 [==============================] - 0s 20ms/step\n",
      ">4, 98/433, d=0.666, g=1.228\n",
      "1/1 [==============================] - 0s 22ms/step\n",
      ">4, 99/433, d=0.633, g=0.746\n",
      "1/1 [==============================] - 0s 21ms/step\n",
      ">4, 100/433, d=0.713, g=1.470\n",
      "1/1 [==============================] - 0s 21ms/step\n",
      ">4, 101/433, d=0.572, g=1.102\n",
      "1/1 [==============================] - 0s 19ms/step\n",
      ">4, 102/433, d=0.520, g=0.922\n",
      "1/1 [==============================] - 0s 20ms/step\n",
      ">4, 103/433, d=0.575, g=1.387\n",
      "1/1 [==============================] - 0s 19ms/step\n",
      ">4, 104/433, d=0.557, g=1.699\n",
      "1/1 [==============================] - 0s 18ms/step\n",
      ">4, 105/433, d=0.606, g=1.087\n",
      "1/1 [==============================] - 0s 20ms/step\n",
      ">4, 106/433, d=0.699, g=1.238\n",
      "1/1 [==============================] - 0s 20ms/step\n",
      ">4, 107/433, d=0.777, g=1.006\n",
      "1/1 [==============================] - 0s 24ms/step\n",
      ">4, 108/433, d=0.832, g=1.099\n",
      "1/1 [==============================] - 0s 22ms/step\n",
      ">4, 109/433, d=0.778, g=1.015\n",
      "1/1 [==============================] - 0s 20ms/step\n",
      ">4, 110/433, d=0.786, g=0.662\n",
      "1/1 [==============================] - 0s 20ms/step\n",
      ">4, 111/433, d=0.694, g=0.666\n",
      "1/1 [==============================] - 0s 18ms/step\n",
      ">4, 112/433, d=0.647, g=0.854\n",
      "1/1 [==============================] - 0s 18ms/step\n",
      ">4, 113/433, d=0.683, g=0.961\n",
      "1/1 [==============================] - 0s 19ms/step\n",
      ">4, 114/433, d=0.677, g=0.956\n",
      "1/1 [==============================] - 0s 21ms/step\n",
      ">4, 115/433, d=0.670, g=0.886\n",
      "1/1 [==============================] - 0s 19ms/step\n",
      ">4, 116/433, d=0.605, g=0.962\n",
      "1/1 [==============================] - 0s 25ms/step\n",
      ">4, 117/433, d=0.594, g=0.951\n",
      "1/1 [==============================] - 0s 21ms/step\n",
      ">4, 118/433, d=0.550, g=0.924\n",
      "1/1 [==============================] - 0s 21ms/step\n",
      ">4, 119/433, d=0.506, g=0.927\n",
      "1/1 [==============================] - 0s 18ms/step\n",
      ">4, 120/433, d=0.544, g=0.979\n",
      "1/1 [==============================] - 0s 20ms/step\n",
      ">4, 121/433, d=0.517, g=1.124\n",
      "1/1 [==============================] - 0s 20ms/step\n",
      ">4, 122/433, d=0.449, g=1.193\n",
      "1/1 [==============================] - 0s 26ms/step\n",
      ">4, 123/433, d=0.451, g=1.269\n",
      "1/1 [==============================] - 0s 19ms/step\n",
      ">4, 124/433, d=0.495, g=1.374\n",
      "1/1 [==============================] - 0s 19ms/step\n",
      ">4, 125/433, d=0.478, g=1.380\n",
      "1/1 [==============================] - 0s 20ms/step\n",
      ">4, 126/433, d=0.469, g=1.289\n",
      "1/1 [==============================] - 0s 20ms/step\n",
      ">4, 127/433, d=0.477, g=1.077\n",
      "1/1 [==============================] - 0s 18ms/step\n",
      ">4, 128/433, d=0.574, g=1.689\n",
      "1/1 [==============================] - 0s 21ms/step\n",
      ">4, 129/433, d=0.525, g=1.484\n",
      "1/1 [==============================] - 0s 24ms/step\n",
      ">4, 130/433, d=0.514, g=0.710\n",
      "1/1 [==============================] - 0s 19ms/step\n",
      ">4, 131/433, d=0.676, g=1.042\n",
      "1/1 [==============================] - 0s 19ms/step\n",
      ">4, 132/433, d=0.547, g=1.521\n",
      "1/1 [==============================] - 0s 19ms/step\n",
      ">4, 133/433, d=0.589, g=1.080\n",
      "1/1 [==============================] - 0s 19ms/step\n",
      ">4, 134/433, d=0.579, g=0.978\n",
      "1/1 [==============================] - 0s 21ms/step\n",
      ">4, 135/433, d=0.631, g=1.227\n",
      "1/1 [==============================] - 0s 18ms/step\n",
      ">4, 136/433, d=0.578, g=1.284\n",
      "1/1 [==============================] - 0s 22ms/step\n",
      ">4, 137/433, d=0.724, g=0.720\n",
      "1/1 [==============================] - 0s 19ms/step\n",
      ">4, 138/433, d=0.647, g=0.631\n",
      "1/1 [==============================] - 0s 23ms/step\n",
      ">4, 139/433, d=0.785, g=1.228\n",
      "1/1 [==============================] - 0s 20ms/step\n",
      ">4, 140/433, d=0.588, g=1.157\n",
      "1/1 [==============================] - 0s 24ms/step\n",
      ">4, 141/433, d=0.618, g=0.950\n",
      "1/1 [==============================] - 0s 20ms/step\n",
      ">4, 142/433, d=0.605, g=0.969\n",
      "1/1 [==============================] - 0s 19ms/step\n",
      ">4, 143/433, d=0.574, g=1.095\n",
      "1/1 [==============================] - 0s 19ms/step\n",
      ">4, 144/433, d=0.563, g=0.900\n",
      "1/1 [==============================] - 0s 23ms/step\n",
      ">4, 145/433, d=0.489, g=1.276\n",
      "1/1 [==============================] - 0s 20ms/step\n",
      ">4, 146/433, d=0.529, g=1.035\n",
      "1/1 [==============================] - 0s 22ms/step\n",
      ">4, 147/433, d=0.537, g=0.888\n",
      "1/1 [==============================] - 0s 23ms/step\n",
      ">4, 148/433, d=0.534, g=1.231\n",
      "1/1 [==============================] - 0s 23ms/step\n",
      ">4, 149/433, d=0.536, g=1.182\n",
      "1/1 [==============================] - 0s 20ms/step\n",
      ">4, 150/433, d=0.559, g=0.922\n",
      "1/1 [==============================] - 0s 23ms/step\n",
      ">4, 151/433, d=0.588, g=1.312\n",
      "1/1 [==============================] - 0s 21ms/step\n",
      ">4, 152/433, d=0.533, g=1.259\n",
      "1/1 [==============================] - 0s 22ms/step\n",
      ">4, 153/433, d=0.548, g=1.077\n",
      "1/1 [==============================] - 0s 21ms/step\n",
      ">4, 154/433, d=0.544, g=1.684\n",
      "1/1 [==============================] - 0s 25ms/step\n",
      ">4, 155/433, d=0.459, g=1.509\n",
      "1/1 [==============================] - 0s 21ms/step\n",
      ">4, 156/433, d=0.451, g=1.776\n",
      "1/1 [==============================] - 0s 24ms/step\n",
      ">4, 157/433, d=0.388, g=1.903\n",
      "1/1 [==============================] - 0s 22ms/step\n",
      ">4, 158/433, d=0.344, g=1.549\n",
      "1/1 [==============================] - 0s 24ms/step\n",
      ">4, 159/433, d=0.360, g=1.987\n",
      "1/1 [==============================] - 0s 22ms/step\n",
      ">4, 160/433, d=0.343, g=2.061\n",
      "1/1 [==============================] - 0s 20ms/step\n",
      ">4, 161/433, d=0.450, g=1.487\n",
      "1/1 [==============================] - 0s 17ms/step\n",
      ">4, 162/433, d=0.645, g=2.090\n",
      "1/1 [==============================] - 0s 24ms/step\n",
      ">4, 163/433, d=0.641, g=1.175\n",
      "1/1 [==============================] - 0s 21ms/step\n",
      ">4, 164/433, d=0.866, g=1.956\n",
      "1/1 [==============================] - 0s 19ms/step\n",
      ">4, 165/433, d=0.626, g=1.736\n",
      "1/1 [==============================] - 0s 20ms/step\n",
      ">4, 166/433, d=0.735, g=0.791\n",
      "1/1 [==============================] - 0s 22ms/step\n",
      ">4, 167/433, d=0.771, g=2.097\n",
      "1/1 [==============================] - 0s 19ms/step\n",
      ">4, 168/433, d=0.626, g=1.483\n",
      "1/1 [==============================] - 0s 20ms/step\n",
      ">4, 169/433, d=0.637, g=1.128\n",
      "1/1 [==============================] - 0s 22ms/step\n",
      ">4, 170/433, d=0.638, g=1.165\n",
      "1/1 [==============================] - 0s 20ms/step\n",
      ">4, 171/433, d=0.790, g=1.497\n",
      "1/1 [==============================] - 0s 20ms/step\n",
      ">4, 172/433, d=0.681, g=1.135\n",
      "1/1 [==============================] - 0s 19ms/step\n",
      ">4, 173/433, d=0.625, g=1.124\n",
      "1/1 [==============================] - 0s 19ms/step\n",
      ">4, 174/433, d=0.678, g=1.000\n",
      "1/1 [==============================] - 0s 20ms/step\n",
      ">4, 175/433, d=0.593, g=0.816\n",
      "1/1 [==============================] - 0s 20ms/step\n",
      ">4, 176/433, d=0.727, g=1.111\n",
      "1/1 [==============================] - 0s 21ms/step\n",
      ">4, 177/433, d=0.633, g=1.109\n",
      "1/1 [==============================] - 0s 22ms/step\n",
      ">4, 178/433, d=0.593, g=0.908\n",
      "1/1 [==============================] - 0s 22ms/step\n",
      ">4, 179/433, d=0.573, g=0.860\n",
      "1/1 [==============================] - 0s 26ms/step\n",
      ">4, 180/433, d=0.578, g=1.083\n",
      "1/1 [==============================] - 0s 20ms/step\n",
      ">4, 181/433, d=0.582, g=1.072\n",
      "1/1 [==============================] - 0s 22ms/step\n",
      ">4, 182/433, d=0.568, g=0.967\n",
      "1/1 [==============================] - 0s 23ms/step\n",
      ">4, 183/433, d=0.656, g=1.112\n",
      "1/1 [==============================] - 0s 20ms/step\n",
      ">4, 184/433, d=0.535, g=1.197\n",
      "1/1 [==============================] - 0s 19ms/step\n",
      ">4, 185/433, d=0.612, g=1.135\n",
      "1/1 [==============================] - 0s 20ms/step\n",
      ">4, 186/433, d=0.502, g=1.064\n",
      "1/1 [==============================] - 0s 26ms/step\n",
      ">4, 187/433, d=0.538, g=1.153\n",
      "1/1 [==============================] - 0s 21ms/step\n",
      ">4, 188/433, d=0.576, g=0.968\n",
      "1/1 [==============================] - 0s 19ms/step\n",
      ">4, 189/433, d=0.540, g=1.139\n",
      "1/1 [==============================] - 0s 19ms/step\n",
      ">4, 190/433, d=0.474, g=1.170\n",
      "1/1 [==============================] - 0s 19ms/step\n",
      ">4, 191/433, d=0.512, g=1.385\n",
      "1/1 [==============================] - 0s 43ms/step\n",
      ">4, 192/433, d=0.436, g=1.184\n",
      "1/1 [==============================] - 0s 27ms/step\n",
      ">4, 193/433, d=0.556, g=1.056\n",
      "1/1 [==============================] - 0s 21ms/step\n",
      ">4, 194/433, d=0.476, g=1.143\n",
      "1/1 [==============================] - 0s 30ms/step\n",
      ">4, 195/433, d=0.699, g=1.441\n",
      "1/1 [==============================] - 0s 24ms/step\n",
      ">4, 196/433, d=0.594, g=0.934\n",
      "1/1 [==============================] - 0s 22ms/step\n",
      ">4, 197/433, d=0.677, g=0.732\n",
      "1/1 [==============================] - 0s 21ms/step\n",
      ">4, 198/433, d=0.629, g=1.035\n",
      "1/1 [==============================] - 0s 20ms/step\n",
      ">4, 199/433, d=0.661, g=1.335\n",
      "1/1 [==============================] - 0s 20ms/step\n",
      ">4, 200/433, d=0.623, g=1.082\n",
      "1/1 [==============================] - 0s 24ms/step\n",
      ">4, 201/433, d=0.609, g=0.874\n",
      "1/1 [==============================] - 0s 19ms/step\n",
      ">4, 202/433, d=0.568, g=0.929\n",
      "1/1 [==============================] - 0s 20ms/step\n",
      ">4, 203/433, d=0.570, g=1.334\n",
      "1/1 [==============================] - 0s 25ms/step\n",
      ">4, 204/433, d=0.574, g=1.294\n",
      "1/1 [==============================] - 0s 19ms/step\n",
      ">4, 205/433, d=0.588, g=1.066\n",
      "1/1 [==============================] - 0s 20ms/step\n",
      ">4, 206/433, d=0.605, g=1.122\n",
      "1/1 [==============================] - 0s 20ms/step\n",
      ">4, 207/433, d=0.577, g=1.559\n",
      "1/1 [==============================] - 0s 19ms/step\n",
      ">4, 208/433, d=0.499, g=1.342\n",
      "1/1 [==============================] - 0s 20ms/step\n",
      ">4, 209/433, d=0.548, g=1.318\n",
      "1/1 [==============================] - 0s 22ms/step\n",
      ">4, 210/433, d=0.469, g=1.438\n",
      "1/1 [==============================] - 0s 19ms/step\n",
      ">4, 211/433, d=0.472, g=1.376\n",
      "1/1 [==============================] - 0s 22ms/step\n",
      ">4, 212/433, d=0.462, g=1.557\n",
      "1/1 [==============================] - 0s 28ms/step\n",
      ">4, 213/433, d=0.445, g=1.510\n",
      "1/1 [==============================] - 0s 25ms/step\n",
      ">4, 214/433, d=0.444, g=1.393\n",
      "1/1 [==============================] - 0s 19ms/step\n",
      ">4, 215/433, d=0.452, g=1.764\n",
      "1/1 [==============================] - 0s 41ms/step\n",
      ">4, 216/433, d=0.435, g=1.342\n",
      "1/1 [==============================] - 0s 50ms/step\n",
      ">4, 217/433, d=0.458, g=1.095\n",
      "1/1 [==============================] - 0s 18ms/step\n",
      ">4, 218/433, d=0.569, g=1.766\n",
      "1/1 [==============================] - 0s 50ms/step\n",
      ">4, 219/433, d=0.573, g=1.164\n",
      "1/1 [==============================] - 0s 20ms/step\n",
      ">4, 220/433, d=0.857, g=3.953\n",
      "1/1 [==============================] - 0s 26ms/step\n",
      ">4, 221/433, d=0.852, g=1.118\n",
      "1/1 [==============================] - 0s 20ms/step\n",
      ">4, 222/433, d=0.440, g=1.079\n",
      "1/1 [==============================] - 0s 21ms/step\n",
      ">4, 223/433, d=0.520, g=1.702\n",
      "1/1 [==============================] - 0s 19ms/step\n",
      ">4, 224/433, d=0.461, g=2.147\n",
      "1/1 [==============================] - 0s 25ms/step\n",
      ">4, 225/433, d=0.690, g=3.482\n",
      "1/1 [==============================] - 0s 21ms/step\n",
      ">4, 226/433, d=1.224, g=2.063\n",
      "1/1 [==============================] - 0s 19ms/step\n",
      ">4, 227/433, d=0.931, g=1.127\n",
      "1/1 [==============================] - 0s 19ms/step\n",
      ">4, 228/433, d=0.610, g=0.995\n",
      "1/1 [==============================] - 0s 20ms/step\n",
      ">4, 229/433, d=1.022, g=1.243\n",
      "1/1 [==============================] - 0s 20ms/step\n",
      ">4, 230/433, d=0.912, g=1.777\n",
      "1/1 [==============================] - 0s 19ms/step\n",
      ">4, 231/433, d=0.588, g=1.671\n",
      "1/1 [==============================] - 0s 20ms/step\n",
      ">4, 232/433, d=0.519, g=1.432\n",
      "1/1 [==============================] - 0s 23ms/step\n",
      ">4, 233/433, d=0.428, g=1.354\n",
      "1/1 [==============================] - 0s 19ms/step\n",
      ">4, 234/433, d=0.413, g=1.239\n",
      "1/1 [==============================] - 0s 20ms/step\n",
      ">4, 235/433, d=0.368, g=1.407\n",
      "1/1 [==============================] - 0s 20ms/step\n",
      ">4, 236/433, d=0.365, g=1.537\n",
      "1/1 [==============================] - 0s 21ms/step\n",
      ">4, 237/433, d=0.401, g=1.948\n",
      "1/1 [==============================] - 0s 18ms/step\n",
      ">4, 238/433, d=0.525, g=1.882\n",
      "1/1 [==============================] - 0s 24ms/step\n",
      ">4, 239/433, d=0.443, g=1.829\n",
      "1/1 [==============================] - 0s 22ms/step\n",
      ">4, 240/433, d=0.378, g=1.928\n",
      "1/1 [==============================] - 0s 60ms/step\n",
      ">4, 241/433, d=0.452, g=1.692\n",
      "1/1 [==============================] - 0s 28ms/step\n",
      ">4, 242/433, d=0.505, g=1.152\n",
      "1/1 [==============================] - 0s 33ms/step\n",
      ">4, 243/433, d=0.563, g=1.243\n",
      "1/1 [==============================] - 0s 20ms/step\n",
      ">4, 244/433, d=0.570, g=1.276\n",
      "1/1 [==============================] - 0s 37ms/step\n",
      ">4, 245/433, d=0.496, g=1.148\n",
      "1/1 [==============================] - 0s 23ms/step\n",
      ">4, 246/433, d=0.673, g=1.078\n",
      "1/1 [==============================] - 0s 29ms/step\n",
      ">4, 247/433, d=0.643, g=1.097\n",
      "1/1 [==============================] - 0s 26ms/step\n",
      ">4, 248/433, d=0.558, g=1.104\n",
      "1/1 [==============================] - 0s 25ms/step\n",
      ">4, 249/433, d=0.565, g=1.282\n",
      "1/1 [==============================] - 0s 23ms/step\n",
      ">4, 250/433, d=0.461, g=1.543\n",
      "1/1 [==============================] - 0s 24ms/step\n",
      ">4, 251/433, d=0.483, g=1.140\n",
      "1/1 [==============================] - 0s 23ms/step\n",
      ">4, 252/433, d=0.549, g=1.140\n",
      "1/1 [==============================] - 0s 19ms/step\n",
      ">4, 253/433, d=0.656, g=0.865\n",
      "1/1 [==============================] - 0s 19ms/step\n",
      ">4, 254/433, d=0.687, g=1.094\n",
      "1/1 [==============================] - 0s 22ms/step\n",
      ">4, 255/433, d=0.658, g=1.082\n",
      "1/1 [==============================] - 0s 20ms/step\n",
      ">4, 256/433, d=0.886, g=0.963\n",
      "1/1 [==============================] - 0s 26ms/step\n",
      ">4, 257/433, d=0.692, g=1.083\n",
      "1/1 [==============================] - 0s 21ms/step\n",
      ">4, 258/433, d=0.611, g=1.421\n",
      "1/1 [==============================] - 0s 21ms/step\n",
      ">4, 259/433, d=0.488, g=1.755\n",
      "1/1 [==============================] - 0s 19ms/step\n",
      ">4, 260/433, d=0.495, g=1.648\n",
      "1/1 [==============================] - 0s 20ms/step\n",
      ">4, 261/433, d=0.382, g=1.617\n",
      "1/1 [==============================] - 0s 18ms/step\n",
      ">4, 262/433, d=0.388, g=1.482\n",
      "1/1 [==============================] - 0s 22ms/step\n",
      ">4, 263/433, d=0.460, g=1.350\n",
      "1/1 [==============================] - 0s 22ms/step\n",
      ">4, 264/433, d=0.470, g=1.243\n",
      "1/1 [==============================] - 0s 21ms/step\n",
      ">4, 265/433, d=0.570, g=1.345\n",
      "1/1 [==============================] - 0s 22ms/step\n",
      ">4, 266/433, d=0.571, g=1.230\n",
      "1/1 [==============================] - 0s 22ms/step\n",
      ">4, 267/433, d=0.595, g=1.005\n",
      "1/1 [==============================] - 0s 23ms/step\n",
      ">4, 268/433, d=0.642, g=1.019\n",
      "1/1 [==============================] - 0s 20ms/step\n",
      ">4, 269/433, d=0.761, g=1.024\n",
      "1/1 [==============================] - 0s 21ms/step\n",
      ">4, 270/433, d=0.878, g=0.916\n",
      "1/1 [==============================] - 0s 21ms/step\n",
      ">4, 271/433, d=0.743, g=1.039\n",
      "1/1 [==============================] - 0s 19ms/step\n",
      ">4, 272/433, d=0.830, g=1.408\n",
      "1/1 [==============================] - 0s 19ms/step\n",
      ">4, 273/433, d=0.677, g=1.357\n",
      "1/1 [==============================] - 0s 17ms/step\n",
      ">4, 274/433, d=0.607, g=0.919\n",
      "1/1 [==============================] - 0s 17ms/step\n",
      ">4, 275/433, d=0.585, g=1.099\n",
      "1/1 [==============================] - 0s 22ms/step\n",
      ">4, 276/433, d=0.639, g=1.364\n",
      "1/1 [==============================] - 0s 19ms/step\n",
      ">4, 277/433, d=0.561, g=1.183\n",
      "1/1 [==============================] - 0s 19ms/step\n",
      ">4, 278/433, d=0.602, g=0.780\n",
      "1/1 [==============================] - 0s 19ms/step\n",
      ">4, 279/433, d=0.600, g=1.134\n",
      "1/1 [==============================] - 0s 20ms/step\n",
      ">4, 280/433, d=0.611, g=1.025\n",
      "1/1 [==============================] - 0s 19ms/step\n",
      ">4, 281/433, d=0.587, g=1.065\n",
      "1/1 [==============================] - 0s 18ms/step\n",
      ">4, 282/433, d=0.625, g=0.908\n",
      "1/1 [==============================] - 0s 22ms/step\n",
      ">4, 283/433, d=0.560, g=1.041\n",
      "1/1 [==============================] - 0s 20ms/step\n",
      ">4, 284/433, d=0.527, g=1.254\n",
      "1/1 [==============================] - 0s 22ms/step\n",
      ">4, 285/433, d=0.550, g=1.166\n",
      "1/1 [==============================] - 0s 23ms/step\n",
      ">4, 286/433, d=0.516, g=0.996\n",
      "1/1 [==============================] - 0s 24ms/step\n",
      ">4, 287/433, d=0.559, g=1.014\n",
      "1/1 [==============================] - 0s 22ms/step\n",
      ">4, 288/433, d=0.548, g=1.082\n",
      "1/1 [==============================] - 0s 19ms/step\n",
      ">4, 289/433, d=0.572, g=1.126\n",
      "1/1 [==============================] - 0s 21ms/step\n",
      ">4, 290/433, d=0.490, g=1.051\n",
      "1/1 [==============================] - 0s 19ms/step\n",
      ">4, 291/433, d=0.550, g=1.055\n",
      "1/1 [==============================] - 0s 19ms/step\n",
      ">4, 292/433, d=0.549, g=1.240\n",
      "1/1 [==============================] - 0s 20ms/step\n",
      ">4, 293/433, d=0.495, g=1.393\n",
      "1/1 [==============================] - 0s 19ms/step\n",
      ">4, 294/433, d=0.504, g=1.310\n",
      "1/1 [==============================] - 0s 20ms/step\n",
      ">4, 295/433, d=0.531, g=0.967\n",
      "1/1 [==============================] - 0s 20ms/step\n",
      ">4, 296/433, d=0.467, g=1.171\n",
      "1/1 [==============================] - 0s 24ms/step\n",
      ">4, 297/433, d=0.495, g=1.239\n",
      "1/1 [==============================] - 0s 22ms/step\n",
      ">4, 298/433, d=0.446, g=1.561\n",
      "1/1 [==============================] - 0s 20ms/step\n",
      ">4, 299/433, d=0.448, g=1.450\n",
      "1/1 [==============================] - 0s 22ms/step\n",
      ">4, 300/433, d=0.411, g=1.637\n",
      "1/1 [==============================] - 0s 21ms/step\n",
      ">4, 301/433, d=0.529, g=1.444\n",
      "1/1 [==============================] - 0s 21ms/step\n",
      ">4, 302/433, d=0.643, g=1.346\n",
      "1/1 [==============================] - 0s 20ms/step\n",
      ">4, 303/433, d=0.723, g=1.589\n",
      "1/1 [==============================] - 0s 19ms/step\n",
      ">4, 304/433, d=0.722, g=1.444\n",
      "1/1 [==============================] - 0s 20ms/step\n",
      ">4, 305/433, d=0.725, g=1.567\n",
      "1/1 [==============================] - 0s 23ms/step\n",
      ">4, 306/433, d=0.606, g=2.014\n",
      "1/1 [==============================] - 0s 19ms/step\n",
      ">4, 307/433, d=0.575, g=1.739\n",
      "1/1 [==============================] - 0s 18ms/step\n",
      ">4, 308/433, d=0.504, g=1.255\n",
      "1/1 [==============================] - 0s 19ms/step\n",
      ">4, 309/433, d=0.556, g=1.264\n",
      "1/1 [==============================] - 0s 21ms/step\n",
      ">4, 310/433, d=0.398, g=1.844\n",
      "1/1 [==============================] - 0s 21ms/step\n",
      ">4, 311/433, d=0.482, g=1.408\n",
      "1/1 [==============================] - 0s 26ms/step\n",
      ">4, 312/433, d=0.330, g=1.413\n",
      "1/1 [==============================] - 0s 21ms/step\n",
      ">4, 313/433, d=0.426, g=1.516\n",
      "1/1 [==============================] - 0s 22ms/step\n",
      ">4, 314/433, d=0.322, g=1.618\n",
      "1/1 [==============================] - 0s 18ms/step\n",
      ">4, 315/433, d=0.453, g=1.651\n",
      "1/1 [==============================] - 0s 19ms/step\n",
      ">4, 316/433, d=0.468, g=1.695\n",
      "1/1 [==============================] - 0s 22ms/step\n",
      ">4, 317/433, d=0.409, g=1.596\n",
      "1/1 [==============================] - 0s 25ms/step\n",
      ">4, 318/433, d=0.521, g=1.653\n",
      "1/1 [==============================] - 0s 19ms/step\n",
      ">4, 319/433, d=0.533, g=0.981\n",
      "1/1 [==============================] - 0s 21ms/step\n",
      ">4, 320/433, d=0.570, g=1.931\n",
      "1/1 [==============================] - 0s 20ms/step\n",
      ">4, 321/433, d=0.613, g=1.228\n",
      "1/1 [==============================] - 0s 19ms/step\n",
      ">4, 322/433, d=0.513, g=1.136\n",
      "1/1 [==============================] - 0s 19ms/step\n",
      ">4, 323/433, d=0.484, g=1.406\n",
      "1/1 [==============================] - 0s 19ms/step\n",
      ">4, 324/433, d=0.483, g=1.233\n",
      "1/1 [==============================] - 0s 23ms/step\n",
      ">4, 325/433, d=0.485, g=1.245\n",
      "1/1 [==============================] - 0s 19ms/step\n",
      ">4, 326/433, d=0.442, g=1.893\n",
      "1/1 [==============================] - 0s 21ms/step\n",
      ">4, 327/433, d=0.332, g=1.997\n",
      "1/1 [==============================] - 0s 21ms/step\n",
      ">4, 328/433, d=0.447, g=1.580\n",
      "1/1 [==============================] - 0s 19ms/step\n",
      ">4, 329/433, d=0.483, g=2.007\n",
      "1/1 [==============================] - 0s 20ms/step\n",
      ">4, 330/433, d=0.560, g=1.692\n",
      "1/1 [==============================] - 0s 22ms/step\n",
      ">4, 331/433, d=0.634, g=1.596\n",
      "1/1 [==============================] - 0s 19ms/step\n",
      ">4, 332/433, d=0.784, g=1.666\n",
      "1/1 [==============================] - 0s 19ms/step\n",
      ">4, 333/433, d=0.673, g=1.476\n",
      "1/1 [==============================] - 0s 25ms/step\n",
      ">4, 334/433, d=0.611, g=2.126\n",
      "1/1 [==============================] - 0s 21ms/step\n",
      ">4, 335/433, d=0.563, g=1.494\n",
      "1/1 [==============================] - 0s 20ms/step\n",
      ">4, 336/433, d=0.534, g=2.021\n",
      "1/1 [==============================] - 0s 22ms/step\n",
      ">4, 337/433, d=0.591, g=1.372\n",
      "1/1 [==============================] - 0s 24ms/step\n",
      ">4, 338/433, d=0.728, g=1.171\n",
      "1/1 [==============================] - 0s 22ms/step\n",
      ">4, 339/433, d=0.724, g=1.622\n",
      "1/1 [==============================] - 0s 20ms/step\n",
      ">4, 340/433, d=0.888, g=0.929\n",
      "1/1 [==============================] - 0s 18ms/step\n",
      ">4, 341/433, d=1.003, g=0.924\n",
      "1/1 [==============================] - 0s 20ms/step\n",
      ">4, 342/433, d=0.770, g=1.730\n",
      "1/1 [==============================] - 0s 23ms/step\n",
      ">4, 343/433, d=0.671, g=1.966\n",
      "1/1 [==============================] - 0s 20ms/step\n",
      ">4, 344/433, d=0.559, g=1.514\n",
      "1/1 [==============================] - 0s 20ms/step\n",
      ">4, 345/433, d=0.535, g=1.604\n",
      "1/1 [==============================] - 0s 19ms/step\n",
      ">4, 346/433, d=0.590, g=1.410\n",
      "1/1 [==============================] - 0s 20ms/step\n",
      ">4, 347/433, d=0.564, g=1.442\n",
      "1/1 [==============================] - 0s 20ms/step\n",
      ">4, 348/433, d=0.619, g=1.030\n",
      "1/1 [==============================] - 0s 19ms/step\n",
      ">4, 349/433, d=0.684, g=0.877\n",
      "1/1 [==============================] - 0s 20ms/step\n",
      ">4, 350/433, d=0.665, g=1.070\n",
      "1/1 [==============================] - 0s 21ms/step\n",
      ">4, 351/433, d=0.673, g=0.891\n",
      "1/1 [==============================] - 0s 20ms/step\n",
      ">4, 352/433, d=0.564, g=1.105\n",
      "1/1 [==============================] - 0s 21ms/step\n",
      ">4, 353/433, d=0.625, g=1.304\n",
      "1/1 [==============================] - 0s 21ms/step\n",
      ">4, 354/433, d=0.577, g=1.270\n",
      "1/1 [==============================] - 0s 20ms/step\n",
      ">4, 355/433, d=0.582, g=0.961\n",
      "1/1 [==============================] - 0s 21ms/step\n",
      ">4, 356/433, d=0.554, g=0.933\n",
      "1/1 [==============================] - 0s 20ms/step\n",
      ">4, 357/433, d=0.570, g=0.891\n",
      "1/1 [==============================] - 0s 18ms/step\n",
      ">4, 358/433, d=0.551, g=1.177\n",
      "1/1 [==============================] - 0s 19ms/step\n",
      ">4, 359/433, d=0.427, g=1.077\n",
      "1/1 [==============================] - 0s 19ms/step\n",
      ">4, 360/433, d=0.604, g=1.123\n",
      "1/1 [==============================] - 0s 22ms/step\n",
      ">4, 361/433, d=0.597, g=1.020\n",
      "1/1 [==============================] - 0s 18ms/step\n",
      ">4, 362/433, d=0.546, g=1.128\n",
      "1/1 [==============================] - 0s 20ms/step\n",
      ">4, 363/433, d=0.505, g=1.413\n",
      "1/1 [==============================] - 0s 19ms/step\n",
      ">4, 364/433, d=0.415, g=1.405\n",
      "1/1 [==============================] - 0s 19ms/step\n",
      ">4, 365/433, d=0.424, g=1.550\n",
      "1/1 [==============================] - 0s 21ms/step\n",
      ">4, 366/433, d=0.371, g=1.771\n",
      "1/1 [==============================] - 0s 19ms/step\n",
      ">4, 367/433, d=0.353, g=1.567\n",
      "1/1 [==============================] - 0s 20ms/step\n",
      ">4, 368/433, d=0.341, g=1.148\n",
      "1/1 [==============================] - 0s 18ms/step\n",
      ">4, 369/433, d=0.416, g=1.413\n",
      "1/1 [==============================] - 0s 23ms/step\n",
      ">4, 370/433, d=0.436, g=1.407\n",
      "1/1 [==============================] - 0s 19ms/step\n",
      ">4, 371/433, d=0.410, g=1.699\n",
      "1/1 [==============================] - 0s 19ms/step\n",
      ">4, 372/433, d=0.384, g=1.230\n",
      "1/1 [==============================] - 0s 18ms/step\n",
      ">4, 373/433, d=0.425, g=1.433\n",
      "1/1 [==============================] - 0s 18ms/step\n",
      ">4, 374/433, d=0.338, g=1.455\n",
      "1/1 [==============================] - 0s 18ms/step\n",
      ">4, 375/433, d=0.503, g=1.768\n",
      "1/1 [==============================] - 0s 18ms/step\n",
      ">4, 376/433, d=0.488, g=1.497\n",
      "1/1 [==============================] - 0s 18ms/step\n",
      ">4, 377/433, d=0.448, g=1.338\n",
      "1/1 [==============================] - 0s 20ms/step\n",
      ">4, 378/433, d=0.365, g=2.045\n",
      "1/1 [==============================] - 0s 23ms/step\n",
      ">4, 379/433, d=0.485, g=1.601\n",
      "1/1 [==============================] - 0s 19ms/step\n",
      ">4, 380/433, d=0.353, g=1.438\n",
      "1/1 [==============================] - 0s 17ms/step\n",
      ">4, 381/433, d=0.406, g=1.430\n",
      "1/1 [==============================] - 0s 19ms/step\n",
      ">4, 382/433, d=0.306, g=1.822\n",
      "1/1 [==============================] - 0s 18ms/step\n",
      ">4, 383/433, d=0.298, g=1.638\n",
      "1/1 [==============================] - 0s 18ms/step\n",
      ">4, 384/433, d=0.404, g=1.369\n",
      "1/1 [==============================] - 0s 19ms/step\n",
      ">4, 385/433, d=0.371, g=1.455\n",
      "1/1 [==============================] - 0s 18ms/step\n",
      ">4, 386/433, d=0.440, g=1.871\n",
      "1/1 [==============================] - 0s 18ms/step\n",
      ">4, 387/433, d=0.396, g=1.333\n",
      "1/1 [==============================] - 0s 22ms/step\n",
      ">4, 388/433, d=0.491, g=1.529\n",
      "1/1 [==============================] - 0s 18ms/step\n",
      ">4, 389/433, d=0.428, g=2.097\n",
      "1/1 [==============================] - 0s 21ms/step\n",
      ">4, 390/433, d=0.429, g=1.991\n",
      "1/1 [==============================] - 0s 29ms/step\n",
      ">4, 391/433, d=0.490, g=1.457\n",
      "1/1 [==============================] - 0s 21ms/step\n",
      ">4, 392/433, d=0.503, g=3.290\n",
      "1/1 [==============================] - 0s 27ms/step\n",
      ">4, 393/433, d=0.463, g=1.448\n",
      "1/1 [==============================] - 0s 17ms/step\n",
      ">4, 394/433, d=0.470, g=2.473\n",
      "1/1 [==============================] - 0s 20ms/step\n",
      ">4, 395/433, d=0.401, g=2.248\n",
      "1/1 [==============================] - 0s 19ms/step\n",
      ">4, 396/433, d=0.500, g=2.914\n",
      "1/1 [==============================] - 0s 18ms/step\n",
      ">4, 397/433, d=0.531, g=2.332\n",
      "1/1 [==============================] - 0s 21ms/step\n",
      ">4, 398/433, d=0.557, g=1.053\n",
      "1/1 [==============================] - 0s 18ms/step\n",
      ">4, 399/433, d=0.764, g=6.882\n",
      "1/1 [==============================] - 0s 20ms/step\n",
      ">4, 400/433, d=0.863, g=3.730\n",
      "1/1 [==============================] - 0s 20ms/step\n",
      ">4, 401/433, d=0.709, g=1.605\n",
      "1/1 [==============================] - 0s 22ms/step\n",
      ">4, 402/433, d=0.506, g=2.001\n",
      "1/1 [==============================] - 0s 19ms/step\n",
      ">4, 403/433, d=0.373, g=2.679\n",
      "1/1 [==============================] - 0s 18ms/step\n",
      ">4, 404/433, d=0.501, g=2.546\n",
      "1/1 [==============================] - 0s 18ms/step\n",
      ">4, 405/433, d=0.837, g=3.607\n",
      "1/1 [==============================] - 0s 20ms/step\n",
      ">4, 406/433, d=1.332, g=4.097\n",
      "1/1 [==============================] - 0s 19ms/step\n",
      ">4, 407/433, d=0.973, g=1.944\n",
      "1/1 [==============================] - 0s 19ms/step\n",
      ">4, 408/433, d=0.451, g=1.790\n",
      "1/1 [==============================] - 0s 19ms/step\n",
      ">4, 409/433, d=0.535, g=2.808\n",
      "1/1 [==============================] - 0s 22ms/step\n",
      ">4, 410/433, d=0.597, g=3.033\n",
      "1/1 [==============================] - 0s 22ms/step\n",
      ">4, 411/433, d=1.244, g=2.927\n",
      "1/1 [==============================] - 0s 19ms/step\n",
      ">4, 412/433, d=1.389, g=3.351\n",
      "1/1 [==============================] - 0s 27ms/step\n",
      ">4, 413/433, d=1.294, g=1.731\n",
      "1/1 [==============================] - 0s 26ms/step\n",
      ">4, 414/433, d=1.028, g=0.675\n",
      "1/1 [==============================] - 0s 21ms/step\n",
      ">4, 415/433, d=0.914, g=0.508\n",
      "1/1 [==============================] - 0s 20ms/step\n",
      ">4, 416/433, d=0.846, g=0.555\n",
      "1/1 [==============================] - 0s 18ms/step\n",
      ">4, 417/433, d=0.804, g=0.690\n",
      "1/1 [==============================] - 0s 19ms/step\n",
      ">4, 418/433, d=0.694, g=0.702\n",
      "1/1 [==============================] - 0s 19ms/step\n",
      ">4, 419/433, d=0.732, g=0.700\n",
      "1/1 [==============================] - 0s 20ms/step\n",
      ">4, 420/433, d=0.716, g=0.753\n",
      "1/1 [==============================] - 0s 19ms/step\n",
      ">4, 421/433, d=0.688, g=0.737\n",
      "1/1 [==============================] - 0s 18ms/step\n",
      ">4, 422/433, d=0.669, g=0.753\n",
      "1/1 [==============================] - 0s 19ms/step\n",
      ">4, 423/433, d=0.626, g=0.775\n",
      "1/1 [==============================] - 0s 18ms/step\n",
      ">4, 424/433, d=0.597, g=0.817\n",
      "1/1 [==============================] - 0s 23ms/step\n",
      ">4, 425/433, d=0.597, g=0.821\n",
      "1/1 [==============================] - 0s 28ms/step\n",
      ">4, 426/433, d=0.574, g=0.860\n",
      "1/1 [==============================] - 0s 20ms/step\n",
      ">4, 427/433, d=0.572, g=0.934\n",
      "1/1 [==============================] - 0s 19ms/step\n",
      ">4, 428/433, d=0.577, g=0.865\n",
      "1/1 [==============================] - 0s 29ms/step\n",
      ">4, 429/433, d=0.504, g=0.909\n",
      "1/1 [==============================] - 0s 30ms/step\n",
      ">4, 430/433, d=0.594, g=0.919\n",
      "1/1 [==============================] - 0s 19ms/step\n",
      ">4, 431/433, d=0.595, g=0.967\n",
      "1/1 [==============================] - 0s 24ms/step\n",
      ">4, 432/433, d=0.487, g=1.072\n",
      "1/1 [==============================] - 0s 21ms/step\n",
      ">4, 433/433, d=0.541, g=1.019\n",
      "1/1 [==============================] - 0s 21ms/step\n",
      ">5, 1/433, d=0.510, g=1.165\n",
      "1/1 [==============================] - 0s 18ms/step\n",
      ">5, 2/433, d=0.525, g=1.045\n",
      "1/1 [==============================] - 0s 20ms/step\n",
      ">5, 3/433, d=0.596, g=1.010\n",
      "1/1 [==============================] - 0s 18ms/step\n",
      ">5, 4/433, d=0.580, g=1.012\n",
      "1/1 [==============================] - 0s 18ms/step\n",
      ">5, 5/433, d=0.583, g=1.080\n",
      "1/1 [==============================] - 0s 20ms/step\n",
      ">5, 6/433, d=0.557, g=1.134\n",
      "1/1 [==============================] - 0s 24ms/step\n",
      ">5, 7/433, d=0.498, g=1.202\n",
      "1/1 [==============================] - 0s 20ms/step\n",
      ">5, 8/433, d=0.562, g=1.304\n",
      "1/1 [==============================] - 0s 19ms/step\n",
      ">5, 9/433, d=0.518, g=1.301\n",
      "1/1 [==============================] - 0s 20ms/step\n",
      ">5, 10/433, d=0.464, g=1.105\n",
      "1/1 [==============================] - 0s 19ms/step\n",
      ">5, 11/433, d=0.501, g=1.150\n",
      "1/1 [==============================] - 0s 19ms/step\n",
      ">5, 12/433, d=0.473, g=1.029\n",
      "1/1 [==============================] - 0s 20ms/step\n",
      ">5, 13/433, d=0.499, g=1.243\n",
      "1/1 [==============================] - 0s 22ms/step\n",
      ">5, 14/433, d=0.488, g=1.128\n",
      "1/1 [==============================] - 0s 18ms/step\n",
      ">5, 15/433, d=0.451, g=1.345\n",
      "1/1 [==============================] - 0s 19ms/step\n",
      ">5, 16/433, d=0.444, g=1.264\n",
      "1/1 [==============================] - 0s 47ms/step\n",
      ">5, 17/433, d=0.549, g=1.155\n",
      "1/1 [==============================] - 0s 22ms/step\n",
      ">5, 18/433, d=0.484, g=1.018\n",
      "1/1 [==============================] - 0s 19ms/step\n",
      ">5, 19/433, d=0.475, g=1.246\n",
      "1/1 [==============================] - 0s 21ms/step\n",
      ">5, 20/433, d=0.484, g=1.243\n",
      "1/1 [==============================] - 0s 18ms/step\n",
      ">5, 21/433, d=0.481, g=1.221\n",
      "1/1 [==============================] - 0s 19ms/step\n",
      ">5, 22/433, d=0.409, g=1.297\n",
      "1/1 [==============================] - 0s 21ms/step\n",
      ">5, 23/433, d=0.434, g=1.228\n",
      "1/1 [==============================] - 0s 20ms/step\n",
      ">5, 24/433, d=0.451, g=1.197\n",
      "1/1 [==============================] - 0s 19ms/step\n",
      ">5, 25/433, d=0.430, g=1.274\n",
      "1/1 [==============================] - 0s 21ms/step\n",
      ">5, 26/433, d=0.423, g=1.611\n",
      "1/1 [==============================] - 0s 19ms/step\n",
      ">5, 27/433, d=0.487, g=1.681\n",
      "1/1 [==============================] - 0s 23ms/step\n",
      ">5, 28/433, d=0.431, g=1.464\n",
      "1/1 [==============================] - 0s 21ms/step\n",
      ">5, 29/433, d=0.473, g=1.275\n",
      "1/1 [==============================] - 0s 19ms/step\n",
      ">5, 30/433, d=0.386, g=1.893\n",
      "1/1 [==============================] - 0s 18ms/step\n",
      ">5, 31/433, d=0.455, g=1.662\n",
      "1/1 [==============================] - 0s 20ms/step\n",
      ">5, 32/433, d=0.377, g=1.451\n",
      "1/1 [==============================] - 0s 22ms/step\n",
      ">5, 33/433, d=0.293, g=1.580\n",
      "1/1 [==============================] - 0s 19ms/step\n",
      ">5, 34/433, d=0.356, g=1.542\n",
      "1/1 [==============================] - 0s 18ms/step\n",
      ">5, 35/433, d=0.393, g=1.778\n",
      "1/1 [==============================] - 0s 21ms/step\n",
      ">5, 36/433, d=0.411, g=2.208\n",
      "1/1 [==============================] - 0s 18ms/step\n",
      ">5, 37/433, d=0.397, g=2.276\n",
      "1/1 [==============================] - 0s 18ms/step\n",
      ">5, 38/433, d=0.739, g=1.492\n",
      "1/1 [==============================] - 0s 20ms/step\n",
      ">5, 39/433, d=0.552, g=2.335\n",
      "1/1 [==============================] - 0s 19ms/step\n",
      ">5, 40/433, d=0.551, g=1.988\n",
      "1/1 [==============================] - 0s 19ms/step\n",
      ">5, 41/433, d=0.536, g=1.816\n",
      "1/1 [==============================] - 0s 17ms/step\n",
      ">5, 42/433, d=0.482, g=2.117\n",
      "1/1 [==============================] - 0s 18ms/step\n",
      ">5, 43/433, d=0.525, g=1.584\n",
      "1/1 [==============================] - 0s 21ms/step\n",
      ">5, 44/433, d=0.541, g=1.740\n",
      "1/1 [==============================] - 0s 20ms/step\n",
      ">5, 45/433, d=0.521, g=2.014\n",
      "1/1 [==============================] - 0s 18ms/step\n",
      ">5, 46/433, d=0.548, g=1.466\n",
      "1/1 [==============================] - 0s 18ms/step\n",
      ">5, 47/433, d=0.503, g=1.571\n",
      "1/1 [==============================] - 0s 17ms/step\n",
      ">5, 48/433, d=0.484, g=1.767\n",
      "1/1 [==============================] - 0s 19ms/step\n",
      ">5, 49/433, d=0.507, g=1.474\n",
      "1/1 [==============================] - 0s 18ms/step\n",
      ">5, 50/433, d=0.578, g=2.010\n",
      "1/1 [==============================] - 0s 19ms/step\n",
      ">5, 51/433, d=0.406, g=2.265\n",
      "1/1 [==============================] - 0s 20ms/step\n",
      ">5, 52/433, d=0.532, g=1.110\n",
      "1/1 [==============================] - 0s 20ms/step\n",
      ">5, 53/433, d=0.592, g=1.213\n",
      "1/1 [==============================] - 0s 17ms/step\n",
      ">5, 54/433, d=0.587, g=1.774\n",
      "1/1 [==============================] - 0s 29ms/step\n",
      ">5, 55/433, d=0.712, g=2.652\n",
      "1/1 [==============================] - 0s 18ms/step\n",
      ">5, 56/433, d=1.025, g=2.455\n",
      "1/1 [==============================] - 0s 19ms/step\n",
      ">5, 57/433, d=1.003, g=1.719\n",
      "1/1 [==============================] - 0s 20ms/step\n",
      ">5, 58/433, d=0.855, g=1.085\n",
      "1/1 [==============================] - 0s 17ms/step\n",
      ">5, 59/433, d=0.639, g=1.026\n",
      "1/1 [==============================] - 0s 18ms/step\n",
      ">5, 60/433, d=0.542, g=1.610\n",
      "1/1 [==============================] - 0s 18ms/step\n",
      ">5, 61/433, d=0.547, g=1.568\n",
      "1/1 [==============================] - 0s 20ms/step\n",
      ">5, 62/433, d=0.546, g=1.393\n",
      "1/1 [==============================] - 0s 21ms/step\n",
      ">5, 63/433, d=0.533, g=1.278\n",
      "1/1 [==============================] - 0s 21ms/step\n",
      ">5, 64/433, d=0.582, g=1.079\n",
      "1/1 [==============================] - 0s 19ms/step\n",
      ">5, 65/433, d=0.646, g=1.142\n",
      "1/1 [==============================] - 0s 18ms/step\n",
      ">5, 66/433, d=0.450, g=1.041\n",
      "1/1 [==============================] - 0s 21ms/step\n",
      ">5, 67/433, d=0.538, g=1.006\n",
      "1/1 [==============================] - 0s 25ms/step\n",
      ">5, 68/433, d=0.449, g=1.145\n",
      "1/1 [==============================] - 0s 18ms/step\n",
      ">5, 69/433, d=0.455, g=1.448\n",
      "1/1 [==============================] - 0s 20ms/step\n",
      ">5, 70/433, d=0.440, g=1.336\n",
      "1/1 [==============================] - 0s 20ms/step\n",
      ">5, 71/433, d=0.475, g=1.438\n",
      "1/1 [==============================] - 0s 20ms/step\n",
      ">5, 72/433, d=0.501, g=1.328\n",
      "1/1 [==============================] - 0s 21ms/step\n",
      ">5, 73/433, d=0.508, g=1.399\n",
      "1/1 [==============================] - 0s 18ms/step\n",
      ">5, 74/433, d=0.540, g=1.185\n",
      "1/1 [==============================] - 0s 18ms/step\n",
      ">5, 75/433, d=0.661, g=1.283\n",
      "1/1 [==============================] - 0s 18ms/step\n",
      ">5, 76/433, d=0.669, g=1.302\n",
      "1/1 [==============================] - 0s 20ms/step\n",
      ">5, 77/433, d=0.604, g=1.411\n",
      "1/1 [==============================] - 0s 19ms/step\n",
      ">5, 78/433, d=0.603, g=1.266\n",
      "1/1 [==============================] - 0s 17ms/step\n",
      ">5, 79/433, d=0.592, g=1.152\n",
      "1/1 [==============================] - 0s 19ms/step\n",
      ">5, 80/433, d=0.499, g=1.238\n",
      "1/1 [==============================] - 0s 18ms/step\n",
      ">5, 81/433, d=0.426, g=1.460\n",
      "1/1 [==============================] - 0s 20ms/step\n",
      ">5, 82/433, d=0.465, g=1.458\n",
      "1/1 [==============================] - 0s 18ms/step\n",
      ">5, 83/433, d=0.495, g=1.238\n",
      "1/1 [==============================] - 0s 19ms/step\n",
      ">5, 84/433, d=0.503, g=1.292\n",
      "1/1 [==============================] - 0s 19ms/step\n",
      ">5, 85/433, d=0.543, g=1.278\n",
      "1/1 [==============================] - 0s 18ms/step\n",
      ">5, 86/433, d=0.549, g=1.322\n",
      "1/1 [==============================] - 0s 18ms/step\n",
      ">5, 87/433, d=0.787, g=1.104\n",
      "1/1 [==============================] - 0s 19ms/step\n",
      ">5, 88/433, d=0.632, g=0.967\n",
      "1/1 [==============================] - 0s 25ms/step\n",
      ">5, 89/433, d=0.649, g=1.136\n",
      "1/1 [==============================] - 0s 20ms/step\n",
      ">5, 90/433, d=0.631, g=1.072\n",
      "1/1 [==============================] - 0s 21ms/step\n",
      ">5, 91/433, d=0.538, g=1.036\n",
      "1/1 [==============================] - 0s 18ms/step\n",
      ">5, 92/433, d=0.533, g=1.238\n",
      "1/1 [==============================] - 0s 19ms/step\n",
      ">5, 93/433, d=0.555, g=1.022\n",
      "1/1 [==============================] - 0s 20ms/step\n",
      ">5, 94/433, d=0.520, g=0.997\n",
      "1/1 [==============================] - 0s 20ms/step\n",
      ">5, 95/433, d=0.480, g=1.168\n",
      "1/1 [==============================] - 0s 21ms/step\n",
      ">5, 96/433, d=0.530, g=1.078\n",
      "1/1 [==============================] - 0s 21ms/step\n",
      ">5, 97/433, d=0.503, g=1.004\n",
      "1/1 [==============================] - 0s 17ms/step\n",
      ">5, 98/433, d=0.544, g=1.381\n",
      "1/1 [==============================] - 0s 19ms/step\n",
      ">5, 99/433, d=0.573, g=0.998\n",
      "1/1 [==============================] - 0s 19ms/step\n",
      ">5, 100/433, d=0.589, g=1.098\n",
      "1/1 [==============================] - 0s 20ms/step\n",
      ">5, 101/433, d=0.583, g=1.434\n",
      "1/1 [==============================] - 0s 18ms/step\n",
      ">5, 102/433, d=0.536, g=1.585\n",
      "1/1 [==============================] - 0s 18ms/step\n",
      ">5, 103/433, d=0.543, g=0.885\n",
      "1/1 [==============================] - 0s 19ms/step\n",
      ">5, 104/433, d=0.526, g=1.165\n",
      "1/1 [==============================] - 0s 21ms/step\n",
      ">5, 105/433, d=0.411, g=1.612\n",
      "1/1 [==============================] - 0s 18ms/step\n",
      ">5, 106/433, d=0.405, g=1.576\n",
      "1/1 [==============================] - 0s 18ms/step\n",
      ">5, 107/433, d=0.453, g=1.209\n",
      "1/1 [==============================] - 0s 20ms/step\n",
      ">5, 108/433, d=0.391, g=1.333\n",
      "1/1 [==============================] - 0s 19ms/step\n",
      ">5, 109/433, d=0.349, g=1.535\n",
      "1/1 [==============================] - 0s 17ms/step\n",
      ">5, 110/433, d=0.294, g=1.737\n",
      "1/1 [==============================] - 0s 19ms/step\n",
      ">5, 111/433, d=0.386, g=1.400\n",
      "1/1 [==============================] - 0s 18ms/step\n",
      ">5, 112/433, d=0.442, g=1.404\n",
      "1/1 [==============================] - 0s 22ms/step\n",
      ">5, 113/433, d=0.360, g=1.558\n",
      "1/1 [==============================] - 0s 19ms/step\n",
      ">5, 114/433, d=0.433, g=1.935\n",
      "1/1 [==============================] - 0s 19ms/step\n",
      ">5, 115/433, d=0.481, g=1.234\n",
      "1/1 [==============================] - 0s 19ms/step\n",
      ">5, 116/433, d=0.535, g=1.277\n",
      "1/1 [==============================] - 0s 18ms/step\n",
      ">5, 117/433, d=0.478, g=1.602\n",
      "1/1 [==============================] - 0s 18ms/step\n",
      ">5, 118/433, d=0.875, g=1.582\n",
      "1/1 [==============================] - 0s 17ms/step\n",
      ">5, 119/433, d=0.983, g=2.363\n",
      "1/1 [==============================] - 0s 20ms/step\n",
      ">5, 120/433, d=0.743, g=1.288\n",
      "1/1 [==============================] - 0s 18ms/step\n",
      ">5, 121/433, d=0.691, g=1.483\n",
      "1/1 [==============================] - 0s 17ms/step\n",
      ">5, 122/433, d=0.819, g=1.493\n",
      "1/1 [==============================] - 0s 20ms/step\n",
      ">5, 123/433, d=0.752, g=1.259\n",
      "1/1 [==============================] - 0s 18ms/step\n",
      ">5, 124/433, d=0.809, g=0.856\n",
      "1/1 [==============================] - 0s 24ms/step\n",
      ">5, 125/433, d=0.749, g=1.153\n",
      "1/1 [==============================] - 0s 18ms/step\n",
      ">5, 126/433, d=0.723, g=1.689\n",
      "1/1 [==============================] - 0s 18ms/step\n",
      ">5, 127/433, d=0.574, g=1.610\n",
      "1/1 [==============================] - 0s 19ms/step\n",
      ">5, 128/433, d=0.693, g=1.275\n",
      "1/1 [==============================] - 0s 18ms/step\n",
      ">5, 129/433, d=0.607, g=1.430\n",
      "1/1 [==============================] - 0s 21ms/step\n",
      ">5, 130/433, d=0.682, g=1.357\n",
      "1/1 [==============================] - 0s 19ms/step\n",
      ">5, 131/433, d=0.606, g=1.337\n",
      "1/1 [==============================] - 0s 19ms/step\n",
      ">5, 132/433, d=0.733, g=1.025\n",
      "1/1 [==============================] - 0s 30ms/step\n",
      ">5, 133/433, d=0.678, g=1.105\n",
      "1/1 [==============================] - 0s 49ms/step\n",
      ">5, 134/433, d=0.686, g=1.732\n",
      "1/1 [==============================] - 0s 32ms/step\n",
      ">5, 135/433, d=0.604, g=1.501\n",
      "1/1 [==============================] - 0s 36ms/step\n",
      ">5, 136/433, d=0.749, g=0.745\n",
      "1/1 [==============================] - 0s 21ms/step\n",
      ">5, 137/433, d=0.680, g=0.979\n",
      "1/1 [==============================] - 0s 22ms/step\n",
      ">5, 138/433, d=0.625, g=1.288\n",
      "1/1 [==============================] - 0s 20ms/step\n",
      ">5, 139/433, d=0.630, g=1.279\n",
      "1/1 [==============================] - 0s 22ms/step\n",
      ">5, 140/433, d=0.565, g=1.053\n",
      "1/1 [==============================] - 0s 22ms/step\n",
      ">5, 141/433, d=0.604, g=0.961\n",
      "1/1 [==============================] - 0s 21ms/step\n",
      ">5, 142/433, d=0.669, g=1.346\n",
      "1/1 [==============================] - 0s 17ms/step\n",
      ">5, 143/433, d=0.637, g=1.472\n",
      "1/1 [==============================] - 0s 21ms/step\n",
      ">5, 144/433, d=0.497, g=1.262\n",
      "1/1 [==============================] - 0s 19ms/step\n",
      ">5, 145/433, d=0.503, g=1.172\n",
      "1/1 [==============================] - 0s 19ms/step\n",
      ">5, 146/433, d=0.455, g=1.348\n",
      "1/1 [==============================] - 0s 19ms/step\n",
      ">5, 147/433, d=0.416, g=1.367\n",
      "1/1 [==============================] - 0s 21ms/step\n",
      ">5, 148/433, d=0.396, g=1.414\n",
      "1/1 [==============================] - 0s 24ms/step\n",
      ">5, 149/433, d=0.354, g=1.616\n",
      "1/1 [==============================] - 0s 19ms/step\n",
      ">5, 150/433, d=0.421, g=1.372\n",
      "1/1 [==============================] - 0s 26ms/step\n",
      ">5, 151/433, d=0.314, g=1.596\n",
      "1/1 [==============================] - 0s 21ms/step\n",
      ">5, 152/433, d=0.347, g=1.717\n",
      "1/1 [==============================] - 0s 19ms/step\n",
      ">5, 153/433, d=0.393, g=1.302\n",
      "1/1 [==============================] - 0s 21ms/step\n",
      ">5, 154/433, d=0.362, g=1.656\n",
      "1/1 [==============================] - 0s 22ms/step\n",
      ">5, 155/433, d=0.312, g=2.037\n",
      "1/1 [==============================] - 0s 22ms/step\n",
      ">5, 156/433, d=0.455, g=1.552\n",
      "1/1 [==============================] - 0s 20ms/step\n",
      ">5, 157/433, d=0.511, g=1.666\n",
      "1/1 [==============================] - 0s 19ms/step\n",
      ">5, 158/433, d=0.453, g=2.050\n",
      "1/1 [==============================] - 0s 31ms/step\n",
      ">5, 159/433, d=0.526, g=1.911\n",
      "1/1 [==============================] - 0s 28ms/step\n",
      ">5, 160/433, d=0.516, g=1.819\n",
      "1/1 [==============================] - 0s 64ms/step\n",
      ">5, 161/433, d=0.414, g=1.647\n",
      "1/1 [==============================] - 0s 21ms/step\n",
      ">5, 162/433, d=0.320, g=1.762\n",
      "1/1 [==============================] - 0s 21ms/step\n",
      ">5, 163/433, d=0.341, g=1.878\n",
      "1/1 [==============================] - 0s 19ms/step\n",
      ">5, 164/433, d=0.334, g=1.787\n",
      "1/1 [==============================] - 0s 19ms/step\n",
      ">5, 165/433, d=0.391, g=1.551\n",
      "1/1 [==============================] - 0s 19ms/step\n",
      ">5, 166/433, d=0.391, g=1.628\n",
      "1/1 [==============================] - 0s 20ms/step\n",
      ">5, 167/433, d=0.367, g=1.873\n",
      "1/1 [==============================] - 0s 20ms/step\n",
      ">5, 168/433, d=0.393, g=1.793\n",
      "1/1 [==============================] - 0s 36ms/step\n",
      ">5, 169/433, d=0.479, g=1.417\n",
      "1/1 [==============================] - 0s 35ms/step\n",
      ">5, 170/433, d=0.617, g=1.234\n",
      "1/1 [==============================] - 0s 33ms/step\n",
      ">5, 171/433, d=0.778, g=1.867\n",
      "1/1 [==============================] - 0s 20ms/step\n",
      ">5, 172/433, d=0.798, g=1.194\n",
      "1/1 [==============================] - 0s 20ms/step\n",
      ">5, 173/433, d=0.795, g=1.161\n",
      "1/1 [==============================] - 0s 19ms/step\n",
      ">5, 174/433, d=0.875, g=1.124\n",
      "1/1 [==============================] - 0s 22ms/step\n",
      ">5, 175/433, d=0.646, g=1.804\n",
      "1/1 [==============================] - 0s 23ms/step\n",
      ">5, 176/433, d=0.597, g=1.670\n",
      "1/1 [==============================] - 0s 35ms/step\n",
      ">5, 177/433, d=0.774, g=1.481\n",
      "1/1 [==============================] - 0s 43ms/step\n",
      ">5, 178/433, d=0.466, g=1.419\n",
      "1/1 [==============================] - 0s 20ms/step\n",
      ">5, 179/433, d=0.395, g=1.534\n",
      "1/1 [==============================] - 0s 23ms/step\n",
      ">5, 180/433, d=0.419, g=1.707\n",
      "1/1 [==============================] - 0s 18ms/step\n",
      ">5, 181/433, d=0.356, g=1.899\n",
      "1/1 [==============================] - 0s 34ms/step\n",
      ">5, 182/433, d=0.333, g=1.720\n",
      "1/1 [==============================] - 0s 44ms/step\n",
      ">5, 183/433, d=0.344, g=1.649\n",
      "1/1 [==============================] - 0s 22ms/step\n",
      ">5, 184/433, d=0.379, g=1.620\n",
      "1/1 [==============================] - 0s 18ms/step\n",
      ">5, 185/433, d=0.366, g=1.864\n",
      "1/1 [==============================] - 0s 18ms/step\n",
      ">5, 186/433, d=0.439, g=1.542\n",
      "1/1 [==============================] - 0s 21ms/step\n",
      ">5, 187/433, d=0.545, g=1.871\n",
      "1/1 [==============================] - 0s 20ms/step\n",
      ">5, 188/433, d=0.630, g=1.488\n",
      "1/1 [==============================] - 0s 18ms/step\n",
      ">5, 189/433, d=0.428, g=1.821\n",
      "1/1 [==============================] - 0s 18ms/step\n",
      ">5, 190/433, d=0.474, g=1.741\n",
      "1/1 [==============================] - 0s 19ms/step\n",
      ">5, 191/433, d=0.564, g=1.413\n",
      "1/1 [==============================] - 0s 19ms/step\n",
      ">5, 192/433, d=0.656, g=1.029\n",
      "1/1 [==============================] - 0s 18ms/step\n",
      ">5, 193/433, d=0.590, g=1.409\n",
      "1/1 [==============================] - 0s 18ms/step\n",
      ">5, 194/433, d=0.477, g=1.536\n",
      "1/1 [==============================] - 0s 18ms/step\n",
      ">5, 195/433, d=0.531, g=1.485\n",
      "1/1 [==============================] - 0s 20ms/step\n",
      ">5, 196/433, d=0.476, g=1.451\n",
      "1/1 [==============================] - 0s 19ms/step\n",
      ">5, 197/433, d=0.797, g=2.426\n",
      "1/1 [==============================] - 0s 17ms/step\n",
      ">5, 198/433, d=0.569, g=1.498\n",
      "1/1 [==============================] - 0s 20ms/step\n",
      ">5, 199/433, d=0.438, g=1.315\n",
      "1/1 [==============================] - 0s 20ms/step\n",
      ">5, 200/433, d=0.465, g=1.637\n",
      "1/1 [==============================] - 0s 18ms/step\n",
      ">5, 201/433, d=0.349, g=1.902\n",
      "1/1 [==============================] - 0s 23ms/step\n",
      ">5, 202/433, d=0.432, g=1.706\n",
      "1/1 [==============================] - 0s 18ms/step\n",
      ">5, 203/433, d=0.401, g=2.081\n",
      "1/1 [==============================] - 0s 20ms/step\n",
      ">5, 204/433, d=0.430, g=1.584\n",
      "1/1 [==============================] - 0s 18ms/step\n",
      ">5, 205/433, d=0.484, g=1.741\n",
      "1/1 [==============================] - 0s 19ms/step\n",
      ">5, 206/433, d=0.389, g=1.805\n",
      "1/1 [==============================] - 0s 19ms/step\n",
      ">5, 207/433, d=0.358, g=1.853\n",
      "1/1 [==============================] - 0s 18ms/step\n",
      ">5, 208/433, d=0.353, g=1.977\n",
      "1/1 [==============================] - 0s 23ms/step\n",
      ">5, 209/433, d=0.483, g=1.834\n",
      "1/1 [==============================] - 0s 18ms/step\n",
      ">5, 210/433, d=0.385, g=1.736\n",
      "1/1 [==============================] - 0s 21ms/step\n",
      ">5, 211/433, d=0.512, g=1.357\n",
      "1/1 [==============================] - 0s 23ms/step\n",
      ">5, 212/433, d=0.459, g=1.537\n",
      "1/1 [==============================] - 0s 18ms/step\n",
      ">5, 213/433, d=0.600, g=1.311\n",
      "1/1 [==============================] - 0s 17ms/step\n",
      ">5, 214/433, d=0.479, g=1.800\n",
      "1/1 [==============================] - 0s 19ms/step\n",
      ">5, 215/433, d=0.486, g=1.519\n",
      "1/1 [==============================] - 0s 22ms/step\n",
      ">5, 216/433, d=0.689, g=1.415\n",
      "1/1 [==============================] - 0s 18ms/step\n",
      ">5, 217/433, d=0.403, g=2.266\n",
      "1/1 [==============================] - 0s 19ms/step\n",
      ">5, 218/433, d=0.522, g=1.566\n",
      "1/1 [==============================] - 0s 18ms/step\n",
      ">5, 219/433, d=0.371, g=1.357\n",
      "1/1 [==============================] - 0s 19ms/step\n",
      ">5, 220/433, d=0.399, g=1.940\n",
      "1/1 [==============================] - 0s 19ms/step\n",
      ">5, 221/433, d=0.474, g=1.775\n",
      "1/1 [==============================] - 0s 19ms/step\n",
      ">5, 222/433, d=0.554, g=1.844\n",
      "1/1 [==============================] - 0s 17ms/step\n",
      ">5, 223/433, d=0.390, g=2.648\n",
      "1/1 [==============================] - 0s 19ms/step\n",
      ">5, 224/433, d=0.549, g=1.744\n",
      "1/1 [==============================] - 0s 17ms/step\n",
      ">5, 225/433, d=0.474, g=1.635\n",
      "1/1 [==============================] - 0s 20ms/step\n",
      ">5, 226/433, d=0.508, g=1.499\n",
      "1/1 [==============================] - 0s 18ms/step\n",
      ">5, 227/433, d=0.482, g=1.592\n",
      "1/1 [==============================] - 0s 20ms/step\n",
      ">5, 228/433, d=0.344, g=2.004\n",
      "1/1 [==============================] - 0s 18ms/step\n",
      ">5, 229/433, d=0.375, g=1.958\n",
      "1/1 [==============================] - 0s 19ms/step\n",
      ">5, 230/433, d=0.296, g=1.987\n",
      "1/1 [==============================] - 0s 20ms/step\n",
      ">5, 231/433, d=0.342, g=2.153\n",
      "1/1 [==============================] - 0s 18ms/step\n",
      ">5, 232/433, d=0.538, g=1.490\n",
      "1/1 [==============================] - 0s 18ms/step\n",
      ">5, 233/433, d=0.931, g=2.022\n",
      "1/1 [==============================] - 0s 18ms/step\n",
      ">5, 234/433, d=1.023, g=1.593\n",
      "1/1 [==============================] - 0s 21ms/step\n",
      ">5, 235/433, d=1.250, g=1.330\n",
      "1/1 [==============================] - 0s 19ms/step\n",
      ">5, 236/433, d=1.203, g=0.930\n",
      "1/1 [==============================] - 0s 18ms/step\n",
      ">5, 237/433, d=0.967, g=1.292\n",
      "1/1 [==============================] - 0s 27ms/step\n",
      ">5, 238/433, d=0.739, g=1.124\n",
      "1/1 [==============================] - 0s 19ms/step\n",
      ">5, 239/433, d=0.640, g=1.086\n",
      "1/1 [==============================] - 0s 18ms/step\n",
      ">5, 240/433, d=0.609, g=1.029\n",
      "1/1 [==============================] - 0s 20ms/step\n",
      ">5, 241/433, d=0.572, g=1.013\n",
      "1/1 [==============================] - 0s 19ms/step\n",
      ">5, 242/433, d=0.453, g=1.381\n",
      "1/1 [==============================] - 0s 19ms/step\n",
      ">5, 243/433, d=0.404, g=1.540\n",
      "1/1 [==============================] - 0s 18ms/step\n",
      ">5, 244/433, d=0.453, g=1.189\n",
      "1/1 [==============================] - 0s 18ms/step\n",
      ">5, 245/433, d=0.472, g=1.248\n",
      "1/1 [==============================] - 0s 18ms/step\n",
      ">5, 246/433, d=0.395, g=1.621\n",
      "1/1 [==============================] - 0s 18ms/step\n",
      ">5, 247/433, d=0.365, g=1.504\n",
      "1/1 [==============================] - 0s 18ms/step\n",
      ">5, 248/433, d=0.357, g=1.595\n",
      "1/1 [==============================] - 0s 19ms/step\n",
      ">5, 249/433, d=0.334, g=1.667\n",
      "1/1 [==============================] - 0s 18ms/step\n",
      ">5, 250/433, d=0.546, g=1.358\n",
      "1/1 [==============================] - 0s 19ms/step\n",
      ">5, 251/433, d=0.513, g=1.101\n",
      "1/1 [==============================] - 0s 18ms/step\n",
      ">5, 252/433, d=0.590, g=1.121\n",
      "1/1 [==============================] - 0s 16ms/step\n",
      ">5, 253/433, d=0.520, g=1.694\n",
      "1/1 [==============================] - 0s 19ms/step\n",
      ">5, 254/433, d=0.609, g=1.145\n",
      "1/1 [==============================] - 0s 19ms/step\n",
      ">5, 255/433, d=0.549, g=1.423\n",
      "1/1 [==============================] - 0s 21ms/step\n",
      ">5, 256/433, d=0.558, g=1.261\n",
      "1/1 [==============================] - 0s 20ms/step\n",
      ">5, 257/433, d=0.501, g=1.234\n",
      "1/1 [==============================] - 0s 18ms/step\n",
      ">5, 258/433, d=0.500, g=1.460\n",
      "1/1 [==============================] - 0s 17ms/step\n",
      ">5, 259/433, d=0.441, g=1.531\n",
      "1/1 [==============================] - 0s 19ms/step\n",
      ">5, 260/433, d=0.395, g=1.535\n",
      "1/1 [==============================] - 0s 18ms/step\n",
      ">5, 261/433, d=0.414, g=1.460\n",
      "1/1 [==============================] - 0s 20ms/step\n",
      ">5, 262/433, d=0.407, g=1.331\n",
      "1/1 [==============================] - 0s 21ms/step\n",
      ">5, 263/433, d=0.458, g=1.507\n",
      "1/1 [==============================] - 0s 19ms/step\n",
      ">5, 264/433, d=0.527, g=1.152\n",
      "1/1 [==============================] - 0s 19ms/step\n",
      ">5, 265/433, d=0.504, g=1.341\n",
      "1/1 [==============================] - 0s 18ms/step\n",
      ">5, 266/433, d=0.530, g=1.750\n",
      "1/1 [==============================] - 0s 18ms/step\n",
      ">5, 267/433, d=0.591, g=0.971\n",
      "1/1 [==============================] - 0s 18ms/step\n",
      ">5, 268/433, d=0.551, g=2.471\n",
      "1/1 [==============================] - 0s 18ms/step\n",
      ">5, 269/433, d=0.573, g=1.212\n",
      "1/1 [==============================] - 0s 18ms/step\n",
      ">5, 270/433, d=0.470, g=1.419\n",
      "1/1 [==============================] - 0s 18ms/step\n",
      ">5, 271/433, d=0.380, g=2.010\n",
      "1/1 [==============================] - 0s 18ms/step\n",
      ">5, 272/433, d=0.374, g=1.445\n",
      "1/1 [==============================] - 0s 18ms/step\n",
      ">5, 273/433, d=0.474, g=1.485\n",
      "1/1 [==============================] - 0s 24ms/step\n",
      ">5, 274/433, d=0.491, g=1.291\n",
      "1/1 [==============================] - 0s 21ms/step\n",
      ">5, 275/433, d=0.621, g=1.663\n",
      "1/1 [==============================] - 0s 18ms/step\n",
      ">5, 276/433, d=0.870, g=1.165\n",
      "1/1 [==============================] - 0s 19ms/step\n",
      ">5, 277/433, d=0.669, g=1.981\n",
      "1/1 [==============================] - 0s 17ms/step\n",
      ">5, 278/433, d=0.636, g=1.396\n",
      "1/1 [==============================] - 0s 18ms/step\n",
      ">5, 279/433, d=0.732, g=2.029\n",
      "1/1 [==============================] - 0s 18ms/step\n",
      ">5, 280/433, d=0.730, g=1.706\n",
      "1/1 [==============================] - 0s 19ms/step\n",
      ">5, 281/433, d=0.532, g=1.889\n",
      "1/1 [==============================] - 0s 19ms/step\n",
      ">5, 282/433, d=0.510, g=2.167\n",
      "1/1 [==============================] - 0s 18ms/step\n",
      ">5, 283/433, d=0.776, g=1.311\n",
      "1/1 [==============================] - 0s 20ms/step\n",
      ">5, 284/433, d=0.670, g=1.142\n",
      "1/1 [==============================] - 0s 18ms/step\n",
      ">5, 285/433, d=0.626, g=1.223\n",
      "1/1 [==============================] - 0s 20ms/step\n",
      ">5, 286/433, d=0.483, g=1.458\n",
      "1/1 [==============================] - 0s 18ms/step\n",
      ">5, 287/433, d=0.474, g=1.741\n",
      "1/1 [==============================] - 0s 17ms/step\n",
      ">5, 288/433, d=0.724, g=1.276\n",
      "1/1 [==============================] - 0s 17ms/step\n",
      ">5, 289/433, d=0.796, g=1.183\n",
      "1/1 [==============================] - 0s 18ms/step\n",
      ">5, 290/433, d=0.680, g=1.625\n",
      "1/1 [==============================] - 0s 20ms/step\n",
      ">5, 291/433, d=0.577, g=1.559\n",
      "1/1 [==============================] - 0s 18ms/step\n",
      ">5, 292/433, d=0.718, g=0.984\n",
      "1/1 [==============================] - 0s 18ms/step\n",
      ">5, 293/433, d=0.652, g=1.202\n",
      "1/1 [==============================] - 0s 18ms/step\n",
      ">5, 294/433, d=0.595, g=1.166\n",
      "1/1 [==============================] - 0s 20ms/step\n",
      ">5, 295/433, d=0.610, g=1.100\n",
      "1/1 [==============================] - 0s 20ms/step\n",
      ">5, 296/433, d=0.552, g=1.138\n",
      "1/1 [==============================] - 0s 19ms/step\n",
      ">5, 297/433, d=0.563, g=0.893\n",
      "1/1 [==============================] - 0s 17ms/step\n",
      ">5, 298/433, d=0.514, g=1.195\n",
      "1/1 [==============================] - 0s 19ms/step\n",
      ">5, 299/433, d=0.536, g=1.133\n",
      "1/1 [==============================] - 0s 18ms/step\n",
      ">5, 300/433, d=0.452, g=1.280\n",
      "1/1 [==============================] - 0s 19ms/step\n",
      ">5, 301/433, d=0.505, g=1.321\n",
      "1/1 [==============================] - 0s 18ms/step\n",
      ">5, 302/433, d=0.481, g=1.120\n",
      "1/1 [==============================] - 0s 18ms/step\n",
      ">5, 303/433, d=0.454, g=1.270\n",
      "1/1 [==============================] - 0s 19ms/step\n",
      ">5, 304/433, d=0.503, g=1.251\n",
      "1/1 [==============================] - 0s 18ms/step\n",
      ">5, 305/433, d=0.512, g=1.129\n",
      "1/1 [==============================] - 0s 21ms/step\n",
      ">5, 306/433, d=0.530, g=1.306\n",
      "1/1 [==============================] - 0s 18ms/step\n",
      ">5, 307/433, d=0.443, g=1.478\n",
      "1/1 [==============================] - 0s 19ms/step\n",
      ">5, 308/433, d=0.563, g=1.266\n",
      "1/1 [==============================] - 0s 21ms/step\n",
      ">5, 309/433, d=0.577, g=1.280\n",
      "1/1 [==============================] - 0s 18ms/step\n",
      ">5, 310/433, d=0.566, g=1.150\n",
      "1/1 [==============================] - 0s 19ms/step\n",
      ">5, 311/433, d=0.704, g=0.890\n",
      "1/1 [==============================] - 0s 19ms/step\n",
      ">5, 312/433, d=0.657, g=1.203\n",
      "1/1 [==============================] - 0s 18ms/step\n",
      ">5, 313/433, d=0.547, g=1.503\n",
      "1/1 [==============================] - 0s 18ms/step\n",
      ">5, 314/433, d=0.584, g=1.435\n",
      "1/1 [==============================] - 0s 19ms/step\n",
      ">5, 315/433, d=0.678, g=1.273\n",
      "1/1 [==============================] - 0s 19ms/step\n",
      ">5, 316/433, d=0.714, g=1.145\n",
      "1/1 [==============================] - 0s 18ms/step\n",
      ">5, 317/433, d=0.561, g=1.215\n",
      "1/1 [==============================] - 0s 19ms/step\n",
      ">5, 318/433, d=0.606, g=1.438\n",
      "1/1 [==============================] - 0s 19ms/step\n",
      ">5, 319/433, d=0.692, g=1.355\n",
      "1/1 [==============================] - 0s 19ms/step\n",
      ">5, 320/433, d=0.691, g=1.116\n",
      "1/1 [==============================] - 0s 19ms/step\n",
      ">5, 321/433, d=0.781, g=0.993\n",
      "1/1 [==============================] - 0s 19ms/step\n",
      ">5, 322/433, d=0.691, g=1.207\n",
      "1/1 [==============================] - 0s 17ms/step\n",
      ">5, 323/433, d=0.699, g=1.066\n",
      "1/1 [==============================] - 0s 20ms/step\n",
      ">5, 324/433, d=0.651, g=1.210\n",
      "1/1 [==============================] - 0s 18ms/step\n",
      ">5, 325/433, d=0.582, g=1.366\n",
      "1/1 [==============================] - 0s 18ms/step\n",
      ">5, 326/433, d=0.615, g=1.229\n",
      "1/1 [==============================] - 0s 17ms/step\n",
      ">5, 327/433, d=0.642, g=1.547\n",
      "1/1 [==============================] - 0s 19ms/step\n",
      ">5, 328/433, d=0.588, g=1.491\n",
      "1/1 [==============================] - 0s 18ms/step\n",
      ">5, 329/433, d=0.610, g=1.607\n",
      "1/1 [==============================] - 0s 17ms/step\n",
      ">5, 330/433, d=0.598, g=1.365\n",
      "1/1 [==============================] - 0s 21ms/step\n",
      ">5, 331/433, d=0.635, g=1.245\n",
      "1/1 [==============================] - 0s 18ms/step\n",
      ">5, 332/433, d=0.648, g=1.099\n",
      "1/1 [==============================] - 0s 18ms/step\n",
      ">5, 333/433, d=0.574, g=1.101\n",
      "1/1 [==============================] - 0s 23ms/step\n",
      ">5, 334/433, d=0.548, g=1.213\n",
      "1/1 [==============================] - 0s 19ms/step\n",
      ">5, 335/433, d=0.559, g=1.095\n",
      "1/1 [==============================] - 0s 19ms/step\n",
      ">5, 336/433, d=0.640, g=1.288\n",
      "1/1 [==============================] - 0s 19ms/step\n",
      ">5, 337/433, d=0.581, g=1.369\n",
      "1/1 [==============================] - 0s 22ms/step\n",
      ">5, 338/433, d=0.624, g=1.341\n",
      "1/1 [==============================] - 0s 19ms/step\n",
      ">5, 339/433, d=0.608, g=1.065\n",
      "1/1 [==============================] - 0s 17ms/step\n",
      ">5, 340/433, d=0.525, g=1.448\n",
      "1/1 [==============================] - 0s 20ms/step\n",
      ">5, 341/433, d=0.546, g=1.597\n",
      "1/1 [==============================] - 0s 20ms/step\n",
      ">5, 342/433, d=0.605, g=1.389\n",
      "1/1 [==============================] - 0s 19ms/step\n",
      ">5, 343/433, d=0.600, g=0.979\n",
      "1/1 [==============================] - 0s 19ms/step\n",
      ">5, 344/433, d=0.653, g=1.029\n",
      "1/1 [==============================] - 0s 21ms/step\n",
      ">5, 345/433, d=0.668, g=1.153\n",
      "1/1 [==============================] - 0s 20ms/step\n",
      ">5, 346/433, d=0.555, g=1.070\n",
      "1/1 [==============================] - 0s 20ms/step\n",
      ">5, 347/433, d=0.598, g=1.030\n",
      "1/1 [==============================] - 0s 23ms/step\n",
      ">5, 348/433, d=0.664, g=1.123\n",
      "1/1 [==============================] - 0s 19ms/step\n",
      ">5, 349/433, d=0.657, g=1.205\n",
      "1/1 [==============================] - 0s 21ms/step\n",
      ">5, 350/433, d=0.591, g=1.250\n",
      "1/1 [==============================] - 0s 18ms/step\n",
      ">5, 351/433, d=0.653, g=0.922\n",
      "1/1 [==============================] - 0s 34ms/step\n",
      ">5, 352/433, d=0.625, g=1.106\n",
      "1/1 [==============================] - 0s 23ms/step\n",
      ">5, 353/433, d=0.617, g=1.058\n",
      "1/1 [==============================] - 0s 20ms/step\n",
      ">5, 354/433, d=0.625, g=0.860\n",
      "1/1 [==============================] - 0s 22ms/step\n",
      ">5, 355/433, d=0.710, g=0.825\n",
      "1/1 [==============================] - 0s 20ms/step\n",
      ">5, 356/433, d=0.613, g=0.769\n",
      "1/1 [==============================] - 0s 19ms/step\n",
      ">5, 357/433, d=0.678, g=0.872\n",
      "1/1 [==============================] - 0s 19ms/step\n",
      ">5, 358/433, d=0.555, g=0.909\n",
      "1/1 [==============================] - 0s 19ms/step\n",
      ">5, 359/433, d=0.541, g=0.958\n",
      "1/1 [==============================] - 0s 19ms/step\n",
      ">5, 360/433, d=0.540, g=0.933\n",
      "1/1 [==============================] - 0s 21ms/step\n",
      ">5, 361/433, d=0.611, g=1.107\n",
      "1/1 [==============================] - 0s 25ms/step\n",
      ">5, 362/433, d=0.546, g=1.260\n",
      "1/1 [==============================] - 0s 18ms/step\n",
      ">5, 363/433, d=0.463, g=1.295\n",
      "1/1 [==============================] - 0s 18ms/step\n",
      ">5, 364/433, d=0.540, g=1.225\n",
      "1/1 [==============================] - 0s 22ms/step\n",
      ">5, 365/433, d=0.490, g=1.055\n",
      "1/1 [==============================] - 0s 19ms/step\n",
      ">5, 366/433, d=0.465, g=1.385\n",
      "1/1 [==============================] - 0s 19ms/step\n",
      ">5, 367/433, d=0.446, g=1.578\n",
      "1/1 [==============================] - 0s 18ms/step\n",
      ">5, 368/433, d=0.400, g=1.674\n",
      "1/1 [==============================] - 0s 18ms/step\n",
      ">5, 369/433, d=0.361, g=1.816\n",
      "1/1 [==============================] - 0s 22ms/step\n",
      ">5, 370/433, d=0.383, g=1.373\n",
      "1/1 [==============================] - 0s 18ms/step\n",
      ">5, 371/433, d=0.409, g=1.351\n",
      "1/1 [==============================] - 0s 18ms/step\n",
      ">5, 372/433, d=0.432, g=1.432\n",
      "1/1 [==============================] - 0s 20ms/step\n",
      ">5, 373/433, d=0.427, g=1.426\n",
      "1/1 [==============================] - 0s 20ms/step\n",
      ">5, 374/433, d=0.403, g=1.487\n",
      "1/1 [==============================] - 0s 23ms/step\n",
      ">5, 375/433, d=0.490, g=1.155\n",
      "1/1 [==============================] - 0s 17ms/step\n",
      ">5, 376/433, d=0.436, g=1.432\n",
      "1/1 [==============================] - 0s 18ms/step\n",
      ">5, 377/433, d=0.473, g=1.167\n",
      "1/1 [==============================] - 0s 18ms/step\n",
      ">5, 378/433, d=0.445, g=1.504\n",
      "1/1 [==============================] - 0s 18ms/step\n",
      ">5, 379/433, d=0.543, g=1.342\n",
      "1/1 [==============================] - 0s 19ms/step\n",
      ">5, 380/433, d=0.590, g=1.589\n",
      "1/1 [==============================] - 0s 21ms/step\n",
      ">5, 381/433, d=0.616, g=1.289\n",
      "1/1 [==============================] - 0s 21ms/step\n",
      ">5, 382/433, d=0.548, g=1.192\n",
      "1/1 [==============================] - 0s 19ms/step\n",
      ">5, 383/433, d=0.644, g=1.194\n",
      "1/1 [==============================] - 0s 18ms/step\n",
      ">5, 384/433, d=0.608, g=1.123\n",
      "1/1 [==============================] - 0s 21ms/step\n",
      ">5, 385/433, d=0.571, g=1.119\n",
      "1/1 [==============================] - 0s 18ms/step\n",
      ">5, 386/433, d=0.553, g=1.281\n",
      "1/1 [==============================] - 0s 19ms/step\n",
      ">5, 387/433, d=0.501, g=1.513\n",
      "1/1 [==============================] - 0s 22ms/step\n",
      ">5, 388/433, d=0.570, g=1.068\n",
      "1/1 [==============================] - 0s 18ms/step\n",
      ">5, 389/433, d=0.596, g=1.000\n",
      "1/1 [==============================] - 0s 34ms/step\n",
      ">5, 390/433, d=0.646, g=0.991\n",
      "1/1 [==============================] - 0s 34ms/step\n",
      ">5, 391/433, d=0.721, g=1.129\n",
      "1/1 [==============================] - 0s 24ms/step\n",
      ">5, 392/433, d=0.765, g=1.186\n",
      "1/1 [==============================] - 0s 18ms/step\n",
      ">5, 393/433, d=0.687, g=1.048\n",
      "1/1 [==============================] - 0s 19ms/step\n",
      ">5, 394/433, d=0.585, g=0.909\n",
      "1/1 [==============================] - 0s 18ms/step\n",
      ">5, 395/433, d=0.632, g=1.047\n",
      "1/1 [==============================] - 0s 18ms/step\n",
      ">5, 396/433, d=0.636, g=0.994\n",
      "1/1 [==============================] - 0s 17ms/step\n",
      ">5, 397/433, d=0.569, g=1.059\n",
      "1/1 [==============================] - 0s 18ms/step\n",
      ">5, 398/433, d=0.513, g=1.177\n",
      "1/1 [==============================] - 0s 19ms/step\n",
      ">5, 399/433, d=0.475, g=1.338\n",
      "1/1 [==============================] - 0s 19ms/step\n",
      ">5, 400/433, d=0.570, g=1.076\n",
      "1/1 [==============================] - 0s 19ms/step\n",
      ">5, 401/433, d=0.590, g=1.244\n",
      "1/1 [==============================] - 0s 19ms/step\n",
      ">5, 402/433, d=0.529, g=1.357\n",
      "1/1 [==============================] - 0s 17ms/step\n",
      ">5, 403/433, d=0.530, g=1.426\n",
      "1/1 [==============================] - 0s 18ms/step\n",
      ">5, 404/433, d=0.504, g=1.315\n",
      "1/1 [==============================] - 0s 18ms/step\n",
      ">5, 405/433, d=0.407, g=1.187\n",
      "1/1 [==============================] - 0s 20ms/step\n",
      ">5, 406/433, d=0.520, g=1.355\n",
      "1/1 [==============================] - 0s 18ms/step\n",
      ">5, 407/433, d=0.535, g=1.033\n",
      "1/1 [==============================] - 0s 18ms/step\n",
      ">5, 408/433, d=0.573, g=1.310\n",
      "1/1 [==============================] - 0s 19ms/step\n",
      ">5, 409/433, d=0.599, g=1.238\n",
      "1/1 [==============================] - 0s 17ms/step\n",
      ">5, 410/433, d=0.488, g=1.138\n",
      "1/1 [==============================] - 0s 19ms/step\n",
      ">5, 411/433, d=0.558, g=1.896\n",
      "1/1 [==============================] - 0s 20ms/step\n",
      ">5, 412/433, d=0.698, g=1.232\n",
      "1/1 [==============================] - 0s 18ms/step\n",
      ">5, 413/433, d=0.635, g=1.401\n",
      "1/1 [==============================] - 0s 18ms/step\n",
      ">5, 414/433, d=0.620, g=0.984\n",
      "1/1 [==============================] - 0s 18ms/step\n",
      ">5, 415/433, d=0.607, g=1.328\n",
      "1/1 [==============================] - 0s 19ms/step\n",
      ">5, 416/433, d=0.579, g=1.350\n",
      "1/1 [==============================] - 0s 18ms/step\n",
      ">5, 417/433, d=0.651, g=0.964\n",
      "1/1 [==============================] - 0s 16ms/step\n",
      ">5, 418/433, d=0.576, g=0.989\n",
      "1/1 [==============================] - 0s 22ms/step\n",
      ">5, 419/433, d=0.626, g=1.144\n",
      "1/1 [==============================] - 0s 19ms/step\n",
      ">5, 420/433, d=0.524, g=1.147\n",
      "1/1 [==============================] - 0s 20ms/step\n",
      ">5, 421/433, d=0.495, g=1.161\n",
      "1/1 [==============================] - 0s 19ms/step\n",
      ">5, 422/433, d=0.633, g=0.976\n",
      "1/1 [==============================] - 0s 18ms/step\n",
      ">5, 423/433, d=0.612, g=1.094\n",
      "1/1 [==============================] - 0s 20ms/step\n",
      ">5, 424/433, d=0.652, g=1.189\n",
      "1/1 [==============================] - 0s 19ms/step\n",
      ">5, 425/433, d=0.662, g=0.915\n",
      "1/1 [==============================] - 0s 19ms/step\n",
      ">5, 426/433, d=0.598, g=1.260\n",
      "1/1 [==============================] - 0s 21ms/step\n",
      ">5, 427/433, d=0.557, g=1.224\n",
      "1/1 [==============================] - 0s 18ms/step\n",
      ">5, 428/433, d=0.616, g=0.772\n",
      "1/1 [==============================] - 0s 19ms/step\n",
      ">5, 429/433, d=0.615, g=0.979\n",
      "1/1 [==============================] - 0s 33ms/step\n",
      ">5, 430/433, d=0.556, g=1.366\n",
      "1/1 [==============================] - 0s 20ms/step\n",
      ">5, 431/433, d=0.514, g=1.269\n",
      "1/1 [==============================] - 0s 21ms/step\n",
      ">5, 432/433, d=0.519, g=0.958\n",
      "1/1 [==============================] - 0s 22ms/step\n",
      ">5, 433/433, d=0.510, g=1.216\n",
      "1/1 [==============================] - 0s 26ms/step\n",
      ">6, 1/433, d=0.675, g=1.047\n",
      "1/1 [==============================] - 0s 44ms/step\n",
      ">6, 2/433, d=0.662, g=1.349\n",
      "1/1 [==============================] - 0s 55ms/step\n",
      ">6, 3/433, d=0.523, g=1.448\n",
      "1/1 [==============================] - 0s 28ms/step\n",
      ">6, 4/433, d=0.549, g=0.910\n",
      "1/1 [==============================] - 0s 22ms/step\n",
      ">6, 5/433, d=0.530, g=1.455\n",
      "1/1 [==============================] - 0s 24ms/step\n",
      ">6, 6/433, d=0.568, g=1.111\n",
      "1/1 [==============================] - 0s 20ms/step\n",
      ">6, 7/433, d=0.646, g=0.988\n",
      "1/1 [==============================] - 0s 21ms/step\n",
      ">6, 8/433, d=0.622, g=2.022\n",
      "1/1 [==============================] - 0s 21ms/step\n",
      ">6, 9/433, d=0.644, g=0.783\n",
      "1/1 [==============================] - 0s 22ms/step\n",
      ">6, 10/433, d=0.569, g=2.670\n",
      "1/1 [==============================] - 0s 20ms/step\n",
      ">6, 11/433, d=0.536, g=1.340\n",
      "1/1 [==============================] - 0s 18ms/step\n",
      ">6, 12/433, d=0.542, g=0.784\n",
      "1/1 [==============================] - 0s 22ms/step\n",
      ">6, 13/433, d=0.713, g=1.014\n",
      "1/1 [==============================] - 0s 21ms/step\n",
      ">6, 14/433, d=0.724, g=0.996\n",
      "1/1 [==============================] - 0s 20ms/step\n",
      ">6, 15/433, d=0.619, g=1.046\n",
      "1/1 [==============================] - 0s 20ms/step\n",
      ">6, 16/433, d=0.599, g=0.970\n",
      "1/1 [==============================] - 0s 20ms/step\n",
      ">6, 17/433, d=0.609, g=1.127\n",
      "1/1 [==============================] - 0s 25ms/step\n",
      ">6, 18/433, d=0.613, g=1.103\n",
      "1/1 [==============================] - 0s 21ms/step\n",
      ">6, 19/433, d=0.610, g=1.312\n",
      "1/1 [==============================] - 0s 23ms/step\n",
      ">6, 20/433, d=0.655, g=1.165\n",
      "1/1 [==============================] - 0s 20ms/step\n",
      ">6, 21/433, d=0.560, g=1.314\n",
      "1/1 [==============================] - 0s 29ms/step\n",
      ">6, 22/433, d=0.468, g=1.125\n",
      "1/1 [==============================] - 0s 26ms/step\n",
      ">6, 23/433, d=0.478, g=1.226\n",
      "1/1 [==============================] - 0s 22ms/step\n",
      ">6, 24/433, d=0.524, g=1.156\n",
      "1/1 [==============================] - 0s 21ms/step\n",
      ">6, 25/433, d=0.544, g=1.226\n",
      "1/1 [==============================] - 0s 20ms/step\n",
      ">6, 26/433, d=0.595, g=1.071\n",
      "1/1 [==============================] - 0s 20ms/step\n",
      ">6, 27/433, d=0.492, g=1.130\n",
      "1/1 [==============================] - 0s 21ms/step\n",
      ">6, 28/433, d=0.538, g=1.324\n",
      "1/1 [==============================] - 0s 32ms/step\n",
      ">6, 29/433, d=0.498, g=1.221\n",
      "1/1 [==============================] - 0s 24ms/step\n",
      ">6, 30/433, d=0.547, g=1.595\n",
      "1/1 [==============================] - 0s 23ms/step\n",
      ">6, 31/433, d=0.640, g=1.484\n",
      "1/1 [==============================] - 0s 21ms/step\n",
      ">6, 32/433, d=0.524, g=1.134\n",
      "1/1 [==============================] - 0s 19ms/step\n",
      ">6, 33/433, d=0.545, g=1.026\n",
      "1/1 [==============================] - 0s 20ms/step\n",
      ">6, 34/433, d=0.582, g=1.606\n",
      "1/1 [==============================] - 0s 20ms/step\n",
      ">6, 35/433, d=0.559, g=1.258\n",
      "1/1 [==============================] - 0s 20ms/step\n",
      ">6, 36/433, d=0.509, g=1.443\n",
      "1/1 [==============================] - 0s 24ms/step\n",
      ">6, 37/433, d=0.390, g=1.241\n",
      "1/1 [==============================] - 0s 19ms/step\n",
      ">6, 38/433, d=0.452, g=1.490\n",
      "1/1 [==============================] - 0s 27ms/step\n",
      ">6, 39/433, d=0.382, g=1.501\n",
      "1/1 [==============================] - 0s 24ms/step\n",
      ">6, 40/433, d=0.446, g=1.410\n",
      "1/1 [==============================] - 0s 24ms/step\n",
      ">6, 41/433, d=0.381, g=1.505\n",
      "1/1 [==============================] - 0s 18ms/step\n",
      ">6, 42/433, d=0.379, g=1.561\n",
      "1/1 [==============================] - 0s 20ms/step\n",
      ">6, 43/433, d=0.354, g=1.333\n",
      "1/1 [==============================] - 0s 20ms/step\n",
      ">6, 44/433, d=0.477, g=1.137\n",
      "1/1 [==============================] - 0s 21ms/step\n",
      ">6, 45/433, d=0.479, g=1.414\n",
      "1/1 [==============================] - 0s 28ms/step\n",
      ">6, 46/433, d=0.481, g=1.547\n",
      "1/1 [==============================] - 0s 40ms/step\n",
      ">6, 47/433, d=0.456, g=1.531\n",
      "1/1 [==============================] - 0s 23ms/step\n",
      ">6, 48/433, d=0.488, g=1.492\n",
      "1/1 [==============================] - 0s 50ms/step\n",
      ">6, 49/433, d=0.540, g=1.343\n",
      "1/1 [==============================] - 0s 20ms/step\n",
      ">6, 50/433, d=0.576, g=1.365\n",
      "1/1 [==============================] - 0s 28ms/step\n",
      ">6, 51/433, d=0.512, g=1.509\n",
      "1/1 [==============================] - 0s 22ms/step\n",
      ">6, 52/433, d=0.428, g=1.984\n",
      "1/1 [==============================] - 0s 19ms/step\n",
      ">6, 53/433, d=0.332, g=2.046\n",
      "1/1 [==============================] - 0s 23ms/step\n",
      ">6, 54/433, d=0.360, g=1.963\n",
      "1/1 [==============================] - 0s 22ms/step\n",
      ">6, 55/433, d=0.385, g=2.088\n",
      "1/1 [==============================] - 0s 21ms/step\n",
      ">6, 56/433, d=0.515, g=2.756\n",
      "1/1 [==============================] - 0s 21ms/step\n",
      ">6, 57/433, d=0.649, g=0.938\n",
      "1/1 [==============================] - 0s 26ms/step\n",
      ">6, 58/433, d=0.660, g=1.833\n",
      "1/1 [==============================] - 0s 22ms/step\n",
      ">6, 59/433, d=0.562, g=1.081\n",
      "1/1 [==============================] - 0s 20ms/step\n",
      ">6, 60/433, d=0.551, g=0.989\n",
      "1/1 [==============================] - 0s 27ms/step\n",
      ">6, 61/433, d=0.541, g=2.191\n",
      "1/1 [==============================] - 0s 55ms/step\n",
      ">6, 62/433, d=0.467, g=1.411\n",
      "1/1 [==============================] - 0s 24ms/step\n",
      ">6, 63/433, d=0.453, g=1.105\n",
      "1/1 [==============================] - 0s 24ms/step\n",
      ">6, 64/433, d=0.496, g=1.843\n",
      "1/1 [==============================] - 0s 23ms/step\n",
      ">6, 65/433, d=0.435, g=1.607\n",
      "1/1 [==============================] - 0s 18ms/step\n",
      ">6, 66/433, d=0.527, g=0.937\n",
      "1/1 [==============================] - 0s 19ms/step\n",
      ">6, 67/433, d=0.714, g=1.308\n",
      "1/1 [==============================] - 0s 20ms/step\n",
      ">6, 68/433, d=0.524, g=1.568\n",
      "1/1 [==============================] - 0s 21ms/step\n",
      ">6, 69/433, d=0.519, g=1.429\n",
      "1/1 [==============================] - 0s 19ms/step\n",
      ">6, 70/433, d=0.746, g=1.328\n",
      "1/1 [==============================] - 0s 20ms/step\n",
      ">6, 71/433, d=0.585, g=1.110\n",
      "1/1 [==============================] - 0s 19ms/step\n",
      ">6, 72/433, d=0.650, g=1.623\n",
      "1/1 [==============================] - 0s 18ms/step\n",
      ">6, 73/433, d=0.619, g=1.417\n",
      "1/1 [==============================] - 0s 20ms/step\n",
      ">6, 74/433, d=0.713, g=1.062\n",
      "1/1 [==============================] - 0s 20ms/step\n",
      ">6, 75/433, d=0.508, g=1.944\n",
      "1/1 [==============================] - 0s 18ms/step\n",
      ">6, 76/433, d=0.365, g=1.981\n",
      "1/1 [==============================] - 0s 18ms/step\n",
      ">6, 77/433, d=0.555, g=1.152\n",
      "1/1 [==============================] - 0s 19ms/step\n",
      ">6, 78/433, d=0.577, g=1.273\n",
      "1/1 [==============================] - 0s 19ms/step\n",
      ">6, 79/433, d=0.731, g=1.604\n",
      "1/1 [==============================] - 0s 19ms/step\n",
      ">6, 80/433, d=0.726, g=1.080\n",
      "1/1 [==============================] - 0s 20ms/step\n",
      ">6, 81/433, d=0.684, g=0.844\n",
      "1/1 [==============================] - 0s 18ms/step\n",
      ">6, 82/433, d=0.651, g=1.304\n",
      "1/1 [==============================] - 0s 18ms/step\n",
      ">6, 83/433, d=0.518, g=1.141\n",
      "1/1 [==============================] - 0s 19ms/step\n",
      ">6, 84/433, d=0.410, g=1.308\n",
      "1/1 [==============================] - 0s 17ms/step\n",
      ">6, 85/433, d=0.463, g=1.376\n",
      "1/1 [==============================] - 0s 18ms/step\n",
      ">6, 86/433, d=0.429, g=1.391\n",
      "1/1 [==============================] - 0s 18ms/step\n",
      ">6, 87/433, d=0.440, g=1.282\n",
      "1/1 [==============================] - 0s 18ms/step\n",
      ">6, 88/433, d=0.394, g=1.382\n",
      "1/1 [==============================] - 0s 18ms/step\n",
      ">6, 89/433, d=0.400, g=1.929\n",
      "1/1 [==============================] - 0s 20ms/step\n",
      ">6, 90/433, d=0.512, g=1.515\n",
      "1/1 [==============================] - 0s 18ms/step\n",
      ">6, 91/433, d=0.444, g=1.416\n",
      "1/1 [==============================] - 0s 20ms/step\n",
      ">6, 92/433, d=0.427, g=1.375\n",
      "1/1 [==============================] - 0s 23ms/step\n",
      ">6, 93/433, d=0.395, g=1.737\n",
      "1/1 [==============================] - 0s 21ms/step\n",
      ">6, 94/433, d=0.474, g=1.656\n",
      "1/1 [==============================] - 0s 19ms/step\n",
      ">6, 95/433, d=0.407, g=1.556\n",
      "1/1 [==============================] - 0s 18ms/step\n",
      ">6, 96/433, d=0.479, g=1.829\n",
      "1/1 [==============================] - 0s 17ms/step\n",
      ">6, 97/433, d=0.406, g=1.606\n",
      "1/1 [==============================] - 0s 19ms/step\n",
      ">6, 98/433, d=0.441, g=1.686\n",
      "1/1 [==============================] - 0s 18ms/step\n",
      ">6, 99/433, d=0.433, g=1.350\n",
      "1/1 [==============================] - 0s 17ms/step\n",
      ">6, 100/433, d=0.447, g=1.726\n",
      "1/1 [==============================] - 0s 18ms/step\n",
      ">6, 101/433, d=0.440, g=1.584\n",
      "1/1 [==============================] - 0s 17ms/step\n",
      ">6, 102/433, d=0.598, g=1.569\n",
      "1/1 [==============================] - 0s 21ms/step\n",
      ">6, 103/433, d=0.618, g=1.623\n",
      "1/1 [==============================] - 0s 19ms/step\n",
      ">6, 104/433, d=0.588, g=2.076\n",
      "1/1 [==============================] - 0s 19ms/step\n",
      ">6, 105/433, d=0.697, g=1.317\n",
      "1/1 [==============================] - 0s 18ms/step\n",
      ">6, 106/433, d=0.729, g=2.020\n",
      "1/1 [==============================] - 0s 19ms/step\n",
      ">6, 107/433, d=0.634, g=1.226\n",
      "1/1 [==============================] - 0s 19ms/step\n",
      ">6, 108/433, d=0.679, g=1.485\n",
      "1/1 [==============================] - 0s 20ms/step\n",
      ">6, 109/433, d=0.744, g=1.605\n",
      "1/1 [==============================] - 0s 21ms/step\n",
      ">6, 110/433, d=0.942, g=1.260\n",
      "1/1 [==============================] - 0s 18ms/step\n",
      ">6, 111/433, d=0.686, g=1.097\n",
      "1/1 [==============================] - 0s 24ms/step\n",
      ">6, 112/433, d=0.625, g=1.259\n",
      "1/1 [==============================] - 0s 17ms/step\n",
      ">6, 113/433, d=0.641, g=1.342\n",
      "1/1 [==============================] - 0s 16ms/step\n",
      ">6, 114/433, d=0.745, g=1.065\n",
      "1/1 [==============================] - 0s 20ms/step\n",
      ">6, 115/433, d=0.570, g=1.263\n",
      "1/1 [==============================] - 0s 20ms/step\n",
      ">6, 116/433, d=0.669, g=1.264\n",
      "1/1 [==============================] - 0s 19ms/step\n",
      ">6, 117/433, d=0.630, g=1.066\n",
      "1/1 [==============================] - 0s 19ms/step\n",
      ">6, 118/433, d=0.531, g=1.159\n",
      "1/1 [==============================] - 0s 20ms/step\n",
      ">6, 119/433, d=0.545, g=1.431\n",
      "1/1 [==============================] - 0s 19ms/step\n",
      ">6, 120/433, d=0.514, g=1.335\n",
      "1/1 [==============================] - 0s 22ms/step\n",
      ">6, 121/433, d=0.534, g=1.354\n",
      "1/1 [==============================] - 0s 21ms/step\n",
      ">6, 122/433, d=0.522, g=2.124\n",
      "1/1 [==============================] - 0s 22ms/step\n",
      ">6, 123/433, d=0.572, g=1.021\n",
      "1/1 [==============================] - 0s 22ms/step\n",
      ">6, 124/433, d=0.488, g=1.666\n",
      "1/1 [==============================] - 0s 20ms/step\n",
      ">6, 125/433, d=0.411, g=1.770\n",
      "1/1 [==============================] - 0s 21ms/step\n",
      ">6, 126/433, d=0.424, g=1.742\n",
      "1/1 [==============================] - 0s 22ms/step\n",
      ">6, 127/433, d=0.426, g=1.593\n",
      "1/1 [==============================] - 0s 21ms/step\n",
      ">6, 128/433, d=0.345, g=1.419\n",
      "1/1 [==============================] - 0s 19ms/step\n",
      ">6, 129/433, d=0.434, g=1.175\n",
      "1/1 [==============================] - 0s 17ms/step\n",
      ">6, 130/433, d=0.364, g=1.577\n",
      "1/1 [==============================] - 0s 18ms/step\n",
      ">6, 131/433, d=0.371, g=1.528\n",
      "1/1 [==============================] - 0s 21ms/step\n",
      ">6, 132/433, d=0.377, g=1.461\n",
      "1/1 [==============================] - 0s 20ms/step\n",
      ">6, 133/433, d=0.391, g=1.354\n",
      "1/1 [==============================] - 0s 19ms/step\n",
      ">6, 134/433, d=0.326, g=1.463\n",
      "1/1 [==============================] - 0s 21ms/step\n",
      ">6, 135/433, d=0.447, g=1.364\n",
      "1/1 [==============================] - 0s 20ms/step\n",
      ">6, 136/433, d=0.344, g=1.405\n",
      "1/1 [==============================] - 0s 17ms/step\n",
      ">6, 137/433, d=0.506, g=1.239\n",
      "1/1 [==============================] - 0s 18ms/step\n",
      ">6, 138/433, d=0.502, g=1.193\n",
      "1/1 [==============================] - 0s 17ms/step\n",
      ">6, 139/433, d=0.521, g=2.038\n",
      "1/1 [==============================] - 0s 18ms/step\n",
      ">6, 140/433, d=0.513, g=1.437\n",
      "1/1 [==============================] - 0s 21ms/step\n",
      ">6, 141/433, d=0.490, g=1.370\n",
      "1/1 [==============================] - 0s 20ms/step\n",
      ">6, 142/433, d=0.553, g=1.926\n",
      "1/1 [==============================] - 0s 18ms/step\n",
      ">6, 143/433, d=0.539, g=1.836\n",
      "1/1 [==============================] - 0s 19ms/step\n",
      ">6, 144/433, d=0.407, g=1.591\n",
      "1/1 [==============================] - 0s 20ms/step\n",
      ">6, 145/433, d=0.563, g=1.796\n",
      "1/1 [==============================] - 0s 22ms/step\n",
      ">6, 146/433, d=0.678, g=1.231\n",
      "1/1 [==============================] - 0s 18ms/step\n",
      ">6, 147/433, d=0.923, g=2.598\n",
      "1/1 [==============================] - 0s 18ms/step\n",
      ">6, 148/433, d=1.215, g=0.497\n",
      "1/1 [==============================] - 0s 21ms/step\n",
      ">6, 149/433, d=1.061, g=1.741\n",
      "1/1 [==============================] - 0s 20ms/step\n",
      ">6, 150/433, d=0.682, g=1.655\n",
      "1/1 [==============================] - 0s 20ms/step\n",
      ">6, 151/433, d=0.562, g=1.251\n",
      "1/1 [==============================] - 0s 19ms/step\n",
      ">6, 152/433, d=0.534, g=1.384\n",
      "1/1 [==============================] - 0s 21ms/step\n",
      ">6, 153/433, d=0.550, g=1.571\n",
      "1/1 [==============================] - 0s 20ms/step\n",
      ">6, 154/433, d=0.383, g=1.949\n",
      "1/1 [==============================] - 0s 19ms/step\n",
      ">6, 155/433, d=0.432, g=1.891\n",
      "1/1 [==============================] - 0s 18ms/step\n",
      ">6, 156/433, d=0.398, g=1.586\n",
      "1/1 [==============================] - 0s 20ms/step\n",
      ">6, 157/433, d=0.507, g=1.436\n",
      "1/1 [==============================] - 0s 19ms/step\n",
      ">6, 158/433, d=0.548, g=1.384\n",
      "1/1 [==============================] - 0s 21ms/step\n",
      ">6, 159/433, d=0.553, g=1.570\n",
      "1/1 [==============================] - 0s 18ms/step\n",
      ">6, 160/433, d=0.547, g=1.155\n",
      "1/1 [==============================] - 0s 18ms/step\n",
      ">6, 161/433, d=0.552, g=1.168\n",
      "1/1 [==============================] - 0s 21ms/step\n",
      ">6, 162/433, d=0.507, g=0.972\n",
      "1/1 [==============================] - 0s 22ms/step\n",
      ">6, 163/433, d=0.566, g=1.091\n",
      "1/1 [==============================] - 0s 17ms/step\n",
      ">6, 164/433, d=0.524, g=1.172\n",
      "1/1 [==============================] - 0s 18ms/step\n",
      ">6, 165/433, d=0.523, g=0.987\n",
      "1/1 [==============================] - 0s 18ms/step\n",
      ">6, 166/433, d=0.498, g=1.088\n",
      "1/1 [==============================] - 0s 18ms/step\n",
      ">6, 167/433, d=0.537, g=1.236\n",
      "1/1 [==============================] - 0s 21ms/step\n",
      ">6, 168/433, d=0.614, g=1.958\n",
      "1/1 [==============================] - 0s 17ms/step\n",
      ">6, 169/433, d=0.516, g=1.183\n",
      "1/1 [==============================] - 0s 20ms/step\n",
      ">6, 170/433, d=0.691, g=1.067\n",
      "1/1 [==============================] - 0s 18ms/step\n",
      ">6, 171/433, d=0.660, g=1.346\n",
      "1/1 [==============================] - 0s 18ms/step\n",
      ">6, 172/433, d=0.561, g=1.284\n",
      "1/1 [==============================] - 0s 20ms/step\n",
      ">6, 173/433, d=0.548, g=1.810\n",
      "1/1 [==============================] - 0s 19ms/step\n",
      ">6, 174/433, d=0.567, g=1.344\n",
      "1/1 [==============================] - 0s 18ms/step\n",
      ">6, 175/433, d=0.497, g=1.663\n",
      "1/1 [==============================] - 0s 17ms/step\n",
      ">6, 176/433, d=0.408, g=1.630\n",
      "1/1 [==============================] - 0s 20ms/step\n",
      ">6, 177/433, d=0.435, g=1.465\n",
      "1/1 [==============================] - 0s 17ms/step\n",
      ">6, 178/433, d=0.432, g=1.271\n",
      "1/1 [==============================] - 0s 18ms/step\n",
      ">6, 179/433, d=0.527, g=1.548\n",
      "1/1 [==============================] - 0s 19ms/step\n",
      ">6, 180/433, d=0.443, g=1.811\n",
      "1/1 [==============================] - 0s 18ms/step\n",
      ">6, 181/433, d=0.443, g=1.382\n",
      "1/1 [==============================] - 0s 19ms/step\n",
      ">6, 182/433, d=0.439, g=1.497\n",
      "1/1 [==============================] - 0s 18ms/step\n",
      ">6, 183/433, d=0.366, g=1.485\n",
      "1/1 [==============================] - 0s 19ms/step\n",
      ">6, 184/433, d=0.364, g=1.770\n",
      "1/1 [==============================] - 0s 17ms/step\n",
      ">6, 185/433, d=0.568, g=1.035\n",
      "1/1 [==============================] - 0s 18ms/step\n",
      ">6, 186/433, d=0.565, g=1.301\n",
      "1/1 [==============================] - 0s 21ms/step\n",
      ">6, 187/433, d=0.573, g=1.438\n",
      "1/1 [==============================] - 0s 17ms/step\n",
      ">6, 188/433, d=0.688, g=1.194\n",
      "1/1 [==============================] - 0s 18ms/step\n",
      ">6, 189/433, d=0.697, g=1.014\n",
      "1/1 [==============================] - 0s 19ms/step\n",
      ">6, 190/433, d=0.710, g=1.922\n",
      "1/1 [==============================] - 0s 17ms/step\n",
      ">6, 191/433, d=0.815, g=1.014\n",
      "1/1 [==============================] - 0s 22ms/step\n",
      ">6, 192/433, d=0.731, g=1.569\n",
      "1/1 [==============================] - 0s 18ms/step\n",
      ">6, 193/433, d=0.488, g=1.456\n",
      "1/1 [==============================] - 0s 20ms/step\n",
      ">6, 194/433, d=0.484, g=1.200\n",
      "1/1 [==============================] - 0s 21ms/step\n",
      ">6, 195/433, d=0.422, g=1.109\n",
      "1/1 [==============================] - 0s 22ms/step\n",
      ">6, 196/433, d=0.472, g=1.404\n",
      "1/1 [==============================] - 0s 19ms/step\n",
      ">6, 197/433, d=0.537, g=1.111\n",
      "1/1 [==============================] - 0s 25ms/step\n",
      ">6, 198/433, d=0.651, g=1.358\n",
      "1/1 [==============================] - 0s 19ms/step\n",
      ">6, 199/433, d=0.550, g=1.330\n",
      "1/1 [==============================] - 0s 18ms/step\n",
      ">6, 200/433, d=0.497, g=1.291\n",
      "1/1 [==============================] - 0s 19ms/step\n",
      ">6, 201/433, d=0.640, g=1.257\n",
      "1/1 [==============================] - 0s 18ms/step\n",
      ">6, 202/433, d=0.497, g=1.323\n",
      "1/1 [==============================] - 0s 17ms/step\n",
      ">6, 203/433, d=0.437, g=1.316\n",
      "1/1 [==============================] - 0s 20ms/step\n",
      ">6, 204/433, d=0.424, g=1.377\n",
      "1/1 [==============================] - 0s 22ms/step\n",
      ">6, 205/433, d=0.386, g=1.523\n",
      "1/1 [==============================] - 0s 18ms/step\n",
      ">6, 206/433, d=0.439, g=1.436\n",
      "1/1 [==============================] - 0s 19ms/step\n",
      ">6, 207/433, d=0.390, g=1.619\n",
      "1/1 [==============================] - 0s 18ms/step\n",
      ">6, 208/433, d=0.397, g=1.605\n",
      "1/1 [==============================] - 0s 19ms/step\n",
      ">6, 209/433, d=0.453, g=1.397\n",
      "1/1 [==============================] - 0s 19ms/step\n",
      ">6, 210/433, d=0.399, g=1.536\n",
      "1/1 [==============================] - 0s 19ms/step\n",
      ">6, 211/433, d=0.375, g=1.824\n",
      "1/1 [==============================] - 0s 18ms/step\n",
      ">6, 212/433, d=0.488, g=1.897\n",
      "1/1 [==============================] - 0s 18ms/step\n",
      ">6, 213/433, d=0.657, g=1.704\n",
      "1/1 [==============================] - 0s 20ms/step\n",
      ">6, 214/433, d=0.581, g=1.289\n",
      "1/1 [==============================] - 0s 18ms/step\n",
      ">6, 215/433, d=0.692, g=2.228\n",
      "1/1 [==============================] - 0s 19ms/step\n",
      ">6, 216/433, d=0.622, g=1.547\n",
      "1/1 [==============================] - 0s 17ms/step\n",
      ">6, 217/433, d=0.466, g=1.095\n",
      "1/1 [==============================] - 0s 18ms/step\n",
      ">6, 218/433, d=0.444, g=1.484\n",
      "1/1 [==============================] - 0s 27ms/step\n",
      ">6, 219/433, d=0.586, g=1.664\n",
      "1/1 [==============================] - 0s 16ms/step\n",
      ">6, 220/433, d=0.554, g=1.746\n",
      "1/1 [==============================] - 0s 16ms/step\n",
      ">6, 221/433, d=0.493, g=1.329\n",
      "1/1 [==============================] - 0s 19ms/step\n",
      ">6, 222/433, d=0.614, g=1.420\n",
      "1/1 [==============================] - 0s 19ms/step\n",
      ">6, 223/433, d=0.493, g=1.335\n",
      "1/1 [==============================] - 0s 18ms/step\n",
      ">6, 224/433, d=0.437, g=1.383\n",
      "1/1 [==============================] - 0s 19ms/step\n",
      ">6, 225/433, d=0.431, g=1.789\n",
      "1/1 [==============================] - 0s 21ms/step\n",
      ">6, 226/433, d=0.516, g=1.610\n",
      "1/1 [==============================] - 0s 19ms/step\n",
      ">6, 227/433, d=0.387, g=1.648\n",
      "1/1 [==============================] - 0s 20ms/step\n",
      ">6, 228/433, d=0.518, g=1.431\n",
      "1/1 [==============================] - 0s 18ms/step\n",
      ">6, 229/433, d=0.606, g=1.888\n",
      "1/1 [==============================] - 0s 17ms/step\n",
      ">6, 230/433, d=0.612, g=1.797\n",
      "1/1 [==============================] - 0s 23ms/step\n",
      ">6, 231/433, d=1.024, g=1.081\n",
      "1/1 [==============================] - 0s 18ms/step\n",
      ">6, 232/433, d=0.800, g=1.103\n",
      "1/1 [==============================] - 0s 19ms/step\n",
      ">6, 233/433, d=0.970, g=1.136\n",
      "1/1 [==============================] - 0s 20ms/step\n",
      ">6, 234/433, d=0.822, g=1.550\n",
      "1/1 [==============================] - 0s 19ms/step\n",
      ">6, 235/433, d=0.856, g=0.995\n",
      "1/1 [==============================] - 0s 20ms/step\n",
      ">6, 236/433, d=0.691, g=0.816\n",
      "1/1 [==============================] - 0s 20ms/step\n",
      ">6, 237/433, d=0.537, g=1.169\n",
      "1/1 [==============================] - 0s 18ms/step\n",
      ">6, 238/433, d=0.460, g=1.483\n",
      "1/1 [==============================] - 0s 17ms/step\n",
      ">6, 239/433, d=0.440, g=1.726\n",
      "1/1 [==============================] - 0s 20ms/step\n",
      ">6, 240/433, d=0.365, g=1.719\n",
      "1/1 [==============================] - 0s 19ms/step\n",
      ">6, 241/433, d=0.468, g=1.774\n",
      "1/1 [==============================] - 0s 18ms/step\n",
      ">6, 242/433, d=0.405, g=1.816\n",
      "1/1 [==============================] - 0s 20ms/step\n",
      ">6, 243/433, d=0.488, g=1.508\n",
      "1/1 [==============================] - 0s 20ms/step\n",
      ">6, 244/433, d=0.549, g=1.423\n",
      "1/1 [==============================] - 0s 21ms/step\n",
      ">6, 245/433, d=0.619, g=1.247\n",
      "1/1 [==============================] - 0s 18ms/step\n",
      ">6, 246/433, d=0.736, g=1.186\n",
      "1/1 [==============================] - 0s 19ms/step\n",
      ">6, 247/433, d=0.630, g=1.532\n",
      "1/1 [==============================] - 0s 21ms/step\n",
      ">6, 248/433, d=0.842, g=1.031\n",
      "1/1 [==============================] - 0s 19ms/step\n",
      ">6, 249/433, d=0.804, g=0.788\n",
      "1/1 [==============================] - 0s 17ms/step\n",
      ">6, 250/433, d=0.820, g=0.735\n",
      "1/1 [==============================] - 0s 18ms/step\n",
      ">6, 251/433, d=0.639, g=0.908\n",
      "1/1 [==============================] - 0s 18ms/step\n",
      ">6, 252/433, d=0.616, g=1.158\n",
      "1/1 [==============================] - 0s 17ms/step\n",
      ">6, 253/433, d=0.643, g=1.079\n",
      "1/1 [==============================] - 0s 18ms/step\n",
      ">6, 254/433, d=0.605, g=0.981\n",
      "1/1 [==============================] - 0s 18ms/step\n",
      ">6, 255/433, d=0.572, g=0.974\n",
      "1/1 [==============================] - 0s 21ms/step\n",
      ">6, 256/433, d=0.590, g=0.999\n",
      "1/1 [==============================] - 0s 19ms/step\n",
      ">6, 257/433, d=0.594, g=1.014\n",
      "1/1 [==============================] - 0s 20ms/step\n",
      ">6, 258/433, d=0.559, g=1.046\n",
      "1/1 [==============================] - 0s 19ms/step\n",
      ">6, 259/433, d=0.480, g=1.121\n",
      "1/1 [==============================] - 0s 17ms/step\n",
      ">6, 260/433, d=0.494, g=1.114\n",
      "1/1 [==============================] - 0s 19ms/step\n",
      ">6, 261/433, d=0.511, g=1.017\n",
      "1/1 [==============================] - 0s 20ms/step\n",
      ">6, 262/433, d=0.525, g=0.972\n",
      "1/1 [==============================] - 0s 20ms/step\n",
      ">6, 263/433, d=0.646, g=0.909\n",
      "1/1 [==============================] - 0s 18ms/step\n",
      ">6, 264/433, d=0.634, g=0.937\n",
      "1/1 [==============================] - 0s 19ms/step\n",
      ">6, 265/433, d=0.666, g=0.969\n",
      "1/1 [==============================] - 0s 18ms/step\n",
      ">6, 266/433, d=0.633, g=0.954\n",
      "1/1 [==============================] - 0s 19ms/step\n",
      ">6, 267/433, d=0.628, g=0.906\n",
      "1/1 [==============================] - 0s 18ms/step\n",
      ">6, 268/433, d=0.605, g=0.860\n",
      "1/1 [==============================] - 0s 19ms/step\n",
      ">6, 269/433, d=0.622, g=0.952\n",
      "1/1 [==============================] - 0s 24ms/step\n",
      ">6, 270/433, d=0.688, g=0.962\n",
      "1/1 [==============================] - 0s 25ms/step\n",
      ">6, 271/433, d=0.634, g=0.959\n",
      "1/1 [==============================] - 0s 22ms/step\n",
      ">6, 272/433, d=0.649, g=1.014\n",
      "1/1 [==============================] - 0s 18ms/step\n",
      ">6, 273/433, d=0.586, g=1.101\n",
      "1/1 [==============================] - 0s 21ms/step\n",
      ">6, 274/433, d=0.613, g=1.174\n",
      "1/1 [==============================] - 0s 20ms/step\n",
      ">6, 275/433, d=0.596, g=1.001\n",
      "1/1 [==============================] - 0s 19ms/step\n",
      ">6, 276/433, d=0.639, g=0.999\n",
      "1/1 [==============================] - 0s 19ms/step\n",
      ">6, 277/433, d=0.597, g=1.026\n",
      "1/1 [==============================] - 0s 18ms/step\n",
      ">6, 278/433, d=0.606, g=0.947\n",
      "1/1 [==============================] - 0s 18ms/step\n",
      ">6, 279/433, d=0.556, g=0.943\n",
      "1/1 [==============================] - 0s 19ms/step\n",
      ">6, 280/433, d=0.539, g=1.157\n",
      "1/1 [==============================] - 0s 19ms/step\n",
      ">6, 281/433, d=0.643, g=1.071\n",
      "1/1 [==============================] - 0s 20ms/step\n",
      ">6, 282/433, d=0.581, g=0.933\n",
      "1/1 [==============================] - 0s 20ms/step\n",
      ">6, 283/433, d=0.600, g=1.198\n",
      "1/1 [==============================] - 0s 19ms/step\n",
      ">6, 284/433, d=0.682, g=0.817\n",
      "1/1 [==============================] - 0s 19ms/step\n",
      ">6, 285/433, d=0.643, g=0.779\n",
      "1/1 [==============================] - 0s 19ms/step\n",
      ">6, 286/433, d=0.656, g=0.943\n",
      "1/1 [==============================] - 0s 19ms/step\n",
      ">6, 287/433, d=0.570, g=1.031\n",
      "1/1 [==============================] - 0s 17ms/step\n",
      ">6, 288/433, d=0.586, g=1.007\n",
      "1/1 [==============================] - 0s 18ms/step\n",
      ">6, 289/433, d=0.547, g=1.042\n",
      "1/1 [==============================] - 0s 22ms/step\n",
      ">6, 290/433, d=0.533, g=1.072\n",
      "1/1 [==============================] - 0s 35ms/step\n",
      ">6, 291/433, d=0.568, g=1.090\n",
      "1/1 [==============================] - 0s 23ms/step\n",
      ">6, 292/433, d=0.535, g=0.921\n",
      "1/1 [==============================] - 0s 18ms/step\n",
      ">6, 293/433, d=0.521, g=1.052\n",
      "1/1 [==============================] - 0s 19ms/step\n",
      ">6, 294/433, d=0.514, g=1.158\n",
      "1/1 [==============================] - 0s 19ms/step\n",
      ">6, 295/433, d=0.536, g=1.056\n",
      "1/1 [==============================] - 0s 26ms/step\n",
      ">6, 296/433, d=0.535, g=1.091\n",
      "1/1 [==============================] - 0s 25ms/step\n",
      ">6, 297/433, d=0.541, g=0.965\n",
      "1/1 [==============================] - 0s 18ms/step\n",
      ">6, 298/433, d=0.493, g=1.100\n",
      "1/1 [==============================] - 0s 19ms/step\n",
      ">6, 299/433, d=0.480, g=1.056\n",
      "1/1 [==============================] - 0s 20ms/step\n",
      ">6, 300/433, d=0.516, g=1.011\n",
      "1/1 [==============================] - 0s 18ms/step\n",
      ">6, 301/433, d=0.510, g=1.209\n",
      "1/1 [==============================] - 0s 22ms/step\n",
      ">6, 302/433, d=0.530, g=1.013\n",
      "1/1 [==============================] - 0s 18ms/step\n",
      ">6, 303/433, d=0.532, g=0.868\n",
      "1/1 [==============================] - 0s 22ms/step\n",
      ">6, 304/433, d=0.488, g=0.894\n",
      "1/1 [==============================] - 0s 17ms/step\n",
      ">6, 305/433, d=0.606, g=1.080\n",
      "1/1 [==============================] - 0s 22ms/step\n",
      ">6, 306/433, d=0.597, g=0.952\n",
      "1/1 [==============================] - 0s 20ms/step\n",
      ">6, 307/433, d=0.548, g=1.005\n",
      "1/1 [==============================] - 0s 43ms/step\n",
      ">6, 308/433, d=0.442, g=0.912\n",
      "1/1 [==============================] - 0s 54ms/step\n",
      ">6, 309/433, d=0.523, g=1.060\n",
      "1/1 [==============================] - 0s 48ms/step\n",
      ">6, 310/433, d=0.539, g=1.044\n",
      "1/1 [==============================] - 0s 26ms/step\n",
      ">6, 311/433, d=0.516, g=1.150\n",
      "1/1 [==============================] - 0s 35ms/step\n",
      ">6, 312/433, d=0.480, g=1.097\n",
      "1/1 [==============================] - 0s 34ms/step\n",
      ">6, 313/433, d=0.462, g=1.223\n",
      "1/1 [==============================] - 0s 22ms/step\n",
      ">6, 314/433, d=0.523, g=1.028\n",
      "1/1 [==============================] - 0s 23ms/step\n",
      ">6, 315/433, d=0.582, g=1.335\n",
      "1/1 [==============================] - 0s 20ms/step\n",
      ">6, 316/433, d=0.556, g=1.456\n",
      "1/1 [==============================] - 0s 20ms/step\n",
      ">6, 317/433, d=0.520, g=1.104\n",
      "1/1 [==============================] - 0s 19ms/step\n",
      ">6, 318/433, d=0.509, g=1.028\n",
      "1/1 [==============================] - 0s 20ms/step\n",
      ">6, 319/433, d=0.511, g=1.140\n",
      "1/1 [==============================] - 0s 28ms/step\n",
      ">6, 320/433, d=0.502, g=1.197\n",
      "1/1 [==============================] - 0s 18ms/step\n",
      ">6, 321/433, d=0.487, g=1.100\n",
      "1/1 [==============================] - 0s 22ms/step\n",
      ">6, 322/433, d=0.484, g=1.178\n",
      "1/1 [==============================] - 0s 21ms/step\n",
      ">6, 323/433, d=0.482, g=1.354\n",
      "1/1 [==============================] - 0s 19ms/step\n",
      ">6, 324/433, d=0.449, g=1.204\n",
      "1/1 [==============================] - 0s 23ms/step\n",
      ">6, 325/433, d=0.463, g=1.334\n",
      "1/1 [==============================] - 0s 19ms/step\n",
      ">6, 326/433, d=0.420, g=1.252\n",
      "1/1 [==============================] - 0s 21ms/step\n",
      ">6, 327/433, d=0.499, g=1.015\n",
      "1/1 [==============================] - 0s 26ms/step\n",
      ">6, 328/433, d=0.519, g=1.111\n",
      "1/1 [==============================] - 0s 22ms/step\n",
      ">6, 329/433, d=0.596, g=1.192\n",
      "1/1 [==============================] - 0s 20ms/step\n",
      ">6, 330/433, d=0.614, g=1.504\n",
      "1/1 [==============================] - 0s 21ms/step\n",
      ">6, 331/433, d=0.505, g=1.103\n",
      "1/1 [==============================] - 0s 19ms/step\n",
      ">6, 332/433, d=0.607, g=1.167\n",
      "1/1 [==============================] - 0s 20ms/step\n",
      ">6, 333/433, d=0.540, g=1.163\n",
      "1/1 [==============================] - 0s 22ms/step\n",
      ">6, 334/433, d=0.623, g=1.177\n",
      "1/1 [==============================] - 0s 21ms/step\n",
      ">6, 335/433, d=0.685, g=0.997\n",
      "1/1 [==============================] - 0s 31ms/step\n",
      ">6, 336/433, d=0.598, g=1.397\n",
      "1/1 [==============================] - 0s 21ms/step\n",
      ">6, 337/433, d=0.560, g=1.082\n",
      "1/1 [==============================] - 0s 20ms/step\n",
      ">6, 338/433, d=0.622, g=1.242\n",
      "1/1 [==============================] - 0s 24ms/step\n",
      ">6, 339/433, d=0.527, g=0.941\n",
      "1/1 [==============================] - 0s 17ms/step\n",
      ">6, 340/433, d=0.657, g=1.703\n",
      "1/1 [==============================] - 0s 19ms/step\n",
      ">6, 341/433, d=0.647, g=0.999\n",
      "1/1 [==============================] - 0s 34ms/step\n",
      ">6, 342/433, d=0.661, g=1.368\n",
      "1/1 [==============================] - 0s 25ms/step\n",
      ">6, 343/433, d=0.608, g=1.276\n",
      "1/1 [==============================] - 0s 23ms/step\n",
      ">6, 344/433, d=0.642, g=1.036\n",
      "1/1 [==============================] - 0s 23ms/step\n",
      ">6, 345/433, d=0.686, g=1.313\n",
      "1/1 [==============================] - 0s 20ms/step\n",
      ">6, 346/433, d=0.684, g=1.298\n",
      "1/1 [==============================] - 0s 20ms/step\n",
      ">6, 347/433, d=0.587, g=0.760\n",
      "1/1 [==============================] - 0s 22ms/step\n",
      ">6, 348/433, d=0.607, g=1.489\n",
      "1/1 [==============================] - 0s 19ms/step\n",
      ">6, 349/433, d=0.632, g=1.050\n",
      "1/1 [==============================] - 0s 23ms/step\n",
      ">6, 350/433, d=0.587, g=0.944\n",
      "1/1 [==============================] - 0s 19ms/step\n",
      ">6, 351/433, d=0.621, g=1.086\n",
      "1/1 [==============================] - 0s 21ms/step\n",
      ">6, 352/433, d=0.546, g=0.796\n",
      "1/1 [==============================] - 0s 24ms/step\n",
      ">6, 353/433, d=0.620, g=1.937\n",
      "1/1 [==============================] - 0s 19ms/step\n",
      ">6, 354/433, d=0.776, g=1.195\n",
      "1/1 [==============================] - 0s 20ms/step\n",
      ">6, 355/433, d=0.599, g=0.845\n",
      "1/1 [==============================] - 0s 22ms/step\n",
      ">6, 356/433, d=0.532, g=1.051\n",
      "1/1 [==============================] - 0s 31ms/step\n",
      ">6, 357/433, d=0.405, g=1.390\n",
      "1/1 [==============================] - 0s 28ms/step\n",
      ">6, 358/433, d=0.521, g=1.280\n",
      "1/1 [==============================] - 0s 23ms/step\n",
      ">6, 359/433, d=0.483, g=1.256\n",
      "1/1 [==============================] - 0s 23ms/step\n",
      ">6, 360/433, d=0.497, g=1.499\n",
      "1/1 [==============================] - 0s 22ms/step\n",
      ">6, 361/433, d=0.529, g=1.246\n",
      "1/1 [==============================] - 0s 32ms/step\n",
      ">6, 362/433, d=0.561, g=1.278\n",
      "1/1 [==============================] - 0s 32ms/step\n",
      ">6, 363/433, d=0.504, g=1.225\n",
      "1/1 [==============================] - 0s 35ms/step\n",
      ">6, 364/433, d=0.477, g=1.269\n",
      "1/1 [==============================] - 0s 26ms/step\n",
      ">6, 365/433, d=0.546, g=1.370\n",
      "1/1 [==============================] - 0s 20ms/step\n",
      ">6, 366/433, d=0.465, g=1.420\n",
      "1/1 [==============================] - 0s 20ms/step\n",
      ">6, 367/433, d=0.498, g=1.475\n",
      "1/1 [==============================] - 0s 19ms/step\n",
      ">6, 368/433, d=0.526, g=1.477\n",
      "1/1 [==============================] - 0s 20ms/step\n",
      ">6, 369/433, d=0.497, g=1.382\n",
      "1/1 [==============================] - 0s 22ms/step\n",
      ">6, 370/433, d=0.494, g=1.704\n",
      "1/1 [==============================] - 0s 20ms/step\n",
      ">6, 371/433, d=0.506, g=1.702\n",
      "1/1 [==============================] - 0s 26ms/step\n",
      ">6, 372/433, d=0.519, g=1.314\n",
      "1/1 [==============================] - 0s 26ms/step\n",
      ">6, 373/433, d=0.551, g=1.491\n",
      "1/1 [==============================] - 0s 20ms/step\n",
      ">6, 374/433, d=0.538, g=1.264\n",
      "1/1 [==============================] - 0s 20ms/step\n",
      ">6, 375/433, d=0.574, g=1.398\n",
      "1/1 [==============================] - 0s 24ms/step\n",
      ">6, 376/433, d=0.580, g=1.697\n",
      "1/1 [==============================] - 0s 27ms/step\n",
      ">6, 377/433, d=0.638, g=1.696\n",
      "1/1 [==============================] - 0s 22ms/step\n",
      ">6, 378/433, d=0.646, g=1.152\n",
      "1/1 [==============================] - 0s 23ms/step\n",
      ">6, 379/433, d=0.751, g=1.603\n",
      "1/1 [==============================] - 0s 20ms/step\n",
      ">6, 380/433, d=0.686, g=1.127\n",
      "1/1 [==============================] - 0s 28ms/step\n",
      ">6, 381/433, d=0.624, g=0.830\n",
      "1/1 [==============================] - 0s 23ms/step\n",
      ">6, 382/433, d=0.766, g=0.780\n",
      "1/1 [==============================] - 0s 23ms/step\n",
      ">6, 383/433, d=0.689, g=0.974\n",
      "1/1 [==============================] - 0s 31ms/step\n",
      ">6, 384/433, d=0.611, g=0.981\n",
      "1/1 [==============================] - 0s 22ms/step\n",
      ">6, 385/433, d=0.670, g=1.007\n",
      "1/1 [==============================] - 0s 41ms/step\n",
      ">6, 386/433, d=0.660, g=1.254\n",
      "1/1 [==============================] - 0s 21ms/step\n",
      ">6, 387/433, d=0.622, g=1.297\n",
      "1/1 [==============================] - 0s 22ms/step\n",
      ">6, 388/433, d=0.704, g=1.018\n",
      "1/1 [==============================] - 0s 23ms/step\n",
      ">6, 389/433, d=0.622, g=0.967\n",
      "1/1 [==============================] - 0s 20ms/step\n",
      ">6, 390/433, d=0.533, g=1.081\n",
      "1/1 [==============================] - 0s 22ms/step\n",
      ">6, 391/433, d=0.583, g=1.189\n",
      "1/1 [==============================] - 0s 20ms/step\n",
      ">6, 392/433, d=0.517, g=1.213\n",
      "1/1 [==============================] - 0s 19ms/step\n",
      ">6, 393/433, d=0.502, g=1.096\n",
      "1/1 [==============================] - 0s 23ms/step\n",
      ">6, 394/433, d=0.524, g=1.002\n",
      "1/1 [==============================] - 0s 20ms/step\n",
      ">6, 395/433, d=0.551, g=1.188\n",
      "1/1 [==============================] - 0s 23ms/step\n",
      ">6, 396/433, d=0.537, g=1.379\n",
      "1/1 [==============================] - 0s 22ms/step\n",
      ">6, 397/433, d=0.540, g=1.247\n",
      "1/1 [==============================] - 0s 19ms/step\n",
      ">6, 398/433, d=0.447, g=1.161\n",
      "1/1 [==============================] - 0s 23ms/step\n",
      ">6, 399/433, d=0.519, g=1.192\n",
      "1/1 [==============================] - 0s 20ms/step\n",
      ">6, 400/433, d=0.520, g=1.219\n",
      "1/1 [==============================] - 0s 19ms/step\n",
      ">6, 401/433, d=0.466, g=1.340\n",
      "1/1 [==============================] - 0s 22ms/step\n",
      ">6, 402/433, d=0.431, g=1.347\n",
      "1/1 [==============================] - 0s 20ms/step\n",
      ">6, 403/433, d=0.479, g=1.419\n",
      "1/1 [==============================] - 0s 21ms/step\n",
      ">6, 404/433, d=0.473, g=1.228\n",
      "1/1 [==============================] - 0s 24ms/step\n",
      ">6, 405/433, d=0.518, g=1.308\n",
      "1/1 [==============================] - 0s 29ms/step\n",
      ">6, 406/433, d=0.646, g=0.988\n",
      "1/1 [==============================] - 0s 29ms/step\n",
      ">6, 407/433, d=0.577, g=1.559\n",
      "1/1 [==============================] - 0s 21ms/step\n",
      ">6, 408/433, d=0.685, g=1.343\n",
      "1/1 [==============================] - 0s 18ms/step\n",
      ">6, 409/433, d=0.525, g=0.785\n",
      "1/1 [==============================] - 0s 48ms/step\n",
      ">6, 410/433, d=0.593, g=1.796\n",
      "1/1 [==============================] - 0s 58ms/step\n",
      ">6, 411/433, d=0.664, g=1.129\n",
      "1/1 [==============================] - 0s 20ms/step\n",
      ">6, 412/433, d=0.660, g=0.979\n",
      "1/1 [==============================] - 0s 20ms/step\n",
      ">6, 413/433, d=0.590, g=0.884\n",
      "1/1 [==============================] - 0s 44ms/step\n",
      ">6, 414/433, d=0.623, g=0.963\n",
      "1/1 [==============================] - 0s 22ms/step\n",
      ">6, 415/433, d=0.509, g=1.049\n",
      "1/1 [==============================] - 0s 22ms/step\n",
      ">6, 416/433, d=0.552, g=1.129\n",
      "1/1 [==============================] - 0s 21ms/step\n",
      ">6, 417/433, d=0.533, g=1.300\n",
      "1/1 [==============================] - 0s 19ms/step\n",
      ">6, 418/433, d=0.522, g=1.126\n",
      "1/1 [==============================] - 0s 21ms/step\n",
      ">6, 419/433, d=0.638, g=1.247\n",
      "1/1 [==============================] - 0s 21ms/step\n",
      ">6, 420/433, d=0.423, g=1.298\n",
      "1/1 [==============================] - 0s 18ms/step\n",
      ">6, 421/433, d=0.579, g=1.599\n",
      "1/1 [==============================] - 0s 46ms/step\n",
      ">6, 422/433, d=0.812, g=1.187\n",
      "1/1 [==============================] - 0s 18ms/step\n",
      ">6, 423/433, d=0.896, g=0.985\n",
      "1/1 [==============================] - 0s 40ms/step\n",
      ">6, 424/433, d=0.801, g=1.225\n",
      "1/1 [==============================] - 0s 22ms/step\n",
      ">6, 425/433, d=0.720, g=0.927\n",
      "1/1 [==============================] - 0s 21ms/step\n",
      ">6, 426/433, d=0.568, g=1.252\n",
      "1/1 [==============================] - 0s 20ms/step\n",
      ">6, 427/433, d=0.461, g=1.362\n",
      "1/1 [==============================] - 0s 19ms/step\n",
      ">6, 428/433, d=0.503, g=1.204\n",
      "1/1 [==============================] - 0s 38ms/step\n",
      ">6, 429/433, d=0.480, g=1.372\n",
      "1/1 [==============================] - 0s 32ms/step\n",
      ">6, 430/433, d=0.460, g=1.377\n",
      "1/1 [==============================] - 0s 20ms/step\n",
      ">6, 431/433, d=0.446, g=1.532\n",
      "1/1 [==============================] - 0s 20ms/step\n",
      ">6, 432/433, d=0.524, g=1.247\n",
      "1/1 [==============================] - 0s 19ms/step\n",
      ">6, 433/433, d=0.639, g=1.598\n",
      "1/1 [==============================] - 0s 43ms/step\n",
      ">7, 1/433, d=0.490, g=1.740\n",
      "1/1 [==============================] - 0s 25ms/step\n",
      ">7, 2/433, d=0.685, g=0.959\n",
      "1/1 [==============================] - 0s 36ms/step\n",
      ">7, 3/433, d=0.679, g=0.992\n",
      "1/1 [==============================] - 0s 33ms/step\n",
      ">7, 4/433, d=0.787, g=1.559\n",
      "1/1 [==============================] - 0s 20ms/step\n",
      ">7, 5/433, d=0.615, g=1.113\n",
      "1/1 [==============================] - 0s 25ms/step\n",
      ">7, 6/433, d=0.576, g=0.899\n",
      "1/1 [==============================] - 0s 47ms/step\n",
      ">7, 7/433, d=0.554, g=1.195\n",
      "1/1 [==============================] - 0s 26ms/step\n",
      ">7, 8/433, d=0.528, g=1.319\n",
      "1/1 [==============================] - 0s 20ms/step\n",
      ">7, 9/433, d=0.470, g=1.191\n",
      "1/1 [==============================] - 0s 33ms/step\n",
      ">7, 10/433, d=0.424, g=1.305\n",
      "1/1 [==============================] - 0s 34ms/step\n",
      ">7, 11/433, d=0.382, g=1.396\n",
      "1/1 [==============================] - 0s 33ms/step\n",
      ">7, 12/433, d=0.452, g=1.566\n",
      "1/1 [==============================] - 0s 19ms/step\n",
      ">7, 13/433, d=0.388, g=1.322\n",
      "1/1 [==============================] - 0s 60ms/step\n",
      ">7, 14/433, d=0.422, g=1.473\n",
      "1/1 [==============================] - 0s 58ms/step\n",
      ">7, 15/433, d=0.539, g=1.036\n",
      "1/1 [==============================] - 0s 60ms/step\n",
      ">7, 16/433, d=0.490, g=1.517\n",
      "1/1 [==============================] - 0s 34ms/step\n",
      ">7, 17/433, d=0.584, g=1.153\n",
      "1/1 [==============================] - 0s 29ms/step\n",
      ">7, 18/433, d=0.438, g=1.103\n",
      "1/1 [==============================] - 0s 26ms/step\n",
      ">7, 19/433, d=0.526, g=1.256\n",
      "1/1 [==============================] - 0s 25ms/step\n",
      ">7, 20/433, d=0.529, g=1.141\n",
      "1/1 [==============================] - 0s 47ms/step\n",
      ">7, 21/433, d=0.595, g=0.990\n",
      "1/1 [==============================] - 0s 23ms/step\n",
      ">7, 22/433, d=0.572, g=1.152\n",
      "1/1 [==============================] - 0s 22ms/step\n",
      ">7, 23/433, d=0.536, g=1.101\n",
      "1/1 [==============================] - 0s 23ms/step\n",
      ">7, 24/433, d=0.629, g=1.252\n",
      "1/1 [==============================] - 0s 19ms/step\n",
      ">7, 25/433, d=0.751, g=0.964\n",
      "1/1 [==============================] - 0s 18ms/step\n",
      ">7, 26/433, d=0.593, g=0.868\n",
      "1/1 [==============================] - 0s 29ms/step\n",
      ">7, 27/433, d=0.650, g=1.408\n",
      "1/1 [==============================] - 0s 19ms/step\n",
      ">7, 28/433, d=0.647, g=1.195\n",
      "1/1 [==============================] - 0s 20ms/step\n",
      ">7, 29/433, d=0.490, g=0.989\n",
      "1/1 [==============================] - 0s 18ms/step\n",
      ">7, 30/433, d=0.472, g=1.004\n",
      "1/1 [==============================] - 0s 20ms/step\n",
      ">7, 31/433, d=0.478, g=1.281\n",
      "1/1 [==============================] - 0s 20ms/step\n",
      ">7, 32/433, d=0.523, g=1.169\n",
      "1/1 [==============================] - 0s 23ms/step\n",
      ">7, 33/433, d=0.428, g=1.321\n",
      "1/1 [==============================] - 0s 26ms/step\n",
      ">7, 34/433, d=0.386, g=1.616\n",
      "1/1 [==============================] - 0s 19ms/step\n",
      ">7, 35/433, d=0.412, g=1.674\n",
      "1/1 [==============================] - 0s 18ms/step\n",
      ">7, 36/433, d=0.642, g=1.249\n",
      "1/1 [==============================] - 0s 20ms/step\n",
      ">7, 37/433, d=0.556, g=1.460\n",
      "1/1 [==============================] - 0s 19ms/step\n",
      ">7, 38/433, d=0.490, g=1.198\n",
      "1/1 [==============================] - 0s 19ms/step\n",
      ">7, 39/433, d=0.572, g=1.214\n",
      "1/1 [==============================] - 0s 24ms/step\n",
      ">7, 40/433, d=0.587, g=0.934\n",
      "1/1 [==============================] - 0s 18ms/step\n",
      ">7, 41/433, d=0.622, g=0.980\n",
      "1/1 [==============================] - 0s 19ms/step\n",
      ">7, 42/433, d=0.490, g=1.001\n",
      "1/1 [==============================] - 0s 20ms/step\n",
      ">7, 43/433, d=0.470, g=1.215\n",
      "1/1 [==============================] - 0s 19ms/step\n",
      ">7, 44/433, d=0.590, g=1.293\n",
      "1/1 [==============================] - 0s 19ms/step\n",
      ">7, 45/433, d=0.490, g=0.853\n",
      "1/1 [==============================] - 0s 21ms/step\n",
      ">7, 46/433, d=0.539, g=1.142\n",
      "1/1 [==============================] - 0s 20ms/step\n",
      ">7, 47/433, d=0.732, g=1.244\n",
      "1/1 [==============================] - 0s 18ms/step\n",
      ">7, 48/433, d=0.508, g=1.389\n",
      "1/1 [==============================] - 0s 17ms/step\n",
      ">7, 49/433, d=0.614, g=0.948\n",
      "1/1 [==============================] - 0s 17ms/step\n",
      ">7, 50/433, d=0.657, g=0.943\n",
      "1/1 [==============================] - 0s 20ms/step\n",
      ">7, 51/433, d=0.556, g=1.281\n",
      "1/1 [==============================] - 0s 19ms/step\n",
      ">7, 52/433, d=0.567, g=1.144\n",
      "1/1 [==============================] - 0s 20ms/step\n",
      ">7, 53/433, d=0.609, g=0.992\n",
      "1/1 [==============================] - 0s 19ms/step\n",
      ">7, 54/433, d=0.532, g=1.069\n",
      "1/1 [==============================] - 0s 25ms/step\n",
      ">7, 55/433, d=0.510, g=1.340\n",
      "1/1 [==============================] - 0s 19ms/step\n",
      ">7, 56/433, d=0.544, g=1.094\n",
      "1/1 [==============================] - 0s 21ms/step\n",
      ">7, 57/433, d=0.483, g=0.950\n",
      "1/1 [==============================] - 0s 28ms/step\n",
      ">7, 58/433, d=0.523, g=1.050\n",
      "1/1 [==============================] - 0s 18ms/step\n",
      ">7, 59/433, d=0.480, g=1.345\n",
      "1/1 [==============================] - 0s 18ms/step\n",
      ">7, 60/433, d=0.496, g=1.327\n",
      "1/1 [==============================] - 0s 17ms/step\n",
      ">7, 61/433, d=0.575, g=1.126\n",
      "1/1 [==============================] - 0s 18ms/step\n",
      ">7, 62/433, d=0.519, g=1.120\n",
      "1/1 [==============================] - 0s 22ms/step\n",
      ">7, 63/433, d=0.533, g=1.346\n",
      "1/1 [==============================] - 0s 17ms/step\n",
      ">7, 64/433, d=0.584, g=1.148\n",
      "1/1 [==============================] - 0s 39ms/step\n",
      ">7, 65/433, d=0.527, g=1.047\n",
      "1/1 [==============================] - 0s 40ms/step\n",
      ">7, 66/433, d=0.593, g=1.095\n",
      "1/1 [==============================] - 0s 33ms/step\n",
      ">7, 67/433, d=0.702, g=1.527\n",
      "1/1 [==============================] - 0s 22ms/step\n",
      ">7, 68/433, d=0.662, g=1.034\n",
      "1/1 [==============================] - 0s 18ms/step\n",
      ">7, 69/433, d=0.599, g=0.854\n",
      "1/1 [==============================] - 0s 19ms/step\n",
      ">7, 70/433, d=0.668, g=2.047\n",
      "1/1 [==============================] - 0s 20ms/step\n",
      ">7, 71/433, d=0.817, g=1.262\n",
      "1/1 [==============================] - 0s 19ms/step\n",
      ">7, 72/433, d=1.626, g=3.004\n",
      "1/1 [==============================] - 0s 18ms/step\n",
      ">7, 73/433, d=1.542, g=0.430\n",
      "1/1 [==============================] - 0s 22ms/step\n",
      ">7, 74/433, d=1.237, g=0.513\n",
      "1/1 [==============================] - 0s 19ms/step\n",
      ">7, 75/433, d=0.852, g=0.796\n",
      "1/1 [==============================] - 0s 20ms/step\n",
      ">7, 76/433, d=0.648, g=1.292\n",
      "1/1 [==============================] - 0s 19ms/step\n",
      ">7, 77/433, d=0.512, g=1.546\n",
      "1/1 [==============================] - 0s 18ms/step\n",
      ">7, 78/433, d=0.424, g=1.742\n",
      "1/1 [==============================] - 0s 17ms/step\n",
      ">7, 79/433, d=0.400, g=1.441\n",
      "1/1 [==============================] - 0s 19ms/step\n",
      ">7, 80/433, d=0.380, g=1.390\n",
      "1/1 [==============================] - 0s 27ms/step\n",
      ">7, 81/433, d=0.497, g=1.199\n",
      "1/1 [==============================] - 0s 42ms/step\n",
      ">7, 82/433, d=0.512, g=1.016\n",
      "1/1 [==============================] - 0s 34ms/step\n",
      ">7, 83/433, d=0.533, g=1.369\n",
      "1/1 [==============================] - 0s 22ms/step\n",
      ">7, 84/433, d=0.604, g=1.399\n",
      "1/1 [==============================] - 0s 22ms/step\n",
      ">7, 85/433, d=0.508, g=1.038\n",
      "1/1 [==============================] - 0s 19ms/step\n",
      ">7, 86/433, d=0.533, g=1.174\n",
      "1/1 [==============================] - 0s 27ms/step\n",
      ">7, 87/433, d=0.533, g=1.115\n",
      "1/1 [==============================] - 0s 23ms/step\n",
      ">7, 88/433, d=0.494, g=1.280\n",
      "1/1 [==============================] - 0s 25ms/step\n",
      ">7, 89/433, d=0.604, g=1.201\n",
      "1/1 [==============================] - 0s 24ms/step\n",
      ">7, 90/433, d=0.613, g=1.268\n",
      "1/1 [==============================] - 0s 26ms/step\n",
      ">7, 91/433, d=0.605, g=1.034\n",
      "1/1 [==============================] - 0s 31ms/step\n",
      ">7, 92/433, d=0.645, g=1.105\n",
      "1/1 [==============================] - 0s 24ms/step\n",
      ">7, 93/433, d=0.600, g=1.365\n",
      "1/1 [==============================] - 0s 20ms/step\n",
      ">7, 94/433, d=0.563, g=1.310\n",
      "1/1 [==============================] - 0s 23ms/step\n",
      ">7, 95/433, d=0.553, g=1.219\n",
      "1/1 [==============================] - 0s 34ms/step\n",
      ">7, 96/433, d=0.649, g=1.246\n",
      "1/1 [==============================] - 0s 37ms/step\n",
      ">7, 97/433, d=0.592, g=1.162\n",
      "1/1 [==============================] - 0s 34ms/step\n",
      ">7, 98/433, d=0.616, g=1.313\n",
      "1/1 [==============================] - 0s 49ms/step\n",
      ">7, 99/433, d=0.547, g=1.121\n",
      "1/1 [==============================] - 0s 26ms/step\n",
      ">7, 100/433, d=0.611, g=1.040\n",
      "1/1 [==============================] - 0s 18ms/step\n",
      ">7, 101/433, d=0.648, g=0.963\n",
      "1/1 [==============================] - 0s 25ms/step\n",
      ">7, 102/433, d=0.615, g=0.923\n",
      "1/1 [==============================] - 0s 24ms/step\n",
      ">7, 103/433, d=0.661, g=0.991\n",
      "1/1 [==============================] - 0s 18ms/step\n",
      ">7, 104/433, d=0.651, g=0.951\n",
      "1/1 [==============================] - 0s 21ms/step\n",
      ">7, 105/433, d=0.674, g=0.796\n",
      "1/1 [==============================] - 0s 26ms/step\n",
      ">7, 106/433, d=0.634, g=0.839\n",
      "1/1 [==============================] - 0s 21ms/step\n",
      ">7, 107/433, d=0.637, g=0.863\n",
      "1/1 [==============================] - 0s 20ms/step\n",
      ">7, 108/433, d=0.648, g=0.954\n",
      "1/1 [==============================] - 0s 26ms/step\n",
      ">7, 109/433, d=0.597, g=0.851\n",
      "1/1 [==============================] - 0s 20ms/step\n",
      ">7, 110/433, d=0.716, g=0.742\n",
      "1/1 [==============================] - 0s 21ms/step\n",
      ">7, 111/433, d=0.699, g=0.893\n",
      "1/1 [==============================] - 0s 23ms/step\n",
      ">7, 112/433, d=0.687, g=0.907\n",
      "1/1 [==============================] - 0s 19ms/step\n",
      ">7, 113/433, d=0.716, g=0.900\n",
      "1/1 [==============================] - 0s 19ms/step\n",
      ">7, 114/433, d=0.710, g=0.766\n",
      "1/1 [==============================] - 0s 22ms/step\n",
      ">7, 115/433, d=0.678, g=0.769\n",
      "1/1 [==============================] - 0s 19ms/step\n",
      ">7, 116/433, d=0.672, g=0.828\n",
      "1/1 [==============================] - 0s 20ms/step\n",
      ">7, 117/433, d=0.671, g=0.775\n",
      "1/1 [==============================] - 0s 20ms/step\n",
      ">7, 118/433, d=0.665, g=0.843\n",
      "1/1 [==============================] - 0s 21ms/step\n",
      ">7, 119/433, d=0.625, g=0.861\n",
      "1/1 [==============================] - 0s 19ms/step\n",
      ">7, 120/433, d=0.672, g=0.890\n",
      "1/1 [==============================] - 0s 19ms/step\n",
      ">7, 121/433, d=0.643, g=0.810\n",
      "1/1 [==============================] - 0s 18ms/step\n",
      ">7, 122/433, d=0.686, g=0.826\n",
      "1/1 [==============================] - 0s 21ms/step\n",
      ">7, 123/433, d=0.695, g=0.741\n",
      "1/1 [==============================] - 0s 20ms/step\n",
      ">7, 124/433, d=0.691, g=0.719\n",
      "1/1 [==============================] - 0s 21ms/step\n",
      ">7, 125/433, d=0.653, g=0.787\n",
      "1/1 [==============================] - 0s 19ms/step\n",
      ">7, 126/433, d=0.649, g=0.786\n",
      "1/1 [==============================] - 0s 18ms/step\n",
      ">7, 127/433, d=0.649, g=0.733\n",
      "1/1 [==============================] - 0s 19ms/step\n",
      ">7, 128/433, d=0.635, g=0.756\n",
      "1/1 [==============================] - 0s 19ms/step\n",
      ">7, 129/433, d=0.581, g=0.875\n",
      "1/1 [==============================] - 0s 20ms/step\n",
      ">7, 130/433, d=0.631, g=0.832\n",
      "1/1 [==============================] - 0s 20ms/step\n",
      ">7, 131/433, d=0.665, g=0.925\n",
      "1/1 [==============================] - 0s 23ms/step\n",
      ">7, 132/433, d=0.592, g=0.922\n",
      "1/1 [==============================] - 0s 19ms/step\n",
      ">7, 133/433, d=0.596, g=0.832\n",
      "1/1 [==============================] - 0s 21ms/step\n",
      ">7, 134/433, d=0.541, g=0.787\n",
      "1/1 [==============================] - 0s 20ms/step\n",
      ">7, 135/433, d=0.543, g=0.951\n",
      "1/1 [==============================] - 0s 19ms/step\n",
      ">7, 136/433, d=0.624, g=1.007\n",
      "1/1 [==============================] - 0s 20ms/step\n",
      ">7, 137/433, d=0.543, g=0.998\n",
      "1/1 [==============================] - 0s 22ms/step\n",
      ">7, 138/433, d=0.560, g=1.063\n",
      "1/1 [==============================] - 0s 20ms/step\n",
      ">7, 139/433, d=0.568, g=1.040\n",
      "1/1 [==============================] - 0s 21ms/step\n",
      ">7, 140/433, d=0.522, g=1.011\n",
      "1/1 [==============================] - 0s 20ms/step\n",
      ">7, 141/433, d=0.529, g=0.989\n",
      "1/1 [==============================] - 0s 22ms/step\n",
      ">7, 142/433, d=0.499, g=1.254\n",
      "1/1 [==============================] - 0s 19ms/step\n",
      ">7, 143/433, d=0.491, g=1.284\n",
      "1/1 [==============================] - 0s 20ms/step\n",
      ">7, 144/433, d=0.603, g=1.336\n",
      "1/1 [==============================] - 0s 19ms/step\n",
      ">7, 145/433, d=0.581, g=0.962\n",
      "1/1 [==============================] - 0s 22ms/step\n",
      ">7, 146/433, d=0.549, g=1.120\n",
      "1/1 [==============================] - 0s 20ms/step\n",
      ">7, 147/433, d=0.548, g=1.142\n",
      "1/1 [==============================] - 0s 21ms/step\n",
      ">7, 148/433, d=0.566, g=1.191\n",
      "1/1 [==============================] - 0s 19ms/step\n",
      ">7, 149/433, d=0.570, g=1.068\n",
      "1/1 [==============================] - 0s 22ms/step\n",
      ">7, 150/433, d=0.580, g=1.026\n",
      "1/1 [==============================] - 0s 19ms/step\n",
      ">7, 151/433, d=0.569, g=1.008\n",
      "1/1 [==============================] - 0s 19ms/step\n",
      ">7, 152/433, d=0.603, g=1.085\n",
      "1/1 [==============================] - 0s 24ms/step\n",
      ">7, 153/433, d=0.575, g=0.884\n",
      "1/1 [==============================] - 0s 20ms/step\n",
      ">7, 154/433, d=0.537, g=1.036\n",
      "1/1 [==============================] - 0s 20ms/step\n",
      ">7, 155/433, d=0.548, g=1.228\n",
      "1/1 [==============================] - 0s 21ms/step\n",
      ">7, 156/433, d=0.490, g=1.067\n",
      "1/1 [==============================] - 0s 21ms/step\n",
      ">7, 157/433, d=0.594, g=1.130\n",
      "1/1 [==============================] - 0s 20ms/step\n",
      ">7, 158/433, d=0.600, g=0.877\n",
      "1/1 [==============================] - 0s 19ms/step\n",
      ">7, 159/433, d=0.546, g=0.908\n",
      "1/1 [==============================] - 0s 19ms/step\n",
      ">7, 160/433, d=0.573, g=1.095\n",
      "1/1 [==============================] - 0s 33ms/step\n",
      ">7, 161/433, d=0.657, g=0.968\n",
      "1/1 [==============================] - 0s 18ms/step\n",
      ">7, 162/433, d=0.601, g=1.297\n",
      "1/1 [==============================] - 0s 24ms/step\n",
      ">7, 163/433, d=0.555, g=1.377\n",
      "1/1 [==============================] - 0s 19ms/step\n",
      ">7, 164/433, d=0.531, g=1.132\n",
      "1/1 [==============================] - 0s 19ms/step\n",
      ">7, 165/433, d=0.612, g=0.998\n",
      "1/1 [==============================] - 0s 21ms/step\n",
      ">7, 166/433, d=0.652, g=0.942\n",
      "1/1 [==============================] - 0s 23ms/step\n",
      ">7, 167/433, d=0.557, g=0.973\n",
      "1/1 [==============================] - 0s 18ms/step\n",
      ">7, 168/433, d=0.584, g=1.137\n",
      "1/1 [==============================] - 0s 19ms/step\n",
      ">7, 169/433, d=0.560, g=0.949\n",
      "1/1 [==============================] - 0s 21ms/step\n",
      ">7, 170/433, d=0.495, g=1.105\n",
      "1/1 [==============================] - 0s 19ms/step\n",
      ">7, 171/433, d=0.562, g=1.447\n",
      "1/1 [==============================] - 0s 20ms/step\n",
      ">7, 172/433, d=0.538, g=1.315\n",
      "1/1 [==============================] - 0s 24ms/step\n",
      ">7, 173/433, d=0.589, g=0.691\n",
      "1/1 [==============================] - 0s 20ms/step\n",
      ">7, 174/433, d=0.606, g=1.391\n",
      "1/1 [==============================] - 0s 22ms/step\n",
      ">7, 175/433, d=0.568, g=1.339\n",
      "1/1 [==============================] - 0s 20ms/step\n",
      ">7, 176/433, d=0.548, g=1.029\n",
      "1/1 [==============================] - 0s 21ms/step\n",
      ">7, 177/433, d=0.772, g=1.118\n",
      "1/1 [==============================] - 0s 19ms/step\n",
      ">7, 178/433, d=0.727, g=0.896\n",
      "1/1 [==============================] - 0s 20ms/step\n",
      ">7, 179/433, d=0.677, g=1.116\n",
      "1/1 [==============================] - 0s 21ms/step\n",
      ">7, 180/433, d=0.621, g=1.234\n",
      "1/1 [==============================] - 0s 22ms/step\n",
      ">7, 181/433, d=0.544, g=1.226\n",
      "1/1 [==============================] - 0s 21ms/step\n",
      ">7, 182/433, d=0.565, g=1.096\n",
      "1/1 [==============================] - 0s 22ms/step\n",
      ">7, 183/433, d=0.577, g=1.042\n",
      "1/1 [==============================] - 0s 18ms/step\n",
      ">7, 184/433, d=0.540, g=0.932\n",
      "1/1 [==============================] - 0s 20ms/step\n",
      ">7, 185/433, d=0.515, g=0.882\n",
      "1/1 [==============================] - 0s 20ms/step\n",
      ">7, 186/433, d=0.667, g=1.098\n",
      "1/1 [==============================] - 0s 18ms/step\n",
      ">7, 187/433, d=0.553, g=1.388\n",
      "1/1 [==============================] - 0s 20ms/step\n",
      ">7, 188/433, d=0.519, g=1.390\n",
      "1/1 [==============================] - 0s 22ms/step\n",
      ">7, 189/433, d=0.485, g=1.200\n",
      "1/1 [==============================] - 0s 20ms/step\n",
      ">7, 190/433, d=0.422, g=1.480\n",
      "1/1 [==============================] - 0s 21ms/step\n",
      ">7, 191/433, d=0.471, g=1.571\n",
      "1/1 [==============================] - 0s 22ms/step\n",
      ">7, 192/433, d=0.557, g=1.123\n",
      "1/1 [==============================] - 0s 21ms/step\n",
      ">7, 193/433, d=0.553, g=1.255\n",
      "1/1 [==============================] - 0s 19ms/step\n",
      ">7, 194/433, d=0.582, g=1.114\n",
      "1/1 [==============================] - 0s 22ms/step\n",
      ">7, 195/433, d=0.587, g=0.917\n",
      "1/1 [==============================] - 0s 19ms/step\n",
      ">7, 196/433, d=0.553, g=1.052\n",
      "1/1 [==============================] - 0s 19ms/step\n",
      ">7, 197/433, d=0.503, g=1.281\n",
      "1/1 [==============================] - 0s 19ms/step\n",
      ">7, 198/433, d=0.481, g=1.227\n",
      "1/1 [==============================] - 0s 19ms/step\n",
      ">7, 199/433, d=0.613, g=1.432\n",
      "1/1 [==============================] - 0s 23ms/step\n",
      ">7, 200/433, d=0.514, g=1.502\n",
      "1/1 [==============================] - 0s 22ms/step\n",
      ">7, 201/433, d=0.516, g=0.867\n",
      "1/1 [==============================] - 0s 24ms/step\n",
      ">7, 202/433, d=0.513, g=1.924\n",
      "1/1 [==============================] - 0s 20ms/step\n",
      ">7, 203/433, d=0.447, g=1.667\n",
      "1/1 [==============================] - 0s 19ms/step\n",
      ">7, 204/433, d=0.494, g=0.933\n",
      "1/1 [==============================] - 0s 18ms/step\n",
      ">7, 205/433, d=0.456, g=1.317\n",
      "1/1 [==============================] - 0s 22ms/step\n",
      ">7, 206/433, d=0.549, g=1.695\n",
      "1/1 [==============================] - 0s 20ms/step\n",
      ">7, 207/433, d=0.539, g=1.295\n",
      "1/1 [==============================] - 0s 21ms/step\n",
      ">7, 208/433, d=0.491, g=0.933\n",
      "1/1 [==============================] - 0s 22ms/step\n",
      ">7, 209/433, d=0.482, g=1.262\n",
      "1/1 [==============================] - 0s 25ms/step\n",
      ">7, 210/433, d=0.450, g=1.577\n",
      "1/1 [==============================] - 0s 21ms/step\n",
      ">7, 211/433, d=0.529, g=1.171\n",
      "1/1 [==============================] - 0s 22ms/step\n",
      ">7, 212/433, d=0.608, g=1.023\n",
      "1/1 [==============================] - 0s 20ms/step\n",
      ">7, 213/433, d=0.761, g=1.349\n",
      "1/1 [==============================] - 0s 21ms/step\n",
      ">7, 214/433, d=0.703, g=1.517\n",
      "1/1 [==============================] - 0s 19ms/step\n",
      ">7, 215/433, d=0.526, g=1.505\n",
      "1/1 [==============================] - 0s 18ms/step\n",
      ">7, 216/433, d=0.599, g=1.176\n",
      "1/1 [==============================] - 0s 23ms/step\n",
      ">7, 217/433, d=0.602, g=0.953\n",
      "1/1 [==============================] - 0s 19ms/step\n",
      ">7, 218/433, d=0.561, g=1.016\n",
      "1/1 [==============================] - 0s 19ms/step\n",
      ">7, 219/433, d=0.563, g=1.141\n",
      "1/1 [==============================] - 0s 19ms/step\n",
      ">7, 220/433, d=0.502, g=1.202\n",
      "1/1 [==============================] - 0s 22ms/step\n",
      ">7, 221/433, d=0.393, g=1.353\n",
      "1/1 [==============================] - 0s 22ms/step\n",
      ">7, 222/433, d=0.448, g=1.464\n",
      "1/1 [==============================] - 0s 20ms/step\n",
      ">7, 223/433, d=0.361, g=1.396\n",
      "1/1 [==============================] - 0s 21ms/step\n",
      ">7, 224/433, d=0.344, g=1.331\n",
      "1/1 [==============================] - 0s 19ms/step\n",
      ">7, 225/433, d=0.353, g=1.807\n",
      "1/1 [==============================] - 0s 30ms/step\n",
      ">7, 226/433, d=0.438, g=1.442\n",
      "1/1 [==============================] - 0s 24ms/step\n",
      ">7, 227/433, d=0.428, g=1.137\n",
      "1/1 [==============================] - 0s 22ms/step\n",
      ">7, 228/433, d=0.678, g=2.396\n",
      "1/1 [==============================] - 0s 21ms/step\n",
      ">7, 229/433, d=0.660, g=1.642\n",
      "1/1 [==============================] - 0s 19ms/step\n",
      ">7, 230/433, d=0.440, g=1.606\n",
      "1/1 [==============================] - 0s 21ms/step\n",
      ">7, 231/433, d=0.483, g=2.289\n",
      "1/1 [==============================] - 0s 19ms/step\n",
      ">7, 232/433, d=0.412, g=2.943\n",
      "1/1 [==============================] - 0s 18ms/step\n",
      ">7, 233/433, d=0.287, g=2.358\n",
      "1/1 [==============================] - 0s 22ms/step\n",
      ">7, 234/433, d=0.663, g=2.565\n",
      "1/1 [==============================] - 0s 51ms/step\n",
      ">7, 235/433, d=0.436, g=2.026\n",
      "1/1 [==============================] - 0s 24ms/step\n",
      ">7, 236/433, d=0.874, g=1.798\n",
      "1/1 [==============================] - 0s 47ms/step\n",
      ">7, 237/433, d=0.518, g=2.427\n",
      "1/1 [==============================] - 0s 23ms/step\n",
      ">7, 238/433, d=0.665, g=1.498\n",
      "1/1 [==============================] - 0s 47ms/step\n",
      ">7, 239/433, d=0.488, g=1.201\n",
      "1/1 [==============================] - 0s 21ms/step\n",
      ">7, 240/433, d=0.475, g=1.288\n",
      "1/1 [==============================] - 0s 26ms/step\n",
      ">7, 241/433, d=0.407, g=1.322\n",
      "1/1 [==============================] - 0s 19ms/step\n",
      ">7, 242/433, d=0.352, g=1.284\n",
      "1/1 [==============================] - 0s 21ms/step\n",
      ">7, 243/433, d=0.446, g=1.537\n",
      "1/1 [==============================] - 0s 26ms/step\n",
      ">7, 244/433, d=0.353, g=1.538\n",
      "1/1 [==============================] - 0s 20ms/step\n",
      ">7, 245/433, d=0.382, g=1.410\n",
      "1/1 [==============================] - 0s 21ms/step\n",
      ">7, 246/433, d=0.289, g=1.455\n",
      "1/1 [==============================] - 0s 19ms/step\n",
      ">7, 247/433, d=0.446, g=1.562\n",
      "1/1 [==============================] - 0s 23ms/step\n",
      ">7, 248/433, d=0.427, g=1.677\n",
      "1/1 [==============================] - 0s 23ms/step\n",
      ">7, 249/433, d=0.481, g=1.942\n",
      "1/1 [==============================] - 0s 20ms/step\n",
      ">7, 250/433, d=0.373, g=1.556\n",
      "1/1 [==============================] - 0s 33ms/step\n",
      ">7, 251/433, d=0.556, g=2.278\n",
      "1/1 [==============================] - 0s 25ms/step\n",
      ">7, 252/433, d=0.476, g=1.757\n",
      "1/1 [==============================] - 0s 27ms/step\n",
      ">7, 253/433, d=0.448, g=1.619\n",
      "1/1 [==============================] - 0s 22ms/step\n",
      ">7, 254/433, d=0.583, g=1.712\n",
      "1/1 [==============================] - 0s 20ms/step\n",
      ">7, 255/433, d=0.399, g=1.565\n",
      "1/1 [==============================] - 0s 18ms/step\n",
      ">7, 256/433, d=0.441, g=1.201\n",
      "1/1 [==============================] - 0s 41ms/step\n",
      ">7, 257/433, d=0.413, g=1.334\n",
      "1/1 [==============================] - 0s 29ms/step\n",
      ">7, 258/433, d=0.415, g=1.497\n",
      "1/1 [==============================] - 0s 42ms/step\n",
      ">7, 259/433, d=0.391, g=1.604\n",
      "1/1 [==============================] - 0s 25ms/step\n",
      ">7, 260/433, d=0.421, g=1.764\n",
      "1/1 [==============================] - 0s 41ms/step\n",
      ">7, 261/433, d=0.326, g=2.143\n",
      "1/1 [==============================] - 0s 23ms/step\n",
      ">7, 262/433, d=0.384, g=1.750\n",
      "1/1 [==============================] - 0s 22ms/step\n",
      ">7, 263/433, d=0.393, g=1.690\n",
      "1/1 [==============================] - 0s 18ms/step\n",
      ">7, 264/433, d=0.380, g=2.252\n",
      "1/1 [==============================] - 0s 20ms/step\n",
      ">7, 265/433, d=0.356, g=1.051\n",
      "1/1 [==============================] - 0s 19ms/step\n",
      ">7, 266/433, d=0.889, g=2.889\n",
      "1/1 [==============================] - 0s 20ms/step\n",
      ">7, 267/433, d=0.977, g=0.502\n",
      "1/1 [==============================] - 0s 20ms/step\n",
      ">7, 268/433, d=0.788, g=0.866\n",
      "1/1 [==============================] - 0s 21ms/step\n",
      ">7, 269/433, d=0.642, g=1.561\n",
      "1/1 [==============================] - 0s 21ms/step\n",
      ">7, 270/433, d=0.800, g=1.209\n",
      "1/1 [==============================] - 0s 19ms/step\n",
      ">7, 271/433, d=0.638, g=1.223\n",
      "1/1 [==============================] - 0s 19ms/step\n",
      ">7, 272/433, d=0.570, g=1.103\n",
      "1/1 [==============================] - 0s 21ms/step\n",
      ">7, 273/433, d=0.537, g=1.034\n",
      "1/1 [==============================] - 0s 18ms/step\n",
      ">7, 274/433, d=0.622, g=1.107\n",
      "1/1 [==============================] - 0s 22ms/step\n",
      ">7, 275/433, d=0.590, g=1.235\n",
      "1/1 [==============================] - 0s 25ms/step\n",
      ">7, 276/433, d=0.679, g=1.045\n",
      "1/1 [==============================] - 0s 34ms/step\n",
      ">7, 277/433, d=0.631, g=0.935\n",
      "1/1 [==============================] - 0s 24ms/step\n",
      ">7, 278/433, d=0.612, g=0.994\n",
      "1/1 [==============================] - 0s 36ms/step\n",
      ">7, 279/433, d=0.662, g=0.986\n",
      "1/1 [==============================] - 0s 22ms/step\n",
      ">7, 280/433, d=0.538, g=1.076\n",
      "1/1 [==============================] - 0s 75ms/step\n",
      ">7, 281/433, d=0.521, g=1.123\n",
      "1/1 [==============================] - 0s 41ms/step\n",
      ">7, 282/433, d=0.549, g=1.199\n",
      "1/1 [==============================] - 0s 56ms/step\n",
      ">7, 283/433, d=0.480, g=1.321\n",
      "1/1 [==============================] - 0s 22ms/step\n",
      ">7, 284/433, d=0.439, g=1.413\n",
      "1/1 [==============================] - 0s 21ms/step\n",
      ">7, 285/433, d=0.405, g=1.383\n",
      "1/1 [==============================] - 0s 24ms/step\n",
      ">7, 286/433, d=0.382, g=1.305\n",
      "1/1 [==============================] - 0s 19ms/step\n",
      ">7, 287/433, d=0.439, g=1.405\n",
      "1/1 [==============================] - 0s 19ms/step\n",
      ">7, 288/433, d=0.418, g=1.846\n",
      "1/1 [==============================] - 0s 20ms/step\n",
      ">7, 289/433, d=0.393, g=1.690\n",
      "1/1 [==============================] - 0s 20ms/step\n",
      ">7, 290/433, d=0.445, g=1.788\n",
      "1/1 [==============================] - 0s 21ms/step\n",
      ">7, 291/433, d=0.501, g=1.285\n",
      "1/1 [==============================] - 0s 21ms/step\n",
      ">7, 292/433, d=0.463, g=1.402\n",
      "1/1 [==============================] - 0s 23ms/step\n",
      ">7, 293/433, d=0.795, g=3.877\n",
      "1/1 [==============================] - 0s 22ms/step\n",
      ">7, 294/433, d=0.595, g=2.717\n",
      "1/1 [==============================] - 0s 20ms/step\n",
      ">7, 295/433, d=0.695, g=0.935\n",
      "1/1 [==============================] - 0s 21ms/step\n",
      ">7, 296/433, d=0.869, g=2.259\n",
      "1/1 [==============================] - 0s 18ms/step\n",
      ">7, 297/433, d=0.797, g=1.401\n",
      "1/1 [==============================] - 0s 19ms/step\n",
      ">7, 298/433, d=0.591, g=0.908\n",
      "1/1 [==============================] - 0s 19ms/step\n",
      ">7, 299/433, d=0.538, g=0.879\n",
      "1/1 [==============================] - 0s 28ms/step\n",
      ">7, 300/433, d=0.534, g=1.240\n",
      "1/1 [==============================] - 0s 28ms/step\n",
      ">7, 301/433, d=0.520, g=1.483\n",
      "1/1 [==============================] - 0s 28ms/step\n",
      ">7, 302/433, d=0.372, g=1.722\n",
      "1/1 [==============================] - 0s 22ms/step\n",
      ">7, 303/433, d=0.361, g=1.648\n",
      "1/1 [==============================] - 0s 22ms/step\n",
      ">7, 304/433, d=0.435, g=1.833\n",
      "1/1 [==============================] - 0s 27ms/step\n",
      ">7, 305/433, d=0.355, g=1.818\n",
      "1/1 [==============================] - 0s 18ms/step\n",
      ">7, 306/433, d=0.513, g=1.876\n",
      "1/1 [==============================] - 0s 35ms/step\n",
      ">7, 307/433, d=0.374, g=2.124\n",
      "1/1 [==============================] - 0s 22ms/step\n",
      ">7, 308/433, d=0.396, g=1.690\n",
      "1/1 [==============================] - 0s 27ms/step\n",
      ">7, 309/433, d=0.444, g=1.210\n",
      "1/1 [==============================] - 0s 25ms/step\n",
      ">7, 310/433, d=0.571, g=1.432\n",
      "1/1 [==============================] - 0s 27ms/step\n",
      ">7, 311/433, d=0.532, g=1.447\n",
      "1/1 [==============================] - 0s 22ms/step\n",
      ">7, 312/433, d=0.558, g=1.599\n",
      "1/1 [==============================] - 0s 18ms/step\n",
      ">7, 313/433, d=0.509, g=1.324\n",
      "1/1 [==============================] - 0s 21ms/step\n",
      ">7, 314/433, d=0.449, g=1.185\n",
      "1/1 [==============================] - 0s 52ms/step\n",
      ">7, 315/433, d=0.418, g=1.598\n",
      "1/1 [==============================] - 0s 54ms/step\n",
      ">7, 316/433, d=0.358, g=1.722\n",
      "1/1 [==============================] - 0s 40ms/step\n",
      ">7, 317/433, d=0.506, g=2.245\n",
      "1/1 [==============================] - 0s 33ms/step\n",
      ">7, 318/433, d=0.546, g=2.391\n",
      "1/1 [==============================] - 0s 21ms/step\n",
      ">7, 319/433, d=0.380, g=1.575\n",
      "1/1 [==============================] - 0s 23ms/step\n",
      ">7, 320/433, d=0.418, g=1.406\n",
      "1/1 [==============================] - 0s 28ms/step\n",
      ">7, 321/433, d=0.514, g=1.271\n",
      "1/1 [==============================] - 0s 41ms/step\n",
      ">7, 322/433, d=0.471, g=1.511\n",
      "1/1 [==============================] - 0s 69ms/step\n",
      ">7, 323/433, d=0.513, g=1.506\n",
      "1/1 [==============================] - 0s 29ms/step\n",
      ">7, 324/433, d=0.489, g=1.738\n",
      "1/1 [==============================] - 0s 39ms/step\n",
      ">7, 325/433, d=0.390, g=1.764\n",
      "1/1 [==============================] - 0s 23ms/step\n",
      ">7, 326/433, d=0.315, g=2.104\n",
      "1/1 [==============================] - 0s 25ms/step\n",
      ">7, 327/433, d=0.379, g=2.030\n",
      "1/1 [==============================] - 0s 22ms/step\n",
      ">7, 328/433, d=0.371, g=2.043\n",
      "1/1 [==============================] - 0s 20ms/step\n",
      ">7, 329/433, d=0.334, g=1.812\n",
      "1/1 [==============================] - 0s 21ms/step\n",
      ">7, 330/433, d=0.437, g=2.143\n",
      "1/1 [==============================] - 0s 21ms/step\n",
      ">7, 331/433, d=0.670, g=3.258\n",
      "1/1 [==============================] - 0s 22ms/step\n",
      ">7, 332/433, d=0.671, g=2.636\n",
      "1/1 [==============================] - 0s 21ms/step\n",
      ">7, 333/433, d=0.514, g=3.031\n",
      "1/1 [==============================] - 0s 21ms/step\n",
      ">7, 334/433, d=0.484, g=2.653\n",
      "1/1 [==============================] - 0s 18ms/step\n",
      ">7, 335/433, d=0.332, g=1.937\n",
      "1/1 [==============================] - 0s 19ms/step\n",
      ">7, 336/433, d=0.697, g=2.658\n",
      "1/1 [==============================] - 0s 19ms/step\n",
      ">7, 337/433, d=0.322, g=3.034\n",
      "1/1 [==============================] - 0s 19ms/step\n",
      ">7, 338/433, d=0.493, g=1.684\n",
      "1/1 [==============================] - 0s 19ms/step\n",
      ">7, 339/433, d=0.654, g=1.968\n",
      "1/1 [==============================] - 0s 19ms/step\n",
      ">7, 340/433, d=0.701, g=2.251\n",
      "1/1 [==============================] - 0s 21ms/step\n",
      ">7, 341/433, d=0.573, g=1.857\n",
      "1/1 [==============================] - 0s 19ms/step\n",
      ">7, 342/433, d=0.681, g=1.322\n",
      "1/1 [==============================] - 0s 20ms/step\n",
      ">7, 343/433, d=0.605, g=1.695\n",
      "1/1 [==============================] - 0s 20ms/step\n",
      ">7, 344/433, d=0.599, g=1.691\n",
      "1/1 [==============================] - 0s 19ms/step\n",
      ">7, 345/433, d=0.568, g=1.299\n",
      "1/1 [==============================] - 0s 18ms/step\n",
      ">7, 346/433, d=0.608, g=1.607\n",
      "1/1 [==============================] - 0s 21ms/step\n",
      ">7, 347/433, d=0.424, g=1.668\n",
      "1/1 [==============================] - 0s 20ms/step\n",
      ">7, 348/433, d=0.421, g=1.734\n",
      "1/1 [==============================] - 0s 37ms/step\n",
      ">7, 349/433, d=0.565, g=1.573\n",
      "1/1 [==============================] - 0s 24ms/step\n",
      ">7, 350/433, d=0.588, g=1.054\n",
      "1/1 [==============================] - 0s 25ms/step\n",
      ">7, 351/433, d=0.649, g=0.942\n",
      "1/1 [==============================] - 0s 22ms/step\n",
      ">7, 352/433, d=0.625, g=1.051\n",
      "1/1 [==============================] - 0s 21ms/step\n",
      ">7, 353/433, d=0.599, g=1.116\n",
      "1/1 [==============================] - 0s 39ms/step\n",
      ">7, 354/433, d=0.488, g=1.130\n",
      "1/1 [==============================] - 0s 21ms/step\n",
      ">7, 355/433, d=0.448, g=1.164\n",
      "1/1 [==============================] - 0s 19ms/step\n",
      ">7, 356/433, d=0.447, g=1.269\n",
      "1/1 [==============================] - 0s 23ms/step\n",
      ">7, 357/433, d=0.489, g=1.192\n",
      "1/1 [==============================] - 0s 27ms/step\n",
      ">7, 358/433, d=0.515, g=1.072\n",
      "1/1 [==============================] - 0s 24ms/step\n",
      ">7, 359/433, d=0.564, g=0.978\n",
      "1/1 [==============================] - 0s 39ms/step\n",
      ">7, 360/433, d=0.548, g=1.102\n",
      "1/1 [==============================] - 0s 21ms/step\n",
      ">7, 361/433, d=0.809, g=1.302\n",
      "1/1 [==============================] - 0s 65ms/step\n",
      ">7, 362/433, d=0.812, g=1.039\n",
      "1/1 [==============================] - 0s 22ms/step\n",
      ">7, 363/433, d=0.920, g=0.911\n",
      "1/1 [==============================] - 0s 44ms/step\n",
      ">7, 364/433, d=0.841, g=1.259\n",
      "1/1 [==============================] - 0s 37ms/step\n",
      ">7, 365/433, d=0.658, g=1.502\n",
      "1/1 [==============================] - 0s 24ms/step\n",
      ">7, 366/433, d=0.569, g=1.465\n",
      "1/1 [==============================] - 0s 21ms/step\n",
      ">7, 367/433, d=0.513, g=1.535\n",
      "1/1 [==============================] - 0s 20ms/step\n",
      ">7, 368/433, d=0.453, g=1.624\n",
      "1/1 [==============================] - 0s 21ms/step\n",
      ">7, 369/433, d=0.371, g=1.710\n",
      "1/1 [==============================] - 0s 19ms/step\n",
      ">7, 370/433, d=0.447, g=1.663\n",
      "1/1 [==============================] - 0s 27ms/step\n",
      ">7, 371/433, d=0.516, g=1.591\n",
      "1/1 [==============================] - 0s 20ms/step\n",
      ">7, 372/433, d=0.570, g=1.202\n",
      "1/1 [==============================] - 0s 22ms/step\n",
      ">7, 373/433, d=0.620, g=1.056\n",
      "1/1 [==============================] - 0s 24ms/step\n",
      ">7, 374/433, d=0.509, g=1.087\n",
      "1/1 [==============================] - 0s 20ms/step\n",
      ">7, 375/433, d=0.526, g=1.191\n",
      "1/1 [==============================] - 0s 19ms/step\n",
      ">7, 376/433, d=0.639, g=1.162\n",
      "1/1 [==============================] - 0s 23ms/step\n",
      ">7, 377/433, d=0.563, g=1.276\n",
      "1/1 [==============================] - 0s 19ms/step\n",
      ">7, 378/433, d=0.570, g=1.287\n",
      "1/1 [==============================] - 0s 19ms/step\n",
      ">7, 379/433, d=0.591, g=1.505\n",
      "1/1 [==============================] - 0s 22ms/step\n",
      ">7, 380/433, d=0.499, g=1.287\n",
      "1/1 [==============================] - 0s 19ms/step\n",
      ">7, 381/433, d=0.503, g=1.121\n",
      "1/1 [==============================] - 0s 20ms/step\n",
      ">7, 382/433, d=0.513, g=1.068\n",
      "1/1 [==============================] - 0s 20ms/step\n",
      ">7, 383/433, d=0.461, g=1.086\n",
      "1/1 [==============================] - 0s 19ms/step\n",
      ">7, 384/433, d=0.497, g=1.221\n",
      "1/1 [==============================] - 0s 18ms/step\n",
      ">7, 385/433, d=0.541, g=1.204\n",
      "1/1 [==============================] - 0s 18ms/step\n",
      ">7, 386/433, d=0.642, g=1.104\n",
      "1/1 [==============================] - 0s 19ms/step\n",
      ">7, 387/433, d=0.521, g=1.220\n",
      "1/1 [==============================] - 0s 19ms/step\n",
      ">7, 388/433, d=0.672, g=1.142\n",
      "1/1 [==============================] - 0s 22ms/step\n",
      ">7, 389/433, d=0.589, g=1.261\n",
      "1/1 [==============================] - 0s 22ms/step\n",
      ">7, 390/433, d=0.501, g=1.378\n",
      "1/1 [==============================] - 0s 20ms/step\n",
      ">7, 391/433, d=0.496, g=1.332\n",
      "1/1 [==============================] - 0s 20ms/step\n",
      ">7, 392/433, d=0.531, g=0.876\n",
      "1/1 [==============================] - 0s 38ms/step\n",
      ">7, 393/433, d=0.568, g=1.274\n",
      "1/1 [==============================] - 0s 18ms/step\n",
      ">7, 394/433, d=0.536, g=1.079\n",
      "1/1 [==============================] - 0s 21ms/step\n",
      ">7, 395/433, d=0.632, g=1.286\n",
      "1/1 [==============================] - 0s 18ms/step\n",
      ">7, 396/433, d=0.645, g=1.120\n",
      "1/1 [==============================] - 0s 24ms/step\n",
      ">7, 397/433, d=0.641, g=0.997\n",
      "1/1 [==============================] - 0s 20ms/step\n",
      ">7, 398/433, d=0.530, g=0.948\n",
      "1/1 [==============================] - 0s 18ms/step\n",
      ">7, 399/433, d=0.576, g=1.107\n",
      "1/1 [==============================] - 0s 19ms/step\n",
      ">7, 400/433, d=0.480, g=1.184\n",
      "1/1 [==============================] - 0s 21ms/step\n",
      ">7, 401/433, d=0.557, g=1.138\n",
      "1/1 [==============================] - 0s 22ms/step\n",
      ">7, 402/433, d=0.517, g=1.139\n",
      "1/1 [==============================] - 0s 19ms/step\n",
      ">7, 403/433, d=0.441, g=1.296\n",
      "1/1 [==============================] - 0s 19ms/step\n",
      ">7, 404/433, d=0.401, g=1.525\n",
      "1/1 [==============================] - 0s 18ms/step\n",
      ">7, 405/433, d=0.528, g=1.230\n",
      "1/1 [==============================] - 0s 22ms/step\n",
      ">7, 406/433, d=0.504, g=1.217\n",
      "1/1 [==============================] - 0s 18ms/step\n",
      ">7, 407/433, d=0.537, g=1.037\n",
      "1/1 [==============================] - 0s 21ms/step\n",
      ">7, 408/433, d=0.454, g=1.285\n",
      "1/1 [==============================] - 0s 22ms/step\n",
      ">7, 409/433, d=0.604, g=1.381\n",
      "1/1 [==============================] - 0s 20ms/step\n",
      ">7, 410/433, d=0.614, g=1.038\n",
      "1/1 [==============================] - 0s 21ms/step\n",
      ">7, 411/433, d=0.651, g=1.075\n",
      "1/1 [==============================] - 0s 25ms/step\n",
      ">7, 412/433, d=0.693, g=1.210\n",
      "1/1 [==============================] - 0s 19ms/step\n",
      ">7, 413/433, d=0.558, g=1.372\n",
      "1/1 [==============================] - 0s 20ms/step\n",
      ">7, 414/433, d=0.629, g=1.175\n",
      "1/1 [==============================] - 0s 20ms/step\n",
      ">7, 415/433, d=0.601, g=0.968\n",
      "1/1 [==============================] - 0s 18ms/step\n",
      ">7, 416/433, d=0.555, g=1.174\n",
      "1/1 [==============================] - 0s 18ms/step\n",
      ">7, 417/433, d=0.661, g=1.155\n",
      "1/1 [==============================] - 0s 19ms/step\n",
      ">7, 418/433, d=0.572, g=1.142\n",
      "1/1 [==============================] - 0s 22ms/step\n",
      ">7, 419/433, d=0.689, g=2.501\n",
      "1/1 [==============================] - 0s 19ms/step\n",
      ">7, 420/433, d=0.782, g=1.199\n",
      "1/1 [==============================] - 0s 19ms/step\n",
      ">7, 421/433, d=0.743, g=0.815\n",
      "1/1 [==============================] - 0s 24ms/step\n",
      ">7, 422/433, d=0.701, g=1.277\n",
      "1/1 [==============================] - 0s 25ms/step\n",
      ">7, 423/433, d=0.837, g=1.097\n",
      "1/1 [==============================] - 0s 23ms/step\n",
      ">7, 424/433, d=0.574, g=1.103\n",
      "1/1 [==============================] - 0s 19ms/step\n",
      ">7, 425/433, d=0.563, g=1.267\n",
      "1/1 [==============================] - 0s 22ms/step\n",
      ">7, 426/433, d=0.561, g=1.280\n",
      "1/1 [==============================] - 0s 22ms/step\n",
      ">7, 427/433, d=0.462, g=1.408\n",
      "1/1 [==============================] - 0s 18ms/step\n",
      ">7, 428/433, d=0.429, g=1.485\n",
      "1/1 [==============================] - 0s 21ms/step\n",
      ">7, 429/433, d=0.452, g=1.514\n",
      "1/1 [==============================] - 0s 20ms/step\n",
      ">7, 430/433, d=0.508, g=1.292\n",
      "1/1 [==============================] - 0s 21ms/step\n",
      ">7, 431/433, d=0.558, g=1.615\n",
      "1/1 [==============================] - 0s 25ms/step\n",
      ">7, 432/433, d=0.501, g=1.448\n",
      "1/1 [==============================] - 0s 19ms/step\n",
      ">7, 433/433, d=0.591, g=1.280\n",
      "1/1 [==============================] - 0s 24ms/step\n",
      ">8, 1/433, d=0.478, g=1.226\n",
      "1/1 [==============================] - 0s 25ms/step\n",
      ">8, 2/433, d=0.477, g=1.333\n",
      "1/1 [==============================] - 0s 24ms/step\n",
      ">8, 3/433, d=0.439, g=1.493\n",
      "1/1 [==============================] - 0s 26ms/step\n",
      ">8, 4/433, d=0.524, g=1.204\n",
      "1/1 [==============================] - 0s 23ms/step\n",
      ">8, 5/433, d=0.606, g=1.033\n",
      "1/1 [==============================] - 0s 24ms/step\n",
      ">8, 6/433, d=0.559, g=1.023\n",
      "1/1 [==============================] - 0s 23ms/step\n",
      ">8, 7/433, d=0.561, g=1.057\n",
      "1/1 [==============================] - 0s 19ms/step\n",
      ">8, 8/433, d=0.493, g=1.141\n",
      "1/1 [==============================] - 0s 20ms/step\n",
      ">8, 9/433, d=0.557, g=1.093\n",
      "1/1 [==============================] - 0s 21ms/step\n",
      ">8, 10/433, d=0.891, g=0.893\n",
      "1/1 [==============================] - 0s 19ms/step\n",
      ">8, 11/433, d=0.855, g=0.942\n",
      "1/1 [==============================] - 0s 24ms/step\n",
      ">8, 12/433, d=0.712, g=1.004\n",
      "1/1 [==============================] - 0s 19ms/step\n",
      ">8, 13/433, d=0.610, g=1.051\n",
      "1/1 [==============================] - 0s 20ms/step\n",
      ">8, 14/433, d=0.644, g=0.974\n",
      "1/1 [==============================] - 0s 17ms/step\n",
      ">8, 15/433, d=0.691, g=0.831\n",
      "1/1 [==============================] - 0s 19ms/step\n",
      ">8, 16/433, d=0.677, g=0.943\n",
      "1/1 [==============================] - 0s 24ms/step\n",
      ">8, 17/433, d=0.609, g=1.067\n",
      "1/1 [==============================] - 0s 25ms/step\n",
      ">8, 18/433, d=0.635, g=1.035\n",
      "1/1 [==============================] - 0s 21ms/step\n",
      ">8, 19/433, d=0.590, g=1.006\n",
      "1/1 [==============================] - 0s 22ms/step\n",
      ">8, 20/433, d=0.574, g=1.053\n",
      "1/1 [==============================] - 0s 20ms/step\n",
      ">8, 21/433, d=0.552, g=1.121\n",
      "1/1 [==============================] - 0s 18ms/step\n",
      ">8, 22/433, d=0.599, g=1.165\n",
      "1/1 [==============================] - 0s 20ms/step\n",
      ">8, 23/433, d=0.492, g=1.235\n",
      "1/1 [==============================] - 0s 21ms/step\n",
      ">8, 24/433, d=0.500, g=1.382\n",
      "1/1 [==============================] - 0s 38ms/step\n",
      ">8, 25/433, d=0.482, g=1.316\n",
      "1/1 [==============================] - 0s 25ms/step\n",
      ">8, 26/433, d=0.525, g=1.583\n",
      "1/1 [==============================] - 0s 20ms/step\n",
      ">8, 27/433, d=0.516, g=1.502\n",
      "1/1 [==============================] - 0s 20ms/step\n",
      ">8, 28/433, d=0.580, g=1.086\n",
      "1/1 [==============================] - 0s 19ms/step\n",
      ">8, 29/433, d=0.478, g=1.205\n",
      "1/1 [==============================] - 0s 19ms/step\n",
      ">8, 30/433, d=0.548, g=1.108\n",
      "1/1 [==============================] - 0s 19ms/step\n",
      ">8, 31/433, d=0.779, g=1.311\n",
      "1/1 [==============================] - 0s 27ms/step\n",
      ">8, 32/433, d=0.835, g=1.310\n",
      "1/1 [==============================] - 0s 20ms/step\n",
      ">8, 33/433, d=0.511, g=1.377\n",
      "1/1 [==============================] - 0s 24ms/step\n",
      ">8, 34/433, d=0.554, g=1.214\n",
      "1/1 [==============================] - 0s 19ms/step\n",
      ">8, 35/433, d=0.494, g=1.146\n",
      "1/1 [==============================] - 0s 20ms/step\n",
      ">8, 36/433, d=0.608, g=1.089\n",
      "1/1 [==============================] - 0s 20ms/step\n",
      ">8, 37/433, d=0.579, g=0.972\n",
      "1/1 [==============================] - 0s 20ms/step\n",
      ">8, 38/433, d=0.622, g=0.949\n",
      "1/1 [==============================] - 0s 21ms/step\n",
      ">8, 39/433, d=0.518, g=0.987\n",
      "1/1 [==============================] - 0s 20ms/step\n",
      ">8, 40/433, d=0.571, g=1.070\n",
      "1/1 [==============================] - 0s 24ms/step\n",
      ">8, 41/433, d=0.562, g=1.087\n",
      "1/1 [==============================] - 0s 23ms/step\n",
      ">8, 42/433, d=0.530, g=1.011\n",
      "1/1 [==============================] - 0s 21ms/step\n",
      ">8, 43/433, d=0.478, g=1.217\n",
      "1/1 [==============================] - 0s 20ms/step\n",
      ">8, 44/433, d=0.492, g=1.264\n",
      "1/1 [==============================] - 0s 19ms/step\n",
      ">8, 45/433, d=0.539, g=1.146\n",
      "1/1 [==============================] - 0s 26ms/step\n",
      ">8, 46/433, d=0.533, g=1.143\n",
      "1/1 [==============================] - 0s 19ms/step\n",
      ">8, 47/433, d=0.408, g=1.347\n",
      "1/1 [==============================] - 0s 19ms/step\n",
      ">8, 48/433, d=0.576, g=1.456\n",
      "1/1 [==============================] - 0s 22ms/step\n",
      ">8, 49/433, d=0.523, g=1.434\n",
      "1/1 [==============================] - 0s 20ms/step\n",
      ">8, 50/433, d=0.549, g=1.038\n",
      "1/1 [==============================] - 0s 22ms/step\n",
      ">8, 51/433, d=0.621, g=0.834\n",
      "1/1 [==============================] - 0s 27ms/step\n",
      ">8, 52/433, d=0.590, g=0.984\n",
      "1/1 [==============================] - 0s 25ms/step\n",
      ">8, 53/433, d=0.598, g=1.144\n",
      "1/1 [==============================] - 0s 20ms/step\n",
      ">8, 54/433, d=0.649, g=1.136\n",
      "1/1 [==============================] - 0s 35ms/step\n",
      ">8, 55/433, d=0.660, g=0.945\n",
      "1/1 [==============================] - 0s 22ms/step\n",
      ">8, 56/433, d=0.637, g=1.024\n",
      "1/1 [==============================] - 0s 20ms/step\n",
      ">8, 57/433, d=0.734, g=1.348\n",
      "1/1 [==============================] - 0s 22ms/step\n",
      ">8, 58/433, d=0.683, g=1.227\n",
      "1/1 [==============================] - 0s 21ms/step\n",
      ">8, 59/433, d=0.643, g=0.995\n",
      "1/1 [==============================] - 0s 23ms/step\n",
      ">8, 60/433, d=0.707, g=0.829\n",
      "1/1 [==============================] - 0s 20ms/step\n",
      ">8, 61/433, d=0.650, g=0.901\n",
      "1/1 [==============================] - 0s 20ms/step\n",
      ">8, 62/433, d=0.532, g=0.941\n",
      "1/1 [==============================] - 0s 18ms/step\n",
      ">8, 63/433, d=0.586, g=1.046\n",
      "1/1 [==============================] - 0s 22ms/step\n",
      ">8, 64/433, d=0.586, g=1.109\n",
      "1/1 [==============================] - 0s 22ms/step\n",
      ">8, 65/433, d=0.605, g=1.087\n",
      "1/1 [==============================] - 0s 19ms/step\n",
      ">8, 66/433, d=0.580, g=1.179\n",
      "1/1 [==============================] - 0s 23ms/step\n",
      ">8, 67/433, d=0.555, g=1.086\n",
      "1/1 [==============================] - 0s 18ms/step\n",
      ">8, 68/433, d=0.573, g=1.143\n",
      "1/1 [==============================] - 0s 19ms/step\n",
      ">8, 69/433, d=0.587, g=1.131\n",
      "1/1 [==============================] - 0s 22ms/step\n",
      ">8, 70/433, d=0.572, g=0.998\n",
      "1/1 [==============================] - 0s 22ms/step\n",
      ">8, 71/433, d=0.562, g=0.971\n",
      "1/1 [==============================] - 0s 20ms/step\n",
      ">8, 72/433, d=0.501, g=1.203\n",
      "1/1 [==============================] - 0s 20ms/step\n",
      ">8, 73/433, d=0.438, g=1.415\n",
      "1/1 [==============================] - 0s 18ms/step\n",
      ">8, 74/433, d=0.454, g=1.416\n",
      "1/1 [==============================] - 0s 18ms/step\n",
      ">8, 75/433, d=0.427, g=1.329\n",
      "1/1 [==============================] - 0s 21ms/step\n",
      ">8, 76/433, d=0.443, g=1.060\n",
      "1/1 [==============================] - 0s 22ms/step\n",
      ">8, 77/433, d=0.554, g=1.284\n",
      "1/1 [==============================] - 0s 20ms/step\n",
      ">8, 78/433, d=0.436, g=1.286\n",
      "1/1 [==============================] - 0s 20ms/step\n",
      ">8, 79/433, d=0.395, g=1.270\n",
      "1/1 [==============================] - 0s 18ms/step\n",
      ">8, 80/433, d=0.552, g=1.203\n",
      "1/1 [==============================] - 0s 20ms/step\n",
      ">8, 81/433, d=0.632, g=1.287\n",
      "1/1 [==============================] - 0s 19ms/step\n",
      ">8, 82/433, d=0.779, g=1.069\n",
      "1/1 [==============================] - 0s 22ms/step\n",
      ">8, 83/433, d=0.570, g=1.271\n",
      "1/1 [==============================] - 0s 22ms/step\n",
      ">8, 84/433, d=0.656, g=1.367\n",
      "1/1 [==============================] - 0s 19ms/step\n",
      ">8, 85/433, d=0.757, g=1.268\n",
      "1/1 [==============================] - 0s 23ms/step\n",
      ">8, 86/433, d=0.671, g=1.243\n",
      "1/1 [==============================] - 0s 21ms/step\n",
      ">8, 87/433, d=0.641, g=1.415\n",
      "1/1 [==============================] - 0s 22ms/step\n",
      ">8, 88/433, d=0.631, g=1.052\n",
      "1/1 [==============================] - 0s 20ms/step\n",
      ">8, 89/433, d=0.698, g=0.932\n",
      "1/1 [==============================] - 0s 20ms/step\n",
      ">8, 90/433, d=0.588, g=1.123\n",
      "1/1 [==============================] - 0s 19ms/step\n",
      ">8, 91/433, d=0.555, g=1.324\n",
      "1/1 [==============================] - 0s 20ms/step\n",
      ">8, 92/433, d=0.590, g=1.212\n",
      "1/1 [==============================] - 0s 23ms/step\n",
      ">8, 93/433, d=0.612, g=0.914\n",
      "1/1 [==============================] - 0s 21ms/step\n",
      ">8, 94/433, d=0.655, g=1.077\n",
      "1/1 [==============================] - 0s 19ms/step\n",
      ">8, 95/433, d=0.590, g=1.285\n",
      "1/1 [==============================] - 0s 18ms/step\n",
      ">8, 96/433, d=0.443, g=1.353\n",
      "1/1 [==============================] - 0s 19ms/step\n",
      ">8, 97/433, d=0.607, g=1.209\n",
      "1/1 [==============================] - 0s 20ms/step\n",
      ">8, 98/433, d=0.537, g=1.063\n",
      "1/1 [==============================] - 0s 20ms/step\n",
      ">8, 99/433, d=0.531, g=1.009\n",
      "1/1 [==============================] - 0s 19ms/step\n",
      ">8, 100/433, d=0.583, g=1.391\n",
      "1/1 [==============================] - 0s 22ms/step\n",
      ">8, 101/433, d=0.621, g=1.262\n",
      "1/1 [==============================] - 0s 24ms/step\n",
      ">8, 102/433, d=0.707, g=0.983\n",
      "1/1 [==============================] - 0s 27ms/step\n",
      ">8, 103/433, d=0.665, g=0.806\n",
      "1/1 [==============================] - 0s 19ms/step\n",
      ">8, 104/433, d=0.624, g=0.936\n",
      "1/1 [==============================] - 0s 19ms/step\n",
      ">8, 105/433, d=0.751, g=1.371\n",
      "1/1 [==============================] - 0s 23ms/step\n",
      ">8, 106/433, d=0.740, g=0.926\n",
      "1/1 [==============================] - 0s 19ms/step\n",
      ">8, 107/433, d=0.552, g=0.967\n",
      "1/1 [==============================] - 0s 22ms/step\n",
      ">8, 108/433, d=0.607, g=1.057\n",
      "1/1 [==============================] - 0s 20ms/step\n",
      ">8, 109/433, d=0.599, g=0.904\n",
      "1/1 [==============================] - 0s 19ms/step\n",
      ">8, 110/433, d=0.503, g=0.792\n",
      "1/1 [==============================] - 0s 20ms/step\n",
      ">8, 111/433, d=0.515, g=1.019\n",
      "1/1 [==============================] - 0s 20ms/step\n",
      ">8, 112/433, d=0.510, g=1.250\n",
      "1/1 [==============================] - 0s 21ms/step\n",
      ">8, 113/433, d=0.466, g=1.195\n",
      "1/1 [==============================] - 0s 21ms/step\n",
      ">8, 114/433, d=0.556, g=1.078\n",
      "1/1 [==============================] - 0s 32ms/step\n",
      ">8, 115/433, d=0.520, g=1.123\n",
      "1/1 [==============================] - 0s 41ms/step\n",
      ">8, 116/433, d=0.519, g=1.319\n",
      "1/1 [==============================] - 0s 40ms/step\n",
      ">8, 117/433, d=0.565, g=1.364\n",
      "1/1 [==============================] - 0s 53ms/step\n",
      ">8, 118/433, d=0.577, g=1.277\n",
      "1/1 [==============================] - 0s 46ms/step\n",
      ">8, 119/433, d=0.550, g=1.046\n",
      "1/1 [==============================] - 0s 31ms/step\n",
      ">8, 120/433, d=0.525, g=1.203\n",
      "1/1 [==============================] - 0s 26ms/step\n",
      ">8, 121/433, d=0.544, g=1.468\n",
      "1/1 [==============================] - 0s 32ms/step\n",
      ">8, 122/433, d=0.538, g=1.271\n",
      "1/1 [==============================] - 0s 27ms/step\n",
      ">8, 123/433, d=0.520, g=1.521\n",
      "1/1 [==============================] - 0s 25ms/step\n",
      ">8, 124/433, d=0.600, g=1.322\n",
      "1/1 [==============================] - 0s 19ms/step\n",
      ">8, 125/433, d=0.549, g=0.983\n",
      "1/1 [==============================] - 0s 39ms/step\n",
      ">8, 126/433, d=0.506, g=1.368\n",
      "1/1 [==============================] - 0s 23ms/step\n",
      ">8, 127/433, d=0.542, g=1.516\n",
      "1/1 [==============================] - 0s 43ms/step\n",
      ">8, 128/433, d=0.471, g=1.357\n",
      "1/1 [==============================] - 0s 21ms/step\n",
      ">8, 129/433, d=0.486, g=1.176\n",
      "1/1 [==============================] - 0s 19ms/step\n",
      ">8, 130/433, d=0.623, g=1.111\n",
      "1/1 [==============================] - 0s 22ms/step\n",
      ">8, 131/433, d=0.641, g=1.373\n",
      "1/1 [==============================] - 0s 21ms/step\n",
      ">8, 132/433, d=0.783, g=0.845\n",
      "1/1 [==============================] - 0s 26ms/step\n",
      ">8, 133/433, d=0.670, g=1.480\n",
      "1/1 [==============================] - 0s 19ms/step\n",
      ">8, 134/433, d=0.773, g=1.050\n",
      "1/1 [==============================] - 0s 19ms/step\n",
      ">8, 135/433, d=0.767, g=1.323\n",
      "1/1 [==============================] - 0s 27ms/step\n",
      ">8, 136/433, d=0.639, g=1.181\n",
      "1/1 [==============================] - 0s 28ms/step\n",
      ">8, 137/433, d=0.500, g=1.228\n",
      "1/1 [==============================] - 0s 19ms/step\n",
      ">8, 138/433, d=0.519, g=1.458\n",
      "1/1 [==============================] - 0s 24ms/step\n",
      ">8, 139/433, d=0.420, g=1.372\n",
      "1/1 [==============================] - 0s 21ms/step\n",
      ">8, 140/433, d=0.470, g=1.338\n",
      "1/1 [==============================] - 0s 20ms/step\n",
      ">8, 141/433, d=0.462, g=1.624\n",
      "1/1 [==============================] - 0s 21ms/step\n",
      ">8, 142/433, d=0.520, g=1.611\n",
      "1/1 [==============================] - 0s 20ms/step\n",
      ">8, 143/433, d=0.557, g=1.417\n",
      "1/1 [==============================] - 0s 19ms/step\n",
      ">8, 144/433, d=0.682, g=0.956\n",
      "1/1 [==============================] - 0s 18ms/step\n",
      ">8, 145/433, d=0.658, g=1.344\n",
      "1/1 [==============================] - 0s 22ms/step\n",
      ">8, 146/433, d=0.603, g=1.072\n",
      "1/1 [==============================] - 0s 20ms/step\n",
      ">8, 147/433, d=0.587, g=0.968\n",
      "1/1 [==============================] - 0s 18ms/step\n",
      ">8, 148/433, d=0.635, g=1.142\n",
      "1/1 [==============================] - 0s 19ms/step\n",
      ">8, 149/433, d=0.690, g=1.271\n",
      "1/1 [==============================] - 0s 19ms/step\n",
      ">8, 150/433, d=0.616, g=1.258\n",
      "1/1 [==============================] - 0s 20ms/step\n",
      ">8, 151/433, d=0.576, g=1.092\n",
      "1/1 [==============================] - 0s 27ms/step\n",
      ">8, 152/433, d=0.502, g=1.554\n",
      "1/1 [==============================] - 0s 20ms/step\n",
      ">8, 153/433, d=0.602, g=1.304\n",
      "1/1 [==============================] - 0s 20ms/step\n",
      ">8, 154/433, d=0.495, g=1.161\n",
      "1/1 [==============================] - 0s 20ms/step\n",
      ">8, 155/433, d=0.596, g=1.302\n",
      "1/1 [==============================] - 0s 25ms/step\n",
      ">8, 156/433, d=0.645, g=1.218\n",
      "1/1 [==============================] - 0s 21ms/step\n",
      ">8, 157/433, d=0.546, g=1.163\n",
      "1/1 [==============================] - 0s 20ms/step\n",
      ">8, 158/433, d=0.515, g=1.128\n",
      "1/1 [==============================] - 0s 18ms/step\n",
      ">8, 159/433, d=0.518, g=1.246\n",
      "1/1 [==============================] - 0s 23ms/step\n",
      ">8, 160/433, d=0.481, g=1.158\n",
      "1/1 [==============================] - 0s 22ms/step\n",
      ">8, 161/433, d=0.386, g=1.270\n",
      "1/1 [==============================] - 0s 19ms/step\n",
      ">8, 162/433, d=0.517, g=1.080\n",
      "1/1 [==============================] - 0s 18ms/step\n",
      ">8, 163/433, d=0.482, g=1.086\n",
      "1/1 [==============================] - 0s 20ms/step\n",
      ">8, 164/433, d=0.662, g=1.203\n",
      "1/1 [==============================] - 0s 21ms/step\n",
      ">8, 165/433, d=0.561, g=1.036\n",
      "1/1 [==============================] - 0s 20ms/step\n",
      ">8, 166/433, d=0.650, g=0.859\n",
      "1/1 [==============================] - 0s 18ms/step\n",
      ">8, 167/433, d=0.555, g=1.128\n",
      "1/1 [==============================] - 0s 19ms/step\n",
      ">8, 168/433, d=0.497, g=1.003\n",
      "1/1 [==============================] - 0s 26ms/step\n",
      ">8, 169/433, d=0.540, g=1.002\n",
      "1/1 [==============================] - 0s 21ms/step\n",
      ">8, 170/433, d=0.540, g=1.245\n",
      "1/1 [==============================] - 0s 37ms/step\n",
      ">8, 171/433, d=0.581, g=1.261\n",
      "1/1 [==============================] - 0s 20ms/step\n",
      ">8, 172/433, d=0.621, g=0.964\n",
      "1/1 [==============================] - 0s 23ms/step\n",
      ">8, 173/433, d=0.564, g=1.284\n",
      "1/1 [==============================] - 0s 19ms/step\n",
      ">8, 174/433, d=0.722, g=1.242\n",
      "1/1 [==============================] - 0s 25ms/step\n",
      ">8, 175/433, d=0.619, g=1.205\n",
      "1/1 [==============================] - 0s 20ms/step\n",
      ">8, 176/433, d=0.554, g=1.028\n",
      "1/1 [==============================] - 0s 25ms/step\n",
      ">8, 177/433, d=0.540, g=1.138\n",
      "1/1 [==============================] - 0s 20ms/step\n",
      ">8, 178/433, d=0.561, g=0.947\n",
      "1/1 [==============================] - 0s 20ms/step\n",
      ">8, 179/433, d=0.553, g=1.172\n",
      "1/1 [==============================] - 0s 18ms/step\n",
      ">8, 180/433, d=0.594, g=1.163\n",
      "1/1 [==============================] - 0s 22ms/step\n",
      ">8, 181/433, d=0.528, g=1.048\n",
      "1/1 [==============================] - 0s 19ms/step\n",
      ">8, 182/433, d=0.520, g=0.913\n",
      "1/1 [==============================] - 0s 22ms/step\n",
      ">8, 183/433, d=0.502, g=1.103\n",
      "1/1 [==============================] - 0s 21ms/step\n",
      ">8, 184/433, d=0.449, g=1.289\n",
      "1/1 [==============================] - 0s 20ms/step\n",
      ">8, 185/433, d=0.447, g=1.356\n",
      "1/1 [==============================] - 0s 23ms/step\n",
      ">8, 186/433, d=0.529, g=1.128\n",
      "1/1 [==============================] - 0s 19ms/step\n",
      ">8, 187/433, d=0.594, g=1.238\n",
      "1/1 [==============================] - 0s 20ms/step\n",
      ">8, 188/433, d=0.635, g=2.012\n",
      "1/1 [==============================] - 0s 19ms/step\n",
      ">8, 189/433, d=0.705, g=1.047\n",
      "1/1 [==============================] - 0s 20ms/step\n",
      ">8, 190/433, d=0.565, g=0.788\n",
      "1/1 [==============================] - 0s 21ms/step\n",
      ">8, 191/433, d=0.600, g=1.051\n",
      "1/1 [==============================] - 0s 23ms/step\n",
      ">8, 192/433, d=0.525, g=1.206\n",
      "1/1 [==============================] - 0s 27ms/step\n",
      ">8, 193/433, d=0.488, g=1.084\n",
      "1/1 [==============================] - 0s 22ms/step\n",
      ">8, 194/433, d=0.540, g=0.933\n",
      "1/1 [==============================] - 0s 19ms/step\n",
      ">8, 195/433, d=0.599, g=1.475\n",
      "1/1 [==============================] - 0s 19ms/step\n",
      ">8, 196/433, d=0.513, g=1.122\n",
      "1/1 [==============================] - 0s 49ms/step\n",
      ">8, 197/433, d=0.550, g=0.815\n",
      "1/1 [==============================] - 0s 51ms/step\n",
      ">8, 198/433, d=0.549, g=1.160\n",
      "1/1 [==============================] - 0s 82ms/step\n",
      ">8, 199/433, d=0.483, g=1.379\n",
      "1/1 [==============================] - 0s 38ms/step\n",
      ">8, 200/433, d=0.509, g=1.301\n",
      "1/1 [==============================] - 0s 21ms/step\n",
      ">8, 201/433, d=0.557, g=1.488\n",
      "1/1 [==============================] - 0s 46ms/step\n",
      ">8, 202/433, d=0.490, g=1.357\n",
      "1/1 [==============================] - 0s 29ms/step\n",
      ">8, 203/433, d=0.435, g=1.184\n",
      "1/1 [==============================] - 0s 28ms/step\n",
      ">8, 204/433, d=0.524, g=0.953\n",
      "1/1 [==============================] - 0s 20ms/step\n",
      ">8, 205/433, d=0.539, g=1.969\n",
      "1/1 [==============================] - 0s 37ms/step\n",
      ">8, 206/433, d=0.597, g=1.260\n",
      "1/1 [==============================] - 0s 29ms/step\n",
      ">8, 207/433, d=0.525, g=0.776\n",
      "1/1 [==============================] - 0s 20ms/step\n",
      ">8, 208/433, d=0.490, g=1.050\n",
      "1/1 [==============================] - 0s 20ms/step\n",
      ">8, 209/433, d=0.450, g=1.095\n",
      "1/1 [==============================] - 0s 19ms/step\n",
      ">8, 210/433, d=0.575, g=1.241\n",
      "1/1 [==============================] - 0s 20ms/step\n",
      ">8, 211/433, d=0.560, g=1.104\n",
      "1/1 [==============================] - 0s 18ms/step\n",
      ">8, 212/433, d=0.683, g=1.651\n",
      "1/1 [==============================] - 0s 17ms/step\n",
      ">8, 213/433, d=0.603, g=1.297\n",
      "1/1 [==============================] - 0s 20ms/step\n",
      ">8, 214/433, d=0.599, g=0.724\n",
      "1/1 [==============================] - 0s 22ms/step\n",
      ">8, 215/433, d=0.652, g=0.672\n",
      "1/1 [==============================] - 0s 18ms/step\n",
      ">8, 216/433, d=0.644, g=0.836\n",
      "1/1 [==============================] - 0s 20ms/step\n",
      ">8, 217/433, d=0.671, g=0.975\n",
      "1/1 [==============================] - 0s 20ms/step\n",
      ">8, 218/433, d=0.688, g=0.968\n",
      "1/1 [==============================] - 0s 20ms/step\n",
      ">8, 219/433, d=0.796, g=1.022\n",
      "1/1 [==============================] - 0s 22ms/step\n",
      ">8, 220/433, d=0.740, g=1.149\n",
      "1/1 [==============================] - 0s 31ms/step\n",
      ">8, 221/433, d=0.586, g=1.237\n",
      "1/1 [==============================] - 0s 89ms/step\n",
      ">8, 222/433, d=0.440, g=1.293\n",
      "1/1 [==============================] - 0s 60ms/step\n",
      ">8, 223/433, d=0.436, g=1.633\n",
      "1/1 [==============================] - 0s 21ms/step\n",
      ">8, 224/433, d=0.559, g=2.028\n",
      "1/1 [==============================] - 0s 48ms/step\n",
      ">8, 225/433, d=0.813, g=1.840\n",
      "1/1 [==============================] - 0s 21ms/step\n",
      ">8, 226/433, d=1.041, g=1.433\n",
      "1/1 [==============================] - 0s 61ms/step\n",
      ">8, 227/433, d=0.925, g=0.906\n",
      "1/1 [==============================] - 0s 49ms/step\n",
      ">8, 228/433, d=0.763, g=0.737\n",
      "1/1 [==============================] - 0s 41ms/step\n",
      ">8, 229/433, d=0.649, g=0.698\n",
      "1/1 [==============================] - 0s 22ms/step\n",
      ">8, 230/433, d=0.625, g=0.775\n",
      "1/1 [==============================] - 0s 23ms/step\n",
      ">8, 231/433, d=0.573, g=0.943\n",
      "1/1 [==============================] - 0s 34ms/step\n",
      ">8, 232/433, d=0.556, g=1.084\n",
      "1/1 [==============================] - 0s 35ms/step\n",
      ">8, 233/433, d=0.489, g=1.132\n",
      "1/1 [==============================] - 0s 34ms/step\n",
      ">8, 234/433, d=0.483, g=1.301\n",
      "1/1 [==============================] - 0s 38ms/step\n",
      ">8, 235/433, d=0.535, g=1.369\n",
      "1/1 [==============================] - 0s 25ms/step\n",
      ">8, 236/433, d=0.407, g=1.422\n",
      "1/1 [==============================] - 0s 21ms/step\n",
      ">8, 237/433, d=0.496, g=1.397\n",
      "1/1 [==============================] - 0s 30ms/step\n",
      ">8, 238/433, d=0.656, g=2.112\n",
      "1/1 [==============================] - 0s 21ms/step\n",
      ">8, 239/433, d=0.607, g=1.565\n",
      "1/1 [==============================] - 0s 27ms/step\n",
      ">8, 240/433, d=0.644, g=0.865\n",
      "1/1 [==============================] - 0s 19ms/step\n",
      ">8, 241/433, d=0.651, g=0.753\n",
      "1/1 [==============================] - 0s 20ms/step\n",
      ">8, 242/433, d=0.661, g=0.801\n",
      "1/1 [==============================] - 0s 27ms/step\n",
      ">8, 243/433, d=0.701, g=0.707\n",
      "1/1 [==============================] - 0s 20ms/step\n",
      ">8, 244/433, d=0.721, g=0.871\n",
      "1/1 [==============================] - 0s 19ms/step\n",
      ">8, 245/433, d=0.619, g=0.991\n",
      "1/1 [==============================] - 0s 18ms/step\n",
      ">8, 246/433, d=0.544, g=1.082\n",
      "1/1 [==============================] - 0s 25ms/step\n",
      ">8, 247/433, d=0.539, g=1.012\n",
      "1/1 [==============================] - 0s 77ms/step\n",
      ">8, 248/433, d=0.497, g=1.117\n",
      "1/1 [==============================] - 0s 39ms/step\n",
      ">8, 249/433, d=0.650, g=1.671\n",
      "1/1 [==============================] - 0s 39ms/step\n",
      ">8, 250/433, d=0.530, g=1.500\n",
      "1/1 [==============================] - 0s 22ms/step\n",
      ">8, 251/433, d=0.689, g=1.056\n",
      "1/1 [==============================] - 0s 18ms/step\n",
      ">8, 252/433, d=0.561, g=1.001\n",
      "1/1 [==============================] - 0s 26ms/step\n",
      ">8, 253/433, d=0.547, g=0.932\n",
      "1/1 [==============================] - 0s 20ms/step\n",
      ">8, 254/433, d=0.604, g=0.851\n",
      "1/1 [==============================] - 0s 30ms/step\n",
      ">8, 255/433, d=0.667, g=0.948\n",
      "1/1 [==============================] - 0s 24ms/step\n",
      ">8, 256/433, d=0.662, g=1.046\n",
      "1/1 [==============================] - 0s 20ms/step\n",
      ">8, 257/433, d=0.632, g=1.042\n",
      "1/1 [==============================] - 0s 19ms/step\n",
      ">8, 258/433, d=0.633, g=1.014\n",
      "1/1 [==============================] - 0s 45ms/step\n",
      ">8, 259/433, d=0.658, g=0.911\n",
      "1/1 [==============================] - 0s 22ms/step\n",
      ">8, 260/433, d=0.597, g=0.985\n",
      "1/1 [==============================] - 0s 26ms/step\n",
      ">8, 261/433, d=0.676, g=0.999\n",
      "1/1 [==============================] - 0s 23ms/step\n",
      ">8, 262/433, d=0.599, g=0.928\n",
      "1/1 [==============================] - 0s 22ms/step\n",
      ">8, 263/433, d=0.588, g=0.917\n",
      "1/1 [==============================] - 0s 26ms/step\n",
      ">8, 264/433, d=0.531, g=0.941\n",
      "1/1 [==============================] - 0s 74ms/step\n",
      ">8, 265/433, d=0.506, g=1.009\n",
      "1/1 [==============================] - 0s 24ms/step\n",
      ">8, 266/433, d=0.505, g=1.033\n",
      "1/1 [==============================] - 0s 19ms/step\n",
      ">8, 267/433, d=0.537, g=1.049\n",
      "1/1 [==============================] - 0s 18ms/step\n",
      ">8, 268/433, d=0.534, g=1.037\n",
      "1/1 [==============================] - 0s 18ms/step\n",
      ">8, 269/433, d=0.851, g=1.544\n",
      "1/1 [==============================] - 0s 19ms/step\n",
      ">8, 270/433, d=0.688, g=1.364\n",
      "1/1 [==============================] - 0s 27ms/step\n",
      ">8, 271/433, d=0.633, g=0.842\n",
      "1/1 [==============================] - 0s 20ms/step\n",
      ">8, 272/433, d=0.695, g=0.734\n",
      "1/1 [==============================] - 0s 20ms/step\n",
      ">8, 273/433, d=0.630, g=0.744\n",
      "1/1 [==============================] - 0s 30ms/step\n",
      ">8, 274/433, d=0.608, g=0.840\n",
      "1/1 [==============================] - 0s 30ms/step\n",
      ">8, 275/433, d=0.548, g=0.838\n",
      "1/1 [==============================] - 0s 17ms/step\n",
      ">8, 276/433, d=0.581, g=0.937\n",
      "1/1 [==============================] - 0s 19ms/step\n",
      ">8, 277/433, d=0.547, g=0.937\n",
      "1/1 [==============================] - 0s 34ms/step\n",
      ">8, 278/433, d=0.601, g=0.936\n",
      "1/1 [==============================] - 0s 36ms/step\n",
      ">8, 279/433, d=0.497, g=0.862\n",
      "1/1 [==============================] - 0s 48ms/step\n",
      ">8, 280/433, d=0.530, g=0.941\n",
      "1/1 [==============================] - 0s 18ms/step\n",
      ">8, 281/433, d=0.589, g=0.998\n",
      "1/1 [==============================] - 0s 54ms/step\n",
      ">8, 282/433, d=0.659, g=0.984\n",
      "1/1 [==============================] - 0s 24ms/step\n",
      ">8, 283/433, d=0.623, g=0.978\n",
      "1/1 [==============================] - 0s 21ms/step\n",
      ">8, 284/433, d=0.576, g=1.050\n",
      "1/1 [==============================] - 0s 27ms/step\n",
      ">8, 285/433, d=0.579, g=1.081\n",
      "1/1 [==============================] - 0s 38ms/step\n",
      ">8, 286/433, d=0.574, g=1.086\n",
      "1/1 [==============================] - 0s 35ms/step\n",
      ">8, 287/433, d=0.599, g=0.953\n",
      "1/1 [==============================] - 0s 44ms/step\n",
      ">8, 288/433, d=0.564, g=0.939\n",
      "1/1 [==============================] - 0s 22ms/step\n",
      ">8, 289/433, d=0.587, g=1.050\n",
      "1/1 [==============================] - 0s 22ms/step\n",
      ">8, 290/433, d=0.552, g=1.276\n",
      "1/1 [==============================] - 0s 30ms/step\n",
      ">8, 291/433, d=0.574, g=1.074\n",
      "1/1 [==============================] - 0s 19ms/step\n",
      ">8, 292/433, d=0.571, g=0.952\n",
      "1/1 [==============================] - 0s 20ms/step\n",
      ">8, 293/433, d=0.620, g=0.887\n",
      "1/1 [==============================] - 0s 23ms/step\n",
      ">8, 294/433, d=0.598, g=0.914\n",
      "1/1 [==============================] - 0s 31ms/step\n",
      ">8, 295/433, d=0.528, g=0.879\n",
      "1/1 [==============================] - 0s 29ms/step\n",
      ">8, 296/433, d=0.554, g=1.093\n",
      "1/1 [==============================] - 0s 31ms/step\n",
      ">8, 297/433, d=0.613, g=1.089\n",
      "1/1 [==============================] - 0s 75ms/step\n",
      ">8, 298/433, d=0.603, g=0.995\n",
      "1/1 [==============================] - 0s 54ms/step\n",
      ">8, 299/433, d=0.471, g=0.887\n",
      "1/1 [==============================] - 0s 34ms/step\n",
      ">8, 300/433, d=0.581, g=1.223\n",
      "1/1 [==============================] - 0s 47ms/step\n",
      ">8, 301/433, d=0.552, g=1.252\n",
      "1/1 [==============================] - 0s 57ms/step\n",
      ">8, 302/433, d=0.509, g=1.225\n",
      "1/1 [==============================] - 0s 28ms/step\n",
      ">8, 303/433, d=0.525, g=1.663\n",
      "1/1 [==============================] - 0s 23ms/step\n",
      ">8, 304/433, d=0.432, g=1.547\n",
      "1/1 [==============================] - 0s 25ms/step\n",
      ">8, 305/433, d=0.566, g=1.199\n",
      "1/1 [==============================] - 0s 23ms/step\n",
      ">8, 306/433, d=0.495, g=1.516\n",
      "1/1 [==============================] - 0s 27ms/step\n",
      ">8, 307/433, d=0.752, g=1.249\n",
      "1/1 [==============================] - 0s 30ms/step\n",
      ">8, 308/433, d=0.612, g=0.861\n",
      "1/1 [==============================] - 0s 32ms/step\n",
      ">8, 309/433, d=0.679, g=0.804\n",
      "1/1 [==============================] - 0s 25ms/step\n",
      ">8, 310/433, d=0.613, g=1.007\n",
      "1/1 [==============================] - 0s 21ms/step\n",
      ">8, 311/433, d=0.576, g=1.217\n",
      "1/1 [==============================] - 0s 19ms/step\n",
      ">8, 312/433, d=0.523, g=1.229\n",
      "1/1 [==============================] - 0s 32ms/step\n",
      ">8, 313/433, d=0.488, g=1.077\n",
      "1/1 [==============================] - 0s 23ms/step\n",
      ">8, 314/433, d=0.505, g=0.969\n",
      "1/1 [==============================] - 0s 26ms/step\n",
      ">8, 315/433, d=0.620, g=1.011\n",
      "1/1 [==============================] - 0s 25ms/step\n",
      ">8, 316/433, d=0.506, g=1.092\n",
      "1/1 [==============================] - 0s 22ms/step\n",
      ">8, 317/433, d=0.588, g=1.124\n",
      "1/1 [==============================] - 0s 44ms/step\n",
      ">8, 318/433, d=0.510, g=1.037\n",
      "1/1 [==============================] - 0s 52ms/step\n",
      ">8, 319/433, d=0.489, g=1.361\n",
      "1/1 [==============================] - 0s 46ms/step\n",
      ">8, 320/433, d=0.506, g=1.337\n",
      "1/1 [==============================] - 0s 59ms/step\n",
      ">8, 321/433, d=0.625, g=1.202\n",
      "1/1 [==============================] - 0s 23ms/step\n",
      ">8, 322/433, d=0.514, g=0.987\n",
      "1/1 [==============================] - 0s 20ms/step\n",
      ">8, 323/433, d=0.541, g=1.343\n",
      "1/1 [==============================] - 0s 27ms/step\n",
      ">8, 324/433, d=0.514, g=1.279\n",
      "1/1 [==============================] - 0s 20ms/step\n",
      ">8, 325/433, d=0.506, g=1.073\n",
      "1/1 [==============================] - 0s 36ms/step\n",
      ">8, 326/433, d=0.471, g=1.307\n",
      "1/1 [==============================] - 0s 19ms/step\n",
      ">8, 327/433, d=0.556, g=0.991\n",
      "1/1 [==============================] - 0s 28ms/step\n",
      ">8, 328/433, d=0.500, g=1.194\n",
      "1/1 [==============================] - 0s 19ms/step\n",
      ">8, 329/433, d=0.559, g=1.420\n",
      "1/1 [==============================] - 0s 24ms/step\n",
      ">8, 330/433, d=0.509, g=1.285\n",
      "1/1 [==============================] - 0s 43ms/step\n",
      ">8, 331/433, d=0.666, g=0.860\n",
      "1/1 [==============================] - 0s 27ms/step\n",
      ">8, 332/433, d=0.670, g=1.120\n",
      "1/1 [==============================] - 0s 21ms/step\n",
      ">8, 333/433, d=0.598, g=1.204\n",
      "1/1 [==============================] - 0s 35ms/step\n",
      ">8, 334/433, d=0.728, g=1.053\n",
      "1/1 [==============================] - 0s 24ms/step\n",
      ">8, 335/433, d=0.674, g=0.929\n",
      "1/1 [==============================] - 0s 32ms/step\n",
      ">8, 336/433, d=0.589, g=0.883\n",
      "1/1 [==============================] - 0s 25ms/step\n",
      ">8, 337/433, d=0.608, g=1.012\n",
      "1/1 [==============================] - 0s 20ms/step\n",
      ">8, 338/433, d=0.603, g=1.089\n",
      "1/1 [==============================] - 0s 29ms/step\n",
      ">8, 339/433, d=0.556, g=1.283\n",
      "1/1 [==============================] - 0s 20ms/step\n",
      ">8, 340/433, d=0.508, g=1.262\n",
      "1/1 [==============================] - 0s 25ms/step\n",
      ">8, 341/433, d=0.438, g=1.331\n",
      "1/1 [==============================] - 0s 20ms/step\n",
      ">8, 342/433, d=0.369, g=1.666\n",
      "1/1 [==============================] - 0s 23ms/step\n",
      ">8, 343/433, d=0.442, g=1.563\n",
      "1/1 [==============================] - 0s 19ms/step\n",
      ">8, 344/433, d=0.401, g=1.769\n",
      "1/1 [==============================] - 0s 23ms/step\n",
      ">8, 345/433, d=0.370, g=1.960\n",
      "1/1 [==============================] - 0s 30ms/step\n",
      ">8, 346/433, d=0.505, g=1.888\n",
      "1/1 [==============================] - 0s 34ms/step\n",
      ">8, 347/433, d=0.601, g=1.518\n",
      "1/1 [==============================] - 0s 22ms/step\n",
      ">8, 348/433, d=0.764, g=1.550\n",
      "1/1 [==============================] - 0s 22ms/step\n",
      ">8, 349/433, d=0.672, g=1.115\n",
      "1/1 [==============================] - 0s 21ms/step\n",
      ">8, 350/433, d=0.681, g=1.010\n",
      "1/1 [==============================] - 0s 25ms/step\n",
      ">8, 351/433, d=0.647, g=0.919\n",
      "1/1 [==============================] - 0s 25ms/step\n",
      ">8, 352/433, d=0.656, g=1.206\n",
      "1/1 [==============================] - 0s 25ms/step\n",
      ">8, 353/433, d=0.721, g=1.087\n",
      "1/1 [==============================] - 0s 31ms/step\n",
      ">8, 354/433, d=0.637, g=0.922\n",
      "1/1 [==============================] - 0s 22ms/step\n",
      ">8, 355/433, d=0.620, g=0.958\n",
      "1/1 [==============================] - 0s 18ms/step\n",
      ">8, 356/433, d=0.584, g=1.036\n",
      "1/1 [==============================] - 0s 22ms/step\n",
      ">8, 357/433, d=0.568, g=0.954\n",
      "1/1 [==============================] - 0s 20ms/step\n",
      ">8, 358/433, d=0.533, g=1.041\n",
      "1/1 [==============================] - 0s 36ms/step\n",
      ">8, 359/433, d=0.494, g=1.145\n",
      "1/1 [==============================] - 0s 25ms/step\n",
      ">8, 360/433, d=0.540, g=1.307\n",
      "1/1 [==============================] - 0s 27ms/step\n",
      ">8, 361/433, d=0.469, g=1.179\n",
      "1/1 [==============================] - 0s 19ms/step\n",
      ">8, 362/433, d=0.513, g=1.274\n",
      "1/1 [==============================] - 0s 20ms/step\n",
      ">8, 363/433, d=0.443, g=1.343\n",
      "1/1 [==============================] - 0s 18ms/step\n",
      ">8, 364/433, d=0.484, g=1.032\n",
      "1/1 [==============================] - 0s 23ms/step\n",
      ">8, 365/433, d=0.455, g=1.304\n",
      "1/1 [==============================] - 0s 17ms/step\n",
      ">8, 366/433, d=0.418, g=1.469\n",
      "1/1 [==============================] - 0s 21ms/step\n",
      ">8, 367/433, d=0.366, g=1.681\n",
      "1/1 [==============================] - 0s 19ms/step\n",
      ">8, 368/433, d=0.402, g=1.305\n",
      "1/1 [==============================] - 0s 38ms/step\n",
      ">8, 369/433, d=0.520, g=2.258\n",
      "1/1 [==============================] - 0s 21ms/step\n",
      ">8, 370/433, d=0.449, g=2.172\n",
      "1/1 [==============================] - 0s 46ms/step\n",
      ">8, 371/433, d=0.642, g=0.861\n",
      "1/1 [==============================] - 0s 19ms/step\n",
      ">8, 372/433, d=0.595, g=2.203\n",
      "1/1 [==============================] - 0s 21ms/step\n",
      ">8, 373/433, d=0.514, g=1.865\n",
      "1/1 [==============================] - 0s 22ms/step\n",
      ">8, 374/433, d=0.497, g=0.980\n",
      "1/1 [==============================] - 0s 24ms/step\n",
      ">8, 375/433, d=0.611, g=1.032\n",
      "1/1 [==============================] - 0s 17ms/step\n",
      ">8, 376/433, d=0.691, g=1.539\n",
      "1/1 [==============================] - 0s 23ms/step\n",
      ">8, 377/433, d=0.717, g=1.155\n",
      "1/1 [==============================] - 0s 21ms/step\n",
      ">8, 378/433, d=0.709, g=0.762\n",
      "1/1 [==============================] - 0s 20ms/step\n",
      ">8, 379/433, d=0.630, g=0.701\n",
      "1/1 [==============================] - 0s 27ms/step\n",
      ">8, 380/433, d=0.561, g=0.820\n",
      "1/1 [==============================] - 0s 21ms/step\n",
      ">8, 381/433, d=0.568, g=0.977\n",
      "1/1 [==============================] - 0s 35ms/step\n",
      ">8, 382/433, d=0.523, g=0.959\n",
      "1/1 [==============================] - 0s 21ms/step\n",
      ">8, 383/433, d=0.636, g=1.000\n",
      "1/1 [==============================] - 0s 26ms/step\n",
      ">8, 384/433, d=0.479, g=0.956\n",
      "1/1 [==============================] - 0s 50ms/step\n",
      ">8, 385/433, d=0.531, g=1.138\n",
      "1/1 [==============================] - 0s 57ms/step\n",
      ">8, 386/433, d=0.520, g=1.277\n",
      "1/1 [==============================] - 0s 20ms/step\n",
      ">8, 387/433, d=0.506, g=1.231\n",
      "1/1 [==============================] - 0s 18ms/step\n",
      ">8, 388/433, d=0.572, g=1.072\n",
      "1/1 [==============================] - 0s 18ms/step\n",
      ">8, 389/433, d=0.606, g=1.119\n",
      "1/1 [==============================] - 0s 25ms/step\n",
      ">8, 390/433, d=0.571, g=0.986\n",
      "1/1 [==============================] - 0s 18ms/step\n",
      ">8, 391/433, d=0.561, g=1.076\n",
      "1/1 [==============================] - 0s 18ms/step\n",
      ">8, 392/433, d=0.487, g=1.023\n",
      "1/1 [==============================] - 0s 22ms/step\n",
      ">8, 393/433, d=0.468, g=1.238\n",
      "1/1 [==============================] - 0s 20ms/step\n",
      ">8, 394/433, d=0.486, g=1.436\n",
      "1/1 [==============================] - 0s 18ms/step\n",
      ">8, 395/433, d=0.412, g=1.307\n",
      "1/1 [==============================] - 0s 22ms/step\n",
      ">8, 396/433, d=0.479, g=1.174\n",
      "1/1 [==============================] - 0s 22ms/step\n",
      ">8, 397/433, d=0.466, g=2.178\n",
      "1/1 [==============================] - 0s 25ms/step\n",
      ">8, 398/433, d=0.387, g=2.023\n",
      "1/1 [==============================] - 0s 23ms/step\n",
      ">8, 399/433, d=0.415, g=1.647\n",
      "1/1 [==============================] - 0s 20ms/step\n",
      ">8, 400/433, d=0.549, g=1.896\n",
      "1/1 [==============================] - 0s 21ms/step\n",
      ">8, 401/433, d=0.592, g=1.566\n",
      "1/1 [==============================] - 0s 25ms/step\n",
      ">8, 402/433, d=0.776, g=1.068\n",
      "1/1 [==============================] - 0s 19ms/step\n",
      ">8, 403/433, d=0.646, g=1.067\n",
      "1/1 [==============================] - 0s 22ms/step\n",
      ">8, 404/433, d=0.644, g=1.106\n",
      "1/1 [==============================] - 0s 20ms/step\n",
      ">8, 405/433, d=0.657, g=1.165\n",
      "1/1 [==============================] - 0s 21ms/step\n",
      ">8, 406/433, d=0.679, g=0.970\n",
      "1/1 [==============================] - 0s 39ms/step\n",
      ">8, 407/433, d=0.647, g=1.015\n",
      "1/1 [==============================] - 0s 28ms/step\n",
      ">8, 408/433, d=0.578, g=1.178\n",
      "1/1 [==============================] - 0s 20ms/step\n",
      ">8, 409/433, d=0.458, g=1.421\n",
      "1/1 [==============================] - 0s 21ms/step\n",
      ">8, 410/433, d=0.703, g=1.582\n",
      "1/1 [==============================] - 0s 20ms/step\n",
      ">8, 411/433, d=0.682, g=1.682\n",
      "1/1 [==============================] - 0s 22ms/step\n",
      ">8, 412/433, d=0.648, g=1.665\n",
      "1/1 [==============================] - 0s 23ms/step\n",
      ">8, 413/433, d=0.556, g=1.279\n",
      "1/1 [==============================] - 0s 22ms/step\n",
      ">8, 414/433, d=0.534, g=1.330\n",
      "1/1 [==============================] - 0s 43ms/step\n",
      ">8, 415/433, d=0.401, g=1.430\n",
      "1/1 [==============================] - 0s 23ms/step\n",
      ">8, 416/433, d=0.434, g=1.879\n",
      "1/1 [==============================] - 0s 25ms/step\n",
      ">8, 417/433, d=0.488, g=1.516\n",
      "1/1 [==============================] - 0s 23ms/step\n",
      ">8, 418/433, d=0.639, g=0.801\n",
      "1/1 [==============================] - 0s 31ms/step\n",
      ">8, 419/433, d=0.672, g=1.349\n",
      "1/1 [==============================] - 0s 43ms/step\n",
      ">8, 420/433, d=0.702, g=1.240\n",
      "1/1 [==============================] - 0s 47ms/step\n",
      ">8, 421/433, d=0.706, g=0.953\n",
      "1/1 [==============================] - 0s 42ms/step\n",
      ">8, 422/433, d=0.616, g=0.857\n",
      "1/1 [==============================] - 0s 28ms/step\n",
      ">8, 423/433, d=0.596, g=0.809\n",
      "1/1 [==============================] - 0s 29ms/step\n",
      ">8, 424/433, d=0.542, g=0.880\n",
      "1/1 [==============================] - 0s 42ms/step\n",
      ">8, 425/433, d=0.625, g=1.057\n",
      "1/1 [==============================] - 0s 63ms/step\n",
      ">8, 426/433, d=0.571, g=1.000\n",
      "1/1 [==============================] - 0s 55ms/step\n",
      ">8, 427/433, d=0.695, g=0.773\n",
      "1/1 [==============================] - 0s 40ms/step\n",
      ">8, 428/433, d=0.617, g=0.846\n",
      "1/1 [==============================] - 0s 82ms/step\n",
      ">8, 429/433, d=0.602, g=1.085\n",
      "1/1 [==============================] - 0s 50ms/step\n",
      ">8, 430/433, d=0.627, g=1.142\n",
      "1/1 [==============================] - 0s 33ms/step\n",
      ">8, 431/433, d=0.598, g=1.173\n",
      "1/1 [==============================] - 0s 22ms/step\n",
      ">8, 432/433, d=0.631, g=1.067\n",
      "1/1 [==============================] - 0s 33ms/step\n",
      ">8, 433/433, d=0.517, g=1.129\n",
      "1/1 [==============================] - 0s 23ms/step\n",
      ">9, 1/433, d=0.638, g=1.095\n",
      "1/1 [==============================] - 0s 23ms/step\n",
      ">9, 2/433, d=0.620, g=1.204\n",
      "1/1 [==============================] - 0s 20ms/step\n",
      ">9, 3/433, d=0.601, g=0.971\n",
      "1/1 [==============================] - 0s 21ms/step\n",
      ">9, 4/433, d=0.580, g=1.065\n",
      "1/1 [==============================] - 0s 19ms/step\n",
      ">9, 5/433, d=0.556, g=0.982\n",
      "1/1 [==============================] - 0s 38ms/step\n",
      ">9, 6/433, d=0.556, g=0.967\n",
      "1/1 [==============================] - 0s 33ms/step\n",
      ">9, 7/433, d=0.539, g=0.998\n",
      "1/1 [==============================] - 0s 29ms/step\n",
      ">9, 8/433, d=0.546, g=1.099\n",
      "1/1 [==============================] - 0s 26ms/step\n",
      ">9, 9/433, d=0.509, g=1.158\n",
      "1/1 [==============================] - 0s 48ms/step\n",
      ">9, 10/433, d=0.503, g=1.044\n",
      "1/1 [==============================] - 0s 29ms/step\n",
      ">9, 11/433, d=0.462, g=0.842\n",
      "1/1 [==============================] - 0s 104ms/step\n",
      ">9, 12/433, d=0.572, g=1.206\n",
      "1/1 [==============================] - 0s 47ms/step\n",
      ">9, 13/433, d=0.488, g=1.219\n",
      "1/1 [==============================] - 0s 51ms/step\n",
      ">9, 14/433, d=0.418, g=1.115\n",
      "1/1 [==============================] - 0s 35ms/step\n",
      ">9, 15/433, d=0.467, g=1.262\n",
      "1/1 [==============================] - 0s 20ms/step\n",
      ">9, 16/433, d=0.478, g=1.490\n",
      "1/1 [==============================] - 0s 21ms/step\n",
      ">9, 17/433, d=0.530, g=1.368\n",
      "1/1 [==============================] - 0s 36ms/step\n",
      ">9, 18/433, d=0.558, g=1.037\n",
      "1/1 [==============================] - 0s 20ms/step\n",
      ">9, 19/433, d=0.563, g=1.078\n",
      "1/1 [==============================] - 0s 23ms/step\n",
      ">9, 20/433, d=0.483, g=1.126\n",
      "1/1 [==============================] - 0s 21ms/step\n",
      ">9, 21/433, d=0.538, g=0.998\n",
      "1/1 [==============================] - 0s 24ms/step\n",
      ">9, 22/433, d=0.533, g=0.951\n",
      "1/1 [==============================] - 0s 27ms/step\n",
      ">9, 23/433, d=0.590, g=1.212\n",
      "1/1 [==============================] - 0s 31ms/step\n",
      ">9, 24/433, d=0.440, g=1.326\n",
      "1/1 [==============================] - 0s 58ms/step\n",
      ">9, 25/433, d=0.493, g=1.059\n",
      "1/1 [==============================] - 0s 23ms/step\n",
      ">9, 26/433, d=0.474, g=1.233\n",
      "1/1 [==============================] - 0s 29ms/step\n",
      ">9, 27/433, d=0.475, g=1.350\n",
      "1/1 [==============================] - 0s 23ms/step\n",
      ">9, 28/433, d=0.451, g=1.519\n",
      "1/1 [==============================] - 0s 20ms/step\n",
      ">9, 29/433, d=0.433, g=1.702\n",
      "1/1 [==============================] - 0s 24ms/step\n",
      ">9, 30/433, d=0.459, g=1.357\n",
      "1/1 [==============================] - 0s 34ms/step\n",
      ">9, 31/433, d=0.649, g=1.569\n",
      "1/1 [==============================] - 0s 28ms/step\n",
      ">9, 32/433, d=0.454, g=1.514\n",
      "1/1 [==============================] - 0s 33ms/step\n",
      ">9, 33/433, d=0.467, g=1.241\n",
      "1/1 [==============================] - 0s 39ms/step\n",
      ">9, 34/433, d=0.465, g=1.090\n",
      "1/1 [==============================] - 0s 21ms/step\n",
      ">9, 35/433, d=0.465, g=1.116\n",
      "1/1 [==============================] - 0s 24ms/step\n"
     ]
    }
   ],
   "source": [
    "# size of the latent space\n",
    "latent_dim = 100\n",
    "# train model\n",
    "train(generator, discriminator, gan_model, train_ds, latent_dim, n_epochs=51)\n"
   ]
  },
  {
   "attachments": {},
   "cell_type": "markdown",
   "metadata": {},
   "source": [
    "test"
   ]
  },
  {
   "cell_type": "code",
   "execution_count": 17,
   "metadata": {},
   "outputs": [
    {
     "name": "stdout",
     "output_type": "stream",
     "text": [
      "WARNING:tensorflow:No training configuration found in the save file, so the model was *not* compiled. Compile it manually.\n"
     ]
    }
   ],
   "source": [
    "model = tf.keras.models.load_model('generator_model.h5')"
   ]
  },
  {
   "cell_type": "code",
   "execution_count": 75,
   "metadata": {},
   "outputs": [
    {
     "name": "stdout",
     "output_type": "stream",
     "text": [
      "1/1 [==============================] - 0s 22ms/step\n",
      "1/1 [==============================] - 0s 27ms/step\n"
     ]
    },
    {
     "data": {
      "application/vnd.plotly.v1+json": {
       "config": {
        "plotlyServerURL": "https://plot.ly"
       },
       "data": [
        {
         "hovertemplate": "x: %{x}<br>y: %{y}<extra></extra>",
         "name": "0",
         "source": "data:image/png;base64,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",
         "type": "image",
         "xaxis": "x",
         "yaxis": "y"
        }
       ],
       "layout": {
        "annotations": [
         {
          "align": "left",
          "bgcolor": "#ff7f0e",
          "bordercolor": "#c7c7c7",
          "borderpad": 2,
          "borderwidth": 1,
          "font": {
           "color": "#ffffff",
           "family": "Courier New, monospace",
           "size": 12
          },
          "opacity": 0.8,
          "showarrow": false,
          "text": "real: 4%",
          "x": 1,
          "xref": "paper",
          "y": 1,
          "yref": "paper"
         }
        ],
        "height": 350,
        "images": [
         {
          "layer": "below",
          "sizex": 0.3,
          "sizey": 0.3,
          "source": "images/final/real/1.png",
          "x": 1,
          "xref": "paper",
          "y": 1.1,
          "yref": "paper"
         }
        ],
        "margin": {
         "l": 0,
         "t": 60
        },
        "shapes": [
         {
          "line": {
           "color": "black",
           "width": 2
          },
          "type": "rect",
          "x0": 0,
          "x1": 128,
          "xref": "x",
          "y0": 0,
          "y1": 128,
          "yref": "y"
         }
        ],
        "template": {
         "data": {
          "bar": [
           {
            "error_x": {
             "color": "#2a3f5f"
            },
            "error_y": {
             "color": "#2a3f5f"
            },
            "marker": {
             "line": {
              "color": "#E5ECF6",
              "width": 0.5
             },
             "pattern": {
              "fillmode": "overlay",
              "size": 10,
              "solidity": 0.2
             }
            },
            "type": "bar"
           }
          ],
          "barpolar": [
           {
            "marker": {
             "line": {
              "color": "#E5ECF6",
              "width": 0.5
             },
             "pattern": {
              "fillmode": "overlay",
              "size": 10,
              "solidity": 0.2
             }
            },
            "type": "barpolar"
           }
          ],
          "carpet": [
           {
            "aaxis": {
             "endlinecolor": "#2a3f5f",
             "gridcolor": "white",
             "linecolor": "white",
             "minorgridcolor": "white",
             "startlinecolor": "#2a3f5f"
            },
            "baxis": {
             "endlinecolor": "#2a3f5f",
             "gridcolor": "white",
             "linecolor": "white",
             "minorgridcolor": "white",
             "startlinecolor": "#2a3f5f"
            },
            "type": "carpet"
           }
          ],
          "choropleth": [
           {
            "colorbar": {
             "outlinewidth": 0,
             "ticks": ""
            },
            "type": "choropleth"
           }
          ],
          "contour": [
           {
            "colorbar": {
             "outlinewidth": 0,
             "ticks": ""
            },
            "colorscale": [
             [
              0,
              "#0d0887"
             ],
             [
              0.1111111111111111,
              "#46039f"
             ],
             [
              0.2222222222222222,
              "#7201a8"
             ],
             [
              0.3333333333333333,
              "#9c179e"
             ],
             [
              0.4444444444444444,
              "#bd3786"
             ],
             [
              0.5555555555555556,
              "#d8576b"
             ],
             [
              0.6666666666666666,
              "#ed7953"
             ],
             [
              0.7777777777777778,
              "#fb9f3a"
             ],
             [
              0.8888888888888888,
              "#fdca26"
             ],
             [
              1,
              "#f0f921"
             ]
            ],
            "type": "contour"
           }
          ],
          "contourcarpet": [
           {
            "colorbar": {
             "outlinewidth": 0,
             "ticks": ""
            },
            "type": "contourcarpet"
           }
          ],
          "heatmap": [
           {
            "colorbar": {
             "outlinewidth": 0,
             "ticks": ""
            },
            "colorscale": [
             [
              0,
              "#0d0887"
             ],
             [
              0.1111111111111111,
              "#46039f"
             ],
             [
              0.2222222222222222,
              "#7201a8"
             ],
             [
              0.3333333333333333,
              "#9c179e"
             ],
             [
              0.4444444444444444,
              "#bd3786"
             ],
             [
              0.5555555555555556,
              "#d8576b"
             ],
             [
              0.6666666666666666,
              "#ed7953"
             ],
             [
              0.7777777777777778,
              "#fb9f3a"
             ],
             [
              0.8888888888888888,
              "#fdca26"
             ],
             [
              1,
              "#f0f921"
             ]
            ],
            "type": "heatmap"
           }
          ],
          "heatmapgl": [
           {
            "colorbar": {
             "outlinewidth": 0,
             "ticks": ""
            },
            "colorscale": [
             [
              0,
              "#0d0887"
             ],
             [
              0.1111111111111111,
              "#46039f"
             ],
             [
              0.2222222222222222,
              "#7201a8"
             ],
             [
              0.3333333333333333,
              "#9c179e"
             ],
             [
              0.4444444444444444,
              "#bd3786"
             ],
             [
              0.5555555555555556,
              "#d8576b"
             ],
             [
              0.6666666666666666,
              "#ed7953"
             ],
             [
              0.7777777777777778,
              "#fb9f3a"
             ],
             [
              0.8888888888888888,
              "#fdca26"
             ],
             [
              1,
              "#f0f921"
             ]
            ],
            "type": "heatmapgl"
           }
          ],
          "histogram": [
           {
            "marker": {
             "pattern": {
              "fillmode": "overlay",
              "size": 10,
              "solidity": 0.2
             }
            },
            "type": "histogram"
           }
          ],
          "histogram2d": [
           {
            "colorbar": {
             "outlinewidth": 0,
             "ticks": ""
            },
            "colorscale": [
             [
              0,
              "#0d0887"
             ],
             [
              0.1111111111111111,
              "#46039f"
             ],
             [
              0.2222222222222222,
              "#7201a8"
             ],
             [
              0.3333333333333333,
              "#9c179e"
             ],
             [
              0.4444444444444444,
              "#bd3786"
             ],
             [
              0.5555555555555556,
              "#d8576b"
             ],
             [
              0.6666666666666666,
              "#ed7953"
             ],
             [
              0.7777777777777778,
              "#fb9f3a"
             ],
             [
              0.8888888888888888,
              "#fdca26"
             ],
             [
              1,
              "#f0f921"
             ]
            ],
            "type": "histogram2d"
           }
          ],
          "histogram2dcontour": [
           {
            "colorbar": {
             "outlinewidth": 0,
             "ticks": ""
            },
            "colorscale": [
             [
              0,
              "#0d0887"
             ],
             [
              0.1111111111111111,
              "#46039f"
             ],
             [
              0.2222222222222222,
              "#7201a8"
             ],
             [
              0.3333333333333333,
              "#9c179e"
             ],
             [
              0.4444444444444444,
              "#bd3786"
             ],
             [
              0.5555555555555556,
              "#d8576b"
             ],
             [
              0.6666666666666666,
              "#ed7953"
             ],
             [
              0.7777777777777778,
              "#fb9f3a"
             ],
             [
              0.8888888888888888,
              "#fdca26"
             ],
             [
              1,
              "#f0f921"
             ]
            ],
            "type": "histogram2dcontour"
           }
          ],
          "mesh3d": [
           {
            "colorbar": {
             "outlinewidth": 0,
             "ticks": ""
            },
            "type": "mesh3d"
           }
          ],
          "parcoords": [
           {
            "line": {
             "colorbar": {
              "outlinewidth": 0,
              "ticks": ""
             }
            },
            "type": "parcoords"
           }
          ],
          "pie": [
           {
            "automargin": true,
            "type": "pie"
           }
          ],
          "scatter": [
           {
            "fillpattern": {
             "fillmode": "overlay",
             "size": 10,
             "solidity": 0.2
            },
            "type": "scatter"
           }
          ],
          "scatter3d": [
           {
            "line": {
             "colorbar": {
              "outlinewidth": 0,
              "ticks": ""
             }
            },
            "marker": {
             "colorbar": {
              "outlinewidth": 0,
              "ticks": ""
             }
            },
            "type": "scatter3d"
           }
          ],
          "scattercarpet": [
           {
            "marker": {
             "colorbar": {
              "outlinewidth": 0,
              "ticks": ""
             }
            },
            "type": "scattercarpet"
           }
          ],
          "scattergeo": [
           {
            "marker": {
             "colorbar": {
              "outlinewidth": 0,
              "ticks": ""
             }
            },
            "type": "scattergeo"
           }
          ],
          "scattergl": [
           {
            "marker": {
             "colorbar": {
              "outlinewidth": 0,
              "ticks": ""
             }
            },
            "type": "scattergl"
           }
          ],
          "scattermapbox": [
           {
            "marker": {
             "colorbar": {
              "outlinewidth": 0,
              "ticks": ""
             }
            },
            "type": "scattermapbox"
           }
          ],
          "scatterpolar": [
           {
            "marker": {
             "colorbar": {
              "outlinewidth": 0,
              "ticks": ""
             }
            },
            "type": "scatterpolar"
           }
          ],
          "scatterpolargl": [
           {
            "marker": {
             "colorbar": {
              "outlinewidth": 0,
              "ticks": ""
             }
            },
            "type": "scatterpolargl"
           }
          ],
          "scatterternary": [
           {
            "marker": {
             "colorbar": {
              "outlinewidth": 0,
              "ticks": ""
             }
            },
            "type": "scatterternary"
           }
          ],
          "surface": [
           {
            "colorbar": {
             "outlinewidth": 0,
             "ticks": ""
            },
            "colorscale": [
             [
              0,
              "#0d0887"
             ],
             [
              0.1111111111111111,
              "#46039f"
             ],
             [
              0.2222222222222222,
              "#7201a8"
             ],
             [
              0.3333333333333333,
              "#9c179e"
             ],
             [
              0.4444444444444444,
              "#bd3786"
             ],
             [
              0.5555555555555556,
              "#d8576b"
             ],
             [
              0.6666666666666666,
              "#ed7953"
             ],
             [
              0.7777777777777778,
              "#fb9f3a"
             ],
             [
              0.8888888888888888,
              "#fdca26"
             ],
             [
              1,
              "#f0f921"
             ]
            ],
            "type": "surface"
           }
          ],
          "table": [
           {
            "cells": {
             "fill": {
              "color": "#EBF0F8"
             },
             "line": {
              "color": "white"
             }
            },
            "header": {
             "fill": {
              "color": "#C8D4E3"
             },
             "line": {
              "color": "white"
             }
            },
            "type": "table"
           }
          ]
         },
         "layout": {
          "annotationdefaults": {
           "arrowcolor": "#2a3f5f",
           "arrowhead": 0,
           "arrowwidth": 1
          },
          "autotypenumbers": "strict",
          "coloraxis": {
           "colorbar": {
            "outlinewidth": 0,
            "ticks": ""
           }
          },
          "colorscale": {
           "diverging": [
            [
             0,
             "#8e0152"
            ],
            [
             0.1,
             "#c51b7d"
            ],
            [
             0.2,
             "#de77ae"
            ],
            [
             0.3,
             "#f1b6da"
            ],
            [
             0.4,
             "#fde0ef"
            ],
            [
             0.5,
             "#f7f7f7"
            ],
            [
             0.6,
             "#e6f5d0"
            ],
            [
             0.7,
             "#b8e186"
            ],
            [
             0.8,
             "#7fbc41"
            ],
            [
             0.9,
             "#4d9221"
            ],
            [
             1,
             "#276419"
            ]
           ],
           "sequential": [
            [
             0,
             "#0d0887"
            ],
            [
             0.1111111111111111,
             "#46039f"
            ],
            [
             0.2222222222222222,
             "#7201a8"
            ],
            [
             0.3333333333333333,
             "#9c179e"
            ],
            [
             0.4444444444444444,
             "#bd3786"
            ],
            [
             0.5555555555555556,
             "#d8576b"
            ],
            [
             0.6666666666666666,
             "#ed7953"
            ],
            [
             0.7777777777777778,
             "#fb9f3a"
            ],
            [
             0.8888888888888888,
             "#fdca26"
            ],
            [
             1,
             "#f0f921"
            ]
           ],
           "sequentialminus": [
            [
             0,
             "#0d0887"
            ],
            [
             0.1111111111111111,
             "#46039f"
            ],
            [
             0.2222222222222222,
             "#7201a8"
            ],
            [
             0.3333333333333333,
             "#9c179e"
            ],
            [
             0.4444444444444444,
             "#bd3786"
            ],
            [
             0.5555555555555556,
             "#d8576b"
            ],
            [
             0.6666666666666666,
             "#ed7953"
            ],
            [
             0.7777777777777778,
             "#fb9f3a"
            ],
            [
             0.8888888888888888,
             "#fdca26"
            ],
            [
             1,
             "#f0f921"
            ]
           ]
          },
          "colorway": [
           "#636efa",
           "#EF553B",
           "#00cc96",
           "#ab63fa",
           "#FFA15A",
           "#19d3f3",
           "#FF6692",
           "#B6E880",
           "#FF97FF",
           "#FECB52"
          ],
          "font": {
           "color": "#2a3f5f"
          },
          "geo": {
           "bgcolor": "white",
           "lakecolor": "white",
           "landcolor": "#E5ECF6",
           "showlakes": true,
           "showland": true,
           "subunitcolor": "white"
          },
          "hoverlabel": {
           "align": "left"
          },
          "hovermode": "closest",
          "mapbox": {
           "style": "light"
          },
          "paper_bgcolor": "white",
          "plot_bgcolor": "#E5ECF6",
          "polar": {
           "angularaxis": {
            "gridcolor": "white",
            "linecolor": "white",
            "ticks": ""
           },
           "bgcolor": "#E5ECF6",
           "radialaxis": {
            "gridcolor": "white",
            "linecolor": "white",
            "ticks": ""
           }
          },
          "scene": {
           "xaxis": {
            "backgroundcolor": "#E5ECF6",
            "gridcolor": "white",
            "gridwidth": 2,
            "linecolor": "white",
            "showbackground": true,
            "ticks": "",
            "zerolinecolor": "white"
           },
           "yaxis": {
            "backgroundcolor": "#E5ECF6",
            "gridcolor": "white",
            "gridwidth": 2,
            "linecolor": "white",
            "showbackground": true,
            "ticks": "",
            "zerolinecolor": "white"
           },
           "zaxis": {
            "backgroundcolor": "#E5ECF6",
            "gridcolor": "white",
            "gridwidth": 2,
            "linecolor": "white",
            "showbackground": true,
            "ticks": "",
            "zerolinecolor": "white"
           }
          },
          "shapedefaults": {
           "line": {
            "color": "#2a3f5f"
           }
          },
          "ternary": {
           "aaxis": {
            "gridcolor": "white",
            "linecolor": "white",
            "ticks": ""
           },
           "baxis": {
            "gridcolor": "white",
            "linecolor": "white",
            "ticks": ""
           },
           "bgcolor": "#E5ECF6",
           "caxis": {
            "gridcolor": "white",
            "linecolor": "white",
            "ticks": ""
           }
          },
          "title": {
           "x": 0.05
          },
          "xaxis": {
           "automargin": true,
           "gridcolor": "white",
           "linecolor": "white",
           "ticks": "",
           "title": {
            "standoff": 15
           },
           "zerolinecolor": "white",
           "zerolinewidth": 2
          },
          "yaxis": {
           "automargin": true,
           "gridcolor": "white",
           "linecolor": "white",
           "ticks": "",
           "title": {
            "standoff": 15
           },
           "zerolinecolor": "white",
           "zerolinewidth": 2
          }
         }
        },
        "title": {
         "text": "Label: image générée"
        },
        "width": 500,
        "xaxis": {
         "anchor": "y",
         "domain": [
          0,
          1
         ],
         "showgrid": false,
         "showticklabels": false,
         "visible": false,
         "zeroline": false
        },
        "yaxis": {
         "anchor": "x",
         "domain": [
          0,
          1
         ],
         "showgrid": false,
         "showticklabels": false,
         "visible": false,
         "zeroline": false
        }
       }
      }
     },
     "metadata": {},
     "output_type": "display_data"
    }
   ],
   "source": [
    "X = model.predict(generate_latent_points(100, 1))\n",
    "plot_image(X[0], \"image générée\", {\"real\": float(discriminator.predict(X))})"
   ]
  }
 ],
 "metadata": {
  "kernelspec": {
   "display_name": "Python 3",
   "language": "python",
   "name": "python3"
  },
  "language_info": {
   "codemirror_mode": {
    "name": "ipython",
    "version": 3
   },
   "file_extension": ".py",
   "mimetype": "text/x-python",
   "name": "python",
   "nbconvert_exporter": "python",
   "pygments_lexer": "ipython3",
   "version": "3.10.6"
  },
  "orig_nbformat": 4
 },
 "nbformat": 4,
 "nbformat_minor": 2
}
