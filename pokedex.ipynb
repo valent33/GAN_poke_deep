{
 "cells": [
  {
   "cell_type": "code",
   "execution_count": 1,
   "metadata": {},
   "outputs": [],
   "source": [
    "import tensorflow as tf\n",
    "import plotly.express as px\n",
    "from tensorflow.keras.applications import EfficientNetB4\n",
    "from tensorflow.keras.applications.efficientnet import preprocess_input"
   ]
  },
  {
   "attachments": {},
   "cell_type": "markdown",
   "metadata": {},
   "source": [
    "## Loading"
   ]
  },
  {
   "cell_type": "code",
   "execution_count": 2,
   "metadata": {},
   "outputs": [],
   "source": [
    "directory = 'images/final/'\n",
    "width = 128\n",
    "height = 128\n",
    "channels = 4\n",
    "image_size = (width, height)\n",
    "input_shape = (width, height, channels)\n",
    "batch_size = 32"
   ]
  },
  {
   "cell_type": "code",
   "execution_count": 3,
   "metadata": {},
   "outputs": [
    {
     "name": "stdout",
     "output_type": "stream",
     "text": [
      "Found 13894 files belonging to 905 classes.\n",
      "Using 11116 files for training.\n",
      "Using 2778 files for validation.\n"
     ]
    }
   ],
   "source": [
    "train_ds, val_ds = tf.keras.preprocessing.image_dataset_from_directory(\n",
    "    directory,\n",
    "    batch_size=batch_size,\n",
    "    validation_split=0.2,\n",
    "    subset=\"both\",\n",
    "    labels=\"inferred\",\n",
    "    label_mode=\"categorical\",\n",
    "    image_size=image_size,\n",
    "    crop_to_aspect_ratio=True,\n",
    "    interpolation=\"bilinear\",\n",
    "    color_mode=\"rgba\",\n",
    "    shuffle=True,\n",
    "    seed=905,\n",
    ")\n",
    "\n",
    "class_names = train_ds.class_names"
   ]
  },
  {
   "cell_type": "code",
   "execution_count": 71,
   "metadata": {},
   "outputs": [],
   "source": [
    "def plot_image(image, label, labels={}):\n",
    "    fig = px.imshow(image, width=width, height=height)\n",
    "    fig.update_layout(\n",
    "        title=f\"Label: {label}\",\n",
    "        width=300,\n",
    "        height=300,\n",
    "    )\n",
    "    if labels:\n",
    "        # display all 5 elements of the dictionary with the key: value\n",
    "        i = 0\n",
    "        for key, value in labels.items():\n",
    "            fig.add_annotation(\n",
    "                x=1.3,\n",
    "                y=1-0.15*i,\n",
    "                xref=\"paper\",\n",
    "                yref=\"paper\",\n",
    "                text=f\"{key}: {value*100:.0f}%\",\n",
    "                showarrow=False,\n",
    "                font=dict(\n",
    "                    family=\"Courier New, monospace\",\n",
    "                    size=10,\n",
    "                    color=\"#ffffff\"\n",
    "                ),\n",
    "                align=\"left\",\n",
    "                bordercolor=\"#c7c7c7\",\n",
    "                borderwidth=1,\n",
    "                borderpad=2,\n",
    "                bgcolor=\"#ff7f0e\",\n",
    "                opacity=0.8,\n",
    "            )\n",
    "            i += 1\n",
    "\n",
    "    fig.show()"
   ]
  },
  {
   "cell_type": "code",
   "execution_count": 5,
   "metadata": {},
   "outputs": [],
   "source": [
    "def plot_n_images(ds, n):\n",
    "    for image, label in ds.take(1):\n",
    "        for i in range(n):\n",
    "            print(image[i][0][0])\n",
    "            print(image[i].shape)\n",
    "            plot_image(image[i], class_names[int(tf.argmax(tf.reshape(label[i], [-1, 1]), axis=0))])"
   ]
  },
  {
   "cell_type": "code",
   "execution_count": 6,
   "metadata": {},
   "outputs": [
    {
     "name": "stdout",
     "output_type": "stream",
     "text": [
      "tf.Tensor([0. 0. 0. 0.], shape=(4,), dtype=float32)\n",
      "(128, 128, 4)\n"
     ]
    },
    {
     "data": {
      "application/vnd.plotly.v1+json": {
       "config": {
        "plotlyServerURL": "https://plot.ly"
       },
       "data": [
        {
         "hovertemplate": "x: %{x}<br>y: %{y}<extra></extra>",
         "name": "0",
         "source": "data:image/png;base64,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",
         "type": "image",
         "xaxis": "x",
         "yaxis": "y"
        }
       ],
       "layout": {
        "height": 300,
        "margin": {
         "t": 60
        },
        "template": {
         "data": {
          "bar": [
           {
            "error_x": {
             "color": "#2a3f5f"
            },
            "error_y": {
             "color": "#2a3f5f"
            },
            "marker": {
             "line": {
              "color": "#E5ECF6",
              "width": 0.5
             },
             "pattern": {
              "fillmode": "overlay",
              "size": 10,
              "solidity": 0.2
             }
            },
            "type": "bar"
           }
          ],
          "barpolar": [
           {
            "marker": {
             "line": {
              "color": "#E5ECF6",
              "width": 0.5
             },
             "pattern": {
              "fillmode": "overlay",
              "size": 10,
              "solidity": 0.2
             }
            },
            "type": "barpolar"
           }
          ],
          "carpet": [
           {
            "aaxis": {
             "endlinecolor": "#2a3f5f",
             "gridcolor": "white",
             "linecolor": "white",
             "minorgridcolor": "white",
             "startlinecolor": "#2a3f5f"
            },
            "baxis": {
             "endlinecolor": "#2a3f5f",
             "gridcolor": "white",
             "linecolor": "white",
             "minorgridcolor": "white",
             "startlinecolor": "#2a3f5f"
            },
            "type": "carpet"
           }
          ],
          "choropleth": [
           {
            "colorbar": {
             "outlinewidth": 0,
             "ticks": ""
            },
            "type": "choropleth"
           }
          ],
          "contour": [
           {
            "colorbar": {
             "outlinewidth": 0,
             "ticks": ""
            },
            "colorscale": [
             [
              0,
              "#0d0887"
             ],
             [
              0.1111111111111111,
              "#46039f"
             ],
             [
              0.2222222222222222,
              "#7201a8"
             ],
             [
              0.3333333333333333,
              "#9c179e"
             ],
             [
              0.4444444444444444,
              "#bd3786"
             ],
             [
              0.5555555555555556,
              "#d8576b"
             ],
             [
              0.6666666666666666,
              "#ed7953"
             ],
             [
              0.7777777777777778,
              "#fb9f3a"
             ],
             [
              0.8888888888888888,
              "#fdca26"
             ],
             [
              1,
              "#f0f921"
             ]
            ],
            "type": "contour"
           }
          ],
          "contourcarpet": [
           {
            "colorbar": {
             "outlinewidth": 0,
             "ticks": ""
            },
            "type": "contourcarpet"
           }
          ],
          "heatmap": [
           {
            "colorbar": {
             "outlinewidth": 0,
             "ticks": ""
            },
            "colorscale": [
             [
              0,
              "#0d0887"
             ],
             [
              0.1111111111111111,
              "#46039f"
             ],
             [
              0.2222222222222222,
              "#7201a8"
             ],
             [
              0.3333333333333333,
              "#9c179e"
             ],
             [
              0.4444444444444444,
              "#bd3786"
             ],
             [
              0.5555555555555556,
              "#d8576b"
             ],
             [
              0.6666666666666666,
              "#ed7953"
             ],
             [
              0.7777777777777778,
              "#fb9f3a"
             ],
             [
              0.8888888888888888,
              "#fdca26"
             ],
             [
              1,
              "#f0f921"
             ]
            ],
            "type": "heatmap"
           }
          ],
          "heatmapgl": [
           {
            "colorbar": {
             "outlinewidth": 0,
             "ticks": ""
            },
            "colorscale": [
             [
              0,
              "#0d0887"
             ],
             [
              0.1111111111111111,
              "#46039f"
             ],
             [
              0.2222222222222222,
              "#7201a8"
             ],
             [
              0.3333333333333333,
              "#9c179e"
             ],
             [
              0.4444444444444444,
              "#bd3786"
             ],
             [
              0.5555555555555556,
              "#d8576b"
             ],
             [
              0.6666666666666666,
              "#ed7953"
             ],
             [
              0.7777777777777778,
              "#fb9f3a"
             ],
             [
              0.8888888888888888,
              "#fdca26"
             ],
             [
              1,
              "#f0f921"
             ]
            ],
            "type": "heatmapgl"
           }
          ],
          "histogram": [
           {
            "marker": {
             "pattern": {
              "fillmode": "overlay",
              "size": 10,
              "solidity": 0.2
             }
            },
            "type": "histogram"
           }
          ],
          "histogram2d": [
           {
            "colorbar": {
             "outlinewidth": 0,
             "ticks": ""
            },
            "colorscale": [
             [
              0,
              "#0d0887"
             ],
             [
              0.1111111111111111,
              "#46039f"
             ],
             [
              0.2222222222222222,
              "#7201a8"
             ],
             [
              0.3333333333333333,
              "#9c179e"
             ],
             [
              0.4444444444444444,
              "#bd3786"
             ],
             [
              0.5555555555555556,
              "#d8576b"
             ],
             [
              0.6666666666666666,
              "#ed7953"
             ],
             [
              0.7777777777777778,
              "#fb9f3a"
             ],
             [
              0.8888888888888888,
              "#fdca26"
             ],
             [
              1,
              "#f0f921"
             ]
            ],
            "type": "histogram2d"
           }
          ],
          "histogram2dcontour": [
           {
            "colorbar": {
             "outlinewidth": 0,
             "ticks": ""
            },
            "colorscale": [
             [
              0,
              "#0d0887"
             ],
             [
              0.1111111111111111,
              "#46039f"
             ],
             [
              0.2222222222222222,
              "#7201a8"
             ],
             [
              0.3333333333333333,
              "#9c179e"
             ],
             [
              0.4444444444444444,
              "#bd3786"
             ],
             [
              0.5555555555555556,
              "#d8576b"
             ],
             [
              0.6666666666666666,
              "#ed7953"
             ],
             [
              0.7777777777777778,
              "#fb9f3a"
             ],
             [
              0.8888888888888888,
              "#fdca26"
             ],
             [
              1,
              "#f0f921"
             ]
            ],
            "type": "histogram2dcontour"
           }
          ],
          "mesh3d": [
           {
            "colorbar": {
             "outlinewidth": 0,
             "ticks": ""
            },
            "type": "mesh3d"
           }
          ],
          "parcoords": [
           {
            "line": {
             "colorbar": {
              "outlinewidth": 0,
              "ticks": ""
             }
            },
            "type": "parcoords"
           }
          ],
          "pie": [
           {
            "automargin": true,
            "type": "pie"
           }
          ],
          "scatter": [
           {
            "fillpattern": {
             "fillmode": "overlay",
             "size": 10,
             "solidity": 0.2
            },
            "type": "scatter"
           }
          ],
          "scatter3d": [
           {
            "line": {
             "colorbar": {
              "outlinewidth": 0,
              "ticks": ""
             }
            },
            "marker": {
             "colorbar": {
              "outlinewidth": 0,
              "ticks": ""
             }
            },
            "type": "scatter3d"
           }
          ],
          "scattercarpet": [
           {
            "marker": {
             "colorbar": {
              "outlinewidth": 0,
              "ticks": ""
             }
            },
            "type": "scattercarpet"
           }
          ],
          "scattergeo": [
           {
            "marker": {
             "colorbar": {
              "outlinewidth": 0,
              "ticks": ""
             }
            },
            "type": "scattergeo"
           }
          ],
          "scattergl": [
           {
            "marker": {
             "colorbar": {
              "outlinewidth": 0,
              "ticks": ""
             }
            },
            "type": "scattergl"
           }
          ],
          "scattermapbox": [
           {
            "marker": {
             "colorbar": {
              "outlinewidth": 0,
              "ticks": ""
             }
            },
            "type": "scattermapbox"
           }
          ],
          "scatterpolar": [
           {
            "marker": {
             "colorbar": {
              "outlinewidth": 0,
              "ticks": ""
             }
            },
            "type": "scatterpolar"
           }
          ],
          "scatterpolargl": [
           {
            "marker": {
             "colorbar": {
              "outlinewidth": 0,
              "ticks": ""
             }
            },
            "type": "scatterpolargl"
           }
          ],
          "scatterternary": [
           {
            "marker": {
             "colorbar": {
              "outlinewidth": 0,
              "ticks": ""
             }
            },
            "type": "scatterternary"
           }
          ],
          "surface": [
           {
            "colorbar": {
             "outlinewidth": 0,
             "ticks": ""
            },
            "colorscale": [
             [
              0,
              "#0d0887"
             ],
             [
              0.1111111111111111,
              "#46039f"
             ],
             [
              0.2222222222222222,
              "#7201a8"
             ],
             [
              0.3333333333333333,
              "#9c179e"
             ],
             [
              0.4444444444444444,
              "#bd3786"
             ],
             [
              0.5555555555555556,
              "#d8576b"
             ],
             [
              0.6666666666666666,
              "#ed7953"
             ],
             [
              0.7777777777777778,
              "#fb9f3a"
             ],
             [
              0.8888888888888888,
              "#fdca26"
             ],
             [
              1,
              "#f0f921"
             ]
            ],
            "type": "surface"
           }
          ],
          "table": [
           {
            "cells": {
             "fill": {
              "color": "#EBF0F8"
             },
             "line": {
              "color": "white"
             }
            },
            "header": {
             "fill": {
              "color": "#C8D4E3"
             },
             "line": {
              "color": "white"
             }
            },
            "type": "table"
           }
          ]
         },
         "layout": {
          "annotationdefaults": {
           "arrowcolor": "#2a3f5f",
           "arrowhead": 0,
           "arrowwidth": 1
          },
          "autotypenumbers": "strict",
          "coloraxis": {
           "colorbar": {
            "outlinewidth": 0,
            "ticks": ""
           }
          },
          "colorscale": {
           "diverging": [
            [
             0,
             "#8e0152"
            ],
            [
             0.1,
             "#c51b7d"
            ],
            [
             0.2,
             "#de77ae"
            ],
            [
             0.3,
             "#f1b6da"
            ],
            [
             0.4,
             "#fde0ef"
            ],
            [
             0.5,
             "#f7f7f7"
            ],
            [
             0.6,
             "#e6f5d0"
            ],
            [
             0.7,
             "#b8e186"
            ],
            [
             0.8,
             "#7fbc41"
            ],
            [
             0.9,
             "#4d9221"
            ],
            [
             1,
             "#276419"
            ]
           ],
           "sequential": [
            [
             0,
             "#0d0887"
            ],
            [
             0.1111111111111111,
             "#46039f"
            ],
            [
             0.2222222222222222,
             "#7201a8"
            ],
            [
             0.3333333333333333,
             "#9c179e"
            ],
            [
             0.4444444444444444,
             "#bd3786"
            ],
            [
             0.5555555555555556,
             "#d8576b"
            ],
            [
             0.6666666666666666,
             "#ed7953"
            ],
            [
             0.7777777777777778,
             "#fb9f3a"
            ],
            [
             0.8888888888888888,
             "#fdca26"
            ],
            [
             1,
             "#f0f921"
            ]
           ],
           "sequentialminus": [
            [
             0,
             "#0d0887"
            ],
            [
             0.1111111111111111,
             "#46039f"
            ],
            [
             0.2222222222222222,
             "#7201a8"
            ],
            [
             0.3333333333333333,
             "#9c179e"
            ],
            [
             0.4444444444444444,
             "#bd3786"
            ],
            [
             0.5555555555555556,
             "#d8576b"
            ],
            [
             0.6666666666666666,
             "#ed7953"
            ],
            [
             0.7777777777777778,
             "#fb9f3a"
            ],
            [
             0.8888888888888888,
             "#fdca26"
            ],
            [
             1,
             "#f0f921"
            ]
           ]
          },
          "colorway": [
           "#636efa",
           "#EF553B",
           "#00cc96",
           "#ab63fa",
           "#FFA15A",
           "#19d3f3",
           "#FF6692",
           "#B6E880",
           "#FF97FF",
           "#FECB52"
          ],
          "font": {
           "color": "#2a3f5f"
          },
          "geo": {
           "bgcolor": "white",
           "lakecolor": "white",
           "landcolor": "#E5ECF6",
           "showlakes": true,
           "showland": true,
           "subunitcolor": "white"
          },
          "hoverlabel": {
           "align": "left"
          },
          "hovermode": "closest",
          "mapbox": {
           "style": "light"
          },
          "paper_bgcolor": "white",
          "plot_bgcolor": "#E5ECF6",
          "polar": {
           "angularaxis": {
            "gridcolor": "white",
            "linecolor": "white",
            "ticks": ""
           },
           "bgcolor": "#E5ECF6",
           "radialaxis": {
            "gridcolor": "white",
            "linecolor": "white",
            "ticks": ""
           }
          },
          "scene": {
           "xaxis": {
            "backgroundcolor": "#E5ECF6",
            "gridcolor": "white",
            "gridwidth": 2,
            "linecolor": "white",
            "showbackground": true,
            "ticks": "",
            "zerolinecolor": "white"
           },
           "yaxis": {
            "backgroundcolor": "#E5ECF6",
            "gridcolor": "white",
            "gridwidth": 2,
            "linecolor": "white",
            "showbackground": true,
            "ticks": "",
            "zerolinecolor": "white"
           },
           "zaxis": {
            "backgroundcolor": "#E5ECF6",
            "gridcolor": "white",
            "gridwidth": 2,
            "linecolor": "white",
            "showbackground": true,
            "ticks": "",
            "zerolinecolor": "white"
           }
          },
          "shapedefaults": {
           "line": {
            "color": "#2a3f5f"
           }
          },
          "ternary": {
           "aaxis": {
            "gridcolor": "white",
            "linecolor": "white",
            "ticks": ""
           },
           "baxis": {
            "gridcolor": "white",
            "linecolor": "white",
            "ticks": ""
           },
           "bgcolor": "#E5ECF6",
           "caxis": {
            "gridcolor": "white",
            "linecolor": "white",
            "ticks": ""
           }
          },
          "title": {
           "x": 0.05
          },
          "xaxis": {
           "automargin": true,
           "gridcolor": "white",
           "linecolor": "white",
           "ticks": "",
           "title": {
            "standoff": 15
           },
           "zerolinecolor": "white",
           "zerolinewidth": 2
          },
          "yaxis": {
           "automargin": true,
           "gridcolor": "white",
           "linecolor": "white",
           "ticks": "",
           "title": {
            "standoff": 15
           },
           "zerolinecolor": "white",
           "zerolinewidth": 2
          }
         }
        },
        "title": {
         "text": "Label: Zangoose"
        },
        "width": 300,
        "xaxis": {
         "anchor": "y",
         "domain": [
          0,
          1
         ]
        },
        "yaxis": {
         "anchor": "x",
         "domain": [
          0,
          1
         ]
        }
       }
      }
     },
     "metadata": {},
     "output_type": "display_data"
    }
   ],
   "source": [
    "plot_n_images(train_ds, 1)"
   ]
  },
  {
   "attachments": {},
   "cell_type": "markdown",
   "metadata": {},
   "source": [
    "### Preprocessing"
   ]
  },
  {
   "cell_type": "code",
   "execution_count": 7,
   "metadata": {},
   "outputs": [],
   "source": [
    "flip_and_rotate = tf.keras.Sequential([\n",
    "    tf.keras.layers.experimental.preprocessing.RandomFlip(\"horizontal\"),\n",
    "    tf.keras.layers.experimental.preprocessing.RandomRotation(0.1, fill_mode=\"constant\", fill_value=255),\n",
    "    # tf.keras.layers.experimental.preprocessing.RandomZoom(0.1),\n",
    "])\n",
    "\n",
    "def preprocess_image(image):\n",
    "    # print(image.shape)\n",
    "    alpha_channel = image[:, :, :, 3]\n",
    "    rgb_channels = image[:, :, :, :3]\n",
    "    alpha_bool = alpha_channel > 0\n",
    "    alpha_bool = tf.expand_dims(alpha_bool, axis=-1)\n",
    "    # print(alpha_bool.shape)\n",
    "    # print(rgb_channels.shape)\n",
    "    rgb_channels = tf.where(alpha_bool, rgb_channels, 255)\n",
    "    \n",
    "    # Normalize the pixel values to be between 0 and 1\n",
    "    image = preprocess_input(rgb_channels)\n",
    "    \n",
    "    return image\n",
    "\n",
    "def prepare(ds, shuffle=False, augment=False):\n",
    "    ds = ds.map(lambda x, y: (preprocess_image(x), y), num_parallel_calls=tf.data.AUTOTUNE)\n",
    "\n",
    "    # Use data augmentation only on the training set\n",
    "    if augment:\n",
    "        ds = ds.map(lambda x, y: (flip_and_rotate(x, training=True), y), num_parallel_calls=tf.data.AUTOTUNE)\n",
    "    \n",
    "    # Use buffered prefecting on all datasets\n",
    "    if shuffle:\n",
    "        ds = ds.shuffle(1000)\n",
    "\n",
    "    # ds = ds.batch(batch_size)\n",
    "    ds = ds.prefetch(buffer_size=tf.data.AUTOTUNE)\n",
    "\n",
    "    return ds"
   ]
  },
  {
   "cell_type": "code",
   "execution_count": 8,
   "metadata": {},
   "outputs": [
    {
     "name": "stdout",
     "output_type": "stream",
     "text": [
      "WARNING:tensorflow:Using a while_loop for converting RngReadAndSkip cause there is no registered converter for this op.\n",
      "WARNING:tensorflow:Using a while_loop for converting Bitcast cause there is no registered converter for this op.\n",
      "WARNING:tensorflow:Using a while_loop for converting Bitcast cause there is no registered converter for this op.\n",
      "WARNING:tensorflow:Using a while_loop for converting StatelessRandomUniformV2 cause there is no registered converter for this op.\n",
      "WARNING:tensorflow:Using a while_loop for converting ImageProjectiveTransformV3 cause there is no registered converter for this op.\n",
      "WARNING:tensorflow:Using a while_loop for converting RngReadAndSkip cause there is no registered converter for this op.\n",
      "WARNING:tensorflow:Using a while_loop for converting Bitcast cause there is no registered converter for this op.\n",
      "WARNING:tensorflow:Using a while_loop for converting Bitcast cause there is no registered converter for this op.\n",
      "WARNING:tensorflow:Using a while_loop for converting StatelessRandomUniformV2 cause there is no registered converter for this op.\n",
      "WARNING:tensorflow:Using a while_loop for converting ImageProjectiveTransformV3 cause there is no registered converter for this op.\n"
     ]
    }
   ],
   "source": [
    "train_ds = prepare(train_ds, shuffle=True, augment=True)\n",
    "val_ds = prepare(val_ds)\n",
    "\n",
    "channels = 3\n",
    "input_shape = (width, height, channels)"
   ]
  },
  {
   "cell_type": "code",
   "execution_count": 9,
   "metadata": {},
   "outputs": [
    {
     "name": "stdout",
     "output_type": "stream",
     "text": [
      "tf.Tensor([255. 255. 255.], shape=(3,), dtype=float32)\n",
      "(128, 128, 3)\n"
     ]
    },
    {
     "data": {
      "application/vnd.plotly.v1+json": {
       "config": {
        "plotlyServerURL": "https://plot.ly"
       },
       "data": [
        {
         "hovertemplate": "x: %{x}<br>y: %{y}<extra></extra>",
         "name": "0",
         "source": "data:image/png;base64,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",
         "type": "image",
         "xaxis": "x",
         "yaxis": "y"
        }
       ],
       "layout": {
        "height": 300,
        "margin": {
         "t": 60
        },
        "template": {
         "data": {
          "bar": [
           {
            "error_x": {
             "color": "#2a3f5f"
            },
            "error_y": {
             "color": "#2a3f5f"
            },
            "marker": {
             "line": {
              "color": "#E5ECF6",
              "width": 0.5
             },
             "pattern": {
              "fillmode": "overlay",
              "size": 10,
              "solidity": 0.2
             }
            },
            "type": "bar"
           }
          ],
          "barpolar": [
           {
            "marker": {
             "line": {
              "color": "#E5ECF6",
              "width": 0.5
             },
             "pattern": {
              "fillmode": "overlay",
              "size": 10,
              "solidity": 0.2
             }
            },
            "type": "barpolar"
           }
          ],
          "carpet": [
           {
            "aaxis": {
             "endlinecolor": "#2a3f5f",
             "gridcolor": "white",
             "linecolor": "white",
             "minorgridcolor": "white",
             "startlinecolor": "#2a3f5f"
            },
            "baxis": {
             "endlinecolor": "#2a3f5f",
             "gridcolor": "white",
             "linecolor": "white",
             "minorgridcolor": "white",
             "startlinecolor": "#2a3f5f"
            },
            "type": "carpet"
           }
          ],
          "choropleth": [
           {
            "colorbar": {
             "outlinewidth": 0,
             "ticks": ""
            },
            "type": "choropleth"
           }
          ],
          "contour": [
           {
            "colorbar": {
             "outlinewidth": 0,
             "ticks": ""
            },
            "colorscale": [
             [
              0,
              "#0d0887"
             ],
             [
              0.1111111111111111,
              "#46039f"
             ],
             [
              0.2222222222222222,
              "#7201a8"
             ],
             [
              0.3333333333333333,
              "#9c179e"
             ],
             [
              0.4444444444444444,
              "#bd3786"
             ],
             [
              0.5555555555555556,
              "#d8576b"
             ],
             [
              0.6666666666666666,
              "#ed7953"
             ],
             [
              0.7777777777777778,
              "#fb9f3a"
             ],
             [
              0.8888888888888888,
              "#fdca26"
             ],
             [
              1,
              "#f0f921"
             ]
            ],
            "type": "contour"
           }
          ],
          "contourcarpet": [
           {
            "colorbar": {
             "outlinewidth": 0,
             "ticks": ""
            },
            "type": "contourcarpet"
           }
          ],
          "heatmap": [
           {
            "colorbar": {
             "outlinewidth": 0,
             "ticks": ""
            },
            "colorscale": [
             [
              0,
              "#0d0887"
             ],
             [
              0.1111111111111111,
              "#46039f"
             ],
             [
              0.2222222222222222,
              "#7201a8"
             ],
             [
              0.3333333333333333,
              "#9c179e"
             ],
             [
              0.4444444444444444,
              "#bd3786"
             ],
             [
              0.5555555555555556,
              "#d8576b"
             ],
             [
              0.6666666666666666,
              "#ed7953"
             ],
             [
              0.7777777777777778,
              "#fb9f3a"
             ],
             [
              0.8888888888888888,
              "#fdca26"
             ],
             [
              1,
              "#f0f921"
             ]
            ],
            "type": "heatmap"
           }
          ],
          "heatmapgl": [
           {
            "colorbar": {
             "outlinewidth": 0,
             "ticks": ""
            },
            "colorscale": [
             [
              0,
              "#0d0887"
             ],
             [
              0.1111111111111111,
              "#46039f"
             ],
             [
              0.2222222222222222,
              "#7201a8"
             ],
             [
              0.3333333333333333,
              "#9c179e"
             ],
             [
              0.4444444444444444,
              "#bd3786"
             ],
             [
              0.5555555555555556,
              "#d8576b"
             ],
             [
              0.6666666666666666,
              "#ed7953"
             ],
             [
              0.7777777777777778,
              "#fb9f3a"
             ],
             [
              0.8888888888888888,
              "#fdca26"
             ],
             [
              1,
              "#f0f921"
             ]
            ],
            "type": "heatmapgl"
           }
          ],
          "histogram": [
           {
            "marker": {
             "pattern": {
              "fillmode": "overlay",
              "size": 10,
              "solidity": 0.2
             }
            },
            "type": "histogram"
           }
          ],
          "histogram2d": [
           {
            "colorbar": {
             "outlinewidth": 0,
             "ticks": ""
            },
            "colorscale": [
             [
              0,
              "#0d0887"
             ],
             [
              0.1111111111111111,
              "#46039f"
             ],
             [
              0.2222222222222222,
              "#7201a8"
             ],
             [
              0.3333333333333333,
              "#9c179e"
             ],
             [
              0.4444444444444444,
              "#bd3786"
             ],
             [
              0.5555555555555556,
              "#d8576b"
             ],
             [
              0.6666666666666666,
              "#ed7953"
             ],
             [
              0.7777777777777778,
              "#fb9f3a"
             ],
             [
              0.8888888888888888,
              "#fdca26"
             ],
             [
              1,
              "#f0f921"
             ]
            ],
            "type": "histogram2d"
           }
          ],
          "histogram2dcontour": [
           {
            "colorbar": {
             "outlinewidth": 0,
             "ticks": ""
            },
            "colorscale": [
             [
              0,
              "#0d0887"
             ],
             [
              0.1111111111111111,
              "#46039f"
             ],
             [
              0.2222222222222222,
              "#7201a8"
             ],
             [
              0.3333333333333333,
              "#9c179e"
             ],
             [
              0.4444444444444444,
              "#bd3786"
             ],
             [
              0.5555555555555556,
              "#d8576b"
             ],
             [
              0.6666666666666666,
              "#ed7953"
             ],
             [
              0.7777777777777778,
              "#fb9f3a"
             ],
             [
              0.8888888888888888,
              "#fdca26"
             ],
             [
              1,
              "#f0f921"
             ]
            ],
            "type": "histogram2dcontour"
           }
          ],
          "mesh3d": [
           {
            "colorbar": {
             "outlinewidth": 0,
             "ticks": ""
            },
            "type": "mesh3d"
           }
          ],
          "parcoords": [
           {
            "line": {
             "colorbar": {
              "outlinewidth": 0,
              "ticks": ""
             }
            },
            "type": "parcoords"
           }
          ],
          "pie": [
           {
            "automargin": true,
            "type": "pie"
           }
          ],
          "scatter": [
           {
            "fillpattern": {
             "fillmode": "overlay",
             "size": 10,
             "solidity": 0.2
            },
            "type": "scatter"
           }
          ],
          "scatter3d": [
           {
            "line": {
             "colorbar": {
              "outlinewidth": 0,
              "ticks": ""
             }
            },
            "marker": {
             "colorbar": {
              "outlinewidth": 0,
              "ticks": ""
             }
            },
            "type": "scatter3d"
           }
          ],
          "scattercarpet": [
           {
            "marker": {
             "colorbar": {
              "outlinewidth": 0,
              "ticks": ""
             }
            },
            "type": "scattercarpet"
           }
          ],
          "scattergeo": [
           {
            "marker": {
             "colorbar": {
              "outlinewidth": 0,
              "ticks": ""
             }
            },
            "type": "scattergeo"
           }
          ],
          "scattergl": [
           {
            "marker": {
             "colorbar": {
              "outlinewidth": 0,
              "ticks": ""
             }
            },
            "type": "scattergl"
           }
          ],
          "scattermapbox": [
           {
            "marker": {
             "colorbar": {
              "outlinewidth": 0,
              "ticks": ""
             }
            },
            "type": "scattermapbox"
           }
          ],
          "scatterpolar": [
           {
            "marker": {
             "colorbar": {
              "outlinewidth": 0,
              "ticks": ""
             }
            },
            "type": "scatterpolar"
           }
          ],
          "scatterpolargl": [
           {
            "marker": {
             "colorbar": {
              "outlinewidth": 0,
              "ticks": ""
             }
            },
            "type": "scatterpolargl"
           }
          ],
          "scatterternary": [
           {
            "marker": {
             "colorbar": {
              "outlinewidth": 0,
              "ticks": ""
             }
            },
            "type": "scatterternary"
           }
          ],
          "surface": [
           {
            "colorbar": {
             "outlinewidth": 0,
             "ticks": ""
            },
            "colorscale": [
             [
              0,
              "#0d0887"
             ],
             [
              0.1111111111111111,
              "#46039f"
             ],
             [
              0.2222222222222222,
              "#7201a8"
             ],
             [
              0.3333333333333333,
              "#9c179e"
             ],
             [
              0.4444444444444444,
              "#bd3786"
             ],
             [
              0.5555555555555556,
              "#d8576b"
             ],
             [
              0.6666666666666666,
              "#ed7953"
             ],
             [
              0.7777777777777778,
              "#fb9f3a"
             ],
             [
              0.8888888888888888,
              "#fdca26"
             ],
             [
              1,
              "#f0f921"
             ]
            ],
            "type": "surface"
           }
          ],
          "table": [
           {
            "cells": {
             "fill": {
              "color": "#EBF0F8"
             },
             "line": {
              "color": "white"
             }
            },
            "header": {
             "fill": {
              "color": "#C8D4E3"
             },
             "line": {
              "color": "white"
             }
            },
            "type": "table"
           }
          ]
         },
         "layout": {
          "annotationdefaults": {
           "arrowcolor": "#2a3f5f",
           "arrowhead": 0,
           "arrowwidth": 1
          },
          "autotypenumbers": "strict",
          "coloraxis": {
           "colorbar": {
            "outlinewidth": 0,
            "ticks": ""
           }
          },
          "colorscale": {
           "diverging": [
            [
             0,
             "#8e0152"
            ],
            [
             0.1,
             "#c51b7d"
            ],
            [
             0.2,
             "#de77ae"
            ],
            [
             0.3,
             "#f1b6da"
            ],
            [
             0.4,
             "#fde0ef"
            ],
            [
             0.5,
             "#f7f7f7"
            ],
            [
             0.6,
             "#e6f5d0"
            ],
            [
             0.7,
             "#b8e186"
            ],
            [
             0.8,
             "#7fbc41"
            ],
            [
             0.9,
             "#4d9221"
            ],
            [
             1,
             "#276419"
            ]
           ],
           "sequential": [
            [
             0,
             "#0d0887"
            ],
            [
             0.1111111111111111,
             "#46039f"
            ],
            [
             0.2222222222222222,
             "#7201a8"
            ],
            [
             0.3333333333333333,
             "#9c179e"
            ],
            [
             0.4444444444444444,
             "#bd3786"
            ],
            [
             0.5555555555555556,
             "#d8576b"
            ],
            [
             0.6666666666666666,
             "#ed7953"
            ],
            [
             0.7777777777777778,
             "#fb9f3a"
            ],
            [
             0.8888888888888888,
             "#fdca26"
            ],
            [
             1,
             "#f0f921"
            ]
           ],
           "sequentialminus": [
            [
             0,
             "#0d0887"
            ],
            [
             0.1111111111111111,
             "#46039f"
            ],
            [
             0.2222222222222222,
             "#7201a8"
            ],
            [
             0.3333333333333333,
             "#9c179e"
            ],
            [
             0.4444444444444444,
             "#bd3786"
            ],
            [
             0.5555555555555556,
             "#d8576b"
            ],
            [
             0.6666666666666666,
             "#ed7953"
            ],
            [
             0.7777777777777778,
             "#fb9f3a"
            ],
            [
             0.8888888888888888,
             "#fdca26"
            ],
            [
             1,
             "#f0f921"
            ]
           ]
          },
          "colorway": [
           "#636efa",
           "#EF553B",
           "#00cc96",
           "#ab63fa",
           "#FFA15A",
           "#19d3f3",
           "#FF6692",
           "#B6E880",
           "#FF97FF",
           "#FECB52"
          ],
          "font": {
           "color": "#2a3f5f"
          },
          "geo": {
           "bgcolor": "white",
           "lakecolor": "white",
           "landcolor": "#E5ECF6",
           "showlakes": true,
           "showland": true,
           "subunitcolor": "white"
          },
          "hoverlabel": {
           "align": "left"
          },
          "hovermode": "closest",
          "mapbox": {
           "style": "light"
          },
          "paper_bgcolor": "white",
          "plot_bgcolor": "#E5ECF6",
          "polar": {
           "angularaxis": {
            "gridcolor": "white",
            "linecolor": "white",
            "ticks": ""
           },
           "bgcolor": "#E5ECF6",
           "radialaxis": {
            "gridcolor": "white",
            "linecolor": "white",
            "ticks": ""
           }
          },
          "scene": {
           "xaxis": {
            "backgroundcolor": "#E5ECF6",
            "gridcolor": "white",
            "gridwidth": 2,
            "linecolor": "white",
            "showbackground": true,
            "ticks": "",
            "zerolinecolor": "white"
           },
           "yaxis": {
            "backgroundcolor": "#E5ECF6",
            "gridcolor": "white",
            "gridwidth": 2,
            "linecolor": "white",
            "showbackground": true,
            "ticks": "",
            "zerolinecolor": "white"
           },
           "zaxis": {
            "backgroundcolor": "#E5ECF6",
            "gridcolor": "white",
            "gridwidth": 2,
            "linecolor": "white",
            "showbackground": true,
            "ticks": "",
            "zerolinecolor": "white"
           }
          },
          "shapedefaults": {
           "line": {
            "color": "#2a3f5f"
           }
          },
          "ternary": {
           "aaxis": {
            "gridcolor": "white",
            "linecolor": "white",
            "ticks": ""
           },
           "baxis": {
            "gridcolor": "white",
            "linecolor": "white",
            "ticks": ""
           },
           "bgcolor": "#E5ECF6",
           "caxis": {
            "gridcolor": "white",
            "linecolor": "white",
            "ticks": ""
           }
          },
          "title": {
           "x": 0.05
          },
          "xaxis": {
           "automargin": true,
           "gridcolor": "white",
           "linecolor": "white",
           "ticks": "",
           "title": {
            "standoff": 15
           },
           "zerolinecolor": "white",
           "zerolinewidth": 2
          },
          "yaxis": {
           "automargin": true,
           "gridcolor": "white",
           "linecolor": "white",
           "ticks": "",
           "title": {
            "standoff": 15
           },
           "zerolinecolor": "white",
           "zerolinewidth": 2
          }
         }
        },
        "title": {
         "text": "Label: Alcremie"
        },
        "width": 300,
        "xaxis": {
         "anchor": "y",
         "domain": [
          0,
          1
         ]
        },
        "yaxis": {
         "anchor": "x",
         "domain": [
          0,
          1
         ]
        }
       }
      }
     },
     "metadata": {},
     "output_type": "display_data"
    },
    {
     "name": "stdout",
     "output_type": "stream",
     "text": [
      "tf.Tensor([255. 255. 255.], shape=(3,), dtype=float32)\n",
      "(128, 128, 3)\n"
     ]
    },
    {
     "data": {
      "application/vnd.plotly.v1+json": {
       "config": {
        "plotlyServerURL": "https://plot.ly"
       },
       "data": [
        {
         "hovertemplate": "x: %{x}<br>y: %{y}<extra></extra>",
         "name": "0",
         "source": "data:image/png;base64,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",
         "type": "image",
         "xaxis": "x",
         "yaxis": "y"
        }
       ],
       "layout": {
        "height": 300,
        "margin": {
         "t": 60
        },
        "template": {
         "data": {
          "bar": [
           {
            "error_x": {
             "color": "#2a3f5f"
            },
            "error_y": {
             "color": "#2a3f5f"
            },
            "marker": {
             "line": {
              "color": "#E5ECF6",
              "width": 0.5
             },
             "pattern": {
              "fillmode": "overlay",
              "size": 10,
              "solidity": 0.2
             }
            },
            "type": "bar"
           }
          ],
          "barpolar": [
           {
            "marker": {
             "line": {
              "color": "#E5ECF6",
              "width": 0.5
             },
             "pattern": {
              "fillmode": "overlay",
              "size": 10,
              "solidity": 0.2
             }
            },
            "type": "barpolar"
           }
          ],
          "carpet": [
           {
            "aaxis": {
             "endlinecolor": "#2a3f5f",
             "gridcolor": "white",
             "linecolor": "white",
             "minorgridcolor": "white",
             "startlinecolor": "#2a3f5f"
            },
            "baxis": {
             "endlinecolor": "#2a3f5f",
             "gridcolor": "white",
             "linecolor": "white",
             "minorgridcolor": "white",
             "startlinecolor": "#2a3f5f"
            },
            "type": "carpet"
           }
          ],
          "choropleth": [
           {
            "colorbar": {
             "outlinewidth": 0,
             "ticks": ""
            },
            "type": "choropleth"
           }
          ],
          "contour": [
           {
            "colorbar": {
             "outlinewidth": 0,
             "ticks": ""
            },
            "colorscale": [
             [
              0,
              "#0d0887"
             ],
             [
              0.1111111111111111,
              "#46039f"
             ],
             [
              0.2222222222222222,
              "#7201a8"
             ],
             [
              0.3333333333333333,
              "#9c179e"
             ],
             [
              0.4444444444444444,
              "#bd3786"
             ],
             [
              0.5555555555555556,
              "#d8576b"
             ],
             [
              0.6666666666666666,
              "#ed7953"
             ],
             [
              0.7777777777777778,
              "#fb9f3a"
             ],
             [
              0.8888888888888888,
              "#fdca26"
             ],
             [
              1,
              "#f0f921"
             ]
            ],
            "type": "contour"
           }
          ],
          "contourcarpet": [
           {
            "colorbar": {
             "outlinewidth": 0,
             "ticks": ""
            },
            "type": "contourcarpet"
           }
          ],
          "heatmap": [
           {
            "colorbar": {
             "outlinewidth": 0,
             "ticks": ""
            },
            "colorscale": [
             [
              0,
              "#0d0887"
             ],
             [
              0.1111111111111111,
              "#46039f"
             ],
             [
              0.2222222222222222,
              "#7201a8"
             ],
             [
              0.3333333333333333,
              "#9c179e"
             ],
             [
              0.4444444444444444,
              "#bd3786"
             ],
             [
              0.5555555555555556,
              "#d8576b"
             ],
             [
              0.6666666666666666,
              "#ed7953"
             ],
             [
              0.7777777777777778,
              "#fb9f3a"
             ],
             [
              0.8888888888888888,
              "#fdca26"
             ],
             [
              1,
              "#f0f921"
             ]
            ],
            "type": "heatmap"
           }
          ],
          "heatmapgl": [
           {
            "colorbar": {
             "outlinewidth": 0,
             "ticks": ""
            },
            "colorscale": [
             [
              0,
              "#0d0887"
             ],
             [
              0.1111111111111111,
              "#46039f"
             ],
             [
              0.2222222222222222,
              "#7201a8"
             ],
             [
              0.3333333333333333,
              "#9c179e"
             ],
             [
              0.4444444444444444,
              "#bd3786"
             ],
             [
              0.5555555555555556,
              "#d8576b"
             ],
             [
              0.6666666666666666,
              "#ed7953"
             ],
             [
              0.7777777777777778,
              "#fb9f3a"
             ],
             [
              0.8888888888888888,
              "#fdca26"
             ],
             [
              1,
              "#f0f921"
             ]
            ],
            "type": "heatmapgl"
           }
          ],
          "histogram": [
           {
            "marker": {
             "pattern": {
              "fillmode": "overlay",
              "size": 10,
              "solidity": 0.2
             }
            },
            "type": "histogram"
           }
          ],
          "histogram2d": [
           {
            "colorbar": {
             "outlinewidth": 0,
             "ticks": ""
            },
            "colorscale": [
             [
              0,
              "#0d0887"
             ],
             [
              0.1111111111111111,
              "#46039f"
             ],
             [
              0.2222222222222222,
              "#7201a8"
             ],
             [
              0.3333333333333333,
              "#9c179e"
             ],
             [
              0.4444444444444444,
              "#bd3786"
             ],
             [
              0.5555555555555556,
              "#d8576b"
             ],
             [
              0.6666666666666666,
              "#ed7953"
             ],
             [
              0.7777777777777778,
              "#fb9f3a"
             ],
             [
              0.8888888888888888,
              "#fdca26"
             ],
             [
              1,
              "#f0f921"
             ]
            ],
            "type": "histogram2d"
           }
          ],
          "histogram2dcontour": [
           {
            "colorbar": {
             "outlinewidth": 0,
             "ticks": ""
            },
            "colorscale": [
             [
              0,
              "#0d0887"
             ],
             [
              0.1111111111111111,
              "#46039f"
             ],
             [
              0.2222222222222222,
              "#7201a8"
             ],
             [
              0.3333333333333333,
              "#9c179e"
             ],
             [
              0.4444444444444444,
              "#bd3786"
             ],
             [
              0.5555555555555556,
              "#d8576b"
             ],
             [
              0.6666666666666666,
              "#ed7953"
             ],
             [
              0.7777777777777778,
              "#fb9f3a"
             ],
             [
              0.8888888888888888,
              "#fdca26"
             ],
             [
              1,
              "#f0f921"
             ]
            ],
            "type": "histogram2dcontour"
           }
          ],
          "mesh3d": [
           {
            "colorbar": {
             "outlinewidth": 0,
             "ticks": ""
            },
            "type": "mesh3d"
           }
          ],
          "parcoords": [
           {
            "line": {
             "colorbar": {
              "outlinewidth": 0,
              "ticks": ""
             }
            },
            "type": "parcoords"
           }
          ],
          "pie": [
           {
            "automargin": true,
            "type": "pie"
           }
          ],
          "scatter": [
           {
            "fillpattern": {
             "fillmode": "overlay",
             "size": 10,
             "solidity": 0.2
            },
            "type": "scatter"
           }
          ],
          "scatter3d": [
           {
            "line": {
             "colorbar": {
              "outlinewidth": 0,
              "ticks": ""
             }
            },
            "marker": {
             "colorbar": {
              "outlinewidth": 0,
              "ticks": ""
             }
            },
            "type": "scatter3d"
           }
          ],
          "scattercarpet": [
           {
            "marker": {
             "colorbar": {
              "outlinewidth": 0,
              "ticks": ""
             }
            },
            "type": "scattercarpet"
           }
          ],
          "scattergeo": [
           {
            "marker": {
             "colorbar": {
              "outlinewidth": 0,
              "ticks": ""
             }
            },
            "type": "scattergeo"
           }
          ],
          "scattergl": [
           {
            "marker": {
             "colorbar": {
              "outlinewidth": 0,
              "ticks": ""
             }
            },
            "type": "scattergl"
           }
          ],
          "scattermapbox": [
           {
            "marker": {
             "colorbar": {
              "outlinewidth": 0,
              "ticks": ""
             }
            },
            "type": "scattermapbox"
           }
          ],
          "scatterpolar": [
           {
            "marker": {
             "colorbar": {
              "outlinewidth": 0,
              "ticks": ""
             }
            },
            "type": "scatterpolar"
           }
          ],
          "scatterpolargl": [
           {
            "marker": {
             "colorbar": {
              "outlinewidth": 0,
              "ticks": ""
             }
            },
            "type": "scatterpolargl"
           }
          ],
          "scatterternary": [
           {
            "marker": {
             "colorbar": {
              "outlinewidth": 0,
              "ticks": ""
             }
            },
            "type": "scatterternary"
           }
          ],
          "surface": [
           {
            "colorbar": {
             "outlinewidth": 0,
             "ticks": ""
            },
            "colorscale": [
             [
              0,
              "#0d0887"
             ],
             [
              0.1111111111111111,
              "#46039f"
             ],
             [
              0.2222222222222222,
              "#7201a8"
             ],
             [
              0.3333333333333333,
              "#9c179e"
             ],
             [
              0.4444444444444444,
              "#bd3786"
             ],
             [
              0.5555555555555556,
              "#d8576b"
             ],
             [
              0.6666666666666666,
              "#ed7953"
             ],
             [
              0.7777777777777778,
              "#fb9f3a"
             ],
             [
              0.8888888888888888,
              "#fdca26"
             ],
             [
              1,
              "#f0f921"
             ]
            ],
            "type": "surface"
           }
          ],
          "table": [
           {
            "cells": {
             "fill": {
              "color": "#EBF0F8"
             },
             "line": {
              "color": "white"
             }
            },
            "header": {
             "fill": {
              "color": "#C8D4E3"
             },
             "line": {
              "color": "white"
             }
            },
            "type": "table"
           }
          ]
         },
         "layout": {
          "annotationdefaults": {
           "arrowcolor": "#2a3f5f",
           "arrowhead": 0,
           "arrowwidth": 1
          },
          "autotypenumbers": "strict",
          "coloraxis": {
           "colorbar": {
            "outlinewidth": 0,
            "ticks": ""
           }
          },
          "colorscale": {
           "diverging": [
            [
             0,
             "#8e0152"
            ],
            [
             0.1,
             "#c51b7d"
            ],
            [
             0.2,
             "#de77ae"
            ],
            [
             0.3,
             "#f1b6da"
            ],
            [
             0.4,
             "#fde0ef"
            ],
            [
             0.5,
             "#f7f7f7"
            ],
            [
             0.6,
             "#e6f5d0"
            ],
            [
             0.7,
             "#b8e186"
            ],
            [
             0.8,
             "#7fbc41"
            ],
            [
             0.9,
             "#4d9221"
            ],
            [
             1,
             "#276419"
            ]
           ],
           "sequential": [
            [
             0,
             "#0d0887"
            ],
            [
             0.1111111111111111,
             "#46039f"
            ],
            [
             0.2222222222222222,
             "#7201a8"
            ],
            [
             0.3333333333333333,
             "#9c179e"
            ],
            [
             0.4444444444444444,
             "#bd3786"
            ],
            [
             0.5555555555555556,
             "#d8576b"
            ],
            [
             0.6666666666666666,
             "#ed7953"
            ],
            [
             0.7777777777777778,
             "#fb9f3a"
            ],
            [
             0.8888888888888888,
             "#fdca26"
            ],
            [
             1,
             "#f0f921"
            ]
           ],
           "sequentialminus": [
            [
             0,
             "#0d0887"
            ],
            [
             0.1111111111111111,
             "#46039f"
            ],
            [
             0.2222222222222222,
             "#7201a8"
            ],
            [
             0.3333333333333333,
             "#9c179e"
            ],
            [
             0.4444444444444444,
             "#bd3786"
            ],
            [
             0.5555555555555556,
             "#d8576b"
            ],
            [
             0.6666666666666666,
             "#ed7953"
            ],
            [
             0.7777777777777778,
             "#fb9f3a"
            ],
            [
             0.8888888888888888,
             "#fdca26"
            ],
            [
             1,
             "#f0f921"
            ]
           ]
          },
          "colorway": [
           "#636efa",
           "#EF553B",
           "#00cc96",
           "#ab63fa",
           "#FFA15A",
           "#19d3f3",
           "#FF6692",
           "#B6E880",
           "#FF97FF",
           "#FECB52"
          ],
          "font": {
           "color": "#2a3f5f"
          },
          "geo": {
           "bgcolor": "white",
           "lakecolor": "white",
           "landcolor": "#E5ECF6",
           "showlakes": true,
           "showland": true,
           "subunitcolor": "white"
          },
          "hoverlabel": {
           "align": "left"
          },
          "hovermode": "closest",
          "mapbox": {
           "style": "light"
          },
          "paper_bgcolor": "white",
          "plot_bgcolor": "#E5ECF6",
          "polar": {
           "angularaxis": {
            "gridcolor": "white",
            "linecolor": "white",
            "ticks": ""
           },
           "bgcolor": "#E5ECF6",
           "radialaxis": {
            "gridcolor": "white",
            "linecolor": "white",
            "ticks": ""
           }
          },
          "scene": {
           "xaxis": {
            "backgroundcolor": "#E5ECF6",
            "gridcolor": "white",
            "gridwidth": 2,
            "linecolor": "white",
            "showbackground": true,
            "ticks": "",
            "zerolinecolor": "white"
           },
           "yaxis": {
            "backgroundcolor": "#E5ECF6",
            "gridcolor": "white",
            "gridwidth": 2,
            "linecolor": "white",
            "showbackground": true,
            "ticks": "",
            "zerolinecolor": "white"
           },
           "zaxis": {
            "backgroundcolor": "#E5ECF6",
            "gridcolor": "white",
            "gridwidth": 2,
            "linecolor": "white",
            "showbackground": true,
            "ticks": "",
            "zerolinecolor": "white"
           }
          },
          "shapedefaults": {
           "line": {
            "color": "#2a3f5f"
           }
          },
          "ternary": {
           "aaxis": {
            "gridcolor": "white",
            "linecolor": "white",
            "ticks": ""
           },
           "baxis": {
            "gridcolor": "white",
            "linecolor": "white",
            "ticks": ""
           },
           "bgcolor": "#E5ECF6",
           "caxis": {
            "gridcolor": "white",
            "linecolor": "white",
            "ticks": ""
           }
          },
          "title": {
           "x": 0.05
          },
          "xaxis": {
           "automargin": true,
           "gridcolor": "white",
           "linecolor": "white",
           "ticks": "",
           "title": {
            "standoff": 15
           },
           "zerolinecolor": "white",
           "zerolinewidth": 2
          },
          "yaxis": {
           "automargin": true,
           "gridcolor": "white",
           "linecolor": "white",
           "ticks": "",
           "title": {
            "standoff": 15
           },
           "zerolinecolor": "white",
           "zerolinewidth": 2
          }
         }
        },
        "title": {
         "text": "Label: Scatterbug"
        },
        "width": 300,
        "xaxis": {
         "anchor": "y",
         "domain": [
          0,
          1
         ]
        },
        "yaxis": {
         "anchor": "x",
         "domain": [
          0,
          1
         ]
        }
       }
      }
     },
     "metadata": {},
     "output_type": "display_data"
    },
    {
     "name": "stdout",
     "output_type": "stream",
     "text": [
      "tf.Tensor([255. 255. 255.], shape=(3,), dtype=float32)\n",
      "(128, 128, 3)\n"
     ]
    },
    {
     "data": {
      "application/vnd.plotly.v1+json": {
       "config": {
        "plotlyServerURL": "https://plot.ly"
       },
       "data": [
        {
         "hovertemplate": "x: %{x}<br>y: %{y}<extra></extra>",
         "name": "0",
         "source": "data:image/png;base64,iVBORw0KGgoAAAANSUhEUgAAAIAAAACACAIAAABMXPacAAAlTElEQVR4Xu2dZ3Ncx7nnnw4nz5k8mEFOzKTErGAFirbile6168q1vra3aj/Afpl9d7e2Nrxwrdfe2rV819cry0mWaSuYYhIDABIAkYEBJoeTTz/74gAQCFCRJACv8Su8GMz0CdP/fkL36e4hiAh77Bx08xt7bC97AuwwewLsMHsC7DB7AuwwewLsMHsC7DB7AuwwewLsMHsC7DB7AuwwewLsMHsC7DB7AuwwewLsMHsC7DB7AuwwewLsMHzzG3t8BpZlLS8vW5YlhEDEeDyez+dVVd1c7ivyoALYtm1ZVhAE0bNlwzB0XWeMbS7310+xWPz5z38+Pj4eBEEYhsePH3/zzTe7uro2l/uKPKgAk5OTFy9erNVqQgjG2JkzZ06cOGEYxuZyf7W0VpZWxm86zdrk7PyNjz+amFv0g8B1XcMwLMvaXPqr86AC3Llz56233lpaWmKMqYoiWrV40ErEDCOTixf6JFXbfMBfCUEQeJ7n+/78zSs3fvafrbmJuuAQJuJmzAvCIAgiO9h82FfnQQUQQgRBwDnXdV1mdPHqny/evqDRsPfMCwde/I6RLTBJlvQY49LmI3c3tVptenp6cXGxeOVC9frH2fJMSk+Z6SMNNY4kYIwhohBi82FfnQcVgFLKGFMUxTAMiaAoTTRrE37gLFpN32pK8VSyZ2jgiRdiuc7NR+4+ENG2bdd1GWP1er1cLi8tLdm1agrDAQkIx9sECQAhJCq8WwSgdDWXJQAahSwjOoA7dWuqVOQdPfnTz6tdQ0YAkiTFYjFFUaIvsHvANYQQS0tLy8vLuq7HYrH9+/f39/f7piBz78fs+RL9tLIIIbtIgOhuVv8lhBOQCYBny6HTceS4fujUzHLZXiiZprlv375sNhtpRgjZJUqEYViv1x3H4Zw7joOIjLFYLJZMJmVZ9uszthkLGVQBKXw6i1AIsVsEWLcAAEAgQAgAyARUTeved1g7cios16DZJIQsLS2Vy2XOeTabTaVSnD/o1SFqv+uNOHoBiIiEEE45o5+ZEIdh6Pu+EML3/YWFhUajkUwmE4lEPp9XFEWW5dXboxQoBQACQABhTYNdZwGICAQQyKeNBBFDYZrmoVwhCALLsubm5orFoiRJYRhGoVtV1a/db3ADd7G+sNxc8gJPoLjnT4iUnt7fcSBtZDYftobjOHNzc67r6rouy3I2mzVNMx6Pa5p2z/0QsiYAUsTIZgkhu9MCCN7jVRBEKHEmmyYA6LpOKc1ms0EQVKvVubk5ROzp6RkaGvp6/Ya227ow/of37vy26TSAAAEAslpBCHCg4/Ab5B+HYT8lVJN0hX8aexDRdd1KpVIsFoMgKBQKHR0dpmlyzrc6RgfoomBNDxZDUSJW3Wu4Ibquu4sE2HjHCATh0++JIsS18CDLcj6fj748IcR13TAMLcu6e/cupdQ0zWw2q2lf3G8oNUofjn04Vb4LitPAiWxHOQUeAVjTABDB8aCJk7+5/dafJpJpPX26/6l9uYMKVyihACCEWFxcnJubi8fjuVzOMAxN0yRJ2uhLo2JBEFRc/7aHJQ9qJFwO2lXgARBFURKJhCQ9hNz64QiwXsvrtQ+w6ibX/1tvXKqq9vT05HK5MAxXVlZmZ2dt285kMowxSunWilhHoGhazdsLoxfG3rlVvGJmWF8Py+dBvrceQgGWA7Vmdab2sedCWu9gPASEgcyQqcYBQAhRKpWmp6ePHTuWz+c/KxQFQVAsFqdnZi3LilGQOcmoyqyQOWEnT5588cUXH3wcAh6KAPcEYXKPBihC2LL+gFKq67qu60IISinn3Pd913VnZmYcx+nu7lYUZdMhEUEYXLl75Z1Pfuaqt0+dZopKVAX4lvBBCegKyBJk4iAEBH7lxsrva1b9BfLaUPaAxlVEbLfby8vLrVZrvelsRQhh23boWDkikhJ4Mp0xtDuhHhC2b9++48ePp9Ppzcd8dR5UAF3Xc7lcvV4Pw9ANRMOHkuAgqAQiCMJqo2FUygZXVVXd2rQJIYlEIhaLIWIUFarVKmMsl8vpur6xJACUm+Xr059cvPtum44n0lYmw6OTbU1lCQHGgDEACQDA8wM/rJa96x9MSbbnHOk8JhFZCOH7vu/7nyOAJEn5fD42OBikEpxBhYJMCUMqCI3Sh88yna/Eg56ir6/v5ZdfliTp6tWrVqtlBUHDjw0KL4cWt73m1Ez1k0/yQ05HvpBKpaJe2HrMIIQwxqKUI51OM8YmJyfHx8cZYxsFECiCMJhenvrFx28tOBePHJWTKU7Iao/0C5ElyGWgUiveLP0JAeOGUjD6o6bw+VGUMZZIJIxc1jb0gAIDoIDw8LpgEQ8qQKFQePLJJ2dnZy9duuR4XsBVlFNp382Edug6lbsjLS3Zsqxma382my0UColE4r4VJ8uyqqqNRmNmZqZQKPT09Kx/ZLnWpfFLf77zazQmh3qYESOU3ucMn4+igG5a8+6li4vBE4VXv4wAqxAKlAYILmK4loYKIT7HdL4SDyoAABBCouAZj8cNw4gH7Y5WrWARQK9dnHAlycl2VuKZIAgMw4jH45uPX0MI0W63y+Wybdsb3/d8b3Jp8vrsle6hRqEg3U++L0aWwNDDan1lqjR9IN6glAPAl6pEQoFSC6EcgiUQyWoX7Esd+yV4aAJQSqNWrPiB4nCVAhWCeu1kaHXmM6mDBxVFicfj923+6yDifYd5BYog9BHE1raPAhEBEYBEidanUQERIRDghhgKJlDzoFFD26vWlLu0yplfpsLemiNshlIkzEdoA3iIQAjAbnJBEZFFrzWK1a4AAdAImKrU15nP79sXef/PESAScpOHXaou/Xn0wljpcjwbGrFP79ayYbkoKlO+PecJD6W0lNyn5rpJMo6UAiFrtb/cwvEKNF0AlARkbCBhubhQpb6c8EmMHBBBS0gsMohNRHfihlhHVha8TpgdYMBCgRCGn/ZvHpD7XPirElXces0iABICazGSIFKAL5kw3CskAMBydfnC1ffutq8OHuZ6jAFAGKLjiGZDcWrJ0p323IeLwhW5g8lYpuCn3Rar6BpKEoAXYsVSF5uJlqP4war4OhCGVKVEyiuaobNKfeGjROdJNXaf0XJEtG17rmF9bCkjfnoFpCUMa6Qpq+quc0GbBnPu6QqgQLHZpdyX+1qAsIUz63iuSw7ySFLHEePjDrZy5/a/Nnyw9q83fok6nhw69dSRs3M4NrZ0oTPvJWKINYfcWkl7/vHj+XRKXTVJACJ1QuxF0E4ETrU886eViV8qRm6rAFEvfWFh4eb45M1q+zYaVaY3fcY1Njw8PDg4+Fmdla/KQxAAAKKKi/pTNPArASkJKQmoEiHC0LFtx3EkSfrCQbfoPBsbFxUU2tRtQqMGegIoBUKIaTI7cGaWJ4pLTduzIYRidenuyh0/tWzGhEQELrXJZDnWcDJpLZ1UUxkN1k2ShiBPALccv1ELRy2bhn4LRQCEbXSPvu+XSqWxkVtjl/9irkweUf0RzbQczOVyr7zyyrlz50zTXC/8IDwEAQgh0TBWu912HIdj2PJ5PUwep/VOcGzXK5VKrFjMZDKapq26gvtFgsiSIg3W36SEgiBWG0tlYDEAgIRBenuVitH44OLbc6MOCKAhGV+50Zy6O2xKPQWgngiXmmysZCZUM6EGAfqekOS1PqBogXMV4Cr1Ql2yAjXrNsZalYKeGGDSpyNRhBAGKDVWtJnr8cZ8wPm8wqUQFEXp7u7u7NxsMV+bhyAA57xQKBw4cMBxnFKppCiKL5khlxSflESbNEH9ZKRDfu/gwYP5fD5KVe9rv4yxeDze0dGxcXCUUkoIxRA8D6pVsG1QFWLGQFPpoce0A4MKOEAQmEbVDDMSQCkAAUEICuIH0Ki7M3frjuNncjohJBTED4lAIICcilhc5lK7NPsrq+X0PPZPGwWQJCmTMAc0ErhFz2+U5VTUZIQQDzEFgocigKqqjz32GAAEQfDBBx8kk0lFUajnzNb8BZuRhmBXr3W2PA6CEEIpVRTlvgJQSlOpVEdHR6vVmp6ejgYkKKWUEEQQIVo22A4wBm0bkgli6pLZDapCZAmkDd8jRNr05EZdF44P2CgXaWWllUgpAknVlpeamuNTnfv9GWd4UNNjcmVxnLZ68gfdjXOsKKWyJMUkaggXREAAAYCsP/l4eDwEARhj6XR6cHAwnU6v9wZkEnRwP05bVCBrNTuc5HAu2dXVZZqmLMubTwEAaxYQj8dv3bo1MjLy2muv9ff3RxYAuPogChGCAJpNaLUIZxCLQUcHZBLAKGBUBsH1ybKtT5ST9bBk1RuABAghnIScL7XNiZIsqfFCAufMuWrdznfC/LyVKLRFsCVTIAQoAyAIIILAsS3X5WEY7joLiKCU0g1JpEbEPmr1sjoAUMZTWjDcmUt1dn5WAAAASqlpmrlc7tq1a9Vq1XXd6E1KyVrtrhLVgBDQbIEQUKuCxGFVJIQwIE2Qw8H47AwWF9ToOKozrV+DWDJvDpw69mRnR/LqX9757bVZY8zNy2qyS/m0/7Z6CeF6ftsPm8iayC1gVJLjSiydTt/XfL82D02AyL1ESWQQBKEQBIREEAAIIBVBlIx+jgCEEE3TMpmMrusrKyth4Fu1cntphlt1JfCEH4QhZWzD0DeC54HnbTjFKgSA0x6t7ZAVRycEgALVqW6qPdnes5lvPHfmeUVRro9MtKqyoevxAsY7jzHpnvFX13Vn5hc+mStdtbWmyOip3ifOvZrsHUomk319fRtLPiAPTYDIAoIgaLVarutSYfl+EH2EiL7r1mt1pd2OxWKfIwBjLMpWhRCe1Zr+6N1P/vd/0+6MdDFroUwC2TTiX3YyLFWpvk9Ve5WoBxCEIvQxnep4/vnnhzqHFxYWFEXZv3//mdMnTUNOpjMBSpZlUUqjG3Bdd/zu1Fip2R46Bf1huq//uVffGBgaZow9+ITcjTw0ASRJyuVy/f39nHPGmBFY7VJ51mshAADTLBEuFsXSUj6fp5RyzhVFiVzWJiRJKhQK1Wr17vg4jn7Yvv6+3m6buhYueKCH8JlDeZshlHCdgb7Wr/ZANFDmcjKZimqQMaYoSiqdlWU5AKlUrlBKZVlOp9OyLNu2XSqV1Jj5D9/7YTKZjMVivb29sVhs01UenIcmQCwWe/bZZ3t7eyNTsGqVS7/6+R+vfYxAgNK4H7eXqzA7G02GMAwjk8lE0TgyCESMvJOqqvv37/c879pf3uc3/tLvtiwUss20khrmJFEQhBGyZUju80AQjgCL5o1cT7aHEbaysrK4uKjrumma0dWjhzMAIMsyItq2PTMzo2na8ePHz549m0wmN53yIfLQBFBV9dixY8eOHYv+rVQqLS9ws32U0ii9yfcPI+Ls7KxpmtF4J+c8EiPq98diMU3TOOf5fL7RaFx6P6y3bTMAwfiBoX0nz/3jtZWZy5cvGvs1Of3Ft42IEM0QciFYArOReOW111544gWVqX+5+JdLly4NDw93dnZu6pz7vr+8vDw+Pj46OvrMM8+cOnXqUbT6jXzxN/l6mKb50ksvPf3001G7jup6enr65s2bPT09mqYFQUAIkSQpyuoi/7teUlEUwpiNpM2V3OCBoedeHnzxVfPmaKvWXqkvWl6LGERSOZc+c2wDETzH95o+r0s9Ut8TJ55++vDTQ4WhaNLnwsLC0aNHE4nElqPQdd1arba8vBy5o00FHjqPSoDIlW98x7bt27dvT05OmqbZ0dERmXwQBJVKJRaLxePxaCQjlUq1Wq1KpeJ5vgDCjfjR179/9PUfaMlMsqu/r6/vn//rP8+MLdAhmswbsYS26uJX01RcfSFAeMIqu1bRzTvxk0+f+cE//SAejzuOU6lUEDGZTG6dVIKIvu9XKhVCyP79+1Op1KYCj4JHJcBWKKWJRKKnp4cQ0mg0dF3nnAshbNuOGn6Uxdbr9VarRSkd2n9gsl6cuotPpHrMXCcQEudSR7ZDCqWwKISPrXnbTfiQBZCiHsCaBALAAixi0BRJLfXq+dfOP3M+eha0sLDwhz/8wff9s2fP3rd+bdseGxszTfOVV17p7u7e/PEjYPsEkCRpeHjYMIzbt28vLCxE+RIACCGiRU5Rq6xUKo7jaJp28PARz3U+avoLVrhULKZSqWazOTc3Z1s2tADbaBPPjnnQCxClhQirnTUB0ARYAAUVo9OIq3FVVQkhiNhoNEZHR3t6egYGBj69szUQMbJIXdf7+/u3zsx4FGyfAJTSeDzOGLty5crs7GyhUFifByeEcF230WgwxhzHEUJQSg3DOHjkmBaLj90ZXywuf/vb37527dpPfvKT6elpgLXqbgPchY2TwVY/EsBCZpgGpfTtt9+uVqvf+973ouRSVdX7joUIIdrtdqPRSKVS0RTuzSUeDdsnQARjzDAMxtj09LTruvl8Pno/Sv6iF9E7lNJUKqWq6vLy8tzc3EcffTQyMjI/P+84zvrZIAS43zotSZJM04yme7bb7WvXrrmuG40S9vf3bwpOEUKIubm5ycnJU6dOHT16dGuEeERstwCSJJ04cYJR+n//9Re9fX2pF85H3h82VH0EISTqdg4ODgohLly4UK1WU6mUL/zA8lEAiDWfswXOeVTdAKBp2uLi4vXr13t7e0+cOHHu3LlM5j5TphGxUqnMzc29/vrr93VQj4jtFoAx1lkoNIrzfOn21MoMUPbYY4+t28FWKKWFQiHqLiGiEzrxx3SColW1cBGgurk80FWHhIiRooiIBIFDMpfM5DN848j1WskwDNvtNmNsvXu4bWy+m0cNCtFaWfDnxoacxemVxnS7bVIEeDybzW7qE0UQQmKxWPSRpml6Si0VppZ8t32XYA03CcBNpnRIXiWANS+FiJZlWcISOVHTaiu44oN/zzEAANBqtUZGRlRVfemllz6nNTwKtlsAIcLJP71z+5f/PVOb7wxtWrE/+CNdbLRfffXVzxKAUhqlJV1dXUeDg5eDX3jzxaUZEJtiLwW5g6eejtWvtv27GD26QsR6o97W2nSQzLJZXuVPBk9uPAgR6/V6sVhst9vDw8PPPPNMlJttG9t3MURsrSwu3rg4+97/cT55v48GCYaeaJRm75bQMAzj8OHDG2ckboQQIsnSkrsw1rzeVKqMRWsBNkABOoF0EapRUiC+41XqZTOI65qOgJLKzLxmOZ4Xeo7r+L4vSRIiCiE8z5uammo0Gt/4xjeGh4e32f/A9giAiIDoNKpLV9+/9qP/QGfHusDPU/AQSoEQgdsqF69dvaIoiqZp8Xh8awYSYND06pPN0WvVD1KZYHU8e6MGFKQC4wVGGEg5xgPactroAzgQqAFLUj2hgkRC1x8dG2U2GxoaAoBmszk1NRWG4cDAwOHDh+8bnB8125HtEkJC3534069mfvWT9J2P+1qlTg4uQkOAj9iNjScLxrf//g3btn/3u9/VarWt6VDTa/xp4Q+T9rVU1peVaN7XxiJAGDFTupnUCSV6XE30GNJ+7sTtUqPk53zaRYCCHlME9f7w3ruXL1+2LKvRaCwvL8/Ozvb39587dy6RSGy67vawHRZQKpVm7owt/PpnytXfHyAeMmgj1AXUBTiUHT58qPD8uVPf+tZ7f/7g6tWro6Ojvb29/f39UeYT4YXeYnvBlitZdfXR4T0axIB0ADcZlygAMEYVXYp3aha6NvWMbkXPqoQCISQgYbVeX1hcmJ6eLpVKkiQ988wzhw4dSiaTGy+3nWyHANevX3/rxz86d/fyfreuUSwhLIfQQtIgvK0nT7/+/X3f/E4ikzt37lw+n//xj39cqVRyuZyqqtH4aCACX7hABAASAoQApUSSaCiFggMEQJJAh6nQMfQFACAgIcRIaISS0BBGVlM0yfdCQPT9EHWsObXxiXFAOHDgwFNPPWUYxk7VPmyPAEtLS5c//vhZVjE4VgVUBJQEGxNGYv+xY8+d73v6xUTPAKUsk8kcOnTo5ZdfHh8ff/vtt8+cOdPX10cIuVMbHaldpUbNVFZdhJnghx8355i9zF2cA9WQY1nNt71a3UZEiiDJTEvrqibJskk5DS0vKLcCX4Q+GpnADcszM9NvvP73Z8+efbjPF78G2yFAIpHoHxzAcqVqNy2BJcEWpWQpd7jrmTce/8d/E8/mCVkNRYlE4vz586qq/vrXv15aWlJVNZvNLrYXJptjyayjrNWVotKOTqVW8VeKLhYBEWgohstNpWqt+CJNQdelKUTM6+kOqVr2jUrr6FypZofNEPs4VF2crum6rn/OCr1tYzsuf/jw4e//8N+6v2jN3Sz20WAxNG4nhp/6zg/OPPtCorN3YxVwzuPx+JkzZ/L5/B//+Mfr168/9dRTAsMQg2gN8loAILAeBgi4ltdedL+5WBpaaXxk4WEZ4gnlP3FWz7JUildWvGyl9d1iZbrhzwf4pAqXw/AWS0SjfuuX3im2Q4C+vr50wvz5xd/eunG9Khxn8Pjg6ZfOPnd+cGjovp2vVColSdI777xzc/JG2O3V1FkzLu7TUglInOspM1ACxAZHVBBlgRKCykgyqQWmwjgxE4qZUpkUre2IIgkCFeGGNcw7yNav9fBhjEmK2kr13ckcmQrcZ575u2df/3ZPX58kSfeNfpRSSqllWTOl6frCSqZPxFMh23KnhBDGuRk3QQ/8lFP19DmAuonzMmlnNKWgm0mJMRpPyqzTGCunZ2V7wQqIBHdRCWUQirhnttcOseVrPRq4JB976jm9o1sIceLkyYGhL9XnDELf9qwAGblnOf4qBIAQQMBURoo9lrjZr1+rCyvESUpUjfJu2YgTxiAeB6dP/y3vLS3b1ZrziUArJD6noR7+LQnA+enTp6M5vNHUh80ltkApJUA+x0kk0pLfRxy0WhKTkNEMwzRIQICAz0CJAZeAEOAc0GROj6ameKKlNhro1wPwiaB/SxZAKf1q8zsIUE4JI2sDGZs/B4Bsh6xpbMRtrljEXzQK3TyZgWgUY5O5SBIkk2AYkqXxsB36AKByysjfkABfFUIIyzEokGi1+30hhAABQsAt+uXRFhzWggNyKguStJodRaUgeiQgsFGDynxYvm4jh8xh06d23aopXOFsdfHTjrAbBahUKuN3x6uiwnOUfFGkIASCdujPhVUkoSWcNOFxpCaVDc7W9pEIfGG3veacaMyG7YYb75LiaRxZusJD5fyxb+XiuT0B7mF0dPRH/+NHM9Kk1ElpNMH6M4jiMKFECGxPOtaUWyRAuoD3s0TBUHUCAIDg2n59xfKmA6iB1E9i/TSW8m/MXSwv24/3ncia2c3n3UZ2owDNZnN6errRUY91qVHTvG8MAABZoT0DuhTSIrrenMA6QghQhNAO6zNWi7sAAAhhIDwnEC1UVNrZp+Z7VVkhYRB4wg3CYGcjwW4UgJDV/QCi12EIvg+UQrQCeyNcIh0FhVLwUNSI76HABoAFaKEDPmx6+qgBS5JEXoonOVAgFmCIobtlYcz2sksFoJQCrrb8aIPgZBI0bbMAke9OpKT9R2MzklXkrj8poA0ivHfOBAFgwHJEHqA0ToACCIA6oIXCFjtqALtSAEopozSDXh+gCqQW8IYjBwH9LEckSZQlSGFAVVUmerFRDCpLXrCC0F7TQAbIQnwf7zqoJlKcMyJCpAGAhyLY4eGg3SgAIUSipAOd02iZgBNgjCHlgnMBDEAQIqLguwFKSTavZPMKAMzetZpXg8AOwQaIHIwCkIP8AD8+rCRjPPTDVstfDAOCqw/uN55qm9mNAlBKgbIllG8CV4AqII6FzVhdyBYAJSVDKxlqcO8o3lrej4BAI3U2CoQACAUJnopBIQGNejBrtecdP9r6cEO5HWA3CkAIIZQ6gjaRe0AYoCQEsYXvABKQhZcRiIwqKjMMiXNKACgBAhD6otXwWq4rCbGhL7aKHeKKD+BDW9C6JLkyigC3bo2zzexGASilnJAudE6DnQScB/UmxJrAEYEiHmxZh9r1GAT5gtFXSOgGxdUmDs1GOLXUrLb8m4Jurn6Ekg8jFixxECGzFMVWhGR/uU2zHiW7VABCaR35LLIyEAGkG5yoQRMAIeAWGAJAr8nJGRpPoKICoQBIPI/V9dhyzA24t3EL30ifHIeTOnTHoN0MFlrWku1Z4V4MuB+EEKCsGkrToChAc+D1g21ASAAEwDyoC6DYwKANzA0SLUglqa4ziRMREpdxVwoEIfcIAAAAgQ9OG9scmi1otMHxSLTL8aZi28xuFIBSyinpCNzH0UsA1kG6DYYFDAEIQB7cU9DQQBBAGgBvQJIr3RnTMBWrHc6XWk7DvR1CfYsLmm/jhUVINCAIWNvTVggxAPZiwH2IOmIBEhspBwiA6BDKICIXxACrINXWCmMAaktaKlKlga5Dyk15wUcXgw17KEflIK3A4xnoSoJjiWXH9ajnQShwzwK2EKWhC0L2hCYh7wHnGGmlwSeAAsgk6Lcg1gAeBV4AIBbQGWAUOaMYalUgLrGArDZtxhjlNKRhTIK+GAzEoQECeWAooU9RsD0BtkAIIYQ0rTCs+4bKuKogEHV1iw4wIHwcGjIgBVxPNQkhqbRqxuVa1b3acD4AtAkQSiij8Xg81hGra/WpsvezEWHqoR8y2zVqmVhaS8pJeZOv2mZ2owDxeHz//gNFf7lcXrE8Z1mTypSBwohGFIX1cs+EgMNqy123A1+AK4iLxAcKFFVVVuKKhNLw8HDPUM/I0sjk1MT1JZczH2VgKTbYO/jkgWf7O/s/50cetoHdKEB3d/d33/xuPBX/l//7L0sji23qAAfsALmPJ/LGHFeLoJC1ql99YIlASoSUQSBvCt6mrmmoaYxpVD117PDjp89qH2rOnBNaIWWUmlTNKqd6z37r8Rd7s710u9bj3ZdPd57fPSCi7/sjoyMfX/y4VqtRSp3AGZkbGVscFTSQJBbVOCCuvlgdGCJEBkiRQA2w4XQtub2lQCfS8fOvnf3ODy2QlldKEEV4mTKT5Tvy/bl+XdmOtaifw260AEKIJEkHDxzs7+tHREJIs9l89713g1/aC3fvhFadIQgEpsWMbF7WYpRSxhillHJKY9ST6u7KRKFR6m42GTIx9Yl19+TAEy88/vhxer95YDvLbhQAAAghqqquz5zVdf2bL3yzU5ev/q//UvvkdpyChWgOnj31vX/XdfR0VJ4QggQFE3M3Prw5/h9JtZUG0UKsjVweEwEN/b6nX6Kco0DKuWomJO3r/G7KQ2eXCrAJIUSz2awuL3G7VgA7Rug0UQMt0dU3ePDgwfVirVbrzp07xTtzrNLIhWGfBCGiFzTJ9I2VX/+0OHpVEIoiNDu6B597LX/oRHRUJB7Zoefyu1oAIYTv+2HgN2u1Kx/++Xf/8lZyfvwAAaS8xNM+TZdcMeC6siwTQjzPW1xcvHjx4sjHHxdqtUEKHQw0AoyA69bHL/1+5sPfCwACEBs4KJRYgxnRplGKoiQSiS/z8zWPgt0YhNep1WofffTR7csfZpoL8swo3h1JubUU8YmZnj/6zcm+M03XP3LkyPnz503TvHHjxm9/+1tELIRN+v7PjNmbcQocIEYhRSEEsAUQAsikWqpn8uA568AT0Q8Cx+Px/v7+RCIRibF1hdojZZdagBCiXq+PXb829u7bi++/o3jLh6DVTwJNEiFCjRJOqWVZ43endV33PA8RG43GxMQEIUSYcuBxNdQSoSMBJhiEDDQKCgVdkpxkZ23geGrocLavL/pRDwCYm5ubmprSdb23t7ejo2Pz3TxKdqkAYRhOTEy887P/mfnk9296Uwn0DILRbpFthMl68/cffHhZns12dpumGSXyhmEYhnHr1q1brZYUyr2x/gO0blDhC993WuAHnLA011pmb7n/VN+RU4P79sdiMc55o9GYnJys1WrNZtO27Wq12tPTs3H33kfKbnRBrVbr9u3bY2NjzaX51NKdvoUbheKY2Sw7CHMBjAbypN4lHX++++zzmVzHwMDAvn37FEUpl8u3b98ulUq+7zMCcRokic8xaEyNjb/7r+OL5TIxFFlh2S7efyhV6Ort7R0aGop+QigKwpVK5eLFiwDw5ptvDg4Obr6tR8PusgAhhOM4CwsLo6Oj7Xb7zHMvuK2Tix9mPauVqtdCxovp3ILW2crse+r863/3xhvRQr7o2Fwul8vl7j0fiCBYvv1JI8Dy3IpD45RL0c+oyLLcarVu3Ljhum4QBNF+vqVS6dKlS7FYrNVqbTrPo2N3CeD7/sTExLVr10zTPHnyZEdHR61WW5o/+LurVx177lCHefC1f/ru8/8QKLFULr+x9j8Lwlh68OA3fvjvT3q+TzghhFLKOUfE+fn5CxcuTE5OttvtqCsnhJAkKdrSbvOJHhm7SIDI80xMTABALpfjnF+5cmV+fr5cKimHTmeHD3Rm9O5nX+4+/gREM7e+BIQQWTNkzUjd+74QQlEURDxy5Ijv+5EwkTbRBuL3Fn+E7KIYMDMz89Of/rTdbr/66quapt25c+c3v/nN9PR0oVD4wfe//9STT8icSYrKpC+aMP1XxS6ygCAIFhcXJyYmwjAkhCDiiRMnnn/++WQyeeTo0XhyUyP+/4RdJICmaX19fdVqtVwuM8a6u7ufffbZgYEBxtiXWVD2V8ouckGO48zPzzcajSgkGoaRz+e3Z+vCHWQXCYD3/kJdFBh3aoxs29hFAvxt8qWSuT0eHXsC7DB7AuwwewLsMHsC7DB7AuwwewLsMHsC7DB7AuwwewLsMHsC7DB7AuwwewLsMHsC7DB7AuwwewLsMP8Pl/zS0ZPJy6oAAAAASUVORK5CYII=",
         "type": "image",
         "xaxis": "x",
         "yaxis": "y"
        }
       ],
       "layout": {
        "height": 300,
        "margin": {
         "t": 60
        },
        "template": {
         "data": {
          "bar": [
           {
            "error_x": {
             "color": "#2a3f5f"
            },
            "error_y": {
             "color": "#2a3f5f"
            },
            "marker": {
             "line": {
              "color": "#E5ECF6",
              "width": 0.5
             },
             "pattern": {
              "fillmode": "overlay",
              "size": 10,
              "solidity": 0.2
             }
            },
            "type": "bar"
           }
          ],
          "barpolar": [
           {
            "marker": {
             "line": {
              "color": "#E5ECF6",
              "width": 0.5
             },
             "pattern": {
              "fillmode": "overlay",
              "size": 10,
              "solidity": 0.2
             }
            },
            "type": "barpolar"
           }
          ],
          "carpet": [
           {
            "aaxis": {
             "endlinecolor": "#2a3f5f",
             "gridcolor": "white",
             "linecolor": "white",
             "minorgridcolor": "white",
             "startlinecolor": "#2a3f5f"
            },
            "baxis": {
             "endlinecolor": "#2a3f5f",
             "gridcolor": "white",
             "linecolor": "white",
             "minorgridcolor": "white",
             "startlinecolor": "#2a3f5f"
            },
            "type": "carpet"
           }
          ],
          "choropleth": [
           {
            "colorbar": {
             "outlinewidth": 0,
             "ticks": ""
            },
            "type": "choropleth"
           }
          ],
          "contour": [
           {
            "colorbar": {
             "outlinewidth": 0,
             "ticks": ""
            },
            "colorscale": [
             [
              0,
              "#0d0887"
             ],
             [
              0.1111111111111111,
              "#46039f"
             ],
             [
              0.2222222222222222,
              "#7201a8"
             ],
             [
              0.3333333333333333,
              "#9c179e"
             ],
             [
              0.4444444444444444,
              "#bd3786"
             ],
             [
              0.5555555555555556,
              "#d8576b"
             ],
             [
              0.6666666666666666,
              "#ed7953"
             ],
             [
              0.7777777777777778,
              "#fb9f3a"
             ],
             [
              0.8888888888888888,
              "#fdca26"
             ],
             [
              1,
              "#f0f921"
             ]
            ],
            "type": "contour"
           }
          ],
          "contourcarpet": [
           {
            "colorbar": {
             "outlinewidth": 0,
             "ticks": ""
            },
            "type": "contourcarpet"
           }
          ],
          "heatmap": [
           {
            "colorbar": {
             "outlinewidth": 0,
             "ticks": ""
            },
            "colorscale": [
             [
              0,
              "#0d0887"
             ],
             [
              0.1111111111111111,
              "#46039f"
             ],
             [
              0.2222222222222222,
              "#7201a8"
             ],
             [
              0.3333333333333333,
              "#9c179e"
             ],
             [
              0.4444444444444444,
              "#bd3786"
             ],
             [
              0.5555555555555556,
              "#d8576b"
             ],
             [
              0.6666666666666666,
              "#ed7953"
             ],
             [
              0.7777777777777778,
              "#fb9f3a"
             ],
             [
              0.8888888888888888,
              "#fdca26"
             ],
             [
              1,
              "#f0f921"
             ]
            ],
            "type": "heatmap"
           }
          ],
          "heatmapgl": [
           {
            "colorbar": {
             "outlinewidth": 0,
             "ticks": ""
            },
            "colorscale": [
             [
              0,
              "#0d0887"
             ],
             [
              0.1111111111111111,
              "#46039f"
             ],
             [
              0.2222222222222222,
              "#7201a8"
             ],
             [
              0.3333333333333333,
              "#9c179e"
             ],
             [
              0.4444444444444444,
              "#bd3786"
             ],
             [
              0.5555555555555556,
              "#d8576b"
             ],
             [
              0.6666666666666666,
              "#ed7953"
             ],
             [
              0.7777777777777778,
              "#fb9f3a"
             ],
             [
              0.8888888888888888,
              "#fdca26"
             ],
             [
              1,
              "#f0f921"
             ]
            ],
            "type": "heatmapgl"
           }
          ],
          "histogram": [
           {
            "marker": {
             "pattern": {
              "fillmode": "overlay",
              "size": 10,
              "solidity": 0.2
             }
            },
            "type": "histogram"
           }
          ],
          "histogram2d": [
           {
            "colorbar": {
             "outlinewidth": 0,
             "ticks": ""
            },
            "colorscale": [
             [
              0,
              "#0d0887"
             ],
             [
              0.1111111111111111,
              "#46039f"
             ],
             [
              0.2222222222222222,
              "#7201a8"
             ],
             [
              0.3333333333333333,
              "#9c179e"
             ],
             [
              0.4444444444444444,
              "#bd3786"
             ],
             [
              0.5555555555555556,
              "#d8576b"
             ],
             [
              0.6666666666666666,
              "#ed7953"
             ],
             [
              0.7777777777777778,
              "#fb9f3a"
             ],
             [
              0.8888888888888888,
              "#fdca26"
             ],
             [
              1,
              "#f0f921"
             ]
            ],
            "type": "histogram2d"
           }
          ],
          "histogram2dcontour": [
           {
            "colorbar": {
             "outlinewidth": 0,
             "ticks": ""
            },
            "colorscale": [
             [
              0,
              "#0d0887"
             ],
             [
              0.1111111111111111,
              "#46039f"
             ],
             [
              0.2222222222222222,
              "#7201a8"
             ],
             [
              0.3333333333333333,
              "#9c179e"
             ],
             [
              0.4444444444444444,
              "#bd3786"
             ],
             [
              0.5555555555555556,
              "#d8576b"
             ],
             [
              0.6666666666666666,
              "#ed7953"
             ],
             [
              0.7777777777777778,
              "#fb9f3a"
             ],
             [
              0.8888888888888888,
              "#fdca26"
             ],
             [
              1,
              "#f0f921"
             ]
            ],
            "type": "histogram2dcontour"
           }
          ],
          "mesh3d": [
           {
            "colorbar": {
             "outlinewidth": 0,
             "ticks": ""
            },
            "type": "mesh3d"
           }
          ],
          "parcoords": [
           {
            "line": {
             "colorbar": {
              "outlinewidth": 0,
              "ticks": ""
             }
            },
            "type": "parcoords"
           }
          ],
          "pie": [
           {
            "automargin": true,
            "type": "pie"
           }
          ],
          "scatter": [
           {
            "fillpattern": {
             "fillmode": "overlay",
             "size": 10,
             "solidity": 0.2
            },
            "type": "scatter"
           }
          ],
          "scatter3d": [
           {
            "line": {
             "colorbar": {
              "outlinewidth": 0,
              "ticks": ""
             }
            },
            "marker": {
             "colorbar": {
              "outlinewidth": 0,
              "ticks": ""
             }
            },
            "type": "scatter3d"
           }
          ],
          "scattercarpet": [
           {
            "marker": {
             "colorbar": {
              "outlinewidth": 0,
              "ticks": ""
             }
            },
            "type": "scattercarpet"
           }
          ],
          "scattergeo": [
           {
            "marker": {
             "colorbar": {
              "outlinewidth": 0,
              "ticks": ""
             }
            },
            "type": "scattergeo"
           }
          ],
          "scattergl": [
           {
            "marker": {
             "colorbar": {
              "outlinewidth": 0,
              "ticks": ""
             }
            },
            "type": "scattergl"
           }
          ],
          "scattermapbox": [
           {
            "marker": {
             "colorbar": {
              "outlinewidth": 0,
              "ticks": ""
             }
            },
            "type": "scattermapbox"
           }
          ],
          "scatterpolar": [
           {
            "marker": {
             "colorbar": {
              "outlinewidth": 0,
              "ticks": ""
             }
            },
            "type": "scatterpolar"
           }
          ],
          "scatterpolargl": [
           {
            "marker": {
             "colorbar": {
              "outlinewidth": 0,
              "ticks": ""
             }
            },
            "type": "scatterpolargl"
           }
          ],
          "scatterternary": [
           {
            "marker": {
             "colorbar": {
              "outlinewidth": 0,
              "ticks": ""
             }
            },
            "type": "scatterternary"
           }
          ],
          "surface": [
           {
            "colorbar": {
             "outlinewidth": 0,
             "ticks": ""
            },
            "colorscale": [
             [
              0,
              "#0d0887"
             ],
             [
              0.1111111111111111,
              "#46039f"
             ],
             [
              0.2222222222222222,
              "#7201a8"
             ],
             [
              0.3333333333333333,
              "#9c179e"
             ],
             [
              0.4444444444444444,
              "#bd3786"
             ],
             [
              0.5555555555555556,
              "#d8576b"
             ],
             [
              0.6666666666666666,
              "#ed7953"
             ],
             [
              0.7777777777777778,
              "#fb9f3a"
             ],
             [
              0.8888888888888888,
              "#fdca26"
             ],
             [
              1,
              "#f0f921"
             ]
            ],
            "type": "surface"
           }
          ],
          "table": [
           {
            "cells": {
             "fill": {
              "color": "#EBF0F8"
             },
             "line": {
              "color": "white"
             }
            },
            "header": {
             "fill": {
              "color": "#C8D4E3"
             },
             "line": {
              "color": "white"
             }
            },
            "type": "table"
           }
          ]
         },
         "layout": {
          "annotationdefaults": {
           "arrowcolor": "#2a3f5f",
           "arrowhead": 0,
           "arrowwidth": 1
          },
          "autotypenumbers": "strict",
          "coloraxis": {
           "colorbar": {
            "outlinewidth": 0,
            "ticks": ""
           }
          },
          "colorscale": {
           "diverging": [
            [
             0,
             "#8e0152"
            ],
            [
             0.1,
             "#c51b7d"
            ],
            [
             0.2,
             "#de77ae"
            ],
            [
             0.3,
             "#f1b6da"
            ],
            [
             0.4,
             "#fde0ef"
            ],
            [
             0.5,
             "#f7f7f7"
            ],
            [
             0.6,
             "#e6f5d0"
            ],
            [
             0.7,
             "#b8e186"
            ],
            [
             0.8,
             "#7fbc41"
            ],
            [
             0.9,
             "#4d9221"
            ],
            [
             1,
             "#276419"
            ]
           ],
           "sequential": [
            [
             0,
             "#0d0887"
            ],
            [
             0.1111111111111111,
             "#46039f"
            ],
            [
             0.2222222222222222,
             "#7201a8"
            ],
            [
             0.3333333333333333,
             "#9c179e"
            ],
            [
             0.4444444444444444,
             "#bd3786"
            ],
            [
             0.5555555555555556,
             "#d8576b"
            ],
            [
             0.6666666666666666,
             "#ed7953"
            ],
            [
             0.7777777777777778,
             "#fb9f3a"
            ],
            [
             0.8888888888888888,
             "#fdca26"
            ],
            [
             1,
             "#f0f921"
            ]
           ],
           "sequentialminus": [
            [
             0,
             "#0d0887"
            ],
            [
             0.1111111111111111,
             "#46039f"
            ],
            [
             0.2222222222222222,
             "#7201a8"
            ],
            [
             0.3333333333333333,
             "#9c179e"
            ],
            [
             0.4444444444444444,
             "#bd3786"
            ],
            [
             0.5555555555555556,
             "#d8576b"
            ],
            [
             0.6666666666666666,
             "#ed7953"
            ],
            [
             0.7777777777777778,
             "#fb9f3a"
            ],
            [
             0.8888888888888888,
             "#fdca26"
            ],
            [
             1,
             "#f0f921"
            ]
           ]
          },
          "colorway": [
           "#636efa",
           "#EF553B",
           "#00cc96",
           "#ab63fa",
           "#FFA15A",
           "#19d3f3",
           "#FF6692",
           "#B6E880",
           "#FF97FF",
           "#FECB52"
          ],
          "font": {
           "color": "#2a3f5f"
          },
          "geo": {
           "bgcolor": "white",
           "lakecolor": "white",
           "landcolor": "#E5ECF6",
           "showlakes": true,
           "showland": true,
           "subunitcolor": "white"
          },
          "hoverlabel": {
           "align": "left"
          },
          "hovermode": "closest",
          "mapbox": {
           "style": "light"
          },
          "paper_bgcolor": "white",
          "plot_bgcolor": "#E5ECF6",
          "polar": {
           "angularaxis": {
            "gridcolor": "white",
            "linecolor": "white",
            "ticks": ""
           },
           "bgcolor": "#E5ECF6",
           "radialaxis": {
            "gridcolor": "white",
            "linecolor": "white",
            "ticks": ""
           }
          },
          "scene": {
           "xaxis": {
            "backgroundcolor": "#E5ECF6",
            "gridcolor": "white",
            "gridwidth": 2,
            "linecolor": "white",
            "showbackground": true,
            "ticks": "",
            "zerolinecolor": "white"
           },
           "yaxis": {
            "backgroundcolor": "#E5ECF6",
            "gridcolor": "white",
            "gridwidth": 2,
            "linecolor": "white",
            "showbackground": true,
            "ticks": "",
            "zerolinecolor": "white"
           },
           "zaxis": {
            "backgroundcolor": "#E5ECF6",
            "gridcolor": "white",
            "gridwidth": 2,
            "linecolor": "white",
            "showbackground": true,
            "ticks": "",
            "zerolinecolor": "white"
           }
          },
          "shapedefaults": {
           "line": {
            "color": "#2a3f5f"
           }
          },
          "ternary": {
           "aaxis": {
            "gridcolor": "white",
            "linecolor": "white",
            "ticks": ""
           },
           "baxis": {
            "gridcolor": "white",
            "linecolor": "white",
            "ticks": ""
           },
           "bgcolor": "#E5ECF6",
           "caxis": {
            "gridcolor": "white",
            "linecolor": "white",
            "ticks": ""
           }
          },
          "title": {
           "x": 0.05
          },
          "xaxis": {
           "automargin": true,
           "gridcolor": "white",
           "linecolor": "white",
           "ticks": "",
           "title": {
            "standoff": 15
           },
           "zerolinecolor": "white",
           "zerolinewidth": 2
          },
          "yaxis": {
           "automargin": true,
           "gridcolor": "white",
           "linecolor": "white",
           "ticks": "",
           "title": {
            "standoff": 15
           },
           "zerolinecolor": "white",
           "zerolinewidth": 2
          }
         }
        },
        "title": {
         "text": "Label: Xatu"
        },
        "width": 300,
        "xaxis": {
         "anchor": "y",
         "domain": [
          0,
          1
         ]
        },
        "yaxis": {
         "anchor": "x",
         "domain": [
          0,
          1
         ]
        }
       }
      }
     },
     "metadata": {},
     "output_type": "display_data"
    },
    {
     "name": "stdout",
     "output_type": "stream",
     "text": [
      "tf.Tensor([255. 255. 255.], shape=(3,), dtype=float32)\n",
      "(128, 128, 3)\n"
     ]
    },
    {
     "data": {
      "application/vnd.plotly.v1+json": {
       "config": {
        "plotlyServerURL": "https://plot.ly"
       },
       "data": [
        {
         "hovertemplate": "x: %{x}<br>y: %{y}<extra></extra>",
         "name": "0",
         "source": "data:image/png;base64,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",
         "type": "image",
         "xaxis": "x",
         "yaxis": "y"
        }
       ],
       "layout": {
        "height": 300,
        "margin": {
         "t": 60
        },
        "template": {
         "data": {
          "bar": [
           {
            "error_x": {
             "color": "#2a3f5f"
            },
            "error_y": {
             "color": "#2a3f5f"
            },
            "marker": {
             "line": {
              "color": "#E5ECF6",
              "width": 0.5
             },
             "pattern": {
              "fillmode": "overlay",
              "size": 10,
              "solidity": 0.2
             }
            },
            "type": "bar"
           }
          ],
          "barpolar": [
           {
            "marker": {
             "line": {
              "color": "#E5ECF6",
              "width": 0.5
             },
             "pattern": {
              "fillmode": "overlay",
              "size": 10,
              "solidity": 0.2
             }
            },
            "type": "barpolar"
           }
          ],
          "carpet": [
           {
            "aaxis": {
             "endlinecolor": "#2a3f5f",
             "gridcolor": "white",
             "linecolor": "white",
             "minorgridcolor": "white",
             "startlinecolor": "#2a3f5f"
            },
            "baxis": {
             "endlinecolor": "#2a3f5f",
             "gridcolor": "white",
             "linecolor": "white",
             "minorgridcolor": "white",
             "startlinecolor": "#2a3f5f"
            },
            "type": "carpet"
           }
          ],
          "choropleth": [
           {
            "colorbar": {
             "outlinewidth": 0,
             "ticks": ""
            },
            "type": "choropleth"
           }
          ],
          "contour": [
           {
            "colorbar": {
             "outlinewidth": 0,
             "ticks": ""
            },
            "colorscale": [
             [
              0,
              "#0d0887"
             ],
             [
              0.1111111111111111,
              "#46039f"
             ],
             [
              0.2222222222222222,
              "#7201a8"
             ],
             [
              0.3333333333333333,
              "#9c179e"
             ],
             [
              0.4444444444444444,
              "#bd3786"
             ],
             [
              0.5555555555555556,
              "#d8576b"
             ],
             [
              0.6666666666666666,
              "#ed7953"
             ],
             [
              0.7777777777777778,
              "#fb9f3a"
             ],
             [
              0.8888888888888888,
              "#fdca26"
             ],
             [
              1,
              "#f0f921"
             ]
            ],
            "type": "contour"
           }
          ],
          "contourcarpet": [
           {
            "colorbar": {
             "outlinewidth": 0,
             "ticks": ""
            },
            "type": "contourcarpet"
           }
          ],
          "heatmap": [
           {
            "colorbar": {
             "outlinewidth": 0,
             "ticks": ""
            },
            "colorscale": [
             [
              0,
              "#0d0887"
             ],
             [
              0.1111111111111111,
              "#46039f"
             ],
             [
              0.2222222222222222,
              "#7201a8"
             ],
             [
              0.3333333333333333,
              "#9c179e"
             ],
             [
              0.4444444444444444,
              "#bd3786"
             ],
             [
              0.5555555555555556,
              "#d8576b"
             ],
             [
              0.6666666666666666,
              "#ed7953"
             ],
             [
              0.7777777777777778,
              "#fb9f3a"
             ],
             [
              0.8888888888888888,
              "#fdca26"
             ],
             [
              1,
              "#f0f921"
             ]
            ],
            "type": "heatmap"
           }
          ],
          "heatmapgl": [
           {
            "colorbar": {
             "outlinewidth": 0,
             "ticks": ""
            },
            "colorscale": [
             [
              0,
              "#0d0887"
             ],
             [
              0.1111111111111111,
              "#46039f"
             ],
             [
              0.2222222222222222,
              "#7201a8"
             ],
             [
              0.3333333333333333,
              "#9c179e"
             ],
             [
              0.4444444444444444,
              "#bd3786"
             ],
             [
              0.5555555555555556,
              "#d8576b"
             ],
             [
              0.6666666666666666,
              "#ed7953"
             ],
             [
              0.7777777777777778,
              "#fb9f3a"
             ],
             [
              0.8888888888888888,
              "#fdca26"
             ],
             [
              1,
              "#f0f921"
             ]
            ],
            "type": "heatmapgl"
           }
          ],
          "histogram": [
           {
            "marker": {
             "pattern": {
              "fillmode": "overlay",
              "size": 10,
              "solidity": 0.2
             }
            },
            "type": "histogram"
           }
          ],
          "histogram2d": [
           {
            "colorbar": {
             "outlinewidth": 0,
             "ticks": ""
            },
            "colorscale": [
             [
              0,
              "#0d0887"
             ],
             [
              0.1111111111111111,
              "#46039f"
             ],
             [
              0.2222222222222222,
              "#7201a8"
             ],
             [
              0.3333333333333333,
              "#9c179e"
             ],
             [
              0.4444444444444444,
              "#bd3786"
             ],
             [
              0.5555555555555556,
              "#d8576b"
             ],
             [
              0.6666666666666666,
              "#ed7953"
             ],
             [
              0.7777777777777778,
              "#fb9f3a"
             ],
             [
              0.8888888888888888,
              "#fdca26"
             ],
             [
              1,
              "#f0f921"
             ]
            ],
            "type": "histogram2d"
           }
          ],
          "histogram2dcontour": [
           {
            "colorbar": {
             "outlinewidth": 0,
             "ticks": ""
            },
            "colorscale": [
             [
              0,
              "#0d0887"
             ],
             [
              0.1111111111111111,
              "#46039f"
             ],
             [
              0.2222222222222222,
              "#7201a8"
             ],
             [
              0.3333333333333333,
              "#9c179e"
             ],
             [
              0.4444444444444444,
              "#bd3786"
             ],
             [
              0.5555555555555556,
              "#d8576b"
             ],
             [
              0.6666666666666666,
              "#ed7953"
             ],
             [
              0.7777777777777778,
              "#fb9f3a"
             ],
             [
              0.8888888888888888,
              "#fdca26"
             ],
             [
              1,
              "#f0f921"
             ]
            ],
            "type": "histogram2dcontour"
           }
          ],
          "mesh3d": [
           {
            "colorbar": {
             "outlinewidth": 0,
             "ticks": ""
            },
            "type": "mesh3d"
           }
          ],
          "parcoords": [
           {
            "line": {
             "colorbar": {
              "outlinewidth": 0,
              "ticks": ""
             }
            },
            "type": "parcoords"
           }
          ],
          "pie": [
           {
            "automargin": true,
            "type": "pie"
           }
          ],
          "scatter": [
           {
            "fillpattern": {
             "fillmode": "overlay",
             "size": 10,
             "solidity": 0.2
            },
            "type": "scatter"
           }
          ],
          "scatter3d": [
           {
            "line": {
             "colorbar": {
              "outlinewidth": 0,
              "ticks": ""
             }
            },
            "marker": {
             "colorbar": {
              "outlinewidth": 0,
              "ticks": ""
             }
            },
            "type": "scatter3d"
           }
          ],
          "scattercarpet": [
           {
            "marker": {
             "colorbar": {
              "outlinewidth": 0,
              "ticks": ""
             }
            },
            "type": "scattercarpet"
           }
          ],
          "scattergeo": [
           {
            "marker": {
             "colorbar": {
              "outlinewidth": 0,
              "ticks": ""
             }
            },
            "type": "scattergeo"
           }
          ],
          "scattergl": [
           {
            "marker": {
             "colorbar": {
              "outlinewidth": 0,
              "ticks": ""
             }
            },
            "type": "scattergl"
           }
          ],
          "scattermapbox": [
           {
            "marker": {
             "colorbar": {
              "outlinewidth": 0,
              "ticks": ""
             }
            },
            "type": "scattermapbox"
           }
          ],
          "scatterpolar": [
           {
            "marker": {
             "colorbar": {
              "outlinewidth": 0,
              "ticks": ""
             }
            },
            "type": "scatterpolar"
           }
          ],
          "scatterpolargl": [
           {
            "marker": {
             "colorbar": {
              "outlinewidth": 0,
              "ticks": ""
             }
            },
            "type": "scatterpolargl"
           }
          ],
          "scatterternary": [
           {
            "marker": {
             "colorbar": {
              "outlinewidth": 0,
              "ticks": ""
             }
            },
            "type": "scatterternary"
           }
          ],
          "surface": [
           {
            "colorbar": {
             "outlinewidth": 0,
             "ticks": ""
            },
            "colorscale": [
             [
              0,
              "#0d0887"
             ],
             [
              0.1111111111111111,
              "#46039f"
             ],
             [
              0.2222222222222222,
              "#7201a8"
             ],
             [
              0.3333333333333333,
              "#9c179e"
             ],
             [
              0.4444444444444444,
              "#bd3786"
             ],
             [
              0.5555555555555556,
              "#d8576b"
             ],
             [
              0.6666666666666666,
              "#ed7953"
             ],
             [
              0.7777777777777778,
              "#fb9f3a"
             ],
             [
              0.8888888888888888,
              "#fdca26"
             ],
             [
              1,
              "#f0f921"
             ]
            ],
            "type": "surface"
           }
          ],
          "table": [
           {
            "cells": {
             "fill": {
              "color": "#EBF0F8"
             },
             "line": {
              "color": "white"
             }
            },
            "header": {
             "fill": {
              "color": "#C8D4E3"
             },
             "line": {
              "color": "white"
             }
            },
            "type": "table"
           }
          ]
         },
         "layout": {
          "annotationdefaults": {
           "arrowcolor": "#2a3f5f",
           "arrowhead": 0,
           "arrowwidth": 1
          },
          "autotypenumbers": "strict",
          "coloraxis": {
           "colorbar": {
            "outlinewidth": 0,
            "ticks": ""
           }
          },
          "colorscale": {
           "diverging": [
            [
             0,
             "#8e0152"
            ],
            [
             0.1,
             "#c51b7d"
            ],
            [
             0.2,
             "#de77ae"
            ],
            [
             0.3,
             "#f1b6da"
            ],
            [
             0.4,
             "#fde0ef"
            ],
            [
             0.5,
             "#f7f7f7"
            ],
            [
             0.6,
             "#e6f5d0"
            ],
            [
             0.7,
             "#b8e186"
            ],
            [
             0.8,
             "#7fbc41"
            ],
            [
             0.9,
             "#4d9221"
            ],
            [
             1,
             "#276419"
            ]
           ],
           "sequential": [
            [
             0,
             "#0d0887"
            ],
            [
             0.1111111111111111,
             "#46039f"
            ],
            [
             0.2222222222222222,
             "#7201a8"
            ],
            [
             0.3333333333333333,
             "#9c179e"
            ],
            [
             0.4444444444444444,
             "#bd3786"
            ],
            [
             0.5555555555555556,
             "#d8576b"
            ],
            [
             0.6666666666666666,
             "#ed7953"
            ],
            [
             0.7777777777777778,
             "#fb9f3a"
            ],
            [
             0.8888888888888888,
             "#fdca26"
            ],
            [
             1,
             "#f0f921"
            ]
           ],
           "sequentialminus": [
            [
             0,
             "#0d0887"
            ],
            [
             0.1111111111111111,
             "#46039f"
            ],
            [
             0.2222222222222222,
             "#7201a8"
            ],
            [
             0.3333333333333333,
             "#9c179e"
            ],
            [
             0.4444444444444444,
             "#bd3786"
            ],
            [
             0.5555555555555556,
             "#d8576b"
            ],
            [
             0.6666666666666666,
             "#ed7953"
            ],
            [
             0.7777777777777778,
             "#fb9f3a"
            ],
            [
             0.8888888888888888,
             "#fdca26"
            ],
            [
             1,
             "#f0f921"
            ]
           ]
          },
          "colorway": [
           "#636efa",
           "#EF553B",
           "#00cc96",
           "#ab63fa",
           "#FFA15A",
           "#19d3f3",
           "#FF6692",
           "#B6E880",
           "#FF97FF",
           "#FECB52"
          ],
          "font": {
           "color": "#2a3f5f"
          },
          "geo": {
           "bgcolor": "white",
           "lakecolor": "white",
           "landcolor": "#E5ECF6",
           "showlakes": true,
           "showland": true,
           "subunitcolor": "white"
          },
          "hoverlabel": {
           "align": "left"
          },
          "hovermode": "closest",
          "mapbox": {
           "style": "light"
          },
          "paper_bgcolor": "white",
          "plot_bgcolor": "#E5ECF6",
          "polar": {
           "angularaxis": {
            "gridcolor": "white",
            "linecolor": "white",
            "ticks": ""
           },
           "bgcolor": "#E5ECF6",
           "radialaxis": {
            "gridcolor": "white",
            "linecolor": "white",
            "ticks": ""
           }
          },
          "scene": {
           "xaxis": {
            "backgroundcolor": "#E5ECF6",
            "gridcolor": "white",
            "gridwidth": 2,
            "linecolor": "white",
            "showbackground": true,
            "ticks": "",
            "zerolinecolor": "white"
           },
           "yaxis": {
            "backgroundcolor": "#E5ECF6",
            "gridcolor": "white",
            "gridwidth": 2,
            "linecolor": "white",
            "showbackground": true,
            "ticks": "",
            "zerolinecolor": "white"
           },
           "zaxis": {
            "backgroundcolor": "#E5ECF6",
            "gridcolor": "white",
            "gridwidth": 2,
            "linecolor": "white",
            "showbackground": true,
            "ticks": "",
            "zerolinecolor": "white"
           }
          },
          "shapedefaults": {
           "line": {
            "color": "#2a3f5f"
           }
          },
          "ternary": {
           "aaxis": {
            "gridcolor": "white",
            "linecolor": "white",
            "ticks": ""
           },
           "baxis": {
            "gridcolor": "white",
            "linecolor": "white",
            "ticks": ""
           },
           "bgcolor": "#E5ECF6",
           "caxis": {
            "gridcolor": "white",
            "linecolor": "white",
            "ticks": ""
           }
          },
          "title": {
           "x": 0.05
          },
          "xaxis": {
           "automargin": true,
           "gridcolor": "white",
           "linecolor": "white",
           "ticks": "",
           "title": {
            "standoff": 15
           },
           "zerolinecolor": "white",
           "zerolinewidth": 2
          },
          "yaxis": {
           "automargin": true,
           "gridcolor": "white",
           "linecolor": "white",
           "ticks": "",
           "title": {
            "standoff": 15
           },
           "zerolinecolor": "white",
           "zerolinewidth": 2
          }
         }
        },
        "title": {
         "text": "Label: Numel"
        },
        "width": 300,
        "xaxis": {
         "anchor": "y",
         "domain": [
          0,
          1
         ]
        },
        "yaxis": {
         "anchor": "x",
         "domain": [
          0,
          1
         ]
        }
       }
      }
     },
     "metadata": {},
     "output_type": "display_data"
    },
    {
     "name": "stdout",
     "output_type": "stream",
     "text": [
      "tf.Tensor([255. 255. 255.], shape=(3,), dtype=float32)\n",
      "(128, 128, 3)\n"
     ]
    },
    {
     "data": {
      "application/vnd.plotly.v1+json": {
       "config": {
        "plotlyServerURL": "https://plot.ly"
       },
       "data": [
        {
         "hovertemplate": "x: %{x}<br>y: %{y}<extra></extra>",
         "name": "0",
         "source": "data:image/png;base64,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",
         "type": "image",
         "xaxis": "x",
         "yaxis": "y"
        }
       ],
       "layout": {
        "height": 300,
        "margin": {
         "t": 60
        },
        "template": {
         "data": {
          "bar": [
           {
            "error_x": {
             "color": "#2a3f5f"
            },
            "error_y": {
             "color": "#2a3f5f"
            },
            "marker": {
             "line": {
              "color": "#E5ECF6",
              "width": 0.5
             },
             "pattern": {
              "fillmode": "overlay",
              "size": 10,
              "solidity": 0.2
             }
            },
            "type": "bar"
           }
          ],
          "barpolar": [
           {
            "marker": {
             "line": {
              "color": "#E5ECF6",
              "width": 0.5
             },
             "pattern": {
              "fillmode": "overlay",
              "size": 10,
              "solidity": 0.2
             }
            },
            "type": "barpolar"
           }
          ],
          "carpet": [
           {
            "aaxis": {
             "endlinecolor": "#2a3f5f",
             "gridcolor": "white",
             "linecolor": "white",
             "minorgridcolor": "white",
             "startlinecolor": "#2a3f5f"
            },
            "baxis": {
             "endlinecolor": "#2a3f5f",
             "gridcolor": "white",
             "linecolor": "white",
             "minorgridcolor": "white",
             "startlinecolor": "#2a3f5f"
            },
            "type": "carpet"
           }
          ],
          "choropleth": [
           {
            "colorbar": {
             "outlinewidth": 0,
             "ticks": ""
            },
            "type": "choropleth"
           }
          ],
          "contour": [
           {
            "colorbar": {
             "outlinewidth": 0,
             "ticks": ""
            },
            "colorscale": [
             [
              0,
              "#0d0887"
             ],
             [
              0.1111111111111111,
              "#46039f"
             ],
             [
              0.2222222222222222,
              "#7201a8"
             ],
             [
              0.3333333333333333,
              "#9c179e"
             ],
             [
              0.4444444444444444,
              "#bd3786"
             ],
             [
              0.5555555555555556,
              "#d8576b"
             ],
             [
              0.6666666666666666,
              "#ed7953"
             ],
             [
              0.7777777777777778,
              "#fb9f3a"
             ],
             [
              0.8888888888888888,
              "#fdca26"
             ],
             [
              1,
              "#f0f921"
             ]
            ],
            "type": "contour"
           }
          ],
          "contourcarpet": [
           {
            "colorbar": {
             "outlinewidth": 0,
             "ticks": ""
            },
            "type": "contourcarpet"
           }
          ],
          "heatmap": [
           {
            "colorbar": {
             "outlinewidth": 0,
             "ticks": ""
            },
            "colorscale": [
             [
              0,
              "#0d0887"
             ],
             [
              0.1111111111111111,
              "#46039f"
             ],
             [
              0.2222222222222222,
              "#7201a8"
             ],
             [
              0.3333333333333333,
              "#9c179e"
             ],
             [
              0.4444444444444444,
              "#bd3786"
             ],
             [
              0.5555555555555556,
              "#d8576b"
             ],
             [
              0.6666666666666666,
              "#ed7953"
             ],
             [
              0.7777777777777778,
              "#fb9f3a"
             ],
             [
              0.8888888888888888,
              "#fdca26"
             ],
             [
              1,
              "#f0f921"
             ]
            ],
            "type": "heatmap"
           }
          ],
          "heatmapgl": [
           {
            "colorbar": {
             "outlinewidth": 0,
             "ticks": ""
            },
            "colorscale": [
             [
              0,
              "#0d0887"
             ],
             [
              0.1111111111111111,
              "#46039f"
             ],
             [
              0.2222222222222222,
              "#7201a8"
             ],
             [
              0.3333333333333333,
              "#9c179e"
             ],
             [
              0.4444444444444444,
              "#bd3786"
             ],
             [
              0.5555555555555556,
              "#d8576b"
             ],
             [
              0.6666666666666666,
              "#ed7953"
             ],
             [
              0.7777777777777778,
              "#fb9f3a"
             ],
             [
              0.8888888888888888,
              "#fdca26"
             ],
             [
              1,
              "#f0f921"
             ]
            ],
            "type": "heatmapgl"
           }
          ],
          "histogram": [
           {
            "marker": {
             "pattern": {
              "fillmode": "overlay",
              "size": 10,
              "solidity": 0.2
             }
            },
            "type": "histogram"
           }
          ],
          "histogram2d": [
           {
            "colorbar": {
             "outlinewidth": 0,
             "ticks": ""
            },
            "colorscale": [
             [
              0,
              "#0d0887"
             ],
             [
              0.1111111111111111,
              "#46039f"
             ],
             [
              0.2222222222222222,
              "#7201a8"
             ],
             [
              0.3333333333333333,
              "#9c179e"
             ],
             [
              0.4444444444444444,
              "#bd3786"
             ],
             [
              0.5555555555555556,
              "#d8576b"
             ],
             [
              0.6666666666666666,
              "#ed7953"
             ],
             [
              0.7777777777777778,
              "#fb9f3a"
             ],
             [
              0.8888888888888888,
              "#fdca26"
             ],
             [
              1,
              "#f0f921"
             ]
            ],
            "type": "histogram2d"
           }
          ],
          "histogram2dcontour": [
           {
            "colorbar": {
             "outlinewidth": 0,
             "ticks": ""
            },
            "colorscale": [
             [
              0,
              "#0d0887"
             ],
             [
              0.1111111111111111,
              "#46039f"
             ],
             [
              0.2222222222222222,
              "#7201a8"
             ],
             [
              0.3333333333333333,
              "#9c179e"
             ],
             [
              0.4444444444444444,
              "#bd3786"
             ],
             [
              0.5555555555555556,
              "#d8576b"
             ],
             [
              0.6666666666666666,
              "#ed7953"
             ],
             [
              0.7777777777777778,
              "#fb9f3a"
             ],
             [
              0.8888888888888888,
              "#fdca26"
             ],
             [
              1,
              "#f0f921"
             ]
            ],
            "type": "histogram2dcontour"
           }
          ],
          "mesh3d": [
           {
            "colorbar": {
             "outlinewidth": 0,
             "ticks": ""
            },
            "type": "mesh3d"
           }
          ],
          "parcoords": [
           {
            "line": {
             "colorbar": {
              "outlinewidth": 0,
              "ticks": ""
             }
            },
            "type": "parcoords"
           }
          ],
          "pie": [
           {
            "automargin": true,
            "type": "pie"
           }
          ],
          "scatter": [
           {
            "fillpattern": {
             "fillmode": "overlay",
             "size": 10,
             "solidity": 0.2
            },
            "type": "scatter"
           }
          ],
          "scatter3d": [
           {
            "line": {
             "colorbar": {
              "outlinewidth": 0,
              "ticks": ""
             }
            },
            "marker": {
             "colorbar": {
              "outlinewidth": 0,
              "ticks": ""
             }
            },
            "type": "scatter3d"
           }
          ],
          "scattercarpet": [
           {
            "marker": {
             "colorbar": {
              "outlinewidth": 0,
              "ticks": ""
             }
            },
            "type": "scattercarpet"
           }
          ],
          "scattergeo": [
           {
            "marker": {
             "colorbar": {
              "outlinewidth": 0,
              "ticks": ""
             }
            },
            "type": "scattergeo"
           }
          ],
          "scattergl": [
           {
            "marker": {
             "colorbar": {
              "outlinewidth": 0,
              "ticks": ""
             }
            },
            "type": "scattergl"
           }
          ],
          "scattermapbox": [
           {
            "marker": {
             "colorbar": {
              "outlinewidth": 0,
              "ticks": ""
             }
            },
            "type": "scattermapbox"
           }
          ],
          "scatterpolar": [
           {
            "marker": {
             "colorbar": {
              "outlinewidth": 0,
              "ticks": ""
             }
            },
            "type": "scatterpolar"
           }
          ],
          "scatterpolargl": [
           {
            "marker": {
             "colorbar": {
              "outlinewidth": 0,
              "ticks": ""
             }
            },
            "type": "scatterpolargl"
           }
          ],
          "scatterternary": [
           {
            "marker": {
             "colorbar": {
              "outlinewidth": 0,
              "ticks": ""
             }
            },
            "type": "scatterternary"
           }
          ],
          "surface": [
           {
            "colorbar": {
             "outlinewidth": 0,
             "ticks": ""
            },
            "colorscale": [
             [
              0,
              "#0d0887"
             ],
             [
              0.1111111111111111,
              "#46039f"
             ],
             [
              0.2222222222222222,
              "#7201a8"
             ],
             [
              0.3333333333333333,
              "#9c179e"
             ],
             [
              0.4444444444444444,
              "#bd3786"
             ],
             [
              0.5555555555555556,
              "#d8576b"
             ],
             [
              0.6666666666666666,
              "#ed7953"
             ],
             [
              0.7777777777777778,
              "#fb9f3a"
             ],
             [
              0.8888888888888888,
              "#fdca26"
             ],
             [
              1,
              "#f0f921"
             ]
            ],
            "type": "surface"
           }
          ],
          "table": [
           {
            "cells": {
             "fill": {
              "color": "#EBF0F8"
             },
             "line": {
              "color": "white"
             }
            },
            "header": {
             "fill": {
              "color": "#C8D4E3"
             },
             "line": {
              "color": "white"
             }
            },
            "type": "table"
           }
          ]
         },
         "layout": {
          "annotationdefaults": {
           "arrowcolor": "#2a3f5f",
           "arrowhead": 0,
           "arrowwidth": 1
          },
          "autotypenumbers": "strict",
          "coloraxis": {
           "colorbar": {
            "outlinewidth": 0,
            "ticks": ""
           }
          },
          "colorscale": {
           "diverging": [
            [
             0,
             "#8e0152"
            ],
            [
             0.1,
             "#c51b7d"
            ],
            [
             0.2,
             "#de77ae"
            ],
            [
             0.3,
             "#f1b6da"
            ],
            [
             0.4,
             "#fde0ef"
            ],
            [
             0.5,
             "#f7f7f7"
            ],
            [
             0.6,
             "#e6f5d0"
            ],
            [
             0.7,
             "#b8e186"
            ],
            [
             0.8,
             "#7fbc41"
            ],
            [
             0.9,
             "#4d9221"
            ],
            [
             1,
             "#276419"
            ]
           ],
           "sequential": [
            [
             0,
             "#0d0887"
            ],
            [
             0.1111111111111111,
             "#46039f"
            ],
            [
             0.2222222222222222,
             "#7201a8"
            ],
            [
             0.3333333333333333,
             "#9c179e"
            ],
            [
             0.4444444444444444,
             "#bd3786"
            ],
            [
             0.5555555555555556,
             "#d8576b"
            ],
            [
             0.6666666666666666,
             "#ed7953"
            ],
            [
             0.7777777777777778,
             "#fb9f3a"
            ],
            [
             0.8888888888888888,
             "#fdca26"
            ],
            [
             1,
             "#f0f921"
            ]
           ],
           "sequentialminus": [
            [
             0,
             "#0d0887"
            ],
            [
             0.1111111111111111,
             "#46039f"
            ],
            [
             0.2222222222222222,
             "#7201a8"
            ],
            [
             0.3333333333333333,
             "#9c179e"
            ],
            [
             0.4444444444444444,
             "#bd3786"
            ],
            [
             0.5555555555555556,
             "#d8576b"
            ],
            [
             0.6666666666666666,
             "#ed7953"
            ],
            [
             0.7777777777777778,
             "#fb9f3a"
            ],
            [
             0.8888888888888888,
             "#fdca26"
            ],
            [
             1,
             "#f0f921"
            ]
           ]
          },
          "colorway": [
           "#636efa",
           "#EF553B",
           "#00cc96",
           "#ab63fa",
           "#FFA15A",
           "#19d3f3",
           "#FF6692",
           "#B6E880",
           "#FF97FF",
           "#FECB52"
          ],
          "font": {
           "color": "#2a3f5f"
          },
          "geo": {
           "bgcolor": "white",
           "lakecolor": "white",
           "landcolor": "#E5ECF6",
           "showlakes": true,
           "showland": true,
           "subunitcolor": "white"
          },
          "hoverlabel": {
           "align": "left"
          },
          "hovermode": "closest",
          "mapbox": {
           "style": "light"
          },
          "paper_bgcolor": "white",
          "plot_bgcolor": "#E5ECF6",
          "polar": {
           "angularaxis": {
            "gridcolor": "white",
            "linecolor": "white",
            "ticks": ""
           },
           "bgcolor": "#E5ECF6",
           "radialaxis": {
            "gridcolor": "white",
            "linecolor": "white",
            "ticks": ""
           }
          },
          "scene": {
           "xaxis": {
            "backgroundcolor": "#E5ECF6",
            "gridcolor": "white",
            "gridwidth": 2,
            "linecolor": "white",
            "showbackground": true,
            "ticks": "",
            "zerolinecolor": "white"
           },
           "yaxis": {
            "backgroundcolor": "#E5ECF6",
            "gridcolor": "white",
            "gridwidth": 2,
            "linecolor": "white",
            "showbackground": true,
            "ticks": "",
            "zerolinecolor": "white"
           },
           "zaxis": {
            "backgroundcolor": "#E5ECF6",
            "gridcolor": "white",
            "gridwidth": 2,
            "linecolor": "white",
            "showbackground": true,
            "ticks": "",
            "zerolinecolor": "white"
           }
          },
          "shapedefaults": {
           "line": {
            "color": "#2a3f5f"
           }
          },
          "ternary": {
           "aaxis": {
            "gridcolor": "white",
            "linecolor": "white",
            "ticks": ""
           },
           "baxis": {
            "gridcolor": "white",
            "linecolor": "white",
            "ticks": ""
           },
           "bgcolor": "#E5ECF6",
           "caxis": {
            "gridcolor": "white",
            "linecolor": "white",
            "ticks": ""
           }
          },
          "title": {
           "x": 0.05
          },
          "xaxis": {
           "automargin": true,
           "gridcolor": "white",
           "linecolor": "white",
           "ticks": "",
           "title": {
            "standoff": 15
           },
           "zerolinecolor": "white",
           "zerolinewidth": 2
          },
          "yaxis": {
           "automargin": true,
           "gridcolor": "white",
           "linecolor": "white",
           "ticks": "",
           "title": {
            "standoff": 15
           },
           "zerolinecolor": "white",
           "zerolinewidth": 2
          }
         }
        },
        "title": {
         "text": "Label: Uxie"
        },
        "width": 300,
        "xaxis": {
         "anchor": "y",
         "domain": [
          0,
          1
         ]
        },
        "yaxis": {
         "anchor": "x",
         "domain": [
          0,
          1
         ]
        }
       }
      }
     },
     "metadata": {},
     "output_type": "display_data"
    }
   ],
   "source": [
    "plot_n_images(train_ds, 5)"
   ]
  },
  {
   "cell_type": "code",
   "execution_count": 10,
   "metadata": {},
   "outputs": [],
   "source": [
    "# Define the EfficientNetB4 model\n",
    "base_model = EfficientNetB4(include_top=False, input_shape=input_shape, pooling='avg', weights='imagenet')\n",
    "\n",
    "# Freeze the base model\n",
    "base_model.trainable = False\n",
    "\n",
    "# Define the model inputs\n",
    "inputs = tf.keras.Input(shape=input_shape)\n",
    "\n",
    "x = base_model(inputs, training=False)\n",
    "x = tf.keras.layers.Dense(512, activation='relu')(x)\n",
    "x = tf.keras.layers.Dropout(0.2)(x)\n",
    "x = tf.keras.layers.Dense(256, activation='relu')(x)\n",
    "x = tf.keras.layers.Dropout(0.2)(x)\n",
    "x = tf.keras.layers.Dense(len(class_names), activation='softmax')(x)\n",
    "\n",
    "# Define the model\n",
    "model = tf.keras.Model(inputs, x)\n",
    "\n",
    "# Compile the model\n",
    "model.compile(optimizer='adam', loss='categorical_crossentropy', metrics=['accuracy', 'top_k_categorical_accuracy'])"
   ]
  },
  {
   "cell_type": "code",
   "execution_count": 11,
   "metadata": {},
   "outputs": [
    {
     "name": "stdout",
     "output_type": "stream",
     "text": [
      "Model: \"model\"\n",
      "_________________________________________________________________\n",
      " Layer (type)                Output Shape              Param #   \n",
      "=================================================================\n",
      " input_2 (InputLayer)        [(None, 128, 128, 3)]     0         \n",
      "                                                                 \n",
      " efficientnetb4 (Functional)  (None, 1792)             17673823  \n",
      "                                                                 \n",
      " dense (Dense)               (None, 512)               918016    \n",
      "                                                                 \n",
      " dropout (Dropout)           (None, 512)               0         \n",
      "                                                                 \n",
      " dense_1 (Dense)             (None, 256)               131328    \n",
      "                                                                 \n",
      " dropout_1 (Dropout)         (None, 256)               0         \n",
      "                                                                 \n",
      " dense_2 (Dense)             (None, 905)               232585    \n",
      "                                                                 \n",
      "=================================================================\n",
      "Total params: 18,955,752\n",
      "Trainable params: 1,281,929\n",
      "Non-trainable params: 17,673,823\n",
      "_________________________________________________________________\n"
     ]
    }
   ],
   "source": [
    "model.summary()"
   ]
  },
  {
   "cell_type": "code",
   "execution_count": 12,
   "metadata": {},
   "outputs": [
    {
     "name": "stdout",
     "output_type": "stream",
     "text": [
      "Epoch 1/25\n",
      "348/348 [==============================] - 73s 92ms/step - loss: 6.0849 - accuracy: 0.0659 - top_k_categorical_accuracy: 0.1176 - val_loss: 5.0106 - val_accuracy: 0.1400 - val_top_k_categorical_accuracy: 0.2639\n",
      "Epoch 2/25\n",
      "348/348 [==============================] - 37s 66ms/step - loss: 3.9595 - accuracy: 0.2408 - top_k_categorical_accuracy: 0.4296 - val_loss: 3.2312 - val_accuracy: 0.3729 - val_top_k_categorical_accuracy: 0.5842\n",
      "Epoch 3/25\n",
      "348/348 [==============================] - 38s 65ms/step - loss: 2.6063 - accuracy: 0.4236 - top_k_categorical_accuracy: 0.6640 - val_loss: 2.4163 - val_accuracy: 0.5011 - val_top_k_categorical_accuracy: 0.7142\n",
      "Epoch 4/25\n",
      "348/348 [==============================] - 42s 73ms/step - loss: 1.8880 - accuracy: 0.5488 - top_k_categorical_accuracy: 0.7949 - val_loss: 2.0123 - val_accuracy: 0.5720 - val_top_k_categorical_accuracy: 0.7779\n",
      "Epoch 5/25\n",
      "348/348 [==============================] - 43s 74ms/step - loss: 1.4627 - accuracy: 0.6292 - top_k_categorical_accuracy: 0.8580 - val_loss: 1.8168 - val_accuracy: 0.6246 - val_top_k_categorical_accuracy: 0.8067\n",
      "Epoch 6/25\n",
      "348/348 [==============================] - 41s 72ms/step - loss: 1.2074 - accuracy: 0.6876 - top_k_categorical_accuracy: 0.8921 - val_loss: 1.6069 - val_accuracy: 0.6587 - val_top_k_categorical_accuracy: 0.8305\n",
      "Epoch 7/25\n",
      "348/348 [==============================] - 42s 71ms/step - loss: 1.0110 - accuracy: 0.7318 - top_k_categorical_accuracy: 0.9188 - val_loss: 1.6030 - val_accuracy: 0.6670 - val_top_k_categorical_accuracy: 0.8395\n",
      "Epoch 8/25\n",
      "348/348 [==============================] - 42s 71ms/step - loss: 0.8832 - accuracy: 0.7623 - top_k_categorical_accuracy: 0.9330 - val_loss: 1.5368 - val_accuracy: 0.6811 - val_top_k_categorical_accuracy: 0.8456\n",
      "Epoch 9/25\n",
      "348/348 [==============================] - 42s 72ms/step - loss: 0.7683 - accuracy: 0.7890 - top_k_categorical_accuracy: 0.9498 - val_loss: 1.4914 - val_accuracy: 0.6958 - val_top_k_categorical_accuracy: 0.8521\n",
      "Epoch 10/25\n",
      "348/348 [==============================] - 43s 74ms/step - loss: 0.6962 - accuracy: 0.8028 - top_k_categorical_accuracy: 0.9560 - val_loss: 1.3734 - val_accuracy: 0.7124 - val_top_k_categorical_accuracy: 0.8657\n",
      "Epoch 11/25\n",
      "348/348 [==============================] - 41s 71ms/step - loss: 0.6432 - accuracy: 0.8184 - top_k_categorical_accuracy: 0.9621 - val_loss: 1.4263 - val_accuracy: 0.7070 - val_top_k_categorical_accuracy: 0.8643\n",
      "Epoch 12/25\n",
      "348/348 [==============================] - 45s 73ms/step - loss: 0.5872 - accuracy: 0.8306 - top_k_categorical_accuracy: 0.9671 - val_loss: 1.4048 - val_accuracy: 0.7199 - val_top_k_categorical_accuracy: 0.8701\n",
      "Epoch 13/25\n",
      "348/348 [==============================] - 43s 73ms/step - loss: 0.5376 - accuracy: 0.8444 - top_k_categorical_accuracy: 0.9728 - val_loss: 1.4452 - val_accuracy: 0.7088 - val_top_k_categorical_accuracy: 0.8675\n",
      "Epoch 14/25\n",
      "348/348 [==============================] - 40s 72ms/step - loss: 0.4971 - accuracy: 0.8587 - top_k_categorical_accuracy: 0.9742 - val_loss: 1.4047 - val_accuracy: 0.7307 - val_top_k_categorical_accuracy: 0.8719\n",
      "Epoch 15/25\n",
      "348/348 [==============================] - 42s 71ms/step - loss: 0.4776 - accuracy: 0.8586 - top_k_categorical_accuracy: 0.9763 - val_loss: 1.4374 - val_accuracy: 0.7203 - val_top_k_categorical_accuracy: 0.8751\n",
      "Epoch 16/25\n",
      "348/348 [==============================] - 43s 73ms/step - loss: 0.4370 - accuracy: 0.8718 - top_k_categorical_accuracy: 0.9789 - val_loss: 1.3548 - val_accuracy: 0.7383 - val_top_k_categorical_accuracy: 0.8787\n",
      "Epoch 17/25\n",
      "348/348 [==============================] - 41s 72ms/step - loss: 0.4054 - accuracy: 0.8809 - top_k_categorical_accuracy: 0.9818 - val_loss: 1.4089 - val_accuracy: 0.7401 - val_top_k_categorical_accuracy: 0.8862\n",
      "Epoch 18/25\n",
      "348/348 [==============================] - 42s 74ms/step - loss: 0.4297 - accuracy: 0.8749 - top_k_categorical_accuracy: 0.9816 - val_loss: 1.4034 - val_accuracy: 0.7437 - val_top_k_categorical_accuracy: 0.8823\n",
      "Epoch 19/25\n",
      "348/348 [==============================] - 42s 74ms/step - loss: 0.3975 - accuracy: 0.8816 - top_k_categorical_accuracy: 0.9829 - val_loss: 1.4153 - val_accuracy: 0.7358 - val_top_k_categorical_accuracy: 0.8816\n",
      "Epoch 20/25\n",
      "348/348 [==============================] - 41s 73ms/step - loss: 0.3910 - accuracy: 0.8845 - top_k_categorical_accuracy: 0.9851 - val_loss: 1.4113 - val_accuracy: 0.7520 - val_top_k_categorical_accuracy: 0.8877\n",
      "Epoch 21/25\n",
      "348/348 [==============================] - 42s 72ms/step - loss: 0.3642 - accuracy: 0.8927 - top_k_categorical_accuracy: 0.9857 - val_loss: 1.4816 - val_accuracy: 0.7329 - val_top_k_categorical_accuracy: 0.8772\n",
      "Epoch 22/25\n",
      "348/348 [==============================] - 41s 71ms/step - loss: 0.3585 - accuracy: 0.8942 - top_k_categorical_accuracy: 0.9861 - val_loss: 1.4978 - val_accuracy: 0.7423 - val_top_k_categorical_accuracy: 0.8898\n",
      "Epoch 23/25\n",
      "348/348 [==============================] - 43s 73ms/step - loss: 0.3581 - accuracy: 0.8951 - top_k_categorical_accuracy: 0.9860 - val_loss: 1.5555 - val_accuracy: 0.7336 - val_top_k_categorical_accuracy: 0.8794\n",
      "Epoch 24/25\n",
      "348/348 [==============================] - 42s 74ms/step - loss: 0.3287 - accuracy: 0.9060 - top_k_categorical_accuracy: 0.9877 - val_loss: 1.5779 - val_accuracy: 0.7318 - val_top_k_categorical_accuracy: 0.8769\n",
      "Epoch 25/25\n",
      "348/348 [==============================] - 42s 72ms/step - loss: 0.3378 - accuracy: 0.9027 - top_k_categorical_accuracy: 0.9870 - val_loss: 1.5226 - val_accuracy: 0.7451 - val_top_k_categorical_accuracy: 0.8873\n"
     ]
    }
   ],
   "source": [
    "history = model.fit(train_ds, batch_size=batch_size, validation_data=val_ds, epochs=25)"
   ]
  },
  {
   "cell_type": "code",
   "execution_count": 21,
   "metadata": {},
   "outputs": [],
   "source": [
    "cnn = tf.keras.Sequential()\n",
    "cnn.add(tf.keras.layers.Conv2D(32, (3, 3), activation='relu', input_shape=input_shape))\n",
    "cnn.add(tf.keras.layers.BatchNormalization())\n",
    "cnn.add(tf.keras.layers.MaxPooling2D((2, 2)))\n",
    "cnn.add(tf.keras.layers.Dropout(0.4))\n",
    "\n",
    "cnn.add(tf.keras.layers.Conv2D(64, (5, 5), activation='relu'))\n",
    "cnn.add(tf.keras.layers.BatchNormalization())\n",
    "cnn.add(tf.keras.layers.MaxPooling2D((2, 2)))\n",
    "cnn.add(tf.keras.layers.Dropout(0.4))\n",
    "\n",
    "cnn.add(tf.keras.layers.Conv2D(64, (5, 5), activation='relu'))\n",
    "cnn.add(tf.keras.layers.BatchNormalization())\n",
    "cnn.add(tf.keras.layers.MaxPooling2D((2, 2)))\n",
    "cnn.add(tf.keras.layers.Dropout(0.4))\n",
    "\n",
    "cnn.add(tf.keras.layers.Conv2D(128, (8, 8), activation='relu'))\n",
    "cnn.add(tf.keras.layers.BatchNormalization())\n",
    "cnn.add(tf.keras.layers.MaxPooling2D((2, 2)))\n",
    "cnn.add(tf.keras.layers.Dropout(0.4))\n",
    "\n",
    "cnn.add(tf.keras.layers.Flatten())\n",
    "cnn.add(tf.keras.layers.Dense(512, activation='relu'))\n",
    "cnn.add(tf.keras.layers.BatchNormalization())\n",
    "cnn.add(tf.keras.layers.Dropout(0.5))\n",
    "cnn.add(tf.keras.layers.Dense(256, activation='relu'))\n",
    "cnn.add(tf.keras.layers.BatchNormalization())\n",
    "cnn.add(tf.keras.layers.Dropout(0.5))\n",
    "cnn.add(tf.keras.layers.Dense(len(class_names), activation='softmax'))\n",
    "\n",
    "cnn.compile(optimizer='adam', loss='categorical_crossentropy', metrics=['accuracy', 'top_k_categorical_accuracy'])"
   ]
  },
  {
   "cell_type": "code",
   "execution_count": 73,
   "metadata": {},
   "outputs": [
    {
     "name": "stdout",
     "output_type": "stream",
     "text": [
      "Model: \"sequential_3\"\n",
      "_________________________________________________________________\n",
      " Layer (type)                Output Shape              Param #   \n",
      "=================================================================\n",
      " conv2d_8 (Conv2D)           (None, 126, 126, 32)      896       \n",
      "                                                                 \n",
      " batch_normalization_12 (Bat  (None, 126, 126, 32)     128       \n",
      " chNormalization)                                                \n",
      "                                                                 \n",
      " max_pooling2d_8 (MaxPooling  (None, 63, 63, 32)       0         \n",
      " 2D)                                                             \n",
      "                                                                 \n",
      " dropout_14 (Dropout)        (None, 63, 63, 32)        0         \n",
      "                                                                 \n",
      " conv2d_9 (Conv2D)           (None, 59, 59, 64)        51264     \n",
      "                                                                 \n",
      " batch_normalization_13 (Bat  (None, 59, 59, 64)       256       \n",
      " chNormalization)                                                \n",
      "                                                                 \n",
      " max_pooling2d_9 (MaxPooling  (None, 29, 29, 64)       0         \n",
      " 2D)                                                             \n",
      "                                                                 \n",
      " dropout_15 (Dropout)        (None, 29, 29, 64)        0         \n",
      "                                                                 \n",
      " conv2d_10 (Conv2D)          (None, 25, 25, 64)        102464    \n",
      "                                                                 \n",
      " batch_normalization_14 (Bat  (None, 25, 25, 64)       256       \n",
      " chNormalization)                                                \n",
      "                                                                 \n",
      " max_pooling2d_10 (MaxPoolin  (None, 12, 12, 64)       0         \n",
      " g2D)                                                            \n",
      "                                                                 \n",
      " dropout_16 (Dropout)        (None, 12, 12, 64)        0         \n",
      "                                                                 \n",
      " conv2d_11 (Conv2D)          (None, 5, 5, 128)         524416    \n",
      "                                                                 \n",
      " batch_normalization_15 (Bat  (None, 5, 5, 128)        512       \n",
      " chNormalization)                                                \n",
      "                                                                 \n",
      " max_pooling2d_11 (MaxPoolin  (None, 2, 2, 128)        0         \n",
      " g2D)                                                            \n",
      "                                                                 \n",
      " dropout_17 (Dropout)        (None, 2, 2, 128)         0         \n",
      "                                                                 \n",
      " flatten_2 (Flatten)         (None, 512)               0         \n",
      "                                                                 \n",
      " dense_9 (Dense)             (None, 512)               262656    \n",
      "                                                                 \n",
      " batch_normalization_16 (Bat  (None, 512)              2048      \n",
      " chNormalization)                                                \n",
      "                                                                 \n",
      " dropout_18 (Dropout)        (None, 512)               0         \n",
      "                                                                 \n",
      " dense_10 (Dense)            (None, 256)               131328    \n",
      "                                                                 \n",
      " batch_normalization_17 (Bat  (None, 256)              1024      \n",
      " chNormalization)                                                \n",
      "                                                                 \n",
      " dropout_19 (Dropout)        (None, 256)               0         \n",
      "                                                                 \n",
      " dense_11 (Dense)            (None, 905)               232585    \n",
      "                                                                 \n",
      "=================================================================\n",
      "Total params: 1,309,833\n",
      "Trainable params: 1,307,721\n",
      "Non-trainable params: 2,112\n",
      "_________________________________________________________________\n"
     ]
    }
   ],
   "source": [
    "cnn.summary()"
   ]
  },
  {
   "cell_type": "code",
   "execution_count": 22,
   "metadata": {},
   "outputs": [
    {
     "name": "stdout",
     "output_type": "stream",
     "text": [
      "Epoch 1/25\n",
      "348/348 [==============================] - 32s 41ms/step - loss: 6.6640 - accuracy: 0.0251 - top_k_categorical_accuracy: 0.0490 - val_loss: 6.1262 - val_accuracy: 0.0403 - val_top_k_categorical_accuracy: 0.0886\n",
      "Epoch 2/25\n",
      "348/348 [==============================] - 25s 39ms/step - loss: 5.8768 - accuracy: 0.0488 - top_k_categorical_accuracy: 0.1095 - val_loss: 5.5835 - val_accuracy: 0.0637 - val_top_k_categorical_accuracy: 0.1393\n",
      "Epoch 3/25\n",
      "348/348 [==============================] - 25s 39ms/step - loss: 5.3606 - accuracy: 0.0717 - top_k_categorical_accuracy: 0.1647 - val_loss: 5.3938 - val_accuracy: 0.0688 - val_top_k_categorical_accuracy: 0.1785\n",
      "Epoch 4/25\n",
      "348/348 [==============================] - 25s 39ms/step - loss: 4.9576 - accuracy: 0.0950 - top_k_categorical_accuracy: 0.2262 - val_loss: 4.7968 - val_accuracy: 0.1112 - val_top_k_categorical_accuracy: 0.2725\n",
      "Epoch 5/25\n",
      "348/348 [==============================] - 25s 39ms/step - loss: 4.5873 - accuracy: 0.1257 - top_k_categorical_accuracy: 0.2905 - val_loss: 4.5707 - val_accuracy: 0.1368 - val_top_k_categorical_accuracy: 0.3150\n",
      "Epoch 6/25\n",
      "348/348 [==============================] - 24s 39ms/step - loss: 4.3030 - accuracy: 0.1512 - top_k_categorical_accuracy: 0.3424 - val_loss: 4.3120 - val_accuracy: 0.1767 - val_top_k_categorical_accuracy: 0.3715\n",
      "Epoch 7/25\n",
      "348/348 [==============================] - 25s 39ms/step - loss: 4.0423 - accuracy: 0.1806 - top_k_categorical_accuracy: 0.3976 - val_loss: 4.4651 - val_accuracy: 0.1710 - val_top_k_categorical_accuracy: 0.3751\n",
      "Epoch 8/25\n",
      "348/348 [==============================] - 25s 39ms/step - loss: 3.7886 - accuracy: 0.2145 - top_k_categorical_accuracy: 0.4535 - val_loss: 4.5519 - val_accuracy: 0.1541 - val_top_k_categorical_accuracy: 0.3305\n",
      "Epoch 9/25\n",
      "348/348 [==============================] - 25s 39ms/step - loss: 3.5805 - accuracy: 0.2451 - top_k_categorical_accuracy: 0.4980 - val_loss: 3.6243 - val_accuracy: 0.2714 - val_top_k_categorical_accuracy: 0.5022\n",
      "Epoch 10/25\n",
      "348/348 [==============================] - 25s 40ms/step - loss: 3.3700 - accuracy: 0.2721 - top_k_categorical_accuracy: 0.5317 - val_loss: 4.7231 - val_accuracy: 0.1847 - val_top_k_categorical_accuracy: 0.3798\n",
      "Epoch 11/25\n",
      "348/348 [==============================] - 25s 40ms/step - loss: 3.1849 - accuracy: 0.3033 - top_k_categorical_accuracy: 0.5724 - val_loss: 3.5138 - val_accuracy: 0.3042 - val_top_k_categorical_accuracy: 0.5252\n",
      "Epoch 12/25\n",
      "348/348 [==============================] - 25s 40ms/step - loss: 3.0552 - accuracy: 0.3189 - top_k_categorical_accuracy: 0.5949 - val_loss: 4.8322 - val_accuracy: 0.1803 - val_top_k_categorical_accuracy: 0.3772\n",
      "Epoch 13/25\n",
      "348/348 [==============================] - 25s 40ms/step - loss: 2.9439 - accuracy: 0.3353 - top_k_categorical_accuracy: 0.6175 - val_loss: 3.7849 - val_accuracy: 0.2707 - val_top_k_categorical_accuracy: 0.4917\n",
      "Epoch 14/25\n",
      "348/348 [==============================] - 24s 40ms/step - loss: 2.8079 - accuracy: 0.3616 - top_k_categorical_accuracy: 0.6384 - val_loss: 3.4864 - val_accuracy: 0.2973 - val_top_k_categorical_accuracy: 0.5378\n",
      "Epoch 15/25\n",
      "348/348 [==============================] - 25s 41ms/step - loss: 2.7201 - accuracy: 0.3729 - top_k_categorical_accuracy: 0.6628 - val_loss: 7.4769 - val_accuracy: 0.1030 - val_top_k_categorical_accuracy: 0.2415\n",
      "Epoch 16/25\n",
      "348/348 [==============================] - 25s 41ms/step - loss: 2.6098 - accuracy: 0.3959 - top_k_categorical_accuracy: 0.6815 - val_loss: 4.5004 - val_accuracy: 0.2433 - val_top_k_categorical_accuracy: 0.4323\n",
      "Epoch 17/25\n",
      "348/348 [==============================] - 24s 40ms/step - loss: 2.5338 - accuracy: 0.4080 - top_k_categorical_accuracy: 0.6980 - val_loss: 2.9528 - val_accuracy: 0.3945 - val_top_k_categorical_accuracy: 0.6332\n",
      "Epoch 18/25\n",
      "348/348 [==============================] - 25s 40ms/step - loss: 2.4491 - accuracy: 0.4255 - top_k_categorical_accuracy: 0.7115 - val_loss: 4.6284 - val_accuracy: 0.2390 - val_top_k_categorical_accuracy: 0.4431\n",
      "Epoch 19/25\n",
      "348/348 [==============================] - 25s 40ms/step - loss: 2.3783 - accuracy: 0.4367 - top_k_categorical_accuracy: 0.7251 - val_loss: 4.7926 - val_accuracy: 0.2387 - val_top_k_categorical_accuracy: 0.4388\n",
      "Epoch 20/25\n",
      "348/348 [==============================] - 25s 41ms/step - loss: 2.3005 - accuracy: 0.4519 - top_k_categorical_accuracy: 0.7316 - val_loss: 2.5736 - val_accuracy: 0.4503 - val_top_k_categorical_accuracy: 0.6926\n",
      "Epoch 21/25\n",
      "348/348 [==============================] - 25s 40ms/step - loss: 2.2547 - accuracy: 0.4579 - top_k_categorical_accuracy: 0.7415 - val_loss: 3.0139 - val_accuracy: 0.3812 - val_top_k_categorical_accuracy: 0.6292\n",
      "Epoch 22/25\n",
      "348/348 [==============================] - 28s 50ms/step - loss: 2.2046 - accuracy: 0.4689 - top_k_categorical_accuracy: 0.7531 - val_loss: 2.7458 - val_accuracy: 0.4269 - val_top_k_categorical_accuracy: 0.6649\n",
      "Epoch 23/25\n",
      "348/348 [==============================] - 29s 50ms/step - loss: 2.1485 - accuracy: 0.4798 - top_k_categorical_accuracy: 0.7599 - val_loss: 5.2003 - val_accuracy: 0.2502 - val_top_k_categorical_accuracy: 0.4543\n",
      "Epoch 24/25\n",
      "348/348 [==============================] - 30s 45ms/step - loss: 2.1012 - accuracy: 0.4930 - top_k_categorical_accuracy: 0.7663 - val_loss: 4.6589 - val_accuracy: 0.2714 - val_top_k_categorical_accuracy: 0.4687\n",
      "Epoch 25/25\n",
      "348/348 [==============================] - 25s 39ms/step - loss: 2.0694 - accuracy: 0.4906 - top_k_categorical_accuracy: 0.7756 - val_loss: 4.5636 - val_accuracy: 0.2862 - val_top_k_categorical_accuracy: 0.4993\n"
     ]
    }
   ],
   "source": [
    "history_cnn = cnn.fit(train_ds, batch_size=batch_size, validation_data=val_ds, epochs=25)"
   ]
  },
  {
   "cell_type": "code",
   "execution_count": 77,
   "metadata": {},
   "outputs": [],
   "source": [
    "training_results = {\n",
    "    \"efficientnetB4\": \n",
    "        {\"training_time\" : 1073,\n",
    "            \"trainable_weights\" : 1281929,\n",
    "            \"non_trainable_weights\" : 17673823,\n",
    "        },\n",
    "    \"CNN\":\n",
    "        {\"training_time\" : 637,\n",
    "            \"trainable_weights\" : 1307721,\n",
    "            \"non_trainable_weights\" : 2112,\n",
    "        }\n",
    "}"
   ]
  },
  {
   "cell_type": "code",
   "execution_count": 78,
   "metadata": {},
   "outputs": [
    {
     "name": "stdout",
     "output_type": "stream",
     "text": [
      "                training_time  trainable_weights  non_trainable_weights\n",
      "efficientnetB4           1073            1281929               17673823\n",
      "CNN                       637            1307721                   2112\n"
     ]
    }
   ],
   "source": [
    "import pandas as pd\n",
    "df_plot = pd.DataFrame(training_results).T\n",
    "print(df_plot)"
   ]
  },
  {
   "cell_type": "code",
   "execution_count": 79,
   "metadata": {},
   "outputs": [
    {
     "data": {
      "application/vnd.plotly.v1+json": {
       "config": {
        "plotlyServerURL": "https://plot.ly"
       },
       "data": [
        {
         "name": "Trainable Weights",
         "type": "bar",
         "x": [
          "efficientnetB4",
          "CNN"
         ],
         "y": [
          1281929,
          1307721
         ]
        },
        {
         "name": "Non-Trainable Weights",
         "type": "bar",
         "x": [
          "efficientnetB4",
          "CNN"
         ],
         "y": [
          17673823,
          2112
         ]
        }
       ],
       "layout": {
        "barmode": "stack",
        "height": 500,
        "template": {
         "data": {
          "bar": [
           {
            "error_x": {
             "color": "#2a3f5f"
            },
            "error_y": {
             "color": "#2a3f5f"
            },
            "marker": {
             "line": {
              "color": "#E5ECF6",
              "width": 0.5
             },
             "pattern": {
              "fillmode": "overlay",
              "size": 10,
              "solidity": 0.2
             }
            },
            "type": "bar"
           }
          ],
          "barpolar": [
           {
            "marker": {
             "line": {
              "color": "#E5ECF6",
              "width": 0.5
             },
             "pattern": {
              "fillmode": "overlay",
              "size": 10,
              "solidity": 0.2
             }
            },
            "type": "barpolar"
           }
          ],
          "carpet": [
           {
            "aaxis": {
             "endlinecolor": "#2a3f5f",
             "gridcolor": "white",
             "linecolor": "white",
             "minorgridcolor": "white",
             "startlinecolor": "#2a3f5f"
            },
            "baxis": {
             "endlinecolor": "#2a3f5f",
             "gridcolor": "white",
             "linecolor": "white",
             "minorgridcolor": "white",
             "startlinecolor": "#2a3f5f"
            },
            "type": "carpet"
           }
          ],
          "choropleth": [
           {
            "colorbar": {
             "outlinewidth": 0,
             "ticks": ""
            },
            "type": "choropleth"
           }
          ],
          "contour": [
           {
            "colorbar": {
             "outlinewidth": 0,
             "ticks": ""
            },
            "colorscale": [
             [
              0,
              "#0d0887"
             ],
             [
              0.1111111111111111,
              "#46039f"
             ],
             [
              0.2222222222222222,
              "#7201a8"
             ],
             [
              0.3333333333333333,
              "#9c179e"
             ],
             [
              0.4444444444444444,
              "#bd3786"
             ],
             [
              0.5555555555555556,
              "#d8576b"
             ],
             [
              0.6666666666666666,
              "#ed7953"
             ],
             [
              0.7777777777777778,
              "#fb9f3a"
             ],
             [
              0.8888888888888888,
              "#fdca26"
             ],
             [
              1,
              "#f0f921"
             ]
            ],
            "type": "contour"
           }
          ],
          "contourcarpet": [
           {
            "colorbar": {
             "outlinewidth": 0,
             "ticks": ""
            },
            "type": "contourcarpet"
           }
          ],
          "heatmap": [
           {
            "colorbar": {
             "outlinewidth": 0,
             "ticks": ""
            },
            "colorscale": [
             [
              0,
              "#0d0887"
             ],
             [
              0.1111111111111111,
              "#46039f"
             ],
             [
              0.2222222222222222,
              "#7201a8"
             ],
             [
              0.3333333333333333,
              "#9c179e"
             ],
             [
              0.4444444444444444,
              "#bd3786"
             ],
             [
              0.5555555555555556,
              "#d8576b"
             ],
             [
              0.6666666666666666,
              "#ed7953"
             ],
             [
              0.7777777777777778,
              "#fb9f3a"
             ],
             [
              0.8888888888888888,
              "#fdca26"
             ],
             [
              1,
              "#f0f921"
             ]
            ],
            "type": "heatmap"
           }
          ],
          "heatmapgl": [
           {
            "colorbar": {
             "outlinewidth": 0,
             "ticks": ""
            },
            "colorscale": [
             [
              0,
              "#0d0887"
             ],
             [
              0.1111111111111111,
              "#46039f"
             ],
             [
              0.2222222222222222,
              "#7201a8"
             ],
             [
              0.3333333333333333,
              "#9c179e"
             ],
             [
              0.4444444444444444,
              "#bd3786"
             ],
             [
              0.5555555555555556,
              "#d8576b"
             ],
             [
              0.6666666666666666,
              "#ed7953"
             ],
             [
              0.7777777777777778,
              "#fb9f3a"
             ],
             [
              0.8888888888888888,
              "#fdca26"
             ],
             [
              1,
              "#f0f921"
             ]
            ],
            "type": "heatmapgl"
           }
          ],
          "histogram": [
           {
            "marker": {
             "pattern": {
              "fillmode": "overlay",
              "size": 10,
              "solidity": 0.2
             }
            },
            "type": "histogram"
           }
          ],
          "histogram2d": [
           {
            "colorbar": {
             "outlinewidth": 0,
             "ticks": ""
            },
            "colorscale": [
             [
              0,
              "#0d0887"
             ],
             [
              0.1111111111111111,
              "#46039f"
             ],
             [
              0.2222222222222222,
              "#7201a8"
             ],
             [
              0.3333333333333333,
              "#9c179e"
             ],
             [
              0.4444444444444444,
              "#bd3786"
             ],
             [
              0.5555555555555556,
              "#d8576b"
             ],
             [
              0.6666666666666666,
              "#ed7953"
             ],
             [
              0.7777777777777778,
              "#fb9f3a"
             ],
             [
              0.8888888888888888,
              "#fdca26"
             ],
             [
              1,
              "#f0f921"
             ]
            ],
            "type": "histogram2d"
           }
          ],
          "histogram2dcontour": [
           {
            "colorbar": {
             "outlinewidth": 0,
             "ticks": ""
            },
            "colorscale": [
             [
              0,
              "#0d0887"
             ],
             [
              0.1111111111111111,
              "#46039f"
             ],
             [
              0.2222222222222222,
              "#7201a8"
             ],
             [
              0.3333333333333333,
              "#9c179e"
             ],
             [
              0.4444444444444444,
              "#bd3786"
             ],
             [
              0.5555555555555556,
              "#d8576b"
             ],
             [
              0.6666666666666666,
              "#ed7953"
             ],
             [
              0.7777777777777778,
              "#fb9f3a"
             ],
             [
              0.8888888888888888,
              "#fdca26"
             ],
             [
              1,
              "#f0f921"
             ]
            ],
            "type": "histogram2dcontour"
           }
          ],
          "mesh3d": [
           {
            "colorbar": {
             "outlinewidth": 0,
             "ticks": ""
            },
            "type": "mesh3d"
           }
          ],
          "parcoords": [
           {
            "line": {
             "colorbar": {
              "outlinewidth": 0,
              "ticks": ""
             }
            },
            "type": "parcoords"
           }
          ],
          "pie": [
           {
            "automargin": true,
            "type": "pie"
           }
          ],
          "scatter": [
           {
            "fillpattern": {
             "fillmode": "overlay",
             "size": 10,
             "solidity": 0.2
            },
            "type": "scatter"
           }
          ],
          "scatter3d": [
           {
            "line": {
             "colorbar": {
              "outlinewidth": 0,
              "ticks": ""
             }
            },
            "marker": {
             "colorbar": {
              "outlinewidth": 0,
              "ticks": ""
             }
            },
            "type": "scatter3d"
           }
          ],
          "scattercarpet": [
           {
            "marker": {
             "colorbar": {
              "outlinewidth": 0,
              "ticks": ""
             }
            },
            "type": "scattercarpet"
           }
          ],
          "scattergeo": [
           {
            "marker": {
             "colorbar": {
              "outlinewidth": 0,
              "ticks": ""
             }
            },
            "type": "scattergeo"
           }
          ],
          "scattergl": [
           {
            "marker": {
             "colorbar": {
              "outlinewidth": 0,
              "ticks": ""
             }
            },
            "type": "scattergl"
           }
          ],
          "scattermapbox": [
           {
            "marker": {
             "colorbar": {
              "outlinewidth": 0,
              "ticks": ""
             }
            },
            "type": "scattermapbox"
           }
          ],
          "scatterpolar": [
           {
            "marker": {
             "colorbar": {
              "outlinewidth": 0,
              "ticks": ""
             }
            },
            "type": "scatterpolar"
           }
          ],
          "scatterpolargl": [
           {
            "marker": {
             "colorbar": {
              "outlinewidth": 0,
              "ticks": ""
             }
            },
            "type": "scatterpolargl"
           }
          ],
          "scatterternary": [
           {
            "marker": {
             "colorbar": {
              "outlinewidth": 0,
              "ticks": ""
             }
            },
            "type": "scatterternary"
           }
          ],
          "surface": [
           {
            "colorbar": {
             "outlinewidth": 0,
             "ticks": ""
            },
            "colorscale": [
             [
              0,
              "#0d0887"
             ],
             [
              0.1111111111111111,
              "#46039f"
             ],
             [
              0.2222222222222222,
              "#7201a8"
             ],
             [
              0.3333333333333333,
              "#9c179e"
             ],
             [
              0.4444444444444444,
              "#bd3786"
             ],
             [
              0.5555555555555556,
              "#d8576b"
             ],
             [
              0.6666666666666666,
              "#ed7953"
             ],
             [
              0.7777777777777778,
              "#fb9f3a"
             ],
             [
              0.8888888888888888,
              "#fdca26"
             ],
             [
              1,
              "#f0f921"
             ]
            ],
            "type": "surface"
           }
          ],
          "table": [
           {
            "cells": {
             "fill": {
              "color": "#EBF0F8"
             },
             "line": {
              "color": "white"
             }
            },
            "header": {
             "fill": {
              "color": "#C8D4E3"
             },
             "line": {
              "color": "white"
             }
            },
            "type": "table"
           }
          ]
         },
         "layout": {
          "annotationdefaults": {
           "arrowcolor": "#2a3f5f",
           "arrowhead": 0,
           "arrowwidth": 1
          },
          "autotypenumbers": "strict",
          "coloraxis": {
           "colorbar": {
            "outlinewidth": 0,
            "ticks": ""
           }
          },
          "colorscale": {
           "diverging": [
            [
             0,
             "#8e0152"
            ],
            [
             0.1,
             "#c51b7d"
            ],
            [
             0.2,
             "#de77ae"
            ],
            [
             0.3,
             "#f1b6da"
            ],
            [
             0.4,
             "#fde0ef"
            ],
            [
             0.5,
             "#f7f7f7"
            ],
            [
             0.6,
             "#e6f5d0"
            ],
            [
             0.7,
             "#b8e186"
            ],
            [
             0.8,
             "#7fbc41"
            ],
            [
             0.9,
             "#4d9221"
            ],
            [
             1,
             "#276419"
            ]
           ],
           "sequential": [
            [
             0,
             "#0d0887"
            ],
            [
             0.1111111111111111,
             "#46039f"
            ],
            [
             0.2222222222222222,
             "#7201a8"
            ],
            [
             0.3333333333333333,
             "#9c179e"
            ],
            [
             0.4444444444444444,
             "#bd3786"
            ],
            [
             0.5555555555555556,
             "#d8576b"
            ],
            [
             0.6666666666666666,
             "#ed7953"
            ],
            [
             0.7777777777777778,
             "#fb9f3a"
            ],
            [
             0.8888888888888888,
             "#fdca26"
            ],
            [
             1,
             "#f0f921"
            ]
           ],
           "sequentialminus": [
            [
             0,
             "#0d0887"
            ],
            [
             0.1111111111111111,
             "#46039f"
            ],
            [
             0.2222222222222222,
             "#7201a8"
            ],
            [
             0.3333333333333333,
             "#9c179e"
            ],
            [
             0.4444444444444444,
             "#bd3786"
            ],
            [
             0.5555555555555556,
             "#d8576b"
            ],
            [
             0.6666666666666666,
             "#ed7953"
            ],
            [
             0.7777777777777778,
             "#fb9f3a"
            ],
            [
             0.8888888888888888,
             "#fdca26"
            ],
            [
             1,
             "#f0f921"
            ]
           ]
          },
          "colorway": [
           "#636efa",
           "#EF553B",
           "#00cc96",
           "#ab63fa",
           "#FFA15A",
           "#19d3f3",
           "#FF6692",
           "#B6E880",
           "#FF97FF",
           "#FECB52"
          ],
          "font": {
           "color": "#2a3f5f"
          },
          "geo": {
           "bgcolor": "white",
           "lakecolor": "white",
           "landcolor": "#E5ECF6",
           "showlakes": true,
           "showland": true,
           "subunitcolor": "white"
          },
          "hoverlabel": {
           "align": "left"
          },
          "hovermode": "closest",
          "mapbox": {
           "style": "light"
          },
          "paper_bgcolor": "white",
          "plot_bgcolor": "#E5ECF6",
          "polar": {
           "angularaxis": {
            "gridcolor": "white",
            "linecolor": "white",
            "ticks": ""
           },
           "bgcolor": "#E5ECF6",
           "radialaxis": {
            "gridcolor": "white",
            "linecolor": "white",
            "ticks": ""
           }
          },
          "scene": {
           "xaxis": {
            "backgroundcolor": "#E5ECF6",
            "gridcolor": "white",
            "gridwidth": 2,
            "linecolor": "white",
            "showbackground": true,
            "ticks": "",
            "zerolinecolor": "white"
           },
           "yaxis": {
            "backgroundcolor": "#E5ECF6",
            "gridcolor": "white",
            "gridwidth": 2,
            "linecolor": "white",
            "showbackground": true,
            "ticks": "",
            "zerolinecolor": "white"
           },
           "zaxis": {
            "backgroundcolor": "#E5ECF6",
            "gridcolor": "white",
            "gridwidth": 2,
            "linecolor": "white",
            "showbackground": true,
            "ticks": "",
            "zerolinecolor": "white"
           }
          },
          "shapedefaults": {
           "line": {
            "color": "#2a3f5f"
           }
          },
          "ternary": {
           "aaxis": {
            "gridcolor": "white",
            "linecolor": "white",
            "ticks": ""
           },
           "baxis": {
            "gridcolor": "white",
            "linecolor": "white",
            "ticks": ""
           },
           "bgcolor": "#E5ECF6",
           "caxis": {
            "gridcolor": "white",
            "linecolor": "white",
            "ticks": ""
           }
          },
          "title": {
           "x": 0.05
          },
          "xaxis": {
           "automargin": true,
           "gridcolor": "white",
           "linecolor": "white",
           "ticks": "",
           "title": {
            "standoff": 15
           },
           "zerolinecolor": "white",
           "zerolinewidth": 2
          },
          "yaxis": {
           "automargin": true,
           "gridcolor": "white",
           "linecolor": "white",
           "ticks": "",
           "title": {
            "standoff": 15
           },
           "zerolinecolor": "white",
           "zerolinewidth": 2
          }
         }
        },
        "title": {
         "text": "Trainable and Non-Trainable Weights"
        },
        "width": 800
       }
      }
     },
     "metadata": {},
     "output_type": "display_data"
    }
   ],
   "source": [
    "# plot weights and then training time on 2 different y axes\n",
    "fig = go.Figure()\n",
    "fig.add_trace(go.Bar(x=df_plot.index, y=df_plot[\"trainable_weights\"], name=\"Trainable Weights\"))\n",
    "fig.add_trace(go.Bar(x=df_plot.index, y=df_plot[\"non_trainable_weights\"], name=\"Non-Trainable Weights\"))\n",
    "fig.update_layout(barmode='stack', title=\"Trainable and Non-Trainable Weights\")\n",
    "fig.update_layout(width=800, height=500)\n",
    "fig.show()"
   ]
  },
  {
   "cell_type": "code",
   "execution_count": 14,
   "metadata": {},
   "outputs": [
    {
     "data": {
      "application/vnd.plotly.v1+json": {
       "config": {
        "plotlyServerURL": "https://plot.ly"
       },
       "data": [
        {
         "name": "Training Loss",
         "type": "scatter",
         "x": [
          0,
          1,
          2,
          3,
          4,
          5,
          6,
          7,
          8,
          9,
          10,
          11,
          12,
          13,
          14,
          15,
          16,
          17,
          18,
          19,
          20,
          21,
          22,
          23,
          24
         ],
         "y": [
          6.084902763366699,
          3.9594976902008057,
          2.606334686279297,
          1.8880352973937988,
          1.4627331495285034,
          1.2074236869812012,
          1.010951042175293,
          0.8831997513771057,
          0.7683170437812805,
          0.6962368488311768,
          0.6432498097419739,
          0.5871609449386597,
          0.5376380681991577,
          0.49707135558128357,
          0.4775618612766266,
          0.4369860589504242,
          0.40544843673706055,
          0.42973586916923523,
          0.3975343704223633,
          0.39096495509147644,
          0.36415863037109375,
          0.35847365856170654,
          0.3580760061740875,
          0.3286842107772827,
          0.33780884742736816
         ]
        },
        {
         "name": "Validation Loss",
         "type": "scatter",
         "x": [
          0,
          1,
          2,
          3,
          4,
          5,
          6,
          7,
          8,
          9,
          10,
          11,
          12,
          13,
          14,
          15,
          16,
          17,
          18,
          19,
          20,
          21,
          22,
          23,
          24
         ],
         "y": [
          5.010629653930664,
          3.23124361038208,
          2.4163198471069336,
          2.0122601985931396,
          1.816811203956604,
          1.6068938970565796,
          1.6030250787734985,
          1.5367580652236938,
          1.4913986921310425,
          1.3734413385391235,
          1.4262981414794922,
          1.4047983884811401,
          1.44516921043396,
          1.4047353267669678,
          1.4373661279678345,
          1.3548380136489868,
          1.4089221954345703,
          1.4033652544021606,
          1.415297031402588,
          1.4113316535949707,
          1.4815568923950195,
          1.497849464416504,
          1.5555436611175537,
          1.5778679847717285,
          1.5226387977600098
         ]
        },
        {
         "name": "Training Accuracy",
         "type": "scatter",
         "x": [
          0,
          1,
          2,
          3,
          4,
          5,
          6,
          7,
          8,
          9,
          10,
          11,
          12,
          13,
          14,
          15,
          16,
          17,
          18,
          19,
          20,
          21,
          22,
          23,
          24
         ],
         "y": [
          0.0659409835934639,
          0.24082404375076294,
          0.42362359166145325,
          0.5488485097885132,
          0.6291831731796265,
          0.6875674724578857,
          0.731827974319458,
          0.7623245716094971,
          0.7889528870582581,
          0.8028067946434021,
          0.8183699250221252,
          0.8306045532226562,
          0.8443684577941895,
          0.8586722016334534,
          0.8585821986198425,
          0.8718063831329346,
          0.8808923959732056,
          0.8748650550842285,
          0.8816120624542236,
          0.8844908475875854,
          0.8926772475242615,
          0.8942065238952637,
          0.8951061367988586,
          0.9059913754463196,
          0.9026628136634827
         ],
         "yaxis": "y2"
        },
        {
         "name": "Validation Accuracy",
         "type": "scatter",
         "x": [
          0,
          1,
          2,
          3,
          4,
          5,
          6,
          7,
          8,
          9,
          10,
          11,
          12,
          13,
          14,
          15,
          16,
          17,
          18,
          19,
          20,
          21,
          22,
          23,
          24
         ],
         "y": [
          0.14002880454063416,
          0.3729301691055298,
          0.5010799169540405,
          0.5719942450523376,
          0.6245500445365906,
          0.6587473154067993,
          0.6670266389846802,
          0.6810654997825623,
          0.6958243250846863,
          0.7123830318450928,
          0.7069834470748901,
          0.7199423909187317,
          0.7087832689285278,
          0.730741560459137,
          0.720302402973175,
          0.7383009195327759,
          0.7401008009910583,
          0.7437005043029785,
          0.7357811331748962,
          0.7519798278808594,
          0.732901394367218,
          0.7422606348991394,
          0.7336212992668152,
          0.7318214774131775,
          0.7451403737068176
         ],
         "yaxis": "y2"
        }
       ],
       "layout": {
        "height": 600,
        "legend": {
         "orientation": "h",
         "x": 1,
         "xanchor": "right",
         "y": 1.02,
         "yanchor": "bottom"
        },
        "template": {
         "data": {
          "bar": [
           {
            "error_x": {
             "color": "#2a3f5f"
            },
            "error_y": {
             "color": "#2a3f5f"
            },
            "marker": {
             "line": {
              "color": "#E5ECF6",
              "width": 0.5
             },
             "pattern": {
              "fillmode": "overlay",
              "size": 10,
              "solidity": 0.2
             }
            },
            "type": "bar"
           }
          ],
          "barpolar": [
           {
            "marker": {
             "line": {
              "color": "#E5ECF6",
              "width": 0.5
             },
             "pattern": {
              "fillmode": "overlay",
              "size": 10,
              "solidity": 0.2
             }
            },
            "type": "barpolar"
           }
          ],
          "carpet": [
           {
            "aaxis": {
             "endlinecolor": "#2a3f5f",
             "gridcolor": "white",
             "linecolor": "white",
             "minorgridcolor": "white",
             "startlinecolor": "#2a3f5f"
            },
            "baxis": {
             "endlinecolor": "#2a3f5f",
             "gridcolor": "white",
             "linecolor": "white",
             "minorgridcolor": "white",
             "startlinecolor": "#2a3f5f"
            },
            "type": "carpet"
           }
          ],
          "choropleth": [
           {
            "colorbar": {
             "outlinewidth": 0,
             "ticks": ""
            },
            "type": "choropleth"
           }
          ],
          "contour": [
           {
            "colorbar": {
             "outlinewidth": 0,
             "ticks": ""
            },
            "colorscale": [
             [
              0,
              "#0d0887"
             ],
             [
              0.1111111111111111,
              "#46039f"
             ],
             [
              0.2222222222222222,
              "#7201a8"
             ],
             [
              0.3333333333333333,
              "#9c179e"
             ],
             [
              0.4444444444444444,
              "#bd3786"
             ],
             [
              0.5555555555555556,
              "#d8576b"
             ],
             [
              0.6666666666666666,
              "#ed7953"
             ],
             [
              0.7777777777777778,
              "#fb9f3a"
             ],
             [
              0.8888888888888888,
              "#fdca26"
             ],
             [
              1,
              "#f0f921"
             ]
            ],
            "type": "contour"
           }
          ],
          "contourcarpet": [
           {
            "colorbar": {
             "outlinewidth": 0,
             "ticks": ""
            },
            "type": "contourcarpet"
           }
          ],
          "heatmap": [
           {
            "colorbar": {
             "outlinewidth": 0,
             "ticks": ""
            },
            "colorscale": [
             [
              0,
              "#0d0887"
             ],
             [
              0.1111111111111111,
              "#46039f"
             ],
             [
              0.2222222222222222,
              "#7201a8"
             ],
             [
              0.3333333333333333,
              "#9c179e"
             ],
             [
              0.4444444444444444,
              "#bd3786"
             ],
             [
              0.5555555555555556,
              "#d8576b"
             ],
             [
              0.6666666666666666,
              "#ed7953"
             ],
             [
              0.7777777777777778,
              "#fb9f3a"
             ],
             [
              0.8888888888888888,
              "#fdca26"
             ],
             [
              1,
              "#f0f921"
             ]
            ],
            "type": "heatmap"
           }
          ],
          "heatmapgl": [
           {
            "colorbar": {
             "outlinewidth": 0,
             "ticks": ""
            },
            "colorscale": [
             [
              0,
              "#0d0887"
             ],
             [
              0.1111111111111111,
              "#46039f"
             ],
             [
              0.2222222222222222,
              "#7201a8"
             ],
             [
              0.3333333333333333,
              "#9c179e"
             ],
             [
              0.4444444444444444,
              "#bd3786"
             ],
             [
              0.5555555555555556,
              "#d8576b"
             ],
             [
              0.6666666666666666,
              "#ed7953"
             ],
             [
              0.7777777777777778,
              "#fb9f3a"
             ],
             [
              0.8888888888888888,
              "#fdca26"
             ],
             [
              1,
              "#f0f921"
             ]
            ],
            "type": "heatmapgl"
           }
          ],
          "histogram": [
           {
            "marker": {
             "pattern": {
              "fillmode": "overlay",
              "size": 10,
              "solidity": 0.2
             }
            },
            "type": "histogram"
           }
          ],
          "histogram2d": [
           {
            "colorbar": {
             "outlinewidth": 0,
             "ticks": ""
            },
            "colorscale": [
             [
              0,
              "#0d0887"
             ],
             [
              0.1111111111111111,
              "#46039f"
             ],
             [
              0.2222222222222222,
              "#7201a8"
             ],
             [
              0.3333333333333333,
              "#9c179e"
             ],
             [
              0.4444444444444444,
              "#bd3786"
             ],
             [
              0.5555555555555556,
              "#d8576b"
             ],
             [
              0.6666666666666666,
              "#ed7953"
             ],
             [
              0.7777777777777778,
              "#fb9f3a"
             ],
             [
              0.8888888888888888,
              "#fdca26"
             ],
             [
              1,
              "#f0f921"
             ]
            ],
            "type": "histogram2d"
           }
          ],
          "histogram2dcontour": [
           {
            "colorbar": {
             "outlinewidth": 0,
             "ticks": ""
            },
            "colorscale": [
             [
              0,
              "#0d0887"
             ],
             [
              0.1111111111111111,
              "#46039f"
             ],
             [
              0.2222222222222222,
              "#7201a8"
             ],
             [
              0.3333333333333333,
              "#9c179e"
             ],
             [
              0.4444444444444444,
              "#bd3786"
             ],
             [
              0.5555555555555556,
              "#d8576b"
             ],
             [
              0.6666666666666666,
              "#ed7953"
             ],
             [
              0.7777777777777778,
              "#fb9f3a"
             ],
             [
              0.8888888888888888,
              "#fdca26"
             ],
             [
              1,
              "#f0f921"
             ]
            ],
            "type": "histogram2dcontour"
           }
          ],
          "mesh3d": [
           {
            "colorbar": {
             "outlinewidth": 0,
             "ticks": ""
            },
            "type": "mesh3d"
           }
          ],
          "parcoords": [
           {
            "line": {
             "colorbar": {
              "outlinewidth": 0,
              "ticks": ""
             }
            },
            "type": "parcoords"
           }
          ],
          "pie": [
           {
            "automargin": true,
            "type": "pie"
           }
          ],
          "scatter": [
           {
            "fillpattern": {
             "fillmode": "overlay",
             "size": 10,
             "solidity": 0.2
            },
            "type": "scatter"
           }
          ],
          "scatter3d": [
           {
            "line": {
             "colorbar": {
              "outlinewidth": 0,
              "ticks": ""
             }
            },
            "marker": {
             "colorbar": {
              "outlinewidth": 0,
              "ticks": ""
             }
            },
            "type": "scatter3d"
           }
          ],
          "scattercarpet": [
           {
            "marker": {
             "colorbar": {
              "outlinewidth": 0,
              "ticks": ""
             }
            },
            "type": "scattercarpet"
           }
          ],
          "scattergeo": [
           {
            "marker": {
             "colorbar": {
              "outlinewidth": 0,
              "ticks": ""
             }
            },
            "type": "scattergeo"
           }
          ],
          "scattergl": [
           {
            "marker": {
             "colorbar": {
              "outlinewidth": 0,
              "ticks": ""
             }
            },
            "type": "scattergl"
           }
          ],
          "scattermapbox": [
           {
            "marker": {
             "colorbar": {
              "outlinewidth": 0,
              "ticks": ""
             }
            },
            "type": "scattermapbox"
           }
          ],
          "scatterpolar": [
           {
            "marker": {
             "colorbar": {
              "outlinewidth": 0,
              "ticks": ""
             }
            },
            "type": "scatterpolar"
           }
          ],
          "scatterpolargl": [
           {
            "marker": {
             "colorbar": {
              "outlinewidth": 0,
              "ticks": ""
             }
            },
            "type": "scatterpolargl"
           }
          ],
          "scatterternary": [
           {
            "marker": {
             "colorbar": {
              "outlinewidth": 0,
              "ticks": ""
             }
            },
            "type": "scatterternary"
           }
          ],
          "surface": [
           {
            "colorbar": {
             "outlinewidth": 0,
             "ticks": ""
            },
            "colorscale": [
             [
              0,
              "#0d0887"
             ],
             [
              0.1111111111111111,
              "#46039f"
             ],
             [
              0.2222222222222222,
              "#7201a8"
             ],
             [
              0.3333333333333333,
              "#9c179e"
             ],
             [
              0.4444444444444444,
              "#bd3786"
             ],
             [
              0.5555555555555556,
              "#d8576b"
             ],
             [
              0.6666666666666666,
              "#ed7953"
             ],
             [
              0.7777777777777778,
              "#fb9f3a"
             ],
             [
              0.8888888888888888,
              "#fdca26"
             ],
             [
              1,
              "#f0f921"
             ]
            ],
            "type": "surface"
           }
          ],
          "table": [
           {
            "cells": {
             "fill": {
              "color": "#EBF0F8"
             },
             "line": {
              "color": "white"
             }
            },
            "header": {
             "fill": {
              "color": "#C8D4E3"
             },
             "line": {
              "color": "white"
             }
            },
            "type": "table"
           }
          ]
         },
         "layout": {
          "annotationdefaults": {
           "arrowcolor": "#2a3f5f",
           "arrowhead": 0,
           "arrowwidth": 1
          },
          "autotypenumbers": "strict",
          "coloraxis": {
           "colorbar": {
            "outlinewidth": 0,
            "ticks": ""
           }
          },
          "colorscale": {
           "diverging": [
            [
             0,
             "#8e0152"
            ],
            [
             0.1,
             "#c51b7d"
            ],
            [
             0.2,
             "#de77ae"
            ],
            [
             0.3,
             "#f1b6da"
            ],
            [
             0.4,
             "#fde0ef"
            ],
            [
             0.5,
             "#f7f7f7"
            ],
            [
             0.6,
             "#e6f5d0"
            ],
            [
             0.7,
             "#b8e186"
            ],
            [
             0.8,
             "#7fbc41"
            ],
            [
             0.9,
             "#4d9221"
            ],
            [
             1,
             "#276419"
            ]
           ],
           "sequential": [
            [
             0,
             "#0d0887"
            ],
            [
             0.1111111111111111,
             "#46039f"
            ],
            [
             0.2222222222222222,
             "#7201a8"
            ],
            [
             0.3333333333333333,
             "#9c179e"
            ],
            [
             0.4444444444444444,
             "#bd3786"
            ],
            [
             0.5555555555555556,
             "#d8576b"
            ],
            [
             0.6666666666666666,
             "#ed7953"
            ],
            [
             0.7777777777777778,
             "#fb9f3a"
            ],
            [
             0.8888888888888888,
             "#fdca26"
            ],
            [
             1,
             "#f0f921"
            ]
           ],
           "sequentialminus": [
            [
             0,
             "#0d0887"
            ],
            [
             0.1111111111111111,
             "#46039f"
            ],
            [
             0.2222222222222222,
             "#7201a8"
            ],
            [
             0.3333333333333333,
             "#9c179e"
            ],
            [
             0.4444444444444444,
             "#bd3786"
            ],
            [
             0.5555555555555556,
             "#d8576b"
            ],
            [
             0.6666666666666666,
             "#ed7953"
            ],
            [
             0.7777777777777778,
             "#fb9f3a"
            ],
            [
             0.8888888888888888,
             "#fdca26"
            ],
            [
             1,
             "#f0f921"
            ]
           ]
          },
          "colorway": [
           "#636efa",
           "#EF553B",
           "#00cc96",
           "#ab63fa",
           "#FFA15A",
           "#19d3f3",
           "#FF6692",
           "#B6E880",
           "#FF97FF",
           "#FECB52"
          ],
          "font": {
           "color": "#2a3f5f"
          },
          "geo": {
           "bgcolor": "white",
           "lakecolor": "white",
           "landcolor": "#E5ECF6",
           "showlakes": true,
           "showland": true,
           "subunitcolor": "white"
          },
          "hoverlabel": {
           "align": "left"
          },
          "hovermode": "closest",
          "mapbox": {
           "style": "light"
          },
          "paper_bgcolor": "white",
          "plot_bgcolor": "#E5ECF6",
          "polar": {
           "angularaxis": {
            "gridcolor": "white",
            "linecolor": "white",
            "ticks": ""
           },
           "bgcolor": "#E5ECF6",
           "radialaxis": {
            "gridcolor": "white",
            "linecolor": "white",
            "ticks": ""
           }
          },
          "scene": {
           "xaxis": {
            "backgroundcolor": "#E5ECF6",
            "gridcolor": "white",
            "gridwidth": 2,
            "linecolor": "white",
            "showbackground": true,
            "ticks": "",
            "zerolinecolor": "white"
           },
           "yaxis": {
            "backgroundcolor": "#E5ECF6",
            "gridcolor": "white",
            "gridwidth": 2,
            "linecolor": "white",
            "showbackground": true,
            "ticks": "",
            "zerolinecolor": "white"
           },
           "zaxis": {
            "backgroundcolor": "#E5ECF6",
            "gridcolor": "white",
            "gridwidth": 2,
            "linecolor": "white",
            "showbackground": true,
            "ticks": "",
            "zerolinecolor": "white"
           }
          },
          "shapedefaults": {
           "line": {
            "color": "#2a3f5f"
           }
          },
          "ternary": {
           "aaxis": {
            "gridcolor": "white",
            "linecolor": "white",
            "ticks": ""
           },
           "baxis": {
            "gridcolor": "white",
            "linecolor": "white",
            "ticks": ""
           },
           "bgcolor": "#E5ECF6",
           "caxis": {
            "gridcolor": "white",
            "linecolor": "white",
            "ticks": ""
           }
          },
          "title": {
           "x": 0.05
          },
          "xaxis": {
           "automargin": true,
           "gridcolor": "white",
           "linecolor": "white",
           "ticks": "",
           "title": {
            "standoff": 15
           },
           "zerolinecolor": "white",
           "zerolinewidth": 2
          },
          "yaxis": {
           "automargin": true,
           "gridcolor": "white",
           "linecolor": "white",
           "ticks": "",
           "title": {
            "standoff": 15
           },
           "zerolinecolor": "white",
           "zerolinewidth": 2
          }
         }
        },
        "title": {
         "text": "EfficientNetB4 Loss & accuracy"
        },
        "width": 1000,
        "xaxis": {
         "title": {
          "text": "Epochs"
         }
        },
        "yaxis": {
         "range": [
          0,
          5
         ],
         "title": {
          "text": "Loss"
         }
        },
        "yaxis2": {
         "overlaying": "y",
         "range": [
          0,
          1
         ],
         "side": "right",
         "title": {
          "text": "Accuracy"
         }
        }
       }
      }
     },
     "metadata": {},
     "output_type": "display_data"
    }
   ],
   "source": [
    "import plotly.graph_objects as go\n",
    "fig = go.Figure()\n",
    "fig.add_trace(go.Scatter(x=history.epoch, y=history.history['loss'], name=\"Training Loss\"))\n",
    "fig.add_trace(go.Scatter(x=history.epoch, y=history.history['val_loss'], name=\"Validation Loss\"))\n",
    "# add accuracy on different y axis\n",
    "fig.update_layout(yaxis2=dict(overlaying='y', side='right', range=[0, 1], title=\"Accuracy\"))\n",
    "fig.add_trace(go.Scatter(x=history.epoch, y=history.history['accuracy'], name=\"Training Accuracy\", yaxis=\"y2\"))\n",
    "fig.add_trace(go.Scatter(x=history.epoch, y=history.history['val_accuracy'], name=\"Validation Accuracy\", yaxis=\"y2\"))\n",
    "fig.update_layout(title=\"EfficientNetB4 Loss & accuracy\",\n",
    "                  legend=dict(\n",
    "                        orientation=\"h\",\n",
    "                        yanchor=\"bottom\",\n",
    "                        y=1.02,\n",
    "                        xanchor=\"right\",\n",
    "                        x=1\n",
    "                        ),\n",
    "                  yaxis=dict(range=[0, 5],title=\"Loss\"),\n",
    "                  xaxis=dict(title=\"Epochs\")\n",
    "                  )\n",
    "fig.update_layout(width=1000, height=600)\n",
    "fig.show()"
   ]
  },
  {
   "cell_type": "code",
   "execution_count": 23,
   "metadata": {},
   "outputs": [
    {
     "data": {
      "application/vnd.plotly.v1+json": {
       "config": {
        "plotlyServerURL": "https://plot.ly"
       },
       "data": [
        {
         "name": "Training Loss",
         "type": "scatter",
         "x": [
          0,
          1,
          2,
          3,
          4,
          5,
          6,
          7,
          8,
          9,
          10,
          11,
          12,
          13,
          14,
          15,
          16,
          17,
          18,
          19,
          20,
          21,
          22,
          23,
          24
         ],
         "y": [
          6.664043426513672,
          5.876828670501709,
          5.360585689544678,
          4.957625389099121,
          4.587326526641846,
          4.303035736083984,
          4.042333602905273,
          3.7885706424713135,
          3.580533504486084,
          3.36997127532959,
          3.18489933013916,
          3.055246353149414,
          2.9438867568969727,
          2.807888984680176,
          2.7201380729675293,
          2.6097500324249268,
          2.533769130706787,
          2.449099063873291,
          2.3782882690429688,
          2.300478219985962,
          2.254746913909912,
          2.2046396732330322,
          2.148519277572632,
          2.1011664867401123,
          2.0693516731262207
         ]
        },
        {
         "name": "Validation Loss",
         "type": "scatter",
         "x": [
          0,
          1,
          2,
          3,
          4,
          5,
          6,
          7,
          8,
          9,
          10,
          11,
          12,
          13,
          14,
          15,
          16,
          17,
          18,
          19,
          20,
          21,
          22,
          23,
          24
         ],
         "y": [
          6.126150131225586,
          5.5835065841674805,
          5.393795013427734,
          4.796797275543213,
          4.570725440979004,
          4.311995029449463,
          4.465097427368164,
          4.551915168762207,
          3.6243278980255127,
          4.723054885864258,
          3.5138254165649414,
          4.832195281982422,
          3.7849302291870117,
          3.486424684524536,
          7.47685432434082,
          4.500359535217285,
          2.9527947902679443,
          4.628369331359863,
          4.79256534576416,
          2.5736422538757324,
          3.013932704925537,
          2.745778799057007,
          5.2002854347229,
          4.658914089202881,
          4.5636138916015625
         ]
        },
        {
         "name": "Training Accuracy",
         "type": "scatter",
         "x": [
          0,
          1,
          2,
          3,
          4,
          5,
          6,
          7,
          8,
          9,
          10,
          11,
          12,
          13,
          14,
          15,
          16,
          17,
          18,
          19,
          20,
          21,
          22,
          23,
          24
         ],
         "y": [
          0.025098957121372223,
          0.04875854775309563,
          0.07169844955205917,
          0.09499820321798325,
          0.12567470967769623,
          0.15122346580028534,
          0.18055056035518646,
          0.21446563303470612,
          0.2451421320438385,
          0.27213025093078613,
          0.30334651470184326,
          0.3189096748828888,
          0.33528247475624084,
          0.3616408705711365,
          0.37288594245910645,
          0.39591580629348755,
          0.40797048807144165,
          0.42551276087760925,
          0.43666785955429077,
          0.45187118649482727,
          0.4578985273838043,
          0.4688737094402313,
          0.4797589182853699,
          0.4929830729961395,
          0.4906441271305084
         ],
         "yaxis": "y2"
        },
        {
         "name": "Validation Accuracy",
         "type": "scatter",
         "x": [
          0,
          1,
          2,
          3,
          4,
          5,
          6,
          7,
          8,
          9,
          10,
          11,
          12,
          13,
          14,
          15,
          16,
          17,
          18,
          19,
          20,
          21,
          22,
          23,
          24
         ],
         "y": [
          0.04031677544116974,
          0.063714899122715,
          0.06875450164079666,
          0.11123110353946686,
          0.13678905367851257,
          0.17674586176872253,
          0.1709863245487213,
          0.15406768023967743,
          0.2714182734489441,
          0.1846652328968048,
          0.3041756749153137,
          0.1803455650806427,
          0.27069833874702454,
          0.297336220741272,
          0.1029517650604248,
          0.24334053695201874,
          0.39452844858169556,
          0.23902088403701782,
          0.23866090178489685,
          0.4503239691257477,
          0.38120949268341064,
          0.4269258379936218,
          0.2501799762248993,
          0.2714182734489441,
          0.2861770987510681
         ],
         "yaxis": "y2"
        }
       ],
       "layout": {
        "height": 600,
        "legend": {
         "orientation": "h",
         "x": 1,
         "xanchor": "right",
         "y": 1.02,
         "yanchor": "bottom"
        },
        "template": {
         "data": {
          "bar": [
           {
            "error_x": {
             "color": "#2a3f5f"
            },
            "error_y": {
             "color": "#2a3f5f"
            },
            "marker": {
             "line": {
              "color": "#E5ECF6",
              "width": 0.5
             },
             "pattern": {
              "fillmode": "overlay",
              "size": 10,
              "solidity": 0.2
             }
            },
            "type": "bar"
           }
          ],
          "barpolar": [
           {
            "marker": {
             "line": {
              "color": "#E5ECF6",
              "width": 0.5
             },
             "pattern": {
              "fillmode": "overlay",
              "size": 10,
              "solidity": 0.2
             }
            },
            "type": "barpolar"
           }
          ],
          "carpet": [
           {
            "aaxis": {
             "endlinecolor": "#2a3f5f",
             "gridcolor": "white",
             "linecolor": "white",
             "minorgridcolor": "white",
             "startlinecolor": "#2a3f5f"
            },
            "baxis": {
             "endlinecolor": "#2a3f5f",
             "gridcolor": "white",
             "linecolor": "white",
             "minorgridcolor": "white",
             "startlinecolor": "#2a3f5f"
            },
            "type": "carpet"
           }
          ],
          "choropleth": [
           {
            "colorbar": {
             "outlinewidth": 0,
             "ticks": ""
            },
            "type": "choropleth"
           }
          ],
          "contour": [
           {
            "colorbar": {
             "outlinewidth": 0,
             "ticks": ""
            },
            "colorscale": [
             [
              0,
              "#0d0887"
             ],
             [
              0.1111111111111111,
              "#46039f"
             ],
             [
              0.2222222222222222,
              "#7201a8"
             ],
             [
              0.3333333333333333,
              "#9c179e"
             ],
             [
              0.4444444444444444,
              "#bd3786"
             ],
             [
              0.5555555555555556,
              "#d8576b"
             ],
             [
              0.6666666666666666,
              "#ed7953"
             ],
             [
              0.7777777777777778,
              "#fb9f3a"
             ],
             [
              0.8888888888888888,
              "#fdca26"
             ],
             [
              1,
              "#f0f921"
             ]
            ],
            "type": "contour"
           }
          ],
          "contourcarpet": [
           {
            "colorbar": {
             "outlinewidth": 0,
             "ticks": ""
            },
            "type": "contourcarpet"
           }
          ],
          "heatmap": [
           {
            "colorbar": {
             "outlinewidth": 0,
             "ticks": ""
            },
            "colorscale": [
             [
              0,
              "#0d0887"
             ],
             [
              0.1111111111111111,
              "#46039f"
             ],
             [
              0.2222222222222222,
              "#7201a8"
             ],
             [
              0.3333333333333333,
              "#9c179e"
             ],
             [
              0.4444444444444444,
              "#bd3786"
             ],
             [
              0.5555555555555556,
              "#d8576b"
             ],
             [
              0.6666666666666666,
              "#ed7953"
             ],
             [
              0.7777777777777778,
              "#fb9f3a"
             ],
             [
              0.8888888888888888,
              "#fdca26"
             ],
             [
              1,
              "#f0f921"
             ]
            ],
            "type": "heatmap"
           }
          ],
          "heatmapgl": [
           {
            "colorbar": {
             "outlinewidth": 0,
             "ticks": ""
            },
            "colorscale": [
             [
              0,
              "#0d0887"
             ],
             [
              0.1111111111111111,
              "#46039f"
             ],
             [
              0.2222222222222222,
              "#7201a8"
             ],
             [
              0.3333333333333333,
              "#9c179e"
             ],
             [
              0.4444444444444444,
              "#bd3786"
             ],
             [
              0.5555555555555556,
              "#d8576b"
             ],
             [
              0.6666666666666666,
              "#ed7953"
             ],
             [
              0.7777777777777778,
              "#fb9f3a"
             ],
             [
              0.8888888888888888,
              "#fdca26"
             ],
             [
              1,
              "#f0f921"
             ]
            ],
            "type": "heatmapgl"
           }
          ],
          "histogram": [
           {
            "marker": {
             "pattern": {
              "fillmode": "overlay",
              "size": 10,
              "solidity": 0.2
             }
            },
            "type": "histogram"
           }
          ],
          "histogram2d": [
           {
            "colorbar": {
             "outlinewidth": 0,
             "ticks": ""
            },
            "colorscale": [
             [
              0,
              "#0d0887"
             ],
             [
              0.1111111111111111,
              "#46039f"
             ],
             [
              0.2222222222222222,
              "#7201a8"
             ],
             [
              0.3333333333333333,
              "#9c179e"
             ],
             [
              0.4444444444444444,
              "#bd3786"
             ],
             [
              0.5555555555555556,
              "#d8576b"
             ],
             [
              0.6666666666666666,
              "#ed7953"
             ],
             [
              0.7777777777777778,
              "#fb9f3a"
             ],
             [
              0.8888888888888888,
              "#fdca26"
             ],
             [
              1,
              "#f0f921"
             ]
            ],
            "type": "histogram2d"
           }
          ],
          "histogram2dcontour": [
           {
            "colorbar": {
             "outlinewidth": 0,
             "ticks": ""
            },
            "colorscale": [
             [
              0,
              "#0d0887"
             ],
             [
              0.1111111111111111,
              "#46039f"
             ],
             [
              0.2222222222222222,
              "#7201a8"
             ],
             [
              0.3333333333333333,
              "#9c179e"
             ],
             [
              0.4444444444444444,
              "#bd3786"
             ],
             [
              0.5555555555555556,
              "#d8576b"
             ],
             [
              0.6666666666666666,
              "#ed7953"
             ],
             [
              0.7777777777777778,
              "#fb9f3a"
             ],
             [
              0.8888888888888888,
              "#fdca26"
             ],
             [
              1,
              "#f0f921"
             ]
            ],
            "type": "histogram2dcontour"
           }
          ],
          "mesh3d": [
           {
            "colorbar": {
             "outlinewidth": 0,
             "ticks": ""
            },
            "type": "mesh3d"
           }
          ],
          "parcoords": [
           {
            "line": {
             "colorbar": {
              "outlinewidth": 0,
              "ticks": ""
             }
            },
            "type": "parcoords"
           }
          ],
          "pie": [
           {
            "automargin": true,
            "type": "pie"
           }
          ],
          "scatter": [
           {
            "fillpattern": {
             "fillmode": "overlay",
             "size": 10,
             "solidity": 0.2
            },
            "type": "scatter"
           }
          ],
          "scatter3d": [
           {
            "line": {
             "colorbar": {
              "outlinewidth": 0,
              "ticks": ""
             }
            },
            "marker": {
             "colorbar": {
              "outlinewidth": 0,
              "ticks": ""
             }
            },
            "type": "scatter3d"
           }
          ],
          "scattercarpet": [
           {
            "marker": {
             "colorbar": {
              "outlinewidth": 0,
              "ticks": ""
             }
            },
            "type": "scattercarpet"
           }
          ],
          "scattergeo": [
           {
            "marker": {
             "colorbar": {
              "outlinewidth": 0,
              "ticks": ""
             }
            },
            "type": "scattergeo"
           }
          ],
          "scattergl": [
           {
            "marker": {
             "colorbar": {
              "outlinewidth": 0,
              "ticks": ""
             }
            },
            "type": "scattergl"
           }
          ],
          "scattermapbox": [
           {
            "marker": {
             "colorbar": {
              "outlinewidth": 0,
              "ticks": ""
             }
            },
            "type": "scattermapbox"
           }
          ],
          "scatterpolar": [
           {
            "marker": {
             "colorbar": {
              "outlinewidth": 0,
              "ticks": ""
             }
            },
            "type": "scatterpolar"
           }
          ],
          "scatterpolargl": [
           {
            "marker": {
             "colorbar": {
              "outlinewidth": 0,
              "ticks": ""
             }
            },
            "type": "scatterpolargl"
           }
          ],
          "scatterternary": [
           {
            "marker": {
             "colorbar": {
              "outlinewidth": 0,
              "ticks": ""
             }
            },
            "type": "scatterternary"
           }
          ],
          "surface": [
           {
            "colorbar": {
             "outlinewidth": 0,
             "ticks": ""
            },
            "colorscale": [
             [
              0,
              "#0d0887"
             ],
             [
              0.1111111111111111,
              "#46039f"
             ],
             [
              0.2222222222222222,
              "#7201a8"
             ],
             [
              0.3333333333333333,
              "#9c179e"
             ],
             [
              0.4444444444444444,
              "#bd3786"
             ],
             [
              0.5555555555555556,
              "#d8576b"
             ],
             [
              0.6666666666666666,
              "#ed7953"
             ],
             [
              0.7777777777777778,
              "#fb9f3a"
             ],
             [
              0.8888888888888888,
              "#fdca26"
             ],
             [
              1,
              "#f0f921"
             ]
            ],
            "type": "surface"
           }
          ],
          "table": [
           {
            "cells": {
             "fill": {
              "color": "#EBF0F8"
             },
             "line": {
              "color": "white"
             }
            },
            "header": {
             "fill": {
              "color": "#C8D4E3"
             },
             "line": {
              "color": "white"
             }
            },
            "type": "table"
           }
          ]
         },
         "layout": {
          "annotationdefaults": {
           "arrowcolor": "#2a3f5f",
           "arrowhead": 0,
           "arrowwidth": 1
          },
          "autotypenumbers": "strict",
          "coloraxis": {
           "colorbar": {
            "outlinewidth": 0,
            "ticks": ""
           }
          },
          "colorscale": {
           "diverging": [
            [
             0,
             "#8e0152"
            ],
            [
             0.1,
             "#c51b7d"
            ],
            [
             0.2,
             "#de77ae"
            ],
            [
             0.3,
             "#f1b6da"
            ],
            [
             0.4,
             "#fde0ef"
            ],
            [
             0.5,
             "#f7f7f7"
            ],
            [
             0.6,
             "#e6f5d0"
            ],
            [
             0.7,
             "#b8e186"
            ],
            [
             0.8,
             "#7fbc41"
            ],
            [
             0.9,
             "#4d9221"
            ],
            [
             1,
             "#276419"
            ]
           ],
           "sequential": [
            [
             0,
             "#0d0887"
            ],
            [
             0.1111111111111111,
             "#46039f"
            ],
            [
             0.2222222222222222,
             "#7201a8"
            ],
            [
             0.3333333333333333,
             "#9c179e"
            ],
            [
             0.4444444444444444,
             "#bd3786"
            ],
            [
             0.5555555555555556,
             "#d8576b"
            ],
            [
             0.6666666666666666,
             "#ed7953"
            ],
            [
             0.7777777777777778,
             "#fb9f3a"
            ],
            [
             0.8888888888888888,
             "#fdca26"
            ],
            [
             1,
             "#f0f921"
            ]
           ],
           "sequentialminus": [
            [
             0,
             "#0d0887"
            ],
            [
             0.1111111111111111,
             "#46039f"
            ],
            [
             0.2222222222222222,
             "#7201a8"
            ],
            [
             0.3333333333333333,
             "#9c179e"
            ],
            [
             0.4444444444444444,
             "#bd3786"
            ],
            [
             0.5555555555555556,
             "#d8576b"
            ],
            [
             0.6666666666666666,
             "#ed7953"
            ],
            [
             0.7777777777777778,
             "#fb9f3a"
            ],
            [
             0.8888888888888888,
             "#fdca26"
            ],
            [
             1,
             "#f0f921"
            ]
           ]
          },
          "colorway": [
           "#636efa",
           "#EF553B",
           "#00cc96",
           "#ab63fa",
           "#FFA15A",
           "#19d3f3",
           "#FF6692",
           "#B6E880",
           "#FF97FF",
           "#FECB52"
          ],
          "font": {
           "color": "#2a3f5f"
          },
          "geo": {
           "bgcolor": "white",
           "lakecolor": "white",
           "landcolor": "#E5ECF6",
           "showlakes": true,
           "showland": true,
           "subunitcolor": "white"
          },
          "hoverlabel": {
           "align": "left"
          },
          "hovermode": "closest",
          "mapbox": {
           "style": "light"
          },
          "paper_bgcolor": "white",
          "plot_bgcolor": "#E5ECF6",
          "polar": {
           "angularaxis": {
            "gridcolor": "white",
            "linecolor": "white",
            "ticks": ""
           },
           "bgcolor": "#E5ECF6",
           "radialaxis": {
            "gridcolor": "white",
            "linecolor": "white",
            "ticks": ""
           }
          },
          "scene": {
           "xaxis": {
            "backgroundcolor": "#E5ECF6",
            "gridcolor": "white",
            "gridwidth": 2,
            "linecolor": "white",
            "showbackground": true,
            "ticks": "",
            "zerolinecolor": "white"
           },
           "yaxis": {
            "backgroundcolor": "#E5ECF6",
            "gridcolor": "white",
            "gridwidth": 2,
            "linecolor": "white",
            "showbackground": true,
            "ticks": "",
            "zerolinecolor": "white"
           },
           "zaxis": {
            "backgroundcolor": "#E5ECF6",
            "gridcolor": "white",
            "gridwidth": 2,
            "linecolor": "white",
            "showbackground": true,
            "ticks": "",
            "zerolinecolor": "white"
           }
          },
          "shapedefaults": {
           "line": {
            "color": "#2a3f5f"
           }
          },
          "ternary": {
           "aaxis": {
            "gridcolor": "white",
            "linecolor": "white",
            "ticks": ""
           },
           "baxis": {
            "gridcolor": "white",
            "linecolor": "white",
            "ticks": ""
           },
           "bgcolor": "#E5ECF6",
           "caxis": {
            "gridcolor": "white",
            "linecolor": "white",
            "ticks": ""
           }
          },
          "title": {
           "x": 0.05
          },
          "xaxis": {
           "automargin": true,
           "gridcolor": "white",
           "linecolor": "white",
           "ticks": "",
           "title": {
            "standoff": 15
           },
           "zerolinecolor": "white",
           "zerolinewidth": 2
          },
          "yaxis": {
           "automargin": true,
           "gridcolor": "white",
           "linecolor": "white",
           "ticks": "",
           "title": {
            "standoff": 15
           },
           "zerolinecolor": "white",
           "zerolinewidth": 2
          }
         }
        },
        "title": {
         "text": "CNN Loss & Accuracy"
        },
        "width": 1000,
        "xaxis": {
         "title": {
          "text": "Epochs"
         }
        },
        "yaxis": {
         "range": [
          0,
          5
         ],
         "title": {
          "text": "Loss"
         }
        },
        "yaxis2": {
         "overlaying": "y",
         "range": [
          0,
          1
         ],
         "side": "right",
         "title": {
          "text": "Accuracy"
         }
        }
       }
      }
     },
     "metadata": {},
     "output_type": "display_data"
    }
   ],
   "source": [
    "# same plot but give blue color to train and orange to validation\n",
    "fig = go.Figure()\n",
    "fig.add_trace(go.Scatter(x=history_cnn.epoch, y=history_cnn.history['loss'], name=\"Training Loss\"))\n",
    "fig.add_trace(go.Scatter(x=history_cnn.epoch, y=history_cnn.history['val_loss'], name=\"Validation Loss\"))\n",
    "# add accuracy on different y axis\n",
    "fig.update_layout(yaxis2=dict(overlaying='y', side='right', range=[0, 1], title=\"Accuracy\"))\n",
    "fig.add_trace(go.Scatter(x=history_cnn.epoch, y=history_cnn.history['accuracy'], name=\"Training Accuracy\", yaxis=\"y2\"))\n",
    "fig.add_trace(go.Scatter(x=history_cnn.epoch, y=history_cnn.history['val_accuracy'], name=\"Validation Accuracy\", yaxis=\"y2\"))\n",
    "fig.update_layout(title=\"CNN Loss & Accuracy\",\n",
    "                  legend=dict(\n",
    "                        orientation=\"h\",\n",
    "                        yanchor=\"bottom\",\n",
    "                        y=1.02,\n",
    "                        xanchor=\"right\",\n",
    "                        x=1\n",
    "                        ),\n",
    "                  yaxis=dict(range=[0, 5],title=\"Loss\"),\n",
    "                  xaxis=dict(title=\"Epochs\")\n",
    "                  )\n",
    "fig.update_layout(width=1000, height=600)\n",
    "fig.show()"
   ]
  },
  {
   "attachments": {},
   "cell_type": "markdown",
   "metadata": {},
   "source": [
    "## TEST"
   ]
  },
  {
   "attachments": {},
   "cell_type": "markdown",
   "metadata": {},
   "source": [
    "### rapport"
   ]
  },
  {
   "cell_type": "code",
   "execution_count": 45,
   "metadata": {},
   "outputs": [],
   "source": [
    "def top_k(y_pred, k=3):\n",
    "    # retrieve the top k predictions as sorted dictionary of {class: probability}\n",
    "    top_k = tf.math.top_k(y_pred, k=k)\n",
    "    prob = top_k.values.numpy().tolist()\n",
    "    prob = [round(p, 2) for p in prob]\n",
    "    # convert the dictionary to a list of class indices\n",
    "    name = top_k.indices.numpy().tolist()\n",
    "    name = [class_names[i] for i in name]\n",
    "    ret = {}\n",
    "    for i in range(len(prob)):\n",
    "        if prob[i] > 0.1:\n",
    "            ret[name[i]] = prob[i]\n",
    "    return ret"
   ]
  },
  {
   "cell_type": "code",
   "execution_count": 47,
   "metadata": {},
   "outputs": [
    {
     "name": "stdout",
     "output_type": "stream",
     "text": [
      "87/87 [==============================] - 2s 22ms/step\n",
      "87/87 [==============================] - 4s 49ms/step\n"
     ]
    }
   ],
   "source": [
    "y_pred_cnn = cnn.predict(val_ds)\n",
    "y_pred_eff = model.predict(val_ds)"
   ]
  },
  {
   "cell_type": "code",
   "execution_count": 36,
   "metadata": {},
   "outputs": [],
   "source": [
    "y_test = []\n",
    "for i in val_ds:\n",
    "    y_test.extend(i[1].numpy())\n",
    "import numpy as np\n",
    "y_test = np.array(y_test)"
   ]
  },
  {
   "cell_type": "code",
   "execution_count": 37,
   "metadata": {},
   "outputs": [],
   "source": [
    "# argmax all\n",
    "y_pred_cnn_ = np.argmax(y_pred_cnn, axis=1).reshape(-1, 1)\n",
    "y_pred_eff_ = np.argmax(y_pred_eff, axis=1).reshape(-1, 1)\n",
    "\n",
    "y_test = np.argmax(y_test, axis=1).reshape(-1, 1)"
   ]
  },
  {
   "cell_type": "code",
   "execution_count": 40,
   "metadata": {},
   "outputs": [
    {
     "name": "stdout",
     "output_type": "stream",
     "text": [
      "Kappa score for EfficientNetB4:  0.7446011818478946\n",
      "Kappa score for CNN:  0.28485547620141827\n"
     ]
    }
   ],
   "source": [
    "from sklearn.metrics import cohen_kappa_score\n",
    "kappa_eff = cohen_kappa_score(y_test, y_pred_eff_)\n",
    "kappa_cnn = cohen_kappa_score(y_test, y_pred_cnn_)\n",
    "\n",
    "print(\"Kappa score for EfficientNetB4: \", kappa_eff)\n",
    "print(\"Kappa score for CNN: \", kappa_cnn)"
   ]
  },
  {
   "cell_type": "code",
   "execution_count": 42,
   "metadata": {},
   "outputs": [
    {
     "name": "stdout",
     "output_type": "stream",
     "text": [
      "Classification report for EfficientNetB4: \n",
      "              precision    recall  f1-score   support\n",
      "\n",
      "           0       1.00      1.00      1.00         4\n",
      "           1       0.71      1.00      0.83         5\n",
      "           2       0.71      1.00      0.83         5\n",
      "           3       1.00      1.00      1.00         3\n",
      "           4       1.00      0.75      0.86         4\n",
      "           5       1.00      0.50      0.67         2\n",
      "           6       1.00      0.33      0.50         3\n",
      "           7       0.56      1.00      0.71         5\n",
      "           8       1.00      0.57      0.73         7\n",
      "           9       0.96      1.00      0.98        49\n",
      "          10       1.00      1.00      1.00         1\n",
      "          11       1.00      0.75      0.86         8\n",
      "          12       0.33      1.00      0.50         1\n",
      "          13       1.00      1.00      1.00         2\n",
      "          14       0.00      0.00      0.00         2\n",
      "          15       0.86      1.00      0.92         6\n",
      "          16       0.75      0.75      0.75         4\n",
      "          17       1.00      1.00      1.00         1\n",
      "          18       0.00      0.00      0.00         2\n",
      "          19       1.00      1.00      1.00         3\n",
      "          20       0.00      0.00      0.00         1\n",
      "          21       1.00      0.67      0.80         3\n",
      "          22       0.89      1.00      0.94        24\n",
      "          23       1.00      0.67      0.80         3\n",
      "          26       1.00      1.00      1.00         1\n",
      "          27       0.33      1.00      0.50         2\n",
      "          28       0.60      1.00      0.75         3\n",
      "          30       1.00      0.50      0.67         2\n",
      "          31       0.50      1.00      0.67         1\n",
      "          32       1.00      1.00      1.00         4\n",
      "          33       0.67      0.50      0.57         4\n",
      "          34       1.00      1.00      1.00         2\n",
      "          35       1.00      1.00      1.00         1\n",
      "          36       1.00      0.50      0.67         2\n",
      "          37       1.00      0.50      0.67         6\n",
      "          38       0.75      1.00      0.86         3\n",
      "          39       0.50      1.00      0.67         3\n",
      "          40       0.00      0.00      0.00         2\n",
      "          41       1.00      0.33      0.50         3\n",
      "          42       0.50      1.00      0.67         2\n",
      "          44       0.80      1.00      0.89         4\n",
      "          45       0.50      1.00      0.67         1\n",
      "          47       0.50      0.67      0.57         3\n",
      "          48       1.00      1.00      1.00         2\n",
      "          49       1.00      1.00      1.00         2\n",
      "          50       1.00      1.00      1.00         3\n",
      "          51       0.89      1.00      0.94         8\n",
      "          52       1.00      1.00      1.00         1\n",
      "          53       1.00      1.00      1.00         3\n",
      "          54       1.00      1.00      1.00         2\n",
      "          55       0.67      1.00      0.80         2\n",
      "          56       0.00      0.00      0.00         0\n",
      "          57       0.67      1.00      0.80         2\n",
      "          58       1.00      1.00      1.00         2\n",
      "          59       0.67      1.00      0.80         2\n",
      "          60       1.00      1.00      1.00         5\n",
      "          61       1.00      1.00      1.00         1\n",
      "          62       0.50      1.00      0.67         1\n",
      "          63       1.00      0.67      0.80         3\n",
      "          64       0.71      0.71      0.71         7\n",
      "          65       0.67      0.50      0.57         4\n",
      "          66       0.50      1.00      0.67         1\n",
      "          67       1.00      0.50      0.67         2\n",
      "          68       1.00      0.33      0.50         3\n",
      "          69       1.00      1.00      1.00         2\n",
      "          70       0.00      0.00      0.00         0\n",
      "          71       1.00      1.00      1.00         2\n",
      "          72       1.00      1.00      1.00         4\n",
      "          74       1.00      1.00      1.00         1\n",
      "          75       0.67      0.67      0.67         3\n",
      "          76       0.40      1.00      0.57         2\n",
      "          78       0.75      1.00      0.86         3\n",
      "          79       1.00      1.00      1.00         2\n",
      "          80       1.00      0.50      0.67         2\n",
      "          81       0.75      1.00      0.86         3\n",
      "          82       0.40      0.50      0.44         4\n",
      "          83       0.67      0.40      0.50         5\n",
      "          84       0.75      0.75      0.75         4\n",
      "          86       0.83      1.00      0.91         5\n",
      "          87       1.00      1.00      1.00         5\n",
      "          88       1.00      1.00      1.00         1\n",
      "          89       0.60      1.00      0.75         3\n",
      "          90       1.00      1.00      1.00         3\n",
      "          92       1.00      0.86      0.92         7\n",
      "          94       1.00      1.00      1.00         1\n",
      "          95       1.00      1.00      1.00         3\n",
      "          96       1.00      1.00      1.00         3\n",
      "          97       1.00      0.75      0.86         4\n",
      "          98       0.00      0.00      0.00         3\n",
      "          99       0.27      0.50      0.35         6\n",
      "         100       0.00      0.00      0.00         2\n",
      "         101       0.40      1.00      0.57         2\n",
      "         102       0.50      1.00      0.67         1\n",
      "         103       0.50      1.00      0.67         1\n",
      "         104       0.50      1.00      0.67         2\n",
      "         105       1.00      0.67      0.80         3\n",
      "         106       0.50      0.22      0.31         9\n",
      "         107       1.00      1.00      1.00         1\n",
      "         108       1.00      0.20      0.33         5\n",
      "         109       0.00      0.00      0.00         1\n",
      "         111       0.50      0.67      0.57         3\n",
      "         112       0.67      1.00      0.80         2\n",
      "         113       1.00      1.00      1.00         2\n",
      "         114       0.00      0.00      0.00         1\n",
      "         115       0.00      0.00      0.00         1\n",
      "         116       0.80      0.80      0.80         5\n",
      "         117       0.67      0.40      0.50         5\n",
      "         118       0.45      1.00      0.62         5\n",
      "         119       1.00      1.00      1.00         1\n",
      "         120       0.29      1.00      0.44         2\n",
      "         121       0.00      0.00      0.00         0\n",
      "         122       1.00      1.00      1.00         1\n",
      "         123       0.80      1.00      0.89         4\n",
      "         124       1.00      0.33      0.50         3\n",
      "         125       0.67      1.00      0.80         2\n",
      "         126       0.00      0.00      0.00         1\n",
      "         127       1.00      1.00      1.00         5\n",
      "         128       1.00      0.67      0.80         3\n",
      "         129       0.50      1.00      0.67         4\n",
      "         130       1.00      0.50      0.67         2\n",
      "         131       1.00      1.00      1.00         6\n",
      "         132       1.00      0.50      0.67         2\n",
      "         133       0.00      0.00      0.00         0\n",
      "         134       1.00      0.50      0.67         2\n",
      "         135       1.00      0.83      0.91         6\n",
      "         136       0.50      0.67      0.57         3\n",
      "         138       1.00      1.00      1.00         3\n",
      "         139       1.00      1.00      1.00         1\n",
      "         140       1.00      0.67      0.80         3\n",
      "         141       0.40      0.40      0.40         5\n",
      "         142       0.00      0.00      0.00         1\n",
      "         143       1.00      0.50      0.67         2\n",
      "         144       1.00      1.00      1.00         1\n",
      "         145       1.00      1.00      1.00         1\n",
      "         146       1.00      0.50      0.67         4\n",
      "         147       1.00      0.50      0.67         2\n",
      "         148       0.00      0.00      0.00         2\n",
      "         149       0.67      1.00      0.80         2\n",
      "         150       1.00      1.00      1.00         1\n",
      "         151       1.00      0.17      0.29         6\n",
      "         152       0.67      1.00      0.80         2\n",
      "         153       1.00      0.50      0.67         2\n",
      "         154       0.62      1.00      0.77         5\n",
      "         155       0.50      1.00      0.67         1\n",
      "         156       1.00      0.75      0.86         8\n",
      "         157       1.00      1.00      1.00         2\n",
      "         159       0.67      0.29      0.40         7\n",
      "         160       0.29      1.00      0.44         2\n",
      "         161       0.00      0.00      0.00         1\n",
      "         162       1.00      1.00      1.00         2\n",
      "         164       1.00      0.17      0.29         6\n",
      "         165       0.33      0.33      0.33         3\n",
      "         166       1.00      0.75      0.86         4\n",
      "         168       1.00      1.00      1.00         3\n",
      "         169       0.50      1.00      0.67         1\n",
      "         170       0.00      0.00      0.00         1\n",
      "         171       1.00      0.86      0.92         7\n",
      "         172       0.67      1.00      0.80         2\n",
      "         173       0.50      0.67      0.57         3\n",
      "         174       1.00      1.00      1.00         1\n",
      "         176       0.80      1.00      0.89         8\n",
      "         177       1.00      0.67      0.80         3\n",
      "         178       1.00      0.75      0.86         4\n",
      "         179       1.00      0.50      0.67         2\n",
      "         180       1.00      1.00      1.00         1\n",
      "         181       0.67      0.67      0.67         3\n",
      "         182       1.00      1.00      1.00         3\n",
      "         183       0.00      0.00      0.00         1\n",
      "         184       1.00      1.00      1.00         3\n",
      "         185       0.10      1.00      0.18         2\n",
      "         186       1.00      1.00      1.00         2\n",
      "         187       0.43      0.75      0.55         4\n",
      "         188       1.00      1.00      1.00         7\n",
      "         189       0.50      1.00      0.67         1\n",
      "         190       0.00      0.00      0.00         2\n",
      "         191       0.00      0.00      0.00         2\n",
      "         192       1.00      0.50      0.67         4\n",
      "         193       1.00      0.50      0.67         4\n",
      "         194       1.00      0.67      0.80         3\n",
      "         195       0.88      1.00      0.93         7\n",
      "         196       1.00      0.33      0.50         3\n",
      "         197       1.00      0.50      0.67         2\n",
      "         198       1.00      0.50      0.67         2\n",
      "         199       1.00      1.00      1.00         3\n",
      "         200       0.40      1.00      0.57         2\n",
      "         201       0.00      0.00      0.00         0\n",
      "         203       0.60      1.00      0.75         3\n",
      "         204       0.60      1.00      0.75         3\n",
      "         205       1.00      0.60      0.75         5\n",
      "         206       1.00      0.50      0.67         2\n",
      "         207       0.67      1.00      0.80         2\n",
      "         208       1.00      1.00      1.00         2\n",
      "         209       1.00      1.00      1.00         1\n",
      "         210       0.00      0.00      0.00         4\n",
      "         211       1.00      1.00      1.00         6\n",
      "         212       1.00      1.00      1.00         4\n",
      "         213       1.00      1.00      1.00         3\n",
      "         214       1.00      1.00      1.00         1\n",
      "         215       0.33      1.00      0.50         1\n",
      "         216       0.00      0.00      0.00         0\n",
      "         217       1.00      0.50      0.67         2\n",
      "         218       0.22      1.00      0.36         2\n",
      "         219       1.00      1.00      1.00         3\n",
      "         220       1.00      0.67      0.80         3\n",
      "         221       1.00      1.00      1.00         1\n",
      "         222       0.33      1.00      0.50         1\n",
      "         223       0.83      1.00      0.91         5\n",
      "         224       1.00      1.00      1.00         1\n",
      "         225       1.00      1.00      1.00         2\n",
      "         226       1.00      1.00      1.00         2\n",
      "         227       0.25      0.50      0.33         2\n",
      "         228       0.33      1.00      0.50         1\n",
      "         229       1.00      0.60      0.75         5\n",
      "         230       0.80      1.00      0.89         4\n",
      "         231       0.12      1.00      0.22         1\n",
      "         233       0.00      0.00      0.00         0\n",
      "         234       0.75      0.75      0.75         4\n",
      "         235       0.75      1.00      0.86         3\n",
      "         237       1.00      0.50      0.67         2\n",
      "         238       1.00      1.00      1.00         2\n",
      "         239       0.43      1.00      0.60         3\n",
      "         240       0.00      0.00      0.00         1\n",
      "         241       1.00      0.67      0.80         3\n",
      "         242       1.00      0.50      0.67         2\n",
      "         243       1.00      1.00      1.00         3\n",
      "         244       0.80      0.80      0.80         5\n",
      "         245       1.00      0.40      0.57         5\n",
      "         246       0.00      0.00      0.00         1\n",
      "         247       0.83      0.83      0.83         6\n",
      "         248       0.75      1.00      0.86         3\n",
      "         249       0.67      1.00      0.80         4\n",
      "         250       0.00      0.00      0.00         1\n",
      "         251       0.67      0.33      0.44         6\n",
      "         252       1.00      1.00      1.00         3\n",
      "         253       0.67      1.00      0.80         2\n",
      "         254       0.33      1.00      0.50         1\n",
      "         255       0.75      1.00      0.86         3\n",
      "         256       0.67      0.67      0.67         6\n",
      "         257       1.00      0.50      0.67         2\n",
      "         258       1.00      0.80      0.89         5\n",
      "         259       0.50      0.33      0.40         3\n",
      "         260       0.00      0.00      0.00         1\n",
      "         261       1.00      1.00      1.00         2\n",
      "         262       0.67      1.00      0.80         2\n",
      "         263       0.67      1.00      0.80         2\n",
      "         264       1.00      0.75      0.86         4\n",
      "         265       0.00      0.00      0.00         2\n",
      "         266       1.00      0.67      0.80         3\n",
      "         267       0.75      1.00      0.86         3\n",
      "         268       0.50      0.50      0.50         4\n",
      "         269       0.60      1.00      0.75         3\n",
      "         270       1.00      1.00      1.00         1\n",
      "         271       0.00      0.00      0.00         3\n",
      "         272       1.00      1.00      1.00         4\n",
      "         273       0.00      0.00      0.00         1\n",
      "         274       0.80      0.67      0.73         6\n",
      "         275       0.67      0.67      0.67         3\n",
      "         276       1.00      1.00      1.00        10\n",
      "         277       0.67      1.00      0.80         2\n",
      "         278       1.00      1.00      1.00         2\n",
      "         279       1.00      0.67      0.80         6\n",
      "         280       0.71      1.00      0.83         5\n",
      "         281       0.86      0.86      0.86         7\n",
      "         282       0.75      1.00      0.86         3\n",
      "         283       1.00      1.00      1.00         9\n",
      "         284       0.86      1.00      0.92         6\n",
      "         285       0.86      1.00      0.92         6\n",
      "         286       0.60      0.60      0.60         5\n",
      "         287       1.00      0.67      0.80         3\n",
      "         288       0.50      1.00      0.67         1\n",
      "         289       1.00      0.67      0.80         9\n",
      "         290       0.60      1.00      0.75         3\n",
      "         291       1.00      0.62      0.77         8\n",
      "         292       0.83      1.00      0.91         5\n",
      "         295       1.00      1.00      1.00         4\n",
      "         296       1.00      0.25      0.40         4\n",
      "         297       0.67      0.67      0.67         6\n",
      "         298       0.00      0.00      0.00         3\n",
      "         299       0.67      0.50      0.57         4\n",
      "         300       0.80      1.00      0.89         4\n",
      "         301       1.00      1.00      1.00         3\n",
      "         302       0.75      0.75      0.75         4\n",
      "         303       0.33      0.33      0.33         3\n",
      "         304       1.00      1.00      1.00         1\n",
      "         306       1.00      0.67      0.80         3\n",
      "         307       0.50      0.50      0.50         4\n",
      "         308       1.00      0.60      0.75         5\n",
      "         310       1.00      0.75      0.86         4\n",
      "         311       1.00      0.75      0.86         4\n",
      "         312       1.00      0.75      0.86         4\n",
      "         314       1.00      0.67      0.80         3\n",
      "         315       0.00      0.00      0.00         1\n",
      "         316       0.56      1.00      0.71         5\n",
      "         318       0.40      0.67      0.50         3\n",
      "         319       0.60      1.00      0.75         3\n",
      "         320       0.00      0.00      0.00         2\n",
      "         321       1.00      1.00      1.00         1\n",
      "         322       0.50      1.00      0.67         1\n",
      "         323       0.33      0.33      0.33         3\n",
      "         324       0.50      0.33      0.40         3\n",
      "         325       0.40      0.50      0.44         4\n",
      "         327       0.75      1.00      0.86         3\n",
      "         328       0.83      1.00      0.91         5\n",
      "         329       1.00      1.00      1.00         1\n",
      "         330       1.00      1.00      1.00         1\n",
      "         331       1.00      1.00      1.00         1\n",
      "         332       1.00      0.75      0.86         4\n",
      "         333       0.00      0.00      0.00         1\n",
      "         334       0.00      0.00      0.00         2\n",
      "         335       0.33      1.00      0.50         1\n",
      "         336       0.33      0.33      0.33         3\n",
      "         337       1.00      1.00      1.00         2\n",
      "         338       0.00      0.00      0.00         1\n",
      "         339       0.75      0.60      0.67         5\n",
      "         340       0.25      1.00      0.40         1\n",
      "         341       0.67      0.67      0.67         3\n",
      "         342       1.00      1.00      1.00         2\n",
      "         343       1.00      1.00      1.00         2\n",
      "         344       0.50      1.00      0.67         1\n",
      "         345       0.00      0.00      0.00         2\n",
      "         346       1.00      0.60      0.75         5\n",
      "         347       0.67      0.67      0.67         3\n",
      "         348       0.29      1.00      0.44         2\n",
      "         349       1.00      1.00      1.00         1\n",
      "         350       1.00      1.00      1.00         3\n",
      "         351       1.00      0.75      0.86         4\n",
      "         352       1.00      0.60      0.75         5\n",
      "         353       1.00      1.00      1.00         3\n",
      "         354       0.50      0.67      0.57         3\n",
      "         355       1.00      1.00      1.00         1\n",
      "         356       0.00      0.00      0.00         2\n",
      "         357       1.00      0.75      0.86         4\n",
      "         358       1.00      0.50      0.67         2\n",
      "         359       1.00      0.40      0.57         5\n",
      "         360       0.71      0.83      0.77         6\n",
      "         361       0.75      1.00      0.86         3\n",
      "         362       0.60      0.75      0.67         4\n",
      "         363       0.80      1.00      0.89         4\n",
      "         364       0.71      1.00      0.83         5\n",
      "         365       1.00      0.33      0.50         3\n",
      "         366       0.67      1.00      0.80         2\n",
      "         367       0.00      0.00      0.00         2\n",
      "         369       0.20      0.50      0.29         2\n",
      "         370       1.00      1.00      1.00         4\n",
      "         371       0.00      0.00      0.00         1\n",
      "         372       0.00      0.00      0.00         3\n",
      "         373       0.30      0.43      0.35         7\n",
      "         374       1.00      1.00      1.00         2\n",
      "         375       0.00      0.00      0.00         0\n",
      "         376       0.67      0.29      0.40         7\n",
      "         377       1.00      1.00      1.00         4\n",
      "         378       0.67      0.67      0.67         3\n",
      "         379       1.00      0.20      0.33         5\n",
      "         380       1.00      1.00      1.00         2\n",
      "         381       0.75      0.75      0.75         4\n",
      "         382       1.00      0.67      0.80         3\n",
      "         383       1.00      1.00      1.00         3\n",
      "         384       1.00      0.75      0.86         4\n",
      "         385       1.00      0.60      0.75         5\n",
      "         386       0.80      0.80      0.80         5\n",
      "         387       1.00      0.75      0.86         4\n",
      "         388       0.00      0.00      0.00         1\n",
      "         389       0.75      0.75      0.75         4\n",
      "         390       0.50      1.00      0.67         1\n",
      "         391       1.00      1.00      1.00         5\n",
      "         392       1.00      0.29      0.44         7\n",
      "         393       0.75      0.60      0.67         5\n",
      "         394       1.00      0.75      0.86         4\n",
      "         396       1.00      1.00      1.00         2\n",
      "         397       0.50      1.00      0.67         1\n",
      "         398       1.00      0.67      0.80         3\n",
      "         399       1.00      0.20      0.33         5\n",
      "         400       1.00      0.33      0.50         3\n",
      "         401       0.00      0.00      0.00         0\n",
      "         402       0.67      0.40      0.50         5\n",
      "         403       1.00      0.75      0.86         4\n",
      "         404       0.25      1.00      0.40         1\n",
      "         406       1.00      1.00      1.00         2\n",
      "         407       0.00      0.00      0.00         1\n",
      "         408       1.00      0.60      0.75         5\n",
      "         409       0.33      0.67      0.44         6\n",
      "         410       0.67      0.67      0.67         3\n",
      "         411       1.00      1.00      1.00         4\n",
      "         412       1.00      0.80      0.89         5\n",
      "         413       1.00      0.25      0.40         4\n",
      "         414       0.33      0.25      0.29         4\n",
      "         415       1.00      1.00      1.00         2\n",
      "         416       0.60      1.00      0.75         3\n",
      "         417       0.00      0.00      0.00         2\n",
      "         418       0.67      0.67      0.67         6\n",
      "         419       1.00      1.00      1.00         4\n",
      "         420       1.00      1.00      1.00         5\n",
      "         421       1.00      0.33      0.50         3\n",
      "         422       1.00      0.50      0.67         2\n",
      "         423       1.00      1.00      1.00         2\n",
      "         424       1.00      1.00      1.00         4\n",
      "         425       1.00      1.00      1.00         4\n",
      "         426       1.00      0.25      0.40         4\n",
      "         427       0.50      1.00      0.67         1\n",
      "         428       1.00      1.00      1.00         2\n",
      "         429       0.78      1.00      0.88         7\n",
      "         430       0.00      0.00      0.00         2\n",
      "         431       0.50      0.50      0.50         2\n",
      "         432       1.00      1.00      1.00         2\n",
      "         433       1.00      1.00      1.00         3\n",
      "         434       1.00      1.00      1.00         3\n",
      "         435       0.20      1.00      0.33         1\n",
      "         436       1.00      0.50      0.67         6\n",
      "         437       1.00      0.86      0.92         7\n",
      "         438       1.00      1.00      1.00         3\n",
      "         439       0.67      0.50      0.57         4\n",
      "         440       0.33      1.00      0.50         2\n",
      "         441       1.00      0.33      0.50         3\n",
      "         442       1.00      1.00      1.00         1\n",
      "         443       1.00      0.25      0.40         4\n",
      "         444       1.00      1.00      1.00         4\n",
      "         445       0.71      0.83      0.77         6\n",
      "         446       0.50      1.00      0.67         2\n",
      "         447       1.00      0.20      0.33         5\n",
      "         448       0.00      0.00      0.00         1\n",
      "         449       1.00      0.50      0.67         6\n",
      "         450       0.55      1.00      0.71         6\n",
      "         451       0.43      0.50      0.46         6\n",
      "         452       1.00      0.67      0.80         3\n",
      "         454       0.80      0.80      0.80         5\n",
      "         455       1.00      0.50      0.67         2\n",
      "         456       1.00      0.67      0.80         3\n",
      "         457       0.71      0.83      0.77         6\n",
      "         458       0.75      1.00      0.86         6\n",
      "         459       0.75      1.00      0.86         3\n",
      "         460       1.00      0.50      0.67         2\n",
      "         462       1.00      1.00      1.00         3\n",
      "         463       0.75      0.60      0.67         5\n",
      "         464       0.00      0.00      0.00         0\n",
      "         465       0.75      0.75      0.75         4\n",
      "         466       1.00      1.00      1.00         1\n",
      "         467       1.00      0.67      0.80         3\n",
      "         468       1.00      0.33      0.50         3\n",
      "         469       1.00      0.50      0.67         2\n",
      "         470       0.33      1.00      0.50         1\n",
      "         471       0.00      0.00      0.00         2\n",
      "         472       0.67      0.50      0.57         4\n",
      "         473       1.00      0.50      0.67         2\n",
      "         475       1.00      0.50      0.67         2\n",
      "         476       0.67      1.00      0.80         2\n",
      "         477       0.67      1.00      0.80         2\n",
      "         478       0.71      1.00      0.83         5\n",
      "         479       0.50      0.75      0.60         4\n",
      "         480       0.67      1.00      0.80         2\n",
      "         482       0.80      1.00      0.89         4\n",
      "         483       0.67      0.67      0.67         3\n",
      "         484       1.00      0.50      0.67         4\n",
      "         485       0.57      0.80      0.67         5\n",
      "         486       1.00      0.50      0.67         6\n",
      "         487       0.75      0.60      0.67         5\n",
      "         488       1.00      0.60      0.75         5\n",
      "         489       1.00      1.00      1.00         3\n",
      "         490       0.33      0.50      0.40         4\n",
      "         491       1.00      0.80      0.89         5\n",
      "         492       0.67      0.67      0.67         3\n",
      "         493       1.00      0.40      0.57         5\n",
      "         494       1.00      1.00      1.00         4\n",
      "         496       1.00      1.00      1.00         5\n",
      "         497       0.00      0.00      0.00         1\n",
      "         498       1.00      0.17      0.29         6\n",
      "         500       0.75      0.75      0.75         4\n",
      "         501       0.71      1.00      0.83         5\n",
      "         502       1.00      1.00      1.00         2\n",
      "         503       0.25      1.00      0.40         1\n",
      "         504       0.60      1.00      0.75         3\n",
      "         505       0.75      0.75      0.75         4\n",
      "         506       1.00      0.20      0.33         5\n",
      "         507       1.00      1.00      1.00         2\n",
      "         509       0.50      1.00      0.67         1\n",
      "         510       1.00      1.00      1.00         7\n",
      "         511       0.75      0.60      0.67         5\n",
      "         513       0.00      0.00      0.00         1\n",
      "         514       0.50      0.50      0.50         2\n",
      "         516       1.00      0.60      0.75         5\n",
      "         517       0.00      0.00      0.00         0\n",
      "         518       0.50      0.67      0.57         3\n",
      "         519       1.00      1.00      1.00         3\n",
      "         520       1.00      1.00      1.00         1\n",
      "         521       1.00      1.00      1.00         2\n",
      "         522       1.00      1.00      1.00         2\n",
      "         523       1.00      0.50      0.67         6\n",
      "         524       0.50      1.00      0.67         1\n",
      "         525       1.00      0.50      0.67         2\n",
      "         526       0.40      1.00      0.57         2\n",
      "         527       1.00      0.50      0.67         2\n",
      "         528       1.00      0.50      0.67         2\n",
      "         529       0.67      0.67      0.67         3\n",
      "         530       0.33      0.50      0.40         2\n",
      "         532       1.00      0.33      0.50         3\n",
      "         533       0.75      0.60      0.67         5\n",
      "         534       0.75      1.00      0.86         3\n",
      "         535       1.00      1.00      1.00         2\n",
      "         537       0.25      0.50      0.33         2\n",
      "         538       1.00      1.00      1.00         1\n",
      "         539       1.00      0.83      0.91         6\n",
      "         540       1.00      0.75      0.86         4\n",
      "         541       1.00      0.50      0.67         2\n",
      "         542       0.86      1.00      0.92         6\n",
      "         543       1.00      1.00      1.00         4\n",
      "         544       0.83      1.00      0.91         5\n",
      "         545       0.75      0.75      0.75         4\n",
      "         546       1.00      1.00      1.00         9\n",
      "         548       1.00      1.00      1.00         1\n",
      "         549       1.00      0.60      0.75         5\n",
      "         550       0.40      1.00      0.57         2\n",
      "         552       1.00      0.50      0.67         2\n",
      "         553       0.00      0.00      0.00         1\n",
      "         554       1.00      1.00      1.00         1\n",
      "         555       0.67      0.67      0.67         3\n",
      "         556       1.00      0.25      0.40         4\n",
      "         557       0.00      0.00      0.00         1\n",
      "         558       1.00      0.67      0.80         3\n",
      "         559       1.00      1.00      1.00         2\n",
      "         560       1.00      0.50      0.67         2\n",
      "         561       1.00      1.00      1.00         2\n",
      "         562       1.00      0.50      0.67         2\n",
      "         563       1.00      1.00      1.00         2\n",
      "         564       0.67      1.00      0.80         2\n",
      "         565       1.00      0.67      0.80         3\n",
      "         566       1.00      1.00      1.00         1\n",
      "         567       0.00      0.00      0.00         1\n",
      "         568       0.67      1.00      0.80         2\n",
      "         569       0.67      0.67      0.67         3\n",
      "         570       1.00      1.00      1.00         1\n",
      "         571       0.00      0.00      0.00         0\n",
      "         573       0.50      0.33      0.40         3\n",
      "         574       1.00      0.71      0.83         7\n",
      "         575       0.25      0.25      0.25         4\n",
      "         576       0.67      0.29      0.40         7\n",
      "         577       1.00      0.33      0.50         9\n",
      "         579       0.50      1.00      0.67         2\n",
      "         580       0.92      0.96      0.94        25\n",
      "         581       0.00      0.00      0.00         0\n",
      "         582       1.00      1.00      1.00         6\n",
      "         584       1.00      0.67      0.80         6\n",
      "         585       1.00      0.57      0.73         7\n",
      "         586       1.00      0.67      0.80         3\n",
      "         587       0.50      0.33      0.40         3\n",
      "         588       1.00      1.00      1.00         1\n",
      "         589       0.57      0.67      0.62         6\n",
      "         590       1.00      1.00      1.00         4\n",
      "         591       1.00      0.50      0.67         4\n",
      "         592       0.75      1.00      0.86         3\n",
      "         594       0.33      0.33      0.33         3\n",
      "         595       0.25      0.33      0.29         3\n",
      "         596       0.67      1.00      0.80         2\n",
      "         597       0.75      1.00      0.86         3\n",
      "         598       1.00      1.00      1.00         2\n",
      "         599       0.50      0.67      0.57         3\n",
      "         601       1.00      0.83      0.91         6\n",
      "         602       1.00      1.00      1.00         5\n",
      "         603       0.60      1.00      0.75         3\n",
      "         604       0.60      0.60      0.60         5\n",
      "         605       1.00      0.25      0.40         4\n",
      "         606       1.00      1.00      1.00         4\n",
      "         607       1.00      0.75      0.86         4\n",
      "         608       1.00      0.75      0.86         4\n",
      "         609       0.00      0.00      0.00         1\n",
      "         610       0.00      0.00      0.00         0\n",
      "         611       0.60      0.75      0.67         4\n",
      "         612       0.18      1.00      0.31         2\n",
      "         614       1.00      0.67      0.80         3\n",
      "         616       0.92      0.80      0.86        15\n",
      "         617       1.00      1.00      1.00         4\n",
      "         618       0.50      1.00      0.67         3\n",
      "         619       0.43      1.00      0.60         3\n",
      "         620       1.00      0.25      0.40         4\n",
      "         621       0.25      0.40      0.31         5\n",
      "         622       0.75      0.67      0.71         9\n",
      "         623       0.33      0.50      0.40         2\n",
      "         624       0.86      0.86      0.86         7\n",
      "         625       0.00      0.00      0.00         1\n",
      "         626       0.00      0.00      0.00         0\n",
      "         627       1.00      1.00      1.00         1\n",
      "         628       1.00      1.00      1.00         4\n",
      "         629       1.00      0.67      0.80         3\n",
      "         630       0.75      0.60      0.67         5\n",
      "         631       0.60      0.75      0.67         4\n",
      "         632       0.25      1.00      0.40         1\n",
      "         633       1.00      0.50      0.67         2\n",
      "         634       1.00      1.00      1.00         1\n",
      "         635       0.75      0.75      0.75         4\n",
      "         636       0.50      1.00      0.67         1\n",
      "         638       0.00      0.00      0.00         1\n",
      "         639       0.67      0.67      0.67         3\n",
      "         640       0.00      0.00      0.00         0\n",
      "         641       0.60      0.75      0.67         4\n",
      "         642       1.00      1.00      1.00         2\n",
      "         643       1.00      1.00      1.00         1\n",
      "         644       0.83      1.00      0.91         5\n",
      "         645       1.00      0.80      0.89         5\n",
      "         646       0.78      0.88      0.82         8\n",
      "         647       0.33      1.00      0.50         1\n",
      "         648       1.00      1.00      1.00         3\n",
      "         649       1.00      1.00      1.00         1\n",
      "         650       0.40      1.00      0.57         2\n",
      "         651       1.00      0.60      0.75         5\n",
      "         652       0.00      0.00      0.00         0\n",
      "         653       0.50      1.00      0.67         1\n",
      "         654       0.50      1.00      0.67         1\n",
      "         655       0.67      1.00      0.80         2\n",
      "         656       1.00      0.33      0.50         3\n",
      "         657       1.00      0.43      0.60         7\n",
      "         658       0.75      1.00      0.86         3\n",
      "         659       1.00      1.00      1.00         1\n",
      "         660       1.00      1.00      1.00         1\n",
      "         661       0.60      0.86      0.71         7\n",
      "         662       1.00      1.00      1.00         5\n",
      "         663       1.00      0.67      0.80         3\n",
      "         664       0.88      1.00      0.93         7\n",
      "         665       1.00      1.00      1.00         2\n",
      "         666       1.00      1.00      1.00         1\n",
      "         667       0.00      0.00      0.00         2\n",
      "         668       0.71      0.71      0.71         7\n",
      "         669       0.57      1.00      0.73         4\n",
      "         670       1.00      1.00      1.00         3\n",
      "         671       1.00      0.67      0.80         3\n",
      "         672       0.00      0.00      0.00         2\n",
      "         673       1.00      0.80      0.89         5\n",
      "         674       0.62      1.00      0.77         5\n",
      "         675       1.00      0.67      0.80         3\n",
      "         676       0.00      0.00      0.00         4\n",
      "         677       0.50      1.00      0.67         1\n",
      "         678       1.00      1.00      1.00         2\n",
      "         679       1.00      1.00      1.00         4\n",
      "         680       0.75      1.00      0.86         3\n",
      "         681       1.00      0.71      0.83         7\n",
      "         682       1.00      0.40      0.57         5\n",
      "         683       1.00      0.50      0.67         4\n",
      "         684       1.00      1.00      1.00         4\n",
      "         685       0.50      0.50      0.50         2\n",
      "         686       0.67      1.00      0.80         2\n",
      "         687       1.00      1.00      1.00         2\n",
      "         688       1.00      1.00      1.00         2\n",
      "         689       0.67      1.00      0.80         2\n",
      "         690       1.00      0.33      0.50         3\n",
      "         691       1.00      1.00      1.00         3\n",
      "         692       0.00      0.00      0.00         3\n",
      "         693       0.67      1.00      0.80         2\n",
      "         694       0.33      0.67      0.44         3\n",
      "         695       0.50      1.00      0.67         3\n",
      "         696       0.67      0.67      0.67         3\n",
      "         697       1.00      1.00      1.00         1\n",
      "         698       0.85      0.92      0.88        12\n",
      "         699       0.62      1.00      0.77         5\n",
      "         700       1.00      1.00      1.00         1\n",
      "         701       0.67      0.40      0.50         5\n",
      "         702       0.00      0.00      0.00         1\n",
      "         703       0.00      0.00      0.00         1\n",
      "         704       0.00      0.00      0.00         1\n",
      "         705       0.50      0.33      0.40         3\n",
      "         706       0.50      1.00      0.67         1\n",
      "         707       1.00      1.00      1.00         1\n",
      "         708       1.00      0.25      0.40         4\n",
      "         709       0.00      0.00      0.00         0\n",
      "         710       1.00      0.50      0.67         2\n",
      "         711       1.00      1.00      1.00         2\n",
      "         712       0.00      0.00      0.00         1\n",
      "         713       1.00      0.50      0.67         6\n",
      "         714       1.00      0.83      0.91         6\n",
      "         715       1.00      1.00      1.00         3\n",
      "         716       0.67      0.40      0.50         5\n",
      "         717       1.00      0.33      0.50         3\n",
      "         718       0.00      0.00      0.00         0\n",
      "         719       0.75      1.00      0.86         3\n",
      "         720       1.00      1.00      1.00         2\n",
      "         721       1.00      0.33      0.50         3\n",
      "         722       0.50      1.00      0.67         2\n",
      "         723       0.88      1.00      0.93         7\n",
      "         725       0.67      1.00      0.80         2\n",
      "         726       0.50      1.00      0.67         1\n",
      "         727       0.75      1.00      0.86         3\n",
      "         728       0.86      1.00      0.92         6\n",
      "         729       0.80      1.00      0.89         4\n",
      "         730       0.50      1.00      0.67         4\n",
      "         732       1.00      1.00      1.00         1\n",
      "         733       0.80      0.80      0.80         5\n",
      "         734       0.80      1.00      0.89         4\n",
      "         735       0.57      0.80      0.67         5\n",
      "         736       0.00      0.00      0.00         1\n",
      "         737       1.00      0.83      0.91         6\n",
      "         738       0.14      1.00      0.25         1\n",
      "         739       0.67      1.00      0.80         2\n",
      "         740       1.00      0.50      0.67         2\n",
      "         741       0.50      0.20      0.29         5\n",
      "         742       0.57      0.80      0.67         5\n",
      "         743       1.00      0.67      0.80         3\n",
      "         744       0.20      0.33      0.25         3\n",
      "         746       0.50      0.50      0.50         2\n",
      "         747       0.60      1.00      0.75         3\n",
      "         748       0.80      1.00      0.89         4\n",
      "         749       0.67      0.80      0.73         5\n",
      "         750       1.00      1.00      1.00         2\n",
      "         751       1.00      1.00      1.00         3\n",
      "         752       0.88      0.88      0.88         8\n",
      "         754       1.00      1.00      1.00         2\n",
      "         755       0.00      0.00      0.00         2\n",
      "         756       0.00      0.00      0.00         1\n",
      "         757       1.00      1.00      1.00         2\n",
      "         758       1.00      1.00      1.00         2\n",
      "         759       0.80      1.00      0.89         4\n",
      "         760       1.00      1.00      1.00         3\n",
      "         761       0.83      1.00      0.91         5\n",
      "         762       0.60      0.75      0.67         4\n",
      "         763       0.60      1.00      0.75         3\n",
      "         764       1.00      0.50      0.67         2\n",
      "         765       0.20      1.00      0.33         1\n",
      "         766       1.00      1.00      1.00         5\n",
      "         767       1.00      1.00      1.00         2\n",
      "         768       0.43      1.00      0.60         3\n",
      "         769       0.43      1.00      0.60         3\n",
      "         770       1.00      0.67      0.80         6\n",
      "         771       0.00      0.00      0.00         0\n",
      "         773       1.00      1.00      1.00         2\n",
      "         774       1.00      1.00      1.00         1\n",
      "         775       0.00      0.00      0.00         1\n",
      "         776       1.00      1.00      1.00         3\n",
      "         777       1.00      1.00      1.00         2\n",
      "         778       0.00      0.00      0.00         1\n",
      "         779       1.00      1.00      1.00         2\n",
      "         780       0.00      0.00      0.00         1\n",
      "         781       1.00      1.00      1.00         2\n",
      "         782       1.00      1.00      1.00         2\n",
      "         783       0.56      1.00      0.71         5\n",
      "         784       0.80      0.80      0.80         5\n",
      "         785       1.00      1.00      1.00         2\n",
      "         786       0.00      0.00      0.00         1\n",
      "         787       1.00      1.00      1.00         1\n",
      "         788       0.50      1.00      0.67         1\n",
      "         789       1.00      1.00      1.00         2\n",
      "         790       0.86      0.75      0.80         8\n",
      "         791       1.00      0.25      0.40         4\n",
      "         792       1.00      0.60      0.75         5\n",
      "         793       0.67      0.50      0.57         4\n",
      "         794       1.00      0.50      0.67         6\n",
      "         795       1.00      1.00      1.00         2\n",
      "         796       0.75      0.60      0.67         5\n",
      "         797       0.40      0.40      0.40         5\n",
      "         798       1.00      0.83      0.91         6\n",
      "         799       1.00      0.75      0.86         4\n",
      "         800       0.50      1.00      0.67         1\n",
      "         801       0.00      0.00      0.00         1\n",
      "         802       1.00      0.50      0.67         4\n",
      "         803       0.33      0.33      0.33         3\n",
      "         804       1.00      1.00      1.00         2\n",
      "         806       0.00      0.00      0.00         1\n",
      "         807       0.80      1.00      0.89         4\n",
      "         808       0.00      0.00      0.00         1\n",
      "         809       0.00      0.00      0.00         0\n",
      "         810       0.80      1.00      0.89         4\n",
      "         811       0.50      0.50      0.50         2\n",
      "         812       1.00      1.00      1.00         2\n",
      "         813       1.00      0.50      0.67         2\n",
      "         814       0.00      0.00      0.00         1\n",
      "         815       1.00      0.20      0.33         5\n",
      "         816       0.00      0.00      0.00         2\n",
      "         817       1.00      0.75      0.86         4\n",
      "         818       0.75      1.00      0.86         3\n",
      "         819       0.33      0.50      0.40         2\n",
      "         820       0.67      1.00      0.80         2\n",
      "         821       0.00      0.00      0.00         1\n",
      "         822       1.00      0.50      0.67         2\n",
      "         823       0.50      1.00      0.67         1\n",
      "         824       0.50      1.00      0.67         1\n",
      "         825       0.00      0.00      0.00         2\n",
      "         827       0.75      0.60      0.67         5\n",
      "         828       1.00      0.67      0.80         3\n",
      "         829       0.93      0.97      0.95        39\n",
      "         831       1.00      1.00      1.00         6\n",
      "         832       0.00      0.00      0.00         0\n",
      "         833       0.67      0.33      0.44         6\n",
      "         834       1.00      1.00      1.00         3\n",
      "         835       0.50      1.00      0.67         1\n",
      "         836       1.00      1.00      1.00         3\n",
      "         837       0.83      0.83      0.83         6\n",
      "         838       1.00      0.67      0.80         3\n",
      "         839       1.00      1.00      1.00         3\n",
      "         840       1.00      1.00      1.00         4\n",
      "         841       0.78      0.88      0.82         8\n",
      "         842       1.00      1.00      1.00         1\n",
      "         843       0.67      1.00      0.80         2\n",
      "         844       1.00      1.00      1.00         1\n",
      "         845       1.00      1.00      1.00         6\n",
      "         847       1.00      0.50      0.67         2\n",
      "         848       0.89      0.89      0.89         9\n",
      "         849       0.75      0.75      0.75         4\n",
      "         850       1.00      0.94      0.97        17\n",
      "         851       0.75      1.00      0.86         3\n",
      "         852       0.00      0.00      0.00         0\n",
      "         853       1.00      0.50      0.67         6\n",
      "         854       0.75      1.00      0.86         3\n",
      "         855       1.00      1.00      1.00         2\n",
      "         856       1.00      0.75      0.86         4\n",
      "         857       1.00      0.83      0.91         6\n",
      "         858       1.00      0.83      0.91         6\n",
      "         859       1.00      1.00      1.00         1\n",
      "         860       0.00      0.00      0.00         2\n",
      "         861       1.00      1.00      1.00         1\n",
      "         862       1.00      1.00      1.00         6\n",
      "         863       0.50      1.00      0.67         2\n",
      "         864       0.67      1.00      0.80         2\n",
      "         865       1.00      0.60      0.75         5\n",
      "         866       0.50      1.00      0.67         1\n",
      "         867       1.00      1.00      1.00         4\n",
      "         868       0.60      0.75      0.67         4\n",
      "         869       1.00      0.67      0.80         3\n",
      "         870       1.00      1.00      1.00         3\n",
      "         871       0.67      0.67      0.67         3\n",
      "         872       1.00      0.33      0.50         3\n",
      "         873       1.00      0.50      0.67         4\n",
      "         874       0.73      1.00      0.84         8\n",
      "         875       1.00      0.67      0.80         3\n",
      "         876       0.00      0.00      0.00         2\n",
      "         877       0.71      1.00      0.83         5\n",
      "         878       0.75      0.75      0.75         4\n",
      "         879       1.00      0.67      0.80         6\n",
      "         880       1.00      0.50      0.67         4\n",
      "         882       0.80      0.80      0.80         5\n",
      "         883       1.00      0.75      0.86         4\n",
      "         885       1.00      1.00      1.00         5\n",
      "         886       1.00      1.00      1.00         1\n",
      "         887       0.75      1.00      0.86         3\n",
      "         888       1.00      0.40      0.57         5\n",
      "         889       0.00      0.00      0.00         0\n",
      "         890       0.00      0.00      0.00         1\n",
      "         891       1.00      1.00      1.00         1\n",
      "         892       1.00      1.00      1.00         1\n",
      "         893       0.50      0.75      0.60         4\n",
      "         894       1.00      1.00      1.00         2\n",
      "         895       0.00      0.00      0.00         1\n",
      "         896       0.67      1.00      0.80         4\n",
      "         897       0.75      1.00      0.86         3\n",
      "         898       0.00      0.00      0.00         1\n",
      "         899       0.33      1.00      0.50         2\n",
      "         900       1.00      0.75      0.86         4\n",
      "         901       1.00      0.67      0.80         3\n",
      "         902       0.67      1.00      0.80         2\n",
      "         903       1.00      0.40      0.57         5\n",
      "         904       0.00      0.00      0.00         1\n",
      "\n",
      "    accuracy                           0.75      2778\n",
      "   macro avg       0.72      0.71      0.68      2778\n",
      "weighted avg       0.80      0.75      0.74      2778\n",
      "\n"
     ]
    },
    {
     "name": "stderr",
     "output_type": "stream",
     "text": [
      "c:\\Users\\valen\\AppData\\Local\\Programs\\Python\\Python310\\lib\\site-packages\\sklearn\\metrics\\_classification.py:1334: UndefinedMetricWarning:\n",
      "\n",
      "Precision and F-score are ill-defined and being set to 0.0 in labels with no predicted samples. Use `zero_division` parameter to control this behavior.\n",
      "\n",
      "c:\\Users\\valen\\AppData\\Local\\Programs\\Python\\Python310\\lib\\site-packages\\sklearn\\metrics\\_classification.py:1334: UndefinedMetricWarning:\n",
      "\n",
      "Recall and F-score are ill-defined and being set to 0.0 in labels with no true samples. Use `zero_division` parameter to control this behavior.\n",
      "\n",
      "c:\\Users\\valen\\AppData\\Local\\Programs\\Python\\Python310\\lib\\site-packages\\sklearn\\metrics\\_classification.py:1334: UndefinedMetricWarning:\n",
      "\n",
      "Precision and F-score are ill-defined and being set to 0.0 in labels with no predicted samples. Use `zero_division` parameter to control this behavior.\n",
      "\n",
      "c:\\Users\\valen\\AppData\\Local\\Programs\\Python\\Python310\\lib\\site-packages\\sklearn\\metrics\\_classification.py:1334: UndefinedMetricWarning:\n",
      "\n",
      "Recall and F-score are ill-defined and being set to 0.0 in labels with no true samples. Use `zero_division` parameter to control this behavior.\n",
      "\n",
      "c:\\Users\\valen\\AppData\\Local\\Programs\\Python\\Python310\\lib\\site-packages\\sklearn\\metrics\\_classification.py:1334: UndefinedMetricWarning:\n",
      "\n",
      "Precision and F-score are ill-defined and being set to 0.0 in labels with no predicted samples. Use `zero_division` parameter to control this behavior.\n",
      "\n",
      "c:\\Users\\valen\\AppData\\Local\\Programs\\Python\\Python310\\lib\\site-packages\\sklearn\\metrics\\_classification.py:1334: UndefinedMetricWarning:\n",
      "\n",
      "Recall and F-score are ill-defined and being set to 0.0 in labels with no true samples. Use `zero_division` parameter to control this behavior.\n",
      "\n"
     ]
    }
   ],
   "source": [
    "from sklearn.metrics import classification_report\n",
    "print(\"Classification report for EfficientNetB4: \")\n",
    "print(classification_report(y_test, y_pred_eff_))"
   ]
  },
  {
   "cell_type": "code",
   "execution_count": 43,
   "metadata": {},
   "outputs": [
    {
     "name": "stdout",
     "output_type": "stream",
     "text": [
      "Classification report for CNN: \n",
      "              precision    recall  f1-score   support\n",
      "\n",
      "           0       0.21      0.75      0.33         4\n",
      "           1       1.00      0.20      0.33         5\n",
      "           2       0.14      0.20      0.17         5\n",
      "           3       0.50      0.33      0.40         3\n",
      "           4       1.00      0.25      0.40         4\n",
      "           5       0.25      0.50      0.33         2\n",
      "           6       0.25      0.33      0.29         3\n",
      "           7       0.00      0.00      0.00         5\n",
      "           8       0.80      0.57      0.67         7\n",
      "           9       0.96      0.55      0.70        49\n",
      "          10       0.00      0.00      0.00         1\n",
      "          11       0.25      0.38      0.30         8\n",
      "          12       0.00      0.00      0.00         1\n",
      "          13       0.67      1.00      0.80         2\n",
      "          14       0.00      0.00      0.00         2\n",
      "          15       0.43      1.00      0.60         6\n",
      "          16       0.30      0.75      0.43         4\n",
      "          17       0.00      0.00      0.00         1\n",
      "          18       0.00      0.00      0.00         2\n",
      "          19       1.00      0.67      0.80         3\n",
      "          20       0.00      0.00      0.00         1\n",
      "          21       0.17      0.33      0.22         3\n",
      "          22       0.28      1.00      0.44        24\n",
      "          23       0.00      0.00      0.00         3\n",
      "          24       0.00      0.00      0.00         0\n",
      "          25       0.00      0.00      0.00         0\n",
      "          26       0.50      1.00      0.67         1\n",
      "          27       0.00      0.00      0.00         2\n",
      "          28       1.00      0.67      0.80         3\n",
      "          30       0.00      0.00      0.00         2\n",
      "          31       0.00      0.00      0.00         1\n",
      "          32       0.27      1.00      0.42         4\n",
      "          33       0.33      0.25      0.29         4\n",
      "          34       0.17      0.50      0.25         2\n",
      "          35       0.00      0.00      0.00         1\n",
      "          36       0.00      0.00      0.00         2\n",
      "          37       0.00      0.00      0.00         6\n",
      "          38       0.60      1.00      0.75         3\n",
      "          39       0.00      0.00      0.00         3\n",
      "          40       0.00      0.00      0.00         2\n",
      "          41       1.00      0.33      0.50         3\n",
      "          42       0.50      1.00      0.67         2\n",
      "          44       0.00      0.00      0.00         4\n",
      "          45       0.00      0.00      0.00         1\n",
      "          47       0.00      0.00      0.00         3\n",
      "          48       0.00      0.00      0.00         2\n",
      "          49       0.67      1.00      0.80         2\n",
      "          50       0.67      0.67      0.67         3\n",
      "          51       0.00      0.00      0.00         8\n",
      "          52       0.04      1.00      0.08         1\n",
      "          53       0.00      0.00      0.00         3\n",
      "          54       0.00      0.00      0.00         2\n",
      "          55       1.00      0.50      0.67         2\n",
      "          57       1.00      1.00      1.00         2\n",
      "          58       0.67      1.00      0.80         2\n",
      "          59       0.00      0.00      0.00         2\n",
      "          60       0.00      0.00      0.00         5\n",
      "          61       1.00      1.00      1.00         1\n",
      "          62       1.00      1.00      1.00         1\n",
      "          63       0.50      0.33      0.40         3\n",
      "          64       0.67      0.29      0.40         7\n",
      "          65       0.20      0.25      0.22         4\n",
      "          66       0.00      0.00      0.00         1\n",
      "          67       0.50      1.00      0.67         2\n",
      "          68       0.25      0.33      0.29         3\n",
      "          69       1.00      0.50      0.67         2\n",
      "          71       0.00      0.00      0.00         2\n",
      "          72       1.00      0.25      0.40         4\n",
      "          74       0.00      0.00      0.00         1\n",
      "          75       0.00      0.00      0.00         3\n",
      "          76       0.50      0.50      0.50         2\n",
      "          77       0.00      0.00      0.00         0\n",
      "          78       1.00      0.67      0.80         3\n",
      "          79       0.00      0.00      0.00         2\n",
      "          80       0.00      0.00      0.00         2\n",
      "          81       0.00      0.00      0.00         3\n",
      "          82       0.00      0.00      0.00         4\n",
      "          83       0.00      0.00      0.00         5\n",
      "          84       0.00      0.00      0.00         4\n",
      "          86       0.33      0.20      0.25         5\n",
      "          87       0.18      1.00      0.30         5\n",
      "          88       0.00      0.00      0.00         1\n",
      "          89       0.00      0.00      0.00         3\n",
      "          90       0.17      0.33      0.22         3\n",
      "          92       1.00      0.43      0.60         7\n",
      "          93       0.00      0.00      0.00         0\n",
      "          94       0.00      0.00      0.00         1\n",
      "          95       1.00      1.00      1.00         3\n",
      "          96       0.50      0.33      0.40         3\n",
      "          97       0.40      0.50      0.44         4\n",
      "          98       0.12      0.33      0.18         3\n",
      "          99       0.00      0.00      0.00         6\n",
      "         100       1.00      0.50      0.67         2\n",
      "         101       0.00      0.00      0.00         2\n",
      "         102       0.33      1.00      0.50         1\n",
      "         103       0.00      0.00      0.00         1\n",
      "         104       0.00      0.00      0.00         2\n",
      "         105       0.00      0.00      0.00         3\n",
      "         106       1.00      0.22      0.36         9\n",
      "         107       0.00      0.00      0.00         1\n",
      "         108       1.00      0.20      0.33         5\n",
      "         109       0.00      0.00      0.00         1\n",
      "         111       0.00      0.00      0.00         3\n",
      "         112       1.00      0.50      0.67         2\n",
      "         113       0.50      0.50      0.50         2\n",
      "         114       1.00      1.00      1.00         1\n",
      "         115       0.00      0.00      0.00         1\n",
      "         116       1.00      0.20      0.33         5\n",
      "         117       0.00      0.00      0.00         5\n",
      "         118       0.00      0.00      0.00         5\n",
      "         119       0.00      0.00      0.00         1\n",
      "         120       0.00      0.00      0.00         2\n",
      "         121       0.00      0.00      0.00         0\n",
      "         122       0.00      0.00      0.00         1\n",
      "         123       0.50      0.25      0.33         4\n",
      "         124       0.00      0.00      0.00         3\n",
      "         125       0.00      0.00      0.00         2\n",
      "         126       1.00      1.00      1.00         1\n",
      "         127       0.45      1.00      0.62         5\n",
      "         128       0.00      0.00      0.00         3\n",
      "         129       1.00      0.25      0.40         4\n",
      "         130       0.00      0.00      0.00         2\n",
      "         131       0.40      0.67      0.50         6\n",
      "         132       1.00      0.50      0.67         2\n",
      "         133       0.00      0.00      0.00         0\n",
      "         134       0.00      0.00      0.00         2\n",
      "         135       0.00      0.00      0.00         6\n",
      "         136       0.00      0.00      0.00         3\n",
      "         137       0.00      0.00      0.00         0\n",
      "         138       1.00      0.67      0.80         3\n",
      "         139       0.00      0.00      0.00         1\n",
      "         140       0.50      0.33      0.40         3\n",
      "         141       1.00      0.40      0.57         5\n",
      "         142       0.00      0.00      0.00         1\n",
      "         143       0.00      0.00      0.00         2\n",
      "         144       1.00      1.00      1.00         1\n",
      "         145       0.00      0.00      0.00         1\n",
      "         146       1.00      0.25      0.40         4\n",
      "         147       0.00      0.00      0.00         2\n",
      "         148       0.00      0.00      0.00         2\n",
      "         149       0.50      1.00      0.67         2\n",
      "         150       0.00      0.00      0.00         1\n",
      "         151       0.00      0.00      0.00         6\n",
      "         152       0.00      0.00      0.00         2\n",
      "         153       1.00      0.50      0.67         2\n",
      "         154       0.00      0.00      0.00         5\n",
      "         155       0.00      0.00      0.00         1\n",
      "         156       0.00      0.00      0.00         8\n",
      "         157       1.00      1.00      1.00         2\n",
      "         159       1.00      0.14      0.25         7\n",
      "         160       0.20      1.00      0.33         2\n",
      "         161       0.00      0.00      0.00         1\n",
      "         162       0.06      1.00      0.11         2\n",
      "         163       0.00      0.00      0.00         0\n",
      "         164       0.00      0.00      0.00         6\n",
      "         165       0.00      0.00      0.00         3\n",
      "         166       0.25      0.25      0.25         4\n",
      "         167       0.00      0.00      0.00         0\n",
      "         168       1.00      0.33      0.50         3\n",
      "         169       0.00      0.00      0.00         1\n",
      "         170       0.00      0.00      0.00         1\n",
      "         171       0.00      0.00      0.00         7\n",
      "         172       0.00      0.00      0.00         2\n",
      "         173       0.25      0.33      0.29         3\n",
      "         174       0.00      0.00      0.00         1\n",
      "         176       0.50      0.75      0.60         8\n",
      "         177       0.05      0.67      0.09         3\n",
      "         178       1.00      0.25      0.40         4\n",
      "         179       0.00      0.00      0.00         2\n",
      "         180       0.00      0.00      0.00         1\n",
      "         181       0.14      1.00      0.25         3\n",
      "         182       0.00      0.00      0.00         3\n",
      "         183       0.00      0.00      0.00         1\n",
      "         184       1.00      0.67      0.80         3\n",
      "         185       0.00      0.00      0.00         2\n",
      "         186       0.00      0.00      0.00         2\n",
      "         187       0.00      0.00      0.00         4\n",
      "         188       0.50      0.14      0.22         7\n",
      "         189       0.00      0.00      0.00         1\n",
      "         190       0.00      0.00      0.00         2\n",
      "         191       0.00      0.00      0.00         2\n",
      "         192       0.00      0.00      0.00         4\n",
      "         193       1.00      0.25      0.40         4\n",
      "         194       0.00      0.00      0.00         3\n",
      "         195       0.67      0.29      0.40         7\n",
      "         196       0.22      0.67      0.33         3\n",
      "         197       0.00      0.00      0.00         2\n",
      "         198       0.00      0.00      0.00         2\n",
      "         199       1.00      0.33      0.50         3\n",
      "         200       0.00      0.00      0.00         2\n",
      "         203       0.75      1.00      0.86         3\n",
      "         204       0.00      0.00      0.00         3\n",
      "         205       0.00      0.00      0.00         5\n",
      "         206       0.00      0.00      0.00         2\n",
      "         207       1.00      0.50      0.67         2\n",
      "         208       0.00      0.00      0.00         2\n",
      "         209       0.00      0.00      0.00         1\n",
      "         210       1.00      0.25      0.40         4\n",
      "         211       0.00      0.00      0.00         6\n",
      "         212       0.00      0.00      0.00         4\n",
      "         213       0.50      0.67      0.57         3\n",
      "         214       0.00      0.00      0.00         1\n",
      "         215       0.00      0.00      0.00         1\n",
      "         216       0.00      0.00      0.00         0\n",
      "         217       0.00      0.00      0.00         2\n",
      "         218       1.00      0.50      0.67         2\n",
      "         219       1.00      0.33      0.50         3\n",
      "         220       0.75      1.00      0.86         3\n",
      "         221       0.00      0.00      0.00         1\n",
      "         222       0.00      0.00      0.00         1\n",
      "         223       0.00      0.00      0.00         5\n",
      "         224       0.00      0.00      0.00         1\n",
      "         225       0.00      0.00      0.00         2\n",
      "         226       0.00      0.00      0.00         2\n",
      "         227       0.25      0.50      0.33         2\n",
      "         228       0.00      0.00      0.00         1\n",
      "         229       0.00      0.00      0.00         5\n",
      "         230       1.00      0.75      0.86         4\n",
      "         231       0.00      0.00      0.00         1\n",
      "         232       0.00      0.00      0.00         0\n",
      "         234       0.00      0.00      0.00         4\n",
      "         235       1.00      1.00      1.00         3\n",
      "         237       0.00      0.00      0.00         2\n",
      "         238       1.00      1.00      1.00         2\n",
      "         239       0.00      0.00      0.00         3\n",
      "         240       0.00      0.00      0.00         1\n",
      "         241       1.00      0.33      0.50         3\n",
      "         242       0.17      0.50      0.25         2\n",
      "         243       0.50      0.67      0.57         3\n",
      "         244       0.31      1.00      0.48         5\n",
      "         245       1.00      0.20      0.33         5\n",
      "         246       0.00      0.00      0.00         1\n",
      "         247       0.00      0.00      0.00         6\n",
      "         248       0.33      0.33      0.33         3\n",
      "         249       1.00      0.25      0.40         4\n",
      "         250       0.00      0.00      0.00         1\n",
      "         251       0.56      0.83      0.67         6\n",
      "         252       0.50      0.33      0.40         3\n",
      "         253       0.00      0.00      0.00         2\n",
      "         254       0.00      0.00      0.00         1\n",
      "         255       1.00      0.33      0.50         3\n",
      "         256       0.07      0.50      0.12         6\n",
      "         257       0.00      0.00      0.00         2\n",
      "         258       0.20      0.20      0.20         5\n",
      "         259       0.00      0.00      0.00         3\n",
      "         260       0.00      0.00      0.00         1\n",
      "         261       0.00      0.00      0.00         2\n",
      "         262       0.00      0.00      0.00         2\n",
      "         263       0.67      1.00      0.80         2\n",
      "         264       1.00      1.00      1.00         4\n",
      "         265       0.00      0.00      0.00         2\n",
      "         266       0.00      0.00      0.00         3\n",
      "         267       0.67      0.67      0.67         3\n",
      "         268       1.00      0.25      0.40         4\n",
      "         269       0.00      0.00      0.00         3\n",
      "         270       1.00      1.00      1.00         1\n",
      "         271       0.00      0.00      0.00         3\n",
      "         272       0.25      0.50      0.33         4\n",
      "         273       0.00      0.00      0.00         1\n",
      "         274       0.00      0.00      0.00         6\n",
      "         275       0.00      0.00      0.00         3\n",
      "         276       0.00      0.00      0.00        10\n",
      "         277       0.50      1.00      0.67         2\n",
      "         278       0.00      0.00      0.00         2\n",
      "         279       1.00      0.50      0.67         6\n",
      "         280       1.00      1.00      1.00         5\n",
      "         281       1.00      0.57      0.73         7\n",
      "         282       0.33      0.33      0.33         3\n",
      "         283       0.00      0.00      0.00         9\n",
      "         284       0.55      1.00      0.71         6\n",
      "         285       1.00      0.33      0.50         6\n",
      "         286       0.00      0.00      0.00         5\n",
      "         287       1.00      0.67      0.80         3\n",
      "         288       0.00      0.00      0.00         1\n",
      "         289       1.00      0.11      0.20         9\n",
      "         290       0.50      0.67      0.57         3\n",
      "         291       0.25      0.12      0.17         8\n",
      "         292       0.60      0.60      0.60         5\n",
      "         293       0.00      0.00      0.00         0\n",
      "         295       0.17      0.50      0.25         4\n",
      "         296       1.00      0.25      0.40         4\n",
      "         297       1.00      0.33      0.50         6\n",
      "         298       1.00      0.33      0.50         3\n",
      "         299       0.40      0.50      0.44         4\n",
      "         300       0.04      0.50      0.07         4\n",
      "         301       0.00      0.00      0.00         3\n",
      "         302       0.75      0.75      0.75         4\n",
      "         303       0.00      0.00      0.00         3\n",
      "         304       1.00      1.00      1.00         1\n",
      "         305       0.00      0.00      0.00         0\n",
      "         306       0.00      0.00      0.00         3\n",
      "         307       0.00      0.00      0.00         4\n",
      "         308       0.00      0.00      0.00         5\n",
      "         310       0.00      0.00      0.00         4\n",
      "         311       1.00      0.50      0.67         4\n",
      "         312       0.75      0.75      0.75         4\n",
      "         314       0.00      0.00      0.00         3\n",
      "         315       0.00      0.00      0.00         1\n",
      "         316       0.00      0.00      0.00         5\n",
      "         318       0.00      0.00      0.00         3\n",
      "         319       0.00      0.00      0.00         3\n",
      "         320       0.00      0.00      0.00         2\n",
      "         321       0.00      0.00      0.00         1\n",
      "         322       0.00      0.00      0.00         1\n",
      "         323       0.00      0.00      0.00         3\n",
      "         324       0.00      0.00      0.00         3\n",
      "         325       0.00      0.00      0.00         4\n",
      "         327       0.67      0.67      0.67         3\n",
      "         328       0.67      0.40      0.50         5\n",
      "         329       0.00      0.00      0.00         1\n",
      "         330       0.50      1.00      0.67         1\n",
      "         331       0.00      0.00      0.00         1\n",
      "         332       0.00      0.00      0.00         4\n",
      "         333       1.00      1.00      1.00         1\n",
      "         334       0.00      0.00      0.00         2\n",
      "         335       0.50      1.00      0.67         1\n",
      "         336       0.00      0.00      0.00         3\n",
      "         337       0.00      0.00      0.00         2\n",
      "         338       0.00      0.00      0.00         1\n",
      "         339       1.00      0.40      0.57         5\n",
      "         340       1.00      1.00      1.00         1\n",
      "         341       1.00      0.33      0.50         3\n",
      "         342       0.00      0.00      0.00         2\n",
      "         343       0.50      0.50      0.50         2\n",
      "         344       0.00      0.00      0.00         1\n",
      "         345       0.00      0.00      0.00         2\n",
      "         346       0.00      0.00      0.00         5\n",
      "         347       0.00      0.00      0.00         3\n",
      "         348       0.00      0.00      0.00         2\n",
      "         349       0.00      0.00      0.00         1\n",
      "         350       0.00      0.00      0.00         3\n",
      "         351       0.33      0.75      0.46         4\n",
      "         352       1.00      0.20      0.33         5\n",
      "         353       1.00      0.33      0.50         3\n",
      "         354       0.00      0.00      0.00         3\n",
      "         355       0.00      0.00      0.00         1\n",
      "         356       0.00      0.00      0.00         2\n",
      "         357       0.00      0.00      0.00         4\n",
      "         358       0.50      1.00      0.67         2\n",
      "         359       0.33      0.20      0.25         5\n",
      "         360       0.11      0.50      0.18         6\n",
      "         361       0.00      0.00      0.00         3\n",
      "         362       0.00      0.00      0.00         4\n",
      "         363       1.00      1.00      1.00         4\n",
      "         364       0.57      0.80      0.67         5\n",
      "         365       0.00      0.00      0.00         3\n",
      "         366       1.00      0.50      0.67         2\n",
      "         367       0.00      0.00      0.00         2\n",
      "         369       0.00      0.00      0.00         2\n",
      "         370       0.25      0.50      0.33         4\n",
      "         371       0.20      1.00      0.33         1\n",
      "         372       1.00      0.33      0.50         3\n",
      "         373       0.75      0.43      0.55         7\n",
      "         374       1.00      0.50      0.67         2\n",
      "         375       0.00      0.00      0.00         0\n",
      "         376       1.00      0.14      0.25         7\n",
      "         377       0.50      0.25      0.33         4\n",
      "         378       0.17      0.67      0.27         3\n",
      "         379       1.00      0.20      0.33         5\n",
      "         380       0.40      1.00      0.57         2\n",
      "         381       0.57      1.00      0.73         4\n",
      "         382       1.00      0.67      0.80         3\n",
      "         383       0.20      0.33      0.25         3\n",
      "         384       0.40      0.50      0.44         4\n",
      "         385       0.00      0.00      0.00         5\n",
      "         386       1.00      0.40      0.57         5\n",
      "         387       0.00      0.00      0.00         4\n",
      "         388       0.00      0.00      0.00         1\n",
      "         389       0.00      0.00      0.00         4\n",
      "         390       0.33      1.00      0.50         1\n",
      "         391       0.00      0.00      0.00         5\n",
      "         392       0.00      0.00      0.00         7\n",
      "         393       1.00      0.80      0.89         5\n",
      "         394       0.33      0.25      0.29         4\n",
      "         396       0.00      0.00      0.00         2\n",
      "         397       0.00      0.00      0.00         1\n",
      "         398       0.00      0.00      0.00         3\n",
      "         399       1.00      0.20      0.33         5\n",
      "         400       0.33      0.33      0.33         3\n",
      "         402       0.00      0.00      0.00         5\n",
      "         403       1.00      0.25      0.40         4\n",
      "         404       1.00      1.00      1.00         1\n",
      "         406       1.00      0.50      0.67         2\n",
      "         407       0.00      0.00      0.00         1\n",
      "         408       0.50      0.60      0.55         5\n",
      "         409       0.07      0.17      0.10         6\n",
      "         410       0.07      0.67      0.12         3\n",
      "         411       0.00      0.00      0.00         4\n",
      "         412       0.00      0.00      0.00         5\n",
      "         413       0.00      0.00      0.00         4\n",
      "         414       0.00      0.00      0.00         4\n",
      "         415       1.00      0.50      0.67         2\n",
      "         416       1.00      0.33      0.50         3\n",
      "         417       0.00      0.00      0.00         2\n",
      "         418       0.00      0.00      0.00         6\n",
      "         419       0.29      0.50      0.36         4\n",
      "         420       1.00      0.20      0.33         5\n",
      "         421       0.50      0.33      0.40         3\n",
      "         422       0.00      0.00      0.00         2\n",
      "         423       0.00      0.00      0.00         2\n",
      "         424       1.00      0.50      0.67         4\n",
      "         425       0.00      0.00      0.00         4\n",
      "         426       0.17      0.25      0.20         4\n",
      "         427       0.00      0.00      0.00         1\n",
      "         428       0.00      0.00      0.00         2\n",
      "         429       0.00      0.00      0.00         7\n",
      "         430       0.00      0.00      0.00         2\n",
      "         431       0.00      0.00      0.00         2\n",
      "         432       0.00      0.00      0.00         2\n",
      "         433       1.00      0.67      0.80         3\n",
      "         434       0.50      0.67      0.57         3\n",
      "         435       0.00      0.00      0.00         1\n",
      "         436       1.00      0.17      0.29         6\n",
      "         437       1.00      0.14      0.25         7\n",
      "         438       0.75      1.00      0.86         3\n",
      "         439       0.03      0.25      0.06         4\n",
      "         440       0.00      0.00      0.00         2\n",
      "         441       1.00      0.67      0.80         3\n",
      "         442       0.00      0.00      0.00         1\n",
      "         443       1.00      0.25      0.40         4\n",
      "         444       0.00      0.00      0.00         4\n",
      "         445       0.00      0.00      0.00         6\n",
      "         446       0.00      0.00      0.00         2\n",
      "         447       0.00      0.00      0.00         5\n",
      "         448       1.00      1.00      1.00         1\n",
      "         449       0.75      0.50      0.60         6\n",
      "         450       0.60      0.50      0.55         6\n",
      "         451       0.80      0.67      0.73         6\n",
      "         452       0.00      0.00      0.00         3\n",
      "         453       0.00      0.00      0.00         0\n",
      "         454       0.08      0.40      0.13         5\n",
      "         455       0.25      0.50      0.33         2\n",
      "         456       0.00      0.00      0.00         3\n",
      "         457       1.00      0.17      0.29         6\n",
      "         458       1.00      0.33      0.50         6\n",
      "         459       0.00      0.00      0.00         3\n",
      "         460       0.00      0.00      0.00         2\n",
      "         461       0.00      0.00      0.00         0\n",
      "         462       0.00      0.00      0.00         3\n",
      "         463       0.00      0.00      0.00         5\n",
      "         465       0.31      1.00      0.47         4\n",
      "         466       0.00      0.00      0.00         1\n",
      "         467       1.00      0.67      0.80         3\n",
      "         468       0.00      0.00      0.00         3\n",
      "         469       1.00      0.50      0.67         2\n",
      "         470       0.00      0.00      0.00         1\n",
      "         471       0.00      0.00      0.00         2\n",
      "         472       0.00      0.00      0.00         4\n",
      "         473       0.00      0.00      0.00         2\n",
      "         475       0.00      0.00      0.00         2\n",
      "         476       0.50      0.50      0.50         2\n",
      "         477       0.00      0.00      0.00         2\n",
      "         478       0.67      0.40      0.50         5\n",
      "         479       0.20      0.75      0.32         4\n",
      "         480       0.00      0.00      0.00         2\n",
      "         482       0.00      0.00      0.00         4\n",
      "         483       0.00      0.00      0.00         3\n",
      "         484       0.00      0.00      0.00         4\n",
      "         485       0.33      0.20      0.25         5\n",
      "         486       1.00      0.50      0.67         6\n",
      "         487       1.00      0.60      0.75         5\n",
      "         488       1.00      0.80      0.89         5\n",
      "         489       0.00      0.00      0.00         3\n",
      "         490       0.00      0.00      0.00         4\n",
      "         491       0.23      0.60      0.33         5\n",
      "         492       0.00      0.00      0.00         3\n",
      "         493       0.00      0.00      0.00         5\n",
      "         494       0.00      0.00      0.00         4\n",
      "         496       0.43      0.60      0.50         5\n",
      "         497       0.33      1.00      0.50         1\n",
      "         498       0.00      0.00      0.00         6\n",
      "         500       0.10      0.25      0.14         4\n",
      "         501       0.00      0.00      0.00         5\n",
      "         502       1.00      0.50      0.67         2\n",
      "         503       0.33      1.00      0.50         1\n",
      "         504       0.75      1.00      0.86         3\n",
      "         505       0.50      0.25      0.33         4\n",
      "         506       0.00      0.00      0.00         5\n",
      "         507       0.00      0.00      0.00         2\n",
      "         508       0.00      0.00      0.00         0\n",
      "         509       0.00      0.00      0.00         1\n",
      "         510       0.88      1.00      0.93         7\n",
      "         511       1.00      0.60      0.75         5\n",
      "         513       0.00      0.00      0.00         1\n",
      "         514       0.50      0.50      0.50         2\n",
      "         516       0.00      0.00      0.00         5\n",
      "         518       0.33      0.33      0.33         3\n",
      "         519       0.00      0.00      0.00         3\n",
      "         520       0.00      0.00      0.00         1\n",
      "         521       0.00      0.00      0.00         2\n",
      "         522       0.00      0.00      0.00         2\n",
      "         523       0.00      0.00      0.00         6\n",
      "         524       0.00      0.00      0.00         1\n",
      "         525       1.00      0.50      0.67         2\n",
      "         526       1.00      0.50      0.67         2\n",
      "         527       0.00      0.00      0.00         2\n",
      "         528       0.00      0.00      0.00         2\n",
      "         529       1.00      0.67      0.80         3\n",
      "         530       0.00      0.00      0.00         2\n",
      "         531       0.00      0.00      0.00         0\n",
      "         532       0.50      0.33      0.40         3\n",
      "         533       0.11      0.40      0.17         5\n",
      "         534       0.00      0.00      0.00         3\n",
      "         535       0.00      0.00      0.00         2\n",
      "         536       0.00      0.00      0.00         0\n",
      "         537       0.00      0.00      0.00         2\n",
      "         538       0.00      0.00      0.00         1\n",
      "         539       0.17      0.17      0.17         6\n",
      "         540       0.12      0.25      0.17         4\n",
      "         541       0.00      0.00      0.00         2\n",
      "         542       0.00      0.00      0.00         6\n",
      "         543       1.00      0.25      0.40         4\n",
      "         544       1.00      0.40      0.57         5\n",
      "         545       0.50      0.25      0.33         4\n",
      "         546       0.67      0.67      0.67         9\n",
      "         548       1.00      1.00      1.00         1\n",
      "         549       0.00      0.00      0.00         5\n",
      "         550       0.00      0.00      0.00         2\n",
      "         552       0.33      0.50      0.40         2\n",
      "         553       0.08      1.00      0.15         1\n",
      "         554       0.00      0.00      0.00         1\n",
      "         555       1.00      0.33      0.50         3\n",
      "         556       1.00      0.25      0.40         4\n",
      "         557       0.00      0.00      0.00         1\n",
      "         558       0.50      0.33      0.40         3\n",
      "         559       0.33      0.50      0.40         2\n",
      "         560       0.00      0.00      0.00         2\n",
      "         561       0.00      0.00      0.00         2\n",
      "         562       0.00      0.00      0.00         2\n",
      "         563       0.00      0.00      0.00         2\n",
      "         564       0.00      0.00      0.00         2\n",
      "         565       0.00      0.00      0.00         3\n",
      "         566       0.00      0.00      0.00         1\n",
      "         567       0.00      0.00      0.00         1\n",
      "         568       0.08      1.00      0.14         2\n",
      "         569       0.00      0.00      0.00         3\n",
      "         570       0.50      1.00      0.67         1\n",
      "         572       0.00      0.00      0.00         0\n",
      "         573       0.00      0.00      0.00         3\n",
      "         574       1.00      0.14      0.25         7\n",
      "         575       0.13      0.50      0.21         4\n",
      "         576       0.00      0.00      0.00         7\n",
      "         577       0.00      0.00      0.00         9\n",
      "         579       0.67      1.00      0.80         2\n",
      "         580       0.52      0.48      0.50        25\n",
      "         582       0.50      0.50      0.50         6\n",
      "         584       1.00      0.17      0.29         6\n",
      "         585       0.25      0.71      0.37         7\n",
      "         586       0.00      0.00      0.00         3\n",
      "         587       0.00      0.00      0.00         3\n",
      "         588       0.00      0.00      0.00         1\n",
      "         589       0.75      0.50      0.60         6\n",
      "         590       0.00      0.00      0.00         4\n",
      "         591       0.00      0.00      0.00         4\n",
      "         592       0.00      0.00      0.00         3\n",
      "         594       0.50      0.33      0.40         3\n",
      "         595       0.00      0.00      0.00         3\n",
      "         596       0.00      0.00      0.00         2\n",
      "         597       0.33      0.67      0.44         3\n",
      "         598       0.00      0.00      0.00         2\n",
      "         599       1.00      0.67      0.80         3\n",
      "         600       0.00      0.00      0.00         0\n",
      "         601       0.50      0.17      0.25         6\n",
      "         602       1.00      1.00      1.00         5\n",
      "         603       0.00      0.00      0.00         3\n",
      "         604       0.00      0.00      0.00         5\n",
      "         605       1.00      0.50      0.67         4\n",
      "         606       1.00      0.50      0.67         4\n",
      "         607       1.00      0.25      0.40         4\n",
      "         608       0.00      0.00      0.00         4\n",
      "         609       1.00      1.00      1.00         1\n",
      "         611       0.17      0.25      0.20         4\n",
      "         612       0.00      0.00      0.00         2\n",
      "         614       0.00      0.00      0.00         3\n",
      "         615       0.00      0.00      0.00         0\n",
      "         616       0.29      0.67      0.40        15\n",
      "         617       0.43      0.75      0.55         4\n",
      "         618       1.00      0.67      0.80         3\n",
      "         619       0.00      0.00      0.00         3\n",
      "         620       0.33      0.25      0.29         4\n",
      "         621       0.00      0.00      0.00         5\n",
      "         622       0.00      0.00      0.00         9\n",
      "         623       0.00      0.00      0.00         2\n",
      "         624       0.62      0.71      0.67         7\n",
      "         625       0.00      0.00      0.00         1\n",
      "         627       1.00      1.00      1.00         1\n",
      "         628       0.00      0.00      0.00         4\n",
      "         629       0.30      1.00      0.46         3\n",
      "         630       0.00      0.00      0.00         5\n",
      "         631       0.00      0.00      0.00         4\n",
      "         632       0.02      1.00      0.04         1\n",
      "         633       0.00      0.00      0.00         2\n",
      "         634       0.00      0.00      0.00         1\n",
      "         635       0.33      0.50      0.40         4\n",
      "         636       1.00      1.00      1.00         1\n",
      "         637       0.00      0.00      0.00         0\n",
      "         638       0.00      0.00      0.00         1\n",
      "         639       0.00      0.00      0.00         3\n",
      "         640       0.00      0.00      0.00         0\n",
      "         641       1.00      0.25      0.40         4\n",
      "         642       0.00      0.00      0.00         2\n",
      "         643       0.00      0.00      0.00         1\n",
      "         644       0.00      0.00      0.00         5\n",
      "         645       0.40      0.40      0.40         5\n",
      "         646       1.00      0.12      0.22         8\n",
      "         647       0.00      0.00      0.00         1\n",
      "         648       0.00      0.00      0.00         3\n",
      "         649       0.00      0.00      0.00         1\n",
      "         650       0.00      0.00      0.00         2\n",
      "         651       1.00      0.60      0.75         5\n",
      "         653       0.00      0.00      0.00         1\n",
      "         654       0.00      0.00      0.00         1\n",
      "         655       0.00      0.00      0.00         2\n",
      "         656       0.00      0.00      0.00         3\n",
      "         657       0.00      0.00      0.00         7\n",
      "         658       1.00      0.67      0.80         3\n",
      "         659       0.00      0.00      0.00         1\n",
      "         660       0.12      1.00      0.22         1\n",
      "         661       1.00      0.57      0.73         7\n",
      "         662       0.00      0.00      0.00         5\n",
      "         663       0.33      0.67      0.44         3\n",
      "         664       1.00      0.43      0.60         7\n",
      "         665       0.00      0.00      0.00         2\n",
      "         666       0.33      1.00      0.50         1\n",
      "         667       0.00      0.00      0.00         2\n",
      "         668       0.00      0.00      0.00         7\n",
      "         669       0.12      1.00      0.22         4\n",
      "         670       0.30      1.00      0.46         3\n",
      "         671       0.04      0.67      0.07         3\n",
      "         672       0.00      0.00      0.00         2\n",
      "         673       0.00      0.00      0.00         5\n",
      "         674       1.00      0.20      0.33         5\n",
      "         675       0.67      0.67      0.67         3\n",
      "         676       0.00      0.00      0.00         4\n",
      "         677       1.00      1.00      1.00         1\n",
      "         678       0.00      0.00      0.00         2\n",
      "         679       1.00      0.25      0.40         4\n",
      "         680       0.00      0.00      0.00         3\n",
      "         681       0.33      0.14      0.20         7\n",
      "         682       0.00      0.00      0.00         5\n",
      "         683       0.08      0.25      0.12         4\n",
      "         684       1.00      0.50      0.67         4\n",
      "         685       0.00      0.00      0.00         2\n",
      "         686       0.00      0.00      0.00         2\n",
      "         687       0.00      0.00      0.00         2\n",
      "         688       0.67      1.00      0.80         2\n",
      "         689       0.00      0.00      0.00         2\n",
      "         690       1.00      0.33      0.50         3\n",
      "         691       0.00      0.00      0.00         3\n",
      "         692       1.00      0.33      0.50         3\n",
      "         693       0.00      0.00      0.00         2\n",
      "         694       0.00      0.00      0.00         3\n",
      "         695       0.60      1.00      0.75         3\n",
      "         696       0.00      0.00      0.00         3\n",
      "         697       0.00      0.00      0.00         1\n",
      "         698       0.00      0.00      0.00        12\n",
      "         699       0.71      1.00      0.83         5\n",
      "         700       0.00      0.00      0.00         1\n",
      "         701       1.00      0.20      0.33         5\n",
      "         702       0.00      0.00      0.00         1\n",
      "         703       0.00      0.00      0.00         1\n",
      "         704       0.00      0.00      0.00         1\n",
      "         705       0.00      0.00      0.00         3\n",
      "         706       0.00      0.00      0.00         1\n",
      "         707       0.00      0.00      0.00         1\n",
      "         708       0.00      0.00      0.00         4\n",
      "         709       0.00      0.00      0.00         0\n",
      "         710       0.00      0.00      0.00         2\n",
      "         711       1.00      0.50      0.67         2\n",
      "         712       0.00      0.00      0.00         1\n",
      "         713       0.67      0.33      0.44         6\n",
      "         714       1.00      0.17      0.29         6\n",
      "         715       0.00      0.00      0.00         3\n",
      "         716       0.33      0.20      0.25         5\n",
      "         717       0.00      0.00      0.00         3\n",
      "         719       0.33      0.33      0.33         3\n",
      "         720       1.00      0.50      0.67         2\n",
      "         721       0.00      0.00      0.00         3\n",
      "         722       0.50      0.50      0.50         2\n",
      "         723       0.67      0.29      0.40         7\n",
      "         725       0.00      0.00      0.00         2\n",
      "         726       0.00      0.00      0.00         1\n",
      "         727       0.50      0.33      0.40         3\n",
      "         728       1.00      0.17      0.29         6\n",
      "         729       0.43      0.75      0.55         4\n",
      "         730       0.00      0.00      0.00         4\n",
      "         732       0.00      0.00      0.00         1\n",
      "         733       0.00      0.00      0.00         5\n",
      "         734       0.20      0.25      0.22         4\n",
      "         735       0.00      0.00      0.00         5\n",
      "         736       0.00      0.00      0.00         1\n",
      "         737       1.00      0.17      0.29         6\n",
      "         738       0.33      1.00      0.50         1\n",
      "         739       1.00      0.50      0.67         2\n",
      "         740       0.00      0.00      0.00         2\n",
      "         741       1.00      0.80      0.89         5\n",
      "         742       0.50      0.20      0.29         5\n",
      "         743       0.00      0.00      0.00         3\n",
      "         744       0.00      0.00      0.00         3\n",
      "         746       0.50      0.50      0.50         2\n",
      "         747       0.00      0.00      0.00         3\n",
      "         748       0.00      0.00      0.00         4\n",
      "         749       0.00      0.00      0.00         5\n",
      "         750       0.33      0.50      0.40         2\n",
      "         751       1.00      0.33      0.50         3\n",
      "         752       0.50      0.62      0.56         8\n",
      "         754       0.67      1.00      0.80         2\n",
      "         755       0.00      0.00      0.00         2\n",
      "         756       0.00      0.00      0.00         1\n",
      "         757       0.00      0.00      0.00         2\n",
      "         758       0.00      0.00      0.00         2\n",
      "         759       0.00      0.00      0.00         4\n",
      "         760       0.33      0.67      0.44         3\n",
      "         761       0.00      0.00      0.00         5\n",
      "         762       1.00      0.50      0.67         4\n",
      "         763       0.00      0.00      0.00         3\n",
      "         764       0.00      0.00      0.00         2\n",
      "         765       1.00      1.00      1.00         1\n",
      "         766       0.80      0.80      0.80         5\n",
      "         767       1.00      0.50      0.67         2\n",
      "         768       0.04      0.33      0.07         3\n",
      "         769       0.00      0.00      0.00         3\n",
      "         770       0.00      0.00      0.00         6\n",
      "         773       0.00      0.00      0.00         2\n",
      "         774       0.00      0.00      0.00         1\n",
      "         775       0.00      0.00      0.00         1\n",
      "         776       1.00      0.67      0.80         3\n",
      "         777       1.00      0.50      0.67         2\n",
      "         778       0.00      0.00      0.00         1\n",
      "         779       0.00      0.00      0.00         2\n",
      "         780       0.00      0.00      0.00         1\n",
      "         781       0.00      0.00      0.00         2\n",
      "         782       0.09      0.50      0.15         2\n",
      "         783       0.00      0.00      0.00         5\n",
      "         784       0.50      0.40      0.44         5\n",
      "         785       0.00      0.00      0.00         2\n",
      "         786       0.00      0.00      0.00         1\n",
      "         787       0.00      0.00      0.00         1\n",
      "         788       0.00      0.00      0.00         1\n",
      "         789       1.00      0.50      0.67         2\n",
      "         790       0.50      0.25      0.33         8\n",
      "         791       0.00      0.00      0.00         4\n",
      "         792       0.00      0.00      0.00         5\n",
      "         793       0.00      0.00      0.00         4\n",
      "         794       0.00      0.00      0.00         6\n",
      "         795       0.25      0.50      0.33         2\n",
      "         796       1.00      0.20      0.33         5\n",
      "         797       0.01      0.20      0.03         5\n",
      "         798       1.00      0.17      0.29         6\n",
      "         799       0.60      0.75      0.67         4\n",
      "         800       0.00      0.00      0.00         1\n",
      "         801       0.00      0.00      0.00         1\n",
      "         802       1.00      0.25      0.40         4\n",
      "         803       0.50      0.33      0.40         3\n",
      "         804       0.00      0.00      0.00         2\n",
      "         805       0.00      0.00      0.00         0\n",
      "         806       0.00      0.00      0.00         1\n",
      "         807       0.00      0.00      0.00         4\n",
      "         808       0.00      0.00      0.00         1\n",
      "         810       0.00      0.00      0.00         4\n",
      "         811       0.00      0.00      0.00         2\n",
      "         812       1.00      1.00      1.00         2\n",
      "         813       0.50      0.50      0.50         2\n",
      "         814       0.00      0.00      0.00         1\n",
      "         815       0.00      0.00      0.00         5\n",
      "         816       0.67      1.00      0.80         2\n",
      "         817       0.00      0.00      0.00         4\n",
      "         818       0.00      0.00      0.00         3\n",
      "         819       0.00      0.00      0.00         2\n",
      "         820       0.00      0.00      0.00         2\n",
      "         821       0.00      0.00      0.00         1\n",
      "         822       1.00      0.50      0.67         2\n",
      "         823       0.07      1.00      0.12         1\n",
      "         824       0.00      0.00      0.00         1\n",
      "         825       0.25      0.50      0.33         2\n",
      "         827       1.00      0.20      0.33         5\n",
      "         828       0.11      0.33      0.17         3\n",
      "         829       0.80      0.31      0.44        39\n",
      "         831       1.00      0.17      0.29         6\n",
      "         833       0.57      0.67      0.62         6\n",
      "         834       0.17      0.67      0.27         3\n",
      "         835       0.00      0.00      0.00         1\n",
      "         836       0.12      1.00      0.22         3\n",
      "         837       0.12      0.17      0.14         6\n",
      "         838       0.00      0.00      0.00         3\n",
      "         839       0.25      1.00      0.40         3\n",
      "         840       0.50      0.50      0.50         4\n",
      "         841       0.80      0.50      0.62         8\n",
      "         842       0.00      0.00      0.00         1\n",
      "         843       1.00      0.50      0.67         2\n",
      "         844       0.50      1.00      0.67         1\n",
      "         845       0.00      0.00      0.00         6\n",
      "         846       0.00      0.00      0.00         0\n",
      "         847       0.33      0.50      0.40         2\n",
      "         848       0.88      0.78      0.82         9\n",
      "         849       0.00      0.00      0.00         4\n",
      "         850       0.69      0.65      0.67        17\n",
      "         851       0.00      0.00      0.00         3\n",
      "         853       0.00      0.00      0.00         6\n",
      "         854       1.00      0.33      0.50         3\n",
      "         855       0.00      0.00      0.00         2\n",
      "         856       0.00      0.00      0.00         4\n",
      "         857       1.00      0.33      0.50         6\n",
      "         858       1.00      0.33      0.50         6\n",
      "         859       0.06      1.00      0.12         1\n",
      "         860       0.14      1.00      0.25         2\n",
      "         861       0.00      0.00      0.00         1\n",
      "         862       1.00      0.67      0.80         6\n",
      "         863       0.00      0.00      0.00         2\n",
      "         864       0.00      0.00      0.00         2\n",
      "         865       1.00      0.20      0.33         5\n",
      "         866       1.00      1.00      1.00         1\n",
      "         867       0.00      0.00      0.00         4\n",
      "         868       0.75      0.75      0.75         4\n",
      "         869       1.00      0.33      0.50         3\n",
      "         870       0.50      0.33      0.40         3\n",
      "         871       0.00      0.00      0.00         3\n",
      "         872       0.00      0.00      0.00         3\n",
      "         873       0.00      0.00      0.00         4\n",
      "         874       0.80      0.50      0.62         8\n",
      "         875       0.00      0.00      0.00         3\n",
      "         876       0.00      0.00      0.00         2\n",
      "         877       0.00      0.00      0.00         5\n",
      "         878       0.00      0.00      0.00         4\n",
      "         879       0.00      0.00      0.00         6\n",
      "         880       0.00      0.00      0.00         4\n",
      "         882       1.00      0.20      0.33         5\n",
      "         883       0.75      0.75      0.75         4\n",
      "         884       0.00      0.00      0.00         0\n",
      "         885       1.00      0.40      0.57         5\n",
      "         886       0.00      0.00      0.00         1\n",
      "         887       0.50      0.33      0.40         3\n",
      "         888       0.00      0.00      0.00         5\n",
      "         890       0.00      0.00      0.00         1\n",
      "         891       0.00      0.00      0.00         1\n",
      "         892       0.00      0.00      0.00         1\n",
      "         893       0.06      0.25      0.10         4\n",
      "         894       0.03      0.50      0.06         2\n",
      "         895       0.00      0.00      0.00         1\n",
      "         896       0.43      0.75      0.55         4\n",
      "         897       0.50      0.67      0.57         3\n",
      "         898       0.00      0.00      0.00         1\n",
      "         899       0.00      0.00      0.00         2\n",
      "         900       1.00      0.75      0.86         4\n",
      "         901       0.00      0.00      0.00         3\n",
      "         902       0.33      0.50      0.40         2\n",
      "         903       1.00      0.20      0.33         5\n",
      "         904       0.00      0.00      0.00         1\n",
      "\n",
      "    accuracy                           0.29      2778\n",
      "   macro avg       0.30      0.26      0.23      2778\n",
      "weighted avg       0.38      0.29      0.28      2778\n",
      "\n"
     ]
    },
    {
     "name": "stderr",
     "output_type": "stream",
     "text": [
      "c:\\Users\\valen\\AppData\\Local\\Programs\\Python\\Python310\\lib\\site-packages\\sklearn\\metrics\\_classification.py:1334: UndefinedMetricWarning:\n",
      "\n",
      "Precision and F-score are ill-defined and being set to 0.0 in labels with no predicted samples. Use `zero_division` parameter to control this behavior.\n",
      "\n",
      "c:\\Users\\valen\\AppData\\Local\\Programs\\Python\\Python310\\lib\\site-packages\\sklearn\\metrics\\_classification.py:1334: UndefinedMetricWarning:\n",
      "\n",
      "Recall and F-score are ill-defined and being set to 0.0 in labels with no true samples. Use `zero_division` parameter to control this behavior.\n",
      "\n",
      "c:\\Users\\valen\\AppData\\Local\\Programs\\Python\\Python310\\lib\\site-packages\\sklearn\\metrics\\_classification.py:1334: UndefinedMetricWarning:\n",
      "\n",
      "Precision and F-score are ill-defined and being set to 0.0 in labels with no predicted samples. Use `zero_division` parameter to control this behavior.\n",
      "\n",
      "c:\\Users\\valen\\AppData\\Local\\Programs\\Python\\Python310\\lib\\site-packages\\sklearn\\metrics\\_classification.py:1334: UndefinedMetricWarning:\n",
      "\n",
      "Recall and F-score are ill-defined and being set to 0.0 in labels with no true samples. Use `zero_division` parameter to control this behavior.\n",
      "\n",
      "c:\\Users\\valen\\AppData\\Local\\Programs\\Python\\Python310\\lib\\site-packages\\sklearn\\metrics\\_classification.py:1334: UndefinedMetricWarning:\n",
      "\n",
      "Precision and F-score are ill-defined and being set to 0.0 in labels with no predicted samples. Use `zero_division` parameter to control this behavior.\n",
      "\n",
      "c:\\Users\\valen\\AppData\\Local\\Programs\\Python\\Python310\\lib\\site-packages\\sklearn\\metrics\\_classification.py:1334: UndefinedMetricWarning:\n",
      "\n",
      "Recall and F-score are ill-defined and being set to 0.0 in labels with no true samples. Use `zero_division` parameter to control this behavior.\n",
      "\n"
     ]
    }
   ],
   "source": [
    "print(\"Classification report for CNN: \")\n",
    "print(classification_report(y_test, y_pred_cnn_))"
   ]
  },
  {
   "cell_type": "code",
   "execution_count": 72,
   "metadata": {},
   "outputs": [
    {
     "data": {
      "application/vnd.plotly.v1+json": {
       "config": {
        "plotlyServerURL": "https://plot.ly"
       },
       "data": [
        {
         "hovertemplate": "x: %{x}<br>y: %{y}<br>color: [%{z[0]}, %{z[1]}, %{z[2]}]<extra></extra>",
         "name": "0",
         "source": "data:image/png;base64,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",
         "type": "image",
         "xaxis": "x",
         "yaxis": "y"
        }
       ],
       "layout": {
        "annotations": [
         {
          "align": "left",
          "bgcolor": "#ff7f0e",
          "bordercolor": "#c7c7c7",
          "borderpad": 2,
          "borderwidth": 1,
          "font": {
           "color": "#ffffff",
           "family": "Courier New, monospace",
           "size": 10
          },
          "opacity": 0.8,
          "showarrow": false,
          "text": "Aggron: 100%",
          "x": 1.3,
          "xref": "paper",
          "y": 1,
          "yref": "paper"
         }
        ],
        "height": 300,
        "margin": {
         "t": 60
        },
        "template": {
         "data": {
          "bar": [
           {
            "error_x": {
             "color": "#2a3f5f"
            },
            "error_y": {
             "color": "#2a3f5f"
            },
            "marker": {
             "line": {
              "color": "#E5ECF6",
              "width": 0.5
             },
             "pattern": {
              "fillmode": "overlay",
              "size": 10,
              "solidity": 0.2
             }
            },
            "type": "bar"
           }
          ],
          "barpolar": [
           {
            "marker": {
             "line": {
              "color": "#E5ECF6",
              "width": 0.5
             },
             "pattern": {
              "fillmode": "overlay",
              "size": 10,
              "solidity": 0.2
             }
            },
            "type": "barpolar"
           }
          ],
          "carpet": [
           {
            "aaxis": {
             "endlinecolor": "#2a3f5f",
             "gridcolor": "white",
             "linecolor": "white",
             "minorgridcolor": "white",
             "startlinecolor": "#2a3f5f"
            },
            "baxis": {
             "endlinecolor": "#2a3f5f",
             "gridcolor": "white",
             "linecolor": "white",
             "minorgridcolor": "white",
             "startlinecolor": "#2a3f5f"
            },
            "type": "carpet"
           }
          ],
          "choropleth": [
           {
            "colorbar": {
             "outlinewidth": 0,
             "ticks": ""
            },
            "type": "choropleth"
           }
          ],
          "contour": [
           {
            "colorbar": {
             "outlinewidth": 0,
             "ticks": ""
            },
            "colorscale": [
             [
              0,
              "#0d0887"
             ],
             [
              0.1111111111111111,
              "#46039f"
             ],
             [
              0.2222222222222222,
              "#7201a8"
             ],
             [
              0.3333333333333333,
              "#9c179e"
             ],
             [
              0.4444444444444444,
              "#bd3786"
             ],
             [
              0.5555555555555556,
              "#d8576b"
             ],
             [
              0.6666666666666666,
              "#ed7953"
             ],
             [
              0.7777777777777778,
              "#fb9f3a"
             ],
             [
              0.8888888888888888,
              "#fdca26"
             ],
             [
              1,
              "#f0f921"
             ]
            ],
            "type": "contour"
           }
          ],
          "contourcarpet": [
           {
            "colorbar": {
             "outlinewidth": 0,
             "ticks": ""
            },
            "type": "contourcarpet"
           }
          ],
          "heatmap": [
           {
            "colorbar": {
             "outlinewidth": 0,
             "ticks": ""
            },
            "colorscale": [
             [
              0,
              "#0d0887"
             ],
             [
              0.1111111111111111,
              "#46039f"
             ],
             [
              0.2222222222222222,
              "#7201a8"
             ],
             [
              0.3333333333333333,
              "#9c179e"
             ],
             [
              0.4444444444444444,
              "#bd3786"
             ],
             [
              0.5555555555555556,
              "#d8576b"
             ],
             [
              0.6666666666666666,
              "#ed7953"
             ],
             [
              0.7777777777777778,
              "#fb9f3a"
             ],
             [
              0.8888888888888888,
              "#fdca26"
             ],
             [
              1,
              "#f0f921"
             ]
            ],
            "type": "heatmap"
           }
          ],
          "heatmapgl": [
           {
            "colorbar": {
             "outlinewidth": 0,
             "ticks": ""
            },
            "colorscale": [
             [
              0,
              "#0d0887"
             ],
             [
              0.1111111111111111,
              "#46039f"
             ],
             [
              0.2222222222222222,
              "#7201a8"
             ],
             [
              0.3333333333333333,
              "#9c179e"
             ],
             [
              0.4444444444444444,
              "#bd3786"
             ],
             [
              0.5555555555555556,
              "#d8576b"
             ],
             [
              0.6666666666666666,
              "#ed7953"
             ],
             [
              0.7777777777777778,
              "#fb9f3a"
             ],
             [
              0.8888888888888888,
              "#fdca26"
             ],
             [
              1,
              "#f0f921"
             ]
            ],
            "type": "heatmapgl"
           }
          ],
          "histogram": [
           {
            "marker": {
             "pattern": {
              "fillmode": "overlay",
              "size": 10,
              "solidity": 0.2
             }
            },
            "type": "histogram"
           }
          ],
          "histogram2d": [
           {
            "colorbar": {
             "outlinewidth": 0,
             "ticks": ""
            },
            "colorscale": [
             [
              0,
              "#0d0887"
             ],
             [
              0.1111111111111111,
              "#46039f"
             ],
             [
              0.2222222222222222,
              "#7201a8"
             ],
             [
              0.3333333333333333,
              "#9c179e"
             ],
             [
              0.4444444444444444,
              "#bd3786"
             ],
             [
              0.5555555555555556,
              "#d8576b"
             ],
             [
              0.6666666666666666,
              "#ed7953"
             ],
             [
              0.7777777777777778,
              "#fb9f3a"
             ],
             [
              0.8888888888888888,
              "#fdca26"
             ],
             [
              1,
              "#f0f921"
             ]
            ],
            "type": "histogram2d"
           }
          ],
          "histogram2dcontour": [
           {
            "colorbar": {
             "outlinewidth": 0,
             "ticks": ""
            },
            "colorscale": [
             [
              0,
              "#0d0887"
             ],
             [
              0.1111111111111111,
              "#46039f"
             ],
             [
              0.2222222222222222,
              "#7201a8"
             ],
             [
              0.3333333333333333,
              "#9c179e"
             ],
             [
              0.4444444444444444,
              "#bd3786"
             ],
             [
              0.5555555555555556,
              "#d8576b"
             ],
             [
              0.6666666666666666,
              "#ed7953"
             ],
             [
              0.7777777777777778,
              "#fb9f3a"
             ],
             [
              0.8888888888888888,
              "#fdca26"
             ],
             [
              1,
              "#f0f921"
             ]
            ],
            "type": "histogram2dcontour"
           }
          ],
          "mesh3d": [
           {
            "colorbar": {
             "outlinewidth": 0,
             "ticks": ""
            },
            "type": "mesh3d"
           }
          ],
          "parcoords": [
           {
            "line": {
             "colorbar": {
              "outlinewidth": 0,
              "ticks": ""
             }
            },
            "type": "parcoords"
           }
          ],
          "pie": [
           {
            "automargin": true,
            "type": "pie"
           }
          ],
          "scatter": [
           {
            "fillpattern": {
             "fillmode": "overlay",
             "size": 10,
             "solidity": 0.2
            },
            "type": "scatter"
           }
          ],
          "scatter3d": [
           {
            "line": {
             "colorbar": {
              "outlinewidth": 0,
              "ticks": ""
             }
            },
            "marker": {
             "colorbar": {
              "outlinewidth": 0,
              "ticks": ""
             }
            },
            "type": "scatter3d"
           }
          ],
          "scattercarpet": [
           {
            "marker": {
             "colorbar": {
              "outlinewidth": 0,
              "ticks": ""
             }
            },
            "type": "scattercarpet"
           }
          ],
          "scattergeo": [
           {
            "marker": {
             "colorbar": {
              "outlinewidth": 0,
              "ticks": ""
             }
            },
            "type": "scattergeo"
           }
          ],
          "scattergl": [
           {
            "marker": {
             "colorbar": {
              "outlinewidth": 0,
              "ticks": ""
             }
            },
            "type": "scattergl"
           }
          ],
          "scattermapbox": [
           {
            "marker": {
             "colorbar": {
              "outlinewidth": 0,
              "ticks": ""
             }
            },
            "type": "scattermapbox"
           }
          ],
          "scatterpolar": [
           {
            "marker": {
             "colorbar": {
              "outlinewidth": 0,
              "ticks": ""
             }
            },
            "type": "scatterpolar"
           }
          ],
          "scatterpolargl": [
           {
            "marker": {
             "colorbar": {
              "outlinewidth": 0,
              "ticks": ""
             }
            },
            "type": "scatterpolargl"
           }
          ],
          "scatterternary": [
           {
            "marker": {
             "colorbar": {
              "outlinewidth": 0,
              "ticks": ""
             }
            },
            "type": "scatterternary"
           }
          ],
          "surface": [
           {
            "colorbar": {
             "outlinewidth": 0,
             "ticks": ""
            },
            "colorscale": [
             [
              0,
              "#0d0887"
             ],
             [
              0.1111111111111111,
              "#46039f"
             ],
             [
              0.2222222222222222,
              "#7201a8"
             ],
             [
              0.3333333333333333,
              "#9c179e"
             ],
             [
              0.4444444444444444,
              "#bd3786"
             ],
             [
              0.5555555555555556,
              "#d8576b"
             ],
             [
              0.6666666666666666,
              "#ed7953"
             ],
             [
              0.7777777777777778,
              "#fb9f3a"
             ],
             [
              0.8888888888888888,
              "#fdca26"
             ],
             [
              1,
              "#f0f921"
             ]
            ],
            "type": "surface"
           }
          ],
          "table": [
           {
            "cells": {
             "fill": {
              "color": "#EBF0F8"
             },
             "line": {
              "color": "white"
             }
            },
            "header": {
             "fill": {
              "color": "#C8D4E3"
             },
             "line": {
              "color": "white"
             }
            },
            "type": "table"
           }
          ]
         },
         "layout": {
          "annotationdefaults": {
           "arrowcolor": "#2a3f5f",
           "arrowhead": 0,
           "arrowwidth": 1
          },
          "autotypenumbers": "strict",
          "coloraxis": {
           "colorbar": {
            "outlinewidth": 0,
            "ticks": ""
           }
          },
          "colorscale": {
           "diverging": [
            [
             0,
             "#8e0152"
            ],
            [
             0.1,
             "#c51b7d"
            ],
            [
             0.2,
             "#de77ae"
            ],
            [
             0.3,
             "#f1b6da"
            ],
            [
             0.4,
             "#fde0ef"
            ],
            [
             0.5,
             "#f7f7f7"
            ],
            [
             0.6,
             "#e6f5d0"
            ],
            [
             0.7,
             "#b8e186"
            ],
            [
             0.8,
             "#7fbc41"
            ],
            [
             0.9,
             "#4d9221"
            ],
            [
             1,
             "#276419"
            ]
           ],
           "sequential": [
            [
             0,
             "#0d0887"
            ],
            [
             0.1111111111111111,
             "#46039f"
            ],
            [
             0.2222222222222222,
             "#7201a8"
            ],
            [
             0.3333333333333333,
             "#9c179e"
            ],
            [
             0.4444444444444444,
             "#bd3786"
            ],
            [
             0.5555555555555556,
             "#d8576b"
            ],
            [
             0.6666666666666666,
             "#ed7953"
            ],
            [
             0.7777777777777778,
             "#fb9f3a"
            ],
            [
             0.8888888888888888,
             "#fdca26"
            ],
            [
             1,
             "#f0f921"
            ]
           ],
           "sequentialminus": [
            [
             0,
             "#0d0887"
            ],
            [
             0.1111111111111111,
             "#46039f"
            ],
            [
             0.2222222222222222,
             "#7201a8"
            ],
            [
             0.3333333333333333,
             "#9c179e"
            ],
            [
             0.4444444444444444,
             "#bd3786"
            ],
            [
             0.5555555555555556,
             "#d8576b"
            ],
            [
             0.6666666666666666,
             "#ed7953"
            ],
            [
             0.7777777777777778,
             "#fb9f3a"
            ],
            [
             0.8888888888888888,
             "#fdca26"
            ],
            [
             1,
             "#f0f921"
            ]
           ]
          },
          "colorway": [
           "#636efa",
           "#EF553B",
           "#00cc96",
           "#ab63fa",
           "#FFA15A",
           "#19d3f3",
           "#FF6692",
           "#B6E880",
           "#FF97FF",
           "#FECB52"
          ],
          "font": {
           "color": "#2a3f5f"
          },
          "geo": {
           "bgcolor": "white",
           "lakecolor": "white",
           "landcolor": "#E5ECF6",
           "showlakes": true,
           "showland": true,
           "subunitcolor": "white"
          },
          "hoverlabel": {
           "align": "left"
          },
          "hovermode": "closest",
          "mapbox": {
           "style": "light"
          },
          "paper_bgcolor": "white",
          "plot_bgcolor": "#E5ECF6",
          "polar": {
           "angularaxis": {
            "gridcolor": "white",
            "linecolor": "white",
            "ticks": ""
           },
           "bgcolor": "#E5ECF6",
           "radialaxis": {
            "gridcolor": "white",
            "linecolor": "white",
            "ticks": ""
           }
          },
          "scene": {
           "xaxis": {
            "backgroundcolor": "#E5ECF6",
            "gridcolor": "white",
            "gridwidth": 2,
            "linecolor": "white",
            "showbackground": true,
            "ticks": "",
            "zerolinecolor": "white"
           },
           "yaxis": {
            "backgroundcolor": "#E5ECF6",
            "gridcolor": "white",
            "gridwidth": 2,
            "linecolor": "white",
            "showbackground": true,
            "ticks": "",
            "zerolinecolor": "white"
           },
           "zaxis": {
            "backgroundcolor": "#E5ECF6",
            "gridcolor": "white",
            "gridwidth": 2,
            "linecolor": "white",
            "showbackground": true,
            "ticks": "",
            "zerolinecolor": "white"
           }
          },
          "shapedefaults": {
           "line": {
            "color": "#2a3f5f"
           }
          },
          "ternary": {
           "aaxis": {
            "gridcolor": "white",
            "linecolor": "white",
            "ticks": ""
           },
           "baxis": {
            "gridcolor": "white",
            "linecolor": "white",
            "ticks": ""
           },
           "bgcolor": "#E5ECF6",
           "caxis": {
            "gridcolor": "white",
            "linecolor": "white",
            "ticks": ""
           }
          },
          "title": {
           "x": 0.05
          },
          "xaxis": {
           "automargin": true,
           "gridcolor": "white",
           "linecolor": "white",
           "ticks": "",
           "title": {
            "standoff": 15
           },
           "zerolinecolor": "white",
           "zerolinewidth": 2
          },
          "yaxis": {
           "automargin": true,
           "gridcolor": "white",
           "linecolor": "white",
           "ticks": "",
           "title": {
            "standoff": 15
           },
           "zerolinecolor": "white",
           "zerolinewidth": 2
          }
         }
        },
        "title": {
         "text": "Label: Aggron"
        },
        "width": 300,
        "xaxis": {
         "anchor": "y",
         "domain": [
          0,
          1
         ]
        },
        "yaxis": {
         "anchor": "x",
         "domain": [
          0,
          1
         ]
        }
       }
      }
     },
     "metadata": {},
     "output_type": "display_data"
    },
    {
     "data": {
      "application/vnd.plotly.v1+json": {
       "config": {
        "plotlyServerURL": "https://plot.ly"
       },
       "data": [
        {
         "hovertemplate": "x: %{x}<br>y: %{y}<br>color: [%{z[0]}, %{z[1]}, %{z[2]}]<extra></extra>",
         "name": "0",
         "source": "data:image/png;base64,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",
         "type": "image",
         "xaxis": "x",
         "yaxis": "y"
        }
       ],
       "layout": {
        "annotations": [
         {
          "align": "left",
          "bgcolor": "#ff7f0e",
          "bordercolor": "#c7c7c7",
          "borderpad": 2,
          "borderwidth": 1,
          "font": {
           "color": "#ffffff",
           "family": "Courier New, monospace",
           "size": 10
          },
          "opacity": 0.8,
          "showarrow": false,
          "text": "Lairon: 68%",
          "x": 1.3,
          "xref": "paper",
          "y": 1,
          "yref": "paper"
         },
         {
          "align": "left",
          "bgcolor": "#ff7f0e",
          "bordercolor": "#c7c7c7",
          "borderpad": 2,
          "borderwidth": 1,
          "font": {
           "color": "#ffffff",
           "family": "Courier New, monospace",
           "size": 10
          },
          "opacity": 0.8,
          "showarrow": false,
          "text": "Registeel: 15%",
          "x": 1.3,
          "xref": "paper",
          "y": 0.85,
          "yref": "paper"
         },
         {
          "align": "left",
          "bgcolor": "#ff7f0e",
          "bordercolor": "#c7c7c7",
          "borderpad": 2,
          "borderwidth": 1,
          "font": {
           "color": "#ffffff",
           "family": "Courier New, monospace",
           "size": 10
          },
          "opacity": 0.8,
          "showarrow": false,
          "text": "Aggron: 11%",
          "x": 1.3,
          "xref": "paper",
          "y": 0.7,
          "yref": "paper"
         }
        ],
        "height": 300,
        "margin": {
         "t": 60
        },
        "template": {
         "data": {
          "bar": [
           {
            "error_x": {
             "color": "#2a3f5f"
            },
            "error_y": {
             "color": "#2a3f5f"
            },
            "marker": {
             "line": {
              "color": "#E5ECF6",
              "width": 0.5
             },
             "pattern": {
              "fillmode": "overlay",
              "size": 10,
              "solidity": 0.2
             }
            },
            "type": "bar"
           }
          ],
          "barpolar": [
           {
            "marker": {
             "line": {
              "color": "#E5ECF6",
              "width": 0.5
             },
             "pattern": {
              "fillmode": "overlay",
              "size": 10,
              "solidity": 0.2
             }
            },
            "type": "barpolar"
           }
          ],
          "carpet": [
           {
            "aaxis": {
             "endlinecolor": "#2a3f5f",
             "gridcolor": "white",
             "linecolor": "white",
             "minorgridcolor": "white",
             "startlinecolor": "#2a3f5f"
            },
            "baxis": {
             "endlinecolor": "#2a3f5f",
             "gridcolor": "white",
             "linecolor": "white",
             "minorgridcolor": "white",
             "startlinecolor": "#2a3f5f"
            },
            "type": "carpet"
           }
          ],
          "choropleth": [
           {
            "colorbar": {
             "outlinewidth": 0,
             "ticks": ""
            },
            "type": "choropleth"
           }
          ],
          "contour": [
           {
            "colorbar": {
             "outlinewidth": 0,
             "ticks": ""
            },
            "colorscale": [
             [
              0,
              "#0d0887"
             ],
             [
              0.1111111111111111,
              "#46039f"
             ],
             [
              0.2222222222222222,
              "#7201a8"
             ],
             [
              0.3333333333333333,
              "#9c179e"
             ],
             [
              0.4444444444444444,
              "#bd3786"
             ],
             [
              0.5555555555555556,
              "#d8576b"
             ],
             [
              0.6666666666666666,
              "#ed7953"
             ],
             [
              0.7777777777777778,
              "#fb9f3a"
             ],
             [
              0.8888888888888888,
              "#fdca26"
             ],
             [
              1,
              "#f0f921"
             ]
            ],
            "type": "contour"
           }
          ],
          "contourcarpet": [
           {
            "colorbar": {
             "outlinewidth": 0,
             "ticks": ""
            },
            "type": "contourcarpet"
           }
          ],
          "heatmap": [
           {
            "colorbar": {
             "outlinewidth": 0,
             "ticks": ""
            },
            "colorscale": [
             [
              0,
              "#0d0887"
             ],
             [
              0.1111111111111111,
              "#46039f"
             ],
             [
              0.2222222222222222,
              "#7201a8"
             ],
             [
              0.3333333333333333,
              "#9c179e"
             ],
             [
              0.4444444444444444,
              "#bd3786"
             ],
             [
              0.5555555555555556,
              "#d8576b"
             ],
             [
              0.6666666666666666,
              "#ed7953"
             ],
             [
              0.7777777777777778,
              "#fb9f3a"
             ],
             [
              0.8888888888888888,
              "#fdca26"
             ],
             [
              1,
              "#f0f921"
             ]
            ],
            "type": "heatmap"
           }
          ],
          "heatmapgl": [
           {
            "colorbar": {
             "outlinewidth": 0,
             "ticks": ""
            },
            "colorscale": [
             [
              0,
              "#0d0887"
             ],
             [
              0.1111111111111111,
              "#46039f"
             ],
             [
              0.2222222222222222,
              "#7201a8"
             ],
             [
              0.3333333333333333,
              "#9c179e"
             ],
             [
              0.4444444444444444,
              "#bd3786"
             ],
             [
              0.5555555555555556,
              "#d8576b"
             ],
             [
              0.6666666666666666,
              "#ed7953"
             ],
             [
              0.7777777777777778,
              "#fb9f3a"
             ],
             [
              0.8888888888888888,
              "#fdca26"
             ],
             [
              1,
              "#f0f921"
             ]
            ],
            "type": "heatmapgl"
           }
          ],
          "histogram": [
           {
            "marker": {
             "pattern": {
              "fillmode": "overlay",
              "size": 10,
              "solidity": 0.2
             }
            },
            "type": "histogram"
           }
          ],
          "histogram2d": [
           {
            "colorbar": {
             "outlinewidth": 0,
             "ticks": ""
            },
            "colorscale": [
             [
              0,
              "#0d0887"
             ],
             [
              0.1111111111111111,
              "#46039f"
             ],
             [
              0.2222222222222222,
              "#7201a8"
             ],
             [
              0.3333333333333333,
              "#9c179e"
             ],
             [
              0.4444444444444444,
              "#bd3786"
             ],
             [
              0.5555555555555556,
              "#d8576b"
             ],
             [
              0.6666666666666666,
              "#ed7953"
             ],
             [
              0.7777777777777778,
              "#fb9f3a"
             ],
             [
              0.8888888888888888,
              "#fdca26"
             ],
             [
              1,
              "#f0f921"
             ]
            ],
            "type": "histogram2d"
           }
          ],
          "histogram2dcontour": [
           {
            "colorbar": {
             "outlinewidth": 0,
             "ticks": ""
            },
            "colorscale": [
             [
              0,
              "#0d0887"
             ],
             [
              0.1111111111111111,
              "#46039f"
             ],
             [
              0.2222222222222222,
              "#7201a8"
             ],
             [
              0.3333333333333333,
              "#9c179e"
             ],
             [
              0.4444444444444444,
              "#bd3786"
             ],
             [
              0.5555555555555556,
              "#d8576b"
             ],
             [
              0.6666666666666666,
              "#ed7953"
             ],
             [
              0.7777777777777778,
              "#fb9f3a"
             ],
             [
              0.8888888888888888,
              "#fdca26"
             ],
             [
              1,
              "#f0f921"
             ]
            ],
            "type": "histogram2dcontour"
           }
          ],
          "mesh3d": [
           {
            "colorbar": {
             "outlinewidth": 0,
             "ticks": ""
            },
            "type": "mesh3d"
           }
          ],
          "parcoords": [
           {
            "line": {
             "colorbar": {
              "outlinewidth": 0,
              "ticks": ""
             }
            },
            "type": "parcoords"
           }
          ],
          "pie": [
           {
            "automargin": true,
            "type": "pie"
           }
          ],
          "scatter": [
           {
            "fillpattern": {
             "fillmode": "overlay",
             "size": 10,
             "solidity": 0.2
            },
            "type": "scatter"
           }
          ],
          "scatter3d": [
           {
            "line": {
             "colorbar": {
              "outlinewidth": 0,
              "ticks": ""
             }
            },
            "marker": {
             "colorbar": {
              "outlinewidth": 0,
              "ticks": ""
             }
            },
            "type": "scatter3d"
           }
          ],
          "scattercarpet": [
           {
            "marker": {
             "colorbar": {
              "outlinewidth": 0,
              "ticks": ""
             }
            },
            "type": "scattercarpet"
           }
          ],
          "scattergeo": [
           {
            "marker": {
             "colorbar": {
              "outlinewidth": 0,
              "ticks": ""
             }
            },
            "type": "scattergeo"
           }
          ],
          "scattergl": [
           {
            "marker": {
             "colorbar": {
              "outlinewidth": 0,
              "ticks": ""
             }
            },
            "type": "scattergl"
           }
          ],
          "scattermapbox": [
           {
            "marker": {
             "colorbar": {
              "outlinewidth": 0,
              "ticks": ""
             }
            },
            "type": "scattermapbox"
           }
          ],
          "scatterpolar": [
           {
            "marker": {
             "colorbar": {
              "outlinewidth": 0,
              "ticks": ""
             }
            },
            "type": "scatterpolar"
           }
          ],
          "scatterpolargl": [
           {
            "marker": {
             "colorbar": {
              "outlinewidth": 0,
              "ticks": ""
             }
            },
            "type": "scatterpolargl"
           }
          ],
          "scatterternary": [
           {
            "marker": {
             "colorbar": {
              "outlinewidth": 0,
              "ticks": ""
             }
            },
            "type": "scatterternary"
           }
          ],
          "surface": [
           {
            "colorbar": {
             "outlinewidth": 0,
             "ticks": ""
            },
            "colorscale": [
             [
              0,
              "#0d0887"
             ],
             [
              0.1111111111111111,
              "#46039f"
             ],
             [
              0.2222222222222222,
              "#7201a8"
             ],
             [
              0.3333333333333333,
              "#9c179e"
             ],
             [
              0.4444444444444444,
              "#bd3786"
             ],
             [
              0.5555555555555556,
              "#d8576b"
             ],
             [
              0.6666666666666666,
              "#ed7953"
             ],
             [
              0.7777777777777778,
              "#fb9f3a"
             ],
             [
              0.8888888888888888,
              "#fdca26"
             ],
             [
              1,
              "#f0f921"
             ]
            ],
            "type": "surface"
           }
          ],
          "table": [
           {
            "cells": {
             "fill": {
              "color": "#EBF0F8"
             },
             "line": {
              "color": "white"
             }
            },
            "header": {
             "fill": {
              "color": "#C8D4E3"
             },
             "line": {
              "color": "white"
             }
            },
            "type": "table"
           }
          ]
         },
         "layout": {
          "annotationdefaults": {
           "arrowcolor": "#2a3f5f",
           "arrowhead": 0,
           "arrowwidth": 1
          },
          "autotypenumbers": "strict",
          "coloraxis": {
           "colorbar": {
            "outlinewidth": 0,
            "ticks": ""
           }
          },
          "colorscale": {
           "diverging": [
            [
             0,
             "#8e0152"
            ],
            [
             0.1,
             "#c51b7d"
            ],
            [
             0.2,
             "#de77ae"
            ],
            [
             0.3,
             "#f1b6da"
            ],
            [
             0.4,
             "#fde0ef"
            ],
            [
             0.5,
             "#f7f7f7"
            ],
            [
             0.6,
             "#e6f5d0"
            ],
            [
             0.7,
             "#b8e186"
            ],
            [
             0.8,
             "#7fbc41"
            ],
            [
             0.9,
             "#4d9221"
            ],
            [
             1,
             "#276419"
            ]
           ],
           "sequential": [
            [
             0,
             "#0d0887"
            ],
            [
             0.1111111111111111,
             "#46039f"
            ],
            [
             0.2222222222222222,
             "#7201a8"
            ],
            [
             0.3333333333333333,
             "#9c179e"
            ],
            [
             0.4444444444444444,
             "#bd3786"
            ],
            [
             0.5555555555555556,
             "#d8576b"
            ],
            [
             0.6666666666666666,
             "#ed7953"
            ],
            [
             0.7777777777777778,
             "#fb9f3a"
            ],
            [
             0.8888888888888888,
             "#fdca26"
            ],
            [
             1,
             "#f0f921"
            ]
           ],
           "sequentialminus": [
            [
             0,
             "#0d0887"
            ],
            [
             0.1111111111111111,
             "#46039f"
            ],
            [
             0.2222222222222222,
             "#7201a8"
            ],
            [
             0.3333333333333333,
             "#9c179e"
            ],
            [
             0.4444444444444444,
             "#bd3786"
            ],
            [
             0.5555555555555556,
             "#d8576b"
            ],
            [
             0.6666666666666666,
             "#ed7953"
            ],
            [
             0.7777777777777778,
             "#fb9f3a"
            ],
            [
             0.8888888888888888,
             "#fdca26"
            ],
            [
             1,
             "#f0f921"
            ]
           ]
          },
          "colorway": [
           "#636efa",
           "#EF553B",
           "#00cc96",
           "#ab63fa",
           "#FFA15A",
           "#19d3f3",
           "#FF6692",
           "#B6E880",
           "#FF97FF",
           "#FECB52"
          ],
          "font": {
           "color": "#2a3f5f"
          },
          "geo": {
           "bgcolor": "white",
           "lakecolor": "white",
           "landcolor": "#E5ECF6",
           "showlakes": true,
           "showland": true,
           "subunitcolor": "white"
          },
          "hoverlabel": {
           "align": "left"
          },
          "hovermode": "closest",
          "mapbox": {
           "style": "light"
          },
          "paper_bgcolor": "white",
          "plot_bgcolor": "#E5ECF6",
          "polar": {
           "angularaxis": {
            "gridcolor": "white",
            "linecolor": "white",
            "ticks": ""
           },
           "bgcolor": "#E5ECF6",
           "radialaxis": {
            "gridcolor": "white",
            "linecolor": "white",
            "ticks": ""
           }
          },
          "scene": {
           "xaxis": {
            "backgroundcolor": "#E5ECF6",
            "gridcolor": "white",
            "gridwidth": 2,
            "linecolor": "white",
            "showbackground": true,
            "ticks": "",
            "zerolinecolor": "white"
           },
           "yaxis": {
            "backgroundcolor": "#E5ECF6",
            "gridcolor": "white",
            "gridwidth": 2,
            "linecolor": "white",
            "showbackground": true,
            "ticks": "",
            "zerolinecolor": "white"
           },
           "zaxis": {
            "backgroundcolor": "#E5ECF6",
            "gridcolor": "white",
            "gridwidth": 2,
            "linecolor": "white",
            "showbackground": true,
            "ticks": "",
            "zerolinecolor": "white"
           }
          },
          "shapedefaults": {
           "line": {
            "color": "#2a3f5f"
           }
          },
          "ternary": {
           "aaxis": {
            "gridcolor": "white",
            "linecolor": "white",
            "ticks": ""
           },
           "baxis": {
            "gridcolor": "white",
            "linecolor": "white",
            "ticks": ""
           },
           "bgcolor": "#E5ECF6",
           "caxis": {
            "gridcolor": "white",
            "linecolor": "white",
            "ticks": ""
           }
          },
          "title": {
           "x": 0.05
          },
          "xaxis": {
           "automargin": true,
           "gridcolor": "white",
           "linecolor": "white",
           "ticks": "",
           "title": {
            "standoff": 15
           },
           "zerolinecolor": "white",
           "zerolinewidth": 2
          },
          "yaxis": {
           "automargin": true,
           "gridcolor": "white",
           "linecolor": "white",
           "ticks": "",
           "title": {
            "standoff": 15
           },
           "zerolinecolor": "white",
           "zerolinewidth": 2
          }
         }
        },
        "title": {
         "text": "Label: Aggron"
        },
        "width": 300,
        "xaxis": {
         "anchor": "y",
         "domain": [
          0,
          1
         ]
        },
        "yaxis": {
         "anchor": "x",
         "domain": [
          0,
          1
         ]
        }
       }
      }
     },
     "metadata": {},
     "output_type": "display_data"
    },
    {
     "data": {
      "application/vnd.plotly.v1+json": {
       "config": {
        "plotlyServerURL": "https://plot.ly"
       },
       "data": [
        {
         "hovertemplate": "x: %{x}<br>y: %{y}<br>color: [%{z[0]}, %{z[1]}, %{z[2]}]<extra></extra>",
         "name": "0",
         "source": "data:image/png;base64,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",
         "type": "image",
         "xaxis": "x",
         "yaxis": "y"
        }
       ],
       "layout": {
        "annotations": [
         {
          "align": "left",
          "bgcolor": "#ff7f0e",
          "bordercolor": "#c7c7c7",
          "borderpad": 2,
          "borderwidth": 1,
          "font": {
           "color": "#ffffff",
           "family": "Courier New, monospace",
           "size": 10
          },
          "opacity": 0.8,
          "showarrow": false,
          "text": "Gengar: 100%",
          "x": 1.3,
          "xref": "paper",
          "y": 1,
          "yref": "paper"
         }
        ],
        "height": 300,
        "margin": {
         "t": 60
        },
        "template": {
         "data": {
          "bar": [
           {
            "error_x": {
             "color": "#2a3f5f"
            },
            "error_y": {
             "color": "#2a3f5f"
            },
            "marker": {
             "line": {
              "color": "#E5ECF6",
              "width": 0.5
             },
             "pattern": {
              "fillmode": "overlay",
              "size": 10,
              "solidity": 0.2
             }
            },
            "type": "bar"
           }
          ],
          "barpolar": [
           {
            "marker": {
             "line": {
              "color": "#E5ECF6",
              "width": 0.5
             },
             "pattern": {
              "fillmode": "overlay",
              "size": 10,
              "solidity": 0.2
             }
            },
            "type": "barpolar"
           }
          ],
          "carpet": [
           {
            "aaxis": {
             "endlinecolor": "#2a3f5f",
             "gridcolor": "white",
             "linecolor": "white",
             "minorgridcolor": "white",
             "startlinecolor": "#2a3f5f"
            },
            "baxis": {
             "endlinecolor": "#2a3f5f",
             "gridcolor": "white",
             "linecolor": "white",
             "minorgridcolor": "white",
             "startlinecolor": "#2a3f5f"
            },
            "type": "carpet"
           }
          ],
          "choropleth": [
           {
            "colorbar": {
             "outlinewidth": 0,
             "ticks": ""
            },
            "type": "choropleth"
           }
          ],
          "contour": [
           {
            "colorbar": {
             "outlinewidth": 0,
             "ticks": ""
            },
            "colorscale": [
             [
              0,
              "#0d0887"
             ],
             [
              0.1111111111111111,
              "#46039f"
             ],
             [
              0.2222222222222222,
              "#7201a8"
             ],
             [
              0.3333333333333333,
              "#9c179e"
             ],
             [
              0.4444444444444444,
              "#bd3786"
             ],
             [
              0.5555555555555556,
              "#d8576b"
             ],
             [
              0.6666666666666666,
              "#ed7953"
             ],
             [
              0.7777777777777778,
              "#fb9f3a"
             ],
             [
              0.8888888888888888,
              "#fdca26"
             ],
             [
              1,
              "#f0f921"
             ]
            ],
            "type": "contour"
           }
          ],
          "contourcarpet": [
           {
            "colorbar": {
             "outlinewidth": 0,
             "ticks": ""
            },
            "type": "contourcarpet"
           }
          ],
          "heatmap": [
           {
            "colorbar": {
             "outlinewidth": 0,
             "ticks": ""
            },
            "colorscale": [
             [
              0,
              "#0d0887"
             ],
             [
              0.1111111111111111,
              "#46039f"
             ],
             [
              0.2222222222222222,
              "#7201a8"
             ],
             [
              0.3333333333333333,
              "#9c179e"
             ],
             [
              0.4444444444444444,
              "#bd3786"
             ],
             [
              0.5555555555555556,
              "#d8576b"
             ],
             [
              0.6666666666666666,
              "#ed7953"
             ],
             [
              0.7777777777777778,
              "#fb9f3a"
             ],
             [
              0.8888888888888888,
              "#fdca26"
             ],
             [
              1,
              "#f0f921"
             ]
            ],
            "type": "heatmap"
           }
          ],
          "heatmapgl": [
           {
            "colorbar": {
             "outlinewidth": 0,
             "ticks": ""
            },
            "colorscale": [
             [
              0,
              "#0d0887"
             ],
             [
              0.1111111111111111,
              "#46039f"
             ],
             [
              0.2222222222222222,
              "#7201a8"
             ],
             [
              0.3333333333333333,
              "#9c179e"
             ],
             [
              0.4444444444444444,
              "#bd3786"
             ],
             [
              0.5555555555555556,
              "#d8576b"
             ],
             [
              0.6666666666666666,
              "#ed7953"
             ],
             [
              0.7777777777777778,
              "#fb9f3a"
             ],
             [
              0.8888888888888888,
              "#fdca26"
             ],
             [
              1,
              "#f0f921"
             ]
            ],
            "type": "heatmapgl"
           }
          ],
          "histogram": [
           {
            "marker": {
             "pattern": {
              "fillmode": "overlay",
              "size": 10,
              "solidity": 0.2
             }
            },
            "type": "histogram"
           }
          ],
          "histogram2d": [
           {
            "colorbar": {
             "outlinewidth": 0,
             "ticks": ""
            },
            "colorscale": [
             [
              0,
              "#0d0887"
             ],
             [
              0.1111111111111111,
              "#46039f"
             ],
             [
              0.2222222222222222,
              "#7201a8"
             ],
             [
              0.3333333333333333,
              "#9c179e"
             ],
             [
              0.4444444444444444,
              "#bd3786"
             ],
             [
              0.5555555555555556,
              "#d8576b"
             ],
             [
              0.6666666666666666,
              "#ed7953"
             ],
             [
              0.7777777777777778,
              "#fb9f3a"
             ],
             [
              0.8888888888888888,
              "#fdca26"
             ],
             [
              1,
              "#f0f921"
             ]
            ],
            "type": "histogram2d"
           }
          ],
          "histogram2dcontour": [
           {
            "colorbar": {
             "outlinewidth": 0,
             "ticks": ""
            },
            "colorscale": [
             [
              0,
              "#0d0887"
             ],
             [
              0.1111111111111111,
              "#46039f"
             ],
             [
              0.2222222222222222,
              "#7201a8"
             ],
             [
              0.3333333333333333,
              "#9c179e"
             ],
             [
              0.4444444444444444,
              "#bd3786"
             ],
             [
              0.5555555555555556,
              "#d8576b"
             ],
             [
              0.6666666666666666,
              "#ed7953"
             ],
             [
              0.7777777777777778,
              "#fb9f3a"
             ],
             [
              0.8888888888888888,
              "#fdca26"
             ],
             [
              1,
              "#f0f921"
             ]
            ],
            "type": "histogram2dcontour"
           }
          ],
          "mesh3d": [
           {
            "colorbar": {
             "outlinewidth": 0,
             "ticks": ""
            },
            "type": "mesh3d"
           }
          ],
          "parcoords": [
           {
            "line": {
             "colorbar": {
              "outlinewidth": 0,
              "ticks": ""
             }
            },
            "type": "parcoords"
           }
          ],
          "pie": [
           {
            "automargin": true,
            "type": "pie"
           }
          ],
          "scatter": [
           {
            "fillpattern": {
             "fillmode": "overlay",
             "size": 10,
             "solidity": 0.2
            },
            "type": "scatter"
           }
          ],
          "scatter3d": [
           {
            "line": {
             "colorbar": {
              "outlinewidth": 0,
              "ticks": ""
             }
            },
            "marker": {
             "colorbar": {
              "outlinewidth": 0,
              "ticks": ""
             }
            },
            "type": "scatter3d"
           }
          ],
          "scattercarpet": [
           {
            "marker": {
             "colorbar": {
              "outlinewidth": 0,
              "ticks": ""
             }
            },
            "type": "scattercarpet"
           }
          ],
          "scattergeo": [
           {
            "marker": {
             "colorbar": {
              "outlinewidth": 0,
              "ticks": ""
             }
            },
            "type": "scattergeo"
           }
          ],
          "scattergl": [
           {
            "marker": {
             "colorbar": {
              "outlinewidth": 0,
              "ticks": ""
             }
            },
            "type": "scattergl"
           }
          ],
          "scattermapbox": [
           {
            "marker": {
             "colorbar": {
              "outlinewidth": 0,
              "ticks": ""
             }
            },
            "type": "scattermapbox"
           }
          ],
          "scatterpolar": [
           {
            "marker": {
             "colorbar": {
              "outlinewidth": 0,
              "ticks": ""
             }
            },
            "type": "scatterpolar"
           }
          ],
          "scatterpolargl": [
           {
            "marker": {
             "colorbar": {
              "outlinewidth": 0,
              "ticks": ""
             }
            },
            "type": "scatterpolargl"
           }
          ],
          "scatterternary": [
           {
            "marker": {
             "colorbar": {
              "outlinewidth": 0,
              "ticks": ""
             }
            },
            "type": "scatterternary"
           }
          ],
          "surface": [
           {
            "colorbar": {
             "outlinewidth": 0,
             "ticks": ""
            },
            "colorscale": [
             [
              0,
              "#0d0887"
             ],
             [
              0.1111111111111111,
              "#46039f"
             ],
             [
              0.2222222222222222,
              "#7201a8"
             ],
             [
              0.3333333333333333,
              "#9c179e"
             ],
             [
              0.4444444444444444,
              "#bd3786"
             ],
             [
              0.5555555555555556,
              "#d8576b"
             ],
             [
              0.6666666666666666,
              "#ed7953"
             ],
             [
              0.7777777777777778,
              "#fb9f3a"
             ],
             [
              0.8888888888888888,
              "#fdca26"
             ],
             [
              1,
              "#f0f921"
             ]
            ],
            "type": "surface"
           }
          ],
          "table": [
           {
            "cells": {
             "fill": {
              "color": "#EBF0F8"
             },
             "line": {
              "color": "white"
             }
            },
            "header": {
             "fill": {
              "color": "#C8D4E3"
             },
             "line": {
              "color": "white"
             }
            },
            "type": "table"
           }
          ]
         },
         "layout": {
          "annotationdefaults": {
           "arrowcolor": "#2a3f5f",
           "arrowhead": 0,
           "arrowwidth": 1
          },
          "autotypenumbers": "strict",
          "coloraxis": {
           "colorbar": {
            "outlinewidth": 0,
            "ticks": ""
           }
          },
          "colorscale": {
           "diverging": [
            [
             0,
             "#8e0152"
            ],
            [
             0.1,
             "#c51b7d"
            ],
            [
             0.2,
             "#de77ae"
            ],
            [
             0.3,
             "#f1b6da"
            ],
            [
             0.4,
             "#fde0ef"
            ],
            [
             0.5,
             "#f7f7f7"
            ],
            [
             0.6,
             "#e6f5d0"
            ],
            [
             0.7,
             "#b8e186"
            ],
            [
             0.8,
             "#7fbc41"
            ],
            [
             0.9,
             "#4d9221"
            ],
            [
             1,
             "#276419"
            ]
           ],
           "sequential": [
            [
             0,
             "#0d0887"
            ],
            [
             0.1111111111111111,
             "#46039f"
            ],
            [
             0.2222222222222222,
             "#7201a8"
            ],
            [
             0.3333333333333333,
             "#9c179e"
            ],
            [
             0.4444444444444444,
             "#bd3786"
            ],
            [
             0.5555555555555556,
             "#d8576b"
            ],
            [
             0.6666666666666666,
             "#ed7953"
            ],
            [
             0.7777777777777778,
             "#fb9f3a"
            ],
            [
             0.8888888888888888,
             "#fdca26"
            ],
            [
             1,
             "#f0f921"
            ]
           ],
           "sequentialminus": [
            [
             0,
             "#0d0887"
            ],
            [
             0.1111111111111111,
             "#46039f"
            ],
            [
             0.2222222222222222,
             "#7201a8"
            ],
            [
             0.3333333333333333,
             "#9c179e"
            ],
            [
             0.4444444444444444,
             "#bd3786"
            ],
            [
             0.5555555555555556,
             "#d8576b"
            ],
            [
             0.6666666666666666,
             "#ed7953"
            ],
            [
             0.7777777777777778,
             "#fb9f3a"
            ],
            [
             0.8888888888888888,
             "#fdca26"
            ],
            [
             1,
             "#f0f921"
            ]
           ]
          },
          "colorway": [
           "#636efa",
           "#EF553B",
           "#00cc96",
           "#ab63fa",
           "#FFA15A",
           "#19d3f3",
           "#FF6692",
           "#B6E880",
           "#FF97FF",
           "#FECB52"
          ],
          "font": {
           "color": "#2a3f5f"
          },
          "geo": {
           "bgcolor": "white",
           "lakecolor": "white",
           "landcolor": "#E5ECF6",
           "showlakes": true,
           "showland": true,
           "subunitcolor": "white"
          },
          "hoverlabel": {
           "align": "left"
          },
          "hovermode": "closest",
          "mapbox": {
           "style": "light"
          },
          "paper_bgcolor": "white",
          "plot_bgcolor": "#E5ECF6",
          "polar": {
           "angularaxis": {
            "gridcolor": "white",
            "linecolor": "white",
            "ticks": ""
           },
           "bgcolor": "#E5ECF6",
           "radialaxis": {
            "gridcolor": "white",
            "linecolor": "white",
            "ticks": ""
           }
          },
          "scene": {
           "xaxis": {
            "backgroundcolor": "#E5ECF6",
            "gridcolor": "white",
            "gridwidth": 2,
            "linecolor": "white",
            "showbackground": true,
            "ticks": "",
            "zerolinecolor": "white"
           },
           "yaxis": {
            "backgroundcolor": "#E5ECF6",
            "gridcolor": "white",
            "gridwidth": 2,
            "linecolor": "white",
            "showbackground": true,
            "ticks": "",
            "zerolinecolor": "white"
           },
           "zaxis": {
            "backgroundcolor": "#E5ECF6",
            "gridcolor": "white",
            "gridwidth": 2,
            "linecolor": "white",
            "showbackground": true,
            "ticks": "",
            "zerolinecolor": "white"
           }
          },
          "shapedefaults": {
           "line": {
            "color": "#2a3f5f"
           }
          },
          "ternary": {
           "aaxis": {
            "gridcolor": "white",
            "linecolor": "white",
            "ticks": ""
           },
           "baxis": {
            "gridcolor": "white",
            "linecolor": "white",
            "ticks": ""
           },
           "bgcolor": "#E5ECF6",
           "caxis": {
            "gridcolor": "white",
            "linecolor": "white",
            "ticks": ""
           }
          },
          "title": {
           "x": 0.05
          },
          "xaxis": {
           "automargin": true,
           "gridcolor": "white",
           "linecolor": "white",
           "ticks": "",
           "title": {
            "standoff": 15
           },
           "zerolinecolor": "white",
           "zerolinewidth": 2
          },
          "yaxis": {
           "automargin": true,
           "gridcolor": "white",
           "linecolor": "white",
           "ticks": "",
           "title": {
            "standoff": 15
           },
           "zerolinecolor": "white",
           "zerolinewidth": 2
          }
         }
        },
        "title": {
         "text": "Label: Gengar"
        },
        "width": 300,
        "xaxis": {
         "anchor": "y",
         "domain": [
          0,
          1
         ]
        },
        "yaxis": {
         "anchor": "x",
         "domain": [
          0,
          1
         ]
        }
       }
      }
     },
     "metadata": {},
     "output_type": "display_data"
    },
    {
     "data": {
      "application/vnd.plotly.v1+json": {
       "config": {
        "plotlyServerURL": "https://plot.ly"
       },
       "data": [
        {
         "hovertemplate": "x: %{x}<br>y: %{y}<br>color: [%{z[0]}, %{z[1]}, %{z[2]}]<extra></extra>",
         "name": "0",
         "source": "data:image/png;base64,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",
         "type": "image",
         "xaxis": "x",
         "yaxis": "y"
        }
       ],
       "layout": {
        "annotations": [
         {
          "align": "left",
          "bgcolor": "#ff7f0e",
          "bordercolor": "#c7c7c7",
          "borderpad": 2,
          "borderwidth": 1,
          "font": {
           "color": "#ffffff",
           "family": "Courier New, monospace",
           "size": 10
          },
          "opacity": 0.8,
          "showarrow": false,
          "text": "Cloyster: 19%",
          "x": 1.3,
          "xref": "paper",
          "y": 1,
          "yref": "paper"
         },
         {
          "align": "left",
          "bgcolor": "#ff7f0e",
          "bordercolor": "#c7c7c7",
          "borderpad": 2,
          "borderwidth": 1,
          "font": {
           "color": "#ffffff",
           "family": "Courier New, monospace",
           "size": 10
          },
          "opacity": 0.8,
          "showarrow": false,
          "text": "Dialga: 15%",
          "x": 1.3,
          "xref": "paper",
          "y": 0.85,
          "yref": "paper"
         },
         {
          "align": "left",
          "bgcolor": "#ff7f0e",
          "bordercolor": "#c7c7c7",
          "borderpad": 2,
          "borderwidth": 1,
          "font": {
           "color": "#ffffff",
           "family": "Courier New, monospace",
           "size": 10
          },
          "opacity": 0.8,
          "showarrow": false,
          "text": "Carbink: 14%",
          "x": 1.3,
          "xref": "paper",
          "y": 0.7,
          "yref": "paper"
         }
        ],
        "height": 300,
        "margin": {
         "t": 60
        },
        "template": {
         "data": {
          "bar": [
           {
            "error_x": {
             "color": "#2a3f5f"
            },
            "error_y": {
             "color": "#2a3f5f"
            },
            "marker": {
             "line": {
              "color": "#E5ECF6",
              "width": 0.5
             },
             "pattern": {
              "fillmode": "overlay",
              "size": 10,
              "solidity": 0.2
             }
            },
            "type": "bar"
           }
          ],
          "barpolar": [
           {
            "marker": {
             "line": {
              "color": "#E5ECF6",
              "width": 0.5
             },
             "pattern": {
              "fillmode": "overlay",
              "size": 10,
              "solidity": 0.2
             }
            },
            "type": "barpolar"
           }
          ],
          "carpet": [
           {
            "aaxis": {
             "endlinecolor": "#2a3f5f",
             "gridcolor": "white",
             "linecolor": "white",
             "minorgridcolor": "white",
             "startlinecolor": "#2a3f5f"
            },
            "baxis": {
             "endlinecolor": "#2a3f5f",
             "gridcolor": "white",
             "linecolor": "white",
             "minorgridcolor": "white",
             "startlinecolor": "#2a3f5f"
            },
            "type": "carpet"
           }
          ],
          "choropleth": [
           {
            "colorbar": {
             "outlinewidth": 0,
             "ticks": ""
            },
            "type": "choropleth"
           }
          ],
          "contour": [
           {
            "colorbar": {
             "outlinewidth": 0,
             "ticks": ""
            },
            "colorscale": [
             [
              0,
              "#0d0887"
             ],
             [
              0.1111111111111111,
              "#46039f"
             ],
             [
              0.2222222222222222,
              "#7201a8"
             ],
             [
              0.3333333333333333,
              "#9c179e"
             ],
             [
              0.4444444444444444,
              "#bd3786"
             ],
             [
              0.5555555555555556,
              "#d8576b"
             ],
             [
              0.6666666666666666,
              "#ed7953"
             ],
             [
              0.7777777777777778,
              "#fb9f3a"
             ],
             [
              0.8888888888888888,
              "#fdca26"
             ],
             [
              1,
              "#f0f921"
             ]
            ],
            "type": "contour"
           }
          ],
          "contourcarpet": [
           {
            "colorbar": {
             "outlinewidth": 0,
             "ticks": ""
            },
            "type": "contourcarpet"
           }
          ],
          "heatmap": [
           {
            "colorbar": {
             "outlinewidth": 0,
             "ticks": ""
            },
            "colorscale": [
             [
              0,
              "#0d0887"
             ],
             [
              0.1111111111111111,
              "#46039f"
             ],
             [
              0.2222222222222222,
              "#7201a8"
             ],
             [
              0.3333333333333333,
              "#9c179e"
             ],
             [
              0.4444444444444444,
              "#bd3786"
             ],
             [
              0.5555555555555556,
              "#d8576b"
             ],
             [
              0.6666666666666666,
              "#ed7953"
             ],
             [
              0.7777777777777778,
              "#fb9f3a"
             ],
             [
              0.8888888888888888,
              "#fdca26"
             ],
             [
              1,
              "#f0f921"
             ]
            ],
            "type": "heatmap"
           }
          ],
          "heatmapgl": [
           {
            "colorbar": {
             "outlinewidth": 0,
             "ticks": ""
            },
            "colorscale": [
             [
              0,
              "#0d0887"
             ],
             [
              0.1111111111111111,
              "#46039f"
             ],
             [
              0.2222222222222222,
              "#7201a8"
             ],
             [
              0.3333333333333333,
              "#9c179e"
             ],
             [
              0.4444444444444444,
              "#bd3786"
             ],
             [
              0.5555555555555556,
              "#d8576b"
             ],
             [
              0.6666666666666666,
              "#ed7953"
             ],
             [
              0.7777777777777778,
              "#fb9f3a"
             ],
             [
              0.8888888888888888,
              "#fdca26"
             ],
             [
              1,
              "#f0f921"
             ]
            ],
            "type": "heatmapgl"
           }
          ],
          "histogram": [
           {
            "marker": {
             "pattern": {
              "fillmode": "overlay",
              "size": 10,
              "solidity": 0.2
             }
            },
            "type": "histogram"
           }
          ],
          "histogram2d": [
           {
            "colorbar": {
             "outlinewidth": 0,
             "ticks": ""
            },
            "colorscale": [
             [
              0,
              "#0d0887"
             ],
             [
              0.1111111111111111,
              "#46039f"
             ],
             [
              0.2222222222222222,
              "#7201a8"
             ],
             [
              0.3333333333333333,
              "#9c179e"
             ],
             [
              0.4444444444444444,
              "#bd3786"
             ],
             [
              0.5555555555555556,
              "#d8576b"
             ],
             [
              0.6666666666666666,
              "#ed7953"
             ],
             [
              0.7777777777777778,
              "#fb9f3a"
             ],
             [
              0.8888888888888888,
              "#fdca26"
             ],
             [
              1,
              "#f0f921"
             ]
            ],
            "type": "histogram2d"
           }
          ],
          "histogram2dcontour": [
           {
            "colorbar": {
             "outlinewidth": 0,
             "ticks": ""
            },
            "colorscale": [
             [
              0,
              "#0d0887"
             ],
             [
              0.1111111111111111,
              "#46039f"
             ],
             [
              0.2222222222222222,
              "#7201a8"
             ],
             [
              0.3333333333333333,
              "#9c179e"
             ],
             [
              0.4444444444444444,
              "#bd3786"
             ],
             [
              0.5555555555555556,
              "#d8576b"
             ],
             [
              0.6666666666666666,
              "#ed7953"
             ],
             [
              0.7777777777777778,
              "#fb9f3a"
             ],
             [
              0.8888888888888888,
              "#fdca26"
             ],
             [
              1,
              "#f0f921"
             ]
            ],
            "type": "histogram2dcontour"
           }
          ],
          "mesh3d": [
           {
            "colorbar": {
             "outlinewidth": 0,
             "ticks": ""
            },
            "type": "mesh3d"
           }
          ],
          "parcoords": [
           {
            "line": {
             "colorbar": {
              "outlinewidth": 0,
              "ticks": ""
             }
            },
            "type": "parcoords"
           }
          ],
          "pie": [
           {
            "automargin": true,
            "type": "pie"
           }
          ],
          "scatter": [
           {
            "fillpattern": {
             "fillmode": "overlay",
             "size": 10,
             "solidity": 0.2
            },
            "type": "scatter"
           }
          ],
          "scatter3d": [
           {
            "line": {
             "colorbar": {
              "outlinewidth": 0,
              "ticks": ""
             }
            },
            "marker": {
             "colorbar": {
              "outlinewidth": 0,
              "ticks": ""
             }
            },
            "type": "scatter3d"
           }
          ],
          "scattercarpet": [
           {
            "marker": {
             "colorbar": {
              "outlinewidth": 0,
              "ticks": ""
             }
            },
            "type": "scattercarpet"
           }
          ],
          "scattergeo": [
           {
            "marker": {
             "colorbar": {
              "outlinewidth": 0,
              "ticks": ""
             }
            },
            "type": "scattergeo"
           }
          ],
          "scattergl": [
           {
            "marker": {
             "colorbar": {
              "outlinewidth": 0,
              "ticks": ""
             }
            },
            "type": "scattergl"
           }
          ],
          "scattermapbox": [
           {
            "marker": {
             "colorbar": {
              "outlinewidth": 0,
              "ticks": ""
             }
            },
            "type": "scattermapbox"
           }
          ],
          "scatterpolar": [
           {
            "marker": {
             "colorbar": {
              "outlinewidth": 0,
              "ticks": ""
             }
            },
            "type": "scatterpolar"
           }
          ],
          "scatterpolargl": [
           {
            "marker": {
             "colorbar": {
              "outlinewidth": 0,
              "ticks": ""
             }
            },
            "type": "scatterpolargl"
           }
          ],
          "scatterternary": [
           {
            "marker": {
             "colorbar": {
              "outlinewidth": 0,
              "ticks": ""
             }
            },
            "type": "scatterternary"
           }
          ],
          "surface": [
           {
            "colorbar": {
             "outlinewidth": 0,
             "ticks": ""
            },
            "colorscale": [
             [
              0,
              "#0d0887"
             ],
             [
              0.1111111111111111,
              "#46039f"
             ],
             [
              0.2222222222222222,
              "#7201a8"
             ],
             [
              0.3333333333333333,
              "#9c179e"
             ],
             [
              0.4444444444444444,
              "#bd3786"
             ],
             [
              0.5555555555555556,
              "#d8576b"
             ],
             [
              0.6666666666666666,
              "#ed7953"
             ],
             [
              0.7777777777777778,
              "#fb9f3a"
             ],
             [
              0.8888888888888888,
              "#fdca26"
             ],
             [
              1,
              "#f0f921"
             ]
            ],
            "type": "surface"
           }
          ],
          "table": [
           {
            "cells": {
             "fill": {
              "color": "#EBF0F8"
             },
             "line": {
              "color": "white"
             }
            },
            "header": {
             "fill": {
              "color": "#C8D4E3"
             },
             "line": {
              "color": "white"
             }
            },
            "type": "table"
           }
          ]
         },
         "layout": {
          "annotationdefaults": {
           "arrowcolor": "#2a3f5f",
           "arrowhead": 0,
           "arrowwidth": 1
          },
          "autotypenumbers": "strict",
          "coloraxis": {
           "colorbar": {
            "outlinewidth": 0,
            "ticks": ""
           }
          },
          "colorscale": {
           "diverging": [
            [
             0,
             "#8e0152"
            ],
            [
             0.1,
             "#c51b7d"
            ],
            [
             0.2,
             "#de77ae"
            ],
            [
             0.3,
             "#f1b6da"
            ],
            [
             0.4,
             "#fde0ef"
            ],
            [
             0.5,
             "#f7f7f7"
            ],
            [
             0.6,
             "#e6f5d0"
            ],
            [
             0.7,
             "#b8e186"
            ],
            [
             0.8,
             "#7fbc41"
            ],
            [
             0.9,
             "#4d9221"
            ],
            [
             1,
             "#276419"
            ]
           ],
           "sequential": [
            [
             0,
             "#0d0887"
            ],
            [
             0.1111111111111111,
             "#46039f"
            ],
            [
             0.2222222222222222,
             "#7201a8"
            ],
            [
             0.3333333333333333,
             "#9c179e"
            ],
            [
             0.4444444444444444,
             "#bd3786"
            ],
            [
             0.5555555555555556,
             "#d8576b"
            ],
            [
             0.6666666666666666,
             "#ed7953"
            ],
            [
             0.7777777777777778,
             "#fb9f3a"
            ],
            [
             0.8888888888888888,
             "#fdca26"
            ],
            [
             1,
             "#f0f921"
            ]
           ],
           "sequentialminus": [
            [
             0,
             "#0d0887"
            ],
            [
             0.1111111111111111,
             "#46039f"
            ],
            [
             0.2222222222222222,
             "#7201a8"
            ],
            [
             0.3333333333333333,
             "#9c179e"
            ],
            [
             0.4444444444444444,
             "#bd3786"
            ],
            [
             0.5555555555555556,
             "#d8576b"
            ],
            [
             0.6666666666666666,
             "#ed7953"
            ],
            [
             0.7777777777777778,
             "#fb9f3a"
            ],
            [
             0.8888888888888888,
             "#fdca26"
            ],
            [
             1,
             "#f0f921"
            ]
           ]
          },
          "colorway": [
           "#636efa",
           "#EF553B",
           "#00cc96",
           "#ab63fa",
           "#FFA15A",
           "#19d3f3",
           "#FF6692",
           "#B6E880",
           "#FF97FF",
           "#FECB52"
          ],
          "font": {
           "color": "#2a3f5f"
          },
          "geo": {
           "bgcolor": "white",
           "lakecolor": "white",
           "landcolor": "#E5ECF6",
           "showlakes": true,
           "showland": true,
           "subunitcolor": "white"
          },
          "hoverlabel": {
           "align": "left"
          },
          "hovermode": "closest",
          "mapbox": {
           "style": "light"
          },
          "paper_bgcolor": "white",
          "plot_bgcolor": "#E5ECF6",
          "polar": {
           "angularaxis": {
            "gridcolor": "white",
            "linecolor": "white",
            "ticks": ""
           },
           "bgcolor": "#E5ECF6",
           "radialaxis": {
            "gridcolor": "white",
            "linecolor": "white",
            "ticks": ""
           }
          },
          "scene": {
           "xaxis": {
            "backgroundcolor": "#E5ECF6",
            "gridcolor": "white",
            "gridwidth": 2,
            "linecolor": "white",
            "showbackground": true,
            "ticks": "",
            "zerolinecolor": "white"
           },
           "yaxis": {
            "backgroundcolor": "#E5ECF6",
            "gridcolor": "white",
            "gridwidth": 2,
            "linecolor": "white",
            "showbackground": true,
            "ticks": "",
            "zerolinecolor": "white"
           },
           "zaxis": {
            "backgroundcolor": "#E5ECF6",
            "gridcolor": "white",
            "gridwidth": 2,
            "linecolor": "white",
            "showbackground": true,
            "ticks": "",
            "zerolinecolor": "white"
           }
          },
          "shapedefaults": {
           "line": {
            "color": "#2a3f5f"
           }
          },
          "ternary": {
           "aaxis": {
            "gridcolor": "white",
            "linecolor": "white",
            "ticks": ""
           },
           "baxis": {
            "gridcolor": "white",
            "linecolor": "white",
            "ticks": ""
           },
           "bgcolor": "#E5ECF6",
           "caxis": {
            "gridcolor": "white",
            "linecolor": "white",
            "ticks": ""
           }
          },
          "title": {
           "x": 0.05
          },
          "xaxis": {
           "automargin": true,
           "gridcolor": "white",
           "linecolor": "white",
           "ticks": "",
           "title": {
            "standoff": 15
           },
           "zerolinecolor": "white",
           "zerolinewidth": 2
          },
          "yaxis": {
           "automargin": true,
           "gridcolor": "white",
           "linecolor": "white",
           "ticks": "",
           "title": {
            "standoff": 15
           },
           "zerolinecolor": "white",
           "zerolinewidth": 2
          }
         }
        },
        "title": {
         "text": "Label: Gengar"
        },
        "width": 300,
        "xaxis": {
         "anchor": "y",
         "domain": [
          0,
          1
         ]
        },
        "yaxis": {
         "anchor": "x",
         "domain": [
          0,
          1
         ]
        }
       }
      }
     },
     "metadata": {},
     "output_type": "display_data"
    },
    {
     "data": {
      "application/vnd.plotly.v1+json": {
       "config": {
        "plotlyServerURL": "https://plot.ly"
       },
       "data": [
        {
         "hovertemplate": "x: %{x}<br>y: %{y}<extra></extra>",
         "name": "0",
         "source": "data:image/png;base64,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",
         "type": "image",
         "xaxis": "x",
         "yaxis": "y"
        }
       ],
       "layout": {
        "annotations": [
         {
          "align": "left",
          "bgcolor": "#ff7f0e",
          "bordercolor": "#c7c7c7",
          "borderpad": 2,
          "borderwidth": 1,
          "font": {
           "color": "#ffffff",
           "family": "Courier New, monospace",
           "size": 10
          },
          "opacity": 0.8,
          "showarrow": false,
          "text": "Wurmple: 47%",
          "x": 1.3,
          "xref": "paper",
          "y": 1,
          "yref": "paper"
         },
         {
          "align": "left",
          "bgcolor": "#ff7f0e",
          "bordercolor": "#c7c7c7",
          "borderpad": 2,
          "borderwidth": 1,
          "font": {
           "color": "#ffffff",
           "family": "Courier New, monospace",
           "size": 10
          },
          "opacity": 0.8,
          "showarrow": false,
          "text": "Larvitar: 23%",
          "x": 1.3,
          "xref": "paper",
          "y": 0.85,
          "yref": "paper"
         },
         {
          "align": "left",
          "bgcolor": "#ff7f0e",
          "bordercolor": "#c7c7c7",
          "borderpad": 2,
          "borderwidth": 1,
          "font": {
           "color": "#ffffff",
           "family": "Courier New, monospace",
           "size": 10
          },
          "opacity": 0.8,
          "showarrow": false,
          "text": "Slugma: 15%",
          "x": 1.3,
          "xref": "paper",
          "y": 0.7,
          "yref": "paper"
         }
        ],
        "height": 300,
        "margin": {
         "t": 60
        },
        "template": {
         "data": {
          "bar": [
           {
            "error_x": {
             "color": "#2a3f5f"
            },
            "error_y": {
             "color": "#2a3f5f"
            },
            "marker": {
             "line": {
              "color": "#E5ECF6",
              "width": 0.5
             },
             "pattern": {
              "fillmode": "overlay",
              "size": 10,
              "solidity": 0.2
             }
            },
            "type": "bar"
           }
          ],
          "barpolar": [
           {
            "marker": {
             "line": {
              "color": "#E5ECF6",
              "width": 0.5
             },
             "pattern": {
              "fillmode": "overlay",
              "size": 10,
              "solidity": 0.2
             }
            },
            "type": "barpolar"
           }
          ],
          "carpet": [
           {
            "aaxis": {
             "endlinecolor": "#2a3f5f",
             "gridcolor": "white",
             "linecolor": "white",
             "minorgridcolor": "white",
             "startlinecolor": "#2a3f5f"
            },
            "baxis": {
             "endlinecolor": "#2a3f5f",
             "gridcolor": "white",
             "linecolor": "white",
             "minorgridcolor": "white",
             "startlinecolor": "#2a3f5f"
            },
            "type": "carpet"
           }
          ],
          "choropleth": [
           {
            "colorbar": {
             "outlinewidth": 0,
             "ticks": ""
            },
            "type": "choropleth"
           }
          ],
          "contour": [
           {
            "colorbar": {
             "outlinewidth": 0,
             "ticks": ""
            },
            "colorscale": [
             [
              0,
              "#0d0887"
             ],
             [
              0.1111111111111111,
              "#46039f"
             ],
             [
              0.2222222222222222,
              "#7201a8"
             ],
             [
              0.3333333333333333,
              "#9c179e"
             ],
             [
              0.4444444444444444,
              "#bd3786"
             ],
             [
              0.5555555555555556,
              "#d8576b"
             ],
             [
              0.6666666666666666,
              "#ed7953"
             ],
             [
              0.7777777777777778,
              "#fb9f3a"
             ],
             [
              0.8888888888888888,
              "#fdca26"
             ],
             [
              1,
              "#f0f921"
             ]
            ],
            "type": "contour"
           }
          ],
          "contourcarpet": [
           {
            "colorbar": {
             "outlinewidth": 0,
             "ticks": ""
            },
            "type": "contourcarpet"
           }
          ],
          "heatmap": [
           {
            "colorbar": {
             "outlinewidth": 0,
             "ticks": ""
            },
            "colorscale": [
             [
              0,
              "#0d0887"
             ],
             [
              0.1111111111111111,
              "#46039f"
             ],
             [
              0.2222222222222222,
              "#7201a8"
             ],
             [
              0.3333333333333333,
              "#9c179e"
             ],
             [
              0.4444444444444444,
              "#bd3786"
             ],
             [
              0.5555555555555556,
              "#d8576b"
             ],
             [
              0.6666666666666666,
              "#ed7953"
             ],
             [
              0.7777777777777778,
              "#fb9f3a"
             ],
             [
              0.8888888888888888,
              "#fdca26"
             ],
             [
              1,
              "#f0f921"
             ]
            ],
            "type": "heatmap"
           }
          ],
          "heatmapgl": [
           {
            "colorbar": {
             "outlinewidth": 0,
             "ticks": ""
            },
            "colorscale": [
             [
              0,
              "#0d0887"
             ],
             [
              0.1111111111111111,
              "#46039f"
             ],
             [
              0.2222222222222222,
              "#7201a8"
             ],
             [
              0.3333333333333333,
              "#9c179e"
             ],
             [
              0.4444444444444444,
              "#bd3786"
             ],
             [
              0.5555555555555556,
              "#d8576b"
             ],
             [
              0.6666666666666666,
              "#ed7953"
             ],
             [
              0.7777777777777778,
              "#fb9f3a"
             ],
             [
              0.8888888888888888,
              "#fdca26"
             ],
             [
              1,
              "#f0f921"
             ]
            ],
            "type": "heatmapgl"
           }
          ],
          "histogram": [
           {
            "marker": {
             "pattern": {
              "fillmode": "overlay",
              "size": 10,
              "solidity": 0.2
             }
            },
            "type": "histogram"
           }
          ],
          "histogram2d": [
           {
            "colorbar": {
             "outlinewidth": 0,
             "ticks": ""
            },
            "colorscale": [
             [
              0,
              "#0d0887"
             ],
             [
              0.1111111111111111,
              "#46039f"
             ],
             [
              0.2222222222222222,
              "#7201a8"
             ],
             [
              0.3333333333333333,
              "#9c179e"
             ],
             [
              0.4444444444444444,
              "#bd3786"
             ],
             [
              0.5555555555555556,
              "#d8576b"
             ],
             [
              0.6666666666666666,
              "#ed7953"
             ],
             [
              0.7777777777777778,
              "#fb9f3a"
             ],
             [
              0.8888888888888888,
              "#fdca26"
             ],
             [
              1,
              "#f0f921"
             ]
            ],
            "type": "histogram2d"
           }
          ],
          "histogram2dcontour": [
           {
            "colorbar": {
             "outlinewidth": 0,
             "ticks": ""
            },
            "colorscale": [
             [
              0,
              "#0d0887"
             ],
             [
              0.1111111111111111,
              "#46039f"
             ],
             [
              0.2222222222222222,
              "#7201a8"
             ],
             [
              0.3333333333333333,
              "#9c179e"
             ],
             [
              0.4444444444444444,
              "#bd3786"
             ],
             [
              0.5555555555555556,
              "#d8576b"
             ],
             [
              0.6666666666666666,
              "#ed7953"
             ],
             [
              0.7777777777777778,
              "#fb9f3a"
             ],
             [
              0.8888888888888888,
              "#fdca26"
             ],
             [
              1,
              "#f0f921"
             ]
            ],
            "type": "histogram2dcontour"
           }
          ],
          "mesh3d": [
           {
            "colorbar": {
             "outlinewidth": 0,
             "ticks": ""
            },
            "type": "mesh3d"
           }
          ],
          "parcoords": [
           {
            "line": {
             "colorbar": {
              "outlinewidth": 0,
              "ticks": ""
             }
            },
            "type": "parcoords"
           }
          ],
          "pie": [
           {
            "automargin": true,
            "type": "pie"
           }
          ],
          "scatter": [
           {
            "fillpattern": {
             "fillmode": "overlay",
             "size": 10,
             "solidity": 0.2
            },
            "type": "scatter"
           }
          ],
          "scatter3d": [
           {
            "line": {
             "colorbar": {
              "outlinewidth": 0,
              "ticks": ""
             }
            },
            "marker": {
             "colorbar": {
              "outlinewidth": 0,
              "ticks": ""
             }
            },
            "type": "scatter3d"
           }
          ],
          "scattercarpet": [
           {
            "marker": {
             "colorbar": {
              "outlinewidth": 0,
              "ticks": ""
             }
            },
            "type": "scattercarpet"
           }
          ],
          "scattergeo": [
           {
            "marker": {
             "colorbar": {
              "outlinewidth": 0,
              "ticks": ""
             }
            },
            "type": "scattergeo"
           }
          ],
          "scattergl": [
           {
            "marker": {
             "colorbar": {
              "outlinewidth": 0,
              "ticks": ""
             }
            },
            "type": "scattergl"
           }
          ],
          "scattermapbox": [
           {
            "marker": {
             "colorbar": {
              "outlinewidth": 0,
              "ticks": ""
             }
            },
            "type": "scattermapbox"
           }
          ],
          "scatterpolar": [
           {
            "marker": {
             "colorbar": {
              "outlinewidth": 0,
              "ticks": ""
             }
            },
            "type": "scatterpolar"
           }
          ],
          "scatterpolargl": [
           {
            "marker": {
             "colorbar": {
              "outlinewidth": 0,
              "ticks": ""
             }
            },
            "type": "scatterpolargl"
           }
          ],
          "scatterternary": [
           {
            "marker": {
             "colorbar": {
              "outlinewidth": 0,
              "ticks": ""
             }
            },
            "type": "scatterternary"
           }
          ],
          "surface": [
           {
            "colorbar": {
             "outlinewidth": 0,
             "ticks": ""
            },
            "colorscale": [
             [
              0,
              "#0d0887"
             ],
             [
              0.1111111111111111,
              "#46039f"
             ],
             [
              0.2222222222222222,
              "#7201a8"
             ],
             [
              0.3333333333333333,
              "#9c179e"
             ],
             [
              0.4444444444444444,
              "#bd3786"
             ],
             [
              0.5555555555555556,
              "#d8576b"
             ],
             [
              0.6666666666666666,
              "#ed7953"
             ],
             [
              0.7777777777777778,
              "#fb9f3a"
             ],
             [
              0.8888888888888888,
              "#fdca26"
             ],
             [
              1,
              "#f0f921"
             ]
            ],
            "type": "surface"
           }
          ],
          "table": [
           {
            "cells": {
             "fill": {
              "color": "#EBF0F8"
             },
             "line": {
              "color": "white"
             }
            },
            "header": {
             "fill": {
              "color": "#C8D4E3"
             },
             "line": {
              "color": "white"
             }
            },
            "type": "table"
           }
          ]
         },
         "layout": {
          "annotationdefaults": {
           "arrowcolor": "#2a3f5f",
           "arrowhead": 0,
           "arrowwidth": 1
          },
          "autotypenumbers": "strict",
          "coloraxis": {
           "colorbar": {
            "outlinewidth": 0,
            "ticks": ""
           }
          },
          "colorscale": {
           "diverging": [
            [
             0,
             "#8e0152"
            ],
            [
             0.1,
             "#c51b7d"
            ],
            [
             0.2,
             "#de77ae"
            ],
            [
             0.3,
             "#f1b6da"
            ],
            [
             0.4,
             "#fde0ef"
            ],
            [
             0.5,
             "#f7f7f7"
            ],
            [
             0.6,
             "#e6f5d0"
            ],
            [
             0.7,
             "#b8e186"
            ],
            [
             0.8,
             "#7fbc41"
            ],
            [
             0.9,
             "#4d9221"
            ],
            [
             1,
             "#276419"
            ]
           ],
           "sequential": [
            [
             0,
             "#0d0887"
            ],
            [
             0.1111111111111111,
             "#46039f"
            ],
            [
             0.2222222222222222,
             "#7201a8"
            ],
            [
             0.3333333333333333,
             "#9c179e"
            ],
            [
             0.4444444444444444,
             "#bd3786"
            ],
            [
             0.5555555555555556,
             "#d8576b"
            ],
            [
             0.6666666666666666,
             "#ed7953"
            ],
            [
             0.7777777777777778,
             "#fb9f3a"
            ],
            [
             0.8888888888888888,
             "#fdca26"
            ],
            [
             1,
             "#f0f921"
            ]
           ],
           "sequentialminus": [
            [
             0,
             "#0d0887"
            ],
            [
             0.1111111111111111,
             "#46039f"
            ],
            [
             0.2222222222222222,
             "#7201a8"
            ],
            [
             0.3333333333333333,
             "#9c179e"
            ],
            [
             0.4444444444444444,
             "#bd3786"
            ],
            [
             0.5555555555555556,
             "#d8576b"
            ],
            [
             0.6666666666666666,
             "#ed7953"
            ],
            [
             0.7777777777777778,
             "#fb9f3a"
            ],
            [
             0.8888888888888888,
             "#fdca26"
            ],
            [
             1,
             "#f0f921"
            ]
           ]
          },
          "colorway": [
           "#636efa",
           "#EF553B",
           "#00cc96",
           "#ab63fa",
           "#FFA15A",
           "#19d3f3",
           "#FF6692",
           "#B6E880",
           "#FF97FF",
           "#FECB52"
          ],
          "font": {
           "color": "#2a3f5f"
          },
          "geo": {
           "bgcolor": "white",
           "lakecolor": "white",
           "landcolor": "#E5ECF6",
           "showlakes": true,
           "showland": true,
           "subunitcolor": "white"
          },
          "hoverlabel": {
           "align": "left"
          },
          "hovermode": "closest",
          "mapbox": {
           "style": "light"
          },
          "paper_bgcolor": "white",
          "plot_bgcolor": "#E5ECF6",
          "polar": {
           "angularaxis": {
            "gridcolor": "white",
            "linecolor": "white",
            "ticks": ""
           },
           "bgcolor": "#E5ECF6",
           "radialaxis": {
            "gridcolor": "white",
            "linecolor": "white",
            "ticks": ""
           }
          },
          "scene": {
           "xaxis": {
            "backgroundcolor": "#E5ECF6",
            "gridcolor": "white",
            "gridwidth": 2,
            "linecolor": "white",
            "showbackground": true,
            "ticks": "",
            "zerolinecolor": "white"
           },
           "yaxis": {
            "backgroundcolor": "#E5ECF6",
            "gridcolor": "white",
            "gridwidth": 2,
            "linecolor": "white",
            "showbackground": true,
            "ticks": "",
            "zerolinecolor": "white"
           },
           "zaxis": {
            "backgroundcolor": "#E5ECF6",
            "gridcolor": "white",
            "gridwidth": 2,
            "linecolor": "white",
            "showbackground": true,
            "ticks": "",
            "zerolinecolor": "white"
           }
          },
          "shapedefaults": {
           "line": {
            "color": "#2a3f5f"
           }
          },
          "ternary": {
           "aaxis": {
            "gridcolor": "white",
            "linecolor": "white",
            "ticks": ""
           },
           "baxis": {
            "gridcolor": "white",
            "linecolor": "white",
            "ticks": ""
           },
           "bgcolor": "#E5ECF6",
           "caxis": {
            "gridcolor": "white",
            "linecolor": "white",
            "ticks": ""
           }
          },
          "title": {
           "x": 0.05
          },
          "xaxis": {
           "automargin": true,
           "gridcolor": "white",
           "linecolor": "white",
           "ticks": "",
           "title": {
            "standoff": 15
           },
           "zerolinecolor": "white",
           "zerolinewidth": 2
          },
          "yaxis": {
           "automargin": true,
           "gridcolor": "white",
           "linecolor": "white",
           "ticks": "",
           "title": {
            "standoff": 15
           },
           "zerolinecolor": "white",
           "zerolinewidth": 2
          }
         }
        },
        "title": {
         "text": "Label: Wurmple"
        },
        "width": 300,
        "xaxis": {
         "anchor": "y",
         "domain": [
          0,
          1
         ]
        },
        "yaxis": {
         "anchor": "x",
         "domain": [
          0,
          1
         ]
        }
       }
      }
     },
     "metadata": {},
     "output_type": "display_data"
    },
    {
     "data": {
      "application/vnd.plotly.v1+json": {
       "config": {
        "plotlyServerURL": "https://plot.ly"
       },
       "data": [
        {
         "hovertemplate": "x: %{x}<br>y: %{y}<extra></extra>",
         "name": "0",
         "source": "data:image/png;base64,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",
         "type": "image",
         "xaxis": "x",
         "yaxis": "y"
        }
       ],
       "layout": {
        "annotations": [
         {
          "align": "left",
          "bgcolor": "#ff7f0e",
          "bordercolor": "#c7c7c7",
          "borderpad": 2,
          "borderwidth": 1,
          "font": {
           "color": "#ffffff",
           "family": "Courier New, monospace",
           "size": 10
          },
          "opacity": 0.8,
          "showarrow": false,
          "text": "Kartana: 16%",
          "x": 1.3,
          "xref": "paper",
          "y": 1,
          "yref": "paper"
         },
         {
          "align": "left",
          "bgcolor": "#ff7f0e",
          "bordercolor": "#c7c7c7",
          "borderpad": 2,
          "borderwidth": 1,
          "font": {
           "color": "#ffffff",
           "family": "Courier New, monospace",
           "size": 10
          },
          "opacity": 0.8,
          "showarrow": false,
          "text": "Magikarp: 16%",
          "x": 1.3,
          "xref": "paper",
          "y": 0.85,
          "yref": "paper"
         },
         {
          "align": "left",
          "bgcolor": "#ff7f0e",
          "bordercolor": "#c7c7c7",
          "borderpad": 2,
          "borderwidth": 1,
          "font": {
           "color": "#ffffff",
           "family": "Courier New, monospace",
           "size": 10
          },
          "opacity": 0.8,
          "showarrow": false,
          "text": "Pidgeot: 12%",
          "x": 1.3,
          "xref": "paper",
          "y": 0.7,
          "yref": "paper"
         }
        ],
        "height": 300,
        "margin": {
         "t": 60
        },
        "template": {
         "data": {
          "bar": [
           {
            "error_x": {
             "color": "#2a3f5f"
            },
            "error_y": {
             "color": "#2a3f5f"
            },
            "marker": {
             "line": {
              "color": "#E5ECF6",
              "width": 0.5
             },
             "pattern": {
              "fillmode": "overlay",
              "size": 10,
              "solidity": 0.2
             }
            },
            "type": "bar"
           }
          ],
          "barpolar": [
           {
            "marker": {
             "line": {
              "color": "#E5ECF6",
              "width": 0.5
             },
             "pattern": {
              "fillmode": "overlay",
              "size": 10,
              "solidity": 0.2
             }
            },
            "type": "barpolar"
           }
          ],
          "carpet": [
           {
            "aaxis": {
             "endlinecolor": "#2a3f5f",
             "gridcolor": "white",
             "linecolor": "white",
             "minorgridcolor": "white",
             "startlinecolor": "#2a3f5f"
            },
            "baxis": {
             "endlinecolor": "#2a3f5f",
             "gridcolor": "white",
             "linecolor": "white",
             "minorgridcolor": "white",
             "startlinecolor": "#2a3f5f"
            },
            "type": "carpet"
           }
          ],
          "choropleth": [
           {
            "colorbar": {
             "outlinewidth": 0,
             "ticks": ""
            },
            "type": "choropleth"
           }
          ],
          "contour": [
           {
            "colorbar": {
             "outlinewidth": 0,
             "ticks": ""
            },
            "colorscale": [
             [
              0,
              "#0d0887"
             ],
             [
              0.1111111111111111,
              "#46039f"
             ],
             [
              0.2222222222222222,
              "#7201a8"
             ],
             [
              0.3333333333333333,
              "#9c179e"
             ],
             [
              0.4444444444444444,
              "#bd3786"
             ],
             [
              0.5555555555555556,
              "#d8576b"
             ],
             [
              0.6666666666666666,
              "#ed7953"
             ],
             [
              0.7777777777777778,
              "#fb9f3a"
             ],
             [
              0.8888888888888888,
              "#fdca26"
             ],
             [
              1,
              "#f0f921"
             ]
            ],
            "type": "contour"
           }
          ],
          "contourcarpet": [
           {
            "colorbar": {
             "outlinewidth": 0,
             "ticks": ""
            },
            "type": "contourcarpet"
           }
          ],
          "heatmap": [
           {
            "colorbar": {
             "outlinewidth": 0,
             "ticks": ""
            },
            "colorscale": [
             [
              0,
              "#0d0887"
             ],
             [
              0.1111111111111111,
              "#46039f"
             ],
             [
              0.2222222222222222,
              "#7201a8"
             ],
             [
              0.3333333333333333,
              "#9c179e"
             ],
             [
              0.4444444444444444,
              "#bd3786"
             ],
             [
              0.5555555555555556,
              "#d8576b"
             ],
             [
              0.6666666666666666,
              "#ed7953"
             ],
             [
              0.7777777777777778,
              "#fb9f3a"
             ],
             [
              0.8888888888888888,
              "#fdca26"
             ],
             [
              1,
              "#f0f921"
             ]
            ],
            "type": "heatmap"
           }
          ],
          "heatmapgl": [
           {
            "colorbar": {
             "outlinewidth": 0,
             "ticks": ""
            },
            "colorscale": [
             [
              0,
              "#0d0887"
             ],
             [
              0.1111111111111111,
              "#46039f"
             ],
             [
              0.2222222222222222,
              "#7201a8"
             ],
             [
              0.3333333333333333,
              "#9c179e"
             ],
             [
              0.4444444444444444,
              "#bd3786"
             ],
             [
              0.5555555555555556,
              "#d8576b"
             ],
             [
              0.6666666666666666,
              "#ed7953"
             ],
             [
              0.7777777777777778,
              "#fb9f3a"
             ],
             [
              0.8888888888888888,
              "#fdca26"
             ],
             [
              1,
              "#f0f921"
             ]
            ],
            "type": "heatmapgl"
           }
          ],
          "histogram": [
           {
            "marker": {
             "pattern": {
              "fillmode": "overlay",
              "size": 10,
              "solidity": 0.2
             }
            },
            "type": "histogram"
           }
          ],
          "histogram2d": [
           {
            "colorbar": {
             "outlinewidth": 0,
             "ticks": ""
            },
            "colorscale": [
             [
              0,
              "#0d0887"
             ],
             [
              0.1111111111111111,
              "#46039f"
             ],
             [
              0.2222222222222222,
              "#7201a8"
             ],
             [
              0.3333333333333333,
              "#9c179e"
             ],
             [
              0.4444444444444444,
              "#bd3786"
             ],
             [
              0.5555555555555556,
              "#d8576b"
             ],
             [
              0.6666666666666666,
              "#ed7953"
             ],
             [
              0.7777777777777778,
              "#fb9f3a"
             ],
             [
              0.8888888888888888,
              "#fdca26"
             ],
             [
              1,
              "#f0f921"
             ]
            ],
            "type": "histogram2d"
           }
          ],
          "histogram2dcontour": [
           {
            "colorbar": {
             "outlinewidth": 0,
             "ticks": ""
            },
            "colorscale": [
             [
              0,
              "#0d0887"
             ],
             [
              0.1111111111111111,
              "#46039f"
             ],
             [
              0.2222222222222222,
              "#7201a8"
             ],
             [
              0.3333333333333333,
              "#9c179e"
             ],
             [
              0.4444444444444444,
              "#bd3786"
             ],
             [
              0.5555555555555556,
              "#d8576b"
             ],
             [
              0.6666666666666666,
              "#ed7953"
             ],
             [
              0.7777777777777778,
              "#fb9f3a"
             ],
             [
              0.8888888888888888,
              "#fdca26"
             ],
             [
              1,
              "#f0f921"
             ]
            ],
            "type": "histogram2dcontour"
           }
          ],
          "mesh3d": [
           {
            "colorbar": {
             "outlinewidth": 0,
             "ticks": ""
            },
            "type": "mesh3d"
           }
          ],
          "parcoords": [
           {
            "line": {
             "colorbar": {
              "outlinewidth": 0,
              "ticks": ""
             }
            },
            "type": "parcoords"
           }
          ],
          "pie": [
           {
            "automargin": true,
            "type": "pie"
           }
          ],
          "scatter": [
           {
            "fillpattern": {
             "fillmode": "overlay",
             "size": 10,
             "solidity": 0.2
            },
            "type": "scatter"
           }
          ],
          "scatter3d": [
           {
            "line": {
             "colorbar": {
              "outlinewidth": 0,
              "ticks": ""
             }
            },
            "marker": {
             "colorbar": {
              "outlinewidth": 0,
              "ticks": ""
             }
            },
            "type": "scatter3d"
           }
          ],
          "scattercarpet": [
           {
            "marker": {
             "colorbar": {
              "outlinewidth": 0,
              "ticks": ""
             }
            },
            "type": "scattercarpet"
           }
          ],
          "scattergeo": [
           {
            "marker": {
             "colorbar": {
              "outlinewidth": 0,
              "ticks": ""
             }
            },
            "type": "scattergeo"
           }
          ],
          "scattergl": [
           {
            "marker": {
             "colorbar": {
              "outlinewidth": 0,
              "ticks": ""
             }
            },
            "type": "scattergl"
           }
          ],
          "scattermapbox": [
           {
            "marker": {
             "colorbar": {
              "outlinewidth": 0,
              "ticks": ""
             }
            },
            "type": "scattermapbox"
           }
          ],
          "scatterpolar": [
           {
            "marker": {
             "colorbar": {
              "outlinewidth": 0,
              "ticks": ""
             }
            },
            "type": "scatterpolar"
           }
          ],
          "scatterpolargl": [
           {
            "marker": {
             "colorbar": {
              "outlinewidth": 0,
              "ticks": ""
             }
            },
            "type": "scatterpolargl"
           }
          ],
          "scatterternary": [
           {
            "marker": {
             "colorbar": {
              "outlinewidth": 0,
              "ticks": ""
             }
            },
            "type": "scatterternary"
           }
          ],
          "surface": [
           {
            "colorbar": {
             "outlinewidth": 0,
             "ticks": ""
            },
            "colorscale": [
             [
              0,
              "#0d0887"
             ],
             [
              0.1111111111111111,
              "#46039f"
             ],
             [
              0.2222222222222222,
              "#7201a8"
             ],
             [
              0.3333333333333333,
              "#9c179e"
             ],
             [
              0.4444444444444444,
              "#bd3786"
             ],
             [
              0.5555555555555556,
              "#d8576b"
             ],
             [
              0.6666666666666666,
              "#ed7953"
             ],
             [
              0.7777777777777778,
              "#fb9f3a"
             ],
             [
              0.8888888888888888,
              "#fdca26"
             ],
             [
              1,
              "#f0f921"
             ]
            ],
            "type": "surface"
           }
          ],
          "table": [
           {
            "cells": {
             "fill": {
              "color": "#EBF0F8"
             },
             "line": {
              "color": "white"
             }
            },
            "header": {
             "fill": {
              "color": "#C8D4E3"
             },
             "line": {
              "color": "white"
             }
            },
            "type": "table"
           }
          ]
         },
         "layout": {
          "annotationdefaults": {
           "arrowcolor": "#2a3f5f",
           "arrowhead": 0,
           "arrowwidth": 1
          },
          "autotypenumbers": "strict",
          "coloraxis": {
           "colorbar": {
            "outlinewidth": 0,
            "ticks": ""
           }
          },
          "colorscale": {
           "diverging": [
            [
             0,
             "#8e0152"
            ],
            [
             0.1,
             "#c51b7d"
            ],
            [
             0.2,
             "#de77ae"
            ],
            [
             0.3,
             "#f1b6da"
            ],
            [
             0.4,
             "#fde0ef"
            ],
            [
             0.5,
             "#f7f7f7"
            ],
            [
             0.6,
             "#e6f5d0"
            ],
            [
             0.7,
             "#b8e186"
            ],
            [
             0.8,
             "#7fbc41"
            ],
            [
             0.9,
             "#4d9221"
            ],
            [
             1,
             "#276419"
            ]
           ],
           "sequential": [
            [
             0,
             "#0d0887"
            ],
            [
             0.1111111111111111,
             "#46039f"
            ],
            [
             0.2222222222222222,
             "#7201a8"
            ],
            [
             0.3333333333333333,
             "#9c179e"
            ],
            [
             0.4444444444444444,
             "#bd3786"
            ],
            [
             0.5555555555555556,
             "#d8576b"
            ],
            [
             0.6666666666666666,
             "#ed7953"
            ],
            [
             0.7777777777777778,
             "#fb9f3a"
            ],
            [
             0.8888888888888888,
             "#fdca26"
            ],
            [
             1,
             "#f0f921"
            ]
           ],
           "sequentialminus": [
            [
             0,
             "#0d0887"
            ],
            [
             0.1111111111111111,
             "#46039f"
            ],
            [
             0.2222222222222222,
             "#7201a8"
            ],
            [
             0.3333333333333333,
             "#9c179e"
            ],
            [
             0.4444444444444444,
             "#bd3786"
            ],
            [
             0.5555555555555556,
             "#d8576b"
            ],
            [
             0.6666666666666666,
             "#ed7953"
            ],
            [
             0.7777777777777778,
             "#fb9f3a"
            ],
            [
             0.8888888888888888,
             "#fdca26"
            ],
            [
             1,
             "#f0f921"
            ]
           ]
          },
          "colorway": [
           "#636efa",
           "#EF553B",
           "#00cc96",
           "#ab63fa",
           "#FFA15A",
           "#19d3f3",
           "#FF6692",
           "#B6E880",
           "#FF97FF",
           "#FECB52"
          ],
          "font": {
           "color": "#2a3f5f"
          },
          "geo": {
           "bgcolor": "white",
           "lakecolor": "white",
           "landcolor": "#E5ECF6",
           "showlakes": true,
           "showland": true,
           "subunitcolor": "white"
          },
          "hoverlabel": {
           "align": "left"
          },
          "hovermode": "closest",
          "mapbox": {
           "style": "light"
          },
          "paper_bgcolor": "white",
          "plot_bgcolor": "#E5ECF6",
          "polar": {
           "angularaxis": {
            "gridcolor": "white",
            "linecolor": "white",
            "ticks": ""
           },
           "bgcolor": "#E5ECF6",
           "radialaxis": {
            "gridcolor": "white",
            "linecolor": "white",
            "ticks": ""
           }
          },
          "scene": {
           "xaxis": {
            "backgroundcolor": "#E5ECF6",
            "gridcolor": "white",
            "gridwidth": 2,
            "linecolor": "white",
            "showbackground": true,
            "ticks": "",
            "zerolinecolor": "white"
           },
           "yaxis": {
            "backgroundcolor": "#E5ECF6",
            "gridcolor": "white",
            "gridwidth": 2,
            "linecolor": "white",
            "showbackground": true,
            "ticks": "",
            "zerolinecolor": "white"
           },
           "zaxis": {
            "backgroundcolor": "#E5ECF6",
            "gridcolor": "white",
            "gridwidth": 2,
            "linecolor": "white",
            "showbackground": true,
            "ticks": "",
            "zerolinecolor": "white"
           }
          },
          "shapedefaults": {
           "line": {
            "color": "#2a3f5f"
           }
          },
          "ternary": {
           "aaxis": {
            "gridcolor": "white",
            "linecolor": "white",
            "ticks": ""
           },
           "baxis": {
            "gridcolor": "white",
            "linecolor": "white",
            "ticks": ""
           },
           "bgcolor": "#E5ECF6",
           "caxis": {
            "gridcolor": "white",
            "linecolor": "white",
            "ticks": ""
           }
          },
          "title": {
           "x": 0.05
          },
          "xaxis": {
           "automargin": true,
           "gridcolor": "white",
           "linecolor": "white",
           "ticks": "",
           "title": {
            "standoff": 15
           },
           "zerolinecolor": "white",
           "zerolinewidth": 2
          },
          "yaxis": {
           "automargin": true,
           "gridcolor": "white",
           "linecolor": "white",
           "ticks": "",
           "title": {
            "standoff": 15
           },
           "zerolinecolor": "white",
           "zerolinewidth": 2
          }
         }
        },
        "title": {
         "text": "Label: Wurmple"
        },
        "width": 300,
        "xaxis": {
         "anchor": "y",
         "domain": [
          0,
          1
         ]
        },
        "yaxis": {
         "anchor": "x",
         "domain": [
          0,
          1
         ]
        }
       }
      }
     },
     "metadata": {},
     "output_type": "display_data"
    },
    {
     "data": {
      "application/vnd.plotly.v1+json": {
       "config": {
        "plotlyServerURL": "https://plot.ly"
       },
       "data": [
        {
         "hovertemplate": "x: %{x}<br>y: %{y}<extra></extra>",
         "name": "0",
         "source": "data:image/png;base64,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",
         "type": "image",
         "xaxis": "x",
         "yaxis": "y"
        }
       ],
       "layout": {
        "annotations": [
         {
          "align": "left",
          "bgcolor": "#ff7f0e",
          "bordercolor": "#c7c7c7",
          "borderpad": 2,
          "borderwidth": 1,
          "font": {
           "color": "#ffffff",
           "family": "Courier New, monospace",
           "size": 10
          },
          "opacity": 0.8,
          "showarrow": false,
          "text": "Wailmer: 100%",
          "x": 1.3,
          "xref": "paper",
          "y": 1,
          "yref": "paper"
         }
        ],
        "height": 300,
        "margin": {
         "t": 60
        },
        "template": {
         "data": {
          "bar": [
           {
            "error_x": {
             "color": "#2a3f5f"
            },
            "error_y": {
             "color": "#2a3f5f"
            },
            "marker": {
             "line": {
              "color": "#E5ECF6",
              "width": 0.5
             },
             "pattern": {
              "fillmode": "overlay",
              "size": 10,
              "solidity": 0.2
             }
            },
            "type": "bar"
           }
          ],
          "barpolar": [
           {
            "marker": {
             "line": {
              "color": "#E5ECF6",
              "width": 0.5
             },
             "pattern": {
              "fillmode": "overlay",
              "size": 10,
              "solidity": 0.2
             }
            },
            "type": "barpolar"
           }
          ],
          "carpet": [
           {
            "aaxis": {
             "endlinecolor": "#2a3f5f",
             "gridcolor": "white",
             "linecolor": "white",
             "minorgridcolor": "white",
             "startlinecolor": "#2a3f5f"
            },
            "baxis": {
             "endlinecolor": "#2a3f5f",
             "gridcolor": "white",
             "linecolor": "white",
             "minorgridcolor": "white",
             "startlinecolor": "#2a3f5f"
            },
            "type": "carpet"
           }
          ],
          "choropleth": [
           {
            "colorbar": {
             "outlinewidth": 0,
             "ticks": ""
            },
            "type": "choropleth"
           }
          ],
          "contour": [
           {
            "colorbar": {
             "outlinewidth": 0,
             "ticks": ""
            },
            "colorscale": [
             [
              0,
              "#0d0887"
             ],
             [
              0.1111111111111111,
              "#46039f"
             ],
             [
              0.2222222222222222,
              "#7201a8"
             ],
             [
              0.3333333333333333,
              "#9c179e"
             ],
             [
              0.4444444444444444,
              "#bd3786"
             ],
             [
              0.5555555555555556,
              "#d8576b"
             ],
             [
              0.6666666666666666,
              "#ed7953"
             ],
             [
              0.7777777777777778,
              "#fb9f3a"
             ],
             [
              0.8888888888888888,
              "#fdca26"
             ],
             [
              1,
              "#f0f921"
             ]
            ],
            "type": "contour"
           }
          ],
          "contourcarpet": [
           {
            "colorbar": {
             "outlinewidth": 0,
             "ticks": ""
            },
            "type": "contourcarpet"
           }
          ],
          "heatmap": [
           {
            "colorbar": {
             "outlinewidth": 0,
             "ticks": ""
            },
            "colorscale": [
             [
              0,
              "#0d0887"
             ],
             [
              0.1111111111111111,
              "#46039f"
             ],
             [
              0.2222222222222222,
              "#7201a8"
             ],
             [
              0.3333333333333333,
              "#9c179e"
             ],
             [
              0.4444444444444444,
              "#bd3786"
             ],
             [
              0.5555555555555556,
              "#d8576b"
             ],
             [
              0.6666666666666666,
              "#ed7953"
             ],
             [
              0.7777777777777778,
              "#fb9f3a"
             ],
             [
              0.8888888888888888,
              "#fdca26"
             ],
             [
              1,
              "#f0f921"
             ]
            ],
            "type": "heatmap"
           }
          ],
          "heatmapgl": [
           {
            "colorbar": {
             "outlinewidth": 0,
             "ticks": ""
            },
            "colorscale": [
             [
              0,
              "#0d0887"
             ],
             [
              0.1111111111111111,
              "#46039f"
             ],
             [
              0.2222222222222222,
              "#7201a8"
             ],
             [
              0.3333333333333333,
              "#9c179e"
             ],
             [
              0.4444444444444444,
              "#bd3786"
             ],
             [
              0.5555555555555556,
              "#d8576b"
             ],
             [
              0.6666666666666666,
              "#ed7953"
             ],
             [
              0.7777777777777778,
              "#fb9f3a"
             ],
             [
              0.8888888888888888,
              "#fdca26"
             ],
             [
              1,
              "#f0f921"
             ]
            ],
            "type": "heatmapgl"
           }
          ],
          "histogram": [
           {
            "marker": {
             "pattern": {
              "fillmode": "overlay",
              "size": 10,
              "solidity": 0.2
             }
            },
            "type": "histogram"
           }
          ],
          "histogram2d": [
           {
            "colorbar": {
             "outlinewidth": 0,
             "ticks": ""
            },
            "colorscale": [
             [
              0,
              "#0d0887"
             ],
             [
              0.1111111111111111,
              "#46039f"
             ],
             [
              0.2222222222222222,
              "#7201a8"
             ],
             [
              0.3333333333333333,
              "#9c179e"
             ],
             [
              0.4444444444444444,
              "#bd3786"
             ],
             [
              0.5555555555555556,
              "#d8576b"
             ],
             [
              0.6666666666666666,
              "#ed7953"
             ],
             [
              0.7777777777777778,
              "#fb9f3a"
             ],
             [
              0.8888888888888888,
              "#fdca26"
             ],
             [
              1,
              "#f0f921"
             ]
            ],
            "type": "histogram2d"
           }
          ],
          "histogram2dcontour": [
           {
            "colorbar": {
             "outlinewidth": 0,
             "ticks": ""
            },
            "colorscale": [
             [
              0,
              "#0d0887"
             ],
             [
              0.1111111111111111,
              "#46039f"
             ],
             [
              0.2222222222222222,
              "#7201a8"
             ],
             [
              0.3333333333333333,
              "#9c179e"
             ],
             [
              0.4444444444444444,
              "#bd3786"
             ],
             [
              0.5555555555555556,
              "#d8576b"
             ],
             [
              0.6666666666666666,
              "#ed7953"
             ],
             [
              0.7777777777777778,
              "#fb9f3a"
             ],
             [
              0.8888888888888888,
              "#fdca26"
             ],
             [
              1,
              "#f0f921"
             ]
            ],
            "type": "histogram2dcontour"
           }
          ],
          "mesh3d": [
           {
            "colorbar": {
             "outlinewidth": 0,
             "ticks": ""
            },
            "type": "mesh3d"
           }
          ],
          "parcoords": [
           {
            "line": {
             "colorbar": {
              "outlinewidth": 0,
              "ticks": ""
             }
            },
            "type": "parcoords"
           }
          ],
          "pie": [
           {
            "automargin": true,
            "type": "pie"
           }
          ],
          "scatter": [
           {
            "fillpattern": {
             "fillmode": "overlay",
             "size": 10,
             "solidity": 0.2
            },
            "type": "scatter"
           }
          ],
          "scatter3d": [
           {
            "line": {
             "colorbar": {
              "outlinewidth": 0,
              "ticks": ""
             }
            },
            "marker": {
             "colorbar": {
              "outlinewidth": 0,
              "ticks": ""
             }
            },
            "type": "scatter3d"
           }
          ],
          "scattercarpet": [
           {
            "marker": {
             "colorbar": {
              "outlinewidth": 0,
              "ticks": ""
             }
            },
            "type": "scattercarpet"
           }
          ],
          "scattergeo": [
           {
            "marker": {
             "colorbar": {
              "outlinewidth": 0,
              "ticks": ""
             }
            },
            "type": "scattergeo"
           }
          ],
          "scattergl": [
           {
            "marker": {
             "colorbar": {
              "outlinewidth": 0,
              "ticks": ""
             }
            },
            "type": "scattergl"
           }
          ],
          "scattermapbox": [
           {
            "marker": {
             "colorbar": {
              "outlinewidth": 0,
              "ticks": ""
             }
            },
            "type": "scattermapbox"
           }
          ],
          "scatterpolar": [
           {
            "marker": {
             "colorbar": {
              "outlinewidth": 0,
              "ticks": ""
             }
            },
            "type": "scatterpolar"
           }
          ],
          "scatterpolargl": [
           {
            "marker": {
             "colorbar": {
              "outlinewidth": 0,
              "ticks": ""
             }
            },
            "type": "scatterpolargl"
           }
          ],
          "scatterternary": [
           {
            "marker": {
             "colorbar": {
              "outlinewidth": 0,
              "ticks": ""
             }
            },
            "type": "scatterternary"
           }
          ],
          "surface": [
           {
            "colorbar": {
             "outlinewidth": 0,
             "ticks": ""
            },
            "colorscale": [
             [
              0,
              "#0d0887"
             ],
             [
              0.1111111111111111,
              "#46039f"
             ],
             [
              0.2222222222222222,
              "#7201a8"
             ],
             [
              0.3333333333333333,
              "#9c179e"
             ],
             [
              0.4444444444444444,
              "#bd3786"
             ],
             [
              0.5555555555555556,
              "#d8576b"
             ],
             [
              0.6666666666666666,
              "#ed7953"
             ],
             [
              0.7777777777777778,
              "#fb9f3a"
             ],
             [
              0.8888888888888888,
              "#fdca26"
             ],
             [
              1,
              "#f0f921"
             ]
            ],
            "type": "surface"
           }
          ],
          "table": [
           {
            "cells": {
             "fill": {
              "color": "#EBF0F8"
             },
             "line": {
              "color": "white"
             }
            },
            "header": {
             "fill": {
              "color": "#C8D4E3"
             },
             "line": {
              "color": "white"
             }
            },
            "type": "table"
           }
          ]
         },
         "layout": {
          "annotationdefaults": {
           "arrowcolor": "#2a3f5f",
           "arrowhead": 0,
           "arrowwidth": 1
          },
          "autotypenumbers": "strict",
          "coloraxis": {
           "colorbar": {
            "outlinewidth": 0,
            "ticks": ""
           }
          },
          "colorscale": {
           "diverging": [
            [
             0,
             "#8e0152"
            ],
            [
             0.1,
             "#c51b7d"
            ],
            [
             0.2,
             "#de77ae"
            ],
            [
             0.3,
             "#f1b6da"
            ],
            [
             0.4,
             "#fde0ef"
            ],
            [
             0.5,
             "#f7f7f7"
            ],
            [
             0.6,
             "#e6f5d0"
            ],
            [
             0.7,
             "#b8e186"
            ],
            [
             0.8,
             "#7fbc41"
            ],
            [
             0.9,
             "#4d9221"
            ],
            [
             1,
             "#276419"
            ]
           ],
           "sequential": [
            [
             0,
             "#0d0887"
            ],
            [
             0.1111111111111111,
             "#46039f"
            ],
            [
             0.2222222222222222,
             "#7201a8"
            ],
            [
             0.3333333333333333,
             "#9c179e"
            ],
            [
             0.4444444444444444,
             "#bd3786"
            ],
            [
             0.5555555555555556,
             "#d8576b"
            ],
            [
             0.6666666666666666,
             "#ed7953"
            ],
            [
             0.7777777777777778,
             "#fb9f3a"
            ],
            [
             0.8888888888888888,
             "#fdca26"
            ],
            [
             1,
             "#f0f921"
            ]
           ],
           "sequentialminus": [
            [
             0,
             "#0d0887"
            ],
            [
             0.1111111111111111,
             "#46039f"
            ],
            [
             0.2222222222222222,
             "#7201a8"
            ],
            [
             0.3333333333333333,
             "#9c179e"
            ],
            [
             0.4444444444444444,
             "#bd3786"
            ],
            [
             0.5555555555555556,
             "#d8576b"
            ],
            [
             0.6666666666666666,
             "#ed7953"
            ],
            [
             0.7777777777777778,
             "#fb9f3a"
            ],
            [
             0.8888888888888888,
             "#fdca26"
            ],
            [
             1,
             "#f0f921"
            ]
           ]
          },
          "colorway": [
           "#636efa",
           "#EF553B",
           "#00cc96",
           "#ab63fa",
           "#FFA15A",
           "#19d3f3",
           "#FF6692",
           "#B6E880",
           "#FF97FF",
           "#FECB52"
          ],
          "font": {
           "color": "#2a3f5f"
          },
          "geo": {
           "bgcolor": "white",
           "lakecolor": "white",
           "landcolor": "#E5ECF6",
           "showlakes": true,
           "showland": true,
           "subunitcolor": "white"
          },
          "hoverlabel": {
           "align": "left"
          },
          "hovermode": "closest",
          "mapbox": {
           "style": "light"
          },
          "paper_bgcolor": "white",
          "plot_bgcolor": "#E5ECF6",
          "polar": {
           "angularaxis": {
            "gridcolor": "white",
            "linecolor": "white",
            "ticks": ""
           },
           "bgcolor": "#E5ECF6",
           "radialaxis": {
            "gridcolor": "white",
            "linecolor": "white",
            "ticks": ""
           }
          },
          "scene": {
           "xaxis": {
            "backgroundcolor": "#E5ECF6",
            "gridcolor": "white",
            "gridwidth": 2,
            "linecolor": "white",
            "showbackground": true,
            "ticks": "",
            "zerolinecolor": "white"
           },
           "yaxis": {
            "backgroundcolor": "#E5ECF6",
            "gridcolor": "white",
            "gridwidth": 2,
            "linecolor": "white",
            "showbackground": true,
            "ticks": "",
            "zerolinecolor": "white"
           },
           "zaxis": {
            "backgroundcolor": "#E5ECF6",
            "gridcolor": "white",
            "gridwidth": 2,
            "linecolor": "white",
            "showbackground": true,
            "ticks": "",
            "zerolinecolor": "white"
           }
          },
          "shapedefaults": {
           "line": {
            "color": "#2a3f5f"
           }
          },
          "ternary": {
           "aaxis": {
            "gridcolor": "white",
            "linecolor": "white",
            "ticks": ""
           },
           "baxis": {
            "gridcolor": "white",
            "linecolor": "white",
            "ticks": ""
           },
           "bgcolor": "#E5ECF6",
           "caxis": {
            "gridcolor": "white",
            "linecolor": "white",
            "ticks": ""
           }
          },
          "title": {
           "x": 0.05
          },
          "xaxis": {
           "automargin": true,
           "gridcolor": "white",
           "linecolor": "white",
           "ticks": "",
           "title": {
            "standoff": 15
           },
           "zerolinecolor": "white",
           "zerolinewidth": 2
          },
          "yaxis": {
           "automargin": true,
           "gridcolor": "white",
           "linecolor": "white",
           "ticks": "",
           "title": {
            "standoff": 15
           },
           "zerolinecolor": "white",
           "zerolinewidth": 2
          }
         }
        },
        "title": {
         "text": "Label: Wailmer"
        },
        "width": 300,
        "xaxis": {
         "anchor": "y",
         "domain": [
          0,
          1
         ]
        },
        "yaxis": {
         "anchor": "x",
         "domain": [
          0,
          1
         ]
        }
       }
      }
     },
     "metadata": {},
     "output_type": "display_data"
    },
    {
     "data": {
      "application/vnd.plotly.v1+json": {
       "config": {
        "plotlyServerURL": "https://plot.ly"
       },
       "data": [
        {
         "hovertemplate": "x: %{x}<br>y: %{y}<extra></extra>",
         "name": "0",
         "source": "data:image/png;base64,iVBORw0KGgoAAAANSUhEUgAAAIAAAACACAIAAABMXPacAAAXSklEQVR4Xu2ceXAb133Hf+/tYi8sbgIgCR4iKVISJUqiJcu2FFu2ZTfO5Uk7TprMtJmm7WTaf3rNtDNJ/05m0k7vP9qZ9MhM/2jHbeo4dWzHjmLHttzWtiTKtiiZoniDIG5gsdh73/aPpSAQIiVSFLlqB5+/iHdgd98Xv+MdS+Q4DrTxDtxa0GZ3aQvgMW0BPKYtgMe0BfCYtgAe0xbAY9oCeExbAI9pC+AxbQE8pi2Ax7QF8Ji2AB7TFsBj2gJ4TFsAj2kL4DFtATymLYDHtAXwmLYAHtMWwGPaAnhMWwCPaQvgMW0BPKYtgMe0BfCYtgAeQ7cW3GfQDE/RTGvpejgOMfW6Q0hrxf3N/S5AcuhEuHOktXQ9TE2em3iptfS+B91XL2jQDJ8cOkEzfKOkf/yxaN8aAQghdVkmt/zSLU1ZvvRzS6s3SoqLH8mldFOT+5H7xQLEaIoVIh39R1KHn/DxIkVRDMMAQGzPkNiRaG5JCGFl2SHEsizTNG+Wm0Y3eYxYpmWYpqoDgIOoWM8hYhtSfs62jJtfcT/hsQVQNOP+3nvGnoqmDmCGjQyP0hzPC0IwGGxtvRZNVSVJutUUVKkuZUvEskEtgqkYqjTz/g9MrUZs6z6UwWMBIl0j3ftPA0B0eExIdCOEMMMEgyFeEDC+Q4ZGCLEsq1Iut2hACLE0o5zOE8MAILahVGbOEUOpV1ZK6SvNLe8HvBSgo3esc/RUfN9xAGACIZoX3PJQKMQLq3/fHtuySqWSbdst5YQQXVbrJclUdYdYppx3iK1VlqSlDwGgVlzU5FJLF6/wJgZQNBOM70kdfjI+ckxIdLXUGoZB0bQbA26DZVm6pt3qggAAY8wH/bqsmqqOMM0EuwCAYgTX3SEfz4nR+0QDDwSgaIYPJfqOPhPbP87H1gRYF1VVieNQGAMAwrjFFzmOQwgBx9E1rVarNVe1gCmMKOzYqwrRQpQWogCAKAYhoBneNnXHWUe/3cQDAYLxPX1Hn4kfetAnbhhmDV0vmSYABAIBjr+ZlQIAIcT1++v+9psRYyFMU7VcuaWciw1FMI0Rys9NtFTtPrstQEfvWOrwk7H94z4xiKkNr+44juvZ6/W6ruvNVcRxLMvaTOjCNIUpqrUUANMMG+oO9IwXl64g5GUUhN0XwB9Nhbr2NjxPvbgsrczE9x6j2TU/8wamaTYn+/cKivFzkf5I//HK0iVvNbhDqncPQQjTDE+zPKZ9jUJpZWbu3R+ZTdPXXYPmxNQDvxjuOUKxfoQQQqi1xa6wexZA+dj4nqMd+4+Jqb5GYXzvsXDPflaMNDXcVZKjT9N8YPniD1srdotdEkCMplIHHkcYGaqlyboQWU0xaZbfyPlsH6VcU6pya+laaE4M9xwBgOzk6574op11QRTNRLpGYj2HEnsf7Dp4imZ4Q9GVqqxK9TvmMLenNH+5NH+5tXQthqq7i0K3hw3Ew73jFM22VuwKO2UB7jq+EEoOPPA5mhOZUJSNJcrL18CxtWrZVOVoX4+PZ++43rAR2Sv/DQDR/oOtFQDgzhUse/N7AwhjnxC2dHn3jWCnrpc6cDrcOcIK4t5Hf0G3SbVYkQuSpStqftqq57GPC/QfD6e6+aC/tefmMOpVAGD8odYKAACwTauczluascmnc4htalL6/A8qixOb7HKvuAcWIEZTsd6xlsKhhz4d7RtBGNuUr16uqJJKbIJpDhx7Typ25PDom+9dq4KpywlMYXfG1PINt2ejoVfKNUPVHUI2P/oAgDDFCBHshRe6GwHctfvGx659D/cffbKpHgAg0N3nEwJaXZHyJbkkmbJs6zUpP+to5fjw/oeOHZSq1atLJSmj+QIdjRkTwogV+bvwS5ZhGooOAEpV3ozfXxd/fEiX824+unnxtsnWBHBvbvD4s/E9RxuF4VRv96FxQgix7EZordVq2aXlxjKArdfM/FVn6R1fIMnQ+wOi8NXnPvv8Cz95fzJj0VxlScY0gzCNaSpCxzFNAwBCgGlqo/ScWDYhN8dIqym3LjlslY69JxHG9fxMa8VOsjUBXJL7Dg6eONP4SNG0uz5TyRS0muIWEkKaV4ml/Kyz9M7ffvvrH19L1xGwDDN+cMRHUf5X33rxlbcBgE/sZ4JdxLLL6dXfIKapSCpO+da/Q7lYbVwLALaZU3nI+o93e2iGZf0iIUSW5Xqpaii64zi6rut11Tat1tYAhel3RxPar3/9G4f3p9LZgqkCQohjmVBQPP3I+NEDQ+++d+nj67n8cs5tz4Z7aSFKLFvKltAG7shQtHWvtU3E+FD3+Bd3c06wBQEQQjTL9xw6GUz0WJalKmo5W6gVKnf0ufX89c6h+HNffFqTiwN9KSdTX1m4Yo8NA8Ce3q6Bk8cQwl2diwuLmfRKPhgUl6tKuaIAgHbDqSCEfawfYQzYBzS3WmqbjqmYet1xCEUzNOMHHw9ofcE2iTsnKEy9Zeu7tDqyBQEAgBPDD37p9/zRzrpcL+cLlUyBWK27URuBMS0Ekw8eHbWti2+d/+npR0+7wdYmZHCw57FTDxQKlbf/6+K+fXt++OOfTXx4laKouqK4bRwHB/l+VTd1xwdc1P1CZKlYL7FGERzbwZxthMGfwD4e4a09VAu7PCe4m3uVZbmc3droN6hWq9VKVTfMCx9/cvjQIQCYvDY7OjywlMnly5V9+/acODrq57nnnn0qlYy/8NIbgZAIAPlcaXCo/6XX3pr48Crg1YTVx4qdXT3PfeaxoMhNfDT14stvQnGeTx5w97/uGh8X3HPq6+6coLVuB9iaAISQmiSZllYrVjYz+pYmZydf/8XHer/6hYct01hJX/cx/NEjR/zB+SsTP+vvjEQSvbphsoyPEBIM+Ad6u0IBMRQUAaCvp/PA/sHeVBIAZhcy42MjNAWfenAsGY9en08n41GKYiTVPPOpB3782luLs1dGkub1rKmV5hzbYiO9AAB6DQCADTTf0h3Z5TnBFgWwSSVfIoRr9fsOAVO1jLptGav+2ifoSsUoXB3vrj17+sEHDw9o9XK5sNzdt29gsCsU9Fel99Kzl0pVCejVfTE/z8WjkXypzDKMIHAY43Ak2JnsAICaoqY644dHhwFgeKD3vy9eHh7oBYCJy1OTV6d1KTPa40seGpjJgmFBpqZfyWd8Yryev04zdGT4YdhK0HY38W3jZoq1o2xNANs0i7MzXDCBbvgBF+TYSCsZUs7UZYRpOpJCmJbz163Zn/zun3xj7MCAqdeNWhkjQAjRjNCR7PvcGerHZ/9r8pPpkaNPlkt5XddYljNM88r0/PBAb1c8VqsrrmUAAMv4dMN044FrMVJNVhRtYXH5Ry+9+ptfGH7q2UcaN/PT9xb+/F8vawZfmJ/gw8G+k8+4G5M3U2TLXte5IwpjjIlpWrUl5Og0w+/CvvHWBDA1ae7cP0V7R/3hNX4WYVoMdXKxQZbmEUII066npigqEY/zPK+qarVajUajgiCsto+kzjx64oNLk2+8/E//81Pf3sOPjx871fjCfKk8s7DsxgYAGB0emLw229OVgBsx42++9y+v/PSdoJ/+1teO7O1dsyxx8nBXLCz88d+9b9bzmPaV0/lIKi7GQkJk1dRquVLzHKKBGAtxAT8AifV30jxXXfjEMrWd3jfeggCO4yCETLVCcRGuY7i5CiGMWD/yCUD5iGWohWnHNka78dNPf6YjGsQY1+rKwnI+Go0ZahUhYIUIonzRjq7xI0wwlFhJX8+sXH7z1fkLoj9fKnf4f6k5NsANC/i3F1+fmV2U5Ho8FumPmb/1xWGBo/f2hgTu5hYbAAicb19f6A++cvCvq5cnlxVSyzkkSrFsIz/1R4OsuM65I0ZgaYYGAGCY+L7joZ5hU5UB43j/Ea1eqhUWWzvcC7YgQAO9XjINXUwM3SxyY4Bati0DHNshtpyfSaRCzz592i9whVKlWlP8fgFhZJuqrgBClI8VaUaIRJx9mPQl/VdnMivFGjEKnJWfn/pgaWk+WyjRem6lUAKAanZ6fiEt5eZooxKk7IVr008eOPKp8cGbN7AWgfM9daIvs3DsR2/NzC9MhAcHgL0ZVBmBY9YZ/zUIHV1CR5elq8Q0LF2tZecCsR4A0OSyeU+nCFsTwHWdCCHbUH1CGAAomkGYWhMDaE5MHS3MXTRlIxaLAcDc4jIAHD8y6n6JbaqKlBUjNMJ0tZxLL0yPHj3VN3QIAAxdnZ2aOHf+8my6CAAzH4FDbMchlwAA4JnT4/sHh6Va/dKVawOdd95H+9XnnqBo6g//9Ic9J59h/BsegbkNNMsnx04CgJS+TlEMxjg3c8HHCo7j3KvYsDUBGkiZSaW0AACR1H5/uKs1Btwph3OIJZfTCKFcNjOXzo0cWs1ofQw7MHK0q/+geSPHVaWcoUnu3wLPZvOlqdmFIweGg4G73Ei4O8Rknz/WGQ6Hp88lslOX7mFsuBsB3GBgWCUAqKSv1AvzgHCJFQOdI2LHHlYIgymDrQHc7myhQyypVquUS4ZhKNUsx1A0IyCEGZZnWN4yFF2pAAAtUIQVG70s29Z1g2UZmt7snRPTrM1PBwIRJhBSVbW1enNg2od8jAFU19gjiaFDulK7+iZ1T843bvYxWmikcQghvb66ZGPqNV1aYYUwAOi1PEBQN8xrcxmEqGhkndlQoVTRdKM7GSNWXVeqzWfHLUM11GpT27tksC/52cfHPp49H+8fFGPxuxYAABzH0TWND8X5rn6wTVNTMUVvX4O7FKBBc0KNEJKLS42PxBmQZOWVNy+cOXl4oLe7Ud6gWKkBwmMHhgHAUCuGWmltsW0efmBfdzL6hV/7djV7LJgaxBhvc+HalTAUDg+fegYAiG1tc66wXQFug6qq+Vzu1rPjnpD95HIgOpA4MHbr+wR3Tf8Dj/o4nlj2duLBthZvW3CaAABCHMva1Ox/RwkHhd/7jWe62Hxu5jyFMbqxxUZMQ5qbNqTKmtYbc2t7hvcnhg6NPvXl5N5jnLi6RrtVdtAC7khdvfeHPlswTRMc+wtPHX/n/U8+KqcRxizH6Zpm2zaxba2UpwU/Ewy3dtsYpZjx0RAKh92PQjjWPXp8O/HgXlpAMxzrcxwnV5Rsm9jEXtcRFSpKobLOksBtoCmKZZhaXdWNO4tn27aqqrIsi6Lovu6BMQ4GgyzHIYQQQphhiWVa+qYiM/Yx4cERS5Wqi9c0uUrIjdSZEwYffjp18GQg1ru2x6bYKQHGDw9pFvnmd58vlGvVSrVSqbS2uCuS8eiBkcEXX//g2lymte4WKpWKYRjRaLRUKjXnP6IoiqKIGSYyPFrLzRWnLjZ12hCMcTgSGX7kqUBH5+XXnjcU2S1398NbztBvnp0SYHY+e/nqYrWmHBvtjUeEexX3aJp2LcAw7hxd/H4/TdMNC6gX8+mPLli6hjFmOS4cjkQTSRoj7NiBQKARGxoohUz2o3ctXeV5PhQKBYNBmqZZQWT4IDHR8kcTciEHAMSyK5mCrmgt3TfJTgmQyZZWcmUfTQ2kYkGRN02zXt/uedDtcHS0f7ADz31w1tRVAKBpmhcEXhBYPsDyAfdvfi2OqdaWZxiacms5fvXAEh+KxvqGiwvX1GrJsixVUVRJrpdyWn3LAQB2OgjbNskWpHBQAIBisZhIJBiGuYtzV81gjIOiYNl2XdX8/I0N+rU4jmPbtizLACCKYqlU+uzjY5Zp/Ok///yQ+hVWDDXuwR9J2qZhKDVRFPHaTQ7V76coH8f4KLzGOMSOBM2x5cyUoUpypSRV67ZN5OJi8xxo82xrLO5IsSx/60+ef/f8NADYtp3L5bYzF3UR/dwvf/5UJld+673J1robuNdiGIZhmFKpFI1GeZ4HAGLblUrFaPLXyZFRmvM1+/QGNCsyfHThg/+Rsq3xhhHEg7/w5VphZeqt18rp/GZ2ZzdiBwVwHMcmJFeUVG31gW3brlart3+18Y5QGIcCgmXbygbHYTRNKxaLhmHIsmxZliiKsiwbhnF0tP93vnYGCkvllWVFWc2+aJZDCOmydOtR6kBHsvPAoaXLb9Ry8y1VGFOcGCK2ZSiyIVfTF16Q89db2mySnXVBLhOTCz1dsfGD/QDQnC10JyKSrH08tTC8p4tl1myq3JH+VLxYlpv7EkJUVSWEaJrmjq97Lb/f74af3u4Yy/vPfu99R3NsQmmiyPp5lttw4ZYVA8Fkp1SYcZcFb0WIddZlXSvPl+c/MNVq86rM5tlZAdx74jkGEBoZ7ORZBmOk67o7NKNDXVPzuVd/fjGVjG5VgONjey98PPPKmxeSzz0RDggAYNt2sVhsmXA0ruXi2LpVuCibnFonNMPEh4YiHTHLtBzHIbZNCGmJTxhTQiRpm7pWK3OBm+eRHcchhAR6RmSplr/6DrHWt8XNsIMuqMH44aFEMvrGe9dUfc3/yqhUKtXKtpY8bdvO53IrKysrKyu5Taw7xSLid/7oy0P87PTZv7r+87/PX7++MDmdnU8TQlpigwsfij3xje8UF6c+fOX7zeVu7l9K5wqz0/m5Cdts7bh5dtYCXGbns6VyLR4NPDTW7+dvmjwhq5PkUqlkGSq4k51wmFrv5V4XrenteIGFwyPdFyYXhno7Ojs2teFFU1SyI/SlTx9+5HBKUuz/OPefS4ptGwrGTmjxYV22+IDfHw2JorhqCgjbNK/V5cYQK4pSr0j1ck3XdSk9Vc9ft00N1q4Kb4ndECCTLSGEskHh1TcvPf7wgd7uWKMq6OdSidAnM+lUIhQUeYwxTdO3yVM1TXOTSwBgadSTDH84tRyPipsUwGX8YP/4wf5ytZ7Lv12RDEm2VipG/sq5HMUFEj3JfeO6uHokkhBSl2Vd1YhtFzM5AFAVRa7W5HxRykw6atFWtnsmfjcEgBubaH/5jz8BgM+fGY+EVjcUOzuCfp55+e1JisJBkSeElEpbmM5gjPw8Y9tE002O3VoUiYT8v/8bzwDA5enMC69feO2Nl+qKFu496kDrbrMmVTWAa++/1ygxlUr6/A/ESCds47fvsksCNPj+v79dKMvuk28fnmWeODE8cTUt1bWHxva0Vm+OxXT+tTcm3KS2sdfdjKXLANBc7hBialI1ew+OR+zGAeBmEEI9XdHHHz7wa8896tqBadlL2UqhLAf93L6BZGuHTbBSkLLFmmaYR0ZSW7WDF37ywUtnL05MLsANM21tsTH3ZOh22wLch3zp7MWOiBgOCu78YCAVW8yUVc28OwHcAHB9sTCbLlIUDvq5zYQERdXfPT/tjn5jKO/JmG6J3RYA1saDM6dGkx1BACCE+Hx0XdXduUJrnzvR2REM+Nk33rtWV42eZNjPMwDAsT7fei9flqt1VTOyBenPvvdyrijt/qA3s9suyKVh6TzHuEt1v/0rZwb3dF5fLDxxYrg5Vd08hDiqbhDiLGUrH04tA8CJsf6B1M2Mq8Ff/MOrZ89dtm1SLMs2IZ6MQAMPLACaLB0hpGoGAPzHq+8HA35FNxE4xw72b8aHtIAxcpVLJUIUhQGgUJYXM6tp4sieRCZb/uFr5wFgYnI+k6u45d6OPnglQINmJcB1Gj56eaW0b6CzN9XRkwyv60NuT1DkgyIPAJ/MZqdmV9wAO7InsZItv3T2otvG83Fv4I0L2oiGa9q3N/X5p48/NNbHsz4AoCgci4j0xjPkBq5/b3w8e+6yG2xc7quHdfHYAm5DoVz75nefd9PzZEfwO3/05WRHqLXRLXz/398+e+7mf1FpFuP+5P6ygAahoL8jFlxYyluWDQA8x5w8tpffeOm4wcTk/FJmzVz6/nzABvepAC3s/vxo1/i/IcD/YzZcd2yzO7QF8Ji2AB7TFsBj2gJ4TFsAj2kL4DFtATymLYDHtAXwmLYAHtMWwGPaAnhMWwCPaQvgMW0BPKYtgMe0BfCYtgAe0xbAY9oCeExbAI9pC+AxbQE8pi2Ax7QF8Ji2AB7TFsBj2gJ4TFsAj2kL4DFtATzmfwFu+oe5EXxOXAAAAABJRU5ErkJggg==",
         "type": "image",
         "xaxis": "x",
         "yaxis": "y"
        }
       ],
       "layout": {
        "annotations": [
         {
          "align": "left",
          "bgcolor": "#ff7f0e",
          "bordercolor": "#c7c7c7",
          "borderpad": 2,
          "borderwidth": 1,
          "font": {
           "color": "#ffffff",
           "family": "Courier New, monospace",
           "size": 10
          },
          "opacity": 0.8,
          "showarrow": false,
          "text": "Qwilfish: 44%",
          "x": 1.3,
          "xref": "paper",
          "y": 1,
          "yref": "paper"
         },
         {
          "align": "left",
          "bgcolor": "#ff7f0e",
          "bordercolor": "#c7c7c7",
          "borderpad": 2,
          "borderwidth": 1,
          "font": {
           "color": "#ffffff",
           "family": "Courier New, monospace",
           "size": 10
          },
          "opacity": 0.8,
          "showarrow": false,
          "text": "Wailmer: 24%",
          "x": 1.3,
          "xref": "paper",
          "y": 0.85,
          "yref": "paper"
         },
         {
          "align": "left",
          "bgcolor": "#ff7f0e",
          "bordercolor": "#c7c7c7",
          "borderpad": 2,
          "borderwidth": 1,
          "font": {
           "color": "#ffffff",
           "family": "Courier New, monospace",
           "size": 10
          },
          "opacity": 0.8,
          "showarrow": false,
          "text": "Spheal: 22%",
          "x": 1.3,
          "xref": "paper",
          "y": 0.7,
          "yref": "paper"
         }
        ],
        "height": 300,
        "margin": {
         "t": 60
        },
        "template": {
         "data": {
          "bar": [
           {
            "error_x": {
             "color": "#2a3f5f"
            },
            "error_y": {
             "color": "#2a3f5f"
            },
            "marker": {
             "line": {
              "color": "#E5ECF6",
              "width": 0.5
             },
             "pattern": {
              "fillmode": "overlay",
              "size": 10,
              "solidity": 0.2
             }
            },
            "type": "bar"
           }
          ],
          "barpolar": [
           {
            "marker": {
             "line": {
              "color": "#E5ECF6",
              "width": 0.5
             },
             "pattern": {
              "fillmode": "overlay",
              "size": 10,
              "solidity": 0.2
             }
            },
            "type": "barpolar"
           }
          ],
          "carpet": [
           {
            "aaxis": {
             "endlinecolor": "#2a3f5f",
             "gridcolor": "white",
             "linecolor": "white",
             "minorgridcolor": "white",
             "startlinecolor": "#2a3f5f"
            },
            "baxis": {
             "endlinecolor": "#2a3f5f",
             "gridcolor": "white",
             "linecolor": "white",
             "minorgridcolor": "white",
             "startlinecolor": "#2a3f5f"
            },
            "type": "carpet"
           }
          ],
          "choropleth": [
           {
            "colorbar": {
             "outlinewidth": 0,
             "ticks": ""
            },
            "type": "choropleth"
           }
          ],
          "contour": [
           {
            "colorbar": {
             "outlinewidth": 0,
             "ticks": ""
            },
            "colorscale": [
             [
              0,
              "#0d0887"
             ],
             [
              0.1111111111111111,
              "#46039f"
             ],
             [
              0.2222222222222222,
              "#7201a8"
             ],
             [
              0.3333333333333333,
              "#9c179e"
             ],
             [
              0.4444444444444444,
              "#bd3786"
             ],
             [
              0.5555555555555556,
              "#d8576b"
             ],
             [
              0.6666666666666666,
              "#ed7953"
             ],
             [
              0.7777777777777778,
              "#fb9f3a"
             ],
             [
              0.8888888888888888,
              "#fdca26"
             ],
             [
              1,
              "#f0f921"
             ]
            ],
            "type": "contour"
           }
          ],
          "contourcarpet": [
           {
            "colorbar": {
             "outlinewidth": 0,
             "ticks": ""
            },
            "type": "contourcarpet"
           }
          ],
          "heatmap": [
           {
            "colorbar": {
             "outlinewidth": 0,
             "ticks": ""
            },
            "colorscale": [
             [
              0,
              "#0d0887"
             ],
             [
              0.1111111111111111,
              "#46039f"
             ],
             [
              0.2222222222222222,
              "#7201a8"
             ],
             [
              0.3333333333333333,
              "#9c179e"
             ],
             [
              0.4444444444444444,
              "#bd3786"
             ],
             [
              0.5555555555555556,
              "#d8576b"
             ],
             [
              0.6666666666666666,
              "#ed7953"
             ],
             [
              0.7777777777777778,
              "#fb9f3a"
             ],
             [
              0.8888888888888888,
              "#fdca26"
             ],
             [
              1,
              "#f0f921"
             ]
            ],
            "type": "heatmap"
           }
          ],
          "heatmapgl": [
           {
            "colorbar": {
             "outlinewidth": 0,
             "ticks": ""
            },
            "colorscale": [
             [
              0,
              "#0d0887"
             ],
             [
              0.1111111111111111,
              "#46039f"
             ],
             [
              0.2222222222222222,
              "#7201a8"
             ],
             [
              0.3333333333333333,
              "#9c179e"
             ],
             [
              0.4444444444444444,
              "#bd3786"
             ],
             [
              0.5555555555555556,
              "#d8576b"
             ],
             [
              0.6666666666666666,
              "#ed7953"
             ],
             [
              0.7777777777777778,
              "#fb9f3a"
             ],
             [
              0.8888888888888888,
              "#fdca26"
             ],
             [
              1,
              "#f0f921"
             ]
            ],
            "type": "heatmapgl"
           }
          ],
          "histogram": [
           {
            "marker": {
             "pattern": {
              "fillmode": "overlay",
              "size": 10,
              "solidity": 0.2
             }
            },
            "type": "histogram"
           }
          ],
          "histogram2d": [
           {
            "colorbar": {
             "outlinewidth": 0,
             "ticks": ""
            },
            "colorscale": [
             [
              0,
              "#0d0887"
             ],
             [
              0.1111111111111111,
              "#46039f"
             ],
             [
              0.2222222222222222,
              "#7201a8"
             ],
             [
              0.3333333333333333,
              "#9c179e"
             ],
             [
              0.4444444444444444,
              "#bd3786"
             ],
             [
              0.5555555555555556,
              "#d8576b"
             ],
             [
              0.6666666666666666,
              "#ed7953"
             ],
             [
              0.7777777777777778,
              "#fb9f3a"
             ],
             [
              0.8888888888888888,
              "#fdca26"
             ],
             [
              1,
              "#f0f921"
             ]
            ],
            "type": "histogram2d"
           }
          ],
          "histogram2dcontour": [
           {
            "colorbar": {
             "outlinewidth": 0,
             "ticks": ""
            },
            "colorscale": [
             [
              0,
              "#0d0887"
             ],
             [
              0.1111111111111111,
              "#46039f"
             ],
             [
              0.2222222222222222,
              "#7201a8"
             ],
             [
              0.3333333333333333,
              "#9c179e"
             ],
             [
              0.4444444444444444,
              "#bd3786"
             ],
             [
              0.5555555555555556,
              "#d8576b"
             ],
             [
              0.6666666666666666,
              "#ed7953"
             ],
             [
              0.7777777777777778,
              "#fb9f3a"
             ],
             [
              0.8888888888888888,
              "#fdca26"
             ],
             [
              1,
              "#f0f921"
             ]
            ],
            "type": "histogram2dcontour"
           }
          ],
          "mesh3d": [
           {
            "colorbar": {
             "outlinewidth": 0,
             "ticks": ""
            },
            "type": "mesh3d"
           }
          ],
          "parcoords": [
           {
            "line": {
             "colorbar": {
              "outlinewidth": 0,
              "ticks": ""
             }
            },
            "type": "parcoords"
           }
          ],
          "pie": [
           {
            "automargin": true,
            "type": "pie"
           }
          ],
          "scatter": [
           {
            "fillpattern": {
             "fillmode": "overlay",
             "size": 10,
             "solidity": 0.2
            },
            "type": "scatter"
           }
          ],
          "scatter3d": [
           {
            "line": {
             "colorbar": {
              "outlinewidth": 0,
              "ticks": ""
             }
            },
            "marker": {
             "colorbar": {
              "outlinewidth": 0,
              "ticks": ""
             }
            },
            "type": "scatter3d"
           }
          ],
          "scattercarpet": [
           {
            "marker": {
             "colorbar": {
              "outlinewidth": 0,
              "ticks": ""
             }
            },
            "type": "scattercarpet"
           }
          ],
          "scattergeo": [
           {
            "marker": {
             "colorbar": {
              "outlinewidth": 0,
              "ticks": ""
             }
            },
            "type": "scattergeo"
           }
          ],
          "scattergl": [
           {
            "marker": {
             "colorbar": {
              "outlinewidth": 0,
              "ticks": ""
             }
            },
            "type": "scattergl"
           }
          ],
          "scattermapbox": [
           {
            "marker": {
             "colorbar": {
              "outlinewidth": 0,
              "ticks": ""
             }
            },
            "type": "scattermapbox"
           }
          ],
          "scatterpolar": [
           {
            "marker": {
             "colorbar": {
              "outlinewidth": 0,
              "ticks": ""
             }
            },
            "type": "scatterpolar"
           }
          ],
          "scatterpolargl": [
           {
            "marker": {
             "colorbar": {
              "outlinewidth": 0,
              "ticks": ""
             }
            },
            "type": "scatterpolargl"
           }
          ],
          "scatterternary": [
           {
            "marker": {
             "colorbar": {
              "outlinewidth": 0,
              "ticks": ""
             }
            },
            "type": "scatterternary"
           }
          ],
          "surface": [
           {
            "colorbar": {
             "outlinewidth": 0,
             "ticks": ""
            },
            "colorscale": [
             [
              0,
              "#0d0887"
             ],
             [
              0.1111111111111111,
              "#46039f"
             ],
             [
              0.2222222222222222,
              "#7201a8"
             ],
             [
              0.3333333333333333,
              "#9c179e"
             ],
             [
              0.4444444444444444,
              "#bd3786"
             ],
             [
              0.5555555555555556,
              "#d8576b"
             ],
             [
              0.6666666666666666,
              "#ed7953"
             ],
             [
              0.7777777777777778,
              "#fb9f3a"
             ],
             [
              0.8888888888888888,
              "#fdca26"
             ],
             [
              1,
              "#f0f921"
             ]
            ],
            "type": "surface"
           }
          ],
          "table": [
           {
            "cells": {
             "fill": {
              "color": "#EBF0F8"
             },
             "line": {
              "color": "white"
             }
            },
            "header": {
             "fill": {
              "color": "#C8D4E3"
             },
             "line": {
              "color": "white"
             }
            },
            "type": "table"
           }
          ]
         },
         "layout": {
          "annotationdefaults": {
           "arrowcolor": "#2a3f5f",
           "arrowhead": 0,
           "arrowwidth": 1
          },
          "autotypenumbers": "strict",
          "coloraxis": {
           "colorbar": {
            "outlinewidth": 0,
            "ticks": ""
           }
          },
          "colorscale": {
           "diverging": [
            [
             0,
             "#8e0152"
            ],
            [
             0.1,
             "#c51b7d"
            ],
            [
             0.2,
             "#de77ae"
            ],
            [
             0.3,
             "#f1b6da"
            ],
            [
             0.4,
             "#fde0ef"
            ],
            [
             0.5,
             "#f7f7f7"
            ],
            [
             0.6,
             "#e6f5d0"
            ],
            [
             0.7,
             "#b8e186"
            ],
            [
             0.8,
             "#7fbc41"
            ],
            [
             0.9,
             "#4d9221"
            ],
            [
             1,
             "#276419"
            ]
           ],
           "sequential": [
            [
             0,
             "#0d0887"
            ],
            [
             0.1111111111111111,
             "#46039f"
            ],
            [
             0.2222222222222222,
             "#7201a8"
            ],
            [
             0.3333333333333333,
             "#9c179e"
            ],
            [
             0.4444444444444444,
             "#bd3786"
            ],
            [
             0.5555555555555556,
             "#d8576b"
            ],
            [
             0.6666666666666666,
             "#ed7953"
            ],
            [
             0.7777777777777778,
             "#fb9f3a"
            ],
            [
             0.8888888888888888,
             "#fdca26"
            ],
            [
             1,
             "#f0f921"
            ]
           ],
           "sequentialminus": [
            [
             0,
             "#0d0887"
            ],
            [
             0.1111111111111111,
             "#46039f"
            ],
            [
             0.2222222222222222,
             "#7201a8"
            ],
            [
             0.3333333333333333,
             "#9c179e"
            ],
            [
             0.4444444444444444,
             "#bd3786"
            ],
            [
             0.5555555555555556,
             "#d8576b"
            ],
            [
             0.6666666666666666,
             "#ed7953"
            ],
            [
             0.7777777777777778,
             "#fb9f3a"
            ],
            [
             0.8888888888888888,
             "#fdca26"
            ],
            [
             1,
             "#f0f921"
            ]
           ]
          },
          "colorway": [
           "#636efa",
           "#EF553B",
           "#00cc96",
           "#ab63fa",
           "#FFA15A",
           "#19d3f3",
           "#FF6692",
           "#B6E880",
           "#FF97FF",
           "#FECB52"
          ],
          "font": {
           "color": "#2a3f5f"
          },
          "geo": {
           "bgcolor": "white",
           "lakecolor": "white",
           "landcolor": "#E5ECF6",
           "showlakes": true,
           "showland": true,
           "subunitcolor": "white"
          },
          "hoverlabel": {
           "align": "left"
          },
          "hovermode": "closest",
          "mapbox": {
           "style": "light"
          },
          "paper_bgcolor": "white",
          "plot_bgcolor": "#E5ECF6",
          "polar": {
           "angularaxis": {
            "gridcolor": "white",
            "linecolor": "white",
            "ticks": ""
           },
           "bgcolor": "#E5ECF6",
           "radialaxis": {
            "gridcolor": "white",
            "linecolor": "white",
            "ticks": ""
           }
          },
          "scene": {
           "xaxis": {
            "backgroundcolor": "#E5ECF6",
            "gridcolor": "white",
            "gridwidth": 2,
            "linecolor": "white",
            "showbackground": true,
            "ticks": "",
            "zerolinecolor": "white"
           },
           "yaxis": {
            "backgroundcolor": "#E5ECF6",
            "gridcolor": "white",
            "gridwidth": 2,
            "linecolor": "white",
            "showbackground": true,
            "ticks": "",
            "zerolinecolor": "white"
           },
           "zaxis": {
            "backgroundcolor": "#E5ECF6",
            "gridcolor": "white",
            "gridwidth": 2,
            "linecolor": "white",
            "showbackground": true,
            "ticks": "",
            "zerolinecolor": "white"
           }
          },
          "shapedefaults": {
           "line": {
            "color": "#2a3f5f"
           }
          },
          "ternary": {
           "aaxis": {
            "gridcolor": "white",
            "linecolor": "white",
            "ticks": ""
           },
           "baxis": {
            "gridcolor": "white",
            "linecolor": "white",
            "ticks": ""
           },
           "bgcolor": "#E5ECF6",
           "caxis": {
            "gridcolor": "white",
            "linecolor": "white",
            "ticks": ""
           }
          },
          "title": {
           "x": 0.05
          },
          "xaxis": {
           "automargin": true,
           "gridcolor": "white",
           "linecolor": "white",
           "ticks": "",
           "title": {
            "standoff": 15
           },
           "zerolinecolor": "white",
           "zerolinewidth": 2
          },
          "yaxis": {
           "automargin": true,
           "gridcolor": "white",
           "linecolor": "white",
           "ticks": "",
           "title": {
            "standoff": 15
           },
           "zerolinecolor": "white",
           "zerolinewidth": 2
          }
         }
        },
        "title": {
         "text": "Label: Wailmer"
        },
        "width": 300,
        "xaxis": {
         "anchor": "y",
         "domain": [
          0,
          1
         ]
        },
        "yaxis": {
         "anchor": "x",
         "domain": [
          0,
          1
         ]
        }
       }
      }
     },
     "metadata": {},
     "output_type": "display_data"
    },
    {
     "data": {
      "application/vnd.plotly.v1+json": {
       "config": {
        "plotlyServerURL": "https://plot.ly"
       },
       "data": [
        {
         "hovertemplate": "x: %{x}<br>y: %{y}<extra></extra>",
         "name": "0",
         "source": "data:image/png;base64,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",
         "type": "image",
         "xaxis": "x",
         "yaxis": "y"
        }
       ],
       "layout": {
        "annotations": [
         {
          "align": "left",
          "bgcolor": "#ff7f0e",
          "bordercolor": "#c7c7c7",
          "borderpad": 2,
          "borderwidth": 1,
          "font": {
           "color": "#ffffff",
           "family": "Courier New, monospace",
           "size": 10
          },
          "opacity": 0.8,
          "showarrow": false,
          "text": "Gardevoir: 100%",
          "x": 1.3,
          "xref": "paper",
          "y": 1,
          "yref": "paper"
         }
        ],
        "height": 300,
        "margin": {
         "t": 60
        },
        "template": {
         "data": {
          "bar": [
           {
            "error_x": {
             "color": "#2a3f5f"
            },
            "error_y": {
             "color": "#2a3f5f"
            },
            "marker": {
             "line": {
              "color": "#E5ECF6",
              "width": 0.5
             },
             "pattern": {
              "fillmode": "overlay",
              "size": 10,
              "solidity": 0.2
             }
            },
            "type": "bar"
           }
          ],
          "barpolar": [
           {
            "marker": {
             "line": {
              "color": "#E5ECF6",
              "width": 0.5
             },
             "pattern": {
              "fillmode": "overlay",
              "size": 10,
              "solidity": 0.2
             }
            },
            "type": "barpolar"
           }
          ],
          "carpet": [
           {
            "aaxis": {
             "endlinecolor": "#2a3f5f",
             "gridcolor": "white",
             "linecolor": "white",
             "minorgridcolor": "white",
             "startlinecolor": "#2a3f5f"
            },
            "baxis": {
             "endlinecolor": "#2a3f5f",
             "gridcolor": "white",
             "linecolor": "white",
             "minorgridcolor": "white",
             "startlinecolor": "#2a3f5f"
            },
            "type": "carpet"
           }
          ],
          "choropleth": [
           {
            "colorbar": {
             "outlinewidth": 0,
             "ticks": ""
            },
            "type": "choropleth"
           }
          ],
          "contour": [
           {
            "colorbar": {
             "outlinewidth": 0,
             "ticks": ""
            },
            "colorscale": [
             [
              0,
              "#0d0887"
             ],
             [
              0.1111111111111111,
              "#46039f"
             ],
             [
              0.2222222222222222,
              "#7201a8"
             ],
             [
              0.3333333333333333,
              "#9c179e"
             ],
             [
              0.4444444444444444,
              "#bd3786"
             ],
             [
              0.5555555555555556,
              "#d8576b"
             ],
             [
              0.6666666666666666,
              "#ed7953"
             ],
             [
              0.7777777777777778,
              "#fb9f3a"
             ],
             [
              0.8888888888888888,
              "#fdca26"
             ],
             [
              1,
              "#f0f921"
             ]
            ],
            "type": "contour"
           }
          ],
          "contourcarpet": [
           {
            "colorbar": {
             "outlinewidth": 0,
             "ticks": ""
            },
            "type": "contourcarpet"
           }
          ],
          "heatmap": [
           {
            "colorbar": {
             "outlinewidth": 0,
             "ticks": ""
            },
            "colorscale": [
             [
              0,
              "#0d0887"
             ],
             [
              0.1111111111111111,
              "#46039f"
             ],
             [
              0.2222222222222222,
              "#7201a8"
             ],
             [
              0.3333333333333333,
              "#9c179e"
             ],
             [
              0.4444444444444444,
              "#bd3786"
             ],
             [
              0.5555555555555556,
              "#d8576b"
             ],
             [
              0.6666666666666666,
              "#ed7953"
             ],
             [
              0.7777777777777778,
              "#fb9f3a"
             ],
             [
              0.8888888888888888,
              "#fdca26"
             ],
             [
              1,
              "#f0f921"
             ]
            ],
            "type": "heatmap"
           }
          ],
          "heatmapgl": [
           {
            "colorbar": {
             "outlinewidth": 0,
             "ticks": ""
            },
            "colorscale": [
             [
              0,
              "#0d0887"
             ],
             [
              0.1111111111111111,
              "#46039f"
             ],
             [
              0.2222222222222222,
              "#7201a8"
             ],
             [
              0.3333333333333333,
              "#9c179e"
             ],
             [
              0.4444444444444444,
              "#bd3786"
             ],
             [
              0.5555555555555556,
              "#d8576b"
             ],
             [
              0.6666666666666666,
              "#ed7953"
             ],
             [
              0.7777777777777778,
              "#fb9f3a"
             ],
             [
              0.8888888888888888,
              "#fdca26"
             ],
             [
              1,
              "#f0f921"
             ]
            ],
            "type": "heatmapgl"
           }
          ],
          "histogram": [
           {
            "marker": {
             "pattern": {
              "fillmode": "overlay",
              "size": 10,
              "solidity": 0.2
             }
            },
            "type": "histogram"
           }
          ],
          "histogram2d": [
           {
            "colorbar": {
             "outlinewidth": 0,
             "ticks": ""
            },
            "colorscale": [
             [
              0,
              "#0d0887"
             ],
             [
              0.1111111111111111,
              "#46039f"
             ],
             [
              0.2222222222222222,
              "#7201a8"
             ],
             [
              0.3333333333333333,
              "#9c179e"
             ],
             [
              0.4444444444444444,
              "#bd3786"
             ],
             [
              0.5555555555555556,
              "#d8576b"
             ],
             [
              0.6666666666666666,
              "#ed7953"
             ],
             [
              0.7777777777777778,
              "#fb9f3a"
             ],
             [
              0.8888888888888888,
              "#fdca26"
             ],
             [
              1,
              "#f0f921"
             ]
            ],
            "type": "histogram2d"
           }
          ],
          "histogram2dcontour": [
           {
            "colorbar": {
             "outlinewidth": 0,
             "ticks": ""
            },
            "colorscale": [
             [
              0,
              "#0d0887"
             ],
             [
              0.1111111111111111,
              "#46039f"
             ],
             [
              0.2222222222222222,
              "#7201a8"
             ],
             [
              0.3333333333333333,
              "#9c179e"
             ],
             [
              0.4444444444444444,
              "#bd3786"
             ],
             [
              0.5555555555555556,
              "#d8576b"
             ],
             [
              0.6666666666666666,
              "#ed7953"
             ],
             [
              0.7777777777777778,
              "#fb9f3a"
             ],
             [
              0.8888888888888888,
              "#fdca26"
             ],
             [
              1,
              "#f0f921"
             ]
            ],
            "type": "histogram2dcontour"
           }
          ],
          "mesh3d": [
           {
            "colorbar": {
             "outlinewidth": 0,
             "ticks": ""
            },
            "type": "mesh3d"
           }
          ],
          "parcoords": [
           {
            "line": {
             "colorbar": {
              "outlinewidth": 0,
              "ticks": ""
             }
            },
            "type": "parcoords"
           }
          ],
          "pie": [
           {
            "automargin": true,
            "type": "pie"
           }
          ],
          "scatter": [
           {
            "fillpattern": {
             "fillmode": "overlay",
             "size": 10,
             "solidity": 0.2
            },
            "type": "scatter"
           }
          ],
          "scatter3d": [
           {
            "line": {
             "colorbar": {
              "outlinewidth": 0,
              "ticks": ""
             }
            },
            "marker": {
             "colorbar": {
              "outlinewidth": 0,
              "ticks": ""
             }
            },
            "type": "scatter3d"
           }
          ],
          "scattercarpet": [
           {
            "marker": {
             "colorbar": {
              "outlinewidth": 0,
              "ticks": ""
             }
            },
            "type": "scattercarpet"
           }
          ],
          "scattergeo": [
           {
            "marker": {
             "colorbar": {
              "outlinewidth": 0,
              "ticks": ""
             }
            },
            "type": "scattergeo"
           }
          ],
          "scattergl": [
           {
            "marker": {
             "colorbar": {
              "outlinewidth": 0,
              "ticks": ""
             }
            },
            "type": "scattergl"
           }
          ],
          "scattermapbox": [
           {
            "marker": {
             "colorbar": {
              "outlinewidth": 0,
              "ticks": ""
             }
            },
            "type": "scattermapbox"
           }
          ],
          "scatterpolar": [
           {
            "marker": {
             "colorbar": {
              "outlinewidth": 0,
              "ticks": ""
             }
            },
            "type": "scatterpolar"
           }
          ],
          "scatterpolargl": [
           {
            "marker": {
             "colorbar": {
              "outlinewidth": 0,
              "ticks": ""
             }
            },
            "type": "scatterpolargl"
           }
          ],
          "scatterternary": [
           {
            "marker": {
             "colorbar": {
              "outlinewidth": 0,
              "ticks": ""
             }
            },
            "type": "scatterternary"
           }
          ],
          "surface": [
           {
            "colorbar": {
             "outlinewidth": 0,
             "ticks": ""
            },
            "colorscale": [
             [
              0,
              "#0d0887"
             ],
             [
              0.1111111111111111,
              "#46039f"
             ],
             [
              0.2222222222222222,
              "#7201a8"
             ],
             [
              0.3333333333333333,
              "#9c179e"
             ],
             [
              0.4444444444444444,
              "#bd3786"
             ],
             [
              0.5555555555555556,
              "#d8576b"
             ],
             [
              0.6666666666666666,
              "#ed7953"
             ],
             [
              0.7777777777777778,
              "#fb9f3a"
             ],
             [
              0.8888888888888888,
              "#fdca26"
             ],
             [
              1,
              "#f0f921"
             ]
            ],
            "type": "surface"
           }
          ],
          "table": [
           {
            "cells": {
             "fill": {
              "color": "#EBF0F8"
             },
             "line": {
              "color": "white"
             }
            },
            "header": {
             "fill": {
              "color": "#C8D4E3"
             },
             "line": {
              "color": "white"
             }
            },
            "type": "table"
           }
          ]
         },
         "layout": {
          "annotationdefaults": {
           "arrowcolor": "#2a3f5f",
           "arrowhead": 0,
           "arrowwidth": 1
          },
          "autotypenumbers": "strict",
          "coloraxis": {
           "colorbar": {
            "outlinewidth": 0,
            "ticks": ""
           }
          },
          "colorscale": {
           "diverging": [
            [
             0,
             "#8e0152"
            ],
            [
             0.1,
             "#c51b7d"
            ],
            [
             0.2,
             "#de77ae"
            ],
            [
             0.3,
             "#f1b6da"
            ],
            [
             0.4,
             "#fde0ef"
            ],
            [
             0.5,
             "#f7f7f7"
            ],
            [
             0.6,
             "#e6f5d0"
            ],
            [
             0.7,
             "#b8e186"
            ],
            [
             0.8,
             "#7fbc41"
            ],
            [
             0.9,
             "#4d9221"
            ],
            [
             1,
             "#276419"
            ]
           ],
           "sequential": [
            [
             0,
             "#0d0887"
            ],
            [
             0.1111111111111111,
             "#46039f"
            ],
            [
             0.2222222222222222,
             "#7201a8"
            ],
            [
             0.3333333333333333,
             "#9c179e"
            ],
            [
             0.4444444444444444,
             "#bd3786"
            ],
            [
             0.5555555555555556,
             "#d8576b"
            ],
            [
             0.6666666666666666,
             "#ed7953"
            ],
            [
             0.7777777777777778,
             "#fb9f3a"
            ],
            [
             0.8888888888888888,
             "#fdca26"
            ],
            [
             1,
             "#f0f921"
            ]
           ],
           "sequentialminus": [
            [
             0,
             "#0d0887"
            ],
            [
             0.1111111111111111,
             "#46039f"
            ],
            [
             0.2222222222222222,
             "#7201a8"
            ],
            [
             0.3333333333333333,
             "#9c179e"
            ],
            [
             0.4444444444444444,
             "#bd3786"
            ],
            [
             0.5555555555555556,
             "#d8576b"
            ],
            [
             0.6666666666666666,
             "#ed7953"
            ],
            [
             0.7777777777777778,
             "#fb9f3a"
            ],
            [
             0.8888888888888888,
             "#fdca26"
            ],
            [
             1,
             "#f0f921"
            ]
           ]
          },
          "colorway": [
           "#636efa",
           "#EF553B",
           "#00cc96",
           "#ab63fa",
           "#FFA15A",
           "#19d3f3",
           "#FF6692",
           "#B6E880",
           "#FF97FF",
           "#FECB52"
          ],
          "font": {
           "color": "#2a3f5f"
          },
          "geo": {
           "bgcolor": "white",
           "lakecolor": "white",
           "landcolor": "#E5ECF6",
           "showlakes": true,
           "showland": true,
           "subunitcolor": "white"
          },
          "hoverlabel": {
           "align": "left"
          },
          "hovermode": "closest",
          "mapbox": {
           "style": "light"
          },
          "paper_bgcolor": "white",
          "plot_bgcolor": "#E5ECF6",
          "polar": {
           "angularaxis": {
            "gridcolor": "white",
            "linecolor": "white",
            "ticks": ""
           },
           "bgcolor": "#E5ECF6",
           "radialaxis": {
            "gridcolor": "white",
            "linecolor": "white",
            "ticks": ""
           }
          },
          "scene": {
           "xaxis": {
            "backgroundcolor": "#E5ECF6",
            "gridcolor": "white",
            "gridwidth": 2,
            "linecolor": "white",
            "showbackground": true,
            "ticks": "",
            "zerolinecolor": "white"
           },
           "yaxis": {
            "backgroundcolor": "#E5ECF6",
            "gridcolor": "white",
            "gridwidth": 2,
            "linecolor": "white",
            "showbackground": true,
            "ticks": "",
            "zerolinecolor": "white"
           },
           "zaxis": {
            "backgroundcolor": "#E5ECF6",
            "gridcolor": "white",
            "gridwidth": 2,
            "linecolor": "white",
            "showbackground": true,
            "ticks": "",
            "zerolinecolor": "white"
           }
          },
          "shapedefaults": {
           "line": {
            "color": "#2a3f5f"
           }
          },
          "ternary": {
           "aaxis": {
            "gridcolor": "white",
            "linecolor": "white",
            "ticks": ""
           },
           "baxis": {
            "gridcolor": "white",
            "linecolor": "white",
            "ticks": ""
           },
           "bgcolor": "#E5ECF6",
           "caxis": {
            "gridcolor": "white",
            "linecolor": "white",
            "ticks": ""
           }
          },
          "title": {
           "x": 0.05
          },
          "xaxis": {
           "automargin": true,
           "gridcolor": "white",
           "linecolor": "white",
           "ticks": "",
           "title": {
            "standoff": 15
           },
           "zerolinecolor": "white",
           "zerolinewidth": 2
          },
          "yaxis": {
           "automargin": true,
           "gridcolor": "white",
           "linecolor": "white",
           "ticks": "",
           "title": {
            "standoff": 15
           },
           "zerolinecolor": "white",
           "zerolinewidth": 2
          }
         }
        },
        "title": {
         "text": "Label: Gardevoir"
        },
        "width": 300,
        "xaxis": {
         "anchor": "y",
         "domain": [
          0,
          1
         ]
        },
        "yaxis": {
         "anchor": "x",
         "domain": [
          0,
          1
         ]
        }
       }
      }
     },
     "metadata": {},
     "output_type": "display_data"
    },
    {
     "data": {
      "application/vnd.plotly.v1+json": {
       "config": {
        "plotlyServerURL": "https://plot.ly"
       },
       "data": [
        {
         "hovertemplate": "x: %{x}<br>y: %{y}<extra></extra>",
         "name": "0",
         "source": "data:image/png;base64,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",
         "type": "image",
         "xaxis": "x",
         "yaxis": "y"
        }
       ],
       "layout": {
        "annotations": [
         {
          "align": "left",
          "bgcolor": "#ff7f0e",
          "bordercolor": "#c7c7c7",
          "borderpad": 2,
          "borderwidth": 1,
          "font": {
           "color": "#ffffff",
           "family": "Courier New, monospace",
           "size": 10
          },
          "opacity": 0.8,
          "showarrow": false,
          "text": "Gardevoir: 70%",
          "x": 1.3,
          "xref": "paper",
          "y": 1,
          "yref": "paper"
         },
         {
          "align": "left",
          "bgcolor": "#ff7f0e",
          "bordercolor": "#c7c7c7",
          "borderpad": 2,
          "borderwidth": 1,
          "font": {
           "color": "#ffffff",
           "family": "Courier New, monospace",
           "size": 10
          },
          "opacity": 0.8,
          "showarrow": false,
          "text": "Gallade: 23%",
          "x": 1.3,
          "xref": "paper",
          "y": 0.85,
          "yref": "paper"
         }
        ],
        "height": 300,
        "margin": {
         "t": 60
        },
        "template": {
         "data": {
          "bar": [
           {
            "error_x": {
             "color": "#2a3f5f"
            },
            "error_y": {
             "color": "#2a3f5f"
            },
            "marker": {
             "line": {
              "color": "#E5ECF6",
              "width": 0.5
             },
             "pattern": {
              "fillmode": "overlay",
              "size": 10,
              "solidity": 0.2
             }
            },
            "type": "bar"
           }
          ],
          "barpolar": [
           {
            "marker": {
             "line": {
              "color": "#E5ECF6",
              "width": 0.5
             },
             "pattern": {
              "fillmode": "overlay",
              "size": 10,
              "solidity": 0.2
             }
            },
            "type": "barpolar"
           }
          ],
          "carpet": [
           {
            "aaxis": {
             "endlinecolor": "#2a3f5f",
             "gridcolor": "white",
             "linecolor": "white",
             "minorgridcolor": "white",
             "startlinecolor": "#2a3f5f"
            },
            "baxis": {
             "endlinecolor": "#2a3f5f",
             "gridcolor": "white",
             "linecolor": "white",
             "minorgridcolor": "white",
             "startlinecolor": "#2a3f5f"
            },
            "type": "carpet"
           }
          ],
          "choropleth": [
           {
            "colorbar": {
             "outlinewidth": 0,
             "ticks": ""
            },
            "type": "choropleth"
           }
          ],
          "contour": [
           {
            "colorbar": {
             "outlinewidth": 0,
             "ticks": ""
            },
            "colorscale": [
             [
              0,
              "#0d0887"
             ],
             [
              0.1111111111111111,
              "#46039f"
             ],
             [
              0.2222222222222222,
              "#7201a8"
             ],
             [
              0.3333333333333333,
              "#9c179e"
             ],
             [
              0.4444444444444444,
              "#bd3786"
             ],
             [
              0.5555555555555556,
              "#d8576b"
             ],
             [
              0.6666666666666666,
              "#ed7953"
             ],
             [
              0.7777777777777778,
              "#fb9f3a"
             ],
             [
              0.8888888888888888,
              "#fdca26"
             ],
             [
              1,
              "#f0f921"
             ]
            ],
            "type": "contour"
           }
          ],
          "contourcarpet": [
           {
            "colorbar": {
             "outlinewidth": 0,
             "ticks": ""
            },
            "type": "contourcarpet"
           }
          ],
          "heatmap": [
           {
            "colorbar": {
             "outlinewidth": 0,
             "ticks": ""
            },
            "colorscale": [
             [
              0,
              "#0d0887"
             ],
             [
              0.1111111111111111,
              "#46039f"
             ],
             [
              0.2222222222222222,
              "#7201a8"
             ],
             [
              0.3333333333333333,
              "#9c179e"
             ],
             [
              0.4444444444444444,
              "#bd3786"
             ],
             [
              0.5555555555555556,
              "#d8576b"
             ],
             [
              0.6666666666666666,
              "#ed7953"
             ],
             [
              0.7777777777777778,
              "#fb9f3a"
             ],
             [
              0.8888888888888888,
              "#fdca26"
             ],
             [
              1,
              "#f0f921"
             ]
            ],
            "type": "heatmap"
           }
          ],
          "heatmapgl": [
           {
            "colorbar": {
             "outlinewidth": 0,
             "ticks": ""
            },
            "colorscale": [
             [
              0,
              "#0d0887"
             ],
             [
              0.1111111111111111,
              "#46039f"
             ],
             [
              0.2222222222222222,
              "#7201a8"
             ],
             [
              0.3333333333333333,
              "#9c179e"
             ],
             [
              0.4444444444444444,
              "#bd3786"
             ],
             [
              0.5555555555555556,
              "#d8576b"
             ],
             [
              0.6666666666666666,
              "#ed7953"
             ],
             [
              0.7777777777777778,
              "#fb9f3a"
             ],
             [
              0.8888888888888888,
              "#fdca26"
             ],
             [
              1,
              "#f0f921"
             ]
            ],
            "type": "heatmapgl"
           }
          ],
          "histogram": [
           {
            "marker": {
             "pattern": {
              "fillmode": "overlay",
              "size": 10,
              "solidity": 0.2
             }
            },
            "type": "histogram"
           }
          ],
          "histogram2d": [
           {
            "colorbar": {
             "outlinewidth": 0,
             "ticks": ""
            },
            "colorscale": [
             [
              0,
              "#0d0887"
             ],
             [
              0.1111111111111111,
              "#46039f"
             ],
             [
              0.2222222222222222,
              "#7201a8"
             ],
             [
              0.3333333333333333,
              "#9c179e"
             ],
             [
              0.4444444444444444,
              "#bd3786"
             ],
             [
              0.5555555555555556,
              "#d8576b"
             ],
             [
              0.6666666666666666,
              "#ed7953"
             ],
             [
              0.7777777777777778,
              "#fb9f3a"
             ],
             [
              0.8888888888888888,
              "#fdca26"
             ],
             [
              1,
              "#f0f921"
             ]
            ],
            "type": "histogram2d"
           }
          ],
          "histogram2dcontour": [
           {
            "colorbar": {
             "outlinewidth": 0,
             "ticks": ""
            },
            "colorscale": [
             [
              0,
              "#0d0887"
             ],
             [
              0.1111111111111111,
              "#46039f"
             ],
             [
              0.2222222222222222,
              "#7201a8"
             ],
             [
              0.3333333333333333,
              "#9c179e"
             ],
             [
              0.4444444444444444,
              "#bd3786"
             ],
             [
              0.5555555555555556,
              "#d8576b"
             ],
             [
              0.6666666666666666,
              "#ed7953"
             ],
             [
              0.7777777777777778,
              "#fb9f3a"
             ],
             [
              0.8888888888888888,
              "#fdca26"
             ],
             [
              1,
              "#f0f921"
             ]
            ],
            "type": "histogram2dcontour"
           }
          ],
          "mesh3d": [
           {
            "colorbar": {
             "outlinewidth": 0,
             "ticks": ""
            },
            "type": "mesh3d"
           }
          ],
          "parcoords": [
           {
            "line": {
             "colorbar": {
              "outlinewidth": 0,
              "ticks": ""
             }
            },
            "type": "parcoords"
           }
          ],
          "pie": [
           {
            "automargin": true,
            "type": "pie"
           }
          ],
          "scatter": [
           {
            "fillpattern": {
             "fillmode": "overlay",
             "size": 10,
             "solidity": 0.2
            },
            "type": "scatter"
           }
          ],
          "scatter3d": [
           {
            "line": {
             "colorbar": {
              "outlinewidth": 0,
              "ticks": ""
             }
            },
            "marker": {
             "colorbar": {
              "outlinewidth": 0,
              "ticks": ""
             }
            },
            "type": "scatter3d"
           }
          ],
          "scattercarpet": [
           {
            "marker": {
             "colorbar": {
              "outlinewidth": 0,
              "ticks": ""
             }
            },
            "type": "scattercarpet"
           }
          ],
          "scattergeo": [
           {
            "marker": {
             "colorbar": {
              "outlinewidth": 0,
              "ticks": ""
             }
            },
            "type": "scattergeo"
           }
          ],
          "scattergl": [
           {
            "marker": {
             "colorbar": {
              "outlinewidth": 0,
              "ticks": ""
             }
            },
            "type": "scattergl"
           }
          ],
          "scattermapbox": [
           {
            "marker": {
             "colorbar": {
              "outlinewidth": 0,
              "ticks": ""
             }
            },
            "type": "scattermapbox"
           }
          ],
          "scatterpolar": [
           {
            "marker": {
             "colorbar": {
              "outlinewidth": 0,
              "ticks": ""
             }
            },
            "type": "scatterpolar"
           }
          ],
          "scatterpolargl": [
           {
            "marker": {
             "colorbar": {
              "outlinewidth": 0,
              "ticks": ""
             }
            },
            "type": "scatterpolargl"
           }
          ],
          "scatterternary": [
           {
            "marker": {
             "colorbar": {
              "outlinewidth": 0,
              "ticks": ""
             }
            },
            "type": "scatterternary"
           }
          ],
          "surface": [
           {
            "colorbar": {
             "outlinewidth": 0,
             "ticks": ""
            },
            "colorscale": [
             [
              0,
              "#0d0887"
             ],
             [
              0.1111111111111111,
              "#46039f"
             ],
             [
              0.2222222222222222,
              "#7201a8"
             ],
             [
              0.3333333333333333,
              "#9c179e"
             ],
             [
              0.4444444444444444,
              "#bd3786"
             ],
             [
              0.5555555555555556,
              "#d8576b"
             ],
             [
              0.6666666666666666,
              "#ed7953"
             ],
             [
              0.7777777777777778,
              "#fb9f3a"
             ],
             [
              0.8888888888888888,
              "#fdca26"
             ],
             [
              1,
              "#f0f921"
             ]
            ],
            "type": "surface"
           }
          ],
          "table": [
           {
            "cells": {
             "fill": {
              "color": "#EBF0F8"
             },
             "line": {
              "color": "white"
             }
            },
            "header": {
             "fill": {
              "color": "#C8D4E3"
             },
             "line": {
              "color": "white"
             }
            },
            "type": "table"
           }
          ]
         },
         "layout": {
          "annotationdefaults": {
           "arrowcolor": "#2a3f5f",
           "arrowhead": 0,
           "arrowwidth": 1
          },
          "autotypenumbers": "strict",
          "coloraxis": {
           "colorbar": {
            "outlinewidth": 0,
            "ticks": ""
           }
          },
          "colorscale": {
           "diverging": [
            [
             0,
             "#8e0152"
            ],
            [
             0.1,
             "#c51b7d"
            ],
            [
             0.2,
             "#de77ae"
            ],
            [
             0.3,
             "#f1b6da"
            ],
            [
             0.4,
             "#fde0ef"
            ],
            [
             0.5,
             "#f7f7f7"
            ],
            [
             0.6,
             "#e6f5d0"
            ],
            [
             0.7,
             "#b8e186"
            ],
            [
             0.8,
             "#7fbc41"
            ],
            [
             0.9,
             "#4d9221"
            ],
            [
             1,
             "#276419"
            ]
           ],
           "sequential": [
            [
             0,
             "#0d0887"
            ],
            [
             0.1111111111111111,
             "#46039f"
            ],
            [
             0.2222222222222222,
             "#7201a8"
            ],
            [
             0.3333333333333333,
             "#9c179e"
            ],
            [
             0.4444444444444444,
             "#bd3786"
            ],
            [
             0.5555555555555556,
             "#d8576b"
            ],
            [
             0.6666666666666666,
             "#ed7953"
            ],
            [
             0.7777777777777778,
             "#fb9f3a"
            ],
            [
             0.8888888888888888,
             "#fdca26"
            ],
            [
             1,
             "#f0f921"
            ]
           ],
           "sequentialminus": [
            [
             0,
             "#0d0887"
            ],
            [
             0.1111111111111111,
             "#46039f"
            ],
            [
             0.2222222222222222,
             "#7201a8"
            ],
            [
             0.3333333333333333,
             "#9c179e"
            ],
            [
             0.4444444444444444,
             "#bd3786"
            ],
            [
             0.5555555555555556,
             "#d8576b"
            ],
            [
             0.6666666666666666,
             "#ed7953"
            ],
            [
             0.7777777777777778,
             "#fb9f3a"
            ],
            [
             0.8888888888888888,
             "#fdca26"
            ],
            [
             1,
             "#f0f921"
            ]
           ]
          },
          "colorway": [
           "#636efa",
           "#EF553B",
           "#00cc96",
           "#ab63fa",
           "#FFA15A",
           "#19d3f3",
           "#FF6692",
           "#B6E880",
           "#FF97FF",
           "#FECB52"
          ],
          "font": {
           "color": "#2a3f5f"
          },
          "geo": {
           "bgcolor": "white",
           "lakecolor": "white",
           "landcolor": "#E5ECF6",
           "showlakes": true,
           "showland": true,
           "subunitcolor": "white"
          },
          "hoverlabel": {
           "align": "left"
          },
          "hovermode": "closest",
          "mapbox": {
           "style": "light"
          },
          "paper_bgcolor": "white",
          "plot_bgcolor": "#E5ECF6",
          "polar": {
           "angularaxis": {
            "gridcolor": "white",
            "linecolor": "white",
            "ticks": ""
           },
           "bgcolor": "#E5ECF6",
           "radialaxis": {
            "gridcolor": "white",
            "linecolor": "white",
            "ticks": ""
           }
          },
          "scene": {
           "xaxis": {
            "backgroundcolor": "#E5ECF6",
            "gridcolor": "white",
            "gridwidth": 2,
            "linecolor": "white",
            "showbackground": true,
            "ticks": "",
            "zerolinecolor": "white"
           },
           "yaxis": {
            "backgroundcolor": "#E5ECF6",
            "gridcolor": "white",
            "gridwidth": 2,
            "linecolor": "white",
            "showbackground": true,
            "ticks": "",
            "zerolinecolor": "white"
           },
           "zaxis": {
            "backgroundcolor": "#E5ECF6",
            "gridcolor": "white",
            "gridwidth": 2,
            "linecolor": "white",
            "showbackground": true,
            "ticks": "",
            "zerolinecolor": "white"
           }
          },
          "shapedefaults": {
           "line": {
            "color": "#2a3f5f"
           }
          },
          "ternary": {
           "aaxis": {
            "gridcolor": "white",
            "linecolor": "white",
            "ticks": ""
           },
           "baxis": {
            "gridcolor": "white",
            "linecolor": "white",
            "ticks": ""
           },
           "bgcolor": "#E5ECF6",
           "caxis": {
            "gridcolor": "white",
            "linecolor": "white",
            "ticks": ""
           }
          },
          "title": {
           "x": 0.05
          },
          "xaxis": {
           "automargin": true,
           "gridcolor": "white",
           "linecolor": "white",
           "ticks": "",
           "title": {
            "standoff": 15
           },
           "zerolinecolor": "white",
           "zerolinewidth": 2
          },
          "yaxis": {
           "automargin": true,
           "gridcolor": "white",
           "linecolor": "white",
           "ticks": "",
           "title": {
            "standoff": 15
           },
           "zerolinecolor": "white",
           "zerolinewidth": 2
          }
         }
        },
        "title": {
         "text": "Label: Gardevoir"
        },
        "width": 300,
        "xaxis": {
         "anchor": "y",
         "domain": [
          0,
          1
         ]
        },
        "yaxis": {
         "anchor": "x",
         "domain": [
          0,
          1
         ]
        }
       }
      }
     },
     "metadata": {},
     "output_type": "display_data"
    }
   ],
   "source": [
    "for image, label in val_ds.take(1):\n",
    "    for i in range(5):\n",
    "        plot_image(image[i], class_names[int(tf.argmax(tf.reshape(label[i], (-1, 1))))], top_k(y_pred_eff[i]))\n",
    "        plot_image(image[i], class_names[int(tf.argmax(tf.reshape(label[i], (-1, 1))))], top_k(y_pred_cnn[i]))\n",
    "        "
   ]
  },
  {
   "attachments": {},
   "cell_type": "markdown",
   "metadata": {},
   "source": [
    "### charmander test"
   ]
  },
  {
   "cell_type": "code",
   "execution_count": 140,
   "metadata": {},
   "outputs": [
    {
     "name": "stdout",
     "output_type": "stream",
     "text": [
      "(1, 128, 128, 3)\n"
     ]
    }
   ],
   "source": [
    "# load images/test/charmander.png to test\n",
    "test_image = tf.keras.preprocessing.image.load_img('images/test/charmander.png', color_mode='rgba', target_size=image_size)\n",
    "test_image = tf.keras.preprocessing.image.img_to_array(test_image)\n",
    "test_image = tf.expand_dims(test_image, axis=0)\n",
    "test_image = preprocess_image(test_image)\n",
    "print(test_image.shape)"
   ]
  },
  {
   "cell_type": "code",
   "execution_count": 147,
   "metadata": {},
   "outputs": [
    {
     "name": "stdout",
     "output_type": "stream",
     "text": [
      "1/1 [==============================] - 0s 55ms/step\n"
     ]
    }
   ],
   "source": [
    "pred = model.predict(test_image)"
   ]
  },
  {
   "cell_type": "code",
   "execution_count": 159,
   "metadata": {},
   "outputs": [
    {
     "data": {
      "text/plain": [
       "{'Scraggy': 0.51, 'Charmander': 0.26, 'Buizel': 0.12}"
      ]
     },
     "execution_count": 159,
     "metadata": {},
     "output_type": "execute_result"
    }
   ],
   "source": [
    "top_k(pred[0], k=5)"
   ]
  },
  {
   "cell_type": "code",
   "execution_count": 169,
   "metadata": {},
   "outputs": [
    {
     "data": {
      "application/vnd.plotly.v1+json": {
       "config": {
        "plotlyServerURL": "https://plot.ly"
       },
       "data": [
        {
         "hovertemplate": "x: %{x}<br>y: %{y}<br>color: [%{z[0]}, %{z[1]}, %{z[2]}]<extra></extra>",
         "name": "0",
         "source": "data:image/png;base64,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",
         "type": "image",
         "xaxis": "x",
         "yaxis": "y"
        }
       ],
       "layout": {
        "annotations": [
         {
          "align": "left",
          "bgcolor": "#ff7f0e",
          "bordercolor": "#c7c7c7",
          "borderpad": 2,
          "borderwidth": 1,
          "clicktoshow": "onoff",
          "font": {
           "color": "#ffffff",
           "family": "Courier New, monospace",
           "size": 10
          },
          "opacity": 0.8,
          "showarrow": false,
          "text": "Scraggy: 0.51",
          "x": 1,
          "xref": "paper",
          "y": 1,
          "yref": "paper"
         },
         {
          "align": "left",
          "bgcolor": "#ff7f0e",
          "bordercolor": "#c7c7c7",
          "borderpad": 2,
          "borderwidth": 1,
          "clicktoshow": "onoff",
          "font": {
           "color": "#ffffff",
           "family": "Courier New, monospace",
           "size": 10
          },
          "opacity": 0.8,
          "showarrow": false,
          "text": "Charmander: 0.26",
          "x": 1,
          "xref": "paper",
          "y": 0.85,
          "yref": "paper"
         },
         {
          "align": "left",
          "bgcolor": "#ff7f0e",
          "bordercolor": "#c7c7c7",
          "borderpad": 2,
          "borderwidth": 1,
          "clicktoshow": "onoff",
          "font": {
           "color": "#ffffff",
           "family": "Courier New, monospace",
           "size": 10
          },
          "opacity": 0.8,
          "showarrow": false,
          "text": "Buizel: 0.12",
          "x": 1,
          "xref": "paper",
          "y": 0.7,
          "yref": "paper"
         }
        ],
        "height": 300,
        "margin": {
         "t": 60
        },
        "template": {
         "data": {
          "bar": [
           {
            "error_x": {
             "color": "#2a3f5f"
            },
            "error_y": {
             "color": "#2a3f5f"
            },
            "marker": {
             "line": {
              "color": "#E5ECF6",
              "width": 0.5
             },
             "pattern": {
              "fillmode": "overlay",
              "size": 10,
              "solidity": 0.2
             }
            },
            "type": "bar"
           }
          ],
          "barpolar": [
           {
            "marker": {
             "line": {
              "color": "#E5ECF6",
              "width": 0.5
             },
             "pattern": {
              "fillmode": "overlay",
              "size": 10,
              "solidity": 0.2
             }
            },
            "type": "barpolar"
           }
          ],
          "carpet": [
           {
            "aaxis": {
             "endlinecolor": "#2a3f5f",
             "gridcolor": "white",
             "linecolor": "white",
             "minorgridcolor": "white",
             "startlinecolor": "#2a3f5f"
            },
            "baxis": {
             "endlinecolor": "#2a3f5f",
             "gridcolor": "white",
             "linecolor": "white",
             "minorgridcolor": "white",
             "startlinecolor": "#2a3f5f"
            },
            "type": "carpet"
           }
          ],
          "choropleth": [
           {
            "colorbar": {
             "outlinewidth": 0,
             "ticks": ""
            },
            "type": "choropleth"
           }
          ],
          "contour": [
           {
            "colorbar": {
             "outlinewidth": 0,
             "ticks": ""
            },
            "colorscale": [
             [
              0,
              "#0d0887"
             ],
             [
              0.1111111111111111,
              "#46039f"
             ],
             [
              0.2222222222222222,
              "#7201a8"
             ],
             [
              0.3333333333333333,
              "#9c179e"
             ],
             [
              0.4444444444444444,
              "#bd3786"
             ],
             [
              0.5555555555555556,
              "#d8576b"
             ],
             [
              0.6666666666666666,
              "#ed7953"
             ],
             [
              0.7777777777777778,
              "#fb9f3a"
             ],
             [
              0.8888888888888888,
              "#fdca26"
             ],
             [
              1,
              "#f0f921"
             ]
            ],
            "type": "contour"
           }
          ],
          "contourcarpet": [
           {
            "colorbar": {
             "outlinewidth": 0,
             "ticks": ""
            },
            "type": "contourcarpet"
           }
          ],
          "heatmap": [
           {
            "colorbar": {
             "outlinewidth": 0,
             "ticks": ""
            },
            "colorscale": [
             [
              0,
              "#0d0887"
             ],
             [
              0.1111111111111111,
              "#46039f"
             ],
             [
              0.2222222222222222,
              "#7201a8"
             ],
             [
              0.3333333333333333,
              "#9c179e"
             ],
             [
              0.4444444444444444,
              "#bd3786"
             ],
             [
              0.5555555555555556,
              "#d8576b"
             ],
             [
              0.6666666666666666,
              "#ed7953"
             ],
             [
              0.7777777777777778,
              "#fb9f3a"
             ],
             [
              0.8888888888888888,
              "#fdca26"
             ],
             [
              1,
              "#f0f921"
             ]
            ],
            "type": "heatmap"
           }
          ],
          "heatmapgl": [
           {
            "colorbar": {
             "outlinewidth": 0,
             "ticks": ""
            },
            "colorscale": [
             [
              0,
              "#0d0887"
             ],
             [
              0.1111111111111111,
              "#46039f"
             ],
             [
              0.2222222222222222,
              "#7201a8"
             ],
             [
              0.3333333333333333,
              "#9c179e"
             ],
             [
              0.4444444444444444,
              "#bd3786"
             ],
             [
              0.5555555555555556,
              "#d8576b"
             ],
             [
              0.6666666666666666,
              "#ed7953"
             ],
             [
              0.7777777777777778,
              "#fb9f3a"
             ],
             [
              0.8888888888888888,
              "#fdca26"
             ],
             [
              1,
              "#f0f921"
             ]
            ],
            "type": "heatmapgl"
           }
          ],
          "histogram": [
           {
            "marker": {
             "pattern": {
              "fillmode": "overlay",
              "size": 10,
              "solidity": 0.2
             }
            },
            "type": "histogram"
           }
          ],
          "histogram2d": [
           {
            "colorbar": {
             "outlinewidth": 0,
             "ticks": ""
            },
            "colorscale": [
             [
              0,
              "#0d0887"
             ],
             [
              0.1111111111111111,
              "#46039f"
             ],
             [
              0.2222222222222222,
              "#7201a8"
             ],
             [
              0.3333333333333333,
              "#9c179e"
             ],
             [
              0.4444444444444444,
              "#bd3786"
             ],
             [
              0.5555555555555556,
              "#d8576b"
             ],
             [
              0.6666666666666666,
              "#ed7953"
             ],
             [
              0.7777777777777778,
              "#fb9f3a"
             ],
             [
              0.8888888888888888,
              "#fdca26"
             ],
             [
              1,
              "#f0f921"
             ]
            ],
            "type": "histogram2d"
           }
          ],
          "histogram2dcontour": [
           {
            "colorbar": {
             "outlinewidth": 0,
             "ticks": ""
            },
            "colorscale": [
             [
              0,
              "#0d0887"
             ],
             [
              0.1111111111111111,
              "#46039f"
             ],
             [
              0.2222222222222222,
              "#7201a8"
             ],
             [
              0.3333333333333333,
              "#9c179e"
             ],
             [
              0.4444444444444444,
              "#bd3786"
             ],
             [
              0.5555555555555556,
              "#d8576b"
             ],
             [
              0.6666666666666666,
              "#ed7953"
             ],
             [
              0.7777777777777778,
              "#fb9f3a"
             ],
             [
              0.8888888888888888,
              "#fdca26"
             ],
             [
              1,
              "#f0f921"
             ]
            ],
            "type": "histogram2dcontour"
           }
          ],
          "mesh3d": [
           {
            "colorbar": {
             "outlinewidth": 0,
             "ticks": ""
            },
            "type": "mesh3d"
           }
          ],
          "parcoords": [
           {
            "line": {
             "colorbar": {
              "outlinewidth": 0,
              "ticks": ""
             }
            },
            "type": "parcoords"
           }
          ],
          "pie": [
           {
            "automargin": true,
            "type": "pie"
           }
          ],
          "scatter": [
           {
            "fillpattern": {
             "fillmode": "overlay",
             "size": 10,
             "solidity": 0.2
            },
            "type": "scatter"
           }
          ],
          "scatter3d": [
           {
            "line": {
             "colorbar": {
              "outlinewidth": 0,
              "ticks": ""
             }
            },
            "marker": {
             "colorbar": {
              "outlinewidth": 0,
              "ticks": ""
             }
            },
            "type": "scatter3d"
           }
          ],
          "scattercarpet": [
           {
            "marker": {
             "colorbar": {
              "outlinewidth": 0,
              "ticks": ""
             }
            },
            "type": "scattercarpet"
           }
          ],
          "scattergeo": [
           {
            "marker": {
             "colorbar": {
              "outlinewidth": 0,
              "ticks": ""
             }
            },
            "type": "scattergeo"
           }
          ],
          "scattergl": [
           {
            "marker": {
             "colorbar": {
              "outlinewidth": 0,
              "ticks": ""
             }
            },
            "type": "scattergl"
           }
          ],
          "scattermapbox": [
           {
            "marker": {
             "colorbar": {
              "outlinewidth": 0,
              "ticks": ""
             }
            },
            "type": "scattermapbox"
           }
          ],
          "scatterpolar": [
           {
            "marker": {
             "colorbar": {
              "outlinewidth": 0,
              "ticks": ""
             }
            },
            "type": "scatterpolar"
           }
          ],
          "scatterpolargl": [
           {
            "marker": {
             "colorbar": {
              "outlinewidth": 0,
              "ticks": ""
             }
            },
            "type": "scatterpolargl"
           }
          ],
          "scatterternary": [
           {
            "marker": {
             "colorbar": {
              "outlinewidth": 0,
              "ticks": ""
             }
            },
            "type": "scatterternary"
           }
          ],
          "surface": [
           {
            "colorbar": {
             "outlinewidth": 0,
             "ticks": ""
            },
            "colorscale": [
             [
              0,
              "#0d0887"
             ],
             [
              0.1111111111111111,
              "#46039f"
             ],
             [
              0.2222222222222222,
              "#7201a8"
             ],
             [
              0.3333333333333333,
              "#9c179e"
             ],
             [
              0.4444444444444444,
              "#bd3786"
             ],
             [
              0.5555555555555556,
              "#d8576b"
             ],
             [
              0.6666666666666666,
              "#ed7953"
             ],
             [
              0.7777777777777778,
              "#fb9f3a"
             ],
             [
              0.8888888888888888,
              "#fdca26"
             ],
             [
              1,
              "#f0f921"
             ]
            ],
            "type": "surface"
           }
          ],
          "table": [
           {
            "cells": {
             "fill": {
              "color": "#EBF0F8"
             },
             "line": {
              "color": "white"
             }
            },
            "header": {
             "fill": {
              "color": "#C8D4E3"
             },
             "line": {
              "color": "white"
             }
            },
            "type": "table"
           }
          ]
         },
         "layout": {
          "annotationdefaults": {
           "arrowcolor": "#2a3f5f",
           "arrowhead": 0,
           "arrowwidth": 1
          },
          "autotypenumbers": "strict",
          "coloraxis": {
           "colorbar": {
            "outlinewidth": 0,
            "ticks": ""
           }
          },
          "colorscale": {
           "diverging": [
            [
             0,
             "#8e0152"
            ],
            [
             0.1,
             "#c51b7d"
            ],
            [
             0.2,
             "#de77ae"
            ],
            [
             0.3,
             "#f1b6da"
            ],
            [
             0.4,
             "#fde0ef"
            ],
            [
             0.5,
             "#f7f7f7"
            ],
            [
             0.6,
             "#e6f5d0"
            ],
            [
             0.7,
             "#b8e186"
            ],
            [
             0.8,
             "#7fbc41"
            ],
            [
             0.9,
             "#4d9221"
            ],
            [
             1,
             "#276419"
            ]
           ],
           "sequential": [
            [
             0,
             "#0d0887"
            ],
            [
             0.1111111111111111,
             "#46039f"
            ],
            [
             0.2222222222222222,
             "#7201a8"
            ],
            [
             0.3333333333333333,
             "#9c179e"
            ],
            [
             0.4444444444444444,
             "#bd3786"
            ],
            [
             0.5555555555555556,
             "#d8576b"
            ],
            [
             0.6666666666666666,
             "#ed7953"
            ],
            [
             0.7777777777777778,
             "#fb9f3a"
            ],
            [
             0.8888888888888888,
             "#fdca26"
            ],
            [
             1,
             "#f0f921"
            ]
           ],
           "sequentialminus": [
            [
             0,
             "#0d0887"
            ],
            [
             0.1111111111111111,
             "#46039f"
            ],
            [
             0.2222222222222222,
             "#7201a8"
            ],
            [
             0.3333333333333333,
             "#9c179e"
            ],
            [
             0.4444444444444444,
             "#bd3786"
            ],
            [
             0.5555555555555556,
             "#d8576b"
            ],
            [
             0.6666666666666666,
             "#ed7953"
            ],
            [
             0.7777777777777778,
             "#fb9f3a"
            ],
            [
             0.8888888888888888,
             "#fdca26"
            ],
            [
             1,
             "#f0f921"
            ]
           ]
          },
          "colorway": [
           "#636efa",
           "#EF553B",
           "#00cc96",
           "#ab63fa",
           "#FFA15A",
           "#19d3f3",
           "#FF6692",
           "#B6E880",
           "#FF97FF",
           "#FECB52"
          ],
          "font": {
           "color": "#2a3f5f"
          },
          "geo": {
           "bgcolor": "white",
           "lakecolor": "white",
           "landcolor": "#E5ECF6",
           "showlakes": true,
           "showland": true,
           "subunitcolor": "white"
          },
          "hoverlabel": {
           "align": "left"
          },
          "hovermode": "closest",
          "mapbox": {
           "style": "light"
          },
          "paper_bgcolor": "white",
          "plot_bgcolor": "#E5ECF6",
          "polar": {
           "angularaxis": {
            "gridcolor": "white",
            "linecolor": "white",
            "ticks": ""
           },
           "bgcolor": "#E5ECF6",
           "radialaxis": {
            "gridcolor": "white",
            "linecolor": "white",
            "ticks": ""
           }
          },
          "scene": {
           "xaxis": {
            "backgroundcolor": "#E5ECF6",
            "gridcolor": "white",
            "gridwidth": 2,
            "linecolor": "white",
            "showbackground": true,
            "ticks": "",
            "zerolinecolor": "white"
           },
           "yaxis": {
            "backgroundcolor": "#E5ECF6",
            "gridcolor": "white",
            "gridwidth": 2,
            "linecolor": "white",
            "showbackground": true,
            "ticks": "",
            "zerolinecolor": "white"
           },
           "zaxis": {
            "backgroundcolor": "#E5ECF6",
            "gridcolor": "white",
            "gridwidth": 2,
            "linecolor": "white",
            "showbackground": true,
            "ticks": "",
            "zerolinecolor": "white"
           }
          },
          "shapedefaults": {
           "line": {
            "color": "#2a3f5f"
           }
          },
          "ternary": {
           "aaxis": {
            "gridcolor": "white",
            "linecolor": "white",
            "ticks": ""
           },
           "baxis": {
            "gridcolor": "white",
            "linecolor": "white",
            "ticks": ""
           },
           "bgcolor": "#E5ECF6",
           "caxis": {
            "gridcolor": "white",
            "linecolor": "white",
            "ticks": ""
           }
          },
          "title": {
           "x": 0.05
          },
          "xaxis": {
           "automargin": true,
           "gridcolor": "white",
           "linecolor": "white",
           "ticks": "",
           "title": {
            "standoff": 15
           },
           "zerolinecolor": "white",
           "zerolinewidth": 2
          },
          "yaxis": {
           "automargin": true,
           "gridcolor": "white",
           "linecolor": "white",
           "ticks": "",
           "title": {
            "standoff": 15
           },
           "zerolinecolor": "white",
           "zerolinewidth": 2
          }
         }
        },
        "title": {
         "text": "Label: Charmander"
        },
        "width": 300,
        "xaxis": {
         "anchor": "y",
         "domain": [
          0,
          1
         ]
        },
        "yaxis": {
         "anchor": "x",
         "domain": [
          0,
          1
         ]
        }
       }
      }
     },
     "metadata": {},
     "output_type": "display_data"
    }
   ],
   "source": [
    "plot_image(test_image[0], \"Charmander\", top_k(pred[0], k=5))"
   ]
  },
  {
   "cell_type": "code",
   "execution_count": null,
   "metadata": {},
   "outputs": [],
   "source": []
  }
 ],
 "metadata": {
  "kernelspec": {
   "display_name": "Python 3.10.6 64-bit",
   "language": "python",
   "name": "python3"
  },
  "language_info": {
   "codemirror_mode": {
    "name": "ipython",
    "version": 3
   },
   "file_extension": ".py",
   "mimetype": "text/x-python",
   "name": "python",
   "nbconvert_exporter": "python",
   "pygments_lexer": "ipython3",
   "version": "3.10.6"
  },
  "orig_nbformat": 4,
  "vscode": {
   "interpreter": {
    "hash": "837c519a48be08d8749c778cb72b9b5aac116a087aa5d1d99ee0359dceff73e6"
   }
  }
 },
 "nbformat": 4,
 "nbformat_minor": 2
}
