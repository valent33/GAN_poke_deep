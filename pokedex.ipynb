{
 "cells": [
  {
   "cell_type": "code",
   "execution_count": 1,
   "metadata": {},
   "outputs": [],
   "source": [
    "import tensorflow as tf\n",
    "import plotly.express as px\n",
    "from tensorflow.keras.applications import EfficientNetB4\n",
    "from utils import *"
   ]
  },
  {
   "attachments": {},
   "cell_type": "markdown",
   "metadata": {},
   "source": [
    "## Loading"
   ]
  },
  {
   "cell_type": "code",
   "execution_count": 2,
   "metadata": {},
   "outputs": [],
   "source": [
    "directory = 'images/final/'\n",
    "width = 128\n",
    "height = 128\n",
    "channels = 4\n",
    "image_size = (width, height)\n",
    "input_shape = (width, height, channels)\n",
    "batch_size = 32"
   ]
  },
  {
   "cell_type": "code",
   "execution_count": 3,
   "metadata": {},
   "outputs": [
    {
     "name": "stdout",
     "output_type": "stream",
     "text": [
      "Found 13849 files belonging to 905 classes.\n",
      "Using 11080 files for training.\n",
      "Using 2769 files for validation.\n"
     ]
    }
   ],
   "source": [
    "train_ds, val_ds, class_names = load_data(directory, batch_size, image_size)"
   ]
  },
  {
   "cell_type": "code",
   "execution_count": 5,
   "metadata": {},
   "outputs": [
    {
     "name": "stdout",
     "output_type": "stream",
     "text": [
      "tf.Tensor([0. 0. 0. 0.], shape=(4,), dtype=float32)\n",
      "(128, 128, 4)\n"
     ]
    },
    {
     "data": {
      "application/vnd.plotly.v1+json": {
       "config": {
        "plotlyServerURL": "https://plot.ly"
       },
       "data": [
        {
         "hovertemplate": "x: %{x}<br>y: %{y}<br>color: %{z}<extra></extra>",
         "name": "0",
         "source": "data:image/png;base64,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",
         "type": "image",
         "xaxis": "x",
         "yaxis": "y"
        }
       ],
       "layout": {
        "height": 350,
        "margin": {
         "l": 0,
         "t": 60
        },
        "shapes": [
         {
          "line": {
           "color": "black",
           "width": 2
          },
          "type": "rect",
          "x0": 0,
          "x1": 128,
          "xref": "x",
          "y0": 0,
          "y1": 128,
          "yref": "y"
         }
        ],
        "template": {
         "data": {
          "bar": [
           {
            "error_x": {
             "color": "#2a3f5f"
            },
            "error_y": {
             "color": "#2a3f5f"
            },
            "marker": {
             "line": {
              "color": "#E5ECF6",
              "width": 0.5
             },
             "pattern": {
              "fillmode": "overlay",
              "size": 10,
              "solidity": 0.2
             }
            },
            "type": "bar"
           }
          ],
          "barpolar": [
           {
            "marker": {
             "line": {
              "color": "#E5ECF6",
              "width": 0.5
             },
             "pattern": {
              "fillmode": "overlay",
              "size": 10,
              "solidity": 0.2
             }
            },
            "type": "barpolar"
           }
          ],
          "carpet": [
           {
            "aaxis": {
             "endlinecolor": "#2a3f5f",
             "gridcolor": "white",
             "linecolor": "white",
             "minorgridcolor": "white",
             "startlinecolor": "#2a3f5f"
            },
            "baxis": {
             "endlinecolor": "#2a3f5f",
             "gridcolor": "white",
             "linecolor": "white",
             "minorgridcolor": "white",
             "startlinecolor": "#2a3f5f"
            },
            "type": "carpet"
           }
          ],
          "choropleth": [
           {
            "colorbar": {
             "outlinewidth": 0,
             "ticks": ""
            },
            "type": "choropleth"
           }
          ],
          "contour": [
           {
            "colorbar": {
             "outlinewidth": 0,
             "ticks": ""
            },
            "colorscale": [
             [
              0,
              "#0d0887"
             ],
             [
              0.1111111111111111,
              "#46039f"
             ],
             [
              0.2222222222222222,
              "#7201a8"
             ],
             [
              0.3333333333333333,
              "#9c179e"
             ],
             [
              0.4444444444444444,
              "#bd3786"
             ],
             [
              0.5555555555555556,
              "#d8576b"
             ],
             [
              0.6666666666666666,
              "#ed7953"
             ],
             [
              0.7777777777777778,
              "#fb9f3a"
             ],
             [
              0.8888888888888888,
              "#fdca26"
             ],
             [
              1,
              "#f0f921"
             ]
            ],
            "type": "contour"
           }
          ],
          "contourcarpet": [
           {
            "colorbar": {
             "outlinewidth": 0,
             "ticks": ""
            },
            "type": "contourcarpet"
           }
          ],
          "heatmap": [
           {
            "colorbar": {
             "outlinewidth": 0,
             "ticks": ""
            },
            "colorscale": [
             [
              0,
              "#0d0887"
             ],
             [
              0.1111111111111111,
              "#46039f"
             ],
             [
              0.2222222222222222,
              "#7201a8"
             ],
             [
              0.3333333333333333,
              "#9c179e"
             ],
             [
              0.4444444444444444,
              "#bd3786"
             ],
             [
              0.5555555555555556,
              "#d8576b"
             ],
             [
              0.6666666666666666,
              "#ed7953"
             ],
             [
              0.7777777777777778,
              "#fb9f3a"
             ],
             [
              0.8888888888888888,
              "#fdca26"
             ],
             [
              1,
              "#f0f921"
             ]
            ],
            "type": "heatmap"
           }
          ],
          "heatmapgl": [
           {
            "colorbar": {
             "outlinewidth": 0,
             "ticks": ""
            },
            "colorscale": [
             [
              0,
              "#0d0887"
             ],
             [
              0.1111111111111111,
              "#46039f"
             ],
             [
              0.2222222222222222,
              "#7201a8"
             ],
             [
              0.3333333333333333,
              "#9c179e"
             ],
             [
              0.4444444444444444,
              "#bd3786"
             ],
             [
              0.5555555555555556,
              "#d8576b"
             ],
             [
              0.6666666666666666,
              "#ed7953"
             ],
             [
              0.7777777777777778,
              "#fb9f3a"
             ],
             [
              0.8888888888888888,
              "#fdca26"
             ],
             [
              1,
              "#f0f921"
             ]
            ],
            "type": "heatmapgl"
           }
          ],
          "histogram": [
           {
            "marker": {
             "pattern": {
              "fillmode": "overlay",
              "size": 10,
              "solidity": 0.2
             }
            },
            "type": "histogram"
           }
          ],
          "histogram2d": [
           {
            "colorbar": {
             "outlinewidth": 0,
             "ticks": ""
            },
            "colorscale": [
             [
              0,
              "#0d0887"
             ],
             [
              0.1111111111111111,
              "#46039f"
             ],
             [
              0.2222222222222222,
              "#7201a8"
             ],
             [
              0.3333333333333333,
              "#9c179e"
             ],
             [
              0.4444444444444444,
              "#bd3786"
             ],
             [
              0.5555555555555556,
              "#d8576b"
             ],
             [
              0.6666666666666666,
              "#ed7953"
             ],
             [
              0.7777777777777778,
              "#fb9f3a"
             ],
             [
              0.8888888888888888,
              "#fdca26"
             ],
             [
              1,
              "#f0f921"
             ]
            ],
            "type": "histogram2d"
           }
          ],
          "histogram2dcontour": [
           {
            "colorbar": {
             "outlinewidth": 0,
             "ticks": ""
            },
            "colorscale": [
             [
              0,
              "#0d0887"
             ],
             [
              0.1111111111111111,
              "#46039f"
             ],
             [
              0.2222222222222222,
              "#7201a8"
             ],
             [
              0.3333333333333333,
              "#9c179e"
             ],
             [
              0.4444444444444444,
              "#bd3786"
             ],
             [
              0.5555555555555556,
              "#d8576b"
             ],
             [
              0.6666666666666666,
              "#ed7953"
             ],
             [
              0.7777777777777778,
              "#fb9f3a"
             ],
             [
              0.8888888888888888,
              "#fdca26"
             ],
             [
              1,
              "#f0f921"
             ]
            ],
            "type": "histogram2dcontour"
           }
          ],
          "mesh3d": [
           {
            "colorbar": {
             "outlinewidth": 0,
             "ticks": ""
            },
            "type": "mesh3d"
           }
          ],
          "parcoords": [
           {
            "line": {
             "colorbar": {
              "outlinewidth": 0,
              "ticks": ""
             }
            },
            "type": "parcoords"
           }
          ],
          "pie": [
           {
            "automargin": true,
            "type": "pie"
           }
          ],
          "scatter": [
           {
            "fillpattern": {
             "fillmode": "overlay",
             "size": 10,
             "solidity": 0.2
            },
            "type": "scatter"
           }
          ],
          "scatter3d": [
           {
            "line": {
             "colorbar": {
              "outlinewidth": 0,
              "ticks": ""
             }
            },
            "marker": {
             "colorbar": {
              "outlinewidth": 0,
              "ticks": ""
             }
            },
            "type": "scatter3d"
           }
          ],
          "scattercarpet": [
           {
            "marker": {
             "colorbar": {
              "outlinewidth": 0,
              "ticks": ""
             }
            },
            "type": "scattercarpet"
           }
          ],
          "scattergeo": [
           {
            "marker": {
             "colorbar": {
              "outlinewidth": 0,
              "ticks": ""
             }
            },
            "type": "scattergeo"
           }
          ],
          "scattergl": [
           {
            "marker": {
             "colorbar": {
              "outlinewidth": 0,
              "ticks": ""
             }
            },
            "type": "scattergl"
           }
          ],
          "scattermapbox": [
           {
            "marker": {
             "colorbar": {
              "outlinewidth": 0,
              "ticks": ""
             }
            },
            "type": "scattermapbox"
           }
          ],
          "scatterpolar": [
           {
            "marker": {
             "colorbar": {
              "outlinewidth": 0,
              "ticks": ""
             }
            },
            "type": "scatterpolar"
           }
          ],
          "scatterpolargl": [
           {
            "marker": {
             "colorbar": {
              "outlinewidth": 0,
              "ticks": ""
             }
            },
            "type": "scatterpolargl"
           }
          ],
          "scatterternary": [
           {
            "marker": {
             "colorbar": {
              "outlinewidth": 0,
              "ticks": ""
             }
            },
            "type": "scatterternary"
           }
          ],
          "surface": [
           {
            "colorbar": {
             "outlinewidth": 0,
             "ticks": ""
            },
            "colorscale": [
             [
              0,
              "#0d0887"
             ],
             [
              0.1111111111111111,
              "#46039f"
             ],
             [
              0.2222222222222222,
              "#7201a8"
             ],
             [
              0.3333333333333333,
              "#9c179e"
             ],
             [
              0.4444444444444444,
              "#bd3786"
             ],
             [
              0.5555555555555556,
              "#d8576b"
             ],
             [
              0.6666666666666666,
              "#ed7953"
             ],
             [
              0.7777777777777778,
              "#fb9f3a"
             ],
             [
              0.8888888888888888,
              "#fdca26"
             ],
             [
              1,
              "#f0f921"
             ]
            ],
            "type": "surface"
           }
          ],
          "table": [
           {
            "cells": {
             "fill": {
              "color": "#EBF0F8"
             },
             "line": {
              "color": "white"
             }
            },
            "header": {
             "fill": {
              "color": "#C8D4E3"
             },
             "line": {
              "color": "white"
             }
            },
            "type": "table"
           }
          ]
         },
         "layout": {
          "annotationdefaults": {
           "arrowcolor": "#2a3f5f",
           "arrowhead": 0,
           "arrowwidth": 1
          },
          "autotypenumbers": "strict",
          "coloraxis": {
           "colorbar": {
            "outlinewidth": 0,
            "ticks": ""
           }
          },
          "colorscale": {
           "diverging": [
            [
             0,
             "#8e0152"
            ],
            [
             0.1,
             "#c51b7d"
            ],
            [
             0.2,
             "#de77ae"
            ],
            [
             0.3,
             "#f1b6da"
            ],
            [
             0.4,
             "#fde0ef"
            ],
            [
             0.5,
             "#f7f7f7"
            ],
            [
             0.6,
             "#e6f5d0"
            ],
            [
             0.7,
             "#b8e186"
            ],
            [
             0.8,
             "#7fbc41"
            ],
            [
             0.9,
             "#4d9221"
            ],
            [
             1,
             "#276419"
            ]
           ],
           "sequential": [
            [
             0,
             "#0d0887"
            ],
            [
             0.1111111111111111,
             "#46039f"
            ],
            [
             0.2222222222222222,
             "#7201a8"
            ],
            [
             0.3333333333333333,
             "#9c179e"
            ],
            [
             0.4444444444444444,
             "#bd3786"
            ],
            [
             0.5555555555555556,
             "#d8576b"
            ],
            [
             0.6666666666666666,
             "#ed7953"
            ],
            [
             0.7777777777777778,
             "#fb9f3a"
            ],
            [
             0.8888888888888888,
             "#fdca26"
            ],
            [
             1,
             "#f0f921"
            ]
           ],
           "sequentialminus": [
            [
             0,
             "#0d0887"
            ],
            [
             0.1111111111111111,
             "#46039f"
            ],
            [
             0.2222222222222222,
             "#7201a8"
            ],
            [
             0.3333333333333333,
             "#9c179e"
            ],
            [
             0.4444444444444444,
             "#bd3786"
            ],
            [
             0.5555555555555556,
             "#d8576b"
            ],
            [
             0.6666666666666666,
             "#ed7953"
            ],
            [
             0.7777777777777778,
             "#fb9f3a"
            ],
            [
             0.8888888888888888,
             "#fdca26"
            ],
            [
             1,
             "#f0f921"
            ]
           ]
          },
          "colorway": [
           "#636efa",
           "#EF553B",
           "#00cc96",
           "#ab63fa",
           "#FFA15A",
           "#19d3f3",
           "#FF6692",
           "#B6E880",
           "#FF97FF",
           "#FECB52"
          ],
          "font": {
           "color": "#2a3f5f"
          },
          "geo": {
           "bgcolor": "white",
           "lakecolor": "white",
           "landcolor": "#E5ECF6",
           "showlakes": true,
           "showland": true,
           "subunitcolor": "white"
          },
          "hoverlabel": {
           "align": "left"
          },
          "hovermode": "closest",
          "mapbox": {
           "style": "light"
          },
          "paper_bgcolor": "white",
          "plot_bgcolor": "#E5ECF6",
          "polar": {
           "angularaxis": {
            "gridcolor": "white",
            "linecolor": "white",
            "ticks": ""
           },
           "bgcolor": "#E5ECF6",
           "radialaxis": {
            "gridcolor": "white",
            "linecolor": "white",
            "ticks": ""
           }
          },
          "scene": {
           "xaxis": {
            "backgroundcolor": "#E5ECF6",
            "gridcolor": "white",
            "gridwidth": 2,
            "linecolor": "white",
            "showbackground": true,
            "ticks": "",
            "zerolinecolor": "white"
           },
           "yaxis": {
            "backgroundcolor": "#E5ECF6",
            "gridcolor": "white",
            "gridwidth": 2,
            "linecolor": "white",
            "showbackground": true,
            "ticks": "",
            "zerolinecolor": "white"
           },
           "zaxis": {
            "backgroundcolor": "#E5ECF6",
            "gridcolor": "white",
            "gridwidth": 2,
            "linecolor": "white",
            "showbackground": true,
            "ticks": "",
            "zerolinecolor": "white"
           }
          },
          "shapedefaults": {
           "line": {
            "color": "#2a3f5f"
           }
          },
          "ternary": {
           "aaxis": {
            "gridcolor": "white",
            "linecolor": "white",
            "ticks": ""
           },
           "baxis": {
            "gridcolor": "white",
            "linecolor": "white",
            "ticks": ""
           },
           "bgcolor": "#E5ECF6",
           "caxis": {
            "gridcolor": "white",
            "linecolor": "white",
            "ticks": ""
           }
          },
          "title": {
           "x": 0.05
          },
          "xaxis": {
           "automargin": true,
           "gridcolor": "white",
           "linecolor": "white",
           "ticks": "",
           "title": {
            "standoff": 15
           },
           "zerolinecolor": "white",
           "zerolinewidth": 2
          },
          "yaxis": {
           "automargin": true,
           "gridcolor": "white",
           "linecolor": "white",
           "ticks": "",
           "title": {
            "standoff": 15
           },
           "zerolinecolor": "white",
           "zerolinewidth": 2
          }
         }
        },
        "title": {
         "text": "Label: Naganadel"
        },
        "width": 500,
        "xaxis": {
         "anchor": "y",
         "domain": [
          0,
          1
         ],
         "showgrid": false,
         "showticklabels": false,
         "visible": false,
         "zeroline": false
        },
        "yaxis": {
         "anchor": "x",
         "domain": [
          0,
          1
         ],
         "showgrid": false,
         "showticklabels": false,
         "visible": false,
         "zeroline": false
        }
       }
      }
     },
     "metadata": {},
     "output_type": "display_data"
    }
   ],
   "source": [
    "plot_n_images(train_ds, 1, class_names)"
   ]
  },
  {
   "attachments": {},
   "cell_type": "markdown",
   "metadata": {},
   "source": [
    "### Preprocessing"
   ]
  },
  {
   "cell_type": "code",
   "execution_count": 7,
   "metadata": {},
   "outputs": [
    {
     "name": "stdout",
     "output_type": "stream",
     "text": [
      "WARNING:tensorflow:Using a while_loop for converting RngReadAndSkip cause there is no registered converter for this op.\n",
      "WARNING:tensorflow:Using a while_loop for converting Bitcast cause there is no registered converter for this op.\n",
      "WARNING:tensorflow:Using a while_loop for converting Bitcast cause there is no registered converter for this op.\n",
      "WARNING:tensorflow:Using a while_loop for converting StatelessRandomUniformV2 cause there is no registered converter for this op.\n",
      "WARNING:tensorflow:Using a while_loop for converting ImageProjectiveTransformV3 cause there is no registered converter for this op.\n",
      "WARNING:tensorflow:Using a while_loop for converting RngReadAndSkip cause there is no registered converter for this op.\n",
      "WARNING:tensorflow:Using a while_loop for converting Bitcast cause there is no registered converter for this op.\n",
      "WARNING:tensorflow:Using a while_loop for converting Bitcast cause there is no registered converter for this op.\n",
      "WARNING:tensorflow:Using a while_loop for converting StatelessRandomUniformV2 cause there is no registered converter for this op.\n",
      "WARNING:tensorflow:Using a while_loop for converting ImageProjectiveTransformV3 cause there is no registered converter for this op.\n"
     ]
    }
   ],
   "source": [
    "train_ds = prepare(train_ds, shuffle=True, augment=True)\n",
    "val_ds = prepare(val_ds)\n",
    "\n",
    "channels = 3\n",
    "input_shape = (width, height, channels)"
   ]
  },
  {
   "cell_type": "code",
   "execution_count": 8,
   "metadata": {},
   "outputs": [
    {
     "name": "stdout",
     "output_type": "stream",
     "text": [
      "tf.Tensor([255. 255. 255.], shape=(3,), dtype=float32)\n",
      "(128, 128, 3)\n"
     ]
    },
    {
     "data": {
      "application/vnd.plotly.v1+json": {
       "config": {
        "plotlyServerURL": "https://plot.ly"
       },
       "data": [
        {
         "hovertemplate": "x: %{x}<br>y: %{y}<extra></extra>",
         "name": "0",
         "source": "data:image/png;base64,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",
         "type": "image",
         "xaxis": "x",
         "yaxis": "y"
        }
       ],
       "layout": {
        "height": 350,
        "margin": {
         "l": 0,
         "t": 60
        },
        "shapes": [
         {
          "line": {
           "color": "black",
           "width": 2
          },
          "type": "rect",
          "x0": 0,
          "x1": 128,
          "xref": "x",
          "y0": 0,
          "y1": 128,
          "yref": "y"
         }
        ],
        "template": {
         "data": {
          "bar": [
           {
            "error_x": {
             "color": "#2a3f5f"
            },
            "error_y": {
             "color": "#2a3f5f"
            },
            "marker": {
             "line": {
              "color": "#E5ECF6",
              "width": 0.5
             },
             "pattern": {
              "fillmode": "overlay",
              "size": 10,
              "solidity": 0.2
             }
            },
            "type": "bar"
           }
          ],
          "barpolar": [
           {
            "marker": {
             "line": {
              "color": "#E5ECF6",
              "width": 0.5
             },
             "pattern": {
              "fillmode": "overlay",
              "size": 10,
              "solidity": 0.2
             }
            },
            "type": "barpolar"
           }
          ],
          "carpet": [
           {
            "aaxis": {
             "endlinecolor": "#2a3f5f",
             "gridcolor": "white",
             "linecolor": "white",
             "minorgridcolor": "white",
             "startlinecolor": "#2a3f5f"
            },
            "baxis": {
             "endlinecolor": "#2a3f5f",
             "gridcolor": "white",
             "linecolor": "white",
             "minorgridcolor": "white",
             "startlinecolor": "#2a3f5f"
            },
            "type": "carpet"
           }
          ],
          "choropleth": [
           {
            "colorbar": {
             "outlinewidth": 0,
             "ticks": ""
            },
            "type": "choropleth"
           }
          ],
          "contour": [
           {
            "colorbar": {
             "outlinewidth": 0,
             "ticks": ""
            },
            "colorscale": [
             [
              0,
              "#0d0887"
             ],
             [
              0.1111111111111111,
              "#46039f"
             ],
             [
              0.2222222222222222,
              "#7201a8"
             ],
             [
              0.3333333333333333,
              "#9c179e"
             ],
             [
              0.4444444444444444,
              "#bd3786"
             ],
             [
              0.5555555555555556,
              "#d8576b"
             ],
             [
              0.6666666666666666,
              "#ed7953"
             ],
             [
              0.7777777777777778,
              "#fb9f3a"
             ],
             [
              0.8888888888888888,
              "#fdca26"
             ],
             [
              1,
              "#f0f921"
             ]
            ],
            "type": "contour"
           }
          ],
          "contourcarpet": [
           {
            "colorbar": {
             "outlinewidth": 0,
             "ticks": ""
            },
            "type": "contourcarpet"
           }
          ],
          "heatmap": [
           {
            "colorbar": {
             "outlinewidth": 0,
             "ticks": ""
            },
            "colorscale": [
             [
              0,
              "#0d0887"
             ],
             [
              0.1111111111111111,
              "#46039f"
             ],
             [
              0.2222222222222222,
              "#7201a8"
             ],
             [
              0.3333333333333333,
              "#9c179e"
             ],
             [
              0.4444444444444444,
              "#bd3786"
             ],
             [
              0.5555555555555556,
              "#d8576b"
             ],
             [
              0.6666666666666666,
              "#ed7953"
             ],
             [
              0.7777777777777778,
              "#fb9f3a"
             ],
             [
              0.8888888888888888,
              "#fdca26"
             ],
             [
              1,
              "#f0f921"
             ]
            ],
            "type": "heatmap"
           }
          ],
          "heatmapgl": [
           {
            "colorbar": {
             "outlinewidth": 0,
             "ticks": ""
            },
            "colorscale": [
             [
              0,
              "#0d0887"
             ],
             [
              0.1111111111111111,
              "#46039f"
             ],
             [
              0.2222222222222222,
              "#7201a8"
             ],
             [
              0.3333333333333333,
              "#9c179e"
             ],
             [
              0.4444444444444444,
              "#bd3786"
             ],
             [
              0.5555555555555556,
              "#d8576b"
             ],
             [
              0.6666666666666666,
              "#ed7953"
             ],
             [
              0.7777777777777778,
              "#fb9f3a"
             ],
             [
              0.8888888888888888,
              "#fdca26"
             ],
             [
              1,
              "#f0f921"
             ]
            ],
            "type": "heatmapgl"
           }
          ],
          "histogram": [
           {
            "marker": {
             "pattern": {
              "fillmode": "overlay",
              "size": 10,
              "solidity": 0.2
             }
            },
            "type": "histogram"
           }
          ],
          "histogram2d": [
           {
            "colorbar": {
             "outlinewidth": 0,
             "ticks": ""
            },
            "colorscale": [
             [
              0,
              "#0d0887"
             ],
             [
              0.1111111111111111,
              "#46039f"
             ],
             [
              0.2222222222222222,
              "#7201a8"
             ],
             [
              0.3333333333333333,
              "#9c179e"
             ],
             [
              0.4444444444444444,
              "#bd3786"
             ],
             [
              0.5555555555555556,
              "#d8576b"
             ],
             [
              0.6666666666666666,
              "#ed7953"
             ],
             [
              0.7777777777777778,
              "#fb9f3a"
             ],
             [
              0.8888888888888888,
              "#fdca26"
             ],
             [
              1,
              "#f0f921"
             ]
            ],
            "type": "histogram2d"
           }
          ],
          "histogram2dcontour": [
           {
            "colorbar": {
             "outlinewidth": 0,
             "ticks": ""
            },
            "colorscale": [
             [
              0,
              "#0d0887"
             ],
             [
              0.1111111111111111,
              "#46039f"
             ],
             [
              0.2222222222222222,
              "#7201a8"
             ],
             [
              0.3333333333333333,
              "#9c179e"
             ],
             [
              0.4444444444444444,
              "#bd3786"
             ],
             [
              0.5555555555555556,
              "#d8576b"
             ],
             [
              0.6666666666666666,
              "#ed7953"
             ],
             [
              0.7777777777777778,
              "#fb9f3a"
             ],
             [
              0.8888888888888888,
              "#fdca26"
             ],
             [
              1,
              "#f0f921"
             ]
            ],
            "type": "histogram2dcontour"
           }
          ],
          "mesh3d": [
           {
            "colorbar": {
             "outlinewidth": 0,
             "ticks": ""
            },
            "type": "mesh3d"
           }
          ],
          "parcoords": [
           {
            "line": {
             "colorbar": {
              "outlinewidth": 0,
              "ticks": ""
             }
            },
            "type": "parcoords"
           }
          ],
          "pie": [
           {
            "automargin": true,
            "type": "pie"
           }
          ],
          "scatter": [
           {
            "fillpattern": {
             "fillmode": "overlay",
             "size": 10,
             "solidity": 0.2
            },
            "type": "scatter"
           }
          ],
          "scatter3d": [
           {
            "line": {
             "colorbar": {
              "outlinewidth": 0,
              "ticks": ""
             }
            },
            "marker": {
             "colorbar": {
              "outlinewidth": 0,
              "ticks": ""
             }
            },
            "type": "scatter3d"
           }
          ],
          "scattercarpet": [
           {
            "marker": {
             "colorbar": {
              "outlinewidth": 0,
              "ticks": ""
             }
            },
            "type": "scattercarpet"
           }
          ],
          "scattergeo": [
           {
            "marker": {
             "colorbar": {
              "outlinewidth": 0,
              "ticks": ""
             }
            },
            "type": "scattergeo"
           }
          ],
          "scattergl": [
           {
            "marker": {
             "colorbar": {
              "outlinewidth": 0,
              "ticks": ""
             }
            },
            "type": "scattergl"
           }
          ],
          "scattermapbox": [
           {
            "marker": {
             "colorbar": {
              "outlinewidth": 0,
              "ticks": ""
             }
            },
            "type": "scattermapbox"
           }
          ],
          "scatterpolar": [
           {
            "marker": {
             "colorbar": {
              "outlinewidth": 0,
              "ticks": ""
             }
            },
            "type": "scatterpolar"
           }
          ],
          "scatterpolargl": [
           {
            "marker": {
             "colorbar": {
              "outlinewidth": 0,
              "ticks": ""
             }
            },
            "type": "scatterpolargl"
           }
          ],
          "scatterternary": [
           {
            "marker": {
             "colorbar": {
              "outlinewidth": 0,
              "ticks": ""
             }
            },
            "type": "scatterternary"
           }
          ],
          "surface": [
           {
            "colorbar": {
             "outlinewidth": 0,
             "ticks": ""
            },
            "colorscale": [
             [
              0,
              "#0d0887"
             ],
             [
              0.1111111111111111,
              "#46039f"
             ],
             [
              0.2222222222222222,
              "#7201a8"
             ],
             [
              0.3333333333333333,
              "#9c179e"
             ],
             [
              0.4444444444444444,
              "#bd3786"
             ],
             [
              0.5555555555555556,
              "#d8576b"
             ],
             [
              0.6666666666666666,
              "#ed7953"
             ],
             [
              0.7777777777777778,
              "#fb9f3a"
             ],
             [
              0.8888888888888888,
              "#fdca26"
             ],
             [
              1,
              "#f0f921"
             ]
            ],
            "type": "surface"
           }
          ],
          "table": [
           {
            "cells": {
             "fill": {
              "color": "#EBF0F8"
             },
             "line": {
              "color": "white"
             }
            },
            "header": {
             "fill": {
              "color": "#C8D4E3"
             },
             "line": {
              "color": "white"
             }
            },
            "type": "table"
           }
          ]
         },
         "layout": {
          "annotationdefaults": {
           "arrowcolor": "#2a3f5f",
           "arrowhead": 0,
           "arrowwidth": 1
          },
          "autotypenumbers": "strict",
          "coloraxis": {
           "colorbar": {
            "outlinewidth": 0,
            "ticks": ""
           }
          },
          "colorscale": {
           "diverging": [
            [
             0,
             "#8e0152"
            ],
            [
             0.1,
             "#c51b7d"
            ],
            [
             0.2,
             "#de77ae"
            ],
            [
             0.3,
             "#f1b6da"
            ],
            [
             0.4,
             "#fde0ef"
            ],
            [
             0.5,
             "#f7f7f7"
            ],
            [
             0.6,
             "#e6f5d0"
            ],
            [
             0.7,
             "#b8e186"
            ],
            [
             0.8,
             "#7fbc41"
            ],
            [
             0.9,
             "#4d9221"
            ],
            [
             1,
             "#276419"
            ]
           ],
           "sequential": [
            [
             0,
             "#0d0887"
            ],
            [
             0.1111111111111111,
             "#46039f"
            ],
            [
             0.2222222222222222,
             "#7201a8"
            ],
            [
             0.3333333333333333,
             "#9c179e"
            ],
            [
             0.4444444444444444,
             "#bd3786"
            ],
            [
             0.5555555555555556,
             "#d8576b"
            ],
            [
             0.6666666666666666,
             "#ed7953"
            ],
            [
             0.7777777777777778,
             "#fb9f3a"
            ],
            [
             0.8888888888888888,
             "#fdca26"
            ],
            [
             1,
             "#f0f921"
            ]
           ],
           "sequentialminus": [
            [
             0,
             "#0d0887"
            ],
            [
             0.1111111111111111,
             "#46039f"
            ],
            [
             0.2222222222222222,
             "#7201a8"
            ],
            [
             0.3333333333333333,
             "#9c179e"
            ],
            [
             0.4444444444444444,
             "#bd3786"
            ],
            [
             0.5555555555555556,
             "#d8576b"
            ],
            [
             0.6666666666666666,
             "#ed7953"
            ],
            [
             0.7777777777777778,
             "#fb9f3a"
            ],
            [
             0.8888888888888888,
             "#fdca26"
            ],
            [
             1,
             "#f0f921"
            ]
           ]
          },
          "colorway": [
           "#636efa",
           "#EF553B",
           "#00cc96",
           "#ab63fa",
           "#FFA15A",
           "#19d3f3",
           "#FF6692",
           "#B6E880",
           "#FF97FF",
           "#FECB52"
          ],
          "font": {
           "color": "#2a3f5f"
          },
          "geo": {
           "bgcolor": "white",
           "lakecolor": "white",
           "landcolor": "#E5ECF6",
           "showlakes": true,
           "showland": true,
           "subunitcolor": "white"
          },
          "hoverlabel": {
           "align": "left"
          },
          "hovermode": "closest",
          "mapbox": {
           "style": "light"
          },
          "paper_bgcolor": "white",
          "plot_bgcolor": "#E5ECF6",
          "polar": {
           "angularaxis": {
            "gridcolor": "white",
            "linecolor": "white",
            "ticks": ""
           },
           "bgcolor": "#E5ECF6",
           "radialaxis": {
            "gridcolor": "white",
            "linecolor": "white",
            "ticks": ""
           }
          },
          "scene": {
           "xaxis": {
            "backgroundcolor": "#E5ECF6",
            "gridcolor": "white",
            "gridwidth": 2,
            "linecolor": "white",
            "showbackground": true,
            "ticks": "",
            "zerolinecolor": "white"
           },
           "yaxis": {
            "backgroundcolor": "#E5ECF6",
            "gridcolor": "white",
            "gridwidth": 2,
            "linecolor": "white",
            "showbackground": true,
            "ticks": "",
            "zerolinecolor": "white"
           },
           "zaxis": {
            "backgroundcolor": "#E5ECF6",
            "gridcolor": "white",
            "gridwidth": 2,
            "linecolor": "white",
            "showbackground": true,
            "ticks": "",
            "zerolinecolor": "white"
           }
          },
          "shapedefaults": {
           "line": {
            "color": "#2a3f5f"
           }
          },
          "ternary": {
           "aaxis": {
            "gridcolor": "white",
            "linecolor": "white",
            "ticks": ""
           },
           "baxis": {
            "gridcolor": "white",
            "linecolor": "white",
            "ticks": ""
           },
           "bgcolor": "#E5ECF6",
           "caxis": {
            "gridcolor": "white",
            "linecolor": "white",
            "ticks": ""
           }
          },
          "title": {
           "x": 0.05
          },
          "xaxis": {
           "automargin": true,
           "gridcolor": "white",
           "linecolor": "white",
           "ticks": "",
           "title": {
            "standoff": 15
           },
           "zerolinecolor": "white",
           "zerolinewidth": 2
          },
          "yaxis": {
           "automargin": true,
           "gridcolor": "white",
           "linecolor": "white",
           "ticks": "",
           "title": {
            "standoff": 15
           },
           "zerolinecolor": "white",
           "zerolinewidth": 2
          }
         }
        },
        "title": {
         "text": "Label: Regice"
        },
        "width": 500,
        "xaxis": {
         "anchor": "y",
         "domain": [
          0,
          1
         ],
         "showgrid": false,
         "showticklabels": false,
         "visible": false,
         "zeroline": false
        },
        "yaxis": {
         "anchor": "x",
         "domain": [
          0,
          1
         ],
         "showgrid": false,
         "showticklabels": false,
         "visible": false,
         "zeroline": false
        }
       }
      }
     },
     "metadata": {},
     "output_type": "display_data"
    },
    {
     "name": "stdout",
     "output_type": "stream",
     "text": [
      "tf.Tensor([255. 255. 255.], shape=(3,), dtype=float32)\n",
      "(128, 128, 3)\n"
     ]
    },
    {
     "data": {
      "application/vnd.plotly.v1+json": {
       "config": {
        "plotlyServerURL": "https://plot.ly"
       },
       "data": [
        {
         "hovertemplate": "x: %{x}<br>y: %{y}<extra></extra>",
         "name": "0",
         "source": "data:image/png;base64,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",
         "type": "image",
         "xaxis": "x",
         "yaxis": "y"
        }
       ],
       "layout": {
        "height": 350,
        "margin": {
         "l": 0,
         "t": 60
        },
        "shapes": [
         {
          "line": {
           "color": "black",
           "width": 2
          },
          "type": "rect",
          "x0": 0,
          "x1": 128,
          "xref": "x",
          "y0": 0,
          "y1": 128,
          "yref": "y"
         }
        ],
        "template": {
         "data": {
          "bar": [
           {
            "error_x": {
             "color": "#2a3f5f"
            },
            "error_y": {
             "color": "#2a3f5f"
            },
            "marker": {
             "line": {
              "color": "#E5ECF6",
              "width": 0.5
             },
             "pattern": {
              "fillmode": "overlay",
              "size": 10,
              "solidity": 0.2
             }
            },
            "type": "bar"
           }
          ],
          "barpolar": [
           {
            "marker": {
             "line": {
              "color": "#E5ECF6",
              "width": 0.5
             },
             "pattern": {
              "fillmode": "overlay",
              "size": 10,
              "solidity": 0.2
             }
            },
            "type": "barpolar"
           }
          ],
          "carpet": [
           {
            "aaxis": {
             "endlinecolor": "#2a3f5f",
             "gridcolor": "white",
             "linecolor": "white",
             "minorgridcolor": "white",
             "startlinecolor": "#2a3f5f"
            },
            "baxis": {
             "endlinecolor": "#2a3f5f",
             "gridcolor": "white",
             "linecolor": "white",
             "minorgridcolor": "white",
             "startlinecolor": "#2a3f5f"
            },
            "type": "carpet"
           }
          ],
          "choropleth": [
           {
            "colorbar": {
             "outlinewidth": 0,
             "ticks": ""
            },
            "type": "choropleth"
           }
          ],
          "contour": [
           {
            "colorbar": {
             "outlinewidth": 0,
             "ticks": ""
            },
            "colorscale": [
             [
              0,
              "#0d0887"
             ],
             [
              0.1111111111111111,
              "#46039f"
             ],
             [
              0.2222222222222222,
              "#7201a8"
             ],
             [
              0.3333333333333333,
              "#9c179e"
             ],
             [
              0.4444444444444444,
              "#bd3786"
             ],
             [
              0.5555555555555556,
              "#d8576b"
             ],
             [
              0.6666666666666666,
              "#ed7953"
             ],
             [
              0.7777777777777778,
              "#fb9f3a"
             ],
             [
              0.8888888888888888,
              "#fdca26"
             ],
             [
              1,
              "#f0f921"
             ]
            ],
            "type": "contour"
           }
          ],
          "contourcarpet": [
           {
            "colorbar": {
             "outlinewidth": 0,
             "ticks": ""
            },
            "type": "contourcarpet"
           }
          ],
          "heatmap": [
           {
            "colorbar": {
             "outlinewidth": 0,
             "ticks": ""
            },
            "colorscale": [
             [
              0,
              "#0d0887"
             ],
             [
              0.1111111111111111,
              "#46039f"
             ],
             [
              0.2222222222222222,
              "#7201a8"
             ],
             [
              0.3333333333333333,
              "#9c179e"
             ],
             [
              0.4444444444444444,
              "#bd3786"
             ],
             [
              0.5555555555555556,
              "#d8576b"
             ],
             [
              0.6666666666666666,
              "#ed7953"
             ],
             [
              0.7777777777777778,
              "#fb9f3a"
             ],
             [
              0.8888888888888888,
              "#fdca26"
             ],
             [
              1,
              "#f0f921"
             ]
            ],
            "type": "heatmap"
           }
          ],
          "heatmapgl": [
           {
            "colorbar": {
             "outlinewidth": 0,
             "ticks": ""
            },
            "colorscale": [
             [
              0,
              "#0d0887"
             ],
             [
              0.1111111111111111,
              "#46039f"
             ],
             [
              0.2222222222222222,
              "#7201a8"
             ],
             [
              0.3333333333333333,
              "#9c179e"
             ],
             [
              0.4444444444444444,
              "#bd3786"
             ],
             [
              0.5555555555555556,
              "#d8576b"
             ],
             [
              0.6666666666666666,
              "#ed7953"
             ],
             [
              0.7777777777777778,
              "#fb9f3a"
             ],
             [
              0.8888888888888888,
              "#fdca26"
             ],
             [
              1,
              "#f0f921"
             ]
            ],
            "type": "heatmapgl"
           }
          ],
          "histogram": [
           {
            "marker": {
             "pattern": {
              "fillmode": "overlay",
              "size": 10,
              "solidity": 0.2
             }
            },
            "type": "histogram"
           }
          ],
          "histogram2d": [
           {
            "colorbar": {
             "outlinewidth": 0,
             "ticks": ""
            },
            "colorscale": [
             [
              0,
              "#0d0887"
             ],
             [
              0.1111111111111111,
              "#46039f"
             ],
             [
              0.2222222222222222,
              "#7201a8"
             ],
             [
              0.3333333333333333,
              "#9c179e"
             ],
             [
              0.4444444444444444,
              "#bd3786"
             ],
             [
              0.5555555555555556,
              "#d8576b"
             ],
             [
              0.6666666666666666,
              "#ed7953"
             ],
             [
              0.7777777777777778,
              "#fb9f3a"
             ],
             [
              0.8888888888888888,
              "#fdca26"
             ],
             [
              1,
              "#f0f921"
             ]
            ],
            "type": "histogram2d"
           }
          ],
          "histogram2dcontour": [
           {
            "colorbar": {
             "outlinewidth": 0,
             "ticks": ""
            },
            "colorscale": [
             [
              0,
              "#0d0887"
             ],
             [
              0.1111111111111111,
              "#46039f"
             ],
             [
              0.2222222222222222,
              "#7201a8"
             ],
             [
              0.3333333333333333,
              "#9c179e"
             ],
             [
              0.4444444444444444,
              "#bd3786"
             ],
             [
              0.5555555555555556,
              "#d8576b"
             ],
             [
              0.6666666666666666,
              "#ed7953"
             ],
             [
              0.7777777777777778,
              "#fb9f3a"
             ],
             [
              0.8888888888888888,
              "#fdca26"
             ],
             [
              1,
              "#f0f921"
             ]
            ],
            "type": "histogram2dcontour"
           }
          ],
          "mesh3d": [
           {
            "colorbar": {
             "outlinewidth": 0,
             "ticks": ""
            },
            "type": "mesh3d"
           }
          ],
          "parcoords": [
           {
            "line": {
             "colorbar": {
              "outlinewidth": 0,
              "ticks": ""
             }
            },
            "type": "parcoords"
           }
          ],
          "pie": [
           {
            "automargin": true,
            "type": "pie"
           }
          ],
          "scatter": [
           {
            "fillpattern": {
             "fillmode": "overlay",
             "size": 10,
             "solidity": 0.2
            },
            "type": "scatter"
           }
          ],
          "scatter3d": [
           {
            "line": {
             "colorbar": {
              "outlinewidth": 0,
              "ticks": ""
             }
            },
            "marker": {
             "colorbar": {
              "outlinewidth": 0,
              "ticks": ""
             }
            },
            "type": "scatter3d"
           }
          ],
          "scattercarpet": [
           {
            "marker": {
             "colorbar": {
              "outlinewidth": 0,
              "ticks": ""
             }
            },
            "type": "scattercarpet"
           }
          ],
          "scattergeo": [
           {
            "marker": {
             "colorbar": {
              "outlinewidth": 0,
              "ticks": ""
             }
            },
            "type": "scattergeo"
           }
          ],
          "scattergl": [
           {
            "marker": {
             "colorbar": {
              "outlinewidth": 0,
              "ticks": ""
             }
            },
            "type": "scattergl"
           }
          ],
          "scattermapbox": [
           {
            "marker": {
             "colorbar": {
              "outlinewidth": 0,
              "ticks": ""
             }
            },
            "type": "scattermapbox"
           }
          ],
          "scatterpolar": [
           {
            "marker": {
             "colorbar": {
              "outlinewidth": 0,
              "ticks": ""
             }
            },
            "type": "scatterpolar"
           }
          ],
          "scatterpolargl": [
           {
            "marker": {
             "colorbar": {
              "outlinewidth": 0,
              "ticks": ""
             }
            },
            "type": "scatterpolargl"
           }
          ],
          "scatterternary": [
           {
            "marker": {
             "colorbar": {
              "outlinewidth": 0,
              "ticks": ""
             }
            },
            "type": "scatterternary"
           }
          ],
          "surface": [
           {
            "colorbar": {
             "outlinewidth": 0,
             "ticks": ""
            },
            "colorscale": [
             [
              0,
              "#0d0887"
             ],
             [
              0.1111111111111111,
              "#46039f"
             ],
             [
              0.2222222222222222,
              "#7201a8"
             ],
             [
              0.3333333333333333,
              "#9c179e"
             ],
             [
              0.4444444444444444,
              "#bd3786"
             ],
             [
              0.5555555555555556,
              "#d8576b"
             ],
             [
              0.6666666666666666,
              "#ed7953"
             ],
             [
              0.7777777777777778,
              "#fb9f3a"
             ],
             [
              0.8888888888888888,
              "#fdca26"
             ],
             [
              1,
              "#f0f921"
             ]
            ],
            "type": "surface"
           }
          ],
          "table": [
           {
            "cells": {
             "fill": {
              "color": "#EBF0F8"
             },
             "line": {
              "color": "white"
             }
            },
            "header": {
             "fill": {
              "color": "#C8D4E3"
             },
             "line": {
              "color": "white"
             }
            },
            "type": "table"
           }
          ]
         },
         "layout": {
          "annotationdefaults": {
           "arrowcolor": "#2a3f5f",
           "arrowhead": 0,
           "arrowwidth": 1
          },
          "autotypenumbers": "strict",
          "coloraxis": {
           "colorbar": {
            "outlinewidth": 0,
            "ticks": ""
           }
          },
          "colorscale": {
           "diverging": [
            [
             0,
             "#8e0152"
            ],
            [
             0.1,
             "#c51b7d"
            ],
            [
             0.2,
             "#de77ae"
            ],
            [
             0.3,
             "#f1b6da"
            ],
            [
             0.4,
             "#fde0ef"
            ],
            [
             0.5,
             "#f7f7f7"
            ],
            [
             0.6,
             "#e6f5d0"
            ],
            [
             0.7,
             "#b8e186"
            ],
            [
             0.8,
             "#7fbc41"
            ],
            [
             0.9,
             "#4d9221"
            ],
            [
             1,
             "#276419"
            ]
           ],
           "sequential": [
            [
             0,
             "#0d0887"
            ],
            [
             0.1111111111111111,
             "#46039f"
            ],
            [
             0.2222222222222222,
             "#7201a8"
            ],
            [
             0.3333333333333333,
             "#9c179e"
            ],
            [
             0.4444444444444444,
             "#bd3786"
            ],
            [
             0.5555555555555556,
             "#d8576b"
            ],
            [
             0.6666666666666666,
             "#ed7953"
            ],
            [
             0.7777777777777778,
             "#fb9f3a"
            ],
            [
             0.8888888888888888,
             "#fdca26"
            ],
            [
             1,
             "#f0f921"
            ]
           ],
           "sequentialminus": [
            [
             0,
             "#0d0887"
            ],
            [
             0.1111111111111111,
             "#46039f"
            ],
            [
             0.2222222222222222,
             "#7201a8"
            ],
            [
             0.3333333333333333,
             "#9c179e"
            ],
            [
             0.4444444444444444,
             "#bd3786"
            ],
            [
             0.5555555555555556,
             "#d8576b"
            ],
            [
             0.6666666666666666,
             "#ed7953"
            ],
            [
             0.7777777777777778,
             "#fb9f3a"
            ],
            [
             0.8888888888888888,
             "#fdca26"
            ],
            [
             1,
             "#f0f921"
            ]
           ]
          },
          "colorway": [
           "#636efa",
           "#EF553B",
           "#00cc96",
           "#ab63fa",
           "#FFA15A",
           "#19d3f3",
           "#FF6692",
           "#B6E880",
           "#FF97FF",
           "#FECB52"
          ],
          "font": {
           "color": "#2a3f5f"
          },
          "geo": {
           "bgcolor": "white",
           "lakecolor": "white",
           "landcolor": "#E5ECF6",
           "showlakes": true,
           "showland": true,
           "subunitcolor": "white"
          },
          "hoverlabel": {
           "align": "left"
          },
          "hovermode": "closest",
          "mapbox": {
           "style": "light"
          },
          "paper_bgcolor": "white",
          "plot_bgcolor": "#E5ECF6",
          "polar": {
           "angularaxis": {
            "gridcolor": "white",
            "linecolor": "white",
            "ticks": ""
           },
           "bgcolor": "#E5ECF6",
           "radialaxis": {
            "gridcolor": "white",
            "linecolor": "white",
            "ticks": ""
           }
          },
          "scene": {
           "xaxis": {
            "backgroundcolor": "#E5ECF6",
            "gridcolor": "white",
            "gridwidth": 2,
            "linecolor": "white",
            "showbackground": true,
            "ticks": "",
            "zerolinecolor": "white"
           },
           "yaxis": {
            "backgroundcolor": "#E5ECF6",
            "gridcolor": "white",
            "gridwidth": 2,
            "linecolor": "white",
            "showbackground": true,
            "ticks": "",
            "zerolinecolor": "white"
           },
           "zaxis": {
            "backgroundcolor": "#E5ECF6",
            "gridcolor": "white",
            "gridwidth": 2,
            "linecolor": "white",
            "showbackground": true,
            "ticks": "",
            "zerolinecolor": "white"
           }
          },
          "shapedefaults": {
           "line": {
            "color": "#2a3f5f"
           }
          },
          "ternary": {
           "aaxis": {
            "gridcolor": "white",
            "linecolor": "white",
            "ticks": ""
           },
           "baxis": {
            "gridcolor": "white",
            "linecolor": "white",
            "ticks": ""
           },
           "bgcolor": "#E5ECF6",
           "caxis": {
            "gridcolor": "white",
            "linecolor": "white",
            "ticks": ""
           }
          },
          "title": {
           "x": 0.05
          },
          "xaxis": {
           "automargin": true,
           "gridcolor": "white",
           "linecolor": "white",
           "ticks": "",
           "title": {
            "standoff": 15
           },
           "zerolinecolor": "white",
           "zerolinewidth": 2
          },
          "yaxis": {
           "automargin": true,
           "gridcolor": "white",
           "linecolor": "white",
           "ticks": "",
           "title": {
            "standoff": 15
           },
           "zerolinecolor": "white",
           "zerolinewidth": 2
          }
         }
        },
        "title": {
         "text": "Label: Miltank"
        },
        "width": 500,
        "xaxis": {
         "anchor": "y",
         "domain": [
          0,
          1
         ],
         "showgrid": false,
         "showticklabels": false,
         "visible": false,
         "zeroline": false
        },
        "yaxis": {
         "anchor": "x",
         "domain": [
          0,
          1
         ],
         "showgrid": false,
         "showticklabels": false,
         "visible": false,
         "zeroline": false
        }
       }
      }
     },
     "metadata": {},
     "output_type": "display_data"
    },
    {
     "name": "stdout",
     "output_type": "stream",
     "text": [
      "tf.Tensor([255. 255. 255.], shape=(3,), dtype=float32)\n",
      "(128, 128, 3)\n"
     ]
    },
    {
     "data": {
      "application/vnd.plotly.v1+json": {
       "config": {
        "plotlyServerURL": "https://plot.ly"
       },
       "data": [
        {
         "hovertemplate": "x: %{x}<br>y: %{y}<extra></extra>",
         "name": "0",
         "source": "data:image/png;base64,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",
         "type": "image",
         "xaxis": "x",
         "yaxis": "y"
        }
       ],
       "layout": {
        "height": 350,
        "margin": {
         "l": 0,
         "t": 60
        },
        "shapes": [
         {
          "line": {
           "color": "black",
           "width": 2
          },
          "type": "rect",
          "x0": 0,
          "x1": 128,
          "xref": "x",
          "y0": 0,
          "y1": 128,
          "yref": "y"
         }
        ],
        "template": {
         "data": {
          "bar": [
           {
            "error_x": {
             "color": "#2a3f5f"
            },
            "error_y": {
             "color": "#2a3f5f"
            },
            "marker": {
             "line": {
              "color": "#E5ECF6",
              "width": 0.5
             },
             "pattern": {
              "fillmode": "overlay",
              "size": 10,
              "solidity": 0.2
             }
            },
            "type": "bar"
           }
          ],
          "barpolar": [
           {
            "marker": {
             "line": {
              "color": "#E5ECF6",
              "width": 0.5
             },
             "pattern": {
              "fillmode": "overlay",
              "size": 10,
              "solidity": 0.2
             }
            },
            "type": "barpolar"
           }
          ],
          "carpet": [
           {
            "aaxis": {
             "endlinecolor": "#2a3f5f",
             "gridcolor": "white",
             "linecolor": "white",
             "minorgridcolor": "white",
             "startlinecolor": "#2a3f5f"
            },
            "baxis": {
             "endlinecolor": "#2a3f5f",
             "gridcolor": "white",
             "linecolor": "white",
             "minorgridcolor": "white",
             "startlinecolor": "#2a3f5f"
            },
            "type": "carpet"
           }
          ],
          "choropleth": [
           {
            "colorbar": {
             "outlinewidth": 0,
             "ticks": ""
            },
            "type": "choropleth"
           }
          ],
          "contour": [
           {
            "colorbar": {
             "outlinewidth": 0,
             "ticks": ""
            },
            "colorscale": [
             [
              0,
              "#0d0887"
             ],
             [
              0.1111111111111111,
              "#46039f"
             ],
             [
              0.2222222222222222,
              "#7201a8"
             ],
             [
              0.3333333333333333,
              "#9c179e"
             ],
             [
              0.4444444444444444,
              "#bd3786"
             ],
             [
              0.5555555555555556,
              "#d8576b"
             ],
             [
              0.6666666666666666,
              "#ed7953"
             ],
             [
              0.7777777777777778,
              "#fb9f3a"
             ],
             [
              0.8888888888888888,
              "#fdca26"
             ],
             [
              1,
              "#f0f921"
             ]
            ],
            "type": "contour"
           }
          ],
          "contourcarpet": [
           {
            "colorbar": {
             "outlinewidth": 0,
             "ticks": ""
            },
            "type": "contourcarpet"
           }
          ],
          "heatmap": [
           {
            "colorbar": {
             "outlinewidth": 0,
             "ticks": ""
            },
            "colorscale": [
             [
              0,
              "#0d0887"
             ],
             [
              0.1111111111111111,
              "#46039f"
             ],
             [
              0.2222222222222222,
              "#7201a8"
             ],
             [
              0.3333333333333333,
              "#9c179e"
             ],
             [
              0.4444444444444444,
              "#bd3786"
             ],
             [
              0.5555555555555556,
              "#d8576b"
             ],
             [
              0.6666666666666666,
              "#ed7953"
             ],
             [
              0.7777777777777778,
              "#fb9f3a"
             ],
             [
              0.8888888888888888,
              "#fdca26"
             ],
             [
              1,
              "#f0f921"
             ]
            ],
            "type": "heatmap"
           }
          ],
          "heatmapgl": [
           {
            "colorbar": {
             "outlinewidth": 0,
             "ticks": ""
            },
            "colorscale": [
             [
              0,
              "#0d0887"
             ],
             [
              0.1111111111111111,
              "#46039f"
             ],
             [
              0.2222222222222222,
              "#7201a8"
             ],
             [
              0.3333333333333333,
              "#9c179e"
             ],
             [
              0.4444444444444444,
              "#bd3786"
             ],
             [
              0.5555555555555556,
              "#d8576b"
             ],
             [
              0.6666666666666666,
              "#ed7953"
             ],
             [
              0.7777777777777778,
              "#fb9f3a"
             ],
             [
              0.8888888888888888,
              "#fdca26"
             ],
             [
              1,
              "#f0f921"
             ]
            ],
            "type": "heatmapgl"
           }
          ],
          "histogram": [
           {
            "marker": {
             "pattern": {
              "fillmode": "overlay",
              "size": 10,
              "solidity": 0.2
             }
            },
            "type": "histogram"
           }
          ],
          "histogram2d": [
           {
            "colorbar": {
             "outlinewidth": 0,
             "ticks": ""
            },
            "colorscale": [
             [
              0,
              "#0d0887"
             ],
             [
              0.1111111111111111,
              "#46039f"
             ],
             [
              0.2222222222222222,
              "#7201a8"
             ],
             [
              0.3333333333333333,
              "#9c179e"
             ],
             [
              0.4444444444444444,
              "#bd3786"
             ],
             [
              0.5555555555555556,
              "#d8576b"
             ],
             [
              0.6666666666666666,
              "#ed7953"
             ],
             [
              0.7777777777777778,
              "#fb9f3a"
             ],
             [
              0.8888888888888888,
              "#fdca26"
             ],
             [
              1,
              "#f0f921"
             ]
            ],
            "type": "histogram2d"
           }
          ],
          "histogram2dcontour": [
           {
            "colorbar": {
             "outlinewidth": 0,
             "ticks": ""
            },
            "colorscale": [
             [
              0,
              "#0d0887"
             ],
             [
              0.1111111111111111,
              "#46039f"
             ],
             [
              0.2222222222222222,
              "#7201a8"
             ],
             [
              0.3333333333333333,
              "#9c179e"
             ],
             [
              0.4444444444444444,
              "#bd3786"
             ],
             [
              0.5555555555555556,
              "#d8576b"
             ],
             [
              0.6666666666666666,
              "#ed7953"
             ],
             [
              0.7777777777777778,
              "#fb9f3a"
             ],
             [
              0.8888888888888888,
              "#fdca26"
             ],
             [
              1,
              "#f0f921"
             ]
            ],
            "type": "histogram2dcontour"
           }
          ],
          "mesh3d": [
           {
            "colorbar": {
             "outlinewidth": 0,
             "ticks": ""
            },
            "type": "mesh3d"
           }
          ],
          "parcoords": [
           {
            "line": {
             "colorbar": {
              "outlinewidth": 0,
              "ticks": ""
             }
            },
            "type": "parcoords"
           }
          ],
          "pie": [
           {
            "automargin": true,
            "type": "pie"
           }
          ],
          "scatter": [
           {
            "fillpattern": {
             "fillmode": "overlay",
             "size": 10,
             "solidity": 0.2
            },
            "type": "scatter"
           }
          ],
          "scatter3d": [
           {
            "line": {
             "colorbar": {
              "outlinewidth": 0,
              "ticks": ""
             }
            },
            "marker": {
             "colorbar": {
              "outlinewidth": 0,
              "ticks": ""
             }
            },
            "type": "scatter3d"
           }
          ],
          "scattercarpet": [
           {
            "marker": {
             "colorbar": {
              "outlinewidth": 0,
              "ticks": ""
             }
            },
            "type": "scattercarpet"
           }
          ],
          "scattergeo": [
           {
            "marker": {
             "colorbar": {
              "outlinewidth": 0,
              "ticks": ""
             }
            },
            "type": "scattergeo"
           }
          ],
          "scattergl": [
           {
            "marker": {
             "colorbar": {
              "outlinewidth": 0,
              "ticks": ""
             }
            },
            "type": "scattergl"
           }
          ],
          "scattermapbox": [
           {
            "marker": {
             "colorbar": {
              "outlinewidth": 0,
              "ticks": ""
             }
            },
            "type": "scattermapbox"
           }
          ],
          "scatterpolar": [
           {
            "marker": {
             "colorbar": {
              "outlinewidth": 0,
              "ticks": ""
             }
            },
            "type": "scatterpolar"
           }
          ],
          "scatterpolargl": [
           {
            "marker": {
             "colorbar": {
              "outlinewidth": 0,
              "ticks": ""
             }
            },
            "type": "scatterpolargl"
           }
          ],
          "scatterternary": [
           {
            "marker": {
             "colorbar": {
              "outlinewidth": 0,
              "ticks": ""
             }
            },
            "type": "scatterternary"
           }
          ],
          "surface": [
           {
            "colorbar": {
             "outlinewidth": 0,
             "ticks": ""
            },
            "colorscale": [
             [
              0,
              "#0d0887"
             ],
             [
              0.1111111111111111,
              "#46039f"
             ],
             [
              0.2222222222222222,
              "#7201a8"
             ],
             [
              0.3333333333333333,
              "#9c179e"
             ],
             [
              0.4444444444444444,
              "#bd3786"
             ],
             [
              0.5555555555555556,
              "#d8576b"
             ],
             [
              0.6666666666666666,
              "#ed7953"
             ],
             [
              0.7777777777777778,
              "#fb9f3a"
             ],
             [
              0.8888888888888888,
              "#fdca26"
             ],
             [
              1,
              "#f0f921"
             ]
            ],
            "type": "surface"
           }
          ],
          "table": [
           {
            "cells": {
             "fill": {
              "color": "#EBF0F8"
             },
             "line": {
              "color": "white"
             }
            },
            "header": {
             "fill": {
              "color": "#C8D4E3"
             },
             "line": {
              "color": "white"
             }
            },
            "type": "table"
           }
          ]
         },
         "layout": {
          "annotationdefaults": {
           "arrowcolor": "#2a3f5f",
           "arrowhead": 0,
           "arrowwidth": 1
          },
          "autotypenumbers": "strict",
          "coloraxis": {
           "colorbar": {
            "outlinewidth": 0,
            "ticks": ""
           }
          },
          "colorscale": {
           "diverging": [
            [
             0,
             "#8e0152"
            ],
            [
             0.1,
             "#c51b7d"
            ],
            [
             0.2,
             "#de77ae"
            ],
            [
             0.3,
             "#f1b6da"
            ],
            [
             0.4,
             "#fde0ef"
            ],
            [
             0.5,
             "#f7f7f7"
            ],
            [
             0.6,
             "#e6f5d0"
            ],
            [
             0.7,
             "#b8e186"
            ],
            [
             0.8,
             "#7fbc41"
            ],
            [
             0.9,
             "#4d9221"
            ],
            [
             1,
             "#276419"
            ]
           ],
           "sequential": [
            [
             0,
             "#0d0887"
            ],
            [
             0.1111111111111111,
             "#46039f"
            ],
            [
             0.2222222222222222,
             "#7201a8"
            ],
            [
             0.3333333333333333,
             "#9c179e"
            ],
            [
             0.4444444444444444,
             "#bd3786"
            ],
            [
             0.5555555555555556,
             "#d8576b"
            ],
            [
             0.6666666666666666,
             "#ed7953"
            ],
            [
             0.7777777777777778,
             "#fb9f3a"
            ],
            [
             0.8888888888888888,
             "#fdca26"
            ],
            [
             1,
             "#f0f921"
            ]
           ],
           "sequentialminus": [
            [
             0,
             "#0d0887"
            ],
            [
             0.1111111111111111,
             "#46039f"
            ],
            [
             0.2222222222222222,
             "#7201a8"
            ],
            [
             0.3333333333333333,
             "#9c179e"
            ],
            [
             0.4444444444444444,
             "#bd3786"
            ],
            [
             0.5555555555555556,
             "#d8576b"
            ],
            [
             0.6666666666666666,
             "#ed7953"
            ],
            [
             0.7777777777777778,
             "#fb9f3a"
            ],
            [
             0.8888888888888888,
             "#fdca26"
            ],
            [
             1,
             "#f0f921"
            ]
           ]
          },
          "colorway": [
           "#636efa",
           "#EF553B",
           "#00cc96",
           "#ab63fa",
           "#FFA15A",
           "#19d3f3",
           "#FF6692",
           "#B6E880",
           "#FF97FF",
           "#FECB52"
          ],
          "font": {
           "color": "#2a3f5f"
          },
          "geo": {
           "bgcolor": "white",
           "lakecolor": "white",
           "landcolor": "#E5ECF6",
           "showlakes": true,
           "showland": true,
           "subunitcolor": "white"
          },
          "hoverlabel": {
           "align": "left"
          },
          "hovermode": "closest",
          "mapbox": {
           "style": "light"
          },
          "paper_bgcolor": "white",
          "plot_bgcolor": "#E5ECF6",
          "polar": {
           "angularaxis": {
            "gridcolor": "white",
            "linecolor": "white",
            "ticks": ""
           },
           "bgcolor": "#E5ECF6",
           "radialaxis": {
            "gridcolor": "white",
            "linecolor": "white",
            "ticks": ""
           }
          },
          "scene": {
           "xaxis": {
            "backgroundcolor": "#E5ECF6",
            "gridcolor": "white",
            "gridwidth": 2,
            "linecolor": "white",
            "showbackground": true,
            "ticks": "",
            "zerolinecolor": "white"
           },
           "yaxis": {
            "backgroundcolor": "#E5ECF6",
            "gridcolor": "white",
            "gridwidth": 2,
            "linecolor": "white",
            "showbackground": true,
            "ticks": "",
            "zerolinecolor": "white"
           },
           "zaxis": {
            "backgroundcolor": "#E5ECF6",
            "gridcolor": "white",
            "gridwidth": 2,
            "linecolor": "white",
            "showbackground": true,
            "ticks": "",
            "zerolinecolor": "white"
           }
          },
          "shapedefaults": {
           "line": {
            "color": "#2a3f5f"
           }
          },
          "ternary": {
           "aaxis": {
            "gridcolor": "white",
            "linecolor": "white",
            "ticks": ""
           },
           "baxis": {
            "gridcolor": "white",
            "linecolor": "white",
            "ticks": ""
           },
           "bgcolor": "#E5ECF6",
           "caxis": {
            "gridcolor": "white",
            "linecolor": "white",
            "ticks": ""
           }
          },
          "title": {
           "x": 0.05
          },
          "xaxis": {
           "automargin": true,
           "gridcolor": "white",
           "linecolor": "white",
           "ticks": "",
           "title": {
            "standoff": 15
           },
           "zerolinecolor": "white",
           "zerolinewidth": 2
          },
          "yaxis": {
           "automargin": true,
           "gridcolor": "white",
           "linecolor": "white",
           "ticks": "",
           "title": {
            "standoff": 15
           },
           "zerolinecolor": "white",
           "zerolinewidth": 2
          }
         }
        },
        "title": {
         "text": "Label: Relicanth"
        },
        "width": 500,
        "xaxis": {
         "anchor": "y",
         "domain": [
          0,
          1
         ],
         "showgrid": false,
         "showticklabels": false,
         "visible": false,
         "zeroline": false
        },
        "yaxis": {
         "anchor": "x",
         "domain": [
          0,
          1
         ],
         "showgrid": false,
         "showticklabels": false,
         "visible": false,
         "zeroline": false
        }
       }
      }
     },
     "metadata": {},
     "output_type": "display_data"
    },
    {
     "name": "stdout",
     "output_type": "stream",
     "text": [
      "tf.Tensor([255. 255. 255.], shape=(3,), dtype=float32)\n",
      "(128, 128, 3)\n"
     ]
    },
    {
     "data": {
      "application/vnd.plotly.v1+json": {
       "config": {
        "plotlyServerURL": "https://plot.ly"
       },
       "data": [
        {
         "hovertemplate": "x: %{x}<br>y: %{y}<extra></extra>",
         "name": "0",
         "source": "data:image/png;base64,iVBORw0KGgoAAAANSUhEUgAAAIAAAACACAIAAABMXPacAAAjQ0lEQVR4Xu19aZBdx3Xed073Xd42+4KZwb5vBLgIhLiKpERJtK2tFMmWY1lx4vxKlVMpZ6n81R9XKoldqbJTlVSq7Ngux7EtWxYla7EkiqS4CFxAAgSIHRjMDDD7m3n7XbpPfvR9A2BsV0ISmIXBVw+Di/vuvdPvfGfv7gcSEdzF6oGXn7iLlcVdAlYZdwlYZdwlYJVxl4BVxl0CVhl3CVhl3CVglXGXgFXGXQJWGXcJWGXcJWCVcZeAVcZdAlYZdwlYZdwlYJVxl4BVxl0CVhl3CVhl3CVglXGXgFXGXQJWGXcJWGXcJWCVcZeAVca6J0BE7GI5fv2nEkfL31sPoPW+NLFVq9qffIeP/Yh27pGnfykc2rj8irUNvfzEesPYf/utkflpP2CaHm9cOWt6+lQQLr9oDWMdu6BWrbrwsxdyF8+GScRKQSzOvY2otfy6tY11TMDMCz9Y/Nu/7vQ0eRoAieRqc+nYheXXrW2sSwLE2rSyUPvmH4bXruR9D1qBGURcXcSV82mtsvyGNYx1SUB59NK1b/1pkaigFSsmZhBAAFPw+k/iyqJYu/yetYp1GYQnf/+/BvPXOpUKPEWKb2gRQTyt33kNg0PrRbfWxyiXEDcb828fw/j5MIkCpbRSYAYYIAAAEUGPX7QL88tuXLNYZxZw/dUXmz97Lqc4UOxpRUoJMxiUyR9g4rELydQEdfcxrwP1WgdDdBARmySTf/5HdOHdgNlXrJmFCEQAiUBE4GpKhv7xN9aF9LGOCIhr1ZmffD9fX/AJmlkxMxMAgRO9QCAQAYTIzkzYt15a/og1iXVDwOi3vzH7g2+Gmnwmj0kRCUEIcMpvLazNaCAiUfb029KoL3/K2sP6iAHN8dHFb/9Fh0+Bx9oRwECm+5YsAAgElrKzBBm9YCsLKl+4+TlrEOvAAupXL80/9528D0+RYubM7wMisAJjxVgxRoyBMWKsWAsIonr81qvLn7X2sBYtQMQScWKicv16mOaiv/7j6tS5Xs9XmqJOXahJdYMXgbvnLCCAhUAYYBJ2yRBgLafNxsQVNT/j9/Tf8vQ1hjVHwETlirHxRHR2OhqdrY6lYbp5y3zzcLg4WNp5Np7f7Cd5lYtlZsTvKtud70TbTkb5mpAIjIgFmATOH1Hpypnm5ITX3UdZlroWsVbmA2ITVaKFt6aeH4suzMkYNIQNKVKaWbHSTJoVEyvK3JAiImIiITpwrLn1dNR7NSEjECd9kdSaJIkf//nwU1/U4dptUK++BSQmHl+8crl2+mLtnQVcSzhSmolJKWZHgGalmDWzImZmTcxMRAQQEQmN35OvbwpVjNJUOnC+NXQ5OvFEcfBsa8M5YPySuXJW7z28/LeuGaymBYjYRqv+1vVX366/sCgzhmPWxIqZiRUrRaxZaXYcsGZmUh4zEYEZoHYTjgACsQVZGE1Bw0QhGZbcbLr3WG3ojJf79K96ew6RUstHsAawagSIyLn5E29PvXyi/rLnKdaZyrcJWJK+Ul7GQVxNZ8/V/LzuGil09IaEdh0MoqwX1H42IBCx0jkVHfjR4tBcDx95Evc+RPnSTZetCawaAWOzo9+Z+J8T0QXlEStWTvcVOfV3zkf5SmvFmpSnWLEiSht2cbxZHmuYyHZvLPRvKRW6gnZaegNZSQyxsAYycKE5cp6Ge5/K3f8JT/u3XrvKWAUCoqQ1Xrv8B+d/29im1syatfPvmpkzApQm5bHylPKU8lgpVooZxGAGE6g+E81cqk5eqOQKXvdQfvM9vX5et3uiWR4kEAuxkBQ2hRVjtphD++nRAW/LrSNaTaxCED4++dKJ6VfjuO75ipiYCUTgdlBlIgaxOyBmOFboJukzqKM/19mf3310w+TZyh/+6x/vObpl12ODI3u6uzcUAAhAgIAAIQgABlKWMTllWvLxtUTAilbCztr+5tKfnK+ezDIZckIHEYizf7KT/tIBZ0J3vn7pgEAATZydTmfVLxz4lY2N+175i7NnXrk+eanSXEwISxZDCqzAmhQpuRqc+Mvab19qnbSyJmbNVpSA6wvjz576k1paayt4W9MJ7MhgIpXpfvutzDIALCU8hPYUJFDoCiOq2dTGE2r+QmXHgf4w8OauVsdOzc9fb6RN4zhw1qOItaeq/vQVe6KWLtw6utXBihLwt6PfPDbzk3aqA8oAxwDI+RwizhKh9nl3dyb99jERCILNB/snR2eOHDlyzz33vPv8tekrC/3Dpe339A9v7SSLaxcWxk7Pz43V05Z1NCgwaVzWx79X/u9NU7tpdKuDFSJARGbqk8enX6ybRSdxaksUcL6fMl/PyCyDaEnezp07n9N2PtmNzWq876ktv/u7v0fE1Wihe1OHEAQUFLz+kdKOewb6horNhfiNv75y4m/GJ09X2JIm1qwqpZlXW9+ajEazR60SVigIz1SmX772Q2SOmQRiQSwQK8IQEREBGAQids7H+Z1M3EsCv+mZ7nhwS9fO+4Zf/96rF86f3/Poplql0dmdc4mdy0SL3WGhOxjZ3z1xrjx+cuHMc5NeSTbdM1DarN9tvIEg2DCwmjF5hSzg9PXjb17/qYu7xQYG5+2ei0nXgrEE44R/azLs1L+t6+49d3TLdQQI5HP/6ujDv755IRj75D+/v3ewo33FDbIEYEUj+7qPfHnrQ7+6PQy9n3597Ld/7q9aSePY9A/OzZ4wNl26eIWxEnXA2MKVZ9/9k3PVt7SiYoIvPVu3geqIKLQ8M+xd3h2cPuBJqLTHrujVnlKuMnAtICYFZmIFdhHVmQWBGACIhAhgsIVl4nYW6tgSC7iKzE2YGbEnvn955tu5j3/msTM9Pxo62NMTbXxIf2GosJXoZgNbIayEC3pz/OXx2iUwtl2Jd181YUu8WDQTMTZO2V0z8exmb9rPitdbnbwrp0goq6oI1iKbbifAOhMmCGBhCdQ2EXE3t48zJRMICKWBcMfH7zt34mJ8GES0gOkL8fGBwkYNz122krjjLsiKfWXiRw1TVRb7T8dbRhMGEcAE5UKCpi99Pzl40Vq7ZI2Saa+Tf+aiRGBtW5eXNNrVuu0Lslf2iOzkTQwAAAZ3dv/Gr/37Jx95OmkZIkpVdM4cm4jO33TJyuGOE3Di+muJaRXr6QOnWhtmjcsqicCAItJEiigX09Zrkm+KWCexTHgAnPgFYmVJ1mJh3U935mZWHAE3UQLHY/snBOLl9D/9L0//9u/855f+7ASIiClWzR+V/zSV5Ma4Vwp3nIC56myg87vPRXtOR0QASAgAiEgza8VMzKAt0xTevMPlJskBIjZTbSvWSdlkL7ca4hbLEIi0mWiTccsxeTj8uS2tkcmDn9pCECKQooSi89W3bhrBCuHOxoDUJDkJq+ni3vNRLmVX9CJLOkEERUQMAaxCIaHFm+4VAYk4ibKCGBEQMxkLglXMIkIgxYpclUDMwFJ8vsmKMtHfzITXoY/+yp7hfT0icCNJqDkRX9hhD/kc3DSKO447S4BWXhqkwxMt34Loliwj8/dtHS/VZGQa10YgAmtFrCWGcSZDENdXEwBCRNYKk6sVQESaWHlMiljII60UE0BgFs4k7lbOLVmJiCXZdF+/mHbgEZDCpcbJBzs/+aEiAMCJ6WNdlTT2yI/FZYcEIjiBikAgQlZg7bZxc3ovt1hEjFiJG6kOde163TYMF1XlQsXT7Hv+9qmwslVN+a3Nc0G8Qc8NpCH83s6+isxprTztMUMrFTekMWt7N4ZhXt/sgiysAGIlk/5S1BFJ0Tox+8KjQ19Y/hnuJO4sAYut8ujshf6i8pKUAAiwZAUEERgrTEJsYYhizDRM83wjZpn5wTX0+OUfTnp9fv1chZhYUzLZKvbkpThwtHPz7g0hWZNfkMWNsnhQf+Er/3YhN322+ea1+hVWLJxGMkPFuB5Z43tMlDZFB8paYR/WZqIXK9aKmCzGtNCwpFpJK/RWbhL/zhKQU4VDQ0cnr3xXpQLmTO3bHFjAilhryQBCz700duKFhbkzZQLFCzEzsQhdJLRTBSaqlZuvzF+u9UWf0Hs6/RBaOq+jVKczvT/e//lnnujaQV2Yiq4uxmUmPR9OXIsvXJo+qT1dmYiDourYECgwnAVYEXszGRDBqegnH6EngQ8LAZ72yo3y1qsJOV8DtJ05WYEVMVYIFgQFbPWC+hvlNE4JYLfE6iaqqF12MfE7s9ebafrlXYcD1zKt1Gt//FeXS8VNj320WCwMBpsHg81W7IjdejB8JC0ll6OTZ4ZeG22dqS1a7SmtmJjABMmYsMZaI2IlFTtaf3df54M3f4o7ijtLQGqSkXDEijEkJEICgrCQIPvsRgQCGJtYa62pxmnbQwFtibszAheuM2uYblRHK/O7u/oBEIE9NffSsXxHyTt6v2bFBCbOqQIUROSw99ih0mPlZOrd6rHTtdfKZlJrpXwmJrIQEWvFplZEmmlzvjljS5azcvuO484SoFh3dPa+tjnYNdYUDREIiYWIFUtiyK2rZRAs8OrEfJY5LnUi/g6ySSyiatx6fXqsNyj0hHkAQsDpc6Oj4zNzc8MPPtDV0+VrTXBlFrlg36n6j3Y882DHM5dqp16c+9Zs66rnK2dC1ohLh4xNK81KYpJgpXKhO8szMxO4UQqmu8g52ywdAYzAWEnFptamYiHy2tzs/u1xYtDfnW4bSayFMUgt3ArQJbhjAc6WZ0jg0lkSAJB6o/HtH058+wfXL40u1Oq1VqsZx80ojpI0SpJWFDVarfLC4vwLV6Ofzlbnms1GkkTGpFasiIhYEcGUvRx4KyR94M53Q2tR9Tef/ZWnXmvsHLd+e/GDUqyJFLFiUszKM0nnzJvq7Xv3RItVGr3uHdyZVOt4/vX8i2/mphc830fcojQBblIZAo4MbPr5LfuyLNL9gVjAmiR/cF/H0ftz9x8ChCu14vCGxStj5dGrcxPXp194pTkzJ5D6Y0Hj03mv33chxxprEntf4YnHN3y+GHa0f8+dxZ11QQDiNHpo08fPTX6vdz7qbVhiMiJkxTAysVlLQ1e9odGjxSYT8n0Y7jcEdOTxlWeqv/Tp6sVx762L+bcvFObmVbMmtapYQwKISF+uIBAB4aYgAQFIVU+dWThx2ioVHNrbml+IJme4o1SfmzNRYtKEAAHUycj0Sfw48jmPKKvWbKOu3O6DFcEdJ6Cn0BdJOtUfXh4y3ecSQ0JWDKyAhMGWELbC3SeIRGUTw9nLQYB9W5M9Wxa/9MTi6SvhifP5t86GCwuoVtFqYjBXFFmq68jZs8ufAAKzWFM/fjK1MNZG9bqIFZtdARFvQfr/rLlQNvEnS7rTI0An1kTjnPCKdabvOAEAPrn7Mz8be+HYvWF31WydMmCIsLKwJHP783pzvENrbZNsDQnBpYjktNSptkAEh3e2Dm5vffFJHD+Tf/mt3JmT/bGxipz6Z+0fAcRNCtz0clM2Lk5kVEEgRBDLlHsrbZVayZOKNcWQjmMXrHodRx6/+SPcOawEAd25voOD952efuP4gTDOxzvHjC+02Ksb/frsQwW9fVPx7NjI/Fm35ctNEmR9taVHuNAtsAJP4aFDjQcPNubL1fKo2AlulXupHcmICE7HxQkaAMEFagi77RyOLwYZIhFvzsrzzdpDfpDXKWH3RdM4UA3imP2VWMS4EgR05brvHTpydvrt6R4zt6HwyhN626Slgpob9pUvhVrt5P3PlE92Hpp5TcE65yGUlQAEp7MgAQnYQhiKYQT9fXFPz9lo/9W5dw8uvLsvTbTr2xERCYiIWMgSAQyyEAIRCQssgSUr7gAQSM+a3LO15heK+65KGItcOcsf//lbP8SdwgpFmyd2frov1w8LSYFUJkb01KBniYyRZiO5OlW72rOlXBoSggFSQsowClbDehANeDdepKE8eAqBhq+RC5rd286VNl1mLyGgvaDC8QiiLEC0jYlcZaAISogpW/QIpvC1hKftngtpKibcvP2W0d9JrBABTPyLh3+9y+sRa21qrRFjrOuFpbFpNZLJXO8P7/vFsxseiJVnNYyG8WB8mAAmgA1gA0gA+EAAeCAfyoOn4Xsodi0OHX15w0de02GyJG4XGghy44QQCQikhCjrZ7vl2GAQi/ROJLsuJ7GVZHjbin3dx0q4IIdtfXs+svHRF67+wNjYGMspWSJW7LoR1cVms5mc6tmlcrRp/oSmmDRsOywLZS6IPJABGcACBmzAqYvYpmfbecDOnjrUqhQhAEBEgBAJJKOEhQBYIhYLAiACMIjIeltpz+U4AtuhzVES00q1Ilbo1wAohR0PbXuyO+wzqU1Ta1JrjKuOYa2YxJokvYaO1wYeeWPgE4lVBjCC1L2AFDAEQzAKxoP1IG2nxB58D2FoenedK20ZI7JoK7+4lMhpPoHIrboDM3HmjpiJJED/Rt4ac2qMDG3J9/QtH/0dw8oRAGBj99avHfkXgJjEpqmYNOtBWismtWlsmvV4cq76bmHTm5ufnspttgYmhUlhEhiD1CA1MBZGYADLsApWZxx4GoHGhsM/Gzr6ChgQcY2PG+6/7ZraXLhVkEg3an4i2NWQUs3GAA9vKQwO3zLuO4nbRkBqUyNm+dlbYY3d3rPnvsGH0sSa1JpUTLsPbK2YVNLIpJGpVNNT3s4Xep95O/xoNe20CdkES6+MkhRpu1NkCFZBNJRG4KE4OFXaeFXIusxUhATIJt+dKWRpKBGIgOTpwtYS95QlTo3ec6hz7wEVrFwv6LbFgNnK1ERyflNp10A4suytJE2ttc+9+bJA/sM3fo+C2sAWdLrdSEyGLIi53elMYUXSykK9oTnt3GVDf0/5ZCEuW8pU+UaGAxBcSY0sfSVohXxHpW/fuwvT3VILxVUQ7o/L/5303bmQaof93Gf69n79shKKrR184pn8CqZAuF0EGGuuzly5tOX5pNbo9vs9vlHCVOq1F08e+8uffPfkxdOjs+OiRCuOqVTo8ElZZsoEqhmAzTxHVnYtcHCq7/DErkd6F69smDi1afa0ltSlNXAEtB0MOelaQMCMUv/ktieeO/OdZ8SlWoCI66recEuiYB8t+p8tbLqYhDXTAnP/htIDDy+NfGVwewhoJLWoe7YeVyb1uZp5oJsHl9763W/+wf9+7tvT5enUJKyYQMbKpfNVP1A79nambpkcEcgqEIgBslaQGhERK2lary02Z4u9l/sfP0e79s0eH4gnQkRAlmDC/XQESGZHBPj5WmnjaPnqRgHEtUid7B2sRPd4pc8NBFGl58dTTZOqvfcWjnyMyD1y5XB7CNDkjdUvG19q/syZ1rGHvM/UmvXnjr/yO3/+P964cEJikyuErBnIHIe1NDHWHBjOdXT65FwxMQBFQgz3/ScEMa5Pb0WqrcRn29+vcvea6XDz3DnFKSgTpzgLAGTJHRFYJ8Wha+VrAzbW1i11cablkWzy8Hgp/+WBVrnR80eTpbOp3f/Ahq/8en7Dcue5Arg9BFgyp2feHOnoEmWOlf92d/iRb/74hT/9ybMnLp1GavXN3V0CACGqVNKFclwseia1bsEWgYkEALF1c2UEQUJiAQuxVqya6BhaHN521Tw+cv308MTpYnXWEiyxEgs4FwMRWAERSkPj1hx20rcQGLH359NnSrIziDvRnF4YPKU2q/2FT+/re+ypVZE+4Bq4HxivTPz4W2O/3zuUK3XlW404uTDw9d/6czACpaJmK8gFrNnpPghuBwwYxZJ36N6u3v7A81hppT1mTVpz1iJwM+ec7ZZhlW1c1ZqDnJfPB8V82L94rW/8NCbnK6pY8OOtixej1Kv6xa5othmpedvdONF/5doBM8DcFPrH/Y17NMgszkWNahTV4l/u/Nr2/kNhT98qbqK/PRZQrsyZmq2U6yL2lW9PvP36z0BQTGKFmFlx5q0BgEAEBRDXGvbc+erBgLu6fbJirCXLxlgFzspVkLUgEbd8UcRaC5vaNLXNRrKg6nO5jnD7Y2of25mFFucvbvh8cfzKTF35mzd0T45ONVh/arhxuSn9PnJcj1vRVL1VS0xM3Wrwif4nD+x8+qYPsTq4DQQYa3Z07f3GO/NFCpI4feOVyXI5ApMiMnGqtboRK8n1mp1iE5gXKum1yahY0qxILFsjRGRJGBASsIu0xFYgyCZuU+LUsmKjKU1MrUpExJqRtq6Mtjyv2xSMmaxM+f2JSpPZCnWitdhAGcZYk1pJzaG+Rw/2Prin+9CyD7IquA0EKFbXK+ONSqs63Zy8Hs/PxaQIBAIZk3ruq2KyVMdJv31AkhpZGG+q7TkR5UKqSJbdiAgsiEjY+XSBgC3AYi1xKpSAOLMsl72ISEMiEYiVmovfFrBirVhrQ871qJ4ntnzh0MhRxavmc5bhNhAAoLcRPHUs/P3rVy40hDwFAIRUrPI9YmpbgAID6qZJL8iOenLoej3fSY2jA0A7q8n+IhAkm+BysRsGQhYgsXRLxihAluK7lNMJ32Z0BvD2dz2wq/vQ3p77CkFx7Ugft4WAuXPvvvrVr7VAx4dCrbQTiwiYSQTGilrq0GcHLERaJBD6/NXK9lRN1cyZyIiX6TMB7dTS3ZadyPjJGHJZUnZKxAld3IG1QsIAAhUc7H/oaM+TPaX+QlDS6jZ83tuL2zCgi999ViwWPGxOcC3MJEZEChQlqQ40CIDLgrJ3d9SiAwuth+eaPaQCheL1RhQoVz0TbnTx4YgAqJ3yQ5xSQyBO+k7mcAvcRJQoIrW/83DAuU0dO7b37h4qbHFfi+AesNZwGwi48N1vAtJrsD+yYyFAUCQaLCAV+tZaBeVmZwnoSdLNTfP0ZH1TioLyIKgm5vpgqBMLLyPJSdxR4Hy7+1vcuczVOAoyrVfwtOhNhZ19hf7P7f1aPaqVgk634f6mka5FfCACFpvld8++dC2ZLJhUQT9TaT3WjF8vescLejZQ/amJomQ+p4dj29IYjs2+Zrq1mXbH0isIFZvU1lLTELu4vegE1RY7HA9Oa7MAC8Bpv1P9dnFrrfR4g9tLew/0Hxnq3DhQHALg51eunfkB8YEI+M6ZP3tn+nV7X48/XmdrFKliYp9aiD5RiSeDqOzxSGwrlQieHmomrFTeIiQAEKAWm0Zk8ls61P4u2tUlmbgzrSfKXM8N1yGCJUdvYa2F5YDyA8HIU9s+u3vgoKf8ta/vfxfvk4DUpNVo4cWr37U2tQ/3t4bCnpdmOs9UKILSrIn6jRli4zENEFFiNClrQLCxsBGTptKM7L1fvWfkoZE3usnMLChrs5wy8+0ZF+0oe8PnWCOwUBLs7r5nX+99hwaPFIOO7KJ1iPdJwIWZU6+O/ZhYAJIUtY15+2jfRp+ao41k0aTW6kiMxymDSYgsBETEGmmUljaWNt0z+JFfO+zlfQPsT5KfziywIiI3TwhyMdYC5GZuKYuwItYKW+4LRz63+6vDpa2l9Sx6h/dJwPcvfWO0epY12RQgGEJ5Qzj+zODey42JBtef3hJerHovT9JsgzzVTao6trD7yc3NhWjrA8Pdmzv7tnUTkcQpEy024paI2zRBS2mnC7POJMRmUTcyE5Otjw4//i8f/jfLB7Ru8X4IGKtcvFg/7QXkWSUkxpCISCoXhfOPbFL9xaAz5x0a0F/erWtJeKW6p+B3TzQKvXlPa6VYMdI4ZddiYxr2eCT0p01K5PpuQBZtYUVgYcWCuPP47PDfXH2+J/dP/t3KbV9ZAbxnAsZmL784+d0gYOW5PS/WpGSNUkpt3DZgO0Ov6OVynu97Winkw7Sv8LMovlfzjooxxri8RmBZiIjYUo/inb4/00whWWElcHmOiEgnq/i1mb6fTnZfrqVaHers/dQDH1s2pHWN90zAuZmTZxff9EKtPBJY0iJkw1yQL+YKXWFY9HMFP8z5HjQJpTApLIw9zXYIkjfWgAQkQsLk2v8s8tFc7p1may41zKSY4IRv5f4w92Au1/1w8cWXZhcJSswX9x2Nmw0/l18+rHWL90ZAuTpbbk43bT30Pe0zmEkhTSUf5nPFwM97QcELQ99nT4HdFKCJTdRM4mZcLyd+RygEBeV8uhATkYjtYvxGT9dbzeh4s3U9STf5Xknzbt/b4QUFIhMgjo0VsMBOTTXnZv2Nm5ePbN3ivRHQXerbP/TA2LULVZ7s5aGQcuPmoibyAu0F7PnKC5RWShFDIGSNmLiVtBrJ9ko8t9hsxWlfdz70AZBbMktMIoCFIhwJgyO5oJwagfRqFRlhaxORpJX07e5avFohofLbb5nqoojcqA/WOd4bAQC29ezZXz+iyl35gJTxmmkyHYxqj7WnlM9MigjuWxkSMVGcxlFaKbe2NeOuXp9JR1Es1uZDTwTC7XU6BAK5bS8lkAjixEAktbAiUFQazoNhBK167cQf/Y9Hv/6ftF6pHRR3GO+ZgFyQ/9TOL8ZJPDF39dLMqQlzORd67rudiQgkRsTCGLFRlET1OIg67vVHivlyVLvicZwYjE/VrFBvZ66/Jxf4boNFRgLgSgBXdokViFhjzMhDgyf/4mxSTZjV7JXLlbHRnm07bxnWusV7JsDB017NLJ5pHtdL327ORCBrJSUjgiROo0bSWIyf7vjSlp7tydzZmYvPRrXLWmHToN9oSaXenJ6rlvJ+V2fY0xm6fbku+3QH1opYk0KqHblyV4DvfZH++GL3T5ORp3/uQyN9vG8CiOjywvkFmWXVXuBKJBCTGpNam9o4SqN6qlrh/bs+JiLUtWnDjk8sXjtWnni+NvFcTnO+x1MqrDaSmXLt0sTiQHeurzvnKa43ExEU8rpabSU9wfVdA3Eh1wwIrWbwsd0PfOwXtu57aPlo1jPeJwHV5mI9rtRlwWfNitlNewnEwhqTRCZuJkGj60DXR9FuZwLoHH4w6LvnP16asJXjB4v+UKBbrLxuvaNLN1ppuVbvCFUzwnQ99ji41OXXd3eVOlSoIbBGpFpqFIa2ZHOcHxa8TwI85efDgBNSzvkQucaZmGydc9Iy9wZH7+t9dNmN87U5Lyy+dL35tkm6Qz0YejUFUXwo9POQi834H+34zMmpn817rbAzKMY2TUyiUwFACL1ipVIdXuv/MdV7w/vs34Z+rhB0sPUB9Ophk+15MZn0Y9OnNt7Te7Q737fsxuGejfW4SkxewHGoJgOO836S12/68iLbRmGwe9tn5kmnBGKQq8iQtShaVJvyLy974HrH+7QAAE9t/dz+3gden3n+Y72fhZ+eT968kLwxGV81saRRuqfr/s58z/J7AAC//PA/6zhZOr3wOoVma2m3KthhtaOaLl6svLO9a+9MdWpH175zjdfbjotAIAIzEVCr1RodtbxXXPbM9Yv3TwAz9xeHHjSfhKiSKt2vPn5/8PGr6sz/uv47aWwO9zzi/wP/V8XODfs+x1/pPtddaS7s8u8tBvnAC0Mvl8TmkU2f3Na756Vr32t/WUlmAwICEWueSa9+mKSPD0IAAE95haA4Uy5HUVTI5wPP49Tfzoc573X4f7/6A/CUt3vowM7BvZcnL86V5yqNipDSQfCp4V/cO3igllTenTuRK7ip/HZe2s5OkeJ6bXSouOXG49Y5PhABAEqFQqlQiOO4EUWTMzPd3d2f3fRrOf//HiiZ1Y7h3TuGEcXR/OJ8PswX80Wl1NzM9Lb8rkm+TEuLn7M9GCDCTDSu1t7Skg+C2/NhfN/3fb+zWHwfLZrAD4b6h5b+mfOKiU6Yb0wOuKLMWitWirrbM+tmwv3/Be8zC/p78T6kvwypSau2cr056v4jpYwAC2usTcUKONFzzcnlt61n3E4CPjhE7Pny29rjrMORVRgQcRzYuXi6s/APRpf1iLVFgKf9cwtvKk06UNpXrMktLbXWWiNpYvvzw/35ldtDugJYWwQA+Or+37y/9JhmrTRp1j16A5OEUqRUm9Qe7D66/IZ1jtsThG8junJ99254pDwznY/z93U8vMc/Mi/Xp2T0HN5aMMcPdn2oZuSxBgnQSu8eOLR74NBiq6yMD6E+3tjrjwR+V5DrLHndy29Y57g9e8TuBKy15cXFymK9VAw7OztrjYbopKewvLm03rF2CXCw1kZRlMvlrLVEWVL0YcJaJ+BDjzWXBf3/hrsErDL+DwN4B42Z0Mk8AAAAAElFTkSuQmCC",
         "type": "image",
         "xaxis": "x",
         "yaxis": "y"
        }
       ],
       "layout": {
        "height": 350,
        "margin": {
         "l": 0,
         "t": 60
        },
        "shapes": [
         {
          "line": {
           "color": "black",
           "width": 2
          },
          "type": "rect",
          "x0": 0,
          "x1": 128,
          "xref": "x",
          "y0": 0,
          "y1": 128,
          "yref": "y"
         }
        ],
        "template": {
         "data": {
          "bar": [
           {
            "error_x": {
             "color": "#2a3f5f"
            },
            "error_y": {
             "color": "#2a3f5f"
            },
            "marker": {
             "line": {
              "color": "#E5ECF6",
              "width": 0.5
             },
             "pattern": {
              "fillmode": "overlay",
              "size": 10,
              "solidity": 0.2
             }
            },
            "type": "bar"
           }
          ],
          "barpolar": [
           {
            "marker": {
             "line": {
              "color": "#E5ECF6",
              "width": 0.5
             },
             "pattern": {
              "fillmode": "overlay",
              "size": 10,
              "solidity": 0.2
             }
            },
            "type": "barpolar"
           }
          ],
          "carpet": [
           {
            "aaxis": {
             "endlinecolor": "#2a3f5f",
             "gridcolor": "white",
             "linecolor": "white",
             "minorgridcolor": "white",
             "startlinecolor": "#2a3f5f"
            },
            "baxis": {
             "endlinecolor": "#2a3f5f",
             "gridcolor": "white",
             "linecolor": "white",
             "minorgridcolor": "white",
             "startlinecolor": "#2a3f5f"
            },
            "type": "carpet"
           }
          ],
          "choropleth": [
           {
            "colorbar": {
             "outlinewidth": 0,
             "ticks": ""
            },
            "type": "choropleth"
           }
          ],
          "contour": [
           {
            "colorbar": {
             "outlinewidth": 0,
             "ticks": ""
            },
            "colorscale": [
             [
              0,
              "#0d0887"
             ],
             [
              0.1111111111111111,
              "#46039f"
             ],
             [
              0.2222222222222222,
              "#7201a8"
             ],
             [
              0.3333333333333333,
              "#9c179e"
             ],
             [
              0.4444444444444444,
              "#bd3786"
             ],
             [
              0.5555555555555556,
              "#d8576b"
             ],
             [
              0.6666666666666666,
              "#ed7953"
             ],
             [
              0.7777777777777778,
              "#fb9f3a"
             ],
             [
              0.8888888888888888,
              "#fdca26"
             ],
             [
              1,
              "#f0f921"
             ]
            ],
            "type": "contour"
           }
          ],
          "contourcarpet": [
           {
            "colorbar": {
             "outlinewidth": 0,
             "ticks": ""
            },
            "type": "contourcarpet"
           }
          ],
          "heatmap": [
           {
            "colorbar": {
             "outlinewidth": 0,
             "ticks": ""
            },
            "colorscale": [
             [
              0,
              "#0d0887"
             ],
             [
              0.1111111111111111,
              "#46039f"
             ],
             [
              0.2222222222222222,
              "#7201a8"
             ],
             [
              0.3333333333333333,
              "#9c179e"
             ],
             [
              0.4444444444444444,
              "#bd3786"
             ],
             [
              0.5555555555555556,
              "#d8576b"
             ],
             [
              0.6666666666666666,
              "#ed7953"
             ],
             [
              0.7777777777777778,
              "#fb9f3a"
             ],
             [
              0.8888888888888888,
              "#fdca26"
             ],
             [
              1,
              "#f0f921"
             ]
            ],
            "type": "heatmap"
           }
          ],
          "heatmapgl": [
           {
            "colorbar": {
             "outlinewidth": 0,
             "ticks": ""
            },
            "colorscale": [
             [
              0,
              "#0d0887"
             ],
             [
              0.1111111111111111,
              "#46039f"
             ],
             [
              0.2222222222222222,
              "#7201a8"
             ],
             [
              0.3333333333333333,
              "#9c179e"
             ],
             [
              0.4444444444444444,
              "#bd3786"
             ],
             [
              0.5555555555555556,
              "#d8576b"
             ],
             [
              0.6666666666666666,
              "#ed7953"
             ],
             [
              0.7777777777777778,
              "#fb9f3a"
             ],
             [
              0.8888888888888888,
              "#fdca26"
             ],
             [
              1,
              "#f0f921"
             ]
            ],
            "type": "heatmapgl"
           }
          ],
          "histogram": [
           {
            "marker": {
             "pattern": {
              "fillmode": "overlay",
              "size": 10,
              "solidity": 0.2
             }
            },
            "type": "histogram"
           }
          ],
          "histogram2d": [
           {
            "colorbar": {
             "outlinewidth": 0,
             "ticks": ""
            },
            "colorscale": [
             [
              0,
              "#0d0887"
             ],
             [
              0.1111111111111111,
              "#46039f"
             ],
             [
              0.2222222222222222,
              "#7201a8"
             ],
             [
              0.3333333333333333,
              "#9c179e"
             ],
             [
              0.4444444444444444,
              "#bd3786"
             ],
             [
              0.5555555555555556,
              "#d8576b"
             ],
             [
              0.6666666666666666,
              "#ed7953"
             ],
             [
              0.7777777777777778,
              "#fb9f3a"
             ],
             [
              0.8888888888888888,
              "#fdca26"
             ],
             [
              1,
              "#f0f921"
             ]
            ],
            "type": "histogram2d"
           }
          ],
          "histogram2dcontour": [
           {
            "colorbar": {
             "outlinewidth": 0,
             "ticks": ""
            },
            "colorscale": [
             [
              0,
              "#0d0887"
             ],
             [
              0.1111111111111111,
              "#46039f"
             ],
             [
              0.2222222222222222,
              "#7201a8"
             ],
             [
              0.3333333333333333,
              "#9c179e"
             ],
             [
              0.4444444444444444,
              "#bd3786"
             ],
             [
              0.5555555555555556,
              "#d8576b"
             ],
             [
              0.6666666666666666,
              "#ed7953"
             ],
             [
              0.7777777777777778,
              "#fb9f3a"
             ],
             [
              0.8888888888888888,
              "#fdca26"
             ],
             [
              1,
              "#f0f921"
             ]
            ],
            "type": "histogram2dcontour"
           }
          ],
          "mesh3d": [
           {
            "colorbar": {
             "outlinewidth": 0,
             "ticks": ""
            },
            "type": "mesh3d"
           }
          ],
          "parcoords": [
           {
            "line": {
             "colorbar": {
              "outlinewidth": 0,
              "ticks": ""
             }
            },
            "type": "parcoords"
           }
          ],
          "pie": [
           {
            "automargin": true,
            "type": "pie"
           }
          ],
          "scatter": [
           {
            "fillpattern": {
             "fillmode": "overlay",
             "size": 10,
             "solidity": 0.2
            },
            "type": "scatter"
           }
          ],
          "scatter3d": [
           {
            "line": {
             "colorbar": {
              "outlinewidth": 0,
              "ticks": ""
             }
            },
            "marker": {
             "colorbar": {
              "outlinewidth": 0,
              "ticks": ""
             }
            },
            "type": "scatter3d"
           }
          ],
          "scattercarpet": [
           {
            "marker": {
             "colorbar": {
              "outlinewidth": 0,
              "ticks": ""
             }
            },
            "type": "scattercarpet"
           }
          ],
          "scattergeo": [
           {
            "marker": {
             "colorbar": {
              "outlinewidth": 0,
              "ticks": ""
             }
            },
            "type": "scattergeo"
           }
          ],
          "scattergl": [
           {
            "marker": {
             "colorbar": {
              "outlinewidth": 0,
              "ticks": ""
             }
            },
            "type": "scattergl"
           }
          ],
          "scattermapbox": [
           {
            "marker": {
             "colorbar": {
              "outlinewidth": 0,
              "ticks": ""
             }
            },
            "type": "scattermapbox"
           }
          ],
          "scatterpolar": [
           {
            "marker": {
             "colorbar": {
              "outlinewidth": 0,
              "ticks": ""
             }
            },
            "type": "scatterpolar"
           }
          ],
          "scatterpolargl": [
           {
            "marker": {
             "colorbar": {
              "outlinewidth": 0,
              "ticks": ""
             }
            },
            "type": "scatterpolargl"
           }
          ],
          "scatterternary": [
           {
            "marker": {
             "colorbar": {
              "outlinewidth": 0,
              "ticks": ""
             }
            },
            "type": "scatterternary"
           }
          ],
          "surface": [
           {
            "colorbar": {
             "outlinewidth": 0,
             "ticks": ""
            },
            "colorscale": [
             [
              0,
              "#0d0887"
             ],
             [
              0.1111111111111111,
              "#46039f"
             ],
             [
              0.2222222222222222,
              "#7201a8"
             ],
             [
              0.3333333333333333,
              "#9c179e"
             ],
             [
              0.4444444444444444,
              "#bd3786"
             ],
             [
              0.5555555555555556,
              "#d8576b"
             ],
             [
              0.6666666666666666,
              "#ed7953"
             ],
             [
              0.7777777777777778,
              "#fb9f3a"
             ],
             [
              0.8888888888888888,
              "#fdca26"
             ],
             [
              1,
              "#f0f921"
             ]
            ],
            "type": "surface"
           }
          ],
          "table": [
           {
            "cells": {
             "fill": {
              "color": "#EBF0F8"
             },
             "line": {
              "color": "white"
             }
            },
            "header": {
             "fill": {
              "color": "#C8D4E3"
             },
             "line": {
              "color": "white"
             }
            },
            "type": "table"
           }
          ]
         },
         "layout": {
          "annotationdefaults": {
           "arrowcolor": "#2a3f5f",
           "arrowhead": 0,
           "arrowwidth": 1
          },
          "autotypenumbers": "strict",
          "coloraxis": {
           "colorbar": {
            "outlinewidth": 0,
            "ticks": ""
           }
          },
          "colorscale": {
           "diverging": [
            [
             0,
             "#8e0152"
            ],
            [
             0.1,
             "#c51b7d"
            ],
            [
             0.2,
             "#de77ae"
            ],
            [
             0.3,
             "#f1b6da"
            ],
            [
             0.4,
             "#fde0ef"
            ],
            [
             0.5,
             "#f7f7f7"
            ],
            [
             0.6,
             "#e6f5d0"
            ],
            [
             0.7,
             "#b8e186"
            ],
            [
             0.8,
             "#7fbc41"
            ],
            [
             0.9,
             "#4d9221"
            ],
            [
             1,
             "#276419"
            ]
           ],
           "sequential": [
            [
             0,
             "#0d0887"
            ],
            [
             0.1111111111111111,
             "#46039f"
            ],
            [
             0.2222222222222222,
             "#7201a8"
            ],
            [
             0.3333333333333333,
             "#9c179e"
            ],
            [
             0.4444444444444444,
             "#bd3786"
            ],
            [
             0.5555555555555556,
             "#d8576b"
            ],
            [
             0.6666666666666666,
             "#ed7953"
            ],
            [
             0.7777777777777778,
             "#fb9f3a"
            ],
            [
             0.8888888888888888,
             "#fdca26"
            ],
            [
             1,
             "#f0f921"
            ]
           ],
           "sequentialminus": [
            [
             0,
             "#0d0887"
            ],
            [
             0.1111111111111111,
             "#46039f"
            ],
            [
             0.2222222222222222,
             "#7201a8"
            ],
            [
             0.3333333333333333,
             "#9c179e"
            ],
            [
             0.4444444444444444,
             "#bd3786"
            ],
            [
             0.5555555555555556,
             "#d8576b"
            ],
            [
             0.6666666666666666,
             "#ed7953"
            ],
            [
             0.7777777777777778,
             "#fb9f3a"
            ],
            [
             0.8888888888888888,
             "#fdca26"
            ],
            [
             1,
             "#f0f921"
            ]
           ]
          },
          "colorway": [
           "#636efa",
           "#EF553B",
           "#00cc96",
           "#ab63fa",
           "#FFA15A",
           "#19d3f3",
           "#FF6692",
           "#B6E880",
           "#FF97FF",
           "#FECB52"
          ],
          "font": {
           "color": "#2a3f5f"
          },
          "geo": {
           "bgcolor": "white",
           "lakecolor": "white",
           "landcolor": "#E5ECF6",
           "showlakes": true,
           "showland": true,
           "subunitcolor": "white"
          },
          "hoverlabel": {
           "align": "left"
          },
          "hovermode": "closest",
          "mapbox": {
           "style": "light"
          },
          "paper_bgcolor": "white",
          "plot_bgcolor": "#E5ECF6",
          "polar": {
           "angularaxis": {
            "gridcolor": "white",
            "linecolor": "white",
            "ticks": ""
           },
           "bgcolor": "#E5ECF6",
           "radialaxis": {
            "gridcolor": "white",
            "linecolor": "white",
            "ticks": ""
           }
          },
          "scene": {
           "xaxis": {
            "backgroundcolor": "#E5ECF6",
            "gridcolor": "white",
            "gridwidth": 2,
            "linecolor": "white",
            "showbackground": true,
            "ticks": "",
            "zerolinecolor": "white"
           },
           "yaxis": {
            "backgroundcolor": "#E5ECF6",
            "gridcolor": "white",
            "gridwidth": 2,
            "linecolor": "white",
            "showbackground": true,
            "ticks": "",
            "zerolinecolor": "white"
           },
           "zaxis": {
            "backgroundcolor": "#E5ECF6",
            "gridcolor": "white",
            "gridwidth": 2,
            "linecolor": "white",
            "showbackground": true,
            "ticks": "",
            "zerolinecolor": "white"
           }
          },
          "shapedefaults": {
           "line": {
            "color": "#2a3f5f"
           }
          },
          "ternary": {
           "aaxis": {
            "gridcolor": "white",
            "linecolor": "white",
            "ticks": ""
           },
           "baxis": {
            "gridcolor": "white",
            "linecolor": "white",
            "ticks": ""
           },
           "bgcolor": "#E5ECF6",
           "caxis": {
            "gridcolor": "white",
            "linecolor": "white",
            "ticks": ""
           }
          },
          "title": {
           "x": 0.05
          },
          "xaxis": {
           "automargin": true,
           "gridcolor": "white",
           "linecolor": "white",
           "ticks": "",
           "title": {
            "standoff": 15
           },
           "zerolinecolor": "white",
           "zerolinewidth": 2
          },
          "yaxis": {
           "automargin": true,
           "gridcolor": "white",
           "linecolor": "white",
           "ticks": "",
           "title": {
            "standoff": 15
           },
           "zerolinecolor": "white",
           "zerolinewidth": 2
          }
         }
        },
        "title": {
         "text": "Label: Chewtle"
        },
        "width": 500,
        "xaxis": {
         "anchor": "y",
         "domain": [
          0,
          1
         ],
         "showgrid": false,
         "showticklabels": false,
         "visible": false,
         "zeroline": false
        },
        "yaxis": {
         "anchor": "x",
         "domain": [
          0,
          1
         ],
         "showgrid": false,
         "showticklabels": false,
         "visible": false,
         "zeroline": false
        }
       }
      }
     },
     "metadata": {},
     "output_type": "display_data"
    },
    {
     "name": "stdout",
     "output_type": "stream",
     "text": [
      "tf.Tensor([255. 255. 255.], shape=(3,), dtype=float32)\n",
      "(128, 128, 3)\n"
     ]
    },
    {
     "data": {
      "application/vnd.plotly.v1+json": {
       "config": {
        "plotlyServerURL": "https://plot.ly"
       },
       "data": [
        {
         "hovertemplate": "x: %{x}<br>y: %{y}<extra></extra>",
         "name": "0",
         "source": "data:image/png;base64,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",
         "type": "image",
         "xaxis": "x",
         "yaxis": "y"
        }
       ],
       "layout": {
        "height": 350,
        "margin": {
         "l": 0,
         "t": 60
        },
        "shapes": [
         {
          "line": {
           "color": "black",
           "width": 2
          },
          "type": "rect",
          "x0": 0,
          "x1": 128,
          "xref": "x",
          "y0": 0,
          "y1": 128,
          "yref": "y"
         }
        ],
        "template": {
         "data": {
          "bar": [
           {
            "error_x": {
             "color": "#2a3f5f"
            },
            "error_y": {
             "color": "#2a3f5f"
            },
            "marker": {
             "line": {
              "color": "#E5ECF6",
              "width": 0.5
             },
             "pattern": {
              "fillmode": "overlay",
              "size": 10,
              "solidity": 0.2
             }
            },
            "type": "bar"
           }
          ],
          "barpolar": [
           {
            "marker": {
             "line": {
              "color": "#E5ECF6",
              "width": 0.5
             },
             "pattern": {
              "fillmode": "overlay",
              "size": 10,
              "solidity": 0.2
             }
            },
            "type": "barpolar"
           }
          ],
          "carpet": [
           {
            "aaxis": {
             "endlinecolor": "#2a3f5f",
             "gridcolor": "white",
             "linecolor": "white",
             "minorgridcolor": "white",
             "startlinecolor": "#2a3f5f"
            },
            "baxis": {
             "endlinecolor": "#2a3f5f",
             "gridcolor": "white",
             "linecolor": "white",
             "minorgridcolor": "white",
             "startlinecolor": "#2a3f5f"
            },
            "type": "carpet"
           }
          ],
          "choropleth": [
           {
            "colorbar": {
             "outlinewidth": 0,
             "ticks": ""
            },
            "type": "choropleth"
           }
          ],
          "contour": [
           {
            "colorbar": {
             "outlinewidth": 0,
             "ticks": ""
            },
            "colorscale": [
             [
              0,
              "#0d0887"
             ],
             [
              0.1111111111111111,
              "#46039f"
             ],
             [
              0.2222222222222222,
              "#7201a8"
             ],
             [
              0.3333333333333333,
              "#9c179e"
             ],
             [
              0.4444444444444444,
              "#bd3786"
             ],
             [
              0.5555555555555556,
              "#d8576b"
             ],
             [
              0.6666666666666666,
              "#ed7953"
             ],
             [
              0.7777777777777778,
              "#fb9f3a"
             ],
             [
              0.8888888888888888,
              "#fdca26"
             ],
             [
              1,
              "#f0f921"
             ]
            ],
            "type": "contour"
           }
          ],
          "contourcarpet": [
           {
            "colorbar": {
             "outlinewidth": 0,
             "ticks": ""
            },
            "type": "contourcarpet"
           }
          ],
          "heatmap": [
           {
            "colorbar": {
             "outlinewidth": 0,
             "ticks": ""
            },
            "colorscale": [
             [
              0,
              "#0d0887"
             ],
             [
              0.1111111111111111,
              "#46039f"
             ],
             [
              0.2222222222222222,
              "#7201a8"
             ],
             [
              0.3333333333333333,
              "#9c179e"
             ],
             [
              0.4444444444444444,
              "#bd3786"
             ],
             [
              0.5555555555555556,
              "#d8576b"
             ],
             [
              0.6666666666666666,
              "#ed7953"
             ],
             [
              0.7777777777777778,
              "#fb9f3a"
             ],
             [
              0.8888888888888888,
              "#fdca26"
             ],
             [
              1,
              "#f0f921"
             ]
            ],
            "type": "heatmap"
           }
          ],
          "heatmapgl": [
           {
            "colorbar": {
             "outlinewidth": 0,
             "ticks": ""
            },
            "colorscale": [
             [
              0,
              "#0d0887"
             ],
             [
              0.1111111111111111,
              "#46039f"
             ],
             [
              0.2222222222222222,
              "#7201a8"
             ],
             [
              0.3333333333333333,
              "#9c179e"
             ],
             [
              0.4444444444444444,
              "#bd3786"
             ],
             [
              0.5555555555555556,
              "#d8576b"
             ],
             [
              0.6666666666666666,
              "#ed7953"
             ],
             [
              0.7777777777777778,
              "#fb9f3a"
             ],
             [
              0.8888888888888888,
              "#fdca26"
             ],
             [
              1,
              "#f0f921"
             ]
            ],
            "type": "heatmapgl"
           }
          ],
          "histogram": [
           {
            "marker": {
             "pattern": {
              "fillmode": "overlay",
              "size": 10,
              "solidity": 0.2
             }
            },
            "type": "histogram"
           }
          ],
          "histogram2d": [
           {
            "colorbar": {
             "outlinewidth": 0,
             "ticks": ""
            },
            "colorscale": [
             [
              0,
              "#0d0887"
             ],
             [
              0.1111111111111111,
              "#46039f"
             ],
             [
              0.2222222222222222,
              "#7201a8"
             ],
             [
              0.3333333333333333,
              "#9c179e"
             ],
             [
              0.4444444444444444,
              "#bd3786"
             ],
             [
              0.5555555555555556,
              "#d8576b"
             ],
             [
              0.6666666666666666,
              "#ed7953"
             ],
             [
              0.7777777777777778,
              "#fb9f3a"
             ],
             [
              0.8888888888888888,
              "#fdca26"
             ],
             [
              1,
              "#f0f921"
             ]
            ],
            "type": "histogram2d"
           }
          ],
          "histogram2dcontour": [
           {
            "colorbar": {
             "outlinewidth": 0,
             "ticks": ""
            },
            "colorscale": [
             [
              0,
              "#0d0887"
             ],
             [
              0.1111111111111111,
              "#46039f"
             ],
             [
              0.2222222222222222,
              "#7201a8"
             ],
             [
              0.3333333333333333,
              "#9c179e"
             ],
             [
              0.4444444444444444,
              "#bd3786"
             ],
             [
              0.5555555555555556,
              "#d8576b"
             ],
             [
              0.6666666666666666,
              "#ed7953"
             ],
             [
              0.7777777777777778,
              "#fb9f3a"
             ],
             [
              0.8888888888888888,
              "#fdca26"
             ],
             [
              1,
              "#f0f921"
             ]
            ],
            "type": "histogram2dcontour"
           }
          ],
          "mesh3d": [
           {
            "colorbar": {
             "outlinewidth": 0,
             "ticks": ""
            },
            "type": "mesh3d"
           }
          ],
          "parcoords": [
           {
            "line": {
             "colorbar": {
              "outlinewidth": 0,
              "ticks": ""
             }
            },
            "type": "parcoords"
           }
          ],
          "pie": [
           {
            "automargin": true,
            "type": "pie"
           }
          ],
          "scatter": [
           {
            "fillpattern": {
             "fillmode": "overlay",
             "size": 10,
             "solidity": 0.2
            },
            "type": "scatter"
           }
          ],
          "scatter3d": [
           {
            "line": {
             "colorbar": {
              "outlinewidth": 0,
              "ticks": ""
             }
            },
            "marker": {
             "colorbar": {
              "outlinewidth": 0,
              "ticks": ""
             }
            },
            "type": "scatter3d"
           }
          ],
          "scattercarpet": [
           {
            "marker": {
             "colorbar": {
              "outlinewidth": 0,
              "ticks": ""
             }
            },
            "type": "scattercarpet"
           }
          ],
          "scattergeo": [
           {
            "marker": {
             "colorbar": {
              "outlinewidth": 0,
              "ticks": ""
             }
            },
            "type": "scattergeo"
           }
          ],
          "scattergl": [
           {
            "marker": {
             "colorbar": {
              "outlinewidth": 0,
              "ticks": ""
             }
            },
            "type": "scattergl"
           }
          ],
          "scattermapbox": [
           {
            "marker": {
             "colorbar": {
              "outlinewidth": 0,
              "ticks": ""
             }
            },
            "type": "scattermapbox"
           }
          ],
          "scatterpolar": [
           {
            "marker": {
             "colorbar": {
              "outlinewidth": 0,
              "ticks": ""
             }
            },
            "type": "scatterpolar"
           }
          ],
          "scatterpolargl": [
           {
            "marker": {
             "colorbar": {
              "outlinewidth": 0,
              "ticks": ""
             }
            },
            "type": "scatterpolargl"
           }
          ],
          "scatterternary": [
           {
            "marker": {
             "colorbar": {
              "outlinewidth": 0,
              "ticks": ""
             }
            },
            "type": "scatterternary"
           }
          ],
          "surface": [
           {
            "colorbar": {
             "outlinewidth": 0,
             "ticks": ""
            },
            "colorscale": [
             [
              0,
              "#0d0887"
             ],
             [
              0.1111111111111111,
              "#46039f"
             ],
             [
              0.2222222222222222,
              "#7201a8"
             ],
             [
              0.3333333333333333,
              "#9c179e"
             ],
             [
              0.4444444444444444,
              "#bd3786"
             ],
             [
              0.5555555555555556,
              "#d8576b"
             ],
             [
              0.6666666666666666,
              "#ed7953"
             ],
             [
              0.7777777777777778,
              "#fb9f3a"
             ],
             [
              0.8888888888888888,
              "#fdca26"
             ],
             [
              1,
              "#f0f921"
             ]
            ],
            "type": "surface"
           }
          ],
          "table": [
           {
            "cells": {
             "fill": {
              "color": "#EBF0F8"
             },
             "line": {
              "color": "white"
             }
            },
            "header": {
             "fill": {
              "color": "#C8D4E3"
             },
             "line": {
              "color": "white"
             }
            },
            "type": "table"
           }
          ]
         },
         "layout": {
          "annotationdefaults": {
           "arrowcolor": "#2a3f5f",
           "arrowhead": 0,
           "arrowwidth": 1
          },
          "autotypenumbers": "strict",
          "coloraxis": {
           "colorbar": {
            "outlinewidth": 0,
            "ticks": ""
           }
          },
          "colorscale": {
           "diverging": [
            [
             0,
             "#8e0152"
            ],
            [
             0.1,
             "#c51b7d"
            ],
            [
             0.2,
             "#de77ae"
            ],
            [
             0.3,
             "#f1b6da"
            ],
            [
             0.4,
             "#fde0ef"
            ],
            [
             0.5,
             "#f7f7f7"
            ],
            [
             0.6,
             "#e6f5d0"
            ],
            [
             0.7,
             "#b8e186"
            ],
            [
             0.8,
             "#7fbc41"
            ],
            [
             0.9,
             "#4d9221"
            ],
            [
             1,
             "#276419"
            ]
           ],
           "sequential": [
            [
             0,
             "#0d0887"
            ],
            [
             0.1111111111111111,
             "#46039f"
            ],
            [
             0.2222222222222222,
             "#7201a8"
            ],
            [
             0.3333333333333333,
             "#9c179e"
            ],
            [
             0.4444444444444444,
             "#bd3786"
            ],
            [
             0.5555555555555556,
             "#d8576b"
            ],
            [
             0.6666666666666666,
             "#ed7953"
            ],
            [
             0.7777777777777778,
             "#fb9f3a"
            ],
            [
             0.8888888888888888,
             "#fdca26"
            ],
            [
             1,
             "#f0f921"
            ]
           ],
           "sequentialminus": [
            [
             0,
             "#0d0887"
            ],
            [
             0.1111111111111111,
             "#46039f"
            ],
            [
             0.2222222222222222,
             "#7201a8"
            ],
            [
             0.3333333333333333,
             "#9c179e"
            ],
            [
             0.4444444444444444,
             "#bd3786"
            ],
            [
             0.5555555555555556,
             "#d8576b"
            ],
            [
             0.6666666666666666,
             "#ed7953"
            ],
            [
             0.7777777777777778,
             "#fb9f3a"
            ],
            [
             0.8888888888888888,
             "#fdca26"
            ],
            [
             1,
             "#f0f921"
            ]
           ]
          },
          "colorway": [
           "#636efa",
           "#EF553B",
           "#00cc96",
           "#ab63fa",
           "#FFA15A",
           "#19d3f3",
           "#FF6692",
           "#B6E880",
           "#FF97FF",
           "#FECB52"
          ],
          "font": {
           "color": "#2a3f5f"
          },
          "geo": {
           "bgcolor": "white",
           "lakecolor": "white",
           "landcolor": "#E5ECF6",
           "showlakes": true,
           "showland": true,
           "subunitcolor": "white"
          },
          "hoverlabel": {
           "align": "left"
          },
          "hovermode": "closest",
          "mapbox": {
           "style": "light"
          },
          "paper_bgcolor": "white",
          "plot_bgcolor": "#E5ECF6",
          "polar": {
           "angularaxis": {
            "gridcolor": "white",
            "linecolor": "white",
            "ticks": ""
           },
           "bgcolor": "#E5ECF6",
           "radialaxis": {
            "gridcolor": "white",
            "linecolor": "white",
            "ticks": ""
           }
          },
          "scene": {
           "xaxis": {
            "backgroundcolor": "#E5ECF6",
            "gridcolor": "white",
            "gridwidth": 2,
            "linecolor": "white",
            "showbackground": true,
            "ticks": "",
            "zerolinecolor": "white"
           },
           "yaxis": {
            "backgroundcolor": "#E5ECF6",
            "gridcolor": "white",
            "gridwidth": 2,
            "linecolor": "white",
            "showbackground": true,
            "ticks": "",
            "zerolinecolor": "white"
           },
           "zaxis": {
            "backgroundcolor": "#E5ECF6",
            "gridcolor": "white",
            "gridwidth": 2,
            "linecolor": "white",
            "showbackground": true,
            "ticks": "",
            "zerolinecolor": "white"
           }
          },
          "shapedefaults": {
           "line": {
            "color": "#2a3f5f"
           }
          },
          "ternary": {
           "aaxis": {
            "gridcolor": "white",
            "linecolor": "white",
            "ticks": ""
           },
           "baxis": {
            "gridcolor": "white",
            "linecolor": "white",
            "ticks": ""
           },
           "bgcolor": "#E5ECF6",
           "caxis": {
            "gridcolor": "white",
            "linecolor": "white",
            "ticks": ""
           }
          },
          "title": {
           "x": 0.05
          },
          "xaxis": {
           "automargin": true,
           "gridcolor": "white",
           "linecolor": "white",
           "ticks": "",
           "title": {
            "standoff": 15
           },
           "zerolinecolor": "white",
           "zerolinewidth": 2
          },
          "yaxis": {
           "automargin": true,
           "gridcolor": "white",
           "linecolor": "white",
           "ticks": "",
           "title": {
            "standoff": 15
           },
           "zerolinecolor": "white",
           "zerolinewidth": 2
          }
         }
        },
        "title": {
         "text": "Label: Golett"
        },
        "width": 500,
        "xaxis": {
         "anchor": "y",
         "domain": [
          0,
          1
         ],
         "showgrid": false,
         "showticklabels": false,
         "visible": false,
         "zeroline": false
        },
        "yaxis": {
         "anchor": "x",
         "domain": [
          0,
          1
         ],
         "showgrid": false,
         "showticklabels": false,
         "visible": false,
         "zeroline": false
        }
       }
      }
     },
     "metadata": {},
     "output_type": "display_data"
    }
   ],
   "source": [
    "plot_n_images(train_ds, 5, class_names)"
   ]
  },
  {
   "cell_type": "code",
   "execution_count": 9,
   "metadata": {},
   "outputs": [],
   "source": [
    "# Define the EfficientNetB4 model\n",
    "base_model = EfficientNetB4(include_top=False, input_shape=input_shape, pooling='avg', weights='imagenet')\n",
    "\n",
    "# Freeze the base model\n",
    "base_model.trainable = False\n",
    "\n",
    "# Define the model inputs\n",
    "inputs = tf.keras.Input(shape=input_shape)\n",
    "\n",
    "x = base_model(inputs, training=False)\n",
    "x = tf.keras.layers.Dense(512, activation='relu')(x)\n",
    "x = tf.keras.layers.Dropout(0.2)(x)\n",
    "x = tf.keras.layers.Dense(256, activation='relu')(x)\n",
    "x = tf.keras.layers.Dropout(0.2)(x)\n",
    "x = tf.keras.layers.Dense(len(class_names), activation='softmax')(x)\n",
    "\n",
    "# Define the model\n",
    "model = tf.keras.Model(inputs, x)\n",
    "\n",
    "# Compile the model\n",
    "model.compile(optimizer='adam', loss='categorical_crossentropy', metrics=['accuracy', 'top_k_categorical_accuracy'])"
   ]
  },
  {
   "cell_type": "code",
   "execution_count": 10,
   "metadata": {},
   "outputs": [
    {
     "name": "stdout",
     "output_type": "stream",
     "text": [
      "Model: \"model\"\n",
      "_________________________________________________________________\n",
      " Layer (type)                Output Shape              Param #   \n",
      "=================================================================\n",
      " input_2 (InputLayer)        [(None, 128, 128, 3)]     0         \n",
      "                                                                 \n",
      " efficientnetb4 (Functional)  (None, 1792)             17673823  \n",
      "                                                                 \n",
      " dense (Dense)               (None, 512)               918016    \n",
      "                                                                 \n",
      " dropout (Dropout)           (None, 512)               0         \n",
      "                                                                 \n",
      " dense_1 (Dense)             (None, 256)               131328    \n",
      "                                                                 \n",
      " dropout_1 (Dropout)         (None, 256)               0         \n",
      "                                                                 \n",
      " dense_2 (Dense)             (None, 905)               232585    \n",
      "                                                                 \n",
      "=================================================================\n",
      "Total params: 18,955,752\n",
      "Trainable params: 1,281,929\n",
      "Non-trainable params: 17,673,823\n",
      "_________________________________________________________________\n"
     ]
    }
   ],
   "source": [
    "model.summary()"
   ]
  },
  {
   "cell_type": "code",
   "execution_count": 11,
   "metadata": {},
   "outputs": [
    {
     "name": "stdout",
     "output_type": "stream",
     "text": [
      "347/347 [==============================] - 94s 77ms/step - loss: 6.1012 - accuracy: 0.0653 - top_k_categorical_accuracy: 0.1129 - val_loss: 5.0587 - val_accuracy: 0.1372 - val_top_k_categorical_accuracy: 0.2730\n"
     ]
    }
   ],
   "source": [
    "history = model.fit(train_ds, batch_size=batch_size, validation_data=val_ds, epochs=25)"
   ]
  },
  {
   "cell_type": "code",
   "execution_count": 12,
   "metadata": {},
   "outputs": [],
   "source": [
    "cnn = tf.keras.Sequential()\n",
    "cnn.add(tf.keras.layers.Conv2D(32, (3, 3), activation='relu', input_shape=input_shape))\n",
    "cnn.add(tf.keras.layers.BatchNormalization())\n",
    "cnn.add(tf.keras.layers.MaxPooling2D((2, 2)))\n",
    "cnn.add(tf.keras.layers.Dropout(0.4))\n",
    "\n",
    "cnn.add(tf.keras.layers.Conv2D(64, (5, 5), activation='relu'))\n",
    "cnn.add(tf.keras.layers.BatchNormalization())\n",
    "cnn.add(tf.keras.layers.MaxPooling2D((2, 2)))\n",
    "cnn.add(tf.keras.layers.Dropout(0.4))\n",
    "\n",
    "cnn.add(tf.keras.layers.Conv2D(64, (5, 5), activation='relu'))\n",
    "cnn.add(tf.keras.layers.BatchNormalization())\n",
    "cnn.add(tf.keras.layers.MaxPooling2D((2, 2)))\n",
    "cnn.add(tf.keras.layers.Dropout(0.4))\n",
    "\n",
    "cnn.add(tf.keras.layers.Conv2D(128, (8, 8), activation='relu'))\n",
    "cnn.add(tf.keras.layers.BatchNormalization())\n",
    "cnn.add(tf.keras.layers.MaxPooling2D((2, 2)))\n",
    "cnn.add(tf.keras.layers.Dropout(0.4))\n",
    "\n",
    "cnn.add(tf.keras.layers.Flatten())\n",
    "cnn.add(tf.keras.layers.Dense(512, activation='relu'))\n",
    "cnn.add(tf.keras.layers.BatchNormalization())\n",
    "cnn.add(tf.keras.layers.Dropout(0.5))\n",
    "cnn.add(tf.keras.layers.Dense(256, activation='relu'))\n",
    "cnn.add(tf.keras.layers.BatchNormalization())\n",
    "cnn.add(tf.keras.layers.Dropout(0.5))\n",
    "cnn.add(tf.keras.layers.Dense(len(class_names), activation='softmax'))\n",
    "\n",
    "cnn.compile(optimizer='adam', loss='categorical_crossentropy', metrics=['accuracy', 'top_k_categorical_accuracy'])"
   ]
  },
  {
   "cell_type": "code",
   "execution_count": 13,
   "metadata": {},
   "outputs": [
    {
     "name": "stdout",
     "output_type": "stream",
     "text": [
      "Model: \"sequential_1\"\n",
      "_________________________________________________________________\n",
      " Layer (type)                Output Shape              Param #   \n",
      "=================================================================\n",
      " conv2d (Conv2D)             (None, 126, 126, 32)      896       \n",
      "                                                                 \n",
      " batch_normalization (BatchN  (None, 126, 126, 32)     128       \n",
      " ormalization)                                                   \n",
      "                                                                 \n",
      " max_pooling2d (MaxPooling2D  (None, 63, 63, 32)       0         \n",
      " )                                                               \n",
      "                                                                 \n",
      " dropout_2 (Dropout)         (None, 63, 63, 32)        0         \n",
      "                                                                 \n",
      " conv2d_1 (Conv2D)           (None, 59, 59, 64)        51264     \n",
      "                                                                 \n",
      " batch_normalization_1 (Batc  (None, 59, 59, 64)       256       \n",
      " hNormalization)                                                 \n",
      "                                                                 \n",
      " max_pooling2d_1 (MaxPooling  (None, 29, 29, 64)       0         \n",
      " 2D)                                                             \n",
      "                                                                 \n",
      " dropout_3 (Dropout)         (None, 29, 29, 64)        0         \n",
      "                                                                 \n",
      " conv2d_2 (Conv2D)           (None, 25, 25, 64)        102464    \n",
      "                                                                 \n",
      " batch_normalization_2 (Batc  (None, 25, 25, 64)       256       \n",
      " hNormalization)                                                 \n",
      "                                                                 \n",
      " max_pooling2d_2 (MaxPooling  (None, 12, 12, 64)       0         \n",
      " 2D)                                                             \n",
      "                                                                 \n",
      " dropout_4 (Dropout)         (None, 12, 12, 64)        0         \n",
      "                                                                 \n",
      " conv2d_3 (Conv2D)           (None, 5, 5, 128)         524416    \n",
      "                                                                 \n",
      " batch_normalization_3 (Batc  (None, 5, 5, 128)        512       \n",
      " hNormalization)                                                 \n",
      "                                                                 \n",
      " max_pooling2d_3 (MaxPooling  (None, 2, 2, 128)        0         \n",
      " 2D)                                                             \n",
      "                                                                 \n",
      " dropout_5 (Dropout)         (None, 2, 2, 128)         0         \n",
      "                                                                 \n",
      " flatten (Flatten)           (None, 512)               0         \n",
      "                                                                 \n",
      " dense_3 (Dense)             (None, 512)               262656    \n",
      "                                                                 \n",
      " batch_normalization_4 (Batc  (None, 512)              2048      \n",
      " hNormalization)                                                 \n",
      "                                                                 \n",
      " dropout_6 (Dropout)         (None, 512)               0         \n",
      "                                                                 \n",
      " dense_4 (Dense)             (None, 256)               131328    \n",
      "                                                                 \n",
      " batch_normalization_5 (Batc  (None, 256)              1024      \n",
      " hNormalization)                                                 \n",
      "                                                                 \n",
      " dropout_7 (Dropout)         (None, 256)               0         \n",
      "                                                                 \n",
      " dense_5 (Dense)             (None, 905)               232585    \n",
      "                                                                 \n",
      "=================================================================\n",
      "Total params: 1,309,833\n",
      "Trainable params: 1,307,721\n",
      "Non-trainable params: 2,112\n",
      "_________________________________________________________________\n"
     ]
    }
   ],
   "source": [
    "cnn.summary()"
   ]
  },
  {
   "cell_type": "code",
   "execution_count": 14,
   "metadata": {},
   "outputs": [
    {
     "name": "stdout",
     "output_type": "stream",
     "text": [
      "347/347 [==============================] - 39s 42ms/step - loss: 6.8205 - accuracy: 0.0239 - top_k_categorical_accuracy: 0.0418 - val_loss: 6.5240 - val_accuracy: 0.0394 - val_top_k_categorical_accuracy: 0.0664\n"
     ]
    }
   ],
   "source": [
    "history_cnn = cnn.fit(train_ds, batch_size=batch_size, validation_data=val_ds, epochs=25)"
   ]
  },
  {
   "attachments": {},
   "cell_type": "markdown",
   "metadata": {},
   "source": [
    "## Reporting"
   ]
  },
  {
   "cell_type": "code",
   "execution_count": 77,
   "metadata": {},
   "outputs": [],
   "source": [
    "training_results = {\n",
    "    \"efficientnetB4\": \n",
    "        {\"training_time\" : 1073,\n",
    "            \"trainable_weights\" : 1281929,\n",
    "            \"non_trainable_weights\" : 17673823,\n",
    "        },\n",
    "    \"CNN\":\n",
    "        {\"training_time\" : 637,\n",
    "            \"trainable_weights\" : 1307721,\n",
    "            \"non_trainable_weights\" : 2112,\n",
    "        }\n",
    "}"
   ]
  },
  {
   "cell_type": "code",
   "execution_count": 78,
   "metadata": {},
   "outputs": [
    {
     "name": "stdout",
     "output_type": "stream",
     "text": [
      "                training_time  trainable_weights  non_trainable_weights\n",
      "efficientnetB4           1073            1281929               17673823\n",
      "CNN                       637            1307721                   2112\n"
     ]
    }
   ],
   "source": [
    "import pandas as pd\n",
    "df_plot = pd.DataFrame(training_results).T\n",
    "print(df_plot)"
   ]
  },
  {
   "cell_type": "code",
   "execution_count": 79,
   "metadata": {},
   "outputs": [
    {
     "data": {
      "application/vnd.plotly.v1+json": {
       "config": {
        "plotlyServerURL": "https://plot.ly"
       },
       "data": [
        {
         "name": "Trainable Weights",
         "type": "bar",
         "x": [
          "efficientnetB4",
          "CNN"
         ],
         "y": [
          1281929,
          1307721
         ]
        },
        {
         "name": "Non-Trainable Weights",
         "type": "bar",
         "x": [
          "efficientnetB4",
          "CNN"
         ],
         "y": [
          17673823,
          2112
         ]
        }
       ],
       "layout": {
        "barmode": "stack",
        "height": 500,
        "template": {
         "data": {
          "bar": [
           {
            "error_x": {
             "color": "#2a3f5f"
            },
            "error_y": {
             "color": "#2a3f5f"
            },
            "marker": {
             "line": {
              "color": "#E5ECF6",
              "width": 0.5
             },
             "pattern": {
              "fillmode": "overlay",
              "size": 10,
              "solidity": 0.2
             }
            },
            "type": "bar"
           }
          ],
          "barpolar": [
           {
            "marker": {
             "line": {
              "color": "#E5ECF6",
              "width": 0.5
             },
             "pattern": {
              "fillmode": "overlay",
              "size": 10,
              "solidity": 0.2
             }
            },
            "type": "barpolar"
           }
          ],
          "carpet": [
           {
            "aaxis": {
             "endlinecolor": "#2a3f5f",
             "gridcolor": "white",
             "linecolor": "white",
             "minorgridcolor": "white",
             "startlinecolor": "#2a3f5f"
            },
            "baxis": {
             "endlinecolor": "#2a3f5f",
             "gridcolor": "white",
             "linecolor": "white",
             "minorgridcolor": "white",
             "startlinecolor": "#2a3f5f"
            },
            "type": "carpet"
           }
          ],
          "choropleth": [
           {
            "colorbar": {
             "outlinewidth": 0,
             "ticks": ""
            },
            "type": "choropleth"
           }
          ],
          "contour": [
           {
            "colorbar": {
             "outlinewidth": 0,
             "ticks": ""
            },
            "colorscale": [
             [
              0,
              "#0d0887"
             ],
             [
              0.1111111111111111,
              "#46039f"
             ],
             [
              0.2222222222222222,
              "#7201a8"
             ],
             [
              0.3333333333333333,
              "#9c179e"
             ],
             [
              0.4444444444444444,
              "#bd3786"
             ],
             [
              0.5555555555555556,
              "#d8576b"
             ],
             [
              0.6666666666666666,
              "#ed7953"
             ],
             [
              0.7777777777777778,
              "#fb9f3a"
             ],
             [
              0.8888888888888888,
              "#fdca26"
             ],
             [
              1,
              "#f0f921"
             ]
            ],
            "type": "contour"
           }
          ],
          "contourcarpet": [
           {
            "colorbar": {
             "outlinewidth": 0,
             "ticks": ""
            },
            "type": "contourcarpet"
           }
          ],
          "heatmap": [
           {
            "colorbar": {
             "outlinewidth": 0,
             "ticks": ""
            },
            "colorscale": [
             [
              0,
              "#0d0887"
             ],
             [
              0.1111111111111111,
              "#46039f"
             ],
             [
              0.2222222222222222,
              "#7201a8"
             ],
             [
              0.3333333333333333,
              "#9c179e"
             ],
             [
              0.4444444444444444,
              "#bd3786"
             ],
             [
              0.5555555555555556,
              "#d8576b"
             ],
             [
              0.6666666666666666,
              "#ed7953"
             ],
             [
              0.7777777777777778,
              "#fb9f3a"
             ],
             [
              0.8888888888888888,
              "#fdca26"
             ],
             [
              1,
              "#f0f921"
             ]
            ],
            "type": "heatmap"
           }
          ],
          "heatmapgl": [
           {
            "colorbar": {
             "outlinewidth": 0,
             "ticks": ""
            },
            "colorscale": [
             [
              0,
              "#0d0887"
             ],
             [
              0.1111111111111111,
              "#46039f"
             ],
             [
              0.2222222222222222,
              "#7201a8"
             ],
             [
              0.3333333333333333,
              "#9c179e"
             ],
             [
              0.4444444444444444,
              "#bd3786"
             ],
             [
              0.5555555555555556,
              "#d8576b"
             ],
             [
              0.6666666666666666,
              "#ed7953"
             ],
             [
              0.7777777777777778,
              "#fb9f3a"
             ],
             [
              0.8888888888888888,
              "#fdca26"
             ],
             [
              1,
              "#f0f921"
             ]
            ],
            "type": "heatmapgl"
           }
          ],
          "histogram": [
           {
            "marker": {
             "pattern": {
              "fillmode": "overlay",
              "size": 10,
              "solidity": 0.2
             }
            },
            "type": "histogram"
           }
          ],
          "histogram2d": [
           {
            "colorbar": {
             "outlinewidth": 0,
             "ticks": ""
            },
            "colorscale": [
             [
              0,
              "#0d0887"
             ],
             [
              0.1111111111111111,
              "#46039f"
             ],
             [
              0.2222222222222222,
              "#7201a8"
             ],
             [
              0.3333333333333333,
              "#9c179e"
             ],
             [
              0.4444444444444444,
              "#bd3786"
             ],
             [
              0.5555555555555556,
              "#d8576b"
             ],
             [
              0.6666666666666666,
              "#ed7953"
             ],
             [
              0.7777777777777778,
              "#fb9f3a"
             ],
             [
              0.8888888888888888,
              "#fdca26"
             ],
             [
              1,
              "#f0f921"
             ]
            ],
            "type": "histogram2d"
           }
          ],
          "histogram2dcontour": [
           {
            "colorbar": {
             "outlinewidth": 0,
             "ticks": ""
            },
            "colorscale": [
             [
              0,
              "#0d0887"
             ],
             [
              0.1111111111111111,
              "#46039f"
             ],
             [
              0.2222222222222222,
              "#7201a8"
             ],
             [
              0.3333333333333333,
              "#9c179e"
             ],
             [
              0.4444444444444444,
              "#bd3786"
             ],
             [
              0.5555555555555556,
              "#d8576b"
             ],
             [
              0.6666666666666666,
              "#ed7953"
             ],
             [
              0.7777777777777778,
              "#fb9f3a"
             ],
             [
              0.8888888888888888,
              "#fdca26"
             ],
             [
              1,
              "#f0f921"
             ]
            ],
            "type": "histogram2dcontour"
           }
          ],
          "mesh3d": [
           {
            "colorbar": {
             "outlinewidth": 0,
             "ticks": ""
            },
            "type": "mesh3d"
           }
          ],
          "parcoords": [
           {
            "line": {
             "colorbar": {
              "outlinewidth": 0,
              "ticks": ""
             }
            },
            "type": "parcoords"
           }
          ],
          "pie": [
           {
            "automargin": true,
            "type": "pie"
           }
          ],
          "scatter": [
           {
            "fillpattern": {
             "fillmode": "overlay",
             "size": 10,
             "solidity": 0.2
            },
            "type": "scatter"
           }
          ],
          "scatter3d": [
           {
            "line": {
             "colorbar": {
              "outlinewidth": 0,
              "ticks": ""
             }
            },
            "marker": {
             "colorbar": {
              "outlinewidth": 0,
              "ticks": ""
             }
            },
            "type": "scatter3d"
           }
          ],
          "scattercarpet": [
           {
            "marker": {
             "colorbar": {
              "outlinewidth": 0,
              "ticks": ""
             }
            },
            "type": "scattercarpet"
           }
          ],
          "scattergeo": [
           {
            "marker": {
             "colorbar": {
              "outlinewidth": 0,
              "ticks": ""
             }
            },
            "type": "scattergeo"
           }
          ],
          "scattergl": [
           {
            "marker": {
             "colorbar": {
              "outlinewidth": 0,
              "ticks": ""
             }
            },
            "type": "scattergl"
           }
          ],
          "scattermapbox": [
           {
            "marker": {
             "colorbar": {
              "outlinewidth": 0,
              "ticks": ""
             }
            },
            "type": "scattermapbox"
           }
          ],
          "scatterpolar": [
           {
            "marker": {
             "colorbar": {
              "outlinewidth": 0,
              "ticks": ""
             }
            },
            "type": "scatterpolar"
           }
          ],
          "scatterpolargl": [
           {
            "marker": {
             "colorbar": {
              "outlinewidth": 0,
              "ticks": ""
             }
            },
            "type": "scatterpolargl"
           }
          ],
          "scatterternary": [
           {
            "marker": {
             "colorbar": {
              "outlinewidth": 0,
              "ticks": ""
             }
            },
            "type": "scatterternary"
           }
          ],
          "surface": [
           {
            "colorbar": {
             "outlinewidth": 0,
             "ticks": ""
            },
            "colorscale": [
             [
              0,
              "#0d0887"
             ],
             [
              0.1111111111111111,
              "#46039f"
             ],
             [
              0.2222222222222222,
              "#7201a8"
             ],
             [
              0.3333333333333333,
              "#9c179e"
             ],
             [
              0.4444444444444444,
              "#bd3786"
             ],
             [
              0.5555555555555556,
              "#d8576b"
             ],
             [
              0.6666666666666666,
              "#ed7953"
             ],
             [
              0.7777777777777778,
              "#fb9f3a"
             ],
             [
              0.8888888888888888,
              "#fdca26"
             ],
             [
              1,
              "#f0f921"
             ]
            ],
            "type": "surface"
           }
          ],
          "table": [
           {
            "cells": {
             "fill": {
              "color": "#EBF0F8"
             },
             "line": {
              "color": "white"
             }
            },
            "header": {
             "fill": {
              "color": "#C8D4E3"
             },
             "line": {
              "color": "white"
             }
            },
            "type": "table"
           }
          ]
         },
         "layout": {
          "annotationdefaults": {
           "arrowcolor": "#2a3f5f",
           "arrowhead": 0,
           "arrowwidth": 1
          },
          "autotypenumbers": "strict",
          "coloraxis": {
           "colorbar": {
            "outlinewidth": 0,
            "ticks": ""
           }
          },
          "colorscale": {
           "diverging": [
            [
             0,
             "#8e0152"
            ],
            [
             0.1,
             "#c51b7d"
            ],
            [
             0.2,
             "#de77ae"
            ],
            [
             0.3,
             "#f1b6da"
            ],
            [
             0.4,
             "#fde0ef"
            ],
            [
             0.5,
             "#f7f7f7"
            ],
            [
             0.6,
             "#e6f5d0"
            ],
            [
             0.7,
             "#b8e186"
            ],
            [
             0.8,
             "#7fbc41"
            ],
            [
             0.9,
             "#4d9221"
            ],
            [
             1,
             "#276419"
            ]
           ],
           "sequential": [
            [
             0,
             "#0d0887"
            ],
            [
             0.1111111111111111,
             "#46039f"
            ],
            [
             0.2222222222222222,
             "#7201a8"
            ],
            [
             0.3333333333333333,
             "#9c179e"
            ],
            [
             0.4444444444444444,
             "#bd3786"
            ],
            [
             0.5555555555555556,
             "#d8576b"
            ],
            [
             0.6666666666666666,
             "#ed7953"
            ],
            [
             0.7777777777777778,
             "#fb9f3a"
            ],
            [
             0.8888888888888888,
             "#fdca26"
            ],
            [
             1,
             "#f0f921"
            ]
           ],
           "sequentialminus": [
            [
             0,
             "#0d0887"
            ],
            [
             0.1111111111111111,
             "#46039f"
            ],
            [
             0.2222222222222222,
             "#7201a8"
            ],
            [
             0.3333333333333333,
             "#9c179e"
            ],
            [
             0.4444444444444444,
             "#bd3786"
            ],
            [
             0.5555555555555556,
             "#d8576b"
            ],
            [
             0.6666666666666666,
             "#ed7953"
            ],
            [
             0.7777777777777778,
             "#fb9f3a"
            ],
            [
             0.8888888888888888,
             "#fdca26"
            ],
            [
             1,
             "#f0f921"
            ]
           ]
          },
          "colorway": [
           "#636efa",
           "#EF553B",
           "#00cc96",
           "#ab63fa",
           "#FFA15A",
           "#19d3f3",
           "#FF6692",
           "#B6E880",
           "#FF97FF",
           "#FECB52"
          ],
          "font": {
           "color": "#2a3f5f"
          },
          "geo": {
           "bgcolor": "white",
           "lakecolor": "white",
           "landcolor": "#E5ECF6",
           "showlakes": true,
           "showland": true,
           "subunitcolor": "white"
          },
          "hoverlabel": {
           "align": "left"
          },
          "hovermode": "closest",
          "mapbox": {
           "style": "light"
          },
          "paper_bgcolor": "white",
          "plot_bgcolor": "#E5ECF6",
          "polar": {
           "angularaxis": {
            "gridcolor": "white",
            "linecolor": "white",
            "ticks": ""
           },
           "bgcolor": "#E5ECF6",
           "radialaxis": {
            "gridcolor": "white",
            "linecolor": "white",
            "ticks": ""
           }
          },
          "scene": {
           "xaxis": {
            "backgroundcolor": "#E5ECF6",
            "gridcolor": "white",
            "gridwidth": 2,
            "linecolor": "white",
            "showbackground": true,
            "ticks": "",
            "zerolinecolor": "white"
           },
           "yaxis": {
            "backgroundcolor": "#E5ECF6",
            "gridcolor": "white",
            "gridwidth": 2,
            "linecolor": "white",
            "showbackground": true,
            "ticks": "",
            "zerolinecolor": "white"
           },
           "zaxis": {
            "backgroundcolor": "#E5ECF6",
            "gridcolor": "white",
            "gridwidth": 2,
            "linecolor": "white",
            "showbackground": true,
            "ticks": "",
            "zerolinecolor": "white"
           }
          },
          "shapedefaults": {
           "line": {
            "color": "#2a3f5f"
           }
          },
          "ternary": {
           "aaxis": {
            "gridcolor": "white",
            "linecolor": "white",
            "ticks": ""
           },
           "baxis": {
            "gridcolor": "white",
            "linecolor": "white",
            "ticks": ""
           },
           "bgcolor": "#E5ECF6",
           "caxis": {
            "gridcolor": "white",
            "linecolor": "white",
            "ticks": ""
           }
          },
          "title": {
           "x": 0.05
          },
          "xaxis": {
           "automargin": true,
           "gridcolor": "white",
           "linecolor": "white",
           "ticks": "",
           "title": {
            "standoff": 15
           },
           "zerolinecolor": "white",
           "zerolinewidth": 2
          },
          "yaxis": {
           "automargin": true,
           "gridcolor": "white",
           "linecolor": "white",
           "ticks": "",
           "title": {
            "standoff": 15
           },
           "zerolinecolor": "white",
           "zerolinewidth": 2
          }
         }
        },
        "title": {
         "text": "Trainable and Non-Trainable Weights"
        },
        "width": 800
       }
      }
     },
     "metadata": {},
     "output_type": "display_data"
    }
   ],
   "source": [
    "# plot weights and then training time on 2 different y axes\n",
    "fig = go.Figure()\n",
    "fig.add_trace(go.Bar(x=df_plot.index, y=df_plot[\"trainable_weights\"], name=\"Trainable Weights\"))\n",
    "fig.add_trace(go.Bar(x=df_plot.index, y=df_plot[\"non_trainable_weights\"], name=\"Non-Trainable Weights\"))\n",
    "fig.update_layout(barmode='stack', title=\"Trainable and Non-Trainable Weights\")\n",
    "fig.update_layout(width=800, height=500)\n",
    "fig.show()"
   ]
  },
  {
   "cell_type": "code",
   "execution_count": 14,
   "metadata": {},
   "outputs": [
    {
     "data": {
      "application/vnd.plotly.v1+json": {
       "config": {
        "plotlyServerURL": "https://plot.ly"
       },
       "data": [
        {
         "name": "Training Loss",
         "type": "scatter",
         "x": [
          0,
          1,
          2,
          3,
          4,
          5,
          6,
          7,
          8,
          9,
          10,
          11,
          12,
          13,
          14,
          15,
          16,
          17,
          18,
          19,
          20,
          21,
          22,
          23,
          24
         ],
         "y": [
          6.084902763366699,
          3.9594976902008057,
          2.606334686279297,
          1.8880352973937988,
          1.4627331495285034,
          1.2074236869812012,
          1.010951042175293,
          0.8831997513771057,
          0.7683170437812805,
          0.6962368488311768,
          0.6432498097419739,
          0.5871609449386597,
          0.5376380681991577,
          0.49707135558128357,
          0.4775618612766266,
          0.4369860589504242,
          0.40544843673706055,
          0.42973586916923523,
          0.3975343704223633,
          0.39096495509147644,
          0.36415863037109375,
          0.35847365856170654,
          0.3580760061740875,
          0.3286842107772827,
          0.33780884742736816
         ]
        },
        {
         "name": "Validation Loss",
         "type": "scatter",
         "x": [
          0,
          1,
          2,
          3,
          4,
          5,
          6,
          7,
          8,
          9,
          10,
          11,
          12,
          13,
          14,
          15,
          16,
          17,
          18,
          19,
          20,
          21,
          22,
          23,
          24
         ],
         "y": [
          5.010629653930664,
          3.23124361038208,
          2.4163198471069336,
          2.0122601985931396,
          1.816811203956604,
          1.6068938970565796,
          1.6030250787734985,
          1.5367580652236938,
          1.4913986921310425,
          1.3734413385391235,
          1.4262981414794922,
          1.4047983884811401,
          1.44516921043396,
          1.4047353267669678,
          1.4373661279678345,
          1.3548380136489868,
          1.4089221954345703,
          1.4033652544021606,
          1.415297031402588,
          1.4113316535949707,
          1.4815568923950195,
          1.497849464416504,
          1.5555436611175537,
          1.5778679847717285,
          1.5226387977600098
         ]
        },
        {
         "name": "Training Accuracy",
         "type": "scatter",
         "x": [
          0,
          1,
          2,
          3,
          4,
          5,
          6,
          7,
          8,
          9,
          10,
          11,
          12,
          13,
          14,
          15,
          16,
          17,
          18,
          19,
          20,
          21,
          22,
          23,
          24
         ],
         "y": [
          0.0659409835934639,
          0.24082404375076294,
          0.42362359166145325,
          0.5488485097885132,
          0.6291831731796265,
          0.6875674724578857,
          0.731827974319458,
          0.7623245716094971,
          0.7889528870582581,
          0.8028067946434021,
          0.8183699250221252,
          0.8306045532226562,
          0.8443684577941895,
          0.8586722016334534,
          0.8585821986198425,
          0.8718063831329346,
          0.8808923959732056,
          0.8748650550842285,
          0.8816120624542236,
          0.8844908475875854,
          0.8926772475242615,
          0.8942065238952637,
          0.8951061367988586,
          0.9059913754463196,
          0.9026628136634827
         ],
         "yaxis": "y2"
        },
        {
         "name": "Validation Accuracy",
         "type": "scatter",
         "x": [
          0,
          1,
          2,
          3,
          4,
          5,
          6,
          7,
          8,
          9,
          10,
          11,
          12,
          13,
          14,
          15,
          16,
          17,
          18,
          19,
          20,
          21,
          22,
          23,
          24
         ],
         "y": [
          0.14002880454063416,
          0.3729301691055298,
          0.5010799169540405,
          0.5719942450523376,
          0.6245500445365906,
          0.6587473154067993,
          0.6670266389846802,
          0.6810654997825623,
          0.6958243250846863,
          0.7123830318450928,
          0.7069834470748901,
          0.7199423909187317,
          0.7087832689285278,
          0.730741560459137,
          0.720302402973175,
          0.7383009195327759,
          0.7401008009910583,
          0.7437005043029785,
          0.7357811331748962,
          0.7519798278808594,
          0.732901394367218,
          0.7422606348991394,
          0.7336212992668152,
          0.7318214774131775,
          0.7451403737068176
         ],
         "yaxis": "y2"
        }
       ],
       "layout": {
        "height": 600,
        "legend": {
         "orientation": "h",
         "x": 1,
         "xanchor": "right",
         "y": 1.02,
         "yanchor": "bottom"
        },
        "template": {
         "data": {
          "bar": [
           {
            "error_x": {
             "color": "#2a3f5f"
            },
            "error_y": {
             "color": "#2a3f5f"
            },
            "marker": {
             "line": {
              "color": "#E5ECF6",
              "width": 0.5
             },
             "pattern": {
              "fillmode": "overlay",
              "size": 10,
              "solidity": 0.2
             }
            },
            "type": "bar"
           }
          ],
          "barpolar": [
           {
            "marker": {
             "line": {
              "color": "#E5ECF6",
              "width": 0.5
             },
             "pattern": {
              "fillmode": "overlay",
              "size": 10,
              "solidity": 0.2
             }
            },
            "type": "barpolar"
           }
          ],
          "carpet": [
           {
            "aaxis": {
             "endlinecolor": "#2a3f5f",
             "gridcolor": "white",
             "linecolor": "white",
             "minorgridcolor": "white",
             "startlinecolor": "#2a3f5f"
            },
            "baxis": {
             "endlinecolor": "#2a3f5f",
             "gridcolor": "white",
             "linecolor": "white",
             "minorgridcolor": "white",
             "startlinecolor": "#2a3f5f"
            },
            "type": "carpet"
           }
          ],
          "choropleth": [
           {
            "colorbar": {
             "outlinewidth": 0,
             "ticks": ""
            },
            "type": "choropleth"
           }
          ],
          "contour": [
           {
            "colorbar": {
             "outlinewidth": 0,
             "ticks": ""
            },
            "colorscale": [
             [
              0,
              "#0d0887"
             ],
             [
              0.1111111111111111,
              "#46039f"
             ],
             [
              0.2222222222222222,
              "#7201a8"
             ],
             [
              0.3333333333333333,
              "#9c179e"
             ],
             [
              0.4444444444444444,
              "#bd3786"
             ],
             [
              0.5555555555555556,
              "#d8576b"
             ],
             [
              0.6666666666666666,
              "#ed7953"
             ],
             [
              0.7777777777777778,
              "#fb9f3a"
             ],
             [
              0.8888888888888888,
              "#fdca26"
             ],
             [
              1,
              "#f0f921"
             ]
            ],
            "type": "contour"
           }
          ],
          "contourcarpet": [
           {
            "colorbar": {
             "outlinewidth": 0,
             "ticks": ""
            },
            "type": "contourcarpet"
           }
          ],
          "heatmap": [
           {
            "colorbar": {
             "outlinewidth": 0,
             "ticks": ""
            },
            "colorscale": [
             [
              0,
              "#0d0887"
             ],
             [
              0.1111111111111111,
              "#46039f"
             ],
             [
              0.2222222222222222,
              "#7201a8"
             ],
             [
              0.3333333333333333,
              "#9c179e"
             ],
             [
              0.4444444444444444,
              "#bd3786"
             ],
             [
              0.5555555555555556,
              "#d8576b"
             ],
             [
              0.6666666666666666,
              "#ed7953"
             ],
             [
              0.7777777777777778,
              "#fb9f3a"
             ],
             [
              0.8888888888888888,
              "#fdca26"
             ],
             [
              1,
              "#f0f921"
             ]
            ],
            "type": "heatmap"
           }
          ],
          "heatmapgl": [
           {
            "colorbar": {
             "outlinewidth": 0,
             "ticks": ""
            },
            "colorscale": [
             [
              0,
              "#0d0887"
             ],
             [
              0.1111111111111111,
              "#46039f"
             ],
             [
              0.2222222222222222,
              "#7201a8"
             ],
             [
              0.3333333333333333,
              "#9c179e"
             ],
             [
              0.4444444444444444,
              "#bd3786"
             ],
             [
              0.5555555555555556,
              "#d8576b"
             ],
             [
              0.6666666666666666,
              "#ed7953"
             ],
             [
              0.7777777777777778,
              "#fb9f3a"
             ],
             [
              0.8888888888888888,
              "#fdca26"
             ],
             [
              1,
              "#f0f921"
             ]
            ],
            "type": "heatmapgl"
           }
          ],
          "histogram": [
           {
            "marker": {
             "pattern": {
              "fillmode": "overlay",
              "size": 10,
              "solidity": 0.2
             }
            },
            "type": "histogram"
           }
          ],
          "histogram2d": [
           {
            "colorbar": {
             "outlinewidth": 0,
             "ticks": ""
            },
            "colorscale": [
             [
              0,
              "#0d0887"
             ],
             [
              0.1111111111111111,
              "#46039f"
             ],
             [
              0.2222222222222222,
              "#7201a8"
             ],
             [
              0.3333333333333333,
              "#9c179e"
             ],
             [
              0.4444444444444444,
              "#bd3786"
             ],
             [
              0.5555555555555556,
              "#d8576b"
             ],
             [
              0.6666666666666666,
              "#ed7953"
             ],
             [
              0.7777777777777778,
              "#fb9f3a"
             ],
             [
              0.8888888888888888,
              "#fdca26"
             ],
             [
              1,
              "#f0f921"
             ]
            ],
            "type": "histogram2d"
           }
          ],
          "histogram2dcontour": [
           {
            "colorbar": {
             "outlinewidth": 0,
             "ticks": ""
            },
            "colorscale": [
             [
              0,
              "#0d0887"
             ],
             [
              0.1111111111111111,
              "#46039f"
             ],
             [
              0.2222222222222222,
              "#7201a8"
             ],
             [
              0.3333333333333333,
              "#9c179e"
             ],
             [
              0.4444444444444444,
              "#bd3786"
             ],
             [
              0.5555555555555556,
              "#d8576b"
             ],
             [
              0.6666666666666666,
              "#ed7953"
             ],
             [
              0.7777777777777778,
              "#fb9f3a"
             ],
             [
              0.8888888888888888,
              "#fdca26"
             ],
             [
              1,
              "#f0f921"
             ]
            ],
            "type": "histogram2dcontour"
           }
          ],
          "mesh3d": [
           {
            "colorbar": {
             "outlinewidth": 0,
             "ticks": ""
            },
            "type": "mesh3d"
           }
          ],
          "parcoords": [
           {
            "line": {
             "colorbar": {
              "outlinewidth": 0,
              "ticks": ""
             }
            },
            "type": "parcoords"
           }
          ],
          "pie": [
           {
            "automargin": true,
            "type": "pie"
           }
          ],
          "scatter": [
           {
            "fillpattern": {
             "fillmode": "overlay",
             "size": 10,
             "solidity": 0.2
            },
            "type": "scatter"
           }
          ],
          "scatter3d": [
           {
            "line": {
             "colorbar": {
              "outlinewidth": 0,
              "ticks": ""
             }
            },
            "marker": {
             "colorbar": {
              "outlinewidth": 0,
              "ticks": ""
             }
            },
            "type": "scatter3d"
           }
          ],
          "scattercarpet": [
           {
            "marker": {
             "colorbar": {
              "outlinewidth": 0,
              "ticks": ""
             }
            },
            "type": "scattercarpet"
           }
          ],
          "scattergeo": [
           {
            "marker": {
             "colorbar": {
              "outlinewidth": 0,
              "ticks": ""
             }
            },
            "type": "scattergeo"
           }
          ],
          "scattergl": [
           {
            "marker": {
             "colorbar": {
              "outlinewidth": 0,
              "ticks": ""
             }
            },
            "type": "scattergl"
           }
          ],
          "scattermapbox": [
           {
            "marker": {
             "colorbar": {
              "outlinewidth": 0,
              "ticks": ""
             }
            },
            "type": "scattermapbox"
           }
          ],
          "scatterpolar": [
           {
            "marker": {
             "colorbar": {
              "outlinewidth": 0,
              "ticks": ""
             }
            },
            "type": "scatterpolar"
           }
          ],
          "scatterpolargl": [
           {
            "marker": {
             "colorbar": {
              "outlinewidth": 0,
              "ticks": ""
             }
            },
            "type": "scatterpolargl"
           }
          ],
          "scatterternary": [
           {
            "marker": {
             "colorbar": {
              "outlinewidth": 0,
              "ticks": ""
             }
            },
            "type": "scatterternary"
           }
          ],
          "surface": [
           {
            "colorbar": {
             "outlinewidth": 0,
             "ticks": ""
            },
            "colorscale": [
             [
              0,
              "#0d0887"
             ],
             [
              0.1111111111111111,
              "#46039f"
             ],
             [
              0.2222222222222222,
              "#7201a8"
             ],
             [
              0.3333333333333333,
              "#9c179e"
             ],
             [
              0.4444444444444444,
              "#bd3786"
             ],
             [
              0.5555555555555556,
              "#d8576b"
             ],
             [
              0.6666666666666666,
              "#ed7953"
             ],
             [
              0.7777777777777778,
              "#fb9f3a"
             ],
             [
              0.8888888888888888,
              "#fdca26"
             ],
             [
              1,
              "#f0f921"
             ]
            ],
            "type": "surface"
           }
          ],
          "table": [
           {
            "cells": {
             "fill": {
              "color": "#EBF0F8"
             },
             "line": {
              "color": "white"
             }
            },
            "header": {
             "fill": {
              "color": "#C8D4E3"
             },
             "line": {
              "color": "white"
             }
            },
            "type": "table"
           }
          ]
         },
         "layout": {
          "annotationdefaults": {
           "arrowcolor": "#2a3f5f",
           "arrowhead": 0,
           "arrowwidth": 1
          },
          "autotypenumbers": "strict",
          "coloraxis": {
           "colorbar": {
            "outlinewidth": 0,
            "ticks": ""
           }
          },
          "colorscale": {
           "diverging": [
            [
             0,
             "#8e0152"
            ],
            [
             0.1,
             "#c51b7d"
            ],
            [
             0.2,
             "#de77ae"
            ],
            [
             0.3,
             "#f1b6da"
            ],
            [
             0.4,
             "#fde0ef"
            ],
            [
             0.5,
             "#f7f7f7"
            ],
            [
             0.6,
             "#e6f5d0"
            ],
            [
             0.7,
             "#b8e186"
            ],
            [
             0.8,
             "#7fbc41"
            ],
            [
             0.9,
             "#4d9221"
            ],
            [
             1,
             "#276419"
            ]
           ],
           "sequential": [
            [
             0,
             "#0d0887"
            ],
            [
             0.1111111111111111,
             "#46039f"
            ],
            [
             0.2222222222222222,
             "#7201a8"
            ],
            [
             0.3333333333333333,
             "#9c179e"
            ],
            [
             0.4444444444444444,
             "#bd3786"
            ],
            [
             0.5555555555555556,
             "#d8576b"
            ],
            [
             0.6666666666666666,
             "#ed7953"
            ],
            [
             0.7777777777777778,
             "#fb9f3a"
            ],
            [
             0.8888888888888888,
             "#fdca26"
            ],
            [
             1,
             "#f0f921"
            ]
           ],
           "sequentialminus": [
            [
             0,
             "#0d0887"
            ],
            [
             0.1111111111111111,
             "#46039f"
            ],
            [
             0.2222222222222222,
             "#7201a8"
            ],
            [
             0.3333333333333333,
             "#9c179e"
            ],
            [
             0.4444444444444444,
             "#bd3786"
            ],
            [
             0.5555555555555556,
             "#d8576b"
            ],
            [
             0.6666666666666666,
             "#ed7953"
            ],
            [
             0.7777777777777778,
             "#fb9f3a"
            ],
            [
             0.8888888888888888,
             "#fdca26"
            ],
            [
             1,
             "#f0f921"
            ]
           ]
          },
          "colorway": [
           "#636efa",
           "#EF553B",
           "#00cc96",
           "#ab63fa",
           "#FFA15A",
           "#19d3f3",
           "#FF6692",
           "#B6E880",
           "#FF97FF",
           "#FECB52"
          ],
          "font": {
           "color": "#2a3f5f"
          },
          "geo": {
           "bgcolor": "white",
           "lakecolor": "white",
           "landcolor": "#E5ECF6",
           "showlakes": true,
           "showland": true,
           "subunitcolor": "white"
          },
          "hoverlabel": {
           "align": "left"
          },
          "hovermode": "closest",
          "mapbox": {
           "style": "light"
          },
          "paper_bgcolor": "white",
          "plot_bgcolor": "#E5ECF6",
          "polar": {
           "angularaxis": {
            "gridcolor": "white",
            "linecolor": "white",
            "ticks": ""
           },
           "bgcolor": "#E5ECF6",
           "radialaxis": {
            "gridcolor": "white",
            "linecolor": "white",
            "ticks": ""
           }
          },
          "scene": {
           "xaxis": {
            "backgroundcolor": "#E5ECF6",
            "gridcolor": "white",
            "gridwidth": 2,
            "linecolor": "white",
            "showbackground": true,
            "ticks": "",
            "zerolinecolor": "white"
           },
           "yaxis": {
            "backgroundcolor": "#E5ECF6",
            "gridcolor": "white",
            "gridwidth": 2,
            "linecolor": "white",
            "showbackground": true,
            "ticks": "",
            "zerolinecolor": "white"
           },
           "zaxis": {
            "backgroundcolor": "#E5ECF6",
            "gridcolor": "white",
            "gridwidth": 2,
            "linecolor": "white",
            "showbackground": true,
            "ticks": "",
            "zerolinecolor": "white"
           }
          },
          "shapedefaults": {
           "line": {
            "color": "#2a3f5f"
           }
          },
          "ternary": {
           "aaxis": {
            "gridcolor": "white",
            "linecolor": "white",
            "ticks": ""
           },
           "baxis": {
            "gridcolor": "white",
            "linecolor": "white",
            "ticks": ""
           },
           "bgcolor": "#E5ECF6",
           "caxis": {
            "gridcolor": "white",
            "linecolor": "white",
            "ticks": ""
           }
          },
          "title": {
           "x": 0.05
          },
          "xaxis": {
           "automargin": true,
           "gridcolor": "white",
           "linecolor": "white",
           "ticks": "",
           "title": {
            "standoff": 15
           },
           "zerolinecolor": "white",
           "zerolinewidth": 2
          },
          "yaxis": {
           "automargin": true,
           "gridcolor": "white",
           "linecolor": "white",
           "ticks": "",
           "title": {
            "standoff": 15
           },
           "zerolinecolor": "white",
           "zerolinewidth": 2
          }
         }
        },
        "title": {
         "text": "EfficientNetB4 Loss & accuracy"
        },
        "width": 1000,
        "xaxis": {
         "title": {
          "text": "Epochs"
         }
        },
        "yaxis": {
         "range": [
          0,
          5
         ],
         "title": {
          "text": "Loss"
         }
        },
        "yaxis2": {
         "overlaying": "y",
         "range": [
          0,
          1
         ],
         "side": "right",
         "title": {
          "text": "Accuracy"
         }
        }
       }
      }
     },
     "metadata": {},
     "output_type": "display_data"
    }
   ],
   "source": [
    "import plotly.graph_objects as go\n",
    "fig = go.Figure()\n",
    "fig.add_trace(go.Scatter(x=history.epoch, y=history.history['loss'], name=\"Training Loss\"))\n",
    "fig.add_trace(go.Scatter(x=history.epoch, y=history.history['val_loss'], name=\"Validation Loss\"))\n",
    "# add accuracy on different y axis\n",
    "fig.update_layout(yaxis2=dict(overlaying='y', side='right', range=[0, 1], title=\"Accuracy\"))\n",
    "fig.add_trace(go.Scatter(x=history.epoch, y=history.history['accuracy'], name=\"Training Accuracy\", yaxis=\"y2\"))\n",
    "fig.add_trace(go.Scatter(x=history.epoch, y=history.history['val_accuracy'], name=\"Validation Accuracy\", yaxis=\"y2\"))\n",
    "fig.update_layout(title=\"EfficientNetB4 Loss & accuracy\",\n",
    "                  legend=dict(\n",
    "                        orientation=\"h\",\n",
    "                        yanchor=\"bottom\",\n",
    "                        y=1.02,\n",
    "                        xanchor=\"right\",\n",
    "                        x=1\n",
    "                        ),\n",
    "                  yaxis=dict(range=[0, 5],title=\"Loss\"),\n",
    "                  xaxis=dict(title=\"Epochs\")\n",
    "                  )\n",
    "fig.update_layout(width=1000, height=600)\n",
    "fig.show()"
   ]
  },
  {
   "cell_type": "code",
   "execution_count": 23,
   "metadata": {},
   "outputs": [
    {
     "data": {
      "application/vnd.plotly.v1+json": {
       "config": {
        "plotlyServerURL": "https://plot.ly"
       },
       "data": [
        {
         "name": "Training Loss",
         "type": "scatter",
         "x": [
          0,
          1,
          2,
          3,
          4,
          5,
          6,
          7,
          8,
          9,
          10,
          11,
          12,
          13,
          14,
          15,
          16,
          17,
          18,
          19,
          20,
          21,
          22,
          23,
          24
         ],
         "y": [
          6.664043426513672,
          5.876828670501709,
          5.360585689544678,
          4.957625389099121,
          4.587326526641846,
          4.303035736083984,
          4.042333602905273,
          3.7885706424713135,
          3.580533504486084,
          3.36997127532959,
          3.18489933013916,
          3.055246353149414,
          2.9438867568969727,
          2.807888984680176,
          2.7201380729675293,
          2.6097500324249268,
          2.533769130706787,
          2.449099063873291,
          2.3782882690429688,
          2.300478219985962,
          2.254746913909912,
          2.2046396732330322,
          2.148519277572632,
          2.1011664867401123,
          2.0693516731262207
         ]
        },
        {
         "name": "Validation Loss",
         "type": "scatter",
         "x": [
          0,
          1,
          2,
          3,
          4,
          5,
          6,
          7,
          8,
          9,
          10,
          11,
          12,
          13,
          14,
          15,
          16,
          17,
          18,
          19,
          20,
          21,
          22,
          23,
          24
         ],
         "y": [
          6.126150131225586,
          5.5835065841674805,
          5.393795013427734,
          4.796797275543213,
          4.570725440979004,
          4.311995029449463,
          4.465097427368164,
          4.551915168762207,
          3.6243278980255127,
          4.723054885864258,
          3.5138254165649414,
          4.832195281982422,
          3.7849302291870117,
          3.486424684524536,
          7.47685432434082,
          4.500359535217285,
          2.9527947902679443,
          4.628369331359863,
          4.79256534576416,
          2.5736422538757324,
          3.013932704925537,
          2.745778799057007,
          5.2002854347229,
          4.658914089202881,
          4.5636138916015625
         ]
        },
        {
         "name": "Training Accuracy",
         "type": "scatter",
         "x": [
          0,
          1,
          2,
          3,
          4,
          5,
          6,
          7,
          8,
          9,
          10,
          11,
          12,
          13,
          14,
          15,
          16,
          17,
          18,
          19,
          20,
          21,
          22,
          23,
          24
         ],
         "y": [
          0.025098957121372223,
          0.04875854775309563,
          0.07169844955205917,
          0.09499820321798325,
          0.12567470967769623,
          0.15122346580028534,
          0.18055056035518646,
          0.21446563303470612,
          0.2451421320438385,
          0.27213025093078613,
          0.30334651470184326,
          0.3189096748828888,
          0.33528247475624084,
          0.3616408705711365,
          0.37288594245910645,
          0.39591580629348755,
          0.40797048807144165,
          0.42551276087760925,
          0.43666785955429077,
          0.45187118649482727,
          0.4578985273838043,
          0.4688737094402313,
          0.4797589182853699,
          0.4929830729961395,
          0.4906441271305084
         ],
         "yaxis": "y2"
        },
        {
         "name": "Validation Accuracy",
         "type": "scatter",
         "x": [
          0,
          1,
          2,
          3,
          4,
          5,
          6,
          7,
          8,
          9,
          10,
          11,
          12,
          13,
          14,
          15,
          16,
          17,
          18,
          19,
          20,
          21,
          22,
          23,
          24
         ],
         "y": [
          0.04031677544116974,
          0.063714899122715,
          0.06875450164079666,
          0.11123110353946686,
          0.13678905367851257,
          0.17674586176872253,
          0.1709863245487213,
          0.15406768023967743,
          0.2714182734489441,
          0.1846652328968048,
          0.3041756749153137,
          0.1803455650806427,
          0.27069833874702454,
          0.297336220741272,
          0.1029517650604248,
          0.24334053695201874,
          0.39452844858169556,
          0.23902088403701782,
          0.23866090178489685,
          0.4503239691257477,
          0.38120949268341064,
          0.4269258379936218,
          0.2501799762248993,
          0.2714182734489441,
          0.2861770987510681
         ],
         "yaxis": "y2"
        }
       ],
       "layout": {
        "height": 600,
        "legend": {
         "orientation": "h",
         "x": 1,
         "xanchor": "right",
         "y": 1.02,
         "yanchor": "bottom"
        },
        "template": {
         "data": {
          "bar": [
           {
            "error_x": {
             "color": "#2a3f5f"
            },
            "error_y": {
             "color": "#2a3f5f"
            },
            "marker": {
             "line": {
              "color": "#E5ECF6",
              "width": 0.5
             },
             "pattern": {
              "fillmode": "overlay",
              "size": 10,
              "solidity": 0.2
             }
            },
            "type": "bar"
           }
          ],
          "barpolar": [
           {
            "marker": {
             "line": {
              "color": "#E5ECF6",
              "width": 0.5
             },
             "pattern": {
              "fillmode": "overlay",
              "size": 10,
              "solidity": 0.2
             }
            },
            "type": "barpolar"
           }
          ],
          "carpet": [
           {
            "aaxis": {
             "endlinecolor": "#2a3f5f",
             "gridcolor": "white",
             "linecolor": "white",
             "minorgridcolor": "white",
             "startlinecolor": "#2a3f5f"
            },
            "baxis": {
             "endlinecolor": "#2a3f5f",
             "gridcolor": "white",
             "linecolor": "white",
             "minorgridcolor": "white",
             "startlinecolor": "#2a3f5f"
            },
            "type": "carpet"
           }
          ],
          "choropleth": [
           {
            "colorbar": {
             "outlinewidth": 0,
             "ticks": ""
            },
            "type": "choropleth"
           }
          ],
          "contour": [
           {
            "colorbar": {
             "outlinewidth": 0,
             "ticks": ""
            },
            "colorscale": [
             [
              0,
              "#0d0887"
             ],
             [
              0.1111111111111111,
              "#46039f"
             ],
             [
              0.2222222222222222,
              "#7201a8"
             ],
             [
              0.3333333333333333,
              "#9c179e"
             ],
             [
              0.4444444444444444,
              "#bd3786"
             ],
             [
              0.5555555555555556,
              "#d8576b"
             ],
             [
              0.6666666666666666,
              "#ed7953"
             ],
             [
              0.7777777777777778,
              "#fb9f3a"
             ],
             [
              0.8888888888888888,
              "#fdca26"
             ],
             [
              1,
              "#f0f921"
             ]
            ],
            "type": "contour"
           }
          ],
          "contourcarpet": [
           {
            "colorbar": {
             "outlinewidth": 0,
             "ticks": ""
            },
            "type": "contourcarpet"
           }
          ],
          "heatmap": [
           {
            "colorbar": {
             "outlinewidth": 0,
             "ticks": ""
            },
            "colorscale": [
             [
              0,
              "#0d0887"
             ],
             [
              0.1111111111111111,
              "#46039f"
             ],
             [
              0.2222222222222222,
              "#7201a8"
             ],
             [
              0.3333333333333333,
              "#9c179e"
             ],
             [
              0.4444444444444444,
              "#bd3786"
             ],
             [
              0.5555555555555556,
              "#d8576b"
             ],
             [
              0.6666666666666666,
              "#ed7953"
             ],
             [
              0.7777777777777778,
              "#fb9f3a"
             ],
             [
              0.8888888888888888,
              "#fdca26"
             ],
             [
              1,
              "#f0f921"
             ]
            ],
            "type": "heatmap"
           }
          ],
          "heatmapgl": [
           {
            "colorbar": {
             "outlinewidth": 0,
             "ticks": ""
            },
            "colorscale": [
             [
              0,
              "#0d0887"
             ],
             [
              0.1111111111111111,
              "#46039f"
             ],
             [
              0.2222222222222222,
              "#7201a8"
             ],
             [
              0.3333333333333333,
              "#9c179e"
             ],
             [
              0.4444444444444444,
              "#bd3786"
             ],
             [
              0.5555555555555556,
              "#d8576b"
             ],
             [
              0.6666666666666666,
              "#ed7953"
             ],
             [
              0.7777777777777778,
              "#fb9f3a"
             ],
             [
              0.8888888888888888,
              "#fdca26"
             ],
             [
              1,
              "#f0f921"
             ]
            ],
            "type": "heatmapgl"
           }
          ],
          "histogram": [
           {
            "marker": {
             "pattern": {
              "fillmode": "overlay",
              "size": 10,
              "solidity": 0.2
             }
            },
            "type": "histogram"
           }
          ],
          "histogram2d": [
           {
            "colorbar": {
             "outlinewidth": 0,
             "ticks": ""
            },
            "colorscale": [
             [
              0,
              "#0d0887"
             ],
             [
              0.1111111111111111,
              "#46039f"
             ],
             [
              0.2222222222222222,
              "#7201a8"
             ],
             [
              0.3333333333333333,
              "#9c179e"
             ],
             [
              0.4444444444444444,
              "#bd3786"
             ],
             [
              0.5555555555555556,
              "#d8576b"
             ],
             [
              0.6666666666666666,
              "#ed7953"
             ],
             [
              0.7777777777777778,
              "#fb9f3a"
             ],
             [
              0.8888888888888888,
              "#fdca26"
             ],
             [
              1,
              "#f0f921"
             ]
            ],
            "type": "histogram2d"
           }
          ],
          "histogram2dcontour": [
           {
            "colorbar": {
             "outlinewidth": 0,
             "ticks": ""
            },
            "colorscale": [
             [
              0,
              "#0d0887"
             ],
             [
              0.1111111111111111,
              "#46039f"
             ],
             [
              0.2222222222222222,
              "#7201a8"
             ],
             [
              0.3333333333333333,
              "#9c179e"
             ],
             [
              0.4444444444444444,
              "#bd3786"
             ],
             [
              0.5555555555555556,
              "#d8576b"
             ],
             [
              0.6666666666666666,
              "#ed7953"
             ],
             [
              0.7777777777777778,
              "#fb9f3a"
             ],
             [
              0.8888888888888888,
              "#fdca26"
             ],
             [
              1,
              "#f0f921"
             ]
            ],
            "type": "histogram2dcontour"
           }
          ],
          "mesh3d": [
           {
            "colorbar": {
             "outlinewidth": 0,
             "ticks": ""
            },
            "type": "mesh3d"
           }
          ],
          "parcoords": [
           {
            "line": {
             "colorbar": {
              "outlinewidth": 0,
              "ticks": ""
             }
            },
            "type": "parcoords"
           }
          ],
          "pie": [
           {
            "automargin": true,
            "type": "pie"
           }
          ],
          "scatter": [
           {
            "fillpattern": {
             "fillmode": "overlay",
             "size": 10,
             "solidity": 0.2
            },
            "type": "scatter"
           }
          ],
          "scatter3d": [
           {
            "line": {
             "colorbar": {
              "outlinewidth": 0,
              "ticks": ""
             }
            },
            "marker": {
             "colorbar": {
              "outlinewidth": 0,
              "ticks": ""
             }
            },
            "type": "scatter3d"
           }
          ],
          "scattercarpet": [
           {
            "marker": {
             "colorbar": {
              "outlinewidth": 0,
              "ticks": ""
             }
            },
            "type": "scattercarpet"
           }
          ],
          "scattergeo": [
           {
            "marker": {
             "colorbar": {
              "outlinewidth": 0,
              "ticks": ""
             }
            },
            "type": "scattergeo"
           }
          ],
          "scattergl": [
           {
            "marker": {
             "colorbar": {
              "outlinewidth": 0,
              "ticks": ""
             }
            },
            "type": "scattergl"
           }
          ],
          "scattermapbox": [
           {
            "marker": {
             "colorbar": {
              "outlinewidth": 0,
              "ticks": ""
             }
            },
            "type": "scattermapbox"
           }
          ],
          "scatterpolar": [
           {
            "marker": {
             "colorbar": {
              "outlinewidth": 0,
              "ticks": ""
             }
            },
            "type": "scatterpolar"
           }
          ],
          "scatterpolargl": [
           {
            "marker": {
             "colorbar": {
              "outlinewidth": 0,
              "ticks": ""
             }
            },
            "type": "scatterpolargl"
           }
          ],
          "scatterternary": [
           {
            "marker": {
             "colorbar": {
              "outlinewidth": 0,
              "ticks": ""
             }
            },
            "type": "scatterternary"
           }
          ],
          "surface": [
           {
            "colorbar": {
             "outlinewidth": 0,
             "ticks": ""
            },
            "colorscale": [
             [
              0,
              "#0d0887"
             ],
             [
              0.1111111111111111,
              "#46039f"
             ],
             [
              0.2222222222222222,
              "#7201a8"
             ],
             [
              0.3333333333333333,
              "#9c179e"
             ],
             [
              0.4444444444444444,
              "#bd3786"
             ],
             [
              0.5555555555555556,
              "#d8576b"
             ],
             [
              0.6666666666666666,
              "#ed7953"
             ],
             [
              0.7777777777777778,
              "#fb9f3a"
             ],
             [
              0.8888888888888888,
              "#fdca26"
             ],
             [
              1,
              "#f0f921"
             ]
            ],
            "type": "surface"
           }
          ],
          "table": [
           {
            "cells": {
             "fill": {
              "color": "#EBF0F8"
             },
             "line": {
              "color": "white"
             }
            },
            "header": {
             "fill": {
              "color": "#C8D4E3"
             },
             "line": {
              "color": "white"
             }
            },
            "type": "table"
           }
          ]
         },
         "layout": {
          "annotationdefaults": {
           "arrowcolor": "#2a3f5f",
           "arrowhead": 0,
           "arrowwidth": 1
          },
          "autotypenumbers": "strict",
          "coloraxis": {
           "colorbar": {
            "outlinewidth": 0,
            "ticks": ""
           }
          },
          "colorscale": {
           "diverging": [
            [
             0,
             "#8e0152"
            ],
            [
             0.1,
             "#c51b7d"
            ],
            [
             0.2,
             "#de77ae"
            ],
            [
             0.3,
             "#f1b6da"
            ],
            [
             0.4,
             "#fde0ef"
            ],
            [
             0.5,
             "#f7f7f7"
            ],
            [
             0.6,
             "#e6f5d0"
            ],
            [
             0.7,
             "#b8e186"
            ],
            [
             0.8,
             "#7fbc41"
            ],
            [
             0.9,
             "#4d9221"
            ],
            [
             1,
             "#276419"
            ]
           ],
           "sequential": [
            [
             0,
             "#0d0887"
            ],
            [
             0.1111111111111111,
             "#46039f"
            ],
            [
             0.2222222222222222,
             "#7201a8"
            ],
            [
             0.3333333333333333,
             "#9c179e"
            ],
            [
             0.4444444444444444,
             "#bd3786"
            ],
            [
             0.5555555555555556,
             "#d8576b"
            ],
            [
             0.6666666666666666,
             "#ed7953"
            ],
            [
             0.7777777777777778,
             "#fb9f3a"
            ],
            [
             0.8888888888888888,
             "#fdca26"
            ],
            [
             1,
             "#f0f921"
            ]
           ],
           "sequentialminus": [
            [
             0,
             "#0d0887"
            ],
            [
             0.1111111111111111,
             "#46039f"
            ],
            [
             0.2222222222222222,
             "#7201a8"
            ],
            [
             0.3333333333333333,
             "#9c179e"
            ],
            [
             0.4444444444444444,
             "#bd3786"
            ],
            [
             0.5555555555555556,
             "#d8576b"
            ],
            [
             0.6666666666666666,
             "#ed7953"
            ],
            [
             0.7777777777777778,
             "#fb9f3a"
            ],
            [
             0.8888888888888888,
             "#fdca26"
            ],
            [
             1,
             "#f0f921"
            ]
           ]
          },
          "colorway": [
           "#636efa",
           "#EF553B",
           "#00cc96",
           "#ab63fa",
           "#FFA15A",
           "#19d3f3",
           "#FF6692",
           "#B6E880",
           "#FF97FF",
           "#FECB52"
          ],
          "font": {
           "color": "#2a3f5f"
          },
          "geo": {
           "bgcolor": "white",
           "lakecolor": "white",
           "landcolor": "#E5ECF6",
           "showlakes": true,
           "showland": true,
           "subunitcolor": "white"
          },
          "hoverlabel": {
           "align": "left"
          },
          "hovermode": "closest",
          "mapbox": {
           "style": "light"
          },
          "paper_bgcolor": "white",
          "plot_bgcolor": "#E5ECF6",
          "polar": {
           "angularaxis": {
            "gridcolor": "white",
            "linecolor": "white",
            "ticks": ""
           },
           "bgcolor": "#E5ECF6",
           "radialaxis": {
            "gridcolor": "white",
            "linecolor": "white",
            "ticks": ""
           }
          },
          "scene": {
           "xaxis": {
            "backgroundcolor": "#E5ECF6",
            "gridcolor": "white",
            "gridwidth": 2,
            "linecolor": "white",
            "showbackground": true,
            "ticks": "",
            "zerolinecolor": "white"
           },
           "yaxis": {
            "backgroundcolor": "#E5ECF6",
            "gridcolor": "white",
            "gridwidth": 2,
            "linecolor": "white",
            "showbackground": true,
            "ticks": "",
            "zerolinecolor": "white"
           },
           "zaxis": {
            "backgroundcolor": "#E5ECF6",
            "gridcolor": "white",
            "gridwidth": 2,
            "linecolor": "white",
            "showbackground": true,
            "ticks": "",
            "zerolinecolor": "white"
           }
          },
          "shapedefaults": {
           "line": {
            "color": "#2a3f5f"
           }
          },
          "ternary": {
           "aaxis": {
            "gridcolor": "white",
            "linecolor": "white",
            "ticks": ""
           },
           "baxis": {
            "gridcolor": "white",
            "linecolor": "white",
            "ticks": ""
           },
           "bgcolor": "#E5ECF6",
           "caxis": {
            "gridcolor": "white",
            "linecolor": "white",
            "ticks": ""
           }
          },
          "title": {
           "x": 0.05
          },
          "xaxis": {
           "automargin": true,
           "gridcolor": "white",
           "linecolor": "white",
           "ticks": "",
           "title": {
            "standoff": 15
           },
           "zerolinecolor": "white",
           "zerolinewidth": 2
          },
          "yaxis": {
           "automargin": true,
           "gridcolor": "white",
           "linecolor": "white",
           "ticks": "",
           "title": {
            "standoff": 15
           },
           "zerolinecolor": "white",
           "zerolinewidth": 2
          }
         }
        },
        "title": {
         "text": "CNN Loss & Accuracy"
        },
        "width": 1000,
        "xaxis": {
         "title": {
          "text": "Epochs"
         }
        },
        "yaxis": {
         "range": [
          0,
          5
         ],
         "title": {
          "text": "Loss"
         }
        },
        "yaxis2": {
         "overlaying": "y",
         "range": [
          0,
          1
         ],
         "side": "right",
         "title": {
          "text": "Accuracy"
         }
        }
       }
      }
     },
     "metadata": {},
     "output_type": "display_data"
    }
   ],
   "source": [
    "# same plot but give blue color to train and orange to validation\n",
    "fig = go.Figure()\n",
    "fig.add_trace(go.Scatter(x=history_cnn.epoch, y=history_cnn.history['loss'], name=\"Training Loss\"))\n",
    "fig.add_trace(go.Scatter(x=history_cnn.epoch, y=history_cnn.history['val_loss'], name=\"Validation Loss\"))\n",
    "# add accuracy on different y axis\n",
    "fig.update_layout(yaxis2=dict(overlaying='y', side='right', range=[0, 1], title=\"Accuracy\"))\n",
    "fig.add_trace(go.Scatter(x=history_cnn.epoch, y=history_cnn.history['accuracy'], name=\"Training Accuracy\", yaxis=\"y2\"))\n",
    "fig.add_trace(go.Scatter(x=history_cnn.epoch, y=history_cnn.history['val_accuracy'], name=\"Validation Accuracy\", yaxis=\"y2\"))\n",
    "fig.update_layout(title=\"CNN Loss & Accuracy\",\n",
    "                  legend=dict(\n",
    "                        orientation=\"h\",\n",
    "                        yanchor=\"bottom\",\n",
    "                        y=1.02,\n",
    "                        xanchor=\"right\",\n",
    "                        x=1\n",
    "                        ),\n",
    "                  yaxis=dict(range=[0, 5],title=\"Loss\"),\n",
    "                  xaxis=dict(title=\"Epochs\")\n",
    "                  )\n",
    "fig.update_layout(width=1000, height=600)\n",
    "fig.show()"
   ]
  },
  {
   "attachments": {},
   "cell_type": "markdown",
   "metadata": {},
   "source": [
    "## TEST"
   ]
  },
  {
   "cell_type": "code",
   "execution_count": 15,
   "metadata": {},
   "outputs": [],
   "source": [
    "def top_k(y_pred, k=3):\n",
    "    # retrieve the top k predictions as sorted dictionary of {class: probability}\n",
    "    top_k = tf.math.top_k(y_pred, k=k)\n",
    "    prob = top_k.values.numpy().tolist()\n",
    "    prob = [round(p, 2) for p in prob]\n",
    "    # convert the dictionary to a list of class indices\n",
    "    name = top_k.indices.numpy().tolist()\n",
    "    name = [class_names[i] for i in name]\n",
    "    ret = {}\n",
    "    for i in range(len(prob)):\n",
    "        if prob[i] > 0.05:\n",
    "            ret[name[i]] = prob[i]\n",
    "    return ret"
   ]
  },
  {
   "cell_type": "code",
   "execution_count": 16,
   "metadata": {},
   "outputs": [
    {
     "name": "stdout",
     "output_type": "stream",
     "text": [
      "87/87 [==============================] - 2s 22ms/step\n",
      "87/87 [==============================] - 8s 50ms/step\n"
     ]
    }
   ],
   "source": [
    "y_pred_cnn = cnn.predict(val_ds)\n",
    "y_pred_eff = model.predict(val_ds)"
   ]
  },
  {
   "cell_type": "code",
   "execution_count": 17,
   "metadata": {},
   "outputs": [],
   "source": [
    "y_test = []\n",
    "for i in val_ds:\n",
    "    y_test.extend(i[1].numpy())\n",
    "import numpy as np\n",
    "y_test = np.array(y_test)"
   ]
  },
  {
   "cell_type": "code",
   "execution_count": 18,
   "metadata": {},
   "outputs": [],
   "source": [
    "y_pred_cnn_ = np.argmax(y_pred_cnn, axis=1).reshape(-1, 1)\n",
    "y_pred_eff_ = np.argmax(y_pred_eff, axis=1).reshape(-1, 1)\n",
    "\n",
    "y_test = np.argmax(y_test, axis=1).reshape(-1, 1)"
   ]
  },
  {
   "cell_type": "code",
   "execution_count": 40,
   "metadata": {},
   "outputs": [
    {
     "name": "stdout",
     "output_type": "stream",
     "text": [
      "Kappa score for EfficientNetB4:  0.7446011818478946\n",
      "Kappa score for CNN:  0.28485547620141827\n"
     ]
    }
   ],
   "source": [
    "from sklearn.metrics import cohen_kappa_score\n",
    "kappa_eff = cohen_kappa_score(y_test, y_pred_eff_)\n",
    "kappa_cnn = cohen_kappa_score(y_test, y_pred_cnn_)\n",
    "\n",
    "print(\"Kappa score for EfficientNetB4: \", kappa_eff)\n",
    "print(\"Kappa score for CNN: \", kappa_cnn)"
   ]
  },
  {
   "cell_type": "code",
   "execution_count": 19,
   "metadata": {},
   "outputs": [
    {
     "data": {
      "application/vnd.plotly.v1+json": {
       "config": {
        "plotlyServerURL": "https://plot.ly"
       },
       "data": [
        {
         "hovertemplate": "x: %{x}<br>y: %{y}<extra></extra>",
         "name": "0",
         "source": "data:image/png;base64,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",
         "type": "image",
         "xaxis": "x",
         "yaxis": "y"
        }
       ],
       "layout": {
        "height": 350,
        "margin": {
         "l": 0,
         "t": 60
        },
        "shapes": [
         {
          "line": {
           "color": "black",
           "width": 2
          },
          "type": "rect",
          "x0": 0,
          "x1": 128,
          "xref": "x",
          "y0": 0,
          "y1": 128,
          "yref": "y"
         }
        ],
        "template": {
         "data": {
          "bar": [
           {
            "error_x": {
             "color": "#2a3f5f"
            },
            "error_y": {
             "color": "#2a3f5f"
            },
            "marker": {
             "line": {
              "color": "#E5ECF6",
              "width": 0.5
             },
             "pattern": {
              "fillmode": "overlay",
              "size": 10,
              "solidity": 0.2
             }
            },
            "type": "bar"
           }
          ],
          "barpolar": [
           {
            "marker": {
             "line": {
              "color": "#E5ECF6",
              "width": 0.5
             },
             "pattern": {
              "fillmode": "overlay",
              "size": 10,
              "solidity": 0.2
             }
            },
            "type": "barpolar"
           }
          ],
          "carpet": [
           {
            "aaxis": {
             "endlinecolor": "#2a3f5f",
             "gridcolor": "white",
             "linecolor": "white",
             "minorgridcolor": "white",
             "startlinecolor": "#2a3f5f"
            },
            "baxis": {
             "endlinecolor": "#2a3f5f",
             "gridcolor": "white",
             "linecolor": "white",
             "minorgridcolor": "white",
             "startlinecolor": "#2a3f5f"
            },
            "type": "carpet"
           }
          ],
          "choropleth": [
           {
            "colorbar": {
             "outlinewidth": 0,
             "ticks": ""
            },
            "type": "choropleth"
           }
          ],
          "contour": [
           {
            "colorbar": {
             "outlinewidth": 0,
             "ticks": ""
            },
            "colorscale": [
             [
              0,
              "#0d0887"
             ],
             [
              0.1111111111111111,
              "#46039f"
             ],
             [
              0.2222222222222222,
              "#7201a8"
             ],
             [
              0.3333333333333333,
              "#9c179e"
             ],
             [
              0.4444444444444444,
              "#bd3786"
             ],
             [
              0.5555555555555556,
              "#d8576b"
             ],
             [
              0.6666666666666666,
              "#ed7953"
             ],
             [
              0.7777777777777778,
              "#fb9f3a"
             ],
             [
              0.8888888888888888,
              "#fdca26"
             ],
             [
              1,
              "#f0f921"
             ]
            ],
            "type": "contour"
           }
          ],
          "contourcarpet": [
           {
            "colorbar": {
             "outlinewidth": 0,
             "ticks": ""
            },
            "type": "contourcarpet"
           }
          ],
          "heatmap": [
           {
            "colorbar": {
             "outlinewidth": 0,
             "ticks": ""
            },
            "colorscale": [
             [
              0,
              "#0d0887"
             ],
             [
              0.1111111111111111,
              "#46039f"
             ],
             [
              0.2222222222222222,
              "#7201a8"
             ],
             [
              0.3333333333333333,
              "#9c179e"
             ],
             [
              0.4444444444444444,
              "#bd3786"
             ],
             [
              0.5555555555555556,
              "#d8576b"
             ],
             [
              0.6666666666666666,
              "#ed7953"
             ],
             [
              0.7777777777777778,
              "#fb9f3a"
             ],
             [
              0.8888888888888888,
              "#fdca26"
             ],
             [
              1,
              "#f0f921"
             ]
            ],
            "type": "heatmap"
           }
          ],
          "heatmapgl": [
           {
            "colorbar": {
             "outlinewidth": 0,
             "ticks": ""
            },
            "colorscale": [
             [
              0,
              "#0d0887"
             ],
             [
              0.1111111111111111,
              "#46039f"
             ],
             [
              0.2222222222222222,
              "#7201a8"
             ],
             [
              0.3333333333333333,
              "#9c179e"
             ],
             [
              0.4444444444444444,
              "#bd3786"
             ],
             [
              0.5555555555555556,
              "#d8576b"
             ],
             [
              0.6666666666666666,
              "#ed7953"
             ],
             [
              0.7777777777777778,
              "#fb9f3a"
             ],
             [
              0.8888888888888888,
              "#fdca26"
             ],
             [
              1,
              "#f0f921"
             ]
            ],
            "type": "heatmapgl"
           }
          ],
          "histogram": [
           {
            "marker": {
             "pattern": {
              "fillmode": "overlay",
              "size": 10,
              "solidity": 0.2
             }
            },
            "type": "histogram"
           }
          ],
          "histogram2d": [
           {
            "colorbar": {
             "outlinewidth": 0,
             "ticks": ""
            },
            "colorscale": [
             [
              0,
              "#0d0887"
             ],
             [
              0.1111111111111111,
              "#46039f"
             ],
             [
              0.2222222222222222,
              "#7201a8"
             ],
             [
              0.3333333333333333,
              "#9c179e"
             ],
             [
              0.4444444444444444,
              "#bd3786"
             ],
             [
              0.5555555555555556,
              "#d8576b"
             ],
             [
              0.6666666666666666,
              "#ed7953"
             ],
             [
              0.7777777777777778,
              "#fb9f3a"
             ],
             [
              0.8888888888888888,
              "#fdca26"
             ],
             [
              1,
              "#f0f921"
             ]
            ],
            "type": "histogram2d"
           }
          ],
          "histogram2dcontour": [
           {
            "colorbar": {
             "outlinewidth": 0,
             "ticks": ""
            },
            "colorscale": [
             [
              0,
              "#0d0887"
             ],
             [
              0.1111111111111111,
              "#46039f"
             ],
             [
              0.2222222222222222,
              "#7201a8"
             ],
             [
              0.3333333333333333,
              "#9c179e"
             ],
             [
              0.4444444444444444,
              "#bd3786"
             ],
             [
              0.5555555555555556,
              "#d8576b"
             ],
             [
              0.6666666666666666,
              "#ed7953"
             ],
             [
              0.7777777777777778,
              "#fb9f3a"
             ],
             [
              0.8888888888888888,
              "#fdca26"
             ],
             [
              1,
              "#f0f921"
             ]
            ],
            "type": "histogram2dcontour"
           }
          ],
          "mesh3d": [
           {
            "colorbar": {
             "outlinewidth": 0,
             "ticks": ""
            },
            "type": "mesh3d"
           }
          ],
          "parcoords": [
           {
            "line": {
             "colorbar": {
              "outlinewidth": 0,
              "ticks": ""
             }
            },
            "type": "parcoords"
           }
          ],
          "pie": [
           {
            "automargin": true,
            "type": "pie"
           }
          ],
          "scatter": [
           {
            "fillpattern": {
             "fillmode": "overlay",
             "size": 10,
             "solidity": 0.2
            },
            "type": "scatter"
           }
          ],
          "scatter3d": [
           {
            "line": {
             "colorbar": {
              "outlinewidth": 0,
              "ticks": ""
             }
            },
            "marker": {
             "colorbar": {
              "outlinewidth": 0,
              "ticks": ""
             }
            },
            "type": "scatter3d"
           }
          ],
          "scattercarpet": [
           {
            "marker": {
             "colorbar": {
              "outlinewidth": 0,
              "ticks": ""
             }
            },
            "type": "scattercarpet"
           }
          ],
          "scattergeo": [
           {
            "marker": {
             "colorbar": {
              "outlinewidth": 0,
              "ticks": ""
             }
            },
            "type": "scattergeo"
           }
          ],
          "scattergl": [
           {
            "marker": {
             "colorbar": {
              "outlinewidth": 0,
              "ticks": ""
             }
            },
            "type": "scattergl"
           }
          ],
          "scattermapbox": [
           {
            "marker": {
             "colorbar": {
              "outlinewidth": 0,
              "ticks": ""
             }
            },
            "type": "scattermapbox"
           }
          ],
          "scatterpolar": [
           {
            "marker": {
             "colorbar": {
              "outlinewidth": 0,
              "ticks": ""
             }
            },
            "type": "scatterpolar"
           }
          ],
          "scatterpolargl": [
           {
            "marker": {
             "colorbar": {
              "outlinewidth": 0,
              "ticks": ""
             }
            },
            "type": "scatterpolargl"
           }
          ],
          "scatterternary": [
           {
            "marker": {
             "colorbar": {
              "outlinewidth": 0,
              "ticks": ""
             }
            },
            "type": "scatterternary"
           }
          ],
          "surface": [
           {
            "colorbar": {
             "outlinewidth": 0,
             "ticks": ""
            },
            "colorscale": [
             [
              0,
              "#0d0887"
             ],
             [
              0.1111111111111111,
              "#46039f"
             ],
             [
              0.2222222222222222,
              "#7201a8"
             ],
             [
              0.3333333333333333,
              "#9c179e"
             ],
             [
              0.4444444444444444,
              "#bd3786"
             ],
             [
              0.5555555555555556,
              "#d8576b"
             ],
             [
              0.6666666666666666,
              "#ed7953"
             ],
             [
              0.7777777777777778,
              "#fb9f3a"
             ],
             [
              0.8888888888888888,
              "#fdca26"
             ],
             [
              1,
              "#f0f921"
             ]
            ],
            "type": "surface"
           }
          ],
          "table": [
           {
            "cells": {
             "fill": {
              "color": "#EBF0F8"
             },
             "line": {
              "color": "white"
             }
            },
            "header": {
             "fill": {
              "color": "#C8D4E3"
             },
             "line": {
              "color": "white"
             }
            },
            "type": "table"
           }
          ]
         },
         "layout": {
          "annotationdefaults": {
           "arrowcolor": "#2a3f5f",
           "arrowhead": 0,
           "arrowwidth": 1
          },
          "autotypenumbers": "strict",
          "coloraxis": {
           "colorbar": {
            "outlinewidth": 0,
            "ticks": ""
           }
          },
          "colorscale": {
           "diverging": [
            [
             0,
             "#8e0152"
            ],
            [
             0.1,
             "#c51b7d"
            ],
            [
             0.2,
             "#de77ae"
            ],
            [
             0.3,
             "#f1b6da"
            ],
            [
             0.4,
             "#fde0ef"
            ],
            [
             0.5,
             "#f7f7f7"
            ],
            [
             0.6,
             "#e6f5d0"
            ],
            [
             0.7,
             "#b8e186"
            ],
            [
             0.8,
             "#7fbc41"
            ],
            [
             0.9,
             "#4d9221"
            ],
            [
             1,
             "#276419"
            ]
           ],
           "sequential": [
            [
             0,
             "#0d0887"
            ],
            [
             0.1111111111111111,
             "#46039f"
            ],
            [
             0.2222222222222222,
             "#7201a8"
            ],
            [
             0.3333333333333333,
             "#9c179e"
            ],
            [
             0.4444444444444444,
             "#bd3786"
            ],
            [
             0.5555555555555556,
             "#d8576b"
            ],
            [
             0.6666666666666666,
             "#ed7953"
            ],
            [
             0.7777777777777778,
             "#fb9f3a"
            ],
            [
             0.8888888888888888,
             "#fdca26"
            ],
            [
             1,
             "#f0f921"
            ]
           ],
           "sequentialminus": [
            [
             0,
             "#0d0887"
            ],
            [
             0.1111111111111111,
             "#46039f"
            ],
            [
             0.2222222222222222,
             "#7201a8"
            ],
            [
             0.3333333333333333,
             "#9c179e"
            ],
            [
             0.4444444444444444,
             "#bd3786"
            ],
            [
             0.5555555555555556,
             "#d8576b"
            ],
            [
             0.6666666666666666,
             "#ed7953"
            ],
            [
             0.7777777777777778,
             "#fb9f3a"
            ],
            [
             0.8888888888888888,
             "#fdca26"
            ],
            [
             1,
             "#f0f921"
            ]
           ]
          },
          "colorway": [
           "#636efa",
           "#EF553B",
           "#00cc96",
           "#ab63fa",
           "#FFA15A",
           "#19d3f3",
           "#FF6692",
           "#B6E880",
           "#FF97FF",
           "#FECB52"
          ],
          "font": {
           "color": "#2a3f5f"
          },
          "geo": {
           "bgcolor": "white",
           "lakecolor": "white",
           "landcolor": "#E5ECF6",
           "showlakes": true,
           "showland": true,
           "subunitcolor": "white"
          },
          "hoverlabel": {
           "align": "left"
          },
          "hovermode": "closest",
          "mapbox": {
           "style": "light"
          },
          "paper_bgcolor": "white",
          "plot_bgcolor": "#E5ECF6",
          "polar": {
           "angularaxis": {
            "gridcolor": "white",
            "linecolor": "white",
            "ticks": ""
           },
           "bgcolor": "#E5ECF6",
           "radialaxis": {
            "gridcolor": "white",
            "linecolor": "white",
            "ticks": ""
           }
          },
          "scene": {
           "xaxis": {
            "backgroundcolor": "#E5ECF6",
            "gridcolor": "white",
            "gridwidth": 2,
            "linecolor": "white",
            "showbackground": true,
            "ticks": "",
            "zerolinecolor": "white"
           },
           "yaxis": {
            "backgroundcolor": "#E5ECF6",
            "gridcolor": "white",
            "gridwidth": 2,
            "linecolor": "white",
            "showbackground": true,
            "ticks": "",
            "zerolinecolor": "white"
           },
           "zaxis": {
            "backgroundcolor": "#E5ECF6",
            "gridcolor": "white",
            "gridwidth": 2,
            "linecolor": "white",
            "showbackground": true,
            "ticks": "",
            "zerolinecolor": "white"
           }
          },
          "shapedefaults": {
           "line": {
            "color": "#2a3f5f"
           }
          },
          "ternary": {
           "aaxis": {
            "gridcolor": "white",
            "linecolor": "white",
            "ticks": ""
           },
           "baxis": {
            "gridcolor": "white",
            "linecolor": "white",
            "ticks": ""
           },
           "bgcolor": "#E5ECF6",
           "caxis": {
            "gridcolor": "white",
            "linecolor": "white",
            "ticks": ""
           }
          },
          "title": {
           "x": 0.05
          },
          "xaxis": {
           "automargin": true,
           "gridcolor": "white",
           "linecolor": "white",
           "ticks": "",
           "title": {
            "standoff": 15
           },
           "zerolinecolor": "white",
           "zerolinewidth": 2
          },
          "yaxis": {
           "automargin": true,
           "gridcolor": "white",
           "linecolor": "white",
           "ticks": "",
           "title": {
            "standoff": 15
           },
           "zerolinecolor": "white",
           "zerolinewidth": 2
          }
         }
        },
        "title": {
         "text": "Label: Kakuna"
        },
        "width": 500,
        "xaxis": {
         "anchor": "y",
         "domain": [
          0,
          1
         ],
         "showgrid": false,
         "showticklabels": false,
         "visible": false,
         "zeroline": false
        },
        "yaxis": {
         "anchor": "x",
         "domain": [
          0,
          1
         ],
         "showgrid": false,
         "showticklabels": false,
         "visible": false,
         "zeroline": false
        }
       }
      }
     },
     "metadata": {},
     "output_type": "display_data"
    },
    {
     "data": {
      "application/vnd.plotly.v1+json": {
       "config": {
        "plotlyServerURL": "https://plot.ly"
       },
       "data": [
        {
         "hovertemplate": "x: %{x}<br>y: %{y}<extra></extra>",
         "name": "0",
         "source": "data:image/png;base64,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",
         "type": "image",
         "xaxis": "x",
         "yaxis": "y"
        }
       ],
       "layout": {
        "height": 350,
        "margin": {
         "l": 0,
         "t": 60
        },
        "shapes": [
         {
          "line": {
           "color": "black",
           "width": 2
          },
          "type": "rect",
          "x0": 0,
          "x1": 128,
          "xref": "x",
          "y0": 0,
          "y1": 128,
          "yref": "y"
         }
        ],
        "template": {
         "data": {
          "bar": [
           {
            "error_x": {
             "color": "#2a3f5f"
            },
            "error_y": {
             "color": "#2a3f5f"
            },
            "marker": {
             "line": {
              "color": "#E5ECF6",
              "width": 0.5
             },
             "pattern": {
              "fillmode": "overlay",
              "size": 10,
              "solidity": 0.2
             }
            },
            "type": "bar"
           }
          ],
          "barpolar": [
           {
            "marker": {
             "line": {
              "color": "#E5ECF6",
              "width": 0.5
             },
             "pattern": {
              "fillmode": "overlay",
              "size": 10,
              "solidity": 0.2
             }
            },
            "type": "barpolar"
           }
          ],
          "carpet": [
           {
            "aaxis": {
             "endlinecolor": "#2a3f5f",
             "gridcolor": "white",
             "linecolor": "white",
             "minorgridcolor": "white",
             "startlinecolor": "#2a3f5f"
            },
            "baxis": {
             "endlinecolor": "#2a3f5f",
             "gridcolor": "white",
             "linecolor": "white",
             "minorgridcolor": "white",
             "startlinecolor": "#2a3f5f"
            },
            "type": "carpet"
           }
          ],
          "choropleth": [
           {
            "colorbar": {
             "outlinewidth": 0,
             "ticks": ""
            },
            "type": "choropleth"
           }
          ],
          "contour": [
           {
            "colorbar": {
             "outlinewidth": 0,
             "ticks": ""
            },
            "colorscale": [
             [
              0,
              "#0d0887"
             ],
             [
              0.1111111111111111,
              "#46039f"
             ],
             [
              0.2222222222222222,
              "#7201a8"
             ],
             [
              0.3333333333333333,
              "#9c179e"
             ],
             [
              0.4444444444444444,
              "#bd3786"
             ],
             [
              0.5555555555555556,
              "#d8576b"
             ],
             [
              0.6666666666666666,
              "#ed7953"
             ],
             [
              0.7777777777777778,
              "#fb9f3a"
             ],
             [
              0.8888888888888888,
              "#fdca26"
             ],
             [
              1,
              "#f0f921"
             ]
            ],
            "type": "contour"
           }
          ],
          "contourcarpet": [
           {
            "colorbar": {
             "outlinewidth": 0,
             "ticks": ""
            },
            "type": "contourcarpet"
           }
          ],
          "heatmap": [
           {
            "colorbar": {
             "outlinewidth": 0,
             "ticks": ""
            },
            "colorscale": [
             [
              0,
              "#0d0887"
             ],
             [
              0.1111111111111111,
              "#46039f"
             ],
             [
              0.2222222222222222,
              "#7201a8"
             ],
             [
              0.3333333333333333,
              "#9c179e"
             ],
             [
              0.4444444444444444,
              "#bd3786"
             ],
             [
              0.5555555555555556,
              "#d8576b"
             ],
             [
              0.6666666666666666,
              "#ed7953"
             ],
             [
              0.7777777777777778,
              "#fb9f3a"
             ],
             [
              0.8888888888888888,
              "#fdca26"
             ],
             [
              1,
              "#f0f921"
             ]
            ],
            "type": "heatmap"
           }
          ],
          "heatmapgl": [
           {
            "colorbar": {
             "outlinewidth": 0,
             "ticks": ""
            },
            "colorscale": [
             [
              0,
              "#0d0887"
             ],
             [
              0.1111111111111111,
              "#46039f"
             ],
             [
              0.2222222222222222,
              "#7201a8"
             ],
             [
              0.3333333333333333,
              "#9c179e"
             ],
             [
              0.4444444444444444,
              "#bd3786"
             ],
             [
              0.5555555555555556,
              "#d8576b"
             ],
             [
              0.6666666666666666,
              "#ed7953"
             ],
             [
              0.7777777777777778,
              "#fb9f3a"
             ],
             [
              0.8888888888888888,
              "#fdca26"
             ],
             [
              1,
              "#f0f921"
             ]
            ],
            "type": "heatmapgl"
           }
          ],
          "histogram": [
           {
            "marker": {
             "pattern": {
              "fillmode": "overlay",
              "size": 10,
              "solidity": 0.2
             }
            },
            "type": "histogram"
           }
          ],
          "histogram2d": [
           {
            "colorbar": {
             "outlinewidth": 0,
             "ticks": ""
            },
            "colorscale": [
             [
              0,
              "#0d0887"
             ],
             [
              0.1111111111111111,
              "#46039f"
             ],
             [
              0.2222222222222222,
              "#7201a8"
             ],
             [
              0.3333333333333333,
              "#9c179e"
             ],
             [
              0.4444444444444444,
              "#bd3786"
             ],
             [
              0.5555555555555556,
              "#d8576b"
             ],
             [
              0.6666666666666666,
              "#ed7953"
             ],
             [
              0.7777777777777778,
              "#fb9f3a"
             ],
             [
              0.8888888888888888,
              "#fdca26"
             ],
             [
              1,
              "#f0f921"
             ]
            ],
            "type": "histogram2d"
           }
          ],
          "histogram2dcontour": [
           {
            "colorbar": {
             "outlinewidth": 0,
             "ticks": ""
            },
            "colorscale": [
             [
              0,
              "#0d0887"
             ],
             [
              0.1111111111111111,
              "#46039f"
             ],
             [
              0.2222222222222222,
              "#7201a8"
             ],
             [
              0.3333333333333333,
              "#9c179e"
             ],
             [
              0.4444444444444444,
              "#bd3786"
             ],
             [
              0.5555555555555556,
              "#d8576b"
             ],
             [
              0.6666666666666666,
              "#ed7953"
             ],
             [
              0.7777777777777778,
              "#fb9f3a"
             ],
             [
              0.8888888888888888,
              "#fdca26"
             ],
             [
              1,
              "#f0f921"
             ]
            ],
            "type": "histogram2dcontour"
           }
          ],
          "mesh3d": [
           {
            "colorbar": {
             "outlinewidth": 0,
             "ticks": ""
            },
            "type": "mesh3d"
           }
          ],
          "parcoords": [
           {
            "line": {
             "colorbar": {
              "outlinewidth": 0,
              "ticks": ""
             }
            },
            "type": "parcoords"
           }
          ],
          "pie": [
           {
            "automargin": true,
            "type": "pie"
           }
          ],
          "scatter": [
           {
            "fillpattern": {
             "fillmode": "overlay",
             "size": 10,
             "solidity": 0.2
            },
            "type": "scatter"
           }
          ],
          "scatter3d": [
           {
            "line": {
             "colorbar": {
              "outlinewidth": 0,
              "ticks": ""
             }
            },
            "marker": {
             "colorbar": {
              "outlinewidth": 0,
              "ticks": ""
             }
            },
            "type": "scatter3d"
           }
          ],
          "scattercarpet": [
           {
            "marker": {
             "colorbar": {
              "outlinewidth": 0,
              "ticks": ""
             }
            },
            "type": "scattercarpet"
           }
          ],
          "scattergeo": [
           {
            "marker": {
             "colorbar": {
              "outlinewidth": 0,
              "ticks": ""
             }
            },
            "type": "scattergeo"
           }
          ],
          "scattergl": [
           {
            "marker": {
             "colorbar": {
              "outlinewidth": 0,
              "ticks": ""
             }
            },
            "type": "scattergl"
           }
          ],
          "scattermapbox": [
           {
            "marker": {
             "colorbar": {
              "outlinewidth": 0,
              "ticks": ""
             }
            },
            "type": "scattermapbox"
           }
          ],
          "scatterpolar": [
           {
            "marker": {
             "colorbar": {
              "outlinewidth": 0,
              "ticks": ""
             }
            },
            "type": "scatterpolar"
           }
          ],
          "scatterpolargl": [
           {
            "marker": {
             "colorbar": {
              "outlinewidth": 0,
              "ticks": ""
             }
            },
            "type": "scatterpolargl"
           }
          ],
          "scatterternary": [
           {
            "marker": {
             "colorbar": {
              "outlinewidth": 0,
              "ticks": ""
             }
            },
            "type": "scatterternary"
           }
          ],
          "surface": [
           {
            "colorbar": {
             "outlinewidth": 0,
             "ticks": ""
            },
            "colorscale": [
             [
              0,
              "#0d0887"
             ],
             [
              0.1111111111111111,
              "#46039f"
             ],
             [
              0.2222222222222222,
              "#7201a8"
             ],
             [
              0.3333333333333333,
              "#9c179e"
             ],
             [
              0.4444444444444444,
              "#bd3786"
             ],
             [
              0.5555555555555556,
              "#d8576b"
             ],
             [
              0.6666666666666666,
              "#ed7953"
             ],
             [
              0.7777777777777778,
              "#fb9f3a"
             ],
             [
              0.8888888888888888,
              "#fdca26"
             ],
             [
              1,
              "#f0f921"
             ]
            ],
            "type": "surface"
           }
          ],
          "table": [
           {
            "cells": {
             "fill": {
              "color": "#EBF0F8"
             },
             "line": {
              "color": "white"
             }
            },
            "header": {
             "fill": {
              "color": "#C8D4E3"
             },
             "line": {
              "color": "white"
             }
            },
            "type": "table"
           }
          ]
         },
         "layout": {
          "annotationdefaults": {
           "arrowcolor": "#2a3f5f",
           "arrowhead": 0,
           "arrowwidth": 1
          },
          "autotypenumbers": "strict",
          "coloraxis": {
           "colorbar": {
            "outlinewidth": 0,
            "ticks": ""
           }
          },
          "colorscale": {
           "diverging": [
            [
             0,
             "#8e0152"
            ],
            [
             0.1,
             "#c51b7d"
            ],
            [
             0.2,
             "#de77ae"
            ],
            [
             0.3,
             "#f1b6da"
            ],
            [
             0.4,
             "#fde0ef"
            ],
            [
             0.5,
             "#f7f7f7"
            ],
            [
             0.6,
             "#e6f5d0"
            ],
            [
             0.7,
             "#b8e186"
            ],
            [
             0.8,
             "#7fbc41"
            ],
            [
             0.9,
             "#4d9221"
            ],
            [
             1,
             "#276419"
            ]
           ],
           "sequential": [
            [
             0,
             "#0d0887"
            ],
            [
             0.1111111111111111,
             "#46039f"
            ],
            [
             0.2222222222222222,
             "#7201a8"
            ],
            [
             0.3333333333333333,
             "#9c179e"
            ],
            [
             0.4444444444444444,
             "#bd3786"
            ],
            [
             0.5555555555555556,
             "#d8576b"
            ],
            [
             0.6666666666666666,
             "#ed7953"
            ],
            [
             0.7777777777777778,
             "#fb9f3a"
            ],
            [
             0.8888888888888888,
             "#fdca26"
            ],
            [
             1,
             "#f0f921"
            ]
           ],
           "sequentialminus": [
            [
             0,
             "#0d0887"
            ],
            [
             0.1111111111111111,
             "#46039f"
            ],
            [
             0.2222222222222222,
             "#7201a8"
            ],
            [
             0.3333333333333333,
             "#9c179e"
            ],
            [
             0.4444444444444444,
             "#bd3786"
            ],
            [
             0.5555555555555556,
             "#d8576b"
            ],
            [
             0.6666666666666666,
             "#ed7953"
            ],
            [
             0.7777777777777778,
             "#fb9f3a"
            ],
            [
             0.8888888888888888,
             "#fdca26"
            ],
            [
             1,
             "#f0f921"
            ]
           ]
          },
          "colorway": [
           "#636efa",
           "#EF553B",
           "#00cc96",
           "#ab63fa",
           "#FFA15A",
           "#19d3f3",
           "#FF6692",
           "#B6E880",
           "#FF97FF",
           "#FECB52"
          ],
          "font": {
           "color": "#2a3f5f"
          },
          "geo": {
           "bgcolor": "white",
           "lakecolor": "white",
           "landcolor": "#E5ECF6",
           "showlakes": true,
           "showland": true,
           "subunitcolor": "white"
          },
          "hoverlabel": {
           "align": "left"
          },
          "hovermode": "closest",
          "mapbox": {
           "style": "light"
          },
          "paper_bgcolor": "white",
          "plot_bgcolor": "#E5ECF6",
          "polar": {
           "angularaxis": {
            "gridcolor": "white",
            "linecolor": "white",
            "ticks": ""
           },
           "bgcolor": "#E5ECF6",
           "radialaxis": {
            "gridcolor": "white",
            "linecolor": "white",
            "ticks": ""
           }
          },
          "scene": {
           "xaxis": {
            "backgroundcolor": "#E5ECF6",
            "gridcolor": "white",
            "gridwidth": 2,
            "linecolor": "white",
            "showbackground": true,
            "ticks": "",
            "zerolinecolor": "white"
           },
           "yaxis": {
            "backgroundcolor": "#E5ECF6",
            "gridcolor": "white",
            "gridwidth": 2,
            "linecolor": "white",
            "showbackground": true,
            "ticks": "",
            "zerolinecolor": "white"
           },
           "zaxis": {
            "backgroundcolor": "#E5ECF6",
            "gridcolor": "white",
            "gridwidth": 2,
            "linecolor": "white",
            "showbackground": true,
            "ticks": "",
            "zerolinecolor": "white"
           }
          },
          "shapedefaults": {
           "line": {
            "color": "#2a3f5f"
           }
          },
          "ternary": {
           "aaxis": {
            "gridcolor": "white",
            "linecolor": "white",
            "ticks": ""
           },
           "baxis": {
            "gridcolor": "white",
            "linecolor": "white",
            "ticks": ""
           },
           "bgcolor": "#E5ECF6",
           "caxis": {
            "gridcolor": "white",
            "linecolor": "white",
            "ticks": ""
           }
          },
          "title": {
           "x": 0.05
          },
          "xaxis": {
           "automargin": true,
           "gridcolor": "white",
           "linecolor": "white",
           "ticks": "",
           "title": {
            "standoff": 15
           },
           "zerolinecolor": "white",
           "zerolinewidth": 2
          },
          "yaxis": {
           "automargin": true,
           "gridcolor": "white",
           "linecolor": "white",
           "ticks": "",
           "title": {
            "standoff": 15
           },
           "zerolinecolor": "white",
           "zerolinewidth": 2
          }
         }
        },
        "title": {
         "text": "Label: Kakuna"
        },
        "width": 500,
        "xaxis": {
         "anchor": "y",
         "domain": [
          0,
          1
         ],
         "showgrid": false,
         "showticklabels": false,
         "visible": false,
         "zeroline": false
        },
        "yaxis": {
         "anchor": "x",
         "domain": [
          0,
          1
         ],
         "showgrid": false,
         "showticklabels": false,
         "visible": false,
         "zeroline": false
        }
       }
      }
     },
     "metadata": {},
     "output_type": "display_data"
    },
    {
     "data": {
      "application/vnd.plotly.v1+json": {
       "config": {
        "plotlyServerURL": "https://plot.ly"
       },
       "data": [
        {
         "hovertemplate": "x: %{x}<br>y: %{y}<extra></extra>",
         "name": "0",
         "source": "data:image/png;base64,iVBORw0KGgoAAAANSUhEUgAAAIAAAACACAIAAABMXPacAAAiTElEQVR4Xu2deZwcV3Xvz7m3lt67Z3p2aaSRZI2MbNmWg4UxsWMgXjBYycchBLO+APkkIU5C8h5gPjghCeGRDwnxM4HkERMCISEvdoCYgA2xjXdHtmyjxZK1j5bZt57ptaruct4ft7qnpyUcS1b3DPnM99MaVd26VV11fveec++tqttIRLDC0sEaE1ZoLSsCLDErAiwxKwIsMSsCLDErAiwxKwIsMSsCLDErAiwxKwIsMSsCLDErAiwxKwIsMSsCLDErAiwxKwIsMSsCLDErAiwxKwIsMSsCLDErAiwxKwIsMSsCLDErAiwxKwIsMSsCLDH/PQVQXmn62N7G1GWJ1ZjwU0t+5CgdfJxP/JgpFAQOwnTplzq2XNOYb5mBP70P5yqvVDj0LDv8CKvkNRACNFwJIlQue0fXRW9YnLy8+CkToDB6TB/9kTu8RyvUgAQIAAgAi6xvFsn887Yuaw2WuwANxZydHrSM+Q2LRQjrBJLY9r72jZcvbFtOLEcB6ou5AgAABAwtvfDn5Vi4JLPEQF316+mBC2vJy4dlIYDySoUDO+DoY6ySByBjX1N+Q9M32L26dLoS4cVUr2nh2hD0z304tWpjLWGZsJQCDN3/5bb5fbYgCYAYGtoU9XrT19v9J1v+zBCQEYEAGIC49rb0qg2NmZaU01xqC8nmDqIABdhgfQBAYCYZAQABzSfcvvD/f/ExuxoACMB+9IuF8eN1p7D0LJkAT93zeVASwVgKAYGFRgMAFpoejN1NpmqVQEAiJEIghsBq8oQikdnaqAQiIhKA/chd+YlT4fcsA5ZMgOTJ5whC6yMCC/01GuuDMX2oDy7Y3aQzRIacMURWzVj9IAPGzDEYwiIlABBRabAevqs0PVo7k6VlaWLA3u/e3Tuz27EZUNXPAAAgoDE+MKzqgYSAQAQInLO5or9naGpmviJEWStPS6m1IKJA6NVd7RddMNDf3a7UwhWF/p+IEIEWNY/o+o/GO/pq60vF0gjw0Me3b7t4wJT9mvWN8av/TAoY0/tSPfD0bkRroLcdAUqBzOULoCQgIUAyHu9qb3McVysxMZs7NTZ59daL+ruzSoeXdmYZGNENn4i3dZk8S8USCDB86MUDf/+JbZvXA9Y8YKP1qzWBgPF7fvjY+tWr5yvBXEmhZZOSSlRk4GkVAJh+AjBuGb/T1d6+ce0qTXT45PDa7s7BNX1hM6gqA5mlsH4xdePHE+2dJsOSsAQCPHr37f3eZGdbsuqZYSHqmnUEJACGT/54PyEbn5xVyC0njtxRSlogHK6VkqSVUqrkVRhyizNknCEyxhgiMnbp4AbXcXYfOnb9FVtsm9cu0jRMQxkAgKG+8fZEZsk0WAIBHvnD7T8zuB6rHa6a9Y17AAQE5Jx966EdgFTxPQLens5k0zFf6rmiVywWSQUAhIjxmNvb0ZlOJgFgYnZ2dGKaW5wjQwYMmW3xrZsukFqVypUL1/b9JA0QmH7r7fF0R3V7S1kCAR78xE1XXrSxan003sdY33gezvH7T+7Ozc0yzvt7e3I5L7P5tetff2P72gsznd214/h+5dCT3zvw4L2F8SOIPJWID67t5wAHT40EgTD1ABFX93T0d3UcOH7qDRdvgjC2G+tX3REAMlQ3/UEilakdvGW0WoD9j983+9DXLh1cEzobZAAQOnxARGAMf7hjz+TMzKqeTr3qkp//jT9x3ejC/j+Budz0Y3f+XnH0KFrs4g0DjmXtPTLEGEMEhizqupcMrtt37OTVlwxC1fc01AOLW/rmT0Vi8bqjtoJWC/Afn3n/pV3ReNQFgNOLPwLc/9SPK16QHHjN9ju+0rDvK+GHn/vQ/NBBzvmlm9bPzhdGpmYRgTFOpK/csunEyOSlG9dAnQahAAREZFu22v6paLSlGrRagIfv2H7l5g2kNQAgssXOh46OTh0bHnvjH/5z8lW0DuenJx/+9PtJVTYNrHZte//QScY4ItoWu2LzBflSpbc9DTUN6hwREVncoe2fisRidcdrLi3tCZfyc0oqHVofAaDW5AcAi/ODJya23/nwq7E+AKQ7um6564FIx8CRU2MTs/OXX3gBACCgUvTiseFUPIa8GoCgeh7mXBClCvC7f+x73kKGJtNSAfb9+92d6eRC+AVAMMUfAOCBH+//pS88WJf9VfHWP/pa59Y35grFobGJrZvWAxAyKHteqeIdHZ6EagcwtL75AACAUAH826dEENQO1VRaKkDp4BPrV9WV7rqCaFvW9s/ev7D+6pidnZmanHzD/7ij/aI35IuV6bn8a9b3m8Gh/UMj/V3tFV/AwvcjVt0wIiCAkIH61h1StkKDlj4VITXjzJS5sOFT8/7epjclFmc+B/7qrjv/8e+/rpXSFjgWB4ma6Q9v62VTM23JWDoeKVQ8BNw3NLKhrxvc0PUjVLskFK4BglBC3ftx69Y764/fDFonwKmXnrdBhytVx2tKHoKduOTGWs5zwPe8t//CDW40/bm77lyzZmBqYuK7/37fIw8/aDPr/z43kXX0bzH2uosGd750hDEsVkQs6tbGSY0KSDocKQIAk17rKTaT1glw8Iff2NBb1+Ovu7pIZGH5HPB97+0337T1yqs/8pHfsy2LWay7q/OCjRuVFI8+9AgwlifrL5+a/HQiftG61QdPTTJun5rOt8WcdCJSVwmqA7CIpo+mWCvao62LATh9rCuThEWWD/3PTKK/Lu2s+c3ffHcp8G99163RSCQaj8aisVgs2taWueyyrbFkhIgCoSLJxNNHp+PRCKLFLWe6IFOJ6MuVcAS16erGxCbQIgGElFqoap9jkf8BQOy8qJbzbNm3b8/xwyNrBgba2rJuxLUsBxkH5JoAEeNR143YWqv5fOVHY2xobLavI8Mt13Kj1bHqhQKBYJ4zChOTm/8bCXDo8X9PxquOZuEeAAAAIkQGttQlnB1f+cqXGecz0zP79+1lfMGjPvqjh599ZgdjLBGPMkQpZWdXarooV3UkLNu17EiuQlJDGAcAFtdMQAT7FQyBvHpaFAMmnvzmxX21Bmhj1bdfRe//0J79GmB6cuL48aEHHvj++nXrPd8fPnXy4Ev7Dx/azxlyzhCZ1pohvjRVuXRAM9vhtjMvsCOmANRCGKg7LKEZLGk6LRJAl0Us4iysL5ZASbLP9XpZjNklrCD7xte+tuk1g5sGN8/N5/bu3R14ntY6IFJKE2lN2rJ4RQUzPiZclJatgQETqOtuYFZBBH/1lnMvFGdDKwTITY1rEtRo9mpfAECSWLThbPA8rz2TzBcrQsojh48cPXwEKDyyJqJQADI3lzOJpM8iA0kx6nMg0oC8/lgLzVC0Nr2xfkvzaEUMOPzAN3qymUa/Uwf3yo1Jr5jBta/JpBKAoJSSQiqlldZCKaGUUlopLYQQktLpZKnobbj4Eou7rmUDkZLBQsxthJJdLbpf3woBSkeeGOhpb0yto3Jid2PSK+aPPvOZiOu0p5NaUxAIIaXUSmmtlJJS+kHg+4HrWNn25OzUfN+FrzXPs0jpS7/cOBBcW8U6b9lkWiGAFpKx+rJ2mtc99UJjyiums7t7dGwm05aMRGypZOAHgSeELwI/8IMg8APL4tlsqi2T/Ogdf5Bd1aeVRGTCqwReEXTDaE94YrJr3eL0JtJ0AY7seYpzR5/B6uZuCABAMphftOEsufe7P3RibrYtFYtFCEGTkkoJSaTJde329mRXR4Zh4k1vvh7AUkFZIZNeQYkKN0Mjp/khPXhdY1LTaLoApx76xkBfw/3u2pMiYHRRJBc2nhNf/vI3LdvOtic7s+lMOh6LOom4k07HujoyiVh004WXffHurwKAZUUDr8wQlfAQiGG9E6ouMsj0t+4B3qYLAHOjHak4ECxcIdX+ABAQERDkHvt6uPWccBznnm/f//5f/TAics4jETsasa1IJJFMfeUf/vXjd/yRyVYq5qRfLHmBlkHCtQEAqO58CACAUStahjWa+2VCShkorRubG7So+4kAEJ3cV5/h3Nj+i7ds/8VbGlPrKJ3ap4U/XygC6d72VONmRCAopHte3djg2dHcGnD44X8uVbw9R06d7mfBGL5W8JQsjx5evP38M31oh8XZydFRIsjEowQAtaZ/daBKb2jFEFCN5gow9si3tdaTubk9h05B1e0QAIBuqPgAEHvm7nCpaaiJ0Q0DawF0Khah6jkAwEKdROi+8IpaagtorgCF0pxZmMzN7T50cmEDAdUsj2FzyPPl7DP3LeRpAohBEAQAcNH6XpPS0BXg2FyffDpNFKCUn0Nm11Ync/O7D5+ou17jABbVgtjQE4HvL2Q5r+z73lcsxg8fP5ZNJsg8EhQ6RtMOACCYj7xch7EZNFGAeCpz3Wf+ldVrMDu/+/AJCO0dPphmbF8tiRrv+4Nq9vPMzM7v9XR1A8Bgf7cRv674h0vy0jfXklpDEwUAgFgi9fOfvqdBg71HTgGEXghOqwRaS/87nwxznz+O7Xo66sZPDI9cvWXTYg9oir+JxdS3rqUBAJotAAAkUpnr/vTeeg3GZnIHTowSgAnFoSlMh8As+5XifX9Sy39eOPVvnyt55ddtXqdJG+dDAAsVL+RMbbUm03QBACCeTL/pj/9fvQYnx6cPnhiF0AkBLnZEBGBX5tR3bq/lf5U8/49/EXXjV24ecCweWr+qdVgGCACo4rQt3q8VtEIAAEhl2t/8J9+s1+DE+PSBE2PGG4TFsGYUAAKQfiDv/VgpN13b5dwY3vdccPyFrRt6GbIG65MmQjDzfBABbFyCKSVa+nDu7NTE45++Vdd940Bv56a1vQis2goHQPOohFlFBAgSHYm3faK2y1kxPztV+NYnu1LJWl1bsD4RgBkMCtPcd/yZdc535s6VlgoAZ9JgXV/X4JreOqM3aAAAwLmV77mk/er3mMRXyNzQvszufwh8SQSmoJ/J+uEaQ4i+68763VtDqwUAgNmJscc/8+7TNOir3aE0GgCEMlSTAZBZjlW65FcSA1vqH4BowJsaKT93b7o0rBTVTL/I1Z1mfQAgFknc+lkA+P3bbiv5fmd398033fS6q64KD9o0lkAAOLMG3YNrek/ToFYTFmRAQCJghAogiHdoYJoxACstx5WQDEGphWcKz2B6AsDQ80DofYAI9Jbrv7NrcufOnZsves27br01kUg98MADA2vXbrnkkurBmkKLgnAD7d2913zyn8JX4gEAYGh04ujwWE2R0D5EtfJBJtH8RdKMkFGkMhWrTCRKY4nSKeUL0KQVAQJhmJ9CkwOERR0XOyKTDraN23/ns0cOH7rh+uuvv+EtmUz7fD6fSiV/67ZfM/s2j6URAM6kwZHhiaGxyTqLhTLUqWDMGtoNgOhMH7NDuGz20uYISARQ63QRAIDW8PiRqWv+8snrrr/hsq1b164bUErt2bvnqaeefv75F1LRTPjFTWNpXFCN033R4Jq+dX2dCIsen6sLBQtO6b8k1LK6Q72MZsm22PV3Pp7tXfXWm7cnE4n1GzcEgRwfGx8fGysUClqrb/3TP+3c29zZF5dYAACYHB1+6rPvrT+JTWv7Bno7wtfoEdBUhQUJ6hZPE4MIAKiWoS4F0FQZAADgDHcemfrIt/d94EO/mm3v6OrpTqUzpUJhZGRkbm6uXK7Mzc0dOvhSJpP+27v/rnaoZrD0AsCZNNi8blV/VxYQw4pQ/bOgxCLTn6ZDXXkP9yKwbByZKu4eGnvmaO6xkQoBv+23f3v1mjUdXR2+5/t+MHzqVC6Xq1S8YrF08OD+F3fv/ru//9rWyy9fdNzzzU9szLWSrr7VV33sq09/7gM1DfYPjQBAf1eWgAARCQEWXq0HCKWo5l/QrkEKztlcsfLMgZGxmYKN+MBQ4VhO9q3qufjSC6ORSO+qvp6+XiEkt6z81EyhUPA8XyldKOSnJialkM22PiwTAQCgu3/dVR/76lOf+0AtZf/QCAH0d2XR+HJEowA2KAEQJgIAAAEwgHIgXzg8dmwiR1pbnI/k5fOTwXhRpDOpj/2vD1SE75W9gfXr+1b3I2AiHi8Ui3O5nOd5SulSqXjk8KHC/Dzni55bbBLLRQAA6O5f94bFGrw0NIKAq7vaAQDItC1rr7IsiGCszzjsPz75zIHRkuK26zCCPTlnLGC2ZXV2dl68vqN3NmdxPHby+Jq1A5dcdlk8HldKt3dkK+UKIgKgEDIQolgsFIr5fD7/nve9t/YVzWNZxIB6xk4c/c+/+FB9ysUb+vs62upToGp0C+nEROFLTxzeOeZn2joyqZQbiUQjkUQy0dbWZlkWACDjjmW1d7QzxmzL6ent3bp1C7fsWDRBRPl8fnpmpuJ5Lzz33MTERKFQPHr40MzM9NjI6I7nnotGm/6KwDKqAYbetRuu+ujfPf3nH6ylvHj0FCL2ZDMAAAS2w0amis8fHpktVL5/aN6LtW37matvuMSxOE+kUqt6ezu7u+PxGAIwy0IA142kUgnHccqeV5gvxOPxRCIdDnIgBkIEQhQKhUKhFPhCiCBfKEyMjyNiC6wPy1AAAOhZs75Bg71HTgZSHxmbG8uVIpw9O+7NOX1bt1179YVaSaVJ9/b2XXzxlp7ennQqYdk2Z4iI3LIszgG4qTD5Qp4hF0EAgMaDEVGhWCiVSocPHKqUS5r07MwMZ0wrffsnz/9duTOy7FxQjfGTx0INEHIVxgj2T5T3lJzr37rd4szzPCVVJts2sHZd/9o12ba2eDJucYYAnHPOLcuyG/r5ubnczPRMIEV7W3tPdxeRnpycHh4dmRgbP3ToUKVUmZyaPHb0yImhIQDY9eKL9fs2j+VYA4IgmJ2dPXJi5HB86+H9zw9PFyPZ/muuvXrd5W4ml1NCpNMdGy64INvRkc6k47F4LBaLRV3OmW3bjHEzlWJDi1RrVS5XvMDXSudys5GI4wdibGyskC8cO3YsELJUKY6NDiutiOjLXzmXiVrOjWVUAz74wfds3Xyp4pZl20IIx7Gj0ZjrRkip0fFxJWW2I5vNdrRls5l0OhKNRN2IE3EijhuPxxzHQrQajF4HeZ43NT0zl88pqQGAMZRCFYvFw4eP5GZzvu9NToxPTk3s2703m80+8sQTjQdoGsulBmy//vobbr65u6dHKYkMAy9glgVaEylguHFwY7YjG4vFHcd2HdexHcvmrhuJx2PRaHRh7r8zQABaaypXKhWvoiQRaa1JSiiXS9MzM/Nz80Rk25ZUwq94iPjAg+dtwpBXwnIRQDvO9My0ZVnRWDQIhO95yXQ6Ho8hsvUbNtiOpaTmFrcsy7GdSMR1I5FoxHXdyE+2PpmPJigWi8ViyfN8rZSpJIyh47iBHyCClCLi2MVC6fjxowBUyOcjr/LV/bNhuQjged7U5FQ8kcwXi+ViUWk9Pz/Xt2r1xsHBeDIuAsEYMWS2ZTmu67iua7uWZZkZzxajoTojBRFIpb2KVyyVi6WSlJIAzOCe1kSkhQiIQCmlNM+k0wy5AnLc1r2fBMtHgI3r15VKpXw+n8vN+BW/7JVXr1rtzsysk9L3AjBDy1oj44wxAFCkhEANgcUthrWQq4i0eStVSimECoKg4nnFYqlcLislObcQMQjE1ORkEIhyqaKUAoJ8Id/b10eaACCdztSfWLNZLgL8zd/e/cZrr93/0r7unr4rXnv5Fduu/MEP7tdaj4+Px5MJBOSWxTmXMvAqJKTgjHPObdtCQGDIEBFRa02kgUApJaQUQgQi8Cq+53tCSCml6yAAVCqVfL5QKVeCIFBKEuiZqen+rZc5bkTKUuOZNZnlIgAAPPLoo7/14d/Y8fTTE2MjDz344G9++LYnnnw8kUp1zs0n0ynUWipFAUimwDfj1IiMcTNijeHko0RAQFppqZQQQkkppFRSSimUJiEDElAul0UQVCrlIAiUUkpKIYPpqem1AwMvvXQe3hM5K5ZRM9QwOTnxCzffpCREou51N9wYj8V7+/qyHR2ZtjZEYIyZ4m7uxRCZSGvukyEioom8RFprrZTSWkqplFJKKqWBSGk9Pzc3l5svFou+7xFpEYipyYn2bNbh9re/c8/jT+1IJF795FGvlNOD2BLT1dX9n888/653v8v3/bnZXD4/73tBIV8YHR7J5ebK5VLF8yqe53me7/siCIJACCGFkErJ8N3sECmkMJt93/M8r1Iu53K53MxMsViSUkI1briu40ScUrHYt2YVAL7Y5HuQDSwjF1TPR37/f37/gR889dQT177xzfnCPDIgglxujnO0XdfmnFu2YzuWxZGhZdnMxATGAIC0llpLKUQghJBB4EsphZAiEEpLKQQRaK0R0TSKbNtub8uOjo319vYB4c5nd175+tc3nlDTWKYCAMCDDz647bWXJ5MJ27YLhaLrOkQoBHmeD6HPAURAZIiMc2N/hgyNn1FSSSmkUkoq0+7UWhGAVooxzhgSkTmIJgKEeCymlCKiZ57d8dvwOw0n0zyWrwAA8L73vf/xJx5/y01vm5qa8n3PdcP+UejswwGf0I4AyBhoTSZR6zAKEAGANtGOCIwYlmVxzm3bEcIHAotbyFAIQQAv7W9pHF7WAtz2O79777/8y4mhIcYZAVNKW5ZtzG3m3EVEoupEgIBEhACaiLTpNtQ2gakzVJtIRSvLshzH1lojkO04iVh8anLScZxANOsdqTOyrAUAAIWMWZZj23Pzc1IK140YDUyLyORBRCIg0oiMSANQFQAgAGTM1BUWtpsAtCatiVvcdR3f92PRKOc4PjGRSienZrxisdiyhtCyawV97dFjj+2bqK1aFk1PTRJAuVQsl0rlUqlcLgWBL6USQiplPI0m0ohhk5oItAYKn5ADMMNvRFqHP7dhmqmklcWtSCQaiUallFrR5Pj4qlX9FvD3vefdtRNoNsuoBnxvx/Ff/8cpbqOWk0LsefMFkQ9dLpPxdD5f6OklrUhzrbTSvjYBgHNGGoghD/sExr1gzc8AgNZEQEDIUAMCkYkeCADAGLNYxInYtlUoFCzb7urpzmTb9uzaNTR0VAhh2wuvkzSP5VID/vCbe267Z5Y7NhFD5DaLPnbY//hHf7ezu3vV6tUIxDlHRCkEAfm+b1r92rgeIuPia9TCcrgW/hfeqDE6MUSO3I26yVQqHoszxlOptBJy88UXM6Bf+ZW3Vw/WXFpdA6Zm85f/2ShjCoToTvG3beabeyOf/9HUWCFOyMEvyaDICYlbxGIM+apVqzo7O8rFsu04jDMZSCAgIiEEEQAggMWRCKk2/zBi1dMb25sKgWBMzxii+akZxrnFHcdxHMe2rdGRMa1VR0enVvrA/n3Hjh6ZnZ1pb8/WzrxJtFSA4cnc1XdNO9EkIEIUZrT6+l5Ne4h0J2BFevOqOBV4c5wcsN24nOWW41h2PBr3vSCRSPi+jy4zIRcREQmAjOdHAkAym+ogAAAEAkLz224QuiDL4pbFTUuJc+Y48Y7OjqnJSURkFl8zsO7k8SNve9tbnn762frDNYPWuSDP86/5whSzo4AKlAAZAGkAhogg/aA8o/MTETU9+y8fnLrnvbf9fE926BtbL9uqtPb8wLJtx3XdSMTiFmecM9PnRQAgMmYOwy+E7X0iMlHBlHfOGGdgBk2BMYaMc4sjkekYc87b2tsSyQQi9vX0Dm4aVJp5pdILL5z7VF6vkNYNxq2/4xDyKJAK/AIEPpFEBAAOQCQ9lZ/qjvm7/uZdtfxXXHHFLbfc4jpOJBIlACGE53lCCK3NDLzIucXNTyaFo9HhjuaKCAhCAcD8ggYAAAFjjFncdRzbcWzbdhw7Eo2mkknLtgqF4vDJ4VKpkM/PjZ4aeW7nfyrCXXterJ1SM2iRC9r2x7uQtQGpwCtAJfdz69j/fufgcEE8e3D2Ry9O6yD4tXdf9gtXLsxT9cyOHcl4dGZ6euPgpnQ6UyoVzaMmUppBNwIgAAQEbpx6tQ1axawSgPmRrLCumL4zQ2YqhWUxxrnWWkhpO3Y6nSy0pYMgiMeTmWw7Y47WweTkZFfXq/pFj5enFTXgnX+9b+dYHJAFQRHKM9v61Lduv7Yx02Le+Y63+7647oYbOru6GcNCviBEOKpsGvVg3DmGbRsMe7nmWlhY6hmIIFBKA2AYDwAQkXPLcR3HDeOveX4rnkjYtuV5/qkTJwqFopTB6PDIww/+YGDDBd/+zn0LZ3a+aUUNeH48DowJvwSVXCcvf+v2GxpznMbJ4WOvv/LnOju7+np7hBBaqWKpjEic28bBGJeCiLbjRKOxRDweiUaRoRmSY4wRUaVSzucLpUKpXClrpRERGQKB1lpJqThXTMlq/SiXS7FY3Lbttmw2EBI8isVil2z9mV0/bm4YaLoAXqWy+cSXdvW+jyoFrssv3PVfW79YLMYiqVWr+/vXrkbknPOOri53Pj8/P2+6vowh59xxnEQimUglHMc2PgXA/HYbCilJ62g05thOJpMRvl+qVMrFsjY/f6iUVlpKiWjuq4VxG7HiRtx4LJZKJmf9oKOrKwjEj+n5p5588g0/+7ONZ3meaHor6It3/Z/7vv7nW178xGC7f/yvrmvcfCbuv/973V19q/pXc2YhGmcP3LJs2+K2ZVncsm034kajUSficM6rzUtzLWYJtSYAYJzZluVGo6lUqj3blkjEo9GI6zqWZdkWB0QpZSCklFIJ4Vf8SrnsB0Ek4jqRCAC0Zdvb0ukvfP7z9ad3fmlFDHjkRw+/8U1nMQ/Pe9/7jv7VG6678cZEPKY0KaUC3y/k88VyWUlFmrjFHdeJR6PxeNxyHM45Q0TGqDrEr5QUQmqtlVRKq3B0lEgKEQSiVCpVKhUhBBAprUlrU3sAAAE554wz3/OKxSIiZDLpL3/pr5v3qGjTXRAAbNhwQWPSy3Ls2MiWLa+1GFOapJT5+bnZmdlKxTP2RUQULPD9UqFoWXORqBuNxSKRiG1ZjHPOGAEEvl+peMVSsZgvBIGQSurqwB0RmdniarHE+J+FQI3IkCmlpBSVUumKK64gqo3inX9aIcCatWsbk14W1wUkmpqa5pZVKORLxZKUikgbF29irNYIgFJKz/Pm5+YYYww5ICotA98XvvACT2nSSobmDWs6IZpB6YV2EQAgIHI0xwYCSVLKgDEWjcd37dpVP7nfeacVApwtohAAY9Mz01KIIJBCBForJbWQgohs27Jtx7Zs8/vBiKCJtPmRAK20Jq20mbwbTPs0DAum92xmszdykKkPxkEhIudMKUmEjAHn3LHtw0ePHjxw4LLLmziNVitiwNnyxb/6wt49ezp7eiNuJBKJEpGUsliYn5gYV5oYY5GI61iOZVmMhzflLctyHMd1I5wzrUkI4XmV+fn52empfCGPgEpLrUhrxRlnjHHbQgAAVKQR0LK4bdnI0PzyjOs6xXyhWCoqJceGh3fve6nxFM8fy1EAALhiy5ZYJuO6FuNOMT9f8SpaKgJAjsaCjuPYtgtIjJBZ3HacRDzuRFxR8fPFwszMdCwWj8Wivh9UPE8EvqkQWulwRAKBSJsZfRnniMyxLUkEmpRSmrQIBDDYuHHw7ru/+lPfEz433vnLv3zgpZc0Bol4atu2K1/3+qv6evvm5+ce+o8Hn9mxwxc+aW28CzIEQgRgFmMAgRBSSzI3YggRMRJLdHdmV6/uT6VTsXgsmcxEo8b32gAC0YlEHCIq54uFUqktm0glsxsHB7dte13DKTWD5SvAK2FsdHTns898/3vf3b1nb6lSZIyUwlQqfeW2K3/xll+65pprGndYfvx0C/DfgKb3hFd4ef4/x9XwzYcanlkAAAAASUVORK5CYII=",
         "type": "image",
         "xaxis": "x",
         "yaxis": "y"
        }
       ],
       "layout": {
        "annotations": [
         {
          "align": "left",
          "bgcolor": "#ff7f0e",
          "bordercolor": "#c7c7c7",
          "borderpad": 2,
          "borderwidth": 1,
          "font": {
           "color": "#ffffff",
           "family": "Courier New, monospace",
           "size": 12
          },
          "opacity": 0.8,
          "showarrow": false,
          "text": "Unown: 28%",
          "x": 1,
          "xref": "paper",
          "y": 1,
          "yref": "paper"
         },
         {
          "align": "left",
          "bgcolor": "#ff7f0e",
          "bordercolor": "#c7c7c7",
          "borderpad": 2,
          "borderwidth": 1,
          "font": {
           "color": "#ffffff",
           "family": "Courier New, monospace",
           "size": 12
          },
          "opacity": 0.8,
          "showarrow": false,
          "text": "Bastiodon: 10%",
          "x": 1,
          "xref": "paper",
          "y": 0.75,
          "yref": "paper"
         }
        ],
        "height": 350,
        "images": [
         {
          "layer": "below",
          "sizex": 0.3,
          "sizey": 0.3,
          "source": "images/final/Unown/1.png",
          "x": 1,
          "xref": "paper",
          "y": 1.1,
          "yref": "paper"
         },
         {
          "layer": "below",
          "sizex": 0.3,
          "sizey": 0.3,
          "source": "images/final/Bastiodon/1.png",
          "x": 1,
          "xref": "paper",
          "y": 0.8500000000000001,
          "yref": "paper"
         }
        ],
        "margin": {
         "l": 0,
         "t": 60
        },
        "shapes": [
         {
          "line": {
           "color": "black",
           "width": 2
          },
          "type": "rect",
          "x0": 0,
          "x1": 128,
          "xref": "x",
          "y0": 0,
          "y1": 128,
          "yref": "y"
         }
        ],
        "template": {
         "data": {
          "bar": [
           {
            "error_x": {
             "color": "#2a3f5f"
            },
            "error_y": {
             "color": "#2a3f5f"
            },
            "marker": {
             "line": {
              "color": "#E5ECF6",
              "width": 0.5
             },
             "pattern": {
              "fillmode": "overlay",
              "size": 10,
              "solidity": 0.2
             }
            },
            "type": "bar"
           }
          ],
          "barpolar": [
           {
            "marker": {
             "line": {
              "color": "#E5ECF6",
              "width": 0.5
             },
             "pattern": {
              "fillmode": "overlay",
              "size": 10,
              "solidity": 0.2
             }
            },
            "type": "barpolar"
           }
          ],
          "carpet": [
           {
            "aaxis": {
             "endlinecolor": "#2a3f5f",
             "gridcolor": "white",
             "linecolor": "white",
             "minorgridcolor": "white",
             "startlinecolor": "#2a3f5f"
            },
            "baxis": {
             "endlinecolor": "#2a3f5f",
             "gridcolor": "white",
             "linecolor": "white",
             "minorgridcolor": "white",
             "startlinecolor": "#2a3f5f"
            },
            "type": "carpet"
           }
          ],
          "choropleth": [
           {
            "colorbar": {
             "outlinewidth": 0,
             "ticks": ""
            },
            "type": "choropleth"
           }
          ],
          "contour": [
           {
            "colorbar": {
             "outlinewidth": 0,
             "ticks": ""
            },
            "colorscale": [
             [
              0,
              "#0d0887"
             ],
             [
              0.1111111111111111,
              "#46039f"
             ],
             [
              0.2222222222222222,
              "#7201a8"
             ],
             [
              0.3333333333333333,
              "#9c179e"
             ],
             [
              0.4444444444444444,
              "#bd3786"
             ],
             [
              0.5555555555555556,
              "#d8576b"
             ],
             [
              0.6666666666666666,
              "#ed7953"
             ],
             [
              0.7777777777777778,
              "#fb9f3a"
             ],
             [
              0.8888888888888888,
              "#fdca26"
             ],
             [
              1,
              "#f0f921"
             ]
            ],
            "type": "contour"
           }
          ],
          "contourcarpet": [
           {
            "colorbar": {
             "outlinewidth": 0,
             "ticks": ""
            },
            "type": "contourcarpet"
           }
          ],
          "heatmap": [
           {
            "colorbar": {
             "outlinewidth": 0,
             "ticks": ""
            },
            "colorscale": [
             [
              0,
              "#0d0887"
             ],
             [
              0.1111111111111111,
              "#46039f"
             ],
             [
              0.2222222222222222,
              "#7201a8"
             ],
             [
              0.3333333333333333,
              "#9c179e"
             ],
             [
              0.4444444444444444,
              "#bd3786"
             ],
             [
              0.5555555555555556,
              "#d8576b"
             ],
             [
              0.6666666666666666,
              "#ed7953"
             ],
             [
              0.7777777777777778,
              "#fb9f3a"
             ],
             [
              0.8888888888888888,
              "#fdca26"
             ],
             [
              1,
              "#f0f921"
             ]
            ],
            "type": "heatmap"
           }
          ],
          "heatmapgl": [
           {
            "colorbar": {
             "outlinewidth": 0,
             "ticks": ""
            },
            "colorscale": [
             [
              0,
              "#0d0887"
             ],
             [
              0.1111111111111111,
              "#46039f"
             ],
             [
              0.2222222222222222,
              "#7201a8"
             ],
             [
              0.3333333333333333,
              "#9c179e"
             ],
             [
              0.4444444444444444,
              "#bd3786"
             ],
             [
              0.5555555555555556,
              "#d8576b"
             ],
             [
              0.6666666666666666,
              "#ed7953"
             ],
             [
              0.7777777777777778,
              "#fb9f3a"
             ],
             [
              0.8888888888888888,
              "#fdca26"
             ],
             [
              1,
              "#f0f921"
             ]
            ],
            "type": "heatmapgl"
           }
          ],
          "histogram": [
           {
            "marker": {
             "pattern": {
              "fillmode": "overlay",
              "size": 10,
              "solidity": 0.2
             }
            },
            "type": "histogram"
           }
          ],
          "histogram2d": [
           {
            "colorbar": {
             "outlinewidth": 0,
             "ticks": ""
            },
            "colorscale": [
             [
              0,
              "#0d0887"
             ],
             [
              0.1111111111111111,
              "#46039f"
             ],
             [
              0.2222222222222222,
              "#7201a8"
             ],
             [
              0.3333333333333333,
              "#9c179e"
             ],
             [
              0.4444444444444444,
              "#bd3786"
             ],
             [
              0.5555555555555556,
              "#d8576b"
             ],
             [
              0.6666666666666666,
              "#ed7953"
             ],
             [
              0.7777777777777778,
              "#fb9f3a"
             ],
             [
              0.8888888888888888,
              "#fdca26"
             ],
             [
              1,
              "#f0f921"
             ]
            ],
            "type": "histogram2d"
           }
          ],
          "histogram2dcontour": [
           {
            "colorbar": {
             "outlinewidth": 0,
             "ticks": ""
            },
            "colorscale": [
             [
              0,
              "#0d0887"
             ],
             [
              0.1111111111111111,
              "#46039f"
             ],
             [
              0.2222222222222222,
              "#7201a8"
             ],
             [
              0.3333333333333333,
              "#9c179e"
             ],
             [
              0.4444444444444444,
              "#bd3786"
             ],
             [
              0.5555555555555556,
              "#d8576b"
             ],
             [
              0.6666666666666666,
              "#ed7953"
             ],
             [
              0.7777777777777778,
              "#fb9f3a"
             ],
             [
              0.8888888888888888,
              "#fdca26"
             ],
             [
              1,
              "#f0f921"
             ]
            ],
            "type": "histogram2dcontour"
           }
          ],
          "mesh3d": [
           {
            "colorbar": {
             "outlinewidth": 0,
             "ticks": ""
            },
            "type": "mesh3d"
           }
          ],
          "parcoords": [
           {
            "line": {
             "colorbar": {
              "outlinewidth": 0,
              "ticks": ""
             }
            },
            "type": "parcoords"
           }
          ],
          "pie": [
           {
            "automargin": true,
            "type": "pie"
           }
          ],
          "scatter": [
           {
            "fillpattern": {
             "fillmode": "overlay",
             "size": 10,
             "solidity": 0.2
            },
            "type": "scatter"
           }
          ],
          "scatter3d": [
           {
            "line": {
             "colorbar": {
              "outlinewidth": 0,
              "ticks": ""
             }
            },
            "marker": {
             "colorbar": {
              "outlinewidth": 0,
              "ticks": ""
             }
            },
            "type": "scatter3d"
           }
          ],
          "scattercarpet": [
           {
            "marker": {
             "colorbar": {
              "outlinewidth": 0,
              "ticks": ""
             }
            },
            "type": "scattercarpet"
           }
          ],
          "scattergeo": [
           {
            "marker": {
             "colorbar": {
              "outlinewidth": 0,
              "ticks": ""
             }
            },
            "type": "scattergeo"
           }
          ],
          "scattergl": [
           {
            "marker": {
             "colorbar": {
              "outlinewidth": 0,
              "ticks": ""
             }
            },
            "type": "scattergl"
           }
          ],
          "scattermapbox": [
           {
            "marker": {
             "colorbar": {
              "outlinewidth": 0,
              "ticks": ""
             }
            },
            "type": "scattermapbox"
           }
          ],
          "scatterpolar": [
           {
            "marker": {
             "colorbar": {
              "outlinewidth": 0,
              "ticks": ""
             }
            },
            "type": "scatterpolar"
           }
          ],
          "scatterpolargl": [
           {
            "marker": {
             "colorbar": {
              "outlinewidth": 0,
              "ticks": ""
             }
            },
            "type": "scatterpolargl"
           }
          ],
          "scatterternary": [
           {
            "marker": {
             "colorbar": {
              "outlinewidth": 0,
              "ticks": ""
             }
            },
            "type": "scatterternary"
           }
          ],
          "surface": [
           {
            "colorbar": {
             "outlinewidth": 0,
             "ticks": ""
            },
            "colorscale": [
             [
              0,
              "#0d0887"
             ],
             [
              0.1111111111111111,
              "#46039f"
             ],
             [
              0.2222222222222222,
              "#7201a8"
             ],
             [
              0.3333333333333333,
              "#9c179e"
             ],
             [
              0.4444444444444444,
              "#bd3786"
             ],
             [
              0.5555555555555556,
              "#d8576b"
             ],
             [
              0.6666666666666666,
              "#ed7953"
             ],
             [
              0.7777777777777778,
              "#fb9f3a"
             ],
             [
              0.8888888888888888,
              "#fdca26"
             ],
             [
              1,
              "#f0f921"
             ]
            ],
            "type": "surface"
           }
          ],
          "table": [
           {
            "cells": {
             "fill": {
              "color": "#EBF0F8"
             },
             "line": {
              "color": "white"
             }
            },
            "header": {
             "fill": {
              "color": "#C8D4E3"
             },
             "line": {
              "color": "white"
             }
            },
            "type": "table"
           }
          ]
         },
         "layout": {
          "annotationdefaults": {
           "arrowcolor": "#2a3f5f",
           "arrowhead": 0,
           "arrowwidth": 1
          },
          "autotypenumbers": "strict",
          "coloraxis": {
           "colorbar": {
            "outlinewidth": 0,
            "ticks": ""
           }
          },
          "colorscale": {
           "diverging": [
            [
             0,
             "#8e0152"
            ],
            [
             0.1,
             "#c51b7d"
            ],
            [
             0.2,
             "#de77ae"
            ],
            [
             0.3,
             "#f1b6da"
            ],
            [
             0.4,
             "#fde0ef"
            ],
            [
             0.5,
             "#f7f7f7"
            ],
            [
             0.6,
             "#e6f5d0"
            ],
            [
             0.7,
             "#b8e186"
            ],
            [
             0.8,
             "#7fbc41"
            ],
            [
             0.9,
             "#4d9221"
            ],
            [
             1,
             "#276419"
            ]
           ],
           "sequential": [
            [
             0,
             "#0d0887"
            ],
            [
             0.1111111111111111,
             "#46039f"
            ],
            [
             0.2222222222222222,
             "#7201a8"
            ],
            [
             0.3333333333333333,
             "#9c179e"
            ],
            [
             0.4444444444444444,
             "#bd3786"
            ],
            [
             0.5555555555555556,
             "#d8576b"
            ],
            [
             0.6666666666666666,
             "#ed7953"
            ],
            [
             0.7777777777777778,
             "#fb9f3a"
            ],
            [
             0.8888888888888888,
             "#fdca26"
            ],
            [
             1,
             "#f0f921"
            ]
           ],
           "sequentialminus": [
            [
             0,
             "#0d0887"
            ],
            [
             0.1111111111111111,
             "#46039f"
            ],
            [
             0.2222222222222222,
             "#7201a8"
            ],
            [
             0.3333333333333333,
             "#9c179e"
            ],
            [
             0.4444444444444444,
             "#bd3786"
            ],
            [
             0.5555555555555556,
             "#d8576b"
            ],
            [
             0.6666666666666666,
             "#ed7953"
            ],
            [
             0.7777777777777778,
             "#fb9f3a"
            ],
            [
             0.8888888888888888,
             "#fdca26"
            ],
            [
             1,
             "#f0f921"
            ]
           ]
          },
          "colorway": [
           "#636efa",
           "#EF553B",
           "#00cc96",
           "#ab63fa",
           "#FFA15A",
           "#19d3f3",
           "#FF6692",
           "#B6E880",
           "#FF97FF",
           "#FECB52"
          ],
          "font": {
           "color": "#2a3f5f"
          },
          "geo": {
           "bgcolor": "white",
           "lakecolor": "white",
           "landcolor": "#E5ECF6",
           "showlakes": true,
           "showland": true,
           "subunitcolor": "white"
          },
          "hoverlabel": {
           "align": "left"
          },
          "hovermode": "closest",
          "mapbox": {
           "style": "light"
          },
          "paper_bgcolor": "white",
          "plot_bgcolor": "#E5ECF6",
          "polar": {
           "angularaxis": {
            "gridcolor": "white",
            "linecolor": "white",
            "ticks": ""
           },
           "bgcolor": "#E5ECF6",
           "radialaxis": {
            "gridcolor": "white",
            "linecolor": "white",
            "ticks": ""
           }
          },
          "scene": {
           "xaxis": {
            "backgroundcolor": "#E5ECF6",
            "gridcolor": "white",
            "gridwidth": 2,
            "linecolor": "white",
            "showbackground": true,
            "ticks": "",
            "zerolinecolor": "white"
           },
           "yaxis": {
            "backgroundcolor": "#E5ECF6",
            "gridcolor": "white",
            "gridwidth": 2,
            "linecolor": "white",
            "showbackground": true,
            "ticks": "",
            "zerolinecolor": "white"
           },
           "zaxis": {
            "backgroundcolor": "#E5ECF6",
            "gridcolor": "white",
            "gridwidth": 2,
            "linecolor": "white",
            "showbackground": true,
            "ticks": "",
            "zerolinecolor": "white"
           }
          },
          "shapedefaults": {
           "line": {
            "color": "#2a3f5f"
           }
          },
          "ternary": {
           "aaxis": {
            "gridcolor": "white",
            "linecolor": "white",
            "ticks": ""
           },
           "baxis": {
            "gridcolor": "white",
            "linecolor": "white",
            "ticks": ""
           },
           "bgcolor": "#E5ECF6",
           "caxis": {
            "gridcolor": "white",
            "linecolor": "white",
            "ticks": ""
           }
          },
          "title": {
           "x": 0.05
          },
          "xaxis": {
           "automargin": true,
           "gridcolor": "white",
           "linecolor": "white",
           "ticks": "",
           "title": {
            "standoff": 15
           },
           "zerolinecolor": "white",
           "zerolinewidth": 2
          },
          "yaxis": {
           "automargin": true,
           "gridcolor": "white",
           "linecolor": "white",
           "ticks": "",
           "title": {
            "standoff": 15
           },
           "zerolinecolor": "white",
           "zerolinewidth": 2
          }
         }
        },
        "title": {
         "text": "Label: Meltan"
        },
        "width": 500,
        "xaxis": {
         "anchor": "y",
         "domain": [
          0,
          1
         ],
         "showgrid": false,
         "showticklabels": false,
         "visible": false,
         "zeroline": false
        },
        "yaxis": {
         "anchor": "x",
         "domain": [
          0,
          1
         ],
         "showgrid": false,
         "showticklabels": false,
         "visible": false,
         "zeroline": false
        }
       }
      }
     },
     "metadata": {},
     "output_type": "display_data"
    },
    {
     "data": {
      "application/vnd.plotly.v1+json": {
       "config": {
        "plotlyServerURL": "https://plot.ly"
       },
       "data": [
        {
         "hovertemplate": "x: %{x}<br>y: %{y}<extra></extra>",
         "name": "0",
         "source": "data:image/png;base64,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",
         "type": "image",
         "xaxis": "x",
         "yaxis": "y"
        }
       ],
       "layout": {
        "height": 350,
        "margin": {
         "l": 0,
         "t": 60
        },
        "shapes": [
         {
          "line": {
           "color": "black",
           "width": 2
          },
          "type": "rect",
          "x0": 0,
          "x1": 128,
          "xref": "x",
          "y0": 0,
          "y1": 128,
          "yref": "y"
         }
        ],
        "template": {
         "data": {
          "bar": [
           {
            "error_x": {
             "color": "#2a3f5f"
            },
            "error_y": {
             "color": "#2a3f5f"
            },
            "marker": {
             "line": {
              "color": "#E5ECF6",
              "width": 0.5
             },
             "pattern": {
              "fillmode": "overlay",
              "size": 10,
              "solidity": 0.2
             }
            },
            "type": "bar"
           }
          ],
          "barpolar": [
           {
            "marker": {
             "line": {
              "color": "#E5ECF6",
              "width": 0.5
             },
             "pattern": {
              "fillmode": "overlay",
              "size": 10,
              "solidity": 0.2
             }
            },
            "type": "barpolar"
           }
          ],
          "carpet": [
           {
            "aaxis": {
             "endlinecolor": "#2a3f5f",
             "gridcolor": "white",
             "linecolor": "white",
             "minorgridcolor": "white",
             "startlinecolor": "#2a3f5f"
            },
            "baxis": {
             "endlinecolor": "#2a3f5f",
             "gridcolor": "white",
             "linecolor": "white",
             "minorgridcolor": "white",
             "startlinecolor": "#2a3f5f"
            },
            "type": "carpet"
           }
          ],
          "choropleth": [
           {
            "colorbar": {
             "outlinewidth": 0,
             "ticks": ""
            },
            "type": "choropleth"
           }
          ],
          "contour": [
           {
            "colorbar": {
             "outlinewidth": 0,
             "ticks": ""
            },
            "colorscale": [
             [
              0,
              "#0d0887"
             ],
             [
              0.1111111111111111,
              "#46039f"
             ],
             [
              0.2222222222222222,
              "#7201a8"
             ],
             [
              0.3333333333333333,
              "#9c179e"
             ],
             [
              0.4444444444444444,
              "#bd3786"
             ],
             [
              0.5555555555555556,
              "#d8576b"
             ],
             [
              0.6666666666666666,
              "#ed7953"
             ],
             [
              0.7777777777777778,
              "#fb9f3a"
             ],
             [
              0.8888888888888888,
              "#fdca26"
             ],
             [
              1,
              "#f0f921"
             ]
            ],
            "type": "contour"
           }
          ],
          "contourcarpet": [
           {
            "colorbar": {
             "outlinewidth": 0,
             "ticks": ""
            },
            "type": "contourcarpet"
           }
          ],
          "heatmap": [
           {
            "colorbar": {
             "outlinewidth": 0,
             "ticks": ""
            },
            "colorscale": [
             [
              0,
              "#0d0887"
             ],
             [
              0.1111111111111111,
              "#46039f"
             ],
             [
              0.2222222222222222,
              "#7201a8"
             ],
             [
              0.3333333333333333,
              "#9c179e"
             ],
             [
              0.4444444444444444,
              "#bd3786"
             ],
             [
              0.5555555555555556,
              "#d8576b"
             ],
             [
              0.6666666666666666,
              "#ed7953"
             ],
             [
              0.7777777777777778,
              "#fb9f3a"
             ],
             [
              0.8888888888888888,
              "#fdca26"
             ],
             [
              1,
              "#f0f921"
             ]
            ],
            "type": "heatmap"
           }
          ],
          "heatmapgl": [
           {
            "colorbar": {
             "outlinewidth": 0,
             "ticks": ""
            },
            "colorscale": [
             [
              0,
              "#0d0887"
             ],
             [
              0.1111111111111111,
              "#46039f"
             ],
             [
              0.2222222222222222,
              "#7201a8"
             ],
             [
              0.3333333333333333,
              "#9c179e"
             ],
             [
              0.4444444444444444,
              "#bd3786"
             ],
             [
              0.5555555555555556,
              "#d8576b"
             ],
             [
              0.6666666666666666,
              "#ed7953"
             ],
             [
              0.7777777777777778,
              "#fb9f3a"
             ],
             [
              0.8888888888888888,
              "#fdca26"
             ],
             [
              1,
              "#f0f921"
             ]
            ],
            "type": "heatmapgl"
           }
          ],
          "histogram": [
           {
            "marker": {
             "pattern": {
              "fillmode": "overlay",
              "size": 10,
              "solidity": 0.2
             }
            },
            "type": "histogram"
           }
          ],
          "histogram2d": [
           {
            "colorbar": {
             "outlinewidth": 0,
             "ticks": ""
            },
            "colorscale": [
             [
              0,
              "#0d0887"
             ],
             [
              0.1111111111111111,
              "#46039f"
             ],
             [
              0.2222222222222222,
              "#7201a8"
             ],
             [
              0.3333333333333333,
              "#9c179e"
             ],
             [
              0.4444444444444444,
              "#bd3786"
             ],
             [
              0.5555555555555556,
              "#d8576b"
             ],
             [
              0.6666666666666666,
              "#ed7953"
             ],
             [
              0.7777777777777778,
              "#fb9f3a"
             ],
             [
              0.8888888888888888,
              "#fdca26"
             ],
             [
              1,
              "#f0f921"
             ]
            ],
            "type": "histogram2d"
           }
          ],
          "histogram2dcontour": [
           {
            "colorbar": {
             "outlinewidth": 0,
             "ticks": ""
            },
            "colorscale": [
             [
              0,
              "#0d0887"
             ],
             [
              0.1111111111111111,
              "#46039f"
             ],
             [
              0.2222222222222222,
              "#7201a8"
             ],
             [
              0.3333333333333333,
              "#9c179e"
             ],
             [
              0.4444444444444444,
              "#bd3786"
             ],
             [
              0.5555555555555556,
              "#d8576b"
             ],
             [
              0.6666666666666666,
              "#ed7953"
             ],
             [
              0.7777777777777778,
              "#fb9f3a"
             ],
             [
              0.8888888888888888,
              "#fdca26"
             ],
             [
              1,
              "#f0f921"
             ]
            ],
            "type": "histogram2dcontour"
           }
          ],
          "mesh3d": [
           {
            "colorbar": {
             "outlinewidth": 0,
             "ticks": ""
            },
            "type": "mesh3d"
           }
          ],
          "parcoords": [
           {
            "line": {
             "colorbar": {
              "outlinewidth": 0,
              "ticks": ""
             }
            },
            "type": "parcoords"
           }
          ],
          "pie": [
           {
            "automargin": true,
            "type": "pie"
           }
          ],
          "scatter": [
           {
            "fillpattern": {
             "fillmode": "overlay",
             "size": 10,
             "solidity": 0.2
            },
            "type": "scatter"
           }
          ],
          "scatter3d": [
           {
            "line": {
             "colorbar": {
              "outlinewidth": 0,
              "ticks": ""
             }
            },
            "marker": {
             "colorbar": {
              "outlinewidth": 0,
              "ticks": ""
             }
            },
            "type": "scatter3d"
           }
          ],
          "scattercarpet": [
           {
            "marker": {
             "colorbar": {
              "outlinewidth": 0,
              "ticks": ""
             }
            },
            "type": "scattercarpet"
           }
          ],
          "scattergeo": [
           {
            "marker": {
             "colorbar": {
              "outlinewidth": 0,
              "ticks": ""
             }
            },
            "type": "scattergeo"
           }
          ],
          "scattergl": [
           {
            "marker": {
             "colorbar": {
              "outlinewidth": 0,
              "ticks": ""
             }
            },
            "type": "scattergl"
           }
          ],
          "scattermapbox": [
           {
            "marker": {
             "colorbar": {
              "outlinewidth": 0,
              "ticks": ""
             }
            },
            "type": "scattermapbox"
           }
          ],
          "scatterpolar": [
           {
            "marker": {
             "colorbar": {
              "outlinewidth": 0,
              "ticks": ""
             }
            },
            "type": "scatterpolar"
           }
          ],
          "scatterpolargl": [
           {
            "marker": {
             "colorbar": {
              "outlinewidth": 0,
              "ticks": ""
             }
            },
            "type": "scatterpolargl"
           }
          ],
          "scatterternary": [
           {
            "marker": {
             "colorbar": {
              "outlinewidth": 0,
              "ticks": ""
             }
            },
            "type": "scatterternary"
           }
          ],
          "surface": [
           {
            "colorbar": {
             "outlinewidth": 0,
             "ticks": ""
            },
            "colorscale": [
             [
              0,
              "#0d0887"
             ],
             [
              0.1111111111111111,
              "#46039f"
             ],
             [
              0.2222222222222222,
              "#7201a8"
             ],
             [
              0.3333333333333333,
              "#9c179e"
             ],
             [
              0.4444444444444444,
              "#bd3786"
             ],
             [
              0.5555555555555556,
              "#d8576b"
             ],
             [
              0.6666666666666666,
              "#ed7953"
             ],
             [
              0.7777777777777778,
              "#fb9f3a"
             ],
             [
              0.8888888888888888,
              "#fdca26"
             ],
             [
              1,
              "#f0f921"
             ]
            ],
            "type": "surface"
           }
          ],
          "table": [
           {
            "cells": {
             "fill": {
              "color": "#EBF0F8"
             },
             "line": {
              "color": "white"
             }
            },
            "header": {
             "fill": {
              "color": "#C8D4E3"
             },
             "line": {
              "color": "white"
             }
            },
            "type": "table"
           }
          ]
         },
         "layout": {
          "annotationdefaults": {
           "arrowcolor": "#2a3f5f",
           "arrowhead": 0,
           "arrowwidth": 1
          },
          "autotypenumbers": "strict",
          "coloraxis": {
           "colorbar": {
            "outlinewidth": 0,
            "ticks": ""
           }
          },
          "colorscale": {
           "diverging": [
            [
             0,
             "#8e0152"
            ],
            [
             0.1,
             "#c51b7d"
            ],
            [
             0.2,
             "#de77ae"
            ],
            [
             0.3,
             "#f1b6da"
            ],
            [
             0.4,
             "#fde0ef"
            ],
            [
             0.5,
             "#f7f7f7"
            ],
            [
             0.6,
             "#e6f5d0"
            ],
            [
             0.7,
             "#b8e186"
            ],
            [
             0.8,
             "#7fbc41"
            ],
            [
             0.9,
             "#4d9221"
            ],
            [
             1,
             "#276419"
            ]
           ],
           "sequential": [
            [
             0,
             "#0d0887"
            ],
            [
             0.1111111111111111,
             "#46039f"
            ],
            [
             0.2222222222222222,
             "#7201a8"
            ],
            [
             0.3333333333333333,
             "#9c179e"
            ],
            [
             0.4444444444444444,
             "#bd3786"
            ],
            [
             0.5555555555555556,
             "#d8576b"
            ],
            [
             0.6666666666666666,
             "#ed7953"
            ],
            [
             0.7777777777777778,
             "#fb9f3a"
            ],
            [
             0.8888888888888888,
             "#fdca26"
            ],
            [
             1,
             "#f0f921"
            ]
           ],
           "sequentialminus": [
            [
             0,
             "#0d0887"
            ],
            [
             0.1111111111111111,
             "#46039f"
            ],
            [
             0.2222222222222222,
             "#7201a8"
            ],
            [
             0.3333333333333333,
             "#9c179e"
            ],
            [
             0.4444444444444444,
             "#bd3786"
            ],
            [
             0.5555555555555556,
             "#d8576b"
            ],
            [
             0.6666666666666666,
             "#ed7953"
            ],
            [
             0.7777777777777778,
             "#fb9f3a"
            ],
            [
             0.8888888888888888,
             "#fdca26"
            ],
            [
             1,
             "#f0f921"
            ]
           ]
          },
          "colorway": [
           "#636efa",
           "#EF553B",
           "#00cc96",
           "#ab63fa",
           "#FFA15A",
           "#19d3f3",
           "#FF6692",
           "#B6E880",
           "#FF97FF",
           "#FECB52"
          ],
          "font": {
           "color": "#2a3f5f"
          },
          "geo": {
           "bgcolor": "white",
           "lakecolor": "white",
           "landcolor": "#E5ECF6",
           "showlakes": true,
           "showland": true,
           "subunitcolor": "white"
          },
          "hoverlabel": {
           "align": "left"
          },
          "hovermode": "closest",
          "mapbox": {
           "style": "light"
          },
          "paper_bgcolor": "white",
          "plot_bgcolor": "#E5ECF6",
          "polar": {
           "angularaxis": {
            "gridcolor": "white",
            "linecolor": "white",
            "ticks": ""
           },
           "bgcolor": "#E5ECF6",
           "radialaxis": {
            "gridcolor": "white",
            "linecolor": "white",
            "ticks": ""
           }
          },
          "scene": {
           "xaxis": {
            "backgroundcolor": "#E5ECF6",
            "gridcolor": "white",
            "gridwidth": 2,
            "linecolor": "white",
            "showbackground": true,
            "ticks": "",
            "zerolinecolor": "white"
           },
           "yaxis": {
            "backgroundcolor": "#E5ECF6",
            "gridcolor": "white",
            "gridwidth": 2,
            "linecolor": "white",
            "showbackground": true,
            "ticks": "",
            "zerolinecolor": "white"
           },
           "zaxis": {
            "backgroundcolor": "#E5ECF6",
            "gridcolor": "white",
            "gridwidth": 2,
            "linecolor": "white",
            "showbackground": true,
            "ticks": "",
            "zerolinecolor": "white"
           }
          },
          "shapedefaults": {
           "line": {
            "color": "#2a3f5f"
           }
          },
          "ternary": {
           "aaxis": {
            "gridcolor": "white",
            "linecolor": "white",
            "ticks": ""
           },
           "baxis": {
            "gridcolor": "white",
            "linecolor": "white",
            "ticks": ""
           },
           "bgcolor": "#E5ECF6",
           "caxis": {
            "gridcolor": "white",
            "linecolor": "white",
            "ticks": ""
           }
          },
          "title": {
           "x": 0.05
          },
          "xaxis": {
           "automargin": true,
           "gridcolor": "white",
           "linecolor": "white",
           "ticks": "",
           "title": {
            "standoff": 15
           },
           "zerolinecolor": "white",
           "zerolinewidth": 2
          },
          "yaxis": {
           "automargin": true,
           "gridcolor": "white",
           "linecolor": "white",
           "ticks": "",
           "title": {
            "standoff": 15
           },
           "zerolinecolor": "white",
           "zerolinewidth": 2
          }
         }
        },
        "title": {
         "text": "Label: Meltan"
        },
        "width": 500,
        "xaxis": {
         "anchor": "y",
         "domain": [
          0,
          1
         ],
         "showgrid": false,
         "showticklabels": false,
         "visible": false,
         "zeroline": false
        },
        "yaxis": {
         "anchor": "x",
         "domain": [
          0,
          1
         ],
         "showgrid": false,
         "showticklabels": false,
         "visible": false,
         "zeroline": false
        }
       }
      }
     },
     "metadata": {},
     "output_type": "display_data"
    },
    {
     "data": {
      "application/vnd.plotly.v1+json": {
       "config": {
        "plotlyServerURL": "https://plot.ly"
       },
       "data": [
        {
         "hovertemplate": "x: %{x}<br>y: %{y}<extra></extra>",
         "name": "0",
         "source": "data:image/png;base64,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",
         "type": "image",
         "xaxis": "x",
         "yaxis": "y"
        }
       ],
       "layout": {
        "height": 350,
        "margin": {
         "l": 0,
         "t": 60
        },
        "shapes": [
         {
          "line": {
           "color": "black",
           "width": 2
          },
          "type": "rect",
          "x0": 0,
          "x1": 128,
          "xref": "x",
          "y0": 0,
          "y1": 128,
          "yref": "y"
         }
        ],
        "template": {
         "data": {
          "bar": [
           {
            "error_x": {
             "color": "#2a3f5f"
            },
            "error_y": {
             "color": "#2a3f5f"
            },
            "marker": {
             "line": {
              "color": "#E5ECF6",
              "width": 0.5
             },
             "pattern": {
              "fillmode": "overlay",
              "size": 10,
              "solidity": 0.2
             }
            },
            "type": "bar"
           }
          ],
          "barpolar": [
           {
            "marker": {
             "line": {
              "color": "#E5ECF6",
              "width": 0.5
             },
             "pattern": {
              "fillmode": "overlay",
              "size": 10,
              "solidity": 0.2
             }
            },
            "type": "barpolar"
           }
          ],
          "carpet": [
           {
            "aaxis": {
             "endlinecolor": "#2a3f5f",
             "gridcolor": "white",
             "linecolor": "white",
             "minorgridcolor": "white",
             "startlinecolor": "#2a3f5f"
            },
            "baxis": {
             "endlinecolor": "#2a3f5f",
             "gridcolor": "white",
             "linecolor": "white",
             "minorgridcolor": "white",
             "startlinecolor": "#2a3f5f"
            },
            "type": "carpet"
           }
          ],
          "choropleth": [
           {
            "colorbar": {
             "outlinewidth": 0,
             "ticks": ""
            },
            "type": "choropleth"
           }
          ],
          "contour": [
           {
            "colorbar": {
             "outlinewidth": 0,
             "ticks": ""
            },
            "colorscale": [
             [
              0,
              "#0d0887"
             ],
             [
              0.1111111111111111,
              "#46039f"
             ],
             [
              0.2222222222222222,
              "#7201a8"
             ],
             [
              0.3333333333333333,
              "#9c179e"
             ],
             [
              0.4444444444444444,
              "#bd3786"
             ],
             [
              0.5555555555555556,
              "#d8576b"
             ],
             [
              0.6666666666666666,
              "#ed7953"
             ],
             [
              0.7777777777777778,
              "#fb9f3a"
             ],
             [
              0.8888888888888888,
              "#fdca26"
             ],
             [
              1,
              "#f0f921"
             ]
            ],
            "type": "contour"
           }
          ],
          "contourcarpet": [
           {
            "colorbar": {
             "outlinewidth": 0,
             "ticks": ""
            },
            "type": "contourcarpet"
           }
          ],
          "heatmap": [
           {
            "colorbar": {
             "outlinewidth": 0,
             "ticks": ""
            },
            "colorscale": [
             [
              0,
              "#0d0887"
             ],
             [
              0.1111111111111111,
              "#46039f"
             ],
             [
              0.2222222222222222,
              "#7201a8"
             ],
             [
              0.3333333333333333,
              "#9c179e"
             ],
             [
              0.4444444444444444,
              "#bd3786"
             ],
             [
              0.5555555555555556,
              "#d8576b"
             ],
             [
              0.6666666666666666,
              "#ed7953"
             ],
             [
              0.7777777777777778,
              "#fb9f3a"
             ],
             [
              0.8888888888888888,
              "#fdca26"
             ],
             [
              1,
              "#f0f921"
             ]
            ],
            "type": "heatmap"
           }
          ],
          "heatmapgl": [
           {
            "colorbar": {
             "outlinewidth": 0,
             "ticks": ""
            },
            "colorscale": [
             [
              0,
              "#0d0887"
             ],
             [
              0.1111111111111111,
              "#46039f"
             ],
             [
              0.2222222222222222,
              "#7201a8"
             ],
             [
              0.3333333333333333,
              "#9c179e"
             ],
             [
              0.4444444444444444,
              "#bd3786"
             ],
             [
              0.5555555555555556,
              "#d8576b"
             ],
             [
              0.6666666666666666,
              "#ed7953"
             ],
             [
              0.7777777777777778,
              "#fb9f3a"
             ],
             [
              0.8888888888888888,
              "#fdca26"
             ],
             [
              1,
              "#f0f921"
             ]
            ],
            "type": "heatmapgl"
           }
          ],
          "histogram": [
           {
            "marker": {
             "pattern": {
              "fillmode": "overlay",
              "size": 10,
              "solidity": 0.2
             }
            },
            "type": "histogram"
           }
          ],
          "histogram2d": [
           {
            "colorbar": {
             "outlinewidth": 0,
             "ticks": ""
            },
            "colorscale": [
             [
              0,
              "#0d0887"
             ],
             [
              0.1111111111111111,
              "#46039f"
             ],
             [
              0.2222222222222222,
              "#7201a8"
             ],
             [
              0.3333333333333333,
              "#9c179e"
             ],
             [
              0.4444444444444444,
              "#bd3786"
             ],
             [
              0.5555555555555556,
              "#d8576b"
             ],
             [
              0.6666666666666666,
              "#ed7953"
             ],
             [
              0.7777777777777778,
              "#fb9f3a"
             ],
             [
              0.8888888888888888,
              "#fdca26"
             ],
             [
              1,
              "#f0f921"
             ]
            ],
            "type": "histogram2d"
           }
          ],
          "histogram2dcontour": [
           {
            "colorbar": {
             "outlinewidth": 0,
             "ticks": ""
            },
            "colorscale": [
             [
              0,
              "#0d0887"
             ],
             [
              0.1111111111111111,
              "#46039f"
             ],
             [
              0.2222222222222222,
              "#7201a8"
             ],
             [
              0.3333333333333333,
              "#9c179e"
             ],
             [
              0.4444444444444444,
              "#bd3786"
             ],
             [
              0.5555555555555556,
              "#d8576b"
             ],
             [
              0.6666666666666666,
              "#ed7953"
             ],
             [
              0.7777777777777778,
              "#fb9f3a"
             ],
             [
              0.8888888888888888,
              "#fdca26"
             ],
             [
              1,
              "#f0f921"
             ]
            ],
            "type": "histogram2dcontour"
           }
          ],
          "mesh3d": [
           {
            "colorbar": {
             "outlinewidth": 0,
             "ticks": ""
            },
            "type": "mesh3d"
           }
          ],
          "parcoords": [
           {
            "line": {
             "colorbar": {
              "outlinewidth": 0,
              "ticks": ""
             }
            },
            "type": "parcoords"
           }
          ],
          "pie": [
           {
            "automargin": true,
            "type": "pie"
           }
          ],
          "scatter": [
           {
            "fillpattern": {
             "fillmode": "overlay",
             "size": 10,
             "solidity": 0.2
            },
            "type": "scatter"
           }
          ],
          "scatter3d": [
           {
            "line": {
             "colorbar": {
              "outlinewidth": 0,
              "ticks": ""
             }
            },
            "marker": {
             "colorbar": {
              "outlinewidth": 0,
              "ticks": ""
             }
            },
            "type": "scatter3d"
           }
          ],
          "scattercarpet": [
           {
            "marker": {
             "colorbar": {
              "outlinewidth": 0,
              "ticks": ""
             }
            },
            "type": "scattercarpet"
           }
          ],
          "scattergeo": [
           {
            "marker": {
             "colorbar": {
              "outlinewidth": 0,
              "ticks": ""
             }
            },
            "type": "scattergeo"
           }
          ],
          "scattergl": [
           {
            "marker": {
             "colorbar": {
              "outlinewidth": 0,
              "ticks": ""
             }
            },
            "type": "scattergl"
           }
          ],
          "scattermapbox": [
           {
            "marker": {
             "colorbar": {
              "outlinewidth": 0,
              "ticks": ""
             }
            },
            "type": "scattermapbox"
           }
          ],
          "scatterpolar": [
           {
            "marker": {
             "colorbar": {
              "outlinewidth": 0,
              "ticks": ""
             }
            },
            "type": "scatterpolar"
           }
          ],
          "scatterpolargl": [
           {
            "marker": {
             "colorbar": {
              "outlinewidth": 0,
              "ticks": ""
             }
            },
            "type": "scatterpolargl"
           }
          ],
          "scatterternary": [
           {
            "marker": {
             "colorbar": {
              "outlinewidth": 0,
              "ticks": ""
             }
            },
            "type": "scatterternary"
           }
          ],
          "surface": [
           {
            "colorbar": {
             "outlinewidth": 0,
             "ticks": ""
            },
            "colorscale": [
             [
              0,
              "#0d0887"
             ],
             [
              0.1111111111111111,
              "#46039f"
             ],
             [
              0.2222222222222222,
              "#7201a8"
             ],
             [
              0.3333333333333333,
              "#9c179e"
             ],
             [
              0.4444444444444444,
              "#bd3786"
             ],
             [
              0.5555555555555556,
              "#d8576b"
             ],
             [
              0.6666666666666666,
              "#ed7953"
             ],
             [
              0.7777777777777778,
              "#fb9f3a"
             ],
             [
              0.8888888888888888,
              "#fdca26"
             ],
             [
              1,
              "#f0f921"
             ]
            ],
            "type": "surface"
           }
          ],
          "table": [
           {
            "cells": {
             "fill": {
              "color": "#EBF0F8"
             },
             "line": {
              "color": "white"
             }
            },
            "header": {
             "fill": {
              "color": "#C8D4E3"
             },
             "line": {
              "color": "white"
             }
            },
            "type": "table"
           }
          ]
         },
         "layout": {
          "annotationdefaults": {
           "arrowcolor": "#2a3f5f",
           "arrowhead": 0,
           "arrowwidth": 1
          },
          "autotypenumbers": "strict",
          "coloraxis": {
           "colorbar": {
            "outlinewidth": 0,
            "ticks": ""
           }
          },
          "colorscale": {
           "diverging": [
            [
             0,
             "#8e0152"
            ],
            [
             0.1,
             "#c51b7d"
            ],
            [
             0.2,
             "#de77ae"
            ],
            [
             0.3,
             "#f1b6da"
            ],
            [
             0.4,
             "#fde0ef"
            ],
            [
             0.5,
             "#f7f7f7"
            ],
            [
             0.6,
             "#e6f5d0"
            ],
            [
             0.7,
             "#b8e186"
            ],
            [
             0.8,
             "#7fbc41"
            ],
            [
             0.9,
             "#4d9221"
            ],
            [
             1,
             "#276419"
            ]
           ],
           "sequential": [
            [
             0,
             "#0d0887"
            ],
            [
             0.1111111111111111,
             "#46039f"
            ],
            [
             0.2222222222222222,
             "#7201a8"
            ],
            [
             0.3333333333333333,
             "#9c179e"
            ],
            [
             0.4444444444444444,
             "#bd3786"
            ],
            [
             0.5555555555555556,
             "#d8576b"
            ],
            [
             0.6666666666666666,
             "#ed7953"
            ],
            [
             0.7777777777777778,
             "#fb9f3a"
            ],
            [
             0.8888888888888888,
             "#fdca26"
            ],
            [
             1,
             "#f0f921"
            ]
           ],
           "sequentialminus": [
            [
             0,
             "#0d0887"
            ],
            [
             0.1111111111111111,
             "#46039f"
            ],
            [
             0.2222222222222222,
             "#7201a8"
            ],
            [
             0.3333333333333333,
             "#9c179e"
            ],
            [
             0.4444444444444444,
             "#bd3786"
            ],
            [
             0.5555555555555556,
             "#d8576b"
            ],
            [
             0.6666666666666666,
             "#ed7953"
            ],
            [
             0.7777777777777778,
             "#fb9f3a"
            ],
            [
             0.8888888888888888,
             "#fdca26"
            ],
            [
             1,
             "#f0f921"
            ]
           ]
          },
          "colorway": [
           "#636efa",
           "#EF553B",
           "#00cc96",
           "#ab63fa",
           "#FFA15A",
           "#19d3f3",
           "#FF6692",
           "#B6E880",
           "#FF97FF",
           "#FECB52"
          ],
          "font": {
           "color": "#2a3f5f"
          },
          "geo": {
           "bgcolor": "white",
           "lakecolor": "white",
           "landcolor": "#E5ECF6",
           "showlakes": true,
           "showland": true,
           "subunitcolor": "white"
          },
          "hoverlabel": {
           "align": "left"
          },
          "hovermode": "closest",
          "mapbox": {
           "style": "light"
          },
          "paper_bgcolor": "white",
          "plot_bgcolor": "#E5ECF6",
          "polar": {
           "angularaxis": {
            "gridcolor": "white",
            "linecolor": "white",
            "ticks": ""
           },
           "bgcolor": "#E5ECF6",
           "radialaxis": {
            "gridcolor": "white",
            "linecolor": "white",
            "ticks": ""
           }
          },
          "scene": {
           "xaxis": {
            "backgroundcolor": "#E5ECF6",
            "gridcolor": "white",
            "gridwidth": 2,
            "linecolor": "white",
            "showbackground": true,
            "ticks": "",
            "zerolinecolor": "white"
           },
           "yaxis": {
            "backgroundcolor": "#E5ECF6",
            "gridcolor": "white",
            "gridwidth": 2,
            "linecolor": "white",
            "showbackground": true,
            "ticks": "",
            "zerolinecolor": "white"
           },
           "zaxis": {
            "backgroundcolor": "#E5ECF6",
            "gridcolor": "white",
            "gridwidth": 2,
            "linecolor": "white",
            "showbackground": true,
            "ticks": "",
            "zerolinecolor": "white"
           }
          },
          "shapedefaults": {
           "line": {
            "color": "#2a3f5f"
           }
          },
          "ternary": {
           "aaxis": {
            "gridcolor": "white",
            "linecolor": "white",
            "ticks": ""
           },
           "baxis": {
            "gridcolor": "white",
            "linecolor": "white",
            "ticks": ""
           },
           "bgcolor": "#E5ECF6",
           "caxis": {
            "gridcolor": "white",
            "linecolor": "white",
            "ticks": ""
           }
          },
          "title": {
           "x": 0.05
          },
          "xaxis": {
           "automargin": true,
           "gridcolor": "white",
           "linecolor": "white",
           "ticks": "",
           "title": {
            "standoff": 15
           },
           "zerolinecolor": "white",
           "zerolinewidth": 2
          },
          "yaxis": {
           "automargin": true,
           "gridcolor": "white",
           "linecolor": "white",
           "ticks": "",
           "title": {
            "standoff": 15
           },
           "zerolinecolor": "white",
           "zerolinewidth": 2
          }
         }
        },
        "title": {
         "text": "Label: Snorlax"
        },
        "width": 500,
        "xaxis": {
         "anchor": "y",
         "domain": [
          0,
          1
         ],
         "showgrid": false,
         "showticklabels": false,
         "visible": false,
         "zeroline": false
        },
        "yaxis": {
         "anchor": "x",
         "domain": [
          0,
          1
         ],
         "showgrid": false,
         "showticklabels": false,
         "visible": false,
         "zeroline": false
        }
       }
      }
     },
     "metadata": {},
     "output_type": "display_data"
    },
    {
     "data": {
      "application/vnd.plotly.v1+json": {
       "config": {
        "plotlyServerURL": "https://plot.ly"
       },
       "data": [
        {
         "hovertemplate": "x: %{x}<br>y: %{y}<extra></extra>",
         "name": "0",
         "source": "data:image/png;base64,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",
         "type": "image",
         "xaxis": "x",
         "yaxis": "y"
        }
       ],
       "layout": {
        "height": 350,
        "margin": {
         "l": 0,
         "t": 60
        },
        "shapes": [
         {
          "line": {
           "color": "black",
           "width": 2
          },
          "type": "rect",
          "x0": 0,
          "x1": 128,
          "xref": "x",
          "y0": 0,
          "y1": 128,
          "yref": "y"
         }
        ],
        "template": {
         "data": {
          "bar": [
           {
            "error_x": {
             "color": "#2a3f5f"
            },
            "error_y": {
             "color": "#2a3f5f"
            },
            "marker": {
             "line": {
              "color": "#E5ECF6",
              "width": 0.5
             },
             "pattern": {
              "fillmode": "overlay",
              "size": 10,
              "solidity": 0.2
             }
            },
            "type": "bar"
           }
          ],
          "barpolar": [
           {
            "marker": {
             "line": {
              "color": "#E5ECF6",
              "width": 0.5
             },
             "pattern": {
              "fillmode": "overlay",
              "size": 10,
              "solidity": 0.2
             }
            },
            "type": "barpolar"
           }
          ],
          "carpet": [
           {
            "aaxis": {
             "endlinecolor": "#2a3f5f",
             "gridcolor": "white",
             "linecolor": "white",
             "minorgridcolor": "white",
             "startlinecolor": "#2a3f5f"
            },
            "baxis": {
             "endlinecolor": "#2a3f5f",
             "gridcolor": "white",
             "linecolor": "white",
             "minorgridcolor": "white",
             "startlinecolor": "#2a3f5f"
            },
            "type": "carpet"
           }
          ],
          "choropleth": [
           {
            "colorbar": {
             "outlinewidth": 0,
             "ticks": ""
            },
            "type": "choropleth"
           }
          ],
          "contour": [
           {
            "colorbar": {
             "outlinewidth": 0,
             "ticks": ""
            },
            "colorscale": [
             [
              0,
              "#0d0887"
             ],
             [
              0.1111111111111111,
              "#46039f"
             ],
             [
              0.2222222222222222,
              "#7201a8"
             ],
             [
              0.3333333333333333,
              "#9c179e"
             ],
             [
              0.4444444444444444,
              "#bd3786"
             ],
             [
              0.5555555555555556,
              "#d8576b"
             ],
             [
              0.6666666666666666,
              "#ed7953"
             ],
             [
              0.7777777777777778,
              "#fb9f3a"
             ],
             [
              0.8888888888888888,
              "#fdca26"
             ],
             [
              1,
              "#f0f921"
             ]
            ],
            "type": "contour"
           }
          ],
          "contourcarpet": [
           {
            "colorbar": {
             "outlinewidth": 0,
             "ticks": ""
            },
            "type": "contourcarpet"
           }
          ],
          "heatmap": [
           {
            "colorbar": {
             "outlinewidth": 0,
             "ticks": ""
            },
            "colorscale": [
             [
              0,
              "#0d0887"
             ],
             [
              0.1111111111111111,
              "#46039f"
             ],
             [
              0.2222222222222222,
              "#7201a8"
             ],
             [
              0.3333333333333333,
              "#9c179e"
             ],
             [
              0.4444444444444444,
              "#bd3786"
             ],
             [
              0.5555555555555556,
              "#d8576b"
             ],
             [
              0.6666666666666666,
              "#ed7953"
             ],
             [
              0.7777777777777778,
              "#fb9f3a"
             ],
             [
              0.8888888888888888,
              "#fdca26"
             ],
             [
              1,
              "#f0f921"
             ]
            ],
            "type": "heatmap"
           }
          ],
          "heatmapgl": [
           {
            "colorbar": {
             "outlinewidth": 0,
             "ticks": ""
            },
            "colorscale": [
             [
              0,
              "#0d0887"
             ],
             [
              0.1111111111111111,
              "#46039f"
             ],
             [
              0.2222222222222222,
              "#7201a8"
             ],
             [
              0.3333333333333333,
              "#9c179e"
             ],
             [
              0.4444444444444444,
              "#bd3786"
             ],
             [
              0.5555555555555556,
              "#d8576b"
             ],
             [
              0.6666666666666666,
              "#ed7953"
             ],
             [
              0.7777777777777778,
              "#fb9f3a"
             ],
             [
              0.8888888888888888,
              "#fdca26"
             ],
             [
              1,
              "#f0f921"
             ]
            ],
            "type": "heatmapgl"
           }
          ],
          "histogram": [
           {
            "marker": {
             "pattern": {
              "fillmode": "overlay",
              "size": 10,
              "solidity": 0.2
             }
            },
            "type": "histogram"
           }
          ],
          "histogram2d": [
           {
            "colorbar": {
             "outlinewidth": 0,
             "ticks": ""
            },
            "colorscale": [
             [
              0,
              "#0d0887"
             ],
             [
              0.1111111111111111,
              "#46039f"
             ],
             [
              0.2222222222222222,
              "#7201a8"
             ],
             [
              0.3333333333333333,
              "#9c179e"
             ],
             [
              0.4444444444444444,
              "#bd3786"
             ],
             [
              0.5555555555555556,
              "#d8576b"
             ],
             [
              0.6666666666666666,
              "#ed7953"
             ],
             [
              0.7777777777777778,
              "#fb9f3a"
             ],
             [
              0.8888888888888888,
              "#fdca26"
             ],
             [
              1,
              "#f0f921"
             ]
            ],
            "type": "histogram2d"
           }
          ],
          "histogram2dcontour": [
           {
            "colorbar": {
             "outlinewidth": 0,
             "ticks": ""
            },
            "colorscale": [
             [
              0,
              "#0d0887"
             ],
             [
              0.1111111111111111,
              "#46039f"
             ],
             [
              0.2222222222222222,
              "#7201a8"
             ],
             [
              0.3333333333333333,
              "#9c179e"
             ],
             [
              0.4444444444444444,
              "#bd3786"
             ],
             [
              0.5555555555555556,
              "#d8576b"
             ],
             [
              0.6666666666666666,
              "#ed7953"
             ],
             [
              0.7777777777777778,
              "#fb9f3a"
             ],
             [
              0.8888888888888888,
              "#fdca26"
             ],
             [
              1,
              "#f0f921"
             ]
            ],
            "type": "histogram2dcontour"
           }
          ],
          "mesh3d": [
           {
            "colorbar": {
             "outlinewidth": 0,
             "ticks": ""
            },
            "type": "mesh3d"
           }
          ],
          "parcoords": [
           {
            "line": {
             "colorbar": {
              "outlinewidth": 0,
              "ticks": ""
             }
            },
            "type": "parcoords"
           }
          ],
          "pie": [
           {
            "automargin": true,
            "type": "pie"
           }
          ],
          "scatter": [
           {
            "fillpattern": {
             "fillmode": "overlay",
             "size": 10,
             "solidity": 0.2
            },
            "type": "scatter"
           }
          ],
          "scatter3d": [
           {
            "line": {
             "colorbar": {
              "outlinewidth": 0,
              "ticks": ""
             }
            },
            "marker": {
             "colorbar": {
              "outlinewidth": 0,
              "ticks": ""
             }
            },
            "type": "scatter3d"
           }
          ],
          "scattercarpet": [
           {
            "marker": {
             "colorbar": {
              "outlinewidth": 0,
              "ticks": ""
             }
            },
            "type": "scattercarpet"
           }
          ],
          "scattergeo": [
           {
            "marker": {
             "colorbar": {
              "outlinewidth": 0,
              "ticks": ""
             }
            },
            "type": "scattergeo"
           }
          ],
          "scattergl": [
           {
            "marker": {
             "colorbar": {
              "outlinewidth": 0,
              "ticks": ""
             }
            },
            "type": "scattergl"
           }
          ],
          "scattermapbox": [
           {
            "marker": {
             "colorbar": {
              "outlinewidth": 0,
              "ticks": ""
             }
            },
            "type": "scattermapbox"
           }
          ],
          "scatterpolar": [
           {
            "marker": {
             "colorbar": {
              "outlinewidth": 0,
              "ticks": ""
             }
            },
            "type": "scatterpolar"
           }
          ],
          "scatterpolargl": [
           {
            "marker": {
             "colorbar": {
              "outlinewidth": 0,
              "ticks": ""
             }
            },
            "type": "scatterpolargl"
           }
          ],
          "scatterternary": [
           {
            "marker": {
             "colorbar": {
              "outlinewidth": 0,
              "ticks": ""
             }
            },
            "type": "scatterternary"
           }
          ],
          "surface": [
           {
            "colorbar": {
             "outlinewidth": 0,
             "ticks": ""
            },
            "colorscale": [
             [
              0,
              "#0d0887"
             ],
             [
              0.1111111111111111,
              "#46039f"
             ],
             [
              0.2222222222222222,
              "#7201a8"
             ],
             [
              0.3333333333333333,
              "#9c179e"
             ],
             [
              0.4444444444444444,
              "#bd3786"
             ],
             [
              0.5555555555555556,
              "#d8576b"
             ],
             [
              0.6666666666666666,
              "#ed7953"
             ],
             [
              0.7777777777777778,
              "#fb9f3a"
             ],
             [
              0.8888888888888888,
              "#fdca26"
             ],
             [
              1,
              "#f0f921"
             ]
            ],
            "type": "surface"
           }
          ],
          "table": [
           {
            "cells": {
             "fill": {
              "color": "#EBF0F8"
             },
             "line": {
              "color": "white"
             }
            },
            "header": {
             "fill": {
              "color": "#C8D4E3"
             },
             "line": {
              "color": "white"
             }
            },
            "type": "table"
           }
          ]
         },
         "layout": {
          "annotationdefaults": {
           "arrowcolor": "#2a3f5f",
           "arrowhead": 0,
           "arrowwidth": 1
          },
          "autotypenumbers": "strict",
          "coloraxis": {
           "colorbar": {
            "outlinewidth": 0,
            "ticks": ""
           }
          },
          "colorscale": {
           "diverging": [
            [
             0,
             "#8e0152"
            ],
            [
             0.1,
             "#c51b7d"
            ],
            [
             0.2,
             "#de77ae"
            ],
            [
             0.3,
             "#f1b6da"
            ],
            [
             0.4,
             "#fde0ef"
            ],
            [
             0.5,
             "#f7f7f7"
            ],
            [
             0.6,
             "#e6f5d0"
            ],
            [
             0.7,
             "#b8e186"
            ],
            [
             0.8,
             "#7fbc41"
            ],
            [
             0.9,
             "#4d9221"
            ],
            [
             1,
             "#276419"
            ]
           ],
           "sequential": [
            [
             0,
             "#0d0887"
            ],
            [
             0.1111111111111111,
             "#46039f"
            ],
            [
             0.2222222222222222,
             "#7201a8"
            ],
            [
             0.3333333333333333,
             "#9c179e"
            ],
            [
             0.4444444444444444,
             "#bd3786"
            ],
            [
             0.5555555555555556,
             "#d8576b"
            ],
            [
             0.6666666666666666,
             "#ed7953"
            ],
            [
             0.7777777777777778,
             "#fb9f3a"
            ],
            [
             0.8888888888888888,
             "#fdca26"
            ],
            [
             1,
             "#f0f921"
            ]
           ],
           "sequentialminus": [
            [
             0,
             "#0d0887"
            ],
            [
             0.1111111111111111,
             "#46039f"
            ],
            [
             0.2222222222222222,
             "#7201a8"
            ],
            [
             0.3333333333333333,
             "#9c179e"
            ],
            [
             0.4444444444444444,
             "#bd3786"
            ],
            [
             0.5555555555555556,
             "#d8576b"
            ],
            [
             0.6666666666666666,
             "#ed7953"
            ],
            [
             0.7777777777777778,
             "#fb9f3a"
            ],
            [
             0.8888888888888888,
             "#fdca26"
            ],
            [
             1,
             "#f0f921"
            ]
           ]
          },
          "colorway": [
           "#636efa",
           "#EF553B",
           "#00cc96",
           "#ab63fa",
           "#FFA15A",
           "#19d3f3",
           "#FF6692",
           "#B6E880",
           "#FF97FF",
           "#FECB52"
          ],
          "font": {
           "color": "#2a3f5f"
          },
          "geo": {
           "bgcolor": "white",
           "lakecolor": "white",
           "landcolor": "#E5ECF6",
           "showlakes": true,
           "showland": true,
           "subunitcolor": "white"
          },
          "hoverlabel": {
           "align": "left"
          },
          "hovermode": "closest",
          "mapbox": {
           "style": "light"
          },
          "paper_bgcolor": "white",
          "plot_bgcolor": "#E5ECF6",
          "polar": {
           "angularaxis": {
            "gridcolor": "white",
            "linecolor": "white",
            "ticks": ""
           },
           "bgcolor": "#E5ECF6",
           "radialaxis": {
            "gridcolor": "white",
            "linecolor": "white",
            "ticks": ""
           }
          },
          "scene": {
           "xaxis": {
            "backgroundcolor": "#E5ECF6",
            "gridcolor": "white",
            "gridwidth": 2,
            "linecolor": "white",
            "showbackground": true,
            "ticks": "",
            "zerolinecolor": "white"
           },
           "yaxis": {
            "backgroundcolor": "#E5ECF6",
            "gridcolor": "white",
            "gridwidth": 2,
            "linecolor": "white",
            "showbackground": true,
            "ticks": "",
            "zerolinecolor": "white"
           },
           "zaxis": {
            "backgroundcolor": "#E5ECF6",
            "gridcolor": "white",
            "gridwidth": 2,
            "linecolor": "white",
            "showbackground": true,
            "ticks": "",
            "zerolinecolor": "white"
           }
          },
          "shapedefaults": {
           "line": {
            "color": "#2a3f5f"
           }
          },
          "ternary": {
           "aaxis": {
            "gridcolor": "white",
            "linecolor": "white",
            "ticks": ""
           },
           "baxis": {
            "gridcolor": "white",
            "linecolor": "white",
            "ticks": ""
           },
           "bgcolor": "#E5ECF6",
           "caxis": {
            "gridcolor": "white",
            "linecolor": "white",
            "ticks": ""
           }
          },
          "title": {
           "x": 0.05
          },
          "xaxis": {
           "automargin": true,
           "gridcolor": "white",
           "linecolor": "white",
           "ticks": "",
           "title": {
            "standoff": 15
           },
           "zerolinecolor": "white",
           "zerolinewidth": 2
          },
          "yaxis": {
           "automargin": true,
           "gridcolor": "white",
           "linecolor": "white",
           "ticks": "",
           "title": {
            "standoff": 15
           },
           "zerolinecolor": "white",
           "zerolinewidth": 2
          }
         }
        },
        "title": {
         "text": "Label: Snorlax"
        },
        "width": 500,
        "xaxis": {
         "anchor": "y",
         "domain": [
          0,
          1
         ],
         "showgrid": false,
         "showticklabels": false,
         "visible": false,
         "zeroline": false
        },
        "yaxis": {
         "anchor": "x",
         "domain": [
          0,
          1
         ],
         "showgrid": false,
         "showticklabels": false,
         "visible": false,
         "zeroline": false
        }
       }
      }
     },
     "metadata": {},
     "output_type": "display_data"
    },
    {
     "data": {
      "application/vnd.plotly.v1+json": {
       "config": {
        "plotlyServerURL": "https://plot.ly"
       },
       "data": [
        {
         "hovertemplate": "x: %{x}<br>y: %{y}<br>color: [%{z[0]}, %{z[1]}, %{z[2]}]<extra></extra>",
         "name": "0",
         "source": "data:image/png;base64,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",
         "type": "image",
         "xaxis": "x",
         "yaxis": "y"
        }
       ],
       "layout": {
        "height": 350,
        "margin": {
         "l": 0,
         "t": 60
        },
        "shapes": [
         {
          "line": {
           "color": "black",
           "width": 2
          },
          "type": "rect",
          "x0": 0,
          "x1": 128,
          "xref": "x",
          "y0": 0,
          "y1": 128,
          "yref": "y"
         }
        ],
        "template": {
         "data": {
          "bar": [
           {
            "error_x": {
             "color": "#2a3f5f"
            },
            "error_y": {
             "color": "#2a3f5f"
            },
            "marker": {
             "line": {
              "color": "#E5ECF6",
              "width": 0.5
             },
             "pattern": {
              "fillmode": "overlay",
              "size": 10,
              "solidity": 0.2
             }
            },
            "type": "bar"
           }
          ],
          "barpolar": [
           {
            "marker": {
             "line": {
              "color": "#E5ECF6",
              "width": 0.5
             },
             "pattern": {
              "fillmode": "overlay",
              "size": 10,
              "solidity": 0.2
             }
            },
            "type": "barpolar"
           }
          ],
          "carpet": [
           {
            "aaxis": {
             "endlinecolor": "#2a3f5f",
             "gridcolor": "white",
             "linecolor": "white",
             "minorgridcolor": "white",
             "startlinecolor": "#2a3f5f"
            },
            "baxis": {
             "endlinecolor": "#2a3f5f",
             "gridcolor": "white",
             "linecolor": "white",
             "minorgridcolor": "white",
             "startlinecolor": "#2a3f5f"
            },
            "type": "carpet"
           }
          ],
          "choropleth": [
           {
            "colorbar": {
             "outlinewidth": 0,
             "ticks": ""
            },
            "type": "choropleth"
           }
          ],
          "contour": [
           {
            "colorbar": {
             "outlinewidth": 0,
             "ticks": ""
            },
            "colorscale": [
             [
              0,
              "#0d0887"
             ],
             [
              0.1111111111111111,
              "#46039f"
             ],
             [
              0.2222222222222222,
              "#7201a8"
             ],
             [
              0.3333333333333333,
              "#9c179e"
             ],
             [
              0.4444444444444444,
              "#bd3786"
             ],
             [
              0.5555555555555556,
              "#d8576b"
             ],
             [
              0.6666666666666666,
              "#ed7953"
             ],
             [
              0.7777777777777778,
              "#fb9f3a"
             ],
             [
              0.8888888888888888,
              "#fdca26"
             ],
             [
              1,
              "#f0f921"
             ]
            ],
            "type": "contour"
           }
          ],
          "contourcarpet": [
           {
            "colorbar": {
             "outlinewidth": 0,
             "ticks": ""
            },
            "type": "contourcarpet"
           }
          ],
          "heatmap": [
           {
            "colorbar": {
             "outlinewidth": 0,
             "ticks": ""
            },
            "colorscale": [
             [
              0,
              "#0d0887"
             ],
             [
              0.1111111111111111,
              "#46039f"
             ],
             [
              0.2222222222222222,
              "#7201a8"
             ],
             [
              0.3333333333333333,
              "#9c179e"
             ],
             [
              0.4444444444444444,
              "#bd3786"
             ],
             [
              0.5555555555555556,
              "#d8576b"
             ],
             [
              0.6666666666666666,
              "#ed7953"
             ],
             [
              0.7777777777777778,
              "#fb9f3a"
             ],
             [
              0.8888888888888888,
              "#fdca26"
             ],
             [
              1,
              "#f0f921"
             ]
            ],
            "type": "heatmap"
           }
          ],
          "heatmapgl": [
           {
            "colorbar": {
             "outlinewidth": 0,
             "ticks": ""
            },
            "colorscale": [
             [
              0,
              "#0d0887"
             ],
             [
              0.1111111111111111,
              "#46039f"
             ],
             [
              0.2222222222222222,
              "#7201a8"
             ],
             [
              0.3333333333333333,
              "#9c179e"
             ],
             [
              0.4444444444444444,
              "#bd3786"
             ],
             [
              0.5555555555555556,
              "#d8576b"
             ],
             [
              0.6666666666666666,
              "#ed7953"
             ],
             [
              0.7777777777777778,
              "#fb9f3a"
             ],
             [
              0.8888888888888888,
              "#fdca26"
             ],
             [
              1,
              "#f0f921"
             ]
            ],
            "type": "heatmapgl"
           }
          ],
          "histogram": [
           {
            "marker": {
             "pattern": {
              "fillmode": "overlay",
              "size": 10,
              "solidity": 0.2
             }
            },
            "type": "histogram"
           }
          ],
          "histogram2d": [
           {
            "colorbar": {
             "outlinewidth": 0,
             "ticks": ""
            },
            "colorscale": [
             [
              0,
              "#0d0887"
             ],
             [
              0.1111111111111111,
              "#46039f"
             ],
             [
              0.2222222222222222,
              "#7201a8"
             ],
             [
              0.3333333333333333,
              "#9c179e"
             ],
             [
              0.4444444444444444,
              "#bd3786"
             ],
             [
              0.5555555555555556,
              "#d8576b"
             ],
             [
              0.6666666666666666,
              "#ed7953"
             ],
             [
              0.7777777777777778,
              "#fb9f3a"
             ],
             [
              0.8888888888888888,
              "#fdca26"
             ],
             [
              1,
              "#f0f921"
             ]
            ],
            "type": "histogram2d"
           }
          ],
          "histogram2dcontour": [
           {
            "colorbar": {
             "outlinewidth": 0,
             "ticks": ""
            },
            "colorscale": [
             [
              0,
              "#0d0887"
             ],
             [
              0.1111111111111111,
              "#46039f"
             ],
             [
              0.2222222222222222,
              "#7201a8"
             ],
             [
              0.3333333333333333,
              "#9c179e"
             ],
             [
              0.4444444444444444,
              "#bd3786"
             ],
             [
              0.5555555555555556,
              "#d8576b"
             ],
             [
              0.6666666666666666,
              "#ed7953"
             ],
             [
              0.7777777777777778,
              "#fb9f3a"
             ],
             [
              0.8888888888888888,
              "#fdca26"
             ],
             [
              1,
              "#f0f921"
             ]
            ],
            "type": "histogram2dcontour"
           }
          ],
          "mesh3d": [
           {
            "colorbar": {
             "outlinewidth": 0,
             "ticks": ""
            },
            "type": "mesh3d"
           }
          ],
          "parcoords": [
           {
            "line": {
             "colorbar": {
              "outlinewidth": 0,
              "ticks": ""
             }
            },
            "type": "parcoords"
           }
          ],
          "pie": [
           {
            "automargin": true,
            "type": "pie"
           }
          ],
          "scatter": [
           {
            "fillpattern": {
             "fillmode": "overlay",
             "size": 10,
             "solidity": 0.2
            },
            "type": "scatter"
           }
          ],
          "scatter3d": [
           {
            "line": {
             "colorbar": {
              "outlinewidth": 0,
              "ticks": ""
             }
            },
            "marker": {
             "colorbar": {
              "outlinewidth": 0,
              "ticks": ""
             }
            },
            "type": "scatter3d"
           }
          ],
          "scattercarpet": [
           {
            "marker": {
             "colorbar": {
              "outlinewidth": 0,
              "ticks": ""
             }
            },
            "type": "scattercarpet"
           }
          ],
          "scattergeo": [
           {
            "marker": {
             "colorbar": {
              "outlinewidth": 0,
              "ticks": ""
             }
            },
            "type": "scattergeo"
           }
          ],
          "scattergl": [
           {
            "marker": {
             "colorbar": {
              "outlinewidth": 0,
              "ticks": ""
             }
            },
            "type": "scattergl"
           }
          ],
          "scattermapbox": [
           {
            "marker": {
             "colorbar": {
              "outlinewidth": 0,
              "ticks": ""
             }
            },
            "type": "scattermapbox"
           }
          ],
          "scatterpolar": [
           {
            "marker": {
             "colorbar": {
              "outlinewidth": 0,
              "ticks": ""
             }
            },
            "type": "scatterpolar"
           }
          ],
          "scatterpolargl": [
           {
            "marker": {
             "colorbar": {
              "outlinewidth": 0,
              "ticks": ""
             }
            },
            "type": "scatterpolargl"
           }
          ],
          "scatterternary": [
           {
            "marker": {
             "colorbar": {
              "outlinewidth": 0,
              "ticks": ""
             }
            },
            "type": "scatterternary"
           }
          ],
          "surface": [
           {
            "colorbar": {
             "outlinewidth": 0,
             "ticks": ""
            },
            "colorscale": [
             [
              0,
              "#0d0887"
             ],
             [
              0.1111111111111111,
              "#46039f"
             ],
             [
              0.2222222222222222,
              "#7201a8"
             ],
             [
              0.3333333333333333,
              "#9c179e"
             ],
             [
              0.4444444444444444,
              "#bd3786"
             ],
             [
              0.5555555555555556,
              "#d8576b"
             ],
             [
              0.6666666666666666,
              "#ed7953"
             ],
             [
              0.7777777777777778,
              "#fb9f3a"
             ],
             [
              0.8888888888888888,
              "#fdca26"
             ],
             [
              1,
              "#f0f921"
             ]
            ],
            "type": "surface"
           }
          ],
          "table": [
           {
            "cells": {
             "fill": {
              "color": "#EBF0F8"
             },
             "line": {
              "color": "white"
             }
            },
            "header": {
             "fill": {
              "color": "#C8D4E3"
             },
             "line": {
              "color": "white"
             }
            },
            "type": "table"
           }
          ]
         },
         "layout": {
          "annotationdefaults": {
           "arrowcolor": "#2a3f5f",
           "arrowhead": 0,
           "arrowwidth": 1
          },
          "autotypenumbers": "strict",
          "coloraxis": {
           "colorbar": {
            "outlinewidth": 0,
            "ticks": ""
           }
          },
          "colorscale": {
           "diverging": [
            [
             0,
             "#8e0152"
            ],
            [
             0.1,
             "#c51b7d"
            ],
            [
             0.2,
             "#de77ae"
            ],
            [
             0.3,
             "#f1b6da"
            ],
            [
             0.4,
             "#fde0ef"
            ],
            [
             0.5,
             "#f7f7f7"
            ],
            [
             0.6,
             "#e6f5d0"
            ],
            [
             0.7,
             "#b8e186"
            ],
            [
             0.8,
             "#7fbc41"
            ],
            [
             0.9,
             "#4d9221"
            ],
            [
             1,
             "#276419"
            ]
           ],
           "sequential": [
            [
             0,
             "#0d0887"
            ],
            [
             0.1111111111111111,
             "#46039f"
            ],
            [
             0.2222222222222222,
             "#7201a8"
            ],
            [
             0.3333333333333333,
             "#9c179e"
            ],
            [
             0.4444444444444444,
             "#bd3786"
            ],
            [
             0.5555555555555556,
             "#d8576b"
            ],
            [
             0.6666666666666666,
             "#ed7953"
            ],
            [
             0.7777777777777778,
             "#fb9f3a"
            ],
            [
             0.8888888888888888,
             "#fdca26"
            ],
            [
             1,
             "#f0f921"
            ]
           ],
           "sequentialminus": [
            [
             0,
             "#0d0887"
            ],
            [
             0.1111111111111111,
             "#46039f"
            ],
            [
             0.2222222222222222,
             "#7201a8"
            ],
            [
             0.3333333333333333,
             "#9c179e"
            ],
            [
             0.4444444444444444,
             "#bd3786"
            ],
            [
             0.5555555555555556,
             "#d8576b"
            ],
            [
             0.6666666666666666,
             "#ed7953"
            ],
            [
             0.7777777777777778,
             "#fb9f3a"
            ],
            [
             0.8888888888888888,
             "#fdca26"
            ],
            [
             1,
             "#f0f921"
            ]
           ]
          },
          "colorway": [
           "#636efa",
           "#EF553B",
           "#00cc96",
           "#ab63fa",
           "#FFA15A",
           "#19d3f3",
           "#FF6692",
           "#B6E880",
           "#FF97FF",
           "#FECB52"
          ],
          "font": {
           "color": "#2a3f5f"
          },
          "geo": {
           "bgcolor": "white",
           "lakecolor": "white",
           "landcolor": "#E5ECF6",
           "showlakes": true,
           "showland": true,
           "subunitcolor": "white"
          },
          "hoverlabel": {
           "align": "left"
          },
          "hovermode": "closest",
          "mapbox": {
           "style": "light"
          },
          "paper_bgcolor": "white",
          "plot_bgcolor": "#E5ECF6",
          "polar": {
           "angularaxis": {
            "gridcolor": "white",
            "linecolor": "white",
            "ticks": ""
           },
           "bgcolor": "#E5ECF6",
           "radialaxis": {
            "gridcolor": "white",
            "linecolor": "white",
            "ticks": ""
           }
          },
          "scene": {
           "xaxis": {
            "backgroundcolor": "#E5ECF6",
            "gridcolor": "white",
            "gridwidth": 2,
            "linecolor": "white",
            "showbackground": true,
            "ticks": "",
            "zerolinecolor": "white"
           },
           "yaxis": {
            "backgroundcolor": "#E5ECF6",
            "gridcolor": "white",
            "gridwidth": 2,
            "linecolor": "white",
            "showbackground": true,
            "ticks": "",
            "zerolinecolor": "white"
           },
           "zaxis": {
            "backgroundcolor": "#E5ECF6",
            "gridcolor": "white",
            "gridwidth": 2,
            "linecolor": "white",
            "showbackground": true,
            "ticks": "",
            "zerolinecolor": "white"
           }
          },
          "shapedefaults": {
           "line": {
            "color": "#2a3f5f"
           }
          },
          "ternary": {
           "aaxis": {
            "gridcolor": "white",
            "linecolor": "white",
            "ticks": ""
           },
           "baxis": {
            "gridcolor": "white",
            "linecolor": "white",
            "ticks": ""
           },
           "bgcolor": "#E5ECF6",
           "caxis": {
            "gridcolor": "white",
            "linecolor": "white",
            "ticks": ""
           }
          },
          "title": {
           "x": 0.05
          },
          "xaxis": {
           "automargin": true,
           "gridcolor": "white",
           "linecolor": "white",
           "ticks": "",
           "title": {
            "standoff": 15
           },
           "zerolinecolor": "white",
           "zerolinewidth": 2
          },
          "yaxis": {
           "automargin": true,
           "gridcolor": "white",
           "linecolor": "white",
           "ticks": "",
           "title": {
            "standoff": 15
           },
           "zerolinecolor": "white",
           "zerolinewidth": 2
          }
         }
        },
        "title": {
         "text": "Label: Aggron"
        },
        "width": 500,
        "xaxis": {
         "anchor": "y",
         "domain": [
          0,
          1
         ],
         "showgrid": false,
         "showticklabels": false,
         "visible": false,
         "zeroline": false
        },
        "yaxis": {
         "anchor": "x",
         "domain": [
          0,
          1
         ],
         "showgrid": false,
         "showticklabels": false,
         "visible": false,
         "zeroline": false
        }
       }
      }
     },
     "metadata": {},
     "output_type": "display_data"
    },
    {
     "data": {
      "application/vnd.plotly.v1+json": {
       "config": {
        "plotlyServerURL": "https://plot.ly"
       },
       "data": [
        {
         "hovertemplate": "x: %{x}<br>y: %{y}<br>color: [%{z[0]}, %{z[1]}, %{z[2]}]<extra></extra>",
         "name": "0",
         "source": "data:image/png;base64,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",
         "type": "image",
         "xaxis": "x",
         "yaxis": "y"
        }
       ],
       "layout": {
        "height": 350,
        "margin": {
         "l": 0,
         "t": 60
        },
        "shapes": [
         {
          "line": {
           "color": "black",
           "width": 2
          },
          "type": "rect",
          "x0": 0,
          "x1": 128,
          "xref": "x",
          "y0": 0,
          "y1": 128,
          "yref": "y"
         }
        ],
        "template": {
         "data": {
          "bar": [
           {
            "error_x": {
             "color": "#2a3f5f"
            },
            "error_y": {
             "color": "#2a3f5f"
            },
            "marker": {
             "line": {
              "color": "#E5ECF6",
              "width": 0.5
             },
             "pattern": {
              "fillmode": "overlay",
              "size": 10,
              "solidity": 0.2
             }
            },
            "type": "bar"
           }
          ],
          "barpolar": [
           {
            "marker": {
             "line": {
              "color": "#E5ECF6",
              "width": 0.5
             },
             "pattern": {
              "fillmode": "overlay",
              "size": 10,
              "solidity": 0.2
             }
            },
            "type": "barpolar"
           }
          ],
          "carpet": [
           {
            "aaxis": {
             "endlinecolor": "#2a3f5f",
             "gridcolor": "white",
             "linecolor": "white",
             "minorgridcolor": "white",
             "startlinecolor": "#2a3f5f"
            },
            "baxis": {
             "endlinecolor": "#2a3f5f",
             "gridcolor": "white",
             "linecolor": "white",
             "minorgridcolor": "white",
             "startlinecolor": "#2a3f5f"
            },
            "type": "carpet"
           }
          ],
          "choropleth": [
           {
            "colorbar": {
             "outlinewidth": 0,
             "ticks": ""
            },
            "type": "choropleth"
           }
          ],
          "contour": [
           {
            "colorbar": {
             "outlinewidth": 0,
             "ticks": ""
            },
            "colorscale": [
             [
              0,
              "#0d0887"
             ],
             [
              0.1111111111111111,
              "#46039f"
             ],
             [
              0.2222222222222222,
              "#7201a8"
             ],
             [
              0.3333333333333333,
              "#9c179e"
             ],
             [
              0.4444444444444444,
              "#bd3786"
             ],
             [
              0.5555555555555556,
              "#d8576b"
             ],
             [
              0.6666666666666666,
              "#ed7953"
             ],
             [
              0.7777777777777778,
              "#fb9f3a"
             ],
             [
              0.8888888888888888,
              "#fdca26"
             ],
             [
              1,
              "#f0f921"
             ]
            ],
            "type": "contour"
           }
          ],
          "contourcarpet": [
           {
            "colorbar": {
             "outlinewidth": 0,
             "ticks": ""
            },
            "type": "contourcarpet"
           }
          ],
          "heatmap": [
           {
            "colorbar": {
             "outlinewidth": 0,
             "ticks": ""
            },
            "colorscale": [
             [
              0,
              "#0d0887"
             ],
             [
              0.1111111111111111,
              "#46039f"
             ],
             [
              0.2222222222222222,
              "#7201a8"
             ],
             [
              0.3333333333333333,
              "#9c179e"
             ],
             [
              0.4444444444444444,
              "#bd3786"
             ],
             [
              0.5555555555555556,
              "#d8576b"
             ],
             [
              0.6666666666666666,
              "#ed7953"
             ],
             [
              0.7777777777777778,
              "#fb9f3a"
             ],
             [
              0.8888888888888888,
              "#fdca26"
             ],
             [
              1,
              "#f0f921"
             ]
            ],
            "type": "heatmap"
           }
          ],
          "heatmapgl": [
           {
            "colorbar": {
             "outlinewidth": 0,
             "ticks": ""
            },
            "colorscale": [
             [
              0,
              "#0d0887"
             ],
             [
              0.1111111111111111,
              "#46039f"
             ],
             [
              0.2222222222222222,
              "#7201a8"
             ],
             [
              0.3333333333333333,
              "#9c179e"
             ],
             [
              0.4444444444444444,
              "#bd3786"
             ],
             [
              0.5555555555555556,
              "#d8576b"
             ],
             [
              0.6666666666666666,
              "#ed7953"
             ],
             [
              0.7777777777777778,
              "#fb9f3a"
             ],
             [
              0.8888888888888888,
              "#fdca26"
             ],
             [
              1,
              "#f0f921"
             ]
            ],
            "type": "heatmapgl"
           }
          ],
          "histogram": [
           {
            "marker": {
             "pattern": {
              "fillmode": "overlay",
              "size": 10,
              "solidity": 0.2
             }
            },
            "type": "histogram"
           }
          ],
          "histogram2d": [
           {
            "colorbar": {
             "outlinewidth": 0,
             "ticks": ""
            },
            "colorscale": [
             [
              0,
              "#0d0887"
             ],
             [
              0.1111111111111111,
              "#46039f"
             ],
             [
              0.2222222222222222,
              "#7201a8"
             ],
             [
              0.3333333333333333,
              "#9c179e"
             ],
             [
              0.4444444444444444,
              "#bd3786"
             ],
             [
              0.5555555555555556,
              "#d8576b"
             ],
             [
              0.6666666666666666,
              "#ed7953"
             ],
             [
              0.7777777777777778,
              "#fb9f3a"
             ],
             [
              0.8888888888888888,
              "#fdca26"
             ],
             [
              1,
              "#f0f921"
             ]
            ],
            "type": "histogram2d"
           }
          ],
          "histogram2dcontour": [
           {
            "colorbar": {
             "outlinewidth": 0,
             "ticks": ""
            },
            "colorscale": [
             [
              0,
              "#0d0887"
             ],
             [
              0.1111111111111111,
              "#46039f"
             ],
             [
              0.2222222222222222,
              "#7201a8"
             ],
             [
              0.3333333333333333,
              "#9c179e"
             ],
             [
              0.4444444444444444,
              "#bd3786"
             ],
             [
              0.5555555555555556,
              "#d8576b"
             ],
             [
              0.6666666666666666,
              "#ed7953"
             ],
             [
              0.7777777777777778,
              "#fb9f3a"
             ],
             [
              0.8888888888888888,
              "#fdca26"
             ],
             [
              1,
              "#f0f921"
             ]
            ],
            "type": "histogram2dcontour"
           }
          ],
          "mesh3d": [
           {
            "colorbar": {
             "outlinewidth": 0,
             "ticks": ""
            },
            "type": "mesh3d"
           }
          ],
          "parcoords": [
           {
            "line": {
             "colorbar": {
              "outlinewidth": 0,
              "ticks": ""
             }
            },
            "type": "parcoords"
           }
          ],
          "pie": [
           {
            "automargin": true,
            "type": "pie"
           }
          ],
          "scatter": [
           {
            "fillpattern": {
             "fillmode": "overlay",
             "size": 10,
             "solidity": 0.2
            },
            "type": "scatter"
           }
          ],
          "scatter3d": [
           {
            "line": {
             "colorbar": {
              "outlinewidth": 0,
              "ticks": ""
             }
            },
            "marker": {
             "colorbar": {
              "outlinewidth": 0,
              "ticks": ""
             }
            },
            "type": "scatter3d"
           }
          ],
          "scattercarpet": [
           {
            "marker": {
             "colorbar": {
              "outlinewidth": 0,
              "ticks": ""
             }
            },
            "type": "scattercarpet"
           }
          ],
          "scattergeo": [
           {
            "marker": {
             "colorbar": {
              "outlinewidth": 0,
              "ticks": ""
             }
            },
            "type": "scattergeo"
           }
          ],
          "scattergl": [
           {
            "marker": {
             "colorbar": {
              "outlinewidth": 0,
              "ticks": ""
             }
            },
            "type": "scattergl"
           }
          ],
          "scattermapbox": [
           {
            "marker": {
             "colorbar": {
              "outlinewidth": 0,
              "ticks": ""
             }
            },
            "type": "scattermapbox"
           }
          ],
          "scatterpolar": [
           {
            "marker": {
             "colorbar": {
              "outlinewidth": 0,
              "ticks": ""
             }
            },
            "type": "scatterpolar"
           }
          ],
          "scatterpolargl": [
           {
            "marker": {
             "colorbar": {
              "outlinewidth": 0,
              "ticks": ""
             }
            },
            "type": "scatterpolargl"
           }
          ],
          "scatterternary": [
           {
            "marker": {
             "colorbar": {
              "outlinewidth": 0,
              "ticks": ""
             }
            },
            "type": "scatterternary"
           }
          ],
          "surface": [
           {
            "colorbar": {
             "outlinewidth": 0,
             "ticks": ""
            },
            "colorscale": [
             [
              0,
              "#0d0887"
             ],
             [
              0.1111111111111111,
              "#46039f"
             ],
             [
              0.2222222222222222,
              "#7201a8"
             ],
             [
              0.3333333333333333,
              "#9c179e"
             ],
             [
              0.4444444444444444,
              "#bd3786"
             ],
             [
              0.5555555555555556,
              "#d8576b"
             ],
             [
              0.6666666666666666,
              "#ed7953"
             ],
             [
              0.7777777777777778,
              "#fb9f3a"
             ],
             [
              0.8888888888888888,
              "#fdca26"
             ],
             [
              1,
              "#f0f921"
             ]
            ],
            "type": "surface"
           }
          ],
          "table": [
           {
            "cells": {
             "fill": {
              "color": "#EBF0F8"
             },
             "line": {
              "color": "white"
             }
            },
            "header": {
             "fill": {
              "color": "#C8D4E3"
             },
             "line": {
              "color": "white"
             }
            },
            "type": "table"
           }
          ]
         },
         "layout": {
          "annotationdefaults": {
           "arrowcolor": "#2a3f5f",
           "arrowhead": 0,
           "arrowwidth": 1
          },
          "autotypenumbers": "strict",
          "coloraxis": {
           "colorbar": {
            "outlinewidth": 0,
            "ticks": ""
           }
          },
          "colorscale": {
           "diverging": [
            [
             0,
             "#8e0152"
            ],
            [
             0.1,
             "#c51b7d"
            ],
            [
             0.2,
             "#de77ae"
            ],
            [
             0.3,
             "#f1b6da"
            ],
            [
             0.4,
             "#fde0ef"
            ],
            [
             0.5,
             "#f7f7f7"
            ],
            [
             0.6,
             "#e6f5d0"
            ],
            [
             0.7,
             "#b8e186"
            ],
            [
             0.8,
             "#7fbc41"
            ],
            [
             0.9,
             "#4d9221"
            ],
            [
             1,
             "#276419"
            ]
           ],
           "sequential": [
            [
             0,
             "#0d0887"
            ],
            [
             0.1111111111111111,
             "#46039f"
            ],
            [
             0.2222222222222222,
             "#7201a8"
            ],
            [
             0.3333333333333333,
             "#9c179e"
            ],
            [
             0.4444444444444444,
             "#bd3786"
            ],
            [
             0.5555555555555556,
             "#d8576b"
            ],
            [
             0.6666666666666666,
             "#ed7953"
            ],
            [
             0.7777777777777778,
             "#fb9f3a"
            ],
            [
             0.8888888888888888,
             "#fdca26"
            ],
            [
             1,
             "#f0f921"
            ]
           ],
           "sequentialminus": [
            [
             0,
             "#0d0887"
            ],
            [
             0.1111111111111111,
             "#46039f"
            ],
            [
             0.2222222222222222,
             "#7201a8"
            ],
            [
             0.3333333333333333,
             "#9c179e"
            ],
            [
             0.4444444444444444,
             "#bd3786"
            ],
            [
             0.5555555555555556,
             "#d8576b"
            ],
            [
             0.6666666666666666,
             "#ed7953"
            ],
            [
             0.7777777777777778,
             "#fb9f3a"
            ],
            [
             0.8888888888888888,
             "#fdca26"
            ],
            [
             1,
             "#f0f921"
            ]
           ]
          },
          "colorway": [
           "#636efa",
           "#EF553B",
           "#00cc96",
           "#ab63fa",
           "#FFA15A",
           "#19d3f3",
           "#FF6692",
           "#B6E880",
           "#FF97FF",
           "#FECB52"
          ],
          "font": {
           "color": "#2a3f5f"
          },
          "geo": {
           "bgcolor": "white",
           "lakecolor": "white",
           "landcolor": "#E5ECF6",
           "showlakes": true,
           "showland": true,
           "subunitcolor": "white"
          },
          "hoverlabel": {
           "align": "left"
          },
          "hovermode": "closest",
          "mapbox": {
           "style": "light"
          },
          "paper_bgcolor": "white",
          "plot_bgcolor": "#E5ECF6",
          "polar": {
           "angularaxis": {
            "gridcolor": "white",
            "linecolor": "white",
            "ticks": ""
           },
           "bgcolor": "#E5ECF6",
           "radialaxis": {
            "gridcolor": "white",
            "linecolor": "white",
            "ticks": ""
           }
          },
          "scene": {
           "xaxis": {
            "backgroundcolor": "#E5ECF6",
            "gridcolor": "white",
            "gridwidth": 2,
            "linecolor": "white",
            "showbackground": true,
            "ticks": "",
            "zerolinecolor": "white"
           },
           "yaxis": {
            "backgroundcolor": "#E5ECF6",
            "gridcolor": "white",
            "gridwidth": 2,
            "linecolor": "white",
            "showbackground": true,
            "ticks": "",
            "zerolinecolor": "white"
           },
           "zaxis": {
            "backgroundcolor": "#E5ECF6",
            "gridcolor": "white",
            "gridwidth": 2,
            "linecolor": "white",
            "showbackground": true,
            "ticks": "",
            "zerolinecolor": "white"
           }
          },
          "shapedefaults": {
           "line": {
            "color": "#2a3f5f"
           }
          },
          "ternary": {
           "aaxis": {
            "gridcolor": "white",
            "linecolor": "white",
            "ticks": ""
           },
           "baxis": {
            "gridcolor": "white",
            "linecolor": "white",
            "ticks": ""
           },
           "bgcolor": "#E5ECF6",
           "caxis": {
            "gridcolor": "white",
            "linecolor": "white",
            "ticks": ""
           }
          },
          "title": {
           "x": 0.05
          },
          "xaxis": {
           "automargin": true,
           "gridcolor": "white",
           "linecolor": "white",
           "ticks": "",
           "title": {
            "standoff": 15
           },
           "zerolinecolor": "white",
           "zerolinewidth": 2
          },
          "yaxis": {
           "automargin": true,
           "gridcolor": "white",
           "linecolor": "white",
           "ticks": "",
           "title": {
            "standoff": 15
           },
           "zerolinecolor": "white",
           "zerolinewidth": 2
          }
         }
        },
        "title": {
         "text": "Label: Aggron"
        },
        "width": 500,
        "xaxis": {
         "anchor": "y",
         "domain": [
          0,
          1
         ],
         "showgrid": false,
         "showticklabels": false,
         "visible": false,
         "zeroline": false
        },
        "yaxis": {
         "anchor": "x",
         "domain": [
          0,
          1
         ],
         "showgrid": false,
         "showticklabels": false,
         "visible": false,
         "zeroline": false
        }
       }
      }
     },
     "metadata": {},
     "output_type": "display_data"
    },
    {
     "data": {
      "application/vnd.plotly.v1+json": {
       "config": {
        "plotlyServerURL": "https://plot.ly"
       },
       "data": [
        {
         "hovertemplate": "x: %{x}<br>y: %{y}<extra></extra>",
         "name": "0",
         "source": "data:image/png;base64,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",
         "type": "image",
         "xaxis": "x",
         "yaxis": "y"
        }
       ],
       "layout": {
        "height": 350,
        "margin": {
         "l": 0,
         "t": 60
        },
        "shapes": [
         {
          "line": {
           "color": "black",
           "width": 2
          },
          "type": "rect",
          "x0": 0,
          "x1": 128,
          "xref": "x",
          "y0": 0,
          "y1": 128,
          "yref": "y"
         }
        ],
        "template": {
         "data": {
          "bar": [
           {
            "error_x": {
             "color": "#2a3f5f"
            },
            "error_y": {
             "color": "#2a3f5f"
            },
            "marker": {
             "line": {
              "color": "#E5ECF6",
              "width": 0.5
             },
             "pattern": {
              "fillmode": "overlay",
              "size": 10,
              "solidity": 0.2
             }
            },
            "type": "bar"
           }
          ],
          "barpolar": [
           {
            "marker": {
             "line": {
              "color": "#E5ECF6",
              "width": 0.5
             },
             "pattern": {
              "fillmode": "overlay",
              "size": 10,
              "solidity": 0.2
             }
            },
            "type": "barpolar"
           }
          ],
          "carpet": [
           {
            "aaxis": {
             "endlinecolor": "#2a3f5f",
             "gridcolor": "white",
             "linecolor": "white",
             "minorgridcolor": "white",
             "startlinecolor": "#2a3f5f"
            },
            "baxis": {
             "endlinecolor": "#2a3f5f",
             "gridcolor": "white",
             "linecolor": "white",
             "minorgridcolor": "white",
             "startlinecolor": "#2a3f5f"
            },
            "type": "carpet"
           }
          ],
          "choropleth": [
           {
            "colorbar": {
             "outlinewidth": 0,
             "ticks": ""
            },
            "type": "choropleth"
           }
          ],
          "contour": [
           {
            "colorbar": {
             "outlinewidth": 0,
             "ticks": ""
            },
            "colorscale": [
             [
              0,
              "#0d0887"
             ],
             [
              0.1111111111111111,
              "#46039f"
             ],
             [
              0.2222222222222222,
              "#7201a8"
             ],
             [
              0.3333333333333333,
              "#9c179e"
             ],
             [
              0.4444444444444444,
              "#bd3786"
             ],
             [
              0.5555555555555556,
              "#d8576b"
             ],
             [
              0.6666666666666666,
              "#ed7953"
             ],
             [
              0.7777777777777778,
              "#fb9f3a"
             ],
             [
              0.8888888888888888,
              "#fdca26"
             ],
             [
              1,
              "#f0f921"
             ]
            ],
            "type": "contour"
           }
          ],
          "contourcarpet": [
           {
            "colorbar": {
             "outlinewidth": 0,
             "ticks": ""
            },
            "type": "contourcarpet"
           }
          ],
          "heatmap": [
           {
            "colorbar": {
             "outlinewidth": 0,
             "ticks": ""
            },
            "colorscale": [
             [
              0,
              "#0d0887"
             ],
             [
              0.1111111111111111,
              "#46039f"
             ],
             [
              0.2222222222222222,
              "#7201a8"
             ],
             [
              0.3333333333333333,
              "#9c179e"
             ],
             [
              0.4444444444444444,
              "#bd3786"
             ],
             [
              0.5555555555555556,
              "#d8576b"
             ],
             [
              0.6666666666666666,
              "#ed7953"
             ],
             [
              0.7777777777777778,
              "#fb9f3a"
             ],
             [
              0.8888888888888888,
              "#fdca26"
             ],
             [
              1,
              "#f0f921"
             ]
            ],
            "type": "heatmap"
           }
          ],
          "heatmapgl": [
           {
            "colorbar": {
             "outlinewidth": 0,
             "ticks": ""
            },
            "colorscale": [
             [
              0,
              "#0d0887"
             ],
             [
              0.1111111111111111,
              "#46039f"
             ],
             [
              0.2222222222222222,
              "#7201a8"
             ],
             [
              0.3333333333333333,
              "#9c179e"
             ],
             [
              0.4444444444444444,
              "#bd3786"
             ],
             [
              0.5555555555555556,
              "#d8576b"
             ],
             [
              0.6666666666666666,
              "#ed7953"
             ],
             [
              0.7777777777777778,
              "#fb9f3a"
             ],
             [
              0.8888888888888888,
              "#fdca26"
             ],
             [
              1,
              "#f0f921"
             ]
            ],
            "type": "heatmapgl"
           }
          ],
          "histogram": [
           {
            "marker": {
             "pattern": {
              "fillmode": "overlay",
              "size": 10,
              "solidity": 0.2
             }
            },
            "type": "histogram"
           }
          ],
          "histogram2d": [
           {
            "colorbar": {
             "outlinewidth": 0,
             "ticks": ""
            },
            "colorscale": [
             [
              0,
              "#0d0887"
             ],
             [
              0.1111111111111111,
              "#46039f"
             ],
             [
              0.2222222222222222,
              "#7201a8"
             ],
             [
              0.3333333333333333,
              "#9c179e"
             ],
             [
              0.4444444444444444,
              "#bd3786"
             ],
             [
              0.5555555555555556,
              "#d8576b"
             ],
             [
              0.6666666666666666,
              "#ed7953"
             ],
             [
              0.7777777777777778,
              "#fb9f3a"
             ],
             [
              0.8888888888888888,
              "#fdca26"
             ],
             [
              1,
              "#f0f921"
             ]
            ],
            "type": "histogram2d"
           }
          ],
          "histogram2dcontour": [
           {
            "colorbar": {
             "outlinewidth": 0,
             "ticks": ""
            },
            "colorscale": [
             [
              0,
              "#0d0887"
             ],
             [
              0.1111111111111111,
              "#46039f"
             ],
             [
              0.2222222222222222,
              "#7201a8"
             ],
             [
              0.3333333333333333,
              "#9c179e"
             ],
             [
              0.4444444444444444,
              "#bd3786"
             ],
             [
              0.5555555555555556,
              "#d8576b"
             ],
             [
              0.6666666666666666,
              "#ed7953"
             ],
             [
              0.7777777777777778,
              "#fb9f3a"
             ],
             [
              0.8888888888888888,
              "#fdca26"
             ],
             [
              1,
              "#f0f921"
             ]
            ],
            "type": "histogram2dcontour"
           }
          ],
          "mesh3d": [
           {
            "colorbar": {
             "outlinewidth": 0,
             "ticks": ""
            },
            "type": "mesh3d"
           }
          ],
          "parcoords": [
           {
            "line": {
             "colorbar": {
              "outlinewidth": 0,
              "ticks": ""
             }
            },
            "type": "parcoords"
           }
          ],
          "pie": [
           {
            "automargin": true,
            "type": "pie"
           }
          ],
          "scatter": [
           {
            "fillpattern": {
             "fillmode": "overlay",
             "size": 10,
             "solidity": 0.2
            },
            "type": "scatter"
           }
          ],
          "scatter3d": [
           {
            "line": {
             "colorbar": {
              "outlinewidth": 0,
              "ticks": ""
             }
            },
            "marker": {
             "colorbar": {
              "outlinewidth": 0,
              "ticks": ""
             }
            },
            "type": "scatter3d"
           }
          ],
          "scattercarpet": [
           {
            "marker": {
             "colorbar": {
              "outlinewidth": 0,
              "ticks": ""
             }
            },
            "type": "scattercarpet"
           }
          ],
          "scattergeo": [
           {
            "marker": {
             "colorbar": {
              "outlinewidth": 0,
              "ticks": ""
             }
            },
            "type": "scattergeo"
           }
          ],
          "scattergl": [
           {
            "marker": {
             "colorbar": {
              "outlinewidth": 0,
              "ticks": ""
             }
            },
            "type": "scattergl"
           }
          ],
          "scattermapbox": [
           {
            "marker": {
             "colorbar": {
              "outlinewidth": 0,
              "ticks": ""
             }
            },
            "type": "scattermapbox"
           }
          ],
          "scatterpolar": [
           {
            "marker": {
             "colorbar": {
              "outlinewidth": 0,
              "ticks": ""
             }
            },
            "type": "scatterpolar"
           }
          ],
          "scatterpolargl": [
           {
            "marker": {
             "colorbar": {
              "outlinewidth": 0,
              "ticks": ""
             }
            },
            "type": "scatterpolargl"
           }
          ],
          "scatterternary": [
           {
            "marker": {
             "colorbar": {
              "outlinewidth": 0,
              "ticks": ""
             }
            },
            "type": "scatterternary"
           }
          ],
          "surface": [
           {
            "colorbar": {
             "outlinewidth": 0,
             "ticks": ""
            },
            "colorscale": [
             [
              0,
              "#0d0887"
             ],
             [
              0.1111111111111111,
              "#46039f"
             ],
             [
              0.2222222222222222,
              "#7201a8"
             ],
             [
              0.3333333333333333,
              "#9c179e"
             ],
             [
              0.4444444444444444,
              "#bd3786"
             ],
             [
              0.5555555555555556,
              "#d8576b"
             ],
             [
              0.6666666666666666,
              "#ed7953"
             ],
             [
              0.7777777777777778,
              "#fb9f3a"
             ],
             [
              0.8888888888888888,
              "#fdca26"
             ],
             [
              1,
              "#f0f921"
             ]
            ],
            "type": "surface"
           }
          ],
          "table": [
           {
            "cells": {
             "fill": {
              "color": "#EBF0F8"
             },
             "line": {
              "color": "white"
             }
            },
            "header": {
             "fill": {
              "color": "#C8D4E3"
             },
             "line": {
              "color": "white"
             }
            },
            "type": "table"
           }
          ]
         },
         "layout": {
          "annotationdefaults": {
           "arrowcolor": "#2a3f5f",
           "arrowhead": 0,
           "arrowwidth": 1
          },
          "autotypenumbers": "strict",
          "coloraxis": {
           "colorbar": {
            "outlinewidth": 0,
            "ticks": ""
           }
          },
          "colorscale": {
           "diverging": [
            [
             0,
             "#8e0152"
            ],
            [
             0.1,
             "#c51b7d"
            ],
            [
             0.2,
             "#de77ae"
            ],
            [
             0.3,
             "#f1b6da"
            ],
            [
             0.4,
             "#fde0ef"
            ],
            [
             0.5,
             "#f7f7f7"
            ],
            [
             0.6,
             "#e6f5d0"
            ],
            [
             0.7,
             "#b8e186"
            ],
            [
             0.8,
             "#7fbc41"
            ],
            [
             0.9,
             "#4d9221"
            ],
            [
             1,
             "#276419"
            ]
           ],
           "sequential": [
            [
             0,
             "#0d0887"
            ],
            [
             0.1111111111111111,
             "#46039f"
            ],
            [
             0.2222222222222222,
             "#7201a8"
            ],
            [
             0.3333333333333333,
             "#9c179e"
            ],
            [
             0.4444444444444444,
             "#bd3786"
            ],
            [
             0.5555555555555556,
             "#d8576b"
            ],
            [
             0.6666666666666666,
             "#ed7953"
            ],
            [
             0.7777777777777778,
             "#fb9f3a"
            ],
            [
             0.8888888888888888,
             "#fdca26"
            ],
            [
             1,
             "#f0f921"
            ]
           ],
           "sequentialminus": [
            [
             0,
             "#0d0887"
            ],
            [
             0.1111111111111111,
             "#46039f"
            ],
            [
             0.2222222222222222,
             "#7201a8"
            ],
            [
             0.3333333333333333,
             "#9c179e"
            ],
            [
             0.4444444444444444,
             "#bd3786"
            ],
            [
             0.5555555555555556,
             "#d8576b"
            ],
            [
             0.6666666666666666,
             "#ed7953"
            ],
            [
             0.7777777777777778,
             "#fb9f3a"
            ],
            [
             0.8888888888888888,
             "#fdca26"
            ],
            [
             1,
             "#f0f921"
            ]
           ]
          },
          "colorway": [
           "#636efa",
           "#EF553B",
           "#00cc96",
           "#ab63fa",
           "#FFA15A",
           "#19d3f3",
           "#FF6692",
           "#B6E880",
           "#FF97FF",
           "#FECB52"
          ],
          "font": {
           "color": "#2a3f5f"
          },
          "geo": {
           "bgcolor": "white",
           "lakecolor": "white",
           "landcolor": "#E5ECF6",
           "showlakes": true,
           "showland": true,
           "subunitcolor": "white"
          },
          "hoverlabel": {
           "align": "left"
          },
          "hovermode": "closest",
          "mapbox": {
           "style": "light"
          },
          "paper_bgcolor": "white",
          "plot_bgcolor": "#E5ECF6",
          "polar": {
           "angularaxis": {
            "gridcolor": "white",
            "linecolor": "white",
            "ticks": ""
           },
           "bgcolor": "#E5ECF6",
           "radialaxis": {
            "gridcolor": "white",
            "linecolor": "white",
            "ticks": ""
           }
          },
          "scene": {
           "xaxis": {
            "backgroundcolor": "#E5ECF6",
            "gridcolor": "white",
            "gridwidth": 2,
            "linecolor": "white",
            "showbackground": true,
            "ticks": "",
            "zerolinecolor": "white"
           },
           "yaxis": {
            "backgroundcolor": "#E5ECF6",
            "gridcolor": "white",
            "gridwidth": 2,
            "linecolor": "white",
            "showbackground": true,
            "ticks": "",
            "zerolinecolor": "white"
           },
           "zaxis": {
            "backgroundcolor": "#E5ECF6",
            "gridcolor": "white",
            "gridwidth": 2,
            "linecolor": "white",
            "showbackground": true,
            "ticks": "",
            "zerolinecolor": "white"
           }
          },
          "shapedefaults": {
           "line": {
            "color": "#2a3f5f"
           }
          },
          "ternary": {
           "aaxis": {
            "gridcolor": "white",
            "linecolor": "white",
            "ticks": ""
           },
           "baxis": {
            "gridcolor": "white",
            "linecolor": "white",
            "ticks": ""
           },
           "bgcolor": "#E5ECF6",
           "caxis": {
            "gridcolor": "white",
            "linecolor": "white",
            "ticks": ""
           }
          },
          "title": {
           "x": 0.05
          },
          "xaxis": {
           "automargin": true,
           "gridcolor": "white",
           "linecolor": "white",
           "ticks": "",
           "title": {
            "standoff": 15
           },
           "zerolinecolor": "white",
           "zerolinewidth": 2
          },
          "yaxis": {
           "automargin": true,
           "gridcolor": "white",
           "linecolor": "white",
           "ticks": "",
           "title": {
            "standoff": 15
           },
           "zerolinecolor": "white",
           "zerolinewidth": 2
          }
         }
        },
        "title": {
         "text": "Label: Geodude"
        },
        "width": 500,
        "xaxis": {
         "anchor": "y",
         "domain": [
          0,
          1
         ],
         "showgrid": false,
         "showticklabels": false,
         "visible": false,
         "zeroline": false
        },
        "yaxis": {
         "anchor": "x",
         "domain": [
          0,
          1
         ],
         "showgrid": false,
         "showticklabels": false,
         "visible": false,
         "zeroline": false
        }
       }
      }
     },
     "metadata": {},
     "output_type": "display_data"
    },
    {
     "data": {
      "application/vnd.plotly.v1+json": {
       "config": {
        "plotlyServerURL": "https://plot.ly"
       },
       "data": [
        {
         "hovertemplate": "x: %{x}<br>y: %{y}<extra></extra>",
         "name": "0",
         "source": "data:image/png;base64,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",
         "type": "image",
         "xaxis": "x",
         "yaxis": "y"
        }
       ],
       "layout": {
        "height": 350,
        "margin": {
         "l": 0,
         "t": 60
        },
        "shapes": [
         {
          "line": {
           "color": "black",
           "width": 2
          },
          "type": "rect",
          "x0": 0,
          "x1": 128,
          "xref": "x",
          "y0": 0,
          "y1": 128,
          "yref": "y"
         }
        ],
        "template": {
         "data": {
          "bar": [
           {
            "error_x": {
             "color": "#2a3f5f"
            },
            "error_y": {
             "color": "#2a3f5f"
            },
            "marker": {
             "line": {
              "color": "#E5ECF6",
              "width": 0.5
             },
             "pattern": {
              "fillmode": "overlay",
              "size": 10,
              "solidity": 0.2
             }
            },
            "type": "bar"
           }
          ],
          "barpolar": [
           {
            "marker": {
             "line": {
              "color": "#E5ECF6",
              "width": 0.5
             },
             "pattern": {
              "fillmode": "overlay",
              "size": 10,
              "solidity": 0.2
             }
            },
            "type": "barpolar"
           }
          ],
          "carpet": [
           {
            "aaxis": {
             "endlinecolor": "#2a3f5f",
             "gridcolor": "white",
             "linecolor": "white",
             "minorgridcolor": "white",
             "startlinecolor": "#2a3f5f"
            },
            "baxis": {
             "endlinecolor": "#2a3f5f",
             "gridcolor": "white",
             "linecolor": "white",
             "minorgridcolor": "white",
             "startlinecolor": "#2a3f5f"
            },
            "type": "carpet"
           }
          ],
          "choropleth": [
           {
            "colorbar": {
             "outlinewidth": 0,
             "ticks": ""
            },
            "type": "choropleth"
           }
          ],
          "contour": [
           {
            "colorbar": {
             "outlinewidth": 0,
             "ticks": ""
            },
            "colorscale": [
             [
              0,
              "#0d0887"
             ],
             [
              0.1111111111111111,
              "#46039f"
             ],
             [
              0.2222222222222222,
              "#7201a8"
             ],
             [
              0.3333333333333333,
              "#9c179e"
             ],
             [
              0.4444444444444444,
              "#bd3786"
             ],
             [
              0.5555555555555556,
              "#d8576b"
             ],
             [
              0.6666666666666666,
              "#ed7953"
             ],
             [
              0.7777777777777778,
              "#fb9f3a"
             ],
             [
              0.8888888888888888,
              "#fdca26"
             ],
             [
              1,
              "#f0f921"
             ]
            ],
            "type": "contour"
           }
          ],
          "contourcarpet": [
           {
            "colorbar": {
             "outlinewidth": 0,
             "ticks": ""
            },
            "type": "contourcarpet"
           }
          ],
          "heatmap": [
           {
            "colorbar": {
             "outlinewidth": 0,
             "ticks": ""
            },
            "colorscale": [
             [
              0,
              "#0d0887"
             ],
             [
              0.1111111111111111,
              "#46039f"
             ],
             [
              0.2222222222222222,
              "#7201a8"
             ],
             [
              0.3333333333333333,
              "#9c179e"
             ],
             [
              0.4444444444444444,
              "#bd3786"
             ],
             [
              0.5555555555555556,
              "#d8576b"
             ],
             [
              0.6666666666666666,
              "#ed7953"
             ],
             [
              0.7777777777777778,
              "#fb9f3a"
             ],
             [
              0.8888888888888888,
              "#fdca26"
             ],
             [
              1,
              "#f0f921"
             ]
            ],
            "type": "heatmap"
           }
          ],
          "heatmapgl": [
           {
            "colorbar": {
             "outlinewidth": 0,
             "ticks": ""
            },
            "colorscale": [
             [
              0,
              "#0d0887"
             ],
             [
              0.1111111111111111,
              "#46039f"
             ],
             [
              0.2222222222222222,
              "#7201a8"
             ],
             [
              0.3333333333333333,
              "#9c179e"
             ],
             [
              0.4444444444444444,
              "#bd3786"
             ],
             [
              0.5555555555555556,
              "#d8576b"
             ],
             [
              0.6666666666666666,
              "#ed7953"
             ],
             [
              0.7777777777777778,
              "#fb9f3a"
             ],
             [
              0.8888888888888888,
              "#fdca26"
             ],
             [
              1,
              "#f0f921"
             ]
            ],
            "type": "heatmapgl"
           }
          ],
          "histogram": [
           {
            "marker": {
             "pattern": {
              "fillmode": "overlay",
              "size": 10,
              "solidity": 0.2
             }
            },
            "type": "histogram"
           }
          ],
          "histogram2d": [
           {
            "colorbar": {
             "outlinewidth": 0,
             "ticks": ""
            },
            "colorscale": [
             [
              0,
              "#0d0887"
             ],
             [
              0.1111111111111111,
              "#46039f"
             ],
             [
              0.2222222222222222,
              "#7201a8"
             ],
             [
              0.3333333333333333,
              "#9c179e"
             ],
             [
              0.4444444444444444,
              "#bd3786"
             ],
             [
              0.5555555555555556,
              "#d8576b"
             ],
             [
              0.6666666666666666,
              "#ed7953"
             ],
             [
              0.7777777777777778,
              "#fb9f3a"
             ],
             [
              0.8888888888888888,
              "#fdca26"
             ],
             [
              1,
              "#f0f921"
             ]
            ],
            "type": "histogram2d"
           }
          ],
          "histogram2dcontour": [
           {
            "colorbar": {
             "outlinewidth": 0,
             "ticks": ""
            },
            "colorscale": [
             [
              0,
              "#0d0887"
             ],
             [
              0.1111111111111111,
              "#46039f"
             ],
             [
              0.2222222222222222,
              "#7201a8"
             ],
             [
              0.3333333333333333,
              "#9c179e"
             ],
             [
              0.4444444444444444,
              "#bd3786"
             ],
             [
              0.5555555555555556,
              "#d8576b"
             ],
             [
              0.6666666666666666,
              "#ed7953"
             ],
             [
              0.7777777777777778,
              "#fb9f3a"
             ],
             [
              0.8888888888888888,
              "#fdca26"
             ],
             [
              1,
              "#f0f921"
             ]
            ],
            "type": "histogram2dcontour"
           }
          ],
          "mesh3d": [
           {
            "colorbar": {
             "outlinewidth": 0,
             "ticks": ""
            },
            "type": "mesh3d"
           }
          ],
          "parcoords": [
           {
            "line": {
             "colorbar": {
              "outlinewidth": 0,
              "ticks": ""
             }
            },
            "type": "parcoords"
           }
          ],
          "pie": [
           {
            "automargin": true,
            "type": "pie"
           }
          ],
          "scatter": [
           {
            "fillpattern": {
             "fillmode": "overlay",
             "size": 10,
             "solidity": 0.2
            },
            "type": "scatter"
           }
          ],
          "scatter3d": [
           {
            "line": {
             "colorbar": {
              "outlinewidth": 0,
              "ticks": ""
             }
            },
            "marker": {
             "colorbar": {
              "outlinewidth": 0,
              "ticks": ""
             }
            },
            "type": "scatter3d"
           }
          ],
          "scattercarpet": [
           {
            "marker": {
             "colorbar": {
              "outlinewidth": 0,
              "ticks": ""
             }
            },
            "type": "scattercarpet"
           }
          ],
          "scattergeo": [
           {
            "marker": {
             "colorbar": {
              "outlinewidth": 0,
              "ticks": ""
             }
            },
            "type": "scattergeo"
           }
          ],
          "scattergl": [
           {
            "marker": {
             "colorbar": {
              "outlinewidth": 0,
              "ticks": ""
             }
            },
            "type": "scattergl"
           }
          ],
          "scattermapbox": [
           {
            "marker": {
             "colorbar": {
              "outlinewidth": 0,
              "ticks": ""
             }
            },
            "type": "scattermapbox"
           }
          ],
          "scatterpolar": [
           {
            "marker": {
             "colorbar": {
              "outlinewidth": 0,
              "ticks": ""
             }
            },
            "type": "scatterpolar"
           }
          ],
          "scatterpolargl": [
           {
            "marker": {
             "colorbar": {
              "outlinewidth": 0,
              "ticks": ""
             }
            },
            "type": "scatterpolargl"
           }
          ],
          "scatterternary": [
           {
            "marker": {
             "colorbar": {
              "outlinewidth": 0,
              "ticks": ""
             }
            },
            "type": "scatterternary"
           }
          ],
          "surface": [
           {
            "colorbar": {
             "outlinewidth": 0,
             "ticks": ""
            },
            "colorscale": [
             [
              0,
              "#0d0887"
             ],
             [
              0.1111111111111111,
              "#46039f"
             ],
             [
              0.2222222222222222,
              "#7201a8"
             ],
             [
              0.3333333333333333,
              "#9c179e"
             ],
             [
              0.4444444444444444,
              "#bd3786"
             ],
             [
              0.5555555555555556,
              "#d8576b"
             ],
             [
              0.6666666666666666,
              "#ed7953"
             ],
             [
              0.7777777777777778,
              "#fb9f3a"
             ],
             [
              0.8888888888888888,
              "#fdca26"
             ],
             [
              1,
              "#f0f921"
             ]
            ],
            "type": "surface"
           }
          ],
          "table": [
           {
            "cells": {
             "fill": {
              "color": "#EBF0F8"
             },
             "line": {
              "color": "white"
             }
            },
            "header": {
             "fill": {
              "color": "#C8D4E3"
             },
             "line": {
              "color": "white"
             }
            },
            "type": "table"
           }
          ]
         },
         "layout": {
          "annotationdefaults": {
           "arrowcolor": "#2a3f5f",
           "arrowhead": 0,
           "arrowwidth": 1
          },
          "autotypenumbers": "strict",
          "coloraxis": {
           "colorbar": {
            "outlinewidth": 0,
            "ticks": ""
           }
          },
          "colorscale": {
           "diverging": [
            [
             0,
             "#8e0152"
            ],
            [
             0.1,
             "#c51b7d"
            ],
            [
             0.2,
             "#de77ae"
            ],
            [
             0.3,
             "#f1b6da"
            ],
            [
             0.4,
             "#fde0ef"
            ],
            [
             0.5,
             "#f7f7f7"
            ],
            [
             0.6,
             "#e6f5d0"
            ],
            [
             0.7,
             "#b8e186"
            ],
            [
             0.8,
             "#7fbc41"
            ],
            [
             0.9,
             "#4d9221"
            ],
            [
             1,
             "#276419"
            ]
           ],
           "sequential": [
            [
             0,
             "#0d0887"
            ],
            [
             0.1111111111111111,
             "#46039f"
            ],
            [
             0.2222222222222222,
             "#7201a8"
            ],
            [
             0.3333333333333333,
             "#9c179e"
            ],
            [
             0.4444444444444444,
             "#bd3786"
            ],
            [
             0.5555555555555556,
             "#d8576b"
            ],
            [
             0.6666666666666666,
             "#ed7953"
            ],
            [
             0.7777777777777778,
             "#fb9f3a"
            ],
            [
             0.8888888888888888,
             "#fdca26"
            ],
            [
             1,
             "#f0f921"
            ]
           ],
           "sequentialminus": [
            [
             0,
             "#0d0887"
            ],
            [
             0.1111111111111111,
             "#46039f"
            ],
            [
             0.2222222222222222,
             "#7201a8"
            ],
            [
             0.3333333333333333,
             "#9c179e"
            ],
            [
             0.4444444444444444,
             "#bd3786"
            ],
            [
             0.5555555555555556,
             "#d8576b"
            ],
            [
             0.6666666666666666,
             "#ed7953"
            ],
            [
             0.7777777777777778,
             "#fb9f3a"
            ],
            [
             0.8888888888888888,
             "#fdca26"
            ],
            [
             1,
             "#f0f921"
            ]
           ]
          },
          "colorway": [
           "#636efa",
           "#EF553B",
           "#00cc96",
           "#ab63fa",
           "#FFA15A",
           "#19d3f3",
           "#FF6692",
           "#B6E880",
           "#FF97FF",
           "#FECB52"
          ],
          "font": {
           "color": "#2a3f5f"
          },
          "geo": {
           "bgcolor": "white",
           "lakecolor": "white",
           "landcolor": "#E5ECF6",
           "showlakes": true,
           "showland": true,
           "subunitcolor": "white"
          },
          "hoverlabel": {
           "align": "left"
          },
          "hovermode": "closest",
          "mapbox": {
           "style": "light"
          },
          "paper_bgcolor": "white",
          "plot_bgcolor": "#E5ECF6",
          "polar": {
           "angularaxis": {
            "gridcolor": "white",
            "linecolor": "white",
            "ticks": ""
           },
           "bgcolor": "#E5ECF6",
           "radialaxis": {
            "gridcolor": "white",
            "linecolor": "white",
            "ticks": ""
           }
          },
          "scene": {
           "xaxis": {
            "backgroundcolor": "#E5ECF6",
            "gridcolor": "white",
            "gridwidth": 2,
            "linecolor": "white",
            "showbackground": true,
            "ticks": "",
            "zerolinecolor": "white"
           },
           "yaxis": {
            "backgroundcolor": "#E5ECF6",
            "gridcolor": "white",
            "gridwidth": 2,
            "linecolor": "white",
            "showbackground": true,
            "ticks": "",
            "zerolinecolor": "white"
           },
           "zaxis": {
            "backgroundcolor": "#E5ECF6",
            "gridcolor": "white",
            "gridwidth": 2,
            "linecolor": "white",
            "showbackground": true,
            "ticks": "",
            "zerolinecolor": "white"
           }
          },
          "shapedefaults": {
           "line": {
            "color": "#2a3f5f"
           }
          },
          "ternary": {
           "aaxis": {
            "gridcolor": "white",
            "linecolor": "white",
            "ticks": ""
           },
           "baxis": {
            "gridcolor": "white",
            "linecolor": "white",
            "ticks": ""
           },
           "bgcolor": "#E5ECF6",
           "caxis": {
            "gridcolor": "white",
            "linecolor": "white",
            "ticks": ""
           }
          },
          "title": {
           "x": 0.05
          },
          "xaxis": {
           "automargin": true,
           "gridcolor": "white",
           "linecolor": "white",
           "ticks": "",
           "title": {
            "standoff": 15
           },
           "zerolinecolor": "white",
           "zerolinewidth": 2
          },
          "yaxis": {
           "automargin": true,
           "gridcolor": "white",
           "linecolor": "white",
           "ticks": "",
           "title": {
            "standoff": 15
           },
           "zerolinecolor": "white",
           "zerolinewidth": 2
          }
         }
        },
        "title": {
         "text": "Label: Geodude"
        },
        "width": 500,
        "xaxis": {
         "anchor": "y",
         "domain": [
          0,
          1
         ],
         "showgrid": false,
         "showticklabels": false,
         "visible": false,
         "zeroline": false
        },
        "yaxis": {
         "anchor": "x",
         "domain": [
          0,
          1
         ],
         "showgrid": false,
         "showticklabels": false,
         "visible": false,
         "zeroline": false
        }
       }
      }
     },
     "metadata": {},
     "output_type": "display_data"
    },
    {
     "data": {
      "application/vnd.plotly.v1+json": {
       "config": {
        "plotlyServerURL": "https://plot.ly"
       },
       "data": [
        {
         "hovertemplate": "x: %{x}<br>y: %{y}<extra></extra>",
         "name": "0",
         "source": "data:image/png;base64,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",
         "type": "image",
         "xaxis": "x",
         "yaxis": "y"
        }
       ],
       "layout": {
        "height": 350,
        "margin": {
         "l": 0,
         "t": 60
        },
        "shapes": [
         {
          "line": {
           "color": "black",
           "width": 2
          },
          "type": "rect",
          "x0": 0,
          "x1": 128,
          "xref": "x",
          "y0": 0,
          "y1": 128,
          "yref": "y"
         }
        ],
        "template": {
         "data": {
          "bar": [
           {
            "error_x": {
             "color": "#2a3f5f"
            },
            "error_y": {
             "color": "#2a3f5f"
            },
            "marker": {
             "line": {
              "color": "#E5ECF6",
              "width": 0.5
             },
             "pattern": {
              "fillmode": "overlay",
              "size": 10,
              "solidity": 0.2
             }
            },
            "type": "bar"
           }
          ],
          "barpolar": [
           {
            "marker": {
             "line": {
              "color": "#E5ECF6",
              "width": 0.5
             },
             "pattern": {
              "fillmode": "overlay",
              "size": 10,
              "solidity": 0.2
             }
            },
            "type": "barpolar"
           }
          ],
          "carpet": [
           {
            "aaxis": {
             "endlinecolor": "#2a3f5f",
             "gridcolor": "white",
             "linecolor": "white",
             "minorgridcolor": "white",
             "startlinecolor": "#2a3f5f"
            },
            "baxis": {
             "endlinecolor": "#2a3f5f",
             "gridcolor": "white",
             "linecolor": "white",
             "minorgridcolor": "white",
             "startlinecolor": "#2a3f5f"
            },
            "type": "carpet"
           }
          ],
          "choropleth": [
           {
            "colorbar": {
             "outlinewidth": 0,
             "ticks": ""
            },
            "type": "choropleth"
           }
          ],
          "contour": [
           {
            "colorbar": {
             "outlinewidth": 0,
             "ticks": ""
            },
            "colorscale": [
             [
              0,
              "#0d0887"
             ],
             [
              0.1111111111111111,
              "#46039f"
             ],
             [
              0.2222222222222222,
              "#7201a8"
             ],
             [
              0.3333333333333333,
              "#9c179e"
             ],
             [
              0.4444444444444444,
              "#bd3786"
             ],
             [
              0.5555555555555556,
              "#d8576b"
             ],
             [
              0.6666666666666666,
              "#ed7953"
             ],
             [
              0.7777777777777778,
              "#fb9f3a"
             ],
             [
              0.8888888888888888,
              "#fdca26"
             ],
             [
              1,
              "#f0f921"
             ]
            ],
            "type": "contour"
           }
          ],
          "contourcarpet": [
           {
            "colorbar": {
             "outlinewidth": 0,
             "ticks": ""
            },
            "type": "contourcarpet"
           }
          ],
          "heatmap": [
           {
            "colorbar": {
             "outlinewidth": 0,
             "ticks": ""
            },
            "colorscale": [
             [
              0,
              "#0d0887"
             ],
             [
              0.1111111111111111,
              "#46039f"
             ],
             [
              0.2222222222222222,
              "#7201a8"
             ],
             [
              0.3333333333333333,
              "#9c179e"
             ],
             [
              0.4444444444444444,
              "#bd3786"
             ],
             [
              0.5555555555555556,
              "#d8576b"
             ],
             [
              0.6666666666666666,
              "#ed7953"
             ],
             [
              0.7777777777777778,
              "#fb9f3a"
             ],
             [
              0.8888888888888888,
              "#fdca26"
             ],
             [
              1,
              "#f0f921"
             ]
            ],
            "type": "heatmap"
           }
          ],
          "heatmapgl": [
           {
            "colorbar": {
             "outlinewidth": 0,
             "ticks": ""
            },
            "colorscale": [
             [
              0,
              "#0d0887"
             ],
             [
              0.1111111111111111,
              "#46039f"
             ],
             [
              0.2222222222222222,
              "#7201a8"
             ],
             [
              0.3333333333333333,
              "#9c179e"
             ],
             [
              0.4444444444444444,
              "#bd3786"
             ],
             [
              0.5555555555555556,
              "#d8576b"
             ],
             [
              0.6666666666666666,
              "#ed7953"
             ],
             [
              0.7777777777777778,
              "#fb9f3a"
             ],
             [
              0.8888888888888888,
              "#fdca26"
             ],
             [
              1,
              "#f0f921"
             ]
            ],
            "type": "heatmapgl"
           }
          ],
          "histogram": [
           {
            "marker": {
             "pattern": {
              "fillmode": "overlay",
              "size": 10,
              "solidity": 0.2
             }
            },
            "type": "histogram"
           }
          ],
          "histogram2d": [
           {
            "colorbar": {
             "outlinewidth": 0,
             "ticks": ""
            },
            "colorscale": [
             [
              0,
              "#0d0887"
             ],
             [
              0.1111111111111111,
              "#46039f"
             ],
             [
              0.2222222222222222,
              "#7201a8"
             ],
             [
              0.3333333333333333,
              "#9c179e"
             ],
             [
              0.4444444444444444,
              "#bd3786"
             ],
             [
              0.5555555555555556,
              "#d8576b"
             ],
             [
              0.6666666666666666,
              "#ed7953"
             ],
             [
              0.7777777777777778,
              "#fb9f3a"
             ],
             [
              0.8888888888888888,
              "#fdca26"
             ],
             [
              1,
              "#f0f921"
             ]
            ],
            "type": "histogram2d"
           }
          ],
          "histogram2dcontour": [
           {
            "colorbar": {
             "outlinewidth": 0,
             "ticks": ""
            },
            "colorscale": [
             [
              0,
              "#0d0887"
             ],
             [
              0.1111111111111111,
              "#46039f"
             ],
             [
              0.2222222222222222,
              "#7201a8"
             ],
             [
              0.3333333333333333,
              "#9c179e"
             ],
             [
              0.4444444444444444,
              "#bd3786"
             ],
             [
              0.5555555555555556,
              "#d8576b"
             ],
             [
              0.6666666666666666,
              "#ed7953"
             ],
             [
              0.7777777777777778,
              "#fb9f3a"
             ],
             [
              0.8888888888888888,
              "#fdca26"
             ],
             [
              1,
              "#f0f921"
             ]
            ],
            "type": "histogram2dcontour"
           }
          ],
          "mesh3d": [
           {
            "colorbar": {
             "outlinewidth": 0,
             "ticks": ""
            },
            "type": "mesh3d"
           }
          ],
          "parcoords": [
           {
            "line": {
             "colorbar": {
              "outlinewidth": 0,
              "ticks": ""
             }
            },
            "type": "parcoords"
           }
          ],
          "pie": [
           {
            "automargin": true,
            "type": "pie"
           }
          ],
          "scatter": [
           {
            "fillpattern": {
             "fillmode": "overlay",
             "size": 10,
             "solidity": 0.2
            },
            "type": "scatter"
           }
          ],
          "scatter3d": [
           {
            "line": {
             "colorbar": {
              "outlinewidth": 0,
              "ticks": ""
             }
            },
            "marker": {
             "colorbar": {
              "outlinewidth": 0,
              "ticks": ""
             }
            },
            "type": "scatter3d"
           }
          ],
          "scattercarpet": [
           {
            "marker": {
             "colorbar": {
              "outlinewidth": 0,
              "ticks": ""
             }
            },
            "type": "scattercarpet"
           }
          ],
          "scattergeo": [
           {
            "marker": {
             "colorbar": {
              "outlinewidth": 0,
              "ticks": ""
             }
            },
            "type": "scattergeo"
           }
          ],
          "scattergl": [
           {
            "marker": {
             "colorbar": {
              "outlinewidth": 0,
              "ticks": ""
             }
            },
            "type": "scattergl"
           }
          ],
          "scattermapbox": [
           {
            "marker": {
             "colorbar": {
              "outlinewidth": 0,
              "ticks": ""
             }
            },
            "type": "scattermapbox"
           }
          ],
          "scatterpolar": [
           {
            "marker": {
             "colorbar": {
              "outlinewidth": 0,
              "ticks": ""
             }
            },
            "type": "scatterpolar"
           }
          ],
          "scatterpolargl": [
           {
            "marker": {
             "colorbar": {
              "outlinewidth": 0,
              "ticks": ""
             }
            },
            "type": "scatterpolargl"
           }
          ],
          "scatterternary": [
           {
            "marker": {
             "colorbar": {
              "outlinewidth": 0,
              "ticks": ""
             }
            },
            "type": "scatterternary"
           }
          ],
          "surface": [
           {
            "colorbar": {
             "outlinewidth": 0,
             "ticks": ""
            },
            "colorscale": [
             [
              0,
              "#0d0887"
             ],
             [
              0.1111111111111111,
              "#46039f"
             ],
             [
              0.2222222222222222,
              "#7201a8"
             ],
             [
              0.3333333333333333,
              "#9c179e"
             ],
             [
              0.4444444444444444,
              "#bd3786"
             ],
             [
              0.5555555555555556,
              "#d8576b"
             ],
             [
              0.6666666666666666,
              "#ed7953"
             ],
             [
              0.7777777777777778,
              "#fb9f3a"
             ],
             [
              0.8888888888888888,
              "#fdca26"
             ],
             [
              1,
              "#f0f921"
             ]
            ],
            "type": "surface"
           }
          ],
          "table": [
           {
            "cells": {
             "fill": {
              "color": "#EBF0F8"
             },
             "line": {
              "color": "white"
             }
            },
            "header": {
             "fill": {
              "color": "#C8D4E3"
             },
             "line": {
              "color": "white"
             }
            },
            "type": "table"
           }
          ]
         },
         "layout": {
          "annotationdefaults": {
           "arrowcolor": "#2a3f5f",
           "arrowhead": 0,
           "arrowwidth": 1
          },
          "autotypenumbers": "strict",
          "coloraxis": {
           "colorbar": {
            "outlinewidth": 0,
            "ticks": ""
           }
          },
          "colorscale": {
           "diverging": [
            [
             0,
             "#8e0152"
            ],
            [
             0.1,
             "#c51b7d"
            ],
            [
             0.2,
             "#de77ae"
            ],
            [
             0.3,
             "#f1b6da"
            ],
            [
             0.4,
             "#fde0ef"
            ],
            [
             0.5,
             "#f7f7f7"
            ],
            [
             0.6,
             "#e6f5d0"
            ],
            [
             0.7,
             "#b8e186"
            ],
            [
             0.8,
             "#7fbc41"
            ],
            [
             0.9,
             "#4d9221"
            ],
            [
             1,
             "#276419"
            ]
           ],
           "sequential": [
            [
             0,
             "#0d0887"
            ],
            [
             0.1111111111111111,
             "#46039f"
            ],
            [
             0.2222222222222222,
             "#7201a8"
            ],
            [
             0.3333333333333333,
             "#9c179e"
            ],
            [
             0.4444444444444444,
             "#bd3786"
            ],
            [
             0.5555555555555556,
             "#d8576b"
            ],
            [
             0.6666666666666666,
             "#ed7953"
            ],
            [
             0.7777777777777778,
             "#fb9f3a"
            ],
            [
             0.8888888888888888,
             "#fdca26"
            ],
            [
             1,
             "#f0f921"
            ]
           ],
           "sequentialminus": [
            [
             0,
             "#0d0887"
            ],
            [
             0.1111111111111111,
             "#46039f"
            ],
            [
             0.2222222222222222,
             "#7201a8"
            ],
            [
             0.3333333333333333,
             "#9c179e"
            ],
            [
             0.4444444444444444,
             "#bd3786"
            ],
            [
             0.5555555555555556,
             "#d8576b"
            ],
            [
             0.6666666666666666,
             "#ed7953"
            ],
            [
             0.7777777777777778,
             "#fb9f3a"
            ],
            [
             0.8888888888888888,
             "#fdca26"
            ],
            [
             1,
             "#f0f921"
            ]
           ]
          },
          "colorway": [
           "#636efa",
           "#EF553B",
           "#00cc96",
           "#ab63fa",
           "#FFA15A",
           "#19d3f3",
           "#FF6692",
           "#B6E880",
           "#FF97FF",
           "#FECB52"
          ],
          "font": {
           "color": "#2a3f5f"
          },
          "geo": {
           "bgcolor": "white",
           "lakecolor": "white",
           "landcolor": "#E5ECF6",
           "showlakes": true,
           "showland": true,
           "subunitcolor": "white"
          },
          "hoverlabel": {
           "align": "left"
          },
          "hovermode": "closest",
          "mapbox": {
           "style": "light"
          },
          "paper_bgcolor": "white",
          "plot_bgcolor": "#E5ECF6",
          "polar": {
           "angularaxis": {
            "gridcolor": "white",
            "linecolor": "white",
            "ticks": ""
           },
           "bgcolor": "#E5ECF6",
           "radialaxis": {
            "gridcolor": "white",
            "linecolor": "white",
            "ticks": ""
           }
          },
          "scene": {
           "xaxis": {
            "backgroundcolor": "#E5ECF6",
            "gridcolor": "white",
            "gridwidth": 2,
            "linecolor": "white",
            "showbackground": true,
            "ticks": "",
            "zerolinecolor": "white"
           },
           "yaxis": {
            "backgroundcolor": "#E5ECF6",
            "gridcolor": "white",
            "gridwidth": 2,
            "linecolor": "white",
            "showbackground": true,
            "ticks": "",
            "zerolinecolor": "white"
           },
           "zaxis": {
            "backgroundcolor": "#E5ECF6",
            "gridcolor": "white",
            "gridwidth": 2,
            "linecolor": "white",
            "showbackground": true,
            "ticks": "",
            "zerolinecolor": "white"
           }
          },
          "shapedefaults": {
           "line": {
            "color": "#2a3f5f"
           }
          },
          "ternary": {
           "aaxis": {
            "gridcolor": "white",
            "linecolor": "white",
            "ticks": ""
           },
           "baxis": {
            "gridcolor": "white",
            "linecolor": "white",
            "ticks": ""
           },
           "bgcolor": "#E5ECF6",
           "caxis": {
            "gridcolor": "white",
            "linecolor": "white",
            "ticks": ""
           }
          },
          "title": {
           "x": 0.05
          },
          "xaxis": {
           "automargin": true,
           "gridcolor": "white",
           "linecolor": "white",
           "ticks": "",
           "title": {
            "standoff": 15
           },
           "zerolinecolor": "white",
           "zerolinewidth": 2
          },
          "yaxis": {
           "automargin": true,
           "gridcolor": "white",
           "linecolor": "white",
           "ticks": "",
           "title": {
            "standoff": 15
           },
           "zerolinecolor": "white",
           "zerolinewidth": 2
          }
         }
        },
        "title": {
         "text": "Label: Wynaut"
        },
        "width": 500,
        "xaxis": {
         "anchor": "y",
         "domain": [
          0,
          1
         ],
         "showgrid": false,
         "showticklabels": false,
         "visible": false,
         "zeroline": false
        },
        "yaxis": {
         "anchor": "x",
         "domain": [
          0,
          1
         ],
         "showgrid": false,
         "showticklabels": false,
         "visible": false,
         "zeroline": false
        }
       }
      }
     },
     "metadata": {},
     "output_type": "display_data"
    },
    {
     "data": {
      "application/vnd.plotly.v1+json": {
       "config": {
        "plotlyServerURL": "https://plot.ly"
       },
       "data": [
        {
         "hovertemplate": "x: %{x}<br>y: %{y}<extra></extra>",
         "name": "0",
         "source": "data:image/png;base64,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",
         "type": "image",
         "xaxis": "x",
         "yaxis": "y"
        }
       ],
       "layout": {
        "annotations": [
         {
          "align": "left",
          "bgcolor": "#ff7f0e",
          "bordercolor": "#c7c7c7",
          "borderpad": 2,
          "borderwidth": 1,
          "font": {
           "color": "#ffffff",
           "family": "Courier New, monospace",
           "size": 12
          },
          "opacity": 0.8,
          "showarrow": false,
          "text": "Unown: 8%",
          "x": 1,
          "xref": "paper",
          "y": 1,
          "yref": "paper"
         }
        ],
        "height": 350,
        "images": [
         {
          "layer": "below",
          "sizex": 0.3,
          "sizey": 0.3,
          "source": "images/final/Unown/1.png",
          "x": 1,
          "xref": "paper",
          "y": 1.1,
          "yref": "paper"
         }
        ],
        "margin": {
         "l": 0,
         "t": 60
        },
        "shapes": [
         {
          "line": {
           "color": "black",
           "width": 2
          },
          "type": "rect",
          "x0": 0,
          "x1": 128,
          "xref": "x",
          "y0": 0,
          "y1": 128,
          "yref": "y"
         }
        ],
        "template": {
         "data": {
          "bar": [
           {
            "error_x": {
             "color": "#2a3f5f"
            },
            "error_y": {
             "color": "#2a3f5f"
            },
            "marker": {
             "line": {
              "color": "#E5ECF6",
              "width": 0.5
             },
             "pattern": {
              "fillmode": "overlay",
              "size": 10,
              "solidity": 0.2
             }
            },
            "type": "bar"
           }
          ],
          "barpolar": [
           {
            "marker": {
             "line": {
              "color": "#E5ECF6",
              "width": 0.5
             },
             "pattern": {
              "fillmode": "overlay",
              "size": 10,
              "solidity": 0.2
             }
            },
            "type": "barpolar"
           }
          ],
          "carpet": [
           {
            "aaxis": {
             "endlinecolor": "#2a3f5f",
             "gridcolor": "white",
             "linecolor": "white",
             "minorgridcolor": "white",
             "startlinecolor": "#2a3f5f"
            },
            "baxis": {
             "endlinecolor": "#2a3f5f",
             "gridcolor": "white",
             "linecolor": "white",
             "minorgridcolor": "white",
             "startlinecolor": "#2a3f5f"
            },
            "type": "carpet"
           }
          ],
          "choropleth": [
           {
            "colorbar": {
             "outlinewidth": 0,
             "ticks": ""
            },
            "type": "choropleth"
           }
          ],
          "contour": [
           {
            "colorbar": {
             "outlinewidth": 0,
             "ticks": ""
            },
            "colorscale": [
             [
              0,
              "#0d0887"
             ],
             [
              0.1111111111111111,
              "#46039f"
             ],
             [
              0.2222222222222222,
              "#7201a8"
             ],
             [
              0.3333333333333333,
              "#9c179e"
             ],
             [
              0.4444444444444444,
              "#bd3786"
             ],
             [
              0.5555555555555556,
              "#d8576b"
             ],
             [
              0.6666666666666666,
              "#ed7953"
             ],
             [
              0.7777777777777778,
              "#fb9f3a"
             ],
             [
              0.8888888888888888,
              "#fdca26"
             ],
             [
              1,
              "#f0f921"
             ]
            ],
            "type": "contour"
           }
          ],
          "contourcarpet": [
           {
            "colorbar": {
             "outlinewidth": 0,
             "ticks": ""
            },
            "type": "contourcarpet"
           }
          ],
          "heatmap": [
           {
            "colorbar": {
             "outlinewidth": 0,
             "ticks": ""
            },
            "colorscale": [
             [
              0,
              "#0d0887"
             ],
             [
              0.1111111111111111,
              "#46039f"
             ],
             [
              0.2222222222222222,
              "#7201a8"
             ],
             [
              0.3333333333333333,
              "#9c179e"
             ],
             [
              0.4444444444444444,
              "#bd3786"
             ],
             [
              0.5555555555555556,
              "#d8576b"
             ],
             [
              0.6666666666666666,
              "#ed7953"
             ],
             [
              0.7777777777777778,
              "#fb9f3a"
             ],
             [
              0.8888888888888888,
              "#fdca26"
             ],
             [
              1,
              "#f0f921"
             ]
            ],
            "type": "heatmap"
           }
          ],
          "heatmapgl": [
           {
            "colorbar": {
             "outlinewidth": 0,
             "ticks": ""
            },
            "colorscale": [
             [
              0,
              "#0d0887"
             ],
             [
              0.1111111111111111,
              "#46039f"
             ],
             [
              0.2222222222222222,
              "#7201a8"
             ],
             [
              0.3333333333333333,
              "#9c179e"
             ],
             [
              0.4444444444444444,
              "#bd3786"
             ],
             [
              0.5555555555555556,
              "#d8576b"
             ],
             [
              0.6666666666666666,
              "#ed7953"
             ],
             [
              0.7777777777777778,
              "#fb9f3a"
             ],
             [
              0.8888888888888888,
              "#fdca26"
             ],
             [
              1,
              "#f0f921"
             ]
            ],
            "type": "heatmapgl"
           }
          ],
          "histogram": [
           {
            "marker": {
             "pattern": {
              "fillmode": "overlay",
              "size": 10,
              "solidity": 0.2
             }
            },
            "type": "histogram"
           }
          ],
          "histogram2d": [
           {
            "colorbar": {
             "outlinewidth": 0,
             "ticks": ""
            },
            "colorscale": [
             [
              0,
              "#0d0887"
             ],
             [
              0.1111111111111111,
              "#46039f"
             ],
             [
              0.2222222222222222,
              "#7201a8"
             ],
             [
              0.3333333333333333,
              "#9c179e"
             ],
             [
              0.4444444444444444,
              "#bd3786"
             ],
             [
              0.5555555555555556,
              "#d8576b"
             ],
             [
              0.6666666666666666,
              "#ed7953"
             ],
             [
              0.7777777777777778,
              "#fb9f3a"
             ],
             [
              0.8888888888888888,
              "#fdca26"
             ],
             [
              1,
              "#f0f921"
             ]
            ],
            "type": "histogram2d"
           }
          ],
          "histogram2dcontour": [
           {
            "colorbar": {
             "outlinewidth": 0,
             "ticks": ""
            },
            "colorscale": [
             [
              0,
              "#0d0887"
             ],
             [
              0.1111111111111111,
              "#46039f"
             ],
             [
              0.2222222222222222,
              "#7201a8"
             ],
             [
              0.3333333333333333,
              "#9c179e"
             ],
             [
              0.4444444444444444,
              "#bd3786"
             ],
             [
              0.5555555555555556,
              "#d8576b"
             ],
             [
              0.6666666666666666,
              "#ed7953"
             ],
             [
              0.7777777777777778,
              "#fb9f3a"
             ],
             [
              0.8888888888888888,
              "#fdca26"
             ],
             [
              1,
              "#f0f921"
             ]
            ],
            "type": "histogram2dcontour"
           }
          ],
          "mesh3d": [
           {
            "colorbar": {
             "outlinewidth": 0,
             "ticks": ""
            },
            "type": "mesh3d"
           }
          ],
          "parcoords": [
           {
            "line": {
             "colorbar": {
              "outlinewidth": 0,
              "ticks": ""
             }
            },
            "type": "parcoords"
           }
          ],
          "pie": [
           {
            "automargin": true,
            "type": "pie"
           }
          ],
          "scatter": [
           {
            "fillpattern": {
             "fillmode": "overlay",
             "size": 10,
             "solidity": 0.2
            },
            "type": "scatter"
           }
          ],
          "scatter3d": [
           {
            "line": {
             "colorbar": {
              "outlinewidth": 0,
              "ticks": ""
             }
            },
            "marker": {
             "colorbar": {
              "outlinewidth": 0,
              "ticks": ""
             }
            },
            "type": "scatter3d"
           }
          ],
          "scattercarpet": [
           {
            "marker": {
             "colorbar": {
              "outlinewidth": 0,
              "ticks": ""
             }
            },
            "type": "scattercarpet"
           }
          ],
          "scattergeo": [
           {
            "marker": {
             "colorbar": {
              "outlinewidth": 0,
              "ticks": ""
             }
            },
            "type": "scattergeo"
           }
          ],
          "scattergl": [
           {
            "marker": {
             "colorbar": {
              "outlinewidth": 0,
              "ticks": ""
             }
            },
            "type": "scattergl"
           }
          ],
          "scattermapbox": [
           {
            "marker": {
             "colorbar": {
              "outlinewidth": 0,
              "ticks": ""
             }
            },
            "type": "scattermapbox"
           }
          ],
          "scatterpolar": [
           {
            "marker": {
             "colorbar": {
              "outlinewidth": 0,
              "ticks": ""
             }
            },
            "type": "scatterpolar"
           }
          ],
          "scatterpolargl": [
           {
            "marker": {
             "colorbar": {
              "outlinewidth": 0,
              "ticks": ""
             }
            },
            "type": "scatterpolargl"
           }
          ],
          "scatterternary": [
           {
            "marker": {
             "colorbar": {
              "outlinewidth": 0,
              "ticks": ""
             }
            },
            "type": "scatterternary"
           }
          ],
          "surface": [
           {
            "colorbar": {
             "outlinewidth": 0,
             "ticks": ""
            },
            "colorscale": [
             [
              0,
              "#0d0887"
             ],
             [
              0.1111111111111111,
              "#46039f"
             ],
             [
              0.2222222222222222,
              "#7201a8"
             ],
             [
              0.3333333333333333,
              "#9c179e"
             ],
             [
              0.4444444444444444,
              "#bd3786"
             ],
             [
              0.5555555555555556,
              "#d8576b"
             ],
             [
              0.6666666666666666,
              "#ed7953"
             ],
             [
              0.7777777777777778,
              "#fb9f3a"
             ],
             [
              0.8888888888888888,
              "#fdca26"
             ],
             [
              1,
              "#f0f921"
             ]
            ],
            "type": "surface"
           }
          ],
          "table": [
           {
            "cells": {
             "fill": {
              "color": "#EBF0F8"
             },
             "line": {
              "color": "white"
             }
            },
            "header": {
             "fill": {
              "color": "#C8D4E3"
             },
             "line": {
              "color": "white"
             }
            },
            "type": "table"
           }
          ]
         },
         "layout": {
          "annotationdefaults": {
           "arrowcolor": "#2a3f5f",
           "arrowhead": 0,
           "arrowwidth": 1
          },
          "autotypenumbers": "strict",
          "coloraxis": {
           "colorbar": {
            "outlinewidth": 0,
            "ticks": ""
           }
          },
          "colorscale": {
           "diverging": [
            [
             0,
             "#8e0152"
            ],
            [
             0.1,
             "#c51b7d"
            ],
            [
             0.2,
             "#de77ae"
            ],
            [
             0.3,
             "#f1b6da"
            ],
            [
             0.4,
             "#fde0ef"
            ],
            [
             0.5,
             "#f7f7f7"
            ],
            [
             0.6,
             "#e6f5d0"
            ],
            [
             0.7,
             "#b8e186"
            ],
            [
             0.8,
             "#7fbc41"
            ],
            [
             0.9,
             "#4d9221"
            ],
            [
             1,
             "#276419"
            ]
           ],
           "sequential": [
            [
             0,
             "#0d0887"
            ],
            [
             0.1111111111111111,
             "#46039f"
            ],
            [
             0.2222222222222222,
             "#7201a8"
            ],
            [
             0.3333333333333333,
             "#9c179e"
            ],
            [
             0.4444444444444444,
             "#bd3786"
            ],
            [
             0.5555555555555556,
             "#d8576b"
            ],
            [
             0.6666666666666666,
             "#ed7953"
            ],
            [
             0.7777777777777778,
             "#fb9f3a"
            ],
            [
             0.8888888888888888,
             "#fdca26"
            ],
            [
             1,
             "#f0f921"
            ]
           ],
           "sequentialminus": [
            [
             0,
             "#0d0887"
            ],
            [
             0.1111111111111111,
             "#46039f"
            ],
            [
             0.2222222222222222,
             "#7201a8"
            ],
            [
             0.3333333333333333,
             "#9c179e"
            ],
            [
             0.4444444444444444,
             "#bd3786"
            ],
            [
             0.5555555555555556,
             "#d8576b"
            ],
            [
             0.6666666666666666,
             "#ed7953"
            ],
            [
             0.7777777777777778,
             "#fb9f3a"
            ],
            [
             0.8888888888888888,
             "#fdca26"
            ],
            [
             1,
             "#f0f921"
            ]
           ]
          },
          "colorway": [
           "#636efa",
           "#EF553B",
           "#00cc96",
           "#ab63fa",
           "#FFA15A",
           "#19d3f3",
           "#FF6692",
           "#B6E880",
           "#FF97FF",
           "#FECB52"
          ],
          "font": {
           "color": "#2a3f5f"
          },
          "geo": {
           "bgcolor": "white",
           "lakecolor": "white",
           "landcolor": "#E5ECF6",
           "showlakes": true,
           "showland": true,
           "subunitcolor": "white"
          },
          "hoverlabel": {
           "align": "left"
          },
          "hovermode": "closest",
          "mapbox": {
           "style": "light"
          },
          "paper_bgcolor": "white",
          "plot_bgcolor": "#E5ECF6",
          "polar": {
           "angularaxis": {
            "gridcolor": "white",
            "linecolor": "white",
            "ticks": ""
           },
           "bgcolor": "#E5ECF6",
           "radialaxis": {
            "gridcolor": "white",
            "linecolor": "white",
            "ticks": ""
           }
          },
          "scene": {
           "xaxis": {
            "backgroundcolor": "#E5ECF6",
            "gridcolor": "white",
            "gridwidth": 2,
            "linecolor": "white",
            "showbackground": true,
            "ticks": "",
            "zerolinecolor": "white"
           },
           "yaxis": {
            "backgroundcolor": "#E5ECF6",
            "gridcolor": "white",
            "gridwidth": 2,
            "linecolor": "white",
            "showbackground": true,
            "ticks": "",
            "zerolinecolor": "white"
           },
           "zaxis": {
            "backgroundcolor": "#E5ECF6",
            "gridcolor": "white",
            "gridwidth": 2,
            "linecolor": "white",
            "showbackground": true,
            "ticks": "",
            "zerolinecolor": "white"
           }
          },
          "shapedefaults": {
           "line": {
            "color": "#2a3f5f"
           }
          },
          "ternary": {
           "aaxis": {
            "gridcolor": "white",
            "linecolor": "white",
            "ticks": ""
           },
           "baxis": {
            "gridcolor": "white",
            "linecolor": "white",
            "ticks": ""
           },
           "bgcolor": "#E5ECF6",
           "caxis": {
            "gridcolor": "white",
            "linecolor": "white",
            "ticks": ""
           }
          },
          "title": {
           "x": 0.05
          },
          "xaxis": {
           "automargin": true,
           "gridcolor": "white",
           "linecolor": "white",
           "ticks": "",
           "title": {
            "standoff": 15
           },
           "zerolinecolor": "white",
           "zerolinewidth": 2
          },
          "yaxis": {
           "automargin": true,
           "gridcolor": "white",
           "linecolor": "white",
           "ticks": "",
           "title": {
            "standoff": 15
           },
           "zerolinecolor": "white",
           "zerolinewidth": 2
          }
         }
        },
        "title": {
         "text": "Label: Wynaut"
        },
        "width": 500,
        "xaxis": {
         "anchor": "y",
         "domain": [
          0,
          1
         ],
         "showgrid": false,
         "showticklabels": false,
         "visible": false,
         "zeroline": false
        },
        "yaxis": {
         "anchor": "x",
         "domain": [
          0,
          1
         ],
         "showgrid": false,
         "showticklabels": false,
         "visible": false,
         "zeroline": false
        }
       }
      }
     },
     "metadata": {},
     "output_type": "display_data"
    },
    {
     "data": {
      "application/vnd.plotly.v1+json": {
       "config": {
        "plotlyServerURL": "https://plot.ly"
       },
       "data": [
        {
         "hovertemplate": "x: %{x}<br>y: %{y}<extra></extra>",
         "name": "0",
         "source": "data:image/png;base64,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",
         "type": "image",
         "xaxis": "x",
         "yaxis": "y"
        }
       ],
       "layout": {
        "height": 350,
        "margin": {
         "l": 0,
         "t": 60
        },
        "shapes": [
         {
          "line": {
           "color": "black",
           "width": 2
          },
          "type": "rect",
          "x0": 0,
          "x1": 128,
          "xref": "x",
          "y0": 0,
          "y1": 128,
          "yref": "y"
         }
        ],
        "template": {
         "data": {
          "bar": [
           {
            "error_x": {
             "color": "#2a3f5f"
            },
            "error_y": {
             "color": "#2a3f5f"
            },
            "marker": {
             "line": {
              "color": "#E5ECF6",
              "width": 0.5
             },
             "pattern": {
              "fillmode": "overlay",
              "size": 10,
              "solidity": 0.2
             }
            },
            "type": "bar"
           }
          ],
          "barpolar": [
           {
            "marker": {
             "line": {
              "color": "#E5ECF6",
              "width": 0.5
             },
             "pattern": {
              "fillmode": "overlay",
              "size": 10,
              "solidity": 0.2
             }
            },
            "type": "barpolar"
           }
          ],
          "carpet": [
           {
            "aaxis": {
             "endlinecolor": "#2a3f5f",
             "gridcolor": "white",
             "linecolor": "white",
             "minorgridcolor": "white",
             "startlinecolor": "#2a3f5f"
            },
            "baxis": {
             "endlinecolor": "#2a3f5f",
             "gridcolor": "white",
             "linecolor": "white",
             "minorgridcolor": "white",
             "startlinecolor": "#2a3f5f"
            },
            "type": "carpet"
           }
          ],
          "choropleth": [
           {
            "colorbar": {
             "outlinewidth": 0,
             "ticks": ""
            },
            "type": "choropleth"
           }
          ],
          "contour": [
           {
            "colorbar": {
             "outlinewidth": 0,
             "ticks": ""
            },
            "colorscale": [
             [
              0,
              "#0d0887"
             ],
             [
              0.1111111111111111,
              "#46039f"
             ],
             [
              0.2222222222222222,
              "#7201a8"
             ],
             [
              0.3333333333333333,
              "#9c179e"
             ],
             [
              0.4444444444444444,
              "#bd3786"
             ],
             [
              0.5555555555555556,
              "#d8576b"
             ],
             [
              0.6666666666666666,
              "#ed7953"
             ],
             [
              0.7777777777777778,
              "#fb9f3a"
             ],
             [
              0.8888888888888888,
              "#fdca26"
             ],
             [
              1,
              "#f0f921"
             ]
            ],
            "type": "contour"
           }
          ],
          "contourcarpet": [
           {
            "colorbar": {
             "outlinewidth": 0,
             "ticks": ""
            },
            "type": "contourcarpet"
           }
          ],
          "heatmap": [
           {
            "colorbar": {
             "outlinewidth": 0,
             "ticks": ""
            },
            "colorscale": [
             [
              0,
              "#0d0887"
             ],
             [
              0.1111111111111111,
              "#46039f"
             ],
             [
              0.2222222222222222,
              "#7201a8"
             ],
             [
              0.3333333333333333,
              "#9c179e"
             ],
             [
              0.4444444444444444,
              "#bd3786"
             ],
             [
              0.5555555555555556,
              "#d8576b"
             ],
             [
              0.6666666666666666,
              "#ed7953"
             ],
             [
              0.7777777777777778,
              "#fb9f3a"
             ],
             [
              0.8888888888888888,
              "#fdca26"
             ],
             [
              1,
              "#f0f921"
             ]
            ],
            "type": "heatmap"
           }
          ],
          "heatmapgl": [
           {
            "colorbar": {
             "outlinewidth": 0,
             "ticks": ""
            },
            "colorscale": [
             [
              0,
              "#0d0887"
             ],
             [
              0.1111111111111111,
              "#46039f"
             ],
             [
              0.2222222222222222,
              "#7201a8"
             ],
             [
              0.3333333333333333,
              "#9c179e"
             ],
             [
              0.4444444444444444,
              "#bd3786"
             ],
             [
              0.5555555555555556,
              "#d8576b"
             ],
             [
              0.6666666666666666,
              "#ed7953"
             ],
             [
              0.7777777777777778,
              "#fb9f3a"
             ],
             [
              0.8888888888888888,
              "#fdca26"
             ],
             [
              1,
              "#f0f921"
             ]
            ],
            "type": "heatmapgl"
           }
          ],
          "histogram": [
           {
            "marker": {
             "pattern": {
              "fillmode": "overlay",
              "size": 10,
              "solidity": 0.2
             }
            },
            "type": "histogram"
           }
          ],
          "histogram2d": [
           {
            "colorbar": {
             "outlinewidth": 0,
             "ticks": ""
            },
            "colorscale": [
             [
              0,
              "#0d0887"
             ],
             [
              0.1111111111111111,
              "#46039f"
             ],
             [
              0.2222222222222222,
              "#7201a8"
             ],
             [
              0.3333333333333333,
              "#9c179e"
             ],
             [
              0.4444444444444444,
              "#bd3786"
             ],
             [
              0.5555555555555556,
              "#d8576b"
             ],
             [
              0.6666666666666666,
              "#ed7953"
             ],
             [
              0.7777777777777778,
              "#fb9f3a"
             ],
             [
              0.8888888888888888,
              "#fdca26"
             ],
             [
              1,
              "#f0f921"
             ]
            ],
            "type": "histogram2d"
           }
          ],
          "histogram2dcontour": [
           {
            "colorbar": {
             "outlinewidth": 0,
             "ticks": ""
            },
            "colorscale": [
             [
              0,
              "#0d0887"
             ],
             [
              0.1111111111111111,
              "#46039f"
             ],
             [
              0.2222222222222222,
              "#7201a8"
             ],
             [
              0.3333333333333333,
              "#9c179e"
             ],
             [
              0.4444444444444444,
              "#bd3786"
             ],
             [
              0.5555555555555556,
              "#d8576b"
             ],
             [
              0.6666666666666666,
              "#ed7953"
             ],
             [
              0.7777777777777778,
              "#fb9f3a"
             ],
             [
              0.8888888888888888,
              "#fdca26"
             ],
             [
              1,
              "#f0f921"
             ]
            ],
            "type": "histogram2dcontour"
           }
          ],
          "mesh3d": [
           {
            "colorbar": {
             "outlinewidth": 0,
             "ticks": ""
            },
            "type": "mesh3d"
           }
          ],
          "parcoords": [
           {
            "line": {
             "colorbar": {
              "outlinewidth": 0,
              "ticks": ""
             }
            },
            "type": "parcoords"
           }
          ],
          "pie": [
           {
            "automargin": true,
            "type": "pie"
           }
          ],
          "scatter": [
           {
            "fillpattern": {
             "fillmode": "overlay",
             "size": 10,
             "solidity": 0.2
            },
            "type": "scatter"
           }
          ],
          "scatter3d": [
           {
            "line": {
             "colorbar": {
              "outlinewidth": 0,
              "ticks": ""
             }
            },
            "marker": {
             "colorbar": {
              "outlinewidth": 0,
              "ticks": ""
             }
            },
            "type": "scatter3d"
           }
          ],
          "scattercarpet": [
           {
            "marker": {
             "colorbar": {
              "outlinewidth": 0,
              "ticks": ""
             }
            },
            "type": "scattercarpet"
           }
          ],
          "scattergeo": [
           {
            "marker": {
             "colorbar": {
              "outlinewidth": 0,
              "ticks": ""
             }
            },
            "type": "scattergeo"
           }
          ],
          "scattergl": [
           {
            "marker": {
             "colorbar": {
              "outlinewidth": 0,
              "ticks": ""
             }
            },
            "type": "scattergl"
           }
          ],
          "scattermapbox": [
           {
            "marker": {
             "colorbar": {
              "outlinewidth": 0,
              "ticks": ""
             }
            },
            "type": "scattermapbox"
           }
          ],
          "scatterpolar": [
           {
            "marker": {
             "colorbar": {
              "outlinewidth": 0,
              "ticks": ""
             }
            },
            "type": "scatterpolar"
           }
          ],
          "scatterpolargl": [
           {
            "marker": {
             "colorbar": {
              "outlinewidth": 0,
              "ticks": ""
             }
            },
            "type": "scatterpolargl"
           }
          ],
          "scatterternary": [
           {
            "marker": {
             "colorbar": {
              "outlinewidth": 0,
              "ticks": ""
             }
            },
            "type": "scatterternary"
           }
          ],
          "surface": [
           {
            "colorbar": {
             "outlinewidth": 0,
             "ticks": ""
            },
            "colorscale": [
             [
              0,
              "#0d0887"
             ],
             [
              0.1111111111111111,
              "#46039f"
             ],
             [
              0.2222222222222222,
              "#7201a8"
             ],
             [
              0.3333333333333333,
              "#9c179e"
             ],
             [
              0.4444444444444444,
              "#bd3786"
             ],
             [
              0.5555555555555556,
              "#d8576b"
             ],
             [
              0.6666666666666666,
              "#ed7953"
             ],
             [
              0.7777777777777778,
              "#fb9f3a"
             ],
             [
              0.8888888888888888,
              "#fdca26"
             ],
             [
              1,
              "#f0f921"
             ]
            ],
            "type": "surface"
           }
          ],
          "table": [
           {
            "cells": {
             "fill": {
              "color": "#EBF0F8"
             },
             "line": {
              "color": "white"
             }
            },
            "header": {
             "fill": {
              "color": "#C8D4E3"
             },
             "line": {
              "color": "white"
             }
            },
            "type": "table"
           }
          ]
         },
         "layout": {
          "annotationdefaults": {
           "arrowcolor": "#2a3f5f",
           "arrowhead": 0,
           "arrowwidth": 1
          },
          "autotypenumbers": "strict",
          "coloraxis": {
           "colorbar": {
            "outlinewidth": 0,
            "ticks": ""
           }
          },
          "colorscale": {
           "diverging": [
            [
             0,
             "#8e0152"
            ],
            [
             0.1,
             "#c51b7d"
            ],
            [
             0.2,
             "#de77ae"
            ],
            [
             0.3,
             "#f1b6da"
            ],
            [
             0.4,
             "#fde0ef"
            ],
            [
             0.5,
             "#f7f7f7"
            ],
            [
             0.6,
             "#e6f5d0"
            ],
            [
             0.7,
             "#b8e186"
            ],
            [
             0.8,
             "#7fbc41"
            ],
            [
             0.9,
             "#4d9221"
            ],
            [
             1,
             "#276419"
            ]
           ],
           "sequential": [
            [
             0,
             "#0d0887"
            ],
            [
             0.1111111111111111,
             "#46039f"
            ],
            [
             0.2222222222222222,
             "#7201a8"
            ],
            [
             0.3333333333333333,
             "#9c179e"
            ],
            [
             0.4444444444444444,
             "#bd3786"
            ],
            [
             0.5555555555555556,
             "#d8576b"
            ],
            [
             0.6666666666666666,
             "#ed7953"
            ],
            [
             0.7777777777777778,
             "#fb9f3a"
            ],
            [
             0.8888888888888888,
             "#fdca26"
            ],
            [
             1,
             "#f0f921"
            ]
           ],
           "sequentialminus": [
            [
             0,
             "#0d0887"
            ],
            [
             0.1111111111111111,
             "#46039f"
            ],
            [
             0.2222222222222222,
             "#7201a8"
            ],
            [
             0.3333333333333333,
             "#9c179e"
            ],
            [
             0.4444444444444444,
             "#bd3786"
            ],
            [
             0.5555555555555556,
             "#d8576b"
            ],
            [
             0.6666666666666666,
             "#ed7953"
            ],
            [
             0.7777777777777778,
             "#fb9f3a"
            ],
            [
             0.8888888888888888,
             "#fdca26"
            ],
            [
             1,
             "#f0f921"
            ]
           ]
          },
          "colorway": [
           "#636efa",
           "#EF553B",
           "#00cc96",
           "#ab63fa",
           "#FFA15A",
           "#19d3f3",
           "#FF6692",
           "#B6E880",
           "#FF97FF",
           "#FECB52"
          ],
          "font": {
           "color": "#2a3f5f"
          },
          "geo": {
           "bgcolor": "white",
           "lakecolor": "white",
           "landcolor": "#E5ECF6",
           "showlakes": true,
           "showland": true,
           "subunitcolor": "white"
          },
          "hoverlabel": {
           "align": "left"
          },
          "hovermode": "closest",
          "mapbox": {
           "style": "light"
          },
          "paper_bgcolor": "white",
          "plot_bgcolor": "#E5ECF6",
          "polar": {
           "angularaxis": {
            "gridcolor": "white",
            "linecolor": "white",
            "ticks": ""
           },
           "bgcolor": "#E5ECF6",
           "radialaxis": {
            "gridcolor": "white",
            "linecolor": "white",
            "ticks": ""
           }
          },
          "scene": {
           "xaxis": {
            "backgroundcolor": "#E5ECF6",
            "gridcolor": "white",
            "gridwidth": 2,
            "linecolor": "white",
            "showbackground": true,
            "ticks": "",
            "zerolinecolor": "white"
           },
           "yaxis": {
            "backgroundcolor": "#E5ECF6",
            "gridcolor": "white",
            "gridwidth": 2,
            "linecolor": "white",
            "showbackground": true,
            "ticks": "",
            "zerolinecolor": "white"
           },
           "zaxis": {
            "backgroundcolor": "#E5ECF6",
            "gridcolor": "white",
            "gridwidth": 2,
            "linecolor": "white",
            "showbackground": true,
            "ticks": "",
            "zerolinecolor": "white"
           }
          },
          "shapedefaults": {
           "line": {
            "color": "#2a3f5f"
           }
          },
          "ternary": {
           "aaxis": {
            "gridcolor": "white",
            "linecolor": "white",
            "ticks": ""
           },
           "baxis": {
            "gridcolor": "white",
            "linecolor": "white",
            "ticks": ""
           },
           "bgcolor": "#E5ECF6",
           "caxis": {
            "gridcolor": "white",
            "linecolor": "white",
            "ticks": ""
           }
          },
          "title": {
           "x": 0.05
          },
          "xaxis": {
           "automargin": true,
           "gridcolor": "white",
           "linecolor": "white",
           "ticks": "",
           "title": {
            "standoff": 15
           },
           "zerolinecolor": "white",
           "zerolinewidth": 2
          },
          "yaxis": {
           "automargin": true,
           "gridcolor": "white",
           "linecolor": "white",
           "ticks": "",
           "title": {
            "standoff": 15
           },
           "zerolinecolor": "white",
           "zerolinewidth": 2
          }
         }
        },
        "title": {
         "text": "Label: Wailmer"
        },
        "width": 500,
        "xaxis": {
         "anchor": "y",
         "domain": [
          0,
          1
         ],
         "showgrid": false,
         "showticklabels": false,
         "visible": false,
         "zeroline": false
        },
        "yaxis": {
         "anchor": "x",
         "domain": [
          0,
          1
         ],
         "showgrid": false,
         "showticklabels": false,
         "visible": false,
         "zeroline": false
        }
       }
      }
     },
     "metadata": {},
     "output_type": "display_data"
    },
    {
     "data": {
      "application/vnd.plotly.v1+json": {
       "config": {
        "plotlyServerURL": "https://plot.ly"
       },
       "data": [
        {
         "hovertemplate": "x: %{x}<br>y: %{y}<extra></extra>",
         "name": "0",
         "source": "data:image/png;base64,iVBORw0KGgoAAAANSUhEUgAAAIAAAACACAIAAABMXPacAAAiE0lEQVR4Xu2ceZRdV3Xmv33OvffNNZdUg6qkkiVL1mjZlo2NR2IwYIzB4BACadKBjsMKnYRAmpV0r4bu0AlpQkNoQgYIWQGCyUqArITRYDAeIg+ybMm2LFlTDZpKNdcb773n7N1/nPtKJWEbyZb0nF7vt6pWvXeHc+/b3z5773POfUUigiaNQ52+ocmFpSlAg2kK0GCaAjSYpgANpilAg2kK0GCaAjSYpgANpilAg2kK0GCaAjSYpgANpilAg2kK0GCaAjSYpgANpilAg2kK0GCaAjSYpgANpilAg2kK0GCaAjSYpgANpilAg2kK0GCaAjSYpgANpilAg2kK0GC80ze8Ahjs22jiUJgBIlJQSmmPlNK+72dyyg/iWiWcn+U4AmCN8Xw/yGSHx548vaF/D9Ar5wsafd1rIPAy2VS+Jci3tPT0ty5blmvrIC9AEPi+H/gpL0hpz7dxWJ6ejkrzpakT1ekTc8ePlqenKjOTRATQ0Yk9pzf9CqbxAgz0rhdBy7IVXavXdq1am+vo8rI5Ik9YcQCxHFkbG44jG0YmCmNjRRF5gRd4OpcJWgrpjBKJw8r01Pz4sYkD+yYOPleaGGcTe6n06OGdp1/vFUbDBFjWs15rD0r1btiy6obXdl28tloul+dLYcyxscZIbJk8Ik2KYBk2NuVKXAnj2IgQAEBERLyMl9JKiAJN7YXMkq6Ollxm5uC+4YfvH9vxKMchM2vPGxl7hSrRGAF6Oy/KdfWtveW2lVe+ipQ3X6nOVWpRZG0sAgFAIixECuQrRWCBjW2lairVyFhmAkAgiBFKEQDDwlZERADfU22FzLKutq6sPz02NvzIA0cff4jj+Mjk3tNu45XAhRagf+m6dEvb+je8ddmlW6uMuUpZWGLLhgEWYgEgDCIAYIA0eZ6yIiay5WpUDY1hEQAEEdjYioYB2LBlFisQYYABpakll+prL3TkcpqrRx976PAj98fl+bFjz5x6Rw3mwgkw0LvBmnjwimu3vuPXatbuHxsPmXO5IO17AhgriQACFhBACq47KA1hqYW2EsahYStJCDLMJrQxsxEWw2Q40Q8QRaJgCKR1mqinKz/QvyQw0f4ffGt8xzYIv3JkuEACDPZvFlLX/8aHOgdXjoxPD4/PESSb9fP5VMrTpwkgACEZooiFQGLL1VpcjSw7B9ewImFsbDm21jJEWVEGBAYgRCBYRVaRaKUsKyu6NbOkLbusu8VOjj/95T8fGd5+6g02jAshwEDPhlxP303v/5DKtjz50LYJG/j5Vl+rVKDyhVTa95QiwyIsJAAn9yOAsLAV9sRYKdfiKLLWCCCWEDKHtUiVY4YIkRYXvggQAKKUJbAi8ZRi8WJbS3kKyGaDgZ6OHIeHvvl3laPDY8d3n3KjjeC8j4RXDF6aau+46QMfZj/12P7x+Ufv0VEVRJbFWA4ja5hJoAQgCEQIIsJWbGzDyFaNqcY2MsxE4hE0mCWObFSNUDNkmVx3AQngrJ/kB0reE4sASkCGq7PVA4dOHK/wyl/5rZY1lw4svWThPhvF+e0Bg32byA/e9sefZlK7Dowfn62AoZQCW00kQBCodMZP+VqTYogYZgPLbFisZStsCfCILZgZShmhuFSLahGHMRjEDCKjSYkQ4HIAiJjARKLAIM+yKLKKNItiIYC1yrfllvV2l3Y+eOyH3xibaGR1dL6mInrbL/LS6Wznkjd86L/5vleuRp5HICFPgVk0WSsAxTEbxLXYKiJFsIZhxVgRwGUDJjADIAbxkRGMH6oMXaVqsTM9CBDRAkukRKCU6wQEKBFhghLFEnuKAIiQECAqtqWp0qjlpeuu7AnSg73rRxuXk8+NAMsHLrVhSH5ApPxsNtfWPvTqm6ZGR9bf+R5DyouMVpRLB9rT1go0gSAEGDEWSqyxQgogEANWmOH6pQvqABgcCqljw6kgK+XIacKKBKQsE4vSYEXEUAJyZSqRAGCQq2lFCOSCHADFXJmtHBXpWrmx87ryYN/G0aNPLXycC8nLFWBp20XK83JLega2buxbu2npxauyhYJSei6mB7/455Ne26FDMwM51ddZ6MylJ3PVmVIIlysViRJYMINEREOI4CpMF88JBDCLMRzHxoQx926pMXsmciZlAmvFirzIkoVSgmT8kGRiAHAyuObAyUvXRVhqxeo4Uf9l13ZB+rtWHZncv3DABeMl5oC+7jV+Jtc2sGL55Vd3Da328y0ho1yNyiaqRcYaO1czplyuDe9l5WVXrMoUWrI+EVEpjA2LZTAzrJAVBgggiGiVGJBEKWKR2HAYm7hmKLTKGCecCIggiiJfQ5MSoth4MYMgpOo+ToCAiBWUldjXQtBWlAgJXCcQIlawWuXbc31drcUHvjvz5EMjFzwWnZ0Ag30b2dpcZ/eKV924/Mqrg0LH7HxpYnp2thJVw9iwINCBIp8osuJrsl7q8NGJK8Yfne1fP53rSqXTii0RYmaxwpY5ZoBEQCRwaZOIFLQgslyNDYdGR1axuMACQADRxERWETylQMLsRVYl9Sslvg8SRZZAIgQyHlE9CSciQ1gRK2JPd7Vl+rvbR7/6Z+HE8ZFjT7sLXRjOQoD+rospnb3uV3994IpXHT4ydWxybrYWRjEnLsxCilTgpdwkgcBXMEA1yL8rP/veX77lXe/9yON66cAVV1O1XIuNNSyWxTCLkEAAEREiqyAKJCQiHFti6xmhJLKTi+VWkRCJIniaABYoY7yYCRCl4BokEgIrANAxx2kPCwKIAMQKQhAi0QqeWtKR706pg3/zv0dGd5z+yc8nZ5oDBvs3bXzLOy+58eaJYrjtqYOzxdBEVimCJgUBQyxERDFDkWV4impC1cOHbu6LN266rNDZ/f7feB9x+E8/3Pbg2Gytox9+xhetrCVmYoEIREBQRNZT1lN1V1WihKDqAzQhIlLExEIECIEUQZQCGE5IlfQCIWGliEGAsmy1Ykryi8AVAgRNYCA0E1PFoK9r6Wvfuqxr9eHJfYs++vnlTAVYsvHyS299y56Dh8emi84XFVy8FSESEiaRWGIWG2hFJEq37r3vi79z2yXre556NswHFKC66Yotl2/d8uk/+SxleMe+Z0enK6FXMEHez+ZjJlJKE9k4Ek1IpyKOiZQnEpaLOqoFpKyxCqIVhV6AQitncoHyYQwU4PQiIQi7PwSBgkAJuwRAbJMcIwIIAUIES5ZAENTMiePTA0MbWzdfPdi7YfRCBaIzFcBUw7ASTpdCaynlgQVuUkxAlplFLNiKRYWrsU5lgqndT/7Tb964ecslRw48G8WtAAg2F/D8fHHTZetvf+uba2Hti3/9tTvfftujDz34rW9+5+obbhqfmBw5sG/NmiFr+Jmnn7jyyqtiEx94bt9td97a1t52/08f/MVfftueZ/fVqrWNG9f/5f/969Hp6OFJk19/NXEMZnJuz6IJQiAAwknhQ0QiWuDSgwv9liBKact+zCASgi2G4+PTS669rbzvmeXLNo9ckMWcMxVgduwAiPLpYKpUI1LWcMQMDTYwli2zMCyziq2uxZWaqZajwaEV5WrtV+/61N/+/ZcATE3NBEFQLI635oKuFv/QoWNtee+ioaWB9+r5qnn3e37x8OjRn97/8B13vtXG5u+/cvf7P/BrU1Pz//zNb7/xjjdPzRR37x/rH1pZjrD76T09y1esWLfuD3757c8+vftLX/nH+yaUv2wt2MCJIKIEArBW7BEAxaKskEsiRCSkRACyIlYRadJWCKQE4XxtNp3OXPfmyo++froJzg9nOhcUl+f2PfLgsqWdgVLGcjU0BhxFtlaLo5qxobWGEVkvtsRCNdNZmWltybe35j/8kV+bnZ4GcOLEpOd5URStXDlIROVKpburNZPyolqptzvXkdNaaoU02nMq49s4CoXFxpHWZKwQJI5qwpTyg1qtai2zldhKvr3zk5/8H3/5/jetnDsYhzXnyUKIfR1nfJvyWSskucSlcICFRIhBIiRQIgRyQxBAKLaVubJeuUn1rlj06c8jZ9oDjozv6V1ySc/qNRcv63jsuWOWOYqsWAsh8RSClBgbFCcR5AAVVSu/96aBJV1Z2Oi2N11///3b7/nBrGXRWlWr1Z6eJQDKpUqhkAcwPT3T1t6qlIqjMJsJcmktVgca+RSVA6R9askQWS/tq468N5tP+X6KiIgol89vf/zHn/nknxVS9oblLTuf+METZhWWb/aTGR+GWM9CswhAgSehQSKGgIjEJTGXkROIYKtROD+b2vraFT3r4KeGx56o7zwvnKkAAHzf/+nnP7n1vR9curRjeOSErkZiQ4nKVJlV5Vkhj9qXIaXFS62tHfjgh38XbI8dnegdWHr9tZceGZ/b+UT1mWf2zc4XL79iM4BisbRkSTeA2dn53p5uAALk8zkApXKYyqRiy5ZFKy2CMIwEErGUamFrW9vOnc/seGyHqo7c9KqeX/rEL3Rm/EArUjeNTRb/9K+3/+3+rvYl7WQNnF+LQOClfJ1Nu1k8ccMxN/RIilYI4KaWSKRcquXzrejolbkTp9rg3HMWAowe2TXQu+6hP/uffkt7sPQiK74i4nRGcm1hzwqls14YwvLM2Mgn33OJ7ysAx45N9i7vQxj3d7d88IP/Ydeup3fteCzQ+pJ1a+bmSldeeRkAY0xnVweAudn5zs72ai2uVKMgCIyxURx1drYJuFwsFivxtoefuP/en5Snh7esX/rpP7xx5UCHRJYj4yI7WAY7C5/5w9fd/K9PffRfjh5FZybQAoHz68hkWlNBoI0NosgaY6xhIQigBJwUdSJEAtiYmVT26tfb4d1Da67juSny9PDh8zJZdBYCABg7thvAioHNlMrJ1XfGsYFYEQvLFIfEDM8fovE33/5uVCtTpRoREBuQQKBNacumi7ZcsXF2cvJHP77vvh9vJ9jBFUMjY8evu/6aWi2cny8uX96vCFFc6+7uJJjDh8f3Pjd66HN/N3JouDo7Ot8//98+cFm67XpUKlwt21LoYpHAVTckAipHb7l1/Q2vLr3/449+f355ixsWgsQKsyhFQeAHKd9CYsu1yMShMcYqhrBVVliDtULg+YGX6hn0l6/iKCo+8UDtiZ+u6F0/fB4mKs5iJLyYof6N4qfMppvjgbUS1mBZW/EsV0L52I34wF1vA8y99zy8+bK1Xa05APUMCIibNFaGMF+qTB8Z3j8yfmxscq5Yi8Koq7uzWKzGYRRFtUI+tXRp4eJVPd2DXZlsvs0HDIMZwhADjkUWxlUnIbjQDuPpz3/p0T96MEi3txOAymx6WV+gFDxXohIpKCKGGMtsxRjLhpXAy/qep3xSyklLEKg4tOGOH5pnHyWthw/vOvWaL4uXKACAoYHNMJFdcWm45hr4WRXHGmpu785tf3Hn+osHjJ/+zje+f/vbX4coTDIfALBE82G1qHTKT2WJPAQ+tAYsmQo4QhyCBFDQShSJALGVyMDd5MIwSmJwLG7qtC4sIVE5OZREtWa+8rXtH/n6jB5YRccPBBetzqQCUQTtRtPuLywLJxcAYgZBeZpAbpQpAokZmlQmEw7vibZ9F9XiOdTgpQvgGOrbINozyzdJ7zoqz2V2/+CxHXe35oLn9o8prVYNLYM1AACXDyMxc9//3vZrX7M+B0B50EHdbAw2kPqMsUAoGU6djjDECEeU2Pqk1yfv692NQJT1/+3fnnvzp45kcim/NVPoW8ZGVEq79R8Xf42AAWcHATi08EBaCQMisAIL+KQ0QWnxU5XvfZkP7xM/GBk5B7NGZzoOeCEOHX0agD/8ZPDQl+3un9z8+mtbCxm29qH7Hu/v70Vctz4AgOOqqdWqtSirFEhBGHEVcQVxFSYE24VmjcLjjx94XvsDAGhBm8TxAQIWCUZuK5eja66++OGPX8RTxzA/qVM+BGAJCAHAAsvwFVKEQJGvKFCkAi0RJBKwwEI4MRILwKzCau6Wd+VuebdYO9C7vn65l87LFQDA8NiThw7vOnR0t1Tm77j1VbCYmK1093RkPKo37zzTiq1NzJWXdreqBUsRnfJTP5wF1Wqy8HIqUpcz6QDifpJq0+1NRBEARFyNVq0d+OJ/XhXMjQd+CgrWsBEYppglZomsWAEADVgRtkwEsJBxVq9fViAE0kqZKLNi9er3faR1aM1Az8vV4BwIsIAIXbZ1HXk0fnj88i1r63Z3FhFwrJRMTMwvX7Gk/rFeEAUo9bz3lqRQEOoVkMDNbS4yPerXdm+lFr/x9svfccOAVR60IkZYM7GwVtAgaxFbsSKhSBQxjDhRFxJD8h5ioyg8Me4p8qxVqdTl7/vwypve2LfkksGBS+tXO2ue90O+RAqFdMfSJdB+uVzuHVh60gYARNiElPFnp0t9g0tcabho96kQlCKt6kssPwsRSL9YCz9LbNqyXmwMKUATBDa0UcgGrDyCppjFRExWQCB1esvCAobyfb+9o7jzkWhqIrLKVOa33H7Hzb/3UQEN9m087ZQz5FwK0NKSI6TYxtVyFV7gfDPxRWFIBGs1LXj2C1k3oVKL6ln2Z0mcfaH2WUwSjdy++h8Ras0HbC2IoECaQACLRGxqxtaMhAz3wIC/sJ7ARAQnNwFWEIsolb70muKx0eLeXbl8Rpm4d8XQ7R/7RNvyi/q61yy+jTPkXArglndnpote4LsHFxaFBAtrYSWXCU6WOi+MJlJE/PxdgICFnCHOVu4iztQn5YEQQEIiBJGOtjRHMTlBFMEjaCJPQZF7S4GCRxBAQAowsZ2ZVFoTQO54iIRsq2HrpldxeXZ891OpdIasKRRabv3QHyzf+uplvRvqN3mmnEsBqtUQsFEYd7bl69UnnH2EGbBxLSYvsdjPgUBahWF8+vaTKCBZxCdQvYYETnYIOrkJAEtnW1obk3JPhImASPmaZ09ks0EqpbSvhAC3NscCQOWyZuY4hxXRJARxGnikFQUmWnvzrScO7R/b/bTWGszE5pa7PnDxDa/rPct+cC4FKJWrUbVcLVWV78MmS8UAAIEYQEJjA9+DqzleFBH09naE1RcRAM76rq36ZUAg1wWwKM8QhCCBprSNC6nAV+5MEaVsrWIrFYFKMq2A2LVJMJxasykaew5BAAUSgEFAJuW1t2QCsVfd+c7hp56sVCra08xSq1Ze/c53b3jj287qicdzKUAUm8PDY3KyTQHqYVwsREiQDrwz6QBg7u9pm5sv/2w+XOzWIgDqlVCyT+ByAAEunJC4OOV5yChpy6cLgR8oIkCsDXoHw8lj0Fpc4kC99BSBWzZQyhw5CBBEPKKcpzuy6bZMKpcOuBZe8eY7fvhXn7OxVRBFytZqm299S9tl1w8u21S/x5/DuRRAKfXIw0+R0rXaaSW8OFMppXzvzK7IUugqRNUYdNrx9cQuFnJy4HZyL4B611uYpXN7iFRaq7Zsuqs1255LZ32tIJTOxjMTYq0rOevuXz+NbXDx5ujAM362kPF1eza1tD3fXcgWMoHnaRIo37v+Pe97/Hvf9rI56+4pqnXf+CZoP7nuz+PMzHFmWJZ//c5D6aw2UQRX60gSKBxCqIZu4dDhDPUCGBtGsZtiqHOq9U9J5onNkwYJLgFT0gsgIlBUKxezqaAtl+puyXa1ZFuzQYqMl8ractHdlLhbdnYhUppSgde2YYt/ZG9/Z2tve64zn86mfV8rTUSaOLbtS5eEtcront0WZEVqxpaimBoiwMTEM//2yG5FamauBF8DBHKfiZwjK8B1/eSEFzY+iMTYdDoolWqu95xqfQPhU2ex3GXc00Au2iVR3RVMAEgpG0VBoDIpvzWf6mrN9rbne1qy3YMDXnkmE3iBp3xFaV9lUjqX8dryQXdLtrcQrF6/rrp3R2fOb8uls6kg8JVygZEAokqpuvXOd+558H6dSrNguhyVyiGZaNG9vRhntx7wc5maKc3MxSY2gEoMnViZQJRO+cVyCK2ciyZ7F5txESLo7CxMzZayPe2AO0wAdisQC9PQrvnk3SmK0uINZJHK+LZaVFppT2koL9BZ9qzhrvzKg4892tXTUZ4vw4r2tFbka+17FASe7+tMyi9uviyanWjpHxAWAERw3kWa2DAb9F58yYGHt/Wt33R0rhofH5MzFuBc9gAASuuf3vfgwIoBE1ZPMQ4pMBAocFLkJSz24lM8GgBa2/ITx+dUNlU3sLiVXkjSHepbcdLUi3a4CVj3w9a2tefi8qwQPE9pjwJPZQO/NRssaSvk035ve2tPIdfX3dLTkVvSnutqy7S3ZFpzqZa0n/bUJddcM75vTzpfIAVSICKokxrYKOxbu+ngo9tOzFSmZ8rxY/eQPlPDnulxZ0hLIf2FL3yztb1z+vhU4icO0lAElmwuZcJ6ij7N4KfkbUAklU+FsbHiVs0FIiLJ2sDCSMwdmrQl7oqJ77tKyMUfAbpacy08/8yRmWIt0kp5SvnaebrO5LO2VGxtSbfmg0I2yGX8TNpPB17KV75WmpDOZkwYzowfJQIpEgUicoFIBKRVKpsZ2nLlgb0HotH9mD4yPLYrubWfxzkWYOzwzucOHPn63d/ePzx+0voAKQ1oiaJcLl0qVk+G9RdFqlH/6t5HH9xDWgECsYAIBPX4Xie50PM1V99GCAif+Z2t23/wwx3HSsPHZsDiu2+FiNWpTGnyeD7tpbQKNAWafAVfQxNpggZstbLy8iuGd2zXgQ8FpUglExbudiAm7t9y5fSzT8Q7fzJ87NlTbuFFOccCACgW93/17u/PzcXT5fikBKShA7GSKWR27z26SJoXQ0T6Ogr3PbSnFhuwhVg35EVS3ADOBEkwcG+B+vwEuUPdSyKOeeOlQ//wvl7/gX/c9uS+Bw9O7Toye3imVCyGLZ1d06MH3TSVJvKIPFIaStebVUK9K1dWZiaDVIpAIsIslsV1TkWohmbvkSlEtbN9kOLcCwBg/MT0v3z7J6MHD8NLJzGBFOkARB0tGROLPRMBiEDkK9xw7Zp9h46TTyLizLpwdj3gn5Y93FLB4l7maiJINX7NL2z+zudu/60VY+WHv//4Izu37T62c2x6Cv7sxJQoLSDlZuAggFgRw2JYiECWe1ddPD0+Dtc0AwwIWcjx2fJTY5OHJ4tcnIQ+u7rmvAhw4sQzX737u4898pSxjMQERDoNHUDsyqElJvrZMdRpiLOaGL76hnUPP7S3aoz7xAJyYQiA06Lu/knOSd6cKpXbJiCuRq2p1H/57Vt2fu2OL90ar372G3t+9P1tOw8ema0enZo3rkAgiq1EViLDcfLFcIqjsGNgcOSJHURaCYilGprx6dKTB8afGJ2ersTle74s08dGznK5+OWuCb8Q/X2bLcvH/vv777rrHRzOK1iIiClJNB/F5vjR6eUrl4h5oWnRxGuBxNPGJuaG9x+/4drV1k3Pkdt70rzJhgSh+npZspfIdRZ3ggvcpBX52gqPHp4eP1r+3N/ce3/XjatXDfbnve5Cxvc8K2KMKIXAVxpkRSITP/T1u694+7smZkqTc5XZchhr31obPbfdPLMNlbmRo2f93Mr5EsCxft2r7733H5d0+OASCUMM12aA8InHD27YvNw/fZoBzusXvRCIBVtK6+2PDa9Z1Z3LpOq2dTZ347oF2y5qB1g46NSXBKCeQlwx5VPKr8T44O9/7f5iV2rVhkImnQ+8XMovpINCxk/5SgFVy9Pl8Mlvfj135esqoWUGahUzujva8whV54ePvMTH2c+vAABWXbT1gQf+padbEFVAgKnaaObE1PzcTHnt6l429Wf2AUCS2QVhQMDGvRYAIlXL99333K1vWM+RTWwIqZeYJ5072UKUpOuTAgAnRRCAQCAoKA3yABLS0jb0+ht/df+xSu6qm1ODayM/Q9bmUyrjK0VcjqXEqD77lG7pwPx0fGQ/jzxNNho+/rL+P9R5F6CtdfWy/qVf/crHN28cQhwBwlFR6dpPf/L01des8VgWVfMurzHYQkTABIEkY17SauzoTBjZVRd1S2SRWDMpeBaoS+Jen9TGHZYcTEREgIYbVoEAZXLZu379c9/54fZcyhdSRESFDrVkObV1+4WWwPfCKDJzU2bv4yjPCwFsRl6q1y/mvAvgWDV0xRe++Ac3XHuFMqGI5XD22MTkjscPvPHWyymMQUgKC7GJ4wNuXjjZA0BA2eDb39512WWDve05grjhmdvngj5RcjARxH2DqX4AEp8n0GK7E4ggZNLpj37s7z/7V9+rVE5+U3XFsk0S1aA9iDg3ESLy9MgZD7LOhAskAIC2tou/+qXff/0bXuPZqrAVlHY+ub+rI9/f1y6xAdzjVvU5Tqp7q3NgIHluNlB/97VHfuV916vZirjc6kx/qgD1kxz1TkAEpQEPRIB7MoYAoCX3F5/91//6v/5hbq4B/7PgZ9Pg+aIln33Hu//wg7/9CaQUeZ5Yf+OmoSd3jZyYnq/7vkXylaKTnGJIEhi++ZYNn/3k96K0v7ArKdzhOgW5KIRTz01I9HFrmQQItWY+/aff+tiffKMh1seF7AGOjo5LLlnd96lP/dZVV67hclEQPnDfU1u2DhU0C7Pz4MSC5F7DWcoZV0TI16Mn5p/cPnzz6zZkFmLLad0FgqRAWrxHSGmQ7x5pIU9VyfvCX33343/6rcmphv3fmgstgKOQX/XR3/+l9/7G7a3KluPavd959LVv2JAWdiWPM6P7dSVnQv0lCWZi86MfPPOmOy7P2IWzsMjihIW4hIWpaxeFfJBWQXBsuvTeX//8g9ufKzbI9x2NEQBAa+uapd2tH/ndt7zr3a9RSm2/d/vg8ra+5Z1SiSSxpIss9WegE5vWky+pqvBPfrxn6dKWrVettMXagmp1FoZjyQ4BCERBGvn85z//vU/8n38Ow3hi8qyHTueWhgkAoLdnYxTbtav6fukXr33b268tT8/PTU5funkZWSO8UF/WZai/dBq4d6xpx87DI6PT6zcPrFnRqSyLldPGZe4ccbM8ueyOp4/+0R9/8/5te3xPHzt+LuuZl0YjBVjAD4aWdhT+03983e23bT3w7OHrfuGSrta01Gr1tZeFHuEGsPU+AAhE+boK3PejZycmi5vX9y9f3pnL+p5SAjLCHkAMaIW0Pz5V+dSnvvulu+8PAm98/Lx83+gl8IoQAEB39zph8nx12caVay/q7e/v+N3fuRXMXK4A4gZoifFPshBeiBRFkEopPHhoqlKq+Z6qVOPhw1M3XL165Zah554+/JnP3/PdH+2qhZHv6SNHdy5qpMG8UgRYzJrVV03Pljra8r951y3XX7d+ZW9HPhdQ4AEi1oItWACBSPJsBAGqvkaV8sFSnS4eOj67b2Tqx/fseuCRA6NHp4QxNd3gcP+8vBIFcAwMXFoshZqov7e9t6f90g3L117Us3JlT0tbtlDIKK2U70FEacS1uFqqTU8Xa5V49MjUwzsO7Hp6dOTwVLUWgzA/97Lmas43r1wBFlNoWRPFppBJG+ZM2stlU1rpVOCByPd1qVQrV8JyNTKWlaJSudrZUTjxionyL86/DwH+P+bCTUU0eV6aAjSYpgANpilAg2kK0GCaAjSYpgANpilAg2kK0GCaAjSYpgANpilAg2kK0GCaAjSYpgANpilAg2kK0GCaAjSYpgANpilAg2kK0GCaAjSYpgANpilAg2kK0GCaAjSYpgANpilAg2kK0GCaAjSYpgAN5v8BzTqdrZI2XG8AAAAASUVORK5CYII=",
         "type": "image",
         "xaxis": "x",
         "yaxis": "y"
        }
       ],
       "layout": {
        "annotations": [
         {
          "align": "left",
          "bgcolor": "#ff7f0e",
          "bordercolor": "#c7c7c7",
          "borderpad": 2,
          "borderwidth": 1,
          "font": {
           "color": "#ffffff",
           "family": "Courier New, monospace",
           "size": 12
          },
          "opacity": 0.8,
          "showarrow": false,
          "text": "Unown: 11%",
          "x": 1,
          "xref": "paper",
          "y": 1,
          "yref": "paper"
         }
        ],
        "height": 350,
        "images": [
         {
          "layer": "below",
          "sizex": 0.3,
          "sizey": 0.3,
          "source": "images/final/Unown/1.png",
          "x": 1,
          "xref": "paper",
          "y": 1.1,
          "yref": "paper"
         }
        ],
        "margin": {
         "l": 0,
         "t": 60
        },
        "shapes": [
         {
          "line": {
           "color": "black",
           "width": 2
          },
          "type": "rect",
          "x0": 0,
          "x1": 128,
          "xref": "x",
          "y0": 0,
          "y1": 128,
          "yref": "y"
         }
        ],
        "template": {
         "data": {
          "bar": [
           {
            "error_x": {
             "color": "#2a3f5f"
            },
            "error_y": {
             "color": "#2a3f5f"
            },
            "marker": {
             "line": {
              "color": "#E5ECF6",
              "width": 0.5
             },
             "pattern": {
              "fillmode": "overlay",
              "size": 10,
              "solidity": 0.2
             }
            },
            "type": "bar"
           }
          ],
          "barpolar": [
           {
            "marker": {
             "line": {
              "color": "#E5ECF6",
              "width": 0.5
             },
             "pattern": {
              "fillmode": "overlay",
              "size": 10,
              "solidity": 0.2
             }
            },
            "type": "barpolar"
           }
          ],
          "carpet": [
           {
            "aaxis": {
             "endlinecolor": "#2a3f5f",
             "gridcolor": "white",
             "linecolor": "white",
             "minorgridcolor": "white",
             "startlinecolor": "#2a3f5f"
            },
            "baxis": {
             "endlinecolor": "#2a3f5f",
             "gridcolor": "white",
             "linecolor": "white",
             "minorgridcolor": "white",
             "startlinecolor": "#2a3f5f"
            },
            "type": "carpet"
           }
          ],
          "choropleth": [
           {
            "colorbar": {
             "outlinewidth": 0,
             "ticks": ""
            },
            "type": "choropleth"
           }
          ],
          "contour": [
           {
            "colorbar": {
             "outlinewidth": 0,
             "ticks": ""
            },
            "colorscale": [
             [
              0,
              "#0d0887"
             ],
             [
              0.1111111111111111,
              "#46039f"
             ],
             [
              0.2222222222222222,
              "#7201a8"
             ],
             [
              0.3333333333333333,
              "#9c179e"
             ],
             [
              0.4444444444444444,
              "#bd3786"
             ],
             [
              0.5555555555555556,
              "#d8576b"
             ],
             [
              0.6666666666666666,
              "#ed7953"
             ],
             [
              0.7777777777777778,
              "#fb9f3a"
             ],
             [
              0.8888888888888888,
              "#fdca26"
             ],
             [
              1,
              "#f0f921"
             ]
            ],
            "type": "contour"
           }
          ],
          "contourcarpet": [
           {
            "colorbar": {
             "outlinewidth": 0,
             "ticks": ""
            },
            "type": "contourcarpet"
           }
          ],
          "heatmap": [
           {
            "colorbar": {
             "outlinewidth": 0,
             "ticks": ""
            },
            "colorscale": [
             [
              0,
              "#0d0887"
             ],
             [
              0.1111111111111111,
              "#46039f"
             ],
             [
              0.2222222222222222,
              "#7201a8"
             ],
             [
              0.3333333333333333,
              "#9c179e"
             ],
             [
              0.4444444444444444,
              "#bd3786"
             ],
             [
              0.5555555555555556,
              "#d8576b"
             ],
             [
              0.6666666666666666,
              "#ed7953"
             ],
             [
              0.7777777777777778,
              "#fb9f3a"
             ],
             [
              0.8888888888888888,
              "#fdca26"
             ],
             [
              1,
              "#f0f921"
             ]
            ],
            "type": "heatmap"
           }
          ],
          "heatmapgl": [
           {
            "colorbar": {
             "outlinewidth": 0,
             "ticks": ""
            },
            "colorscale": [
             [
              0,
              "#0d0887"
             ],
             [
              0.1111111111111111,
              "#46039f"
             ],
             [
              0.2222222222222222,
              "#7201a8"
             ],
             [
              0.3333333333333333,
              "#9c179e"
             ],
             [
              0.4444444444444444,
              "#bd3786"
             ],
             [
              0.5555555555555556,
              "#d8576b"
             ],
             [
              0.6666666666666666,
              "#ed7953"
             ],
             [
              0.7777777777777778,
              "#fb9f3a"
             ],
             [
              0.8888888888888888,
              "#fdca26"
             ],
             [
              1,
              "#f0f921"
             ]
            ],
            "type": "heatmapgl"
           }
          ],
          "histogram": [
           {
            "marker": {
             "pattern": {
              "fillmode": "overlay",
              "size": 10,
              "solidity": 0.2
             }
            },
            "type": "histogram"
           }
          ],
          "histogram2d": [
           {
            "colorbar": {
             "outlinewidth": 0,
             "ticks": ""
            },
            "colorscale": [
             [
              0,
              "#0d0887"
             ],
             [
              0.1111111111111111,
              "#46039f"
             ],
             [
              0.2222222222222222,
              "#7201a8"
             ],
             [
              0.3333333333333333,
              "#9c179e"
             ],
             [
              0.4444444444444444,
              "#bd3786"
             ],
             [
              0.5555555555555556,
              "#d8576b"
             ],
             [
              0.6666666666666666,
              "#ed7953"
             ],
             [
              0.7777777777777778,
              "#fb9f3a"
             ],
             [
              0.8888888888888888,
              "#fdca26"
             ],
             [
              1,
              "#f0f921"
             ]
            ],
            "type": "histogram2d"
           }
          ],
          "histogram2dcontour": [
           {
            "colorbar": {
             "outlinewidth": 0,
             "ticks": ""
            },
            "colorscale": [
             [
              0,
              "#0d0887"
             ],
             [
              0.1111111111111111,
              "#46039f"
             ],
             [
              0.2222222222222222,
              "#7201a8"
             ],
             [
              0.3333333333333333,
              "#9c179e"
             ],
             [
              0.4444444444444444,
              "#bd3786"
             ],
             [
              0.5555555555555556,
              "#d8576b"
             ],
             [
              0.6666666666666666,
              "#ed7953"
             ],
             [
              0.7777777777777778,
              "#fb9f3a"
             ],
             [
              0.8888888888888888,
              "#fdca26"
             ],
             [
              1,
              "#f0f921"
             ]
            ],
            "type": "histogram2dcontour"
           }
          ],
          "mesh3d": [
           {
            "colorbar": {
             "outlinewidth": 0,
             "ticks": ""
            },
            "type": "mesh3d"
           }
          ],
          "parcoords": [
           {
            "line": {
             "colorbar": {
              "outlinewidth": 0,
              "ticks": ""
             }
            },
            "type": "parcoords"
           }
          ],
          "pie": [
           {
            "automargin": true,
            "type": "pie"
           }
          ],
          "scatter": [
           {
            "fillpattern": {
             "fillmode": "overlay",
             "size": 10,
             "solidity": 0.2
            },
            "type": "scatter"
           }
          ],
          "scatter3d": [
           {
            "line": {
             "colorbar": {
              "outlinewidth": 0,
              "ticks": ""
             }
            },
            "marker": {
             "colorbar": {
              "outlinewidth": 0,
              "ticks": ""
             }
            },
            "type": "scatter3d"
           }
          ],
          "scattercarpet": [
           {
            "marker": {
             "colorbar": {
              "outlinewidth": 0,
              "ticks": ""
             }
            },
            "type": "scattercarpet"
           }
          ],
          "scattergeo": [
           {
            "marker": {
             "colorbar": {
              "outlinewidth": 0,
              "ticks": ""
             }
            },
            "type": "scattergeo"
           }
          ],
          "scattergl": [
           {
            "marker": {
             "colorbar": {
              "outlinewidth": 0,
              "ticks": ""
             }
            },
            "type": "scattergl"
           }
          ],
          "scattermapbox": [
           {
            "marker": {
             "colorbar": {
              "outlinewidth": 0,
              "ticks": ""
             }
            },
            "type": "scattermapbox"
           }
          ],
          "scatterpolar": [
           {
            "marker": {
             "colorbar": {
              "outlinewidth": 0,
              "ticks": ""
             }
            },
            "type": "scatterpolar"
           }
          ],
          "scatterpolargl": [
           {
            "marker": {
             "colorbar": {
              "outlinewidth": 0,
              "ticks": ""
             }
            },
            "type": "scatterpolargl"
           }
          ],
          "scatterternary": [
           {
            "marker": {
             "colorbar": {
              "outlinewidth": 0,
              "ticks": ""
             }
            },
            "type": "scatterternary"
           }
          ],
          "surface": [
           {
            "colorbar": {
             "outlinewidth": 0,
             "ticks": ""
            },
            "colorscale": [
             [
              0,
              "#0d0887"
             ],
             [
              0.1111111111111111,
              "#46039f"
             ],
             [
              0.2222222222222222,
              "#7201a8"
             ],
             [
              0.3333333333333333,
              "#9c179e"
             ],
             [
              0.4444444444444444,
              "#bd3786"
             ],
             [
              0.5555555555555556,
              "#d8576b"
             ],
             [
              0.6666666666666666,
              "#ed7953"
             ],
             [
              0.7777777777777778,
              "#fb9f3a"
             ],
             [
              0.8888888888888888,
              "#fdca26"
             ],
             [
              1,
              "#f0f921"
             ]
            ],
            "type": "surface"
           }
          ],
          "table": [
           {
            "cells": {
             "fill": {
              "color": "#EBF0F8"
             },
             "line": {
              "color": "white"
             }
            },
            "header": {
             "fill": {
              "color": "#C8D4E3"
             },
             "line": {
              "color": "white"
             }
            },
            "type": "table"
           }
          ]
         },
         "layout": {
          "annotationdefaults": {
           "arrowcolor": "#2a3f5f",
           "arrowhead": 0,
           "arrowwidth": 1
          },
          "autotypenumbers": "strict",
          "coloraxis": {
           "colorbar": {
            "outlinewidth": 0,
            "ticks": ""
           }
          },
          "colorscale": {
           "diverging": [
            [
             0,
             "#8e0152"
            ],
            [
             0.1,
             "#c51b7d"
            ],
            [
             0.2,
             "#de77ae"
            ],
            [
             0.3,
             "#f1b6da"
            ],
            [
             0.4,
             "#fde0ef"
            ],
            [
             0.5,
             "#f7f7f7"
            ],
            [
             0.6,
             "#e6f5d0"
            ],
            [
             0.7,
             "#b8e186"
            ],
            [
             0.8,
             "#7fbc41"
            ],
            [
             0.9,
             "#4d9221"
            ],
            [
             1,
             "#276419"
            ]
           ],
           "sequential": [
            [
             0,
             "#0d0887"
            ],
            [
             0.1111111111111111,
             "#46039f"
            ],
            [
             0.2222222222222222,
             "#7201a8"
            ],
            [
             0.3333333333333333,
             "#9c179e"
            ],
            [
             0.4444444444444444,
             "#bd3786"
            ],
            [
             0.5555555555555556,
             "#d8576b"
            ],
            [
             0.6666666666666666,
             "#ed7953"
            ],
            [
             0.7777777777777778,
             "#fb9f3a"
            ],
            [
             0.8888888888888888,
             "#fdca26"
            ],
            [
             1,
             "#f0f921"
            ]
           ],
           "sequentialminus": [
            [
             0,
             "#0d0887"
            ],
            [
             0.1111111111111111,
             "#46039f"
            ],
            [
             0.2222222222222222,
             "#7201a8"
            ],
            [
             0.3333333333333333,
             "#9c179e"
            ],
            [
             0.4444444444444444,
             "#bd3786"
            ],
            [
             0.5555555555555556,
             "#d8576b"
            ],
            [
             0.6666666666666666,
             "#ed7953"
            ],
            [
             0.7777777777777778,
             "#fb9f3a"
            ],
            [
             0.8888888888888888,
             "#fdca26"
            ],
            [
             1,
             "#f0f921"
            ]
           ]
          },
          "colorway": [
           "#636efa",
           "#EF553B",
           "#00cc96",
           "#ab63fa",
           "#FFA15A",
           "#19d3f3",
           "#FF6692",
           "#B6E880",
           "#FF97FF",
           "#FECB52"
          ],
          "font": {
           "color": "#2a3f5f"
          },
          "geo": {
           "bgcolor": "white",
           "lakecolor": "white",
           "landcolor": "#E5ECF6",
           "showlakes": true,
           "showland": true,
           "subunitcolor": "white"
          },
          "hoverlabel": {
           "align": "left"
          },
          "hovermode": "closest",
          "mapbox": {
           "style": "light"
          },
          "paper_bgcolor": "white",
          "plot_bgcolor": "#E5ECF6",
          "polar": {
           "angularaxis": {
            "gridcolor": "white",
            "linecolor": "white",
            "ticks": ""
           },
           "bgcolor": "#E5ECF6",
           "radialaxis": {
            "gridcolor": "white",
            "linecolor": "white",
            "ticks": ""
           }
          },
          "scene": {
           "xaxis": {
            "backgroundcolor": "#E5ECF6",
            "gridcolor": "white",
            "gridwidth": 2,
            "linecolor": "white",
            "showbackground": true,
            "ticks": "",
            "zerolinecolor": "white"
           },
           "yaxis": {
            "backgroundcolor": "#E5ECF6",
            "gridcolor": "white",
            "gridwidth": 2,
            "linecolor": "white",
            "showbackground": true,
            "ticks": "",
            "zerolinecolor": "white"
           },
           "zaxis": {
            "backgroundcolor": "#E5ECF6",
            "gridcolor": "white",
            "gridwidth": 2,
            "linecolor": "white",
            "showbackground": true,
            "ticks": "",
            "zerolinecolor": "white"
           }
          },
          "shapedefaults": {
           "line": {
            "color": "#2a3f5f"
           }
          },
          "ternary": {
           "aaxis": {
            "gridcolor": "white",
            "linecolor": "white",
            "ticks": ""
           },
           "baxis": {
            "gridcolor": "white",
            "linecolor": "white",
            "ticks": ""
           },
           "bgcolor": "#E5ECF6",
           "caxis": {
            "gridcolor": "white",
            "linecolor": "white",
            "ticks": ""
           }
          },
          "title": {
           "x": 0.05
          },
          "xaxis": {
           "automargin": true,
           "gridcolor": "white",
           "linecolor": "white",
           "ticks": "",
           "title": {
            "standoff": 15
           },
           "zerolinecolor": "white",
           "zerolinewidth": 2
          },
          "yaxis": {
           "automargin": true,
           "gridcolor": "white",
           "linecolor": "white",
           "ticks": "",
           "title": {
            "standoff": 15
           },
           "zerolinecolor": "white",
           "zerolinewidth": 2
          }
         }
        },
        "title": {
         "text": "Label: Wailmer"
        },
        "width": 500,
        "xaxis": {
         "anchor": "y",
         "domain": [
          0,
          1
         ],
         "showgrid": false,
         "showticklabels": false,
         "visible": false,
         "zeroline": false
        },
        "yaxis": {
         "anchor": "x",
         "domain": [
          0,
          1
         ],
         "showgrid": false,
         "showticklabels": false,
         "visible": false,
         "zeroline": false
        }
       }
      }
     },
     "metadata": {},
     "output_type": "display_data"
    },
    {
     "data": {
      "application/vnd.plotly.v1+json": {
       "config": {
        "plotlyServerURL": "https://plot.ly"
       },
       "data": [
        {
         "hovertemplate": "x: %{x}<br>y: %{y}<extra></extra>",
         "name": "0",
         "source": "data:image/png;base64,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",
         "type": "image",
         "xaxis": "x",
         "yaxis": "y"
        }
       ],
       "layout": {
        "height": 350,
        "margin": {
         "l": 0,
         "t": 60
        },
        "shapes": [
         {
          "line": {
           "color": "black",
           "width": 2
          },
          "type": "rect",
          "x0": 0,
          "x1": 128,
          "xref": "x",
          "y0": 0,
          "y1": 128,
          "yref": "y"
         }
        ],
        "template": {
         "data": {
          "bar": [
           {
            "error_x": {
             "color": "#2a3f5f"
            },
            "error_y": {
             "color": "#2a3f5f"
            },
            "marker": {
             "line": {
              "color": "#E5ECF6",
              "width": 0.5
             },
             "pattern": {
              "fillmode": "overlay",
              "size": 10,
              "solidity": 0.2
             }
            },
            "type": "bar"
           }
          ],
          "barpolar": [
           {
            "marker": {
             "line": {
              "color": "#E5ECF6",
              "width": 0.5
             },
             "pattern": {
              "fillmode": "overlay",
              "size": 10,
              "solidity": 0.2
             }
            },
            "type": "barpolar"
           }
          ],
          "carpet": [
           {
            "aaxis": {
             "endlinecolor": "#2a3f5f",
             "gridcolor": "white",
             "linecolor": "white",
             "minorgridcolor": "white",
             "startlinecolor": "#2a3f5f"
            },
            "baxis": {
             "endlinecolor": "#2a3f5f",
             "gridcolor": "white",
             "linecolor": "white",
             "minorgridcolor": "white",
             "startlinecolor": "#2a3f5f"
            },
            "type": "carpet"
           }
          ],
          "choropleth": [
           {
            "colorbar": {
             "outlinewidth": 0,
             "ticks": ""
            },
            "type": "choropleth"
           }
          ],
          "contour": [
           {
            "colorbar": {
             "outlinewidth": 0,
             "ticks": ""
            },
            "colorscale": [
             [
              0,
              "#0d0887"
             ],
             [
              0.1111111111111111,
              "#46039f"
             ],
             [
              0.2222222222222222,
              "#7201a8"
             ],
             [
              0.3333333333333333,
              "#9c179e"
             ],
             [
              0.4444444444444444,
              "#bd3786"
             ],
             [
              0.5555555555555556,
              "#d8576b"
             ],
             [
              0.6666666666666666,
              "#ed7953"
             ],
             [
              0.7777777777777778,
              "#fb9f3a"
             ],
             [
              0.8888888888888888,
              "#fdca26"
             ],
             [
              1,
              "#f0f921"
             ]
            ],
            "type": "contour"
           }
          ],
          "contourcarpet": [
           {
            "colorbar": {
             "outlinewidth": 0,
             "ticks": ""
            },
            "type": "contourcarpet"
           }
          ],
          "heatmap": [
           {
            "colorbar": {
             "outlinewidth": 0,
             "ticks": ""
            },
            "colorscale": [
             [
              0,
              "#0d0887"
             ],
             [
              0.1111111111111111,
              "#46039f"
             ],
             [
              0.2222222222222222,
              "#7201a8"
             ],
             [
              0.3333333333333333,
              "#9c179e"
             ],
             [
              0.4444444444444444,
              "#bd3786"
             ],
             [
              0.5555555555555556,
              "#d8576b"
             ],
             [
              0.6666666666666666,
              "#ed7953"
             ],
             [
              0.7777777777777778,
              "#fb9f3a"
             ],
             [
              0.8888888888888888,
              "#fdca26"
             ],
             [
              1,
              "#f0f921"
             ]
            ],
            "type": "heatmap"
           }
          ],
          "heatmapgl": [
           {
            "colorbar": {
             "outlinewidth": 0,
             "ticks": ""
            },
            "colorscale": [
             [
              0,
              "#0d0887"
             ],
             [
              0.1111111111111111,
              "#46039f"
             ],
             [
              0.2222222222222222,
              "#7201a8"
             ],
             [
              0.3333333333333333,
              "#9c179e"
             ],
             [
              0.4444444444444444,
              "#bd3786"
             ],
             [
              0.5555555555555556,
              "#d8576b"
             ],
             [
              0.6666666666666666,
              "#ed7953"
             ],
             [
              0.7777777777777778,
              "#fb9f3a"
             ],
             [
              0.8888888888888888,
              "#fdca26"
             ],
             [
              1,
              "#f0f921"
             ]
            ],
            "type": "heatmapgl"
           }
          ],
          "histogram": [
           {
            "marker": {
             "pattern": {
              "fillmode": "overlay",
              "size": 10,
              "solidity": 0.2
             }
            },
            "type": "histogram"
           }
          ],
          "histogram2d": [
           {
            "colorbar": {
             "outlinewidth": 0,
             "ticks": ""
            },
            "colorscale": [
             [
              0,
              "#0d0887"
             ],
             [
              0.1111111111111111,
              "#46039f"
             ],
             [
              0.2222222222222222,
              "#7201a8"
             ],
             [
              0.3333333333333333,
              "#9c179e"
             ],
             [
              0.4444444444444444,
              "#bd3786"
             ],
             [
              0.5555555555555556,
              "#d8576b"
             ],
             [
              0.6666666666666666,
              "#ed7953"
             ],
             [
              0.7777777777777778,
              "#fb9f3a"
             ],
             [
              0.8888888888888888,
              "#fdca26"
             ],
             [
              1,
              "#f0f921"
             ]
            ],
            "type": "histogram2d"
           }
          ],
          "histogram2dcontour": [
           {
            "colorbar": {
             "outlinewidth": 0,
             "ticks": ""
            },
            "colorscale": [
             [
              0,
              "#0d0887"
             ],
             [
              0.1111111111111111,
              "#46039f"
             ],
             [
              0.2222222222222222,
              "#7201a8"
             ],
             [
              0.3333333333333333,
              "#9c179e"
             ],
             [
              0.4444444444444444,
              "#bd3786"
             ],
             [
              0.5555555555555556,
              "#d8576b"
             ],
             [
              0.6666666666666666,
              "#ed7953"
             ],
             [
              0.7777777777777778,
              "#fb9f3a"
             ],
             [
              0.8888888888888888,
              "#fdca26"
             ],
             [
              1,
              "#f0f921"
             ]
            ],
            "type": "histogram2dcontour"
           }
          ],
          "mesh3d": [
           {
            "colorbar": {
             "outlinewidth": 0,
             "ticks": ""
            },
            "type": "mesh3d"
           }
          ],
          "parcoords": [
           {
            "line": {
             "colorbar": {
              "outlinewidth": 0,
              "ticks": ""
             }
            },
            "type": "parcoords"
           }
          ],
          "pie": [
           {
            "automargin": true,
            "type": "pie"
           }
          ],
          "scatter": [
           {
            "fillpattern": {
             "fillmode": "overlay",
             "size": 10,
             "solidity": 0.2
            },
            "type": "scatter"
           }
          ],
          "scatter3d": [
           {
            "line": {
             "colorbar": {
              "outlinewidth": 0,
              "ticks": ""
             }
            },
            "marker": {
             "colorbar": {
              "outlinewidth": 0,
              "ticks": ""
             }
            },
            "type": "scatter3d"
           }
          ],
          "scattercarpet": [
           {
            "marker": {
             "colorbar": {
              "outlinewidth": 0,
              "ticks": ""
             }
            },
            "type": "scattercarpet"
           }
          ],
          "scattergeo": [
           {
            "marker": {
             "colorbar": {
              "outlinewidth": 0,
              "ticks": ""
             }
            },
            "type": "scattergeo"
           }
          ],
          "scattergl": [
           {
            "marker": {
             "colorbar": {
              "outlinewidth": 0,
              "ticks": ""
             }
            },
            "type": "scattergl"
           }
          ],
          "scattermapbox": [
           {
            "marker": {
             "colorbar": {
              "outlinewidth": 0,
              "ticks": ""
             }
            },
            "type": "scattermapbox"
           }
          ],
          "scatterpolar": [
           {
            "marker": {
             "colorbar": {
              "outlinewidth": 0,
              "ticks": ""
             }
            },
            "type": "scatterpolar"
           }
          ],
          "scatterpolargl": [
           {
            "marker": {
             "colorbar": {
              "outlinewidth": 0,
              "ticks": ""
             }
            },
            "type": "scatterpolargl"
           }
          ],
          "scatterternary": [
           {
            "marker": {
             "colorbar": {
              "outlinewidth": 0,
              "ticks": ""
             }
            },
            "type": "scatterternary"
           }
          ],
          "surface": [
           {
            "colorbar": {
             "outlinewidth": 0,
             "ticks": ""
            },
            "colorscale": [
             [
              0,
              "#0d0887"
             ],
             [
              0.1111111111111111,
              "#46039f"
             ],
             [
              0.2222222222222222,
              "#7201a8"
             ],
             [
              0.3333333333333333,
              "#9c179e"
             ],
             [
              0.4444444444444444,
              "#bd3786"
             ],
             [
              0.5555555555555556,
              "#d8576b"
             ],
             [
              0.6666666666666666,
              "#ed7953"
             ],
             [
              0.7777777777777778,
              "#fb9f3a"
             ],
             [
              0.8888888888888888,
              "#fdca26"
             ],
             [
              1,
              "#f0f921"
             ]
            ],
            "type": "surface"
           }
          ],
          "table": [
           {
            "cells": {
             "fill": {
              "color": "#EBF0F8"
             },
             "line": {
              "color": "white"
             }
            },
            "header": {
             "fill": {
              "color": "#C8D4E3"
             },
             "line": {
              "color": "white"
             }
            },
            "type": "table"
           }
          ]
         },
         "layout": {
          "annotationdefaults": {
           "arrowcolor": "#2a3f5f",
           "arrowhead": 0,
           "arrowwidth": 1
          },
          "autotypenumbers": "strict",
          "coloraxis": {
           "colorbar": {
            "outlinewidth": 0,
            "ticks": ""
           }
          },
          "colorscale": {
           "diverging": [
            [
             0,
             "#8e0152"
            ],
            [
             0.1,
             "#c51b7d"
            ],
            [
             0.2,
             "#de77ae"
            ],
            [
             0.3,
             "#f1b6da"
            ],
            [
             0.4,
             "#fde0ef"
            ],
            [
             0.5,
             "#f7f7f7"
            ],
            [
             0.6,
             "#e6f5d0"
            ],
            [
             0.7,
             "#b8e186"
            ],
            [
             0.8,
             "#7fbc41"
            ],
            [
             0.9,
             "#4d9221"
            ],
            [
             1,
             "#276419"
            ]
           ],
           "sequential": [
            [
             0,
             "#0d0887"
            ],
            [
             0.1111111111111111,
             "#46039f"
            ],
            [
             0.2222222222222222,
             "#7201a8"
            ],
            [
             0.3333333333333333,
             "#9c179e"
            ],
            [
             0.4444444444444444,
             "#bd3786"
            ],
            [
             0.5555555555555556,
             "#d8576b"
            ],
            [
             0.6666666666666666,
             "#ed7953"
            ],
            [
             0.7777777777777778,
             "#fb9f3a"
            ],
            [
             0.8888888888888888,
             "#fdca26"
            ],
            [
             1,
             "#f0f921"
            ]
           ],
           "sequentialminus": [
            [
             0,
             "#0d0887"
            ],
            [
             0.1111111111111111,
             "#46039f"
            ],
            [
             0.2222222222222222,
             "#7201a8"
            ],
            [
             0.3333333333333333,
             "#9c179e"
            ],
            [
             0.4444444444444444,
             "#bd3786"
            ],
            [
             0.5555555555555556,
             "#d8576b"
            ],
            [
             0.6666666666666666,
             "#ed7953"
            ],
            [
             0.7777777777777778,
             "#fb9f3a"
            ],
            [
             0.8888888888888888,
             "#fdca26"
            ],
            [
             1,
             "#f0f921"
            ]
           ]
          },
          "colorway": [
           "#636efa",
           "#EF553B",
           "#00cc96",
           "#ab63fa",
           "#FFA15A",
           "#19d3f3",
           "#FF6692",
           "#B6E880",
           "#FF97FF",
           "#FECB52"
          ],
          "font": {
           "color": "#2a3f5f"
          },
          "geo": {
           "bgcolor": "white",
           "lakecolor": "white",
           "landcolor": "#E5ECF6",
           "showlakes": true,
           "showland": true,
           "subunitcolor": "white"
          },
          "hoverlabel": {
           "align": "left"
          },
          "hovermode": "closest",
          "mapbox": {
           "style": "light"
          },
          "paper_bgcolor": "white",
          "plot_bgcolor": "#E5ECF6",
          "polar": {
           "angularaxis": {
            "gridcolor": "white",
            "linecolor": "white",
            "ticks": ""
           },
           "bgcolor": "#E5ECF6",
           "radialaxis": {
            "gridcolor": "white",
            "linecolor": "white",
            "ticks": ""
           }
          },
          "scene": {
           "xaxis": {
            "backgroundcolor": "#E5ECF6",
            "gridcolor": "white",
            "gridwidth": 2,
            "linecolor": "white",
            "showbackground": true,
            "ticks": "",
            "zerolinecolor": "white"
           },
           "yaxis": {
            "backgroundcolor": "#E5ECF6",
            "gridcolor": "white",
            "gridwidth": 2,
            "linecolor": "white",
            "showbackground": true,
            "ticks": "",
            "zerolinecolor": "white"
           },
           "zaxis": {
            "backgroundcolor": "#E5ECF6",
            "gridcolor": "white",
            "gridwidth": 2,
            "linecolor": "white",
            "showbackground": true,
            "ticks": "",
            "zerolinecolor": "white"
           }
          },
          "shapedefaults": {
           "line": {
            "color": "#2a3f5f"
           }
          },
          "ternary": {
           "aaxis": {
            "gridcolor": "white",
            "linecolor": "white",
            "ticks": ""
           },
           "baxis": {
            "gridcolor": "white",
            "linecolor": "white",
            "ticks": ""
           },
           "bgcolor": "#E5ECF6",
           "caxis": {
            "gridcolor": "white",
            "linecolor": "white",
            "ticks": ""
           }
          },
          "title": {
           "x": 0.05
          },
          "xaxis": {
           "automargin": true,
           "gridcolor": "white",
           "linecolor": "white",
           "ticks": "",
           "title": {
            "standoff": 15
           },
           "zerolinecolor": "white",
           "zerolinewidth": 2
          },
          "yaxis": {
           "automargin": true,
           "gridcolor": "white",
           "linecolor": "white",
           "ticks": "",
           "title": {
            "standoff": 15
           },
           "zerolinecolor": "white",
           "zerolinewidth": 2
          }
         }
        },
        "title": {
         "text": "Label: Gastly"
        },
        "width": 500,
        "xaxis": {
         "anchor": "y",
         "domain": [
          0,
          1
         ],
         "showgrid": false,
         "showticklabels": false,
         "visible": false,
         "zeroline": false
        },
        "yaxis": {
         "anchor": "x",
         "domain": [
          0,
          1
         ],
         "showgrid": false,
         "showticklabels": false,
         "visible": false,
         "zeroline": false
        }
       }
      }
     },
     "metadata": {},
     "output_type": "display_data"
    },
    {
     "data": {
      "application/vnd.plotly.v1+json": {
       "config": {
        "plotlyServerURL": "https://plot.ly"
       },
       "data": [
        {
         "hovertemplate": "x: %{x}<br>y: %{y}<extra></extra>",
         "name": "0",
         "source": "data:image/png;base64,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",
         "type": "image",
         "xaxis": "x",
         "yaxis": "y"
        }
       ],
       "layout": {
        "annotations": [
         {
          "align": "left",
          "bgcolor": "#ff7f0e",
          "bordercolor": "#c7c7c7",
          "borderpad": 2,
          "borderwidth": 1,
          "font": {
           "color": "#ffffff",
           "family": "Courier New, monospace",
           "size": 12
          },
          "opacity": 0.8,
          "showarrow": false,
          "text": "Unown: 6%",
          "x": 1,
          "xref": "paper",
          "y": 1,
          "yref": "paper"
         }
        ],
        "height": 350,
        "images": [
         {
          "layer": "below",
          "sizex": 0.3,
          "sizey": 0.3,
          "source": "images/final/Unown/1.png",
          "x": 1,
          "xref": "paper",
          "y": 1.1,
          "yref": "paper"
         }
        ],
        "margin": {
         "l": 0,
         "t": 60
        },
        "shapes": [
         {
          "line": {
           "color": "black",
           "width": 2
          },
          "type": "rect",
          "x0": 0,
          "x1": 128,
          "xref": "x",
          "y0": 0,
          "y1": 128,
          "yref": "y"
         }
        ],
        "template": {
         "data": {
          "bar": [
           {
            "error_x": {
             "color": "#2a3f5f"
            },
            "error_y": {
             "color": "#2a3f5f"
            },
            "marker": {
             "line": {
              "color": "#E5ECF6",
              "width": 0.5
             },
             "pattern": {
              "fillmode": "overlay",
              "size": 10,
              "solidity": 0.2
             }
            },
            "type": "bar"
           }
          ],
          "barpolar": [
           {
            "marker": {
             "line": {
              "color": "#E5ECF6",
              "width": 0.5
             },
             "pattern": {
              "fillmode": "overlay",
              "size": 10,
              "solidity": 0.2
             }
            },
            "type": "barpolar"
           }
          ],
          "carpet": [
           {
            "aaxis": {
             "endlinecolor": "#2a3f5f",
             "gridcolor": "white",
             "linecolor": "white",
             "minorgridcolor": "white",
             "startlinecolor": "#2a3f5f"
            },
            "baxis": {
             "endlinecolor": "#2a3f5f",
             "gridcolor": "white",
             "linecolor": "white",
             "minorgridcolor": "white",
             "startlinecolor": "#2a3f5f"
            },
            "type": "carpet"
           }
          ],
          "choropleth": [
           {
            "colorbar": {
             "outlinewidth": 0,
             "ticks": ""
            },
            "type": "choropleth"
           }
          ],
          "contour": [
           {
            "colorbar": {
             "outlinewidth": 0,
             "ticks": ""
            },
            "colorscale": [
             [
              0,
              "#0d0887"
             ],
             [
              0.1111111111111111,
              "#46039f"
             ],
             [
              0.2222222222222222,
              "#7201a8"
             ],
             [
              0.3333333333333333,
              "#9c179e"
             ],
             [
              0.4444444444444444,
              "#bd3786"
             ],
             [
              0.5555555555555556,
              "#d8576b"
             ],
             [
              0.6666666666666666,
              "#ed7953"
             ],
             [
              0.7777777777777778,
              "#fb9f3a"
             ],
             [
              0.8888888888888888,
              "#fdca26"
             ],
             [
              1,
              "#f0f921"
             ]
            ],
            "type": "contour"
           }
          ],
          "contourcarpet": [
           {
            "colorbar": {
             "outlinewidth": 0,
             "ticks": ""
            },
            "type": "contourcarpet"
           }
          ],
          "heatmap": [
           {
            "colorbar": {
             "outlinewidth": 0,
             "ticks": ""
            },
            "colorscale": [
             [
              0,
              "#0d0887"
             ],
             [
              0.1111111111111111,
              "#46039f"
             ],
             [
              0.2222222222222222,
              "#7201a8"
             ],
             [
              0.3333333333333333,
              "#9c179e"
             ],
             [
              0.4444444444444444,
              "#bd3786"
             ],
             [
              0.5555555555555556,
              "#d8576b"
             ],
             [
              0.6666666666666666,
              "#ed7953"
             ],
             [
              0.7777777777777778,
              "#fb9f3a"
             ],
             [
              0.8888888888888888,
              "#fdca26"
             ],
             [
              1,
              "#f0f921"
             ]
            ],
            "type": "heatmap"
           }
          ],
          "heatmapgl": [
           {
            "colorbar": {
             "outlinewidth": 0,
             "ticks": ""
            },
            "colorscale": [
             [
              0,
              "#0d0887"
             ],
             [
              0.1111111111111111,
              "#46039f"
             ],
             [
              0.2222222222222222,
              "#7201a8"
             ],
             [
              0.3333333333333333,
              "#9c179e"
             ],
             [
              0.4444444444444444,
              "#bd3786"
             ],
             [
              0.5555555555555556,
              "#d8576b"
             ],
             [
              0.6666666666666666,
              "#ed7953"
             ],
             [
              0.7777777777777778,
              "#fb9f3a"
             ],
             [
              0.8888888888888888,
              "#fdca26"
             ],
             [
              1,
              "#f0f921"
             ]
            ],
            "type": "heatmapgl"
           }
          ],
          "histogram": [
           {
            "marker": {
             "pattern": {
              "fillmode": "overlay",
              "size": 10,
              "solidity": 0.2
             }
            },
            "type": "histogram"
           }
          ],
          "histogram2d": [
           {
            "colorbar": {
             "outlinewidth": 0,
             "ticks": ""
            },
            "colorscale": [
             [
              0,
              "#0d0887"
             ],
             [
              0.1111111111111111,
              "#46039f"
             ],
             [
              0.2222222222222222,
              "#7201a8"
             ],
             [
              0.3333333333333333,
              "#9c179e"
             ],
             [
              0.4444444444444444,
              "#bd3786"
             ],
             [
              0.5555555555555556,
              "#d8576b"
             ],
             [
              0.6666666666666666,
              "#ed7953"
             ],
             [
              0.7777777777777778,
              "#fb9f3a"
             ],
             [
              0.8888888888888888,
              "#fdca26"
             ],
             [
              1,
              "#f0f921"
             ]
            ],
            "type": "histogram2d"
           }
          ],
          "histogram2dcontour": [
           {
            "colorbar": {
             "outlinewidth": 0,
             "ticks": ""
            },
            "colorscale": [
             [
              0,
              "#0d0887"
             ],
             [
              0.1111111111111111,
              "#46039f"
             ],
             [
              0.2222222222222222,
              "#7201a8"
             ],
             [
              0.3333333333333333,
              "#9c179e"
             ],
             [
              0.4444444444444444,
              "#bd3786"
             ],
             [
              0.5555555555555556,
              "#d8576b"
             ],
             [
              0.6666666666666666,
              "#ed7953"
             ],
             [
              0.7777777777777778,
              "#fb9f3a"
             ],
             [
              0.8888888888888888,
              "#fdca26"
             ],
             [
              1,
              "#f0f921"
             ]
            ],
            "type": "histogram2dcontour"
           }
          ],
          "mesh3d": [
           {
            "colorbar": {
             "outlinewidth": 0,
             "ticks": ""
            },
            "type": "mesh3d"
           }
          ],
          "parcoords": [
           {
            "line": {
             "colorbar": {
              "outlinewidth": 0,
              "ticks": ""
             }
            },
            "type": "parcoords"
           }
          ],
          "pie": [
           {
            "automargin": true,
            "type": "pie"
           }
          ],
          "scatter": [
           {
            "fillpattern": {
             "fillmode": "overlay",
             "size": 10,
             "solidity": 0.2
            },
            "type": "scatter"
           }
          ],
          "scatter3d": [
           {
            "line": {
             "colorbar": {
              "outlinewidth": 0,
              "ticks": ""
             }
            },
            "marker": {
             "colorbar": {
              "outlinewidth": 0,
              "ticks": ""
             }
            },
            "type": "scatter3d"
           }
          ],
          "scattercarpet": [
           {
            "marker": {
             "colorbar": {
              "outlinewidth": 0,
              "ticks": ""
             }
            },
            "type": "scattercarpet"
           }
          ],
          "scattergeo": [
           {
            "marker": {
             "colorbar": {
              "outlinewidth": 0,
              "ticks": ""
             }
            },
            "type": "scattergeo"
           }
          ],
          "scattergl": [
           {
            "marker": {
             "colorbar": {
              "outlinewidth": 0,
              "ticks": ""
             }
            },
            "type": "scattergl"
           }
          ],
          "scattermapbox": [
           {
            "marker": {
             "colorbar": {
              "outlinewidth": 0,
              "ticks": ""
             }
            },
            "type": "scattermapbox"
           }
          ],
          "scatterpolar": [
           {
            "marker": {
             "colorbar": {
              "outlinewidth": 0,
              "ticks": ""
             }
            },
            "type": "scatterpolar"
           }
          ],
          "scatterpolargl": [
           {
            "marker": {
             "colorbar": {
              "outlinewidth": 0,
              "ticks": ""
             }
            },
            "type": "scatterpolargl"
           }
          ],
          "scatterternary": [
           {
            "marker": {
             "colorbar": {
              "outlinewidth": 0,
              "ticks": ""
             }
            },
            "type": "scatterternary"
           }
          ],
          "surface": [
           {
            "colorbar": {
             "outlinewidth": 0,
             "ticks": ""
            },
            "colorscale": [
             [
              0,
              "#0d0887"
             ],
             [
              0.1111111111111111,
              "#46039f"
             ],
             [
              0.2222222222222222,
              "#7201a8"
             ],
             [
              0.3333333333333333,
              "#9c179e"
             ],
             [
              0.4444444444444444,
              "#bd3786"
             ],
             [
              0.5555555555555556,
              "#d8576b"
             ],
             [
              0.6666666666666666,
              "#ed7953"
             ],
             [
              0.7777777777777778,
              "#fb9f3a"
             ],
             [
              0.8888888888888888,
              "#fdca26"
             ],
             [
              1,
              "#f0f921"
             ]
            ],
            "type": "surface"
           }
          ],
          "table": [
           {
            "cells": {
             "fill": {
              "color": "#EBF0F8"
             },
             "line": {
              "color": "white"
             }
            },
            "header": {
             "fill": {
              "color": "#C8D4E3"
             },
             "line": {
              "color": "white"
             }
            },
            "type": "table"
           }
          ]
         },
         "layout": {
          "annotationdefaults": {
           "arrowcolor": "#2a3f5f",
           "arrowhead": 0,
           "arrowwidth": 1
          },
          "autotypenumbers": "strict",
          "coloraxis": {
           "colorbar": {
            "outlinewidth": 0,
            "ticks": ""
           }
          },
          "colorscale": {
           "diverging": [
            [
             0,
             "#8e0152"
            ],
            [
             0.1,
             "#c51b7d"
            ],
            [
             0.2,
             "#de77ae"
            ],
            [
             0.3,
             "#f1b6da"
            ],
            [
             0.4,
             "#fde0ef"
            ],
            [
             0.5,
             "#f7f7f7"
            ],
            [
             0.6,
             "#e6f5d0"
            ],
            [
             0.7,
             "#b8e186"
            ],
            [
             0.8,
             "#7fbc41"
            ],
            [
             0.9,
             "#4d9221"
            ],
            [
             1,
             "#276419"
            ]
           ],
           "sequential": [
            [
             0,
             "#0d0887"
            ],
            [
             0.1111111111111111,
             "#46039f"
            ],
            [
             0.2222222222222222,
             "#7201a8"
            ],
            [
             0.3333333333333333,
             "#9c179e"
            ],
            [
             0.4444444444444444,
             "#bd3786"
            ],
            [
             0.5555555555555556,
             "#d8576b"
            ],
            [
             0.6666666666666666,
             "#ed7953"
            ],
            [
             0.7777777777777778,
             "#fb9f3a"
            ],
            [
             0.8888888888888888,
             "#fdca26"
            ],
            [
             1,
             "#f0f921"
            ]
           ],
           "sequentialminus": [
            [
             0,
             "#0d0887"
            ],
            [
             0.1111111111111111,
             "#46039f"
            ],
            [
             0.2222222222222222,
             "#7201a8"
            ],
            [
             0.3333333333333333,
             "#9c179e"
            ],
            [
             0.4444444444444444,
             "#bd3786"
            ],
            [
             0.5555555555555556,
             "#d8576b"
            ],
            [
             0.6666666666666666,
             "#ed7953"
            ],
            [
             0.7777777777777778,
             "#fb9f3a"
            ],
            [
             0.8888888888888888,
             "#fdca26"
            ],
            [
             1,
             "#f0f921"
            ]
           ]
          },
          "colorway": [
           "#636efa",
           "#EF553B",
           "#00cc96",
           "#ab63fa",
           "#FFA15A",
           "#19d3f3",
           "#FF6692",
           "#B6E880",
           "#FF97FF",
           "#FECB52"
          ],
          "font": {
           "color": "#2a3f5f"
          },
          "geo": {
           "bgcolor": "white",
           "lakecolor": "white",
           "landcolor": "#E5ECF6",
           "showlakes": true,
           "showland": true,
           "subunitcolor": "white"
          },
          "hoverlabel": {
           "align": "left"
          },
          "hovermode": "closest",
          "mapbox": {
           "style": "light"
          },
          "paper_bgcolor": "white",
          "plot_bgcolor": "#E5ECF6",
          "polar": {
           "angularaxis": {
            "gridcolor": "white",
            "linecolor": "white",
            "ticks": ""
           },
           "bgcolor": "#E5ECF6",
           "radialaxis": {
            "gridcolor": "white",
            "linecolor": "white",
            "ticks": ""
           }
          },
          "scene": {
           "xaxis": {
            "backgroundcolor": "#E5ECF6",
            "gridcolor": "white",
            "gridwidth": 2,
            "linecolor": "white",
            "showbackground": true,
            "ticks": "",
            "zerolinecolor": "white"
           },
           "yaxis": {
            "backgroundcolor": "#E5ECF6",
            "gridcolor": "white",
            "gridwidth": 2,
            "linecolor": "white",
            "showbackground": true,
            "ticks": "",
            "zerolinecolor": "white"
           },
           "zaxis": {
            "backgroundcolor": "#E5ECF6",
            "gridcolor": "white",
            "gridwidth": 2,
            "linecolor": "white",
            "showbackground": true,
            "ticks": "",
            "zerolinecolor": "white"
           }
          },
          "shapedefaults": {
           "line": {
            "color": "#2a3f5f"
           }
          },
          "ternary": {
           "aaxis": {
            "gridcolor": "white",
            "linecolor": "white",
            "ticks": ""
           },
           "baxis": {
            "gridcolor": "white",
            "linecolor": "white",
            "ticks": ""
           },
           "bgcolor": "#E5ECF6",
           "caxis": {
            "gridcolor": "white",
            "linecolor": "white",
            "ticks": ""
           }
          },
          "title": {
           "x": 0.05
          },
          "xaxis": {
           "automargin": true,
           "gridcolor": "white",
           "linecolor": "white",
           "ticks": "",
           "title": {
            "standoff": 15
           },
           "zerolinecolor": "white",
           "zerolinewidth": 2
          },
          "yaxis": {
           "automargin": true,
           "gridcolor": "white",
           "linecolor": "white",
           "ticks": "",
           "title": {
            "standoff": 15
           },
           "zerolinecolor": "white",
           "zerolinewidth": 2
          }
         }
        },
        "title": {
         "text": "Label: Gastly"
        },
        "width": 500,
        "xaxis": {
         "anchor": "y",
         "domain": [
          0,
          1
         ],
         "showgrid": false,
         "showticklabels": false,
         "visible": false,
         "zeroline": false
        },
        "yaxis": {
         "anchor": "x",
         "domain": [
          0,
          1
         ],
         "showgrid": false,
         "showticklabels": false,
         "visible": false,
         "zeroline": false
        }
       }
      }
     },
     "metadata": {},
     "output_type": "display_data"
    },
    {
     "data": {
      "application/vnd.plotly.v1+json": {
       "config": {
        "plotlyServerURL": "https://plot.ly"
       },
       "data": [
        {
         "hovertemplate": "x: %{x}<br>y: %{y}<extra></extra>",
         "name": "0",
         "source": "data:image/png;base64,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",
         "type": "image",
         "xaxis": "x",
         "yaxis": "y"
        }
       ],
       "layout": {
        "annotations": [
         {
          "align": "left",
          "bgcolor": "#ff7f0e",
          "bordercolor": "#c7c7c7",
          "borderpad": 2,
          "borderwidth": 1,
          "font": {
           "color": "#ffffff",
           "family": "Courier New, monospace",
           "size": 12
          },
          "opacity": 0.8,
          "showarrow": false,
          "text": "Vivillon: 74%",
          "x": 1,
          "xref": "paper",
          "y": 1,
          "yref": "paper"
         }
        ],
        "height": 350,
        "images": [
         {
          "layer": "below",
          "sizex": 0.3,
          "sizey": 0.3,
          "source": "images/final/Vivillon/1.png",
          "x": 1,
          "xref": "paper",
          "y": 1.1,
          "yref": "paper"
         }
        ],
        "margin": {
         "l": 0,
         "t": 60
        },
        "shapes": [
         {
          "line": {
           "color": "black",
           "width": 2
          },
          "type": "rect",
          "x0": 0,
          "x1": 128,
          "xref": "x",
          "y0": 0,
          "y1": 128,
          "yref": "y"
         }
        ],
        "template": {
         "data": {
          "bar": [
           {
            "error_x": {
             "color": "#2a3f5f"
            },
            "error_y": {
             "color": "#2a3f5f"
            },
            "marker": {
             "line": {
              "color": "#E5ECF6",
              "width": 0.5
             },
             "pattern": {
              "fillmode": "overlay",
              "size": 10,
              "solidity": 0.2
             }
            },
            "type": "bar"
           }
          ],
          "barpolar": [
           {
            "marker": {
             "line": {
              "color": "#E5ECF6",
              "width": 0.5
             },
             "pattern": {
              "fillmode": "overlay",
              "size": 10,
              "solidity": 0.2
             }
            },
            "type": "barpolar"
           }
          ],
          "carpet": [
           {
            "aaxis": {
             "endlinecolor": "#2a3f5f",
             "gridcolor": "white",
             "linecolor": "white",
             "minorgridcolor": "white",
             "startlinecolor": "#2a3f5f"
            },
            "baxis": {
             "endlinecolor": "#2a3f5f",
             "gridcolor": "white",
             "linecolor": "white",
             "minorgridcolor": "white",
             "startlinecolor": "#2a3f5f"
            },
            "type": "carpet"
           }
          ],
          "choropleth": [
           {
            "colorbar": {
             "outlinewidth": 0,
             "ticks": ""
            },
            "type": "choropleth"
           }
          ],
          "contour": [
           {
            "colorbar": {
             "outlinewidth": 0,
             "ticks": ""
            },
            "colorscale": [
             [
              0,
              "#0d0887"
             ],
             [
              0.1111111111111111,
              "#46039f"
             ],
             [
              0.2222222222222222,
              "#7201a8"
             ],
             [
              0.3333333333333333,
              "#9c179e"
             ],
             [
              0.4444444444444444,
              "#bd3786"
             ],
             [
              0.5555555555555556,
              "#d8576b"
             ],
             [
              0.6666666666666666,
              "#ed7953"
             ],
             [
              0.7777777777777778,
              "#fb9f3a"
             ],
             [
              0.8888888888888888,
              "#fdca26"
             ],
             [
              1,
              "#f0f921"
             ]
            ],
            "type": "contour"
           }
          ],
          "contourcarpet": [
           {
            "colorbar": {
             "outlinewidth": 0,
             "ticks": ""
            },
            "type": "contourcarpet"
           }
          ],
          "heatmap": [
           {
            "colorbar": {
             "outlinewidth": 0,
             "ticks": ""
            },
            "colorscale": [
             [
              0,
              "#0d0887"
             ],
             [
              0.1111111111111111,
              "#46039f"
             ],
             [
              0.2222222222222222,
              "#7201a8"
             ],
             [
              0.3333333333333333,
              "#9c179e"
             ],
             [
              0.4444444444444444,
              "#bd3786"
             ],
             [
              0.5555555555555556,
              "#d8576b"
             ],
             [
              0.6666666666666666,
              "#ed7953"
             ],
             [
              0.7777777777777778,
              "#fb9f3a"
             ],
             [
              0.8888888888888888,
              "#fdca26"
             ],
             [
              1,
              "#f0f921"
             ]
            ],
            "type": "heatmap"
           }
          ],
          "heatmapgl": [
           {
            "colorbar": {
             "outlinewidth": 0,
             "ticks": ""
            },
            "colorscale": [
             [
              0,
              "#0d0887"
             ],
             [
              0.1111111111111111,
              "#46039f"
             ],
             [
              0.2222222222222222,
              "#7201a8"
             ],
             [
              0.3333333333333333,
              "#9c179e"
             ],
             [
              0.4444444444444444,
              "#bd3786"
             ],
             [
              0.5555555555555556,
              "#d8576b"
             ],
             [
              0.6666666666666666,
              "#ed7953"
             ],
             [
              0.7777777777777778,
              "#fb9f3a"
             ],
             [
              0.8888888888888888,
              "#fdca26"
             ],
             [
              1,
              "#f0f921"
             ]
            ],
            "type": "heatmapgl"
           }
          ],
          "histogram": [
           {
            "marker": {
             "pattern": {
              "fillmode": "overlay",
              "size": 10,
              "solidity": 0.2
             }
            },
            "type": "histogram"
           }
          ],
          "histogram2d": [
           {
            "colorbar": {
             "outlinewidth": 0,
             "ticks": ""
            },
            "colorscale": [
             [
              0,
              "#0d0887"
             ],
             [
              0.1111111111111111,
              "#46039f"
             ],
             [
              0.2222222222222222,
              "#7201a8"
             ],
             [
              0.3333333333333333,
              "#9c179e"
             ],
             [
              0.4444444444444444,
              "#bd3786"
             ],
             [
              0.5555555555555556,
              "#d8576b"
             ],
             [
              0.6666666666666666,
              "#ed7953"
             ],
             [
              0.7777777777777778,
              "#fb9f3a"
             ],
             [
              0.8888888888888888,
              "#fdca26"
             ],
             [
              1,
              "#f0f921"
             ]
            ],
            "type": "histogram2d"
           }
          ],
          "histogram2dcontour": [
           {
            "colorbar": {
             "outlinewidth": 0,
             "ticks": ""
            },
            "colorscale": [
             [
              0,
              "#0d0887"
             ],
             [
              0.1111111111111111,
              "#46039f"
             ],
             [
              0.2222222222222222,
              "#7201a8"
             ],
             [
              0.3333333333333333,
              "#9c179e"
             ],
             [
              0.4444444444444444,
              "#bd3786"
             ],
             [
              0.5555555555555556,
              "#d8576b"
             ],
             [
              0.6666666666666666,
              "#ed7953"
             ],
             [
              0.7777777777777778,
              "#fb9f3a"
             ],
             [
              0.8888888888888888,
              "#fdca26"
             ],
             [
              1,
              "#f0f921"
             ]
            ],
            "type": "histogram2dcontour"
           }
          ],
          "mesh3d": [
           {
            "colorbar": {
             "outlinewidth": 0,
             "ticks": ""
            },
            "type": "mesh3d"
           }
          ],
          "parcoords": [
           {
            "line": {
             "colorbar": {
              "outlinewidth": 0,
              "ticks": ""
             }
            },
            "type": "parcoords"
           }
          ],
          "pie": [
           {
            "automargin": true,
            "type": "pie"
           }
          ],
          "scatter": [
           {
            "fillpattern": {
             "fillmode": "overlay",
             "size": 10,
             "solidity": 0.2
            },
            "type": "scatter"
           }
          ],
          "scatter3d": [
           {
            "line": {
             "colorbar": {
              "outlinewidth": 0,
              "ticks": ""
             }
            },
            "marker": {
             "colorbar": {
              "outlinewidth": 0,
              "ticks": ""
             }
            },
            "type": "scatter3d"
           }
          ],
          "scattercarpet": [
           {
            "marker": {
             "colorbar": {
              "outlinewidth": 0,
              "ticks": ""
             }
            },
            "type": "scattercarpet"
           }
          ],
          "scattergeo": [
           {
            "marker": {
             "colorbar": {
              "outlinewidth": 0,
              "ticks": ""
             }
            },
            "type": "scattergeo"
           }
          ],
          "scattergl": [
           {
            "marker": {
             "colorbar": {
              "outlinewidth": 0,
              "ticks": ""
             }
            },
            "type": "scattergl"
           }
          ],
          "scattermapbox": [
           {
            "marker": {
             "colorbar": {
              "outlinewidth": 0,
              "ticks": ""
             }
            },
            "type": "scattermapbox"
           }
          ],
          "scatterpolar": [
           {
            "marker": {
             "colorbar": {
              "outlinewidth": 0,
              "ticks": ""
             }
            },
            "type": "scatterpolar"
           }
          ],
          "scatterpolargl": [
           {
            "marker": {
             "colorbar": {
              "outlinewidth": 0,
              "ticks": ""
             }
            },
            "type": "scatterpolargl"
           }
          ],
          "scatterternary": [
           {
            "marker": {
             "colorbar": {
              "outlinewidth": 0,
              "ticks": ""
             }
            },
            "type": "scatterternary"
           }
          ],
          "surface": [
           {
            "colorbar": {
             "outlinewidth": 0,
             "ticks": ""
            },
            "colorscale": [
             [
              0,
              "#0d0887"
             ],
             [
              0.1111111111111111,
              "#46039f"
             ],
             [
              0.2222222222222222,
              "#7201a8"
             ],
             [
              0.3333333333333333,
              "#9c179e"
             ],
             [
              0.4444444444444444,
              "#bd3786"
             ],
             [
              0.5555555555555556,
              "#d8576b"
             ],
             [
              0.6666666666666666,
              "#ed7953"
             ],
             [
              0.7777777777777778,
              "#fb9f3a"
             ],
             [
              0.8888888888888888,
              "#fdca26"
             ],
             [
              1,
              "#f0f921"
             ]
            ],
            "type": "surface"
           }
          ],
          "table": [
           {
            "cells": {
             "fill": {
              "color": "#EBF0F8"
             },
             "line": {
              "color": "white"
             }
            },
            "header": {
             "fill": {
              "color": "#C8D4E3"
             },
             "line": {
              "color": "white"
             }
            },
            "type": "table"
           }
          ]
         },
         "layout": {
          "annotationdefaults": {
           "arrowcolor": "#2a3f5f",
           "arrowhead": 0,
           "arrowwidth": 1
          },
          "autotypenumbers": "strict",
          "coloraxis": {
           "colorbar": {
            "outlinewidth": 0,
            "ticks": ""
           }
          },
          "colorscale": {
           "diverging": [
            [
             0,
             "#8e0152"
            ],
            [
             0.1,
             "#c51b7d"
            ],
            [
             0.2,
             "#de77ae"
            ],
            [
             0.3,
             "#f1b6da"
            ],
            [
             0.4,
             "#fde0ef"
            ],
            [
             0.5,
             "#f7f7f7"
            ],
            [
             0.6,
             "#e6f5d0"
            ],
            [
             0.7,
             "#b8e186"
            ],
            [
             0.8,
             "#7fbc41"
            ],
            [
             0.9,
             "#4d9221"
            ],
            [
             1,
             "#276419"
            ]
           ],
           "sequential": [
            [
             0,
             "#0d0887"
            ],
            [
             0.1111111111111111,
             "#46039f"
            ],
            [
             0.2222222222222222,
             "#7201a8"
            ],
            [
             0.3333333333333333,
             "#9c179e"
            ],
            [
             0.4444444444444444,
             "#bd3786"
            ],
            [
             0.5555555555555556,
             "#d8576b"
            ],
            [
             0.6666666666666666,
             "#ed7953"
            ],
            [
             0.7777777777777778,
             "#fb9f3a"
            ],
            [
             0.8888888888888888,
             "#fdca26"
            ],
            [
             1,
             "#f0f921"
            ]
           ],
           "sequentialminus": [
            [
             0,
             "#0d0887"
            ],
            [
             0.1111111111111111,
             "#46039f"
            ],
            [
             0.2222222222222222,
             "#7201a8"
            ],
            [
             0.3333333333333333,
             "#9c179e"
            ],
            [
             0.4444444444444444,
             "#bd3786"
            ],
            [
             0.5555555555555556,
             "#d8576b"
            ],
            [
             0.6666666666666666,
             "#ed7953"
            ],
            [
             0.7777777777777778,
             "#fb9f3a"
            ],
            [
             0.8888888888888888,
             "#fdca26"
            ],
            [
             1,
             "#f0f921"
            ]
           ]
          },
          "colorway": [
           "#636efa",
           "#EF553B",
           "#00cc96",
           "#ab63fa",
           "#FFA15A",
           "#19d3f3",
           "#FF6692",
           "#B6E880",
           "#FF97FF",
           "#FECB52"
          ],
          "font": {
           "color": "#2a3f5f"
          },
          "geo": {
           "bgcolor": "white",
           "lakecolor": "white",
           "landcolor": "#E5ECF6",
           "showlakes": true,
           "showland": true,
           "subunitcolor": "white"
          },
          "hoverlabel": {
           "align": "left"
          },
          "hovermode": "closest",
          "mapbox": {
           "style": "light"
          },
          "paper_bgcolor": "white",
          "plot_bgcolor": "#E5ECF6",
          "polar": {
           "angularaxis": {
            "gridcolor": "white",
            "linecolor": "white",
            "ticks": ""
           },
           "bgcolor": "#E5ECF6",
           "radialaxis": {
            "gridcolor": "white",
            "linecolor": "white",
            "ticks": ""
           }
          },
          "scene": {
           "xaxis": {
            "backgroundcolor": "#E5ECF6",
            "gridcolor": "white",
            "gridwidth": 2,
            "linecolor": "white",
            "showbackground": true,
            "ticks": "",
            "zerolinecolor": "white"
           },
           "yaxis": {
            "backgroundcolor": "#E5ECF6",
            "gridcolor": "white",
            "gridwidth": 2,
            "linecolor": "white",
            "showbackground": true,
            "ticks": "",
            "zerolinecolor": "white"
           },
           "zaxis": {
            "backgroundcolor": "#E5ECF6",
            "gridcolor": "white",
            "gridwidth": 2,
            "linecolor": "white",
            "showbackground": true,
            "ticks": "",
            "zerolinecolor": "white"
           }
          },
          "shapedefaults": {
           "line": {
            "color": "#2a3f5f"
           }
          },
          "ternary": {
           "aaxis": {
            "gridcolor": "white",
            "linecolor": "white",
            "ticks": ""
           },
           "baxis": {
            "gridcolor": "white",
            "linecolor": "white",
            "ticks": ""
           },
           "bgcolor": "#E5ECF6",
           "caxis": {
            "gridcolor": "white",
            "linecolor": "white",
            "ticks": ""
           }
          },
          "title": {
           "x": 0.05
          },
          "xaxis": {
           "automargin": true,
           "gridcolor": "white",
           "linecolor": "white",
           "ticks": "",
           "title": {
            "standoff": 15
           },
           "zerolinecolor": "white",
           "zerolinewidth": 2
          },
          "yaxis": {
           "automargin": true,
           "gridcolor": "white",
           "linecolor": "white",
           "ticks": "",
           "title": {
            "standoff": 15
           },
           "zerolinecolor": "white",
           "zerolinewidth": 2
          }
         }
        },
        "title": {
         "text": "Label: Vivillon"
        },
        "width": 500,
        "xaxis": {
         "anchor": "y",
         "domain": [
          0,
          1
         ],
         "showgrid": false,
         "showticklabels": false,
         "visible": false,
         "zeroline": false
        },
        "yaxis": {
         "anchor": "x",
         "domain": [
          0,
          1
         ],
         "showgrid": false,
         "showticklabels": false,
         "visible": false,
         "zeroline": false
        }
       }
      }
     },
     "metadata": {},
     "output_type": "display_data"
    },
    {
     "data": {
      "application/vnd.plotly.v1+json": {
       "config": {
        "plotlyServerURL": "https://plot.ly"
       },
       "data": [
        {
         "hovertemplate": "x: %{x}<br>y: %{y}<extra></extra>",
         "name": "0",
         "source": "data:image/png;base64,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",
         "type": "image",
         "xaxis": "x",
         "yaxis": "y"
        }
       ],
       "layout": {
        "height": 350,
        "margin": {
         "l": 0,
         "t": 60
        },
        "shapes": [
         {
          "line": {
           "color": "black",
           "width": 2
          },
          "type": "rect",
          "x0": 0,
          "x1": 128,
          "xref": "x",
          "y0": 0,
          "y1": 128,
          "yref": "y"
         }
        ],
        "template": {
         "data": {
          "bar": [
           {
            "error_x": {
             "color": "#2a3f5f"
            },
            "error_y": {
             "color": "#2a3f5f"
            },
            "marker": {
             "line": {
              "color": "#E5ECF6",
              "width": 0.5
             },
             "pattern": {
              "fillmode": "overlay",
              "size": 10,
              "solidity": 0.2
             }
            },
            "type": "bar"
           }
          ],
          "barpolar": [
           {
            "marker": {
             "line": {
              "color": "#E5ECF6",
              "width": 0.5
             },
             "pattern": {
              "fillmode": "overlay",
              "size": 10,
              "solidity": 0.2
             }
            },
            "type": "barpolar"
           }
          ],
          "carpet": [
           {
            "aaxis": {
             "endlinecolor": "#2a3f5f",
             "gridcolor": "white",
             "linecolor": "white",
             "minorgridcolor": "white",
             "startlinecolor": "#2a3f5f"
            },
            "baxis": {
             "endlinecolor": "#2a3f5f",
             "gridcolor": "white",
             "linecolor": "white",
             "minorgridcolor": "white",
             "startlinecolor": "#2a3f5f"
            },
            "type": "carpet"
           }
          ],
          "choropleth": [
           {
            "colorbar": {
             "outlinewidth": 0,
             "ticks": ""
            },
            "type": "choropleth"
           }
          ],
          "contour": [
           {
            "colorbar": {
             "outlinewidth": 0,
             "ticks": ""
            },
            "colorscale": [
             [
              0,
              "#0d0887"
             ],
             [
              0.1111111111111111,
              "#46039f"
             ],
             [
              0.2222222222222222,
              "#7201a8"
             ],
             [
              0.3333333333333333,
              "#9c179e"
             ],
             [
              0.4444444444444444,
              "#bd3786"
             ],
             [
              0.5555555555555556,
              "#d8576b"
             ],
             [
              0.6666666666666666,
              "#ed7953"
             ],
             [
              0.7777777777777778,
              "#fb9f3a"
             ],
             [
              0.8888888888888888,
              "#fdca26"
             ],
             [
              1,
              "#f0f921"
             ]
            ],
            "type": "contour"
           }
          ],
          "contourcarpet": [
           {
            "colorbar": {
             "outlinewidth": 0,
             "ticks": ""
            },
            "type": "contourcarpet"
           }
          ],
          "heatmap": [
           {
            "colorbar": {
             "outlinewidth": 0,
             "ticks": ""
            },
            "colorscale": [
             [
              0,
              "#0d0887"
             ],
             [
              0.1111111111111111,
              "#46039f"
             ],
             [
              0.2222222222222222,
              "#7201a8"
             ],
             [
              0.3333333333333333,
              "#9c179e"
             ],
             [
              0.4444444444444444,
              "#bd3786"
             ],
             [
              0.5555555555555556,
              "#d8576b"
             ],
             [
              0.6666666666666666,
              "#ed7953"
             ],
             [
              0.7777777777777778,
              "#fb9f3a"
             ],
             [
              0.8888888888888888,
              "#fdca26"
             ],
             [
              1,
              "#f0f921"
             ]
            ],
            "type": "heatmap"
           }
          ],
          "heatmapgl": [
           {
            "colorbar": {
             "outlinewidth": 0,
             "ticks": ""
            },
            "colorscale": [
             [
              0,
              "#0d0887"
             ],
             [
              0.1111111111111111,
              "#46039f"
             ],
             [
              0.2222222222222222,
              "#7201a8"
             ],
             [
              0.3333333333333333,
              "#9c179e"
             ],
             [
              0.4444444444444444,
              "#bd3786"
             ],
             [
              0.5555555555555556,
              "#d8576b"
             ],
             [
              0.6666666666666666,
              "#ed7953"
             ],
             [
              0.7777777777777778,
              "#fb9f3a"
             ],
             [
              0.8888888888888888,
              "#fdca26"
             ],
             [
              1,
              "#f0f921"
             ]
            ],
            "type": "heatmapgl"
           }
          ],
          "histogram": [
           {
            "marker": {
             "pattern": {
              "fillmode": "overlay",
              "size": 10,
              "solidity": 0.2
             }
            },
            "type": "histogram"
           }
          ],
          "histogram2d": [
           {
            "colorbar": {
             "outlinewidth": 0,
             "ticks": ""
            },
            "colorscale": [
             [
              0,
              "#0d0887"
             ],
             [
              0.1111111111111111,
              "#46039f"
             ],
             [
              0.2222222222222222,
              "#7201a8"
             ],
             [
              0.3333333333333333,
              "#9c179e"
             ],
             [
              0.4444444444444444,
              "#bd3786"
             ],
             [
              0.5555555555555556,
              "#d8576b"
             ],
             [
              0.6666666666666666,
              "#ed7953"
             ],
             [
              0.7777777777777778,
              "#fb9f3a"
             ],
             [
              0.8888888888888888,
              "#fdca26"
             ],
             [
              1,
              "#f0f921"
             ]
            ],
            "type": "histogram2d"
           }
          ],
          "histogram2dcontour": [
           {
            "colorbar": {
             "outlinewidth": 0,
             "ticks": ""
            },
            "colorscale": [
             [
              0,
              "#0d0887"
             ],
             [
              0.1111111111111111,
              "#46039f"
             ],
             [
              0.2222222222222222,
              "#7201a8"
             ],
             [
              0.3333333333333333,
              "#9c179e"
             ],
             [
              0.4444444444444444,
              "#bd3786"
             ],
             [
              0.5555555555555556,
              "#d8576b"
             ],
             [
              0.6666666666666666,
              "#ed7953"
             ],
             [
              0.7777777777777778,
              "#fb9f3a"
             ],
             [
              0.8888888888888888,
              "#fdca26"
             ],
             [
              1,
              "#f0f921"
             ]
            ],
            "type": "histogram2dcontour"
           }
          ],
          "mesh3d": [
           {
            "colorbar": {
             "outlinewidth": 0,
             "ticks": ""
            },
            "type": "mesh3d"
           }
          ],
          "parcoords": [
           {
            "line": {
             "colorbar": {
              "outlinewidth": 0,
              "ticks": ""
             }
            },
            "type": "parcoords"
           }
          ],
          "pie": [
           {
            "automargin": true,
            "type": "pie"
           }
          ],
          "scatter": [
           {
            "fillpattern": {
             "fillmode": "overlay",
             "size": 10,
             "solidity": 0.2
            },
            "type": "scatter"
           }
          ],
          "scatter3d": [
           {
            "line": {
             "colorbar": {
              "outlinewidth": 0,
              "ticks": ""
             }
            },
            "marker": {
             "colorbar": {
              "outlinewidth": 0,
              "ticks": ""
             }
            },
            "type": "scatter3d"
           }
          ],
          "scattercarpet": [
           {
            "marker": {
             "colorbar": {
              "outlinewidth": 0,
              "ticks": ""
             }
            },
            "type": "scattercarpet"
           }
          ],
          "scattergeo": [
           {
            "marker": {
             "colorbar": {
              "outlinewidth": 0,
              "ticks": ""
             }
            },
            "type": "scattergeo"
           }
          ],
          "scattergl": [
           {
            "marker": {
             "colorbar": {
              "outlinewidth": 0,
              "ticks": ""
             }
            },
            "type": "scattergl"
           }
          ],
          "scattermapbox": [
           {
            "marker": {
             "colorbar": {
              "outlinewidth": 0,
              "ticks": ""
             }
            },
            "type": "scattermapbox"
           }
          ],
          "scatterpolar": [
           {
            "marker": {
             "colorbar": {
              "outlinewidth": 0,
              "ticks": ""
             }
            },
            "type": "scatterpolar"
           }
          ],
          "scatterpolargl": [
           {
            "marker": {
             "colorbar": {
              "outlinewidth": 0,
              "ticks": ""
             }
            },
            "type": "scatterpolargl"
           }
          ],
          "scatterternary": [
           {
            "marker": {
             "colorbar": {
              "outlinewidth": 0,
              "ticks": ""
             }
            },
            "type": "scatterternary"
           }
          ],
          "surface": [
           {
            "colorbar": {
             "outlinewidth": 0,
             "ticks": ""
            },
            "colorscale": [
             [
              0,
              "#0d0887"
             ],
             [
              0.1111111111111111,
              "#46039f"
             ],
             [
              0.2222222222222222,
              "#7201a8"
             ],
             [
              0.3333333333333333,
              "#9c179e"
             ],
             [
              0.4444444444444444,
              "#bd3786"
             ],
             [
              0.5555555555555556,
              "#d8576b"
             ],
             [
              0.6666666666666666,
              "#ed7953"
             ],
             [
              0.7777777777777778,
              "#fb9f3a"
             ],
             [
              0.8888888888888888,
              "#fdca26"
             ],
             [
              1,
              "#f0f921"
             ]
            ],
            "type": "surface"
           }
          ],
          "table": [
           {
            "cells": {
             "fill": {
              "color": "#EBF0F8"
             },
             "line": {
              "color": "white"
             }
            },
            "header": {
             "fill": {
              "color": "#C8D4E3"
             },
             "line": {
              "color": "white"
             }
            },
            "type": "table"
           }
          ]
         },
         "layout": {
          "annotationdefaults": {
           "arrowcolor": "#2a3f5f",
           "arrowhead": 0,
           "arrowwidth": 1
          },
          "autotypenumbers": "strict",
          "coloraxis": {
           "colorbar": {
            "outlinewidth": 0,
            "ticks": ""
           }
          },
          "colorscale": {
           "diverging": [
            [
             0,
             "#8e0152"
            ],
            [
             0.1,
             "#c51b7d"
            ],
            [
             0.2,
             "#de77ae"
            ],
            [
             0.3,
             "#f1b6da"
            ],
            [
             0.4,
             "#fde0ef"
            ],
            [
             0.5,
             "#f7f7f7"
            ],
            [
             0.6,
             "#e6f5d0"
            ],
            [
             0.7,
             "#b8e186"
            ],
            [
             0.8,
             "#7fbc41"
            ],
            [
             0.9,
             "#4d9221"
            ],
            [
             1,
             "#276419"
            ]
           ],
           "sequential": [
            [
             0,
             "#0d0887"
            ],
            [
             0.1111111111111111,
             "#46039f"
            ],
            [
             0.2222222222222222,
             "#7201a8"
            ],
            [
             0.3333333333333333,
             "#9c179e"
            ],
            [
             0.4444444444444444,
             "#bd3786"
            ],
            [
             0.5555555555555556,
             "#d8576b"
            ],
            [
             0.6666666666666666,
             "#ed7953"
            ],
            [
             0.7777777777777778,
             "#fb9f3a"
            ],
            [
             0.8888888888888888,
             "#fdca26"
            ],
            [
             1,
             "#f0f921"
            ]
           ],
           "sequentialminus": [
            [
             0,
             "#0d0887"
            ],
            [
             0.1111111111111111,
             "#46039f"
            ],
            [
             0.2222222222222222,
             "#7201a8"
            ],
            [
             0.3333333333333333,
             "#9c179e"
            ],
            [
             0.4444444444444444,
             "#bd3786"
            ],
            [
             0.5555555555555556,
             "#d8576b"
            ],
            [
             0.6666666666666666,
             "#ed7953"
            ],
            [
             0.7777777777777778,
             "#fb9f3a"
            ],
            [
             0.8888888888888888,
             "#fdca26"
            ],
            [
             1,
             "#f0f921"
            ]
           ]
          },
          "colorway": [
           "#636efa",
           "#EF553B",
           "#00cc96",
           "#ab63fa",
           "#FFA15A",
           "#19d3f3",
           "#FF6692",
           "#B6E880",
           "#FF97FF",
           "#FECB52"
          ],
          "font": {
           "color": "#2a3f5f"
          },
          "geo": {
           "bgcolor": "white",
           "lakecolor": "white",
           "landcolor": "#E5ECF6",
           "showlakes": true,
           "showland": true,
           "subunitcolor": "white"
          },
          "hoverlabel": {
           "align": "left"
          },
          "hovermode": "closest",
          "mapbox": {
           "style": "light"
          },
          "paper_bgcolor": "white",
          "plot_bgcolor": "#E5ECF6",
          "polar": {
           "angularaxis": {
            "gridcolor": "white",
            "linecolor": "white",
            "ticks": ""
           },
           "bgcolor": "#E5ECF6",
           "radialaxis": {
            "gridcolor": "white",
            "linecolor": "white",
            "ticks": ""
           }
          },
          "scene": {
           "xaxis": {
            "backgroundcolor": "#E5ECF6",
            "gridcolor": "white",
            "gridwidth": 2,
            "linecolor": "white",
            "showbackground": true,
            "ticks": "",
            "zerolinecolor": "white"
           },
           "yaxis": {
            "backgroundcolor": "#E5ECF6",
            "gridcolor": "white",
            "gridwidth": 2,
            "linecolor": "white",
            "showbackground": true,
            "ticks": "",
            "zerolinecolor": "white"
           },
           "zaxis": {
            "backgroundcolor": "#E5ECF6",
            "gridcolor": "white",
            "gridwidth": 2,
            "linecolor": "white",
            "showbackground": true,
            "ticks": "",
            "zerolinecolor": "white"
           }
          },
          "shapedefaults": {
           "line": {
            "color": "#2a3f5f"
           }
          },
          "ternary": {
           "aaxis": {
            "gridcolor": "white",
            "linecolor": "white",
            "ticks": ""
           },
           "baxis": {
            "gridcolor": "white",
            "linecolor": "white",
            "ticks": ""
           },
           "bgcolor": "#E5ECF6",
           "caxis": {
            "gridcolor": "white",
            "linecolor": "white",
            "ticks": ""
           }
          },
          "title": {
           "x": 0.05
          },
          "xaxis": {
           "automargin": true,
           "gridcolor": "white",
           "linecolor": "white",
           "ticks": "",
           "title": {
            "standoff": 15
           },
           "zerolinecolor": "white",
           "zerolinewidth": 2
          },
          "yaxis": {
           "automargin": true,
           "gridcolor": "white",
           "linecolor": "white",
           "ticks": "",
           "title": {
            "standoff": 15
           },
           "zerolinecolor": "white",
           "zerolinewidth": 2
          }
         }
        },
        "title": {
         "text": "Label: Vivillon"
        },
        "width": 500,
        "xaxis": {
         "anchor": "y",
         "domain": [
          0,
          1
         ],
         "showgrid": false,
         "showticklabels": false,
         "visible": false,
         "zeroline": false
        },
        "yaxis": {
         "anchor": "x",
         "domain": [
          0,
          1
         ],
         "showgrid": false,
         "showticklabels": false,
         "visible": false,
         "zeroline": false
        }
       }
      }
     },
     "metadata": {},
     "output_type": "display_data"
    },
    {
     "data": {
      "application/vnd.plotly.v1+json": {
       "config": {
        "plotlyServerURL": "https://plot.ly"
       },
       "data": [
        {
         "hovertemplate": "x: %{x}<br>y: %{y}<extra></extra>",
         "name": "0",
         "source": "data:image/png;base64,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",
         "type": "image",
         "xaxis": "x",
         "yaxis": "y"
        }
       ],
       "layout": {
        "height": 350,
        "margin": {
         "l": 0,
         "t": 60
        },
        "shapes": [
         {
          "line": {
           "color": "black",
           "width": 2
          },
          "type": "rect",
          "x0": 0,
          "x1": 128,
          "xref": "x",
          "y0": 0,
          "y1": 128,
          "yref": "y"
         }
        ],
        "template": {
         "data": {
          "bar": [
           {
            "error_x": {
             "color": "#2a3f5f"
            },
            "error_y": {
             "color": "#2a3f5f"
            },
            "marker": {
             "line": {
              "color": "#E5ECF6",
              "width": 0.5
             },
             "pattern": {
              "fillmode": "overlay",
              "size": 10,
              "solidity": 0.2
             }
            },
            "type": "bar"
           }
          ],
          "barpolar": [
           {
            "marker": {
             "line": {
              "color": "#E5ECF6",
              "width": 0.5
             },
             "pattern": {
              "fillmode": "overlay",
              "size": 10,
              "solidity": 0.2
             }
            },
            "type": "barpolar"
           }
          ],
          "carpet": [
           {
            "aaxis": {
             "endlinecolor": "#2a3f5f",
             "gridcolor": "white",
             "linecolor": "white",
             "minorgridcolor": "white",
             "startlinecolor": "#2a3f5f"
            },
            "baxis": {
             "endlinecolor": "#2a3f5f",
             "gridcolor": "white",
             "linecolor": "white",
             "minorgridcolor": "white",
             "startlinecolor": "#2a3f5f"
            },
            "type": "carpet"
           }
          ],
          "choropleth": [
           {
            "colorbar": {
             "outlinewidth": 0,
             "ticks": ""
            },
            "type": "choropleth"
           }
          ],
          "contour": [
           {
            "colorbar": {
             "outlinewidth": 0,
             "ticks": ""
            },
            "colorscale": [
             [
              0,
              "#0d0887"
             ],
             [
              0.1111111111111111,
              "#46039f"
             ],
             [
              0.2222222222222222,
              "#7201a8"
             ],
             [
              0.3333333333333333,
              "#9c179e"
             ],
             [
              0.4444444444444444,
              "#bd3786"
             ],
             [
              0.5555555555555556,
              "#d8576b"
             ],
             [
              0.6666666666666666,
              "#ed7953"
             ],
             [
              0.7777777777777778,
              "#fb9f3a"
             ],
             [
              0.8888888888888888,
              "#fdca26"
             ],
             [
              1,
              "#f0f921"
             ]
            ],
            "type": "contour"
           }
          ],
          "contourcarpet": [
           {
            "colorbar": {
             "outlinewidth": 0,
             "ticks": ""
            },
            "type": "contourcarpet"
           }
          ],
          "heatmap": [
           {
            "colorbar": {
             "outlinewidth": 0,
             "ticks": ""
            },
            "colorscale": [
             [
              0,
              "#0d0887"
             ],
             [
              0.1111111111111111,
              "#46039f"
             ],
             [
              0.2222222222222222,
              "#7201a8"
             ],
             [
              0.3333333333333333,
              "#9c179e"
             ],
             [
              0.4444444444444444,
              "#bd3786"
             ],
             [
              0.5555555555555556,
              "#d8576b"
             ],
             [
              0.6666666666666666,
              "#ed7953"
             ],
             [
              0.7777777777777778,
              "#fb9f3a"
             ],
             [
              0.8888888888888888,
              "#fdca26"
             ],
             [
              1,
              "#f0f921"
             ]
            ],
            "type": "heatmap"
           }
          ],
          "heatmapgl": [
           {
            "colorbar": {
             "outlinewidth": 0,
             "ticks": ""
            },
            "colorscale": [
             [
              0,
              "#0d0887"
             ],
             [
              0.1111111111111111,
              "#46039f"
             ],
             [
              0.2222222222222222,
              "#7201a8"
             ],
             [
              0.3333333333333333,
              "#9c179e"
             ],
             [
              0.4444444444444444,
              "#bd3786"
             ],
             [
              0.5555555555555556,
              "#d8576b"
             ],
             [
              0.6666666666666666,
              "#ed7953"
             ],
             [
              0.7777777777777778,
              "#fb9f3a"
             ],
             [
              0.8888888888888888,
              "#fdca26"
             ],
             [
              1,
              "#f0f921"
             ]
            ],
            "type": "heatmapgl"
           }
          ],
          "histogram": [
           {
            "marker": {
             "pattern": {
              "fillmode": "overlay",
              "size": 10,
              "solidity": 0.2
             }
            },
            "type": "histogram"
           }
          ],
          "histogram2d": [
           {
            "colorbar": {
             "outlinewidth": 0,
             "ticks": ""
            },
            "colorscale": [
             [
              0,
              "#0d0887"
             ],
             [
              0.1111111111111111,
              "#46039f"
             ],
             [
              0.2222222222222222,
              "#7201a8"
             ],
             [
              0.3333333333333333,
              "#9c179e"
             ],
             [
              0.4444444444444444,
              "#bd3786"
             ],
             [
              0.5555555555555556,
              "#d8576b"
             ],
             [
              0.6666666666666666,
              "#ed7953"
             ],
             [
              0.7777777777777778,
              "#fb9f3a"
             ],
             [
              0.8888888888888888,
              "#fdca26"
             ],
             [
              1,
              "#f0f921"
             ]
            ],
            "type": "histogram2d"
           }
          ],
          "histogram2dcontour": [
           {
            "colorbar": {
             "outlinewidth": 0,
             "ticks": ""
            },
            "colorscale": [
             [
              0,
              "#0d0887"
             ],
             [
              0.1111111111111111,
              "#46039f"
             ],
             [
              0.2222222222222222,
              "#7201a8"
             ],
             [
              0.3333333333333333,
              "#9c179e"
             ],
             [
              0.4444444444444444,
              "#bd3786"
             ],
             [
              0.5555555555555556,
              "#d8576b"
             ],
             [
              0.6666666666666666,
              "#ed7953"
             ],
             [
              0.7777777777777778,
              "#fb9f3a"
             ],
             [
              0.8888888888888888,
              "#fdca26"
             ],
             [
              1,
              "#f0f921"
             ]
            ],
            "type": "histogram2dcontour"
           }
          ],
          "mesh3d": [
           {
            "colorbar": {
             "outlinewidth": 0,
             "ticks": ""
            },
            "type": "mesh3d"
           }
          ],
          "parcoords": [
           {
            "line": {
             "colorbar": {
              "outlinewidth": 0,
              "ticks": ""
             }
            },
            "type": "parcoords"
           }
          ],
          "pie": [
           {
            "automargin": true,
            "type": "pie"
           }
          ],
          "scatter": [
           {
            "fillpattern": {
             "fillmode": "overlay",
             "size": 10,
             "solidity": 0.2
            },
            "type": "scatter"
           }
          ],
          "scatter3d": [
           {
            "line": {
             "colorbar": {
              "outlinewidth": 0,
              "ticks": ""
             }
            },
            "marker": {
             "colorbar": {
              "outlinewidth": 0,
              "ticks": ""
             }
            },
            "type": "scatter3d"
           }
          ],
          "scattercarpet": [
           {
            "marker": {
             "colorbar": {
              "outlinewidth": 0,
              "ticks": ""
             }
            },
            "type": "scattercarpet"
           }
          ],
          "scattergeo": [
           {
            "marker": {
             "colorbar": {
              "outlinewidth": 0,
              "ticks": ""
             }
            },
            "type": "scattergeo"
           }
          ],
          "scattergl": [
           {
            "marker": {
             "colorbar": {
              "outlinewidth": 0,
              "ticks": ""
             }
            },
            "type": "scattergl"
           }
          ],
          "scattermapbox": [
           {
            "marker": {
             "colorbar": {
              "outlinewidth": 0,
              "ticks": ""
             }
            },
            "type": "scattermapbox"
           }
          ],
          "scatterpolar": [
           {
            "marker": {
             "colorbar": {
              "outlinewidth": 0,
              "ticks": ""
             }
            },
            "type": "scatterpolar"
           }
          ],
          "scatterpolargl": [
           {
            "marker": {
             "colorbar": {
              "outlinewidth": 0,
              "ticks": ""
             }
            },
            "type": "scatterpolargl"
           }
          ],
          "scatterternary": [
           {
            "marker": {
             "colorbar": {
              "outlinewidth": 0,
              "ticks": ""
             }
            },
            "type": "scatterternary"
           }
          ],
          "surface": [
           {
            "colorbar": {
             "outlinewidth": 0,
             "ticks": ""
            },
            "colorscale": [
             [
              0,
              "#0d0887"
             ],
             [
              0.1111111111111111,
              "#46039f"
             ],
             [
              0.2222222222222222,
              "#7201a8"
             ],
             [
              0.3333333333333333,
              "#9c179e"
             ],
             [
              0.4444444444444444,
              "#bd3786"
             ],
             [
              0.5555555555555556,
              "#d8576b"
             ],
             [
              0.6666666666666666,
              "#ed7953"
             ],
             [
              0.7777777777777778,
              "#fb9f3a"
             ],
             [
              0.8888888888888888,
              "#fdca26"
             ],
             [
              1,
              "#f0f921"
             ]
            ],
            "type": "surface"
           }
          ],
          "table": [
           {
            "cells": {
             "fill": {
              "color": "#EBF0F8"
             },
             "line": {
              "color": "white"
             }
            },
            "header": {
             "fill": {
              "color": "#C8D4E3"
             },
             "line": {
              "color": "white"
             }
            },
            "type": "table"
           }
          ]
         },
         "layout": {
          "annotationdefaults": {
           "arrowcolor": "#2a3f5f",
           "arrowhead": 0,
           "arrowwidth": 1
          },
          "autotypenumbers": "strict",
          "coloraxis": {
           "colorbar": {
            "outlinewidth": 0,
            "ticks": ""
           }
          },
          "colorscale": {
           "diverging": [
            [
             0,
             "#8e0152"
            ],
            [
             0.1,
             "#c51b7d"
            ],
            [
             0.2,
             "#de77ae"
            ],
            [
             0.3,
             "#f1b6da"
            ],
            [
             0.4,
             "#fde0ef"
            ],
            [
             0.5,
             "#f7f7f7"
            ],
            [
             0.6,
             "#e6f5d0"
            ],
            [
             0.7,
             "#b8e186"
            ],
            [
             0.8,
             "#7fbc41"
            ],
            [
             0.9,
             "#4d9221"
            ],
            [
             1,
             "#276419"
            ]
           ],
           "sequential": [
            [
             0,
             "#0d0887"
            ],
            [
             0.1111111111111111,
             "#46039f"
            ],
            [
             0.2222222222222222,
             "#7201a8"
            ],
            [
             0.3333333333333333,
             "#9c179e"
            ],
            [
             0.4444444444444444,
             "#bd3786"
            ],
            [
             0.5555555555555556,
             "#d8576b"
            ],
            [
             0.6666666666666666,
             "#ed7953"
            ],
            [
             0.7777777777777778,
             "#fb9f3a"
            ],
            [
             0.8888888888888888,
             "#fdca26"
            ],
            [
             1,
             "#f0f921"
            ]
           ],
           "sequentialminus": [
            [
             0,
             "#0d0887"
            ],
            [
             0.1111111111111111,
             "#46039f"
            ],
            [
             0.2222222222222222,
             "#7201a8"
            ],
            [
             0.3333333333333333,
             "#9c179e"
            ],
            [
             0.4444444444444444,
             "#bd3786"
            ],
            [
             0.5555555555555556,
             "#d8576b"
            ],
            [
             0.6666666666666666,
             "#ed7953"
            ],
            [
             0.7777777777777778,
             "#fb9f3a"
            ],
            [
             0.8888888888888888,
             "#fdca26"
            ],
            [
             1,
             "#f0f921"
            ]
           ]
          },
          "colorway": [
           "#636efa",
           "#EF553B",
           "#00cc96",
           "#ab63fa",
           "#FFA15A",
           "#19d3f3",
           "#FF6692",
           "#B6E880",
           "#FF97FF",
           "#FECB52"
          ],
          "font": {
           "color": "#2a3f5f"
          },
          "geo": {
           "bgcolor": "white",
           "lakecolor": "white",
           "landcolor": "#E5ECF6",
           "showlakes": true,
           "showland": true,
           "subunitcolor": "white"
          },
          "hoverlabel": {
           "align": "left"
          },
          "hovermode": "closest",
          "mapbox": {
           "style": "light"
          },
          "paper_bgcolor": "white",
          "plot_bgcolor": "#E5ECF6",
          "polar": {
           "angularaxis": {
            "gridcolor": "white",
            "linecolor": "white",
            "ticks": ""
           },
           "bgcolor": "#E5ECF6",
           "radialaxis": {
            "gridcolor": "white",
            "linecolor": "white",
            "ticks": ""
           }
          },
          "scene": {
           "xaxis": {
            "backgroundcolor": "#E5ECF6",
            "gridcolor": "white",
            "gridwidth": 2,
            "linecolor": "white",
            "showbackground": true,
            "ticks": "",
            "zerolinecolor": "white"
           },
           "yaxis": {
            "backgroundcolor": "#E5ECF6",
            "gridcolor": "white",
            "gridwidth": 2,
            "linecolor": "white",
            "showbackground": true,
            "ticks": "",
            "zerolinecolor": "white"
           },
           "zaxis": {
            "backgroundcolor": "#E5ECF6",
            "gridcolor": "white",
            "gridwidth": 2,
            "linecolor": "white",
            "showbackground": true,
            "ticks": "",
            "zerolinecolor": "white"
           }
          },
          "shapedefaults": {
           "line": {
            "color": "#2a3f5f"
           }
          },
          "ternary": {
           "aaxis": {
            "gridcolor": "white",
            "linecolor": "white",
            "ticks": ""
           },
           "baxis": {
            "gridcolor": "white",
            "linecolor": "white",
            "ticks": ""
           },
           "bgcolor": "#E5ECF6",
           "caxis": {
            "gridcolor": "white",
            "linecolor": "white",
            "ticks": ""
           }
          },
          "title": {
           "x": 0.05
          },
          "xaxis": {
           "automargin": true,
           "gridcolor": "white",
           "linecolor": "white",
           "ticks": "",
           "title": {
            "standoff": 15
           },
           "zerolinecolor": "white",
           "zerolinewidth": 2
          },
          "yaxis": {
           "automargin": true,
           "gridcolor": "white",
           "linecolor": "white",
           "ticks": "",
           "title": {
            "standoff": 15
           },
           "zerolinecolor": "white",
           "zerolinewidth": 2
          }
         }
        },
        "title": {
         "text": "Label: Darmanitan"
        },
        "width": 500,
        "xaxis": {
         "anchor": "y",
         "domain": [
          0,
          1
         ],
         "showgrid": false,
         "showticklabels": false,
         "visible": false,
         "zeroline": false
        },
        "yaxis": {
         "anchor": "x",
         "domain": [
          0,
          1
         ],
         "showgrid": false,
         "showticklabels": false,
         "visible": false,
         "zeroline": false
        }
       }
      }
     },
     "metadata": {},
     "output_type": "display_data"
    },
    {
     "data": {
      "application/vnd.plotly.v1+json": {
       "config": {
        "plotlyServerURL": "https://plot.ly"
       },
       "data": [
        {
         "hovertemplate": "x: %{x}<br>y: %{y}<extra></extra>",
         "name": "0",
         "source": "data:image/png;base64,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",
         "type": "image",
         "xaxis": "x",
         "yaxis": "y"
        }
       ],
       "layout": {
        "height": 350,
        "margin": {
         "l": 0,
         "t": 60
        },
        "shapes": [
         {
          "line": {
           "color": "black",
           "width": 2
          },
          "type": "rect",
          "x0": 0,
          "x1": 128,
          "xref": "x",
          "y0": 0,
          "y1": 128,
          "yref": "y"
         }
        ],
        "template": {
         "data": {
          "bar": [
           {
            "error_x": {
             "color": "#2a3f5f"
            },
            "error_y": {
             "color": "#2a3f5f"
            },
            "marker": {
             "line": {
              "color": "#E5ECF6",
              "width": 0.5
             },
             "pattern": {
              "fillmode": "overlay",
              "size": 10,
              "solidity": 0.2
             }
            },
            "type": "bar"
           }
          ],
          "barpolar": [
           {
            "marker": {
             "line": {
              "color": "#E5ECF6",
              "width": 0.5
             },
             "pattern": {
              "fillmode": "overlay",
              "size": 10,
              "solidity": 0.2
             }
            },
            "type": "barpolar"
           }
          ],
          "carpet": [
           {
            "aaxis": {
             "endlinecolor": "#2a3f5f",
             "gridcolor": "white",
             "linecolor": "white",
             "minorgridcolor": "white",
             "startlinecolor": "#2a3f5f"
            },
            "baxis": {
             "endlinecolor": "#2a3f5f",
             "gridcolor": "white",
             "linecolor": "white",
             "minorgridcolor": "white",
             "startlinecolor": "#2a3f5f"
            },
            "type": "carpet"
           }
          ],
          "choropleth": [
           {
            "colorbar": {
             "outlinewidth": 0,
             "ticks": ""
            },
            "type": "choropleth"
           }
          ],
          "contour": [
           {
            "colorbar": {
             "outlinewidth": 0,
             "ticks": ""
            },
            "colorscale": [
             [
              0,
              "#0d0887"
             ],
             [
              0.1111111111111111,
              "#46039f"
             ],
             [
              0.2222222222222222,
              "#7201a8"
             ],
             [
              0.3333333333333333,
              "#9c179e"
             ],
             [
              0.4444444444444444,
              "#bd3786"
             ],
             [
              0.5555555555555556,
              "#d8576b"
             ],
             [
              0.6666666666666666,
              "#ed7953"
             ],
             [
              0.7777777777777778,
              "#fb9f3a"
             ],
             [
              0.8888888888888888,
              "#fdca26"
             ],
             [
              1,
              "#f0f921"
             ]
            ],
            "type": "contour"
           }
          ],
          "contourcarpet": [
           {
            "colorbar": {
             "outlinewidth": 0,
             "ticks": ""
            },
            "type": "contourcarpet"
           }
          ],
          "heatmap": [
           {
            "colorbar": {
             "outlinewidth": 0,
             "ticks": ""
            },
            "colorscale": [
             [
              0,
              "#0d0887"
             ],
             [
              0.1111111111111111,
              "#46039f"
             ],
             [
              0.2222222222222222,
              "#7201a8"
             ],
             [
              0.3333333333333333,
              "#9c179e"
             ],
             [
              0.4444444444444444,
              "#bd3786"
             ],
             [
              0.5555555555555556,
              "#d8576b"
             ],
             [
              0.6666666666666666,
              "#ed7953"
             ],
             [
              0.7777777777777778,
              "#fb9f3a"
             ],
             [
              0.8888888888888888,
              "#fdca26"
             ],
             [
              1,
              "#f0f921"
             ]
            ],
            "type": "heatmap"
           }
          ],
          "heatmapgl": [
           {
            "colorbar": {
             "outlinewidth": 0,
             "ticks": ""
            },
            "colorscale": [
             [
              0,
              "#0d0887"
             ],
             [
              0.1111111111111111,
              "#46039f"
             ],
             [
              0.2222222222222222,
              "#7201a8"
             ],
             [
              0.3333333333333333,
              "#9c179e"
             ],
             [
              0.4444444444444444,
              "#bd3786"
             ],
             [
              0.5555555555555556,
              "#d8576b"
             ],
             [
              0.6666666666666666,
              "#ed7953"
             ],
             [
              0.7777777777777778,
              "#fb9f3a"
             ],
             [
              0.8888888888888888,
              "#fdca26"
             ],
             [
              1,
              "#f0f921"
             ]
            ],
            "type": "heatmapgl"
           }
          ],
          "histogram": [
           {
            "marker": {
             "pattern": {
              "fillmode": "overlay",
              "size": 10,
              "solidity": 0.2
             }
            },
            "type": "histogram"
           }
          ],
          "histogram2d": [
           {
            "colorbar": {
             "outlinewidth": 0,
             "ticks": ""
            },
            "colorscale": [
             [
              0,
              "#0d0887"
             ],
             [
              0.1111111111111111,
              "#46039f"
             ],
             [
              0.2222222222222222,
              "#7201a8"
             ],
             [
              0.3333333333333333,
              "#9c179e"
             ],
             [
              0.4444444444444444,
              "#bd3786"
             ],
             [
              0.5555555555555556,
              "#d8576b"
             ],
             [
              0.6666666666666666,
              "#ed7953"
             ],
             [
              0.7777777777777778,
              "#fb9f3a"
             ],
             [
              0.8888888888888888,
              "#fdca26"
             ],
             [
              1,
              "#f0f921"
             ]
            ],
            "type": "histogram2d"
           }
          ],
          "histogram2dcontour": [
           {
            "colorbar": {
             "outlinewidth": 0,
             "ticks": ""
            },
            "colorscale": [
             [
              0,
              "#0d0887"
             ],
             [
              0.1111111111111111,
              "#46039f"
             ],
             [
              0.2222222222222222,
              "#7201a8"
             ],
             [
              0.3333333333333333,
              "#9c179e"
             ],
             [
              0.4444444444444444,
              "#bd3786"
             ],
             [
              0.5555555555555556,
              "#d8576b"
             ],
             [
              0.6666666666666666,
              "#ed7953"
             ],
             [
              0.7777777777777778,
              "#fb9f3a"
             ],
             [
              0.8888888888888888,
              "#fdca26"
             ],
             [
              1,
              "#f0f921"
             ]
            ],
            "type": "histogram2dcontour"
           }
          ],
          "mesh3d": [
           {
            "colorbar": {
             "outlinewidth": 0,
             "ticks": ""
            },
            "type": "mesh3d"
           }
          ],
          "parcoords": [
           {
            "line": {
             "colorbar": {
              "outlinewidth": 0,
              "ticks": ""
             }
            },
            "type": "parcoords"
           }
          ],
          "pie": [
           {
            "automargin": true,
            "type": "pie"
           }
          ],
          "scatter": [
           {
            "fillpattern": {
             "fillmode": "overlay",
             "size": 10,
             "solidity": 0.2
            },
            "type": "scatter"
           }
          ],
          "scatter3d": [
           {
            "line": {
             "colorbar": {
              "outlinewidth": 0,
              "ticks": ""
             }
            },
            "marker": {
             "colorbar": {
              "outlinewidth": 0,
              "ticks": ""
             }
            },
            "type": "scatter3d"
           }
          ],
          "scattercarpet": [
           {
            "marker": {
             "colorbar": {
              "outlinewidth": 0,
              "ticks": ""
             }
            },
            "type": "scattercarpet"
           }
          ],
          "scattergeo": [
           {
            "marker": {
             "colorbar": {
              "outlinewidth": 0,
              "ticks": ""
             }
            },
            "type": "scattergeo"
           }
          ],
          "scattergl": [
           {
            "marker": {
             "colorbar": {
              "outlinewidth": 0,
              "ticks": ""
             }
            },
            "type": "scattergl"
           }
          ],
          "scattermapbox": [
           {
            "marker": {
             "colorbar": {
              "outlinewidth": 0,
              "ticks": ""
             }
            },
            "type": "scattermapbox"
           }
          ],
          "scatterpolar": [
           {
            "marker": {
             "colorbar": {
              "outlinewidth": 0,
              "ticks": ""
             }
            },
            "type": "scatterpolar"
           }
          ],
          "scatterpolargl": [
           {
            "marker": {
             "colorbar": {
              "outlinewidth": 0,
              "ticks": ""
             }
            },
            "type": "scatterpolargl"
           }
          ],
          "scatterternary": [
           {
            "marker": {
             "colorbar": {
              "outlinewidth": 0,
              "ticks": ""
             }
            },
            "type": "scatterternary"
           }
          ],
          "surface": [
           {
            "colorbar": {
             "outlinewidth": 0,
             "ticks": ""
            },
            "colorscale": [
             [
              0,
              "#0d0887"
             ],
             [
              0.1111111111111111,
              "#46039f"
             ],
             [
              0.2222222222222222,
              "#7201a8"
             ],
             [
              0.3333333333333333,
              "#9c179e"
             ],
             [
              0.4444444444444444,
              "#bd3786"
             ],
             [
              0.5555555555555556,
              "#d8576b"
             ],
             [
              0.6666666666666666,
              "#ed7953"
             ],
             [
              0.7777777777777778,
              "#fb9f3a"
             ],
             [
              0.8888888888888888,
              "#fdca26"
             ],
             [
              1,
              "#f0f921"
             ]
            ],
            "type": "surface"
           }
          ],
          "table": [
           {
            "cells": {
             "fill": {
              "color": "#EBF0F8"
             },
             "line": {
              "color": "white"
             }
            },
            "header": {
             "fill": {
              "color": "#C8D4E3"
             },
             "line": {
              "color": "white"
             }
            },
            "type": "table"
           }
          ]
         },
         "layout": {
          "annotationdefaults": {
           "arrowcolor": "#2a3f5f",
           "arrowhead": 0,
           "arrowwidth": 1
          },
          "autotypenumbers": "strict",
          "coloraxis": {
           "colorbar": {
            "outlinewidth": 0,
            "ticks": ""
           }
          },
          "colorscale": {
           "diverging": [
            [
             0,
             "#8e0152"
            ],
            [
             0.1,
             "#c51b7d"
            ],
            [
             0.2,
             "#de77ae"
            ],
            [
             0.3,
             "#f1b6da"
            ],
            [
             0.4,
             "#fde0ef"
            ],
            [
             0.5,
             "#f7f7f7"
            ],
            [
             0.6,
             "#e6f5d0"
            ],
            [
             0.7,
             "#b8e186"
            ],
            [
             0.8,
             "#7fbc41"
            ],
            [
             0.9,
             "#4d9221"
            ],
            [
             1,
             "#276419"
            ]
           ],
           "sequential": [
            [
             0,
             "#0d0887"
            ],
            [
             0.1111111111111111,
             "#46039f"
            ],
            [
             0.2222222222222222,
             "#7201a8"
            ],
            [
             0.3333333333333333,
             "#9c179e"
            ],
            [
             0.4444444444444444,
             "#bd3786"
            ],
            [
             0.5555555555555556,
             "#d8576b"
            ],
            [
             0.6666666666666666,
             "#ed7953"
            ],
            [
             0.7777777777777778,
             "#fb9f3a"
            ],
            [
             0.8888888888888888,
             "#fdca26"
            ],
            [
             1,
             "#f0f921"
            ]
           ],
           "sequentialminus": [
            [
             0,
             "#0d0887"
            ],
            [
             0.1111111111111111,
             "#46039f"
            ],
            [
             0.2222222222222222,
             "#7201a8"
            ],
            [
             0.3333333333333333,
             "#9c179e"
            ],
            [
             0.4444444444444444,
             "#bd3786"
            ],
            [
             0.5555555555555556,
             "#d8576b"
            ],
            [
             0.6666666666666666,
             "#ed7953"
            ],
            [
             0.7777777777777778,
             "#fb9f3a"
            ],
            [
             0.8888888888888888,
             "#fdca26"
            ],
            [
             1,
             "#f0f921"
            ]
           ]
          },
          "colorway": [
           "#636efa",
           "#EF553B",
           "#00cc96",
           "#ab63fa",
           "#FFA15A",
           "#19d3f3",
           "#FF6692",
           "#B6E880",
           "#FF97FF",
           "#FECB52"
          ],
          "font": {
           "color": "#2a3f5f"
          },
          "geo": {
           "bgcolor": "white",
           "lakecolor": "white",
           "landcolor": "#E5ECF6",
           "showlakes": true,
           "showland": true,
           "subunitcolor": "white"
          },
          "hoverlabel": {
           "align": "left"
          },
          "hovermode": "closest",
          "mapbox": {
           "style": "light"
          },
          "paper_bgcolor": "white",
          "plot_bgcolor": "#E5ECF6",
          "polar": {
           "angularaxis": {
            "gridcolor": "white",
            "linecolor": "white",
            "ticks": ""
           },
           "bgcolor": "#E5ECF6",
           "radialaxis": {
            "gridcolor": "white",
            "linecolor": "white",
            "ticks": ""
           }
          },
          "scene": {
           "xaxis": {
            "backgroundcolor": "#E5ECF6",
            "gridcolor": "white",
            "gridwidth": 2,
            "linecolor": "white",
            "showbackground": true,
            "ticks": "",
            "zerolinecolor": "white"
           },
           "yaxis": {
            "backgroundcolor": "#E5ECF6",
            "gridcolor": "white",
            "gridwidth": 2,
            "linecolor": "white",
            "showbackground": true,
            "ticks": "",
            "zerolinecolor": "white"
           },
           "zaxis": {
            "backgroundcolor": "#E5ECF6",
            "gridcolor": "white",
            "gridwidth": 2,
            "linecolor": "white",
            "showbackground": true,
            "ticks": "",
            "zerolinecolor": "white"
           }
          },
          "shapedefaults": {
           "line": {
            "color": "#2a3f5f"
           }
          },
          "ternary": {
           "aaxis": {
            "gridcolor": "white",
            "linecolor": "white",
            "ticks": ""
           },
           "baxis": {
            "gridcolor": "white",
            "linecolor": "white",
            "ticks": ""
           },
           "bgcolor": "#E5ECF6",
           "caxis": {
            "gridcolor": "white",
            "linecolor": "white",
            "ticks": ""
           }
          },
          "title": {
           "x": 0.05
          },
          "xaxis": {
           "automargin": true,
           "gridcolor": "white",
           "linecolor": "white",
           "ticks": "",
           "title": {
            "standoff": 15
           },
           "zerolinecolor": "white",
           "zerolinewidth": 2
          },
          "yaxis": {
           "automargin": true,
           "gridcolor": "white",
           "linecolor": "white",
           "ticks": "",
           "title": {
            "standoff": 15
           },
           "zerolinecolor": "white",
           "zerolinewidth": 2
          }
         }
        },
        "title": {
         "text": "Label: Darmanitan"
        },
        "width": 500,
        "xaxis": {
         "anchor": "y",
         "domain": [
          0,
          1
         ],
         "showgrid": false,
         "showticklabels": false,
         "visible": false,
         "zeroline": false
        },
        "yaxis": {
         "anchor": "x",
         "domain": [
          0,
          1
         ],
         "showgrid": false,
         "showticklabels": false,
         "visible": false,
         "zeroline": false
        }
       }
      }
     },
     "metadata": {},
     "output_type": "display_data"
    }
   ],
   "source": [
    "for image, label in val_ds.take(1):\n",
    "    for i in range(10):\n",
    "        plot_image(image[i], class_names[int(tf.argmax(tf.reshape(label[i], (-1, 1))))], top_k(y_pred_eff[i], k=5))\n",
    "        plot_image(image[i], class_names[int(tf.argmax(tf.reshape(label[i], (-1, 1))))], top_k(y_pred_cnn[i], k=5))\n",
    "        "
   ]
  },
  {
   "attachments": {},
   "cell_type": "markdown",
   "metadata": {},
   "source": [
    "### charmander test"
   ]
  },
  {
   "cell_type": "code",
   "execution_count": 140,
   "metadata": {},
   "outputs": [
    {
     "name": "stdout",
     "output_type": "stream",
     "text": [
      "(1, 128, 128, 3)\n"
     ]
    }
   ],
   "source": [
    "# load images/test/charmander.png to test\n",
    "test_image = tf.keras.preprocessing.image.load_img('images/test/charmander.png', color_mode='rgba', target_size=image_size)\n",
    "test_image = tf.keras.preprocessing.image.img_to_array(test_image)\n",
    "test_image = tf.expand_dims(test_image, axis=0)\n",
    "test_image = preprocess_image(test_image)\n",
    "print(test_image.shape)"
   ]
  },
  {
   "cell_type": "code",
   "execution_count": 147,
   "metadata": {},
   "outputs": [
    {
     "name": "stdout",
     "output_type": "stream",
     "text": [
      "1/1 [==============================] - 0s 55ms/step\n"
     ]
    }
   ],
   "source": [
    "pred = model.predict(test_image)"
   ]
  },
  {
   "cell_type": "code",
   "execution_count": 159,
   "metadata": {},
   "outputs": [
    {
     "data": {
      "text/plain": [
       "{'Scraggy': 0.51, 'Charmander': 0.26, 'Buizel': 0.12}"
      ]
     },
     "execution_count": 159,
     "metadata": {},
     "output_type": "execute_result"
    }
   ],
   "source": [
    "top_k(pred[0], k=5)"
   ]
  },
  {
   "cell_type": "code",
   "execution_count": 169,
   "metadata": {},
   "outputs": [
    {
     "data": {
      "application/vnd.plotly.v1+json": {
       "config": {
        "plotlyServerURL": "https://plot.ly"
       },
       "data": [
        {
         "hovertemplate": "x: %{x}<br>y: %{y}<br>color: [%{z[0]}, %{z[1]}, %{z[2]}]<extra></extra>",
         "name": "0",
         "source": "data:image/png;base64,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",
         "type": "image",
         "xaxis": "x",
         "yaxis": "y"
        }
       ],
       "layout": {
        "annotations": [
         {
          "align": "left",
          "bgcolor": "#ff7f0e",
          "bordercolor": "#c7c7c7",
          "borderpad": 2,
          "borderwidth": 1,
          "clicktoshow": "onoff",
          "font": {
           "color": "#ffffff",
           "family": "Courier New, monospace",
           "size": 10
          },
          "opacity": 0.8,
          "showarrow": false,
          "text": "Scraggy: 0.51",
          "x": 1,
          "xref": "paper",
          "y": 1,
          "yref": "paper"
         },
         {
          "align": "left",
          "bgcolor": "#ff7f0e",
          "bordercolor": "#c7c7c7",
          "borderpad": 2,
          "borderwidth": 1,
          "clicktoshow": "onoff",
          "font": {
           "color": "#ffffff",
           "family": "Courier New, monospace",
           "size": 10
          },
          "opacity": 0.8,
          "showarrow": false,
          "text": "Charmander: 0.26",
          "x": 1,
          "xref": "paper",
          "y": 0.85,
          "yref": "paper"
         },
         {
          "align": "left",
          "bgcolor": "#ff7f0e",
          "bordercolor": "#c7c7c7",
          "borderpad": 2,
          "borderwidth": 1,
          "clicktoshow": "onoff",
          "font": {
           "color": "#ffffff",
           "family": "Courier New, monospace",
           "size": 10
          },
          "opacity": 0.8,
          "showarrow": false,
          "text": "Buizel: 0.12",
          "x": 1,
          "xref": "paper",
          "y": 0.7,
          "yref": "paper"
         }
        ],
        "height": 300,
        "margin": {
         "t": 60
        },
        "template": {
         "data": {
          "bar": [
           {
            "error_x": {
             "color": "#2a3f5f"
            },
            "error_y": {
             "color": "#2a3f5f"
            },
            "marker": {
             "line": {
              "color": "#E5ECF6",
              "width": 0.5
             },
             "pattern": {
              "fillmode": "overlay",
              "size": 10,
              "solidity": 0.2
             }
            },
            "type": "bar"
           }
          ],
          "barpolar": [
           {
            "marker": {
             "line": {
              "color": "#E5ECF6",
              "width": 0.5
             },
             "pattern": {
              "fillmode": "overlay",
              "size": 10,
              "solidity": 0.2
             }
            },
            "type": "barpolar"
           }
          ],
          "carpet": [
           {
            "aaxis": {
             "endlinecolor": "#2a3f5f",
             "gridcolor": "white",
             "linecolor": "white",
             "minorgridcolor": "white",
             "startlinecolor": "#2a3f5f"
            },
            "baxis": {
             "endlinecolor": "#2a3f5f",
             "gridcolor": "white",
             "linecolor": "white",
             "minorgridcolor": "white",
             "startlinecolor": "#2a3f5f"
            },
            "type": "carpet"
           }
          ],
          "choropleth": [
           {
            "colorbar": {
             "outlinewidth": 0,
             "ticks": ""
            },
            "type": "choropleth"
           }
          ],
          "contour": [
           {
            "colorbar": {
             "outlinewidth": 0,
             "ticks": ""
            },
            "colorscale": [
             [
              0,
              "#0d0887"
             ],
             [
              0.1111111111111111,
              "#46039f"
             ],
             [
              0.2222222222222222,
              "#7201a8"
             ],
             [
              0.3333333333333333,
              "#9c179e"
             ],
             [
              0.4444444444444444,
              "#bd3786"
             ],
             [
              0.5555555555555556,
              "#d8576b"
             ],
             [
              0.6666666666666666,
              "#ed7953"
             ],
             [
              0.7777777777777778,
              "#fb9f3a"
             ],
             [
              0.8888888888888888,
              "#fdca26"
             ],
             [
              1,
              "#f0f921"
             ]
            ],
            "type": "contour"
           }
          ],
          "contourcarpet": [
           {
            "colorbar": {
             "outlinewidth": 0,
             "ticks": ""
            },
            "type": "contourcarpet"
           }
          ],
          "heatmap": [
           {
            "colorbar": {
             "outlinewidth": 0,
             "ticks": ""
            },
            "colorscale": [
             [
              0,
              "#0d0887"
             ],
             [
              0.1111111111111111,
              "#46039f"
             ],
             [
              0.2222222222222222,
              "#7201a8"
             ],
             [
              0.3333333333333333,
              "#9c179e"
             ],
             [
              0.4444444444444444,
              "#bd3786"
             ],
             [
              0.5555555555555556,
              "#d8576b"
             ],
             [
              0.6666666666666666,
              "#ed7953"
             ],
             [
              0.7777777777777778,
              "#fb9f3a"
             ],
             [
              0.8888888888888888,
              "#fdca26"
             ],
             [
              1,
              "#f0f921"
             ]
            ],
            "type": "heatmap"
           }
          ],
          "heatmapgl": [
           {
            "colorbar": {
             "outlinewidth": 0,
             "ticks": ""
            },
            "colorscale": [
             [
              0,
              "#0d0887"
             ],
             [
              0.1111111111111111,
              "#46039f"
             ],
             [
              0.2222222222222222,
              "#7201a8"
             ],
             [
              0.3333333333333333,
              "#9c179e"
             ],
             [
              0.4444444444444444,
              "#bd3786"
             ],
             [
              0.5555555555555556,
              "#d8576b"
             ],
             [
              0.6666666666666666,
              "#ed7953"
             ],
             [
              0.7777777777777778,
              "#fb9f3a"
             ],
             [
              0.8888888888888888,
              "#fdca26"
             ],
             [
              1,
              "#f0f921"
             ]
            ],
            "type": "heatmapgl"
           }
          ],
          "histogram": [
           {
            "marker": {
             "pattern": {
              "fillmode": "overlay",
              "size": 10,
              "solidity": 0.2
             }
            },
            "type": "histogram"
           }
          ],
          "histogram2d": [
           {
            "colorbar": {
             "outlinewidth": 0,
             "ticks": ""
            },
            "colorscale": [
             [
              0,
              "#0d0887"
             ],
             [
              0.1111111111111111,
              "#46039f"
             ],
             [
              0.2222222222222222,
              "#7201a8"
             ],
             [
              0.3333333333333333,
              "#9c179e"
             ],
             [
              0.4444444444444444,
              "#bd3786"
             ],
             [
              0.5555555555555556,
              "#d8576b"
             ],
             [
              0.6666666666666666,
              "#ed7953"
             ],
             [
              0.7777777777777778,
              "#fb9f3a"
             ],
             [
              0.8888888888888888,
              "#fdca26"
             ],
             [
              1,
              "#f0f921"
             ]
            ],
            "type": "histogram2d"
           }
          ],
          "histogram2dcontour": [
           {
            "colorbar": {
             "outlinewidth": 0,
             "ticks": ""
            },
            "colorscale": [
             [
              0,
              "#0d0887"
             ],
             [
              0.1111111111111111,
              "#46039f"
             ],
             [
              0.2222222222222222,
              "#7201a8"
             ],
             [
              0.3333333333333333,
              "#9c179e"
             ],
             [
              0.4444444444444444,
              "#bd3786"
             ],
             [
              0.5555555555555556,
              "#d8576b"
             ],
             [
              0.6666666666666666,
              "#ed7953"
             ],
             [
              0.7777777777777778,
              "#fb9f3a"
             ],
             [
              0.8888888888888888,
              "#fdca26"
             ],
             [
              1,
              "#f0f921"
             ]
            ],
            "type": "histogram2dcontour"
           }
          ],
          "mesh3d": [
           {
            "colorbar": {
             "outlinewidth": 0,
             "ticks": ""
            },
            "type": "mesh3d"
           }
          ],
          "parcoords": [
           {
            "line": {
             "colorbar": {
              "outlinewidth": 0,
              "ticks": ""
             }
            },
            "type": "parcoords"
           }
          ],
          "pie": [
           {
            "automargin": true,
            "type": "pie"
           }
          ],
          "scatter": [
           {
            "fillpattern": {
             "fillmode": "overlay",
             "size": 10,
             "solidity": 0.2
            },
            "type": "scatter"
           }
          ],
          "scatter3d": [
           {
            "line": {
             "colorbar": {
              "outlinewidth": 0,
              "ticks": ""
             }
            },
            "marker": {
             "colorbar": {
              "outlinewidth": 0,
              "ticks": ""
             }
            },
            "type": "scatter3d"
           }
          ],
          "scattercarpet": [
           {
            "marker": {
             "colorbar": {
              "outlinewidth": 0,
              "ticks": ""
             }
            },
            "type": "scattercarpet"
           }
          ],
          "scattergeo": [
           {
            "marker": {
             "colorbar": {
              "outlinewidth": 0,
              "ticks": ""
             }
            },
            "type": "scattergeo"
           }
          ],
          "scattergl": [
           {
            "marker": {
             "colorbar": {
              "outlinewidth": 0,
              "ticks": ""
             }
            },
            "type": "scattergl"
           }
          ],
          "scattermapbox": [
           {
            "marker": {
             "colorbar": {
              "outlinewidth": 0,
              "ticks": ""
             }
            },
            "type": "scattermapbox"
           }
          ],
          "scatterpolar": [
           {
            "marker": {
             "colorbar": {
              "outlinewidth": 0,
              "ticks": ""
             }
            },
            "type": "scatterpolar"
           }
          ],
          "scatterpolargl": [
           {
            "marker": {
             "colorbar": {
              "outlinewidth": 0,
              "ticks": ""
             }
            },
            "type": "scatterpolargl"
           }
          ],
          "scatterternary": [
           {
            "marker": {
             "colorbar": {
              "outlinewidth": 0,
              "ticks": ""
             }
            },
            "type": "scatterternary"
           }
          ],
          "surface": [
           {
            "colorbar": {
             "outlinewidth": 0,
             "ticks": ""
            },
            "colorscale": [
             [
              0,
              "#0d0887"
             ],
             [
              0.1111111111111111,
              "#46039f"
             ],
             [
              0.2222222222222222,
              "#7201a8"
             ],
             [
              0.3333333333333333,
              "#9c179e"
             ],
             [
              0.4444444444444444,
              "#bd3786"
             ],
             [
              0.5555555555555556,
              "#d8576b"
             ],
             [
              0.6666666666666666,
              "#ed7953"
             ],
             [
              0.7777777777777778,
              "#fb9f3a"
             ],
             [
              0.8888888888888888,
              "#fdca26"
             ],
             [
              1,
              "#f0f921"
             ]
            ],
            "type": "surface"
           }
          ],
          "table": [
           {
            "cells": {
             "fill": {
              "color": "#EBF0F8"
             },
             "line": {
              "color": "white"
             }
            },
            "header": {
             "fill": {
              "color": "#C8D4E3"
             },
             "line": {
              "color": "white"
             }
            },
            "type": "table"
           }
          ]
         },
         "layout": {
          "annotationdefaults": {
           "arrowcolor": "#2a3f5f",
           "arrowhead": 0,
           "arrowwidth": 1
          },
          "autotypenumbers": "strict",
          "coloraxis": {
           "colorbar": {
            "outlinewidth": 0,
            "ticks": ""
           }
          },
          "colorscale": {
           "diverging": [
            [
             0,
             "#8e0152"
            ],
            [
             0.1,
             "#c51b7d"
            ],
            [
             0.2,
             "#de77ae"
            ],
            [
             0.3,
             "#f1b6da"
            ],
            [
             0.4,
             "#fde0ef"
            ],
            [
             0.5,
             "#f7f7f7"
            ],
            [
             0.6,
             "#e6f5d0"
            ],
            [
             0.7,
             "#b8e186"
            ],
            [
             0.8,
             "#7fbc41"
            ],
            [
             0.9,
             "#4d9221"
            ],
            [
             1,
             "#276419"
            ]
           ],
           "sequential": [
            [
             0,
             "#0d0887"
            ],
            [
             0.1111111111111111,
             "#46039f"
            ],
            [
             0.2222222222222222,
             "#7201a8"
            ],
            [
             0.3333333333333333,
             "#9c179e"
            ],
            [
             0.4444444444444444,
             "#bd3786"
            ],
            [
             0.5555555555555556,
             "#d8576b"
            ],
            [
             0.6666666666666666,
             "#ed7953"
            ],
            [
             0.7777777777777778,
             "#fb9f3a"
            ],
            [
             0.8888888888888888,
             "#fdca26"
            ],
            [
             1,
             "#f0f921"
            ]
           ],
           "sequentialminus": [
            [
             0,
             "#0d0887"
            ],
            [
             0.1111111111111111,
             "#46039f"
            ],
            [
             0.2222222222222222,
             "#7201a8"
            ],
            [
             0.3333333333333333,
             "#9c179e"
            ],
            [
             0.4444444444444444,
             "#bd3786"
            ],
            [
             0.5555555555555556,
             "#d8576b"
            ],
            [
             0.6666666666666666,
             "#ed7953"
            ],
            [
             0.7777777777777778,
             "#fb9f3a"
            ],
            [
             0.8888888888888888,
             "#fdca26"
            ],
            [
             1,
             "#f0f921"
            ]
           ]
          },
          "colorway": [
           "#636efa",
           "#EF553B",
           "#00cc96",
           "#ab63fa",
           "#FFA15A",
           "#19d3f3",
           "#FF6692",
           "#B6E880",
           "#FF97FF",
           "#FECB52"
          ],
          "font": {
           "color": "#2a3f5f"
          },
          "geo": {
           "bgcolor": "white",
           "lakecolor": "white",
           "landcolor": "#E5ECF6",
           "showlakes": true,
           "showland": true,
           "subunitcolor": "white"
          },
          "hoverlabel": {
           "align": "left"
          },
          "hovermode": "closest",
          "mapbox": {
           "style": "light"
          },
          "paper_bgcolor": "white",
          "plot_bgcolor": "#E5ECF6",
          "polar": {
           "angularaxis": {
            "gridcolor": "white",
            "linecolor": "white",
            "ticks": ""
           },
           "bgcolor": "#E5ECF6",
           "radialaxis": {
            "gridcolor": "white",
            "linecolor": "white",
            "ticks": ""
           }
          },
          "scene": {
           "xaxis": {
            "backgroundcolor": "#E5ECF6",
            "gridcolor": "white",
            "gridwidth": 2,
            "linecolor": "white",
            "showbackground": true,
            "ticks": "",
            "zerolinecolor": "white"
           },
           "yaxis": {
            "backgroundcolor": "#E5ECF6",
            "gridcolor": "white",
            "gridwidth": 2,
            "linecolor": "white",
            "showbackground": true,
            "ticks": "",
            "zerolinecolor": "white"
           },
           "zaxis": {
            "backgroundcolor": "#E5ECF6",
            "gridcolor": "white",
            "gridwidth": 2,
            "linecolor": "white",
            "showbackground": true,
            "ticks": "",
            "zerolinecolor": "white"
           }
          },
          "shapedefaults": {
           "line": {
            "color": "#2a3f5f"
           }
          },
          "ternary": {
           "aaxis": {
            "gridcolor": "white",
            "linecolor": "white",
            "ticks": ""
           },
           "baxis": {
            "gridcolor": "white",
            "linecolor": "white",
            "ticks": ""
           },
           "bgcolor": "#E5ECF6",
           "caxis": {
            "gridcolor": "white",
            "linecolor": "white",
            "ticks": ""
           }
          },
          "title": {
           "x": 0.05
          },
          "xaxis": {
           "automargin": true,
           "gridcolor": "white",
           "linecolor": "white",
           "ticks": "",
           "title": {
            "standoff": 15
           },
           "zerolinecolor": "white",
           "zerolinewidth": 2
          },
          "yaxis": {
           "automargin": true,
           "gridcolor": "white",
           "linecolor": "white",
           "ticks": "",
           "title": {
            "standoff": 15
           },
           "zerolinecolor": "white",
           "zerolinewidth": 2
          }
         }
        },
        "title": {
         "text": "Label: Charmander"
        },
        "width": 300,
        "xaxis": {
         "anchor": "y",
         "domain": [
          0,
          1
         ]
        },
        "yaxis": {
         "anchor": "x",
         "domain": [
          0,
          1
         ]
        }
       }
      }
     },
     "metadata": {},
     "output_type": "display_data"
    }
   ],
   "source": [
    "plot_image(test_image[0], \"Charmander\", top_k(pred[0], k=5))"
   ]
  },
  {
   "cell_type": "code",
   "execution_count": null,
   "metadata": {},
   "outputs": [],
   "source": []
  }
 ],
 "metadata": {
  "kernelspec": {
   "display_name": "Python 3.10.6 64-bit",
   "language": "python",
   "name": "python3"
  },
  "language_info": {
   "codemirror_mode": {
    "name": "ipython",
    "version": 3
   },
   "file_extension": ".py",
   "mimetype": "text/x-python",
   "name": "python",
   "nbconvert_exporter": "python",
   "pygments_lexer": "ipython3",
   "version": "3.10.6"
  },
  "orig_nbformat": 4,
  "vscode": {
   "interpreter": {
    "hash": "837c519a48be08d8749c778cb72b9b5aac116a087aa5d1d99ee0359dceff73e6"
   }
  }
 },
 "nbformat": 4,
 "nbformat_minor": 2
}
