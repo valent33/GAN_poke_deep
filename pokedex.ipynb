{
 "cells": [
  {
   "cell_type": "code",
   "execution_count": 1,
   "metadata": {},
   "outputs": [],
   "source": [
    "import tensorflow as tf\n",
    "import plotly.express as px\n",
    "from tensorflow.keras.applications import EfficientNetB4\n",
    "from tensorflow.keras.applications.efficientnet import preprocess_input"
   ]
  },
  {
   "attachments": {},
   "cell_type": "markdown",
   "metadata": {},
   "source": [
    "## Loading"
   ]
  },
  {
   "cell_type": "code",
   "execution_count": 2,
   "metadata": {},
   "outputs": [],
   "source": [
    "directory = 'images/final/'\n",
    "width = 128\n",
    "height = 128\n",
    "channels = 4\n",
    "image_size = (width, height)\n",
    "input_shape = (width, height, channels)\n",
    "batch_size = 32"
   ]
  },
  {
   "cell_type": "code",
   "execution_count": 3,
   "metadata": {},
   "outputs": [
    {
     "name": "stdout",
     "output_type": "stream",
     "text": [
      "Found 13876 files belonging to 905 classes.\n",
      "Using 11101 files for training.\n",
      "Using 2775 files for validation.\n"
     ]
    }
   ],
   "source": [
    "train_ds, val_ds = tf.keras.preprocessing.image_dataset_from_directory(\n",
    "    directory,\n",
    "    batch_size=batch_size,\n",
    "    validation_split=0.2,\n",
    "    subset=\"both\",\n",
    "    labels=\"inferred\",\n",
    "    label_mode=\"categorical\",\n",
    "    image_size=image_size,\n",
    "    crop_to_aspect_ratio=True,\n",
    "    interpolation=\"bilinear\",\n",
    "    color_mode=\"rgba\",\n",
    "    shuffle=True,\n",
    "    seed=905,\n",
    ")\n",
    "\n",
    "class_names = train_ds.class_names"
   ]
  },
  {
   "cell_type": "code",
   "execution_count": 4,
   "metadata": {},
   "outputs": [],
   "source": [
    "def plot_image(image, label, labels={}):\n",
    "    fig = px.imshow(image, width=width, height=height)\n",
    "    fig.update_layout(\n",
    "        title=f\"Label: {label}\",\n",
    "        width=500,\n",
    "        height=350,\n",
    "        margin={'l': 0},\n",
    "        # remove axis but leave a border\n",
    "        xaxis=dict(\n",
    "            showgrid=False,\n",
    "            zeroline=False,\n",
    "            showticklabels=False,\n",
    "            visible=False,\n",
    "        ),\n",
    "        yaxis=dict(\n",
    "            showgrid=False,\n",
    "            zeroline=False,\n",
    "            showticklabels=False,\n",
    "            visible=False,\n",
    "        ),\n",
    "        # add a solid contour of the image\n",
    "        shapes=[\n",
    "            dict(\n",
    "                type=\"rect\",\n",
    "                xref=\"x\",\n",
    "                yref=\"y\",\n",
    "                x0=0,\n",
    "                y0=0,\n",
    "                x1=width,\n",
    "                y1=height,\n",
    "                line=dict(\n",
    "                    color=\"black\",\n",
    "                    width=2,\n",
    "                ),\n",
    "            ),\n",
    "        ],       \n",
    "    )\n",
    "    if labels:\n",
    "        # display all 5 elements of the dictionary with the key: value\n",
    "        i = 0\n",
    "        for key, value in labels.items():\n",
    "            fig.add_annotation(\n",
    "                x=1,\n",
    "                y=1-0.25*i,\n",
    "                xref=\"paper\",\n",
    "                yref=\"paper\",\n",
    "                text=f\"{key}: {value*100:.0f}%\",\n",
    "                showarrow=False,\n",
    "                font=dict(\n",
    "                    family=\"Courier New, monospace\",\n",
    "                    size=12,\n",
    "                    color=\"#ffffff\"\n",
    "                ),\n",
    "                align=\"left\",\n",
    "                bordercolor=\"#c7c7c7\",\n",
    "                borderwidth=1,\n",
    "                borderpad=2,\n",
    "                bgcolor=\"#ff7f0e\",\n",
    "                opacity=0.8,\n",
    "            )\n",
    "            # add image from corresponding folder in images/final\n",
    "            fig.add_layout_image(\n",
    "                dict(\n",
    "                    source=f\"images/final/{key}/0.png\",\n",
    "                    xref=\"paper\",\n",
    "                    yref=\"paper\",\n",
    "                    x=1,\n",
    "                    y=1.1-0.25*i,\n",
    "                    sizex=0.3,\n",
    "                    sizey=0.3,\n",
    "                    # sizing=\"stretch\",\n",
    "                    # opacity=0.8,\n",
    "                    layer=\"below\",\n",
    "                )\n",
    "            )\n",
    "            i += 1\n",
    "\n",
    "    fig.show()"
   ]
  },
  {
   "cell_type": "code",
   "execution_count": 5,
   "metadata": {},
   "outputs": [],
   "source": [
    "def plot_n_images(ds, n):\n",
    "    for image, label in ds.take(1):\n",
    "        for i in range(n):\n",
    "            print(image[i][0][0])\n",
    "            print(image[i].shape)\n",
    "            plot_image(image[i], class_names[int(tf.argmax(tf.reshape(label[i], [-1, 1]), axis=0))])"
   ]
  },
  {
   "cell_type": "code",
   "execution_count": 6,
   "metadata": {},
   "outputs": [
    {
     "name": "stdout",
     "output_type": "stream",
     "text": [
      "tf.Tensor([255. 255. 255.   0.], shape=(4,), dtype=float32)\n",
      "(128, 128, 4)\n"
     ]
    },
    {
     "data": {
      "application/vnd.plotly.v1+json": {
       "config": {
        "plotlyServerURL": "https://plot.ly"
       },
       "data": [
        {
         "hovertemplate": "x: %{x}<br>y: %{y}<extra></extra>",
         "name": "0",
         "source": "data:image/png;base64,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",
         "type": "image",
         "xaxis": "x",
         "yaxis": "y"
        }
       ],
       "layout": {
        "height": 350,
        "margin": {
         "l": 0,
         "t": 60
        },
        "shapes": [
         {
          "line": {
           "color": "black",
           "width": 2
          },
          "type": "rect",
          "x0": 0,
          "x1": 128,
          "xref": "x",
          "y0": 0,
          "y1": 128,
          "yref": "y"
         }
        ],
        "template": {
         "data": {
          "bar": [
           {
            "error_x": {
             "color": "#2a3f5f"
            },
            "error_y": {
             "color": "#2a3f5f"
            },
            "marker": {
             "line": {
              "color": "#E5ECF6",
              "width": 0.5
             },
             "pattern": {
              "fillmode": "overlay",
              "size": 10,
              "solidity": 0.2
             }
            },
            "type": "bar"
           }
          ],
          "barpolar": [
           {
            "marker": {
             "line": {
              "color": "#E5ECF6",
              "width": 0.5
             },
             "pattern": {
              "fillmode": "overlay",
              "size": 10,
              "solidity": 0.2
             }
            },
            "type": "barpolar"
           }
          ],
          "carpet": [
           {
            "aaxis": {
             "endlinecolor": "#2a3f5f",
             "gridcolor": "white",
             "linecolor": "white",
             "minorgridcolor": "white",
             "startlinecolor": "#2a3f5f"
            },
            "baxis": {
             "endlinecolor": "#2a3f5f",
             "gridcolor": "white",
             "linecolor": "white",
             "minorgridcolor": "white",
             "startlinecolor": "#2a3f5f"
            },
            "type": "carpet"
           }
          ],
          "choropleth": [
           {
            "colorbar": {
             "outlinewidth": 0,
             "ticks": ""
            },
            "type": "choropleth"
           }
          ],
          "contour": [
           {
            "colorbar": {
             "outlinewidth": 0,
             "ticks": ""
            },
            "colorscale": [
             [
              0,
              "#0d0887"
             ],
             [
              0.1111111111111111,
              "#46039f"
             ],
             [
              0.2222222222222222,
              "#7201a8"
             ],
             [
              0.3333333333333333,
              "#9c179e"
             ],
             [
              0.4444444444444444,
              "#bd3786"
             ],
             [
              0.5555555555555556,
              "#d8576b"
             ],
             [
              0.6666666666666666,
              "#ed7953"
             ],
             [
              0.7777777777777778,
              "#fb9f3a"
             ],
             [
              0.8888888888888888,
              "#fdca26"
             ],
             [
              1,
              "#f0f921"
             ]
            ],
            "type": "contour"
           }
          ],
          "contourcarpet": [
           {
            "colorbar": {
             "outlinewidth": 0,
             "ticks": ""
            },
            "type": "contourcarpet"
           }
          ],
          "heatmap": [
           {
            "colorbar": {
             "outlinewidth": 0,
             "ticks": ""
            },
            "colorscale": [
             [
              0,
              "#0d0887"
             ],
             [
              0.1111111111111111,
              "#46039f"
             ],
             [
              0.2222222222222222,
              "#7201a8"
             ],
             [
              0.3333333333333333,
              "#9c179e"
             ],
             [
              0.4444444444444444,
              "#bd3786"
             ],
             [
              0.5555555555555556,
              "#d8576b"
             ],
             [
              0.6666666666666666,
              "#ed7953"
             ],
             [
              0.7777777777777778,
              "#fb9f3a"
             ],
             [
              0.8888888888888888,
              "#fdca26"
             ],
             [
              1,
              "#f0f921"
             ]
            ],
            "type": "heatmap"
           }
          ],
          "heatmapgl": [
           {
            "colorbar": {
             "outlinewidth": 0,
             "ticks": ""
            },
            "colorscale": [
             [
              0,
              "#0d0887"
             ],
             [
              0.1111111111111111,
              "#46039f"
             ],
             [
              0.2222222222222222,
              "#7201a8"
             ],
             [
              0.3333333333333333,
              "#9c179e"
             ],
             [
              0.4444444444444444,
              "#bd3786"
             ],
             [
              0.5555555555555556,
              "#d8576b"
             ],
             [
              0.6666666666666666,
              "#ed7953"
             ],
             [
              0.7777777777777778,
              "#fb9f3a"
             ],
             [
              0.8888888888888888,
              "#fdca26"
             ],
             [
              1,
              "#f0f921"
             ]
            ],
            "type": "heatmapgl"
           }
          ],
          "histogram": [
           {
            "marker": {
             "pattern": {
              "fillmode": "overlay",
              "size": 10,
              "solidity": 0.2
             }
            },
            "type": "histogram"
           }
          ],
          "histogram2d": [
           {
            "colorbar": {
             "outlinewidth": 0,
             "ticks": ""
            },
            "colorscale": [
             [
              0,
              "#0d0887"
             ],
             [
              0.1111111111111111,
              "#46039f"
             ],
             [
              0.2222222222222222,
              "#7201a8"
             ],
             [
              0.3333333333333333,
              "#9c179e"
             ],
             [
              0.4444444444444444,
              "#bd3786"
             ],
             [
              0.5555555555555556,
              "#d8576b"
             ],
             [
              0.6666666666666666,
              "#ed7953"
             ],
             [
              0.7777777777777778,
              "#fb9f3a"
             ],
             [
              0.8888888888888888,
              "#fdca26"
             ],
             [
              1,
              "#f0f921"
             ]
            ],
            "type": "histogram2d"
           }
          ],
          "histogram2dcontour": [
           {
            "colorbar": {
             "outlinewidth": 0,
             "ticks": ""
            },
            "colorscale": [
             [
              0,
              "#0d0887"
             ],
             [
              0.1111111111111111,
              "#46039f"
             ],
             [
              0.2222222222222222,
              "#7201a8"
             ],
             [
              0.3333333333333333,
              "#9c179e"
             ],
             [
              0.4444444444444444,
              "#bd3786"
             ],
             [
              0.5555555555555556,
              "#d8576b"
             ],
             [
              0.6666666666666666,
              "#ed7953"
             ],
             [
              0.7777777777777778,
              "#fb9f3a"
             ],
             [
              0.8888888888888888,
              "#fdca26"
             ],
             [
              1,
              "#f0f921"
             ]
            ],
            "type": "histogram2dcontour"
           }
          ],
          "mesh3d": [
           {
            "colorbar": {
             "outlinewidth": 0,
             "ticks": ""
            },
            "type": "mesh3d"
           }
          ],
          "parcoords": [
           {
            "line": {
             "colorbar": {
              "outlinewidth": 0,
              "ticks": ""
             }
            },
            "type": "parcoords"
           }
          ],
          "pie": [
           {
            "automargin": true,
            "type": "pie"
           }
          ],
          "scatter": [
           {
            "fillpattern": {
             "fillmode": "overlay",
             "size": 10,
             "solidity": 0.2
            },
            "type": "scatter"
           }
          ],
          "scatter3d": [
           {
            "line": {
             "colorbar": {
              "outlinewidth": 0,
              "ticks": ""
             }
            },
            "marker": {
             "colorbar": {
              "outlinewidth": 0,
              "ticks": ""
             }
            },
            "type": "scatter3d"
           }
          ],
          "scattercarpet": [
           {
            "marker": {
             "colorbar": {
              "outlinewidth": 0,
              "ticks": ""
             }
            },
            "type": "scattercarpet"
           }
          ],
          "scattergeo": [
           {
            "marker": {
             "colorbar": {
              "outlinewidth": 0,
              "ticks": ""
             }
            },
            "type": "scattergeo"
           }
          ],
          "scattergl": [
           {
            "marker": {
             "colorbar": {
              "outlinewidth": 0,
              "ticks": ""
             }
            },
            "type": "scattergl"
           }
          ],
          "scattermapbox": [
           {
            "marker": {
             "colorbar": {
              "outlinewidth": 0,
              "ticks": ""
             }
            },
            "type": "scattermapbox"
           }
          ],
          "scatterpolar": [
           {
            "marker": {
             "colorbar": {
              "outlinewidth": 0,
              "ticks": ""
             }
            },
            "type": "scatterpolar"
           }
          ],
          "scatterpolargl": [
           {
            "marker": {
             "colorbar": {
              "outlinewidth": 0,
              "ticks": ""
             }
            },
            "type": "scatterpolargl"
           }
          ],
          "scatterternary": [
           {
            "marker": {
             "colorbar": {
              "outlinewidth": 0,
              "ticks": ""
             }
            },
            "type": "scatterternary"
           }
          ],
          "surface": [
           {
            "colorbar": {
             "outlinewidth": 0,
             "ticks": ""
            },
            "colorscale": [
             [
              0,
              "#0d0887"
             ],
             [
              0.1111111111111111,
              "#46039f"
             ],
             [
              0.2222222222222222,
              "#7201a8"
             ],
             [
              0.3333333333333333,
              "#9c179e"
             ],
             [
              0.4444444444444444,
              "#bd3786"
             ],
             [
              0.5555555555555556,
              "#d8576b"
             ],
             [
              0.6666666666666666,
              "#ed7953"
             ],
             [
              0.7777777777777778,
              "#fb9f3a"
             ],
             [
              0.8888888888888888,
              "#fdca26"
             ],
             [
              1,
              "#f0f921"
             ]
            ],
            "type": "surface"
           }
          ],
          "table": [
           {
            "cells": {
             "fill": {
              "color": "#EBF0F8"
             },
             "line": {
              "color": "white"
             }
            },
            "header": {
             "fill": {
              "color": "#C8D4E3"
             },
             "line": {
              "color": "white"
             }
            },
            "type": "table"
           }
          ]
         },
         "layout": {
          "annotationdefaults": {
           "arrowcolor": "#2a3f5f",
           "arrowhead": 0,
           "arrowwidth": 1
          },
          "autotypenumbers": "strict",
          "coloraxis": {
           "colorbar": {
            "outlinewidth": 0,
            "ticks": ""
           }
          },
          "colorscale": {
           "diverging": [
            [
             0,
             "#8e0152"
            ],
            [
             0.1,
             "#c51b7d"
            ],
            [
             0.2,
             "#de77ae"
            ],
            [
             0.3,
             "#f1b6da"
            ],
            [
             0.4,
             "#fde0ef"
            ],
            [
             0.5,
             "#f7f7f7"
            ],
            [
             0.6,
             "#e6f5d0"
            ],
            [
             0.7,
             "#b8e186"
            ],
            [
             0.8,
             "#7fbc41"
            ],
            [
             0.9,
             "#4d9221"
            ],
            [
             1,
             "#276419"
            ]
           ],
           "sequential": [
            [
             0,
             "#0d0887"
            ],
            [
             0.1111111111111111,
             "#46039f"
            ],
            [
             0.2222222222222222,
             "#7201a8"
            ],
            [
             0.3333333333333333,
             "#9c179e"
            ],
            [
             0.4444444444444444,
             "#bd3786"
            ],
            [
             0.5555555555555556,
             "#d8576b"
            ],
            [
             0.6666666666666666,
             "#ed7953"
            ],
            [
             0.7777777777777778,
             "#fb9f3a"
            ],
            [
             0.8888888888888888,
             "#fdca26"
            ],
            [
             1,
             "#f0f921"
            ]
           ],
           "sequentialminus": [
            [
             0,
             "#0d0887"
            ],
            [
             0.1111111111111111,
             "#46039f"
            ],
            [
             0.2222222222222222,
             "#7201a8"
            ],
            [
             0.3333333333333333,
             "#9c179e"
            ],
            [
             0.4444444444444444,
             "#bd3786"
            ],
            [
             0.5555555555555556,
             "#d8576b"
            ],
            [
             0.6666666666666666,
             "#ed7953"
            ],
            [
             0.7777777777777778,
             "#fb9f3a"
            ],
            [
             0.8888888888888888,
             "#fdca26"
            ],
            [
             1,
             "#f0f921"
            ]
           ]
          },
          "colorway": [
           "#636efa",
           "#EF553B",
           "#00cc96",
           "#ab63fa",
           "#FFA15A",
           "#19d3f3",
           "#FF6692",
           "#B6E880",
           "#FF97FF",
           "#FECB52"
          ],
          "font": {
           "color": "#2a3f5f"
          },
          "geo": {
           "bgcolor": "white",
           "lakecolor": "white",
           "landcolor": "#E5ECF6",
           "showlakes": true,
           "showland": true,
           "subunitcolor": "white"
          },
          "hoverlabel": {
           "align": "left"
          },
          "hovermode": "closest",
          "mapbox": {
           "style": "light"
          },
          "paper_bgcolor": "white",
          "plot_bgcolor": "#E5ECF6",
          "polar": {
           "angularaxis": {
            "gridcolor": "white",
            "linecolor": "white",
            "ticks": ""
           },
           "bgcolor": "#E5ECF6",
           "radialaxis": {
            "gridcolor": "white",
            "linecolor": "white",
            "ticks": ""
           }
          },
          "scene": {
           "xaxis": {
            "backgroundcolor": "#E5ECF6",
            "gridcolor": "white",
            "gridwidth": 2,
            "linecolor": "white",
            "showbackground": true,
            "ticks": "",
            "zerolinecolor": "white"
           },
           "yaxis": {
            "backgroundcolor": "#E5ECF6",
            "gridcolor": "white",
            "gridwidth": 2,
            "linecolor": "white",
            "showbackground": true,
            "ticks": "",
            "zerolinecolor": "white"
           },
           "zaxis": {
            "backgroundcolor": "#E5ECF6",
            "gridcolor": "white",
            "gridwidth": 2,
            "linecolor": "white",
            "showbackground": true,
            "ticks": "",
            "zerolinecolor": "white"
           }
          },
          "shapedefaults": {
           "line": {
            "color": "#2a3f5f"
           }
          },
          "ternary": {
           "aaxis": {
            "gridcolor": "white",
            "linecolor": "white",
            "ticks": ""
           },
           "baxis": {
            "gridcolor": "white",
            "linecolor": "white",
            "ticks": ""
           },
           "bgcolor": "#E5ECF6",
           "caxis": {
            "gridcolor": "white",
            "linecolor": "white",
            "ticks": ""
           }
          },
          "title": {
           "x": 0.05
          },
          "xaxis": {
           "automargin": true,
           "gridcolor": "white",
           "linecolor": "white",
           "ticks": "",
           "title": {
            "standoff": 15
           },
           "zerolinecolor": "white",
           "zerolinewidth": 2
          },
          "yaxis": {
           "automargin": true,
           "gridcolor": "white",
           "linecolor": "white",
           "ticks": "",
           "title": {
            "standoff": 15
           },
           "zerolinecolor": "white",
           "zerolinewidth": 2
          }
         }
        },
        "title": {
         "text": "Label: Swinub"
        },
        "width": 500,
        "xaxis": {
         "anchor": "y",
         "domain": [
          0,
          1
         ],
         "showgrid": false,
         "showticklabels": false,
         "visible": false,
         "zeroline": false
        },
        "yaxis": {
         "anchor": "x",
         "domain": [
          0,
          1
         ],
         "showgrid": false,
         "showticklabels": false,
         "visible": false,
         "zeroline": false
        }
       }
      }
     },
     "metadata": {},
     "output_type": "display_data"
    }
   ],
   "source": [
    "plot_n_images(train_ds, 1)"
   ]
  },
  {
   "attachments": {},
   "cell_type": "markdown",
   "metadata": {},
   "source": [
    "### Preprocessing"
   ]
  },
  {
   "cell_type": "code",
   "execution_count": 7,
   "metadata": {},
   "outputs": [],
   "source": [
    "flip_and_rotate = tf.keras.Sequential([\n",
    "    tf.keras.layers.experimental.preprocessing.RandomFlip(\"horizontal\"),\n",
    "    tf.keras.layers.experimental.preprocessing.RandomRotation(0.1, fill_mode=\"constant\", fill_value=255),\n",
    "    # tf.keras.layers.experimental.preprocessing.RandomZoom(0.1),\n",
    "])\n",
    "\n",
    "def preprocess_image(image):\n",
    "    # print(image.shape)\n",
    "    alpha_channel = image[:, :, :, 3]\n",
    "    rgb_channels = image[:, :, :, :3]\n",
    "    alpha_bool = alpha_channel > 0\n",
    "    alpha_bool = tf.expand_dims(alpha_bool, axis=-1)\n",
    "    # print(alpha_bool.shape)\n",
    "    # print(rgb_channels.shape)\n",
    "    rgb_channels = tf.where(alpha_bool, rgb_channels, 255)\n",
    "    \n",
    "    # Normalize the pixel values to be between 0 and 1\n",
    "    image = preprocess_input(rgb_channels)\n",
    "    \n",
    "    return image\n",
    "\n",
    "def prepare(ds, shuffle=False, augment=False):\n",
    "    ds = ds.map(lambda x, y: (preprocess_image(x), y), num_parallel_calls=tf.data.AUTOTUNE)\n",
    "\n",
    "    # Use data augmentation only on the training set\n",
    "    if augment:\n",
    "        ds = ds.map(lambda x, y: (flip_and_rotate(x, training=True), y), num_parallel_calls=tf.data.AUTOTUNE)\n",
    "    \n",
    "    # Use buffered prefecting on all datasets\n",
    "    if shuffle:\n",
    "        ds = ds.shuffle(1000)\n",
    "\n",
    "    # ds = ds.batch(batch_size)\n",
    "    ds = ds.prefetch(buffer_size=tf.data.AUTOTUNE)\n",
    "\n",
    "    return ds"
   ]
  },
  {
   "cell_type": "code",
   "execution_count": 8,
   "metadata": {},
   "outputs": [
    {
     "name": "stdout",
     "output_type": "stream",
     "text": [
      "WARNING:tensorflow:Using a while_loop for converting RngReadAndSkip cause there is no registered converter for this op.\n",
      "WARNING:tensorflow:Using a while_loop for converting Bitcast cause there is no registered converter for this op.\n",
      "WARNING:tensorflow:Using a while_loop for converting Bitcast cause there is no registered converter for this op.\n",
      "WARNING:tensorflow:Using a while_loop for converting StatelessRandomUniformV2 cause there is no registered converter for this op.\n",
      "WARNING:tensorflow:Using a while_loop for converting ImageProjectiveTransformV3 cause there is no registered converter for this op.\n",
      "WARNING:tensorflow:Using a while_loop for converting RngReadAndSkip cause there is no registered converter for this op.\n",
      "WARNING:tensorflow:Using a while_loop for converting Bitcast cause there is no registered converter for this op.\n",
      "WARNING:tensorflow:Using a while_loop for converting Bitcast cause there is no registered converter for this op.\n",
      "WARNING:tensorflow:Using a while_loop for converting StatelessRandomUniformV2 cause there is no registered converter for this op.\n",
      "WARNING:tensorflow:Using a while_loop for converting ImageProjectiveTransformV3 cause there is no registered converter for this op.\n"
     ]
    }
   ],
   "source": [
    "train_ds = prepare(train_ds, shuffle=True, augment=True)\n",
    "val_ds = prepare(val_ds)\n",
    "\n",
    "channels = 3\n",
    "input_shape = (width, height, channels)"
   ]
  },
  {
   "cell_type": "code",
   "execution_count": 9,
   "metadata": {},
   "outputs": [
    {
     "name": "stdout",
     "output_type": "stream",
     "text": [
      "tf.Tensor([255. 255. 255.], shape=(3,), dtype=float32)\n",
      "(128, 128, 3)\n"
     ]
    },
    {
     "data": {
      "application/vnd.plotly.v1+json": {
       "config": {
        "plotlyServerURL": "https://plot.ly"
       },
       "data": [
        {
         "hovertemplate": "x: %{x}<br>y: %{y}<extra></extra>",
         "name": "0",
         "source": "data:image/png;base64,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",
         "type": "image",
         "xaxis": "x",
         "yaxis": "y"
        }
       ],
       "layout": {
        "height": 350,
        "margin": {
         "l": 0,
         "t": 60
        },
        "shapes": [
         {
          "line": {
           "color": "black",
           "width": 2
          },
          "type": "rect",
          "x0": 0,
          "x1": 128,
          "xref": "x",
          "y0": 0,
          "y1": 128,
          "yref": "y"
         }
        ],
        "template": {
         "data": {
          "bar": [
           {
            "error_x": {
             "color": "#2a3f5f"
            },
            "error_y": {
             "color": "#2a3f5f"
            },
            "marker": {
             "line": {
              "color": "#E5ECF6",
              "width": 0.5
             },
             "pattern": {
              "fillmode": "overlay",
              "size": 10,
              "solidity": 0.2
             }
            },
            "type": "bar"
           }
          ],
          "barpolar": [
           {
            "marker": {
             "line": {
              "color": "#E5ECF6",
              "width": 0.5
             },
             "pattern": {
              "fillmode": "overlay",
              "size": 10,
              "solidity": 0.2
             }
            },
            "type": "barpolar"
           }
          ],
          "carpet": [
           {
            "aaxis": {
             "endlinecolor": "#2a3f5f",
             "gridcolor": "white",
             "linecolor": "white",
             "minorgridcolor": "white",
             "startlinecolor": "#2a3f5f"
            },
            "baxis": {
             "endlinecolor": "#2a3f5f",
             "gridcolor": "white",
             "linecolor": "white",
             "minorgridcolor": "white",
             "startlinecolor": "#2a3f5f"
            },
            "type": "carpet"
           }
          ],
          "choropleth": [
           {
            "colorbar": {
             "outlinewidth": 0,
             "ticks": ""
            },
            "type": "choropleth"
           }
          ],
          "contour": [
           {
            "colorbar": {
             "outlinewidth": 0,
             "ticks": ""
            },
            "colorscale": [
             [
              0,
              "#0d0887"
             ],
             [
              0.1111111111111111,
              "#46039f"
             ],
             [
              0.2222222222222222,
              "#7201a8"
             ],
             [
              0.3333333333333333,
              "#9c179e"
             ],
             [
              0.4444444444444444,
              "#bd3786"
             ],
             [
              0.5555555555555556,
              "#d8576b"
             ],
             [
              0.6666666666666666,
              "#ed7953"
             ],
             [
              0.7777777777777778,
              "#fb9f3a"
             ],
             [
              0.8888888888888888,
              "#fdca26"
             ],
             [
              1,
              "#f0f921"
             ]
            ],
            "type": "contour"
           }
          ],
          "contourcarpet": [
           {
            "colorbar": {
             "outlinewidth": 0,
             "ticks": ""
            },
            "type": "contourcarpet"
           }
          ],
          "heatmap": [
           {
            "colorbar": {
             "outlinewidth": 0,
             "ticks": ""
            },
            "colorscale": [
             [
              0,
              "#0d0887"
             ],
             [
              0.1111111111111111,
              "#46039f"
             ],
             [
              0.2222222222222222,
              "#7201a8"
             ],
             [
              0.3333333333333333,
              "#9c179e"
             ],
             [
              0.4444444444444444,
              "#bd3786"
             ],
             [
              0.5555555555555556,
              "#d8576b"
             ],
             [
              0.6666666666666666,
              "#ed7953"
             ],
             [
              0.7777777777777778,
              "#fb9f3a"
             ],
             [
              0.8888888888888888,
              "#fdca26"
             ],
             [
              1,
              "#f0f921"
             ]
            ],
            "type": "heatmap"
           }
          ],
          "heatmapgl": [
           {
            "colorbar": {
             "outlinewidth": 0,
             "ticks": ""
            },
            "colorscale": [
             [
              0,
              "#0d0887"
             ],
             [
              0.1111111111111111,
              "#46039f"
             ],
             [
              0.2222222222222222,
              "#7201a8"
             ],
             [
              0.3333333333333333,
              "#9c179e"
             ],
             [
              0.4444444444444444,
              "#bd3786"
             ],
             [
              0.5555555555555556,
              "#d8576b"
             ],
             [
              0.6666666666666666,
              "#ed7953"
             ],
             [
              0.7777777777777778,
              "#fb9f3a"
             ],
             [
              0.8888888888888888,
              "#fdca26"
             ],
             [
              1,
              "#f0f921"
             ]
            ],
            "type": "heatmapgl"
           }
          ],
          "histogram": [
           {
            "marker": {
             "pattern": {
              "fillmode": "overlay",
              "size": 10,
              "solidity": 0.2
             }
            },
            "type": "histogram"
           }
          ],
          "histogram2d": [
           {
            "colorbar": {
             "outlinewidth": 0,
             "ticks": ""
            },
            "colorscale": [
             [
              0,
              "#0d0887"
             ],
             [
              0.1111111111111111,
              "#46039f"
             ],
             [
              0.2222222222222222,
              "#7201a8"
             ],
             [
              0.3333333333333333,
              "#9c179e"
             ],
             [
              0.4444444444444444,
              "#bd3786"
             ],
             [
              0.5555555555555556,
              "#d8576b"
             ],
             [
              0.6666666666666666,
              "#ed7953"
             ],
             [
              0.7777777777777778,
              "#fb9f3a"
             ],
             [
              0.8888888888888888,
              "#fdca26"
             ],
             [
              1,
              "#f0f921"
             ]
            ],
            "type": "histogram2d"
           }
          ],
          "histogram2dcontour": [
           {
            "colorbar": {
             "outlinewidth": 0,
             "ticks": ""
            },
            "colorscale": [
             [
              0,
              "#0d0887"
             ],
             [
              0.1111111111111111,
              "#46039f"
             ],
             [
              0.2222222222222222,
              "#7201a8"
             ],
             [
              0.3333333333333333,
              "#9c179e"
             ],
             [
              0.4444444444444444,
              "#bd3786"
             ],
             [
              0.5555555555555556,
              "#d8576b"
             ],
             [
              0.6666666666666666,
              "#ed7953"
             ],
             [
              0.7777777777777778,
              "#fb9f3a"
             ],
             [
              0.8888888888888888,
              "#fdca26"
             ],
             [
              1,
              "#f0f921"
             ]
            ],
            "type": "histogram2dcontour"
           }
          ],
          "mesh3d": [
           {
            "colorbar": {
             "outlinewidth": 0,
             "ticks": ""
            },
            "type": "mesh3d"
           }
          ],
          "parcoords": [
           {
            "line": {
             "colorbar": {
              "outlinewidth": 0,
              "ticks": ""
             }
            },
            "type": "parcoords"
           }
          ],
          "pie": [
           {
            "automargin": true,
            "type": "pie"
           }
          ],
          "scatter": [
           {
            "fillpattern": {
             "fillmode": "overlay",
             "size": 10,
             "solidity": 0.2
            },
            "type": "scatter"
           }
          ],
          "scatter3d": [
           {
            "line": {
             "colorbar": {
              "outlinewidth": 0,
              "ticks": ""
             }
            },
            "marker": {
             "colorbar": {
              "outlinewidth": 0,
              "ticks": ""
             }
            },
            "type": "scatter3d"
           }
          ],
          "scattercarpet": [
           {
            "marker": {
             "colorbar": {
              "outlinewidth": 0,
              "ticks": ""
             }
            },
            "type": "scattercarpet"
           }
          ],
          "scattergeo": [
           {
            "marker": {
             "colorbar": {
              "outlinewidth": 0,
              "ticks": ""
             }
            },
            "type": "scattergeo"
           }
          ],
          "scattergl": [
           {
            "marker": {
             "colorbar": {
              "outlinewidth": 0,
              "ticks": ""
             }
            },
            "type": "scattergl"
           }
          ],
          "scattermapbox": [
           {
            "marker": {
             "colorbar": {
              "outlinewidth": 0,
              "ticks": ""
             }
            },
            "type": "scattermapbox"
           }
          ],
          "scatterpolar": [
           {
            "marker": {
             "colorbar": {
              "outlinewidth": 0,
              "ticks": ""
             }
            },
            "type": "scatterpolar"
           }
          ],
          "scatterpolargl": [
           {
            "marker": {
             "colorbar": {
              "outlinewidth": 0,
              "ticks": ""
             }
            },
            "type": "scatterpolargl"
           }
          ],
          "scatterternary": [
           {
            "marker": {
             "colorbar": {
              "outlinewidth": 0,
              "ticks": ""
             }
            },
            "type": "scatterternary"
           }
          ],
          "surface": [
           {
            "colorbar": {
             "outlinewidth": 0,
             "ticks": ""
            },
            "colorscale": [
             [
              0,
              "#0d0887"
             ],
             [
              0.1111111111111111,
              "#46039f"
             ],
             [
              0.2222222222222222,
              "#7201a8"
             ],
             [
              0.3333333333333333,
              "#9c179e"
             ],
             [
              0.4444444444444444,
              "#bd3786"
             ],
             [
              0.5555555555555556,
              "#d8576b"
             ],
             [
              0.6666666666666666,
              "#ed7953"
             ],
             [
              0.7777777777777778,
              "#fb9f3a"
             ],
             [
              0.8888888888888888,
              "#fdca26"
             ],
             [
              1,
              "#f0f921"
             ]
            ],
            "type": "surface"
           }
          ],
          "table": [
           {
            "cells": {
             "fill": {
              "color": "#EBF0F8"
             },
             "line": {
              "color": "white"
             }
            },
            "header": {
             "fill": {
              "color": "#C8D4E3"
             },
             "line": {
              "color": "white"
             }
            },
            "type": "table"
           }
          ]
         },
         "layout": {
          "annotationdefaults": {
           "arrowcolor": "#2a3f5f",
           "arrowhead": 0,
           "arrowwidth": 1
          },
          "autotypenumbers": "strict",
          "coloraxis": {
           "colorbar": {
            "outlinewidth": 0,
            "ticks": ""
           }
          },
          "colorscale": {
           "diverging": [
            [
             0,
             "#8e0152"
            ],
            [
             0.1,
             "#c51b7d"
            ],
            [
             0.2,
             "#de77ae"
            ],
            [
             0.3,
             "#f1b6da"
            ],
            [
             0.4,
             "#fde0ef"
            ],
            [
             0.5,
             "#f7f7f7"
            ],
            [
             0.6,
             "#e6f5d0"
            ],
            [
             0.7,
             "#b8e186"
            ],
            [
             0.8,
             "#7fbc41"
            ],
            [
             0.9,
             "#4d9221"
            ],
            [
             1,
             "#276419"
            ]
           ],
           "sequential": [
            [
             0,
             "#0d0887"
            ],
            [
             0.1111111111111111,
             "#46039f"
            ],
            [
             0.2222222222222222,
             "#7201a8"
            ],
            [
             0.3333333333333333,
             "#9c179e"
            ],
            [
             0.4444444444444444,
             "#bd3786"
            ],
            [
             0.5555555555555556,
             "#d8576b"
            ],
            [
             0.6666666666666666,
             "#ed7953"
            ],
            [
             0.7777777777777778,
             "#fb9f3a"
            ],
            [
             0.8888888888888888,
             "#fdca26"
            ],
            [
             1,
             "#f0f921"
            ]
           ],
           "sequentialminus": [
            [
             0,
             "#0d0887"
            ],
            [
             0.1111111111111111,
             "#46039f"
            ],
            [
             0.2222222222222222,
             "#7201a8"
            ],
            [
             0.3333333333333333,
             "#9c179e"
            ],
            [
             0.4444444444444444,
             "#bd3786"
            ],
            [
             0.5555555555555556,
             "#d8576b"
            ],
            [
             0.6666666666666666,
             "#ed7953"
            ],
            [
             0.7777777777777778,
             "#fb9f3a"
            ],
            [
             0.8888888888888888,
             "#fdca26"
            ],
            [
             1,
             "#f0f921"
            ]
           ]
          },
          "colorway": [
           "#636efa",
           "#EF553B",
           "#00cc96",
           "#ab63fa",
           "#FFA15A",
           "#19d3f3",
           "#FF6692",
           "#B6E880",
           "#FF97FF",
           "#FECB52"
          ],
          "font": {
           "color": "#2a3f5f"
          },
          "geo": {
           "bgcolor": "white",
           "lakecolor": "white",
           "landcolor": "#E5ECF6",
           "showlakes": true,
           "showland": true,
           "subunitcolor": "white"
          },
          "hoverlabel": {
           "align": "left"
          },
          "hovermode": "closest",
          "mapbox": {
           "style": "light"
          },
          "paper_bgcolor": "white",
          "plot_bgcolor": "#E5ECF6",
          "polar": {
           "angularaxis": {
            "gridcolor": "white",
            "linecolor": "white",
            "ticks": ""
           },
           "bgcolor": "#E5ECF6",
           "radialaxis": {
            "gridcolor": "white",
            "linecolor": "white",
            "ticks": ""
           }
          },
          "scene": {
           "xaxis": {
            "backgroundcolor": "#E5ECF6",
            "gridcolor": "white",
            "gridwidth": 2,
            "linecolor": "white",
            "showbackground": true,
            "ticks": "",
            "zerolinecolor": "white"
           },
           "yaxis": {
            "backgroundcolor": "#E5ECF6",
            "gridcolor": "white",
            "gridwidth": 2,
            "linecolor": "white",
            "showbackground": true,
            "ticks": "",
            "zerolinecolor": "white"
           },
           "zaxis": {
            "backgroundcolor": "#E5ECF6",
            "gridcolor": "white",
            "gridwidth": 2,
            "linecolor": "white",
            "showbackground": true,
            "ticks": "",
            "zerolinecolor": "white"
           }
          },
          "shapedefaults": {
           "line": {
            "color": "#2a3f5f"
           }
          },
          "ternary": {
           "aaxis": {
            "gridcolor": "white",
            "linecolor": "white",
            "ticks": ""
           },
           "baxis": {
            "gridcolor": "white",
            "linecolor": "white",
            "ticks": ""
           },
           "bgcolor": "#E5ECF6",
           "caxis": {
            "gridcolor": "white",
            "linecolor": "white",
            "ticks": ""
           }
          },
          "title": {
           "x": 0.05
          },
          "xaxis": {
           "automargin": true,
           "gridcolor": "white",
           "linecolor": "white",
           "ticks": "",
           "title": {
            "standoff": 15
           },
           "zerolinecolor": "white",
           "zerolinewidth": 2
          },
          "yaxis": {
           "automargin": true,
           "gridcolor": "white",
           "linecolor": "white",
           "ticks": "",
           "title": {
            "standoff": 15
           },
           "zerolinecolor": "white",
           "zerolinewidth": 2
          }
         }
        },
        "title": {
         "text": "Label: Deino"
        },
        "width": 500,
        "xaxis": {
         "anchor": "y",
         "domain": [
          0,
          1
         ],
         "showgrid": false,
         "showticklabels": false,
         "visible": false,
         "zeroline": false
        },
        "yaxis": {
         "anchor": "x",
         "domain": [
          0,
          1
         ],
         "showgrid": false,
         "showticklabels": false,
         "visible": false,
         "zeroline": false
        }
       }
      }
     },
     "metadata": {},
     "output_type": "display_data"
    },
    {
     "name": "stdout",
     "output_type": "stream",
     "text": [
      "tf.Tensor([255. 255. 255.], shape=(3,), dtype=float32)\n",
      "(128, 128, 3)\n"
     ]
    },
    {
     "data": {
      "application/vnd.plotly.v1+json": {
       "config": {
        "plotlyServerURL": "https://plot.ly"
       },
       "data": [
        {
         "hovertemplate": "x: %{x}<br>y: %{y}<extra></extra>",
         "name": "0",
         "source": "data:image/png;base64,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",
         "type": "image",
         "xaxis": "x",
         "yaxis": "y"
        }
       ],
       "layout": {
        "height": 350,
        "margin": {
         "l": 0,
         "t": 60
        },
        "shapes": [
         {
          "line": {
           "color": "black",
           "width": 2
          },
          "type": "rect",
          "x0": 0,
          "x1": 128,
          "xref": "x",
          "y0": 0,
          "y1": 128,
          "yref": "y"
         }
        ],
        "template": {
         "data": {
          "bar": [
           {
            "error_x": {
             "color": "#2a3f5f"
            },
            "error_y": {
             "color": "#2a3f5f"
            },
            "marker": {
             "line": {
              "color": "#E5ECF6",
              "width": 0.5
             },
             "pattern": {
              "fillmode": "overlay",
              "size": 10,
              "solidity": 0.2
             }
            },
            "type": "bar"
           }
          ],
          "barpolar": [
           {
            "marker": {
             "line": {
              "color": "#E5ECF6",
              "width": 0.5
             },
             "pattern": {
              "fillmode": "overlay",
              "size": 10,
              "solidity": 0.2
             }
            },
            "type": "barpolar"
           }
          ],
          "carpet": [
           {
            "aaxis": {
             "endlinecolor": "#2a3f5f",
             "gridcolor": "white",
             "linecolor": "white",
             "minorgridcolor": "white",
             "startlinecolor": "#2a3f5f"
            },
            "baxis": {
             "endlinecolor": "#2a3f5f",
             "gridcolor": "white",
             "linecolor": "white",
             "minorgridcolor": "white",
             "startlinecolor": "#2a3f5f"
            },
            "type": "carpet"
           }
          ],
          "choropleth": [
           {
            "colorbar": {
             "outlinewidth": 0,
             "ticks": ""
            },
            "type": "choropleth"
           }
          ],
          "contour": [
           {
            "colorbar": {
             "outlinewidth": 0,
             "ticks": ""
            },
            "colorscale": [
             [
              0,
              "#0d0887"
             ],
             [
              0.1111111111111111,
              "#46039f"
             ],
             [
              0.2222222222222222,
              "#7201a8"
             ],
             [
              0.3333333333333333,
              "#9c179e"
             ],
             [
              0.4444444444444444,
              "#bd3786"
             ],
             [
              0.5555555555555556,
              "#d8576b"
             ],
             [
              0.6666666666666666,
              "#ed7953"
             ],
             [
              0.7777777777777778,
              "#fb9f3a"
             ],
             [
              0.8888888888888888,
              "#fdca26"
             ],
             [
              1,
              "#f0f921"
             ]
            ],
            "type": "contour"
           }
          ],
          "contourcarpet": [
           {
            "colorbar": {
             "outlinewidth": 0,
             "ticks": ""
            },
            "type": "contourcarpet"
           }
          ],
          "heatmap": [
           {
            "colorbar": {
             "outlinewidth": 0,
             "ticks": ""
            },
            "colorscale": [
             [
              0,
              "#0d0887"
             ],
             [
              0.1111111111111111,
              "#46039f"
             ],
             [
              0.2222222222222222,
              "#7201a8"
             ],
             [
              0.3333333333333333,
              "#9c179e"
             ],
             [
              0.4444444444444444,
              "#bd3786"
             ],
             [
              0.5555555555555556,
              "#d8576b"
             ],
             [
              0.6666666666666666,
              "#ed7953"
             ],
             [
              0.7777777777777778,
              "#fb9f3a"
             ],
             [
              0.8888888888888888,
              "#fdca26"
             ],
             [
              1,
              "#f0f921"
             ]
            ],
            "type": "heatmap"
           }
          ],
          "heatmapgl": [
           {
            "colorbar": {
             "outlinewidth": 0,
             "ticks": ""
            },
            "colorscale": [
             [
              0,
              "#0d0887"
             ],
             [
              0.1111111111111111,
              "#46039f"
             ],
             [
              0.2222222222222222,
              "#7201a8"
             ],
             [
              0.3333333333333333,
              "#9c179e"
             ],
             [
              0.4444444444444444,
              "#bd3786"
             ],
             [
              0.5555555555555556,
              "#d8576b"
             ],
             [
              0.6666666666666666,
              "#ed7953"
             ],
             [
              0.7777777777777778,
              "#fb9f3a"
             ],
             [
              0.8888888888888888,
              "#fdca26"
             ],
             [
              1,
              "#f0f921"
             ]
            ],
            "type": "heatmapgl"
           }
          ],
          "histogram": [
           {
            "marker": {
             "pattern": {
              "fillmode": "overlay",
              "size": 10,
              "solidity": 0.2
             }
            },
            "type": "histogram"
           }
          ],
          "histogram2d": [
           {
            "colorbar": {
             "outlinewidth": 0,
             "ticks": ""
            },
            "colorscale": [
             [
              0,
              "#0d0887"
             ],
             [
              0.1111111111111111,
              "#46039f"
             ],
             [
              0.2222222222222222,
              "#7201a8"
             ],
             [
              0.3333333333333333,
              "#9c179e"
             ],
             [
              0.4444444444444444,
              "#bd3786"
             ],
             [
              0.5555555555555556,
              "#d8576b"
             ],
             [
              0.6666666666666666,
              "#ed7953"
             ],
             [
              0.7777777777777778,
              "#fb9f3a"
             ],
             [
              0.8888888888888888,
              "#fdca26"
             ],
             [
              1,
              "#f0f921"
             ]
            ],
            "type": "histogram2d"
           }
          ],
          "histogram2dcontour": [
           {
            "colorbar": {
             "outlinewidth": 0,
             "ticks": ""
            },
            "colorscale": [
             [
              0,
              "#0d0887"
             ],
             [
              0.1111111111111111,
              "#46039f"
             ],
             [
              0.2222222222222222,
              "#7201a8"
             ],
             [
              0.3333333333333333,
              "#9c179e"
             ],
             [
              0.4444444444444444,
              "#bd3786"
             ],
             [
              0.5555555555555556,
              "#d8576b"
             ],
             [
              0.6666666666666666,
              "#ed7953"
             ],
             [
              0.7777777777777778,
              "#fb9f3a"
             ],
             [
              0.8888888888888888,
              "#fdca26"
             ],
             [
              1,
              "#f0f921"
             ]
            ],
            "type": "histogram2dcontour"
           }
          ],
          "mesh3d": [
           {
            "colorbar": {
             "outlinewidth": 0,
             "ticks": ""
            },
            "type": "mesh3d"
           }
          ],
          "parcoords": [
           {
            "line": {
             "colorbar": {
              "outlinewidth": 0,
              "ticks": ""
             }
            },
            "type": "parcoords"
           }
          ],
          "pie": [
           {
            "automargin": true,
            "type": "pie"
           }
          ],
          "scatter": [
           {
            "fillpattern": {
             "fillmode": "overlay",
             "size": 10,
             "solidity": 0.2
            },
            "type": "scatter"
           }
          ],
          "scatter3d": [
           {
            "line": {
             "colorbar": {
              "outlinewidth": 0,
              "ticks": ""
             }
            },
            "marker": {
             "colorbar": {
              "outlinewidth": 0,
              "ticks": ""
             }
            },
            "type": "scatter3d"
           }
          ],
          "scattercarpet": [
           {
            "marker": {
             "colorbar": {
              "outlinewidth": 0,
              "ticks": ""
             }
            },
            "type": "scattercarpet"
           }
          ],
          "scattergeo": [
           {
            "marker": {
             "colorbar": {
              "outlinewidth": 0,
              "ticks": ""
             }
            },
            "type": "scattergeo"
           }
          ],
          "scattergl": [
           {
            "marker": {
             "colorbar": {
              "outlinewidth": 0,
              "ticks": ""
             }
            },
            "type": "scattergl"
           }
          ],
          "scattermapbox": [
           {
            "marker": {
             "colorbar": {
              "outlinewidth": 0,
              "ticks": ""
             }
            },
            "type": "scattermapbox"
           }
          ],
          "scatterpolar": [
           {
            "marker": {
             "colorbar": {
              "outlinewidth": 0,
              "ticks": ""
             }
            },
            "type": "scatterpolar"
           }
          ],
          "scatterpolargl": [
           {
            "marker": {
             "colorbar": {
              "outlinewidth": 0,
              "ticks": ""
             }
            },
            "type": "scatterpolargl"
           }
          ],
          "scatterternary": [
           {
            "marker": {
             "colorbar": {
              "outlinewidth": 0,
              "ticks": ""
             }
            },
            "type": "scatterternary"
           }
          ],
          "surface": [
           {
            "colorbar": {
             "outlinewidth": 0,
             "ticks": ""
            },
            "colorscale": [
             [
              0,
              "#0d0887"
             ],
             [
              0.1111111111111111,
              "#46039f"
             ],
             [
              0.2222222222222222,
              "#7201a8"
             ],
             [
              0.3333333333333333,
              "#9c179e"
             ],
             [
              0.4444444444444444,
              "#bd3786"
             ],
             [
              0.5555555555555556,
              "#d8576b"
             ],
             [
              0.6666666666666666,
              "#ed7953"
             ],
             [
              0.7777777777777778,
              "#fb9f3a"
             ],
             [
              0.8888888888888888,
              "#fdca26"
             ],
             [
              1,
              "#f0f921"
             ]
            ],
            "type": "surface"
           }
          ],
          "table": [
           {
            "cells": {
             "fill": {
              "color": "#EBF0F8"
             },
             "line": {
              "color": "white"
             }
            },
            "header": {
             "fill": {
              "color": "#C8D4E3"
             },
             "line": {
              "color": "white"
             }
            },
            "type": "table"
           }
          ]
         },
         "layout": {
          "annotationdefaults": {
           "arrowcolor": "#2a3f5f",
           "arrowhead": 0,
           "arrowwidth": 1
          },
          "autotypenumbers": "strict",
          "coloraxis": {
           "colorbar": {
            "outlinewidth": 0,
            "ticks": ""
           }
          },
          "colorscale": {
           "diverging": [
            [
             0,
             "#8e0152"
            ],
            [
             0.1,
             "#c51b7d"
            ],
            [
             0.2,
             "#de77ae"
            ],
            [
             0.3,
             "#f1b6da"
            ],
            [
             0.4,
             "#fde0ef"
            ],
            [
             0.5,
             "#f7f7f7"
            ],
            [
             0.6,
             "#e6f5d0"
            ],
            [
             0.7,
             "#b8e186"
            ],
            [
             0.8,
             "#7fbc41"
            ],
            [
             0.9,
             "#4d9221"
            ],
            [
             1,
             "#276419"
            ]
           ],
           "sequential": [
            [
             0,
             "#0d0887"
            ],
            [
             0.1111111111111111,
             "#46039f"
            ],
            [
             0.2222222222222222,
             "#7201a8"
            ],
            [
             0.3333333333333333,
             "#9c179e"
            ],
            [
             0.4444444444444444,
             "#bd3786"
            ],
            [
             0.5555555555555556,
             "#d8576b"
            ],
            [
             0.6666666666666666,
             "#ed7953"
            ],
            [
             0.7777777777777778,
             "#fb9f3a"
            ],
            [
             0.8888888888888888,
             "#fdca26"
            ],
            [
             1,
             "#f0f921"
            ]
           ],
           "sequentialminus": [
            [
             0,
             "#0d0887"
            ],
            [
             0.1111111111111111,
             "#46039f"
            ],
            [
             0.2222222222222222,
             "#7201a8"
            ],
            [
             0.3333333333333333,
             "#9c179e"
            ],
            [
             0.4444444444444444,
             "#bd3786"
            ],
            [
             0.5555555555555556,
             "#d8576b"
            ],
            [
             0.6666666666666666,
             "#ed7953"
            ],
            [
             0.7777777777777778,
             "#fb9f3a"
            ],
            [
             0.8888888888888888,
             "#fdca26"
            ],
            [
             1,
             "#f0f921"
            ]
           ]
          },
          "colorway": [
           "#636efa",
           "#EF553B",
           "#00cc96",
           "#ab63fa",
           "#FFA15A",
           "#19d3f3",
           "#FF6692",
           "#B6E880",
           "#FF97FF",
           "#FECB52"
          ],
          "font": {
           "color": "#2a3f5f"
          },
          "geo": {
           "bgcolor": "white",
           "lakecolor": "white",
           "landcolor": "#E5ECF6",
           "showlakes": true,
           "showland": true,
           "subunitcolor": "white"
          },
          "hoverlabel": {
           "align": "left"
          },
          "hovermode": "closest",
          "mapbox": {
           "style": "light"
          },
          "paper_bgcolor": "white",
          "plot_bgcolor": "#E5ECF6",
          "polar": {
           "angularaxis": {
            "gridcolor": "white",
            "linecolor": "white",
            "ticks": ""
           },
           "bgcolor": "#E5ECF6",
           "radialaxis": {
            "gridcolor": "white",
            "linecolor": "white",
            "ticks": ""
           }
          },
          "scene": {
           "xaxis": {
            "backgroundcolor": "#E5ECF6",
            "gridcolor": "white",
            "gridwidth": 2,
            "linecolor": "white",
            "showbackground": true,
            "ticks": "",
            "zerolinecolor": "white"
           },
           "yaxis": {
            "backgroundcolor": "#E5ECF6",
            "gridcolor": "white",
            "gridwidth": 2,
            "linecolor": "white",
            "showbackground": true,
            "ticks": "",
            "zerolinecolor": "white"
           },
           "zaxis": {
            "backgroundcolor": "#E5ECF6",
            "gridcolor": "white",
            "gridwidth": 2,
            "linecolor": "white",
            "showbackground": true,
            "ticks": "",
            "zerolinecolor": "white"
           }
          },
          "shapedefaults": {
           "line": {
            "color": "#2a3f5f"
           }
          },
          "ternary": {
           "aaxis": {
            "gridcolor": "white",
            "linecolor": "white",
            "ticks": ""
           },
           "baxis": {
            "gridcolor": "white",
            "linecolor": "white",
            "ticks": ""
           },
           "bgcolor": "#E5ECF6",
           "caxis": {
            "gridcolor": "white",
            "linecolor": "white",
            "ticks": ""
           }
          },
          "title": {
           "x": 0.05
          },
          "xaxis": {
           "automargin": true,
           "gridcolor": "white",
           "linecolor": "white",
           "ticks": "",
           "title": {
            "standoff": 15
           },
           "zerolinecolor": "white",
           "zerolinewidth": 2
          },
          "yaxis": {
           "automargin": true,
           "gridcolor": "white",
           "linecolor": "white",
           "ticks": "",
           "title": {
            "standoff": 15
           },
           "zerolinecolor": "white",
           "zerolinewidth": 2
          }
         }
        },
        "title": {
         "text": "Label: Palpitoad"
        },
        "width": 500,
        "xaxis": {
         "anchor": "y",
         "domain": [
          0,
          1
         ],
         "showgrid": false,
         "showticklabels": false,
         "visible": false,
         "zeroline": false
        },
        "yaxis": {
         "anchor": "x",
         "domain": [
          0,
          1
         ],
         "showgrid": false,
         "showticklabels": false,
         "visible": false,
         "zeroline": false
        }
       }
      }
     },
     "metadata": {},
     "output_type": "display_data"
    },
    {
     "name": "stdout",
     "output_type": "stream",
     "text": [
      "tf.Tensor([255. 255. 255.], shape=(3,), dtype=float32)\n",
      "(128, 128, 3)\n"
     ]
    },
    {
     "data": {
      "application/vnd.plotly.v1+json": {
       "config": {
        "plotlyServerURL": "https://plot.ly"
       },
       "data": [
        {
         "hovertemplate": "x: %{x}<br>y: %{y}<extra></extra>",
         "name": "0",
         "source": "data:image/png;base64,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",
         "type": "image",
         "xaxis": "x",
         "yaxis": "y"
        }
       ],
       "layout": {
        "height": 350,
        "margin": {
         "l": 0,
         "t": 60
        },
        "shapes": [
         {
          "line": {
           "color": "black",
           "width": 2
          },
          "type": "rect",
          "x0": 0,
          "x1": 128,
          "xref": "x",
          "y0": 0,
          "y1": 128,
          "yref": "y"
         }
        ],
        "template": {
         "data": {
          "bar": [
           {
            "error_x": {
             "color": "#2a3f5f"
            },
            "error_y": {
             "color": "#2a3f5f"
            },
            "marker": {
             "line": {
              "color": "#E5ECF6",
              "width": 0.5
             },
             "pattern": {
              "fillmode": "overlay",
              "size": 10,
              "solidity": 0.2
             }
            },
            "type": "bar"
           }
          ],
          "barpolar": [
           {
            "marker": {
             "line": {
              "color": "#E5ECF6",
              "width": 0.5
             },
             "pattern": {
              "fillmode": "overlay",
              "size": 10,
              "solidity": 0.2
             }
            },
            "type": "barpolar"
           }
          ],
          "carpet": [
           {
            "aaxis": {
             "endlinecolor": "#2a3f5f",
             "gridcolor": "white",
             "linecolor": "white",
             "minorgridcolor": "white",
             "startlinecolor": "#2a3f5f"
            },
            "baxis": {
             "endlinecolor": "#2a3f5f",
             "gridcolor": "white",
             "linecolor": "white",
             "minorgridcolor": "white",
             "startlinecolor": "#2a3f5f"
            },
            "type": "carpet"
           }
          ],
          "choropleth": [
           {
            "colorbar": {
             "outlinewidth": 0,
             "ticks": ""
            },
            "type": "choropleth"
           }
          ],
          "contour": [
           {
            "colorbar": {
             "outlinewidth": 0,
             "ticks": ""
            },
            "colorscale": [
             [
              0,
              "#0d0887"
             ],
             [
              0.1111111111111111,
              "#46039f"
             ],
             [
              0.2222222222222222,
              "#7201a8"
             ],
             [
              0.3333333333333333,
              "#9c179e"
             ],
             [
              0.4444444444444444,
              "#bd3786"
             ],
             [
              0.5555555555555556,
              "#d8576b"
             ],
             [
              0.6666666666666666,
              "#ed7953"
             ],
             [
              0.7777777777777778,
              "#fb9f3a"
             ],
             [
              0.8888888888888888,
              "#fdca26"
             ],
             [
              1,
              "#f0f921"
             ]
            ],
            "type": "contour"
           }
          ],
          "contourcarpet": [
           {
            "colorbar": {
             "outlinewidth": 0,
             "ticks": ""
            },
            "type": "contourcarpet"
           }
          ],
          "heatmap": [
           {
            "colorbar": {
             "outlinewidth": 0,
             "ticks": ""
            },
            "colorscale": [
             [
              0,
              "#0d0887"
             ],
             [
              0.1111111111111111,
              "#46039f"
             ],
             [
              0.2222222222222222,
              "#7201a8"
             ],
             [
              0.3333333333333333,
              "#9c179e"
             ],
             [
              0.4444444444444444,
              "#bd3786"
             ],
             [
              0.5555555555555556,
              "#d8576b"
             ],
             [
              0.6666666666666666,
              "#ed7953"
             ],
             [
              0.7777777777777778,
              "#fb9f3a"
             ],
             [
              0.8888888888888888,
              "#fdca26"
             ],
             [
              1,
              "#f0f921"
             ]
            ],
            "type": "heatmap"
           }
          ],
          "heatmapgl": [
           {
            "colorbar": {
             "outlinewidth": 0,
             "ticks": ""
            },
            "colorscale": [
             [
              0,
              "#0d0887"
             ],
             [
              0.1111111111111111,
              "#46039f"
             ],
             [
              0.2222222222222222,
              "#7201a8"
             ],
             [
              0.3333333333333333,
              "#9c179e"
             ],
             [
              0.4444444444444444,
              "#bd3786"
             ],
             [
              0.5555555555555556,
              "#d8576b"
             ],
             [
              0.6666666666666666,
              "#ed7953"
             ],
             [
              0.7777777777777778,
              "#fb9f3a"
             ],
             [
              0.8888888888888888,
              "#fdca26"
             ],
             [
              1,
              "#f0f921"
             ]
            ],
            "type": "heatmapgl"
           }
          ],
          "histogram": [
           {
            "marker": {
             "pattern": {
              "fillmode": "overlay",
              "size": 10,
              "solidity": 0.2
             }
            },
            "type": "histogram"
           }
          ],
          "histogram2d": [
           {
            "colorbar": {
             "outlinewidth": 0,
             "ticks": ""
            },
            "colorscale": [
             [
              0,
              "#0d0887"
             ],
             [
              0.1111111111111111,
              "#46039f"
             ],
             [
              0.2222222222222222,
              "#7201a8"
             ],
             [
              0.3333333333333333,
              "#9c179e"
             ],
             [
              0.4444444444444444,
              "#bd3786"
             ],
             [
              0.5555555555555556,
              "#d8576b"
             ],
             [
              0.6666666666666666,
              "#ed7953"
             ],
             [
              0.7777777777777778,
              "#fb9f3a"
             ],
             [
              0.8888888888888888,
              "#fdca26"
             ],
             [
              1,
              "#f0f921"
             ]
            ],
            "type": "histogram2d"
           }
          ],
          "histogram2dcontour": [
           {
            "colorbar": {
             "outlinewidth": 0,
             "ticks": ""
            },
            "colorscale": [
             [
              0,
              "#0d0887"
             ],
             [
              0.1111111111111111,
              "#46039f"
             ],
             [
              0.2222222222222222,
              "#7201a8"
             ],
             [
              0.3333333333333333,
              "#9c179e"
             ],
             [
              0.4444444444444444,
              "#bd3786"
             ],
             [
              0.5555555555555556,
              "#d8576b"
             ],
             [
              0.6666666666666666,
              "#ed7953"
             ],
             [
              0.7777777777777778,
              "#fb9f3a"
             ],
             [
              0.8888888888888888,
              "#fdca26"
             ],
             [
              1,
              "#f0f921"
             ]
            ],
            "type": "histogram2dcontour"
           }
          ],
          "mesh3d": [
           {
            "colorbar": {
             "outlinewidth": 0,
             "ticks": ""
            },
            "type": "mesh3d"
           }
          ],
          "parcoords": [
           {
            "line": {
             "colorbar": {
              "outlinewidth": 0,
              "ticks": ""
             }
            },
            "type": "parcoords"
           }
          ],
          "pie": [
           {
            "automargin": true,
            "type": "pie"
           }
          ],
          "scatter": [
           {
            "fillpattern": {
             "fillmode": "overlay",
             "size": 10,
             "solidity": 0.2
            },
            "type": "scatter"
           }
          ],
          "scatter3d": [
           {
            "line": {
             "colorbar": {
              "outlinewidth": 0,
              "ticks": ""
             }
            },
            "marker": {
             "colorbar": {
              "outlinewidth": 0,
              "ticks": ""
             }
            },
            "type": "scatter3d"
           }
          ],
          "scattercarpet": [
           {
            "marker": {
             "colorbar": {
              "outlinewidth": 0,
              "ticks": ""
             }
            },
            "type": "scattercarpet"
           }
          ],
          "scattergeo": [
           {
            "marker": {
             "colorbar": {
              "outlinewidth": 0,
              "ticks": ""
             }
            },
            "type": "scattergeo"
           }
          ],
          "scattergl": [
           {
            "marker": {
             "colorbar": {
              "outlinewidth": 0,
              "ticks": ""
             }
            },
            "type": "scattergl"
           }
          ],
          "scattermapbox": [
           {
            "marker": {
             "colorbar": {
              "outlinewidth": 0,
              "ticks": ""
             }
            },
            "type": "scattermapbox"
           }
          ],
          "scatterpolar": [
           {
            "marker": {
             "colorbar": {
              "outlinewidth": 0,
              "ticks": ""
             }
            },
            "type": "scatterpolar"
           }
          ],
          "scatterpolargl": [
           {
            "marker": {
             "colorbar": {
              "outlinewidth": 0,
              "ticks": ""
             }
            },
            "type": "scatterpolargl"
           }
          ],
          "scatterternary": [
           {
            "marker": {
             "colorbar": {
              "outlinewidth": 0,
              "ticks": ""
             }
            },
            "type": "scatterternary"
           }
          ],
          "surface": [
           {
            "colorbar": {
             "outlinewidth": 0,
             "ticks": ""
            },
            "colorscale": [
             [
              0,
              "#0d0887"
             ],
             [
              0.1111111111111111,
              "#46039f"
             ],
             [
              0.2222222222222222,
              "#7201a8"
             ],
             [
              0.3333333333333333,
              "#9c179e"
             ],
             [
              0.4444444444444444,
              "#bd3786"
             ],
             [
              0.5555555555555556,
              "#d8576b"
             ],
             [
              0.6666666666666666,
              "#ed7953"
             ],
             [
              0.7777777777777778,
              "#fb9f3a"
             ],
             [
              0.8888888888888888,
              "#fdca26"
             ],
             [
              1,
              "#f0f921"
             ]
            ],
            "type": "surface"
           }
          ],
          "table": [
           {
            "cells": {
             "fill": {
              "color": "#EBF0F8"
             },
             "line": {
              "color": "white"
             }
            },
            "header": {
             "fill": {
              "color": "#C8D4E3"
             },
             "line": {
              "color": "white"
             }
            },
            "type": "table"
           }
          ]
         },
         "layout": {
          "annotationdefaults": {
           "arrowcolor": "#2a3f5f",
           "arrowhead": 0,
           "arrowwidth": 1
          },
          "autotypenumbers": "strict",
          "coloraxis": {
           "colorbar": {
            "outlinewidth": 0,
            "ticks": ""
           }
          },
          "colorscale": {
           "diverging": [
            [
             0,
             "#8e0152"
            ],
            [
             0.1,
             "#c51b7d"
            ],
            [
             0.2,
             "#de77ae"
            ],
            [
             0.3,
             "#f1b6da"
            ],
            [
             0.4,
             "#fde0ef"
            ],
            [
             0.5,
             "#f7f7f7"
            ],
            [
             0.6,
             "#e6f5d0"
            ],
            [
             0.7,
             "#b8e186"
            ],
            [
             0.8,
             "#7fbc41"
            ],
            [
             0.9,
             "#4d9221"
            ],
            [
             1,
             "#276419"
            ]
           ],
           "sequential": [
            [
             0,
             "#0d0887"
            ],
            [
             0.1111111111111111,
             "#46039f"
            ],
            [
             0.2222222222222222,
             "#7201a8"
            ],
            [
             0.3333333333333333,
             "#9c179e"
            ],
            [
             0.4444444444444444,
             "#bd3786"
            ],
            [
             0.5555555555555556,
             "#d8576b"
            ],
            [
             0.6666666666666666,
             "#ed7953"
            ],
            [
             0.7777777777777778,
             "#fb9f3a"
            ],
            [
             0.8888888888888888,
             "#fdca26"
            ],
            [
             1,
             "#f0f921"
            ]
           ],
           "sequentialminus": [
            [
             0,
             "#0d0887"
            ],
            [
             0.1111111111111111,
             "#46039f"
            ],
            [
             0.2222222222222222,
             "#7201a8"
            ],
            [
             0.3333333333333333,
             "#9c179e"
            ],
            [
             0.4444444444444444,
             "#bd3786"
            ],
            [
             0.5555555555555556,
             "#d8576b"
            ],
            [
             0.6666666666666666,
             "#ed7953"
            ],
            [
             0.7777777777777778,
             "#fb9f3a"
            ],
            [
             0.8888888888888888,
             "#fdca26"
            ],
            [
             1,
             "#f0f921"
            ]
           ]
          },
          "colorway": [
           "#636efa",
           "#EF553B",
           "#00cc96",
           "#ab63fa",
           "#FFA15A",
           "#19d3f3",
           "#FF6692",
           "#B6E880",
           "#FF97FF",
           "#FECB52"
          ],
          "font": {
           "color": "#2a3f5f"
          },
          "geo": {
           "bgcolor": "white",
           "lakecolor": "white",
           "landcolor": "#E5ECF6",
           "showlakes": true,
           "showland": true,
           "subunitcolor": "white"
          },
          "hoverlabel": {
           "align": "left"
          },
          "hovermode": "closest",
          "mapbox": {
           "style": "light"
          },
          "paper_bgcolor": "white",
          "plot_bgcolor": "#E5ECF6",
          "polar": {
           "angularaxis": {
            "gridcolor": "white",
            "linecolor": "white",
            "ticks": ""
           },
           "bgcolor": "#E5ECF6",
           "radialaxis": {
            "gridcolor": "white",
            "linecolor": "white",
            "ticks": ""
           }
          },
          "scene": {
           "xaxis": {
            "backgroundcolor": "#E5ECF6",
            "gridcolor": "white",
            "gridwidth": 2,
            "linecolor": "white",
            "showbackground": true,
            "ticks": "",
            "zerolinecolor": "white"
           },
           "yaxis": {
            "backgroundcolor": "#E5ECF6",
            "gridcolor": "white",
            "gridwidth": 2,
            "linecolor": "white",
            "showbackground": true,
            "ticks": "",
            "zerolinecolor": "white"
           },
           "zaxis": {
            "backgroundcolor": "#E5ECF6",
            "gridcolor": "white",
            "gridwidth": 2,
            "linecolor": "white",
            "showbackground": true,
            "ticks": "",
            "zerolinecolor": "white"
           }
          },
          "shapedefaults": {
           "line": {
            "color": "#2a3f5f"
           }
          },
          "ternary": {
           "aaxis": {
            "gridcolor": "white",
            "linecolor": "white",
            "ticks": ""
           },
           "baxis": {
            "gridcolor": "white",
            "linecolor": "white",
            "ticks": ""
           },
           "bgcolor": "#E5ECF6",
           "caxis": {
            "gridcolor": "white",
            "linecolor": "white",
            "ticks": ""
           }
          },
          "title": {
           "x": 0.05
          },
          "xaxis": {
           "automargin": true,
           "gridcolor": "white",
           "linecolor": "white",
           "ticks": "",
           "title": {
            "standoff": 15
           },
           "zerolinecolor": "white",
           "zerolinewidth": 2
          },
          "yaxis": {
           "automargin": true,
           "gridcolor": "white",
           "linecolor": "white",
           "ticks": "",
           "title": {
            "standoff": 15
           },
           "zerolinecolor": "white",
           "zerolinewidth": 2
          }
         }
        },
        "title": {
         "text": "Label: Piloswine"
        },
        "width": 500,
        "xaxis": {
         "anchor": "y",
         "domain": [
          0,
          1
         ],
         "showgrid": false,
         "showticklabels": false,
         "visible": false,
         "zeroline": false
        },
        "yaxis": {
         "anchor": "x",
         "domain": [
          0,
          1
         ],
         "showgrid": false,
         "showticklabels": false,
         "visible": false,
         "zeroline": false
        }
       }
      }
     },
     "metadata": {},
     "output_type": "display_data"
    },
    {
     "name": "stdout",
     "output_type": "stream",
     "text": [
      "tf.Tensor([255. 255. 255.], shape=(3,), dtype=float32)\n",
      "(128, 128, 3)\n"
     ]
    },
    {
     "data": {
      "application/vnd.plotly.v1+json": {
       "config": {
        "plotlyServerURL": "https://plot.ly"
       },
       "data": [
        {
         "hovertemplate": "x: %{x}<br>y: %{y}<extra></extra>",
         "name": "0",
         "source": "data:image/png;base64,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",
         "type": "image",
         "xaxis": "x",
         "yaxis": "y"
        }
       ],
       "layout": {
        "height": 350,
        "margin": {
         "l": 0,
         "t": 60
        },
        "shapes": [
         {
          "line": {
           "color": "black",
           "width": 2
          },
          "type": "rect",
          "x0": 0,
          "x1": 128,
          "xref": "x",
          "y0": 0,
          "y1": 128,
          "yref": "y"
         }
        ],
        "template": {
         "data": {
          "bar": [
           {
            "error_x": {
             "color": "#2a3f5f"
            },
            "error_y": {
             "color": "#2a3f5f"
            },
            "marker": {
             "line": {
              "color": "#E5ECF6",
              "width": 0.5
             },
             "pattern": {
              "fillmode": "overlay",
              "size": 10,
              "solidity": 0.2
             }
            },
            "type": "bar"
           }
          ],
          "barpolar": [
           {
            "marker": {
             "line": {
              "color": "#E5ECF6",
              "width": 0.5
             },
             "pattern": {
              "fillmode": "overlay",
              "size": 10,
              "solidity": 0.2
             }
            },
            "type": "barpolar"
           }
          ],
          "carpet": [
           {
            "aaxis": {
             "endlinecolor": "#2a3f5f",
             "gridcolor": "white",
             "linecolor": "white",
             "minorgridcolor": "white",
             "startlinecolor": "#2a3f5f"
            },
            "baxis": {
             "endlinecolor": "#2a3f5f",
             "gridcolor": "white",
             "linecolor": "white",
             "minorgridcolor": "white",
             "startlinecolor": "#2a3f5f"
            },
            "type": "carpet"
           }
          ],
          "choropleth": [
           {
            "colorbar": {
             "outlinewidth": 0,
             "ticks": ""
            },
            "type": "choropleth"
           }
          ],
          "contour": [
           {
            "colorbar": {
             "outlinewidth": 0,
             "ticks": ""
            },
            "colorscale": [
             [
              0,
              "#0d0887"
             ],
             [
              0.1111111111111111,
              "#46039f"
             ],
             [
              0.2222222222222222,
              "#7201a8"
             ],
             [
              0.3333333333333333,
              "#9c179e"
             ],
             [
              0.4444444444444444,
              "#bd3786"
             ],
             [
              0.5555555555555556,
              "#d8576b"
             ],
             [
              0.6666666666666666,
              "#ed7953"
             ],
             [
              0.7777777777777778,
              "#fb9f3a"
             ],
             [
              0.8888888888888888,
              "#fdca26"
             ],
             [
              1,
              "#f0f921"
             ]
            ],
            "type": "contour"
           }
          ],
          "contourcarpet": [
           {
            "colorbar": {
             "outlinewidth": 0,
             "ticks": ""
            },
            "type": "contourcarpet"
           }
          ],
          "heatmap": [
           {
            "colorbar": {
             "outlinewidth": 0,
             "ticks": ""
            },
            "colorscale": [
             [
              0,
              "#0d0887"
             ],
             [
              0.1111111111111111,
              "#46039f"
             ],
             [
              0.2222222222222222,
              "#7201a8"
             ],
             [
              0.3333333333333333,
              "#9c179e"
             ],
             [
              0.4444444444444444,
              "#bd3786"
             ],
             [
              0.5555555555555556,
              "#d8576b"
             ],
             [
              0.6666666666666666,
              "#ed7953"
             ],
             [
              0.7777777777777778,
              "#fb9f3a"
             ],
             [
              0.8888888888888888,
              "#fdca26"
             ],
             [
              1,
              "#f0f921"
             ]
            ],
            "type": "heatmap"
           }
          ],
          "heatmapgl": [
           {
            "colorbar": {
             "outlinewidth": 0,
             "ticks": ""
            },
            "colorscale": [
             [
              0,
              "#0d0887"
             ],
             [
              0.1111111111111111,
              "#46039f"
             ],
             [
              0.2222222222222222,
              "#7201a8"
             ],
             [
              0.3333333333333333,
              "#9c179e"
             ],
             [
              0.4444444444444444,
              "#bd3786"
             ],
             [
              0.5555555555555556,
              "#d8576b"
             ],
             [
              0.6666666666666666,
              "#ed7953"
             ],
             [
              0.7777777777777778,
              "#fb9f3a"
             ],
             [
              0.8888888888888888,
              "#fdca26"
             ],
             [
              1,
              "#f0f921"
             ]
            ],
            "type": "heatmapgl"
           }
          ],
          "histogram": [
           {
            "marker": {
             "pattern": {
              "fillmode": "overlay",
              "size": 10,
              "solidity": 0.2
             }
            },
            "type": "histogram"
           }
          ],
          "histogram2d": [
           {
            "colorbar": {
             "outlinewidth": 0,
             "ticks": ""
            },
            "colorscale": [
             [
              0,
              "#0d0887"
             ],
             [
              0.1111111111111111,
              "#46039f"
             ],
             [
              0.2222222222222222,
              "#7201a8"
             ],
             [
              0.3333333333333333,
              "#9c179e"
             ],
             [
              0.4444444444444444,
              "#bd3786"
             ],
             [
              0.5555555555555556,
              "#d8576b"
             ],
             [
              0.6666666666666666,
              "#ed7953"
             ],
             [
              0.7777777777777778,
              "#fb9f3a"
             ],
             [
              0.8888888888888888,
              "#fdca26"
             ],
             [
              1,
              "#f0f921"
             ]
            ],
            "type": "histogram2d"
           }
          ],
          "histogram2dcontour": [
           {
            "colorbar": {
             "outlinewidth": 0,
             "ticks": ""
            },
            "colorscale": [
             [
              0,
              "#0d0887"
             ],
             [
              0.1111111111111111,
              "#46039f"
             ],
             [
              0.2222222222222222,
              "#7201a8"
             ],
             [
              0.3333333333333333,
              "#9c179e"
             ],
             [
              0.4444444444444444,
              "#bd3786"
             ],
             [
              0.5555555555555556,
              "#d8576b"
             ],
             [
              0.6666666666666666,
              "#ed7953"
             ],
             [
              0.7777777777777778,
              "#fb9f3a"
             ],
             [
              0.8888888888888888,
              "#fdca26"
             ],
             [
              1,
              "#f0f921"
             ]
            ],
            "type": "histogram2dcontour"
           }
          ],
          "mesh3d": [
           {
            "colorbar": {
             "outlinewidth": 0,
             "ticks": ""
            },
            "type": "mesh3d"
           }
          ],
          "parcoords": [
           {
            "line": {
             "colorbar": {
              "outlinewidth": 0,
              "ticks": ""
             }
            },
            "type": "parcoords"
           }
          ],
          "pie": [
           {
            "automargin": true,
            "type": "pie"
           }
          ],
          "scatter": [
           {
            "fillpattern": {
             "fillmode": "overlay",
             "size": 10,
             "solidity": 0.2
            },
            "type": "scatter"
           }
          ],
          "scatter3d": [
           {
            "line": {
             "colorbar": {
              "outlinewidth": 0,
              "ticks": ""
             }
            },
            "marker": {
             "colorbar": {
              "outlinewidth": 0,
              "ticks": ""
             }
            },
            "type": "scatter3d"
           }
          ],
          "scattercarpet": [
           {
            "marker": {
             "colorbar": {
              "outlinewidth": 0,
              "ticks": ""
             }
            },
            "type": "scattercarpet"
           }
          ],
          "scattergeo": [
           {
            "marker": {
             "colorbar": {
              "outlinewidth": 0,
              "ticks": ""
             }
            },
            "type": "scattergeo"
           }
          ],
          "scattergl": [
           {
            "marker": {
             "colorbar": {
              "outlinewidth": 0,
              "ticks": ""
             }
            },
            "type": "scattergl"
           }
          ],
          "scattermapbox": [
           {
            "marker": {
             "colorbar": {
              "outlinewidth": 0,
              "ticks": ""
             }
            },
            "type": "scattermapbox"
           }
          ],
          "scatterpolar": [
           {
            "marker": {
             "colorbar": {
              "outlinewidth": 0,
              "ticks": ""
             }
            },
            "type": "scatterpolar"
           }
          ],
          "scatterpolargl": [
           {
            "marker": {
             "colorbar": {
              "outlinewidth": 0,
              "ticks": ""
             }
            },
            "type": "scatterpolargl"
           }
          ],
          "scatterternary": [
           {
            "marker": {
             "colorbar": {
              "outlinewidth": 0,
              "ticks": ""
             }
            },
            "type": "scatterternary"
           }
          ],
          "surface": [
           {
            "colorbar": {
             "outlinewidth": 0,
             "ticks": ""
            },
            "colorscale": [
             [
              0,
              "#0d0887"
             ],
             [
              0.1111111111111111,
              "#46039f"
             ],
             [
              0.2222222222222222,
              "#7201a8"
             ],
             [
              0.3333333333333333,
              "#9c179e"
             ],
             [
              0.4444444444444444,
              "#bd3786"
             ],
             [
              0.5555555555555556,
              "#d8576b"
             ],
             [
              0.6666666666666666,
              "#ed7953"
             ],
             [
              0.7777777777777778,
              "#fb9f3a"
             ],
             [
              0.8888888888888888,
              "#fdca26"
             ],
             [
              1,
              "#f0f921"
             ]
            ],
            "type": "surface"
           }
          ],
          "table": [
           {
            "cells": {
             "fill": {
              "color": "#EBF0F8"
             },
             "line": {
              "color": "white"
             }
            },
            "header": {
             "fill": {
              "color": "#C8D4E3"
             },
             "line": {
              "color": "white"
             }
            },
            "type": "table"
           }
          ]
         },
         "layout": {
          "annotationdefaults": {
           "arrowcolor": "#2a3f5f",
           "arrowhead": 0,
           "arrowwidth": 1
          },
          "autotypenumbers": "strict",
          "coloraxis": {
           "colorbar": {
            "outlinewidth": 0,
            "ticks": ""
           }
          },
          "colorscale": {
           "diverging": [
            [
             0,
             "#8e0152"
            ],
            [
             0.1,
             "#c51b7d"
            ],
            [
             0.2,
             "#de77ae"
            ],
            [
             0.3,
             "#f1b6da"
            ],
            [
             0.4,
             "#fde0ef"
            ],
            [
             0.5,
             "#f7f7f7"
            ],
            [
             0.6,
             "#e6f5d0"
            ],
            [
             0.7,
             "#b8e186"
            ],
            [
             0.8,
             "#7fbc41"
            ],
            [
             0.9,
             "#4d9221"
            ],
            [
             1,
             "#276419"
            ]
           ],
           "sequential": [
            [
             0,
             "#0d0887"
            ],
            [
             0.1111111111111111,
             "#46039f"
            ],
            [
             0.2222222222222222,
             "#7201a8"
            ],
            [
             0.3333333333333333,
             "#9c179e"
            ],
            [
             0.4444444444444444,
             "#bd3786"
            ],
            [
             0.5555555555555556,
             "#d8576b"
            ],
            [
             0.6666666666666666,
             "#ed7953"
            ],
            [
             0.7777777777777778,
             "#fb9f3a"
            ],
            [
             0.8888888888888888,
             "#fdca26"
            ],
            [
             1,
             "#f0f921"
            ]
           ],
           "sequentialminus": [
            [
             0,
             "#0d0887"
            ],
            [
             0.1111111111111111,
             "#46039f"
            ],
            [
             0.2222222222222222,
             "#7201a8"
            ],
            [
             0.3333333333333333,
             "#9c179e"
            ],
            [
             0.4444444444444444,
             "#bd3786"
            ],
            [
             0.5555555555555556,
             "#d8576b"
            ],
            [
             0.6666666666666666,
             "#ed7953"
            ],
            [
             0.7777777777777778,
             "#fb9f3a"
            ],
            [
             0.8888888888888888,
             "#fdca26"
            ],
            [
             1,
             "#f0f921"
            ]
           ]
          },
          "colorway": [
           "#636efa",
           "#EF553B",
           "#00cc96",
           "#ab63fa",
           "#FFA15A",
           "#19d3f3",
           "#FF6692",
           "#B6E880",
           "#FF97FF",
           "#FECB52"
          ],
          "font": {
           "color": "#2a3f5f"
          },
          "geo": {
           "bgcolor": "white",
           "lakecolor": "white",
           "landcolor": "#E5ECF6",
           "showlakes": true,
           "showland": true,
           "subunitcolor": "white"
          },
          "hoverlabel": {
           "align": "left"
          },
          "hovermode": "closest",
          "mapbox": {
           "style": "light"
          },
          "paper_bgcolor": "white",
          "plot_bgcolor": "#E5ECF6",
          "polar": {
           "angularaxis": {
            "gridcolor": "white",
            "linecolor": "white",
            "ticks": ""
           },
           "bgcolor": "#E5ECF6",
           "radialaxis": {
            "gridcolor": "white",
            "linecolor": "white",
            "ticks": ""
           }
          },
          "scene": {
           "xaxis": {
            "backgroundcolor": "#E5ECF6",
            "gridcolor": "white",
            "gridwidth": 2,
            "linecolor": "white",
            "showbackground": true,
            "ticks": "",
            "zerolinecolor": "white"
           },
           "yaxis": {
            "backgroundcolor": "#E5ECF6",
            "gridcolor": "white",
            "gridwidth": 2,
            "linecolor": "white",
            "showbackground": true,
            "ticks": "",
            "zerolinecolor": "white"
           },
           "zaxis": {
            "backgroundcolor": "#E5ECF6",
            "gridcolor": "white",
            "gridwidth": 2,
            "linecolor": "white",
            "showbackground": true,
            "ticks": "",
            "zerolinecolor": "white"
           }
          },
          "shapedefaults": {
           "line": {
            "color": "#2a3f5f"
           }
          },
          "ternary": {
           "aaxis": {
            "gridcolor": "white",
            "linecolor": "white",
            "ticks": ""
           },
           "baxis": {
            "gridcolor": "white",
            "linecolor": "white",
            "ticks": ""
           },
           "bgcolor": "#E5ECF6",
           "caxis": {
            "gridcolor": "white",
            "linecolor": "white",
            "ticks": ""
           }
          },
          "title": {
           "x": 0.05
          },
          "xaxis": {
           "automargin": true,
           "gridcolor": "white",
           "linecolor": "white",
           "ticks": "",
           "title": {
            "standoff": 15
           },
           "zerolinecolor": "white",
           "zerolinewidth": 2
          },
          "yaxis": {
           "automargin": true,
           "gridcolor": "white",
           "linecolor": "white",
           "ticks": "",
           "title": {
            "standoff": 15
           },
           "zerolinecolor": "white",
           "zerolinewidth": 2
          }
         }
        },
        "title": {
         "text": "Label: Wooper"
        },
        "width": 500,
        "xaxis": {
         "anchor": "y",
         "domain": [
          0,
          1
         ],
         "showgrid": false,
         "showticklabels": false,
         "visible": false,
         "zeroline": false
        },
        "yaxis": {
         "anchor": "x",
         "domain": [
          0,
          1
         ],
         "showgrid": false,
         "showticklabels": false,
         "visible": false,
         "zeroline": false
        }
       }
      }
     },
     "metadata": {},
     "output_type": "display_data"
    },
    {
     "name": "stdout",
     "output_type": "stream",
     "text": [
      "tf.Tensor([255. 255. 255.], shape=(3,), dtype=float32)\n",
      "(128, 128, 3)\n"
     ]
    },
    {
     "data": {
      "application/vnd.plotly.v1+json": {
       "config": {
        "plotlyServerURL": "https://plot.ly"
       },
       "data": [
        {
         "hovertemplate": "x: %{x}<br>y: %{y}<extra></extra>",
         "name": "0",
         "source": "data:image/png;base64,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",
         "type": "image",
         "xaxis": "x",
         "yaxis": "y"
        }
       ],
       "layout": {
        "height": 350,
        "margin": {
         "l": 0,
         "t": 60
        },
        "shapes": [
         {
          "line": {
           "color": "black",
           "width": 2
          },
          "type": "rect",
          "x0": 0,
          "x1": 128,
          "xref": "x",
          "y0": 0,
          "y1": 128,
          "yref": "y"
         }
        ],
        "template": {
         "data": {
          "bar": [
           {
            "error_x": {
             "color": "#2a3f5f"
            },
            "error_y": {
             "color": "#2a3f5f"
            },
            "marker": {
             "line": {
              "color": "#E5ECF6",
              "width": 0.5
             },
             "pattern": {
              "fillmode": "overlay",
              "size": 10,
              "solidity": 0.2
             }
            },
            "type": "bar"
           }
          ],
          "barpolar": [
           {
            "marker": {
             "line": {
              "color": "#E5ECF6",
              "width": 0.5
             },
             "pattern": {
              "fillmode": "overlay",
              "size": 10,
              "solidity": 0.2
             }
            },
            "type": "barpolar"
           }
          ],
          "carpet": [
           {
            "aaxis": {
             "endlinecolor": "#2a3f5f",
             "gridcolor": "white",
             "linecolor": "white",
             "minorgridcolor": "white",
             "startlinecolor": "#2a3f5f"
            },
            "baxis": {
             "endlinecolor": "#2a3f5f",
             "gridcolor": "white",
             "linecolor": "white",
             "minorgridcolor": "white",
             "startlinecolor": "#2a3f5f"
            },
            "type": "carpet"
           }
          ],
          "choropleth": [
           {
            "colorbar": {
             "outlinewidth": 0,
             "ticks": ""
            },
            "type": "choropleth"
           }
          ],
          "contour": [
           {
            "colorbar": {
             "outlinewidth": 0,
             "ticks": ""
            },
            "colorscale": [
             [
              0,
              "#0d0887"
             ],
             [
              0.1111111111111111,
              "#46039f"
             ],
             [
              0.2222222222222222,
              "#7201a8"
             ],
             [
              0.3333333333333333,
              "#9c179e"
             ],
             [
              0.4444444444444444,
              "#bd3786"
             ],
             [
              0.5555555555555556,
              "#d8576b"
             ],
             [
              0.6666666666666666,
              "#ed7953"
             ],
             [
              0.7777777777777778,
              "#fb9f3a"
             ],
             [
              0.8888888888888888,
              "#fdca26"
             ],
             [
              1,
              "#f0f921"
             ]
            ],
            "type": "contour"
           }
          ],
          "contourcarpet": [
           {
            "colorbar": {
             "outlinewidth": 0,
             "ticks": ""
            },
            "type": "contourcarpet"
           }
          ],
          "heatmap": [
           {
            "colorbar": {
             "outlinewidth": 0,
             "ticks": ""
            },
            "colorscale": [
             [
              0,
              "#0d0887"
             ],
             [
              0.1111111111111111,
              "#46039f"
             ],
             [
              0.2222222222222222,
              "#7201a8"
             ],
             [
              0.3333333333333333,
              "#9c179e"
             ],
             [
              0.4444444444444444,
              "#bd3786"
             ],
             [
              0.5555555555555556,
              "#d8576b"
             ],
             [
              0.6666666666666666,
              "#ed7953"
             ],
             [
              0.7777777777777778,
              "#fb9f3a"
             ],
             [
              0.8888888888888888,
              "#fdca26"
             ],
             [
              1,
              "#f0f921"
             ]
            ],
            "type": "heatmap"
           }
          ],
          "heatmapgl": [
           {
            "colorbar": {
             "outlinewidth": 0,
             "ticks": ""
            },
            "colorscale": [
             [
              0,
              "#0d0887"
             ],
             [
              0.1111111111111111,
              "#46039f"
             ],
             [
              0.2222222222222222,
              "#7201a8"
             ],
             [
              0.3333333333333333,
              "#9c179e"
             ],
             [
              0.4444444444444444,
              "#bd3786"
             ],
             [
              0.5555555555555556,
              "#d8576b"
             ],
             [
              0.6666666666666666,
              "#ed7953"
             ],
             [
              0.7777777777777778,
              "#fb9f3a"
             ],
             [
              0.8888888888888888,
              "#fdca26"
             ],
             [
              1,
              "#f0f921"
             ]
            ],
            "type": "heatmapgl"
           }
          ],
          "histogram": [
           {
            "marker": {
             "pattern": {
              "fillmode": "overlay",
              "size": 10,
              "solidity": 0.2
             }
            },
            "type": "histogram"
           }
          ],
          "histogram2d": [
           {
            "colorbar": {
             "outlinewidth": 0,
             "ticks": ""
            },
            "colorscale": [
             [
              0,
              "#0d0887"
             ],
             [
              0.1111111111111111,
              "#46039f"
             ],
             [
              0.2222222222222222,
              "#7201a8"
             ],
             [
              0.3333333333333333,
              "#9c179e"
             ],
             [
              0.4444444444444444,
              "#bd3786"
             ],
             [
              0.5555555555555556,
              "#d8576b"
             ],
             [
              0.6666666666666666,
              "#ed7953"
             ],
             [
              0.7777777777777778,
              "#fb9f3a"
             ],
             [
              0.8888888888888888,
              "#fdca26"
             ],
             [
              1,
              "#f0f921"
             ]
            ],
            "type": "histogram2d"
           }
          ],
          "histogram2dcontour": [
           {
            "colorbar": {
             "outlinewidth": 0,
             "ticks": ""
            },
            "colorscale": [
             [
              0,
              "#0d0887"
             ],
             [
              0.1111111111111111,
              "#46039f"
             ],
             [
              0.2222222222222222,
              "#7201a8"
             ],
             [
              0.3333333333333333,
              "#9c179e"
             ],
             [
              0.4444444444444444,
              "#bd3786"
             ],
             [
              0.5555555555555556,
              "#d8576b"
             ],
             [
              0.6666666666666666,
              "#ed7953"
             ],
             [
              0.7777777777777778,
              "#fb9f3a"
             ],
             [
              0.8888888888888888,
              "#fdca26"
             ],
             [
              1,
              "#f0f921"
             ]
            ],
            "type": "histogram2dcontour"
           }
          ],
          "mesh3d": [
           {
            "colorbar": {
             "outlinewidth": 0,
             "ticks": ""
            },
            "type": "mesh3d"
           }
          ],
          "parcoords": [
           {
            "line": {
             "colorbar": {
              "outlinewidth": 0,
              "ticks": ""
             }
            },
            "type": "parcoords"
           }
          ],
          "pie": [
           {
            "automargin": true,
            "type": "pie"
           }
          ],
          "scatter": [
           {
            "fillpattern": {
             "fillmode": "overlay",
             "size": 10,
             "solidity": 0.2
            },
            "type": "scatter"
           }
          ],
          "scatter3d": [
           {
            "line": {
             "colorbar": {
              "outlinewidth": 0,
              "ticks": ""
             }
            },
            "marker": {
             "colorbar": {
              "outlinewidth": 0,
              "ticks": ""
             }
            },
            "type": "scatter3d"
           }
          ],
          "scattercarpet": [
           {
            "marker": {
             "colorbar": {
              "outlinewidth": 0,
              "ticks": ""
             }
            },
            "type": "scattercarpet"
           }
          ],
          "scattergeo": [
           {
            "marker": {
             "colorbar": {
              "outlinewidth": 0,
              "ticks": ""
             }
            },
            "type": "scattergeo"
           }
          ],
          "scattergl": [
           {
            "marker": {
             "colorbar": {
              "outlinewidth": 0,
              "ticks": ""
             }
            },
            "type": "scattergl"
           }
          ],
          "scattermapbox": [
           {
            "marker": {
             "colorbar": {
              "outlinewidth": 0,
              "ticks": ""
             }
            },
            "type": "scattermapbox"
           }
          ],
          "scatterpolar": [
           {
            "marker": {
             "colorbar": {
              "outlinewidth": 0,
              "ticks": ""
             }
            },
            "type": "scatterpolar"
           }
          ],
          "scatterpolargl": [
           {
            "marker": {
             "colorbar": {
              "outlinewidth": 0,
              "ticks": ""
             }
            },
            "type": "scatterpolargl"
           }
          ],
          "scatterternary": [
           {
            "marker": {
             "colorbar": {
              "outlinewidth": 0,
              "ticks": ""
             }
            },
            "type": "scatterternary"
           }
          ],
          "surface": [
           {
            "colorbar": {
             "outlinewidth": 0,
             "ticks": ""
            },
            "colorscale": [
             [
              0,
              "#0d0887"
             ],
             [
              0.1111111111111111,
              "#46039f"
             ],
             [
              0.2222222222222222,
              "#7201a8"
             ],
             [
              0.3333333333333333,
              "#9c179e"
             ],
             [
              0.4444444444444444,
              "#bd3786"
             ],
             [
              0.5555555555555556,
              "#d8576b"
             ],
             [
              0.6666666666666666,
              "#ed7953"
             ],
             [
              0.7777777777777778,
              "#fb9f3a"
             ],
             [
              0.8888888888888888,
              "#fdca26"
             ],
             [
              1,
              "#f0f921"
             ]
            ],
            "type": "surface"
           }
          ],
          "table": [
           {
            "cells": {
             "fill": {
              "color": "#EBF0F8"
             },
             "line": {
              "color": "white"
             }
            },
            "header": {
             "fill": {
              "color": "#C8D4E3"
             },
             "line": {
              "color": "white"
             }
            },
            "type": "table"
           }
          ]
         },
         "layout": {
          "annotationdefaults": {
           "arrowcolor": "#2a3f5f",
           "arrowhead": 0,
           "arrowwidth": 1
          },
          "autotypenumbers": "strict",
          "coloraxis": {
           "colorbar": {
            "outlinewidth": 0,
            "ticks": ""
           }
          },
          "colorscale": {
           "diverging": [
            [
             0,
             "#8e0152"
            ],
            [
             0.1,
             "#c51b7d"
            ],
            [
             0.2,
             "#de77ae"
            ],
            [
             0.3,
             "#f1b6da"
            ],
            [
             0.4,
             "#fde0ef"
            ],
            [
             0.5,
             "#f7f7f7"
            ],
            [
             0.6,
             "#e6f5d0"
            ],
            [
             0.7,
             "#b8e186"
            ],
            [
             0.8,
             "#7fbc41"
            ],
            [
             0.9,
             "#4d9221"
            ],
            [
             1,
             "#276419"
            ]
           ],
           "sequential": [
            [
             0,
             "#0d0887"
            ],
            [
             0.1111111111111111,
             "#46039f"
            ],
            [
             0.2222222222222222,
             "#7201a8"
            ],
            [
             0.3333333333333333,
             "#9c179e"
            ],
            [
             0.4444444444444444,
             "#bd3786"
            ],
            [
             0.5555555555555556,
             "#d8576b"
            ],
            [
             0.6666666666666666,
             "#ed7953"
            ],
            [
             0.7777777777777778,
             "#fb9f3a"
            ],
            [
             0.8888888888888888,
             "#fdca26"
            ],
            [
             1,
             "#f0f921"
            ]
           ],
           "sequentialminus": [
            [
             0,
             "#0d0887"
            ],
            [
             0.1111111111111111,
             "#46039f"
            ],
            [
             0.2222222222222222,
             "#7201a8"
            ],
            [
             0.3333333333333333,
             "#9c179e"
            ],
            [
             0.4444444444444444,
             "#bd3786"
            ],
            [
             0.5555555555555556,
             "#d8576b"
            ],
            [
             0.6666666666666666,
             "#ed7953"
            ],
            [
             0.7777777777777778,
             "#fb9f3a"
            ],
            [
             0.8888888888888888,
             "#fdca26"
            ],
            [
             1,
             "#f0f921"
            ]
           ]
          },
          "colorway": [
           "#636efa",
           "#EF553B",
           "#00cc96",
           "#ab63fa",
           "#FFA15A",
           "#19d3f3",
           "#FF6692",
           "#B6E880",
           "#FF97FF",
           "#FECB52"
          ],
          "font": {
           "color": "#2a3f5f"
          },
          "geo": {
           "bgcolor": "white",
           "lakecolor": "white",
           "landcolor": "#E5ECF6",
           "showlakes": true,
           "showland": true,
           "subunitcolor": "white"
          },
          "hoverlabel": {
           "align": "left"
          },
          "hovermode": "closest",
          "mapbox": {
           "style": "light"
          },
          "paper_bgcolor": "white",
          "plot_bgcolor": "#E5ECF6",
          "polar": {
           "angularaxis": {
            "gridcolor": "white",
            "linecolor": "white",
            "ticks": ""
           },
           "bgcolor": "#E5ECF6",
           "radialaxis": {
            "gridcolor": "white",
            "linecolor": "white",
            "ticks": ""
           }
          },
          "scene": {
           "xaxis": {
            "backgroundcolor": "#E5ECF6",
            "gridcolor": "white",
            "gridwidth": 2,
            "linecolor": "white",
            "showbackground": true,
            "ticks": "",
            "zerolinecolor": "white"
           },
           "yaxis": {
            "backgroundcolor": "#E5ECF6",
            "gridcolor": "white",
            "gridwidth": 2,
            "linecolor": "white",
            "showbackground": true,
            "ticks": "",
            "zerolinecolor": "white"
           },
           "zaxis": {
            "backgroundcolor": "#E5ECF6",
            "gridcolor": "white",
            "gridwidth": 2,
            "linecolor": "white",
            "showbackground": true,
            "ticks": "",
            "zerolinecolor": "white"
           }
          },
          "shapedefaults": {
           "line": {
            "color": "#2a3f5f"
           }
          },
          "ternary": {
           "aaxis": {
            "gridcolor": "white",
            "linecolor": "white",
            "ticks": ""
           },
           "baxis": {
            "gridcolor": "white",
            "linecolor": "white",
            "ticks": ""
           },
           "bgcolor": "#E5ECF6",
           "caxis": {
            "gridcolor": "white",
            "linecolor": "white",
            "ticks": ""
           }
          },
          "title": {
           "x": 0.05
          },
          "xaxis": {
           "automargin": true,
           "gridcolor": "white",
           "linecolor": "white",
           "ticks": "",
           "title": {
            "standoff": 15
           },
           "zerolinecolor": "white",
           "zerolinewidth": 2
          },
          "yaxis": {
           "automargin": true,
           "gridcolor": "white",
           "linecolor": "white",
           "ticks": "",
           "title": {
            "standoff": 15
           },
           "zerolinecolor": "white",
           "zerolinewidth": 2
          }
         }
        },
        "title": {
         "text": "Label: Delibird"
        },
        "width": 500,
        "xaxis": {
         "anchor": "y",
         "domain": [
          0,
          1
         ],
         "showgrid": false,
         "showticklabels": false,
         "visible": false,
         "zeroline": false
        },
        "yaxis": {
         "anchor": "x",
         "domain": [
          0,
          1
         ],
         "showgrid": false,
         "showticklabels": false,
         "visible": false,
         "zeroline": false
        }
       }
      }
     },
     "metadata": {},
     "output_type": "display_data"
    }
   ],
   "source": [
    "plot_n_images(train_ds, 5)"
   ]
  },
  {
   "cell_type": "code",
   "execution_count": 10,
   "metadata": {},
   "outputs": [],
   "source": [
    "# Define the EfficientNetB4 model\n",
    "base_model = EfficientNetB4(include_top=False, input_shape=input_shape, pooling='avg', weights='imagenet')\n",
    "\n",
    "# Freeze the base model\n",
    "base_model.trainable = False\n",
    "\n",
    "# Define the model inputs\n",
    "inputs = tf.keras.Input(shape=input_shape)\n",
    "\n",
    "x = base_model(inputs, training=False)\n",
    "x = tf.keras.layers.Dense(512, activation='relu')(x)\n",
    "x = tf.keras.layers.Dropout(0.2)(x)\n",
    "x = tf.keras.layers.Dense(256, activation='relu')(x)\n",
    "x = tf.keras.layers.Dropout(0.2)(x)\n",
    "x = tf.keras.layers.Dense(len(class_names), activation='softmax')(x)\n",
    "\n",
    "# Define the model\n",
    "model = tf.keras.Model(inputs, x)\n",
    "\n",
    "# Compile the model\n",
    "model.compile(optimizer='adam', loss='categorical_crossentropy', metrics=['accuracy', 'top_k_categorical_accuracy'])"
   ]
  },
  {
   "cell_type": "code",
   "execution_count": 11,
   "metadata": {},
   "outputs": [
    {
     "name": "stdout",
     "output_type": "stream",
     "text": [
      "Model: \"model\"\n",
      "_________________________________________________________________\n",
      " Layer (type)                Output Shape              Param #   \n",
      "=================================================================\n",
      " input_2 (InputLayer)        [(None, 128, 128, 3)]     0         \n",
      "                                                                 \n",
      " efficientnetb4 (Functional)  (None, 1792)             17673823  \n",
      "                                                                 \n",
      " dense (Dense)               (None, 512)               918016    \n",
      "                                                                 \n",
      " dropout (Dropout)           (None, 512)               0         \n",
      "                                                                 \n",
      " dense_1 (Dense)             (None, 256)               131328    \n",
      "                                                                 \n",
      " dropout_1 (Dropout)         (None, 256)               0         \n",
      "                                                                 \n",
      " dense_2 (Dense)             (None, 905)               232585    \n",
      "                                                                 \n",
      "=================================================================\n",
      "Total params: 18,955,752\n",
      "Trainable params: 1,281,929\n",
      "Non-trainable params: 17,673,823\n",
      "_________________________________________________________________\n"
     ]
    }
   ],
   "source": [
    "model.summary()"
   ]
  },
  {
   "cell_type": "code",
   "execution_count": 12,
   "metadata": {},
   "outputs": [
    {
     "name": "stdout",
     "output_type": "stream",
     "text": [
      "Epoch 1/15\n",
      "347/347 [==============================] - 49s 64ms/step - loss: 6.0763 - accuracy: 0.0680 - top_k_categorical_accuracy: 0.1167 - val_loss: 5.0754 - val_accuracy: 0.1416 - val_top_k_categorical_accuracy: 0.2519\n",
      "Epoch 2/15\n",
      "347/347 [==============================] - 34s 63ms/step - loss: 3.9476 - accuracy: 0.2396 - top_k_categorical_accuracy: 0.4278 - val_loss: 3.2725 - val_accuracy: 0.3629 - val_top_k_categorical_accuracy: 0.5759\n",
      "Epoch 3/15\n",
      "347/347 [==============================] - 34s 59ms/step - loss: 2.5602 - accuracy: 0.4291 - top_k_categorical_accuracy: 0.6753 - val_loss: 2.4951 - val_accuracy: 0.4948 - val_top_k_categorical_accuracy: 0.7041\n",
      "Epoch 4/15\n",
      "347/347 [==============================] - 33s 57ms/step - loss: 1.8531 - accuracy: 0.5573 - top_k_categorical_accuracy: 0.7933 - val_loss: 2.0885 - val_accuracy: 0.5524 - val_top_k_categorical_accuracy: 0.7705\n",
      "Epoch 5/15\n",
      "347/347 [==============================] - 29s 52ms/step - loss: 1.4661 - accuracy: 0.6346 - top_k_categorical_accuracy: 0.8551 - val_loss: 1.8870 - val_accuracy: 0.6018 - val_top_k_categorical_accuracy: 0.7964\n",
      "Epoch 6/15\n",
      "347/347 [==============================] - 28s 52ms/step - loss: 1.2153 - accuracy: 0.6775 - top_k_categorical_accuracy: 0.8942 - val_loss: 1.6957 - val_accuracy: 0.6468 - val_top_k_categorical_accuracy: 0.8267\n",
      "Epoch 7/15\n",
      "347/347 [==============================] - 30s 57ms/step - loss: 1.0038 - accuracy: 0.7337 - top_k_categorical_accuracy: 0.9223 - val_loss: 1.6737 - val_accuracy: 0.6584 - val_top_k_categorical_accuracy: 0.8314\n",
      "Epoch 8/15\n",
      "162/347 [=============>................] - ETA: 8s - loss: 0.8148 - accuracy: 0.7818 - top_k_categorical_accuracy: 0.9408"
     ]
    }
   ],
   "source": [
    "history = model.fit(train_ds, batch_size=batch_size, validation_data=val_ds, epochs=15)"
   ]
  },
  {
   "cell_type": "code",
   "execution_count": null,
   "metadata": {},
   "outputs": [],
   "source": [
    "cnn = tf.keras.Sequential()\n",
    "cnn.add(tf.keras.layers.Conv2D(32, (3, 3), activation='relu', input_shape=input_shape))\n",
    "cnn.add(tf.keras.layers.BatchNormalization())\n",
    "cnn.add(tf.keras.layers.MaxPooling2D((2, 2)))\n",
    "cnn.add(tf.keras.layers.Dropout(0.4))\n",
    "\n",
    "cnn.add(tf.keras.layers.Conv2D(64, (5, 5), activation='relu'))\n",
    "cnn.add(tf.keras.layers.BatchNormalization())\n",
    "cnn.add(tf.keras.layers.MaxPooling2D((2, 2)))\n",
    "cnn.add(tf.keras.layers.Dropout(0.4))\n",
    "\n",
    "cnn.add(tf.keras.layers.Conv2D(64, (5, 5), activation='relu'))\n",
    "cnn.add(tf.keras.layers.BatchNormalization())\n",
    "cnn.add(tf.keras.layers.MaxPooling2D((2, 2)))\n",
    "cnn.add(tf.keras.layers.Dropout(0.4))\n",
    "\n",
    "cnn.add(tf.keras.layers.Conv2D(128, (8, 8), activation='relu'))\n",
    "cnn.add(tf.keras.layers.BatchNormalization())\n",
    "cnn.add(tf.keras.layers.MaxPooling2D((2, 2)))\n",
    "cnn.add(tf.keras.layers.Dropout(0.4))\n",
    "\n",
    "cnn.add(tf.keras.layers.Flatten())\n",
    "cnn.add(tf.keras.layers.Dense(512, activation='relu'))\n",
    "cnn.add(tf.keras.layers.BatchNormalization())\n",
    "cnn.add(tf.keras.layers.Dropout(0.5))\n",
    "cnn.add(tf.keras.layers.Dense(256, activation='relu'))\n",
    "cnn.add(tf.keras.layers.BatchNormalization())\n",
    "cnn.add(tf.keras.layers.Dropout(0.5))\n",
    "cnn.add(tf.keras.layers.Dense(len(class_names), activation='softmax'))\n",
    "\n",
    "cnn.compile(optimizer='adam', loss='categorical_crossentropy', metrics=['accuracy', 'top_k_categorical_accuracy'])"
   ]
  },
  {
   "cell_type": "code",
   "execution_count": null,
   "metadata": {},
   "outputs": [
    {
     "name": "stdout",
     "output_type": "stream",
     "text": [
      "Model: \"sequential_1\"\n",
      "_________________________________________________________________\n",
      " Layer (type)                Output Shape              Param #   \n",
      "=================================================================\n",
      " conv2d (Conv2D)             (None, 126, 126, 32)      896       \n",
      "                                                                 \n",
      " batch_normalization (BatchN  (None, 126, 126, 32)     128       \n",
      " ormalization)                                                   \n",
      "                                                                 \n",
      " max_pooling2d (MaxPooling2D  (None, 63, 63, 32)       0         \n",
      " )                                                               \n",
      "                                                                 \n",
      " dropout_2 (Dropout)         (None, 63, 63, 32)        0         \n",
      "                                                                 \n",
      " conv2d_1 (Conv2D)           (None, 59, 59, 64)        51264     \n",
      "                                                                 \n",
      " batch_normalization_1 (Batc  (None, 59, 59, 64)       256       \n",
      " hNormalization)                                                 \n",
      "                                                                 \n",
      " max_pooling2d_1 (MaxPooling  (None, 29, 29, 64)       0         \n",
      " 2D)                                                             \n",
      "                                                                 \n",
      " dropout_3 (Dropout)         (None, 29, 29, 64)        0         \n",
      "                                                                 \n",
      " conv2d_2 (Conv2D)           (None, 25, 25, 64)        102464    \n",
      "                                                                 \n",
      " batch_normalization_2 (Batc  (None, 25, 25, 64)       256       \n",
      " hNormalization)                                                 \n",
      "                                                                 \n",
      " max_pooling2d_2 (MaxPooling  (None, 12, 12, 64)       0         \n",
      " 2D)                                                             \n",
      "                                                                 \n",
      " dropout_4 (Dropout)         (None, 12, 12, 64)        0         \n",
      "                                                                 \n",
      " conv2d_3 (Conv2D)           (None, 5, 5, 128)         524416    \n",
      "                                                                 \n",
      " batch_normalization_3 (Batc  (None, 5, 5, 128)        512       \n",
      " hNormalization)                                                 \n",
      "                                                                 \n",
      " max_pooling2d_3 (MaxPooling  (None, 2, 2, 128)        0         \n",
      " 2D)                                                             \n",
      "                                                                 \n",
      " dropout_5 (Dropout)         (None, 2, 2, 128)         0         \n",
      "                                                                 \n",
      " flatten (Flatten)           (None, 512)               0         \n",
      "                                                                 \n",
      " dense_3 (Dense)             (None, 512)               262656    \n",
      "                                                                 \n",
      " batch_normalization_4 (Batc  (None, 512)              2048      \n",
      " hNormalization)                                                 \n",
      "                                                                 \n",
      " dropout_6 (Dropout)         (None, 512)               0         \n",
      "                                                                 \n",
      " dense_4 (Dense)             (None, 256)               131328    \n",
      "                                                                 \n",
      " batch_normalization_5 (Batc  (None, 256)              1024      \n",
      " hNormalization)                                                 \n",
      "                                                                 \n",
      " dropout_7 (Dropout)         (None, 256)               0         \n",
      "                                                                 \n",
      " dense_5 (Dense)             (None, 905)               232585    \n",
      "                                                                 \n",
      "=================================================================\n",
      "Total params: 1,309,833\n",
      "Trainable params: 1,307,721\n",
      "Non-trainable params: 2,112\n",
      "_________________________________________________________________\n"
     ]
    }
   ],
   "source": [
    "cnn.summary()"
   ]
  },
  {
   "cell_type": "code",
   "execution_count": null,
   "metadata": {},
   "outputs": [
    {
     "name": "stdout",
     "output_type": "stream",
     "text": [
      "Epoch 1/25\n"
     ]
    },
    {
     "ename": "NotFoundError",
     "evalue": "Graph execution error:\n\n2 root error(s) found.\n  (0) NOT_FOUND:  NewRandomAccessFile failed to Create/Open: images/final/Meloetta\\5.png : The system cannot find the file specified.\r\n; No such file or directory\n\t [[{{node ReadFile}}]]\n\t [[IteratorGetNext]]\n\t [[IteratorGetNext/_4]]\n  (1) NOT_FOUND:  NewRandomAccessFile failed to Create/Open: images/final/Meloetta\\5.png : The system cannot find the file specified.\r\n; No such file or directory\n\t [[{{node ReadFile}}]]\n\t [[IteratorGetNext]]\n0 successful operations.\n0 derived errors ignored. [Op:__inference_train_function_54851]",
     "output_type": "error",
     "traceback": [
      "\u001b[1;31m---------------------------------------------------------------------------\u001b[0m",
      "\u001b[1;31mNotFoundError\u001b[0m                             Traceback (most recent call last)",
      "\u001b[1;32md:\\GAN_poke\\pokedex.ipynb Cell 17\u001b[0m in \u001b[0;36m1\n\u001b[1;32m----> <a href='vscode-notebook-cell:/d%3A/GAN_poke/pokedex.ipynb#X22sZmlsZQ%3D%3D?line=0'>1</a>\u001b[0m history_cnn \u001b[39m=\u001b[39m cnn\u001b[39m.\u001b[39;49mfit(train_ds, batch_size\u001b[39m=\u001b[39;49mbatch_size, validation_data\u001b[39m=\u001b[39;49mval_ds, epochs\u001b[39m=\u001b[39;49m\u001b[39m25\u001b[39;49m)\n",
      "File \u001b[1;32mc:\\Users\\valen\\AppData\\Local\\Programs\\Python\\Python310\\lib\\site-packages\\keras\\utils\\traceback_utils.py:70\u001b[0m, in \u001b[0;36mfilter_traceback.<locals>.error_handler\u001b[1;34m(*args, **kwargs)\u001b[0m\n\u001b[0;32m     67\u001b[0m     filtered_tb \u001b[39m=\u001b[39m _process_traceback_frames(e\u001b[39m.\u001b[39m__traceback__)\n\u001b[0;32m     68\u001b[0m     \u001b[39m# To get the full stack trace, call:\u001b[39;00m\n\u001b[0;32m     69\u001b[0m     \u001b[39m# `tf.debugging.disable_traceback_filtering()`\u001b[39;00m\n\u001b[1;32m---> 70\u001b[0m     \u001b[39mraise\u001b[39;00m e\u001b[39m.\u001b[39mwith_traceback(filtered_tb) \u001b[39mfrom\u001b[39;00m \u001b[39mNone\u001b[39m\n\u001b[0;32m     71\u001b[0m \u001b[39mfinally\u001b[39;00m:\n\u001b[0;32m     72\u001b[0m     \u001b[39mdel\u001b[39;00m filtered_tb\n",
      "File \u001b[1;32mc:\\Users\\valen\\AppData\\Local\\Programs\\Python\\Python310\\lib\\site-packages\\tensorflow\\python\\eager\\execute.py:54\u001b[0m, in \u001b[0;36mquick_execute\u001b[1;34m(op_name, num_outputs, inputs, attrs, ctx, name)\u001b[0m\n\u001b[0;32m     52\u001b[0m \u001b[39mtry\u001b[39;00m:\n\u001b[0;32m     53\u001b[0m   ctx\u001b[39m.\u001b[39mensure_initialized()\n\u001b[1;32m---> 54\u001b[0m   tensors \u001b[39m=\u001b[39m pywrap_tfe\u001b[39m.\u001b[39mTFE_Py_Execute(ctx\u001b[39m.\u001b[39m_handle, device_name, op_name,\n\u001b[0;32m     55\u001b[0m                                       inputs, attrs, num_outputs)\n\u001b[0;32m     56\u001b[0m \u001b[39mexcept\u001b[39;00m core\u001b[39m.\u001b[39m_NotOkStatusException \u001b[39mas\u001b[39;00m e:\n\u001b[0;32m     57\u001b[0m   \u001b[39mif\u001b[39;00m name \u001b[39mis\u001b[39;00m \u001b[39mnot\u001b[39;00m \u001b[39mNone\u001b[39;00m:\n",
      "\u001b[1;31mNotFoundError\u001b[0m: Graph execution error:\n\n2 root error(s) found.\n  (0) NOT_FOUND:  NewRandomAccessFile failed to Create/Open: images/final/Meloetta\\5.png : The system cannot find the file specified.\r\n; No such file or directory\n\t [[{{node ReadFile}}]]\n\t [[IteratorGetNext]]\n\t [[IteratorGetNext/_4]]\n  (1) NOT_FOUND:  NewRandomAccessFile failed to Create/Open: images/final/Meloetta\\5.png : The system cannot find the file specified.\r\n; No such file or directory\n\t [[{{node ReadFile}}]]\n\t [[IteratorGetNext]]\n0 successful operations.\n0 derived errors ignored. [Op:__inference_train_function_54851]"
     ]
    }
   ],
   "source": [
    "history_cnn = cnn.fit(train_ds, batch_size=batch_size, validation_data=val_ds, epochs=25)"
   ]
  },
  {
   "cell_type": "code",
   "execution_count": 77,
   "metadata": {},
   "outputs": [],
   "source": [
    "training_results = {\n",
    "    \"efficientnetB4\": \n",
    "        {\"training_time\" : 1073,\n",
    "            \"trainable_weights\" : 1281929,\n",
    "            \"non_trainable_weights\" : 17673823,\n",
    "        },\n",
    "    \"CNN\":\n",
    "        {\"training_time\" : 637,\n",
    "            \"trainable_weights\" : 1307721,\n",
    "            \"non_trainable_weights\" : 2112,\n",
    "        }\n",
    "}"
   ]
  },
  {
   "cell_type": "code",
   "execution_count": 78,
   "metadata": {},
   "outputs": [
    {
     "name": "stdout",
     "output_type": "stream",
     "text": [
      "                training_time  trainable_weights  non_trainable_weights\n",
      "efficientnetB4           1073            1281929               17673823\n",
      "CNN                       637            1307721                   2112\n"
     ]
    }
   ],
   "source": [
    "import pandas as pd\n",
    "df_plot = pd.DataFrame(training_results).T\n",
    "print(df_plot)"
   ]
  },
  {
   "cell_type": "code",
   "execution_count": 79,
   "metadata": {},
   "outputs": [
    {
     "data": {
      "application/vnd.plotly.v1+json": {
       "config": {
        "plotlyServerURL": "https://plot.ly"
       },
       "data": [
        {
         "name": "Trainable Weights",
         "type": "bar",
         "x": [
          "efficientnetB4",
          "CNN"
         ],
         "y": [
          1281929,
          1307721
         ]
        },
        {
         "name": "Non-Trainable Weights",
         "type": "bar",
         "x": [
          "efficientnetB4",
          "CNN"
         ],
         "y": [
          17673823,
          2112
         ]
        }
       ],
       "layout": {
        "barmode": "stack",
        "height": 500,
        "template": {
         "data": {
          "bar": [
           {
            "error_x": {
             "color": "#2a3f5f"
            },
            "error_y": {
             "color": "#2a3f5f"
            },
            "marker": {
             "line": {
              "color": "#E5ECF6",
              "width": 0.5
             },
             "pattern": {
              "fillmode": "overlay",
              "size": 10,
              "solidity": 0.2
             }
            },
            "type": "bar"
           }
          ],
          "barpolar": [
           {
            "marker": {
             "line": {
              "color": "#E5ECF6",
              "width": 0.5
             },
             "pattern": {
              "fillmode": "overlay",
              "size": 10,
              "solidity": 0.2
             }
            },
            "type": "barpolar"
           }
          ],
          "carpet": [
           {
            "aaxis": {
             "endlinecolor": "#2a3f5f",
             "gridcolor": "white",
             "linecolor": "white",
             "minorgridcolor": "white",
             "startlinecolor": "#2a3f5f"
            },
            "baxis": {
             "endlinecolor": "#2a3f5f",
             "gridcolor": "white",
             "linecolor": "white",
             "minorgridcolor": "white",
             "startlinecolor": "#2a3f5f"
            },
            "type": "carpet"
           }
          ],
          "choropleth": [
           {
            "colorbar": {
             "outlinewidth": 0,
             "ticks": ""
            },
            "type": "choropleth"
           }
          ],
          "contour": [
           {
            "colorbar": {
             "outlinewidth": 0,
             "ticks": ""
            },
            "colorscale": [
             [
              0,
              "#0d0887"
             ],
             [
              0.1111111111111111,
              "#46039f"
             ],
             [
              0.2222222222222222,
              "#7201a8"
             ],
             [
              0.3333333333333333,
              "#9c179e"
             ],
             [
              0.4444444444444444,
              "#bd3786"
             ],
             [
              0.5555555555555556,
              "#d8576b"
             ],
             [
              0.6666666666666666,
              "#ed7953"
             ],
             [
              0.7777777777777778,
              "#fb9f3a"
             ],
             [
              0.8888888888888888,
              "#fdca26"
             ],
             [
              1,
              "#f0f921"
             ]
            ],
            "type": "contour"
           }
          ],
          "contourcarpet": [
           {
            "colorbar": {
             "outlinewidth": 0,
             "ticks": ""
            },
            "type": "contourcarpet"
           }
          ],
          "heatmap": [
           {
            "colorbar": {
             "outlinewidth": 0,
             "ticks": ""
            },
            "colorscale": [
             [
              0,
              "#0d0887"
             ],
             [
              0.1111111111111111,
              "#46039f"
             ],
             [
              0.2222222222222222,
              "#7201a8"
             ],
             [
              0.3333333333333333,
              "#9c179e"
             ],
             [
              0.4444444444444444,
              "#bd3786"
             ],
             [
              0.5555555555555556,
              "#d8576b"
             ],
             [
              0.6666666666666666,
              "#ed7953"
             ],
             [
              0.7777777777777778,
              "#fb9f3a"
             ],
             [
              0.8888888888888888,
              "#fdca26"
             ],
             [
              1,
              "#f0f921"
             ]
            ],
            "type": "heatmap"
           }
          ],
          "heatmapgl": [
           {
            "colorbar": {
             "outlinewidth": 0,
             "ticks": ""
            },
            "colorscale": [
             [
              0,
              "#0d0887"
             ],
             [
              0.1111111111111111,
              "#46039f"
             ],
             [
              0.2222222222222222,
              "#7201a8"
             ],
             [
              0.3333333333333333,
              "#9c179e"
             ],
             [
              0.4444444444444444,
              "#bd3786"
             ],
             [
              0.5555555555555556,
              "#d8576b"
             ],
             [
              0.6666666666666666,
              "#ed7953"
             ],
             [
              0.7777777777777778,
              "#fb9f3a"
             ],
             [
              0.8888888888888888,
              "#fdca26"
             ],
             [
              1,
              "#f0f921"
             ]
            ],
            "type": "heatmapgl"
           }
          ],
          "histogram": [
           {
            "marker": {
             "pattern": {
              "fillmode": "overlay",
              "size": 10,
              "solidity": 0.2
             }
            },
            "type": "histogram"
           }
          ],
          "histogram2d": [
           {
            "colorbar": {
             "outlinewidth": 0,
             "ticks": ""
            },
            "colorscale": [
             [
              0,
              "#0d0887"
             ],
             [
              0.1111111111111111,
              "#46039f"
             ],
             [
              0.2222222222222222,
              "#7201a8"
             ],
             [
              0.3333333333333333,
              "#9c179e"
             ],
             [
              0.4444444444444444,
              "#bd3786"
             ],
             [
              0.5555555555555556,
              "#d8576b"
             ],
             [
              0.6666666666666666,
              "#ed7953"
             ],
             [
              0.7777777777777778,
              "#fb9f3a"
             ],
             [
              0.8888888888888888,
              "#fdca26"
             ],
             [
              1,
              "#f0f921"
             ]
            ],
            "type": "histogram2d"
           }
          ],
          "histogram2dcontour": [
           {
            "colorbar": {
             "outlinewidth": 0,
             "ticks": ""
            },
            "colorscale": [
             [
              0,
              "#0d0887"
             ],
             [
              0.1111111111111111,
              "#46039f"
             ],
             [
              0.2222222222222222,
              "#7201a8"
             ],
             [
              0.3333333333333333,
              "#9c179e"
             ],
             [
              0.4444444444444444,
              "#bd3786"
             ],
             [
              0.5555555555555556,
              "#d8576b"
             ],
             [
              0.6666666666666666,
              "#ed7953"
             ],
             [
              0.7777777777777778,
              "#fb9f3a"
             ],
             [
              0.8888888888888888,
              "#fdca26"
             ],
             [
              1,
              "#f0f921"
             ]
            ],
            "type": "histogram2dcontour"
           }
          ],
          "mesh3d": [
           {
            "colorbar": {
             "outlinewidth": 0,
             "ticks": ""
            },
            "type": "mesh3d"
           }
          ],
          "parcoords": [
           {
            "line": {
             "colorbar": {
              "outlinewidth": 0,
              "ticks": ""
             }
            },
            "type": "parcoords"
           }
          ],
          "pie": [
           {
            "automargin": true,
            "type": "pie"
           }
          ],
          "scatter": [
           {
            "fillpattern": {
             "fillmode": "overlay",
             "size": 10,
             "solidity": 0.2
            },
            "type": "scatter"
           }
          ],
          "scatter3d": [
           {
            "line": {
             "colorbar": {
              "outlinewidth": 0,
              "ticks": ""
             }
            },
            "marker": {
             "colorbar": {
              "outlinewidth": 0,
              "ticks": ""
             }
            },
            "type": "scatter3d"
           }
          ],
          "scattercarpet": [
           {
            "marker": {
             "colorbar": {
              "outlinewidth": 0,
              "ticks": ""
             }
            },
            "type": "scattercarpet"
           }
          ],
          "scattergeo": [
           {
            "marker": {
             "colorbar": {
              "outlinewidth": 0,
              "ticks": ""
             }
            },
            "type": "scattergeo"
           }
          ],
          "scattergl": [
           {
            "marker": {
             "colorbar": {
              "outlinewidth": 0,
              "ticks": ""
             }
            },
            "type": "scattergl"
           }
          ],
          "scattermapbox": [
           {
            "marker": {
             "colorbar": {
              "outlinewidth": 0,
              "ticks": ""
             }
            },
            "type": "scattermapbox"
           }
          ],
          "scatterpolar": [
           {
            "marker": {
             "colorbar": {
              "outlinewidth": 0,
              "ticks": ""
             }
            },
            "type": "scatterpolar"
           }
          ],
          "scatterpolargl": [
           {
            "marker": {
             "colorbar": {
              "outlinewidth": 0,
              "ticks": ""
             }
            },
            "type": "scatterpolargl"
           }
          ],
          "scatterternary": [
           {
            "marker": {
             "colorbar": {
              "outlinewidth": 0,
              "ticks": ""
             }
            },
            "type": "scatterternary"
           }
          ],
          "surface": [
           {
            "colorbar": {
             "outlinewidth": 0,
             "ticks": ""
            },
            "colorscale": [
             [
              0,
              "#0d0887"
             ],
             [
              0.1111111111111111,
              "#46039f"
             ],
             [
              0.2222222222222222,
              "#7201a8"
             ],
             [
              0.3333333333333333,
              "#9c179e"
             ],
             [
              0.4444444444444444,
              "#bd3786"
             ],
             [
              0.5555555555555556,
              "#d8576b"
             ],
             [
              0.6666666666666666,
              "#ed7953"
             ],
             [
              0.7777777777777778,
              "#fb9f3a"
             ],
             [
              0.8888888888888888,
              "#fdca26"
             ],
             [
              1,
              "#f0f921"
             ]
            ],
            "type": "surface"
           }
          ],
          "table": [
           {
            "cells": {
             "fill": {
              "color": "#EBF0F8"
             },
             "line": {
              "color": "white"
             }
            },
            "header": {
             "fill": {
              "color": "#C8D4E3"
             },
             "line": {
              "color": "white"
             }
            },
            "type": "table"
           }
          ]
         },
         "layout": {
          "annotationdefaults": {
           "arrowcolor": "#2a3f5f",
           "arrowhead": 0,
           "arrowwidth": 1
          },
          "autotypenumbers": "strict",
          "coloraxis": {
           "colorbar": {
            "outlinewidth": 0,
            "ticks": ""
           }
          },
          "colorscale": {
           "diverging": [
            [
             0,
             "#8e0152"
            ],
            [
             0.1,
             "#c51b7d"
            ],
            [
             0.2,
             "#de77ae"
            ],
            [
             0.3,
             "#f1b6da"
            ],
            [
             0.4,
             "#fde0ef"
            ],
            [
             0.5,
             "#f7f7f7"
            ],
            [
             0.6,
             "#e6f5d0"
            ],
            [
             0.7,
             "#b8e186"
            ],
            [
             0.8,
             "#7fbc41"
            ],
            [
             0.9,
             "#4d9221"
            ],
            [
             1,
             "#276419"
            ]
           ],
           "sequential": [
            [
             0,
             "#0d0887"
            ],
            [
             0.1111111111111111,
             "#46039f"
            ],
            [
             0.2222222222222222,
             "#7201a8"
            ],
            [
             0.3333333333333333,
             "#9c179e"
            ],
            [
             0.4444444444444444,
             "#bd3786"
            ],
            [
             0.5555555555555556,
             "#d8576b"
            ],
            [
             0.6666666666666666,
             "#ed7953"
            ],
            [
             0.7777777777777778,
             "#fb9f3a"
            ],
            [
             0.8888888888888888,
             "#fdca26"
            ],
            [
             1,
             "#f0f921"
            ]
           ],
           "sequentialminus": [
            [
             0,
             "#0d0887"
            ],
            [
             0.1111111111111111,
             "#46039f"
            ],
            [
             0.2222222222222222,
             "#7201a8"
            ],
            [
             0.3333333333333333,
             "#9c179e"
            ],
            [
             0.4444444444444444,
             "#bd3786"
            ],
            [
             0.5555555555555556,
             "#d8576b"
            ],
            [
             0.6666666666666666,
             "#ed7953"
            ],
            [
             0.7777777777777778,
             "#fb9f3a"
            ],
            [
             0.8888888888888888,
             "#fdca26"
            ],
            [
             1,
             "#f0f921"
            ]
           ]
          },
          "colorway": [
           "#636efa",
           "#EF553B",
           "#00cc96",
           "#ab63fa",
           "#FFA15A",
           "#19d3f3",
           "#FF6692",
           "#B6E880",
           "#FF97FF",
           "#FECB52"
          ],
          "font": {
           "color": "#2a3f5f"
          },
          "geo": {
           "bgcolor": "white",
           "lakecolor": "white",
           "landcolor": "#E5ECF6",
           "showlakes": true,
           "showland": true,
           "subunitcolor": "white"
          },
          "hoverlabel": {
           "align": "left"
          },
          "hovermode": "closest",
          "mapbox": {
           "style": "light"
          },
          "paper_bgcolor": "white",
          "plot_bgcolor": "#E5ECF6",
          "polar": {
           "angularaxis": {
            "gridcolor": "white",
            "linecolor": "white",
            "ticks": ""
           },
           "bgcolor": "#E5ECF6",
           "radialaxis": {
            "gridcolor": "white",
            "linecolor": "white",
            "ticks": ""
           }
          },
          "scene": {
           "xaxis": {
            "backgroundcolor": "#E5ECF6",
            "gridcolor": "white",
            "gridwidth": 2,
            "linecolor": "white",
            "showbackground": true,
            "ticks": "",
            "zerolinecolor": "white"
           },
           "yaxis": {
            "backgroundcolor": "#E5ECF6",
            "gridcolor": "white",
            "gridwidth": 2,
            "linecolor": "white",
            "showbackground": true,
            "ticks": "",
            "zerolinecolor": "white"
           },
           "zaxis": {
            "backgroundcolor": "#E5ECF6",
            "gridcolor": "white",
            "gridwidth": 2,
            "linecolor": "white",
            "showbackground": true,
            "ticks": "",
            "zerolinecolor": "white"
           }
          },
          "shapedefaults": {
           "line": {
            "color": "#2a3f5f"
           }
          },
          "ternary": {
           "aaxis": {
            "gridcolor": "white",
            "linecolor": "white",
            "ticks": ""
           },
           "baxis": {
            "gridcolor": "white",
            "linecolor": "white",
            "ticks": ""
           },
           "bgcolor": "#E5ECF6",
           "caxis": {
            "gridcolor": "white",
            "linecolor": "white",
            "ticks": ""
           }
          },
          "title": {
           "x": 0.05
          },
          "xaxis": {
           "automargin": true,
           "gridcolor": "white",
           "linecolor": "white",
           "ticks": "",
           "title": {
            "standoff": 15
           },
           "zerolinecolor": "white",
           "zerolinewidth": 2
          },
          "yaxis": {
           "automargin": true,
           "gridcolor": "white",
           "linecolor": "white",
           "ticks": "",
           "title": {
            "standoff": 15
           },
           "zerolinecolor": "white",
           "zerolinewidth": 2
          }
         }
        },
        "title": {
         "text": "Trainable and Non-Trainable Weights"
        },
        "width": 800
       }
      }
     },
     "metadata": {},
     "output_type": "display_data"
    }
   ],
   "source": [
    "# plot weights and then training time on 2 different y axes\n",
    "fig = go.Figure()\n",
    "fig.add_trace(go.Bar(x=df_plot.index, y=df_plot[\"trainable_weights\"], name=\"Trainable Weights\"))\n",
    "fig.add_trace(go.Bar(x=df_plot.index, y=df_plot[\"non_trainable_weights\"], name=\"Non-Trainable Weights\"))\n",
    "fig.update_layout(barmode='stack', title=\"Trainable and Non-Trainable Weights\")\n",
    "fig.update_layout(width=800, height=500)\n",
    "fig.show()"
   ]
  },
  {
   "cell_type": "code",
   "execution_count": 14,
   "metadata": {},
   "outputs": [
    {
     "data": {
      "application/vnd.plotly.v1+json": {
       "config": {
        "plotlyServerURL": "https://plot.ly"
       },
       "data": [
        {
         "name": "Training Loss",
         "type": "scatter",
         "x": [
          0,
          1,
          2,
          3,
          4,
          5,
          6,
          7,
          8,
          9,
          10,
          11,
          12,
          13,
          14,
          15,
          16,
          17,
          18,
          19,
          20,
          21,
          22,
          23,
          24
         ],
         "y": [
          6.084902763366699,
          3.9594976902008057,
          2.606334686279297,
          1.8880352973937988,
          1.4627331495285034,
          1.2074236869812012,
          1.010951042175293,
          0.8831997513771057,
          0.7683170437812805,
          0.6962368488311768,
          0.6432498097419739,
          0.5871609449386597,
          0.5376380681991577,
          0.49707135558128357,
          0.4775618612766266,
          0.4369860589504242,
          0.40544843673706055,
          0.42973586916923523,
          0.3975343704223633,
          0.39096495509147644,
          0.36415863037109375,
          0.35847365856170654,
          0.3580760061740875,
          0.3286842107772827,
          0.33780884742736816
         ]
        },
        {
         "name": "Validation Loss",
         "type": "scatter",
         "x": [
          0,
          1,
          2,
          3,
          4,
          5,
          6,
          7,
          8,
          9,
          10,
          11,
          12,
          13,
          14,
          15,
          16,
          17,
          18,
          19,
          20,
          21,
          22,
          23,
          24
         ],
         "y": [
          5.010629653930664,
          3.23124361038208,
          2.4163198471069336,
          2.0122601985931396,
          1.816811203956604,
          1.6068938970565796,
          1.6030250787734985,
          1.5367580652236938,
          1.4913986921310425,
          1.3734413385391235,
          1.4262981414794922,
          1.4047983884811401,
          1.44516921043396,
          1.4047353267669678,
          1.4373661279678345,
          1.3548380136489868,
          1.4089221954345703,
          1.4033652544021606,
          1.415297031402588,
          1.4113316535949707,
          1.4815568923950195,
          1.497849464416504,
          1.5555436611175537,
          1.5778679847717285,
          1.5226387977600098
         ]
        },
        {
         "name": "Training Accuracy",
         "type": "scatter",
         "x": [
          0,
          1,
          2,
          3,
          4,
          5,
          6,
          7,
          8,
          9,
          10,
          11,
          12,
          13,
          14,
          15,
          16,
          17,
          18,
          19,
          20,
          21,
          22,
          23,
          24
         ],
         "y": [
          0.0659409835934639,
          0.24082404375076294,
          0.42362359166145325,
          0.5488485097885132,
          0.6291831731796265,
          0.6875674724578857,
          0.731827974319458,
          0.7623245716094971,
          0.7889528870582581,
          0.8028067946434021,
          0.8183699250221252,
          0.8306045532226562,
          0.8443684577941895,
          0.8586722016334534,
          0.8585821986198425,
          0.8718063831329346,
          0.8808923959732056,
          0.8748650550842285,
          0.8816120624542236,
          0.8844908475875854,
          0.8926772475242615,
          0.8942065238952637,
          0.8951061367988586,
          0.9059913754463196,
          0.9026628136634827
         ],
         "yaxis": "y2"
        },
        {
         "name": "Validation Accuracy",
         "type": "scatter",
         "x": [
          0,
          1,
          2,
          3,
          4,
          5,
          6,
          7,
          8,
          9,
          10,
          11,
          12,
          13,
          14,
          15,
          16,
          17,
          18,
          19,
          20,
          21,
          22,
          23,
          24
         ],
         "y": [
          0.14002880454063416,
          0.3729301691055298,
          0.5010799169540405,
          0.5719942450523376,
          0.6245500445365906,
          0.6587473154067993,
          0.6670266389846802,
          0.6810654997825623,
          0.6958243250846863,
          0.7123830318450928,
          0.7069834470748901,
          0.7199423909187317,
          0.7087832689285278,
          0.730741560459137,
          0.720302402973175,
          0.7383009195327759,
          0.7401008009910583,
          0.7437005043029785,
          0.7357811331748962,
          0.7519798278808594,
          0.732901394367218,
          0.7422606348991394,
          0.7336212992668152,
          0.7318214774131775,
          0.7451403737068176
         ],
         "yaxis": "y2"
        }
       ],
       "layout": {
        "height": 600,
        "legend": {
         "orientation": "h",
         "x": 1,
         "xanchor": "right",
         "y": 1.02,
         "yanchor": "bottom"
        },
        "template": {
         "data": {
          "bar": [
           {
            "error_x": {
             "color": "#2a3f5f"
            },
            "error_y": {
             "color": "#2a3f5f"
            },
            "marker": {
             "line": {
              "color": "#E5ECF6",
              "width": 0.5
             },
             "pattern": {
              "fillmode": "overlay",
              "size": 10,
              "solidity": 0.2
             }
            },
            "type": "bar"
           }
          ],
          "barpolar": [
           {
            "marker": {
             "line": {
              "color": "#E5ECF6",
              "width": 0.5
             },
             "pattern": {
              "fillmode": "overlay",
              "size": 10,
              "solidity": 0.2
             }
            },
            "type": "barpolar"
           }
          ],
          "carpet": [
           {
            "aaxis": {
             "endlinecolor": "#2a3f5f",
             "gridcolor": "white",
             "linecolor": "white",
             "minorgridcolor": "white",
             "startlinecolor": "#2a3f5f"
            },
            "baxis": {
             "endlinecolor": "#2a3f5f",
             "gridcolor": "white",
             "linecolor": "white",
             "minorgridcolor": "white",
             "startlinecolor": "#2a3f5f"
            },
            "type": "carpet"
           }
          ],
          "choropleth": [
           {
            "colorbar": {
             "outlinewidth": 0,
             "ticks": ""
            },
            "type": "choropleth"
           }
          ],
          "contour": [
           {
            "colorbar": {
             "outlinewidth": 0,
             "ticks": ""
            },
            "colorscale": [
             [
              0,
              "#0d0887"
             ],
             [
              0.1111111111111111,
              "#46039f"
             ],
             [
              0.2222222222222222,
              "#7201a8"
             ],
             [
              0.3333333333333333,
              "#9c179e"
             ],
             [
              0.4444444444444444,
              "#bd3786"
             ],
             [
              0.5555555555555556,
              "#d8576b"
             ],
             [
              0.6666666666666666,
              "#ed7953"
             ],
             [
              0.7777777777777778,
              "#fb9f3a"
             ],
             [
              0.8888888888888888,
              "#fdca26"
             ],
             [
              1,
              "#f0f921"
             ]
            ],
            "type": "contour"
           }
          ],
          "contourcarpet": [
           {
            "colorbar": {
             "outlinewidth": 0,
             "ticks": ""
            },
            "type": "contourcarpet"
           }
          ],
          "heatmap": [
           {
            "colorbar": {
             "outlinewidth": 0,
             "ticks": ""
            },
            "colorscale": [
             [
              0,
              "#0d0887"
             ],
             [
              0.1111111111111111,
              "#46039f"
             ],
             [
              0.2222222222222222,
              "#7201a8"
             ],
             [
              0.3333333333333333,
              "#9c179e"
             ],
             [
              0.4444444444444444,
              "#bd3786"
             ],
             [
              0.5555555555555556,
              "#d8576b"
             ],
             [
              0.6666666666666666,
              "#ed7953"
             ],
             [
              0.7777777777777778,
              "#fb9f3a"
             ],
             [
              0.8888888888888888,
              "#fdca26"
             ],
             [
              1,
              "#f0f921"
             ]
            ],
            "type": "heatmap"
           }
          ],
          "heatmapgl": [
           {
            "colorbar": {
             "outlinewidth": 0,
             "ticks": ""
            },
            "colorscale": [
             [
              0,
              "#0d0887"
             ],
             [
              0.1111111111111111,
              "#46039f"
             ],
             [
              0.2222222222222222,
              "#7201a8"
             ],
             [
              0.3333333333333333,
              "#9c179e"
             ],
             [
              0.4444444444444444,
              "#bd3786"
             ],
             [
              0.5555555555555556,
              "#d8576b"
             ],
             [
              0.6666666666666666,
              "#ed7953"
             ],
             [
              0.7777777777777778,
              "#fb9f3a"
             ],
             [
              0.8888888888888888,
              "#fdca26"
             ],
             [
              1,
              "#f0f921"
             ]
            ],
            "type": "heatmapgl"
           }
          ],
          "histogram": [
           {
            "marker": {
             "pattern": {
              "fillmode": "overlay",
              "size": 10,
              "solidity": 0.2
             }
            },
            "type": "histogram"
           }
          ],
          "histogram2d": [
           {
            "colorbar": {
             "outlinewidth": 0,
             "ticks": ""
            },
            "colorscale": [
             [
              0,
              "#0d0887"
             ],
             [
              0.1111111111111111,
              "#46039f"
             ],
             [
              0.2222222222222222,
              "#7201a8"
             ],
             [
              0.3333333333333333,
              "#9c179e"
             ],
             [
              0.4444444444444444,
              "#bd3786"
             ],
             [
              0.5555555555555556,
              "#d8576b"
             ],
             [
              0.6666666666666666,
              "#ed7953"
             ],
             [
              0.7777777777777778,
              "#fb9f3a"
             ],
             [
              0.8888888888888888,
              "#fdca26"
             ],
             [
              1,
              "#f0f921"
             ]
            ],
            "type": "histogram2d"
           }
          ],
          "histogram2dcontour": [
           {
            "colorbar": {
             "outlinewidth": 0,
             "ticks": ""
            },
            "colorscale": [
             [
              0,
              "#0d0887"
             ],
             [
              0.1111111111111111,
              "#46039f"
             ],
             [
              0.2222222222222222,
              "#7201a8"
             ],
             [
              0.3333333333333333,
              "#9c179e"
             ],
             [
              0.4444444444444444,
              "#bd3786"
             ],
             [
              0.5555555555555556,
              "#d8576b"
             ],
             [
              0.6666666666666666,
              "#ed7953"
             ],
             [
              0.7777777777777778,
              "#fb9f3a"
             ],
             [
              0.8888888888888888,
              "#fdca26"
             ],
             [
              1,
              "#f0f921"
             ]
            ],
            "type": "histogram2dcontour"
           }
          ],
          "mesh3d": [
           {
            "colorbar": {
             "outlinewidth": 0,
             "ticks": ""
            },
            "type": "mesh3d"
           }
          ],
          "parcoords": [
           {
            "line": {
             "colorbar": {
              "outlinewidth": 0,
              "ticks": ""
             }
            },
            "type": "parcoords"
           }
          ],
          "pie": [
           {
            "automargin": true,
            "type": "pie"
           }
          ],
          "scatter": [
           {
            "fillpattern": {
             "fillmode": "overlay",
             "size": 10,
             "solidity": 0.2
            },
            "type": "scatter"
           }
          ],
          "scatter3d": [
           {
            "line": {
             "colorbar": {
              "outlinewidth": 0,
              "ticks": ""
             }
            },
            "marker": {
             "colorbar": {
              "outlinewidth": 0,
              "ticks": ""
             }
            },
            "type": "scatter3d"
           }
          ],
          "scattercarpet": [
           {
            "marker": {
             "colorbar": {
              "outlinewidth": 0,
              "ticks": ""
             }
            },
            "type": "scattercarpet"
           }
          ],
          "scattergeo": [
           {
            "marker": {
             "colorbar": {
              "outlinewidth": 0,
              "ticks": ""
             }
            },
            "type": "scattergeo"
           }
          ],
          "scattergl": [
           {
            "marker": {
             "colorbar": {
              "outlinewidth": 0,
              "ticks": ""
             }
            },
            "type": "scattergl"
           }
          ],
          "scattermapbox": [
           {
            "marker": {
             "colorbar": {
              "outlinewidth": 0,
              "ticks": ""
             }
            },
            "type": "scattermapbox"
           }
          ],
          "scatterpolar": [
           {
            "marker": {
             "colorbar": {
              "outlinewidth": 0,
              "ticks": ""
             }
            },
            "type": "scatterpolar"
           }
          ],
          "scatterpolargl": [
           {
            "marker": {
             "colorbar": {
              "outlinewidth": 0,
              "ticks": ""
             }
            },
            "type": "scatterpolargl"
           }
          ],
          "scatterternary": [
           {
            "marker": {
             "colorbar": {
              "outlinewidth": 0,
              "ticks": ""
             }
            },
            "type": "scatterternary"
           }
          ],
          "surface": [
           {
            "colorbar": {
             "outlinewidth": 0,
             "ticks": ""
            },
            "colorscale": [
             [
              0,
              "#0d0887"
             ],
             [
              0.1111111111111111,
              "#46039f"
             ],
             [
              0.2222222222222222,
              "#7201a8"
             ],
             [
              0.3333333333333333,
              "#9c179e"
             ],
             [
              0.4444444444444444,
              "#bd3786"
             ],
             [
              0.5555555555555556,
              "#d8576b"
             ],
             [
              0.6666666666666666,
              "#ed7953"
             ],
             [
              0.7777777777777778,
              "#fb9f3a"
             ],
             [
              0.8888888888888888,
              "#fdca26"
             ],
             [
              1,
              "#f0f921"
             ]
            ],
            "type": "surface"
           }
          ],
          "table": [
           {
            "cells": {
             "fill": {
              "color": "#EBF0F8"
             },
             "line": {
              "color": "white"
             }
            },
            "header": {
             "fill": {
              "color": "#C8D4E3"
             },
             "line": {
              "color": "white"
             }
            },
            "type": "table"
           }
          ]
         },
         "layout": {
          "annotationdefaults": {
           "arrowcolor": "#2a3f5f",
           "arrowhead": 0,
           "arrowwidth": 1
          },
          "autotypenumbers": "strict",
          "coloraxis": {
           "colorbar": {
            "outlinewidth": 0,
            "ticks": ""
           }
          },
          "colorscale": {
           "diverging": [
            [
             0,
             "#8e0152"
            ],
            [
             0.1,
             "#c51b7d"
            ],
            [
             0.2,
             "#de77ae"
            ],
            [
             0.3,
             "#f1b6da"
            ],
            [
             0.4,
             "#fde0ef"
            ],
            [
             0.5,
             "#f7f7f7"
            ],
            [
             0.6,
             "#e6f5d0"
            ],
            [
             0.7,
             "#b8e186"
            ],
            [
             0.8,
             "#7fbc41"
            ],
            [
             0.9,
             "#4d9221"
            ],
            [
             1,
             "#276419"
            ]
           ],
           "sequential": [
            [
             0,
             "#0d0887"
            ],
            [
             0.1111111111111111,
             "#46039f"
            ],
            [
             0.2222222222222222,
             "#7201a8"
            ],
            [
             0.3333333333333333,
             "#9c179e"
            ],
            [
             0.4444444444444444,
             "#bd3786"
            ],
            [
             0.5555555555555556,
             "#d8576b"
            ],
            [
             0.6666666666666666,
             "#ed7953"
            ],
            [
             0.7777777777777778,
             "#fb9f3a"
            ],
            [
             0.8888888888888888,
             "#fdca26"
            ],
            [
             1,
             "#f0f921"
            ]
           ],
           "sequentialminus": [
            [
             0,
             "#0d0887"
            ],
            [
             0.1111111111111111,
             "#46039f"
            ],
            [
             0.2222222222222222,
             "#7201a8"
            ],
            [
             0.3333333333333333,
             "#9c179e"
            ],
            [
             0.4444444444444444,
             "#bd3786"
            ],
            [
             0.5555555555555556,
             "#d8576b"
            ],
            [
             0.6666666666666666,
             "#ed7953"
            ],
            [
             0.7777777777777778,
             "#fb9f3a"
            ],
            [
             0.8888888888888888,
             "#fdca26"
            ],
            [
             1,
             "#f0f921"
            ]
           ]
          },
          "colorway": [
           "#636efa",
           "#EF553B",
           "#00cc96",
           "#ab63fa",
           "#FFA15A",
           "#19d3f3",
           "#FF6692",
           "#B6E880",
           "#FF97FF",
           "#FECB52"
          ],
          "font": {
           "color": "#2a3f5f"
          },
          "geo": {
           "bgcolor": "white",
           "lakecolor": "white",
           "landcolor": "#E5ECF6",
           "showlakes": true,
           "showland": true,
           "subunitcolor": "white"
          },
          "hoverlabel": {
           "align": "left"
          },
          "hovermode": "closest",
          "mapbox": {
           "style": "light"
          },
          "paper_bgcolor": "white",
          "plot_bgcolor": "#E5ECF6",
          "polar": {
           "angularaxis": {
            "gridcolor": "white",
            "linecolor": "white",
            "ticks": ""
           },
           "bgcolor": "#E5ECF6",
           "radialaxis": {
            "gridcolor": "white",
            "linecolor": "white",
            "ticks": ""
           }
          },
          "scene": {
           "xaxis": {
            "backgroundcolor": "#E5ECF6",
            "gridcolor": "white",
            "gridwidth": 2,
            "linecolor": "white",
            "showbackground": true,
            "ticks": "",
            "zerolinecolor": "white"
           },
           "yaxis": {
            "backgroundcolor": "#E5ECF6",
            "gridcolor": "white",
            "gridwidth": 2,
            "linecolor": "white",
            "showbackground": true,
            "ticks": "",
            "zerolinecolor": "white"
           },
           "zaxis": {
            "backgroundcolor": "#E5ECF6",
            "gridcolor": "white",
            "gridwidth": 2,
            "linecolor": "white",
            "showbackground": true,
            "ticks": "",
            "zerolinecolor": "white"
           }
          },
          "shapedefaults": {
           "line": {
            "color": "#2a3f5f"
           }
          },
          "ternary": {
           "aaxis": {
            "gridcolor": "white",
            "linecolor": "white",
            "ticks": ""
           },
           "baxis": {
            "gridcolor": "white",
            "linecolor": "white",
            "ticks": ""
           },
           "bgcolor": "#E5ECF6",
           "caxis": {
            "gridcolor": "white",
            "linecolor": "white",
            "ticks": ""
           }
          },
          "title": {
           "x": 0.05
          },
          "xaxis": {
           "automargin": true,
           "gridcolor": "white",
           "linecolor": "white",
           "ticks": "",
           "title": {
            "standoff": 15
           },
           "zerolinecolor": "white",
           "zerolinewidth": 2
          },
          "yaxis": {
           "automargin": true,
           "gridcolor": "white",
           "linecolor": "white",
           "ticks": "",
           "title": {
            "standoff": 15
           },
           "zerolinecolor": "white",
           "zerolinewidth": 2
          }
         }
        },
        "title": {
         "text": "EfficientNetB4 Loss & accuracy"
        },
        "width": 1000,
        "xaxis": {
         "title": {
          "text": "Epochs"
         }
        },
        "yaxis": {
         "range": [
          0,
          5
         ],
         "title": {
          "text": "Loss"
         }
        },
        "yaxis2": {
         "overlaying": "y",
         "range": [
          0,
          1
         ],
         "side": "right",
         "title": {
          "text": "Accuracy"
         }
        }
       }
      }
     },
     "metadata": {},
     "output_type": "display_data"
    }
   ],
   "source": [
    "import plotly.graph_objects as go\n",
    "fig = go.Figure()\n",
    "fig.add_trace(go.Scatter(x=history.epoch, y=history.history['loss'], name=\"Training Loss\"))\n",
    "fig.add_trace(go.Scatter(x=history.epoch, y=history.history['val_loss'], name=\"Validation Loss\"))\n",
    "# add accuracy on different y axis\n",
    "fig.update_layout(yaxis2=dict(overlaying='y', side='right', range=[0, 1], title=\"Accuracy\"))\n",
    "fig.add_trace(go.Scatter(x=history.epoch, y=history.history['accuracy'], name=\"Training Accuracy\", yaxis=\"y2\"))\n",
    "fig.add_trace(go.Scatter(x=history.epoch, y=history.history['val_accuracy'], name=\"Validation Accuracy\", yaxis=\"y2\"))\n",
    "fig.update_layout(title=\"EfficientNetB4 Loss & accuracy\",\n",
    "                  legend=dict(\n",
    "                        orientation=\"h\",\n",
    "                        yanchor=\"bottom\",\n",
    "                        y=1.02,\n",
    "                        xanchor=\"right\",\n",
    "                        x=1\n",
    "                        ),\n",
    "                  yaxis=dict(range=[0, 5],title=\"Loss\"),\n",
    "                  xaxis=dict(title=\"Epochs\")\n",
    "                  )\n",
    "fig.update_layout(width=1000, height=600)\n",
    "fig.show()"
   ]
  },
  {
   "cell_type": "code",
   "execution_count": 23,
   "metadata": {},
   "outputs": [
    {
     "data": {
      "application/vnd.plotly.v1+json": {
       "config": {
        "plotlyServerURL": "https://plot.ly"
       },
       "data": [
        {
         "name": "Training Loss",
         "type": "scatter",
         "x": [
          0,
          1,
          2,
          3,
          4,
          5,
          6,
          7,
          8,
          9,
          10,
          11,
          12,
          13,
          14,
          15,
          16,
          17,
          18,
          19,
          20,
          21,
          22,
          23,
          24
         ],
         "y": [
          6.664043426513672,
          5.876828670501709,
          5.360585689544678,
          4.957625389099121,
          4.587326526641846,
          4.303035736083984,
          4.042333602905273,
          3.7885706424713135,
          3.580533504486084,
          3.36997127532959,
          3.18489933013916,
          3.055246353149414,
          2.9438867568969727,
          2.807888984680176,
          2.7201380729675293,
          2.6097500324249268,
          2.533769130706787,
          2.449099063873291,
          2.3782882690429688,
          2.300478219985962,
          2.254746913909912,
          2.2046396732330322,
          2.148519277572632,
          2.1011664867401123,
          2.0693516731262207
         ]
        },
        {
         "name": "Validation Loss",
         "type": "scatter",
         "x": [
          0,
          1,
          2,
          3,
          4,
          5,
          6,
          7,
          8,
          9,
          10,
          11,
          12,
          13,
          14,
          15,
          16,
          17,
          18,
          19,
          20,
          21,
          22,
          23,
          24
         ],
         "y": [
          6.126150131225586,
          5.5835065841674805,
          5.393795013427734,
          4.796797275543213,
          4.570725440979004,
          4.311995029449463,
          4.465097427368164,
          4.551915168762207,
          3.6243278980255127,
          4.723054885864258,
          3.5138254165649414,
          4.832195281982422,
          3.7849302291870117,
          3.486424684524536,
          7.47685432434082,
          4.500359535217285,
          2.9527947902679443,
          4.628369331359863,
          4.79256534576416,
          2.5736422538757324,
          3.013932704925537,
          2.745778799057007,
          5.2002854347229,
          4.658914089202881,
          4.5636138916015625
         ]
        },
        {
         "name": "Training Accuracy",
         "type": "scatter",
         "x": [
          0,
          1,
          2,
          3,
          4,
          5,
          6,
          7,
          8,
          9,
          10,
          11,
          12,
          13,
          14,
          15,
          16,
          17,
          18,
          19,
          20,
          21,
          22,
          23,
          24
         ],
         "y": [
          0.025098957121372223,
          0.04875854775309563,
          0.07169844955205917,
          0.09499820321798325,
          0.12567470967769623,
          0.15122346580028534,
          0.18055056035518646,
          0.21446563303470612,
          0.2451421320438385,
          0.27213025093078613,
          0.30334651470184326,
          0.3189096748828888,
          0.33528247475624084,
          0.3616408705711365,
          0.37288594245910645,
          0.39591580629348755,
          0.40797048807144165,
          0.42551276087760925,
          0.43666785955429077,
          0.45187118649482727,
          0.4578985273838043,
          0.4688737094402313,
          0.4797589182853699,
          0.4929830729961395,
          0.4906441271305084
         ],
         "yaxis": "y2"
        },
        {
         "name": "Validation Accuracy",
         "type": "scatter",
         "x": [
          0,
          1,
          2,
          3,
          4,
          5,
          6,
          7,
          8,
          9,
          10,
          11,
          12,
          13,
          14,
          15,
          16,
          17,
          18,
          19,
          20,
          21,
          22,
          23,
          24
         ],
         "y": [
          0.04031677544116974,
          0.063714899122715,
          0.06875450164079666,
          0.11123110353946686,
          0.13678905367851257,
          0.17674586176872253,
          0.1709863245487213,
          0.15406768023967743,
          0.2714182734489441,
          0.1846652328968048,
          0.3041756749153137,
          0.1803455650806427,
          0.27069833874702454,
          0.297336220741272,
          0.1029517650604248,
          0.24334053695201874,
          0.39452844858169556,
          0.23902088403701782,
          0.23866090178489685,
          0.4503239691257477,
          0.38120949268341064,
          0.4269258379936218,
          0.2501799762248993,
          0.2714182734489441,
          0.2861770987510681
         ],
         "yaxis": "y2"
        }
       ],
       "layout": {
        "height": 600,
        "legend": {
         "orientation": "h",
         "x": 1,
         "xanchor": "right",
         "y": 1.02,
         "yanchor": "bottom"
        },
        "template": {
         "data": {
          "bar": [
           {
            "error_x": {
             "color": "#2a3f5f"
            },
            "error_y": {
             "color": "#2a3f5f"
            },
            "marker": {
             "line": {
              "color": "#E5ECF6",
              "width": 0.5
             },
             "pattern": {
              "fillmode": "overlay",
              "size": 10,
              "solidity": 0.2
             }
            },
            "type": "bar"
           }
          ],
          "barpolar": [
           {
            "marker": {
             "line": {
              "color": "#E5ECF6",
              "width": 0.5
             },
             "pattern": {
              "fillmode": "overlay",
              "size": 10,
              "solidity": 0.2
             }
            },
            "type": "barpolar"
           }
          ],
          "carpet": [
           {
            "aaxis": {
             "endlinecolor": "#2a3f5f",
             "gridcolor": "white",
             "linecolor": "white",
             "minorgridcolor": "white",
             "startlinecolor": "#2a3f5f"
            },
            "baxis": {
             "endlinecolor": "#2a3f5f",
             "gridcolor": "white",
             "linecolor": "white",
             "minorgridcolor": "white",
             "startlinecolor": "#2a3f5f"
            },
            "type": "carpet"
           }
          ],
          "choropleth": [
           {
            "colorbar": {
             "outlinewidth": 0,
             "ticks": ""
            },
            "type": "choropleth"
           }
          ],
          "contour": [
           {
            "colorbar": {
             "outlinewidth": 0,
             "ticks": ""
            },
            "colorscale": [
             [
              0,
              "#0d0887"
             ],
             [
              0.1111111111111111,
              "#46039f"
             ],
             [
              0.2222222222222222,
              "#7201a8"
             ],
             [
              0.3333333333333333,
              "#9c179e"
             ],
             [
              0.4444444444444444,
              "#bd3786"
             ],
             [
              0.5555555555555556,
              "#d8576b"
             ],
             [
              0.6666666666666666,
              "#ed7953"
             ],
             [
              0.7777777777777778,
              "#fb9f3a"
             ],
             [
              0.8888888888888888,
              "#fdca26"
             ],
             [
              1,
              "#f0f921"
             ]
            ],
            "type": "contour"
           }
          ],
          "contourcarpet": [
           {
            "colorbar": {
             "outlinewidth": 0,
             "ticks": ""
            },
            "type": "contourcarpet"
           }
          ],
          "heatmap": [
           {
            "colorbar": {
             "outlinewidth": 0,
             "ticks": ""
            },
            "colorscale": [
             [
              0,
              "#0d0887"
             ],
             [
              0.1111111111111111,
              "#46039f"
             ],
             [
              0.2222222222222222,
              "#7201a8"
             ],
             [
              0.3333333333333333,
              "#9c179e"
             ],
             [
              0.4444444444444444,
              "#bd3786"
             ],
             [
              0.5555555555555556,
              "#d8576b"
             ],
             [
              0.6666666666666666,
              "#ed7953"
             ],
             [
              0.7777777777777778,
              "#fb9f3a"
             ],
             [
              0.8888888888888888,
              "#fdca26"
             ],
             [
              1,
              "#f0f921"
             ]
            ],
            "type": "heatmap"
           }
          ],
          "heatmapgl": [
           {
            "colorbar": {
             "outlinewidth": 0,
             "ticks": ""
            },
            "colorscale": [
             [
              0,
              "#0d0887"
             ],
             [
              0.1111111111111111,
              "#46039f"
             ],
             [
              0.2222222222222222,
              "#7201a8"
             ],
             [
              0.3333333333333333,
              "#9c179e"
             ],
             [
              0.4444444444444444,
              "#bd3786"
             ],
             [
              0.5555555555555556,
              "#d8576b"
             ],
             [
              0.6666666666666666,
              "#ed7953"
             ],
             [
              0.7777777777777778,
              "#fb9f3a"
             ],
             [
              0.8888888888888888,
              "#fdca26"
             ],
             [
              1,
              "#f0f921"
             ]
            ],
            "type": "heatmapgl"
           }
          ],
          "histogram": [
           {
            "marker": {
             "pattern": {
              "fillmode": "overlay",
              "size": 10,
              "solidity": 0.2
             }
            },
            "type": "histogram"
           }
          ],
          "histogram2d": [
           {
            "colorbar": {
             "outlinewidth": 0,
             "ticks": ""
            },
            "colorscale": [
             [
              0,
              "#0d0887"
             ],
             [
              0.1111111111111111,
              "#46039f"
             ],
             [
              0.2222222222222222,
              "#7201a8"
             ],
             [
              0.3333333333333333,
              "#9c179e"
             ],
             [
              0.4444444444444444,
              "#bd3786"
             ],
             [
              0.5555555555555556,
              "#d8576b"
             ],
             [
              0.6666666666666666,
              "#ed7953"
             ],
             [
              0.7777777777777778,
              "#fb9f3a"
             ],
             [
              0.8888888888888888,
              "#fdca26"
             ],
             [
              1,
              "#f0f921"
             ]
            ],
            "type": "histogram2d"
           }
          ],
          "histogram2dcontour": [
           {
            "colorbar": {
             "outlinewidth": 0,
             "ticks": ""
            },
            "colorscale": [
             [
              0,
              "#0d0887"
             ],
             [
              0.1111111111111111,
              "#46039f"
             ],
             [
              0.2222222222222222,
              "#7201a8"
             ],
             [
              0.3333333333333333,
              "#9c179e"
             ],
             [
              0.4444444444444444,
              "#bd3786"
             ],
             [
              0.5555555555555556,
              "#d8576b"
             ],
             [
              0.6666666666666666,
              "#ed7953"
             ],
             [
              0.7777777777777778,
              "#fb9f3a"
             ],
             [
              0.8888888888888888,
              "#fdca26"
             ],
             [
              1,
              "#f0f921"
             ]
            ],
            "type": "histogram2dcontour"
           }
          ],
          "mesh3d": [
           {
            "colorbar": {
             "outlinewidth": 0,
             "ticks": ""
            },
            "type": "mesh3d"
           }
          ],
          "parcoords": [
           {
            "line": {
             "colorbar": {
              "outlinewidth": 0,
              "ticks": ""
             }
            },
            "type": "parcoords"
           }
          ],
          "pie": [
           {
            "automargin": true,
            "type": "pie"
           }
          ],
          "scatter": [
           {
            "fillpattern": {
             "fillmode": "overlay",
             "size": 10,
             "solidity": 0.2
            },
            "type": "scatter"
           }
          ],
          "scatter3d": [
           {
            "line": {
             "colorbar": {
              "outlinewidth": 0,
              "ticks": ""
             }
            },
            "marker": {
             "colorbar": {
              "outlinewidth": 0,
              "ticks": ""
             }
            },
            "type": "scatter3d"
           }
          ],
          "scattercarpet": [
           {
            "marker": {
             "colorbar": {
              "outlinewidth": 0,
              "ticks": ""
             }
            },
            "type": "scattercarpet"
           }
          ],
          "scattergeo": [
           {
            "marker": {
             "colorbar": {
              "outlinewidth": 0,
              "ticks": ""
             }
            },
            "type": "scattergeo"
           }
          ],
          "scattergl": [
           {
            "marker": {
             "colorbar": {
              "outlinewidth": 0,
              "ticks": ""
             }
            },
            "type": "scattergl"
           }
          ],
          "scattermapbox": [
           {
            "marker": {
             "colorbar": {
              "outlinewidth": 0,
              "ticks": ""
             }
            },
            "type": "scattermapbox"
           }
          ],
          "scatterpolar": [
           {
            "marker": {
             "colorbar": {
              "outlinewidth": 0,
              "ticks": ""
             }
            },
            "type": "scatterpolar"
           }
          ],
          "scatterpolargl": [
           {
            "marker": {
             "colorbar": {
              "outlinewidth": 0,
              "ticks": ""
             }
            },
            "type": "scatterpolargl"
           }
          ],
          "scatterternary": [
           {
            "marker": {
             "colorbar": {
              "outlinewidth": 0,
              "ticks": ""
             }
            },
            "type": "scatterternary"
           }
          ],
          "surface": [
           {
            "colorbar": {
             "outlinewidth": 0,
             "ticks": ""
            },
            "colorscale": [
             [
              0,
              "#0d0887"
             ],
             [
              0.1111111111111111,
              "#46039f"
             ],
             [
              0.2222222222222222,
              "#7201a8"
             ],
             [
              0.3333333333333333,
              "#9c179e"
             ],
             [
              0.4444444444444444,
              "#bd3786"
             ],
             [
              0.5555555555555556,
              "#d8576b"
             ],
             [
              0.6666666666666666,
              "#ed7953"
             ],
             [
              0.7777777777777778,
              "#fb9f3a"
             ],
             [
              0.8888888888888888,
              "#fdca26"
             ],
             [
              1,
              "#f0f921"
             ]
            ],
            "type": "surface"
           }
          ],
          "table": [
           {
            "cells": {
             "fill": {
              "color": "#EBF0F8"
             },
             "line": {
              "color": "white"
             }
            },
            "header": {
             "fill": {
              "color": "#C8D4E3"
             },
             "line": {
              "color": "white"
             }
            },
            "type": "table"
           }
          ]
         },
         "layout": {
          "annotationdefaults": {
           "arrowcolor": "#2a3f5f",
           "arrowhead": 0,
           "arrowwidth": 1
          },
          "autotypenumbers": "strict",
          "coloraxis": {
           "colorbar": {
            "outlinewidth": 0,
            "ticks": ""
           }
          },
          "colorscale": {
           "diverging": [
            [
             0,
             "#8e0152"
            ],
            [
             0.1,
             "#c51b7d"
            ],
            [
             0.2,
             "#de77ae"
            ],
            [
             0.3,
             "#f1b6da"
            ],
            [
             0.4,
             "#fde0ef"
            ],
            [
             0.5,
             "#f7f7f7"
            ],
            [
             0.6,
             "#e6f5d0"
            ],
            [
             0.7,
             "#b8e186"
            ],
            [
             0.8,
             "#7fbc41"
            ],
            [
             0.9,
             "#4d9221"
            ],
            [
             1,
             "#276419"
            ]
           ],
           "sequential": [
            [
             0,
             "#0d0887"
            ],
            [
             0.1111111111111111,
             "#46039f"
            ],
            [
             0.2222222222222222,
             "#7201a8"
            ],
            [
             0.3333333333333333,
             "#9c179e"
            ],
            [
             0.4444444444444444,
             "#bd3786"
            ],
            [
             0.5555555555555556,
             "#d8576b"
            ],
            [
             0.6666666666666666,
             "#ed7953"
            ],
            [
             0.7777777777777778,
             "#fb9f3a"
            ],
            [
             0.8888888888888888,
             "#fdca26"
            ],
            [
             1,
             "#f0f921"
            ]
           ],
           "sequentialminus": [
            [
             0,
             "#0d0887"
            ],
            [
             0.1111111111111111,
             "#46039f"
            ],
            [
             0.2222222222222222,
             "#7201a8"
            ],
            [
             0.3333333333333333,
             "#9c179e"
            ],
            [
             0.4444444444444444,
             "#bd3786"
            ],
            [
             0.5555555555555556,
             "#d8576b"
            ],
            [
             0.6666666666666666,
             "#ed7953"
            ],
            [
             0.7777777777777778,
             "#fb9f3a"
            ],
            [
             0.8888888888888888,
             "#fdca26"
            ],
            [
             1,
             "#f0f921"
            ]
           ]
          },
          "colorway": [
           "#636efa",
           "#EF553B",
           "#00cc96",
           "#ab63fa",
           "#FFA15A",
           "#19d3f3",
           "#FF6692",
           "#B6E880",
           "#FF97FF",
           "#FECB52"
          ],
          "font": {
           "color": "#2a3f5f"
          },
          "geo": {
           "bgcolor": "white",
           "lakecolor": "white",
           "landcolor": "#E5ECF6",
           "showlakes": true,
           "showland": true,
           "subunitcolor": "white"
          },
          "hoverlabel": {
           "align": "left"
          },
          "hovermode": "closest",
          "mapbox": {
           "style": "light"
          },
          "paper_bgcolor": "white",
          "plot_bgcolor": "#E5ECF6",
          "polar": {
           "angularaxis": {
            "gridcolor": "white",
            "linecolor": "white",
            "ticks": ""
           },
           "bgcolor": "#E5ECF6",
           "radialaxis": {
            "gridcolor": "white",
            "linecolor": "white",
            "ticks": ""
           }
          },
          "scene": {
           "xaxis": {
            "backgroundcolor": "#E5ECF6",
            "gridcolor": "white",
            "gridwidth": 2,
            "linecolor": "white",
            "showbackground": true,
            "ticks": "",
            "zerolinecolor": "white"
           },
           "yaxis": {
            "backgroundcolor": "#E5ECF6",
            "gridcolor": "white",
            "gridwidth": 2,
            "linecolor": "white",
            "showbackground": true,
            "ticks": "",
            "zerolinecolor": "white"
           },
           "zaxis": {
            "backgroundcolor": "#E5ECF6",
            "gridcolor": "white",
            "gridwidth": 2,
            "linecolor": "white",
            "showbackground": true,
            "ticks": "",
            "zerolinecolor": "white"
           }
          },
          "shapedefaults": {
           "line": {
            "color": "#2a3f5f"
           }
          },
          "ternary": {
           "aaxis": {
            "gridcolor": "white",
            "linecolor": "white",
            "ticks": ""
           },
           "baxis": {
            "gridcolor": "white",
            "linecolor": "white",
            "ticks": ""
           },
           "bgcolor": "#E5ECF6",
           "caxis": {
            "gridcolor": "white",
            "linecolor": "white",
            "ticks": ""
           }
          },
          "title": {
           "x": 0.05
          },
          "xaxis": {
           "automargin": true,
           "gridcolor": "white",
           "linecolor": "white",
           "ticks": "",
           "title": {
            "standoff": 15
           },
           "zerolinecolor": "white",
           "zerolinewidth": 2
          },
          "yaxis": {
           "automargin": true,
           "gridcolor": "white",
           "linecolor": "white",
           "ticks": "",
           "title": {
            "standoff": 15
           },
           "zerolinecolor": "white",
           "zerolinewidth": 2
          }
         }
        },
        "title": {
         "text": "CNN Loss & Accuracy"
        },
        "width": 1000,
        "xaxis": {
         "title": {
          "text": "Epochs"
         }
        },
        "yaxis": {
         "range": [
          0,
          5
         ],
         "title": {
          "text": "Loss"
         }
        },
        "yaxis2": {
         "overlaying": "y",
         "range": [
          0,
          1
         ],
         "side": "right",
         "title": {
          "text": "Accuracy"
         }
        }
       }
      }
     },
     "metadata": {},
     "output_type": "display_data"
    }
   ],
   "source": [
    "# same plot but give blue color to train and orange to validation\n",
    "fig = go.Figure()\n",
    "fig.add_trace(go.Scatter(x=history_cnn.epoch, y=history_cnn.history['loss'], name=\"Training Loss\"))\n",
    "fig.add_trace(go.Scatter(x=history_cnn.epoch, y=history_cnn.history['val_loss'], name=\"Validation Loss\"))\n",
    "# add accuracy on different y axis\n",
    "fig.update_layout(yaxis2=dict(overlaying='y', side='right', range=[0, 1], title=\"Accuracy\"))\n",
    "fig.add_trace(go.Scatter(x=history_cnn.epoch, y=history_cnn.history['accuracy'], name=\"Training Accuracy\", yaxis=\"y2\"))\n",
    "fig.add_trace(go.Scatter(x=history_cnn.epoch, y=history_cnn.history['val_accuracy'], name=\"Validation Accuracy\", yaxis=\"y2\"))\n",
    "fig.update_layout(title=\"CNN Loss & Accuracy\",\n",
    "                  legend=dict(\n",
    "                        orientation=\"h\",\n",
    "                        yanchor=\"bottom\",\n",
    "                        y=1.02,\n",
    "                        xanchor=\"right\",\n",
    "                        x=1\n",
    "                        ),\n",
    "                  yaxis=dict(range=[0, 5],title=\"Loss\"),\n",
    "                  xaxis=dict(title=\"Epochs\")\n",
    "                  )\n",
    "fig.update_layout(width=1000, height=600)\n",
    "fig.show()"
   ]
  },
  {
   "attachments": {},
   "cell_type": "markdown",
   "metadata": {},
   "source": [
    "## TEST"
   ]
  },
  {
   "attachments": {},
   "cell_type": "markdown",
   "metadata": {},
   "source": [
    "### rapport"
   ]
  },
  {
   "cell_type": "code",
   "execution_count": null,
   "metadata": {},
   "outputs": [],
   "source": [
    "def top_k(y_pred, k=3):\n",
    "    # retrieve the top k predictions as sorted dictionary of {class: probability}\n",
    "    top_k = tf.math.top_k(y_pred, k=k)\n",
    "    prob = top_k.values.numpy().tolist()\n",
    "    prob = [round(p, 2) for p in prob]\n",
    "    # convert the dictionary to a list of class indices\n",
    "    name = top_k.indices.numpy().tolist()\n",
    "    name = [class_names[i] for i in name]\n",
    "    ret = {}\n",
    "    for i in range(len(prob)):\n",
    "        if prob[i] > 0.1:\n",
    "            ret[name[i]] = prob[i]\n",
    "    return ret"
   ]
  },
  {
   "cell_type": "code",
   "execution_count": null,
   "metadata": {},
   "outputs": [
    {
     "name": "stdout",
     "output_type": "stream",
     "text": [
      "87/87 [==============================] - 9s 51ms/step\n"
     ]
    }
   ],
   "source": [
    "y_pred_cnn = cnn.predict(val_ds)\n",
    "y_pred_eff = model.predict(val_ds)"
   ]
  },
  {
   "cell_type": "code",
   "execution_count": null,
   "metadata": {},
   "outputs": [],
   "source": [
    "y_test = []\n",
    "for i in val_ds:\n",
    "    y_test.extend(i[1].numpy())\n",
    "import numpy as np\n",
    "y_test = np.array(y_test)"
   ]
  },
  {
   "cell_type": "code",
   "execution_count": null,
   "metadata": {},
   "outputs": [],
   "source": [
    "# argmax all\n",
    "y_pred_cnn_ = np.argmax(y_pred_cnn, axis=1).reshape(-1, 1)\n",
    "y_pred_eff_ = np.argmax(y_pred_eff, axis=1).reshape(-1, 1)\n",
    "\n",
    "y_test = np.argmax(y_test, axis=1).reshape(-1, 1)"
   ]
  },
  {
   "cell_type": "code",
   "execution_count": 40,
   "metadata": {},
   "outputs": [
    {
     "name": "stdout",
     "output_type": "stream",
     "text": [
      "Kappa score for EfficientNetB4:  0.7446011818478946\n",
      "Kappa score for CNN:  0.28485547620141827\n"
     ]
    }
   ],
   "source": [
    "from sklearn.metrics import cohen_kappa_score\n",
    "kappa_eff = cohen_kappa_score(y_test, y_pred_eff_)\n",
    "kappa_cnn = cohen_kappa_score(y_test, y_pred_cnn_)\n",
    "\n",
    "print(\"Kappa score for EfficientNetB4: \", kappa_eff)\n",
    "print(\"Kappa score for CNN: \", kappa_cnn)"
   ]
  },
  {
   "cell_type": "code",
   "execution_count": 42,
   "metadata": {},
   "outputs": [
    {
     "name": "stdout",
     "output_type": "stream",
     "text": [
      "Classification report for EfficientNetB4: \n",
      "              precision    recall  f1-score   support\n",
      "\n",
      "           0       1.00      1.00      1.00         4\n",
      "           1       0.71      1.00      0.83         5\n",
      "           2       0.71      1.00      0.83         5\n",
      "           3       1.00      1.00      1.00         3\n",
      "           4       1.00      0.75      0.86         4\n",
      "           5       1.00      0.50      0.67         2\n",
      "           6       1.00      0.33      0.50         3\n",
      "           7       0.56      1.00      0.71         5\n",
      "           8       1.00      0.57      0.73         7\n",
      "           9       0.96      1.00      0.98        49\n",
      "          10       1.00      1.00      1.00         1\n",
      "          11       1.00      0.75      0.86         8\n",
      "          12       0.33      1.00      0.50         1\n",
      "          13       1.00      1.00      1.00         2\n",
      "          14       0.00      0.00      0.00         2\n",
      "          15       0.86      1.00      0.92         6\n",
      "          16       0.75      0.75      0.75         4\n",
      "          17       1.00      1.00      1.00         1\n",
      "          18       0.00      0.00      0.00         2\n",
      "          19       1.00      1.00      1.00         3\n",
      "          20       0.00      0.00      0.00         1\n",
      "          21       1.00      0.67      0.80         3\n",
      "          22       0.89      1.00      0.94        24\n",
      "          23       1.00      0.67      0.80         3\n",
      "          26       1.00      1.00      1.00         1\n",
      "          27       0.33      1.00      0.50         2\n",
      "          28       0.60      1.00      0.75         3\n",
      "          30       1.00      0.50      0.67         2\n",
      "          31       0.50      1.00      0.67         1\n",
      "          32       1.00      1.00      1.00         4\n",
      "          33       0.67      0.50      0.57         4\n",
      "          34       1.00      1.00      1.00         2\n",
      "          35       1.00      1.00      1.00         1\n",
      "          36       1.00      0.50      0.67         2\n",
      "          37       1.00      0.50      0.67         6\n",
      "          38       0.75      1.00      0.86         3\n",
      "          39       0.50      1.00      0.67         3\n",
      "          40       0.00      0.00      0.00         2\n",
      "          41       1.00      0.33      0.50         3\n",
      "          42       0.50      1.00      0.67         2\n",
      "          44       0.80      1.00      0.89         4\n",
      "          45       0.50      1.00      0.67         1\n",
      "          47       0.50      0.67      0.57         3\n",
      "          48       1.00      1.00      1.00         2\n",
      "          49       1.00      1.00      1.00         2\n",
      "          50       1.00      1.00      1.00         3\n",
      "          51       0.89      1.00      0.94         8\n",
      "          52       1.00      1.00      1.00         1\n",
      "          53       1.00      1.00      1.00         3\n",
      "          54       1.00      1.00      1.00         2\n",
      "          55       0.67      1.00      0.80         2\n",
      "          56       0.00      0.00      0.00         0\n",
      "          57       0.67      1.00      0.80         2\n",
      "          58       1.00      1.00      1.00         2\n",
      "          59       0.67      1.00      0.80         2\n",
      "          60       1.00      1.00      1.00         5\n",
      "          61       1.00      1.00      1.00         1\n",
      "          62       0.50      1.00      0.67         1\n",
      "          63       1.00      0.67      0.80         3\n",
      "          64       0.71      0.71      0.71         7\n",
      "          65       0.67      0.50      0.57         4\n",
      "          66       0.50      1.00      0.67         1\n",
      "          67       1.00      0.50      0.67         2\n",
      "          68       1.00      0.33      0.50         3\n",
      "          69       1.00      1.00      1.00         2\n",
      "          70       0.00      0.00      0.00         0\n",
      "          71       1.00      1.00      1.00         2\n",
      "          72       1.00      1.00      1.00         4\n",
      "          74       1.00      1.00      1.00         1\n",
      "          75       0.67      0.67      0.67         3\n",
      "          76       0.40      1.00      0.57         2\n",
      "          78       0.75      1.00      0.86         3\n",
      "          79       1.00      1.00      1.00         2\n",
      "          80       1.00      0.50      0.67         2\n",
      "          81       0.75      1.00      0.86         3\n",
      "          82       0.40      0.50      0.44         4\n",
      "          83       0.67      0.40      0.50         5\n",
      "          84       0.75      0.75      0.75         4\n",
      "          86       0.83      1.00      0.91         5\n",
      "          87       1.00      1.00      1.00         5\n",
      "          88       1.00      1.00      1.00         1\n",
      "          89       0.60      1.00      0.75         3\n",
      "          90       1.00      1.00      1.00         3\n",
      "          92       1.00      0.86      0.92         7\n",
      "          94       1.00      1.00      1.00         1\n",
      "          95       1.00      1.00      1.00         3\n",
      "          96       1.00      1.00      1.00         3\n",
      "          97       1.00      0.75      0.86         4\n",
      "          98       0.00      0.00      0.00         3\n",
      "          99       0.27      0.50      0.35         6\n",
      "         100       0.00      0.00      0.00         2\n",
      "         101       0.40      1.00      0.57         2\n",
      "         102       0.50      1.00      0.67         1\n",
      "         103       0.50      1.00      0.67         1\n",
      "         104       0.50      1.00      0.67         2\n",
      "         105       1.00      0.67      0.80         3\n",
      "         106       0.50      0.22      0.31         9\n",
      "         107       1.00      1.00      1.00         1\n",
      "         108       1.00      0.20      0.33         5\n",
      "         109       0.00      0.00      0.00         1\n",
      "         111       0.50      0.67      0.57         3\n",
      "         112       0.67      1.00      0.80         2\n",
      "         113       1.00      1.00      1.00         2\n",
      "         114       0.00      0.00      0.00         1\n",
      "         115       0.00      0.00      0.00         1\n",
      "         116       0.80      0.80      0.80         5\n",
      "         117       0.67      0.40      0.50         5\n",
      "         118       0.45      1.00      0.62         5\n",
      "         119       1.00      1.00      1.00         1\n",
      "         120       0.29      1.00      0.44         2\n",
      "         121       0.00      0.00      0.00         0\n",
      "         122       1.00      1.00      1.00         1\n",
      "         123       0.80      1.00      0.89         4\n",
      "         124       1.00      0.33      0.50         3\n",
      "         125       0.67      1.00      0.80         2\n",
      "         126       0.00      0.00      0.00         1\n",
      "         127       1.00      1.00      1.00         5\n",
      "         128       1.00      0.67      0.80         3\n",
      "         129       0.50      1.00      0.67         4\n",
      "         130       1.00      0.50      0.67         2\n",
      "         131       1.00      1.00      1.00         6\n",
      "         132       1.00      0.50      0.67         2\n",
      "         133       0.00      0.00      0.00         0\n",
      "         134       1.00      0.50      0.67         2\n",
      "         135       1.00      0.83      0.91         6\n",
      "         136       0.50      0.67      0.57         3\n",
      "         138       1.00      1.00      1.00         3\n",
      "         139       1.00      1.00      1.00         1\n",
      "         140       1.00      0.67      0.80         3\n",
      "         141       0.40      0.40      0.40         5\n",
      "         142       0.00      0.00      0.00         1\n",
      "         143       1.00      0.50      0.67         2\n",
      "         144       1.00      1.00      1.00         1\n",
      "         145       1.00      1.00      1.00         1\n",
      "         146       1.00      0.50      0.67         4\n",
      "         147       1.00      0.50      0.67         2\n",
      "         148       0.00      0.00      0.00         2\n",
      "         149       0.67      1.00      0.80         2\n",
      "         150       1.00      1.00      1.00         1\n",
      "         151       1.00      0.17      0.29         6\n",
      "         152       0.67      1.00      0.80         2\n",
      "         153       1.00      0.50      0.67         2\n",
      "         154       0.62      1.00      0.77         5\n",
      "         155       0.50      1.00      0.67         1\n",
      "         156       1.00      0.75      0.86         8\n",
      "         157       1.00      1.00      1.00         2\n",
      "         159       0.67      0.29      0.40         7\n",
      "         160       0.29      1.00      0.44         2\n",
      "         161       0.00      0.00      0.00         1\n",
      "         162       1.00      1.00      1.00         2\n",
      "         164       1.00      0.17      0.29         6\n",
      "         165       0.33      0.33      0.33         3\n",
      "         166       1.00      0.75      0.86         4\n",
      "         168       1.00      1.00      1.00         3\n",
      "         169       0.50      1.00      0.67         1\n",
      "         170       0.00      0.00      0.00         1\n",
      "         171       1.00      0.86      0.92         7\n",
      "         172       0.67      1.00      0.80         2\n",
      "         173       0.50      0.67      0.57         3\n",
      "         174       1.00      1.00      1.00         1\n",
      "         176       0.80      1.00      0.89         8\n",
      "         177       1.00      0.67      0.80         3\n",
      "         178       1.00      0.75      0.86         4\n",
      "         179       1.00      0.50      0.67         2\n",
      "         180       1.00      1.00      1.00         1\n",
      "         181       0.67      0.67      0.67         3\n",
      "         182       1.00      1.00      1.00         3\n",
      "         183       0.00      0.00      0.00         1\n",
      "         184       1.00      1.00      1.00         3\n",
      "         185       0.10      1.00      0.18         2\n",
      "         186       1.00      1.00      1.00         2\n",
      "         187       0.43      0.75      0.55         4\n",
      "         188       1.00      1.00      1.00         7\n",
      "         189       0.50      1.00      0.67         1\n",
      "         190       0.00      0.00      0.00         2\n",
      "         191       0.00      0.00      0.00         2\n",
      "         192       1.00      0.50      0.67         4\n",
      "         193       1.00      0.50      0.67         4\n",
      "         194       1.00      0.67      0.80         3\n",
      "         195       0.88      1.00      0.93         7\n",
      "         196       1.00      0.33      0.50         3\n",
      "         197       1.00      0.50      0.67         2\n",
      "         198       1.00      0.50      0.67         2\n",
      "         199       1.00      1.00      1.00         3\n",
      "         200       0.40      1.00      0.57         2\n",
      "         201       0.00      0.00      0.00         0\n",
      "         203       0.60      1.00      0.75         3\n",
      "         204       0.60      1.00      0.75         3\n",
      "         205       1.00      0.60      0.75         5\n",
      "         206       1.00      0.50      0.67         2\n",
      "         207       0.67      1.00      0.80         2\n",
      "         208       1.00      1.00      1.00         2\n",
      "         209       1.00      1.00      1.00         1\n",
      "         210       0.00      0.00      0.00         4\n",
      "         211       1.00      1.00      1.00         6\n",
      "         212       1.00      1.00      1.00         4\n",
      "         213       1.00      1.00      1.00         3\n",
      "         214       1.00      1.00      1.00         1\n",
      "         215       0.33      1.00      0.50         1\n",
      "         216       0.00      0.00      0.00         0\n",
      "         217       1.00      0.50      0.67         2\n",
      "         218       0.22      1.00      0.36         2\n",
      "         219       1.00      1.00      1.00         3\n",
      "         220       1.00      0.67      0.80         3\n",
      "         221       1.00      1.00      1.00         1\n",
      "         222       0.33      1.00      0.50         1\n",
      "         223       0.83      1.00      0.91         5\n",
      "         224       1.00      1.00      1.00         1\n",
      "         225       1.00      1.00      1.00         2\n",
      "         226       1.00      1.00      1.00         2\n",
      "         227       0.25      0.50      0.33         2\n",
      "         228       0.33      1.00      0.50         1\n",
      "         229       1.00      0.60      0.75         5\n",
      "         230       0.80      1.00      0.89         4\n",
      "         231       0.12      1.00      0.22         1\n",
      "         233       0.00      0.00      0.00         0\n",
      "         234       0.75      0.75      0.75         4\n",
      "         235       0.75      1.00      0.86         3\n",
      "         237       1.00      0.50      0.67         2\n",
      "         238       1.00      1.00      1.00         2\n",
      "         239       0.43      1.00      0.60         3\n",
      "         240       0.00      0.00      0.00         1\n",
      "         241       1.00      0.67      0.80         3\n",
      "         242       1.00      0.50      0.67         2\n",
      "         243       1.00      1.00      1.00         3\n",
      "         244       0.80      0.80      0.80         5\n",
      "         245       1.00      0.40      0.57         5\n",
      "         246       0.00      0.00      0.00         1\n",
      "         247       0.83      0.83      0.83         6\n",
      "         248       0.75      1.00      0.86         3\n",
      "         249       0.67      1.00      0.80         4\n",
      "         250       0.00      0.00      0.00         1\n",
      "         251       0.67      0.33      0.44         6\n",
      "         252       1.00      1.00      1.00         3\n",
      "         253       0.67      1.00      0.80         2\n",
      "         254       0.33      1.00      0.50         1\n",
      "         255       0.75      1.00      0.86         3\n",
      "         256       0.67      0.67      0.67         6\n",
      "         257       1.00      0.50      0.67         2\n",
      "         258       1.00      0.80      0.89         5\n",
      "         259       0.50      0.33      0.40         3\n",
      "         260       0.00      0.00      0.00         1\n",
      "         261       1.00      1.00      1.00         2\n",
      "         262       0.67      1.00      0.80         2\n",
      "         263       0.67      1.00      0.80         2\n",
      "         264       1.00      0.75      0.86         4\n",
      "         265       0.00      0.00      0.00         2\n",
      "         266       1.00      0.67      0.80         3\n",
      "         267       0.75      1.00      0.86         3\n",
      "         268       0.50      0.50      0.50         4\n",
      "         269       0.60      1.00      0.75         3\n",
      "         270       1.00      1.00      1.00         1\n",
      "         271       0.00      0.00      0.00         3\n",
      "         272       1.00      1.00      1.00         4\n",
      "         273       0.00      0.00      0.00         1\n",
      "         274       0.80      0.67      0.73         6\n",
      "         275       0.67      0.67      0.67         3\n",
      "         276       1.00      1.00      1.00        10\n",
      "         277       0.67      1.00      0.80         2\n",
      "         278       1.00      1.00      1.00         2\n",
      "         279       1.00      0.67      0.80         6\n",
      "         280       0.71      1.00      0.83         5\n",
      "         281       0.86      0.86      0.86         7\n",
      "         282       0.75      1.00      0.86         3\n",
      "         283       1.00      1.00      1.00         9\n",
      "         284       0.86      1.00      0.92         6\n",
      "         285       0.86      1.00      0.92         6\n",
      "         286       0.60      0.60      0.60         5\n",
      "         287       1.00      0.67      0.80         3\n",
      "         288       0.50      1.00      0.67         1\n",
      "         289       1.00      0.67      0.80         9\n",
      "         290       0.60      1.00      0.75         3\n",
      "         291       1.00      0.62      0.77         8\n",
      "         292       0.83      1.00      0.91         5\n",
      "         295       1.00      1.00      1.00         4\n",
      "         296       1.00      0.25      0.40         4\n",
      "         297       0.67      0.67      0.67         6\n",
      "         298       0.00      0.00      0.00         3\n",
      "         299       0.67      0.50      0.57         4\n",
      "         300       0.80      1.00      0.89         4\n",
      "         301       1.00      1.00      1.00         3\n",
      "         302       0.75      0.75      0.75         4\n",
      "         303       0.33      0.33      0.33         3\n",
      "         304       1.00      1.00      1.00         1\n",
      "         306       1.00      0.67      0.80         3\n",
      "         307       0.50      0.50      0.50         4\n",
      "         308       1.00      0.60      0.75         5\n",
      "         310       1.00      0.75      0.86         4\n",
      "         311       1.00      0.75      0.86         4\n",
      "         312       1.00      0.75      0.86         4\n",
      "         314       1.00      0.67      0.80         3\n",
      "         315       0.00      0.00      0.00         1\n",
      "         316       0.56      1.00      0.71         5\n",
      "         318       0.40      0.67      0.50         3\n",
      "         319       0.60      1.00      0.75         3\n",
      "         320       0.00      0.00      0.00         2\n",
      "         321       1.00      1.00      1.00         1\n",
      "         322       0.50      1.00      0.67         1\n",
      "         323       0.33      0.33      0.33         3\n",
      "         324       0.50      0.33      0.40         3\n",
      "         325       0.40      0.50      0.44         4\n",
      "         327       0.75      1.00      0.86         3\n",
      "         328       0.83      1.00      0.91         5\n",
      "         329       1.00      1.00      1.00         1\n",
      "         330       1.00      1.00      1.00         1\n",
      "         331       1.00      1.00      1.00         1\n",
      "         332       1.00      0.75      0.86         4\n",
      "         333       0.00      0.00      0.00         1\n",
      "         334       0.00      0.00      0.00         2\n",
      "         335       0.33      1.00      0.50         1\n",
      "         336       0.33      0.33      0.33         3\n",
      "         337       1.00      1.00      1.00         2\n",
      "         338       0.00      0.00      0.00         1\n",
      "         339       0.75      0.60      0.67         5\n",
      "         340       0.25      1.00      0.40         1\n",
      "         341       0.67      0.67      0.67         3\n",
      "         342       1.00      1.00      1.00         2\n",
      "         343       1.00      1.00      1.00         2\n",
      "         344       0.50      1.00      0.67         1\n",
      "         345       0.00      0.00      0.00         2\n",
      "         346       1.00      0.60      0.75         5\n",
      "         347       0.67      0.67      0.67         3\n",
      "         348       0.29      1.00      0.44         2\n",
      "         349       1.00      1.00      1.00         1\n",
      "         350       1.00      1.00      1.00         3\n",
      "         351       1.00      0.75      0.86         4\n",
      "         352       1.00      0.60      0.75         5\n",
      "         353       1.00      1.00      1.00         3\n",
      "         354       0.50      0.67      0.57         3\n",
      "         355       1.00      1.00      1.00         1\n",
      "         356       0.00      0.00      0.00         2\n",
      "         357       1.00      0.75      0.86         4\n",
      "         358       1.00      0.50      0.67         2\n",
      "         359       1.00      0.40      0.57         5\n",
      "         360       0.71      0.83      0.77         6\n",
      "         361       0.75      1.00      0.86         3\n",
      "         362       0.60      0.75      0.67         4\n",
      "         363       0.80      1.00      0.89         4\n",
      "         364       0.71      1.00      0.83         5\n",
      "         365       1.00      0.33      0.50         3\n",
      "         366       0.67      1.00      0.80         2\n",
      "         367       0.00      0.00      0.00         2\n",
      "         369       0.20      0.50      0.29         2\n",
      "         370       1.00      1.00      1.00         4\n",
      "         371       0.00      0.00      0.00         1\n",
      "         372       0.00      0.00      0.00         3\n",
      "         373       0.30      0.43      0.35         7\n",
      "         374       1.00      1.00      1.00         2\n",
      "         375       0.00      0.00      0.00         0\n",
      "         376       0.67      0.29      0.40         7\n",
      "         377       1.00      1.00      1.00         4\n",
      "         378       0.67      0.67      0.67         3\n",
      "         379       1.00      0.20      0.33         5\n",
      "         380       1.00      1.00      1.00         2\n",
      "         381       0.75      0.75      0.75         4\n",
      "         382       1.00      0.67      0.80         3\n",
      "         383       1.00      1.00      1.00         3\n",
      "         384       1.00      0.75      0.86         4\n",
      "         385       1.00      0.60      0.75         5\n",
      "         386       0.80      0.80      0.80         5\n",
      "         387       1.00      0.75      0.86         4\n",
      "         388       0.00      0.00      0.00         1\n",
      "         389       0.75      0.75      0.75         4\n",
      "         390       0.50      1.00      0.67         1\n",
      "         391       1.00      1.00      1.00         5\n",
      "         392       1.00      0.29      0.44         7\n",
      "         393       0.75      0.60      0.67         5\n",
      "         394       1.00      0.75      0.86         4\n",
      "         396       1.00      1.00      1.00         2\n",
      "         397       0.50      1.00      0.67         1\n",
      "         398       1.00      0.67      0.80         3\n",
      "         399       1.00      0.20      0.33         5\n",
      "         400       1.00      0.33      0.50         3\n",
      "         401       0.00      0.00      0.00         0\n",
      "         402       0.67      0.40      0.50         5\n",
      "         403       1.00      0.75      0.86         4\n",
      "         404       0.25      1.00      0.40         1\n",
      "         406       1.00      1.00      1.00         2\n",
      "         407       0.00      0.00      0.00         1\n",
      "         408       1.00      0.60      0.75         5\n",
      "         409       0.33      0.67      0.44         6\n",
      "         410       0.67      0.67      0.67         3\n",
      "         411       1.00      1.00      1.00         4\n",
      "         412       1.00      0.80      0.89         5\n",
      "         413       1.00      0.25      0.40         4\n",
      "         414       0.33      0.25      0.29         4\n",
      "         415       1.00      1.00      1.00         2\n",
      "         416       0.60      1.00      0.75         3\n",
      "         417       0.00      0.00      0.00         2\n",
      "         418       0.67      0.67      0.67         6\n",
      "         419       1.00      1.00      1.00         4\n",
      "         420       1.00      1.00      1.00         5\n",
      "         421       1.00      0.33      0.50         3\n",
      "         422       1.00      0.50      0.67         2\n",
      "         423       1.00      1.00      1.00         2\n",
      "         424       1.00      1.00      1.00         4\n",
      "         425       1.00      1.00      1.00         4\n",
      "         426       1.00      0.25      0.40         4\n",
      "         427       0.50      1.00      0.67         1\n",
      "         428       1.00      1.00      1.00         2\n",
      "         429       0.78      1.00      0.88         7\n",
      "         430       0.00      0.00      0.00         2\n",
      "         431       0.50      0.50      0.50         2\n",
      "         432       1.00      1.00      1.00         2\n",
      "         433       1.00      1.00      1.00         3\n",
      "         434       1.00      1.00      1.00         3\n",
      "         435       0.20      1.00      0.33         1\n",
      "         436       1.00      0.50      0.67         6\n",
      "         437       1.00      0.86      0.92         7\n",
      "         438       1.00      1.00      1.00         3\n",
      "         439       0.67      0.50      0.57         4\n",
      "         440       0.33      1.00      0.50         2\n",
      "         441       1.00      0.33      0.50         3\n",
      "         442       1.00      1.00      1.00         1\n",
      "         443       1.00      0.25      0.40         4\n",
      "         444       1.00      1.00      1.00         4\n",
      "         445       0.71      0.83      0.77         6\n",
      "         446       0.50      1.00      0.67         2\n",
      "         447       1.00      0.20      0.33         5\n",
      "         448       0.00      0.00      0.00         1\n",
      "         449       1.00      0.50      0.67         6\n",
      "         450       0.55      1.00      0.71         6\n",
      "         451       0.43      0.50      0.46         6\n",
      "         452       1.00      0.67      0.80         3\n",
      "         454       0.80      0.80      0.80         5\n",
      "         455       1.00      0.50      0.67         2\n",
      "         456       1.00      0.67      0.80         3\n",
      "         457       0.71      0.83      0.77         6\n",
      "         458       0.75      1.00      0.86         6\n",
      "         459       0.75      1.00      0.86         3\n",
      "         460       1.00      0.50      0.67         2\n",
      "         462       1.00      1.00      1.00         3\n",
      "         463       0.75      0.60      0.67         5\n",
      "         464       0.00      0.00      0.00         0\n",
      "         465       0.75      0.75      0.75         4\n",
      "         466       1.00      1.00      1.00         1\n",
      "         467       1.00      0.67      0.80         3\n",
      "         468       1.00      0.33      0.50         3\n",
      "         469       1.00      0.50      0.67         2\n",
      "         470       0.33      1.00      0.50         1\n",
      "         471       0.00      0.00      0.00         2\n",
      "         472       0.67      0.50      0.57         4\n",
      "         473       1.00      0.50      0.67         2\n",
      "         475       1.00      0.50      0.67         2\n",
      "         476       0.67      1.00      0.80         2\n",
      "         477       0.67      1.00      0.80         2\n",
      "         478       0.71      1.00      0.83         5\n",
      "         479       0.50      0.75      0.60         4\n",
      "         480       0.67      1.00      0.80         2\n",
      "         482       0.80      1.00      0.89         4\n",
      "         483       0.67      0.67      0.67         3\n",
      "         484       1.00      0.50      0.67         4\n",
      "         485       0.57      0.80      0.67         5\n",
      "         486       1.00      0.50      0.67         6\n",
      "         487       0.75      0.60      0.67         5\n",
      "         488       1.00      0.60      0.75         5\n",
      "         489       1.00      1.00      1.00         3\n",
      "         490       0.33      0.50      0.40         4\n",
      "         491       1.00      0.80      0.89         5\n",
      "         492       0.67      0.67      0.67         3\n",
      "         493       1.00      0.40      0.57         5\n",
      "         494       1.00      1.00      1.00         4\n",
      "         496       1.00      1.00      1.00         5\n",
      "         497       0.00      0.00      0.00         1\n",
      "         498       1.00      0.17      0.29         6\n",
      "         500       0.75      0.75      0.75         4\n",
      "         501       0.71      1.00      0.83         5\n",
      "         502       1.00      1.00      1.00         2\n",
      "         503       0.25      1.00      0.40         1\n",
      "         504       0.60      1.00      0.75         3\n",
      "         505       0.75      0.75      0.75         4\n",
      "         506       1.00      0.20      0.33         5\n",
      "         507       1.00      1.00      1.00         2\n",
      "         509       0.50      1.00      0.67         1\n",
      "         510       1.00      1.00      1.00         7\n",
      "         511       0.75      0.60      0.67         5\n",
      "         513       0.00      0.00      0.00         1\n",
      "         514       0.50      0.50      0.50         2\n",
      "         516       1.00      0.60      0.75         5\n",
      "         517       0.00      0.00      0.00         0\n",
      "         518       0.50      0.67      0.57         3\n",
      "         519       1.00      1.00      1.00         3\n",
      "         520       1.00      1.00      1.00         1\n",
      "         521       1.00      1.00      1.00         2\n",
      "         522       1.00      1.00      1.00         2\n",
      "         523       1.00      0.50      0.67         6\n",
      "         524       0.50      1.00      0.67         1\n",
      "         525       1.00      0.50      0.67         2\n",
      "         526       0.40      1.00      0.57         2\n",
      "         527       1.00      0.50      0.67         2\n",
      "         528       1.00      0.50      0.67         2\n",
      "         529       0.67      0.67      0.67         3\n",
      "         530       0.33      0.50      0.40         2\n",
      "         532       1.00      0.33      0.50         3\n",
      "         533       0.75      0.60      0.67         5\n",
      "         534       0.75      1.00      0.86         3\n",
      "         535       1.00      1.00      1.00         2\n",
      "         537       0.25      0.50      0.33         2\n",
      "         538       1.00      1.00      1.00         1\n",
      "         539       1.00      0.83      0.91         6\n",
      "         540       1.00      0.75      0.86         4\n",
      "         541       1.00      0.50      0.67         2\n",
      "         542       0.86      1.00      0.92         6\n",
      "         543       1.00      1.00      1.00         4\n",
      "         544       0.83      1.00      0.91         5\n",
      "         545       0.75      0.75      0.75         4\n",
      "         546       1.00      1.00      1.00         9\n",
      "         548       1.00      1.00      1.00         1\n",
      "         549       1.00      0.60      0.75         5\n",
      "         550       0.40      1.00      0.57         2\n",
      "         552       1.00      0.50      0.67         2\n",
      "         553       0.00      0.00      0.00         1\n",
      "         554       1.00      1.00      1.00         1\n",
      "         555       0.67      0.67      0.67         3\n",
      "         556       1.00      0.25      0.40         4\n",
      "         557       0.00      0.00      0.00         1\n",
      "         558       1.00      0.67      0.80         3\n",
      "         559       1.00      1.00      1.00         2\n",
      "         560       1.00      0.50      0.67         2\n",
      "         561       1.00      1.00      1.00         2\n",
      "         562       1.00      0.50      0.67         2\n",
      "         563       1.00      1.00      1.00         2\n",
      "         564       0.67      1.00      0.80         2\n",
      "         565       1.00      0.67      0.80         3\n",
      "         566       1.00      1.00      1.00         1\n",
      "         567       0.00      0.00      0.00         1\n",
      "         568       0.67      1.00      0.80         2\n",
      "         569       0.67      0.67      0.67         3\n",
      "         570       1.00      1.00      1.00         1\n",
      "         571       0.00      0.00      0.00         0\n",
      "         573       0.50      0.33      0.40         3\n",
      "         574       1.00      0.71      0.83         7\n",
      "         575       0.25      0.25      0.25         4\n",
      "         576       0.67      0.29      0.40         7\n",
      "         577       1.00      0.33      0.50         9\n",
      "         579       0.50      1.00      0.67         2\n",
      "         580       0.92      0.96      0.94        25\n",
      "         581       0.00      0.00      0.00         0\n",
      "         582       1.00      1.00      1.00         6\n",
      "         584       1.00      0.67      0.80         6\n",
      "         585       1.00      0.57      0.73         7\n",
      "         586       1.00      0.67      0.80         3\n",
      "         587       0.50      0.33      0.40         3\n",
      "         588       1.00      1.00      1.00         1\n",
      "         589       0.57      0.67      0.62         6\n",
      "         590       1.00      1.00      1.00         4\n",
      "         591       1.00      0.50      0.67         4\n",
      "         592       0.75      1.00      0.86         3\n",
      "         594       0.33      0.33      0.33         3\n",
      "         595       0.25      0.33      0.29         3\n",
      "         596       0.67      1.00      0.80         2\n",
      "         597       0.75      1.00      0.86         3\n",
      "         598       1.00      1.00      1.00         2\n",
      "         599       0.50      0.67      0.57         3\n",
      "         601       1.00      0.83      0.91         6\n",
      "         602       1.00      1.00      1.00         5\n",
      "         603       0.60      1.00      0.75         3\n",
      "         604       0.60      0.60      0.60         5\n",
      "         605       1.00      0.25      0.40         4\n",
      "         606       1.00      1.00      1.00         4\n",
      "         607       1.00      0.75      0.86         4\n",
      "         608       1.00      0.75      0.86         4\n",
      "         609       0.00      0.00      0.00         1\n",
      "         610       0.00      0.00      0.00         0\n",
      "         611       0.60      0.75      0.67         4\n",
      "         612       0.18      1.00      0.31         2\n",
      "         614       1.00      0.67      0.80         3\n",
      "         616       0.92      0.80      0.86        15\n",
      "         617       1.00      1.00      1.00         4\n",
      "         618       0.50      1.00      0.67         3\n",
      "         619       0.43      1.00      0.60         3\n",
      "         620       1.00      0.25      0.40         4\n",
      "         621       0.25      0.40      0.31         5\n",
      "         622       0.75      0.67      0.71         9\n",
      "         623       0.33      0.50      0.40         2\n",
      "         624       0.86      0.86      0.86         7\n",
      "         625       0.00      0.00      0.00         1\n",
      "         626       0.00      0.00      0.00         0\n",
      "         627       1.00      1.00      1.00         1\n",
      "         628       1.00      1.00      1.00         4\n",
      "         629       1.00      0.67      0.80         3\n",
      "         630       0.75      0.60      0.67         5\n",
      "         631       0.60      0.75      0.67         4\n",
      "         632       0.25      1.00      0.40         1\n",
      "         633       1.00      0.50      0.67         2\n",
      "         634       1.00      1.00      1.00         1\n",
      "         635       0.75      0.75      0.75         4\n",
      "         636       0.50      1.00      0.67         1\n",
      "         638       0.00      0.00      0.00         1\n",
      "         639       0.67      0.67      0.67         3\n",
      "         640       0.00      0.00      0.00         0\n",
      "         641       0.60      0.75      0.67         4\n",
      "         642       1.00      1.00      1.00         2\n",
      "         643       1.00      1.00      1.00         1\n",
      "         644       0.83      1.00      0.91         5\n",
      "         645       1.00      0.80      0.89         5\n",
      "         646       0.78      0.88      0.82         8\n",
      "         647       0.33      1.00      0.50         1\n",
      "         648       1.00      1.00      1.00         3\n",
      "         649       1.00      1.00      1.00         1\n",
      "         650       0.40      1.00      0.57         2\n",
      "         651       1.00      0.60      0.75         5\n",
      "         652       0.00      0.00      0.00         0\n",
      "         653       0.50      1.00      0.67         1\n",
      "         654       0.50      1.00      0.67         1\n",
      "         655       0.67      1.00      0.80         2\n",
      "         656       1.00      0.33      0.50         3\n",
      "         657       1.00      0.43      0.60         7\n",
      "         658       0.75      1.00      0.86         3\n",
      "         659       1.00      1.00      1.00         1\n",
      "         660       1.00      1.00      1.00         1\n",
      "         661       0.60      0.86      0.71         7\n",
      "         662       1.00      1.00      1.00         5\n",
      "         663       1.00      0.67      0.80         3\n",
      "         664       0.88      1.00      0.93         7\n",
      "         665       1.00      1.00      1.00         2\n",
      "         666       1.00      1.00      1.00         1\n",
      "         667       0.00      0.00      0.00         2\n",
      "         668       0.71      0.71      0.71         7\n",
      "         669       0.57      1.00      0.73         4\n",
      "         670       1.00      1.00      1.00         3\n",
      "         671       1.00      0.67      0.80         3\n",
      "         672       0.00      0.00      0.00         2\n",
      "         673       1.00      0.80      0.89         5\n",
      "         674       0.62      1.00      0.77         5\n",
      "         675       1.00      0.67      0.80         3\n",
      "         676       0.00      0.00      0.00         4\n",
      "         677       0.50      1.00      0.67         1\n",
      "         678       1.00      1.00      1.00         2\n",
      "         679       1.00      1.00      1.00         4\n",
      "         680       0.75      1.00      0.86         3\n",
      "         681       1.00      0.71      0.83         7\n",
      "         682       1.00      0.40      0.57         5\n",
      "         683       1.00      0.50      0.67         4\n",
      "         684       1.00      1.00      1.00         4\n",
      "         685       0.50      0.50      0.50         2\n",
      "         686       0.67      1.00      0.80         2\n",
      "         687       1.00      1.00      1.00         2\n",
      "         688       1.00      1.00      1.00         2\n",
      "         689       0.67      1.00      0.80         2\n",
      "         690       1.00      0.33      0.50         3\n",
      "         691       1.00      1.00      1.00         3\n",
      "         692       0.00      0.00      0.00         3\n",
      "         693       0.67      1.00      0.80         2\n",
      "         694       0.33      0.67      0.44         3\n",
      "         695       0.50      1.00      0.67         3\n",
      "         696       0.67      0.67      0.67         3\n",
      "         697       1.00      1.00      1.00         1\n",
      "         698       0.85      0.92      0.88        12\n",
      "         699       0.62      1.00      0.77         5\n",
      "         700       1.00      1.00      1.00         1\n",
      "         701       0.67      0.40      0.50         5\n",
      "         702       0.00      0.00      0.00         1\n",
      "         703       0.00      0.00      0.00         1\n",
      "         704       0.00      0.00      0.00         1\n",
      "         705       0.50      0.33      0.40         3\n",
      "         706       0.50      1.00      0.67         1\n",
      "         707       1.00      1.00      1.00         1\n",
      "         708       1.00      0.25      0.40         4\n",
      "         709       0.00      0.00      0.00         0\n",
      "         710       1.00      0.50      0.67         2\n",
      "         711       1.00      1.00      1.00         2\n",
      "         712       0.00      0.00      0.00         1\n",
      "         713       1.00      0.50      0.67         6\n",
      "         714       1.00      0.83      0.91         6\n",
      "         715       1.00      1.00      1.00         3\n",
      "         716       0.67      0.40      0.50         5\n",
      "         717       1.00      0.33      0.50         3\n",
      "         718       0.00      0.00      0.00         0\n",
      "         719       0.75      1.00      0.86         3\n",
      "         720       1.00      1.00      1.00         2\n",
      "         721       1.00      0.33      0.50         3\n",
      "         722       0.50      1.00      0.67         2\n",
      "         723       0.88      1.00      0.93         7\n",
      "         725       0.67      1.00      0.80         2\n",
      "         726       0.50      1.00      0.67         1\n",
      "         727       0.75      1.00      0.86         3\n",
      "         728       0.86      1.00      0.92         6\n",
      "         729       0.80      1.00      0.89         4\n",
      "         730       0.50      1.00      0.67         4\n",
      "         732       1.00      1.00      1.00         1\n",
      "         733       0.80      0.80      0.80         5\n",
      "         734       0.80      1.00      0.89         4\n",
      "         735       0.57      0.80      0.67         5\n",
      "         736       0.00      0.00      0.00         1\n",
      "         737       1.00      0.83      0.91         6\n",
      "         738       0.14      1.00      0.25         1\n",
      "         739       0.67      1.00      0.80         2\n",
      "         740       1.00      0.50      0.67         2\n",
      "         741       0.50      0.20      0.29         5\n",
      "         742       0.57      0.80      0.67         5\n",
      "         743       1.00      0.67      0.80         3\n",
      "         744       0.20      0.33      0.25         3\n",
      "         746       0.50      0.50      0.50         2\n",
      "         747       0.60      1.00      0.75         3\n",
      "         748       0.80      1.00      0.89         4\n",
      "         749       0.67      0.80      0.73         5\n",
      "         750       1.00      1.00      1.00         2\n",
      "         751       1.00      1.00      1.00         3\n",
      "         752       0.88      0.88      0.88         8\n",
      "         754       1.00      1.00      1.00         2\n",
      "         755       0.00      0.00      0.00         2\n",
      "         756       0.00      0.00      0.00         1\n",
      "         757       1.00      1.00      1.00         2\n",
      "         758       1.00      1.00      1.00         2\n",
      "         759       0.80      1.00      0.89         4\n",
      "         760       1.00      1.00      1.00         3\n",
      "         761       0.83      1.00      0.91         5\n",
      "         762       0.60      0.75      0.67         4\n",
      "         763       0.60      1.00      0.75         3\n",
      "         764       1.00      0.50      0.67         2\n",
      "         765       0.20      1.00      0.33         1\n",
      "         766       1.00      1.00      1.00         5\n",
      "         767       1.00      1.00      1.00         2\n",
      "         768       0.43      1.00      0.60         3\n",
      "         769       0.43      1.00      0.60         3\n",
      "         770       1.00      0.67      0.80         6\n",
      "         771       0.00      0.00      0.00         0\n",
      "         773       1.00      1.00      1.00         2\n",
      "         774       1.00      1.00      1.00         1\n",
      "         775       0.00      0.00      0.00         1\n",
      "         776       1.00      1.00      1.00         3\n",
      "         777       1.00      1.00      1.00         2\n",
      "         778       0.00      0.00      0.00         1\n",
      "         779       1.00      1.00      1.00         2\n",
      "         780       0.00      0.00      0.00         1\n",
      "         781       1.00      1.00      1.00         2\n",
      "         782       1.00      1.00      1.00         2\n",
      "         783       0.56      1.00      0.71         5\n",
      "         784       0.80      0.80      0.80         5\n",
      "         785       1.00      1.00      1.00         2\n",
      "         786       0.00      0.00      0.00         1\n",
      "         787       1.00      1.00      1.00         1\n",
      "         788       0.50      1.00      0.67         1\n",
      "         789       1.00      1.00      1.00         2\n",
      "         790       0.86      0.75      0.80         8\n",
      "         791       1.00      0.25      0.40         4\n",
      "         792       1.00      0.60      0.75         5\n",
      "         793       0.67      0.50      0.57         4\n",
      "         794       1.00      0.50      0.67         6\n",
      "         795       1.00      1.00      1.00         2\n",
      "         796       0.75      0.60      0.67         5\n",
      "         797       0.40      0.40      0.40         5\n",
      "         798       1.00      0.83      0.91         6\n",
      "         799       1.00      0.75      0.86         4\n",
      "         800       0.50      1.00      0.67         1\n",
      "         801       0.00      0.00      0.00         1\n",
      "         802       1.00      0.50      0.67         4\n",
      "         803       0.33      0.33      0.33         3\n",
      "         804       1.00      1.00      1.00         2\n",
      "         806       0.00      0.00      0.00         1\n",
      "         807       0.80      1.00      0.89         4\n",
      "         808       0.00      0.00      0.00         1\n",
      "         809       0.00      0.00      0.00         0\n",
      "         810       0.80      1.00      0.89         4\n",
      "         811       0.50      0.50      0.50         2\n",
      "         812       1.00      1.00      1.00         2\n",
      "         813       1.00      0.50      0.67         2\n",
      "         814       0.00      0.00      0.00         1\n",
      "         815       1.00      0.20      0.33         5\n",
      "         816       0.00      0.00      0.00         2\n",
      "         817       1.00      0.75      0.86         4\n",
      "         818       0.75      1.00      0.86         3\n",
      "         819       0.33      0.50      0.40         2\n",
      "         820       0.67      1.00      0.80         2\n",
      "         821       0.00      0.00      0.00         1\n",
      "         822       1.00      0.50      0.67         2\n",
      "         823       0.50      1.00      0.67         1\n",
      "         824       0.50      1.00      0.67         1\n",
      "         825       0.00      0.00      0.00         2\n",
      "         827       0.75      0.60      0.67         5\n",
      "         828       1.00      0.67      0.80         3\n",
      "         829       0.93      0.97      0.95        39\n",
      "         831       1.00      1.00      1.00         6\n",
      "         832       0.00      0.00      0.00         0\n",
      "         833       0.67      0.33      0.44         6\n",
      "         834       1.00      1.00      1.00         3\n",
      "         835       0.50      1.00      0.67         1\n",
      "         836       1.00      1.00      1.00         3\n",
      "         837       0.83      0.83      0.83         6\n",
      "         838       1.00      0.67      0.80         3\n",
      "         839       1.00      1.00      1.00         3\n",
      "         840       1.00      1.00      1.00         4\n",
      "         841       0.78      0.88      0.82         8\n",
      "         842       1.00      1.00      1.00         1\n",
      "         843       0.67      1.00      0.80         2\n",
      "         844       1.00      1.00      1.00         1\n",
      "         845       1.00      1.00      1.00         6\n",
      "         847       1.00      0.50      0.67         2\n",
      "         848       0.89      0.89      0.89         9\n",
      "         849       0.75      0.75      0.75         4\n",
      "         850       1.00      0.94      0.97        17\n",
      "         851       0.75      1.00      0.86         3\n",
      "         852       0.00      0.00      0.00         0\n",
      "         853       1.00      0.50      0.67         6\n",
      "         854       0.75      1.00      0.86         3\n",
      "         855       1.00      1.00      1.00         2\n",
      "         856       1.00      0.75      0.86         4\n",
      "         857       1.00      0.83      0.91         6\n",
      "         858       1.00      0.83      0.91         6\n",
      "         859       1.00      1.00      1.00         1\n",
      "         860       0.00      0.00      0.00         2\n",
      "         861       1.00      1.00      1.00         1\n",
      "         862       1.00      1.00      1.00         6\n",
      "         863       0.50      1.00      0.67         2\n",
      "         864       0.67      1.00      0.80         2\n",
      "         865       1.00      0.60      0.75         5\n",
      "         866       0.50      1.00      0.67         1\n",
      "         867       1.00      1.00      1.00         4\n",
      "         868       0.60      0.75      0.67         4\n",
      "         869       1.00      0.67      0.80         3\n",
      "         870       1.00      1.00      1.00         3\n",
      "         871       0.67      0.67      0.67         3\n",
      "         872       1.00      0.33      0.50         3\n",
      "         873       1.00      0.50      0.67         4\n",
      "         874       0.73      1.00      0.84         8\n",
      "         875       1.00      0.67      0.80         3\n",
      "         876       0.00      0.00      0.00         2\n",
      "         877       0.71      1.00      0.83         5\n",
      "         878       0.75      0.75      0.75         4\n",
      "         879       1.00      0.67      0.80         6\n",
      "         880       1.00      0.50      0.67         4\n",
      "         882       0.80      0.80      0.80         5\n",
      "         883       1.00      0.75      0.86         4\n",
      "         885       1.00      1.00      1.00         5\n",
      "         886       1.00      1.00      1.00         1\n",
      "         887       0.75      1.00      0.86         3\n",
      "         888       1.00      0.40      0.57         5\n",
      "         889       0.00      0.00      0.00         0\n",
      "         890       0.00      0.00      0.00         1\n",
      "         891       1.00      1.00      1.00         1\n",
      "         892       1.00      1.00      1.00         1\n",
      "         893       0.50      0.75      0.60         4\n",
      "         894       1.00      1.00      1.00         2\n",
      "         895       0.00      0.00      0.00         1\n",
      "         896       0.67      1.00      0.80         4\n",
      "         897       0.75      1.00      0.86         3\n",
      "         898       0.00      0.00      0.00         1\n",
      "         899       0.33      1.00      0.50         2\n",
      "         900       1.00      0.75      0.86         4\n",
      "         901       1.00      0.67      0.80         3\n",
      "         902       0.67      1.00      0.80         2\n",
      "         903       1.00      0.40      0.57         5\n",
      "         904       0.00      0.00      0.00         1\n",
      "\n",
      "    accuracy                           0.75      2778\n",
      "   macro avg       0.72      0.71      0.68      2778\n",
      "weighted avg       0.80      0.75      0.74      2778\n",
      "\n"
     ]
    },
    {
     "name": "stderr",
     "output_type": "stream",
     "text": [
      "c:\\Users\\valen\\AppData\\Local\\Programs\\Python\\Python310\\lib\\site-packages\\sklearn\\metrics\\_classification.py:1334: UndefinedMetricWarning:\n",
      "\n",
      "Precision and F-score are ill-defined and being set to 0.0 in labels with no predicted samples. Use `zero_division` parameter to control this behavior.\n",
      "\n",
      "c:\\Users\\valen\\AppData\\Local\\Programs\\Python\\Python310\\lib\\site-packages\\sklearn\\metrics\\_classification.py:1334: UndefinedMetricWarning:\n",
      "\n",
      "Recall and F-score are ill-defined and being set to 0.0 in labels with no true samples. Use `zero_division` parameter to control this behavior.\n",
      "\n",
      "c:\\Users\\valen\\AppData\\Local\\Programs\\Python\\Python310\\lib\\site-packages\\sklearn\\metrics\\_classification.py:1334: UndefinedMetricWarning:\n",
      "\n",
      "Precision and F-score are ill-defined and being set to 0.0 in labels with no predicted samples. Use `zero_division` parameter to control this behavior.\n",
      "\n",
      "c:\\Users\\valen\\AppData\\Local\\Programs\\Python\\Python310\\lib\\site-packages\\sklearn\\metrics\\_classification.py:1334: UndefinedMetricWarning:\n",
      "\n",
      "Recall and F-score are ill-defined and being set to 0.0 in labels with no true samples. Use `zero_division` parameter to control this behavior.\n",
      "\n",
      "c:\\Users\\valen\\AppData\\Local\\Programs\\Python\\Python310\\lib\\site-packages\\sklearn\\metrics\\_classification.py:1334: UndefinedMetricWarning:\n",
      "\n",
      "Precision and F-score are ill-defined and being set to 0.0 in labels with no predicted samples. Use `zero_division` parameter to control this behavior.\n",
      "\n",
      "c:\\Users\\valen\\AppData\\Local\\Programs\\Python\\Python310\\lib\\site-packages\\sklearn\\metrics\\_classification.py:1334: UndefinedMetricWarning:\n",
      "\n",
      "Recall and F-score are ill-defined and being set to 0.0 in labels with no true samples. Use `zero_division` parameter to control this behavior.\n",
      "\n"
     ]
    }
   ],
   "source": [
    "from sklearn.metrics import classification_report\n",
    "print(\"Classification report for EfficientNetB4: \")\n",
    "print(classification_report(y_test, y_pred_eff_))"
   ]
  },
  {
   "cell_type": "code",
   "execution_count": 43,
   "metadata": {},
   "outputs": [
    {
     "name": "stdout",
     "output_type": "stream",
     "text": [
      "Classification report for CNN: \n",
      "              precision    recall  f1-score   support\n",
      "\n",
      "           0       0.21      0.75      0.33         4\n",
      "           1       1.00      0.20      0.33         5\n",
      "           2       0.14      0.20      0.17         5\n",
      "           3       0.50      0.33      0.40         3\n",
      "           4       1.00      0.25      0.40         4\n",
      "           5       0.25      0.50      0.33         2\n",
      "           6       0.25      0.33      0.29         3\n",
      "           7       0.00      0.00      0.00         5\n",
      "           8       0.80      0.57      0.67         7\n",
      "           9       0.96      0.55      0.70        49\n",
      "          10       0.00      0.00      0.00         1\n",
      "          11       0.25      0.38      0.30         8\n",
      "          12       0.00      0.00      0.00         1\n",
      "          13       0.67      1.00      0.80         2\n",
      "          14       0.00      0.00      0.00         2\n",
      "          15       0.43      1.00      0.60         6\n",
      "          16       0.30      0.75      0.43         4\n",
      "          17       0.00      0.00      0.00         1\n",
      "          18       0.00      0.00      0.00         2\n",
      "          19       1.00      0.67      0.80         3\n",
      "          20       0.00      0.00      0.00         1\n",
      "          21       0.17      0.33      0.22         3\n",
      "          22       0.28      1.00      0.44        24\n",
      "          23       0.00      0.00      0.00         3\n",
      "          24       0.00      0.00      0.00         0\n",
      "          25       0.00      0.00      0.00         0\n",
      "          26       0.50      1.00      0.67         1\n",
      "          27       0.00      0.00      0.00         2\n",
      "          28       1.00      0.67      0.80         3\n",
      "          30       0.00      0.00      0.00         2\n",
      "          31       0.00      0.00      0.00         1\n",
      "          32       0.27      1.00      0.42         4\n",
      "          33       0.33      0.25      0.29         4\n",
      "          34       0.17      0.50      0.25         2\n",
      "          35       0.00      0.00      0.00         1\n",
      "          36       0.00      0.00      0.00         2\n",
      "          37       0.00      0.00      0.00         6\n",
      "          38       0.60      1.00      0.75         3\n",
      "          39       0.00      0.00      0.00         3\n",
      "          40       0.00      0.00      0.00         2\n",
      "          41       1.00      0.33      0.50         3\n",
      "          42       0.50      1.00      0.67         2\n",
      "          44       0.00      0.00      0.00         4\n",
      "          45       0.00      0.00      0.00         1\n",
      "          47       0.00      0.00      0.00         3\n",
      "          48       0.00      0.00      0.00         2\n",
      "          49       0.67      1.00      0.80         2\n",
      "          50       0.67      0.67      0.67         3\n",
      "          51       0.00      0.00      0.00         8\n",
      "          52       0.04      1.00      0.08         1\n",
      "          53       0.00      0.00      0.00         3\n",
      "          54       0.00      0.00      0.00         2\n",
      "          55       1.00      0.50      0.67         2\n",
      "          57       1.00      1.00      1.00         2\n",
      "          58       0.67      1.00      0.80         2\n",
      "          59       0.00      0.00      0.00         2\n",
      "          60       0.00      0.00      0.00         5\n",
      "          61       1.00      1.00      1.00         1\n",
      "          62       1.00      1.00      1.00         1\n",
      "          63       0.50      0.33      0.40         3\n",
      "          64       0.67      0.29      0.40         7\n",
      "          65       0.20      0.25      0.22         4\n",
      "          66       0.00      0.00      0.00         1\n",
      "          67       0.50      1.00      0.67         2\n",
      "          68       0.25      0.33      0.29         3\n",
      "          69       1.00      0.50      0.67         2\n",
      "          71       0.00      0.00      0.00         2\n",
      "          72       1.00      0.25      0.40         4\n",
      "          74       0.00      0.00      0.00         1\n",
      "          75       0.00      0.00      0.00         3\n",
      "          76       0.50      0.50      0.50         2\n",
      "          77       0.00      0.00      0.00         0\n",
      "          78       1.00      0.67      0.80         3\n",
      "          79       0.00      0.00      0.00         2\n",
      "          80       0.00      0.00      0.00         2\n",
      "          81       0.00      0.00      0.00         3\n",
      "          82       0.00      0.00      0.00         4\n",
      "          83       0.00      0.00      0.00         5\n",
      "          84       0.00      0.00      0.00         4\n",
      "          86       0.33      0.20      0.25         5\n",
      "          87       0.18      1.00      0.30         5\n",
      "          88       0.00      0.00      0.00         1\n",
      "          89       0.00      0.00      0.00         3\n",
      "          90       0.17      0.33      0.22         3\n",
      "          92       1.00      0.43      0.60         7\n",
      "          93       0.00      0.00      0.00         0\n",
      "          94       0.00      0.00      0.00         1\n",
      "          95       1.00      1.00      1.00         3\n",
      "          96       0.50      0.33      0.40         3\n",
      "          97       0.40      0.50      0.44         4\n",
      "          98       0.12      0.33      0.18         3\n",
      "          99       0.00      0.00      0.00         6\n",
      "         100       1.00      0.50      0.67         2\n",
      "         101       0.00      0.00      0.00         2\n",
      "         102       0.33      1.00      0.50         1\n",
      "         103       0.00      0.00      0.00         1\n",
      "         104       0.00      0.00      0.00         2\n",
      "         105       0.00      0.00      0.00         3\n",
      "         106       1.00      0.22      0.36         9\n",
      "         107       0.00      0.00      0.00         1\n",
      "         108       1.00      0.20      0.33         5\n",
      "         109       0.00      0.00      0.00         1\n",
      "         111       0.00      0.00      0.00         3\n",
      "         112       1.00      0.50      0.67         2\n",
      "         113       0.50      0.50      0.50         2\n",
      "         114       1.00      1.00      1.00         1\n",
      "         115       0.00      0.00      0.00         1\n",
      "         116       1.00      0.20      0.33         5\n",
      "         117       0.00      0.00      0.00         5\n",
      "         118       0.00      0.00      0.00         5\n",
      "         119       0.00      0.00      0.00         1\n",
      "         120       0.00      0.00      0.00         2\n",
      "         121       0.00      0.00      0.00         0\n",
      "         122       0.00      0.00      0.00         1\n",
      "         123       0.50      0.25      0.33         4\n",
      "         124       0.00      0.00      0.00         3\n",
      "         125       0.00      0.00      0.00         2\n",
      "         126       1.00      1.00      1.00         1\n",
      "         127       0.45      1.00      0.62         5\n",
      "         128       0.00      0.00      0.00         3\n",
      "         129       1.00      0.25      0.40         4\n",
      "         130       0.00      0.00      0.00         2\n",
      "         131       0.40      0.67      0.50         6\n",
      "         132       1.00      0.50      0.67         2\n",
      "         133       0.00      0.00      0.00         0\n",
      "         134       0.00      0.00      0.00         2\n",
      "         135       0.00      0.00      0.00         6\n",
      "         136       0.00      0.00      0.00         3\n",
      "         137       0.00      0.00      0.00         0\n",
      "         138       1.00      0.67      0.80         3\n",
      "         139       0.00      0.00      0.00         1\n",
      "         140       0.50      0.33      0.40         3\n",
      "         141       1.00      0.40      0.57         5\n",
      "         142       0.00      0.00      0.00         1\n",
      "         143       0.00      0.00      0.00         2\n",
      "         144       1.00      1.00      1.00         1\n",
      "         145       0.00      0.00      0.00         1\n",
      "         146       1.00      0.25      0.40         4\n",
      "         147       0.00      0.00      0.00         2\n",
      "         148       0.00      0.00      0.00         2\n",
      "         149       0.50      1.00      0.67         2\n",
      "         150       0.00      0.00      0.00         1\n",
      "         151       0.00      0.00      0.00         6\n",
      "         152       0.00      0.00      0.00         2\n",
      "         153       1.00      0.50      0.67         2\n",
      "         154       0.00      0.00      0.00         5\n",
      "         155       0.00      0.00      0.00         1\n",
      "         156       0.00      0.00      0.00         8\n",
      "         157       1.00      1.00      1.00         2\n",
      "         159       1.00      0.14      0.25         7\n",
      "         160       0.20      1.00      0.33         2\n",
      "         161       0.00      0.00      0.00         1\n",
      "         162       0.06      1.00      0.11         2\n",
      "         163       0.00      0.00      0.00         0\n",
      "         164       0.00      0.00      0.00         6\n",
      "         165       0.00      0.00      0.00         3\n",
      "         166       0.25      0.25      0.25         4\n",
      "         167       0.00      0.00      0.00         0\n",
      "         168       1.00      0.33      0.50         3\n",
      "         169       0.00      0.00      0.00         1\n",
      "         170       0.00      0.00      0.00         1\n",
      "         171       0.00      0.00      0.00         7\n",
      "         172       0.00      0.00      0.00         2\n",
      "         173       0.25      0.33      0.29         3\n",
      "         174       0.00      0.00      0.00         1\n",
      "         176       0.50      0.75      0.60         8\n",
      "         177       0.05      0.67      0.09         3\n",
      "         178       1.00      0.25      0.40         4\n",
      "         179       0.00      0.00      0.00         2\n",
      "         180       0.00      0.00      0.00         1\n",
      "         181       0.14      1.00      0.25         3\n",
      "         182       0.00      0.00      0.00         3\n",
      "         183       0.00      0.00      0.00         1\n",
      "         184       1.00      0.67      0.80         3\n",
      "         185       0.00      0.00      0.00         2\n",
      "         186       0.00      0.00      0.00         2\n",
      "         187       0.00      0.00      0.00         4\n",
      "         188       0.50      0.14      0.22         7\n",
      "         189       0.00      0.00      0.00         1\n",
      "         190       0.00      0.00      0.00         2\n",
      "         191       0.00      0.00      0.00         2\n",
      "         192       0.00      0.00      0.00         4\n",
      "         193       1.00      0.25      0.40         4\n",
      "         194       0.00      0.00      0.00         3\n",
      "         195       0.67      0.29      0.40         7\n",
      "         196       0.22      0.67      0.33         3\n",
      "         197       0.00      0.00      0.00         2\n",
      "         198       0.00      0.00      0.00         2\n",
      "         199       1.00      0.33      0.50         3\n",
      "         200       0.00      0.00      0.00         2\n",
      "         203       0.75      1.00      0.86         3\n",
      "         204       0.00      0.00      0.00         3\n",
      "         205       0.00      0.00      0.00         5\n",
      "         206       0.00      0.00      0.00         2\n",
      "         207       1.00      0.50      0.67         2\n",
      "         208       0.00      0.00      0.00         2\n",
      "         209       0.00      0.00      0.00         1\n",
      "         210       1.00      0.25      0.40         4\n",
      "         211       0.00      0.00      0.00         6\n",
      "         212       0.00      0.00      0.00         4\n",
      "         213       0.50      0.67      0.57         3\n",
      "         214       0.00      0.00      0.00         1\n",
      "         215       0.00      0.00      0.00         1\n",
      "         216       0.00      0.00      0.00         0\n",
      "         217       0.00      0.00      0.00         2\n",
      "         218       1.00      0.50      0.67         2\n",
      "         219       1.00      0.33      0.50         3\n",
      "         220       0.75      1.00      0.86         3\n",
      "         221       0.00      0.00      0.00         1\n",
      "         222       0.00      0.00      0.00         1\n",
      "         223       0.00      0.00      0.00         5\n",
      "         224       0.00      0.00      0.00         1\n",
      "         225       0.00      0.00      0.00         2\n",
      "         226       0.00      0.00      0.00         2\n",
      "         227       0.25      0.50      0.33         2\n",
      "         228       0.00      0.00      0.00         1\n",
      "         229       0.00      0.00      0.00         5\n",
      "         230       1.00      0.75      0.86         4\n",
      "         231       0.00      0.00      0.00         1\n",
      "         232       0.00      0.00      0.00         0\n",
      "         234       0.00      0.00      0.00         4\n",
      "         235       1.00      1.00      1.00         3\n",
      "         237       0.00      0.00      0.00         2\n",
      "         238       1.00      1.00      1.00         2\n",
      "         239       0.00      0.00      0.00         3\n",
      "         240       0.00      0.00      0.00         1\n",
      "         241       1.00      0.33      0.50         3\n",
      "         242       0.17      0.50      0.25         2\n",
      "         243       0.50      0.67      0.57         3\n",
      "         244       0.31      1.00      0.48         5\n",
      "         245       1.00      0.20      0.33         5\n",
      "         246       0.00      0.00      0.00         1\n",
      "         247       0.00      0.00      0.00         6\n",
      "         248       0.33      0.33      0.33         3\n",
      "         249       1.00      0.25      0.40         4\n",
      "         250       0.00      0.00      0.00         1\n",
      "         251       0.56      0.83      0.67         6\n",
      "         252       0.50      0.33      0.40         3\n",
      "         253       0.00      0.00      0.00         2\n",
      "         254       0.00      0.00      0.00         1\n",
      "         255       1.00      0.33      0.50         3\n",
      "         256       0.07      0.50      0.12         6\n",
      "         257       0.00      0.00      0.00         2\n",
      "         258       0.20      0.20      0.20         5\n",
      "         259       0.00      0.00      0.00         3\n",
      "         260       0.00      0.00      0.00         1\n",
      "         261       0.00      0.00      0.00         2\n",
      "         262       0.00      0.00      0.00         2\n",
      "         263       0.67      1.00      0.80         2\n",
      "         264       1.00      1.00      1.00         4\n",
      "         265       0.00      0.00      0.00         2\n",
      "         266       0.00      0.00      0.00         3\n",
      "         267       0.67      0.67      0.67         3\n",
      "         268       1.00      0.25      0.40         4\n",
      "         269       0.00      0.00      0.00         3\n",
      "         270       1.00      1.00      1.00         1\n",
      "         271       0.00      0.00      0.00         3\n",
      "         272       0.25      0.50      0.33         4\n",
      "         273       0.00      0.00      0.00         1\n",
      "         274       0.00      0.00      0.00         6\n",
      "         275       0.00      0.00      0.00         3\n",
      "         276       0.00      0.00      0.00        10\n",
      "         277       0.50      1.00      0.67         2\n",
      "         278       0.00      0.00      0.00         2\n",
      "         279       1.00      0.50      0.67         6\n",
      "         280       1.00      1.00      1.00         5\n",
      "         281       1.00      0.57      0.73         7\n",
      "         282       0.33      0.33      0.33         3\n",
      "         283       0.00      0.00      0.00         9\n",
      "         284       0.55      1.00      0.71         6\n",
      "         285       1.00      0.33      0.50         6\n",
      "         286       0.00      0.00      0.00         5\n",
      "         287       1.00      0.67      0.80         3\n",
      "         288       0.00      0.00      0.00         1\n",
      "         289       1.00      0.11      0.20         9\n",
      "         290       0.50      0.67      0.57         3\n",
      "         291       0.25      0.12      0.17         8\n",
      "         292       0.60      0.60      0.60         5\n",
      "         293       0.00      0.00      0.00         0\n",
      "         295       0.17      0.50      0.25         4\n",
      "         296       1.00      0.25      0.40         4\n",
      "         297       1.00      0.33      0.50         6\n",
      "         298       1.00      0.33      0.50         3\n",
      "         299       0.40      0.50      0.44         4\n",
      "         300       0.04      0.50      0.07         4\n",
      "         301       0.00      0.00      0.00         3\n",
      "         302       0.75      0.75      0.75         4\n",
      "         303       0.00      0.00      0.00         3\n",
      "         304       1.00      1.00      1.00         1\n",
      "         305       0.00      0.00      0.00         0\n",
      "         306       0.00      0.00      0.00         3\n",
      "         307       0.00      0.00      0.00         4\n",
      "         308       0.00      0.00      0.00         5\n",
      "         310       0.00      0.00      0.00         4\n",
      "         311       1.00      0.50      0.67         4\n",
      "         312       0.75      0.75      0.75         4\n",
      "         314       0.00      0.00      0.00         3\n",
      "         315       0.00      0.00      0.00         1\n",
      "         316       0.00      0.00      0.00         5\n",
      "         318       0.00      0.00      0.00         3\n",
      "         319       0.00      0.00      0.00         3\n",
      "         320       0.00      0.00      0.00         2\n",
      "         321       0.00      0.00      0.00         1\n",
      "         322       0.00      0.00      0.00         1\n",
      "         323       0.00      0.00      0.00         3\n",
      "         324       0.00      0.00      0.00         3\n",
      "         325       0.00      0.00      0.00         4\n",
      "         327       0.67      0.67      0.67         3\n",
      "         328       0.67      0.40      0.50         5\n",
      "         329       0.00      0.00      0.00         1\n",
      "         330       0.50      1.00      0.67         1\n",
      "         331       0.00      0.00      0.00         1\n",
      "         332       0.00      0.00      0.00         4\n",
      "         333       1.00      1.00      1.00         1\n",
      "         334       0.00      0.00      0.00         2\n",
      "         335       0.50      1.00      0.67         1\n",
      "         336       0.00      0.00      0.00         3\n",
      "         337       0.00      0.00      0.00         2\n",
      "         338       0.00      0.00      0.00         1\n",
      "         339       1.00      0.40      0.57         5\n",
      "         340       1.00      1.00      1.00         1\n",
      "         341       1.00      0.33      0.50         3\n",
      "         342       0.00      0.00      0.00         2\n",
      "         343       0.50      0.50      0.50         2\n",
      "         344       0.00      0.00      0.00         1\n",
      "         345       0.00      0.00      0.00         2\n",
      "         346       0.00      0.00      0.00         5\n",
      "         347       0.00      0.00      0.00         3\n",
      "         348       0.00      0.00      0.00         2\n",
      "         349       0.00      0.00      0.00         1\n",
      "         350       0.00      0.00      0.00         3\n",
      "         351       0.33      0.75      0.46         4\n",
      "         352       1.00      0.20      0.33         5\n",
      "         353       1.00      0.33      0.50         3\n",
      "         354       0.00      0.00      0.00         3\n",
      "         355       0.00      0.00      0.00         1\n",
      "         356       0.00      0.00      0.00         2\n",
      "         357       0.00      0.00      0.00         4\n",
      "         358       0.50      1.00      0.67         2\n",
      "         359       0.33      0.20      0.25         5\n",
      "         360       0.11      0.50      0.18         6\n",
      "         361       0.00      0.00      0.00         3\n",
      "         362       0.00      0.00      0.00         4\n",
      "         363       1.00      1.00      1.00         4\n",
      "         364       0.57      0.80      0.67         5\n",
      "         365       0.00      0.00      0.00         3\n",
      "         366       1.00      0.50      0.67         2\n",
      "         367       0.00      0.00      0.00         2\n",
      "         369       0.00      0.00      0.00         2\n",
      "         370       0.25      0.50      0.33         4\n",
      "         371       0.20      1.00      0.33         1\n",
      "         372       1.00      0.33      0.50         3\n",
      "         373       0.75      0.43      0.55         7\n",
      "         374       1.00      0.50      0.67         2\n",
      "         375       0.00      0.00      0.00         0\n",
      "         376       1.00      0.14      0.25         7\n",
      "         377       0.50      0.25      0.33         4\n",
      "         378       0.17      0.67      0.27         3\n",
      "         379       1.00      0.20      0.33         5\n",
      "         380       0.40      1.00      0.57         2\n",
      "         381       0.57      1.00      0.73         4\n",
      "         382       1.00      0.67      0.80         3\n",
      "         383       0.20      0.33      0.25         3\n",
      "         384       0.40      0.50      0.44         4\n",
      "         385       0.00      0.00      0.00         5\n",
      "         386       1.00      0.40      0.57         5\n",
      "         387       0.00      0.00      0.00         4\n",
      "         388       0.00      0.00      0.00         1\n",
      "         389       0.00      0.00      0.00         4\n",
      "         390       0.33      1.00      0.50         1\n",
      "         391       0.00      0.00      0.00         5\n",
      "         392       0.00      0.00      0.00         7\n",
      "         393       1.00      0.80      0.89         5\n",
      "         394       0.33      0.25      0.29         4\n",
      "         396       0.00      0.00      0.00         2\n",
      "         397       0.00      0.00      0.00         1\n",
      "         398       0.00      0.00      0.00         3\n",
      "         399       1.00      0.20      0.33         5\n",
      "         400       0.33      0.33      0.33         3\n",
      "         402       0.00      0.00      0.00         5\n",
      "         403       1.00      0.25      0.40         4\n",
      "         404       1.00      1.00      1.00         1\n",
      "         406       1.00      0.50      0.67         2\n",
      "         407       0.00      0.00      0.00         1\n",
      "         408       0.50      0.60      0.55         5\n",
      "         409       0.07      0.17      0.10         6\n",
      "         410       0.07      0.67      0.12         3\n",
      "         411       0.00      0.00      0.00         4\n",
      "         412       0.00      0.00      0.00         5\n",
      "         413       0.00      0.00      0.00         4\n",
      "         414       0.00      0.00      0.00         4\n",
      "         415       1.00      0.50      0.67         2\n",
      "         416       1.00      0.33      0.50         3\n",
      "         417       0.00      0.00      0.00         2\n",
      "         418       0.00      0.00      0.00         6\n",
      "         419       0.29      0.50      0.36         4\n",
      "         420       1.00      0.20      0.33         5\n",
      "         421       0.50      0.33      0.40         3\n",
      "         422       0.00      0.00      0.00         2\n",
      "         423       0.00      0.00      0.00         2\n",
      "         424       1.00      0.50      0.67         4\n",
      "         425       0.00      0.00      0.00         4\n",
      "         426       0.17      0.25      0.20         4\n",
      "         427       0.00      0.00      0.00         1\n",
      "         428       0.00      0.00      0.00         2\n",
      "         429       0.00      0.00      0.00         7\n",
      "         430       0.00      0.00      0.00         2\n",
      "         431       0.00      0.00      0.00         2\n",
      "         432       0.00      0.00      0.00         2\n",
      "         433       1.00      0.67      0.80         3\n",
      "         434       0.50      0.67      0.57         3\n",
      "         435       0.00      0.00      0.00         1\n",
      "         436       1.00      0.17      0.29         6\n",
      "         437       1.00      0.14      0.25         7\n",
      "         438       0.75      1.00      0.86         3\n",
      "         439       0.03      0.25      0.06         4\n",
      "         440       0.00      0.00      0.00         2\n",
      "         441       1.00      0.67      0.80         3\n",
      "         442       0.00      0.00      0.00         1\n",
      "         443       1.00      0.25      0.40         4\n",
      "         444       0.00      0.00      0.00         4\n",
      "         445       0.00      0.00      0.00         6\n",
      "         446       0.00      0.00      0.00         2\n",
      "         447       0.00      0.00      0.00         5\n",
      "         448       1.00      1.00      1.00         1\n",
      "         449       0.75      0.50      0.60         6\n",
      "         450       0.60      0.50      0.55         6\n",
      "         451       0.80      0.67      0.73         6\n",
      "         452       0.00      0.00      0.00         3\n",
      "         453       0.00      0.00      0.00         0\n",
      "         454       0.08      0.40      0.13         5\n",
      "         455       0.25      0.50      0.33         2\n",
      "         456       0.00      0.00      0.00         3\n",
      "         457       1.00      0.17      0.29         6\n",
      "         458       1.00      0.33      0.50         6\n",
      "         459       0.00      0.00      0.00         3\n",
      "         460       0.00      0.00      0.00         2\n",
      "         461       0.00      0.00      0.00         0\n",
      "         462       0.00      0.00      0.00         3\n",
      "         463       0.00      0.00      0.00         5\n",
      "         465       0.31      1.00      0.47         4\n",
      "         466       0.00      0.00      0.00         1\n",
      "         467       1.00      0.67      0.80         3\n",
      "         468       0.00      0.00      0.00         3\n",
      "         469       1.00      0.50      0.67         2\n",
      "         470       0.00      0.00      0.00         1\n",
      "         471       0.00      0.00      0.00         2\n",
      "         472       0.00      0.00      0.00         4\n",
      "         473       0.00      0.00      0.00         2\n",
      "         475       0.00      0.00      0.00         2\n",
      "         476       0.50      0.50      0.50         2\n",
      "         477       0.00      0.00      0.00         2\n",
      "         478       0.67      0.40      0.50         5\n",
      "         479       0.20      0.75      0.32         4\n",
      "         480       0.00      0.00      0.00         2\n",
      "         482       0.00      0.00      0.00         4\n",
      "         483       0.00      0.00      0.00         3\n",
      "         484       0.00      0.00      0.00         4\n",
      "         485       0.33      0.20      0.25         5\n",
      "         486       1.00      0.50      0.67         6\n",
      "         487       1.00      0.60      0.75         5\n",
      "         488       1.00      0.80      0.89         5\n",
      "         489       0.00      0.00      0.00         3\n",
      "         490       0.00      0.00      0.00         4\n",
      "         491       0.23      0.60      0.33         5\n",
      "         492       0.00      0.00      0.00         3\n",
      "         493       0.00      0.00      0.00         5\n",
      "         494       0.00      0.00      0.00         4\n",
      "         496       0.43      0.60      0.50         5\n",
      "         497       0.33      1.00      0.50         1\n",
      "         498       0.00      0.00      0.00         6\n",
      "         500       0.10      0.25      0.14         4\n",
      "         501       0.00      0.00      0.00         5\n",
      "         502       1.00      0.50      0.67         2\n",
      "         503       0.33      1.00      0.50         1\n",
      "         504       0.75      1.00      0.86         3\n",
      "         505       0.50      0.25      0.33         4\n",
      "         506       0.00      0.00      0.00         5\n",
      "         507       0.00      0.00      0.00         2\n",
      "         508       0.00      0.00      0.00         0\n",
      "         509       0.00      0.00      0.00         1\n",
      "         510       0.88      1.00      0.93         7\n",
      "         511       1.00      0.60      0.75         5\n",
      "         513       0.00      0.00      0.00         1\n",
      "         514       0.50      0.50      0.50         2\n",
      "         516       0.00      0.00      0.00         5\n",
      "         518       0.33      0.33      0.33         3\n",
      "         519       0.00      0.00      0.00         3\n",
      "         520       0.00      0.00      0.00         1\n",
      "         521       0.00      0.00      0.00         2\n",
      "         522       0.00      0.00      0.00         2\n",
      "         523       0.00      0.00      0.00         6\n",
      "         524       0.00      0.00      0.00         1\n",
      "         525       1.00      0.50      0.67         2\n",
      "         526       1.00      0.50      0.67         2\n",
      "         527       0.00      0.00      0.00         2\n",
      "         528       0.00      0.00      0.00         2\n",
      "         529       1.00      0.67      0.80         3\n",
      "         530       0.00      0.00      0.00         2\n",
      "         531       0.00      0.00      0.00         0\n",
      "         532       0.50      0.33      0.40         3\n",
      "         533       0.11      0.40      0.17         5\n",
      "         534       0.00      0.00      0.00         3\n",
      "         535       0.00      0.00      0.00         2\n",
      "         536       0.00      0.00      0.00         0\n",
      "         537       0.00      0.00      0.00         2\n",
      "         538       0.00      0.00      0.00         1\n",
      "         539       0.17      0.17      0.17         6\n",
      "         540       0.12      0.25      0.17         4\n",
      "         541       0.00      0.00      0.00         2\n",
      "         542       0.00      0.00      0.00         6\n",
      "         543       1.00      0.25      0.40         4\n",
      "         544       1.00      0.40      0.57         5\n",
      "         545       0.50      0.25      0.33         4\n",
      "         546       0.67      0.67      0.67         9\n",
      "         548       1.00      1.00      1.00         1\n",
      "         549       0.00      0.00      0.00         5\n",
      "         550       0.00      0.00      0.00         2\n",
      "         552       0.33      0.50      0.40         2\n",
      "         553       0.08      1.00      0.15         1\n",
      "         554       0.00      0.00      0.00         1\n",
      "         555       1.00      0.33      0.50         3\n",
      "         556       1.00      0.25      0.40         4\n",
      "         557       0.00      0.00      0.00         1\n",
      "         558       0.50      0.33      0.40         3\n",
      "         559       0.33      0.50      0.40         2\n",
      "         560       0.00      0.00      0.00         2\n",
      "         561       0.00      0.00      0.00         2\n",
      "         562       0.00      0.00      0.00         2\n",
      "         563       0.00      0.00      0.00         2\n",
      "         564       0.00      0.00      0.00         2\n",
      "         565       0.00      0.00      0.00         3\n",
      "         566       0.00      0.00      0.00         1\n",
      "         567       0.00      0.00      0.00         1\n",
      "         568       0.08      1.00      0.14         2\n",
      "         569       0.00      0.00      0.00         3\n",
      "         570       0.50      1.00      0.67         1\n",
      "         572       0.00      0.00      0.00         0\n",
      "         573       0.00      0.00      0.00         3\n",
      "         574       1.00      0.14      0.25         7\n",
      "         575       0.13      0.50      0.21         4\n",
      "         576       0.00      0.00      0.00         7\n",
      "         577       0.00      0.00      0.00         9\n",
      "         579       0.67      1.00      0.80         2\n",
      "         580       0.52      0.48      0.50        25\n",
      "         582       0.50      0.50      0.50         6\n",
      "         584       1.00      0.17      0.29         6\n",
      "         585       0.25      0.71      0.37         7\n",
      "         586       0.00      0.00      0.00         3\n",
      "         587       0.00      0.00      0.00         3\n",
      "         588       0.00      0.00      0.00         1\n",
      "         589       0.75      0.50      0.60         6\n",
      "         590       0.00      0.00      0.00         4\n",
      "         591       0.00      0.00      0.00         4\n",
      "         592       0.00      0.00      0.00         3\n",
      "         594       0.50      0.33      0.40         3\n",
      "         595       0.00      0.00      0.00         3\n",
      "         596       0.00      0.00      0.00         2\n",
      "         597       0.33      0.67      0.44         3\n",
      "         598       0.00      0.00      0.00         2\n",
      "         599       1.00      0.67      0.80         3\n",
      "         600       0.00      0.00      0.00         0\n",
      "         601       0.50      0.17      0.25         6\n",
      "         602       1.00      1.00      1.00         5\n",
      "         603       0.00      0.00      0.00         3\n",
      "         604       0.00      0.00      0.00         5\n",
      "         605       1.00      0.50      0.67         4\n",
      "         606       1.00      0.50      0.67         4\n",
      "         607       1.00      0.25      0.40         4\n",
      "         608       0.00      0.00      0.00         4\n",
      "         609       1.00      1.00      1.00         1\n",
      "         611       0.17      0.25      0.20         4\n",
      "         612       0.00      0.00      0.00         2\n",
      "         614       0.00      0.00      0.00         3\n",
      "         615       0.00      0.00      0.00         0\n",
      "         616       0.29      0.67      0.40        15\n",
      "         617       0.43      0.75      0.55         4\n",
      "         618       1.00      0.67      0.80         3\n",
      "         619       0.00      0.00      0.00         3\n",
      "         620       0.33      0.25      0.29         4\n",
      "         621       0.00      0.00      0.00         5\n",
      "         622       0.00      0.00      0.00         9\n",
      "         623       0.00      0.00      0.00         2\n",
      "         624       0.62      0.71      0.67         7\n",
      "         625       0.00      0.00      0.00         1\n",
      "         627       1.00      1.00      1.00         1\n",
      "         628       0.00      0.00      0.00         4\n",
      "         629       0.30      1.00      0.46         3\n",
      "         630       0.00      0.00      0.00         5\n",
      "         631       0.00      0.00      0.00         4\n",
      "         632       0.02      1.00      0.04         1\n",
      "         633       0.00      0.00      0.00         2\n",
      "         634       0.00      0.00      0.00         1\n",
      "         635       0.33      0.50      0.40         4\n",
      "         636       1.00      1.00      1.00         1\n",
      "         637       0.00      0.00      0.00         0\n",
      "         638       0.00      0.00      0.00         1\n",
      "         639       0.00      0.00      0.00         3\n",
      "         640       0.00      0.00      0.00         0\n",
      "         641       1.00      0.25      0.40         4\n",
      "         642       0.00      0.00      0.00         2\n",
      "         643       0.00      0.00      0.00         1\n",
      "         644       0.00      0.00      0.00         5\n",
      "         645       0.40      0.40      0.40         5\n",
      "         646       1.00      0.12      0.22         8\n",
      "         647       0.00      0.00      0.00         1\n",
      "         648       0.00      0.00      0.00         3\n",
      "         649       0.00      0.00      0.00         1\n",
      "         650       0.00      0.00      0.00         2\n",
      "         651       1.00      0.60      0.75         5\n",
      "         653       0.00      0.00      0.00         1\n",
      "         654       0.00      0.00      0.00         1\n",
      "         655       0.00      0.00      0.00         2\n",
      "         656       0.00      0.00      0.00         3\n",
      "         657       0.00      0.00      0.00         7\n",
      "         658       1.00      0.67      0.80         3\n",
      "         659       0.00      0.00      0.00         1\n",
      "         660       0.12      1.00      0.22         1\n",
      "         661       1.00      0.57      0.73         7\n",
      "         662       0.00      0.00      0.00         5\n",
      "         663       0.33      0.67      0.44         3\n",
      "         664       1.00      0.43      0.60         7\n",
      "         665       0.00      0.00      0.00         2\n",
      "         666       0.33      1.00      0.50         1\n",
      "         667       0.00      0.00      0.00         2\n",
      "         668       0.00      0.00      0.00         7\n",
      "         669       0.12      1.00      0.22         4\n",
      "         670       0.30      1.00      0.46         3\n",
      "         671       0.04      0.67      0.07         3\n",
      "         672       0.00      0.00      0.00         2\n",
      "         673       0.00      0.00      0.00         5\n",
      "         674       1.00      0.20      0.33         5\n",
      "         675       0.67      0.67      0.67         3\n",
      "         676       0.00      0.00      0.00         4\n",
      "         677       1.00      1.00      1.00         1\n",
      "         678       0.00      0.00      0.00         2\n",
      "         679       1.00      0.25      0.40         4\n",
      "         680       0.00      0.00      0.00         3\n",
      "         681       0.33      0.14      0.20         7\n",
      "         682       0.00      0.00      0.00         5\n",
      "         683       0.08      0.25      0.12         4\n",
      "         684       1.00      0.50      0.67         4\n",
      "         685       0.00      0.00      0.00         2\n",
      "         686       0.00      0.00      0.00         2\n",
      "         687       0.00      0.00      0.00         2\n",
      "         688       0.67      1.00      0.80         2\n",
      "         689       0.00      0.00      0.00         2\n",
      "         690       1.00      0.33      0.50         3\n",
      "         691       0.00      0.00      0.00         3\n",
      "         692       1.00      0.33      0.50         3\n",
      "         693       0.00      0.00      0.00         2\n",
      "         694       0.00      0.00      0.00         3\n",
      "         695       0.60      1.00      0.75         3\n",
      "         696       0.00      0.00      0.00         3\n",
      "         697       0.00      0.00      0.00         1\n",
      "         698       0.00      0.00      0.00        12\n",
      "         699       0.71      1.00      0.83         5\n",
      "         700       0.00      0.00      0.00         1\n",
      "         701       1.00      0.20      0.33         5\n",
      "         702       0.00      0.00      0.00         1\n",
      "         703       0.00      0.00      0.00         1\n",
      "         704       0.00      0.00      0.00         1\n",
      "         705       0.00      0.00      0.00         3\n",
      "         706       0.00      0.00      0.00         1\n",
      "         707       0.00      0.00      0.00         1\n",
      "         708       0.00      0.00      0.00         4\n",
      "         709       0.00      0.00      0.00         0\n",
      "         710       0.00      0.00      0.00         2\n",
      "         711       1.00      0.50      0.67         2\n",
      "         712       0.00      0.00      0.00         1\n",
      "         713       0.67      0.33      0.44         6\n",
      "         714       1.00      0.17      0.29         6\n",
      "         715       0.00      0.00      0.00         3\n",
      "         716       0.33      0.20      0.25         5\n",
      "         717       0.00      0.00      0.00         3\n",
      "         719       0.33      0.33      0.33         3\n",
      "         720       1.00      0.50      0.67         2\n",
      "         721       0.00      0.00      0.00         3\n",
      "         722       0.50      0.50      0.50         2\n",
      "         723       0.67      0.29      0.40         7\n",
      "         725       0.00      0.00      0.00         2\n",
      "         726       0.00      0.00      0.00         1\n",
      "         727       0.50      0.33      0.40         3\n",
      "         728       1.00      0.17      0.29         6\n",
      "         729       0.43      0.75      0.55         4\n",
      "         730       0.00      0.00      0.00         4\n",
      "         732       0.00      0.00      0.00         1\n",
      "         733       0.00      0.00      0.00         5\n",
      "         734       0.20      0.25      0.22         4\n",
      "         735       0.00      0.00      0.00         5\n",
      "         736       0.00      0.00      0.00         1\n",
      "         737       1.00      0.17      0.29         6\n",
      "         738       0.33      1.00      0.50         1\n",
      "         739       1.00      0.50      0.67         2\n",
      "         740       0.00      0.00      0.00         2\n",
      "         741       1.00      0.80      0.89         5\n",
      "         742       0.50      0.20      0.29         5\n",
      "         743       0.00      0.00      0.00         3\n",
      "         744       0.00      0.00      0.00         3\n",
      "         746       0.50      0.50      0.50         2\n",
      "         747       0.00      0.00      0.00         3\n",
      "         748       0.00      0.00      0.00         4\n",
      "         749       0.00      0.00      0.00         5\n",
      "         750       0.33      0.50      0.40         2\n",
      "         751       1.00      0.33      0.50         3\n",
      "         752       0.50      0.62      0.56         8\n",
      "         754       0.67      1.00      0.80         2\n",
      "         755       0.00      0.00      0.00         2\n",
      "         756       0.00      0.00      0.00         1\n",
      "         757       0.00      0.00      0.00         2\n",
      "         758       0.00      0.00      0.00         2\n",
      "         759       0.00      0.00      0.00         4\n",
      "         760       0.33      0.67      0.44         3\n",
      "         761       0.00      0.00      0.00         5\n",
      "         762       1.00      0.50      0.67         4\n",
      "         763       0.00      0.00      0.00         3\n",
      "         764       0.00      0.00      0.00         2\n",
      "         765       1.00      1.00      1.00         1\n",
      "         766       0.80      0.80      0.80         5\n",
      "         767       1.00      0.50      0.67         2\n",
      "         768       0.04      0.33      0.07         3\n",
      "         769       0.00      0.00      0.00         3\n",
      "         770       0.00      0.00      0.00         6\n",
      "         773       0.00      0.00      0.00         2\n",
      "         774       0.00      0.00      0.00         1\n",
      "         775       0.00      0.00      0.00         1\n",
      "         776       1.00      0.67      0.80         3\n",
      "         777       1.00      0.50      0.67         2\n",
      "         778       0.00      0.00      0.00         1\n",
      "         779       0.00      0.00      0.00         2\n",
      "         780       0.00      0.00      0.00         1\n",
      "         781       0.00      0.00      0.00         2\n",
      "         782       0.09      0.50      0.15         2\n",
      "         783       0.00      0.00      0.00         5\n",
      "         784       0.50      0.40      0.44         5\n",
      "         785       0.00      0.00      0.00         2\n",
      "         786       0.00      0.00      0.00         1\n",
      "         787       0.00      0.00      0.00         1\n",
      "         788       0.00      0.00      0.00         1\n",
      "         789       1.00      0.50      0.67         2\n",
      "         790       0.50      0.25      0.33         8\n",
      "         791       0.00      0.00      0.00         4\n",
      "         792       0.00      0.00      0.00         5\n",
      "         793       0.00      0.00      0.00         4\n",
      "         794       0.00      0.00      0.00         6\n",
      "         795       0.25      0.50      0.33         2\n",
      "         796       1.00      0.20      0.33         5\n",
      "         797       0.01      0.20      0.03         5\n",
      "         798       1.00      0.17      0.29         6\n",
      "         799       0.60      0.75      0.67         4\n",
      "         800       0.00      0.00      0.00         1\n",
      "         801       0.00      0.00      0.00         1\n",
      "         802       1.00      0.25      0.40         4\n",
      "         803       0.50      0.33      0.40         3\n",
      "         804       0.00      0.00      0.00         2\n",
      "         805       0.00      0.00      0.00         0\n",
      "         806       0.00      0.00      0.00         1\n",
      "         807       0.00      0.00      0.00         4\n",
      "         808       0.00      0.00      0.00         1\n",
      "         810       0.00      0.00      0.00         4\n",
      "         811       0.00      0.00      0.00         2\n",
      "         812       1.00      1.00      1.00         2\n",
      "         813       0.50      0.50      0.50         2\n",
      "         814       0.00      0.00      0.00         1\n",
      "         815       0.00      0.00      0.00         5\n",
      "         816       0.67      1.00      0.80         2\n",
      "         817       0.00      0.00      0.00         4\n",
      "         818       0.00      0.00      0.00         3\n",
      "         819       0.00      0.00      0.00         2\n",
      "         820       0.00      0.00      0.00         2\n",
      "         821       0.00      0.00      0.00         1\n",
      "         822       1.00      0.50      0.67         2\n",
      "         823       0.07      1.00      0.12         1\n",
      "         824       0.00      0.00      0.00         1\n",
      "         825       0.25      0.50      0.33         2\n",
      "         827       1.00      0.20      0.33         5\n",
      "         828       0.11      0.33      0.17         3\n",
      "         829       0.80      0.31      0.44        39\n",
      "         831       1.00      0.17      0.29         6\n",
      "         833       0.57      0.67      0.62         6\n",
      "         834       0.17      0.67      0.27         3\n",
      "         835       0.00      0.00      0.00         1\n",
      "         836       0.12      1.00      0.22         3\n",
      "         837       0.12      0.17      0.14         6\n",
      "         838       0.00      0.00      0.00         3\n",
      "         839       0.25      1.00      0.40         3\n",
      "         840       0.50      0.50      0.50         4\n",
      "         841       0.80      0.50      0.62         8\n",
      "         842       0.00      0.00      0.00         1\n",
      "         843       1.00      0.50      0.67         2\n",
      "         844       0.50      1.00      0.67         1\n",
      "         845       0.00      0.00      0.00         6\n",
      "         846       0.00      0.00      0.00         0\n",
      "         847       0.33      0.50      0.40         2\n",
      "         848       0.88      0.78      0.82         9\n",
      "         849       0.00      0.00      0.00         4\n",
      "         850       0.69      0.65      0.67        17\n",
      "         851       0.00      0.00      0.00         3\n",
      "         853       0.00      0.00      0.00         6\n",
      "         854       1.00      0.33      0.50         3\n",
      "         855       0.00      0.00      0.00         2\n",
      "         856       0.00      0.00      0.00         4\n",
      "         857       1.00      0.33      0.50         6\n",
      "         858       1.00      0.33      0.50         6\n",
      "         859       0.06      1.00      0.12         1\n",
      "         860       0.14      1.00      0.25         2\n",
      "         861       0.00      0.00      0.00         1\n",
      "         862       1.00      0.67      0.80         6\n",
      "         863       0.00      0.00      0.00         2\n",
      "         864       0.00      0.00      0.00         2\n",
      "         865       1.00      0.20      0.33         5\n",
      "         866       1.00      1.00      1.00         1\n",
      "         867       0.00      0.00      0.00         4\n",
      "         868       0.75      0.75      0.75         4\n",
      "         869       1.00      0.33      0.50         3\n",
      "         870       0.50      0.33      0.40         3\n",
      "         871       0.00      0.00      0.00         3\n",
      "         872       0.00      0.00      0.00         3\n",
      "         873       0.00      0.00      0.00         4\n",
      "         874       0.80      0.50      0.62         8\n",
      "         875       0.00      0.00      0.00         3\n",
      "         876       0.00      0.00      0.00         2\n",
      "         877       0.00      0.00      0.00         5\n",
      "         878       0.00      0.00      0.00         4\n",
      "         879       0.00      0.00      0.00         6\n",
      "         880       0.00      0.00      0.00         4\n",
      "         882       1.00      0.20      0.33         5\n",
      "         883       0.75      0.75      0.75         4\n",
      "         884       0.00      0.00      0.00         0\n",
      "         885       1.00      0.40      0.57         5\n",
      "         886       0.00      0.00      0.00         1\n",
      "         887       0.50      0.33      0.40         3\n",
      "         888       0.00      0.00      0.00         5\n",
      "         890       0.00      0.00      0.00         1\n",
      "         891       0.00      0.00      0.00         1\n",
      "         892       0.00      0.00      0.00         1\n",
      "         893       0.06      0.25      0.10         4\n",
      "         894       0.03      0.50      0.06         2\n",
      "         895       0.00      0.00      0.00         1\n",
      "         896       0.43      0.75      0.55         4\n",
      "         897       0.50      0.67      0.57         3\n",
      "         898       0.00      0.00      0.00         1\n",
      "         899       0.00      0.00      0.00         2\n",
      "         900       1.00      0.75      0.86         4\n",
      "         901       0.00      0.00      0.00         3\n",
      "         902       0.33      0.50      0.40         2\n",
      "         903       1.00      0.20      0.33         5\n",
      "         904       0.00      0.00      0.00         1\n",
      "\n",
      "    accuracy                           0.29      2778\n",
      "   macro avg       0.30      0.26      0.23      2778\n",
      "weighted avg       0.38      0.29      0.28      2778\n",
      "\n"
     ]
    },
    {
     "name": "stderr",
     "output_type": "stream",
     "text": [
      "c:\\Users\\valen\\AppData\\Local\\Programs\\Python\\Python310\\lib\\site-packages\\sklearn\\metrics\\_classification.py:1334: UndefinedMetricWarning:\n",
      "\n",
      "Precision and F-score are ill-defined and being set to 0.0 in labels with no predicted samples. Use `zero_division` parameter to control this behavior.\n",
      "\n",
      "c:\\Users\\valen\\AppData\\Local\\Programs\\Python\\Python310\\lib\\site-packages\\sklearn\\metrics\\_classification.py:1334: UndefinedMetricWarning:\n",
      "\n",
      "Recall and F-score are ill-defined and being set to 0.0 in labels with no true samples. Use `zero_division` parameter to control this behavior.\n",
      "\n",
      "c:\\Users\\valen\\AppData\\Local\\Programs\\Python\\Python310\\lib\\site-packages\\sklearn\\metrics\\_classification.py:1334: UndefinedMetricWarning:\n",
      "\n",
      "Precision and F-score are ill-defined and being set to 0.0 in labels with no predicted samples. Use `zero_division` parameter to control this behavior.\n",
      "\n",
      "c:\\Users\\valen\\AppData\\Local\\Programs\\Python\\Python310\\lib\\site-packages\\sklearn\\metrics\\_classification.py:1334: UndefinedMetricWarning:\n",
      "\n",
      "Recall and F-score are ill-defined and being set to 0.0 in labels with no true samples. Use `zero_division` parameter to control this behavior.\n",
      "\n",
      "c:\\Users\\valen\\AppData\\Local\\Programs\\Python\\Python310\\lib\\site-packages\\sklearn\\metrics\\_classification.py:1334: UndefinedMetricWarning:\n",
      "\n",
      "Precision and F-score are ill-defined and being set to 0.0 in labels with no predicted samples. Use `zero_division` parameter to control this behavior.\n",
      "\n",
      "c:\\Users\\valen\\AppData\\Local\\Programs\\Python\\Python310\\lib\\site-packages\\sklearn\\metrics\\_classification.py:1334: UndefinedMetricWarning:\n",
      "\n",
      "Recall and F-score are ill-defined and being set to 0.0 in labels with no true samples. Use `zero_division` parameter to control this behavior.\n",
      "\n"
     ]
    }
   ],
   "source": [
    "print(\"Classification report for CNN: \")\n",
    "print(classification_report(y_test, y_pred_cnn_))"
   ]
  },
  {
   "cell_type": "code",
   "execution_count": null,
   "metadata": {},
   "outputs": [
    {
     "data": {
      "application/vnd.plotly.v1+json": {
       "config": {
        "plotlyServerURL": "https://plot.ly"
       },
       "data": [
        {
         "hovertemplate": "x: %{x}<br>y: %{y}<extra></extra>",
         "name": "0",
         "source": "data:image/png;base64,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",
         "type": "image",
         "xaxis": "x",
         "yaxis": "y"
        }
       ],
       "layout": {
        "annotations": [
         {
          "align": "left",
          "bgcolor": "#ff7f0e",
          "bordercolor": "#c7c7c7",
          "borderpad": 2,
          "borderwidth": 1,
          "font": {
           "color": "#ffffff",
           "family": "Courier New, monospace",
           "size": 12
          },
          "opacity": 0.8,
          "showarrow": false,
          "text": "Kadabra: 82%",
          "x": 1,
          "xref": "paper",
          "y": 1,
          "yref": "paper"
         },
         {
          "align": "left",
          "bgcolor": "#ff7f0e",
          "bordercolor": "#c7c7c7",
          "borderpad": 2,
          "borderwidth": 1,
          "font": {
           "color": "#ffffff",
           "family": "Courier New, monospace",
           "size": 12
          },
          "opacity": 0.8,
          "showarrow": false,
          "text": "Alakazam: 11%",
          "x": 1,
          "xref": "paper",
          "y": 0.75,
          "yref": "paper"
         }
        ],
        "height": 350,
        "images": [
         {
          "layer": "below",
          "sizex": 0.3,
          "sizey": 0.3,
          "source": "images/final/Kadabra/0.png",
          "x": 1,
          "xref": "paper",
          "y": 1.1,
          "yref": "paper"
         },
         {
          "layer": "below",
          "sizex": 0.3,
          "sizey": 0.3,
          "source": "images/final/Alakazam/0.png",
          "x": 1,
          "xref": "paper",
          "y": 0.8500000000000001,
          "yref": "paper"
         }
        ],
        "margin": {
         "l": 0,
         "t": 60
        },
        "shapes": [
         {
          "line": {
           "color": "black",
           "width": 2
          },
          "type": "rect",
          "x0": 0,
          "x1": 128,
          "xref": "x",
          "y0": 0,
          "y1": 128,
          "yref": "y"
         }
        ],
        "template": {
         "data": {
          "bar": [
           {
            "error_x": {
             "color": "#2a3f5f"
            },
            "error_y": {
             "color": "#2a3f5f"
            },
            "marker": {
             "line": {
              "color": "#E5ECF6",
              "width": 0.5
             },
             "pattern": {
              "fillmode": "overlay",
              "size": 10,
              "solidity": 0.2
             }
            },
            "type": "bar"
           }
          ],
          "barpolar": [
           {
            "marker": {
             "line": {
              "color": "#E5ECF6",
              "width": 0.5
             },
             "pattern": {
              "fillmode": "overlay",
              "size": 10,
              "solidity": 0.2
             }
            },
            "type": "barpolar"
           }
          ],
          "carpet": [
           {
            "aaxis": {
             "endlinecolor": "#2a3f5f",
             "gridcolor": "white",
             "linecolor": "white",
             "minorgridcolor": "white",
             "startlinecolor": "#2a3f5f"
            },
            "baxis": {
             "endlinecolor": "#2a3f5f",
             "gridcolor": "white",
             "linecolor": "white",
             "minorgridcolor": "white",
             "startlinecolor": "#2a3f5f"
            },
            "type": "carpet"
           }
          ],
          "choropleth": [
           {
            "colorbar": {
             "outlinewidth": 0,
             "ticks": ""
            },
            "type": "choropleth"
           }
          ],
          "contour": [
           {
            "colorbar": {
             "outlinewidth": 0,
             "ticks": ""
            },
            "colorscale": [
             [
              0,
              "#0d0887"
             ],
             [
              0.1111111111111111,
              "#46039f"
             ],
             [
              0.2222222222222222,
              "#7201a8"
             ],
             [
              0.3333333333333333,
              "#9c179e"
             ],
             [
              0.4444444444444444,
              "#bd3786"
             ],
             [
              0.5555555555555556,
              "#d8576b"
             ],
             [
              0.6666666666666666,
              "#ed7953"
             ],
             [
              0.7777777777777778,
              "#fb9f3a"
             ],
             [
              0.8888888888888888,
              "#fdca26"
             ],
             [
              1,
              "#f0f921"
             ]
            ],
            "type": "contour"
           }
          ],
          "contourcarpet": [
           {
            "colorbar": {
             "outlinewidth": 0,
             "ticks": ""
            },
            "type": "contourcarpet"
           }
          ],
          "heatmap": [
           {
            "colorbar": {
             "outlinewidth": 0,
             "ticks": ""
            },
            "colorscale": [
             [
              0,
              "#0d0887"
             ],
             [
              0.1111111111111111,
              "#46039f"
             ],
             [
              0.2222222222222222,
              "#7201a8"
             ],
             [
              0.3333333333333333,
              "#9c179e"
             ],
             [
              0.4444444444444444,
              "#bd3786"
             ],
             [
              0.5555555555555556,
              "#d8576b"
             ],
             [
              0.6666666666666666,
              "#ed7953"
             ],
             [
              0.7777777777777778,
              "#fb9f3a"
             ],
             [
              0.8888888888888888,
              "#fdca26"
             ],
             [
              1,
              "#f0f921"
             ]
            ],
            "type": "heatmap"
           }
          ],
          "heatmapgl": [
           {
            "colorbar": {
             "outlinewidth": 0,
             "ticks": ""
            },
            "colorscale": [
             [
              0,
              "#0d0887"
             ],
             [
              0.1111111111111111,
              "#46039f"
             ],
             [
              0.2222222222222222,
              "#7201a8"
             ],
             [
              0.3333333333333333,
              "#9c179e"
             ],
             [
              0.4444444444444444,
              "#bd3786"
             ],
             [
              0.5555555555555556,
              "#d8576b"
             ],
             [
              0.6666666666666666,
              "#ed7953"
             ],
             [
              0.7777777777777778,
              "#fb9f3a"
             ],
             [
              0.8888888888888888,
              "#fdca26"
             ],
             [
              1,
              "#f0f921"
             ]
            ],
            "type": "heatmapgl"
           }
          ],
          "histogram": [
           {
            "marker": {
             "pattern": {
              "fillmode": "overlay",
              "size": 10,
              "solidity": 0.2
             }
            },
            "type": "histogram"
           }
          ],
          "histogram2d": [
           {
            "colorbar": {
             "outlinewidth": 0,
             "ticks": ""
            },
            "colorscale": [
             [
              0,
              "#0d0887"
             ],
             [
              0.1111111111111111,
              "#46039f"
             ],
             [
              0.2222222222222222,
              "#7201a8"
             ],
             [
              0.3333333333333333,
              "#9c179e"
             ],
             [
              0.4444444444444444,
              "#bd3786"
             ],
             [
              0.5555555555555556,
              "#d8576b"
             ],
             [
              0.6666666666666666,
              "#ed7953"
             ],
             [
              0.7777777777777778,
              "#fb9f3a"
             ],
             [
              0.8888888888888888,
              "#fdca26"
             ],
             [
              1,
              "#f0f921"
             ]
            ],
            "type": "histogram2d"
           }
          ],
          "histogram2dcontour": [
           {
            "colorbar": {
             "outlinewidth": 0,
             "ticks": ""
            },
            "colorscale": [
             [
              0,
              "#0d0887"
             ],
             [
              0.1111111111111111,
              "#46039f"
             ],
             [
              0.2222222222222222,
              "#7201a8"
             ],
             [
              0.3333333333333333,
              "#9c179e"
             ],
             [
              0.4444444444444444,
              "#bd3786"
             ],
             [
              0.5555555555555556,
              "#d8576b"
             ],
             [
              0.6666666666666666,
              "#ed7953"
             ],
             [
              0.7777777777777778,
              "#fb9f3a"
             ],
             [
              0.8888888888888888,
              "#fdca26"
             ],
             [
              1,
              "#f0f921"
             ]
            ],
            "type": "histogram2dcontour"
           }
          ],
          "mesh3d": [
           {
            "colorbar": {
             "outlinewidth": 0,
             "ticks": ""
            },
            "type": "mesh3d"
           }
          ],
          "parcoords": [
           {
            "line": {
             "colorbar": {
              "outlinewidth": 0,
              "ticks": ""
             }
            },
            "type": "parcoords"
           }
          ],
          "pie": [
           {
            "automargin": true,
            "type": "pie"
           }
          ],
          "scatter": [
           {
            "fillpattern": {
             "fillmode": "overlay",
             "size": 10,
             "solidity": 0.2
            },
            "type": "scatter"
           }
          ],
          "scatter3d": [
           {
            "line": {
             "colorbar": {
              "outlinewidth": 0,
              "ticks": ""
             }
            },
            "marker": {
             "colorbar": {
              "outlinewidth": 0,
              "ticks": ""
             }
            },
            "type": "scatter3d"
           }
          ],
          "scattercarpet": [
           {
            "marker": {
             "colorbar": {
              "outlinewidth": 0,
              "ticks": ""
             }
            },
            "type": "scattercarpet"
           }
          ],
          "scattergeo": [
           {
            "marker": {
             "colorbar": {
              "outlinewidth": 0,
              "ticks": ""
             }
            },
            "type": "scattergeo"
           }
          ],
          "scattergl": [
           {
            "marker": {
             "colorbar": {
              "outlinewidth": 0,
              "ticks": ""
             }
            },
            "type": "scattergl"
           }
          ],
          "scattermapbox": [
           {
            "marker": {
             "colorbar": {
              "outlinewidth": 0,
              "ticks": ""
             }
            },
            "type": "scattermapbox"
           }
          ],
          "scatterpolar": [
           {
            "marker": {
             "colorbar": {
              "outlinewidth": 0,
              "ticks": ""
             }
            },
            "type": "scatterpolar"
           }
          ],
          "scatterpolargl": [
           {
            "marker": {
             "colorbar": {
              "outlinewidth": 0,
              "ticks": ""
             }
            },
            "type": "scatterpolargl"
           }
          ],
          "scatterternary": [
           {
            "marker": {
             "colorbar": {
              "outlinewidth": 0,
              "ticks": ""
             }
            },
            "type": "scatterternary"
           }
          ],
          "surface": [
           {
            "colorbar": {
             "outlinewidth": 0,
             "ticks": ""
            },
            "colorscale": [
             [
              0,
              "#0d0887"
             ],
             [
              0.1111111111111111,
              "#46039f"
             ],
             [
              0.2222222222222222,
              "#7201a8"
             ],
             [
              0.3333333333333333,
              "#9c179e"
             ],
             [
              0.4444444444444444,
              "#bd3786"
             ],
             [
              0.5555555555555556,
              "#d8576b"
             ],
             [
              0.6666666666666666,
              "#ed7953"
             ],
             [
              0.7777777777777778,
              "#fb9f3a"
             ],
             [
              0.8888888888888888,
              "#fdca26"
             ],
             [
              1,
              "#f0f921"
             ]
            ],
            "type": "surface"
           }
          ],
          "table": [
           {
            "cells": {
             "fill": {
              "color": "#EBF0F8"
             },
             "line": {
              "color": "white"
             }
            },
            "header": {
             "fill": {
              "color": "#C8D4E3"
             },
             "line": {
              "color": "white"
             }
            },
            "type": "table"
           }
          ]
         },
         "layout": {
          "annotationdefaults": {
           "arrowcolor": "#2a3f5f",
           "arrowhead": 0,
           "arrowwidth": 1
          },
          "autotypenumbers": "strict",
          "coloraxis": {
           "colorbar": {
            "outlinewidth": 0,
            "ticks": ""
           }
          },
          "colorscale": {
           "diverging": [
            [
             0,
             "#8e0152"
            ],
            [
             0.1,
             "#c51b7d"
            ],
            [
             0.2,
             "#de77ae"
            ],
            [
             0.3,
             "#f1b6da"
            ],
            [
             0.4,
             "#fde0ef"
            ],
            [
             0.5,
             "#f7f7f7"
            ],
            [
             0.6,
             "#e6f5d0"
            ],
            [
             0.7,
             "#b8e186"
            ],
            [
             0.8,
             "#7fbc41"
            ],
            [
             0.9,
             "#4d9221"
            ],
            [
             1,
             "#276419"
            ]
           ],
           "sequential": [
            [
             0,
             "#0d0887"
            ],
            [
             0.1111111111111111,
             "#46039f"
            ],
            [
             0.2222222222222222,
             "#7201a8"
            ],
            [
             0.3333333333333333,
             "#9c179e"
            ],
            [
             0.4444444444444444,
             "#bd3786"
            ],
            [
             0.5555555555555556,
             "#d8576b"
            ],
            [
             0.6666666666666666,
             "#ed7953"
            ],
            [
             0.7777777777777778,
             "#fb9f3a"
            ],
            [
             0.8888888888888888,
             "#fdca26"
            ],
            [
             1,
             "#f0f921"
            ]
           ],
           "sequentialminus": [
            [
             0,
             "#0d0887"
            ],
            [
             0.1111111111111111,
             "#46039f"
            ],
            [
             0.2222222222222222,
             "#7201a8"
            ],
            [
             0.3333333333333333,
             "#9c179e"
            ],
            [
             0.4444444444444444,
             "#bd3786"
            ],
            [
             0.5555555555555556,
             "#d8576b"
            ],
            [
             0.6666666666666666,
             "#ed7953"
            ],
            [
             0.7777777777777778,
             "#fb9f3a"
            ],
            [
             0.8888888888888888,
             "#fdca26"
            ],
            [
             1,
             "#f0f921"
            ]
           ]
          },
          "colorway": [
           "#636efa",
           "#EF553B",
           "#00cc96",
           "#ab63fa",
           "#FFA15A",
           "#19d3f3",
           "#FF6692",
           "#B6E880",
           "#FF97FF",
           "#FECB52"
          ],
          "font": {
           "color": "#2a3f5f"
          },
          "geo": {
           "bgcolor": "white",
           "lakecolor": "white",
           "landcolor": "#E5ECF6",
           "showlakes": true,
           "showland": true,
           "subunitcolor": "white"
          },
          "hoverlabel": {
           "align": "left"
          },
          "hovermode": "closest",
          "mapbox": {
           "style": "light"
          },
          "paper_bgcolor": "white",
          "plot_bgcolor": "#E5ECF6",
          "polar": {
           "angularaxis": {
            "gridcolor": "white",
            "linecolor": "white",
            "ticks": ""
           },
           "bgcolor": "#E5ECF6",
           "radialaxis": {
            "gridcolor": "white",
            "linecolor": "white",
            "ticks": ""
           }
          },
          "scene": {
           "xaxis": {
            "backgroundcolor": "#E5ECF6",
            "gridcolor": "white",
            "gridwidth": 2,
            "linecolor": "white",
            "showbackground": true,
            "ticks": "",
            "zerolinecolor": "white"
           },
           "yaxis": {
            "backgroundcolor": "#E5ECF6",
            "gridcolor": "white",
            "gridwidth": 2,
            "linecolor": "white",
            "showbackground": true,
            "ticks": "",
            "zerolinecolor": "white"
           },
           "zaxis": {
            "backgroundcolor": "#E5ECF6",
            "gridcolor": "white",
            "gridwidth": 2,
            "linecolor": "white",
            "showbackground": true,
            "ticks": "",
            "zerolinecolor": "white"
           }
          },
          "shapedefaults": {
           "line": {
            "color": "#2a3f5f"
           }
          },
          "ternary": {
           "aaxis": {
            "gridcolor": "white",
            "linecolor": "white",
            "ticks": ""
           },
           "baxis": {
            "gridcolor": "white",
            "linecolor": "white",
            "ticks": ""
           },
           "bgcolor": "#E5ECF6",
           "caxis": {
            "gridcolor": "white",
            "linecolor": "white",
            "ticks": ""
           }
          },
          "title": {
           "x": 0.05
          },
          "xaxis": {
           "automargin": true,
           "gridcolor": "white",
           "linecolor": "white",
           "ticks": "",
           "title": {
            "standoff": 15
           },
           "zerolinecolor": "white",
           "zerolinewidth": 2
          },
          "yaxis": {
           "automargin": true,
           "gridcolor": "white",
           "linecolor": "white",
           "ticks": "",
           "title": {
            "standoff": 15
           },
           "zerolinecolor": "white",
           "zerolinewidth": 2
          }
         }
        },
        "title": {
         "text": "Label: Kadabra"
        },
        "width": 500,
        "xaxis": {
         "anchor": "y",
         "domain": [
          0,
          1
         ],
         "showgrid": false,
         "showticklabels": false,
         "visible": false,
         "zeroline": false
        },
        "yaxis": {
         "anchor": "x",
         "domain": [
          0,
          1
         ],
         "showgrid": false,
         "showticklabels": false,
         "visible": false,
         "zeroline": false
        }
       }
      }
     },
     "metadata": {},
     "output_type": "display_data"
    },
    {
     "data": {
      "application/vnd.plotly.v1+json": {
       "config": {
        "plotlyServerURL": "https://plot.ly"
       },
       "data": [
        {
         "hovertemplate": "x: %{x}<br>y: %{y}<extra></extra>",
         "name": "0",
         "source": "data:image/png;base64,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",
         "type": "image",
         "xaxis": "x",
         "yaxis": "y"
        }
       ],
       "layout": {
        "annotations": [
         {
          "align": "left",
          "bgcolor": "#ff7f0e",
          "bordercolor": "#c7c7c7",
          "borderpad": 2,
          "borderwidth": 1,
          "font": {
           "color": "#ffffff",
           "family": "Courier New, monospace",
           "size": 12
          },
          "opacity": 0.8,
          "showarrow": false,
          "text": "Meloetta: 74%",
          "x": 1,
          "xref": "paper",
          "y": 1,
          "yref": "paper"
         },
         {
          "align": "left",
          "bgcolor": "#ff7f0e",
          "bordercolor": "#c7c7c7",
          "borderpad": 2,
          "borderwidth": 1,
          "font": {
           "color": "#ffffff",
           "family": "Courier New, monospace",
           "size": 12
          },
          "opacity": 0.8,
          "showarrow": false,
          "text": "Escavalier: 17%",
          "x": 1,
          "xref": "paper",
          "y": 0.75,
          "yref": "paper"
         }
        ],
        "height": 350,
        "images": [
         {
          "layer": "below",
          "sizex": 0.3,
          "sizey": 0.3,
          "source": "images/final/Meloetta/0.png",
          "x": 1,
          "xref": "paper",
          "y": 1.1,
          "yref": "paper"
         },
         {
          "layer": "below",
          "sizex": 0.3,
          "sizey": 0.3,
          "source": "images/final/Escavalier/0.png",
          "x": 1,
          "xref": "paper",
          "y": 0.8500000000000001,
          "yref": "paper"
         }
        ],
        "margin": {
         "l": 0,
         "t": 60
        },
        "shapes": [
         {
          "line": {
           "color": "black",
           "width": 2
          },
          "type": "rect",
          "x0": 0,
          "x1": 128,
          "xref": "x",
          "y0": 0,
          "y1": 128,
          "yref": "y"
         }
        ],
        "template": {
         "data": {
          "bar": [
           {
            "error_x": {
             "color": "#2a3f5f"
            },
            "error_y": {
             "color": "#2a3f5f"
            },
            "marker": {
             "line": {
              "color": "#E5ECF6",
              "width": 0.5
             },
             "pattern": {
              "fillmode": "overlay",
              "size": 10,
              "solidity": 0.2
             }
            },
            "type": "bar"
           }
          ],
          "barpolar": [
           {
            "marker": {
             "line": {
              "color": "#E5ECF6",
              "width": 0.5
             },
             "pattern": {
              "fillmode": "overlay",
              "size": 10,
              "solidity": 0.2
             }
            },
            "type": "barpolar"
           }
          ],
          "carpet": [
           {
            "aaxis": {
             "endlinecolor": "#2a3f5f",
             "gridcolor": "white",
             "linecolor": "white",
             "minorgridcolor": "white",
             "startlinecolor": "#2a3f5f"
            },
            "baxis": {
             "endlinecolor": "#2a3f5f",
             "gridcolor": "white",
             "linecolor": "white",
             "minorgridcolor": "white",
             "startlinecolor": "#2a3f5f"
            },
            "type": "carpet"
           }
          ],
          "choropleth": [
           {
            "colorbar": {
             "outlinewidth": 0,
             "ticks": ""
            },
            "type": "choropleth"
           }
          ],
          "contour": [
           {
            "colorbar": {
             "outlinewidth": 0,
             "ticks": ""
            },
            "colorscale": [
             [
              0,
              "#0d0887"
             ],
             [
              0.1111111111111111,
              "#46039f"
             ],
             [
              0.2222222222222222,
              "#7201a8"
             ],
             [
              0.3333333333333333,
              "#9c179e"
             ],
             [
              0.4444444444444444,
              "#bd3786"
             ],
             [
              0.5555555555555556,
              "#d8576b"
             ],
             [
              0.6666666666666666,
              "#ed7953"
             ],
             [
              0.7777777777777778,
              "#fb9f3a"
             ],
             [
              0.8888888888888888,
              "#fdca26"
             ],
             [
              1,
              "#f0f921"
             ]
            ],
            "type": "contour"
           }
          ],
          "contourcarpet": [
           {
            "colorbar": {
             "outlinewidth": 0,
             "ticks": ""
            },
            "type": "contourcarpet"
           }
          ],
          "heatmap": [
           {
            "colorbar": {
             "outlinewidth": 0,
             "ticks": ""
            },
            "colorscale": [
             [
              0,
              "#0d0887"
             ],
             [
              0.1111111111111111,
              "#46039f"
             ],
             [
              0.2222222222222222,
              "#7201a8"
             ],
             [
              0.3333333333333333,
              "#9c179e"
             ],
             [
              0.4444444444444444,
              "#bd3786"
             ],
             [
              0.5555555555555556,
              "#d8576b"
             ],
             [
              0.6666666666666666,
              "#ed7953"
             ],
             [
              0.7777777777777778,
              "#fb9f3a"
             ],
             [
              0.8888888888888888,
              "#fdca26"
             ],
             [
              1,
              "#f0f921"
             ]
            ],
            "type": "heatmap"
           }
          ],
          "heatmapgl": [
           {
            "colorbar": {
             "outlinewidth": 0,
             "ticks": ""
            },
            "colorscale": [
             [
              0,
              "#0d0887"
             ],
             [
              0.1111111111111111,
              "#46039f"
             ],
             [
              0.2222222222222222,
              "#7201a8"
             ],
             [
              0.3333333333333333,
              "#9c179e"
             ],
             [
              0.4444444444444444,
              "#bd3786"
             ],
             [
              0.5555555555555556,
              "#d8576b"
             ],
             [
              0.6666666666666666,
              "#ed7953"
             ],
             [
              0.7777777777777778,
              "#fb9f3a"
             ],
             [
              0.8888888888888888,
              "#fdca26"
             ],
             [
              1,
              "#f0f921"
             ]
            ],
            "type": "heatmapgl"
           }
          ],
          "histogram": [
           {
            "marker": {
             "pattern": {
              "fillmode": "overlay",
              "size": 10,
              "solidity": 0.2
             }
            },
            "type": "histogram"
           }
          ],
          "histogram2d": [
           {
            "colorbar": {
             "outlinewidth": 0,
             "ticks": ""
            },
            "colorscale": [
             [
              0,
              "#0d0887"
             ],
             [
              0.1111111111111111,
              "#46039f"
             ],
             [
              0.2222222222222222,
              "#7201a8"
             ],
             [
              0.3333333333333333,
              "#9c179e"
             ],
             [
              0.4444444444444444,
              "#bd3786"
             ],
             [
              0.5555555555555556,
              "#d8576b"
             ],
             [
              0.6666666666666666,
              "#ed7953"
             ],
             [
              0.7777777777777778,
              "#fb9f3a"
             ],
             [
              0.8888888888888888,
              "#fdca26"
             ],
             [
              1,
              "#f0f921"
             ]
            ],
            "type": "histogram2d"
           }
          ],
          "histogram2dcontour": [
           {
            "colorbar": {
             "outlinewidth": 0,
             "ticks": ""
            },
            "colorscale": [
             [
              0,
              "#0d0887"
             ],
             [
              0.1111111111111111,
              "#46039f"
             ],
             [
              0.2222222222222222,
              "#7201a8"
             ],
             [
              0.3333333333333333,
              "#9c179e"
             ],
             [
              0.4444444444444444,
              "#bd3786"
             ],
             [
              0.5555555555555556,
              "#d8576b"
             ],
             [
              0.6666666666666666,
              "#ed7953"
             ],
             [
              0.7777777777777778,
              "#fb9f3a"
             ],
             [
              0.8888888888888888,
              "#fdca26"
             ],
             [
              1,
              "#f0f921"
             ]
            ],
            "type": "histogram2dcontour"
           }
          ],
          "mesh3d": [
           {
            "colorbar": {
             "outlinewidth": 0,
             "ticks": ""
            },
            "type": "mesh3d"
           }
          ],
          "parcoords": [
           {
            "line": {
             "colorbar": {
              "outlinewidth": 0,
              "ticks": ""
             }
            },
            "type": "parcoords"
           }
          ],
          "pie": [
           {
            "automargin": true,
            "type": "pie"
           }
          ],
          "scatter": [
           {
            "fillpattern": {
             "fillmode": "overlay",
             "size": 10,
             "solidity": 0.2
            },
            "type": "scatter"
           }
          ],
          "scatter3d": [
           {
            "line": {
             "colorbar": {
              "outlinewidth": 0,
              "ticks": ""
             }
            },
            "marker": {
             "colorbar": {
              "outlinewidth": 0,
              "ticks": ""
             }
            },
            "type": "scatter3d"
           }
          ],
          "scattercarpet": [
           {
            "marker": {
             "colorbar": {
              "outlinewidth": 0,
              "ticks": ""
             }
            },
            "type": "scattercarpet"
           }
          ],
          "scattergeo": [
           {
            "marker": {
             "colorbar": {
              "outlinewidth": 0,
              "ticks": ""
             }
            },
            "type": "scattergeo"
           }
          ],
          "scattergl": [
           {
            "marker": {
             "colorbar": {
              "outlinewidth": 0,
              "ticks": ""
             }
            },
            "type": "scattergl"
           }
          ],
          "scattermapbox": [
           {
            "marker": {
             "colorbar": {
              "outlinewidth": 0,
              "ticks": ""
             }
            },
            "type": "scattermapbox"
           }
          ],
          "scatterpolar": [
           {
            "marker": {
             "colorbar": {
              "outlinewidth": 0,
              "ticks": ""
             }
            },
            "type": "scatterpolar"
           }
          ],
          "scatterpolargl": [
           {
            "marker": {
             "colorbar": {
              "outlinewidth": 0,
              "ticks": ""
             }
            },
            "type": "scatterpolargl"
           }
          ],
          "scatterternary": [
           {
            "marker": {
             "colorbar": {
              "outlinewidth": 0,
              "ticks": ""
             }
            },
            "type": "scatterternary"
           }
          ],
          "surface": [
           {
            "colorbar": {
             "outlinewidth": 0,
             "ticks": ""
            },
            "colorscale": [
             [
              0,
              "#0d0887"
             ],
             [
              0.1111111111111111,
              "#46039f"
             ],
             [
              0.2222222222222222,
              "#7201a8"
             ],
             [
              0.3333333333333333,
              "#9c179e"
             ],
             [
              0.4444444444444444,
              "#bd3786"
             ],
             [
              0.5555555555555556,
              "#d8576b"
             ],
             [
              0.6666666666666666,
              "#ed7953"
             ],
             [
              0.7777777777777778,
              "#fb9f3a"
             ],
             [
              0.8888888888888888,
              "#fdca26"
             ],
             [
              1,
              "#f0f921"
             ]
            ],
            "type": "surface"
           }
          ],
          "table": [
           {
            "cells": {
             "fill": {
              "color": "#EBF0F8"
             },
             "line": {
              "color": "white"
             }
            },
            "header": {
             "fill": {
              "color": "#C8D4E3"
             },
             "line": {
              "color": "white"
             }
            },
            "type": "table"
           }
          ]
         },
         "layout": {
          "annotationdefaults": {
           "arrowcolor": "#2a3f5f",
           "arrowhead": 0,
           "arrowwidth": 1
          },
          "autotypenumbers": "strict",
          "coloraxis": {
           "colorbar": {
            "outlinewidth": 0,
            "ticks": ""
           }
          },
          "colorscale": {
           "diverging": [
            [
             0,
             "#8e0152"
            ],
            [
             0.1,
             "#c51b7d"
            ],
            [
             0.2,
             "#de77ae"
            ],
            [
             0.3,
             "#f1b6da"
            ],
            [
             0.4,
             "#fde0ef"
            ],
            [
             0.5,
             "#f7f7f7"
            ],
            [
             0.6,
             "#e6f5d0"
            ],
            [
             0.7,
             "#b8e186"
            ],
            [
             0.8,
             "#7fbc41"
            ],
            [
             0.9,
             "#4d9221"
            ],
            [
             1,
             "#276419"
            ]
           ],
           "sequential": [
            [
             0,
             "#0d0887"
            ],
            [
             0.1111111111111111,
             "#46039f"
            ],
            [
             0.2222222222222222,
             "#7201a8"
            ],
            [
             0.3333333333333333,
             "#9c179e"
            ],
            [
             0.4444444444444444,
             "#bd3786"
            ],
            [
             0.5555555555555556,
             "#d8576b"
            ],
            [
             0.6666666666666666,
             "#ed7953"
            ],
            [
             0.7777777777777778,
             "#fb9f3a"
            ],
            [
             0.8888888888888888,
             "#fdca26"
            ],
            [
             1,
             "#f0f921"
            ]
           ],
           "sequentialminus": [
            [
             0,
             "#0d0887"
            ],
            [
             0.1111111111111111,
             "#46039f"
            ],
            [
             0.2222222222222222,
             "#7201a8"
            ],
            [
             0.3333333333333333,
             "#9c179e"
            ],
            [
             0.4444444444444444,
             "#bd3786"
            ],
            [
             0.5555555555555556,
             "#d8576b"
            ],
            [
             0.6666666666666666,
             "#ed7953"
            ],
            [
             0.7777777777777778,
             "#fb9f3a"
            ],
            [
             0.8888888888888888,
             "#fdca26"
            ],
            [
             1,
             "#f0f921"
            ]
           ]
          },
          "colorway": [
           "#636efa",
           "#EF553B",
           "#00cc96",
           "#ab63fa",
           "#FFA15A",
           "#19d3f3",
           "#FF6692",
           "#B6E880",
           "#FF97FF",
           "#FECB52"
          ],
          "font": {
           "color": "#2a3f5f"
          },
          "geo": {
           "bgcolor": "white",
           "lakecolor": "white",
           "landcolor": "#E5ECF6",
           "showlakes": true,
           "showland": true,
           "subunitcolor": "white"
          },
          "hoverlabel": {
           "align": "left"
          },
          "hovermode": "closest",
          "mapbox": {
           "style": "light"
          },
          "paper_bgcolor": "white",
          "plot_bgcolor": "#E5ECF6",
          "polar": {
           "angularaxis": {
            "gridcolor": "white",
            "linecolor": "white",
            "ticks": ""
           },
           "bgcolor": "#E5ECF6",
           "radialaxis": {
            "gridcolor": "white",
            "linecolor": "white",
            "ticks": ""
           }
          },
          "scene": {
           "xaxis": {
            "backgroundcolor": "#E5ECF6",
            "gridcolor": "white",
            "gridwidth": 2,
            "linecolor": "white",
            "showbackground": true,
            "ticks": "",
            "zerolinecolor": "white"
           },
           "yaxis": {
            "backgroundcolor": "#E5ECF6",
            "gridcolor": "white",
            "gridwidth": 2,
            "linecolor": "white",
            "showbackground": true,
            "ticks": "",
            "zerolinecolor": "white"
           },
           "zaxis": {
            "backgroundcolor": "#E5ECF6",
            "gridcolor": "white",
            "gridwidth": 2,
            "linecolor": "white",
            "showbackground": true,
            "ticks": "",
            "zerolinecolor": "white"
           }
          },
          "shapedefaults": {
           "line": {
            "color": "#2a3f5f"
           }
          },
          "ternary": {
           "aaxis": {
            "gridcolor": "white",
            "linecolor": "white",
            "ticks": ""
           },
           "baxis": {
            "gridcolor": "white",
            "linecolor": "white",
            "ticks": ""
           },
           "bgcolor": "#E5ECF6",
           "caxis": {
            "gridcolor": "white",
            "linecolor": "white",
            "ticks": ""
           }
          },
          "title": {
           "x": 0.05
          },
          "xaxis": {
           "automargin": true,
           "gridcolor": "white",
           "linecolor": "white",
           "ticks": "",
           "title": {
            "standoff": 15
           },
           "zerolinecolor": "white",
           "zerolinewidth": 2
          },
          "yaxis": {
           "automargin": true,
           "gridcolor": "white",
           "linecolor": "white",
           "ticks": "",
           "title": {
            "standoff": 15
           },
           "zerolinecolor": "white",
           "zerolinewidth": 2
          }
         }
        },
        "title": {
         "text": "Label: Meloetta"
        },
        "width": 500,
        "xaxis": {
         "anchor": "y",
         "domain": [
          0,
          1
         ],
         "showgrid": false,
         "showticklabels": false,
         "visible": false,
         "zeroline": false
        },
        "yaxis": {
         "anchor": "x",
         "domain": [
          0,
          1
         ],
         "showgrid": false,
         "showticklabels": false,
         "visible": false,
         "zeroline": false
        }
       }
      }
     },
     "metadata": {},
     "output_type": "display_data"
    },
    {
     "data": {
      "application/vnd.plotly.v1+json": {
       "config": {
        "plotlyServerURL": "https://plot.ly"
       },
       "data": [
        {
         "hovertemplate": "x: %{x}<br>y: %{y}<extra></extra>",
         "name": "0",
         "source": "data:image/png;base64,iVBORw0KGgoAAAANSUhEUgAAAIAAAACACAIAAABMXPacAAAd8UlEQVR4Xu2debgkRZnu3y8iM6vq7KcXmq2hgUZZWkBkl0FEFIWmBwdBcRTFBb3OxYXxeh1EcbmM++PIvQq44JVFRxh1xA0RFJVVgcsO0mgD9kIvZz9VlZkR3/fNH1GnqM4GweupqpbTv+d0PlFZGZFZ7xtbRkRmk6piG93DFHdso7NsM6DLbDOgy2wzoMtsM6DLbDOgy2wzoMtExR0d5JaHNtz/2FR/nO4wEB/8gt0qpbh4xByAunIj9vgTE2d8fbWSFXacV/PpMVcd32l+8sNPnlw89LlOdwx4xRcet6UBYxNXn3DTI64+kU1ucun0UMQ3XHh68ejnNF1oA17z+fvIlsvDQ6XBnlL/dlFlwCY9ce9glFRGM/zPC64pRnhO02kD1q0f3VQTqEARlZD027hvYVTus0klrvTHpcpP73ji939cV4z23KXTBjy8dlJ8zumUq3lVRCWUBipJ38Ko1GdLvVGpElXKr/noHCoEnTbg0H124LyW16fy6Y2uCgBxGcnAYNwzz5Z6o8qAiUs2iQ992zeKMZ+jdNqAcqlkmCWvuemRfGrCpSCLuJdKAwvjyqCNK0nPUJSU62I+9X+vL0Z+LtKF+4CDd8HNq6ow1kxuoKhko7KNkfRH7BaIz1Q5qvSJ8BW/ePwfj9u4eIeFxfib88Sm6sU/f+zOR8enqlkKWC4JQXwWAXleHe7FLgv6j1q24LC9dli6eF4x8lZAF7qh09XaSz/wk6h3OCoPlAYW9S5cXBokEPIpTcc2ZeNPuNq4q47madWn2b2XnlGMDwD4ye1rLr7m0TEXky0ZIgBQwBhAVaHCqgwREVZx4hy7VDmfP2A+86YD93vezsXkukcXDABw1meuvm01onJ/3DtUmbe4Z/6CqBcQpBOSjqzNptb7dDKbGvVpdShB651BLc3f8OXfT9ShFIGMMRY2JmMIBkQgQ4CwhzCLh7CyV/HicxGnLmeXsk9ZaNkS/O93HjvY19NyUd2hOwYA2P+MS0uD85PKYNI3XJ63a8+CPltSzpCOZenYmnx6k8+m8skRl9XOPG6Pf3rdUZO1/C0XPjyWGzIlspZsYqOySUqwCRkQLEgBUkCZIV7Ygz2zE1eXPBWfCefinYrjPOW8Jt6rS7/xwZftv3SH4sV1kK4ZMFWtHfO+q23/cFwZSPoXVOYtqcyLKIKvaTo+nY2tyavjnE5m0+Muz/c58NCN06AoslE5KvVSUjHWmsiaSEEAYCwAKACFCqmoClTATtSl4lKf19ml4lP2qWapcO6zKnsn7HYa1B99+nWbXVwH6ZoBAC666jdf+9XGuDIQVwbKgztWttux1AcAWVXT0RFXHfd51UBt0mtsbJKyLfVGpX6TGBOpsSBDZBSkQNB+ZguoEgARqId4sFNxGbs6p9M+r3JeV5eyzzmvs6sLe3H5+Wfsd8KL92vE7yDdNADAEf90ubf9Ubk/6Z1XHl7cs3AoqpCw1ickH13L6aSJK7bUY5NeW+mzsbEl2AgNpRUiENEQUAUUxoIMCESEUDgUpB7K8LlyVuV02qVTnNWlUSByzqbFe+/ySolu/dLrN7u+9tNlAwDsf+a3S5X+pGcw6ZtXmb8kGS6rRzY6mk+PkI1tuT+uDEflyCYwsRIh1C0+R173Mj2eTqyW2ghPr/fVMSMuXrBnabvnU2XIlvuTnsQmZAggKEg8OAdnKafTPp3yWZVdXfI653Wf19U77/OBiH9z0ZuKl9hOum/APY+sevNnb0165yU9A+WhHaO+BZxO+3TCmDjqGYp7B+MeMjGIVAV5rn7K5SOPbfztZTvEG9986vKlu+1YqZTiKMqdGGiau1Wr19374Kqf3ninL20///B3RP0Lk0piEgBQIc7Buef6dJ6Oc32a8yrndXYp53Vl51w+VKZff+kNxatsG903AMBbPnbVPRtM0je/NLCdtZECNi7HvcNRpS+uwMSqApdrNplP3f/jA3pXvuO05UliPRevXFXDzwkBa+l719z4/Wtu6T/gtIG9X1bqiclCFezJp+Jq474+wfVJn9fY1TlP2WXwuXduqIxfffmNhcTbxFZhAID9z7i0b/vdbaUvjis2qcR9C+OeclxRMmDRdMyN3P3jE5eMnHziS4SZWiikIyIioqoiEj4CeGjlY+d/5Yc7rfhcaajfxlCQOPi6c7UJVxvz6bS4Gud1H3qrzrFLh/uiX/2fTniwtRgwXa0t/9e7bd88G1fi/vlJX09UVgK806n1Y4se+rePvu90L2KMIaKwDeqHbWvGD+qHLTOHQBJFZ59/4eSCo+YfeHJUJgXEka+lrjbh6+MuneLQJLhUvHcu4zz76OkHnXLs/oXrnHW2FgPWrB89/ZL1Nq7EvfPj/r64AkCzKkYfvvnDR7tdd97eGGutfTYGNNUPBoRA2HnL7+6/7PZ8weFvtCVSJc7h6zU3PZLXxjmb8llNXMouV859ljP7+y976+aXOftsLQa84tOPw4jtGS71D8S9CkI6ISM3fO7yD5/qxRtjoigyMwQPADRtCNIDaFW/aQAzN524+bf3XHZ3svDg1wQPfB15ddRNb3LpJGc1zmuSp8LOO+d9tuf2lf/81GmFS51dOj0c/ZR85PJ7hZyt9Mc9/VEFRMgmZd21n/7muSezchzHcRxHURQCcRwnSRK2IdAabu6J4zjanGDeEYfsd8Juo5vuuFoZRGoTROVem/RaWzImNiYia0HWGhuZaOWa6qrVI8XLnVW6b8CGTRM3rS3ZuGwrg3EPGavZtK65/oIr/9driSjo2Cprazh83HJPa7hpQBzHoRJbfuwRlbXXZFOpippIbVyypR4Tl02UkI2JIjJExsAYMnbFOVcXr3hW6b4Bb/jqGFFsS/1x2ZpIXV3X3/St75x3oqKhfnMbaIabX7V+23pAMxyOsdaGrTHmgk+cteqqszgTACaCTSomqZCNjbFkrSEDIhhjiET9dbetLF707NFlA877zoNMLir1RJU+W4Iyahs3XPb+QwEKqjUpqFkIFyh8VfDAGMNe37T84Kk/3a8CMjBx2cZliiKYiMjCGBBFIDIEovd96cbidc8eXTbgxj9YG5ds0h+ViUjrk/7AiSswk/eDds283FTQ2kaPqEDY3zysELc1BWPM8S87Yt3PP+ozJVJjYaKSsQkZS8aisTUgAzKiPs1c8dJniW4a8IFv3q9EJq5E5YqJ1GfY8OsvvfUfT4rjuFXKAkHrZv+nSdjT6kQrTfVti3PHHnlQOroWCjIwUWKihGwEYwmGiEAWxlgiAOdc3K4J6m4acMdqYyJrSz22BAC1TaOXnfuqpnyt2bZVu4LuWxJs+DOJBIjobacuX//rC4SVLMjGNiqRickYMpbIgMhQcIKuvX118TSzRNcM+MbPVirBRGWbVEykPkf115+01CqRbeoYMuwzSt9KoTS0hpsfoziaWvsAsxJgrDFRYmxEZIlMI4nGTCcp8Mija4vnmA26ZsDlt3uykY3LNiEArpp/6uxTopneelOpplh/kfqBp6uRmnuI6LUnvrS+/o9QJQLIhokeUFCfYGYCwLlfv7V4gtmgOwbctWq1qBib2KSHIghjww1fWLRwfmvtEbR7OvXv/f2jJ77xgy98+ZuOO+3s62++t/Btk6YHgdZkiYiI9t93z/rqu1QJBLI27EQQ3gTpw8npvsdGi6nPBt0x4PPfWwMiihITJ4aUU/Ou5XsEgVo1CuGC+gocvuIdx7z27AfGkkfdzjc/Uj3tnee85m0faT2mlS1NbT3Fnrtun657EAARADNT+UDDSYmARglo04hNdwxYXS0RGWNjExGA6ugjxxx+UNA66NXcFtQHcPDxb105Qr/82bf+8KOPX/bVc2tDL9o0cMivfnf3hZf/uHBkk5BOa+IhYIwZHp6XbnpQFSGvh35niBECGsoBEcIM52zTBQO8Zw0l3CYmggieuOky57kpShPaQv1vXHXtqnXVt7z3fcsWlQGcsGdlYKBH43mT5SWf+uIlhYNbecrEich7YVeXxtyOMabRAARDQBTm/MOF3PXwmpYkZ4cuGPAfN64iEEWRiWIyKp6WRCMhl2Lz3BpojXvO+ReM9ey7z+7bh4/TTienamC4eKdqbbqe+daDmxRTbAEA+xyEMJYKVYSVLqThxOGThQFw631/ejLRWaILBvz7TRsAIrIwEQDx7u2n/334qilKq0BN0sw5VrVDF1x2y7TXaa+v+vgNkuaAKqw1pqHZU9GaYGuyRGSiuLFHVUVURVXRSIuaGyXcdN/sP7jQhcW5I3lvFIHIGmNVyU1N7nX4Ls06AS02FHh83UYyMUD/786VQ8vXEHvfHCHgGnuuxHazCFvQMKGFKLIRmrFUlENZCKWgUfU0oMfXzX5HqAsGkOZAKfw2Q+qqo9Y+q4I43N+v4klZyXKtDmCmb0LlfPXinRbRU9n257GGyMZAWO3C2lxgtJn6BKghbDc80BJ1dnhWv3wWeXT1BgDhJway0cdFnlUfb+H8fitMbgMgM38KCNzEQLr68ovOL0Z4FtTTXE1EpmEAhAGFyhbZHwr095Za98wKnTbglw9s1EbHAjBQwE2tDfOIzcnR1nCBk5YfO696L3iyYaIK+bF507ced8xh+y7dpXj0FoRkW0906+/uGdz7OCipiLJTZVWZyR0EpWZWMYoFvX9xCXtGOl0F3bFqCkqkoDDOBeX6BFqkaQ2oaqFWufjT//z7h1c+8PCN9Xi+mFLkp0t+8rSTj//iJ97detiWNBMscMl3fjR4whdUVX3OLhV2Kgyg0fIi3CITVEG0eNFga5qzQqcNuPsPQDlkLFVRAHZg0eaaFCl4cMP3L7rmht994aIrJiarL9zvkPP++W3bLxxqPWBLiinOYAw9tmb9AQPz1IN9Lj5V71QFCNV+yBYammWjGBqqFFL+6+m0AWxyqyUVDi2equlZtA8ZExRprmZoalSMDwB45dEHv/Log4t7/yzNBFsTZy9RJaawjrrx9AAjGBBuDRoNMgAwdOHwcEuSs0On2wBAGn1t9soMoLzdTjqzlqSpUasNxQT+cgrJNhO/8oc/X3jAKVBSZnEZ+1zFQxUgaCgAwYxGKq88bOmTH2eJjhugJhRq0VAIYMv94xMTT6lR4K/04OmSFZFvXPmDHV58urCKS5kziFfVZv+s0SV9shDMfguMzhugEKioCIRVWQW2ZC698uqmKGERVetSKvkrPGhVv5lm2D7+p9V9S16sCsnZ59OS1sRlUA8AGkoNC54sAbsumP0GAJ03AAhPU4gKi6uzV4Je/2DalKmVVhv+Pzxoqt+aTtODd537hV2XnyMCdnVOa+xTEQ8FwjCQNsaFQu5X4PTj9iqkPyt0tBF+YtMEAIZY9uIzzuuSO5SSpa9+v43Ggi7UMmIc+j/NXlDY35rgn6GgfsB7HwK1eh1xr7GRT0XyGufT4jIIhyEgEVX2CA2yChSicuJRexfPMRt0tASs2pgSSIVVPPtcXCZ5HYzKvEU/u+7G1uwZtk29wp7AMxaFLaudkJT3vrnz5Defvfc7rlCButTlVc6zmewPBTCTwEyPCBLbnkq55SSzRkcNeHj1iCEyIFGvPhefscvYQxXfvHkktMOterXStCHoGw5uTTzsaR7wdOnkef7Fr1yx8/IPK4Mz79IpyWric3BjKFtUlD3Uc2NgTlX1iKULWs81i3TUgHsezwAiMmARztln4uuc1iWnJa/+4Pd+fH1BuFYFnXPNcNOMAgXRC1EaoSy7/vY/DD3/SM7h65O+Nu6zaeEsXKGqglnECzM1qiAo9GsfPGHznzJrdLQNeGDNJMhAIcqGoT7zWdVEkyYuxTH95IntTrWGWZgZM1V/yOYhd6tq63xWOKZ5WPPIgh9N6ZlZSE9683uXvf/nLoOvT7nauE+n2NXBDJBCRaHCYC/aHOzDcG8bX2bX0RIwkferMaEdZfHs6pLXXDrh61OSYfFRr3vXB/61oJprIc/zZiDP88K33vuwv3lM67fOeyE6/rVn7fXuH3oHznKfTrj6hM/r8J6hDBVVsBP2Kgx2EIWCRX7wyVcXf8ns0VEDrMmNjWEiIgP2nKc+r3FW9fUJn7LPdej1X/vaFd9tGlCwIUjcDD8p7gzNnZvZ433mvLAef+qZ+7zne6CSrztfH8/rE40ntsPwpyqEmR045zAoHfqkZRoe7Cv+ktmjc1XQ2FQdSjZKmIxhx3mVxEieio19Nm1r42TnRb3xqj3fdusdvzrsoP0BeO+NMaHmCVWKMSZsW/upgWY19WQVJOK9eM8KPelN79n7Pd8HSr7u8tqYq474+iTndQn9HFWIMnt459lDPESgYNVL3nts8xTtoHMG3P7QekBh4zgua55CLbMHUnYxmYjsGGxk7GA8uNO371s4NnHTq445UtHo7TRtCNI3DcBTNRUswqLsmUWYec269e84+2P7/Y8fEcqu7lx1xE2P+nRSsqqIDwMNpMrC4NyLg/jGtAx0IKFD9llc+CGzS+cMuGllFWSMtVG536dTJk6knjEr8hoAEAFEMAn6573g5TdObvje+866+PPnkRFj1aqKSKsBaGmBA6oqCmH1wiH7Q/QTn7voUb/Diz50nc/gUuemx/LpEV+fdFlVhVWFBABYBOw8e7CHCKBQZejNXz2jmX6b6JwBN68cJ0rIJibuoaRsjCUymjuBAdUbQ11EII14IOrdbpd3X3naWad86KzXL3v+nh5BfSEiY5qLlkFEIQurqszcBDBrOYm++4NrLv337+/znit3rmznqvBp1dUnXW3M1SZ8XlX2kOashIDZs4N4hM6Pqlc5/4xDir+hDXTuKcm/+8itxiTJwKK41Cd5bXLtQ6426vPUkEGc2KRs43Jc7rflgaR3XlQZjHqjqEJTf/ztA18/+/RTV5xy0vGO/Yz4Ie8ToAhDx9r4lyT2Y5/9ym133LnvmV/p22Evl4Iz8fVJVxvL6xOcTnNeU2Zo414OImDvw2ywCpShEOh2fdH1z7EHtY/80C223Fse3NFGiUun6uNrs9HVktd9nttyhWxs48TGFRv3RD19cWko7h+OKz2UICqjPrL2wYvfGYs7/JD9X3rEQc9buruNZyofoal67afX3XjdTbdt2jRWGVy091svjHuGfaacq+R1X5/IaxM+neJsml2qIkH98IYVYS8SdG8M+yhUBU/3qrRZp0MGjE1UV3z23qhnoDy0GNC8NpZOrM+nNuW1cc3qsHFcKsNExkRRXKJSJSr1RuXBqNwXlfttqWwTsmWlhDitjT140xM3fIvzOlkDMmRM1DO840tOmbf3i7lOwvA5Se45rfm8ytm0y6a5Ps2uJt6TijTWXSmEPQvEQRUa6v3GWPl/fPT4vXfr0Gu0OtQG3PbIBIiMjclG6nPxXtmTsSaK89p0Vp3oHVgQxYlY9WASp+zFZT6bjuqTUanPlvtMvWKMMbZnaI+Xz9vrWIBIoQAUKhBGbSNERL3jrO6zacmrnNc4r3Oeik+hEvqnQe7QTYXyTJMLAB4CkW99ZPneuzWWPnaADhnwi3s2EhmyEZHR8OYZCKA2qqiZtBRl0+PoH7KAqIUomMVllKccT/lsiuqVKC4bm5gooSgxJgnNNYWaH8Leic+VM/E5u4zzquQZu1Q4I2nmeoEIi4RaqNnbAaBQVoXiyvNW7LvHdsWrbycdMuCuR8cVvcYmhNBtl7D6Q0VtXBaXcpZ571TURrGxwiqkbDgXF3FeN1HJmygUILKxsXFzflBFAQg75Vy9U3bCwQwX7skaNYwIq6owIGAOWR5BeihEAf32ucs7rD46ZkBdS8YYmBhQCENZJQy1izIbE6FMV39ixUnn/oiRC+JIoSJsBMTqnZgMxjTKkLFkIqhiRkVVVfEqLOKp0bsRFUWjSg/dUwn1figyAATSCKlC9aqPrdhn906rj44ZQMywxthIVYUd2AFQDfnSi0HZ0B67LLzly6ce/vYrJPaISyBjDBljxRiwBxEMGU+kBNO8/1IAUBKISqjKQ5ZXQEVCSVJI491y3JAcoeYJIQP7ywv+YcHw4MyejtKJwbgN41UhY2wEGylUhdWHJZgqHLKkvnjfxQD6+nrv/faZvVCfhVdYhbeWeA2eeSfeMTv24S9n59g59rl6D/bKTr1nH/45YU/eqXfM3gszC0QhDXvC3wkH73LvpWd0S310pgTces9agGAigoGIcK7KJDMrclUjpZe+cKfm8bdd+vbzLvzJlTf8QW0MG1lr2UQh1yvIGArrZsMKwgCpNppZAAiVPlhVlJ8crHiy2CgAa+KffmbFTovmNb/vCp0w4IaVG8hEZBMYUhZlDi2wUSXhCOqV/u6Fe7RG+dh/O/6Nr1q34gNXsXMSWRNeH0BExgiITGvB1fBPRTWUqpkqCC2ab4bgyGWLLv6XFcX93aATBtz5GEHJWEtKIizsVQUEqIZyQNBFCwYKsZYu2eGBK999w533nfWp32TsiJwNQ0Cm8fB04XgAUIUCYZBiS/FVVUvv+vvn//dTDyt+1T06YUAuiIwxNgFUxUNcGG0HVEmFiGxSjDPD0Qcuu/fKZX/808Z/OOf79TyDEIQJZA2aSgOYaZYJmKneZ/pIgThOLvngyw/cayt6b3qgEwYQC2JLxkJVxbN4hUBJRENntCcKdffTsvvihXdddiaA/7zhvm9fe98Dj4xlIgQlqAGICKEgtYiuJupJzFH77/i6l7/gkH23Ot2btN2ANRtGCGTIkrWqEmZcVUUJKgxVAfbY+dl2Qk46etlJRy8L4cfXjv7u/kfR8nSNMYasWbJ93x5Ldurvacsynlmn7Qbc8vtRGIKJAKMiGuabVKGiEIICeM1Rm7XAz5Jddpy3y45d7sP89bT9PuDau8cAMjYCSFUQ1hwAGu6PoCA6eNluxWhzhrYb8PD6FMaQjRDuu9grC0KvUVRVACzefqgQa+7QdgNYLIGo8fJsVvFQBlSVVVlBRtt+DVszbf/xyj5M4wJQ7yQsOtPQKxcFrNmsvzjXaK8Bj60bVbIwEZkIKqIM8UH7xsQssO+S4WK0uUR7DfjN/esJ4c13pCrCTmdG31QYwqp63MHtXXizldNeA375wFgYhgOFJ6FZtTEPAxWoEvCyA3ctRptLtNeAlZsAQyaKoAphZdccsGxMyCh2eqb/K++5TXsNYOeViMgqwtyLqAqgyswqCjVbDpnNMdp4J+yZSZXIEllAVbyGcVAFGn3QbbSzBKxdP6ZAeAc5RETCPbCqqszMER64dPbfP/K3RRsNuP7uDUTGNP4HJEVj+R+ggAipKHDsAc8rRptjtNGAX9y3HgAZCxCUlX3oAkm4IYBCcdgBc7oLhLYasGqTAkQ2IkA5TIQpgLBKB6pQ2nOXOd0FQlsNICUQhRZYQqurDFUVURUCwjL/OU4bJWCAyMCYhujNRVEiKixQq+16Kf/fEO0y4L5HN8EQbERkRGXmuR9AVZTDZNjSnYcKseYg7TLg9oc2QBstsKqKNNYiapiHUYHiZS+a6y0w2mfAtXesMWRgLIggHNZuYmYgFKJKeOXBW+9cecdolwGPjkUKmHAPrKrCGpYsqEJUoSS6eIcuLIbd2miXAQA1WmCgMREPgaoqszABZCiKnuFFt3OBthiQZrkSgwxRWAvEOnMPHEakFUoy14fhAm0xYNXaEYRMbsIraRuLQRWqqqQi0N23b+M44N8QbTHg2js2gojsTBeIWbXZBWKIKPCS/efuUpRW2mLAbx8eoXAXBkDCPXAwQKASRoFecejSQqy5SVsMWDXqQiOsyio+zL9DVUUlLIuDLlvauScRt2baYgBABFLQzDSAD7m+MQwHGNrWADRoixCqChARQVnYK3sIFKriRTksjC7GmavMfgm4a+UTAIhIoSKiwoqZxaCqoQXecX5bXoL6t8jsl4A7H/wTs4f1xmUCUs7UewpPcQkDrNAVR+5ejDZXmX0Dbn9kBJKLNx4EKPsMCpBRFmEPUVUc86IlxWhzldk3YH6fYe+NpsK+8RJygMiI9+JzAKS615JFxWhzldlvAw5dthu7xltxOatz2GZ1n9fB3kNMG076t8vsa7H8iD05y/K07rPU55nPUp/XXVZTl3pliP7LafsX48xhZt8AAN/9+HG+PpVXp31a9VmNXcY+Y3YQ6Y3p9a86sBhhDtMWA563ZMfr/u11kcKzb9x8sQCy+6K+3379LcWj5zbtfWPWhpGJj19y43aDPTsv6nnjCQfF2yYAtqC9BmzjGWlLFbSNZ882A7rMNgO6zDYDusw2A7rMNgO6zDYDusx/AbROtHEk3o+WAAAAAElFTkSuQmCC",
         "type": "image",
         "xaxis": "x",
         "yaxis": "y"
        }
       ],
       "layout": {
        "annotations": [
         {
          "align": "left",
          "bgcolor": "#ff7f0e",
          "bordercolor": "#c7c7c7",
          "borderpad": 2,
          "borderwidth": 1,
          "font": {
           "color": "#ffffff",
           "family": "Courier New, monospace",
           "size": 12
          },
          "opacity": 0.8,
          "showarrow": false,
          "text": "Unown: 100%",
          "x": 1,
          "xref": "paper",
          "y": 1,
          "yref": "paper"
         }
        ],
        "height": 350,
        "images": [
         {
          "layer": "below",
          "sizex": 0.3,
          "sizey": 0.3,
          "source": "images/final/Unown/0.png",
          "x": 1,
          "xref": "paper",
          "y": 1.1,
          "yref": "paper"
         }
        ],
        "margin": {
         "l": 0,
         "t": 60
        },
        "shapes": [
         {
          "line": {
           "color": "black",
           "width": 2
          },
          "type": "rect",
          "x0": 0,
          "x1": 128,
          "xref": "x",
          "y0": 0,
          "y1": 128,
          "yref": "y"
         }
        ],
        "template": {
         "data": {
          "bar": [
           {
            "error_x": {
             "color": "#2a3f5f"
            },
            "error_y": {
             "color": "#2a3f5f"
            },
            "marker": {
             "line": {
              "color": "#E5ECF6",
              "width": 0.5
             },
             "pattern": {
              "fillmode": "overlay",
              "size": 10,
              "solidity": 0.2
             }
            },
            "type": "bar"
           }
          ],
          "barpolar": [
           {
            "marker": {
             "line": {
              "color": "#E5ECF6",
              "width": 0.5
             },
             "pattern": {
              "fillmode": "overlay",
              "size": 10,
              "solidity": 0.2
             }
            },
            "type": "barpolar"
           }
          ],
          "carpet": [
           {
            "aaxis": {
             "endlinecolor": "#2a3f5f",
             "gridcolor": "white",
             "linecolor": "white",
             "minorgridcolor": "white",
             "startlinecolor": "#2a3f5f"
            },
            "baxis": {
             "endlinecolor": "#2a3f5f",
             "gridcolor": "white",
             "linecolor": "white",
             "minorgridcolor": "white",
             "startlinecolor": "#2a3f5f"
            },
            "type": "carpet"
           }
          ],
          "choropleth": [
           {
            "colorbar": {
             "outlinewidth": 0,
             "ticks": ""
            },
            "type": "choropleth"
           }
          ],
          "contour": [
           {
            "colorbar": {
             "outlinewidth": 0,
             "ticks": ""
            },
            "colorscale": [
             [
              0,
              "#0d0887"
             ],
             [
              0.1111111111111111,
              "#46039f"
             ],
             [
              0.2222222222222222,
              "#7201a8"
             ],
             [
              0.3333333333333333,
              "#9c179e"
             ],
             [
              0.4444444444444444,
              "#bd3786"
             ],
             [
              0.5555555555555556,
              "#d8576b"
             ],
             [
              0.6666666666666666,
              "#ed7953"
             ],
             [
              0.7777777777777778,
              "#fb9f3a"
             ],
             [
              0.8888888888888888,
              "#fdca26"
             ],
             [
              1,
              "#f0f921"
             ]
            ],
            "type": "contour"
           }
          ],
          "contourcarpet": [
           {
            "colorbar": {
             "outlinewidth": 0,
             "ticks": ""
            },
            "type": "contourcarpet"
           }
          ],
          "heatmap": [
           {
            "colorbar": {
             "outlinewidth": 0,
             "ticks": ""
            },
            "colorscale": [
             [
              0,
              "#0d0887"
             ],
             [
              0.1111111111111111,
              "#46039f"
             ],
             [
              0.2222222222222222,
              "#7201a8"
             ],
             [
              0.3333333333333333,
              "#9c179e"
             ],
             [
              0.4444444444444444,
              "#bd3786"
             ],
             [
              0.5555555555555556,
              "#d8576b"
             ],
             [
              0.6666666666666666,
              "#ed7953"
             ],
             [
              0.7777777777777778,
              "#fb9f3a"
             ],
             [
              0.8888888888888888,
              "#fdca26"
             ],
             [
              1,
              "#f0f921"
             ]
            ],
            "type": "heatmap"
           }
          ],
          "heatmapgl": [
           {
            "colorbar": {
             "outlinewidth": 0,
             "ticks": ""
            },
            "colorscale": [
             [
              0,
              "#0d0887"
             ],
             [
              0.1111111111111111,
              "#46039f"
             ],
             [
              0.2222222222222222,
              "#7201a8"
             ],
             [
              0.3333333333333333,
              "#9c179e"
             ],
             [
              0.4444444444444444,
              "#bd3786"
             ],
             [
              0.5555555555555556,
              "#d8576b"
             ],
             [
              0.6666666666666666,
              "#ed7953"
             ],
             [
              0.7777777777777778,
              "#fb9f3a"
             ],
             [
              0.8888888888888888,
              "#fdca26"
             ],
             [
              1,
              "#f0f921"
             ]
            ],
            "type": "heatmapgl"
           }
          ],
          "histogram": [
           {
            "marker": {
             "pattern": {
              "fillmode": "overlay",
              "size": 10,
              "solidity": 0.2
             }
            },
            "type": "histogram"
           }
          ],
          "histogram2d": [
           {
            "colorbar": {
             "outlinewidth": 0,
             "ticks": ""
            },
            "colorscale": [
             [
              0,
              "#0d0887"
             ],
             [
              0.1111111111111111,
              "#46039f"
             ],
             [
              0.2222222222222222,
              "#7201a8"
             ],
             [
              0.3333333333333333,
              "#9c179e"
             ],
             [
              0.4444444444444444,
              "#bd3786"
             ],
             [
              0.5555555555555556,
              "#d8576b"
             ],
             [
              0.6666666666666666,
              "#ed7953"
             ],
             [
              0.7777777777777778,
              "#fb9f3a"
             ],
             [
              0.8888888888888888,
              "#fdca26"
             ],
             [
              1,
              "#f0f921"
             ]
            ],
            "type": "histogram2d"
           }
          ],
          "histogram2dcontour": [
           {
            "colorbar": {
             "outlinewidth": 0,
             "ticks": ""
            },
            "colorscale": [
             [
              0,
              "#0d0887"
             ],
             [
              0.1111111111111111,
              "#46039f"
             ],
             [
              0.2222222222222222,
              "#7201a8"
             ],
             [
              0.3333333333333333,
              "#9c179e"
             ],
             [
              0.4444444444444444,
              "#bd3786"
             ],
             [
              0.5555555555555556,
              "#d8576b"
             ],
             [
              0.6666666666666666,
              "#ed7953"
             ],
             [
              0.7777777777777778,
              "#fb9f3a"
             ],
             [
              0.8888888888888888,
              "#fdca26"
             ],
             [
              1,
              "#f0f921"
             ]
            ],
            "type": "histogram2dcontour"
           }
          ],
          "mesh3d": [
           {
            "colorbar": {
             "outlinewidth": 0,
             "ticks": ""
            },
            "type": "mesh3d"
           }
          ],
          "parcoords": [
           {
            "line": {
             "colorbar": {
              "outlinewidth": 0,
              "ticks": ""
             }
            },
            "type": "parcoords"
           }
          ],
          "pie": [
           {
            "automargin": true,
            "type": "pie"
           }
          ],
          "scatter": [
           {
            "fillpattern": {
             "fillmode": "overlay",
             "size": 10,
             "solidity": 0.2
            },
            "type": "scatter"
           }
          ],
          "scatter3d": [
           {
            "line": {
             "colorbar": {
              "outlinewidth": 0,
              "ticks": ""
             }
            },
            "marker": {
             "colorbar": {
              "outlinewidth": 0,
              "ticks": ""
             }
            },
            "type": "scatter3d"
           }
          ],
          "scattercarpet": [
           {
            "marker": {
             "colorbar": {
              "outlinewidth": 0,
              "ticks": ""
             }
            },
            "type": "scattercarpet"
           }
          ],
          "scattergeo": [
           {
            "marker": {
             "colorbar": {
              "outlinewidth": 0,
              "ticks": ""
             }
            },
            "type": "scattergeo"
           }
          ],
          "scattergl": [
           {
            "marker": {
             "colorbar": {
              "outlinewidth": 0,
              "ticks": ""
             }
            },
            "type": "scattergl"
           }
          ],
          "scattermapbox": [
           {
            "marker": {
             "colorbar": {
              "outlinewidth": 0,
              "ticks": ""
             }
            },
            "type": "scattermapbox"
           }
          ],
          "scatterpolar": [
           {
            "marker": {
             "colorbar": {
              "outlinewidth": 0,
              "ticks": ""
             }
            },
            "type": "scatterpolar"
           }
          ],
          "scatterpolargl": [
           {
            "marker": {
             "colorbar": {
              "outlinewidth": 0,
              "ticks": ""
             }
            },
            "type": "scatterpolargl"
           }
          ],
          "scatterternary": [
           {
            "marker": {
             "colorbar": {
              "outlinewidth": 0,
              "ticks": ""
             }
            },
            "type": "scatterternary"
           }
          ],
          "surface": [
           {
            "colorbar": {
             "outlinewidth": 0,
             "ticks": ""
            },
            "colorscale": [
             [
              0,
              "#0d0887"
             ],
             [
              0.1111111111111111,
              "#46039f"
             ],
             [
              0.2222222222222222,
              "#7201a8"
             ],
             [
              0.3333333333333333,
              "#9c179e"
             ],
             [
              0.4444444444444444,
              "#bd3786"
             ],
             [
              0.5555555555555556,
              "#d8576b"
             ],
             [
              0.6666666666666666,
              "#ed7953"
             ],
             [
              0.7777777777777778,
              "#fb9f3a"
             ],
             [
              0.8888888888888888,
              "#fdca26"
             ],
             [
              1,
              "#f0f921"
             ]
            ],
            "type": "surface"
           }
          ],
          "table": [
           {
            "cells": {
             "fill": {
              "color": "#EBF0F8"
             },
             "line": {
              "color": "white"
             }
            },
            "header": {
             "fill": {
              "color": "#C8D4E3"
             },
             "line": {
              "color": "white"
             }
            },
            "type": "table"
           }
          ]
         },
         "layout": {
          "annotationdefaults": {
           "arrowcolor": "#2a3f5f",
           "arrowhead": 0,
           "arrowwidth": 1
          },
          "autotypenumbers": "strict",
          "coloraxis": {
           "colorbar": {
            "outlinewidth": 0,
            "ticks": ""
           }
          },
          "colorscale": {
           "diverging": [
            [
             0,
             "#8e0152"
            ],
            [
             0.1,
             "#c51b7d"
            ],
            [
             0.2,
             "#de77ae"
            ],
            [
             0.3,
             "#f1b6da"
            ],
            [
             0.4,
             "#fde0ef"
            ],
            [
             0.5,
             "#f7f7f7"
            ],
            [
             0.6,
             "#e6f5d0"
            ],
            [
             0.7,
             "#b8e186"
            ],
            [
             0.8,
             "#7fbc41"
            ],
            [
             0.9,
             "#4d9221"
            ],
            [
             1,
             "#276419"
            ]
           ],
           "sequential": [
            [
             0,
             "#0d0887"
            ],
            [
             0.1111111111111111,
             "#46039f"
            ],
            [
             0.2222222222222222,
             "#7201a8"
            ],
            [
             0.3333333333333333,
             "#9c179e"
            ],
            [
             0.4444444444444444,
             "#bd3786"
            ],
            [
             0.5555555555555556,
             "#d8576b"
            ],
            [
             0.6666666666666666,
             "#ed7953"
            ],
            [
             0.7777777777777778,
             "#fb9f3a"
            ],
            [
             0.8888888888888888,
             "#fdca26"
            ],
            [
             1,
             "#f0f921"
            ]
           ],
           "sequentialminus": [
            [
             0,
             "#0d0887"
            ],
            [
             0.1111111111111111,
             "#46039f"
            ],
            [
             0.2222222222222222,
             "#7201a8"
            ],
            [
             0.3333333333333333,
             "#9c179e"
            ],
            [
             0.4444444444444444,
             "#bd3786"
            ],
            [
             0.5555555555555556,
             "#d8576b"
            ],
            [
             0.6666666666666666,
             "#ed7953"
            ],
            [
             0.7777777777777778,
             "#fb9f3a"
            ],
            [
             0.8888888888888888,
             "#fdca26"
            ],
            [
             1,
             "#f0f921"
            ]
           ]
          },
          "colorway": [
           "#636efa",
           "#EF553B",
           "#00cc96",
           "#ab63fa",
           "#FFA15A",
           "#19d3f3",
           "#FF6692",
           "#B6E880",
           "#FF97FF",
           "#FECB52"
          ],
          "font": {
           "color": "#2a3f5f"
          },
          "geo": {
           "bgcolor": "white",
           "lakecolor": "white",
           "landcolor": "#E5ECF6",
           "showlakes": true,
           "showland": true,
           "subunitcolor": "white"
          },
          "hoverlabel": {
           "align": "left"
          },
          "hovermode": "closest",
          "mapbox": {
           "style": "light"
          },
          "paper_bgcolor": "white",
          "plot_bgcolor": "#E5ECF6",
          "polar": {
           "angularaxis": {
            "gridcolor": "white",
            "linecolor": "white",
            "ticks": ""
           },
           "bgcolor": "#E5ECF6",
           "radialaxis": {
            "gridcolor": "white",
            "linecolor": "white",
            "ticks": ""
           }
          },
          "scene": {
           "xaxis": {
            "backgroundcolor": "#E5ECF6",
            "gridcolor": "white",
            "gridwidth": 2,
            "linecolor": "white",
            "showbackground": true,
            "ticks": "",
            "zerolinecolor": "white"
           },
           "yaxis": {
            "backgroundcolor": "#E5ECF6",
            "gridcolor": "white",
            "gridwidth": 2,
            "linecolor": "white",
            "showbackground": true,
            "ticks": "",
            "zerolinecolor": "white"
           },
           "zaxis": {
            "backgroundcolor": "#E5ECF6",
            "gridcolor": "white",
            "gridwidth": 2,
            "linecolor": "white",
            "showbackground": true,
            "ticks": "",
            "zerolinecolor": "white"
           }
          },
          "shapedefaults": {
           "line": {
            "color": "#2a3f5f"
           }
          },
          "ternary": {
           "aaxis": {
            "gridcolor": "white",
            "linecolor": "white",
            "ticks": ""
           },
           "baxis": {
            "gridcolor": "white",
            "linecolor": "white",
            "ticks": ""
           },
           "bgcolor": "#E5ECF6",
           "caxis": {
            "gridcolor": "white",
            "linecolor": "white",
            "ticks": ""
           }
          },
          "title": {
           "x": 0.05
          },
          "xaxis": {
           "automargin": true,
           "gridcolor": "white",
           "linecolor": "white",
           "ticks": "",
           "title": {
            "standoff": 15
           },
           "zerolinecolor": "white",
           "zerolinewidth": 2
          },
          "yaxis": {
           "automargin": true,
           "gridcolor": "white",
           "linecolor": "white",
           "ticks": "",
           "title": {
            "standoff": 15
           },
           "zerolinecolor": "white",
           "zerolinewidth": 2
          }
         }
        },
        "title": {
         "text": "Label: Unown"
        },
        "width": 500,
        "xaxis": {
         "anchor": "y",
         "domain": [
          0,
          1
         ],
         "showgrid": false,
         "showticklabels": false,
         "visible": false,
         "zeroline": false
        },
        "yaxis": {
         "anchor": "x",
         "domain": [
          0,
          1
         ],
         "showgrid": false,
         "showticklabels": false,
         "visible": false,
         "zeroline": false
        }
       }
      }
     },
     "metadata": {},
     "output_type": "display_data"
    }
   ],
   "source": [
    "for image, label in val_ds.take(1):\n",
    "    for i in range(10):\n",
    "        plot_image(image[i], class_names[int(tf.argmax(tf.reshape(label[i], (-1, 1))))], top_k(y_pred_eff[i], k=5))\n",
    "        plot_image(image[i], class_names[int(tf.argmax(tf.reshape(label[i], (-1, 1))))], top_k(y_pred_cnn[i], k=5))\n",
    "        "
   ]
  },
  {
   "attachments": {},
   "cell_type": "markdown",
   "metadata": {},
   "source": [
    "### charmander test"
   ]
  },
  {
   "cell_type": "code",
   "execution_count": 140,
   "metadata": {},
   "outputs": [
    {
     "name": "stdout",
     "output_type": "stream",
     "text": [
      "(1, 128, 128, 3)\n"
     ]
    }
   ],
   "source": [
    "# load images/test/charmander.png to test\n",
    "test_image = tf.keras.preprocessing.image.load_img('images/test/charmander.png', color_mode='rgba', target_size=image_size)\n",
    "test_image = tf.keras.preprocessing.image.img_to_array(test_image)\n",
    "test_image = tf.expand_dims(test_image, axis=0)\n",
    "test_image = preprocess_image(test_image)\n",
    "print(test_image.shape)"
   ]
  },
  {
   "cell_type": "code",
   "execution_count": 147,
   "metadata": {},
   "outputs": [
    {
     "name": "stdout",
     "output_type": "stream",
     "text": [
      "1/1 [==============================] - 0s 55ms/step\n"
     ]
    }
   ],
   "source": [
    "pred = model.predict(test_image)"
   ]
  },
  {
   "cell_type": "code",
   "execution_count": 159,
   "metadata": {},
   "outputs": [
    {
     "data": {
      "text/plain": [
       "{'Scraggy': 0.51, 'Charmander': 0.26, 'Buizel': 0.12}"
      ]
     },
     "execution_count": 159,
     "metadata": {},
     "output_type": "execute_result"
    }
   ],
   "source": [
    "top_k(pred[0], k=5)"
   ]
  },
  {
   "cell_type": "code",
   "execution_count": 169,
   "metadata": {},
   "outputs": [
    {
     "data": {
      "application/vnd.plotly.v1+json": {
       "config": {
        "plotlyServerURL": "https://plot.ly"
       },
       "data": [
        {
         "hovertemplate": "x: %{x}<br>y: %{y}<br>color: [%{z[0]}, %{z[1]}, %{z[2]}]<extra></extra>",
         "name": "0",
         "source": "data:image/png;base64,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",
         "type": "image",
         "xaxis": "x",
         "yaxis": "y"
        }
       ],
       "layout": {
        "annotations": [
         {
          "align": "left",
          "bgcolor": "#ff7f0e",
          "bordercolor": "#c7c7c7",
          "borderpad": 2,
          "borderwidth": 1,
          "clicktoshow": "onoff",
          "font": {
           "color": "#ffffff",
           "family": "Courier New, monospace",
           "size": 10
          },
          "opacity": 0.8,
          "showarrow": false,
          "text": "Scraggy: 0.51",
          "x": 1,
          "xref": "paper",
          "y": 1,
          "yref": "paper"
         },
         {
          "align": "left",
          "bgcolor": "#ff7f0e",
          "bordercolor": "#c7c7c7",
          "borderpad": 2,
          "borderwidth": 1,
          "clicktoshow": "onoff",
          "font": {
           "color": "#ffffff",
           "family": "Courier New, monospace",
           "size": 10
          },
          "opacity": 0.8,
          "showarrow": false,
          "text": "Charmander: 0.26",
          "x": 1,
          "xref": "paper",
          "y": 0.85,
          "yref": "paper"
         },
         {
          "align": "left",
          "bgcolor": "#ff7f0e",
          "bordercolor": "#c7c7c7",
          "borderpad": 2,
          "borderwidth": 1,
          "clicktoshow": "onoff",
          "font": {
           "color": "#ffffff",
           "family": "Courier New, monospace",
           "size": 10
          },
          "opacity": 0.8,
          "showarrow": false,
          "text": "Buizel: 0.12",
          "x": 1,
          "xref": "paper",
          "y": 0.7,
          "yref": "paper"
         }
        ],
        "height": 300,
        "margin": {
         "t": 60
        },
        "template": {
         "data": {
          "bar": [
           {
            "error_x": {
             "color": "#2a3f5f"
            },
            "error_y": {
             "color": "#2a3f5f"
            },
            "marker": {
             "line": {
              "color": "#E5ECF6",
              "width": 0.5
             },
             "pattern": {
              "fillmode": "overlay",
              "size": 10,
              "solidity": 0.2
             }
            },
            "type": "bar"
           }
          ],
          "barpolar": [
           {
            "marker": {
             "line": {
              "color": "#E5ECF6",
              "width": 0.5
             },
             "pattern": {
              "fillmode": "overlay",
              "size": 10,
              "solidity": 0.2
             }
            },
            "type": "barpolar"
           }
          ],
          "carpet": [
           {
            "aaxis": {
             "endlinecolor": "#2a3f5f",
             "gridcolor": "white",
             "linecolor": "white",
             "minorgridcolor": "white",
             "startlinecolor": "#2a3f5f"
            },
            "baxis": {
             "endlinecolor": "#2a3f5f",
             "gridcolor": "white",
             "linecolor": "white",
             "minorgridcolor": "white",
             "startlinecolor": "#2a3f5f"
            },
            "type": "carpet"
           }
          ],
          "choropleth": [
           {
            "colorbar": {
             "outlinewidth": 0,
             "ticks": ""
            },
            "type": "choropleth"
           }
          ],
          "contour": [
           {
            "colorbar": {
             "outlinewidth": 0,
             "ticks": ""
            },
            "colorscale": [
             [
              0,
              "#0d0887"
             ],
             [
              0.1111111111111111,
              "#46039f"
             ],
             [
              0.2222222222222222,
              "#7201a8"
             ],
             [
              0.3333333333333333,
              "#9c179e"
             ],
             [
              0.4444444444444444,
              "#bd3786"
             ],
             [
              0.5555555555555556,
              "#d8576b"
             ],
             [
              0.6666666666666666,
              "#ed7953"
             ],
             [
              0.7777777777777778,
              "#fb9f3a"
             ],
             [
              0.8888888888888888,
              "#fdca26"
             ],
             [
              1,
              "#f0f921"
             ]
            ],
            "type": "contour"
           }
          ],
          "contourcarpet": [
           {
            "colorbar": {
             "outlinewidth": 0,
             "ticks": ""
            },
            "type": "contourcarpet"
           }
          ],
          "heatmap": [
           {
            "colorbar": {
             "outlinewidth": 0,
             "ticks": ""
            },
            "colorscale": [
             [
              0,
              "#0d0887"
             ],
             [
              0.1111111111111111,
              "#46039f"
             ],
             [
              0.2222222222222222,
              "#7201a8"
             ],
             [
              0.3333333333333333,
              "#9c179e"
             ],
             [
              0.4444444444444444,
              "#bd3786"
             ],
             [
              0.5555555555555556,
              "#d8576b"
             ],
             [
              0.6666666666666666,
              "#ed7953"
             ],
             [
              0.7777777777777778,
              "#fb9f3a"
             ],
             [
              0.8888888888888888,
              "#fdca26"
             ],
             [
              1,
              "#f0f921"
             ]
            ],
            "type": "heatmap"
           }
          ],
          "heatmapgl": [
           {
            "colorbar": {
             "outlinewidth": 0,
             "ticks": ""
            },
            "colorscale": [
             [
              0,
              "#0d0887"
             ],
             [
              0.1111111111111111,
              "#46039f"
             ],
             [
              0.2222222222222222,
              "#7201a8"
             ],
             [
              0.3333333333333333,
              "#9c179e"
             ],
             [
              0.4444444444444444,
              "#bd3786"
             ],
             [
              0.5555555555555556,
              "#d8576b"
             ],
             [
              0.6666666666666666,
              "#ed7953"
             ],
             [
              0.7777777777777778,
              "#fb9f3a"
             ],
             [
              0.8888888888888888,
              "#fdca26"
             ],
             [
              1,
              "#f0f921"
             ]
            ],
            "type": "heatmapgl"
           }
          ],
          "histogram": [
           {
            "marker": {
             "pattern": {
              "fillmode": "overlay",
              "size": 10,
              "solidity": 0.2
             }
            },
            "type": "histogram"
           }
          ],
          "histogram2d": [
           {
            "colorbar": {
             "outlinewidth": 0,
             "ticks": ""
            },
            "colorscale": [
             [
              0,
              "#0d0887"
             ],
             [
              0.1111111111111111,
              "#46039f"
             ],
             [
              0.2222222222222222,
              "#7201a8"
             ],
             [
              0.3333333333333333,
              "#9c179e"
             ],
             [
              0.4444444444444444,
              "#bd3786"
             ],
             [
              0.5555555555555556,
              "#d8576b"
             ],
             [
              0.6666666666666666,
              "#ed7953"
             ],
             [
              0.7777777777777778,
              "#fb9f3a"
             ],
             [
              0.8888888888888888,
              "#fdca26"
             ],
             [
              1,
              "#f0f921"
             ]
            ],
            "type": "histogram2d"
           }
          ],
          "histogram2dcontour": [
           {
            "colorbar": {
             "outlinewidth": 0,
             "ticks": ""
            },
            "colorscale": [
             [
              0,
              "#0d0887"
             ],
             [
              0.1111111111111111,
              "#46039f"
             ],
             [
              0.2222222222222222,
              "#7201a8"
             ],
             [
              0.3333333333333333,
              "#9c179e"
             ],
             [
              0.4444444444444444,
              "#bd3786"
             ],
             [
              0.5555555555555556,
              "#d8576b"
             ],
             [
              0.6666666666666666,
              "#ed7953"
             ],
             [
              0.7777777777777778,
              "#fb9f3a"
             ],
             [
              0.8888888888888888,
              "#fdca26"
             ],
             [
              1,
              "#f0f921"
             ]
            ],
            "type": "histogram2dcontour"
           }
          ],
          "mesh3d": [
           {
            "colorbar": {
             "outlinewidth": 0,
             "ticks": ""
            },
            "type": "mesh3d"
           }
          ],
          "parcoords": [
           {
            "line": {
             "colorbar": {
              "outlinewidth": 0,
              "ticks": ""
             }
            },
            "type": "parcoords"
           }
          ],
          "pie": [
           {
            "automargin": true,
            "type": "pie"
           }
          ],
          "scatter": [
           {
            "fillpattern": {
             "fillmode": "overlay",
             "size": 10,
             "solidity": 0.2
            },
            "type": "scatter"
           }
          ],
          "scatter3d": [
           {
            "line": {
             "colorbar": {
              "outlinewidth": 0,
              "ticks": ""
             }
            },
            "marker": {
             "colorbar": {
              "outlinewidth": 0,
              "ticks": ""
             }
            },
            "type": "scatter3d"
           }
          ],
          "scattercarpet": [
           {
            "marker": {
             "colorbar": {
              "outlinewidth": 0,
              "ticks": ""
             }
            },
            "type": "scattercarpet"
           }
          ],
          "scattergeo": [
           {
            "marker": {
             "colorbar": {
              "outlinewidth": 0,
              "ticks": ""
             }
            },
            "type": "scattergeo"
           }
          ],
          "scattergl": [
           {
            "marker": {
             "colorbar": {
              "outlinewidth": 0,
              "ticks": ""
             }
            },
            "type": "scattergl"
           }
          ],
          "scattermapbox": [
           {
            "marker": {
             "colorbar": {
              "outlinewidth": 0,
              "ticks": ""
             }
            },
            "type": "scattermapbox"
           }
          ],
          "scatterpolar": [
           {
            "marker": {
             "colorbar": {
              "outlinewidth": 0,
              "ticks": ""
             }
            },
            "type": "scatterpolar"
           }
          ],
          "scatterpolargl": [
           {
            "marker": {
             "colorbar": {
              "outlinewidth": 0,
              "ticks": ""
             }
            },
            "type": "scatterpolargl"
           }
          ],
          "scatterternary": [
           {
            "marker": {
             "colorbar": {
              "outlinewidth": 0,
              "ticks": ""
             }
            },
            "type": "scatterternary"
           }
          ],
          "surface": [
           {
            "colorbar": {
             "outlinewidth": 0,
             "ticks": ""
            },
            "colorscale": [
             [
              0,
              "#0d0887"
             ],
             [
              0.1111111111111111,
              "#46039f"
             ],
             [
              0.2222222222222222,
              "#7201a8"
             ],
             [
              0.3333333333333333,
              "#9c179e"
             ],
             [
              0.4444444444444444,
              "#bd3786"
             ],
             [
              0.5555555555555556,
              "#d8576b"
             ],
             [
              0.6666666666666666,
              "#ed7953"
             ],
             [
              0.7777777777777778,
              "#fb9f3a"
             ],
             [
              0.8888888888888888,
              "#fdca26"
             ],
             [
              1,
              "#f0f921"
             ]
            ],
            "type": "surface"
           }
          ],
          "table": [
           {
            "cells": {
             "fill": {
              "color": "#EBF0F8"
             },
             "line": {
              "color": "white"
             }
            },
            "header": {
             "fill": {
              "color": "#C8D4E3"
             },
             "line": {
              "color": "white"
             }
            },
            "type": "table"
           }
          ]
         },
         "layout": {
          "annotationdefaults": {
           "arrowcolor": "#2a3f5f",
           "arrowhead": 0,
           "arrowwidth": 1
          },
          "autotypenumbers": "strict",
          "coloraxis": {
           "colorbar": {
            "outlinewidth": 0,
            "ticks": ""
           }
          },
          "colorscale": {
           "diverging": [
            [
             0,
             "#8e0152"
            ],
            [
             0.1,
             "#c51b7d"
            ],
            [
             0.2,
             "#de77ae"
            ],
            [
             0.3,
             "#f1b6da"
            ],
            [
             0.4,
             "#fde0ef"
            ],
            [
             0.5,
             "#f7f7f7"
            ],
            [
             0.6,
             "#e6f5d0"
            ],
            [
             0.7,
             "#b8e186"
            ],
            [
             0.8,
             "#7fbc41"
            ],
            [
             0.9,
             "#4d9221"
            ],
            [
             1,
             "#276419"
            ]
           ],
           "sequential": [
            [
             0,
             "#0d0887"
            ],
            [
             0.1111111111111111,
             "#46039f"
            ],
            [
             0.2222222222222222,
             "#7201a8"
            ],
            [
             0.3333333333333333,
             "#9c179e"
            ],
            [
             0.4444444444444444,
             "#bd3786"
            ],
            [
             0.5555555555555556,
             "#d8576b"
            ],
            [
             0.6666666666666666,
             "#ed7953"
            ],
            [
             0.7777777777777778,
             "#fb9f3a"
            ],
            [
             0.8888888888888888,
             "#fdca26"
            ],
            [
             1,
             "#f0f921"
            ]
           ],
           "sequentialminus": [
            [
             0,
             "#0d0887"
            ],
            [
             0.1111111111111111,
             "#46039f"
            ],
            [
             0.2222222222222222,
             "#7201a8"
            ],
            [
             0.3333333333333333,
             "#9c179e"
            ],
            [
             0.4444444444444444,
             "#bd3786"
            ],
            [
             0.5555555555555556,
             "#d8576b"
            ],
            [
             0.6666666666666666,
             "#ed7953"
            ],
            [
             0.7777777777777778,
             "#fb9f3a"
            ],
            [
             0.8888888888888888,
             "#fdca26"
            ],
            [
             1,
             "#f0f921"
            ]
           ]
          },
          "colorway": [
           "#636efa",
           "#EF553B",
           "#00cc96",
           "#ab63fa",
           "#FFA15A",
           "#19d3f3",
           "#FF6692",
           "#B6E880",
           "#FF97FF",
           "#FECB52"
          ],
          "font": {
           "color": "#2a3f5f"
          },
          "geo": {
           "bgcolor": "white",
           "lakecolor": "white",
           "landcolor": "#E5ECF6",
           "showlakes": true,
           "showland": true,
           "subunitcolor": "white"
          },
          "hoverlabel": {
           "align": "left"
          },
          "hovermode": "closest",
          "mapbox": {
           "style": "light"
          },
          "paper_bgcolor": "white",
          "plot_bgcolor": "#E5ECF6",
          "polar": {
           "angularaxis": {
            "gridcolor": "white",
            "linecolor": "white",
            "ticks": ""
           },
           "bgcolor": "#E5ECF6",
           "radialaxis": {
            "gridcolor": "white",
            "linecolor": "white",
            "ticks": ""
           }
          },
          "scene": {
           "xaxis": {
            "backgroundcolor": "#E5ECF6",
            "gridcolor": "white",
            "gridwidth": 2,
            "linecolor": "white",
            "showbackground": true,
            "ticks": "",
            "zerolinecolor": "white"
           },
           "yaxis": {
            "backgroundcolor": "#E5ECF6",
            "gridcolor": "white",
            "gridwidth": 2,
            "linecolor": "white",
            "showbackground": true,
            "ticks": "",
            "zerolinecolor": "white"
           },
           "zaxis": {
            "backgroundcolor": "#E5ECF6",
            "gridcolor": "white",
            "gridwidth": 2,
            "linecolor": "white",
            "showbackground": true,
            "ticks": "",
            "zerolinecolor": "white"
           }
          },
          "shapedefaults": {
           "line": {
            "color": "#2a3f5f"
           }
          },
          "ternary": {
           "aaxis": {
            "gridcolor": "white",
            "linecolor": "white",
            "ticks": ""
           },
           "baxis": {
            "gridcolor": "white",
            "linecolor": "white",
            "ticks": ""
           },
           "bgcolor": "#E5ECF6",
           "caxis": {
            "gridcolor": "white",
            "linecolor": "white",
            "ticks": ""
           }
          },
          "title": {
           "x": 0.05
          },
          "xaxis": {
           "automargin": true,
           "gridcolor": "white",
           "linecolor": "white",
           "ticks": "",
           "title": {
            "standoff": 15
           },
           "zerolinecolor": "white",
           "zerolinewidth": 2
          },
          "yaxis": {
           "automargin": true,
           "gridcolor": "white",
           "linecolor": "white",
           "ticks": "",
           "title": {
            "standoff": 15
           },
           "zerolinecolor": "white",
           "zerolinewidth": 2
          }
         }
        },
        "title": {
         "text": "Label: Charmander"
        },
        "width": 300,
        "xaxis": {
         "anchor": "y",
         "domain": [
          0,
          1
         ]
        },
        "yaxis": {
         "anchor": "x",
         "domain": [
          0,
          1
         ]
        }
       }
      }
     },
     "metadata": {},
     "output_type": "display_data"
    }
   ],
   "source": [
    "plot_image(test_image[0], \"Charmander\", top_k(pred[0], k=5))"
   ]
  },
  {
   "cell_type": "code",
   "execution_count": null,
   "metadata": {},
   "outputs": [],
   "source": []
  }
 ],
 "metadata": {
  "kernelspec": {
   "display_name": "Python 3.10.6 64-bit",
   "language": "python",
   "name": "python3"
  },
  "language_info": {
   "codemirror_mode": {
    "name": "ipython",
    "version": 3
   },
   "file_extension": ".py",
   "mimetype": "text/x-python",
   "name": "python",
   "nbconvert_exporter": "python",
   "pygments_lexer": "ipython3",
   "version": "3.10.6"
  },
  "orig_nbformat": 4,
  "vscode": {
   "interpreter": {
    "hash": "837c519a48be08d8749c778cb72b9b5aac116a087aa5d1d99ee0359dceff73e6"
   }
  }
 },
 "nbformat": 4,
 "nbformat_minor": 2
}
