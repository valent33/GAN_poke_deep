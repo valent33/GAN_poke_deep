{
 "cells": [
  {
   "cell_type": "code",
   "execution_count": 1,
   "metadata": {},
   "outputs": [],
   "source": [
    "import tensorflow as tf\n",
    "import plotly.express as px"
   ]
  },
  {
   "cell_type": "code",
   "execution_count": 2,
   "metadata": {},
   "outputs": [],
   "source": [
    "directory = 'images/final/'\n",
    "width = 128\n",
    "height = 128\n",
    "channels = 3\n",
    "image_size = (width, height)\n",
    "input_shape = (width, height, channels)\n",
    "batch_size = 32"
   ]
  },
  {
   "cell_type": "code",
   "execution_count": 3,
   "metadata": {},
   "outputs": [],
   "source": [
    "def plot_images(images, labels):\n",
    "    fig = px.imshow(images, width=width, height=height)\n",
    "    fig.update_layout(\n",
    "        title=f\"Label: {labels}\",\n",
    "        width=300,\n",
    "        height=300,\n",
    "    )\n",
    "    fig.show()"
   ]
  },
  {
   "cell_type": "code",
   "execution_count": 68,
   "metadata": {},
   "outputs": [],
   "source": [
    "def plot_n_images(ds, n):\n",
    "    for image, label in ds.take(1):\n",
    "        for i in range(n):\n",
    "            print(image[i][0][0])\n",
    "            print(image[i].shape)\n",
    "            plot_images(image[i], class_names[int(tf.argmax(tf.reshape(label[i], [-1, 1]), axis=0))])"
   ]
  },
  {
   "cell_type": "code",
   "execution_count": 87,
   "metadata": {},
   "outputs": [
    {
     "name": "stdout",
     "output_type": "stream",
     "text": [
      "Found 13894 files belonging to 905 classes.\n",
      "Using 11116 files for training.\n",
      "Using 2778 files for validation.\n"
     ]
    }
   ],
   "source": [
    "train_ds, val_ds = tf.keras.preprocessing.image_dataset_from_directory(\n",
    "    directory,\n",
    "    batch_size=batch_size,\n",
    "    validation_split=0.2,\n",
    "    subset=\"both\",\n",
    "    labels=\"inferred\",\n",
    "    label_mode=\"categorical\",\n",
    "    image_size=image_size,\n",
    "    crop_to_aspect_ratio=True,\n",
    "    interpolation=\"bilinear\",\n",
    "    color_mode=\"rgba\",\n",
    "    shuffle=True,\n",
    "    seed=905,\n",
    ")\n",
    "\n",
    "class_names = train_ds.class_names"
   ]
  },
  {
   "cell_type": "code",
   "execution_count": 88,
   "metadata": {},
   "outputs": [
    {
     "name": "stdout",
     "output_type": "stream",
     "text": [
      "tf.Tensor([0. 0. 0. 0.], shape=(4,), dtype=float32)\n",
      "(128, 128, 4)\n"
     ]
    },
    {
     "data": {
      "application/vnd.plotly.v1+json": {
       "config": {
        "plotlyServerURL": "https://plot.ly"
       },
       "data": [
        {
         "hovertemplate": "x: %{x}<br>y: %{y}<extra></extra>",
         "name": "0",
         "source": "data:image/png;base64,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",
         "type": "image",
         "xaxis": "x",
         "yaxis": "y"
        }
       ],
       "layout": {
        "height": 300,
        "margin": {
         "t": 60
        },
        "template": {
         "data": {
          "bar": [
           {
            "error_x": {
             "color": "#2a3f5f"
            },
            "error_y": {
             "color": "#2a3f5f"
            },
            "marker": {
             "line": {
              "color": "#E5ECF6",
              "width": 0.5
             },
             "pattern": {
              "fillmode": "overlay",
              "size": 10,
              "solidity": 0.2
             }
            },
            "type": "bar"
           }
          ],
          "barpolar": [
           {
            "marker": {
             "line": {
              "color": "#E5ECF6",
              "width": 0.5
             },
             "pattern": {
              "fillmode": "overlay",
              "size": 10,
              "solidity": 0.2
             }
            },
            "type": "barpolar"
           }
          ],
          "carpet": [
           {
            "aaxis": {
             "endlinecolor": "#2a3f5f",
             "gridcolor": "white",
             "linecolor": "white",
             "minorgridcolor": "white",
             "startlinecolor": "#2a3f5f"
            },
            "baxis": {
             "endlinecolor": "#2a3f5f",
             "gridcolor": "white",
             "linecolor": "white",
             "minorgridcolor": "white",
             "startlinecolor": "#2a3f5f"
            },
            "type": "carpet"
           }
          ],
          "choropleth": [
           {
            "colorbar": {
             "outlinewidth": 0,
             "ticks": ""
            },
            "type": "choropleth"
           }
          ],
          "contour": [
           {
            "colorbar": {
             "outlinewidth": 0,
             "ticks": ""
            },
            "colorscale": [
             [
              0,
              "#0d0887"
             ],
             [
              0.1111111111111111,
              "#46039f"
             ],
             [
              0.2222222222222222,
              "#7201a8"
             ],
             [
              0.3333333333333333,
              "#9c179e"
             ],
             [
              0.4444444444444444,
              "#bd3786"
             ],
             [
              0.5555555555555556,
              "#d8576b"
             ],
             [
              0.6666666666666666,
              "#ed7953"
             ],
             [
              0.7777777777777778,
              "#fb9f3a"
             ],
             [
              0.8888888888888888,
              "#fdca26"
             ],
             [
              1,
              "#f0f921"
             ]
            ],
            "type": "contour"
           }
          ],
          "contourcarpet": [
           {
            "colorbar": {
             "outlinewidth": 0,
             "ticks": ""
            },
            "type": "contourcarpet"
           }
          ],
          "heatmap": [
           {
            "colorbar": {
             "outlinewidth": 0,
             "ticks": ""
            },
            "colorscale": [
             [
              0,
              "#0d0887"
             ],
             [
              0.1111111111111111,
              "#46039f"
             ],
             [
              0.2222222222222222,
              "#7201a8"
             ],
             [
              0.3333333333333333,
              "#9c179e"
             ],
             [
              0.4444444444444444,
              "#bd3786"
             ],
             [
              0.5555555555555556,
              "#d8576b"
             ],
             [
              0.6666666666666666,
              "#ed7953"
             ],
             [
              0.7777777777777778,
              "#fb9f3a"
             ],
             [
              0.8888888888888888,
              "#fdca26"
             ],
             [
              1,
              "#f0f921"
             ]
            ],
            "type": "heatmap"
           }
          ],
          "heatmapgl": [
           {
            "colorbar": {
             "outlinewidth": 0,
             "ticks": ""
            },
            "colorscale": [
             [
              0,
              "#0d0887"
             ],
             [
              0.1111111111111111,
              "#46039f"
             ],
             [
              0.2222222222222222,
              "#7201a8"
             ],
             [
              0.3333333333333333,
              "#9c179e"
             ],
             [
              0.4444444444444444,
              "#bd3786"
             ],
             [
              0.5555555555555556,
              "#d8576b"
             ],
             [
              0.6666666666666666,
              "#ed7953"
             ],
             [
              0.7777777777777778,
              "#fb9f3a"
             ],
             [
              0.8888888888888888,
              "#fdca26"
             ],
             [
              1,
              "#f0f921"
             ]
            ],
            "type": "heatmapgl"
           }
          ],
          "histogram": [
           {
            "marker": {
             "pattern": {
              "fillmode": "overlay",
              "size": 10,
              "solidity": 0.2
             }
            },
            "type": "histogram"
           }
          ],
          "histogram2d": [
           {
            "colorbar": {
             "outlinewidth": 0,
             "ticks": ""
            },
            "colorscale": [
             [
              0,
              "#0d0887"
             ],
             [
              0.1111111111111111,
              "#46039f"
             ],
             [
              0.2222222222222222,
              "#7201a8"
             ],
             [
              0.3333333333333333,
              "#9c179e"
             ],
             [
              0.4444444444444444,
              "#bd3786"
             ],
             [
              0.5555555555555556,
              "#d8576b"
             ],
             [
              0.6666666666666666,
              "#ed7953"
             ],
             [
              0.7777777777777778,
              "#fb9f3a"
             ],
             [
              0.8888888888888888,
              "#fdca26"
             ],
             [
              1,
              "#f0f921"
             ]
            ],
            "type": "histogram2d"
           }
          ],
          "histogram2dcontour": [
           {
            "colorbar": {
             "outlinewidth": 0,
             "ticks": ""
            },
            "colorscale": [
             [
              0,
              "#0d0887"
             ],
             [
              0.1111111111111111,
              "#46039f"
             ],
             [
              0.2222222222222222,
              "#7201a8"
             ],
             [
              0.3333333333333333,
              "#9c179e"
             ],
             [
              0.4444444444444444,
              "#bd3786"
             ],
             [
              0.5555555555555556,
              "#d8576b"
             ],
             [
              0.6666666666666666,
              "#ed7953"
             ],
             [
              0.7777777777777778,
              "#fb9f3a"
             ],
             [
              0.8888888888888888,
              "#fdca26"
             ],
             [
              1,
              "#f0f921"
             ]
            ],
            "type": "histogram2dcontour"
           }
          ],
          "mesh3d": [
           {
            "colorbar": {
             "outlinewidth": 0,
             "ticks": ""
            },
            "type": "mesh3d"
           }
          ],
          "parcoords": [
           {
            "line": {
             "colorbar": {
              "outlinewidth": 0,
              "ticks": ""
             }
            },
            "type": "parcoords"
           }
          ],
          "pie": [
           {
            "automargin": true,
            "type": "pie"
           }
          ],
          "scatter": [
           {
            "fillpattern": {
             "fillmode": "overlay",
             "size": 10,
             "solidity": 0.2
            },
            "type": "scatter"
           }
          ],
          "scatter3d": [
           {
            "line": {
             "colorbar": {
              "outlinewidth": 0,
              "ticks": ""
             }
            },
            "marker": {
             "colorbar": {
              "outlinewidth": 0,
              "ticks": ""
             }
            },
            "type": "scatter3d"
           }
          ],
          "scattercarpet": [
           {
            "marker": {
             "colorbar": {
              "outlinewidth": 0,
              "ticks": ""
             }
            },
            "type": "scattercarpet"
           }
          ],
          "scattergeo": [
           {
            "marker": {
             "colorbar": {
              "outlinewidth": 0,
              "ticks": ""
             }
            },
            "type": "scattergeo"
           }
          ],
          "scattergl": [
           {
            "marker": {
             "colorbar": {
              "outlinewidth": 0,
              "ticks": ""
             }
            },
            "type": "scattergl"
           }
          ],
          "scattermapbox": [
           {
            "marker": {
             "colorbar": {
              "outlinewidth": 0,
              "ticks": ""
             }
            },
            "type": "scattermapbox"
           }
          ],
          "scatterpolar": [
           {
            "marker": {
             "colorbar": {
              "outlinewidth": 0,
              "ticks": ""
             }
            },
            "type": "scatterpolar"
           }
          ],
          "scatterpolargl": [
           {
            "marker": {
             "colorbar": {
              "outlinewidth": 0,
              "ticks": ""
             }
            },
            "type": "scatterpolargl"
           }
          ],
          "scatterternary": [
           {
            "marker": {
             "colorbar": {
              "outlinewidth": 0,
              "ticks": ""
             }
            },
            "type": "scatterternary"
           }
          ],
          "surface": [
           {
            "colorbar": {
             "outlinewidth": 0,
             "ticks": ""
            },
            "colorscale": [
             [
              0,
              "#0d0887"
             ],
             [
              0.1111111111111111,
              "#46039f"
             ],
             [
              0.2222222222222222,
              "#7201a8"
             ],
             [
              0.3333333333333333,
              "#9c179e"
             ],
             [
              0.4444444444444444,
              "#bd3786"
             ],
             [
              0.5555555555555556,
              "#d8576b"
             ],
             [
              0.6666666666666666,
              "#ed7953"
             ],
             [
              0.7777777777777778,
              "#fb9f3a"
             ],
             [
              0.8888888888888888,
              "#fdca26"
             ],
             [
              1,
              "#f0f921"
             ]
            ],
            "type": "surface"
           }
          ],
          "table": [
           {
            "cells": {
             "fill": {
              "color": "#EBF0F8"
             },
             "line": {
              "color": "white"
             }
            },
            "header": {
             "fill": {
              "color": "#C8D4E3"
             },
             "line": {
              "color": "white"
             }
            },
            "type": "table"
           }
          ]
         },
         "layout": {
          "annotationdefaults": {
           "arrowcolor": "#2a3f5f",
           "arrowhead": 0,
           "arrowwidth": 1
          },
          "autotypenumbers": "strict",
          "coloraxis": {
           "colorbar": {
            "outlinewidth": 0,
            "ticks": ""
           }
          },
          "colorscale": {
           "diverging": [
            [
             0,
             "#8e0152"
            ],
            [
             0.1,
             "#c51b7d"
            ],
            [
             0.2,
             "#de77ae"
            ],
            [
             0.3,
             "#f1b6da"
            ],
            [
             0.4,
             "#fde0ef"
            ],
            [
             0.5,
             "#f7f7f7"
            ],
            [
             0.6,
             "#e6f5d0"
            ],
            [
             0.7,
             "#b8e186"
            ],
            [
             0.8,
             "#7fbc41"
            ],
            [
             0.9,
             "#4d9221"
            ],
            [
             1,
             "#276419"
            ]
           ],
           "sequential": [
            [
             0,
             "#0d0887"
            ],
            [
             0.1111111111111111,
             "#46039f"
            ],
            [
             0.2222222222222222,
             "#7201a8"
            ],
            [
             0.3333333333333333,
             "#9c179e"
            ],
            [
             0.4444444444444444,
             "#bd3786"
            ],
            [
             0.5555555555555556,
             "#d8576b"
            ],
            [
             0.6666666666666666,
             "#ed7953"
            ],
            [
             0.7777777777777778,
             "#fb9f3a"
            ],
            [
             0.8888888888888888,
             "#fdca26"
            ],
            [
             1,
             "#f0f921"
            ]
           ],
           "sequentialminus": [
            [
             0,
             "#0d0887"
            ],
            [
             0.1111111111111111,
             "#46039f"
            ],
            [
             0.2222222222222222,
             "#7201a8"
            ],
            [
             0.3333333333333333,
             "#9c179e"
            ],
            [
             0.4444444444444444,
             "#bd3786"
            ],
            [
             0.5555555555555556,
             "#d8576b"
            ],
            [
             0.6666666666666666,
             "#ed7953"
            ],
            [
             0.7777777777777778,
             "#fb9f3a"
            ],
            [
             0.8888888888888888,
             "#fdca26"
            ],
            [
             1,
             "#f0f921"
            ]
           ]
          },
          "colorway": [
           "#636efa",
           "#EF553B",
           "#00cc96",
           "#ab63fa",
           "#FFA15A",
           "#19d3f3",
           "#FF6692",
           "#B6E880",
           "#FF97FF",
           "#FECB52"
          ],
          "font": {
           "color": "#2a3f5f"
          },
          "geo": {
           "bgcolor": "white",
           "lakecolor": "white",
           "landcolor": "#E5ECF6",
           "showlakes": true,
           "showland": true,
           "subunitcolor": "white"
          },
          "hoverlabel": {
           "align": "left"
          },
          "hovermode": "closest",
          "mapbox": {
           "style": "light"
          },
          "paper_bgcolor": "white",
          "plot_bgcolor": "#E5ECF6",
          "polar": {
           "angularaxis": {
            "gridcolor": "white",
            "linecolor": "white",
            "ticks": ""
           },
           "bgcolor": "#E5ECF6",
           "radialaxis": {
            "gridcolor": "white",
            "linecolor": "white",
            "ticks": ""
           }
          },
          "scene": {
           "xaxis": {
            "backgroundcolor": "#E5ECF6",
            "gridcolor": "white",
            "gridwidth": 2,
            "linecolor": "white",
            "showbackground": true,
            "ticks": "",
            "zerolinecolor": "white"
           },
           "yaxis": {
            "backgroundcolor": "#E5ECF6",
            "gridcolor": "white",
            "gridwidth": 2,
            "linecolor": "white",
            "showbackground": true,
            "ticks": "",
            "zerolinecolor": "white"
           },
           "zaxis": {
            "backgroundcolor": "#E5ECF6",
            "gridcolor": "white",
            "gridwidth": 2,
            "linecolor": "white",
            "showbackground": true,
            "ticks": "",
            "zerolinecolor": "white"
           }
          },
          "shapedefaults": {
           "line": {
            "color": "#2a3f5f"
           }
          },
          "ternary": {
           "aaxis": {
            "gridcolor": "white",
            "linecolor": "white",
            "ticks": ""
           },
           "baxis": {
            "gridcolor": "white",
            "linecolor": "white",
            "ticks": ""
           },
           "bgcolor": "#E5ECF6",
           "caxis": {
            "gridcolor": "white",
            "linecolor": "white",
            "ticks": ""
           }
          },
          "title": {
           "x": 0.05
          },
          "xaxis": {
           "automargin": true,
           "gridcolor": "white",
           "linecolor": "white",
           "ticks": "",
           "title": {
            "standoff": 15
           },
           "zerolinecolor": "white",
           "zerolinewidth": 2
          },
          "yaxis": {
           "automargin": true,
           "gridcolor": "white",
           "linecolor": "white",
           "ticks": "",
           "title": {
            "standoff": 15
           },
           "zerolinecolor": "white",
           "zerolinewidth": 2
          }
         }
        },
        "title": {
         "text": "Label: Zangoose"
        },
        "width": 300,
        "xaxis": {
         "anchor": "y",
         "domain": [
          0,
          1
         ]
        },
        "yaxis": {
         "anchor": "x",
         "domain": [
          0,
          1
         ]
        }
       }
      }
     },
     "metadata": {},
     "output_type": "display_data"
    }
   ],
   "source": [
    "plot_n_images(train_ds, 1)"
   ]
  },
  {
   "cell_type": "code",
   "execution_count": 89,
   "metadata": {},
   "outputs": [],
   "source": [
    "from tensorflow.keras.applications import EfficientNetB4\n",
    "from tensorflow.keras.applications.efficientnet import preprocess_input"
   ]
  },
  {
   "cell_type": "code",
   "execution_count": 90,
   "metadata": {},
   "outputs": [],
   "source": [
    "flip_and_rotate = tf.keras.Sequential([\n",
    "    tf.keras.layers.experimental.preprocessing.RandomFlip(\"horizontal\"),\n",
    "    tf.keras.layers.experimental.preprocessing.RandomRotation(0.1, fill_mode=\"constant\"),\n",
    "    # tf.keras.layers.experimental.preprocessing.RandomZoom(0.1),\n",
    "])\n",
    "\n",
    "def preprocess_image(image, label):\n",
    "    # Convert the image to RGB (if it's not already)\n",
    "    # image = tf.cond(tf.equal(tf.shape(image)[-1], 4),\n",
    "    #                 lambda: image[..., :3],\n",
    "    #                 lambda: image)\n",
    "    \n",
    "    # # Convert the image to float32\n",
    "    # image = tf.cast(image, tf.float32)\n",
    "\n",
    "    # # Check if the image has an alpha channel\n",
    "    # if tf.shape(image)[-1] == 4:\n",
    "    #     # Extract the alpha channel\n",
    "    #     alpha = image[..., 3]\n",
    "\n",
    "    #     # Create a mask of the alpha channel\n",
    "    #     mask = tf.where(alpha > 0, 1.0, 0.0)\n",
    "\n",
    "    #     # Replace the alpha channel with a solid white background\n",
    "    #     bg = tf.ones_like(alpha, dtype=tf.float32)\n",
    "    #     image = tf.concat([image[..., :3], tf.expand_dims(bg, axis=-1)], axis=-1)\n",
    "\n",
    "    #     # Apply the mask to the image\n",
    "    #     mask = tf.expand_dims(mask, axis=-1)\n",
    "    #     image = image * mask\n",
    "    \n",
    "    # Normalize the pixel values to be between 0 and 1\n",
    "    image = preprocess_input(image)\n",
    "    \n",
    "    return image, label\n",
    "\n",
    "def prepare(ds, shuffle=False, augment=False):\n",
    "    ds = ds.map(lambda x, y: (preprocess_image(x, y)), num_parallel_calls=tf.data.AUTOTUNE)\n",
    "\n",
    "    # Use data augmentation only on the training set\n",
    "    if augment:\n",
    "        ds = ds.map(lambda x, y: (flip_and_rotate(x, training=True), y), num_parallel_calls=tf.data.AUTOTUNE)\n",
    "    \n",
    "    # Use buffered prefecting on all datasets\n",
    "    if shuffle:\n",
    "        ds = ds.shuffle(1000)\n",
    "\n",
    "    # ds = ds.batch(batch_size)\n",
    "    ds = ds.prefetch(buffer_size=tf.data.AUTOTUNE)\n",
    "\n",
    "    return ds"
   ]
  },
  {
   "cell_type": "code",
   "execution_count": 91,
   "metadata": {},
   "outputs": [
    {
     "name": "stdout",
     "output_type": "stream",
     "text": [
      "WARNING:tensorflow:Using a while_loop for converting RngReadAndSkip cause there is no registered converter for this op.\n",
      "WARNING:tensorflow:Using a while_loop for converting Bitcast cause there is no registered converter for this op.\n",
      "WARNING:tensorflow:Using a while_loop for converting Bitcast cause there is no registered converter for this op.\n",
      "WARNING:tensorflow:Using a while_loop for converting StatelessRandomUniformV2 cause there is no registered converter for this op.\n",
      "WARNING:tensorflow:Using a while_loop for converting ImageProjectiveTransformV3 cause there is no registered converter for this op.\n",
      "WARNING:tensorflow:Using a while_loop for converting RngReadAndSkip cause there is no registered converter for this op.\n",
      "WARNING:tensorflow:Using a while_loop for converting Bitcast cause there is no registered converter for this op.\n",
      "WARNING:tensorflow:Using a while_loop for converting Bitcast cause there is no registered converter for this op.\n",
      "WARNING:tensorflow:Using a while_loop for converting StatelessRandomUniformFullIntV2 cause there is no registered converter for this op.\n",
      "WARNING:tensorflow:Using a while_loop for converting StatelessRandomGetKeyCounter cause there is no registered converter for this op.\n",
      "WARNING:tensorflow:Using a while_loop for converting StatelessRandomUniformV2 cause there is no registered converter for this op.\n",
      "WARNING:tensorflow:Using a while_loop for converting AdjustContrastv2 cause Input \"contrast_factor\" of op 'AdjustContrastv2' expected to be loop invariant.\n",
      "WARNING:tensorflow:Using a while_loop for converting RngReadAndSkip cause there is no registered converter for this op.\n",
      "WARNING:tensorflow:Using a while_loop for converting Bitcast cause there is no registered converter for this op.\n",
      "WARNING:tensorflow:Using a while_loop for converting Bitcast cause there is no registered converter for this op.\n",
      "WARNING:tensorflow:Using a while_loop for converting StatelessRandomUniformV2 cause there is no registered converter for this op.\n",
      "WARNING:tensorflow:Using a while_loop for converting ImageProjectiveTransformV3 cause there is no registered converter for this op.\n",
      "WARNING:tensorflow:Using a while_loop for converting RngReadAndSkip cause there is no registered converter for this op.\n",
      "WARNING:tensorflow:Using a while_loop for converting Bitcast cause there is no registered converter for this op.\n",
      "WARNING:tensorflow:Using a while_loop for converting Bitcast cause there is no registered converter for this op.\n",
      "WARNING:tensorflow:Using a while_loop for converting StatelessRandomUniformFullIntV2 cause there is no registered converter for this op.\n",
      "WARNING:tensorflow:Using a while_loop for converting StatelessRandomGetKeyCounter cause there is no registered converter for this op.\n",
      "WARNING:tensorflow:Using a while_loop for converting StatelessRandomUniformV2 cause there is no registered converter for this op.\n",
      "WARNING:tensorflow:Using a while_loop for converting AdjustContrastv2 cause Input \"contrast_factor\" of op 'AdjustContrastv2' expected to be loop invariant.\n"
     ]
    }
   ],
   "source": [
    "train_ds = prepare(train_ds, shuffle=True, augment=True)\n",
    "val_ds = prepare(val_ds)"
   ]
  },
  {
   "cell_type": "code",
   "execution_count": 92,
   "metadata": {},
   "outputs": [
    {
     "name": "stdout",
     "output_type": "stream",
     "text": [
      "tf.Tensor([6.55896   7.259041  6.4812927 0.7640209], shape=(4,), dtype=float32)\n",
      "(128, 128, 4)\n"
     ]
    },
    {
     "data": {
      "application/vnd.plotly.v1+json": {
       "config": {
        "plotlyServerURL": "https://plot.ly"
       },
       "data": [
        {
         "hovertemplate": "x: %{x}<br>y: %{y}<extra></extra>",
         "name": "0",
         "source": "data:image/png;base64,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",
         "type": "image",
         "xaxis": "x",
         "yaxis": "y"
        }
       ],
       "layout": {
        "height": 300,
        "margin": {
         "t": 60
        },
        "template": {
         "data": {
          "bar": [
           {
            "error_x": {
             "color": "#2a3f5f"
            },
            "error_y": {
             "color": "#2a3f5f"
            },
            "marker": {
             "line": {
              "color": "#E5ECF6",
              "width": 0.5
             },
             "pattern": {
              "fillmode": "overlay",
              "size": 10,
              "solidity": 0.2
             }
            },
            "type": "bar"
           }
          ],
          "barpolar": [
           {
            "marker": {
             "line": {
              "color": "#E5ECF6",
              "width": 0.5
             },
             "pattern": {
              "fillmode": "overlay",
              "size": 10,
              "solidity": 0.2
             }
            },
            "type": "barpolar"
           }
          ],
          "carpet": [
           {
            "aaxis": {
             "endlinecolor": "#2a3f5f",
             "gridcolor": "white",
             "linecolor": "white",
             "minorgridcolor": "white",
             "startlinecolor": "#2a3f5f"
            },
            "baxis": {
             "endlinecolor": "#2a3f5f",
             "gridcolor": "white",
             "linecolor": "white",
             "minorgridcolor": "white",
             "startlinecolor": "#2a3f5f"
            },
            "type": "carpet"
           }
          ],
          "choropleth": [
           {
            "colorbar": {
             "outlinewidth": 0,
             "ticks": ""
            },
            "type": "choropleth"
           }
          ],
          "contour": [
           {
            "colorbar": {
             "outlinewidth": 0,
             "ticks": ""
            },
            "colorscale": [
             [
              0,
              "#0d0887"
             ],
             [
              0.1111111111111111,
              "#46039f"
             ],
             [
              0.2222222222222222,
              "#7201a8"
             ],
             [
              0.3333333333333333,
              "#9c179e"
             ],
             [
              0.4444444444444444,
              "#bd3786"
             ],
             [
              0.5555555555555556,
              "#d8576b"
             ],
             [
              0.6666666666666666,
              "#ed7953"
             ],
             [
              0.7777777777777778,
              "#fb9f3a"
             ],
             [
              0.8888888888888888,
              "#fdca26"
             ],
             [
              1,
              "#f0f921"
             ]
            ],
            "type": "contour"
           }
          ],
          "contourcarpet": [
           {
            "colorbar": {
             "outlinewidth": 0,
             "ticks": ""
            },
            "type": "contourcarpet"
           }
          ],
          "heatmap": [
           {
            "colorbar": {
             "outlinewidth": 0,
             "ticks": ""
            },
            "colorscale": [
             [
              0,
              "#0d0887"
             ],
             [
              0.1111111111111111,
              "#46039f"
             ],
             [
              0.2222222222222222,
              "#7201a8"
             ],
             [
              0.3333333333333333,
              "#9c179e"
             ],
             [
              0.4444444444444444,
              "#bd3786"
             ],
             [
              0.5555555555555556,
              "#d8576b"
             ],
             [
              0.6666666666666666,
              "#ed7953"
             ],
             [
              0.7777777777777778,
              "#fb9f3a"
             ],
             [
              0.8888888888888888,
              "#fdca26"
             ],
             [
              1,
              "#f0f921"
             ]
            ],
            "type": "heatmap"
           }
          ],
          "heatmapgl": [
           {
            "colorbar": {
             "outlinewidth": 0,
             "ticks": ""
            },
            "colorscale": [
             [
              0,
              "#0d0887"
             ],
             [
              0.1111111111111111,
              "#46039f"
             ],
             [
              0.2222222222222222,
              "#7201a8"
             ],
             [
              0.3333333333333333,
              "#9c179e"
             ],
             [
              0.4444444444444444,
              "#bd3786"
             ],
             [
              0.5555555555555556,
              "#d8576b"
             ],
             [
              0.6666666666666666,
              "#ed7953"
             ],
             [
              0.7777777777777778,
              "#fb9f3a"
             ],
             [
              0.8888888888888888,
              "#fdca26"
             ],
             [
              1,
              "#f0f921"
             ]
            ],
            "type": "heatmapgl"
           }
          ],
          "histogram": [
           {
            "marker": {
             "pattern": {
              "fillmode": "overlay",
              "size": 10,
              "solidity": 0.2
             }
            },
            "type": "histogram"
           }
          ],
          "histogram2d": [
           {
            "colorbar": {
             "outlinewidth": 0,
             "ticks": ""
            },
            "colorscale": [
             [
              0,
              "#0d0887"
             ],
             [
              0.1111111111111111,
              "#46039f"
             ],
             [
              0.2222222222222222,
              "#7201a8"
             ],
             [
              0.3333333333333333,
              "#9c179e"
             ],
             [
              0.4444444444444444,
              "#bd3786"
             ],
             [
              0.5555555555555556,
              "#d8576b"
             ],
             [
              0.6666666666666666,
              "#ed7953"
             ],
             [
              0.7777777777777778,
              "#fb9f3a"
             ],
             [
              0.8888888888888888,
              "#fdca26"
             ],
             [
              1,
              "#f0f921"
             ]
            ],
            "type": "histogram2d"
           }
          ],
          "histogram2dcontour": [
           {
            "colorbar": {
             "outlinewidth": 0,
             "ticks": ""
            },
            "colorscale": [
             [
              0,
              "#0d0887"
             ],
             [
              0.1111111111111111,
              "#46039f"
             ],
             [
              0.2222222222222222,
              "#7201a8"
             ],
             [
              0.3333333333333333,
              "#9c179e"
             ],
             [
              0.4444444444444444,
              "#bd3786"
             ],
             [
              0.5555555555555556,
              "#d8576b"
             ],
             [
              0.6666666666666666,
              "#ed7953"
             ],
             [
              0.7777777777777778,
              "#fb9f3a"
             ],
             [
              0.8888888888888888,
              "#fdca26"
             ],
             [
              1,
              "#f0f921"
             ]
            ],
            "type": "histogram2dcontour"
           }
          ],
          "mesh3d": [
           {
            "colorbar": {
             "outlinewidth": 0,
             "ticks": ""
            },
            "type": "mesh3d"
           }
          ],
          "parcoords": [
           {
            "line": {
             "colorbar": {
              "outlinewidth": 0,
              "ticks": ""
             }
            },
            "type": "parcoords"
           }
          ],
          "pie": [
           {
            "automargin": true,
            "type": "pie"
           }
          ],
          "scatter": [
           {
            "fillpattern": {
             "fillmode": "overlay",
             "size": 10,
             "solidity": 0.2
            },
            "type": "scatter"
           }
          ],
          "scatter3d": [
           {
            "line": {
             "colorbar": {
              "outlinewidth": 0,
              "ticks": ""
             }
            },
            "marker": {
             "colorbar": {
              "outlinewidth": 0,
              "ticks": ""
             }
            },
            "type": "scatter3d"
           }
          ],
          "scattercarpet": [
           {
            "marker": {
             "colorbar": {
              "outlinewidth": 0,
              "ticks": ""
             }
            },
            "type": "scattercarpet"
           }
          ],
          "scattergeo": [
           {
            "marker": {
             "colorbar": {
              "outlinewidth": 0,
              "ticks": ""
             }
            },
            "type": "scattergeo"
           }
          ],
          "scattergl": [
           {
            "marker": {
             "colorbar": {
              "outlinewidth": 0,
              "ticks": ""
             }
            },
            "type": "scattergl"
           }
          ],
          "scattermapbox": [
           {
            "marker": {
             "colorbar": {
              "outlinewidth": 0,
              "ticks": ""
             }
            },
            "type": "scattermapbox"
           }
          ],
          "scatterpolar": [
           {
            "marker": {
             "colorbar": {
              "outlinewidth": 0,
              "ticks": ""
             }
            },
            "type": "scatterpolar"
           }
          ],
          "scatterpolargl": [
           {
            "marker": {
             "colorbar": {
              "outlinewidth": 0,
              "ticks": ""
             }
            },
            "type": "scatterpolargl"
           }
          ],
          "scatterternary": [
           {
            "marker": {
             "colorbar": {
              "outlinewidth": 0,
              "ticks": ""
             }
            },
            "type": "scatterternary"
           }
          ],
          "surface": [
           {
            "colorbar": {
             "outlinewidth": 0,
             "ticks": ""
            },
            "colorscale": [
             [
              0,
              "#0d0887"
             ],
             [
              0.1111111111111111,
              "#46039f"
             ],
             [
              0.2222222222222222,
              "#7201a8"
             ],
             [
              0.3333333333333333,
              "#9c179e"
             ],
             [
              0.4444444444444444,
              "#bd3786"
             ],
             [
              0.5555555555555556,
              "#d8576b"
             ],
             [
              0.6666666666666666,
              "#ed7953"
             ],
             [
              0.7777777777777778,
              "#fb9f3a"
             ],
             [
              0.8888888888888888,
              "#fdca26"
             ],
             [
              1,
              "#f0f921"
             ]
            ],
            "type": "surface"
           }
          ],
          "table": [
           {
            "cells": {
             "fill": {
              "color": "#EBF0F8"
             },
             "line": {
              "color": "white"
             }
            },
            "header": {
             "fill": {
              "color": "#C8D4E3"
             },
             "line": {
              "color": "white"
             }
            },
            "type": "table"
           }
          ]
         },
         "layout": {
          "annotationdefaults": {
           "arrowcolor": "#2a3f5f",
           "arrowhead": 0,
           "arrowwidth": 1
          },
          "autotypenumbers": "strict",
          "coloraxis": {
           "colorbar": {
            "outlinewidth": 0,
            "ticks": ""
           }
          },
          "colorscale": {
           "diverging": [
            [
             0,
             "#8e0152"
            ],
            [
             0.1,
             "#c51b7d"
            ],
            [
             0.2,
             "#de77ae"
            ],
            [
             0.3,
             "#f1b6da"
            ],
            [
             0.4,
             "#fde0ef"
            ],
            [
             0.5,
             "#f7f7f7"
            ],
            [
             0.6,
             "#e6f5d0"
            ],
            [
             0.7,
             "#b8e186"
            ],
            [
             0.8,
             "#7fbc41"
            ],
            [
             0.9,
             "#4d9221"
            ],
            [
             1,
             "#276419"
            ]
           ],
           "sequential": [
            [
             0,
             "#0d0887"
            ],
            [
             0.1111111111111111,
             "#46039f"
            ],
            [
             0.2222222222222222,
             "#7201a8"
            ],
            [
             0.3333333333333333,
             "#9c179e"
            ],
            [
             0.4444444444444444,
             "#bd3786"
            ],
            [
             0.5555555555555556,
             "#d8576b"
            ],
            [
             0.6666666666666666,
             "#ed7953"
            ],
            [
             0.7777777777777778,
             "#fb9f3a"
            ],
            [
             0.8888888888888888,
             "#fdca26"
            ],
            [
             1,
             "#f0f921"
            ]
           ],
           "sequentialminus": [
            [
             0,
             "#0d0887"
            ],
            [
             0.1111111111111111,
             "#46039f"
            ],
            [
             0.2222222222222222,
             "#7201a8"
            ],
            [
             0.3333333333333333,
             "#9c179e"
            ],
            [
             0.4444444444444444,
             "#bd3786"
            ],
            [
             0.5555555555555556,
             "#d8576b"
            ],
            [
             0.6666666666666666,
             "#ed7953"
            ],
            [
             0.7777777777777778,
             "#fb9f3a"
            ],
            [
             0.8888888888888888,
             "#fdca26"
            ],
            [
             1,
             "#f0f921"
            ]
           ]
          },
          "colorway": [
           "#636efa",
           "#EF553B",
           "#00cc96",
           "#ab63fa",
           "#FFA15A",
           "#19d3f3",
           "#FF6692",
           "#B6E880",
           "#FF97FF",
           "#FECB52"
          ],
          "font": {
           "color": "#2a3f5f"
          },
          "geo": {
           "bgcolor": "white",
           "lakecolor": "white",
           "landcolor": "#E5ECF6",
           "showlakes": true,
           "showland": true,
           "subunitcolor": "white"
          },
          "hoverlabel": {
           "align": "left"
          },
          "hovermode": "closest",
          "mapbox": {
           "style": "light"
          },
          "paper_bgcolor": "white",
          "plot_bgcolor": "#E5ECF6",
          "polar": {
           "angularaxis": {
            "gridcolor": "white",
            "linecolor": "white",
            "ticks": ""
           },
           "bgcolor": "#E5ECF6",
           "radialaxis": {
            "gridcolor": "white",
            "linecolor": "white",
            "ticks": ""
           }
          },
          "scene": {
           "xaxis": {
            "backgroundcolor": "#E5ECF6",
            "gridcolor": "white",
            "gridwidth": 2,
            "linecolor": "white",
            "showbackground": true,
            "ticks": "",
            "zerolinecolor": "white"
           },
           "yaxis": {
            "backgroundcolor": "#E5ECF6",
            "gridcolor": "white",
            "gridwidth": 2,
            "linecolor": "white",
            "showbackground": true,
            "ticks": "",
            "zerolinecolor": "white"
           },
           "zaxis": {
            "backgroundcolor": "#E5ECF6",
            "gridcolor": "white",
            "gridwidth": 2,
            "linecolor": "white",
            "showbackground": true,
            "ticks": "",
            "zerolinecolor": "white"
           }
          },
          "shapedefaults": {
           "line": {
            "color": "#2a3f5f"
           }
          },
          "ternary": {
           "aaxis": {
            "gridcolor": "white",
            "linecolor": "white",
            "ticks": ""
           },
           "baxis": {
            "gridcolor": "white",
            "linecolor": "white",
            "ticks": ""
           },
           "bgcolor": "#E5ECF6",
           "caxis": {
            "gridcolor": "white",
            "linecolor": "white",
            "ticks": ""
           }
          },
          "title": {
           "x": 0.05
          },
          "xaxis": {
           "automargin": true,
           "gridcolor": "white",
           "linecolor": "white",
           "ticks": "",
           "title": {
            "standoff": 15
           },
           "zerolinecolor": "white",
           "zerolinewidth": 2
          },
          "yaxis": {
           "automargin": true,
           "gridcolor": "white",
           "linecolor": "white",
           "ticks": "",
           "title": {
            "standoff": 15
           },
           "zerolinecolor": "white",
           "zerolinewidth": 2
          }
         }
        },
        "title": {
         "text": "Label: Shellos"
        },
        "width": 300,
        "xaxis": {
         "anchor": "y",
         "domain": [
          0,
          1
         ]
        },
        "yaxis": {
         "anchor": "x",
         "domain": [
          0,
          1
         ]
        }
       }
      }
     },
     "metadata": {},
     "output_type": "display_data"
    },
    {
     "name": "stdout",
     "output_type": "stream",
     "text": [
      "tf.Tensor([2.6551857 1.4794025 1.6481838 3.3624344], shape=(4,), dtype=float32)\n",
      "(128, 128, 4)\n"
     ]
    },
    {
     "data": {
      "application/vnd.plotly.v1+json": {
       "config": {
        "plotlyServerURL": "https://plot.ly"
       },
       "data": [
        {
         "hovertemplate": "x: %{x}<br>y: %{y}<extra></extra>",
         "name": "0",
         "source": "data:image/png;base64,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",
         "type": "image",
         "xaxis": "x",
         "yaxis": "y"
        }
       ],
       "layout": {
        "height": 300,
        "margin": {
         "t": 60
        },
        "template": {
         "data": {
          "bar": [
           {
            "error_x": {
             "color": "#2a3f5f"
            },
            "error_y": {
             "color": "#2a3f5f"
            },
            "marker": {
             "line": {
              "color": "#E5ECF6",
              "width": 0.5
             },
             "pattern": {
              "fillmode": "overlay",
              "size": 10,
              "solidity": 0.2
             }
            },
            "type": "bar"
           }
          ],
          "barpolar": [
           {
            "marker": {
             "line": {
              "color": "#E5ECF6",
              "width": 0.5
             },
             "pattern": {
              "fillmode": "overlay",
              "size": 10,
              "solidity": 0.2
             }
            },
            "type": "barpolar"
           }
          ],
          "carpet": [
           {
            "aaxis": {
             "endlinecolor": "#2a3f5f",
             "gridcolor": "white",
             "linecolor": "white",
             "minorgridcolor": "white",
             "startlinecolor": "#2a3f5f"
            },
            "baxis": {
             "endlinecolor": "#2a3f5f",
             "gridcolor": "white",
             "linecolor": "white",
             "minorgridcolor": "white",
             "startlinecolor": "#2a3f5f"
            },
            "type": "carpet"
           }
          ],
          "choropleth": [
           {
            "colorbar": {
             "outlinewidth": 0,
             "ticks": ""
            },
            "type": "choropleth"
           }
          ],
          "contour": [
           {
            "colorbar": {
             "outlinewidth": 0,
             "ticks": ""
            },
            "colorscale": [
             [
              0,
              "#0d0887"
             ],
             [
              0.1111111111111111,
              "#46039f"
             ],
             [
              0.2222222222222222,
              "#7201a8"
             ],
             [
              0.3333333333333333,
              "#9c179e"
             ],
             [
              0.4444444444444444,
              "#bd3786"
             ],
             [
              0.5555555555555556,
              "#d8576b"
             ],
             [
              0.6666666666666666,
              "#ed7953"
             ],
             [
              0.7777777777777778,
              "#fb9f3a"
             ],
             [
              0.8888888888888888,
              "#fdca26"
             ],
             [
              1,
              "#f0f921"
             ]
            ],
            "type": "contour"
           }
          ],
          "contourcarpet": [
           {
            "colorbar": {
             "outlinewidth": 0,
             "ticks": ""
            },
            "type": "contourcarpet"
           }
          ],
          "heatmap": [
           {
            "colorbar": {
             "outlinewidth": 0,
             "ticks": ""
            },
            "colorscale": [
             [
              0,
              "#0d0887"
             ],
             [
              0.1111111111111111,
              "#46039f"
             ],
             [
              0.2222222222222222,
              "#7201a8"
             ],
             [
              0.3333333333333333,
              "#9c179e"
             ],
             [
              0.4444444444444444,
              "#bd3786"
             ],
             [
              0.5555555555555556,
              "#d8576b"
             ],
             [
              0.6666666666666666,
              "#ed7953"
             ],
             [
              0.7777777777777778,
              "#fb9f3a"
             ],
             [
              0.8888888888888888,
              "#fdca26"
             ],
             [
              1,
              "#f0f921"
             ]
            ],
            "type": "heatmap"
           }
          ],
          "heatmapgl": [
           {
            "colorbar": {
             "outlinewidth": 0,
             "ticks": ""
            },
            "colorscale": [
             [
              0,
              "#0d0887"
             ],
             [
              0.1111111111111111,
              "#46039f"
             ],
             [
              0.2222222222222222,
              "#7201a8"
             ],
             [
              0.3333333333333333,
              "#9c179e"
             ],
             [
              0.4444444444444444,
              "#bd3786"
             ],
             [
              0.5555555555555556,
              "#d8576b"
             ],
             [
              0.6666666666666666,
              "#ed7953"
             ],
             [
              0.7777777777777778,
              "#fb9f3a"
             ],
             [
              0.8888888888888888,
              "#fdca26"
             ],
             [
              1,
              "#f0f921"
             ]
            ],
            "type": "heatmapgl"
           }
          ],
          "histogram": [
           {
            "marker": {
             "pattern": {
              "fillmode": "overlay",
              "size": 10,
              "solidity": 0.2
             }
            },
            "type": "histogram"
           }
          ],
          "histogram2d": [
           {
            "colorbar": {
             "outlinewidth": 0,
             "ticks": ""
            },
            "colorscale": [
             [
              0,
              "#0d0887"
             ],
             [
              0.1111111111111111,
              "#46039f"
             ],
             [
              0.2222222222222222,
              "#7201a8"
             ],
             [
              0.3333333333333333,
              "#9c179e"
             ],
             [
              0.4444444444444444,
              "#bd3786"
             ],
             [
              0.5555555555555556,
              "#d8576b"
             ],
             [
              0.6666666666666666,
              "#ed7953"
             ],
             [
              0.7777777777777778,
              "#fb9f3a"
             ],
             [
              0.8888888888888888,
              "#fdca26"
             ],
             [
              1,
              "#f0f921"
             ]
            ],
            "type": "histogram2d"
           }
          ],
          "histogram2dcontour": [
           {
            "colorbar": {
             "outlinewidth": 0,
             "ticks": ""
            },
            "colorscale": [
             [
              0,
              "#0d0887"
             ],
             [
              0.1111111111111111,
              "#46039f"
             ],
             [
              0.2222222222222222,
              "#7201a8"
             ],
             [
              0.3333333333333333,
              "#9c179e"
             ],
             [
              0.4444444444444444,
              "#bd3786"
             ],
             [
              0.5555555555555556,
              "#d8576b"
             ],
             [
              0.6666666666666666,
              "#ed7953"
             ],
             [
              0.7777777777777778,
              "#fb9f3a"
             ],
             [
              0.8888888888888888,
              "#fdca26"
             ],
             [
              1,
              "#f0f921"
             ]
            ],
            "type": "histogram2dcontour"
           }
          ],
          "mesh3d": [
           {
            "colorbar": {
             "outlinewidth": 0,
             "ticks": ""
            },
            "type": "mesh3d"
           }
          ],
          "parcoords": [
           {
            "line": {
             "colorbar": {
              "outlinewidth": 0,
              "ticks": ""
             }
            },
            "type": "parcoords"
           }
          ],
          "pie": [
           {
            "automargin": true,
            "type": "pie"
           }
          ],
          "scatter": [
           {
            "fillpattern": {
             "fillmode": "overlay",
             "size": 10,
             "solidity": 0.2
            },
            "type": "scatter"
           }
          ],
          "scatter3d": [
           {
            "line": {
             "colorbar": {
              "outlinewidth": 0,
              "ticks": ""
             }
            },
            "marker": {
             "colorbar": {
              "outlinewidth": 0,
              "ticks": ""
             }
            },
            "type": "scatter3d"
           }
          ],
          "scattercarpet": [
           {
            "marker": {
             "colorbar": {
              "outlinewidth": 0,
              "ticks": ""
             }
            },
            "type": "scattercarpet"
           }
          ],
          "scattergeo": [
           {
            "marker": {
             "colorbar": {
              "outlinewidth": 0,
              "ticks": ""
             }
            },
            "type": "scattergeo"
           }
          ],
          "scattergl": [
           {
            "marker": {
             "colorbar": {
              "outlinewidth": 0,
              "ticks": ""
             }
            },
            "type": "scattergl"
           }
          ],
          "scattermapbox": [
           {
            "marker": {
             "colorbar": {
              "outlinewidth": 0,
              "ticks": ""
             }
            },
            "type": "scattermapbox"
           }
          ],
          "scatterpolar": [
           {
            "marker": {
             "colorbar": {
              "outlinewidth": 0,
              "ticks": ""
             }
            },
            "type": "scatterpolar"
           }
          ],
          "scatterpolargl": [
           {
            "marker": {
             "colorbar": {
              "outlinewidth": 0,
              "ticks": ""
             }
            },
            "type": "scatterpolargl"
           }
          ],
          "scatterternary": [
           {
            "marker": {
             "colorbar": {
              "outlinewidth": 0,
              "ticks": ""
             }
            },
            "type": "scatterternary"
           }
          ],
          "surface": [
           {
            "colorbar": {
             "outlinewidth": 0,
             "ticks": ""
            },
            "colorscale": [
             [
              0,
              "#0d0887"
             ],
             [
              0.1111111111111111,
              "#46039f"
             ],
             [
              0.2222222222222222,
              "#7201a8"
             ],
             [
              0.3333333333333333,
              "#9c179e"
             ],
             [
              0.4444444444444444,
              "#bd3786"
             ],
             [
              0.5555555555555556,
              "#d8576b"
             ],
             [
              0.6666666666666666,
              "#ed7953"
             ],
             [
              0.7777777777777778,
              "#fb9f3a"
             ],
             [
              0.8888888888888888,
              "#fdca26"
             ],
             [
              1,
              "#f0f921"
             ]
            ],
            "type": "surface"
           }
          ],
          "table": [
           {
            "cells": {
             "fill": {
              "color": "#EBF0F8"
             },
             "line": {
              "color": "white"
             }
            },
            "header": {
             "fill": {
              "color": "#C8D4E3"
             },
             "line": {
              "color": "white"
             }
            },
            "type": "table"
           }
          ]
         },
         "layout": {
          "annotationdefaults": {
           "arrowcolor": "#2a3f5f",
           "arrowhead": 0,
           "arrowwidth": 1
          },
          "autotypenumbers": "strict",
          "coloraxis": {
           "colorbar": {
            "outlinewidth": 0,
            "ticks": ""
           }
          },
          "colorscale": {
           "diverging": [
            [
             0,
             "#8e0152"
            ],
            [
             0.1,
             "#c51b7d"
            ],
            [
             0.2,
             "#de77ae"
            ],
            [
             0.3,
             "#f1b6da"
            ],
            [
             0.4,
             "#fde0ef"
            ],
            [
             0.5,
             "#f7f7f7"
            ],
            [
             0.6,
             "#e6f5d0"
            ],
            [
             0.7,
             "#b8e186"
            ],
            [
             0.8,
             "#7fbc41"
            ],
            [
             0.9,
             "#4d9221"
            ],
            [
             1,
             "#276419"
            ]
           ],
           "sequential": [
            [
             0,
             "#0d0887"
            ],
            [
             0.1111111111111111,
             "#46039f"
            ],
            [
             0.2222222222222222,
             "#7201a8"
            ],
            [
             0.3333333333333333,
             "#9c179e"
            ],
            [
             0.4444444444444444,
             "#bd3786"
            ],
            [
             0.5555555555555556,
             "#d8576b"
            ],
            [
             0.6666666666666666,
             "#ed7953"
            ],
            [
             0.7777777777777778,
             "#fb9f3a"
            ],
            [
             0.8888888888888888,
             "#fdca26"
            ],
            [
             1,
             "#f0f921"
            ]
           ],
           "sequentialminus": [
            [
             0,
             "#0d0887"
            ],
            [
             0.1111111111111111,
             "#46039f"
            ],
            [
             0.2222222222222222,
             "#7201a8"
            ],
            [
             0.3333333333333333,
             "#9c179e"
            ],
            [
             0.4444444444444444,
             "#bd3786"
            ],
            [
             0.5555555555555556,
             "#d8576b"
            ],
            [
             0.6666666666666666,
             "#ed7953"
            ],
            [
             0.7777777777777778,
             "#fb9f3a"
            ],
            [
             0.8888888888888888,
             "#fdca26"
            ],
            [
             1,
             "#f0f921"
            ]
           ]
          },
          "colorway": [
           "#636efa",
           "#EF553B",
           "#00cc96",
           "#ab63fa",
           "#FFA15A",
           "#19d3f3",
           "#FF6692",
           "#B6E880",
           "#FF97FF",
           "#FECB52"
          ],
          "font": {
           "color": "#2a3f5f"
          },
          "geo": {
           "bgcolor": "white",
           "lakecolor": "white",
           "landcolor": "#E5ECF6",
           "showlakes": true,
           "showland": true,
           "subunitcolor": "white"
          },
          "hoverlabel": {
           "align": "left"
          },
          "hovermode": "closest",
          "mapbox": {
           "style": "light"
          },
          "paper_bgcolor": "white",
          "plot_bgcolor": "#E5ECF6",
          "polar": {
           "angularaxis": {
            "gridcolor": "white",
            "linecolor": "white",
            "ticks": ""
           },
           "bgcolor": "#E5ECF6",
           "radialaxis": {
            "gridcolor": "white",
            "linecolor": "white",
            "ticks": ""
           }
          },
          "scene": {
           "xaxis": {
            "backgroundcolor": "#E5ECF6",
            "gridcolor": "white",
            "gridwidth": 2,
            "linecolor": "white",
            "showbackground": true,
            "ticks": "",
            "zerolinecolor": "white"
           },
           "yaxis": {
            "backgroundcolor": "#E5ECF6",
            "gridcolor": "white",
            "gridwidth": 2,
            "linecolor": "white",
            "showbackground": true,
            "ticks": "",
            "zerolinecolor": "white"
           },
           "zaxis": {
            "backgroundcolor": "#E5ECF6",
            "gridcolor": "white",
            "gridwidth": 2,
            "linecolor": "white",
            "showbackground": true,
            "ticks": "",
            "zerolinecolor": "white"
           }
          },
          "shapedefaults": {
           "line": {
            "color": "#2a3f5f"
           }
          },
          "ternary": {
           "aaxis": {
            "gridcolor": "white",
            "linecolor": "white",
            "ticks": ""
           },
           "baxis": {
            "gridcolor": "white",
            "linecolor": "white",
            "ticks": ""
           },
           "bgcolor": "#E5ECF6",
           "caxis": {
            "gridcolor": "white",
            "linecolor": "white",
            "ticks": ""
           }
          },
          "title": {
           "x": 0.05
          },
          "xaxis": {
           "automargin": true,
           "gridcolor": "white",
           "linecolor": "white",
           "ticks": "",
           "title": {
            "standoff": 15
           },
           "zerolinecolor": "white",
           "zerolinewidth": 2
          },
          "yaxis": {
           "automargin": true,
           "gridcolor": "white",
           "linecolor": "white",
           "ticks": "",
           "title": {
            "standoff": 15
           },
           "zerolinecolor": "white",
           "zerolinewidth": 2
          }
         }
        },
        "title": {
         "text": "Label: Lickilicky"
        },
        "width": 300,
        "xaxis": {
         "anchor": "y",
         "domain": [
          0,
          1
         ]
        },
        "yaxis": {
         "anchor": "x",
         "domain": [
          0,
          1
         ]
        }
       }
      }
     },
     "metadata": {},
     "output_type": "display_data"
    },
    {
     "name": "stdout",
     "output_type": "stream",
     "text": [
      "tf.Tensor([5.267212  4.725281  3.4792786 1.4317112], shape=(4,), dtype=float32)\n",
      "(128, 128, 4)\n"
     ]
    },
    {
     "data": {
      "application/vnd.plotly.v1+json": {
       "config": {
        "plotlyServerURL": "https://plot.ly"
       },
       "data": [
        {
         "hovertemplate": "x: %{x}<br>y: %{y}<extra></extra>",
         "name": "0",
         "source": "data:image/png;base64,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",
         "type": "image",
         "xaxis": "x",
         "yaxis": "y"
        }
       ],
       "layout": {
        "height": 300,
        "margin": {
         "t": 60
        },
        "template": {
         "data": {
          "bar": [
           {
            "error_x": {
             "color": "#2a3f5f"
            },
            "error_y": {
             "color": "#2a3f5f"
            },
            "marker": {
             "line": {
              "color": "#E5ECF6",
              "width": 0.5
             },
             "pattern": {
              "fillmode": "overlay",
              "size": 10,
              "solidity": 0.2
             }
            },
            "type": "bar"
           }
          ],
          "barpolar": [
           {
            "marker": {
             "line": {
              "color": "#E5ECF6",
              "width": 0.5
             },
             "pattern": {
              "fillmode": "overlay",
              "size": 10,
              "solidity": 0.2
             }
            },
            "type": "barpolar"
           }
          ],
          "carpet": [
           {
            "aaxis": {
             "endlinecolor": "#2a3f5f",
             "gridcolor": "white",
             "linecolor": "white",
             "minorgridcolor": "white",
             "startlinecolor": "#2a3f5f"
            },
            "baxis": {
             "endlinecolor": "#2a3f5f",
             "gridcolor": "white",
             "linecolor": "white",
             "minorgridcolor": "white",
             "startlinecolor": "#2a3f5f"
            },
            "type": "carpet"
           }
          ],
          "choropleth": [
           {
            "colorbar": {
             "outlinewidth": 0,
             "ticks": ""
            },
            "type": "choropleth"
           }
          ],
          "contour": [
           {
            "colorbar": {
             "outlinewidth": 0,
             "ticks": ""
            },
            "colorscale": [
             [
              0,
              "#0d0887"
             ],
             [
              0.1111111111111111,
              "#46039f"
             ],
             [
              0.2222222222222222,
              "#7201a8"
             ],
             [
              0.3333333333333333,
              "#9c179e"
             ],
             [
              0.4444444444444444,
              "#bd3786"
             ],
             [
              0.5555555555555556,
              "#d8576b"
             ],
             [
              0.6666666666666666,
              "#ed7953"
             ],
             [
              0.7777777777777778,
              "#fb9f3a"
             ],
             [
              0.8888888888888888,
              "#fdca26"
             ],
             [
              1,
              "#f0f921"
             ]
            ],
            "type": "contour"
           }
          ],
          "contourcarpet": [
           {
            "colorbar": {
             "outlinewidth": 0,
             "ticks": ""
            },
            "type": "contourcarpet"
           }
          ],
          "heatmap": [
           {
            "colorbar": {
             "outlinewidth": 0,
             "ticks": ""
            },
            "colorscale": [
             [
              0,
              "#0d0887"
             ],
             [
              0.1111111111111111,
              "#46039f"
             ],
             [
              0.2222222222222222,
              "#7201a8"
             ],
             [
              0.3333333333333333,
              "#9c179e"
             ],
             [
              0.4444444444444444,
              "#bd3786"
             ],
             [
              0.5555555555555556,
              "#d8576b"
             ],
             [
              0.6666666666666666,
              "#ed7953"
             ],
             [
              0.7777777777777778,
              "#fb9f3a"
             ],
             [
              0.8888888888888888,
              "#fdca26"
             ],
             [
              1,
              "#f0f921"
             ]
            ],
            "type": "heatmap"
           }
          ],
          "heatmapgl": [
           {
            "colorbar": {
             "outlinewidth": 0,
             "ticks": ""
            },
            "colorscale": [
             [
              0,
              "#0d0887"
             ],
             [
              0.1111111111111111,
              "#46039f"
             ],
             [
              0.2222222222222222,
              "#7201a8"
             ],
             [
              0.3333333333333333,
              "#9c179e"
             ],
             [
              0.4444444444444444,
              "#bd3786"
             ],
             [
              0.5555555555555556,
              "#d8576b"
             ],
             [
              0.6666666666666666,
              "#ed7953"
             ],
             [
              0.7777777777777778,
              "#fb9f3a"
             ],
             [
              0.8888888888888888,
              "#fdca26"
             ],
             [
              1,
              "#f0f921"
             ]
            ],
            "type": "heatmapgl"
           }
          ],
          "histogram": [
           {
            "marker": {
             "pattern": {
              "fillmode": "overlay",
              "size": 10,
              "solidity": 0.2
             }
            },
            "type": "histogram"
           }
          ],
          "histogram2d": [
           {
            "colorbar": {
             "outlinewidth": 0,
             "ticks": ""
            },
            "colorscale": [
             [
              0,
              "#0d0887"
             ],
             [
              0.1111111111111111,
              "#46039f"
             ],
             [
              0.2222222222222222,
              "#7201a8"
             ],
             [
              0.3333333333333333,
              "#9c179e"
             ],
             [
              0.4444444444444444,
              "#bd3786"
             ],
             [
              0.5555555555555556,
              "#d8576b"
             ],
             [
              0.6666666666666666,
              "#ed7953"
             ],
             [
              0.7777777777777778,
              "#fb9f3a"
             ],
             [
              0.8888888888888888,
              "#fdca26"
             ],
             [
              1,
              "#f0f921"
             ]
            ],
            "type": "histogram2d"
           }
          ],
          "histogram2dcontour": [
           {
            "colorbar": {
             "outlinewidth": 0,
             "ticks": ""
            },
            "colorscale": [
             [
              0,
              "#0d0887"
             ],
             [
              0.1111111111111111,
              "#46039f"
             ],
             [
              0.2222222222222222,
              "#7201a8"
             ],
             [
              0.3333333333333333,
              "#9c179e"
             ],
             [
              0.4444444444444444,
              "#bd3786"
             ],
             [
              0.5555555555555556,
              "#d8576b"
             ],
             [
              0.6666666666666666,
              "#ed7953"
             ],
             [
              0.7777777777777778,
              "#fb9f3a"
             ],
             [
              0.8888888888888888,
              "#fdca26"
             ],
             [
              1,
              "#f0f921"
             ]
            ],
            "type": "histogram2dcontour"
           }
          ],
          "mesh3d": [
           {
            "colorbar": {
             "outlinewidth": 0,
             "ticks": ""
            },
            "type": "mesh3d"
           }
          ],
          "parcoords": [
           {
            "line": {
             "colorbar": {
              "outlinewidth": 0,
              "ticks": ""
             }
            },
            "type": "parcoords"
           }
          ],
          "pie": [
           {
            "automargin": true,
            "type": "pie"
           }
          ],
          "scatter": [
           {
            "fillpattern": {
             "fillmode": "overlay",
             "size": 10,
             "solidity": 0.2
            },
            "type": "scatter"
           }
          ],
          "scatter3d": [
           {
            "line": {
             "colorbar": {
              "outlinewidth": 0,
              "ticks": ""
             }
            },
            "marker": {
             "colorbar": {
              "outlinewidth": 0,
              "ticks": ""
             }
            },
            "type": "scatter3d"
           }
          ],
          "scattercarpet": [
           {
            "marker": {
             "colorbar": {
              "outlinewidth": 0,
              "ticks": ""
             }
            },
            "type": "scattercarpet"
           }
          ],
          "scattergeo": [
           {
            "marker": {
             "colorbar": {
              "outlinewidth": 0,
              "ticks": ""
             }
            },
            "type": "scattergeo"
           }
          ],
          "scattergl": [
           {
            "marker": {
             "colorbar": {
              "outlinewidth": 0,
              "ticks": ""
             }
            },
            "type": "scattergl"
           }
          ],
          "scattermapbox": [
           {
            "marker": {
             "colorbar": {
              "outlinewidth": 0,
              "ticks": ""
             }
            },
            "type": "scattermapbox"
           }
          ],
          "scatterpolar": [
           {
            "marker": {
             "colorbar": {
              "outlinewidth": 0,
              "ticks": ""
             }
            },
            "type": "scatterpolar"
           }
          ],
          "scatterpolargl": [
           {
            "marker": {
             "colorbar": {
              "outlinewidth": 0,
              "ticks": ""
             }
            },
            "type": "scatterpolargl"
           }
          ],
          "scatterternary": [
           {
            "marker": {
             "colorbar": {
              "outlinewidth": 0,
              "ticks": ""
             }
            },
            "type": "scatterternary"
           }
          ],
          "surface": [
           {
            "colorbar": {
             "outlinewidth": 0,
             "ticks": ""
            },
            "colorscale": [
             [
              0,
              "#0d0887"
             ],
             [
              0.1111111111111111,
              "#46039f"
             ],
             [
              0.2222222222222222,
              "#7201a8"
             ],
             [
              0.3333333333333333,
              "#9c179e"
             ],
             [
              0.4444444444444444,
              "#bd3786"
             ],
             [
              0.5555555555555556,
              "#d8576b"
             ],
             [
              0.6666666666666666,
              "#ed7953"
             ],
             [
              0.7777777777777778,
              "#fb9f3a"
             ],
             [
              0.8888888888888888,
              "#fdca26"
             ],
             [
              1,
              "#f0f921"
             ]
            ],
            "type": "surface"
           }
          ],
          "table": [
           {
            "cells": {
             "fill": {
              "color": "#EBF0F8"
             },
             "line": {
              "color": "white"
             }
            },
            "header": {
             "fill": {
              "color": "#C8D4E3"
             },
             "line": {
              "color": "white"
             }
            },
            "type": "table"
           }
          ]
         },
         "layout": {
          "annotationdefaults": {
           "arrowcolor": "#2a3f5f",
           "arrowhead": 0,
           "arrowwidth": 1
          },
          "autotypenumbers": "strict",
          "coloraxis": {
           "colorbar": {
            "outlinewidth": 0,
            "ticks": ""
           }
          },
          "colorscale": {
           "diverging": [
            [
             0,
             "#8e0152"
            ],
            [
             0.1,
             "#c51b7d"
            ],
            [
             0.2,
             "#de77ae"
            ],
            [
             0.3,
             "#f1b6da"
            ],
            [
             0.4,
             "#fde0ef"
            ],
            [
             0.5,
             "#f7f7f7"
            ],
            [
             0.6,
             "#e6f5d0"
            ],
            [
             0.7,
             "#b8e186"
            ],
            [
             0.8,
             "#7fbc41"
            ],
            [
             0.9,
             "#4d9221"
            ],
            [
             1,
             "#276419"
            ]
           ],
           "sequential": [
            [
             0,
             "#0d0887"
            ],
            [
             0.1111111111111111,
             "#46039f"
            ],
            [
             0.2222222222222222,
             "#7201a8"
            ],
            [
             0.3333333333333333,
             "#9c179e"
            ],
            [
             0.4444444444444444,
             "#bd3786"
            ],
            [
             0.5555555555555556,
             "#d8576b"
            ],
            [
             0.6666666666666666,
             "#ed7953"
            ],
            [
             0.7777777777777778,
             "#fb9f3a"
            ],
            [
             0.8888888888888888,
             "#fdca26"
            ],
            [
             1,
             "#f0f921"
            ]
           ],
           "sequentialminus": [
            [
             0,
             "#0d0887"
            ],
            [
             0.1111111111111111,
             "#46039f"
            ],
            [
             0.2222222222222222,
             "#7201a8"
            ],
            [
             0.3333333333333333,
             "#9c179e"
            ],
            [
             0.4444444444444444,
             "#bd3786"
            ],
            [
             0.5555555555555556,
             "#d8576b"
            ],
            [
             0.6666666666666666,
             "#ed7953"
            ],
            [
             0.7777777777777778,
             "#fb9f3a"
            ],
            [
             0.8888888888888888,
             "#fdca26"
            ],
            [
             1,
             "#f0f921"
            ]
           ]
          },
          "colorway": [
           "#636efa",
           "#EF553B",
           "#00cc96",
           "#ab63fa",
           "#FFA15A",
           "#19d3f3",
           "#FF6692",
           "#B6E880",
           "#FF97FF",
           "#FECB52"
          ],
          "font": {
           "color": "#2a3f5f"
          },
          "geo": {
           "bgcolor": "white",
           "lakecolor": "white",
           "landcolor": "#E5ECF6",
           "showlakes": true,
           "showland": true,
           "subunitcolor": "white"
          },
          "hoverlabel": {
           "align": "left"
          },
          "hovermode": "closest",
          "mapbox": {
           "style": "light"
          },
          "paper_bgcolor": "white",
          "plot_bgcolor": "#E5ECF6",
          "polar": {
           "angularaxis": {
            "gridcolor": "white",
            "linecolor": "white",
            "ticks": ""
           },
           "bgcolor": "#E5ECF6",
           "radialaxis": {
            "gridcolor": "white",
            "linecolor": "white",
            "ticks": ""
           }
          },
          "scene": {
           "xaxis": {
            "backgroundcolor": "#E5ECF6",
            "gridcolor": "white",
            "gridwidth": 2,
            "linecolor": "white",
            "showbackground": true,
            "ticks": "",
            "zerolinecolor": "white"
           },
           "yaxis": {
            "backgroundcolor": "#E5ECF6",
            "gridcolor": "white",
            "gridwidth": 2,
            "linecolor": "white",
            "showbackground": true,
            "ticks": "",
            "zerolinecolor": "white"
           },
           "zaxis": {
            "backgroundcolor": "#E5ECF6",
            "gridcolor": "white",
            "gridwidth": 2,
            "linecolor": "white",
            "showbackground": true,
            "ticks": "",
            "zerolinecolor": "white"
           }
          },
          "shapedefaults": {
           "line": {
            "color": "#2a3f5f"
           }
          },
          "ternary": {
           "aaxis": {
            "gridcolor": "white",
            "linecolor": "white",
            "ticks": ""
           },
           "baxis": {
            "gridcolor": "white",
            "linecolor": "white",
            "ticks": ""
           },
           "bgcolor": "#E5ECF6",
           "caxis": {
            "gridcolor": "white",
            "linecolor": "white",
            "ticks": ""
           }
          },
          "title": {
           "x": 0.05
          },
          "xaxis": {
           "automargin": true,
           "gridcolor": "white",
           "linecolor": "white",
           "ticks": "",
           "title": {
            "standoff": 15
           },
           "zerolinecolor": "white",
           "zerolinewidth": 2
          },
          "yaxis": {
           "automargin": true,
           "gridcolor": "white",
           "linecolor": "white",
           "ticks": "",
           "title": {
            "standoff": 15
           },
           "zerolinecolor": "white",
           "zerolinewidth": 2
          }
         }
        },
        "title": {
         "text": "Label: Wormadam"
        },
        "width": 300,
        "xaxis": {
         "anchor": "y",
         "domain": [
          0,
          1
         ]
        },
        "yaxis": {
         "anchor": "x",
         "domain": [
          0,
          1
         ]
        }
       }
      }
     },
     "metadata": {},
     "output_type": "display_data"
    },
    {
     "name": "stdout",
     "output_type": "stream",
     "text": [
      "tf.Tensor([0. 0. 0. 0.], shape=(4,), dtype=float32)\n",
      "(128, 128, 4)\n"
     ]
    },
    {
     "data": {
      "application/vnd.plotly.v1+json": {
       "config": {
        "plotlyServerURL": "https://plot.ly"
       },
       "data": [
        {
         "hovertemplate": "x: %{x}<br>y: %{y}<extra></extra>",
         "name": "0",
         "source": "data:image/png;base64,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",
         "type": "image",
         "xaxis": "x",
         "yaxis": "y"
        }
       ],
       "layout": {
        "height": 300,
        "margin": {
         "t": 60
        },
        "template": {
         "data": {
          "bar": [
           {
            "error_x": {
             "color": "#2a3f5f"
            },
            "error_y": {
             "color": "#2a3f5f"
            },
            "marker": {
             "line": {
              "color": "#E5ECF6",
              "width": 0.5
             },
             "pattern": {
              "fillmode": "overlay",
              "size": 10,
              "solidity": 0.2
             }
            },
            "type": "bar"
           }
          ],
          "barpolar": [
           {
            "marker": {
             "line": {
              "color": "#E5ECF6",
              "width": 0.5
             },
             "pattern": {
              "fillmode": "overlay",
              "size": 10,
              "solidity": 0.2
             }
            },
            "type": "barpolar"
           }
          ],
          "carpet": [
           {
            "aaxis": {
             "endlinecolor": "#2a3f5f",
             "gridcolor": "white",
             "linecolor": "white",
             "minorgridcolor": "white",
             "startlinecolor": "#2a3f5f"
            },
            "baxis": {
             "endlinecolor": "#2a3f5f",
             "gridcolor": "white",
             "linecolor": "white",
             "minorgridcolor": "white",
             "startlinecolor": "#2a3f5f"
            },
            "type": "carpet"
           }
          ],
          "choropleth": [
           {
            "colorbar": {
             "outlinewidth": 0,
             "ticks": ""
            },
            "type": "choropleth"
           }
          ],
          "contour": [
           {
            "colorbar": {
             "outlinewidth": 0,
             "ticks": ""
            },
            "colorscale": [
             [
              0,
              "#0d0887"
             ],
             [
              0.1111111111111111,
              "#46039f"
             ],
             [
              0.2222222222222222,
              "#7201a8"
             ],
             [
              0.3333333333333333,
              "#9c179e"
             ],
             [
              0.4444444444444444,
              "#bd3786"
             ],
             [
              0.5555555555555556,
              "#d8576b"
             ],
             [
              0.6666666666666666,
              "#ed7953"
             ],
             [
              0.7777777777777778,
              "#fb9f3a"
             ],
             [
              0.8888888888888888,
              "#fdca26"
             ],
             [
              1,
              "#f0f921"
             ]
            ],
            "type": "contour"
           }
          ],
          "contourcarpet": [
           {
            "colorbar": {
             "outlinewidth": 0,
             "ticks": ""
            },
            "type": "contourcarpet"
           }
          ],
          "heatmap": [
           {
            "colorbar": {
             "outlinewidth": 0,
             "ticks": ""
            },
            "colorscale": [
             [
              0,
              "#0d0887"
             ],
             [
              0.1111111111111111,
              "#46039f"
             ],
             [
              0.2222222222222222,
              "#7201a8"
             ],
             [
              0.3333333333333333,
              "#9c179e"
             ],
             [
              0.4444444444444444,
              "#bd3786"
             ],
             [
              0.5555555555555556,
              "#d8576b"
             ],
             [
              0.6666666666666666,
              "#ed7953"
             ],
             [
              0.7777777777777778,
              "#fb9f3a"
             ],
             [
              0.8888888888888888,
              "#fdca26"
             ],
             [
              1,
              "#f0f921"
             ]
            ],
            "type": "heatmap"
           }
          ],
          "heatmapgl": [
           {
            "colorbar": {
             "outlinewidth": 0,
             "ticks": ""
            },
            "colorscale": [
             [
              0,
              "#0d0887"
             ],
             [
              0.1111111111111111,
              "#46039f"
             ],
             [
              0.2222222222222222,
              "#7201a8"
             ],
             [
              0.3333333333333333,
              "#9c179e"
             ],
             [
              0.4444444444444444,
              "#bd3786"
             ],
             [
              0.5555555555555556,
              "#d8576b"
             ],
             [
              0.6666666666666666,
              "#ed7953"
             ],
             [
              0.7777777777777778,
              "#fb9f3a"
             ],
             [
              0.8888888888888888,
              "#fdca26"
             ],
             [
              1,
              "#f0f921"
             ]
            ],
            "type": "heatmapgl"
           }
          ],
          "histogram": [
           {
            "marker": {
             "pattern": {
              "fillmode": "overlay",
              "size": 10,
              "solidity": 0.2
             }
            },
            "type": "histogram"
           }
          ],
          "histogram2d": [
           {
            "colorbar": {
             "outlinewidth": 0,
             "ticks": ""
            },
            "colorscale": [
             [
              0,
              "#0d0887"
             ],
             [
              0.1111111111111111,
              "#46039f"
             ],
             [
              0.2222222222222222,
              "#7201a8"
             ],
             [
              0.3333333333333333,
              "#9c179e"
             ],
             [
              0.4444444444444444,
              "#bd3786"
             ],
             [
              0.5555555555555556,
              "#d8576b"
             ],
             [
              0.6666666666666666,
              "#ed7953"
             ],
             [
              0.7777777777777778,
              "#fb9f3a"
             ],
             [
              0.8888888888888888,
              "#fdca26"
             ],
             [
              1,
              "#f0f921"
             ]
            ],
            "type": "histogram2d"
           }
          ],
          "histogram2dcontour": [
           {
            "colorbar": {
             "outlinewidth": 0,
             "ticks": ""
            },
            "colorscale": [
             [
              0,
              "#0d0887"
             ],
             [
              0.1111111111111111,
              "#46039f"
             ],
             [
              0.2222222222222222,
              "#7201a8"
             ],
             [
              0.3333333333333333,
              "#9c179e"
             ],
             [
              0.4444444444444444,
              "#bd3786"
             ],
             [
              0.5555555555555556,
              "#d8576b"
             ],
             [
              0.6666666666666666,
              "#ed7953"
             ],
             [
              0.7777777777777778,
              "#fb9f3a"
             ],
             [
              0.8888888888888888,
              "#fdca26"
             ],
             [
              1,
              "#f0f921"
             ]
            ],
            "type": "histogram2dcontour"
           }
          ],
          "mesh3d": [
           {
            "colorbar": {
             "outlinewidth": 0,
             "ticks": ""
            },
            "type": "mesh3d"
           }
          ],
          "parcoords": [
           {
            "line": {
             "colorbar": {
              "outlinewidth": 0,
              "ticks": ""
             }
            },
            "type": "parcoords"
           }
          ],
          "pie": [
           {
            "automargin": true,
            "type": "pie"
           }
          ],
          "scatter": [
           {
            "fillpattern": {
             "fillmode": "overlay",
             "size": 10,
             "solidity": 0.2
            },
            "type": "scatter"
           }
          ],
          "scatter3d": [
           {
            "line": {
             "colorbar": {
              "outlinewidth": 0,
              "ticks": ""
             }
            },
            "marker": {
             "colorbar": {
              "outlinewidth": 0,
              "ticks": ""
             }
            },
            "type": "scatter3d"
           }
          ],
          "scattercarpet": [
           {
            "marker": {
             "colorbar": {
              "outlinewidth": 0,
              "ticks": ""
             }
            },
            "type": "scattercarpet"
           }
          ],
          "scattergeo": [
           {
            "marker": {
             "colorbar": {
              "outlinewidth": 0,
              "ticks": ""
             }
            },
            "type": "scattergeo"
           }
          ],
          "scattergl": [
           {
            "marker": {
             "colorbar": {
              "outlinewidth": 0,
              "ticks": ""
             }
            },
            "type": "scattergl"
           }
          ],
          "scattermapbox": [
           {
            "marker": {
             "colorbar": {
              "outlinewidth": 0,
              "ticks": ""
             }
            },
            "type": "scattermapbox"
           }
          ],
          "scatterpolar": [
           {
            "marker": {
             "colorbar": {
              "outlinewidth": 0,
              "ticks": ""
             }
            },
            "type": "scatterpolar"
           }
          ],
          "scatterpolargl": [
           {
            "marker": {
             "colorbar": {
              "outlinewidth": 0,
              "ticks": ""
             }
            },
            "type": "scatterpolargl"
           }
          ],
          "scatterternary": [
           {
            "marker": {
             "colorbar": {
              "outlinewidth": 0,
              "ticks": ""
             }
            },
            "type": "scatterternary"
           }
          ],
          "surface": [
           {
            "colorbar": {
             "outlinewidth": 0,
             "ticks": ""
            },
            "colorscale": [
             [
              0,
              "#0d0887"
             ],
             [
              0.1111111111111111,
              "#46039f"
             ],
             [
              0.2222222222222222,
              "#7201a8"
             ],
             [
              0.3333333333333333,
              "#9c179e"
             ],
             [
              0.4444444444444444,
              "#bd3786"
             ],
             [
              0.5555555555555556,
              "#d8576b"
             ],
             [
              0.6666666666666666,
              "#ed7953"
             ],
             [
              0.7777777777777778,
              "#fb9f3a"
             ],
             [
              0.8888888888888888,
              "#fdca26"
             ],
             [
              1,
              "#f0f921"
             ]
            ],
            "type": "surface"
           }
          ],
          "table": [
           {
            "cells": {
             "fill": {
              "color": "#EBF0F8"
             },
             "line": {
              "color": "white"
             }
            },
            "header": {
             "fill": {
              "color": "#C8D4E3"
             },
             "line": {
              "color": "white"
             }
            },
            "type": "table"
           }
          ]
         },
         "layout": {
          "annotationdefaults": {
           "arrowcolor": "#2a3f5f",
           "arrowhead": 0,
           "arrowwidth": 1
          },
          "autotypenumbers": "strict",
          "coloraxis": {
           "colorbar": {
            "outlinewidth": 0,
            "ticks": ""
           }
          },
          "colorscale": {
           "diverging": [
            [
             0,
             "#8e0152"
            ],
            [
             0.1,
             "#c51b7d"
            ],
            [
             0.2,
             "#de77ae"
            ],
            [
             0.3,
             "#f1b6da"
            ],
            [
             0.4,
             "#fde0ef"
            ],
            [
             0.5,
             "#f7f7f7"
            ],
            [
             0.6,
             "#e6f5d0"
            ],
            [
             0.7,
             "#b8e186"
            ],
            [
             0.8,
             "#7fbc41"
            ],
            [
             0.9,
             "#4d9221"
            ],
            [
             1,
             "#276419"
            ]
           ],
           "sequential": [
            [
             0,
             "#0d0887"
            ],
            [
             0.1111111111111111,
             "#46039f"
            ],
            [
             0.2222222222222222,
             "#7201a8"
            ],
            [
             0.3333333333333333,
             "#9c179e"
            ],
            [
             0.4444444444444444,
             "#bd3786"
            ],
            [
             0.5555555555555556,
             "#d8576b"
            ],
            [
             0.6666666666666666,
             "#ed7953"
            ],
            [
             0.7777777777777778,
             "#fb9f3a"
            ],
            [
             0.8888888888888888,
             "#fdca26"
            ],
            [
             1,
             "#f0f921"
            ]
           ],
           "sequentialminus": [
            [
             0,
             "#0d0887"
            ],
            [
             0.1111111111111111,
             "#46039f"
            ],
            [
             0.2222222222222222,
             "#7201a8"
            ],
            [
             0.3333333333333333,
             "#9c179e"
            ],
            [
             0.4444444444444444,
             "#bd3786"
            ],
            [
             0.5555555555555556,
             "#d8576b"
            ],
            [
             0.6666666666666666,
             "#ed7953"
            ],
            [
             0.7777777777777778,
             "#fb9f3a"
            ],
            [
             0.8888888888888888,
             "#fdca26"
            ],
            [
             1,
             "#f0f921"
            ]
           ]
          },
          "colorway": [
           "#636efa",
           "#EF553B",
           "#00cc96",
           "#ab63fa",
           "#FFA15A",
           "#19d3f3",
           "#FF6692",
           "#B6E880",
           "#FF97FF",
           "#FECB52"
          ],
          "font": {
           "color": "#2a3f5f"
          },
          "geo": {
           "bgcolor": "white",
           "lakecolor": "white",
           "landcolor": "#E5ECF6",
           "showlakes": true,
           "showland": true,
           "subunitcolor": "white"
          },
          "hoverlabel": {
           "align": "left"
          },
          "hovermode": "closest",
          "mapbox": {
           "style": "light"
          },
          "paper_bgcolor": "white",
          "plot_bgcolor": "#E5ECF6",
          "polar": {
           "angularaxis": {
            "gridcolor": "white",
            "linecolor": "white",
            "ticks": ""
           },
           "bgcolor": "#E5ECF6",
           "radialaxis": {
            "gridcolor": "white",
            "linecolor": "white",
            "ticks": ""
           }
          },
          "scene": {
           "xaxis": {
            "backgroundcolor": "#E5ECF6",
            "gridcolor": "white",
            "gridwidth": 2,
            "linecolor": "white",
            "showbackground": true,
            "ticks": "",
            "zerolinecolor": "white"
           },
           "yaxis": {
            "backgroundcolor": "#E5ECF6",
            "gridcolor": "white",
            "gridwidth": 2,
            "linecolor": "white",
            "showbackground": true,
            "ticks": "",
            "zerolinecolor": "white"
           },
           "zaxis": {
            "backgroundcolor": "#E5ECF6",
            "gridcolor": "white",
            "gridwidth": 2,
            "linecolor": "white",
            "showbackground": true,
            "ticks": "",
            "zerolinecolor": "white"
           }
          },
          "shapedefaults": {
           "line": {
            "color": "#2a3f5f"
           }
          },
          "ternary": {
           "aaxis": {
            "gridcolor": "white",
            "linecolor": "white",
            "ticks": ""
           },
           "baxis": {
            "gridcolor": "white",
            "linecolor": "white",
            "ticks": ""
           },
           "bgcolor": "#E5ECF6",
           "caxis": {
            "gridcolor": "white",
            "linecolor": "white",
            "ticks": ""
           }
          },
          "title": {
           "x": 0.05
          },
          "xaxis": {
           "automargin": true,
           "gridcolor": "white",
           "linecolor": "white",
           "ticks": "",
           "title": {
            "standoff": 15
           },
           "zerolinecolor": "white",
           "zerolinewidth": 2
          },
          "yaxis": {
           "automargin": true,
           "gridcolor": "white",
           "linecolor": "white",
           "ticks": "",
           "title": {
            "standoff": 15
           },
           "zerolinecolor": "white",
           "zerolinewidth": 2
          }
         }
        },
        "title": {
         "text": "Label: Hoothoot"
        },
        "width": 300,
        "xaxis": {
         "anchor": "y",
         "domain": [
          0,
          1
         ]
        },
        "yaxis": {
         "anchor": "x",
         "domain": [
          0,
          1
         ]
        }
       }
      }
     },
     "metadata": {},
     "output_type": "display_data"
    },
    {
     "name": "stdout",
     "output_type": "stream",
     "text": [
      "tf.Tensor([8.937027  7.6552353 7.1669617 6.5562973], shape=(4,), dtype=float32)\n",
      "(128, 128, 4)\n"
     ]
    },
    {
     "data": {
      "application/vnd.plotly.v1+json": {
       "config": {
        "plotlyServerURL": "https://plot.ly"
       },
       "data": [
        {
         "hovertemplate": "x: %{x}<br>y: %{y}<extra></extra>",
         "name": "0",
         "source": "data:image/png;base64,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",
         "type": "image",
         "xaxis": "x",
         "yaxis": "y"
        }
       ],
       "layout": {
        "height": 300,
        "margin": {
         "t": 60
        },
        "template": {
         "data": {
          "bar": [
           {
            "error_x": {
             "color": "#2a3f5f"
            },
            "error_y": {
             "color": "#2a3f5f"
            },
            "marker": {
             "line": {
              "color": "#E5ECF6",
              "width": 0.5
             },
             "pattern": {
              "fillmode": "overlay",
              "size": 10,
              "solidity": 0.2
             }
            },
            "type": "bar"
           }
          ],
          "barpolar": [
           {
            "marker": {
             "line": {
              "color": "#E5ECF6",
              "width": 0.5
             },
             "pattern": {
              "fillmode": "overlay",
              "size": 10,
              "solidity": 0.2
             }
            },
            "type": "barpolar"
           }
          ],
          "carpet": [
           {
            "aaxis": {
             "endlinecolor": "#2a3f5f",
             "gridcolor": "white",
             "linecolor": "white",
             "minorgridcolor": "white",
             "startlinecolor": "#2a3f5f"
            },
            "baxis": {
             "endlinecolor": "#2a3f5f",
             "gridcolor": "white",
             "linecolor": "white",
             "minorgridcolor": "white",
             "startlinecolor": "#2a3f5f"
            },
            "type": "carpet"
           }
          ],
          "choropleth": [
           {
            "colorbar": {
             "outlinewidth": 0,
             "ticks": ""
            },
            "type": "choropleth"
           }
          ],
          "contour": [
           {
            "colorbar": {
             "outlinewidth": 0,
             "ticks": ""
            },
            "colorscale": [
             [
              0,
              "#0d0887"
             ],
             [
              0.1111111111111111,
              "#46039f"
             ],
             [
              0.2222222222222222,
              "#7201a8"
             ],
             [
              0.3333333333333333,
              "#9c179e"
             ],
             [
              0.4444444444444444,
              "#bd3786"
             ],
             [
              0.5555555555555556,
              "#d8576b"
             ],
             [
              0.6666666666666666,
              "#ed7953"
             ],
             [
              0.7777777777777778,
              "#fb9f3a"
             ],
             [
              0.8888888888888888,
              "#fdca26"
             ],
             [
              1,
              "#f0f921"
             ]
            ],
            "type": "contour"
           }
          ],
          "contourcarpet": [
           {
            "colorbar": {
             "outlinewidth": 0,
             "ticks": ""
            },
            "type": "contourcarpet"
           }
          ],
          "heatmap": [
           {
            "colorbar": {
             "outlinewidth": 0,
             "ticks": ""
            },
            "colorscale": [
             [
              0,
              "#0d0887"
             ],
             [
              0.1111111111111111,
              "#46039f"
             ],
             [
              0.2222222222222222,
              "#7201a8"
             ],
             [
              0.3333333333333333,
              "#9c179e"
             ],
             [
              0.4444444444444444,
              "#bd3786"
             ],
             [
              0.5555555555555556,
              "#d8576b"
             ],
             [
              0.6666666666666666,
              "#ed7953"
             ],
             [
              0.7777777777777778,
              "#fb9f3a"
             ],
             [
              0.8888888888888888,
              "#fdca26"
             ],
             [
              1,
              "#f0f921"
             ]
            ],
            "type": "heatmap"
           }
          ],
          "heatmapgl": [
           {
            "colorbar": {
             "outlinewidth": 0,
             "ticks": ""
            },
            "colorscale": [
             [
              0,
              "#0d0887"
             ],
             [
              0.1111111111111111,
              "#46039f"
             ],
             [
              0.2222222222222222,
              "#7201a8"
             ],
             [
              0.3333333333333333,
              "#9c179e"
             ],
             [
              0.4444444444444444,
              "#bd3786"
             ],
             [
              0.5555555555555556,
              "#d8576b"
             ],
             [
              0.6666666666666666,
              "#ed7953"
             ],
             [
              0.7777777777777778,
              "#fb9f3a"
             ],
             [
              0.8888888888888888,
              "#fdca26"
             ],
             [
              1,
              "#f0f921"
             ]
            ],
            "type": "heatmapgl"
           }
          ],
          "histogram": [
           {
            "marker": {
             "pattern": {
              "fillmode": "overlay",
              "size": 10,
              "solidity": 0.2
             }
            },
            "type": "histogram"
           }
          ],
          "histogram2d": [
           {
            "colorbar": {
             "outlinewidth": 0,
             "ticks": ""
            },
            "colorscale": [
             [
              0,
              "#0d0887"
             ],
             [
              0.1111111111111111,
              "#46039f"
             ],
             [
              0.2222222222222222,
              "#7201a8"
             ],
             [
              0.3333333333333333,
              "#9c179e"
             ],
             [
              0.4444444444444444,
              "#bd3786"
             ],
             [
              0.5555555555555556,
              "#d8576b"
             ],
             [
              0.6666666666666666,
              "#ed7953"
             ],
             [
              0.7777777777777778,
              "#fb9f3a"
             ],
             [
              0.8888888888888888,
              "#fdca26"
             ],
             [
              1,
              "#f0f921"
             ]
            ],
            "type": "histogram2d"
           }
          ],
          "histogram2dcontour": [
           {
            "colorbar": {
             "outlinewidth": 0,
             "ticks": ""
            },
            "colorscale": [
             [
              0,
              "#0d0887"
             ],
             [
              0.1111111111111111,
              "#46039f"
             ],
             [
              0.2222222222222222,
              "#7201a8"
             ],
             [
              0.3333333333333333,
              "#9c179e"
             ],
             [
              0.4444444444444444,
              "#bd3786"
             ],
             [
              0.5555555555555556,
              "#d8576b"
             ],
             [
              0.6666666666666666,
              "#ed7953"
             ],
             [
              0.7777777777777778,
              "#fb9f3a"
             ],
             [
              0.8888888888888888,
              "#fdca26"
             ],
             [
              1,
              "#f0f921"
             ]
            ],
            "type": "histogram2dcontour"
           }
          ],
          "mesh3d": [
           {
            "colorbar": {
             "outlinewidth": 0,
             "ticks": ""
            },
            "type": "mesh3d"
           }
          ],
          "parcoords": [
           {
            "line": {
             "colorbar": {
              "outlinewidth": 0,
              "ticks": ""
             }
            },
            "type": "parcoords"
           }
          ],
          "pie": [
           {
            "automargin": true,
            "type": "pie"
           }
          ],
          "scatter": [
           {
            "fillpattern": {
             "fillmode": "overlay",
             "size": 10,
             "solidity": 0.2
            },
            "type": "scatter"
           }
          ],
          "scatter3d": [
           {
            "line": {
             "colorbar": {
              "outlinewidth": 0,
              "ticks": ""
             }
            },
            "marker": {
             "colorbar": {
              "outlinewidth": 0,
              "ticks": ""
             }
            },
            "type": "scatter3d"
           }
          ],
          "scattercarpet": [
           {
            "marker": {
             "colorbar": {
              "outlinewidth": 0,
              "ticks": ""
             }
            },
            "type": "scattercarpet"
           }
          ],
          "scattergeo": [
           {
            "marker": {
             "colorbar": {
              "outlinewidth": 0,
              "ticks": ""
             }
            },
            "type": "scattergeo"
           }
          ],
          "scattergl": [
           {
            "marker": {
             "colorbar": {
              "outlinewidth": 0,
              "ticks": ""
             }
            },
            "type": "scattergl"
           }
          ],
          "scattermapbox": [
           {
            "marker": {
             "colorbar": {
              "outlinewidth": 0,
              "ticks": ""
             }
            },
            "type": "scattermapbox"
           }
          ],
          "scatterpolar": [
           {
            "marker": {
             "colorbar": {
              "outlinewidth": 0,
              "ticks": ""
             }
            },
            "type": "scatterpolar"
           }
          ],
          "scatterpolargl": [
           {
            "marker": {
             "colorbar": {
              "outlinewidth": 0,
              "ticks": ""
             }
            },
            "type": "scatterpolargl"
           }
          ],
          "scatterternary": [
           {
            "marker": {
             "colorbar": {
              "outlinewidth": 0,
              "ticks": ""
             }
            },
            "type": "scatterternary"
           }
          ],
          "surface": [
           {
            "colorbar": {
             "outlinewidth": 0,
             "ticks": ""
            },
            "colorscale": [
             [
              0,
              "#0d0887"
             ],
             [
              0.1111111111111111,
              "#46039f"
             ],
             [
              0.2222222222222222,
              "#7201a8"
             ],
             [
              0.3333333333333333,
              "#9c179e"
             ],
             [
              0.4444444444444444,
              "#bd3786"
             ],
             [
              0.5555555555555556,
              "#d8576b"
             ],
             [
              0.6666666666666666,
              "#ed7953"
             ],
             [
              0.7777777777777778,
              "#fb9f3a"
             ],
             [
              0.8888888888888888,
              "#fdca26"
             ],
             [
              1,
              "#f0f921"
             ]
            ],
            "type": "surface"
           }
          ],
          "table": [
           {
            "cells": {
             "fill": {
              "color": "#EBF0F8"
             },
             "line": {
              "color": "white"
             }
            },
            "header": {
             "fill": {
              "color": "#C8D4E3"
             },
             "line": {
              "color": "white"
             }
            },
            "type": "table"
           }
          ]
         },
         "layout": {
          "annotationdefaults": {
           "arrowcolor": "#2a3f5f",
           "arrowhead": 0,
           "arrowwidth": 1
          },
          "autotypenumbers": "strict",
          "coloraxis": {
           "colorbar": {
            "outlinewidth": 0,
            "ticks": ""
           }
          },
          "colorscale": {
           "diverging": [
            [
             0,
             "#8e0152"
            ],
            [
             0.1,
             "#c51b7d"
            ],
            [
             0.2,
             "#de77ae"
            ],
            [
             0.3,
             "#f1b6da"
            ],
            [
             0.4,
             "#fde0ef"
            ],
            [
             0.5,
             "#f7f7f7"
            ],
            [
             0.6,
             "#e6f5d0"
            ],
            [
             0.7,
             "#b8e186"
            ],
            [
             0.8,
             "#7fbc41"
            ],
            [
             0.9,
             "#4d9221"
            ],
            [
             1,
             "#276419"
            ]
           ],
           "sequential": [
            [
             0,
             "#0d0887"
            ],
            [
             0.1111111111111111,
             "#46039f"
            ],
            [
             0.2222222222222222,
             "#7201a8"
            ],
            [
             0.3333333333333333,
             "#9c179e"
            ],
            [
             0.4444444444444444,
             "#bd3786"
            ],
            [
             0.5555555555555556,
             "#d8576b"
            ],
            [
             0.6666666666666666,
             "#ed7953"
            ],
            [
             0.7777777777777778,
             "#fb9f3a"
            ],
            [
             0.8888888888888888,
             "#fdca26"
            ],
            [
             1,
             "#f0f921"
            ]
           ],
           "sequentialminus": [
            [
             0,
             "#0d0887"
            ],
            [
             0.1111111111111111,
             "#46039f"
            ],
            [
             0.2222222222222222,
             "#7201a8"
            ],
            [
             0.3333333333333333,
             "#9c179e"
            ],
            [
             0.4444444444444444,
             "#bd3786"
            ],
            [
             0.5555555555555556,
             "#d8576b"
            ],
            [
             0.6666666666666666,
             "#ed7953"
            ],
            [
             0.7777777777777778,
             "#fb9f3a"
            ],
            [
             0.8888888888888888,
             "#fdca26"
            ],
            [
             1,
             "#f0f921"
            ]
           ]
          },
          "colorway": [
           "#636efa",
           "#EF553B",
           "#00cc96",
           "#ab63fa",
           "#FFA15A",
           "#19d3f3",
           "#FF6692",
           "#B6E880",
           "#FF97FF",
           "#FECB52"
          ],
          "font": {
           "color": "#2a3f5f"
          },
          "geo": {
           "bgcolor": "white",
           "lakecolor": "white",
           "landcolor": "#E5ECF6",
           "showlakes": true,
           "showland": true,
           "subunitcolor": "white"
          },
          "hoverlabel": {
           "align": "left"
          },
          "hovermode": "closest",
          "mapbox": {
           "style": "light"
          },
          "paper_bgcolor": "white",
          "plot_bgcolor": "#E5ECF6",
          "polar": {
           "angularaxis": {
            "gridcolor": "white",
            "linecolor": "white",
            "ticks": ""
           },
           "bgcolor": "#E5ECF6",
           "radialaxis": {
            "gridcolor": "white",
            "linecolor": "white",
            "ticks": ""
           }
          },
          "scene": {
           "xaxis": {
            "backgroundcolor": "#E5ECF6",
            "gridcolor": "white",
            "gridwidth": 2,
            "linecolor": "white",
            "showbackground": true,
            "ticks": "",
            "zerolinecolor": "white"
           },
           "yaxis": {
            "backgroundcolor": "#E5ECF6",
            "gridcolor": "white",
            "gridwidth": 2,
            "linecolor": "white",
            "showbackground": true,
            "ticks": "",
            "zerolinecolor": "white"
           },
           "zaxis": {
            "backgroundcolor": "#E5ECF6",
            "gridcolor": "white",
            "gridwidth": 2,
            "linecolor": "white",
            "showbackground": true,
            "ticks": "",
            "zerolinecolor": "white"
           }
          },
          "shapedefaults": {
           "line": {
            "color": "#2a3f5f"
           }
          },
          "ternary": {
           "aaxis": {
            "gridcolor": "white",
            "linecolor": "white",
            "ticks": ""
           },
           "baxis": {
            "gridcolor": "white",
            "linecolor": "white",
            "ticks": ""
           },
           "bgcolor": "#E5ECF6",
           "caxis": {
            "gridcolor": "white",
            "linecolor": "white",
            "ticks": ""
           }
          },
          "title": {
           "x": 0.05
          },
          "xaxis": {
           "automargin": true,
           "gridcolor": "white",
           "linecolor": "white",
           "ticks": "",
           "title": {
            "standoff": 15
           },
           "zerolinecolor": "white",
           "zerolinewidth": 2
          },
          "yaxis": {
           "automargin": true,
           "gridcolor": "white",
           "linecolor": "white",
           "ticks": "",
           "title": {
            "standoff": 15
           },
           "zerolinecolor": "white",
           "zerolinewidth": 2
          }
         }
        },
        "title": {
         "text": "Label: Hitmonchan"
        },
        "width": 300,
        "xaxis": {
         "anchor": "y",
         "domain": [
          0,
          1
         ]
        },
        "yaxis": {
         "anchor": "x",
         "domain": [
          0,
          1
         ]
        }
       }
      }
     },
     "metadata": {},
     "output_type": "display_data"
    }
   ],
   "source": [
    "plot_n_images(train_ds, 5)"
   ]
  },
  {
   "cell_type": "code",
   "execution_count": 8,
   "metadata": {},
   "outputs": [],
   "source": [
    "# Define the EfficientNetB4 model\n",
    "base_model = EfficientNetB4(include_top=False, input_shape=input_shape, pooling='avg', weights='imagenet')\n",
    "\n",
    "# Freeze the base model\n",
    "base_model.trainable = False\n",
    "\n",
    "# Define the model inputs\n",
    "inputs = tf.keras.Input(shape=input_shape, batch_size=batch_size)\n",
    "\n",
    "# Preprocess the inputs\n",
    "x = base_model(inputs, training=False)\n",
    "x = tf.keras.layers.Dense(512, activation='relu')(x)\n",
    "x = tf.keras.layers.Dropout(0.2)(x)\n",
    "x = tf.keras.layers.Dense(256, activation='relu')(x)\n",
    "x = tf.keras.layers.Dropout(0.2)(x)\n",
    "x = tf.keras.layers.Dense(len(class_names), activation='softmax')(x)\n",
    "\n",
    "# Define the model\n",
    "model = tf.keras.Model(inputs, x)\n",
    "\n",
    "# Compile the model\n",
    "model.compile(optimizer='adam', loss='categorical_crossentropy', metrics=['top_k_categorical_accuracy'])"
   ]
  },
  {
   "cell_type": "code",
   "execution_count": 9,
   "metadata": {},
   "outputs": [
    {
     "name": "stdout",
     "output_type": "stream",
     "text": [
      "Model: \"model\"\n",
      "_________________________________________________________________\n",
      " Layer (type)                Output Shape              Param #   \n",
      "=================================================================\n",
      " input_2 (InputLayer)        [(32, 128, 128, 3)]       0         \n",
      "                                                                 \n",
      " efficientnetb4 (Functional)  (None, 1792)             17673823  \n",
      "                                                                 \n",
      " dense (Dense)               (32, 512)                 918016    \n",
      "                                                                 \n",
      " dropout (Dropout)           (32, 512)                 0         \n",
      "                                                                 \n",
      " dense_1 (Dense)             (32, 256)                 131328    \n",
      "                                                                 \n",
      " dropout_1 (Dropout)         (32, 256)                 0         \n",
      "                                                                 \n",
      " dense_2 (Dense)             (32, 905)                 232585    \n",
      "                                                                 \n",
      "=================================================================\n",
      "Total params: 18,955,752\n",
      "Trainable params: 1,281,929\n",
      "Non-trainable params: 17,673,823\n",
      "_________________________________________________________________\n"
     ]
    }
   ],
   "source": [
    "model.summary()"
   ]
  },
  {
   "cell_type": "code",
   "execution_count": 10,
   "metadata": {},
   "outputs": [
    {
     "name": "stdout",
     "output_type": "stream",
     "text": [
      "Epoch 1/10\n"
     ]
    },
    {
     "ename": "ValueError",
     "evalue": "in user code:\n\n    File \"c:\\Users\\valen\\AppData\\Local\\Programs\\Python\\Python310\\lib\\site-packages\\keras\\engine\\training.py\", line 1160, in train_function  *\n        return step_function(self, iterator)\n    File \"c:\\Users\\valen\\AppData\\Local\\Programs\\Python\\Python310\\lib\\site-packages\\keras\\engine\\training.py\", line 1146, in step_function  **\n        outputs = model.distribute_strategy.run(run_step, args=(data,))\n    File \"c:\\Users\\valen\\AppData\\Local\\Programs\\Python\\Python310\\lib\\site-packages\\keras\\engine\\training.py\", line 1135, in run_step  **\n        outputs = model.train_step(data)\n    File \"c:\\Users\\valen\\AppData\\Local\\Programs\\Python\\Python310\\lib\\site-packages\\keras\\engine\\training.py\", line 993, in train_step\n        y_pred = self(x, training=True)\n    File \"c:\\Users\\valen\\AppData\\Local\\Programs\\Python\\Python310\\lib\\site-packages\\keras\\utils\\traceback_utils.py\", line 70, in error_handler\n        raise e.with_traceback(filtered_tb) from None\n    File \"c:\\Users\\valen\\AppData\\Local\\Programs\\Python\\Python310\\lib\\site-packages\\keras\\engine\\input_spec.py\", line 295, in assert_input_compatibility\n        raise ValueError(\n\n    ValueError: Input 0 of layer \"model\" is incompatible with the layer: expected shape=(None, 128, 128, 3), found shape=(None, 128, 128, 4)\n",
     "output_type": "error",
     "traceback": [
      "\u001b[1;31m---------------------------------------------------------------------------\u001b[0m",
      "\u001b[1;31mValueError\u001b[0m                                Traceback (most recent call last)",
      "\u001b[1;32md:\\GAN_poke\\pokedex.ipynb Cell 12\u001b[0m in \u001b[0;36m1\n\u001b[1;32m----> <a href='vscode-notebook-cell:/d%3A/GAN_poke/pokedex.ipynb#X20sZmlsZQ%3D%3D?line=0'>1</a>\u001b[0m model\u001b[39m.\u001b[39;49mfit(train_ds, validation_data\u001b[39m=\u001b[39;49mval_ds, epochs\u001b[39m=\u001b[39;49m\u001b[39m10\u001b[39;49m)\n",
      "File \u001b[1;32mc:\\Users\\valen\\AppData\\Local\\Programs\\Python\\Python310\\lib\\site-packages\\keras\\utils\\traceback_utils.py:70\u001b[0m, in \u001b[0;36mfilter_traceback.<locals>.error_handler\u001b[1;34m(*args, **kwargs)\u001b[0m\n\u001b[0;32m     67\u001b[0m     filtered_tb \u001b[39m=\u001b[39m _process_traceback_frames(e\u001b[39m.\u001b[39m__traceback__)\n\u001b[0;32m     68\u001b[0m     \u001b[39m# To get the full stack trace, call:\u001b[39;00m\n\u001b[0;32m     69\u001b[0m     \u001b[39m# `tf.debugging.disable_traceback_filtering()`\u001b[39;00m\n\u001b[1;32m---> 70\u001b[0m     \u001b[39mraise\u001b[39;00m e\u001b[39m.\u001b[39mwith_traceback(filtered_tb) \u001b[39mfrom\u001b[39;00m \u001b[39mNone\u001b[39m\n\u001b[0;32m     71\u001b[0m \u001b[39mfinally\u001b[39;00m:\n\u001b[0;32m     72\u001b[0m     \u001b[39mdel\u001b[39;00m filtered_tb\n",
      "File \u001b[1;32m~\\AppData\\Local\\Temp\\__autograph_generated_filece_aidmu.py:15\u001b[0m, in \u001b[0;36mouter_factory.<locals>.inner_factory.<locals>.tf__train_function\u001b[1;34m(iterator)\u001b[0m\n\u001b[0;32m     13\u001b[0m \u001b[39mtry\u001b[39;00m:\n\u001b[0;32m     14\u001b[0m     do_return \u001b[39m=\u001b[39m \u001b[39mTrue\u001b[39;00m\n\u001b[1;32m---> 15\u001b[0m     retval_ \u001b[39m=\u001b[39m ag__\u001b[39m.\u001b[39mconverted_call(ag__\u001b[39m.\u001b[39mld(step_function), (ag__\u001b[39m.\u001b[39mld(\u001b[39mself\u001b[39m), ag__\u001b[39m.\u001b[39mld(iterator)), \u001b[39mNone\u001b[39;00m, fscope)\n\u001b[0;32m     16\u001b[0m \u001b[39mexcept\u001b[39;00m:\n\u001b[0;32m     17\u001b[0m     do_return \u001b[39m=\u001b[39m \u001b[39mFalse\u001b[39;00m\n",
      "\u001b[1;31mValueError\u001b[0m: in user code:\n\n    File \"c:\\Users\\valen\\AppData\\Local\\Programs\\Python\\Python310\\lib\\site-packages\\keras\\engine\\training.py\", line 1160, in train_function  *\n        return step_function(self, iterator)\n    File \"c:\\Users\\valen\\AppData\\Local\\Programs\\Python\\Python310\\lib\\site-packages\\keras\\engine\\training.py\", line 1146, in step_function  **\n        outputs = model.distribute_strategy.run(run_step, args=(data,))\n    File \"c:\\Users\\valen\\AppData\\Local\\Programs\\Python\\Python310\\lib\\site-packages\\keras\\engine\\training.py\", line 1135, in run_step  **\n        outputs = model.train_step(data)\n    File \"c:\\Users\\valen\\AppData\\Local\\Programs\\Python\\Python310\\lib\\site-packages\\keras\\engine\\training.py\", line 993, in train_step\n        y_pred = self(x, training=True)\n    File \"c:\\Users\\valen\\AppData\\Local\\Programs\\Python\\Python310\\lib\\site-packages\\keras\\utils\\traceback_utils.py\", line 70, in error_handler\n        raise e.with_traceback(filtered_tb) from None\n    File \"c:\\Users\\valen\\AppData\\Local\\Programs\\Python\\Python310\\lib\\site-packages\\keras\\engine\\input_spec.py\", line 295, in assert_input_compatibility\n        raise ValueError(\n\n    ValueError: Input 0 of layer \"model\" is incompatible with the layer: expected shape=(None, 128, 128, 3), found shape=(None, 128, 128, 4)\n"
     ]
    }
   ],
   "source": [
    "model.fit(train_ds, validation_data=val_ds, epochs=10)"
   ]
  },
  {
   "cell_type": "code",
   "execution_count": null,
   "metadata": {},
   "outputs": [],
   "source": []
  }
 ],
 "metadata": {
  "kernelspec": {
   "display_name": "Python 3.10.6 64-bit",
   "language": "python",
   "name": "python3"
  },
  "language_info": {
   "codemirror_mode": {
    "name": "ipython",
    "version": 3
   },
   "file_extension": ".py",
   "mimetype": "text/x-python",
   "name": "python",
   "nbconvert_exporter": "python",
   "pygments_lexer": "ipython3",
   "version": "3.10.6"
  },
  "orig_nbformat": 4,
  "vscode": {
   "interpreter": {
    "hash": "837c519a48be08d8749c778cb72b9b5aac116a087aa5d1d99ee0359dceff73e6"
   }
  }
 },
 "nbformat": 4,
 "nbformat_minor": 2
}
