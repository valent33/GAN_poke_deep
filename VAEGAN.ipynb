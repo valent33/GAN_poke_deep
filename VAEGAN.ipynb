{
 "cells": [
  {
   "cell_type": "code",
   "execution_count": 1,
   "metadata": {},
   "outputs": [],
   "source": [
    "import tensorflow as tf\n",
    "# import plotly.express as px\n",
    "import matplotlib.pyplot as plt\n",
    "from utils import *\n",
    "import pandas as pd"
   ]
  },
  {
   "cell_type": "code",
   "execution_count": 2,
   "metadata": {},
   "outputs": [],
   "source": [
    "directory = 'images/final/'\n",
    "width = 96\n",
    "height = 96\n",
    "channels = 4\n",
    "image_size = (width, height)\n",
    "input_shape = (width, height, channels)\n",
    "batch_size = 32"
   ]
  },
  {
   "cell_type": "code",
   "execution_count": 3,
   "metadata": {},
   "outputs": [
    {
     "name": "stdout",
     "output_type": "stream",
     "text": [
      "Found 13849 files belonging to 905 classes.\n"
     ]
    }
   ],
   "source": [
    "train_ds, class_names = load_data(directory, batch_size, image_size, GAN=True)"
   ]
  },
  {
   "cell_type": "code",
   "execution_count": 4,
   "metadata": {},
   "outputs": [],
   "source": [
    "types = pd.read_csv('PokeDataset.csv', usecols=['Name', 'Type1', 'Type2'])\n",
    "# reorder by alphabetical order of column 'Name'\n",
    "types = types.sort_values(by=['Name'])\n",
    "types = types.reset_index(drop=True)"
   ]
  },
  {
   "cell_type": "code",
   "execution_count": 5,
   "metadata": {},
   "outputs": [
    {
     "name": "stdout",
     "output_type": "stream",
     "text": [
      "Percentage of pokemon with double type: 49.61%\n"
     ]
    }
   ],
   "source": [
    "# give percentage of pokemon with double type\n",
    "print(f\"Percentage of pokemon with double type: {types['Type2'].count() / types['Type1'].count() * 100:.2f}%\")"
   ]
  },
  {
   "cell_type": "code",
   "execution_count": 6,
   "metadata": {},
   "outputs": [
    {
     "data": {
      "text/html": [
       "<div>\n",
       "<style scoped>\n",
       "    .dataframe tbody tr th:only-of-type {\n",
       "        vertical-align: middle;\n",
       "    }\n",
       "\n",
       "    .dataframe tbody tr th {\n",
       "        vertical-align: top;\n",
       "    }\n",
       "\n",
       "    .dataframe thead th {\n",
       "        text-align: right;\n",
       "    }\n",
       "</style>\n",
       "<table border=\"1\" class=\"dataframe\">\n",
       "  <thead>\n",
       "    <tr style=\"text-align: right;\">\n",
       "      <th></th>\n",
       "      <th>Name</th>\n",
       "      <th>Type1</th>\n",
       "      <th>Type2</th>\n",
       "    </tr>\n",
       "  </thead>\n",
       "  <tbody>\n",
       "    <tr>\n",
       "      <th>0</th>\n",
       "      <td>Abomasnow</td>\n",
       "      <td>Grass</td>\n",
       "      <td>Ice</td>\n",
       "    </tr>\n",
       "    <tr>\n",
       "      <th>1</th>\n",
       "      <td>Abra</td>\n",
       "      <td>Psychic</td>\n",
       "      <td>NaN</td>\n",
       "    </tr>\n",
       "    <tr>\n",
       "      <th>2</th>\n",
       "      <td>Absol</td>\n",
       "      <td>Dark</td>\n",
       "      <td>NaN</td>\n",
       "    </tr>\n",
       "    <tr>\n",
       "      <th>3</th>\n",
       "      <td>Accelgor</td>\n",
       "      <td>Bug</td>\n",
       "      <td>NaN</td>\n",
       "    </tr>\n",
       "    <tr>\n",
       "      <th>4</th>\n",
       "      <td>Aegislash</td>\n",
       "      <td>Steel</td>\n",
       "      <td>Ghost</td>\n",
       "    </tr>\n",
       "  </tbody>\n",
       "</table>\n",
       "</div>"
      ],
      "text/plain": [
       "        Name    Type1  Type2\n",
       "0  Abomasnow    Grass    Ice\n",
       "1       Abra  Psychic    NaN\n",
       "2      Absol     Dark    NaN\n",
       "3   Accelgor      Bug    NaN\n",
       "4  Aegislash    Steel  Ghost"
      ]
     },
     "execution_count": 6,
     "metadata": {},
     "output_type": "execute_result"
    }
   ],
   "source": [
    "types.head(5)"
   ]
  },
  {
   "cell_type": "code",
   "execution_count": 7,
   "metadata": {},
   "outputs": [],
   "source": [
    "# make a dictionary of types and their index in the list of types\n",
    "types_dict = {}\n",
    "for i, t in enumerate(types['Type1'].unique()):\n",
    "    types_dict[t] = i\n",
    "\n",
    "# create vector of labels with 0 for each type except the one in the row (type1 and type2 are strings)\n",
    "def create_label(row):\n",
    "    label = np.zeros(18)\n",
    "    label[types_dict[row['Type1']]] = 1\n",
    "    if row['Type2'] in types_dict:\n",
    "        label[types_dict[row['Type2']]] = 1\n",
    "    return label\n",
    "\n",
    "types['Label'] = types.apply(create_label, axis=1)"
   ]
  },
  {
   "cell_type": "code",
   "execution_count": 8,
   "metadata": {},
   "outputs": [],
   "source": [
    "def types_to_vector(type1, type2=None):\n",
    "    label = np.zeros(18)\n",
    "    label[types_dict[type1]] = 1\n",
    "    if type2 in types_dict:\n",
    "        label[types_dict[type2]] = 1\n",
    "    return label.reshape(1, 18)"
   ]
  },
  {
   "cell_type": "code",
   "execution_count": 9,
   "metadata": {},
   "outputs": [
    {
     "name": "stdout",
     "output_type": "stream",
     "text": [
      "521\n"
     ]
    },
    {
     "data": {
      "application/vnd.plotly.v1+json": {
       "config": {
        "plotlyServerURL": "https://plot.ly"
       },
       "data": [
        {
         "hovertemplate": "x: %{x}<br>y: %{y}<extra></extra>",
         "name": "0",
         "source": "data:image/png;base64,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",
         "type": "image",
         "xaxis": "x",
         "yaxis": "y"
        }
       ],
       "layout": {
        "height": 350,
        "margin": {
         "l": 0,
         "t": 60
        },
        "shapes": [
         {
          "line": {
           "color": "black",
           "width": 2
          },
          "type": "rect",
          "x0": 0,
          "x1": 96,
          "xref": "x",
          "y0": 0,
          "y1": 96,
          "yref": "y"
         }
        ],
        "template": {
         "data": {
          "bar": [
           {
            "error_x": {
             "color": "#2a3f5f"
            },
            "error_y": {
             "color": "#2a3f5f"
            },
            "marker": {
             "line": {
              "color": "#E5ECF6",
              "width": 0.5
             },
             "pattern": {
              "fillmode": "overlay",
              "size": 10,
              "solidity": 0.2
             }
            },
            "type": "bar"
           }
          ],
          "barpolar": [
           {
            "marker": {
             "line": {
              "color": "#E5ECF6",
              "width": 0.5
             },
             "pattern": {
              "fillmode": "overlay",
              "size": 10,
              "solidity": 0.2
             }
            },
            "type": "barpolar"
           }
          ],
          "carpet": [
           {
            "aaxis": {
             "endlinecolor": "#2a3f5f",
             "gridcolor": "white",
             "linecolor": "white",
             "minorgridcolor": "white",
             "startlinecolor": "#2a3f5f"
            },
            "baxis": {
             "endlinecolor": "#2a3f5f",
             "gridcolor": "white",
             "linecolor": "white",
             "minorgridcolor": "white",
             "startlinecolor": "#2a3f5f"
            },
            "type": "carpet"
           }
          ],
          "choropleth": [
           {
            "colorbar": {
             "outlinewidth": 0,
             "ticks": ""
            },
            "type": "choropleth"
           }
          ],
          "contour": [
           {
            "colorbar": {
             "outlinewidth": 0,
             "ticks": ""
            },
            "colorscale": [
             [
              0,
              "#0d0887"
             ],
             [
              0.1111111111111111,
              "#46039f"
             ],
             [
              0.2222222222222222,
              "#7201a8"
             ],
             [
              0.3333333333333333,
              "#9c179e"
             ],
             [
              0.4444444444444444,
              "#bd3786"
             ],
             [
              0.5555555555555556,
              "#d8576b"
             ],
             [
              0.6666666666666666,
              "#ed7953"
             ],
             [
              0.7777777777777778,
              "#fb9f3a"
             ],
             [
              0.8888888888888888,
              "#fdca26"
             ],
             [
              1,
              "#f0f921"
             ]
            ],
            "type": "contour"
           }
          ],
          "contourcarpet": [
           {
            "colorbar": {
             "outlinewidth": 0,
             "ticks": ""
            },
            "type": "contourcarpet"
           }
          ],
          "heatmap": [
           {
            "colorbar": {
             "outlinewidth": 0,
             "ticks": ""
            },
            "colorscale": [
             [
              0,
              "#0d0887"
             ],
             [
              0.1111111111111111,
              "#46039f"
             ],
             [
              0.2222222222222222,
              "#7201a8"
             ],
             [
              0.3333333333333333,
              "#9c179e"
             ],
             [
              0.4444444444444444,
              "#bd3786"
             ],
             [
              0.5555555555555556,
              "#d8576b"
             ],
             [
              0.6666666666666666,
              "#ed7953"
             ],
             [
              0.7777777777777778,
              "#fb9f3a"
             ],
             [
              0.8888888888888888,
              "#fdca26"
             ],
             [
              1,
              "#f0f921"
             ]
            ],
            "type": "heatmap"
           }
          ],
          "heatmapgl": [
           {
            "colorbar": {
             "outlinewidth": 0,
             "ticks": ""
            },
            "colorscale": [
             [
              0,
              "#0d0887"
             ],
             [
              0.1111111111111111,
              "#46039f"
             ],
             [
              0.2222222222222222,
              "#7201a8"
             ],
             [
              0.3333333333333333,
              "#9c179e"
             ],
             [
              0.4444444444444444,
              "#bd3786"
             ],
             [
              0.5555555555555556,
              "#d8576b"
             ],
             [
              0.6666666666666666,
              "#ed7953"
             ],
             [
              0.7777777777777778,
              "#fb9f3a"
             ],
             [
              0.8888888888888888,
              "#fdca26"
             ],
             [
              1,
              "#f0f921"
             ]
            ],
            "type": "heatmapgl"
           }
          ],
          "histogram": [
           {
            "marker": {
             "pattern": {
              "fillmode": "overlay",
              "size": 10,
              "solidity": 0.2
             }
            },
            "type": "histogram"
           }
          ],
          "histogram2d": [
           {
            "colorbar": {
             "outlinewidth": 0,
             "ticks": ""
            },
            "colorscale": [
             [
              0,
              "#0d0887"
             ],
             [
              0.1111111111111111,
              "#46039f"
             ],
             [
              0.2222222222222222,
              "#7201a8"
             ],
             [
              0.3333333333333333,
              "#9c179e"
             ],
             [
              0.4444444444444444,
              "#bd3786"
             ],
             [
              0.5555555555555556,
              "#d8576b"
             ],
             [
              0.6666666666666666,
              "#ed7953"
             ],
             [
              0.7777777777777778,
              "#fb9f3a"
             ],
             [
              0.8888888888888888,
              "#fdca26"
             ],
             [
              1,
              "#f0f921"
             ]
            ],
            "type": "histogram2d"
           }
          ],
          "histogram2dcontour": [
           {
            "colorbar": {
             "outlinewidth": 0,
             "ticks": ""
            },
            "colorscale": [
             [
              0,
              "#0d0887"
             ],
             [
              0.1111111111111111,
              "#46039f"
             ],
             [
              0.2222222222222222,
              "#7201a8"
             ],
             [
              0.3333333333333333,
              "#9c179e"
             ],
             [
              0.4444444444444444,
              "#bd3786"
             ],
             [
              0.5555555555555556,
              "#d8576b"
             ],
             [
              0.6666666666666666,
              "#ed7953"
             ],
             [
              0.7777777777777778,
              "#fb9f3a"
             ],
             [
              0.8888888888888888,
              "#fdca26"
             ],
             [
              1,
              "#f0f921"
             ]
            ],
            "type": "histogram2dcontour"
           }
          ],
          "mesh3d": [
           {
            "colorbar": {
             "outlinewidth": 0,
             "ticks": ""
            },
            "type": "mesh3d"
           }
          ],
          "parcoords": [
           {
            "line": {
             "colorbar": {
              "outlinewidth": 0,
              "ticks": ""
             }
            },
            "type": "parcoords"
           }
          ],
          "pie": [
           {
            "automargin": true,
            "type": "pie"
           }
          ],
          "scatter": [
           {
            "fillpattern": {
             "fillmode": "overlay",
             "size": 10,
             "solidity": 0.2
            },
            "type": "scatter"
           }
          ],
          "scatter3d": [
           {
            "line": {
             "colorbar": {
              "outlinewidth": 0,
              "ticks": ""
             }
            },
            "marker": {
             "colorbar": {
              "outlinewidth": 0,
              "ticks": ""
             }
            },
            "type": "scatter3d"
           }
          ],
          "scattercarpet": [
           {
            "marker": {
             "colorbar": {
              "outlinewidth": 0,
              "ticks": ""
             }
            },
            "type": "scattercarpet"
           }
          ],
          "scattergeo": [
           {
            "marker": {
             "colorbar": {
              "outlinewidth": 0,
              "ticks": ""
             }
            },
            "type": "scattergeo"
           }
          ],
          "scattergl": [
           {
            "marker": {
             "colorbar": {
              "outlinewidth": 0,
              "ticks": ""
             }
            },
            "type": "scattergl"
           }
          ],
          "scattermapbox": [
           {
            "marker": {
             "colorbar": {
              "outlinewidth": 0,
              "ticks": ""
             }
            },
            "type": "scattermapbox"
           }
          ],
          "scatterpolar": [
           {
            "marker": {
             "colorbar": {
              "outlinewidth": 0,
              "ticks": ""
             }
            },
            "type": "scatterpolar"
           }
          ],
          "scatterpolargl": [
           {
            "marker": {
             "colorbar": {
              "outlinewidth": 0,
              "ticks": ""
             }
            },
            "type": "scatterpolargl"
           }
          ],
          "scatterternary": [
           {
            "marker": {
             "colorbar": {
              "outlinewidth": 0,
              "ticks": ""
             }
            },
            "type": "scatterternary"
           }
          ],
          "surface": [
           {
            "colorbar": {
             "outlinewidth": 0,
             "ticks": ""
            },
            "colorscale": [
             [
              0,
              "#0d0887"
             ],
             [
              0.1111111111111111,
              "#46039f"
             ],
             [
              0.2222222222222222,
              "#7201a8"
             ],
             [
              0.3333333333333333,
              "#9c179e"
             ],
             [
              0.4444444444444444,
              "#bd3786"
             ],
             [
              0.5555555555555556,
              "#d8576b"
             ],
             [
              0.6666666666666666,
              "#ed7953"
             ],
             [
              0.7777777777777778,
              "#fb9f3a"
             ],
             [
              0.8888888888888888,
              "#fdca26"
             ],
             [
              1,
              "#f0f921"
             ]
            ],
            "type": "surface"
           }
          ],
          "table": [
           {
            "cells": {
             "fill": {
              "color": "#EBF0F8"
             },
             "line": {
              "color": "white"
             }
            },
            "header": {
             "fill": {
              "color": "#C8D4E3"
             },
             "line": {
              "color": "white"
             }
            },
            "type": "table"
           }
          ]
         },
         "layout": {
          "annotationdefaults": {
           "arrowcolor": "#2a3f5f",
           "arrowhead": 0,
           "arrowwidth": 1
          },
          "autotypenumbers": "strict",
          "coloraxis": {
           "colorbar": {
            "outlinewidth": 0,
            "ticks": ""
           }
          },
          "colorscale": {
           "diverging": [
            [
             0,
             "#8e0152"
            ],
            [
             0.1,
             "#c51b7d"
            ],
            [
             0.2,
             "#de77ae"
            ],
            [
             0.3,
             "#f1b6da"
            ],
            [
             0.4,
             "#fde0ef"
            ],
            [
             0.5,
             "#f7f7f7"
            ],
            [
             0.6,
             "#e6f5d0"
            ],
            [
             0.7,
             "#b8e186"
            ],
            [
             0.8,
             "#7fbc41"
            ],
            [
             0.9,
             "#4d9221"
            ],
            [
             1,
             "#276419"
            ]
           ],
           "sequential": [
            [
             0,
             "#0d0887"
            ],
            [
             0.1111111111111111,
             "#46039f"
            ],
            [
             0.2222222222222222,
             "#7201a8"
            ],
            [
             0.3333333333333333,
             "#9c179e"
            ],
            [
             0.4444444444444444,
             "#bd3786"
            ],
            [
             0.5555555555555556,
             "#d8576b"
            ],
            [
             0.6666666666666666,
             "#ed7953"
            ],
            [
             0.7777777777777778,
             "#fb9f3a"
            ],
            [
             0.8888888888888888,
             "#fdca26"
            ],
            [
             1,
             "#f0f921"
            ]
           ],
           "sequentialminus": [
            [
             0,
             "#0d0887"
            ],
            [
             0.1111111111111111,
             "#46039f"
            ],
            [
             0.2222222222222222,
             "#7201a8"
            ],
            [
             0.3333333333333333,
             "#9c179e"
            ],
            [
             0.4444444444444444,
             "#bd3786"
            ],
            [
             0.5555555555555556,
             "#d8576b"
            ],
            [
             0.6666666666666666,
             "#ed7953"
            ],
            [
             0.7777777777777778,
             "#fb9f3a"
            ],
            [
             0.8888888888888888,
             "#fdca26"
            ],
            [
             1,
             "#f0f921"
            ]
           ]
          },
          "colorway": [
           "#636efa",
           "#EF553B",
           "#00cc96",
           "#ab63fa",
           "#FFA15A",
           "#19d3f3",
           "#FF6692",
           "#B6E880",
           "#FF97FF",
           "#FECB52"
          ],
          "font": {
           "color": "#2a3f5f"
          },
          "geo": {
           "bgcolor": "white",
           "lakecolor": "white",
           "landcolor": "#E5ECF6",
           "showlakes": true,
           "showland": true,
           "subunitcolor": "white"
          },
          "hoverlabel": {
           "align": "left"
          },
          "hovermode": "closest",
          "mapbox": {
           "style": "light"
          },
          "paper_bgcolor": "white",
          "plot_bgcolor": "#E5ECF6",
          "polar": {
           "angularaxis": {
            "gridcolor": "white",
            "linecolor": "white",
            "ticks": ""
           },
           "bgcolor": "#E5ECF6",
           "radialaxis": {
            "gridcolor": "white",
            "linecolor": "white",
            "ticks": ""
           }
          },
          "scene": {
           "xaxis": {
            "backgroundcolor": "#E5ECF6",
            "gridcolor": "white",
            "gridwidth": 2,
            "linecolor": "white",
            "showbackground": true,
            "ticks": "",
            "zerolinecolor": "white"
           },
           "yaxis": {
            "backgroundcolor": "#E5ECF6",
            "gridcolor": "white",
            "gridwidth": 2,
            "linecolor": "white",
            "showbackground": true,
            "ticks": "",
            "zerolinecolor": "white"
           },
           "zaxis": {
            "backgroundcolor": "#E5ECF6",
            "gridcolor": "white",
            "gridwidth": 2,
            "linecolor": "white",
            "showbackground": true,
            "ticks": "",
            "zerolinecolor": "white"
           }
          },
          "shapedefaults": {
           "line": {
            "color": "#2a3f5f"
           }
          },
          "ternary": {
           "aaxis": {
            "gridcolor": "white",
            "linecolor": "white",
            "ticks": ""
           },
           "baxis": {
            "gridcolor": "white",
            "linecolor": "white",
            "ticks": ""
           },
           "bgcolor": "#E5ECF6",
           "caxis": {
            "gridcolor": "white",
            "linecolor": "white",
            "ticks": ""
           }
          },
          "title": {
           "x": 0.05
          },
          "xaxis": {
           "automargin": true,
           "gridcolor": "white",
           "linecolor": "white",
           "ticks": "",
           "title": {
            "standoff": 15
           },
           "zerolinecolor": "white",
           "zerolinewidth": 2
          },
          "yaxis": {
           "automargin": true,
           "gridcolor": "white",
           "linecolor": "white",
           "ticks": "",
           "title": {
            "standoff": 15
           },
           "zerolinecolor": "white",
           "zerolinewidth": 2
          }
         }
        },
        "title": {
         "text": "Label: Naganadel"
        },
        "width": 500,
        "xaxis": {
         "anchor": "y",
         "domain": [
          0,
          1
         ],
         "showgrid": false,
         "showticklabels": false,
         "visible": false,
         "zeroline": false
        },
        "yaxis": {
         "anchor": "x",
         "domain": [
          0,
          1
         ],
         "showgrid": false,
         "showticklabels": false,
         "visible": false,
         "zeroline": false
        }
       }
      }
     },
     "metadata": {},
     "output_type": "display_data"
    }
   ],
   "source": [
    "for x, y in train_ds.take(1):\n",
    "    print(int(tf.argmax(tf.reshape(y[0], [-1, 1]), axis=0)))\n",
    "    plot_image(x[0], class_names[int(tf.argmax(tf.reshape(y[0], [-1, 1]), axis=0))], size=width)"
   ]
  },
  {
   "cell_type": "code",
   "execution_count": 10,
   "metadata": {},
   "outputs": [],
   "source": [
    "# map labels in train_ds to the column Label in types\n",
    "def map_labels(x, y):\n",
    "    y_onehot = tf.argmax(y, axis=1).numpy()\n",
    "    y_labels = np.zeros((len(y_onehot), 18))\n",
    "    for i in range(len(y_onehot)):\n",
    "        y_labels[i] = types.loc[y_onehot[i], 'Label']\n",
    "    y_label = np.insert(y_labels, 0, 1, axis=1)\n",
    "    y_label_tensor = tf.convert_to_tensor(y_label, dtype=tf.float32)\n",
    "    return x, y_label_tensor\n",
    "\n"
   ]
  },
  {
   "cell_type": "code",
   "execution_count": 11,
   "metadata": {},
   "outputs": [
    {
     "name": "stdout",
     "output_type": "stream",
     "text": [
      "WARNING:tensorflow:Using a while_loop for converting RngReadAndSkip cause there is no registered converter for this op.\n",
      "WARNING:tensorflow:Using a while_loop for converting Bitcast cause there is no registered converter for this op.\n",
      "WARNING:tensorflow:Using a while_loop for converting Bitcast cause there is no registered converter for this op.\n",
      "WARNING:tensorflow:Using a while_loop for converting StatelessRandomUniformV2 cause there is no registered converter for this op.\n",
      "WARNING:tensorflow:Using a while_loop for converting ImageProjectiveTransformV3 cause there is no registered converter for this op.\n",
      "WARNING:tensorflow:Using a while_loop for converting RngReadAndSkip cause there is no registered converter for this op.\n",
      "WARNING:tensorflow:Using a while_loop for converting Bitcast cause there is no registered converter for this op.\n",
      "WARNING:tensorflow:Using a while_loop for converting Bitcast cause there is no registered converter for this op.\n",
      "WARNING:tensorflow:Using a while_loop for converting StatelessRandomUniformV2 cause there is no registered converter for this op.\n",
      "WARNING:tensorflow:Using a while_loop for converting RngReadAndSkip cause there is no registered converter for this op.\n",
      "WARNING:tensorflow:Using a while_loop for converting Bitcast cause there is no registered converter for this op.\n",
      "WARNING:tensorflow:Using a while_loop for converting Bitcast cause there is no registered converter for this op.\n",
      "WARNING:tensorflow:Using a while_loop for converting StatelessRandomUniformV2 cause there is no registered converter for this op.\n",
      "WARNING:tensorflow:Using a while_loop for converting RngReadAndSkip cause there is no registered converter for this op.\n",
      "WARNING:tensorflow:Using a while_loop for converting Bitcast cause there is no registered converter for this op.\n",
      "WARNING:tensorflow:Using a while_loop for converting Bitcast cause there is no registered converter for this op.\n",
      "WARNING:tensorflow:Using a while_loop for converting StatelessRandomUniformV2 cause there is no registered converter for this op.\n",
      "WARNING:tensorflow:Using a while_loop for converting ImageProjectiveTransformV3 cause there is no registered converter for this op.\n",
      "WARNING:tensorflow:Using a while_loop for converting RngReadAndSkip cause there is no registered converter for this op.\n",
      "WARNING:tensorflow:Using a while_loop for converting Bitcast cause there is no registered converter for this op.\n",
      "WARNING:tensorflow:Using a while_loop for converting Bitcast cause there is no registered converter for this op.\n",
      "WARNING:tensorflow:Using a while_loop for converting StatelessRandomUniformV2 cause there is no registered converter for this op.\n",
      "WARNING:tensorflow:Using a while_loop for converting RngReadAndSkip cause there is no registered converter for this op.\n",
      "WARNING:tensorflow:Using a while_loop for converting Bitcast cause there is no registered converter for this op.\n",
      "WARNING:tensorflow:Using a while_loop for converting Bitcast cause there is no registered converter for this op.\n",
      "WARNING:tensorflow:Using a while_loop for converting StatelessRandomUniformV2 cause there is no registered converter for this op.\n"
     ]
    }
   ],
   "source": [
    "train_ds = prepare(train_ds, shuffle=True, augment=True, GAN=True)\n",
    "train_ds = train_ds.map(lambda x, y: tf.py_function(map_labels, [x, y], [tf.float32, tf.float32]))\n",
    "\n",
    "channels = 3\n",
    "input_shape = (width, height, channels)"
   ]
  },
  {
   "cell_type": "code",
   "execution_count": 12,
   "metadata": {},
   "outputs": [
    {
     "name": "stdout",
     "output_type": "stream",
     "text": [
      "tf.Tensor([1. 0. 0. 0. 0. 0. 0. 1. 0. 0. 0. 0. 0. 0. 0. 0. 0. 0. 1.], shape=(19,), dtype=float32)\n",
      "(96, 96, 3)\n"
     ]
    },
    {
     "data": {
      "application/vnd.plotly.v1+json": {
       "config": {
        "plotlyServerURL": "https://plot.ly"
       },
       "data": [
        {
         "hovertemplate": "x: %{x}<br>y: %{y}<br>color: [%{z[0]}, %{z[1]}, %{z[2]}]<extra></extra>",
         "name": "0",
         "source": "data:image/png;base64,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",
         "type": "image",
         "xaxis": "x",
         "yaxis": "y"
        }
       ],
       "layout": {
        "height": 350,
        "margin": {
         "l": 0,
         "t": 60
        },
        "shapes": [
         {
          "line": {
           "color": "black",
           "width": 2
          },
          "type": "rect",
          "x0": 0,
          "x1": 96,
          "xref": "x",
          "y0": 0,
          "y1": 96,
          "yref": "y"
         }
        ],
        "template": {
         "data": {
          "bar": [
           {
            "error_x": {
             "color": "#2a3f5f"
            },
            "error_y": {
             "color": "#2a3f5f"
            },
            "marker": {
             "line": {
              "color": "#E5ECF6",
              "width": 0.5
             },
             "pattern": {
              "fillmode": "overlay",
              "size": 10,
              "solidity": 0.2
             }
            },
            "type": "bar"
           }
          ],
          "barpolar": [
           {
            "marker": {
             "line": {
              "color": "#E5ECF6",
              "width": 0.5
             },
             "pattern": {
              "fillmode": "overlay",
              "size": 10,
              "solidity": 0.2
             }
            },
            "type": "barpolar"
           }
          ],
          "carpet": [
           {
            "aaxis": {
             "endlinecolor": "#2a3f5f",
             "gridcolor": "white",
             "linecolor": "white",
             "minorgridcolor": "white",
             "startlinecolor": "#2a3f5f"
            },
            "baxis": {
             "endlinecolor": "#2a3f5f",
             "gridcolor": "white",
             "linecolor": "white",
             "minorgridcolor": "white",
             "startlinecolor": "#2a3f5f"
            },
            "type": "carpet"
           }
          ],
          "choropleth": [
           {
            "colorbar": {
             "outlinewidth": 0,
             "ticks": ""
            },
            "type": "choropleth"
           }
          ],
          "contour": [
           {
            "colorbar": {
             "outlinewidth": 0,
             "ticks": ""
            },
            "colorscale": [
             [
              0,
              "#0d0887"
             ],
             [
              0.1111111111111111,
              "#46039f"
             ],
             [
              0.2222222222222222,
              "#7201a8"
             ],
             [
              0.3333333333333333,
              "#9c179e"
             ],
             [
              0.4444444444444444,
              "#bd3786"
             ],
             [
              0.5555555555555556,
              "#d8576b"
             ],
             [
              0.6666666666666666,
              "#ed7953"
             ],
             [
              0.7777777777777778,
              "#fb9f3a"
             ],
             [
              0.8888888888888888,
              "#fdca26"
             ],
             [
              1,
              "#f0f921"
             ]
            ],
            "type": "contour"
           }
          ],
          "contourcarpet": [
           {
            "colorbar": {
             "outlinewidth": 0,
             "ticks": ""
            },
            "type": "contourcarpet"
           }
          ],
          "heatmap": [
           {
            "colorbar": {
             "outlinewidth": 0,
             "ticks": ""
            },
            "colorscale": [
             [
              0,
              "#0d0887"
             ],
             [
              0.1111111111111111,
              "#46039f"
             ],
             [
              0.2222222222222222,
              "#7201a8"
             ],
             [
              0.3333333333333333,
              "#9c179e"
             ],
             [
              0.4444444444444444,
              "#bd3786"
             ],
             [
              0.5555555555555556,
              "#d8576b"
             ],
             [
              0.6666666666666666,
              "#ed7953"
             ],
             [
              0.7777777777777778,
              "#fb9f3a"
             ],
             [
              0.8888888888888888,
              "#fdca26"
             ],
             [
              1,
              "#f0f921"
             ]
            ],
            "type": "heatmap"
           }
          ],
          "heatmapgl": [
           {
            "colorbar": {
             "outlinewidth": 0,
             "ticks": ""
            },
            "colorscale": [
             [
              0,
              "#0d0887"
             ],
             [
              0.1111111111111111,
              "#46039f"
             ],
             [
              0.2222222222222222,
              "#7201a8"
             ],
             [
              0.3333333333333333,
              "#9c179e"
             ],
             [
              0.4444444444444444,
              "#bd3786"
             ],
             [
              0.5555555555555556,
              "#d8576b"
             ],
             [
              0.6666666666666666,
              "#ed7953"
             ],
             [
              0.7777777777777778,
              "#fb9f3a"
             ],
             [
              0.8888888888888888,
              "#fdca26"
             ],
             [
              1,
              "#f0f921"
             ]
            ],
            "type": "heatmapgl"
           }
          ],
          "histogram": [
           {
            "marker": {
             "pattern": {
              "fillmode": "overlay",
              "size": 10,
              "solidity": 0.2
             }
            },
            "type": "histogram"
           }
          ],
          "histogram2d": [
           {
            "colorbar": {
             "outlinewidth": 0,
             "ticks": ""
            },
            "colorscale": [
             [
              0,
              "#0d0887"
             ],
             [
              0.1111111111111111,
              "#46039f"
             ],
             [
              0.2222222222222222,
              "#7201a8"
             ],
             [
              0.3333333333333333,
              "#9c179e"
             ],
             [
              0.4444444444444444,
              "#bd3786"
             ],
             [
              0.5555555555555556,
              "#d8576b"
             ],
             [
              0.6666666666666666,
              "#ed7953"
             ],
             [
              0.7777777777777778,
              "#fb9f3a"
             ],
             [
              0.8888888888888888,
              "#fdca26"
             ],
             [
              1,
              "#f0f921"
             ]
            ],
            "type": "histogram2d"
           }
          ],
          "histogram2dcontour": [
           {
            "colorbar": {
             "outlinewidth": 0,
             "ticks": ""
            },
            "colorscale": [
             [
              0,
              "#0d0887"
             ],
             [
              0.1111111111111111,
              "#46039f"
             ],
             [
              0.2222222222222222,
              "#7201a8"
             ],
             [
              0.3333333333333333,
              "#9c179e"
             ],
             [
              0.4444444444444444,
              "#bd3786"
             ],
             [
              0.5555555555555556,
              "#d8576b"
             ],
             [
              0.6666666666666666,
              "#ed7953"
             ],
             [
              0.7777777777777778,
              "#fb9f3a"
             ],
             [
              0.8888888888888888,
              "#fdca26"
             ],
             [
              1,
              "#f0f921"
             ]
            ],
            "type": "histogram2dcontour"
           }
          ],
          "mesh3d": [
           {
            "colorbar": {
             "outlinewidth": 0,
             "ticks": ""
            },
            "type": "mesh3d"
           }
          ],
          "parcoords": [
           {
            "line": {
             "colorbar": {
              "outlinewidth": 0,
              "ticks": ""
             }
            },
            "type": "parcoords"
           }
          ],
          "pie": [
           {
            "automargin": true,
            "type": "pie"
           }
          ],
          "scatter": [
           {
            "fillpattern": {
             "fillmode": "overlay",
             "size": 10,
             "solidity": 0.2
            },
            "type": "scatter"
           }
          ],
          "scatter3d": [
           {
            "line": {
             "colorbar": {
              "outlinewidth": 0,
              "ticks": ""
             }
            },
            "marker": {
             "colorbar": {
              "outlinewidth": 0,
              "ticks": ""
             }
            },
            "type": "scatter3d"
           }
          ],
          "scattercarpet": [
           {
            "marker": {
             "colorbar": {
              "outlinewidth": 0,
              "ticks": ""
             }
            },
            "type": "scattercarpet"
           }
          ],
          "scattergeo": [
           {
            "marker": {
             "colorbar": {
              "outlinewidth": 0,
              "ticks": ""
             }
            },
            "type": "scattergeo"
           }
          ],
          "scattergl": [
           {
            "marker": {
             "colorbar": {
              "outlinewidth": 0,
              "ticks": ""
             }
            },
            "type": "scattergl"
           }
          ],
          "scattermapbox": [
           {
            "marker": {
             "colorbar": {
              "outlinewidth": 0,
              "ticks": ""
             }
            },
            "type": "scattermapbox"
           }
          ],
          "scatterpolar": [
           {
            "marker": {
             "colorbar": {
              "outlinewidth": 0,
              "ticks": ""
             }
            },
            "type": "scatterpolar"
           }
          ],
          "scatterpolargl": [
           {
            "marker": {
             "colorbar": {
              "outlinewidth": 0,
              "ticks": ""
             }
            },
            "type": "scatterpolargl"
           }
          ],
          "scatterternary": [
           {
            "marker": {
             "colorbar": {
              "outlinewidth": 0,
              "ticks": ""
             }
            },
            "type": "scatterternary"
           }
          ],
          "surface": [
           {
            "colorbar": {
             "outlinewidth": 0,
             "ticks": ""
            },
            "colorscale": [
             [
              0,
              "#0d0887"
             ],
             [
              0.1111111111111111,
              "#46039f"
             ],
             [
              0.2222222222222222,
              "#7201a8"
             ],
             [
              0.3333333333333333,
              "#9c179e"
             ],
             [
              0.4444444444444444,
              "#bd3786"
             ],
             [
              0.5555555555555556,
              "#d8576b"
             ],
             [
              0.6666666666666666,
              "#ed7953"
             ],
             [
              0.7777777777777778,
              "#fb9f3a"
             ],
             [
              0.8888888888888888,
              "#fdca26"
             ],
             [
              1,
              "#f0f921"
             ]
            ],
            "type": "surface"
           }
          ],
          "table": [
           {
            "cells": {
             "fill": {
              "color": "#EBF0F8"
             },
             "line": {
              "color": "white"
             }
            },
            "header": {
             "fill": {
              "color": "#C8D4E3"
             },
             "line": {
              "color": "white"
             }
            },
            "type": "table"
           }
          ]
         },
         "layout": {
          "annotationdefaults": {
           "arrowcolor": "#2a3f5f",
           "arrowhead": 0,
           "arrowwidth": 1
          },
          "autotypenumbers": "strict",
          "coloraxis": {
           "colorbar": {
            "outlinewidth": 0,
            "ticks": ""
           }
          },
          "colorscale": {
           "diverging": [
            [
             0,
             "#8e0152"
            ],
            [
             0.1,
             "#c51b7d"
            ],
            [
             0.2,
             "#de77ae"
            ],
            [
             0.3,
             "#f1b6da"
            ],
            [
             0.4,
             "#fde0ef"
            ],
            [
             0.5,
             "#f7f7f7"
            ],
            [
             0.6,
             "#e6f5d0"
            ],
            [
             0.7,
             "#b8e186"
            ],
            [
             0.8,
             "#7fbc41"
            ],
            [
             0.9,
             "#4d9221"
            ],
            [
             1,
             "#276419"
            ]
           ],
           "sequential": [
            [
             0,
             "#0d0887"
            ],
            [
             0.1111111111111111,
             "#46039f"
            ],
            [
             0.2222222222222222,
             "#7201a8"
            ],
            [
             0.3333333333333333,
             "#9c179e"
            ],
            [
             0.4444444444444444,
             "#bd3786"
            ],
            [
             0.5555555555555556,
             "#d8576b"
            ],
            [
             0.6666666666666666,
             "#ed7953"
            ],
            [
             0.7777777777777778,
             "#fb9f3a"
            ],
            [
             0.8888888888888888,
             "#fdca26"
            ],
            [
             1,
             "#f0f921"
            ]
           ],
           "sequentialminus": [
            [
             0,
             "#0d0887"
            ],
            [
             0.1111111111111111,
             "#46039f"
            ],
            [
             0.2222222222222222,
             "#7201a8"
            ],
            [
             0.3333333333333333,
             "#9c179e"
            ],
            [
             0.4444444444444444,
             "#bd3786"
            ],
            [
             0.5555555555555556,
             "#d8576b"
            ],
            [
             0.6666666666666666,
             "#ed7953"
            ],
            [
             0.7777777777777778,
             "#fb9f3a"
            ],
            [
             0.8888888888888888,
             "#fdca26"
            ],
            [
             1,
             "#f0f921"
            ]
           ]
          },
          "colorway": [
           "#636efa",
           "#EF553B",
           "#00cc96",
           "#ab63fa",
           "#FFA15A",
           "#19d3f3",
           "#FF6692",
           "#B6E880",
           "#FF97FF",
           "#FECB52"
          ],
          "font": {
           "color": "#2a3f5f"
          },
          "geo": {
           "bgcolor": "white",
           "lakecolor": "white",
           "landcolor": "#E5ECF6",
           "showlakes": true,
           "showland": true,
           "subunitcolor": "white"
          },
          "hoverlabel": {
           "align": "left"
          },
          "hovermode": "closest",
          "mapbox": {
           "style": "light"
          },
          "paper_bgcolor": "white",
          "plot_bgcolor": "#E5ECF6",
          "polar": {
           "angularaxis": {
            "gridcolor": "white",
            "linecolor": "white",
            "ticks": ""
           },
           "bgcolor": "#E5ECF6",
           "radialaxis": {
            "gridcolor": "white",
            "linecolor": "white",
            "ticks": ""
           }
          },
          "scene": {
           "xaxis": {
            "backgroundcolor": "#E5ECF6",
            "gridcolor": "white",
            "gridwidth": 2,
            "linecolor": "white",
            "showbackground": true,
            "ticks": "",
            "zerolinecolor": "white"
           },
           "yaxis": {
            "backgroundcolor": "#E5ECF6",
            "gridcolor": "white",
            "gridwidth": 2,
            "linecolor": "white",
            "showbackground": true,
            "ticks": "",
            "zerolinecolor": "white"
           },
           "zaxis": {
            "backgroundcolor": "#E5ECF6",
            "gridcolor": "white",
            "gridwidth": 2,
            "linecolor": "white",
            "showbackground": true,
            "ticks": "",
            "zerolinecolor": "white"
           }
          },
          "shapedefaults": {
           "line": {
            "color": "#2a3f5f"
           }
          },
          "ternary": {
           "aaxis": {
            "gridcolor": "white",
            "linecolor": "white",
            "ticks": ""
           },
           "baxis": {
            "gridcolor": "white",
            "linecolor": "white",
            "ticks": ""
           },
           "bgcolor": "#E5ECF6",
           "caxis": {
            "gridcolor": "white",
            "linecolor": "white",
            "ticks": ""
           }
          },
          "title": {
           "x": 0.05
          },
          "xaxis": {
           "automargin": true,
           "gridcolor": "white",
           "linecolor": "white",
           "ticks": "",
           "title": {
            "standoff": 15
           },
           "zerolinecolor": "white",
           "zerolinewidth": 2
          },
          "yaxis": {
           "automargin": true,
           "gridcolor": "white",
           "linecolor": "white",
           "ticks": "",
           "title": {
            "standoff": 15
           },
           "zerolinecolor": "white",
           "zerolinewidth": 2
          }
         }
        },
        "title": {
         "text": "Label: Abomasnow"
        },
        "width": 500,
        "xaxis": {
         "anchor": "y",
         "domain": [
          0,
          1
         ],
         "showgrid": false,
         "showticklabels": false,
         "visible": false,
         "zeroline": false
        },
        "yaxis": {
         "anchor": "x",
         "domain": [
          0,
          1
         ],
         "showgrid": false,
         "showticklabels": false,
         "visible": false,
         "zeroline": false
        }
       }
      }
     },
     "metadata": {},
     "output_type": "display_data"
    },
    {
     "name": "stdout",
     "output_type": "stream",
     "text": [
      "tf.Tensor([1. 0. 0. 0. 0. 0. 0. 0. 0. 0. 0. 0. 0. 1. 0. 0. 0. 0. 0.], shape=(19,), dtype=float32)\n",
      "(96, 96, 3)\n"
     ]
    },
    {
     "data": {
      "application/vnd.plotly.v1+json": {
       "config": {
        "plotlyServerURL": "https://plot.ly"
       },
       "data": [
        {
         "hovertemplate": "x: %{x}<br>y: %{y}<br>color: [%{z[0]}, %{z[1]}, %{z[2]}]<extra></extra>",
         "name": "0",
         "source": "data:image/png;base64,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",
         "type": "image",
         "xaxis": "x",
         "yaxis": "y"
        }
       ],
       "layout": {
        "height": 350,
        "margin": {
         "l": 0,
         "t": 60
        },
        "shapes": [
         {
          "line": {
           "color": "black",
           "width": 2
          },
          "type": "rect",
          "x0": 0,
          "x1": 96,
          "xref": "x",
          "y0": 0,
          "y1": 96,
          "yref": "y"
         }
        ],
        "template": {
         "data": {
          "bar": [
           {
            "error_x": {
             "color": "#2a3f5f"
            },
            "error_y": {
             "color": "#2a3f5f"
            },
            "marker": {
             "line": {
              "color": "#E5ECF6",
              "width": 0.5
             },
             "pattern": {
              "fillmode": "overlay",
              "size": 10,
              "solidity": 0.2
             }
            },
            "type": "bar"
           }
          ],
          "barpolar": [
           {
            "marker": {
             "line": {
              "color": "#E5ECF6",
              "width": 0.5
             },
             "pattern": {
              "fillmode": "overlay",
              "size": 10,
              "solidity": 0.2
             }
            },
            "type": "barpolar"
           }
          ],
          "carpet": [
           {
            "aaxis": {
             "endlinecolor": "#2a3f5f",
             "gridcolor": "white",
             "linecolor": "white",
             "minorgridcolor": "white",
             "startlinecolor": "#2a3f5f"
            },
            "baxis": {
             "endlinecolor": "#2a3f5f",
             "gridcolor": "white",
             "linecolor": "white",
             "minorgridcolor": "white",
             "startlinecolor": "#2a3f5f"
            },
            "type": "carpet"
           }
          ],
          "choropleth": [
           {
            "colorbar": {
             "outlinewidth": 0,
             "ticks": ""
            },
            "type": "choropleth"
           }
          ],
          "contour": [
           {
            "colorbar": {
             "outlinewidth": 0,
             "ticks": ""
            },
            "colorscale": [
             [
              0,
              "#0d0887"
             ],
             [
              0.1111111111111111,
              "#46039f"
             ],
             [
              0.2222222222222222,
              "#7201a8"
             ],
             [
              0.3333333333333333,
              "#9c179e"
             ],
             [
              0.4444444444444444,
              "#bd3786"
             ],
             [
              0.5555555555555556,
              "#d8576b"
             ],
             [
              0.6666666666666666,
              "#ed7953"
             ],
             [
              0.7777777777777778,
              "#fb9f3a"
             ],
             [
              0.8888888888888888,
              "#fdca26"
             ],
             [
              1,
              "#f0f921"
             ]
            ],
            "type": "contour"
           }
          ],
          "contourcarpet": [
           {
            "colorbar": {
             "outlinewidth": 0,
             "ticks": ""
            },
            "type": "contourcarpet"
           }
          ],
          "heatmap": [
           {
            "colorbar": {
             "outlinewidth": 0,
             "ticks": ""
            },
            "colorscale": [
             [
              0,
              "#0d0887"
             ],
             [
              0.1111111111111111,
              "#46039f"
             ],
             [
              0.2222222222222222,
              "#7201a8"
             ],
             [
              0.3333333333333333,
              "#9c179e"
             ],
             [
              0.4444444444444444,
              "#bd3786"
             ],
             [
              0.5555555555555556,
              "#d8576b"
             ],
             [
              0.6666666666666666,
              "#ed7953"
             ],
             [
              0.7777777777777778,
              "#fb9f3a"
             ],
             [
              0.8888888888888888,
              "#fdca26"
             ],
             [
              1,
              "#f0f921"
             ]
            ],
            "type": "heatmap"
           }
          ],
          "heatmapgl": [
           {
            "colorbar": {
             "outlinewidth": 0,
             "ticks": ""
            },
            "colorscale": [
             [
              0,
              "#0d0887"
             ],
             [
              0.1111111111111111,
              "#46039f"
             ],
             [
              0.2222222222222222,
              "#7201a8"
             ],
             [
              0.3333333333333333,
              "#9c179e"
             ],
             [
              0.4444444444444444,
              "#bd3786"
             ],
             [
              0.5555555555555556,
              "#d8576b"
             ],
             [
              0.6666666666666666,
              "#ed7953"
             ],
             [
              0.7777777777777778,
              "#fb9f3a"
             ],
             [
              0.8888888888888888,
              "#fdca26"
             ],
             [
              1,
              "#f0f921"
             ]
            ],
            "type": "heatmapgl"
           }
          ],
          "histogram": [
           {
            "marker": {
             "pattern": {
              "fillmode": "overlay",
              "size": 10,
              "solidity": 0.2
             }
            },
            "type": "histogram"
           }
          ],
          "histogram2d": [
           {
            "colorbar": {
             "outlinewidth": 0,
             "ticks": ""
            },
            "colorscale": [
             [
              0,
              "#0d0887"
             ],
             [
              0.1111111111111111,
              "#46039f"
             ],
             [
              0.2222222222222222,
              "#7201a8"
             ],
             [
              0.3333333333333333,
              "#9c179e"
             ],
             [
              0.4444444444444444,
              "#bd3786"
             ],
             [
              0.5555555555555556,
              "#d8576b"
             ],
             [
              0.6666666666666666,
              "#ed7953"
             ],
             [
              0.7777777777777778,
              "#fb9f3a"
             ],
             [
              0.8888888888888888,
              "#fdca26"
             ],
             [
              1,
              "#f0f921"
             ]
            ],
            "type": "histogram2d"
           }
          ],
          "histogram2dcontour": [
           {
            "colorbar": {
             "outlinewidth": 0,
             "ticks": ""
            },
            "colorscale": [
             [
              0,
              "#0d0887"
             ],
             [
              0.1111111111111111,
              "#46039f"
             ],
             [
              0.2222222222222222,
              "#7201a8"
             ],
             [
              0.3333333333333333,
              "#9c179e"
             ],
             [
              0.4444444444444444,
              "#bd3786"
             ],
             [
              0.5555555555555556,
              "#d8576b"
             ],
             [
              0.6666666666666666,
              "#ed7953"
             ],
             [
              0.7777777777777778,
              "#fb9f3a"
             ],
             [
              0.8888888888888888,
              "#fdca26"
             ],
             [
              1,
              "#f0f921"
             ]
            ],
            "type": "histogram2dcontour"
           }
          ],
          "mesh3d": [
           {
            "colorbar": {
             "outlinewidth": 0,
             "ticks": ""
            },
            "type": "mesh3d"
           }
          ],
          "parcoords": [
           {
            "line": {
             "colorbar": {
              "outlinewidth": 0,
              "ticks": ""
             }
            },
            "type": "parcoords"
           }
          ],
          "pie": [
           {
            "automargin": true,
            "type": "pie"
           }
          ],
          "scatter": [
           {
            "fillpattern": {
             "fillmode": "overlay",
             "size": 10,
             "solidity": 0.2
            },
            "type": "scatter"
           }
          ],
          "scatter3d": [
           {
            "line": {
             "colorbar": {
              "outlinewidth": 0,
              "ticks": ""
             }
            },
            "marker": {
             "colorbar": {
              "outlinewidth": 0,
              "ticks": ""
             }
            },
            "type": "scatter3d"
           }
          ],
          "scattercarpet": [
           {
            "marker": {
             "colorbar": {
              "outlinewidth": 0,
              "ticks": ""
             }
            },
            "type": "scattercarpet"
           }
          ],
          "scattergeo": [
           {
            "marker": {
             "colorbar": {
              "outlinewidth": 0,
              "ticks": ""
             }
            },
            "type": "scattergeo"
           }
          ],
          "scattergl": [
           {
            "marker": {
             "colorbar": {
              "outlinewidth": 0,
              "ticks": ""
             }
            },
            "type": "scattergl"
           }
          ],
          "scattermapbox": [
           {
            "marker": {
             "colorbar": {
              "outlinewidth": 0,
              "ticks": ""
             }
            },
            "type": "scattermapbox"
           }
          ],
          "scatterpolar": [
           {
            "marker": {
             "colorbar": {
              "outlinewidth": 0,
              "ticks": ""
             }
            },
            "type": "scatterpolar"
           }
          ],
          "scatterpolargl": [
           {
            "marker": {
             "colorbar": {
              "outlinewidth": 0,
              "ticks": ""
             }
            },
            "type": "scatterpolargl"
           }
          ],
          "scatterternary": [
           {
            "marker": {
             "colorbar": {
              "outlinewidth": 0,
              "ticks": ""
             }
            },
            "type": "scatterternary"
           }
          ],
          "surface": [
           {
            "colorbar": {
             "outlinewidth": 0,
             "ticks": ""
            },
            "colorscale": [
             [
              0,
              "#0d0887"
             ],
             [
              0.1111111111111111,
              "#46039f"
             ],
             [
              0.2222222222222222,
              "#7201a8"
             ],
             [
              0.3333333333333333,
              "#9c179e"
             ],
             [
              0.4444444444444444,
              "#bd3786"
             ],
             [
              0.5555555555555556,
              "#d8576b"
             ],
             [
              0.6666666666666666,
              "#ed7953"
             ],
             [
              0.7777777777777778,
              "#fb9f3a"
             ],
             [
              0.8888888888888888,
              "#fdca26"
             ],
             [
              1,
              "#f0f921"
             ]
            ],
            "type": "surface"
           }
          ],
          "table": [
           {
            "cells": {
             "fill": {
              "color": "#EBF0F8"
             },
             "line": {
              "color": "white"
             }
            },
            "header": {
             "fill": {
              "color": "#C8D4E3"
             },
             "line": {
              "color": "white"
             }
            },
            "type": "table"
           }
          ]
         },
         "layout": {
          "annotationdefaults": {
           "arrowcolor": "#2a3f5f",
           "arrowhead": 0,
           "arrowwidth": 1
          },
          "autotypenumbers": "strict",
          "coloraxis": {
           "colorbar": {
            "outlinewidth": 0,
            "ticks": ""
           }
          },
          "colorscale": {
           "diverging": [
            [
             0,
             "#8e0152"
            ],
            [
             0.1,
             "#c51b7d"
            ],
            [
             0.2,
             "#de77ae"
            ],
            [
             0.3,
             "#f1b6da"
            ],
            [
             0.4,
             "#fde0ef"
            ],
            [
             0.5,
             "#f7f7f7"
            ],
            [
             0.6,
             "#e6f5d0"
            ],
            [
             0.7,
             "#b8e186"
            ],
            [
             0.8,
             "#7fbc41"
            ],
            [
             0.9,
             "#4d9221"
            ],
            [
             1,
             "#276419"
            ]
           ],
           "sequential": [
            [
             0,
             "#0d0887"
            ],
            [
             0.1111111111111111,
             "#46039f"
            ],
            [
             0.2222222222222222,
             "#7201a8"
            ],
            [
             0.3333333333333333,
             "#9c179e"
            ],
            [
             0.4444444444444444,
             "#bd3786"
            ],
            [
             0.5555555555555556,
             "#d8576b"
            ],
            [
             0.6666666666666666,
             "#ed7953"
            ],
            [
             0.7777777777777778,
             "#fb9f3a"
            ],
            [
             0.8888888888888888,
             "#fdca26"
            ],
            [
             1,
             "#f0f921"
            ]
           ],
           "sequentialminus": [
            [
             0,
             "#0d0887"
            ],
            [
             0.1111111111111111,
             "#46039f"
            ],
            [
             0.2222222222222222,
             "#7201a8"
            ],
            [
             0.3333333333333333,
             "#9c179e"
            ],
            [
             0.4444444444444444,
             "#bd3786"
            ],
            [
             0.5555555555555556,
             "#d8576b"
            ],
            [
             0.6666666666666666,
             "#ed7953"
            ],
            [
             0.7777777777777778,
             "#fb9f3a"
            ],
            [
             0.8888888888888888,
             "#fdca26"
            ],
            [
             1,
             "#f0f921"
            ]
           ]
          },
          "colorway": [
           "#636efa",
           "#EF553B",
           "#00cc96",
           "#ab63fa",
           "#FFA15A",
           "#19d3f3",
           "#FF6692",
           "#B6E880",
           "#FF97FF",
           "#FECB52"
          ],
          "font": {
           "color": "#2a3f5f"
          },
          "geo": {
           "bgcolor": "white",
           "lakecolor": "white",
           "landcolor": "#E5ECF6",
           "showlakes": true,
           "showland": true,
           "subunitcolor": "white"
          },
          "hoverlabel": {
           "align": "left"
          },
          "hovermode": "closest",
          "mapbox": {
           "style": "light"
          },
          "paper_bgcolor": "white",
          "plot_bgcolor": "#E5ECF6",
          "polar": {
           "angularaxis": {
            "gridcolor": "white",
            "linecolor": "white",
            "ticks": ""
           },
           "bgcolor": "#E5ECF6",
           "radialaxis": {
            "gridcolor": "white",
            "linecolor": "white",
            "ticks": ""
           }
          },
          "scene": {
           "xaxis": {
            "backgroundcolor": "#E5ECF6",
            "gridcolor": "white",
            "gridwidth": 2,
            "linecolor": "white",
            "showbackground": true,
            "ticks": "",
            "zerolinecolor": "white"
           },
           "yaxis": {
            "backgroundcolor": "#E5ECF6",
            "gridcolor": "white",
            "gridwidth": 2,
            "linecolor": "white",
            "showbackground": true,
            "ticks": "",
            "zerolinecolor": "white"
           },
           "zaxis": {
            "backgroundcolor": "#E5ECF6",
            "gridcolor": "white",
            "gridwidth": 2,
            "linecolor": "white",
            "showbackground": true,
            "ticks": "",
            "zerolinecolor": "white"
           }
          },
          "shapedefaults": {
           "line": {
            "color": "#2a3f5f"
           }
          },
          "ternary": {
           "aaxis": {
            "gridcolor": "white",
            "linecolor": "white",
            "ticks": ""
           },
           "baxis": {
            "gridcolor": "white",
            "linecolor": "white",
            "ticks": ""
           },
           "bgcolor": "#E5ECF6",
           "caxis": {
            "gridcolor": "white",
            "linecolor": "white",
            "ticks": ""
           }
          },
          "title": {
           "x": 0.05
          },
          "xaxis": {
           "automargin": true,
           "gridcolor": "white",
           "linecolor": "white",
           "ticks": "",
           "title": {
            "standoff": 15
           },
           "zerolinecolor": "white",
           "zerolinewidth": 2
          },
          "yaxis": {
           "automargin": true,
           "gridcolor": "white",
           "linecolor": "white",
           "ticks": "",
           "title": {
            "standoff": 15
           },
           "zerolinecolor": "white",
           "zerolinewidth": 2
          }
         }
        },
        "title": {
         "text": "Label: Abomasnow"
        },
        "width": 500,
        "xaxis": {
         "anchor": "y",
         "domain": [
          0,
          1
         ],
         "showgrid": false,
         "showticklabels": false,
         "visible": false,
         "zeroline": false
        },
        "yaxis": {
         "anchor": "x",
         "domain": [
          0,
          1
         ],
         "showgrid": false,
         "showticklabels": false,
         "visible": false,
         "zeroline": false
        }
       }
      }
     },
     "metadata": {},
     "output_type": "display_data"
    },
    {
     "name": "stdout",
     "output_type": "stream",
     "text": [
      "tf.Tensor([1. 0. 0. 0. 0. 0. 0. 0. 1. 0. 0. 0. 0. 0. 0. 0. 0. 0. 0.], shape=(19,), dtype=float32)\n",
      "(96, 96, 3)\n"
     ]
    },
    {
     "data": {
      "application/vnd.plotly.v1+json": {
       "config": {
        "plotlyServerURL": "https://plot.ly"
       },
       "data": [
        {
         "hovertemplate": "x: %{x}<br>y: %{y}<br>color: [%{z[0]}, %{z[1]}, %{z[2]}]<extra></extra>",
         "name": "0",
         "source": "data:image/png;base64,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",
         "type": "image",
         "xaxis": "x",
         "yaxis": "y"
        }
       ],
       "layout": {
        "height": 350,
        "margin": {
         "l": 0,
         "t": 60
        },
        "shapes": [
         {
          "line": {
           "color": "black",
           "width": 2
          },
          "type": "rect",
          "x0": 0,
          "x1": 96,
          "xref": "x",
          "y0": 0,
          "y1": 96,
          "yref": "y"
         }
        ],
        "template": {
         "data": {
          "bar": [
           {
            "error_x": {
             "color": "#2a3f5f"
            },
            "error_y": {
             "color": "#2a3f5f"
            },
            "marker": {
             "line": {
              "color": "#E5ECF6",
              "width": 0.5
             },
             "pattern": {
              "fillmode": "overlay",
              "size": 10,
              "solidity": 0.2
             }
            },
            "type": "bar"
           }
          ],
          "barpolar": [
           {
            "marker": {
             "line": {
              "color": "#E5ECF6",
              "width": 0.5
             },
             "pattern": {
              "fillmode": "overlay",
              "size": 10,
              "solidity": 0.2
             }
            },
            "type": "barpolar"
           }
          ],
          "carpet": [
           {
            "aaxis": {
             "endlinecolor": "#2a3f5f",
             "gridcolor": "white",
             "linecolor": "white",
             "minorgridcolor": "white",
             "startlinecolor": "#2a3f5f"
            },
            "baxis": {
             "endlinecolor": "#2a3f5f",
             "gridcolor": "white",
             "linecolor": "white",
             "minorgridcolor": "white",
             "startlinecolor": "#2a3f5f"
            },
            "type": "carpet"
           }
          ],
          "choropleth": [
           {
            "colorbar": {
             "outlinewidth": 0,
             "ticks": ""
            },
            "type": "choropleth"
           }
          ],
          "contour": [
           {
            "colorbar": {
             "outlinewidth": 0,
             "ticks": ""
            },
            "colorscale": [
             [
              0,
              "#0d0887"
             ],
             [
              0.1111111111111111,
              "#46039f"
             ],
             [
              0.2222222222222222,
              "#7201a8"
             ],
             [
              0.3333333333333333,
              "#9c179e"
             ],
             [
              0.4444444444444444,
              "#bd3786"
             ],
             [
              0.5555555555555556,
              "#d8576b"
             ],
             [
              0.6666666666666666,
              "#ed7953"
             ],
             [
              0.7777777777777778,
              "#fb9f3a"
             ],
             [
              0.8888888888888888,
              "#fdca26"
             ],
             [
              1,
              "#f0f921"
             ]
            ],
            "type": "contour"
           }
          ],
          "contourcarpet": [
           {
            "colorbar": {
             "outlinewidth": 0,
             "ticks": ""
            },
            "type": "contourcarpet"
           }
          ],
          "heatmap": [
           {
            "colorbar": {
             "outlinewidth": 0,
             "ticks": ""
            },
            "colorscale": [
             [
              0,
              "#0d0887"
             ],
             [
              0.1111111111111111,
              "#46039f"
             ],
             [
              0.2222222222222222,
              "#7201a8"
             ],
             [
              0.3333333333333333,
              "#9c179e"
             ],
             [
              0.4444444444444444,
              "#bd3786"
             ],
             [
              0.5555555555555556,
              "#d8576b"
             ],
             [
              0.6666666666666666,
              "#ed7953"
             ],
             [
              0.7777777777777778,
              "#fb9f3a"
             ],
             [
              0.8888888888888888,
              "#fdca26"
             ],
             [
              1,
              "#f0f921"
             ]
            ],
            "type": "heatmap"
           }
          ],
          "heatmapgl": [
           {
            "colorbar": {
             "outlinewidth": 0,
             "ticks": ""
            },
            "colorscale": [
             [
              0,
              "#0d0887"
             ],
             [
              0.1111111111111111,
              "#46039f"
             ],
             [
              0.2222222222222222,
              "#7201a8"
             ],
             [
              0.3333333333333333,
              "#9c179e"
             ],
             [
              0.4444444444444444,
              "#bd3786"
             ],
             [
              0.5555555555555556,
              "#d8576b"
             ],
             [
              0.6666666666666666,
              "#ed7953"
             ],
             [
              0.7777777777777778,
              "#fb9f3a"
             ],
             [
              0.8888888888888888,
              "#fdca26"
             ],
             [
              1,
              "#f0f921"
             ]
            ],
            "type": "heatmapgl"
           }
          ],
          "histogram": [
           {
            "marker": {
             "pattern": {
              "fillmode": "overlay",
              "size": 10,
              "solidity": 0.2
             }
            },
            "type": "histogram"
           }
          ],
          "histogram2d": [
           {
            "colorbar": {
             "outlinewidth": 0,
             "ticks": ""
            },
            "colorscale": [
             [
              0,
              "#0d0887"
             ],
             [
              0.1111111111111111,
              "#46039f"
             ],
             [
              0.2222222222222222,
              "#7201a8"
             ],
             [
              0.3333333333333333,
              "#9c179e"
             ],
             [
              0.4444444444444444,
              "#bd3786"
             ],
             [
              0.5555555555555556,
              "#d8576b"
             ],
             [
              0.6666666666666666,
              "#ed7953"
             ],
             [
              0.7777777777777778,
              "#fb9f3a"
             ],
             [
              0.8888888888888888,
              "#fdca26"
             ],
             [
              1,
              "#f0f921"
             ]
            ],
            "type": "histogram2d"
           }
          ],
          "histogram2dcontour": [
           {
            "colorbar": {
             "outlinewidth": 0,
             "ticks": ""
            },
            "colorscale": [
             [
              0,
              "#0d0887"
             ],
             [
              0.1111111111111111,
              "#46039f"
             ],
             [
              0.2222222222222222,
              "#7201a8"
             ],
             [
              0.3333333333333333,
              "#9c179e"
             ],
             [
              0.4444444444444444,
              "#bd3786"
             ],
             [
              0.5555555555555556,
              "#d8576b"
             ],
             [
              0.6666666666666666,
              "#ed7953"
             ],
             [
              0.7777777777777778,
              "#fb9f3a"
             ],
             [
              0.8888888888888888,
              "#fdca26"
             ],
             [
              1,
              "#f0f921"
             ]
            ],
            "type": "histogram2dcontour"
           }
          ],
          "mesh3d": [
           {
            "colorbar": {
             "outlinewidth": 0,
             "ticks": ""
            },
            "type": "mesh3d"
           }
          ],
          "parcoords": [
           {
            "line": {
             "colorbar": {
              "outlinewidth": 0,
              "ticks": ""
             }
            },
            "type": "parcoords"
           }
          ],
          "pie": [
           {
            "automargin": true,
            "type": "pie"
           }
          ],
          "scatter": [
           {
            "fillpattern": {
             "fillmode": "overlay",
             "size": 10,
             "solidity": 0.2
            },
            "type": "scatter"
           }
          ],
          "scatter3d": [
           {
            "line": {
             "colorbar": {
              "outlinewidth": 0,
              "ticks": ""
             }
            },
            "marker": {
             "colorbar": {
              "outlinewidth": 0,
              "ticks": ""
             }
            },
            "type": "scatter3d"
           }
          ],
          "scattercarpet": [
           {
            "marker": {
             "colorbar": {
              "outlinewidth": 0,
              "ticks": ""
             }
            },
            "type": "scattercarpet"
           }
          ],
          "scattergeo": [
           {
            "marker": {
             "colorbar": {
              "outlinewidth": 0,
              "ticks": ""
             }
            },
            "type": "scattergeo"
           }
          ],
          "scattergl": [
           {
            "marker": {
             "colorbar": {
              "outlinewidth": 0,
              "ticks": ""
             }
            },
            "type": "scattergl"
           }
          ],
          "scattermapbox": [
           {
            "marker": {
             "colorbar": {
              "outlinewidth": 0,
              "ticks": ""
             }
            },
            "type": "scattermapbox"
           }
          ],
          "scatterpolar": [
           {
            "marker": {
             "colorbar": {
              "outlinewidth": 0,
              "ticks": ""
             }
            },
            "type": "scatterpolar"
           }
          ],
          "scatterpolargl": [
           {
            "marker": {
             "colorbar": {
              "outlinewidth": 0,
              "ticks": ""
             }
            },
            "type": "scatterpolargl"
           }
          ],
          "scatterternary": [
           {
            "marker": {
             "colorbar": {
              "outlinewidth": 0,
              "ticks": ""
             }
            },
            "type": "scatterternary"
           }
          ],
          "surface": [
           {
            "colorbar": {
             "outlinewidth": 0,
             "ticks": ""
            },
            "colorscale": [
             [
              0,
              "#0d0887"
             ],
             [
              0.1111111111111111,
              "#46039f"
             ],
             [
              0.2222222222222222,
              "#7201a8"
             ],
             [
              0.3333333333333333,
              "#9c179e"
             ],
             [
              0.4444444444444444,
              "#bd3786"
             ],
             [
              0.5555555555555556,
              "#d8576b"
             ],
             [
              0.6666666666666666,
              "#ed7953"
             ],
             [
              0.7777777777777778,
              "#fb9f3a"
             ],
             [
              0.8888888888888888,
              "#fdca26"
             ],
             [
              1,
              "#f0f921"
             ]
            ],
            "type": "surface"
           }
          ],
          "table": [
           {
            "cells": {
             "fill": {
              "color": "#EBF0F8"
             },
             "line": {
              "color": "white"
             }
            },
            "header": {
             "fill": {
              "color": "#C8D4E3"
             },
             "line": {
              "color": "white"
             }
            },
            "type": "table"
           }
          ]
         },
         "layout": {
          "annotationdefaults": {
           "arrowcolor": "#2a3f5f",
           "arrowhead": 0,
           "arrowwidth": 1
          },
          "autotypenumbers": "strict",
          "coloraxis": {
           "colorbar": {
            "outlinewidth": 0,
            "ticks": ""
           }
          },
          "colorscale": {
           "diverging": [
            [
             0,
             "#8e0152"
            ],
            [
             0.1,
             "#c51b7d"
            ],
            [
             0.2,
             "#de77ae"
            ],
            [
             0.3,
             "#f1b6da"
            ],
            [
             0.4,
             "#fde0ef"
            ],
            [
             0.5,
             "#f7f7f7"
            ],
            [
             0.6,
             "#e6f5d0"
            ],
            [
             0.7,
             "#b8e186"
            ],
            [
             0.8,
             "#7fbc41"
            ],
            [
             0.9,
             "#4d9221"
            ],
            [
             1,
             "#276419"
            ]
           ],
           "sequential": [
            [
             0,
             "#0d0887"
            ],
            [
             0.1111111111111111,
             "#46039f"
            ],
            [
             0.2222222222222222,
             "#7201a8"
            ],
            [
             0.3333333333333333,
             "#9c179e"
            ],
            [
             0.4444444444444444,
             "#bd3786"
            ],
            [
             0.5555555555555556,
             "#d8576b"
            ],
            [
             0.6666666666666666,
             "#ed7953"
            ],
            [
             0.7777777777777778,
             "#fb9f3a"
            ],
            [
             0.8888888888888888,
             "#fdca26"
            ],
            [
             1,
             "#f0f921"
            ]
           ],
           "sequentialminus": [
            [
             0,
             "#0d0887"
            ],
            [
             0.1111111111111111,
             "#46039f"
            ],
            [
             0.2222222222222222,
             "#7201a8"
            ],
            [
             0.3333333333333333,
             "#9c179e"
            ],
            [
             0.4444444444444444,
             "#bd3786"
            ],
            [
             0.5555555555555556,
             "#d8576b"
            ],
            [
             0.6666666666666666,
             "#ed7953"
            ],
            [
             0.7777777777777778,
             "#fb9f3a"
            ],
            [
             0.8888888888888888,
             "#fdca26"
            ],
            [
             1,
             "#f0f921"
            ]
           ]
          },
          "colorway": [
           "#636efa",
           "#EF553B",
           "#00cc96",
           "#ab63fa",
           "#FFA15A",
           "#19d3f3",
           "#FF6692",
           "#B6E880",
           "#FF97FF",
           "#FECB52"
          ],
          "font": {
           "color": "#2a3f5f"
          },
          "geo": {
           "bgcolor": "white",
           "lakecolor": "white",
           "landcolor": "#E5ECF6",
           "showlakes": true,
           "showland": true,
           "subunitcolor": "white"
          },
          "hoverlabel": {
           "align": "left"
          },
          "hovermode": "closest",
          "mapbox": {
           "style": "light"
          },
          "paper_bgcolor": "white",
          "plot_bgcolor": "#E5ECF6",
          "polar": {
           "angularaxis": {
            "gridcolor": "white",
            "linecolor": "white",
            "ticks": ""
           },
           "bgcolor": "#E5ECF6",
           "radialaxis": {
            "gridcolor": "white",
            "linecolor": "white",
            "ticks": ""
           }
          },
          "scene": {
           "xaxis": {
            "backgroundcolor": "#E5ECF6",
            "gridcolor": "white",
            "gridwidth": 2,
            "linecolor": "white",
            "showbackground": true,
            "ticks": "",
            "zerolinecolor": "white"
           },
           "yaxis": {
            "backgroundcolor": "#E5ECF6",
            "gridcolor": "white",
            "gridwidth": 2,
            "linecolor": "white",
            "showbackground": true,
            "ticks": "",
            "zerolinecolor": "white"
           },
           "zaxis": {
            "backgroundcolor": "#E5ECF6",
            "gridcolor": "white",
            "gridwidth": 2,
            "linecolor": "white",
            "showbackground": true,
            "ticks": "",
            "zerolinecolor": "white"
           }
          },
          "shapedefaults": {
           "line": {
            "color": "#2a3f5f"
           }
          },
          "ternary": {
           "aaxis": {
            "gridcolor": "white",
            "linecolor": "white",
            "ticks": ""
           },
           "baxis": {
            "gridcolor": "white",
            "linecolor": "white",
            "ticks": ""
           },
           "bgcolor": "#E5ECF6",
           "caxis": {
            "gridcolor": "white",
            "linecolor": "white",
            "ticks": ""
           }
          },
          "title": {
           "x": 0.05
          },
          "xaxis": {
           "automargin": true,
           "gridcolor": "white",
           "linecolor": "white",
           "ticks": "",
           "title": {
            "standoff": 15
           },
           "zerolinecolor": "white",
           "zerolinewidth": 2
          },
          "yaxis": {
           "automargin": true,
           "gridcolor": "white",
           "linecolor": "white",
           "ticks": "",
           "title": {
            "standoff": 15
           },
           "zerolinecolor": "white",
           "zerolinewidth": 2
          }
         }
        },
        "title": {
         "text": "Label: Abomasnow"
        },
        "width": 500,
        "xaxis": {
         "anchor": "y",
         "domain": [
          0,
          1
         ],
         "showgrid": false,
         "showticklabels": false,
         "visible": false,
         "zeroline": false
        },
        "yaxis": {
         "anchor": "x",
         "domain": [
          0,
          1
         ],
         "showgrid": false,
         "showticklabels": false,
         "visible": false,
         "zeroline": false
        }
       }
      }
     },
     "metadata": {},
     "output_type": "display_data"
    },
    {
     "name": "stdout",
     "output_type": "stream",
     "text": [
      "tf.Tensor([1. 0. 0. 0. 0. 0. 0. 0. 0. 0. 0. 0. 1. 0. 0. 0. 0. 1. 0.], shape=(19,), dtype=float32)\n",
      "(96, 96, 3)\n"
     ]
    },
    {
     "data": {
      "application/vnd.plotly.v1+json": {
       "config": {
        "plotlyServerURL": "https://plot.ly"
       },
       "data": [
        {
         "hovertemplate": "x: %{x}<br>y: %{y}<br>color: [%{z[0]}, %{z[1]}, %{z[2]}]<extra></extra>",
         "name": "0",
         "source": "data:image/png;base64,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",
         "type": "image",
         "xaxis": "x",
         "yaxis": "y"
        }
       ],
       "layout": {
        "height": 350,
        "margin": {
         "l": 0,
         "t": 60
        },
        "shapes": [
         {
          "line": {
           "color": "black",
           "width": 2
          },
          "type": "rect",
          "x0": 0,
          "x1": 96,
          "xref": "x",
          "y0": 0,
          "y1": 96,
          "yref": "y"
         }
        ],
        "template": {
         "data": {
          "bar": [
           {
            "error_x": {
             "color": "#2a3f5f"
            },
            "error_y": {
             "color": "#2a3f5f"
            },
            "marker": {
             "line": {
              "color": "#E5ECF6",
              "width": 0.5
             },
             "pattern": {
              "fillmode": "overlay",
              "size": 10,
              "solidity": 0.2
             }
            },
            "type": "bar"
           }
          ],
          "barpolar": [
           {
            "marker": {
             "line": {
              "color": "#E5ECF6",
              "width": 0.5
             },
             "pattern": {
              "fillmode": "overlay",
              "size": 10,
              "solidity": 0.2
             }
            },
            "type": "barpolar"
           }
          ],
          "carpet": [
           {
            "aaxis": {
             "endlinecolor": "#2a3f5f",
             "gridcolor": "white",
             "linecolor": "white",
             "minorgridcolor": "white",
             "startlinecolor": "#2a3f5f"
            },
            "baxis": {
             "endlinecolor": "#2a3f5f",
             "gridcolor": "white",
             "linecolor": "white",
             "minorgridcolor": "white",
             "startlinecolor": "#2a3f5f"
            },
            "type": "carpet"
           }
          ],
          "choropleth": [
           {
            "colorbar": {
             "outlinewidth": 0,
             "ticks": ""
            },
            "type": "choropleth"
           }
          ],
          "contour": [
           {
            "colorbar": {
             "outlinewidth": 0,
             "ticks": ""
            },
            "colorscale": [
             [
              0,
              "#0d0887"
             ],
             [
              0.1111111111111111,
              "#46039f"
             ],
             [
              0.2222222222222222,
              "#7201a8"
             ],
             [
              0.3333333333333333,
              "#9c179e"
             ],
             [
              0.4444444444444444,
              "#bd3786"
             ],
             [
              0.5555555555555556,
              "#d8576b"
             ],
             [
              0.6666666666666666,
              "#ed7953"
             ],
             [
              0.7777777777777778,
              "#fb9f3a"
             ],
             [
              0.8888888888888888,
              "#fdca26"
             ],
             [
              1,
              "#f0f921"
             ]
            ],
            "type": "contour"
           }
          ],
          "contourcarpet": [
           {
            "colorbar": {
             "outlinewidth": 0,
             "ticks": ""
            },
            "type": "contourcarpet"
           }
          ],
          "heatmap": [
           {
            "colorbar": {
             "outlinewidth": 0,
             "ticks": ""
            },
            "colorscale": [
             [
              0,
              "#0d0887"
             ],
             [
              0.1111111111111111,
              "#46039f"
             ],
             [
              0.2222222222222222,
              "#7201a8"
             ],
             [
              0.3333333333333333,
              "#9c179e"
             ],
             [
              0.4444444444444444,
              "#bd3786"
             ],
             [
              0.5555555555555556,
              "#d8576b"
             ],
             [
              0.6666666666666666,
              "#ed7953"
             ],
             [
              0.7777777777777778,
              "#fb9f3a"
             ],
             [
              0.8888888888888888,
              "#fdca26"
             ],
             [
              1,
              "#f0f921"
             ]
            ],
            "type": "heatmap"
           }
          ],
          "heatmapgl": [
           {
            "colorbar": {
             "outlinewidth": 0,
             "ticks": ""
            },
            "colorscale": [
             [
              0,
              "#0d0887"
             ],
             [
              0.1111111111111111,
              "#46039f"
             ],
             [
              0.2222222222222222,
              "#7201a8"
             ],
             [
              0.3333333333333333,
              "#9c179e"
             ],
             [
              0.4444444444444444,
              "#bd3786"
             ],
             [
              0.5555555555555556,
              "#d8576b"
             ],
             [
              0.6666666666666666,
              "#ed7953"
             ],
             [
              0.7777777777777778,
              "#fb9f3a"
             ],
             [
              0.8888888888888888,
              "#fdca26"
             ],
             [
              1,
              "#f0f921"
             ]
            ],
            "type": "heatmapgl"
           }
          ],
          "histogram": [
           {
            "marker": {
             "pattern": {
              "fillmode": "overlay",
              "size": 10,
              "solidity": 0.2
             }
            },
            "type": "histogram"
           }
          ],
          "histogram2d": [
           {
            "colorbar": {
             "outlinewidth": 0,
             "ticks": ""
            },
            "colorscale": [
             [
              0,
              "#0d0887"
             ],
             [
              0.1111111111111111,
              "#46039f"
             ],
             [
              0.2222222222222222,
              "#7201a8"
             ],
             [
              0.3333333333333333,
              "#9c179e"
             ],
             [
              0.4444444444444444,
              "#bd3786"
             ],
             [
              0.5555555555555556,
              "#d8576b"
             ],
             [
              0.6666666666666666,
              "#ed7953"
             ],
             [
              0.7777777777777778,
              "#fb9f3a"
             ],
             [
              0.8888888888888888,
              "#fdca26"
             ],
             [
              1,
              "#f0f921"
             ]
            ],
            "type": "histogram2d"
           }
          ],
          "histogram2dcontour": [
           {
            "colorbar": {
             "outlinewidth": 0,
             "ticks": ""
            },
            "colorscale": [
             [
              0,
              "#0d0887"
             ],
             [
              0.1111111111111111,
              "#46039f"
             ],
             [
              0.2222222222222222,
              "#7201a8"
             ],
             [
              0.3333333333333333,
              "#9c179e"
             ],
             [
              0.4444444444444444,
              "#bd3786"
             ],
             [
              0.5555555555555556,
              "#d8576b"
             ],
             [
              0.6666666666666666,
              "#ed7953"
             ],
             [
              0.7777777777777778,
              "#fb9f3a"
             ],
             [
              0.8888888888888888,
              "#fdca26"
             ],
             [
              1,
              "#f0f921"
             ]
            ],
            "type": "histogram2dcontour"
           }
          ],
          "mesh3d": [
           {
            "colorbar": {
             "outlinewidth": 0,
             "ticks": ""
            },
            "type": "mesh3d"
           }
          ],
          "parcoords": [
           {
            "line": {
             "colorbar": {
              "outlinewidth": 0,
              "ticks": ""
             }
            },
            "type": "parcoords"
           }
          ],
          "pie": [
           {
            "automargin": true,
            "type": "pie"
           }
          ],
          "scatter": [
           {
            "fillpattern": {
             "fillmode": "overlay",
             "size": 10,
             "solidity": 0.2
            },
            "type": "scatter"
           }
          ],
          "scatter3d": [
           {
            "line": {
             "colorbar": {
              "outlinewidth": 0,
              "ticks": ""
             }
            },
            "marker": {
             "colorbar": {
              "outlinewidth": 0,
              "ticks": ""
             }
            },
            "type": "scatter3d"
           }
          ],
          "scattercarpet": [
           {
            "marker": {
             "colorbar": {
              "outlinewidth": 0,
              "ticks": ""
             }
            },
            "type": "scattercarpet"
           }
          ],
          "scattergeo": [
           {
            "marker": {
             "colorbar": {
              "outlinewidth": 0,
              "ticks": ""
             }
            },
            "type": "scattergeo"
           }
          ],
          "scattergl": [
           {
            "marker": {
             "colorbar": {
              "outlinewidth": 0,
              "ticks": ""
             }
            },
            "type": "scattergl"
           }
          ],
          "scattermapbox": [
           {
            "marker": {
             "colorbar": {
              "outlinewidth": 0,
              "ticks": ""
             }
            },
            "type": "scattermapbox"
           }
          ],
          "scatterpolar": [
           {
            "marker": {
             "colorbar": {
              "outlinewidth": 0,
              "ticks": ""
             }
            },
            "type": "scatterpolar"
           }
          ],
          "scatterpolargl": [
           {
            "marker": {
             "colorbar": {
              "outlinewidth": 0,
              "ticks": ""
             }
            },
            "type": "scatterpolargl"
           }
          ],
          "scatterternary": [
           {
            "marker": {
             "colorbar": {
              "outlinewidth": 0,
              "ticks": ""
             }
            },
            "type": "scatterternary"
           }
          ],
          "surface": [
           {
            "colorbar": {
             "outlinewidth": 0,
             "ticks": ""
            },
            "colorscale": [
             [
              0,
              "#0d0887"
             ],
             [
              0.1111111111111111,
              "#46039f"
             ],
             [
              0.2222222222222222,
              "#7201a8"
             ],
             [
              0.3333333333333333,
              "#9c179e"
             ],
             [
              0.4444444444444444,
              "#bd3786"
             ],
             [
              0.5555555555555556,
              "#d8576b"
             ],
             [
              0.6666666666666666,
              "#ed7953"
             ],
             [
              0.7777777777777778,
              "#fb9f3a"
             ],
             [
              0.8888888888888888,
              "#fdca26"
             ],
             [
              1,
              "#f0f921"
             ]
            ],
            "type": "surface"
           }
          ],
          "table": [
           {
            "cells": {
             "fill": {
              "color": "#EBF0F8"
             },
             "line": {
              "color": "white"
             }
            },
            "header": {
             "fill": {
              "color": "#C8D4E3"
             },
             "line": {
              "color": "white"
             }
            },
            "type": "table"
           }
          ]
         },
         "layout": {
          "annotationdefaults": {
           "arrowcolor": "#2a3f5f",
           "arrowhead": 0,
           "arrowwidth": 1
          },
          "autotypenumbers": "strict",
          "coloraxis": {
           "colorbar": {
            "outlinewidth": 0,
            "ticks": ""
           }
          },
          "colorscale": {
           "diverging": [
            [
             0,
             "#8e0152"
            ],
            [
             0.1,
             "#c51b7d"
            ],
            [
             0.2,
             "#de77ae"
            ],
            [
             0.3,
             "#f1b6da"
            ],
            [
             0.4,
             "#fde0ef"
            ],
            [
             0.5,
             "#f7f7f7"
            ],
            [
             0.6,
             "#e6f5d0"
            ],
            [
             0.7,
             "#b8e186"
            ],
            [
             0.8,
             "#7fbc41"
            ],
            [
             0.9,
             "#4d9221"
            ],
            [
             1,
             "#276419"
            ]
           ],
           "sequential": [
            [
             0,
             "#0d0887"
            ],
            [
             0.1111111111111111,
             "#46039f"
            ],
            [
             0.2222222222222222,
             "#7201a8"
            ],
            [
             0.3333333333333333,
             "#9c179e"
            ],
            [
             0.4444444444444444,
             "#bd3786"
            ],
            [
             0.5555555555555556,
             "#d8576b"
            ],
            [
             0.6666666666666666,
             "#ed7953"
            ],
            [
             0.7777777777777778,
             "#fb9f3a"
            ],
            [
             0.8888888888888888,
             "#fdca26"
            ],
            [
             1,
             "#f0f921"
            ]
           ],
           "sequentialminus": [
            [
             0,
             "#0d0887"
            ],
            [
             0.1111111111111111,
             "#46039f"
            ],
            [
             0.2222222222222222,
             "#7201a8"
            ],
            [
             0.3333333333333333,
             "#9c179e"
            ],
            [
             0.4444444444444444,
             "#bd3786"
            ],
            [
             0.5555555555555556,
             "#d8576b"
            ],
            [
             0.6666666666666666,
             "#ed7953"
            ],
            [
             0.7777777777777778,
             "#fb9f3a"
            ],
            [
             0.8888888888888888,
             "#fdca26"
            ],
            [
             1,
             "#f0f921"
            ]
           ]
          },
          "colorway": [
           "#636efa",
           "#EF553B",
           "#00cc96",
           "#ab63fa",
           "#FFA15A",
           "#19d3f3",
           "#FF6692",
           "#B6E880",
           "#FF97FF",
           "#FECB52"
          ],
          "font": {
           "color": "#2a3f5f"
          },
          "geo": {
           "bgcolor": "white",
           "lakecolor": "white",
           "landcolor": "#E5ECF6",
           "showlakes": true,
           "showland": true,
           "subunitcolor": "white"
          },
          "hoverlabel": {
           "align": "left"
          },
          "hovermode": "closest",
          "mapbox": {
           "style": "light"
          },
          "paper_bgcolor": "white",
          "plot_bgcolor": "#E5ECF6",
          "polar": {
           "angularaxis": {
            "gridcolor": "white",
            "linecolor": "white",
            "ticks": ""
           },
           "bgcolor": "#E5ECF6",
           "radialaxis": {
            "gridcolor": "white",
            "linecolor": "white",
            "ticks": ""
           }
          },
          "scene": {
           "xaxis": {
            "backgroundcolor": "#E5ECF6",
            "gridcolor": "white",
            "gridwidth": 2,
            "linecolor": "white",
            "showbackground": true,
            "ticks": "",
            "zerolinecolor": "white"
           },
           "yaxis": {
            "backgroundcolor": "#E5ECF6",
            "gridcolor": "white",
            "gridwidth": 2,
            "linecolor": "white",
            "showbackground": true,
            "ticks": "",
            "zerolinecolor": "white"
           },
           "zaxis": {
            "backgroundcolor": "#E5ECF6",
            "gridcolor": "white",
            "gridwidth": 2,
            "linecolor": "white",
            "showbackground": true,
            "ticks": "",
            "zerolinecolor": "white"
           }
          },
          "shapedefaults": {
           "line": {
            "color": "#2a3f5f"
           }
          },
          "ternary": {
           "aaxis": {
            "gridcolor": "white",
            "linecolor": "white",
            "ticks": ""
           },
           "baxis": {
            "gridcolor": "white",
            "linecolor": "white",
            "ticks": ""
           },
           "bgcolor": "#E5ECF6",
           "caxis": {
            "gridcolor": "white",
            "linecolor": "white",
            "ticks": ""
           }
          },
          "title": {
           "x": 0.05
          },
          "xaxis": {
           "automargin": true,
           "gridcolor": "white",
           "linecolor": "white",
           "ticks": "",
           "title": {
            "standoff": 15
           },
           "zerolinecolor": "white",
           "zerolinewidth": 2
          },
          "yaxis": {
           "automargin": true,
           "gridcolor": "white",
           "linecolor": "white",
           "ticks": "",
           "title": {
            "standoff": 15
           },
           "zerolinecolor": "white",
           "zerolinewidth": 2
          }
         }
        },
        "title": {
         "text": "Label: Abomasnow"
        },
        "width": 500,
        "xaxis": {
         "anchor": "y",
         "domain": [
          0,
          1
         ],
         "showgrid": false,
         "showticklabels": false,
         "visible": false,
         "zeroline": false
        },
        "yaxis": {
         "anchor": "x",
         "domain": [
          0,
          1
         ],
         "showgrid": false,
         "showticklabels": false,
         "visible": false,
         "zeroline": false
        }
       }
      }
     },
     "metadata": {},
     "output_type": "display_data"
    },
    {
     "name": "stdout",
     "output_type": "stream",
     "text": [
      "tf.Tensor([1. 0. 0. 0. 0. 0. 0. 0. 0. 0. 0. 0. 0. 0. 0. 0. 0. 1. 0.], shape=(19,), dtype=float32)\n",
      "(96, 96, 3)\n"
     ]
    },
    {
     "data": {
      "application/vnd.plotly.v1+json": {
       "config": {
        "plotlyServerURL": "https://plot.ly"
       },
       "data": [
        {
         "hovertemplate": "x: %{x}<br>y: %{y}<br>color: [%{z[0]}, %{z[1]}, %{z[2]}]<extra></extra>",
         "name": "0",
         "source": "data:image/png;base64,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",
         "type": "image",
         "xaxis": "x",
         "yaxis": "y"
        }
       ],
       "layout": {
        "height": 350,
        "margin": {
         "l": 0,
         "t": 60
        },
        "shapes": [
         {
          "line": {
           "color": "black",
           "width": 2
          },
          "type": "rect",
          "x0": 0,
          "x1": 96,
          "xref": "x",
          "y0": 0,
          "y1": 96,
          "yref": "y"
         }
        ],
        "template": {
         "data": {
          "bar": [
           {
            "error_x": {
             "color": "#2a3f5f"
            },
            "error_y": {
             "color": "#2a3f5f"
            },
            "marker": {
             "line": {
              "color": "#E5ECF6",
              "width": 0.5
             },
             "pattern": {
              "fillmode": "overlay",
              "size": 10,
              "solidity": 0.2
             }
            },
            "type": "bar"
           }
          ],
          "barpolar": [
           {
            "marker": {
             "line": {
              "color": "#E5ECF6",
              "width": 0.5
             },
             "pattern": {
              "fillmode": "overlay",
              "size": 10,
              "solidity": 0.2
             }
            },
            "type": "barpolar"
           }
          ],
          "carpet": [
           {
            "aaxis": {
             "endlinecolor": "#2a3f5f",
             "gridcolor": "white",
             "linecolor": "white",
             "minorgridcolor": "white",
             "startlinecolor": "#2a3f5f"
            },
            "baxis": {
             "endlinecolor": "#2a3f5f",
             "gridcolor": "white",
             "linecolor": "white",
             "minorgridcolor": "white",
             "startlinecolor": "#2a3f5f"
            },
            "type": "carpet"
           }
          ],
          "choropleth": [
           {
            "colorbar": {
             "outlinewidth": 0,
             "ticks": ""
            },
            "type": "choropleth"
           }
          ],
          "contour": [
           {
            "colorbar": {
             "outlinewidth": 0,
             "ticks": ""
            },
            "colorscale": [
             [
              0,
              "#0d0887"
             ],
             [
              0.1111111111111111,
              "#46039f"
             ],
             [
              0.2222222222222222,
              "#7201a8"
             ],
             [
              0.3333333333333333,
              "#9c179e"
             ],
             [
              0.4444444444444444,
              "#bd3786"
             ],
             [
              0.5555555555555556,
              "#d8576b"
             ],
             [
              0.6666666666666666,
              "#ed7953"
             ],
             [
              0.7777777777777778,
              "#fb9f3a"
             ],
             [
              0.8888888888888888,
              "#fdca26"
             ],
             [
              1,
              "#f0f921"
             ]
            ],
            "type": "contour"
           }
          ],
          "contourcarpet": [
           {
            "colorbar": {
             "outlinewidth": 0,
             "ticks": ""
            },
            "type": "contourcarpet"
           }
          ],
          "heatmap": [
           {
            "colorbar": {
             "outlinewidth": 0,
             "ticks": ""
            },
            "colorscale": [
             [
              0,
              "#0d0887"
             ],
             [
              0.1111111111111111,
              "#46039f"
             ],
             [
              0.2222222222222222,
              "#7201a8"
             ],
             [
              0.3333333333333333,
              "#9c179e"
             ],
             [
              0.4444444444444444,
              "#bd3786"
             ],
             [
              0.5555555555555556,
              "#d8576b"
             ],
             [
              0.6666666666666666,
              "#ed7953"
             ],
             [
              0.7777777777777778,
              "#fb9f3a"
             ],
             [
              0.8888888888888888,
              "#fdca26"
             ],
             [
              1,
              "#f0f921"
             ]
            ],
            "type": "heatmap"
           }
          ],
          "heatmapgl": [
           {
            "colorbar": {
             "outlinewidth": 0,
             "ticks": ""
            },
            "colorscale": [
             [
              0,
              "#0d0887"
             ],
             [
              0.1111111111111111,
              "#46039f"
             ],
             [
              0.2222222222222222,
              "#7201a8"
             ],
             [
              0.3333333333333333,
              "#9c179e"
             ],
             [
              0.4444444444444444,
              "#bd3786"
             ],
             [
              0.5555555555555556,
              "#d8576b"
             ],
             [
              0.6666666666666666,
              "#ed7953"
             ],
             [
              0.7777777777777778,
              "#fb9f3a"
             ],
             [
              0.8888888888888888,
              "#fdca26"
             ],
             [
              1,
              "#f0f921"
             ]
            ],
            "type": "heatmapgl"
           }
          ],
          "histogram": [
           {
            "marker": {
             "pattern": {
              "fillmode": "overlay",
              "size": 10,
              "solidity": 0.2
             }
            },
            "type": "histogram"
           }
          ],
          "histogram2d": [
           {
            "colorbar": {
             "outlinewidth": 0,
             "ticks": ""
            },
            "colorscale": [
             [
              0,
              "#0d0887"
             ],
             [
              0.1111111111111111,
              "#46039f"
             ],
             [
              0.2222222222222222,
              "#7201a8"
             ],
             [
              0.3333333333333333,
              "#9c179e"
             ],
             [
              0.4444444444444444,
              "#bd3786"
             ],
             [
              0.5555555555555556,
              "#d8576b"
             ],
             [
              0.6666666666666666,
              "#ed7953"
             ],
             [
              0.7777777777777778,
              "#fb9f3a"
             ],
             [
              0.8888888888888888,
              "#fdca26"
             ],
             [
              1,
              "#f0f921"
             ]
            ],
            "type": "histogram2d"
           }
          ],
          "histogram2dcontour": [
           {
            "colorbar": {
             "outlinewidth": 0,
             "ticks": ""
            },
            "colorscale": [
             [
              0,
              "#0d0887"
             ],
             [
              0.1111111111111111,
              "#46039f"
             ],
             [
              0.2222222222222222,
              "#7201a8"
             ],
             [
              0.3333333333333333,
              "#9c179e"
             ],
             [
              0.4444444444444444,
              "#bd3786"
             ],
             [
              0.5555555555555556,
              "#d8576b"
             ],
             [
              0.6666666666666666,
              "#ed7953"
             ],
             [
              0.7777777777777778,
              "#fb9f3a"
             ],
             [
              0.8888888888888888,
              "#fdca26"
             ],
             [
              1,
              "#f0f921"
             ]
            ],
            "type": "histogram2dcontour"
           }
          ],
          "mesh3d": [
           {
            "colorbar": {
             "outlinewidth": 0,
             "ticks": ""
            },
            "type": "mesh3d"
           }
          ],
          "parcoords": [
           {
            "line": {
             "colorbar": {
              "outlinewidth": 0,
              "ticks": ""
             }
            },
            "type": "parcoords"
           }
          ],
          "pie": [
           {
            "automargin": true,
            "type": "pie"
           }
          ],
          "scatter": [
           {
            "fillpattern": {
             "fillmode": "overlay",
             "size": 10,
             "solidity": 0.2
            },
            "type": "scatter"
           }
          ],
          "scatter3d": [
           {
            "line": {
             "colorbar": {
              "outlinewidth": 0,
              "ticks": ""
             }
            },
            "marker": {
             "colorbar": {
              "outlinewidth": 0,
              "ticks": ""
             }
            },
            "type": "scatter3d"
           }
          ],
          "scattercarpet": [
           {
            "marker": {
             "colorbar": {
              "outlinewidth": 0,
              "ticks": ""
             }
            },
            "type": "scattercarpet"
           }
          ],
          "scattergeo": [
           {
            "marker": {
             "colorbar": {
              "outlinewidth": 0,
              "ticks": ""
             }
            },
            "type": "scattergeo"
           }
          ],
          "scattergl": [
           {
            "marker": {
             "colorbar": {
              "outlinewidth": 0,
              "ticks": ""
             }
            },
            "type": "scattergl"
           }
          ],
          "scattermapbox": [
           {
            "marker": {
             "colorbar": {
              "outlinewidth": 0,
              "ticks": ""
             }
            },
            "type": "scattermapbox"
           }
          ],
          "scatterpolar": [
           {
            "marker": {
             "colorbar": {
              "outlinewidth": 0,
              "ticks": ""
             }
            },
            "type": "scatterpolar"
           }
          ],
          "scatterpolargl": [
           {
            "marker": {
             "colorbar": {
              "outlinewidth": 0,
              "ticks": ""
             }
            },
            "type": "scatterpolargl"
           }
          ],
          "scatterternary": [
           {
            "marker": {
             "colorbar": {
              "outlinewidth": 0,
              "ticks": ""
             }
            },
            "type": "scatterternary"
           }
          ],
          "surface": [
           {
            "colorbar": {
             "outlinewidth": 0,
             "ticks": ""
            },
            "colorscale": [
             [
              0,
              "#0d0887"
             ],
             [
              0.1111111111111111,
              "#46039f"
             ],
             [
              0.2222222222222222,
              "#7201a8"
             ],
             [
              0.3333333333333333,
              "#9c179e"
             ],
             [
              0.4444444444444444,
              "#bd3786"
             ],
             [
              0.5555555555555556,
              "#d8576b"
             ],
             [
              0.6666666666666666,
              "#ed7953"
             ],
             [
              0.7777777777777778,
              "#fb9f3a"
             ],
             [
              0.8888888888888888,
              "#fdca26"
             ],
             [
              1,
              "#f0f921"
             ]
            ],
            "type": "surface"
           }
          ],
          "table": [
           {
            "cells": {
             "fill": {
              "color": "#EBF0F8"
             },
             "line": {
              "color": "white"
             }
            },
            "header": {
             "fill": {
              "color": "#C8D4E3"
             },
             "line": {
              "color": "white"
             }
            },
            "type": "table"
           }
          ]
         },
         "layout": {
          "annotationdefaults": {
           "arrowcolor": "#2a3f5f",
           "arrowhead": 0,
           "arrowwidth": 1
          },
          "autotypenumbers": "strict",
          "coloraxis": {
           "colorbar": {
            "outlinewidth": 0,
            "ticks": ""
           }
          },
          "colorscale": {
           "diverging": [
            [
             0,
             "#8e0152"
            ],
            [
             0.1,
             "#c51b7d"
            ],
            [
             0.2,
             "#de77ae"
            ],
            [
             0.3,
             "#f1b6da"
            ],
            [
             0.4,
             "#fde0ef"
            ],
            [
             0.5,
             "#f7f7f7"
            ],
            [
             0.6,
             "#e6f5d0"
            ],
            [
             0.7,
             "#b8e186"
            ],
            [
             0.8,
             "#7fbc41"
            ],
            [
             0.9,
             "#4d9221"
            ],
            [
             1,
             "#276419"
            ]
           ],
           "sequential": [
            [
             0,
             "#0d0887"
            ],
            [
             0.1111111111111111,
             "#46039f"
            ],
            [
             0.2222222222222222,
             "#7201a8"
            ],
            [
             0.3333333333333333,
             "#9c179e"
            ],
            [
             0.4444444444444444,
             "#bd3786"
            ],
            [
             0.5555555555555556,
             "#d8576b"
            ],
            [
             0.6666666666666666,
             "#ed7953"
            ],
            [
             0.7777777777777778,
             "#fb9f3a"
            ],
            [
             0.8888888888888888,
             "#fdca26"
            ],
            [
             1,
             "#f0f921"
            ]
           ],
           "sequentialminus": [
            [
             0,
             "#0d0887"
            ],
            [
             0.1111111111111111,
             "#46039f"
            ],
            [
             0.2222222222222222,
             "#7201a8"
            ],
            [
             0.3333333333333333,
             "#9c179e"
            ],
            [
             0.4444444444444444,
             "#bd3786"
            ],
            [
             0.5555555555555556,
             "#d8576b"
            ],
            [
             0.6666666666666666,
             "#ed7953"
            ],
            [
             0.7777777777777778,
             "#fb9f3a"
            ],
            [
             0.8888888888888888,
             "#fdca26"
            ],
            [
             1,
             "#f0f921"
            ]
           ]
          },
          "colorway": [
           "#636efa",
           "#EF553B",
           "#00cc96",
           "#ab63fa",
           "#FFA15A",
           "#19d3f3",
           "#FF6692",
           "#B6E880",
           "#FF97FF",
           "#FECB52"
          ],
          "font": {
           "color": "#2a3f5f"
          },
          "geo": {
           "bgcolor": "white",
           "lakecolor": "white",
           "landcolor": "#E5ECF6",
           "showlakes": true,
           "showland": true,
           "subunitcolor": "white"
          },
          "hoverlabel": {
           "align": "left"
          },
          "hovermode": "closest",
          "mapbox": {
           "style": "light"
          },
          "paper_bgcolor": "white",
          "plot_bgcolor": "#E5ECF6",
          "polar": {
           "angularaxis": {
            "gridcolor": "white",
            "linecolor": "white",
            "ticks": ""
           },
           "bgcolor": "#E5ECF6",
           "radialaxis": {
            "gridcolor": "white",
            "linecolor": "white",
            "ticks": ""
           }
          },
          "scene": {
           "xaxis": {
            "backgroundcolor": "#E5ECF6",
            "gridcolor": "white",
            "gridwidth": 2,
            "linecolor": "white",
            "showbackground": true,
            "ticks": "",
            "zerolinecolor": "white"
           },
           "yaxis": {
            "backgroundcolor": "#E5ECF6",
            "gridcolor": "white",
            "gridwidth": 2,
            "linecolor": "white",
            "showbackground": true,
            "ticks": "",
            "zerolinecolor": "white"
           },
           "zaxis": {
            "backgroundcolor": "#E5ECF6",
            "gridcolor": "white",
            "gridwidth": 2,
            "linecolor": "white",
            "showbackground": true,
            "ticks": "",
            "zerolinecolor": "white"
           }
          },
          "shapedefaults": {
           "line": {
            "color": "#2a3f5f"
           }
          },
          "ternary": {
           "aaxis": {
            "gridcolor": "white",
            "linecolor": "white",
            "ticks": ""
           },
           "baxis": {
            "gridcolor": "white",
            "linecolor": "white",
            "ticks": ""
           },
           "bgcolor": "#E5ECF6",
           "caxis": {
            "gridcolor": "white",
            "linecolor": "white",
            "ticks": ""
           }
          },
          "title": {
           "x": 0.05
          },
          "xaxis": {
           "automargin": true,
           "gridcolor": "white",
           "linecolor": "white",
           "ticks": "",
           "title": {
            "standoff": 15
           },
           "zerolinecolor": "white",
           "zerolinewidth": 2
          },
          "yaxis": {
           "automargin": true,
           "gridcolor": "white",
           "linecolor": "white",
           "ticks": "",
           "title": {
            "standoff": 15
           },
           "zerolinecolor": "white",
           "zerolinewidth": 2
          }
         }
        },
        "title": {
         "text": "Label: Abomasnow"
        },
        "width": 500,
        "xaxis": {
         "anchor": "y",
         "domain": [
          0,
          1
         ],
         "showgrid": false,
         "showticklabels": false,
         "visible": false,
         "zeroline": false
        },
        "yaxis": {
         "anchor": "x",
         "domain": [
          0,
          1
         ],
         "showgrid": false,
         "showticklabels": false,
         "visible": false,
         "zeroline": false
        }
       }
      }
     },
     "metadata": {},
     "output_type": "display_data"
    }
   ],
   "source": [
    "plot_n_images(train_ds, 5, class_names, GAN=True, size=width)"
   ]
  },
  {
   "cell_type": "code",
   "execution_count": 14,
   "metadata": {},
   "outputs": [],
   "source": [
    "from keras.layers import Input, Dense, Conv2D, Flatten, Lambda, Reshape, BatchNormalization, Concatenate, LeakyReLU, Dropout, Activation, UpSampling2D\n",
    "from keras.models import Model\n",
    "from keras import backend as K\n",
    "import numpy as np\n",
    "\n",
    "\n",
    "def define_encoder(input_shape, latent_dim):\n",
    "    # Define the input shape\n",
    "    input_shape = (96, 96, 3)\n",
    "\n",
    "    # Define the number of latent variables\n",
    "    latent_dim = 100\n",
    "\n",
    "    # Define the encoder architecture\n",
    "    input_encoder = Input(shape=input_shape, name='input_encoder')\n",
    "    x = Conv2D(64, kernel_size=3, strides=2, padding='same', activation='relu')(input_encoder)\n",
    "    x = BatchNormalization()(x)\n",
    "    x = Conv2D(128, kernel_size=3, strides=2, padding='same', activation='relu')(x)\n",
    "    x = BatchNormalization()(x)\n",
    "    x = Conv2D(128, kernel_size=3, strides=2, padding='same', activation='relu')(x)\n",
    "    x = BatchNormalization()(x)\n",
    "    x = Conv2D(256, kernel_size=3, strides=2, padding='same', activation='relu')(x)\n",
    "    x = BatchNormalization()(x)\n",
    "    x = Flatten()(x)\n",
    "    x = Dense(256, activation='relu')(x)\n",
    "    x = BatchNormalization()(x)\n",
    "    z = Dense(latent_dim)(x)\n",
    "\n",
    "    # Define the encoder model\n",
    "    encoder = Model(input_encoder, z, name='encoder')\n",
    "\n",
    "    return encoder\n",
    "\n",
    "\n",
    "# Define the generator\n",
    "def define_decoder(latent_dim):\n",
    "    # Define the noise vector input\n",
    "    in_lat = tf.keras.layers.Input(shape=(latent_dim,))\n",
    "    # Define the class vector input\n",
    "    # in_class = tf.keras.layers.Input(shape=(num_classes,))\n",
    "    # Concatenate the noise and class vectors\n",
    "    # merge = tf.keras.layers.Concatenate()([in_lat, in_class])\n",
    "    # Project the concatenated vector to a larger dimension\n",
    "    n = 128\n",
    "    size = int(width/16)\n",
    "    n_nodes = n * size * size\n",
    "    dense = tf.keras.layers.Dense(n_nodes)(in_lat)\n",
    "    # Reshape the dense layer output\n",
    "    reshaped = tf.keras.layers.Reshape((size, size, n))(dense)\n",
    "    # Upsample the feature maps\n",
    "    upsampled = tf.keras.layers.Conv2DTranspose(256, (4,4), strides=(2,2), padding='same')(reshaped)\n",
    "    upsampled = tf.keras.layers.LeakyReLU(alpha=0.2)(upsampled)\n",
    "    upsampled = tf.keras.layers.Conv2DTranspose(256, (4,4), strides=(2,2), padding='same')(upsampled)\n",
    "    upsampled = tf.keras.layers.LeakyReLU(alpha=0.2)(upsampled)\n",
    "    upsampled = tf.keras.layers.Conv2DTranspose(128, (4,4), strides=(2,2), padding='same')(upsampled)\n",
    "    upsampled = tf.keras.layers.LeakyReLU(alpha=0.2)(upsampled)\n",
    "    upsampled = tf.keras.layers.Conv2DTranspose(128, (4,4), strides=(2,2), padding='same')(upsampled)\n",
    "    upsampled = tf.keras.layers.LeakyReLU(alpha=0.2)(upsampled)\n",
    "    # Output layer\n",
    "    out_layer = tf.keras.layers.Conv2D(3, (3,3), activation='tanh', padding='same')(upsampled)\n",
    "    # Define the model\n",
    "    model = tf.keras.models.Model(in_lat, out_layer, name='decoder')\n",
    "    return model\n",
    "\n",
    "# # Define the sampler network\n",
    "# def build_sampler(latent_dim):\n",
    "#     # output_shape = input_shape\n",
    "#     # Define the input layers for the mean and variance vectors\n",
    "#     input_mean = tf.keras.layers.Input(shape=(latent_dim,))\n",
    "#     input_var = tf.keras.layers.Input(shape=(latent_dim,))\n",
    "#     # Define the sampling layer\n",
    "#     def sampling(args):\n",
    "#         mean, log_var = args\n",
    "#         epsilon = tf.keras.backend.random_normal(shape=(tf.keras.backend.shape(mean)[0], latent_dim), mean=0., stddev=1.)\n",
    "#         return mean + tf.keras.backend.exp(0.5 * log_var) * epsilon\n",
    "#     # Connect the input layers to the sampling layer\n",
    "#     sampled_latent = tf.keras.layers.Lambda(sampling)([input_mean, input_var])\n",
    "#     # Connect the sampled latent vector to the decoder\n",
    "#     # generated_image = decoder(sampled_latent)\n",
    "#     # Define the sampler model\n",
    "#     sampler = tf.keras.models.Model(inputs=[input_mean, input_var], outputs=sampled_latent, name='sampler')\n",
    "#     return sampler\n"
   ]
  },
  {
   "cell_type": "code",
   "execution_count": 15,
   "metadata": {},
   "outputs": [],
   "source": [
    "def build_discriminator(input_shape, latent_dim):\n",
    "    # Define input layers\n",
    "    img_input = Input(shape=input_shape)\n",
    "    enc_input = Input(shape=(latent_dim,))\n",
    "\n",
    "    # image branch\n",
    "    img_layer = Conv2D(64, (3,3), strides=(2,2), padding='same')(img_input)\n",
    "    img_layer = LeakyReLU(alpha=0.2)(img_layer)\n",
    "    img_layer = Dropout(0.25)(img_layer)\n",
    "    img_layer = Conv2D(128, (3,3), strides=(2,2), padding='same')(img_layer)\n",
    "    img_layer = LeakyReLU(alpha=0.2)(img_layer)\n",
    "    img_layer = Dropout(0.25)(img_layer)\n",
    "    img_layer = Conv2D(256, (3,3), strides=(2,2), padding='same')(img_layer)\n",
    "    img_layer = LeakyReLU(alpha=0.2)(img_layer)\n",
    "    img_layer = Dropout(0.25)(img_layer)\n",
    "    img_layer = Conv2D(512, (3,3), strides=(2,2), padding='same')(img_layer)\n",
    "    img_layer = LeakyReLU(alpha=0.2)(img_layer)\n",
    "    img_layer = Dropout(0.25)(img_layer)\n",
    "    # Flatten the features and classify as real/fake\n",
    "    features = Flatten()(img_layer)\n",
    "\n",
    "    # label branch\n",
    "    latent_layer = tf.keras.layers.Dense(64)(enc_input)\n",
    "    latent_layer = tf.keras.layers.LeakyReLU(alpha=0.2)(latent_layer)\n",
    "    latent_layer = tf.keras.layers.Dense(128)(latent_layer)\n",
    "    latent_layer = tf.keras.layers.LeakyReLU(alpha=0.2)(latent_layer)\n",
    "    latent_layer = tf.keras.layers.Dense(256)(latent_layer)\n",
    "    latent_layer = tf.keras.layers.LeakyReLU(alpha=0.2)(latent_layer)\n",
    "    latent_layer = tf.keras.layers.Dense(256)(latent_layer)\n",
    "    latent_layer = tf.keras.layers.LeakyReLU(alpha=0.2)(latent_layer)\n",
    "    latent_layer = tf.keras.layers.Flatten()(latent_layer)\n",
    "\n",
    "    # Concatenate the input layers\n",
    "    merged_input = Concatenate()([features, latent_layer])\n",
    "    merged_input = tf.keras.layers.Dropout(0.4)(merged_input)\n",
    "    validity = Dense(1, activation='sigmoid')(merged_input)\n",
    "\n",
    "    # Define the model\n",
    "    model = Model(inputs=[img_input, enc_input], outputs=validity, name='discriminator')\n",
    "\n",
    "    # compile the model\n",
    "    opt = tf.keras.optimizers.Adam(learning_rate=0.0001, beta_1=0.5)\n",
    "    model.compile(loss='binary_crossentropy', optimizer=opt, metrics=['accuracy'])\n",
    "    \n",
    "    return model\n"
   ]
  },
  {
   "cell_type": "code",
   "execution_count": 16,
   "metadata": {},
   "outputs": [],
   "source": [
    "def build_vaegan(input_shape, latent_dim):\n",
    "    # Define the encoder and decoder\n",
    "    encoder = define_encoder(input_shape, latent_dim)\n",
    "    decoder = define_decoder(latent_dim)\n",
    "\n",
    "    # Define the discriminator\n",
    "    discriminator = build_discriminator(input_shape, latent_dim)\n",
    "\n",
    "    # Define the sampler\n",
    "    # sampler = build_sampler(latent_dim)\n",
    "\n",
    "    # Define the generator\n",
    "    # in_lat = tf.keras.layers.Input(shape=(latent_dim,))\n",
    "    in_shape = tf.keras.layers.Input(shape=input_shape)\n",
    "    # in_class = tf.keras.layers.Input(shape=(num_classes,))\n",
    "    encoded_latent = encoder(in_shape)\n",
    "    # sampled_latent = sampler(encoded_latent)\n",
    "    gen_output = decoder(encoded_latent)\n",
    "    # generator = tf.keras.models.Model([in_shape, in_lat], gen_output)\n",
    "\n",
    "    # Freeze the discriminator weights during generator training\n",
    "    discriminator.trainable = False\n",
    "\n",
    "    # Define the GAN model\n",
    "    gan_output = discriminator([gen_output, encoded_latent])\n",
    "    gan_model = tf.keras.models.Model(in_shape, gan_output, name='gan')\n",
    "\n",
    "    # Compile the GAN model\n",
    "    opt = tf.keras.optimizers.Adam(learning_rate=0.0002, beta_1=0.5)\n",
    "    gan_model.compile(loss='binary_crossentropy', optimizer=opt, experimental_run_tf_function=False)\n",
    "\n",
    "    return decoder, discriminator, gan_model, encoder\n"
   ]
  },
  {
   "cell_type": "code",
   "execution_count": 29,
   "metadata": {},
   "outputs": [],
   "source": [
    "def generate_latent_points(latent_dim, n_samples):\n",
    "    # generate points in the latent space\n",
    "    x_input = tf.random.normal(shape=(n_samples, latent_dim))\n",
    "    return x_input\n",
    "\n",
    "def generate_fake_samples(generator, latent_dim, n_samples):\n",
    "    # generate points in latent space\n",
    "    noise_input = generate_latent_points(latent_dim, n_samples)\n",
    "    # predict outputs\n",
    "    X = generator.predict(noise_input, verbose=0)\n",
    "    # create 'fake' class labels (0)\n",
    "    y_class = tf.zeros((n_samples, 1))\n",
    "    return X, y_class, noise_input\n",
    "\n",
    "def generate_real_samples(dataset, encoder, n_samples):\n",
    "    X, y_class = [], []\n",
    "    while len(X) < n_samples:\n",
    "        dataset.shuffle(100)\n",
    "        for x, label in dataset.take(5):\n",
    "            for i in range(len(x)):\n",
    "                X.append(x[i])\n",
    "                y_class.append(label[i][0])\n",
    "                if len(X) == n_samples:\n",
    "                    break\n",
    "            if len(X) == n_samples:\n",
    "                break\n",
    "    X = tf.stack(X)\n",
    "    y_class = tf.reshape(tf.stack(y_class), (n_samples, 1))\n",
    "    # generate points in latent space using encoder\n",
    "    encoded = encoder.predict(X, verbose=0)\n",
    "    return X, y_class, encoded\n"
   ]
  },
  {
   "cell_type": "code",
   "execution_count": 41,
   "metadata": {},
   "outputs": [],
   "source": [
    "def summarize_performance(epoch, g_model, d_model, encoder, dataset, latent_dim, n_samples=100):\n",
    "    # prepare real samples\n",
    "    X_real, y_real_class, encoded = generate_real_samples(dataset, encoder, n_samples)\n",
    "    # evaluate discriminator on real examples\n",
    "    # print(X_real.shape)\n",
    "    # print(encoded.shape)\n",
    "    # print(y_real_class.shape)\n",
    "    X_reconstructed = g_model.predict(encoded, verbose=0)\n",
    "    _, acc_real = d_model.evaluate([X_reconstructed, encoded], y_real_class, verbose=0)\n",
    "    # prepare fake examples\n",
    "    x_fake, y_fake_class, encoded = generate_fake_samples(g_model, latent_dim, n_samples)\n",
    "    # evaluate discriminator on fake examples\n",
    "    _, acc_fake = d_model.evaluate([x_fake, encoded], y_fake_class, verbose=0)\n",
    "    # summarize discriminator performance\n",
    "    print('>Accuracy real: %.0f%%, fake: %.0f%%' % (acc_real*100, acc_fake*100))\n",
    "    # save plot\n",
    "    save_plot(x_fake, epoch)\n",
    "    # save_plot(X_real, epoch, reconstructions=1)\n",
    "    save_plot(X_reconstructed, epoch, reconstructions=2)\n",
    "    # save the generator model tile file\n",
    "    filename = 'vaegenerator_model_96_e%03d.h5' % (epoch+1)\n",
    "    g_model.save(filename)\n",
    "\n",
    "\n",
    "def save_plot(examples, epoch, n=10, reconstructions=0):\n",
    "    # plot images\n",
    "    for i in range(n * n):\n",
    "        # define subplot\n",
    "        plt.subplot(n, n, 1 + i)\n",
    "        # turn off axis\n",
    "        plt.axis('off')\n",
    "        # scale from [-1,1] to [0,1]\n",
    "        examples[i, :, :, :] = (examples[i, :, :, :] + 1) / 2.0\n",
    "        # plot raw pixel data\n",
    "        plt.imshow(examples[i, :, :, :])\n",
    "    # save plot to file\n",
    "    if reconstructions == 0:\n",
    "        filename = 'vae_generated_plot_96_e%03d.png' % (epoch+1)\n",
    "    elif reconstructions == 1:\n",
    "        filename = 'vae_reconstructions_1_plot_96_e%03d.png' % (epoch+1)\n",
    "    else:\n",
    "        filename = 'vae_reconstructions_2_plot_96_e%03d.png' % (epoch+1)\n",
    "    plt.savefig(filename)\n",
    "    plt.close()"
   ]
  },
  {
   "cell_type": "code",
   "execution_count": 43,
   "metadata": {},
   "outputs": [],
   "source": [
    "def train(g_model, d_model, encoder, gan_model, dataset, latent_dim, n_epochs=10, n_batch=64, resume_training=0):\n",
    "    bat_per_epo = int(dataset.cardinality())\n",
    "    # manually enumerate epochs\n",
    "    half_batch = int(n_batch/2)\n",
    "    for i in range(n_epochs):\n",
    "        # enumerate batches over the training set\n",
    "        for j, batch in enumerate(dataset):\n",
    "            # get randomly selected 'real' samples\n",
    "            X_real, y_real_class = batch[0], tf.ones((half_batch, 1))\n",
    "            encoded_real = encoder.predict(X_real, verbose=0)\n",
    "            X_real_decoded = g_model.predict(encoded_real, verbose=0)\n",
    "            # generate 'fake' examples\n",
    "            X_fake, y_fake_class, noise_input = generate_fake_samples(g_model, latent_dim, half_batch)\n",
    "            # create training set for the discriminator\n",
    "            y_real_class = tf.reshape(y_real_class, (half_batch, 1))\n",
    "            X, encoded, y_class = tf.concat([X_real_decoded, X_fake], axis=0), tf.concat([encoded_real, noise_input], axis=0), tf.concat([y_real_class, y_fake_class], axis=0)\n",
    "            # update discriminator model weights\n",
    "            d_loss, _ = d_model.train_on_batch([X, encoded], y_class)\n",
    "            # prepare points in latent space as input for the generator\n",
    "            X_gan, _, _ = generate_fake_samples(g_model, latent_dim, half_batch)\n",
    "            y_gan_class = tf.ones((half_batch, 1))\n",
    "            g_loss = gan_model.train_on_batch(X_gan, y_gan_class)\n",
    "            # summarize loss on this batch\n",
    "            if j % 10 == 0:\n",
    "                print('>%d, %d/%d, d=%.3f, g=%.3f' % (i+resume_training+1, j+1, bat_per_epo, d_loss, g_loss))\n",
    "        # evaluate the model performance, sometimes\n",
    "        if (i+resume_training) % 2 == 0:\n",
    "            summarize_performance(i+resume_training, g_model, d_model, encoder, dataset, latent_dim)\n",
    "            pass\n",
    "    # save the generator model\n",
    "    g_model.save('vaegenerator_model_96_final.h5')\n"
   ]
  },
  {
   "cell_type": "code",
   "execution_count": 44,
   "metadata": {},
   "outputs": [
    {
     "data": {
      "image/png": "[encoded data removed]",
      "text/plain": [
       "<IPython.core.display.Image object>"
      ]
     },
     "execution_count": 44,
     "metadata": {},
     "output_type": "execute_result"
    }
   ],
   "source": [
    "generator, discriminator, gan_model, encoder = build_vaegan(input_shape, latent_dim=100)\n",
    "dot_img_file = '/VAEGAN.png'\n",
    "tf.keras.utils.plot_model(gan_model, to_file=dot_img_file, show_shapes=True)"
   ]
  },
  {
   "cell_type": "code",
   "execution_count": 46,
   "metadata": {},
   "outputs": [
    {
     "name": "stdout",
     "output_type": "stream",
     "text": [
      ">1, 1/433, d=0.630, g=0.875\n",
      ">1, 11/433, d=0.582, g=0.927\n",
      ">1, 21/433, d=0.526, g=0.892\n",
      ">1, 31/433, d=0.432, g=0.823\n",
      ">1, 41/433, d=0.350, g=0.556\n",
      ">1, 51/433, d=0.238, g=0.354\n",
      ">1, 61/433, d=0.721, g=0.400\n",
      ">1, 71/433, d=0.100, g=0.114\n",
      ">1, 81/433, d=0.088, g=0.092\n",
      ">1, 91/433, d=0.051, g=0.049\n",
      ">1, 101/433, d=0.051, g=0.043\n",
      ">1, 111/433, d=0.032, g=0.029\n",
      ">1, 121/433, d=0.043, g=0.025\n",
      ">1, 131/433, d=0.032, g=0.026\n",
      ">1, 141/433, d=0.015, g=0.013\n",
      ">1, 151/433, d=0.022, g=0.023\n",
      ">1, 161/433, d=0.016, g=0.012\n",
      ">1, 171/433, d=0.010, g=0.010\n",
      ">1, 181/433, d=0.014, g=0.010\n",
      ">1, 191/433, d=0.009, g=0.010\n",
      ">1, 201/433, d=0.017, g=0.013\n",
      ">1, 211/433, d=0.022, g=0.011\n",
      ">1, 221/433, d=0.011, g=0.014\n",
      ">1, 231/433, d=0.005, g=0.005\n"
     ]
    },
    {
     "ename": "ValueError",
     "evalue": "Data cardinality is ambiguous:\n  x sizes: 57, 57\n  y sizes: 64\nMake sure all arrays contain the same number of samples.",
     "output_type": "error",
     "traceback": [
      "\u001b[1;31m---------------------------------------------------------------------------\u001b[0m",
      "\u001b[1;31mValueError\u001b[0m                                Traceback (most recent call last)",
      "\u001b[1;32md:\\GAN_poke\\VAEGAN.ipynb Cell 20\u001b[0m in \u001b[0;36m4\n\u001b[0;32m      <a href='vscode-notebook-cell:/d%3A/GAN_poke/VAEGAN.ipynb#X25sZmlsZQ%3D%3D?line=1'>2</a>\u001b[0m latent_dim \u001b[39m=\u001b[39m \u001b[39m100\u001b[39m\n\u001b[0;32m      <a href='vscode-notebook-cell:/d%3A/GAN_poke/VAEGAN.ipynb#X25sZmlsZQ%3D%3D?line=2'>3</a>\u001b[0m \u001b[39m# train model\u001b[39;00m\n\u001b[1;32m----> <a href='vscode-notebook-cell:/d%3A/GAN_poke/VAEGAN.ipynb#X25sZmlsZQ%3D%3D?line=3'>4</a>\u001b[0m train(generator, discriminator, encoder, gan_model, train_ds, latent_dim, n_epochs\u001b[39m=\u001b[39;49m\u001b[39m11\u001b[39;49m, resume_training\u001b[39m=\u001b[39;49m\u001b[39m0\u001b[39;49m)\n",
      "\u001b[1;32md:\\GAN_poke\\VAEGAN.ipynb Cell 20\u001b[0m in \u001b[0;36m1\n\u001b[0;32m     <a href='vscode-notebook-cell:/d%3A/GAN_poke/VAEGAN.ipynb#X25sZmlsZQ%3D%3D?line=15'>16</a>\u001b[0m X, encoded, y_class \u001b[39m=\u001b[39m tf\u001b[39m.\u001b[39mconcat([X_real_decoded, X_fake], axis\u001b[39m=\u001b[39m\u001b[39m0\u001b[39m), tf\u001b[39m.\u001b[39mconcat([encoded_real, noise_input], axis\u001b[39m=\u001b[39m\u001b[39m0\u001b[39m), tf\u001b[39m.\u001b[39mconcat([y_real_class, y_fake_class], axis\u001b[39m=\u001b[39m\u001b[39m0\u001b[39m)\n\u001b[0;32m     <a href='vscode-notebook-cell:/d%3A/GAN_poke/VAEGAN.ipynb#X25sZmlsZQ%3D%3D?line=16'>17</a>\u001b[0m \u001b[39m# update discriminator model weights\u001b[39;00m\n\u001b[1;32m---> <a href='vscode-notebook-cell:/d%3A/GAN_poke/VAEGAN.ipynb#X25sZmlsZQ%3D%3D?line=17'>18</a>\u001b[0m d_loss, _ \u001b[39m=\u001b[39m d_model\u001b[39m.\u001b[39;49mtrain_on_batch([X, encoded], y_class)\n\u001b[0;32m     <a href='vscode-notebook-cell:/d%3A/GAN_poke/VAEGAN.ipynb#X25sZmlsZQ%3D%3D?line=18'>19</a>\u001b[0m \u001b[39m# prepare points in latent space as input for the generator\u001b[39;00m\n\u001b[0;32m     <a href='vscode-notebook-cell:/d%3A/GAN_poke/VAEGAN.ipynb#X25sZmlsZQ%3D%3D?line=19'>20</a>\u001b[0m X_gan, _, _ \u001b[39m=\u001b[39m generate_fake_samples(g_model, latent_dim, half_batch)\n",
      "File \u001b[1;32mc:\\Users\\valen\\AppData\\Local\\Programs\\Python\\Python310\\lib\\site-packages\\keras\\engine\\training.py:2377\u001b[0m, in \u001b[0;36mModel.train_on_batch\u001b[1;34m(self, x, y, sample_weight, class_weight, reset_metrics, return_dict)\u001b[0m\n\u001b[0;32m   2373\u001b[0m     \u001b[39mself\u001b[39m\u001b[39m.\u001b[39mreset_metrics()\n\u001b[0;32m   2374\u001b[0m \u001b[39mwith\u001b[39;00m \u001b[39mself\u001b[39m\u001b[39m.\u001b[39mdistribute_strategy\u001b[39m.\u001b[39mscope(), training_utils\u001b[39m.\u001b[39mRespectCompiledTrainableState(  \u001b[39m# noqa: E501\u001b[39;00m\n\u001b[0;32m   2375\u001b[0m     \u001b[39mself\u001b[39m\n\u001b[0;32m   2376\u001b[0m ):\n\u001b[1;32m-> 2377\u001b[0m     iterator \u001b[39m=\u001b[39m data_adapter\u001b[39m.\u001b[39;49msingle_batch_iterator(\n\u001b[0;32m   2378\u001b[0m         \u001b[39mself\u001b[39;49m\u001b[39m.\u001b[39;49mdistribute_strategy, x, y, sample_weight, class_weight\n\u001b[0;32m   2379\u001b[0m     )\n\u001b[0;32m   2380\u001b[0m     \u001b[39mself\u001b[39m\u001b[39m.\u001b[39mtrain_function \u001b[39m=\u001b[39m \u001b[39mself\u001b[39m\u001b[39m.\u001b[39mmake_train_function()\n\u001b[0;32m   2381\u001b[0m     logs \u001b[39m=\u001b[39m \u001b[39mself\u001b[39m\u001b[39m.\u001b[39mtrain_function(iterator)\n",
      "File \u001b[1;32mc:\\Users\\valen\\AppData\\Local\\Programs\\Python\\Python310\\lib\\site-packages\\keras\\engine\\data_adapter.py:1831\u001b[0m, in \u001b[0;36msingle_batch_iterator\u001b[1;34m(strategy, x, y, sample_weight, class_weight)\u001b[0m\n\u001b[0;32m   1828\u001b[0m \u001b[39melse\u001b[39;00m:\n\u001b[0;32m   1829\u001b[0m     data \u001b[39m=\u001b[39m (x, y, sample_weight)\n\u001b[1;32m-> 1831\u001b[0m _check_data_cardinality(data)\n\u001b[0;32m   1832\u001b[0m dataset \u001b[39m=\u001b[39m tf\u001b[39m.\u001b[39mdata\u001b[39m.\u001b[39mDataset\u001b[39m.\u001b[39mfrom_tensors(data)\n\u001b[0;32m   1833\u001b[0m \u001b[39mif\u001b[39;00m class_weight:\n",
      "File \u001b[1;32mc:\\Users\\valen\\AppData\\Local\\Programs\\Python\\Python310\\lib\\site-packages\\keras\\engine\\data_adapter.py:1851\u001b[0m, in \u001b[0;36m_check_data_cardinality\u001b[1;34m(data)\u001b[0m\n\u001b[0;32m   1844\u001b[0m     msg \u001b[39m+\u001b[39m\u001b[39m=\u001b[39m \u001b[39m\"\u001b[39m\u001b[39m  \u001b[39m\u001b[39m{}\u001b[39;00m\u001b[39m sizes: \u001b[39m\u001b[39m{}\u001b[39;00m\u001b[39m\\n\u001b[39;00m\u001b[39m\"\u001b[39m\u001b[39m.\u001b[39mformat(\n\u001b[0;32m   1845\u001b[0m         label,\n\u001b[0;32m   1846\u001b[0m         \u001b[39m\"\u001b[39m\u001b[39m, \u001b[39m\u001b[39m\"\u001b[39m\u001b[39m.\u001b[39mjoin(\n\u001b[0;32m   1847\u001b[0m             \u001b[39mstr\u001b[39m(i\u001b[39m.\u001b[39mshape[\u001b[39m0\u001b[39m]) \u001b[39mfor\u001b[39;00m i \u001b[39min\u001b[39;00m tf\u001b[39m.\u001b[39mnest\u001b[39m.\u001b[39mflatten(single_data)\n\u001b[0;32m   1848\u001b[0m         ),\n\u001b[0;32m   1849\u001b[0m     )\n\u001b[0;32m   1850\u001b[0m msg \u001b[39m+\u001b[39m\u001b[39m=\u001b[39m \u001b[39m\"\u001b[39m\u001b[39mMake sure all arrays contain the same number of samples.\u001b[39m\u001b[39m\"\u001b[39m\n\u001b[1;32m-> 1851\u001b[0m \u001b[39mraise\u001b[39;00m \u001b[39mValueError\u001b[39;00m(msg)\n",
      "\u001b[1;31mValueError\u001b[0m: Data cardinality is ambiguous:\n  x sizes: 57, 57\n  y sizes: 64\nMake sure all arrays contain the same number of samples."
     ]
    }
   ],
   "source": [
    "# size of the latent space\n",
    "latent_dim = 100\n",
    "# train model\n",
    "train(generator, discriminator, encoder, gan_model, train_ds, latent_dim, n_epochs=11, resume_training=0)"
   ]
  },
  {
   "attachments": {},
   "cell_type": "markdown",
   "metadata": {},
   "source": [
    "test"
   ]
  },
  {
   "cell_type": "code",
   "execution_count": 17,
   "metadata": {},
   "outputs": [
    {
     "name": "stdout",
     "output_type": "stream",
     "text": [
      "WARNING:tensorflow:No training configuration found in the save file, so the model was *not* compiled. Compile it manually.\n",
      "WARNING:tensorflow:Error in loading the saved optimizer state. As a result, your model is starting with a freshly initialized optimizer.\n"
     ]
    }
   ],
   "source": [
    "generator = tf.keras.models.load_model('cgenerator_model_64_e131.h5')\n",
    "discriminator = tf.keras.models.load_model('cdiscriminator_model_64.h5')"
   ]
  },
  {
   "cell_type": "code",
   "execution_count": 492,
   "metadata": {},
   "outputs": [
    {
     "data": {
      "application/vnd.plotly.v1+json": {
       "config": {
        "plotlyServerURL": "https://plot.ly"
       },
       "data": [
        {
         "hovertemplate": "x: %{x}<br>y: %{y}<extra></extra>",
         "name": "0",
         "source": "data:image/png;base64,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",
         "type": "image",
         "xaxis": "x",
         "yaxis": "y"
        }
       ],
       "layout": {
        "annotations": [
         {
          "align": "left",
          "bgcolor": "#ff7f0e",
          "bordercolor": "#c7c7c7",
          "borderpad": 2,
          "borderwidth": 1,
          "font": {
           "color": "#ffffff",
           "family": "Courier New, monospace",
           "size": 12
          },
          "opacity": 0.8,
          "showarrow": false,
          "text": "real: 0%",
          "x": 1,
          "xref": "paper",
          "y": 1,
          "yref": "paper"
         }
        ],
        "height": 350,
        "images": [
         {
          "layer": "below",
          "sizex": 0.3,
          "sizey": 0.3,
          "source": "images/final/real/1.png",
          "x": 1,
          "xref": "paper",
          "y": 1.1,
          "yref": "paper"
         }
        ],
        "margin": {
         "l": 0,
         "t": 60
        },
        "shapes": [
         {
          "line": {
           "color": "black",
           "width": 2
          },
          "type": "rect",
          "x0": 0,
          "x1": 96,
          "xref": "x",
          "y0": 0,
          "y1": 96,
          "yref": "y"
         }
        ],
        "template": {
         "data": {
          "bar": [
           {
            "error_x": {
             "color": "#2a3f5f"
            },
            "error_y": {
             "color": "#2a3f5f"
            },
            "marker": {
             "line": {
              "color": "#E5ECF6",
              "width": 0.5
             },
             "pattern": {
              "fillmode": "overlay",
              "size": 10,
              "solidity": 0.2
             }
            },
            "type": "bar"
           }
          ],
          "barpolar": [
           {
            "marker": {
             "line": {
              "color": "#E5ECF6",
              "width": 0.5
             },
             "pattern": {
              "fillmode": "overlay",
              "size": 10,
              "solidity": 0.2
             }
            },
            "type": "barpolar"
           }
          ],
          "carpet": [
           {
            "aaxis": {
             "endlinecolor": "#2a3f5f",
             "gridcolor": "white",
             "linecolor": "white",
             "minorgridcolor": "white",
             "startlinecolor": "#2a3f5f"
            },
            "baxis": {
             "endlinecolor": "#2a3f5f",
             "gridcolor": "white",
             "linecolor": "white",
             "minorgridcolor": "white",
             "startlinecolor": "#2a3f5f"
            },
            "type": "carpet"
           }
          ],
          "choropleth": [
           {
            "colorbar": {
             "outlinewidth": 0,
             "ticks": ""
            },
            "type": "choropleth"
           }
          ],
          "contour": [
           {
            "colorbar": {
             "outlinewidth": 0,
             "ticks": ""
            },
            "colorscale": [
             [
              0,
              "#0d0887"
             ],
             [
              0.1111111111111111,
              "#46039f"
             ],
             [
              0.2222222222222222,
              "#7201a8"
             ],
             [
              0.3333333333333333,
              "#9c179e"
             ],
             [
              0.4444444444444444,
              "#bd3786"
             ],
             [
              0.5555555555555556,
              "#d8576b"
             ],
             [
              0.6666666666666666,
              "#ed7953"
             ],
             [
              0.7777777777777778,
              "#fb9f3a"
             ],
             [
              0.8888888888888888,
              "#fdca26"
             ],
             [
              1,
              "#f0f921"
             ]
            ],
            "type": "contour"
           }
          ],
          "contourcarpet": [
           {
            "colorbar": {
             "outlinewidth": 0,
             "ticks": ""
            },
            "type": "contourcarpet"
           }
          ],
          "heatmap": [
           {
            "colorbar": {
             "outlinewidth": 0,
             "ticks": ""
            },
            "colorscale": [
             [
              0,
              "#0d0887"
             ],
             [
              0.1111111111111111,
              "#46039f"
             ],
             [
              0.2222222222222222,
              "#7201a8"
             ],
             [
              0.3333333333333333,
              "#9c179e"
             ],
             [
              0.4444444444444444,
              "#bd3786"
             ],
             [
              0.5555555555555556,
              "#d8576b"
             ],
             [
              0.6666666666666666,
              "#ed7953"
             ],
             [
              0.7777777777777778,
              "#fb9f3a"
             ],
             [
              0.8888888888888888,
              "#fdca26"
             ],
             [
              1,
              "#f0f921"
             ]
            ],
            "type": "heatmap"
           }
          ],
          "heatmapgl": [
           {
            "colorbar": {
             "outlinewidth": 0,
             "ticks": ""
            },
            "colorscale": [
             [
              0,
              "#0d0887"
             ],
             [
              0.1111111111111111,
              "#46039f"
             ],
             [
              0.2222222222222222,
              "#7201a8"
             ],
             [
              0.3333333333333333,
              "#9c179e"
             ],
             [
              0.4444444444444444,
              "#bd3786"
             ],
             [
              0.5555555555555556,
              "#d8576b"
             ],
             [
              0.6666666666666666,
              "#ed7953"
             ],
             [
              0.7777777777777778,
              "#fb9f3a"
             ],
             [
              0.8888888888888888,
              "#fdca26"
             ],
             [
              1,
              "#f0f921"
             ]
            ],
            "type": "heatmapgl"
           }
          ],
          "histogram": [
           {
            "marker": {
             "pattern": {
              "fillmode": "overlay",
              "size": 10,
              "solidity": 0.2
             }
            },
            "type": "histogram"
           }
          ],
          "histogram2d": [
           {
            "colorbar": {
             "outlinewidth": 0,
             "ticks": ""
            },
            "colorscale": [
             [
              0,
              "#0d0887"
             ],
             [
              0.1111111111111111,
              "#46039f"
             ],
             [
              0.2222222222222222,
              "#7201a8"
             ],
             [
              0.3333333333333333,
              "#9c179e"
             ],
             [
              0.4444444444444444,
              "#bd3786"
             ],
             [
              0.5555555555555556,
              "#d8576b"
             ],
             [
              0.6666666666666666,
              "#ed7953"
             ],
             [
              0.7777777777777778,
              "#fb9f3a"
             ],
             [
              0.8888888888888888,
              "#fdca26"
             ],
             [
              1,
              "#f0f921"
             ]
            ],
            "type": "histogram2d"
           }
          ],
          "histogram2dcontour": [
           {
            "colorbar": {
             "outlinewidth": 0,
             "ticks": ""
            },
            "colorscale": [
             [
              0,
              "#0d0887"
             ],
             [
              0.1111111111111111,
              "#46039f"
             ],
             [
              0.2222222222222222,
              "#7201a8"
             ],
             [
              0.3333333333333333,
              "#9c179e"
             ],
             [
              0.4444444444444444,
              "#bd3786"
             ],
             [
              0.5555555555555556,
              "#d8576b"
             ],
             [
              0.6666666666666666,
              "#ed7953"
             ],
             [
              0.7777777777777778,
              "#fb9f3a"
             ],
             [
              0.8888888888888888,
              "#fdca26"
             ],
             [
              1,
              "#f0f921"
             ]
            ],
            "type": "histogram2dcontour"
           }
          ],
          "mesh3d": [
           {
            "colorbar": {
             "outlinewidth": 0,
             "ticks": ""
            },
            "type": "mesh3d"
           }
          ],
          "parcoords": [
           {
            "line": {
             "colorbar": {
              "outlinewidth": 0,
              "ticks": ""
             }
            },
            "type": "parcoords"
           }
          ],
          "pie": [
           {
            "automargin": true,
            "type": "pie"
           }
          ],
          "scatter": [
           {
            "fillpattern": {
             "fillmode": "overlay",
             "size": 10,
             "solidity": 0.2
            },
            "type": "scatter"
           }
          ],
          "scatter3d": [
           {
            "line": {
             "colorbar": {
              "outlinewidth": 0,
              "ticks": ""
             }
            },
            "marker": {
             "colorbar": {
              "outlinewidth": 0,
              "ticks": ""
             }
            },
            "type": "scatter3d"
           }
          ],
          "scattercarpet": [
           {
            "marker": {
             "colorbar": {
              "outlinewidth": 0,
              "ticks": ""
             }
            },
            "type": "scattercarpet"
           }
          ],
          "scattergeo": [
           {
            "marker": {
             "colorbar": {
              "outlinewidth": 0,
              "ticks": ""
             }
            },
            "type": "scattergeo"
           }
          ],
          "scattergl": [
           {
            "marker": {
             "colorbar": {
              "outlinewidth": 0,
              "ticks": ""
             }
            },
            "type": "scattergl"
           }
          ],
          "scattermapbox": [
           {
            "marker": {
             "colorbar": {
              "outlinewidth": 0,
              "ticks": ""
             }
            },
            "type": "scattermapbox"
           }
          ],
          "scatterpolar": [
           {
            "marker": {
             "colorbar": {
              "outlinewidth": 0,
              "ticks": ""
             }
            },
            "type": "scatterpolar"
           }
          ],
          "scatterpolargl": [
           {
            "marker": {
             "colorbar": {
              "outlinewidth": 0,
              "ticks": ""
             }
            },
            "type": "scatterpolargl"
           }
          ],
          "scatterternary": [
           {
            "marker": {
             "colorbar": {
              "outlinewidth": 0,
              "ticks": ""
             }
            },
            "type": "scatterternary"
           }
          ],
          "surface": [
           {
            "colorbar": {
             "outlinewidth": 0,
             "ticks": ""
            },
            "colorscale": [
             [
              0,
              "#0d0887"
             ],
             [
              0.1111111111111111,
              "#46039f"
             ],
             [
              0.2222222222222222,
              "#7201a8"
             ],
             [
              0.3333333333333333,
              "#9c179e"
             ],
             [
              0.4444444444444444,
              "#bd3786"
             ],
             [
              0.5555555555555556,
              "#d8576b"
             ],
             [
              0.6666666666666666,
              "#ed7953"
             ],
             [
              0.7777777777777778,
              "#fb9f3a"
             ],
             [
              0.8888888888888888,
              "#fdca26"
             ],
             [
              1,
              "#f0f921"
             ]
            ],
            "type": "surface"
           }
          ],
          "table": [
           {
            "cells": {
             "fill": {
              "color": "#EBF0F8"
             },
             "line": {
              "color": "white"
             }
            },
            "header": {
             "fill": {
              "color": "#C8D4E3"
             },
             "line": {
              "color": "white"
             }
            },
            "type": "table"
           }
          ]
         },
         "layout": {
          "annotationdefaults": {
           "arrowcolor": "#2a3f5f",
           "arrowhead": 0,
           "arrowwidth": 1
          },
          "autotypenumbers": "strict",
          "coloraxis": {
           "colorbar": {
            "outlinewidth": 0,
            "ticks": ""
           }
          },
          "colorscale": {
           "diverging": [
            [
             0,
             "#8e0152"
            ],
            [
             0.1,
             "#c51b7d"
            ],
            [
             0.2,
             "#de77ae"
            ],
            [
             0.3,
             "#f1b6da"
            ],
            [
             0.4,
             "#fde0ef"
            ],
            [
             0.5,
             "#f7f7f7"
            ],
            [
             0.6,
             "#e6f5d0"
            ],
            [
             0.7,
             "#b8e186"
            ],
            [
             0.8,
             "#7fbc41"
            ],
            [
             0.9,
             "#4d9221"
            ],
            [
             1,
             "#276419"
            ]
           ],
           "sequential": [
            [
             0,
             "#0d0887"
            ],
            [
             0.1111111111111111,
             "#46039f"
            ],
            [
             0.2222222222222222,
             "#7201a8"
            ],
            [
             0.3333333333333333,
             "#9c179e"
            ],
            [
             0.4444444444444444,
             "#bd3786"
            ],
            [
             0.5555555555555556,
             "#d8576b"
            ],
            [
             0.6666666666666666,
             "#ed7953"
            ],
            [
             0.7777777777777778,
             "#fb9f3a"
            ],
            [
             0.8888888888888888,
             "#fdca26"
            ],
            [
             1,
             "#f0f921"
            ]
           ],
           "sequentialminus": [
            [
             0,
             "#0d0887"
            ],
            [
             0.1111111111111111,
             "#46039f"
            ],
            [
             0.2222222222222222,
             "#7201a8"
            ],
            [
             0.3333333333333333,
             "#9c179e"
            ],
            [
             0.4444444444444444,
             "#bd3786"
            ],
            [
             0.5555555555555556,
             "#d8576b"
            ],
            [
             0.6666666666666666,
             "#ed7953"
            ],
            [
             0.7777777777777778,
             "#fb9f3a"
            ],
            [
             0.8888888888888888,
             "#fdca26"
            ],
            [
             1,
             "#f0f921"
            ]
           ]
          },
          "colorway": [
           "#636efa",
           "#EF553B",
           "#00cc96",
           "#ab63fa",
           "#FFA15A",
           "#19d3f3",
           "#FF6692",
           "#B6E880",
           "#FF97FF",
           "#FECB52"
          ],
          "font": {
           "color": "#2a3f5f"
          },
          "geo": {
           "bgcolor": "white",
           "lakecolor": "white",
           "landcolor": "#E5ECF6",
           "showlakes": true,
           "showland": true,
           "subunitcolor": "white"
          },
          "hoverlabel": {
           "align": "left"
          },
          "hovermode": "closest",
          "mapbox": {
           "style": "light"
          },
          "paper_bgcolor": "white",
          "plot_bgcolor": "#E5ECF6",
          "polar": {
           "angularaxis": {
            "gridcolor": "white",
            "linecolor": "white",
            "ticks": ""
           },
           "bgcolor": "#E5ECF6",
           "radialaxis": {
            "gridcolor": "white",
            "linecolor": "white",
            "ticks": ""
           }
          },
          "scene": {
           "xaxis": {
            "backgroundcolor": "#E5ECF6",
            "gridcolor": "white",
            "gridwidth": 2,
            "linecolor": "white",
            "showbackground": true,
            "ticks": "",
            "zerolinecolor": "white"
           },
           "yaxis": {
            "backgroundcolor": "#E5ECF6",
            "gridcolor": "white",
            "gridwidth": 2,
            "linecolor": "white",
            "showbackground": true,
            "ticks": "",
            "zerolinecolor": "white"
           },
           "zaxis": {
            "backgroundcolor": "#E5ECF6",
            "gridcolor": "white",
            "gridwidth": 2,
            "linecolor": "white",
            "showbackground": true,
            "ticks": "",
            "zerolinecolor": "white"
           }
          },
          "shapedefaults": {
           "line": {
            "color": "#2a3f5f"
           }
          },
          "ternary": {
           "aaxis": {
            "gridcolor": "white",
            "linecolor": "white",
            "ticks": ""
           },
           "baxis": {
            "gridcolor": "white",
            "linecolor": "white",
            "ticks": ""
           },
           "bgcolor": "#E5ECF6",
           "caxis": {
            "gridcolor": "white",
            "linecolor": "white",
            "ticks": ""
           }
          },
          "title": {
           "x": 0.05
          },
          "xaxis": {
           "automargin": true,
           "gridcolor": "white",
           "linecolor": "white",
           "ticks": "",
           "title": {
            "standoff": 15
           },
           "zerolinecolor": "white",
           "zerolinewidth": 2
          },
          "yaxis": {
           "automargin": true,
           "gridcolor": "white",
           "linecolor": "white",
           "ticks": "",
           "title": {
            "standoff": 15
           },
           "zerolinecolor": "white",
           "zerolinewidth": 2
          }
         }
        },
        "title": {
         "text": "Label: image générée"
        },
        "width": 500,
        "xaxis": {
         "anchor": "y",
         "domain": [
          0,
          1
         ],
         "showgrid": false,
         "showticklabels": false,
         "visible": false,
         "zeroline": false
        },
        "yaxis": {
         "anchor": "x",
         "domain": [
          0,
          1
         ],
         "showgrid": false,
         "showticklabels": false,
         "visible": false,
         "zeroline": false
        }
       }
      }
     },
     "metadata": {},
     "output_type": "display_data"
    }
   ],
   "source": [
    "X = generator.predict([generate_latent_points(100, 1), types_to_vector('Ghost', 'Fighting')], verbose=0)\n",
    "plot_image(X[0], \"image générée\", {\"real\": discriminator.predict([X, types_to_vector('Ghost', 'Fighting')], verbose=0)[0][0]}, 96)"
   ]
  },
  {
   "cell_type": "code",
   "execution_count": null,
   "metadata": {},
   "outputs": [],
   "source": [
    "X = generator.predict([generate_latent_points(100, 1), np.array([[1., 1., 1., 1., 1., 1., 1., 1., 1., 1., 1., 1., 1., 1., 1., 1., 1., 1.]])], verbose=0)\n",
    "plot_image(X[0], \"image générée\", {\"real\": discriminator.predict([X, np.array([[1., 1., 1., 1., 1., 1., 1., 1., 1., 1., 1., 1., 1., 1., 1., 1., 1., 1.]])], verbose=0)[0][0]}, 96)"
   ]
  },
  {
   "cell_type": "code",
   "execution_count": 91,
   "metadata": {},
   "outputs": [],
   "source": [
    "# test image with random noise between -1 and 1\n",
    "test_image_noise = tf.random.uniform(shape=(1, 96, 96, 3), minval=-1, maxval=1)"
   ]
  },
  {
   "cell_type": "code",
   "execution_count": 94,
   "metadata": {},
   "outputs": [
    {
     "data": {
      "application/vnd.plotly.v1+json": {
       "config": {
        "plotlyServerURL": "https://plot.ly"
       },
       "data": [
        {
         "hovertemplate": "x: %{x}<br>y: %{y}<extra></extra>",
         "name": "0",
         "source": "data:image/png;base64,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",
         "type": "image",
         "xaxis": "x",
         "yaxis": "y"
        }
       ],
       "layout": {
        "annotations": [
         {
          "align": "left",
          "bgcolor": "#ff7f0e",
          "bordercolor": "#c7c7c7",
          "borderpad": 2,
          "borderwidth": 1,
          "font": {
           "color": "#ffffff",
           "family": "Courier New, monospace",
           "size": 12
          },
          "opacity": 0.8,
          "showarrow": false,
          "text": "real: 0%",
          "x": 1,
          "xref": "paper",
          "y": 1,
          "yref": "paper"
         }
        ],
        "height": 350,
        "images": [
         {
          "layer": "below",
          "sizex": 0.3,
          "sizey": 0.3,
          "source": "images/final/real/1.png",
          "x": 1,
          "xref": "paper",
          "y": 1.1,
          "yref": "paper"
         }
        ],
        "margin": {
         "l": 0,
         "t": 60
        },
        "shapes": [
         {
          "line": {
           "color": "black",
           "width": 2
          },
          "type": "rect",
          "x0": 0,
          "x1": 96,
          "xref": "x",
          "y0": 0,
          "y1": 96,
          "yref": "y"
         }
        ],
        "template": {
         "data": {
          "bar": [
           {
            "error_x": {
             "color": "#2a3f5f"
            },
            "error_y": {
             "color": "#2a3f5f"
            },
            "marker": {
             "line": {
              "color": "#E5ECF6",
              "width": 0.5
             },
             "pattern": {
              "fillmode": "overlay",
              "size": 10,
              "solidity": 0.2
             }
            },
            "type": "bar"
           }
          ],
          "barpolar": [
           {
            "marker": {
             "line": {
              "color": "#E5ECF6",
              "width": 0.5
             },
             "pattern": {
              "fillmode": "overlay",
              "size": 10,
              "solidity": 0.2
             }
            },
            "type": "barpolar"
           }
          ],
          "carpet": [
           {
            "aaxis": {
             "endlinecolor": "#2a3f5f",
             "gridcolor": "white",
             "linecolor": "white",
             "minorgridcolor": "white",
             "startlinecolor": "#2a3f5f"
            },
            "baxis": {
             "endlinecolor": "#2a3f5f",
             "gridcolor": "white",
             "linecolor": "white",
             "minorgridcolor": "white",
             "startlinecolor": "#2a3f5f"
            },
            "type": "carpet"
           }
          ],
          "choropleth": [
           {
            "colorbar": {
             "outlinewidth": 0,
             "ticks": ""
            },
            "type": "choropleth"
           }
          ],
          "contour": [
           {
            "colorbar": {
             "outlinewidth": 0,
             "ticks": ""
            },
            "colorscale": [
             [
              0,
              "#0d0887"
             ],
             [
              0.1111111111111111,
              "#46039f"
             ],
             [
              0.2222222222222222,
              "#7201a8"
             ],
             [
              0.3333333333333333,
              "#9c179e"
             ],
             [
              0.4444444444444444,
              "#bd3786"
             ],
             [
              0.5555555555555556,
              "#d8576b"
             ],
             [
              0.6666666666666666,
              "#ed7953"
             ],
             [
              0.7777777777777778,
              "#fb9f3a"
             ],
             [
              0.8888888888888888,
              "#fdca26"
             ],
             [
              1,
              "#f0f921"
             ]
            ],
            "type": "contour"
           }
          ],
          "contourcarpet": [
           {
            "colorbar": {
             "outlinewidth": 0,
             "ticks": ""
            },
            "type": "contourcarpet"
           }
          ],
          "heatmap": [
           {
            "colorbar": {
             "outlinewidth": 0,
             "ticks": ""
            },
            "colorscale": [
             [
              0,
              "#0d0887"
             ],
             [
              0.1111111111111111,
              "#46039f"
             ],
             [
              0.2222222222222222,
              "#7201a8"
             ],
             [
              0.3333333333333333,
              "#9c179e"
             ],
             [
              0.4444444444444444,
              "#bd3786"
             ],
             [
              0.5555555555555556,
              "#d8576b"
             ],
             [
              0.6666666666666666,
              "#ed7953"
             ],
             [
              0.7777777777777778,
              "#fb9f3a"
             ],
             [
              0.8888888888888888,
              "#fdca26"
             ],
             [
              1,
              "#f0f921"
             ]
            ],
            "type": "heatmap"
           }
          ],
          "heatmapgl": [
           {
            "colorbar": {
             "outlinewidth": 0,
             "ticks": ""
            },
            "colorscale": [
             [
              0,
              "#0d0887"
             ],
             [
              0.1111111111111111,
              "#46039f"
             ],
             [
              0.2222222222222222,
              "#7201a8"
             ],
             [
              0.3333333333333333,
              "#9c179e"
             ],
             [
              0.4444444444444444,
              "#bd3786"
             ],
             [
              0.5555555555555556,
              "#d8576b"
             ],
             [
              0.6666666666666666,
              "#ed7953"
             ],
             [
              0.7777777777777778,
              "#fb9f3a"
             ],
             [
              0.8888888888888888,
              "#fdca26"
             ],
             [
              1,
              "#f0f921"
             ]
            ],
            "type": "heatmapgl"
           }
          ],
          "histogram": [
           {
            "marker": {
             "pattern": {
              "fillmode": "overlay",
              "size": 10,
              "solidity": 0.2
             }
            },
            "type": "histogram"
           }
          ],
          "histogram2d": [
           {
            "colorbar": {
             "outlinewidth": 0,
             "ticks": ""
            },
            "colorscale": [
             [
              0,
              "#0d0887"
             ],
             [
              0.1111111111111111,
              "#46039f"
             ],
             [
              0.2222222222222222,
              "#7201a8"
             ],
             [
              0.3333333333333333,
              "#9c179e"
             ],
             [
              0.4444444444444444,
              "#bd3786"
             ],
             [
              0.5555555555555556,
              "#d8576b"
             ],
             [
              0.6666666666666666,
              "#ed7953"
             ],
             [
              0.7777777777777778,
              "#fb9f3a"
             ],
             [
              0.8888888888888888,
              "#fdca26"
             ],
             [
              1,
              "#f0f921"
             ]
            ],
            "type": "histogram2d"
           }
          ],
          "histogram2dcontour": [
           {
            "colorbar": {
             "outlinewidth": 0,
             "ticks": ""
            },
            "colorscale": [
             [
              0,
              "#0d0887"
             ],
             [
              0.1111111111111111,
              "#46039f"
             ],
             [
              0.2222222222222222,
              "#7201a8"
             ],
             [
              0.3333333333333333,
              "#9c179e"
             ],
             [
              0.4444444444444444,
              "#bd3786"
             ],
             [
              0.5555555555555556,
              "#d8576b"
             ],
             [
              0.6666666666666666,
              "#ed7953"
             ],
             [
              0.7777777777777778,
              "#fb9f3a"
             ],
             [
              0.8888888888888888,
              "#fdca26"
             ],
             [
              1,
              "#f0f921"
             ]
            ],
            "type": "histogram2dcontour"
           }
          ],
          "mesh3d": [
           {
            "colorbar": {
             "outlinewidth": 0,
             "ticks": ""
            },
            "type": "mesh3d"
           }
          ],
          "parcoords": [
           {
            "line": {
             "colorbar": {
              "outlinewidth": 0,
              "ticks": ""
             }
            },
            "type": "parcoords"
           }
          ],
          "pie": [
           {
            "automargin": true,
            "type": "pie"
           }
          ],
          "scatter": [
           {
            "fillpattern": {
             "fillmode": "overlay",
             "size": 10,
             "solidity": 0.2
            },
            "type": "scatter"
           }
          ],
          "scatter3d": [
           {
            "line": {
             "colorbar": {
              "outlinewidth": 0,
              "ticks": ""
             }
            },
            "marker": {
             "colorbar": {
              "outlinewidth": 0,
              "ticks": ""
             }
            },
            "type": "scatter3d"
           }
          ],
          "scattercarpet": [
           {
            "marker": {
             "colorbar": {
              "outlinewidth": 0,
              "ticks": ""
             }
            },
            "type": "scattercarpet"
           }
          ],
          "scattergeo": [
           {
            "marker": {
             "colorbar": {
              "outlinewidth": 0,
              "ticks": ""
             }
            },
            "type": "scattergeo"
           }
          ],
          "scattergl": [
           {
            "marker": {
             "colorbar": {
              "outlinewidth": 0,
              "ticks": ""
             }
            },
            "type": "scattergl"
           }
          ],
          "scattermapbox": [
           {
            "marker": {
             "colorbar": {
              "outlinewidth": 0,
              "ticks": ""
             }
            },
            "type": "scattermapbox"
           }
          ],
          "scatterpolar": [
           {
            "marker": {
             "colorbar": {
              "outlinewidth": 0,
              "ticks": ""
             }
            },
            "type": "scatterpolar"
           }
          ],
          "scatterpolargl": [
           {
            "marker": {
             "colorbar": {
              "outlinewidth": 0,
              "ticks": ""
             }
            },
            "type": "scatterpolargl"
           }
          ],
          "scatterternary": [
           {
            "marker": {
             "colorbar": {
              "outlinewidth": 0,
              "ticks": ""
             }
            },
            "type": "scatterternary"
           }
          ],
          "surface": [
           {
            "colorbar": {
             "outlinewidth": 0,
             "ticks": ""
            },
            "colorscale": [
             [
              0,
              "#0d0887"
             ],
             [
              0.1111111111111111,
              "#46039f"
             ],
             [
              0.2222222222222222,
              "#7201a8"
             ],
             [
              0.3333333333333333,
              "#9c179e"
             ],
             [
              0.4444444444444444,
              "#bd3786"
             ],
             [
              0.5555555555555556,
              "#d8576b"
             ],
             [
              0.6666666666666666,
              "#ed7953"
             ],
             [
              0.7777777777777778,
              "#fb9f3a"
             ],
             [
              0.8888888888888888,
              "#fdca26"
             ],
             [
              1,
              "#f0f921"
             ]
            ],
            "type": "surface"
           }
          ],
          "table": [
           {
            "cells": {
             "fill": {
              "color": "#EBF0F8"
             },
             "line": {
              "color": "white"
             }
            },
            "header": {
             "fill": {
              "color": "#C8D4E3"
             },
             "line": {
              "color": "white"
             }
            },
            "type": "table"
           }
          ]
         },
         "layout": {
          "annotationdefaults": {
           "arrowcolor": "#2a3f5f",
           "arrowhead": 0,
           "arrowwidth": 1
          },
          "autotypenumbers": "strict",
          "coloraxis": {
           "colorbar": {
            "outlinewidth": 0,
            "ticks": ""
           }
          },
          "colorscale": {
           "diverging": [
            [
             0,
             "#8e0152"
            ],
            [
             0.1,
             "#c51b7d"
            ],
            [
             0.2,
             "#de77ae"
            ],
            [
             0.3,
             "#f1b6da"
            ],
            [
             0.4,
             "#fde0ef"
            ],
            [
             0.5,
             "#f7f7f7"
            ],
            [
             0.6,
             "#e6f5d0"
            ],
            [
             0.7,
             "#b8e186"
            ],
            [
             0.8,
             "#7fbc41"
            ],
            [
             0.9,
             "#4d9221"
            ],
            [
             1,
             "#276419"
            ]
           ],
           "sequential": [
            [
             0,
             "#0d0887"
            ],
            [
             0.1111111111111111,
             "#46039f"
            ],
            [
             0.2222222222222222,
             "#7201a8"
            ],
            [
             0.3333333333333333,
             "#9c179e"
            ],
            [
             0.4444444444444444,
             "#bd3786"
            ],
            [
             0.5555555555555556,
             "#d8576b"
            ],
            [
             0.6666666666666666,
             "#ed7953"
            ],
            [
             0.7777777777777778,
             "#fb9f3a"
            ],
            [
             0.8888888888888888,
             "#fdca26"
            ],
            [
             1,
             "#f0f921"
            ]
           ],
           "sequentialminus": [
            [
             0,
             "#0d0887"
            ],
            [
             0.1111111111111111,
             "#46039f"
            ],
            [
             0.2222222222222222,
             "#7201a8"
            ],
            [
             0.3333333333333333,
             "#9c179e"
            ],
            [
             0.4444444444444444,
             "#bd3786"
            ],
            [
             0.5555555555555556,
             "#d8576b"
            ],
            [
             0.6666666666666666,
             "#ed7953"
            ],
            [
             0.7777777777777778,
             "#fb9f3a"
            ],
            [
             0.8888888888888888,
             "#fdca26"
            ],
            [
             1,
             "#f0f921"
            ]
           ]
          },
          "colorway": [
           "#636efa",
           "#EF553B",
           "#00cc96",
           "#ab63fa",
           "#FFA15A",
           "#19d3f3",
           "#FF6692",
           "#B6E880",
           "#FF97FF",
           "#FECB52"
          ],
          "font": {
           "color": "#2a3f5f"
          },
          "geo": {
           "bgcolor": "white",
           "lakecolor": "white",
           "landcolor": "#E5ECF6",
           "showlakes": true,
           "showland": true,
           "subunitcolor": "white"
          },
          "hoverlabel": {
           "align": "left"
          },
          "hovermode": "closest",
          "mapbox": {
           "style": "light"
          },
          "paper_bgcolor": "white",
          "plot_bgcolor": "#E5ECF6",
          "polar": {
           "angularaxis": {
            "gridcolor": "white",
            "linecolor": "white",
            "ticks": ""
           },
           "bgcolor": "#E5ECF6",
           "radialaxis": {
            "gridcolor": "white",
            "linecolor": "white",
            "ticks": ""
           }
          },
          "scene": {
           "xaxis": {
            "backgroundcolor": "#E5ECF6",
            "gridcolor": "white",
            "gridwidth": 2,
            "linecolor": "white",
            "showbackground": true,
            "ticks": "",
            "zerolinecolor": "white"
           },
           "yaxis": {
            "backgroundcolor": "#E5ECF6",
            "gridcolor": "white",
            "gridwidth": 2,
            "linecolor": "white",
            "showbackground": true,
            "ticks": "",
            "zerolinecolor": "white"
           },
           "zaxis": {
            "backgroundcolor": "#E5ECF6",
            "gridcolor": "white",
            "gridwidth": 2,
            "linecolor": "white",
            "showbackground": true,
            "ticks": "",
            "zerolinecolor": "white"
           }
          },
          "shapedefaults": {
           "line": {
            "color": "#2a3f5f"
           }
          },
          "ternary": {
           "aaxis": {
            "gridcolor": "white",
            "linecolor": "white",
            "ticks": ""
           },
           "baxis": {
            "gridcolor": "white",
            "linecolor": "white",
            "ticks": ""
           },
           "bgcolor": "#E5ECF6",
           "caxis": {
            "gridcolor": "white",
            "linecolor": "white",
            "ticks": ""
           }
          },
          "title": {
           "x": 0.05
          },
          "xaxis": {
           "automargin": true,
           "gridcolor": "white",
           "linecolor": "white",
           "ticks": "",
           "title": {
            "standoff": 15
           },
           "zerolinecolor": "white",
           "zerolinewidth": 2
          },
          "yaxis": {
           "automargin": true,
           "gridcolor": "white",
           "linecolor": "white",
           "ticks": "",
           "title": {
            "standoff": 15
           },
           "zerolinecolor": "white",
           "zerolinewidth": 2
          }
         }
        },
        "title": {
         "text": "Label: image test"
        },
        "width": 500,
        "xaxis": {
         "anchor": "y",
         "domain": [
          0,
          1
         ],
         "showgrid": false,
         "showticklabels": false,
         "visible": false,
         "zeroline": false
        },
        "yaxis": {
         "anchor": "x",
         "domain": [
          0,
          1
         ],
         "showgrid": false,
         "showticklabels": false,
         "visible": false,
         "zeroline": false
        }
       }
      }
     },
     "metadata": {},
     "output_type": "display_data"
    }
   ],
   "source": [
    "plot_image(test_image_noise[0], \"image test\", {\"real\": discriminator.predict([test_image_noise, types_to_vector('Dark')], verbose=0)[0][0]}, 96)"
   ]
  },
  {
   "cell_type": "code",
   "execution_count": 84,
   "metadata": {},
   "outputs": [
    {
     "name": "stdout",
     "output_type": "stream",
     "text": [
      "(1, 96, 96, 3)\n"
     ]
    }
   ],
   "source": [
    "# load images/test/charmander.png to test\n",
    "test_image = tf.keras.preprocessing.image.load_img('images/test/charmander.png', color_mode='rgba', target_size=image_size)\n",
    "test_image = tf.keras.preprocessing.image.img_to_array(test_image)\n",
    "test_image = tf.expand_dims(test_image, axis=0)\n",
    "test_image = preprocess_image(test_image)\n",
    "print(test_image.shape)"
   ]
  },
  {
   "cell_type": "code",
   "execution_count": 192,
   "metadata": {},
   "outputs": [
    {
     "data": {
      "application/vnd.plotly.v1+json": {
       "config": {
        "plotlyServerURL": "https://plot.ly"
       },
       "data": [
        {
         "hovertemplate": "x: %{x}<br>y: %{y}<br>color: [%{z[0]}, %{z[1]}, %{z[2]}]<extra></extra>",
         "name": "0",
         "source": "data:image/png;base64,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",
         "type": "image",
         "xaxis": "x",
         "yaxis": "y"
        }
       ],
       "layout": {
        "annotations": [
         {
          "align": "left",
          "bgcolor": "#ff7f0e",
          "bordercolor": "#c7c7c7",
          "borderpad": 2,
          "borderwidth": 1,
          "font": {
           "color": "#ffffff",
           "family": "Courier New, monospace",
           "size": 12
          },
          "opacity": 0.8,
          "showarrow": false,
          "text": "real: 100%",
          "x": 1,
          "xref": "paper",
          "y": 1,
          "yref": "paper"
         }
        ],
        "height": 350,
        "images": [
         {
          "layer": "below",
          "sizex": 0.3,
          "sizey": 0.3,
          "source": "images/final/real/1.png",
          "x": 1,
          "xref": "paper",
          "y": 1.1,
          "yref": "paper"
         }
        ],
        "margin": {
         "l": 0,
         "t": 60
        },
        "shapes": [
         {
          "line": {
           "color": "black",
           "width": 2
          },
          "type": "rect",
          "x0": 0,
          "x1": 96,
          "xref": "x",
          "y0": 0,
          "y1": 96,
          "yref": "y"
         }
        ],
        "template": {
         "data": {
          "bar": [
           {
            "error_x": {
             "color": "#2a3f5f"
            },
            "error_y": {
             "color": "#2a3f5f"
            },
            "marker": {
             "line": {
              "color": "#E5ECF6",
              "width": 0.5
             },
             "pattern": {
              "fillmode": "overlay",
              "size": 10,
              "solidity": 0.2
             }
            },
            "type": "bar"
           }
          ],
          "barpolar": [
           {
            "marker": {
             "line": {
              "color": "#E5ECF6",
              "width": 0.5
             },
             "pattern": {
              "fillmode": "overlay",
              "size": 10,
              "solidity": 0.2
             }
            },
            "type": "barpolar"
           }
          ],
          "carpet": [
           {
            "aaxis": {
             "endlinecolor": "#2a3f5f",
             "gridcolor": "white",
             "linecolor": "white",
             "minorgridcolor": "white",
             "startlinecolor": "#2a3f5f"
            },
            "baxis": {
             "endlinecolor": "#2a3f5f",
             "gridcolor": "white",
             "linecolor": "white",
             "minorgridcolor": "white",
             "startlinecolor": "#2a3f5f"
            },
            "type": "carpet"
           }
          ],
          "choropleth": [
           {
            "colorbar": {
             "outlinewidth": 0,
             "ticks": ""
            },
            "type": "choropleth"
           }
          ],
          "contour": [
           {
            "colorbar": {
             "outlinewidth": 0,
             "ticks": ""
            },
            "colorscale": [
             [
              0,
              "#0d0887"
             ],
             [
              0.1111111111111111,
              "#46039f"
             ],
             [
              0.2222222222222222,
              "#7201a8"
             ],
             [
              0.3333333333333333,
              "#9c179e"
             ],
             [
              0.4444444444444444,
              "#bd3786"
             ],
             [
              0.5555555555555556,
              "#d8576b"
             ],
             [
              0.6666666666666666,
              "#ed7953"
             ],
             [
              0.7777777777777778,
              "#fb9f3a"
             ],
             [
              0.8888888888888888,
              "#fdca26"
             ],
             [
              1,
              "#f0f921"
             ]
            ],
            "type": "contour"
           }
          ],
          "contourcarpet": [
           {
            "colorbar": {
             "outlinewidth": 0,
             "ticks": ""
            },
            "type": "contourcarpet"
           }
          ],
          "heatmap": [
           {
            "colorbar": {
             "outlinewidth": 0,
             "ticks": ""
            },
            "colorscale": [
             [
              0,
              "#0d0887"
             ],
             [
              0.1111111111111111,
              "#46039f"
             ],
             [
              0.2222222222222222,
              "#7201a8"
             ],
             [
              0.3333333333333333,
              "#9c179e"
             ],
             [
              0.4444444444444444,
              "#bd3786"
             ],
             [
              0.5555555555555556,
              "#d8576b"
             ],
             [
              0.6666666666666666,
              "#ed7953"
             ],
             [
              0.7777777777777778,
              "#fb9f3a"
             ],
             [
              0.8888888888888888,
              "#fdca26"
             ],
             [
              1,
              "#f0f921"
             ]
            ],
            "type": "heatmap"
           }
          ],
          "heatmapgl": [
           {
            "colorbar": {
             "outlinewidth": 0,
             "ticks": ""
            },
            "colorscale": [
             [
              0,
              "#0d0887"
             ],
             [
              0.1111111111111111,
              "#46039f"
             ],
             [
              0.2222222222222222,
              "#7201a8"
             ],
             [
              0.3333333333333333,
              "#9c179e"
             ],
             [
              0.4444444444444444,
              "#bd3786"
             ],
             [
              0.5555555555555556,
              "#d8576b"
             ],
             [
              0.6666666666666666,
              "#ed7953"
             ],
             [
              0.7777777777777778,
              "#fb9f3a"
             ],
             [
              0.8888888888888888,
              "#fdca26"
             ],
             [
              1,
              "#f0f921"
             ]
            ],
            "type": "heatmapgl"
           }
          ],
          "histogram": [
           {
            "marker": {
             "pattern": {
              "fillmode": "overlay",
              "size": 10,
              "solidity": 0.2
             }
            },
            "type": "histogram"
           }
          ],
          "histogram2d": [
           {
            "colorbar": {
             "outlinewidth": 0,
             "ticks": ""
            },
            "colorscale": [
             [
              0,
              "#0d0887"
             ],
             [
              0.1111111111111111,
              "#46039f"
             ],
             [
              0.2222222222222222,
              "#7201a8"
             ],
             [
              0.3333333333333333,
              "#9c179e"
             ],
             [
              0.4444444444444444,
              "#bd3786"
             ],
             [
              0.5555555555555556,
              "#d8576b"
             ],
             [
              0.6666666666666666,
              "#ed7953"
             ],
             [
              0.7777777777777778,
              "#fb9f3a"
             ],
             [
              0.8888888888888888,
              "#fdca26"
             ],
             [
              1,
              "#f0f921"
             ]
            ],
            "type": "histogram2d"
           }
          ],
          "histogram2dcontour": [
           {
            "colorbar": {
             "outlinewidth": 0,
             "ticks": ""
            },
            "colorscale": [
             [
              0,
              "#0d0887"
             ],
             [
              0.1111111111111111,
              "#46039f"
             ],
             [
              0.2222222222222222,
              "#7201a8"
             ],
             [
              0.3333333333333333,
              "#9c179e"
             ],
             [
              0.4444444444444444,
              "#bd3786"
             ],
             [
              0.5555555555555556,
              "#d8576b"
             ],
             [
              0.6666666666666666,
              "#ed7953"
             ],
             [
              0.7777777777777778,
              "#fb9f3a"
             ],
             [
              0.8888888888888888,
              "#fdca26"
             ],
             [
              1,
              "#f0f921"
             ]
            ],
            "type": "histogram2dcontour"
           }
          ],
          "mesh3d": [
           {
            "colorbar": {
             "outlinewidth": 0,
             "ticks": ""
            },
            "type": "mesh3d"
           }
          ],
          "parcoords": [
           {
            "line": {
             "colorbar": {
              "outlinewidth": 0,
              "ticks": ""
             }
            },
            "type": "parcoords"
           }
          ],
          "pie": [
           {
            "automargin": true,
            "type": "pie"
           }
          ],
          "scatter": [
           {
            "fillpattern": {
             "fillmode": "overlay",
             "size": 10,
             "solidity": 0.2
            },
            "type": "scatter"
           }
          ],
          "scatter3d": [
           {
            "line": {
             "colorbar": {
              "outlinewidth": 0,
              "ticks": ""
             }
            },
            "marker": {
             "colorbar": {
              "outlinewidth": 0,
              "ticks": ""
             }
            },
            "type": "scatter3d"
           }
          ],
          "scattercarpet": [
           {
            "marker": {
             "colorbar": {
              "outlinewidth": 0,
              "ticks": ""
             }
            },
            "type": "scattercarpet"
           }
          ],
          "scattergeo": [
           {
            "marker": {
             "colorbar": {
              "outlinewidth": 0,
              "ticks": ""
             }
            },
            "type": "scattergeo"
           }
          ],
          "scattergl": [
           {
            "marker": {
             "colorbar": {
              "outlinewidth": 0,
              "ticks": ""
             }
            },
            "type": "scattergl"
           }
          ],
          "scattermapbox": [
           {
            "marker": {
             "colorbar": {
              "outlinewidth": 0,
              "ticks": ""
             }
            },
            "type": "scattermapbox"
           }
          ],
          "scatterpolar": [
           {
            "marker": {
             "colorbar": {
              "outlinewidth": 0,
              "ticks": ""
             }
            },
            "type": "scatterpolar"
           }
          ],
          "scatterpolargl": [
           {
            "marker": {
             "colorbar": {
              "outlinewidth": 0,
              "ticks": ""
             }
            },
            "type": "scatterpolargl"
           }
          ],
          "scatterternary": [
           {
            "marker": {
             "colorbar": {
              "outlinewidth": 0,
              "ticks": ""
             }
            },
            "type": "scatterternary"
           }
          ],
          "surface": [
           {
            "colorbar": {
             "outlinewidth": 0,
             "ticks": ""
            },
            "colorscale": [
             [
              0,
              "#0d0887"
             ],
             [
              0.1111111111111111,
              "#46039f"
             ],
             [
              0.2222222222222222,
              "#7201a8"
             ],
             [
              0.3333333333333333,
              "#9c179e"
             ],
             [
              0.4444444444444444,
              "#bd3786"
             ],
             [
              0.5555555555555556,
              "#d8576b"
             ],
             [
              0.6666666666666666,
              "#ed7953"
             ],
             [
              0.7777777777777778,
              "#fb9f3a"
             ],
             [
              0.8888888888888888,
              "#fdca26"
             ],
             [
              1,
              "#f0f921"
             ]
            ],
            "type": "surface"
           }
          ],
          "table": [
           {
            "cells": {
             "fill": {
              "color": "#EBF0F8"
             },
             "line": {
              "color": "white"
             }
            },
            "header": {
             "fill": {
              "color": "#C8D4E3"
             },
             "line": {
              "color": "white"
             }
            },
            "type": "table"
           }
          ]
         },
         "layout": {
          "annotationdefaults": {
           "arrowcolor": "#2a3f5f",
           "arrowhead": 0,
           "arrowwidth": 1
          },
          "autotypenumbers": "strict",
          "coloraxis": {
           "colorbar": {
            "outlinewidth": 0,
            "ticks": ""
           }
          },
          "colorscale": {
           "diverging": [
            [
             0,
             "#8e0152"
            ],
            [
             0.1,
             "#c51b7d"
            ],
            [
             0.2,
             "#de77ae"
            ],
            [
             0.3,
             "#f1b6da"
            ],
            [
             0.4,
             "#fde0ef"
            ],
            [
             0.5,
             "#f7f7f7"
            ],
            [
             0.6,
             "#e6f5d0"
            ],
            [
             0.7,
             "#b8e186"
            ],
            [
             0.8,
             "#7fbc41"
            ],
            [
             0.9,
             "#4d9221"
            ],
            [
             1,
             "#276419"
            ]
           ],
           "sequential": [
            [
             0,
             "#0d0887"
            ],
            [
             0.1111111111111111,
             "#46039f"
            ],
            [
             0.2222222222222222,
             "#7201a8"
            ],
            [
             0.3333333333333333,
             "#9c179e"
            ],
            [
             0.4444444444444444,
             "#bd3786"
            ],
            [
             0.5555555555555556,
             "#d8576b"
            ],
            [
             0.6666666666666666,
             "#ed7953"
            ],
            [
             0.7777777777777778,
             "#fb9f3a"
            ],
            [
             0.8888888888888888,
             "#fdca26"
            ],
            [
             1,
             "#f0f921"
            ]
           ],
           "sequentialminus": [
            [
             0,
             "#0d0887"
            ],
            [
             0.1111111111111111,
             "#46039f"
            ],
            [
             0.2222222222222222,
             "#7201a8"
            ],
            [
             0.3333333333333333,
             "#9c179e"
            ],
            [
             0.4444444444444444,
             "#bd3786"
            ],
            [
             0.5555555555555556,
             "#d8576b"
            ],
            [
             0.6666666666666666,
             "#ed7953"
            ],
            [
             0.7777777777777778,
             "#fb9f3a"
            ],
            [
             0.8888888888888888,
             "#fdca26"
            ],
            [
             1,
             "#f0f921"
            ]
           ]
          },
          "colorway": [
           "#636efa",
           "#EF553B",
           "#00cc96",
           "#ab63fa",
           "#FFA15A",
           "#19d3f3",
           "#FF6692",
           "#B6E880",
           "#FF97FF",
           "#FECB52"
          ],
          "font": {
           "color": "#2a3f5f"
          },
          "geo": {
           "bgcolor": "white",
           "lakecolor": "white",
           "landcolor": "#E5ECF6",
           "showlakes": true,
           "showland": true,
           "subunitcolor": "white"
          },
          "hoverlabel": {
           "align": "left"
          },
          "hovermode": "closest",
          "mapbox": {
           "style": "light"
          },
          "paper_bgcolor": "white",
          "plot_bgcolor": "#E5ECF6",
          "polar": {
           "angularaxis": {
            "gridcolor": "white",
            "linecolor": "white",
            "ticks": ""
           },
           "bgcolor": "#E5ECF6",
           "radialaxis": {
            "gridcolor": "white",
            "linecolor": "white",
            "ticks": ""
           }
          },
          "scene": {
           "xaxis": {
            "backgroundcolor": "#E5ECF6",
            "gridcolor": "white",
            "gridwidth": 2,
            "linecolor": "white",
            "showbackground": true,
            "ticks": "",
            "zerolinecolor": "white"
           },
           "yaxis": {
            "backgroundcolor": "#E5ECF6",
            "gridcolor": "white",
            "gridwidth": 2,
            "linecolor": "white",
            "showbackground": true,
            "ticks": "",
            "zerolinecolor": "white"
           },
           "zaxis": {
            "backgroundcolor": "#E5ECF6",
            "gridcolor": "white",
            "gridwidth": 2,
            "linecolor": "white",
            "showbackground": true,
            "ticks": "",
            "zerolinecolor": "white"
           }
          },
          "shapedefaults": {
           "line": {
            "color": "#2a3f5f"
           }
          },
          "ternary": {
           "aaxis": {
            "gridcolor": "white",
            "linecolor": "white",
            "ticks": ""
           },
           "baxis": {
            "gridcolor": "white",
            "linecolor": "white",
            "ticks": ""
           },
           "bgcolor": "#E5ECF6",
           "caxis": {
            "gridcolor": "white",
            "linecolor": "white",
            "ticks": ""
           }
          },
          "title": {
           "x": 0.05
          },
          "xaxis": {
           "automargin": true,
           "gridcolor": "white",
           "linecolor": "white",
           "ticks": "",
           "title": {
            "standoff": 15
           },
           "zerolinecolor": "white",
           "zerolinewidth": 2
          },
          "yaxis": {
           "automargin": true,
           "gridcolor": "white",
           "linecolor": "white",
           "ticks": "",
           "title": {
            "standoff": 15
           },
           "zerolinecolor": "white",
           "zerolinewidth": 2
          }
         }
        },
        "title": {
         "text": "Label: image test"
        },
        "width": 500,
        "xaxis": {
         "anchor": "y",
         "domain": [
          0,
          1
         ],
         "showgrid": false,
         "showticklabels": false,
         "visible": false,
         "zeroline": false
        },
        "yaxis": {
         "anchor": "x",
         "domain": [
          0,
          1
         ],
         "showgrid": false,
         "showticklabels": false,
         "visible": false,
         "zeroline": false
        }
       }
      }
     },
     "metadata": {},
     "output_type": "display_data"
    }
   ],
   "source": [
    "# test discriminator with test image\n",
    "plot_image(test_image[0], \"image test\", {\"real\": discriminator.predict([test_image, types_to_vector('Fire', 'Flying')], verbose=0)[0][0]}, 96)"
   ]
  }
 ],
 "metadata": {
  "kernelspec": {
   "display_name": "Python 3",
   "language": "python",
   "name": "python3"
  },
  "language_info": {
   "codemirror_mode": {
    "name": "ipython",
    "version": 3
   },
   "file_extension": ".py",
   "mimetype": "text/x-python",
   "name": "python",
   "nbconvert_exporter": "python",
   "pygments_lexer": "ipython3",
   "version": "3.10.6"
  },
  "orig_nbformat": 4
 },
 "nbformat": 4,
 "nbformat_minor": 2
}
