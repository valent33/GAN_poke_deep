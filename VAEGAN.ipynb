{
 "cells": [
  {
   "cell_type": "code",
   "execution_count": 8,
   "metadata": {},
   "outputs": [],
   "source": [
    "import tensorflow as tf\n",
    "# import plotly.express as px\n",
    "import matplotlib.pyplot as plt\n",
    "from utils import *\n",
    "import pandas as pd"
   ]
  },
  {
   "cell_type": "code",
   "execution_count": 9,
   "metadata": {},
   "outputs": [],
   "source": [
    "directory = 'images/final/'\n",
    "width = 96\n",
    "height = 96\n",
    "channels = 4\n",
    "image_size = (width, height)\n",
    "input_shape = (width, height, channels)\n",
    "batch_size = 32"
   ]
  },
  {
   "cell_type": "code",
   "execution_count": 10,
   "metadata": {},
   "outputs": [
    {
     "name": "stdout",
     "output_type": "stream",
     "text": [
      "Found 13849 files belonging to 905 classes.\n"
     ]
    }
   ],
   "source": [
    "train_ds, class_names = load_data(directory, batch_size, image_size, GAN=True)"
   ]
  },
  {
   "cell_type": "code",
   "execution_count": 11,
   "metadata": {},
   "outputs": [],
   "source": [
    "types = pd.read_csv('PokeDataset.csv', usecols=['Name', 'Type1', 'Type2'])\n",
    "# reorder by alphabetical order of column 'Name'\n",
    "types = types.sort_values(by=['Name'])\n",
    "types = types.reset_index(drop=True)"
   ]
  },
  {
   "cell_type": "code",
   "execution_count": 12,
   "metadata": {},
   "outputs": [
    {
     "name": "stdout",
     "output_type": "stream",
     "text": [
      "Percentage of pokemon with double type: 50.69%\n"
     ]
    }
   ],
   "source": [
    "# give percentage of pokemon with double type\n",
    "print(f\"Percentage of pokemon with double type: {types['Type2'].count() / types['Type1'].count() * 100:.2f}%\")"
   ]
  },
  {
   "cell_type": "code",
   "execution_count": 13,
   "metadata": {},
   "outputs": [
    {
     "data": {
      "text/html": [
       "<div>\n",
       "<style scoped>\n",
       "    .dataframe tbody tr th:only-of-type {\n",
       "        vertical-align: middle;\n",
       "    }\n",
       "\n",
       "    .dataframe tbody tr th {\n",
       "        vertical-align: top;\n",
       "    }\n",
       "\n",
       "    .dataframe thead th {\n",
       "        text-align: right;\n",
       "    }\n",
       "</style>\n",
       "<table border=\"1\" class=\"dataframe\">\n",
       "  <thead>\n",
       "    <tr style=\"text-align: right;\">\n",
       "      <th></th>\n",
       "      <th>Name</th>\n",
       "      <th>Type1</th>\n",
       "      <th>Type2</th>\n",
       "    </tr>\n",
       "  </thead>\n",
       "  <tbody>\n",
       "    <tr>\n",
       "      <th>0</th>\n",
       "      <td>Abomasnow</td>\n",
       "      <td>Grass</td>\n",
       "      <td>Ice</td>\n",
       "    </tr>\n",
       "    <tr>\n",
       "      <th>1</th>\n",
       "      <td>Abra</td>\n",
       "      <td>Psychic</td>\n",
       "      <td>NaN</td>\n",
       "    </tr>\n",
       "    <tr>\n",
       "      <th>2</th>\n",
       "      <td>Absol</td>\n",
       "      <td>Dark</td>\n",
       "      <td>NaN</td>\n",
       "    </tr>\n",
       "    <tr>\n",
       "      <th>3</th>\n",
       "      <td>Accelgor</td>\n",
       "      <td>Bug</td>\n",
       "      <td>NaN</td>\n",
       "    </tr>\n",
       "    <tr>\n",
       "      <th>4</th>\n",
       "      <td>Aegislash</td>\n",
       "      <td>Steel</td>\n",
       "      <td>Ghost</td>\n",
       "    </tr>\n",
       "  </tbody>\n",
       "</table>\n",
       "</div>"
      ],
      "text/plain": [
       "        Name    Type1  Type2\n",
       "0  Abomasnow    Grass    Ice\n",
       "1       Abra  Psychic    NaN\n",
       "2      Absol     Dark    NaN\n",
       "3   Accelgor      Bug    NaN\n",
       "4  Aegislash    Steel  Ghost"
      ]
     },
     "execution_count": 13,
     "metadata": {},
     "output_type": "execute_result"
    }
   ],
   "source": [
    "types.head(5)"
   ]
  },
  {
   "cell_type": "code",
   "execution_count": 14,
   "metadata": {},
   "outputs": [],
   "source": [
    "# make a dictionary of types and their index in the list of types\n",
    "types_dict = {}\n",
    "for i, t in enumerate(types['Type1'].unique()):\n",
    "    types_dict[t] = i\n",
    "\n",
    "# create vector of labels with 0 for each type except the one in the row (type1 and type2 are strings)\n",
    "def create_label(row):\n",
    "    label = np.zeros(18)\n",
    "    label[types_dict[row['Type1']]] = 1\n",
    "    if row['Type2'] in types_dict:\n",
    "        label[types_dict[row['Type2']]] = 1\n",
    "    return label\n",
    "\n",
    "types['Label'] = types.apply(create_label, axis=1)"
   ]
  },
  {
   "cell_type": "code",
   "execution_count": 15,
   "metadata": {},
   "outputs": [],
   "source": [
    "def types_to_vector(type1, type2=None):\n",
    "    label = np.zeros(18)\n",
    "    label[types_dict[type1]] = 1\n",
    "    if type2 in types_dict:\n",
    "        label[types_dict[type2]] = 1\n",
    "    return label.reshape(1, 18)"
   ]
  },
  {
   "cell_type": "code",
   "execution_count": 16,
   "metadata": {},
   "outputs": [
    {
     "name": "stdout",
     "output_type": "stream",
     "text": [
      "521\n"
     ]
    },
    {
     "data": {
      "application/vnd.plotly.v1+json": {
       "config": {
        "plotlyServerURL": "https://plot.ly"
       },
       "data": [
        {
         "hovertemplate": "x: %{x}<br>y: %{y}<extra></extra>",
         "name": "0",
         "source": "data:image/png;base64,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",
         "type": "image",
         "xaxis": "x",
         "yaxis": "y"
        }
       ],
       "layout": {
        "height": 350,
        "margin": {
         "l": 0,
         "t": 60
        },
        "shapes": [
         {
          "line": {
           "color": "black",
           "width": 2
          },
          "type": "rect",
          "x0": 0,
          "x1": 96,
          "xref": "x",
          "y0": 0,
          "y1": 96,
          "yref": "y"
         }
        ],
        "template": {
         "data": {
          "bar": [
           {
            "error_x": {
             "color": "#2a3f5f"
            },
            "error_y": {
             "color": "#2a3f5f"
            },
            "marker": {
             "line": {
              "color": "#E5ECF6",
              "width": 0.5
             },
             "pattern": {
              "fillmode": "overlay",
              "size": 10,
              "solidity": 0.2
             }
            },
            "type": "bar"
           }
          ],
          "barpolar": [
           {
            "marker": {
             "line": {
              "color": "#E5ECF6",
              "width": 0.5
             },
             "pattern": {
              "fillmode": "overlay",
              "size": 10,
              "solidity": 0.2
             }
            },
            "type": "barpolar"
           }
          ],
          "carpet": [
           {
            "aaxis": {
             "endlinecolor": "#2a3f5f",
             "gridcolor": "white",
             "linecolor": "white",
             "minorgridcolor": "white",
             "startlinecolor": "#2a3f5f"
            },
            "baxis": {
             "endlinecolor": "#2a3f5f",
             "gridcolor": "white",
             "linecolor": "white",
             "minorgridcolor": "white",
             "startlinecolor": "#2a3f5f"
            },
            "type": "carpet"
           }
          ],
          "choropleth": [
           {
            "colorbar": {
             "outlinewidth": 0,
             "ticks": ""
            },
            "type": "choropleth"
           }
          ],
          "contour": [
           {
            "colorbar": {
             "outlinewidth": 0,
             "ticks": ""
            },
            "colorscale": [
             [
              0,
              "#0d0887"
             ],
             [
              0.1111111111111111,
              "#46039f"
             ],
             [
              0.2222222222222222,
              "#7201a8"
             ],
             [
              0.3333333333333333,
              "#9c179e"
             ],
             [
              0.4444444444444444,
              "#bd3786"
             ],
             [
              0.5555555555555556,
              "#d8576b"
             ],
             [
              0.6666666666666666,
              "#ed7953"
             ],
             [
              0.7777777777777778,
              "#fb9f3a"
             ],
             [
              0.8888888888888888,
              "#fdca26"
             ],
             [
              1,
              "#f0f921"
             ]
            ],
            "type": "contour"
           }
          ],
          "contourcarpet": [
           {
            "colorbar": {
             "outlinewidth": 0,
             "ticks": ""
            },
            "type": "contourcarpet"
           }
          ],
          "heatmap": [
           {
            "colorbar": {
             "outlinewidth": 0,
             "ticks": ""
            },
            "colorscale": [
             [
              0,
              "#0d0887"
             ],
             [
              0.1111111111111111,
              "#46039f"
             ],
             [
              0.2222222222222222,
              "#7201a8"
             ],
             [
              0.3333333333333333,
              "#9c179e"
             ],
             [
              0.4444444444444444,
              "#bd3786"
             ],
             [
              0.5555555555555556,
              "#d8576b"
             ],
             [
              0.6666666666666666,
              "#ed7953"
             ],
             [
              0.7777777777777778,
              "#fb9f3a"
             ],
             [
              0.8888888888888888,
              "#fdca26"
             ],
             [
              1,
              "#f0f921"
             ]
            ],
            "type": "heatmap"
           }
          ],
          "heatmapgl": [
           {
            "colorbar": {
             "outlinewidth": 0,
             "ticks": ""
            },
            "colorscale": [
             [
              0,
              "#0d0887"
             ],
             [
              0.1111111111111111,
              "#46039f"
             ],
             [
              0.2222222222222222,
              "#7201a8"
             ],
             [
              0.3333333333333333,
              "#9c179e"
             ],
             [
              0.4444444444444444,
              "#bd3786"
             ],
             [
              0.5555555555555556,
              "#d8576b"
             ],
             [
              0.6666666666666666,
              "#ed7953"
             ],
             [
              0.7777777777777778,
              "#fb9f3a"
             ],
             [
              0.8888888888888888,
              "#fdca26"
             ],
             [
              1,
              "#f0f921"
             ]
            ],
            "type": "heatmapgl"
           }
          ],
          "histogram": [
           {
            "marker": {
             "pattern": {
              "fillmode": "overlay",
              "size": 10,
              "solidity": 0.2
             }
            },
            "type": "histogram"
           }
          ],
          "histogram2d": [
           {
            "colorbar": {
             "outlinewidth": 0,
             "ticks": ""
            },
            "colorscale": [
             [
              0,
              "#0d0887"
             ],
             [
              0.1111111111111111,
              "#46039f"
             ],
             [
              0.2222222222222222,
              "#7201a8"
             ],
             [
              0.3333333333333333,
              "#9c179e"
             ],
             [
              0.4444444444444444,
              "#bd3786"
             ],
             [
              0.5555555555555556,
              "#d8576b"
             ],
             [
              0.6666666666666666,
              "#ed7953"
             ],
             [
              0.7777777777777778,
              "#fb9f3a"
             ],
             [
              0.8888888888888888,
              "#fdca26"
             ],
             [
              1,
              "#f0f921"
             ]
            ],
            "type": "histogram2d"
           }
          ],
          "histogram2dcontour": [
           {
            "colorbar": {
             "outlinewidth": 0,
             "ticks": ""
            },
            "colorscale": [
             [
              0,
              "#0d0887"
             ],
             [
              0.1111111111111111,
              "#46039f"
             ],
             [
              0.2222222222222222,
              "#7201a8"
             ],
             [
              0.3333333333333333,
              "#9c179e"
             ],
             [
              0.4444444444444444,
              "#bd3786"
             ],
             [
              0.5555555555555556,
              "#d8576b"
             ],
             [
              0.6666666666666666,
              "#ed7953"
             ],
             [
              0.7777777777777778,
              "#fb9f3a"
             ],
             [
              0.8888888888888888,
              "#fdca26"
             ],
             [
              1,
              "#f0f921"
             ]
            ],
            "type": "histogram2dcontour"
           }
          ],
          "mesh3d": [
           {
            "colorbar": {
             "outlinewidth": 0,
             "ticks": ""
            },
            "type": "mesh3d"
           }
          ],
          "parcoords": [
           {
            "line": {
             "colorbar": {
              "outlinewidth": 0,
              "ticks": ""
             }
            },
            "type": "parcoords"
           }
          ],
          "pie": [
           {
            "automargin": true,
            "type": "pie"
           }
          ],
          "scatter": [
           {
            "fillpattern": {
             "fillmode": "overlay",
             "size": 10,
             "solidity": 0.2
            },
            "type": "scatter"
           }
          ],
          "scatter3d": [
           {
            "line": {
             "colorbar": {
              "outlinewidth": 0,
              "ticks": ""
             }
            },
            "marker": {
             "colorbar": {
              "outlinewidth": 0,
              "ticks": ""
             }
            },
            "type": "scatter3d"
           }
          ],
          "scattercarpet": [
           {
            "marker": {
             "colorbar": {
              "outlinewidth": 0,
              "ticks": ""
             }
            },
            "type": "scattercarpet"
           }
          ],
          "scattergeo": [
           {
            "marker": {
             "colorbar": {
              "outlinewidth": 0,
              "ticks": ""
             }
            },
            "type": "scattergeo"
           }
          ],
          "scattergl": [
           {
            "marker": {
             "colorbar": {
              "outlinewidth": 0,
              "ticks": ""
             }
            },
            "type": "scattergl"
           }
          ],
          "scattermapbox": [
           {
            "marker": {
             "colorbar": {
              "outlinewidth": 0,
              "ticks": ""
             }
            },
            "type": "scattermapbox"
           }
          ],
          "scatterpolar": [
           {
            "marker": {
             "colorbar": {
              "outlinewidth": 0,
              "ticks": ""
             }
            },
            "type": "scatterpolar"
           }
          ],
          "scatterpolargl": [
           {
            "marker": {
             "colorbar": {
              "outlinewidth": 0,
              "ticks": ""
             }
            },
            "type": "scatterpolargl"
           }
          ],
          "scatterternary": [
           {
            "marker": {
             "colorbar": {
              "outlinewidth": 0,
              "ticks": ""
             }
            },
            "type": "scatterternary"
           }
          ],
          "surface": [
           {
            "colorbar": {
             "outlinewidth": 0,
             "ticks": ""
            },
            "colorscale": [
             [
              0,
              "#0d0887"
             ],
             [
              0.1111111111111111,
              "#46039f"
             ],
             [
              0.2222222222222222,
              "#7201a8"
             ],
             [
              0.3333333333333333,
              "#9c179e"
             ],
             [
              0.4444444444444444,
              "#bd3786"
             ],
             [
              0.5555555555555556,
              "#d8576b"
             ],
             [
              0.6666666666666666,
              "#ed7953"
             ],
             [
              0.7777777777777778,
              "#fb9f3a"
             ],
             [
              0.8888888888888888,
              "#fdca26"
             ],
             [
              1,
              "#f0f921"
             ]
            ],
            "type": "surface"
           }
          ],
          "table": [
           {
            "cells": {
             "fill": {
              "color": "#EBF0F8"
             },
             "line": {
              "color": "white"
             }
            },
            "header": {
             "fill": {
              "color": "#C8D4E3"
             },
             "line": {
              "color": "white"
             }
            },
            "type": "table"
           }
          ]
         },
         "layout": {
          "annotationdefaults": {
           "arrowcolor": "#2a3f5f",
           "arrowhead": 0,
           "arrowwidth": 1
          },
          "autotypenumbers": "strict",
          "coloraxis": {
           "colorbar": {
            "outlinewidth": 0,
            "ticks": ""
           }
          },
          "colorscale": {
           "diverging": [
            [
             0,
             "#8e0152"
            ],
            [
             0.1,
             "#c51b7d"
            ],
            [
             0.2,
             "#de77ae"
            ],
            [
             0.3,
             "#f1b6da"
            ],
            [
             0.4,
             "#fde0ef"
            ],
            [
             0.5,
             "#f7f7f7"
            ],
            [
             0.6,
             "#e6f5d0"
            ],
            [
             0.7,
             "#b8e186"
            ],
            [
             0.8,
             "#7fbc41"
            ],
            [
             0.9,
             "#4d9221"
            ],
            [
             1,
             "#276419"
            ]
           ],
           "sequential": [
            [
             0,
             "#0d0887"
            ],
            [
             0.1111111111111111,
             "#46039f"
            ],
            [
             0.2222222222222222,
             "#7201a8"
            ],
            [
             0.3333333333333333,
             "#9c179e"
            ],
            [
             0.4444444444444444,
             "#bd3786"
            ],
            [
             0.5555555555555556,
             "#d8576b"
            ],
            [
             0.6666666666666666,
             "#ed7953"
            ],
            [
             0.7777777777777778,
             "#fb9f3a"
            ],
            [
             0.8888888888888888,
             "#fdca26"
            ],
            [
             1,
             "#f0f921"
            ]
           ],
           "sequentialminus": [
            [
             0,
             "#0d0887"
            ],
            [
             0.1111111111111111,
             "#46039f"
            ],
            [
             0.2222222222222222,
             "#7201a8"
            ],
            [
             0.3333333333333333,
             "#9c179e"
            ],
            [
             0.4444444444444444,
             "#bd3786"
            ],
            [
             0.5555555555555556,
             "#d8576b"
            ],
            [
             0.6666666666666666,
             "#ed7953"
            ],
            [
             0.7777777777777778,
             "#fb9f3a"
            ],
            [
             0.8888888888888888,
             "#fdca26"
            ],
            [
             1,
             "#f0f921"
            ]
           ]
          },
          "colorway": [
           "#636efa",
           "#EF553B",
           "#00cc96",
           "#ab63fa",
           "#FFA15A",
           "#19d3f3",
           "#FF6692",
           "#B6E880",
           "#FF97FF",
           "#FECB52"
          ],
          "font": {
           "color": "#2a3f5f"
          },
          "geo": {
           "bgcolor": "white",
           "lakecolor": "white",
           "landcolor": "#E5ECF6",
           "showlakes": true,
           "showland": true,
           "subunitcolor": "white"
          },
          "hoverlabel": {
           "align": "left"
          },
          "hovermode": "closest",
          "mapbox": {
           "style": "light"
          },
          "paper_bgcolor": "white",
          "plot_bgcolor": "#E5ECF6",
          "polar": {
           "angularaxis": {
            "gridcolor": "white",
            "linecolor": "white",
            "ticks": ""
           },
           "bgcolor": "#E5ECF6",
           "radialaxis": {
            "gridcolor": "white",
            "linecolor": "white",
            "ticks": ""
           }
          },
          "scene": {
           "xaxis": {
            "backgroundcolor": "#E5ECF6",
            "gridcolor": "white",
            "gridwidth": 2,
            "linecolor": "white",
            "showbackground": true,
            "ticks": "",
            "zerolinecolor": "white"
           },
           "yaxis": {
            "backgroundcolor": "#E5ECF6",
            "gridcolor": "white",
            "gridwidth": 2,
            "linecolor": "white",
            "showbackground": true,
            "ticks": "",
            "zerolinecolor": "white"
           },
           "zaxis": {
            "backgroundcolor": "#E5ECF6",
            "gridcolor": "white",
            "gridwidth": 2,
            "linecolor": "white",
            "showbackground": true,
            "ticks": "",
            "zerolinecolor": "white"
           }
          },
          "shapedefaults": {
           "line": {
            "color": "#2a3f5f"
           }
          },
          "ternary": {
           "aaxis": {
            "gridcolor": "white",
            "linecolor": "white",
            "ticks": ""
           },
           "baxis": {
            "gridcolor": "white",
            "linecolor": "white",
            "ticks": ""
           },
           "bgcolor": "#E5ECF6",
           "caxis": {
            "gridcolor": "white",
            "linecolor": "white",
            "ticks": ""
           }
          },
          "title": {
           "x": 0.05
          },
          "xaxis": {
           "automargin": true,
           "gridcolor": "white",
           "linecolor": "white",
           "ticks": "",
           "title": {
            "standoff": 15
           },
           "zerolinecolor": "white",
           "zerolinewidth": 2
          },
          "yaxis": {
           "automargin": true,
           "gridcolor": "white",
           "linecolor": "white",
           "ticks": "",
           "title": {
            "standoff": 15
           },
           "zerolinecolor": "white",
           "zerolinewidth": 2
          }
         }
        },
        "title": {
         "text": "Label: Naganadel"
        },
        "width": 500,
        "xaxis": {
         "anchor": "y",
         "domain": [
          0,
          1
         ],
         "showgrid": false,
         "showticklabels": false,
         "visible": false,
         "zeroline": false
        },
        "yaxis": {
         "anchor": "x",
         "domain": [
          0,
          1
         ],
         "showgrid": false,
         "showticklabels": false,
         "visible": false,
         "zeroline": false
        }
       }
      }
     },
     "metadata": {},
     "output_type": "display_data"
    }
   ],
   "source": [
    "for x, y in train_ds.take(1):\n",
    "    print(int(tf.argmax(tf.reshape(y[0], [-1, 1]), axis=0)))\n",
    "    plot_image(x[0], class_names[int(tf.argmax(tf.reshape(y[0], [-1, 1]), axis=0))], size=width)"
   ]
  },
  {
   "cell_type": "code",
   "execution_count": 17,
   "metadata": {},
   "outputs": [],
   "source": [
    "# map labels in train_ds to the column Label in types\n",
    "def map_labels(x, y):\n",
    "    y_onehot = tf.argmax(y, axis=1).numpy()\n",
    "    y_labels = np.zeros((len(y_onehot), 18))\n",
    "    for i in range(len(y_onehot)):\n",
    "        y_labels[i] = types.loc[y_onehot[i], 'Label']\n",
    "    y_label = np.insert(y_labels, 0, 1, axis=1)\n",
    "    y_label_tensor = tf.convert_to_tensor(y_label, dtype=tf.float32)\n",
    "    return x, y_label_tensor\n",
    "\n"
   ]
  },
  {
   "cell_type": "code",
   "execution_count": 18,
   "metadata": {},
   "outputs": [
    {
     "name": "stdout",
     "output_type": "stream",
     "text": [
      "WARNING:tensorflow:Using a while_loop for converting RngReadAndSkip cause there is no registered converter for this op.\n",
      "WARNING:tensorflow:Using a while_loop for converting Bitcast cause there is no registered converter for this op.\n",
      "WARNING:tensorflow:Using a while_loop for converting Bitcast cause there is no registered converter for this op.\n",
      "WARNING:tensorflow:Using a while_loop for converting StatelessRandomUniformV2 cause there is no registered converter for this op.\n",
      "WARNING:tensorflow:Using a while_loop for converting ImageProjectiveTransformV3 cause there is no registered converter for this op.\n",
      "WARNING:tensorflow:Using a while_loop for converting RngReadAndSkip cause there is no registered converter for this op.\n",
      "WARNING:tensorflow:Using a while_loop for converting Bitcast cause there is no registered converter for this op.\n",
      "WARNING:tensorflow:Using a while_loop for converting Bitcast cause there is no registered converter for this op.\n",
      "WARNING:tensorflow:Using a while_loop for converting StatelessRandomUniformV2 cause there is no registered converter for this op.\n",
      "WARNING:tensorflow:Using a while_loop for converting RngReadAndSkip cause there is no registered converter for this op.\n",
      "WARNING:tensorflow:Using a while_loop for converting Bitcast cause there is no registered converter for this op.\n",
      "WARNING:tensorflow:Using a while_loop for converting Bitcast cause there is no registered converter for this op.\n",
      "WARNING:tensorflow:Using a while_loop for converting StatelessRandomUniformV2 cause there is no registered converter for this op.\n",
      "WARNING:tensorflow:Using a while_loop for converting RngReadAndSkip cause there is no registered converter for this op.\n",
      "WARNING:tensorflow:Using a while_loop for converting Bitcast cause there is no registered converter for this op.\n",
      "WARNING:tensorflow:Using a while_loop for converting Bitcast cause there is no registered converter for this op.\n",
      "WARNING:tensorflow:Using a while_loop for converting StatelessRandomUniformV2 cause there is no registered converter for this op.\n",
      "WARNING:tensorflow:Using a while_loop for converting ImageProjectiveTransformV3 cause there is no registered converter for this op.\n",
      "WARNING:tensorflow:Using a while_loop for converting RngReadAndSkip cause there is no registered converter for this op.\n",
      "WARNING:tensorflow:Using a while_loop for converting Bitcast cause there is no registered converter for this op.\n",
      "WARNING:tensorflow:Using a while_loop for converting Bitcast cause there is no registered converter for this op.\n",
      "WARNING:tensorflow:Using a while_loop for converting StatelessRandomUniformV2 cause there is no registered converter for this op.\n",
      "WARNING:tensorflow:Using a while_loop for converting RngReadAndSkip cause there is no registered converter for this op.\n",
      "WARNING:tensorflow:Using a while_loop for converting Bitcast cause there is no registered converter for this op.\n",
      "WARNING:tensorflow:Using a while_loop for converting Bitcast cause there is no registered converter for this op.\n",
      "WARNING:tensorflow:Using a while_loop for converting StatelessRandomUniformV2 cause there is no registered converter for this op.\n"
     ]
    }
   ],
   "source": [
    "train_ds = prepare(train_ds, shuffle=True, augment=True, GAN=True)\n",
    "train_ds = train_ds.map(lambda x, y: tf.py_function(map_labels, [x, y], [tf.float32, tf.float32]))\n",
    "\n",
    "channels = 3\n",
    "input_shape = (width, height, channels)"
   ]
  },
  {
   "cell_type": "code",
   "execution_count": 19,
   "metadata": {},
   "outputs": [
    {
     "name": "stdout",
     "output_type": "stream",
     "text": [
      "image shape :  (96, 96, 3)\n"
     ]
    },
    {
     "data": {
      "application/vnd.plotly.v1+json": {
       "config": {
        "plotlyServerURL": "https://plot.ly"
       },
       "data": [
        {
         "hovertemplate": "x: %{x}<br>y: %{y}<br>color: [%{z[0]}, %{z[1]}, %{z[2]}]<extra></extra>",
         "name": "0",
         "source": "data:image/png;base64,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",
         "type": "image",
         "xaxis": "x",
         "yaxis": "y"
        }
       ],
       "layout": {
        "height": 350,
        "margin": {
         "l": 0,
         "t": 60
        },
        "shapes": [
         {
          "line": {
           "color": "black",
           "width": 2
          },
          "type": "rect",
          "x0": 0,
          "x1": 96,
          "xref": "x",
          "y0": 0,
          "y1": 96,
          "yref": "y"
         }
        ],
        "template": {
         "data": {
          "bar": [
           {
            "error_x": {
             "color": "#2a3f5f"
            },
            "error_y": {
             "color": "#2a3f5f"
            },
            "marker": {
             "line": {
              "color": "#E5ECF6",
              "width": 0.5
             },
             "pattern": {
              "fillmode": "overlay",
              "size": 10,
              "solidity": 0.2
             }
            },
            "type": "bar"
           }
          ],
          "barpolar": [
           {
            "marker": {
             "line": {
              "color": "#E5ECF6",
              "width": 0.5
             },
             "pattern": {
              "fillmode": "overlay",
              "size": 10,
              "solidity": 0.2
             }
            },
            "type": "barpolar"
           }
          ],
          "carpet": [
           {
            "aaxis": {
             "endlinecolor": "#2a3f5f",
             "gridcolor": "white",
             "linecolor": "white",
             "minorgridcolor": "white",
             "startlinecolor": "#2a3f5f"
            },
            "baxis": {
             "endlinecolor": "#2a3f5f",
             "gridcolor": "white",
             "linecolor": "white",
             "minorgridcolor": "white",
             "startlinecolor": "#2a3f5f"
            },
            "type": "carpet"
           }
          ],
          "choropleth": [
           {
            "colorbar": {
             "outlinewidth": 0,
             "ticks": ""
            },
            "type": "choropleth"
           }
          ],
          "contour": [
           {
            "colorbar": {
             "outlinewidth": 0,
             "ticks": ""
            },
            "colorscale": [
             [
              0,
              "#0d0887"
             ],
             [
              0.1111111111111111,
              "#46039f"
             ],
             [
              0.2222222222222222,
              "#7201a8"
             ],
             [
              0.3333333333333333,
              "#9c179e"
             ],
             [
              0.4444444444444444,
              "#bd3786"
             ],
             [
              0.5555555555555556,
              "#d8576b"
             ],
             [
              0.6666666666666666,
              "#ed7953"
             ],
             [
              0.7777777777777778,
              "#fb9f3a"
             ],
             [
              0.8888888888888888,
              "#fdca26"
             ],
             [
              1,
              "#f0f921"
             ]
            ],
            "type": "contour"
           }
          ],
          "contourcarpet": [
           {
            "colorbar": {
             "outlinewidth": 0,
             "ticks": ""
            },
            "type": "contourcarpet"
           }
          ],
          "heatmap": [
           {
            "colorbar": {
             "outlinewidth": 0,
             "ticks": ""
            },
            "colorscale": [
             [
              0,
              "#0d0887"
             ],
             [
              0.1111111111111111,
              "#46039f"
             ],
             [
              0.2222222222222222,
              "#7201a8"
             ],
             [
              0.3333333333333333,
              "#9c179e"
             ],
             [
              0.4444444444444444,
              "#bd3786"
             ],
             [
              0.5555555555555556,
              "#d8576b"
             ],
             [
              0.6666666666666666,
              "#ed7953"
             ],
             [
              0.7777777777777778,
              "#fb9f3a"
             ],
             [
              0.8888888888888888,
              "#fdca26"
             ],
             [
              1,
              "#f0f921"
             ]
            ],
            "type": "heatmap"
           }
          ],
          "heatmapgl": [
           {
            "colorbar": {
             "outlinewidth": 0,
             "ticks": ""
            },
            "colorscale": [
             [
              0,
              "#0d0887"
             ],
             [
              0.1111111111111111,
              "#46039f"
             ],
             [
              0.2222222222222222,
              "#7201a8"
             ],
             [
              0.3333333333333333,
              "#9c179e"
             ],
             [
              0.4444444444444444,
              "#bd3786"
             ],
             [
              0.5555555555555556,
              "#d8576b"
             ],
             [
              0.6666666666666666,
              "#ed7953"
             ],
             [
              0.7777777777777778,
              "#fb9f3a"
             ],
             [
              0.8888888888888888,
              "#fdca26"
             ],
             [
              1,
              "#f0f921"
             ]
            ],
            "type": "heatmapgl"
           }
          ],
          "histogram": [
           {
            "marker": {
             "pattern": {
              "fillmode": "overlay",
              "size": 10,
              "solidity": 0.2
             }
            },
            "type": "histogram"
           }
          ],
          "histogram2d": [
           {
            "colorbar": {
             "outlinewidth": 0,
             "ticks": ""
            },
            "colorscale": [
             [
              0,
              "#0d0887"
             ],
             [
              0.1111111111111111,
              "#46039f"
             ],
             [
              0.2222222222222222,
              "#7201a8"
             ],
             [
              0.3333333333333333,
              "#9c179e"
             ],
             [
              0.4444444444444444,
              "#bd3786"
             ],
             [
              0.5555555555555556,
              "#d8576b"
             ],
             [
              0.6666666666666666,
              "#ed7953"
             ],
             [
              0.7777777777777778,
              "#fb9f3a"
             ],
             [
              0.8888888888888888,
              "#fdca26"
             ],
             [
              1,
              "#f0f921"
             ]
            ],
            "type": "histogram2d"
           }
          ],
          "histogram2dcontour": [
           {
            "colorbar": {
             "outlinewidth": 0,
             "ticks": ""
            },
            "colorscale": [
             [
              0,
              "#0d0887"
             ],
             [
              0.1111111111111111,
              "#46039f"
             ],
             [
              0.2222222222222222,
              "#7201a8"
             ],
             [
              0.3333333333333333,
              "#9c179e"
             ],
             [
              0.4444444444444444,
              "#bd3786"
             ],
             [
              0.5555555555555556,
              "#d8576b"
             ],
             [
              0.6666666666666666,
              "#ed7953"
             ],
             [
              0.7777777777777778,
              "#fb9f3a"
             ],
             [
              0.8888888888888888,
              "#fdca26"
             ],
             [
              1,
              "#f0f921"
             ]
            ],
            "type": "histogram2dcontour"
           }
          ],
          "mesh3d": [
           {
            "colorbar": {
             "outlinewidth": 0,
             "ticks": ""
            },
            "type": "mesh3d"
           }
          ],
          "parcoords": [
           {
            "line": {
             "colorbar": {
              "outlinewidth": 0,
              "ticks": ""
             }
            },
            "type": "parcoords"
           }
          ],
          "pie": [
           {
            "automargin": true,
            "type": "pie"
           }
          ],
          "scatter": [
           {
            "fillpattern": {
             "fillmode": "overlay",
             "size": 10,
             "solidity": 0.2
            },
            "type": "scatter"
           }
          ],
          "scatter3d": [
           {
            "line": {
             "colorbar": {
              "outlinewidth": 0,
              "ticks": ""
             }
            },
            "marker": {
             "colorbar": {
              "outlinewidth": 0,
              "ticks": ""
             }
            },
            "type": "scatter3d"
           }
          ],
          "scattercarpet": [
           {
            "marker": {
             "colorbar": {
              "outlinewidth": 0,
              "ticks": ""
             }
            },
            "type": "scattercarpet"
           }
          ],
          "scattergeo": [
           {
            "marker": {
             "colorbar": {
              "outlinewidth": 0,
              "ticks": ""
             }
            },
            "type": "scattergeo"
           }
          ],
          "scattergl": [
           {
            "marker": {
             "colorbar": {
              "outlinewidth": 0,
              "ticks": ""
             }
            },
            "type": "scattergl"
           }
          ],
          "scattermapbox": [
           {
            "marker": {
             "colorbar": {
              "outlinewidth": 0,
              "ticks": ""
             }
            },
            "type": "scattermapbox"
           }
          ],
          "scatterpolar": [
           {
            "marker": {
             "colorbar": {
              "outlinewidth": 0,
              "ticks": ""
             }
            },
            "type": "scatterpolar"
           }
          ],
          "scatterpolargl": [
           {
            "marker": {
             "colorbar": {
              "outlinewidth": 0,
              "ticks": ""
             }
            },
            "type": "scatterpolargl"
           }
          ],
          "scatterternary": [
           {
            "marker": {
             "colorbar": {
              "outlinewidth": 0,
              "ticks": ""
             }
            },
            "type": "scatterternary"
           }
          ],
          "surface": [
           {
            "colorbar": {
             "outlinewidth": 0,
             "ticks": ""
            },
            "colorscale": [
             [
              0,
              "#0d0887"
             ],
             [
              0.1111111111111111,
              "#46039f"
             ],
             [
              0.2222222222222222,
              "#7201a8"
             ],
             [
              0.3333333333333333,
              "#9c179e"
             ],
             [
              0.4444444444444444,
              "#bd3786"
             ],
             [
              0.5555555555555556,
              "#d8576b"
             ],
             [
              0.6666666666666666,
              "#ed7953"
             ],
             [
              0.7777777777777778,
              "#fb9f3a"
             ],
             [
              0.8888888888888888,
              "#fdca26"
             ],
             [
              1,
              "#f0f921"
             ]
            ],
            "type": "surface"
           }
          ],
          "table": [
           {
            "cells": {
             "fill": {
              "color": "#EBF0F8"
             },
             "line": {
              "color": "white"
             }
            },
            "header": {
             "fill": {
              "color": "#C8D4E3"
             },
             "line": {
              "color": "white"
             }
            },
            "type": "table"
           }
          ]
         },
         "layout": {
          "annotationdefaults": {
           "arrowcolor": "#2a3f5f",
           "arrowhead": 0,
           "arrowwidth": 1
          },
          "autotypenumbers": "strict",
          "coloraxis": {
           "colorbar": {
            "outlinewidth": 0,
            "ticks": ""
           }
          },
          "colorscale": {
           "diverging": [
            [
             0,
             "#8e0152"
            ],
            [
             0.1,
             "#c51b7d"
            ],
            [
             0.2,
             "#de77ae"
            ],
            [
             0.3,
             "#f1b6da"
            ],
            [
             0.4,
             "#fde0ef"
            ],
            [
             0.5,
             "#f7f7f7"
            ],
            [
             0.6,
             "#e6f5d0"
            ],
            [
             0.7,
             "#b8e186"
            ],
            [
             0.8,
             "#7fbc41"
            ],
            [
             0.9,
             "#4d9221"
            ],
            [
             1,
             "#276419"
            ]
           ],
           "sequential": [
            [
             0,
             "#0d0887"
            ],
            [
             0.1111111111111111,
             "#46039f"
            ],
            [
             0.2222222222222222,
             "#7201a8"
            ],
            [
             0.3333333333333333,
             "#9c179e"
            ],
            [
             0.4444444444444444,
             "#bd3786"
            ],
            [
             0.5555555555555556,
             "#d8576b"
            ],
            [
             0.6666666666666666,
             "#ed7953"
            ],
            [
             0.7777777777777778,
             "#fb9f3a"
            ],
            [
             0.8888888888888888,
             "#fdca26"
            ],
            [
             1,
             "#f0f921"
            ]
           ],
           "sequentialminus": [
            [
             0,
             "#0d0887"
            ],
            [
             0.1111111111111111,
             "#46039f"
            ],
            [
             0.2222222222222222,
             "#7201a8"
            ],
            [
             0.3333333333333333,
             "#9c179e"
            ],
            [
             0.4444444444444444,
             "#bd3786"
            ],
            [
             0.5555555555555556,
             "#d8576b"
            ],
            [
             0.6666666666666666,
             "#ed7953"
            ],
            [
             0.7777777777777778,
             "#fb9f3a"
            ],
            [
             0.8888888888888888,
             "#fdca26"
            ],
            [
             1,
             "#f0f921"
            ]
           ]
          },
          "colorway": [
           "#636efa",
           "#EF553B",
           "#00cc96",
           "#ab63fa",
           "#FFA15A",
           "#19d3f3",
           "#FF6692",
           "#B6E880",
           "#FF97FF",
           "#FECB52"
          ],
          "font": {
           "color": "#2a3f5f"
          },
          "geo": {
           "bgcolor": "white",
           "lakecolor": "white",
           "landcolor": "#E5ECF6",
           "showlakes": true,
           "showland": true,
           "subunitcolor": "white"
          },
          "hoverlabel": {
           "align": "left"
          },
          "hovermode": "closest",
          "mapbox": {
           "style": "light"
          },
          "paper_bgcolor": "white",
          "plot_bgcolor": "#E5ECF6",
          "polar": {
           "angularaxis": {
            "gridcolor": "white",
            "linecolor": "white",
            "ticks": ""
           },
           "bgcolor": "#E5ECF6",
           "radialaxis": {
            "gridcolor": "white",
            "linecolor": "white",
            "ticks": ""
           }
          },
          "scene": {
           "xaxis": {
            "backgroundcolor": "#E5ECF6",
            "gridcolor": "white",
            "gridwidth": 2,
            "linecolor": "white",
            "showbackground": true,
            "ticks": "",
            "zerolinecolor": "white"
           },
           "yaxis": {
            "backgroundcolor": "#E5ECF6",
            "gridcolor": "white",
            "gridwidth": 2,
            "linecolor": "white",
            "showbackground": true,
            "ticks": "",
            "zerolinecolor": "white"
           },
           "zaxis": {
            "backgroundcolor": "#E5ECF6",
            "gridcolor": "white",
            "gridwidth": 2,
            "linecolor": "white",
            "showbackground": true,
            "ticks": "",
            "zerolinecolor": "white"
           }
          },
          "shapedefaults": {
           "line": {
            "color": "#2a3f5f"
           }
          },
          "ternary": {
           "aaxis": {
            "gridcolor": "white",
            "linecolor": "white",
            "ticks": ""
           },
           "baxis": {
            "gridcolor": "white",
            "linecolor": "white",
            "ticks": ""
           },
           "bgcolor": "#E5ECF6",
           "caxis": {
            "gridcolor": "white",
            "linecolor": "white",
            "ticks": ""
           }
          },
          "title": {
           "x": 0.05
          },
          "xaxis": {
           "automargin": true,
           "gridcolor": "white",
           "linecolor": "white",
           "ticks": "",
           "title": {
            "standoff": 15
           },
           "zerolinecolor": "white",
           "zerolinewidth": 2
          },
          "yaxis": {
           "automargin": true,
           "gridcolor": "white",
           "linecolor": "white",
           "ticks": "",
           "title": {
            "standoff": 15
           },
           "zerolinecolor": "white",
           "zerolinewidth": 2
          }
         }
        },
        "title": {
         "text": "Label: Abomasnow"
        },
        "width": 500,
        "xaxis": {
         "anchor": "y",
         "domain": [
          0,
          1
         ],
         "showgrid": false,
         "showticklabels": false,
         "visible": false,
         "zeroline": false
        },
        "yaxis": {
         "anchor": "x",
         "domain": [
          0,
          1
         ],
         "showgrid": false,
         "showticklabels": false,
         "visible": false,
         "zeroline": false
        }
       }
      }
     },
     "metadata": {},
     "output_type": "display_data"
    },
    {
     "data": {
      "application/vnd.plotly.v1+json": {
       "config": {
        "plotlyServerURL": "https://plot.ly"
       },
       "data": [
        {
         "hovertemplate": "x: %{x}<br>y: %{y}<br>color: [%{z[0]}, %{z[1]}, %{z[2]}]<extra></extra>",
         "name": "0",
         "source": "data:image/png;base64,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",
         "type": "image",
         "xaxis": "x",
         "yaxis": "y"
        }
       ],
       "layout": {
        "height": 350,
        "margin": {
         "l": 0,
         "t": 60
        },
        "shapes": [
         {
          "line": {
           "color": "black",
           "width": 2
          },
          "type": "rect",
          "x0": 0,
          "x1": 96,
          "xref": "x",
          "y0": 0,
          "y1": 96,
          "yref": "y"
         }
        ],
        "template": {
         "data": {
          "bar": [
           {
            "error_x": {
             "color": "#2a3f5f"
            },
            "error_y": {
             "color": "#2a3f5f"
            },
            "marker": {
             "line": {
              "color": "#E5ECF6",
              "width": 0.5
             },
             "pattern": {
              "fillmode": "overlay",
              "size": 10,
              "solidity": 0.2
             }
            },
            "type": "bar"
           }
          ],
          "barpolar": [
           {
            "marker": {
             "line": {
              "color": "#E5ECF6",
              "width": 0.5
             },
             "pattern": {
              "fillmode": "overlay",
              "size": 10,
              "solidity": 0.2
             }
            },
            "type": "barpolar"
           }
          ],
          "carpet": [
           {
            "aaxis": {
             "endlinecolor": "#2a3f5f",
             "gridcolor": "white",
             "linecolor": "white",
             "minorgridcolor": "white",
             "startlinecolor": "#2a3f5f"
            },
            "baxis": {
             "endlinecolor": "#2a3f5f",
             "gridcolor": "white",
             "linecolor": "white",
             "minorgridcolor": "white",
             "startlinecolor": "#2a3f5f"
            },
            "type": "carpet"
           }
          ],
          "choropleth": [
           {
            "colorbar": {
             "outlinewidth": 0,
             "ticks": ""
            },
            "type": "choropleth"
           }
          ],
          "contour": [
           {
            "colorbar": {
             "outlinewidth": 0,
             "ticks": ""
            },
            "colorscale": [
             [
              0,
              "#0d0887"
             ],
             [
              0.1111111111111111,
              "#46039f"
             ],
             [
              0.2222222222222222,
              "#7201a8"
             ],
             [
              0.3333333333333333,
              "#9c179e"
             ],
             [
              0.4444444444444444,
              "#bd3786"
             ],
             [
              0.5555555555555556,
              "#d8576b"
             ],
             [
              0.6666666666666666,
              "#ed7953"
             ],
             [
              0.7777777777777778,
              "#fb9f3a"
             ],
             [
              0.8888888888888888,
              "#fdca26"
             ],
             [
              1,
              "#f0f921"
             ]
            ],
            "type": "contour"
           }
          ],
          "contourcarpet": [
           {
            "colorbar": {
             "outlinewidth": 0,
             "ticks": ""
            },
            "type": "contourcarpet"
           }
          ],
          "heatmap": [
           {
            "colorbar": {
             "outlinewidth": 0,
             "ticks": ""
            },
            "colorscale": [
             [
              0,
              "#0d0887"
             ],
             [
              0.1111111111111111,
              "#46039f"
             ],
             [
              0.2222222222222222,
              "#7201a8"
             ],
             [
              0.3333333333333333,
              "#9c179e"
             ],
             [
              0.4444444444444444,
              "#bd3786"
             ],
             [
              0.5555555555555556,
              "#d8576b"
             ],
             [
              0.6666666666666666,
              "#ed7953"
             ],
             [
              0.7777777777777778,
              "#fb9f3a"
             ],
             [
              0.8888888888888888,
              "#fdca26"
             ],
             [
              1,
              "#f0f921"
             ]
            ],
            "type": "heatmap"
           }
          ],
          "heatmapgl": [
           {
            "colorbar": {
             "outlinewidth": 0,
             "ticks": ""
            },
            "colorscale": [
             [
              0,
              "#0d0887"
             ],
             [
              0.1111111111111111,
              "#46039f"
             ],
             [
              0.2222222222222222,
              "#7201a8"
             ],
             [
              0.3333333333333333,
              "#9c179e"
             ],
             [
              0.4444444444444444,
              "#bd3786"
             ],
             [
              0.5555555555555556,
              "#d8576b"
             ],
             [
              0.6666666666666666,
              "#ed7953"
             ],
             [
              0.7777777777777778,
              "#fb9f3a"
             ],
             [
              0.8888888888888888,
              "#fdca26"
             ],
             [
              1,
              "#f0f921"
             ]
            ],
            "type": "heatmapgl"
           }
          ],
          "histogram": [
           {
            "marker": {
             "pattern": {
              "fillmode": "overlay",
              "size": 10,
              "solidity": 0.2
             }
            },
            "type": "histogram"
           }
          ],
          "histogram2d": [
           {
            "colorbar": {
             "outlinewidth": 0,
             "ticks": ""
            },
            "colorscale": [
             [
              0,
              "#0d0887"
             ],
             [
              0.1111111111111111,
              "#46039f"
             ],
             [
              0.2222222222222222,
              "#7201a8"
             ],
             [
              0.3333333333333333,
              "#9c179e"
             ],
             [
              0.4444444444444444,
              "#bd3786"
             ],
             [
              0.5555555555555556,
              "#d8576b"
             ],
             [
              0.6666666666666666,
              "#ed7953"
             ],
             [
              0.7777777777777778,
              "#fb9f3a"
             ],
             [
              0.8888888888888888,
              "#fdca26"
             ],
             [
              1,
              "#f0f921"
             ]
            ],
            "type": "histogram2d"
           }
          ],
          "histogram2dcontour": [
           {
            "colorbar": {
             "outlinewidth": 0,
             "ticks": ""
            },
            "colorscale": [
             [
              0,
              "#0d0887"
             ],
             [
              0.1111111111111111,
              "#46039f"
             ],
             [
              0.2222222222222222,
              "#7201a8"
             ],
             [
              0.3333333333333333,
              "#9c179e"
             ],
             [
              0.4444444444444444,
              "#bd3786"
             ],
             [
              0.5555555555555556,
              "#d8576b"
             ],
             [
              0.6666666666666666,
              "#ed7953"
             ],
             [
              0.7777777777777778,
              "#fb9f3a"
             ],
             [
              0.8888888888888888,
              "#fdca26"
             ],
             [
              1,
              "#f0f921"
             ]
            ],
            "type": "histogram2dcontour"
           }
          ],
          "mesh3d": [
           {
            "colorbar": {
             "outlinewidth": 0,
             "ticks": ""
            },
            "type": "mesh3d"
           }
          ],
          "parcoords": [
           {
            "line": {
             "colorbar": {
              "outlinewidth": 0,
              "ticks": ""
             }
            },
            "type": "parcoords"
           }
          ],
          "pie": [
           {
            "automargin": true,
            "type": "pie"
           }
          ],
          "scatter": [
           {
            "fillpattern": {
             "fillmode": "overlay",
             "size": 10,
             "solidity": 0.2
            },
            "type": "scatter"
           }
          ],
          "scatter3d": [
           {
            "line": {
             "colorbar": {
              "outlinewidth": 0,
              "ticks": ""
             }
            },
            "marker": {
             "colorbar": {
              "outlinewidth": 0,
              "ticks": ""
             }
            },
            "type": "scatter3d"
           }
          ],
          "scattercarpet": [
           {
            "marker": {
             "colorbar": {
              "outlinewidth": 0,
              "ticks": ""
             }
            },
            "type": "scattercarpet"
           }
          ],
          "scattergeo": [
           {
            "marker": {
             "colorbar": {
              "outlinewidth": 0,
              "ticks": ""
             }
            },
            "type": "scattergeo"
           }
          ],
          "scattergl": [
           {
            "marker": {
             "colorbar": {
              "outlinewidth": 0,
              "ticks": ""
             }
            },
            "type": "scattergl"
           }
          ],
          "scattermapbox": [
           {
            "marker": {
             "colorbar": {
              "outlinewidth": 0,
              "ticks": ""
             }
            },
            "type": "scattermapbox"
           }
          ],
          "scatterpolar": [
           {
            "marker": {
             "colorbar": {
              "outlinewidth": 0,
              "ticks": ""
             }
            },
            "type": "scatterpolar"
           }
          ],
          "scatterpolargl": [
           {
            "marker": {
             "colorbar": {
              "outlinewidth": 0,
              "ticks": ""
             }
            },
            "type": "scatterpolargl"
           }
          ],
          "scatterternary": [
           {
            "marker": {
             "colorbar": {
              "outlinewidth": 0,
              "ticks": ""
             }
            },
            "type": "scatterternary"
           }
          ],
          "surface": [
           {
            "colorbar": {
             "outlinewidth": 0,
             "ticks": ""
            },
            "colorscale": [
             [
              0,
              "#0d0887"
             ],
             [
              0.1111111111111111,
              "#46039f"
             ],
             [
              0.2222222222222222,
              "#7201a8"
             ],
             [
              0.3333333333333333,
              "#9c179e"
             ],
             [
              0.4444444444444444,
              "#bd3786"
             ],
             [
              0.5555555555555556,
              "#d8576b"
             ],
             [
              0.6666666666666666,
              "#ed7953"
             ],
             [
              0.7777777777777778,
              "#fb9f3a"
             ],
             [
              0.8888888888888888,
              "#fdca26"
             ],
             [
              1,
              "#f0f921"
             ]
            ],
            "type": "surface"
           }
          ],
          "table": [
           {
            "cells": {
             "fill": {
              "color": "#EBF0F8"
             },
             "line": {
              "color": "white"
             }
            },
            "header": {
             "fill": {
              "color": "#C8D4E3"
             },
             "line": {
              "color": "white"
             }
            },
            "type": "table"
           }
          ]
         },
         "layout": {
          "annotationdefaults": {
           "arrowcolor": "#2a3f5f",
           "arrowhead": 0,
           "arrowwidth": 1
          },
          "autotypenumbers": "strict",
          "coloraxis": {
           "colorbar": {
            "outlinewidth": 0,
            "ticks": ""
           }
          },
          "colorscale": {
           "diverging": [
            [
             0,
             "#8e0152"
            ],
            [
             0.1,
             "#c51b7d"
            ],
            [
             0.2,
             "#de77ae"
            ],
            [
             0.3,
             "#f1b6da"
            ],
            [
             0.4,
             "#fde0ef"
            ],
            [
             0.5,
             "#f7f7f7"
            ],
            [
             0.6,
             "#e6f5d0"
            ],
            [
             0.7,
             "#b8e186"
            ],
            [
             0.8,
             "#7fbc41"
            ],
            [
             0.9,
             "#4d9221"
            ],
            [
             1,
             "#276419"
            ]
           ],
           "sequential": [
            [
             0,
             "#0d0887"
            ],
            [
             0.1111111111111111,
             "#46039f"
            ],
            [
             0.2222222222222222,
             "#7201a8"
            ],
            [
             0.3333333333333333,
             "#9c179e"
            ],
            [
             0.4444444444444444,
             "#bd3786"
            ],
            [
             0.5555555555555556,
             "#d8576b"
            ],
            [
             0.6666666666666666,
             "#ed7953"
            ],
            [
             0.7777777777777778,
             "#fb9f3a"
            ],
            [
             0.8888888888888888,
             "#fdca26"
            ],
            [
             1,
             "#f0f921"
            ]
           ],
           "sequentialminus": [
            [
             0,
             "#0d0887"
            ],
            [
             0.1111111111111111,
             "#46039f"
            ],
            [
             0.2222222222222222,
             "#7201a8"
            ],
            [
             0.3333333333333333,
             "#9c179e"
            ],
            [
             0.4444444444444444,
             "#bd3786"
            ],
            [
             0.5555555555555556,
             "#d8576b"
            ],
            [
             0.6666666666666666,
             "#ed7953"
            ],
            [
             0.7777777777777778,
             "#fb9f3a"
            ],
            [
             0.8888888888888888,
             "#fdca26"
            ],
            [
             1,
             "#f0f921"
            ]
           ]
          },
          "colorway": [
           "#636efa",
           "#EF553B",
           "#00cc96",
           "#ab63fa",
           "#FFA15A",
           "#19d3f3",
           "#FF6692",
           "#B6E880",
           "#FF97FF",
           "#FECB52"
          ],
          "font": {
           "color": "#2a3f5f"
          },
          "geo": {
           "bgcolor": "white",
           "lakecolor": "white",
           "landcolor": "#E5ECF6",
           "showlakes": true,
           "showland": true,
           "subunitcolor": "white"
          },
          "hoverlabel": {
           "align": "left"
          },
          "hovermode": "closest",
          "mapbox": {
           "style": "light"
          },
          "paper_bgcolor": "white",
          "plot_bgcolor": "#E5ECF6",
          "polar": {
           "angularaxis": {
            "gridcolor": "white",
            "linecolor": "white",
            "ticks": ""
           },
           "bgcolor": "#E5ECF6",
           "radialaxis": {
            "gridcolor": "white",
            "linecolor": "white",
            "ticks": ""
           }
          },
          "scene": {
           "xaxis": {
            "backgroundcolor": "#E5ECF6",
            "gridcolor": "white",
            "gridwidth": 2,
            "linecolor": "white",
            "showbackground": true,
            "ticks": "",
            "zerolinecolor": "white"
           },
           "yaxis": {
            "backgroundcolor": "#E5ECF6",
            "gridcolor": "white",
            "gridwidth": 2,
            "linecolor": "white",
            "showbackground": true,
            "ticks": "",
            "zerolinecolor": "white"
           },
           "zaxis": {
            "backgroundcolor": "#E5ECF6",
            "gridcolor": "white",
            "gridwidth": 2,
            "linecolor": "white",
            "showbackground": true,
            "ticks": "",
            "zerolinecolor": "white"
           }
          },
          "shapedefaults": {
           "line": {
            "color": "#2a3f5f"
           }
          },
          "ternary": {
           "aaxis": {
            "gridcolor": "white",
            "linecolor": "white",
            "ticks": ""
           },
           "baxis": {
            "gridcolor": "white",
            "linecolor": "white",
            "ticks": ""
           },
           "bgcolor": "#E5ECF6",
           "caxis": {
            "gridcolor": "white",
            "linecolor": "white",
            "ticks": ""
           }
          },
          "title": {
           "x": 0.05
          },
          "xaxis": {
           "automargin": true,
           "gridcolor": "white",
           "linecolor": "white",
           "ticks": "",
           "title": {
            "standoff": 15
           },
           "zerolinecolor": "white",
           "zerolinewidth": 2
          },
          "yaxis": {
           "automargin": true,
           "gridcolor": "white",
           "linecolor": "white",
           "ticks": "",
           "title": {
            "standoff": 15
           },
           "zerolinecolor": "white",
           "zerolinewidth": 2
          }
         }
        },
        "title": {
         "text": "Label: Abomasnow"
        },
        "width": 500,
        "xaxis": {
         "anchor": "y",
         "domain": [
          0,
          1
         ],
         "showgrid": false,
         "showticklabels": false,
         "visible": false,
         "zeroline": false
        },
        "yaxis": {
         "anchor": "x",
         "domain": [
          0,
          1
         ],
         "showgrid": false,
         "showticklabels": false,
         "visible": false,
         "zeroline": false
        }
       }
      }
     },
     "metadata": {},
     "output_type": "display_data"
    },
    {
     "data": {
      "application/vnd.plotly.v1+json": {
       "config": {
        "plotlyServerURL": "https://plot.ly"
       },
       "data": [
        {
         "hovertemplate": "x: %{x}<br>y: %{y}<br>color: [%{z[0]}, %{z[1]}, %{z[2]}]<extra></extra>",
         "name": "0",
         "source": "data:image/png;base64,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",
         "type": "image",
         "xaxis": "x",
         "yaxis": "y"
        }
       ],
       "layout": {
        "height": 350,
        "margin": {
         "l": 0,
         "t": 60
        },
        "shapes": [
         {
          "line": {
           "color": "black",
           "width": 2
          },
          "type": "rect",
          "x0": 0,
          "x1": 96,
          "xref": "x",
          "y0": 0,
          "y1": 96,
          "yref": "y"
         }
        ],
        "template": {
         "data": {
          "bar": [
           {
            "error_x": {
             "color": "#2a3f5f"
            },
            "error_y": {
             "color": "#2a3f5f"
            },
            "marker": {
             "line": {
              "color": "#E5ECF6",
              "width": 0.5
             },
             "pattern": {
              "fillmode": "overlay",
              "size": 10,
              "solidity": 0.2
             }
            },
            "type": "bar"
           }
          ],
          "barpolar": [
           {
            "marker": {
             "line": {
              "color": "#E5ECF6",
              "width": 0.5
             },
             "pattern": {
              "fillmode": "overlay",
              "size": 10,
              "solidity": 0.2
             }
            },
            "type": "barpolar"
           }
          ],
          "carpet": [
           {
            "aaxis": {
             "endlinecolor": "#2a3f5f",
             "gridcolor": "white",
             "linecolor": "white",
             "minorgridcolor": "white",
             "startlinecolor": "#2a3f5f"
            },
            "baxis": {
             "endlinecolor": "#2a3f5f",
             "gridcolor": "white",
             "linecolor": "white",
             "minorgridcolor": "white",
             "startlinecolor": "#2a3f5f"
            },
            "type": "carpet"
           }
          ],
          "choropleth": [
           {
            "colorbar": {
             "outlinewidth": 0,
             "ticks": ""
            },
            "type": "choropleth"
           }
          ],
          "contour": [
           {
            "colorbar": {
             "outlinewidth": 0,
             "ticks": ""
            },
            "colorscale": [
             [
              0,
              "#0d0887"
             ],
             [
              0.1111111111111111,
              "#46039f"
             ],
             [
              0.2222222222222222,
              "#7201a8"
             ],
             [
              0.3333333333333333,
              "#9c179e"
             ],
             [
              0.4444444444444444,
              "#bd3786"
             ],
             [
              0.5555555555555556,
              "#d8576b"
             ],
             [
              0.6666666666666666,
              "#ed7953"
             ],
             [
              0.7777777777777778,
              "#fb9f3a"
             ],
             [
              0.8888888888888888,
              "#fdca26"
             ],
             [
              1,
              "#f0f921"
             ]
            ],
            "type": "contour"
           }
          ],
          "contourcarpet": [
           {
            "colorbar": {
             "outlinewidth": 0,
             "ticks": ""
            },
            "type": "contourcarpet"
           }
          ],
          "heatmap": [
           {
            "colorbar": {
             "outlinewidth": 0,
             "ticks": ""
            },
            "colorscale": [
             [
              0,
              "#0d0887"
             ],
             [
              0.1111111111111111,
              "#46039f"
             ],
             [
              0.2222222222222222,
              "#7201a8"
             ],
             [
              0.3333333333333333,
              "#9c179e"
             ],
             [
              0.4444444444444444,
              "#bd3786"
             ],
             [
              0.5555555555555556,
              "#d8576b"
             ],
             [
              0.6666666666666666,
              "#ed7953"
             ],
             [
              0.7777777777777778,
              "#fb9f3a"
             ],
             [
              0.8888888888888888,
              "#fdca26"
             ],
             [
              1,
              "#f0f921"
             ]
            ],
            "type": "heatmap"
           }
          ],
          "heatmapgl": [
           {
            "colorbar": {
             "outlinewidth": 0,
             "ticks": ""
            },
            "colorscale": [
             [
              0,
              "#0d0887"
             ],
             [
              0.1111111111111111,
              "#46039f"
             ],
             [
              0.2222222222222222,
              "#7201a8"
             ],
             [
              0.3333333333333333,
              "#9c179e"
             ],
             [
              0.4444444444444444,
              "#bd3786"
             ],
             [
              0.5555555555555556,
              "#d8576b"
             ],
             [
              0.6666666666666666,
              "#ed7953"
             ],
             [
              0.7777777777777778,
              "#fb9f3a"
             ],
             [
              0.8888888888888888,
              "#fdca26"
             ],
             [
              1,
              "#f0f921"
             ]
            ],
            "type": "heatmapgl"
           }
          ],
          "histogram": [
           {
            "marker": {
             "pattern": {
              "fillmode": "overlay",
              "size": 10,
              "solidity": 0.2
             }
            },
            "type": "histogram"
           }
          ],
          "histogram2d": [
           {
            "colorbar": {
             "outlinewidth": 0,
             "ticks": ""
            },
            "colorscale": [
             [
              0,
              "#0d0887"
             ],
             [
              0.1111111111111111,
              "#46039f"
             ],
             [
              0.2222222222222222,
              "#7201a8"
             ],
             [
              0.3333333333333333,
              "#9c179e"
             ],
             [
              0.4444444444444444,
              "#bd3786"
             ],
             [
              0.5555555555555556,
              "#d8576b"
             ],
             [
              0.6666666666666666,
              "#ed7953"
             ],
             [
              0.7777777777777778,
              "#fb9f3a"
             ],
             [
              0.8888888888888888,
              "#fdca26"
             ],
             [
              1,
              "#f0f921"
             ]
            ],
            "type": "histogram2d"
           }
          ],
          "histogram2dcontour": [
           {
            "colorbar": {
             "outlinewidth": 0,
             "ticks": ""
            },
            "colorscale": [
             [
              0,
              "#0d0887"
             ],
             [
              0.1111111111111111,
              "#46039f"
             ],
             [
              0.2222222222222222,
              "#7201a8"
             ],
             [
              0.3333333333333333,
              "#9c179e"
             ],
             [
              0.4444444444444444,
              "#bd3786"
             ],
             [
              0.5555555555555556,
              "#d8576b"
             ],
             [
              0.6666666666666666,
              "#ed7953"
             ],
             [
              0.7777777777777778,
              "#fb9f3a"
             ],
             [
              0.8888888888888888,
              "#fdca26"
             ],
             [
              1,
              "#f0f921"
             ]
            ],
            "type": "histogram2dcontour"
           }
          ],
          "mesh3d": [
           {
            "colorbar": {
             "outlinewidth": 0,
             "ticks": ""
            },
            "type": "mesh3d"
           }
          ],
          "parcoords": [
           {
            "line": {
             "colorbar": {
              "outlinewidth": 0,
              "ticks": ""
             }
            },
            "type": "parcoords"
           }
          ],
          "pie": [
           {
            "automargin": true,
            "type": "pie"
           }
          ],
          "scatter": [
           {
            "fillpattern": {
             "fillmode": "overlay",
             "size": 10,
             "solidity": 0.2
            },
            "type": "scatter"
           }
          ],
          "scatter3d": [
           {
            "line": {
             "colorbar": {
              "outlinewidth": 0,
              "ticks": ""
             }
            },
            "marker": {
             "colorbar": {
              "outlinewidth": 0,
              "ticks": ""
             }
            },
            "type": "scatter3d"
           }
          ],
          "scattercarpet": [
           {
            "marker": {
             "colorbar": {
              "outlinewidth": 0,
              "ticks": ""
             }
            },
            "type": "scattercarpet"
           }
          ],
          "scattergeo": [
           {
            "marker": {
             "colorbar": {
              "outlinewidth": 0,
              "ticks": ""
             }
            },
            "type": "scattergeo"
           }
          ],
          "scattergl": [
           {
            "marker": {
             "colorbar": {
              "outlinewidth": 0,
              "ticks": ""
             }
            },
            "type": "scattergl"
           }
          ],
          "scattermapbox": [
           {
            "marker": {
             "colorbar": {
              "outlinewidth": 0,
              "ticks": ""
             }
            },
            "type": "scattermapbox"
           }
          ],
          "scatterpolar": [
           {
            "marker": {
             "colorbar": {
              "outlinewidth": 0,
              "ticks": ""
             }
            },
            "type": "scatterpolar"
           }
          ],
          "scatterpolargl": [
           {
            "marker": {
             "colorbar": {
              "outlinewidth": 0,
              "ticks": ""
             }
            },
            "type": "scatterpolargl"
           }
          ],
          "scatterternary": [
           {
            "marker": {
             "colorbar": {
              "outlinewidth": 0,
              "ticks": ""
             }
            },
            "type": "scatterternary"
           }
          ],
          "surface": [
           {
            "colorbar": {
             "outlinewidth": 0,
             "ticks": ""
            },
            "colorscale": [
             [
              0,
              "#0d0887"
             ],
             [
              0.1111111111111111,
              "#46039f"
             ],
             [
              0.2222222222222222,
              "#7201a8"
             ],
             [
              0.3333333333333333,
              "#9c179e"
             ],
             [
              0.4444444444444444,
              "#bd3786"
             ],
             [
              0.5555555555555556,
              "#d8576b"
             ],
             [
              0.6666666666666666,
              "#ed7953"
             ],
             [
              0.7777777777777778,
              "#fb9f3a"
             ],
             [
              0.8888888888888888,
              "#fdca26"
             ],
             [
              1,
              "#f0f921"
             ]
            ],
            "type": "surface"
           }
          ],
          "table": [
           {
            "cells": {
             "fill": {
              "color": "#EBF0F8"
             },
             "line": {
              "color": "white"
             }
            },
            "header": {
             "fill": {
              "color": "#C8D4E3"
             },
             "line": {
              "color": "white"
             }
            },
            "type": "table"
           }
          ]
         },
         "layout": {
          "annotationdefaults": {
           "arrowcolor": "#2a3f5f",
           "arrowhead": 0,
           "arrowwidth": 1
          },
          "autotypenumbers": "strict",
          "coloraxis": {
           "colorbar": {
            "outlinewidth": 0,
            "ticks": ""
           }
          },
          "colorscale": {
           "diverging": [
            [
             0,
             "#8e0152"
            ],
            [
             0.1,
             "#c51b7d"
            ],
            [
             0.2,
             "#de77ae"
            ],
            [
             0.3,
             "#f1b6da"
            ],
            [
             0.4,
             "#fde0ef"
            ],
            [
             0.5,
             "#f7f7f7"
            ],
            [
             0.6,
             "#e6f5d0"
            ],
            [
             0.7,
             "#b8e186"
            ],
            [
             0.8,
             "#7fbc41"
            ],
            [
             0.9,
             "#4d9221"
            ],
            [
             1,
             "#276419"
            ]
           ],
           "sequential": [
            [
             0,
             "#0d0887"
            ],
            [
             0.1111111111111111,
             "#46039f"
            ],
            [
             0.2222222222222222,
             "#7201a8"
            ],
            [
             0.3333333333333333,
             "#9c179e"
            ],
            [
             0.4444444444444444,
             "#bd3786"
            ],
            [
             0.5555555555555556,
             "#d8576b"
            ],
            [
             0.6666666666666666,
             "#ed7953"
            ],
            [
             0.7777777777777778,
             "#fb9f3a"
            ],
            [
             0.8888888888888888,
             "#fdca26"
            ],
            [
             1,
             "#f0f921"
            ]
           ],
           "sequentialminus": [
            [
             0,
             "#0d0887"
            ],
            [
             0.1111111111111111,
             "#46039f"
            ],
            [
             0.2222222222222222,
             "#7201a8"
            ],
            [
             0.3333333333333333,
             "#9c179e"
            ],
            [
             0.4444444444444444,
             "#bd3786"
            ],
            [
             0.5555555555555556,
             "#d8576b"
            ],
            [
             0.6666666666666666,
             "#ed7953"
            ],
            [
             0.7777777777777778,
             "#fb9f3a"
            ],
            [
             0.8888888888888888,
             "#fdca26"
            ],
            [
             1,
             "#f0f921"
            ]
           ]
          },
          "colorway": [
           "#636efa",
           "#EF553B",
           "#00cc96",
           "#ab63fa",
           "#FFA15A",
           "#19d3f3",
           "#FF6692",
           "#B6E880",
           "#FF97FF",
           "#FECB52"
          ],
          "font": {
           "color": "#2a3f5f"
          },
          "geo": {
           "bgcolor": "white",
           "lakecolor": "white",
           "landcolor": "#E5ECF6",
           "showlakes": true,
           "showland": true,
           "subunitcolor": "white"
          },
          "hoverlabel": {
           "align": "left"
          },
          "hovermode": "closest",
          "mapbox": {
           "style": "light"
          },
          "paper_bgcolor": "white",
          "plot_bgcolor": "#E5ECF6",
          "polar": {
           "angularaxis": {
            "gridcolor": "white",
            "linecolor": "white",
            "ticks": ""
           },
           "bgcolor": "#E5ECF6",
           "radialaxis": {
            "gridcolor": "white",
            "linecolor": "white",
            "ticks": ""
           }
          },
          "scene": {
           "xaxis": {
            "backgroundcolor": "#E5ECF6",
            "gridcolor": "white",
            "gridwidth": 2,
            "linecolor": "white",
            "showbackground": true,
            "ticks": "",
            "zerolinecolor": "white"
           },
           "yaxis": {
            "backgroundcolor": "#E5ECF6",
            "gridcolor": "white",
            "gridwidth": 2,
            "linecolor": "white",
            "showbackground": true,
            "ticks": "",
            "zerolinecolor": "white"
           },
           "zaxis": {
            "backgroundcolor": "#E5ECF6",
            "gridcolor": "white",
            "gridwidth": 2,
            "linecolor": "white",
            "showbackground": true,
            "ticks": "",
            "zerolinecolor": "white"
           }
          },
          "shapedefaults": {
           "line": {
            "color": "#2a3f5f"
           }
          },
          "ternary": {
           "aaxis": {
            "gridcolor": "white",
            "linecolor": "white",
            "ticks": ""
           },
           "baxis": {
            "gridcolor": "white",
            "linecolor": "white",
            "ticks": ""
           },
           "bgcolor": "#E5ECF6",
           "caxis": {
            "gridcolor": "white",
            "linecolor": "white",
            "ticks": ""
           }
          },
          "title": {
           "x": 0.05
          },
          "xaxis": {
           "automargin": true,
           "gridcolor": "white",
           "linecolor": "white",
           "ticks": "",
           "title": {
            "standoff": 15
           },
           "zerolinecolor": "white",
           "zerolinewidth": 2
          },
          "yaxis": {
           "automargin": true,
           "gridcolor": "white",
           "linecolor": "white",
           "ticks": "",
           "title": {
            "standoff": 15
           },
           "zerolinecolor": "white",
           "zerolinewidth": 2
          }
         }
        },
        "title": {
         "text": "Label: Abomasnow"
        },
        "width": 500,
        "xaxis": {
         "anchor": "y",
         "domain": [
          0,
          1
         ],
         "showgrid": false,
         "showticklabels": false,
         "visible": false,
         "zeroline": false
        },
        "yaxis": {
         "anchor": "x",
         "domain": [
          0,
          1
         ],
         "showgrid": false,
         "showticklabels": false,
         "visible": false,
         "zeroline": false
        }
       }
      }
     },
     "metadata": {},
     "output_type": "display_data"
    },
    {
     "data": {
      "application/vnd.plotly.v1+json": {
       "config": {
        "plotlyServerURL": "https://plot.ly"
       },
       "data": [
        {
         "hovertemplate": "x: %{x}<br>y: %{y}<br>color: [%{z[0]}, %{z[1]}, %{z[2]}]<extra></extra>",
         "name": "0",
         "source": "data:image/png;base64,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",
         "type": "image",
         "xaxis": "x",
         "yaxis": "y"
        }
       ],
       "layout": {
        "height": 350,
        "margin": {
         "l": 0,
         "t": 60
        },
        "shapes": [
         {
          "line": {
           "color": "black",
           "width": 2
          },
          "type": "rect",
          "x0": 0,
          "x1": 96,
          "xref": "x",
          "y0": 0,
          "y1": 96,
          "yref": "y"
         }
        ],
        "template": {
         "data": {
          "bar": [
           {
            "error_x": {
             "color": "#2a3f5f"
            },
            "error_y": {
             "color": "#2a3f5f"
            },
            "marker": {
             "line": {
              "color": "#E5ECF6",
              "width": 0.5
             },
             "pattern": {
              "fillmode": "overlay",
              "size": 10,
              "solidity": 0.2
             }
            },
            "type": "bar"
           }
          ],
          "barpolar": [
           {
            "marker": {
             "line": {
              "color": "#E5ECF6",
              "width": 0.5
             },
             "pattern": {
              "fillmode": "overlay",
              "size": 10,
              "solidity": 0.2
             }
            },
            "type": "barpolar"
           }
          ],
          "carpet": [
           {
            "aaxis": {
             "endlinecolor": "#2a3f5f",
             "gridcolor": "white",
             "linecolor": "white",
             "minorgridcolor": "white",
             "startlinecolor": "#2a3f5f"
            },
            "baxis": {
             "endlinecolor": "#2a3f5f",
             "gridcolor": "white",
             "linecolor": "white",
             "minorgridcolor": "white",
             "startlinecolor": "#2a3f5f"
            },
            "type": "carpet"
           }
          ],
          "choropleth": [
           {
            "colorbar": {
             "outlinewidth": 0,
             "ticks": ""
            },
            "type": "choropleth"
           }
          ],
          "contour": [
           {
            "colorbar": {
             "outlinewidth": 0,
             "ticks": ""
            },
            "colorscale": [
             [
              0,
              "#0d0887"
             ],
             [
              0.1111111111111111,
              "#46039f"
             ],
             [
              0.2222222222222222,
              "#7201a8"
             ],
             [
              0.3333333333333333,
              "#9c179e"
             ],
             [
              0.4444444444444444,
              "#bd3786"
             ],
             [
              0.5555555555555556,
              "#d8576b"
             ],
             [
              0.6666666666666666,
              "#ed7953"
             ],
             [
              0.7777777777777778,
              "#fb9f3a"
             ],
             [
              0.8888888888888888,
              "#fdca26"
             ],
             [
              1,
              "#f0f921"
             ]
            ],
            "type": "contour"
           }
          ],
          "contourcarpet": [
           {
            "colorbar": {
             "outlinewidth": 0,
             "ticks": ""
            },
            "type": "contourcarpet"
           }
          ],
          "heatmap": [
           {
            "colorbar": {
             "outlinewidth": 0,
             "ticks": ""
            },
            "colorscale": [
             [
              0,
              "#0d0887"
             ],
             [
              0.1111111111111111,
              "#46039f"
             ],
             [
              0.2222222222222222,
              "#7201a8"
             ],
             [
              0.3333333333333333,
              "#9c179e"
             ],
             [
              0.4444444444444444,
              "#bd3786"
             ],
             [
              0.5555555555555556,
              "#d8576b"
             ],
             [
              0.6666666666666666,
              "#ed7953"
             ],
             [
              0.7777777777777778,
              "#fb9f3a"
             ],
             [
              0.8888888888888888,
              "#fdca26"
             ],
             [
              1,
              "#f0f921"
             ]
            ],
            "type": "heatmap"
           }
          ],
          "heatmapgl": [
           {
            "colorbar": {
             "outlinewidth": 0,
             "ticks": ""
            },
            "colorscale": [
             [
              0,
              "#0d0887"
             ],
             [
              0.1111111111111111,
              "#46039f"
             ],
             [
              0.2222222222222222,
              "#7201a8"
             ],
             [
              0.3333333333333333,
              "#9c179e"
             ],
             [
              0.4444444444444444,
              "#bd3786"
             ],
             [
              0.5555555555555556,
              "#d8576b"
             ],
             [
              0.6666666666666666,
              "#ed7953"
             ],
             [
              0.7777777777777778,
              "#fb9f3a"
             ],
             [
              0.8888888888888888,
              "#fdca26"
             ],
             [
              1,
              "#f0f921"
             ]
            ],
            "type": "heatmapgl"
           }
          ],
          "histogram": [
           {
            "marker": {
             "pattern": {
              "fillmode": "overlay",
              "size": 10,
              "solidity": 0.2
             }
            },
            "type": "histogram"
           }
          ],
          "histogram2d": [
           {
            "colorbar": {
             "outlinewidth": 0,
             "ticks": ""
            },
            "colorscale": [
             [
              0,
              "#0d0887"
             ],
             [
              0.1111111111111111,
              "#46039f"
             ],
             [
              0.2222222222222222,
              "#7201a8"
             ],
             [
              0.3333333333333333,
              "#9c179e"
             ],
             [
              0.4444444444444444,
              "#bd3786"
             ],
             [
              0.5555555555555556,
              "#d8576b"
             ],
             [
              0.6666666666666666,
              "#ed7953"
             ],
             [
              0.7777777777777778,
              "#fb9f3a"
             ],
             [
              0.8888888888888888,
              "#fdca26"
             ],
             [
              1,
              "#f0f921"
             ]
            ],
            "type": "histogram2d"
           }
          ],
          "histogram2dcontour": [
           {
            "colorbar": {
             "outlinewidth": 0,
             "ticks": ""
            },
            "colorscale": [
             [
              0,
              "#0d0887"
             ],
             [
              0.1111111111111111,
              "#46039f"
             ],
             [
              0.2222222222222222,
              "#7201a8"
             ],
             [
              0.3333333333333333,
              "#9c179e"
             ],
             [
              0.4444444444444444,
              "#bd3786"
             ],
             [
              0.5555555555555556,
              "#d8576b"
             ],
             [
              0.6666666666666666,
              "#ed7953"
             ],
             [
              0.7777777777777778,
              "#fb9f3a"
             ],
             [
              0.8888888888888888,
              "#fdca26"
             ],
             [
              1,
              "#f0f921"
             ]
            ],
            "type": "histogram2dcontour"
           }
          ],
          "mesh3d": [
           {
            "colorbar": {
             "outlinewidth": 0,
             "ticks": ""
            },
            "type": "mesh3d"
           }
          ],
          "parcoords": [
           {
            "line": {
             "colorbar": {
              "outlinewidth": 0,
              "ticks": ""
             }
            },
            "type": "parcoords"
           }
          ],
          "pie": [
           {
            "automargin": true,
            "type": "pie"
           }
          ],
          "scatter": [
           {
            "fillpattern": {
             "fillmode": "overlay",
             "size": 10,
             "solidity": 0.2
            },
            "type": "scatter"
           }
          ],
          "scatter3d": [
           {
            "line": {
             "colorbar": {
              "outlinewidth": 0,
              "ticks": ""
             }
            },
            "marker": {
             "colorbar": {
              "outlinewidth": 0,
              "ticks": ""
             }
            },
            "type": "scatter3d"
           }
          ],
          "scattercarpet": [
           {
            "marker": {
             "colorbar": {
              "outlinewidth": 0,
              "ticks": ""
             }
            },
            "type": "scattercarpet"
           }
          ],
          "scattergeo": [
           {
            "marker": {
             "colorbar": {
              "outlinewidth": 0,
              "ticks": ""
             }
            },
            "type": "scattergeo"
           }
          ],
          "scattergl": [
           {
            "marker": {
             "colorbar": {
              "outlinewidth": 0,
              "ticks": ""
             }
            },
            "type": "scattergl"
           }
          ],
          "scattermapbox": [
           {
            "marker": {
             "colorbar": {
              "outlinewidth": 0,
              "ticks": ""
             }
            },
            "type": "scattermapbox"
           }
          ],
          "scatterpolar": [
           {
            "marker": {
             "colorbar": {
              "outlinewidth": 0,
              "ticks": ""
             }
            },
            "type": "scatterpolar"
           }
          ],
          "scatterpolargl": [
           {
            "marker": {
             "colorbar": {
              "outlinewidth": 0,
              "ticks": ""
             }
            },
            "type": "scatterpolargl"
           }
          ],
          "scatterternary": [
           {
            "marker": {
             "colorbar": {
              "outlinewidth": 0,
              "ticks": ""
             }
            },
            "type": "scatterternary"
           }
          ],
          "surface": [
           {
            "colorbar": {
             "outlinewidth": 0,
             "ticks": ""
            },
            "colorscale": [
             [
              0,
              "#0d0887"
             ],
             [
              0.1111111111111111,
              "#46039f"
             ],
             [
              0.2222222222222222,
              "#7201a8"
             ],
             [
              0.3333333333333333,
              "#9c179e"
             ],
             [
              0.4444444444444444,
              "#bd3786"
             ],
             [
              0.5555555555555556,
              "#d8576b"
             ],
             [
              0.6666666666666666,
              "#ed7953"
             ],
             [
              0.7777777777777778,
              "#fb9f3a"
             ],
             [
              0.8888888888888888,
              "#fdca26"
             ],
             [
              1,
              "#f0f921"
             ]
            ],
            "type": "surface"
           }
          ],
          "table": [
           {
            "cells": {
             "fill": {
              "color": "#EBF0F8"
             },
             "line": {
              "color": "white"
             }
            },
            "header": {
             "fill": {
              "color": "#C8D4E3"
             },
             "line": {
              "color": "white"
             }
            },
            "type": "table"
           }
          ]
         },
         "layout": {
          "annotationdefaults": {
           "arrowcolor": "#2a3f5f",
           "arrowhead": 0,
           "arrowwidth": 1
          },
          "autotypenumbers": "strict",
          "coloraxis": {
           "colorbar": {
            "outlinewidth": 0,
            "ticks": ""
           }
          },
          "colorscale": {
           "diverging": [
            [
             0,
             "#8e0152"
            ],
            [
             0.1,
             "#c51b7d"
            ],
            [
             0.2,
             "#de77ae"
            ],
            [
             0.3,
             "#f1b6da"
            ],
            [
             0.4,
             "#fde0ef"
            ],
            [
             0.5,
             "#f7f7f7"
            ],
            [
             0.6,
             "#e6f5d0"
            ],
            [
             0.7,
             "#b8e186"
            ],
            [
             0.8,
             "#7fbc41"
            ],
            [
             0.9,
             "#4d9221"
            ],
            [
             1,
             "#276419"
            ]
           ],
           "sequential": [
            [
             0,
             "#0d0887"
            ],
            [
             0.1111111111111111,
             "#46039f"
            ],
            [
             0.2222222222222222,
             "#7201a8"
            ],
            [
             0.3333333333333333,
             "#9c179e"
            ],
            [
             0.4444444444444444,
             "#bd3786"
            ],
            [
             0.5555555555555556,
             "#d8576b"
            ],
            [
             0.6666666666666666,
             "#ed7953"
            ],
            [
             0.7777777777777778,
             "#fb9f3a"
            ],
            [
             0.8888888888888888,
             "#fdca26"
            ],
            [
             1,
             "#f0f921"
            ]
           ],
           "sequentialminus": [
            [
             0,
             "#0d0887"
            ],
            [
             0.1111111111111111,
             "#46039f"
            ],
            [
             0.2222222222222222,
             "#7201a8"
            ],
            [
             0.3333333333333333,
             "#9c179e"
            ],
            [
             0.4444444444444444,
             "#bd3786"
            ],
            [
             0.5555555555555556,
             "#d8576b"
            ],
            [
             0.6666666666666666,
             "#ed7953"
            ],
            [
             0.7777777777777778,
             "#fb9f3a"
            ],
            [
             0.8888888888888888,
             "#fdca26"
            ],
            [
             1,
             "#f0f921"
            ]
           ]
          },
          "colorway": [
           "#636efa",
           "#EF553B",
           "#00cc96",
           "#ab63fa",
           "#FFA15A",
           "#19d3f3",
           "#FF6692",
           "#B6E880",
           "#FF97FF",
           "#FECB52"
          ],
          "font": {
           "color": "#2a3f5f"
          },
          "geo": {
           "bgcolor": "white",
           "lakecolor": "white",
           "landcolor": "#E5ECF6",
           "showlakes": true,
           "showland": true,
           "subunitcolor": "white"
          },
          "hoverlabel": {
           "align": "left"
          },
          "hovermode": "closest",
          "mapbox": {
           "style": "light"
          },
          "paper_bgcolor": "white",
          "plot_bgcolor": "#E5ECF6",
          "polar": {
           "angularaxis": {
            "gridcolor": "white",
            "linecolor": "white",
            "ticks": ""
           },
           "bgcolor": "#E5ECF6",
           "radialaxis": {
            "gridcolor": "white",
            "linecolor": "white",
            "ticks": ""
           }
          },
          "scene": {
           "xaxis": {
            "backgroundcolor": "#E5ECF6",
            "gridcolor": "white",
            "gridwidth": 2,
            "linecolor": "white",
            "showbackground": true,
            "ticks": "",
            "zerolinecolor": "white"
           },
           "yaxis": {
            "backgroundcolor": "#E5ECF6",
            "gridcolor": "white",
            "gridwidth": 2,
            "linecolor": "white",
            "showbackground": true,
            "ticks": "",
            "zerolinecolor": "white"
           },
           "zaxis": {
            "backgroundcolor": "#E5ECF6",
            "gridcolor": "white",
            "gridwidth": 2,
            "linecolor": "white",
            "showbackground": true,
            "ticks": "",
            "zerolinecolor": "white"
           }
          },
          "shapedefaults": {
           "line": {
            "color": "#2a3f5f"
           }
          },
          "ternary": {
           "aaxis": {
            "gridcolor": "white",
            "linecolor": "white",
            "ticks": ""
           },
           "baxis": {
            "gridcolor": "white",
            "linecolor": "white",
            "ticks": ""
           },
           "bgcolor": "#E5ECF6",
           "caxis": {
            "gridcolor": "white",
            "linecolor": "white",
            "ticks": ""
           }
          },
          "title": {
           "x": 0.05
          },
          "xaxis": {
           "automargin": true,
           "gridcolor": "white",
           "linecolor": "white",
           "ticks": "",
           "title": {
            "standoff": 15
           },
           "zerolinecolor": "white",
           "zerolinewidth": 2
          },
          "yaxis": {
           "automargin": true,
           "gridcolor": "white",
           "linecolor": "white",
           "ticks": "",
           "title": {
            "standoff": 15
           },
           "zerolinecolor": "white",
           "zerolinewidth": 2
          }
         }
        },
        "title": {
         "text": "Label: Abomasnow"
        },
        "width": 500,
        "xaxis": {
         "anchor": "y",
         "domain": [
          0,
          1
         ],
         "showgrid": false,
         "showticklabels": false,
         "visible": false,
         "zeroline": false
        },
        "yaxis": {
         "anchor": "x",
         "domain": [
          0,
          1
         ],
         "showgrid": false,
         "showticklabels": false,
         "visible": false,
         "zeroline": false
        }
       }
      }
     },
     "metadata": {},
     "output_type": "display_data"
    },
    {
     "data": {
      "application/vnd.plotly.v1+json": {
       "config": {
        "plotlyServerURL": "https://plot.ly"
       },
       "data": [
        {
         "hovertemplate": "x: %{x}<br>y: %{y}<br>color: [%{z[0]}, %{z[1]}, %{z[2]}]<extra></extra>",
         "name": "0",
         "source": "data:image/png;base64,iVBORw0KGgoAAAANSUhEUgAAAGAAAABgCAIAAABt+uBvAAAyxklEQVR4Xu28Z3Rc15Xne87N91auAqpQKOQcSRAEQDDnLFGkJJKSLEqWLUdZ7Z4OM92v+73VXtMzvXrmeT37ud0eOcqWLCtQpCiJEkhApJjACBAZRM6Vc9XN6X2gzKaKYLCsntV+S79Ptersc2vf/z1hn31OXajrOviCu4NkfvEFn+YLge7DFwLdhy8Eug9fCHQfvhDoPnwh0H34QqD78IVA9+ELge4DlvnFA6PreiKenhpfWJgNutz25lV1mRb/v+CztyBN0z5u633xy//zpz9+zbcQlCQ50wKA7ivDb/7mRMAXySz40+EztqCLZ3t/8v03R3p5iGUta3UuX1WN45mXmhpfePuN933B2bJap8vtyCj9UyHzrhZF13VFUXVdJwgcAJAcGjO8cWRzz4IgOUyrqX37t7jdLghhRq1Ukp2b8S4EZgJBf0bRnxD3EWhybP7wb9vPdnQVl3q+/t3H6xvLfQvhE++PXDiXPZ2m6NrIs0+trKuvRZDMrpqMp8eGguF5s8DbQqFQRumfEHcVKB5LdV0cOvXBYHdnmKA8G7Y1V9UXJxPslXOjJz4MjftwKif66MHKLVs2YtgiFxEEaWrMuzApY0ZTMBjMLP7TIfPJ30QUpMGembd+NdBxNCqLYMejtTv3rcFxTODFseH50SGfwaLte6Lp0LNPkiSZWRkAXVURf6Bipr9G62pen3XgwIFMiz8dFhFI17T0nG/+3TPRC3M4alm5OW/PgVaaJlVViwai5rmxR7TuYvGKovIGgyGz8k0QZHZ4aujsrCzhOhqy2WyZBn86LCaQqnrPXUu9fTpfYauXo/u+1Oj2ZEEIEQQODU6fOTUr4jkWLFHG+RWez6wMAAAgHk1d98F2WIw3rd2zZx9BEJkWfzosMnzImj6kml8HTayGr8kWCopzIAIBAIl4OhpSfWjtAiTzMRFyrBCN4wyTUV2VpN7O3pPv9MVSVLGFyfPk30OgdIoLB+MMQzr/o8YBi7SgS2f73nylPym4soutS5aXkyQOIdRkubezv/1IL8cxbqvUkgMtmshHYpmVAQgOjEy++Q4xft0N5hxiAE/F74wAbqIo6o2hydd+/c7FzmuZZf9h+KQFLcwFz3Z0iaK0fksTiaFZhMjqo7lOW3lNi8HEAACCAzeG3ng/PsYDYKEJNsekGRRRiEZvv1Zq3jv8+pFLb7dPerVCWXMhYZLNRWPh221uJxpOdHxw4fBbbzP2PQBszyz+jwHG8+LspO9cx9B7h68iVIKXYvBGqHbofDUGUnIhmo4jCExMz105/OG5s9NRpclhoMqtQpEZBZLIRz9pQVIqvXDx6vyJj1R/RCDKRjRXPhYoMA+7cEX8tIi3g+EYjprjETUYDGSW/YcBmx2ZPfKjY2dOTsUpcttjRfVLqtvH9I/UliwaNCoLTDzER2O+U2fwgYFip2N0GuB4ym1MFpqx2RQnRGKaqqbmFgJXu/nuHtPc/LWE6Yy3MCl5YkZ+Q7GzlJYW7YY3udB+9czL3S4hLxaO8zxP03SmxecEz4kBX2R6elaQ0tU15YWFhZkWdwc7e/Sy/8PhIoDLTY6H9q0sKiq97JgRgE7RBpJnPz56+sjlubzQXCqOdsxkUWihi5nON+oUjiGiyAXDfDjqaz/tP/pejtW4gFjO+DzxVBGBzTR75rYUW/yBYCqZkjkeZxa5+RpCe5YamXYn6eKdoij+Owk0dmP2Vz9+7+O2QUESnMXKN7677w8T6He/HMHlJUxV+OnHauuX1J989/KJt+do0r00d3Qdrbx2dbBTwlA1zSpdqO7CmESBLVBvAwgCMQCG3n53rq0j32GpzXPOCfhHE1nzsUJF8zXnDu0roxgM4igKRUGIxu4U6NqloZ+/MnHNX1rWwv35hnVmsznD4I8nEoq3Hbtw9HeXA5NZOrcJgtn5qUu/+dnRM8eHw8nZrbtXPvvss5l17gCrlAZN4nyifPmWrRtjvQNDb7wdDxpwwixpCERQBtHNDIozmxLzREIcc1vsLgrqOoAQ5jntTrsZR1EURb0ce2R89J3xZJwzrs9zHay05RgwCCGOY4go8tGYKS8XACDEE+H+ofDAjemZwKk+ZXAwF5DFjD1CUtSdq7k/BlGQBnsnPvqw+/p5dmGwCgIapXwEMR1Phrqvsj4rwaozJVXOzGqLgQ3qj5E5M+sL6MjI+NW3O7r7NESroiCCAZxiDKU5tglOk2mSofPSyojL1LvUYWUwAgBA4BiBY6Kqz7HK+aDem8rXEaQ+i32sgq5xEAiEAAAcw6AoCpGYrmliIhnq6gkcPxEamV6IAJefqGLjCxXErn3NdXWfZ7JN07T5mcDbr3W8f/hsik+jqDnHVgYQUZHTECIG0oWhRjENFha88XjcbDbf+9lgChYtL7dm2exXOk4Hh4ZUzapjybLs1PpcodhmiGuwax54dd5hWK6wZCR6LuxnIZULGPJmdDOVUl4d1XqieQhS7iARGu2DIIIhnwQ+BIYK897L//zDy//8Qy2dtjGU02aVydxeLjslmhtzA995sqxqzy4cxz/l1B+BoqixaPLUB4OnjgURtUBHunk1qIJsFOBpISjICYexFAKIIsTbbx2DEHzve9/zeDyZV7kNbB/8KDxhPvwzBCBpUgnNJGYgNGmqUVNVTtYDEilCl8KapTTKYPlQqAzNjLCGhLHQCQDwsXL7gj4kVBB4DRtBNJ3lKDouareuTlNkcZYlV1YMNEViTh0iE2ns/KxjOOphwUjVNkPtVx/HFlvufmbOtF/7f//preCMBYiVDBUU5QlZSEkqi+mkpskYpHRdhxCiCKHIcH5+PhgM3kegYsq9Ljus685uoTytUpoWdyPJxkRfVcqUNNgnk1pApjDMqMoaCqwyXO6V5JgwawQAAEChCK6r8ZBOqBjQAdAJTiASE0kUh2qJGQCAoYjNZARAhxACAMMi6PQbryx4opx3+Vbt6W8eRGnq0/78seA4hgG3xjtwSoBEFNNwTgwPe98hCAyFFKFlC2ISQ0gMJQmUCQUjvb0DHo/H6bzreISlFaMDBuy4hoi0hVkqYSIAyYCCRaRpK4bQiKRoAkUgAGgQQgwCmkIJhgQAKJp+ZoE7nchz5y0JTwMAAARECYBVaR8flfBCI0QRCG92RAgAEFRwOUh8NONOsGxpA/vUc1vyC/Jud+WPZ2Ro+v03BxfGTBiOQ2IOIByKElVVNc88/8iSJfVHj74z0DsS8kUmZvpFNanpanQBfe1Xx0kSe/LJJzOv9XuwhEobIDChiqrxOI1BoEvQlpBNgigbCcSEKslwWsfVm9bF5PzavAVHjh0AgEKAQJAISkCVASAAALlwbj0crEFxEmF0RQfo7T8Erkfkt0b1qehCnB8pMNBu92M4jquqqmnaPVazfxAIggCgSGoQxWQUBAjIYAgBdRzD0JaWliVLlkxPz/zkxz9dmAvkW1dQuAUCGA0HvF5v5oVuA9vtHjZW5ZrneEwXIKKgGNRUVIAGP4+H58M3oglNRnh1HMB8VEdsJjKbMWFJGZiR3rh4OeWwexqSPkJWgRWEl8Pe5WjA7rKBQhsgPpka2CTXNRV9Yy50NjYXl2UMMeuY1tenvfhnL3Ic53TmHNi/35XjFAShtra2oqLi0+79ASRiqfOnui+cO5tSIrwYJCjSSDoF4NuzbtOuXbswDKMoKp1Op+JatqXKTOdCgGi6EktL984IY0DToaaVWPCaZGIsMaqBfABoJtvlM+ce7Z0fiKQFzU+Ts3ZybYVG10U78VRowWg5bYAdycR0sgSDIqJqNOCrwGgzuOEyyDDPqFtJAKEsyd6ocNlPX/Q1BXR3Zbkqq9PJxHyKD0hSMjZjJ7HCYFz7H997WVBidptzxaolTzz9yNq1azN9fAAkUb58YeDdN8+zkVwHUx+U3k0JC0uWlW3Zval15YqcnBwAAIqi/f19p9rPuE3NECAQQgRgqgyikTjLsndL/mFJmXYJcq3DkJSEMDclOuxONlKnXbWrUTPqMaLLCcDKUmiWP0FpcxhlIFRmWlB7U9lTTCFLxFDxXBa2Jl9OroB9ZTBuwKwITuhQ12Q1EuMvTcrt4cIgqGSyCEBMxYNBVggLUpIhHBa6AAIIACAQm4xwKh/XNcRut2c6eD90XZ+e8F4803v5dNA3UkkTPGbwYiqZlUNt39Py1JeeNBgMtyKd2tra1rX11y5eVxO4nSmhKauqKekUFwqF7ipQQqYEVpoDcDAcjnIJESEUQtLYBUOaz1ZpiyUL1Zp4livSazbBy5XIGK/DAMZIpgojmh+PXVSBz4bPNsGZpWDOStGY3QLjkjIxlTJjQ4qjM1DkheUGqwGh5iPRUQX3Okt5PkWGZpMyKZCkQdd1CCAnxMLcEG0qqayszHTwfsSjqVPHB1/7aT8XsyOQRimfDni7w75+Z8vDex4ym823slEQwubm5qcOPT4/9yNqVvQIY9eic0kGtdmr73GSFYnLVCDGHx5PvTIl3EjMj3nf98a6CEX1KIoZxBmHbHJQGDQzSIELcTkRTM6yTeXkztNOE11lVrdCnrElXl4F+u26iuooltLVYFyiwTxmPjudO0usoiwIr/RNedsG599YvbXs7aOvHzy0O8HPJlMhlovruoqICYwL8HzsxIm2l19+OZ1O67quaf8WTN2bgd7xk8cG06F8qNsRMgiwVErwuQqwh/fsyM3NzcjVxePxgDdCQZdmqgjbltOOVfXVLZu3bM7Pz7/d7HawhExRqmKibDZHhVUzR6Zna7VoiTRG6poJxXXA4yTEoFIEx6pAH2JkhNpygS4GQ3YhgZFILguySDWdq1shALqqqmlWFmL+iHoayevHmgmrklSuT3jb129u+PXfflhWVmYymdauXbNr78DF0zdSaTGaGMlXA8uoXIRYlo5KP/vRsZd/+Vp1bem3v/1CdXUVRd0nSlIUVZEg1GmgYxDqEBEAUCFERUFOpVN3riFCoVDP9f6QP2U3uHgAMdwii4lUKrXoztVNkCQSMGiqBVNRBHeYGizEVgotIoBi0DWTwrGJtMhq+XBqA7hcpLPkkvLRwsKzfWldzOUTejkc/wvj1EFLno5AAICua5oqa6o6BS2XEWMCGw+Lp6Z8HSVVpqcO7a2pqTGZTACApUuXPvr4Q8ZscS7ZaRHHSzCjD3OQpiKnuQ7hPWIwv+vj6I9/8KuRkZFMZ+9ganzhxLHeqRsARQwQSwCUgxAQGElg1KJt0GAwMEYqxUZkWQAQYijJsfebxYJSBFGgGVExXYQIQDDaXN+Uk6dKp84jsoFW6FRYrND5EpAkgc6meDauKayJT6lu3b+pJrx9z15zNCoe+UgLx3RdSwP9PEK9ISKD+iAPO0FakiTWaMi12qy3gh0cx5uam/7pn//rjRs32t7pONcTpFVg0AHQIcvFgqlhT4lh49bHampqPu3qIhAEjuOYJEchTAvCEAbTBsKuE9HWDau2bNmSaQ1AVlbWps1rB/tvdF/5yEBkW5kiUeDvI9BkejAiluYRoIxKzqYmXVCvwOKUmewy2Tplj8FWZvUnipQpIxAhAP3D822jVshXt7j861qw5sYqqxSXLvVp0Ti42YJ0XUOcGNKSayzFbd5o+looPDwxHPjpv/5GkqQNGzbcbPZut9vpdK5ataq5ueWlH7986ngvxAhCT+fLUSckgxzq8/tSqdS9J7V0kjv53rUTR25AYJbhWFq5gXDARLkkSRVFftEdTYZhctw5OS6P06osBRrBdp8i0jS9ThCEu3VnzGZ+mlOml5hQnhBfHhwlFbNzeARMeNGEhNLZKBetAYGlcNTisZp2rbEYs4zveUv8oZ1L6ZZ1RUagCR/0yoMTQNMhRBQEmdeZPrUqgORL2kQs3B1jp4EOoGI9e6preOz6iy+++MwzzwAAUBRFURTH8eLiopxcBysFUV0tgnw2kx20VNMqPPzrC975wLde+Fp5eXmmy7+HZkiSAil+goJLTOQyAZlYiHUnuPlH9+/6zne+k2kNAADA6/V2tJ0d7QtbmcIQROKa1trqOHDgwKJq3gRLK0xCYTBZdFC4hwjTWZy7wonHRGN0zpiOK/xAA/CVWhXjimV+j+f0eZ8UUbfYuKrYDNaxwPnCyowXqCoAACB4FDF0IcUzrkoM93tn3k2kx0vpfAvhDJL69t2bv/3iV+x2eywWu7XRCiG0WCzFpQVFVXaZF2JzrFkrCquQpEyyiPVcmj9Td6a0tPTOsfYm505ff+uVdhx6KLQEQSIYwqxobf7mt7+6cuXKrKysTGsAAACDg4MdJ8+wCczMoBLEJMyoKgjLshmT3e1gaI6q0wZdSBsNiJvkGTWRk1WCklmmoZlyEFK1cB3gDMCIMFR2lvHhHHHHkpiH5/WuIRFCoGlA1QCACIpzKDUA3NcNlRP6jaHRVwQhXmYqaTIVpjV9ivNDVOq7OvOP//Biw6q8v/u7vymvKL952wzDPPvsswcOHOjq6vrJD3/ef2UeTaN8fDjMDT+ybNfWrVvv5vrA9bFjrw7GppsMiA3BI5D0oRpms5hKS0vy8jx3q5Wbm9uwvLojeHEmOGumciGCsCnxPmNQWbNxrP3yMhNtp9CmXAb4JFpVocXogNo6wGoY6izOI5fXaGkO6R4ub60TkhfFC1eh8snyFQBAEAadMvcL4deTIz1CEjMoRsJJoeZac6VL51nCRsl027sXRq7IRqzQN8G1tbW7c903k9AQQoZhGIbZsGFDNBq9MfbfQ/MRh7HcQy5XFTSdTt/tVjlOjEaSkmjBcREhfbIeynIxq9a05Ofn363FAQCqqqqeOrQ/EAh2tXXVa1E/Oxtn3aIoZtrdBvb8//nURCkx9lF7HY4syzUqfFq63A8wDAMgBwCgqJjHRW1bKV7o4Q63w6OnNJZHVIDYbSDXDM00xupwnveZcH9hZYnLwkSVoa6gKth4PTqLGgE0lCtJE0Cu8/bp2cmGVs9f/e1fVddU3rmBQRBES0vLP/zXvx+9Mf7xya7JsQSXlu/xbA0m2mIjNcAD3QAAUFQBYLzLbc/Ozs40vQ0Mw5xOZ47bJaFkyGZ+6BvPfeW7L95tkXETLMuTHS8vXDhHpHjRSBE4Y1D5SECIpSBw6oAEQJla4N5qV2d8Osvrmg4pHHXYcU+2nmvSCdQfio8kWdPK5t1fP7RCRd7+7cfDXR2yxtuNJSaUtqgspaokJHWollRbnzi0p6ioWFNv5iUyKSws9Hg8fb19I8PTU5N+mjLcbQWQiKf7u+ambwAcsUHSB/AIquA8J8Vi0UWvfDsWi8XusIq6GhTkqCw6HPc5E4AhCFKyaysCwfSbR0oAMDoMbEnWtUnPIJfTgIzUaQHbnF/1BoGmoRAnPE5Q6dTNhI4iSV6YnvSKTlfl//VXeFnFhC/afXmu61wsEQWSzKqkYlHFcilh1MQYMJpVk8ghwwMT00M8Y8K2P9J05+bUzamttq72u3/59cqaE05n9urVqzNsbqJrWtAfWZiNUiAf6GFJSfJKuKo490GS/0aj0ZFlTUvz61oan33m2ZsZ2Eyj28AAABhFUs5sYDQKIme0kGoWQ3JYUq34MF7lT3SuAJNFUKNtRlBsA7kWQGKyqkaiiRiCmXduc21aH5aRX/74eMfxXk0ySgLD8mJaDdCkbQIY5zWnHStwacoq4PXNBI6/OoOoQCcDQ2NXnn52f1NTU6Y7ANA03dCwtLq6CkXRuyXSDCbGbCUUlYN0UCfHMTpZmKdvf3jFqlWrMk3vAEGQVatW/Y/v/2NNTU1RcVFm8R18sgYhTEbUbBIX4gDCJE4O49icBiSi8ISOhgC6i5iqc5tBrlWnUFGSY4K8QJmuJ0Hw0vy2ylRxeR4AWDpm1nVU1qIoNFoMHoshL5VOCmJ2NelYBm8kCT0Am9RYjYII7hzcbtGTyeSnPfkECCGGYRiG3ePBYhhqsRnMWfFw/MNQqnPf47v+j7/7Lzk5OfcIZ26nurq6vLwcRdF7/8pNPhGIttsMpSXpUDCRYjGcEGVtYTaNa4qiCsMIt0yXqlAFo1BBkmcTbIAyxJ0lQ1G858pk5+BLENGn58Zl0Y0jtpTeuW3bLoPN/Nqrh+34RgfdqKFDIuGd1ktrJHGr3vmvnLy0St2x62scKyiKimGfzssCAAC4r9MzU77+62O8GOGE+daVzV/7+lcKCwvvO/rc4uYDuPmZ47hYLEbT9N2i9k/sDG5X4d7dEzzv/fiMO9dtIiRZ5gBMMK7JQkvAKmMLijhxdYBTNduG9TVffeZ0R2/3b65rsjvmRWnYDMSPOKW3cUnJiq37NmxYX1dfXVfR8uqPJjlu7hrwTWPNmpo7rTEk6H8MHh+fK2w7OjA+FJmbiu1+dIU9y/Jpl+4Fm+Ynx+bPtF/v6hxHoMFoyFIlNOiPcKxgNGUe5bovU1NT//IvP75wvvOF73zr0KFDmcUAgFsCIShKZ9lRmy0hiOlEIhoKa8CpUiOrH6H3lT4989LLV8O+E2GdNDdw73kr/S9nOTyilhDlpKYLM9L3KEu6oiZv696sZ778lMPhuNo5eLkjqYsFnDokKxIFXDVQ2A1Oi2D+MJ69MOhYGI+pMvmrhbaBkYuHnnvsQQZXAIAsKQM947/+X8d7rk5CQGAogQFmZpD92ffbZkaS1fXFBcXussq7ZnYyiMViR4+89+HRKzk5+XebLsEtgQAACI5nLa1N99VyGFrkqZffaKtfU/KNb/09FUsOXb127uT4VJrS5Skz7TzVPq4oRiDmxqQrLatq/uU//7Bx+RIMw0iSpGkaQZAljZX7vjr3y1/+Wp4LY1yNxsbn0fg7FBDwIlZ1uEUnl5aI3PjmPQ3b9ywrKir6N3fuzsJc8NWfvX/sjXO6RmgqlOWUqKRTgo8kDRG/9rtffkwz55YuL3v80KbWtUsyK9+BJEkdHR+988ZpRUTqm3L379+fafF7/k0gCKFzSR3xTYMQi+1152371kFblslsNoNcLXv3VvY6q4agKqeAQSdwS4JdAGqawggjabCasmjSEI+nEIgbDAgAwGii9+zdvm5D66WzN15/aXi4Jz0v+MJKthlrKtEjTfDaDcR3MYVduehNRGKbdrY0rqicm/F7ZyPzMwGWFZpaa1ZtWJpO8UDXLTZTOsWdarvy1isd3tkkAiw61CSFlQUjhbsgBSVZYLkEREEoEZw70W/zaA8iEI7jqVTS6/UBleE4TpblO2PXm3wqk4bgmLW8RNc0iKIAAAghhBAgSN2yhr1PhV575ejAwAiOKgYqi6ZwAGQzWRCcAX/34kuCwLnc2SvX1We7rKIgLW+tWd5aw6XlsSGvPziXkMIoZLJ1z17t4gZ4dQbiI4gBiJb5YYd/mHj/2Esx5awFq7VgS3XViKHG9iMdOv5zSYBrNja2rq+cnvBfOxsfv1oOdQMk/IAakbSUKBMmdCVJZgPjjKyI4cRYdiHcunOdrsIn9n6jamnuX/31XxqNNzeAF6G3t/fS+QEbXSJIrK6iyWTybudv4D263y1UVY1GY1cvXX/rlVPXO2chRFVVxnESxygcp3Rd13UdIgBARddkgiQtNlpVBUlSljaXm7OR9g87AyMeE5YPwTUjRRCUR1HpAi1BSXQHJyWUj8yEh0GWMUgzBBBABEBRBxLUKUgEdHxaVw1AzoGKG5IBGe2VlWRSnookvCRSYMA92eZqSM4m+OnVm6oe3b/z3SMnEmzwz//6m7U1dVOTM4LIlpWX3nlQu6Oj43/+95cmh6M1DZ7v/vVz69evQ9FF5lOQ0YLuBoqiJEFF/KJ3iqcoM88nVFVBUVySBU3XSMKgA0XTNBQhACAUCYQDoq7pENKXOgKV9dkNVdsuTOgJeVRQZQ/yhCjjHhDerJ8Ly5c/UBAb0WTFtgKgK8ALUQ6nNKgZddGjaLImYqhShWgWoBMQj0GUx6SVQEmiilJTY9y9b40s64ffPDIxNYxBcnhYPvYm1XVtwF1C67p+/drQL1/6rafY9vw3nskQKBAIhPqG6iMpEkBBEDiOvZs64AEFAgDgOBpOTl/o/62mqxayINe6DMPJcGI8yo2puoiRIMtSTOo5gpSEOkYiVkwvofUWTSf6OifT6rk4n9JAjMJwTrtCwaWqNjwgXxrTWBpbbkRXIJCW9XlJn1GUWDo5zEoBQWJRjXPS2TRZnZYtghzHUdpOrqagEQG0FdtqVIKzg2o0Ng/YrDxjK4oSqA9L+3stgjiSTD3/9F8KnJRX6Nz56DMkYfjNz4/0D/Zs27V269atAIB4PN5zY3zBn1iBMpGo7x5LYvDgAlE0tf/A3jXrWq9eGP7ZD4+Kcjy3wH1g68GCMntRcUFOTk7Xte63Dx8NBcDCuEDoDCcNh9kRB74d10yqaixHxkpRaRptSIBCFQ3OGVNTehHPYqTWghO4gnbKEkto9aoS5sUeBMIspngJorfq8ZB4bVZDZIS2AnSavdivWR3kOhzaw7MTA7PDvLIAAVZkrqo2ZFcoqRKJ7aVNBGZYzoWDfLw7xfu8gWsX+z88frKyPr+hoQEAIIriwrxvNiRN0wUplOZFb87nIhCEMNeT6851B/wBRzGLYujG7RUHDu7OznbcXGQ6nc6NmzZcOtf3sx+8Nz+dwnSM1Xp5LppNbabQkhwiVaQNTHAnRtTjOVlLSj07EK06MicJLDKdeINVe61knYPMoXGXVV3FgR4PpbfgeKkiulSjWwMA6JVQTOrYcRWdlE4atHQKZ6Y1BNMqXAi6lZvYBaU0xE1AdmmKAZIm3GBBkAlBGzvT2UtNd1/rq1zqdjgcmqbNzc61vf/xUE/ARObNCjNbdje88MILmXd7Gw8qEPjk7ATYum3LqtUrIYQkSVK3nS0kSZJnpViIU2VEUtIcL7vI/XbagyK9KSHoE8IbzeCHy5b5bKWnAlX9AhNPzIaT05zsN2AVWcTWtNaTUK9YsdU2YjWp5gjsqRQ2NWuqfJ+0UjK3VksEFRhF4NcRAUENEmDOAuQ1rcCAF/Fa3zHdNmiq8ah8pZJUAMxV+VIlch0zb1YocGn8VTSGKI43X2kzGg3PP//85eMf9h792EzWAYiJspjikotuEN3iDxDoJiRJ3m1NGIskBnonZ2bmWYGlsJLKyrV1BXKd4ouNDsfmgw35RRZ3yZVgWZBloHjdF54xWt0WdEkk6E3pvJ3YyKqjKWXKSjgYtCStDMTk3jJNtFFUijRigqajaDuV1yFx8XSgXA0xupFCGkidQUk/RReHVJFhZ6aBfsNcvUaKmHSzjjAtUvA65lhKOA2YahHUI//a9q8/+kW9hGxHPNNoulvha5d5Dh360n0SZplffFZkWYnF0rFoguUTQMvOL1hRmE8sZ2bW8EEJ0iphpXAaifh33OhZrVAf6xhvpBRzIS7UO4q5OOzwT7TlMU8llM64/mE2tcMEHjknUrFY2xJdO2uqDKNYi5TYKdNttDsph05EU9nESgOWHRPPKOqMDSnQsdiknR9N0UJy6jV2woyRyw2FJGKYwC0lGl+qpkUETCAFGloaI9E5NV3Mz0mF1pWPb2lYtvTea+PPTyBJuX5l+OOPLqgqk5PVmFvgbmBm1sJhZCGE+2Kkw4R57HqCo6U0YSza7VprRulexo2LxHCaktFsDZkVVD8GcljpRki7aEO3W6iHh0RDD3/JQfMJiIlAL1DTFl1BEJzES3CsGGBBBCYEIRbRhbVblq5b86W2dy5HUwvVtQ/5p8Tzo6NXSNHM5FYJaoXC+zADixpxiKq6PCKnVLPStKVhw6bVJpPpf5NAkiQnUzGWk0htiZmqWGoKrqfG0PmIPBkAmg5pUtXy5LACET9uCdGV/fWyPcdp8FRX9o0KHw+uTxtBNHXaQmxy4A8l5OshucNKNCNonqg6knxExtEFzDqK2wKqJomcpMZTcNBKeExUoaIlCyvND+/bigIKN7LrWxtbmluP/K49KVPbdu72TyldH570ymGZKRAhquuqApJqIWZfu3bZwzvy8vLurQ74HAW62jnw1uvHRAl6sqpNDgpB4hDokMQRE6XJiq6ogAfA3YR48qAwCFG8pIAoa2HwBmcyR6wcl4uMOb0wPK8mFVAiaYVJ7YyMAyNcBYT1avqkRHPDTP4QZJJCWlN0DSQTUg9N2O1MnmaMAZ2fnZ2hSKqsNqdlZcPwUM/4wtVHH9+7etWaX//sLXu9tXZJ48DAeO/ZNyGmVFaVHXzu+QMH9pMkeY/48BafUaBoONFzvV+U2MamBpfLpes6gqAMZcPwuYTYb0lSQ6lsHKlbbSNzqyAcmgKyghIhQM6ocjHwLNWcEuaSieJyNMdSv0ErK2HUc+ah9z1HRha6uKQB5EJYwMrjsmqgkQoElM7w1yflKZ8GVFWjMQeDOziJlWQJSEUEmubZPoIgnv/a85qmpZLpkcGZtas27nlkd3t7hzc6evCZx3bt3jk/vxCPx51OpyoDo9Fwj2VaBp9FIEGQui6N//j/eQeh43/xNwaXyzXQM37sjTNslLRbsoPxM8nxcY7bwRdXJLLojbRW4Yqpgbg2P4dkcXpiXJmt0CqW6WgWGmcwBKEMkKowCtCBjxq0GwQA0G5g9xczDXbX4dHe9ul4FrkyLhGSEtBUVtTHSNSiQraoypBt0uYHxs1GZzotT05OJRLJcCB+8oOzNGM89OVteXl5Txw8ePDgAZqmB3om3vpNe83SkuCs8P3/9qvte1r/yz98naLIzjM9M5O+Pfs3GIyLL+XBZxNoZtJ78ljfeC/iLCEDgQAAgKQIiiJlWTYY8U0rlpZVlgxcG+/vDxGljWUFOZ6SEqPRqwXiUBGIUgbO9spdfmGyCJFsWPZytKxUF7noje5LA1f7BLcoeUucIxs9hite9YI3SlJxAaFJykDDaiU9nxBPQkRDANG8oqGqsur/7j5jBTstROXp90aD/r8q8tSOj8x867uHSssKP3j39EDfyP4nH54eHzr3Ud/5U4NnP7pO0wZJEXktlE6npye8v3v1bUlNrVhXWWIsybzJ3/NZBEIQFEIcaiYuxY+NTPz258dff/lkJMgjKCKDeH1j3Te+8fWx0alfvHT49LuHk+ldoTJmo5vJNXtVX0wLxogKJ0IvqBPd2kWHZJiFVqsSCnf2sR+Mu1O86jH3bSsQ5hLgzVF2c0FJQzb/66FrcWmZoEhR8cK+Rx9Z3bTtrdePARUb6p1SkAlvotMJalRlvqOts6Ikcei5A43NdTiBEyTBpvm2d66dOj7k9/lk0YDqBWF2vKbVeuDgXpFXTx2/0XUulV3EBUPBktLPT6BEPN1xvOvj43NQt0TC/afejzssqUhQEUVZVJIFhfbS0hKr1bqssf4f/7nwt3Vv/uIH7ya5h/3ljbucxmpmRp0K8IPTSGUexiB6MK5cGUA89vNB+LsBdyptQdRzhciwP5RzKebxpdAcqr+gsGhbfm7bVFGAj65cu+SFF74pClKrv1aTsImFqbWb6ycGBSkp4bgNBbTDZW5sqbHazL3dQ2MjU3abs+t8wD+LqZoV0WkZxPMq4FPPPFJcXHr25FDH+wMYCbfvXnPvg0h/gECKonZ8cOmnPzg8Nx2UxBJOCabU4ZivmY3EUIQAgEWp5OpNzTt27Li5dZOVZf/6N5+tLF3yyo+vXRy1zQeyq5FJVzKKIporGM1hSB6qqfGZaW/6TLouKZRmF0RNFC+Fre0z5glBsurDHiF5os/fK9qTEsyvwJ56et+yZcskUYn4hV/99PU533hWtiORjnDcWLa1MNe+JBJMnzzZnkgkzp/qfvv1k5iax6CVui4BHdWAZHFH9+xfu3Hjpht9c21H+xa8/k17CnfsXnvz3NvdeFCBRganT7zX2XN1IuiVdZWBEEKISArvTVyXFU5QkiimPrZ/79OHnrw5QdyMLxiG2byzxelyHP71lSvnptGinHV/81RNU3Vicnr+9Dm9Vs3OdQcjsYm33kEs3Qefe46NPnri7d75ZERGU7xuaufMuGzFMJcG1dmFwVMdYUXSuq8OtL93RZbwlCj5FoaBRqiAj6dRh7GUDVPvvXHx3MdXfP65RMzgoN2intRBGgU2Th2LzU4f/Q2eDhIiS189P6/REUu2q7Cw4N6h0P0ziol4emJk7lRb18n3rrIpRZEViTMhShVlD5Qs99bUFxQXFxUVF7ndbpvNajAY7gwuFEWdnfQP9U1Z7Yb6ZWVmq1FXVEUSAQAIgqY5LhqPz0yGjr5y+eq5kK5QKghrQMHUCqjZECwBgVFS0nH5jALnCYLgORFRHQxWlRAn4+JlEto0IANUNhocDO7AUIKmTYKUjKcXIulpHGHsdKOJ8vjZDhq3FmS1AICqokNWpaKG0Lf/08HNmzdneJvBfVqQJMlXOwd/8aN3ZyfDvMRGUuO8mLRgjZiO53jYLz27Z+3aNRiG3cx43O1RYBhaWOrOK3RCCFEMhRBCHCN+/74hC0WynHLlTNeVU4IqO1Nqd0K+LsppXT9hwAqd1HYS5klgDMV5THMl4gFJ4RlCQhECQyw6UACACCCAhiVToSiYYUgbJZoMpKMwu9VtXxpnZzhxrqgu66u7Xhi5MXH88EUbup7EaWvB9PaH17S2tn7a00W4l0A3BqZ+8S/Hzn80AjWzqhNmB7v7yYfKSsrPvO+9dCYgcBrLpu+9FL4FiiIouvjOZzrFt7/X9d7rIxqAOZX+dfUl2XnVRcVFuTm5nR9Nvv6TeQlEPZUaYbUOdAIHXRUXOwFAMGjFIKsDbfvudX/xt1/vvtr//X/6aTyaQjQINUyQk0ML70oKZ6bdZaWV2x5q+tKhgx+3Xx08S4vJHMw23LqxePdDO5g7XhtxJ3cVyDcf+uDtnisnSZDeqWFh1NTbsKJo46Z1/ZfD4324gSizWmcfUJ17oKrqxTN9R18ZjSYiiqVj3/ZD3/mzb6MogqLoifcuth9ZoNGqiHRmaZncsGTN1c6fyiK0EusBFIFulbW+Fc2rn/7KvvqGqoqqYqAjL/3gLYnHVcCXL7HV1O6+dm46loy0rqt5aM+OsD/ZdTYKZbdKjNc0kPsP7nG73Xdr8rez+FMFAEAIRUFIpziIaII+llR7cvJM9fV1mqbGk34JG6ptwTZu3JhZ7Q+k//r4u68Nj41NNm+FH7Qd/bM/f8FkMjIMQ5IkhqIQ6iqy4CrgcBTv6x5DdBgTLvrFYypMcMqEIz+5b/+OFasaSZLo7R7+4J2zHKtIeiI7H6+oKo369FgsWVnvfOzAQxRuPH2yu697ICUP5JSlDzy1q66u7gH38hdvQaIoXb86dvVsjIAlKjrLql3xyFQ0FrHYTFY7CYDOsXIiGblb5uwBmZnynTg6dOXSSFUT/o0X9peUlNxyerB3vP3YJBf1ACySW2QgMOb82evFxUXPfWu/xWR76+c3eq75XS5PdX2p3WEd7B999ZfHBvsmTDa6oj6vurY0EUSGBoYduei+g1srK6ovnO79qO3S0OQlU7a65/GvbN6y+R5H6zNY3I4g8GQiOTsVIPTSJBeQMd5MlsRjyfOnr5350GegnQQ1S1MF99hvuy+xSPJ8x8iptgGLU3n8S2saltXfUmd+JnDyncGByxorpM0FIxY7HQkkV65p3LlnY5bD8f6bAxODwGxylpSagI784ievv/27trlZP2XlqpY79+3dJbPUG2dPqkhy175NO3bsGO6fPHL43cHRyw89vvrpLz9WUVH+Bz3XxQUaGZruvhAmYWlUupxGOu1Mrs2F1dUticdSkVAilgrXNRgPHHzswdfEGQiC1Htt6sMjPSyf2P1ExYZNLbfv/Aq86PdF4xEehYZkXJifjTUua971yKaCwtzf/fq9D969IIsFBlPKU+KOhdi29z5esbrhf/3mgNFE67o+0Dv+09d/MzB+8cBTe54+9CSKoOFg3OYwHPraQxs2rG9sXHZnFHJvFhco5I9NjQVVnUZpL1R4VgwVZeU2Ll+KqAazlQRAFwWEZdkH7MYZ6Lo+M+F//3D36MhCy0bnzj2tOe6cW+Mly/KjQ76ZEVVTKcQ89OhXqr/9wjcJHFdV7cT7Zz44cknjimi0zGobyfW4SsuLDh7as2RZdUFRLoIgsqwwDNO0Yun2va1NTcsdDgfQweYdrWs3NSIoJAjiwXvWLRapEAnFJ0eiXNzEiylODxuZbLPJnOtxC5w8OeCPBiBJa5qeZFk2s+aDEQkn2t7p+rhtuKjGsPPRJXV1NbcLrWv63IxvfNhHUK60Pi6IlN1uBQCoqrqsuW7FmrEPfxeNiz2NS8WDBw/gOFG/tBLDsZtXwDC0sbm6vqEcQeEnp8cgICmCpBY/yvcgLNIEopHkcN/8/Lw/Jl6PCtc5MYIb+caWypLiUu9cyLsQYqzqtodaPtsUJgrSh0cvvvrSZYOV2Piw+86X6PkXwlMjLKJ54txM68bC7373uze/RxAkEkz65pIGI2MyGyxmhyzLOI6R1L8lBiGEOIEzBpqiqM/QWBYlUyBJlCPBVDjII3R4/W7n7kfWqZrMc2IiEbdYTSYroWkqx2ppNvkHDXW3IEhcQvwL4utNW5SnvrTInyTGR2a7L85ycqC2VX/+G0/f+lMBhJBN87EAHk0Gi5fGDjyx596LzM+LTJlFUertGu++6BV1zZ6jupyVp09005SRJMnZqcDEEEuT1rg0EAzeP8RaFAjhwSf279q9w2g03jnGx2OpoFdEAKlh4zou4sSnBlSDkTZbDUCL6hrQNPWzjYB/KJm/YTAyRjOeEsYr6g0URbYfv0rhlvJ6y5NPPjk77R3oXkgLiRXrC+/2d5oHwWAw5OTk3LnfIklyz9XJjndnQn7dlU9s2b6ypKTklk3QH+2/5l2YTeSUyPuebL650f6/gUyBEARWVBc88XzzgS83VVSUJxJxCBBJUliWpRnSaONVdErWuHtv194bCOGiMf7slO/EOz1D3VHSqLZuLN66fcPtQZYoSN75cDjAi4LGcsm7HaH+3MnsYgCAhuaq6iUlGIacPn3aYjOlYnEE4HMzXu8sJ4haQblh775td56T/+NBUQxBoIL46xodu/c2FxcX3+pEoihPjwcmR5KASG3YnX+PN0l87mS2IAAAjmNGI+P3+y939kaC6aKy7L2P7TAbHdcu9fByeMuupvUb19w5uP6RpFNc+/ErH7zT5S6it+0tWdHafHtEhyBwanLu4uWTjWutz33t0c8cvn8GFmlBN+F53ufzJ+OszWZKsymX27Fua03VMse6TU0u1yIvR/4jYRgKYaIpov2xnc/s3fdwxhuFMAxd1lz5F3+/v3pp4X1zgJ8vdxXIZDJZLAZVVQROjUaj2U7bnv2bNU0jCPzfY/qACHzqS088svdhhmHuPHAKIayuLymryscw9PMKcB6Qu/6YxWKx2o0JcerAli1f+9rXEBSh0M+5W90O/P0/6zILfg+GoYv+b+Hfm/8P0Ux/vbLB6sMAAAAASUVORK5CYII=",
         "type": "image",
         "xaxis": "x",
         "yaxis": "y"
        }
       ],
       "layout": {
        "height": 350,
        "margin": {
         "l": 0,
         "t": 60
        },
        "shapes": [
         {
          "line": {
           "color": "black",
           "width": 2
          },
          "type": "rect",
          "x0": 0,
          "x1": 96,
          "xref": "x",
          "y0": 0,
          "y1": 96,
          "yref": "y"
         }
        ],
        "template": {
         "data": {
          "bar": [
           {
            "error_x": {
             "color": "#2a3f5f"
            },
            "error_y": {
             "color": "#2a3f5f"
            },
            "marker": {
             "line": {
              "color": "#E5ECF6",
              "width": 0.5
             },
             "pattern": {
              "fillmode": "overlay",
              "size": 10,
              "solidity": 0.2
             }
            },
            "type": "bar"
           }
          ],
          "barpolar": [
           {
            "marker": {
             "line": {
              "color": "#E5ECF6",
              "width": 0.5
             },
             "pattern": {
              "fillmode": "overlay",
              "size": 10,
              "solidity": 0.2
             }
            },
            "type": "barpolar"
           }
          ],
          "carpet": [
           {
            "aaxis": {
             "endlinecolor": "#2a3f5f",
             "gridcolor": "white",
             "linecolor": "white",
             "minorgridcolor": "white",
             "startlinecolor": "#2a3f5f"
            },
            "baxis": {
             "endlinecolor": "#2a3f5f",
             "gridcolor": "white",
             "linecolor": "white",
             "minorgridcolor": "white",
             "startlinecolor": "#2a3f5f"
            },
            "type": "carpet"
           }
          ],
          "choropleth": [
           {
            "colorbar": {
             "outlinewidth": 0,
             "ticks": ""
            },
            "type": "choropleth"
           }
          ],
          "contour": [
           {
            "colorbar": {
             "outlinewidth": 0,
             "ticks": ""
            },
            "colorscale": [
             [
              0,
              "#0d0887"
             ],
             [
              0.1111111111111111,
              "#46039f"
             ],
             [
              0.2222222222222222,
              "#7201a8"
             ],
             [
              0.3333333333333333,
              "#9c179e"
             ],
             [
              0.4444444444444444,
              "#bd3786"
             ],
             [
              0.5555555555555556,
              "#d8576b"
             ],
             [
              0.6666666666666666,
              "#ed7953"
             ],
             [
              0.7777777777777778,
              "#fb9f3a"
             ],
             [
              0.8888888888888888,
              "#fdca26"
             ],
             [
              1,
              "#f0f921"
             ]
            ],
            "type": "contour"
           }
          ],
          "contourcarpet": [
           {
            "colorbar": {
             "outlinewidth": 0,
             "ticks": ""
            },
            "type": "contourcarpet"
           }
          ],
          "heatmap": [
           {
            "colorbar": {
             "outlinewidth": 0,
             "ticks": ""
            },
            "colorscale": [
             [
              0,
              "#0d0887"
             ],
             [
              0.1111111111111111,
              "#46039f"
             ],
             [
              0.2222222222222222,
              "#7201a8"
             ],
             [
              0.3333333333333333,
              "#9c179e"
             ],
             [
              0.4444444444444444,
              "#bd3786"
             ],
             [
              0.5555555555555556,
              "#d8576b"
             ],
             [
              0.6666666666666666,
              "#ed7953"
             ],
             [
              0.7777777777777778,
              "#fb9f3a"
             ],
             [
              0.8888888888888888,
              "#fdca26"
             ],
             [
              1,
              "#f0f921"
             ]
            ],
            "type": "heatmap"
           }
          ],
          "heatmapgl": [
           {
            "colorbar": {
             "outlinewidth": 0,
             "ticks": ""
            },
            "colorscale": [
             [
              0,
              "#0d0887"
             ],
             [
              0.1111111111111111,
              "#46039f"
             ],
             [
              0.2222222222222222,
              "#7201a8"
             ],
             [
              0.3333333333333333,
              "#9c179e"
             ],
             [
              0.4444444444444444,
              "#bd3786"
             ],
             [
              0.5555555555555556,
              "#d8576b"
             ],
             [
              0.6666666666666666,
              "#ed7953"
             ],
             [
              0.7777777777777778,
              "#fb9f3a"
             ],
             [
              0.8888888888888888,
              "#fdca26"
             ],
             [
              1,
              "#f0f921"
             ]
            ],
            "type": "heatmapgl"
           }
          ],
          "histogram": [
           {
            "marker": {
             "pattern": {
              "fillmode": "overlay",
              "size": 10,
              "solidity": 0.2
             }
            },
            "type": "histogram"
           }
          ],
          "histogram2d": [
           {
            "colorbar": {
             "outlinewidth": 0,
             "ticks": ""
            },
            "colorscale": [
             [
              0,
              "#0d0887"
             ],
             [
              0.1111111111111111,
              "#46039f"
             ],
             [
              0.2222222222222222,
              "#7201a8"
             ],
             [
              0.3333333333333333,
              "#9c179e"
             ],
             [
              0.4444444444444444,
              "#bd3786"
             ],
             [
              0.5555555555555556,
              "#d8576b"
             ],
             [
              0.6666666666666666,
              "#ed7953"
             ],
             [
              0.7777777777777778,
              "#fb9f3a"
             ],
             [
              0.8888888888888888,
              "#fdca26"
             ],
             [
              1,
              "#f0f921"
             ]
            ],
            "type": "histogram2d"
           }
          ],
          "histogram2dcontour": [
           {
            "colorbar": {
             "outlinewidth": 0,
             "ticks": ""
            },
            "colorscale": [
             [
              0,
              "#0d0887"
             ],
             [
              0.1111111111111111,
              "#46039f"
             ],
             [
              0.2222222222222222,
              "#7201a8"
             ],
             [
              0.3333333333333333,
              "#9c179e"
             ],
             [
              0.4444444444444444,
              "#bd3786"
             ],
             [
              0.5555555555555556,
              "#d8576b"
             ],
             [
              0.6666666666666666,
              "#ed7953"
             ],
             [
              0.7777777777777778,
              "#fb9f3a"
             ],
             [
              0.8888888888888888,
              "#fdca26"
             ],
             [
              1,
              "#f0f921"
             ]
            ],
            "type": "histogram2dcontour"
           }
          ],
          "mesh3d": [
           {
            "colorbar": {
             "outlinewidth": 0,
             "ticks": ""
            },
            "type": "mesh3d"
           }
          ],
          "parcoords": [
           {
            "line": {
             "colorbar": {
              "outlinewidth": 0,
              "ticks": ""
             }
            },
            "type": "parcoords"
           }
          ],
          "pie": [
           {
            "automargin": true,
            "type": "pie"
           }
          ],
          "scatter": [
           {
            "fillpattern": {
             "fillmode": "overlay",
             "size": 10,
             "solidity": 0.2
            },
            "type": "scatter"
           }
          ],
          "scatter3d": [
           {
            "line": {
             "colorbar": {
              "outlinewidth": 0,
              "ticks": ""
             }
            },
            "marker": {
             "colorbar": {
              "outlinewidth": 0,
              "ticks": ""
             }
            },
            "type": "scatter3d"
           }
          ],
          "scattercarpet": [
           {
            "marker": {
             "colorbar": {
              "outlinewidth": 0,
              "ticks": ""
             }
            },
            "type": "scattercarpet"
           }
          ],
          "scattergeo": [
           {
            "marker": {
             "colorbar": {
              "outlinewidth": 0,
              "ticks": ""
             }
            },
            "type": "scattergeo"
           }
          ],
          "scattergl": [
           {
            "marker": {
             "colorbar": {
              "outlinewidth": 0,
              "ticks": ""
             }
            },
            "type": "scattergl"
           }
          ],
          "scattermapbox": [
           {
            "marker": {
             "colorbar": {
              "outlinewidth": 0,
              "ticks": ""
             }
            },
            "type": "scattermapbox"
           }
          ],
          "scatterpolar": [
           {
            "marker": {
             "colorbar": {
              "outlinewidth": 0,
              "ticks": ""
             }
            },
            "type": "scatterpolar"
           }
          ],
          "scatterpolargl": [
           {
            "marker": {
             "colorbar": {
              "outlinewidth": 0,
              "ticks": ""
             }
            },
            "type": "scatterpolargl"
           }
          ],
          "scatterternary": [
           {
            "marker": {
             "colorbar": {
              "outlinewidth": 0,
              "ticks": ""
             }
            },
            "type": "scatterternary"
           }
          ],
          "surface": [
           {
            "colorbar": {
             "outlinewidth": 0,
             "ticks": ""
            },
            "colorscale": [
             [
              0,
              "#0d0887"
             ],
             [
              0.1111111111111111,
              "#46039f"
             ],
             [
              0.2222222222222222,
              "#7201a8"
             ],
             [
              0.3333333333333333,
              "#9c179e"
             ],
             [
              0.4444444444444444,
              "#bd3786"
             ],
             [
              0.5555555555555556,
              "#d8576b"
             ],
             [
              0.6666666666666666,
              "#ed7953"
             ],
             [
              0.7777777777777778,
              "#fb9f3a"
             ],
             [
              0.8888888888888888,
              "#fdca26"
             ],
             [
              1,
              "#f0f921"
             ]
            ],
            "type": "surface"
           }
          ],
          "table": [
           {
            "cells": {
             "fill": {
              "color": "#EBF0F8"
             },
             "line": {
              "color": "white"
             }
            },
            "header": {
             "fill": {
              "color": "#C8D4E3"
             },
             "line": {
              "color": "white"
             }
            },
            "type": "table"
           }
          ]
         },
         "layout": {
          "annotationdefaults": {
           "arrowcolor": "#2a3f5f",
           "arrowhead": 0,
           "arrowwidth": 1
          },
          "autotypenumbers": "strict",
          "coloraxis": {
           "colorbar": {
            "outlinewidth": 0,
            "ticks": ""
           }
          },
          "colorscale": {
           "diverging": [
            [
             0,
             "#8e0152"
            ],
            [
             0.1,
             "#c51b7d"
            ],
            [
             0.2,
             "#de77ae"
            ],
            [
             0.3,
             "#f1b6da"
            ],
            [
             0.4,
             "#fde0ef"
            ],
            [
             0.5,
             "#f7f7f7"
            ],
            [
             0.6,
             "#e6f5d0"
            ],
            [
             0.7,
             "#b8e186"
            ],
            [
             0.8,
             "#7fbc41"
            ],
            [
             0.9,
             "#4d9221"
            ],
            [
             1,
             "#276419"
            ]
           ],
           "sequential": [
            [
             0,
             "#0d0887"
            ],
            [
             0.1111111111111111,
             "#46039f"
            ],
            [
             0.2222222222222222,
             "#7201a8"
            ],
            [
             0.3333333333333333,
             "#9c179e"
            ],
            [
             0.4444444444444444,
             "#bd3786"
            ],
            [
             0.5555555555555556,
             "#d8576b"
            ],
            [
             0.6666666666666666,
             "#ed7953"
            ],
            [
             0.7777777777777778,
             "#fb9f3a"
            ],
            [
             0.8888888888888888,
             "#fdca26"
            ],
            [
             1,
             "#f0f921"
            ]
           ],
           "sequentialminus": [
            [
             0,
             "#0d0887"
            ],
            [
             0.1111111111111111,
             "#46039f"
            ],
            [
             0.2222222222222222,
             "#7201a8"
            ],
            [
             0.3333333333333333,
             "#9c179e"
            ],
            [
             0.4444444444444444,
             "#bd3786"
            ],
            [
             0.5555555555555556,
             "#d8576b"
            ],
            [
             0.6666666666666666,
             "#ed7953"
            ],
            [
             0.7777777777777778,
             "#fb9f3a"
            ],
            [
             0.8888888888888888,
             "#fdca26"
            ],
            [
             1,
             "#f0f921"
            ]
           ]
          },
          "colorway": [
           "#636efa",
           "#EF553B",
           "#00cc96",
           "#ab63fa",
           "#FFA15A",
           "#19d3f3",
           "#FF6692",
           "#B6E880",
           "#FF97FF",
           "#FECB52"
          ],
          "font": {
           "color": "#2a3f5f"
          },
          "geo": {
           "bgcolor": "white",
           "lakecolor": "white",
           "landcolor": "#E5ECF6",
           "showlakes": true,
           "showland": true,
           "subunitcolor": "white"
          },
          "hoverlabel": {
           "align": "left"
          },
          "hovermode": "closest",
          "mapbox": {
           "style": "light"
          },
          "paper_bgcolor": "white",
          "plot_bgcolor": "#E5ECF6",
          "polar": {
           "angularaxis": {
            "gridcolor": "white",
            "linecolor": "white",
            "ticks": ""
           },
           "bgcolor": "#E5ECF6",
           "radialaxis": {
            "gridcolor": "white",
            "linecolor": "white",
            "ticks": ""
           }
          },
          "scene": {
           "xaxis": {
            "backgroundcolor": "#E5ECF6",
            "gridcolor": "white",
            "gridwidth": 2,
            "linecolor": "white",
            "showbackground": true,
            "ticks": "",
            "zerolinecolor": "white"
           },
           "yaxis": {
            "backgroundcolor": "#E5ECF6",
            "gridcolor": "white",
            "gridwidth": 2,
            "linecolor": "white",
            "showbackground": true,
            "ticks": "",
            "zerolinecolor": "white"
           },
           "zaxis": {
            "backgroundcolor": "#E5ECF6",
            "gridcolor": "white",
            "gridwidth": 2,
            "linecolor": "white",
            "showbackground": true,
            "ticks": "",
            "zerolinecolor": "white"
           }
          },
          "shapedefaults": {
           "line": {
            "color": "#2a3f5f"
           }
          },
          "ternary": {
           "aaxis": {
            "gridcolor": "white",
            "linecolor": "white",
            "ticks": ""
           },
           "baxis": {
            "gridcolor": "white",
            "linecolor": "white",
            "ticks": ""
           },
           "bgcolor": "#E5ECF6",
           "caxis": {
            "gridcolor": "white",
            "linecolor": "white",
            "ticks": ""
           }
          },
          "title": {
           "x": 0.05
          },
          "xaxis": {
           "automargin": true,
           "gridcolor": "white",
           "linecolor": "white",
           "ticks": "",
           "title": {
            "standoff": 15
           },
           "zerolinecolor": "white",
           "zerolinewidth": 2
          },
          "yaxis": {
           "automargin": true,
           "gridcolor": "white",
           "linecolor": "white",
           "ticks": "",
           "title": {
            "standoff": 15
           },
           "zerolinecolor": "white",
           "zerolinewidth": 2
          }
         }
        },
        "title": {
         "text": "Label: Abomasnow"
        },
        "width": 500,
        "xaxis": {
         "anchor": "y",
         "domain": [
          0,
          1
         ],
         "showgrid": false,
         "showticklabels": false,
         "visible": false,
         "zeroline": false
        },
        "yaxis": {
         "anchor": "x",
         "domain": [
          0,
          1
         ],
         "showgrid": false,
         "showticklabels": false,
         "visible": false,
         "zeroline": false
        }
       }
      }
     },
     "metadata": {},
     "output_type": "display_data"
    }
   ],
   "source": [
    "plot_n_images(train_ds, 5, class_names, GAN=True, size=width)"
   ]
  },
  {
   "cell_type": "code",
   "execution_count": 20,
   "metadata": {},
   "outputs": [],
   "source": [
    "from keras.layers import Input, Dense, Conv2D, Flatten, Lambda, Reshape, BatchNormalization, Concatenate, LeakyReLU, Dropout, Activation, UpSampling2D\n",
    "from keras.models import Model\n",
    "from keras import backend as K\n",
    "import numpy as np\n",
    "\n",
    "\n",
    "def define_encoder(input_shape, latent_dim):\n",
    "    # Define the input shape\n",
    "    input_shape = (96, 96, 3)\n",
    "\n",
    "    # Define the number of latent variables\n",
    "    latent_dim = 100\n",
    "\n",
    "    # Define the encoder architecture\n",
    "    input_encoder = Input(shape=input_shape, name='input_encoder')\n",
    "    x = Conv2D(64, kernel_size=3, strides=2, padding='same')(input_encoder)\n",
    "    x = tf.keras.layers.LeakyReLU(alpha=0.2)(x)\n",
    "    x = BatchNormalization()(x)\n",
    "    x = Conv2D(128, kernel_size=3, strides=2, padding='same')(x)\n",
    "    x = tf.keras.layers.LeakyReLU(alpha=0.2)(x)\n",
    "    x = BatchNormalization()(x)\n",
    "    x = Conv2D(128, kernel_size=3, strides=2, padding='same')(x)\n",
    "    x = tf.keras.layers.LeakyReLU(alpha=0.2)(x)\n",
    "    x = BatchNormalization()(x)\n",
    "    x = Conv2D(256, kernel_size=3, strides=2, padding='same')(x)\n",
    "    x = tf.keras.layers.LeakyReLU(alpha=0.2)(x)\n",
    "    x = BatchNormalization()(x)\n",
    "    x = Flatten()(x)\n",
    "    x = Dense(256, activation='relu')(x)\n",
    "    x = BatchNormalization()(x)\n",
    "    z = Dense(latent_dim)(x)\n",
    "\n",
    "    # Define the encoder model\n",
    "    encoder = Model(input_encoder, z, name='encoder')\n",
    "\n",
    "    return encoder\n",
    "\n",
    "\n",
    "# Define the generator\n",
    "def define_decoder(latent_dim):\n",
    "    # Define the noise vector input\n",
    "    in_lat = tf.keras.layers.Input(shape=(latent_dim,))\n",
    "    # Define the class vector input\n",
    "    # in_class = tf.keras.layers.Input(shape=(num_classes,))\n",
    "    # Concatenate the noise and class vectors\n",
    "    # merge = tf.keras.layers.Concatenate()([in_lat, in_class])\n",
    "    # Project the concatenated vector to a larger dimension\n",
    "    n = 128\n",
    "    size = int(width/16)\n",
    "    n_nodes = n * size * size\n",
    "    dense = tf.keras.layers.Dense(n_nodes)(in_lat)\n",
    "    # Reshape the dense layer output\n",
    "    reshaped = tf.keras.layers.Reshape((size, size, n))(dense)\n",
    "    # Upsample the feature maps\n",
    "    upsampled = tf.keras.layers.Conv2DTranspose(256, (4,4), strides=(2,2), padding='same')(reshaped)\n",
    "    upsampled = tf.keras.layers.LeakyReLU(alpha=0.2)(upsampled)\n",
    "    upsampled = tf.keras.layers.Conv2DTranspose(256, (4,4), strides=(2,2), padding='same')(upsampled)\n",
    "    upsampled = tf.keras.layers.LeakyReLU(alpha=0.2)(upsampled)\n",
    "    upsampled = tf.keras.layers.Conv2DTranspose(128, (4,4), strides=(2,2), padding='same')(upsampled)\n",
    "    upsampled = tf.keras.layers.LeakyReLU(alpha=0.2)(upsampled)\n",
    "    upsampled = tf.keras.layers.Conv2DTranspose(128, (4,4), strides=(2,2), padding='same')(upsampled)\n",
    "    upsampled = tf.keras.layers.LeakyReLU(alpha=0.2)(upsampled)\n",
    "    # Output layer\n",
    "    out_layer = tf.keras.layers.Conv2D(3, (3,3), activation='tanh', padding='same')(upsampled)\n",
    "    # Define the model\n",
    "    model = tf.keras.models.Model(in_lat, out_layer, name='decoder')\n",
    "    return model\n",
    "\n",
    "# # Define the sampler network\n",
    "# def build_sampler(latent_dim):\n",
    "#     # output_shape = input_shape\n",
    "#     # Define the input layers for the mean and variance vectors\n",
    "#     input_mean = tf.keras.layers.Input(shape=(latent_dim,))\n",
    "#     input_var = tf.keras.layers.Input(shape=(latent_dim,))\n",
    "#     # Define the sampling layer\n",
    "#     def sampling(args):\n",
    "#         mean, log_var = args\n",
    "#         epsilon = tf.keras.backend.random_normal(shape=(tf.keras.backend.shape(mean)[0], latent_dim), mean=0., stddev=1.)\n",
    "#         return mean + tf.keras.backend.exp(0.5 * log_var) * epsilon\n",
    "#     # Connect the input layers to the sampling layer\n",
    "#     sampled_latent = tf.keras.layers.Lambda(sampling)([input_mean, input_var])\n",
    "#     # Connect the sampled latent vector to the decoder\n",
    "#     # generated_image = decoder(sampled_latent)\n",
    "#     # Define the sampler model\n",
    "#     sampler = tf.keras.models.Model(inputs=[input_mean, input_var], outputs=sampled_latent, name='sampler')\n",
    "#     return sampler\n"
   ]
  },
  {
   "cell_type": "code",
   "execution_count": 21,
   "metadata": {},
   "outputs": [],
   "source": [
    "def build_discriminator(input_shape, latent_dim):\n",
    "    # Define input layers\n",
    "    img_input = Input(shape=input_shape)\n",
    "    enc_input = Input(shape=(latent_dim,))\n",
    "\n",
    "    # image branch\n",
    "    img_layer = Conv2D(64, (3,3), strides=(2,2), padding='same')(img_input)\n",
    "    img_layer = LeakyReLU(alpha=0.2)(img_layer)\n",
    "    img_layer = Dropout(0.25)(img_layer)\n",
    "    img_layer = Conv2D(128, (3,3), strides=(2,2), padding='same')(img_layer)\n",
    "    img_layer = LeakyReLU(alpha=0.2)(img_layer)\n",
    "    img_layer = Dropout(0.25)(img_layer)\n",
    "    img_layer = Conv2D(256, (3,3), strides=(2,2), padding='same')(img_layer)\n",
    "    img_layer = LeakyReLU(alpha=0.2)(img_layer)\n",
    "    img_layer = Dropout(0.25)(img_layer)\n",
    "    img_layer = Conv2D(512, (3,3), strides=(2,2), padding='same')(img_layer)\n",
    "    img_layer = LeakyReLU(alpha=0.2)(img_layer)\n",
    "    img_layer = Dropout(0.25)(img_layer)\n",
    "    # Flatten the features\n",
    "    features = Flatten()(img_layer)\n",
    "\n",
    "    # label branch\n",
    "    latent_layer = tf.keras.layers.Dense(64)(enc_input)\n",
    "    latent_layer = tf.keras.layers.LeakyReLU(alpha=0.2)(latent_layer)\n",
    "    latent_layer = tf.keras.layers.Dense(128)(latent_layer)\n",
    "    latent_layer = tf.keras.layers.LeakyReLU(alpha=0.2)(latent_layer)\n",
    "    latent_layer = tf.keras.layers.Dense(256)(latent_layer)\n",
    "    latent_layer = tf.keras.layers.LeakyReLU(alpha=0.2)(latent_layer)\n",
    "    latent_layer = tf.keras.layers.Dense(256)(latent_layer)\n",
    "    latent_layer = tf.keras.layers.LeakyReLU(alpha=0.2)(latent_layer)\n",
    "    latent_layer = tf.keras.layers.Flatten()(latent_layer)\n",
    "\n",
    "    # Concatenate the input layers\n",
    "    merged_input = Concatenate()([features, latent_layer])\n",
    "    merged_input = tf.keras.layers.Dropout(0.4)(merged_input)\n",
    "    validity = Dense(1, activation='sigmoid')(merged_input)\n",
    "\n",
    "    # Define the model\n",
    "    model = Model(inputs=[img_input, enc_input], outputs=validity, name='discriminator')\n",
    "\n",
    "    # compile the model\n",
    "    opt = tf.keras.optimizers.Adam(learning_rate=0.0001, beta_1=0.5)\n",
    "    model.compile(loss='binary_crossentropy', optimizer=opt, metrics=['accuracy'])\n",
    "    \n",
    "    return model\n"
   ]
  },
  {
   "cell_type": "code",
   "execution_count": 22,
   "metadata": {},
   "outputs": [],
   "source": [
    "def build_vaegan(input_shape, latent_dim):\n",
    "    # Define the encoder and decoder\n",
    "    encoder = define_encoder(input_shape, latent_dim)\n",
    "    decoder = define_decoder(latent_dim)\n",
    "\n",
    "    # Define the discriminator\n",
    "    discriminator = build_discriminator(input_shape, latent_dim)\n",
    "\n",
    "    # Define the generator\n",
    "    in_shape = tf.keras.layers.Input(shape=input_shape)\n",
    "    encoded_latent = encoder(in_shape)\n",
    "    gen_output = decoder(encoded_latent)\n",
    "\n",
    "    # Freeze the discriminator weights during generator training\n",
    "    discriminator.trainable = False\n",
    "\n",
    "    # Define the GAN model\n",
    "    gan_output = discriminator([gen_output, encoded_latent])\n",
    "    gan_model = tf.keras.models.Model(in_shape, gan_output, name='gan')\n",
    "\n",
    "    # Compile the GAN model\n",
    "    opt = tf.keras.optimizers.Adam(learning_rate=0.0002, beta_1=0.5)\n",
    "    gan_model.compile(loss='binary_crossentropy', optimizer=opt, experimental_run_tf_function=False)\n",
    "\n",
    "    return decoder, discriminator, gan_model, encoder\n"
   ]
  },
  {
   "cell_type": "code",
   "execution_count": 23,
   "metadata": {},
   "outputs": [],
   "source": [
    "def generate_latent_points(latent_dim, n_samples):\n",
    "    # generate points in the latent space\n",
    "    x_input = tf.random.normal(shape=(n_samples, latent_dim))\n",
    "    return x_input\n",
    "\n",
    "def generate_fake_samples(generator, latent_dim, n_samples):\n",
    "    # generate points in latent space\n",
    "    noise_input = generate_latent_points(latent_dim, n_samples)\n",
    "    # predict outputs\n",
    "    X = generator.predict(noise_input, verbose=0)\n",
    "    # create 'fake' class labels (0)\n",
    "    y_class = tf.zeros((n_samples, 1))\n",
    "    return X, y_class, noise_input\n",
    "\n",
    "def generate_real_samples(dataset, encoder, n_samples):\n",
    "    X, y_class = [], []\n",
    "    while len(X) < n_samples:\n",
    "        dataset.shuffle(100)\n",
    "        for x, label in dataset.take(5):\n",
    "            for i in range(len(x)):\n",
    "                X.append(x[i])\n",
    "                y_class.append(label[i][0])\n",
    "                if len(X) == n_samples:\n",
    "                    break\n",
    "            if len(X) == n_samples:\n",
    "                break\n",
    "    X = tf.stack(X)\n",
    "    y_class = tf.reshape(tf.stack(y_class), (n_samples, 1))\n",
    "    # generate points in latent space using encoder\n",
    "    encoded = encoder.predict(X, verbose=0)\n",
    "    return X, y_class, encoded\n"
   ]
  },
  {
   "cell_type": "code",
   "execution_count": 24,
   "metadata": {},
   "outputs": [],
   "source": [
    "def summarize_performance(epoch, g_model, d_model, encoder, dataset, latent_dim, n_samples=100):\n",
    "    # prepare real samples\n",
    "    X_real, y_real_class, encoded = generate_real_samples(dataset, encoder, n_samples)\n",
    "    # evaluate discriminator on real examples\n",
    "    # print(X_real.shape)\n",
    "    # print(encoded.shape)\n",
    "    # print(y_real_class.shape)\n",
    "    X_reconstructed = g_model.predict(encoded, verbose=0)\n",
    "    _, acc_real = d_model.evaluate([X_reconstructed, encoded], y_real_class, verbose=0)\n",
    "    # prepare fake examples\n",
    "    x_fake, y_fake_class, encoded = generate_fake_samples(g_model, latent_dim, n_samples)\n",
    "    # evaluate discriminator on fake examples\n",
    "    _, acc_fake = d_model.evaluate([x_fake, encoded], y_fake_class, verbose=0)\n",
    "    # summarize discriminator performance\n",
    "    print('>Accuracy real: %.0f%%, fake: %.0f%%' % (acc_real*100, acc_fake*100))\n",
    "    # save plot\n",
    "    save_plot(x_fake, epoch)\n",
    "    # save_plot(X_real, epoch, reconstructions=1)\n",
    "    save_plot(X_reconstructed, epoch, reconstructions=2)\n",
    "    # save the generator model tile file\n",
    "    filename = 'vaegenerator_model_96_e%03d.h5' % (epoch+1)\n",
    "    g_model.save(filename)\n",
    "\n",
    "\n",
    "def save_plot(examples, epoch, n=10, reconstructions=0):\n",
    "    # plot images\n",
    "    for i in range(n * n):\n",
    "        # define subplot\n",
    "        plt.subplot(n, n, 1 + i)\n",
    "        # turn off axis\n",
    "        plt.axis('off')\n",
    "        # scale from [-1,1] to [0,1]\n",
    "        examples[i, :, :, :] = (examples[i, :, :, :] + 1) / 2.0\n",
    "        # plot raw pixel data\n",
    "        plt.imshow(examples[i, :, :, :])\n",
    "    # save plot to file\n",
    "    if reconstructions == 0:\n",
    "        filename = 'vae_generated_plot_96_e%03d.png' % (epoch+1)\n",
    "    elif reconstructions == 1:\n",
    "        filename = 'vae_reconstructions_1_plot_96_e%03d.png' % (epoch+1)\n",
    "    else:\n",
    "        filename = 'vae_reconstructions_2_plot_96_e%03d.png' % (epoch+1)\n",
    "    plt.savefig(filename)\n",
    "    plt.close()"
   ]
  },
  {
   "cell_type": "code",
   "execution_count": 25,
   "metadata": {},
   "outputs": [],
   "source": [
    "def train(g_model, d_model, encoder, gan_model, dataset, latent_dim, n_epochs=10, n_batch=64, resume_training=0):\n",
    "    bat_per_epo = int(dataset.cardinality())\n",
    "    # manually enumerate epochs\n",
    "    for i in range(n_epochs):\n",
    "        # enumerate batches over the training set\n",
    "        for j, batch in enumerate(dataset):\n",
    "            # get randomly selected 'real' samples\n",
    "            X_real, y_real_class = batch[0], batch[1][:, 0]\n",
    "            half_batch = int(X_real.shape[0])\n",
    "            encoded_real = encoder.predict(X_real, verbose=0)\n",
    "            X_real_decoded = g_model.predict(encoded_real, verbose=0)\n",
    "            # generate 'fake' examples\n",
    "            X_fake, y_fake_class, noise_input = generate_fake_samples(g_model, latent_dim, half_batch)\n",
    "            # create training set for the discriminator\n",
    "            y_real_class = tf.reshape(y_real_class, (half_batch, 1))\n",
    "            X, encoded, y_class = tf.concat([X_real_decoded, X_fake], axis=0), tf.concat([encoded_real, noise_input], axis=0), tf.concat([y_real_class, y_fake_class], axis=0)\n",
    "            # update discriminator model weights\n",
    "            # print(X, encoded, y_class)\n",
    "            d_loss, _ = d_model.train_on_batch([X, encoded], y_class)\n",
    "            # prepare points in latent space as input for the generator\n",
    "            X_gan = tf.random.normal((n_batch, 96, 96, 3))\n",
    "            y_gan_class = tf.ones((n_batch, 1))\n",
    "            g_loss = gan_model.train_on_batch(X_gan, y_gan_class)\n",
    "            # summarize loss on this batch\n",
    "            if j % 10 == 0:\n",
    "                print('>%d, %d/%d, d=%.3f, g=%.3f' % (i+resume_training+1, j+1, bat_per_epo, d_loss, g_loss))\n",
    "        # evaluate the model performance, sometimes\n",
    "        if (i+resume_training) % 2 == 0:\n",
    "            summarize_performance(i+resume_training, g_model, d_model, encoder, dataset, latent_dim)\n",
    "            pass\n",
    "    # save the generator model\n",
    "    g_model.save('vaegenerator_model_96_final.h5')\n"
   ]
  },
  {
   "cell_type": "code",
   "execution_count": 26,
   "metadata": {},
   "outputs": [
    {
     "data": {
      "image/png": "[encoded data removed]",
      "text/plain": [
       "<IPython.core.display.Image object>"
      ]
     },
     "execution_count": 26,
     "metadata": {},
     "output_type": "execute_result"
    }
   ],
   "source": [
    "generator, discriminator, gan_model, encoder = build_vaegan(input_shape, latent_dim=100)\n",
    "dot_img_file = '/VAEGAN.png'\n",
    "tf.keras.utils.plot_model(gan_model, to_file=dot_img_file, show_shapes=True)"
   ]
  },
  {
   "cell_type": "code",
   "execution_count": 27,
   "metadata": {},
   "outputs": [
    {
     "name": "stdout",
     "output_type": "stream",
     "text": [
      ">1, 1/433, d=0.685, g=0.725\n",
      ">1, 11/433, d=0.659, g=0.796\n",
      ">1, 21/433, d=0.624, g=0.861\n",
      ">1, 31/433, d=0.601, g=0.943\n",
      ">1, 41/433, d=0.540, g=0.927\n",
      ">1, 51/433, d=0.444, g=0.982\n",
      ">1, 61/433, d=0.363, g=1.154\n",
      ">1, 71/433, d=0.268, g=1.352\n",
      ">1, 81/433, d=0.170, g=1.394\n",
      ">1, 91/433, d=0.129, g=1.510\n",
      ">1, 101/433, d=0.087, g=1.634\n",
      ">1, 111/433, d=0.078, g=1.590\n",
      ">1, 121/433, d=0.047, g=1.216\n",
      ">1, 131/433, d=0.039, g=1.438\n",
      ">1, 141/433, d=0.026, g=1.009\n",
      ">1, 151/433, d=0.023, g=1.066\n",
      ">1, 161/433, d=0.028, g=0.976\n",
      ">1, 171/433, d=0.016, g=0.603\n",
      ">1, 181/433, d=0.023, g=0.641\n",
      ">1, 191/433, d=0.014, g=0.639\n",
      ">1, 201/433, d=0.009, g=0.817\n",
      ">1, 211/433, d=0.007, g=0.822\n",
      ">1, 221/433, d=0.010, g=0.506\n",
      ">1, 231/433, d=0.005, g=0.544\n",
      ">1, 241/433, d=0.004, g=0.488\n",
      ">1, 251/433, d=0.004, g=0.340\n",
      ">1, 261/433, d=0.005, g=0.239\n",
      ">1, 271/433, d=0.008, g=0.312\n",
      ">1, 281/433, d=0.011, g=0.339\n",
      ">1, 291/433, d=0.003, g=0.320\n",
      ">1, 301/433, d=0.003, g=0.161\n",
      ">1, 311/433, d=0.001, g=0.203\n",
      ">1, 321/433, d=0.002, g=0.128\n",
      ">1, 331/433, d=0.002, g=0.217\n",
      ">1, 341/433, d=0.003, g=0.109\n",
      ">1, 351/433, d=0.002, g=0.142\n",
      ">1, 361/433, d=0.002, g=0.202\n",
      ">1, 371/433, d=0.002, g=0.109\n",
      ">1, 381/433, d=0.005, g=0.173\n",
      ">1, 391/433, d=0.002, g=0.101\n",
      ">1, 401/433, d=0.002, g=0.069\n",
      ">1, 411/433, d=0.004, g=0.079\n",
      ">1, 421/433, d=0.001, g=0.064\n",
      ">1, 431/433, d=0.002, g=0.106\n",
      ">Accuracy real: 100%, fake: 100%\n",
      "WARNING:tensorflow:Compiled the loaded model, but the compiled metrics have yet to be built. `model.compile_metrics` will be empty until you train or evaluate the model.\n",
      ">2, 1/433, d=0.002, g=0.082\n",
      ">2, 11/433, d=0.002, g=0.048\n",
      ">2, 21/433, d=0.003, g=0.035\n",
      ">2, 31/433, d=0.002, g=0.027\n",
      ">2, 41/433, d=0.002, g=0.129\n",
      ">2, 51/433, d=0.001, g=0.119\n"
     ]
    },
    {
     "ename": "KeyboardInterrupt",
     "evalue": "",
     "output_type": "error",
     "traceback": [
      "\u001b[1;31m---------------------------------------------------------------------------\u001b[0m",
      "\u001b[1;31mKeyboardInterrupt\u001b[0m                         Traceback (most recent call last)",
      "\u001b[1;32md:\\GAN_poke\\VAEGAN.ipynb Cell 20\u001b[0m in \u001b[0;36m4\n\u001b[0;32m      <a href='vscode-notebook-cell:/d%3A/GAN_poke/VAEGAN.ipynb#X25sZmlsZQ%3D%3D?line=1'>2</a>\u001b[0m latent_dim \u001b[39m=\u001b[39m \u001b[39m100\u001b[39m\n\u001b[0;32m      <a href='vscode-notebook-cell:/d%3A/GAN_poke/VAEGAN.ipynb#X25sZmlsZQ%3D%3D?line=2'>3</a>\u001b[0m \u001b[39m# train model\u001b[39;00m\n\u001b[1;32m----> <a href='vscode-notebook-cell:/d%3A/GAN_poke/VAEGAN.ipynb#X25sZmlsZQ%3D%3D?line=3'>4</a>\u001b[0m train(generator, discriminator, encoder, gan_model, train_ds, latent_dim, n_epochs\u001b[39m=\u001b[39;49m\u001b[39m11\u001b[39;49m, resume_training\u001b[39m=\u001b[39;49m\u001b[39m0\u001b[39;49m)\n",
      "\u001b[1;32md:\\GAN_poke\\VAEGAN.ipynb Cell 20\u001b[0m in \u001b[0;36m2\n\u001b[0;32m     <a href='vscode-notebook-cell:/d%3A/GAN_poke/VAEGAN.ipynb#X25sZmlsZQ%3D%3D?line=20'>21</a>\u001b[0m X_gan \u001b[39m=\u001b[39m tf\u001b[39m.\u001b[39mrandom\u001b[39m.\u001b[39mnormal((n_batch, \u001b[39m96\u001b[39m, \u001b[39m96\u001b[39m, \u001b[39m3\u001b[39m))\n\u001b[0;32m     <a href='vscode-notebook-cell:/d%3A/GAN_poke/VAEGAN.ipynb#X25sZmlsZQ%3D%3D?line=21'>22</a>\u001b[0m y_gan_class \u001b[39m=\u001b[39m tf\u001b[39m.\u001b[39mones((n_batch, \u001b[39m1\u001b[39m))\n\u001b[1;32m---> <a href='vscode-notebook-cell:/d%3A/GAN_poke/VAEGAN.ipynb#X25sZmlsZQ%3D%3D?line=22'>23</a>\u001b[0m g_loss \u001b[39m=\u001b[39m gan_model\u001b[39m.\u001b[39;49mtrain_on_batch(X_gan, y_gan_class)\n\u001b[0;32m     <a href='vscode-notebook-cell:/d%3A/GAN_poke/VAEGAN.ipynb#X25sZmlsZQ%3D%3D?line=23'>24</a>\u001b[0m \u001b[39m# summarize loss on this batch\u001b[39;00m\n\u001b[0;32m     <a href='vscode-notebook-cell:/d%3A/GAN_poke/VAEGAN.ipynb#X25sZmlsZQ%3D%3D?line=24'>25</a>\u001b[0m \u001b[39mif\u001b[39;00m j \u001b[39m%\u001b[39m \u001b[39m10\u001b[39m \u001b[39m==\u001b[39m \u001b[39m0\u001b[39m:\n",
      "File \u001b[1;32mc:\\Users\\valen\\AppData\\Local\\Programs\\Python\\Python310\\lib\\site-packages\\keras\\engine\\training.py:2383\u001b[0m, in \u001b[0;36mModel.train_on_batch\u001b[1;34m(self, x, y, sample_weight, class_weight, reset_metrics, return_dict)\u001b[0m\n\u001b[0;32m   2380\u001b[0m     \u001b[39mself\u001b[39m\u001b[39m.\u001b[39mtrain_function \u001b[39m=\u001b[39m \u001b[39mself\u001b[39m\u001b[39m.\u001b[39mmake_train_function()\n\u001b[0;32m   2381\u001b[0m     logs \u001b[39m=\u001b[39m \u001b[39mself\u001b[39m\u001b[39m.\u001b[39mtrain_function(iterator)\n\u001b[1;32m-> 2383\u001b[0m logs \u001b[39m=\u001b[39m tf_utils\u001b[39m.\u001b[39;49msync_to_numpy_or_python_type(logs)\n\u001b[0;32m   2384\u001b[0m \u001b[39mif\u001b[39;00m return_dict:\n\u001b[0;32m   2385\u001b[0m     \u001b[39mreturn\u001b[39;00m logs\n",
      "File \u001b[1;32mc:\\Users\\valen\\AppData\\Local\\Programs\\Python\\Python310\\lib\\site-packages\\keras\\utils\\tf_utils.py:635\u001b[0m, in \u001b[0;36msync_to_numpy_or_python_type\u001b[1;34m(tensors)\u001b[0m\n\u001b[0;32m    632\u001b[0m         \u001b[39mreturn\u001b[39;00m t\n\u001b[0;32m    633\u001b[0m     \u001b[39mreturn\u001b[39;00m t\u001b[39m.\u001b[39mitem() \u001b[39mif\u001b[39;00m np\u001b[39m.\u001b[39mndim(t) \u001b[39m==\u001b[39m \u001b[39m0\u001b[39m \u001b[39melse\u001b[39;00m t\n\u001b[1;32m--> 635\u001b[0m \u001b[39mreturn\u001b[39;00m tf\u001b[39m.\u001b[39;49mnest\u001b[39m.\u001b[39;49mmap_structure(_to_single_numpy_or_python_type, tensors)\n",
      "File \u001b[1;32mc:\\Users\\valen\\AppData\\Local\\Programs\\Python\\Python310\\lib\\site-packages\\tensorflow\\python\\util\\nest.py:917\u001b[0m, in \u001b[0;36mmap_structure\u001b[1;34m(func, *structure, **kwargs)\u001b[0m\n\u001b[0;32m    913\u001b[0m flat_structure \u001b[39m=\u001b[39m (flatten(s, expand_composites) \u001b[39mfor\u001b[39;00m s \u001b[39min\u001b[39;00m structure)\n\u001b[0;32m    914\u001b[0m entries \u001b[39m=\u001b[39m \u001b[39mzip\u001b[39m(\u001b[39m*\u001b[39mflat_structure)\n\u001b[0;32m    916\u001b[0m \u001b[39mreturn\u001b[39;00m pack_sequence_as(\n\u001b[1;32m--> 917\u001b[0m     structure[\u001b[39m0\u001b[39m], [func(\u001b[39m*\u001b[39mx) \u001b[39mfor\u001b[39;00m x \u001b[39min\u001b[39;00m entries],\n\u001b[0;32m    918\u001b[0m     expand_composites\u001b[39m=\u001b[39mexpand_composites)\n",
      "File \u001b[1;32mc:\\Users\\valen\\AppData\\Local\\Programs\\Python\\Python310\\lib\\site-packages\\tensorflow\\python\\util\\nest.py:917\u001b[0m, in \u001b[0;36m<listcomp>\u001b[1;34m(.0)\u001b[0m\n\u001b[0;32m    913\u001b[0m flat_structure \u001b[39m=\u001b[39m (flatten(s, expand_composites) \u001b[39mfor\u001b[39;00m s \u001b[39min\u001b[39;00m structure)\n\u001b[0;32m    914\u001b[0m entries \u001b[39m=\u001b[39m \u001b[39mzip\u001b[39m(\u001b[39m*\u001b[39mflat_structure)\n\u001b[0;32m    916\u001b[0m \u001b[39mreturn\u001b[39;00m pack_sequence_as(\n\u001b[1;32m--> 917\u001b[0m     structure[\u001b[39m0\u001b[39m], [func(\u001b[39m*\u001b[39;49mx) \u001b[39mfor\u001b[39;00m x \u001b[39min\u001b[39;00m entries],\n\u001b[0;32m    918\u001b[0m     expand_composites\u001b[39m=\u001b[39mexpand_composites)\n",
      "File \u001b[1;32mc:\\Users\\valen\\AppData\\Local\\Programs\\Python\\Python310\\lib\\site-packages\\keras\\utils\\tf_utils.py:628\u001b[0m, in \u001b[0;36msync_to_numpy_or_python_type.<locals>._to_single_numpy_or_python_type\u001b[1;34m(t)\u001b[0m\n\u001b[0;32m    625\u001b[0m \u001b[39mdef\u001b[39;00m \u001b[39m_to_single_numpy_or_python_type\u001b[39m(t):\n\u001b[0;32m    626\u001b[0m     \u001b[39m# Don't turn ragged or sparse tensors to NumPy.\u001b[39;00m\n\u001b[0;32m    627\u001b[0m     \u001b[39mif\u001b[39;00m \u001b[39misinstance\u001b[39m(t, tf\u001b[39m.\u001b[39mTensor):\n\u001b[1;32m--> 628\u001b[0m         t \u001b[39m=\u001b[39m t\u001b[39m.\u001b[39;49mnumpy()\n\u001b[0;32m    629\u001b[0m     \u001b[39m# Strings, ragged and sparse tensors don't have .item(). Return them\u001b[39;00m\n\u001b[0;32m    630\u001b[0m     \u001b[39m# as-is.\u001b[39;00m\n\u001b[0;32m    631\u001b[0m     \u001b[39mif\u001b[39;00m \u001b[39mnot\u001b[39;00m \u001b[39misinstance\u001b[39m(t, (np\u001b[39m.\u001b[39mndarray, np\u001b[39m.\u001b[39mgeneric)):\n",
      "File \u001b[1;32mc:\\Users\\valen\\AppData\\Local\\Programs\\Python\\Python310\\lib\\site-packages\\tensorflow\\python\\framework\\ops.py:1157\u001b[0m, in \u001b[0;36m_EagerTensorBase.numpy\u001b[1;34m(self)\u001b[0m\n\u001b[0;32m   1134\u001b[0m \u001b[39m\"\"\"Copy of the contents of this Tensor into a NumPy array or scalar.\u001b[39;00m\n\u001b[0;32m   1135\u001b[0m \n\u001b[0;32m   1136\u001b[0m \u001b[39mUnlike NumPy arrays, Tensors are immutable, so this method has to copy\u001b[39;00m\n\u001b[1;32m   (...)\u001b[0m\n\u001b[0;32m   1154\u001b[0m \u001b[39m    NumPy dtype.\u001b[39;00m\n\u001b[0;32m   1155\u001b[0m \u001b[39m\"\"\"\u001b[39;00m\n\u001b[0;32m   1156\u001b[0m \u001b[39m# TODO(slebedev): Consider avoiding a copy for non-CPU or remote tensors.\u001b[39;00m\n\u001b[1;32m-> 1157\u001b[0m maybe_arr \u001b[39m=\u001b[39m \u001b[39mself\u001b[39;49m\u001b[39m.\u001b[39;49m_numpy()  \u001b[39m# pylint: disable=protected-access\u001b[39;00m\n\u001b[0;32m   1158\u001b[0m \u001b[39mreturn\u001b[39;00m maybe_arr\u001b[39m.\u001b[39mcopy() \u001b[39mif\u001b[39;00m \u001b[39misinstance\u001b[39m(maybe_arr, np\u001b[39m.\u001b[39mndarray) \u001b[39melse\u001b[39;00m maybe_arr\n",
      "File \u001b[1;32mc:\\Users\\valen\\AppData\\Local\\Programs\\Python\\Python310\\lib\\site-packages\\tensorflow\\python\\framework\\ops.py:1123\u001b[0m, in \u001b[0;36m_EagerTensorBase._numpy\u001b[1;34m(self)\u001b[0m\n\u001b[0;32m   1121\u001b[0m \u001b[39mdef\u001b[39;00m \u001b[39m_numpy\u001b[39m(\u001b[39mself\u001b[39m):\n\u001b[0;32m   1122\u001b[0m   \u001b[39mtry\u001b[39;00m:\n\u001b[1;32m-> 1123\u001b[0m     \u001b[39mreturn\u001b[39;00m \u001b[39mself\u001b[39;49m\u001b[39m.\u001b[39;49m_numpy_internal()\n\u001b[0;32m   1124\u001b[0m   \u001b[39mexcept\u001b[39;00m core\u001b[39m.\u001b[39m_NotOkStatusException \u001b[39mas\u001b[39;00m e:  \u001b[39m# pylint: disable=protected-access\u001b[39;00m\n\u001b[0;32m   1125\u001b[0m     \u001b[39mraise\u001b[39;00m core\u001b[39m.\u001b[39m_status_to_exception(e) \u001b[39mfrom\u001b[39;00m \u001b[39mNone\u001b[39m\n",
      "\u001b[1;31mKeyboardInterrupt\u001b[0m: "
     ]
    }
   ],
   "source": [
    "# size of the latent space\n",
    "latent_dim = 100\n",
    "# train model\n",
    "train(generator, discriminator, encoder, gan_model, train_ds, latent_dim, n_epochs=11, resume_training=0)"
   ]
  },
  {
   "attachments": {},
   "cell_type": "markdown",
   "metadata": {},
   "source": [
    "test"
   ]
  },
  {
   "cell_type": "code",
   "execution_count": 17,
   "metadata": {},
   "outputs": [
    {
     "name": "stdout",
     "output_type": "stream",
     "text": [
      "WARNING:tensorflow:No training configuration found in the save file, so the model was *not* compiled. Compile it manually.\n",
      "WARNING:tensorflow:Error in loading the saved optimizer state. As a result, your model is starting with a freshly initialized optimizer.\n"
     ]
    }
   ],
   "source": [
    "generator = tf.keras.models.load_model('cgenerator_model_64_e131.h5')\n",
    "discriminator = tf.keras.models.load_model('cdiscriminator_model_64.h5')"
   ]
  },
  {
   "cell_type": "code",
   "execution_count": 492,
   "metadata": {},
   "outputs": [
    {
     "data": {
      "application/vnd.plotly.v1+json": {
       "config": {
        "plotlyServerURL": "https://plot.ly"
       },
       "data": [
        {
         "hovertemplate": "x: %{x}<br>y: %{y}<extra></extra>",
         "name": "0",
         "source": "data:image/png;base64,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",
         "type": "image",
         "xaxis": "x",
         "yaxis": "y"
        }
       ],
       "layout": {
        "annotations": [
         {
          "align": "left",
          "bgcolor": "#ff7f0e",
          "bordercolor": "#c7c7c7",
          "borderpad": 2,
          "borderwidth": 1,
          "font": {
           "color": "#ffffff",
           "family": "Courier New, monospace",
           "size": 12
          },
          "opacity": 0.8,
          "showarrow": false,
          "text": "real: 0%",
          "x": 1,
          "xref": "paper",
          "y": 1,
          "yref": "paper"
         }
        ],
        "height": 350,
        "images": [
         {
          "layer": "below",
          "sizex": 0.3,
          "sizey": 0.3,
          "source": "images/final/real/1.png",
          "x": 1,
          "xref": "paper",
          "y": 1.1,
          "yref": "paper"
         }
        ],
        "margin": {
         "l": 0,
         "t": 60
        },
        "shapes": [
         {
          "line": {
           "color": "black",
           "width": 2
          },
          "type": "rect",
          "x0": 0,
          "x1": 96,
          "xref": "x",
          "y0": 0,
          "y1": 96,
          "yref": "y"
         }
        ],
        "template": {
         "data": {
          "bar": [
           {
            "error_x": {
             "color": "#2a3f5f"
            },
            "error_y": {
             "color": "#2a3f5f"
            },
            "marker": {
             "line": {
              "color": "#E5ECF6",
              "width": 0.5
             },
             "pattern": {
              "fillmode": "overlay",
              "size": 10,
              "solidity": 0.2
             }
            },
            "type": "bar"
           }
          ],
          "barpolar": [
           {
            "marker": {
             "line": {
              "color": "#E5ECF6",
              "width": 0.5
             },
             "pattern": {
              "fillmode": "overlay",
              "size": 10,
              "solidity": 0.2
             }
            },
            "type": "barpolar"
           }
          ],
          "carpet": [
           {
            "aaxis": {
             "endlinecolor": "#2a3f5f",
             "gridcolor": "white",
             "linecolor": "white",
             "minorgridcolor": "white",
             "startlinecolor": "#2a3f5f"
            },
            "baxis": {
             "endlinecolor": "#2a3f5f",
             "gridcolor": "white",
             "linecolor": "white",
             "minorgridcolor": "white",
             "startlinecolor": "#2a3f5f"
            },
            "type": "carpet"
           }
          ],
          "choropleth": [
           {
            "colorbar": {
             "outlinewidth": 0,
             "ticks": ""
            },
            "type": "choropleth"
           }
          ],
          "contour": [
           {
            "colorbar": {
             "outlinewidth": 0,
             "ticks": ""
            },
            "colorscale": [
             [
              0,
              "#0d0887"
             ],
             [
              0.1111111111111111,
              "#46039f"
             ],
             [
              0.2222222222222222,
              "#7201a8"
             ],
             [
              0.3333333333333333,
              "#9c179e"
             ],
             [
              0.4444444444444444,
              "#bd3786"
             ],
             [
              0.5555555555555556,
              "#d8576b"
             ],
             [
              0.6666666666666666,
              "#ed7953"
             ],
             [
              0.7777777777777778,
              "#fb9f3a"
             ],
             [
              0.8888888888888888,
              "#fdca26"
             ],
             [
              1,
              "#f0f921"
             ]
            ],
            "type": "contour"
           }
          ],
          "contourcarpet": [
           {
            "colorbar": {
             "outlinewidth": 0,
             "ticks": ""
            },
            "type": "contourcarpet"
           }
          ],
          "heatmap": [
           {
            "colorbar": {
             "outlinewidth": 0,
             "ticks": ""
            },
            "colorscale": [
             [
              0,
              "#0d0887"
             ],
             [
              0.1111111111111111,
              "#46039f"
             ],
             [
              0.2222222222222222,
              "#7201a8"
             ],
             [
              0.3333333333333333,
              "#9c179e"
             ],
             [
              0.4444444444444444,
              "#bd3786"
             ],
             [
              0.5555555555555556,
              "#d8576b"
             ],
             [
              0.6666666666666666,
              "#ed7953"
             ],
             [
              0.7777777777777778,
              "#fb9f3a"
             ],
             [
              0.8888888888888888,
              "#fdca26"
             ],
             [
              1,
              "#f0f921"
             ]
            ],
            "type": "heatmap"
           }
          ],
          "heatmapgl": [
           {
            "colorbar": {
             "outlinewidth": 0,
             "ticks": ""
            },
            "colorscale": [
             [
              0,
              "#0d0887"
             ],
             [
              0.1111111111111111,
              "#46039f"
             ],
             [
              0.2222222222222222,
              "#7201a8"
             ],
             [
              0.3333333333333333,
              "#9c179e"
             ],
             [
              0.4444444444444444,
              "#bd3786"
             ],
             [
              0.5555555555555556,
              "#d8576b"
             ],
             [
              0.6666666666666666,
              "#ed7953"
             ],
             [
              0.7777777777777778,
              "#fb9f3a"
             ],
             [
              0.8888888888888888,
              "#fdca26"
             ],
             [
              1,
              "#f0f921"
             ]
            ],
            "type": "heatmapgl"
           }
          ],
          "histogram": [
           {
            "marker": {
             "pattern": {
              "fillmode": "overlay",
              "size": 10,
              "solidity": 0.2
             }
            },
            "type": "histogram"
           }
          ],
          "histogram2d": [
           {
            "colorbar": {
             "outlinewidth": 0,
             "ticks": ""
            },
            "colorscale": [
             [
              0,
              "#0d0887"
             ],
             [
              0.1111111111111111,
              "#46039f"
             ],
             [
              0.2222222222222222,
              "#7201a8"
             ],
             [
              0.3333333333333333,
              "#9c179e"
             ],
             [
              0.4444444444444444,
              "#bd3786"
             ],
             [
              0.5555555555555556,
              "#d8576b"
             ],
             [
              0.6666666666666666,
              "#ed7953"
             ],
             [
              0.7777777777777778,
              "#fb9f3a"
             ],
             [
              0.8888888888888888,
              "#fdca26"
             ],
             [
              1,
              "#f0f921"
             ]
            ],
            "type": "histogram2d"
           }
          ],
          "histogram2dcontour": [
           {
            "colorbar": {
             "outlinewidth": 0,
             "ticks": ""
            },
            "colorscale": [
             [
              0,
              "#0d0887"
             ],
             [
              0.1111111111111111,
              "#46039f"
             ],
             [
              0.2222222222222222,
              "#7201a8"
             ],
             [
              0.3333333333333333,
              "#9c179e"
             ],
             [
              0.4444444444444444,
              "#bd3786"
             ],
             [
              0.5555555555555556,
              "#d8576b"
             ],
             [
              0.6666666666666666,
              "#ed7953"
             ],
             [
              0.7777777777777778,
              "#fb9f3a"
             ],
             [
              0.8888888888888888,
              "#fdca26"
             ],
             [
              1,
              "#f0f921"
             ]
            ],
            "type": "histogram2dcontour"
           }
          ],
          "mesh3d": [
           {
            "colorbar": {
             "outlinewidth": 0,
             "ticks": ""
            },
            "type": "mesh3d"
           }
          ],
          "parcoords": [
           {
            "line": {
             "colorbar": {
              "outlinewidth": 0,
              "ticks": ""
             }
            },
            "type": "parcoords"
           }
          ],
          "pie": [
           {
            "automargin": true,
            "type": "pie"
           }
          ],
          "scatter": [
           {
            "fillpattern": {
             "fillmode": "overlay",
             "size": 10,
             "solidity": 0.2
            },
            "type": "scatter"
           }
          ],
          "scatter3d": [
           {
            "line": {
             "colorbar": {
              "outlinewidth": 0,
              "ticks": ""
             }
            },
            "marker": {
             "colorbar": {
              "outlinewidth": 0,
              "ticks": ""
             }
            },
            "type": "scatter3d"
           }
          ],
          "scattercarpet": [
           {
            "marker": {
             "colorbar": {
              "outlinewidth": 0,
              "ticks": ""
             }
            },
            "type": "scattercarpet"
           }
          ],
          "scattergeo": [
           {
            "marker": {
             "colorbar": {
              "outlinewidth": 0,
              "ticks": ""
             }
            },
            "type": "scattergeo"
           }
          ],
          "scattergl": [
           {
            "marker": {
             "colorbar": {
              "outlinewidth": 0,
              "ticks": ""
             }
            },
            "type": "scattergl"
           }
          ],
          "scattermapbox": [
           {
            "marker": {
             "colorbar": {
              "outlinewidth": 0,
              "ticks": ""
             }
            },
            "type": "scattermapbox"
           }
          ],
          "scatterpolar": [
           {
            "marker": {
             "colorbar": {
              "outlinewidth": 0,
              "ticks": ""
             }
            },
            "type": "scatterpolar"
           }
          ],
          "scatterpolargl": [
           {
            "marker": {
             "colorbar": {
              "outlinewidth": 0,
              "ticks": ""
             }
            },
            "type": "scatterpolargl"
           }
          ],
          "scatterternary": [
           {
            "marker": {
             "colorbar": {
              "outlinewidth": 0,
              "ticks": ""
             }
            },
            "type": "scatterternary"
           }
          ],
          "surface": [
           {
            "colorbar": {
             "outlinewidth": 0,
             "ticks": ""
            },
            "colorscale": [
             [
              0,
              "#0d0887"
             ],
             [
              0.1111111111111111,
              "#46039f"
             ],
             [
              0.2222222222222222,
              "#7201a8"
             ],
             [
              0.3333333333333333,
              "#9c179e"
             ],
             [
              0.4444444444444444,
              "#bd3786"
             ],
             [
              0.5555555555555556,
              "#d8576b"
             ],
             [
              0.6666666666666666,
              "#ed7953"
             ],
             [
              0.7777777777777778,
              "#fb9f3a"
             ],
             [
              0.8888888888888888,
              "#fdca26"
             ],
             [
              1,
              "#f0f921"
             ]
            ],
            "type": "surface"
           }
          ],
          "table": [
           {
            "cells": {
             "fill": {
              "color": "#EBF0F8"
             },
             "line": {
              "color": "white"
             }
            },
            "header": {
             "fill": {
              "color": "#C8D4E3"
             },
             "line": {
              "color": "white"
             }
            },
            "type": "table"
           }
          ]
         },
         "layout": {
          "annotationdefaults": {
           "arrowcolor": "#2a3f5f",
           "arrowhead": 0,
           "arrowwidth": 1
          },
          "autotypenumbers": "strict",
          "coloraxis": {
           "colorbar": {
            "outlinewidth": 0,
            "ticks": ""
           }
          },
          "colorscale": {
           "diverging": [
            [
             0,
             "#8e0152"
            ],
            [
             0.1,
             "#c51b7d"
            ],
            [
             0.2,
             "#de77ae"
            ],
            [
             0.3,
             "#f1b6da"
            ],
            [
             0.4,
             "#fde0ef"
            ],
            [
             0.5,
             "#f7f7f7"
            ],
            [
             0.6,
             "#e6f5d0"
            ],
            [
             0.7,
             "#b8e186"
            ],
            [
             0.8,
             "#7fbc41"
            ],
            [
             0.9,
             "#4d9221"
            ],
            [
             1,
             "#276419"
            ]
           ],
           "sequential": [
            [
             0,
             "#0d0887"
            ],
            [
             0.1111111111111111,
             "#46039f"
            ],
            [
             0.2222222222222222,
             "#7201a8"
            ],
            [
             0.3333333333333333,
             "#9c179e"
            ],
            [
             0.4444444444444444,
             "#bd3786"
            ],
            [
             0.5555555555555556,
             "#d8576b"
            ],
            [
             0.6666666666666666,
             "#ed7953"
            ],
            [
             0.7777777777777778,
             "#fb9f3a"
            ],
            [
             0.8888888888888888,
             "#fdca26"
            ],
            [
             1,
             "#f0f921"
            ]
           ],
           "sequentialminus": [
            [
             0,
             "#0d0887"
            ],
            [
             0.1111111111111111,
             "#46039f"
            ],
            [
             0.2222222222222222,
             "#7201a8"
            ],
            [
             0.3333333333333333,
             "#9c179e"
            ],
            [
             0.4444444444444444,
             "#bd3786"
            ],
            [
             0.5555555555555556,
             "#d8576b"
            ],
            [
             0.6666666666666666,
             "#ed7953"
            ],
            [
             0.7777777777777778,
             "#fb9f3a"
            ],
            [
             0.8888888888888888,
             "#fdca26"
            ],
            [
             1,
             "#f0f921"
            ]
           ]
          },
          "colorway": [
           "#636efa",
           "#EF553B",
           "#00cc96",
           "#ab63fa",
           "#FFA15A",
           "#19d3f3",
           "#FF6692",
           "#B6E880",
           "#FF97FF",
           "#FECB52"
          ],
          "font": {
           "color": "#2a3f5f"
          },
          "geo": {
           "bgcolor": "white",
           "lakecolor": "white",
           "landcolor": "#E5ECF6",
           "showlakes": true,
           "showland": true,
           "subunitcolor": "white"
          },
          "hoverlabel": {
           "align": "left"
          },
          "hovermode": "closest",
          "mapbox": {
           "style": "light"
          },
          "paper_bgcolor": "white",
          "plot_bgcolor": "#E5ECF6",
          "polar": {
           "angularaxis": {
            "gridcolor": "white",
            "linecolor": "white",
            "ticks": ""
           },
           "bgcolor": "#E5ECF6",
           "radialaxis": {
            "gridcolor": "white",
            "linecolor": "white",
            "ticks": ""
           }
          },
          "scene": {
           "xaxis": {
            "backgroundcolor": "#E5ECF6",
            "gridcolor": "white",
            "gridwidth": 2,
            "linecolor": "white",
            "showbackground": true,
            "ticks": "",
            "zerolinecolor": "white"
           },
           "yaxis": {
            "backgroundcolor": "#E5ECF6",
            "gridcolor": "white",
            "gridwidth": 2,
            "linecolor": "white",
            "showbackground": true,
            "ticks": "",
            "zerolinecolor": "white"
           },
           "zaxis": {
            "backgroundcolor": "#E5ECF6",
            "gridcolor": "white",
            "gridwidth": 2,
            "linecolor": "white",
            "showbackground": true,
            "ticks": "",
            "zerolinecolor": "white"
           }
          },
          "shapedefaults": {
           "line": {
            "color": "#2a3f5f"
           }
          },
          "ternary": {
           "aaxis": {
            "gridcolor": "white",
            "linecolor": "white",
            "ticks": ""
           },
           "baxis": {
            "gridcolor": "white",
            "linecolor": "white",
            "ticks": ""
           },
           "bgcolor": "#E5ECF6",
           "caxis": {
            "gridcolor": "white",
            "linecolor": "white",
            "ticks": ""
           }
          },
          "title": {
           "x": 0.05
          },
          "xaxis": {
           "automargin": true,
           "gridcolor": "white",
           "linecolor": "white",
           "ticks": "",
           "title": {
            "standoff": 15
           },
           "zerolinecolor": "white",
           "zerolinewidth": 2
          },
          "yaxis": {
           "automargin": true,
           "gridcolor": "white",
           "linecolor": "white",
           "ticks": "",
           "title": {
            "standoff": 15
           },
           "zerolinecolor": "white",
           "zerolinewidth": 2
          }
         }
        },
        "title": {
         "text": "Label: image générée"
        },
        "width": 500,
        "xaxis": {
         "anchor": "y",
         "domain": [
          0,
          1
         ],
         "showgrid": false,
         "showticklabels": false,
         "visible": false,
         "zeroline": false
        },
        "yaxis": {
         "anchor": "x",
         "domain": [
          0,
          1
         ],
         "showgrid": false,
         "showticklabels": false,
         "visible": false,
         "zeroline": false
        }
       }
      }
     },
     "metadata": {},
     "output_type": "display_data"
    }
   ],
   "source": [
    "X = generator.predict([generate_latent_points(100, 1), types_to_vector('Ghost', 'Fighting')], verbose=0)\n",
    "plot_image(X[0], \"image générée\", {\"real\": discriminator.predict([X, types_to_vector('Ghost', 'Fighting')], verbose=0)[0][0]}, 96)"
   ]
  },
  {
   "cell_type": "code",
   "execution_count": null,
   "metadata": {},
   "outputs": [],
   "source": [
    "X = generator.predict([generate_latent_points(100, 1), np.array([[1., 1., 1., 1., 1., 1., 1., 1., 1., 1., 1., 1., 1., 1., 1., 1., 1., 1.]])], verbose=0)\n",
    "plot_image(X[0], \"image générée\", {\"real\": discriminator.predict([X, np.array([[1., 1., 1., 1., 1., 1., 1., 1., 1., 1., 1., 1., 1., 1., 1., 1., 1., 1.]])], verbose=0)[0][0]}, 96)"
   ]
  },
  {
   "cell_type": "code",
   "execution_count": 91,
   "metadata": {},
   "outputs": [],
   "source": [
    "# test image with random noise between -1 and 1\n",
    "test_image_noise = tf.random.uniform(shape=(1, 96, 96, 3), minval=-1, maxval=1)"
   ]
  },
  {
   "cell_type": "code",
   "execution_count": 94,
   "metadata": {},
   "outputs": [
    {
     "data": {
      "application/vnd.plotly.v1+json": {
       "config": {
        "plotlyServerURL": "https://plot.ly"
       },
       "data": [
        {
         "hovertemplate": "x: %{x}<br>y: %{y}<extra></extra>",
         "name": "0",
         "source": "data:image/png;base64,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",
         "type": "image",
         "xaxis": "x",
         "yaxis": "y"
        }
       ],
       "layout": {
        "annotations": [
         {
          "align": "left",
          "bgcolor": "#ff7f0e",
          "bordercolor": "#c7c7c7",
          "borderpad": 2,
          "borderwidth": 1,
          "font": {
           "color": "#ffffff",
           "family": "Courier New, monospace",
           "size": 12
          },
          "opacity": 0.8,
          "showarrow": false,
          "text": "real: 0%",
          "x": 1,
          "xref": "paper",
          "y": 1,
          "yref": "paper"
         }
        ],
        "height": 350,
        "images": [
         {
          "layer": "below",
          "sizex": 0.3,
          "sizey": 0.3,
          "source": "images/final/real/1.png",
          "x": 1,
          "xref": "paper",
          "y": 1.1,
          "yref": "paper"
         }
        ],
        "margin": {
         "l": 0,
         "t": 60
        },
        "shapes": [
         {
          "line": {
           "color": "black",
           "width": 2
          },
          "type": "rect",
          "x0": 0,
          "x1": 96,
          "xref": "x",
          "y0": 0,
          "y1": 96,
          "yref": "y"
         }
        ],
        "template": {
         "data": {
          "bar": [
           {
            "error_x": {
             "color": "#2a3f5f"
            },
            "error_y": {
             "color": "#2a3f5f"
            },
            "marker": {
             "line": {
              "color": "#E5ECF6",
              "width": 0.5
             },
             "pattern": {
              "fillmode": "overlay",
              "size": 10,
              "solidity": 0.2
             }
            },
            "type": "bar"
           }
          ],
          "barpolar": [
           {
            "marker": {
             "line": {
              "color": "#E5ECF6",
              "width": 0.5
             },
             "pattern": {
              "fillmode": "overlay",
              "size": 10,
              "solidity": 0.2
             }
            },
            "type": "barpolar"
           }
          ],
          "carpet": [
           {
            "aaxis": {
             "endlinecolor": "#2a3f5f",
             "gridcolor": "white",
             "linecolor": "white",
             "minorgridcolor": "white",
             "startlinecolor": "#2a3f5f"
            },
            "baxis": {
             "endlinecolor": "#2a3f5f",
             "gridcolor": "white",
             "linecolor": "white",
             "minorgridcolor": "white",
             "startlinecolor": "#2a3f5f"
            },
            "type": "carpet"
           }
          ],
          "choropleth": [
           {
            "colorbar": {
             "outlinewidth": 0,
             "ticks": ""
            },
            "type": "choropleth"
           }
          ],
          "contour": [
           {
            "colorbar": {
             "outlinewidth": 0,
             "ticks": ""
            },
            "colorscale": [
             [
              0,
              "#0d0887"
             ],
             [
              0.1111111111111111,
              "#46039f"
             ],
             [
              0.2222222222222222,
              "#7201a8"
             ],
             [
              0.3333333333333333,
              "#9c179e"
             ],
             [
              0.4444444444444444,
              "#bd3786"
             ],
             [
              0.5555555555555556,
              "#d8576b"
             ],
             [
              0.6666666666666666,
              "#ed7953"
             ],
             [
              0.7777777777777778,
              "#fb9f3a"
             ],
             [
              0.8888888888888888,
              "#fdca26"
             ],
             [
              1,
              "#f0f921"
             ]
            ],
            "type": "contour"
           }
          ],
          "contourcarpet": [
           {
            "colorbar": {
             "outlinewidth": 0,
             "ticks": ""
            },
            "type": "contourcarpet"
           }
          ],
          "heatmap": [
           {
            "colorbar": {
             "outlinewidth": 0,
             "ticks": ""
            },
            "colorscale": [
             [
              0,
              "#0d0887"
             ],
             [
              0.1111111111111111,
              "#46039f"
             ],
             [
              0.2222222222222222,
              "#7201a8"
             ],
             [
              0.3333333333333333,
              "#9c179e"
             ],
             [
              0.4444444444444444,
              "#bd3786"
             ],
             [
              0.5555555555555556,
              "#d8576b"
             ],
             [
              0.6666666666666666,
              "#ed7953"
             ],
             [
              0.7777777777777778,
              "#fb9f3a"
             ],
             [
              0.8888888888888888,
              "#fdca26"
             ],
             [
              1,
              "#f0f921"
             ]
            ],
            "type": "heatmap"
           }
          ],
          "heatmapgl": [
           {
            "colorbar": {
             "outlinewidth": 0,
             "ticks": ""
            },
            "colorscale": [
             [
              0,
              "#0d0887"
             ],
             [
              0.1111111111111111,
              "#46039f"
             ],
             [
              0.2222222222222222,
              "#7201a8"
             ],
             [
              0.3333333333333333,
              "#9c179e"
             ],
             [
              0.4444444444444444,
              "#bd3786"
             ],
             [
              0.5555555555555556,
              "#d8576b"
             ],
             [
              0.6666666666666666,
              "#ed7953"
             ],
             [
              0.7777777777777778,
              "#fb9f3a"
             ],
             [
              0.8888888888888888,
              "#fdca26"
             ],
             [
              1,
              "#f0f921"
             ]
            ],
            "type": "heatmapgl"
           }
          ],
          "histogram": [
           {
            "marker": {
             "pattern": {
              "fillmode": "overlay",
              "size": 10,
              "solidity": 0.2
             }
            },
            "type": "histogram"
           }
          ],
          "histogram2d": [
           {
            "colorbar": {
             "outlinewidth": 0,
             "ticks": ""
            },
            "colorscale": [
             [
              0,
              "#0d0887"
             ],
             [
              0.1111111111111111,
              "#46039f"
             ],
             [
              0.2222222222222222,
              "#7201a8"
             ],
             [
              0.3333333333333333,
              "#9c179e"
             ],
             [
              0.4444444444444444,
              "#bd3786"
             ],
             [
              0.5555555555555556,
              "#d8576b"
             ],
             [
              0.6666666666666666,
              "#ed7953"
             ],
             [
              0.7777777777777778,
              "#fb9f3a"
             ],
             [
              0.8888888888888888,
              "#fdca26"
             ],
             [
              1,
              "#f0f921"
             ]
            ],
            "type": "histogram2d"
           }
          ],
          "histogram2dcontour": [
           {
            "colorbar": {
             "outlinewidth": 0,
             "ticks": ""
            },
            "colorscale": [
             [
              0,
              "#0d0887"
             ],
             [
              0.1111111111111111,
              "#46039f"
             ],
             [
              0.2222222222222222,
              "#7201a8"
             ],
             [
              0.3333333333333333,
              "#9c179e"
             ],
             [
              0.4444444444444444,
              "#bd3786"
             ],
             [
              0.5555555555555556,
              "#d8576b"
             ],
             [
              0.6666666666666666,
              "#ed7953"
             ],
             [
              0.7777777777777778,
              "#fb9f3a"
             ],
             [
              0.8888888888888888,
              "#fdca26"
             ],
             [
              1,
              "#f0f921"
             ]
            ],
            "type": "histogram2dcontour"
           }
          ],
          "mesh3d": [
           {
            "colorbar": {
             "outlinewidth": 0,
             "ticks": ""
            },
            "type": "mesh3d"
           }
          ],
          "parcoords": [
           {
            "line": {
             "colorbar": {
              "outlinewidth": 0,
              "ticks": ""
             }
            },
            "type": "parcoords"
           }
          ],
          "pie": [
           {
            "automargin": true,
            "type": "pie"
           }
          ],
          "scatter": [
           {
            "fillpattern": {
             "fillmode": "overlay",
             "size": 10,
             "solidity": 0.2
            },
            "type": "scatter"
           }
          ],
          "scatter3d": [
           {
            "line": {
             "colorbar": {
              "outlinewidth": 0,
              "ticks": ""
             }
            },
            "marker": {
             "colorbar": {
              "outlinewidth": 0,
              "ticks": ""
             }
            },
            "type": "scatter3d"
           }
          ],
          "scattercarpet": [
           {
            "marker": {
             "colorbar": {
              "outlinewidth": 0,
              "ticks": ""
             }
            },
            "type": "scattercarpet"
           }
          ],
          "scattergeo": [
           {
            "marker": {
             "colorbar": {
              "outlinewidth": 0,
              "ticks": ""
             }
            },
            "type": "scattergeo"
           }
          ],
          "scattergl": [
           {
            "marker": {
             "colorbar": {
              "outlinewidth": 0,
              "ticks": ""
             }
            },
            "type": "scattergl"
           }
          ],
          "scattermapbox": [
           {
            "marker": {
             "colorbar": {
              "outlinewidth": 0,
              "ticks": ""
             }
            },
            "type": "scattermapbox"
           }
          ],
          "scatterpolar": [
           {
            "marker": {
             "colorbar": {
              "outlinewidth": 0,
              "ticks": ""
             }
            },
            "type": "scatterpolar"
           }
          ],
          "scatterpolargl": [
           {
            "marker": {
             "colorbar": {
              "outlinewidth": 0,
              "ticks": ""
             }
            },
            "type": "scatterpolargl"
           }
          ],
          "scatterternary": [
           {
            "marker": {
             "colorbar": {
              "outlinewidth": 0,
              "ticks": ""
             }
            },
            "type": "scatterternary"
           }
          ],
          "surface": [
           {
            "colorbar": {
             "outlinewidth": 0,
             "ticks": ""
            },
            "colorscale": [
             [
              0,
              "#0d0887"
             ],
             [
              0.1111111111111111,
              "#46039f"
             ],
             [
              0.2222222222222222,
              "#7201a8"
             ],
             [
              0.3333333333333333,
              "#9c179e"
             ],
             [
              0.4444444444444444,
              "#bd3786"
             ],
             [
              0.5555555555555556,
              "#d8576b"
             ],
             [
              0.6666666666666666,
              "#ed7953"
             ],
             [
              0.7777777777777778,
              "#fb9f3a"
             ],
             [
              0.8888888888888888,
              "#fdca26"
             ],
             [
              1,
              "#f0f921"
             ]
            ],
            "type": "surface"
           }
          ],
          "table": [
           {
            "cells": {
             "fill": {
              "color": "#EBF0F8"
             },
             "line": {
              "color": "white"
             }
            },
            "header": {
             "fill": {
              "color": "#C8D4E3"
             },
             "line": {
              "color": "white"
             }
            },
            "type": "table"
           }
          ]
         },
         "layout": {
          "annotationdefaults": {
           "arrowcolor": "#2a3f5f",
           "arrowhead": 0,
           "arrowwidth": 1
          },
          "autotypenumbers": "strict",
          "coloraxis": {
           "colorbar": {
            "outlinewidth": 0,
            "ticks": ""
           }
          },
          "colorscale": {
           "diverging": [
            [
             0,
             "#8e0152"
            ],
            [
             0.1,
             "#c51b7d"
            ],
            [
             0.2,
             "#de77ae"
            ],
            [
             0.3,
             "#f1b6da"
            ],
            [
             0.4,
             "#fde0ef"
            ],
            [
             0.5,
             "#f7f7f7"
            ],
            [
             0.6,
             "#e6f5d0"
            ],
            [
             0.7,
             "#b8e186"
            ],
            [
             0.8,
             "#7fbc41"
            ],
            [
             0.9,
             "#4d9221"
            ],
            [
             1,
             "#276419"
            ]
           ],
           "sequential": [
            [
             0,
             "#0d0887"
            ],
            [
             0.1111111111111111,
             "#46039f"
            ],
            [
             0.2222222222222222,
             "#7201a8"
            ],
            [
             0.3333333333333333,
             "#9c179e"
            ],
            [
             0.4444444444444444,
             "#bd3786"
            ],
            [
             0.5555555555555556,
             "#d8576b"
            ],
            [
             0.6666666666666666,
             "#ed7953"
            ],
            [
             0.7777777777777778,
             "#fb9f3a"
            ],
            [
             0.8888888888888888,
             "#fdca26"
            ],
            [
             1,
             "#f0f921"
            ]
           ],
           "sequentialminus": [
            [
             0,
             "#0d0887"
            ],
            [
             0.1111111111111111,
             "#46039f"
            ],
            [
             0.2222222222222222,
             "#7201a8"
            ],
            [
             0.3333333333333333,
             "#9c179e"
            ],
            [
             0.4444444444444444,
             "#bd3786"
            ],
            [
             0.5555555555555556,
             "#d8576b"
            ],
            [
             0.6666666666666666,
             "#ed7953"
            ],
            [
             0.7777777777777778,
             "#fb9f3a"
            ],
            [
             0.8888888888888888,
             "#fdca26"
            ],
            [
             1,
             "#f0f921"
            ]
           ]
          },
          "colorway": [
           "#636efa",
           "#EF553B",
           "#00cc96",
           "#ab63fa",
           "#FFA15A",
           "#19d3f3",
           "#FF6692",
           "#B6E880",
           "#FF97FF",
           "#FECB52"
          ],
          "font": {
           "color": "#2a3f5f"
          },
          "geo": {
           "bgcolor": "white",
           "lakecolor": "white",
           "landcolor": "#E5ECF6",
           "showlakes": true,
           "showland": true,
           "subunitcolor": "white"
          },
          "hoverlabel": {
           "align": "left"
          },
          "hovermode": "closest",
          "mapbox": {
           "style": "light"
          },
          "paper_bgcolor": "white",
          "plot_bgcolor": "#E5ECF6",
          "polar": {
           "angularaxis": {
            "gridcolor": "white",
            "linecolor": "white",
            "ticks": ""
           },
           "bgcolor": "#E5ECF6",
           "radialaxis": {
            "gridcolor": "white",
            "linecolor": "white",
            "ticks": ""
           }
          },
          "scene": {
           "xaxis": {
            "backgroundcolor": "#E5ECF6",
            "gridcolor": "white",
            "gridwidth": 2,
            "linecolor": "white",
            "showbackground": true,
            "ticks": "",
            "zerolinecolor": "white"
           },
           "yaxis": {
            "backgroundcolor": "#E5ECF6",
            "gridcolor": "white",
            "gridwidth": 2,
            "linecolor": "white",
            "showbackground": true,
            "ticks": "",
            "zerolinecolor": "white"
           },
           "zaxis": {
            "backgroundcolor": "#E5ECF6",
            "gridcolor": "white",
            "gridwidth": 2,
            "linecolor": "white",
            "showbackground": true,
            "ticks": "",
            "zerolinecolor": "white"
           }
          },
          "shapedefaults": {
           "line": {
            "color": "#2a3f5f"
           }
          },
          "ternary": {
           "aaxis": {
            "gridcolor": "white",
            "linecolor": "white",
            "ticks": ""
           },
           "baxis": {
            "gridcolor": "white",
            "linecolor": "white",
            "ticks": ""
           },
           "bgcolor": "#E5ECF6",
           "caxis": {
            "gridcolor": "white",
            "linecolor": "white",
            "ticks": ""
           }
          },
          "title": {
           "x": 0.05
          },
          "xaxis": {
           "automargin": true,
           "gridcolor": "white",
           "linecolor": "white",
           "ticks": "",
           "title": {
            "standoff": 15
           },
           "zerolinecolor": "white",
           "zerolinewidth": 2
          },
          "yaxis": {
           "automargin": true,
           "gridcolor": "white",
           "linecolor": "white",
           "ticks": "",
           "title": {
            "standoff": 15
           },
           "zerolinecolor": "white",
           "zerolinewidth": 2
          }
         }
        },
        "title": {
         "text": "Label: image test"
        },
        "width": 500,
        "xaxis": {
         "anchor": "y",
         "domain": [
          0,
          1
         ],
         "showgrid": false,
         "showticklabels": false,
         "visible": false,
         "zeroline": false
        },
        "yaxis": {
         "anchor": "x",
         "domain": [
          0,
          1
         ],
         "showgrid": false,
         "showticklabels": false,
         "visible": false,
         "zeroline": false
        }
       }
      }
     },
     "metadata": {},
     "output_type": "display_data"
    }
   ],
   "source": [
    "plot_image(test_image_noise[0], \"image test\", {\"real\": discriminator.predict([test_image_noise, types_to_vector('Dark')], verbose=0)[0][0]}, 96)"
   ]
  },
  {
   "cell_type": "code",
   "execution_count": 84,
   "metadata": {},
   "outputs": [
    {
     "name": "stdout",
     "output_type": "stream",
     "text": [
      "(1, 96, 96, 3)\n"
     ]
    }
   ],
   "source": [
    "# load images/test/charmander.png to test\n",
    "test_image = tf.keras.preprocessing.image.load_img('images/test/charmander.png', color_mode='rgba', target_size=image_size)\n",
    "test_image = tf.keras.preprocessing.image.img_to_array(test_image)\n",
    "test_image = tf.expand_dims(test_image, axis=0)\n",
    "test_image = preprocess_image(test_image)\n",
    "print(test_image.shape)"
   ]
  },
  {
   "cell_type": "code",
   "execution_count": 192,
   "metadata": {},
   "outputs": [
    {
     "data": {
      "application/vnd.plotly.v1+json": {
       "config": {
        "plotlyServerURL": "https://plot.ly"
       },
       "data": [
        {
         "hovertemplate": "x: %{x}<br>y: %{y}<br>color: [%{z[0]}, %{z[1]}, %{z[2]}]<extra></extra>",
         "name": "0",
         "source": "data:image/png;base64,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",
         "type": "image",
         "xaxis": "x",
         "yaxis": "y"
        }
       ],
       "layout": {
        "annotations": [
         {
          "align": "left",
          "bgcolor": "#ff7f0e",
          "bordercolor": "#c7c7c7",
          "borderpad": 2,
          "borderwidth": 1,
          "font": {
           "color": "#ffffff",
           "family": "Courier New, monospace",
           "size": 12
          },
          "opacity": 0.8,
          "showarrow": false,
          "text": "real: 100%",
          "x": 1,
          "xref": "paper",
          "y": 1,
          "yref": "paper"
         }
        ],
        "height": 350,
        "images": [
         {
          "layer": "below",
          "sizex": 0.3,
          "sizey": 0.3,
          "source": "images/final/real/1.png",
          "x": 1,
          "xref": "paper",
          "y": 1.1,
          "yref": "paper"
         }
        ],
        "margin": {
         "l": 0,
         "t": 60
        },
        "shapes": [
         {
          "line": {
           "color": "black",
           "width": 2
          },
          "type": "rect",
          "x0": 0,
          "x1": 96,
          "xref": "x",
          "y0": 0,
          "y1": 96,
          "yref": "y"
         }
        ],
        "template": {
         "data": {
          "bar": [
           {
            "error_x": {
             "color": "#2a3f5f"
            },
            "error_y": {
             "color": "#2a3f5f"
            },
            "marker": {
             "line": {
              "color": "#E5ECF6",
              "width": 0.5
             },
             "pattern": {
              "fillmode": "overlay",
              "size": 10,
              "solidity": 0.2
             }
            },
            "type": "bar"
           }
          ],
          "barpolar": [
           {
            "marker": {
             "line": {
              "color": "#E5ECF6",
              "width": 0.5
             },
             "pattern": {
              "fillmode": "overlay",
              "size": 10,
              "solidity": 0.2
             }
            },
            "type": "barpolar"
           }
          ],
          "carpet": [
           {
            "aaxis": {
             "endlinecolor": "#2a3f5f",
             "gridcolor": "white",
             "linecolor": "white",
             "minorgridcolor": "white",
             "startlinecolor": "#2a3f5f"
            },
            "baxis": {
             "endlinecolor": "#2a3f5f",
             "gridcolor": "white",
             "linecolor": "white",
             "minorgridcolor": "white",
             "startlinecolor": "#2a3f5f"
            },
            "type": "carpet"
           }
          ],
          "choropleth": [
           {
            "colorbar": {
             "outlinewidth": 0,
             "ticks": ""
            },
            "type": "choropleth"
           }
          ],
          "contour": [
           {
            "colorbar": {
             "outlinewidth": 0,
             "ticks": ""
            },
            "colorscale": [
             [
              0,
              "#0d0887"
             ],
             [
              0.1111111111111111,
              "#46039f"
             ],
             [
              0.2222222222222222,
              "#7201a8"
             ],
             [
              0.3333333333333333,
              "#9c179e"
             ],
             [
              0.4444444444444444,
              "#bd3786"
             ],
             [
              0.5555555555555556,
              "#d8576b"
             ],
             [
              0.6666666666666666,
              "#ed7953"
             ],
             [
              0.7777777777777778,
              "#fb9f3a"
             ],
             [
              0.8888888888888888,
              "#fdca26"
             ],
             [
              1,
              "#f0f921"
             ]
            ],
            "type": "contour"
           }
          ],
          "contourcarpet": [
           {
            "colorbar": {
             "outlinewidth": 0,
             "ticks": ""
            },
            "type": "contourcarpet"
           }
          ],
          "heatmap": [
           {
            "colorbar": {
             "outlinewidth": 0,
             "ticks": ""
            },
            "colorscale": [
             [
              0,
              "#0d0887"
             ],
             [
              0.1111111111111111,
              "#46039f"
             ],
             [
              0.2222222222222222,
              "#7201a8"
             ],
             [
              0.3333333333333333,
              "#9c179e"
             ],
             [
              0.4444444444444444,
              "#bd3786"
             ],
             [
              0.5555555555555556,
              "#d8576b"
             ],
             [
              0.6666666666666666,
              "#ed7953"
             ],
             [
              0.7777777777777778,
              "#fb9f3a"
             ],
             [
              0.8888888888888888,
              "#fdca26"
             ],
             [
              1,
              "#f0f921"
             ]
            ],
            "type": "heatmap"
           }
          ],
          "heatmapgl": [
           {
            "colorbar": {
             "outlinewidth": 0,
             "ticks": ""
            },
            "colorscale": [
             [
              0,
              "#0d0887"
             ],
             [
              0.1111111111111111,
              "#46039f"
             ],
             [
              0.2222222222222222,
              "#7201a8"
             ],
             [
              0.3333333333333333,
              "#9c179e"
             ],
             [
              0.4444444444444444,
              "#bd3786"
             ],
             [
              0.5555555555555556,
              "#d8576b"
             ],
             [
              0.6666666666666666,
              "#ed7953"
             ],
             [
              0.7777777777777778,
              "#fb9f3a"
             ],
             [
              0.8888888888888888,
              "#fdca26"
             ],
             [
              1,
              "#f0f921"
             ]
            ],
            "type": "heatmapgl"
           }
          ],
          "histogram": [
           {
            "marker": {
             "pattern": {
              "fillmode": "overlay",
              "size": 10,
              "solidity": 0.2
             }
            },
            "type": "histogram"
           }
          ],
          "histogram2d": [
           {
            "colorbar": {
             "outlinewidth": 0,
             "ticks": ""
            },
            "colorscale": [
             [
              0,
              "#0d0887"
             ],
             [
              0.1111111111111111,
              "#46039f"
             ],
             [
              0.2222222222222222,
              "#7201a8"
             ],
             [
              0.3333333333333333,
              "#9c179e"
             ],
             [
              0.4444444444444444,
              "#bd3786"
             ],
             [
              0.5555555555555556,
              "#d8576b"
             ],
             [
              0.6666666666666666,
              "#ed7953"
             ],
             [
              0.7777777777777778,
              "#fb9f3a"
             ],
             [
              0.8888888888888888,
              "#fdca26"
             ],
             [
              1,
              "#f0f921"
             ]
            ],
            "type": "histogram2d"
           }
          ],
          "histogram2dcontour": [
           {
            "colorbar": {
             "outlinewidth": 0,
             "ticks": ""
            },
            "colorscale": [
             [
              0,
              "#0d0887"
             ],
             [
              0.1111111111111111,
              "#46039f"
             ],
             [
              0.2222222222222222,
              "#7201a8"
             ],
             [
              0.3333333333333333,
              "#9c179e"
             ],
             [
              0.4444444444444444,
              "#bd3786"
             ],
             [
              0.5555555555555556,
              "#d8576b"
             ],
             [
              0.6666666666666666,
              "#ed7953"
             ],
             [
              0.7777777777777778,
              "#fb9f3a"
             ],
             [
              0.8888888888888888,
              "#fdca26"
             ],
             [
              1,
              "#f0f921"
             ]
            ],
            "type": "histogram2dcontour"
           }
          ],
          "mesh3d": [
           {
            "colorbar": {
             "outlinewidth": 0,
             "ticks": ""
            },
            "type": "mesh3d"
           }
          ],
          "parcoords": [
           {
            "line": {
             "colorbar": {
              "outlinewidth": 0,
              "ticks": ""
             }
            },
            "type": "parcoords"
           }
          ],
          "pie": [
           {
            "automargin": true,
            "type": "pie"
           }
          ],
          "scatter": [
           {
            "fillpattern": {
             "fillmode": "overlay",
             "size": 10,
             "solidity": 0.2
            },
            "type": "scatter"
           }
          ],
          "scatter3d": [
           {
            "line": {
             "colorbar": {
              "outlinewidth": 0,
              "ticks": ""
             }
            },
            "marker": {
             "colorbar": {
              "outlinewidth": 0,
              "ticks": ""
             }
            },
            "type": "scatter3d"
           }
          ],
          "scattercarpet": [
           {
            "marker": {
             "colorbar": {
              "outlinewidth": 0,
              "ticks": ""
             }
            },
            "type": "scattercarpet"
           }
          ],
          "scattergeo": [
           {
            "marker": {
             "colorbar": {
              "outlinewidth": 0,
              "ticks": ""
             }
            },
            "type": "scattergeo"
           }
          ],
          "scattergl": [
           {
            "marker": {
             "colorbar": {
              "outlinewidth": 0,
              "ticks": ""
             }
            },
            "type": "scattergl"
           }
          ],
          "scattermapbox": [
           {
            "marker": {
             "colorbar": {
              "outlinewidth": 0,
              "ticks": ""
             }
            },
            "type": "scattermapbox"
           }
          ],
          "scatterpolar": [
           {
            "marker": {
             "colorbar": {
              "outlinewidth": 0,
              "ticks": ""
             }
            },
            "type": "scatterpolar"
           }
          ],
          "scatterpolargl": [
           {
            "marker": {
             "colorbar": {
              "outlinewidth": 0,
              "ticks": ""
             }
            },
            "type": "scatterpolargl"
           }
          ],
          "scatterternary": [
           {
            "marker": {
             "colorbar": {
              "outlinewidth": 0,
              "ticks": ""
             }
            },
            "type": "scatterternary"
           }
          ],
          "surface": [
           {
            "colorbar": {
             "outlinewidth": 0,
             "ticks": ""
            },
            "colorscale": [
             [
              0,
              "#0d0887"
             ],
             [
              0.1111111111111111,
              "#46039f"
             ],
             [
              0.2222222222222222,
              "#7201a8"
             ],
             [
              0.3333333333333333,
              "#9c179e"
             ],
             [
              0.4444444444444444,
              "#bd3786"
             ],
             [
              0.5555555555555556,
              "#d8576b"
             ],
             [
              0.6666666666666666,
              "#ed7953"
             ],
             [
              0.7777777777777778,
              "#fb9f3a"
             ],
             [
              0.8888888888888888,
              "#fdca26"
             ],
             [
              1,
              "#f0f921"
             ]
            ],
            "type": "surface"
           }
          ],
          "table": [
           {
            "cells": {
             "fill": {
              "color": "#EBF0F8"
             },
             "line": {
              "color": "white"
             }
            },
            "header": {
             "fill": {
              "color": "#C8D4E3"
             },
             "line": {
              "color": "white"
             }
            },
            "type": "table"
           }
          ]
         },
         "layout": {
          "annotationdefaults": {
           "arrowcolor": "#2a3f5f",
           "arrowhead": 0,
           "arrowwidth": 1
          },
          "autotypenumbers": "strict",
          "coloraxis": {
           "colorbar": {
            "outlinewidth": 0,
            "ticks": ""
           }
          },
          "colorscale": {
           "diverging": [
            [
             0,
             "#8e0152"
            ],
            [
             0.1,
             "#c51b7d"
            ],
            [
             0.2,
             "#de77ae"
            ],
            [
             0.3,
             "#f1b6da"
            ],
            [
             0.4,
             "#fde0ef"
            ],
            [
             0.5,
             "#f7f7f7"
            ],
            [
             0.6,
             "#e6f5d0"
            ],
            [
             0.7,
             "#b8e186"
            ],
            [
             0.8,
             "#7fbc41"
            ],
            [
             0.9,
             "#4d9221"
            ],
            [
             1,
             "#276419"
            ]
           ],
           "sequential": [
            [
             0,
             "#0d0887"
            ],
            [
             0.1111111111111111,
             "#46039f"
            ],
            [
             0.2222222222222222,
             "#7201a8"
            ],
            [
             0.3333333333333333,
             "#9c179e"
            ],
            [
             0.4444444444444444,
             "#bd3786"
            ],
            [
             0.5555555555555556,
             "#d8576b"
            ],
            [
             0.6666666666666666,
             "#ed7953"
            ],
            [
             0.7777777777777778,
             "#fb9f3a"
            ],
            [
             0.8888888888888888,
             "#fdca26"
            ],
            [
             1,
             "#f0f921"
            ]
           ],
           "sequentialminus": [
            [
             0,
             "#0d0887"
            ],
            [
             0.1111111111111111,
             "#46039f"
            ],
            [
             0.2222222222222222,
             "#7201a8"
            ],
            [
             0.3333333333333333,
             "#9c179e"
            ],
            [
             0.4444444444444444,
             "#bd3786"
            ],
            [
             0.5555555555555556,
             "#d8576b"
            ],
            [
             0.6666666666666666,
             "#ed7953"
            ],
            [
             0.7777777777777778,
             "#fb9f3a"
            ],
            [
             0.8888888888888888,
             "#fdca26"
            ],
            [
             1,
             "#f0f921"
            ]
           ]
          },
          "colorway": [
           "#636efa",
           "#EF553B",
           "#00cc96",
           "#ab63fa",
           "#FFA15A",
           "#19d3f3",
           "#FF6692",
           "#B6E880",
           "#FF97FF",
           "#FECB52"
          ],
          "font": {
           "color": "#2a3f5f"
          },
          "geo": {
           "bgcolor": "white",
           "lakecolor": "white",
           "landcolor": "#E5ECF6",
           "showlakes": true,
           "showland": true,
           "subunitcolor": "white"
          },
          "hoverlabel": {
           "align": "left"
          },
          "hovermode": "closest",
          "mapbox": {
           "style": "light"
          },
          "paper_bgcolor": "white",
          "plot_bgcolor": "#E5ECF6",
          "polar": {
           "angularaxis": {
            "gridcolor": "white",
            "linecolor": "white",
            "ticks": ""
           },
           "bgcolor": "#E5ECF6",
           "radialaxis": {
            "gridcolor": "white",
            "linecolor": "white",
            "ticks": ""
           }
          },
          "scene": {
           "xaxis": {
            "backgroundcolor": "#E5ECF6",
            "gridcolor": "white",
            "gridwidth": 2,
            "linecolor": "white",
            "showbackground": true,
            "ticks": "",
            "zerolinecolor": "white"
           },
           "yaxis": {
            "backgroundcolor": "#E5ECF6",
            "gridcolor": "white",
            "gridwidth": 2,
            "linecolor": "white",
            "showbackground": true,
            "ticks": "",
            "zerolinecolor": "white"
           },
           "zaxis": {
            "backgroundcolor": "#E5ECF6",
            "gridcolor": "white",
            "gridwidth": 2,
            "linecolor": "white",
            "showbackground": true,
            "ticks": "",
            "zerolinecolor": "white"
           }
          },
          "shapedefaults": {
           "line": {
            "color": "#2a3f5f"
           }
          },
          "ternary": {
           "aaxis": {
            "gridcolor": "white",
            "linecolor": "white",
            "ticks": ""
           },
           "baxis": {
            "gridcolor": "white",
            "linecolor": "white",
            "ticks": ""
           },
           "bgcolor": "#E5ECF6",
           "caxis": {
            "gridcolor": "white",
            "linecolor": "white",
            "ticks": ""
           }
          },
          "title": {
           "x": 0.05
          },
          "xaxis": {
           "automargin": true,
           "gridcolor": "white",
           "linecolor": "white",
           "ticks": "",
           "title": {
            "standoff": 15
           },
           "zerolinecolor": "white",
           "zerolinewidth": 2
          },
          "yaxis": {
           "automargin": true,
           "gridcolor": "white",
           "linecolor": "white",
           "ticks": "",
           "title": {
            "standoff": 15
           },
           "zerolinecolor": "white",
           "zerolinewidth": 2
          }
         }
        },
        "title": {
         "text": "Label: image test"
        },
        "width": 500,
        "xaxis": {
         "anchor": "y",
         "domain": [
          0,
          1
         ],
         "showgrid": false,
         "showticklabels": false,
         "visible": false,
         "zeroline": false
        },
        "yaxis": {
         "anchor": "x",
         "domain": [
          0,
          1
         ],
         "showgrid": false,
         "showticklabels": false,
         "visible": false,
         "zeroline": false
        }
       }
      }
     },
     "metadata": {},
     "output_type": "display_data"
    }
   ],
   "source": [
    "# test discriminator with test image\n",
    "plot_image(test_image[0], \"image test\", {\"real\": discriminator.predict([test_image, types_to_vector('Fire', 'Flying')], verbose=0)[0][0]}, 96)"
   ]
  }
 ],
 "metadata": {
  "kernelspec": {
   "display_name": "Python 3",
   "language": "python",
   "name": "python3"
  },
  "language_info": {
   "codemirror_mode": {
    "name": "ipython",
    "version": 3
   },
   "file_extension": ".py",
   "mimetype": "text/x-python",
   "name": "python",
   "nbconvert_exporter": "python",
   "pygments_lexer": "ipython3",
   "version": "3.10.6"
  },
  "orig_nbformat": 4
 },
 "nbformat": 4,
 "nbformat_minor": 2
}
