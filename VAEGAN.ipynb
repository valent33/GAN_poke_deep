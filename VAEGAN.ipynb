{
 "cells": [
  {
   "cell_type": "code",
   "execution_count": 1,
   "metadata": {},
   "outputs": [],
   "source": [
    "import tensorflow as tf\n",
    "# import plotly.express as px\n",
    "import matplotlib.pyplot as plt\n",
    "from utils import *\n",
    "import pandas as pd"
   ]
  },
  {
   "cell_type": "code",
   "execution_count": 2,
   "metadata": {},
   "outputs": [],
   "source": [
    "directory = 'images/final/'\n",
    "width = 96\n",
    "height = 96\n",
    "channels = 4\n",
    "image_size = (width, height)\n",
    "input_shape = (width, height, channels)\n",
    "batch_size = 32\n",
    "latent_dim = 100"
   ]
  },
  {
   "cell_type": "code",
   "execution_count": 3,
   "metadata": {},
   "outputs": [
    {
     "name": "stdout",
     "output_type": "stream",
     "text": [
      "Found 13849 files belonging to 905 classes.\n"
     ]
    }
   ],
   "source": [
    "train_ds, class_names = load_data(directory, batch_size, image_size, GAN=True)"
   ]
  },
  {
   "cell_type": "code",
   "execution_count": 4,
   "metadata": {},
   "outputs": [],
   "source": [
    "types = pd.read_csv('PokeDataset.csv', usecols=['Name', 'Type1', 'Type2'])\n",
    "# reorder by alphabetical order of column 'Name'\n",
    "types = types.sort_values(by=['Name'])\n",
    "types = types.reset_index(drop=True)"
   ]
  },
  {
   "cell_type": "code",
   "execution_count": 5,
   "metadata": {},
   "outputs": [
    {
     "name": "stdout",
     "output_type": "stream",
     "text": [
      "Percentage of pokemon with double type: 50.69%\n"
     ]
    }
   ],
   "source": [
    "# give percentage of pokemon with double type\n",
    "print(f\"Percentage of pokemon with double type: {types['Type2'].count() / types['Type1'].count() * 100:.2f}%\")"
   ]
  },
  {
   "cell_type": "code",
   "execution_count": 6,
   "metadata": {},
   "outputs": [
    {
     "data": {
      "text/html": [
       "<div>\n",
       "<style scoped>\n",
       "    .dataframe tbody tr th:only-of-type {\n",
       "        vertical-align: middle;\n",
       "    }\n",
       "\n",
       "    .dataframe tbody tr th {\n",
       "        vertical-align: top;\n",
       "    }\n",
       "\n",
       "    .dataframe thead th {\n",
       "        text-align: right;\n",
       "    }\n",
       "</style>\n",
       "<table border=\"1\" class=\"dataframe\">\n",
       "  <thead>\n",
       "    <tr style=\"text-align: right;\">\n",
       "      <th></th>\n",
       "      <th>Name</th>\n",
       "      <th>Type1</th>\n",
       "      <th>Type2</th>\n",
       "    </tr>\n",
       "  </thead>\n",
       "  <tbody>\n",
       "    <tr>\n",
       "      <th>0</th>\n",
       "      <td>Abomasnow</td>\n",
       "      <td>Grass</td>\n",
       "      <td>Ice</td>\n",
       "    </tr>\n",
       "    <tr>\n",
       "      <th>1</th>\n",
       "      <td>Abra</td>\n",
       "      <td>Psychic</td>\n",
       "      <td>NaN</td>\n",
       "    </tr>\n",
       "    <tr>\n",
       "      <th>2</th>\n",
       "      <td>Absol</td>\n",
       "      <td>Dark</td>\n",
       "      <td>NaN</td>\n",
       "    </tr>\n",
       "    <tr>\n",
       "      <th>3</th>\n",
       "      <td>Accelgor</td>\n",
       "      <td>Bug</td>\n",
       "      <td>NaN</td>\n",
       "    </tr>\n",
       "    <tr>\n",
       "      <th>4</th>\n",
       "      <td>Aegislash</td>\n",
       "      <td>Steel</td>\n",
       "      <td>Ghost</td>\n",
       "    </tr>\n",
       "  </tbody>\n",
       "</table>\n",
       "</div>"
      ],
      "text/plain": [
       "        Name    Type1  Type2\n",
       "0  Abomasnow    Grass    Ice\n",
       "1       Abra  Psychic    NaN\n",
       "2      Absol     Dark    NaN\n",
       "3   Accelgor      Bug    NaN\n",
       "4  Aegislash    Steel  Ghost"
      ]
     },
     "execution_count": 6,
     "metadata": {},
     "output_type": "execute_result"
    }
   ],
   "source": [
    "types.head(5)"
   ]
  },
  {
   "cell_type": "code",
   "execution_count": 7,
   "metadata": {},
   "outputs": [],
   "source": [
    "# make a dictionary of types and their index in the list of types\n",
    "types_dict = {}\n",
    "for i, t in enumerate(types['Type1'].unique()):\n",
    "    types_dict[t] = i\n",
    "\n",
    "# create vector of labels with 0 for each type except the one in the row (type1 and type2 are strings)\n",
    "def create_label(row):\n",
    "    label = np.zeros(18)\n",
    "    label[types_dict[row['Type1']]] = 1\n",
    "    if row['Type2'] in types_dict:\n",
    "        label[types_dict[row['Type2']]] = 1\n",
    "    return label\n",
    "\n",
    "types['Label'] = types.apply(create_label, axis=1)"
   ]
  },
  {
   "cell_type": "code",
   "execution_count": 8,
   "metadata": {},
   "outputs": [],
   "source": [
    "def types_to_vector(type1, type2=None):\n",
    "    label = np.zeros(18)\n",
    "    label[types_dict[type1]] = 1\n",
    "    if type2 in types_dict:\n",
    "        label[types_dict[type2]] = 1\n",
    "    return label.reshape(1, 18)"
   ]
  },
  {
   "cell_type": "code",
   "execution_count": 9,
   "metadata": {},
   "outputs": [
    {
     "name": "stdout",
     "output_type": "stream",
     "text": [
      "521\n"
     ]
    },
    {
     "data": {
      "application/vnd.plotly.v1+json": {
       "config": {
        "plotlyServerURL": "https://plot.ly"
       },
       "data": [
        {
         "hovertemplate": "x: %{x}<br>y: %{y}<extra></extra>",
         "name": "0",
         "source": "data:image/png;base64,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",
         "type": "image",
         "xaxis": "x",
         "yaxis": "y"
        }
       ],
       "layout": {
        "height": 350,
        "margin": {
         "l": 0,
         "t": 60
        },
        "shapes": [
         {
          "line": {
           "color": "black",
           "width": 2
          },
          "type": "rect",
          "x0": 0,
          "x1": 96,
          "xref": "x",
          "y0": 0,
          "y1": 96,
          "yref": "y"
         }
        ],
        "template": {
         "data": {
          "bar": [
           {
            "error_x": {
             "color": "#2a3f5f"
            },
            "error_y": {
             "color": "#2a3f5f"
            },
            "marker": {
             "line": {
              "color": "#E5ECF6",
              "width": 0.5
             },
             "pattern": {
              "fillmode": "overlay",
              "size": 10,
              "solidity": 0.2
             }
            },
            "type": "bar"
           }
          ],
          "barpolar": [
           {
            "marker": {
             "line": {
              "color": "#E5ECF6",
              "width": 0.5
             },
             "pattern": {
              "fillmode": "overlay",
              "size": 10,
              "solidity": 0.2
             }
            },
            "type": "barpolar"
           }
          ],
          "carpet": [
           {
            "aaxis": {
             "endlinecolor": "#2a3f5f",
             "gridcolor": "white",
             "linecolor": "white",
             "minorgridcolor": "white",
             "startlinecolor": "#2a3f5f"
            },
            "baxis": {
             "endlinecolor": "#2a3f5f",
             "gridcolor": "white",
             "linecolor": "white",
             "minorgridcolor": "white",
             "startlinecolor": "#2a3f5f"
            },
            "type": "carpet"
           }
          ],
          "choropleth": [
           {
            "colorbar": {
             "outlinewidth": 0,
             "ticks": ""
            },
            "type": "choropleth"
           }
          ],
          "contour": [
           {
            "colorbar": {
             "outlinewidth": 0,
             "ticks": ""
            },
            "colorscale": [
             [
              0,
              "#0d0887"
             ],
             [
              0.1111111111111111,
              "#46039f"
             ],
             [
              0.2222222222222222,
              "#7201a8"
             ],
             [
              0.3333333333333333,
              "#9c179e"
             ],
             [
              0.4444444444444444,
              "#bd3786"
             ],
             [
              0.5555555555555556,
              "#d8576b"
             ],
             [
              0.6666666666666666,
              "#ed7953"
             ],
             [
              0.7777777777777778,
              "#fb9f3a"
             ],
             [
              0.8888888888888888,
              "#fdca26"
             ],
             [
              1,
              "#f0f921"
             ]
            ],
            "type": "contour"
           }
          ],
          "contourcarpet": [
           {
            "colorbar": {
             "outlinewidth": 0,
             "ticks": ""
            },
            "type": "contourcarpet"
           }
          ],
          "heatmap": [
           {
            "colorbar": {
             "outlinewidth": 0,
             "ticks": ""
            },
            "colorscale": [
             [
              0,
              "#0d0887"
             ],
             [
              0.1111111111111111,
              "#46039f"
             ],
             [
              0.2222222222222222,
              "#7201a8"
             ],
             [
              0.3333333333333333,
              "#9c179e"
             ],
             [
              0.4444444444444444,
              "#bd3786"
             ],
             [
              0.5555555555555556,
              "#d8576b"
             ],
             [
              0.6666666666666666,
              "#ed7953"
             ],
             [
              0.7777777777777778,
              "#fb9f3a"
             ],
             [
              0.8888888888888888,
              "#fdca26"
             ],
             [
              1,
              "#f0f921"
             ]
            ],
            "type": "heatmap"
           }
          ],
          "heatmapgl": [
           {
            "colorbar": {
             "outlinewidth": 0,
             "ticks": ""
            },
            "colorscale": [
             [
              0,
              "#0d0887"
             ],
             [
              0.1111111111111111,
              "#46039f"
             ],
             [
              0.2222222222222222,
              "#7201a8"
             ],
             [
              0.3333333333333333,
              "#9c179e"
             ],
             [
              0.4444444444444444,
              "#bd3786"
             ],
             [
              0.5555555555555556,
              "#d8576b"
             ],
             [
              0.6666666666666666,
              "#ed7953"
             ],
             [
              0.7777777777777778,
              "#fb9f3a"
             ],
             [
              0.8888888888888888,
              "#fdca26"
             ],
             [
              1,
              "#f0f921"
             ]
            ],
            "type": "heatmapgl"
           }
          ],
          "histogram": [
           {
            "marker": {
             "pattern": {
              "fillmode": "overlay",
              "size": 10,
              "solidity": 0.2
             }
            },
            "type": "histogram"
           }
          ],
          "histogram2d": [
           {
            "colorbar": {
             "outlinewidth": 0,
             "ticks": ""
            },
            "colorscale": [
             [
              0,
              "#0d0887"
             ],
             [
              0.1111111111111111,
              "#46039f"
             ],
             [
              0.2222222222222222,
              "#7201a8"
             ],
             [
              0.3333333333333333,
              "#9c179e"
             ],
             [
              0.4444444444444444,
              "#bd3786"
             ],
             [
              0.5555555555555556,
              "#d8576b"
             ],
             [
              0.6666666666666666,
              "#ed7953"
             ],
             [
              0.7777777777777778,
              "#fb9f3a"
             ],
             [
              0.8888888888888888,
              "#fdca26"
             ],
             [
              1,
              "#f0f921"
             ]
            ],
            "type": "histogram2d"
           }
          ],
          "histogram2dcontour": [
           {
            "colorbar": {
             "outlinewidth": 0,
             "ticks": ""
            },
            "colorscale": [
             [
              0,
              "#0d0887"
             ],
             [
              0.1111111111111111,
              "#46039f"
             ],
             [
              0.2222222222222222,
              "#7201a8"
             ],
             [
              0.3333333333333333,
              "#9c179e"
             ],
             [
              0.4444444444444444,
              "#bd3786"
             ],
             [
              0.5555555555555556,
              "#d8576b"
             ],
             [
              0.6666666666666666,
              "#ed7953"
             ],
             [
              0.7777777777777778,
              "#fb9f3a"
             ],
             [
              0.8888888888888888,
              "#fdca26"
             ],
             [
              1,
              "#f0f921"
             ]
            ],
            "type": "histogram2dcontour"
           }
          ],
          "mesh3d": [
           {
            "colorbar": {
             "outlinewidth": 0,
             "ticks": ""
            },
            "type": "mesh3d"
           }
          ],
          "parcoords": [
           {
            "line": {
             "colorbar": {
              "outlinewidth": 0,
              "ticks": ""
             }
            },
            "type": "parcoords"
           }
          ],
          "pie": [
           {
            "automargin": true,
            "type": "pie"
           }
          ],
          "scatter": [
           {
            "fillpattern": {
             "fillmode": "overlay",
             "size": 10,
             "solidity": 0.2
            },
            "type": "scatter"
           }
          ],
          "scatter3d": [
           {
            "line": {
             "colorbar": {
              "outlinewidth": 0,
              "ticks": ""
             }
            },
            "marker": {
             "colorbar": {
              "outlinewidth": 0,
              "ticks": ""
             }
            },
            "type": "scatter3d"
           }
          ],
          "scattercarpet": [
           {
            "marker": {
             "colorbar": {
              "outlinewidth": 0,
              "ticks": ""
             }
            },
            "type": "scattercarpet"
           }
          ],
          "scattergeo": [
           {
            "marker": {
             "colorbar": {
              "outlinewidth": 0,
              "ticks": ""
             }
            },
            "type": "scattergeo"
           }
          ],
          "scattergl": [
           {
            "marker": {
             "colorbar": {
              "outlinewidth": 0,
              "ticks": ""
             }
            },
            "type": "scattergl"
           }
          ],
          "scattermapbox": [
           {
            "marker": {
             "colorbar": {
              "outlinewidth": 0,
              "ticks": ""
             }
            },
            "type": "scattermapbox"
           }
          ],
          "scatterpolar": [
           {
            "marker": {
             "colorbar": {
              "outlinewidth": 0,
              "ticks": ""
             }
            },
            "type": "scatterpolar"
           }
          ],
          "scatterpolargl": [
           {
            "marker": {
             "colorbar": {
              "outlinewidth": 0,
              "ticks": ""
             }
            },
            "type": "scatterpolargl"
           }
          ],
          "scatterternary": [
           {
            "marker": {
             "colorbar": {
              "outlinewidth": 0,
              "ticks": ""
             }
            },
            "type": "scatterternary"
           }
          ],
          "surface": [
           {
            "colorbar": {
             "outlinewidth": 0,
             "ticks": ""
            },
            "colorscale": [
             [
              0,
              "#0d0887"
             ],
             [
              0.1111111111111111,
              "#46039f"
             ],
             [
              0.2222222222222222,
              "#7201a8"
             ],
             [
              0.3333333333333333,
              "#9c179e"
             ],
             [
              0.4444444444444444,
              "#bd3786"
             ],
             [
              0.5555555555555556,
              "#d8576b"
             ],
             [
              0.6666666666666666,
              "#ed7953"
             ],
             [
              0.7777777777777778,
              "#fb9f3a"
             ],
             [
              0.8888888888888888,
              "#fdca26"
             ],
             [
              1,
              "#f0f921"
             ]
            ],
            "type": "surface"
           }
          ],
          "table": [
           {
            "cells": {
             "fill": {
              "color": "#EBF0F8"
             },
             "line": {
              "color": "white"
             }
            },
            "header": {
             "fill": {
              "color": "#C8D4E3"
             },
             "line": {
              "color": "white"
             }
            },
            "type": "table"
           }
          ]
         },
         "layout": {
          "annotationdefaults": {
           "arrowcolor": "#2a3f5f",
           "arrowhead": 0,
           "arrowwidth": 1
          },
          "autotypenumbers": "strict",
          "coloraxis": {
           "colorbar": {
            "outlinewidth": 0,
            "ticks": ""
           }
          },
          "colorscale": {
           "diverging": [
            [
             0,
             "#8e0152"
            ],
            [
             0.1,
             "#c51b7d"
            ],
            [
             0.2,
             "#de77ae"
            ],
            [
             0.3,
             "#f1b6da"
            ],
            [
             0.4,
             "#fde0ef"
            ],
            [
             0.5,
             "#f7f7f7"
            ],
            [
             0.6,
             "#e6f5d0"
            ],
            [
             0.7,
             "#b8e186"
            ],
            [
             0.8,
             "#7fbc41"
            ],
            [
             0.9,
             "#4d9221"
            ],
            [
             1,
             "#276419"
            ]
           ],
           "sequential": [
            [
             0,
             "#0d0887"
            ],
            [
             0.1111111111111111,
             "#46039f"
            ],
            [
             0.2222222222222222,
             "#7201a8"
            ],
            [
             0.3333333333333333,
             "#9c179e"
            ],
            [
             0.4444444444444444,
             "#bd3786"
            ],
            [
             0.5555555555555556,
             "#d8576b"
            ],
            [
             0.6666666666666666,
             "#ed7953"
            ],
            [
             0.7777777777777778,
             "#fb9f3a"
            ],
            [
             0.8888888888888888,
             "#fdca26"
            ],
            [
             1,
             "#f0f921"
            ]
           ],
           "sequentialminus": [
            [
             0,
             "#0d0887"
            ],
            [
             0.1111111111111111,
             "#46039f"
            ],
            [
             0.2222222222222222,
             "#7201a8"
            ],
            [
             0.3333333333333333,
             "#9c179e"
            ],
            [
             0.4444444444444444,
             "#bd3786"
            ],
            [
             0.5555555555555556,
             "#d8576b"
            ],
            [
             0.6666666666666666,
             "#ed7953"
            ],
            [
             0.7777777777777778,
             "#fb9f3a"
            ],
            [
             0.8888888888888888,
             "#fdca26"
            ],
            [
             1,
             "#f0f921"
            ]
           ]
          },
          "colorway": [
           "#636efa",
           "#EF553B",
           "#00cc96",
           "#ab63fa",
           "#FFA15A",
           "#19d3f3",
           "#FF6692",
           "#B6E880",
           "#FF97FF",
           "#FECB52"
          ],
          "font": {
           "color": "#2a3f5f"
          },
          "geo": {
           "bgcolor": "white",
           "lakecolor": "white",
           "landcolor": "#E5ECF6",
           "showlakes": true,
           "showland": true,
           "subunitcolor": "white"
          },
          "hoverlabel": {
           "align": "left"
          },
          "hovermode": "closest",
          "mapbox": {
           "style": "light"
          },
          "paper_bgcolor": "white",
          "plot_bgcolor": "#E5ECF6",
          "polar": {
           "angularaxis": {
            "gridcolor": "white",
            "linecolor": "white",
            "ticks": ""
           },
           "bgcolor": "#E5ECF6",
           "radialaxis": {
            "gridcolor": "white",
            "linecolor": "white",
            "ticks": ""
           }
          },
          "scene": {
           "xaxis": {
            "backgroundcolor": "#E5ECF6",
            "gridcolor": "white",
            "gridwidth": 2,
            "linecolor": "white",
            "showbackground": true,
            "ticks": "",
            "zerolinecolor": "white"
           },
           "yaxis": {
            "backgroundcolor": "#E5ECF6",
            "gridcolor": "white",
            "gridwidth": 2,
            "linecolor": "white",
            "showbackground": true,
            "ticks": "",
            "zerolinecolor": "white"
           },
           "zaxis": {
            "backgroundcolor": "#E5ECF6",
            "gridcolor": "white",
            "gridwidth": 2,
            "linecolor": "white",
            "showbackground": true,
            "ticks": "",
            "zerolinecolor": "white"
           }
          },
          "shapedefaults": {
           "line": {
            "color": "#2a3f5f"
           }
          },
          "ternary": {
           "aaxis": {
            "gridcolor": "white",
            "linecolor": "white",
            "ticks": ""
           },
           "baxis": {
            "gridcolor": "white",
            "linecolor": "white",
            "ticks": ""
           },
           "bgcolor": "#E5ECF6",
           "caxis": {
            "gridcolor": "white",
            "linecolor": "white",
            "ticks": ""
           }
          },
          "title": {
           "x": 0.05
          },
          "xaxis": {
           "automargin": true,
           "gridcolor": "white",
           "linecolor": "white",
           "ticks": "",
           "title": {
            "standoff": 15
           },
           "zerolinecolor": "white",
           "zerolinewidth": 2
          },
          "yaxis": {
           "automargin": true,
           "gridcolor": "white",
           "linecolor": "white",
           "ticks": "",
           "title": {
            "standoff": 15
           },
           "zerolinecolor": "white",
           "zerolinewidth": 2
          }
         }
        },
        "title": {
         "text": "Label: Naganadel"
        },
        "width": 500,
        "xaxis": {
         "anchor": "y",
         "domain": [
          0,
          1
         ],
         "showgrid": false,
         "showticklabels": false,
         "visible": false,
         "zeroline": false
        },
        "yaxis": {
         "anchor": "x",
         "domain": [
          0,
          1
         ],
         "showgrid": false,
         "showticklabels": false,
         "visible": false,
         "zeroline": false
        }
       }
      }
     },
     "metadata": {},
     "output_type": "display_data"
    }
   ],
   "source": [
    "for x, y in train_ds.take(1):\n",
    "    print(int(tf.argmax(tf.reshape(y[0], [-1, 1]), axis=0)))\n",
    "    plot_image(x[0], class_names[int(tf.argmax(tf.reshape(y[0], [-1, 1]), axis=0))], size=width)"
   ]
  },
  {
   "cell_type": "code",
   "execution_count": 10,
   "metadata": {},
   "outputs": [],
   "source": [
    "# map labels in train_ds to the column Label in types\n",
    "def map_labels(x, y):\n",
    "    y_onehot = tf.argmax(y, axis=1).numpy()\n",
    "    y_labels = np.zeros((len(y_onehot), 18))\n",
    "    for i in range(len(y_onehot)):\n",
    "        y_labels[i] = types.loc[y_onehot[i], 'Label']\n",
    "    y_label = np.insert(y_labels, 0, 1, axis=1)\n",
    "    y_label_tensor = tf.convert_to_tensor(y_label, dtype=tf.float32)\n",
    "    return x, y_label_tensor\n",
    "\n"
   ]
  },
  {
   "cell_type": "code",
   "execution_count": 11,
   "metadata": {},
   "outputs": [
    {
     "name": "stdout",
     "output_type": "stream",
     "text": [
      "WARNING:tensorflow:Using a while_loop for converting RngReadAndSkip cause there is no registered converter for this op.\n",
      "WARNING:tensorflow:Using a while_loop for converting Bitcast cause there is no registered converter for this op.\n",
      "WARNING:tensorflow:Using a while_loop for converting Bitcast cause there is no registered converter for this op.\n",
      "WARNING:tensorflow:Using a while_loop for converting StatelessRandomUniformV2 cause there is no registered converter for this op.\n",
      "WARNING:tensorflow:Using a while_loop for converting ImageProjectiveTransformV3 cause there is no registered converter for this op.\n",
      "WARNING:tensorflow:Using a while_loop for converting RngReadAndSkip cause there is no registered converter for this op.\n",
      "WARNING:tensorflow:Using a while_loop for converting Bitcast cause there is no registered converter for this op.\n",
      "WARNING:tensorflow:Using a while_loop for converting Bitcast cause there is no registered converter for this op.\n",
      "WARNING:tensorflow:Using a while_loop for converting StatelessRandomUniformV2 cause there is no registered converter for this op.\n",
      "WARNING:tensorflow:Using a while_loop for converting RngReadAndSkip cause there is no registered converter for this op.\n",
      "WARNING:tensorflow:Using a while_loop for converting Bitcast cause there is no registered converter for this op.\n",
      "WARNING:tensorflow:Using a while_loop for converting Bitcast cause there is no registered converter for this op.\n",
      "WARNING:tensorflow:Using a while_loop for converting StatelessRandomUniformV2 cause there is no registered converter for this op.\n",
      "WARNING:tensorflow:Using a while_loop for converting RngReadAndSkip cause there is no registered converter for this op.\n",
      "WARNING:tensorflow:Using a while_loop for converting Bitcast cause there is no registered converter for this op.\n",
      "WARNING:tensorflow:Using a while_loop for converting Bitcast cause there is no registered converter for this op.\n",
      "WARNING:tensorflow:Using a while_loop for converting StatelessRandomUniformV2 cause there is no registered converter for this op.\n",
      "WARNING:tensorflow:Using a while_loop for converting ImageProjectiveTransformV3 cause there is no registered converter for this op.\n",
      "WARNING:tensorflow:Using a while_loop for converting RngReadAndSkip cause there is no registered converter for this op.\n",
      "WARNING:tensorflow:Using a while_loop for converting Bitcast cause there is no registered converter for this op.\n",
      "WARNING:tensorflow:Using a while_loop for converting Bitcast cause there is no registered converter for this op.\n",
      "WARNING:tensorflow:Using a while_loop for converting StatelessRandomUniformV2 cause there is no registered converter for this op.\n",
      "WARNING:tensorflow:Using a while_loop for converting RngReadAndSkip cause there is no registered converter for this op.\n",
      "WARNING:tensorflow:Using a while_loop for converting Bitcast cause there is no registered converter for this op.\n",
      "WARNING:tensorflow:Using a while_loop for converting Bitcast cause there is no registered converter for this op.\n",
      "WARNING:tensorflow:Using a while_loop for converting StatelessRandomUniformV2 cause there is no registered converter for this op.\n"
     ]
    }
   ],
   "source": [
    "train_ds = prepare(train_ds, shuffle=True, augment=True, GAN=True)\n",
    "train_ds = train_ds.map(lambda x, y: tf.py_function(map_labels, [x, y], [tf.float32, tf.float32]))\n",
    "\n",
    "channels = 3\n",
    "input_shape = (width, height, channels)"
   ]
  },
  {
   "cell_type": "code",
   "execution_count": 22,
   "metadata": {},
   "outputs": [],
   "source": [
    "plot_n_images(train_ds, 5, class_names, GAN=True, size=width)"
   ]
  },
  {
   "cell_type": "code",
   "execution_count": 114,
   "metadata": {},
   "outputs": [],
   "source": [
    "from keras.layers import Input, Dense, Conv2D, Flatten, Lambda, Reshape, BatchNormalization, Concatenate, LeakyReLU, Dropout, Activation, UpSampling2D\n",
    "from keras.models import Model\n",
    "from keras import backend as K\n",
    "import numpy as np\n",
    "\n",
    "\n",
    "def build_encoder(input_shape, latent_dim):\n",
    "    # Define the input shape\n",
    "    input_shape = (96, 96, 3)\n",
    "\n",
    "    # Define the number of latent variables\n",
    "    latent_dim = 100\n",
    "\n",
    "    # Define the encoder architecture\n",
    "    input_encoder = Input(shape=input_shape, name='input_encoder')\n",
    "    x = Conv2D(64, kernel_size=3, strides=2, padding='same')(input_encoder)\n",
    "    x = tf.keras.layers.LeakyReLU(alpha=0.2)(x)\n",
    "    x = BatchNormalization()(x)\n",
    "    x = Conv2D(128, kernel_size=3, strides=2, padding='same')(x)\n",
    "    x = tf.keras.layers.LeakyReLU(alpha=0.2)(x)\n",
    "    x = BatchNormalization()(x)\n",
    "    x = Conv2D(128, kernel_size=3, strides=2, padding='same')(x)\n",
    "    x = tf.keras.layers.LeakyReLU(alpha=0.2)(x)\n",
    "    x = BatchNormalization()(x)\n",
    "    x = Conv2D(256, kernel_size=3, strides=2, padding='same')(x)\n",
    "    x = tf.keras.layers.LeakyReLU(alpha=0.2)(x)\n",
    "    x = BatchNormalization()(x)\n",
    "    x = Flatten()(x)\n",
    "    x = Dense(256, activation='relu')(x)\n",
    "    x = BatchNormalization()(x)\n",
    "    z_mean = Dense(latent_dim, name='z_mean')(x)\n",
    "    z_log_var = Dense(latent_dim, name='z_log_var')(x)\n",
    "    \n",
    "    # Define sampling function\n",
    "    def sampling(args):\n",
    "        z_mean, z_log_var = args\n",
    "        epsilon = K.random_normal(shape=(K.shape(z_mean)[0], latent_dim), mean=0., stddev=1.)\n",
    "        return z_mean + K.exp(z_log_var / 2) * epsilon\n",
    "    \n",
    "    # Sample the latent space\n",
    "    z = Lambda(sampling, output_shape=(latent_dim,), name='z')([z_mean, z_log_var])\n",
    "    \n",
    "    # Define the encoder\n",
    "    encoder = Model(input_encoder, [z_mean, z_log_var, z], name='encoder')\n",
    "\n",
    "    return encoder\n",
    "\n",
    "\n",
    "# Define the generator\n",
    "def build_decoder(latent_dim):\n",
    "    # Define the noise vector input\n",
    "    in_lat = tf.keras.layers.Input(shape=(latent_dim,))\n",
    "    # Define the class vector input\n",
    "    # in_class = tf.keras.layers.Input(shape=(num_classes,))\n",
    "    # Concatenate the noise and class vectors\n",
    "    # merge = tf.keras.layers.Concatenate()([in_lat, in_class])\n",
    "    # Project the concatenated vector to a larger dimension\n",
    "    n = 128\n",
    "    size = int(width/16)\n",
    "    n_nodes = n * size * size\n",
    "    dense = tf.keras.layers.Dense(n_nodes)(in_lat)\n",
    "    # Reshape the dense layer output\n",
    "    reshaped = tf.keras.layers.Reshape((size, size, n))(dense)\n",
    "    # Upsample the feature maps\n",
    "    upsampled = tf.keras.layers.Conv2DTranspose(256, (4,4), strides=(2,2), padding='same')(reshaped)\n",
    "    upsampled = tf.keras.layers.LeakyReLU(alpha=0.2)(upsampled)\n",
    "    upsampled = tf.keras.layers.Conv2DTranspose(256, (4,4), strides=(2,2), padding='same')(upsampled)\n",
    "    upsampled = tf.keras.layers.LeakyReLU(alpha=0.2)(upsampled)\n",
    "    upsampled = tf.keras.layers.Conv2DTranspose(128, (4,4), strides=(2,2), padding='same')(upsampled)\n",
    "    upsampled = tf.keras.layers.LeakyReLU(alpha=0.2)(upsampled)\n",
    "    upsampled = tf.keras.layers.Conv2DTranspose(128, (4,4), strides=(2,2), padding='same')(upsampled)\n",
    "    upsampled = tf.keras.layers.LeakyReLU(alpha=0.2)(upsampled)\n",
    "    # Output layer\n",
    "    out_layer = tf.keras.layers.Conv2D(3, (3,3), activation='tanh', padding='same')(upsampled)\n",
    "    # Define the model\n",
    "    model = tf.keras.models.Model(in_lat, out_layer, name='decoder')\n",
    "\n",
    "    return model"
   ]
  },
  {
   "cell_type": "code",
   "execution_count": 115,
   "metadata": {},
   "outputs": [],
   "source": [
    "def build_discriminator(input_shape, latent_dim):\n",
    "    # Define input layers\n",
    "    img_input = Input(shape=input_shape)\n",
    "    enc_input = Input(shape=(latent_dim,))\n",
    "\n",
    "    # image branch\n",
    "    img_layer = Conv2D(64, (3,3), strides=(2,2), padding='same')(img_input)\n",
    "    img_layer = LeakyReLU(alpha=0.2)(img_layer)\n",
    "    img_layer = Dropout(0.25)(img_layer)\n",
    "    img_layer = Conv2D(128, (3,3), strides=(2,2), padding='same')(img_layer)\n",
    "    img_layer = LeakyReLU(alpha=0.2)(img_layer)\n",
    "    img_layer = Dropout(0.25)(img_layer)\n",
    "    img_layer = Conv2D(256, (3,3), strides=(2,2), padding='same')(img_layer)\n",
    "    img_layer = LeakyReLU(alpha=0.2)(img_layer)\n",
    "    img_layer = Dropout(0.25)(img_layer)\n",
    "    img_layer = Conv2D(512, (3,3), strides=(2,2), padding='same')(img_layer)\n",
    "    img_layer = LeakyReLU(alpha=0.2)(img_layer)\n",
    "    img_layer = Dropout(0.25)(img_layer)\n",
    "    # Flatten the features\n",
    "    features = Flatten()(img_layer)\n",
    "\n",
    "    # label branch\n",
    "    latent_layer = tf.keras.layers.Dense(64)(enc_input)\n",
    "    latent_layer = tf.keras.layers.LeakyReLU(alpha=0.2)(latent_layer)\n",
    "    latent_layer = tf.keras.layers.Dense(128)(latent_layer)\n",
    "    latent_layer = tf.keras.layers.LeakyReLU(alpha=0.2)(latent_layer)\n",
    "    latent_layer = tf.keras.layers.Dense(256)(latent_layer)\n",
    "    latent_layer = tf.keras.layers.LeakyReLU(alpha=0.2)(latent_layer)\n",
    "    latent_layer = tf.keras.layers.Dense(256)(latent_layer)\n",
    "    latent_layer = tf.keras.layers.LeakyReLU(alpha=0.2)(latent_layer)\n",
    "    latent_layer = tf.keras.layers.Flatten()(latent_layer)\n",
    "\n",
    "    # Concatenate the input layers\n",
    "    merged_input = Concatenate()([features, latent_layer])\n",
    "    merged_input = tf.keras.layers.Dropout(0.4)(merged_input)\n",
    "    validity = Dense(1, activation='sigmoid')(merged_input)\n",
    "\n",
    "    # Define the model\n",
    "    model = Model(inputs=[img_input, enc_input], outputs=validity, name='discriminator')\n",
    "\n",
    "    # compile the model\n",
    "    opt = tf.keras.optimizers.Adam(learning_rate=0.0001, beta_1=0.5)\n",
    "    model.compile(loss='binary_crossentropy', optimizer=opt, metrics=['accuracy'])\n",
    "    \n",
    "    return model\n"
   ]
  },
  {
   "cell_type": "code",
   "execution_count": 116,
   "metadata": {},
   "outputs": [],
   "source": [
    "decoder = build_decoder(latent_dim)\n",
    "encoder = build_encoder(input_shape, latent_dim)\n",
    "discriminator = build_discriminator(input_shape, latent_dim)"
   ]
  },
  {
   "cell_type": "code",
   "execution_count": 100,
   "metadata": {},
   "outputs": [],
   "source": [
    "def build_vae(encoder, decoder, input_shape, latent_dim):\n",
    "    # Define the input layer\n",
    "    in_layer = tf.keras.layers.Input(shape=input_shape)\n",
    "    # Connect the input layer to the encoder\n",
    "    encoded_latent = encoder(in_layer)\n",
    "    # Connect the latent vector to the decoder\n",
    "    gen_output = decoder(encoded_latent)\n",
    "    # Define the VAE model\n",
    "    vae_model = tf.keras.models.Model(in_layer, gen_output, name='vae')\n",
    "    # Compile the VAE model\n",
    "    opt = tf.keras.optimizers.Adam(learning_rate=0.0002, beta_1=0.5)\n",
    "    vae_model.compile(loss='mse', optimizer=opt)\n",
    "    return vae_model\n",
    "\n",
    "def build_gan(decoder, discriminator, input_shape, latent_dim):\n",
    "    # Define the input layer\n",
    "    in_layer = tf.keras.layers.Input(shape=latent_dim)\n",
    "    # Connect the input layer to the encoder\n",
    "    # encoded_latent = encoder(in_layer)\n",
    "    # Connect the latent vector to the decoder\n",
    "    gen_output = decoder(in_layer)\n",
    "    # Freeze the discriminator weights during generator training\n",
    "    discriminator.trainable = False\n",
    "    # Connect the generated image to the discriminator\n",
    "    gan_output = discriminator([gen_output, in_layer])\n",
    "    # Define the GAN model\n",
    "    gan_model = tf.keras.models.Model(in_layer, gan_output, name='gan')\n",
    "    # Compile the GAN model\n",
    "    opt = tf.keras.optimizers.Adam(learning_rate=0.0002, beta_1=0.5)\n",
    "    gan_model.compile(loss='binary_crossentropy', optimizer=opt)\n",
    "    return gan_model\n"
   ]
  },
  {
   "cell_type": "code",
   "execution_count": 101,
   "metadata": {},
   "outputs": [],
   "source": [
    "# vae = build_vae(encoder, decoder, input_shape, latent_dim)\n",
    "# gan = build_gan(decoder, discriminator, input_shape, latent_dim)"
   ]
  },
  {
   "cell_type": "code",
   "execution_count": 102,
   "metadata": {},
   "outputs": [],
   "source": [
    "\n",
    "# def build_vaegan(encoder, decoder, discriminator, input_shape, latent_dim):\n",
    "#     # Define the input layer\n",
    "#     in_layer = tf.keras.layers.Input(shape=input_shape)\n",
    "#     # Connect the input layer to the encoder\n",
    "#     encoded_latent = encoder(in_layer)\n",
    "#     # Connect the latent vector to the decoder\n",
    "#     gen_output = decoder(encoded_latent)\n",
    "#     # Freeze the discriminator weights during generator training\n",
    "#     discriminator.trainable = False\n",
    "#     # Connect the generated image to the discriminator\n",
    "#     gan_output = discriminator([gen_output, encoded_latent])\n",
    "#     # Define the VAE-GAN model\n",
    "#     vaegan_model = tf.keras.models.Model(in_layer, gan_output, name='vaegan')\n",
    "#     # Compile the VAE-GAN model\n",
    "#     opt = tf.keras.optimizers.Adam(learning_rate=0.0002, beta_1=0.5)\n",
    "#     vaegan_model.compile(loss='binary_crossentropy', optimizer=opt)\n",
    "#     return vaegan_model\n"
   ]
  },
  {
   "cell_type": "code",
   "execution_count": 145,
   "metadata": {},
   "outputs": [],
   "source": [
    "def build_vaegan(input_shape, latent_dim):\n",
    "    # Define the encoder and decoder\n",
    "    encoder = build_encoder(input_shape, latent_dim)\n",
    "    decoder = build_decoder(latent_dim)\n",
    "\n",
    "    # Define the discriminator\n",
    "    discriminator = build_discriminator(input_shape, latent_dim)\n",
    "\n",
    "    # Define the generator\n",
    "    in_shape = tf.keras.layers.Input(shape=input_shape)\n",
    "    encoded_latent = encoder(in_shape)\n",
    "    gen_output = decoder(encoded_latent)\n",
    "\n",
    "    # Freeze the weights of the encoder and decoder\n",
    "    encoder.trainable = False\n",
    "    decoder.trainable = False\n",
    "\n",
    "    # Define the GAN model\n",
    "    gan_output = discriminator([gen_output, encoded_latent])\n",
    "    gan_model = tf.keras.models.Model(in_shape, gan_output, name='gan')\n",
    "\n",
    "    # Compile the GAN model\n",
    "    opt = tf.keras.optimizers.Adam(learning_rate=0.0002, beta_1=0.5)\n",
    "    gan_model.compile(loss='binary_crossentropy', optimizer=opt, experimental_run_tf_function=False)\n",
    "\n",
    "    # Define the VAE-GAN model\n",
    "    z_mean, z_log_var, z = encoder(in_shape)\n",
    "    x_pred = decoder(z)\n",
    "    vae_output = discriminator([x_pred, z])\n",
    "    vae_model = tf.keras.models.Model(in_shape, [x_pred, vae_output], name='vae_gan')\n",
    "\n",
    "    # Define the VAE loss function\n",
    "    def vae_loss(y_true, y_pred):\n",
    "        reconstruction_loss = tf.keras.losses.mse(y_true, y_pred)\n",
    "        kl_loss = - 0.5 * tf.reduce_mean(1 + z_log_var - tf.square(z_mean) - tf.exp(z_log_var))\n",
    "        return reconstruction_loss + 0.1 * kl_loss\n",
    "\n",
    "    # Define the training step function\n",
    "    @tf.function\n",
    "    def train_step(x):\n",
    "        with tf.GradientTape() as tape:\n",
    "            z_mean, z_log_var, z = encoder(x)\n",
    "            x_pred = decoder(z)\n",
    "            vae_loss_value = vae_loss(x, x_pred)\n",
    "        vae_grads = tape.gradient(vae_loss_value, vae_model.trainable_variables)\n",
    "        opt.apply_gradients(zip(vae_grads, vae_model.trainable_variables))\n",
    "        return {'vae_loss': vae_loss_value}\n",
    "\n",
    "    # Compile the VAE-GAN model\n",
    "    vae_model.compile(optimizer=tf.keras.optimizers.Adam(learning_rate=0.0002, beta_1=0.5), loss=vae_loss)\n",
    "\n",
    "    return decoder, discriminator, gan_model, encoder, vae_model, train_step\n",
    "\n",
    "\n",
    "# Train the VAE-GAN\n",
    "decoder, discriminator, gan_model, encoder, vae_model, train_step = build_vaegan(input_shape=(96,96,3), latent_dim=100)\n",
    "    "
   ]
  },
  {
   "cell_type": "code",
   "execution_count": 146,
   "metadata": {},
   "outputs": [
    {
     "data": {
      "text/plain": [
       "<function __main__.build_vaegan.<locals>.vae_loss(y_true, y_pred)>"
      ]
     },
     "execution_count": 146,
     "metadata": {},
     "output_type": "execute_result"
    }
   ],
   "source": [
    "vae_model.loss"
   ]
  },
  {
   "cell_type": "code",
   "execution_count": 147,
   "metadata": {},
   "outputs": [
    {
     "ename": "TypeError",
     "evalue": "in user code:\n\n    File \"c:\\Users\\valen\\AppData\\Local\\Programs\\Python\\Python310\\lib\\site-packages\\keras\\engine\\training.py\", line 1160, in train_function  *\n        return step_function(self, iterator)\n    File \"c:\\Users\\valen\\AppData\\Local\\Programs\\Python\\Python310\\lib\\site-packages\\keras\\engine\\training.py\", line 1146, in step_function  **\n        outputs = model.distribute_strategy.run(run_step, args=(data,))\n    File \"c:\\Users\\valen\\AppData\\Local\\Programs\\Python\\Python310\\lib\\site-packages\\keras\\engine\\training.py\", line 1135, in run_step  **\n        outputs = model.train_step(data)\n    File \"c:\\Users\\valen\\AppData\\Local\\Programs\\Python\\Python310\\lib\\site-packages\\keras\\engine\\training.py\", line 994, in train_step\n        loss = self.compute_loss(x, y, y_pred, sample_weight)\n    File \"c:\\Users\\valen\\AppData\\Local\\Programs\\Python\\Python310\\lib\\site-packages\\keras\\engine\\training.py\", line 1052, in compute_loss\n        return self.compiled_loss(\n    File \"c:\\Users\\valen\\AppData\\Local\\Programs\\Python\\Python310\\lib\\site-packages\\keras\\engine\\compile_utils.py\", line 282, in __call__\n        metric_obj.update_state(\n    File \"c:\\Users\\valen\\AppData\\Local\\Programs\\Python\\Python310\\lib\\site-packages\\keras\\utils\\metrics_utils.py\", line 77, in decorated\n        update_op = update_state_fn(*args, **kwargs)\n    File \"c:\\Users\\valen\\AppData\\Local\\Programs\\Python\\Python310\\lib\\site-packages\\keras\\metrics\\base_metric.py\", line 143, in update_state_fn\n        return ag_update_state(*args, **kwargs)\n    File \"c:\\Users\\valen\\AppData\\Local\\Programs\\Python\\Python310\\lib\\site-packages\\keras\\metrics\\base_metric.py\", line 486, in update_state  **\n        sample_weight = tf.__internal__.ops.broadcast_weights(\n    File \"c:\\Users\\valen\\AppData\\Local\\Programs\\Python\\Python310\\lib\\site-packages\\keras\\engine\\keras_tensor.py\", line 283, in __array__\n        raise TypeError(\n\n    TypeError: You are passing KerasTensor(type_spec=TensorSpec(shape=(), dtype=tf.float32, name=None), name='Placeholder:0', description=\"created by layer 'tf.cast_19'\"), an intermediate Keras symbolic input/output, to a TF API that does not allow registering custom dispatchers, such as `tf.cond`, `tf.function`, gradient tapes, or `tf.map_fn`. Keras Functional model construction only supports TF API calls that *do* support dispatching, such as `tf.math.add` or `tf.reshape`. Other APIs cannot be called directly on symbolic Kerasinputs/outputs. You can work around this limitation by putting the operation in a custom Keras layer `call` and calling that layer on this symbolic input/output.\n",
     "output_type": "error",
     "traceback": [
      "\u001b[1;31m---------------------------------------------------------------------------\u001b[0m",
      "\u001b[1;31mTypeError\u001b[0m                                 Traceback (most recent call last)",
      "\u001b[1;32md:\\GAN_poke\\VAEGAN.ipynb Cell 21\u001b[0m in \u001b[0;36m1\n\u001b[0;32m      <a href='vscode-notebook-cell:/d%3A/GAN_poke/VAEGAN.ipynb#Y100sZmlsZQ%3D%3D?line=1'>2</a>\u001b[0m x_batch \u001b[39m=\u001b[39m batch[\u001b[39m0\u001b[39m]\n\u001b[0;32m      <a href='vscode-notebook-cell:/d%3A/GAN_poke/VAEGAN.ipynb#Y100sZmlsZQ%3D%3D?line=2'>3</a>\u001b[0m \u001b[39m# y_batch = decoder.predict(encoder.predict(x_batch, verbose=0)[-1], verbose=0)\u001b[39;00m\n\u001b[0;32m      <a href='vscode-notebook-cell:/d%3A/GAN_poke/VAEGAN.ipynb#Y100sZmlsZQ%3D%3D?line=3'>4</a>\u001b[0m \u001b[39m# plot first image with original and generated\u001b[39;00m\n\u001b[0;32m      <a href='vscode-notebook-cell:/d%3A/GAN_poke/VAEGAN.ipynb#Y100sZmlsZQ%3D%3D?line=4'>5</a>\u001b[0m \u001b[39m# plt.subplot(1, 2, 1)\u001b[39;00m\n\u001b[1;32m   (...)\u001b[0m\n\u001b[0;32m      <a href='vscode-notebook-cell:/d%3A/GAN_poke/VAEGAN.ipynb#Y100sZmlsZQ%3D%3D?line=7'>8</a>\u001b[0m \u001b[39m# plt.imshow(y_batch[0])\u001b[39;00m\n\u001b[0;32m      <a href='vscode-notebook-cell:/d%3A/GAN_poke/VAEGAN.ipynb#Y100sZmlsZQ%3D%3D?line=8'>9</a>\u001b[0m \u001b[39m# plt.show()\u001b[39;00m\n\u001b[1;32m---> <a href='vscode-notebook-cell:/d%3A/GAN_poke/VAEGAN.ipynb#Y100sZmlsZQ%3D%3D?line=9'>10</a>\u001b[0m vae_model\u001b[39m.\u001b[39;49mfit(x_batch, x_batch)\n\u001b[0;32m     <a href='vscode-notebook-cell:/d%3A/GAN_poke/VAEGAN.ipynb#Y100sZmlsZQ%3D%3D?line=10'>11</a>\u001b[0m \u001b[39mbreak\u001b[39;00m\n",
      "File \u001b[1;32mc:\\Users\\valen\\AppData\\Local\\Programs\\Python\\Python310\\lib\\site-packages\\keras\\utils\\traceback_utils.py:70\u001b[0m, in \u001b[0;36mfilter_traceback.<locals>.error_handler\u001b[1;34m(*args, **kwargs)\u001b[0m\n\u001b[0;32m     67\u001b[0m     filtered_tb \u001b[39m=\u001b[39m _process_traceback_frames(e\u001b[39m.\u001b[39m__traceback__)\n\u001b[0;32m     68\u001b[0m     \u001b[39m# To get the full stack trace, call:\u001b[39;00m\n\u001b[0;32m     69\u001b[0m     \u001b[39m# `tf.debugging.disable_traceback_filtering()`\u001b[39;00m\n\u001b[1;32m---> 70\u001b[0m     \u001b[39mraise\u001b[39;00m e\u001b[39m.\u001b[39mwith_traceback(filtered_tb) \u001b[39mfrom\u001b[39;00m \u001b[39mNone\u001b[39m\n\u001b[0;32m     71\u001b[0m \u001b[39mfinally\u001b[39;00m:\n\u001b[0;32m     72\u001b[0m     \u001b[39mdel\u001b[39;00m filtered_tb\n",
      "File \u001b[1;32m~\\AppData\\Local\\Temp\\__autograph_generated_file8kuhet1z.py:15\u001b[0m, in \u001b[0;36mouter_factory.<locals>.inner_factory.<locals>.tf__train_function\u001b[1;34m(iterator)\u001b[0m\n\u001b[0;32m     13\u001b[0m \u001b[39mtry\u001b[39;00m:\n\u001b[0;32m     14\u001b[0m     do_return \u001b[39m=\u001b[39m \u001b[39mTrue\u001b[39;00m\n\u001b[1;32m---> 15\u001b[0m     retval_ \u001b[39m=\u001b[39m ag__\u001b[39m.\u001b[39mconverted_call(ag__\u001b[39m.\u001b[39mld(step_function), (ag__\u001b[39m.\u001b[39mld(\u001b[39mself\u001b[39m), ag__\u001b[39m.\u001b[39mld(iterator)), \u001b[39mNone\u001b[39;00m, fscope)\n\u001b[0;32m     16\u001b[0m \u001b[39mexcept\u001b[39;00m:\n\u001b[0;32m     17\u001b[0m     do_return \u001b[39m=\u001b[39m \u001b[39mFalse\u001b[39;00m\n",
      "\u001b[1;31mTypeError\u001b[0m: in user code:\n\n    File \"c:\\Users\\valen\\AppData\\Local\\Programs\\Python\\Python310\\lib\\site-packages\\keras\\engine\\training.py\", line 1160, in train_function  *\n        return step_function(self, iterator)\n    File \"c:\\Users\\valen\\AppData\\Local\\Programs\\Python\\Python310\\lib\\site-packages\\keras\\engine\\training.py\", line 1146, in step_function  **\n        outputs = model.distribute_strategy.run(run_step, args=(data,))\n    File \"c:\\Users\\valen\\AppData\\Local\\Programs\\Python\\Python310\\lib\\site-packages\\keras\\engine\\training.py\", line 1135, in run_step  **\n        outputs = model.train_step(data)\n    File \"c:\\Users\\valen\\AppData\\Local\\Programs\\Python\\Python310\\lib\\site-packages\\keras\\engine\\training.py\", line 994, in train_step\n        loss = self.compute_loss(x, y, y_pred, sample_weight)\n    File \"c:\\Users\\valen\\AppData\\Local\\Programs\\Python\\Python310\\lib\\site-packages\\keras\\engine\\training.py\", line 1052, in compute_loss\n        return self.compiled_loss(\n    File \"c:\\Users\\valen\\AppData\\Local\\Programs\\Python\\Python310\\lib\\site-packages\\keras\\engine\\compile_utils.py\", line 282, in __call__\n        metric_obj.update_state(\n    File \"c:\\Users\\valen\\AppData\\Local\\Programs\\Python\\Python310\\lib\\site-packages\\keras\\utils\\metrics_utils.py\", line 77, in decorated\n        update_op = update_state_fn(*args, **kwargs)\n    File \"c:\\Users\\valen\\AppData\\Local\\Programs\\Python\\Python310\\lib\\site-packages\\keras\\metrics\\base_metric.py\", line 143, in update_state_fn\n        return ag_update_state(*args, **kwargs)\n    File \"c:\\Users\\valen\\AppData\\Local\\Programs\\Python\\Python310\\lib\\site-packages\\keras\\metrics\\base_metric.py\", line 486, in update_state  **\n        sample_weight = tf.__internal__.ops.broadcast_weights(\n    File \"c:\\Users\\valen\\AppData\\Local\\Programs\\Python\\Python310\\lib\\site-packages\\keras\\engine\\keras_tensor.py\", line 283, in __array__\n        raise TypeError(\n\n    TypeError: You are passing KerasTensor(type_spec=TensorSpec(shape=(), dtype=tf.float32, name=None), name='Placeholder:0', description=\"created by layer 'tf.cast_19'\"), an intermediate Keras symbolic input/output, to a TF API that does not allow registering custom dispatchers, such as `tf.cond`, `tf.function`, gradient tapes, or `tf.map_fn`. Keras Functional model construction only supports TF API calls that *do* support dispatching, such as `tf.math.add` or `tf.reshape`. Other APIs cannot be called directly on symbolic Kerasinputs/outputs. You can work around this limitation by putting the operation in a custom Keras layer `call` and calling that layer on this symbolic input/output.\n"
     ]
    }
   ],
   "source": [
    "for i, batch in enumerate(train_ds):\n",
    "    x_batch = batch[0]\n",
    "    # y_batch = decoder.predict(encoder.predict(x_batch, verbose=0)[-1], verbose=0)\n",
    "    # plot first image with original and generated\n",
    "    # plt.subplot(1, 2, 1)\n",
    "    # plt.imshow(x_batch[0])\n",
    "    # plt.subplot(1, 2, 2)\n",
    "    # plt.imshow(y_batch[0])\n",
    "    # plt.show()\n",
    "    vae_model.fit(x_batch, x_batch)\n",
    "    break"
   ]
  },
  {
   "cell_type": "code",
   "execution_count": 104,
   "metadata": {},
   "outputs": [
    {
     "data": {
      "image/png": "[encoded data removed]",
      "text/plain": [
       "<IPython.core.display.Image object>"
      ]
     },
     "execution_count": 104,
     "metadata": {},
     "output_type": "execute_result"
    }
   ],
   "source": [
    "tf.keras.utils.plot_model(vae_model, to_file=\"vae.png\", show_shapes=True, dpi=64)\n",
    "tf.keras.utils.plot_model(gan_model, to_file=\"gan.png\", show_shapes=True, dpi=64)\n"
   ]
  },
  {
   "cell_type": "code",
   "execution_count": 105,
   "metadata": {},
   "outputs": [],
   "source": [
    "def generate_latent_points(latent_dim, n_samples):\n",
    "    # generate points in the latent space\n",
    "    x_input = tf.random.normal(shape=(n_samples, latent_dim))\n",
    "    return x_input\n",
    "\n",
    "def generate_fake_samples(generator, latent_dim, n_samples):\n",
    "    # generate points in latent space\n",
    "    noise_input = generate_latent_points(latent_dim, n_samples)\n",
    "    # predict outputs\n",
    "    X = generator.predict(noise_input, verbose=0)\n",
    "    # create 'fake' class labels (0)\n",
    "    y_class = tf.zeros((n_samples, 1))\n",
    "    return X, y_class, noise_input\n",
    "\n",
    "def generate_real_samples(dataset, encoder, n_samples):\n",
    "    X, y_class = [], []\n",
    "    while len(X) < n_samples:\n",
    "        dataset.shuffle(100)\n",
    "        for x, label in dataset.take(5):\n",
    "            for i in range(len(x)):\n",
    "                X.append(x[i])\n",
    "                y_class.append(label[i][0])\n",
    "                if len(X) == n_samples:\n",
    "                    break\n",
    "            if len(X) == n_samples:\n",
    "                break\n",
    "    X = tf.stack(X)\n",
    "    y_class = tf.reshape(tf.stack(y_class), (n_samples, 1))\n",
    "    # generate points in latent space using encoder\n",
    "    encoded = encoder.predict(X, verbose=0)\n",
    "    return X, y_class, encoded\n"
   ]
  },
  {
   "cell_type": "code",
   "execution_count": 106,
   "metadata": {},
   "outputs": [],
   "source": [
    "def summarize_performance(epoch, g_model, d_model, encoder, dataset, latent_dim, n_samples=100):\n",
    "    # prepare real samples\n",
    "    X_real, y_real_class, encoded = generate_real_samples(dataset, encoder, n_samples)\n",
    "    # evaluate discriminator on real examples\n",
    "    # print(X_real.shape)\n",
    "    # print(encoded.shape)\n",
    "    # print(y_real_class.shape)\n",
    "    X_reconstructed = g_model.predict(encoded, verbose=0)\n",
    "    _, acc_real = d_model.evaluate([X_reconstructed, encoded], y_real_class, verbose=0)\n",
    "    # prepare fake examples\n",
    "    x_fake, y_fake_class, encoded = generate_fake_samples(g_model, latent_dim, n_samples)\n",
    "    # evaluate discriminator on fake examples\n",
    "    _, acc_fake = d_model.evaluate([x_fake, encoded], y_fake_class, verbose=0)\n",
    "    # summarize discriminator performance\n",
    "    print('>Accuracy real: %.0f%%, fake: %.0f%%' % (acc_real*100, acc_fake*100))\n",
    "    # save plot\n",
    "    save_plot(x_fake, epoch)\n",
    "    # save_plot(X_real, epoch, reconstructions=1)\n",
    "    save_plot(X_reconstructed, epoch, reconstructions=2)\n",
    "    # save the generator model tile file\n",
    "    filename = 'vaegenerator_model_96_e%03d.h5' % (epoch+1)\n",
    "    g_model.save(filename)\n",
    "\n",
    "\n",
    "def save_plot(examples, epoch, n=10, reconstructions=0):\n",
    "    # plot images\n",
    "    for i in range(n * n):\n",
    "        # define subplot\n",
    "        plt.subplot(n, n, 1 + i)\n",
    "        # turn off axis\n",
    "        plt.axis('off')\n",
    "        # scale from [-1,1] to [0,1]\n",
    "        examples[i, :, :, :] = (examples[i, :, :, :] + 1) / 2.0\n",
    "        # plot raw pixel data\n",
    "        plt.imshow(examples[i, :, :, :])\n",
    "    # save plot to file\n",
    "    if reconstructions == 0:\n",
    "        filename = 'vae_generated_plot_96_e%03d.png' % (epoch+1)\n",
    "    elif reconstructions == 1:\n",
    "        filename = 'vae_reconstructions_1_plot_96_e%03d.png' % (epoch+1)\n",
    "    else:\n",
    "        filename = 'vae_reconstructions_2_plot_96_e%03d.png' % (epoch+1)\n",
    "    plt.savefig(filename)\n",
    "    plt.close()"
   ]
  },
  {
   "cell_type": "code",
   "execution_count": 107,
   "metadata": {},
   "outputs": [],
   "source": [
    "@tf.function\n",
    "def vae_train_step(x, vae_model, encoder, decoder, optimizer):\n",
    "    with tf.GradientTape() as tape:\n",
    "        # Encode the input data\n",
    "        z_mean, z_log_var, z = encoder(x)\n",
    "\n",
    "        # Decode the sampled point to get the reconstructed data\n",
    "        x_decoded = decoder(z)\n",
    "\n",
    "        # Compute the reconstruction loss\n",
    "        reconstruction_loss = tf.reduce_mean(\n",
    "            tf.keras.losses.binary_crossentropy(x, x_decoded), axis=-1\n",
    "        )\n",
    "\n",
    "        # Compute the KL divergence loss\n",
    "        kl_loss = -0.5 * tf.reduce_mean(\n",
    "            tf.reduce_sum(\n",
    "                1 + z_log_var - tf.square(z_mean) - tf.exp(z_log_var), axis=1\n",
    "            )\n",
    "        )\n",
    "\n",
    "        # Compute the total loss as the sum of the reconstruction and KL divergence losses\n",
    "        total_loss = reconstruction_loss + kl_loss\n",
    "        print(total_loss)\n",
    "    # Compute the gradients and update the encoder and decoder parameters\n",
    "    gradients = tape.gradient(total_loss, vae_model.trainable_variables)\n",
    "    optimizer.apply_gradients(zip(gradients, vae_model.trainable_variables))\n",
    "\n",
    "    return total_loss\n"
   ]
  },
  {
   "cell_type": "code",
   "execution_count": 108,
   "metadata": {},
   "outputs": [],
   "source": [
    "@tf.function\n",
    "def gan_train_step(X_real, generator, discriminator, gan_model, latent_dim, optimizer):\n",
    "    # Generate fake images\n",
    "    noise = tf.random.normal((X_real.shape[0], latent_dim))\n",
    "    X_fake = generator(noise)\n",
    "\n",
    "    # Combine real and fake images\n",
    "    X = tf.concat([X_real, X_fake], axis=0)\n",
    "    y_real = tf.ones((X_real.shape[0], 1))\n",
    "    y_fake = tf.zeros((X_fake.shape[0], 1))\n",
    "    y = tf.concat([y_real, y_fake], axis=0)\n",
    "\n",
    "    # Train the discriminator\n",
    "    discriminator.trainable = True\n",
    "    with tf.GradientTape() as tape:\n",
    "        y_pred = discriminator(X)\n",
    "        d_loss = tf.reduce_mean(tf.keras.losses.binary_crossentropy(y, y_pred))\n",
    "    grads = tape.gradient(d_loss, discriminator.trainable_weights)\n",
    "    optimizer.apply_gradients(zip(grads, discriminator.trainable_weights))\n",
    "\n",
    "    # Train the generator\n",
    "    discriminator.trainable = False\n",
    "    with tf.GradientTape() as tape:\n",
    "        y_pred = discriminator(X_fake)\n",
    "        g_loss = tf.reduce_mean(tf.keras.losses.binary_crossentropy(tf.ones_like(y_pred), y_pred))\n",
    "    grads = tape.gradient(g_loss, generator.trainable_weights)\n",
    "    optimizer.apply_gradients(zip(grads, generator.trainable_weights))\n",
    "\n",
    "    return g_loss, d_loss\n"
   ]
  },
  {
   "cell_type": "code",
   "execution_count": 109,
   "metadata": {},
   "outputs": [],
   "source": [
    "def train_vaegan(vae_model, gan_model, encoder, decoder, dataset, latent_dim, n_epochs=10, n_batch=64):\n",
    "    # Define the optimizer for the VAE\n",
    "    vae_optimizer = tf.keras.optimizers.Adam(learning_rate=0.0002, beta_1=0.5)\n",
    "\n",
    "    # Define the optimizer for the GAN\n",
    "    gan_optimizer = tf.keras.optimizers.Adam(learning_rate=0.0002, beta_1=0.5)\n",
    "\n",
    "    for epoch in range(n_epochs):\n",
    "        # Enumerate batches over the training set\n",
    "        for i, batch in enumerate(dataset):\n",
    "            # Get randomly selected 'real' samples\n",
    "            x_real, _ = batch\n",
    "            batch_size = x_real.shape[0]\n",
    "            y_real = decoder.predict(encoder.predict(x_real, verbose=0)[-1], verbose=0)\n",
    "            \n",
    "            # Train the VAE on the real data\n",
    "            vae_loss = vae_model.train_on_batch(x_real, y_real)\n",
    "\n",
    "            # Train the GAN on the real data and generated data\n",
    "            z_fake = tf.random.normal((batch_size, latent_dim))\n",
    "            x_fake = decoder(z_fake)\n",
    "            y_fake = tf.zeros((batch_size, 1))\n",
    "            gan_loss = gan_train_step(x_real, x_fake, gan_model, gan_optimizer)\n",
    "\n",
    "            # Print the losses every 10 batches\n",
    "            if i % 10 == 0:\n",
    "                print(f\"Epoch {epoch}, Batch {i}: VAE Loss = {vae_loss}, GAN Loss = {gan_loss}\")\n",
    "\n",
    "    # Save the generator model\n",
    "    decoder.save('vaegan_generator.h5')\n"
   ]
  },
  {
   "cell_type": "code",
   "execution_count": 110,
   "metadata": {},
   "outputs": [
    {
     "ename": "ValueError",
     "evalue": "in user code:\n\n    File \"c:\\Users\\valen\\AppData\\Local\\Programs\\Python\\Python310\\lib\\site-packages\\keras\\engine\\training.py\", line 1160, in train_function  *\n        return step_function(self, iterator)\n    File \"c:\\Users\\valen\\AppData\\Local\\Programs\\Python\\Python310\\lib\\site-packages\\keras\\engine\\training.py\", line 1146, in step_function  **\n        outputs = model.distribute_strategy.run(run_step, args=(data,))\n    File \"c:\\Users\\valen\\AppData\\Local\\Programs\\Python\\Python310\\lib\\site-packages\\keras\\engine\\training.py\", line 1135, in run_step  **\n        outputs = model.train_step(data)\n    File \"c:\\Users\\valen\\AppData\\Local\\Programs\\Python\\Python310\\lib\\site-packages\\keras\\engine\\training.py\", line 997, in train_step\n        self.optimizer.minimize(loss, self.trainable_variables, tape=tape)\n    File \"c:\\Users\\valen\\AppData\\Local\\Programs\\Python\\Python310\\lib\\site-packages\\keras\\optimizers\\optimizer_v2\\optimizer_v2.py\", line 579, in minimize\n        return self.apply_gradients(grads_and_vars, name=name)\n    File \"c:\\Users\\valen\\AppData\\Local\\Programs\\Python\\Python310\\lib\\site-packages\\keras\\optimizers\\optimizer_v2\\optimizer_v2.py\", line 689, in apply_gradients\n        grads_and_vars = optimizer_utils.filter_empty_gradients(grads_and_vars)\n    File \"c:\\Users\\valen\\AppData\\Local\\Programs\\Python\\Python310\\lib\\site-packages\\keras\\optimizers\\optimizer_v2\\utils.py\", line 77, in filter_empty_gradients\n        raise ValueError(\n\n    ValueError: No gradients provided for any variable: (['conv2d_140/kernel:0', 'conv2d_140/bias:0', 'conv2d_141/kernel:0', 'conv2d_141/bias:0', 'dense_111/kernel:0', 'dense_111/bias:0', 'conv2d_142/kernel:0', 'conv2d_142/bias:0', 'dense_112/kernel:0', 'dense_112/bias:0', 'dense_113/kernel:0', 'dense_113/bias:0', 'conv2d_143/kernel:0', 'conv2d_143/bias:0', 'dense_114/kernel:0', 'dense_114/bias:0', 'dense_115/kernel:0', 'dense_115/bias:0'],). Provided `grads_and_vars` is ((None, <tf.Variable 'conv2d_140/kernel:0' shape=(3, 3, 3, 64) dtype=float32>), (None, <tf.Variable 'conv2d_140/bias:0' shape=(64,) dtype=float32>), (None, <tf.Variable 'conv2d_141/kernel:0' shape=(3, 3, 64, 128) dtype=float32>), (None, <tf.Variable 'conv2d_141/bias:0' shape=(128,) dtype=float32>), (None, <tf.Variable 'dense_111/kernel:0' shape=(100, 64) dtype=float32>), (None, <tf.Variable 'dense_111/bias:0' shape=(64,) dtype=float32>), (None, <tf.Variable 'conv2d_142/kernel:0' shape=(3, 3, 128, 256) dtype=float32>), (None, <tf.Variable 'conv2d_142/bias:0' shape=(256,) dtype=float32>), (None, <tf.Variable 'dense_112/kernel:0' shape=(64, 128) dtype=float32>), (None, <tf.Variable 'dense_112/bias:0' shape=(128,) dtype=float32>), (None, <tf.Variable 'dense_113/kernel:0' shape=(128, 256) dtype=float32>), (None, <tf.Variable 'dense_113/bias:0' shape=(256,) dtype=float32>), (None, <tf.Variable 'conv2d_143/kernel:0' shape=(3, 3, 256, 512) dtype=float32>), (None, <tf.Variable 'conv2d_143/bias:0' shape=(512,) dtype=float32>), (None, <tf.Variable 'dense_114/kernel:0' shape=(256, 256) dtype=float32>), (None, <tf.Variable 'dense_114/bias:0' shape=(256,) dtype=float32>), (None, <tf.Variable 'dense_115/kernel:0' shape=(18688, 1) dtype=float32>), (None, <tf.Variable 'dense_115/bias:0' shape=(1,) dtype=float32>)).\n",
     "output_type": "error",
     "traceback": [
      "\u001b[1;31m---------------------------------------------------------------------------\u001b[0m",
      "\u001b[1;31mValueError\u001b[0m                                Traceback (most recent call last)",
      "\u001b[1;32md:\\GAN_poke\\VAEGAN.ipynb Cell 26\u001b[0m in \u001b[0;36m1\n\u001b[1;32m----> <a href='vscode-notebook-cell:/d%3A/GAN_poke/VAEGAN.ipynb#X61sZmlsZQ%3D%3D?line=0'>1</a>\u001b[0m train_vaegan(vae_model, gan_model, encoder, decoder, train_ds, latent_dim, n_epochs\u001b[39m=\u001b[39;49m\u001b[39m10\u001b[39;49m, n_batch\u001b[39m=\u001b[39;49m\u001b[39m64\u001b[39;49m)\n",
      "\u001b[1;32md:\\GAN_poke\\VAEGAN.ipynb Cell 26\u001b[0m in \u001b[0;36m1\n\u001b[0;32m     <a href='vscode-notebook-cell:/d%3A/GAN_poke/VAEGAN.ipynb#X61sZmlsZQ%3D%3D?line=13'>14</a>\u001b[0m y_real \u001b[39m=\u001b[39m decoder\u001b[39m.\u001b[39mpredict(encoder\u001b[39m.\u001b[39mpredict(x_real, verbose\u001b[39m=\u001b[39m\u001b[39m0\u001b[39m)[\u001b[39m-\u001b[39m\u001b[39m1\u001b[39m], verbose\u001b[39m=\u001b[39m\u001b[39m0\u001b[39m)\n\u001b[0;32m     <a href='vscode-notebook-cell:/d%3A/GAN_poke/VAEGAN.ipynb#X61sZmlsZQ%3D%3D?line=15'>16</a>\u001b[0m \u001b[39m# Train the VAE on the real data\u001b[39;00m\n\u001b[1;32m---> <a href='vscode-notebook-cell:/d%3A/GAN_poke/VAEGAN.ipynb#X61sZmlsZQ%3D%3D?line=16'>17</a>\u001b[0m vae_loss \u001b[39m=\u001b[39m vae_model\u001b[39m.\u001b[39;49mtrain_on_batch(x_real, y_real)\n\u001b[0;32m     <a href='vscode-notebook-cell:/d%3A/GAN_poke/VAEGAN.ipynb#X61sZmlsZQ%3D%3D?line=18'>19</a>\u001b[0m \u001b[39m# Train the GAN on the real data and generated data\u001b[39;00m\n\u001b[0;32m     <a href='vscode-notebook-cell:/d%3A/GAN_poke/VAEGAN.ipynb#X61sZmlsZQ%3D%3D?line=19'>20</a>\u001b[0m z_fake \u001b[39m=\u001b[39m tf\u001b[39m.\u001b[39mrandom\u001b[39m.\u001b[39mnormal((batch_size, latent_dim))\n",
      "File \u001b[1;32mc:\\Users\\valen\\AppData\\Local\\Programs\\Python\\Python310\\lib\\site-packages\\keras\\engine\\training.py:2381\u001b[0m, in \u001b[0;36mModel.train_on_batch\u001b[1;34m(self, x, y, sample_weight, class_weight, reset_metrics, return_dict)\u001b[0m\n\u001b[0;32m   2377\u001b[0m     iterator \u001b[39m=\u001b[39m data_adapter\u001b[39m.\u001b[39msingle_batch_iterator(\n\u001b[0;32m   2378\u001b[0m         \u001b[39mself\u001b[39m\u001b[39m.\u001b[39mdistribute_strategy, x, y, sample_weight, class_weight\n\u001b[0;32m   2379\u001b[0m     )\n\u001b[0;32m   2380\u001b[0m     \u001b[39mself\u001b[39m\u001b[39m.\u001b[39mtrain_function \u001b[39m=\u001b[39m \u001b[39mself\u001b[39m\u001b[39m.\u001b[39mmake_train_function()\n\u001b[1;32m-> 2381\u001b[0m     logs \u001b[39m=\u001b[39m \u001b[39mself\u001b[39;49m\u001b[39m.\u001b[39;49mtrain_function(iterator)\n\u001b[0;32m   2383\u001b[0m logs \u001b[39m=\u001b[39m tf_utils\u001b[39m.\u001b[39msync_to_numpy_or_python_type(logs)\n\u001b[0;32m   2384\u001b[0m \u001b[39mif\u001b[39;00m return_dict:\n",
      "File \u001b[1;32mc:\\Users\\valen\\AppData\\Local\\Programs\\Python\\Python310\\lib\\site-packages\\tensorflow\\python\\util\\traceback_utils.py:153\u001b[0m, in \u001b[0;36mfilter_traceback.<locals>.error_handler\u001b[1;34m(*args, **kwargs)\u001b[0m\n\u001b[0;32m    151\u001b[0m \u001b[39mexcept\u001b[39;00m \u001b[39mException\u001b[39;00m \u001b[39mas\u001b[39;00m e:\n\u001b[0;32m    152\u001b[0m   filtered_tb \u001b[39m=\u001b[39m _process_traceback_frames(e\u001b[39m.\u001b[39m__traceback__)\n\u001b[1;32m--> 153\u001b[0m   \u001b[39mraise\u001b[39;00m e\u001b[39m.\u001b[39mwith_traceback(filtered_tb) \u001b[39mfrom\u001b[39;00m \u001b[39mNone\u001b[39m\n\u001b[0;32m    154\u001b[0m \u001b[39mfinally\u001b[39;00m:\n\u001b[0;32m    155\u001b[0m   \u001b[39mdel\u001b[39;00m filtered_tb\n",
      "File \u001b[1;32m~\\AppData\\Local\\Temp\\__autograph_generated_file8kuhet1z.py:15\u001b[0m, in \u001b[0;36mouter_factory.<locals>.inner_factory.<locals>.tf__train_function\u001b[1;34m(iterator)\u001b[0m\n\u001b[0;32m     13\u001b[0m \u001b[39mtry\u001b[39;00m:\n\u001b[0;32m     14\u001b[0m     do_return \u001b[39m=\u001b[39m \u001b[39mTrue\u001b[39;00m\n\u001b[1;32m---> 15\u001b[0m     retval_ \u001b[39m=\u001b[39m ag__\u001b[39m.\u001b[39mconverted_call(ag__\u001b[39m.\u001b[39mld(step_function), (ag__\u001b[39m.\u001b[39mld(\u001b[39mself\u001b[39m), ag__\u001b[39m.\u001b[39mld(iterator)), \u001b[39mNone\u001b[39;00m, fscope)\n\u001b[0;32m     16\u001b[0m \u001b[39mexcept\u001b[39;00m:\n\u001b[0;32m     17\u001b[0m     do_return \u001b[39m=\u001b[39m \u001b[39mFalse\u001b[39;00m\n",
      "File \u001b[1;32mc:\\Users\\valen\\AppData\\Local\\Programs\\Python\\Python310\\lib\\site-packages\\keras\\engine\\training.py:1146\u001b[0m, in \u001b[0;36mModel.make_train_function.<locals>.step_function\u001b[1;34m(model, iterator)\u001b[0m\n\u001b[0;32m   1142\u001b[0m     run_step \u001b[39m=\u001b[39m tf\u001b[39m.\u001b[39mfunction(\n\u001b[0;32m   1143\u001b[0m         run_step, jit_compile\u001b[39m=\u001b[39m\u001b[39mTrue\u001b[39;00m, reduce_retracing\u001b[39m=\u001b[39m\u001b[39mTrue\u001b[39;00m\n\u001b[0;32m   1144\u001b[0m     )\n\u001b[0;32m   1145\u001b[0m data \u001b[39m=\u001b[39m \u001b[39mnext\u001b[39m(iterator)\n\u001b[1;32m-> 1146\u001b[0m outputs \u001b[39m=\u001b[39m model\u001b[39m.\u001b[39;49mdistribute_strategy\u001b[39m.\u001b[39;49mrun(run_step, args\u001b[39m=\u001b[39;49m(data,))\n\u001b[0;32m   1147\u001b[0m outputs \u001b[39m=\u001b[39m reduce_per_replica(\n\u001b[0;32m   1148\u001b[0m     outputs, \u001b[39mself\u001b[39m\u001b[39m.\u001b[39mdistribute_strategy, reduction\u001b[39m=\u001b[39m\u001b[39m\"\u001b[39m\u001b[39mfirst\u001b[39m\u001b[39m\"\u001b[39m\n\u001b[0;32m   1149\u001b[0m )\n\u001b[0;32m   1150\u001b[0m \u001b[39mreturn\u001b[39;00m outputs\n",
      "File \u001b[1;32mc:\\Users\\valen\\AppData\\Local\\Programs\\Python\\Python310\\lib\\site-packages\\keras\\engine\\training.py:1135\u001b[0m, in \u001b[0;36mModel.make_train_function.<locals>.step_function.<locals>.run_step\u001b[1;34m(data)\u001b[0m\n\u001b[0;32m   1134\u001b[0m \u001b[39mdef\u001b[39;00m \u001b[39mrun_step\u001b[39m(data):\n\u001b[1;32m-> 1135\u001b[0m     outputs \u001b[39m=\u001b[39m model\u001b[39m.\u001b[39;49mtrain_step(data)\n\u001b[0;32m   1136\u001b[0m     \u001b[39m# Ensure counter is updated only if `train_step` succeeds.\u001b[39;00m\n\u001b[0;32m   1137\u001b[0m     \u001b[39mwith\u001b[39;00m tf\u001b[39m.\u001b[39mcontrol_dependencies(_minimum_control_deps(outputs)):\n",
      "File \u001b[1;32mc:\\Users\\valen\\AppData\\Local\\Programs\\Python\\Python310\\lib\\site-packages\\keras\\engine\\training.py:997\u001b[0m, in \u001b[0;36mModel.train_step\u001b[1;34m(self, data)\u001b[0m\n\u001b[0;32m    995\u001b[0m \u001b[39mself\u001b[39m\u001b[39m.\u001b[39m_validate_target_and_loss(y, loss)\n\u001b[0;32m    996\u001b[0m \u001b[39m# Run backwards pass.\u001b[39;00m\n\u001b[1;32m--> 997\u001b[0m \u001b[39mself\u001b[39;49m\u001b[39m.\u001b[39;49moptimizer\u001b[39m.\u001b[39;49mminimize(loss, \u001b[39mself\u001b[39;49m\u001b[39m.\u001b[39;49mtrainable_variables, tape\u001b[39m=\u001b[39;49mtape)\n\u001b[0;32m    998\u001b[0m \u001b[39mreturn\u001b[39;00m \u001b[39mself\u001b[39m\u001b[39m.\u001b[39mcompute_metrics(x, y, y_pred, sample_weight)\n",
      "File \u001b[1;32mc:\\Users\\valen\\AppData\\Local\\Programs\\Python\\Python310\\lib\\site-packages\\keras\\optimizers\\optimizer_v2\\optimizer_v2.py:579\u001b[0m, in \u001b[0;36mOptimizerV2.minimize\u001b[1;34m(self, loss, var_list, grad_loss, name, tape)\u001b[0m\n\u001b[0;32m    546\u001b[0m \u001b[39m\"\"\"Minimize `loss` by updating `var_list`.\u001b[39;00m\n\u001b[0;32m    547\u001b[0m \n\u001b[0;32m    548\u001b[0m \u001b[39mThis method simply computes gradient using `tf.GradientTape` and calls\u001b[39;00m\n\u001b[1;32m   (...)\u001b[0m\n\u001b[0;32m    574\u001b[0m \n\u001b[0;32m    575\u001b[0m \u001b[39m\"\"\"\u001b[39;00m\n\u001b[0;32m    576\u001b[0m grads_and_vars \u001b[39m=\u001b[39m \u001b[39mself\u001b[39m\u001b[39m.\u001b[39m_compute_gradients(\n\u001b[0;32m    577\u001b[0m     loss, var_list\u001b[39m=\u001b[39mvar_list, grad_loss\u001b[39m=\u001b[39mgrad_loss, tape\u001b[39m=\u001b[39mtape\n\u001b[0;32m    578\u001b[0m )\n\u001b[1;32m--> 579\u001b[0m \u001b[39mreturn\u001b[39;00m \u001b[39mself\u001b[39;49m\u001b[39m.\u001b[39;49mapply_gradients(grads_and_vars, name\u001b[39m=\u001b[39;49mname)\n",
      "File \u001b[1;32mc:\\Users\\valen\\AppData\\Local\\Programs\\Python\\Python310\\lib\\site-packages\\keras\\optimizers\\optimizer_v2\\optimizer_v2.py:689\u001b[0m, in \u001b[0;36mOptimizerV2.apply_gradients\u001b[1;34m(self, grads_and_vars, name, experimental_aggregate_gradients)\u001b[0m\n\u001b[0;32m    648\u001b[0m \u001b[39mdef\u001b[39;00m \u001b[39mapply_gradients\u001b[39m(\n\u001b[0;32m    649\u001b[0m     \u001b[39mself\u001b[39m, grads_and_vars, name\u001b[39m=\u001b[39m\u001b[39mNone\u001b[39;00m, experimental_aggregate_gradients\u001b[39m=\u001b[39m\u001b[39mTrue\u001b[39;00m\n\u001b[0;32m    650\u001b[0m ):\n\u001b[0;32m    651\u001b[0m     \u001b[39m\"\"\"Apply gradients to variables.\u001b[39;00m\n\u001b[0;32m    652\u001b[0m \n\u001b[0;32m    653\u001b[0m \u001b[39m    This is the second part of `minimize()`. It returns an `Operation` that\u001b[39;00m\n\u001b[1;32m   (...)\u001b[0m\n\u001b[0;32m    687\u001b[0m \u001b[39m      RuntimeError: If called in a cross-replica context.\u001b[39;00m\n\u001b[0;32m    688\u001b[0m \u001b[39m    \"\"\"\u001b[39;00m\n\u001b[1;32m--> 689\u001b[0m     grads_and_vars \u001b[39m=\u001b[39m optimizer_utils\u001b[39m.\u001b[39;49mfilter_empty_gradients(grads_and_vars)\n\u001b[0;32m    690\u001b[0m     var_list \u001b[39m=\u001b[39m [v \u001b[39mfor\u001b[39;00m (_, v) \u001b[39min\u001b[39;00m grads_and_vars]\n\u001b[0;32m    692\u001b[0m     \u001b[39mwith\u001b[39;00m tf\u001b[39m.\u001b[39mname_scope(\u001b[39mself\u001b[39m\u001b[39m.\u001b[39m_name):\n\u001b[0;32m    693\u001b[0m         \u001b[39m# Create iteration if necessary.\u001b[39;00m\n",
      "File \u001b[1;32mc:\\Users\\valen\\AppData\\Local\\Programs\\Python\\Python310\\lib\\site-packages\\keras\\optimizers\\optimizer_v2\\utils.py:77\u001b[0m, in \u001b[0;36mfilter_empty_gradients\u001b[1;34m(grads_and_vars)\u001b[0m\n\u001b[0;32m     75\u001b[0m \u001b[39mif\u001b[39;00m \u001b[39mnot\u001b[39;00m filtered:\n\u001b[0;32m     76\u001b[0m     variable \u001b[39m=\u001b[39m ([v\u001b[39m.\u001b[39mname \u001b[39mfor\u001b[39;00m _, v \u001b[39min\u001b[39;00m grads_and_vars],)\n\u001b[1;32m---> 77\u001b[0m     \u001b[39mraise\u001b[39;00m \u001b[39mValueError\u001b[39;00m(\n\u001b[0;32m     78\u001b[0m         \u001b[39mf\u001b[39m\u001b[39m\"\u001b[39m\u001b[39mNo gradients provided for any variable: \u001b[39m\u001b[39m{\u001b[39;00mvariable\u001b[39m}\u001b[39;00m\u001b[39m. \u001b[39m\u001b[39m\"\u001b[39m\n\u001b[0;32m     79\u001b[0m         \u001b[39mf\u001b[39m\u001b[39m\"\u001b[39m\u001b[39mProvided `grads_and_vars` is \u001b[39m\u001b[39m{\u001b[39;00mgrads_and_vars\u001b[39m}\u001b[39;00m\u001b[39m.\u001b[39m\u001b[39m\"\u001b[39m\n\u001b[0;32m     80\u001b[0m     )\n\u001b[0;32m     81\u001b[0m \u001b[39mif\u001b[39;00m vars_with_empty_grads:\n\u001b[0;32m     82\u001b[0m     logging\u001b[39m.\u001b[39mwarning(\n\u001b[0;32m     83\u001b[0m         (\n\u001b[0;32m     84\u001b[0m             \u001b[39m\"\u001b[39m\u001b[39mGradients do not exist for variables \u001b[39m\u001b[39m%s\u001b[39;00m\u001b[39m when minimizing the \u001b[39m\u001b[39m\"\u001b[39m\n\u001b[1;32m   (...)\u001b[0m\n\u001b[0;32m     88\u001b[0m         ([v\u001b[39m.\u001b[39mname \u001b[39mfor\u001b[39;00m v \u001b[39min\u001b[39;00m vars_with_empty_grads]),\n\u001b[0;32m     89\u001b[0m     )\n",
      "\u001b[1;31mValueError\u001b[0m: in user code:\n\n    File \"c:\\Users\\valen\\AppData\\Local\\Programs\\Python\\Python310\\lib\\site-packages\\keras\\engine\\training.py\", line 1160, in train_function  *\n        return step_function(self, iterator)\n    File \"c:\\Users\\valen\\AppData\\Local\\Programs\\Python\\Python310\\lib\\site-packages\\keras\\engine\\training.py\", line 1146, in step_function  **\n        outputs = model.distribute_strategy.run(run_step, args=(data,))\n    File \"c:\\Users\\valen\\AppData\\Local\\Programs\\Python\\Python310\\lib\\site-packages\\keras\\engine\\training.py\", line 1135, in run_step  **\n        outputs = model.train_step(data)\n    File \"c:\\Users\\valen\\AppData\\Local\\Programs\\Python\\Python310\\lib\\site-packages\\keras\\engine\\training.py\", line 997, in train_step\n        self.optimizer.minimize(loss, self.trainable_variables, tape=tape)\n    File \"c:\\Users\\valen\\AppData\\Local\\Programs\\Python\\Python310\\lib\\site-packages\\keras\\optimizers\\optimizer_v2\\optimizer_v2.py\", line 579, in minimize\n        return self.apply_gradients(grads_and_vars, name=name)\n    File \"c:\\Users\\valen\\AppData\\Local\\Programs\\Python\\Python310\\lib\\site-packages\\keras\\optimizers\\optimizer_v2\\optimizer_v2.py\", line 689, in apply_gradients\n        grads_and_vars = optimizer_utils.filter_empty_gradients(grads_and_vars)\n    File \"c:\\Users\\valen\\AppData\\Local\\Programs\\Python\\Python310\\lib\\site-packages\\keras\\optimizers\\optimizer_v2\\utils.py\", line 77, in filter_empty_gradients\n        raise ValueError(\n\n    ValueError: No gradients provided for any variable: (['conv2d_140/kernel:0', 'conv2d_140/bias:0', 'conv2d_141/kernel:0', 'conv2d_141/bias:0', 'dense_111/kernel:0', 'dense_111/bias:0', 'conv2d_142/kernel:0', 'conv2d_142/bias:0', 'dense_112/kernel:0', 'dense_112/bias:0', 'dense_113/kernel:0', 'dense_113/bias:0', 'conv2d_143/kernel:0', 'conv2d_143/bias:0', 'dense_114/kernel:0', 'dense_114/bias:0', 'dense_115/kernel:0', 'dense_115/bias:0'],). Provided `grads_and_vars` is ((None, <tf.Variable 'conv2d_140/kernel:0' shape=(3, 3, 3, 64) dtype=float32>), (None, <tf.Variable 'conv2d_140/bias:0' shape=(64,) dtype=float32>), (None, <tf.Variable 'conv2d_141/kernel:0' shape=(3, 3, 64, 128) dtype=float32>), (None, <tf.Variable 'conv2d_141/bias:0' shape=(128,) dtype=float32>), (None, <tf.Variable 'dense_111/kernel:0' shape=(100, 64) dtype=float32>), (None, <tf.Variable 'dense_111/bias:0' shape=(64,) dtype=float32>), (None, <tf.Variable 'conv2d_142/kernel:0' shape=(3, 3, 128, 256) dtype=float32>), (None, <tf.Variable 'conv2d_142/bias:0' shape=(256,) dtype=float32>), (None, <tf.Variable 'dense_112/kernel:0' shape=(64, 128) dtype=float32>), (None, <tf.Variable 'dense_112/bias:0' shape=(128,) dtype=float32>), (None, <tf.Variable 'dense_113/kernel:0' shape=(128, 256) dtype=float32>), (None, <tf.Variable 'dense_113/bias:0' shape=(256,) dtype=float32>), (None, <tf.Variable 'conv2d_143/kernel:0' shape=(3, 3, 256, 512) dtype=float32>), (None, <tf.Variable 'conv2d_143/bias:0' shape=(512,) dtype=float32>), (None, <tf.Variable 'dense_114/kernel:0' shape=(256, 256) dtype=float32>), (None, <tf.Variable 'dense_114/bias:0' shape=(256,) dtype=float32>), (None, <tf.Variable 'dense_115/kernel:0' shape=(18688, 1) dtype=float32>), (None, <tf.Variable 'dense_115/bias:0' shape=(1,) dtype=float32>)).\n"
     ]
    }
   ],
   "source": [
    "train_vaegan(vae_model, gan_model, encoder, decoder, train_ds, latent_dim, n_epochs=10, n_batch=64)"
   ]
  },
  {
   "cell_type": "code",
   "execution_count": 25,
   "metadata": {},
   "outputs": [],
   "source": [
    "def train(g_model, d_model, encoder, gan_model, dataset, latent_dim, n_epochs=10, n_batch=64, resume_training=0):\n",
    "    bat_per_epo = int(dataset.cardinality())\n",
    "    # manually enumerate epochs\n",
    "    for i in range(n_epochs):\n",
    "        # enumerate batches over the training set\n",
    "        for j, batch in enumerate(dataset):\n",
    "            # get randomly selected 'real' samples\n",
    "            X_real, y_real_class = batch[0], batch[1][:, 0]\n",
    "            half_batch = int(X_real.shape[0])\n",
    "            encoded_real = encoder.predict(X_real, verbose=0)\n",
    "            X_real_decoded = g_model.predict(encoded_real, verbose=0)\n",
    "            # generate 'fake' examples\n",
    "            X_fake, y_fake_class, noise_input = generate_fake_samples(g_model, latent_dim, half_batch)\n",
    "            # create training set for the discriminator\n",
    "            y_real_class = tf.reshape(y_real_class, (half_batch, 1))\n",
    "            X, encoded, y_class = tf.concat([X_real_decoded, X_fake], axis=0), tf.concat([encoded_real, noise_input], axis=0), tf.concat([y_real_class, y_fake_class], axis=0)\n",
    "            # update discriminator model weights\n",
    "            # print(X, encoded, y_class)\n",
    "            d_loss, _ = d_model.train_on_batch([X, encoded], y_class)\n",
    "            # prepare points in latent space as input for the generator\n",
    "            X_gan = tf.random.normal((n_batch, 96, 96, 3))\n",
    "            y_gan_class = tf.ones((n_batch, 1))\n",
    "            g_loss = gan_model.train_on_batch(X_gan, y_gan_class)\n",
    "            # summarize loss on this batch\n",
    "            if j % 10 == 0:\n",
    "                print('>%d, %d/%d, d=%.3f, g=%.3f' % (i+resume_training+1, j+1, bat_per_epo, d_loss, g_loss))\n",
    "        # evaluate the model performance, sometimes\n",
    "        if (i+resume_training) % 2 == 0:\n",
    "            summarize_performance(i+resume_training, g_model, d_model, encoder, dataset, latent_dim)\n",
    "            pass\n",
    "    # save the generator model\n",
    "    g_model.save('vaegenerator_model_96_final.h5')\n"
   ]
  },
  {
   "cell_type": "code",
   "execution_count": 26,
   "metadata": {},
   "outputs": [
    {
     "data": {
      "image/png": "[encoded data removed]",
      "text/plain": [
       "<IPython.core.display.Image object>"
      ]
     },
     "execution_count": 26,
     "metadata": {},
     "output_type": "execute_result"
    }
   ],
   "source": [
    "generator, discriminator, gan_model, encoder = build_vaegan(input_shape, latent_dim=100)\n",
    "dot_img_file = '/VAEGAN.png'\n",
    "tf.keras.utils.plot_model(gan_model, to_file=dot_img_file, show_shapes=True)"
   ]
  },
  {
   "cell_type": "code",
   "execution_count": 27,
   "metadata": {},
   "outputs": [
    {
     "name": "stdout",
     "output_type": "stream",
     "text": [
      ">1, 1/433, d=0.685, g=0.725\n",
      ">1, 11/433, d=0.659, g=0.796\n",
      ">1, 21/433, d=0.624, g=0.861\n",
      ">1, 31/433, d=0.601, g=0.943\n",
      ">1, 41/433, d=0.540, g=0.927\n",
      ">1, 51/433, d=0.444, g=0.982\n",
      ">1, 61/433, d=0.363, g=1.154\n",
      ">1, 71/433, d=0.268, g=1.352\n",
      ">1, 81/433, d=0.170, g=1.394\n",
      ">1, 91/433, d=0.129, g=1.510\n",
      ">1, 101/433, d=0.087, g=1.634\n",
      ">1, 111/433, d=0.078, g=1.590\n",
      ">1, 121/433, d=0.047, g=1.216\n",
      ">1, 131/433, d=0.039, g=1.438\n",
      ">1, 141/433, d=0.026, g=1.009\n",
      ">1, 151/433, d=0.023, g=1.066\n",
      ">1, 161/433, d=0.028, g=0.976\n",
      ">1, 171/433, d=0.016, g=0.603\n",
      ">1, 181/433, d=0.023, g=0.641\n",
      ">1, 191/433, d=0.014, g=0.639\n",
      ">1, 201/433, d=0.009, g=0.817\n",
      ">1, 211/433, d=0.007, g=0.822\n",
      ">1, 221/433, d=0.010, g=0.506\n",
      ">1, 231/433, d=0.005, g=0.544\n",
      ">1, 241/433, d=0.004, g=0.488\n",
      ">1, 251/433, d=0.004, g=0.340\n",
      ">1, 261/433, d=0.005, g=0.239\n",
      ">1, 271/433, d=0.008, g=0.312\n",
      ">1, 281/433, d=0.011, g=0.339\n",
      ">1, 291/433, d=0.003, g=0.320\n",
      ">1, 301/433, d=0.003, g=0.161\n",
      ">1, 311/433, d=0.001, g=0.203\n",
      ">1, 321/433, d=0.002, g=0.128\n",
      ">1, 331/433, d=0.002, g=0.217\n",
      ">1, 341/433, d=0.003, g=0.109\n",
      ">1, 351/433, d=0.002, g=0.142\n",
      ">1, 361/433, d=0.002, g=0.202\n",
      ">1, 371/433, d=0.002, g=0.109\n",
      ">1, 381/433, d=0.005, g=0.173\n",
      ">1, 391/433, d=0.002, g=0.101\n",
      ">1, 401/433, d=0.002, g=0.069\n",
      ">1, 411/433, d=0.004, g=0.079\n",
      ">1, 421/433, d=0.001, g=0.064\n",
      ">1, 431/433, d=0.002, g=0.106\n",
      ">Accuracy real: 100%, fake: 100%\n",
      "WARNING:tensorflow:Compiled the loaded model, but the compiled metrics have yet to be built. `model.compile_metrics` will be empty until you train or evaluate the model.\n",
      ">2, 1/433, d=0.002, g=0.082\n",
      ">2, 11/433, d=0.002, g=0.048\n",
      ">2, 21/433, d=0.003, g=0.035\n",
      ">2, 31/433, d=0.002, g=0.027\n",
      ">2, 41/433, d=0.002, g=0.129\n",
      ">2, 51/433, d=0.001, g=0.119\n"
     ]
    },
    {
     "ename": "KeyboardInterrupt",
     "evalue": "",
     "output_type": "error",
     "traceback": [
      "\u001b[1;31m---------------------------------------------------------------------------\u001b[0m",
      "\u001b[1;31mKeyboardInterrupt\u001b[0m                         Traceback (most recent call last)",
      "\u001b[1;32md:\\GAN_poke\\VAEGAN.ipynb Cell 20\u001b[0m in \u001b[0;36m4\n\u001b[0;32m      <a href='vscode-notebook-cell:/d%3A/GAN_poke/VAEGAN.ipynb#X25sZmlsZQ%3D%3D?line=1'>2</a>\u001b[0m latent_dim \u001b[39m=\u001b[39m \u001b[39m100\u001b[39m\n\u001b[0;32m      <a href='vscode-notebook-cell:/d%3A/GAN_poke/VAEGAN.ipynb#X25sZmlsZQ%3D%3D?line=2'>3</a>\u001b[0m \u001b[39m# train model\u001b[39;00m\n\u001b[1;32m----> <a href='vscode-notebook-cell:/d%3A/GAN_poke/VAEGAN.ipynb#X25sZmlsZQ%3D%3D?line=3'>4</a>\u001b[0m train(generator, discriminator, encoder, gan_model, train_ds, latent_dim, n_epochs\u001b[39m=\u001b[39;49m\u001b[39m11\u001b[39;49m, resume_training\u001b[39m=\u001b[39;49m\u001b[39m0\u001b[39;49m)\n",
      "\u001b[1;32md:\\GAN_poke\\VAEGAN.ipynb Cell 20\u001b[0m in \u001b[0;36m2\n\u001b[0;32m     <a href='vscode-notebook-cell:/d%3A/GAN_poke/VAEGAN.ipynb#X25sZmlsZQ%3D%3D?line=20'>21</a>\u001b[0m X_gan \u001b[39m=\u001b[39m tf\u001b[39m.\u001b[39mrandom\u001b[39m.\u001b[39mnormal((n_batch, \u001b[39m96\u001b[39m, \u001b[39m96\u001b[39m, \u001b[39m3\u001b[39m))\n\u001b[0;32m     <a href='vscode-notebook-cell:/d%3A/GAN_poke/VAEGAN.ipynb#X25sZmlsZQ%3D%3D?line=21'>22</a>\u001b[0m y_gan_class \u001b[39m=\u001b[39m tf\u001b[39m.\u001b[39mones((n_batch, \u001b[39m1\u001b[39m))\n\u001b[1;32m---> <a href='vscode-notebook-cell:/d%3A/GAN_poke/VAEGAN.ipynb#X25sZmlsZQ%3D%3D?line=22'>23</a>\u001b[0m g_loss \u001b[39m=\u001b[39m gan_model\u001b[39m.\u001b[39;49mtrain_on_batch(X_gan, y_gan_class)\n\u001b[0;32m     <a href='vscode-notebook-cell:/d%3A/GAN_poke/VAEGAN.ipynb#X25sZmlsZQ%3D%3D?line=23'>24</a>\u001b[0m \u001b[39m# summarize loss on this batch\u001b[39;00m\n\u001b[0;32m     <a href='vscode-notebook-cell:/d%3A/GAN_poke/VAEGAN.ipynb#X25sZmlsZQ%3D%3D?line=24'>25</a>\u001b[0m \u001b[39mif\u001b[39;00m j \u001b[39m%\u001b[39m \u001b[39m10\u001b[39m \u001b[39m==\u001b[39m \u001b[39m0\u001b[39m:\n",
      "File \u001b[1;32mc:\\Users\\valen\\AppData\\Local\\Programs\\Python\\Python310\\lib\\site-packages\\keras\\engine\\training.py:2383\u001b[0m, in \u001b[0;36mModel.train_on_batch\u001b[1;34m(self, x, y, sample_weight, class_weight, reset_metrics, return_dict)\u001b[0m\n\u001b[0;32m   2380\u001b[0m     \u001b[39mself\u001b[39m\u001b[39m.\u001b[39mtrain_function \u001b[39m=\u001b[39m \u001b[39mself\u001b[39m\u001b[39m.\u001b[39mmake_train_function()\n\u001b[0;32m   2381\u001b[0m     logs \u001b[39m=\u001b[39m \u001b[39mself\u001b[39m\u001b[39m.\u001b[39mtrain_function(iterator)\n\u001b[1;32m-> 2383\u001b[0m logs \u001b[39m=\u001b[39m tf_utils\u001b[39m.\u001b[39;49msync_to_numpy_or_python_type(logs)\n\u001b[0;32m   2384\u001b[0m \u001b[39mif\u001b[39;00m return_dict:\n\u001b[0;32m   2385\u001b[0m     \u001b[39mreturn\u001b[39;00m logs\n",
      "File \u001b[1;32mc:\\Users\\valen\\AppData\\Local\\Programs\\Python\\Python310\\lib\\site-packages\\keras\\utils\\tf_utils.py:635\u001b[0m, in \u001b[0;36msync_to_numpy_or_python_type\u001b[1;34m(tensors)\u001b[0m\n\u001b[0;32m    632\u001b[0m         \u001b[39mreturn\u001b[39;00m t\n\u001b[0;32m    633\u001b[0m     \u001b[39mreturn\u001b[39;00m t\u001b[39m.\u001b[39mitem() \u001b[39mif\u001b[39;00m np\u001b[39m.\u001b[39mndim(t) \u001b[39m==\u001b[39m \u001b[39m0\u001b[39m \u001b[39melse\u001b[39;00m t\n\u001b[1;32m--> 635\u001b[0m \u001b[39mreturn\u001b[39;00m tf\u001b[39m.\u001b[39;49mnest\u001b[39m.\u001b[39;49mmap_structure(_to_single_numpy_or_python_type, tensors)\n",
      "File \u001b[1;32mc:\\Users\\valen\\AppData\\Local\\Programs\\Python\\Python310\\lib\\site-packages\\tensorflow\\python\\util\\nest.py:917\u001b[0m, in \u001b[0;36mmap_structure\u001b[1;34m(func, *structure, **kwargs)\u001b[0m\n\u001b[0;32m    913\u001b[0m flat_structure \u001b[39m=\u001b[39m (flatten(s, expand_composites) \u001b[39mfor\u001b[39;00m s \u001b[39min\u001b[39;00m structure)\n\u001b[0;32m    914\u001b[0m entries \u001b[39m=\u001b[39m \u001b[39mzip\u001b[39m(\u001b[39m*\u001b[39mflat_structure)\n\u001b[0;32m    916\u001b[0m \u001b[39mreturn\u001b[39;00m pack_sequence_as(\n\u001b[1;32m--> 917\u001b[0m     structure[\u001b[39m0\u001b[39m], [func(\u001b[39m*\u001b[39mx) \u001b[39mfor\u001b[39;00m x \u001b[39min\u001b[39;00m entries],\n\u001b[0;32m    918\u001b[0m     expand_composites\u001b[39m=\u001b[39mexpand_composites)\n",
      "File \u001b[1;32mc:\\Users\\valen\\AppData\\Local\\Programs\\Python\\Python310\\lib\\site-packages\\tensorflow\\python\\util\\nest.py:917\u001b[0m, in \u001b[0;36m<listcomp>\u001b[1;34m(.0)\u001b[0m\n\u001b[0;32m    913\u001b[0m flat_structure \u001b[39m=\u001b[39m (flatten(s, expand_composites) \u001b[39mfor\u001b[39;00m s \u001b[39min\u001b[39;00m structure)\n\u001b[0;32m    914\u001b[0m entries \u001b[39m=\u001b[39m \u001b[39mzip\u001b[39m(\u001b[39m*\u001b[39mflat_structure)\n\u001b[0;32m    916\u001b[0m \u001b[39mreturn\u001b[39;00m pack_sequence_as(\n\u001b[1;32m--> 917\u001b[0m     structure[\u001b[39m0\u001b[39m], [func(\u001b[39m*\u001b[39;49mx) \u001b[39mfor\u001b[39;00m x \u001b[39min\u001b[39;00m entries],\n\u001b[0;32m    918\u001b[0m     expand_composites\u001b[39m=\u001b[39mexpand_composites)\n",
      "File \u001b[1;32mc:\\Users\\valen\\AppData\\Local\\Programs\\Python\\Python310\\lib\\site-packages\\keras\\utils\\tf_utils.py:628\u001b[0m, in \u001b[0;36msync_to_numpy_or_python_type.<locals>._to_single_numpy_or_python_type\u001b[1;34m(t)\u001b[0m\n\u001b[0;32m    625\u001b[0m \u001b[39mdef\u001b[39;00m \u001b[39m_to_single_numpy_or_python_type\u001b[39m(t):\n\u001b[0;32m    626\u001b[0m     \u001b[39m# Don't turn ragged or sparse tensors to NumPy.\u001b[39;00m\n\u001b[0;32m    627\u001b[0m     \u001b[39mif\u001b[39;00m \u001b[39misinstance\u001b[39m(t, tf\u001b[39m.\u001b[39mTensor):\n\u001b[1;32m--> 628\u001b[0m         t \u001b[39m=\u001b[39m t\u001b[39m.\u001b[39;49mnumpy()\n\u001b[0;32m    629\u001b[0m     \u001b[39m# Strings, ragged and sparse tensors don't have .item(). Return them\u001b[39;00m\n\u001b[0;32m    630\u001b[0m     \u001b[39m# as-is.\u001b[39;00m\n\u001b[0;32m    631\u001b[0m     \u001b[39mif\u001b[39;00m \u001b[39mnot\u001b[39;00m \u001b[39misinstance\u001b[39m(t, (np\u001b[39m.\u001b[39mndarray, np\u001b[39m.\u001b[39mgeneric)):\n",
      "File \u001b[1;32mc:\\Users\\valen\\AppData\\Local\\Programs\\Python\\Python310\\lib\\site-packages\\tensorflow\\python\\framework\\ops.py:1157\u001b[0m, in \u001b[0;36m_EagerTensorBase.numpy\u001b[1;34m(self)\u001b[0m\n\u001b[0;32m   1134\u001b[0m \u001b[39m\"\"\"Copy of the contents of this Tensor into a NumPy array or scalar.\u001b[39;00m\n\u001b[0;32m   1135\u001b[0m \n\u001b[0;32m   1136\u001b[0m \u001b[39mUnlike NumPy arrays, Tensors are immutable, so this method has to copy\u001b[39;00m\n\u001b[1;32m   (...)\u001b[0m\n\u001b[0;32m   1154\u001b[0m \u001b[39m    NumPy dtype.\u001b[39;00m\n\u001b[0;32m   1155\u001b[0m \u001b[39m\"\"\"\u001b[39;00m\n\u001b[0;32m   1156\u001b[0m \u001b[39m# TODO(slebedev): Consider avoiding a copy for non-CPU or remote tensors.\u001b[39;00m\n\u001b[1;32m-> 1157\u001b[0m maybe_arr \u001b[39m=\u001b[39m \u001b[39mself\u001b[39;49m\u001b[39m.\u001b[39;49m_numpy()  \u001b[39m# pylint: disable=protected-access\u001b[39;00m\n\u001b[0;32m   1158\u001b[0m \u001b[39mreturn\u001b[39;00m maybe_arr\u001b[39m.\u001b[39mcopy() \u001b[39mif\u001b[39;00m \u001b[39misinstance\u001b[39m(maybe_arr, np\u001b[39m.\u001b[39mndarray) \u001b[39melse\u001b[39;00m maybe_arr\n",
      "File \u001b[1;32mc:\\Users\\valen\\AppData\\Local\\Programs\\Python\\Python310\\lib\\site-packages\\tensorflow\\python\\framework\\ops.py:1123\u001b[0m, in \u001b[0;36m_EagerTensorBase._numpy\u001b[1;34m(self)\u001b[0m\n\u001b[0;32m   1121\u001b[0m \u001b[39mdef\u001b[39;00m \u001b[39m_numpy\u001b[39m(\u001b[39mself\u001b[39m):\n\u001b[0;32m   1122\u001b[0m   \u001b[39mtry\u001b[39;00m:\n\u001b[1;32m-> 1123\u001b[0m     \u001b[39mreturn\u001b[39;00m \u001b[39mself\u001b[39;49m\u001b[39m.\u001b[39;49m_numpy_internal()\n\u001b[0;32m   1124\u001b[0m   \u001b[39mexcept\u001b[39;00m core\u001b[39m.\u001b[39m_NotOkStatusException \u001b[39mas\u001b[39;00m e:  \u001b[39m# pylint: disable=protected-access\u001b[39;00m\n\u001b[0;32m   1125\u001b[0m     \u001b[39mraise\u001b[39;00m core\u001b[39m.\u001b[39m_status_to_exception(e) \u001b[39mfrom\u001b[39;00m \u001b[39mNone\u001b[39m\n",
      "\u001b[1;31mKeyboardInterrupt\u001b[0m: "
     ]
    }
   ],
   "source": [
    "# size of the latent space\n",
    "latent_dim = 100\n",
    "# train model\n",
    "train(generator, discriminator, encoder, gan_model, train_ds, latent_dim, n_epochs=11, resume_training=0)"
   ]
  },
  {
   "attachments": {},
   "cell_type": "markdown",
   "metadata": {},
   "source": [
    "test"
   ]
  },
  {
   "cell_type": "code",
   "execution_count": 17,
   "metadata": {},
   "outputs": [
    {
     "name": "stdout",
     "output_type": "stream",
     "text": [
      "WARNING:tensorflow:No training configuration found in the save file, so the model was *not* compiled. Compile it manually.\n",
      "WARNING:tensorflow:Error in loading the saved optimizer state. As a result, your model is starting with a freshly initialized optimizer.\n"
     ]
    }
   ],
   "source": [
    "generator = tf.keras.models.load_model('cgenerator_model_64_e131.h5')\n",
    "discriminator = tf.keras.models.load_model('cdiscriminator_model_64.h5')"
   ]
  },
  {
   "cell_type": "code",
   "execution_count": 492,
   "metadata": {},
   "outputs": [
    {
     "data": {
      "application/vnd.plotly.v1+json": {
       "config": {
        "plotlyServerURL": "https://plot.ly"
       },
       "data": [
        {
         "hovertemplate": "x: %{x}<br>y: %{y}<extra></extra>",
         "name": "0",
         "source": "data:image/png;base64,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",
         "type": "image",
         "xaxis": "x",
         "yaxis": "y"
        }
       ],
       "layout": {
        "annotations": [
         {
          "align": "left",
          "bgcolor": "#ff7f0e",
          "bordercolor": "#c7c7c7",
          "borderpad": 2,
          "borderwidth": 1,
          "font": {
           "color": "#ffffff",
           "family": "Courier New, monospace",
           "size": 12
          },
          "opacity": 0.8,
          "showarrow": false,
          "text": "real: 0%",
          "x": 1,
          "xref": "paper",
          "y": 1,
          "yref": "paper"
         }
        ],
        "height": 350,
        "images": [
         {
          "layer": "below",
          "sizex": 0.3,
          "sizey": 0.3,
          "source": "images/final/real/1.png",
          "x": 1,
          "xref": "paper",
          "y": 1.1,
          "yref": "paper"
         }
        ],
        "margin": {
         "l": 0,
         "t": 60
        },
        "shapes": [
         {
          "line": {
           "color": "black",
           "width": 2
          },
          "type": "rect",
          "x0": 0,
          "x1": 96,
          "xref": "x",
          "y0": 0,
          "y1": 96,
          "yref": "y"
         }
        ],
        "template": {
         "data": {
          "bar": [
           {
            "error_x": {
             "color": "#2a3f5f"
            },
            "error_y": {
             "color": "#2a3f5f"
            },
            "marker": {
             "line": {
              "color": "#E5ECF6",
              "width": 0.5
             },
             "pattern": {
              "fillmode": "overlay",
              "size": 10,
              "solidity": 0.2
             }
            },
            "type": "bar"
           }
          ],
          "barpolar": [
           {
            "marker": {
             "line": {
              "color": "#E5ECF6",
              "width": 0.5
             },
             "pattern": {
              "fillmode": "overlay",
              "size": 10,
              "solidity": 0.2
             }
            },
            "type": "barpolar"
           }
          ],
          "carpet": [
           {
            "aaxis": {
             "endlinecolor": "#2a3f5f",
             "gridcolor": "white",
             "linecolor": "white",
             "minorgridcolor": "white",
             "startlinecolor": "#2a3f5f"
            },
            "baxis": {
             "endlinecolor": "#2a3f5f",
             "gridcolor": "white",
             "linecolor": "white",
             "minorgridcolor": "white",
             "startlinecolor": "#2a3f5f"
            },
            "type": "carpet"
           }
          ],
          "choropleth": [
           {
            "colorbar": {
             "outlinewidth": 0,
             "ticks": ""
            },
            "type": "choropleth"
           }
          ],
          "contour": [
           {
            "colorbar": {
             "outlinewidth": 0,
             "ticks": ""
            },
            "colorscale": [
             [
              0,
              "#0d0887"
             ],
             [
              0.1111111111111111,
              "#46039f"
             ],
             [
              0.2222222222222222,
              "#7201a8"
             ],
             [
              0.3333333333333333,
              "#9c179e"
             ],
             [
              0.4444444444444444,
              "#bd3786"
             ],
             [
              0.5555555555555556,
              "#d8576b"
             ],
             [
              0.6666666666666666,
              "#ed7953"
             ],
             [
              0.7777777777777778,
              "#fb9f3a"
             ],
             [
              0.8888888888888888,
              "#fdca26"
             ],
             [
              1,
              "#f0f921"
             ]
            ],
            "type": "contour"
           }
          ],
          "contourcarpet": [
           {
            "colorbar": {
             "outlinewidth": 0,
             "ticks": ""
            },
            "type": "contourcarpet"
           }
          ],
          "heatmap": [
           {
            "colorbar": {
             "outlinewidth": 0,
             "ticks": ""
            },
            "colorscale": [
             [
              0,
              "#0d0887"
             ],
             [
              0.1111111111111111,
              "#46039f"
             ],
             [
              0.2222222222222222,
              "#7201a8"
             ],
             [
              0.3333333333333333,
              "#9c179e"
             ],
             [
              0.4444444444444444,
              "#bd3786"
             ],
             [
              0.5555555555555556,
              "#d8576b"
             ],
             [
              0.6666666666666666,
              "#ed7953"
             ],
             [
              0.7777777777777778,
              "#fb9f3a"
             ],
             [
              0.8888888888888888,
              "#fdca26"
             ],
             [
              1,
              "#f0f921"
             ]
            ],
            "type": "heatmap"
           }
          ],
          "heatmapgl": [
           {
            "colorbar": {
             "outlinewidth": 0,
             "ticks": ""
            },
            "colorscale": [
             [
              0,
              "#0d0887"
             ],
             [
              0.1111111111111111,
              "#46039f"
             ],
             [
              0.2222222222222222,
              "#7201a8"
             ],
             [
              0.3333333333333333,
              "#9c179e"
             ],
             [
              0.4444444444444444,
              "#bd3786"
             ],
             [
              0.5555555555555556,
              "#d8576b"
             ],
             [
              0.6666666666666666,
              "#ed7953"
             ],
             [
              0.7777777777777778,
              "#fb9f3a"
             ],
             [
              0.8888888888888888,
              "#fdca26"
             ],
             [
              1,
              "#f0f921"
             ]
            ],
            "type": "heatmapgl"
           }
          ],
          "histogram": [
           {
            "marker": {
             "pattern": {
              "fillmode": "overlay",
              "size": 10,
              "solidity": 0.2
             }
            },
            "type": "histogram"
           }
          ],
          "histogram2d": [
           {
            "colorbar": {
             "outlinewidth": 0,
             "ticks": ""
            },
            "colorscale": [
             [
              0,
              "#0d0887"
             ],
             [
              0.1111111111111111,
              "#46039f"
             ],
             [
              0.2222222222222222,
              "#7201a8"
             ],
             [
              0.3333333333333333,
              "#9c179e"
             ],
             [
              0.4444444444444444,
              "#bd3786"
             ],
             [
              0.5555555555555556,
              "#d8576b"
             ],
             [
              0.6666666666666666,
              "#ed7953"
             ],
             [
              0.7777777777777778,
              "#fb9f3a"
             ],
             [
              0.8888888888888888,
              "#fdca26"
             ],
             [
              1,
              "#f0f921"
             ]
            ],
            "type": "histogram2d"
           }
          ],
          "histogram2dcontour": [
           {
            "colorbar": {
             "outlinewidth": 0,
             "ticks": ""
            },
            "colorscale": [
             [
              0,
              "#0d0887"
             ],
             [
              0.1111111111111111,
              "#46039f"
             ],
             [
              0.2222222222222222,
              "#7201a8"
             ],
             [
              0.3333333333333333,
              "#9c179e"
             ],
             [
              0.4444444444444444,
              "#bd3786"
             ],
             [
              0.5555555555555556,
              "#d8576b"
             ],
             [
              0.6666666666666666,
              "#ed7953"
             ],
             [
              0.7777777777777778,
              "#fb9f3a"
             ],
             [
              0.8888888888888888,
              "#fdca26"
             ],
             [
              1,
              "#f0f921"
             ]
            ],
            "type": "histogram2dcontour"
           }
          ],
          "mesh3d": [
           {
            "colorbar": {
             "outlinewidth": 0,
             "ticks": ""
            },
            "type": "mesh3d"
           }
          ],
          "parcoords": [
           {
            "line": {
             "colorbar": {
              "outlinewidth": 0,
              "ticks": ""
             }
            },
            "type": "parcoords"
           }
          ],
          "pie": [
           {
            "automargin": true,
            "type": "pie"
           }
          ],
          "scatter": [
           {
            "fillpattern": {
             "fillmode": "overlay",
             "size": 10,
             "solidity": 0.2
            },
            "type": "scatter"
           }
          ],
          "scatter3d": [
           {
            "line": {
             "colorbar": {
              "outlinewidth": 0,
              "ticks": ""
             }
            },
            "marker": {
             "colorbar": {
              "outlinewidth": 0,
              "ticks": ""
             }
            },
            "type": "scatter3d"
           }
          ],
          "scattercarpet": [
           {
            "marker": {
             "colorbar": {
              "outlinewidth": 0,
              "ticks": ""
             }
            },
            "type": "scattercarpet"
           }
          ],
          "scattergeo": [
           {
            "marker": {
             "colorbar": {
              "outlinewidth": 0,
              "ticks": ""
             }
            },
            "type": "scattergeo"
           }
          ],
          "scattergl": [
           {
            "marker": {
             "colorbar": {
              "outlinewidth": 0,
              "ticks": ""
             }
            },
            "type": "scattergl"
           }
          ],
          "scattermapbox": [
           {
            "marker": {
             "colorbar": {
              "outlinewidth": 0,
              "ticks": ""
             }
            },
            "type": "scattermapbox"
           }
          ],
          "scatterpolar": [
           {
            "marker": {
             "colorbar": {
              "outlinewidth": 0,
              "ticks": ""
             }
            },
            "type": "scatterpolar"
           }
          ],
          "scatterpolargl": [
           {
            "marker": {
             "colorbar": {
              "outlinewidth": 0,
              "ticks": ""
             }
            },
            "type": "scatterpolargl"
           }
          ],
          "scatterternary": [
           {
            "marker": {
             "colorbar": {
              "outlinewidth": 0,
              "ticks": ""
             }
            },
            "type": "scatterternary"
           }
          ],
          "surface": [
           {
            "colorbar": {
             "outlinewidth": 0,
             "ticks": ""
            },
            "colorscale": [
             [
              0,
              "#0d0887"
             ],
             [
              0.1111111111111111,
              "#46039f"
             ],
             [
              0.2222222222222222,
              "#7201a8"
             ],
             [
              0.3333333333333333,
              "#9c179e"
             ],
             [
              0.4444444444444444,
              "#bd3786"
             ],
             [
              0.5555555555555556,
              "#d8576b"
             ],
             [
              0.6666666666666666,
              "#ed7953"
             ],
             [
              0.7777777777777778,
              "#fb9f3a"
             ],
             [
              0.8888888888888888,
              "#fdca26"
             ],
             [
              1,
              "#f0f921"
             ]
            ],
            "type": "surface"
           }
          ],
          "table": [
           {
            "cells": {
             "fill": {
              "color": "#EBF0F8"
             },
             "line": {
              "color": "white"
             }
            },
            "header": {
             "fill": {
              "color": "#C8D4E3"
             },
             "line": {
              "color": "white"
             }
            },
            "type": "table"
           }
          ]
         },
         "layout": {
          "annotationdefaults": {
           "arrowcolor": "#2a3f5f",
           "arrowhead": 0,
           "arrowwidth": 1
          },
          "autotypenumbers": "strict",
          "coloraxis": {
           "colorbar": {
            "outlinewidth": 0,
            "ticks": ""
           }
          },
          "colorscale": {
           "diverging": [
            [
             0,
             "#8e0152"
            ],
            [
             0.1,
             "#c51b7d"
            ],
            [
             0.2,
             "#de77ae"
            ],
            [
             0.3,
             "#f1b6da"
            ],
            [
             0.4,
             "#fde0ef"
            ],
            [
             0.5,
             "#f7f7f7"
            ],
            [
             0.6,
             "#e6f5d0"
            ],
            [
             0.7,
             "#b8e186"
            ],
            [
             0.8,
             "#7fbc41"
            ],
            [
             0.9,
             "#4d9221"
            ],
            [
             1,
             "#276419"
            ]
           ],
           "sequential": [
            [
             0,
             "#0d0887"
            ],
            [
             0.1111111111111111,
             "#46039f"
            ],
            [
             0.2222222222222222,
             "#7201a8"
            ],
            [
             0.3333333333333333,
             "#9c179e"
            ],
            [
             0.4444444444444444,
             "#bd3786"
            ],
            [
             0.5555555555555556,
             "#d8576b"
            ],
            [
             0.6666666666666666,
             "#ed7953"
            ],
            [
             0.7777777777777778,
             "#fb9f3a"
            ],
            [
             0.8888888888888888,
             "#fdca26"
            ],
            [
             1,
             "#f0f921"
            ]
           ],
           "sequentialminus": [
            [
             0,
             "#0d0887"
            ],
            [
             0.1111111111111111,
             "#46039f"
            ],
            [
             0.2222222222222222,
             "#7201a8"
            ],
            [
             0.3333333333333333,
             "#9c179e"
            ],
            [
             0.4444444444444444,
             "#bd3786"
            ],
            [
             0.5555555555555556,
             "#d8576b"
            ],
            [
             0.6666666666666666,
             "#ed7953"
            ],
            [
             0.7777777777777778,
             "#fb9f3a"
            ],
            [
             0.8888888888888888,
             "#fdca26"
            ],
            [
             1,
             "#f0f921"
            ]
           ]
          },
          "colorway": [
           "#636efa",
           "#EF553B",
           "#00cc96",
           "#ab63fa",
           "#FFA15A",
           "#19d3f3",
           "#FF6692",
           "#B6E880",
           "#FF97FF",
           "#FECB52"
          ],
          "font": {
           "color": "#2a3f5f"
          },
          "geo": {
           "bgcolor": "white",
           "lakecolor": "white",
           "landcolor": "#E5ECF6",
           "showlakes": true,
           "showland": true,
           "subunitcolor": "white"
          },
          "hoverlabel": {
           "align": "left"
          },
          "hovermode": "closest",
          "mapbox": {
           "style": "light"
          },
          "paper_bgcolor": "white",
          "plot_bgcolor": "#E5ECF6",
          "polar": {
           "angularaxis": {
            "gridcolor": "white",
            "linecolor": "white",
            "ticks": ""
           },
           "bgcolor": "#E5ECF6",
           "radialaxis": {
            "gridcolor": "white",
            "linecolor": "white",
            "ticks": ""
           }
          },
          "scene": {
           "xaxis": {
            "backgroundcolor": "#E5ECF6",
            "gridcolor": "white",
            "gridwidth": 2,
            "linecolor": "white",
            "showbackground": true,
            "ticks": "",
            "zerolinecolor": "white"
           },
           "yaxis": {
            "backgroundcolor": "#E5ECF6",
            "gridcolor": "white",
            "gridwidth": 2,
            "linecolor": "white",
            "showbackground": true,
            "ticks": "",
            "zerolinecolor": "white"
           },
           "zaxis": {
            "backgroundcolor": "#E5ECF6",
            "gridcolor": "white",
            "gridwidth": 2,
            "linecolor": "white",
            "showbackground": true,
            "ticks": "",
            "zerolinecolor": "white"
           }
          },
          "shapedefaults": {
           "line": {
            "color": "#2a3f5f"
           }
          },
          "ternary": {
           "aaxis": {
            "gridcolor": "white",
            "linecolor": "white",
            "ticks": ""
           },
           "baxis": {
            "gridcolor": "white",
            "linecolor": "white",
            "ticks": ""
           },
           "bgcolor": "#E5ECF6",
           "caxis": {
            "gridcolor": "white",
            "linecolor": "white",
            "ticks": ""
           }
          },
          "title": {
           "x": 0.05
          },
          "xaxis": {
           "automargin": true,
           "gridcolor": "white",
           "linecolor": "white",
           "ticks": "",
           "title": {
            "standoff": 15
           },
           "zerolinecolor": "white",
           "zerolinewidth": 2
          },
          "yaxis": {
           "automargin": true,
           "gridcolor": "white",
           "linecolor": "white",
           "ticks": "",
           "title": {
            "standoff": 15
           },
           "zerolinecolor": "white",
           "zerolinewidth": 2
          }
         }
        },
        "title": {
         "text": "Label: image générée"
        },
        "width": 500,
        "xaxis": {
         "anchor": "y",
         "domain": [
          0,
          1
         ],
         "showgrid": false,
         "showticklabels": false,
         "visible": false,
         "zeroline": false
        },
        "yaxis": {
         "anchor": "x",
         "domain": [
          0,
          1
         ],
         "showgrid": false,
         "showticklabels": false,
         "visible": false,
         "zeroline": false
        }
       }
      }
     },
     "metadata": {},
     "output_type": "display_data"
    }
   ],
   "source": [
    "X = generator.predict([generate_latent_points(100, 1), types_to_vector('Ghost', 'Fighting')], verbose=0)\n",
    "plot_image(X[0], \"image générée\", {\"real\": discriminator.predict([X, types_to_vector('Ghost', 'Fighting')], verbose=0)[0][0]}, 96)"
   ]
  },
  {
   "cell_type": "code",
   "execution_count": null,
   "metadata": {},
   "outputs": [],
   "source": [
    "X = generator.predict([generate_latent_points(100, 1), np.array([[1., 1., 1., 1., 1., 1., 1., 1., 1., 1., 1., 1., 1., 1., 1., 1., 1., 1.]])], verbose=0)\n",
    "plot_image(X[0], \"image générée\", {\"real\": discriminator.predict([X, np.array([[1., 1., 1., 1., 1., 1., 1., 1., 1., 1., 1., 1., 1., 1., 1., 1., 1., 1.]])], verbose=0)[0][0]}, 96)"
   ]
  },
  {
   "cell_type": "code",
   "execution_count": 91,
   "metadata": {},
   "outputs": [],
   "source": [
    "# test image with random noise between -1 and 1\n",
    "test_image_noise = tf.random.uniform(shape=(1, 96, 96, 3), minval=-1, maxval=1)"
   ]
  },
  {
   "cell_type": "code",
   "execution_count": 94,
   "metadata": {},
   "outputs": [
    {
     "data": {
      "application/vnd.plotly.v1+json": {
       "config": {
        "plotlyServerURL": "https://plot.ly"
       },
       "data": [
        {
         "hovertemplate": "x: %{x}<br>y: %{y}<extra></extra>",
         "name": "0",
         "source": "data:image/png;base64,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",
         "type": "image",
         "xaxis": "x",
         "yaxis": "y"
        }
       ],
       "layout": {
        "annotations": [
         {
          "align": "left",
          "bgcolor": "#ff7f0e",
          "bordercolor": "#c7c7c7",
          "borderpad": 2,
          "borderwidth": 1,
          "font": {
           "color": "#ffffff",
           "family": "Courier New, monospace",
           "size": 12
          },
          "opacity": 0.8,
          "showarrow": false,
          "text": "real: 0%",
          "x": 1,
          "xref": "paper",
          "y": 1,
          "yref": "paper"
         }
        ],
        "height": 350,
        "images": [
         {
          "layer": "below",
          "sizex": 0.3,
          "sizey": 0.3,
          "source": "images/final/real/1.png",
          "x": 1,
          "xref": "paper",
          "y": 1.1,
          "yref": "paper"
         }
        ],
        "margin": {
         "l": 0,
         "t": 60
        },
        "shapes": [
         {
          "line": {
           "color": "black",
           "width": 2
          },
          "type": "rect",
          "x0": 0,
          "x1": 96,
          "xref": "x",
          "y0": 0,
          "y1": 96,
          "yref": "y"
         }
        ],
        "template": {
         "data": {
          "bar": [
           {
            "error_x": {
             "color": "#2a3f5f"
            },
            "error_y": {
             "color": "#2a3f5f"
            },
            "marker": {
             "line": {
              "color": "#E5ECF6",
              "width": 0.5
             },
             "pattern": {
              "fillmode": "overlay",
              "size": 10,
              "solidity": 0.2
             }
            },
            "type": "bar"
           }
          ],
          "barpolar": [
           {
            "marker": {
             "line": {
              "color": "#E5ECF6",
              "width": 0.5
             },
             "pattern": {
              "fillmode": "overlay",
              "size": 10,
              "solidity": 0.2
             }
            },
            "type": "barpolar"
           }
          ],
          "carpet": [
           {
            "aaxis": {
             "endlinecolor": "#2a3f5f",
             "gridcolor": "white",
             "linecolor": "white",
             "minorgridcolor": "white",
             "startlinecolor": "#2a3f5f"
            },
            "baxis": {
             "endlinecolor": "#2a3f5f",
             "gridcolor": "white",
             "linecolor": "white",
             "minorgridcolor": "white",
             "startlinecolor": "#2a3f5f"
            },
            "type": "carpet"
           }
          ],
          "choropleth": [
           {
            "colorbar": {
             "outlinewidth": 0,
             "ticks": ""
            },
            "type": "choropleth"
           }
          ],
          "contour": [
           {
            "colorbar": {
             "outlinewidth": 0,
             "ticks": ""
            },
            "colorscale": [
             [
              0,
              "#0d0887"
             ],
             [
              0.1111111111111111,
              "#46039f"
             ],
             [
              0.2222222222222222,
              "#7201a8"
             ],
             [
              0.3333333333333333,
              "#9c179e"
             ],
             [
              0.4444444444444444,
              "#bd3786"
             ],
             [
              0.5555555555555556,
              "#d8576b"
             ],
             [
              0.6666666666666666,
              "#ed7953"
             ],
             [
              0.7777777777777778,
              "#fb9f3a"
             ],
             [
              0.8888888888888888,
              "#fdca26"
             ],
             [
              1,
              "#f0f921"
             ]
            ],
            "type": "contour"
           }
          ],
          "contourcarpet": [
           {
            "colorbar": {
             "outlinewidth": 0,
             "ticks": ""
            },
            "type": "contourcarpet"
           }
          ],
          "heatmap": [
           {
            "colorbar": {
             "outlinewidth": 0,
             "ticks": ""
            },
            "colorscale": [
             [
              0,
              "#0d0887"
             ],
             [
              0.1111111111111111,
              "#46039f"
             ],
             [
              0.2222222222222222,
              "#7201a8"
             ],
             [
              0.3333333333333333,
              "#9c179e"
             ],
             [
              0.4444444444444444,
              "#bd3786"
             ],
             [
              0.5555555555555556,
              "#d8576b"
             ],
             [
              0.6666666666666666,
              "#ed7953"
             ],
             [
              0.7777777777777778,
              "#fb9f3a"
             ],
             [
              0.8888888888888888,
              "#fdca26"
             ],
             [
              1,
              "#f0f921"
             ]
            ],
            "type": "heatmap"
           }
          ],
          "heatmapgl": [
           {
            "colorbar": {
             "outlinewidth": 0,
             "ticks": ""
            },
            "colorscale": [
             [
              0,
              "#0d0887"
             ],
             [
              0.1111111111111111,
              "#46039f"
             ],
             [
              0.2222222222222222,
              "#7201a8"
             ],
             [
              0.3333333333333333,
              "#9c179e"
             ],
             [
              0.4444444444444444,
              "#bd3786"
             ],
             [
              0.5555555555555556,
              "#d8576b"
             ],
             [
              0.6666666666666666,
              "#ed7953"
             ],
             [
              0.7777777777777778,
              "#fb9f3a"
             ],
             [
              0.8888888888888888,
              "#fdca26"
             ],
             [
              1,
              "#f0f921"
             ]
            ],
            "type": "heatmapgl"
           }
          ],
          "histogram": [
           {
            "marker": {
             "pattern": {
              "fillmode": "overlay",
              "size": 10,
              "solidity": 0.2
             }
            },
            "type": "histogram"
           }
          ],
          "histogram2d": [
           {
            "colorbar": {
             "outlinewidth": 0,
             "ticks": ""
            },
            "colorscale": [
             [
              0,
              "#0d0887"
             ],
             [
              0.1111111111111111,
              "#46039f"
             ],
             [
              0.2222222222222222,
              "#7201a8"
             ],
             [
              0.3333333333333333,
              "#9c179e"
             ],
             [
              0.4444444444444444,
              "#bd3786"
             ],
             [
              0.5555555555555556,
              "#d8576b"
             ],
             [
              0.6666666666666666,
              "#ed7953"
             ],
             [
              0.7777777777777778,
              "#fb9f3a"
             ],
             [
              0.8888888888888888,
              "#fdca26"
             ],
             [
              1,
              "#f0f921"
             ]
            ],
            "type": "histogram2d"
           }
          ],
          "histogram2dcontour": [
           {
            "colorbar": {
             "outlinewidth": 0,
             "ticks": ""
            },
            "colorscale": [
             [
              0,
              "#0d0887"
             ],
             [
              0.1111111111111111,
              "#46039f"
             ],
             [
              0.2222222222222222,
              "#7201a8"
             ],
             [
              0.3333333333333333,
              "#9c179e"
             ],
             [
              0.4444444444444444,
              "#bd3786"
             ],
             [
              0.5555555555555556,
              "#d8576b"
             ],
             [
              0.6666666666666666,
              "#ed7953"
             ],
             [
              0.7777777777777778,
              "#fb9f3a"
             ],
             [
              0.8888888888888888,
              "#fdca26"
             ],
             [
              1,
              "#f0f921"
             ]
            ],
            "type": "histogram2dcontour"
           }
          ],
          "mesh3d": [
           {
            "colorbar": {
             "outlinewidth": 0,
             "ticks": ""
            },
            "type": "mesh3d"
           }
          ],
          "parcoords": [
           {
            "line": {
             "colorbar": {
              "outlinewidth": 0,
              "ticks": ""
             }
            },
            "type": "parcoords"
           }
          ],
          "pie": [
           {
            "automargin": true,
            "type": "pie"
           }
          ],
          "scatter": [
           {
            "fillpattern": {
             "fillmode": "overlay",
             "size": 10,
             "solidity": 0.2
            },
            "type": "scatter"
           }
          ],
          "scatter3d": [
           {
            "line": {
             "colorbar": {
              "outlinewidth": 0,
              "ticks": ""
             }
            },
            "marker": {
             "colorbar": {
              "outlinewidth": 0,
              "ticks": ""
             }
            },
            "type": "scatter3d"
           }
          ],
          "scattercarpet": [
           {
            "marker": {
             "colorbar": {
              "outlinewidth": 0,
              "ticks": ""
             }
            },
            "type": "scattercarpet"
           }
          ],
          "scattergeo": [
           {
            "marker": {
             "colorbar": {
              "outlinewidth": 0,
              "ticks": ""
             }
            },
            "type": "scattergeo"
           }
          ],
          "scattergl": [
           {
            "marker": {
             "colorbar": {
              "outlinewidth": 0,
              "ticks": ""
             }
            },
            "type": "scattergl"
           }
          ],
          "scattermapbox": [
           {
            "marker": {
             "colorbar": {
              "outlinewidth": 0,
              "ticks": ""
             }
            },
            "type": "scattermapbox"
           }
          ],
          "scatterpolar": [
           {
            "marker": {
             "colorbar": {
              "outlinewidth": 0,
              "ticks": ""
             }
            },
            "type": "scatterpolar"
           }
          ],
          "scatterpolargl": [
           {
            "marker": {
             "colorbar": {
              "outlinewidth": 0,
              "ticks": ""
             }
            },
            "type": "scatterpolargl"
           }
          ],
          "scatterternary": [
           {
            "marker": {
             "colorbar": {
              "outlinewidth": 0,
              "ticks": ""
             }
            },
            "type": "scatterternary"
           }
          ],
          "surface": [
           {
            "colorbar": {
             "outlinewidth": 0,
             "ticks": ""
            },
            "colorscale": [
             [
              0,
              "#0d0887"
             ],
             [
              0.1111111111111111,
              "#46039f"
             ],
             [
              0.2222222222222222,
              "#7201a8"
             ],
             [
              0.3333333333333333,
              "#9c179e"
             ],
             [
              0.4444444444444444,
              "#bd3786"
             ],
             [
              0.5555555555555556,
              "#d8576b"
             ],
             [
              0.6666666666666666,
              "#ed7953"
             ],
             [
              0.7777777777777778,
              "#fb9f3a"
             ],
             [
              0.8888888888888888,
              "#fdca26"
             ],
             [
              1,
              "#f0f921"
             ]
            ],
            "type": "surface"
           }
          ],
          "table": [
           {
            "cells": {
             "fill": {
              "color": "#EBF0F8"
             },
             "line": {
              "color": "white"
             }
            },
            "header": {
             "fill": {
              "color": "#C8D4E3"
             },
             "line": {
              "color": "white"
             }
            },
            "type": "table"
           }
          ]
         },
         "layout": {
          "annotationdefaults": {
           "arrowcolor": "#2a3f5f",
           "arrowhead": 0,
           "arrowwidth": 1
          },
          "autotypenumbers": "strict",
          "coloraxis": {
           "colorbar": {
            "outlinewidth": 0,
            "ticks": ""
           }
          },
          "colorscale": {
           "diverging": [
            [
             0,
             "#8e0152"
            ],
            [
             0.1,
             "#c51b7d"
            ],
            [
             0.2,
             "#de77ae"
            ],
            [
             0.3,
             "#f1b6da"
            ],
            [
             0.4,
             "#fde0ef"
            ],
            [
             0.5,
             "#f7f7f7"
            ],
            [
             0.6,
             "#e6f5d0"
            ],
            [
             0.7,
             "#b8e186"
            ],
            [
             0.8,
             "#7fbc41"
            ],
            [
             0.9,
             "#4d9221"
            ],
            [
             1,
             "#276419"
            ]
           ],
           "sequential": [
            [
             0,
             "#0d0887"
            ],
            [
             0.1111111111111111,
             "#46039f"
            ],
            [
             0.2222222222222222,
             "#7201a8"
            ],
            [
             0.3333333333333333,
             "#9c179e"
            ],
            [
             0.4444444444444444,
             "#bd3786"
            ],
            [
             0.5555555555555556,
             "#d8576b"
            ],
            [
             0.6666666666666666,
             "#ed7953"
            ],
            [
             0.7777777777777778,
             "#fb9f3a"
            ],
            [
             0.8888888888888888,
             "#fdca26"
            ],
            [
             1,
             "#f0f921"
            ]
           ],
           "sequentialminus": [
            [
             0,
             "#0d0887"
            ],
            [
             0.1111111111111111,
             "#46039f"
            ],
            [
             0.2222222222222222,
             "#7201a8"
            ],
            [
             0.3333333333333333,
             "#9c179e"
            ],
            [
             0.4444444444444444,
             "#bd3786"
            ],
            [
             0.5555555555555556,
             "#d8576b"
            ],
            [
             0.6666666666666666,
             "#ed7953"
            ],
            [
             0.7777777777777778,
             "#fb9f3a"
            ],
            [
             0.8888888888888888,
             "#fdca26"
            ],
            [
             1,
             "#f0f921"
            ]
           ]
          },
          "colorway": [
           "#636efa",
           "#EF553B",
           "#00cc96",
           "#ab63fa",
           "#FFA15A",
           "#19d3f3",
           "#FF6692",
           "#B6E880",
           "#FF97FF",
           "#FECB52"
          ],
          "font": {
           "color": "#2a3f5f"
          },
          "geo": {
           "bgcolor": "white",
           "lakecolor": "white",
           "landcolor": "#E5ECF6",
           "showlakes": true,
           "showland": true,
           "subunitcolor": "white"
          },
          "hoverlabel": {
           "align": "left"
          },
          "hovermode": "closest",
          "mapbox": {
           "style": "light"
          },
          "paper_bgcolor": "white",
          "plot_bgcolor": "#E5ECF6",
          "polar": {
           "angularaxis": {
            "gridcolor": "white",
            "linecolor": "white",
            "ticks": ""
           },
           "bgcolor": "#E5ECF6",
           "radialaxis": {
            "gridcolor": "white",
            "linecolor": "white",
            "ticks": ""
           }
          },
          "scene": {
           "xaxis": {
            "backgroundcolor": "#E5ECF6",
            "gridcolor": "white",
            "gridwidth": 2,
            "linecolor": "white",
            "showbackground": true,
            "ticks": "",
            "zerolinecolor": "white"
           },
           "yaxis": {
            "backgroundcolor": "#E5ECF6",
            "gridcolor": "white",
            "gridwidth": 2,
            "linecolor": "white",
            "showbackground": true,
            "ticks": "",
            "zerolinecolor": "white"
           },
           "zaxis": {
            "backgroundcolor": "#E5ECF6",
            "gridcolor": "white",
            "gridwidth": 2,
            "linecolor": "white",
            "showbackground": true,
            "ticks": "",
            "zerolinecolor": "white"
           }
          },
          "shapedefaults": {
           "line": {
            "color": "#2a3f5f"
           }
          },
          "ternary": {
           "aaxis": {
            "gridcolor": "white",
            "linecolor": "white",
            "ticks": ""
           },
           "baxis": {
            "gridcolor": "white",
            "linecolor": "white",
            "ticks": ""
           },
           "bgcolor": "#E5ECF6",
           "caxis": {
            "gridcolor": "white",
            "linecolor": "white",
            "ticks": ""
           }
          },
          "title": {
           "x": 0.05
          },
          "xaxis": {
           "automargin": true,
           "gridcolor": "white",
           "linecolor": "white",
           "ticks": "",
           "title": {
            "standoff": 15
           },
           "zerolinecolor": "white",
           "zerolinewidth": 2
          },
          "yaxis": {
           "automargin": true,
           "gridcolor": "white",
           "linecolor": "white",
           "ticks": "",
           "title": {
            "standoff": 15
           },
           "zerolinecolor": "white",
           "zerolinewidth": 2
          }
         }
        },
        "title": {
         "text": "Label: image test"
        },
        "width": 500,
        "xaxis": {
         "anchor": "y",
         "domain": [
          0,
          1
         ],
         "showgrid": false,
         "showticklabels": false,
         "visible": false,
         "zeroline": false
        },
        "yaxis": {
         "anchor": "x",
         "domain": [
          0,
          1
         ],
         "showgrid": false,
         "showticklabels": false,
         "visible": false,
         "zeroline": false
        }
       }
      }
     },
     "metadata": {},
     "output_type": "display_data"
    }
   ],
   "source": [
    "plot_image(test_image_noise[0], \"image test\", {\"real\": discriminator.predict([test_image_noise, types_to_vector('Dark')], verbose=0)[0][0]}, 96)"
   ]
  },
  {
   "cell_type": "code",
   "execution_count": 84,
   "metadata": {},
   "outputs": [
    {
     "name": "stdout",
     "output_type": "stream",
     "text": [
      "(1, 96, 96, 3)\n"
     ]
    }
   ],
   "source": [
    "# load images/test/charmander.png to test\n",
    "test_image = tf.keras.preprocessing.image.load_img('images/test/charmander.png', color_mode='rgba', target_size=image_size)\n",
    "test_image = tf.keras.preprocessing.image.img_to_array(test_image)\n",
    "test_image = tf.expand_dims(test_image, axis=0)\n",
    "test_image = preprocess_image(test_image)\n",
    "print(test_image.shape)"
   ]
  },
  {
   "cell_type": "code",
   "execution_count": 192,
   "metadata": {},
   "outputs": [
    {
     "data": {
      "application/vnd.plotly.v1+json": {
       "config": {
        "plotlyServerURL": "https://plot.ly"
       },
       "data": [
        {
         "hovertemplate": "x: %{x}<br>y: %{y}<br>color: [%{z[0]}, %{z[1]}, %{z[2]}]<extra></extra>",
         "name": "0",
         "source": "data:image/png;base64,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",
         "type": "image",
         "xaxis": "x",
         "yaxis": "y"
        }
       ],
       "layout": {
        "annotations": [
         {
          "align": "left",
          "bgcolor": "#ff7f0e",
          "bordercolor": "#c7c7c7",
          "borderpad": 2,
          "borderwidth": 1,
          "font": {
           "color": "#ffffff",
           "family": "Courier New, monospace",
           "size": 12
          },
          "opacity": 0.8,
          "showarrow": false,
          "text": "real: 100%",
          "x": 1,
          "xref": "paper",
          "y": 1,
          "yref": "paper"
         }
        ],
        "height": 350,
        "images": [
         {
          "layer": "below",
          "sizex": 0.3,
          "sizey": 0.3,
          "source": "images/final/real/1.png",
          "x": 1,
          "xref": "paper",
          "y": 1.1,
          "yref": "paper"
         }
        ],
        "margin": {
         "l": 0,
         "t": 60
        },
        "shapes": [
         {
          "line": {
           "color": "black",
           "width": 2
          },
          "type": "rect",
          "x0": 0,
          "x1": 96,
          "xref": "x",
          "y0": 0,
          "y1": 96,
          "yref": "y"
         }
        ],
        "template": {
         "data": {
          "bar": [
           {
            "error_x": {
             "color": "#2a3f5f"
            },
            "error_y": {
             "color": "#2a3f5f"
            },
            "marker": {
             "line": {
              "color": "#E5ECF6",
              "width": 0.5
             },
             "pattern": {
              "fillmode": "overlay",
              "size": 10,
              "solidity": 0.2
             }
            },
            "type": "bar"
           }
          ],
          "barpolar": [
           {
            "marker": {
             "line": {
              "color": "#E5ECF6",
              "width": 0.5
             },
             "pattern": {
              "fillmode": "overlay",
              "size": 10,
              "solidity": 0.2
             }
            },
            "type": "barpolar"
           }
          ],
          "carpet": [
           {
            "aaxis": {
             "endlinecolor": "#2a3f5f",
             "gridcolor": "white",
             "linecolor": "white",
             "minorgridcolor": "white",
             "startlinecolor": "#2a3f5f"
            },
            "baxis": {
             "endlinecolor": "#2a3f5f",
             "gridcolor": "white",
             "linecolor": "white",
             "minorgridcolor": "white",
             "startlinecolor": "#2a3f5f"
            },
            "type": "carpet"
           }
          ],
          "choropleth": [
           {
            "colorbar": {
             "outlinewidth": 0,
             "ticks": ""
            },
            "type": "choropleth"
           }
          ],
          "contour": [
           {
            "colorbar": {
             "outlinewidth": 0,
             "ticks": ""
            },
            "colorscale": [
             [
              0,
              "#0d0887"
             ],
             [
              0.1111111111111111,
              "#46039f"
             ],
             [
              0.2222222222222222,
              "#7201a8"
             ],
             [
              0.3333333333333333,
              "#9c179e"
             ],
             [
              0.4444444444444444,
              "#bd3786"
             ],
             [
              0.5555555555555556,
              "#d8576b"
             ],
             [
              0.6666666666666666,
              "#ed7953"
             ],
             [
              0.7777777777777778,
              "#fb9f3a"
             ],
             [
              0.8888888888888888,
              "#fdca26"
             ],
             [
              1,
              "#f0f921"
             ]
            ],
            "type": "contour"
           }
          ],
          "contourcarpet": [
           {
            "colorbar": {
             "outlinewidth": 0,
             "ticks": ""
            },
            "type": "contourcarpet"
           }
          ],
          "heatmap": [
           {
            "colorbar": {
             "outlinewidth": 0,
             "ticks": ""
            },
            "colorscale": [
             [
              0,
              "#0d0887"
             ],
             [
              0.1111111111111111,
              "#46039f"
             ],
             [
              0.2222222222222222,
              "#7201a8"
             ],
             [
              0.3333333333333333,
              "#9c179e"
             ],
             [
              0.4444444444444444,
              "#bd3786"
             ],
             [
              0.5555555555555556,
              "#d8576b"
             ],
             [
              0.6666666666666666,
              "#ed7953"
             ],
             [
              0.7777777777777778,
              "#fb9f3a"
             ],
             [
              0.8888888888888888,
              "#fdca26"
             ],
             [
              1,
              "#f0f921"
             ]
            ],
            "type": "heatmap"
           }
          ],
          "heatmapgl": [
           {
            "colorbar": {
             "outlinewidth": 0,
             "ticks": ""
            },
            "colorscale": [
             [
              0,
              "#0d0887"
             ],
             [
              0.1111111111111111,
              "#46039f"
             ],
             [
              0.2222222222222222,
              "#7201a8"
             ],
             [
              0.3333333333333333,
              "#9c179e"
             ],
             [
              0.4444444444444444,
              "#bd3786"
             ],
             [
              0.5555555555555556,
              "#d8576b"
             ],
             [
              0.6666666666666666,
              "#ed7953"
             ],
             [
              0.7777777777777778,
              "#fb9f3a"
             ],
             [
              0.8888888888888888,
              "#fdca26"
             ],
             [
              1,
              "#f0f921"
             ]
            ],
            "type": "heatmapgl"
           }
          ],
          "histogram": [
           {
            "marker": {
             "pattern": {
              "fillmode": "overlay",
              "size": 10,
              "solidity": 0.2
             }
            },
            "type": "histogram"
           }
          ],
          "histogram2d": [
           {
            "colorbar": {
             "outlinewidth": 0,
             "ticks": ""
            },
            "colorscale": [
             [
              0,
              "#0d0887"
             ],
             [
              0.1111111111111111,
              "#46039f"
             ],
             [
              0.2222222222222222,
              "#7201a8"
             ],
             [
              0.3333333333333333,
              "#9c179e"
             ],
             [
              0.4444444444444444,
              "#bd3786"
             ],
             [
              0.5555555555555556,
              "#d8576b"
             ],
             [
              0.6666666666666666,
              "#ed7953"
             ],
             [
              0.7777777777777778,
              "#fb9f3a"
             ],
             [
              0.8888888888888888,
              "#fdca26"
             ],
             [
              1,
              "#f0f921"
             ]
            ],
            "type": "histogram2d"
           }
          ],
          "histogram2dcontour": [
           {
            "colorbar": {
             "outlinewidth": 0,
             "ticks": ""
            },
            "colorscale": [
             [
              0,
              "#0d0887"
             ],
             [
              0.1111111111111111,
              "#46039f"
             ],
             [
              0.2222222222222222,
              "#7201a8"
             ],
             [
              0.3333333333333333,
              "#9c179e"
             ],
             [
              0.4444444444444444,
              "#bd3786"
             ],
             [
              0.5555555555555556,
              "#d8576b"
             ],
             [
              0.6666666666666666,
              "#ed7953"
             ],
             [
              0.7777777777777778,
              "#fb9f3a"
             ],
             [
              0.8888888888888888,
              "#fdca26"
             ],
             [
              1,
              "#f0f921"
             ]
            ],
            "type": "histogram2dcontour"
           }
          ],
          "mesh3d": [
           {
            "colorbar": {
             "outlinewidth": 0,
             "ticks": ""
            },
            "type": "mesh3d"
           }
          ],
          "parcoords": [
           {
            "line": {
             "colorbar": {
              "outlinewidth": 0,
              "ticks": ""
             }
            },
            "type": "parcoords"
           }
          ],
          "pie": [
           {
            "automargin": true,
            "type": "pie"
           }
          ],
          "scatter": [
           {
            "fillpattern": {
             "fillmode": "overlay",
             "size": 10,
             "solidity": 0.2
            },
            "type": "scatter"
           }
          ],
          "scatter3d": [
           {
            "line": {
             "colorbar": {
              "outlinewidth": 0,
              "ticks": ""
             }
            },
            "marker": {
             "colorbar": {
              "outlinewidth": 0,
              "ticks": ""
             }
            },
            "type": "scatter3d"
           }
          ],
          "scattercarpet": [
           {
            "marker": {
             "colorbar": {
              "outlinewidth": 0,
              "ticks": ""
             }
            },
            "type": "scattercarpet"
           }
          ],
          "scattergeo": [
           {
            "marker": {
             "colorbar": {
              "outlinewidth": 0,
              "ticks": ""
             }
            },
            "type": "scattergeo"
           }
          ],
          "scattergl": [
           {
            "marker": {
             "colorbar": {
              "outlinewidth": 0,
              "ticks": ""
             }
            },
            "type": "scattergl"
           }
          ],
          "scattermapbox": [
           {
            "marker": {
             "colorbar": {
              "outlinewidth": 0,
              "ticks": ""
             }
            },
            "type": "scattermapbox"
           }
          ],
          "scatterpolar": [
           {
            "marker": {
             "colorbar": {
              "outlinewidth": 0,
              "ticks": ""
             }
            },
            "type": "scatterpolar"
           }
          ],
          "scatterpolargl": [
           {
            "marker": {
             "colorbar": {
              "outlinewidth": 0,
              "ticks": ""
             }
            },
            "type": "scatterpolargl"
           }
          ],
          "scatterternary": [
           {
            "marker": {
             "colorbar": {
              "outlinewidth": 0,
              "ticks": ""
             }
            },
            "type": "scatterternary"
           }
          ],
          "surface": [
           {
            "colorbar": {
             "outlinewidth": 0,
             "ticks": ""
            },
            "colorscale": [
             [
              0,
              "#0d0887"
             ],
             [
              0.1111111111111111,
              "#46039f"
             ],
             [
              0.2222222222222222,
              "#7201a8"
             ],
             [
              0.3333333333333333,
              "#9c179e"
             ],
             [
              0.4444444444444444,
              "#bd3786"
             ],
             [
              0.5555555555555556,
              "#d8576b"
             ],
             [
              0.6666666666666666,
              "#ed7953"
             ],
             [
              0.7777777777777778,
              "#fb9f3a"
             ],
             [
              0.8888888888888888,
              "#fdca26"
             ],
             [
              1,
              "#f0f921"
             ]
            ],
            "type": "surface"
           }
          ],
          "table": [
           {
            "cells": {
             "fill": {
              "color": "#EBF0F8"
             },
             "line": {
              "color": "white"
             }
            },
            "header": {
             "fill": {
              "color": "#C8D4E3"
             },
             "line": {
              "color": "white"
             }
            },
            "type": "table"
           }
          ]
         },
         "layout": {
          "annotationdefaults": {
           "arrowcolor": "#2a3f5f",
           "arrowhead": 0,
           "arrowwidth": 1
          },
          "autotypenumbers": "strict",
          "coloraxis": {
           "colorbar": {
            "outlinewidth": 0,
            "ticks": ""
           }
          },
          "colorscale": {
           "diverging": [
            [
             0,
             "#8e0152"
            ],
            [
             0.1,
             "#c51b7d"
            ],
            [
             0.2,
             "#de77ae"
            ],
            [
             0.3,
             "#f1b6da"
            ],
            [
             0.4,
             "#fde0ef"
            ],
            [
             0.5,
             "#f7f7f7"
            ],
            [
             0.6,
             "#e6f5d0"
            ],
            [
             0.7,
             "#b8e186"
            ],
            [
             0.8,
             "#7fbc41"
            ],
            [
             0.9,
             "#4d9221"
            ],
            [
             1,
             "#276419"
            ]
           ],
           "sequential": [
            [
             0,
             "#0d0887"
            ],
            [
             0.1111111111111111,
             "#46039f"
            ],
            [
             0.2222222222222222,
             "#7201a8"
            ],
            [
             0.3333333333333333,
             "#9c179e"
            ],
            [
             0.4444444444444444,
             "#bd3786"
            ],
            [
             0.5555555555555556,
             "#d8576b"
            ],
            [
             0.6666666666666666,
             "#ed7953"
            ],
            [
             0.7777777777777778,
             "#fb9f3a"
            ],
            [
             0.8888888888888888,
             "#fdca26"
            ],
            [
             1,
             "#f0f921"
            ]
           ],
           "sequentialminus": [
            [
             0,
             "#0d0887"
            ],
            [
             0.1111111111111111,
             "#46039f"
            ],
            [
             0.2222222222222222,
             "#7201a8"
            ],
            [
             0.3333333333333333,
             "#9c179e"
            ],
            [
             0.4444444444444444,
             "#bd3786"
            ],
            [
             0.5555555555555556,
             "#d8576b"
            ],
            [
             0.6666666666666666,
             "#ed7953"
            ],
            [
             0.7777777777777778,
             "#fb9f3a"
            ],
            [
             0.8888888888888888,
             "#fdca26"
            ],
            [
             1,
             "#f0f921"
            ]
           ]
          },
          "colorway": [
           "#636efa",
           "#EF553B",
           "#00cc96",
           "#ab63fa",
           "#FFA15A",
           "#19d3f3",
           "#FF6692",
           "#B6E880",
           "#FF97FF",
           "#FECB52"
          ],
          "font": {
           "color": "#2a3f5f"
          },
          "geo": {
           "bgcolor": "white",
           "lakecolor": "white",
           "landcolor": "#E5ECF6",
           "showlakes": true,
           "showland": true,
           "subunitcolor": "white"
          },
          "hoverlabel": {
           "align": "left"
          },
          "hovermode": "closest",
          "mapbox": {
           "style": "light"
          },
          "paper_bgcolor": "white",
          "plot_bgcolor": "#E5ECF6",
          "polar": {
           "angularaxis": {
            "gridcolor": "white",
            "linecolor": "white",
            "ticks": ""
           },
           "bgcolor": "#E5ECF6",
           "radialaxis": {
            "gridcolor": "white",
            "linecolor": "white",
            "ticks": ""
           }
          },
          "scene": {
           "xaxis": {
            "backgroundcolor": "#E5ECF6",
            "gridcolor": "white",
            "gridwidth": 2,
            "linecolor": "white",
            "showbackground": true,
            "ticks": "",
            "zerolinecolor": "white"
           },
           "yaxis": {
            "backgroundcolor": "#E5ECF6",
            "gridcolor": "white",
            "gridwidth": 2,
            "linecolor": "white",
            "showbackground": true,
            "ticks": "",
            "zerolinecolor": "white"
           },
           "zaxis": {
            "backgroundcolor": "#E5ECF6",
            "gridcolor": "white",
            "gridwidth": 2,
            "linecolor": "white",
            "showbackground": true,
            "ticks": "",
            "zerolinecolor": "white"
           }
          },
          "shapedefaults": {
           "line": {
            "color": "#2a3f5f"
           }
          },
          "ternary": {
           "aaxis": {
            "gridcolor": "white",
            "linecolor": "white",
            "ticks": ""
           },
           "baxis": {
            "gridcolor": "white",
            "linecolor": "white",
            "ticks": ""
           },
           "bgcolor": "#E5ECF6",
           "caxis": {
            "gridcolor": "white",
            "linecolor": "white",
            "ticks": ""
           }
          },
          "title": {
           "x": 0.05
          },
          "xaxis": {
           "automargin": true,
           "gridcolor": "white",
           "linecolor": "white",
           "ticks": "",
           "title": {
            "standoff": 15
           },
           "zerolinecolor": "white",
           "zerolinewidth": 2
          },
          "yaxis": {
           "automargin": true,
           "gridcolor": "white",
           "linecolor": "white",
           "ticks": "",
           "title": {
            "standoff": 15
           },
           "zerolinecolor": "white",
           "zerolinewidth": 2
          }
         }
        },
        "title": {
         "text": "Label: image test"
        },
        "width": 500,
        "xaxis": {
         "anchor": "y",
         "domain": [
          0,
          1
         ],
         "showgrid": false,
         "showticklabels": false,
         "visible": false,
         "zeroline": false
        },
        "yaxis": {
         "anchor": "x",
         "domain": [
          0,
          1
         ],
         "showgrid": false,
         "showticklabels": false,
         "visible": false,
         "zeroline": false
        }
       }
      }
     },
     "metadata": {},
     "output_type": "display_data"
    }
   ],
   "source": [
    "# test discriminator with test image\n",
    "plot_image(test_image[0], \"image test\", {\"real\": discriminator.predict([test_image, types_to_vector('Fire', 'Flying')], verbose=0)[0][0]}, 96)"
   ]
  }
 ],
 "metadata": {
  "kernelspec": {
   "display_name": "Python 3",
   "language": "python",
   "name": "python3"
  },
  "language_info": {
   "codemirror_mode": {
    "name": "ipython",
    "version": 3
   },
   "file_extension": ".py",
   "mimetype": "text/x-python",
   "name": "python",
   "nbconvert_exporter": "python",
   "pygments_lexer": "ipython3",
   "version": "3.10.6"
  },
  "orig_nbformat": 4
 },
 "nbformat": 4,
 "nbformat_minor": 2
}
