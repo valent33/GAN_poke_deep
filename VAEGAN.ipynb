{
 "cells": [
  {
   "cell_type": "code",
   "execution_count": 1,
   "metadata": {},
   "outputs": [],
   "source": [
    "import tensorflow as tf\n",
    "# import plotly.express as px\n",
    "import matplotlib.pyplot as plt\n",
    "from utils import *\n",
    "import pandas as pd"
   ]
  },
  {
   "cell_type": "code",
   "execution_count": 2,
   "metadata": {},
   "outputs": [],
   "source": [
    "directory = 'images/final/'\n",
    "width = 96\n",
    "height = 96\n",
    "channels = 4\n",
    "image_size = (width, height)\n",
    "input_shape = (width, height, channels)\n",
    "batch_size = 32"
   ]
  },
  {
   "cell_type": "code",
   "execution_count": 3,
   "metadata": {},
   "outputs": [
    {
     "name": "stdout",
     "output_type": "stream",
     "text": [
      "Found 13849 files belonging to 905 classes.\n"
     ]
    }
   ],
   "source": [
    "train_ds, class_names = load_data(directory, batch_size, image_size, GAN=True)"
   ]
  },
  {
   "cell_type": "code",
   "execution_count": 4,
   "metadata": {},
   "outputs": [],
   "source": [
    "types = pd.read_csv('PokeDataset.csv', usecols=['Name', 'Type1', 'Type2'])\n",
    "# reorder by alphabetical order of column 'Name'\n",
    "types = types.sort_values(by=['Name'])\n",
    "types = types.reset_index(drop=True)"
   ]
  },
  {
   "cell_type": "code",
   "execution_count": 5,
   "metadata": {},
   "outputs": [
    {
     "name": "stdout",
     "output_type": "stream",
     "text": [
      "Percentage of pokemon with double type: 49.61%\n"
     ]
    }
   ],
   "source": [
    "# give percentage of pokemon with double type\n",
    "print(f\"Percentage of pokemon with double type: {types['Type2'].count() / types['Type1'].count() * 100:.2f}%\")"
   ]
  },
  {
   "cell_type": "code",
   "execution_count": 6,
   "metadata": {},
   "outputs": [
    {
     "data": {
      "text/html": [
       "<div>\n",
       "<style scoped>\n",
       "    .dataframe tbody tr th:only-of-type {\n",
       "        vertical-align: middle;\n",
       "    }\n",
       "\n",
       "    .dataframe tbody tr th {\n",
       "        vertical-align: top;\n",
       "    }\n",
       "\n",
       "    .dataframe thead th {\n",
       "        text-align: right;\n",
       "    }\n",
       "</style>\n",
       "<table border=\"1\" class=\"dataframe\">\n",
       "  <thead>\n",
       "    <tr style=\"text-align: right;\">\n",
       "      <th></th>\n",
       "      <th>Name</th>\n",
       "      <th>Type1</th>\n",
       "      <th>Type2</th>\n",
       "    </tr>\n",
       "  </thead>\n",
       "  <tbody>\n",
       "    <tr>\n",
       "      <th>0</th>\n",
       "      <td>Abomasnow</td>\n",
       "      <td>Grass</td>\n",
       "      <td>Ice</td>\n",
       "    </tr>\n",
       "    <tr>\n",
       "      <th>1</th>\n",
       "      <td>Abra</td>\n",
       "      <td>Psychic</td>\n",
       "      <td>NaN</td>\n",
       "    </tr>\n",
       "    <tr>\n",
       "      <th>2</th>\n",
       "      <td>Absol</td>\n",
       "      <td>Dark</td>\n",
       "      <td>NaN</td>\n",
       "    </tr>\n",
       "    <tr>\n",
       "      <th>3</th>\n",
       "      <td>Accelgor</td>\n",
       "      <td>Bug</td>\n",
       "      <td>NaN</td>\n",
       "    </tr>\n",
       "    <tr>\n",
       "      <th>4</th>\n",
       "      <td>Aegislash</td>\n",
       "      <td>Steel</td>\n",
       "      <td>Ghost</td>\n",
       "    </tr>\n",
       "  </tbody>\n",
       "</table>\n",
       "</div>"
      ],
      "text/plain": [
       "        Name    Type1  Type2\n",
       "0  Abomasnow    Grass    Ice\n",
       "1       Abra  Psychic    NaN\n",
       "2      Absol     Dark    NaN\n",
       "3   Accelgor      Bug    NaN\n",
       "4  Aegislash    Steel  Ghost"
      ]
     },
     "execution_count": 6,
     "metadata": {},
     "output_type": "execute_result"
    }
   ],
   "source": [
    "types.head(5)"
   ]
  },
  {
   "cell_type": "code",
   "execution_count": 7,
   "metadata": {},
   "outputs": [],
   "source": [
    "# make a dictionary of types and their index in the list of types\n",
    "types_dict = {}\n",
    "for i, t in enumerate(types['Type1'].unique()):\n",
    "    types_dict[t] = i\n",
    "\n",
    "# create vector of labels with 0 for each type except the one in the row (type1 and type2 are strings)\n",
    "def create_label(row):\n",
    "    label = np.zeros(18)\n",
    "    label[types_dict[row['Type1']]] = 1\n",
    "    if row['Type2'] in types_dict:\n",
    "        label[types_dict[row['Type2']]] = 1\n",
    "    return label\n",
    "\n",
    "types['Label'] = types.apply(create_label, axis=1)"
   ]
  },
  {
   "cell_type": "code",
   "execution_count": 8,
   "metadata": {},
   "outputs": [],
   "source": [
    "def types_to_vector(type1, type2=None):\n",
    "    label = np.zeros(18)\n",
    "    label[types_dict[type1]] = 1\n",
    "    if type2 in types_dict:\n",
    "        label[types_dict[type2]] = 1\n",
    "    return label.reshape(1, 18)"
   ]
  },
  {
   "cell_type": "code",
   "execution_count": 9,
   "metadata": {},
   "outputs": [
    {
     "name": "stdout",
     "output_type": "stream",
     "text": [
      "521\n"
     ]
    },
    {
     "data": {
      "application/vnd.plotly.v1+json": {
       "config": {
        "plotlyServerURL": "https://plot.ly"
       },
       "data": [
        {
         "hovertemplate": "x: %{x}<br>y: %{y}<extra></extra>",
         "name": "0",
         "source": "data:image/png;base64,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",
         "type": "image",
         "xaxis": "x",
         "yaxis": "y"
        }
       ],
       "layout": {
        "height": 350,
        "margin": {
         "l": 0,
         "t": 60
        },
        "shapes": [
         {
          "line": {
           "color": "black",
           "width": 2
          },
          "type": "rect",
          "x0": 0,
          "x1": 96,
          "xref": "x",
          "y0": 0,
          "y1": 96,
          "yref": "y"
         }
        ],
        "template": {
         "data": {
          "bar": [
           {
            "error_x": {
             "color": "#2a3f5f"
            },
            "error_y": {
             "color": "#2a3f5f"
            },
            "marker": {
             "line": {
              "color": "#E5ECF6",
              "width": 0.5
             },
             "pattern": {
              "fillmode": "overlay",
              "size": 10,
              "solidity": 0.2
             }
            },
            "type": "bar"
           }
          ],
          "barpolar": [
           {
            "marker": {
             "line": {
              "color": "#E5ECF6",
              "width": 0.5
             },
             "pattern": {
              "fillmode": "overlay",
              "size": 10,
              "solidity": 0.2
             }
            },
            "type": "barpolar"
           }
          ],
          "carpet": [
           {
            "aaxis": {
             "endlinecolor": "#2a3f5f",
             "gridcolor": "white",
             "linecolor": "white",
             "minorgridcolor": "white",
             "startlinecolor": "#2a3f5f"
            },
            "baxis": {
             "endlinecolor": "#2a3f5f",
             "gridcolor": "white",
             "linecolor": "white",
             "minorgridcolor": "white",
             "startlinecolor": "#2a3f5f"
            },
            "type": "carpet"
           }
          ],
          "choropleth": [
           {
            "colorbar": {
             "outlinewidth": 0,
             "ticks": ""
            },
            "type": "choropleth"
           }
          ],
          "contour": [
           {
            "colorbar": {
             "outlinewidth": 0,
             "ticks": ""
            },
            "colorscale": [
             [
              0,
              "#0d0887"
             ],
             [
              0.1111111111111111,
              "#46039f"
             ],
             [
              0.2222222222222222,
              "#7201a8"
             ],
             [
              0.3333333333333333,
              "#9c179e"
             ],
             [
              0.4444444444444444,
              "#bd3786"
             ],
             [
              0.5555555555555556,
              "#d8576b"
             ],
             [
              0.6666666666666666,
              "#ed7953"
             ],
             [
              0.7777777777777778,
              "#fb9f3a"
             ],
             [
              0.8888888888888888,
              "#fdca26"
             ],
             [
              1,
              "#f0f921"
             ]
            ],
            "type": "contour"
           }
          ],
          "contourcarpet": [
           {
            "colorbar": {
             "outlinewidth": 0,
             "ticks": ""
            },
            "type": "contourcarpet"
           }
          ],
          "heatmap": [
           {
            "colorbar": {
             "outlinewidth": 0,
             "ticks": ""
            },
            "colorscale": [
             [
              0,
              "#0d0887"
             ],
             [
              0.1111111111111111,
              "#46039f"
             ],
             [
              0.2222222222222222,
              "#7201a8"
             ],
             [
              0.3333333333333333,
              "#9c179e"
             ],
             [
              0.4444444444444444,
              "#bd3786"
             ],
             [
              0.5555555555555556,
              "#d8576b"
             ],
             [
              0.6666666666666666,
              "#ed7953"
             ],
             [
              0.7777777777777778,
              "#fb9f3a"
             ],
             [
              0.8888888888888888,
              "#fdca26"
             ],
             [
              1,
              "#f0f921"
             ]
            ],
            "type": "heatmap"
           }
          ],
          "heatmapgl": [
           {
            "colorbar": {
             "outlinewidth": 0,
             "ticks": ""
            },
            "colorscale": [
             [
              0,
              "#0d0887"
             ],
             [
              0.1111111111111111,
              "#46039f"
             ],
             [
              0.2222222222222222,
              "#7201a8"
             ],
             [
              0.3333333333333333,
              "#9c179e"
             ],
             [
              0.4444444444444444,
              "#bd3786"
             ],
             [
              0.5555555555555556,
              "#d8576b"
             ],
             [
              0.6666666666666666,
              "#ed7953"
             ],
             [
              0.7777777777777778,
              "#fb9f3a"
             ],
             [
              0.8888888888888888,
              "#fdca26"
             ],
             [
              1,
              "#f0f921"
             ]
            ],
            "type": "heatmapgl"
           }
          ],
          "histogram": [
           {
            "marker": {
             "pattern": {
              "fillmode": "overlay",
              "size": 10,
              "solidity": 0.2
             }
            },
            "type": "histogram"
           }
          ],
          "histogram2d": [
           {
            "colorbar": {
             "outlinewidth": 0,
             "ticks": ""
            },
            "colorscale": [
             [
              0,
              "#0d0887"
             ],
             [
              0.1111111111111111,
              "#46039f"
             ],
             [
              0.2222222222222222,
              "#7201a8"
             ],
             [
              0.3333333333333333,
              "#9c179e"
             ],
             [
              0.4444444444444444,
              "#bd3786"
             ],
             [
              0.5555555555555556,
              "#d8576b"
             ],
             [
              0.6666666666666666,
              "#ed7953"
             ],
             [
              0.7777777777777778,
              "#fb9f3a"
             ],
             [
              0.8888888888888888,
              "#fdca26"
             ],
             [
              1,
              "#f0f921"
             ]
            ],
            "type": "histogram2d"
           }
          ],
          "histogram2dcontour": [
           {
            "colorbar": {
             "outlinewidth": 0,
             "ticks": ""
            },
            "colorscale": [
             [
              0,
              "#0d0887"
             ],
             [
              0.1111111111111111,
              "#46039f"
             ],
             [
              0.2222222222222222,
              "#7201a8"
             ],
             [
              0.3333333333333333,
              "#9c179e"
             ],
             [
              0.4444444444444444,
              "#bd3786"
             ],
             [
              0.5555555555555556,
              "#d8576b"
             ],
             [
              0.6666666666666666,
              "#ed7953"
             ],
             [
              0.7777777777777778,
              "#fb9f3a"
             ],
             [
              0.8888888888888888,
              "#fdca26"
             ],
             [
              1,
              "#f0f921"
             ]
            ],
            "type": "histogram2dcontour"
           }
          ],
          "mesh3d": [
           {
            "colorbar": {
             "outlinewidth": 0,
             "ticks": ""
            },
            "type": "mesh3d"
           }
          ],
          "parcoords": [
           {
            "line": {
             "colorbar": {
              "outlinewidth": 0,
              "ticks": ""
             }
            },
            "type": "parcoords"
           }
          ],
          "pie": [
           {
            "automargin": true,
            "type": "pie"
           }
          ],
          "scatter": [
           {
            "fillpattern": {
             "fillmode": "overlay",
             "size": 10,
             "solidity": 0.2
            },
            "type": "scatter"
           }
          ],
          "scatter3d": [
           {
            "line": {
             "colorbar": {
              "outlinewidth": 0,
              "ticks": ""
             }
            },
            "marker": {
             "colorbar": {
              "outlinewidth": 0,
              "ticks": ""
             }
            },
            "type": "scatter3d"
           }
          ],
          "scattercarpet": [
           {
            "marker": {
             "colorbar": {
              "outlinewidth": 0,
              "ticks": ""
             }
            },
            "type": "scattercarpet"
           }
          ],
          "scattergeo": [
           {
            "marker": {
             "colorbar": {
              "outlinewidth": 0,
              "ticks": ""
             }
            },
            "type": "scattergeo"
           }
          ],
          "scattergl": [
           {
            "marker": {
             "colorbar": {
              "outlinewidth": 0,
              "ticks": ""
             }
            },
            "type": "scattergl"
           }
          ],
          "scattermapbox": [
           {
            "marker": {
             "colorbar": {
              "outlinewidth": 0,
              "ticks": ""
             }
            },
            "type": "scattermapbox"
           }
          ],
          "scatterpolar": [
           {
            "marker": {
             "colorbar": {
              "outlinewidth": 0,
              "ticks": ""
             }
            },
            "type": "scatterpolar"
           }
          ],
          "scatterpolargl": [
           {
            "marker": {
             "colorbar": {
              "outlinewidth": 0,
              "ticks": ""
             }
            },
            "type": "scatterpolargl"
           }
          ],
          "scatterternary": [
           {
            "marker": {
             "colorbar": {
              "outlinewidth": 0,
              "ticks": ""
             }
            },
            "type": "scatterternary"
           }
          ],
          "surface": [
           {
            "colorbar": {
             "outlinewidth": 0,
             "ticks": ""
            },
            "colorscale": [
             [
              0,
              "#0d0887"
             ],
             [
              0.1111111111111111,
              "#46039f"
             ],
             [
              0.2222222222222222,
              "#7201a8"
             ],
             [
              0.3333333333333333,
              "#9c179e"
             ],
             [
              0.4444444444444444,
              "#bd3786"
             ],
             [
              0.5555555555555556,
              "#d8576b"
             ],
             [
              0.6666666666666666,
              "#ed7953"
             ],
             [
              0.7777777777777778,
              "#fb9f3a"
             ],
             [
              0.8888888888888888,
              "#fdca26"
             ],
             [
              1,
              "#f0f921"
             ]
            ],
            "type": "surface"
           }
          ],
          "table": [
           {
            "cells": {
             "fill": {
              "color": "#EBF0F8"
             },
             "line": {
              "color": "white"
             }
            },
            "header": {
             "fill": {
              "color": "#C8D4E3"
             },
             "line": {
              "color": "white"
             }
            },
            "type": "table"
           }
          ]
         },
         "layout": {
          "annotationdefaults": {
           "arrowcolor": "#2a3f5f",
           "arrowhead": 0,
           "arrowwidth": 1
          },
          "autotypenumbers": "strict",
          "coloraxis": {
           "colorbar": {
            "outlinewidth": 0,
            "ticks": ""
           }
          },
          "colorscale": {
           "diverging": [
            [
             0,
             "#8e0152"
            ],
            [
             0.1,
             "#c51b7d"
            ],
            [
             0.2,
             "#de77ae"
            ],
            [
             0.3,
             "#f1b6da"
            ],
            [
             0.4,
             "#fde0ef"
            ],
            [
             0.5,
             "#f7f7f7"
            ],
            [
             0.6,
             "#e6f5d0"
            ],
            [
             0.7,
             "#b8e186"
            ],
            [
             0.8,
             "#7fbc41"
            ],
            [
             0.9,
             "#4d9221"
            ],
            [
             1,
             "#276419"
            ]
           ],
           "sequential": [
            [
             0,
             "#0d0887"
            ],
            [
             0.1111111111111111,
             "#46039f"
            ],
            [
             0.2222222222222222,
             "#7201a8"
            ],
            [
             0.3333333333333333,
             "#9c179e"
            ],
            [
             0.4444444444444444,
             "#bd3786"
            ],
            [
             0.5555555555555556,
             "#d8576b"
            ],
            [
             0.6666666666666666,
             "#ed7953"
            ],
            [
             0.7777777777777778,
             "#fb9f3a"
            ],
            [
             0.8888888888888888,
             "#fdca26"
            ],
            [
             1,
             "#f0f921"
            ]
           ],
           "sequentialminus": [
            [
             0,
             "#0d0887"
            ],
            [
             0.1111111111111111,
             "#46039f"
            ],
            [
             0.2222222222222222,
             "#7201a8"
            ],
            [
             0.3333333333333333,
             "#9c179e"
            ],
            [
             0.4444444444444444,
             "#bd3786"
            ],
            [
             0.5555555555555556,
             "#d8576b"
            ],
            [
             0.6666666666666666,
             "#ed7953"
            ],
            [
             0.7777777777777778,
             "#fb9f3a"
            ],
            [
             0.8888888888888888,
             "#fdca26"
            ],
            [
             1,
             "#f0f921"
            ]
           ]
          },
          "colorway": [
           "#636efa",
           "#EF553B",
           "#00cc96",
           "#ab63fa",
           "#FFA15A",
           "#19d3f3",
           "#FF6692",
           "#B6E880",
           "#FF97FF",
           "#FECB52"
          ],
          "font": {
           "color": "#2a3f5f"
          },
          "geo": {
           "bgcolor": "white",
           "lakecolor": "white",
           "landcolor": "#E5ECF6",
           "showlakes": true,
           "showland": true,
           "subunitcolor": "white"
          },
          "hoverlabel": {
           "align": "left"
          },
          "hovermode": "closest",
          "mapbox": {
           "style": "light"
          },
          "paper_bgcolor": "white",
          "plot_bgcolor": "#E5ECF6",
          "polar": {
           "angularaxis": {
            "gridcolor": "white",
            "linecolor": "white",
            "ticks": ""
           },
           "bgcolor": "#E5ECF6",
           "radialaxis": {
            "gridcolor": "white",
            "linecolor": "white",
            "ticks": ""
           }
          },
          "scene": {
           "xaxis": {
            "backgroundcolor": "#E5ECF6",
            "gridcolor": "white",
            "gridwidth": 2,
            "linecolor": "white",
            "showbackground": true,
            "ticks": "",
            "zerolinecolor": "white"
           },
           "yaxis": {
            "backgroundcolor": "#E5ECF6",
            "gridcolor": "white",
            "gridwidth": 2,
            "linecolor": "white",
            "showbackground": true,
            "ticks": "",
            "zerolinecolor": "white"
           },
           "zaxis": {
            "backgroundcolor": "#E5ECF6",
            "gridcolor": "white",
            "gridwidth": 2,
            "linecolor": "white",
            "showbackground": true,
            "ticks": "",
            "zerolinecolor": "white"
           }
          },
          "shapedefaults": {
           "line": {
            "color": "#2a3f5f"
           }
          },
          "ternary": {
           "aaxis": {
            "gridcolor": "white",
            "linecolor": "white",
            "ticks": ""
           },
           "baxis": {
            "gridcolor": "white",
            "linecolor": "white",
            "ticks": ""
           },
           "bgcolor": "#E5ECF6",
           "caxis": {
            "gridcolor": "white",
            "linecolor": "white",
            "ticks": ""
           }
          },
          "title": {
           "x": 0.05
          },
          "xaxis": {
           "automargin": true,
           "gridcolor": "white",
           "linecolor": "white",
           "ticks": "",
           "title": {
            "standoff": 15
           },
           "zerolinecolor": "white",
           "zerolinewidth": 2
          },
          "yaxis": {
           "automargin": true,
           "gridcolor": "white",
           "linecolor": "white",
           "ticks": "",
           "title": {
            "standoff": 15
           },
           "zerolinecolor": "white",
           "zerolinewidth": 2
          }
         }
        },
        "title": {
         "text": "Label: Naganadel"
        },
        "width": 500,
        "xaxis": {
         "anchor": "y",
         "domain": [
          0,
          1
         ],
         "showgrid": false,
         "showticklabels": false,
         "visible": false,
         "zeroline": false
        },
        "yaxis": {
         "anchor": "x",
         "domain": [
          0,
          1
         ],
         "showgrid": false,
         "showticklabels": false,
         "visible": false,
         "zeroline": false
        }
       }
      }
     },
     "metadata": {},
     "output_type": "display_data"
    }
   ],
   "source": [
    "for x, y in train_ds.take(1):\n",
    "    print(int(tf.argmax(tf.reshape(y[0], [-1, 1]), axis=0)))\n",
    "    plot_image(x[0], class_names[int(tf.argmax(tf.reshape(y[0], [-1, 1]), axis=0))], size=width)"
   ]
  },
  {
   "cell_type": "code",
   "execution_count": 10,
   "metadata": {},
   "outputs": [],
   "source": [
    "# map labels in train_ds to the column Label in types\n",
    "def map_labels(x, y):\n",
    "    y_onehot = tf.argmax(y, axis=1).numpy()\n",
    "    y_labels = np.zeros((len(y_onehot), 18))\n",
    "    for i in range(len(y_onehot)):\n",
    "        y_labels[i] = types.loc[y_onehot[i], 'Label']\n",
    "    y_label = np.insert(y_labels, 0, 1, axis=1)\n",
    "    y_label_tensor = tf.convert_to_tensor(y_label, dtype=tf.float32)\n",
    "    return x, y_label_tensor\n",
    "\n"
   ]
  },
  {
   "cell_type": "code",
   "execution_count": 11,
   "metadata": {},
   "outputs": [
    {
     "name": "stdout",
     "output_type": "stream",
     "text": [
      "WARNING:tensorflow:Using a while_loop for converting RngReadAndSkip cause there is no registered converter for this op.\n",
      "WARNING:tensorflow:Using a while_loop for converting Bitcast cause there is no registered converter for this op.\n",
      "WARNING:tensorflow:Using a while_loop for converting Bitcast cause there is no registered converter for this op.\n",
      "WARNING:tensorflow:Using a while_loop for converting StatelessRandomUniformV2 cause there is no registered converter for this op.\n",
      "WARNING:tensorflow:Using a while_loop for converting ImageProjectiveTransformV3 cause there is no registered converter for this op.\n",
      "WARNING:tensorflow:Using a while_loop for converting RngReadAndSkip cause there is no registered converter for this op.\n",
      "WARNING:tensorflow:Using a while_loop for converting Bitcast cause there is no registered converter for this op.\n",
      "WARNING:tensorflow:Using a while_loop for converting Bitcast cause there is no registered converter for this op.\n",
      "WARNING:tensorflow:Using a while_loop for converting StatelessRandomUniformV2 cause there is no registered converter for this op.\n",
      "WARNING:tensorflow:Using a while_loop for converting RngReadAndSkip cause there is no registered converter for this op.\n",
      "WARNING:tensorflow:Using a while_loop for converting Bitcast cause there is no registered converter for this op.\n",
      "WARNING:tensorflow:Using a while_loop for converting Bitcast cause there is no registered converter for this op.\n",
      "WARNING:tensorflow:Using a while_loop for converting StatelessRandomUniformV2 cause there is no registered converter for this op.\n",
      "WARNING:tensorflow:Using a while_loop for converting RngReadAndSkip cause there is no registered converter for this op.\n",
      "WARNING:tensorflow:Using a while_loop for converting Bitcast cause there is no registered converter for this op.\n",
      "WARNING:tensorflow:Using a while_loop for converting Bitcast cause there is no registered converter for this op.\n",
      "WARNING:tensorflow:Using a while_loop for converting StatelessRandomUniformV2 cause there is no registered converter for this op.\n",
      "WARNING:tensorflow:Using a while_loop for converting ImageProjectiveTransformV3 cause there is no registered converter for this op.\n",
      "WARNING:tensorflow:Using a while_loop for converting RngReadAndSkip cause there is no registered converter for this op.\n",
      "WARNING:tensorflow:Using a while_loop for converting Bitcast cause there is no registered converter for this op.\n",
      "WARNING:tensorflow:Using a while_loop for converting Bitcast cause there is no registered converter for this op.\n",
      "WARNING:tensorflow:Using a while_loop for converting StatelessRandomUniformV2 cause there is no registered converter for this op.\n",
      "WARNING:tensorflow:Using a while_loop for converting RngReadAndSkip cause there is no registered converter for this op.\n",
      "WARNING:tensorflow:Using a while_loop for converting Bitcast cause there is no registered converter for this op.\n",
      "WARNING:tensorflow:Using a while_loop for converting Bitcast cause there is no registered converter for this op.\n",
      "WARNING:tensorflow:Using a while_loop for converting StatelessRandomUniformV2 cause there is no registered converter for this op.\n"
     ]
    }
   ],
   "source": [
    "train_ds = prepare(train_ds, shuffle=True, augment=True, GAN=True)\n",
    "train_ds = train_ds.map(lambda x, y: tf.py_function(map_labels, [x, y], [tf.float32, tf.float32]))\n",
    "\n",
    "channels = 3\n",
    "input_shape = (width, height, channels)"
   ]
  },
  {
   "cell_type": "code",
   "execution_count": 12,
   "metadata": {},
   "outputs": [
    {
     "name": "stdout",
     "output_type": "stream",
     "text": [
      "tf.Tensor([1. 0. 0. 0. 0. 0. 0. 0. 0. 0. 0. 0. 0. 0. 1. 0. 0. 0. 0.], shape=(19,), dtype=float32)\n",
      "(96, 96, 3)\n"
     ]
    },
    {
     "data": {
      "application/vnd.plotly.v1+json": {
       "config": {
        "plotlyServerURL": "https://plot.ly"
       },
       "data": [
        {
         "hovertemplate": "x: %{x}<br>y: %{y}<br>color: [%{z[0]}, %{z[1]}, %{z[2]}]<extra></extra>",
         "name": "0",
         "source": "data:image/png;base64,iVBORw0KGgoAAAANSUhEUgAAAGAAAABgCAIAAABt+uBvAAASsklEQVR4Xu2c23Nkx3Hmv8ysOuf0FQ00gMFcOBQpUbzZIfvFEfa+7b7bf+7uk9/sCD/YDK9lB22GKFIUxZnB4NLoRvc5VZWZ+3AwI2ocDkog0IBX/BCIQJwudFf/TlbeqrrJ3XGfVEoBSISJ6M3H7kLhzQt3p/Wm7VIpWesqjka1iLw54i50LwCpWpdyzgpQqKrBsGLmNwfdke7FPFLKFxeXRQ2gzaao3qNVf8eA3L3r8vn5mllEJGc9W6y6Lr857u50x0tss0lnyzXYo3Auum7TbFJX8Y5v27d1x4BWm7RepyoKUEqx9SaPhg3fD/fc624AmXkuJXU5dakUbbvCTCmbOo1HIKJ7EuOxfUBFdblcLxaXYGbA3evIwpaKmVmMvDOphcnd7wkj2lqi6O4pleVl13bJzEWICUSAu7mbuZqrWRQhwmQ8HA6bcA/Sxa1a0MWqXV6mIKiiBCERJqbejsxdzVVN1Uvxs8Xa3KfjocgfDSA1b7OrQZgcBBZiDsLMDIKbq5kWzWxOqgmrdWHuxsNa5C6D2vYAXVzm1UatOACwA+ZO5i5szOTualCDKlRhhnVbRGjQxD8WQASkZDlrMSrmWTiIsZAw9YDcXdWLaimeiuWCvZ0gd11zbA/QsAmzSfXNy9ytNQSKwsLEDJErP2wON1Pzop6L1zEEkT8iJ11FfvpwvFiszrpclDuiKCRMaq7mfURTQ1Ev6kHoYHfQ1K/g3Z22B8gdbZeaaJNaRawKAUxmxkwhhKLWdlrUK/EodLg3PNifxHj3KfX2AJ2dL49PFqWUpmYREnZhIyJmAiyy14HMoAYzbFLatJ3I4G49NLYDyMxW6/TyvDWnqorCJK98MxMTwQE4zF3NzNwMxez58cIdk8mA77TyuHVAqna+XF+sEhNCFYNArtwzMxMRrt68u5mbm5qrOpuX4otlK0FGg/ru+NwyIHdPuVys2pQsCoXAQYiZRFh+F5A73N3M2JzZSB1kWe30fF2KTcZNuKO1druAVO38otWCIMwCZi5ZXz47b5p4+HAWY7wq3B0A2jazsDAAAgyAu5dimzaPhhX+vwR0erZaLjtiEmFmcvOLRWpztViWs/OT997fH0/qdpOf/Xrx9deXZuXh4/HRox0JYgx2iLi7t0lV3cPd1Pe3eFtWl91yo07MTEwQorPT9VdfLb/44tnnn39VjcZV02jx3/zqNKN5/JO3H77zo2fP03pTiIiJmHpHDlX7zYvTy023tcbDt3VbFtSl/OJk0SXEwBICs3dt+vk/fVmNp8++PN4suw8/JoAlUFL5p7//ZHVuH//Fhw+ePhmMmVntVT+IiJg8F247bWoPWy/ub8WC3F2YnQITxxBCrIlkMG5+9pc/Wy1WZUMBg/UypeQnL5aX6zYnShv97Of/8eKb5ykZmJkIrwMdEROn7Ga+fSO6LQtarLIZXeahIg7IKqF//eSLgoFQzRSWm/NffPrZ/iFvlutP//nz0xcLoUHgmlm65IMCAhEFYu40ExKRdal0qQSJW/ZEt2JBbafLy1RULy7aT3+5fnHSqdnRkwfzw/29g71YV/PD+fxgujpbHBzNHj19ZOZa1I2qWH/zq5P1alMMZ6vw/Ey+es5dBhNSKseni5TKmy92y7p5C3L3TVfarrj5sIEI5jsWAyY7jV3IZHc83q3H09Hh472ffjRv6nC6UEi2LKvLU7Ns3dqtCezny/L1MQZVQp8FAC9OV6NhHWPYZv1x84DMvBR1dyLsTiyIh8AEjgGb9boZ1g/fnQ+Gw6c/2hkMQhBO682Hf/bh/oOjvcN5jDQb7zWNu/u7DwsTmgpNddU4bwbjYsEc2yxhbx5QKXq+bIuWIER4nSi7CB9/9dV49+DwcH88lsk4MhPgkxFGP32rHu0QSRNaEX+98J8cmKqreVGAUIWoxrZdN33zuxq//OLZ+apwkBg4COekp6er8bg62J8I8eWybds02xtNp0MJQoC754LUGVyrhonIzKxv4JupXrXQinpWlxCeHk1Gzc3f1/9KN/9KoRn5eqVqTP7JJ19+8o/fpFSOjibv//TBn3x81DSRAg+GNfV9aDVmioGCkLucnV/++uvTX/zi+OtvFnu7g//xl+9NdwZmDjO4w5E6s+0ebbhhQGouArhpKUw8m42Hg0FJ3fHztLp49vP/+7Lt0t5e9c47h8tl+/zFyccfHR09mJ+fd5//8vjTz77s2hQklsLC1ckxPvooD8e19RseBje4o0s2bHxr20E3DGjT5mfHq3WbhJzIJ+Mg4mbGLG2rKRmBXh6X05ffmJs7/v7vXjKdOFBKCZjFIQHwyt285HLycjmf1yJUtN9WJGLLWsyjYEuArhkvzX3d+mrjqgCQi6u6uzdVCMxuZqaqOh7Hv/6b9//0Z4fmm5Q6U1PTUjSr9r5PVUspqorenTvc3MyX69XDJ/XRwxEzSlFVVTUzKyVfLNel6O9O5xZ1XQtyfPZVu2nlaD+IUEo6aoiFLparnFNggxuBCC7Cf/VXb+3tirvA8W+f/sYtPHq02242n39x7Bp2ppOUrBRz9yry/GB0cDia7T45OhpNJvUVaXNzmDNAcHudGW1B14xi7v63/3D66+daVfLowXA8rAgkAoIZKHcL6DJwqaIEEREm5iDi7iLCTABWq7ZLZToZPHu2+t//598X53k6DX/z1x8dPZw6/MpeVEvRPpARAA7E9c6kHg7q0SAw8WpdBg03NfOt1R/XtCAimk3jl8+6s0VuO1S1DptYV2Tm6jQaTKfD2FTLKhgzUd/xYBCRMPo/5ntDIiIiYfrg/dlkMnryeHp4OImRzCBMZszkBDdE5gG4CSHGQIay6eh0SacLa7vu3cfycL/mcM8AAdjfDZMx2tbaLhU1d2w6djd3L4rxQJsmVvLbLldvqO5uBmYAROTuPhiE//U/fwrQq5FOjP7/CFxMNrnZpMYRBjWqgE3rp+frs4vcZTyYM6G+6kjejq4PaD6Ljw/C2Xlp2wxAey/tDth7j31/asJX234OmIHgDhCI+LdHpBwAgUX6B4kA7y8SOQiUNJ5fVqs13NUdZr7ebNpNK0FirNw9ZbvV3PqagNydgYNZbKq03mgppeu6GCOY3n/qe1PEKH1Tx9zNrG9+vdrquQLUX+yxOuDucBBT790dIMKgtjrms0y5kLuXUtq2JaLRaJhTNxxpl2l1KTuT5pYq2GsCAnB81rZdeXBQZc2rVW7b1uBPHsSDGdWRQxAmcneYGxxwZmK+2szgfj+Mrhaeubtf9cNegQMAJhoP/K1DOz6xZWs9IGY52BuYc8oyDCqw0/NLEZqMar6Fkw7XBEREdcUO7IxhD+S4hmWbTfzxPkYNC4twX1W5Q90BkIOTVo24CHq3feVygK6DsILMHQTq24gAwExmO0P78WP/7Fd6sigicWc6rKrQJbz7yGdjJ/KiaDsdDvwW+FwXEICmDg6Gl/0pHs9DFSgGrioSIfQOxKHmasgKItYSRaI6mZfAvb8BADM5ucCowaByoE86ekAEAoMcdLSPTXZIZS5NQ8V02GjfKnKHGtZt2VGP1383/6Wu/5R1JURcDP0Zlf7XHX1pSeTmKGo5mzuKR/U6BILDjJUMABHM2Yzc8XIhk6GPGhd2s96Zg/pBIGF6tM8PZppKOVlx1/kgGsGKkTDMsW6L3o6vvj6gppIQxJyLemH051eIAJgZgrG5q1opdtlVm45D0DCRyNQVhnoTEZjNWQ1VwNmSzaQK6mLuJn7lT9zdDOaIQuSA+/64lIGV4l2hvjFXlB7uDeoovQt7Y57fU9cHRETDmmOAKrISvS6kjMRQ1N1hZkUdSIvl5uQcVZRczIAfP23eOpSU9F8+27QJR/vNqmV1HdQ6qk3ZRZz7fpq7X50882JQhznUqBhAMCcryA4w31L1en1AAGZj2XThdFmyAoBdndCAaB/X0Wcu7jYZ4myhL05yVdGff9DMd9SKmyErjk+749Pu4KCe75CppwxmYnWmq9ypD3BqrtqfsEJRSop+ObtjNAxNlH6D6HcneAP6XoB2Jk2Moa7a56c5FTOHGoRd+CqgvHZJMeLp4ziZ2LBGFbzLRmQEvPcW5URdCYe7tDt2uHUZTFd1Sf8q7rArRugZ5YK+nldDDDwbV8NBuAU4QJ+nvXntD5G7p6yni/WXz3PKHhjS+yN2AhxwJzNnRhByUD+gv9kEgNBmASGQupl778h+awp9YHP3HrQZcr/WDIAHor2d6kePRoP6tk4z3gAgAGb+z5+3J4s2kAqDr4JP77PhDgKYr0zjyp1f/aB/fUfPB308BECvDla5v7JERzHvsi87G0QRlD97b7a30/RMfzunG9X3WmLA1cyYMW7q43NbbIqQVpUzedeW9bpsWqsi786qGCkGyFWp4b359Jm0w3sKAAAj6hM+74cYrlrSPaOTta0S/vSweXu/2pnEW6WD7w+oFxG9/YAI1ae/5JPzzWa9btucs7qbsEiQl+c6nlSzSdUMqQlOTkROvQ8GiKgKoalCkMASLjtarze5tP0ZczUUQ1KsOpQuFpVHh/HJ/mBvKv1qfXM2N6qbAQSgivToIHZZOrWuK2a5jz5ELqAgder4AjFbSDGa+7BOTYW6Dk0VmkqEKSsuN7AMM6gNs8ZUXEvoNBmSqpcMU9+fhZ88rPbGvAU6uEFARDSs/aN3+KIb5sIxxPPz85xzjFFEiCiGyMy5g2aNMRQZFaHKoYouQZiKIgYf1MgZZuSougx1c2W3Gm7s9mDOf/FxM5syvVrdt60bAwSgDz4HMz85gWs1n89zyX3u2A8wMzPrz7RsQH2P2WsEQVe8SyDCxSWWl96Hs1K85GJmdR3qht85osf7Mh6+rnO3oZsE1OtgivO5dB2qKMNBs+m86/rKi/oOvLuXUswMCEQBoOUaRaFqgKmi7TIAkSDCEoJ2ejDjgwN6a5+G1fbQ9Lp5QKOaDnfl+JSmo/DjJ7Rs8ZtjOz3Xot9qv14lB+iSqYq5lWJm3keu3nxA6oCqHx2E99/mvSn1HbHtrKzXunlAQTDf4emI3nmMw10cAOuW2hRUsdkUETKDmfXv08yzW9/Jdr862cpEEmQ+Iw6UM731gHbGtB2X/J9184AAjBp6dGDjARGDgSrCzNYba9tOtbg7Edd1zUxBuIrEJClbl1zN3S0XjdCdcf3kkINgMqQod0MHtwGofydPj4QJfayZDjGo6HLtpZT1ek1ETdOYmTDGQx4PUUdcbmSx4stNztlKKTFg1FSzcY/mzujgNgD1+ra/qKI7a9GSUupb7iGEyWRcV6GpMawhjA0jvKo3VZWc9yZU3dbs/gDdQhcXQB/yX932QeWOtNmsF4vFarXKOfeb7avLbtMaM4hghlzc3Luua9vNR+/GnbG88Tx3om3co9GAJyNq21XXdf0VM/vyy19Np+OmmbddzYwuo0vatl1KSUIoLt+viL4x3ZYFfVsE7A5pWLn71amM09Oz0Wj04HAfkLNlXm08ZS9Fc87u/vSo+tHDqq7u2HZ6bQUQ0WjIO3t1rARASqmuq9lsJhL7OiNllGJd1+WczQoExHePptc2lhiAQS2TcaiitJsCYDqd1lXFTMyB2U7P112ylHJKicjeezKYDG+rAfaHahsWBGBYydFeU0UupVRVNRgMWEQEzAiB2zaVoszs7kf7zWR0W/3Ta2hLgKpAHzyd7IyYmQaDwes94hBAoOl0MhwOSilwzHfisOF7s8K2BYiIhGlnzLPZOMTQl/VmVy1XFulj/3QS93djU21pVr+PtjcVInp4OIkMLaqqfvXxVBgcDiIqpTQ1jg6auuJ74oCwTUAADubDGKjPEt28P20Gh5m3bctMk3EV79P3c2HbgPaaquLNZpNSsr5qFwBYrlZdl9z8/bdH01G4P+aDLQMaDcLOpMqp7brOzIq6Gdq2K7l0XTcaMhHdkwT6tbYKiIjms3rQRADuroZSkLI6wMyHM97flbDNj/L8HtoqIADz3Xo4qMxcVQmeiznEHfNZ/cFPpuPh/VpfuANAs7qKklJ3cnKSUlJzd+Scl5vU1P3Hf+6X7gBQ04R+YwOEKoq7qeqffzDZncY3R98DbRtQXfF8t6mrICIEBdxUY+S6kvuTPX9b2wZERHuzqm6EmUpxLaZm850wn1Uh3KP88LW2DQjAfLeuawaRg9Q0sD0+rPamd/XtJd+hO5jU3jTWDZmpiJiRuT1+UA+b+9LfeEN3AWineufJKASro6XUVtG29vHBa2hLDbNviwk/fjw6PXV1gtuH7wz3duK9tB7gTiyIiMaD8PBwYI75vNqZhrvaNf19dAcWBGDYyJPDyjzt74YHe/Ee5oev9X3PKF5P7l4UbbKmoiB0b80HdwUIrw549PoB0H9j3YGT/u+lHwB9h34A9B36AdB36AdA36EfAH2H/h8Td24YFBkE5QAAAABJRU5ErkJggg==",
         "type": "image",
         "xaxis": "x",
         "yaxis": "y"
        }
       ],
       "layout": {
        "height": 350,
        "margin": {
         "l": 0,
         "t": 60
        },
        "shapes": [
         {
          "line": {
           "color": "black",
           "width": 2
          },
          "type": "rect",
          "x0": 0,
          "x1": 96,
          "xref": "x",
          "y0": 0,
          "y1": 96,
          "yref": "y"
         }
        ],
        "template": {
         "data": {
          "bar": [
           {
            "error_x": {
             "color": "#2a3f5f"
            },
            "error_y": {
             "color": "#2a3f5f"
            },
            "marker": {
             "line": {
              "color": "#E5ECF6",
              "width": 0.5
             },
             "pattern": {
              "fillmode": "overlay",
              "size": 10,
              "solidity": 0.2
             }
            },
            "type": "bar"
           }
          ],
          "barpolar": [
           {
            "marker": {
             "line": {
              "color": "#E5ECF6",
              "width": 0.5
             },
             "pattern": {
              "fillmode": "overlay",
              "size": 10,
              "solidity": 0.2
             }
            },
            "type": "barpolar"
           }
          ],
          "carpet": [
           {
            "aaxis": {
             "endlinecolor": "#2a3f5f",
             "gridcolor": "white",
             "linecolor": "white",
             "minorgridcolor": "white",
             "startlinecolor": "#2a3f5f"
            },
            "baxis": {
             "endlinecolor": "#2a3f5f",
             "gridcolor": "white",
             "linecolor": "white",
             "minorgridcolor": "white",
             "startlinecolor": "#2a3f5f"
            },
            "type": "carpet"
           }
          ],
          "choropleth": [
           {
            "colorbar": {
             "outlinewidth": 0,
             "ticks": ""
            },
            "type": "choropleth"
           }
          ],
          "contour": [
           {
            "colorbar": {
             "outlinewidth": 0,
             "ticks": ""
            },
            "colorscale": [
             [
              0,
              "#0d0887"
             ],
             [
              0.1111111111111111,
              "#46039f"
             ],
             [
              0.2222222222222222,
              "#7201a8"
             ],
             [
              0.3333333333333333,
              "#9c179e"
             ],
             [
              0.4444444444444444,
              "#bd3786"
             ],
             [
              0.5555555555555556,
              "#d8576b"
             ],
             [
              0.6666666666666666,
              "#ed7953"
             ],
             [
              0.7777777777777778,
              "#fb9f3a"
             ],
             [
              0.8888888888888888,
              "#fdca26"
             ],
             [
              1,
              "#f0f921"
             ]
            ],
            "type": "contour"
           }
          ],
          "contourcarpet": [
           {
            "colorbar": {
             "outlinewidth": 0,
             "ticks": ""
            },
            "type": "contourcarpet"
           }
          ],
          "heatmap": [
           {
            "colorbar": {
             "outlinewidth": 0,
             "ticks": ""
            },
            "colorscale": [
             [
              0,
              "#0d0887"
             ],
             [
              0.1111111111111111,
              "#46039f"
             ],
             [
              0.2222222222222222,
              "#7201a8"
             ],
             [
              0.3333333333333333,
              "#9c179e"
             ],
             [
              0.4444444444444444,
              "#bd3786"
             ],
             [
              0.5555555555555556,
              "#d8576b"
             ],
             [
              0.6666666666666666,
              "#ed7953"
             ],
             [
              0.7777777777777778,
              "#fb9f3a"
             ],
             [
              0.8888888888888888,
              "#fdca26"
             ],
             [
              1,
              "#f0f921"
             ]
            ],
            "type": "heatmap"
           }
          ],
          "heatmapgl": [
           {
            "colorbar": {
             "outlinewidth": 0,
             "ticks": ""
            },
            "colorscale": [
             [
              0,
              "#0d0887"
             ],
             [
              0.1111111111111111,
              "#46039f"
             ],
             [
              0.2222222222222222,
              "#7201a8"
             ],
             [
              0.3333333333333333,
              "#9c179e"
             ],
             [
              0.4444444444444444,
              "#bd3786"
             ],
             [
              0.5555555555555556,
              "#d8576b"
             ],
             [
              0.6666666666666666,
              "#ed7953"
             ],
             [
              0.7777777777777778,
              "#fb9f3a"
             ],
             [
              0.8888888888888888,
              "#fdca26"
             ],
             [
              1,
              "#f0f921"
             ]
            ],
            "type": "heatmapgl"
           }
          ],
          "histogram": [
           {
            "marker": {
             "pattern": {
              "fillmode": "overlay",
              "size": 10,
              "solidity": 0.2
             }
            },
            "type": "histogram"
           }
          ],
          "histogram2d": [
           {
            "colorbar": {
             "outlinewidth": 0,
             "ticks": ""
            },
            "colorscale": [
             [
              0,
              "#0d0887"
             ],
             [
              0.1111111111111111,
              "#46039f"
             ],
             [
              0.2222222222222222,
              "#7201a8"
             ],
             [
              0.3333333333333333,
              "#9c179e"
             ],
             [
              0.4444444444444444,
              "#bd3786"
             ],
             [
              0.5555555555555556,
              "#d8576b"
             ],
             [
              0.6666666666666666,
              "#ed7953"
             ],
             [
              0.7777777777777778,
              "#fb9f3a"
             ],
             [
              0.8888888888888888,
              "#fdca26"
             ],
             [
              1,
              "#f0f921"
             ]
            ],
            "type": "histogram2d"
           }
          ],
          "histogram2dcontour": [
           {
            "colorbar": {
             "outlinewidth": 0,
             "ticks": ""
            },
            "colorscale": [
             [
              0,
              "#0d0887"
             ],
             [
              0.1111111111111111,
              "#46039f"
             ],
             [
              0.2222222222222222,
              "#7201a8"
             ],
             [
              0.3333333333333333,
              "#9c179e"
             ],
             [
              0.4444444444444444,
              "#bd3786"
             ],
             [
              0.5555555555555556,
              "#d8576b"
             ],
             [
              0.6666666666666666,
              "#ed7953"
             ],
             [
              0.7777777777777778,
              "#fb9f3a"
             ],
             [
              0.8888888888888888,
              "#fdca26"
             ],
             [
              1,
              "#f0f921"
             ]
            ],
            "type": "histogram2dcontour"
           }
          ],
          "mesh3d": [
           {
            "colorbar": {
             "outlinewidth": 0,
             "ticks": ""
            },
            "type": "mesh3d"
           }
          ],
          "parcoords": [
           {
            "line": {
             "colorbar": {
              "outlinewidth": 0,
              "ticks": ""
             }
            },
            "type": "parcoords"
           }
          ],
          "pie": [
           {
            "automargin": true,
            "type": "pie"
           }
          ],
          "scatter": [
           {
            "fillpattern": {
             "fillmode": "overlay",
             "size": 10,
             "solidity": 0.2
            },
            "type": "scatter"
           }
          ],
          "scatter3d": [
           {
            "line": {
             "colorbar": {
              "outlinewidth": 0,
              "ticks": ""
             }
            },
            "marker": {
             "colorbar": {
              "outlinewidth": 0,
              "ticks": ""
             }
            },
            "type": "scatter3d"
           }
          ],
          "scattercarpet": [
           {
            "marker": {
             "colorbar": {
              "outlinewidth": 0,
              "ticks": ""
             }
            },
            "type": "scattercarpet"
           }
          ],
          "scattergeo": [
           {
            "marker": {
             "colorbar": {
              "outlinewidth": 0,
              "ticks": ""
             }
            },
            "type": "scattergeo"
           }
          ],
          "scattergl": [
           {
            "marker": {
             "colorbar": {
              "outlinewidth": 0,
              "ticks": ""
             }
            },
            "type": "scattergl"
           }
          ],
          "scattermapbox": [
           {
            "marker": {
             "colorbar": {
              "outlinewidth": 0,
              "ticks": ""
             }
            },
            "type": "scattermapbox"
           }
          ],
          "scatterpolar": [
           {
            "marker": {
             "colorbar": {
              "outlinewidth": 0,
              "ticks": ""
             }
            },
            "type": "scatterpolar"
           }
          ],
          "scatterpolargl": [
           {
            "marker": {
             "colorbar": {
              "outlinewidth": 0,
              "ticks": ""
             }
            },
            "type": "scatterpolargl"
           }
          ],
          "scatterternary": [
           {
            "marker": {
             "colorbar": {
              "outlinewidth": 0,
              "ticks": ""
             }
            },
            "type": "scatterternary"
           }
          ],
          "surface": [
           {
            "colorbar": {
             "outlinewidth": 0,
             "ticks": ""
            },
            "colorscale": [
             [
              0,
              "#0d0887"
             ],
             [
              0.1111111111111111,
              "#46039f"
             ],
             [
              0.2222222222222222,
              "#7201a8"
             ],
             [
              0.3333333333333333,
              "#9c179e"
             ],
             [
              0.4444444444444444,
              "#bd3786"
             ],
             [
              0.5555555555555556,
              "#d8576b"
             ],
             [
              0.6666666666666666,
              "#ed7953"
             ],
             [
              0.7777777777777778,
              "#fb9f3a"
             ],
             [
              0.8888888888888888,
              "#fdca26"
             ],
             [
              1,
              "#f0f921"
             ]
            ],
            "type": "surface"
           }
          ],
          "table": [
           {
            "cells": {
             "fill": {
              "color": "#EBF0F8"
             },
             "line": {
              "color": "white"
             }
            },
            "header": {
             "fill": {
              "color": "#C8D4E3"
             },
             "line": {
              "color": "white"
             }
            },
            "type": "table"
           }
          ]
         },
         "layout": {
          "annotationdefaults": {
           "arrowcolor": "#2a3f5f",
           "arrowhead": 0,
           "arrowwidth": 1
          },
          "autotypenumbers": "strict",
          "coloraxis": {
           "colorbar": {
            "outlinewidth": 0,
            "ticks": ""
           }
          },
          "colorscale": {
           "diverging": [
            [
             0,
             "#8e0152"
            ],
            [
             0.1,
             "#c51b7d"
            ],
            [
             0.2,
             "#de77ae"
            ],
            [
             0.3,
             "#f1b6da"
            ],
            [
             0.4,
             "#fde0ef"
            ],
            [
             0.5,
             "#f7f7f7"
            ],
            [
             0.6,
             "#e6f5d0"
            ],
            [
             0.7,
             "#b8e186"
            ],
            [
             0.8,
             "#7fbc41"
            ],
            [
             0.9,
             "#4d9221"
            ],
            [
             1,
             "#276419"
            ]
           ],
           "sequential": [
            [
             0,
             "#0d0887"
            ],
            [
             0.1111111111111111,
             "#46039f"
            ],
            [
             0.2222222222222222,
             "#7201a8"
            ],
            [
             0.3333333333333333,
             "#9c179e"
            ],
            [
             0.4444444444444444,
             "#bd3786"
            ],
            [
             0.5555555555555556,
             "#d8576b"
            ],
            [
             0.6666666666666666,
             "#ed7953"
            ],
            [
             0.7777777777777778,
             "#fb9f3a"
            ],
            [
             0.8888888888888888,
             "#fdca26"
            ],
            [
             1,
             "#f0f921"
            ]
           ],
           "sequentialminus": [
            [
             0,
             "#0d0887"
            ],
            [
             0.1111111111111111,
             "#46039f"
            ],
            [
             0.2222222222222222,
             "#7201a8"
            ],
            [
             0.3333333333333333,
             "#9c179e"
            ],
            [
             0.4444444444444444,
             "#bd3786"
            ],
            [
             0.5555555555555556,
             "#d8576b"
            ],
            [
             0.6666666666666666,
             "#ed7953"
            ],
            [
             0.7777777777777778,
             "#fb9f3a"
            ],
            [
             0.8888888888888888,
             "#fdca26"
            ],
            [
             1,
             "#f0f921"
            ]
           ]
          },
          "colorway": [
           "#636efa",
           "#EF553B",
           "#00cc96",
           "#ab63fa",
           "#FFA15A",
           "#19d3f3",
           "#FF6692",
           "#B6E880",
           "#FF97FF",
           "#FECB52"
          ],
          "font": {
           "color": "#2a3f5f"
          },
          "geo": {
           "bgcolor": "white",
           "lakecolor": "white",
           "landcolor": "#E5ECF6",
           "showlakes": true,
           "showland": true,
           "subunitcolor": "white"
          },
          "hoverlabel": {
           "align": "left"
          },
          "hovermode": "closest",
          "mapbox": {
           "style": "light"
          },
          "paper_bgcolor": "white",
          "plot_bgcolor": "#E5ECF6",
          "polar": {
           "angularaxis": {
            "gridcolor": "white",
            "linecolor": "white",
            "ticks": ""
           },
           "bgcolor": "#E5ECF6",
           "radialaxis": {
            "gridcolor": "white",
            "linecolor": "white",
            "ticks": ""
           }
          },
          "scene": {
           "xaxis": {
            "backgroundcolor": "#E5ECF6",
            "gridcolor": "white",
            "gridwidth": 2,
            "linecolor": "white",
            "showbackground": true,
            "ticks": "",
            "zerolinecolor": "white"
           },
           "yaxis": {
            "backgroundcolor": "#E5ECF6",
            "gridcolor": "white",
            "gridwidth": 2,
            "linecolor": "white",
            "showbackground": true,
            "ticks": "",
            "zerolinecolor": "white"
           },
           "zaxis": {
            "backgroundcolor": "#E5ECF6",
            "gridcolor": "white",
            "gridwidth": 2,
            "linecolor": "white",
            "showbackground": true,
            "ticks": "",
            "zerolinecolor": "white"
           }
          },
          "shapedefaults": {
           "line": {
            "color": "#2a3f5f"
           }
          },
          "ternary": {
           "aaxis": {
            "gridcolor": "white",
            "linecolor": "white",
            "ticks": ""
           },
           "baxis": {
            "gridcolor": "white",
            "linecolor": "white",
            "ticks": ""
           },
           "bgcolor": "#E5ECF6",
           "caxis": {
            "gridcolor": "white",
            "linecolor": "white",
            "ticks": ""
           }
          },
          "title": {
           "x": 0.05
          },
          "xaxis": {
           "automargin": true,
           "gridcolor": "white",
           "linecolor": "white",
           "ticks": "",
           "title": {
            "standoff": 15
           },
           "zerolinecolor": "white",
           "zerolinewidth": 2
          },
          "yaxis": {
           "automargin": true,
           "gridcolor": "white",
           "linecolor": "white",
           "ticks": "",
           "title": {
            "standoff": 15
           },
           "zerolinecolor": "white",
           "zerolinewidth": 2
          }
         }
        },
        "title": {
         "text": "Label: Abomasnow"
        },
        "width": 500,
        "xaxis": {
         "anchor": "y",
         "domain": [
          0,
          1
         ],
         "showgrid": false,
         "showticklabels": false,
         "visible": false,
         "zeroline": false
        },
        "yaxis": {
         "anchor": "x",
         "domain": [
          0,
          1
         ],
         "showgrid": false,
         "showticklabels": false,
         "visible": false,
         "zeroline": false
        }
       }
      }
     },
     "metadata": {},
     "output_type": "display_data"
    },
    {
     "name": "stdout",
     "output_type": "stream",
     "text": [
      "tf.Tensor([1. 1. 0. 0. 0. 0. 0. 0. 0. 0. 0. 0. 0. 0. 0. 0. 0. 0. 0.], shape=(19,), dtype=float32)\n",
      "(96, 96, 3)\n"
     ]
    },
    {
     "data": {
      "application/vnd.plotly.v1+json": {
       "config": {
        "plotlyServerURL": "https://plot.ly"
       },
       "data": [
        {
         "hovertemplate": "x: %{x}<br>y: %{y}<br>color: [%{z[0]}, %{z[1]}, %{z[2]}]<extra></extra>",
         "name": "0",
         "source": "data:image/png;base64,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",
         "type": "image",
         "xaxis": "x",
         "yaxis": "y"
        }
       ],
       "layout": {
        "height": 350,
        "margin": {
         "l": 0,
         "t": 60
        },
        "shapes": [
         {
          "line": {
           "color": "black",
           "width": 2
          },
          "type": "rect",
          "x0": 0,
          "x1": 96,
          "xref": "x",
          "y0": 0,
          "y1": 96,
          "yref": "y"
         }
        ],
        "template": {
         "data": {
          "bar": [
           {
            "error_x": {
             "color": "#2a3f5f"
            },
            "error_y": {
             "color": "#2a3f5f"
            },
            "marker": {
             "line": {
              "color": "#E5ECF6",
              "width": 0.5
             },
             "pattern": {
              "fillmode": "overlay",
              "size": 10,
              "solidity": 0.2
             }
            },
            "type": "bar"
           }
          ],
          "barpolar": [
           {
            "marker": {
             "line": {
              "color": "#E5ECF6",
              "width": 0.5
             },
             "pattern": {
              "fillmode": "overlay",
              "size": 10,
              "solidity": 0.2
             }
            },
            "type": "barpolar"
           }
          ],
          "carpet": [
           {
            "aaxis": {
             "endlinecolor": "#2a3f5f",
             "gridcolor": "white",
             "linecolor": "white",
             "minorgridcolor": "white",
             "startlinecolor": "#2a3f5f"
            },
            "baxis": {
             "endlinecolor": "#2a3f5f",
             "gridcolor": "white",
             "linecolor": "white",
             "minorgridcolor": "white",
             "startlinecolor": "#2a3f5f"
            },
            "type": "carpet"
           }
          ],
          "choropleth": [
           {
            "colorbar": {
             "outlinewidth": 0,
             "ticks": ""
            },
            "type": "choropleth"
           }
          ],
          "contour": [
           {
            "colorbar": {
             "outlinewidth": 0,
             "ticks": ""
            },
            "colorscale": [
             [
              0,
              "#0d0887"
             ],
             [
              0.1111111111111111,
              "#46039f"
             ],
             [
              0.2222222222222222,
              "#7201a8"
             ],
             [
              0.3333333333333333,
              "#9c179e"
             ],
             [
              0.4444444444444444,
              "#bd3786"
             ],
             [
              0.5555555555555556,
              "#d8576b"
             ],
             [
              0.6666666666666666,
              "#ed7953"
             ],
             [
              0.7777777777777778,
              "#fb9f3a"
             ],
             [
              0.8888888888888888,
              "#fdca26"
             ],
             [
              1,
              "#f0f921"
             ]
            ],
            "type": "contour"
           }
          ],
          "contourcarpet": [
           {
            "colorbar": {
             "outlinewidth": 0,
             "ticks": ""
            },
            "type": "contourcarpet"
           }
          ],
          "heatmap": [
           {
            "colorbar": {
             "outlinewidth": 0,
             "ticks": ""
            },
            "colorscale": [
             [
              0,
              "#0d0887"
             ],
             [
              0.1111111111111111,
              "#46039f"
             ],
             [
              0.2222222222222222,
              "#7201a8"
             ],
             [
              0.3333333333333333,
              "#9c179e"
             ],
             [
              0.4444444444444444,
              "#bd3786"
             ],
             [
              0.5555555555555556,
              "#d8576b"
             ],
             [
              0.6666666666666666,
              "#ed7953"
             ],
             [
              0.7777777777777778,
              "#fb9f3a"
             ],
             [
              0.8888888888888888,
              "#fdca26"
             ],
             [
              1,
              "#f0f921"
             ]
            ],
            "type": "heatmap"
           }
          ],
          "heatmapgl": [
           {
            "colorbar": {
             "outlinewidth": 0,
             "ticks": ""
            },
            "colorscale": [
             [
              0,
              "#0d0887"
             ],
             [
              0.1111111111111111,
              "#46039f"
             ],
             [
              0.2222222222222222,
              "#7201a8"
             ],
             [
              0.3333333333333333,
              "#9c179e"
             ],
             [
              0.4444444444444444,
              "#bd3786"
             ],
             [
              0.5555555555555556,
              "#d8576b"
             ],
             [
              0.6666666666666666,
              "#ed7953"
             ],
             [
              0.7777777777777778,
              "#fb9f3a"
             ],
             [
              0.8888888888888888,
              "#fdca26"
             ],
             [
              1,
              "#f0f921"
             ]
            ],
            "type": "heatmapgl"
           }
          ],
          "histogram": [
           {
            "marker": {
             "pattern": {
              "fillmode": "overlay",
              "size": 10,
              "solidity": 0.2
             }
            },
            "type": "histogram"
           }
          ],
          "histogram2d": [
           {
            "colorbar": {
             "outlinewidth": 0,
             "ticks": ""
            },
            "colorscale": [
             [
              0,
              "#0d0887"
             ],
             [
              0.1111111111111111,
              "#46039f"
             ],
             [
              0.2222222222222222,
              "#7201a8"
             ],
             [
              0.3333333333333333,
              "#9c179e"
             ],
             [
              0.4444444444444444,
              "#bd3786"
             ],
             [
              0.5555555555555556,
              "#d8576b"
             ],
             [
              0.6666666666666666,
              "#ed7953"
             ],
             [
              0.7777777777777778,
              "#fb9f3a"
             ],
             [
              0.8888888888888888,
              "#fdca26"
             ],
             [
              1,
              "#f0f921"
             ]
            ],
            "type": "histogram2d"
           }
          ],
          "histogram2dcontour": [
           {
            "colorbar": {
             "outlinewidth": 0,
             "ticks": ""
            },
            "colorscale": [
             [
              0,
              "#0d0887"
             ],
             [
              0.1111111111111111,
              "#46039f"
             ],
             [
              0.2222222222222222,
              "#7201a8"
             ],
             [
              0.3333333333333333,
              "#9c179e"
             ],
             [
              0.4444444444444444,
              "#bd3786"
             ],
             [
              0.5555555555555556,
              "#d8576b"
             ],
             [
              0.6666666666666666,
              "#ed7953"
             ],
             [
              0.7777777777777778,
              "#fb9f3a"
             ],
             [
              0.8888888888888888,
              "#fdca26"
             ],
             [
              1,
              "#f0f921"
             ]
            ],
            "type": "histogram2dcontour"
           }
          ],
          "mesh3d": [
           {
            "colorbar": {
             "outlinewidth": 0,
             "ticks": ""
            },
            "type": "mesh3d"
           }
          ],
          "parcoords": [
           {
            "line": {
             "colorbar": {
              "outlinewidth": 0,
              "ticks": ""
             }
            },
            "type": "parcoords"
           }
          ],
          "pie": [
           {
            "automargin": true,
            "type": "pie"
           }
          ],
          "scatter": [
           {
            "fillpattern": {
             "fillmode": "overlay",
             "size": 10,
             "solidity": 0.2
            },
            "type": "scatter"
           }
          ],
          "scatter3d": [
           {
            "line": {
             "colorbar": {
              "outlinewidth": 0,
              "ticks": ""
             }
            },
            "marker": {
             "colorbar": {
              "outlinewidth": 0,
              "ticks": ""
             }
            },
            "type": "scatter3d"
           }
          ],
          "scattercarpet": [
           {
            "marker": {
             "colorbar": {
              "outlinewidth": 0,
              "ticks": ""
             }
            },
            "type": "scattercarpet"
           }
          ],
          "scattergeo": [
           {
            "marker": {
             "colorbar": {
              "outlinewidth": 0,
              "ticks": ""
             }
            },
            "type": "scattergeo"
           }
          ],
          "scattergl": [
           {
            "marker": {
             "colorbar": {
              "outlinewidth": 0,
              "ticks": ""
             }
            },
            "type": "scattergl"
           }
          ],
          "scattermapbox": [
           {
            "marker": {
             "colorbar": {
              "outlinewidth": 0,
              "ticks": ""
             }
            },
            "type": "scattermapbox"
           }
          ],
          "scatterpolar": [
           {
            "marker": {
             "colorbar": {
              "outlinewidth": 0,
              "ticks": ""
             }
            },
            "type": "scatterpolar"
           }
          ],
          "scatterpolargl": [
           {
            "marker": {
             "colorbar": {
              "outlinewidth": 0,
              "ticks": ""
             }
            },
            "type": "scatterpolargl"
           }
          ],
          "scatterternary": [
           {
            "marker": {
             "colorbar": {
              "outlinewidth": 0,
              "ticks": ""
             }
            },
            "type": "scatterternary"
           }
          ],
          "surface": [
           {
            "colorbar": {
             "outlinewidth": 0,
             "ticks": ""
            },
            "colorscale": [
             [
              0,
              "#0d0887"
             ],
             [
              0.1111111111111111,
              "#46039f"
             ],
             [
              0.2222222222222222,
              "#7201a8"
             ],
             [
              0.3333333333333333,
              "#9c179e"
             ],
             [
              0.4444444444444444,
              "#bd3786"
             ],
             [
              0.5555555555555556,
              "#d8576b"
             ],
             [
              0.6666666666666666,
              "#ed7953"
             ],
             [
              0.7777777777777778,
              "#fb9f3a"
             ],
             [
              0.8888888888888888,
              "#fdca26"
             ],
             [
              1,
              "#f0f921"
             ]
            ],
            "type": "surface"
           }
          ],
          "table": [
           {
            "cells": {
             "fill": {
              "color": "#EBF0F8"
             },
             "line": {
              "color": "white"
             }
            },
            "header": {
             "fill": {
              "color": "#C8D4E3"
             },
             "line": {
              "color": "white"
             }
            },
            "type": "table"
           }
          ]
         },
         "layout": {
          "annotationdefaults": {
           "arrowcolor": "#2a3f5f",
           "arrowhead": 0,
           "arrowwidth": 1
          },
          "autotypenumbers": "strict",
          "coloraxis": {
           "colorbar": {
            "outlinewidth": 0,
            "ticks": ""
           }
          },
          "colorscale": {
           "diverging": [
            [
             0,
             "#8e0152"
            ],
            [
             0.1,
             "#c51b7d"
            ],
            [
             0.2,
             "#de77ae"
            ],
            [
             0.3,
             "#f1b6da"
            ],
            [
             0.4,
             "#fde0ef"
            ],
            [
             0.5,
             "#f7f7f7"
            ],
            [
             0.6,
             "#e6f5d0"
            ],
            [
             0.7,
             "#b8e186"
            ],
            [
             0.8,
             "#7fbc41"
            ],
            [
             0.9,
             "#4d9221"
            ],
            [
             1,
             "#276419"
            ]
           ],
           "sequential": [
            [
             0,
             "#0d0887"
            ],
            [
             0.1111111111111111,
             "#46039f"
            ],
            [
             0.2222222222222222,
             "#7201a8"
            ],
            [
             0.3333333333333333,
             "#9c179e"
            ],
            [
             0.4444444444444444,
             "#bd3786"
            ],
            [
             0.5555555555555556,
             "#d8576b"
            ],
            [
             0.6666666666666666,
             "#ed7953"
            ],
            [
             0.7777777777777778,
             "#fb9f3a"
            ],
            [
             0.8888888888888888,
             "#fdca26"
            ],
            [
             1,
             "#f0f921"
            ]
           ],
           "sequentialminus": [
            [
             0,
             "#0d0887"
            ],
            [
             0.1111111111111111,
             "#46039f"
            ],
            [
             0.2222222222222222,
             "#7201a8"
            ],
            [
             0.3333333333333333,
             "#9c179e"
            ],
            [
             0.4444444444444444,
             "#bd3786"
            ],
            [
             0.5555555555555556,
             "#d8576b"
            ],
            [
             0.6666666666666666,
             "#ed7953"
            ],
            [
             0.7777777777777778,
             "#fb9f3a"
            ],
            [
             0.8888888888888888,
             "#fdca26"
            ],
            [
             1,
             "#f0f921"
            ]
           ]
          },
          "colorway": [
           "#636efa",
           "#EF553B",
           "#00cc96",
           "#ab63fa",
           "#FFA15A",
           "#19d3f3",
           "#FF6692",
           "#B6E880",
           "#FF97FF",
           "#FECB52"
          ],
          "font": {
           "color": "#2a3f5f"
          },
          "geo": {
           "bgcolor": "white",
           "lakecolor": "white",
           "landcolor": "#E5ECF6",
           "showlakes": true,
           "showland": true,
           "subunitcolor": "white"
          },
          "hoverlabel": {
           "align": "left"
          },
          "hovermode": "closest",
          "mapbox": {
           "style": "light"
          },
          "paper_bgcolor": "white",
          "plot_bgcolor": "#E5ECF6",
          "polar": {
           "angularaxis": {
            "gridcolor": "white",
            "linecolor": "white",
            "ticks": ""
           },
           "bgcolor": "#E5ECF6",
           "radialaxis": {
            "gridcolor": "white",
            "linecolor": "white",
            "ticks": ""
           }
          },
          "scene": {
           "xaxis": {
            "backgroundcolor": "#E5ECF6",
            "gridcolor": "white",
            "gridwidth": 2,
            "linecolor": "white",
            "showbackground": true,
            "ticks": "",
            "zerolinecolor": "white"
           },
           "yaxis": {
            "backgroundcolor": "#E5ECF6",
            "gridcolor": "white",
            "gridwidth": 2,
            "linecolor": "white",
            "showbackground": true,
            "ticks": "",
            "zerolinecolor": "white"
           },
           "zaxis": {
            "backgroundcolor": "#E5ECF6",
            "gridcolor": "white",
            "gridwidth": 2,
            "linecolor": "white",
            "showbackground": true,
            "ticks": "",
            "zerolinecolor": "white"
           }
          },
          "shapedefaults": {
           "line": {
            "color": "#2a3f5f"
           }
          },
          "ternary": {
           "aaxis": {
            "gridcolor": "white",
            "linecolor": "white",
            "ticks": ""
           },
           "baxis": {
            "gridcolor": "white",
            "linecolor": "white",
            "ticks": ""
           },
           "bgcolor": "#E5ECF6",
           "caxis": {
            "gridcolor": "white",
            "linecolor": "white",
            "ticks": ""
           }
          },
          "title": {
           "x": 0.05
          },
          "xaxis": {
           "automargin": true,
           "gridcolor": "white",
           "linecolor": "white",
           "ticks": "",
           "title": {
            "standoff": 15
           },
           "zerolinecolor": "white",
           "zerolinewidth": 2
          },
          "yaxis": {
           "automargin": true,
           "gridcolor": "white",
           "linecolor": "white",
           "ticks": "",
           "title": {
            "standoff": 15
           },
           "zerolinecolor": "white",
           "zerolinewidth": 2
          }
         }
        },
        "title": {
         "text": "Label: Abomasnow"
        },
        "width": 500,
        "xaxis": {
         "anchor": "y",
         "domain": [
          0,
          1
         ],
         "showgrid": false,
         "showticklabels": false,
         "visible": false,
         "zeroline": false
        },
        "yaxis": {
         "anchor": "x",
         "domain": [
          0,
          1
         ],
         "showgrid": false,
         "showticklabels": false,
         "visible": false,
         "zeroline": false
        }
       }
      }
     },
     "metadata": {},
     "output_type": "display_data"
    },
    {
     "name": "stdout",
     "output_type": "stream",
     "text": [
      "tf.Tensor([1. 0. 0. 0. 0. 0. 0. 0. 0. 1. 0. 0. 0. 0. 0. 0. 1. 0. 0.], shape=(19,), dtype=float32)\n",
      "(96, 96, 3)\n"
     ]
    },
    {
     "data": {
      "application/vnd.plotly.v1+json": {
       "config": {
        "plotlyServerURL": "https://plot.ly"
       },
       "data": [
        {
         "hovertemplate": "x: %{x}<br>y: %{y}<br>color: [%{z[0]}, %{z[1]}, %{z[2]}]<extra></extra>",
         "name": "0",
         "source": "data:image/png;base64,iVBORw0KGgoAAAANSUhEUgAAAGAAAABgCAIAAABt+uBvAAAqRUlEQVR4Xu18Z2Bcxbn2lFO3911pVVa9uciyZblh44rBdohDSIBAIAmQEG4aqTc94YZLCBAIJIFcIKEFCGBjMC5g3Ltkq1u997baXk6Z+X6sLMvGGGxkuPm+7/lhr3ZnzjnzzDPvvPPOOwdSSsEnjptuvf1kVXVudmYgFNXotIIoRgK+lLT0gN8fCkdGhoYefej3C+bPQwidW/MTB3PuF58IFFmORuMxgrOLZqS7Xe6MjAO799pTUq3JpLqi3G63CTx3bp1PCZ9OF33zG3fMyM9xJTlDAZ/V6VywcGF+Qb7AMrnZWUSRVi9fmp2VBSE8t9qngU9HQQvml3rS3WPReFFxSXZBkcFozMjN0Qu81ztmt1pyc7K1Ws3/EoI+HQUJAm82mSIBf15+flJqRjAOswqLs4pmBIKh0nlzy8rm/2+wPgl8OgoCABiNRlmWOI5HDKsQyos6hiGqFKeqYjIa/5fIB3xaCgIAGA1GhJBGpwMAJuhQCMUMrquvf3v7juPlJwgh59b5NPBJK6j+VMML/3w5EAg0t7Q6UtIcriQAJsRCKBB1+pq6hlONLUkO+1VrVqakpK5dswpjfPY1PlF8cgR1d/e89vqmUw2NVaeaPdnZVnd6yYIyrU4TVyYKUABsDocnO89kMowODW5/dw/GuLq62ul03nrLlxjmk3vUqYCX21H0+fz7Dx4KBoN9A4NHKyo9mRmpOfkpycm+QDC/sMDiTKEAUgogBAiS4Gh/+dHjc+bOGxoZGerrHR/sb25trz1ZvnjhAqfL9aN7vsOy7Lk3uMy4vARFIpHNW7Y++ucnMrOz586dY0pOSfVk21xJHMaRWEyr1QHEADBpkakqS+GQ32CyqiohigTikfbOropD+6pOnGisr//MhvUP3v9fnzBHl5EgSZLe2733P3/5m0BUXrFh46ol82bMn69SHmMGAEopgABQACYJohQAQCGklEIIAQQQAqoqcsDn7W2ue+ThRztbm1euWPH0k49zHPeJTXOXaxYjhFRV1/z2/gdlvXXW+o3G4tnVTe2iwGHMnCYFApjAmVoQQgAQhJBSSChQAYQMZ7A65i1asnTlKvf8pW++uWXD526QJOlMncuMy2L5KKWdnV0/+vmvZKtz6fVfsXkyjUmG8sfKkSwBwEAAJmeuROEESRBSQAmCiExqi56WmCAWzpztdWcxHDq6a+fQ8Ig7ORmhs9m9PLgsChob89797e+Gddalt9/typvBagyY1cUgjkWj57ADAICJsSRF/d7hnq62ob5uqsQ55qzGyyp0JLk5zC257WvmlJSbb7ujtq5OluXLZx8mcVkI+u73f9Q0MFL6hS8ZXR4AEVWJHCOsyTbsCwFwrvun4wCMh6rKj72949239h3ZfeRYTV1dZ1tzyDvMAJXBEEJACNVotUCSDc6MhV+6o6m7565v3dPW3vEJEDT9QywWi3X29S2+7S5HzkwAGEAoBUCJKzpncmfvoMnqYDgNpYDFAFB1uKtzb21d+8h4iBM4Z4bOYg8Exsr7x8xjAS7aYGbx7DlzHMlJKoQQIQ5jOarOXLuh/djBpsP7h0dG83Jzzr39dGP6CfrZz3+lmuxJhbMQw1OVAgAgAIok6R2OlpbG3LQUS7JGZFBnW/u2N7e0DnmTFy4zlBbxgMGsyHI8rzMCqqpU7Wo+1THQPxI/btPwudlZlAJe4FRF4TQ2z7xFffU1fr//31JBbe0drlkLea2JqiTx/BBCSojGbOk41tfX3ekbH2tsau4aDwcMLldhmSk1k+UFohJAAaCUYTmIEAXAljcz6k8ejwb9sWjj3sPBjkacO9uRlhsPxZw5RTqrzefz/vsR9PAjj3WNh0qz8lhRSwk4Y2cpFbRGRWPauuMdRmsQMrLF/GKnzsxrdRAxRCGJpiYMMyEEQsgKGsxwEDpVRZU4rUyRxpXKcLyqKDqrTW+3BQKBMze+bJhmgnp7+1hbks6eBCEkVEUMAyilhAIIMWKcRXNG2wRkNOtzZgg6E6UQAEAJgfCsOWviMwUQYYgYBgNTapbG5mRYHiKGAsoKosZsCwSC/34KMpoM+hAVdMbwuFeVJUEjAogYQUspAASYkj0aix2zLCdoAEAQAgDopDf/fqcGQkgJhRBihhV0psRXAACIsKg3+QPBs4tfFkwzQSazGQ+HOY041tk52tUWB5jVGzNysjVmK1UpZlmBMSXaCADALAMRUuLyJDPvZyrxedKZPC0YyopCwN//CShomv0gk8lIlDjC0Ox2Q1F3srG/pqWvp6UVT9wHQggphQBCSuSxjqaek8ek0DhEEMAJFt6vo0S1iQ8AQECJoiCM/H7fWYUuD6aZIL1eHw+FKKWIqtFghBsNJDXU9bb1yKHglJZTIkf7Gmp3bD++vVE+/u5+IocBleRYNKGsDwFEqkqigXAgEPr3U5Beqw2NjUqRqCxLoe7OQv/Y54ESG+iP+ccn244wkiWpual7MMxKHc01Ic2x1//VW1OpytJ55TMVlFKEIWbUsa72UOyTWLJOM0EGvT4wNDTW1cEIvBoL43g0lUpSOKzK0qQ6IIKQZUZ7hua2V91TuTfS094zHE7KzuY0OkrPXYicAwghoDTsHRtsrNNqtB9JcR8P002QwRAZH2s/upcTsNak78J87UB/DHOCTp+I9wAAAAUYc1IwNEsaXzUr29HZPB5VIYEYY0rpBUZN4idC5NrtbyIpcu+vf8ay0zzJvB/TTJDRYJCj0VO7t/mHBjLmlw47k/6ZNtfosAgW+2S7KaWChicIRYMhVFEOtHolEqIgESI7v5EGE+xAzLLBkcHqt1+Px2WDXv9BhacR00aQJEm3fu0bX73zm5IUH+tqr3xri7s4PzfPSd3u/OJCgDlEVQwJRIgSygqC1qg5kF32bNg/WLjUzsm8yXTh8QIhRBhREN3/1J/C3rF4LPaVO75ZWVWjKMoFRPfxMW0hV0JIek6R0WLheSHg9zEazfLv/UTvSg8HomaHE7NcW3WtrCiZhbmC3oxZpmH/u7t2t0BTsj8cuP4KV87ilaqinnvR04AIAUoBBPueerD74B6oqlqtdnR01J3k3PzKiy6X8/JJadrGMEKIgfSGG764cNkVIRmO9Pa8vXObsnRtctFcTqMbaq6vOVrhjyiDTU0LNlwtGsyemcWrBXN3V5/TlpI6e/YHsUMpJaoKIAh5x1r2bptlN3/9gf8WDWYNxzz71DPbNr/uHfc6nY5/A4IAAHqDMSypyekeyOkzMjxWi/6fW7YDgFwFM1VFSsvOCEVlX0vdcEeru2A2qzFkFOalZKbwohYyU5NdEq4zoYSosqRIEub4sd7Oyi0vaaLBtA3rswpmGU0GhJBWb0AI+f2Xd8k6nQSZLZba6sqA9zMaE2pvbtJoDcU52dUnD4cHe0Snu2hBCaBwJNNltNswywKAMCewgkgpoGRiNQ8oTUiGqApRVUWW/EMDvt5O6Bu+ojAzNSlJZ9S98PRTye6UZVde4R0asNtsF7ZcHx/TSZDJaKytqurt6qE9A9u2bF545Yrcopme3Py62qr+jsaRSIg1OUyuJI3JTAghchQAAACcZIWohBKVEkopVRU57PMOtzWF+zqyXLbS0hmZWTmiVu8dG25tam5tbslwu8Ljo7fefENhQd7lG19gegkyGo0jQ4NHDx/WGkwavdE7OpKVlZGUku5JS21va+keGDxVW94eCHIWpz0rz5zkZniBqoQosiJLqiyriqzKsiLFiSzRWBSE/abQSE6SZf7Csuy8fEbQQoR7ezqNZlM0Jnf19EbjcYvJpNPp/m0I+u637gr4x8uPHUvLzM4pKOruaHfYrc4Uj9nlTlVkoshyMOgWIeVRZKSrv7Vu3OeLywrADGJYjBECAFOVg8Cg4Z1mY0Z6EolpvWNjLMvwGp0KEEIg6Pfzgpiantrb2RYIRYLhhAwvI6aToFkzZ9x372+efvb5+pbOmSXzMMN1dbTnzZyjN1v6+/saTjV6PGn5hctViKOxqBSNRCVl1Ovr7+6RomFR4Fme1+sNFofD4XLazEYWkMry4/19fUZLqyslTWO0QVVGVGUxYgSmraU1HAqz3FmpjKcaGg8eOhIIBEKhUDgcDoXD4UhkxZXLbr7pBkopwzCXoLXpJIhhmPz8PKfD8db2d2cO9KdnZo4NDQz291IAhgcGI+FwPB5nRY3V4oSAQAAQVaqOH6nq7czLzy1buFBntEDMMhzPcBzL4L7O1kAokuLJVAkdGRrMtNgj4RjDC3rEtLe21FaeXLKg7DPrr0kkx/T09lVUVOzZu2/Hu7shw7E6PeYFVVVD497KquoXXnh+1eo1t335ZpZhLRbzRdF00QT19vVVV9cGA/5QKBSOxgry81euuHIyhQchZDAYgoFAZfnxeQsWDA8OtTQ18aImEAhYbLZYXOru7JztSCKUwQgExrz+QHBGUaEqx9taWxcvX0UQDwCgAKiKGvT7VACLyxYMDw6NDg3MmT1zuHukqaERIlxfUzc6PEwICYVC1TU1kWjs+MnqzdvfkTBrnllqdnuMrmSNyYg5nigkHvINdzRtOXh8194DMwsLvn33NzzpaR+do49KUDgc7untC4XD+w8d3bR1O2BYgLEUi6dVVB86Xh4YH59RVJjI4rl2w7pgKPTiS/8q37dLltV4LO5wpcTikicjAyMw1NfD0tI4YFVCBgcHTpw4GY7LQ8Mj6U6rJzMryZNHAIAQylLUOzIyODiUU6RqtJrRgd5Q0DfU17N9yxt+n298ZJhQcuj48bu//xNG0GgsNtZqs8xbYnJnGBwuwWBhBQEzDISQUkBUxTNvYcQ/WP3WW1u2b1cU5aEH7uM+corIRyWo4mTlr+79b1Zv5OwubWGJzpbECiIlhGVohxrvGe07+uIrw0MDP/j+950O+/Wfu7YwLzcSCVecqNx96Ig73SPH4xQAfyDY09MbCvoEoyMUDNaeqDh27FjqopXOK2b1VhwpP3Lo+qzsOGEQAqFQ4NiRI5WV1f2DQ3q9ngEk6PeFZGJbsDI3JT04PBwL+lRZZkVRb3dZ0zLM7mRGEAFlIMYInclIgwBAhFleEAym0ustGpO5rvZ4+fFyQRTnFM/+KKmiH04QIcTv9w8ODfeOBwrLVuQsuZLXmSBkIUysvomqxE3Zs7097TXDvV//8S/7WxplWSaUUgijCpEFw6m2DhYC7HCrvDgYUWpOnrxy1VWRsO/g7l2jw6O5FkdS/hxRa6muObyot8flTiMq6W5vrT1RnpuZtWvnDl7UmMxmk8OZUlyWs/QqszOJUpUoElFViBBmOczwEGNKCVUpoBRQmojtJwABJIRCCrVWx+z1n6uMRX563wN6UfzazTeyDHP11VddOMXvwwk61dD4g//8OWNzLfjy1zPLFjOCAVBACQBg4jkYXsNrjEZXSjzkV+WwnN3dX18VGRthBdGVnuXMKfD194bHhnsicnzE211bDUe65xQXHz1ypKayWoKY1xmISrV2VzS94PnnX7jli9ezvHjgvV0L5s256aabUpKTNFothejJZ56TtSbzjFLM8YASyvKTT0gpoIo6EdF/v3GBAFBAKQUEchpz0brPNxut3s6WJ19/Wwn5R8Z9oYCfUHr3N+48b5bfeVbzIyOj9z/4x3Gv1z/uDQZ9gXA0yJtXfOtH1tRMxHITvQQAgO/frqGIwUQhUjSgxOMQIk4UAWZHuzpGO1t7a8sD3e1rykre2Lz56vUbGuvqrvvshl///sENv35MZ3MASlVV7a865iYhLcfu3LLp1ZeeS09LGx0bwxjLsvLapjce/OvT+qSUwpVXl2y8UY5JgNJEfsxHtLiTLSVKLB4JeXu6R9ubtSg+2NzaW1NRdeygIAhn1wDgHIJCodCfHv/z8Jhv15FywWzX2lwaq83kTnLmzLSmZVKSWBRM7MBMxVlfwtODD0E5Hhnv7e2urug6fnBBTopRp7vjK7e8/K/Xnnn2hWgkcvzQvrlLln3+oecYXkhUVCWpp/zAiZefvGLxkmeffpI77eYQQnw+/4533xM14rd/8ov0+UuWf/07rGimhEz21sTdL4hEYxHGAAJVkuR4jMjh8b6ezorDKwsyB1ubfv3zn+r1Z7nmDABAUZRNb7zl9/vCcem9ujZn4dwFt5dpLQ5OY2J4geU5zAmEUErO0csZJL6klAIIIaWEUISRFPZ1V5bXvbMtz2Gc6TJ97647tDpdkst1x9e+YjabBUH47e/uh4wAEZ7oJEoZjtOneEZHhn/wvW9PFTxCyGw2Xbv+GozRM6Jw57fu2REKXHXPb1hBOyHk83Xb+5EoQ1QVQogww2v1EOhEk9WYlDoS6t3z6mvfDQb1et3UKgwAYOeu3ff9/g+WrDz37HmZq6+1efIFgw5hTMlpfU100oc8AUzkF2JMlUh3VU3Dnu2dFYdzUpK+d8d3zCZTZoYHQgghdNjtN33xCxijP/zhIXNqBq/VAQiJqgAAIERGZ7KgN51qaMzLzZ16YgNCqNVqAADLr1ym04iNe3akFZfOuOqziOEntxM/ChJlJyRPKQUAQkZjcrAuu2tO2S9++1+//NEPMjI8kxMcAwB46OFHYhp9ypVrkvJm8zoTZnkAAFHp6atdBCCCqhJ999H7wt3tWI67TYZf/viHxbNmnuPmm0xGAADLYmtugajXYk4kKgGUAgi1RqM1NfP+Bx8pnVeSm5Pz/l5hGOYf//PEHXf9R/Out7MWlOpsHgDRecc+pRRhjDmGqAAAQolCVIoQohRODMyJYgBCyGm0osE0K8NlMp11EII5eux4/8ho8S3f8MxdhFkNOLvyxYLlmQPP/LXr6P4HfvOL/LxclmXzcnM+aBFkNlsdWfmYFTBmEJq4KcNrU2fPq9m2aWzMCz4gPapkzmy3yzXqD7bufi9r+dVaazKECJw2MRBMmCRWYEI+f8/hishgH1VV0Wp3F8zSmPRSXFUUBWKMGA4zDKU0GhzvrGoPd7cfaRhfPGfW/Pmlkw/MPPb4n6HW4MqdwXBaSiZuct72XBiUUl7L9daebN7/3k/v+faG9dfoLxiI+NvT/xgLxwpS3AzHEvVMl0AEMuYv6TxxJBD8wOQNCOH99/32uZdfGw14w82VclrM4EzlRA2AEEzEr+n40ICvs8UC1UVOnTV/HsswkqSMhb1Dja1xiUgAqBASyBCVKLGoGvaZWLhx+RUdTQ1/eervJSVzJucHJiopDMuocgRCcOFBNdE/H9BmCGHU76ve+tpYd4cnPV2r+ZADXxUnThJRx+v1ECOgnglIq5LqLprtyM4Lx+JTip+LoqJCg16bk5sVorCq5ljI2S9anZgTKAVSJBQbH8PBsTyXbUZ+rs1m5wQNQkhVVFWViCIFwrHhwcGxsbFoXFIpxVpRk2xMdiWlpaUWFuQ/++Rfpt6ImbNgsaG9LdRWTxTA6kyMICDMAoghghAhjBle5AChNLFxBeh5aaKUCjq+ce973VUn7r7jq6XzSj7Ui0eAmNwprKAlylm7qURVRaMxZeacyobmgpysgvz8D7wUUWUKli1dKhw/caqljfhHGKON4wUzJDo9trmzMjwZFocDYjaRFcFgwCERAaAxEKvFKkuSSigFFCKIEeY4nmFZgyikuJPPskGrrllfMjrc3Nk1GhwJjw2EJUlVKSGEKKqiSHI8HlVUZ9Esqyeb5TUIsxMio2fceUopwzK+gd6Wg3s/u/rKu+683W6zXVg+O9/dVVVdayhdKuhMVJ2aiQYApUShqbPmnXj7Fd/fnr7t5i/NLSk+L0cMxt19A0tEfdniK/LyC2JSXKYYYUbgWA3P8aKG40WIMUIwkVtCKEikbDEYMVotr9GeDoVTACAAlEEwFo2OByNThxGjt7m0ZpszzTPuHR8bGYlLcciwDMMxDMswGGNI4pH+kbGm6iPElmxMzeBEHaCQUpCw5RBCxCApFji1663Ww/vX3flVp9Mx5frnR0NDo1emWZl5nEaTMHxnOIKQqMSc4rEWlRzZ+mra3n3FxbPOS5AgiI3Hyrs72nMKZrCCjhJCAQUQJrxUACDGUGRhPBYfHvYpigwxZhnEApkqikIhQSyDWY7jGI7DDKaqOjo2cmDXO3t37ybqz8Hp5T5DAUQMp2E5QdTZHU5KKYUIQgRRIpMdAkI8mZH07s6K+qaxqI9P8ogmu6DTUxUACDEDI4Hxpn0763a+tXhu8Wc3rMMYX0A+NbV1O97Ztf/gYWtWXursuQAgcB7TRzHDpRbP9/Z2Hz5ZNfPdXVetWf3+JaXdbu3r7Nyzc7srOVljsBDEUAoABAgCBkFVloZ6+mpOVlQcPdLS0iZLkslotNstTqfd6XBClusfHBZ5hsEMRVilMBTwD3Z3agX+lz/54dTzMomgCSUAAsSwfOIgxVRQChGnNaZn5RuMllNNDfUN1VGrg7fYKeSJqkR9I7015U0H3stxOX/4ve/kZH/gaeWOzq49e/eVn6g8Xt/M21yugllaq5PIBICJWXkSlAKiEtFgzV2ysmGH769/fy4YDH3+uo3ncLR61cpwOLxt565333xj/tIrXe40gWUghDFJ7ujoPn5gb/nBfXqd7pYbv4gREnie5Vie43ie5wWhta29qaqSaHidTq8zGMd8/tqTJ2+6/nNZmRmLFi2cKlhYNy5DACglQFWIqiKMMMsBCqeazsQIgFSVoqHenu765taATCivI6rS29ywd8ur6Q7rr37642VXLOF5DkIYj8cTMeFQOBwOhyPRqKIoDU0tr7z2RoxlTZ4shaCiNRsc2UWUTEQn6GSS3empHUJIVHmsq6lh5+Z4y6mbb/zi7V+97ZwF97jPt2fP3hdeflVjsS1autSo4SORaP/g8Kn6xpB3ZOO6NR6PZ8niRSzLJsbDZMVQKNTf348QYhiGYdmR0bHa2vp1V68RNRpREKaWhK8fKI/H4kG/zzc2Ehr3Kiqxu9NKSuenpqVEpDOPCwBIDDhVlqIhvxyP+UPhlobGbVs2D3V3/OwnP1y3do1Go6mrP/XzX98bCgQgggzLsRwviFqj2eRy2mJx+URzu6t4tqxQVmfJvWIVwsLknEgpBQBSqk4NdwEAiCqN97Y0vLtV6m4vSHMnu93/+cN7pg6BYDB06MiR5154yZ2a4nTYeZ4nKpFlxeWwXXP1VaIgCgL/QaKehCzLkUjEYDC8vyT8xf0PawQBUEJVhUXAO+7buXt/Vk5O2cIFi5Yutye7Y4kjkwlLDwAEgMUASNHamqpN/3yxuanpzq/cumhh2VN/f97rHevqaK2qrU/NzC0ompmWkWFzOK02q9FgiEcD7YPetlCE0/DDvf2Fqz+jMTkT4YGJZ4IQADLS3pKUV6RIMgATWoIQUiIHRvp6q45VvfQcJlJRYZHFZn38j3+Y9OWi0Wh3Tw+DGY7nMMYIIoQQz3PnbfDFAra2dzAMAwFEEGCMvN7xXbv3ms1mThBe3bR53fU3rV2zwhenikIhgkRV47FoyD820Nq0d/9Bu553OFxXX7X6scf/euBYRWZOzoyiAk9WliM902wwakSBYVlFkVoaGmt7BqIWe0xVWw8dyFq8NKmghChnPzqEEILWQ3syy65AmJmYfifoo5SSaNC77+H/WlVSsO9weX9HS2XFUUKI8fIfID83YCYrSjAQwJgZGBxccdU6m8NZXDy7uGyhJzMTc0LQ7+vv6mxva01z2mLR2A2f3/jKa5skRdmyY/fiRQvXrl3lTnWbzWbMcpKsxOPxaDjSOjC6v/ykprAYc7jt6GGD3ewsmi9HopZkD4RwQpYAAAAghO3HD5iT0yzpmUSZOOo7OQYRC/c88ei31y3htYZt27YNdrUHgqG/PPqwopKc7Mzz+gHTgnMJmkQkEn1n13uUkru/+0OTQedw2A1mG8cyDFAFQfzFz36CEd7+zq4X3tzpLpmHDA5ParIWwcDocDToV+IxCCFEjAoA684S3cmY46u3blJVJTUv28CIvXWV6etu1JntU/sfItRTXa7E41mLlqmJUTYFmGNaT1TMQ961G9aPjIx311f/6bHHtSyOxOL33fvrhWWlH7Qk/pj4QIIopXFJAhScqKwElDCYYVgOY8RgzHFcdnYWAGBO6WIxZ9bi227T2dOpLCtxGQAFIkoBBBQQFSEMeIM+Mj5a/87b3SfLl2+8Ls2kTXLY33zxecfG281JqRDCyVZBCAcaa709HTOu+szU5evkr5RRBzY9+/2771SxlipSf0/nlldefmf7Nr1W88arLycnJ10Ogs4Tpk4AQijwPABg0YKyxJ/nlgAgGApFeztrtm1JLV7ombdAMFlUSQYQQAApSNh1qsS9De+86as9sWDOrEUF2WlJSYLIbuE1XGI2nXJVCgBEUIpGVDmOMHdOx1FKOU4zKqP2zm63JxtiLsmTe+udX8+fWfz8//z10JEjer1+Qdn8aX+txQcSNIkL3O+rt31ZUtXX3tzaXVXVWXE4rXhhcuEMrcVGCaCqijD09nZ0Hd5tCHmXrN9QUrbQ7krCrBDzDUCjlRU4iOBUFxoCSAiJ+n1SNCzo+cRS5gwoVWKyJtVz4MCBa/Qmo82lUqAxO5etXK3XacpPHK84emzD+musFsuq5cumUU0fTtAFcMdXbyWUpCS5YvH4i69v2V9+RDSZU2eX5i1b68hMifgC9Vtezrbb1t94oz3Fw2v0CCGM0cDgsDW7ALMCSOzITAJBIsve3s7Q2KigMwMAzjgXAAAIiaomFcyuf/3vc3o69CYrxKxCAObFkgVLXCmp/mD4tU1bfD6fOznJ5XK+f2lyafhYBCXWpV+4biOhxJOeFg6F/vK3p0++/mLj3nesaalmra5sZuHylauS0zMpZikFhAItA3p6+/UuJ8udqxGEGVWWvd0d3u4Os9sDEQMAOEcHeouNS8nqGRpNywpojFZAAaEAskJKRs71X7pFEIQdW9969fVNToe9qLBgWqa2abiEyWS0mM2rll957YZ1D/zut6WzZ4y0nAq0NKxZMPczn9uY5MmiiE1QASGIhkKjgZBMIESJIOmZ62AWKVI0GhwfbmuIh4MJ+33OHEJVkloyv33EO9DVwZw+H0woUAFyZ2R/9gs3XrPhMydOVj348KPHyium5f0x00BQAhqNqNFo6k41NDU15RYUfv2ub65Yu95gdVHI0NNEIAh6u7v8iqoi9vShgzPtRxjIsZAqxQca64OjA5hNjJEzEqKUEpXorc4RGVbV1o0PD0JKAKAAUEophYwz1bNu43VlixedrK4pn6YX7EwbQQCAzVve+ttTz1js9tu/edeqDZ8VTDaVTu43AEoBpGpff18MsaLJkqgy1ZSqkhINBJS4NNLeOthYoyoxCM8ytQlBQYCcRcWtgcihA3tDowNQVRKFCKUUMe6M7Gs2Xjdj9qyt23Zs3bZDnRLMvTRMG0G7du/94yN/EkXhjrvvXrLqKk5npBCddoMhpQBCoMSjIZlQnVnUGc6pDhGM+Mb9gwPxcDg0NtpycN9AQ+3p7ZyzRxmhRoc7acGVdf7Q5s2vD3a3q/EIggAASCmgiE3Lzr/62o2sRnPkyNGPL6LpIehYecXjf3kCc/wtt985f8mVjKAnFEIAIDxjZRkE/ONjvrikcZ5+qdKUlkMIA8MDox0tOq1YUjxLJ4Ubd2+P+McQg+DEBt9EMUApQozGkuyct9xnT9ux/1DdyfJo0MsiCgEllCJWmFlSes26q5va2v7+3IvK6VXLpWEaCKo/1fDInx4fGBj4/I1fKlm8jBH1JJFNMQUQAqLIw8NDfeMBjdmW2MWeBKWUEhIaHQz2d6+7eu1jf/zDLV+8rqeqvPXQbkAVcLa1TpgcQKFgsNtnlMXTC3ZW1Bw7cnispx0SGSFIARR1xhklpTqj6fHH//LQo4/LH4Ojj0tQR2fXn5/4n9r6huVrr16w7Epea6ATwplqXAGEIBwOtPf2E6MLMwJINBLCxAeIkCLL4329qTbTj77/3ZkzivLz8vwDA1VbN3WUH4KQJK6W4OjMZwoYXjSn59jKltYH4u8cPNpUUwWUGIJUBVBrtmfn5bW1t+7es498DEv0sfygwaHhp555dsc7u7Kzs9atXy8aLATARE8n+EmwgCBAVBkdHuj0hqzz5iUmrkkGIYQIwVjU33pojwWi9LRUhJA7OWnNyislRT3x2guU0uyFy6gME/YIQniGfQoQYozOVI3R5Ovt2VfXEIhFczKzHcluiRXSM7P1KZlj4/6z5HqR+FgK8nq9r215CxttcxcstKekE3h6//j03AwhRIAQOdbX0Xaiuh440wSdfrI6OC0KVZG6q4721lRoTh8iTEtNufdXP//OXXcONdUfe+nvDbu3IQwZjkmI531XQJxoNHpymdxZJwZGd+3f31JXzbPUZrenzSlTPp5LfYkKikSiO97Z1drWFsdMTtGMhUuXEsyf5mVij5EQNR4JRcL+8fHxk03tXRGYOis38TaPhBAm5UBJ9MSml10Ox+9++8vEIUJBELIyM2xW643XbUQMs/WVZ8d7+2atu1ZvS1YkJXEFABLWaSJcixlO50hTTaa+hlNya2f9qbqC3Fyj0z0yPvqVO+569qknJiOQF4VzXdWPiHGfb/U110YkybNyTbpG+x9fv51y+gRBCEEND9VYrL27r76qstsXkrUGITkd662i3jA1yShxa16LDj37t8P/ePLtzf8qKz3rDcCqqg4MDhJC5y5ahkVt6uw5+cuvmbF6bTxKiKLA09MbBBPuZoIuKRaTg2PjzXUmJTYk2gcaqo49/0R3W+OlRWAvUUEaUezo6MhYcIUrf+Y8oyBqdTLFqiqRoG8kEGpsaGxpbx+VITCabfklZosZQh5hBiT29aZAa9LUvbv1+MvPAkIL8/PP+RVjnOJ2U0p/8J3/wAzz6F+eHO1oG2yoKVh1jSM7nxJI1YRdoiDROZRSAFlBZPgkwArS+Fiy1QVInAAaCAYNhnOdr4+CSyTowMFDnCCWbLx+sLlFv6ik+vjxgcGhvuERrz8ILE5dWjae47JBkREEQWfAGBP1LIeNUgoBZAWmq6riyAtPR/z+55/5m0YjTi0zCQjh1277MkTQYbP95r7fV297o/XInrQ5C+ffcJvOaqcqwCwz9bQ0JRRCLOotgs6EMGNKTuV1hoA/QJPP2nT/iLhEgh565E/Js0uTCmYNtbRVtPXKgMYgBuZUIdPEm2y81ogYDABKGFQ1kRw1deZCSGPim/btOfLC34ZaGh996IG1a1ZdIGZqs1kBABuv3WAw6FVC7v3d/bXbNvu7Wl1Fc1KLS22ZWYLeAiEzmbJIE7MnYgAAotGiMVkDwUt80cclEhRR1NnXXssI+tQ5CyOShHhOo9HxOiOvESHClFBAQSJXeIKV00YHIYRZJjw+2nb06InX/9VXV/OzH95z3Wc3CGdv150Xer3uqtUrIYTJLpesyCzLPfznv+7/656kWfOzFi0xOtP0NgfDi0Q9fTwPAAAAw4laiz0QCl+atb0Ugqqrq515RY7sPECRJTWDEgIgRAhDhACAZ7zkcxoMAcMyqiL31dc27d/ZdfLYxhVLi7/6pRXLl3506yCKIgBgfunchC2/1/TjBx58pK2nOVyujPF6MTUzubDY4EhCmEkczIMQQowFvTH4iSmovaPzwYcfUT0zGE5PCMXMBQ89QAgRhACqihzz+4KjfcOtLe3HDvbWnli/esWtN34xw5MmiiKE8EPlMxWT0cL8vLxf/OwnwWCQYdm3tu/ctn9HX11VWnFp6ux5oskOEoaPUk4QL/l9XhdN0LPPv3ikqn5h2VpG0JwO5sCE43Oe+1OixGNRv9/b3TnQVDPQWJeXZL+6pECYP2P1qhU5OVkcy14UNe9Hhic98cFiMupEsaG1va/2aGVna+4Vq2yebAAYoiqIwb7x8bPrfVRcNEE+n8+cnW/3ZDM8RxSZqCpRyOSwhxAASAGlUiQa9nmDQwPe3s7RzpaRtma3RT83M2PdVavnzyvhWE5v0H98dqbC5XLdcP11wVCw/GTlK29uP/L8k0Vr1nnmXaFKcYShzzf+CSnIYrPZoRZQ2l15PDQ6EPF7o/5gPBSSYhElFlOkmByLyrEIBpBnMIcxj7GegbZk+7q1a9asWmF32C+c3PlxYLVarFaLxWzWa3X/ePGlk5teQiznyMylVPX7/ZfEz0V60uM+30OPPbGnsV0wWjRytCgrjWewwDIiz4uCoBEFjShoBEEUBI5lMcYMZhiGSfxnt9ku9rTfJSMcjpysrHrhX6+d6B3OXHCFmwdfWbl4RmHhJYTxL05B+w8c3rx5C2QYd37u4rLSa9dfw7LMaSLwlH/wxdrd6YVWqymdV6LX617ZsnXTm69Zli7JO19O+kfBxRHEMNhqMS+YP++2m2+02W0fmqz5KUIQhMKC/DU+/1tvbo2ODF1yh130EOvr6zeZTO7p27q8rBgb8x4+eszhsJfOLbmE8QUulqB/O6iESHGJYfAF1jEXxv/lBH18XIrq/p/C/yfoQ/B/AF8hS7MS/minAAAAAElFTkSuQmCC",
         "type": "image",
         "xaxis": "x",
         "yaxis": "y"
        }
       ],
       "layout": {
        "height": 350,
        "margin": {
         "l": 0,
         "t": 60
        },
        "shapes": [
         {
          "line": {
           "color": "black",
           "width": 2
          },
          "type": "rect",
          "x0": 0,
          "x1": 96,
          "xref": "x",
          "y0": 0,
          "y1": 96,
          "yref": "y"
         }
        ],
        "template": {
         "data": {
          "bar": [
           {
            "error_x": {
             "color": "#2a3f5f"
            },
            "error_y": {
             "color": "#2a3f5f"
            },
            "marker": {
             "line": {
              "color": "#E5ECF6",
              "width": 0.5
             },
             "pattern": {
              "fillmode": "overlay",
              "size": 10,
              "solidity": 0.2
             }
            },
            "type": "bar"
           }
          ],
          "barpolar": [
           {
            "marker": {
             "line": {
              "color": "#E5ECF6",
              "width": 0.5
             },
             "pattern": {
              "fillmode": "overlay",
              "size": 10,
              "solidity": 0.2
             }
            },
            "type": "barpolar"
           }
          ],
          "carpet": [
           {
            "aaxis": {
             "endlinecolor": "#2a3f5f",
             "gridcolor": "white",
             "linecolor": "white",
             "minorgridcolor": "white",
             "startlinecolor": "#2a3f5f"
            },
            "baxis": {
             "endlinecolor": "#2a3f5f",
             "gridcolor": "white",
             "linecolor": "white",
             "minorgridcolor": "white",
             "startlinecolor": "#2a3f5f"
            },
            "type": "carpet"
           }
          ],
          "choropleth": [
           {
            "colorbar": {
             "outlinewidth": 0,
             "ticks": ""
            },
            "type": "choropleth"
           }
          ],
          "contour": [
           {
            "colorbar": {
             "outlinewidth": 0,
             "ticks": ""
            },
            "colorscale": [
             [
              0,
              "#0d0887"
             ],
             [
              0.1111111111111111,
              "#46039f"
             ],
             [
              0.2222222222222222,
              "#7201a8"
             ],
             [
              0.3333333333333333,
              "#9c179e"
             ],
             [
              0.4444444444444444,
              "#bd3786"
             ],
             [
              0.5555555555555556,
              "#d8576b"
             ],
             [
              0.6666666666666666,
              "#ed7953"
             ],
             [
              0.7777777777777778,
              "#fb9f3a"
             ],
             [
              0.8888888888888888,
              "#fdca26"
             ],
             [
              1,
              "#f0f921"
             ]
            ],
            "type": "contour"
           }
          ],
          "contourcarpet": [
           {
            "colorbar": {
             "outlinewidth": 0,
             "ticks": ""
            },
            "type": "contourcarpet"
           }
          ],
          "heatmap": [
           {
            "colorbar": {
             "outlinewidth": 0,
             "ticks": ""
            },
            "colorscale": [
             [
              0,
              "#0d0887"
             ],
             [
              0.1111111111111111,
              "#46039f"
             ],
             [
              0.2222222222222222,
              "#7201a8"
             ],
             [
              0.3333333333333333,
              "#9c179e"
             ],
             [
              0.4444444444444444,
              "#bd3786"
             ],
             [
              0.5555555555555556,
              "#d8576b"
             ],
             [
              0.6666666666666666,
              "#ed7953"
             ],
             [
              0.7777777777777778,
              "#fb9f3a"
             ],
             [
              0.8888888888888888,
              "#fdca26"
             ],
             [
              1,
              "#f0f921"
             ]
            ],
            "type": "heatmap"
           }
          ],
          "heatmapgl": [
           {
            "colorbar": {
             "outlinewidth": 0,
             "ticks": ""
            },
            "colorscale": [
             [
              0,
              "#0d0887"
             ],
             [
              0.1111111111111111,
              "#46039f"
             ],
             [
              0.2222222222222222,
              "#7201a8"
             ],
             [
              0.3333333333333333,
              "#9c179e"
             ],
             [
              0.4444444444444444,
              "#bd3786"
             ],
             [
              0.5555555555555556,
              "#d8576b"
             ],
             [
              0.6666666666666666,
              "#ed7953"
             ],
             [
              0.7777777777777778,
              "#fb9f3a"
             ],
             [
              0.8888888888888888,
              "#fdca26"
             ],
             [
              1,
              "#f0f921"
             ]
            ],
            "type": "heatmapgl"
           }
          ],
          "histogram": [
           {
            "marker": {
             "pattern": {
              "fillmode": "overlay",
              "size": 10,
              "solidity": 0.2
             }
            },
            "type": "histogram"
           }
          ],
          "histogram2d": [
           {
            "colorbar": {
             "outlinewidth": 0,
             "ticks": ""
            },
            "colorscale": [
             [
              0,
              "#0d0887"
             ],
             [
              0.1111111111111111,
              "#46039f"
             ],
             [
              0.2222222222222222,
              "#7201a8"
             ],
             [
              0.3333333333333333,
              "#9c179e"
             ],
             [
              0.4444444444444444,
              "#bd3786"
             ],
             [
              0.5555555555555556,
              "#d8576b"
             ],
             [
              0.6666666666666666,
              "#ed7953"
             ],
             [
              0.7777777777777778,
              "#fb9f3a"
             ],
             [
              0.8888888888888888,
              "#fdca26"
             ],
             [
              1,
              "#f0f921"
             ]
            ],
            "type": "histogram2d"
           }
          ],
          "histogram2dcontour": [
           {
            "colorbar": {
             "outlinewidth": 0,
             "ticks": ""
            },
            "colorscale": [
             [
              0,
              "#0d0887"
             ],
             [
              0.1111111111111111,
              "#46039f"
             ],
             [
              0.2222222222222222,
              "#7201a8"
             ],
             [
              0.3333333333333333,
              "#9c179e"
             ],
             [
              0.4444444444444444,
              "#bd3786"
             ],
             [
              0.5555555555555556,
              "#d8576b"
             ],
             [
              0.6666666666666666,
              "#ed7953"
             ],
             [
              0.7777777777777778,
              "#fb9f3a"
             ],
             [
              0.8888888888888888,
              "#fdca26"
             ],
             [
              1,
              "#f0f921"
             ]
            ],
            "type": "histogram2dcontour"
           }
          ],
          "mesh3d": [
           {
            "colorbar": {
             "outlinewidth": 0,
             "ticks": ""
            },
            "type": "mesh3d"
           }
          ],
          "parcoords": [
           {
            "line": {
             "colorbar": {
              "outlinewidth": 0,
              "ticks": ""
             }
            },
            "type": "parcoords"
           }
          ],
          "pie": [
           {
            "automargin": true,
            "type": "pie"
           }
          ],
          "scatter": [
           {
            "fillpattern": {
             "fillmode": "overlay",
             "size": 10,
             "solidity": 0.2
            },
            "type": "scatter"
           }
          ],
          "scatter3d": [
           {
            "line": {
             "colorbar": {
              "outlinewidth": 0,
              "ticks": ""
             }
            },
            "marker": {
             "colorbar": {
              "outlinewidth": 0,
              "ticks": ""
             }
            },
            "type": "scatter3d"
           }
          ],
          "scattercarpet": [
           {
            "marker": {
             "colorbar": {
              "outlinewidth": 0,
              "ticks": ""
             }
            },
            "type": "scattercarpet"
           }
          ],
          "scattergeo": [
           {
            "marker": {
             "colorbar": {
              "outlinewidth": 0,
              "ticks": ""
             }
            },
            "type": "scattergeo"
           }
          ],
          "scattergl": [
           {
            "marker": {
             "colorbar": {
              "outlinewidth": 0,
              "ticks": ""
             }
            },
            "type": "scattergl"
           }
          ],
          "scattermapbox": [
           {
            "marker": {
             "colorbar": {
              "outlinewidth": 0,
              "ticks": ""
             }
            },
            "type": "scattermapbox"
           }
          ],
          "scatterpolar": [
           {
            "marker": {
             "colorbar": {
              "outlinewidth": 0,
              "ticks": ""
             }
            },
            "type": "scatterpolar"
           }
          ],
          "scatterpolargl": [
           {
            "marker": {
             "colorbar": {
              "outlinewidth": 0,
              "ticks": ""
             }
            },
            "type": "scatterpolargl"
           }
          ],
          "scatterternary": [
           {
            "marker": {
             "colorbar": {
              "outlinewidth": 0,
              "ticks": ""
             }
            },
            "type": "scatterternary"
           }
          ],
          "surface": [
           {
            "colorbar": {
             "outlinewidth": 0,
             "ticks": ""
            },
            "colorscale": [
             [
              0,
              "#0d0887"
             ],
             [
              0.1111111111111111,
              "#46039f"
             ],
             [
              0.2222222222222222,
              "#7201a8"
             ],
             [
              0.3333333333333333,
              "#9c179e"
             ],
             [
              0.4444444444444444,
              "#bd3786"
             ],
             [
              0.5555555555555556,
              "#d8576b"
             ],
             [
              0.6666666666666666,
              "#ed7953"
             ],
             [
              0.7777777777777778,
              "#fb9f3a"
             ],
             [
              0.8888888888888888,
              "#fdca26"
             ],
             [
              1,
              "#f0f921"
             ]
            ],
            "type": "surface"
           }
          ],
          "table": [
           {
            "cells": {
             "fill": {
              "color": "#EBF0F8"
             },
             "line": {
              "color": "white"
             }
            },
            "header": {
             "fill": {
              "color": "#C8D4E3"
             },
             "line": {
              "color": "white"
             }
            },
            "type": "table"
           }
          ]
         },
         "layout": {
          "annotationdefaults": {
           "arrowcolor": "#2a3f5f",
           "arrowhead": 0,
           "arrowwidth": 1
          },
          "autotypenumbers": "strict",
          "coloraxis": {
           "colorbar": {
            "outlinewidth": 0,
            "ticks": ""
           }
          },
          "colorscale": {
           "diverging": [
            [
             0,
             "#8e0152"
            ],
            [
             0.1,
             "#c51b7d"
            ],
            [
             0.2,
             "#de77ae"
            ],
            [
             0.3,
             "#f1b6da"
            ],
            [
             0.4,
             "#fde0ef"
            ],
            [
             0.5,
             "#f7f7f7"
            ],
            [
             0.6,
             "#e6f5d0"
            ],
            [
             0.7,
             "#b8e186"
            ],
            [
             0.8,
             "#7fbc41"
            ],
            [
             0.9,
             "#4d9221"
            ],
            [
             1,
             "#276419"
            ]
           ],
           "sequential": [
            [
             0,
             "#0d0887"
            ],
            [
             0.1111111111111111,
             "#46039f"
            ],
            [
             0.2222222222222222,
             "#7201a8"
            ],
            [
             0.3333333333333333,
             "#9c179e"
            ],
            [
             0.4444444444444444,
             "#bd3786"
            ],
            [
             0.5555555555555556,
             "#d8576b"
            ],
            [
             0.6666666666666666,
             "#ed7953"
            ],
            [
             0.7777777777777778,
             "#fb9f3a"
            ],
            [
             0.8888888888888888,
             "#fdca26"
            ],
            [
             1,
             "#f0f921"
            ]
           ],
           "sequentialminus": [
            [
             0,
             "#0d0887"
            ],
            [
             0.1111111111111111,
             "#46039f"
            ],
            [
             0.2222222222222222,
             "#7201a8"
            ],
            [
             0.3333333333333333,
             "#9c179e"
            ],
            [
             0.4444444444444444,
             "#bd3786"
            ],
            [
             0.5555555555555556,
             "#d8576b"
            ],
            [
             0.6666666666666666,
             "#ed7953"
            ],
            [
             0.7777777777777778,
             "#fb9f3a"
            ],
            [
             0.8888888888888888,
             "#fdca26"
            ],
            [
             1,
             "#f0f921"
            ]
           ]
          },
          "colorway": [
           "#636efa",
           "#EF553B",
           "#00cc96",
           "#ab63fa",
           "#FFA15A",
           "#19d3f3",
           "#FF6692",
           "#B6E880",
           "#FF97FF",
           "#FECB52"
          ],
          "font": {
           "color": "#2a3f5f"
          },
          "geo": {
           "bgcolor": "white",
           "lakecolor": "white",
           "landcolor": "#E5ECF6",
           "showlakes": true,
           "showland": true,
           "subunitcolor": "white"
          },
          "hoverlabel": {
           "align": "left"
          },
          "hovermode": "closest",
          "mapbox": {
           "style": "light"
          },
          "paper_bgcolor": "white",
          "plot_bgcolor": "#E5ECF6",
          "polar": {
           "angularaxis": {
            "gridcolor": "white",
            "linecolor": "white",
            "ticks": ""
           },
           "bgcolor": "#E5ECF6",
           "radialaxis": {
            "gridcolor": "white",
            "linecolor": "white",
            "ticks": ""
           }
          },
          "scene": {
           "xaxis": {
            "backgroundcolor": "#E5ECF6",
            "gridcolor": "white",
            "gridwidth": 2,
            "linecolor": "white",
            "showbackground": true,
            "ticks": "",
            "zerolinecolor": "white"
           },
           "yaxis": {
            "backgroundcolor": "#E5ECF6",
            "gridcolor": "white",
            "gridwidth": 2,
            "linecolor": "white",
            "showbackground": true,
            "ticks": "",
            "zerolinecolor": "white"
           },
           "zaxis": {
            "backgroundcolor": "#E5ECF6",
            "gridcolor": "white",
            "gridwidth": 2,
            "linecolor": "white",
            "showbackground": true,
            "ticks": "",
            "zerolinecolor": "white"
           }
          },
          "shapedefaults": {
           "line": {
            "color": "#2a3f5f"
           }
          },
          "ternary": {
           "aaxis": {
            "gridcolor": "white",
            "linecolor": "white",
            "ticks": ""
           },
           "baxis": {
            "gridcolor": "white",
            "linecolor": "white",
            "ticks": ""
           },
           "bgcolor": "#E5ECF6",
           "caxis": {
            "gridcolor": "white",
            "linecolor": "white",
            "ticks": ""
           }
          },
          "title": {
           "x": 0.05
          },
          "xaxis": {
           "automargin": true,
           "gridcolor": "white",
           "linecolor": "white",
           "ticks": "",
           "title": {
            "standoff": 15
           },
           "zerolinecolor": "white",
           "zerolinewidth": 2
          },
          "yaxis": {
           "automargin": true,
           "gridcolor": "white",
           "linecolor": "white",
           "ticks": "",
           "title": {
            "standoff": 15
           },
           "zerolinecolor": "white",
           "zerolinewidth": 2
          }
         }
        },
        "title": {
         "text": "Label: Abomasnow"
        },
        "width": 500,
        "xaxis": {
         "anchor": "y",
         "domain": [
          0,
          1
         ],
         "showgrid": false,
         "showticklabels": false,
         "visible": false,
         "zeroline": false
        },
        "yaxis": {
         "anchor": "x",
         "domain": [
          0,
          1
         ],
         "showgrid": false,
         "showticklabels": false,
         "visible": false,
         "zeroline": false
        }
       }
      }
     },
     "metadata": {},
     "output_type": "display_data"
    },
    {
     "name": "stdout",
     "output_type": "stream",
     "text": [
      "tf.Tensor([1. 0. 0. 0. 0. 0. 0. 0. 0. 0. 0. 0. 0. 0. 0. 1. 0. 0. 0.], shape=(19,), dtype=float32)\n",
      "(96, 96, 3)\n"
     ]
    },
    {
     "data": {
      "application/vnd.plotly.v1+json": {
       "config": {
        "plotlyServerURL": "https://plot.ly"
       },
       "data": [
        {
         "hovertemplate": "x: %{x}<br>y: %{y}<br>color: [%{z[0]}, %{z[1]}, %{z[2]}]<extra></extra>",
         "name": "0",
         "source": "data:image/png;base64,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",
         "type": "image",
         "xaxis": "x",
         "yaxis": "y"
        }
       ],
       "layout": {
        "height": 350,
        "margin": {
         "l": 0,
         "t": 60
        },
        "shapes": [
         {
          "line": {
           "color": "black",
           "width": 2
          },
          "type": "rect",
          "x0": 0,
          "x1": 96,
          "xref": "x",
          "y0": 0,
          "y1": 96,
          "yref": "y"
         }
        ],
        "template": {
         "data": {
          "bar": [
           {
            "error_x": {
             "color": "#2a3f5f"
            },
            "error_y": {
             "color": "#2a3f5f"
            },
            "marker": {
             "line": {
              "color": "#E5ECF6",
              "width": 0.5
             },
             "pattern": {
              "fillmode": "overlay",
              "size": 10,
              "solidity": 0.2
             }
            },
            "type": "bar"
           }
          ],
          "barpolar": [
           {
            "marker": {
             "line": {
              "color": "#E5ECF6",
              "width": 0.5
             },
             "pattern": {
              "fillmode": "overlay",
              "size": 10,
              "solidity": 0.2
             }
            },
            "type": "barpolar"
           }
          ],
          "carpet": [
           {
            "aaxis": {
             "endlinecolor": "#2a3f5f",
             "gridcolor": "white",
             "linecolor": "white",
             "minorgridcolor": "white",
             "startlinecolor": "#2a3f5f"
            },
            "baxis": {
             "endlinecolor": "#2a3f5f",
             "gridcolor": "white",
             "linecolor": "white",
             "minorgridcolor": "white",
             "startlinecolor": "#2a3f5f"
            },
            "type": "carpet"
           }
          ],
          "choropleth": [
           {
            "colorbar": {
             "outlinewidth": 0,
             "ticks": ""
            },
            "type": "choropleth"
           }
          ],
          "contour": [
           {
            "colorbar": {
             "outlinewidth": 0,
             "ticks": ""
            },
            "colorscale": [
             [
              0,
              "#0d0887"
             ],
             [
              0.1111111111111111,
              "#46039f"
             ],
             [
              0.2222222222222222,
              "#7201a8"
             ],
             [
              0.3333333333333333,
              "#9c179e"
             ],
             [
              0.4444444444444444,
              "#bd3786"
             ],
             [
              0.5555555555555556,
              "#d8576b"
             ],
             [
              0.6666666666666666,
              "#ed7953"
             ],
             [
              0.7777777777777778,
              "#fb9f3a"
             ],
             [
              0.8888888888888888,
              "#fdca26"
             ],
             [
              1,
              "#f0f921"
             ]
            ],
            "type": "contour"
           }
          ],
          "contourcarpet": [
           {
            "colorbar": {
             "outlinewidth": 0,
             "ticks": ""
            },
            "type": "contourcarpet"
           }
          ],
          "heatmap": [
           {
            "colorbar": {
             "outlinewidth": 0,
             "ticks": ""
            },
            "colorscale": [
             [
              0,
              "#0d0887"
             ],
             [
              0.1111111111111111,
              "#46039f"
             ],
             [
              0.2222222222222222,
              "#7201a8"
             ],
             [
              0.3333333333333333,
              "#9c179e"
             ],
             [
              0.4444444444444444,
              "#bd3786"
             ],
             [
              0.5555555555555556,
              "#d8576b"
             ],
             [
              0.6666666666666666,
              "#ed7953"
             ],
             [
              0.7777777777777778,
              "#fb9f3a"
             ],
             [
              0.8888888888888888,
              "#fdca26"
             ],
             [
              1,
              "#f0f921"
             ]
            ],
            "type": "heatmap"
           }
          ],
          "heatmapgl": [
           {
            "colorbar": {
             "outlinewidth": 0,
             "ticks": ""
            },
            "colorscale": [
             [
              0,
              "#0d0887"
             ],
             [
              0.1111111111111111,
              "#46039f"
             ],
             [
              0.2222222222222222,
              "#7201a8"
             ],
             [
              0.3333333333333333,
              "#9c179e"
             ],
             [
              0.4444444444444444,
              "#bd3786"
             ],
             [
              0.5555555555555556,
              "#d8576b"
             ],
             [
              0.6666666666666666,
              "#ed7953"
             ],
             [
              0.7777777777777778,
              "#fb9f3a"
             ],
             [
              0.8888888888888888,
              "#fdca26"
             ],
             [
              1,
              "#f0f921"
             ]
            ],
            "type": "heatmapgl"
           }
          ],
          "histogram": [
           {
            "marker": {
             "pattern": {
              "fillmode": "overlay",
              "size": 10,
              "solidity": 0.2
             }
            },
            "type": "histogram"
           }
          ],
          "histogram2d": [
           {
            "colorbar": {
             "outlinewidth": 0,
             "ticks": ""
            },
            "colorscale": [
             [
              0,
              "#0d0887"
             ],
             [
              0.1111111111111111,
              "#46039f"
             ],
             [
              0.2222222222222222,
              "#7201a8"
             ],
             [
              0.3333333333333333,
              "#9c179e"
             ],
             [
              0.4444444444444444,
              "#bd3786"
             ],
             [
              0.5555555555555556,
              "#d8576b"
             ],
             [
              0.6666666666666666,
              "#ed7953"
             ],
             [
              0.7777777777777778,
              "#fb9f3a"
             ],
             [
              0.8888888888888888,
              "#fdca26"
             ],
             [
              1,
              "#f0f921"
             ]
            ],
            "type": "histogram2d"
           }
          ],
          "histogram2dcontour": [
           {
            "colorbar": {
             "outlinewidth": 0,
             "ticks": ""
            },
            "colorscale": [
             [
              0,
              "#0d0887"
             ],
             [
              0.1111111111111111,
              "#46039f"
             ],
             [
              0.2222222222222222,
              "#7201a8"
             ],
             [
              0.3333333333333333,
              "#9c179e"
             ],
             [
              0.4444444444444444,
              "#bd3786"
             ],
             [
              0.5555555555555556,
              "#d8576b"
             ],
             [
              0.6666666666666666,
              "#ed7953"
             ],
             [
              0.7777777777777778,
              "#fb9f3a"
             ],
             [
              0.8888888888888888,
              "#fdca26"
             ],
             [
              1,
              "#f0f921"
             ]
            ],
            "type": "histogram2dcontour"
           }
          ],
          "mesh3d": [
           {
            "colorbar": {
             "outlinewidth": 0,
             "ticks": ""
            },
            "type": "mesh3d"
           }
          ],
          "parcoords": [
           {
            "line": {
             "colorbar": {
              "outlinewidth": 0,
              "ticks": ""
             }
            },
            "type": "parcoords"
           }
          ],
          "pie": [
           {
            "automargin": true,
            "type": "pie"
           }
          ],
          "scatter": [
           {
            "fillpattern": {
             "fillmode": "overlay",
             "size": 10,
             "solidity": 0.2
            },
            "type": "scatter"
           }
          ],
          "scatter3d": [
           {
            "line": {
             "colorbar": {
              "outlinewidth": 0,
              "ticks": ""
             }
            },
            "marker": {
             "colorbar": {
              "outlinewidth": 0,
              "ticks": ""
             }
            },
            "type": "scatter3d"
           }
          ],
          "scattercarpet": [
           {
            "marker": {
             "colorbar": {
              "outlinewidth": 0,
              "ticks": ""
             }
            },
            "type": "scattercarpet"
           }
          ],
          "scattergeo": [
           {
            "marker": {
             "colorbar": {
              "outlinewidth": 0,
              "ticks": ""
             }
            },
            "type": "scattergeo"
           }
          ],
          "scattergl": [
           {
            "marker": {
             "colorbar": {
              "outlinewidth": 0,
              "ticks": ""
             }
            },
            "type": "scattergl"
           }
          ],
          "scattermapbox": [
           {
            "marker": {
             "colorbar": {
              "outlinewidth": 0,
              "ticks": ""
             }
            },
            "type": "scattermapbox"
           }
          ],
          "scatterpolar": [
           {
            "marker": {
             "colorbar": {
              "outlinewidth": 0,
              "ticks": ""
             }
            },
            "type": "scatterpolar"
           }
          ],
          "scatterpolargl": [
           {
            "marker": {
             "colorbar": {
              "outlinewidth": 0,
              "ticks": ""
             }
            },
            "type": "scatterpolargl"
           }
          ],
          "scatterternary": [
           {
            "marker": {
             "colorbar": {
              "outlinewidth": 0,
              "ticks": ""
             }
            },
            "type": "scatterternary"
           }
          ],
          "surface": [
           {
            "colorbar": {
             "outlinewidth": 0,
             "ticks": ""
            },
            "colorscale": [
             [
              0,
              "#0d0887"
             ],
             [
              0.1111111111111111,
              "#46039f"
             ],
             [
              0.2222222222222222,
              "#7201a8"
             ],
             [
              0.3333333333333333,
              "#9c179e"
             ],
             [
              0.4444444444444444,
              "#bd3786"
             ],
             [
              0.5555555555555556,
              "#d8576b"
             ],
             [
              0.6666666666666666,
              "#ed7953"
             ],
             [
              0.7777777777777778,
              "#fb9f3a"
             ],
             [
              0.8888888888888888,
              "#fdca26"
             ],
             [
              1,
              "#f0f921"
             ]
            ],
            "type": "surface"
           }
          ],
          "table": [
           {
            "cells": {
             "fill": {
              "color": "#EBF0F8"
             },
             "line": {
              "color": "white"
             }
            },
            "header": {
             "fill": {
              "color": "#C8D4E3"
             },
             "line": {
              "color": "white"
             }
            },
            "type": "table"
           }
          ]
         },
         "layout": {
          "annotationdefaults": {
           "arrowcolor": "#2a3f5f",
           "arrowhead": 0,
           "arrowwidth": 1
          },
          "autotypenumbers": "strict",
          "coloraxis": {
           "colorbar": {
            "outlinewidth": 0,
            "ticks": ""
           }
          },
          "colorscale": {
           "diverging": [
            [
             0,
             "#8e0152"
            ],
            [
             0.1,
             "#c51b7d"
            ],
            [
             0.2,
             "#de77ae"
            ],
            [
             0.3,
             "#f1b6da"
            ],
            [
             0.4,
             "#fde0ef"
            ],
            [
             0.5,
             "#f7f7f7"
            ],
            [
             0.6,
             "#e6f5d0"
            ],
            [
             0.7,
             "#b8e186"
            ],
            [
             0.8,
             "#7fbc41"
            ],
            [
             0.9,
             "#4d9221"
            ],
            [
             1,
             "#276419"
            ]
           ],
           "sequential": [
            [
             0,
             "#0d0887"
            ],
            [
             0.1111111111111111,
             "#46039f"
            ],
            [
             0.2222222222222222,
             "#7201a8"
            ],
            [
             0.3333333333333333,
             "#9c179e"
            ],
            [
             0.4444444444444444,
             "#bd3786"
            ],
            [
             0.5555555555555556,
             "#d8576b"
            ],
            [
             0.6666666666666666,
             "#ed7953"
            ],
            [
             0.7777777777777778,
             "#fb9f3a"
            ],
            [
             0.8888888888888888,
             "#fdca26"
            ],
            [
             1,
             "#f0f921"
            ]
           ],
           "sequentialminus": [
            [
             0,
             "#0d0887"
            ],
            [
             0.1111111111111111,
             "#46039f"
            ],
            [
             0.2222222222222222,
             "#7201a8"
            ],
            [
             0.3333333333333333,
             "#9c179e"
            ],
            [
             0.4444444444444444,
             "#bd3786"
            ],
            [
             0.5555555555555556,
             "#d8576b"
            ],
            [
             0.6666666666666666,
             "#ed7953"
            ],
            [
             0.7777777777777778,
             "#fb9f3a"
            ],
            [
             0.8888888888888888,
             "#fdca26"
            ],
            [
             1,
             "#f0f921"
            ]
           ]
          },
          "colorway": [
           "#636efa",
           "#EF553B",
           "#00cc96",
           "#ab63fa",
           "#FFA15A",
           "#19d3f3",
           "#FF6692",
           "#B6E880",
           "#FF97FF",
           "#FECB52"
          ],
          "font": {
           "color": "#2a3f5f"
          },
          "geo": {
           "bgcolor": "white",
           "lakecolor": "white",
           "landcolor": "#E5ECF6",
           "showlakes": true,
           "showland": true,
           "subunitcolor": "white"
          },
          "hoverlabel": {
           "align": "left"
          },
          "hovermode": "closest",
          "mapbox": {
           "style": "light"
          },
          "paper_bgcolor": "white",
          "plot_bgcolor": "#E5ECF6",
          "polar": {
           "angularaxis": {
            "gridcolor": "white",
            "linecolor": "white",
            "ticks": ""
           },
           "bgcolor": "#E5ECF6",
           "radialaxis": {
            "gridcolor": "white",
            "linecolor": "white",
            "ticks": ""
           }
          },
          "scene": {
           "xaxis": {
            "backgroundcolor": "#E5ECF6",
            "gridcolor": "white",
            "gridwidth": 2,
            "linecolor": "white",
            "showbackground": true,
            "ticks": "",
            "zerolinecolor": "white"
           },
           "yaxis": {
            "backgroundcolor": "#E5ECF6",
            "gridcolor": "white",
            "gridwidth": 2,
            "linecolor": "white",
            "showbackground": true,
            "ticks": "",
            "zerolinecolor": "white"
           },
           "zaxis": {
            "backgroundcolor": "#E5ECF6",
            "gridcolor": "white",
            "gridwidth": 2,
            "linecolor": "white",
            "showbackground": true,
            "ticks": "",
            "zerolinecolor": "white"
           }
          },
          "shapedefaults": {
           "line": {
            "color": "#2a3f5f"
           }
          },
          "ternary": {
           "aaxis": {
            "gridcolor": "white",
            "linecolor": "white",
            "ticks": ""
           },
           "baxis": {
            "gridcolor": "white",
            "linecolor": "white",
            "ticks": ""
           },
           "bgcolor": "#E5ECF6",
           "caxis": {
            "gridcolor": "white",
            "linecolor": "white",
            "ticks": ""
           }
          },
          "title": {
           "x": 0.05
          },
          "xaxis": {
           "automargin": true,
           "gridcolor": "white",
           "linecolor": "white",
           "ticks": "",
           "title": {
            "standoff": 15
           },
           "zerolinecolor": "white",
           "zerolinewidth": 2
          },
          "yaxis": {
           "automargin": true,
           "gridcolor": "white",
           "linecolor": "white",
           "ticks": "",
           "title": {
            "standoff": 15
           },
           "zerolinecolor": "white",
           "zerolinewidth": 2
          }
         }
        },
        "title": {
         "text": "Label: Abomasnow"
        },
        "width": 500,
        "xaxis": {
         "anchor": "y",
         "domain": [
          0,
          1
         ],
         "showgrid": false,
         "showticklabels": false,
         "visible": false,
         "zeroline": false
        },
        "yaxis": {
         "anchor": "x",
         "domain": [
          0,
          1
         ],
         "showgrid": false,
         "showticklabels": false,
         "visible": false,
         "zeroline": false
        }
       }
      }
     },
     "metadata": {},
     "output_type": "display_data"
    },
    {
     "name": "stdout",
     "output_type": "stream",
     "text": [
      "tf.Tensor([1. 0. 0. 0. 0. 0. 0. 0. 0. 0. 0. 1. 0. 0. 0. 0. 0. 0. 0.], shape=(19,), dtype=float32)\n",
      "(96, 96, 3)\n"
     ]
    },
    {
     "data": {
      "application/vnd.plotly.v1+json": {
       "config": {
        "plotlyServerURL": "https://plot.ly"
       },
       "data": [
        {
         "hovertemplate": "x: %{x}<br>y: %{y}<br>color: [%{z[0]}, %{z[1]}, %{z[2]}]<extra></extra>",
         "name": "0",
         "source": "data:image/png;base64,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",
         "type": "image",
         "xaxis": "x",
         "yaxis": "y"
        }
       ],
       "layout": {
        "height": 350,
        "margin": {
         "l": 0,
         "t": 60
        },
        "shapes": [
         {
          "line": {
           "color": "black",
           "width": 2
          },
          "type": "rect",
          "x0": 0,
          "x1": 96,
          "xref": "x",
          "y0": 0,
          "y1": 96,
          "yref": "y"
         }
        ],
        "template": {
         "data": {
          "bar": [
           {
            "error_x": {
             "color": "#2a3f5f"
            },
            "error_y": {
             "color": "#2a3f5f"
            },
            "marker": {
             "line": {
              "color": "#E5ECF6",
              "width": 0.5
             },
             "pattern": {
              "fillmode": "overlay",
              "size": 10,
              "solidity": 0.2
             }
            },
            "type": "bar"
           }
          ],
          "barpolar": [
           {
            "marker": {
             "line": {
              "color": "#E5ECF6",
              "width": 0.5
             },
             "pattern": {
              "fillmode": "overlay",
              "size": 10,
              "solidity": 0.2
             }
            },
            "type": "barpolar"
           }
          ],
          "carpet": [
           {
            "aaxis": {
             "endlinecolor": "#2a3f5f",
             "gridcolor": "white",
             "linecolor": "white",
             "minorgridcolor": "white",
             "startlinecolor": "#2a3f5f"
            },
            "baxis": {
             "endlinecolor": "#2a3f5f",
             "gridcolor": "white",
             "linecolor": "white",
             "minorgridcolor": "white",
             "startlinecolor": "#2a3f5f"
            },
            "type": "carpet"
           }
          ],
          "choropleth": [
           {
            "colorbar": {
             "outlinewidth": 0,
             "ticks": ""
            },
            "type": "choropleth"
           }
          ],
          "contour": [
           {
            "colorbar": {
             "outlinewidth": 0,
             "ticks": ""
            },
            "colorscale": [
             [
              0,
              "#0d0887"
             ],
             [
              0.1111111111111111,
              "#46039f"
             ],
             [
              0.2222222222222222,
              "#7201a8"
             ],
             [
              0.3333333333333333,
              "#9c179e"
             ],
             [
              0.4444444444444444,
              "#bd3786"
             ],
             [
              0.5555555555555556,
              "#d8576b"
             ],
             [
              0.6666666666666666,
              "#ed7953"
             ],
             [
              0.7777777777777778,
              "#fb9f3a"
             ],
             [
              0.8888888888888888,
              "#fdca26"
             ],
             [
              1,
              "#f0f921"
             ]
            ],
            "type": "contour"
           }
          ],
          "contourcarpet": [
           {
            "colorbar": {
             "outlinewidth": 0,
             "ticks": ""
            },
            "type": "contourcarpet"
           }
          ],
          "heatmap": [
           {
            "colorbar": {
             "outlinewidth": 0,
             "ticks": ""
            },
            "colorscale": [
             [
              0,
              "#0d0887"
             ],
             [
              0.1111111111111111,
              "#46039f"
             ],
             [
              0.2222222222222222,
              "#7201a8"
             ],
             [
              0.3333333333333333,
              "#9c179e"
             ],
             [
              0.4444444444444444,
              "#bd3786"
             ],
             [
              0.5555555555555556,
              "#d8576b"
             ],
             [
              0.6666666666666666,
              "#ed7953"
             ],
             [
              0.7777777777777778,
              "#fb9f3a"
             ],
             [
              0.8888888888888888,
              "#fdca26"
             ],
             [
              1,
              "#f0f921"
             ]
            ],
            "type": "heatmap"
           }
          ],
          "heatmapgl": [
           {
            "colorbar": {
             "outlinewidth": 0,
             "ticks": ""
            },
            "colorscale": [
             [
              0,
              "#0d0887"
             ],
             [
              0.1111111111111111,
              "#46039f"
             ],
             [
              0.2222222222222222,
              "#7201a8"
             ],
             [
              0.3333333333333333,
              "#9c179e"
             ],
             [
              0.4444444444444444,
              "#bd3786"
             ],
             [
              0.5555555555555556,
              "#d8576b"
             ],
             [
              0.6666666666666666,
              "#ed7953"
             ],
             [
              0.7777777777777778,
              "#fb9f3a"
             ],
             [
              0.8888888888888888,
              "#fdca26"
             ],
             [
              1,
              "#f0f921"
             ]
            ],
            "type": "heatmapgl"
           }
          ],
          "histogram": [
           {
            "marker": {
             "pattern": {
              "fillmode": "overlay",
              "size": 10,
              "solidity": 0.2
             }
            },
            "type": "histogram"
           }
          ],
          "histogram2d": [
           {
            "colorbar": {
             "outlinewidth": 0,
             "ticks": ""
            },
            "colorscale": [
             [
              0,
              "#0d0887"
             ],
             [
              0.1111111111111111,
              "#46039f"
             ],
             [
              0.2222222222222222,
              "#7201a8"
             ],
             [
              0.3333333333333333,
              "#9c179e"
             ],
             [
              0.4444444444444444,
              "#bd3786"
             ],
             [
              0.5555555555555556,
              "#d8576b"
             ],
             [
              0.6666666666666666,
              "#ed7953"
             ],
             [
              0.7777777777777778,
              "#fb9f3a"
             ],
             [
              0.8888888888888888,
              "#fdca26"
             ],
             [
              1,
              "#f0f921"
             ]
            ],
            "type": "histogram2d"
           }
          ],
          "histogram2dcontour": [
           {
            "colorbar": {
             "outlinewidth": 0,
             "ticks": ""
            },
            "colorscale": [
             [
              0,
              "#0d0887"
             ],
             [
              0.1111111111111111,
              "#46039f"
             ],
             [
              0.2222222222222222,
              "#7201a8"
             ],
             [
              0.3333333333333333,
              "#9c179e"
             ],
             [
              0.4444444444444444,
              "#bd3786"
             ],
             [
              0.5555555555555556,
              "#d8576b"
             ],
             [
              0.6666666666666666,
              "#ed7953"
             ],
             [
              0.7777777777777778,
              "#fb9f3a"
             ],
             [
              0.8888888888888888,
              "#fdca26"
             ],
             [
              1,
              "#f0f921"
             ]
            ],
            "type": "histogram2dcontour"
           }
          ],
          "mesh3d": [
           {
            "colorbar": {
             "outlinewidth": 0,
             "ticks": ""
            },
            "type": "mesh3d"
           }
          ],
          "parcoords": [
           {
            "line": {
             "colorbar": {
              "outlinewidth": 0,
              "ticks": ""
             }
            },
            "type": "parcoords"
           }
          ],
          "pie": [
           {
            "automargin": true,
            "type": "pie"
           }
          ],
          "scatter": [
           {
            "fillpattern": {
             "fillmode": "overlay",
             "size": 10,
             "solidity": 0.2
            },
            "type": "scatter"
           }
          ],
          "scatter3d": [
           {
            "line": {
             "colorbar": {
              "outlinewidth": 0,
              "ticks": ""
             }
            },
            "marker": {
             "colorbar": {
              "outlinewidth": 0,
              "ticks": ""
             }
            },
            "type": "scatter3d"
           }
          ],
          "scattercarpet": [
           {
            "marker": {
             "colorbar": {
              "outlinewidth": 0,
              "ticks": ""
             }
            },
            "type": "scattercarpet"
           }
          ],
          "scattergeo": [
           {
            "marker": {
             "colorbar": {
              "outlinewidth": 0,
              "ticks": ""
             }
            },
            "type": "scattergeo"
           }
          ],
          "scattergl": [
           {
            "marker": {
             "colorbar": {
              "outlinewidth": 0,
              "ticks": ""
             }
            },
            "type": "scattergl"
           }
          ],
          "scattermapbox": [
           {
            "marker": {
             "colorbar": {
              "outlinewidth": 0,
              "ticks": ""
             }
            },
            "type": "scattermapbox"
           }
          ],
          "scatterpolar": [
           {
            "marker": {
             "colorbar": {
              "outlinewidth": 0,
              "ticks": ""
             }
            },
            "type": "scatterpolar"
           }
          ],
          "scatterpolargl": [
           {
            "marker": {
             "colorbar": {
              "outlinewidth": 0,
              "ticks": ""
             }
            },
            "type": "scatterpolargl"
           }
          ],
          "scatterternary": [
           {
            "marker": {
             "colorbar": {
              "outlinewidth": 0,
              "ticks": ""
             }
            },
            "type": "scatterternary"
           }
          ],
          "surface": [
           {
            "colorbar": {
             "outlinewidth": 0,
             "ticks": ""
            },
            "colorscale": [
             [
              0,
              "#0d0887"
             ],
             [
              0.1111111111111111,
              "#46039f"
             ],
             [
              0.2222222222222222,
              "#7201a8"
             ],
             [
              0.3333333333333333,
              "#9c179e"
             ],
             [
              0.4444444444444444,
              "#bd3786"
             ],
             [
              0.5555555555555556,
              "#d8576b"
             ],
             [
              0.6666666666666666,
              "#ed7953"
             ],
             [
              0.7777777777777778,
              "#fb9f3a"
             ],
             [
              0.8888888888888888,
              "#fdca26"
             ],
             [
              1,
              "#f0f921"
             ]
            ],
            "type": "surface"
           }
          ],
          "table": [
           {
            "cells": {
             "fill": {
              "color": "#EBF0F8"
             },
             "line": {
              "color": "white"
             }
            },
            "header": {
             "fill": {
              "color": "#C8D4E3"
             },
             "line": {
              "color": "white"
             }
            },
            "type": "table"
           }
          ]
         },
         "layout": {
          "annotationdefaults": {
           "arrowcolor": "#2a3f5f",
           "arrowhead": 0,
           "arrowwidth": 1
          },
          "autotypenumbers": "strict",
          "coloraxis": {
           "colorbar": {
            "outlinewidth": 0,
            "ticks": ""
           }
          },
          "colorscale": {
           "diverging": [
            [
             0,
             "#8e0152"
            ],
            [
             0.1,
             "#c51b7d"
            ],
            [
             0.2,
             "#de77ae"
            ],
            [
             0.3,
             "#f1b6da"
            ],
            [
             0.4,
             "#fde0ef"
            ],
            [
             0.5,
             "#f7f7f7"
            ],
            [
             0.6,
             "#e6f5d0"
            ],
            [
             0.7,
             "#b8e186"
            ],
            [
             0.8,
             "#7fbc41"
            ],
            [
             0.9,
             "#4d9221"
            ],
            [
             1,
             "#276419"
            ]
           ],
           "sequential": [
            [
             0,
             "#0d0887"
            ],
            [
             0.1111111111111111,
             "#46039f"
            ],
            [
             0.2222222222222222,
             "#7201a8"
            ],
            [
             0.3333333333333333,
             "#9c179e"
            ],
            [
             0.4444444444444444,
             "#bd3786"
            ],
            [
             0.5555555555555556,
             "#d8576b"
            ],
            [
             0.6666666666666666,
             "#ed7953"
            ],
            [
             0.7777777777777778,
             "#fb9f3a"
            ],
            [
             0.8888888888888888,
             "#fdca26"
            ],
            [
             1,
             "#f0f921"
            ]
           ],
           "sequentialminus": [
            [
             0,
             "#0d0887"
            ],
            [
             0.1111111111111111,
             "#46039f"
            ],
            [
             0.2222222222222222,
             "#7201a8"
            ],
            [
             0.3333333333333333,
             "#9c179e"
            ],
            [
             0.4444444444444444,
             "#bd3786"
            ],
            [
             0.5555555555555556,
             "#d8576b"
            ],
            [
             0.6666666666666666,
             "#ed7953"
            ],
            [
             0.7777777777777778,
             "#fb9f3a"
            ],
            [
             0.8888888888888888,
             "#fdca26"
            ],
            [
             1,
             "#f0f921"
            ]
           ]
          },
          "colorway": [
           "#636efa",
           "#EF553B",
           "#00cc96",
           "#ab63fa",
           "#FFA15A",
           "#19d3f3",
           "#FF6692",
           "#B6E880",
           "#FF97FF",
           "#FECB52"
          ],
          "font": {
           "color": "#2a3f5f"
          },
          "geo": {
           "bgcolor": "white",
           "lakecolor": "white",
           "landcolor": "#E5ECF6",
           "showlakes": true,
           "showland": true,
           "subunitcolor": "white"
          },
          "hoverlabel": {
           "align": "left"
          },
          "hovermode": "closest",
          "mapbox": {
           "style": "light"
          },
          "paper_bgcolor": "white",
          "plot_bgcolor": "#E5ECF6",
          "polar": {
           "angularaxis": {
            "gridcolor": "white",
            "linecolor": "white",
            "ticks": ""
           },
           "bgcolor": "#E5ECF6",
           "radialaxis": {
            "gridcolor": "white",
            "linecolor": "white",
            "ticks": ""
           }
          },
          "scene": {
           "xaxis": {
            "backgroundcolor": "#E5ECF6",
            "gridcolor": "white",
            "gridwidth": 2,
            "linecolor": "white",
            "showbackground": true,
            "ticks": "",
            "zerolinecolor": "white"
           },
           "yaxis": {
            "backgroundcolor": "#E5ECF6",
            "gridcolor": "white",
            "gridwidth": 2,
            "linecolor": "white",
            "showbackground": true,
            "ticks": "",
            "zerolinecolor": "white"
           },
           "zaxis": {
            "backgroundcolor": "#E5ECF6",
            "gridcolor": "white",
            "gridwidth": 2,
            "linecolor": "white",
            "showbackground": true,
            "ticks": "",
            "zerolinecolor": "white"
           }
          },
          "shapedefaults": {
           "line": {
            "color": "#2a3f5f"
           }
          },
          "ternary": {
           "aaxis": {
            "gridcolor": "white",
            "linecolor": "white",
            "ticks": ""
           },
           "baxis": {
            "gridcolor": "white",
            "linecolor": "white",
            "ticks": ""
           },
           "bgcolor": "#E5ECF6",
           "caxis": {
            "gridcolor": "white",
            "linecolor": "white",
            "ticks": ""
           }
          },
          "title": {
           "x": 0.05
          },
          "xaxis": {
           "automargin": true,
           "gridcolor": "white",
           "linecolor": "white",
           "ticks": "",
           "title": {
            "standoff": 15
           },
           "zerolinecolor": "white",
           "zerolinewidth": 2
          },
          "yaxis": {
           "automargin": true,
           "gridcolor": "white",
           "linecolor": "white",
           "ticks": "",
           "title": {
            "standoff": 15
           },
           "zerolinecolor": "white",
           "zerolinewidth": 2
          }
         }
        },
        "title": {
         "text": "Label: Abomasnow"
        },
        "width": 500,
        "xaxis": {
         "anchor": "y",
         "domain": [
          0,
          1
         ],
         "showgrid": false,
         "showticklabels": false,
         "visible": false,
         "zeroline": false
        },
        "yaxis": {
         "anchor": "x",
         "domain": [
          0,
          1
         ],
         "showgrid": false,
         "showticklabels": false,
         "visible": false,
         "zeroline": false
        }
       }
      }
     },
     "metadata": {},
     "output_type": "display_data"
    }
   ],
   "source": [
    "plot_n_images(train_ds, 5, class_names, GAN=True, size=width)"
   ]
  },
  {
   "cell_type": "code",
   "execution_count": 13,
   "metadata": {},
   "outputs": [],
   "source": [
    "from keras.layers import Input, Dense, Conv2D, Flatten, Lambda, Reshape, BatchNormalization, Concatenate, LeakyReLU, Dropout, Activation, UpSampling2D\n",
    "from keras.models import Model\n",
    "from keras import backend as K\n",
    "import numpy as np\n",
    "\n",
    "\n",
    "def define_encoder(input_shape, latent_dim):\n",
    "    # Define the input shape\n",
    "    input_shape = (96, 96, 3)\n",
    "\n",
    "    # Define the number of latent variables\n",
    "    latent_dim = 100\n",
    "\n",
    "    # Define the encoder architecture\n",
    "    input_encoder = Input(shape=input_shape, name='input_encoder')\n",
    "    x = Conv2D(64, kernel_size=3, strides=2, padding='same', activation='relu')(input_encoder)\n",
    "    x = BatchNormalization()(x)\n",
    "    x = Conv2D(128, kernel_size=3, strides=2, padding='same', activation='relu')(x)\n",
    "    x = BatchNormalization()(x)\n",
    "    x = Conv2D(128, kernel_size=3, strides=2, padding='same', activation='relu')(x)\n",
    "    x = BatchNormalization()(x)\n",
    "    x = Conv2D(256, kernel_size=3, strides=2, padding='same', activation='relu')(x)\n",
    "    x = BatchNormalization()(x)\n",
    "    x = Flatten()(x)\n",
    "    x = Dense(256, activation='relu')(x)\n",
    "    x = BatchNormalization()(x)\n",
    "    z_mean = Dense(latent_dim)(x)\n",
    "    z_log_var = Dense(latent_dim)(x)\n",
    "\n",
    "    # Define the sampling function\n",
    "    def sampling(args):\n",
    "        z_mean, z_log_var = args\n",
    "        epsilon = K.random_normal(shape=(K.shape(z_mean)[0], latent_dim), mean=0., stddev=1.)\n",
    "        return z_mean + K.exp(z_log_var / 2) * epsilon\n",
    "\n",
    "    # Use the sampling function to generate a latent variable z\n",
    "    z = Lambda(sampling, output_shape=(latent_dim,), name='z')([z_mean, z_log_var])\n",
    "\n",
    "    # Define the encoder model\n",
    "    encoder = Model(input_encoder, [z_mean, z_log_var], name='encoder')\n",
    "\n",
    "    return encoder\n",
    "\n",
    "\n",
    "# Define the generator\n",
    "def define_decoder(latent_dim):\n",
    "    # Define the noise vector input\n",
    "    in_lat = tf.keras.layers.Input(shape=(latent_dim,))\n",
    "    # Define the class vector input\n",
    "    # in_class = tf.keras.layers.Input(shape=(num_classes,))\n",
    "    # Concatenate the noise and class vectors\n",
    "    # merge = tf.keras.layers.Concatenate()([in_lat, in_class])\n",
    "    # Project the concatenated vector to a larger dimension\n",
    "    n = 128\n",
    "    size = int(width/16)\n",
    "    n_nodes = n * size * size\n",
    "    dense = tf.keras.layers.Dense(n_nodes)(in_lat)\n",
    "    # Reshape the dense layer output\n",
    "    reshaped = tf.keras.layers.Reshape((size, size, n))(dense)\n",
    "    # Upsample the feature maps\n",
    "    upsampled = tf.keras.layers.Conv2DTranspose(256, (4,4), strides=(2,2), padding='same')(reshaped)\n",
    "    upsampled = tf.keras.layers.LeakyReLU(alpha=0.2)(upsampled)\n",
    "    upsampled = tf.keras.layers.Conv2DTranspose(256, (4,4), strides=(2,2), padding='same')(upsampled)\n",
    "    upsampled = tf.keras.layers.LeakyReLU(alpha=0.2)(upsampled)\n",
    "    upsampled = tf.keras.layers.Conv2DTranspose(128, (4,4), strides=(2,2), padding='same')(upsampled)\n",
    "    upsampled = tf.keras.layers.LeakyReLU(alpha=0.2)(upsampled)\n",
    "    upsampled = tf.keras.layers.Conv2DTranspose(128, (4,4), strides=(2,2), padding='same')(upsampled)\n",
    "    upsampled = tf.keras.layers.LeakyReLU(alpha=0.2)(upsampled)\n",
    "    # Output layer\n",
    "    out_layer = tf.keras.layers.Conv2D(3, (3,3), activation='tanh', padding='same')(upsampled)\n",
    "    # Define the model\n",
    "    model = tf.keras.models.Model(in_lat, out_layer, name='decoder')\n",
    "    return model\n",
    "\n",
    "# Define the sampler network\n",
    "def build_sampler(latent_dim):\n",
    "    # output_shape = input_shape\n",
    "    # Define the input layers for the mean and variance vectors\n",
    "    input_mean = tf.keras.layers.Input(shape=(latent_dim,))\n",
    "    input_var = tf.keras.layers.Input(shape=(latent_dim,))\n",
    "    # Define the sampling layer\n",
    "    def sampling(args):\n",
    "        mean, log_var = args\n",
    "        epsilon = tf.keras.backend.random_normal(shape=(tf.keras.backend.shape(mean)[0], latent_dim), mean=0., stddev=1.)\n",
    "        return mean + tf.keras.backend.exp(0.5 * log_var) * epsilon\n",
    "    # Connect the input layers to the sampling layer\n",
    "    sampled_latent = tf.keras.layers.Lambda(sampling)([input_mean, input_var])\n",
    "    # Connect the sampled latent vector to the decoder\n",
    "    # generated_image = decoder(sampled_latent)\n",
    "    # Define the sampler model\n",
    "    sampler = tf.keras.models.Model(inputs=[input_mean, input_var], outputs=sampled_latent, name='sampler')\n",
    "    return sampler\n"
   ]
  },
  {
   "cell_type": "code",
   "execution_count": 55,
   "metadata": {},
   "outputs": [],
   "source": [
    "def build_discriminator(input_shape, latent_dim):\n",
    "    # Define input layers\n",
    "    img_input = Input(shape=input_shape)\n",
    "    enc_input = Input(shape=(latent_dim,))\n",
    "\n",
    "    # image branch\n",
    "    img_layer = Conv2D(64, (3,3), strides=(2,2), padding='same')(img_input)\n",
    "    img_layer = LeakyReLU(alpha=0.2)(img_layer)\n",
    "    img_layer = Dropout(0.25)(img_layer)\n",
    "    img_layer = Conv2D(128, (3,3), strides=(2,2), padding='same')(img_layer)\n",
    "    img_layer = LeakyReLU(alpha=0.2)(img_layer)\n",
    "    img_layer = Dropout(0.25)(img_layer)\n",
    "    img_layer = Conv2D(256, (3,3), strides=(2,2), padding='same')(img_layer)\n",
    "    img_layer = LeakyReLU(alpha=0.2)(img_layer)\n",
    "    img_layer = Dropout(0.25)(img_layer)\n",
    "    img_layer = Conv2D(512, (3,3), strides=(2,2), padding='same')(img_layer)\n",
    "    img_layer = LeakyReLU(alpha=0.2)(img_layer)\n",
    "    img_layer = Dropout(0.25)(img_layer)\n",
    "    # Flatten the features and classify as real/fake\n",
    "    features = Flatten()(img_layer)\n",
    "\n",
    "    # label branch\n",
    "    latent_layer = tf.keras.layers.Dense(64)(enc_input)\n",
    "    latent_layer = tf.keras.layers.LeakyReLU(alpha=0.2)(latent_layer)\n",
    "    latent_layer = tf.keras.layers.Dense(128)(latent_layer)\n",
    "    latent_layer = tf.keras.layers.LeakyReLU(alpha=0.2)(latent_layer)\n",
    "    latent_layer = tf.keras.layers.Dense(256)(latent_layer)\n",
    "    latent_layer = tf.keras.layers.LeakyReLU(alpha=0.2)(latent_layer)\n",
    "    latent_layer = tf.keras.layers.Dense(256)(latent_layer)\n",
    "    latent_layer = tf.keras.layers.LeakyReLU(alpha=0.2)(latent_layer)\n",
    "    latent_layer = tf.keras.layers.Flatten()(latent_layer)\n",
    "\n",
    "    # Concatenate the input layers\n",
    "    merged_input = Concatenate()([features, latent_layer])\n",
    "    merged_input = tf.keras.layers.Dropout(0.4)(merged_input)\n",
    "    validity = Dense(1, activation='sigmoid')(merged_input)\n",
    "\n",
    "    # Define the model\n",
    "    model = Model(inputs=[img_input, enc_input], outputs=validity, name='discriminator')\n",
    "\n",
    "    # compile the model\n",
    "    opt = tf.keras.optimizers.Adam(learning_rate=0.0001, beta_1=0.5)\n",
    "    model.compile(loss='binary_crossentropy', optimizer=opt, metrics=['accuracy'])\n",
    "    \n",
    "    return model\n"
   ]
  },
  {
   "cell_type": "code",
   "execution_count": 71,
   "metadata": {},
   "outputs": [],
   "source": [
    "def build_vaegan(input_shape, latent_dim):\n",
    "    # Define the encoder and decoder\n",
    "    encoder = define_encoder(input_shape, latent_dim)\n",
    "    decoder = define_decoder(latent_dim)\n",
    "\n",
    "    # Define the discriminator\n",
    "    discriminator = build_discriminator(input_shape, latent_dim)\n",
    "\n",
    "    # Define the sampler\n",
    "    sampler = build_sampler(latent_dim)\n",
    "\n",
    "    # Define the generator\n",
    "    # in_lat = tf.keras.layers.Input(shape=(latent_dim,))\n",
    "    in_shape = tf.keras.layers.Input(shape=input_shape)\n",
    "    # in_class = tf.keras.layers.Input(shape=(num_classes,))\n",
    "    encoded_latent = encoder(in_shape)\n",
    "    sampled_latent = sampler(encoded_latent)\n",
    "    gen_output = decoder(sampled_latent)\n",
    "    # generator = tf.keras.models.Model([in_shape, in_lat], gen_output)\n",
    "\n",
    "    # Freeze the discriminator weights during generator training\n",
    "    discriminator.trainable = False\n",
    "\n",
    "    # Define the GAN model\n",
    "    gan_output = discriminator([gen_output, sampled_latent])\n",
    "    gan_model = tf.keras.models.Model(in_shape, gan_output, name='gan')\n",
    "\n",
    "    # Compile the GAN model\n",
    "    opt = tf.keras.optimizers.Adam(learning_rate=0.0002, beta_1=0.5)\n",
    "    gan_model.compile(loss='binary_crossentropy', optimizer=opt, experimental_run_tf_function=False)\n",
    "\n",
    "    return decoder, discriminator, gan_model, sampler, encoder\n"
   ]
  },
  {
   "cell_type": "code",
   "execution_count": 72,
   "metadata": {},
   "outputs": [],
   "source": [
    "def generate_latent_points(latent_dim, n_samples):\n",
    "    # generate points in the latent space\n",
    "    x_input = tf.random.normal(shape=(n_samples, latent_dim))\n",
    "    return x_input\n",
    "\n",
    "def generate_fake_samples(generator, latent_dim, n_samples):\n",
    "    # generate points in latent space\n",
    "    noise_input = generate_latent_points(latent_dim, n_samples)\n",
    "    # predict outputs\n",
    "    X = generator.predict(noise_input, verbose=0)\n",
    "    # create 'fake' class labels (0)\n",
    "    y_class = tf.zeros((n_samples, 1))\n",
    "    return X, y_class, noise_input\n",
    "\n",
    "def generate_real_samples(dataset, encoder, n_samples):\n",
    "    X, y_class = [], []\n",
    "    while len(X) < n_samples:\n",
    "        dataset.shuffle(100)\n",
    "        for x, label in dataset.take(5):\n",
    "            for i in range(len(x)):\n",
    "                X.append(x[i])\n",
    "                y_class.append(label[i][0])\n",
    "                if len(X) == n_samples:\n",
    "                    break\n",
    "            if len(X) == n_samples:\n",
    "                break\n",
    "    X = tf.stack(X)\n",
    "    y_class = tf.reshape(tf.stack(y_class), (n_samples, 1))\n",
    "    # generate points in latent space using encoder\n",
    "    encoded = encoder.predict(X, verbose=0)\n",
    "    return X, y_class, encoded[0]\n"
   ]
  },
  {
   "cell_type": "code",
   "execution_count": 73,
   "metadata": {},
   "outputs": [],
   "source": [
    "def summarize_performance(epoch, g_model, d_model, encoder, dataset, latent_dim, n_samples=100):\n",
    "    # prepare real samples\n",
    "    X_real, y_real_class, encoded = generate_real_samples(dataset, encoder, n_samples)\n",
    "    # evaluate discriminator on real examples\n",
    "    print(X_real.shape)\n",
    "    print(encoded.shape)\n",
    "    print(y_real_class.shape)\n",
    "    _, acc_real = d_model.evaluate([X_real, encoded], y_real_class, verbose=0)\n",
    "    # prepare fake examples\n",
    "    x_fake, y_fake_class, encoded = generate_fake_samples(g_model, latent_dim, n_samples)\n",
    "    # evaluate discriminator on fake examples\n",
    "    _, acc_fake = d_model.evaluate([x_fake, encoded], y_fake_class, verbose=0)\n",
    "    # summarize discriminator performance\n",
    "    print('>Accuracy real: %.0f%%, fake: %.0f%%' % (acc_real*100, acc_fake*100))\n",
    "    # save plot\n",
    "    save_plot(x_fake, epoch)\n",
    "    save_plot(X_real, epoch, reconstructions=1)\n",
    "    save_plot(g_model.predict(encoded), epoch, reconstructions=2)\n",
    "    # save the generator model tile file\n",
    "    filename = 'vaegenerator_model_96_e%03d.h5' % (epoch+1)\n",
    "    g_model.save(filename)\n",
    "\n",
    "\n",
    "def save_plot(examples, epoch, n=10, reconstructions=0):\n",
    "    # plot images\n",
    "    for i in range(n * n):\n",
    "        # define subplot\n",
    "        plt.subplot(n, n, 1 + i)\n",
    "        # turn off axis\n",
    "        plt.axis('off')\n",
    "        # scale from [-1,1] to [0,1]\n",
    "        examples[i, :, :, :] = (examples[i, :, :, :] + 1) / 2.0\n",
    "        # plot raw pixel data\n",
    "        plt.imshow(examples[i, :, :, :])\n",
    "    # save plot to file\n",
    "    if reconstructions == 0:\n",
    "        filename = 'vae_generated_plot_96_e%03d.png' % (epoch+1)\n",
    "    elif reconstructions == 1:\n",
    "        filename = 'vae_reconstructions_1_plot_96_e%03d.png' % (epoch+1)\n",
    "    else:\n",
    "        filename = 'vae_reconstructions_2_plot_96_e%03d.png' % (epoch+1)\n",
    "    plt.savefig(filename)\n",
    "    plt.close()"
   ]
  },
  {
   "cell_type": "code",
   "execution_count": 91,
   "metadata": {},
   "outputs": [],
   "source": [
    "def train(g_model, d_model, sampler, encoder, gan_model, dataset, latent_dim, n_epochs=10, n_batch=64, resume_training=0):\n",
    "    bat_per_epo = int(dataset.cardinality())\n",
    "    # manually enumerate epochs\n",
    "    for i in range(n_epochs):\n",
    "        # enumerate batches over the training set\n",
    "        for j, batch in enumerate(dataset):\n",
    "            # get randomly selected 'real' samples\n",
    "            X_real, _, y_real_class = batch[0], batch[1][:, 1:], batch[1][:, 0]\n",
    "            encoded_real = sampler.predict(encoder.predict(X_real, verbose=0), verbose=0)\n",
    "            X_real_decoded = g_model.predict(encoded_real, verbose=0)\n",
    "            half_batch = int(X_real.shape[0])\n",
    "            # generate 'fake' examples\n",
    "            X_fake, y_fake_class, noise_input = generate_fake_samples(g_model, latent_dim, half_batch)\n",
    "            # create training set for the discriminator\n",
    "            y_real_class = tf.reshape(y_real_class, (half_batch, 1))\n",
    "            X, encoded, y_class = tf.concat([X_real_decoded, X_fake], axis=0), tf.concat([encoded_real, noise_input], axis=0), tf.concat([y_real_class, y_fake_class], axis=0)\n",
    "            # update discriminator model weights\n",
    "            d_loss, _ = d_model.train_on_batch([X, encoded], y_class)\n",
    "            # prepare points in latent space as input for the generator\n",
    "            X_gan, _, _ = generate_fake_samples(g_model, latent_dim, half_batch)\n",
    "            y_gan_class = tf.ones((half_batch, 1))\n",
    "            g_loss = gan_model.train_on_batch(X_gan, y_gan_class)\n",
    "            # summarize loss on this batch\n",
    "            if j % 10 == 0:\n",
    "                print('>%d, %d/%d, d=%.3f, g=%.3f' % (i+resume_training+1, j+1, bat_per_epo, d_loss, g_loss))\n",
    "        # evaluate the model performance, sometimes\n",
    "        if (i+resume_training) % 2 == 0:\n",
    "            summarize_performance(i+resume_training, g_model, d_model, encoder, dataset, latent_dim)\n",
    "            pass\n",
    "    # save the generator model\n",
    "    g_model.save('vaegenerator_model_96_final.h5')\n"
   ]
  },
  {
   "cell_type": "code",
   "execution_count": 92,
   "metadata": {},
   "outputs": [
    {
     "data": {
      "image/png": "[encoded data removed]",
      "text/plain": [
       "<IPython.core.display.Image object>"
      ]
     },
     "execution_count": 92,
     "metadata": {},
     "output_type": "execute_result"
    }
   ],
   "source": [
    "generator, discriminator, gan_model, sampler, encoder = build_vaegan(input_shape, latent_dim=100)\n",
    "dot_img_file = '/VAEGAN.png'\n",
    "tf.keras.utils.plot_model(gan_model, to_file=dot_img_file, show_shapes=True)"
   ]
  },
  {
   "cell_type": "code",
   "execution_count": 93,
   "metadata": {},
   "outputs": [
    {
     "name": "stdout",
     "output_type": "stream",
     "text": [
      ">1, 1/433, d=0.691, g=0.699\n",
      ">1, 3/433, d=0.692, g=0.698\n",
      ">1, 5/433, d=0.692, g=0.691\n",
      ">1, 7/433, d=0.695, g=0.683\n",
      ">1, 9/433, d=0.691, g=0.680\n",
      ">1, 11/433, d=0.695, g=0.682\n",
      ">1, 13/433, d=0.686, g=0.661\n",
      ">1, 15/433, d=0.694, g=0.677\n",
      ">1, 17/433, d=0.696, g=0.683\n",
      ">1, 19/433, d=0.698, g=0.686\n",
      ">1, 21/433, d=0.692, g=0.674\n",
      ">1, 23/433, d=0.692, g=0.669\n",
      ">1, 25/433, d=0.685, g=0.645\n",
      ">1, 27/433, d=0.687, g=0.641\n",
      ">1, 29/433, d=0.686, g=0.623\n",
      ">1, 31/433, d=0.684, g=0.613\n",
      ">1, 33/433, d=0.673, g=0.600\n",
      ">1, 35/433, d=0.662, g=0.596\n",
      ">1, 37/433, d=0.661, g=0.579\n",
      ">1, 39/433, d=0.662, g=0.549\n",
      ">1, 41/433, d=0.634, g=0.491\n",
      ">1, 43/433, d=0.617, g=0.482\n",
      ">1, 45/433, d=0.599, g=0.516\n",
      ">1, 47/433, d=0.551, g=0.503\n",
      ">1, 49/433, d=0.506, g=0.523\n",
      ">1, 51/433, d=0.457, g=0.628\n",
      ">1, 53/433, d=0.377, g=0.761\n",
      ">1, 55/433, d=0.321, g=0.883\n",
      ">1, 57/433, d=0.328, g=1.016\n",
      ">1, 59/433, d=0.222, g=1.067\n",
      ">1, 61/433, d=0.230, g=1.208\n",
      ">1, 63/433, d=0.187, g=1.705\n",
      ">1, 65/433, d=0.145, g=1.608\n",
      ">1, 67/433, d=0.118, g=2.157\n",
      ">1, 69/433, d=0.113, g=2.671\n",
      ">1, 71/433, d=0.125, g=1.629\n",
      ">1, 73/433, d=0.155, g=1.893\n",
      ">1, 75/433, d=0.156, g=2.617\n",
      ">1, 77/433, d=0.127, g=1.693\n",
      ">1, 79/433, d=0.123, g=1.569\n",
      ">1, 81/433, d=0.167, g=0.916\n",
      ">1, 83/433, d=0.194, g=0.124\n",
      ">1, 85/433, d=0.257, g=0.159\n",
      ">1, 87/433, d=0.077, g=1.378\n",
      ">1, 89/433, d=0.066, g=1.050\n",
      ">1, 91/433, d=0.062, g=0.624\n",
      ">1, 93/433, d=0.050, g=0.964\n",
      ">1, 95/433, d=0.080, g=0.698\n",
      ">1, 97/433, d=0.064, g=0.730\n",
      ">1, 99/433, d=0.081, g=0.878\n",
      ">1, 101/433, d=0.701, g=0.023\n",
      ">1, 103/433, d=0.217, g=0.523\n",
      ">1, 105/433, d=0.054, g=1.133\n",
      ">1, 107/433, d=0.073, g=1.427\n",
      ">1, 109/433, d=0.147, g=1.162\n",
      ">1, 111/433, d=0.059, g=0.997\n",
      ">1, 113/433, d=0.057, g=0.647\n",
      ">1, 115/433, d=0.056, g=0.587\n",
      ">1, 117/433, d=0.092, g=1.165\n",
      ">1, 119/433, d=0.125, g=0.401\n",
      ">1, 121/433, d=0.124, g=1.230\n",
      ">1, 123/433, d=0.138, g=0.763\n",
      ">1, 125/433, d=0.060, g=0.689\n",
      ">1, 127/433, d=0.087, g=0.596\n",
      ">1, 129/433, d=0.075, g=0.884\n",
      ">1, 131/433, d=0.084, g=0.604\n",
      ">1, 133/433, d=0.100, g=0.601\n",
      ">1, 135/433, d=0.042, g=0.408\n",
      ">1, 137/433, d=0.098, g=0.499\n",
      ">1, 139/433, d=0.052, g=0.454\n",
      ">1, 141/433, d=0.220, g=0.087\n",
      ">1, 143/433, d=0.199, g=0.703\n",
      ">1, 145/433, d=0.183, g=0.282\n",
      ">1, 147/433, d=0.148, g=0.292\n",
      ">1, 149/433, d=0.266, g=0.099\n",
      ">1, 151/433, d=0.278, g=0.145\n",
      ">1, 153/433, d=0.502, g=0.058\n",
      ">1, 155/433, d=0.397, g=0.103\n",
      ">1, 157/433, d=0.364, g=0.136\n",
      ">1, 159/433, d=0.335, g=0.165\n",
      ">1, 161/433, d=0.400, g=0.134\n",
      ">1, 163/433, d=0.253, g=0.142\n",
      ">1, 165/433, d=0.272, g=0.052\n",
      ">1, 167/433, d=0.191, g=0.231\n",
      ">1, 169/433, d=0.112, g=0.222\n",
      ">1, 171/433, d=0.120, g=0.152\n",
      ">1, 173/433, d=0.146, g=0.064\n",
      ">1, 175/433, d=0.109, g=0.094\n",
      ">1, 177/433, d=0.129, g=0.039\n",
      ">1, 179/433, d=0.112, g=0.202\n",
      ">1, 181/433, d=0.105, g=0.197\n",
      ">1, 183/433, d=0.074, g=0.035\n",
      ">1, 185/433, d=0.077, g=0.058\n",
      ">1, 187/433, d=0.067, g=0.085\n",
      ">1, 189/433, d=0.071, g=0.150\n",
      ">1, 191/433, d=0.050, g=0.055\n",
      ">1, 193/433, d=0.058, g=0.034\n",
      ">1, 195/433, d=0.053, g=0.023\n",
      ">1, 197/433, d=0.065, g=0.030\n",
      ">1, 199/433, d=0.075, g=0.035\n",
      ">1, 201/433, d=0.063, g=0.115\n",
      ">1, 203/433, d=0.025, g=0.114\n",
      ">1, 205/433, d=0.024, g=0.086\n",
      ">1, 207/433, d=0.036, g=0.043\n",
      ">1, 209/433, d=0.025, g=0.151\n",
      ">1, 211/433, d=0.036, g=0.056\n",
      ">1, 213/433, d=0.014, g=0.127\n",
      ">1, 215/433, d=0.018, g=0.013\n",
      ">1, 217/433, d=0.014, g=0.022\n",
      ">1, 219/433, d=0.009, g=0.022\n",
      ">1, 221/433, d=0.022, g=0.023\n",
      ">1, 223/433, d=0.012, g=0.017\n",
      ">1, 225/433, d=0.028, g=0.018\n",
      ">1, 227/433, d=0.017, g=0.017\n",
      ">1, 229/433, d=0.015, g=0.016\n",
      ">1, 231/433, d=0.010, g=0.006\n",
      ">1, 233/433, d=0.010, g=0.018\n",
      ">1, 235/433, d=0.006, g=0.087\n",
      ">1, 237/433, d=0.008, g=0.011\n",
      ">1, 239/433, d=0.012, g=0.037\n",
      ">1, 241/433, d=0.009, g=0.010\n",
      ">1, 243/433, d=0.004, g=0.036\n",
      ">1, 245/433, d=0.018, g=0.091\n",
      ">1, 247/433, d=0.006, g=0.015\n",
      ">1, 249/433, d=0.009, g=0.005\n",
      ">1, 251/433, d=0.007, g=0.012\n",
      ">1, 253/433, d=0.007, g=0.010\n",
      ">1, 255/433, d=0.007, g=0.008\n",
      ">1, 257/433, d=0.008, g=0.006\n",
      ">1, 259/433, d=0.011, g=0.031\n",
      ">1, 261/433, d=0.008, g=0.043\n",
      ">1, 263/433, d=0.007, g=0.002\n",
      ">1, 265/433, d=0.005, g=0.038\n",
      ">1, 267/433, d=0.004, g=0.008\n",
      ">1, 269/433, d=0.003, g=0.002\n",
      ">1, 271/433, d=0.003, g=0.002\n",
      ">1, 273/433, d=0.007, g=0.000\n",
      ">1, 275/433, d=0.016, g=0.001\n",
      ">1, 277/433, d=0.007, g=0.006\n",
      ">1, 279/433, d=0.004, g=0.007\n",
      ">1, 281/433, d=0.002, g=0.002\n",
      ">1, 283/433, d=0.002, g=0.005\n",
      ">1, 285/433, d=0.002, g=0.004\n",
      ">1, 287/433, d=0.005, g=0.026\n",
      ">1, 289/433, d=0.005, g=0.007\n",
      ">1, 291/433, d=0.002, g=0.005\n",
      ">1, 293/433, d=0.004, g=0.003\n",
      ">1, 295/433, d=0.002, g=0.009\n",
      ">1, 297/433, d=0.004, g=0.004\n",
      ">1, 299/433, d=0.001, g=0.032\n",
      ">1, 301/433, d=0.001, g=0.006\n",
      ">1, 303/433, d=0.001, g=0.005\n",
      ">1, 305/433, d=0.002, g=0.008\n",
      ">1, 307/433, d=0.002, g=0.001\n",
      ">1, 309/433, d=0.002, g=0.002\n",
      ">1, 311/433, d=0.002, g=0.003\n",
      ">1, 313/433, d=0.003, g=0.017\n",
      ">1, 315/433, d=0.001, g=0.004\n",
      ">1, 317/433, d=0.002, g=0.003\n",
      ">1, 319/433, d=0.002, g=0.002\n",
      ">1, 321/433, d=0.006, g=0.006\n",
      ">1, 323/433, d=0.002, g=0.005\n",
      ">1, 325/433, d=0.007, g=0.000\n",
      ">1, 327/433, d=0.014, g=0.001\n",
      ">1, 329/433, d=0.001, g=0.002\n",
      ">1, 331/433, d=0.003, g=0.001\n",
      ">1, 333/433, d=0.002, g=0.000\n",
      ">1, 335/433, d=0.002, g=0.005\n",
      ">1, 337/433, d=0.002, g=0.000\n",
      ">1, 339/433, d=0.006, g=0.001\n",
      ">1, 341/433, d=0.049, g=0.000\n",
      ">1, 343/433, d=0.008, g=0.000\n",
      ">1, 345/433, d=0.004, g=0.000\n",
      ">1, 347/433, d=0.012, g=0.000\n",
      ">1, 349/433, d=0.019, g=0.000\n",
      ">1, 351/433, d=0.009, g=0.000\n",
      ">1, 353/433, d=0.123, g=0.000\n",
      ">1, 355/433, d=0.007, g=0.000\n",
      ">1, 357/433, d=0.173, g=0.000\n",
      ">1, 359/433, d=0.395, g=0.000\n",
      ">1, 361/433, d=0.101, g=0.000\n",
      ">1, 363/433, d=0.016, g=0.000\n",
      ">1, 365/433, d=0.001, g=0.000\n",
      ">1, 367/433, d=0.038, g=0.000\n",
      ">1, 369/433, d=0.049, g=0.001\n",
      ">1, 371/433, d=0.713, g=0.000\n",
      ">1, 373/433, d=0.009, g=0.001\n",
      ">1, 375/433, d=0.001, g=0.003\n",
      ">1, 377/433, d=0.000, g=0.000\n",
      ">1, 379/433, d=0.000, g=0.000\n",
      ">1, 381/433, d=0.418, g=0.000\n",
      ">1, 383/433, d=0.002, g=0.000\n",
      ">1, 385/433, d=0.005, g=0.000\n",
      ">1, 387/433, d=0.933, g=0.000\n",
      ">1, 389/433, d=0.003, g=0.000\n",
      ">1, 391/433, d=0.001, g=0.000\n",
      ">1, 393/433, d=0.001, g=0.000\n",
      ">1, 395/433, d=0.002, g=0.001\n",
      ">1, 397/433, d=0.000, g=0.001\n",
      ">1, 399/433, d=0.001, g=0.000\n",
      ">1, 401/433, d=0.000, g=0.001\n",
      ">1, 403/433, d=0.001, g=0.000\n",
      ">1, 405/433, d=0.015, g=0.000\n",
      ">1, 407/433, d=0.010, g=0.000\n",
      ">1, 409/433, d=0.001, g=0.000\n",
      ">1, 411/433, d=0.000, g=0.000\n",
      ">1, 413/433, d=0.000, g=0.000\n",
      ">1, 415/433, d=0.000, g=0.000\n",
      ">1, 417/433, d=0.000, g=0.002\n",
      ">1, 419/433, d=0.000, g=0.013\n",
      ">1, 421/433, d=0.000, g=0.001\n",
      ">1, 423/433, d=0.000, g=0.000\n",
      ">1, 425/433, d=0.000, g=0.000\n",
      ">1, 427/433, d=0.000, g=0.000\n",
      ">1, 429/433, d=0.000, g=0.001\n",
      ">1, 431/433, d=0.000, g=0.001\n",
      ">1, 433/433, d=0.000, g=0.123\n",
      "(100, 96, 96, 3)\n",
      "(100, 100)\n",
      "(100, 1)\n",
      ">Accuracy real: 100%, fake: 99%\n",
      "WARNING:tensorflow:Compiled the loaded model, but the compiled metrics have yet to be built. `model.compile_metrics` will be empty until you train or evaluate the model.\n",
      ">2, 1/433, d=0.000, g=0.000\n",
      ">2, 3/433, d=0.000, g=0.000\n",
      ">2, 5/433, d=0.000, g=0.000\n",
      ">2, 7/433, d=0.000, g=0.000\n",
      ">2, 9/433, d=0.000, g=0.000\n",
      ">2, 11/433, d=0.000, g=0.001\n",
      ">2, 13/433, d=0.000, g=0.000\n",
      ">2, 15/433, d=0.000, g=0.088\n",
      ">2, 17/433, d=0.000, g=0.002\n",
      ">2, 19/433, d=0.000, g=0.000\n",
      ">2, 21/433, d=0.000, g=0.001\n",
      ">2, 23/433, d=0.000, g=0.002\n",
      ">2, 25/433, d=0.000, g=0.000\n",
      ">2, 27/433, d=0.000, g=0.000\n",
      ">2, 29/433, d=0.000, g=0.000\n",
      ">2, 31/433, d=0.000, g=0.000\n",
      ">2, 33/433, d=0.000, g=0.000\n",
      ">2, 35/433, d=0.000, g=0.000\n",
      ">2, 37/433, d=0.000, g=0.000\n",
      ">2, 39/433, d=0.000, g=0.001\n",
      ">2, 41/433, d=0.000, g=0.002\n",
      ">2, 43/433, d=0.000, g=0.000\n",
      ">2, 45/433, d=0.000, g=0.001\n",
      ">2, 47/433, d=0.000, g=0.000\n",
      ">2, 49/433, d=0.000, g=0.000\n",
      ">2, 51/433, d=0.000, g=0.000\n",
      ">2, 53/433, d=0.000, g=0.000\n",
      ">2, 55/433, d=0.000, g=0.000\n",
      ">2, 57/433, d=0.000, g=0.000\n",
      ">2, 59/433, d=0.000, g=0.000\n",
      ">2, 61/433, d=0.000, g=0.000\n",
      ">2, 63/433, d=0.000, g=0.000\n",
      ">2, 65/433, d=0.000, g=0.002\n",
      ">2, 67/433, d=0.000, g=0.000\n",
      ">2, 69/433, d=0.000, g=0.000\n",
      ">2, 71/433, d=0.000, g=0.000\n",
      ">2, 73/433, d=0.000, g=0.000\n",
      ">2, 75/433, d=0.000, g=0.000\n",
      ">2, 77/433, d=0.000, g=0.001\n",
      ">2, 79/433, d=0.000, g=0.003\n",
      ">2, 81/433, d=0.000, g=0.000\n",
      ">2, 83/433, d=0.000, g=0.001\n",
      ">2, 85/433, d=0.000, g=0.000\n",
      ">2, 87/433, d=0.000, g=0.000\n",
      ">2, 89/433, d=0.000, g=0.000\n",
      ">2, 91/433, d=0.000, g=0.000\n",
      ">2, 93/433, d=0.000, g=0.000\n",
      ">2, 95/433, d=0.000, g=0.000\n",
      ">2, 97/433, d=0.000, g=0.000\n",
      ">2, 99/433, d=0.000, g=0.000\n",
      ">2, 101/433, d=0.000, g=0.000\n",
      ">2, 103/433, d=0.000, g=0.000\n",
      ">2, 105/433, d=0.000, g=0.000\n",
      ">2, 107/433, d=0.000, g=0.000\n",
      ">2, 109/433, d=0.000, g=0.000\n",
      ">2, 111/433, d=0.000, g=0.000\n",
      ">2, 113/433, d=0.000, g=0.003\n",
      ">2, 115/433, d=nan, g=nan\n",
      ">2, 117/433, d=nan, g=nan\n",
      ">2, 119/433, d=nan, g=nan\n",
      ">2, 121/433, d=nan, g=nan\n",
      ">2, 123/433, d=nan, g=nan\n",
      ">2, 125/433, d=nan, g=nan\n",
      ">2, 127/433, d=nan, g=nan\n",
      ">2, 129/433, d=nan, g=nan\n",
      ">2, 131/433, d=nan, g=nan\n",
      ">2, 133/433, d=nan, g=nan\n",
      ">2, 135/433, d=nan, g=nan\n",
      ">2, 137/433, d=nan, g=nan\n",
      ">2, 139/433, d=nan, g=nan\n",
      ">2, 141/433, d=nan, g=nan\n",
      ">2, 143/433, d=nan, g=nan\n",
      ">2, 145/433, d=nan, g=nan\n",
      ">2, 147/433, d=nan, g=nan\n",
      ">2, 149/433, d=nan, g=nan\n",
      ">2, 151/433, d=nan, g=nan\n",
      ">2, 153/433, d=nan, g=nan\n",
      ">2, 155/433, d=nan, g=nan\n",
      ">2, 157/433, d=nan, g=nan\n",
      ">2, 159/433, d=nan, g=nan\n",
      ">2, 161/433, d=nan, g=nan\n",
      ">2, 163/433, d=nan, g=nan\n",
      ">2, 165/433, d=nan, g=nan\n",
      ">2, 167/433, d=nan, g=nan\n",
      ">2, 169/433, d=nan, g=nan\n",
      ">2, 171/433, d=nan, g=nan\n",
      ">2, 173/433, d=nan, g=nan\n",
      ">2, 175/433, d=nan, g=nan\n",
      ">2, 177/433, d=nan, g=nan\n",
      ">2, 179/433, d=nan, g=nan\n",
      ">2, 181/433, d=nan, g=nan\n",
      ">2, 183/433, d=nan, g=nan\n",
      ">2, 185/433, d=nan, g=nan\n",
      ">2, 187/433, d=nan, g=nan\n",
      ">2, 189/433, d=nan, g=nan\n",
      ">2, 191/433, d=nan, g=nan\n",
      ">2, 193/433, d=nan, g=nan\n",
      ">2, 195/433, d=nan, g=nan\n",
      ">2, 197/433, d=nan, g=nan\n",
      ">2, 199/433, d=nan, g=nan\n",
      ">2, 201/433, d=nan, g=nan\n",
      ">2, 203/433, d=nan, g=nan\n",
      ">2, 205/433, d=nan, g=nan\n",
      ">2, 207/433, d=nan, g=nan\n",
      ">2, 209/433, d=nan, g=nan\n",
      ">2, 211/433, d=nan, g=nan\n",
      ">2, 213/433, d=nan, g=nan\n",
      ">2, 215/433, d=nan, g=nan\n",
      ">2, 217/433, d=nan, g=nan\n",
      ">2, 219/433, d=nan, g=nan\n",
      ">2, 221/433, d=nan, g=nan\n",
      ">2, 223/433, d=nan, g=nan\n",
      ">2, 225/433, d=nan, g=nan\n",
      ">2, 227/433, d=nan, g=nan\n",
      ">2, 229/433, d=nan, g=nan\n",
      ">2, 231/433, d=nan, g=nan\n",
      ">2, 233/433, d=nan, g=nan\n",
      ">2, 235/433, d=nan, g=nan\n",
      ">2, 237/433, d=nan, g=nan\n",
      ">2, 239/433, d=nan, g=nan\n",
      ">2, 241/433, d=nan, g=nan\n",
      ">2, 243/433, d=nan, g=nan\n",
      ">2, 245/433, d=nan, g=nan\n",
      ">2, 247/433, d=nan, g=nan\n",
      ">2, 249/433, d=nan, g=nan\n",
      ">2, 251/433, d=nan, g=nan\n",
      ">2, 253/433, d=nan, g=nan\n",
      ">2, 255/433, d=nan, g=nan\n",
      ">2, 257/433, d=nan, g=nan\n",
      ">2, 259/433, d=nan, g=nan\n",
      ">2, 261/433, d=nan, g=nan\n",
      ">2, 263/433, d=nan, g=nan\n",
      ">2, 265/433, d=nan, g=nan\n",
      ">2, 267/433, d=nan, g=nan\n",
      ">2, 269/433, d=nan, g=nan\n",
      ">2, 271/433, d=nan, g=nan\n",
      ">2, 273/433, d=nan, g=nan\n",
      ">2, 275/433, d=nan, g=nan\n",
      ">2, 277/433, d=nan, g=nan\n",
      ">2, 279/433, d=nan, g=nan\n",
      ">2, 281/433, d=nan, g=nan\n",
      ">2, 283/433, d=nan, g=nan\n",
      ">2, 285/433, d=nan, g=nan\n",
      ">2, 287/433, d=nan, g=nan\n",
      ">2, 289/433, d=nan, g=nan\n",
      ">2, 291/433, d=nan, g=nan\n",
      ">2, 293/433, d=nan, g=nan\n",
      ">2, 295/433, d=nan, g=nan\n",
      ">2, 297/433, d=nan, g=nan\n",
      ">2, 299/433, d=nan, g=nan\n",
      ">2, 301/433, d=nan, g=nan\n",
      ">2, 303/433, d=nan, g=nan\n",
      ">2, 305/433, d=nan, g=nan\n",
      ">2, 307/433, d=nan, g=nan\n",
      ">2, 309/433, d=nan, g=nan\n",
      ">2, 311/433, d=nan, g=nan\n",
      ">2, 313/433, d=nan, g=nan\n",
      ">2, 315/433, d=nan, g=nan\n",
      ">2, 317/433, d=nan, g=nan\n",
      ">2, 319/433, d=nan, g=nan\n",
      ">2, 321/433, d=nan, g=nan\n",
      ">2, 323/433, d=nan, g=nan\n",
      ">2, 325/433, d=nan, g=nan\n",
      ">2, 327/433, d=nan, g=nan\n",
      ">2, 329/433, d=nan, g=nan\n",
      ">2, 331/433, d=nan, g=nan\n",
      ">2, 333/433, d=nan, g=nan\n",
      ">2, 335/433, d=nan, g=nan\n",
      ">2, 337/433, d=nan, g=nan\n",
      ">2, 339/433, d=nan, g=nan\n",
      ">2, 341/433, d=nan, g=nan\n",
      ">2, 343/433, d=nan, g=nan\n",
      ">2, 345/433, d=nan, g=nan\n",
      ">2, 347/433, d=nan, g=nan\n",
      ">2, 349/433, d=nan, g=nan\n",
      ">2, 351/433, d=nan, g=nan\n",
      ">2, 353/433, d=nan, g=nan\n",
      ">2, 355/433, d=nan, g=nan\n",
      ">2, 357/433, d=nan, g=nan\n",
      ">2, 359/433, d=nan, g=nan\n",
      ">2, 361/433, d=nan, g=nan\n",
      ">2, 363/433, d=nan, g=nan\n",
      ">2, 365/433, d=nan, g=nan\n",
      ">2, 367/433, d=nan, g=nan\n",
      ">2, 369/433, d=nan, g=nan\n",
      ">2, 371/433, d=nan, g=nan\n",
      ">2, 373/433, d=nan, g=nan\n",
      ">2, 375/433, d=nan, g=nan\n",
      ">2, 377/433, d=nan, g=nan\n",
      ">2, 379/433, d=nan, g=nan\n",
      ">2, 381/433, d=nan, g=nan\n",
      ">2, 383/433, d=nan, g=nan\n",
      ">2, 385/433, d=nan, g=nan\n",
      ">2, 387/433, d=nan, g=nan\n",
      ">2, 389/433, d=nan, g=nan\n",
      ">2, 391/433, d=nan, g=nan\n",
      ">2, 393/433, d=nan, g=nan\n",
      ">2, 395/433, d=nan, g=nan\n",
      ">2, 397/433, d=nan, g=nan\n",
      ">2, 399/433, d=nan, g=nan\n",
      ">2, 401/433, d=nan, g=nan\n",
      ">2, 403/433, d=nan, g=nan\n",
      ">2, 405/433, d=nan, g=nan\n",
      ">2, 407/433, d=nan, g=nan\n",
      ">2, 409/433, d=nan, g=nan\n",
      ">2, 411/433, d=nan, g=nan\n",
      ">2, 413/433, d=nan, g=nan\n",
      ">2, 415/433, d=nan, g=nan\n",
      ">2, 417/433, d=nan, g=nan\n",
      ">2, 419/433, d=nan, g=nan\n",
      ">2, 421/433, d=nan, g=nan\n",
      ">2, 423/433, d=nan, g=nan\n",
      ">2, 425/433, d=nan, g=nan\n",
      ">2, 427/433, d=nan, g=nan\n",
      ">2, 429/433, d=nan, g=nan\n",
      ">2, 431/433, d=nan, g=nan\n",
      ">2, 433/433, d=nan, g=nan\n",
      ">3, 1/433, d=nan, g=nan\n",
      ">3, 3/433, d=nan, g=nan\n",
      ">3, 5/433, d=nan, g=nan\n",
      ">3, 7/433, d=nan, g=nan\n",
      ">3, 9/433, d=nan, g=nan\n",
      ">3, 11/433, d=nan, g=nan\n",
      ">3, 13/433, d=nan, g=nan\n",
      ">3, 15/433, d=nan, g=nan\n",
      ">3, 17/433, d=nan, g=nan\n",
      ">3, 19/433, d=nan, g=nan\n",
      ">3, 21/433, d=nan, g=nan\n",
      ">3, 23/433, d=nan, g=nan\n",
      ">3, 25/433, d=nan, g=nan\n",
      ">3, 27/433, d=nan, g=nan\n",
      ">3, 29/433, d=nan, g=nan\n",
      ">3, 31/433, d=nan, g=nan\n",
      ">3, 33/433, d=nan, g=nan\n",
      ">3, 35/433, d=nan, g=nan\n",
      ">3, 37/433, d=nan, g=nan\n",
      ">3, 39/433, d=nan, g=nan\n",
      ">3, 41/433, d=nan, g=nan\n",
      ">3, 43/433, d=nan, g=nan\n",
      ">3, 45/433, d=nan, g=nan\n",
      ">3, 47/433, d=nan, g=nan\n",
      ">3, 49/433, d=nan, g=nan\n",
      ">3, 51/433, d=nan, g=nan\n",
      ">3, 53/433, d=nan, g=nan\n",
      ">3, 55/433, d=nan, g=nan\n",
      ">3, 57/433, d=nan, g=nan\n",
      ">3, 59/433, d=nan, g=nan\n",
      ">3, 61/433, d=nan, g=nan\n",
      ">3, 63/433, d=nan, g=nan\n",
      ">3, 65/433, d=nan, g=nan\n",
      ">3, 67/433, d=nan, g=nan\n",
      ">3, 69/433, d=nan, g=nan\n",
      ">3, 71/433, d=nan, g=nan\n",
      ">3, 73/433, d=nan, g=nan\n",
      ">3, 75/433, d=nan, g=nan\n",
      ">3, 77/433, d=nan, g=nan\n",
      ">3, 79/433, d=nan, g=nan\n",
      ">3, 81/433, d=nan, g=nan\n",
      ">3, 83/433, d=nan, g=nan\n",
      ">3, 85/433, d=nan, g=nan\n",
      ">3, 87/433, d=nan, g=nan\n",
      ">3, 89/433, d=nan, g=nan\n",
      ">3, 91/433, d=nan, g=nan\n",
      ">3, 93/433, d=nan, g=nan\n",
      ">3, 95/433, d=nan, g=nan\n",
      ">3, 97/433, d=nan, g=nan\n",
      ">3, 99/433, d=nan, g=nan\n",
      ">3, 101/433, d=nan, g=nan\n",
      ">3, 103/433, d=nan, g=nan\n",
      ">3, 105/433, d=nan, g=nan\n",
      ">3, 107/433, d=nan, g=nan\n",
      ">3, 109/433, d=nan, g=nan\n",
      ">3, 111/433, d=nan, g=nan\n",
      ">3, 113/433, d=nan, g=nan\n",
      ">3, 115/433, d=nan, g=nan\n",
      ">3, 117/433, d=nan, g=nan\n",
      ">3, 119/433, d=nan, g=nan\n",
      ">3, 121/433, d=nan, g=nan\n",
      ">3, 123/433, d=nan, g=nan\n",
      ">3, 125/433, d=nan, g=nan\n",
      ">3, 127/433, d=nan, g=nan\n",
      ">3, 129/433, d=nan, g=nan\n",
      ">3, 131/433, d=nan, g=nan\n",
      ">3, 133/433, d=nan, g=nan\n",
      ">3, 135/433, d=nan, g=nan\n",
      ">3, 137/433, d=nan, g=nan\n",
      ">3, 139/433, d=nan, g=nan\n",
      ">3, 141/433, d=nan, g=nan\n",
      ">3, 143/433, d=nan, g=nan\n",
      ">3, 145/433, d=nan, g=nan\n",
      ">3, 147/433, d=nan, g=nan\n",
      ">3, 149/433, d=nan, g=nan\n",
      ">3, 151/433, d=nan, g=nan\n",
      ">3, 153/433, d=nan, g=nan\n",
      ">3, 155/433, d=nan, g=nan\n",
      ">3, 157/433, d=nan, g=nan\n",
      ">3, 159/433, d=nan, g=nan\n",
      ">3, 161/433, d=nan, g=nan\n",
      ">3, 163/433, d=nan, g=nan\n",
      ">3, 165/433, d=nan, g=nan\n",
      ">3, 167/433, d=nan, g=nan\n",
      ">3, 169/433, d=nan, g=nan\n",
      ">3, 171/433, d=nan, g=nan\n",
      ">3, 173/433, d=nan, g=nan\n",
      ">3, 175/433, d=nan, g=nan\n",
      ">3, 177/433, d=nan, g=nan\n",
      ">3, 179/433, d=nan, g=nan\n",
      ">3, 181/433, d=nan, g=nan\n",
      ">3, 183/433, d=nan, g=nan\n",
      ">3, 185/433, d=nan, g=nan\n",
      ">3, 187/433, d=nan, g=nan\n",
      ">3, 189/433, d=nan, g=nan\n",
      ">3, 191/433, d=nan, g=nan\n",
      ">3, 193/433, d=nan, g=nan\n",
      ">3, 195/433, d=nan, g=nan\n",
      ">3, 197/433, d=nan, g=nan\n",
      ">3, 199/433, d=nan, g=nan\n",
      ">3, 201/433, d=nan, g=nan\n",
      ">3, 203/433, d=nan, g=nan\n",
      ">3, 205/433, d=nan, g=nan\n",
      ">3, 207/433, d=nan, g=nan\n",
      ">3, 209/433, d=nan, g=nan\n",
      ">3, 211/433, d=nan, g=nan\n",
      ">3, 213/433, d=nan, g=nan\n",
      ">3, 215/433, d=nan, g=nan\n",
      ">3, 217/433, d=nan, g=nan\n",
      ">3, 219/433, d=nan, g=nan\n",
      ">3, 221/433, d=nan, g=nan\n",
      ">3, 223/433, d=nan, g=nan\n",
      ">3, 225/433, d=nan, g=nan\n",
      ">3, 227/433, d=nan, g=nan\n",
      ">3, 229/433, d=nan, g=nan\n",
      ">3, 231/433, d=nan, g=nan\n",
      ">3, 233/433, d=nan, g=nan\n",
      ">3, 235/433, d=nan, g=nan\n",
      ">3, 237/433, d=nan, g=nan\n",
      ">3, 239/433, d=nan, g=nan\n",
      ">3, 241/433, d=nan, g=nan\n",
      ">3, 243/433, d=nan, g=nan\n",
      ">3, 245/433, d=nan, g=nan\n",
      ">3, 247/433, d=nan, g=nan\n",
      ">3, 249/433, d=nan, g=nan\n",
      ">3, 251/433, d=nan, g=nan\n",
      ">3, 253/433, d=nan, g=nan\n",
      ">3, 255/433, d=nan, g=nan\n",
      ">3, 257/433, d=nan, g=nan\n",
      ">3, 259/433, d=nan, g=nan\n",
      ">3, 261/433, d=nan, g=nan\n",
      ">3, 263/433, d=nan, g=nan\n",
      ">3, 265/433, d=nan, g=nan\n",
      ">3, 267/433, d=nan, g=nan\n",
      ">3, 269/433, d=nan, g=nan\n",
      ">3, 271/433, d=nan, g=nan\n",
      ">3, 273/433, d=nan, g=nan\n",
      ">3, 275/433, d=nan, g=nan\n",
      ">3, 277/433, d=nan, g=nan\n",
      ">3, 279/433, d=nan, g=nan\n",
      ">3, 281/433, d=nan, g=nan\n",
      ">3, 283/433, d=nan, g=nan\n",
      ">3, 285/433, d=nan, g=nan\n",
      ">3, 287/433, d=nan, g=nan\n",
      ">3, 289/433, d=nan, g=nan\n",
      ">3, 291/433, d=nan, g=nan\n",
      ">3, 293/433, d=nan, g=nan\n",
      ">3, 295/433, d=nan, g=nan\n",
      ">3, 297/433, d=nan, g=nan\n",
      ">3, 299/433, d=nan, g=nan\n",
      ">3, 301/433, d=nan, g=nan\n",
      ">3, 303/433, d=nan, g=nan\n",
      ">3, 305/433, d=nan, g=nan\n",
      ">3, 307/433, d=nan, g=nan\n",
      ">3, 309/433, d=nan, g=nan\n",
      ">3, 311/433, d=nan, g=nan\n",
      ">3, 313/433, d=nan, g=nan\n",
      ">3, 315/433, d=nan, g=nan\n",
      ">3, 317/433, d=nan, g=nan\n",
      ">3, 319/433, d=nan, g=nan\n",
      ">3, 321/433, d=nan, g=nan\n",
      ">3, 323/433, d=nan, g=nan\n",
      ">3, 325/433, d=nan, g=nan\n",
      ">3, 327/433, d=nan, g=nan\n",
      ">3, 329/433, d=nan, g=nan\n",
      ">3, 331/433, d=nan, g=nan\n",
      ">3, 333/433, d=nan, g=nan\n",
      ">3, 335/433, d=nan, g=nan\n",
      ">3, 337/433, d=nan, g=nan\n",
      ">3, 339/433, d=nan, g=nan\n",
      ">3, 341/433, d=nan, g=nan\n",
      ">3, 343/433, d=nan, g=nan\n",
      ">3, 345/433, d=nan, g=nan\n",
      ">3, 347/433, d=nan, g=nan\n",
      ">3, 349/433, d=nan, g=nan\n",
      ">3, 351/433, d=nan, g=nan\n",
      ">3, 353/433, d=nan, g=nan\n",
      ">3, 355/433, d=nan, g=nan\n",
      ">3, 357/433, d=nan, g=nan\n",
      ">3, 359/433, d=nan, g=nan\n",
      ">3, 361/433, d=nan, g=nan\n",
      ">3, 363/433, d=nan, g=nan\n",
      ">3, 365/433, d=nan, g=nan\n",
      ">3, 367/433, d=nan, g=nan\n",
      ">3, 369/433, d=nan, g=nan\n",
      ">3, 371/433, d=nan, g=nan\n",
      ">3, 373/433, d=nan, g=nan\n",
      ">3, 375/433, d=nan, g=nan\n",
      ">3, 377/433, d=nan, g=nan\n",
      ">3, 379/433, d=nan, g=nan\n",
      ">3, 381/433, d=nan, g=nan\n",
      ">3, 383/433, d=nan, g=nan\n",
      ">3, 385/433, d=nan, g=nan\n",
      ">3, 387/433, d=nan, g=nan\n",
      ">3, 389/433, d=nan, g=nan\n",
      ">3, 391/433, d=nan, g=nan\n",
      ">3, 393/433, d=nan, g=nan\n",
      ">3, 395/433, d=nan, g=nan\n",
      ">3, 397/433, d=nan, g=nan\n",
      ">3, 399/433, d=nan, g=nan\n",
      ">3, 401/433, d=nan, g=nan\n",
      ">3, 403/433, d=nan, g=nan\n",
      ">3, 405/433, d=nan, g=nan\n",
      ">3, 407/433, d=nan, g=nan\n",
      ">3, 409/433, d=nan, g=nan\n",
      ">3, 411/433, d=nan, g=nan\n",
      ">3, 413/433, d=nan, g=nan\n",
      ">3, 415/433, d=nan, g=nan\n",
      ">3, 417/433, d=nan, g=nan\n",
      ">3, 419/433, d=nan, g=nan\n",
      ">3, 421/433, d=nan, g=nan\n",
      ">3, 423/433, d=nan, g=nan\n",
      ">3, 425/433, d=nan, g=nan\n",
      ">3, 427/433, d=nan, g=nan\n",
      ">3, 429/433, d=nan, g=nan\n",
      ">3, 431/433, d=nan, g=nan\n",
      ">3, 433/433, d=nan, g=nan\n",
      ">4, 1/433, d=nan, g=nan\n",
      ">4, 3/433, d=nan, g=nan\n",
      ">4, 5/433, d=nan, g=nan\n",
      ">4, 7/433, d=nan, g=nan\n",
      ">4, 9/433, d=nan, g=nan\n",
      ">4, 11/433, d=nan, g=nan\n",
      ">4, 13/433, d=nan, g=nan\n",
      ">4, 15/433, d=nan, g=nan\n",
      ">4, 17/433, d=nan, g=nan\n",
      ">4, 19/433, d=nan, g=nan\n",
      ">4, 21/433, d=nan, g=nan\n",
      ">4, 23/433, d=nan, g=nan\n",
      ">4, 25/433, d=nan, g=nan\n",
      ">4, 27/433, d=nan, g=nan\n",
      ">4, 29/433, d=nan, g=nan\n",
      ">4, 31/433, d=nan, g=nan\n",
      ">4, 33/433, d=nan, g=nan\n",
      ">4, 35/433, d=nan, g=nan\n",
      ">4, 37/433, d=nan, g=nan\n",
      ">4, 39/433, d=nan, g=nan\n",
      ">4, 41/433, d=nan, g=nan\n",
      ">4, 43/433, d=nan, g=nan\n",
      ">4, 45/433, d=nan, g=nan\n",
      ">4, 47/433, d=nan, g=nan\n",
      ">4, 49/433, d=nan, g=nan\n",
      ">4, 51/433, d=nan, g=nan\n",
      ">4, 53/433, d=nan, g=nan\n",
      ">4, 55/433, d=nan, g=nan\n",
      ">4, 57/433, d=nan, g=nan\n",
      ">4, 59/433, d=nan, g=nan\n",
      ">4, 61/433, d=nan, g=nan\n",
      ">4, 63/433, d=nan, g=nan\n",
      ">4, 65/433, d=nan, g=nan\n",
      ">4, 67/433, d=nan, g=nan\n",
      ">4, 69/433, d=nan, g=nan\n",
      ">4, 71/433, d=nan, g=nan\n",
      ">4, 73/433, d=nan, g=nan\n",
      ">4, 75/433, d=nan, g=nan\n",
      ">4, 77/433, d=nan, g=nan\n",
      ">4, 79/433, d=nan, g=nan\n",
      ">4, 81/433, d=nan, g=nan\n",
      ">4, 83/433, d=nan, g=nan\n",
      ">4, 85/433, d=nan, g=nan\n",
      ">4, 87/433, d=nan, g=nan\n",
      ">4, 89/433, d=nan, g=nan\n",
      ">4, 91/433, d=nan, g=nan\n",
      ">4, 93/433, d=nan, g=nan\n",
      ">4, 95/433, d=nan, g=nan\n",
      ">4, 97/433, d=nan, g=nan\n",
      ">4, 99/433, d=nan, g=nan\n",
      ">4, 101/433, d=nan, g=nan\n",
      ">4, 103/433, d=nan, g=nan\n",
      ">4, 105/433, d=nan, g=nan\n",
      ">4, 107/433, d=nan, g=nan\n",
      ">4, 109/433, d=nan, g=nan\n",
      ">4, 111/433, d=nan, g=nan\n",
      ">4, 113/433, d=nan, g=nan\n",
      ">4, 115/433, d=nan, g=nan\n",
      ">4, 117/433, d=nan, g=nan\n",
      ">4, 119/433, d=nan, g=nan\n",
      ">4, 121/433, d=nan, g=nan\n",
      ">4, 123/433, d=nan, g=nan\n",
      ">4, 125/433, d=nan, g=nan\n",
      ">4, 127/433, d=nan, g=nan\n",
      ">4, 129/433, d=nan, g=nan\n",
      ">4, 131/433, d=nan, g=nan\n",
      ">4, 133/433, d=nan, g=nan\n",
      ">4, 135/433, d=nan, g=nan\n",
      ">4, 137/433, d=nan, g=nan\n",
      ">4, 139/433, d=nan, g=nan\n",
      ">4, 141/433, d=nan, g=nan\n",
      ">4, 143/433, d=nan, g=nan\n",
      ">4, 145/433, d=nan, g=nan\n",
      ">4, 147/433, d=nan, g=nan\n",
      ">4, 149/433, d=nan, g=nan\n",
      ">4, 151/433, d=nan, g=nan\n",
      ">4, 153/433, d=nan, g=nan\n",
      ">4, 155/433, d=nan, g=nan\n",
      ">4, 157/433, d=nan, g=nan\n",
      ">4, 159/433, d=nan, g=nan\n",
      ">4, 161/433, d=nan, g=nan\n",
      ">4, 163/433, d=nan, g=nan\n",
      ">4, 165/433, d=nan, g=nan\n",
      ">4, 167/433, d=nan, g=nan\n",
      ">4, 169/433, d=nan, g=nan\n",
      ">4, 171/433, d=nan, g=nan\n",
      ">4, 173/433, d=nan, g=nan\n",
      ">4, 175/433, d=nan, g=nan\n",
      ">4, 177/433, d=nan, g=nan\n",
      ">4, 179/433, d=nan, g=nan\n",
      ">4, 181/433, d=nan, g=nan\n",
      ">4, 183/433, d=nan, g=nan\n",
      ">4, 185/433, d=nan, g=nan\n",
      ">4, 187/433, d=nan, g=nan\n",
      ">4, 189/433, d=nan, g=nan\n",
      ">4, 191/433, d=nan, g=nan\n",
      ">4, 193/433, d=nan, g=nan\n",
      ">4, 195/433, d=nan, g=nan\n",
      ">4, 197/433, d=nan, g=nan\n",
      ">4, 199/433, d=nan, g=nan\n",
      ">4, 201/433, d=nan, g=nan\n",
      ">4, 203/433, d=nan, g=nan\n",
      ">4, 205/433, d=nan, g=nan\n",
      ">4, 207/433, d=nan, g=nan\n",
      ">4, 209/433, d=nan, g=nan\n",
      ">4, 211/433, d=nan, g=nan\n",
      ">4, 213/433, d=nan, g=nan\n",
      ">4, 215/433, d=nan, g=nan\n",
      ">4, 217/433, d=nan, g=nan\n",
      ">4, 219/433, d=nan, g=nan\n",
      ">4, 221/433, d=nan, g=nan\n",
      ">4, 223/433, d=nan, g=nan\n",
      ">4, 225/433, d=nan, g=nan\n",
      ">4, 227/433, d=nan, g=nan\n",
      ">4, 229/433, d=nan, g=nan\n",
      ">4, 231/433, d=nan, g=nan\n",
      ">4, 233/433, d=nan, g=nan\n",
      ">4, 235/433, d=nan, g=nan\n",
      ">4, 237/433, d=nan, g=nan\n",
      ">4, 239/433, d=nan, g=nan\n",
      ">4, 241/433, d=nan, g=nan\n",
      ">4, 243/433, d=nan, g=nan\n",
      ">4, 245/433, d=nan, g=nan\n",
      ">4, 247/433, d=nan, g=nan\n",
      ">4, 249/433, d=nan, g=nan\n",
      ">4, 251/433, d=nan, g=nan\n",
      ">4, 253/433, d=nan, g=nan\n",
      ">4, 255/433, d=nan, g=nan\n",
      ">4, 257/433, d=nan, g=nan\n",
      ">4, 259/433, d=nan, g=nan\n",
      ">4, 261/433, d=nan, g=nan\n",
      ">4, 263/433, d=nan, g=nan\n",
      ">4, 265/433, d=nan, g=nan\n",
      ">4, 267/433, d=nan, g=nan\n",
      ">4, 269/433, d=nan, g=nan\n",
      ">4, 271/433, d=nan, g=nan\n",
      ">4, 273/433, d=nan, g=nan\n",
      ">4, 275/433, d=nan, g=nan\n",
      ">4, 277/433, d=nan, g=nan\n",
      ">4, 279/433, d=nan, g=nan\n",
      ">4, 281/433, d=nan, g=nan\n",
      ">4, 283/433, d=nan, g=nan\n",
      ">4, 285/433, d=nan, g=nan\n",
      ">4, 287/433, d=nan, g=nan\n",
      ">4, 289/433, d=nan, g=nan\n",
      ">4, 291/433, d=nan, g=nan\n",
      ">4, 293/433, d=nan, g=nan\n",
      ">4, 295/433, d=nan, g=nan\n",
      ">4, 297/433, d=nan, g=nan\n",
      ">4, 299/433, d=nan, g=nan\n",
      ">4, 301/433, d=nan, g=nan\n",
      ">4, 303/433, d=nan, g=nan\n",
      ">4, 305/433, d=nan, g=nan\n",
      ">4, 307/433, d=nan, g=nan\n",
      ">4, 309/433, d=nan, g=nan\n",
      ">4, 311/433, d=nan, g=nan\n",
      ">4, 313/433, d=nan, g=nan\n",
      ">4, 315/433, d=nan, g=nan\n",
      ">4, 317/433, d=nan, g=nan\n",
      ">4, 319/433, d=nan, g=nan\n",
      ">4, 321/433, d=nan, g=nan\n",
      ">4, 323/433, d=nan, g=nan\n",
      ">4, 325/433, d=nan, g=nan\n",
      ">4, 327/433, d=nan, g=nan\n",
      ">4, 329/433, d=nan, g=nan\n",
      ">4, 331/433, d=nan, g=nan\n",
      ">4, 333/433, d=nan, g=nan\n",
      ">4, 335/433, d=nan, g=nan\n",
      ">4, 337/433, d=nan, g=nan\n",
      ">4, 339/433, d=nan, g=nan\n",
      ">4, 341/433, d=nan, g=nan\n",
      ">4, 343/433, d=nan, g=nan\n",
      ">4, 345/433, d=nan, g=nan\n",
      ">4, 347/433, d=nan, g=nan\n",
      ">4, 349/433, d=nan, g=nan\n",
      ">4, 351/433, d=nan, g=nan\n",
      ">4, 353/433, d=nan, g=nan\n",
      ">4, 355/433, d=nan, g=nan\n",
      ">4, 357/433, d=nan, g=nan\n",
      ">4, 359/433, d=nan, g=nan\n",
      ">4, 361/433, d=nan, g=nan\n",
      ">4, 363/433, d=nan, g=nan\n",
      ">4, 365/433, d=nan, g=nan\n",
      ">4, 367/433, d=nan, g=nan\n",
      ">4, 369/433, d=nan, g=nan\n",
      ">4, 371/433, d=nan, g=nan\n",
      ">4, 373/433, d=nan, g=nan\n",
      ">4, 375/433, d=nan, g=nan\n",
      ">4, 377/433, d=nan, g=nan\n",
      ">4, 379/433, d=nan, g=nan\n",
      ">4, 381/433, d=nan, g=nan\n",
      ">4, 383/433, d=nan, g=nan\n",
      ">4, 385/433, d=nan, g=nan\n",
      ">4, 387/433, d=nan, g=nan\n",
      ">4, 389/433, d=nan, g=nan\n",
      ">4, 391/433, d=nan, g=nan\n",
      ">4, 393/433, d=nan, g=nan\n",
      ">4, 395/433, d=nan, g=nan\n",
      ">4, 397/433, d=nan, g=nan\n",
      ">4, 399/433, d=nan, g=nan\n",
      ">4, 401/433, d=nan, g=nan\n",
      ">4, 403/433, d=nan, g=nan\n",
      ">4, 405/433, d=nan, g=nan\n",
      ">4, 407/433, d=nan, g=nan\n",
      ">4, 409/433, d=nan, g=nan\n",
      ">4, 411/433, d=nan, g=nan\n",
      ">4, 413/433, d=nan, g=nan\n",
      ">4, 415/433, d=nan, g=nan\n",
      ">4, 417/433, d=nan, g=nan\n",
      ">4, 419/433, d=nan, g=nan\n",
      ">4, 421/433, d=nan, g=nan\n",
      ">4, 423/433, d=nan, g=nan\n",
      ">4, 425/433, d=nan, g=nan\n",
      ">4, 427/433, d=nan, g=nan\n",
      ">4, 429/433, d=nan, g=nan\n",
      ">4, 431/433, d=nan, g=nan\n",
      ">4, 433/433, d=nan, g=nan\n",
      ">5, 1/433, d=nan, g=nan\n",
      ">5, 3/433, d=nan, g=nan\n",
      ">5, 5/433, d=nan, g=nan\n",
      ">5, 7/433, d=nan, g=nan\n",
      ">5, 9/433, d=nan, g=nan\n",
      ">5, 11/433, d=nan, g=nan\n",
      ">5, 13/433, d=nan, g=nan\n",
      ">5, 15/433, d=nan, g=nan\n",
      ">5, 17/433, d=nan, g=nan\n",
      ">5, 19/433, d=nan, g=nan\n",
      ">5, 21/433, d=nan, g=nan\n",
      ">5, 23/433, d=nan, g=nan\n",
      ">5, 25/433, d=nan, g=nan\n",
      ">5, 27/433, d=nan, g=nan\n",
      ">5, 29/433, d=nan, g=nan\n",
      ">5, 31/433, d=nan, g=nan\n",
      ">5, 33/433, d=nan, g=nan\n",
      ">5, 35/433, d=nan, g=nan\n",
      ">5, 37/433, d=nan, g=nan\n",
      ">5, 39/433, d=nan, g=nan\n",
      ">5, 41/433, d=nan, g=nan\n",
      ">5, 43/433, d=nan, g=nan\n",
      ">5, 45/433, d=nan, g=nan\n",
      ">5, 47/433, d=nan, g=nan\n",
      ">5, 49/433, d=nan, g=nan\n",
      ">5, 51/433, d=nan, g=nan\n",
      ">5, 53/433, d=nan, g=nan\n",
      ">5, 55/433, d=nan, g=nan\n",
      ">5, 57/433, d=nan, g=nan\n",
      ">5, 59/433, d=nan, g=nan\n",
      ">5, 61/433, d=nan, g=nan\n",
      ">5, 63/433, d=nan, g=nan\n",
      ">5, 65/433, d=nan, g=nan\n",
      ">5, 67/433, d=nan, g=nan\n",
      ">5, 69/433, d=nan, g=nan\n",
      ">5, 71/433, d=nan, g=nan\n",
      ">5, 73/433, d=nan, g=nan\n",
      ">5, 75/433, d=nan, g=nan\n",
      ">5, 77/433, d=nan, g=nan\n",
      ">5, 79/433, d=nan, g=nan\n",
      ">5, 81/433, d=nan, g=nan\n",
      ">5, 83/433, d=nan, g=nan\n",
      ">5, 85/433, d=nan, g=nan\n",
      ">5, 87/433, d=nan, g=nan\n",
      ">5, 89/433, d=nan, g=nan\n",
      ">5, 91/433, d=nan, g=nan\n",
      ">5, 93/433, d=nan, g=nan\n",
      ">5, 95/433, d=nan, g=nan\n",
      ">5, 97/433, d=nan, g=nan\n",
      ">5, 99/433, d=nan, g=nan\n",
      ">5, 101/433, d=nan, g=nan\n",
      ">5, 103/433, d=nan, g=nan\n",
      ">5, 105/433, d=nan, g=nan\n",
      ">5, 107/433, d=nan, g=nan\n",
      ">5, 109/433, d=nan, g=nan\n",
      ">5, 111/433, d=nan, g=nan\n",
      ">5, 113/433, d=nan, g=nan\n",
      ">5, 115/433, d=nan, g=nan\n",
      ">5, 117/433, d=nan, g=nan\n",
      ">5, 119/433, d=nan, g=nan\n",
      ">5, 121/433, d=nan, g=nan\n",
      ">5, 123/433, d=nan, g=nan\n",
      ">5, 125/433, d=nan, g=nan\n",
      ">5, 127/433, d=nan, g=nan\n",
      ">5, 129/433, d=nan, g=nan\n",
      ">5, 131/433, d=nan, g=nan\n",
      ">5, 133/433, d=nan, g=nan\n",
      ">5, 135/433, d=nan, g=nan\n",
      ">5, 137/433, d=nan, g=nan\n",
      ">5, 139/433, d=nan, g=nan\n",
      ">5, 141/433, d=nan, g=nan\n",
      ">5, 143/433, d=nan, g=nan\n",
      ">5, 145/433, d=nan, g=nan\n",
      ">5, 147/433, d=nan, g=nan\n",
      ">5, 149/433, d=nan, g=nan\n",
      ">5, 151/433, d=nan, g=nan\n",
      ">5, 153/433, d=nan, g=nan\n",
      ">5, 155/433, d=nan, g=nan\n",
      ">5, 157/433, d=nan, g=nan\n",
      ">5, 159/433, d=nan, g=nan\n",
      ">5, 161/433, d=nan, g=nan\n",
      ">5, 163/433, d=nan, g=nan\n",
      ">5, 165/433, d=nan, g=nan\n",
      ">5, 167/433, d=nan, g=nan\n",
      ">5, 169/433, d=nan, g=nan\n",
      ">5, 171/433, d=nan, g=nan\n",
      ">5, 173/433, d=nan, g=nan\n",
      ">5, 175/433, d=nan, g=nan\n",
      ">5, 177/433, d=nan, g=nan\n",
      ">5, 179/433, d=nan, g=nan\n",
      ">5, 181/433, d=nan, g=nan\n",
      ">5, 183/433, d=nan, g=nan\n",
      ">5, 185/433, d=nan, g=nan\n",
      ">5, 187/433, d=nan, g=nan\n",
      ">5, 189/433, d=nan, g=nan\n",
      ">5, 191/433, d=nan, g=nan\n",
      ">5, 193/433, d=nan, g=nan\n",
      ">5, 195/433, d=nan, g=nan\n",
      ">5, 197/433, d=nan, g=nan\n",
      ">5, 199/433, d=nan, g=nan\n",
      ">5, 201/433, d=nan, g=nan\n",
      ">5, 203/433, d=nan, g=nan\n",
      ">5, 205/433, d=nan, g=nan\n",
      ">5, 207/433, d=nan, g=nan\n",
      ">5, 209/433, d=nan, g=nan\n",
      ">5, 211/433, d=nan, g=nan\n",
      ">5, 213/433, d=nan, g=nan\n",
      ">5, 215/433, d=nan, g=nan\n",
      ">5, 217/433, d=nan, g=nan\n",
      ">5, 219/433, d=nan, g=nan\n",
      ">5, 221/433, d=nan, g=nan\n",
      ">5, 223/433, d=nan, g=nan\n",
      ">5, 225/433, d=nan, g=nan\n",
      ">5, 227/433, d=nan, g=nan\n",
      ">5, 229/433, d=nan, g=nan\n",
      ">5, 231/433, d=nan, g=nan\n",
      ">5, 233/433, d=nan, g=nan\n",
      ">5, 235/433, d=nan, g=nan\n",
      ">5, 237/433, d=nan, g=nan\n",
      ">5, 239/433, d=nan, g=nan\n",
      ">5, 241/433, d=nan, g=nan\n",
      ">5, 243/433, d=nan, g=nan\n",
      ">5, 245/433, d=nan, g=nan\n",
      ">5, 247/433, d=nan, g=nan\n",
      ">5, 249/433, d=nan, g=nan\n",
      ">5, 251/433, d=nan, g=nan\n",
      ">5, 253/433, d=nan, g=nan\n",
      ">5, 255/433, d=nan, g=nan\n",
      ">5, 257/433, d=nan, g=nan\n",
      ">5, 259/433, d=nan, g=nan\n",
      ">5, 261/433, d=nan, g=nan\n",
      ">5, 263/433, d=nan, g=nan\n",
      ">5, 265/433, d=nan, g=nan\n",
      ">5, 267/433, d=nan, g=nan\n",
      ">5, 269/433, d=nan, g=nan\n",
      ">5, 271/433, d=nan, g=nan\n",
      ">5, 273/433, d=nan, g=nan\n",
      ">5, 275/433, d=nan, g=nan\n",
      ">5, 277/433, d=nan, g=nan\n",
      ">5, 279/433, d=nan, g=nan\n",
      ">5, 281/433, d=nan, g=nan\n",
      ">5, 283/433, d=nan, g=nan\n",
      ">5, 285/433, d=nan, g=nan\n",
      ">5, 287/433, d=nan, g=nan\n",
      ">5, 289/433, d=nan, g=nan\n",
      ">5, 291/433, d=nan, g=nan\n",
      ">5, 293/433, d=nan, g=nan\n",
      ">5, 295/433, d=nan, g=nan\n",
      ">5, 297/433, d=nan, g=nan\n",
      ">5, 299/433, d=nan, g=nan\n",
      ">5, 301/433, d=nan, g=nan\n",
      ">5, 303/433, d=nan, g=nan\n",
      ">5, 305/433, d=nan, g=nan\n",
      ">5, 307/433, d=nan, g=nan\n",
      ">5, 309/433, d=nan, g=nan\n",
      ">5, 311/433, d=nan, g=nan\n",
      ">5, 313/433, d=nan, g=nan\n",
      ">5, 315/433, d=nan, g=nan\n",
      ">5, 317/433, d=nan, g=nan\n",
      ">5, 319/433, d=nan, g=nan\n",
      ">5, 321/433, d=nan, g=nan\n",
      ">5, 323/433, d=nan, g=nan\n",
      ">5, 325/433, d=nan, g=nan\n",
      ">5, 327/433, d=nan, g=nan\n",
      ">5, 329/433, d=nan, g=nan\n",
      ">5, 331/433, d=nan, g=nan\n",
      ">5, 333/433, d=nan, g=nan\n",
      ">5, 335/433, d=nan, g=nan\n",
      ">5, 337/433, d=nan, g=nan\n",
      ">5, 339/433, d=nan, g=nan\n",
      ">5, 341/433, d=nan, g=nan\n",
      ">5, 343/433, d=nan, g=nan\n",
      ">5, 345/433, d=nan, g=nan\n",
      ">5, 347/433, d=nan, g=nan\n",
      ">5, 349/433, d=nan, g=nan\n",
      ">5, 351/433, d=nan, g=nan\n",
      ">5, 353/433, d=nan, g=nan\n",
      ">5, 355/433, d=nan, g=nan\n",
      ">5, 357/433, d=nan, g=nan\n",
      ">5, 359/433, d=nan, g=nan\n",
      ">5, 361/433, d=nan, g=nan\n",
      ">5, 363/433, d=nan, g=nan\n",
      ">5, 365/433, d=nan, g=nan\n",
      ">5, 367/433, d=nan, g=nan\n",
      ">5, 369/433, d=nan, g=nan\n",
      ">5, 371/433, d=nan, g=nan\n",
      ">5, 373/433, d=nan, g=nan\n",
      ">5, 375/433, d=nan, g=nan\n",
      ">5, 377/433, d=nan, g=nan\n",
      ">5, 379/433, d=nan, g=nan\n",
      ">5, 381/433, d=nan, g=nan\n",
      ">5, 383/433, d=nan, g=nan\n",
      ">5, 385/433, d=nan, g=nan\n",
      ">5, 387/433, d=nan, g=nan\n",
      ">5, 389/433, d=nan, g=nan\n",
      ">5, 391/433, d=nan, g=nan\n",
      ">5, 393/433, d=nan, g=nan\n",
      ">5, 395/433, d=nan, g=nan\n",
      ">5, 397/433, d=nan, g=nan\n",
      ">5, 399/433, d=nan, g=nan\n",
      ">5, 401/433, d=nan, g=nan\n",
      ">5, 403/433, d=nan, g=nan\n",
      ">5, 405/433, d=nan, g=nan\n",
      ">5, 407/433, d=nan, g=nan\n",
      ">5, 409/433, d=nan, g=nan\n",
      ">5, 411/433, d=nan, g=nan\n",
      ">5, 413/433, d=nan, g=nan\n",
      ">5, 415/433, d=nan, g=nan\n",
      ">5, 417/433, d=nan, g=nan\n",
      ">5, 419/433, d=nan, g=nan\n",
      ">5, 421/433, d=nan, g=nan\n",
      ">5, 423/433, d=nan, g=nan\n",
      ">5, 425/433, d=nan, g=nan\n",
      ">5, 427/433, d=nan, g=nan\n",
      ">5, 429/433, d=nan, g=nan\n",
      ">5, 431/433, d=nan, g=nan\n",
      ">5, 433/433, d=nan, g=nan\n",
      ">6, 1/433, d=nan, g=nan\n",
      ">6, 3/433, d=nan, g=nan\n",
      ">6, 5/433, d=nan, g=nan\n",
      ">6, 7/433, d=nan, g=nan\n",
      ">6, 9/433, d=nan, g=nan\n",
      ">6, 11/433, d=nan, g=nan\n",
      ">6, 13/433, d=nan, g=nan\n",
      ">6, 15/433, d=nan, g=nan\n",
      ">6, 17/433, d=nan, g=nan\n",
      ">6, 19/433, d=nan, g=nan\n",
      ">6, 21/433, d=nan, g=nan\n",
      ">6, 23/433, d=nan, g=nan\n",
      ">6, 25/433, d=nan, g=nan\n",
      ">6, 27/433, d=nan, g=nan\n",
      ">6, 29/433, d=nan, g=nan\n",
      ">6, 31/433, d=nan, g=nan\n",
      ">6, 33/433, d=nan, g=nan\n",
      ">6, 35/433, d=nan, g=nan\n",
      ">6, 37/433, d=nan, g=nan\n",
      ">6, 39/433, d=nan, g=nan\n",
      ">6, 41/433, d=nan, g=nan\n",
      ">6, 43/433, d=nan, g=nan\n",
      ">6, 45/433, d=nan, g=nan\n",
      ">6, 47/433, d=nan, g=nan\n",
      ">6, 49/433, d=nan, g=nan\n",
      ">6, 51/433, d=nan, g=nan\n",
      ">6, 53/433, d=nan, g=nan\n",
      ">6, 55/433, d=nan, g=nan\n",
      ">6, 57/433, d=nan, g=nan\n",
      ">6, 59/433, d=nan, g=nan\n",
      ">6, 61/433, d=nan, g=nan\n",
      ">6, 63/433, d=nan, g=nan\n",
      ">6, 65/433, d=nan, g=nan\n",
      ">6, 67/433, d=nan, g=nan\n",
      ">6, 69/433, d=nan, g=nan\n",
      ">6, 71/433, d=nan, g=nan\n",
      ">6, 73/433, d=nan, g=nan\n",
      ">6, 75/433, d=nan, g=nan\n",
      ">6, 77/433, d=nan, g=nan\n",
      ">6, 79/433, d=nan, g=nan\n",
      ">6, 81/433, d=nan, g=nan\n",
      ">6, 83/433, d=nan, g=nan\n",
      ">6, 85/433, d=nan, g=nan\n",
      ">6, 87/433, d=nan, g=nan\n",
      ">6, 89/433, d=nan, g=nan\n",
      ">6, 91/433, d=nan, g=nan\n",
      ">6, 93/433, d=nan, g=nan\n",
      ">6, 95/433, d=nan, g=nan\n",
      ">6, 97/433, d=nan, g=nan\n",
      ">6, 99/433, d=nan, g=nan\n",
      ">6, 101/433, d=nan, g=nan\n",
      ">6, 103/433, d=nan, g=nan\n",
      ">6, 105/433, d=nan, g=nan\n",
      ">6, 107/433, d=nan, g=nan\n",
      ">6, 109/433, d=nan, g=nan\n",
      ">6, 111/433, d=nan, g=nan\n",
      ">6, 113/433, d=nan, g=nan\n",
      ">6, 115/433, d=nan, g=nan\n",
      ">6, 117/433, d=nan, g=nan\n",
      ">6, 119/433, d=nan, g=nan\n",
      ">6, 121/433, d=nan, g=nan\n",
      ">6, 123/433, d=nan, g=nan\n",
      ">6, 125/433, d=nan, g=nan\n",
      ">6, 127/433, d=nan, g=nan\n",
      ">6, 129/433, d=nan, g=nan\n",
      ">6, 131/433, d=nan, g=nan\n",
      ">6, 133/433, d=nan, g=nan\n",
      ">6, 135/433, d=nan, g=nan\n",
      ">6, 137/433, d=nan, g=nan\n",
      ">6, 139/433, d=nan, g=nan\n",
      ">6, 141/433, d=nan, g=nan\n",
      ">6, 143/433, d=nan, g=nan\n",
      ">6, 145/433, d=nan, g=nan\n",
      ">6, 147/433, d=nan, g=nan\n",
      ">6, 149/433, d=nan, g=nan\n",
      ">6, 151/433, d=nan, g=nan\n",
      ">6, 153/433, d=nan, g=nan\n",
      ">6, 155/433, d=nan, g=nan\n",
      ">6, 157/433, d=nan, g=nan\n",
      ">6, 159/433, d=nan, g=nan\n",
      ">6, 161/433, d=nan, g=nan\n",
      ">6, 163/433, d=nan, g=nan\n",
      ">6, 165/433, d=nan, g=nan\n",
      ">6, 167/433, d=nan, g=nan\n",
      ">6, 169/433, d=nan, g=nan\n",
      ">6, 171/433, d=nan, g=nan\n",
      ">6, 173/433, d=nan, g=nan\n",
      ">6, 175/433, d=nan, g=nan\n",
      ">6, 177/433, d=nan, g=nan\n",
      ">6, 179/433, d=nan, g=nan\n",
      ">6, 181/433, d=nan, g=nan\n",
      ">6, 183/433, d=nan, g=nan\n",
      ">6, 185/433, d=nan, g=nan\n",
      ">6, 187/433, d=nan, g=nan\n",
      ">6, 189/433, d=nan, g=nan\n",
      ">6, 191/433, d=nan, g=nan\n",
      ">6, 193/433, d=nan, g=nan\n",
      ">6, 195/433, d=nan, g=nan\n",
      ">6, 197/433, d=nan, g=nan\n",
      ">6, 199/433, d=nan, g=nan\n",
      ">6, 201/433, d=nan, g=nan\n",
      ">6, 203/433, d=nan, g=nan\n",
      ">6, 205/433, d=nan, g=nan\n",
      ">6, 207/433, d=nan, g=nan\n",
      ">6, 209/433, d=nan, g=nan\n",
      ">6, 211/433, d=nan, g=nan\n",
      ">6, 213/433, d=nan, g=nan\n",
      ">6, 215/433, d=nan, g=nan\n",
      ">6, 217/433, d=nan, g=nan\n",
      ">6, 219/433, d=nan, g=nan\n",
      ">6, 221/433, d=nan, g=nan\n",
      ">6, 223/433, d=nan, g=nan\n",
      ">6, 225/433, d=nan, g=nan\n",
      ">6, 227/433, d=nan, g=nan\n",
      ">6, 229/433, d=nan, g=nan\n",
      ">6, 231/433, d=nan, g=nan\n",
      ">6, 233/433, d=nan, g=nan\n",
      ">6, 235/433, d=nan, g=nan\n",
      ">6, 237/433, d=nan, g=nan\n",
      ">6, 239/433, d=nan, g=nan\n",
      ">6, 241/433, d=nan, g=nan\n",
      ">6, 243/433, d=nan, g=nan\n",
      ">6, 245/433, d=nan, g=nan\n",
      ">6, 247/433, d=nan, g=nan\n",
      ">6, 249/433, d=nan, g=nan\n",
      ">6, 251/433, d=nan, g=nan\n",
      ">6, 253/433, d=nan, g=nan\n",
      ">6, 255/433, d=nan, g=nan\n",
      ">6, 257/433, d=nan, g=nan\n",
      ">6, 259/433, d=nan, g=nan\n",
      ">6, 261/433, d=nan, g=nan\n",
      ">6, 263/433, d=nan, g=nan\n",
      ">6, 265/433, d=nan, g=nan\n",
      ">6, 267/433, d=nan, g=nan\n",
      ">6, 269/433, d=nan, g=nan\n",
      ">6, 271/433, d=nan, g=nan\n",
      ">6, 273/433, d=nan, g=nan\n",
      ">6, 275/433, d=nan, g=nan\n",
      ">6, 277/433, d=nan, g=nan\n",
      ">6, 279/433, d=nan, g=nan\n",
      ">6, 281/433, d=nan, g=nan\n",
      ">6, 283/433, d=nan, g=nan\n",
      ">6, 285/433, d=nan, g=nan\n",
      ">6, 287/433, d=nan, g=nan\n",
      ">6, 289/433, d=nan, g=nan\n",
      ">6, 291/433, d=nan, g=nan\n",
      ">6, 293/433, d=nan, g=nan\n",
      ">6, 295/433, d=nan, g=nan\n",
      ">6, 297/433, d=nan, g=nan\n",
      ">6, 299/433, d=nan, g=nan\n",
      ">6, 301/433, d=nan, g=nan\n",
      ">6, 303/433, d=nan, g=nan\n",
      ">6, 305/433, d=nan, g=nan\n",
      ">6, 307/433, d=nan, g=nan\n",
      ">6, 309/433, d=nan, g=nan\n",
      ">6, 311/433, d=nan, g=nan\n",
      ">6, 313/433, d=nan, g=nan\n",
      ">6, 315/433, d=nan, g=nan\n",
      ">6, 317/433, d=nan, g=nan\n",
      ">6, 319/433, d=nan, g=nan\n",
      ">6, 321/433, d=nan, g=nan\n",
      ">6, 323/433, d=nan, g=nan\n",
      ">6, 325/433, d=nan, g=nan\n",
      ">6, 327/433, d=nan, g=nan\n",
      ">6, 329/433, d=nan, g=nan\n",
      ">6, 331/433, d=nan, g=nan\n",
      ">6, 333/433, d=nan, g=nan\n",
      ">6, 335/433, d=nan, g=nan\n",
      ">6, 337/433, d=nan, g=nan\n",
      ">6, 339/433, d=nan, g=nan\n",
      ">6, 341/433, d=nan, g=nan\n",
      ">6, 343/433, d=nan, g=nan\n",
      ">6, 345/433, d=nan, g=nan\n",
      ">6, 347/433, d=nan, g=nan\n",
      ">6, 349/433, d=nan, g=nan\n",
      ">6, 351/433, d=nan, g=nan\n",
      ">6, 353/433, d=nan, g=nan\n",
      ">6, 355/433, d=nan, g=nan\n",
      ">6, 357/433, d=nan, g=nan\n",
      ">6, 359/433, d=nan, g=nan\n",
      ">6, 361/433, d=nan, g=nan\n",
      ">6, 363/433, d=nan, g=nan\n",
      ">6, 365/433, d=nan, g=nan\n",
      ">6, 367/433, d=nan, g=nan\n",
      ">6, 369/433, d=nan, g=nan\n",
      ">6, 371/433, d=nan, g=nan\n",
      ">6, 373/433, d=nan, g=nan\n",
      ">6, 375/433, d=nan, g=nan\n",
      ">6, 377/433, d=nan, g=nan\n",
      ">6, 379/433, d=nan, g=nan\n",
      ">6, 381/433, d=nan, g=nan\n",
      ">6, 383/433, d=nan, g=nan\n",
      ">6, 385/433, d=nan, g=nan\n",
      ">6, 387/433, d=nan, g=nan\n",
      ">6, 389/433, d=nan, g=nan\n",
      ">6, 391/433, d=nan, g=nan\n",
      ">6, 393/433, d=nan, g=nan\n",
      ">6, 395/433, d=nan, g=nan\n",
      ">6, 397/433, d=nan, g=nan\n",
      ">6, 399/433, d=nan, g=nan\n",
      ">6, 401/433, d=nan, g=nan\n",
      ">6, 403/433, d=nan, g=nan\n",
      ">6, 405/433, d=nan, g=nan\n",
      ">6, 407/433, d=nan, g=nan\n",
      ">6, 409/433, d=nan, g=nan\n",
      ">6, 411/433, d=nan, g=nan\n",
      ">6, 413/433, d=nan, g=nan\n",
      ">6, 415/433, d=nan, g=nan\n",
      ">6, 417/433, d=nan, g=nan\n",
      ">6, 419/433, d=nan, g=nan\n",
      ">6, 421/433, d=nan, g=nan\n",
      ">6, 423/433, d=nan, g=nan\n",
      ">6, 425/433, d=nan, g=nan\n",
      ">6, 427/433, d=nan, g=nan\n",
      ">6, 429/433, d=nan, g=nan\n",
      ">6, 431/433, d=nan, g=nan\n",
      ">6, 433/433, d=nan, g=nan\n",
      ">7, 1/433, d=nan, g=nan\n",
      ">7, 3/433, d=nan, g=nan\n",
      ">7, 5/433, d=nan, g=nan\n",
      ">7, 7/433, d=nan, g=nan\n",
      ">7, 9/433, d=nan, g=nan\n",
      ">7, 11/433, d=nan, g=nan\n",
      ">7, 13/433, d=nan, g=nan\n",
      ">7, 15/433, d=nan, g=nan\n",
      ">7, 17/433, d=nan, g=nan\n",
      ">7, 19/433, d=nan, g=nan\n",
      ">7, 21/433, d=nan, g=nan\n",
      ">7, 23/433, d=nan, g=nan\n",
      ">7, 25/433, d=nan, g=nan\n",
      ">7, 27/433, d=nan, g=nan\n",
      ">7, 29/433, d=nan, g=nan\n",
      ">7, 31/433, d=nan, g=nan\n",
      ">7, 33/433, d=nan, g=nan\n",
      ">7, 35/433, d=nan, g=nan\n",
      ">7, 37/433, d=nan, g=nan\n",
      ">7, 39/433, d=nan, g=nan\n",
      ">7, 41/433, d=nan, g=nan\n",
      ">7, 43/433, d=nan, g=nan\n",
      ">7, 45/433, d=nan, g=nan\n",
      ">7, 47/433, d=nan, g=nan\n",
      ">7, 49/433, d=nan, g=nan\n",
      ">7, 51/433, d=nan, g=nan\n",
      ">7, 53/433, d=nan, g=nan\n",
      ">7, 55/433, d=nan, g=nan\n",
      ">7, 57/433, d=nan, g=nan\n",
      ">7, 59/433, d=nan, g=nan\n",
      ">7, 61/433, d=nan, g=nan\n",
      ">7, 63/433, d=nan, g=nan\n",
      ">7, 65/433, d=nan, g=nan\n",
      ">7, 67/433, d=nan, g=nan\n",
      ">7, 69/433, d=nan, g=nan\n",
      ">7, 71/433, d=nan, g=nan\n",
      ">7, 73/433, d=nan, g=nan\n",
      ">7, 75/433, d=nan, g=nan\n",
      ">7, 77/433, d=nan, g=nan\n",
      ">7, 79/433, d=nan, g=nan\n",
      ">7, 81/433, d=nan, g=nan\n",
      ">7, 83/433, d=nan, g=nan\n",
      ">7, 85/433, d=nan, g=nan\n",
      ">7, 87/433, d=nan, g=nan\n",
      ">7, 89/433, d=nan, g=nan\n",
      ">7, 91/433, d=nan, g=nan\n",
      ">7, 93/433, d=nan, g=nan\n",
      ">7, 95/433, d=nan, g=nan\n",
      ">7, 97/433, d=nan, g=nan\n",
      ">7, 99/433, d=nan, g=nan\n",
      ">7, 101/433, d=nan, g=nan\n",
      ">7, 103/433, d=nan, g=nan\n",
      ">7, 105/433, d=nan, g=nan\n",
      ">7, 107/433, d=nan, g=nan\n",
      ">7, 109/433, d=nan, g=nan\n",
      ">7, 111/433, d=nan, g=nan\n",
      ">7, 113/433, d=nan, g=nan\n",
      ">7, 115/433, d=nan, g=nan\n",
      ">7, 117/433, d=nan, g=nan\n",
      ">7, 119/433, d=nan, g=nan\n",
      ">7, 121/433, d=nan, g=nan\n",
      ">7, 123/433, d=nan, g=nan\n",
      ">7, 125/433, d=nan, g=nan\n",
      ">7, 127/433, d=nan, g=nan\n",
      ">7, 129/433, d=nan, g=nan\n",
      ">7, 131/433, d=nan, g=nan\n",
      ">7, 133/433, d=nan, g=nan\n",
      ">7, 135/433, d=nan, g=nan\n",
      ">7, 137/433, d=nan, g=nan\n",
      ">7, 139/433, d=nan, g=nan\n",
      ">7, 141/433, d=nan, g=nan\n",
      ">7, 143/433, d=nan, g=nan\n",
      ">7, 145/433, d=nan, g=nan\n",
      ">7, 147/433, d=nan, g=nan\n",
      ">7, 149/433, d=nan, g=nan\n",
      ">7, 151/433, d=nan, g=nan\n",
      ">7, 153/433, d=nan, g=nan\n",
      ">7, 155/433, d=nan, g=nan\n",
      ">7, 157/433, d=nan, g=nan\n",
      ">7, 159/433, d=nan, g=nan\n",
      ">7, 161/433, d=nan, g=nan\n",
      ">7, 163/433, d=nan, g=nan\n",
      ">7, 165/433, d=nan, g=nan\n",
      ">7, 167/433, d=nan, g=nan\n",
      ">7, 169/433, d=nan, g=nan\n",
      ">7, 171/433, d=nan, g=nan\n",
      ">7, 173/433, d=nan, g=nan\n",
      ">7, 175/433, d=nan, g=nan\n",
      ">7, 177/433, d=nan, g=nan\n",
      ">7, 179/433, d=nan, g=nan\n",
      ">7, 181/433, d=nan, g=nan\n",
      ">7, 183/433, d=nan, g=nan\n",
      ">7, 185/433, d=nan, g=nan\n",
      ">7, 187/433, d=nan, g=nan\n",
      ">7, 189/433, d=nan, g=nan\n",
      ">7, 191/433, d=nan, g=nan\n",
      ">7, 193/433, d=nan, g=nan\n",
      ">7, 195/433, d=nan, g=nan\n",
      ">7, 197/433, d=nan, g=nan\n",
      ">7, 199/433, d=nan, g=nan\n",
      ">7, 201/433, d=nan, g=nan\n",
      ">7, 203/433, d=nan, g=nan\n",
      ">7, 205/433, d=nan, g=nan\n",
      ">7, 207/433, d=nan, g=nan\n",
      ">7, 209/433, d=nan, g=nan\n",
      ">7, 211/433, d=nan, g=nan\n",
      ">7, 213/433, d=nan, g=nan\n",
      ">7, 215/433, d=nan, g=nan\n",
      ">7, 217/433, d=nan, g=nan\n",
      ">7, 219/433, d=nan, g=nan\n",
      ">7, 221/433, d=nan, g=nan\n",
      ">7, 223/433, d=nan, g=nan\n",
      ">7, 225/433, d=nan, g=nan\n",
      ">7, 227/433, d=nan, g=nan\n",
      ">7, 229/433, d=nan, g=nan\n",
      ">7, 231/433, d=nan, g=nan\n",
      ">7, 233/433, d=nan, g=nan\n",
      ">7, 235/433, d=nan, g=nan\n",
      ">7, 237/433, d=nan, g=nan\n",
      ">7, 239/433, d=nan, g=nan\n",
      ">7, 241/433, d=nan, g=nan\n",
      ">7, 243/433, d=nan, g=nan\n",
      ">7, 245/433, d=nan, g=nan\n",
      ">7, 247/433, d=nan, g=nan\n",
      ">7, 249/433, d=nan, g=nan\n",
      ">7, 251/433, d=nan, g=nan\n",
      ">7, 253/433, d=nan, g=nan\n",
      ">7, 255/433, d=nan, g=nan\n",
      ">7, 257/433, d=nan, g=nan\n",
      ">7, 259/433, d=nan, g=nan\n",
      ">7, 261/433, d=nan, g=nan\n",
      ">7, 263/433, d=nan, g=nan\n",
      ">7, 265/433, d=nan, g=nan\n",
      ">7, 267/433, d=nan, g=nan\n",
      ">7, 269/433, d=nan, g=nan\n",
      ">7, 271/433, d=nan, g=nan\n",
      ">7, 273/433, d=nan, g=nan\n",
      ">7, 275/433, d=nan, g=nan\n",
      ">7, 277/433, d=nan, g=nan\n",
      ">7, 279/433, d=nan, g=nan\n",
      ">7, 281/433, d=nan, g=nan\n",
      ">7, 283/433, d=nan, g=nan\n",
      ">7, 285/433, d=nan, g=nan\n",
      ">7, 287/433, d=nan, g=nan\n",
      ">7, 289/433, d=nan, g=nan\n",
      ">7, 291/433, d=nan, g=nan\n",
      ">7, 293/433, d=nan, g=nan\n",
      ">7, 295/433, d=nan, g=nan\n",
      ">7, 297/433, d=nan, g=nan\n",
      ">7, 299/433, d=nan, g=nan\n",
      ">7, 301/433, d=nan, g=nan\n",
      ">7, 303/433, d=nan, g=nan\n",
      ">7, 305/433, d=nan, g=nan\n",
      ">7, 307/433, d=nan, g=nan\n",
      ">7, 309/433, d=nan, g=nan\n",
      ">7, 311/433, d=nan, g=nan\n",
      ">7, 313/433, d=nan, g=nan\n",
      ">7, 315/433, d=nan, g=nan\n",
      ">7, 317/433, d=nan, g=nan\n",
      ">7, 319/433, d=nan, g=nan\n",
      ">7, 321/433, d=nan, g=nan\n",
      ">7, 323/433, d=nan, g=nan\n",
      ">7, 325/433, d=nan, g=nan\n",
      ">7, 327/433, d=nan, g=nan\n",
      ">7, 329/433, d=nan, g=nan\n",
      ">7, 331/433, d=nan, g=nan\n",
      ">7, 333/433, d=nan, g=nan\n",
      ">7, 335/433, d=nan, g=nan\n",
      ">7, 337/433, d=nan, g=nan\n",
      ">7, 339/433, d=nan, g=nan\n",
      ">7, 341/433, d=nan, g=nan\n",
      ">7, 343/433, d=nan, g=nan\n",
      ">7, 345/433, d=nan, g=nan\n",
      ">7, 347/433, d=nan, g=nan\n",
      ">7, 349/433, d=nan, g=nan\n",
      ">7, 351/433, d=nan, g=nan\n",
      ">7, 353/433, d=nan, g=nan\n",
      ">7, 355/433, d=nan, g=nan\n",
      ">7, 357/433, d=nan, g=nan\n",
      ">7, 359/433, d=nan, g=nan\n",
      ">7, 361/433, d=nan, g=nan\n",
      ">7, 363/433, d=nan, g=nan\n",
      ">7, 365/433, d=nan, g=nan\n",
      ">7, 367/433, d=nan, g=nan\n",
      ">7, 369/433, d=nan, g=nan\n",
      ">7, 371/433, d=nan, g=nan\n",
      ">7, 373/433, d=nan, g=nan\n",
      ">7, 375/433, d=nan, g=nan\n",
      ">7, 377/433, d=nan, g=nan\n",
      ">7, 379/433, d=nan, g=nan\n",
      ">7, 381/433, d=nan, g=nan\n",
      ">7, 383/433, d=nan, g=nan\n",
      ">7, 385/433, d=nan, g=nan\n",
      ">7, 387/433, d=nan, g=nan\n",
      ">7, 389/433, d=nan, g=nan\n",
      ">7, 391/433, d=nan, g=nan\n",
      ">7, 393/433, d=nan, g=nan\n",
      ">7, 395/433, d=nan, g=nan\n",
      ">7, 397/433, d=nan, g=nan\n",
      ">7, 399/433, d=nan, g=nan\n",
      ">7, 401/433, d=nan, g=nan\n",
      ">7, 403/433, d=nan, g=nan\n",
      ">7, 405/433, d=nan, g=nan\n",
      ">7, 407/433, d=nan, g=nan\n",
      ">7, 409/433, d=nan, g=nan\n",
      ">7, 411/433, d=nan, g=nan\n",
      ">7, 413/433, d=nan, g=nan\n",
      ">7, 415/433, d=nan, g=nan\n",
      ">7, 417/433, d=nan, g=nan\n",
      ">7, 419/433, d=nan, g=nan\n",
      ">7, 421/433, d=nan, g=nan\n",
      ">7, 423/433, d=nan, g=nan\n",
      ">7, 425/433, d=nan, g=nan\n",
      ">7, 427/433, d=nan, g=nan\n",
      ">7, 429/433, d=nan, g=nan\n",
      ">7, 431/433, d=nan, g=nan\n",
      ">7, 433/433, d=nan, g=nan\n",
      ">8, 1/433, d=nan, g=nan\n",
      ">8, 3/433, d=nan, g=nan\n",
      ">8, 5/433, d=nan, g=nan\n",
      ">8, 7/433, d=nan, g=nan\n",
      ">8, 9/433, d=nan, g=nan\n",
      ">8, 11/433, d=nan, g=nan\n",
      ">8, 13/433, d=nan, g=nan\n",
      ">8, 15/433, d=nan, g=nan\n",
      ">8, 17/433, d=nan, g=nan\n",
      ">8, 19/433, d=nan, g=nan\n",
      ">8, 21/433, d=nan, g=nan\n",
      ">8, 23/433, d=nan, g=nan\n",
      ">8, 25/433, d=nan, g=nan\n",
      ">8, 27/433, d=nan, g=nan\n",
      ">8, 29/433, d=nan, g=nan\n",
      ">8, 31/433, d=nan, g=nan\n",
      ">8, 33/433, d=nan, g=nan\n",
      ">8, 35/433, d=nan, g=nan\n",
      ">8, 37/433, d=nan, g=nan\n",
      ">8, 39/433, d=nan, g=nan\n",
      ">8, 41/433, d=nan, g=nan\n",
      ">8, 43/433, d=nan, g=nan\n",
      ">8, 45/433, d=nan, g=nan\n",
      ">8, 47/433, d=nan, g=nan\n",
      ">8, 49/433, d=nan, g=nan\n",
      ">8, 51/433, d=nan, g=nan\n",
      ">8, 53/433, d=nan, g=nan\n",
      ">8, 55/433, d=nan, g=nan\n",
      ">8, 57/433, d=nan, g=nan\n",
      ">8, 59/433, d=nan, g=nan\n",
      ">8, 61/433, d=nan, g=nan\n",
      ">8, 63/433, d=nan, g=nan\n",
      ">8, 65/433, d=nan, g=nan\n",
      ">8, 67/433, d=nan, g=nan\n",
      ">8, 69/433, d=nan, g=nan\n",
      ">8, 71/433, d=nan, g=nan\n",
      ">8, 73/433, d=nan, g=nan\n",
      ">8, 75/433, d=nan, g=nan\n",
      ">8, 77/433, d=nan, g=nan\n",
      ">8, 79/433, d=nan, g=nan\n",
      ">8, 81/433, d=nan, g=nan\n",
      ">8, 83/433, d=nan, g=nan\n",
      ">8, 85/433, d=nan, g=nan\n",
      ">8, 87/433, d=nan, g=nan\n",
      ">8, 89/433, d=nan, g=nan\n",
      ">8, 91/433, d=nan, g=nan\n",
      ">8, 93/433, d=nan, g=nan\n",
      ">8, 95/433, d=nan, g=nan\n",
      ">8, 97/433, d=nan, g=nan\n",
      ">8, 99/433, d=nan, g=nan\n",
      ">8, 101/433, d=nan, g=nan\n",
      ">8, 103/433, d=nan, g=nan\n",
      ">8, 105/433, d=nan, g=nan\n",
      ">8, 107/433, d=nan, g=nan\n",
      ">8, 109/433, d=nan, g=nan\n",
      ">8, 111/433, d=nan, g=nan\n",
      ">8, 113/433, d=nan, g=nan\n",
      ">8, 115/433, d=nan, g=nan\n",
      ">8, 117/433, d=nan, g=nan\n",
      ">8, 119/433, d=nan, g=nan\n",
      ">8, 121/433, d=nan, g=nan\n",
      ">8, 123/433, d=nan, g=nan\n",
      ">8, 125/433, d=nan, g=nan\n",
      ">8, 127/433, d=nan, g=nan\n",
      ">8, 129/433, d=nan, g=nan\n",
      ">8, 131/433, d=nan, g=nan\n",
      ">8, 133/433, d=nan, g=nan\n",
      ">8, 135/433, d=nan, g=nan\n",
      ">8, 137/433, d=nan, g=nan\n",
      ">8, 139/433, d=nan, g=nan\n",
      ">8, 141/433, d=nan, g=nan\n",
      ">8, 143/433, d=nan, g=nan\n",
      ">8, 145/433, d=nan, g=nan\n",
      ">8, 147/433, d=nan, g=nan\n",
      ">8, 149/433, d=nan, g=nan\n",
      ">8, 151/433, d=nan, g=nan\n",
      ">8, 153/433, d=nan, g=nan\n",
      ">8, 155/433, d=nan, g=nan\n",
      ">8, 157/433, d=nan, g=nan\n",
      ">8, 159/433, d=nan, g=nan\n",
      ">8, 161/433, d=nan, g=nan\n",
      ">8, 163/433, d=nan, g=nan\n",
      ">8, 165/433, d=nan, g=nan\n",
      ">8, 167/433, d=nan, g=nan\n",
      ">8, 169/433, d=nan, g=nan\n",
      ">8, 171/433, d=nan, g=nan\n",
      ">8, 173/433, d=nan, g=nan\n",
      ">8, 175/433, d=nan, g=nan\n",
      ">8, 177/433, d=nan, g=nan\n",
      ">8, 179/433, d=nan, g=nan\n",
      ">8, 181/433, d=nan, g=nan\n",
      ">8, 183/433, d=nan, g=nan\n",
      ">8, 185/433, d=nan, g=nan\n",
      ">8, 187/433, d=nan, g=nan\n",
      ">8, 189/433, d=nan, g=nan\n",
      ">8, 191/433, d=nan, g=nan\n",
      ">8, 193/433, d=nan, g=nan\n",
      ">8, 195/433, d=nan, g=nan\n",
      ">8, 197/433, d=nan, g=nan\n",
      ">8, 199/433, d=nan, g=nan\n",
      ">8, 201/433, d=nan, g=nan\n",
      ">8, 203/433, d=nan, g=nan\n",
      ">8, 205/433, d=nan, g=nan\n",
      ">8, 207/433, d=nan, g=nan\n",
      ">8, 209/433, d=nan, g=nan\n",
      ">8, 211/433, d=nan, g=nan\n",
      ">8, 213/433, d=nan, g=nan\n",
      ">8, 215/433, d=nan, g=nan\n",
      ">8, 217/433, d=nan, g=nan\n",
      ">8, 219/433, d=nan, g=nan\n",
      ">8, 221/433, d=nan, g=nan\n",
      ">8, 223/433, d=nan, g=nan\n",
      ">8, 225/433, d=nan, g=nan\n",
      ">8, 227/433, d=nan, g=nan\n",
      ">8, 229/433, d=nan, g=nan\n",
      ">8, 231/433, d=nan, g=nan\n",
      ">8, 233/433, d=nan, g=nan\n",
      ">8, 235/433, d=nan, g=nan\n",
      ">8, 237/433, d=nan, g=nan\n",
      ">8, 239/433, d=nan, g=nan\n",
      ">8, 241/433, d=nan, g=nan\n",
      ">8, 243/433, d=nan, g=nan\n",
      ">8, 245/433, d=nan, g=nan\n",
      ">8, 247/433, d=nan, g=nan\n",
      ">8, 249/433, d=nan, g=nan\n",
      ">8, 251/433, d=nan, g=nan\n",
      ">8, 253/433, d=nan, g=nan\n",
      ">8, 255/433, d=nan, g=nan\n",
      ">8, 257/433, d=nan, g=nan\n",
      ">8, 259/433, d=nan, g=nan\n",
      ">8, 261/433, d=nan, g=nan\n",
      ">8, 263/433, d=nan, g=nan\n",
      ">8, 265/433, d=nan, g=nan\n",
      ">8, 267/433, d=nan, g=nan\n",
      ">8, 269/433, d=nan, g=nan\n",
      ">8, 271/433, d=nan, g=nan\n",
      ">8, 273/433, d=nan, g=nan\n",
      ">8, 275/433, d=nan, g=nan\n",
      ">8, 277/433, d=nan, g=nan\n",
      ">8, 279/433, d=nan, g=nan\n",
      ">8, 281/433, d=nan, g=nan\n",
      ">8, 283/433, d=nan, g=nan\n",
      ">8, 285/433, d=nan, g=nan\n",
      ">8, 287/433, d=nan, g=nan\n",
      ">8, 289/433, d=nan, g=nan\n",
      ">8, 291/433, d=nan, g=nan\n",
      ">8, 293/433, d=nan, g=nan\n",
      ">8, 295/433, d=nan, g=nan\n",
      ">8, 297/433, d=nan, g=nan\n",
      ">8, 299/433, d=nan, g=nan\n",
      ">8, 301/433, d=nan, g=nan\n",
      ">8, 303/433, d=nan, g=nan\n",
      ">8, 305/433, d=nan, g=nan\n",
      ">8, 307/433, d=nan, g=nan\n",
      ">8, 309/433, d=nan, g=nan\n",
      ">8, 311/433, d=nan, g=nan\n",
      ">8, 313/433, d=nan, g=nan\n",
      ">8, 315/433, d=nan, g=nan\n",
      ">8, 317/433, d=nan, g=nan\n",
      ">8, 319/433, d=nan, g=nan\n",
      ">8, 321/433, d=nan, g=nan\n",
      ">8, 323/433, d=nan, g=nan\n",
      ">8, 325/433, d=nan, g=nan\n",
      ">8, 327/433, d=nan, g=nan\n",
      ">8, 329/433, d=nan, g=nan\n",
      ">8, 331/433, d=nan, g=nan\n",
      ">8, 333/433, d=nan, g=nan\n",
      ">8, 335/433, d=nan, g=nan\n",
      ">8, 337/433, d=nan, g=nan\n",
      ">8, 339/433, d=nan, g=nan\n",
      ">8, 341/433, d=nan, g=nan\n",
      ">8, 343/433, d=nan, g=nan\n",
      ">8, 345/433, d=nan, g=nan\n",
      ">8, 347/433, d=nan, g=nan\n",
      ">8, 349/433, d=nan, g=nan\n",
      ">8, 351/433, d=nan, g=nan\n",
      ">8, 353/433, d=nan, g=nan\n",
      ">8, 355/433, d=nan, g=nan\n",
      ">8, 357/433, d=nan, g=nan\n",
      ">8, 359/433, d=nan, g=nan\n",
      ">8, 361/433, d=nan, g=nan\n",
      ">8, 363/433, d=nan, g=nan\n",
      ">8, 365/433, d=nan, g=nan\n",
      ">8, 367/433, d=nan, g=nan\n",
      ">8, 369/433, d=nan, g=nan\n",
      ">8, 371/433, d=nan, g=nan\n",
      ">8, 373/433, d=nan, g=nan\n",
      ">8, 375/433, d=nan, g=nan\n",
      ">8, 377/433, d=nan, g=nan\n",
      ">8, 379/433, d=nan, g=nan\n",
      ">8, 381/433, d=nan, g=nan\n",
      ">8, 383/433, d=nan, g=nan\n",
      ">8, 385/433, d=nan, g=nan\n",
      ">8, 387/433, d=nan, g=nan\n",
      ">8, 389/433, d=nan, g=nan\n",
      ">8, 391/433, d=nan, g=nan\n",
      ">8, 393/433, d=nan, g=nan\n",
      ">8, 395/433, d=nan, g=nan\n",
      ">8, 397/433, d=nan, g=nan\n",
      ">8, 399/433, d=nan, g=nan\n",
      ">8, 401/433, d=nan, g=nan\n",
      ">8, 403/433, d=nan, g=nan\n",
      ">8, 405/433, d=nan, g=nan\n",
      ">8, 407/433, d=nan, g=nan\n",
      ">8, 409/433, d=nan, g=nan\n",
      ">8, 411/433, d=nan, g=nan\n",
      ">8, 413/433, d=nan, g=nan\n",
      ">8, 415/433, d=nan, g=nan\n",
      ">8, 417/433, d=nan, g=nan\n",
      ">8, 419/433, d=nan, g=nan\n",
      ">8, 421/433, d=nan, g=nan\n",
      ">8, 423/433, d=nan, g=nan\n",
      ">8, 425/433, d=nan, g=nan\n",
      ">8, 427/433, d=nan, g=nan\n",
      ">8, 429/433, d=nan, g=nan\n",
      ">8, 431/433, d=nan, g=nan\n",
      ">8, 433/433, d=nan, g=nan\n",
      ">9, 1/433, d=nan, g=nan\n",
      ">9, 3/433, d=nan, g=nan\n",
      ">9, 5/433, d=nan, g=nan\n",
      ">9, 7/433, d=nan, g=nan\n",
      ">9, 9/433, d=nan, g=nan\n",
      ">9, 11/433, d=nan, g=nan\n",
      ">9, 13/433, d=nan, g=nan\n",
      ">9, 15/433, d=nan, g=nan\n",
      ">9, 17/433, d=nan, g=nan\n",
      ">9, 19/433, d=nan, g=nan\n",
      ">9, 21/433, d=nan, g=nan\n",
      ">9, 23/433, d=nan, g=nan\n",
      ">9, 25/433, d=nan, g=nan\n",
      ">9, 27/433, d=nan, g=nan\n",
      ">9, 29/433, d=nan, g=nan\n",
      ">9, 31/433, d=nan, g=nan\n",
      ">9, 33/433, d=nan, g=nan\n",
      ">9, 35/433, d=nan, g=nan\n",
      ">9, 37/433, d=nan, g=nan\n",
      ">9, 39/433, d=nan, g=nan\n",
      ">9, 41/433, d=nan, g=nan\n",
      ">9, 43/433, d=nan, g=nan\n",
      ">9, 45/433, d=nan, g=nan\n",
      ">9, 47/433, d=nan, g=nan\n",
      ">9, 49/433, d=nan, g=nan\n",
      ">9, 51/433, d=nan, g=nan\n",
      ">9, 53/433, d=nan, g=nan\n",
      ">9, 55/433, d=nan, g=nan\n",
      ">9, 57/433, d=nan, g=nan\n",
      ">9, 59/433, d=nan, g=nan\n",
      ">9, 61/433, d=nan, g=nan\n",
      ">9, 63/433, d=nan, g=nan\n",
      ">9, 65/433, d=nan, g=nan\n",
      ">9, 67/433, d=nan, g=nan\n",
      ">9, 69/433, d=nan, g=nan\n",
      ">9, 71/433, d=nan, g=nan\n",
      ">9, 73/433, d=nan, g=nan\n",
      ">9, 75/433, d=nan, g=nan\n",
      ">9, 77/433, d=nan, g=nan\n",
      ">9, 79/433, d=nan, g=nan\n",
      ">9, 81/433, d=nan, g=nan\n",
      ">9, 83/433, d=nan, g=nan\n",
      ">9, 85/433, d=nan, g=nan\n",
      ">9, 87/433, d=nan, g=nan\n",
      ">9, 89/433, d=nan, g=nan\n",
      ">9, 91/433, d=nan, g=nan\n",
      ">9, 93/433, d=nan, g=nan\n",
      ">9, 95/433, d=nan, g=nan\n",
      ">9, 97/433, d=nan, g=nan\n",
      ">9, 99/433, d=nan, g=nan\n",
      ">9, 101/433, d=nan, g=nan\n",
      ">9, 103/433, d=nan, g=nan\n",
      ">9, 105/433, d=nan, g=nan\n",
      ">9, 107/433, d=nan, g=nan\n",
      ">9, 109/433, d=nan, g=nan\n",
      ">9, 111/433, d=nan, g=nan\n",
      ">9, 113/433, d=nan, g=nan\n",
      ">9, 115/433, d=nan, g=nan\n",
      ">9, 117/433, d=nan, g=nan\n",
      ">9, 119/433, d=nan, g=nan\n",
      ">9, 121/433, d=nan, g=nan\n",
      ">9, 123/433, d=nan, g=nan\n",
      ">9, 125/433, d=nan, g=nan\n",
      ">9, 127/433, d=nan, g=nan\n",
      ">9, 129/433, d=nan, g=nan\n",
      ">9, 131/433, d=nan, g=nan\n",
      ">9, 133/433, d=nan, g=nan\n",
      ">9, 135/433, d=nan, g=nan\n",
      ">9, 137/433, d=nan, g=nan\n",
      ">9, 139/433, d=nan, g=nan\n",
      ">9, 141/433, d=nan, g=nan\n",
      ">9, 143/433, d=nan, g=nan\n",
      ">9, 145/433, d=nan, g=nan\n",
      ">9, 147/433, d=nan, g=nan\n",
      ">9, 149/433, d=nan, g=nan\n",
      ">9, 151/433, d=nan, g=nan\n",
      ">9, 153/433, d=nan, g=nan\n",
      ">9, 155/433, d=nan, g=nan\n",
      ">9, 157/433, d=nan, g=nan\n",
      ">9, 159/433, d=nan, g=nan\n",
      ">9, 161/433, d=nan, g=nan\n",
      ">9, 163/433, d=nan, g=nan\n",
      ">9, 165/433, d=nan, g=nan\n",
      ">9, 167/433, d=nan, g=nan\n",
      ">9, 169/433, d=nan, g=nan\n",
      ">9, 171/433, d=nan, g=nan\n",
      ">9, 173/433, d=nan, g=nan\n",
      ">9, 175/433, d=nan, g=nan\n",
      ">9, 177/433, d=nan, g=nan\n",
      ">9, 179/433, d=nan, g=nan\n",
      ">9, 181/433, d=nan, g=nan\n",
      ">9, 183/433, d=nan, g=nan\n",
      ">9, 185/433, d=nan, g=nan\n",
      ">9, 187/433, d=nan, g=nan\n",
      ">9, 189/433, d=nan, g=nan\n",
      ">9, 191/433, d=nan, g=nan\n",
      ">9, 193/433, d=nan, g=nan\n",
      ">9, 195/433, d=nan, g=nan\n",
      ">9, 197/433, d=nan, g=nan\n",
      ">9, 199/433, d=nan, g=nan\n",
      ">9, 201/433, d=nan, g=nan\n",
      ">9, 203/433, d=nan, g=nan\n",
      ">9, 205/433, d=nan, g=nan\n",
      ">9, 207/433, d=nan, g=nan\n",
      ">9, 209/433, d=nan, g=nan\n",
      ">9, 211/433, d=nan, g=nan\n",
      ">9, 213/433, d=nan, g=nan\n",
      ">9, 215/433, d=nan, g=nan\n",
      ">9, 217/433, d=nan, g=nan\n",
      ">9, 219/433, d=nan, g=nan\n",
      ">9, 221/433, d=nan, g=nan\n",
      ">9, 223/433, d=nan, g=nan\n",
      ">9, 225/433, d=nan, g=nan\n",
      ">9, 227/433, d=nan, g=nan\n",
      ">9, 229/433, d=nan, g=nan\n",
      ">9, 231/433, d=nan, g=nan\n",
      ">9, 233/433, d=nan, g=nan\n",
      ">9, 235/433, d=nan, g=nan\n",
      ">9, 237/433, d=nan, g=nan\n",
      ">9, 239/433, d=nan, g=nan\n",
      ">9, 241/433, d=nan, g=nan\n",
      ">9, 243/433, d=nan, g=nan\n",
      ">9, 245/433, d=nan, g=nan\n",
      ">9, 247/433, d=nan, g=nan\n",
      ">9, 249/433, d=nan, g=nan\n",
      ">9, 251/433, d=nan, g=nan\n",
      ">9, 253/433, d=nan, g=nan\n",
      ">9, 255/433, d=nan, g=nan\n",
      ">9, 257/433, d=nan, g=nan\n",
      ">9, 259/433, d=nan, g=nan\n",
      ">9, 261/433, d=nan, g=nan\n",
      ">9, 263/433, d=nan, g=nan\n",
      ">9, 265/433, d=nan, g=nan\n",
      ">9, 267/433, d=nan, g=nan\n",
      ">9, 269/433, d=nan, g=nan\n",
      ">9, 271/433, d=nan, g=nan\n",
      ">9, 273/433, d=nan, g=nan\n",
      ">9, 275/433, d=nan, g=nan\n",
      ">9, 277/433, d=nan, g=nan\n",
      ">9, 279/433, d=nan, g=nan\n",
      ">9, 281/433, d=nan, g=nan\n",
      ">9, 283/433, d=nan, g=nan\n",
      ">9, 285/433, d=nan, g=nan\n",
      ">9, 287/433, d=nan, g=nan\n",
      ">9, 289/433, d=nan, g=nan\n",
      ">9, 291/433, d=nan, g=nan\n",
      ">9, 293/433, d=nan, g=nan\n",
      ">9, 295/433, d=nan, g=nan\n",
      ">9, 297/433, d=nan, g=nan\n",
      ">9, 299/433, d=nan, g=nan\n",
      ">9, 301/433, d=nan, g=nan\n",
      ">9, 303/433, d=nan, g=nan\n",
      ">9, 305/433, d=nan, g=nan\n",
      ">9, 307/433, d=nan, g=nan\n",
      ">9, 309/433, d=nan, g=nan\n",
      ">9, 311/433, d=nan, g=nan\n",
      ">9, 313/433, d=nan, g=nan\n",
      ">9, 315/433, d=nan, g=nan\n",
      ">9, 317/433, d=nan, g=nan\n",
      ">9, 319/433, d=nan, g=nan\n",
      ">9, 321/433, d=nan, g=nan\n",
      ">9, 323/433, d=nan, g=nan\n",
      ">9, 325/433, d=nan, g=nan\n",
      ">9, 327/433, d=nan, g=nan\n",
      ">9, 329/433, d=nan, g=nan\n",
      ">9, 331/433, d=nan, g=nan\n",
      ">9, 333/433, d=nan, g=nan\n",
      ">9, 335/433, d=nan, g=nan\n",
      ">9, 337/433, d=nan, g=nan\n",
      ">9, 339/433, d=nan, g=nan\n",
      ">9, 341/433, d=nan, g=nan\n",
      ">9, 343/433, d=nan, g=nan\n",
      ">9, 345/433, d=nan, g=nan\n",
      ">9, 347/433, d=nan, g=nan\n",
      ">9, 349/433, d=nan, g=nan\n",
      ">9, 351/433, d=nan, g=nan\n",
      ">9, 353/433, d=nan, g=nan\n",
      ">9, 355/433, d=nan, g=nan\n",
      ">9, 357/433, d=nan, g=nan\n",
      ">9, 359/433, d=nan, g=nan\n",
      ">9, 361/433, d=nan, g=nan\n",
      ">9, 363/433, d=nan, g=nan\n",
      ">9, 365/433, d=nan, g=nan\n",
      ">9, 367/433, d=nan, g=nan\n",
      ">9, 369/433, d=nan, g=nan\n",
      ">9, 371/433, d=nan, g=nan\n",
      ">9, 373/433, d=nan, g=nan\n",
      ">9, 375/433, d=nan, g=nan\n",
      ">9, 377/433, d=nan, g=nan\n",
      ">9, 379/433, d=nan, g=nan\n",
      ">9, 381/433, d=nan, g=nan\n",
      ">9, 383/433, d=nan, g=nan\n",
      ">9, 385/433, d=nan, g=nan\n",
      ">9, 387/433, d=nan, g=nan\n",
      ">9, 389/433, d=nan, g=nan\n",
      ">9, 391/433, d=nan, g=nan\n",
      ">9, 393/433, d=nan, g=nan\n",
      ">9, 395/433, d=nan, g=nan\n",
      ">9, 397/433, d=nan, g=nan\n",
      ">9, 399/433, d=nan, g=nan\n",
      ">9, 401/433, d=nan, g=nan\n",
      ">9, 403/433, d=nan, g=nan\n",
      ">9, 405/433, d=nan, g=nan\n",
      ">9, 407/433, d=nan, g=nan\n",
      ">9, 409/433, d=nan, g=nan\n",
      ">9, 411/433, d=nan, g=nan\n",
      ">9, 413/433, d=nan, g=nan\n",
      ">9, 415/433, d=nan, g=nan\n",
      ">9, 417/433, d=nan, g=nan\n",
      ">9, 419/433, d=nan, g=nan\n",
      ">9, 421/433, d=nan, g=nan\n",
      ">9, 423/433, d=nan, g=nan\n",
      ">9, 425/433, d=nan, g=nan\n",
      ">9, 427/433, d=nan, g=nan\n",
      ">9, 429/433, d=nan, g=nan\n",
      ">9, 431/433, d=nan, g=nan\n",
      ">9, 433/433, d=nan, g=nan\n",
      ">10, 1/433, d=nan, g=nan\n",
      ">10, 3/433, d=nan, g=nan\n",
      ">10, 5/433, d=nan, g=nan\n",
      ">10, 7/433, d=nan, g=nan\n",
      ">10, 9/433, d=nan, g=nan\n",
      ">10, 11/433, d=nan, g=nan\n",
      ">10, 13/433, d=nan, g=nan\n",
      ">10, 15/433, d=nan, g=nan\n",
      ">10, 17/433, d=nan, g=nan\n",
      ">10, 19/433, d=nan, g=nan\n",
      ">10, 21/433, d=nan, g=nan\n",
      ">10, 23/433, d=nan, g=nan\n",
      ">10, 25/433, d=nan, g=nan\n",
      ">10, 27/433, d=nan, g=nan\n",
      ">10, 29/433, d=nan, g=nan\n",
      ">10, 31/433, d=nan, g=nan\n",
      ">10, 33/433, d=nan, g=nan\n",
      ">10, 35/433, d=nan, g=nan\n",
      ">10, 37/433, d=nan, g=nan\n",
      ">10, 39/433, d=nan, g=nan\n",
      ">10, 41/433, d=nan, g=nan\n",
      ">10, 43/433, d=nan, g=nan\n",
      ">10, 45/433, d=nan, g=nan\n",
      ">10, 47/433, d=nan, g=nan\n",
      ">10, 49/433, d=nan, g=nan\n",
      ">10, 51/433, d=nan, g=nan\n",
      ">10, 53/433, d=nan, g=nan\n",
      ">10, 55/433, d=nan, g=nan\n",
      ">10, 57/433, d=nan, g=nan\n",
      ">10, 59/433, d=nan, g=nan\n",
      ">10, 61/433, d=nan, g=nan\n",
      ">10, 63/433, d=nan, g=nan\n",
      ">10, 65/433, d=nan, g=nan\n",
      ">10, 67/433, d=nan, g=nan\n",
      ">10, 69/433, d=nan, g=nan\n",
      ">10, 71/433, d=nan, g=nan\n",
      ">10, 73/433, d=nan, g=nan\n",
      ">10, 75/433, d=nan, g=nan\n",
      ">10, 77/433, d=nan, g=nan\n",
      ">10, 79/433, d=nan, g=nan\n",
      ">10, 81/433, d=nan, g=nan\n",
      ">10, 83/433, d=nan, g=nan\n",
      ">10, 85/433, d=nan, g=nan\n",
      ">10, 87/433, d=nan, g=nan\n",
      ">10, 89/433, d=nan, g=nan\n",
      ">10, 91/433, d=nan, g=nan\n",
      ">10, 93/433, d=nan, g=nan\n",
      ">10, 95/433, d=nan, g=nan\n",
      ">10, 97/433, d=nan, g=nan\n",
      ">10, 99/433, d=nan, g=nan\n",
      ">10, 101/433, d=nan, g=nan\n",
      ">10, 103/433, d=nan, g=nan\n",
      ">10, 105/433, d=nan, g=nan\n",
      ">10, 107/433, d=nan, g=nan\n",
      ">10, 109/433, d=nan, g=nan\n",
      ">10, 111/433, d=nan, g=nan\n",
      ">10, 113/433, d=nan, g=nan\n",
      ">10, 115/433, d=nan, g=nan\n",
      ">10, 117/433, d=nan, g=nan\n",
      ">10, 119/433, d=nan, g=nan\n",
      ">10, 121/433, d=nan, g=nan\n",
      ">10, 123/433, d=nan, g=nan\n",
      ">10, 125/433, d=nan, g=nan\n",
      ">10, 127/433, d=nan, g=nan\n",
      ">10, 129/433, d=nan, g=nan\n",
      ">10, 131/433, d=nan, g=nan\n",
      ">10, 133/433, d=nan, g=nan\n",
      ">10, 135/433, d=nan, g=nan\n",
      ">10, 137/433, d=nan, g=nan\n",
      ">10, 139/433, d=nan, g=nan\n",
      ">10, 141/433, d=nan, g=nan\n",
      ">10, 143/433, d=nan, g=nan\n",
      ">10, 145/433, d=nan, g=nan\n",
      ">10, 147/433, d=nan, g=nan\n",
      ">10, 149/433, d=nan, g=nan\n",
      ">10, 151/433, d=nan, g=nan\n",
      ">10, 153/433, d=nan, g=nan\n",
      ">10, 155/433, d=nan, g=nan\n",
      ">10, 157/433, d=nan, g=nan\n",
      ">10, 159/433, d=nan, g=nan\n",
      ">10, 161/433, d=nan, g=nan\n",
      ">10, 163/433, d=nan, g=nan\n",
      ">10, 165/433, d=nan, g=nan\n",
      ">10, 167/433, d=nan, g=nan\n",
      ">10, 169/433, d=nan, g=nan\n",
      ">10, 171/433, d=nan, g=nan\n",
      ">10, 173/433, d=nan, g=nan\n",
      ">10, 175/433, d=nan, g=nan\n",
      ">10, 177/433, d=nan, g=nan\n",
      ">10, 179/433, d=nan, g=nan\n",
      ">10, 181/433, d=nan, g=nan\n",
      ">10, 183/433, d=nan, g=nan\n",
      ">10, 185/433, d=nan, g=nan\n",
      ">10, 187/433, d=nan, g=nan\n",
      ">10, 189/433, d=nan, g=nan\n",
      ">10, 191/433, d=nan, g=nan\n",
      ">10, 193/433, d=nan, g=nan\n",
      ">10, 195/433, d=nan, g=nan\n",
      ">10, 197/433, d=nan, g=nan\n",
      ">10, 199/433, d=nan, g=nan\n",
      ">10, 201/433, d=nan, g=nan\n",
      ">10, 203/433, d=nan, g=nan\n",
      ">10, 205/433, d=nan, g=nan\n",
      ">10, 207/433, d=nan, g=nan\n",
      ">10, 209/433, d=nan, g=nan\n",
      ">10, 211/433, d=nan, g=nan\n",
      ">10, 213/433, d=nan, g=nan\n",
      ">10, 215/433, d=nan, g=nan\n",
      ">10, 217/433, d=nan, g=nan\n",
      ">10, 219/433, d=nan, g=nan\n",
      ">10, 221/433, d=nan, g=nan\n",
      ">10, 223/433, d=nan, g=nan\n",
      ">10, 225/433, d=nan, g=nan\n",
      ">10, 227/433, d=nan, g=nan\n",
      ">10, 229/433, d=nan, g=nan\n",
      ">10, 231/433, d=nan, g=nan\n",
      ">10, 233/433, d=nan, g=nan\n",
      ">10, 235/433, d=nan, g=nan\n",
      ">10, 237/433, d=nan, g=nan\n",
      ">10, 239/433, d=nan, g=nan\n",
      ">10, 241/433, d=nan, g=nan\n",
      ">10, 243/433, d=nan, g=nan\n",
      ">10, 245/433, d=nan, g=nan\n",
      ">10, 247/433, d=nan, g=nan\n",
      ">10, 249/433, d=nan, g=nan\n",
      ">10, 251/433, d=nan, g=nan\n",
      ">10, 253/433, d=nan, g=nan\n",
      ">10, 255/433, d=nan, g=nan\n",
      ">10, 257/433, d=nan, g=nan\n",
      ">10, 259/433, d=nan, g=nan\n",
      ">10, 261/433, d=nan, g=nan\n",
      ">10, 263/433, d=nan, g=nan\n",
      ">10, 265/433, d=nan, g=nan\n",
      ">10, 267/433, d=nan, g=nan\n",
      ">10, 269/433, d=nan, g=nan\n",
      ">10, 271/433, d=nan, g=nan\n",
      ">10, 273/433, d=nan, g=nan\n",
      ">10, 275/433, d=nan, g=nan\n",
      ">10, 277/433, d=nan, g=nan\n",
      ">10, 279/433, d=nan, g=nan\n",
      ">10, 281/433, d=nan, g=nan\n",
      ">10, 283/433, d=nan, g=nan\n",
      ">10, 285/433, d=nan, g=nan\n",
      ">10, 287/433, d=nan, g=nan\n",
      ">10, 289/433, d=nan, g=nan\n",
      ">10, 291/433, d=nan, g=nan\n",
      ">10, 293/433, d=nan, g=nan\n",
      ">10, 295/433, d=nan, g=nan\n",
      ">10, 297/433, d=nan, g=nan\n",
      ">10, 299/433, d=nan, g=nan\n",
      ">10, 301/433, d=nan, g=nan\n",
      ">10, 303/433, d=nan, g=nan\n",
      ">10, 305/433, d=nan, g=nan\n",
      ">10, 307/433, d=nan, g=nan\n",
      ">10, 309/433, d=nan, g=nan\n",
      ">10, 311/433, d=nan, g=nan\n",
      ">10, 313/433, d=nan, g=nan\n",
      ">10, 315/433, d=nan, g=nan\n",
      ">10, 317/433, d=nan, g=nan\n",
      ">10, 319/433, d=nan, g=nan\n",
      ">10, 321/433, d=nan, g=nan\n",
      ">10, 323/433, d=nan, g=nan\n",
      ">10, 325/433, d=nan, g=nan\n",
      ">10, 327/433, d=nan, g=nan\n",
      ">10, 329/433, d=nan, g=nan\n",
      ">10, 331/433, d=nan, g=nan\n",
      ">10, 333/433, d=nan, g=nan\n",
      ">10, 335/433, d=nan, g=nan\n",
      ">10, 337/433, d=nan, g=nan\n",
      ">10, 339/433, d=nan, g=nan\n",
      ">10, 341/433, d=nan, g=nan\n",
      ">10, 343/433, d=nan, g=nan\n",
      ">10, 345/433, d=nan, g=nan\n",
      ">10, 347/433, d=nan, g=nan\n",
      ">10, 349/433, d=nan, g=nan\n",
      ">10, 351/433, d=nan, g=nan\n",
      ">10, 353/433, d=nan, g=nan\n",
      ">10, 355/433, d=nan, g=nan\n",
      ">10, 357/433, d=nan, g=nan\n",
      ">10, 359/433, d=nan, g=nan\n",
      ">10, 361/433, d=nan, g=nan\n",
      ">10, 363/433, d=nan, g=nan\n",
      ">10, 365/433, d=nan, g=nan\n",
      ">10, 367/433, d=nan, g=nan\n",
      ">10, 369/433, d=nan, g=nan\n",
      ">10, 371/433, d=nan, g=nan\n",
      ">10, 373/433, d=nan, g=nan\n",
      ">10, 375/433, d=nan, g=nan\n",
      ">10, 377/433, d=nan, g=nan\n",
      ">10, 379/433, d=nan, g=nan\n",
      ">10, 381/433, d=nan, g=nan\n",
      ">10, 383/433, d=nan, g=nan\n",
      ">10, 385/433, d=nan, g=nan\n",
      ">10, 387/433, d=nan, g=nan\n",
      ">10, 389/433, d=nan, g=nan\n",
      ">10, 391/433, d=nan, g=nan\n",
      ">10, 393/433, d=nan, g=nan\n",
      ">10, 395/433, d=nan, g=nan\n",
      ">10, 397/433, d=nan, g=nan\n",
      ">10, 399/433, d=nan, g=nan\n",
      ">10, 401/433, d=nan, g=nan\n",
      ">10, 403/433, d=nan, g=nan\n",
      ">10, 405/433, d=nan, g=nan\n",
      ">10, 407/433, d=nan, g=nan\n",
      ">10, 409/433, d=nan, g=nan\n",
      ">10, 411/433, d=nan, g=nan\n",
      ">10, 413/433, d=nan, g=nan\n",
      ">10, 415/433, d=nan, g=nan\n",
      ">10, 417/433, d=nan, g=nan\n",
      ">10, 419/433, d=nan, g=nan\n",
      ">10, 421/433, d=nan, g=nan\n",
      ">10, 423/433, d=nan, g=nan\n",
      ">10, 425/433, d=nan, g=nan\n",
      ">10, 427/433, d=nan, g=nan\n",
      ">10, 429/433, d=nan, g=nan\n",
      ">10, 431/433, d=nan, g=nan\n",
      ">10, 433/433, d=nan, g=nan\n",
      ">11, 1/433, d=nan, g=nan\n",
      ">11, 3/433, d=nan, g=nan\n",
      ">11, 5/433, d=nan, g=nan\n",
      ">11, 7/433, d=nan, g=nan\n",
      ">11, 9/433, d=nan, g=nan\n",
      ">11, 11/433, d=nan, g=nan\n",
      ">11, 13/433, d=nan, g=nan\n",
      ">11, 15/433, d=nan, g=nan\n",
      ">11, 17/433, d=nan, g=nan\n",
      ">11, 19/433, d=nan, g=nan\n",
      ">11, 21/433, d=nan, g=nan\n",
      ">11, 23/433, d=nan, g=nan\n",
      ">11, 25/433, d=nan, g=nan\n",
      ">11, 27/433, d=nan, g=nan\n",
      ">11, 29/433, d=nan, g=nan\n",
      ">11, 31/433, d=nan, g=nan\n",
      ">11, 33/433, d=nan, g=nan\n",
      ">11, 35/433, d=nan, g=nan\n",
      ">11, 37/433, d=nan, g=nan\n",
      ">11, 39/433, d=nan, g=nan\n",
      ">11, 41/433, d=nan, g=nan\n",
      ">11, 43/433, d=nan, g=nan\n",
      ">11, 45/433, d=nan, g=nan\n",
      ">11, 47/433, d=nan, g=nan\n",
      ">11, 49/433, d=nan, g=nan\n",
      ">11, 51/433, d=nan, g=nan\n",
      ">11, 53/433, d=nan, g=nan\n",
      ">11, 55/433, d=nan, g=nan\n",
      ">11, 57/433, d=nan, g=nan\n",
      ">11, 59/433, d=nan, g=nan\n",
      ">11, 61/433, d=nan, g=nan\n",
      ">11, 63/433, d=nan, g=nan\n",
      ">11, 65/433, d=nan, g=nan\n",
      ">11, 67/433, d=nan, g=nan\n",
      ">11, 69/433, d=nan, g=nan\n",
      ">11, 71/433, d=nan, g=nan\n",
      ">11, 73/433, d=nan, g=nan\n",
      ">11, 75/433, d=nan, g=nan\n",
      ">11, 77/433, d=nan, g=nan\n",
      ">11, 79/433, d=nan, g=nan\n",
      ">11, 81/433, d=nan, g=nan\n",
      ">11, 83/433, d=nan, g=nan\n",
      ">11, 85/433, d=nan, g=nan\n",
      ">11, 87/433, d=nan, g=nan\n",
      ">11, 89/433, d=nan, g=nan\n",
      ">11, 91/433, d=nan, g=nan\n",
      ">11, 93/433, d=nan, g=nan\n",
      ">11, 95/433, d=nan, g=nan\n",
      ">11, 97/433, d=nan, g=nan\n",
      ">11, 99/433, d=nan, g=nan\n",
      ">11, 101/433, d=nan, g=nan\n",
      ">11, 103/433, d=nan, g=nan\n",
      ">11, 105/433, d=nan, g=nan\n",
      ">11, 107/433, d=nan, g=nan\n",
      ">11, 109/433, d=nan, g=nan\n",
      ">11, 111/433, d=nan, g=nan\n",
      ">11, 113/433, d=nan, g=nan\n",
      ">11, 115/433, d=nan, g=nan\n",
      ">11, 117/433, d=nan, g=nan\n",
      ">11, 119/433, d=nan, g=nan\n",
      ">11, 121/433, d=nan, g=nan\n",
      ">11, 123/433, d=nan, g=nan\n",
      ">11, 125/433, d=nan, g=nan\n",
      ">11, 127/433, d=nan, g=nan\n",
      ">11, 129/433, d=nan, g=nan\n",
      ">11, 131/433, d=nan, g=nan\n",
      ">11, 133/433, d=nan, g=nan\n",
      ">11, 135/433, d=nan, g=nan\n",
      ">11, 137/433, d=nan, g=nan\n",
      ">11, 139/433, d=nan, g=nan\n",
      ">11, 141/433, d=nan, g=nan\n",
      ">11, 143/433, d=nan, g=nan\n",
      ">11, 145/433, d=nan, g=nan\n",
      ">11, 147/433, d=nan, g=nan\n",
      ">11, 149/433, d=nan, g=nan\n",
      ">11, 151/433, d=nan, g=nan\n",
      ">11, 153/433, d=nan, g=nan\n",
      ">11, 155/433, d=nan, g=nan\n",
      ">11, 157/433, d=nan, g=nan\n",
      ">11, 159/433, d=nan, g=nan\n",
      ">11, 161/433, d=nan, g=nan\n",
      ">11, 163/433, d=nan, g=nan\n",
      ">11, 165/433, d=nan, g=nan\n",
      ">11, 167/433, d=nan, g=nan\n",
      ">11, 169/433, d=nan, g=nan\n",
      ">11, 171/433, d=nan, g=nan\n",
      ">11, 173/433, d=nan, g=nan\n",
      ">11, 175/433, d=nan, g=nan\n",
      ">11, 177/433, d=nan, g=nan\n",
      ">11, 179/433, d=nan, g=nan\n",
      ">11, 181/433, d=nan, g=nan\n",
      ">11, 183/433, d=nan, g=nan\n",
      ">11, 185/433, d=nan, g=nan\n",
      ">11, 187/433, d=nan, g=nan\n",
      ">11, 189/433, d=nan, g=nan\n",
      ">11, 191/433, d=nan, g=nan\n",
      ">11, 193/433, d=nan, g=nan\n",
      ">11, 195/433, d=nan, g=nan\n",
      ">11, 197/433, d=nan, g=nan\n",
      ">11, 199/433, d=nan, g=nan\n",
      ">11, 201/433, d=nan, g=nan\n",
      ">11, 203/433, d=nan, g=nan\n",
      ">11, 205/433, d=nan, g=nan\n",
      ">11, 207/433, d=nan, g=nan\n",
      ">11, 209/433, d=nan, g=nan\n",
      ">11, 211/433, d=nan, g=nan\n",
      ">11, 213/433, d=nan, g=nan\n",
      ">11, 215/433, d=nan, g=nan\n",
      ">11, 217/433, d=nan, g=nan\n",
      ">11, 219/433, d=nan, g=nan\n",
      ">11, 221/433, d=nan, g=nan\n",
      ">11, 223/433, d=nan, g=nan\n",
      ">11, 225/433, d=nan, g=nan\n",
      ">11, 227/433, d=nan, g=nan\n",
      ">11, 229/433, d=nan, g=nan\n",
      ">11, 231/433, d=nan, g=nan\n",
      ">11, 233/433, d=nan, g=nan\n",
      ">11, 235/433, d=nan, g=nan\n",
      ">11, 237/433, d=nan, g=nan\n",
      ">11, 239/433, d=nan, g=nan\n",
      ">11, 241/433, d=nan, g=nan\n",
      ">11, 243/433, d=nan, g=nan\n",
      ">11, 245/433, d=nan, g=nan\n",
      ">11, 247/433, d=nan, g=nan\n",
      ">11, 249/433, d=nan, g=nan\n",
      ">11, 251/433, d=nan, g=nan\n",
      ">11, 253/433, d=nan, g=nan\n",
      ">11, 255/433, d=nan, g=nan\n",
      ">11, 257/433, d=nan, g=nan\n",
      ">11, 259/433, d=nan, g=nan\n",
      ">11, 261/433, d=nan, g=nan\n",
      ">11, 263/433, d=nan, g=nan\n",
      ">11, 265/433, d=nan, g=nan\n",
      ">11, 267/433, d=nan, g=nan\n",
      ">11, 269/433, d=nan, g=nan\n",
      ">11, 271/433, d=nan, g=nan\n",
      ">11, 273/433, d=nan, g=nan\n",
      ">11, 275/433, d=nan, g=nan\n",
      ">11, 277/433, d=nan, g=nan\n",
      ">11, 279/433, d=nan, g=nan\n",
      ">11, 281/433, d=nan, g=nan\n",
      ">11, 283/433, d=nan, g=nan\n",
      ">11, 285/433, d=nan, g=nan\n",
      ">11, 287/433, d=nan, g=nan\n",
      ">11, 289/433, d=nan, g=nan\n",
      ">11, 291/433, d=nan, g=nan\n",
      ">11, 293/433, d=nan, g=nan\n",
      ">11, 295/433, d=nan, g=nan\n",
      ">11, 297/433, d=nan, g=nan\n",
      ">11, 299/433, d=nan, g=nan\n",
      ">11, 301/433, d=nan, g=nan\n",
      ">11, 303/433, d=nan, g=nan\n",
      ">11, 305/433, d=nan, g=nan\n",
      ">11, 307/433, d=nan, g=nan\n",
      ">11, 309/433, d=nan, g=nan\n",
      ">11, 311/433, d=nan, g=nan\n",
      ">11, 313/433, d=nan, g=nan\n",
      ">11, 315/433, d=nan, g=nan\n",
      ">11, 317/433, d=nan, g=nan\n",
      ">11, 319/433, d=nan, g=nan\n",
      ">11, 321/433, d=nan, g=nan\n",
      ">11, 323/433, d=nan, g=nan\n",
      ">11, 325/433, d=nan, g=nan\n",
      ">11, 327/433, d=nan, g=nan\n",
      ">11, 329/433, d=nan, g=nan\n",
      ">11, 331/433, d=nan, g=nan\n",
      ">11, 333/433, d=nan, g=nan\n",
      ">11, 335/433, d=nan, g=nan\n",
      ">11, 337/433, d=nan, g=nan\n",
      ">11, 339/433, d=nan, g=nan\n",
      ">11, 341/433, d=nan, g=nan\n",
      ">11, 343/433, d=nan, g=nan\n",
      ">11, 345/433, d=nan, g=nan\n",
      ">11, 347/433, d=nan, g=nan\n",
      ">11, 349/433, d=nan, g=nan\n",
      ">11, 351/433, d=nan, g=nan\n",
      ">11, 353/433, d=nan, g=nan\n",
      ">11, 355/433, d=nan, g=nan\n",
      ">11, 357/433, d=nan, g=nan\n",
      ">11, 359/433, d=nan, g=nan\n",
      ">11, 361/433, d=nan, g=nan\n",
      ">11, 363/433, d=nan, g=nan\n",
      ">11, 365/433, d=nan, g=nan\n",
      ">11, 367/433, d=nan, g=nan\n",
      ">11, 369/433, d=nan, g=nan\n",
      ">11, 371/433, d=nan, g=nan\n",
      ">11, 373/433, d=nan, g=nan\n",
      ">11, 375/433, d=nan, g=nan\n",
      ">11, 377/433, d=nan, g=nan\n",
      ">11, 379/433, d=nan, g=nan\n",
      ">11, 381/433, d=nan, g=nan\n",
      ">11, 383/433, d=nan, g=nan\n",
      ">11, 385/433, d=nan, g=nan\n",
      ">11, 387/433, d=nan, g=nan\n",
      ">11, 389/433, d=nan, g=nan\n",
      ">11, 391/433, d=nan, g=nan\n",
      ">11, 393/433, d=nan, g=nan\n",
      ">11, 395/433, d=nan, g=nan\n",
      ">11, 397/433, d=nan, g=nan\n",
      ">11, 399/433, d=nan, g=nan\n",
      ">11, 401/433, d=nan, g=nan\n",
      ">11, 403/433, d=nan, g=nan\n",
      ">11, 405/433, d=nan, g=nan\n",
      ">11, 407/433, d=nan, g=nan\n",
      ">11, 409/433, d=nan, g=nan\n",
      ">11, 411/433, d=nan, g=nan\n",
      ">11, 413/433, d=nan, g=nan\n",
      ">11, 415/433, d=nan, g=nan\n",
      ">11, 417/433, d=nan, g=nan\n",
      ">11, 419/433, d=nan, g=nan\n",
      ">11, 421/433, d=nan, g=nan\n",
      ">11, 423/433, d=nan, g=nan\n",
      ">11, 425/433, d=nan, g=nan\n",
      ">11, 427/433, d=nan, g=nan\n",
      ">11, 429/433, d=nan, g=nan\n",
      ">11, 431/433, d=nan, g=nan\n",
      ">11, 433/433, d=nan, g=nan\n",
      "(100, 96, 96, 3)\n",
      "(100, 100)\n",
      "(100, 1)\n",
      ">Accuracy real: 0%, fake: 100%\n",
      "WARNING:tensorflow:Compiled the loaded model, but the compiled metrics have yet to be built. `model.compile_metrics` will be empty until you train or evaluate the model.\n",
      "WARNING:tensorflow:Compiled the loaded model, but the compiled metrics have yet to be built. `model.compile_metrics` will be empty until you train or evaluate the model.\n"
     ]
    }
   ],
   "source": [
    "# size of the latent space\n",
    "latent_dim = 100\n",
    "# train model\n",
    "train(generator, discriminator, sampler, encoder, gan_model, train_ds, latent_dim, n_epochs=11, resume_training=0)"
   ]
  },
  {
   "attachments": {},
   "cell_type": "markdown",
   "metadata": {},
   "source": [
    "test"
   ]
  },
  {
   "cell_type": "code",
   "execution_count": 17,
   "metadata": {},
   "outputs": [
    {
     "name": "stdout",
     "output_type": "stream",
     "text": [
      "WARNING:tensorflow:No training configuration found in the save file, so the model was *not* compiled. Compile it manually.\n",
      "WARNING:tensorflow:Error in loading the saved optimizer state. As a result, your model is starting with a freshly initialized optimizer.\n"
     ]
    }
   ],
   "source": [
    "generator = tf.keras.models.load_model('cgenerator_model_64_e131.h5')\n",
    "discriminator = tf.keras.models.load_model('cdiscriminator_model_64.h5')"
   ]
  },
  {
   "cell_type": "code",
   "execution_count": 492,
   "metadata": {},
   "outputs": [
    {
     "data": {
      "application/vnd.plotly.v1+json": {
       "config": {
        "plotlyServerURL": "https://plot.ly"
       },
       "data": [
        {
         "hovertemplate": "x: %{x}<br>y: %{y}<extra></extra>",
         "name": "0",
         "source": "data:image/png;base64,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",
         "type": "image",
         "xaxis": "x",
         "yaxis": "y"
        }
       ],
       "layout": {
        "annotations": [
         {
          "align": "left",
          "bgcolor": "#ff7f0e",
          "bordercolor": "#c7c7c7",
          "borderpad": 2,
          "borderwidth": 1,
          "font": {
           "color": "#ffffff",
           "family": "Courier New, monospace",
           "size": 12
          },
          "opacity": 0.8,
          "showarrow": false,
          "text": "real: 0%",
          "x": 1,
          "xref": "paper",
          "y": 1,
          "yref": "paper"
         }
        ],
        "height": 350,
        "images": [
         {
          "layer": "below",
          "sizex": 0.3,
          "sizey": 0.3,
          "source": "images/final/real/1.png",
          "x": 1,
          "xref": "paper",
          "y": 1.1,
          "yref": "paper"
         }
        ],
        "margin": {
         "l": 0,
         "t": 60
        },
        "shapes": [
         {
          "line": {
           "color": "black",
           "width": 2
          },
          "type": "rect",
          "x0": 0,
          "x1": 96,
          "xref": "x",
          "y0": 0,
          "y1": 96,
          "yref": "y"
         }
        ],
        "template": {
         "data": {
          "bar": [
           {
            "error_x": {
             "color": "#2a3f5f"
            },
            "error_y": {
             "color": "#2a3f5f"
            },
            "marker": {
             "line": {
              "color": "#E5ECF6",
              "width": 0.5
             },
             "pattern": {
              "fillmode": "overlay",
              "size": 10,
              "solidity": 0.2
             }
            },
            "type": "bar"
           }
          ],
          "barpolar": [
           {
            "marker": {
             "line": {
              "color": "#E5ECF6",
              "width": 0.5
             },
             "pattern": {
              "fillmode": "overlay",
              "size": 10,
              "solidity": 0.2
             }
            },
            "type": "barpolar"
           }
          ],
          "carpet": [
           {
            "aaxis": {
             "endlinecolor": "#2a3f5f",
             "gridcolor": "white",
             "linecolor": "white",
             "minorgridcolor": "white",
             "startlinecolor": "#2a3f5f"
            },
            "baxis": {
             "endlinecolor": "#2a3f5f",
             "gridcolor": "white",
             "linecolor": "white",
             "minorgridcolor": "white",
             "startlinecolor": "#2a3f5f"
            },
            "type": "carpet"
           }
          ],
          "choropleth": [
           {
            "colorbar": {
             "outlinewidth": 0,
             "ticks": ""
            },
            "type": "choropleth"
           }
          ],
          "contour": [
           {
            "colorbar": {
             "outlinewidth": 0,
             "ticks": ""
            },
            "colorscale": [
             [
              0,
              "#0d0887"
             ],
             [
              0.1111111111111111,
              "#46039f"
             ],
             [
              0.2222222222222222,
              "#7201a8"
             ],
             [
              0.3333333333333333,
              "#9c179e"
             ],
             [
              0.4444444444444444,
              "#bd3786"
             ],
             [
              0.5555555555555556,
              "#d8576b"
             ],
             [
              0.6666666666666666,
              "#ed7953"
             ],
             [
              0.7777777777777778,
              "#fb9f3a"
             ],
             [
              0.8888888888888888,
              "#fdca26"
             ],
             [
              1,
              "#f0f921"
             ]
            ],
            "type": "contour"
           }
          ],
          "contourcarpet": [
           {
            "colorbar": {
             "outlinewidth": 0,
             "ticks": ""
            },
            "type": "contourcarpet"
           }
          ],
          "heatmap": [
           {
            "colorbar": {
             "outlinewidth": 0,
             "ticks": ""
            },
            "colorscale": [
             [
              0,
              "#0d0887"
             ],
             [
              0.1111111111111111,
              "#46039f"
             ],
             [
              0.2222222222222222,
              "#7201a8"
             ],
             [
              0.3333333333333333,
              "#9c179e"
             ],
             [
              0.4444444444444444,
              "#bd3786"
             ],
             [
              0.5555555555555556,
              "#d8576b"
             ],
             [
              0.6666666666666666,
              "#ed7953"
             ],
             [
              0.7777777777777778,
              "#fb9f3a"
             ],
             [
              0.8888888888888888,
              "#fdca26"
             ],
             [
              1,
              "#f0f921"
             ]
            ],
            "type": "heatmap"
           }
          ],
          "heatmapgl": [
           {
            "colorbar": {
             "outlinewidth": 0,
             "ticks": ""
            },
            "colorscale": [
             [
              0,
              "#0d0887"
             ],
             [
              0.1111111111111111,
              "#46039f"
             ],
             [
              0.2222222222222222,
              "#7201a8"
             ],
             [
              0.3333333333333333,
              "#9c179e"
             ],
             [
              0.4444444444444444,
              "#bd3786"
             ],
             [
              0.5555555555555556,
              "#d8576b"
             ],
             [
              0.6666666666666666,
              "#ed7953"
             ],
             [
              0.7777777777777778,
              "#fb9f3a"
             ],
             [
              0.8888888888888888,
              "#fdca26"
             ],
             [
              1,
              "#f0f921"
             ]
            ],
            "type": "heatmapgl"
           }
          ],
          "histogram": [
           {
            "marker": {
             "pattern": {
              "fillmode": "overlay",
              "size": 10,
              "solidity": 0.2
             }
            },
            "type": "histogram"
           }
          ],
          "histogram2d": [
           {
            "colorbar": {
             "outlinewidth": 0,
             "ticks": ""
            },
            "colorscale": [
             [
              0,
              "#0d0887"
             ],
             [
              0.1111111111111111,
              "#46039f"
             ],
             [
              0.2222222222222222,
              "#7201a8"
             ],
             [
              0.3333333333333333,
              "#9c179e"
             ],
             [
              0.4444444444444444,
              "#bd3786"
             ],
             [
              0.5555555555555556,
              "#d8576b"
             ],
             [
              0.6666666666666666,
              "#ed7953"
             ],
             [
              0.7777777777777778,
              "#fb9f3a"
             ],
             [
              0.8888888888888888,
              "#fdca26"
             ],
             [
              1,
              "#f0f921"
             ]
            ],
            "type": "histogram2d"
           }
          ],
          "histogram2dcontour": [
           {
            "colorbar": {
             "outlinewidth": 0,
             "ticks": ""
            },
            "colorscale": [
             [
              0,
              "#0d0887"
             ],
             [
              0.1111111111111111,
              "#46039f"
             ],
             [
              0.2222222222222222,
              "#7201a8"
             ],
             [
              0.3333333333333333,
              "#9c179e"
             ],
             [
              0.4444444444444444,
              "#bd3786"
             ],
             [
              0.5555555555555556,
              "#d8576b"
             ],
             [
              0.6666666666666666,
              "#ed7953"
             ],
             [
              0.7777777777777778,
              "#fb9f3a"
             ],
             [
              0.8888888888888888,
              "#fdca26"
             ],
             [
              1,
              "#f0f921"
             ]
            ],
            "type": "histogram2dcontour"
           }
          ],
          "mesh3d": [
           {
            "colorbar": {
             "outlinewidth": 0,
             "ticks": ""
            },
            "type": "mesh3d"
           }
          ],
          "parcoords": [
           {
            "line": {
             "colorbar": {
              "outlinewidth": 0,
              "ticks": ""
             }
            },
            "type": "parcoords"
           }
          ],
          "pie": [
           {
            "automargin": true,
            "type": "pie"
           }
          ],
          "scatter": [
           {
            "fillpattern": {
             "fillmode": "overlay",
             "size": 10,
             "solidity": 0.2
            },
            "type": "scatter"
           }
          ],
          "scatter3d": [
           {
            "line": {
             "colorbar": {
              "outlinewidth": 0,
              "ticks": ""
             }
            },
            "marker": {
             "colorbar": {
              "outlinewidth": 0,
              "ticks": ""
             }
            },
            "type": "scatter3d"
           }
          ],
          "scattercarpet": [
           {
            "marker": {
             "colorbar": {
              "outlinewidth": 0,
              "ticks": ""
             }
            },
            "type": "scattercarpet"
           }
          ],
          "scattergeo": [
           {
            "marker": {
             "colorbar": {
              "outlinewidth": 0,
              "ticks": ""
             }
            },
            "type": "scattergeo"
           }
          ],
          "scattergl": [
           {
            "marker": {
             "colorbar": {
              "outlinewidth": 0,
              "ticks": ""
             }
            },
            "type": "scattergl"
           }
          ],
          "scattermapbox": [
           {
            "marker": {
             "colorbar": {
              "outlinewidth": 0,
              "ticks": ""
             }
            },
            "type": "scattermapbox"
           }
          ],
          "scatterpolar": [
           {
            "marker": {
             "colorbar": {
              "outlinewidth": 0,
              "ticks": ""
             }
            },
            "type": "scatterpolar"
           }
          ],
          "scatterpolargl": [
           {
            "marker": {
             "colorbar": {
              "outlinewidth": 0,
              "ticks": ""
             }
            },
            "type": "scatterpolargl"
           }
          ],
          "scatterternary": [
           {
            "marker": {
             "colorbar": {
              "outlinewidth": 0,
              "ticks": ""
             }
            },
            "type": "scatterternary"
           }
          ],
          "surface": [
           {
            "colorbar": {
             "outlinewidth": 0,
             "ticks": ""
            },
            "colorscale": [
             [
              0,
              "#0d0887"
             ],
             [
              0.1111111111111111,
              "#46039f"
             ],
             [
              0.2222222222222222,
              "#7201a8"
             ],
             [
              0.3333333333333333,
              "#9c179e"
             ],
             [
              0.4444444444444444,
              "#bd3786"
             ],
             [
              0.5555555555555556,
              "#d8576b"
             ],
             [
              0.6666666666666666,
              "#ed7953"
             ],
             [
              0.7777777777777778,
              "#fb9f3a"
             ],
             [
              0.8888888888888888,
              "#fdca26"
             ],
             [
              1,
              "#f0f921"
             ]
            ],
            "type": "surface"
           }
          ],
          "table": [
           {
            "cells": {
             "fill": {
              "color": "#EBF0F8"
             },
             "line": {
              "color": "white"
             }
            },
            "header": {
             "fill": {
              "color": "#C8D4E3"
             },
             "line": {
              "color": "white"
             }
            },
            "type": "table"
           }
          ]
         },
         "layout": {
          "annotationdefaults": {
           "arrowcolor": "#2a3f5f",
           "arrowhead": 0,
           "arrowwidth": 1
          },
          "autotypenumbers": "strict",
          "coloraxis": {
           "colorbar": {
            "outlinewidth": 0,
            "ticks": ""
           }
          },
          "colorscale": {
           "diverging": [
            [
             0,
             "#8e0152"
            ],
            [
             0.1,
             "#c51b7d"
            ],
            [
             0.2,
             "#de77ae"
            ],
            [
             0.3,
             "#f1b6da"
            ],
            [
             0.4,
             "#fde0ef"
            ],
            [
             0.5,
             "#f7f7f7"
            ],
            [
             0.6,
             "#e6f5d0"
            ],
            [
             0.7,
             "#b8e186"
            ],
            [
             0.8,
             "#7fbc41"
            ],
            [
             0.9,
             "#4d9221"
            ],
            [
             1,
             "#276419"
            ]
           ],
           "sequential": [
            [
             0,
             "#0d0887"
            ],
            [
             0.1111111111111111,
             "#46039f"
            ],
            [
             0.2222222222222222,
             "#7201a8"
            ],
            [
             0.3333333333333333,
             "#9c179e"
            ],
            [
             0.4444444444444444,
             "#bd3786"
            ],
            [
             0.5555555555555556,
             "#d8576b"
            ],
            [
             0.6666666666666666,
             "#ed7953"
            ],
            [
             0.7777777777777778,
             "#fb9f3a"
            ],
            [
             0.8888888888888888,
             "#fdca26"
            ],
            [
             1,
             "#f0f921"
            ]
           ],
           "sequentialminus": [
            [
             0,
             "#0d0887"
            ],
            [
             0.1111111111111111,
             "#46039f"
            ],
            [
             0.2222222222222222,
             "#7201a8"
            ],
            [
             0.3333333333333333,
             "#9c179e"
            ],
            [
             0.4444444444444444,
             "#bd3786"
            ],
            [
             0.5555555555555556,
             "#d8576b"
            ],
            [
             0.6666666666666666,
             "#ed7953"
            ],
            [
             0.7777777777777778,
             "#fb9f3a"
            ],
            [
             0.8888888888888888,
             "#fdca26"
            ],
            [
             1,
             "#f0f921"
            ]
           ]
          },
          "colorway": [
           "#636efa",
           "#EF553B",
           "#00cc96",
           "#ab63fa",
           "#FFA15A",
           "#19d3f3",
           "#FF6692",
           "#B6E880",
           "#FF97FF",
           "#FECB52"
          ],
          "font": {
           "color": "#2a3f5f"
          },
          "geo": {
           "bgcolor": "white",
           "lakecolor": "white",
           "landcolor": "#E5ECF6",
           "showlakes": true,
           "showland": true,
           "subunitcolor": "white"
          },
          "hoverlabel": {
           "align": "left"
          },
          "hovermode": "closest",
          "mapbox": {
           "style": "light"
          },
          "paper_bgcolor": "white",
          "plot_bgcolor": "#E5ECF6",
          "polar": {
           "angularaxis": {
            "gridcolor": "white",
            "linecolor": "white",
            "ticks": ""
           },
           "bgcolor": "#E5ECF6",
           "radialaxis": {
            "gridcolor": "white",
            "linecolor": "white",
            "ticks": ""
           }
          },
          "scene": {
           "xaxis": {
            "backgroundcolor": "#E5ECF6",
            "gridcolor": "white",
            "gridwidth": 2,
            "linecolor": "white",
            "showbackground": true,
            "ticks": "",
            "zerolinecolor": "white"
           },
           "yaxis": {
            "backgroundcolor": "#E5ECF6",
            "gridcolor": "white",
            "gridwidth": 2,
            "linecolor": "white",
            "showbackground": true,
            "ticks": "",
            "zerolinecolor": "white"
           },
           "zaxis": {
            "backgroundcolor": "#E5ECF6",
            "gridcolor": "white",
            "gridwidth": 2,
            "linecolor": "white",
            "showbackground": true,
            "ticks": "",
            "zerolinecolor": "white"
           }
          },
          "shapedefaults": {
           "line": {
            "color": "#2a3f5f"
           }
          },
          "ternary": {
           "aaxis": {
            "gridcolor": "white",
            "linecolor": "white",
            "ticks": ""
           },
           "baxis": {
            "gridcolor": "white",
            "linecolor": "white",
            "ticks": ""
           },
           "bgcolor": "#E5ECF6",
           "caxis": {
            "gridcolor": "white",
            "linecolor": "white",
            "ticks": ""
           }
          },
          "title": {
           "x": 0.05
          },
          "xaxis": {
           "automargin": true,
           "gridcolor": "white",
           "linecolor": "white",
           "ticks": "",
           "title": {
            "standoff": 15
           },
           "zerolinecolor": "white",
           "zerolinewidth": 2
          },
          "yaxis": {
           "automargin": true,
           "gridcolor": "white",
           "linecolor": "white",
           "ticks": "",
           "title": {
            "standoff": 15
           },
           "zerolinecolor": "white",
           "zerolinewidth": 2
          }
         }
        },
        "title": {
         "text": "Label: image générée"
        },
        "width": 500,
        "xaxis": {
         "anchor": "y",
         "domain": [
          0,
          1
         ],
         "showgrid": false,
         "showticklabels": false,
         "visible": false,
         "zeroline": false
        },
        "yaxis": {
         "anchor": "x",
         "domain": [
          0,
          1
         ],
         "showgrid": false,
         "showticklabels": false,
         "visible": false,
         "zeroline": false
        }
       }
      }
     },
     "metadata": {},
     "output_type": "display_data"
    }
   ],
   "source": [
    "X = generator.predict([generate_latent_points(100, 1), types_to_vector('Ghost', 'Fighting')], verbose=0)\n",
    "plot_image(X[0], \"image générée\", {\"real\": discriminator.predict([X, types_to_vector('Ghost', 'Fighting')], verbose=0)[0][0]}, 96)"
   ]
  },
  {
   "cell_type": "code",
   "execution_count": null,
   "metadata": {},
   "outputs": [],
   "source": [
    "X = generator.predict([generate_latent_points(100, 1), np.array([[1., 1., 1., 1., 1., 1., 1., 1., 1., 1., 1., 1., 1., 1., 1., 1., 1., 1.]])], verbose=0)\n",
    "plot_image(X[0], \"image générée\", {\"real\": discriminator.predict([X, np.array([[1., 1., 1., 1., 1., 1., 1., 1., 1., 1., 1., 1., 1., 1., 1., 1., 1., 1.]])], verbose=0)[0][0]}, 96)"
   ]
  },
  {
   "cell_type": "code",
   "execution_count": 91,
   "metadata": {},
   "outputs": [],
   "source": [
    "# test image with random noise between -1 and 1\n",
    "test_image_noise = tf.random.uniform(shape=(1, 96, 96, 3), minval=-1, maxval=1)"
   ]
  },
  {
   "cell_type": "code",
   "execution_count": 94,
   "metadata": {},
   "outputs": [
    {
     "data": {
      "application/vnd.plotly.v1+json": {
       "config": {
        "plotlyServerURL": "https://plot.ly"
       },
       "data": [
        {
         "hovertemplate": "x: %{x}<br>y: %{y}<extra></extra>",
         "name": "0",
         "source": "data:image/png;base64,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",
         "type": "image",
         "xaxis": "x",
         "yaxis": "y"
        }
       ],
       "layout": {
        "annotations": [
         {
          "align": "left",
          "bgcolor": "#ff7f0e",
          "bordercolor": "#c7c7c7",
          "borderpad": 2,
          "borderwidth": 1,
          "font": {
           "color": "#ffffff",
           "family": "Courier New, monospace",
           "size": 12
          },
          "opacity": 0.8,
          "showarrow": false,
          "text": "real: 0%",
          "x": 1,
          "xref": "paper",
          "y": 1,
          "yref": "paper"
         }
        ],
        "height": 350,
        "images": [
         {
          "layer": "below",
          "sizex": 0.3,
          "sizey": 0.3,
          "source": "images/final/real/1.png",
          "x": 1,
          "xref": "paper",
          "y": 1.1,
          "yref": "paper"
         }
        ],
        "margin": {
         "l": 0,
         "t": 60
        },
        "shapes": [
         {
          "line": {
           "color": "black",
           "width": 2
          },
          "type": "rect",
          "x0": 0,
          "x1": 96,
          "xref": "x",
          "y0": 0,
          "y1": 96,
          "yref": "y"
         }
        ],
        "template": {
         "data": {
          "bar": [
           {
            "error_x": {
             "color": "#2a3f5f"
            },
            "error_y": {
             "color": "#2a3f5f"
            },
            "marker": {
             "line": {
              "color": "#E5ECF6",
              "width": 0.5
             },
             "pattern": {
              "fillmode": "overlay",
              "size": 10,
              "solidity": 0.2
             }
            },
            "type": "bar"
           }
          ],
          "barpolar": [
           {
            "marker": {
             "line": {
              "color": "#E5ECF6",
              "width": 0.5
             },
             "pattern": {
              "fillmode": "overlay",
              "size": 10,
              "solidity": 0.2
             }
            },
            "type": "barpolar"
           }
          ],
          "carpet": [
           {
            "aaxis": {
             "endlinecolor": "#2a3f5f",
             "gridcolor": "white",
             "linecolor": "white",
             "minorgridcolor": "white",
             "startlinecolor": "#2a3f5f"
            },
            "baxis": {
             "endlinecolor": "#2a3f5f",
             "gridcolor": "white",
             "linecolor": "white",
             "minorgridcolor": "white",
             "startlinecolor": "#2a3f5f"
            },
            "type": "carpet"
           }
          ],
          "choropleth": [
           {
            "colorbar": {
             "outlinewidth": 0,
             "ticks": ""
            },
            "type": "choropleth"
           }
          ],
          "contour": [
           {
            "colorbar": {
             "outlinewidth": 0,
             "ticks": ""
            },
            "colorscale": [
             [
              0,
              "#0d0887"
             ],
             [
              0.1111111111111111,
              "#46039f"
             ],
             [
              0.2222222222222222,
              "#7201a8"
             ],
             [
              0.3333333333333333,
              "#9c179e"
             ],
             [
              0.4444444444444444,
              "#bd3786"
             ],
             [
              0.5555555555555556,
              "#d8576b"
             ],
             [
              0.6666666666666666,
              "#ed7953"
             ],
             [
              0.7777777777777778,
              "#fb9f3a"
             ],
             [
              0.8888888888888888,
              "#fdca26"
             ],
             [
              1,
              "#f0f921"
             ]
            ],
            "type": "contour"
           }
          ],
          "contourcarpet": [
           {
            "colorbar": {
             "outlinewidth": 0,
             "ticks": ""
            },
            "type": "contourcarpet"
           }
          ],
          "heatmap": [
           {
            "colorbar": {
             "outlinewidth": 0,
             "ticks": ""
            },
            "colorscale": [
             [
              0,
              "#0d0887"
             ],
             [
              0.1111111111111111,
              "#46039f"
             ],
             [
              0.2222222222222222,
              "#7201a8"
             ],
             [
              0.3333333333333333,
              "#9c179e"
             ],
             [
              0.4444444444444444,
              "#bd3786"
             ],
             [
              0.5555555555555556,
              "#d8576b"
             ],
             [
              0.6666666666666666,
              "#ed7953"
             ],
             [
              0.7777777777777778,
              "#fb9f3a"
             ],
             [
              0.8888888888888888,
              "#fdca26"
             ],
             [
              1,
              "#f0f921"
             ]
            ],
            "type": "heatmap"
           }
          ],
          "heatmapgl": [
           {
            "colorbar": {
             "outlinewidth": 0,
             "ticks": ""
            },
            "colorscale": [
             [
              0,
              "#0d0887"
             ],
             [
              0.1111111111111111,
              "#46039f"
             ],
             [
              0.2222222222222222,
              "#7201a8"
             ],
             [
              0.3333333333333333,
              "#9c179e"
             ],
             [
              0.4444444444444444,
              "#bd3786"
             ],
             [
              0.5555555555555556,
              "#d8576b"
             ],
             [
              0.6666666666666666,
              "#ed7953"
             ],
             [
              0.7777777777777778,
              "#fb9f3a"
             ],
             [
              0.8888888888888888,
              "#fdca26"
             ],
             [
              1,
              "#f0f921"
             ]
            ],
            "type": "heatmapgl"
           }
          ],
          "histogram": [
           {
            "marker": {
             "pattern": {
              "fillmode": "overlay",
              "size": 10,
              "solidity": 0.2
             }
            },
            "type": "histogram"
           }
          ],
          "histogram2d": [
           {
            "colorbar": {
             "outlinewidth": 0,
             "ticks": ""
            },
            "colorscale": [
             [
              0,
              "#0d0887"
             ],
             [
              0.1111111111111111,
              "#46039f"
             ],
             [
              0.2222222222222222,
              "#7201a8"
             ],
             [
              0.3333333333333333,
              "#9c179e"
             ],
             [
              0.4444444444444444,
              "#bd3786"
             ],
             [
              0.5555555555555556,
              "#d8576b"
             ],
             [
              0.6666666666666666,
              "#ed7953"
             ],
             [
              0.7777777777777778,
              "#fb9f3a"
             ],
             [
              0.8888888888888888,
              "#fdca26"
             ],
             [
              1,
              "#f0f921"
             ]
            ],
            "type": "histogram2d"
           }
          ],
          "histogram2dcontour": [
           {
            "colorbar": {
             "outlinewidth": 0,
             "ticks": ""
            },
            "colorscale": [
             [
              0,
              "#0d0887"
             ],
             [
              0.1111111111111111,
              "#46039f"
             ],
             [
              0.2222222222222222,
              "#7201a8"
             ],
             [
              0.3333333333333333,
              "#9c179e"
             ],
             [
              0.4444444444444444,
              "#bd3786"
             ],
             [
              0.5555555555555556,
              "#d8576b"
             ],
             [
              0.6666666666666666,
              "#ed7953"
             ],
             [
              0.7777777777777778,
              "#fb9f3a"
             ],
             [
              0.8888888888888888,
              "#fdca26"
             ],
             [
              1,
              "#f0f921"
             ]
            ],
            "type": "histogram2dcontour"
           }
          ],
          "mesh3d": [
           {
            "colorbar": {
             "outlinewidth": 0,
             "ticks": ""
            },
            "type": "mesh3d"
           }
          ],
          "parcoords": [
           {
            "line": {
             "colorbar": {
              "outlinewidth": 0,
              "ticks": ""
             }
            },
            "type": "parcoords"
           }
          ],
          "pie": [
           {
            "automargin": true,
            "type": "pie"
           }
          ],
          "scatter": [
           {
            "fillpattern": {
             "fillmode": "overlay",
             "size": 10,
             "solidity": 0.2
            },
            "type": "scatter"
           }
          ],
          "scatter3d": [
           {
            "line": {
             "colorbar": {
              "outlinewidth": 0,
              "ticks": ""
             }
            },
            "marker": {
             "colorbar": {
              "outlinewidth": 0,
              "ticks": ""
             }
            },
            "type": "scatter3d"
           }
          ],
          "scattercarpet": [
           {
            "marker": {
             "colorbar": {
              "outlinewidth": 0,
              "ticks": ""
             }
            },
            "type": "scattercarpet"
           }
          ],
          "scattergeo": [
           {
            "marker": {
             "colorbar": {
              "outlinewidth": 0,
              "ticks": ""
             }
            },
            "type": "scattergeo"
           }
          ],
          "scattergl": [
           {
            "marker": {
             "colorbar": {
              "outlinewidth": 0,
              "ticks": ""
             }
            },
            "type": "scattergl"
           }
          ],
          "scattermapbox": [
           {
            "marker": {
             "colorbar": {
              "outlinewidth": 0,
              "ticks": ""
             }
            },
            "type": "scattermapbox"
           }
          ],
          "scatterpolar": [
           {
            "marker": {
             "colorbar": {
              "outlinewidth": 0,
              "ticks": ""
             }
            },
            "type": "scatterpolar"
           }
          ],
          "scatterpolargl": [
           {
            "marker": {
             "colorbar": {
              "outlinewidth": 0,
              "ticks": ""
             }
            },
            "type": "scatterpolargl"
           }
          ],
          "scatterternary": [
           {
            "marker": {
             "colorbar": {
              "outlinewidth": 0,
              "ticks": ""
             }
            },
            "type": "scatterternary"
           }
          ],
          "surface": [
           {
            "colorbar": {
             "outlinewidth": 0,
             "ticks": ""
            },
            "colorscale": [
             [
              0,
              "#0d0887"
             ],
             [
              0.1111111111111111,
              "#46039f"
             ],
             [
              0.2222222222222222,
              "#7201a8"
             ],
             [
              0.3333333333333333,
              "#9c179e"
             ],
             [
              0.4444444444444444,
              "#bd3786"
             ],
             [
              0.5555555555555556,
              "#d8576b"
             ],
             [
              0.6666666666666666,
              "#ed7953"
             ],
             [
              0.7777777777777778,
              "#fb9f3a"
             ],
             [
              0.8888888888888888,
              "#fdca26"
             ],
             [
              1,
              "#f0f921"
             ]
            ],
            "type": "surface"
           }
          ],
          "table": [
           {
            "cells": {
             "fill": {
              "color": "#EBF0F8"
             },
             "line": {
              "color": "white"
             }
            },
            "header": {
             "fill": {
              "color": "#C8D4E3"
             },
             "line": {
              "color": "white"
             }
            },
            "type": "table"
           }
          ]
         },
         "layout": {
          "annotationdefaults": {
           "arrowcolor": "#2a3f5f",
           "arrowhead": 0,
           "arrowwidth": 1
          },
          "autotypenumbers": "strict",
          "coloraxis": {
           "colorbar": {
            "outlinewidth": 0,
            "ticks": ""
           }
          },
          "colorscale": {
           "diverging": [
            [
             0,
             "#8e0152"
            ],
            [
             0.1,
             "#c51b7d"
            ],
            [
             0.2,
             "#de77ae"
            ],
            [
             0.3,
             "#f1b6da"
            ],
            [
             0.4,
             "#fde0ef"
            ],
            [
             0.5,
             "#f7f7f7"
            ],
            [
             0.6,
             "#e6f5d0"
            ],
            [
             0.7,
             "#b8e186"
            ],
            [
             0.8,
             "#7fbc41"
            ],
            [
             0.9,
             "#4d9221"
            ],
            [
             1,
             "#276419"
            ]
           ],
           "sequential": [
            [
             0,
             "#0d0887"
            ],
            [
             0.1111111111111111,
             "#46039f"
            ],
            [
             0.2222222222222222,
             "#7201a8"
            ],
            [
             0.3333333333333333,
             "#9c179e"
            ],
            [
             0.4444444444444444,
             "#bd3786"
            ],
            [
             0.5555555555555556,
             "#d8576b"
            ],
            [
             0.6666666666666666,
             "#ed7953"
            ],
            [
             0.7777777777777778,
             "#fb9f3a"
            ],
            [
             0.8888888888888888,
             "#fdca26"
            ],
            [
             1,
             "#f0f921"
            ]
           ],
           "sequentialminus": [
            [
             0,
             "#0d0887"
            ],
            [
             0.1111111111111111,
             "#46039f"
            ],
            [
             0.2222222222222222,
             "#7201a8"
            ],
            [
             0.3333333333333333,
             "#9c179e"
            ],
            [
             0.4444444444444444,
             "#bd3786"
            ],
            [
             0.5555555555555556,
             "#d8576b"
            ],
            [
             0.6666666666666666,
             "#ed7953"
            ],
            [
             0.7777777777777778,
             "#fb9f3a"
            ],
            [
             0.8888888888888888,
             "#fdca26"
            ],
            [
             1,
             "#f0f921"
            ]
           ]
          },
          "colorway": [
           "#636efa",
           "#EF553B",
           "#00cc96",
           "#ab63fa",
           "#FFA15A",
           "#19d3f3",
           "#FF6692",
           "#B6E880",
           "#FF97FF",
           "#FECB52"
          ],
          "font": {
           "color": "#2a3f5f"
          },
          "geo": {
           "bgcolor": "white",
           "lakecolor": "white",
           "landcolor": "#E5ECF6",
           "showlakes": true,
           "showland": true,
           "subunitcolor": "white"
          },
          "hoverlabel": {
           "align": "left"
          },
          "hovermode": "closest",
          "mapbox": {
           "style": "light"
          },
          "paper_bgcolor": "white",
          "plot_bgcolor": "#E5ECF6",
          "polar": {
           "angularaxis": {
            "gridcolor": "white",
            "linecolor": "white",
            "ticks": ""
           },
           "bgcolor": "#E5ECF6",
           "radialaxis": {
            "gridcolor": "white",
            "linecolor": "white",
            "ticks": ""
           }
          },
          "scene": {
           "xaxis": {
            "backgroundcolor": "#E5ECF6",
            "gridcolor": "white",
            "gridwidth": 2,
            "linecolor": "white",
            "showbackground": true,
            "ticks": "",
            "zerolinecolor": "white"
           },
           "yaxis": {
            "backgroundcolor": "#E5ECF6",
            "gridcolor": "white",
            "gridwidth": 2,
            "linecolor": "white",
            "showbackground": true,
            "ticks": "",
            "zerolinecolor": "white"
           },
           "zaxis": {
            "backgroundcolor": "#E5ECF6",
            "gridcolor": "white",
            "gridwidth": 2,
            "linecolor": "white",
            "showbackground": true,
            "ticks": "",
            "zerolinecolor": "white"
           }
          },
          "shapedefaults": {
           "line": {
            "color": "#2a3f5f"
           }
          },
          "ternary": {
           "aaxis": {
            "gridcolor": "white",
            "linecolor": "white",
            "ticks": ""
           },
           "baxis": {
            "gridcolor": "white",
            "linecolor": "white",
            "ticks": ""
           },
           "bgcolor": "#E5ECF6",
           "caxis": {
            "gridcolor": "white",
            "linecolor": "white",
            "ticks": ""
           }
          },
          "title": {
           "x": 0.05
          },
          "xaxis": {
           "automargin": true,
           "gridcolor": "white",
           "linecolor": "white",
           "ticks": "",
           "title": {
            "standoff": 15
           },
           "zerolinecolor": "white",
           "zerolinewidth": 2
          },
          "yaxis": {
           "automargin": true,
           "gridcolor": "white",
           "linecolor": "white",
           "ticks": "",
           "title": {
            "standoff": 15
           },
           "zerolinecolor": "white",
           "zerolinewidth": 2
          }
         }
        },
        "title": {
         "text": "Label: image test"
        },
        "width": 500,
        "xaxis": {
         "anchor": "y",
         "domain": [
          0,
          1
         ],
         "showgrid": false,
         "showticklabels": false,
         "visible": false,
         "zeroline": false
        },
        "yaxis": {
         "anchor": "x",
         "domain": [
          0,
          1
         ],
         "showgrid": false,
         "showticklabels": false,
         "visible": false,
         "zeroline": false
        }
       }
      }
     },
     "metadata": {},
     "output_type": "display_data"
    }
   ],
   "source": [
    "plot_image(test_image_noise[0], \"image test\", {\"real\": discriminator.predict([test_image_noise, types_to_vector('Dark')], verbose=0)[0][0]}, 96)"
   ]
  },
  {
   "cell_type": "code",
   "execution_count": 84,
   "metadata": {},
   "outputs": [
    {
     "name": "stdout",
     "output_type": "stream",
     "text": [
      "(1, 96, 96, 3)\n"
     ]
    }
   ],
   "source": [
    "# load images/test/charmander.png to test\n",
    "test_image = tf.keras.preprocessing.image.load_img('images/test/charmander.png', color_mode='rgba', target_size=image_size)\n",
    "test_image = tf.keras.preprocessing.image.img_to_array(test_image)\n",
    "test_image = tf.expand_dims(test_image, axis=0)\n",
    "test_image = preprocess_image(test_image)\n",
    "print(test_image.shape)"
   ]
  },
  {
   "cell_type": "code",
   "execution_count": 192,
   "metadata": {},
   "outputs": [
    {
     "data": {
      "application/vnd.plotly.v1+json": {
       "config": {
        "plotlyServerURL": "https://plot.ly"
       },
       "data": [
        {
         "hovertemplate": "x: %{x}<br>y: %{y}<br>color: [%{z[0]}, %{z[1]}, %{z[2]}]<extra></extra>",
         "name": "0",
         "source": "data:image/png;base64,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",
         "type": "image",
         "xaxis": "x",
         "yaxis": "y"
        }
       ],
       "layout": {
        "annotations": [
         {
          "align": "left",
          "bgcolor": "#ff7f0e",
          "bordercolor": "#c7c7c7",
          "borderpad": 2,
          "borderwidth": 1,
          "font": {
           "color": "#ffffff",
           "family": "Courier New, monospace",
           "size": 12
          },
          "opacity": 0.8,
          "showarrow": false,
          "text": "real: 100%",
          "x": 1,
          "xref": "paper",
          "y": 1,
          "yref": "paper"
         }
        ],
        "height": 350,
        "images": [
         {
          "layer": "below",
          "sizex": 0.3,
          "sizey": 0.3,
          "source": "images/final/real/1.png",
          "x": 1,
          "xref": "paper",
          "y": 1.1,
          "yref": "paper"
         }
        ],
        "margin": {
         "l": 0,
         "t": 60
        },
        "shapes": [
         {
          "line": {
           "color": "black",
           "width": 2
          },
          "type": "rect",
          "x0": 0,
          "x1": 96,
          "xref": "x",
          "y0": 0,
          "y1": 96,
          "yref": "y"
         }
        ],
        "template": {
         "data": {
          "bar": [
           {
            "error_x": {
             "color": "#2a3f5f"
            },
            "error_y": {
             "color": "#2a3f5f"
            },
            "marker": {
             "line": {
              "color": "#E5ECF6",
              "width": 0.5
             },
             "pattern": {
              "fillmode": "overlay",
              "size": 10,
              "solidity": 0.2
             }
            },
            "type": "bar"
           }
          ],
          "barpolar": [
           {
            "marker": {
             "line": {
              "color": "#E5ECF6",
              "width": 0.5
             },
             "pattern": {
              "fillmode": "overlay",
              "size": 10,
              "solidity": 0.2
             }
            },
            "type": "barpolar"
           }
          ],
          "carpet": [
           {
            "aaxis": {
             "endlinecolor": "#2a3f5f",
             "gridcolor": "white",
             "linecolor": "white",
             "minorgridcolor": "white",
             "startlinecolor": "#2a3f5f"
            },
            "baxis": {
             "endlinecolor": "#2a3f5f",
             "gridcolor": "white",
             "linecolor": "white",
             "minorgridcolor": "white",
             "startlinecolor": "#2a3f5f"
            },
            "type": "carpet"
           }
          ],
          "choropleth": [
           {
            "colorbar": {
             "outlinewidth": 0,
             "ticks": ""
            },
            "type": "choropleth"
           }
          ],
          "contour": [
           {
            "colorbar": {
             "outlinewidth": 0,
             "ticks": ""
            },
            "colorscale": [
             [
              0,
              "#0d0887"
             ],
             [
              0.1111111111111111,
              "#46039f"
             ],
             [
              0.2222222222222222,
              "#7201a8"
             ],
             [
              0.3333333333333333,
              "#9c179e"
             ],
             [
              0.4444444444444444,
              "#bd3786"
             ],
             [
              0.5555555555555556,
              "#d8576b"
             ],
             [
              0.6666666666666666,
              "#ed7953"
             ],
             [
              0.7777777777777778,
              "#fb9f3a"
             ],
             [
              0.8888888888888888,
              "#fdca26"
             ],
             [
              1,
              "#f0f921"
             ]
            ],
            "type": "contour"
           }
          ],
          "contourcarpet": [
           {
            "colorbar": {
             "outlinewidth": 0,
             "ticks": ""
            },
            "type": "contourcarpet"
           }
          ],
          "heatmap": [
           {
            "colorbar": {
             "outlinewidth": 0,
             "ticks": ""
            },
            "colorscale": [
             [
              0,
              "#0d0887"
             ],
             [
              0.1111111111111111,
              "#46039f"
             ],
             [
              0.2222222222222222,
              "#7201a8"
             ],
             [
              0.3333333333333333,
              "#9c179e"
             ],
             [
              0.4444444444444444,
              "#bd3786"
             ],
             [
              0.5555555555555556,
              "#d8576b"
             ],
             [
              0.6666666666666666,
              "#ed7953"
             ],
             [
              0.7777777777777778,
              "#fb9f3a"
             ],
             [
              0.8888888888888888,
              "#fdca26"
             ],
             [
              1,
              "#f0f921"
             ]
            ],
            "type": "heatmap"
           }
          ],
          "heatmapgl": [
           {
            "colorbar": {
             "outlinewidth": 0,
             "ticks": ""
            },
            "colorscale": [
             [
              0,
              "#0d0887"
             ],
             [
              0.1111111111111111,
              "#46039f"
             ],
             [
              0.2222222222222222,
              "#7201a8"
             ],
             [
              0.3333333333333333,
              "#9c179e"
             ],
             [
              0.4444444444444444,
              "#bd3786"
             ],
             [
              0.5555555555555556,
              "#d8576b"
             ],
             [
              0.6666666666666666,
              "#ed7953"
             ],
             [
              0.7777777777777778,
              "#fb9f3a"
             ],
             [
              0.8888888888888888,
              "#fdca26"
             ],
             [
              1,
              "#f0f921"
             ]
            ],
            "type": "heatmapgl"
           }
          ],
          "histogram": [
           {
            "marker": {
             "pattern": {
              "fillmode": "overlay",
              "size": 10,
              "solidity": 0.2
             }
            },
            "type": "histogram"
           }
          ],
          "histogram2d": [
           {
            "colorbar": {
             "outlinewidth": 0,
             "ticks": ""
            },
            "colorscale": [
             [
              0,
              "#0d0887"
             ],
             [
              0.1111111111111111,
              "#46039f"
             ],
             [
              0.2222222222222222,
              "#7201a8"
             ],
             [
              0.3333333333333333,
              "#9c179e"
             ],
             [
              0.4444444444444444,
              "#bd3786"
             ],
             [
              0.5555555555555556,
              "#d8576b"
             ],
             [
              0.6666666666666666,
              "#ed7953"
             ],
             [
              0.7777777777777778,
              "#fb9f3a"
             ],
             [
              0.8888888888888888,
              "#fdca26"
             ],
             [
              1,
              "#f0f921"
             ]
            ],
            "type": "histogram2d"
           }
          ],
          "histogram2dcontour": [
           {
            "colorbar": {
             "outlinewidth": 0,
             "ticks": ""
            },
            "colorscale": [
             [
              0,
              "#0d0887"
             ],
             [
              0.1111111111111111,
              "#46039f"
             ],
             [
              0.2222222222222222,
              "#7201a8"
             ],
             [
              0.3333333333333333,
              "#9c179e"
             ],
             [
              0.4444444444444444,
              "#bd3786"
             ],
             [
              0.5555555555555556,
              "#d8576b"
             ],
             [
              0.6666666666666666,
              "#ed7953"
             ],
             [
              0.7777777777777778,
              "#fb9f3a"
             ],
             [
              0.8888888888888888,
              "#fdca26"
             ],
             [
              1,
              "#f0f921"
             ]
            ],
            "type": "histogram2dcontour"
           }
          ],
          "mesh3d": [
           {
            "colorbar": {
             "outlinewidth": 0,
             "ticks": ""
            },
            "type": "mesh3d"
           }
          ],
          "parcoords": [
           {
            "line": {
             "colorbar": {
              "outlinewidth": 0,
              "ticks": ""
             }
            },
            "type": "parcoords"
           }
          ],
          "pie": [
           {
            "automargin": true,
            "type": "pie"
           }
          ],
          "scatter": [
           {
            "fillpattern": {
             "fillmode": "overlay",
             "size": 10,
             "solidity": 0.2
            },
            "type": "scatter"
           }
          ],
          "scatter3d": [
           {
            "line": {
             "colorbar": {
              "outlinewidth": 0,
              "ticks": ""
             }
            },
            "marker": {
             "colorbar": {
              "outlinewidth": 0,
              "ticks": ""
             }
            },
            "type": "scatter3d"
           }
          ],
          "scattercarpet": [
           {
            "marker": {
             "colorbar": {
              "outlinewidth": 0,
              "ticks": ""
             }
            },
            "type": "scattercarpet"
           }
          ],
          "scattergeo": [
           {
            "marker": {
             "colorbar": {
              "outlinewidth": 0,
              "ticks": ""
             }
            },
            "type": "scattergeo"
           }
          ],
          "scattergl": [
           {
            "marker": {
             "colorbar": {
              "outlinewidth": 0,
              "ticks": ""
             }
            },
            "type": "scattergl"
           }
          ],
          "scattermapbox": [
           {
            "marker": {
             "colorbar": {
              "outlinewidth": 0,
              "ticks": ""
             }
            },
            "type": "scattermapbox"
           }
          ],
          "scatterpolar": [
           {
            "marker": {
             "colorbar": {
              "outlinewidth": 0,
              "ticks": ""
             }
            },
            "type": "scatterpolar"
           }
          ],
          "scatterpolargl": [
           {
            "marker": {
             "colorbar": {
              "outlinewidth": 0,
              "ticks": ""
             }
            },
            "type": "scatterpolargl"
           }
          ],
          "scatterternary": [
           {
            "marker": {
             "colorbar": {
              "outlinewidth": 0,
              "ticks": ""
             }
            },
            "type": "scatterternary"
           }
          ],
          "surface": [
           {
            "colorbar": {
             "outlinewidth": 0,
             "ticks": ""
            },
            "colorscale": [
             [
              0,
              "#0d0887"
             ],
             [
              0.1111111111111111,
              "#46039f"
             ],
             [
              0.2222222222222222,
              "#7201a8"
             ],
             [
              0.3333333333333333,
              "#9c179e"
             ],
             [
              0.4444444444444444,
              "#bd3786"
             ],
             [
              0.5555555555555556,
              "#d8576b"
             ],
             [
              0.6666666666666666,
              "#ed7953"
             ],
             [
              0.7777777777777778,
              "#fb9f3a"
             ],
             [
              0.8888888888888888,
              "#fdca26"
             ],
             [
              1,
              "#f0f921"
             ]
            ],
            "type": "surface"
           }
          ],
          "table": [
           {
            "cells": {
             "fill": {
              "color": "#EBF0F8"
             },
             "line": {
              "color": "white"
             }
            },
            "header": {
             "fill": {
              "color": "#C8D4E3"
             },
             "line": {
              "color": "white"
             }
            },
            "type": "table"
           }
          ]
         },
         "layout": {
          "annotationdefaults": {
           "arrowcolor": "#2a3f5f",
           "arrowhead": 0,
           "arrowwidth": 1
          },
          "autotypenumbers": "strict",
          "coloraxis": {
           "colorbar": {
            "outlinewidth": 0,
            "ticks": ""
           }
          },
          "colorscale": {
           "diverging": [
            [
             0,
             "#8e0152"
            ],
            [
             0.1,
             "#c51b7d"
            ],
            [
             0.2,
             "#de77ae"
            ],
            [
             0.3,
             "#f1b6da"
            ],
            [
             0.4,
             "#fde0ef"
            ],
            [
             0.5,
             "#f7f7f7"
            ],
            [
             0.6,
             "#e6f5d0"
            ],
            [
             0.7,
             "#b8e186"
            ],
            [
             0.8,
             "#7fbc41"
            ],
            [
             0.9,
             "#4d9221"
            ],
            [
             1,
             "#276419"
            ]
           ],
           "sequential": [
            [
             0,
             "#0d0887"
            ],
            [
             0.1111111111111111,
             "#46039f"
            ],
            [
             0.2222222222222222,
             "#7201a8"
            ],
            [
             0.3333333333333333,
             "#9c179e"
            ],
            [
             0.4444444444444444,
             "#bd3786"
            ],
            [
             0.5555555555555556,
             "#d8576b"
            ],
            [
             0.6666666666666666,
             "#ed7953"
            ],
            [
             0.7777777777777778,
             "#fb9f3a"
            ],
            [
             0.8888888888888888,
             "#fdca26"
            ],
            [
             1,
             "#f0f921"
            ]
           ],
           "sequentialminus": [
            [
             0,
             "#0d0887"
            ],
            [
             0.1111111111111111,
             "#46039f"
            ],
            [
             0.2222222222222222,
             "#7201a8"
            ],
            [
             0.3333333333333333,
             "#9c179e"
            ],
            [
             0.4444444444444444,
             "#bd3786"
            ],
            [
             0.5555555555555556,
             "#d8576b"
            ],
            [
             0.6666666666666666,
             "#ed7953"
            ],
            [
             0.7777777777777778,
             "#fb9f3a"
            ],
            [
             0.8888888888888888,
             "#fdca26"
            ],
            [
             1,
             "#f0f921"
            ]
           ]
          },
          "colorway": [
           "#636efa",
           "#EF553B",
           "#00cc96",
           "#ab63fa",
           "#FFA15A",
           "#19d3f3",
           "#FF6692",
           "#B6E880",
           "#FF97FF",
           "#FECB52"
          ],
          "font": {
           "color": "#2a3f5f"
          },
          "geo": {
           "bgcolor": "white",
           "lakecolor": "white",
           "landcolor": "#E5ECF6",
           "showlakes": true,
           "showland": true,
           "subunitcolor": "white"
          },
          "hoverlabel": {
           "align": "left"
          },
          "hovermode": "closest",
          "mapbox": {
           "style": "light"
          },
          "paper_bgcolor": "white",
          "plot_bgcolor": "#E5ECF6",
          "polar": {
           "angularaxis": {
            "gridcolor": "white",
            "linecolor": "white",
            "ticks": ""
           },
           "bgcolor": "#E5ECF6",
           "radialaxis": {
            "gridcolor": "white",
            "linecolor": "white",
            "ticks": ""
           }
          },
          "scene": {
           "xaxis": {
            "backgroundcolor": "#E5ECF6",
            "gridcolor": "white",
            "gridwidth": 2,
            "linecolor": "white",
            "showbackground": true,
            "ticks": "",
            "zerolinecolor": "white"
           },
           "yaxis": {
            "backgroundcolor": "#E5ECF6",
            "gridcolor": "white",
            "gridwidth": 2,
            "linecolor": "white",
            "showbackground": true,
            "ticks": "",
            "zerolinecolor": "white"
           },
           "zaxis": {
            "backgroundcolor": "#E5ECF6",
            "gridcolor": "white",
            "gridwidth": 2,
            "linecolor": "white",
            "showbackground": true,
            "ticks": "",
            "zerolinecolor": "white"
           }
          },
          "shapedefaults": {
           "line": {
            "color": "#2a3f5f"
           }
          },
          "ternary": {
           "aaxis": {
            "gridcolor": "white",
            "linecolor": "white",
            "ticks": ""
           },
           "baxis": {
            "gridcolor": "white",
            "linecolor": "white",
            "ticks": ""
           },
           "bgcolor": "#E5ECF6",
           "caxis": {
            "gridcolor": "white",
            "linecolor": "white",
            "ticks": ""
           }
          },
          "title": {
           "x": 0.05
          },
          "xaxis": {
           "automargin": true,
           "gridcolor": "white",
           "linecolor": "white",
           "ticks": "",
           "title": {
            "standoff": 15
           },
           "zerolinecolor": "white",
           "zerolinewidth": 2
          },
          "yaxis": {
           "automargin": true,
           "gridcolor": "white",
           "linecolor": "white",
           "ticks": "",
           "title": {
            "standoff": 15
           },
           "zerolinecolor": "white",
           "zerolinewidth": 2
          }
         }
        },
        "title": {
         "text": "Label: image test"
        },
        "width": 500,
        "xaxis": {
         "anchor": "y",
         "domain": [
          0,
          1
         ],
         "showgrid": false,
         "showticklabels": false,
         "visible": false,
         "zeroline": false
        },
        "yaxis": {
         "anchor": "x",
         "domain": [
          0,
          1
         ],
         "showgrid": false,
         "showticklabels": false,
         "visible": false,
         "zeroline": false
        }
       }
      }
     },
     "metadata": {},
     "output_type": "display_data"
    }
   ],
   "source": [
    "# test discriminator with test image\n",
    "plot_image(test_image[0], \"image test\", {\"real\": discriminator.predict([test_image, types_to_vector('Fire', 'Flying')], verbose=0)[0][0]}, 96)"
   ]
  }
 ],
 "metadata": {
  "kernelspec": {
   "display_name": "Python 3",
   "language": "python",
   "name": "python3"
  },
  "language_info": {
   "codemirror_mode": {
    "name": "ipython",
    "version": 3
   },
   "file_extension": ".py",
   "mimetype": "text/x-python",
   "name": "python",
   "nbconvert_exporter": "python",
   "pygments_lexer": "ipython3",
   "version": "3.10.6"
  },
  "orig_nbformat": 4
 },
 "nbformat": 4,
 "nbformat_minor": 2
}
