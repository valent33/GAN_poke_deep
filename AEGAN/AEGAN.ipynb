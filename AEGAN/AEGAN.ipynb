{
 "cells": [
  {
   "cell_type": "code",
   "execution_count": 7,
   "metadata": {},
   "outputs": [],
   "source": [
    "import numpy as np\n",
    "import pandas as pd\n",
    "import tensorflow as tf\n",
    "import matplotlib.pyplot as plt\n",
    "import sys\n",
    "sys.path.append('../')\n",
    "from utils import *\n"
   ]
  },
  {
   "cell_type": "code",
   "execution_count": 8,
   "metadata": {},
   "outputs": [],
   "source": [
    "directory = '../images/final/'\n",
    "width = 96\n",
    "height = 96\n",
    "channels = 4\n",
    "image_size = (width, height)\n",
    "input_shape = (width, height, channels)\n",
    "batch_size = 32\n",
    "latent_dim = 100\n",
    "num_classes = 18\n"
   ]
  },
  {
   "cell_type": "code",
   "execution_count": 9,
   "metadata": {},
   "outputs": [
    {
     "name": "stdout",
     "output_type": "stream",
     "text": [
      "Found 13849 files belonging to 905 classes.\n"
     ]
    }
   ],
   "source": [
    "train_ds, class_names = load_data(directory, batch_size, image_size, GAN=True)\n"
   ]
  },
  {
   "cell_type": "code",
   "execution_count": 10,
   "metadata": {},
   "outputs": [],
   "source": [
    "types = pd.read_csv('../PokeDataset.csv', usecols=['Name', 'Type1', 'Type2'])\n",
    "# reorder by alphabetical order of column 'Name'\n",
    "types = types.sort_values(by=['Name'])\n",
    "types = types.reset_index(drop=True)\n"
   ]
  },
  {
   "cell_type": "code",
   "execution_count": 11,
   "metadata": {},
   "outputs": [
    {
     "name": "stdout",
     "output_type": "stream",
     "text": [
      "Percentage of pokemon with double type: 50.69%\n"
     ]
    }
   ],
   "source": [
    "# give percentage of pokemon with double type\n",
    "print(\n",
    "    f\"Percentage of pokemon with double type: {types['Type2'].count() / types['Type1'].count() * 100:.2f}%\")\n"
   ]
  },
  {
   "cell_type": "code",
   "execution_count": 12,
   "metadata": {},
   "outputs": [
    {
     "data": {
      "text/html": [
       "<div>\n",
       "<style scoped>\n",
       "    .dataframe tbody tr th:only-of-type {\n",
       "        vertical-align: middle;\n",
       "    }\n",
       "\n",
       "    .dataframe tbody tr th {\n",
       "        vertical-align: top;\n",
       "    }\n",
       "\n",
       "    .dataframe thead th {\n",
       "        text-align: right;\n",
       "    }\n",
       "</style>\n",
       "<table border=\"1\" class=\"dataframe\">\n",
       "  <thead>\n",
       "    <tr style=\"text-align: right;\">\n",
       "      <th></th>\n",
       "      <th>Name</th>\n",
       "      <th>Type1</th>\n",
       "      <th>Type2</th>\n",
       "    </tr>\n",
       "  </thead>\n",
       "  <tbody>\n",
       "    <tr>\n",
       "      <th>0</th>\n",
       "      <td>Abomasnow</td>\n",
       "      <td>Grass</td>\n",
       "      <td>Ice</td>\n",
       "    </tr>\n",
       "    <tr>\n",
       "      <th>1</th>\n",
       "      <td>Abra</td>\n",
       "      <td>Psychic</td>\n",
       "      <td>NaN</td>\n",
       "    </tr>\n",
       "    <tr>\n",
       "      <th>2</th>\n",
       "      <td>Absol</td>\n",
       "      <td>Dark</td>\n",
       "      <td>NaN</td>\n",
       "    </tr>\n",
       "    <tr>\n",
       "      <th>3</th>\n",
       "      <td>Accelgor</td>\n",
       "      <td>Bug</td>\n",
       "      <td>NaN</td>\n",
       "    </tr>\n",
       "    <tr>\n",
       "      <th>4</th>\n",
       "      <td>Aegislash</td>\n",
       "      <td>Steel</td>\n",
       "      <td>Ghost</td>\n",
       "    </tr>\n",
       "  </tbody>\n",
       "</table>\n",
       "</div>"
      ],
      "text/plain": [
       "        Name    Type1  Type2\n",
       "0  Abomasnow    Grass    Ice\n",
       "1       Abra  Psychic    NaN\n",
       "2      Absol     Dark    NaN\n",
       "3   Accelgor      Bug    NaN\n",
       "4  Aegislash    Steel  Ghost"
      ]
     },
     "execution_count": 12,
     "metadata": {},
     "output_type": "execute_result"
    }
   ],
   "source": [
    "types.head(5)\n"
   ]
  },
  {
   "cell_type": "code",
   "execution_count": 13,
   "metadata": {},
   "outputs": [],
   "source": [
    "# make a dictionary of types and their index in the list of types\n",
    "types_dict = {}\n",
    "for i, t in enumerate(types['Type1'].unique()):\n",
    "    types_dict[t] = i\n",
    "\n",
    "# create vector of labels with 0 for each type except the one in the row (type1 and type2 are strings)\n",
    "\n",
    "\n",
    "def create_label(row):\n",
    "    label = np.zeros(18)\n",
    "    label[types_dict[row['Type1']]] = 1\n",
    "    if row['Type2'] in types_dict:\n",
    "        label[types_dict[row['Type2']]] = 1\n",
    "    return label\n",
    "\n",
    "\n",
    "types['Label'] = types.apply(create_label, axis=1)\n"
   ]
  },
  {
   "cell_type": "code",
   "execution_count": 14,
   "metadata": {},
   "outputs": [],
   "source": [
    "def types_to_vector(type1, type2=None):\n",
    "    label = np.zeros(18)\n",
    "    label[types_dict[type1]] = 1\n",
    "    if type2 in types_dict:\n",
    "        label[types_dict[type2]] = 1\n",
    "    return label.reshape(1, 18)\n"
   ]
  },
  {
   "cell_type": "code",
   "execution_count": 15,
   "metadata": {},
   "outputs": [
    {
     "name": "stdout",
     "output_type": "stream",
     "text": [
      "521\n"
     ]
    },
    {
     "data": {
      "application/vnd.plotly.v1+json": {
       "config": {
        "plotlyServerURL": "https://plot.ly"
       },
       "data": [
        {
         "hovertemplate": "x: %{x}<br>y: %{y}<extra></extra>",
         "name": "0",
         "source": "data:image/png;base64,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",
         "type": "image",
         "xaxis": "x",
         "yaxis": "y"
        }
       ],
       "layout": {
        "height": 350,
        "margin": {
         "l": 0,
         "t": 60
        },
        "shapes": [
         {
          "line": {
           "color": "black",
           "width": 2
          },
          "type": "rect",
          "x0": 0,
          "x1": 96,
          "xref": "x",
          "y0": 0,
          "y1": 96,
          "yref": "y"
         }
        ],
        "template": {
         "data": {
          "bar": [
           {
            "error_x": {
             "color": "#2a3f5f"
            },
            "error_y": {
             "color": "#2a3f5f"
            },
            "marker": {
             "line": {
              "color": "#E5ECF6",
              "width": 0.5
             },
             "pattern": {
              "fillmode": "overlay",
              "size": 10,
              "solidity": 0.2
             }
            },
            "type": "bar"
           }
          ],
          "barpolar": [
           {
            "marker": {
             "line": {
              "color": "#E5ECF6",
              "width": 0.5
             },
             "pattern": {
              "fillmode": "overlay",
              "size": 10,
              "solidity": 0.2
             }
            },
            "type": "barpolar"
           }
          ],
          "carpet": [
           {
            "aaxis": {
             "endlinecolor": "#2a3f5f",
             "gridcolor": "white",
             "linecolor": "white",
             "minorgridcolor": "white",
             "startlinecolor": "#2a3f5f"
            },
            "baxis": {
             "endlinecolor": "#2a3f5f",
             "gridcolor": "white",
             "linecolor": "white",
             "minorgridcolor": "white",
             "startlinecolor": "#2a3f5f"
            },
            "type": "carpet"
           }
          ],
          "choropleth": [
           {
            "colorbar": {
             "outlinewidth": 0,
             "ticks": ""
            },
            "type": "choropleth"
           }
          ],
          "contour": [
           {
            "colorbar": {
             "outlinewidth": 0,
             "ticks": ""
            },
            "colorscale": [
             [
              0,
              "#0d0887"
             ],
             [
              0.1111111111111111,
              "#46039f"
             ],
             [
              0.2222222222222222,
              "#7201a8"
             ],
             [
              0.3333333333333333,
              "#9c179e"
             ],
             [
              0.4444444444444444,
              "#bd3786"
             ],
             [
              0.5555555555555556,
              "#d8576b"
             ],
             [
              0.6666666666666666,
              "#ed7953"
             ],
             [
              0.7777777777777778,
              "#fb9f3a"
             ],
             [
              0.8888888888888888,
              "#fdca26"
             ],
             [
              1,
              "#f0f921"
             ]
            ],
            "type": "contour"
           }
          ],
          "contourcarpet": [
           {
            "colorbar": {
             "outlinewidth": 0,
             "ticks": ""
            },
            "type": "contourcarpet"
           }
          ],
          "heatmap": [
           {
            "colorbar": {
             "outlinewidth": 0,
             "ticks": ""
            },
            "colorscale": [
             [
              0,
              "#0d0887"
             ],
             [
              0.1111111111111111,
              "#46039f"
             ],
             [
              0.2222222222222222,
              "#7201a8"
             ],
             [
              0.3333333333333333,
              "#9c179e"
             ],
             [
              0.4444444444444444,
              "#bd3786"
             ],
             [
              0.5555555555555556,
              "#d8576b"
             ],
             [
              0.6666666666666666,
              "#ed7953"
             ],
             [
              0.7777777777777778,
              "#fb9f3a"
             ],
             [
              0.8888888888888888,
              "#fdca26"
             ],
             [
              1,
              "#f0f921"
             ]
            ],
            "type": "heatmap"
           }
          ],
          "heatmapgl": [
           {
            "colorbar": {
             "outlinewidth": 0,
             "ticks": ""
            },
            "colorscale": [
             [
              0,
              "#0d0887"
             ],
             [
              0.1111111111111111,
              "#46039f"
             ],
             [
              0.2222222222222222,
              "#7201a8"
             ],
             [
              0.3333333333333333,
              "#9c179e"
             ],
             [
              0.4444444444444444,
              "#bd3786"
             ],
             [
              0.5555555555555556,
              "#d8576b"
             ],
             [
              0.6666666666666666,
              "#ed7953"
             ],
             [
              0.7777777777777778,
              "#fb9f3a"
             ],
             [
              0.8888888888888888,
              "#fdca26"
             ],
             [
              1,
              "#f0f921"
             ]
            ],
            "type": "heatmapgl"
           }
          ],
          "histogram": [
           {
            "marker": {
             "pattern": {
              "fillmode": "overlay",
              "size": 10,
              "solidity": 0.2
             }
            },
            "type": "histogram"
           }
          ],
          "histogram2d": [
           {
            "colorbar": {
             "outlinewidth": 0,
             "ticks": ""
            },
            "colorscale": [
             [
              0,
              "#0d0887"
             ],
             [
              0.1111111111111111,
              "#46039f"
             ],
             [
              0.2222222222222222,
              "#7201a8"
             ],
             [
              0.3333333333333333,
              "#9c179e"
             ],
             [
              0.4444444444444444,
              "#bd3786"
             ],
             [
              0.5555555555555556,
              "#d8576b"
             ],
             [
              0.6666666666666666,
              "#ed7953"
             ],
             [
              0.7777777777777778,
              "#fb9f3a"
             ],
             [
              0.8888888888888888,
              "#fdca26"
             ],
             [
              1,
              "#f0f921"
             ]
            ],
            "type": "histogram2d"
           }
          ],
          "histogram2dcontour": [
           {
            "colorbar": {
             "outlinewidth": 0,
             "ticks": ""
            },
            "colorscale": [
             [
              0,
              "#0d0887"
             ],
             [
              0.1111111111111111,
              "#46039f"
             ],
             [
              0.2222222222222222,
              "#7201a8"
             ],
             [
              0.3333333333333333,
              "#9c179e"
             ],
             [
              0.4444444444444444,
              "#bd3786"
             ],
             [
              0.5555555555555556,
              "#d8576b"
             ],
             [
              0.6666666666666666,
              "#ed7953"
             ],
             [
              0.7777777777777778,
              "#fb9f3a"
             ],
             [
              0.8888888888888888,
              "#fdca26"
             ],
             [
              1,
              "#f0f921"
             ]
            ],
            "type": "histogram2dcontour"
           }
          ],
          "mesh3d": [
           {
            "colorbar": {
             "outlinewidth": 0,
             "ticks": ""
            },
            "type": "mesh3d"
           }
          ],
          "parcoords": [
           {
            "line": {
             "colorbar": {
              "outlinewidth": 0,
              "ticks": ""
             }
            },
            "type": "parcoords"
           }
          ],
          "pie": [
           {
            "automargin": true,
            "type": "pie"
           }
          ],
          "scatter": [
           {
            "fillpattern": {
             "fillmode": "overlay",
             "size": 10,
             "solidity": 0.2
            },
            "type": "scatter"
           }
          ],
          "scatter3d": [
           {
            "line": {
             "colorbar": {
              "outlinewidth": 0,
              "ticks": ""
             }
            },
            "marker": {
             "colorbar": {
              "outlinewidth": 0,
              "ticks": ""
             }
            },
            "type": "scatter3d"
           }
          ],
          "scattercarpet": [
           {
            "marker": {
             "colorbar": {
              "outlinewidth": 0,
              "ticks": ""
             }
            },
            "type": "scattercarpet"
           }
          ],
          "scattergeo": [
           {
            "marker": {
             "colorbar": {
              "outlinewidth": 0,
              "ticks": ""
             }
            },
            "type": "scattergeo"
           }
          ],
          "scattergl": [
           {
            "marker": {
             "colorbar": {
              "outlinewidth": 0,
              "ticks": ""
             }
            },
            "type": "scattergl"
           }
          ],
          "scattermapbox": [
           {
            "marker": {
             "colorbar": {
              "outlinewidth": 0,
              "ticks": ""
             }
            },
            "type": "scattermapbox"
           }
          ],
          "scatterpolar": [
           {
            "marker": {
             "colorbar": {
              "outlinewidth": 0,
              "ticks": ""
             }
            },
            "type": "scatterpolar"
           }
          ],
          "scatterpolargl": [
           {
            "marker": {
             "colorbar": {
              "outlinewidth": 0,
              "ticks": ""
             }
            },
            "type": "scatterpolargl"
           }
          ],
          "scatterternary": [
           {
            "marker": {
             "colorbar": {
              "outlinewidth": 0,
              "ticks": ""
             }
            },
            "type": "scatterternary"
           }
          ],
          "surface": [
           {
            "colorbar": {
             "outlinewidth": 0,
             "ticks": ""
            },
            "colorscale": [
             [
              0,
              "#0d0887"
             ],
             [
              0.1111111111111111,
              "#46039f"
             ],
             [
              0.2222222222222222,
              "#7201a8"
             ],
             [
              0.3333333333333333,
              "#9c179e"
             ],
             [
              0.4444444444444444,
              "#bd3786"
             ],
             [
              0.5555555555555556,
              "#d8576b"
             ],
             [
              0.6666666666666666,
              "#ed7953"
             ],
             [
              0.7777777777777778,
              "#fb9f3a"
             ],
             [
              0.8888888888888888,
              "#fdca26"
             ],
             [
              1,
              "#f0f921"
             ]
            ],
            "type": "surface"
           }
          ],
          "table": [
           {
            "cells": {
             "fill": {
              "color": "#EBF0F8"
             },
             "line": {
              "color": "white"
             }
            },
            "header": {
             "fill": {
              "color": "#C8D4E3"
             },
             "line": {
              "color": "white"
             }
            },
            "type": "table"
           }
          ]
         },
         "layout": {
          "annotationdefaults": {
           "arrowcolor": "#2a3f5f",
           "arrowhead": 0,
           "arrowwidth": 1
          },
          "autotypenumbers": "strict",
          "coloraxis": {
           "colorbar": {
            "outlinewidth": 0,
            "ticks": ""
           }
          },
          "colorscale": {
           "diverging": [
            [
             0,
             "#8e0152"
            ],
            [
             0.1,
             "#c51b7d"
            ],
            [
             0.2,
             "#de77ae"
            ],
            [
             0.3,
             "#f1b6da"
            ],
            [
             0.4,
             "#fde0ef"
            ],
            [
             0.5,
             "#f7f7f7"
            ],
            [
             0.6,
             "#e6f5d0"
            ],
            [
             0.7,
             "#b8e186"
            ],
            [
             0.8,
             "#7fbc41"
            ],
            [
             0.9,
             "#4d9221"
            ],
            [
             1,
             "#276419"
            ]
           ],
           "sequential": [
            [
             0,
             "#0d0887"
            ],
            [
             0.1111111111111111,
             "#46039f"
            ],
            [
             0.2222222222222222,
             "#7201a8"
            ],
            [
             0.3333333333333333,
             "#9c179e"
            ],
            [
             0.4444444444444444,
             "#bd3786"
            ],
            [
             0.5555555555555556,
             "#d8576b"
            ],
            [
             0.6666666666666666,
             "#ed7953"
            ],
            [
             0.7777777777777778,
             "#fb9f3a"
            ],
            [
             0.8888888888888888,
             "#fdca26"
            ],
            [
             1,
             "#f0f921"
            ]
           ],
           "sequentialminus": [
            [
             0,
             "#0d0887"
            ],
            [
             0.1111111111111111,
             "#46039f"
            ],
            [
             0.2222222222222222,
             "#7201a8"
            ],
            [
             0.3333333333333333,
             "#9c179e"
            ],
            [
             0.4444444444444444,
             "#bd3786"
            ],
            [
             0.5555555555555556,
             "#d8576b"
            ],
            [
             0.6666666666666666,
             "#ed7953"
            ],
            [
             0.7777777777777778,
             "#fb9f3a"
            ],
            [
             0.8888888888888888,
             "#fdca26"
            ],
            [
             1,
             "#f0f921"
            ]
           ]
          },
          "colorway": [
           "#636efa",
           "#EF553B",
           "#00cc96",
           "#ab63fa",
           "#FFA15A",
           "#19d3f3",
           "#FF6692",
           "#B6E880",
           "#FF97FF",
           "#FECB52"
          ],
          "font": {
           "color": "#2a3f5f"
          },
          "geo": {
           "bgcolor": "white",
           "lakecolor": "white",
           "landcolor": "#E5ECF6",
           "showlakes": true,
           "showland": true,
           "subunitcolor": "white"
          },
          "hoverlabel": {
           "align": "left"
          },
          "hovermode": "closest",
          "mapbox": {
           "style": "light"
          },
          "paper_bgcolor": "white",
          "plot_bgcolor": "#E5ECF6",
          "polar": {
           "angularaxis": {
            "gridcolor": "white",
            "linecolor": "white",
            "ticks": ""
           },
           "bgcolor": "#E5ECF6",
           "radialaxis": {
            "gridcolor": "white",
            "linecolor": "white",
            "ticks": ""
           }
          },
          "scene": {
           "xaxis": {
            "backgroundcolor": "#E5ECF6",
            "gridcolor": "white",
            "gridwidth": 2,
            "linecolor": "white",
            "showbackground": true,
            "ticks": "",
            "zerolinecolor": "white"
           },
           "yaxis": {
            "backgroundcolor": "#E5ECF6",
            "gridcolor": "white",
            "gridwidth": 2,
            "linecolor": "white",
            "showbackground": true,
            "ticks": "",
            "zerolinecolor": "white"
           },
           "zaxis": {
            "backgroundcolor": "#E5ECF6",
            "gridcolor": "white",
            "gridwidth": 2,
            "linecolor": "white",
            "showbackground": true,
            "ticks": "",
            "zerolinecolor": "white"
           }
          },
          "shapedefaults": {
           "line": {
            "color": "#2a3f5f"
           }
          },
          "ternary": {
           "aaxis": {
            "gridcolor": "white",
            "linecolor": "white",
            "ticks": ""
           },
           "baxis": {
            "gridcolor": "white",
            "linecolor": "white",
            "ticks": ""
           },
           "bgcolor": "#E5ECF6",
           "caxis": {
            "gridcolor": "white",
            "linecolor": "white",
            "ticks": ""
           }
          },
          "title": {
           "x": 0.05
          },
          "xaxis": {
           "automargin": true,
           "gridcolor": "white",
           "linecolor": "white",
           "ticks": "",
           "title": {
            "standoff": 15
           },
           "zerolinecolor": "white",
           "zerolinewidth": 2
          },
          "yaxis": {
           "automargin": true,
           "gridcolor": "white",
           "linecolor": "white",
           "ticks": "",
           "title": {
            "standoff": 15
           },
           "zerolinecolor": "white",
           "zerolinewidth": 2
          }
         }
        },
        "title": {
         "text": "Label: Naganadel"
        },
        "width": 500,
        "xaxis": {
         "anchor": "y",
         "domain": [
          0,
          1
         ],
         "showgrid": false,
         "showticklabels": false,
         "visible": false,
         "zeroline": false
        },
        "yaxis": {
         "anchor": "x",
         "domain": [
          0,
          1
         ],
         "showgrid": false,
         "showticklabels": false,
         "visible": false,
         "zeroline": false
        }
       }
      }
     },
     "metadata": {},
     "output_type": "display_data"
    }
   ],
   "source": [
    "for x, y in train_ds.take(1):\n",
    "    print(int(tf.argmax(tf.reshape(y[0], [-1, 1]), axis=0)))\n",
    "    plot_image(x[0], class_names[int(\n",
    "        tf.argmax(tf.reshape(y[0], [-1, 1]), axis=0))], size=width)\n"
   ]
  },
  {
   "cell_type": "code",
   "execution_count": 16,
   "metadata": {},
   "outputs": [],
   "source": [
    "# map labels in train_ds to the column Label in types\n",
    "def map_labels(x, y):\n",
    "    y_onehot = tf.argmax(y, axis=1).numpy()\n",
    "    y_labels = np.zeros((len(y_onehot), 18))\n",
    "    for i in range(len(y_onehot)):\n",
    "        y_labels[i] = types.loc[y_onehot[i], 'Label']\n",
    "    y_label = np.insert(y_labels, 0, 1, axis=1)\n",
    "    y_label_tensor = tf.convert_to_tensor(y_label, dtype=tf.float32)\n",
    "    return x, y_label_tensor\n"
   ]
  },
  {
   "cell_type": "code",
   "execution_count": 17,
   "metadata": {},
   "outputs": [
    {
     "name": "stdout",
     "output_type": "stream",
     "text": [
      "WARNING:tensorflow:Using a while_loop for converting RngReadAndSkip cause there is no registered converter for this op.\n",
      "WARNING:tensorflow:Using a while_loop for converting Bitcast cause there is no registered converter for this op.\n",
      "WARNING:tensorflow:Using a while_loop for converting Bitcast cause there is no registered converter for this op.\n",
      "WARNING:tensorflow:Using a while_loop for converting StatelessRandomUniformV2 cause there is no registered converter for this op.\n",
      "WARNING:tensorflow:Using a while_loop for converting ImageProjectiveTransformV3 cause there is no registered converter for this op.\n",
      "WARNING:tensorflow:Using a while_loop for converting RngReadAndSkip cause there is no registered converter for this op.\n",
      "WARNING:tensorflow:Using a while_loop for converting Bitcast cause there is no registered converter for this op.\n",
      "WARNING:tensorflow:Using a while_loop for converting Bitcast cause there is no registered converter for this op.\n",
      "WARNING:tensorflow:Using a while_loop for converting StatelessRandomUniformV2 cause there is no registered converter for this op.\n",
      "WARNING:tensorflow:Using a while_loop for converting RngReadAndSkip cause there is no registered converter for this op.\n",
      "WARNING:tensorflow:Using a while_loop for converting Bitcast cause there is no registered converter for this op.\n",
      "WARNING:tensorflow:Using a while_loop for converting Bitcast cause there is no registered converter for this op.\n",
      "WARNING:tensorflow:Using a while_loop for converting StatelessRandomUniformV2 cause there is no registered converter for this op.\n",
      "WARNING:tensorflow:Using a while_loop for converting RngReadAndSkip cause there is no registered converter for this op.\n",
      "WARNING:tensorflow:Using a while_loop for converting Bitcast cause there is no registered converter for this op.\n",
      "WARNING:tensorflow:Using a while_loop for converting Bitcast cause there is no registered converter for this op.\n",
      "WARNING:tensorflow:Using a while_loop for converting StatelessRandomUniformV2 cause there is no registered converter for this op.\n",
      "WARNING:tensorflow:Using a while_loop for converting ImageProjectiveTransformV3 cause there is no registered converter for this op.\n",
      "WARNING:tensorflow:Using a while_loop for converting RngReadAndSkip cause there is no registered converter for this op.\n",
      "WARNING:tensorflow:Using a while_loop for converting Bitcast cause there is no registered converter for this op.\n",
      "WARNING:tensorflow:Using a while_loop for converting Bitcast cause there is no registered converter for this op.\n",
      "WARNING:tensorflow:Using a while_loop for converting StatelessRandomUniformV2 cause there is no registered converter for this op.\n",
      "WARNING:tensorflow:Using a while_loop for converting RngReadAndSkip cause there is no registered converter for this op.\n",
      "WARNING:tensorflow:Using a while_loop for converting Bitcast cause there is no registered converter for this op.\n",
      "WARNING:tensorflow:Using a while_loop for converting Bitcast cause there is no registered converter for this op.\n",
      "WARNING:tensorflow:Using a while_loop for converting StatelessRandomUniformV2 cause there is no registered converter for this op.\n"
     ]
    }
   ],
   "source": [
    "train_ds = prepare(train_ds, shuffle=True, augment=True, GAN=True)\n",
    "train_ds = train_ds.map(lambda x, y: tf.py_function(\n",
    "    map_labels, [x, y], [tf.float32, tf.float32]))\n",
    "\n",
    "channels = 3\n",
    "input_shape = (width, height, channels)\n"
   ]
  },
  {
   "cell_type": "code",
   "execution_count": 12,
   "metadata": {},
   "outputs": [
    {
     "name": "stdout",
     "output_type": "stream",
     "text": [
      "tf.Tensor([1. 0. 0. 0. 0. 0. 0. 0. 0. 0. 0. 0. 0. 0. 0. 0. 1. 0. 0.], shape=(19,), dtype=float32)\n",
      "(96, 96, 3)\n"
     ]
    },
    {
     "data": {
      "application/vnd.plotly.v1+json": {
       "config": {
        "plotlyServerURL": "https://plot.ly"
       },
       "data": [
        {
         "hovertemplate": "x: %{x}<br>y: %{y}<br>color: [%{z[0]}, %{z[1]}, %{z[2]}]<extra></extra>",
         "name": "0",
         "source": "data:image/png;base64,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",
         "type": "image",
         "xaxis": "x",
         "yaxis": "y"
        }
       ],
       "layout": {
        "height": 350,
        "margin": {
         "l": 0,
         "t": 60
        },
        "shapes": [
         {
          "line": {
           "color": "black",
           "width": 2
          },
          "type": "rect",
          "x0": 0,
          "x1": 96,
          "xref": "x",
          "y0": 0,
          "y1": 96,
          "yref": "y"
         }
        ],
        "template": {
         "data": {
          "bar": [
           {
            "error_x": {
             "color": "#2a3f5f"
            },
            "error_y": {
             "color": "#2a3f5f"
            },
            "marker": {
             "line": {
              "color": "#E5ECF6",
              "width": 0.5
             },
             "pattern": {
              "fillmode": "overlay",
              "size": 10,
              "solidity": 0.2
             }
            },
            "type": "bar"
           }
          ],
          "barpolar": [
           {
            "marker": {
             "line": {
              "color": "#E5ECF6",
              "width": 0.5
             },
             "pattern": {
              "fillmode": "overlay",
              "size": 10,
              "solidity": 0.2
             }
            },
            "type": "barpolar"
           }
          ],
          "carpet": [
           {
            "aaxis": {
             "endlinecolor": "#2a3f5f",
             "gridcolor": "white",
             "linecolor": "white",
             "minorgridcolor": "white",
             "startlinecolor": "#2a3f5f"
            },
            "baxis": {
             "endlinecolor": "#2a3f5f",
             "gridcolor": "white",
             "linecolor": "white",
             "minorgridcolor": "white",
             "startlinecolor": "#2a3f5f"
            },
            "type": "carpet"
           }
          ],
          "choropleth": [
           {
            "colorbar": {
             "outlinewidth": 0,
             "ticks": ""
            },
            "type": "choropleth"
           }
          ],
          "contour": [
           {
            "colorbar": {
             "outlinewidth": 0,
             "ticks": ""
            },
            "colorscale": [
             [
              0,
              "#0d0887"
             ],
             [
              0.1111111111111111,
              "#46039f"
             ],
             [
              0.2222222222222222,
              "#7201a8"
             ],
             [
              0.3333333333333333,
              "#9c179e"
             ],
             [
              0.4444444444444444,
              "#bd3786"
             ],
             [
              0.5555555555555556,
              "#d8576b"
             ],
             [
              0.6666666666666666,
              "#ed7953"
             ],
             [
              0.7777777777777778,
              "#fb9f3a"
             ],
             [
              0.8888888888888888,
              "#fdca26"
             ],
             [
              1,
              "#f0f921"
             ]
            ],
            "type": "contour"
           }
          ],
          "contourcarpet": [
           {
            "colorbar": {
             "outlinewidth": 0,
             "ticks": ""
            },
            "type": "contourcarpet"
           }
          ],
          "heatmap": [
           {
            "colorbar": {
             "outlinewidth": 0,
             "ticks": ""
            },
            "colorscale": [
             [
              0,
              "#0d0887"
             ],
             [
              0.1111111111111111,
              "#46039f"
             ],
             [
              0.2222222222222222,
              "#7201a8"
             ],
             [
              0.3333333333333333,
              "#9c179e"
             ],
             [
              0.4444444444444444,
              "#bd3786"
             ],
             [
              0.5555555555555556,
              "#d8576b"
             ],
             [
              0.6666666666666666,
              "#ed7953"
             ],
             [
              0.7777777777777778,
              "#fb9f3a"
             ],
             [
              0.8888888888888888,
              "#fdca26"
             ],
             [
              1,
              "#f0f921"
             ]
            ],
            "type": "heatmap"
           }
          ],
          "heatmapgl": [
           {
            "colorbar": {
             "outlinewidth": 0,
             "ticks": ""
            },
            "colorscale": [
             [
              0,
              "#0d0887"
             ],
             [
              0.1111111111111111,
              "#46039f"
             ],
             [
              0.2222222222222222,
              "#7201a8"
             ],
             [
              0.3333333333333333,
              "#9c179e"
             ],
             [
              0.4444444444444444,
              "#bd3786"
             ],
             [
              0.5555555555555556,
              "#d8576b"
             ],
             [
              0.6666666666666666,
              "#ed7953"
             ],
             [
              0.7777777777777778,
              "#fb9f3a"
             ],
             [
              0.8888888888888888,
              "#fdca26"
             ],
             [
              1,
              "#f0f921"
             ]
            ],
            "type": "heatmapgl"
           }
          ],
          "histogram": [
           {
            "marker": {
             "pattern": {
              "fillmode": "overlay",
              "size": 10,
              "solidity": 0.2
             }
            },
            "type": "histogram"
           }
          ],
          "histogram2d": [
           {
            "colorbar": {
             "outlinewidth": 0,
             "ticks": ""
            },
            "colorscale": [
             [
              0,
              "#0d0887"
             ],
             [
              0.1111111111111111,
              "#46039f"
             ],
             [
              0.2222222222222222,
              "#7201a8"
             ],
             [
              0.3333333333333333,
              "#9c179e"
             ],
             [
              0.4444444444444444,
              "#bd3786"
             ],
             [
              0.5555555555555556,
              "#d8576b"
             ],
             [
              0.6666666666666666,
              "#ed7953"
             ],
             [
              0.7777777777777778,
              "#fb9f3a"
             ],
             [
              0.8888888888888888,
              "#fdca26"
             ],
             [
              1,
              "#f0f921"
             ]
            ],
            "type": "histogram2d"
           }
          ],
          "histogram2dcontour": [
           {
            "colorbar": {
             "outlinewidth": 0,
             "ticks": ""
            },
            "colorscale": [
             [
              0,
              "#0d0887"
             ],
             [
              0.1111111111111111,
              "#46039f"
             ],
             [
              0.2222222222222222,
              "#7201a8"
             ],
             [
              0.3333333333333333,
              "#9c179e"
             ],
             [
              0.4444444444444444,
              "#bd3786"
             ],
             [
              0.5555555555555556,
              "#d8576b"
             ],
             [
              0.6666666666666666,
              "#ed7953"
             ],
             [
              0.7777777777777778,
              "#fb9f3a"
             ],
             [
              0.8888888888888888,
              "#fdca26"
             ],
             [
              1,
              "#f0f921"
             ]
            ],
            "type": "histogram2dcontour"
           }
          ],
          "mesh3d": [
           {
            "colorbar": {
             "outlinewidth": 0,
             "ticks": ""
            },
            "type": "mesh3d"
           }
          ],
          "parcoords": [
           {
            "line": {
             "colorbar": {
              "outlinewidth": 0,
              "ticks": ""
             }
            },
            "type": "parcoords"
           }
          ],
          "pie": [
           {
            "automargin": true,
            "type": "pie"
           }
          ],
          "scatter": [
           {
            "fillpattern": {
             "fillmode": "overlay",
             "size": 10,
             "solidity": 0.2
            },
            "type": "scatter"
           }
          ],
          "scatter3d": [
           {
            "line": {
             "colorbar": {
              "outlinewidth": 0,
              "ticks": ""
             }
            },
            "marker": {
             "colorbar": {
              "outlinewidth": 0,
              "ticks": ""
             }
            },
            "type": "scatter3d"
           }
          ],
          "scattercarpet": [
           {
            "marker": {
             "colorbar": {
              "outlinewidth": 0,
              "ticks": ""
             }
            },
            "type": "scattercarpet"
           }
          ],
          "scattergeo": [
           {
            "marker": {
             "colorbar": {
              "outlinewidth": 0,
              "ticks": ""
             }
            },
            "type": "scattergeo"
           }
          ],
          "scattergl": [
           {
            "marker": {
             "colorbar": {
              "outlinewidth": 0,
              "ticks": ""
             }
            },
            "type": "scattergl"
           }
          ],
          "scattermapbox": [
           {
            "marker": {
             "colorbar": {
              "outlinewidth": 0,
              "ticks": ""
             }
            },
            "type": "scattermapbox"
           }
          ],
          "scatterpolar": [
           {
            "marker": {
             "colorbar": {
              "outlinewidth": 0,
              "ticks": ""
             }
            },
            "type": "scatterpolar"
           }
          ],
          "scatterpolargl": [
           {
            "marker": {
             "colorbar": {
              "outlinewidth": 0,
              "ticks": ""
             }
            },
            "type": "scatterpolargl"
           }
          ],
          "scatterternary": [
           {
            "marker": {
             "colorbar": {
              "outlinewidth": 0,
              "ticks": ""
             }
            },
            "type": "scatterternary"
           }
          ],
          "surface": [
           {
            "colorbar": {
             "outlinewidth": 0,
             "ticks": ""
            },
            "colorscale": [
             [
              0,
              "#0d0887"
             ],
             [
              0.1111111111111111,
              "#46039f"
             ],
             [
              0.2222222222222222,
              "#7201a8"
             ],
             [
              0.3333333333333333,
              "#9c179e"
             ],
             [
              0.4444444444444444,
              "#bd3786"
             ],
             [
              0.5555555555555556,
              "#d8576b"
             ],
             [
              0.6666666666666666,
              "#ed7953"
             ],
             [
              0.7777777777777778,
              "#fb9f3a"
             ],
             [
              0.8888888888888888,
              "#fdca26"
             ],
             [
              1,
              "#f0f921"
             ]
            ],
            "type": "surface"
           }
          ],
          "table": [
           {
            "cells": {
             "fill": {
              "color": "#EBF0F8"
             },
             "line": {
              "color": "white"
             }
            },
            "header": {
             "fill": {
              "color": "#C8D4E3"
             },
             "line": {
              "color": "white"
             }
            },
            "type": "table"
           }
          ]
         },
         "layout": {
          "annotationdefaults": {
           "arrowcolor": "#2a3f5f",
           "arrowhead": 0,
           "arrowwidth": 1
          },
          "autotypenumbers": "strict",
          "coloraxis": {
           "colorbar": {
            "outlinewidth": 0,
            "ticks": ""
           }
          },
          "colorscale": {
           "diverging": [
            [
             0,
             "#8e0152"
            ],
            [
             0.1,
             "#c51b7d"
            ],
            [
             0.2,
             "#de77ae"
            ],
            [
             0.3,
             "#f1b6da"
            ],
            [
             0.4,
             "#fde0ef"
            ],
            [
             0.5,
             "#f7f7f7"
            ],
            [
             0.6,
             "#e6f5d0"
            ],
            [
             0.7,
             "#b8e186"
            ],
            [
             0.8,
             "#7fbc41"
            ],
            [
             0.9,
             "#4d9221"
            ],
            [
             1,
             "#276419"
            ]
           ],
           "sequential": [
            [
             0,
             "#0d0887"
            ],
            [
             0.1111111111111111,
             "#46039f"
            ],
            [
             0.2222222222222222,
             "#7201a8"
            ],
            [
             0.3333333333333333,
             "#9c179e"
            ],
            [
             0.4444444444444444,
             "#bd3786"
            ],
            [
             0.5555555555555556,
             "#d8576b"
            ],
            [
             0.6666666666666666,
             "#ed7953"
            ],
            [
             0.7777777777777778,
             "#fb9f3a"
            ],
            [
             0.8888888888888888,
             "#fdca26"
            ],
            [
             1,
             "#f0f921"
            ]
           ],
           "sequentialminus": [
            [
             0,
             "#0d0887"
            ],
            [
             0.1111111111111111,
             "#46039f"
            ],
            [
             0.2222222222222222,
             "#7201a8"
            ],
            [
             0.3333333333333333,
             "#9c179e"
            ],
            [
             0.4444444444444444,
             "#bd3786"
            ],
            [
             0.5555555555555556,
             "#d8576b"
            ],
            [
             0.6666666666666666,
             "#ed7953"
            ],
            [
             0.7777777777777778,
             "#fb9f3a"
            ],
            [
             0.8888888888888888,
             "#fdca26"
            ],
            [
             1,
             "#f0f921"
            ]
           ]
          },
          "colorway": [
           "#636efa",
           "#EF553B",
           "#00cc96",
           "#ab63fa",
           "#FFA15A",
           "#19d3f3",
           "#FF6692",
           "#B6E880",
           "#FF97FF",
           "#FECB52"
          ],
          "font": {
           "color": "#2a3f5f"
          },
          "geo": {
           "bgcolor": "white",
           "lakecolor": "white",
           "landcolor": "#E5ECF6",
           "showlakes": true,
           "showland": true,
           "subunitcolor": "white"
          },
          "hoverlabel": {
           "align": "left"
          },
          "hovermode": "closest",
          "mapbox": {
           "style": "light"
          },
          "paper_bgcolor": "white",
          "plot_bgcolor": "#E5ECF6",
          "polar": {
           "angularaxis": {
            "gridcolor": "white",
            "linecolor": "white",
            "ticks": ""
           },
           "bgcolor": "#E5ECF6",
           "radialaxis": {
            "gridcolor": "white",
            "linecolor": "white",
            "ticks": ""
           }
          },
          "scene": {
           "xaxis": {
            "backgroundcolor": "#E5ECF6",
            "gridcolor": "white",
            "gridwidth": 2,
            "linecolor": "white",
            "showbackground": true,
            "ticks": "",
            "zerolinecolor": "white"
           },
           "yaxis": {
            "backgroundcolor": "#E5ECF6",
            "gridcolor": "white",
            "gridwidth": 2,
            "linecolor": "white",
            "showbackground": true,
            "ticks": "",
            "zerolinecolor": "white"
           },
           "zaxis": {
            "backgroundcolor": "#E5ECF6",
            "gridcolor": "white",
            "gridwidth": 2,
            "linecolor": "white",
            "showbackground": true,
            "ticks": "",
            "zerolinecolor": "white"
           }
          },
          "shapedefaults": {
           "line": {
            "color": "#2a3f5f"
           }
          },
          "ternary": {
           "aaxis": {
            "gridcolor": "white",
            "linecolor": "white",
            "ticks": ""
           },
           "baxis": {
            "gridcolor": "white",
            "linecolor": "white",
            "ticks": ""
           },
           "bgcolor": "#E5ECF6",
           "caxis": {
            "gridcolor": "white",
            "linecolor": "white",
            "ticks": ""
           }
          },
          "title": {
           "x": 0.05
          },
          "xaxis": {
           "automargin": true,
           "gridcolor": "white",
           "linecolor": "white",
           "ticks": "",
           "title": {
            "standoff": 15
           },
           "zerolinecolor": "white",
           "zerolinewidth": 2
          },
          "yaxis": {
           "automargin": true,
           "gridcolor": "white",
           "linecolor": "white",
           "ticks": "",
           "title": {
            "standoff": 15
           },
           "zerolinecolor": "white",
           "zerolinewidth": 2
          }
         }
        },
        "title": {
         "text": "Label: Abomasnow"
        },
        "width": 500,
        "xaxis": {
         "anchor": "y",
         "domain": [
          0,
          1
         ],
         "showgrid": false,
         "showticklabels": false,
         "visible": false,
         "zeroline": false
        },
        "yaxis": {
         "anchor": "x",
         "domain": [
          0,
          1
         ],
         "showgrid": false,
         "showticklabels": false,
         "visible": false,
         "zeroline": false
        }
       }
      }
     },
     "metadata": {},
     "output_type": "display_data"
    },
    {
     "name": "stdout",
     "output_type": "stream",
     "text": [
      "tf.Tensor([1. 0. 1. 0. 0. 0. 0. 0. 0. 0. 0. 0. 0. 0. 0. 0. 0. 0. 0.], shape=(19,), dtype=float32)\n",
      "(96, 96, 3)\n"
     ]
    },
    {
     "data": {
      "application/vnd.plotly.v1+json": {
       "config": {
        "plotlyServerURL": "https://plot.ly"
       },
       "data": [
        {
         "hovertemplate": "x: %{x}<br>y: %{y}<br>color: [%{z[0]}, %{z[1]}, %{z[2]}]<extra></extra>",
         "name": "0",
         "source": "data:image/png;base64,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",
         "type": "image",
         "xaxis": "x",
         "yaxis": "y"
        }
       ],
       "layout": {
        "height": 350,
        "margin": {
         "l": 0,
         "t": 60
        },
        "shapes": [
         {
          "line": {
           "color": "black",
           "width": 2
          },
          "type": "rect",
          "x0": 0,
          "x1": 96,
          "xref": "x",
          "y0": 0,
          "y1": 96,
          "yref": "y"
         }
        ],
        "template": {
         "data": {
          "bar": [
           {
            "error_x": {
             "color": "#2a3f5f"
            },
            "error_y": {
             "color": "#2a3f5f"
            },
            "marker": {
             "line": {
              "color": "#E5ECF6",
              "width": 0.5
             },
             "pattern": {
              "fillmode": "overlay",
              "size": 10,
              "solidity": 0.2
             }
            },
            "type": "bar"
           }
          ],
          "barpolar": [
           {
            "marker": {
             "line": {
              "color": "#E5ECF6",
              "width": 0.5
             },
             "pattern": {
              "fillmode": "overlay",
              "size": 10,
              "solidity": 0.2
             }
            },
            "type": "barpolar"
           }
          ],
          "carpet": [
           {
            "aaxis": {
             "endlinecolor": "#2a3f5f",
             "gridcolor": "white",
             "linecolor": "white",
             "minorgridcolor": "white",
             "startlinecolor": "#2a3f5f"
            },
            "baxis": {
             "endlinecolor": "#2a3f5f",
             "gridcolor": "white",
             "linecolor": "white",
             "minorgridcolor": "white",
             "startlinecolor": "#2a3f5f"
            },
            "type": "carpet"
           }
          ],
          "choropleth": [
           {
            "colorbar": {
             "outlinewidth": 0,
             "ticks": ""
            },
            "type": "choropleth"
           }
          ],
          "contour": [
           {
            "colorbar": {
             "outlinewidth": 0,
             "ticks": ""
            },
            "colorscale": [
             [
              0,
              "#0d0887"
             ],
             [
              0.1111111111111111,
              "#46039f"
             ],
             [
              0.2222222222222222,
              "#7201a8"
             ],
             [
              0.3333333333333333,
              "#9c179e"
             ],
             [
              0.4444444444444444,
              "#bd3786"
             ],
             [
              0.5555555555555556,
              "#d8576b"
             ],
             [
              0.6666666666666666,
              "#ed7953"
             ],
             [
              0.7777777777777778,
              "#fb9f3a"
             ],
             [
              0.8888888888888888,
              "#fdca26"
             ],
             [
              1,
              "#f0f921"
             ]
            ],
            "type": "contour"
           }
          ],
          "contourcarpet": [
           {
            "colorbar": {
             "outlinewidth": 0,
             "ticks": ""
            },
            "type": "contourcarpet"
           }
          ],
          "heatmap": [
           {
            "colorbar": {
             "outlinewidth": 0,
             "ticks": ""
            },
            "colorscale": [
             [
              0,
              "#0d0887"
             ],
             [
              0.1111111111111111,
              "#46039f"
             ],
             [
              0.2222222222222222,
              "#7201a8"
             ],
             [
              0.3333333333333333,
              "#9c179e"
             ],
             [
              0.4444444444444444,
              "#bd3786"
             ],
             [
              0.5555555555555556,
              "#d8576b"
             ],
             [
              0.6666666666666666,
              "#ed7953"
             ],
             [
              0.7777777777777778,
              "#fb9f3a"
             ],
             [
              0.8888888888888888,
              "#fdca26"
             ],
             [
              1,
              "#f0f921"
             ]
            ],
            "type": "heatmap"
           }
          ],
          "heatmapgl": [
           {
            "colorbar": {
             "outlinewidth": 0,
             "ticks": ""
            },
            "colorscale": [
             [
              0,
              "#0d0887"
             ],
             [
              0.1111111111111111,
              "#46039f"
             ],
             [
              0.2222222222222222,
              "#7201a8"
             ],
             [
              0.3333333333333333,
              "#9c179e"
             ],
             [
              0.4444444444444444,
              "#bd3786"
             ],
             [
              0.5555555555555556,
              "#d8576b"
             ],
             [
              0.6666666666666666,
              "#ed7953"
             ],
             [
              0.7777777777777778,
              "#fb9f3a"
             ],
             [
              0.8888888888888888,
              "#fdca26"
             ],
             [
              1,
              "#f0f921"
             ]
            ],
            "type": "heatmapgl"
           }
          ],
          "histogram": [
           {
            "marker": {
             "pattern": {
              "fillmode": "overlay",
              "size": 10,
              "solidity": 0.2
             }
            },
            "type": "histogram"
           }
          ],
          "histogram2d": [
           {
            "colorbar": {
             "outlinewidth": 0,
             "ticks": ""
            },
            "colorscale": [
             [
              0,
              "#0d0887"
             ],
             [
              0.1111111111111111,
              "#46039f"
             ],
             [
              0.2222222222222222,
              "#7201a8"
             ],
             [
              0.3333333333333333,
              "#9c179e"
             ],
             [
              0.4444444444444444,
              "#bd3786"
             ],
             [
              0.5555555555555556,
              "#d8576b"
             ],
             [
              0.6666666666666666,
              "#ed7953"
             ],
             [
              0.7777777777777778,
              "#fb9f3a"
             ],
             [
              0.8888888888888888,
              "#fdca26"
             ],
             [
              1,
              "#f0f921"
             ]
            ],
            "type": "histogram2d"
           }
          ],
          "histogram2dcontour": [
           {
            "colorbar": {
             "outlinewidth": 0,
             "ticks": ""
            },
            "colorscale": [
             [
              0,
              "#0d0887"
             ],
             [
              0.1111111111111111,
              "#46039f"
             ],
             [
              0.2222222222222222,
              "#7201a8"
             ],
             [
              0.3333333333333333,
              "#9c179e"
             ],
             [
              0.4444444444444444,
              "#bd3786"
             ],
             [
              0.5555555555555556,
              "#d8576b"
             ],
             [
              0.6666666666666666,
              "#ed7953"
             ],
             [
              0.7777777777777778,
              "#fb9f3a"
             ],
             [
              0.8888888888888888,
              "#fdca26"
             ],
             [
              1,
              "#f0f921"
             ]
            ],
            "type": "histogram2dcontour"
           }
          ],
          "mesh3d": [
           {
            "colorbar": {
             "outlinewidth": 0,
             "ticks": ""
            },
            "type": "mesh3d"
           }
          ],
          "parcoords": [
           {
            "line": {
             "colorbar": {
              "outlinewidth": 0,
              "ticks": ""
             }
            },
            "type": "parcoords"
           }
          ],
          "pie": [
           {
            "automargin": true,
            "type": "pie"
           }
          ],
          "scatter": [
           {
            "fillpattern": {
             "fillmode": "overlay",
             "size": 10,
             "solidity": 0.2
            },
            "type": "scatter"
           }
          ],
          "scatter3d": [
           {
            "line": {
             "colorbar": {
              "outlinewidth": 0,
              "ticks": ""
             }
            },
            "marker": {
             "colorbar": {
              "outlinewidth": 0,
              "ticks": ""
             }
            },
            "type": "scatter3d"
           }
          ],
          "scattercarpet": [
           {
            "marker": {
             "colorbar": {
              "outlinewidth": 0,
              "ticks": ""
             }
            },
            "type": "scattercarpet"
           }
          ],
          "scattergeo": [
           {
            "marker": {
             "colorbar": {
              "outlinewidth": 0,
              "ticks": ""
             }
            },
            "type": "scattergeo"
           }
          ],
          "scattergl": [
           {
            "marker": {
             "colorbar": {
              "outlinewidth": 0,
              "ticks": ""
             }
            },
            "type": "scattergl"
           }
          ],
          "scattermapbox": [
           {
            "marker": {
             "colorbar": {
              "outlinewidth": 0,
              "ticks": ""
             }
            },
            "type": "scattermapbox"
           }
          ],
          "scatterpolar": [
           {
            "marker": {
             "colorbar": {
              "outlinewidth": 0,
              "ticks": ""
             }
            },
            "type": "scatterpolar"
           }
          ],
          "scatterpolargl": [
           {
            "marker": {
             "colorbar": {
              "outlinewidth": 0,
              "ticks": ""
             }
            },
            "type": "scatterpolargl"
           }
          ],
          "scatterternary": [
           {
            "marker": {
             "colorbar": {
              "outlinewidth": 0,
              "ticks": ""
             }
            },
            "type": "scatterternary"
           }
          ],
          "surface": [
           {
            "colorbar": {
             "outlinewidth": 0,
             "ticks": ""
            },
            "colorscale": [
             [
              0,
              "#0d0887"
             ],
             [
              0.1111111111111111,
              "#46039f"
             ],
             [
              0.2222222222222222,
              "#7201a8"
             ],
             [
              0.3333333333333333,
              "#9c179e"
             ],
             [
              0.4444444444444444,
              "#bd3786"
             ],
             [
              0.5555555555555556,
              "#d8576b"
             ],
             [
              0.6666666666666666,
              "#ed7953"
             ],
             [
              0.7777777777777778,
              "#fb9f3a"
             ],
             [
              0.8888888888888888,
              "#fdca26"
             ],
             [
              1,
              "#f0f921"
             ]
            ],
            "type": "surface"
           }
          ],
          "table": [
           {
            "cells": {
             "fill": {
              "color": "#EBF0F8"
             },
             "line": {
              "color": "white"
             }
            },
            "header": {
             "fill": {
              "color": "#C8D4E3"
             },
             "line": {
              "color": "white"
             }
            },
            "type": "table"
           }
          ]
         },
         "layout": {
          "annotationdefaults": {
           "arrowcolor": "#2a3f5f",
           "arrowhead": 0,
           "arrowwidth": 1
          },
          "autotypenumbers": "strict",
          "coloraxis": {
           "colorbar": {
            "outlinewidth": 0,
            "ticks": ""
           }
          },
          "colorscale": {
           "diverging": [
            [
             0,
             "#8e0152"
            ],
            [
             0.1,
             "#c51b7d"
            ],
            [
             0.2,
             "#de77ae"
            ],
            [
             0.3,
             "#f1b6da"
            ],
            [
             0.4,
             "#fde0ef"
            ],
            [
             0.5,
             "#f7f7f7"
            ],
            [
             0.6,
             "#e6f5d0"
            ],
            [
             0.7,
             "#b8e186"
            ],
            [
             0.8,
             "#7fbc41"
            ],
            [
             0.9,
             "#4d9221"
            ],
            [
             1,
             "#276419"
            ]
           ],
           "sequential": [
            [
             0,
             "#0d0887"
            ],
            [
             0.1111111111111111,
             "#46039f"
            ],
            [
             0.2222222222222222,
             "#7201a8"
            ],
            [
             0.3333333333333333,
             "#9c179e"
            ],
            [
             0.4444444444444444,
             "#bd3786"
            ],
            [
             0.5555555555555556,
             "#d8576b"
            ],
            [
             0.6666666666666666,
             "#ed7953"
            ],
            [
             0.7777777777777778,
             "#fb9f3a"
            ],
            [
             0.8888888888888888,
             "#fdca26"
            ],
            [
             1,
             "#f0f921"
            ]
           ],
           "sequentialminus": [
            [
             0,
             "#0d0887"
            ],
            [
             0.1111111111111111,
             "#46039f"
            ],
            [
             0.2222222222222222,
             "#7201a8"
            ],
            [
             0.3333333333333333,
             "#9c179e"
            ],
            [
             0.4444444444444444,
             "#bd3786"
            ],
            [
             0.5555555555555556,
             "#d8576b"
            ],
            [
             0.6666666666666666,
             "#ed7953"
            ],
            [
             0.7777777777777778,
             "#fb9f3a"
            ],
            [
             0.8888888888888888,
             "#fdca26"
            ],
            [
             1,
             "#f0f921"
            ]
           ]
          },
          "colorway": [
           "#636efa",
           "#EF553B",
           "#00cc96",
           "#ab63fa",
           "#FFA15A",
           "#19d3f3",
           "#FF6692",
           "#B6E880",
           "#FF97FF",
           "#FECB52"
          ],
          "font": {
           "color": "#2a3f5f"
          },
          "geo": {
           "bgcolor": "white",
           "lakecolor": "white",
           "landcolor": "#E5ECF6",
           "showlakes": true,
           "showland": true,
           "subunitcolor": "white"
          },
          "hoverlabel": {
           "align": "left"
          },
          "hovermode": "closest",
          "mapbox": {
           "style": "light"
          },
          "paper_bgcolor": "white",
          "plot_bgcolor": "#E5ECF6",
          "polar": {
           "angularaxis": {
            "gridcolor": "white",
            "linecolor": "white",
            "ticks": ""
           },
           "bgcolor": "#E5ECF6",
           "radialaxis": {
            "gridcolor": "white",
            "linecolor": "white",
            "ticks": ""
           }
          },
          "scene": {
           "xaxis": {
            "backgroundcolor": "#E5ECF6",
            "gridcolor": "white",
            "gridwidth": 2,
            "linecolor": "white",
            "showbackground": true,
            "ticks": "",
            "zerolinecolor": "white"
           },
           "yaxis": {
            "backgroundcolor": "#E5ECF6",
            "gridcolor": "white",
            "gridwidth": 2,
            "linecolor": "white",
            "showbackground": true,
            "ticks": "",
            "zerolinecolor": "white"
           },
           "zaxis": {
            "backgroundcolor": "#E5ECF6",
            "gridcolor": "white",
            "gridwidth": 2,
            "linecolor": "white",
            "showbackground": true,
            "ticks": "",
            "zerolinecolor": "white"
           }
          },
          "shapedefaults": {
           "line": {
            "color": "#2a3f5f"
           }
          },
          "ternary": {
           "aaxis": {
            "gridcolor": "white",
            "linecolor": "white",
            "ticks": ""
           },
           "baxis": {
            "gridcolor": "white",
            "linecolor": "white",
            "ticks": ""
           },
           "bgcolor": "#E5ECF6",
           "caxis": {
            "gridcolor": "white",
            "linecolor": "white",
            "ticks": ""
           }
          },
          "title": {
           "x": 0.05
          },
          "xaxis": {
           "automargin": true,
           "gridcolor": "white",
           "linecolor": "white",
           "ticks": "",
           "title": {
            "standoff": 15
           },
           "zerolinecolor": "white",
           "zerolinewidth": 2
          },
          "yaxis": {
           "automargin": true,
           "gridcolor": "white",
           "linecolor": "white",
           "ticks": "",
           "title": {
            "standoff": 15
           },
           "zerolinecolor": "white",
           "zerolinewidth": 2
          }
         }
        },
        "title": {
         "text": "Label: Abomasnow"
        },
        "width": 500,
        "xaxis": {
         "anchor": "y",
         "domain": [
          0,
          1
         ],
         "showgrid": false,
         "showticklabels": false,
         "visible": false,
         "zeroline": false
        },
        "yaxis": {
         "anchor": "x",
         "domain": [
          0,
          1
         ],
         "showgrid": false,
         "showticklabels": false,
         "visible": false,
         "zeroline": false
        }
       }
      }
     },
     "metadata": {},
     "output_type": "display_data"
    },
    {
     "name": "stdout",
     "output_type": "stream",
     "text": [
      "tf.Tensor([1. 0. 0. 0. 0. 0. 0. 0. 0. 1. 0. 0. 0. 0. 0. 0. 0. 0. 1.], shape=(19,), dtype=float32)\n",
      "(96, 96, 3)\n"
     ]
    },
    {
     "data": {
      "application/vnd.plotly.v1+json": {
       "config": {
        "plotlyServerURL": "https://plot.ly"
       },
       "data": [
        {
         "hovertemplate": "x: %{x}<br>y: %{y}<br>color: [%{z[0]}, %{z[1]}, %{z[2]}]<extra></extra>",
         "name": "0",
         "source": "data:image/png;base64,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",
         "type": "image",
         "xaxis": "x",
         "yaxis": "y"
        }
       ],
       "layout": {
        "height": 350,
        "margin": {
         "l": 0,
         "t": 60
        },
        "shapes": [
         {
          "line": {
           "color": "black",
           "width": 2
          },
          "type": "rect",
          "x0": 0,
          "x1": 96,
          "xref": "x",
          "y0": 0,
          "y1": 96,
          "yref": "y"
         }
        ],
        "template": {
         "data": {
          "bar": [
           {
            "error_x": {
             "color": "#2a3f5f"
            },
            "error_y": {
             "color": "#2a3f5f"
            },
            "marker": {
             "line": {
              "color": "#E5ECF6",
              "width": 0.5
             },
             "pattern": {
              "fillmode": "overlay",
              "size": 10,
              "solidity": 0.2
             }
            },
            "type": "bar"
           }
          ],
          "barpolar": [
           {
            "marker": {
             "line": {
              "color": "#E5ECF6",
              "width": 0.5
             },
             "pattern": {
              "fillmode": "overlay",
              "size": 10,
              "solidity": 0.2
             }
            },
            "type": "barpolar"
           }
          ],
          "carpet": [
           {
            "aaxis": {
             "endlinecolor": "#2a3f5f",
             "gridcolor": "white",
             "linecolor": "white",
             "minorgridcolor": "white",
             "startlinecolor": "#2a3f5f"
            },
            "baxis": {
             "endlinecolor": "#2a3f5f",
             "gridcolor": "white",
             "linecolor": "white",
             "minorgridcolor": "white",
             "startlinecolor": "#2a3f5f"
            },
            "type": "carpet"
           }
          ],
          "choropleth": [
           {
            "colorbar": {
             "outlinewidth": 0,
             "ticks": ""
            },
            "type": "choropleth"
           }
          ],
          "contour": [
           {
            "colorbar": {
             "outlinewidth": 0,
             "ticks": ""
            },
            "colorscale": [
             [
              0,
              "#0d0887"
             ],
             [
              0.1111111111111111,
              "#46039f"
             ],
             [
              0.2222222222222222,
              "#7201a8"
             ],
             [
              0.3333333333333333,
              "#9c179e"
             ],
             [
              0.4444444444444444,
              "#bd3786"
             ],
             [
              0.5555555555555556,
              "#d8576b"
             ],
             [
              0.6666666666666666,
              "#ed7953"
             ],
             [
              0.7777777777777778,
              "#fb9f3a"
             ],
             [
              0.8888888888888888,
              "#fdca26"
             ],
             [
              1,
              "#f0f921"
             ]
            ],
            "type": "contour"
           }
          ],
          "contourcarpet": [
           {
            "colorbar": {
             "outlinewidth": 0,
             "ticks": ""
            },
            "type": "contourcarpet"
           }
          ],
          "heatmap": [
           {
            "colorbar": {
             "outlinewidth": 0,
             "ticks": ""
            },
            "colorscale": [
             [
              0,
              "#0d0887"
             ],
             [
              0.1111111111111111,
              "#46039f"
             ],
             [
              0.2222222222222222,
              "#7201a8"
             ],
             [
              0.3333333333333333,
              "#9c179e"
             ],
             [
              0.4444444444444444,
              "#bd3786"
             ],
             [
              0.5555555555555556,
              "#d8576b"
             ],
             [
              0.6666666666666666,
              "#ed7953"
             ],
             [
              0.7777777777777778,
              "#fb9f3a"
             ],
             [
              0.8888888888888888,
              "#fdca26"
             ],
             [
              1,
              "#f0f921"
             ]
            ],
            "type": "heatmap"
           }
          ],
          "heatmapgl": [
           {
            "colorbar": {
             "outlinewidth": 0,
             "ticks": ""
            },
            "colorscale": [
             [
              0,
              "#0d0887"
             ],
             [
              0.1111111111111111,
              "#46039f"
             ],
             [
              0.2222222222222222,
              "#7201a8"
             ],
             [
              0.3333333333333333,
              "#9c179e"
             ],
             [
              0.4444444444444444,
              "#bd3786"
             ],
             [
              0.5555555555555556,
              "#d8576b"
             ],
             [
              0.6666666666666666,
              "#ed7953"
             ],
             [
              0.7777777777777778,
              "#fb9f3a"
             ],
             [
              0.8888888888888888,
              "#fdca26"
             ],
             [
              1,
              "#f0f921"
             ]
            ],
            "type": "heatmapgl"
           }
          ],
          "histogram": [
           {
            "marker": {
             "pattern": {
              "fillmode": "overlay",
              "size": 10,
              "solidity": 0.2
             }
            },
            "type": "histogram"
           }
          ],
          "histogram2d": [
           {
            "colorbar": {
             "outlinewidth": 0,
             "ticks": ""
            },
            "colorscale": [
             [
              0,
              "#0d0887"
             ],
             [
              0.1111111111111111,
              "#46039f"
             ],
             [
              0.2222222222222222,
              "#7201a8"
             ],
             [
              0.3333333333333333,
              "#9c179e"
             ],
             [
              0.4444444444444444,
              "#bd3786"
             ],
             [
              0.5555555555555556,
              "#d8576b"
             ],
             [
              0.6666666666666666,
              "#ed7953"
             ],
             [
              0.7777777777777778,
              "#fb9f3a"
             ],
             [
              0.8888888888888888,
              "#fdca26"
             ],
             [
              1,
              "#f0f921"
             ]
            ],
            "type": "histogram2d"
           }
          ],
          "histogram2dcontour": [
           {
            "colorbar": {
             "outlinewidth": 0,
             "ticks": ""
            },
            "colorscale": [
             [
              0,
              "#0d0887"
             ],
             [
              0.1111111111111111,
              "#46039f"
             ],
             [
              0.2222222222222222,
              "#7201a8"
             ],
             [
              0.3333333333333333,
              "#9c179e"
             ],
             [
              0.4444444444444444,
              "#bd3786"
             ],
             [
              0.5555555555555556,
              "#d8576b"
             ],
             [
              0.6666666666666666,
              "#ed7953"
             ],
             [
              0.7777777777777778,
              "#fb9f3a"
             ],
             [
              0.8888888888888888,
              "#fdca26"
             ],
             [
              1,
              "#f0f921"
             ]
            ],
            "type": "histogram2dcontour"
           }
          ],
          "mesh3d": [
           {
            "colorbar": {
             "outlinewidth": 0,
             "ticks": ""
            },
            "type": "mesh3d"
           }
          ],
          "parcoords": [
           {
            "line": {
             "colorbar": {
              "outlinewidth": 0,
              "ticks": ""
             }
            },
            "type": "parcoords"
           }
          ],
          "pie": [
           {
            "automargin": true,
            "type": "pie"
           }
          ],
          "scatter": [
           {
            "fillpattern": {
             "fillmode": "overlay",
             "size": 10,
             "solidity": 0.2
            },
            "type": "scatter"
           }
          ],
          "scatter3d": [
           {
            "line": {
             "colorbar": {
              "outlinewidth": 0,
              "ticks": ""
             }
            },
            "marker": {
             "colorbar": {
              "outlinewidth": 0,
              "ticks": ""
             }
            },
            "type": "scatter3d"
           }
          ],
          "scattercarpet": [
           {
            "marker": {
             "colorbar": {
              "outlinewidth": 0,
              "ticks": ""
             }
            },
            "type": "scattercarpet"
           }
          ],
          "scattergeo": [
           {
            "marker": {
             "colorbar": {
              "outlinewidth": 0,
              "ticks": ""
             }
            },
            "type": "scattergeo"
           }
          ],
          "scattergl": [
           {
            "marker": {
             "colorbar": {
              "outlinewidth": 0,
              "ticks": ""
             }
            },
            "type": "scattergl"
           }
          ],
          "scattermapbox": [
           {
            "marker": {
             "colorbar": {
              "outlinewidth": 0,
              "ticks": ""
             }
            },
            "type": "scattermapbox"
           }
          ],
          "scatterpolar": [
           {
            "marker": {
             "colorbar": {
              "outlinewidth": 0,
              "ticks": ""
             }
            },
            "type": "scatterpolar"
           }
          ],
          "scatterpolargl": [
           {
            "marker": {
             "colorbar": {
              "outlinewidth": 0,
              "ticks": ""
             }
            },
            "type": "scatterpolargl"
           }
          ],
          "scatterternary": [
           {
            "marker": {
             "colorbar": {
              "outlinewidth": 0,
              "ticks": ""
             }
            },
            "type": "scatterternary"
           }
          ],
          "surface": [
           {
            "colorbar": {
             "outlinewidth": 0,
             "ticks": ""
            },
            "colorscale": [
             [
              0,
              "#0d0887"
             ],
             [
              0.1111111111111111,
              "#46039f"
             ],
             [
              0.2222222222222222,
              "#7201a8"
             ],
             [
              0.3333333333333333,
              "#9c179e"
             ],
             [
              0.4444444444444444,
              "#bd3786"
             ],
             [
              0.5555555555555556,
              "#d8576b"
             ],
             [
              0.6666666666666666,
              "#ed7953"
             ],
             [
              0.7777777777777778,
              "#fb9f3a"
             ],
             [
              0.8888888888888888,
              "#fdca26"
             ],
             [
              1,
              "#f0f921"
             ]
            ],
            "type": "surface"
           }
          ],
          "table": [
           {
            "cells": {
             "fill": {
              "color": "#EBF0F8"
             },
             "line": {
              "color": "white"
             }
            },
            "header": {
             "fill": {
              "color": "#C8D4E3"
             },
             "line": {
              "color": "white"
             }
            },
            "type": "table"
           }
          ]
         },
         "layout": {
          "annotationdefaults": {
           "arrowcolor": "#2a3f5f",
           "arrowhead": 0,
           "arrowwidth": 1
          },
          "autotypenumbers": "strict",
          "coloraxis": {
           "colorbar": {
            "outlinewidth": 0,
            "ticks": ""
           }
          },
          "colorscale": {
           "diverging": [
            [
             0,
             "#8e0152"
            ],
            [
             0.1,
             "#c51b7d"
            ],
            [
             0.2,
             "#de77ae"
            ],
            [
             0.3,
             "#f1b6da"
            ],
            [
             0.4,
             "#fde0ef"
            ],
            [
             0.5,
             "#f7f7f7"
            ],
            [
             0.6,
             "#e6f5d0"
            ],
            [
             0.7,
             "#b8e186"
            ],
            [
             0.8,
             "#7fbc41"
            ],
            [
             0.9,
             "#4d9221"
            ],
            [
             1,
             "#276419"
            ]
           ],
           "sequential": [
            [
             0,
             "#0d0887"
            ],
            [
             0.1111111111111111,
             "#46039f"
            ],
            [
             0.2222222222222222,
             "#7201a8"
            ],
            [
             0.3333333333333333,
             "#9c179e"
            ],
            [
             0.4444444444444444,
             "#bd3786"
            ],
            [
             0.5555555555555556,
             "#d8576b"
            ],
            [
             0.6666666666666666,
             "#ed7953"
            ],
            [
             0.7777777777777778,
             "#fb9f3a"
            ],
            [
             0.8888888888888888,
             "#fdca26"
            ],
            [
             1,
             "#f0f921"
            ]
           ],
           "sequentialminus": [
            [
             0,
             "#0d0887"
            ],
            [
             0.1111111111111111,
             "#46039f"
            ],
            [
             0.2222222222222222,
             "#7201a8"
            ],
            [
             0.3333333333333333,
             "#9c179e"
            ],
            [
             0.4444444444444444,
             "#bd3786"
            ],
            [
             0.5555555555555556,
             "#d8576b"
            ],
            [
             0.6666666666666666,
             "#ed7953"
            ],
            [
             0.7777777777777778,
             "#fb9f3a"
            ],
            [
             0.8888888888888888,
             "#fdca26"
            ],
            [
             1,
             "#f0f921"
            ]
           ]
          },
          "colorway": [
           "#636efa",
           "#EF553B",
           "#00cc96",
           "#ab63fa",
           "#FFA15A",
           "#19d3f3",
           "#FF6692",
           "#B6E880",
           "#FF97FF",
           "#FECB52"
          ],
          "font": {
           "color": "#2a3f5f"
          },
          "geo": {
           "bgcolor": "white",
           "lakecolor": "white",
           "landcolor": "#E5ECF6",
           "showlakes": true,
           "showland": true,
           "subunitcolor": "white"
          },
          "hoverlabel": {
           "align": "left"
          },
          "hovermode": "closest",
          "mapbox": {
           "style": "light"
          },
          "paper_bgcolor": "white",
          "plot_bgcolor": "#E5ECF6",
          "polar": {
           "angularaxis": {
            "gridcolor": "white",
            "linecolor": "white",
            "ticks": ""
           },
           "bgcolor": "#E5ECF6",
           "radialaxis": {
            "gridcolor": "white",
            "linecolor": "white",
            "ticks": ""
           }
          },
          "scene": {
           "xaxis": {
            "backgroundcolor": "#E5ECF6",
            "gridcolor": "white",
            "gridwidth": 2,
            "linecolor": "white",
            "showbackground": true,
            "ticks": "",
            "zerolinecolor": "white"
           },
           "yaxis": {
            "backgroundcolor": "#E5ECF6",
            "gridcolor": "white",
            "gridwidth": 2,
            "linecolor": "white",
            "showbackground": true,
            "ticks": "",
            "zerolinecolor": "white"
           },
           "zaxis": {
            "backgroundcolor": "#E5ECF6",
            "gridcolor": "white",
            "gridwidth": 2,
            "linecolor": "white",
            "showbackground": true,
            "ticks": "",
            "zerolinecolor": "white"
           }
          },
          "shapedefaults": {
           "line": {
            "color": "#2a3f5f"
           }
          },
          "ternary": {
           "aaxis": {
            "gridcolor": "white",
            "linecolor": "white",
            "ticks": ""
           },
           "baxis": {
            "gridcolor": "white",
            "linecolor": "white",
            "ticks": ""
           },
           "bgcolor": "#E5ECF6",
           "caxis": {
            "gridcolor": "white",
            "linecolor": "white",
            "ticks": ""
           }
          },
          "title": {
           "x": 0.05
          },
          "xaxis": {
           "automargin": true,
           "gridcolor": "white",
           "linecolor": "white",
           "ticks": "",
           "title": {
            "standoff": 15
           },
           "zerolinecolor": "white",
           "zerolinewidth": 2
          },
          "yaxis": {
           "automargin": true,
           "gridcolor": "white",
           "linecolor": "white",
           "ticks": "",
           "title": {
            "standoff": 15
           },
           "zerolinecolor": "white",
           "zerolinewidth": 2
          }
         }
        },
        "title": {
         "text": "Label: Abomasnow"
        },
        "width": 500,
        "xaxis": {
         "anchor": "y",
         "domain": [
          0,
          1
         ],
         "showgrid": false,
         "showticklabels": false,
         "visible": false,
         "zeroline": false
        },
        "yaxis": {
         "anchor": "x",
         "domain": [
          0,
          1
         ],
         "showgrid": false,
         "showticklabels": false,
         "visible": false,
         "zeroline": false
        }
       }
      }
     },
     "metadata": {},
     "output_type": "display_data"
    },
    {
     "name": "stdout",
     "output_type": "stream",
     "text": [
      "tf.Tensor([1. 0. 1. 0. 1. 0. 0. 0. 0. 0. 0. 0. 0. 0. 0. 0. 0. 0. 0.], shape=(19,), dtype=float32)\n",
      "(96, 96, 3)\n"
     ]
    },
    {
     "data": {
      "application/vnd.plotly.v1+json": {
       "config": {
        "plotlyServerURL": "https://plot.ly"
       },
       "data": [
        {
         "hovertemplate": "x: %{x}<br>y: %{y}<br>color: [%{z[0]}, %{z[1]}, %{z[2]}]<extra></extra>",
         "name": "0",
         "source": "data:image/png;base64,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",
         "type": "image",
         "xaxis": "x",
         "yaxis": "y"
        }
       ],
       "layout": {
        "height": 350,
        "margin": {
         "l": 0,
         "t": 60
        },
        "shapes": [
         {
          "line": {
           "color": "black",
           "width": 2
          },
          "type": "rect",
          "x0": 0,
          "x1": 96,
          "xref": "x",
          "y0": 0,
          "y1": 96,
          "yref": "y"
         }
        ],
        "template": {
         "data": {
          "bar": [
           {
            "error_x": {
             "color": "#2a3f5f"
            },
            "error_y": {
             "color": "#2a3f5f"
            },
            "marker": {
             "line": {
              "color": "#E5ECF6",
              "width": 0.5
             },
             "pattern": {
              "fillmode": "overlay",
              "size": 10,
              "solidity": 0.2
             }
            },
            "type": "bar"
           }
          ],
          "barpolar": [
           {
            "marker": {
             "line": {
              "color": "#E5ECF6",
              "width": 0.5
             },
             "pattern": {
              "fillmode": "overlay",
              "size": 10,
              "solidity": 0.2
             }
            },
            "type": "barpolar"
           }
          ],
          "carpet": [
           {
            "aaxis": {
             "endlinecolor": "#2a3f5f",
             "gridcolor": "white",
             "linecolor": "white",
             "minorgridcolor": "white",
             "startlinecolor": "#2a3f5f"
            },
            "baxis": {
             "endlinecolor": "#2a3f5f",
             "gridcolor": "white",
             "linecolor": "white",
             "minorgridcolor": "white",
             "startlinecolor": "#2a3f5f"
            },
            "type": "carpet"
           }
          ],
          "choropleth": [
           {
            "colorbar": {
             "outlinewidth": 0,
             "ticks": ""
            },
            "type": "choropleth"
           }
          ],
          "contour": [
           {
            "colorbar": {
             "outlinewidth": 0,
             "ticks": ""
            },
            "colorscale": [
             [
              0,
              "#0d0887"
             ],
             [
              0.1111111111111111,
              "#46039f"
             ],
             [
              0.2222222222222222,
              "#7201a8"
             ],
             [
              0.3333333333333333,
              "#9c179e"
             ],
             [
              0.4444444444444444,
              "#bd3786"
             ],
             [
              0.5555555555555556,
              "#d8576b"
             ],
             [
              0.6666666666666666,
              "#ed7953"
             ],
             [
              0.7777777777777778,
              "#fb9f3a"
             ],
             [
              0.8888888888888888,
              "#fdca26"
             ],
             [
              1,
              "#f0f921"
             ]
            ],
            "type": "contour"
           }
          ],
          "contourcarpet": [
           {
            "colorbar": {
             "outlinewidth": 0,
             "ticks": ""
            },
            "type": "contourcarpet"
           }
          ],
          "heatmap": [
           {
            "colorbar": {
             "outlinewidth": 0,
             "ticks": ""
            },
            "colorscale": [
             [
              0,
              "#0d0887"
             ],
             [
              0.1111111111111111,
              "#46039f"
             ],
             [
              0.2222222222222222,
              "#7201a8"
             ],
             [
              0.3333333333333333,
              "#9c179e"
             ],
             [
              0.4444444444444444,
              "#bd3786"
             ],
             [
              0.5555555555555556,
              "#d8576b"
             ],
             [
              0.6666666666666666,
              "#ed7953"
             ],
             [
              0.7777777777777778,
              "#fb9f3a"
             ],
             [
              0.8888888888888888,
              "#fdca26"
             ],
             [
              1,
              "#f0f921"
             ]
            ],
            "type": "heatmap"
           }
          ],
          "heatmapgl": [
           {
            "colorbar": {
             "outlinewidth": 0,
             "ticks": ""
            },
            "colorscale": [
             [
              0,
              "#0d0887"
             ],
             [
              0.1111111111111111,
              "#46039f"
             ],
             [
              0.2222222222222222,
              "#7201a8"
             ],
             [
              0.3333333333333333,
              "#9c179e"
             ],
             [
              0.4444444444444444,
              "#bd3786"
             ],
             [
              0.5555555555555556,
              "#d8576b"
             ],
             [
              0.6666666666666666,
              "#ed7953"
             ],
             [
              0.7777777777777778,
              "#fb9f3a"
             ],
             [
              0.8888888888888888,
              "#fdca26"
             ],
             [
              1,
              "#f0f921"
             ]
            ],
            "type": "heatmapgl"
           }
          ],
          "histogram": [
           {
            "marker": {
             "pattern": {
              "fillmode": "overlay",
              "size": 10,
              "solidity": 0.2
             }
            },
            "type": "histogram"
           }
          ],
          "histogram2d": [
           {
            "colorbar": {
             "outlinewidth": 0,
             "ticks": ""
            },
            "colorscale": [
             [
              0,
              "#0d0887"
             ],
             [
              0.1111111111111111,
              "#46039f"
             ],
             [
              0.2222222222222222,
              "#7201a8"
             ],
             [
              0.3333333333333333,
              "#9c179e"
             ],
             [
              0.4444444444444444,
              "#bd3786"
             ],
             [
              0.5555555555555556,
              "#d8576b"
             ],
             [
              0.6666666666666666,
              "#ed7953"
             ],
             [
              0.7777777777777778,
              "#fb9f3a"
             ],
             [
              0.8888888888888888,
              "#fdca26"
             ],
             [
              1,
              "#f0f921"
             ]
            ],
            "type": "histogram2d"
           }
          ],
          "histogram2dcontour": [
           {
            "colorbar": {
             "outlinewidth": 0,
             "ticks": ""
            },
            "colorscale": [
             [
              0,
              "#0d0887"
             ],
             [
              0.1111111111111111,
              "#46039f"
             ],
             [
              0.2222222222222222,
              "#7201a8"
             ],
             [
              0.3333333333333333,
              "#9c179e"
             ],
             [
              0.4444444444444444,
              "#bd3786"
             ],
             [
              0.5555555555555556,
              "#d8576b"
             ],
             [
              0.6666666666666666,
              "#ed7953"
             ],
             [
              0.7777777777777778,
              "#fb9f3a"
             ],
             [
              0.8888888888888888,
              "#fdca26"
             ],
             [
              1,
              "#f0f921"
             ]
            ],
            "type": "histogram2dcontour"
           }
          ],
          "mesh3d": [
           {
            "colorbar": {
             "outlinewidth": 0,
             "ticks": ""
            },
            "type": "mesh3d"
           }
          ],
          "parcoords": [
           {
            "line": {
             "colorbar": {
              "outlinewidth": 0,
              "ticks": ""
             }
            },
            "type": "parcoords"
           }
          ],
          "pie": [
           {
            "automargin": true,
            "type": "pie"
           }
          ],
          "scatter": [
           {
            "fillpattern": {
             "fillmode": "overlay",
             "size": 10,
             "solidity": 0.2
            },
            "type": "scatter"
           }
          ],
          "scatter3d": [
           {
            "line": {
             "colorbar": {
              "outlinewidth": 0,
              "ticks": ""
             }
            },
            "marker": {
             "colorbar": {
              "outlinewidth": 0,
              "ticks": ""
             }
            },
            "type": "scatter3d"
           }
          ],
          "scattercarpet": [
           {
            "marker": {
             "colorbar": {
              "outlinewidth": 0,
              "ticks": ""
             }
            },
            "type": "scattercarpet"
           }
          ],
          "scattergeo": [
           {
            "marker": {
             "colorbar": {
              "outlinewidth": 0,
              "ticks": ""
             }
            },
            "type": "scattergeo"
           }
          ],
          "scattergl": [
           {
            "marker": {
             "colorbar": {
              "outlinewidth": 0,
              "ticks": ""
             }
            },
            "type": "scattergl"
           }
          ],
          "scattermapbox": [
           {
            "marker": {
             "colorbar": {
              "outlinewidth": 0,
              "ticks": ""
             }
            },
            "type": "scattermapbox"
           }
          ],
          "scatterpolar": [
           {
            "marker": {
             "colorbar": {
              "outlinewidth": 0,
              "ticks": ""
             }
            },
            "type": "scatterpolar"
           }
          ],
          "scatterpolargl": [
           {
            "marker": {
             "colorbar": {
              "outlinewidth": 0,
              "ticks": ""
             }
            },
            "type": "scatterpolargl"
           }
          ],
          "scatterternary": [
           {
            "marker": {
             "colorbar": {
              "outlinewidth": 0,
              "ticks": ""
             }
            },
            "type": "scatterternary"
           }
          ],
          "surface": [
           {
            "colorbar": {
             "outlinewidth": 0,
             "ticks": ""
            },
            "colorscale": [
             [
              0,
              "#0d0887"
             ],
             [
              0.1111111111111111,
              "#46039f"
             ],
             [
              0.2222222222222222,
              "#7201a8"
             ],
             [
              0.3333333333333333,
              "#9c179e"
             ],
             [
              0.4444444444444444,
              "#bd3786"
             ],
             [
              0.5555555555555556,
              "#d8576b"
             ],
             [
              0.6666666666666666,
              "#ed7953"
             ],
             [
              0.7777777777777778,
              "#fb9f3a"
             ],
             [
              0.8888888888888888,
              "#fdca26"
             ],
             [
              1,
              "#f0f921"
             ]
            ],
            "type": "surface"
           }
          ],
          "table": [
           {
            "cells": {
             "fill": {
              "color": "#EBF0F8"
             },
             "line": {
              "color": "white"
             }
            },
            "header": {
             "fill": {
              "color": "#C8D4E3"
             },
             "line": {
              "color": "white"
             }
            },
            "type": "table"
           }
          ]
         },
         "layout": {
          "annotationdefaults": {
           "arrowcolor": "#2a3f5f",
           "arrowhead": 0,
           "arrowwidth": 1
          },
          "autotypenumbers": "strict",
          "coloraxis": {
           "colorbar": {
            "outlinewidth": 0,
            "ticks": ""
           }
          },
          "colorscale": {
           "diverging": [
            [
             0,
             "#8e0152"
            ],
            [
             0.1,
             "#c51b7d"
            ],
            [
             0.2,
             "#de77ae"
            ],
            [
             0.3,
             "#f1b6da"
            ],
            [
             0.4,
             "#fde0ef"
            ],
            [
             0.5,
             "#f7f7f7"
            ],
            [
             0.6,
             "#e6f5d0"
            ],
            [
             0.7,
             "#b8e186"
            ],
            [
             0.8,
             "#7fbc41"
            ],
            [
             0.9,
             "#4d9221"
            ],
            [
             1,
             "#276419"
            ]
           ],
           "sequential": [
            [
             0,
             "#0d0887"
            ],
            [
             0.1111111111111111,
             "#46039f"
            ],
            [
             0.2222222222222222,
             "#7201a8"
            ],
            [
             0.3333333333333333,
             "#9c179e"
            ],
            [
             0.4444444444444444,
             "#bd3786"
            ],
            [
             0.5555555555555556,
             "#d8576b"
            ],
            [
             0.6666666666666666,
             "#ed7953"
            ],
            [
             0.7777777777777778,
             "#fb9f3a"
            ],
            [
             0.8888888888888888,
             "#fdca26"
            ],
            [
             1,
             "#f0f921"
            ]
           ],
           "sequentialminus": [
            [
             0,
             "#0d0887"
            ],
            [
             0.1111111111111111,
             "#46039f"
            ],
            [
             0.2222222222222222,
             "#7201a8"
            ],
            [
             0.3333333333333333,
             "#9c179e"
            ],
            [
             0.4444444444444444,
             "#bd3786"
            ],
            [
             0.5555555555555556,
             "#d8576b"
            ],
            [
             0.6666666666666666,
             "#ed7953"
            ],
            [
             0.7777777777777778,
             "#fb9f3a"
            ],
            [
             0.8888888888888888,
             "#fdca26"
            ],
            [
             1,
             "#f0f921"
            ]
           ]
          },
          "colorway": [
           "#636efa",
           "#EF553B",
           "#00cc96",
           "#ab63fa",
           "#FFA15A",
           "#19d3f3",
           "#FF6692",
           "#B6E880",
           "#FF97FF",
           "#FECB52"
          ],
          "font": {
           "color": "#2a3f5f"
          },
          "geo": {
           "bgcolor": "white",
           "lakecolor": "white",
           "landcolor": "#E5ECF6",
           "showlakes": true,
           "showland": true,
           "subunitcolor": "white"
          },
          "hoverlabel": {
           "align": "left"
          },
          "hovermode": "closest",
          "mapbox": {
           "style": "light"
          },
          "paper_bgcolor": "white",
          "plot_bgcolor": "#E5ECF6",
          "polar": {
           "angularaxis": {
            "gridcolor": "white",
            "linecolor": "white",
            "ticks": ""
           },
           "bgcolor": "#E5ECF6",
           "radialaxis": {
            "gridcolor": "white",
            "linecolor": "white",
            "ticks": ""
           }
          },
          "scene": {
           "xaxis": {
            "backgroundcolor": "#E5ECF6",
            "gridcolor": "white",
            "gridwidth": 2,
            "linecolor": "white",
            "showbackground": true,
            "ticks": "",
            "zerolinecolor": "white"
           },
           "yaxis": {
            "backgroundcolor": "#E5ECF6",
            "gridcolor": "white",
            "gridwidth": 2,
            "linecolor": "white",
            "showbackground": true,
            "ticks": "",
            "zerolinecolor": "white"
           },
           "zaxis": {
            "backgroundcolor": "#E5ECF6",
            "gridcolor": "white",
            "gridwidth": 2,
            "linecolor": "white",
            "showbackground": true,
            "ticks": "",
            "zerolinecolor": "white"
           }
          },
          "shapedefaults": {
           "line": {
            "color": "#2a3f5f"
           }
          },
          "ternary": {
           "aaxis": {
            "gridcolor": "white",
            "linecolor": "white",
            "ticks": ""
           },
           "baxis": {
            "gridcolor": "white",
            "linecolor": "white",
            "ticks": ""
           },
           "bgcolor": "#E5ECF6",
           "caxis": {
            "gridcolor": "white",
            "linecolor": "white",
            "ticks": ""
           }
          },
          "title": {
           "x": 0.05
          },
          "xaxis": {
           "automargin": true,
           "gridcolor": "white",
           "linecolor": "white",
           "ticks": "",
           "title": {
            "standoff": 15
           },
           "zerolinecolor": "white",
           "zerolinewidth": 2
          },
          "yaxis": {
           "automargin": true,
           "gridcolor": "white",
           "linecolor": "white",
           "ticks": "",
           "title": {
            "standoff": 15
           },
           "zerolinecolor": "white",
           "zerolinewidth": 2
          }
         }
        },
        "title": {
         "text": "Label: Abomasnow"
        },
        "width": 500,
        "xaxis": {
         "anchor": "y",
         "domain": [
          0,
          1
         ],
         "showgrid": false,
         "showticklabels": false,
         "visible": false,
         "zeroline": false
        },
        "yaxis": {
         "anchor": "x",
         "domain": [
          0,
          1
         ],
         "showgrid": false,
         "showticklabels": false,
         "visible": false,
         "zeroline": false
        }
       }
      }
     },
     "metadata": {},
     "output_type": "display_data"
    },
    {
     "name": "stdout",
     "output_type": "stream",
     "text": [
      "tf.Tensor([1. 0. 0. 0. 0. 0. 0. 1. 0. 0. 0. 0. 0. 0. 0. 0. 0. 0. 0.], shape=(19,), dtype=float32)\n",
      "(96, 96, 3)\n"
     ]
    },
    {
     "data": {
      "application/vnd.plotly.v1+json": {
       "config": {
        "plotlyServerURL": "https://plot.ly"
       },
       "data": [
        {
         "hovertemplate": "x: %{x}<br>y: %{y}<br>color: [%{z[0]}, %{z[1]}, %{z[2]}]<extra></extra>",
         "name": "0",
         "source": "data:image/png;base64,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",
         "type": "image",
         "xaxis": "x",
         "yaxis": "y"
        }
       ],
       "layout": {
        "height": 350,
        "margin": {
         "l": 0,
         "t": 60
        },
        "shapes": [
         {
          "line": {
           "color": "black",
           "width": 2
          },
          "type": "rect",
          "x0": 0,
          "x1": 96,
          "xref": "x",
          "y0": 0,
          "y1": 96,
          "yref": "y"
         }
        ],
        "template": {
         "data": {
          "bar": [
           {
            "error_x": {
             "color": "#2a3f5f"
            },
            "error_y": {
             "color": "#2a3f5f"
            },
            "marker": {
             "line": {
              "color": "#E5ECF6",
              "width": 0.5
             },
             "pattern": {
              "fillmode": "overlay",
              "size": 10,
              "solidity": 0.2
             }
            },
            "type": "bar"
           }
          ],
          "barpolar": [
           {
            "marker": {
             "line": {
              "color": "#E5ECF6",
              "width": 0.5
             },
             "pattern": {
              "fillmode": "overlay",
              "size": 10,
              "solidity": 0.2
             }
            },
            "type": "barpolar"
           }
          ],
          "carpet": [
           {
            "aaxis": {
             "endlinecolor": "#2a3f5f",
             "gridcolor": "white",
             "linecolor": "white",
             "minorgridcolor": "white",
             "startlinecolor": "#2a3f5f"
            },
            "baxis": {
             "endlinecolor": "#2a3f5f",
             "gridcolor": "white",
             "linecolor": "white",
             "minorgridcolor": "white",
             "startlinecolor": "#2a3f5f"
            },
            "type": "carpet"
           }
          ],
          "choropleth": [
           {
            "colorbar": {
             "outlinewidth": 0,
             "ticks": ""
            },
            "type": "choropleth"
           }
          ],
          "contour": [
           {
            "colorbar": {
             "outlinewidth": 0,
             "ticks": ""
            },
            "colorscale": [
             [
              0,
              "#0d0887"
             ],
             [
              0.1111111111111111,
              "#46039f"
             ],
             [
              0.2222222222222222,
              "#7201a8"
             ],
             [
              0.3333333333333333,
              "#9c179e"
             ],
             [
              0.4444444444444444,
              "#bd3786"
             ],
             [
              0.5555555555555556,
              "#d8576b"
             ],
             [
              0.6666666666666666,
              "#ed7953"
             ],
             [
              0.7777777777777778,
              "#fb9f3a"
             ],
             [
              0.8888888888888888,
              "#fdca26"
             ],
             [
              1,
              "#f0f921"
             ]
            ],
            "type": "contour"
           }
          ],
          "contourcarpet": [
           {
            "colorbar": {
             "outlinewidth": 0,
             "ticks": ""
            },
            "type": "contourcarpet"
           }
          ],
          "heatmap": [
           {
            "colorbar": {
             "outlinewidth": 0,
             "ticks": ""
            },
            "colorscale": [
             [
              0,
              "#0d0887"
             ],
             [
              0.1111111111111111,
              "#46039f"
             ],
             [
              0.2222222222222222,
              "#7201a8"
             ],
             [
              0.3333333333333333,
              "#9c179e"
             ],
             [
              0.4444444444444444,
              "#bd3786"
             ],
             [
              0.5555555555555556,
              "#d8576b"
             ],
             [
              0.6666666666666666,
              "#ed7953"
             ],
             [
              0.7777777777777778,
              "#fb9f3a"
             ],
             [
              0.8888888888888888,
              "#fdca26"
             ],
             [
              1,
              "#f0f921"
             ]
            ],
            "type": "heatmap"
           }
          ],
          "heatmapgl": [
           {
            "colorbar": {
             "outlinewidth": 0,
             "ticks": ""
            },
            "colorscale": [
             [
              0,
              "#0d0887"
             ],
             [
              0.1111111111111111,
              "#46039f"
             ],
             [
              0.2222222222222222,
              "#7201a8"
             ],
             [
              0.3333333333333333,
              "#9c179e"
             ],
             [
              0.4444444444444444,
              "#bd3786"
             ],
             [
              0.5555555555555556,
              "#d8576b"
             ],
             [
              0.6666666666666666,
              "#ed7953"
             ],
             [
              0.7777777777777778,
              "#fb9f3a"
             ],
             [
              0.8888888888888888,
              "#fdca26"
             ],
             [
              1,
              "#f0f921"
             ]
            ],
            "type": "heatmapgl"
           }
          ],
          "histogram": [
           {
            "marker": {
             "pattern": {
              "fillmode": "overlay",
              "size": 10,
              "solidity": 0.2
             }
            },
            "type": "histogram"
           }
          ],
          "histogram2d": [
           {
            "colorbar": {
             "outlinewidth": 0,
             "ticks": ""
            },
            "colorscale": [
             [
              0,
              "#0d0887"
             ],
             [
              0.1111111111111111,
              "#46039f"
             ],
             [
              0.2222222222222222,
              "#7201a8"
             ],
             [
              0.3333333333333333,
              "#9c179e"
             ],
             [
              0.4444444444444444,
              "#bd3786"
             ],
             [
              0.5555555555555556,
              "#d8576b"
             ],
             [
              0.6666666666666666,
              "#ed7953"
             ],
             [
              0.7777777777777778,
              "#fb9f3a"
             ],
             [
              0.8888888888888888,
              "#fdca26"
             ],
             [
              1,
              "#f0f921"
             ]
            ],
            "type": "histogram2d"
           }
          ],
          "histogram2dcontour": [
           {
            "colorbar": {
             "outlinewidth": 0,
             "ticks": ""
            },
            "colorscale": [
             [
              0,
              "#0d0887"
             ],
             [
              0.1111111111111111,
              "#46039f"
             ],
             [
              0.2222222222222222,
              "#7201a8"
             ],
             [
              0.3333333333333333,
              "#9c179e"
             ],
             [
              0.4444444444444444,
              "#bd3786"
             ],
             [
              0.5555555555555556,
              "#d8576b"
             ],
             [
              0.6666666666666666,
              "#ed7953"
             ],
             [
              0.7777777777777778,
              "#fb9f3a"
             ],
             [
              0.8888888888888888,
              "#fdca26"
             ],
             [
              1,
              "#f0f921"
             ]
            ],
            "type": "histogram2dcontour"
           }
          ],
          "mesh3d": [
           {
            "colorbar": {
             "outlinewidth": 0,
             "ticks": ""
            },
            "type": "mesh3d"
           }
          ],
          "parcoords": [
           {
            "line": {
             "colorbar": {
              "outlinewidth": 0,
              "ticks": ""
             }
            },
            "type": "parcoords"
           }
          ],
          "pie": [
           {
            "automargin": true,
            "type": "pie"
           }
          ],
          "scatter": [
           {
            "fillpattern": {
             "fillmode": "overlay",
             "size": 10,
             "solidity": 0.2
            },
            "type": "scatter"
           }
          ],
          "scatter3d": [
           {
            "line": {
             "colorbar": {
              "outlinewidth": 0,
              "ticks": ""
             }
            },
            "marker": {
             "colorbar": {
              "outlinewidth": 0,
              "ticks": ""
             }
            },
            "type": "scatter3d"
           }
          ],
          "scattercarpet": [
           {
            "marker": {
             "colorbar": {
              "outlinewidth": 0,
              "ticks": ""
             }
            },
            "type": "scattercarpet"
           }
          ],
          "scattergeo": [
           {
            "marker": {
             "colorbar": {
              "outlinewidth": 0,
              "ticks": ""
             }
            },
            "type": "scattergeo"
           }
          ],
          "scattergl": [
           {
            "marker": {
             "colorbar": {
              "outlinewidth": 0,
              "ticks": ""
             }
            },
            "type": "scattergl"
           }
          ],
          "scattermapbox": [
           {
            "marker": {
             "colorbar": {
              "outlinewidth": 0,
              "ticks": ""
             }
            },
            "type": "scattermapbox"
           }
          ],
          "scatterpolar": [
           {
            "marker": {
             "colorbar": {
              "outlinewidth": 0,
              "ticks": ""
             }
            },
            "type": "scatterpolar"
           }
          ],
          "scatterpolargl": [
           {
            "marker": {
             "colorbar": {
              "outlinewidth": 0,
              "ticks": ""
             }
            },
            "type": "scatterpolargl"
           }
          ],
          "scatterternary": [
           {
            "marker": {
             "colorbar": {
              "outlinewidth": 0,
              "ticks": ""
             }
            },
            "type": "scatterternary"
           }
          ],
          "surface": [
           {
            "colorbar": {
             "outlinewidth": 0,
             "ticks": ""
            },
            "colorscale": [
             [
              0,
              "#0d0887"
             ],
             [
              0.1111111111111111,
              "#46039f"
             ],
             [
              0.2222222222222222,
              "#7201a8"
             ],
             [
              0.3333333333333333,
              "#9c179e"
             ],
             [
              0.4444444444444444,
              "#bd3786"
             ],
             [
              0.5555555555555556,
              "#d8576b"
             ],
             [
              0.6666666666666666,
              "#ed7953"
             ],
             [
              0.7777777777777778,
              "#fb9f3a"
             ],
             [
              0.8888888888888888,
              "#fdca26"
             ],
             [
              1,
              "#f0f921"
             ]
            ],
            "type": "surface"
           }
          ],
          "table": [
           {
            "cells": {
             "fill": {
              "color": "#EBF0F8"
             },
             "line": {
              "color": "white"
             }
            },
            "header": {
             "fill": {
              "color": "#C8D4E3"
             },
             "line": {
              "color": "white"
             }
            },
            "type": "table"
           }
          ]
         },
         "layout": {
          "annotationdefaults": {
           "arrowcolor": "#2a3f5f",
           "arrowhead": 0,
           "arrowwidth": 1
          },
          "autotypenumbers": "strict",
          "coloraxis": {
           "colorbar": {
            "outlinewidth": 0,
            "ticks": ""
           }
          },
          "colorscale": {
           "diverging": [
            [
             0,
             "#8e0152"
            ],
            [
             0.1,
             "#c51b7d"
            ],
            [
             0.2,
             "#de77ae"
            ],
            [
             0.3,
             "#f1b6da"
            ],
            [
             0.4,
             "#fde0ef"
            ],
            [
             0.5,
             "#f7f7f7"
            ],
            [
             0.6,
             "#e6f5d0"
            ],
            [
             0.7,
             "#b8e186"
            ],
            [
             0.8,
             "#7fbc41"
            ],
            [
             0.9,
             "#4d9221"
            ],
            [
             1,
             "#276419"
            ]
           ],
           "sequential": [
            [
             0,
             "#0d0887"
            ],
            [
             0.1111111111111111,
             "#46039f"
            ],
            [
             0.2222222222222222,
             "#7201a8"
            ],
            [
             0.3333333333333333,
             "#9c179e"
            ],
            [
             0.4444444444444444,
             "#bd3786"
            ],
            [
             0.5555555555555556,
             "#d8576b"
            ],
            [
             0.6666666666666666,
             "#ed7953"
            ],
            [
             0.7777777777777778,
             "#fb9f3a"
            ],
            [
             0.8888888888888888,
             "#fdca26"
            ],
            [
             1,
             "#f0f921"
            ]
           ],
           "sequentialminus": [
            [
             0,
             "#0d0887"
            ],
            [
             0.1111111111111111,
             "#46039f"
            ],
            [
             0.2222222222222222,
             "#7201a8"
            ],
            [
             0.3333333333333333,
             "#9c179e"
            ],
            [
             0.4444444444444444,
             "#bd3786"
            ],
            [
             0.5555555555555556,
             "#d8576b"
            ],
            [
             0.6666666666666666,
             "#ed7953"
            ],
            [
             0.7777777777777778,
             "#fb9f3a"
            ],
            [
             0.8888888888888888,
             "#fdca26"
            ],
            [
             1,
             "#f0f921"
            ]
           ]
          },
          "colorway": [
           "#636efa",
           "#EF553B",
           "#00cc96",
           "#ab63fa",
           "#FFA15A",
           "#19d3f3",
           "#FF6692",
           "#B6E880",
           "#FF97FF",
           "#FECB52"
          ],
          "font": {
           "color": "#2a3f5f"
          },
          "geo": {
           "bgcolor": "white",
           "lakecolor": "white",
           "landcolor": "#E5ECF6",
           "showlakes": true,
           "showland": true,
           "subunitcolor": "white"
          },
          "hoverlabel": {
           "align": "left"
          },
          "hovermode": "closest",
          "mapbox": {
           "style": "light"
          },
          "paper_bgcolor": "white",
          "plot_bgcolor": "#E5ECF6",
          "polar": {
           "angularaxis": {
            "gridcolor": "white",
            "linecolor": "white",
            "ticks": ""
           },
           "bgcolor": "#E5ECF6",
           "radialaxis": {
            "gridcolor": "white",
            "linecolor": "white",
            "ticks": ""
           }
          },
          "scene": {
           "xaxis": {
            "backgroundcolor": "#E5ECF6",
            "gridcolor": "white",
            "gridwidth": 2,
            "linecolor": "white",
            "showbackground": true,
            "ticks": "",
            "zerolinecolor": "white"
           },
           "yaxis": {
            "backgroundcolor": "#E5ECF6",
            "gridcolor": "white",
            "gridwidth": 2,
            "linecolor": "white",
            "showbackground": true,
            "ticks": "",
            "zerolinecolor": "white"
           },
           "zaxis": {
            "backgroundcolor": "#E5ECF6",
            "gridcolor": "white",
            "gridwidth": 2,
            "linecolor": "white",
            "showbackground": true,
            "ticks": "",
            "zerolinecolor": "white"
           }
          },
          "shapedefaults": {
           "line": {
            "color": "#2a3f5f"
           }
          },
          "ternary": {
           "aaxis": {
            "gridcolor": "white",
            "linecolor": "white",
            "ticks": ""
           },
           "baxis": {
            "gridcolor": "white",
            "linecolor": "white",
            "ticks": ""
           },
           "bgcolor": "#E5ECF6",
           "caxis": {
            "gridcolor": "white",
            "linecolor": "white",
            "ticks": ""
           }
          },
          "title": {
           "x": 0.05
          },
          "xaxis": {
           "automargin": true,
           "gridcolor": "white",
           "linecolor": "white",
           "ticks": "",
           "title": {
            "standoff": 15
           },
           "zerolinecolor": "white",
           "zerolinewidth": 2
          },
          "yaxis": {
           "automargin": true,
           "gridcolor": "white",
           "linecolor": "white",
           "ticks": "",
           "title": {
            "standoff": 15
           },
           "zerolinecolor": "white",
           "zerolinewidth": 2
          }
         }
        },
        "title": {
         "text": "Label: Abomasnow"
        },
        "width": 500,
        "xaxis": {
         "anchor": "y",
         "domain": [
          0,
          1
         ],
         "showgrid": false,
         "showticklabels": false,
         "visible": false,
         "zeroline": false
        },
        "yaxis": {
         "anchor": "x",
         "domain": [
          0,
          1
         ],
         "showgrid": false,
         "showticklabels": false,
         "visible": false,
         "zeroline": false
        }
       }
      }
     },
     "metadata": {},
     "output_type": "display_data"
    }
   ],
   "source": [
    "plot_n_images(train_ds, 5, class_names, GAN=True, size=width)\n"
   ]
  },
  {
   "cell_type": "code",
   "execution_count": 18,
   "metadata": {},
   "outputs": [],
   "source": [
    "from keras.layers import Dense, Reshape, Conv2DTranspose, Activation, BatchNormalization, Input, LeakyReLU, Conv2D, BatchNormalization, Flatten, Dropout\n",
    "from keras.models import Model, Sequential\n",
    "\n",
    "\n",
    "def build_encoder(input_shape, latent_dim):\n",
    "    input_layer = Input(shape=input_shape)\n",
    "\n",
    "    x = Conv2D(filters=32, kernel_size=3, strides=2,\n",
    "               padding='same')(input_layer)\n",
    "    x = BatchNormalization()(x)\n",
    "    x = LeakyReLU(alpha=0.2)(x)\n",
    "\n",
    "    x = Conv2D(filters=64, kernel_size=3, strides=2, padding='same')(x)\n",
    "    x = BatchNormalization()(x)\n",
    "    x = LeakyReLU(alpha=0.2)(x)\n",
    "\n",
    "    x = Conv2D(filters=128, kernel_size=3, strides=2, padding='same')(x)\n",
    "    x = BatchNormalization()(x)\n",
    "    x = LeakyReLU(alpha=0.2)(x)\n",
    "\n",
    "    x = Flatten()(x)\n",
    "    x = Dense(units=latent_dim)(x)\n",
    "\n",
    "    output_layer = x\n",
    "\n",
    "    model = Model(inputs=input_layer, outputs=output_layer)\n",
    "\n",
    "    return model\n",
    "\n",
    "\n",
    "def build_generator(latent_dim):\n",
    "    inputs = Input(shape=(latent_dim,))\n",
    "    x = Dense(12*12*256)(inputs)\n",
    "    x = Reshape((12, 12, 256))(x)\n",
    "    x = Conv2DTranspose(128, kernel_size=5, strides=2, padding='same')(x)\n",
    "    x = BatchNormalization()(x)\n",
    "    x = LeakyReLU()(x)\n",
    "    x = Conv2DTranspose(64, kernel_size=5, strides=2, padding='same')(x)\n",
    "    x = BatchNormalization()(x)\n",
    "    x = LeakyReLU()(x)\n",
    "    x = Conv2DTranspose(3, kernel_size=5, strides=2, padding='same')(x)\n",
    "    outputs = Activation('tanh')(x)\n",
    "    generator = Model(inputs=inputs, outputs=outputs, name='generator')\n",
    "    return generator\n",
    "\n",
    "\n",
    "def build_discriminator_image(input_shape):\n",
    "    model = Sequential()\n",
    "    model.add(Conv2D(64, (5, 5), strides=(2, 2),\n",
    "              padding='same', input_shape=input_shape))\n",
    "    model.add(LeakyReLU(alpha=0.2))\n",
    "    model.add(Dropout(0.4))\n",
    "\n",
    "    model.add(Conv2D(128, (5, 5), strides=(2, 2), padding='same'))\n",
    "    model.add(LeakyReLU(alpha=0.2))\n",
    "    model.add(Dropout(0.4))\n",
    "\n",
    "    model.add(Conv2D(256, (5, 5), strides=(2, 2), padding='same'))\n",
    "    model.add(LeakyReLU(alpha=0.2))\n",
    "    model.add(Dropout(0.4))\n",
    "\n",
    "    model.add(Conv2D(512, (5, 5), strides=(2, 2), padding='same'))\n",
    "    model.add(LeakyReLU(alpha=0.2))\n",
    "    model.add(Dropout(0.4))\n",
    "\n",
    "    model.add(Flatten())\n",
    "    model.add(Dense(1, activation='sigmoid'))\n",
    "\n",
    "    return model\n",
    "\n",
    "\n",
    "def build_discriminator_latent(input_shape):\n",
    "    model = Sequential()\n",
    "    model.add(Dense(256, input_shape=input_shape))\n",
    "    model.add(LeakyReLU(alpha=0.2))\n",
    "    model.add(Dropout(0.4))\n",
    "    model.add(Dense(256))\n",
    "    model.add(LeakyReLU(alpha=0.2))\n",
    "    model.add(Dropout(0.4))\n",
    "    model.add(Dense(256))\n",
    "    model.add(LeakyReLU(alpha=0.2))\n",
    "    model.add(Dropout(0.4))\n",
    "    model.add(Dense(1, activation='sigmoid'))\n",
    "    return model\n"
   ]
  },
  {
   "cell_type": "code",
   "execution_count": 19,
   "metadata": {},
   "outputs": [],
   "source": [
    "encoder = build_encoder(input_shape, latent_dim)\n",
    "generator = build_generator(latent_dim)\n",
    "discriminator_image = build_discriminator_image(input_shape)\n",
    "discriminator_latent = build_discriminator_latent((latent_dim,))\n"
   ]
  },
  {
   "cell_type": "code",
   "execution_count": 24,
   "metadata": {},
   "outputs": [],
   "source": [
    "class AEGAN():\n",
    "    def __init__(self, encoder, generator, discriminator_image, discriminator_latent, latent_dim, input_shape):\n",
    "        self.encoder = encoder\n",
    "        self.generator = generator\n",
    "        self.discriminator_image = discriminator_image\n",
    "        self.discriminator_latent = discriminator_latent\n",
    "        self.latent_dim = latent_dim\n",
    "        self.input_shape = input_shape\n",
    "\n",
    "        self.discriminator_image.compile(\n",
    "            loss='binary_crossentropy', optimizer='adam', metrics=['accuracy'])\n",
    "        self.discriminator_latent.compile(\n",
    "            loss='binary_crossentropy', optimizer='adam', metrics=['accuracy'])\n",
    "\n",
    "        self.encoder.trainable = False\n",
    "        self.generator.trainable = False\n",
    "\n",
    "        z = Input(shape=(self.latent_dim,))\n",
    "        fake_image = self.generator(z)\n",
    "        fake_latent = self.encoder(fake_image)\n",
    "        valid_image = self.discriminator_image(fake_image)\n",
    "        valid_latent = self.discriminator_latent(fake_latent)\n",
    "\n",
    "        self.combined = Model(z, [valid_image, valid_latent])\n",
    "        self.combined.compile(\n",
    "            loss=['binary_crossentropy', 'binary_crossentropy'], optimizer='adam')\n",
    "\n",
    "    def train(self, epochs, batch_size, train_ds):\n",
    "        for epoch in range(epochs):\n",
    "            for x, y in train_ds:\n",
    "                batch_size = x.shape[0]\n",
    "                # Train Discriminator\n",
    "                # Train on real images\n",
    "                real_image = x\n",
    "                real_latent = self.encoder.predict(real_image, verbose=0)\n",
    "                d_loss_real_image = self.discriminator_image.train_on_batch(\n",
    "                    real_image, np.ones((batch_size, 1)))\n",
    "                d_loss_real_latent = self.discriminator_latent.train_on_batch(\n",
    "                    real_latent, np.ones((batch_size, 1)))\n",
    "                # Train on fake images\n",
    "                latent = np.random.normal(0, 1, (batch_size, self.latent_dim))\n",
    "                fake_image = self.generator.predict(latent, verbose=0)\n",
    "                fake_latent = self.encoder.predict(fake_image, verbose=0)\n",
    "                d_loss_fake_image = self.discriminator_image.train_on_batch(\n",
    "                    fake_image, np.zeros((batch_size, 1)))\n",
    "                d_loss_fake_latent = self.discriminator_latent.train_on_batch(\n",
    "                    fake_latent, np.ones((batch_size, 1)))\n",
    "                # Train Generator\n",
    "                latent = np.random.normal(0, 1, (batch_size, self.latent_dim))\n",
    "                g_loss = self.combined.train_on_batch(\n",
    "                    latent, [np.ones((batch_size, 1)), np.ones((batch_size, 1))])\n",
    "                print(\n",
    "                    f'Epoch: {epoch+1}/{epochs}, d_loss_real_image: {d_loss_real_image[0]:.2f}, d_loss_real_latent: {d_loss_real_latent[0]:.2f}, d_loss_fake_image: {d_loss_fake_image[0]:.2f}, d_loss_fake_latent: {d_loss_fake_latent[0]:.2f}, g_loss: {g_loss[0]:.2f}')\n",
    "            if epoch % 1 == 0:\n",
    "                self.save_images(epoch)\n",
    "                self.save_model()\n",
    "\n",
    "    def save_images(self, epoch):\n",
    "        r, c = 5, 5\n",
    "        latent = np.random.normal(0, 1, (r * c, self.latent_dim))\n",
    "        gen_imgs = self.generator.predict(latent)\n",
    "        gen_imgs = 0.5 * gen_imgs + 0.5\n",
    "        fig, axs = plt.subplots(r, c)\n",
    "        cnt = 0\n",
    "        for i in range(r):\n",
    "            for j in range(c):\n",
    "                axs[i, j].imshow(gen_imgs[cnt])\n",
    "                axs[i, j].axis('off')\n",
    "                cnt += 1\n",
    "        fig.savefig(f\"v1/images/{epoch}.png\")\n",
    "        plt.close()\n",
    "\n",
    "    def save_model(self):\n",
    "        self.encoder.save('v1/encoder.h5')\n",
    "        self.generator.save('v1/generator.h5')\n",
    "        self.discriminator_image.save('v1/discriminator_image.h5')\n",
    "        self.discriminator_latent.save('v1/discriminator_latent.h5')\n",
    "\n",
    "\n",
    "aegan = AEGAN(encoder, generator, discriminator_image,\n",
    "              discriminator_latent, latent_dim, input_shape)\n"
   ]
  },
  {
   "cell_type": "code",
   "execution_count": 25,
   "metadata": {},
   "outputs": [
    {
     "name": "stdout",
     "output_type": "stream",
     "text": [
      "WARNING:tensorflow:6 out of the last 10 calls to <function Model.make_train_function.<locals>.train_function at 0x00000269810A8E50> triggered tf.function retracing. Tracing is expensive and the excessive number of tracings could be due to (1) creating @tf.function repeatedly in a loop, (2) passing tensors with different shapes, (3) passing Python objects instead of tensors. For (1), please define your @tf.function outside of the loop. For (2), @tf.function has reduce_retracing=True option that can avoid unnecessary retracing. For (3), please refer to https://www.tensorflow.org/guide/function#controlling_retracing and https://www.tensorflow.org/api_docs/python/tf/function for  more details.\n",
      "Epoch: 1/10, d_loss_real_image: 1.56, d_loss_real_latent: 0.28, d_loss_fake_image: 0.68, d_loss_fake_latent: 0.59, g_loss: 1.52\n",
      "Epoch: 1/10, d_loss_real_image: 0.94, d_loss_real_latent: 0.08, d_loss_fake_image: 0.82, d_loss_fake_latent: 0.48, g_loss: 1.05\n",
      "Epoch: 1/10, d_loss_real_image: 0.00, d_loss_real_latent: 0.01, d_loss_fake_image: 1.05, d_loss_fake_latent: 0.35, g_loss: 0.93\n",
      "Epoch: 1/10, d_loss_real_image: 0.00, d_loss_real_latent: 0.00, d_loss_fake_image: 1.14, d_loss_fake_latent: 0.23, g_loss: 0.89\n",
      "Epoch: 1/10, d_loss_real_image: 0.00, d_loss_real_latent: 0.00, d_loss_fake_image: 1.02, d_loss_fake_latent: 0.12, g_loss: 0.88\n",
      "Epoch: 1/10, d_loss_real_image: 0.00, d_loss_real_latent: 0.00, d_loss_fake_image: 0.78, d_loss_fake_latent: 0.05, g_loss: 0.83\n",
      "Epoch: 1/10, d_loss_real_image: 0.00, d_loss_real_latent: 0.00, d_loss_fake_image: 0.78, d_loss_fake_latent: 0.02, g_loss: 0.78\n",
      "Epoch: 1/10, d_loss_real_image: 0.00, d_loss_real_latent: 0.00, d_loss_fake_image: 0.79, d_loss_fake_latent: 0.01, g_loss: 0.72\n",
      "Epoch: 1/10, d_loss_real_image: 5.41, d_loss_real_latent: 0.00, d_loss_fake_image: 0.98, d_loss_fake_latent: 0.00, g_loss: 0.57\n",
      "Epoch: 1/10, d_loss_real_image: 0.00, d_loss_real_latent: 0.00, d_loss_fake_image: 2.08, d_loss_fake_latent: 0.00, g_loss: 0.58\n",
      "Epoch: 1/10, d_loss_real_image: 0.00, d_loss_real_latent: 0.00, d_loss_fake_image: 2.39, d_loss_fake_latent: 0.00, g_loss: 0.88\n",
      "Epoch: 1/10, d_loss_real_image: 0.00, d_loss_real_latent: 0.00, d_loss_fake_image: 1.32, d_loss_fake_latent: 0.00, g_loss: 1.34\n",
      "Epoch: 1/10, d_loss_real_image: 0.00, d_loss_real_latent: 0.00, d_loss_fake_image: 0.74, d_loss_fake_latent: 0.00, g_loss: 1.48\n",
      "Epoch: 1/10, d_loss_real_image: 0.00, d_loss_real_latent: 0.00, d_loss_fake_image: 0.81, d_loss_fake_latent: 0.00, g_loss: 0.86\n",
      "Epoch: 1/10, d_loss_real_image: 0.00, d_loss_real_latent: 0.00, d_loss_fake_image: 1.39, d_loss_fake_latent: 0.00, g_loss: 0.34\n",
      "Epoch: 1/10, d_loss_real_image: 0.00, d_loss_real_latent: 0.00, d_loss_fake_image: 2.21, d_loss_fake_latent: 0.00, g_loss: 0.20\n",
      "Epoch: 1/10, d_loss_real_image: 0.00, d_loss_real_latent: 0.00, d_loss_fake_image: 2.09, d_loss_fake_latent: 0.00, g_loss: 0.30\n",
      "Epoch: 1/10, d_loss_real_image: 0.00, d_loss_real_latent: 0.00, d_loss_fake_image: 1.54, d_loss_fake_latent: 0.00, g_loss: 0.42\n",
      "Epoch: 1/10, d_loss_real_image: 2.19, d_loss_real_latent: 0.00, d_loss_fake_image: 1.27, d_loss_fake_latent: 0.00, g_loss: 0.49\n",
      "Epoch: 1/10, d_loss_real_image: 0.00, d_loss_real_latent: 0.00, d_loss_fake_image: 1.13, d_loss_fake_latent: 0.00, g_loss: 0.54\n",
      "Epoch: 1/10, d_loss_real_image: 0.00, d_loss_real_latent: 0.00, d_loss_fake_image: 1.35, d_loss_fake_latent: 0.00, g_loss: 0.45\n",
      "Epoch: 1/10, d_loss_real_image: 0.00, d_loss_real_latent: 0.00, d_loss_fake_image: 2.18, d_loss_fake_latent: 0.00, g_loss: 0.35\n",
      "Epoch: 1/10, d_loss_real_image: 0.00, d_loss_real_latent: 0.00, d_loss_fake_image: 2.80, d_loss_fake_latent: 0.00, g_loss: 0.23\n",
      "Epoch: 1/10, d_loss_real_image: 0.00, d_loss_real_latent: 0.00, d_loss_fake_image: 3.43, d_loss_fake_latent: 0.00, g_loss: 0.10\n",
      "Epoch: 1/10, d_loss_real_image: 0.00, d_loss_real_latent: 0.00, d_loss_fake_image: 3.98, d_loss_fake_latent: 0.00, g_loss: 0.16\n",
      "Epoch: 1/10, d_loss_real_image: 0.00, d_loss_real_latent: 0.00, d_loss_fake_image: 2.79, d_loss_fake_latent: 0.00, g_loss: 0.49\n",
      "Epoch: 1/10, d_loss_real_image: 0.00, d_loss_real_latent: 0.00, d_loss_fake_image: 2.42, d_loss_fake_latent: 0.00, g_loss: 0.91\n",
      "Epoch: 1/10, d_loss_real_image: 0.00, d_loss_real_latent: 0.00, d_loss_fake_image: 1.31, d_loss_fake_latent: 0.00, g_loss: 1.20\n",
      "Epoch: 1/10, d_loss_real_image: 0.00, d_loss_real_latent: 0.00, d_loss_fake_image: 0.97, d_loss_fake_latent: 0.00, g_loss: 1.17\n",
      "Epoch: 1/10, d_loss_real_image: 0.00, d_loss_real_latent: 0.00, d_loss_fake_image: 1.07, d_loss_fake_latent: 0.00, g_loss: 1.17\n",
      "Epoch: 1/10, d_loss_real_image: 369.26, d_loss_real_latent: 0.00, d_loss_fake_image: 1.37, d_loss_fake_latent: 0.00, g_loss: 0.60\n",
      "Epoch: 1/10, d_loss_real_image: 0.00, d_loss_real_latent: 0.00, d_loss_fake_image: 5.04, d_loss_fake_latent: 0.00, g_loss: 0.56\n",
      "Epoch: 1/10, d_loss_real_image: 0.00, d_loss_real_latent: 0.00, d_loss_fake_image: 2.93, d_loss_fake_latent: 0.00, g_loss: 0.86\n",
      "Epoch: 1/10, d_loss_real_image: 0.00, d_loss_real_latent: 0.00, d_loss_fake_image: 1.72, d_loss_fake_latent: 0.00, g_loss: 1.84\n",
      "Epoch: 1/10, d_loss_real_image: 0.00, d_loss_real_latent: 0.00, d_loss_fake_image: 3.22, d_loss_fake_latent: 0.00, g_loss: 0.23\n",
      "Epoch: 1/10, d_loss_real_image: 0.00, d_loss_real_latent: 0.00, d_loss_fake_image: 5.34, d_loss_fake_latent: 0.00, g_loss: 0.02\n",
      "Epoch: 1/10, d_loss_real_image: 0.00, d_loss_real_latent: 0.00, d_loss_fake_image: 5.23, d_loss_fake_latent: 0.00, g_loss: 0.03\n",
      "Epoch: 1/10, d_loss_real_image: 0.00, d_loss_real_latent: 0.00, d_loss_fake_image: 5.52, d_loss_fake_latent: 0.00, g_loss: 0.07\n",
      "Epoch: 1/10, d_loss_real_image: 0.00, d_loss_real_latent: 0.00, d_loss_fake_image: 3.13, d_loss_fake_latent: 0.00, g_loss: 0.11\n",
      "Epoch: 1/10, d_loss_real_image: 0.00, d_loss_real_latent: 0.00, d_loss_fake_image: 2.33, d_loss_fake_latent: 0.00, g_loss: 0.40\n",
      "Epoch: 1/10, d_loss_real_image: 0.00, d_loss_real_latent: 0.00, d_loss_fake_image: 3.26, d_loss_fake_latent: 0.00, g_loss: 1.23\n",
      "Epoch: 1/10, d_loss_real_image: 0.00, d_loss_real_latent: 0.00, d_loss_fake_image: 2.84, d_loss_fake_latent: 0.00, g_loss: 0.67\n",
      "Epoch: 1/10, d_loss_real_image: 0.00, d_loss_real_latent: 0.00, d_loss_fake_image: 11.57, d_loss_fake_latent: 0.00, g_loss: 0.00\n",
      "Epoch: 1/10, d_loss_real_image: 0.00, d_loss_real_latent: 0.00, d_loss_fake_image: 15.36, d_loss_fake_latent: 0.00, g_loss: 0.00\n",
      "Epoch: 1/10, d_loss_real_image: 0.00, d_loss_real_latent: 0.00, d_loss_fake_image: 8.67, d_loss_fake_latent: 0.00, g_loss: 0.02\n",
      "Epoch: 1/10, d_loss_real_image: 0.00, d_loss_real_latent: 0.00, d_loss_fake_image: 5.28, d_loss_fake_latent: 0.00, g_loss: 0.00\n",
      "Epoch: 1/10, d_loss_real_image: 0.00, d_loss_real_latent: 0.00, d_loss_fake_image: 10.53, d_loss_fake_latent: 0.00, g_loss: 0.02\n",
      "Epoch: 1/10, d_loss_real_image: 0.00, d_loss_real_latent: 0.00, d_loss_fake_image: 2.05, d_loss_fake_latent: 0.00, g_loss: 0.33\n",
      "Epoch: 1/10, d_loss_real_image: 0.00, d_loss_real_latent: 0.00, d_loss_fake_image: 6.82, d_loss_fake_latent: 0.00, g_loss: 0.01\n",
      "Epoch: 1/10, d_loss_real_image: 0.00, d_loss_real_latent: 0.00, d_loss_fake_image: 9.57, d_loss_fake_latent: 0.00, g_loss: 0.02\n",
      "Epoch: 1/10, d_loss_real_image: 0.00, d_loss_real_latent: 0.00, d_loss_fake_image: 7.07, d_loss_fake_latent: 0.00, g_loss: 1.39\n",
      "Epoch: 1/10, d_loss_real_image: 0.00, d_loss_real_latent: 0.00, d_loss_fake_image: 21.24, d_loss_fake_latent: 0.00, g_loss: 0.01\n",
      "Epoch: 1/10, d_loss_real_image: 0.00, d_loss_real_latent: 0.00, d_loss_fake_image: 9.77, d_loss_fake_latent: 0.00, g_loss: 1.95\n",
      "Epoch: 1/10, d_loss_real_image: 0.00, d_loss_real_latent: 0.00, d_loss_fake_image: 1.24, d_loss_fake_latent: 0.00, g_loss: 0.07\n",
      "Epoch: 1/10, d_loss_real_image: 0.00, d_loss_real_latent: 0.00, d_loss_fake_image: 3.68, d_loss_fake_latent: 0.00, g_loss: 0.02\n",
      "Epoch: 1/10, d_loss_real_image: 0.00, d_loss_real_latent: 0.00, d_loss_fake_image: 1.78, d_loss_fake_latent: 0.00, g_loss: 0.35\n",
      "Epoch: 1/10, d_loss_real_image: 0.00, d_loss_real_latent: 0.00, d_loss_fake_image: 1.66, d_loss_fake_latent: 0.00, g_loss: 0.59\n",
      "Epoch: 1/10, d_loss_real_image: 0.00, d_loss_real_latent: 0.00, d_loss_fake_image: 4.18, d_loss_fake_latent: 0.00, g_loss: 0.13\n",
      "Epoch: 1/10, d_loss_real_image: 0.00, d_loss_real_latent: 0.00, d_loss_fake_image: 6.63, d_loss_fake_latent: 0.00, g_loss: 0.03\n",
      "Epoch: 1/10, d_loss_real_image: 0.00, d_loss_real_latent: 0.00, d_loss_fake_image: 6.99, d_loss_fake_latent: 0.00, g_loss: 0.01\n",
      "Epoch: 1/10, d_loss_real_image: 0.00, d_loss_real_latent: 0.00, d_loss_fake_image: 6.17, d_loss_fake_latent: 0.00, g_loss: 0.05\n",
      "Epoch: 1/10, d_loss_real_image: 0.00, d_loss_real_latent: 0.00, d_loss_fake_image: 4.46, d_loss_fake_latent: 0.00, g_loss: 0.69\n",
      "Epoch: 1/10, d_loss_real_image: 0.00, d_loss_real_latent: 0.00, d_loss_fake_image: 4.86, d_loss_fake_latent: 0.00, g_loss: 1.25\n",
      "Epoch: 1/10, d_loss_real_image: 0.00, d_loss_real_latent: 0.00, d_loss_fake_image: 7.90, d_loss_fake_latent: 0.00, g_loss: 0.35\n",
      "Epoch: 1/10, d_loss_real_image: 0.00, d_loss_real_latent: 0.00, d_loss_fake_image: 10.18, d_loss_fake_latent: 0.00, g_loss: 0.11\n",
      "Epoch: 1/10, d_loss_real_image: 0.00, d_loss_real_latent: 0.00, d_loss_fake_image: 11.17, d_loss_fake_latent: 0.00, g_loss: 0.17\n",
      "Epoch: 1/10, d_loss_real_image: 0.00, d_loss_real_latent: 0.00, d_loss_fake_image: 9.97, d_loss_fake_latent: 0.00, g_loss: 0.59\n",
      "Epoch: 1/10, d_loss_real_image: 0.00, d_loss_real_latent: 0.00, d_loss_fake_image: 9.09, d_loss_fake_latent: 0.00, g_loss: 0.07\n",
      "Epoch: 1/10, d_loss_real_image: 0.00, d_loss_real_latent: 0.00, d_loss_fake_image: 4.78, d_loss_fake_latent: 0.00, g_loss: 0.01\n",
      "Epoch: 1/10, d_loss_real_image: 0.00, d_loss_real_latent: 0.00, d_loss_fake_image: 5.32, d_loss_fake_latent: 0.00, g_loss: 0.07\n",
      "Epoch: 1/10, d_loss_real_image: 0.00, d_loss_real_latent: 0.00, d_loss_fake_image: 3.61, d_loss_fake_latent: 0.00, g_loss: 1.31\n",
      "Epoch: 1/10, d_loss_real_image: 0.00, d_loss_real_latent: 0.00, d_loss_fake_image: 13.43, d_loss_fake_latent: 0.00, g_loss: 0.09\n",
      "Epoch: 1/10, d_loss_real_image: 0.00, d_loss_real_latent: 0.00, d_loss_fake_image: 10.69, d_loss_fake_latent: 0.00, g_loss: 1.02\n",
      "Epoch: 1/10, d_loss_real_image: 0.00, d_loss_real_latent: 0.00, d_loss_fake_image: 22.25, d_loss_fake_latent: 0.00, g_loss: 0.00\n",
      "Epoch: 1/10, d_loss_real_image: 0.00, d_loss_real_latent: 0.00, d_loss_fake_image: 20.86, d_loss_fake_latent: 0.00, g_loss: 0.00\n",
      "Epoch: 1/10, d_loss_real_image: 0.00, d_loss_real_latent: 0.00, d_loss_fake_image: 10.65, d_loss_fake_latent: 0.00, g_loss: 0.00\n",
      "Epoch: 1/10, d_loss_real_image: 0.00, d_loss_real_latent: 0.00, d_loss_fake_image: 11.40, d_loss_fake_latent: 0.00, g_loss: 0.12\n",
      "Epoch: 1/10, d_loss_real_image: 0.00, d_loss_real_latent: 0.00, d_loss_fake_image: 0.27, d_loss_fake_latent: 0.00, g_loss: 5.28\n",
      "Epoch: 1/10, d_loss_real_image: 0.00, d_loss_real_latent: 0.00, d_loss_fake_image: 1.15, d_loss_fake_latent: 0.00, g_loss: 2.54\n",
      "Epoch: 1/10, d_loss_real_image: 0.00, d_loss_real_latent: 0.00, d_loss_fake_image: 13.71, d_loss_fake_latent: 0.00, g_loss: 0.04\n",
      "Epoch: 1/10, d_loss_real_image: 0.00, d_loss_real_latent: 0.00, d_loss_fake_image: 14.35, d_loss_fake_latent: 0.00, g_loss: 0.06\n",
      "Epoch: 1/10, d_loss_real_image: 0.00, d_loss_real_latent: 0.00, d_loss_fake_image: 8.69, d_loss_fake_latent: 0.00, g_loss: 0.18\n",
      "Epoch: 1/10, d_loss_real_image: 0.00, d_loss_real_latent: 0.00, d_loss_fake_image: 7.78, d_loss_fake_latent: 0.00, g_loss: 0.17\n",
      "Epoch: 1/10, d_loss_real_image: 0.00, d_loss_real_latent: 0.00, d_loss_fake_image: 6.84, d_loss_fake_latent: 0.00, g_loss: 0.79\n",
      "Epoch: 1/10, d_loss_real_image: 0.00, d_loss_real_latent: 0.00, d_loss_fake_image: 8.23, d_loss_fake_latent: 0.00, g_loss: 1.21\n",
      "Epoch: 1/10, d_loss_real_image: 0.00, d_loss_real_latent: 0.00, d_loss_fake_image: 10.00, d_loss_fake_latent: 0.00, g_loss: 0.24\n",
      "Epoch: 1/10, d_loss_real_image: 0.00, d_loss_real_latent: 0.00, d_loss_fake_image: 11.17, d_loss_fake_latent: 0.00, g_loss: 0.00\n",
      "Epoch: 1/10, d_loss_real_image: 0.00, d_loss_real_latent: 0.00, d_loss_fake_image: 9.55, d_loss_fake_latent: 0.00, g_loss: 0.19\n",
      "Epoch: 1/10, d_loss_real_image: 0.00, d_loss_real_latent: 0.00, d_loss_fake_image: 4.13, d_loss_fake_latent: 0.00, g_loss: 6.28\n",
      "Epoch: 1/10, d_loss_real_image: 0.00, d_loss_real_latent: 0.00, d_loss_fake_image: 0.47, d_loss_fake_latent: 0.00, g_loss: 7.18\n",
      "Epoch: 1/10, d_loss_real_image: 0.00, d_loss_real_latent: 0.00, d_loss_fake_image: 2.02, d_loss_fake_latent: 0.00, g_loss: 1.25\n",
      "Epoch: 1/10, d_loss_real_image: 0.00, d_loss_real_latent: 0.00, d_loss_fake_image: 19.18, d_loss_fake_latent: 0.00, g_loss: 0.04\n",
      "Epoch: 1/10, d_loss_real_image: 0.00, d_loss_real_latent: 0.00, d_loss_fake_image: 8.33, d_loss_fake_latent: 0.00, g_loss: 0.25\n",
      "Epoch: 1/10, d_loss_real_image: 0.00, d_loss_real_latent: 0.00, d_loss_fake_image: 9.95, d_loss_fake_latent: 0.00, g_loss: 0.27\n",
      "Epoch: 1/10, d_loss_real_image: 0.00, d_loss_real_latent: 0.00, d_loss_fake_image: 9.61, d_loss_fake_latent: 0.00, g_loss: 0.66\n",
      "Epoch: 1/10, d_loss_real_image: 0.00, d_loss_real_latent: 0.00, d_loss_fake_image: 9.55, d_loss_fake_latent: 0.00, g_loss: 1.81\n",
      "Epoch: 1/10, d_loss_real_image: 0.00, d_loss_real_latent: 0.00, d_loss_fake_image: 8.87, d_loss_fake_latent: 0.00, g_loss: 0.49\n",
      "Epoch: 1/10, d_loss_real_image: 264.38, d_loss_real_latent: 0.00, d_loss_fake_image: 8.52, d_loss_fake_latent: 0.00, g_loss: 3.09\n",
      "Epoch: 1/10, d_loss_real_image: 0.00, d_loss_real_latent: 0.00, d_loss_fake_image: 10.44, d_loss_fake_latent: 0.00, g_loss: 6.85\n",
      "Epoch: 1/10, d_loss_real_image: 0.00, d_loss_real_latent: 0.00, d_loss_fake_image: 38.38, d_loss_fake_latent: 0.00, g_loss: 15.15\n",
      "Epoch: 1/10, d_loss_real_image: 0.00, d_loss_real_latent: 0.00, d_loss_fake_image: 22.33, d_loss_fake_latent: 0.00, g_loss: 41.04\n",
      "Epoch: 1/10, d_loss_real_image: 0.00, d_loss_real_latent: 0.00, d_loss_fake_image: 12.67, d_loss_fake_latent: 0.00, g_loss: 58.62\n",
      "Epoch: 1/10, d_loss_real_image: 0.00, d_loss_real_latent: 0.00, d_loss_fake_image: 15.61, d_loss_fake_latent: 0.00, g_loss: 43.27\n",
      "Epoch: 1/10, d_loss_real_image: 0.00, d_loss_real_latent: 0.00, d_loss_fake_image: 24.08, d_loss_fake_latent: 0.00, g_loss: 14.09\n",
      "Epoch: 1/10, d_loss_real_image: 0.00, d_loss_real_latent: 0.00, d_loss_fake_image: 86.63, d_loss_fake_latent: 0.00, g_loss: 0.00\n",
      "Epoch: 1/10, d_loss_real_image: 0.00, d_loss_real_latent: 0.00, d_loss_fake_image: 45.73, d_loss_fake_latent: 0.00, g_loss: 0.00\n",
      "Epoch: 1/10, d_loss_real_image: 0.00, d_loss_real_latent: 0.00, d_loss_fake_image: 34.53, d_loss_fake_latent: 0.00, g_loss: 0.00\n",
      "Epoch: 1/10, d_loss_real_image: 0.00, d_loss_real_latent: 0.00, d_loss_fake_image: 32.05, d_loss_fake_latent: 0.00, g_loss: 0.00\n",
      "Epoch: 1/10, d_loss_real_image: 0.00, d_loss_real_latent: 0.00, d_loss_fake_image: 37.40, d_loss_fake_latent: 0.00, g_loss: 0.00\n",
      "Epoch: 1/10, d_loss_real_image: 0.00, d_loss_real_latent: 0.00, d_loss_fake_image: 23.42, d_loss_fake_latent: 0.00, g_loss: 0.71\n",
      "Epoch: 1/10, d_loss_real_image: 0.00, d_loss_real_latent: 0.00, d_loss_fake_image: 0.01, d_loss_fake_latent: 0.00, g_loss: 16.91\n",
      "Epoch: 1/10, d_loss_real_image: 0.00, d_loss_real_latent: 0.00, d_loss_fake_image: 42.22, d_loss_fake_latent: 0.00, g_loss: 0.00\n",
      "Epoch: 1/10, d_loss_real_image: 0.00, d_loss_real_latent: 0.00, d_loss_fake_image: 50.00, d_loss_fake_latent: 0.00, g_loss: 0.00\n",
      "Epoch: 1/10, d_loss_real_image: 0.00, d_loss_real_latent: 0.00, d_loss_fake_image: 30.77, d_loss_fake_latent: 0.00, g_loss: 0.28\n",
      "Epoch: 1/10, d_loss_real_image: 0.00, d_loss_real_latent: 0.00, d_loss_fake_image: 15.82, d_loss_fake_latent: 0.00, g_loss: 0.00\n",
      "Epoch: 1/10, d_loss_real_image: 0.00, d_loss_real_latent: 0.00, d_loss_fake_image: 11.44, d_loss_fake_latent: 0.00, g_loss: 10.62\n",
      "Epoch: 1/10, d_loss_real_image: 0.00, d_loss_real_latent: 0.00, d_loss_fake_image: 54.55, d_loss_fake_latent: 0.00, g_loss: 0.00\n",
      "Epoch: 1/10, d_loss_real_image: 0.00, d_loss_real_latent: 0.00, d_loss_fake_image: 60.80, d_loss_fake_latent: 0.00, g_loss: 3.62\n",
      "Epoch: 1/10, d_loss_real_image: 0.00, d_loss_real_latent: 0.00, d_loss_fake_image: 110.09, d_loss_fake_latent: 0.00, g_loss: 0.00\n",
      "Epoch: 1/10, d_loss_real_image: 0.00, d_loss_real_latent: 0.00, d_loss_fake_image: 90.37, d_loss_fake_latent: 0.00, g_loss: 0.01\n",
      "Epoch: 1/10, d_loss_real_image: 0.00, d_loss_real_latent: 0.00, d_loss_fake_image: 30.69, d_loss_fake_latent: 0.00, g_loss: 8.71\n",
      "Epoch: 1/10, d_loss_real_image: 0.00, d_loss_real_latent: 0.00, d_loss_fake_image: 94.38, d_loss_fake_latent: 0.00, g_loss: 0.00\n",
      "Epoch: 1/10, d_loss_real_image: 0.00, d_loss_real_latent: 0.00, d_loss_fake_image: 42.26, d_loss_fake_latent: 0.00, g_loss: 0.00\n",
      "Epoch: 1/10, d_loss_real_image: 0.00, d_loss_real_latent: 0.00, d_loss_fake_image: 20.40, d_loss_fake_latent: 0.00, g_loss: 7.60\n",
      "Epoch: 1/10, d_loss_real_image: 0.00, d_loss_real_latent: 0.00, d_loss_fake_image: 59.84, d_loss_fake_latent: 0.00, g_loss: 0.00\n",
      "Epoch: 1/10, d_loss_real_image: 0.00, d_loss_real_latent: 0.00, d_loss_fake_image: 65.01, d_loss_fake_latent: 0.00, g_loss: 0.60\n",
      "Epoch: 1/10, d_loss_real_image: 0.00, d_loss_real_latent: 0.00, d_loss_fake_image: 30.85, d_loss_fake_latent: 0.00, g_loss: 0.00\n",
      "Epoch: 1/10, d_loss_real_image: 0.00, d_loss_real_latent: 0.00, d_loss_fake_image: 59.73, d_loss_fake_latent: 0.00, g_loss: 29.27\n",
      "Epoch: 1/10, d_loss_real_image: 0.00, d_loss_real_latent: 0.00, d_loss_fake_image: 8.68, d_loss_fake_latent: 0.00, g_loss: 25.98\n",
      "Epoch: 1/10, d_loss_real_image: 0.00, d_loss_real_latent: 0.00, d_loss_fake_image: 61.82, d_loss_fake_latent: 0.00, g_loss: 0.20\n",
      "Epoch: 1/10, d_loss_real_image: 0.00, d_loss_real_latent: 0.00, d_loss_fake_image: 71.23, d_loss_fake_latent: 0.00, g_loss: 9.47\n",
      "Epoch: 1/10, d_loss_real_image: 0.00, d_loss_real_latent: 0.00, d_loss_fake_image: 83.80, d_loss_fake_latent: 0.00, g_loss: 25.55\n",
      "Epoch: 1/10, d_loss_real_image: 0.00, d_loss_real_latent: 0.00, d_loss_fake_image: 90.68, d_loss_fake_latent: 0.00, g_loss: 39.03\n",
      "Epoch: 1/10, d_loss_real_image: 5649.50, d_loss_real_latent: 0.00, d_loss_fake_image: 61.79, d_loss_fake_latent: 0.00, g_loss: 40.79\n",
      "Epoch: 1/10, d_loss_real_image: 0.00, d_loss_real_latent: 0.00, d_loss_fake_image: 36.78, d_loss_fake_latent: 0.00, g_loss: 45.25\n",
      "Epoch: 1/10, d_loss_real_image: 0.00, d_loss_real_latent: 0.00, d_loss_fake_image: 47.90, d_loss_fake_latent: 0.00, g_loss: 38.55\n",
      "Epoch: 1/10, d_loss_real_image: 0.00, d_loss_real_latent: 0.00, d_loss_fake_image: 111.94, d_loss_fake_latent: 0.00, g_loss: 15.45\n",
      "Epoch: 1/10, d_loss_real_image: 0.00, d_loss_real_latent: 0.00, d_loss_fake_image: 178.51, d_loss_fake_latent: 0.00, g_loss: 7.48\n",
      "Epoch: 1/10, d_loss_real_image: 0.00, d_loss_real_latent: 0.00, d_loss_fake_image: 149.08, d_loss_fake_latent: 0.00, g_loss: 0.00\n",
      "Epoch: 1/10, d_loss_real_image: 0.00, d_loss_real_latent: 0.00, d_loss_fake_image: 169.08, d_loss_fake_latent: 0.00, g_loss: 0.00\n",
      "Epoch: 1/10, d_loss_real_image: 0.00, d_loss_real_latent: 0.00, d_loss_fake_image: 173.95, d_loss_fake_latent: 0.00, g_loss: 0.00\n",
      "Epoch: 1/10, d_loss_real_image: 0.00, d_loss_real_latent: 0.00, d_loss_fake_image: 147.45, d_loss_fake_latent: 0.00, g_loss: 0.00\n",
      "Epoch: 1/10, d_loss_real_image: 0.00, d_loss_real_latent: 0.00, d_loss_fake_image: 173.79, d_loss_fake_latent: 0.00, g_loss: 0.00\n",
      "Epoch: 1/10, d_loss_real_image: 0.00, d_loss_real_latent: 0.00, d_loss_fake_image: 99.59, d_loss_fake_latent: 0.00, g_loss: 3.10\n",
      "Epoch: 1/10, d_loss_real_image: 0.00, d_loss_real_latent: 0.00, d_loss_fake_image: 283.73, d_loss_fake_latent: 0.00, g_loss: 0.00\n",
      "Epoch: 1/10, d_loss_real_image: 0.00, d_loss_real_latent: 0.00, d_loss_fake_image: 270.50, d_loss_fake_latent: 0.00, g_loss: 5.30\n",
      "Epoch: 1/10, d_loss_real_image: 0.00, d_loss_real_latent: 0.00, d_loss_fake_image: 431.77, d_loss_fake_latent: 0.00, g_loss: 0.00\n",
      "Epoch: 1/10, d_loss_real_image: 0.00, d_loss_real_latent: 0.00, d_loss_fake_image: 266.47, d_loss_fake_latent: 0.00, g_loss: 83.39\n",
      "Epoch: 1/10, d_loss_real_image: 0.00, d_loss_real_latent: 0.00, d_loss_fake_image: 193.82, d_loss_fake_latent: 0.00, g_loss: 113.42\n",
      "Epoch: 1/10, d_loss_real_image: 0.00, d_loss_real_latent: 0.00, d_loss_fake_image: 149.80, d_loss_fake_latent: 0.00, g_loss: 64.75\n",
      "Epoch: 1/10, d_loss_real_image: 0.00, d_loss_real_latent: 0.00, d_loss_fake_image: 1264.73, d_loss_fake_latent: 0.00, g_loss: 0.00\n",
      "Epoch: 1/10, d_loss_real_image: 0.00, d_loss_real_latent: 0.00, d_loss_fake_image: 745.92, d_loss_fake_latent: 0.00, g_loss: 0.00\n",
      "Epoch: 1/10, d_loss_real_image: 0.00, d_loss_real_latent: 0.00, d_loss_fake_image: 269.52, d_loss_fake_latent: 0.00, g_loss: 0.00\n",
      "Epoch: 1/10, d_loss_real_image: 0.00, d_loss_real_latent: 0.00, d_loss_fake_image: 438.21, d_loss_fake_latent: 0.00, g_loss: 0.00\n",
      "Epoch: 1/10, d_loss_real_image: 0.00, d_loss_real_latent: 0.00, d_loss_fake_image: 76.90, d_loss_fake_latent: 0.00, g_loss: 7.06\n",
      "Epoch: 1/10, d_loss_real_image: 0.00, d_loss_real_latent: 0.00, d_loss_fake_image: 389.88, d_loss_fake_latent: 0.00, g_loss: 0.00\n",
      "Epoch: 1/10, d_loss_real_image: 0.00, d_loss_real_latent: 0.00, d_loss_fake_image: 465.11, d_loss_fake_latent: 0.00, g_loss: 0.00\n",
      "Epoch: 1/10, d_loss_real_image: 0.00, d_loss_real_latent: 0.00, d_loss_fake_image: 119.42, d_loss_fake_latent: 0.00, g_loss: 67.18\n",
      "Epoch: 1/10, d_loss_real_image: 0.00, d_loss_real_latent: 0.00, d_loss_fake_image: 71.74, d_loss_fake_latent: 0.00, g_loss: 1.63\n",
      "Epoch: 1/10, d_loss_real_image: 0.00, d_loss_real_latent: 0.00, d_loss_fake_image: 241.03, d_loss_fake_latent: 0.00, g_loss: 0.00\n",
      "Epoch: 1/10, d_loss_real_image: 0.00, d_loss_real_latent: 0.00, d_loss_fake_image: 172.06, d_loss_fake_latent: 0.00, g_loss: 0.00\n",
      "Epoch: 1/10, d_loss_real_image: 0.00, d_loss_real_latent: 0.00, d_loss_fake_image: 161.14, d_loss_fake_latent: 0.00, g_loss: 0.00\n",
      "Epoch: 1/10, d_loss_real_image: 0.00, d_loss_real_latent: 0.00, d_loss_fake_image: 150.28, d_loss_fake_latent: 0.00, g_loss: 0.10\n",
      "Epoch: 1/10, d_loss_real_image: 0.00, d_loss_real_latent: 0.00, d_loss_fake_image: 44.35, d_loss_fake_latent: 0.00, g_loss: 45.58\n",
      "Epoch: 1/10, d_loss_real_image: 0.00, d_loss_real_latent: 0.00, d_loss_fake_image: 81.97, d_loss_fake_latent: 0.00, g_loss: 0.00\n",
      "Epoch: 1/10, d_loss_real_image: 0.00, d_loss_real_latent: 0.00, d_loss_fake_image: 129.49, d_loss_fake_latent: 0.00, g_loss: 0.05\n",
      "Epoch: 1/10, d_loss_real_image: 0.00, d_loss_real_latent: 0.00, d_loss_fake_image: 48.41, d_loss_fake_latent: 0.00, g_loss: 11.64\n",
      "Epoch: 1/10, d_loss_real_image: 0.00, d_loss_real_latent: 0.00, d_loss_fake_image: 127.29, d_loss_fake_latent: 0.00, g_loss: 0.00\n",
      "Epoch: 1/10, d_loss_real_image: 0.00, d_loss_real_latent: 0.00, d_loss_fake_image: 177.11, d_loss_fake_latent: 0.00, g_loss: 0.00\n",
      "Epoch: 1/10, d_loss_real_image: 0.00, d_loss_real_latent: 0.00, d_loss_fake_image: 97.75, d_loss_fake_latent: 0.00, g_loss: 0.00\n",
      "Epoch: 1/10, d_loss_real_image: 0.00, d_loss_real_latent: 0.00, d_loss_fake_image: 99.53, d_loss_fake_latent: 0.00, g_loss: 0.00\n",
      "Epoch: 1/10, d_loss_real_image: 0.00, d_loss_real_latent: 0.00, d_loss_fake_image: 39.32, d_loss_fake_latent: 0.00, g_loss: 57.82\n",
      "Epoch: 1/10, d_loss_real_image: 0.00, d_loss_real_latent: 0.00, d_loss_fake_image: 35.67, d_loss_fake_latent: 0.00, g_loss: 87.73\n",
      "Epoch: 1/10, d_loss_real_image: 0.00, d_loss_real_latent: 0.00, d_loss_fake_image: 30.56, d_loss_fake_latent: 0.00, g_loss: 23.70\n",
      "Epoch: 1/10, d_loss_real_image: 0.00, d_loss_real_latent: 0.00, d_loss_fake_image: 129.26, d_loss_fake_latent: 0.00, g_loss: 0.00\n",
      "Epoch: 1/10, d_loss_real_image: 0.00, d_loss_real_latent: 0.00, d_loss_fake_image: 175.66, d_loss_fake_latent: 0.00, g_loss: 0.00\n",
      "Epoch: 1/10, d_loss_real_image: 0.00, d_loss_real_latent: 0.00, d_loss_fake_image: 152.60, d_loss_fake_latent: 0.00, g_loss: 0.00\n",
      "Epoch: 1/10, d_loss_real_image: 0.00, d_loss_real_latent: 0.00, d_loss_fake_image: 173.32, d_loss_fake_latent: 0.00, g_loss: 0.00\n",
      "Epoch: 1/10, d_loss_real_image: 0.00, d_loss_real_latent: 0.00, d_loss_fake_image: 165.76, d_loss_fake_latent: 0.00, g_loss: 0.00\n",
      "Epoch: 1/10, d_loss_real_image: 0.00, d_loss_real_latent: 0.00, d_loss_fake_image: 119.90, d_loss_fake_latent: 0.00, g_loss: 0.00\n",
      "Epoch: 1/10, d_loss_real_image: 0.00, d_loss_real_latent: 0.00, d_loss_fake_image: 102.98, d_loss_fake_latent: 0.00, g_loss: 0.00\n",
      "Epoch: 1/10, d_loss_real_image: 0.00, d_loss_real_latent: 0.00, d_loss_fake_image: 68.49, d_loss_fake_latent: 0.00, g_loss: 0.00\n",
      "Epoch: 1/10, d_loss_real_image: 0.00, d_loss_real_latent: 0.00, d_loss_fake_image: 23.19, d_loss_fake_latent: 0.00, g_loss: 1.24\n",
      "Epoch: 1/10, d_loss_real_image: 0.00, d_loss_real_latent: 0.00, d_loss_fake_image: 32.23, d_loss_fake_latent: 0.00, g_loss: 4.11\n",
      "Epoch: 1/10, d_loss_real_image: 0.00, d_loss_real_latent: 0.00, d_loss_fake_image: 46.90, d_loss_fake_latent: 0.00, g_loss: 11.21\n",
      "Epoch: 1/10, d_loss_real_image: 0.00, d_loss_real_latent: 0.00, d_loss_fake_image: 44.03, d_loss_fake_latent: 0.00, g_loss: 0.70\n",
      "Epoch: 1/10, d_loss_real_image: 0.00, d_loss_real_latent: 0.00, d_loss_fake_image: 51.48, d_loss_fake_latent: 0.00, g_loss: 0.00\n",
      "Epoch: 1/10, d_loss_real_image: 0.00, d_loss_real_latent: 0.00, d_loss_fake_image: 62.12, d_loss_fake_latent: 0.00, g_loss: 0.00\n",
      "Epoch: 1/10, d_loss_real_image: 0.00, d_loss_real_latent: 0.00, d_loss_fake_image: 24.55, d_loss_fake_latent: 0.00, g_loss: 10.58\n",
      "Epoch: 1/10, d_loss_real_image: 0.00, d_loss_real_latent: 0.00, d_loss_fake_image: 36.84, d_loss_fake_latent: 0.00, g_loss: 7.15\n",
      "Epoch: 1/10, d_loss_real_image: 0.00, d_loss_real_latent: 0.00, d_loss_fake_image: 85.50, d_loss_fake_latent: 0.00, g_loss: 0.75\n",
      "Epoch: 1/10, d_loss_real_image: 0.00, d_loss_real_latent: 0.00, d_loss_fake_image: 53.46, d_loss_fake_latent: 0.00, g_loss: 0.00\n",
      "Epoch: 1/10, d_loss_real_image: 0.00, d_loss_real_latent: 0.00, d_loss_fake_image: 78.50, d_loss_fake_latent: 0.00, g_loss: 0.00\n",
      "Epoch: 1/10, d_loss_real_image: 0.00, d_loss_real_latent: 0.00, d_loss_fake_image: 47.47, d_loss_fake_latent: 0.00, g_loss: 0.98\n",
      "Epoch: 1/10, d_loss_real_image: 0.00, d_loss_real_latent: 0.00, d_loss_fake_image: 47.73, d_loss_fake_latent: 0.00, g_loss: 6.60\n",
      "Epoch: 1/10, d_loss_real_image: 0.00, d_loss_real_latent: 0.00, d_loss_fake_image: 50.10, d_loss_fake_latent: 0.00, g_loss: 6.03\n",
      "Epoch: 1/10, d_loss_real_image: 0.00, d_loss_real_latent: 0.00, d_loss_fake_image: 68.47, d_loss_fake_latent: 0.00, g_loss: 0.63\n",
      "Epoch: 1/10, d_loss_real_image: 0.00, d_loss_real_latent: 0.00, d_loss_fake_image: 73.70, d_loss_fake_latent: 0.00, g_loss: 2.16\n",
      "Epoch: 1/10, d_loss_real_image: 0.00, d_loss_real_latent: 0.00, d_loss_fake_image: 57.40, d_loss_fake_latent: 0.00, g_loss: 2.63\n",
      "Epoch: 1/10, d_loss_real_image: 0.00, d_loss_real_latent: 0.00, d_loss_fake_image: 73.32, d_loss_fake_latent: 0.00, g_loss: 2.96\n",
      "Epoch: 1/10, d_loss_real_image: 0.00, d_loss_real_latent: 0.00, d_loss_fake_image: 82.73, d_loss_fake_latent: 0.00, g_loss: 3.79\n",
      "Epoch: 1/10, d_loss_real_image: 0.00, d_loss_real_latent: 0.00, d_loss_fake_image: 73.61, d_loss_fake_latent: 0.00, g_loss: 2.38\n",
      "Epoch: 1/10, d_loss_real_image: 0.00, d_loss_real_latent: 0.00, d_loss_fake_image: 97.15, d_loss_fake_latent: 0.00, g_loss: 0.40\n",
      "Epoch: 1/10, d_loss_real_image: 0.00, d_loss_real_latent: 0.00, d_loss_fake_image: 87.79, d_loss_fake_latent: 0.00, g_loss: 8.84\n",
      "Epoch: 1/10, d_loss_real_image: 0.00, d_loss_real_latent: 0.00, d_loss_fake_image: 68.30, d_loss_fake_latent: 0.00, g_loss: 10.12\n",
      "Epoch: 1/10, d_loss_real_image: 0.00, d_loss_real_latent: 0.00, d_loss_fake_image: 121.33, d_loss_fake_latent: 0.00, g_loss: 0.37\n",
      "Epoch: 1/10, d_loss_real_image: 0.00, d_loss_real_latent: 0.00, d_loss_fake_image: 121.71, d_loss_fake_latent: 0.00, g_loss: 2.73\n",
      "Epoch: 1/10, d_loss_real_image: 0.00, d_loss_real_latent: 0.00, d_loss_fake_image: 93.42, d_loss_fake_latent: 0.00, g_loss: 4.18\n",
      "Epoch: 1/10, d_loss_real_image: 0.00, d_loss_real_latent: 0.00, d_loss_fake_image: 99.32, d_loss_fake_latent: 0.00, g_loss: 5.23\n",
      "Epoch: 1/10, d_loss_real_image: 0.00, d_loss_real_latent: 0.00, d_loss_fake_image: 129.83, d_loss_fake_latent: 0.00, g_loss: 4.41\n",
      "Epoch: 1/10, d_loss_real_image: 3755.22, d_loss_real_latent: 0.00, d_loss_fake_image: 111.06, d_loss_fake_latent: 0.00, g_loss: 25.09\n",
      "Epoch: 1/10, d_loss_real_image: 0.00, d_loss_real_latent: 0.00, d_loss_fake_image: 76.10, d_loss_fake_latent: 0.00, g_loss: 21.77\n",
      "Epoch: 1/10, d_loss_real_image: 0.00, d_loss_real_latent: 0.00, d_loss_fake_image: 131.38, d_loss_fake_latent: 0.00, g_loss: 0.01\n",
      "Epoch: 1/10, d_loss_real_image: 0.00, d_loss_real_latent: 0.00, d_loss_fake_image: 146.15, d_loss_fake_latent: 0.00, g_loss: 1.42\n",
      "Epoch: 1/10, d_loss_real_image: 0.00, d_loss_real_latent: 0.00, d_loss_fake_image: 109.61, d_loss_fake_latent: 0.00, g_loss: 17.24\n",
      "Epoch: 1/10, d_loss_real_image: 0.00, d_loss_real_latent: 0.00, d_loss_fake_image: 123.30, d_loss_fake_latent: 0.00, g_loss: 4.82\n",
      "Epoch: 1/10, d_loss_real_image: 0.00, d_loss_real_latent: 0.00, d_loss_fake_image: 148.10, d_loss_fake_latent: 0.00, g_loss: 0.00\n",
      "Epoch: 1/10, d_loss_real_image: 0.00, d_loss_real_latent: 0.00, d_loss_fake_image: 164.10, d_loss_fake_latent: 0.00, g_loss: 0.00\n",
      "Epoch: 1/10, d_loss_real_image: 0.00, d_loss_real_latent: 0.00, d_loss_fake_image: 176.06, d_loss_fake_latent: 0.00, g_loss: 0.00\n",
      "Epoch: 1/10, d_loss_real_image: 0.00, d_loss_real_latent: 0.00, d_loss_fake_image: 154.85, d_loss_fake_latent: 0.00, g_loss: 0.00\n",
      "Epoch: 1/10, d_loss_real_image: 0.00, d_loss_real_latent: 0.00, d_loss_fake_image: 127.82, d_loss_fake_latent: 0.00, g_loss: 0.00\n",
      "Epoch: 1/10, d_loss_real_image: 0.00, d_loss_real_latent: 0.00, d_loss_fake_image: 71.35, d_loss_fake_latent: 0.00, g_loss: 11.16\n",
      "Epoch: 1/10, d_loss_real_image: 0.00, d_loss_real_latent: 0.00, d_loss_fake_image: 62.78, d_loss_fake_latent: 0.00, g_loss: 10.80\n",
      "Epoch: 1/10, d_loss_real_image: 0.00, d_loss_real_latent: 0.00, d_loss_fake_image: 74.01, d_loss_fake_latent: 0.00, g_loss: 3.54\n",
      "Epoch: 1/10, d_loss_real_image: 0.00, d_loss_real_latent: 0.00, d_loss_fake_image: 97.01, d_loss_fake_latent: 0.00, g_loss: 0.32\n",
      "Epoch: 1/10, d_loss_real_image: 0.00, d_loss_real_latent: 0.00, d_loss_fake_image: 98.67, d_loss_fake_latent: 0.00, g_loss: 0.04\n",
      "Epoch: 1/10, d_loss_real_image: 0.00, d_loss_real_latent: 0.00, d_loss_fake_image: 100.00, d_loss_fake_latent: 0.00, g_loss: 1.36\n",
      "Epoch: 1/10, d_loss_real_image: 0.00, d_loss_real_latent: 0.00, d_loss_fake_image: 78.74, d_loss_fake_latent: 0.00, g_loss: 2.22\n",
      "Epoch: 1/10, d_loss_real_image: 0.00, d_loss_real_latent: 0.00, d_loss_fake_image: 95.81, d_loss_fake_latent: 0.00, g_loss: 15.71\n",
      "Epoch: 1/10, d_loss_real_image: 0.00, d_loss_real_latent: 0.00, d_loss_fake_image: 53.04, d_loss_fake_latent: 0.00, g_loss: 10.61\n",
      "Epoch: 1/10, d_loss_real_image: 0.00, d_loss_real_latent: 0.00, d_loss_fake_image: 116.47, d_loss_fake_latent: 0.00, g_loss: 9.72\n",
      "Epoch: 1/10, d_loss_real_image: 0.00, d_loss_real_latent: 0.00, d_loss_fake_image: 136.33, d_loss_fake_latent: 0.00, g_loss: 1.93\n",
      "Epoch: 1/10, d_loss_real_image: 0.00, d_loss_real_latent: 0.00, d_loss_fake_image: 97.67, d_loss_fake_latent: 0.00, g_loss: 0.48\n",
      "Epoch: 1/10, d_loss_real_image: 0.00, d_loss_real_latent: 0.00, d_loss_fake_image: 122.72, d_loss_fake_latent: 0.00, g_loss: 0.02\n",
      "Epoch: 1/10, d_loss_real_image: 0.00, d_loss_real_latent: 0.00, d_loss_fake_image: 92.84, d_loss_fake_latent: 0.00, g_loss: 2.14\n",
      "Epoch: 1/10, d_loss_real_image: 0.00, d_loss_real_latent: 0.00, d_loss_fake_image: 78.56, d_loss_fake_latent: 0.00, g_loss: 5.53\n",
      "Epoch: 1/10, d_loss_real_image: 0.00, d_loss_real_latent: 0.00, d_loss_fake_image: 62.33, d_loss_fake_latent: 0.00, g_loss: 9.85\n",
      "Epoch: 1/10, d_loss_real_image: 0.00, d_loss_real_latent: 0.00, d_loss_fake_image: 81.29, d_loss_fake_latent: 0.00, g_loss: 8.01\n",
      "Epoch: 1/10, d_loss_real_image: 0.00, d_loss_real_latent: 0.00, d_loss_fake_image: 144.35, d_loss_fake_latent: 0.00, g_loss: 0.54\n",
      "Epoch: 1/10, d_loss_real_image: 0.00, d_loss_real_latent: 0.00, d_loss_fake_image: 112.68, d_loss_fake_latent: 0.00, g_loss: 0.00\n",
      "Epoch: 1/10, d_loss_real_image: 0.00, d_loss_real_latent: 0.00, d_loss_fake_image: 113.77, d_loss_fake_latent: 0.00, g_loss: 0.01\n",
      "Epoch: 1/10, d_loss_real_image: 0.00, d_loss_real_latent: 0.00, d_loss_fake_image: 90.08, d_loss_fake_latent: 0.00, g_loss: 1.79\n",
      "Epoch: 1/10, d_loss_real_image: 0.00, d_loss_real_latent: 0.00, d_loss_fake_image: 72.50, d_loss_fake_latent: 0.00, g_loss: 4.43\n",
      "Epoch: 1/10, d_loss_real_image: 0.00, d_loss_real_latent: 0.00, d_loss_fake_image: 59.56, d_loss_fake_latent: 0.00, g_loss: 8.08\n",
      "Epoch: 1/10, d_loss_real_image: 0.00, d_loss_real_latent: 0.00, d_loss_fake_image: 62.42, d_loss_fake_latent: 0.00, g_loss: 7.45\n",
      "Epoch: 1/10, d_loss_real_image: 0.00, d_loss_real_latent: 0.00, d_loss_fake_image: 115.94, d_loss_fake_latent: 0.00, g_loss: 6.90\n",
      "Epoch: 1/10, d_loss_real_image: 0.00, d_loss_real_latent: 0.00, d_loss_fake_image: 69.19, d_loss_fake_latent: 0.00, g_loss: 1.96\n",
      "Epoch: 1/10, d_loss_real_image: 0.00, d_loss_real_latent: 0.00, d_loss_fake_image: 113.35, d_loss_fake_latent: 0.00, g_loss: 0.93\n",
      "Epoch: 1/10, d_loss_real_image: 0.00, d_loss_real_latent: 0.00, d_loss_fake_image: 81.03, d_loss_fake_latent: 0.00, g_loss: 0.86\n",
      "Epoch: 1/10, d_loss_real_image: 0.00, d_loss_real_latent: 0.00, d_loss_fake_image: 95.90, d_loss_fake_latent: 0.00, g_loss: 0.68\n",
      "Epoch: 1/10, d_loss_real_image: 0.00, d_loss_real_latent: 0.00, d_loss_fake_image: 85.52, d_loss_fake_latent: 0.00, g_loss: 1.46\n",
      "Epoch: 1/10, d_loss_real_image: 0.00, d_loss_real_latent: 0.00, d_loss_fake_image: 65.57, d_loss_fake_latent: 0.00, g_loss: 4.88\n",
      "Epoch: 1/10, d_loss_real_image: 0.00, d_loss_real_latent: 0.00, d_loss_fake_image: 62.84, d_loss_fake_latent: 0.00, g_loss: 6.50\n",
      "Epoch: 1/10, d_loss_real_image: 0.00, d_loss_real_latent: 0.00, d_loss_fake_image: 81.71, d_loss_fake_latent: 0.00, g_loss: 7.53\n",
      "Epoch: 1/10, d_loss_real_image: 0.00, d_loss_real_latent: 0.00, d_loss_fake_image: 88.39, d_loss_fake_latent: 0.00, g_loss: 2.33\n",
      "Epoch: 1/10, d_loss_real_image: 0.00, d_loss_real_latent: 0.00, d_loss_fake_image: 97.71, d_loss_fake_latent: 0.00, g_loss: 0.45\n",
      "Epoch: 1/10, d_loss_real_image: 0.00, d_loss_real_latent: 0.00, d_loss_fake_image: 108.55, d_loss_fake_latent: 0.00, g_loss: 0.96\n",
      "Epoch: 1/10, d_loss_real_image: 0.00, d_loss_real_latent: 0.00, d_loss_fake_image: 81.35, d_loss_fake_latent: 0.00, g_loss: 3.39\n",
      "Epoch: 1/10, d_loss_real_image: 0.00, d_loss_real_latent: 0.00, d_loss_fake_image: 89.69, d_loss_fake_latent: 0.00, g_loss: 9.50\n",
      "Epoch: 1/10, d_loss_real_image: 43018.04, d_loss_real_latent: 0.00, d_loss_fake_image: 85.98, d_loss_fake_latent: 0.00, g_loss: 0.22\n",
      "Epoch: 1/10, d_loss_real_image: 0.00, d_loss_real_latent: 0.00, d_loss_fake_image: 64.56, d_loss_fake_latent: 0.00, g_loss: 4.63\n",
      "Epoch: 1/10, d_loss_real_image: 0.00, d_loss_real_latent: 0.00, d_loss_fake_image: 101.22, d_loss_fake_latent: 0.00, g_loss: 76.62\n",
      "Epoch: 1/10, d_loss_real_image: 0.00, d_loss_real_latent: 0.00, d_loss_fake_image: 375.04, d_loss_fake_latent: 0.00, g_loss: 147.25\n",
      "Epoch: 1/10, d_loss_real_image: 0.00, d_loss_real_latent: 0.00, d_loss_fake_image: 341.84, d_loss_fake_latent: 0.00, g_loss: 202.17\n",
      "Epoch: 1/10, d_loss_real_image: 0.00, d_loss_real_latent: 0.00, d_loss_fake_image: 382.18, d_loss_fake_latent: 0.00, g_loss: 67.45\n",
      "Epoch: 1/10, d_loss_real_image: 0.00, d_loss_real_latent: 0.00, d_loss_fake_image: 619.31, d_loss_fake_latent: 0.00, g_loss: 0.00\n",
      "Epoch: 1/10, d_loss_real_image: 0.00, d_loss_real_latent: 0.00, d_loss_fake_image: 628.06, d_loss_fake_latent: 0.00, g_loss: 0.00\n",
      "Epoch: 1/10, d_loss_real_image: 0.00, d_loss_real_latent: 0.00, d_loss_fake_image: 538.85, d_loss_fake_latent: 0.00, g_loss: 0.00\n",
      "Epoch: 1/10, d_loss_real_image: 0.00, d_loss_real_latent: 0.00, d_loss_fake_image: 431.25, d_loss_fake_latent: 0.00, g_loss: 0.00\n",
      "Epoch: 1/10, d_loss_real_image: 0.00, d_loss_real_latent: 0.00, d_loss_fake_image: 286.48, d_loss_fake_latent: 0.00, g_loss: 26.24\n",
      "Epoch: 1/10, d_loss_real_image: 0.00, d_loss_real_latent: 0.00, d_loss_fake_image: 335.74, d_loss_fake_latent: 0.00, g_loss: 34.50\n",
      "Epoch: 1/10, d_loss_real_image: 0.00, d_loss_real_latent: 0.00, d_loss_fake_image: 471.51, d_loss_fake_latent: 0.00, g_loss: 0.00\n",
      "Epoch: 1/10, d_loss_real_image: 0.00, d_loss_real_latent: 0.00, d_loss_fake_image: 498.31, d_loss_fake_latent: 0.00, g_loss: 0.00\n",
      "Epoch: 1/10, d_loss_real_image: 0.00, d_loss_real_latent: 0.00, d_loss_fake_image: 361.18, d_loss_fake_latent: 0.00, g_loss: 0.00\n",
      "Epoch: 1/10, d_loss_real_image: 0.00, d_loss_real_latent: 0.00, d_loss_fake_image: 346.54, d_loss_fake_latent: 0.00, g_loss: 0.00\n",
      "Epoch: 1/10, d_loss_real_image: 0.00, d_loss_real_latent: 0.00, d_loss_fake_image: 204.89, d_loss_fake_latent: 0.00, g_loss: 7.96\n",
      "Epoch: 1/10, d_loss_real_image: 0.00, d_loss_real_latent: 0.00, d_loss_fake_image: 210.56, d_loss_fake_latent: 0.00, g_loss: 0.00\n",
      "Epoch: 1/10, d_loss_real_image: 0.00, d_loss_real_latent: 0.00, d_loss_fake_image: 483.17, d_loss_fake_latent: 0.00, g_loss: 99.86\n",
      "Epoch: 1/10, d_loss_real_image: 0.00, d_loss_real_latent: 0.00, d_loss_fake_image: 826.21, d_loss_fake_latent: 0.00, g_loss: 56.03\n",
      "Epoch: 1/10, d_loss_real_image: 0.00, d_loss_real_latent: 0.00, d_loss_fake_image: 1084.51, d_loss_fake_latent: 0.00, g_loss: 0.00\n",
      "Epoch: 1/10, d_loss_real_image: 0.00, d_loss_real_latent: 0.00, d_loss_fake_image: 1299.62, d_loss_fake_latent: 0.00, g_loss: 0.00\n",
      "Epoch: 1/10, d_loss_real_image: 0.00, d_loss_real_latent: 0.00, d_loss_fake_image: 1026.44, d_loss_fake_latent: 0.00, g_loss: 0.00\n",
      "Epoch: 1/10, d_loss_real_image: 0.00, d_loss_real_latent: 0.00, d_loss_fake_image: 946.67, d_loss_fake_latent: 0.00, g_loss: 0.00\n",
      "Epoch: 1/10, d_loss_real_image: 0.00, d_loss_real_latent: 0.00, d_loss_fake_image: 306.21, d_loss_fake_latent: 0.00, g_loss: 468.39\n",
      "Epoch: 1/10, d_loss_real_image: 0.00, d_loss_real_latent: 0.00, d_loss_fake_image: 1359.49, d_loss_fake_latent: 0.00, g_loss: 0.00\n",
      "Epoch: 1/10, d_loss_real_image: 0.00, d_loss_real_latent: 0.00, d_loss_fake_image: 1296.67, d_loss_fake_latent: 0.00, g_loss: 6.98\n",
      "Epoch: 1/10, d_loss_real_image: 0.00, d_loss_real_latent: 0.00, d_loss_fake_image: 197.22, d_loss_fake_latent: 0.00, g_loss: 0.00\n",
      "Epoch: 1/10, d_loss_real_image: 0.00, d_loss_real_latent: 0.00, d_loss_fake_image: 408.94, d_loss_fake_latent: 0.00, g_loss: 0.00\n",
      "Epoch: 1/10, d_loss_real_image: 0.00, d_loss_real_latent: 0.00, d_loss_fake_image: 270.50, d_loss_fake_latent: 0.00, g_loss: 65.10\n",
      "Epoch: 1/10, d_loss_real_image: 0.00, d_loss_real_latent: 0.00, d_loss_fake_image: 374.44, d_loss_fake_latent: 0.00, g_loss: 131.80\n",
      "Epoch: 1/10, d_loss_real_image: 0.00, d_loss_real_latent: 0.00, d_loss_fake_image: 716.14, d_loss_fake_latent: 0.00, g_loss: 20.66\n",
      "Epoch: 1/10, d_loss_real_image: 0.00, d_loss_real_latent: 0.00, d_loss_fake_image: 762.85, d_loss_fake_latent: 0.00, g_loss: 0.00\n",
      "Epoch: 1/10, d_loss_real_image: 0.00, d_loss_real_latent: 0.00, d_loss_fake_image: 535.92, d_loss_fake_latent: 0.00, g_loss: 0.00\n",
      "Epoch: 1/10, d_loss_real_image: 0.00, d_loss_real_latent: 0.00, d_loss_fake_image: 415.56, d_loss_fake_latent: 0.00, g_loss: 0.00\n",
      "Epoch: 1/10, d_loss_real_image: 0.00, d_loss_real_latent: 0.00, d_loss_fake_image: 316.90, d_loss_fake_latent: 0.00, g_loss: 15.45\n",
      "Epoch: 1/10, d_loss_real_image: 0.00, d_loss_real_latent: 0.00, d_loss_fake_image: 401.33, d_loss_fake_latent: 0.00, g_loss: 179.96\n",
      "Epoch: 1/10, d_loss_real_image: 0.00, d_loss_real_latent: 0.00, d_loss_fake_image: 690.56, d_loss_fake_latent: 0.00, g_loss: 191.25\n",
      "Epoch: 1/10, d_loss_real_image: 0.00, d_loss_real_latent: 0.00, d_loss_fake_image: 984.48, d_loss_fake_latent: 0.00, g_loss: 49.99\n",
      "Epoch: 1/10, d_loss_real_image: 0.00, d_loss_real_latent: 0.00, d_loss_fake_image: 978.37, d_loss_fake_latent: 0.00, g_loss: 0.00\n",
      "Epoch: 1/10, d_loss_real_image: 0.00, d_loss_real_latent: 0.00, d_loss_fake_image: 714.76, d_loss_fake_latent: 0.00, g_loss: 0.00\n",
      "Epoch: 1/10, d_loss_real_image: 0.00, d_loss_real_latent: 0.00, d_loss_fake_image: 587.07, d_loss_fake_latent: 0.00, g_loss: 0.00\n",
      "Epoch: 1/10, d_loss_real_image: 0.00, d_loss_real_latent: 0.00, d_loss_fake_image: 563.18, d_loss_fake_latent: 0.00, g_loss: 0.00\n",
      "Epoch: 1/10, d_loss_real_image: 0.00, d_loss_real_latent: 0.00, d_loss_fake_image: 16.38, d_loss_fake_latent: 0.00, g_loss: 393.67\n",
      "Epoch: 1/10, d_loss_real_image: 0.00, d_loss_real_latent: 0.00, d_loss_fake_image: 1.79, d_loss_fake_latent: 0.00, g_loss: 400.73\n",
      "Epoch: 1/10, d_loss_real_image: 0.00, d_loss_real_latent: 0.00, d_loss_fake_image: 248.37, d_loss_fake_latent: 0.00, g_loss: 109.65\n",
      "Epoch: 1/10, d_loss_real_image: 0.00, d_loss_real_latent: 0.00, d_loss_fake_image: 540.27, d_loss_fake_latent: 0.00, g_loss: 0.00\n",
      "Epoch: 1/10, d_loss_real_image: 0.00, d_loss_real_latent: 0.00, d_loss_fake_image: 624.18, d_loss_fake_latent: 0.00, g_loss: 0.00\n",
      "Epoch: 1/10, d_loss_real_image: 0.00, d_loss_real_latent: 0.00, d_loss_fake_image: 580.70, d_loss_fake_latent: 0.00, g_loss: 0.00\n",
      "Epoch: 1/10, d_loss_real_image: 0.00, d_loss_real_latent: 0.00, d_loss_fake_image: 475.19, d_loss_fake_latent: 0.00, g_loss: 0.00\n",
      "Epoch: 1/10, d_loss_real_image: 0.00, d_loss_real_latent: 0.00, d_loss_fake_image: 328.65, d_loss_fake_latent: 0.00, g_loss: 0.28\n",
      "Epoch: 1/10, d_loss_real_image: 0.00, d_loss_real_latent: 0.00, d_loss_fake_image: 113.68, d_loss_fake_latent: 0.00, g_loss: 82.23\n",
      "Epoch: 1/10, d_loss_real_image: 0.00, d_loss_real_latent: 0.00, d_loss_fake_image: 195.15, d_loss_fake_latent: 0.00, g_loss: 163.63\n",
      "Epoch: 1/10, d_loss_real_image: 0.00, d_loss_real_latent: 0.00, d_loss_fake_image: 55.91, d_loss_fake_latent: 0.00, g_loss: 124.01\n",
      "Epoch: 1/10, d_loss_real_image: 0.00, d_loss_real_latent: 0.00, d_loss_fake_image: 578.18, d_loss_fake_latent: 0.00, g_loss: 8.58\n",
      "Epoch: 1/10, d_loss_real_image: 0.00, d_loss_real_latent: 0.00, d_loss_fake_image: 474.37, d_loss_fake_latent: 0.00, g_loss: 36.26\n",
      "Epoch: 1/10, d_loss_real_image: 0.00, d_loss_real_latent: 0.00, d_loss_fake_image: 331.43, d_loss_fake_latent: 0.00, g_loss: 0.00\n",
      "Epoch: 1/10, d_loss_real_image: 0.00, d_loss_real_latent: 0.00, d_loss_fake_image: 531.44, d_loss_fake_latent: 0.00, g_loss: 0.00\n",
      "Epoch: 1/10, d_loss_real_image: 0.00, d_loss_real_latent: 0.00, d_loss_fake_image: 386.34, d_loss_fake_latent: 0.00, g_loss: 0.51\n",
      "Epoch: 1/10, d_loss_real_image: 0.00, d_loss_real_latent: 0.00, d_loss_fake_image: 426.32, d_loss_fake_latent: 0.00, g_loss: 0.93\n",
      "Epoch: 1/10, d_loss_real_image: 0.00, d_loss_real_latent: 0.00, d_loss_fake_image: 164.31, d_loss_fake_latent: 0.00, g_loss: 37.49\n",
      "Epoch: 1/10, d_loss_real_image: 0.00, d_loss_real_latent: 0.00, d_loss_fake_image: 268.77, d_loss_fake_latent: 0.00, g_loss: 12.17\n",
      "Epoch: 1/10, d_loss_real_image: 0.00, d_loss_real_latent: 0.00, d_loss_fake_image: 351.34, d_loss_fake_latent: 0.00, g_loss: 87.85\n",
      "Epoch: 1/10, d_loss_real_image: 0.00, d_loss_real_latent: 0.00, d_loss_fake_image: 312.38, d_loss_fake_latent: 0.00, g_loss: 2.79\n",
      "Epoch: 1/10, d_loss_real_image: 0.00, d_loss_real_latent: 0.00, d_loss_fake_image: 406.24, d_loss_fake_latent: 0.00, g_loss: 0.00\n",
      "Epoch: 1/10, d_loss_real_image: 0.00, d_loss_real_latent: 0.00, d_loss_fake_image: 418.43, d_loss_fake_latent: 0.00, g_loss: 1.24\n",
      "Epoch: 1/10, d_loss_real_image: 0.00, d_loss_real_latent: 0.00, d_loss_fake_image: 281.48, d_loss_fake_latent: 0.00, g_loss: 111.25\n",
      "Epoch: 1/10, d_loss_real_image: 0.00, d_loss_real_latent: 0.00, d_loss_fake_image: 399.55, d_loss_fake_latent: 0.00, g_loss: 36.64\n",
      "Epoch: 1/10, d_loss_real_image: 0.00, d_loss_real_latent: 0.00, d_loss_fake_image: 660.66, d_loss_fake_latent: 0.00, g_loss: 0.00\n",
      "Epoch: 1/10, d_loss_real_image: 0.00, d_loss_real_latent: 0.00, d_loss_fake_image: 707.45, d_loss_fake_latent: 0.00, g_loss: 0.00\n",
      "Epoch: 1/10, d_loss_real_image: 0.00, d_loss_real_latent: 0.00, d_loss_fake_image: 693.83, d_loss_fake_latent: 0.00, g_loss: 0.00\n",
      "Epoch: 1/10, d_loss_real_image: 0.00, d_loss_real_latent: 0.00, d_loss_fake_image: 499.90, d_loss_fake_latent: 0.00, g_loss: 143.11\n",
      "Epoch: 1/10, d_loss_real_image: 0.00, d_loss_real_latent: 0.00, d_loss_fake_image: 553.37, d_loss_fake_latent: 0.00, g_loss: 42.29\n",
      "Epoch: 1/10, d_loss_real_image: 0.00, d_loss_real_latent: 0.00, d_loss_fake_image: 769.32, d_loss_fake_latent: 0.00, g_loss: 0.00\n",
      "Epoch: 1/10, d_loss_real_image: 0.00, d_loss_real_latent: 0.00, d_loss_fake_image: 693.41, d_loss_fake_latent: 0.00, g_loss: 0.00\n",
      "Epoch: 1/10, d_loss_real_image: 0.00, d_loss_real_latent: 0.00, d_loss_fake_image: 633.47, d_loss_fake_latent: 0.00, g_loss: 0.00\n",
      "Epoch: 1/10, d_loss_real_image: 0.00, d_loss_real_latent: 0.00, d_loss_fake_image: 468.89, d_loss_fake_latent: 0.00, g_loss: 0.00\n",
      "Epoch: 1/10, d_loss_real_image: 0.00, d_loss_real_latent: 0.00, d_loss_fake_image: 190.75, d_loss_fake_latent: 0.00, g_loss: 79.38\n",
      "Epoch: 1/10, d_loss_real_image: 0.00, d_loss_real_latent: 0.00, d_loss_fake_image: 203.79, d_loss_fake_latent: 0.00, g_loss: 105.35\n",
      "Epoch: 1/10, d_loss_real_image: 0.00, d_loss_real_latent: 0.00, d_loss_fake_image: 362.10, d_loss_fake_latent: 0.00, g_loss: 66.79\n",
      "Epoch: 1/10, d_loss_real_image: 0.00, d_loss_real_latent: 0.00, d_loss_fake_image: 1010.78, d_loss_fake_latent: 0.00, g_loss: 1.29\n",
      "Epoch: 1/10, d_loss_real_image: 0.00, d_loss_real_latent: 0.00, d_loss_fake_image: 289.89, d_loss_fake_latent: 0.00, g_loss: 0.00\n",
      "Epoch: 1/10, d_loss_real_image: 0.00, d_loss_real_latent: 0.00, d_loss_fake_image: 463.24, d_loss_fake_latent: 0.00, g_loss: 0.00\n",
      "Epoch: 1/10, d_loss_real_image: 0.00, d_loss_real_latent: 0.00, d_loss_fake_image: 365.24, d_loss_fake_latent: 0.00, g_loss: 62.50\n",
      "Epoch: 1/10, d_loss_real_image: 0.00, d_loss_real_latent: 0.00, d_loss_fake_image: 136.92, d_loss_fake_latent: 0.00, g_loss: 296.93\n",
      "Epoch: 1/10, d_loss_real_image: 0.00, d_loss_real_latent: 0.00, d_loss_fake_image: 3.81, d_loss_fake_latent: 0.00, g_loss: 110.06\n",
      "Epoch: 1/10, d_loss_real_image: 0.00, d_loss_real_latent: 0.00, d_loss_fake_image: 850.79, d_loss_fake_latent: 0.00, g_loss: 0.00\n",
      "Epoch: 1/10, d_loss_real_image: 0.00, d_loss_real_latent: 0.00, d_loss_fake_image: 858.25, d_loss_fake_latent: 0.00, g_loss: 4.25\n",
      "Epoch: 1/10, d_loss_real_image: 0.00, d_loss_real_latent: 0.00, d_loss_fake_image: 214.55, d_loss_fake_latent: 0.00, g_loss: 106.38\n",
      "Epoch: 1/10, d_loss_real_image: 0.00, d_loss_real_latent: 0.00, d_loss_fake_image: 500.97, d_loss_fake_latent: 0.00, g_loss: 0.00\n",
      "Epoch: 1/10, d_loss_real_image: 0.00, d_loss_real_latent: 0.00, d_loss_fake_image: 556.27, d_loss_fake_latent: 0.00, g_loss: 16.51\n",
      "Epoch: 1/10, d_loss_real_image: 0.00, d_loss_real_latent: 0.00, d_loss_fake_image: 143.81, d_loss_fake_latent: 0.00, g_loss: 226.13\n",
      "Epoch: 1/10, d_loss_real_image: 0.00, d_loss_real_latent: 0.00, d_loss_fake_image: 35.63, d_loss_fake_latent: 0.00, g_loss: 202.97\n",
      "Epoch: 1/10, d_loss_real_image: 0.00, d_loss_real_latent: 0.00, d_loss_fake_image: 326.33, d_loss_fake_latent: 0.00, g_loss: 0.81\n",
      "Epoch: 1/10, d_loss_real_image: 0.00, d_loss_real_latent: 0.00, d_loss_fake_image: 559.79, d_loss_fake_latent: 0.00, g_loss: 7.69\n",
      "Epoch: 1/10, d_loss_real_image: 0.00, d_loss_real_latent: 0.00, d_loss_fake_image: 394.46, d_loss_fake_latent: 0.00, g_loss: 122.34\n",
      "Epoch: 1/10, d_loss_real_image: 0.00, d_loss_real_latent: 0.00, d_loss_fake_image: 294.58, d_loss_fake_latent: 0.00, g_loss: 205.69\n",
      "Epoch: 1/10, d_loss_real_image: 0.00, d_loss_real_latent: 0.00, d_loss_fake_image: 244.58, d_loss_fake_latent: 0.00, g_loss: 61.88\n",
      "Epoch: 1/10, d_loss_real_image: 0.00, d_loss_real_latent: 0.00, d_loss_fake_image: 579.66, d_loss_fake_latent: 0.00, g_loss: 2.57\n",
      "Epoch: 1/10, d_loss_real_image: 0.00, d_loss_real_latent: 0.00, d_loss_fake_image: 412.11, d_loss_fake_latent: 0.00, g_loss: 7.13\n",
      "Epoch: 1/10, d_loss_real_image: 0.00, d_loss_real_latent: 0.00, d_loss_fake_image: 404.21, d_loss_fake_latent: 0.00, g_loss: 7.87\n",
      "Epoch: 1/10, d_loss_real_image: 0.00, d_loss_real_latent: 0.00, d_loss_fake_image: 354.17, d_loss_fake_latent: 0.00, g_loss: 37.24\n",
      "Epoch: 1/10, d_loss_real_image: 0.00, d_loss_real_latent: 0.00, d_loss_fake_image: 315.96, d_loss_fake_latent: 0.00, g_loss: 88.83\n",
      "Epoch: 1/10, d_loss_real_image: 0.00, d_loss_real_latent: 0.00, d_loss_fake_image: 273.38, d_loss_fake_latent: 0.00, g_loss: 151.93\n",
      "Epoch: 1/10, d_loss_real_image: 0.00, d_loss_real_latent: 0.00, d_loss_fake_image: 209.05, d_loss_fake_latent: 0.00, g_loss: 85.48\n",
      "Epoch: 1/10, d_loss_real_image: 0.00, d_loss_real_latent: 0.00, d_loss_fake_image: 361.90, d_loss_fake_latent: 0.00, g_loss: 6.94\n",
      "Epoch: 1/10, d_loss_real_image: 0.00, d_loss_real_latent: 0.00, d_loss_fake_image: 379.93, d_loss_fake_latent: 0.00, g_loss: 19.26\n",
      "Epoch: 1/10, d_loss_real_image: 1528.02, d_loss_real_latent: 0.00, d_loss_fake_image: 417.40, d_loss_fake_latent: 0.00, g_loss: 0.00\n",
      "Epoch: 1/10, d_loss_real_image: 0.00, d_loss_real_latent: 0.00, d_loss_fake_image: 583.64, d_loss_fake_latent: 0.00, g_loss: 0.00\n",
      "Epoch: 1/10, d_loss_real_image: 0.00, d_loss_real_latent: 0.00, d_loss_fake_image: 522.14, d_loss_fake_latent: 0.00, g_loss: 0.94\n",
      "Epoch: 1/10, d_loss_real_image: 0.00, d_loss_real_latent: 0.00, d_loss_fake_image: 351.90, d_loss_fake_latent: 0.00, g_loss: 3.96\n",
      "Epoch: 1/10, d_loss_real_image: 0.00, d_loss_real_latent: 0.00, d_loss_fake_image: 204.74, d_loss_fake_latent: 0.00, g_loss: 70.09\n",
      "Epoch: 1/10, d_loss_real_image: 0.00, d_loss_real_latent: 0.00, d_loss_fake_image: 251.29, d_loss_fake_latent: 0.00, g_loss: 225.81\n",
      "Epoch: 1/10, d_loss_real_image: 0.00, d_loss_real_latent: 0.00, d_loss_fake_image: 124.68, d_loss_fake_latent: 0.00, g_loss: 125.79\n",
      "Epoch: 1/10, d_loss_real_image: 0.00, d_loss_real_latent: 0.00, d_loss_fake_image: 472.12, d_loss_fake_latent: 0.00, g_loss: 16.93\n",
      "Epoch: 1/10, d_loss_real_image: 0.00, d_loss_real_latent: 0.00, d_loss_fake_image: 723.88, d_loss_fake_latent: 0.00, g_loss: 3.45\n",
      "Epoch: 1/10, d_loss_real_image: 0.00, d_loss_real_latent: 0.00, d_loss_fake_image: 551.73, d_loss_fake_latent: 0.00, g_loss: 21.55\n",
      "Epoch: 1/10, d_loss_real_image: 0.00, d_loss_real_latent: 0.00, d_loss_fake_image: 453.06, d_loss_fake_latent: 0.00, g_loss: 68.38\n",
      "Epoch: 1/10, d_loss_real_image: 0.00, d_loss_real_latent: 0.00, d_loss_fake_image: 388.87, d_loss_fake_latent: 0.00, g_loss: 10.72\n",
      "Epoch: 1/10, d_loss_real_image: 0.00, d_loss_real_latent: 0.00, d_loss_fake_image: 851.43, d_loss_fake_latent: 0.00, g_loss: 26.05\n",
      "Epoch: 1/10, d_loss_real_image: 0.00, d_loss_real_latent: 0.00, d_loss_fake_image: 862.95, d_loss_fake_latent: 0.00, g_loss: 0.00\n",
      "Epoch: 1/10, d_loss_real_image: 0.00, d_loss_real_latent: 0.00, d_loss_fake_image: 1330.02, d_loss_fake_latent: 0.00, g_loss: 0.00\n",
      "Epoch: 1/10, d_loss_real_image: 0.00, d_loss_real_latent: 0.00, d_loss_fake_image: 1265.08, d_loss_fake_latent: 0.00, g_loss: 0.00\n",
      "Epoch: 1/10, d_loss_real_image: 0.00, d_loss_real_latent: 0.00, d_loss_fake_image: 713.01, d_loss_fake_latent: 0.00, g_loss: 57.90\n",
      "Epoch: 1/10, d_loss_real_image: 0.00, d_loss_real_latent: 0.00, d_loss_fake_image: 411.84, d_loss_fake_latent: 0.00, g_loss: 260.85\n",
      "Epoch: 1/10, d_loss_real_image: 0.00, d_loss_real_latent: 0.00, d_loss_fake_image: 414.99, d_loss_fake_latent: 0.00, g_loss: 263.48\n",
      "Epoch: 1/10, d_loss_real_image: 0.00, d_loss_real_latent: 0.00, d_loss_fake_image: 663.47, d_loss_fake_latent: 0.00, g_loss: 232.39\n",
      "Epoch: 1/10, d_loss_real_image: 0.00, d_loss_real_latent: 0.00, d_loss_fake_image: 534.83, d_loss_fake_latent: 0.00, g_loss: 31.37\n",
      "Epoch: 1/10, d_loss_real_image: 0.00, d_loss_real_latent: 0.00, d_loss_fake_image: 682.33, d_loss_fake_latent: 0.00, g_loss: 0.00\n",
      "Epoch: 1/10, d_loss_real_image: 0.00, d_loss_real_latent: 0.00, d_loss_fake_image: 950.08, d_loss_fake_latent: 0.00, g_loss: 0.00\n",
      "Epoch: 1/10, d_loss_real_image: 0.00, d_loss_real_latent: 0.00, d_loss_fake_image: 484.46, d_loss_fake_latent: 0.00, g_loss: 22.54\n",
      "Epoch: 1/10, d_loss_real_image: 0.00, d_loss_real_latent: 0.00, d_loss_fake_image: 533.22, d_loss_fake_latent: 0.00, g_loss: 74.02\n",
      "Epoch: 1/10, d_loss_real_image: 0.00, d_loss_real_latent: 0.00, d_loss_fake_image: 536.37, d_loss_fake_latent: 0.00, g_loss: 50.85\n",
      "Epoch: 1/10, d_loss_real_image: 0.00, d_loss_real_latent: 0.00, d_loss_fake_image: 593.79, d_loss_fake_latent: 0.00, g_loss: 25.36\n",
      "Epoch: 1/10, d_loss_real_image: 0.00, d_loss_real_latent: 0.00, d_loss_fake_image: 564.48, d_loss_fake_latent: 0.00, g_loss: 121.99\n",
      "Epoch: 1/10, d_loss_real_image: 0.00, d_loss_real_latent: 0.00, d_loss_fake_image: 446.26, d_loss_fake_latent: 0.00, g_loss: 77.27\n",
      "Epoch: 1/10, d_loss_real_image: 14227.32, d_loss_real_latent: 0.00, d_loss_fake_image: 1243.24, d_loss_fake_latent: 0.00, g_loss: 0.00\n",
      "Epoch: 1/10, d_loss_real_image: 0.00, d_loss_real_latent: 0.00, d_loss_fake_image: 548.96, d_loss_fake_latent: 0.00, g_loss: 0.00\n",
      "Epoch: 1/10, d_loss_real_image: 0.00, d_loss_real_latent: 0.00, d_loss_fake_image: 719.69, d_loss_fake_latent: 0.00, g_loss: 0.00\n",
      "Epoch: 1/10, d_loss_real_image: 0.00, d_loss_real_latent: 0.00, d_loss_fake_image: 726.40, d_loss_fake_latent: 0.00, g_loss: 2.49\n",
      "Epoch: 1/10, d_loss_real_image: 0.00, d_loss_real_latent: 0.00, d_loss_fake_image: 322.73, d_loss_fake_latent: 0.00, g_loss: 40.77\n",
      "Epoch: 1/10, d_loss_real_image: 0.00, d_loss_real_latent: 0.00, d_loss_fake_image: 400.95, d_loss_fake_latent: 0.00, g_loss: 28.09\n",
      "Epoch: 1/10, d_loss_real_image: 0.00, d_loss_real_latent: 0.00, d_loss_fake_image: 506.25, d_loss_fake_latent: 0.00, g_loss: 95.64\n",
      "Epoch: 1/10, d_loss_real_image: 0.00, d_loss_real_latent: 0.00, d_loss_fake_image: 255.28, d_loss_fake_latent: 0.00, g_loss: 159.84\n",
      "Epoch: 1/10, d_loss_real_image: 0.00, d_loss_real_latent: 0.00, d_loss_fake_image: 288.49, d_loss_fake_latent: 0.00, g_loss: 14.24\n",
      "Epoch: 1/10, d_loss_real_image: 0.00, d_loss_real_latent: 0.00, d_loss_fake_image: 531.69, d_loss_fake_latent: 0.00, g_loss: 5.02\n",
      "Epoch: 1/10, d_loss_real_image: 0.00, d_loss_real_latent: 0.00, d_loss_fake_image: 606.36, d_loss_fake_latent: 0.00, g_loss: 10.35\n",
      "Epoch: 1/10, d_loss_real_image: 0.00, d_loss_real_latent: 0.00, d_loss_fake_image: 395.34, d_loss_fake_latent: 0.00, g_loss: 0.00\n",
      "Epoch: 1/10, d_loss_real_image: 0.00, d_loss_real_latent: 0.00, d_loss_fake_image: 382.68, d_loss_fake_latent: 0.00, g_loss: 0.00\n",
      "Epoch: 1/10, d_loss_real_image: 0.00, d_loss_real_latent: 0.00, d_loss_fake_image: 303.93, d_loss_fake_latent: 0.00, g_loss: 16.32\n",
      "Epoch: 1/10, d_loss_real_image: 0.00, d_loss_real_latent: 0.00, d_loss_fake_image: 126.96, d_loss_fake_latent: 0.00, g_loss: 73.48\n",
      "Epoch: 1/10, d_loss_real_image: 0.00, d_loss_real_latent: 0.00, d_loss_fake_image: 127.65, d_loss_fake_latent: 0.00, g_loss: 96.87\n",
      "Epoch: 1/10, d_loss_real_image: 0.00, d_loss_real_latent: 0.00, d_loss_fake_image: 246.08, d_loss_fake_latent: 0.00, g_loss: 40.21\n",
      "Epoch: 1/10, d_loss_real_image: 0.00, d_loss_real_latent: 0.00, d_loss_fake_image: 432.87, d_loss_fake_latent: 0.00, g_loss: 29.87\n",
      "Epoch: 1/10, d_loss_real_image: 0.00, d_loss_real_latent: 0.00, d_loss_fake_image: 320.35, d_loss_fake_latent: 0.00, g_loss: 19.76\n",
      "Epoch: 1/10, d_loss_real_image: 0.00, d_loss_real_latent: 0.00, d_loss_fake_image: 251.04, d_loss_fake_latent: 0.00, g_loss: 0.00\n",
      "Epoch: 1/10, d_loss_real_image: 0.00, d_loss_real_latent: 0.00, d_loss_fake_image: 379.52, d_loss_fake_latent: 0.00, g_loss: 0.00\n",
      "Epoch: 1/10, d_loss_real_image: 0.00, d_loss_real_latent: 0.00, d_loss_fake_image: 225.91, d_loss_fake_latent: 0.00, g_loss: 2.30\n",
      "Epoch: 1/10, d_loss_real_image: 0.00, d_loss_real_latent: 0.00, d_loss_fake_image: 273.08, d_loss_fake_latent: 0.00, g_loss: 8.60\n",
      "Epoch: 1/10, d_loss_real_image: 0.00, d_loss_real_latent: 0.00, d_loss_fake_image: 207.13, d_loss_fake_latent: 0.00, g_loss: 21.47\n",
      "Epoch: 1/10, d_loss_real_image: 0.00, d_loss_real_latent: 0.00, d_loss_fake_image: 183.91, d_loss_fake_latent: 0.00, g_loss: 55.89\n",
      "Epoch: 1/10, d_loss_real_image: 0.00, d_loss_real_latent: 0.00, d_loss_fake_image: 155.96, d_loss_fake_latent: 0.00, g_loss: 27.50\n",
      "Epoch: 1/10, d_loss_real_image: 0.00, d_loss_real_latent: 0.00, d_loss_fake_image: 161.60, d_loss_fake_latent: 0.00, g_loss: 10.31\n",
      "Epoch: 1/10, d_loss_real_image: 0.00, d_loss_real_latent: 0.00, d_loss_fake_image: 238.20, d_loss_fake_latent: 0.00, g_loss: 3.45\n",
      "Epoch: 1/10, d_loss_real_image: 0.00, d_loss_real_latent: 0.00, d_loss_fake_image: 207.97, d_loss_fake_latent: 0.00, g_loss: 4.50\n",
      "Epoch: 1/10, d_loss_real_image: 0.00, d_loss_real_latent: 0.00, d_loss_fake_image: 240.32, d_loss_fake_latent: 0.00, g_loss: 0.86\n",
      "Epoch: 1/10, d_loss_real_image: 0.00, d_loss_real_latent: 0.00, d_loss_fake_image: 188.21, d_loss_fake_latent: 0.00, g_loss: 12.47\n",
      "Epoch: 1/10, d_loss_real_image: 0.00, d_loss_real_latent: 0.00, d_loss_fake_image: 169.20, d_loss_fake_latent: 0.00, g_loss: 17.40\n",
      "Epoch: 1/10, d_loss_real_image: 0.00, d_loss_real_latent: 0.00, d_loss_fake_image: 163.67, d_loss_fake_latent: 0.00, g_loss: 10.15\n",
      "Epoch: 1/10, d_loss_real_image: 0.00, d_loss_real_latent: 0.00, d_loss_fake_image: 184.38, d_loss_fake_latent: 0.00, g_loss: 13.73\n",
      "Epoch: 1/10, d_loss_real_image: 11534.18, d_loss_real_latent: 0.00, d_loss_fake_image: 287.74, d_loss_fake_latent: 0.00, g_loss: 0.00\n",
      "Epoch: 1/10, d_loss_real_image: 0.00, d_loss_real_latent: 0.00, d_loss_fake_image: 359.94, d_loss_fake_latent: 0.00, g_loss: 0.00\n",
      "Epoch: 1/10, d_loss_real_image: 0.00, d_loss_real_latent: 0.00, d_loss_fake_image: 389.31, d_loss_fake_latent: 0.00, g_loss: 5.58\n",
      "Epoch: 1/10, d_loss_real_image: 0.00, d_loss_real_latent: 0.00, d_loss_fake_image: 151.35, d_loss_fake_latent: 0.00, g_loss: 510.64\n",
      "1/1 [==============================] - 0s 20ms/step\n",
      "Epoch: 2/10, d_loss_real_image: 0.00, d_loss_real_latent: 0.00, d_loss_fake_image: 790.28, d_loss_fake_latent: 0.00, g_loss: 0.00\n",
      "Epoch: 2/10, d_loss_real_image: 0.00, d_loss_real_latent: 0.00, d_loss_fake_image: 1168.25, d_loss_fake_latent: 0.00, g_loss: 0.80\n",
      "Epoch: 2/10, d_loss_real_image: 0.00, d_loss_real_latent: 0.00, d_loss_fake_image: 592.70, d_loss_fake_latent: 0.00, g_loss: 340.47\n",
      "Epoch: 2/10, d_loss_real_image: 0.00, d_loss_real_latent: 0.00, d_loss_fake_image: 759.84, d_loss_fake_latent: 0.00, g_loss: 3.38\n",
      "Epoch: 2/10, d_loss_real_image: 0.00, d_loss_real_latent: 0.00, d_loss_fake_image: 841.12, d_loss_fake_latent: 0.00, g_loss: 0.00\n",
      "Epoch: 2/10, d_loss_real_image: 0.00, d_loss_real_latent: 0.00, d_loss_fake_image: 869.02, d_loss_fake_latent: 0.00, g_loss: 0.00\n",
      "Epoch: 2/10, d_loss_real_image: 0.00, d_loss_real_latent: 0.00, d_loss_fake_image: 883.95, d_loss_fake_latent: 0.00, g_loss: 0.00\n",
      "Epoch: 2/10, d_loss_real_image: 0.00, d_loss_real_latent: 0.00, d_loss_fake_image: 771.26, d_loss_fake_latent: 0.00, g_loss: 0.00\n",
      "Epoch: 2/10, d_loss_real_image: 0.00, d_loss_real_latent: 0.00, d_loss_fake_image: 720.63, d_loss_fake_latent: 0.00, g_loss: 0.00\n",
      "Epoch: 2/10, d_loss_real_image: 0.00, d_loss_real_latent: 0.00, d_loss_fake_image: 627.44, d_loss_fake_latent: 0.00, g_loss: 0.00\n",
      "Epoch: 2/10, d_loss_real_image: 0.00, d_loss_real_latent: 0.00, d_loss_fake_image: 425.64, d_loss_fake_latent: 0.00, g_loss: 0.00\n",
      "Epoch: 2/10, d_loss_real_image: 0.00, d_loss_real_latent: 0.00, d_loss_fake_image: 253.55, d_loss_fake_latent: 0.00, g_loss: 2.61\n",
      "Epoch: 2/10, d_loss_real_image: 0.00, d_loss_real_latent: 0.00, d_loss_fake_image: 135.08, d_loss_fake_latent: 0.00, g_loss: 39.08\n",
      "Epoch: 2/10, d_loss_real_image: 0.00, d_loss_real_latent: 0.00, d_loss_fake_image: 80.47, d_loss_fake_latent: 0.00, g_loss: 94.69\n",
      "Epoch: 2/10, d_loss_real_image: 0.00, d_loss_real_latent: 0.00, d_loss_fake_image: 146.98, d_loss_fake_latent: 0.00, g_loss: 43.11\n"
     ]
    },
    {
     "ename": "KeyboardInterrupt",
     "evalue": "",
     "output_type": "error",
     "traceback": [
      "\u001b[1;31m---------------------------------------------------------------------------\u001b[0m",
      "\u001b[1;31mKeyboardInterrupt\u001b[0m                         Traceback (most recent call last)",
      "\u001b[1;32md:\\GAN_poke\\AEGAN\\AEGAN.ipynb Cell 16\u001b[0m in \u001b[0;36m1\n\u001b[1;32m----> <a href='vscode-notebook-cell:/d%3A/GAN_poke/AEGAN/AEGAN.ipynb#X21sZmlsZQ%3D%3D?line=0'>1</a>\u001b[0m aegan\u001b[39m.\u001b[39;49mtrain(epochs\u001b[39m=\u001b[39;49m\u001b[39m10\u001b[39;49m, batch_size\u001b[39m=\u001b[39;49m\u001b[39m32\u001b[39;49m, train_ds\u001b[39m=\u001b[39;49mtrain_ds)\n",
      "\u001b[1;32md:\\GAN_poke\\AEGAN\\AEGAN.ipynb Cell 16\u001b[0m in \u001b[0;36m3\n\u001b[0;32m     <a href='vscode-notebook-cell:/d%3A/GAN_poke/AEGAN/AEGAN.ipynb#X21sZmlsZQ%3D%3D?line=35'>36</a>\u001b[0m latent \u001b[39m=\u001b[39m np\u001b[39m.\u001b[39mrandom\u001b[39m.\u001b[39mnormal(\u001b[39m0\u001b[39m, \u001b[39m1\u001b[39m, (batch_size, \u001b[39mself\u001b[39m\u001b[39m.\u001b[39mlatent_dim))\n\u001b[0;32m     <a href='vscode-notebook-cell:/d%3A/GAN_poke/AEGAN/AEGAN.ipynb#X21sZmlsZQ%3D%3D?line=36'>37</a>\u001b[0m fake_image \u001b[39m=\u001b[39m \u001b[39mself\u001b[39m\u001b[39m.\u001b[39mgenerator\u001b[39m.\u001b[39mpredict(latent, verbose\u001b[39m=\u001b[39m\u001b[39m0\u001b[39m)\n\u001b[1;32m---> <a href='vscode-notebook-cell:/d%3A/GAN_poke/AEGAN/AEGAN.ipynb#X21sZmlsZQ%3D%3D?line=37'>38</a>\u001b[0m fake_latent \u001b[39m=\u001b[39m \u001b[39mself\u001b[39;49m\u001b[39m.\u001b[39;49mencoder\u001b[39m.\u001b[39;49mpredict(fake_image, verbose\u001b[39m=\u001b[39;49m\u001b[39m0\u001b[39;49m)\n\u001b[0;32m     <a href='vscode-notebook-cell:/d%3A/GAN_poke/AEGAN/AEGAN.ipynb#X21sZmlsZQ%3D%3D?line=38'>39</a>\u001b[0m d_loss_fake_image \u001b[39m=\u001b[39m \u001b[39mself\u001b[39m\u001b[39m.\u001b[39mdiscriminator_image\u001b[39m.\u001b[39mtrain_on_batch(fake_image, np\u001b[39m.\u001b[39mzeros((batch_size, \u001b[39m1\u001b[39m)))\n\u001b[0;32m     <a href='vscode-notebook-cell:/d%3A/GAN_poke/AEGAN/AEGAN.ipynb#X21sZmlsZQ%3D%3D?line=39'>40</a>\u001b[0m d_loss_fake_latent \u001b[39m=\u001b[39m \u001b[39mself\u001b[39m\u001b[39m.\u001b[39mdiscriminator_latent\u001b[39m.\u001b[39mtrain_on_batch(fake_latent, np\u001b[39m.\u001b[39mones((batch_size, \u001b[39m1\u001b[39m)))\n",
      "File \u001b[1;32mc:\\Users\\valen\\AppData\\Local\\Programs\\Python\\Python310\\lib\\site-packages\\keras\\utils\\traceback_utils.py:65\u001b[0m, in \u001b[0;36mfilter_traceback.<locals>.error_handler\u001b[1;34m(*args, **kwargs)\u001b[0m\n\u001b[0;32m     63\u001b[0m filtered_tb \u001b[39m=\u001b[39m \u001b[39mNone\u001b[39;00m\n\u001b[0;32m     64\u001b[0m \u001b[39mtry\u001b[39;00m:\n\u001b[1;32m---> 65\u001b[0m     \u001b[39mreturn\u001b[39;00m fn(\u001b[39m*\u001b[39margs, \u001b[39m*\u001b[39m\u001b[39m*\u001b[39mkwargs)\n\u001b[0;32m     66\u001b[0m \u001b[39mexcept\u001b[39;00m \u001b[39mException\u001b[39;00m \u001b[39mas\u001b[39;00m e:\n\u001b[0;32m     67\u001b[0m     filtered_tb \u001b[39m=\u001b[39m _process_traceback_frames(e\u001b[39m.\u001b[39m__traceback__)\n",
      "File \u001b[1;32mc:\\Users\\valen\\AppData\\Local\\Programs\\Python\\Python310\\lib\\site-packages\\keras\\engine\\training.py:2220\u001b[0m, in \u001b[0;36mModel.predict\u001b[1;34m(self, x, batch_size, verbose, steps, callbacks, max_queue_size, workers, use_multiprocessing)\u001b[0m\n\u001b[0;32m   2211\u001b[0m     \u001b[39mexcept\u001b[39;00m \u001b[39mValueError\u001b[39;00m:\n\u001b[0;32m   2212\u001b[0m         warnings\u001b[39m.\u001b[39mwarn(\n\u001b[0;32m   2213\u001b[0m             \u001b[39m\"\u001b[39m\u001b[39mUsing Model.predict with MultiWorkerMirroredStrategy \u001b[39m\u001b[39m\"\u001b[39m\n\u001b[0;32m   2214\u001b[0m             \u001b[39m\"\u001b[39m\u001b[39mor TPUStrategy and AutoShardPolicy.FILE might lead to \u001b[39m\u001b[39m\"\u001b[39m\n\u001b[1;32m   (...)\u001b[0m\n\u001b[0;32m   2217\u001b[0m             stacklevel\u001b[39m=\u001b[39m\u001b[39m2\u001b[39m,\n\u001b[0;32m   2218\u001b[0m         )\n\u001b[1;32m-> 2220\u001b[0m data_handler \u001b[39m=\u001b[39m data_adapter\u001b[39m.\u001b[39;49mget_data_handler(\n\u001b[0;32m   2221\u001b[0m     x\u001b[39m=\u001b[39;49mx,\n\u001b[0;32m   2222\u001b[0m     batch_size\u001b[39m=\u001b[39;49mbatch_size,\n\u001b[0;32m   2223\u001b[0m     steps_per_epoch\u001b[39m=\u001b[39;49msteps,\n\u001b[0;32m   2224\u001b[0m     initial_epoch\u001b[39m=\u001b[39;49m\u001b[39m0\u001b[39;49m,\n\u001b[0;32m   2225\u001b[0m     epochs\u001b[39m=\u001b[39;49m\u001b[39m1\u001b[39;49m,\n\u001b[0;32m   2226\u001b[0m     max_queue_size\u001b[39m=\u001b[39;49mmax_queue_size,\n\u001b[0;32m   2227\u001b[0m     workers\u001b[39m=\u001b[39;49mworkers,\n\u001b[0;32m   2228\u001b[0m     use_multiprocessing\u001b[39m=\u001b[39;49muse_multiprocessing,\n\u001b[0;32m   2229\u001b[0m     model\u001b[39m=\u001b[39;49m\u001b[39mself\u001b[39;49m,\n\u001b[0;32m   2230\u001b[0m     steps_per_execution\u001b[39m=\u001b[39;49m\u001b[39mself\u001b[39;49m\u001b[39m.\u001b[39;49m_steps_per_execution,\n\u001b[0;32m   2231\u001b[0m )\n\u001b[0;32m   2233\u001b[0m \u001b[39m# Container that configures and calls `tf.keras.Callback`s.\u001b[39;00m\n\u001b[0;32m   2234\u001b[0m \u001b[39mif\u001b[39;00m \u001b[39mnot\u001b[39;00m \u001b[39misinstance\u001b[39m(callbacks, callbacks_module\u001b[39m.\u001b[39mCallbackList):\n",
      "File \u001b[1;32mc:\\Users\\valen\\AppData\\Local\\Programs\\Python\\Python310\\lib\\site-packages\\keras\\engine\\data_adapter.py:1582\u001b[0m, in \u001b[0;36mget_data_handler\u001b[1;34m(*args, **kwargs)\u001b[0m\n\u001b[0;32m   1580\u001b[0m \u001b[39mif\u001b[39;00m \u001b[39mgetattr\u001b[39m(kwargs[\u001b[39m\"\u001b[39m\u001b[39mmodel\u001b[39m\u001b[39m\"\u001b[39m], \u001b[39m\"\u001b[39m\u001b[39m_cluster_coordinator\u001b[39m\u001b[39m\"\u001b[39m, \u001b[39mNone\u001b[39;00m):\n\u001b[0;32m   1581\u001b[0m     \u001b[39mreturn\u001b[39;00m _ClusterCoordinatorDataHandler(\u001b[39m*\u001b[39margs, \u001b[39m*\u001b[39m\u001b[39m*\u001b[39mkwargs)\n\u001b[1;32m-> 1582\u001b[0m \u001b[39mreturn\u001b[39;00m DataHandler(\u001b[39m*\u001b[39margs, \u001b[39m*\u001b[39m\u001b[39m*\u001b[39mkwargs)\n",
      "File \u001b[1;32mc:\\Users\\valen\\AppData\\Local\\Programs\\Python\\Python310\\lib\\site-packages\\keras\\engine\\data_adapter.py:1262\u001b[0m, in \u001b[0;36mDataHandler.__init__\u001b[1;34m(self, x, y, sample_weight, batch_size, steps_per_epoch, initial_epoch, epochs, shuffle, class_weight, max_queue_size, workers, use_multiprocessing, model, steps_per_execution, distribute)\u001b[0m\n\u001b[0;32m   1259\u001b[0m     \u001b[39mself\u001b[39m\u001b[39m.\u001b[39m_steps_per_execution \u001b[39m=\u001b[39m steps_per_execution\n\u001b[0;32m   1261\u001b[0m adapter_cls \u001b[39m=\u001b[39m select_data_adapter(x, y)\n\u001b[1;32m-> 1262\u001b[0m \u001b[39mself\u001b[39m\u001b[39m.\u001b[39m_adapter \u001b[39m=\u001b[39m adapter_cls(\n\u001b[0;32m   1263\u001b[0m     x,\n\u001b[0;32m   1264\u001b[0m     y,\n\u001b[0;32m   1265\u001b[0m     batch_size\u001b[39m=\u001b[39;49mbatch_size,\n\u001b[0;32m   1266\u001b[0m     steps\u001b[39m=\u001b[39;49msteps_per_epoch,\n\u001b[0;32m   1267\u001b[0m     epochs\u001b[39m=\u001b[39;49mepochs \u001b[39m-\u001b[39;49m initial_epoch,\n\u001b[0;32m   1268\u001b[0m     sample_weights\u001b[39m=\u001b[39;49msample_weight,\n\u001b[0;32m   1269\u001b[0m     shuffle\u001b[39m=\u001b[39;49mshuffle,\n\u001b[0;32m   1270\u001b[0m     max_queue_size\u001b[39m=\u001b[39;49mmax_queue_size,\n\u001b[0;32m   1271\u001b[0m     workers\u001b[39m=\u001b[39;49mworkers,\n\u001b[0;32m   1272\u001b[0m     use_multiprocessing\u001b[39m=\u001b[39;49muse_multiprocessing,\n\u001b[0;32m   1273\u001b[0m     distribution_strategy\u001b[39m=\u001b[39;49mtf\u001b[39m.\u001b[39;49mdistribute\u001b[39m.\u001b[39;49mget_strategy(),\n\u001b[0;32m   1274\u001b[0m     model\u001b[39m=\u001b[39;49mmodel,\n\u001b[0;32m   1275\u001b[0m )\n\u001b[0;32m   1277\u001b[0m strategy \u001b[39m=\u001b[39m tf\u001b[39m.\u001b[39mdistribute\u001b[39m.\u001b[39mget_strategy()\n\u001b[0;32m   1279\u001b[0m \u001b[39mself\u001b[39m\u001b[39m.\u001b[39m_current_step \u001b[39m=\u001b[39m \u001b[39m0\u001b[39m\n",
      "File \u001b[1;32mc:\\Users\\valen\\AppData\\Local\\Programs\\Python\\Python310\\lib\\site-packages\\keras\\engine\\data_adapter.py:308\u001b[0m, in \u001b[0;36mTensorLikeDataAdapter.__init__\u001b[1;34m(self, x, y, sample_weights, sample_weight_modes, batch_size, epochs, steps, shuffle, **kwargs)\u001b[0m\n\u001b[0;32m    301\u001b[0m     \u001b[39mreturn\u001b[39;00m indices\n\u001b[0;32m    303\u001b[0m \u001b[39m# We prefetch a single element. Computing large permutations can take\u001b[39;00m\n\u001b[0;32m    304\u001b[0m \u001b[39m# quite a while so we don't want to wait for prefetching over an epoch\u001b[39;00m\n\u001b[0;32m    305\u001b[0m \u001b[39m# boundary to trigger the next permutation. On the other hand, too many\u001b[39;00m\n\u001b[0;32m    306\u001b[0m \u001b[39m# simultaneous shuffles can contend on a hardware level and degrade all\u001b[39;00m\n\u001b[0;32m    307\u001b[0m \u001b[39m# performance.\u001b[39;00m\n\u001b[1;32m--> 308\u001b[0m indices_dataset \u001b[39m=\u001b[39m indices_dataset\u001b[39m.\u001b[39;49mmap(permutation)\u001b[39m.\u001b[39mprefetch(\u001b[39m1\u001b[39m)\n\u001b[0;32m    310\u001b[0m \u001b[39mdef\u001b[39;00m \u001b[39mslice_batch_indices\u001b[39m(indices):\n\u001b[0;32m    311\u001b[0m     \u001b[39m\"\"\"Convert a Tensor of indices into a dataset of batched indices.\u001b[39;00m\n\u001b[0;32m    312\u001b[0m \n\u001b[0;32m    313\u001b[0m \u001b[39m    This step can be accomplished in several ways. The most natural is\u001b[39;00m\n\u001b[1;32m   (...)\u001b[0m\n\u001b[0;32m    325\u001b[0m \u001b[39m      A Dataset of batched indices.\u001b[39;00m\n\u001b[0;32m    326\u001b[0m \u001b[39m    \"\"\"\u001b[39;00m\n",
      "File \u001b[1;32mc:\\Users\\valen\\AppData\\Local\\Programs\\Python\\Python310\\lib\\site-packages\\tensorflow\\python\\data\\ops\\dataset_ops.py:2202\u001b[0m, in \u001b[0;36mDatasetV2.map\u001b[1;34m(self, map_func, num_parallel_calls, deterministic, name)\u001b[0m\n\u001b[0;32m   2199\u001b[0m   \u001b[39mif\u001b[39;00m deterministic \u001b[39mis\u001b[39;00m \u001b[39mnot\u001b[39;00m \u001b[39mNone\u001b[39;00m \u001b[39mand\u001b[39;00m \u001b[39mnot\u001b[39;00m DEBUG_MODE:\n\u001b[0;32m   2200\u001b[0m     warnings\u001b[39m.\u001b[39mwarn(\u001b[39m\"\u001b[39m\u001b[39mThe `deterministic` argument has no effect unless the \u001b[39m\u001b[39m\"\u001b[39m\n\u001b[0;32m   2201\u001b[0m                   \u001b[39m\"\u001b[39m\u001b[39m`num_parallel_calls` argument is specified.\u001b[39m\u001b[39m\"\u001b[39m)\n\u001b[1;32m-> 2202\u001b[0m   \u001b[39mreturn\u001b[39;00m MapDataset(\u001b[39mself\u001b[39;49m, map_func, preserve_cardinality\u001b[39m=\u001b[39;49m\u001b[39mTrue\u001b[39;49;00m, name\u001b[39m=\u001b[39;49mname)\n\u001b[0;32m   2203\u001b[0m \u001b[39melse\u001b[39;00m:\n\u001b[0;32m   2204\u001b[0m   \u001b[39mreturn\u001b[39;00m ParallelMapDataset(\n\u001b[0;32m   2205\u001b[0m       \u001b[39mself\u001b[39m,\n\u001b[0;32m   2206\u001b[0m       map_func,\n\u001b[1;32m   (...)\u001b[0m\n\u001b[0;32m   2209\u001b[0m       preserve_cardinality\u001b[39m=\u001b[39m\u001b[39mTrue\u001b[39;00m,\n\u001b[0;32m   2210\u001b[0m       name\u001b[39m=\u001b[39mname)\n",
      "File \u001b[1;32mc:\\Users\\valen\\AppData\\Local\\Programs\\Python\\Python310\\lib\\site-packages\\tensorflow\\python\\data\\ops\\dataset_ops.py:5406\u001b[0m, in \u001b[0;36mMapDataset.__init__\u001b[1;34m(self, input_dataset, map_func, use_inter_op_parallelism, preserve_cardinality, use_legacy_function, name)\u001b[0m\n\u001b[0;32m   5400\u001b[0m \u001b[39mself\u001b[39m\u001b[39m.\u001b[39m_map_func \u001b[39m=\u001b[39m structured_function\u001b[39m.\u001b[39mStructuredFunctionWrapper(\n\u001b[0;32m   5401\u001b[0m     map_func,\n\u001b[0;32m   5402\u001b[0m     \u001b[39mself\u001b[39m\u001b[39m.\u001b[39m_transformation_name(),\n\u001b[0;32m   5403\u001b[0m     dataset\u001b[39m=\u001b[39minput_dataset,\n\u001b[0;32m   5404\u001b[0m     use_legacy_function\u001b[39m=\u001b[39muse_legacy_function)\n\u001b[0;32m   5405\u001b[0m \u001b[39mself\u001b[39m\u001b[39m.\u001b[39m_name \u001b[39m=\u001b[39m name\n\u001b[1;32m-> 5406\u001b[0m variant_tensor \u001b[39m=\u001b[39m gen_dataset_ops\u001b[39m.\u001b[39mmap_dataset(\n\u001b[0;32m   5407\u001b[0m     input_dataset\u001b[39m.\u001b[39m_variant_tensor,  \u001b[39m# pylint: disable=protected-access\u001b[39;00m\n\u001b[0;32m   5408\u001b[0m     \u001b[39mself\u001b[39m\u001b[39m.\u001b[39m_map_func\u001b[39m.\u001b[39mfunction\u001b[39m.\u001b[39mcaptured_inputs,\n\u001b[0;32m   5409\u001b[0m     f\u001b[39m=\u001b[39m\u001b[39mself\u001b[39m\u001b[39m.\u001b[39m_map_func\u001b[39m.\u001b[39mfunction,\n\u001b[0;32m   5410\u001b[0m     use_inter_op_parallelism\u001b[39m=\u001b[39m\u001b[39mself\u001b[39m\u001b[39m.\u001b[39m_use_inter_op_parallelism,\n\u001b[0;32m   5411\u001b[0m     preserve_cardinality\u001b[39m=\u001b[39m\u001b[39mself\u001b[39m\u001b[39m.\u001b[39m_preserve_cardinality,\n\u001b[0;32m   5412\u001b[0m     \u001b[39m*\u001b[39m\u001b[39m*\u001b[39m\u001b[39mself\u001b[39m\u001b[39m.\u001b[39m_common_args)\n\u001b[0;32m   5413\u001b[0m \u001b[39msuper\u001b[39m(MapDataset, \u001b[39mself\u001b[39m)\u001b[39m.\u001b[39m\u001b[39m__init__\u001b[39m(input_dataset, variant_tensor)\n",
      "File \u001b[1;32mc:\\Users\\valen\\AppData\\Local\\Programs\\Python\\Python310\\lib\\site-packages\\tensorflow\\python\\ops\\gen_dataset_ops.py:3459\u001b[0m, in \u001b[0;36mmap_dataset\u001b[1;34m(input_dataset, other_arguments, f, output_types, output_shapes, use_inter_op_parallelism, preserve_cardinality, metadata, name)\u001b[0m\n\u001b[0;32m   3457\u001b[0m \u001b[39mif\u001b[39;00m tld\u001b[39m.\u001b[39mis_eager:\n\u001b[0;32m   3458\u001b[0m   \u001b[39mtry\u001b[39;00m:\n\u001b[1;32m-> 3459\u001b[0m     _result \u001b[39m=\u001b[39m pywrap_tfe\u001b[39m.\u001b[39;49mTFE_Py_FastPathExecute(\n\u001b[0;32m   3460\u001b[0m       _ctx, \u001b[39m\"\u001b[39;49m\u001b[39mMapDataset\u001b[39;49m\u001b[39m\"\u001b[39;49m, name, input_dataset, other_arguments, \u001b[39m\"\u001b[39;49m\u001b[39mf\u001b[39;49m\u001b[39m\"\u001b[39;49m, f,\n\u001b[0;32m   3461\u001b[0m       \u001b[39m\"\u001b[39;49m\u001b[39moutput_types\u001b[39;49m\u001b[39m\"\u001b[39;49m, output_types, \u001b[39m\"\u001b[39;49m\u001b[39moutput_shapes\u001b[39;49m\u001b[39m\"\u001b[39;49m, output_shapes,\n\u001b[0;32m   3462\u001b[0m       \u001b[39m\"\u001b[39;49m\u001b[39muse_inter_op_parallelism\u001b[39;49m\u001b[39m\"\u001b[39;49m, use_inter_op_parallelism,\n\u001b[0;32m   3463\u001b[0m       \u001b[39m\"\u001b[39;49m\u001b[39mpreserve_cardinality\u001b[39;49m\u001b[39m\"\u001b[39;49m, preserve_cardinality, \u001b[39m\"\u001b[39;49m\u001b[39mmetadata\u001b[39;49m\u001b[39m\"\u001b[39;49m, metadata)\n\u001b[0;32m   3464\u001b[0m     \u001b[39mreturn\u001b[39;00m _result\n\u001b[0;32m   3465\u001b[0m   \u001b[39mexcept\u001b[39;00m _core\u001b[39m.\u001b[39m_NotOkStatusException \u001b[39mas\u001b[39;00m e:\n",
      "\u001b[1;31mKeyboardInterrupt\u001b[0m: "
     ]
    }
   ],
   "source": [
    "aegan.train(epochs=10, batch_size=32, train_ds=train_ds)\n"
   ]
  },
  {
   "cell_type": "code",
   "execution_count": 42,
   "metadata": {},
   "outputs": [],
   "source": [
    "# define the discriminator model\n",
    "def define_discriminator(input_shape, num_classes):\n",
    "    img_input = tf.keras.layers.Input(shape=input_shape)\n",
    "    label_input = tf.keras.layers.Input(shape=(num_classes,))\n",
    "\n",
    "    # image branch\n",
    "    layer = tf.keras.layers.Conv2D(64, (3, 3), padding='same')(img_input)\n",
    "    layer = tf.keras.layers.LeakyReLU(alpha=0.2)(layer)\n",
    "    layer = tf.keras.layers.Conv2D(\n",
    "        128, (3, 3), strides=(2, 2), padding='same')(layer)\n",
    "    layer = tf.keras.layers.LeakyReLU(alpha=0.2)(layer)\n",
    "    layer = tf.keras.layers.Conv2D(\n",
    "        128, (3, 3), strides=(2, 2), padding='same')(layer)\n",
    "    layer = tf.keras.layers.LeakyReLU(alpha=0.2)(layer)\n",
    "    layer = tf.keras.layers.Conv2D(\n",
    "        256, (3, 3), strides=(2, 2), padding='same')(layer)\n",
    "    layer = tf.keras.layers.LeakyReLU(alpha=0.2)(layer)\n",
    "    layer = tf.keras.layers.Conv2D(\n",
    "        256, (3, 3), strides=(2, 2), padding='same')(layer)\n",
    "    layer = tf.keras.layers.LeakyReLU(alpha=0.2)(layer)\n",
    "    layer = tf.keras.layers.Flatten()(layer)\n",
    "\n",
    "    # label branch\n",
    "    label_layer = tf.keras.layers.Dense(64)(label_input)\n",
    "    label_layer = tf.keras.layers.LeakyReLU(alpha=0.2)(label_layer)\n",
    "    label_layer = tf.keras.layers.Dense(128)(label_layer)\n",
    "    label_layer = tf.keras.layers.LeakyReLU(alpha=0.2)(label_layer)\n",
    "    label_layer = tf.keras.layers.Dense(256)(label_layer)\n",
    "    # label_layer = tf.keras.layers.LeakyReLU(alpha=0.2)(label_layer)\n",
    "    # label_layer = tf.keras.layers.Dense(256)(label_layer)\n",
    "    label_layer = tf.keras.layers.LeakyReLU(alpha=0.2)(label_layer)\n",
    "    label_layer = tf.keras.layers.Flatten()(label_layer)\n",
    "\n",
    "    # concatenate image and label branches\n",
    "    layer = tf.keras.layers.concatenate([layer, label_layer])\n",
    "    layer = tf.keras.layers.Dropout(0.4)(layer)\n",
    "    layer = tf.keras.layers.Dense(1, activation='sigmoid')(layer)\n",
    "\n",
    "    # define the model\n",
    "    model = tf.keras.models.Model(\n",
    "        inputs=[img_input, label_input], outputs=layer)\n",
    "\n",
    "    # compile the model\n",
    "    opt = tf.keras.optimizers.Adam(learning_rate=0.0001, beta_1=0.5)\n",
    "    model.compile(loss='binary_crossentropy',\n",
    "                  optimizer=opt, metrics=['accuracy'])\n",
    "\n",
    "    return model\n",
    "\n",
    "\n",
    "def define_aegenerator(latent_dim, num_classes, input_shape):\n",
    "    # Encoder network\n",
    "    encoder_input = tf.keras.layers.Input(shape=input_shape)\n",
    "    encoder = tf.keras.layers.Conv2D(64, (3, 3), padding='same')(encoder_input)\n",
    "    encoder = tf.keras.layers.LeakyReLU(alpha=0.2)(encoder)\n",
    "    encoder = tf.keras.layers.Conv2D(\n",
    "        128, (3, 3), strides=(2, 2), padding='same')(encoder)\n",
    "    encoder = tf.keras.layers.LeakyReLU(alpha=0.2)(encoder)\n",
    "    encoder = tf.keras.layers.Conv2D(\n",
    "        128, (3, 3), strides=(2, 2), padding='same')(encoder)\n",
    "    encoder = tf.keras.layers.LeakyReLU(alpha=0.2)(encoder)\n",
    "    encoder = tf.keras.layers.Conv2D(\n",
    "        256, (3, 3), strides=(2, 2), padding='same')(encoder)\n",
    "    encoder = tf.keras.layers.LeakyReLU(alpha=0.2)(encoder)\n",
    "    encoder = tf.keras.layers.Conv2D(\n",
    "        256, (3, 3), strides=(2, 2), padding='same')(encoder)\n",
    "    encoder = tf.keras.layers.LeakyReLU(alpha=0.2)(encoder)\n",
    "    encoder = tf.keras.layers.Flatten()(encoder)\n",
    "    encoder = tf.keras.layers.Dense(latent_dim)(encoder)\n",
    "    # Decoder network\n",
    "    generator_input = tf.keras.layers.Input(shape=(latent_dim,))\n",
    "    label_input = tf.keras.layers.Input(shape=(num_classes,))\n",
    "    # Concatenate the latent representation and class label\n",
    "    merge = tf.keras.layers.concatenate([generator_input, label_input])\n",
    "    # Project to a larger dimension\n",
    "    n = 128\n",
    "    size = int(input_shape[0]/16)\n",
    "    n_nodes = n * size * size\n",
    "    dense = tf.keras.layers.Dense(n_nodes)(merge)\n",
    "    # Reshape the dense layer output\n",
    "    reshaped = tf.keras.layers.Reshape((size, size, n))(dense)\n",
    "    # Upsample the feature maps\n",
    "    upsampled = tf.keras.layers.Conv2DTranspose(\n",
    "        256, (4, 4), strides=(2, 2), padding='same')(reshaped)\n",
    "    upsampled = tf.keras.layers.LeakyReLU(alpha=0.2)(upsampled)\n",
    "    upsampled = tf.keras.layers.Conv2DTranspose(\n",
    "        256, (4, 4), strides=(2, 2), padding='same')(upsampled)\n",
    "    upsampled = tf.keras.layers.LeakyReLU(alpha=0.2)(upsampled)\n",
    "    upsampled = tf.keras.layers.Conv2DTranspose(\n",
    "        128, (4, 4), strides=(2, 2), padding='same')(upsampled)\n",
    "    upsampled = tf.keras.layers.LeakyReLU(alpha=0.2)(upsampled)\n",
    "    upsampled = tf.keras.layers.Conv2DTranspose(\n",
    "        128, (4, 4), strides=(2, 2), padding='same')(upsampled)\n",
    "    upsampled = tf.keras.layers.LeakyReLU(alpha=0.2)(upsampled)\n",
    "    # Output layer\n",
    "    generator_output = tf.keras.layers.Conv2D(\n",
    "        3, (3, 3), activation='tanh', padding='same')(upsampled)\n",
    "    # Define the model\n",
    "    generator = tf.keras.models.Model(\n",
    "        [generator_input, label_input], generator_output)\n",
    "    return generator\n"
   ]
  },
  {
   "cell_type": "code",
   "execution_count": 43,
   "metadata": {},
   "outputs": [],
   "source": [
    "def define_gan(g_model, d_model):\n",
    "    d_model.trainable = False\n",
    "    gen_noise, gen_label = g_model.input\n",
    "    gen_output = g_model.output\n",
    "    gan_output = d_model([gen_output, gen_label])\n",
    "    model = tf.keras.Model([gen_noise, gen_label], gan_output)\n",
    "    opt = tf.keras.optimizers.Adam(learning_rate=0.0002, beta_1=0.5)\n",
    "    model.compile(loss='binary_crossentropy', optimizer=opt)\n",
    "    return model\n"
   ]
  },
  {
   "cell_type": "code",
   "execution_count": 44,
   "metadata": {},
   "outputs": [
    {
     "name": "stdout",
     "output_type": "stream",
     "text": [
      "Model: \"model_7\"\n",
      "__________________________________________________________________________________________________\n",
      " Layer (type)                   Output Shape         Param #     Connected to                     \n",
      "==================================================================================================\n",
      " input_11 (InputLayer)          [(None, 96, 96, 3)]  0           []                               \n",
      "                                                                                                  \n",
      " conv2d_18 (Conv2D)             (None, 96, 96, 64)   1792        ['input_11[0][0]']               \n",
      "                                                                                                  \n",
      " leaky_re_lu_29 (LeakyReLU)     (None, 96, 96, 64)   0           ['conv2d_18[0][0]']              \n",
      "                                                                                                  \n",
      " conv2d_19 (Conv2D)             (None, 48, 48, 128)  73856       ['leaky_re_lu_29[0][0]']         \n",
      "                                                                                                  \n",
      " leaky_re_lu_30 (LeakyReLU)     (None, 48, 48, 128)  0           ['conv2d_19[0][0]']              \n",
      "                                                                                                  \n",
      " input_12 (InputLayer)          [(None, 18)]         0           []                               \n",
      "                                                                                                  \n",
      " conv2d_20 (Conv2D)             (None, 24, 24, 128)  147584      ['leaky_re_lu_30[0][0]']         \n",
      "                                                                                                  \n",
      " dense_13 (Dense)               (None, 64)           1216        ['input_12[0][0]']               \n",
      "                                                                                                  \n",
      " leaky_re_lu_31 (LeakyReLU)     (None, 24, 24, 128)  0           ['conv2d_20[0][0]']              \n",
      "                                                                                                  \n",
      " leaky_re_lu_34 (LeakyReLU)     (None, 64)           0           ['dense_13[0][0]']               \n",
      "                                                                                                  \n",
      " conv2d_21 (Conv2D)             (None, 12, 12, 256)  295168      ['leaky_re_lu_31[0][0]']         \n",
      "                                                                                                  \n",
      " dense_14 (Dense)               (None, 128)          8320        ['leaky_re_lu_34[0][0]']         \n",
      "                                                                                                  \n",
      " leaky_re_lu_32 (LeakyReLU)     (None, 12, 12, 256)  0           ['conv2d_21[0][0]']              \n",
      "                                                                                                  \n",
      " leaky_re_lu_35 (LeakyReLU)     (None, 128)          0           ['dense_14[0][0]']               \n",
      "                                                                                                  \n",
      " conv2d_22 (Conv2D)             (None, 6, 6, 256)    590080      ['leaky_re_lu_32[0][0]']         \n",
      "                                                                                                  \n",
      " dense_15 (Dense)               (None, 256)          33024       ['leaky_re_lu_35[0][0]']         \n",
      "                                                                                                  \n",
      " leaky_re_lu_33 (LeakyReLU)     (None, 6, 6, 256)    0           ['conv2d_22[0][0]']              \n",
      "                                                                                                  \n",
      " leaky_re_lu_36 (LeakyReLU)     (None, 256)          0           ['dense_15[0][0]']               \n",
      "                                                                                                  \n",
      " flatten_5 (Flatten)            (None, 9216)         0           ['leaky_re_lu_33[0][0]']         \n",
      "                                                                                                  \n",
      " flatten_6 (Flatten)            (None, 256)          0           ['leaky_re_lu_36[0][0]']         \n",
      "                                                                                                  \n",
      " concatenate_2 (Concatenate)    (None, 9472)         0           ['flatten_5[0][0]',              \n",
      "                                                                  'flatten_6[0][0]']              \n",
      "                                                                                                  \n",
      " dropout_8 (Dropout)            (None, 9472)         0           ['concatenate_2[0][0]']          \n",
      "                                                                                                  \n",
      " dense_16 (Dense)               (None, 1)            9473        ['dropout_8[0][0]']              \n",
      "                                                                                                  \n",
      "==================================================================================================\n",
      "Total params: 1,160,513\n",
      "Trainable params: 1,160,513\n",
      "Non-trainable params: 0\n",
      "__________________________________________________________________________________________________\n"
     ]
    }
   ],
   "source": [
    "# build and compile the discriminator\n",
    "discriminator = define_discriminator(input_shape, num_classes)\n",
    "discriminator.summary()\n"
   ]
  },
  {
   "cell_type": "code",
   "execution_count": 45,
   "metadata": {},
   "outputs": [
    {
     "name": "stdout",
     "output_type": "stream",
     "text": [
      "Model: \"model_8\"\n",
      "__________________________________________________________________________________________________\n",
      " Layer (type)                   Output Shape         Param #     Connected to                     \n",
      "==================================================================================================\n",
      " input_14 (InputLayer)          [(None, 100)]        0           []                               \n",
      "                                                                                                  \n",
      " input_15 (InputLayer)          [(None, 18)]         0           []                               \n",
      "                                                                                                  \n",
      " concatenate_3 (Concatenate)    (None, 118)          0           ['input_14[0][0]',               \n",
      "                                                                  'input_15[0][0]']               \n",
      "                                                                                                  \n",
      " dense_18 (Dense)               (None, 4608)         548352      ['concatenate_3[0][0]']          \n",
      "                                                                                                  \n",
      " reshape_2 (Reshape)            (None, 6, 6, 128)    0           ['dense_18[0][0]']               \n",
      "                                                                                                  \n",
      " conv2d_transpose_7 (Conv2DTran  (None, 12, 12, 256)  524544     ['reshape_2[0][0]']              \n",
      " spose)                                                                                           \n",
      "                                                                                                  \n",
      " leaky_re_lu_42 (LeakyReLU)     (None, 12, 12, 256)  0           ['conv2d_transpose_7[0][0]']     \n",
      "                                                                                                  \n",
      " conv2d_transpose_8 (Conv2DTran  (None, 24, 24, 256)  1048832    ['leaky_re_lu_42[0][0]']         \n",
      " spose)                                                                                           \n",
      "                                                                                                  \n",
      " leaky_re_lu_43 (LeakyReLU)     (None, 24, 24, 256)  0           ['conv2d_transpose_8[0][0]']     \n",
      "                                                                                                  \n",
      " conv2d_transpose_9 (Conv2DTran  (None, 48, 48, 128)  524416     ['leaky_re_lu_43[0][0]']         \n",
      " spose)                                                                                           \n",
      "                                                                                                  \n",
      " leaky_re_lu_44 (LeakyReLU)     (None, 48, 48, 128)  0           ['conv2d_transpose_9[0][0]']     \n",
      "                                                                                                  \n",
      " conv2d_transpose_10 (Conv2DTra  (None, 96, 96, 128)  262272     ['leaky_re_lu_44[0][0]']         \n",
      " nspose)                                                                                          \n",
      "                                                                                                  \n",
      " leaky_re_lu_45 (LeakyReLU)     (None, 96, 96, 128)  0           ['conv2d_transpose_10[0][0]']    \n",
      "                                                                                                  \n",
      " conv2d_28 (Conv2D)             (None, 96, 96, 3)    3459        ['leaky_re_lu_45[0][0]']         \n",
      "                                                                                                  \n",
      "==================================================================================================\n",
      "Total params: 2,911,875\n",
      "Trainable params: 2,911,875\n",
      "Non-trainable params: 0\n",
      "__________________________________________________________________________________________________\n"
     ]
    }
   ],
   "source": [
    "# build the generator\n",
    "generator = define_aegenerator(latent_dim, num_classes, input_shape)\n",
    "generator.summary()\n"
   ]
  },
  {
   "cell_type": "code",
   "execution_count": 46,
   "metadata": {},
   "outputs": [
    {
     "name": "stdout",
     "output_type": "stream",
     "text": [
      "Model: \"model_9\"\n",
      "__________________________________________________________________________________________________\n",
      " Layer (type)                   Output Shape         Param #     Connected to                     \n",
      "==================================================================================================\n",
      " input_14 (InputLayer)          [(None, 100)]        0           []                               \n",
      "                                                                                                  \n",
      " input_15 (InputLayer)          [(None, 18)]         0           []                               \n",
      "                                                                                                  \n",
      " concatenate_3 (Concatenate)    (None, 118)          0           ['input_14[0][0]',               \n",
      "                                                                  'input_15[0][0]']               \n",
      "                                                                                                  \n",
      " dense_18 (Dense)               (None, 4608)         548352      ['concatenate_3[0][0]']          \n",
      "                                                                                                  \n",
      " reshape_2 (Reshape)            (None, 6, 6, 128)    0           ['dense_18[0][0]']               \n",
      "                                                                                                  \n",
      " conv2d_transpose_7 (Conv2DTran  (None, 12, 12, 256)  524544     ['reshape_2[0][0]']              \n",
      " spose)                                                                                           \n",
      "                                                                                                  \n",
      " leaky_re_lu_42 (LeakyReLU)     (None, 12, 12, 256)  0           ['conv2d_transpose_7[0][0]']     \n",
      "                                                                                                  \n",
      " conv2d_transpose_8 (Conv2DTran  (None, 24, 24, 256)  1048832    ['leaky_re_lu_42[0][0]']         \n",
      " spose)                                                                                           \n",
      "                                                                                                  \n",
      " leaky_re_lu_43 (LeakyReLU)     (None, 24, 24, 256)  0           ['conv2d_transpose_8[0][0]']     \n",
      "                                                                                                  \n",
      " conv2d_transpose_9 (Conv2DTran  (None, 48, 48, 128)  524416     ['leaky_re_lu_43[0][0]']         \n",
      " spose)                                                                                           \n",
      "                                                                                                  \n",
      " leaky_re_lu_44 (LeakyReLU)     (None, 48, 48, 128)  0           ['conv2d_transpose_9[0][0]']     \n",
      "                                                                                                  \n",
      " conv2d_transpose_10 (Conv2DTra  (None, 96, 96, 128)  262272     ['leaky_re_lu_44[0][0]']         \n",
      " nspose)                                                                                          \n",
      "                                                                                                  \n",
      " leaky_re_lu_45 (LeakyReLU)     (None, 96, 96, 128)  0           ['conv2d_transpose_10[0][0]']    \n",
      "                                                                                                  \n",
      " conv2d_28 (Conv2D)             (None, 96, 96, 3)    3459        ['leaky_re_lu_45[0][0]']         \n",
      "                                                                                                  \n",
      " model_7 (Functional)           (None, 1)            1160513     ['conv2d_28[0][0]',              \n",
      "                                                                  'input_15[0][0]']               \n",
      "                                                                                                  \n",
      "==================================================================================================\n",
      "Total params: 4,072,388\n",
      "Trainable params: 2,911,875\n",
      "Non-trainable params: 1,160,513\n",
      "__________________________________________________________________________________________________\n"
     ]
    }
   ],
   "source": [
    "# build the gan\n",
    "gan_model = define_gan(generator, discriminator)\n",
    "gan_model.summary()\n"
   ]
  },
  {
   "cell_type": "code",
   "execution_count": 47,
   "metadata": {},
   "outputs": [],
   "source": [
    "def generate_fake_samples(g_model, latent_dim, n_samples, n_classes):\n",
    "    # generate points in latent space\n",
    "    noise_input = generate_latent_points(latent_dim, n_samples)\n",
    "    # generate random class labels\n",
    "    y_types = generate_class_labels(n_samples, n_classes)\n",
    "    # predict outputs\n",
    "    X = g_model.predict([noise_input, y_types], verbose=0)\n",
    "    # create 'fake' class labels (0)\n",
    "    y_class = tf.zeros((n_samples, 1))\n",
    "    return X, y_types, y_class\n",
    "\n",
    "\n",
    "def generate_latent_points(latent_dim, n_samples):\n",
    "    # generate points in the latent space\n",
    "    x_input = tf.random.normal(shape=(n_samples, latent_dim))\n",
    "    return x_input\n",
    "\n",
    "\n",
    "def generate_class_labels(n_samples, n_classes):\n",
    "    class_labels = np.zeros((n_samples, n_classes))\n",
    "    for i in range(n_samples):\n",
    "        class_labels[i, np.random.randint(0, n_classes)] = 1\n",
    "        if np.random.random() > 0.5:\n",
    "            class_labels[i, np.random.randint(0, n_classes)] = 1\n",
    "    class_labels = tf.convert_to_tensor(class_labels, dtype=tf.float32)\n",
    "    # print(class_labels)\n",
    "    return class_labels\n",
    "\n",
    "\n",
    "def generate_real_samples(dataset, n_samples):\n",
    "    X, y_types, y_class = [], [], []\n",
    "    while len(X) < n_samples:\n",
    "        dataset.shuffle(100)\n",
    "        for x, label in dataset.take(5):\n",
    "            for i in range(len(x)):\n",
    "                X.append(x[i])\n",
    "                y_types.append(label[i][1:])\n",
    "                y_class.append(label[i][0])\n",
    "                if len(X) == n_samples:\n",
    "                    break\n",
    "            if len(X) == n_samples:\n",
    "                break\n",
    "    X = tf.stack(X)\n",
    "    y_types = tf.stack(y_types)\n",
    "    y_class = tf.reshape(tf.stack(y_class), (n_samples, 1))\n",
    "    return X, y_types, y_class\n"
   ]
  },
  {
   "cell_type": "code",
   "execution_count": 48,
   "metadata": {},
   "outputs": [],
   "source": [
    "def summarize_performance(epoch, g_model, d_model, dataset, latent_dim, n_samples=100):\n",
    "    # prepare real samples\n",
    "    X_real, y_real_types, y_real_class = generate_real_samples(\n",
    "        dataset, n_samples)\n",
    "    # evaluate discriminator on real examples\n",
    "    _, acc_real = d_model.evaluate(\n",
    "        [X_real, y_real_types], y_real_class, verbose=0)\n",
    "    # prepare fake examples\n",
    "    x_fake, y_fake_types, y_fake_class = generate_fake_samples(\n",
    "        g_model, latent_dim, n_samples, 18)\n",
    "    # evaluate discriminator on fake examples\n",
    "    _, acc_fake = d_model.evaluate(\n",
    "        [x_fake, y_fake_types], y_fake_class, verbose=0)\n",
    "    # summarize discriminator performance\n",
    "    print('>Accuracy real: %.0f%%, fake: %.0f%%' %\n",
    "          (acc_real*100, acc_fake*100))\n",
    "    # save plot\n",
    "    save_plot(x_fake, epoch)\n",
    "    # save the generator model tile file\n",
    "    filename = 'v2/aegenerator_model_64_e%03d.h5' % (epoch+1)\n",
    "    g_model.save(filename)\n",
    "\n",
    "\n",
    "def save_plot(examples, epoch, n=10):\n",
    "    # plot images\n",
    "    for i in range(n * n):\n",
    "        # define subplot\n",
    "        plt.subplot(n, n, 1 + i)\n",
    "        # turn off axis\n",
    "        plt.axis('off')\n",
    "        # scale from [-1,1] to [0,1]\n",
    "        examples[i, :, :, :] = (examples[i, :, :, :] + 1) / 2.0\n",
    "        # plot raw pixel data\n",
    "        plt.imshow(examples[i, :, :, :])\n",
    "    # save plot to file\n",
    "    filename = 'v2/aegenerated_plot_64_e%03d.png' % (epoch+1)\n",
    "    plt.savefig(filename)\n",
    "    plt.close()\n"
   ]
  },
  {
   "cell_type": "code",
   "execution_count": 49,
   "metadata": {},
   "outputs": [],
   "source": [
    "def train(g_model, d_model, gan_model, dataset, latent_dim, n_epochs=10, n_batch=64, resume_training=0):\n",
    "    bat_per_epo = int(dataset.cardinality())\n",
    "    # manually enumerate epochs\n",
    "    for i in range(n_epochs):\n",
    "        # enumerate batches over the training set\n",
    "        for j, batch in enumerate(dataset):\n",
    "            # get randomly selected 'real' samples\n",
    "            X_real, y_real_types, y_real_class = batch[0], batch[1][:,\n",
    "                                                                    1:], batch[1][:, 0]\n",
    "            half_batch = int(X_real.shape[0])\n",
    "            # generate 'fake' examples\n",
    "            X_fake, y_fake_types, y_fake_class = generate_fake_samples(\n",
    "                g_model, latent_dim, half_batch, 18)\n",
    "            # create training set for the discriminator\n",
    "            y_real_class = tf.reshape(y_real_class, (half_batch, 1))\n",
    "            X, y_types, y_class = tf.concat([X_real, X_fake], axis=0), tf.concat(\n",
    "                [y_real_types, y_fake_types], axis=0), tf.concat([y_real_class, y_fake_class], axis=0)\n",
    "            # update discriminator model weights\n",
    "            d_loss, _ = d_model.train_on_batch([X, y_types], y_class)\n",
    "            # prepare points in latent space as input for the generator\n",
    "            X_gan, y_gan_types, y_gan_class = generate_latent_points(\n",
    "                latent_dim, n_batch), generate_class_labels(n_batch, 18), tf.ones((n_batch, 1))\n",
    "            g_loss = gan_model.train_on_batch(\n",
    "                [X_gan, y_gan_types], y_gan_class)\n",
    "            # summarize loss on this batch\n",
    "            print('>%d, %d/%d, d=%.3f, g=%.3f' %\n",
    "                  (i+resume_training+1, j+1, bat_per_epo, d_loss, g_loss))\n",
    "        # evaluate the model performance, sometimes\n",
    "        if (i+resume_training) % 10 == 0:\n",
    "            summarize_performance(i+resume_training, g_model,\n",
    "                                  d_model, dataset, latent_dim)\n",
    "            pass\n",
    "    # save the generator model\n",
    "    g_model.save('v2/aegenerator_model_64_final.h5')\n"
   ]
  },
  {
   "cell_type": "code",
   "execution_count": 51,
   "metadata": {},
   "outputs": [
    {
     "name": "stdout",
     "output_type": "stream",
     "text": [
      ">1, 1/433, d=0.697, g=0.691\n",
      ">1, 2/433, d=0.666, g=0.692\n",
      ">1, 3/433, d=0.635, g=0.691\n",
      ">1, 4/433, d=0.603, g=0.687\n",
      ">1, 5/433, d=0.564, g=0.682\n",
      ">1, 6/433, d=0.524, g=0.662\n",
      ">1, 7/433, d=0.496, g=0.619\n",
      ">1, 8/433, d=0.512, g=0.544\n",
      ">1, 9/433, d=0.572, g=0.465\n",
      ">1, 10/433, d=0.689, g=0.427\n",
      ">1, 11/433, d=0.737, g=0.448\n",
      ">1, 12/433, d=0.720, g=0.520\n",
      ">1, 13/433, d=0.683, g=0.598\n",
      ">1, 14/433, d=0.652, g=0.669\n",
      ">1, 15/433, d=0.639, g=0.751\n",
      ">1, 16/433, d=0.626, g=0.822\n",
      ">1, 17/433, d=0.596, g=0.898\n",
      ">1, 18/433, d=0.595, g=0.965\n",
      ">1, 19/433, d=0.567, g=1.014\n",
      ">1, 20/433, d=0.555, g=1.010\n",
      ">1, 21/433, d=0.515, g=1.040\n",
      ">1, 22/433, d=0.465, g=1.204\n",
      ">1, 23/433, d=0.427, g=1.368\n",
      ">1, 24/433, d=0.396, g=1.340\n",
      ">1, 25/433, d=0.402, g=1.265\n",
      ">1, 26/433, d=0.319, g=1.985\n",
      ">1, 27/433, d=0.264, g=1.690\n",
      ">1, 28/433, d=0.268, g=1.348\n",
      ">1, 29/433, d=0.230, g=2.858\n",
      ">1, 30/433, d=0.143, g=2.659\n",
      ">1, 31/433, d=0.252, g=0.771\n",
      ">1, 32/433, d=0.404, g=3.381\n",
      ">1, 33/433, d=0.169, g=3.982\n",
      ">1, 34/433, d=0.209, g=3.147\n",
      ">1, 35/433, d=0.204, g=2.057\n",
      ">1, 36/433, d=0.188, g=1.724\n",
      ">1, 37/433, d=0.147, g=2.439\n",
      ">1, 38/433, d=0.166, g=2.549\n",
      ">1, 39/433, d=0.111, g=2.822\n",
      ">1, 40/433, d=0.074, g=3.192\n",
      ">1, 41/433, d=0.123, g=2.865\n",
      ">1, 42/433, d=0.213, g=1.787\n",
      ">1, 43/433, d=0.122, g=3.115\n",
      ">1, 44/433, d=0.132, g=3.268\n",
      ">1, 45/433, d=0.086, g=3.231\n",
      ">1, 46/433, d=0.115, g=2.294\n",
      ">1, 47/433, d=0.083, g=2.984\n",
      ">1, 48/433, d=0.067, g=3.577\n",
      ">1, 49/433, d=0.124, g=3.240\n",
      ">1, 50/433, d=0.046, g=3.545\n",
      ">1, 51/433, d=0.069, g=3.554\n",
      ">1, 52/433, d=0.087, g=2.280\n",
      ">1, 53/433, d=0.086, g=4.635\n",
      ">1, 54/433, d=0.019, g=5.396\n",
      ">1, 55/433, d=0.205, g=4.241\n",
      ">1, 56/433, d=0.019, g=3.898\n",
      ">1, 57/433, d=0.041, g=3.704\n",
      ">1, 58/433, d=0.099, g=3.040\n",
      ">1, 59/433, d=0.042, g=3.605\n",
      ">1, 60/433, d=0.074, g=3.404\n",
      ">1, 61/433, d=0.098, g=2.730\n",
      ">1, 62/433, d=0.047, g=3.675\n",
      ">1, 63/433, d=0.029, g=4.359\n",
      ">1, 64/433, d=0.026, g=4.775\n",
      ">1, 65/433, d=0.022, g=4.684\n",
      ">1, 66/433, d=0.012, g=4.851\n",
      ">1, 67/433, d=0.079, g=2.752\n",
      ">1, 68/433, d=0.061, g=5.358\n",
      ">1, 69/433, d=0.014, g=5.852\n",
      ">1, 70/433, d=0.042, g=5.330\n",
      ">1, 71/433, d=0.047, g=4.852\n",
      ">1, 72/433, d=0.033, g=4.496\n",
      ">1, 73/433, d=0.019, g=4.692\n",
      ">1, 74/433, d=0.015, g=4.706\n",
      ">1, 75/433, d=0.022, g=4.515\n",
      ">1, 76/433, d=0.037, g=4.154\n",
      ">1, 77/433, d=0.024, g=4.443\n",
      ">1, 78/433, d=0.014, g=5.239\n",
      ">1, 79/433, d=0.014, g=5.530\n",
      ">1, 80/433, d=0.099, g=4.292\n",
      ">1, 81/433, d=0.043, g=2.467\n",
      ">1, 82/433, d=0.064, g=5.823\n",
      ">1, 83/433, d=0.020, g=6.435\n",
      ">1, 84/433, d=0.067, g=6.103\n",
      ">1, 85/433, d=0.037, g=5.192\n",
      ">1, 86/433, d=0.061, g=4.128\n",
      ">1, 87/433, d=0.082, g=3.363\n",
      ">1, 88/433, d=0.029, g=3.591\n",
      ">1, 89/433, d=0.021, g=4.176\n",
      ">1, 90/433, d=0.101, g=3.504\n",
      ">1, 91/433, d=0.044, g=3.277\n",
      ">1, 92/433, d=0.035, g=4.532\n",
      ">1, 93/433, d=0.026, g=5.244\n",
      ">1, 94/433, d=0.050, g=4.898\n",
      ">1, 95/433, d=0.008, g=5.015\n",
      ">1, 96/433, d=0.007, g=4.997\n",
      ">1, 97/433, d=0.032, g=4.212\n",
      ">1, 98/433, d=0.008, g=4.614\n",
      ">1, 99/433, d=0.016, g=4.865\n",
      ">1, 100/433, d=0.041, g=4.453\n",
      ">1, 101/433, d=0.012, g=4.859\n",
      ">1, 102/433, d=0.060, g=4.052\n",
      ">1, 103/433, d=0.078, g=1.202\n",
      ">1, 104/433, d=0.232, g=9.923\n",
      ">1, 105/433, d=0.112, g=11.041\n",
      ">1, 106/433, d=0.401, g=7.803\n",
      ">1, 107/433, d=0.343, g=4.250\n",
      ">1, 108/433, d=0.048, g=2.809\n",
      ">1, 109/433, d=0.045, g=2.686\n",
      ">1, 110/433, d=0.070, g=3.331\n",
      ">1, 111/433, d=0.049, g=3.831\n",
      ">1, 112/433, d=0.024, g=4.807\n",
      ">1, 113/433, d=0.071, g=4.745\n",
      ">1, 114/433, d=0.049, g=4.567\n",
      ">1, 115/433, d=0.052, g=4.461\n",
      ">1, 116/433, d=0.013, g=4.328\n",
      ">1, 117/433, d=0.011, g=4.981\n",
      ">1, 118/433, d=0.010, g=4.793\n",
      ">1, 119/433, d=0.014, g=4.970\n",
      ">1, 120/433, d=0.045, g=4.856\n",
      ">1, 121/433, d=0.126, g=4.143\n",
      ">1, 122/433, d=0.018, g=3.746\n",
      ">1, 123/433, d=0.050, g=3.786\n",
      ">1, 124/433, d=0.042, g=4.013\n",
      ">1, 125/433, d=0.032, g=4.719\n",
      ">1, 126/433, d=0.054, g=4.820\n",
      ">1, 127/433, d=0.040, g=4.459\n",
      ">1, 128/433, d=0.011, g=4.555\n",
      ">1, 129/433, d=0.010, g=4.952\n",
      ">1, 130/433, d=0.039, g=4.715\n",
      ">1, 131/433, d=0.863, g=4.717\n",
      ">1, 132/433, d=4.186, g=4.553\n",
      ">1, 133/433, d=3.254, g=4.807\n",
      ">1, 134/433, d=1.761, g=4.296\n",
      ">1, 135/433, d=2.396, g=3.662\n",
      ">1, 136/433, d=1.745, g=1.735\n",
      ">1, 137/433, d=0.686, g=1.069\n",
      ">1, 138/433, d=0.746, g=0.855\n",
      ">1, 139/433, d=0.690, g=0.985\n",
      ">1, 140/433, d=0.685, g=0.861\n",
      ">1, 141/433, d=0.656, g=0.816\n",
      ">1, 142/433, d=0.634, g=0.776\n",
      ">1, 143/433, d=0.573, g=0.873\n",
      ">1, 144/433, d=0.590, g=0.979\n",
      ">1, 145/433, d=0.550, g=1.083\n",
      ">1, 146/433, d=0.471, g=1.270\n",
      ">1, 147/433, d=0.488, g=1.238\n",
      ">1, 148/433, d=0.481, g=1.197\n",
      ">1, 149/433, d=0.595, g=2.675\n",
      ">1, 150/433, d=0.432, g=3.358\n",
      ">1, 151/433, d=0.353, g=3.704\n",
      ">1, 152/433, d=0.285, g=3.072\n",
      ">1, 153/433, d=0.212, g=3.258\n",
      ">1, 154/433, d=0.166, g=3.663\n",
      ">1, 155/433, d=0.214, g=3.114\n",
      ">1, 156/433, d=0.209, g=2.943\n",
      ">1, 157/433, d=0.167, g=3.318\n",
      ">1, 158/433, d=0.233, g=2.477\n",
      ">1, 159/433, d=0.399, g=3.222\n",
      ">1, 160/433, d=0.739, g=0.616\n",
      ">1, 161/433, d=0.662, g=1.422\n",
      ">1, 162/433, d=0.500, g=2.031\n",
      ">1, 163/433, d=0.533, g=2.626\n",
      ">1, 164/433, d=0.593, g=1.986\n",
      ">1, 165/433, d=0.584, g=1.754\n",
      ">1, 166/433, d=0.578, g=1.566\n",
      ">1, 167/433, d=0.545, g=1.591\n",
      ">1, 168/433, d=0.524, g=1.513\n",
      ">1, 169/433, d=0.498, g=1.362\n",
      ">1, 170/433, d=0.548, g=1.120\n",
      ">1, 171/433, d=0.654, g=1.248\n",
      ">1, 172/433, d=0.811, g=0.584\n",
      ">1, 173/433, d=0.654, g=0.647\n",
      ">1, 174/433, d=0.651, g=0.828\n",
      ">1, 175/433, d=0.642, g=0.948\n",
      ">1, 176/433, d=0.718, g=0.901\n",
      ">1, 177/433, d=0.677, g=0.876\n",
      ">1, 178/433, d=0.704, g=0.958\n",
      ">1, 179/433, d=0.707, g=0.816\n",
      ">1, 180/433, d=0.739, g=0.855\n",
      ">1, 181/433, d=0.656, g=0.631\n",
      ">1, 182/433, d=0.681, g=0.750\n",
      ">1, 183/433, d=0.756, g=0.803\n",
      ">1, 184/433, d=0.661, g=0.739\n",
      ">1, 185/433, d=0.652, g=0.653\n",
      ">1, 186/433, d=0.654, g=0.734\n",
      ">1, 187/433, d=0.677, g=0.775\n",
      ">1, 188/433, d=0.653, g=0.852\n",
      ">1, 189/433, d=0.679, g=0.810\n",
      ">1, 190/433, d=0.630, g=0.822\n",
      ">1, 191/433, d=0.600, g=0.844\n",
      ">1, 192/433, d=0.603, g=0.841\n",
      ">1, 193/433, d=0.571, g=0.862\n",
      ">1, 194/433, d=0.611, g=1.060\n",
      ">1, 195/433, d=0.544, g=0.942\n",
      ">1, 196/433, d=0.562, g=0.846\n",
      ">1, 197/433, d=0.600, g=0.864\n",
      ">1, 198/433, d=0.593, g=0.838\n",
      ">1, 199/433, d=0.571, g=0.804\n",
      ">1, 200/433, d=0.591, g=0.937\n",
      ">1, 201/433, d=0.536, g=1.081\n",
      ">1, 202/433, d=0.616, g=0.882\n",
      ">1, 203/433, d=0.574, g=0.871\n",
      ">1, 204/433, d=0.536, g=0.964\n",
      ">1, 205/433, d=0.583, g=1.040\n",
      ">1, 206/433, d=0.543, g=1.005\n",
      ">1, 207/433, d=0.513, g=1.019\n",
      ">1, 208/433, d=0.596, g=0.977\n",
      ">1, 209/433, d=0.520, g=1.099\n",
      ">1, 210/433, d=0.586, g=1.218\n",
      ">1, 211/433, d=0.506, g=1.138\n",
      ">1, 212/433, d=0.547, g=1.002\n",
      ">1, 213/433, d=0.701, g=0.836\n",
      ">1, 214/433, d=0.702, g=0.886\n",
      ">1, 215/433, d=0.730, g=1.335\n",
      ">1, 216/433, d=0.773, g=0.720\n",
      ">1, 217/433, d=0.666, g=0.788\n",
      ">1, 218/433, d=0.793, g=1.074\n",
      ">1, 219/433, d=0.859, g=0.699\n",
      ">1, 220/433, d=0.910, g=0.884\n",
      ">1, 221/433, d=0.767, g=0.969\n",
      ">1, 222/433, d=0.808, g=0.774\n",
      ">1, 223/433, d=0.801, g=0.737\n",
      ">1, 224/433, d=0.801, g=0.832\n",
      ">1, 225/433, d=0.713, g=0.871\n",
      ">1, 226/433, d=0.730, g=0.863\n",
      ">1, 227/433, d=0.706, g=0.719\n",
      ">1, 228/433, d=0.784, g=0.772\n",
      ">1, 229/433, d=0.681, g=0.822\n",
      ">1, 230/433, d=0.683, g=0.806\n",
      ">1, 231/433, d=0.681, g=0.810\n",
      ">1, 232/433, d=0.698, g=0.749\n",
      ">1, 233/433, d=0.677, g=0.749\n",
      ">1, 234/433, d=0.674, g=0.820\n",
      ">1, 235/433, d=0.649, g=0.869\n",
      ">1, 236/433, d=0.616, g=0.873\n",
      ">1, 237/433, d=0.604, g=0.866\n",
      ">1, 238/433, d=0.580, g=0.901\n",
      ">1, 239/433, d=0.579, g=0.863\n",
      ">1, 240/433, d=0.573, g=1.049\n",
      ">1, 241/433, d=0.578, g=1.063\n",
      ">1, 242/433, d=0.600, g=1.007\n",
      ">1, 243/433, d=0.608, g=0.924\n",
      ">1, 244/433, d=0.613, g=0.860\n",
      ">1, 245/433, d=0.628, g=0.864\n",
      ">1, 246/433, d=0.633, g=0.849\n",
      ">1, 247/433, d=0.611, g=0.890\n",
      ">1, 248/433, d=0.555, g=0.965\n",
      ">1, 249/433, d=0.558, g=1.217\n",
      ">1, 250/433, d=0.608, g=0.856\n",
      ">1, 251/433, d=0.613, g=0.852\n",
      ">1, 252/433, d=0.707, g=0.879\n",
      ">1, 253/433, d=0.884, g=1.092\n",
      ">1, 254/433, d=0.825, g=0.966\n",
      ">1, 255/433, d=0.779, g=0.878\n",
      ">1, 256/433, d=0.784, g=0.874\n",
      ">1, 257/433, d=0.736, g=0.924\n",
      ">1, 258/433, d=0.774, g=0.846\n",
      ">1, 259/433, d=0.656, g=0.868\n",
      ">1, 260/433, d=0.741, g=0.911\n",
      ">1, 261/433, d=0.647, g=0.915\n",
      ">1, 262/433, d=0.604, g=1.000\n",
      ">1, 263/433, d=0.610, g=1.024\n",
      ">1, 264/433, d=0.540, g=1.048\n",
      ">1, 265/433, d=0.599, g=1.102\n",
      ">1, 266/433, d=0.584, g=1.089\n",
      ">1, 267/433, d=0.600, g=0.955\n",
      ">1, 268/433, d=0.583, g=0.864\n",
      ">1, 269/433, d=0.584, g=0.913\n",
      ">1, 270/433, d=0.633, g=0.825\n",
      ">1, 271/433, d=0.601, g=0.918\n",
      ">1, 272/433, d=0.597, g=0.997\n",
      ">1, 273/433, d=0.674, g=1.181\n",
      ">1, 274/433, d=0.587, g=1.198\n",
      ">1, 275/433, d=0.641, g=0.830\n",
      ">1, 276/433, d=0.670, g=0.752\n",
      ">1, 277/433, d=0.661, g=0.649\n",
      ">1, 278/433, d=0.654, g=0.771\n",
      ">1, 279/433, d=0.774, g=0.730\n",
      ">1, 280/433, d=0.746, g=0.770\n",
      ">1, 281/433, d=0.655, g=0.723\n",
      ">1, 282/433, d=0.687, g=0.738\n",
      ">1, 283/433, d=0.680, g=0.757\n",
      ">1, 284/433, d=0.670, g=0.744\n",
      ">1, 285/433, d=0.658, g=0.726\n",
      ">1, 286/433, d=0.714, g=0.698\n",
      ">1, 287/433, d=0.648, g=0.740\n",
      ">1, 288/433, d=0.656, g=0.797\n",
      ">1, 289/433, d=0.675, g=0.750\n",
      ">1, 290/433, d=0.646, g=0.713\n",
      ">1, 291/433, d=0.620, g=0.724\n",
      ">1, 292/433, d=0.644, g=0.743\n",
      ">1, 293/433, d=0.683, g=0.799\n",
      ">1, 294/433, d=0.631, g=0.781\n",
      ">1, 295/433, d=0.622, g=0.784\n",
      ">1, 296/433, d=0.644, g=0.781\n",
      ">1, 297/433, d=0.637, g=0.749\n",
      ">1, 298/433, d=0.649, g=0.746\n",
      ">1, 299/433, d=0.666, g=0.760\n",
      ">1, 300/433, d=0.617, g=0.745\n",
      ">1, 301/433, d=0.624, g=0.735\n",
      ">1, 302/433, d=0.644, g=0.745\n",
      ">1, 303/433, d=0.629, g=0.726\n",
      ">1, 304/433, d=0.624, g=0.848\n",
      ">1, 305/433, d=0.640, g=0.832\n",
      ">1, 306/433, d=0.627, g=0.921\n",
      ">1, 307/433, d=0.655, g=0.877\n",
      ">1, 308/433, d=0.617, g=0.903\n",
      ">1, 309/433, d=0.624, g=1.015\n",
      ">1, 310/433, d=0.568, g=1.021\n",
      ">1, 311/433, d=0.639, g=0.767\n",
      ">1, 312/433, d=0.784, g=0.828\n",
      ">1, 313/433, d=0.669, g=0.879\n",
      ">1, 314/433, d=0.632, g=1.034\n",
      ">1, 315/433, d=0.679, g=0.764\n",
      ">1, 316/433, d=0.700, g=0.952\n",
      ">1, 317/433, d=0.656, g=0.828\n",
      ">1, 318/433, d=0.664, g=0.729\n",
      ">1, 319/433, d=0.747, g=0.710\n",
      ">1, 320/433, d=0.690, g=0.871\n",
      ">1, 321/433, d=0.743, g=0.793\n",
      ">1, 322/433, d=0.747, g=0.820\n",
      ">1, 323/433, d=0.755, g=0.801\n",
      ">1, 324/433, d=0.676, g=0.898\n",
      ">1, 325/433, d=0.654, g=0.897\n",
      ">1, 326/433, d=0.631, g=0.907\n",
      ">1, 327/433, d=0.629, g=0.890\n",
      ">1, 328/433, d=0.602, g=0.948\n",
      ">1, 329/433, d=0.599, g=0.973\n",
      ">1, 330/433, d=0.632, g=0.898\n",
      ">1, 331/433, d=0.628, g=1.054\n",
      ">1, 332/433, d=0.596, g=1.007\n",
      ">1, 333/433, d=0.675, g=0.984\n",
      ">1, 334/433, d=0.757, g=0.940\n",
      ">1, 335/433, d=0.763, g=0.890\n",
      ">1, 336/433, d=0.674, g=0.762\n",
      ">1, 337/433, d=0.627, g=0.813\n",
      ">1, 338/433, d=0.647, g=0.937\n",
      ">1, 339/433, d=0.591, g=0.901\n",
      ">1, 340/433, d=0.596, g=0.988\n",
      ">1, 341/433, d=0.598, g=0.843\n",
      ">1, 342/433, d=0.603, g=0.909\n",
      ">1, 343/433, d=0.634, g=0.824\n",
      ">1, 344/433, d=0.649, g=0.798\n",
      ">1, 345/433, d=0.632, g=0.760\n",
      ">1, 346/433, d=0.670, g=0.781\n",
      ">1, 347/433, d=0.711, g=0.875\n",
      ">1, 348/433, d=0.685, g=0.939\n",
      ">1, 349/433, d=0.724, g=0.827\n",
      ">1, 350/433, d=0.711, g=0.746\n",
      ">1, 351/433, d=0.674, g=0.810\n",
      ">1, 352/433, d=0.679, g=0.779\n",
      ">1, 353/433, d=0.693, g=0.786\n",
      ">1, 354/433, d=0.679, g=0.784\n",
      ">1, 355/433, d=0.677, g=0.798\n",
      ">1, 356/433, d=0.655, g=0.797\n",
      ">1, 357/433, d=0.650, g=0.865\n",
      ">1, 358/433, d=0.665, g=0.719\n",
      ">1, 359/433, d=0.634, g=0.768\n",
      ">1, 360/433, d=0.628, g=0.788\n",
      ">1, 361/433, d=0.636, g=0.749\n",
      ">1, 362/433, d=0.623, g=0.779\n",
      ">1, 363/433, d=0.658, g=0.780\n",
      ">1, 364/433, d=0.615, g=0.855\n",
      ">1, 365/433, d=0.623, g=0.791\n",
      ">1, 366/433, d=0.652, g=0.797\n",
      ">1, 367/433, d=0.607, g=0.775\n",
      ">1, 368/433, d=0.606, g=0.818\n",
      ">1, 369/433, d=0.602, g=0.842\n",
      ">1, 370/433, d=0.617, g=0.824\n",
      ">1, 371/433, d=0.630, g=0.903\n",
      ">1, 372/433, d=0.610, g=0.892\n",
      ">1, 373/433, d=0.594, g=0.769\n",
      ">1, 374/433, d=0.611, g=1.097\n",
      ">1, 375/433, d=0.700, g=0.758\n",
      ">1, 376/433, d=0.730, g=0.853\n",
      ">1, 377/433, d=0.696, g=0.966\n",
      ">1, 378/433, d=0.670, g=0.843\n",
      ">1, 379/433, d=0.687, g=0.808\n",
      ">1, 380/433, d=0.741, g=0.859\n",
      ">1, 381/433, d=0.708, g=0.780\n",
      ">1, 382/433, d=0.727, g=0.761\n",
      ">1, 383/433, d=0.636, g=0.788\n",
      ">1, 384/433, d=0.584, g=0.915\n",
      ">1, 385/433, d=0.604, g=0.879\n",
      ">1, 386/433, d=0.671, g=0.865\n",
      ">1, 387/433, d=0.699, g=0.915\n",
      ">1, 388/433, d=0.727, g=0.783\n",
      ">1, 389/433, d=0.747, g=0.771\n",
      ">1, 390/433, d=0.706, g=0.809\n",
      ">1, 391/433, d=0.695, g=0.816\n",
      ">1, 392/433, d=0.687, g=0.849\n",
      ">1, 393/433, d=0.773, g=0.804\n",
      ">1, 394/433, d=0.723, g=0.730\n",
      ">1, 395/433, d=0.714, g=0.816\n",
      ">1, 396/433, d=0.706, g=0.855\n",
      ">1, 397/433, d=0.675, g=0.798\n",
      ">1, 398/433, d=0.638, g=0.877\n",
      ">1, 399/433, d=0.649, g=0.810\n",
      ">1, 400/433, d=0.601, g=0.823\n",
      ">1, 401/433, d=0.608, g=0.862\n",
      ">1, 402/433, d=0.594, g=0.888\n",
      ">1, 403/433, d=0.597, g=0.885\n",
      ">1, 404/433, d=0.639, g=0.831\n",
      ">1, 405/433, d=0.598, g=0.828\n",
      ">1, 406/433, d=0.648, g=0.828\n",
      ">1, 407/433, d=0.692, g=0.755\n",
      ">1, 408/433, d=0.926, g=0.795\n",
      ">1, 409/433, d=0.883, g=0.944\n",
      ">1, 410/433, d=0.730, g=0.970\n",
      ">1, 411/433, d=0.683, g=1.002\n",
      ">1, 412/433, d=0.688, g=1.001\n",
      ">1, 413/433, d=0.630, g=1.014\n",
      ">1, 414/433, d=0.663, g=1.005\n",
      ">1, 415/433, d=0.666, g=1.068\n",
      ">1, 416/433, d=0.690, g=1.045\n",
      ">1, 417/433, d=0.867, g=1.045\n",
      ">1, 418/433, d=0.815, g=1.245\n",
      ">1, 419/433, d=0.668, g=1.130\n",
      ">1, 420/433, d=0.691, g=0.930\n",
      ">1, 421/433, d=0.716, g=0.758\n",
      ">1, 422/433, d=0.752, g=0.676\n",
      ">1, 423/433, d=0.727, g=0.669\n",
      ">1, 424/433, d=0.737, g=0.681\n",
      ">1, 425/433, d=0.690, g=0.721\n",
      ">1, 426/433, d=0.668, g=0.722\n",
      ">1, 427/433, d=0.667, g=0.760\n",
      ">1, 428/433, d=0.646, g=0.835\n",
      ">1, 429/433, d=0.620, g=0.907\n",
      ">1, 430/433, d=0.616, g=0.930\n",
      ">1, 431/433, d=0.607, g=0.886\n",
      ">1, 432/433, d=0.645, g=0.931\n",
      ">1, 433/433, d=0.661, g=0.883\n",
      ">Accuracy real: 60%, fake: 56%\n",
      "WARNING:tensorflow:Compiled the loaded model, but the compiled metrics have yet to be built. `model.compile_metrics` will be empty until you train or evaluate the model.\n",
      ">2, 1/433, d=0.640, g=0.848\n",
      ">2, 2/433, d=0.754, g=0.734\n",
      ">2, 3/433, d=0.706, g=0.772\n",
      ">2, 4/433, d=0.684, g=0.758\n",
      ">2, 5/433, d=0.666, g=0.771\n",
      ">2, 6/433, d=0.706, g=0.747\n",
      ">2, 7/433, d=0.689, g=0.788\n",
      ">2, 8/433, d=0.672, g=0.772\n",
      ">2, 9/433, d=0.680, g=0.783\n",
      ">2, 10/433, d=0.673, g=0.778\n",
      ">2, 11/433, d=0.667, g=0.779\n",
      ">2, 12/433, d=0.662, g=0.762\n",
      ">2, 13/433, d=0.688, g=0.781\n",
      ">2, 14/433, d=0.662, g=0.812\n",
      ">2, 15/433, d=0.659, g=0.784\n",
      ">2, 16/433, d=0.670, g=0.795\n",
      ">2, 17/433, d=0.666, g=0.806\n",
      ">2, 18/433, d=0.624, g=0.810\n",
      ">2, 19/433, d=0.645, g=0.776\n",
      ">2, 20/433, d=0.640, g=0.768\n",
      ">2, 21/433, d=0.677, g=0.734\n",
      ">2, 22/433, d=0.657, g=0.748\n",
      ">2, 23/433, d=0.679, g=0.763\n",
      ">2, 24/433, d=0.652, g=0.732\n",
      ">2, 25/433, d=0.648, g=0.741\n",
      ">2, 26/433, d=0.642, g=0.758\n",
      ">2, 27/433, d=0.663, g=0.722\n",
      ">2, 28/433, d=0.650, g=0.734\n",
      ">2, 29/433, d=0.652, g=0.749\n",
      ">2, 30/433, d=0.635, g=0.734\n",
      ">2, 31/433, d=0.673, g=0.746\n",
      ">2, 32/433, d=0.640, g=0.813\n",
      ">2, 33/433, d=0.635, g=0.752\n",
      ">2, 34/433, d=0.667, g=0.726\n",
      ">2, 35/433, d=0.644, g=0.753\n",
      ">2, 36/433, d=0.632, g=0.780\n",
      ">2, 37/433, d=0.614, g=0.761\n",
      ">2, 38/433, d=0.572, g=0.794\n",
      ">2, 39/433, d=0.607, g=0.795\n",
      ">2, 40/433, d=0.608, g=0.845\n",
      ">2, 41/433, d=0.585, g=0.823\n",
      ">2, 42/433, d=0.593, g=0.813\n",
      ">2, 43/433, d=0.604, g=0.865\n",
      ">2, 44/433, d=0.554, g=0.813\n",
      ">2, 45/433, d=0.633, g=0.839\n",
      ">2, 46/433, d=0.605, g=0.841\n",
      ">2, 47/433, d=0.566, g=0.871\n",
      ">2, 48/433, d=0.637, g=0.913\n",
      ">2, 49/433, d=0.613, g=0.928\n",
      ">2, 50/433, d=0.689, g=0.877\n",
      ">2, 51/433, d=0.709, g=0.877\n",
      ">2, 52/433, d=0.689, g=0.897\n",
      ">2, 53/433, d=0.649, g=0.962\n",
      ">2, 54/433, d=0.644, g=1.018\n",
      ">2, 55/433, d=0.617, g=1.040\n",
      ">2, 56/433, d=0.586, g=1.045\n",
      ">2, 57/433, d=0.661, g=0.827\n",
      ">2, 58/433, d=0.678, g=0.811\n",
      ">2, 59/433, d=0.648, g=0.863\n",
      ">2, 60/433, d=0.705, g=0.908\n",
      ">2, 61/433, d=0.704, g=0.892\n",
      ">2, 62/433, d=0.737, g=0.892\n",
      ">2, 63/433, d=0.691, g=0.885\n",
      ">2, 64/433, d=0.679, g=0.785\n",
      ">2, 65/433, d=0.683, g=0.771\n",
      ">2, 66/433, d=0.715, g=0.785\n",
      ">2, 67/433, d=0.690, g=0.809\n",
      ">2, 68/433, d=0.683, g=0.783\n",
      ">2, 69/433, d=0.688, g=0.772\n",
      ">2, 70/433, d=0.690, g=0.718\n",
      ">2, 71/433, d=0.648, g=0.794\n",
      ">2, 72/433, d=0.676, g=0.801\n",
      ">2, 73/433, d=0.641, g=0.805\n",
      ">2, 74/433, d=0.629, g=0.835\n",
      ">2, 75/433, d=0.632, g=0.815\n",
      ">2, 76/433, d=0.536, g=0.903\n",
      ">2, 77/433, d=0.608, g=0.942\n",
      ">2, 78/433, d=0.603, g=0.861\n",
      ">2, 79/433, d=0.593, g=0.850\n",
      ">2, 80/433, d=0.537, g=0.953\n",
      ">2, 81/433, d=0.587, g=0.900\n",
      ">2, 82/433, d=0.604, g=0.852\n",
      ">2, 83/433, d=0.637, g=0.782\n",
      ">2, 84/433, d=0.633, g=0.790\n",
      ">2, 85/433, d=0.679, g=0.949\n",
      ">2, 86/433, d=0.647, g=0.807\n",
      ">2, 87/433, d=0.705, g=0.820\n",
      ">2, 88/433, d=0.708, g=0.779\n",
      ">2, 89/433, d=0.684, g=0.874\n",
      ">2, 90/433, d=0.682, g=0.872\n",
      ">2, 91/433, d=0.598, g=0.875\n",
      ">2, 92/433, d=0.569, g=0.865\n",
      ">2, 93/433, d=0.628, g=0.828\n",
      ">2, 94/433, d=0.599, g=0.951\n",
      ">2, 95/433, d=0.598, g=0.972\n",
      ">2, 96/433, d=0.641, g=0.917\n",
      ">2, 97/433, d=0.666, g=0.777\n",
      ">2, 98/433, d=0.690, g=0.757\n",
      ">2, 99/433, d=0.665, g=0.731\n",
      ">2, 100/433, d=0.733, g=0.665\n",
      ">2, 101/433, d=0.701, g=0.730\n",
      ">2, 102/433, d=0.721, g=0.726\n",
      ">2, 103/433, d=0.708, g=0.728\n",
      ">2, 104/433, d=0.665, g=0.754\n",
      ">2, 105/433, d=0.705, g=0.744\n",
      ">2, 106/433, d=0.652, g=0.680\n",
      ">2, 107/433, d=0.697, g=0.731\n",
      ">2, 108/433, d=0.714, g=0.728\n",
      ">2, 109/433, d=0.686, g=0.744\n",
      ">2, 110/433, d=0.711, g=0.705\n",
      ">2, 111/433, d=0.746, g=0.766\n",
      ">2, 112/433, d=0.708, g=0.726\n",
      ">2, 113/433, d=0.750, g=0.765\n",
      ">2, 114/433, d=0.699, g=0.771\n",
      ">2, 115/433, d=0.685, g=0.777\n",
      ">2, 116/433, d=0.647, g=0.771\n",
      ">2, 117/433, d=0.701, g=0.743\n",
      ">2, 118/433, d=0.641, g=0.754\n",
      ">2, 119/433, d=0.619, g=0.825\n",
      ">2, 120/433, d=0.595, g=0.875\n",
      ">2, 121/433, d=0.639, g=0.822\n",
      ">2, 122/433, d=0.656, g=0.840\n",
      ">2, 123/433, d=0.609, g=0.821\n",
      ">2, 124/433, d=0.673, g=0.788\n",
      ">2, 125/433, d=0.658, g=0.794\n",
      ">2, 126/433, d=0.658, g=0.785\n",
      ">2, 127/433, d=0.656, g=0.912\n",
      ">2, 128/433, d=0.625, g=0.931\n",
      ">2, 129/433, d=0.633, g=0.916\n",
      ">2, 130/433, d=0.582, g=0.824\n",
      ">2, 131/433, d=0.603, g=0.848\n",
      ">2, 132/433, d=0.620, g=0.786\n",
      ">2, 133/433, d=0.649, g=0.774\n",
      ">2, 134/433, d=0.655, g=0.794\n",
      ">2, 135/433, d=0.663, g=0.848\n",
      ">2, 136/433, d=0.688, g=0.794\n",
      ">2, 137/433, d=0.659, g=0.749\n",
      ">2, 138/433, d=0.690, g=0.791\n",
      ">2, 139/433, d=0.686, g=0.804\n",
      ">2, 140/433, d=0.667, g=0.834\n",
      ">2, 141/433, d=0.631, g=0.868\n",
      ">2, 142/433, d=0.658, g=0.839\n",
      ">2, 143/433, d=0.654, g=0.828\n",
      ">2, 144/433, d=0.678, g=0.785\n",
      ">2, 145/433, d=0.625, g=0.793\n",
      ">2, 146/433, d=0.643, g=0.795\n",
      ">2, 147/433, d=0.637, g=0.772\n",
      ">2, 148/433, d=0.623, g=0.815\n",
      ">2, 149/433, d=0.627, g=0.772\n",
      ">2, 150/433, d=0.660, g=0.787\n",
      ">2, 151/433, d=0.628, g=0.855\n",
      ">2, 152/433, d=0.632, g=0.784\n",
      ">2, 153/433, d=0.591, g=0.759\n",
      ">2, 154/433, d=0.633, g=0.704\n",
      ">2, 155/433, d=0.625, g=0.689\n",
      ">2, 156/433, d=0.606, g=0.794\n",
      ">2, 157/433, d=0.621, g=0.796\n",
      ">2, 158/433, d=0.666, g=0.868\n",
      ">2, 159/433, d=0.671, g=0.767\n",
      ">2, 160/433, d=0.643, g=0.763\n",
      ">2, 161/433, d=0.592, g=0.908\n",
      ">2, 162/433, d=0.600, g=0.966\n",
      ">2, 163/433, d=0.556, g=0.977\n",
      ">2, 164/433, d=0.628, g=0.987\n",
      ">2, 165/433, d=0.622, g=0.889\n",
      ">2, 166/433, d=0.570, g=0.808\n",
      ">2, 167/433, d=0.656, g=0.910\n",
      ">2, 168/433, d=0.653, g=1.028\n",
      ">2, 169/433, d=0.588, g=0.963\n",
      ">2, 170/433, d=0.593, g=0.913\n",
      ">2, 171/433, d=0.541, g=0.873\n",
      ">2, 172/433, d=0.593, g=1.077\n",
      ">2, 173/433, d=0.524, g=1.041\n",
      ">2, 174/433, d=0.579, g=0.865\n",
      ">2, 175/433, d=0.637, g=0.805\n",
      ">2, 176/433, d=0.636, g=0.789\n",
      ">2, 177/433, d=0.871, g=0.838\n",
      ">2, 178/433, d=0.881, g=1.051\n",
      ">2, 179/433, d=0.795, g=1.070\n",
      ">2, 180/433, d=0.643, g=1.218\n",
      ">2, 181/433, d=0.562, g=1.023\n",
      ">2, 182/433, d=0.632, g=0.875\n",
      ">2, 183/433, d=0.668, g=0.804\n",
      ">2, 184/433, d=0.723, g=0.766\n",
      ">2, 185/433, d=0.654, g=0.735\n",
      ">2, 186/433, d=0.693, g=0.731\n",
      ">2, 187/433, d=0.640, g=0.767\n",
      ">2, 188/433, d=0.674, g=0.869\n",
      ">2, 189/433, d=0.648, g=0.895\n",
      ">2, 190/433, d=0.675, g=0.849\n",
      ">2, 191/433, d=0.622, g=0.991\n",
      ">2, 192/433, d=0.548, g=0.949\n",
      ">2, 193/433, d=0.662, g=0.993\n",
      ">2, 194/433, d=0.666, g=0.907\n",
      ">2, 195/433, d=0.688, g=0.953\n",
      ">2, 196/433, d=0.684, g=0.953\n",
      ">2, 197/433, d=0.656, g=0.987\n",
      ">2, 198/433, d=0.649, g=1.062\n",
      ">2, 199/433, d=0.629, g=1.107\n",
      ">2, 200/433, d=0.621, g=0.922\n",
      ">2, 201/433, d=0.584, g=0.941\n",
      ">2, 202/433, d=0.593, g=0.843\n",
      ">2, 203/433, d=0.647, g=0.891\n",
      ">2, 204/433, d=0.580, g=0.845\n",
      ">2, 205/433, d=0.636, g=0.755\n",
      ">2, 206/433, d=0.681, g=0.737\n",
      ">2, 207/433, d=0.703, g=0.730\n",
      ">2, 208/433, d=0.721, g=0.724\n",
      ">2, 209/433, d=0.701, g=0.763\n",
      ">2, 210/433, d=0.700, g=0.739\n",
      ">2, 211/433, d=0.664, g=0.747\n",
      ">2, 212/433, d=0.691, g=0.745\n",
      ">2, 213/433, d=0.642, g=0.835\n",
      ">2, 214/433, d=0.628, g=0.801\n",
      ">2, 215/433, d=0.649, g=0.798\n",
      ">2, 216/433, d=0.654, g=0.773\n",
      ">2, 217/433, d=0.620, g=0.775\n",
      ">2, 218/433, d=0.639, g=0.796\n",
      ">2, 219/433, d=0.645, g=0.804\n",
      ">2, 220/433, d=0.633, g=0.804\n",
      ">2, 221/433, d=0.614, g=0.803\n",
      ">2, 222/433, d=0.670, g=0.743\n",
      ">2, 223/433, d=0.687, g=0.745\n",
      ">2, 224/433, d=0.654, g=0.766\n",
      ">2, 225/433, d=0.654, g=0.756\n",
      ">2, 226/433, d=0.676, g=0.737\n",
      ">2, 227/433, d=0.660, g=0.723\n",
      ">2, 228/433, d=0.643, g=0.754\n",
      ">2, 229/433, d=0.649, g=0.743\n",
      ">2, 230/433, d=0.655, g=0.778\n",
      ">2, 231/433, d=0.630, g=0.848\n",
      ">2, 232/433, d=0.683, g=0.777\n",
      ">2, 233/433, d=0.688, g=0.747\n",
      ">2, 234/433, d=0.656, g=0.729\n",
      ">2, 235/433, d=0.615, g=0.805\n",
      ">2, 236/433, d=0.670, g=0.789\n",
      ">2, 237/433, d=0.655, g=0.817\n",
      ">2, 238/433, d=0.691, g=0.819\n",
      ">2, 239/433, d=0.631, g=0.889\n",
      ">2, 240/433, d=0.616, g=0.872\n",
      ">2, 241/433, d=0.595, g=0.823\n",
      ">2, 242/433, d=0.614, g=0.765\n",
      ">2, 243/433, d=0.603, g=0.765\n",
      ">2, 244/433, d=0.640, g=0.799\n",
      ">2, 245/433, d=0.577, g=0.849\n",
      ">2, 246/433, d=0.664, g=0.878\n",
      ">2, 247/433, d=0.608, g=0.817\n",
      ">2, 248/433, d=0.616, g=0.818\n",
      ">2, 249/433, d=0.607, g=0.798\n",
      ">2, 250/433, d=0.532, g=0.812\n",
      ">2, 251/433, d=0.664, g=0.855\n",
      ">2, 252/433, d=0.622, g=0.856\n",
      ">2, 253/433, d=0.699, g=0.797\n",
      ">2, 254/433, d=0.764, g=0.880\n",
      ">2, 255/433, d=0.769, g=0.940\n",
      ">2, 256/433, d=0.744, g=0.940\n",
      ">2, 257/433, d=0.715, g=1.008\n",
      ">2, 258/433, d=0.669, g=0.944\n",
      ">2, 259/433, d=0.612, g=0.908\n",
      ">2, 260/433, d=0.589, g=0.894\n",
      ">2, 261/433, d=0.562, g=0.992\n",
      ">2, 262/433, d=0.553, g=0.974\n",
      ">2, 263/433, d=0.589, g=0.910\n",
      ">2, 264/433, d=0.585, g=1.026\n",
      ">2, 265/433, d=0.653, g=0.943\n",
      ">2, 266/433, d=0.670, g=0.867\n",
      ">2, 267/433, d=0.636, g=0.850\n",
      ">2, 268/433, d=0.648, g=0.827\n",
      ">2, 269/433, d=0.627, g=0.846\n",
      ">2, 270/433, d=0.589, g=0.857\n",
      ">2, 271/433, d=0.616, g=0.906\n",
      ">2, 272/433, d=0.696, g=0.869\n",
      ">2, 273/433, d=0.587, g=0.900\n",
      ">2, 274/433, d=0.557, g=0.940\n",
      ">2, 275/433, d=0.593, g=0.951\n",
      ">2, 276/433, d=0.625, g=0.960\n",
      ">2, 277/433, d=0.535, g=0.916\n",
      ">2, 278/433, d=0.559, g=0.925\n",
      ">2, 279/433, d=0.574, g=0.798\n",
      ">2, 280/433, d=0.543, g=0.931\n",
      ">2, 281/433, d=0.515, g=0.957\n",
      ">2, 282/433, d=0.558, g=1.047\n",
      ">2, 283/433, d=0.581, g=1.073\n",
      ">2, 284/433, d=0.744, g=1.120\n",
      ">2, 285/433, d=0.840, g=0.953\n",
      ">2, 286/433, d=0.752, g=0.896\n",
      ">2, 287/433, d=0.751, g=0.970\n",
      ">2, 288/433, d=0.836, g=0.935\n",
      ">2, 289/433, d=0.709, g=0.943\n",
      ">2, 290/433, d=0.605, g=0.914\n",
      ">2, 291/433, d=0.628, g=0.908\n",
      ">2, 292/433, d=0.717, g=0.911\n",
      ">2, 293/433, d=0.696, g=0.801\n",
      ">2, 294/433, d=0.671, g=0.907\n",
      ">2, 295/433, d=0.634, g=0.948\n",
      ">2, 296/433, d=0.693, g=0.893\n",
      ">2, 297/433, d=0.664, g=0.881\n",
      ">2, 298/433, d=0.714, g=0.885\n",
      ">2, 299/433, d=0.708, g=0.791\n",
      ">2, 300/433, d=0.754, g=0.891\n",
      ">2, 301/433, d=0.684, g=0.939\n",
      ">2, 302/433, d=0.676, g=0.943\n",
      ">2, 303/433, d=0.636, g=0.959\n",
      ">2, 304/433, d=0.610, g=1.015\n",
      ">2, 305/433, d=0.610, g=0.976\n",
      ">2, 306/433, d=0.559, g=0.941\n",
      ">2, 307/433, d=0.652, g=0.853\n",
      ">2, 308/433, d=0.662, g=0.769\n",
      ">2, 309/433, d=0.658, g=0.782\n",
      ">2, 310/433, d=0.702, g=0.764\n",
      ">2, 311/433, d=0.636, g=0.775\n",
      ">2, 312/433, d=0.642, g=0.770\n",
      ">2, 313/433, d=0.695, g=0.730\n",
      ">2, 314/433, d=0.669, g=0.776\n",
      ">2, 315/433, d=0.650, g=0.811\n",
      ">2, 316/433, d=0.681, g=0.763\n",
      ">2, 317/433, d=0.642, g=0.812\n",
      ">2, 318/433, d=0.639, g=0.813\n",
      ">2, 319/433, d=0.653, g=0.784\n",
      ">2, 320/433, d=0.627, g=0.767\n",
      ">2, 321/433, d=0.636, g=0.818\n",
      ">2, 322/433, d=0.618, g=0.763\n",
      ">2, 323/433, d=0.634, g=0.786\n",
      ">2, 324/433, d=0.708, g=0.832\n",
      ">2, 325/433, d=0.655, g=0.832\n",
      ">2, 326/433, d=0.667, g=0.814\n",
      ">2, 327/433, d=0.686, g=0.761\n",
      ">2, 328/433, d=0.745, g=0.844\n",
      ">2, 329/433, d=0.733, g=0.818\n",
      ">2, 330/433, d=0.678, g=0.877\n",
      ">2, 331/433, d=0.718, g=0.800\n",
      ">2, 332/433, d=0.691, g=0.823\n",
      ">2, 333/433, d=0.715, g=0.907\n",
      ">2, 334/433, d=0.684, g=0.944\n",
      ">2, 335/433, d=0.681, g=0.936\n",
      ">2, 336/433, d=0.665, g=0.787\n",
      ">2, 337/433, d=0.650, g=0.761\n",
      ">2, 338/433, d=0.621, g=0.713\n",
      ">2, 339/433, d=0.665, g=0.692\n",
      ">2, 340/433, d=0.665, g=0.731\n",
      ">2, 341/433, d=0.654, g=0.715\n",
      ">2, 342/433, d=0.641, g=0.730\n",
      ">2, 343/433, d=0.643, g=0.683\n",
      ">2, 344/433, d=0.702, g=0.745\n",
      ">2, 345/433, d=0.661, g=0.716\n",
      ">2, 346/433, d=0.662, g=0.724\n",
      ">2, 347/433, d=0.664, g=0.763\n",
      ">2, 348/433, d=0.687, g=0.747\n",
      ">2, 349/433, d=0.649, g=0.738\n",
      ">2, 350/433, d=0.664, g=0.811\n",
      ">2, 351/433, d=0.602, g=0.797\n",
      ">2, 352/433, d=0.636, g=0.769\n",
      ">2, 353/433, d=0.622, g=0.749\n",
      ">2, 354/433, d=0.670, g=0.762\n",
      ">2, 355/433, d=0.671, g=0.754\n",
      ">2, 356/433, d=0.667, g=0.720\n",
      ">2, 357/433, d=0.659, g=0.730\n",
      ">2, 358/433, d=0.624, g=0.832\n",
      ">2, 359/433, d=0.631, g=0.843\n",
      ">2, 360/433, d=0.682, g=0.787\n",
      ">2, 361/433, d=0.695, g=0.863\n",
      ">2, 362/433, d=0.654, g=0.880\n",
      ">2, 363/433, d=0.684, g=0.812\n",
      ">2, 364/433, d=0.629, g=0.844\n",
      ">2, 365/433, d=0.614, g=0.885\n",
      ">2, 366/433, d=0.620, g=0.856\n",
      ">2, 367/433, d=0.653, g=0.828\n",
      ">2, 368/433, d=0.608, g=0.831\n",
      ">2, 369/433, d=0.665, g=0.772\n",
      ">2, 370/433, d=0.670, g=0.823\n",
      ">2, 371/433, d=0.670, g=0.861\n",
      ">2, 372/433, d=0.669, g=0.826\n",
      ">2, 373/433, d=0.626, g=0.796\n",
      ">2, 374/433, d=0.599, g=0.802\n",
      ">2, 375/433, d=0.643, g=0.787\n",
      ">2, 376/433, d=0.633, g=0.688\n",
      ">2, 377/433, d=0.643, g=0.735\n",
      ">2, 378/433, d=0.671, g=0.782\n",
      ">2, 379/433, d=0.627, g=0.732\n",
      ">2, 380/433, d=0.667, g=0.822\n",
      ">2, 381/433, d=0.648, g=0.795\n",
      ">2, 382/433, d=0.629, g=0.783\n",
      ">2, 383/433, d=0.623, g=0.822\n",
      ">2, 384/433, d=0.651, g=0.827\n",
      ">2, 385/433, d=0.661, g=0.816\n",
      ">2, 386/433, d=0.600, g=0.754\n",
      ">2, 387/433, d=0.675, g=0.826\n",
      ">2, 388/433, d=0.617, g=0.841\n",
      ">2, 389/433, d=0.650, g=0.836\n",
      ">2, 390/433, d=0.647, g=0.802\n",
      ">2, 391/433, d=0.611, g=0.781\n",
      ">2, 392/433, d=0.593, g=0.861\n",
      ">2, 393/433, d=0.607, g=0.851\n",
      ">2, 394/433, d=0.542, g=0.802\n",
      ">2, 395/433, d=0.595, g=0.788\n",
      ">2, 396/433, d=0.630, g=0.824\n",
      ">2, 397/433, d=0.626, g=0.925\n",
      ">2, 398/433, d=0.618, g=0.868\n",
      ">2, 399/433, d=0.657, g=0.946\n",
      ">2, 400/433, d=0.601, g=0.947\n",
      ">2, 401/433, d=0.714, g=1.063\n",
      ">2, 402/433, d=0.574, g=1.042\n",
      ">2, 403/433, d=0.525, g=1.016\n",
      ">2, 404/433, d=0.530, g=0.964\n",
      ">2, 405/433, d=0.542, g=1.173\n",
      ">2, 406/433, d=0.596, g=0.971\n",
      ">2, 407/433, d=0.677, g=0.830\n",
      ">2, 408/433, d=0.666, g=0.853\n",
      ">2, 409/433, d=0.626, g=0.947\n",
      ">2, 410/433, d=0.545, g=0.911\n",
      ">2, 411/433, d=0.668, g=0.808\n",
      ">2, 412/433, d=0.882, g=0.884\n",
      ">2, 413/433, d=1.322, g=1.002\n",
      ">2, 414/433, d=0.680, g=1.170\n",
      ">2, 415/433, d=0.529, g=1.224\n",
      ">2, 416/433, d=0.444, g=1.391\n",
      ">2, 417/433, d=0.582, g=1.191\n",
      ">2, 418/433, d=0.621, g=0.996\n",
      ">2, 419/433, d=0.636, g=0.879\n",
      ">2, 420/433, d=0.588, g=0.820\n",
      ">2, 421/433, d=0.627, g=0.762\n",
      ">2, 422/433, d=0.686, g=0.722\n",
      ">2, 423/433, d=0.638, g=0.897\n",
      ">2, 424/433, d=0.731, g=0.874\n",
      ">2, 425/433, d=0.634, g=0.774\n",
      ">2, 426/433, d=0.646, g=0.728\n",
      ">2, 427/433, d=0.687, g=0.843\n",
      ">2, 428/433, d=0.676, g=0.919\n",
      ">2, 429/433, d=0.627, g=0.844\n",
      ">2, 430/433, d=0.681, g=0.772\n",
      ">2, 431/433, d=0.733, g=0.772\n",
      ">2, 432/433, d=0.628, g=0.823\n",
      ">2, 433/433, d=0.667, g=0.770\n",
      ">3, 1/433, d=0.709, g=0.763\n",
      ">3, 2/433, d=0.615, g=0.778\n",
      ">3, 3/433, d=0.609, g=0.804\n",
      ">3, 4/433, d=0.614, g=0.890\n",
      ">3, 5/433, d=0.656, g=0.774\n",
      ">3, 6/433, d=0.605, g=0.811\n",
      ">3, 7/433, d=0.620, g=0.828\n",
      ">3, 8/433, d=0.588, g=0.800\n",
      ">3, 9/433, d=0.573, g=0.875\n",
      ">3, 10/433, d=0.600, g=0.817\n",
      ">3, 11/433, d=0.597, g=0.874\n",
      ">3, 12/433, d=0.619, g=0.869\n",
      ">3, 13/433, d=0.638, g=0.876\n",
      ">3, 14/433, d=0.668, g=0.838\n",
      ">3, 15/433, d=0.638, g=0.833\n",
      ">3, 16/433, d=0.620, g=0.818\n",
      ">3, 17/433, d=0.581, g=0.861\n",
      ">3, 18/433, d=0.635, g=0.842\n",
      ">3, 19/433, d=0.661, g=0.807\n",
      ">3, 20/433, d=0.693, g=0.766\n",
      ">3, 21/433, d=0.656, g=0.845\n",
      ">3, 22/433, d=0.617, g=0.889\n",
      ">3, 23/433, d=0.655, g=0.872\n",
      ">3, 24/433, d=0.588, g=0.971\n",
      ">3, 25/433, d=0.626, g=0.887\n",
      ">3, 26/433, d=0.550, g=0.972\n",
      ">3, 27/433, d=0.565, g=0.969\n",
      ">3, 28/433, d=0.574, g=0.994\n",
      ">3, 29/433, d=0.568, g=0.823\n",
      ">3, 30/433, d=0.638, g=0.979\n",
      ">3, 31/433, d=0.547, g=0.919\n",
      ">3, 32/433, d=0.797, g=0.761\n",
      ">3, 33/433, d=0.744, g=0.687\n",
      ">3, 34/433, d=0.726, g=0.679\n",
      ">3, 35/433, d=0.669, g=0.842\n",
      ">3, 36/433, d=0.677, g=0.797\n",
      ">3, 37/433, d=0.680, g=0.797\n",
      ">3, 38/433, d=0.685, g=0.769\n",
      ">3, 39/433, d=0.707, g=0.797\n",
      ">3, 40/433, d=0.681, g=0.854\n",
      ">3, 41/433, d=0.684, g=0.929\n",
      ">3, 42/433, d=0.740, g=0.915\n",
      ">3, 43/433, d=0.659, g=0.923\n",
      ">3, 44/433, d=0.611, g=1.061\n",
      ">3, 45/433, d=0.668, g=1.121\n",
      ">3, 46/433, d=0.656, g=0.885\n",
      ">3, 47/433, d=0.591, g=0.799\n",
      ">3, 48/433, d=0.610, g=0.815\n",
      ">3, 49/433, d=0.691, g=0.823\n",
      ">3, 50/433, d=0.689, g=0.832\n",
      ">3, 51/433, d=0.690, g=0.794\n",
      ">3, 52/433, d=0.612, g=0.832\n",
      ">3, 53/433, d=0.603, g=0.899\n",
      ">3, 54/433, d=0.647, g=0.866\n",
      ">3, 55/433, d=0.590, g=0.886\n",
      ">3, 56/433, d=0.574, g=0.962\n",
      ">3, 57/433, d=0.559, g=0.895\n",
      ">3, 58/433, d=0.638, g=0.917\n",
      ">3, 59/433, d=0.593, g=0.840\n",
      ">3, 60/433, d=0.622, g=0.807\n",
      ">3, 61/433, d=0.648, g=0.788\n",
      ">3, 62/433, d=0.744, g=0.823\n",
      ">3, 63/433, d=0.696, g=1.006\n",
      ">3, 64/433, d=0.724, g=1.034\n",
      ">3, 65/433, d=0.656, g=1.020\n",
      ">3, 66/433, d=0.583, g=1.044\n",
      ">3, 67/433, d=0.611, g=0.949\n",
      ">3, 68/433, d=0.589, g=0.857\n",
      ">3, 69/433, d=0.663, g=0.792\n",
      ">3, 70/433, d=0.663, g=0.794\n",
      ">3, 71/433, d=0.683, g=0.737\n",
      ">3, 72/433, d=0.697, g=0.704\n",
      ">3, 73/433, d=0.701, g=0.763\n",
      ">3, 74/433, d=0.686, g=0.825\n",
      ">3, 75/433, d=0.674, g=0.882\n",
      ">3, 76/433, d=0.671, g=0.867\n",
      ">3, 77/433, d=0.600, g=0.758\n",
      ">3, 78/433, d=0.604, g=0.803\n",
      ">3, 79/433, d=0.614, g=0.832\n",
      ">3, 80/433, d=0.591, g=0.849\n",
      ">3, 81/433, d=0.588, g=0.859\n",
      ">3, 82/433, d=0.683, g=0.834\n",
      ">3, 83/433, d=0.640, g=0.853\n",
      ">3, 84/433, d=0.677, g=0.915\n",
      ">3, 85/433, d=0.661, g=0.910\n",
      ">3, 86/433, d=0.697, g=0.819\n",
      ">3, 87/433, d=0.679, g=0.839\n",
      ">3, 88/433, d=0.714, g=0.784\n",
      ">3, 89/433, d=0.687, g=0.789\n",
      ">3, 90/433, d=0.715, g=0.912\n",
      ">3, 91/433, d=0.685, g=0.985\n",
      ">3, 92/433, d=0.649, g=1.071\n",
      ">3, 93/433, d=0.661, g=1.133\n",
      ">3, 94/433, d=0.674, g=1.105\n",
      ">3, 95/433, d=0.675, g=0.961\n",
      ">3, 96/433, d=0.587, g=1.059\n",
      ">3, 97/433, d=0.684, g=0.939\n",
      ">3, 98/433, d=0.615, g=0.852\n",
      ">3, 99/433, d=0.642, g=0.704\n",
      ">3, 100/433, d=0.708, g=0.712\n",
      ">3, 101/433, d=0.729, g=0.645\n",
      ">3, 102/433, d=0.731, g=0.711\n",
      ">3, 103/433, d=0.721, g=0.668\n",
      ">3, 104/433, d=0.698, g=0.707\n",
      ">3, 105/433, d=0.667, g=0.730\n",
      ">3, 106/433, d=0.656, g=0.757\n",
      ">3, 107/433, d=0.662, g=0.752\n",
      ">3, 108/433, d=0.700, g=0.777\n",
      ">3, 109/433, d=0.716, g=0.802\n",
      ">3, 110/433, d=0.628, g=0.871\n",
      ">3, 111/433, d=0.613, g=0.816\n",
      ">3, 112/433, d=0.641, g=0.793\n",
      ">3, 113/433, d=0.610, g=0.855\n",
      ">3, 114/433, d=0.578, g=0.782\n",
      ">3, 115/433, d=0.596, g=0.876\n",
      ">3, 116/433, d=0.583, g=0.884\n",
      ">3, 117/433, d=0.606, g=0.830\n",
      ">3, 118/433, d=0.629, g=0.865\n",
      ">3, 119/433, d=0.589, g=0.757\n",
      ">3, 120/433, d=0.572, g=0.883\n",
      ">3, 121/433, d=0.618, g=0.811\n",
      ">3, 122/433, d=0.597, g=0.886\n",
      ">3, 123/433, d=0.580, g=0.855\n",
      ">3, 124/433, d=0.611, g=0.929\n",
      ">3, 125/433, d=0.559, g=0.992\n",
      ">3, 126/433, d=0.620, g=0.901\n",
      ">3, 127/433, d=0.751, g=0.886\n",
      ">3, 128/433, d=0.666, g=0.946\n",
      ">3, 129/433, d=0.658, g=0.891\n",
      ">3, 130/433, d=0.687, g=0.960\n",
      ">3, 131/433, d=0.730, g=0.890\n",
      ">3, 132/433, d=0.654, g=0.924\n",
      ">3, 133/433, d=0.603, g=0.960\n",
      ">3, 134/433, d=0.579, g=0.905\n",
      ">3, 135/433, d=0.656, g=0.883\n",
      ">3, 136/433, d=0.565, g=0.885\n",
      ">3, 137/433, d=0.635, g=0.892\n",
      ">3, 138/433, d=0.614, g=0.864\n",
      ">3, 139/433, d=0.638, g=0.841\n",
      ">3, 140/433, d=0.759, g=0.807\n",
      ">3, 141/433, d=0.608, g=0.799\n",
      ">3, 142/433, d=0.568, g=0.805\n",
      ">3, 143/433, d=0.642, g=0.817\n",
      ">3, 144/433, d=0.666, g=0.791\n",
      ">3, 145/433, d=0.640, g=0.786\n",
      ">3, 146/433, d=0.698, g=0.779\n",
      ">3, 147/433, d=0.630, g=0.799\n",
      ">3, 148/433, d=0.601, g=0.824\n",
      ">3, 149/433, d=0.590, g=0.914\n",
      ">3, 150/433, d=0.623, g=0.837\n",
      ">3, 151/433, d=0.589, g=0.885\n",
      ">3, 152/433, d=0.638, g=0.879\n",
      ">3, 153/433, d=0.529, g=0.842\n",
      ">3, 154/433, d=0.595, g=0.821\n",
      ">3, 155/433, d=0.561, g=0.897\n",
      ">3, 156/433, d=0.580, g=0.886\n",
      ">3, 157/433, d=0.655, g=0.865\n",
      ">3, 158/433, d=0.650, g=0.926\n",
      ">3, 159/433, d=0.775, g=0.991\n",
      ">3, 160/433, d=0.820, g=1.023\n",
      ">3, 161/433, d=0.894, g=0.947\n",
      ">3, 162/433, d=0.684, g=1.024\n",
      ">3, 163/433, d=0.696, g=0.982\n",
      ">3, 164/433, d=0.616, g=0.923\n",
      ">3, 165/433, d=0.667, g=0.966\n",
      ">3, 166/433, d=0.577, g=0.970\n",
      ">3, 167/433, d=0.625, g=0.953\n",
      ">3, 168/433, d=0.619, g=0.832\n",
      ">3, 169/433, d=0.621, g=0.871\n",
      ">3, 170/433, d=0.624, g=0.767\n",
      ">3, 171/433, d=0.633, g=0.861\n",
      ">3, 172/433, d=0.677, g=0.828\n",
      ">3, 173/433, d=0.647, g=0.809\n",
      ">3, 174/433, d=0.648, g=0.794\n",
      ">3, 175/433, d=0.676, g=0.874\n",
      ">3, 176/433, d=0.688, g=0.866\n",
      ">3, 177/433, d=0.640, g=0.855\n",
      ">3, 178/433, d=0.678, g=0.896\n",
      ">3, 179/433, d=0.634, g=0.808\n",
      ">3, 180/433, d=0.611, g=0.833\n",
      ">3, 181/433, d=0.631, g=0.891\n",
      ">3, 182/433, d=0.647, g=0.861\n",
      ">3, 183/433, d=0.581, g=0.921\n",
      ">3, 184/433, d=0.605, g=0.779\n",
      ">3, 185/433, d=0.581, g=0.900\n",
      ">3, 186/433, d=0.680, g=0.843\n",
      ">3, 187/433, d=0.674, g=0.725\n",
      ">3, 188/433, d=0.743, g=0.797\n",
      ">3, 189/433, d=0.670, g=0.814\n",
      ">3, 190/433, d=0.661, g=0.815\n",
      ">3, 191/433, d=0.736, g=0.811\n",
      ">3, 192/433, d=0.756, g=0.818\n",
      ">3, 193/433, d=0.636, g=0.813\n",
      ">3, 194/433, d=0.613, g=0.824\n",
      ">3, 195/433, d=0.651, g=0.777\n",
      ">3, 196/433, d=0.711, g=0.851\n",
      ">3, 197/433, d=0.634, g=0.878\n",
      ">3, 198/433, d=0.638, g=0.868\n",
      ">3, 199/433, d=0.628, g=0.872\n",
      ">3, 200/433, d=0.629, g=0.837\n",
      ">3, 201/433, d=0.663, g=0.766\n",
      ">3, 202/433, d=0.620, g=0.782\n",
      ">3, 203/433, d=0.575, g=0.835\n",
      ">3, 204/433, d=0.673, g=0.919\n",
      ">3, 205/433, d=0.576, g=0.918\n",
      ">3, 206/433, d=0.585, g=0.929\n",
      ">3, 207/433, d=0.564, g=0.890\n",
      ">3, 208/433, d=0.633, g=0.796\n",
      ">3, 209/433, d=0.587, g=0.813\n",
      ">3, 210/433, d=0.617, g=0.793\n",
      ">3, 211/433, d=0.620, g=0.861\n",
      ">3, 212/433, d=0.597, g=0.891\n",
      ">3, 213/433, d=0.674, g=0.858\n",
      ">3, 214/433, d=0.697, g=0.824\n",
      ">3, 215/433, d=0.750, g=0.729\n",
      ">3, 216/433, d=0.684, g=0.819\n",
      ">3, 217/433, d=0.732, g=0.766\n",
      ">3, 218/433, d=0.737, g=0.812\n",
      ">3, 219/433, d=0.586, g=0.946\n",
      ">3, 220/433, d=0.636, g=0.922\n",
      ">3, 221/433, d=0.633, g=0.888\n",
      ">3, 222/433, d=0.622, g=0.938\n",
      ">3, 223/433, d=0.647, g=0.847\n",
      ">3, 224/433, d=0.616, g=0.839\n",
      ">3, 225/433, d=0.622, g=0.860\n",
      ">3, 226/433, d=0.664, g=0.826\n",
      ">3, 227/433, d=0.622, g=0.875\n",
      ">3, 228/433, d=0.636, g=0.826\n",
      ">3, 229/433, d=0.587, g=0.840\n",
      ">3, 230/433, d=0.562, g=0.869\n",
      ">3, 231/433, d=0.619, g=0.902\n",
      ">3, 232/433, d=0.614, g=0.918\n",
      ">3, 233/433, d=0.619, g=0.928\n",
      ">3, 234/433, d=0.591, g=0.853\n",
      ">3, 235/433, d=0.689, g=0.847\n",
      ">3, 236/433, d=0.572, g=0.797\n",
      ">3, 237/433, d=0.660, g=0.866\n",
      ">3, 238/433, d=0.679, g=0.885\n",
      ">3, 239/433, d=0.729, g=0.889\n",
      ">3, 240/433, d=0.768, g=0.992\n",
      ">3, 241/433, d=0.797, g=1.083\n",
      ">3, 242/433, d=0.700, g=1.124\n",
      ">3, 243/433, d=0.668, g=1.092\n",
      ">3, 244/433, d=0.666, g=1.230\n",
      ">3, 245/433, d=0.661, g=1.148\n",
      ">3, 246/433, d=0.642, g=1.190\n",
      ">3, 247/433, d=0.633, g=1.060\n",
      ">3, 248/433, d=0.671, g=0.956\n",
      ">3, 249/433, d=0.582, g=1.058\n",
      ">3, 250/433, d=0.601, g=1.061\n",
      ">3, 251/433, d=0.596, g=0.967\n",
      ">3, 252/433, d=0.688, g=0.879\n",
      ">3, 253/433, d=0.683, g=0.937\n",
      ">3, 254/433, d=0.606, g=1.017\n",
      ">3, 255/433, d=0.517, g=0.929\n",
      ">3, 256/433, d=0.492, g=1.140\n",
      ">3, 257/433, d=0.512, g=1.235\n",
      ">3, 258/433, d=0.582, g=1.152\n",
      ">3, 259/433, d=0.523, g=1.048\n",
      ">3, 260/433, d=0.666, g=0.849\n",
      ">3, 261/433, d=0.800, g=0.669\n",
      ">3, 262/433, d=0.691, g=0.667\n",
      ">3, 263/433, d=0.675, g=0.828\n",
      ">3, 264/433, d=0.648, g=0.842\n",
      ">3, 265/433, d=0.616, g=0.924\n",
      ">3, 266/433, d=0.583, g=1.000\n",
      ">3, 267/433, d=0.671, g=1.039\n",
      ">3, 268/433, d=0.686, g=0.848\n",
      ">3, 269/433, d=0.663, g=0.831\n",
      ">3, 270/433, d=0.723, g=0.822\n",
      ">3, 271/433, d=0.718, g=0.795\n",
      ">3, 272/433, d=0.739, g=0.852\n",
      ">3, 273/433, d=0.705, g=0.827\n",
      ">3, 274/433, d=0.733, g=0.775\n",
      ">3, 275/433, d=0.692, g=0.786\n",
      ">3, 276/433, d=0.602, g=0.807\n",
      ">3, 277/433, d=0.650, g=0.889\n",
      ">3, 278/433, d=0.630, g=0.823\n",
      ">3, 279/433, d=0.598, g=0.835\n",
      ">3, 280/433, d=0.609, g=0.836\n",
      ">3, 281/433, d=0.560, g=0.784\n",
      ">3, 282/433, d=0.620, g=0.836\n",
      ">3, 283/433, d=0.591, g=0.843\n",
      ">3, 284/433, d=0.652, g=0.828\n",
      ">3, 285/433, d=0.635, g=0.869\n",
      ">3, 286/433, d=0.659, g=0.827\n",
      ">3, 287/433, d=0.585, g=0.808\n",
      ">3, 288/433, d=0.640, g=0.816\n",
      ">3, 289/433, d=0.606, g=0.886\n",
      ">3, 290/433, d=0.653, g=0.914\n",
      ">3, 291/433, d=0.648, g=0.914\n",
      ">3, 292/433, d=0.622, g=0.925\n",
      ">3, 293/433, d=0.692, g=0.947\n",
      ">3, 294/433, d=0.642, g=0.917\n",
      ">3, 295/433, d=0.663, g=0.870\n",
      ">3, 296/433, d=0.698, g=0.836\n",
      ">3, 297/433, d=0.660, g=0.868\n",
      ">3, 298/433, d=0.664, g=0.807\n",
      ">3, 299/433, d=0.627, g=0.863\n",
      ">3, 300/433, d=0.692, g=0.744\n",
      ">3, 301/433, d=0.701, g=0.808\n",
      ">3, 302/433, d=0.718, g=0.748\n",
      ">3, 303/433, d=0.692, g=0.752\n",
      ">3, 304/433, d=0.639, g=0.744\n",
      ">3, 305/433, d=0.638, g=0.782\n",
      ">3, 306/433, d=0.685, g=0.818\n",
      ">3, 307/433, d=0.690, g=0.793\n",
      ">3, 308/433, d=0.653, g=0.785\n",
      ">3, 309/433, d=0.709, g=0.788\n",
      ">3, 310/433, d=0.678, g=0.761\n",
      ">3, 311/433, d=0.702, g=0.736\n",
      ">3, 312/433, d=0.692, g=0.732\n",
      ">3, 313/433, d=0.658, g=0.751\n",
      ">3, 314/433, d=0.690, g=0.750\n",
      ">3, 315/433, d=0.602, g=0.724\n",
      ">3, 316/433, d=0.601, g=0.823\n",
      ">3, 317/433, d=0.666, g=0.818\n",
      ">3, 318/433, d=0.627, g=0.821\n",
      ">3, 319/433, d=0.585, g=0.840\n",
      ">3, 320/433, d=0.616, g=0.894\n",
      ">3, 321/433, d=0.553, g=0.884\n",
      ">3, 322/433, d=0.576, g=0.972\n",
      ">3, 323/433, d=0.560, g=0.917\n",
      ">3, 324/433, d=0.584, g=0.888\n",
      ">3, 325/433, d=0.591, g=0.919\n",
      ">3, 326/433, d=0.577, g=0.979\n",
      ">3, 327/433, d=0.543, g=0.996\n",
      ">3, 328/433, d=0.583, g=1.089\n",
      ">3, 329/433, d=0.551, g=1.031\n",
      ">3, 330/433, d=0.585, g=0.993\n",
      ">3, 331/433, d=0.578, g=0.888\n",
      ">3, 332/433, d=0.581, g=0.803\n",
      ">3, 333/433, d=0.652, g=0.765\n",
      ">3, 334/433, d=0.592, g=0.807\n",
      ">3, 335/433, d=0.692, g=0.802\n",
      ">3, 336/433, d=0.707, g=0.730\n",
      ">3, 337/433, d=0.767, g=0.757\n",
      ">3, 338/433, d=0.695, g=0.749\n",
      ">3, 339/433, d=0.685, g=0.739\n",
      ">3, 340/433, d=0.696, g=0.807\n",
      ">3, 341/433, d=0.688, g=0.860\n",
      ">3, 342/433, d=0.698, g=0.821\n",
      ">3, 343/433, d=0.655, g=0.873\n",
      ">3, 344/433, d=0.674, g=0.862\n",
      ">3, 345/433, d=0.565, g=0.856\n",
      ">3, 346/433, d=0.514, g=0.903\n",
      ">3, 347/433, d=0.540, g=0.923\n",
      ">3, 348/433, d=0.615, g=0.875\n",
      ">3, 349/433, d=0.692, g=0.911\n",
      ">3, 350/433, d=0.785, g=0.880\n",
      ">3, 351/433, d=0.736, g=0.979\n",
      ">3, 352/433, d=0.827, g=1.055\n",
      ">3, 353/433, d=0.750, g=0.934\n",
      ">3, 354/433, d=0.752, g=0.862\n",
      ">3, 355/433, d=0.658, g=0.991\n",
      ">3, 356/433, d=0.684, g=0.963\n",
      ">3, 357/433, d=0.620, g=1.128\n",
      ">3, 358/433, d=0.623, g=1.017\n",
      ">3, 359/433, d=0.600, g=0.995\n",
      ">3, 360/433, d=0.561, g=0.921\n",
      ">3, 361/433, d=0.610, g=0.891\n",
      ">3, 362/433, d=0.607, g=0.945\n",
      ">3, 363/433, d=0.598, g=0.861\n",
      ">3, 364/433, d=0.628, g=1.003\n",
      ">3, 365/433, d=0.646, g=0.984\n",
      ">3, 366/433, d=0.614, g=1.046\n",
      ">3, 367/433, d=0.625, g=0.929\n",
      ">3, 368/433, d=0.614, g=0.950\n",
      ">3, 369/433, d=0.614, g=0.925\n",
      ">3, 370/433, d=0.497, g=1.017\n",
      ">3, 371/433, d=0.588, g=1.031\n",
      ">3, 372/433, d=0.668, g=0.882\n",
      ">3, 373/433, d=0.658, g=0.878\n",
      ">3, 374/433, d=0.675, g=0.749\n",
      ">3, 375/433, d=0.743, g=0.835\n",
      ">3, 376/433, d=0.793, g=0.780\n",
      ">3, 377/433, d=0.743, g=0.792\n",
      ">3, 378/433, d=0.674, g=0.837\n",
      ">3, 379/433, d=0.621, g=0.805\n",
      ">3, 380/433, d=0.631, g=0.925\n",
      ">3, 381/433, d=0.577, g=0.905\n",
      ">3, 382/433, d=0.627, g=1.001\n",
      ">3, 383/433, d=0.614, g=0.884\n",
      ">3, 384/433, d=0.606, g=0.872\n",
      ">3, 385/433, d=0.603, g=0.894\n",
      ">3, 386/433, d=0.622, g=0.814\n",
      ">3, 387/433, d=0.638, g=0.847\n",
      ">3, 388/433, d=0.651, g=0.843\n",
      ">3, 389/433, d=0.611, g=0.724\n",
      ">3, 390/433, d=0.642, g=0.837\n",
      ">3, 391/433, d=0.680, g=0.887\n",
      ">3, 392/433, d=0.646, g=0.912\n",
      ">3, 393/433, d=0.667, g=0.854\n",
      ">3, 394/433, d=0.633, g=0.848\n",
      ">3, 395/433, d=0.674, g=0.769\n",
      ">3, 396/433, d=0.615, g=0.819\n",
      ">3, 397/433, d=0.620, g=0.732\n",
      ">3, 398/433, d=0.647, g=0.826\n",
      ">3, 399/433, d=0.641, g=0.766\n",
      ">3, 400/433, d=0.628, g=0.748\n",
      ">3, 401/433, d=0.674, g=0.786\n",
      ">3, 402/433, d=0.662, g=0.786\n",
      ">3, 403/433, d=0.618, g=0.852\n",
      ">3, 404/433, d=0.658, g=0.813\n",
      ">3, 405/433, d=0.590, g=0.812\n",
      ">3, 406/433, d=0.615, g=0.808\n",
      ">3, 407/433, d=0.669, g=0.892\n",
      ">3, 408/433, d=0.650, g=0.978\n",
      ">3, 409/433, d=0.645, g=1.000\n",
      ">3, 410/433, d=0.632, g=1.024\n",
      ">3, 411/433, d=0.634, g=1.092\n",
      ">3, 412/433, d=0.596, g=1.190\n",
      ">3, 413/433, d=0.654, g=0.992\n",
      ">3, 414/433, d=0.627, g=0.956\n",
      ">3, 415/433, d=0.700, g=0.984\n",
      ">3, 416/433, d=0.666, g=1.032\n",
      ">3, 417/433, d=0.716, g=0.896\n",
      ">3, 418/433, d=0.664, g=0.948\n",
      ">3, 419/433, d=0.648, g=0.924\n",
      ">3, 420/433, d=0.624, g=0.948\n",
      ">3, 421/433, d=0.604, g=0.875\n",
      ">3, 422/433, d=0.648, g=0.846\n",
      ">3, 423/433, d=0.676, g=0.791\n",
      ">3, 424/433, d=0.604, g=0.836\n",
      ">3, 425/433, d=0.684, g=0.839\n",
      ">3, 426/433, d=0.555, g=0.930\n",
      ">3, 427/433, d=0.622, g=0.985\n",
      ">3, 428/433, d=0.572, g=0.967\n",
      ">3, 429/433, d=0.604, g=0.923\n",
      ">3, 430/433, d=0.528, g=0.919\n",
      ">3, 431/433, d=0.531, g=0.941\n",
      ">3, 432/433, d=0.576, g=0.919\n",
      ">3, 433/433, d=0.565, g=0.881\n",
      ">4, 1/433, d=0.528, g=0.856\n",
      ">4, 2/433, d=0.610, g=0.995\n",
      ">4, 3/433, d=0.685, g=0.769\n",
      ">4, 4/433, d=0.691, g=0.724\n",
      ">4, 5/433, d=0.741, g=0.713\n",
      ">4, 6/433, d=0.651, g=0.912\n",
      ">4, 7/433, d=0.623, g=1.113\n",
      ">4, 8/433, d=0.605, g=1.324\n",
      ">4, 9/433, d=0.627, g=1.324\n",
      ">4, 10/433, d=0.648, g=0.888\n",
      ">4, 11/433, d=0.777, g=0.834\n",
      ">4, 12/433, d=0.692, g=0.806\n",
      ">4, 13/433, d=0.632, g=0.772\n",
      ">4, 14/433, d=0.686, g=0.797\n",
      ">4, 15/433, d=0.647, g=0.752\n",
      ">4, 16/433, d=0.747, g=0.828\n",
      ">4, 17/433, d=0.600, g=0.952\n",
      ">4, 18/433, d=0.649, g=1.037\n",
      ">4, 19/433, d=0.603, g=0.969\n",
      ">4, 20/433, d=0.581, g=1.031\n",
      ">4, 21/433, d=0.581, g=1.019\n",
      ">4, 22/433, d=0.589, g=1.144\n",
      ">4, 23/433, d=0.586, g=1.090\n",
      ">4, 24/433, d=0.584, g=1.029\n",
      ">4, 25/433, d=0.606, g=1.100\n",
      ">4, 26/433, d=0.670, g=0.832\n",
      ">4, 27/433, d=0.633, g=0.908\n",
      ">4, 28/433, d=0.794, g=0.970\n",
      ">4, 29/433, d=0.634, g=1.052\n",
      ">4, 30/433, d=0.642, g=0.897\n",
      ">4, 31/433, d=0.714, g=0.927\n",
      ">4, 32/433, d=0.684, g=0.805\n",
      ">4, 33/433, d=0.658, g=0.826\n",
      ">4, 34/433, d=0.655, g=0.885\n",
      ">4, 35/433, d=0.704, g=0.849\n",
      ">4, 36/433, d=0.655, g=0.758\n",
      ">4, 37/433, d=0.666, g=0.810\n",
      ">4, 38/433, d=0.623, g=0.806\n",
      ">4, 39/433, d=0.590, g=0.832\n",
      ">4, 40/433, d=0.614, g=0.807\n",
      ">4, 41/433, d=0.643, g=0.780\n",
      ">4, 42/433, d=0.650, g=0.865\n",
      ">4, 43/433, d=0.637, g=0.871\n",
      ">4, 44/433, d=0.599, g=0.879\n",
      ">4, 45/433, d=0.616, g=0.852\n",
      ">4, 46/433, d=0.601, g=0.860\n",
      ">4, 47/433, d=0.631, g=0.827\n",
      ">4, 48/433, d=0.647, g=0.912\n",
      ">4, 49/433, d=0.628, g=0.848\n",
      ">4, 50/433, d=0.777, g=0.804\n",
      ">4, 51/433, d=0.633, g=0.730\n",
      ">4, 52/433, d=0.623, g=0.924\n",
      ">4, 53/433, d=0.687, g=0.937\n",
      ">4, 54/433, d=0.680, g=1.101\n",
      ">4, 55/433, d=0.691, g=1.101\n",
      ">4, 56/433, d=0.625, g=1.210\n",
      ">4, 57/433, d=0.601, g=1.166\n",
      ">4, 58/433, d=0.536, g=0.979\n",
      ">4, 59/433, d=0.659, g=0.827\n",
      ">4, 60/433, d=0.657, g=0.795\n",
      ">4, 61/433, d=0.637, g=0.798\n",
      ">4, 62/433, d=0.621, g=0.833\n",
      ">4, 63/433, d=0.576, g=0.821\n",
      ">4, 64/433, d=0.695, g=0.813\n",
      ">4, 65/433, d=0.631, g=0.773\n",
      ">4, 66/433, d=0.718, g=0.719\n",
      ">4, 67/433, d=0.630, g=0.800\n",
      ">4, 68/433, d=0.646, g=0.841\n",
      ">4, 69/433, d=0.629, g=0.822\n",
      ">4, 70/433, d=0.601, g=0.889\n",
      ">4, 71/433, d=0.617, g=0.880\n",
      ">4, 72/433, d=0.655, g=0.924\n",
      ">4, 73/433, d=0.606, g=0.975\n",
      ">4, 74/433, d=0.509, g=0.988\n",
      ">4, 75/433, d=0.628, g=1.053\n",
      ">4, 76/433, d=0.548, g=0.983\n",
      ">4, 77/433, d=0.667, g=0.902\n",
      ">4, 78/433, d=0.631, g=0.922\n",
      ">4, 79/433, d=0.651, g=0.911\n",
      ">4, 80/433, d=0.622, g=0.881\n",
      ">4, 81/433, d=0.686, g=0.978\n",
      ">4, 82/433, d=0.659, g=0.937\n",
      ">4, 83/433, d=0.717, g=0.954\n",
      ">4, 84/433, d=0.699, g=1.054\n",
      ">4, 85/433, d=0.745, g=1.024\n",
      ">4, 86/433, d=0.651, g=0.942\n",
      ">4, 87/433, d=0.689, g=1.073\n",
      ">4, 88/433, d=0.624, g=1.094\n",
      ">4, 89/433, d=0.603, g=1.072\n",
      ">4, 90/433, d=0.652, g=1.204\n",
      ">4, 91/433, d=0.601, g=1.193\n",
      ">4, 92/433, d=0.541, g=1.245\n",
      ">4, 93/433, d=0.508, g=1.159\n",
      ">4, 94/433, d=0.517, g=1.290\n",
      ">4, 95/433, d=0.456, g=1.805\n",
      ">4, 96/433, d=0.689, g=0.930\n",
      ">4, 97/433, d=0.837, g=1.028\n",
      ">4, 98/433, d=0.785, g=0.880\n",
      ">4, 99/433, d=0.734, g=0.900\n",
      ">4, 100/433, d=0.650, g=0.921\n",
      ">4, 101/433, d=0.635, g=0.949\n",
      ">4, 102/433, d=0.595, g=0.948\n",
      ">4, 103/433, d=0.646, g=0.990\n",
      ">4, 104/433, d=0.634, g=0.847\n",
      ">4, 105/433, d=0.695, g=0.865\n",
      ">4, 106/433, d=0.623, g=0.788\n",
      ">4, 107/433, d=0.689, g=0.802\n",
      ">4, 108/433, d=0.689, g=0.848\n",
      ">4, 109/433, d=0.644, g=0.803\n",
      ">4, 110/433, d=0.641, g=0.802\n",
      ">4, 111/433, d=0.625, g=0.806\n",
      ">4, 112/433, d=0.674, g=0.778\n",
      ">4, 113/433, d=0.662, g=0.768\n",
      ">4, 114/433, d=0.687, g=0.735\n",
      ">4, 115/433, d=0.663, g=0.733\n",
      ">4, 116/433, d=0.657, g=0.762\n",
      ">4, 117/433, d=0.670, g=0.784\n",
      ">4, 118/433, d=0.698, g=0.782\n",
      ">4, 119/433, d=0.666, g=0.875\n",
      ">4, 120/433, d=0.663, g=0.877\n",
      ">4, 121/433, d=0.611, g=0.881\n",
      ">4, 122/433, d=0.582, g=0.852\n",
      ">4, 123/433, d=0.612, g=1.027\n",
      ">4, 124/433, d=0.690, g=1.038\n",
      ">4, 125/433, d=0.639, g=1.050\n",
      ">4, 126/433, d=0.588, g=1.042\n",
      ">4, 127/433, d=0.564, g=1.006\n",
      ">4, 128/433, d=0.653, g=0.862\n",
      ">4, 129/433, d=0.539, g=0.905\n",
      ">4, 130/433, d=0.620, g=0.933\n",
      ">4, 131/433, d=0.612, g=0.817\n",
      ">4, 132/433, d=0.628, g=0.812\n",
      ">4, 133/433, d=0.624, g=0.809\n",
      ">4, 134/433, d=0.628, g=0.733\n",
      ">4, 135/433, d=0.671, g=0.763\n",
      ">4, 136/433, d=0.620, g=0.845\n",
      ">4, 137/433, d=0.627, g=0.845\n",
      ">4, 138/433, d=0.592, g=0.793\n",
      ">4, 139/433, d=0.606, g=0.864\n",
      ">4, 140/433, d=0.649, g=0.897\n",
      ">4, 141/433, d=0.601, g=0.878\n",
      ">4, 142/433, d=0.580, g=0.922\n",
      ">4, 143/433, d=0.682, g=0.924\n",
      ">4, 144/433, d=0.581, g=0.873\n",
      ">4, 145/433, d=0.641, g=0.923\n",
      ">4, 146/433, d=0.619, g=0.878\n",
      ">4, 147/433, d=0.675, g=0.916\n",
      ">4, 148/433, d=0.664, g=0.979\n",
      ">4, 149/433, d=0.682, g=1.079\n",
      ">4, 150/433, d=0.650, g=1.014\n",
      ">4, 151/433, d=0.667, g=1.015\n",
      ">4, 152/433, d=0.647, g=1.057\n",
      ">4, 153/433, d=0.609, g=1.047\n",
      ">4, 154/433, d=0.615, g=0.956\n",
      ">4, 155/433, d=0.704, g=0.842\n",
      ">4, 156/433, d=0.639, g=0.857\n",
      ">4, 157/433, d=0.605, g=0.839\n",
      ">4, 158/433, d=0.692, g=0.813\n",
      ">4, 159/433, d=0.640, g=0.816\n",
      ">4, 160/433, d=0.646, g=0.767\n",
      ">4, 161/433, d=0.788, g=0.744\n",
      ">4, 162/433, d=0.714, g=0.784\n",
      ">4, 163/433, d=0.746, g=0.799\n",
      ">4, 164/433, d=0.733, g=0.789\n",
      ">4, 165/433, d=0.634, g=0.839\n",
      ">4, 166/433, d=0.624, g=0.785\n",
      ">4, 167/433, d=0.691, g=0.825\n",
      ">4, 168/433, d=0.645, g=0.864\n",
      ">4, 169/433, d=0.570, g=0.850\n",
      ">4, 170/433, d=0.649, g=0.879\n",
      ">4, 171/433, d=0.642, g=0.870\n",
      ">4, 172/433, d=0.528, g=0.912\n",
      ">4, 173/433, d=0.543, g=0.928\n",
      ">4, 174/433, d=0.569, g=0.968\n",
      ">4, 175/433, d=0.537, g=1.027\n",
      ">4, 176/433, d=0.592, g=1.026\n",
      ">4, 177/433, d=0.455, g=0.930\n",
      ">4, 178/433, d=0.578, g=0.956\n",
      ">4, 179/433, d=0.648, g=0.842\n",
      ">4, 180/433, d=0.800, g=0.895\n",
      ">4, 181/433, d=0.698, g=0.821\n",
      ">4, 182/433, d=0.691, g=0.871\n",
      ">4, 183/433, d=0.657, g=0.901\n",
      ">4, 184/433, d=0.770, g=0.830\n",
      ">4, 185/433, d=0.712, g=0.929\n",
      ">4, 186/433, d=0.697, g=0.958\n",
      ">4, 187/433, d=0.703, g=1.089\n",
      ">4, 188/433, d=0.614, g=1.129\n",
      ">4, 189/433, d=0.606, g=1.109\n",
      ">4, 190/433, d=0.553, g=1.171\n",
      ">4, 191/433, d=0.575, g=1.121\n",
      ">4, 192/433, d=0.577, g=1.074\n",
      ">4, 193/433, d=0.626, g=0.916\n",
      ">4, 194/433, d=0.681, g=0.790\n",
      ">4, 195/433, d=0.716, g=0.736\n",
      ">4, 196/433, d=0.780, g=0.673\n",
      ">4, 197/433, d=0.673, g=0.727\n",
      ">4, 198/433, d=0.697, g=0.724\n",
      ">4, 199/433, d=0.738, g=0.765\n",
      ">4, 200/433, d=0.732, g=0.786\n",
      ">4, 201/433, d=0.649, g=0.848\n",
      ">4, 202/433, d=0.669, g=0.877\n",
      ">4, 203/433, d=0.667, g=0.864\n",
      ">4, 204/433, d=0.702, g=0.893\n",
      ">4, 205/433, d=0.672, g=0.860\n",
      ">4, 206/433, d=0.599, g=0.923\n",
      ">4, 207/433, d=0.630, g=0.887\n",
      ">4, 208/433, d=0.631, g=0.941\n",
      ">4, 209/433, d=0.627, g=0.925\n",
      ">4, 210/433, d=0.627, g=0.905\n",
      ">4, 211/433, d=0.645, g=0.892\n",
      ">4, 212/433, d=0.623, g=0.839\n",
      ">4, 213/433, d=0.582, g=0.926\n",
      ">4, 214/433, d=0.643, g=0.894\n",
      ">4, 215/433, d=0.595, g=0.891\n",
      ">4, 216/433, d=0.636, g=0.888\n",
      ">4, 217/433, d=0.626, g=0.888\n",
      ">4, 218/433, d=0.658, g=0.822\n",
      ">4, 219/433, d=0.578, g=0.809\n",
      ">4, 220/433, d=0.657, g=0.794\n",
      ">4, 221/433, d=0.683, g=0.740\n",
      ">4, 222/433, d=0.625, g=0.685\n",
      ">4, 223/433, d=0.604, g=0.756\n",
      ">4, 224/433, d=0.646, g=0.793\n",
      ">4, 225/433, d=0.666, g=0.831\n",
      ">4, 226/433, d=0.628, g=0.920\n",
      ">4, 227/433, d=0.615, g=0.857\n",
      ">4, 228/433, d=0.639, g=0.820\n",
      ">4, 229/433, d=0.617, g=0.897\n",
      ">4, 230/433, d=0.599, g=0.817\n",
      ">4, 231/433, d=0.611, g=0.812\n",
      ">4, 232/433, d=0.574, g=0.921\n",
      ">4, 233/433, d=0.651, g=0.855\n",
      ">4, 234/433, d=0.695, g=0.923\n",
      ">4, 235/433, d=0.584, g=0.851\n",
      ">4, 236/433, d=0.602, g=0.891\n",
      ">4, 237/433, d=0.629, g=0.894\n",
      ">4, 238/433, d=0.662, g=0.937\n",
      ">4, 239/433, d=0.600, g=0.867\n",
      ">4, 240/433, d=0.623, g=0.853\n",
      ">4, 241/433, d=0.596, g=0.857\n",
      ">4, 242/433, d=0.592, g=0.897\n",
      ">4, 243/433, d=0.590, g=0.834\n",
      ">4, 244/433, d=0.606, g=0.821\n",
      ">4, 245/433, d=0.588, g=0.925\n",
      ">4, 246/433, d=0.696, g=0.908\n",
      ">4, 247/433, d=0.610, g=0.907\n",
      ">4, 248/433, d=0.601, g=0.930\n",
      ">4, 249/433, d=0.619, g=0.766\n",
      ">4, 250/433, d=0.591, g=0.745\n",
      ">4, 251/433, d=0.635, g=0.868\n",
      ">4, 252/433, d=0.639, g=0.815\n",
      ">4, 253/433, d=0.636, g=0.855\n",
      ">4, 254/433, d=0.592, g=0.870\n",
      ">4, 255/433, d=0.615, g=0.877\n",
      ">4, 256/433, d=0.657, g=0.911\n",
      ">4, 257/433, d=0.642, g=0.929\n",
      ">4, 258/433, d=0.589, g=0.965\n",
      ">4, 259/433, d=0.629, g=1.030\n",
      ">4, 260/433, d=0.682, g=1.011\n",
      ">4, 261/433, d=0.644, g=1.000\n",
      ">4, 262/433, d=0.605, g=0.968\n",
      ">4, 263/433, d=0.585, g=1.108\n",
      ">4, 264/433, d=0.635, g=1.130\n",
      ">4, 265/433, d=0.566, g=0.950\n",
      ">4, 266/433, d=0.565, g=0.837\n",
      ">4, 267/433, d=0.691, g=0.758\n",
      ">4, 268/433, d=0.632, g=0.779\n",
      ">4, 269/433, d=0.681, g=0.954\n",
      ">4, 270/433, d=0.620, g=0.961\n",
      ">4, 271/433, d=0.692, g=0.887\n",
      ">4, 272/433, d=0.567, g=0.957\n",
      ">4, 273/433, d=0.791, g=0.909\n",
      ">4, 274/433, d=0.766, g=0.839\n",
      ">4, 275/433, d=0.731, g=1.076\n",
      ">4, 276/433, d=0.672, g=1.405\n",
      ">4, 277/433, d=0.723, g=1.105\n",
      ">4, 278/433, d=0.604, g=1.190\n",
      ">4, 279/433, d=0.561, g=1.027\n",
      ">4, 280/433, d=0.567, g=1.019\n",
      ">4, 281/433, d=0.602, g=0.942\n",
      ">4, 282/433, d=0.646, g=0.838\n",
      ">4, 283/433, d=0.645, g=0.849\n",
      ">4, 284/433, d=0.770, g=0.698\n",
      ">4, 285/433, d=0.685, g=0.652\n",
      ">4, 286/433, d=0.649, g=0.721\n",
      ">4, 287/433, d=0.702, g=0.717\n",
      ">4, 288/433, d=0.651, g=0.729\n",
      ">4, 289/433, d=0.619, g=0.737\n",
      ">4, 290/433, d=0.624, g=0.748\n",
      ">4, 291/433, d=0.608, g=0.829\n",
      ">4, 292/433, d=0.572, g=0.814\n",
      ">4, 293/433, d=0.586, g=0.842\n",
      ">4, 294/433, d=0.545, g=0.906\n",
      ">4, 295/433, d=0.673, g=0.928\n",
      ">4, 296/433, d=0.668, g=0.949\n",
      ">4, 297/433, d=0.632, g=0.837\n",
      ">4, 298/433, d=0.669, g=0.816\n",
      ">4, 299/433, d=0.676, g=0.854\n",
      ">4, 300/433, d=0.729, g=0.839\n",
      ">4, 301/433, d=0.655, g=1.058\n",
      ">4, 302/433, d=0.577, g=1.127\n",
      ">4, 303/433, d=0.528, g=1.244\n",
      ">4, 304/433, d=0.577, g=1.219\n",
      ">4, 305/433, d=0.587, g=1.116\n",
      ">4, 306/433, d=0.588, g=1.009\n",
      ">4, 307/433, d=0.633, g=0.891\n",
      ">4, 308/433, d=0.692, g=0.808\n",
      ">4, 309/433, d=0.710, g=0.793\n",
      ">4, 310/433, d=0.748, g=0.808\n",
      ">4, 311/433, d=0.652, g=0.834\n",
      ">4, 312/433, d=0.615, g=0.857\n",
      ">4, 313/433, d=0.644, g=0.933\n",
      ">4, 314/433, d=0.638, g=1.010\n",
      ">4, 315/433, d=0.652, g=0.942\n",
      ">4, 316/433, d=0.636, g=0.880\n",
      ">4, 317/433, d=0.611, g=0.931\n",
      ">4, 318/433, d=0.623, g=0.900\n",
      ">4, 319/433, d=0.690, g=0.981\n",
      ">4, 320/433, d=0.639, g=0.852\n",
      ">4, 321/433, d=0.676, g=0.860\n",
      ">4, 322/433, d=0.661, g=0.923\n",
      ">4, 323/433, d=0.576, g=0.908\n",
      ">4, 324/433, d=0.708, g=0.952\n",
      ">4, 325/433, d=0.603, g=1.021\n",
      ">4, 326/433, d=0.637, g=0.979\n",
      ">4, 327/433, d=0.602, g=0.912\n",
      ">4, 328/433, d=0.584, g=0.830\n",
      ">4, 329/433, d=0.643, g=0.796\n",
      ">4, 330/433, d=0.648, g=0.739\n",
      ">4, 331/433, d=0.663, g=0.748\n",
      ">4, 332/433, d=0.601, g=0.721\n",
      ">4, 333/433, d=0.599, g=0.737\n",
      ">4, 334/433, d=0.607, g=0.792\n",
      ">4, 335/433, d=0.616, g=0.770\n",
      ">4, 336/433, d=0.657, g=0.764\n",
      ">4, 337/433, d=0.570, g=0.742\n",
      ">4, 338/433, d=0.596, g=0.779\n",
      ">4, 339/433, d=0.541, g=0.840\n",
      ">4, 340/433, d=0.640, g=0.780\n",
      ">4, 341/433, d=0.635, g=0.769\n",
      ">4, 342/433, d=0.598, g=0.756\n",
      ">4, 343/433, d=0.615, g=0.726\n",
      ">4, 344/433, d=0.689, g=0.825\n",
      ">4, 345/433, d=0.626, g=0.823\n",
      ">4, 346/433, d=0.743, g=0.996\n",
      ">4, 347/433, d=0.727, g=0.950\n",
      ">4, 348/433, d=0.737, g=1.055\n",
      ">4, 349/433, d=0.664, g=1.024\n",
      ">4, 350/433, d=0.660, g=0.994\n",
      ">4, 351/433, d=0.597, g=1.072\n",
      ">4, 352/433, d=0.623, g=1.049\n",
      ">4, 353/433, d=0.643, g=0.944\n",
      ">4, 354/433, d=0.646, g=0.898\n",
      ">4, 355/433, d=0.610, g=0.901\n",
      ">4, 356/433, d=0.594, g=0.831\n",
      ">4, 357/433, d=0.626, g=0.835\n",
      ">4, 358/433, d=0.612, g=0.914\n",
      ">4, 359/433, d=0.624, g=0.849\n",
      ">4, 360/433, d=0.591, g=0.863\n",
      ">4, 361/433, d=0.565, g=0.893\n",
      ">4, 362/433, d=0.611, g=0.892\n",
      ">4, 363/433, d=0.618, g=0.914\n",
      ">4, 364/433, d=0.681, g=0.893\n",
      ">4, 365/433, d=0.680, g=0.876\n",
      ">4, 366/433, d=0.654, g=0.907\n",
      ">4, 367/433, d=0.681, g=0.885\n",
      ">4, 368/433, d=0.648, g=0.960\n",
      ">4, 369/433, d=0.626, g=0.905\n",
      ">4, 370/433, d=0.614, g=0.938\n",
      ">4, 371/433, d=0.643, g=0.927\n",
      ">4, 372/433, d=0.660, g=1.023\n",
      ">4, 373/433, d=0.641, g=0.970\n",
      ">4, 374/433, d=0.622, g=0.858\n",
      ">4, 375/433, d=0.607, g=0.806\n",
      ">4, 376/433, d=0.611, g=0.848\n",
      ">4, 377/433, d=0.695, g=0.849\n",
      ">4, 378/433, d=0.594, g=0.889\n",
      ">4, 379/433, d=0.656, g=0.830\n",
      ">4, 380/433, d=0.602, g=0.856\n",
      ">4, 381/433, d=0.588, g=0.878\n",
      ">4, 382/433, d=0.606, g=0.884\n",
      ">4, 383/433, d=0.638, g=0.894\n",
      ">4, 384/433, d=0.563, g=0.922\n",
      ">4, 385/433, d=0.526, g=0.908\n",
      ">4, 386/433, d=0.618, g=0.850\n",
      ">4, 387/433, d=0.558, g=0.893\n",
      ">4, 388/433, d=0.563, g=0.965\n",
      ">4, 389/433, d=0.518, g=0.983\n",
      ">4, 390/433, d=0.622, g=0.921\n",
      ">4, 391/433, d=0.573, g=0.950\n",
      ">4, 392/433, d=0.629, g=0.885\n",
      ">4, 393/433, d=0.608, g=0.919\n",
      ">4, 394/433, d=0.629, g=1.078\n",
      ">4, 395/433, d=0.636, g=1.118\n",
      ">4, 396/433, d=0.576, g=1.112\n",
      ">4, 397/433, d=0.580, g=0.995\n",
      ">4, 398/433, d=0.637, g=0.864\n",
      ">4, 399/433, d=0.648, g=0.778\n",
      ">4, 400/433, d=0.622, g=0.905\n",
      ">4, 401/433, d=0.688, g=0.933\n",
      ">4, 402/433, d=0.651, g=0.832\n",
      ">4, 403/433, d=0.641, g=0.774\n",
      ">4, 404/433, d=0.796, g=0.701\n",
      ">4, 405/433, d=0.605, g=0.803\n",
      ">4, 406/433, d=0.640, g=0.868\n",
      ">4, 407/433, d=0.521, g=0.997\n",
      ">4, 408/433, d=0.487, g=0.983\n",
      ">4, 409/433, d=0.490, g=1.102\n",
      ">4, 410/433, d=0.516, g=1.013\n",
      ">4, 411/433, d=0.534, g=0.953\n",
      ">4, 412/433, d=0.715, g=0.966\n",
      ">4, 413/433, d=0.642, g=1.156\n",
      ">4, 414/433, d=0.658, g=1.043\n",
      ">4, 415/433, d=0.695, g=1.065\n",
      ">4, 416/433, d=0.712, g=1.120\n",
      ">4, 417/433, d=0.682, g=1.177\n",
      ">4, 418/433, d=0.643, g=1.104\n",
      ">4, 419/433, d=0.547, g=1.240\n",
      ">4, 420/433, d=0.563, g=1.109\n",
      ">4, 421/433, d=0.581, g=1.015\n",
      ">4, 422/433, d=0.625, g=0.971\n",
      ">4, 423/433, d=0.603, g=1.018\n",
      ">4, 424/433, d=0.558, g=0.920\n",
      ">4, 425/433, d=0.580, g=0.815\n",
      ">4, 426/433, d=0.568, g=0.889\n",
      ">4, 427/433, d=0.723, g=0.812\n",
      ">4, 428/433, d=0.541, g=0.825\n",
      ">4, 429/433, d=0.597, g=0.889\n",
      ">4, 430/433, d=0.542, g=1.029\n",
      ">4, 431/433, d=0.599, g=1.002\n",
      ">4, 432/433, d=0.610, g=0.785\n",
      ">4, 433/433, d=0.664, g=0.897\n",
      ">5, 1/433, d=0.702, g=0.923\n",
      ">5, 2/433, d=0.746, g=0.790\n",
      ">5, 3/433, d=0.884, g=0.840\n",
      ">5, 4/433, d=0.790, g=0.922\n",
      ">5, 5/433, d=0.671, g=0.907\n",
      ">5, 6/433, d=0.690, g=0.905\n",
      ">5, 7/433, d=0.629, g=0.846\n",
      ">5, 8/433, d=0.618, g=0.904\n",
      ">5, 9/433, d=0.570, g=0.838\n",
      ">5, 10/433, d=0.597, g=0.766\n",
      ">5, 11/433, d=0.620, g=0.938\n",
      ">5, 12/433, d=0.530, g=0.954\n",
      ">5, 13/433, d=0.549, g=0.957\n",
      ">5, 14/433, d=0.532, g=0.823\n",
      ">5, 15/433, d=0.609, g=0.751\n",
      ">5, 16/433, d=0.745, g=0.897\n",
      ">5, 17/433, d=0.708, g=0.875\n",
      ">5, 18/433, d=0.726, g=0.959\n",
      ">5, 19/433, d=0.648, g=1.114\n",
      ">5, 20/433, d=0.701, g=0.942\n",
      ">5, 21/433, d=0.744, g=0.868\n",
      ">5, 22/433, d=0.683, g=0.836\n",
      ">5, 23/433, d=0.621, g=0.771\n",
      ">5, 24/433, d=0.654, g=0.804\n",
      ">5, 25/433, d=0.564, g=0.843\n",
      ">5, 26/433, d=0.614, g=0.820\n",
      ">5, 27/433, d=0.589, g=0.836\n",
      ">5, 28/433, d=0.620, g=0.847\n",
      ">5, 29/433, d=0.574, g=0.860\n",
      ">5, 30/433, d=0.605, g=0.963\n",
      ">5, 31/433, d=0.570, g=0.914\n",
      ">5, 32/433, d=0.603, g=1.009\n",
      ">5, 33/433, d=0.569, g=1.026\n",
      ">5, 34/433, d=0.561, g=0.947\n",
      ">5, 35/433, d=0.565, g=1.036\n",
      ">5, 36/433, d=0.636, g=1.072\n",
      ">5, 37/433, d=0.614, g=1.068\n",
      ">5, 38/433, d=0.667, g=0.881\n",
      ">5, 39/433, d=0.617, g=1.044\n",
      ">5, 40/433, d=0.603, g=0.881\n",
      ">5, 41/433, d=0.680, g=0.915\n",
      ">5, 42/433, d=0.705, g=0.910\n",
      ">5, 43/433, d=0.639, g=0.857\n",
      ">5, 44/433, d=0.605, g=0.852\n",
      ">5, 45/433, d=0.707, g=0.819\n",
      ">5, 46/433, d=0.664, g=0.797\n",
      ">5, 47/433, d=0.674, g=0.801\n",
      ">5, 48/433, d=0.648, g=0.885\n",
      ">5, 49/433, d=0.658, g=0.932\n",
      ">5, 50/433, d=0.586, g=1.003\n",
      ">5, 51/433, d=0.532, g=0.901\n",
      ">5, 52/433, d=0.550, g=0.916\n",
      ">5, 53/433, d=0.573, g=0.877\n",
      ">5, 54/433, d=0.536, g=1.044\n",
      ">5, 55/433, d=0.562, g=0.920\n",
      ">5, 56/433, d=0.579, g=1.005\n",
      ">5, 57/433, d=0.572, g=0.967\n",
      ">5, 58/433, d=0.564, g=0.969\n",
      ">5, 59/433, d=0.508, g=1.025\n",
      ">5, 60/433, d=0.475, g=1.034\n",
      ">5, 61/433, d=0.500, g=1.126\n",
      ">5, 62/433, d=0.556, g=1.117\n",
      ">5, 63/433, d=0.606, g=1.196\n",
      ">5, 64/433, d=0.610, g=1.200\n",
      ">5, 65/433, d=0.741, g=1.063\n",
      ">5, 66/433, d=0.788, g=1.030\n",
      ">5, 67/433, d=0.789, g=1.163\n",
      ">5, 68/433, d=0.714, g=1.234\n",
      ">5, 69/433, d=0.611, g=1.168\n",
      ">5, 70/433, d=0.608, g=1.277\n",
      ">5, 71/433, d=0.556, g=1.251\n",
      ">5, 72/433, d=0.552, g=1.192\n",
      ">5, 73/433, d=0.580, g=1.033\n",
      ">5, 74/433, d=0.633, g=0.964\n",
      ">5, 75/433, d=0.650, g=0.984\n",
      ">5, 76/433, d=0.689, g=0.852\n",
      ">5, 77/433, d=0.752, g=0.808\n",
      ">5, 78/433, d=0.678, g=0.777\n",
      ">5, 79/433, d=0.767, g=0.713\n",
      ">5, 80/433, d=0.647, g=0.686\n",
      ">5, 81/433, d=0.675, g=0.787\n",
      ">5, 82/433, d=0.661, g=0.743\n",
      ">5, 83/433, d=0.674, g=0.831\n",
      ">5, 84/433, d=0.720, g=0.824\n",
      ">5, 85/433, d=0.603, g=0.932\n",
      ">5, 86/433, d=0.587, g=0.956\n",
      ">5, 87/433, d=0.589, g=1.017\n",
      ">5, 88/433, d=0.652, g=0.970\n",
      ">5, 89/433, d=0.596, g=0.893\n",
      ">5, 90/433, d=0.613, g=0.962\n",
      ">5, 91/433, d=0.588, g=1.071\n",
      ">5, 92/433, d=0.629, g=1.047\n",
      ">5, 93/433, d=0.580, g=1.147\n",
      ">5, 94/433, d=0.581, g=1.138\n",
      ">5, 95/433, d=0.688, g=0.937\n",
      ">5, 96/433, d=0.619, g=0.958\n",
      ">5, 97/433, d=0.698, g=0.896\n",
      ">5, 98/433, d=0.704, g=0.838\n",
      ">5, 99/433, d=0.699, g=0.675\n",
      ">5, 100/433, d=0.743, g=0.692\n",
      ">5, 101/433, d=0.656, g=0.777\n",
      ">5, 102/433, d=0.675, g=0.752\n",
      ">5, 103/433, d=0.636, g=0.927\n",
      ">5, 104/433, d=0.607, g=0.907\n",
      ">5, 105/433, d=0.639, g=0.851\n",
      ">5, 106/433, d=0.639, g=0.792\n",
      ">5, 107/433, d=0.638, g=0.852\n",
      ">5, 108/433, d=0.629, g=0.874\n",
      ">5, 109/433, d=0.598, g=0.825\n",
      ">5, 110/433, d=0.649, g=0.841\n",
      ">5, 111/433, d=0.633, g=0.852\n",
      ">5, 112/433, d=0.680, g=0.933\n",
      ">5, 113/433, d=0.619, g=0.821\n",
      ">5, 114/433, d=0.558, g=0.846\n",
      ">5, 115/433, d=0.694, g=0.847\n",
      ">5, 116/433, d=0.611, g=0.830\n",
      ">5, 117/433, d=0.619, g=0.919\n",
      ">5, 118/433, d=0.627, g=0.883\n",
      ">5, 119/433, d=0.659, g=0.889\n",
      ">5, 120/433, d=0.595, g=0.871\n",
      ">5, 121/433, d=0.600, g=0.888\n",
      ">5, 122/433, d=0.616, g=0.846\n",
      ">5, 123/433, d=0.595, g=0.909\n",
      ">5, 124/433, d=0.611, g=0.898\n",
      ">5, 125/433, d=0.587, g=0.856\n",
      ">5, 126/433, d=0.569, g=0.875\n",
      ">5, 127/433, d=0.620, g=0.957\n",
      ">5, 128/433, d=0.656, g=0.906\n",
      ">5, 129/433, d=0.594, g=0.842\n",
      ">5, 130/433, d=0.599, g=0.901\n",
      ">5, 131/433, d=0.616, g=0.987\n",
      ">5, 132/433, d=0.621, g=0.922\n",
      ">5, 133/433, d=0.585, g=0.924\n",
      ">5, 134/433, d=0.644, g=0.886\n",
      ">5, 135/433, d=0.561, g=0.938\n",
      ">5, 136/433, d=0.529, g=0.963\n",
      ">5, 137/433, d=0.607, g=1.013\n",
      ">5, 138/433, d=0.561, g=0.943\n",
      ">5, 139/433, d=0.541, g=0.923\n",
      ">5, 140/433, d=0.495, g=0.971\n",
      ">5, 141/433, d=0.526, g=1.073\n",
      ">5, 142/433, d=0.572, g=0.952\n",
      ">5, 143/433, d=0.528, g=0.966\n",
      ">5, 144/433, d=0.649, g=1.037\n",
      ">5, 145/433, d=0.652, g=0.876\n",
      ">5, 146/433, d=0.677, g=0.920\n",
      ">5, 147/433, d=0.643, g=1.153\n",
      ">5, 148/433, d=0.614, g=1.405\n",
      ">5, 149/433, d=0.544, g=1.341\n",
      ">5, 150/433, d=0.445, g=1.452\n",
      ">5, 151/433, d=0.566, g=1.783\n",
      ">5, 152/433, d=0.610, g=0.838\n",
      ">5, 153/433, d=0.606, g=1.090\n",
      ">5, 154/433, d=0.543, g=1.375\n",
      ">5, 155/433, d=0.631, g=0.947\n",
      ">5, 156/433, d=0.614, g=0.774\n",
      ">5, 157/433, d=0.654, g=0.993\n",
      ">5, 158/433, d=0.629, g=1.025\n",
      ">5, 159/433, d=0.718, g=0.974\n",
      ">5, 160/433, d=0.643, g=0.960\n",
      ">5, 161/433, d=0.718, g=0.986\n",
      ">5, 162/433, d=0.743, g=1.024\n",
      ">5, 163/433, d=0.674, g=1.241\n",
      ">5, 164/433, d=0.657, g=1.284\n",
      ">5, 165/433, d=0.674, g=1.413\n",
      ">5, 166/433, d=0.703, g=1.328\n",
      ">5, 167/433, d=0.726, g=1.326\n",
      ">5, 168/433, d=0.634, g=1.092\n",
      ">5, 169/433, d=0.647, g=1.072\n",
      ">5, 170/433, d=0.661, g=1.094\n",
      ">5, 171/433, d=0.770, g=1.052\n",
      ">5, 172/433, d=0.706, g=1.018\n",
      ">5, 173/433, d=0.668, g=1.022\n",
      ">5, 174/433, d=0.655, g=1.141\n",
      ">5, 175/433, d=0.750, g=0.780\n",
      ">5, 176/433, d=0.718, g=0.706\n",
      ">5, 177/433, d=0.696, g=0.798\n"
     ]
    }
   ],
   "source": [
    "train(generator, discriminator, gan_model, train_ds,\n",
    "      latent_dim, n_epochs=11, resume_training=0)\n"
   ]
  }
 ],
 "metadata": {
  "kernelspec": {
   "display_name": "Python 3",
   "language": "python",
   "name": "python3"
  },
  "language_info": {
   "codemirror_mode": {
    "name": "ipython",
    "version": 3
   },
   "file_extension": ".py",
   "mimetype": "text/x-python",
   "name": "python",
   "nbconvert_exporter": "python",
   "pygments_lexer": "ipython3",
   "version": "3.10.6"
  },
  "orig_nbformat": 4
 },
 "nbformat": 4,
 "nbformat_minor": 2
}
