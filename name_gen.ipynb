{
 "cells": [
  {
   "cell_type": "code",
   "execution_count": 89,
   "metadata": {},
   "outputs": [],
   "source": [
    "import tensorflow as tf\n",
    "import pandas as pd\n",
    "from keras.models import Sequential\n",
    "from keras.layers import LSTM, Dense\n",
    "import numpy as np\n",
    "from keras.callbacks import LambdaCallback"
   ]
  },
  {
   "cell_type": "code",
   "execution_count": 21,
   "metadata": {},
   "outputs": [],
   "source": [
    "df = pd.read_csv('PokeDataset.csv')"
   ]
  },
  {
   "cell_type": "code",
   "execution_count": 22,
   "metadata": {},
   "outputs": [],
   "source": [
    "df = df[['Name', 'Type1', 'Type2', 'HP', 'Attack', 'Defense', 'Sp. Atk', 'Sp. Def', 'Speed']]"
   ]
  },
  {
   "cell_type": "code",
   "execution_count": 23,
   "metadata": {},
   "outputs": [
    {
     "data": {
      "text/html": [
       "<div>\n",
       "<style scoped>\n",
       "    .dataframe tbody tr th:only-of-type {\n",
       "        vertical-align: middle;\n",
       "    }\n",
       "\n",
       "    .dataframe tbody tr th {\n",
       "        vertical-align: top;\n",
       "    }\n",
       "\n",
       "    .dataframe thead th {\n",
       "        text-align: right;\n",
       "    }\n",
       "</style>\n",
       "<table border=\"1\" class=\"dataframe\">\n",
       "  <thead>\n",
       "    <tr style=\"text-align: right;\">\n",
       "      <th></th>\n",
       "      <th>Name</th>\n",
       "      <th>Type1</th>\n",
       "      <th>Type2</th>\n",
       "      <th>HP</th>\n",
       "      <th>Attack</th>\n",
       "      <th>Defense</th>\n",
       "      <th>Sp. Atk</th>\n",
       "      <th>Sp. Def</th>\n",
       "      <th>Speed</th>\n",
       "    </tr>\n",
       "  </thead>\n",
       "  <tbody>\n",
       "    <tr>\n",
       "      <th>0</th>\n",
       "      <td>Bulbasaur</td>\n",
       "      <td>Grass</td>\n",
       "      <td>Poison</td>\n",
       "      <td>45</td>\n",
       "      <td>49</td>\n",
       "      <td>49</td>\n",
       "      <td>65</td>\n",
       "      <td>65</td>\n",
       "      <td>45</td>\n",
       "    </tr>\n",
       "    <tr>\n",
       "      <th>1</th>\n",
       "      <td>Ivysaur</td>\n",
       "      <td>Grass</td>\n",
       "      <td>Poison</td>\n",
       "      <td>60</td>\n",
       "      <td>62</td>\n",
       "      <td>63</td>\n",
       "      <td>80</td>\n",
       "      <td>80</td>\n",
       "      <td>60</td>\n",
       "    </tr>\n",
       "    <tr>\n",
       "      <th>2</th>\n",
       "      <td>Venusaur</td>\n",
       "      <td>Grass</td>\n",
       "      <td>Poison</td>\n",
       "      <td>80</td>\n",
       "      <td>82</td>\n",
       "      <td>83</td>\n",
       "      <td>100</td>\n",
       "      <td>100</td>\n",
       "      <td>80</td>\n",
       "    </tr>\n",
       "    <tr>\n",
       "      <th>3</th>\n",
       "      <td>Charmander</td>\n",
       "      <td>Fire</td>\n",
       "      <td>NaN</td>\n",
       "      <td>39</td>\n",
       "      <td>52</td>\n",
       "      <td>43</td>\n",
       "      <td>60</td>\n",
       "      <td>50</td>\n",
       "      <td>65</td>\n",
       "    </tr>\n",
       "    <tr>\n",
       "      <th>4</th>\n",
       "      <td>Charmeleon</td>\n",
       "      <td>Fire</td>\n",
       "      <td>NaN</td>\n",
       "      <td>58</td>\n",
       "      <td>64</td>\n",
       "      <td>58</td>\n",
       "      <td>80</td>\n",
       "      <td>65</td>\n",
       "      <td>80</td>\n",
       "    </tr>\n",
       "  </tbody>\n",
       "</table>\n",
       "</div>"
      ],
      "text/plain": [
       "         Name  Type1   Type2  HP  Attack  Defense  Sp. Atk  Sp. Def  Speed\n",
       "0   Bulbasaur  Grass  Poison  45      49       49       65       65     45\n",
       "1     Ivysaur  Grass  Poison  60      62       63       80       80     60\n",
       "2    Venusaur  Grass  Poison  80      82       83      100      100     80\n",
       "3  Charmander   Fire     NaN  39      52       43       60       50     65\n",
       "4  Charmeleon   Fire     NaN  58      64       58       80       65     80"
      ]
     },
     "execution_count": 23,
     "metadata": {},
     "output_type": "execute_result"
    }
   ],
   "source": [
    "df.head()"
   ]
  },
  {
   "cell_type": "code",
   "execution_count": 78,
   "metadata": {},
   "outputs": [
    {
     "name": "stdout",
     "output_type": "stream",
     "text": [
      "['Bulbasaur' 'Ivysaur' 'Venusaur' 'Charmander' 'Charmeleon']\n"
     ]
    }
   ],
   "source": [
    "names = df['Name'].values\n",
    "print(names[:5])"
   ]
  },
  {
   "cell_type": "code",
   "execution_count": 79,
   "metadata": {},
   "outputs": [],
   "source": [
    "names_duplicates = list(map(lambda s: s.split('-')[0], names))\n",
    "names = list(set(names_duplicates))\n",
    "names = list(map(lambda s: s + '.', names))\n",
    "names = list(map(lambda s: s.lower(), names))\n",
    "# remove '\n",
    "names = list(map(lambda s: s.replace(\"'\", ''), names))\n",
    "# remove numbers\n",
    "names = list(map(lambda s: ''.join([i for i in s if not i.isdigit()]), names))\n",
    "# remove :\n",
    "names = list(map(lambda s: s.replace(\":\", ''), names))\n",
    "# change é to e\n",
    "names = list(map(lambda s: s.replace(\"é\", 'e'), names))\n",
    "# remove ♂ and ♀\n",
    "names = list(map(lambda s: s.replace(\"♂\", ''), names))\n",
    "names = list(map(lambda s: s.replace(\"♀\", ''), names))\n"
   ]
  },
  {
   "cell_type": "code",
   "execution_count": 80,
   "metadata": {},
   "outputs": [],
   "source": [
    "\n",
    "char_to_index = dict( (chr(i+96), i) for i in range(1,27))\n",
    "char_to_index[' '] = 0\n",
    "char_to_index['.'] = 27\n",
    "\n",
    "    index_to_char = dict( (i, chr(i+96)) for i in range(1,27))\n",
    "    index_to_char[0] = ' '\n",
    "    index_to_char[27] = '.'\n",
    "\n",
    "max_char = len(max(names, key=len))\n",
    "m = len(names)\n",
    "char_dim = len(char_to_index)\n"
   ]
  },
  {
   "cell_type": "code",
   "execution_count": 127,
   "metadata": {},
   "outputs": [],
   "source": [
    "type_dim = 18\n",
    "type_dict = {'Normal': 1, 'Fire': 2, 'Water': 3, 'Electric': 4, 'Grass': 5, 'Ice': 6, 'Fighting': 7, 'Poison': 8, 'Ground': 9, 'Flying': 10, 'Psychic': 11, 'Bug': 12, 'Rock': 13, 'Ghost': 14, 'Dragon': 15, 'Dark': 16, 'Steel': 17, 'Fairy': 18}\n"
   ]
  },
  {
   "cell_type": "code",
   "execution_count": 129,
   "metadata": {},
   "outputs": [
    {
     "name": "stdout",
     "output_type": "stream",
     "text": [
      "[[-0.91741457 -0.93276107 -0.77294911 -0.15556914 -0.1773554  -0.74117922]\n",
      " [-0.34618703 -0.49492457 -0.29849219  0.35589878  0.38008836 -0.21237763]\n",
      " [ 0.41544969  0.17867004  0.3793034   1.037856    1.12334671  0.49269117]\n",
      " [-1.14590559 -0.83172188 -0.97628779 -0.32605844 -0.73479917 -0.03611043]\n",
      " [-0.4223507  -0.42756511 -0.46794109  0.35589878 -0.1773554   0.49269117]]\n"
     ]
    }
   ],
   "source": [
    "stats_dim = 6\n",
    "stats = df[['HP', 'Attack', 'Defense', 'Sp. Atk', 'Sp. Def', 'Speed']].values\n",
    "stats = (stats - stats.mean(axis=0)) / stats.std(axis=0)\n",
    "print(stats[:5])"
   ]
  },
  {
   "cell_type": "code",
   "execution_count": 143,
   "metadata": {},
   "outputs": [],
   "source": [
    "\n",
    "\n",
    "X = np.zeros((m, max_char, char_dim + type_dim + stats_dim))\n",
    "Y = np.zeros((m, max_char, char_dim))\n",
    "\n",
    "for i in range(m):\n",
    "    name = list(names[i])\n",
    "    for j in range(len(name)):\n",
    "        X[i, j, char_to_index[name[j]]] = 1\n",
    "        if j < len(name)-1:\n",
    "            Y[i, j, char_to_index[name[j+1]]] = 1\n",
    "\n",
    "for i in range(m):\n",
    "    type1 = df.iloc[i]['Type1']\n",
    "    type2 = df.iloc[i]['Type2']\n",
    "    for j in range(len(name)):\n",
    "        if j < len(name)-1:\n",
    "            # add type info\n",
    "            X[i, j, char_dim + type_dict[type1] - 1] = 1\n",
    "            try :\n",
    "                X[i, j, char_dim + type_dict[type2] - 1] = 1\n",
    "            except:\n",
    "                pass\n",
    "            # add stats info\n",
    "            X[i, j, char_dim + type_dim:] = stats[i, :]\n",
    "            \n"
   ]
  },
  {
   "cell_type": "code",
   "execution_count": 144,
   "metadata": {},
   "outputs": [
    {
     "data": {
      "text/plain": [
       "((904, 13, 52), (904, 13, 28))"
      ]
     },
     "execution_count": 144,
     "metadata": {},
     "output_type": "execute_result"
    }
   ],
   "source": [
    "X.shape, Y.shape"
   ]
  },
  {
   "cell_type": "code",
   "execution_count": 162,
   "metadata": {},
   "outputs": [],
   "source": [
    "model = Sequential()\n",
    "model.add(LSTM(128, input_shape=(max_char, char_dim + type_dim + stats_dim), return_sequences=True))\n",
    "model.add(Dense(char_dim, activation='softmax'))\n",
    "\n",
    "model.compile(loss='categorical_crossentropy', optimizer='adam')"
   ]
  },
  {
   "cell_type": "code",
   "execution_count": 164,
   "metadata": {},
   "outputs": [
    {
     "data": {
      "image/png": "[encoded data removed]",
      "text/plain": [
       "<IPython.core.display.Image object>"
      ]
     },
     "execution_count": 164,
     "metadata": {},
     "output_type": "execute_result"
    }
   ],
   "source": [
    "tf.keras.utils.plot_model(model, show_shapes=True, show_layer_names=True)"
   ]
  },
  {
   "cell_type": "code",
   "execution_count": 195,
   "metadata": {},
   "outputs": [],
   "source": [
    "\n",
    "def make_name(model, types=np.zeros((1, type_dim)), stats=np.array([[100, 100, 100, 100, 100, 100]])):\n",
    "    name = []\n",
    "    x = np.zeros((1, max_char, char_dim))\n",
    "    print(x.shape)\n",
    "    types = np.tile(types, (1, max_char, 1))\n",
    "    print(types.shape)\n",
    "    # # concatenatre types with x after char_dim\n",
    "    x = np.concatenate((x, types), axis=2)\n",
    "    # print(x.shape)\n",
    "    # # concatenate stats at the end of x\n",
    "    stats = np.tile(stats, (1, max_char, 1))\n",
    "    print(stats.shape)\n",
    "    x = np.concatenate((x, stats), axis=2)\n",
    "    # # x = np.expand_dims(x, axis=2)\n",
    "    # print(x.shape)\n",
    "    \n",
    "    end = False\n",
    "    i = 0\n",
    "    \n",
    "    while end==False:\n",
    "        probs = list(model.predict(x, verbose=0)[0,i])\n",
    "        probs = probs / np.sum(probs)\n",
    "        index = np.random.choice(range(char_dim), p=probs)\n",
    "        if i == max_char-2:\n",
    "            character = '.'\n",
    "            end = True\n",
    "        else:\n",
    "            character = index_to_char[index]\n",
    "        name.append(character)\n",
    "        x[0, i+1, index] = 1\n",
    "        i += 1\n",
    "        if character == '.':\n",
    "            end = True\n",
    "    \n",
    "    print(''.join(name))"
   ]
  },
  {
   "cell_type": "code",
   "execution_count": 168,
   "metadata": {},
   "outputs": [
    {
     "name": "stdout",
     "output_type": "stream",
     "text": [
      "Names generated after epoch 0:\n",
      "iwdrnr.\n",
      "jyjcbccxo.\n",
      "lferalirrg.\n",
      "\n",
      "Names generated after epoch 25:\n",
      "ltauakn.\n",
      "evunz.\n",
      "gforoqrcfn.\n",
      "\n",
      "Names generated after epoch 50:\n",
      "aregml.\n",
      "i dsri.\n",
      "rbojdor.\n",
      "\n",
      "Names generated after epoch 75:\n",
      "onmekokddr.\n",
      "nxgbe l.\n",
      "oilooikbe.\n",
      "\n",
      "Names generated after epoch 100:\n",
      "wolpet.\n",
      "aaruklo.\n",
      "vtiroux.\n",
      "\n",
      "Names generated after epoch 125:\n",
      "punsukr.\n",
      "winolpnmmak.\n",
      "teunzo.\n",
      "\n",
      "Names generated after epoch 150:\n",
      "nnkekku.\n",
      "surohcerehe.\n",
      "a.\n",
      "\n",
      "Names generated after epoch 175:\n",
      "jwlleisr.\n",
      "lanwow.\n",
      "oxararyo.\n",
      "\n",
      "Names generated after epoch 200:\n",
      "zetrorntolo.\n",
      "rogoweosht.\n",
      "tattau.\n",
      "\n",
      "Names generated after epoch 225:\n",
      "legaskknb.\n",
      "locai.\n",
      " gennio.\n",
      "\n",
      "Names generated after epoch 250:\n",
      "megtokn.\n",
      "rebith.\n",
      ".\n",
      "\n",
      "Names generated after epoch 275:\n",
      "ewvta.\n",
      "xlarrsu.\n",
      "indhamk.\n",
      "\n",
      "Names generated after epoch 300:\n",
      "edicnwphbln.\n",
      "argutwrre.\n",
      "woslirul.\n",
      "\n",
      "Names generated after epoch 325:\n",
      "jenps.\n",
      "jxlrl.\n",
      "olcowe.\n",
      "\n",
      "Names generated after epoch 350:\n",
      "hendo.\n",
      "pinu.\n",
      "xemie.\n",
      "\n",
      "Names generated after epoch 375:\n",
      "topaery.\n",
      "yenuebd.\n",
      "bersen.\n",
      "\n",
      "Names generated after epoch 400:\n",
      "jelidcpwtkz.\n",
      "xpuety.\n",
      "zaraazarkfz.\n",
      "\n",
      "Names generated after epoch 425:\n",
      "ingealhp.\n",
      "quinetjpbhm.\n",
      ".\n",
      "\n",
      "Names generated after epoch 450:\n",
      "ardobyoiuws.\n",
      "hveniasjeiu.\n",
      "jotosizr.\n",
      "\n",
      "Names generated after epoch 475:\n",
      "eidmoso.\n",
      "rocotar.\n",
      "waiplei.\n",
      "\n"
     ]
    },
    {
     "data": {
      "text/plain": [
       "<keras.callbacks.History at 0x18affa77880>"
      ]
     },
     "execution_count": 168,
     "metadata": {},
     "output_type": "execute_result"
    }
   ],
   "source": [
    "def train(epoch, _):\n",
    "    if epoch % 25 == 0:\n",
    "        \n",
    "        print('Names generated after epoch %d:' % epoch)\n",
    "\n",
    "        for i in range(3):\n",
    "            make_name(model)\n",
    "        \n",
    "        print()\n",
    "      \n",
    "name_generator = LambdaCallback(on_epoch_end = train)\n",
    "\n",
    "model.fit(X, Y, batch_size=64, epochs=500, callbacks=[name_generator], verbose=0)"
   ]
  },
  {
   "cell_type": "code",
   "execution_count": 205,
   "metadata": {},
   "outputs": [
    {
     "name": "stdout",
     "output_type": "stream",
     "text": [
      "(1, 13, 28)\n",
      "(1, 13, 18)\n",
      "(1, 13, 6)\n",
      "tyjagaangaa.\n"
     ]
    }
   ],
   "source": [
    "make_name(model, types=np.array([1, 0, 0, 0, 0, 0, 0, 0, 0, 0, 0, 0, 0, 0, 0, 0, 0, 1]))"
   ]
  },
  {
   "cell_type": "code",
   "execution_count": 206,
   "metadata": {},
   "outputs": [],
   "source": [
    "model.save('name_gen_type_stat.h5')"
   ]
  }
 ],
 "metadata": {
  "kernelspec": {
   "display_name": "Python 3",
   "language": "python",
   "name": "python3"
  },
  "language_info": {
   "codemirror_mode": {
    "name": "ipython",
    "version": 3
   },
   "file_extension": ".py",
   "mimetype": "text/x-python",
   "name": "python",
   "nbconvert_exporter": "python",
   "pygments_lexer": "ipython3",
   "version": "3.10.6"
  },
  "orig_nbformat": 4
 },
 "nbformat": 4,
 "nbformat_minor": 2
}
