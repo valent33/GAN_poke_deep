{
 "cells": [
  {
   "cell_type": "code",
   "execution_count": 89,
   "metadata": {},
   "outputs": [],
   "source": [
    "import tensorflow as tf\n",
    "import pandas as pd\n",
    "from keras.models import Sequential\n",
    "from keras.layers import LSTM, Dense\n",
    "import numpy as np\n",
    "from keras.callbacks import LambdaCallback"
   ]
  },
  {
   "cell_type": "code",
   "execution_count": 21,
   "metadata": {},
   "outputs": [],
   "source": [
    "df = pd.read_csv('PokeDataset.csv')"
   ]
  },
  {
   "cell_type": "code",
   "execution_count": 22,
   "metadata": {},
   "outputs": [],
   "source": [
    "df = df[['Name', 'Type1', 'Type2', 'HP', 'Attack', 'Defense', 'Sp. Atk', 'Sp. Def', 'Speed']]"
   ]
  },
  {
   "cell_type": "code",
   "execution_count": 23,
   "metadata": {},
   "outputs": [
    {
     "data": {
      "text/html": [
       "<div>\n",
       "<style scoped>\n",
       "    .dataframe tbody tr th:only-of-type {\n",
       "        vertical-align: middle;\n",
       "    }\n",
       "\n",
       "    .dataframe tbody tr th {\n",
       "        vertical-align: top;\n",
       "    }\n",
       "\n",
       "    .dataframe thead th {\n",
       "        text-align: right;\n",
       "    }\n",
       "</style>\n",
       "<table border=\"1\" class=\"dataframe\">\n",
       "  <thead>\n",
       "    <tr style=\"text-align: right;\">\n",
       "      <th></th>\n",
       "      <th>Name</th>\n",
       "      <th>Type1</th>\n",
       "      <th>Type2</th>\n",
       "      <th>HP</th>\n",
       "      <th>Attack</th>\n",
       "      <th>Defense</th>\n",
       "      <th>Sp. Atk</th>\n",
       "      <th>Sp. Def</th>\n",
       "      <th>Speed</th>\n",
       "    </tr>\n",
       "  </thead>\n",
       "  <tbody>\n",
       "    <tr>\n",
       "      <th>0</th>\n",
       "      <td>Bulbasaur</td>\n",
       "      <td>Grass</td>\n",
       "      <td>Poison</td>\n",
       "      <td>45</td>\n",
       "      <td>49</td>\n",
       "      <td>49</td>\n",
       "      <td>65</td>\n",
       "      <td>65</td>\n",
       "      <td>45</td>\n",
       "    </tr>\n",
       "    <tr>\n",
       "      <th>1</th>\n",
       "      <td>Ivysaur</td>\n",
       "      <td>Grass</td>\n",
       "      <td>Poison</td>\n",
       "      <td>60</td>\n",
       "      <td>62</td>\n",
       "      <td>63</td>\n",
       "      <td>80</td>\n",
       "      <td>80</td>\n",
       "      <td>60</td>\n",
       "    </tr>\n",
       "    <tr>\n",
       "      <th>2</th>\n",
       "      <td>Venusaur</td>\n",
       "      <td>Grass</td>\n",
       "      <td>Poison</td>\n",
       "      <td>80</td>\n",
       "      <td>82</td>\n",
       "      <td>83</td>\n",
       "      <td>100</td>\n",
       "      <td>100</td>\n",
       "      <td>80</td>\n",
       "    </tr>\n",
       "    <tr>\n",
       "      <th>3</th>\n",
       "      <td>Charmander</td>\n",
       "      <td>Fire</td>\n",
       "      <td>NaN</td>\n",
       "      <td>39</td>\n",
       "      <td>52</td>\n",
       "      <td>43</td>\n",
       "      <td>60</td>\n",
       "      <td>50</td>\n",
       "      <td>65</td>\n",
       "    </tr>\n",
       "    <tr>\n",
       "      <th>4</th>\n",
       "      <td>Charmeleon</td>\n",
       "      <td>Fire</td>\n",
       "      <td>NaN</td>\n",
       "      <td>58</td>\n",
       "      <td>64</td>\n",
       "      <td>58</td>\n",
       "      <td>80</td>\n",
       "      <td>65</td>\n",
       "      <td>80</td>\n",
       "    </tr>\n",
       "  </tbody>\n",
       "</table>\n",
       "</div>"
      ],
      "text/plain": [
       "         Name  Type1   Type2  HP  Attack  Defense  Sp. Atk  Sp. Def  Speed\n",
       "0   Bulbasaur  Grass  Poison  45      49       49       65       65     45\n",
       "1     Ivysaur  Grass  Poison  60      62       63       80       80     60\n",
       "2    Venusaur  Grass  Poison  80      82       83      100      100     80\n",
       "3  Charmander   Fire     NaN  39      52       43       60       50     65\n",
       "4  Charmeleon   Fire     NaN  58      64       58       80       65     80"
      ]
     },
     "execution_count": 23,
     "metadata": {},
     "output_type": "execute_result"
    }
   ],
   "source": [
    "df.head()"
   ]
  },
  {
   "cell_type": "code",
   "execution_count": 78,
   "metadata": {},
   "outputs": [
    {
     "name": "stdout",
     "output_type": "stream",
     "text": [
      "['Bulbasaur' 'Ivysaur' 'Venusaur' 'Charmander' 'Charmeleon']\n"
     ]
    }
   ],
   "source": [
    "names = df['Name'].values\n",
    "print(names[:5])"
   ]
  },
  {
   "cell_type": "code",
   "execution_count": 79,
   "metadata": {},
   "outputs": [],
   "source": [
    "names_duplicates = list(map(lambda s: s.split('-')[0], names))\n",
    "names = list(set(names_duplicates))\n",
    "names = list(map(lambda s: s + '.', names))\n",
    "names = list(map(lambda s: s.lower(), names))\n",
    "# remove '\n",
    "names = list(map(lambda s: s.replace(\"'\", ''), names))\n",
    "# remove numbers\n",
    "names = list(map(lambda s: ''.join([i for i in s if not i.isdigit()]), names))\n",
    "# remove :\n",
    "names = list(map(lambda s: s.replace(\":\", ''), names))\n",
    "# change é to e\n",
    "names = list(map(lambda s: s.replace(\"é\", 'e'), names))\n",
    "# remove ♂ and ♀\n",
    "names = list(map(lambda s: s.replace(\"♂\", ''), names))\n",
    "names = list(map(lambda s: s.replace(\"♀\", ''), names))\n"
   ]
  },
  {
   "cell_type": "code",
   "execution_count": 80,
   "metadata": {},
   "outputs": [],
   "source": [
    "\n",
    "char_to_index = dict( (chr(i+96), i) for i in range(1,27))\n",
    "char_to_index[' '] = 0\n",
    "char_to_index['.'] = 27\n",
    "\n",
    "index_to_char = dict( (i, chr(i+96)) for i in range(1,27))\n",
    "index_to_char[0] = ' '\n",
    "index_to_char[27] = '.'\n",
    "\n",
    "max_char = len(max(names, key=len))\n",
    "m = len(names)\n",
    "char_dim = len(char_to_index)\n"
   ]
  },
  {
   "cell_type": "code",
   "execution_count": null,
   "metadata": {},
   "outputs": [],
   "source": [
    "type_dim = 18"
   ]
  },
  {
   "cell_type": "code",
   "execution_count": 82,
   "metadata": {},
   "outputs": [],
   "source": [
    "\n",
    "\n",
    "X = np.zeros((m, max_char, char_dim))\n",
    "Y = np.zeros((m, max_char, char_dim))\n",
    "\n",
    "for i in range(m):\n",
    "    name = list(names[i])\n",
    "    for j in range(len(name)):\n",
    "        X[i, j, char_to_index[name[j]]] = 1\n",
    "        if j < len(name)-1:\n",
    "            Y[i, j, char_to_index[name[j+1]]] = 1"
   ]
  },
  {
   "cell_type": "code",
   "execution_count": 86,
   "metadata": {},
   "outputs": [
    {
     "data": {
      "text/plain": [
       "((904, 13, 28), (904, 13, 28))"
      ]
     },
     "execution_count": 86,
     "metadata": {},
     "output_type": "execute_result"
    }
   ],
   "source": [
    "X.shape, Y.shape"
   ]
  },
  {
   "cell_type": "code",
   "execution_count": 87,
   "metadata": {},
   "outputs": [],
   "source": [
    "model = Sequential()\n",
    "model.add(LSTM(128, input_shape=(max_char, char_dim), return_sequences=True))\n",
    "model.add(Dense(char_dim, activation='softmax'))\n",
    "\n",
    "model.compile(loss='categorical_crossentropy', optimizer='adam')"
   ]
  },
  {
   "cell_type": "code",
   "execution_count": 91,
   "metadata": {},
   "outputs": [],
   "source": [
    "\n",
    "def make_name(model):\n",
    "    name = []\n",
    "    x = np.zeros((1, max_char, char_dim))\n",
    "    end = False\n",
    "    i = 0\n",
    "    \n",
    "    while end==False:\n",
    "        probs = list(model.predict(x, verbose=0)[0,i])\n",
    "        probs = probs / np.sum(probs)\n",
    "        index = np.random.choice(range(char_dim), p=probs)\n",
    "        if i == max_char-2:\n",
    "            character = '.'\n",
    "            end = True\n",
    "        else:\n",
    "            character = index_to_char[index]\n",
    "        name.append(character)\n",
    "        x[0, i+1, index] = 1\n",
    "        i += 1\n",
    "        if character == '.':\n",
    "            end = True\n",
    "    \n",
    "    print(''.join(name))"
   ]
  },
  {
   "cell_type": "code",
   "execution_count": 92,
   "metadata": {},
   "outputs": [
    {
     "name": "stdout",
     "output_type": "stream",
     "text": [
      "Names generated after epoch 0:\n",
      "elofede.\n",
      "jolmunenr.\n",
      "hastoisl.\n",
      "\n",
      "Names generated after epoch 25:\n",
      ".\n",
      " lavaoeuije.\n",
      "lelpexo.\n",
      "\n",
      "Names generated after epoch 50:\n",
      "arman.\n",
      "quila.\n",
      "lechrio.\n",
      "\n",
      "Names generated after epoch 75:\n",
      "iglapim.\n",
      "kolns.\n",
      "rowooay.\n",
      "\n",
      "Names generated after epoch 100:\n",
      "usplam.\n",
      ".\n",
      "levamewmo.\n",
      "\n",
      "Names generated after epoch 125:\n",
      "cosmiioe.\n",
      "momqakoo.\n",
      "ragigqeyodx.\n",
      "\n",
      "Names generated after epoch 150:\n",
      "ingenl .\n",
      "oldagae lpz.\n",
      "eatkfdono.\n",
      "\n",
      "Names generated after epoch 175:\n",
      "laxni.\n",
      "omton.\n",
      "eeslur.\n",
      "\n",
      "Names generated after epoch 200:\n",
      " salsjfoh.\n",
      "elmeopbg.\n",
      "oreritln.\n",
      "\n",
      "Names generated after epoch 225:\n",
      "rimero.\n",
      "oltitngsgad.\n",
      "vilicqlzm.\n",
      "\n",
      "Names generated after epoch 250:\n",
      "goruruvnoia.\n",
      "urufasgze.\n",
      "udeslwt.\n",
      "\n",
      "Names generated after epoch 275:\n",
      "faslosz.\n",
      "ovspemhne.\n",
      "wisaac.\n",
      "\n",
      "Names generated after epoch 300:\n",
      "rawuoksen s.\n",
      "okpryeaythm.\n",
      "urtzlo.\n",
      "\n",
      "Names generated after epoch 325:\n",
      "macmpzolfee.\n",
      "wepisldaery.\n",
      "jniltieyg.\n",
      "\n",
      "Names generated after epoch 350:\n",
      "inari.\n",
      "ukluo.\n",
      "igli teei.\n",
      "\n",
      "Names generated after epoch 375:\n",
      "urblun.\n",
      "oltonntry.\n",
      "meowtpx.\n",
      "\n",
      "Names generated after epoch 400:\n",
      "deenoilljin.\n",
      "araefbt.\n",
      "ortecdcllta.\n",
      "\n",
      "Names generated after epoch 425:\n",
      "lavinsjqger.\n",
      "armantff.\n",
      "ardexsap.\n",
      "\n",
      "Names generated after epoch 450:\n",
      "innftt.\n",
      "ellarutsjyo.\n",
      "roowutbscsr.\n",
      "\n",
      "Names generated after epoch 475:\n",
      "ampore.\n",
      "tarli.\n",
      "alrarmancda.\n",
      "\n"
     ]
    },
    {
     "data": {
      "text/plain": [
       "<keras.callbacks.History at 0x18abedcbc40>"
      ]
     },
     "execution_count": 92,
     "metadata": {},
     "output_type": "execute_result"
    }
   ],
   "source": [
    "def train(epoch, _):\n",
    "    if epoch % 25 == 0:\n",
    "        \n",
    "        print('Names generated after epoch %d:' % epoch)\n",
    "\n",
    "        for i in range(3):\n",
    "            make_name(model)\n",
    "        \n",
    "        print()\n",
    "      \n",
    "name_generator = LambdaCallback(on_epoch_end = train)\n",
    "\n",
    "model.fit(X, Y, batch_size=64, epochs=500, callbacks=[name_generator], verbose=0)"
   ]
  },
  {
   "cell_type": "code",
   "execution_count": 125,
   "metadata": {},
   "outputs": [
    {
     "name": "stdout",
     "output_type": "stream",
     "text": [
      "erdurg.\n"
     ]
    }
   ],
   "source": [
    "make_name(model)"
   ]
  }
 ],
 "metadata": {
  "kernelspec": {
   "display_name": "Python 3",
   "language": "python",
   "name": "python3"
  },
  "language_info": {
   "codemirror_mode": {
    "name": "ipython",
    "version": 3
   },
   "file_extension": ".py",
   "mimetype": "text/x-python",
   "name": "python",
   "nbconvert_exporter": "python",
   "pygments_lexer": "ipython3",
   "version": "3.10.6"
  },
  "orig_nbformat": 4
 },
 "nbformat": 4,
 "nbformat_minor": 2
}
