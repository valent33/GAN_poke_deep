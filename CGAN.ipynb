{
 "cells": [
  {
   "cell_type": "code",
   "execution_count": 1,
   "metadata": {},
   "outputs": [],
   "source": [
    "import tensorflow as tf\n",
    "import plotly.express as px\n",
    "import matplotlib.pyplot as plt\n",
    "from utils import *\n",
    "import pandas as pd"
   ]
  },
  {
   "cell_type": "code",
   "execution_count": 2,
   "metadata": {},
   "outputs": [],
   "source": [
    "directory = 'images/final/'\n",
    "width = 64\n",
    "height = 64\n",
    "channels = 4\n",
    "image_size = (width, height)\n",
    "input_shape = (width, height, channels)\n",
    "batch_size = 32"
   ]
  },
  {
   "cell_type": "code",
   "execution_count": 3,
   "metadata": {},
   "outputs": [
    {
     "name": "stdout",
     "output_type": "stream",
     "text": [
      "Found 13849 files belonging to 905 classes.\n"
     ]
    }
   ],
   "source": [
    "train_ds, class_names = load_data(directory, batch_size, image_size, GAN=True)"
   ]
  },
  {
   "cell_type": "code",
   "execution_count": 4,
   "metadata": {},
   "outputs": [
    {
     "data": {
      "text/plain": [
       "433"
      ]
     },
     "execution_count": 4,
     "metadata": {},
     "output_type": "execute_result"
    }
   ],
   "source": [
    "train_ds.cardinality().numpy()"
   ]
  },
  {
   "cell_type": "code",
   "execution_count": 5,
   "metadata": {},
   "outputs": [],
   "source": [
    "types = pd.read_csv('PokeDataset.csv', usecols=['Name', 'Type1', 'Type2'])\n",
    "# reorder by alphabetical order of column 'Name'\n",
    "types = types.sort_values(by=['Name'])\n",
    "types = types.reset_index(drop=True)"
   ]
  },
  {
   "cell_type": "code",
   "execution_count": 6,
   "metadata": {},
   "outputs": [
    {
     "name": "stdout",
     "output_type": "stream",
     "text": [
      "Percentage of pokemon with double type: 49.61%\n"
     ]
    }
   ],
   "source": [
    "# give percentage of pokemon with double type\n",
    "print(f\"Percentage of pokemon with double type: {types['Type2'].count() / types['Type1'].count() * 100:.2f}%\")"
   ]
  },
  {
   "cell_type": "code",
   "execution_count": 7,
   "metadata": {},
   "outputs": [
    {
     "data": {
      "text/html": [
       "<div>\n",
       "<style scoped>\n",
       "    .dataframe tbody tr th:only-of-type {\n",
       "        vertical-align: middle;\n",
       "    }\n",
       "\n",
       "    .dataframe tbody tr th {\n",
       "        vertical-align: top;\n",
       "    }\n",
       "\n",
       "    .dataframe thead th {\n",
       "        text-align: right;\n",
       "    }\n",
       "</style>\n",
       "<table border=\"1\" class=\"dataframe\">\n",
       "  <thead>\n",
       "    <tr style=\"text-align: right;\">\n",
       "      <th></th>\n",
       "      <th>Name</th>\n",
       "      <th>Type1</th>\n",
       "      <th>Type2</th>\n",
       "    </tr>\n",
       "  </thead>\n",
       "  <tbody>\n",
       "    <tr>\n",
       "      <th>0</th>\n",
       "      <td>Abomasnow</td>\n",
       "      <td>Grass</td>\n",
       "      <td>Ice</td>\n",
       "    </tr>\n",
       "    <tr>\n",
       "      <th>1</th>\n",
       "      <td>Abra</td>\n",
       "      <td>Psychic</td>\n",
       "      <td>NaN</td>\n",
       "    </tr>\n",
       "    <tr>\n",
       "      <th>2</th>\n",
       "      <td>Absol</td>\n",
       "      <td>Dark</td>\n",
       "      <td>NaN</td>\n",
       "    </tr>\n",
       "    <tr>\n",
       "      <th>3</th>\n",
       "      <td>Accelgor</td>\n",
       "      <td>Bug</td>\n",
       "      <td>NaN</td>\n",
       "    </tr>\n",
       "    <tr>\n",
       "      <th>4</th>\n",
       "      <td>Aegislash</td>\n",
       "      <td>Steel</td>\n",
       "      <td>Ghost</td>\n",
       "    </tr>\n",
       "  </tbody>\n",
       "</table>\n",
       "</div>"
      ],
      "text/plain": [
       "        Name    Type1  Type2\n",
       "0  Abomasnow    Grass    Ice\n",
       "1       Abra  Psychic    NaN\n",
       "2      Absol     Dark    NaN\n",
       "3   Accelgor      Bug    NaN\n",
       "4  Aegislash    Steel  Ghost"
      ]
     },
     "execution_count": 7,
     "metadata": {},
     "output_type": "execute_result"
    }
   ],
   "source": [
    "types.head(5)"
   ]
  },
  {
   "cell_type": "code",
   "execution_count": 8,
   "metadata": {},
   "outputs": [],
   "source": [
    "# make a dictionary of types and their index in the list of types\n",
    "types_dict = {}\n",
    "for i, t in enumerate(types['Type1'].unique()):\n",
    "    types_dict[t] = i\n",
    "\n",
    "# create vector of labels with 0 for each type except the one in the row (type1 and type2 are strings)\n",
    "def create_label(row):\n",
    "    label = np.zeros(18)\n",
    "    label[types_dict[row['Type1']]] = 1\n",
    "    if row['Type2'] in types_dict:\n",
    "        label[types_dict[row['Type2']]] = 1\n",
    "    return label\n",
    "\n",
    "types['Label'] = types.apply(create_label, axis=1)"
   ]
  },
  {
   "cell_type": "code",
   "execution_count": 9,
   "metadata": {},
   "outputs": [],
   "source": [
    "def types_to_vector(type1, type2=None):\n",
    "    label = np.zeros(18)\n",
    "    label[types_dict[type1]] = 1\n",
    "    if type2 in types_dict:\n",
    "        label[types_dict[type2]] = 1\n",
    "    return label.reshape(1, 18)"
   ]
  },
  {
   "cell_type": "code",
   "execution_count": 10,
   "metadata": {},
   "outputs": [
    {
     "name": "stdout",
     "output_type": "stream",
     "text": [
      "521\n"
     ]
    },
    {
     "data": {
      "application/vnd.plotly.v1+json": {
       "config": {
        "plotlyServerURL": "https://plot.ly"
       },
       "data": [
        {
         "hovertemplate": "x: %{x}<br>y: %{y}<extra></extra>",
         "name": "0",
         "source": "data:image/png;base64,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",
         "type": "image",
         "xaxis": "x",
         "yaxis": "y"
        }
       ],
       "layout": {
        "height": 350,
        "margin": {
         "l": 0,
         "t": 60
        },
        "shapes": [
         {
          "line": {
           "color": "black",
           "width": 2
          },
          "type": "rect",
          "x0": 0,
          "x1": 64,
          "xref": "x",
          "y0": 0,
          "y1": 64,
          "yref": "y"
         }
        ],
        "template": {
         "data": {
          "bar": [
           {
            "error_x": {
             "color": "#2a3f5f"
            },
            "error_y": {
             "color": "#2a3f5f"
            },
            "marker": {
             "line": {
              "color": "#E5ECF6",
              "width": 0.5
             },
             "pattern": {
              "fillmode": "overlay",
              "size": 10,
              "solidity": 0.2
             }
            },
            "type": "bar"
           }
          ],
          "barpolar": [
           {
            "marker": {
             "line": {
              "color": "#E5ECF6",
              "width": 0.5
             },
             "pattern": {
              "fillmode": "overlay",
              "size": 10,
              "solidity": 0.2
             }
            },
            "type": "barpolar"
           }
          ],
          "carpet": [
           {
            "aaxis": {
             "endlinecolor": "#2a3f5f",
             "gridcolor": "white",
             "linecolor": "white",
             "minorgridcolor": "white",
             "startlinecolor": "#2a3f5f"
            },
            "baxis": {
             "endlinecolor": "#2a3f5f",
             "gridcolor": "white",
             "linecolor": "white",
             "minorgridcolor": "white",
             "startlinecolor": "#2a3f5f"
            },
            "type": "carpet"
           }
          ],
          "choropleth": [
           {
            "colorbar": {
             "outlinewidth": 0,
             "ticks": ""
            },
            "type": "choropleth"
           }
          ],
          "contour": [
           {
            "colorbar": {
             "outlinewidth": 0,
             "ticks": ""
            },
            "colorscale": [
             [
              0,
              "#0d0887"
             ],
             [
              0.1111111111111111,
              "#46039f"
             ],
             [
              0.2222222222222222,
              "#7201a8"
             ],
             [
              0.3333333333333333,
              "#9c179e"
             ],
             [
              0.4444444444444444,
              "#bd3786"
             ],
             [
              0.5555555555555556,
              "#d8576b"
             ],
             [
              0.6666666666666666,
              "#ed7953"
             ],
             [
              0.7777777777777778,
              "#fb9f3a"
             ],
             [
              0.8888888888888888,
              "#fdca26"
             ],
             [
              1,
              "#f0f921"
             ]
            ],
            "type": "contour"
           }
          ],
          "contourcarpet": [
           {
            "colorbar": {
             "outlinewidth": 0,
             "ticks": ""
            },
            "type": "contourcarpet"
           }
          ],
          "heatmap": [
           {
            "colorbar": {
             "outlinewidth": 0,
             "ticks": ""
            },
            "colorscale": [
             [
              0,
              "#0d0887"
             ],
             [
              0.1111111111111111,
              "#46039f"
             ],
             [
              0.2222222222222222,
              "#7201a8"
             ],
             [
              0.3333333333333333,
              "#9c179e"
             ],
             [
              0.4444444444444444,
              "#bd3786"
             ],
             [
              0.5555555555555556,
              "#d8576b"
             ],
             [
              0.6666666666666666,
              "#ed7953"
             ],
             [
              0.7777777777777778,
              "#fb9f3a"
             ],
             [
              0.8888888888888888,
              "#fdca26"
             ],
             [
              1,
              "#f0f921"
             ]
            ],
            "type": "heatmap"
           }
          ],
          "heatmapgl": [
           {
            "colorbar": {
             "outlinewidth": 0,
             "ticks": ""
            },
            "colorscale": [
             [
              0,
              "#0d0887"
             ],
             [
              0.1111111111111111,
              "#46039f"
             ],
             [
              0.2222222222222222,
              "#7201a8"
             ],
             [
              0.3333333333333333,
              "#9c179e"
             ],
             [
              0.4444444444444444,
              "#bd3786"
             ],
             [
              0.5555555555555556,
              "#d8576b"
             ],
             [
              0.6666666666666666,
              "#ed7953"
             ],
             [
              0.7777777777777778,
              "#fb9f3a"
             ],
             [
              0.8888888888888888,
              "#fdca26"
             ],
             [
              1,
              "#f0f921"
             ]
            ],
            "type": "heatmapgl"
           }
          ],
          "histogram": [
           {
            "marker": {
             "pattern": {
              "fillmode": "overlay",
              "size": 10,
              "solidity": 0.2
             }
            },
            "type": "histogram"
           }
          ],
          "histogram2d": [
           {
            "colorbar": {
             "outlinewidth": 0,
             "ticks": ""
            },
            "colorscale": [
             [
              0,
              "#0d0887"
             ],
             [
              0.1111111111111111,
              "#46039f"
             ],
             [
              0.2222222222222222,
              "#7201a8"
             ],
             [
              0.3333333333333333,
              "#9c179e"
             ],
             [
              0.4444444444444444,
              "#bd3786"
             ],
             [
              0.5555555555555556,
              "#d8576b"
             ],
             [
              0.6666666666666666,
              "#ed7953"
             ],
             [
              0.7777777777777778,
              "#fb9f3a"
             ],
             [
              0.8888888888888888,
              "#fdca26"
             ],
             [
              1,
              "#f0f921"
             ]
            ],
            "type": "histogram2d"
           }
          ],
          "histogram2dcontour": [
           {
            "colorbar": {
             "outlinewidth": 0,
             "ticks": ""
            },
            "colorscale": [
             [
              0,
              "#0d0887"
             ],
             [
              0.1111111111111111,
              "#46039f"
             ],
             [
              0.2222222222222222,
              "#7201a8"
             ],
             [
              0.3333333333333333,
              "#9c179e"
             ],
             [
              0.4444444444444444,
              "#bd3786"
             ],
             [
              0.5555555555555556,
              "#d8576b"
             ],
             [
              0.6666666666666666,
              "#ed7953"
             ],
             [
              0.7777777777777778,
              "#fb9f3a"
             ],
             [
              0.8888888888888888,
              "#fdca26"
             ],
             [
              1,
              "#f0f921"
             ]
            ],
            "type": "histogram2dcontour"
           }
          ],
          "mesh3d": [
           {
            "colorbar": {
             "outlinewidth": 0,
             "ticks": ""
            },
            "type": "mesh3d"
           }
          ],
          "parcoords": [
           {
            "line": {
             "colorbar": {
              "outlinewidth": 0,
              "ticks": ""
             }
            },
            "type": "parcoords"
           }
          ],
          "pie": [
           {
            "automargin": true,
            "type": "pie"
           }
          ],
          "scatter": [
           {
            "fillpattern": {
             "fillmode": "overlay",
             "size": 10,
             "solidity": 0.2
            },
            "type": "scatter"
           }
          ],
          "scatter3d": [
           {
            "line": {
             "colorbar": {
              "outlinewidth": 0,
              "ticks": ""
             }
            },
            "marker": {
             "colorbar": {
              "outlinewidth": 0,
              "ticks": ""
             }
            },
            "type": "scatter3d"
           }
          ],
          "scattercarpet": [
           {
            "marker": {
             "colorbar": {
              "outlinewidth": 0,
              "ticks": ""
             }
            },
            "type": "scattercarpet"
           }
          ],
          "scattergeo": [
           {
            "marker": {
             "colorbar": {
              "outlinewidth": 0,
              "ticks": ""
             }
            },
            "type": "scattergeo"
           }
          ],
          "scattergl": [
           {
            "marker": {
             "colorbar": {
              "outlinewidth": 0,
              "ticks": ""
             }
            },
            "type": "scattergl"
           }
          ],
          "scattermapbox": [
           {
            "marker": {
             "colorbar": {
              "outlinewidth": 0,
              "ticks": ""
             }
            },
            "type": "scattermapbox"
           }
          ],
          "scatterpolar": [
           {
            "marker": {
             "colorbar": {
              "outlinewidth": 0,
              "ticks": ""
             }
            },
            "type": "scatterpolar"
           }
          ],
          "scatterpolargl": [
           {
            "marker": {
             "colorbar": {
              "outlinewidth": 0,
              "ticks": ""
             }
            },
            "type": "scatterpolargl"
           }
          ],
          "scatterternary": [
           {
            "marker": {
             "colorbar": {
              "outlinewidth": 0,
              "ticks": ""
             }
            },
            "type": "scatterternary"
           }
          ],
          "surface": [
           {
            "colorbar": {
             "outlinewidth": 0,
             "ticks": ""
            },
            "colorscale": [
             [
              0,
              "#0d0887"
             ],
             [
              0.1111111111111111,
              "#46039f"
             ],
             [
              0.2222222222222222,
              "#7201a8"
             ],
             [
              0.3333333333333333,
              "#9c179e"
             ],
             [
              0.4444444444444444,
              "#bd3786"
             ],
             [
              0.5555555555555556,
              "#d8576b"
             ],
             [
              0.6666666666666666,
              "#ed7953"
             ],
             [
              0.7777777777777778,
              "#fb9f3a"
             ],
             [
              0.8888888888888888,
              "#fdca26"
             ],
             [
              1,
              "#f0f921"
             ]
            ],
            "type": "surface"
           }
          ],
          "table": [
           {
            "cells": {
             "fill": {
              "color": "#EBF0F8"
             },
             "line": {
              "color": "white"
             }
            },
            "header": {
             "fill": {
              "color": "#C8D4E3"
             },
             "line": {
              "color": "white"
             }
            },
            "type": "table"
           }
          ]
         },
         "layout": {
          "annotationdefaults": {
           "arrowcolor": "#2a3f5f",
           "arrowhead": 0,
           "arrowwidth": 1
          },
          "autotypenumbers": "strict",
          "coloraxis": {
           "colorbar": {
            "outlinewidth": 0,
            "ticks": ""
           }
          },
          "colorscale": {
           "diverging": [
            [
             0,
             "#8e0152"
            ],
            [
             0.1,
             "#c51b7d"
            ],
            [
             0.2,
             "#de77ae"
            ],
            [
             0.3,
             "#f1b6da"
            ],
            [
             0.4,
             "#fde0ef"
            ],
            [
             0.5,
             "#f7f7f7"
            ],
            [
             0.6,
             "#e6f5d0"
            ],
            [
             0.7,
             "#b8e186"
            ],
            [
             0.8,
             "#7fbc41"
            ],
            [
             0.9,
             "#4d9221"
            ],
            [
             1,
             "#276419"
            ]
           ],
           "sequential": [
            [
             0,
             "#0d0887"
            ],
            [
             0.1111111111111111,
             "#46039f"
            ],
            [
             0.2222222222222222,
             "#7201a8"
            ],
            [
             0.3333333333333333,
             "#9c179e"
            ],
            [
             0.4444444444444444,
             "#bd3786"
            ],
            [
             0.5555555555555556,
             "#d8576b"
            ],
            [
             0.6666666666666666,
             "#ed7953"
            ],
            [
             0.7777777777777778,
             "#fb9f3a"
            ],
            [
             0.8888888888888888,
             "#fdca26"
            ],
            [
             1,
             "#f0f921"
            ]
           ],
           "sequentialminus": [
            [
             0,
             "#0d0887"
            ],
            [
             0.1111111111111111,
             "#46039f"
            ],
            [
             0.2222222222222222,
             "#7201a8"
            ],
            [
             0.3333333333333333,
             "#9c179e"
            ],
            [
             0.4444444444444444,
             "#bd3786"
            ],
            [
             0.5555555555555556,
             "#d8576b"
            ],
            [
             0.6666666666666666,
             "#ed7953"
            ],
            [
             0.7777777777777778,
             "#fb9f3a"
            ],
            [
             0.8888888888888888,
             "#fdca26"
            ],
            [
             1,
             "#f0f921"
            ]
           ]
          },
          "colorway": [
           "#636efa",
           "#EF553B",
           "#00cc96",
           "#ab63fa",
           "#FFA15A",
           "#19d3f3",
           "#FF6692",
           "#B6E880",
           "#FF97FF",
           "#FECB52"
          ],
          "font": {
           "color": "#2a3f5f"
          },
          "geo": {
           "bgcolor": "white",
           "lakecolor": "white",
           "landcolor": "#E5ECF6",
           "showlakes": true,
           "showland": true,
           "subunitcolor": "white"
          },
          "hoverlabel": {
           "align": "left"
          },
          "hovermode": "closest",
          "mapbox": {
           "style": "light"
          },
          "paper_bgcolor": "white",
          "plot_bgcolor": "#E5ECF6",
          "polar": {
           "angularaxis": {
            "gridcolor": "white",
            "linecolor": "white",
            "ticks": ""
           },
           "bgcolor": "#E5ECF6",
           "radialaxis": {
            "gridcolor": "white",
            "linecolor": "white",
            "ticks": ""
           }
          },
          "scene": {
           "xaxis": {
            "backgroundcolor": "#E5ECF6",
            "gridcolor": "white",
            "gridwidth": 2,
            "linecolor": "white",
            "showbackground": true,
            "ticks": "",
            "zerolinecolor": "white"
           },
           "yaxis": {
            "backgroundcolor": "#E5ECF6",
            "gridcolor": "white",
            "gridwidth": 2,
            "linecolor": "white",
            "showbackground": true,
            "ticks": "",
            "zerolinecolor": "white"
           },
           "zaxis": {
            "backgroundcolor": "#E5ECF6",
            "gridcolor": "white",
            "gridwidth": 2,
            "linecolor": "white",
            "showbackground": true,
            "ticks": "",
            "zerolinecolor": "white"
           }
          },
          "shapedefaults": {
           "line": {
            "color": "#2a3f5f"
           }
          },
          "ternary": {
           "aaxis": {
            "gridcolor": "white",
            "linecolor": "white",
            "ticks": ""
           },
           "baxis": {
            "gridcolor": "white",
            "linecolor": "white",
            "ticks": ""
           },
           "bgcolor": "#E5ECF6",
           "caxis": {
            "gridcolor": "white",
            "linecolor": "white",
            "ticks": ""
           }
          },
          "title": {
           "x": 0.05
          },
          "xaxis": {
           "automargin": true,
           "gridcolor": "white",
           "linecolor": "white",
           "ticks": "",
           "title": {
            "standoff": 15
           },
           "zerolinecolor": "white",
           "zerolinewidth": 2
          },
          "yaxis": {
           "automargin": true,
           "gridcolor": "white",
           "linecolor": "white",
           "ticks": "",
           "title": {
            "standoff": 15
           },
           "zerolinecolor": "white",
           "zerolinewidth": 2
          }
         }
        },
        "title": {
         "text": "Label: Naganadel"
        },
        "width": 500,
        "xaxis": {
         "anchor": "y",
         "domain": [
          0,
          1
         ],
         "showgrid": false,
         "showticklabels": false,
         "visible": false,
         "zeroline": false
        },
        "yaxis": {
         "anchor": "x",
         "domain": [
          0,
          1
         ],
         "showgrid": false,
         "showticklabels": false,
         "visible": false,
         "zeroline": false
        }
       }
      }
     },
     "metadata": {},
     "output_type": "display_data"
    }
   ],
   "source": [
    "for x, y in train_ds.take(1):\n",
    "    print(int(tf.argmax(tf.reshape(y[0], [-1, 1]), axis=0)))\n",
    "    plot_image(x[0], class_names[int(tf.argmax(tf.reshape(y[0], [-1, 1]), axis=0))], size=64)"
   ]
  },
  {
   "cell_type": "code",
   "execution_count": 11,
   "metadata": {},
   "outputs": [],
   "source": [
    "# map labels in train_ds to the column Label in types\n",
    "def map_labels(x, y):\n",
    "    y_onehot = tf.argmax(y, axis=1).numpy()\n",
    "    y_labels = np.zeros((len(y_onehot), 18))\n",
    "    for i in range(len(y_onehot)):\n",
    "        y_labels[i] = types.loc[y_onehot[i], 'Label']\n",
    "    y_label = np.insert(y_labels, 0, 1, axis=1)\n",
    "    y_label_tensor = tf.convert_to_tensor(y_label, dtype=tf.float32)\n",
    "    return x, y_label_tensor\n",
    "\n",
    "train_ds = train_ds.map(lambda x, y: tf.py_function(map_labels, [x, y], [tf.float32, tf.float32]))\n"
   ]
  },
  {
   "cell_type": "code",
   "execution_count": 12,
   "metadata": {},
   "outputs": [],
   "source": [
    "train_ds = prepare(train_ds, shuffle=True, augment=False, GAN=True)\n",
    "\n",
    "channels = 3\n",
    "input_shape = (width, height, channels)"
   ]
  },
  {
   "cell_type": "code",
   "execution_count": 13,
   "metadata": {},
   "outputs": [
    {
     "name": "stdout",
     "output_type": "stream",
     "text": [
      "tf.Tensor([1. 0. 0. 0. 0. 1. 0. 0. 0. 0. 0. 0. 0. 0. 0. 0. 0. 0. 0.], shape=(19,), dtype=float32)\n",
      "(64, 64, 3)\n"
     ]
    },
    {
     "data": {
      "application/vnd.plotly.v1+json": {
       "config": {
        "plotlyServerURL": "https://plot.ly"
       },
       "data": [
        {
         "hovertemplate": "x: %{x}<br>y: %{y}<br>color: [%{z[0]}, %{z[1]}, %{z[2]}]<extra></extra>",
         "name": "0",
         "source": "data:image/png;base64,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",
         "type": "image",
         "xaxis": "x",
         "yaxis": "y"
        }
       ],
       "layout": {
        "height": 350,
        "margin": {
         "l": 0,
         "t": 60
        },
        "shapes": [
         {
          "line": {
           "color": "black",
           "width": 2
          },
          "type": "rect",
          "x0": 0,
          "x1": 64,
          "xref": "x",
          "y0": 0,
          "y1": 64,
          "yref": "y"
         }
        ],
        "template": {
         "data": {
          "bar": [
           {
            "error_x": {
             "color": "#2a3f5f"
            },
            "error_y": {
             "color": "#2a3f5f"
            },
            "marker": {
             "line": {
              "color": "#E5ECF6",
              "width": 0.5
             },
             "pattern": {
              "fillmode": "overlay",
              "size": 10,
              "solidity": 0.2
             }
            },
            "type": "bar"
           }
          ],
          "barpolar": [
           {
            "marker": {
             "line": {
              "color": "#E5ECF6",
              "width": 0.5
             },
             "pattern": {
              "fillmode": "overlay",
              "size": 10,
              "solidity": 0.2
             }
            },
            "type": "barpolar"
           }
          ],
          "carpet": [
           {
            "aaxis": {
             "endlinecolor": "#2a3f5f",
             "gridcolor": "white",
             "linecolor": "white",
             "minorgridcolor": "white",
             "startlinecolor": "#2a3f5f"
            },
            "baxis": {
             "endlinecolor": "#2a3f5f",
             "gridcolor": "white",
             "linecolor": "white",
             "minorgridcolor": "white",
             "startlinecolor": "#2a3f5f"
            },
            "type": "carpet"
           }
          ],
          "choropleth": [
           {
            "colorbar": {
             "outlinewidth": 0,
             "ticks": ""
            },
            "type": "choropleth"
           }
          ],
          "contour": [
           {
            "colorbar": {
             "outlinewidth": 0,
             "ticks": ""
            },
            "colorscale": [
             [
              0,
              "#0d0887"
             ],
             [
              0.1111111111111111,
              "#46039f"
             ],
             [
              0.2222222222222222,
              "#7201a8"
             ],
             [
              0.3333333333333333,
              "#9c179e"
             ],
             [
              0.4444444444444444,
              "#bd3786"
             ],
             [
              0.5555555555555556,
              "#d8576b"
             ],
             [
              0.6666666666666666,
              "#ed7953"
             ],
             [
              0.7777777777777778,
              "#fb9f3a"
             ],
             [
              0.8888888888888888,
              "#fdca26"
             ],
             [
              1,
              "#f0f921"
             ]
            ],
            "type": "contour"
           }
          ],
          "contourcarpet": [
           {
            "colorbar": {
             "outlinewidth": 0,
             "ticks": ""
            },
            "type": "contourcarpet"
           }
          ],
          "heatmap": [
           {
            "colorbar": {
             "outlinewidth": 0,
             "ticks": ""
            },
            "colorscale": [
             [
              0,
              "#0d0887"
             ],
             [
              0.1111111111111111,
              "#46039f"
             ],
             [
              0.2222222222222222,
              "#7201a8"
             ],
             [
              0.3333333333333333,
              "#9c179e"
             ],
             [
              0.4444444444444444,
              "#bd3786"
             ],
             [
              0.5555555555555556,
              "#d8576b"
             ],
             [
              0.6666666666666666,
              "#ed7953"
             ],
             [
              0.7777777777777778,
              "#fb9f3a"
             ],
             [
              0.8888888888888888,
              "#fdca26"
             ],
             [
              1,
              "#f0f921"
             ]
            ],
            "type": "heatmap"
           }
          ],
          "heatmapgl": [
           {
            "colorbar": {
             "outlinewidth": 0,
             "ticks": ""
            },
            "colorscale": [
             [
              0,
              "#0d0887"
             ],
             [
              0.1111111111111111,
              "#46039f"
             ],
             [
              0.2222222222222222,
              "#7201a8"
             ],
             [
              0.3333333333333333,
              "#9c179e"
             ],
             [
              0.4444444444444444,
              "#bd3786"
             ],
             [
              0.5555555555555556,
              "#d8576b"
             ],
             [
              0.6666666666666666,
              "#ed7953"
             ],
             [
              0.7777777777777778,
              "#fb9f3a"
             ],
             [
              0.8888888888888888,
              "#fdca26"
             ],
             [
              1,
              "#f0f921"
             ]
            ],
            "type": "heatmapgl"
           }
          ],
          "histogram": [
           {
            "marker": {
             "pattern": {
              "fillmode": "overlay",
              "size": 10,
              "solidity": 0.2
             }
            },
            "type": "histogram"
           }
          ],
          "histogram2d": [
           {
            "colorbar": {
             "outlinewidth": 0,
             "ticks": ""
            },
            "colorscale": [
             [
              0,
              "#0d0887"
             ],
             [
              0.1111111111111111,
              "#46039f"
             ],
             [
              0.2222222222222222,
              "#7201a8"
             ],
             [
              0.3333333333333333,
              "#9c179e"
             ],
             [
              0.4444444444444444,
              "#bd3786"
             ],
             [
              0.5555555555555556,
              "#d8576b"
             ],
             [
              0.6666666666666666,
              "#ed7953"
             ],
             [
              0.7777777777777778,
              "#fb9f3a"
             ],
             [
              0.8888888888888888,
              "#fdca26"
             ],
             [
              1,
              "#f0f921"
             ]
            ],
            "type": "histogram2d"
           }
          ],
          "histogram2dcontour": [
           {
            "colorbar": {
             "outlinewidth": 0,
             "ticks": ""
            },
            "colorscale": [
             [
              0,
              "#0d0887"
             ],
             [
              0.1111111111111111,
              "#46039f"
             ],
             [
              0.2222222222222222,
              "#7201a8"
             ],
             [
              0.3333333333333333,
              "#9c179e"
             ],
             [
              0.4444444444444444,
              "#bd3786"
             ],
             [
              0.5555555555555556,
              "#d8576b"
             ],
             [
              0.6666666666666666,
              "#ed7953"
             ],
             [
              0.7777777777777778,
              "#fb9f3a"
             ],
             [
              0.8888888888888888,
              "#fdca26"
             ],
             [
              1,
              "#f0f921"
             ]
            ],
            "type": "histogram2dcontour"
           }
          ],
          "mesh3d": [
           {
            "colorbar": {
             "outlinewidth": 0,
             "ticks": ""
            },
            "type": "mesh3d"
           }
          ],
          "parcoords": [
           {
            "line": {
             "colorbar": {
              "outlinewidth": 0,
              "ticks": ""
             }
            },
            "type": "parcoords"
           }
          ],
          "pie": [
           {
            "automargin": true,
            "type": "pie"
           }
          ],
          "scatter": [
           {
            "fillpattern": {
             "fillmode": "overlay",
             "size": 10,
             "solidity": 0.2
            },
            "type": "scatter"
           }
          ],
          "scatter3d": [
           {
            "line": {
             "colorbar": {
              "outlinewidth": 0,
              "ticks": ""
             }
            },
            "marker": {
             "colorbar": {
              "outlinewidth": 0,
              "ticks": ""
             }
            },
            "type": "scatter3d"
           }
          ],
          "scattercarpet": [
           {
            "marker": {
             "colorbar": {
              "outlinewidth": 0,
              "ticks": ""
             }
            },
            "type": "scattercarpet"
           }
          ],
          "scattergeo": [
           {
            "marker": {
             "colorbar": {
              "outlinewidth": 0,
              "ticks": ""
             }
            },
            "type": "scattergeo"
           }
          ],
          "scattergl": [
           {
            "marker": {
             "colorbar": {
              "outlinewidth": 0,
              "ticks": ""
             }
            },
            "type": "scattergl"
           }
          ],
          "scattermapbox": [
           {
            "marker": {
             "colorbar": {
              "outlinewidth": 0,
              "ticks": ""
             }
            },
            "type": "scattermapbox"
           }
          ],
          "scatterpolar": [
           {
            "marker": {
             "colorbar": {
              "outlinewidth": 0,
              "ticks": ""
             }
            },
            "type": "scatterpolar"
           }
          ],
          "scatterpolargl": [
           {
            "marker": {
             "colorbar": {
              "outlinewidth": 0,
              "ticks": ""
             }
            },
            "type": "scatterpolargl"
           }
          ],
          "scatterternary": [
           {
            "marker": {
             "colorbar": {
              "outlinewidth": 0,
              "ticks": ""
             }
            },
            "type": "scatterternary"
           }
          ],
          "surface": [
           {
            "colorbar": {
             "outlinewidth": 0,
             "ticks": ""
            },
            "colorscale": [
             [
              0,
              "#0d0887"
             ],
             [
              0.1111111111111111,
              "#46039f"
             ],
             [
              0.2222222222222222,
              "#7201a8"
             ],
             [
              0.3333333333333333,
              "#9c179e"
             ],
             [
              0.4444444444444444,
              "#bd3786"
             ],
             [
              0.5555555555555556,
              "#d8576b"
             ],
             [
              0.6666666666666666,
              "#ed7953"
             ],
             [
              0.7777777777777778,
              "#fb9f3a"
             ],
             [
              0.8888888888888888,
              "#fdca26"
             ],
             [
              1,
              "#f0f921"
             ]
            ],
            "type": "surface"
           }
          ],
          "table": [
           {
            "cells": {
             "fill": {
              "color": "#EBF0F8"
             },
             "line": {
              "color": "white"
             }
            },
            "header": {
             "fill": {
              "color": "#C8D4E3"
             },
             "line": {
              "color": "white"
             }
            },
            "type": "table"
           }
          ]
         },
         "layout": {
          "annotationdefaults": {
           "arrowcolor": "#2a3f5f",
           "arrowhead": 0,
           "arrowwidth": 1
          },
          "autotypenumbers": "strict",
          "coloraxis": {
           "colorbar": {
            "outlinewidth": 0,
            "ticks": ""
           }
          },
          "colorscale": {
           "diverging": [
            [
             0,
             "#8e0152"
            ],
            [
             0.1,
             "#c51b7d"
            ],
            [
             0.2,
             "#de77ae"
            ],
            [
             0.3,
             "#f1b6da"
            ],
            [
             0.4,
             "#fde0ef"
            ],
            [
             0.5,
             "#f7f7f7"
            ],
            [
             0.6,
             "#e6f5d0"
            ],
            [
             0.7,
             "#b8e186"
            ],
            [
             0.8,
             "#7fbc41"
            ],
            [
             0.9,
             "#4d9221"
            ],
            [
             1,
             "#276419"
            ]
           ],
           "sequential": [
            [
             0,
             "#0d0887"
            ],
            [
             0.1111111111111111,
             "#46039f"
            ],
            [
             0.2222222222222222,
             "#7201a8"
            ],
            [
             0.3333333333333333,
             "#9c179e"
            ],
            [
             0.4444444444444444,
             "#bd3786"
            ],
            [
             0.5555555555555556,
             "#d8576b"
            ],
            [
             0.6666666666666666,
             "#ed7953"
            ],
            [
             0.7777777777777778,
             "#fb9f3a"
            ],
            [
             0.8888888888888888,
             "#fdca26"
            ],
            [
             1,
             "#f0f921"
            ]
           ],
           "sequentialminus": [
            [
             0,
             "#0d0887"
            ],
            [
             0.1111111111111111,
             "#46039f"
            ],
            [
             0.2222222222222222,
             "#7201a8"
            ],
            [
             0.3333333333333333,
             "#9c179e"
            ],
            [
             0.4444444444444444,
             "#bd3786"
            ],
            [
             0.5555555555555556,
             "#d8576b"
            ],
            [
             0.6666666666666666,
             "#ed7953"
            ],
            [
             0.7777777777777778,
             "#fb9f3a"
            ],
            [
             0.8888888888888888,
             "#fdca26"
            ],
            [
             1,
             "#f0f921"
            ]
           ]
          },
          "colorway": [
           "#636efa",
           "#EF553B",
           "#00cc96",
           "#ab63fa",
           "#FFA15A",
           "#19d3f3",
           "#FF6692",
           "#B6E880",
           "#FF97FF",
           "#FECB52"
          ],
          "font": {
           "color": "#2a3f5f"
          },
          "geo": {
           "bgcolor": "white",
           "lakecolor": "white",
           "landcolor": "#E5ECF6",
           "showlakes": true,
           "showland": true,
           "subunitcolor": "white"
          },
          "hoverlabel": {
           "align": "left"
          },
          "hovermode": "closest",
          "mapbox": {
           "style": "light"
          },
          "paper_bgcolor": "white",
          "plot_bgcolor": "#E5ECF6",
          "polar": {
           "angularaxis": {
            "gridcolor": "white",
            "linecolor": "white",
            "ticks": ""
           },
           "bgcolor": "#E5ECF6",
           "radialaxis": {
            "gridcolor": "white",
            "linecolor": "white",
            "ticks": ""
           }
          },
          "scene": {
           "xaxis": {
            "backgroundcolor": "#E5ECF6",
            "gridcolor": "white",
            "gridwidth": 2,
            "linecolor": "white",
            "showbackground": true,
            "ticks": "",
            "zerolinecolor": "white"
           },
           "yaxis": {
            "backgroundcolor": "#E5ECF6",
            "gridcolor": "white",
            "gridwidth": 2,
            "linecolor": "white",
            "showbackground": true,
            "ticks": "",
            "zerolinecolor": "white"
           },
           "zaxis": {
            "backgroundcolor": "#E5ECF6",
            "gridcolor": "white",
            "gridwidth": 2,
            "linecolor": "white",
            "showbackground": true,
            "ticks": "",
            "zerolinecolor": "white"
           }
          },
          "shapedefaults": {
           "line": {
            "color": "#2a3f5f"
           }
          },
          "ternary": {
           "aaxis": {
            "gridcolor": "white",
            "linecolor": "white",
            "ticks": ""
           },
           "baxis": {
            "gridcolor": "white",
            "linecolor": "white",
            "ticks": ""
           },
           "bgcolor": "#E5ECF6",
           "caxis": {
            "gridcolor": "white",
            "linecolor": "white",
            "ticks": ""
           }
          },
          "title": {
           "x": 0.05
          },
          "xaxis": {
           "automargin": true,
           "gridcolor": "white",
           "linecolor": "white",
           "ticks": "",
           "title": {
            "standoff": 15
           },
           "zerolinecolor": "white",
           "zerolinewidth": 2
          },
          "yaxis": {
           "automargin": true,
           "gridcolor": "white",
           "linecolor": "white",
           "ticks": "",
           "title": {
            "standoff": 15
           },
           "zerolinecolor": "white",
           "zerolinewidth": 2
          }
         }
        },
        "title": {
         "text": "Label: Abomasnow"
        },
        "width": 500,
        "xaxis": {
         "anchor": "y",
         "domain": [
          0,
          1
         ],
         "showgrid": false,
         "showticklabels": false,
         "visible": false,
         "zeroline": false
        },
        "yaxis": {
         "anchor": "x",
         "domain": [
          0,
          1
         ],
         "showgrid": false,
         "showticklabels": false,
         "visible": false,
         "zeroline": false
        }
       }
      }
     },
     "metadata": {},
     "output_type": "display_data"
    },
    {
     "name": "stdout",
     "output_type": "stream",
     "text": [
      "tf.Tensor([1. 0. 0. 0. 0. 0. 0. 0. 0. 0. 0. 0. 0. 1. 0. 0. 1. 0. 0.], shape=(19,), dtype=float32)\n",
      "(64, 64, 3)\n"
     ]
    },
    {
     "data": {
      "application/vnd.plotly.v1+json": {
       "config": {
        "plotlyServerURL": "https://plot.ly"
       },
       "data": [
        {
         "hovertemplate": "x: %{x}<br>y: %{y}<br>color: [%{z[0]}, %{z[1]}, %{z[2]}]<extra></extra>",
         "name": "0",
         "source": "data:image/png;base64,iVBORw0KGgoAAAANSUhEUgAAAEAAAABACAIAAAAlC+aJAAAFFUlEQVR4Xu2Yy28bVRSHz52HX4lN4trN2+4jJG3aAGlCaVqU0EcWReoadQFFZYcqlS66QkJiBWv+BNgiIZCQkGhaFURTQZtSCg1N3aQhqRK3CXZsj8cz9845LBzS6KpIfoxlKvnbWD6/c4/m052HPYyI4HlGkQvPGw2BetMQqDcNgXrTEKg3DYF60xCoNw2B/2Z0eLdcqgE1FGhrCculGlArgeHBuHB4RyQkB25TK4Hd7VEk3hxslgO3qZWAgWgU0K+iHLhNrQQQkdscseZ/uGslkDctm3NLOHLgNszFtxLHxvuNtNmyLRQM+G1LcC4YU4y8ZXNranpe7nYJ1wTeOX1IZZrDRb6AjiB00EEszmYMCVgqnbl2Y05eVjUuCJw9PRxQvBkLuEAuEB1wHCQiJCBCICAghaECpDKRNcSlqfvyiCqoSuDUqZFYWzCXs7hFQjDHQURCIiQCIiIgJABCQiJiAADEgAo2v3ztT3lWpVQu8N7bY7pHNzIm5+RwEIhEtDmQiAipyMYnIgExAMYAVOW7y7fliRVRocC5Mye4EDmTC47CIUQiBkAAAE8F/gURiBCRaGNTCBBBdy5dnZXGVkCFAkX2DezYFvTresjvDSpKhtt5IAQGmurTFL3gFBgwFVSOTtEkbxq6pqlMJQaAhAKv3LgnDy2TqgQ2+eL7P76eSx4PNzFAr0cHVZm4N2QBW4w+KfSSo6OqaqrumZz86tMPzgDA4QMDedP8dcaFe6s7D7Kl+bnbE8dUXdd1VdFYyPFrHDwMzqdn3p/8lluGbWZtOzc7s3H/uTZ915WjB7d2AADOf35lb3RbgNCja3sSnWHRxCJ0sWf2waPsRz1dik8JtAaP7myVl1WNJhcqZaijjSmKV1GIRPvfwXS8ECr43/o5oo1HFURd1/66Nw81EHDnFAKAdycGHs7caQq1eAOBbNDufuTTFjXPS6qmaqrHu/Rw6ZOL5+Q1buDaKbTJ+Y8/e/HVwTcmt2eEr3AWpi5/8+GFC3KTe7gjcOTQgMoLHu8LTNNN20LTMjLZjMh0dHah5r/+063jR/baNv/xl4S8smoqFDg4FG8NBgJePfnEylk8lctzDisrKwDw5vg+S6Bt43o6t7rOUVFafNAXazMt2+Lih2k3fwhBBQJjw70d7aFb95fBAdOwF1fWtqYH9nX37Y4bpoVItsUZiUzGuH5noZj298fi8da1NX7z5t2tq6qhPIET40OryZVc1kw8SssZAAAcHuwTKjYFfExj2SzXABk5j1PZxMLjzZ6ezsjIQGx5bd3mYvr3DbfKKT7kS+HkyZFdu1p72pvl4FkMDsai0ahc3cIr+3tPnRiSq+VT6g6MHexPraYNIzeXNOSsUnZ2bB/ui3x5tarTqaTnQEvIL2wOhHNJ47WXXXvfNr/8+PZiav/eLjkoh5IEunrCqXQuX7CPvb7H79PHRvpHB2NyU0Xcn1ve2Vt7gc5w2OPXmKKuJrOAhIBetaSFz2R0dODo0f2bXzUz393dvSUvj5KOI5fORaPhpoCnJRhwEAFpMZWTm0ojHtve1uRH8fTCs/iWuHxKEpi6M59ILAWa/YIQkQTHBwurclNp9O7o4EQqqJsVj+7dkpdNqXehInt2dTAGMw+W5aAcJiZGeDbnIOq64tO9S0vrvyUeyk0lU56AK0TCob6eCHdEvmAjp5mFpNxRDnUQcJeSroH/Mw2BetMQqDcNgXrTEKg3DYF60xCoNw2BevMPyIxLP9u78UEAAAAASUVORK5CYII=",
         "type": "image",
         "xaxis": "x",
         "yaxis": "y"
        }
       ],
       "layout": {
        "height": 350,
        "margin": {
         "l": 0,
         "t": 60
        },
        "shapes": [
         {
          "line": {
           "color": "black",
           "width": 2
          },
          "type": "rect",
          "x0": 0,
          "x1": 64,
          "xref": "x",
          "y0": 0,
          "y1": 64,
          "yref": "y"
         }
        ],
        "template": {
         "data": {
          "bar": [
           {
            "error_x": {
             "color": "#2a3f5f"
            },
            "error_y": {
             "color": "#2a3f5f"
            },
            "marker": {
             "line": {
              "color": "#E5ECF6",
              "width": 0.5
             },
             "pattern": {
              "fillmode": "overlay",
              "size": 10,
              "solidity": 0.2
             }
            },
            "type": "bar"
           }
          ],
          "barpolar": [
           {
            "marker": {
             "line": {
              "color": "#E5ECF6",
              "width": 0.5
             },
             "pattern": {
              "fillmode": "overlay",
              "size": 10,
              "solidity": 0.2
             }
            },
            "type": "barpolar"
           }
          ],
          "carpet": [
           {
            "aaxis": {
             "endlinecolor": "#2a3f5f",
             "gridcolor": "white",
             "linecolor": "white",
             "minorgridcolor": "white",
             "startlinecolor": "#2a3f5f"
            },
            "baxis": {
             "endlinecolor": "#2a3f5f",
             "gridcolor": "white",
             "linecolor": "white",
             "minorgridcolor": "white",
             "startlinecolor": "#2a3f5f"
            },
            "type": "carpet"
           }
          ],
          "choropleth": [
           {
            "colorbar": {
             "outlinewidth": 0,
             "ticks": ""
            },
            "type": "choropleth"
           }
          ],
          "contour": [
           {
            "colorbar": {
             "outlinewidth": 0,
             "ticks": ""
            },
            "colorscale": [
             [
              0,
              "#0d0887"
             ],
             [
              0.1111111111111111,
              "#46039f"
             ],
             [
              0.2222222222222222,
              "#7201a8"
             ],
             [
              0.3333333333333333,
              "#9c179e"
             ],
             [
              0.4444444444444444,
              "#bd3786"
             ],
             [
              0.5555555555555556,
              "#d8576b"
             ],
             [
              0.6666666666666666,
              "#ed7953"
             ],
             [
              0.7777777777777778,
              "#fb9f3a"
             ],
             [
              0.8888888888888888,
              "#fdca26"
             ],
             [
              1,
              "#f0f921"
             ]
            ],
            "type": "contour"
           }
          ],
          "contourcarpet": [
           {
            "colorbar": {
             "outlinewidth": 0,
             "ticks": ""
            },
            "type": "contourcarpet"
           }
          ],
          "heatmap": [
           {
            "colorbar": {
             "outlinewidth": 0,
             "ticks": ""
            },
            "colorscale": [
             [
              0,
              "#0d0887"
             ],
             [
              0.1111111111111111,
              "#46039f"
             ],
             [
              0.2222222222222222,
              "#7201a8"
             ],
             [
              0.3333333333333333,
              "#9c179e"
             ],
             [
              0.4444444444444444,
              "#bd3786"
             ],
             [
              0.5555555555555556,
              "#d8576b"
             ],
             [
              0.6666666666666666,
              "#ed7953"
             ],
             [
              0.7777777777777778,
              "#fb9f3a"
             ],
             [
              0.8888888888888888,
              "#fdca26"
             ],
             [
              1,
              "#f0f921"
             ]
            ],
            "type": "heatmap"
           }
          ],
          "heatmapgl": [
           {
            "colorbar": {
             "outlinewidth": 0,
             "ticks": ""
            },
            "colorscale": [
             [
              0,
              "#0d0887"
             ],
             [
              0.1111111111111111,
              "#46039f"
             ],
             [
              0.2222222222222222,
              "#7201a8"
             ],
             [
              0.3333333333333333,
              "#9c179e"
             ],
             [
              0.4444444444444444,
              "#bd3786"
             ],
             [
              0.5555555555555556,
              "#d8576b"
             ],
             [
              0.6666666666666666,
              "#ed7953"
             ],
             [
              0.7777777777777778,
              "#fb9f3a"
             ],
             [
              0.8888888888888888,
              "#fdca26"
             ],
             [
              1,
              "#f0f921"
             ]
            ],
            "type": "heatmapgl"
           }
          ],
          "histogram": [
           {
            "marker": {
             "pattern": {
              "fillmode": "overlay",
              "size": 10,
              "solidity": 0.2
             }
            },
            "type": "histogram"
           }
          ],
          "histogram2d": [
           {
            "colorbar": {
             "outlinewidth": 0,
             "ticks": ""
            },
            "colorscale": [
             [
              0,
              "#0d0887"
             ],
             [
              0.1111111111111111,
              "#46039f"
             ],
             [
              0.2222222222222222,
              "#7201a8"
             ],
             [
              0.3333333333333333,
              "#9c179e"
             ],
             [
              0.4444444444444444,
              "#bd3786"
             ],
             [
              0.5555555555555556,
              "#d8576b"
             ],
             [
              0.6666666666666666,
              "#ed7953"
             ],
             [
              0.7777777777777778,
              "#fb9f3a"
             ],
             [
              0.8888888888888888,
              "#fdca26"
             ],
             [
              1,
              "#f0f921"
             ]
            ],
            "type": "histogram2d"
           }
          ],
          "histogram2dcontour": [
           {
            "colorbar": {
             "outlinewidth": 0,
             "ticks": ""
            },
            "colorscale": [
             [
              0,
              "#0d0887"
             ],
             [
              0.1111111111111111,
              "#46039f"
             ],
             [
              0.2222222222222222,
              "#7201a8"
             ],
             [
              0.3333333333333333,
              "#9c179e"
             ],
             [
              0.4444444444444444,
              "#bd3786"
             ],
             [
              0.5555555555555556,
              "#d8576b"
             ],
             [
              0.6666666666666666,
              "#ed7953"
             ],
             [
              0.7777777777777778,
              "#fb9f3a"
             ],
             [
              0.8888888888888888,
              "#fdca26"
             ],
             [
              1,
              "#f0f921"
             ]
            ],
            "type": "histogram2dcontour"
           }
          ],
          "mesh3d": [
           {
            "colorbar": {
             "outlinewidth": 0,
             "ticks": ""
            },
            "type": "mesh3d"
           }
          ],
          "parcoords": [
           {
            "line": {
             "colorbar": {
              "outlinewidth": 0,
              "ticks": ""
             }
            },
            "type": "parcoords"
           }
          ],
          "pie": [
           {
            "automargin": true,
            "type": "pie"
           }
          ],
          "scatter": [
           {
            "fillpattern": {
             "fillmode": "overlay",
             "size": 10,
             "solidity": 0.2
            },
            "type": "scatter"
           }
          ],
          "scatter3d": [
           {
            "line": {
             "colorbar": {
              "outlinewidth": 0,
              "ticks": ""
             }
            },
            "marker": {
             "colorbar": {
              "outlinewidth": 0,
              "ticks": ""
             }
            },
            "type": "scatter3d"
           }
          ],
          "scattercarpet": [
           {
            "marker": {
             "colorbar": {
              "outlinewidth": 0,
              "ticks": ""
             }
            },
            "type": "scattercarpet"
           }
          ],
          "scattergeo": [
           {
            "marker": {
             "colorbar": {
              "outlinewidth": 0,
              "ticks": ""
             }
            },
            "type": "scattergeo"
           }
          ],
          "scattergl": [
           {
            "marker": {
             "colorbar": {
              "outlinewidth": 0,
              "ticks": ""
             }
            },
            "type": "scattergl"
           }
          ],
          "scattermapbox": [
           {
            "marker": {
             "colorbar": {
              "outlinewidth": 0,
              "ticks": ""
             }
            },
            "type": "scattermapbox"
           }
          ],
          "scatterpolar": [
           {
            "marker": {
             "colorbar": {
              "outlinewidth": 0,
              "ticks": ""
             }
            },
            "type": "scatterpolar"
           }
          ],
          "scatterpolargl": [
           {
            "marker": {
             "colorbar": {
              "outlinewidth": 0,
              "ticks": ""
             }
            },
            "type": "scatterpolargl"
           }
          ],
          "scatterternary": [
           {
            "marker": {
             "colorbar": {
              "outlinewidth": 0,
              "ticks": ""
             }
            },
            "type": "scatterternary"
           }
          ],
          "surface": [
           {
            "colorbar": {
             "outlinewidth": 0,
             "ticks": ""
            },
            "colorscale": [
             [
              0,
              "#0d0887"
             ],
             [
              0.1111111111111111,
              "#46039f"
             ],
             [
              0.2222222222222222,
              "#7201a8"
             ],
             [
              0.3333333333333333,
              "#9c179e"
             ],
             [
              0.4444444444444444,
              "#bd3786"
             ],
             [
              0.5555555555555556,
              "#d8576b"
             ],
             [
              0.6666666666666666,
              "#ed7953"
             ],
             [
              0.7777777777777778,
              "#fb9f3a"
             ],
             [
              0.8888888888888888,
              "#fdca26"
             ],
             [
              1,
              "#f0f921"
             ]
            ],
            "type": "surface"
           }
          ],
          "table": [
           {
            "cells": {
             "fill": {
              "color": "#EBF0F8"
             },
             "line": {
              "color": "white"
             }
            },
            "header": {
             "fill": {
              "color": "#C8D4E3"
             },
             "line": {
              "color": "white"
             }
            },
            "type": "table"
           }
          ]
         },
         "layout": {
          "annotationdefaults": {
           "arrowcolor": "#2a3f5f",
           "arrowhead": 0,
           "arrowwidth": 1
          },
          "autotypenumbers": "strict",
          "coloraxis": {
           "colorbar": {
            "outlinewidth": 0,
            "ticks": ""
           }
          },
          "colorscale": {
           "diverging": [
            [
             0,
             "#8e0152"
            ],
            [
             0.1,
             "#c51b7d"
            ],
            [
             0.2,
             "#de77ae"
            ],
            [
             0.3,
             "#f1b6da"
            ],
            [
             0.4,
             "#fde0ef"
            ],
            [
             0.5,
             "#f7f7f7"
            ],
            [
             0.6,
             "#e6f5d0"
            ],
            [
             0.7,
             "#b8e186"
            ],
            [
             0.8,
             "#7fbc41"
            ],
            [
             0.9,
             "#4d9221"
            ],
            [
             1,
             "#276419"
            ]
           ],
           "sequential": [
            [
             0,
             "#0d0887"
            ],
            [
             0.1111111111111111,
             "#46039f"
            ],
            [
             0.2222222222222222,
             "#7201a8"
            ],
            [
             0.3333333333333333,
             "#9c179e"
            ],
            [
             0.4444444444444444,
             "#bd3786"
            ],
            [
             0.5555555555555556,
             "#d8576b"
            ],
            [
             0.6666666666666666,
             "#ed7953"
            ],
            [
             0.7777777777777778,
             "#fb9f3a"
            ],
            [
             0.8888888888888888,
             "#fdca26"
            ],
            [
             1,
             "#f0f921"
            ]
           ],
           "sequentialminus": [
            [
             0,
             "#0d0887"
            ],
            [
             0.1111111111111111,
             "#46039f"
            ],
            [
             0.2222222222222222,
             "#7201a8"
            ],
            [
             0.3333333333333333,
             "#9c179e"
            ],
            [
             0.4444444444444444,
             "#bd3786"
            ],
            [
             0.5555555555555556,
             "#d8576b"
            ],
            [
             0.6666666666666666,
             "#ed7953"
            ],
            [
             0.7777777777777778,
             "#fb9f3a"
            ],
            [
             0.8888888888888888,
             "#fdca26"
            ],
            [
             1,
             "#f0f921"
            ]
           ]
          },
          "colorway": [
           "#636efa",
           "#EF553B",
           "#00cc96",
           "#ab63fa",
           "#FFA15A",
           "#19d3f3",
           "#FF6692",
           "#B6E880",
           "#FF97FF",
           "#FECB52"
          ],
          "font": {
           "color": "#2a3f5f"
          },
          "geo": {
           "bgcolor": "white",
           "lakecolor": "white",
           "landcolor": "#E5ECF6",
           "showlakes": true,
           "showland": true,
           "subunitcolor": "white"
          },
          "hoverlabel": {
           "align": "left"
          },
          "hovermode": "closest",
          "mapbox": {
           "style": "light"
          },
          "paper_bgcolor": "white",
          "plot_bgcolor": "#E5ECF6",
          "polar": {
           "angularaxis": {
            "gridcolor": "white",
            "linecolor": "white",
            "ticks": ""
           },
           "bgcolor": "#E5ECF6",
           "radialaxis": {
            "gridcolor": "white",
            "linecolor": "white",
            "ticks": ""
           }
          },
          "scene": {
           "xaxis": {
            "backgroundcolor": "#E5ECF6",
            "gridcolor": "white",
            "gridwidth": 2,
            "linecolor": "white",
            "showbackground": true,
            "ticks": "",
            "zerolinecolor": "white"
           },
           "yaxis": {
            "backgroundcolor": "#E5ECF6",
            "gridcolor": "white",
            "gridwidth": 2,
            "linecolor": "white",
            "showbackground": true,
            "ticks": "",
            "zerolinecolor": "white"
           },
           "zaxis": {
            "backgroundcolor": "#E5ECF6",
            "gridcolor": "white",
            "gridwidth": 2,
            "linecolor": "white",
            "showbackground": true,
            "ticks": "",
            "zerolinecolor": "white"
           }
          },
          "shapedefaults": {
           "line": {
            "color": "#2a3f5f"
           }
          },
          "ternary": {
           "aaxis": {
            "gridcolor": "white",
            "linecolor": "white",
            "ticks": ""
           },
           "baxis": {
            "gridcolor": "white",
            "linecolor": "white",
            "ticks": ""
           },
           "bgcolor": "#E5ECF6",
           "caxis": {
            "gridcolor": "white",
            "linecolor": "white",
            "ticks": ""
           }
          },
          "title": {
           "x": 0.05
          },
          "xaxis": {
           "automargin": true,
           "gridcolor": "white",
           "linecolor": "white",
           "ticks": "",
           "title": {
            "standoff": 15
           },
           "zerolinecolor": "white",
           "zerolinewidth": 2
          },
          "yaxis": {
           "automargin": true,
           "gridcolor": "white",
           "linecolor": "white",
           "ticks": "",
           "title": {
            "standoff": 15
           },
           "zerolinecolor": "white",
           "zerolinewidth": 2
          }
         }
        },
        "title": {
         "text": "Label: Abomasnow"
        },
        "width": 500,
        "xaxis": {
         "anchor": "y",
         "domain": [
          0,
          1
         ],
         "showgrid": false,
         "showticklabels": false,
         "visible": false,
         "zeroline": false
        },
        "yaxis": {
         "anchor": "x",
         "domain": [
          0,
          1
         ],
         "showgrid": false,
         "showticklabels": false,
         "visible": false,
         "zeroline": false
        }
       }
      }
     },
     "metadata": {},
     "output_type": "display_data"
    },
    {
     "name": "stdout",
     "output_type": "stream",
     "text": [
      "tf.Tensor([1. 0. 0. 0. 0. 0. 0. 0. 0. 0. 0. 0. 0. 1. 0. 0. 0. 1. 0.], shape=(19,), dtype=float32)\n",
      "(64, 64, 3)\n"
     ]
    },
    {
     "data": {
      "application/vnd.plotly.v1+json": {
       "config": {
        "plotlyServerURL": "https://plot.ly"
       },
       "data": [
        {
         "hovertemplate": "x: %{x}<br>y: %{y}<br>color: [%{z[0]}, %{z[1]}, %{z[2]}]<extra></extra>",
         "name": "0",
         "source": "data:image/png;base64,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",
         "type": "image",
         "xaxis": "x",
         "yaxis": "y"
        }
       ],
       "layout": {
        "height": 350,
        "margin": {
         "l": 0,
         "t": 60
        },
        "shapes": [
         {
          "line": {
           "color": "black",
           "width": 2
          },
          "type": "rect",
          "x0": 0,
          "x1": 64,
          "xref": "x",
          "y0": 0,
          "y1": 64,
          "yref": "y"
         }
        ],
        "template": {
         "data": {
          "bar": [
           {
            "error_x": {
             "color": "#2a3f5f"
            },
            "error_y": {
             "color": "#2a3f5f"
            },
            "marker": {
             "line": {
              "color": "#E5ECF6",
              "width": 0.5
             },
             "pattern": {
              "fillmode": "overlay",
              "size": 10,
              "solidity": 0.2
             }
            },
            "type": "bar"
           }
          ],
          "barpolar": [
           {
            "marker": {
             "line": {
              "color": "#E5ECF6",
              "width": 0.5
             },
             "pattern": {
              "fillmode": "overlay",
              "size": 10,
              "solidity": 0.2
             }
            },
            "type": "barpolar"
           }
          ],
          "carpet": [
           {
            "aaxis": {
             "endlinecolor": "#2a3f5f",
             "gridcolor": "white",
             "linecolor": "white",
             "minorgridcolor": "white",
             "startlinecolor": "#2a3f5f"
            },
            "baxis": {
             "endlinecolor": "#2a3f5f",
             "gridcolor": "white",
             "linecolor": "white",
             "minorgridcolor": "white",
             "startlinecolor": "#2a3f5f"
            },
            "type": "carpet"
           }
          ],
          "choropleth": [
           {
            "colorbar": {
             "outlinewidth": 0,
             "ticks": ""
            },
            "type": "choropleth"
           }
          ],
          "contour": [
           {
            "colorbar": {
             "outlinewidth": 0,
             "ticks": ""
            },
            "colorscale": [
             [
              0,
              "#0d0887"
             ],
             [
              0.1111111111111111,
              "#46039f"
             ],
             [
              0.2222222222222222,
              "#7201a8"
             ],
             [
              0.3333333333333333,
              "#9c179e"
             ],
             [
              0.4444444444444444,
              "#bd3786"
             ],
             [
              0.5555555555555556,
              "#d8576b"
             ],
             [
              0.6666666666666666,
              "#ed7953"
             ],
             [
              0.7777777777777778,
              "#fb9f3a"
             ],
             [
              0.8888888888888888,
              "#fdca26"
             ],
             [
              1,
              "#f0f921"
             ]
            ],
            "type": "contour"
           }
          ],
          "contourcarpet": [
           {
            "colorbar": {
             "outlinewidth": 0,
             "ticks": ""
            },
            "type": "contourcarpet"
           }
          ],
          "heatmap": [
           {
            "colorbar": {
             "outlinewidth": 0,
             "ticks": ""
            },
            "colorscale": [
             [
              0,
              "#0d0887"
             ],
             [
              0.1111111111111111,
              "#46039f"
             ],
             [
              0.2222222222222222,
              "#7201a8"
             ],
             [
              0.3333333333333333,
              "#9c179e"
             ],
             [
              0.4444444444444444,
              "#bd3786"
             ],
             [
              0.5555555555555556,
              "#d8576b"
             ],
             [
              0.6666666666666666,
              "#ed7953"
             ],
             [
              0.7777777777777778,
              "#fb9f3a"
             ],
             [
              0.8888888888888888,
              "#fdca26"
             ],
             [
              1,
              "#f0f921"
             ]
            ],
            "type": "heatmap"
           }
          ],
          "heatmapgl": [
           {
            "colorbar": {
             "outlinewidth": 0,
             "ticks": ""
            },
            "colorscale": [
             [
              0,
              "#0d0887"
             ],
             [
              0.1111111111111111,
              "#46039f"
             ],
             [
              0.2222222222222222,
              "#7201a8"
             ],
             [
              0.3333333333333333,
              "#9c179e"
             ],
             [
              0.4444444444444444,
              "#bd3786"
             ],
             [
              0.5555555555555556,
              "#d8576b"
             ],
             [
              0.6666666666666666,
              "#ed7953"
             ],
             [
              0.7777777777777778,
              "#fb9f3a"
             ],
             [
              0.8888888888888888,
              "#fdca26"
             ],
             [
              1,
              "#f0f921"
             ]
            ],
            "type": "heatmapgl"
           }
          ],
          "histogram": [
           {
            "marker": {
             "pattern": {
              "fillmode": "overlay",
              "size": 10,
              "solidity": 0.2
             }
            },
            "type": "histogram"
           }
          ],
          "histogram2d": [
           {
            "colorbar": {
             "outlinewidth": 0,
             "ticks": ""
            },
            "colorscale": [
             [
              0,
              "#0d0887"
             ],
             [
              0.1111111111111111,
              "#46039f"
             ],
             [
              0.2222222222222222,
              "#7201a8"
             ],
             [
              0.3333333333333333,
              "#9c179e"
             ],
             [
              0.4444444444444444,
              "#bd3786"
             ],
             [
              0.5555555555555556,
              "#d8576b"
             ],
             [
              0.6666666666666666,
              "#ed7953"
             ],
             [
              0.7777777777777778,
              "#fb9f3a"
             ],
             [
              0.8888888888888888,
              "#fdca26"
             ],
             [
              1,
              "#f0f921"
             ]
            ],
            "type": "histogram2d"
           }
          ],
          "histogram2dcontour": [
           {
            "colorbar": {
             "outlinewidth": 0,
             "ticks": ""
            },
            "colorscale": [
             [
              0,
              "#0d0887"
             ],
             [
              0.1111111111111111,
              "#46039f"
             ],
             [
              0.2222222222222222,
              "#7201a8"
             ],
             [
              0.3333333333333333,
              "#9c179e"
             ],
             [
              0.4444444444444444,
              "#bd3786"
             ],
             [
              0.5555555555555556,
              "#d8576b"
             ],
             [
              0.6666666666666666,
              "#ed7953"
             ],
             [
              0.7777777777777778,
              "#fb9f3a"
             ],
             [
              0.8888888888888888,
              "#fdca26"
             ],
             [
              1,
              "#f0f921"
             ]
            ],
            "type": "histogram2dcontour"
           }
          ],
          "mesh3d": [
           {
            "colorbar": {
             "outlinewidth": 0,
             "ticks": ""
            },
            "type": "mesh3d"
           }
          ],
          "parcoords": [
           {
            "line": {
             "colorbar": {
              "outlinewidth": 0,
              "ticks": ""
             }
            },
            "type": "parcoords"
           }
          ],
          "pie": [
           {
            "automargin": true,
            "type": "pie"
           }
          ],
          "scatter": [
           {
            "fillpattern": {
             "fillmode": "overlay",
             "size": 10,
             "solidity": 0.2
            },
            "type": "scatter"
           }
          ],
          "scatter3d": [
           {
            "line": {
             "colorbar": {
              "outlinewidth": 0,
              "ticks": ""
             }
            },
            "marker": {
             "colorbar": {
              "outlinewidth": 0,
              "ticks": ""
             }
            },
            "type": "scatter3d"
           }
          ],
          "scattercarpet": [
           {
            "marker": {
             "colorbar": {
              "outlinewidth": 0,
              "ticks": ""
             }
            },
            "type": "scattercarpet"
           }
          ],
          "scattergeo": [
           {
            "marker": {
             "colorbar": {
              "outlinewidth": 0,
              "ticks": ""
             }
            },
            "type": "scattergeo"
           }
          ],
          "scattergl": [
           {
            "marker": {
             "colorbar": {
              "outlinewidth": 0,
              "ticks": ""
             }
            },
            "type": "scattergl"
           }
          ],
          "scattermapbox": [
           {
            "marker": {
             "colorbar": {
              "outlinewidth": 0,
              "ticks": ""
             }
            },
            "type": "scattermapbox"
           }
          ],
          "scatterpolar": [
           {
            "marker": {
             "colorbar": {
              "outlinewidth": 0,
              "ticks": ""
             }
            },
            "type": "scatterpolar"
           }
          ],
          "scatterpolargl": [
           {
            "marker": {
             "colorbar": {
              "outlinewidth": 0,
              "ticks": ""
             }
            },
            "type": "scatterpolargl"
           }
          ],
          "scatterternary": [
           {
            "marker": {
             "colorbar": {
              "outlinewidth": 0,
              "ticks": ""
             }
            },
            "type": "scatterternary"
           }
          ],
          "surface": [
           {
            "colorbar": {
             "outlinewidth": 0,
             "ticks": ""
            },
            "colorscale": [
             [
              0,
              "#0d0887"
             ],
             [
              0.1111111111111111,
              "#46039f"
             ],
             [
              0.2222222222222222,
              "#7201a8"
             ],
             [
              0.3333333333333333,
              "#9c179e"
             ],
             [
              0.4444444444444444,
              "#bd3786"
             ],
             [
              0.5555555555555556,
              "#d8576b"
             ],
             [
              0.6666666666666666,
              "#ed7953"
             ],
             [
              0.7777777777777778,
              "#fb9f3a"
             ],
             [
              0.8888888888888888,
              "#fdca26"
             ],
             [
              1,
              "#f0f921"
             ]
            ],
            "type": "surface"
           }
          ],
          "table": [
           {
            "cells": {
             "fill": {
              "color": "#EBF0F8"
             },
             "line": {
              "color": "white"
             }
            },
            "header": {
             "fill": {
              "color": "#C8D4E3"
             },
             "line": {
              "color": "white"
             }
            },
            "type": "table"
           }
          ]
         },
         "layout": {
          "annotationdefaults": {
           "arrowcolor": "#2a3f5f",
           "arrowhead": 0,
           "arrowwidth": 1
          },
          "autotypenumbers": "strict",
          "coloraxis": {
           "colorbar": {
            "outlinewidth": 0,
            "ticks": ""
           }
          },
          "colorscale": {
           "diverging": [
            [
             0,
             "#8e0152"
            ],
            [
             0.1,
             "#c51b7d"
            ],
            [
             0.2,
             "#de77ae"
            ],
            [
             0.3,
             "#f1b6da"
            ],
            [
             0.4,
             "#fde0ef"
            ],
            [
             0.5,
             "#f7f7f7"
            ],
            [
             0.6,
             "#e6f5d0"
            ],
            [
             0.7,
             "#b8e186"
            ],
            [
             0.8,
             "#7fbc41"
            ],
            [
             0.9,
             "#4d9221"
            ],
            [
             1,
             "#276419"
            ]
           ],
           "sequential": [
            [
             0,
             "#0d0887"
            ],
            [
             0.1111111111111111,
             "#46039f"
            ],
            [
             0.2222222222222222,
             "#7201a8"
            ],
            [
             0.3333333333333333,
             "#9c179e"
            ],
            [
             0.4444444444444444,
             "#bd3786"
            ],
            [
             0.5555555555555556,
             "#d8576b"
            ],
            [
             0.6666666666666666,
             "#ed7953"
            ],
            [
             0.7777777777777778,
             "#fb9f3a"
            ],
            [
             0.8888888888888888,
             "#fdca26"
            ],
            [
             1,
             "#f0f921"
            ]
           ],
           "sequentialminus": [
            [
             0,
             "#0d0887"
            ],
            [
             0.1111111111111111,
             "#46039f"
            ],
            [
             0.2222222222222222,
             "#7201a8"
            ],
            [
             0.3333333333333333,
             "#9c179e"
            ],
            [
             0.4444444444444444,
             "#bd3786"
            ],
            [
             0.5555555555555556,
             "#d8576b"
            ],
            [
             0.6666666666666666,
             "#ed7953"
            ],
            [
             0.7777777777777778,
             "#fb9f3a"
            ],
            [
             0.8888888888888888,
             "#fdca26"
            ],
            [
             1,
             "#f0f921"
            ]
           ]
          },
          "colorway": [
           "#636efa",
           "#EF553B",
           "#00cc96",
           "#ab63fa",
           "#FFA15A",
           "#19d3f3",
           "#FF6692",
           "#B6E880",
           "#FF97FF",
           "#FECB52"
          ],
          "font": {
           "color": "#2a3f5f"
          },
          "geo": {
           "bgcolor": "white",
           "lakecolor": "white",
           "landcolor": "#E5ECF6",
           "showlakes": true,
           "showland": true,
           "subunitcolor": "white"
          },
          "hoverlabel": {
           "align": "left"
          },
          "hovermode": "closest",
          "mapbox": {
           "style": "light"
          },
          "paper_bgcolor": "white",
          "plot_bgcolor": "#E5ECF6",
          "polar": {
           "angularaxis": {
            "gridcolor": "white",
            "linecolor": "white",
            "ticks": ""
           },
           "bgcolor": "#E5ECF6",
           "radialaxis": {
            "gridcolor": "white",
            "linecolor": "white",
            "ticks": ""
           }
          },
          "scene": {
           "xaxis": {
            "backgroundcolor": "#E5ECF6",
            "gridcolor": "white",
            "gridwidth": 2,
            "linecolor": "white",
            "showbackground": true,
            "ticks": "",
            "zerolinecolor": "white"
           },
           "yaxis": {
            "backgroundcolor": "#E5ECF6",
            "gridcolor": "white",
            "gridwidth": 2,
            "linecolor": "white",
            "showbackground": true,
            "ticks": "",
            "zerolinecolor": "white"
           },
           "zaxis": {
            "backgroundcolor": "#E5ECF6",
            "gridcolor": "white",
            "gridwidth": 2,
            "linecolor": "white",
            "showbackground": true,
            "ticks": "",
            "zerolinecolor": "white"
           }
          },
          "shapedefaults": {
           "line": {
            "color": "#2a3f5f"
           }
          },
          "ternary": {
           "aaxis": {
            "gridcolor": "white",
            "linecolor": "white",
            "ticks": ""
           },
           "baxis": {
            "gridcolor": "white",
            "linecolor": "white",
            "ticks": ""
           },
           "bgcolor": "#E5ECF6",
           "caxis": {
            "gridcolor": "white",
            "linecolor": "white",
            "ticks": ""
           }
          },
          "title": {
           "x": 0.05
          },
          "xaxis": {
           "automargin": true,
           "gridcolor": "white",
           "linecolor": "white",
           "ticks": "",
           "title": {
            "standoff": 15
           },
           "zerolinecolor": "white",
           "zerolinewidth": 2
          },
          "yaxis": {
           "automargin": true,
           "gridcolor": "white",
           "linecolor": "white",
           "ticks": "",
           "title": {
            "standoff": 15
           },
           "zerolinecolor": "white",
           "zerolinewidth": 2
          }
         }
        },
        "title": {
         "text": "Label: Abomasnow"
        },
        "width": 500,
        "xaxis": {
         "anchor": "y",
         "domain": [
          0,
          1
         ],
         "showgrid": false,
         "showticklabels": false,
         "visible": false,
         "zeroline": false
        },
        "yaxis": {
         "anchor": "x",
         "domain": [
          0,
          1
         ],
         "showgrid": false,
         "showticklabels": false,
         "visible": false,
         "zeroline": false
        }
       }
      }
     },
     "metadata": {},
     "output_type": "display_data"
    },
    {
     "name": "stdout",
     "output_type": "stream",
     "text": [
      "tf.Tensor([1. 1. 0. 0. 0. 0. 0. 0. 0. 0. 0. 0. 0. 0. 0. 0. 0. 0. 0.], shape=(19,), dtype=float32)\n",
      "(64, 64, 3)\n"
     ]
    },
    {
     "data": {
      "application/vnd.plotly.v1+json": {
       "config": {
        "plotlyServerURL": "https://plot.ly"
       },
       "data": [
        {
         "hovertemplate": "x: %{x}<br>y: %{y}<br>color: [%{z[0]}, %{z[1]}, %{z[2]}]<extra></extra>",
         "name": "0",
         "source": "data:image/png;base64,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",
         "type": "image",
         "xaxis": "x",
         "yaxis": "y"
        }
       ],
       "layout": {
        "height": 350,
        "margin": {
         "l": 0,
         "t": 60
        },
        "shapes": [
         {
          "line": {
           "color": "black",
           "width": 2
          },
          "type": "rect",
          "x0": 0,
          "x1": 64,
          "xref": "x",
          "y0": 0,
          "y1": 64,
          "yref": "y"
         }
        ],
        "template": {
         "data": {
          "bar": [
           {
            "error_x": {
             "color": "#2a3f5f"
            },
            "error_y": {
             "color": "#2a3f5f"
            },
            "marker": {
             "line": {
              "color": "#E5ECF6",
              "width": 0.5
             },
             "pattern": {
              "fillmode": "overlay",
              "size": 10,
              "solidity": 0.2
             }
            },
            "type": "bar"
           }
          ],
          "barpolar": [
           {
            "marker": {
             "line": {
              "color": "#E5ECF6",
              "width": 0.5
             },
             "pattern": {
              "fillmode": "overlay",
              "size": 10,
              "solidity": 0.2
             }
            },
            "type": "barpolar"
           }
          ],
          "carpet": [
           {
            "aaxis": {
             "endlinecolor": "#2a3f5f",
             "gridcolor": "white",
             "linecolor": "white",
             "minorgridcolor": "white",
             "startlinecolor": "#2a3f5f"
            },
            "baxis": {
             "endlinecolor": "#2a3f5f",
             "gridcolor": "white",
             "linecolor": "white",
             "minorgridcolor": "white",
             "startlinecolor": "#2a3f5f"
            },
            "type": "carpet"
           }
          ],
          "choropleth": [
           {
            "colorbar": {
             "outlinewidth": 0,
             "ticks": ""
            },
            "type": "choropleth"
           }
          ],
          "contour": [
           {
            "colorbar": {
             "outlinewidth": 0,
             "ticks": ""
            },
            "colorscale": [
             [
              0,
              "#0d0887"
             ],
             [
              0.1111111111111111,
              "#46039f"
             ],
             [
              0.2222222222222222,
              "#7201a8"
             ],
             [
              0.3333333333333333,
              "#9c179e"
             ],
             [
              0.4444444444444444,
              "#bd3786"
             ],
             [
              0.5555555555555556,
              "#d8576b"
             ],
             [
              0.6666666666666666,
              "#ed7953"
             ],
             [
              0.7777777777777778,
              "#fb9f3a"
             ],
             [
              0.8888888888888888,
              "#fdca26"
             ],
             [
              1,
              "#f0f921"
             ]
            ],
            "type": "contour"
           }
          ],
          "contourcarpet": [
           {
            "colorbar": {
             "outlinewidth": 0,
             "ticks": ""
            },
            "type": "contourcarpet"
           }
          ],
          "heatmap": [
           {
            "colorbar": {
             "outlinewidth": 0,
             "ticks": ""
            },
            "colorscale": [
             [
              0,
              "#0d0887"
             ],
             [
              0.1111111111111111,
              "#46039f"
             ],
             [
              0.2222222222222222,
              "#7201a8"
             ],
             [
              0.3333333333333333,
              "#9c179e"
             ],
             [
              0.4444444444444444,
              "#bd3786"
             ],
             [
              0.5555555555555556,
              "#d8576b"
             ],
             [
              0.6666666666666666,
              "#ed7953"
             ],
             [
              0.7777777777777778,
              "#fb9f3a"
             ],
             [
              0.8888888888888888,
              "#fdca26"
             ],
             [
              1,
              "#f0f921"
             ]
            ],
            "type": "heatmap"
           }
          ],
          "heatmapgl": [
           {
            "colorbar": {
             "outlinewidth": 0,
             "ticks": ""
            },
            "colorscale": [
             [
              0,
              "#0d0887"
             ],
             [
              0.1111111111111111,
              "#46039f"
             ],
             [
              0.2222222222222222,
              "#7201a8"
             ],
             [
              0.3333333333333333,
              "#9c179e"
             ],
             [
              0.4444444444444444,
              "#bd3786"
             ],
             [
              0.5555555555555556,
              "#d8576b"
             ],
             [
              0.6666666666666666,
              "#ed7953"
             ],
             [
              0.7777777777777778,
              "#fb9f3a"
             ],
             [
              0.8888888888888888,
              "#fdca26"
             ],
             [
              1,
              "#f0f921"
             ]
            ],
            "type": "heatmapgl"
           }
          ],
          "histogram": [
           {
            "marker": {
             "pattern": {
              "fillmode": "overlay",
              "size": 10,
              "solidity": 0.2
             }
            },
            "type": "histogram"
           }
          ],
          "histogram2d": [
           {
            "colorbar": {
             "outlinewidth": 0,
             "ticks": ""
            },
            "colorscale": [
             [
              0,
              "#0d0887"
             ],
             [
              0.1111111111111111,
              "#46039f"
             ],
             [
              0.2222222222222222,
              "#7201a8"
             ],
             [
              0.3333333333333333,
              "#9c179e"
             ],
             [
              0.4444444444444444,
              "#bd3786"
             ],
             [
              0.5555555555555556,
              "#d8576b"
             ],
             [
              0.6666666666666666,
              "#ed7953"
             ],
             [
              0.7777777777777778,
              "#fb9f3a"
             ],
             [
              0.8888888888888888,
              "#fdca26"
             ],
             [
              1,
              "#f0f921"
             ]
            ],
            "type": "histogram2d"
           }
          ],
          "histogram2dcontour": [
           {
            "colorbar": {
             "outlinewidth": 0,
             "ticks": ""
            },
            "colorscale": [
             [
              0,
              "#0d0887"
             ],
             [
              0.1111111111111111,
              "#46039f"
             ],
             [
              0.2222222222222222,
              "#7201a8"
             ],
             [
              0.3333333333333333,
              "#9c179e"
             ],
             [
              0.4444444444444444,
              "#bd3786"
             ],
             [
              0.5555555555555556,
              "#d8576b"
             ],
             [
              0.6666666666666666,
              "#ed7953"
             ],
             [
              0.7777777777777778,
              "#fb9f3a"
             ],
             [
              0.8888888888888888,
              "#fdca26"
             ],
             [
              1,
              "#f0f921"
             ]
            ],
            "type": "histogram2dcontour"
           }
          ],
          "mesh3d": [
           {
            "colorbar": {
             "outlinewidth": 0,
             "ticks": ""
            },
            "type": "mesh3d"
           }
          ],
          "parcoords": [
           {
            "line": {
             "colorbar": {
              "outlinewidth": 0,
              "ticks": ""
             }
            },
            "type": "parcoords"
           }
          ],
          "pie": [
           {
            "automargin": true,
            "type": "pie"
           }
          ],
          "scatter": [
           {
            "fillpattern": {
             "fillmode": "overlay",
             "size": 10,
             "solidity": 0.2
            },
            "type": "scatter"
           }
          ],
          "scatter3d": [
           {
            "line": {
             "colorbar": {
              "outlinewidth": 0,
              "ticks": ""
             }
            },
            "marker": {
             "colorbar": {
              "outlinewidth": 0,
              "ticks": ""
             }
            },
            "type": "scatter3d"
           }
          ],
          "scattercarpet": [
           {
            "marker": {
             "colorbar": {
              "outlinewidth": 0,
              "ticks": ""
             }
            },
            "type": "scattercarpet"
           }
          ],
          "scattergeo": [
           {
            "marker": {
             "colorbar": {
              "outlinewidth": 0,
              "ticks": ""
             }
            },
            "type": "scattergeo"
           }
          ],
          "scattergl": [
           {
            "marker": {
             "colorbar": {
              "outlinewidth": 0,
              "ticks": ""
             }
            },
            "type": "scattergl"
           }
          ],
          "scattermapbox": [
           {
            "marker": {
             "colorbar": {
              "outlinewidth": 0,
              "ticks": ""
             }
            },
            "type": "scattermapbox"
           }
          ],
          "scatterpolar": [
           {
            "marker": {
             "colorbar": {
              "outlinewidth": 0,
              "ticks": ""
             }
            },
            "type": "scatterpolar"
           }
          ],
          "scatterpolargl": [
           {
            "marker": {
             "colorbar": {
              "outlinewidth": 0,
              "ticks": ""
             }
            },
            "type": "scatterpolargl"
           }
          ],
          "scatterternary": [
           {
            "marker": {
             "colorbar": {
              "outlinewidth": 0,
              "ticks": ""
             }
            },
            "type": "scatterternary"
           }
          ],
          "surface": [
           {
            "colorbar": {
             "outlinewidth": 0,
             "ticks": ""
            },
            "colorscale": [
             [
              0,
              "#0d0887"
             ],
             [
              0.1111111111111111,
              "#46039f"
             ],
             [
              0.2222222222222222,
              "#7201a8"
             ],
             [
              0.3333333333333333,
              "#9c179e"
             ],
             [
              0.4444444444444444,
              "#bd3786"
             ],
             [
              0.5555555555555556,
              "#d8576b"
             ],
             [
              0.6666666666666666,
              "#ed7953"
             ],
             [
              0.7777777777777778,
              "#fb9f3a"
             ],
             [
              0.8888888888888888,
              "#fdca26"
             ],
             [
              1,
              "#f0f921"
             ]
            ],
            "type": "surface"
           }
          ],
          "table": [
           {
            "cells": {
             "fill": {
              "color": "#EBF0F8"
             },
             "line": {
              "color": "white"
             }
            },
            "header": {
             "fill": {
              "color": "#C8D4E3"
             },
             "line": {
              "color": "white"
             }
            },
            "type": "table"
           }
          ]
         },
         "layout": {
          "annotationdefaults": {
           "arrowcolor": "#2a3f5f",
           "arrowhead": 0,
           "arrowwidth": 1
          },
          "autotypenumbers": "strict",
          "coloraxis": {
           "colorbar": {
            "outlinewidth": 0,
            "ticks": ""
           }
          },
          "colorscale": {
           "diverging": [
            [
             0,
             "#8e0152"
            ],
            [
             0.1,
             "#c51b7d"
            ],
            [
             0.2,
             "#de77ae"
            ],
            [
             0.3,
             "#f1b6da"
            ],
            [
             0.4,
             "#fde0ef"
            ],
            [
             0.5,
             "#f7f7f7"
            ],
            [
             0.6,
             "#e6f5d0"
            ],
            [
             0.7,
             "#b8e186"
            ],
            [
             0.8,
             "#7fbc41"
            ],
            [
             0.9,
             "#4d9221"
            ],
            [
             1,
             "#276419"
            ]
           ],
           "sequential": [
            [
             0,
             "#0d0887"
            ],
            [
             0.1111111111111111,
             "#46039f"
            ],
            [
             0.2222222222222222,
             "#7201a8"
            ],
            [
             0.3333333333333333,
             "#9c179e"
            ],
            [
             0.4444444444444444,
             "#bd3786"
            ],
            [
             0.5555555555555556,
             "#d8576b"
            ],
            [
             0.6666666666666666,
             "#ed7953"
            ],
            [
             0.7777777777777778,
             "#fb9f3a"
            ],
            [
             0.8888888888888888,
             "#fdca26"
            ],
            [
             1,
             "#f0f921"
            ]
           ],
           "sequentialminus": [
            [
             0,
             "#0d0887"
            ],
            [
             0.1111111111111111,
             "#46039f"
            ],
            [
             0.2222222222222222,
             "#7201a8"
            ],
            [
             0.3333333333333333,
             "#9c179e"
            ],
            [
             0.4444444444444444,
             "#bd3786"
            ],
            [
             0.5555555555555556,
             "#d8576b"
            ],
            [
             0.6666666666666666,
             "#ed7953"
            ],
            [
             0.7777777777777778,
             "#fb9f3a"
            ],
            [
             0.8888888888888888,
             "#fdca26"
            ],
            [
             1,
             "#f0f921"
            ]
           ]
          },
          "colorway": [
           "#636efa",
           "#EF553B",
           "#00cc96",
           "#ab63fa",
           "#FFA15A",
           "#19d3f3",
           "#FF6692",
           "#B6E880",
           "#FF97FF",
           "#FECB52"
          ],
          "font": {
           "color": "#2a3f5f"
          },
          "geo": {
           "bgcolor": "white",
           "lakecolor": "white",
           "landcolor": "#E5ECF6",
           "showlakes": true,
           "showland": true,
           "subunitcolor": "white"
          },
          "hoverlabel": {
           "align": "left"
          },
          "hovermode": "closest",
          "mapbox": {
           "style": "light"
          },
          "paper_bgcolor": "white",
          "plot_bgcolor": "#E5ECF6",
          "polar": {
           "angularaxis": {
            "gridcolor": "white",
            "linecolor": "white",
            "ticks": ""
           },
           "bgcolor": "#E5ECF6",
           "radialaxis": {
            "gridcolor": "white",
            "linecolor": "white",
            "ticks": ""
           }
          },
          "scene": {
           "xaxis": {
            "backgroundcolor": "#E5ECF6",
            "gridcolor": "white",
            "gridwidth": 2,
            "linecolor": "white",
            "showbackground": true,
            "ticks": "",
            "zerolinecolor": "white"
           },
           "yaxis": {
            "backgroundcolor": "#E5ECF6",
            "gridcolor": "white",
            "gridwidth": 2,
            "linecolor": "white",
            "showbackground": true,
            "ticks": "",
            "zerolinecolor": "white"
           },
           "zaxis": {
            "backgroundcolor": "#E5ECF6",
            "gridcolor": "white",
            "gridwidth": 2,
            "linecolor": "white",
            "showbackground": true,
            "ticks": "",
            "zerolinecolor": "white"
           }
          },
          "shapedefaults": {
           "line": {
            "color": "#2a3f5f"
           }
          },
          "ternary": {
           "aaxis": {
            "gridcolor": "white",
            "linecolor": "white",
            "ticks": ""
           },
           "baxis": {
            "gridcolor": "white",
            "linecolor": "white",
            "ticks": ""
           },
           "bgcolor": "#E5ECF6",
           "caxis": {
            "gridcolor": "white",
            "linecolor": "white",
            "ticks": ""
           }
          },
          "title": {
           "x": 0.05
          },
          "xaxis": {
           "automargin": true,
           "gridcolor": "white",
           "linecolor": "white",
           "ticks": "",
           "title": {
            "standoff": 15
           },
           "zerolinecolor": "white",
           "zerolinewidth": 2
          },
          "yaxis": {
           "automargin": true,
           "gridcolor": "white",
           "linecolor": "white",
           "ticks": "",
           "title": {
            "standoff": 15
           },
           "zerolinecolor": "white",
           "zerolinewidth": 2
          }
         }
        },
        "title": {
         "text": "Label: Abomasnow"
        },
        "width": 500,
        "xaxis": {
         "anchor": "y",
         "domain": [
          0,
          1
         ],
         "showgrid": false,
         "showticklabels": false,
         "visible": false,
         "zeroline": false
        },
        "yaxis": {
         "anchor": "x",
         "domain": [
          0,
          1
         ],
         "showgrid": false,
         "showticklabels": false,
         "visible": false,
         "zeroline": false
        }
       }
      }
     },
     "metadata": {},
     "output_type": "display_data"
    },
    {
     "name": "stdout",
     "output_type": "stream",
     "text": [
      "tf.Tensor([1. 0. 0. 0. 0. 0. 0. 0. 0. 0. 0. 0. 0. 0. 0. 0. 0. 1. 0.], shape=(19,), dtype=float32)\n",
      "(64, 64, 3)\n"
     ]
    },
    {
     "data": {
      "application/vnd.plotly.v1+json": {
       "config": {
        "plotlyServerURL": "https://plot.ly"
       },
       "data": [
        {
         "hovertemplate": "x: %{x}<br>y: %{y}<br>color: [%{z[0]}, %{z[1]}, %{z[2]}]<extra></extra>",
         "name": "0",
         "source": "data:image/png;base64,iVBORw0KGgoAAAANSUhEUgAAAEAAAABACAIAAAAlC+aJAAAMXklEQVR4Xu2Ze3SU9ZnHv8/vvUxmMrdMQi4QwAgECCggsBSIglopBQ2IixbYiuypbb2sdT3Wyq7drdstntqzvbqrwrp23aXVKj26u62CiuBWUCwHEDCgBJKQhJBMkplkbu+87/t79o83CXF2t+QlI5ye4+ePnMlvnt/l+3ue53cbYmb8MSNyC/7Y+EzApeYzAZeaT0XAiy++mFv0qZF/AX95352pvpacwjHlZTkleYPzCgFStkp5hoiYWRHivns3SJl6+JtfzzXNE2quIPeEAgGG7O1LArh19Y12OgXC1CmTln3xWtNotbMJmWnbuevd3Gr5IleRe8LBAHPHmlvrmPndvdvN1AkzdeLtXb+2Uh+ZyY+tdIOZOlE2KiKIcmvmA+J8HCXq6/dWjy853tAyemxVwGMBYBABROQYWJat+XyHDx6ct2BVOmN8ovLIyE8SP7/1VyCaPGGsaaSgqkRCEDmjZ2YppRBkpXunVlcl4h/+cuvPhMhPvwAuxAOKEDdcd33t/IXN7V3xROqtN1/7p58+cvPKpQA7E87MDAY7HwEABLCU0nEOa56iCZPmlhSXx3q6G5ubLVuea90lrgUoRI99d1MylWo8fTadNU83N+z53X+kUx2Kpits9885wGCCI6G/IkuLIQGkTVm3auOkqspRkZCqCkVRYrGezc9sSRvZc90MG9cCvnrnPQpRIm1kDNMyel564UcAC6H8y8+3rf/ySkj5fzfHzGwxGMy3rXtI85YCEIogIFhYUFYSzmazTzz5RDKdya14PtwJCPr9S5evdub1vb2/a/z4vyQzWGFAKEJaOZFwLnpYWoO+UH2+2kV3jRld7nyracLr0SvLip96ZvPZjo6BusPFXTKNGz+BmcGczmSaGnfbli0tKaUEs7TkuXABDwkdW0qT4cQVANjp9O43n0wlk46ZadpG1mLmuVfNHqjuAncC/IEgABDd/bVlZiom+5NV9oc9CABYsrSlNFlaLC3JNgACEZEg4fics6nnnv32YO9G1mzr6B4/fsJgR8PHnYC2llMgdEU7brh2nrPKAE6M2AP/ORHpRBkTQfTvBQxm5kEvUcCndLSfHGwknkifjfY4n13hTkBntLOvt+eRjbdL23RKnGWHhOrMvlNCQiESBGIeXEcB0BBAEK+9+qym6gA5dZtPnxqwdIE7AemMcfjQ/kXXzAbw9NNbwRIAiDBkdCCnTWfcfC58yLEdsCLWkW5qbAQBIJA4Xn8Y7nEnAECit8cyDCJ6b/8x1RseGI0AiAFnhIAkAgkSgoRA/19Ca0dU0QsUAWefZqKioOqI7OlqZ3kh25lrATev/AIRrV73SMYKPvHEs8wAM9gCmMCABGcJTACBiUgQKYAAN59N3r7he4YpnZQHM5gqRkdSyb7u6Jl7119jZPvD0hWuBdTVXb/7nQMeb1gQRpVN7ElIIjjjBptgiwiCoAhSBFF/8sqfPPXCyhUbxowdv3zFA6z6pGSbIZm/8/CG1Utr/u7BlaOKI0JxPRhcgIBAyP83j25hyS0tp2tra5cvX99nBBSCIoQQpAgCk2SyJCwJyYil1bJxi7ZteyMYDB54b2dRUXjGrFUAO7S1to0fW5HN2pI5e3E88OEHx/z+CBHGVES+/9gmr9dz0423/ezpX0qA+dyOYNr89p5Dt6zdaNthXXcCHaVlpVkjM236jN8fPAZACBHvjhGBiLp74ra0czsbBq4FfP8HWySYgQULF9QfPeosMV/56lq2mRlSQkrJknVN2fpvrwjVX1RUFAqF0L81UGtLEzP/8Me/UAVlUild14QQJGjHW+/l9jQ8XAto7+xSSIKxY/uOG+tWlJdGBNij+ljzpCxBHo+TodKy77ijTlXVUydPPrV5c6HPO3Hc6ElVlbUL5wPUdqaLFOXogUOZTPZIfcPrb71ff6J17uwrQgF/bn/nw7WAsrKS62qriaB7i+5/4IF4LNbZ2ZFKxv/2rzf/6PFf3L5+0+q132SACFcvnm+a8q677lt49aLF116XSacnTJke7Y6B4PFo3dFoTyxeVBRYuGD2o3//4Ovbn9u48S+yWdcnahen0ff37fN6zZrqEtvCkpseKC4uaWpsWLFi2caH10nLWnXbtyMhf8owNUo898+POo0+/uOff3Cka9nS2j9bv4EBaWbXrL1TKOKWulnlAYWEECR8voL9B4/d89APTNPK6XE4uBDgcNXMmudfeGbihMpb/vSeTEbc/41brr9mNgOKx79m7f1Lblh4+9plNHjiEcqSZXePKh/f0nRi1lUzjn/UHA6Hz3Z0fPfBOmbuifXGexMPf+cf2zu7c3oZPq4FOESKQnd+5UuPfe9BaZoAEZgEwCSHnHwcFSSU195857HHn49EShnc1926aeM607YAKvR6rl7+9RHe8S9QgEPAXxiLn1KyUQbZkgHnXNPfpnPGYbUkHmsJ+32kqYf2vNvb20cEZvxmxzuHG5JgefZs+7EPDxIhmb4QJSMS4PCN++74q4fu3/Pu3pUrltpmmpwXFUVPGtbLv/5NXd3SVE/nyY9PWKYJQNO17njikU1by8oqJEtFUQLBCJhJ0H/v2n6mvS239fORBwE3PXdPptQvgEQyE3i7+ebLpgpBAb9vYlVlX1+CiBQhCgu9BYW+bf+567dvHA4GQ5KZmAEOhIqFUAA4IdfZcWbXru057f9hRiTAp+uPvv/TRCLZkOgx2GaiV2/6h7SZrRw3LVCopBK9WTNbGCjSdE/AH4wUhy0z23/VATHLQCiiKBrIOWjD+eKtN16JdrnI6RG9jVbUjLNSRkD1zApX7Otr/+AnrzLxki+uiMczBAihV44bY5kmERiwzKxzuyFA9xR4fYHBofeLAgOY8yfXDO3ivIxIQIHX41E1ENXvOfrKt7Zk0sYV02cm+wxiSCknVleTEIqi2lZWSkkkFKGQIsD9VzAMXtcGXQDgnD+GxYhC6H8za+Ycr6+EhAiHC6bPmNfYcFwOXlOcdZUo2tE+dvxlhmHYlt3W1lRZWcXovxtblnFw/95TTY3nWjwfro8Sf5iTJ46D0BvvqrlirlCEUJwEBQAwhBCZdGLO52ojxWVgEFEoEOqOtse6OuI9nbHus6lEX7vLhSjPAuKJvvoje4siQSktZ1KFEM1NHwMMQk8sWj11BjNOnTzOzKqmp1IJ5x2YAZA4cuSA2wfGfArQVNWj65lMesaseYAT6OQPBEdXVgF0uqnhiivnOgHe1tLEzB8c2KvpHiZiAhPMrNHa1vrJJs/PiJJ4KHffde9TT25hyb2p7K7du6omTNY0PdrRPnPO53RPQevpxkXX32hZJgO6pl8+caq0ba+v0HmrUBS1ra15zJjxuY0Og/x4oEBXyyou74z2NrdF29qjkyZPDwbDZ1qb9AJdShmORELhItPMAgDzzh0vS9sGOJ1OMTMRpVKJivKx0ajrh1HkywNen78vlellSSCACJxKJUtKK0pKKwAYhlFaPoYABmmaNrryMhLEjKk1s1pbGkOhsGQk04kltdW57Q6DPCyjVy9YOGvGrKbmpoLgqHGXTeKBq+3AEj90Xefe3ng81q3r2qjSCk3TmNF5pknX9a+tmdOXSK/68re6YvEh9udnpB5Yd+uXKsdWdXTH06YMasqh/Xtmz7vGNA3AWVmGQCBQKBQOh8IMECHR15uIR4mEZLalBGHdrUs/Wef8jFTA6zvfrJk+06N7Yj3dmYwRDAZ37/ztlOpqVdUUzaN7/aqq0cCRwYkiKWU6lUj2dQNMJACYlq0oitfndV4rXDFSAR3RztEVoydOnDK7qsy07KOnW6uqr3zh+X+1bWv+gsWTJ9fEMinnqJATSyByygGcbm6KxabNv+Hze/YdGmIzLPKQAwAKNNUXKPJ69VCwqOFEvWH2p4FHUwsL/YsXf6G0fLRtWZZl9B/nBrUwAP79vp1Tp0zY9vLrQy50w2WkHnDI/D/3cWNIua4q4XDk8gnVU6dOY/TnOANE4lRj25H6hkFLV+RnHxgOWctOJhM1065kBg/8sCGIXvrVvyfT6Rzj4XPxBOiqsmbdn9u284sTADDzvn3vJFLJTxq6Iz8hNBwmT65pa2lqP3vG4/GCYFu2pqlHPzySa+eSi+eBjz6qZ0UtLinv7on6/aGsaUSKS3ON3HPxBBimteftN0hQUThC4IICX9a4kHeUHC5eCAGI9yW2vfSipnmEIsxs9sLe03PIzz5wCbl4IfQp8ZmAS81nAi41/wPKIDSoI7k6eQAAAABJRU5ErkJggg==",
         "type": "image",
         "xaxis": "x",
         "yaxis": "y"
        }
       ],
       "layout": {
        "height": 350,
        "margin": {
         "l": 0,
         "t": 60
        },
        "shapes": [
         {
          "line": {
           "color": "black",
           "width": 2
          },
          "type": "rect",
          "x0": 0,
          "x1": 64,
          "xref": "x",
          "y0": 0,
          "y1": 64,
          "yref": "y"
         }
        ],
        "template": {
         "data": {
          "bar": [
           {
            "error_x": {
             "color": "#2a3f5f"
            },
            "error_y": {
             "color": "#2a3f5f"
            },
            "marker": {
             "line": {
              "color": "#E5ECF6",
              "width": 0.5
             },
             "pattern": {
              "fillmode": "overlay",
              "size": 10,
              "solidity": 0.2
             }
            },
            "type": "bar"
           }
          ],
          "barpolar": [
           {
            "marker": {
             "line": {
              "color": "#E5ECF6",
              "width": 0.5
             },
             "pattern": {
              "fillmode": "overlay",
              "size": 10,
              "solidity": 0.2
             }
            },
            "type": "barpolar"
           }
          ],
          "carpet": [
           {
            "aaxis": {
             "endlinecolor": "#2a3f5f",
             "gridcolor": "white",
             "linecolor": "white",
             "minorgridcolor": "white",
             "startlinecolor": "#2a3f5f"
            },
            "baxis": {
             "endlinecolor": "#2a3f5f",
             "gridcolor": "white",
             "linecolor": "white",
             "minorgridcolor": "white",
             "startlinecolor": "#2a3f5f"
            },
            "type": "carpet"
           }
          ],
          "choropleth": [
           {
            "colorbar": {
             "outlinewidth": 0,
             "ticks": ""
            },
            "type": "choropleth"
           }
          ],
          "contour": [
           {
            "colorbar": {
             "outlinewidth": 0,
             "ticks": ""
            },
            "colorscale": [
             [
              0,
              "#0d0887"
             ],
             [
              0.1111111111111111,
              "#46039f"
             ],
             [
              0.2222222222222222,
              "#7201a8"
             ],
             [
              0.3333333333333333,
              "#9c179e"
             ],
             [
              0.4444444444444444,
              "#bd3786"
             ],
             [
              0.5555555555555556,
              "#d8576b"
             ],
             [
              0.6666666666666666,
              "#ed7953"
             ],
             [
              0.7777777777777778,
              "#fb9f3a"
             ],
             [
              0.8888888888888888,
              "#fdca26"
             ],
             [
              1,
              "#f0f921"
             ]
            ],
            "type": "contour"
           }
          ],
          "contourcarpet": [
           {
            "colorbar": {
             "outlinewidth": 0,
             "ticks": ""
            },
            "type": "contourcarpet"
           }
          ],
          "heatmap": [
           {
            "colorbar": {
             "outlinewidth": 0,
             "ticks": ""
            },
            "colorscale": [
             [
              0,
              "#0d0887"
             ],
             [
              0.1111111111111111,
              "#46039f"
             ],
             [
              0.2222222222222222,
              "#7201a8"
             ],
             [
              0.3333333333333333,
              "#9c179e"
             ],
             [
              0.4444444444444444,
              "#bd3786"
             ],
             [
              0.5555555555555556,
              "#d8576b"
             ],
             [
              0.6666666666666666,
              "#ed7953"
             ],
             [
              0.7777777777777778,
              "#fb9f3a"
             ],
             [
              0.8888888888888888,
              "#fdca26"
             ],
             [
              1,
              "#f0f921"
             ]
            ],
            "type": "heatmap"
           }
          ],
          "heatmapgl": [
           {
            "colorbar": {
             "outlinewidth": 0,
             "ticks": ""
            },
            "colorscale": [
             [
              0,
              "#0d0887"
             ],
             [
              0.1111111111111111,
              "#46039f"
             ],
             [
              0.2222222222222222,
              "#7201a8"
             ],
             [
              0.3333333333333333,
              "#9c179e"
             ],
             [
              0.4444444444444444,
              "#bd3786"
             ],
             [
              0.5555555555555556,
              "#d8576b"
             ],
             [
              0.6666666666666666,
              "#ed7953"
             ],
             [
              0.7777777777777778,
              "#fb9f3a"
             ],
             [
              0.8888888888888888,
              "#fdca26"
             ],
             [
              1,
              "#f0f921"
             ]
            ],
            "type": "heatmapgl"
           }
          ],
          "histogram": [
           {
            "marker": {
             "pattern": {
              "fillmode": "overlay",
              "size": 10,
              "solidity": 0.2
             }
            },
            "type": "histogram"
           }
          ],
          "histogram2d": [
           {
            "colorbar": {
             "outlinewidth": 0,
             "ticks": ""
            },
            "colorscale": [
             [
              0,
              "#0d0887"
             ],
             [
              0.1111111111111111,
              "#46039f"
             ],
             [
              0.2222222222222222,
              "#7201a8"
             ],
             [
              0.3333333333333333,
              "#9c179e"
             ],
             [
              0.4444444444444444,
              "#bd3786"
             ],
             [
              0.5555555555555556,
              "#d8576b"
             ],
             [
              0.6666666666666666,
              "#ed7953"
             ],
             [
              0.7777777777777778,
              "#fb9f3a"
             ],
             [
              0.8888888888888888,
              "#fdca26"
             ],
             [
              1,
              "#f0f921"
             ]
            ],
            "type": "histogram2d"
           }
          ],
          "histogram2dcontour": [
           {
            "colorbar": {
             "outlinewidth": 0,
             "ticks": ""
            },
            "colorscale": [
             [
              0,
              "#0d0887"
             ],
             [
              0.1111111111111111,
              "#46039f"
             ],
             [
              0.2222222222222222,
              "#7201a8"
             ],
             [
              0.3333333333333333,
              "#9c179e"
             ],
             [
              0.4444444444444444,
              "#bd3786"
             ],
             [
              0.5555555555555556,
              "#d8576b"
             ],
             [
              0.6666666666666666,
              "#ed7953"
             ],
             [
              0.7777777777777778,
              "#fb9f3a"
             ],
             [
              0.8888888888888888,
              "#fdca26"
             ],
             [
              1,
              "#f0f921"
             ]
            ],
            "type": "histogram2dcontour"
           }
          ],
          "mesh3d": [
           {
            "colorbar": {
             "outlinewidth": 0,
             "ticks": ""
            },
            "type": "mesh3d"
           }
          ],
          "parcoords": [
           {
            "line": {
             "colorbar": {
              "outlinewidth": 0,
              "ticks": ""
             }
            },
            "type": "parcoords"
           }
          ],
          "pie": [
           {
            "automargin": true,
            "type": "pie"
           }
          ],
          "scatter": [
           {
            "fillpattern": {
             "fillmode": "overlay",
             "size": 10,
             "solidity": 0.2
            },
            "type": "scatter"
           }
          ],
          "scatter3d": [
           {
            "line": {
             "colorbar": {
              "outlinewidth": 0,
              "ticks": ""
             }
            },
            "marker": {
             "colorbar": {
              "outlinewidth": 0,
              "ticks": ""
             }
            },
            "type": "scatter3d"
           }
          ],
          "scattercarpet": [
           {
            "marker": {
             "colorbar": {
              "outlinewidth": 0,
              "ticks": ""
             }
            },
            "type": "scattercarpet"
           }
          ],
          "scattergeo": [
           {
            "marker": {
             "colorbar": {
              "outlinewidth": 0,
              "ticks": ""
             }
            },
            "type": "scattergeo"
           }
          ],
          "scattergl": [
           {
            "marker": {
             "colorbar": {
              "outlinewidth": 0,
              "ticks": ""
             }
            },
            "type": "scattergl"
           }
          ],
          "scattermapbox": [
           {
            "marker": {
             "colorbar": {
              "outlinewidth": 0,
              "ticks": ""
             }
            },
            "type": "scattermapbox"
           }
          ],
          "scatterpolar": [
           {
            "marker": {
             "colorbar": {
              "outlinewidth": 0,
              "ticks": ""
             }
            },
            "type": "scatterpolar"
           }
          ],
          "scatterpolargl": [
           {
            "marker": {
             "colorbar": {
              "outlinewidth": 0,
              "ticks": ""
             }
            },
            "type": "scatterpolargl"
           }
          ],
          "scatterternary": [
           {
            "marker": {
             "colorbar": {
              "outlinewidth": 0,
              "ticks": ""
             }
            },
            "type": "scatterternary"
           }
          ],
          "surface": [
           {
            "colorbar": {
             "outlinewidth": 0,
             "ticks": ""
            },
            "colorscale": [
             [
              0,
              "#0d0887"
             ],
             [
              0.1111111111111111,
              "#46039f"
             ],
             [
              0.2222222222222222,
              "#7201a8"
             ],
             [
              0.3333333333333333,
              "#9c179e"
             ],
             [
              0.4444444444444444,
              "#bd3786"
             ],
             [
              0.5555555555555556,
              "#d8576b"
             ],
             [
              0.6666666666666666,
              "#ed7953"
             ],
             [
              0.7777777777777778,
              "#fb9f3a"
             ],
             [
              0.8888888888888888,
              "#fdca26"
             ],
             [
              1,
              "#f0f921"
             ]
            ],
            "type": "surface"
           }
          ],
          "table": [
           {
            "cells": {
             "fill": {
              "color": "#EBF0F8"
             },
             "line": {
              "color": "white"
             }
            },
            "header": {
             "fill": {
              "color": "#C8D4E3"
             },
             "line": {
              "color": "white"
             }
            },
            "type": "table"
           }
          ]
         },
         "layout": {
          "annotationdefaults": {
           "arrowcolor": "#2a3f5f",
           "arrowhead": 0,
           "arrowwidth": 1
          },
          "autotypenumbers": "strict",
          "coloraxis": {
           "colorbar": {
            "outlinewidth": 0,
            "ticks": ""
           }
          },
          "colorscale": {
           "diverging": [
            [
             0,
             "#8e0152"
            ],
            [
             0.1,
             "#c51b7d"
            ],
            [
             0.2,
             "#de77ae"
            ],
            [
             0.3,
             "#f1b6da"
            ],
            [
             0.4,
             "#fde0ef"
            ],
            [
             0.5,
             "#f7f7f7"
            ],
            [
             0.6,
             "#e6f5d0"
            ],
            [
             0.7,
             "#b8e186"
            ],
            [
             0.8,
             "#7fbc41"
            ],
            [
             0.9,
             "#4d9221"
            ],
            [
             1,
             "#276419"
            ]
           ],
           "sequential": [
            [
             0,
             "#0d0887"
            ],
            [
             0.1111111111111111,
             "#46039f"
            ],
            [
             0.2222222222222222,
             "#7201a8"
            ],
            [
             0.3333333333333333,
             "#9c179e"
            ],
            [
             0.4444444444444444,
             "#bd3786"
            ],
            [
             0.5555555555555556,
             "#d8576b"
            ],
            [
             0.6666666666666666,
             "#ed7953"
            ],
            [
             0.7777777777777778,
             "#fb9f3a"
            ],
            [
             0.8888888888888888,
             "#fdca26"
            ],
            [
             1,
             "#f0f921"
            ]
           ],
           "sequentialminus": [
            [
             0,
             "#0d0887"
            ],
            [
             0.1111111111111111,
             "#46039f"
            ],
            [
             0.2222222222222222,
             "#7201a8"
            ],
            [
             0.3333333333333333,
             "#9c179e"
            ],
            [
             0.4444444444444444,
             "#bd3786"
            ],
            [
             0.5555555555555556,
             "#d8576b"
            ],
            [
             0.6666666666666666,
             "#ed7953"
            ],
            [
             0.7777777777777778,
             "#fb9f3a"
            ],
            [
             0.8888888888888888,
             "#fdca26"
            ],
            [
             1,
             "#f0f921"
            ]
           ]
          },
          "colorway": [
           "#636efa",
           "#EF553B",
           "#00cc96",
           "#ab63fa",
           "#FFA15A",
           "#19d3f3",
           "#FF6692",
           "#B6E880",
           "#FF97FF",
           "#FECB52"
          ],
          "font": {
           "color": "#2a3f5f"
          },
          "geo": {
           "bgcolor": "white",
           "lakecolor": "white",
           "landcolor": "#E5ECF6",
           "showlakes": true,
           "showland": true,
           "subunitcolor": "white"
          },
          "hoverlabel": {
           "align": "left"
          },
          "hovermode": "closest",
          "mapbox": {
           "style": "light"
          },
          "paper_bgcolor": "white",
          "plot_bgcolor": "#E5ECF6",
          "polar": {
           "angularaxis": {
            "gridcolor": "white",
            "linecolor": "white",
            "ticks": ""
           },
           "bgcolor": "#E5ECF6",
           "radialaxis": {
            "gridcolor": "white",
            "linecolor": "white",
            "ticks": ""
           }
          },
          "scene": {
           "xaxis": {
            "backgroundcolor": "#E5ECF6",
            "gridcolor": "white",
            "gridwidth": 2,
            "linecolor": "white",
            "showbackground": true,
            "ticks": "",
            "zerolinecolor": "white"
           },
           "yaxis": {
            "backgroundcolor": "#E5ECF6",
            "gridcolor": "white",
            "gridwidth": 2,
            "linecolor": "white",
            "showbackground": true,
            "ticks": "",
            "zerolinecolor": "white"
           },
           "zaxis": {
            "backgroundcolor": "#E5ECF6",
            "gridcolor": "white",
            "gridwidth": 2,
            "linecolor": "white",
            "showbackground": true,
            "ticks": "",
            "zerolinecolor": "white"
           }
          },
          "shapedefaults": {
           "line": {
            "color": "#2a3f5f"
           }
          },
          "ternary": {
           "aaxis": {
            "gridcolor": "white",
            "linecolor": "white",
            "ticks": ""
           },
           "baxis": {
            "gridcolor": "white",
            "linecolor": "white",
            "ticks": ""
           },
           "bgcolor": "#E5ECF6",
           "caxis": {
            "gridcolor": "white",
            "linecolor": "white",
            "ticks": ""
           }
          },
          "title": {
           "x": 0.05
          },
          "xaxis": {
           "automargin": true,
           "gridcolor": "white",
           "linecolor": "white",
           "ticks": "",
           "title": {
            "standoff": 15
           },
           "zerolinecolor": "white",
           "zerolinewidth": 2
          },
          "yaxis": {
           "automargin": true,
           "gridcolor": "white",
           "linecolor": "white",
           "ticks": "",
           "title": {
            "standoff": 15
           },
           "zerolinecolor": "white",
           "zerolinewidth": 2
          }
         }
        },
        "title": {
         "text": "Label: Abomasnow"
        },
        "width": 500,
        "xaxis": {
         "anchor": "y",
         "domain": [
          0,
          1
         ],
         "showgrid": false,
         "showticklabels": false,
         "visible": false,
         "zeroline": false
        },
        "yaxis": {
         "anchor": "x",
         "domain": [
          0,
          1
         ],
         "showgrid": false,
         "showticklabels": false,
         "visible": false,
         "zeroline": false
        }
       }
      }
     },
     "metadata": {},
     "output_type": "display_data"
    }
   ],
   "source": [
    "plot_n_images(train_ds, 5, class_names, GAN=True, size=width)"
   ]
  },
  {
   "cell_type": "code",
   "execution_count": 14,
   "metadata": {},
   "outputs": [],
   "source": [
    "# define the discriminator model\n",
    "def define_cdiscriminator(input_shape, num_classes):\n",
    "    img_input = tf.keras.layers.Input(shape=input_shape)\n",
    "    label_input = tf.keras.layers.Input(shape=(num_classes,))\n",
    "    \n",
    "    # image branch\n",
    "    layer = tf.keras.layers.Conv2D(64, (3, 3), padding='same')(img_input)\n",
    "    layer = tf.keras.layers.LeakyReLU(alpha=0.2)(layer)\n",
    "    layer = tf.keras.layers.Conv2D(128, (3, 3), strides=(2, 2), padding='same')(layer)\n",
    "    layer = tf.keras.layers.LeakyReLU(alpha=0.2)(layer)\n",
    "    layer = tf.keras.layers.Conv2D(256, (3, 3), strides=(2, 2), padding='same')(layer)\n",
    "    layer = tf.keras.layers.LeakyReLU(alpha=0.2)(layer)\n",
    "    layer = tf.keras.layers.Conv2D(256, (3, 3), strides=(2, 2), padding='same')(layer)\n",
    "    layer = tf.keras.layers.LeakyReLU(alpha=0.2)(layer)\n",
    "    layer = tf.keras.layers.Flatten()(layer)\n",
    "\n",
    "    # label branch\n",
    "    label_layer = tf.keras.layers.Dense(64)(label_input)\n",
    "    label_layer = tf.keras.layers.LeakyReLU(alpha=0.2)(label_layer)\n",
    "    label_layer = tf.keras.layers.Dense(128)(label_layer)\n",
    "    label_layer = tf.keras.layers.LeakyReLU(alpha=0.2)(label_layer)\n",
    "    label_layer = tf.keras.layers.Dense(256)(label_layer)\n",
    "    label_layer = tf.keras.layers.LeakyReLU(alpha=0.2)(label_layer)\n",
    "    label_layer = tf.keras.layers.Dense(256)(label_layer)\n",
    "    label_layer = tf.keras.layers.LeakyReLU(alpha=0.2)(label_layer)\n",
    "    label_layer = tf.keras.layers.Flatten()(label_layer)\n",
    "\n",
    "    # concatenate image and label branches\n",
    "    layer = tf.keras.layers.concatenate([layer, label_layer])\n",
    "    layer = tf.keras.layers.Dropout(0.4)(layer)\n",
    "    layer = tf.keras.layers.Dense(1, activation='sigmoid')(layer)\n",
    "    \n",
    "    # define the model\n",
    "    model = tf.keras.models.Model(inputs=[img_input, label_input], outputs=layer)\n",
    "\n",
    "    # compile the model\n",
    "    opt = tf.keras.optimizers.Adam(learning_rate=0.0003, beta_1=0.5)\n",
    "    model.compile(loss='binary_crossentropy', optimizer=opt, metrics=['accuracy'])\n",
    "    \n",
    "    return model\n",
    "\n",
    "    \n",
    "# define the standalone generator model\n",
    "def define_cgenerator(latent_dim, num_classes):\n",
    "    # Define the noise vector input\n",
    "    in_lat = tf.keras.layers.Input(shape=(latent_dim,))\n",
    "    # Define the class vector input\n",
    "    in_class = tf.keras.layers.Input(shape=(num_classes,))\n",
    "    # Concatenate the noise and class vectors\n",
    "    merge = tf.keras.layers.Concatenate()([in_lat, in_class])\n",
    "    # Project the concatenated vector to a larger dimension\n",
    "    n_nodes = 256 * 8 * 8\n",
    "    dense = tf.keras.layers.Dense(n_nodes)(merge)\n",
    "    # Reshape the dense layer output\n",
    "    reshaped = tf.keras.layers.Reshape((8, 8, 256))(dense)\n",
    "    # Upsample the feature maps\n",
    "    upsampled = tf.keras.layers.Conv2DTranspose(256, (4,4), strides=(2,2), padding='same')(reshaped)\n",
    "    upsampled = tf.keras.layers.LeakyReLU(alpha=0.2)(upsampled)\n",
    "    upsampled = tf.keras.layers.Conv2DTranspose(256, (4,4), strides=(2,2), padding='same')(upsampled)\n",
    "    upsampled = tf.keras.layers.LeakyReLU(alpha=0.2)(upsampled)\n",
    "    upsampled = tf.keras.layers.Conv2DTranspose(128, (4,4), strides=(2,2), padding='same')(upsampled)\n",
    "    upsampled = tf.keras.layers.LeakyReLU(alpha=0.2)(upsampled)\n",
    "    # Output layer\n",
    "    out_layer = tf.keras.layers.Conv2D(3, (3,3), activation='tanh', padding='same')(upsampled)\n",
    "    # Define the model\n",
    "    model = tf.keras.models.Model([in_lat, in_class], out_layer)\n",
    "    return model"
   ]
  },
  {
   "cell_type": "code",
   "execution_count": 15,
   "metadata": {},
   "outputs": [],
   "source": [
    "def define_cgan(g_model, d_model):\n",
    "    d_model.trainable = False\n",
    "    gen_noise, gen_label = g_model.input\n",
    "    gen_output = g_model.output\n",
    "    gan_output = d_model([gen_output, gen_label])\n",
    "    model = tf.keras.Model([gen_noise, gen_label], gan_output)\n",
    "    opt = tf.keras.optimizers.Adam(learning_rate=0.0003, beta_1=0.5)\n",
    "    model.compile(loss='binary_crossentropy', optimizer=opt)\n",
    "    return model\n"
   ]
  },
  {
   "cell_type": "code",
   "execution_count": 16,
   "metadata": {},
   "outputs": [],
   "source": [
    "# build and compile the discriminator\n",
    "cdiscriminator = define_cdiscriminator((64, 64, 3), 18)\n",
    "# cdiscriminator.summary()"
   ]
  },
  {
   "cell_type": "code",
   "execution_count": 17,
   "metadata": {},
   "outputs": [],
   "source": [
    "# build the generator\n",
    "cgenerator = define_cgenerator(100, 18)\n",
    "# cgenerator.summary()"
   ]
  },
  {
   "cell_type": "code",
   "execution_count": 18,
   "metadata": {},
   "outputs": [],
   "source": [
    "# build the gan\n",
    "cgan_model = define_cgan(cgenerator, cdiscriminator)\n",
    "# cgan_model.summary()"
   ]
  },
  {
   "cell_type": "code",
   "execution_count": 19,
   "metadata": {},
   "outputs": [
    {
     "data": {
      "image/png": "[encoded data removed]",
      "text/plain": [
       "<IPython.core.display.Image object>"
      ]
     },
     "execution_count": 19,
     "metadata": {},
     "output_type": "execute_result"
    }
   ],
   "source": [
    "dot_img_file = '/CGAN.png'\n",
    "tf.keras.utils.plot_model(cgan_model, to_file=dot_img_file, show_shapes=True)"
   ]
  },
  {
   "cell_type": "code",
   "execution_count": 20,
   "metadata": {},
   "outputs": [],
   "source": [
    "def generate_fake_samples(g_model, latent_dim, n_samples, n_classes):\n",
    "    # generate points in latent space\n",
    "    noise_input = generate_latent_points(latent_dim, n_samples)\n",
    "    # generate random class labels\n",
    "    y_types = generate_class_labels(n_samples, n_classes)\n",
    "    # predict outputs\n",
    "    X = g_model.predict([noise_input, y_types], verbose=0)\n",
    "    # # create 'fake' class labels (0)\n",
    "    y_class = tf.zeros((n_samples, 1))\n",
    "    return X, y_types, y_class\n",
    "\n",
    "def generate_latent_points(latent_dim, n_samples):\n",
    "    # generate points in the latent space\n",
    "    x_input = tf.random.normal(shape=(n_samples, latent_dim))\n",
    "    return x_input\n",
    "\n",
    "def generate_class_labels(n_samples, n_classes):\n",
    "    class_labels = np.zeros((n_samples, n_classes))\n",
    "    for i in range(n_samples):\n",
    "        class_labels[i, np.random.randint(0, n_classes)] = 1\n",
    "        if np.random.random() > 0.5:\n",
    "            class_labels[i, np.random.randint(0, n_classes)] = 1\n",
    "    class_labels = tf.convert_to_tensor(class_labels, dtype=tf.float32)\n",
    "    return class_labels\n",
    "\n",
    "def generate_real_samples(dataset, n_samples):\n",
    "    X, y_types, y_class = [], [], []\n",
    "    while len(X) < n_samples:\n",
    "        dataset.shuffle(100, seed=123)\n",
    "        for x, label in dataset.take(5):\n",
    "            for i in range(len(x)):\n",
    "                X.append(x[i])\n",
    "                y_types.append(label[i][1:])\n",
    "                y_class.append(label[i][0])\n",
    "                if len(X) == n_samples:\n",
    "                    break\n",
    "            if len(X) == n_samples:\n",
    "                break\n",
    "    X = tf.stack(X)\n",
    "    y_types = tf.stack(y_types)\n",
    "    y_class = tf.reshape(tf.stack(y_class), (n_samples, 1))\n",
    "    return X, y_types, y_class"
   ]
  },
  {
   "cell_type": "code",
   "execution_count": 21,
   "metadata": {},
   "outputs": [],
   "source": [
    "def summarize_performance(epoch, g_model, d_model, dataset, latent_dim, n_samples=100):\n",
    "    # prepare real samples\n",
    "    X_real, y_real_types, y_real_class = generate_real_samples(dataset, n_samples)\n",
    "    print(X_real.shape, y_real_types.shape, y_real_class.shape)\n",
    "    # evaluate discriminator on real examples\n",
    "    _, acc_real = d_model.evaluate([X_real, y_real_types], y_real_class, verbose=0)\n",
    "    # prepare fake examples\n",
    "    x_fake, y_fake_types, y_fake_class = generate_fake_samples(g_model, latent_dim, n_samples, 18)\n",
    "    # evaluate discriminator on fake examples\n",
    "    _, acc_fake = d_model.evaluate([x_fake, y_fake_types], y_fake_class, verbose=0)\n",
    "    # summarize discriminator performance\n",
    "    print('>Accuracy real: %.0f%%, fake: %.0f%%' % (acc_real*100, acc_fake*100))\n",
    "    # save plot\n",
    "    save_plot(x_fake, epoch)\n",
    "    # save the generator model tile file\n",
    "    filename = 'cgenerator_model_64_e%03d.h5' % (epoch+1)\n",
    "    g_model.save(filename)\n",
    "\n",
    "def save_plot(examples, epoch, n=10):\n",
    "    # plot images\n",
    "    for i in range(n * n):\n",
    "        # define subplot\n",
    "        plt.subplot(n, n, 1 + i)\n",
    "        # turn off axis\n",
    "        plt.axis('off')\n",
    "        # scale from [-1,1] to [0,1]\n",
    "        examples[i, :, :, :] = (examples[i, :, :, :] + 1) / 2.0\n",
    "        # plot raw pixel data\n",
    "        plt.imshow(examples[i, :, :, :])\n",
    "    # save plot to file\n",
    "    filename = 'cgenerated_plot_64_e%03d.png' % (epoch+1)\n",
    "    plt.savefig(filename)\n",
    "    plt.close()"
   ]
  },
  {
   "cell_type": "code",
   "execution_count": 22,
   "metadata": {},
   "outputs": [],
   "source": [
    "def train(g_model, d_model, gan_model, dataset, latent_dim, n_epochs=10, n_batch=64):\n",
    "    bat_per_epo = int(dataset.cardinality())\n",
    "    # print(bat_per_epo)\n",
    "    # manually enumerate epochs\n",
    "    for i in range(n_epochs):\n",
    "        # enumerate batches over the training set\n",
    "        for j, batch in enumerate(dataset):\n",
    "            # get randomly selected 'real' samples\n",
    "            X_real, y_real_types, y_real_class = batch[0], batch[1][:, 1:], batch[1][:, 0]\n",
    "            # print(y_real_types[0])\n",
    "            # plot_image(X_real[0], str(y_real_class[0]), size=64)\n",
    "            half_batch = int(X_real.shape[0])\n",
    "            # generate 'fake' examples\n",
    "            X_fake, y_fake_types, y_fake_class = generate_fake_samples(g_model, latent_dim, half_batch, 18)\n",
    "            # print(y_fake_types[0])\n",
    "            # plot_image(X_fake[0], str(y_fake_class[0]), size=64)\n",
    "            # create training set for the discriminator\n",
    "            y_real_class = tf.reshape(y_real_class, (half_batch, 1))\n",
    "            X, y_types, y_class = tf.concat([X_real, X_fake], axis=0), tf.concat([y_real_types, y_fake_types], axis=0), tf.concat([y_real_class, y_fake_class], axis=0)\n",
    "            # update discriminator model weights\n",
    "            # print(\"\\ntraining on both real and fake for discriminator...\\n\")\n",
    "            d_loss, _ = d_model.train_on_batch([X, y_types], y_class)\n",
    "            # prepare points in latent space as input for the generator\n",
    "            X_gan, y_gan_types, y_gan_class = generate_latent_points(latent_dim, n_batch), generate_class_labels(n_batch, 18), tf.ones((n_batch, 1))\n",
    "            # print(X_gan.shape, y_gan_types.shape, y_gan_class.shape)\n",
    "            # print(y_gan_types[0])\n",
    "            # print(y_gan_class[0])\n",
    "            # print(\"\\ntraining on random latent points for generator...\\n\")\n",
    "            g_loss = gan_model.train_on_batch([X_gan, y_gan_types], y_gan_class)\n",
    "            # summarize loss on this batch\n",
    "            print('>%d, %d/%d, d=%.3f, g=%.3f' % (i+1, j+1, bat_per_epo, d_loss, g_loss))\n",
    "            # break\n",
    "        # evaluate the model performance, sometimes\n",
    "        if (i) % 10 == 0:\n",
    "            summarize_performance(i, g_model, d_model, dataset, latent_dim)\n",
    "    # save the generator model\n",
    "    g_model.save('cgenerator_model_64_final.h5')\n"
   ]
  },
  {
   "cell_type": "code",
   "execution_count": 23,
   "metadata": {},
   "outputs": [
    {
     "name": "stdout",
     "output_type": "stream",
     "text": [
      ">1, 1/433, d=0.690, g=0.691\n",
      ">1, 2/433, d=0.536, g=0.677\n",
      ">1, 3/433, d=0.438, g=0.625\n",
      ">1, 4/433, d=0.452, g=0.558\n",
      ">1, 5/433, d=0.530, g=0.545\n",
      ">1, 6/433, d=0.539, g=0.610\n",
      ">1, 7/433, d=0.517, g=0.698\n",
      ">1, 8/433, d=0.493, g=0.766\n",
      ">1, 9/433, d=0.498, g=0.909\n",
      ">1, 10/433, d=0.518, g=0.791\n",
      ">1, 11/433, d=0.564, g=1.076\n",
      ">1, 12/433, d=0.532, g=0.673\n",
      ">1, 13/433, d=0.496, g=0.971\n",
      ">1, 14/433, d=0.488, g=0.837\n",
      ">1, 15/433, d=0.407, g=0.771\n",
      ">1, 16/433, d=0.421, g=0.937\n",
      ">1, 17/433, d=0.360, g=1.010\n",
      ">1, 18/433, d=0.309, g=1.122\n",
      ">1, 19/433, d=0.310, g=1.056\n",
      ">1, 20/433, d=0.320, g=1.049\n",
      ">1, 21/433, d=0.341, g=0.782\n",
      ">1, 22/433, d=0.359, g=0.832\n",
      ">1, 23/433, d=0.394, g=0.955\n",
      ">1, 24/433, d=0.352, g=0.994\n",
      ">1, 25/433, d=0.314, g=1.216\n",
      ">1, 26/433, d=0.308, g=1.058\n",
      ">1, 27/433, d=0.390, g=1.799\n",
      ">1, 28/433, d=0.747, g=0.558\n",
      ">1, 29/433, d=0.981, g=0.760\n",
      ">1, 30/433, d=0.589, g=1.259\n",
      ">1, 31/433, d=0.677, g=1.274\n",
      ">1, 32/433, d=0.503, g=1.179\n",
      ">1, 33/433, d=0.401, g=1.458\n",
      ">1, 34/433, d=0.415, g=1.683\n",
      ">1, 35/433, d=0.435, g=1.413\n",
      ">1, 36/433, d=0.432, g=1.461\n",
      ">1, 37/433, d=0.459, g=1.112\n",
      ">1, 38/433, d=0.509, g=1.643\n",
      ">1, 39/433, d=0.484, g=1.152\n",
      ">1, 40/433, d=0.486, g=1.495\n",
      ">1, 41/433, d=0.475, g=0.755\n",
      ">1, 42/433, d=0.560, g=2.771\n",
      ">1, 43/433, d=0.821, g=1.077\n",
      ">1, 44/433, d=0.467, g=0.885\n",
      ">1, 45/433, d=0.458, g=1.307\n",
      ">1, 46/433, d=0.364, g=1.604\n",
      ">1, 47/433, d=0.311, g=1.647\n",
      ">1, 48/433, d=0.293, g=1.631\n",
      ">1, 49/433, d=0.297, g=1.657\n",
      ">1, 50/433, d=0.352, g=1.742\n",
      ">1, 51/433, d=0.439, g=2.006\n",
      ">1, 52/433, d=0.497, g=2.003\n",
      ">1, 53/433, d=0.421, g=1.668\n",
      ">1, 54/433, d=0.601, g=1.724\n",
      ">1, 55/433, d=0.718, g=3.082\n",
      ">1, 56/433, d=1.148, g=0.401\n",
      ">1, 57/433, d=1.709, g=1.745\n",
      ">1, 58/433, d=0.730, g=2.258\n",
      ">1, 59/433, d=0.726, g=1.559\n",
      ">1, 60/433, d=0.732, g=1.277\n",
      ">1, 61/433, d=0.668, g=1.978\n",
      ">1, 62/433, d=0.616, g=1.776\n",
      ">1, 63/433, d=0.536, g=1.386\n",
      ">1, 64/433, d=0.615, g=1.213\n",
      ">1, 65/433, d=0.556, g=1.783\n",
      ">1, 66/433, d=0.473, g=1.054\n",
      ">1, 67/433, d=0.425, g=2.325\n",
      ">1, 68/433, d=0.417, g=0.422\n",
      ">1, 69/433, d=0.795, g=4.231\n",
      ">1, 70/433, d=0.953, g=1.970\n",
      ">1, 71/433, d=0.568, g=1.009\n",
      ">1, 72/433, d=0.598, g=1.071\n",
      ">1, 73/433, d=0.539, g=1.302\n",
      ">1, 74/433, d=0.561, g=1.507\n",
      ">1, 75/433, d=0.541, g=1.451\n",
      ">1, 76/433, d=0.537, g=1.240\n",
      ">1, 77/433, d=0.556, g=1.412\n",
      ">1, 78/433, d=0.573, g=1.268\n",
      ">1, 79/433, d=0.662, g=1.178\n",
      ">1, 80/433, d=0.647, g=1.077\n",
      ">1, 81/433, d=0.684, g=1.092\n",
      ">1, 82/433, d=0.603, g=1.275\n",
      ">1, 83/433, d=0.543, g=1.428\n",
      ">1, 84/433, d=0.441, g=1.369\n",
      ">1, 85/433, d=0.404, g=1.536\n",
      ">1, 86/433, d=0.395, g=1.733\n",
      ">1, 87/433, d=0.480, g=1.748\n",
      ">1, 88/433, d=0.534, g=1.822\n",
      ">1, 89/433, d=0.673, g=2.153\n",
      ">1, 90/433, d=0.795, g=2.069\n",
      ">1, 91/433, d=0.685, g=1.720\n",
      ">1, 92/433, d=0.638, g=2.514\n",
      ">1, 93/433, d=0.429, g=2.208\n",
      ">1, 94/433, d=0.424, g=1.458\n",
      ">1, 95/433, d=0.551, g=1.186\n",
      ">1, 96/433, d=0.631, g=0.855\n",
      ">1, 97/433, d=0.606, g=1.093\n",
      ">1, 98/433, d=0.514, g=1.256\n",
      ">1, 99/433, d=0.527, g=1.156\n",
      ">1, 100/433, d=0.561, g=1.038\n",
      ">1, 101/433, d=0.549, g=1.032\n",
      ">1, 102/433, d=0.547, g=1.224\n",
      ">1, 103/433, d=0.493, g=1.331\n",
      ">1, 104/433, d=0.492, g=1.081\n",
      ">1, 105/433, d=0.568, g=1.098\n",
      ">1, 106/433, d=0.643, g=1.610\n",
      ">1, 107/433, d=0.594, g=1.811\n",
      ">1, 108/433, d=0.547, g=0.992\n",
      ">1, 109/433, d=0.447, g=2.483\n",
      ">1, 110/433, d=0.391, g=2.018\n",
      ">1, 111/433, d=0.492, g=0.817\n",
      ">1, 112/433, d=0.677, g=1.547\n",
      ">1, 113/433, d=0.756, g=1.844\n",
      ">1, 114/433, d=0.763, g=1.651\n",
      ">1, 115/433, d=0.793, g=1.159\n",
      ">1, 116/433, d=0.683, g=1.179\n",
      ">1, 117/433, d=0.566, g=1.411\n",
      ">1, 118/433, d=0.494, g=1.366\n",
      ">1, 119/433, d=0.690, g=1.837\n",
      ">1, 120/433, d=0.592, g=1.072\n",
      ">1, 121/433, d=0.622, g=1.171\n",
      ">1, 122/433, d=0.773, g=0.837\n",
      ">1, 123/433, d=0.698, g=1.242\n",
      ">1, 124/433, d=0.747, g=1.198\n",
      ">1, 125/433, d=0.653, g=1.063\n",
      ">1, 126/433, d=0.685, g=1.302\n",
      ">1, 127/433, d=0.835, g=0.932\n",
      ">1, 128/433, d=0.679, g=0.969\n",
      ">1, 129/433, d=0.577, g=1.199\n",
      ">1, 130/433, d=0.503, g=1.155\n",
      ">1, 131/433, d=0.473, g=1.794\n",
      ">1, 132/433, d=0.473, g=1.281\n",
      ">1, 133/433, d=0.429, g=2.199\n",
      ">1, 134/433, d=0.495, g=0.620\n",
      ">1, 135/433, d=0.816, g=3.922\n",
      ">1, 136/433, d=0.887, g=1.681\n",
      ">1, 137/433, d=0.656, g=0.598\n",
      ">1, 138/433, d=0.676, g=0.998\n",
      ">1, 139/433, d=0.543, g=1.393\n",
      ">1, 140/433, d=0.595, g=1.331\n",
      ">1, 141/433, d=0.723, g=1.345\n",
      ">1, 142/433, d=0.464, g=1.154\n",
      ">1, 143/433, d=0.470, g=0.986\n",
      ">1, 144/433, d=0.582, g=0.991\n",
      ">1, 145/433, d=0.501, g=1.229\n",
      ">1, 146/433, d=0.460, g=1.471\n",
      ">1, 147/433, d=0.492, g=1.294\n",
      ">1, 148/433, d=0.427, g=1.113\n",
      ">1, 149/433, d=0.487, g=1.196\n",
      ">1, 150/433, d=0.509, g=1.540\n",
      ">1, 151/433, d=0.412, g=1.599\n",
      ">1, 152/433, d=0.549, g=1.539\n",
      ">1, 153/433, d=0.705, g=1.629\n",
      ">1, 154/433, d=0.822, g=2.055\n",
      ">1, 155/433, d=0.964, g=1.946\n",
      ">1, 156/433, d=0.883, g=2.224\n",
      ">1, 157/433, d=0.570, g=1.917\n",
      ">1, 158/433, d=0.428, g=1.379\n",
      ">1, 159/433, d=0.388, g=1.364\n",
      ">1, 160/433, d=0.506, g=1.535\n",
      ">1, 161/433, d=0.474, g=1.628\n",
      ">1, 162/433, d=0.580, g=1.680\n",
      ">1, 163/433, d=0.527, g=1.465\n",
      ">1, 164/433, d=0.574, g=1.448\n",
      ">1, 165/433, d=0.509, g=1.801\n",
      ">1, 166/433, d=0.450, g=2.378\n",
      ">1, 167/433, d=0.381, g=2.188\n",
      ">1, 168/433, d=0.348, g=2.493\n",
      ">1, 169/433, d=0.420, g=2.690\n",
      ">1, 170/433, d=0.639, g=2.407\n",
      ">1, 171/433, d=0.897, g=1.508\n",
      ">1, 172/433, d=0.680, g=1.113\n",
      ">1, 173/433, d=0.810, g=1.431\n",
      ">1, 174/433, d=0.669, g=1.147\n",
      ">1, 175/433, d=0.484, g=1.364\n",
      ">1, 176/433, d=0.442, g=1.689\n",
      ">1, 177/433, d=0.470, g=1.383\n",
      ">1, 178/433, d=0.487, g=1.530\n",
      ">1, 179/433, d=0.498, g=1.830\n",
      ">1, 180/433, d=0.547, g=1.081\n",
      ">1, 181/433, d=0.561, g=1.296\n",
      ">1, 182/433, d=0.535, g=1.332\n",
      ">1, 183/433, d=0.437, g=1.746\n",
      ">1, 184/433, d=0.369, g=1.654\n",
      ">1, 185/433, d=0.373, g=1.152\n",
      ">1, 186/433, d=0.516, g=3.011\n",
      ">1, 187/433, d=0.639, g=1.616\n",
      ">1, 188/433, d=0.433, g=1.323\n",
      ">1, 189/433, d=0.475, g=1.622\n",
      ">1, 190/433, d=0.437, g=1.929\n",
      ">1, 191/433, d=0.302, g=2.253\n",
      ">1, 192/433, d=0.545, g=2.114\n",
      ">1, 193/433, d=0.750, g=2.641\n",
      ">1, 194/433, d=0.958, g=2.260\n",
      ">1, 195/433, d=0.638, g=2.120\n",
      ">1, 196/433, d=0.517, g=1.690\n",
      ">1, 197/433, d=0.456, g=1.766\n",
      ">1, 198/433, d=0.406, g=2.155\n",
      ">1, 199/433, d=0.460, g=1.877\n",
      ">1, 200/433, d=0.656, g=0.741\n",
      ">1, 201/433, d=0.749, g=2.015\n",
      ">1, 202/433, d=0.902, g=0.823\n",
      ">1, 203/433, d=0.728, g=1.015\n",
      ">1, 204/433, d=0.634, g=1.301\n",
      ">1, 205/433, d=0.718, g=1.600\n",
      ">1, 206/433, d=0.731, g=1.603\n",
      ">1, 207/433, d=0.679, g=1.767\n",
      ">1, 208/433, d=0.634, g=1.907\n",
      ">1, 209/433, d=0.822, g=2.766\n",
      ">1, 210/433, d=0.622, g=1.853\n",
      ">1, 211/433, d=0.526, g=1.193\n",
      ">1, 212/433, d=0.416, g=1.480\n",
      ">1, 213/433, d=0.341, g=2.117\n",
      ">1, 214/433, d=0.228, g=2.634\n",
      ">1, 215/433, d=0.170, g=3.107\n",
      ">1, 216/433, d=0.181, g=2.535\n",
      ">1, 217/433, d=0.450, g=3.058\n",
      ">1, 218/433, d=0.545, g=4.735\n",
      ">1, 219/433, d=1.379, g=0.662\n",
      ">1, 220/433, d=0.953, g=0.872\n",
      ">1, 221/433, d=0.790, g=1.576\n",
      ">1, 222/433, d=0.617, g=1.517\n",
      ">1, 223/433, d=0.644, g=0.944\n",
      ">1, 224/433, d=0.570, g=1.018\n",
      ">1, 225/433, d=0.585, g=1.261\n",
      ">1, 226/433, d=0.524, g=1.241\n",
      ">1, 227/433, d=0.490, g=1.201\n",
      ">1, 228/433, d=0.543, g=1.371\n",
      ">1, 229/433, d=0.416, g=1.433\n",
      ">1, 230/433, d=0.415, g=1.582\n",
      ">1, 231/433, d=0.425, g=1.420\n",
      ">1, 232/433, d=0.466, g=1.215\n",
      ">1, 233/433, d=0.593, g=1.297\n",
      ">1, 234/433, d=0.653, g=1.485\n",
      ">1, 235/433, d=0.558, g=1.761\n",
      ">1, 236/433, d=0.632, g=1.664\n",
      ">1, 237/433, d=0.580, g=1.590\n",
      ">1, 238/433, d=0.537, g=1.281\n",
      ">1, 239/433, d=0.405, g=2.070\n",
      ">1, 240/433, d=0.365, g=1.731\n",
      ">1, 241/433, d=0.400, g=1.328\n",
      ">1, 242/433, d=0.397, g=2.014\n",
      ">1, 243/433, d=0.455, g=1.470\n",
      ">1, 244/433, d=0.398, g=1.566\n",
      ">1, 245/433, d=0.442, g=1.982\n",
      ">1, 246/433, d=0.445, g=1.512\n",
      ">1, 247/433, d=0.359, g=1.561\n",
      ">1, 248/433, d=0.563, g=1.379\n",
      ">1, 249/433, d=0.405, g=2.107\n",
      ">1, 250/433, d=0.466, g=1.862\n",
      ">1, 251/433, d=0.442, g=1.517\n",
      ">1, 252/433, d=0.458, g=2.431\n",
      ">1, 253/433, d=0.315, g=2.326\n",
      ">1, 254/433, d=0.297, g=1.119\n",
      ">1, 255/433, d=0.452, g=3.218\n",
      ">1, 256/433, d=0.451, g=2.171\n",
      ">1, 257/433, d=0.565, g=1.397\n",
      ">1, 258/433, d=0.444, g=1.648\n",
      ">1, 259/433, d=0.544, g=2.113\n",
      ">1, 260/433, d=0.422, g=2.415\n",
      ">1, 261/433, d=0.603, g=2.432\n",
      ">1, 262/433, d=0.620, g=1.950\n",
      ">1, 263/433, d=0.763, g=1.941\n",
      ">1, 264/433, d=0.668, g=1.735\n",
      ">1, 265/433, d=0.451, g=2.122\n",
      ">1, 266/433, d=0.634, g=1.296\n",
      ">1, 267/433, d=0.590, g=1.596\n",
      ">1, 268/433, d=0.614, g=2.002\n",
      ">1, 269/433, d=0.503, g=2.509\n",
      ">1, 270/433, d=0.555, g=1.692\n",
      ">1, 271/433, d=0.452, g=1.646\n",
      ">1, 272/433, d=0.525, g=2.041\n",
      ">1, 273/433, d=0.443, g=1.784\n",
      ">1, 274/433, d=0.544, g=1.284\n",
      ">1, 275/433, d=0.624, g=1.351\n",
      ">1, 276/433, d=0.573, g=1.697\n",
      ">1, 277/433, d=0.529, g=1.340\n",
      ">1, 278/433, d=0.618, g=1.080\n",
      ">1, 279/433, d=0.720, g=1.400\n",
      ">1, 280/433, d=0.737, g=1.597\n",
      ">1, 281/433, d=0.728, g=1.506\n",
      ">1, 282/433, d=0.555, g=1.340\n",
      ">1, 283/433, d=0.584, g=1.287\n",
      ">1, 284/433, d=0.629, g=1.869\n",
      ">1, 285/433, d=0.591, g=1.719\n",
      ">1, 286/433, d=0.443, g=1.410\n",
      ">1, 287/433, d=0.530, g=1.009\n",
      ">1, 288/433, d=0.517, g=1.283\n",
      ">1, 289/433, d=0.613, g=1.248\n",
      ">1, 290/433, d=0.438, g=1.542\n",
      ">1, 291/433, d=0.478, g=1.682\n",
      ">1, 292/433, d=0.448, g=1.535\n",
      ">1, 293/433, d=0.432, g=1.551\n",
      ">1, 294/433, d=0.403, g=1.585\n",
      ">1, 295/433, d=0.407, g=1.815\n",
      ">1, 296/433, d=0.467, g=1.655\n",
      ">1, 297/433, d=0.404, g=1.551\n",
      ">1, 298/433, d=0.464, g=1.413\n",
      ">1, 299/433, d=0.456, g=1.682\n",
      ">1, 300/433, d=0.494, g=1.575\n",
      ">1, 301/433, d=0.521, g=1.401\n",
      ">1, 302/433, d=0.527, g=2.064\n",
      ">1, 303/433, d=0.457, g=1.491\n",
      ">1, 304/433, d=0.448, g=2.122\n",
      ">1, 305/433, d=0.480, g=1.762\n",
      ">1, 306/433, d=0.404, g=1.274\n",
      ">1, 307/433, d=0.535, g=1.834\n",
      ">1, 308/433, d=0.456, g=2.101\n",
      ">1, 309/433, d=0.535, g=1.989\n",
      ">1, 310/433, d=0.500, g=2.276\n",
      ">1, 311/433, d=0.627, g=2.319\n",
      ">1, 312/433, d=0.583, g=2.237\n",
      ">1, 313/433, d=0.613, g=1.793\n",
      ">1, 314/433, d=0.542, g=2.226\n",
      ">1, 315/433, d=0.470, g=2.033\n",
      ">1, 316/433, d=0.480, g=1.986\n",
      ">1, 317/433, d=0.481, g=1.656\n",
      ">1, 318/433, d=0.515, g=2.270\n",
      ">1, 319/433, d=0.572, g=1.356\n",
      ">1, 320/433, d=0.629, g=1.395\n",
      ">1, 321/433, d=0.585, g=1.812\n",
      ">1, 322/433, d=0.472, g=1.728\n",
      ">1, 323/433, d=0.355, g=1.921\n",
      ">1, 324/433, d=0.546, g=1.447\n",
      ">1, 325/433, d=0.462, g=1.223\n",
      ">1, 326/433, d=0.585, g=1.382\n",
      ">1, 327/433, d=0.474, g=1.085\n",
      ">1, 328/433, d=0.512, g=1.321\n",
      ">1, 329/433, d=0.557, g=1.134\n",
      ">1, 330/433, d=0.559, g=1.336\n",
      ">1, 331/433, d=0.559, g=1.467\n",
      ">1, 332/433, d=0.536, g=1.385\n",
      ">1, 333/433, d=0.446, g=1.626\n",
      ">1, 334/433, d=0.486, g=1.739\n",
      ">1, 335/433, d=0.432, g=1.677\n",
      ">1, 336/433, d=0.354, g=2.054\n",
      ">1, 337/433, d=0.428, g=2.344\n",
      ">1, 338/433, d=0.381, g=1.523\n",
      ">1, 339/433, d=0.688, g=2.663\n",
      ">1, 340/433, d=0.742, g=1.566\n",
      ">1, 341/433, d=0.817, g=1.719\n",
      ">1, 342/433, d=0.558, g=2.310\n",
      ">1, 343/433, d=0.600, g=2.115\n",
      ">1, 344/433, d=0.623, g=1.293\n",
      ">1, 345/433, d=0.651, g=1.979\n",
      ">1, 346/433, d=0.572, g=2.053\n",
      ">1, 347/433, d=0.669, g=1.697\n",
      ">1, 348/433, d=0.653, g=1.884\n",
      ">1, 349/433, d=0.575, g=3.446\n",
      ">1, 350/433, d=0.803, g=0.909\n",
      ">1, 351/433, d=0.798, g=2.305\n",
      ">1, 352/433, d=0.764, g=1.637\n",
      ">1, 353/433, d=0.706, g=0.874\n",
      ">1, 354/433, d=0.744, g=0.919\n",
      ">1, 355/433, d=0.722, g=0.893\n",
      ">1, 356/433, d=0.681, g=1.058\n",
      ">1, 357/433, d=0.618, g=1.104\n",
      ">1, 358/433, d=0.603, g=1.023\n",
      ">1, 359/433, d=0.571, g=1.162\n",
      ">1, 360/433, d=0.502, g=1.159\n",
      ">1, 361/433, d=0.537, g=1.241\n",
      ">1, 362/433, d=0.556, g=1.142\n",
      ">1, 363/433, d=0.557, g=1.175\n",
      ">1, 364/433, d=0.531, g=1.277\n",
      ">1, 365/433, d=0.466, g=1.263\n",
      ">1, 366/433, d=0.517, g=1.081\n",
      ">1, 367/433, d=0.649, g=1.316\n",
      ">1, 368/433, d=0.503, g=1.274\n",
      ">1, 369/433, d=0.503, g=1.316\n",
      ">1, 370/433, d=0.577, g=1.566\n",
      ">1, 371/433, d=0.548, g=1.617\n",
      ">1, 372/433, d=0.524, g=1.273\n",
      ">1, 373/433, d=0.543, g=1.790\n",
      ">1, 374/433, d=0.480, g=1.618\n",
      ">1, 375/433, d=0.544, g=1.641\n",
      ">1, 376/433, d=0.536, g=0.986\n",
      ">1, 377/433, d=0.610, g=1.881\n",
      ">1, 378/433, d=0.562, g=1.231\n",
      ">1, 379/433, d=0.552, g=1.390\n",
      ">1, 380/433, d=0.547, g=1.656\n",
      ">1, 381/433, d=0.483, g=1.085\n",
      ">1, 382/433, d=0.510, g=1.437\n",
      ">1, 383/433, d=0.455, g=1.478\n",
      ">1, 384/433, d=0.657, g=1.626\n",
      ">1, 385/433, d=0.534, g=1.653\n",
      ">1, 386/433, d=0.669, g=1.582\n",
      ">1, 387/433, d=0.642, g=1.294\n",
      ">1, 388/433, d=0.617, g=1.336\n",
      ">1, 389/433, d=0.577, g=1.493\n",
      ">1, 390/433, d=0.521, g=2.212\n",
      ">1, 391/433, d=0.430, g=2.145\n",
      ">1, 392/433, d=0.436, g=2.384\n",
      ">1, 393/433, d=0.437, g=3.182\n",
      ">1, 394/433, d=0.343, g=3.024\n",
      ">1, 395/433, d=0.484, g=3.036\n",
      ">1, 396/433, d=0.558, g=0.911\n",
      ">1, 397/433, d=0.544, g=1.666\n",
      ">1, 398/433, d=0.613, g=1.463\n",
      ">1, 399/433, d=0.645, g=1.359\n",
      ">1, 400/433, d=0.560, g=1.490\n",
      ">1, 401/433, d=0.505, g=1.787\n",
      ">1, 402/433, d=0.565, g=1.442\n",
      ">1, 403/433, d=0.552, g=1.519\n",
      ">1, 404/433, d=0.742, g=2.314\n",
      ">1, 405/433, d=0.750, g=2.062\n",
      ">1, 406/433, d=0.718, g=2.308\n",
      ">1, 407/433, d=0.469, g=2.231\n",
      ">1, 408/433, d=0.490, g=2.129\n",
      ">1, 409/433, d=0.485, g=2.309\n",
      ">1, 410/433, d=0.497, g=2.559\n",
      ">1, 411/433, d=0.526, g=1.987\n",
      ">1, 412/433, d=0.469, g=2.001\n",
      ">1, 413/433, d=0.436, g=2.371\n",
      ">1, 414/433, d=0.384, g=2.508\n",
      ">1, 415/433, d=0.445, g=1.959\n",
      ">1, 416/433, d=0.841, g=1.625\n",
      ">1, 417/433, d=0.649, g=1.767\n",
      ">1, 418/433, d=0.644, g=2.532\n",
      ">1, 419/433, d=0.856, g=1.115\n",
      ">1, 420/433, d=0.740, g=2.484\n",
      ">1, 421/433, d=0.725, g=1.582\n",
      ">1, 422/433, d=0.632, g=1.462\n",
      ">1, 423/433, d=0.490, g=1.436\n",
      ">1, 424/433, d=0.401, g=1.530\n",
      ">1, 425/433, d=0.486, g=1.497\n",
      ">1, 426/433, d=0.519, g=1.399\n",
      ">1, 427/433, d=0.455, g=1.502\n",
      ">1, 428/433, d=0.517, g=1.389\n",
      ">1, 429/433, d=0.638, g=1.599\n",
      ">1, 430/433, d=0.689, g=1.932\n",
      ">1, 431/433, d=0.599, g=1.815\n",
      ">1, 432/433, d=0.746, g=1.521\n",
      ">1, 433/433, d=0.529, g=1.316\n",
      "(100, 64, 64, 3) (100, 18) (100, 1)\n",
      ">Accuracy real: 70%, fake: 81%\n",
      "WARNING:tensorflow:Compiled the loaded model, but the compiled metrics have yet to be built. `model.compile_metrics` will be empty until you train or evaluate the model.\n",
      "WARNING:tensorflow:Compiled the loaded model, but the compiled metrics have yet to be built. `model.compile_metrics` will be empty until you train or evaluate the model.\n"
     ]
    }
   ],
   "source": [
    "# size of the latent space\n",
    "latent_dim = 100\n",
    "# train model\n",
    "train(cgenerator, cdiscriminator, cgan_model, train_ds, latent_dim, n_epochs=1)\n"
   ]
  },
  {
   "cell_type": "code",
   "execution_count": 24,
   "metadata": {},
   "outputs": [
    {
     "name": "stdout",
     "output_type": "stream",
     "text": [
      "WARNING:tensorflow:Compiled the loaded model, but the compiled metrics have yet to be built. `model.compile_metrics` will be empty until you train or evaluate the model.\n"
     ]
    }
   ],
   "source": [
    "# save model to resume training\n",
    "cgenerator.save('cgenerator_model_64.h5')\n",
    "cdiscriminator.save_weights('cdiscriminator_model_64.h5')\n",
    "# cdiscriminator.save('cdiscriminator_model_64.h5')\n",
    "cgan_model.save('cgan_model_64.h5')"
   ]
  },
  {
   "attachments": {},
   "cell_type": "markdown",
   "metadata": {},
   "source": [
    "test"
   ]
  },
  {
   "cell_type": "code",
   "execution_count": 26,
   "metadata": {},
   "outputs": [
    {
     "name": "stdout",
     "output_type": "stream",
     "text": [
      "WARNING:tensorflow:No training configuration found in the save file, so the model was *not* compiled. Compile it manually.\n"
     ]
    }
   ],
   "source": [
    "generator = tf.keras.models.load_model('cgenerator_model_64.h5')\n",
    "discriminator = define_cdiscriminator((64, 64, 3), 18)\n",
    "discriminator.load_weights('cdiscriminator_model_64.h5')\n",
    "# discriminator = tf.keras.models.load_model('cdiscriminator_model_64.h5')\n",
    "gan_model = tf.keras.models.load_model('cgan_model_64.h5')"
   ]
  },
  {
   "cell_type": "code",
   "execution_count": 27,
   "metadata": {},
   "outputs": [
    {
     "name": "stdout",
     "output_type": "stream",
     "text": [
      ">1, 1/433, d=0.549, g=0.957\n",
      ">1, 2/433, d=0.445, g=0.812\n",
      ">1, 3/433, d=0.275, g=0.677\n",
      ">1, 4/433, d=0.250, g=0.547\n",
      ">1, 5/433, d=0.128, g=0.506\n",
      ">1, 6/433, d=0.100, g=0.474\n",
      ">1, 7/433, d=0.111, g=0.365\n",
      ">1, 8/433, d=0.133, g=0.362\n",
      ">1, 9/433, d=0.116, g=0.306\n",
      ">1, 10/433, d=0.056, g=0.300\n",
      ">1, 11/433, d=0.072, g=0.243\n",
      ">1, 12/433, d=0.066, g=0.223\n",
      ">1, 13/433, d=0.035, g=0.202\n",
      ">1, 14/433, d=0.033, g=0.154\n",
      ">1, 15/433, d=0.069, g=0.154\n",
      ">1, 16/433, d=0.026, g=0.175\n",
      ">1, 17/433, d=0.011, g=0.122\n",
      ">1, 18/433, d=0.014, g=0.120\n",
      ">1, 19/433, d=0.013, g=0.092\n",
      ">1, 20/433, d=0.016, g=0.094\n",
      ">1, 21/433, d=0.017, g=0.056\n",
      ">1, 22/433, d=0.018, g=0.071\n",
      ">1, 23/433, d=0.007, g=0.077\n",
      ">1, 24/433, d=0.012, g=0.076\n",
      ">1, 25/433, d=0.014, g=0.054\n",
      ">1, 26/433, d=0.019, g=0.045\n",
      ">1, 27/433, d=0.005, g=0.054\n",
      ">1, 28/433, d=0.008, g=0.039\n",
      ">1, 29/433, d=0.026, g=0.034\n",
      ">1, 30/433, d=0.048, g=0.040\n",
      ">1, 31/433, d=0.010, g=0.033\n",
      ">1, 32/433, d=0.006, g=0.037\n",
      ">1, 33/433, d=0.015, g=0.036\n",
      ">1, 34/433, d=0.007, g=0.028\n",
      ">1, 35/433, d=0.010, g=0.026\n",
      ">1, 36/433, d=0.007, g=0.026\n",
      ">1, 37/433, d=0.006, g=0.019\n",
      ">1, 38/433, d=0.015, g=0.027\n",
      ">1, 39/433, d=0.005, g=0.026\n",
      ">1, 40/433, d=0.009, g=0.022\n",
      ">1, 41/433, d=0.011, g=0.016\n",
      ">1, 42/433, d=0.001, g=0.018\n",
      ">1, 43/433, d=0.001, g=0.015\n",
      ">1, 44/433, d=0.001, g=0.016\n",
      ">1, 45/433, d=0.016, g=0.015\n",
      ">1, 46/433, d=0.008, g=0.016\n",
      ">1, 47/433, d=0.008, g=0.012\n",
      ">1, 48/433, d=0.005, g=0.019\n",
      ">1, 49/433, d=0.011, g=0.020\n",
      ">1, 50/433, d=0.006, g=0.019\n",
      ">1, 51/433, d=0.002, g=0.010\n",
      ">1, 52/433, d=0.002, g=0.012\n",
      ">1, 53/433, d=0.005, g=0.013\n",
      ">1, 54/433, d=0.000, g=0.012\n",
      ">1, 55/433, d=0.005, g=0.011\n",
      ">1, 56/433, d=0.001, g=0.016\n",
      ">1, 57/433, d=0.002, g=0.010\n",
      ">1, 58/433, d=0.001, g=0.010\n",
      ">1, 59/433, d=0.003, g=0.009\n",
      ">1, 60/433, d=0.001, g=0.010\n",
      ">1, 61/433, d=0.004, g=0.010\n",
      ">1, 62/433, d=0.001, g=0.008\n",
      ">1, 63/433, d=0.002, g=0.008\n",
      ">1, 64/433, d=0.002, g=0.010\n",
      ">1, 65/433, d=0.001, g=0.010\n",
      ">1, 66/433, d=0.000, g=0.008\n",
      ">1, 67/433, d=0.000, g=0.007\n",
      ">1, 68/433, d=0.002, g=0.008\n",
      ">1, 69/433, d=0.003, g=0.008\n",
      ">1, 70/433, d=0.001, g=0.007\n",
      ">1, 71/433, d=0.000, g=0.008\n",
      ">1, 72/433, d=0.001, g=0.009\n",
      ">1, 73/433, d=0.001, g=0.009\n",
      ">1, 74/433, d=0.001, g=0.009\n",
      ">1, 75/433, d=0.003, g=0.005\n",
      ">1, 76/433, d=0.001, g=0.007\n",
      ">1, 77/433, d=0.001, g=0.006\n",
      ">1, 78/433, d=0.001, g=0.006\n",
      ">1, 79/433, d=0.005, g=0.005\n",
      ">1, 80/433, d=0.002, g=0.006\n",
      ">1, 81/433, d=0.001, g=0.007\n",
      ">1, 82/433, d=0.000, g=0.004\n",
      ">1, 83/433, d=0.000, g=0.007\n",
      ">1, 84/433, d=0.001, g=0.007\n",
      ">1, 85/433, d=0.000, g=0.005\n",
      ">1, 86/433, d=0.000, g=0.005\n",
      ">1, 87/433, d=0.001, g=0.005\n",
      ">1, 88/433, d=0.000, g=0.005\n",
      ">1, 89/433, d=0.000, g=0.005\n",
      ">1, 90/433, d=0.000, g=0.004\n",
      ">1, 91/433, d=0.000, g=0.005\n",
      ">1, 92/433, d=0.001, g=0.006\n",
      ">1, 93/433, d=0.000, g=0.005\n",
      ">1, 94/433, d=0.000, g=0.005\n",
      ">1, 95/433, d=0.001, g=0.004\n",
      ">1, 96/433, d=0.001, g=0.004\n",
      ">1, 97/433, d=0.001, g=0.005\n",
      ">1, 98/433, d=0.000, g=0.003\n",
      ">1, 99/433, d=0.002, g=0.004\n",
      ">1, 100/433, d=0.001, g=0.004\n",
      ">1, 101/433, d=0.003, g=0.003\n",
      ">1, 102/433, d=0.001, g=0.004\n",
      ">1, 103/433, d=0.000, g=0.004\n",
      ">1, 104/433, d=0.006, g=0.004\n",
      ">1, 105/433, d=0.000, g=0.004\n",
      ">1, 106/433, d=0.018, g=0.004\n",
      ">1, 107/433, d=0.057, g=0.004\n",
      ">1, 108/433, d=0.617, g=0.004\n",
      ">1, 109/433, d=1.984, g=0.004\n",
      ">1, 110/433, d=0.041, g=0.004\n",
      ">1, 111/433, d=0.017, g=0.004\n",
      ">1, 112/433, d=0.059, g=0.005\n",
      ">1, 113/433, d=0.025, g=0.003\n",
      ">1, 114/433, d=0.025, g=0.003\n",
      ">1, 115/433, d=0.024, g=0.003\n",
      ">1, 116/433, d=0.025, g=0.004\n",
      ">1, 117/433, d=0.034, g=0.003\n",
      ">1, 118/433, d=0.029, g=0.004\n",
      ">1, 119/433, d=0.015, g=0.003\n",
      ">1, 120/433, d=0.024, g=0.004\n",
      ">1, 121/433, d=0.011, g=0.003\n",
      ">1, 122/433, d=0.012, g=0.003\n",
      ">1, 123/433, d=0.010, g=0.003\n",
      ">1, 124/433, d=0.017, g=0.003\n",
      ">1, 125/433, d=0.028, g=0.003\n",
      ">1, 126/433, d=0.016, g=0.003\n",
      ">1, 127/433, d=0.012, g=0.003\n",
      ">1, 128/433, d=0.014, g=0.003\n",
      ">1, 129/433, d=0.008, g=0.002\n",
      ">1, 130/433, d=0.010, g=0.003\n",
      ">1, 131/433, d=0.007, g=0.002\n",
      ">1, 132/433, d=0.005, g=0.002\n",
      ">1, 133/433, d=0.009, g=0.002\n",
      ">1, 134/433, d=0.010, g=0.002\n",
      ">1, 135/433, d=0.007, g=0.003\n",
      ">1, 136/433, d=0.004, g=0.003\n",
      ">1, 137/433, d=0.008, g=0.002\n",
      ">1, 138/433, d=0.007, g=0.002\n",
      ">1, 139/433, d=0.006, g=0.002\n",
      ">1, 140/433, d=0.006, g=0.002\n",
      ">1, 141/433, d=0.010, g=0.003\n",
      ">1, 142/433, d=0.005, g=0.002\n",
      ">1, 143/433, d=0.003, g=0.003\n",
      ">1, 144/433, d=0.009, g=0.002\n",
      ">1, 145/433, d=0.003, g=0.002\n",
      ">1, 146/433, d=0.003, g=0.002\n",
      ">1, 147/433, d=0.009, g=0.003\n",
      ">1, 148/433, d=0.003, g=0.002\n",
      ">1, 149/433, d=0.004, g=0.002\n",
      ">1, 150/433, d=0.012, g=0.002\n",
      ">1, 151/433, d=0.034, g=0.002\n",
      ">1, 152/433, d=0.005, g=0.003\n",
      ">1, 153/433, d=0.008, g=0.003\n",
      ">1, 154/433, d=0.011, g=0.002\n",
      ">1, 155/433, d=0.003, g=0.002\n",
      ">1, 156/433, d=0.003, g=0.002\n",
      ">1, 157/433, d=0.010, g=0.002\n",
      ">1, 158/433, d=0.004, g=0.002\n",
      ">1, 159/433, d=0.001, g=0.002\n",
      ">1, 160/433, d=0.006, g=0.002\n",
      ">1, 161/433, d=0.005, g=0.001\n",
      ">1, 162/433, d=0.001, g=0.002\n",
      ">1, 163/433, d=0.001, g=0.002\n",
      ">1, 164/433, d=0.001, g=0.002\n",
      ">1, 165/433, d=0.004, g=0.002\n",
      ">1, 166/433, d=0.005, g=0.003\n",
      ">1, 167/433, d=0.002, g=0.002\n",
      ">1, 168/433, d=0.001, g=0.002\n",
      ">1, 169/433, d=0.003, g=0.002\n",
      ">1, 170/433, d=0.005, g=0.002\n",
      ">1, 171/433, d=0.003, g=0.001\n",
      ">1, 172/433, d=0.013, g=0.002\n",
      ">1, 173/433, d=0.004, g=0.002\n",
      ">1, 174/433, d=0.003, g=0.002\n",
      ">1, 175/433, d=0.004, g=0.002\n",
      ">1, 176/433, d=0.001, g=0.002\n",
      ">1, 177/433, d=0.002, g=0.002\n",
      ">1, 178/433, d=0.004, g=0.002\n",
      ">1, 179/433, d=0.025, g=0.002\n",
      ">1, 180/433, d=0.006, g=0.002\n",
      ">1, 181/433, d=0.002, g=0.002\n",
      ">1, 182/433, d=0.005, g=0.001\n",
      ">1, 183/433, d=0.001, g=0.002\n",
      ">1, 184/433, d=0.001, g=0.002\n",
      ">1, 185/433, d=0.009, g=0.002\n",
      ">1, 186/433, d=0.002, g=0.002\n",
      ">1, 187/433, d=0.006, g=0.002\n",
      ">1, 188/433, d=0.003, g=0.002\n",
      ">1, 189/433, d=0.002, g=0.002\n",
      ">1, 190/433, d=0.001, g=0.002\n",
      ">1, 191/433, d=0.005, g=0.001\n",
      ">1, 192/433, d=0.004, g=0.002\n",
      ">1, 193/433, d=0.001, g=0.001\n",
      ">1, 194/433, d=0.002, g=0.002\n",
      ">1, 195/433, d=0.007, g=0.002\n",
      ">1, 196/433, d=0.000, g=0.001\n",
      ">1, 197/433, d=0.002, g=0.001\n",
      ">1, 198/433, d=0.001, g=0.002\n",
      ">1, 199/433, d=0.001, g=0.001\n",
      ">1, 200/433, d=0.002, g=0.001\n",
      ">1, 201/433, d=0.003, g=0.002\n",
      ">1, 202/433, d=0.001, g=0.001\n",
      ">1, 203/433, d=0.001, g=0.001\n",
      ">1, 204/433, d=0.004, g=0.001\n",
      ">1, 205/433, d=0.004, g=0.001\n",
      ">1, 206/433, d=0.003, g=0.001\n",
      ">1, 207/433, d=0.001, g=0.002\n",
      ">1, 208/433, d=0.000, g=0.001\n",
      ">1, 209/433, d=0.000, g=0.002\n",
      ">1, 210/433, d=0.003, g=0.001\n",
      ">1, 211/433, d=0.000, g=0.001\n",
      ">1, 212/433, d=0.002, g=0.002\n",
      ">1, 213/433, d=0.001, g=0.001\n",
      ">1, 214/433, d=0.002, g=0.001\n",
      ">1, 215/433, d=0.009, g=0.002\n",
      ">1, 216/433, d=0.001, g=0.001\n",
      ">1, 217/433, d=0.003, g=0.001\n",
      ">1, 218/433, d=0.002, g=0.001\n",
      ">1, 219/433, d=0.001, g=0.001\n",
      ">1, 220/433, d=0.001, g=0.001\n",
      ">1, 221/433, d=0.002, g=0.002\n",
      ">1, 222/433, d=0.001, g=0.001\n",
      ">1, 223/433, d=0.009, g=0.001\n",
      ">1, 224/433, d=0.003, g=0.001\n",
      ">1, 225/433, d=0.001, g=0.001\n",
      ">1, 226/433, d=0.001, g=0.001\n",
      ">1, 227/433, d=0.000, g=0.001\n",
      ">1, 228/433, d=0.002, g=0.001\n",
      ">1, 229/433, d=0.001, g=0.001\n",
      ">1, 230/433, d=0.000, g=0.001\n",
      ">1, 231/433, d=0.001, g=0.001\n",
      ">1, 232/433, d=0.001, g=0.001\n",
      ">1, 233/433, d=0.000, g=0.001\n",
      ">1, 234/433, d=0.003, g=0.001\n",
      ">1, 235/433, d=0.010, g=0.001\n",
      ">1, 236/433, d=0.002, g=0.001\n",
      ">1, 237/433, d=0.001, g=0.001\n",
      ">1, 238/433, d=0.000, g=0.001\n",
      ">1, 239/433, d=0.003, g=0.001\n",
      ">1, 240/433, d=0.000, g=0.001\n",
      ">1, 241/433, d=0.000, g=0.001\n",
      ">1, 242/433, d=0.001, g=0.001\n",
      ">1, 243/433, d=0.000, g=0.001\n",
      ">1, 244/433, d=0.019, g=0.001\n",
      ">1, 245/433, d=0.001, g=0.001\n",
      ">1, 246/433, d=0.003, g=0.001\n",
      ">1, 247/433, d=0.017, g=0.001\n",
      ">1, 248/433, d=0.001, g=0.001\n",
      ">1, 249/433, d=0.000, g=0.001\n",
      ">1, 250/433, d=0.001, g=0.001\n",
      ">1, 251/433, d=0.001, g=0.002\n",
      ">1, 252/433, d=0.002, g=0.001\n",
      ">1, 253/433, d=0.001, g=0.001\n",
      ">1, 254/433, d=0.000, g=0.001\n",
      ">1, 255/433, d=0.003, g=0.001\n",
      ">1, 256/433, d=0.001, g=0.001\n",
      ">1, 257/433, d=0.001, g=0.001\n",
      ">1, 258/433, d=0.001, g=0.001\n",
      ">1, 259/433, d=0.004, g=0.001\n",
      ">1, 260/433, d=0.001, g=0.001\n",
      ">1, 261/433, d=0.001, g=0.001\n",
      ">1, 262/433, d=0.001, g=0.001\n",
      ">1, 263/433, d=0.000, g=0.001\n",
      ">1, 264/433, d=0.001, g=0.001\n",
      ">1, 265/433, d=0.001, g=0.001\n",
      ">1, 266/433, d=0.000, g=0.001\n",
      ">1, 267/433, d=0.000, g=0.001\n",
      ">1, 268/433, d=0.001, g=0.001\n",
      ">1, 269/433, d=0.006, g=0.001\n",
      ">1, 270/433, d=0.000, g=0.001\n",
      ">1, 271/433, d=0.000, g=0.001\n",
      ">1, 272/433, d=0.000, g=0.001\n",
      ">1, 273/433, d=0.001, g=0.001\n",
      ">1, 274/433, d=0.001, g=0.001\n",
      ">1, 275/433, d=0.001, g=0.001\n",
      ">1, 276/433, d=0.001, g=0.001\n",
      ">1, 277/433, d=0.001, g=0.001\n",
      ">1, 278/433, d=0.001, g=0.001\n",
      ">1, 279/433, d=0.008, g=0.001\n",
      ">1, 280/433, d=0.001, g=0.001\n",
      ">1, 281/433, d=0.001, g=0.001\n",
      ">1, 282/433, d=0.000, g=0.001\n",
      ">1, 283/433, d=0.000, g=0.001\n",
      ">1, 284/433, d=0.005, g=0.001\n",
      ">1, 285/433, d=0.001, g=0.001\n",
      ">1, 286/433, d=0.001, g=0.001\n",
      ">1, 287/433, d=0.002, g=0.001\n",
      ">1, 288/433, d=0.000, g=0.001\n",
      ">1, 289/433, d=0.000, g=0.001\n",
      ">1, 290/433, d=0.001, g=0.001\n",
      ">1, 291/433, d=0.002, g=0.001\n",
      ">1, 292/433, d=0.001, g=0.001\n",
      ">1, 293/433, d=0.001, g=0.001\n",
      ">1, 294/433, d=0.000, g=0.001\n",
      ">1, 295/433, d=0.001, g=0.001\n",
      ">1, 296/433, d=0.001, g=0.001\n",
      ">1, 297/433, d=0.001, g=0.001\n",
      ">1, 298/433, d=0.000, g=0.001\n",
      ">1, 299/433, d=0.001, g=0.001\n",
      ">1, 300/433, d=0.000, g=0.001\n",
      ">1, 301/433, d=0.002, g=0.001\n",
      ">1, 302/433, d=0.000, g=0.001\n",
      ">1, 303/433, d=0.001, g=0.001\n",
      ">1, 304/433, d=0.000, g=0.001\n",
      ">1, 305/433, d=0.002, g=0.001\n",
      ">1, 306/433, d=0.001, g=0.001\n",
      ">1, 307/433, d=0.001, g=0.001\n",
      ">1, 308/433, d=0.001, g=0.001\n",
      ">1, 309/433, d=0.001, g=0.001\n",
      ">1, 310/433, d=0.000, g=0.001\n",
      ">1, 311/433, d=0.001, g=0.001\n",
      ">1, 312/433, d=0.003, g=0.001\n",
      ">1, 313/433, d=0.001, g=0.001\n",
      ">1, 314/433, d=0.001, g=0.001\n",
      ">1, 315/433, d=0.001, g=0.001\n",
      ">1, 316/433, d=0.000, g=0.001\n",
      ">1, 317/433, d=0.001, g=0.001\n",
      ">1, 318/433, d=0.001, g=0.001\n",
      ">1, 319/433, d=0.001, g=0.001\n",
      ">1, 320/433, d=0.001, g=0.001\n",
      ">1, 321/433, d=0.000, g=0.001\n",
      ">1, 322/433, d=0.000, g=0.001\n",
      ">1, 323/433, d=0.000, g=0.001\n",
      ">1, 324/433, d=0.000, g=0.001\n",
      ">1, 325/433, d=0.001, g=0.001\n",
      ">1, 326/433, d=0.000, g=0.001\n",
      ">1, 327/433, d=0.000, g=0.001\n",
      ">1, 328/433, d=0.000, g=0.001\n",
      ">1, 329/433, d=0.003, g=0.001\n",
      ">1, 330/433, d=0.000, g=0.001\n",
      ">1, 331/433, d=0.000, g=0.001\n",
      ">1, 332/433, d=0.001, g=0.001\n",
      ">1, 333/433, d=0.001, g=0.001\n",
      ">1, 334/433, d=0.001, g=0.001\n",
      ">1, 335/433, d=0.001, g=0.001\n",
      ">1, 336/433, d=0.000, g=0.001\n",
      ">1, 337/433, d=0.000, g=0.001\n",
      ">1, 338/433, d=0.001, g=0.001\n",
      ">1, 339/433, d=0.000, g=0.001\n",
      ">1, 340/433, d=0.026, g=0.001\n",
      ">1, 341/433, d=0.006, g=0.001\n",
      ">1, 342/433, d=0.000, g=0.001\n",
      ">1, 343/433, d=0.001, g=0.001\n",
      ">1, 344/433, d=0.001, g=0.001\n",
      ">1, 345/433, d=0.000, g=0.001\n",
      ">1, 346/433, d=0.000, g=0.001\n",
      ">1, 347/433, d=0.001, g=0.001\n",
      ">1, 348/433, d=0.001, g=0.001\n",
      ">1, 349/433, d=0.000, g=0.001\n",
      ">1, 350/433, d=0.002, g=0.001\n",
      ">1, 351/433, d=0.000, g=0.001\n",
      ">1, 352/433, d=0.000, g=0.001\n",
      ">1, 353/433, d=0.000, g=0.001\n",
      ">1, 354/433, d=0.000, g=0.001\n",
      ">1, 355/433, d=0.000, g=0.001\n",
      ">1, 356/433, d=0.000, g=0.001\n",
      ">1, 357/433, d=0.001, g=0.001\n",
      ">1, 358/433, d=0.001, g=0.001\n",
      ">1, 359/433, d=0.001, g=0.001\n",
      ">1, 360/433, d=0.000, g=0.001\n",
      ">1, 361/433, d=0.000, g=0.001\n",
      ">1, 362/433, d=0.001, g=0.001\n",
      ">1, 363/433, d=0.001, g=0.001\n",
      ">1, 364/433, d=0.000, g=0.001\n",
      ">1, 365/433, d=0.000, g=0.001\n",
      ">1, 366/433, d=0.000, g=0.001\n",
      ">1, 367/433, d=0.000, g=0.001\n",
      ">1, 368/433, d=0.001, g=0.001\n",
      ">1, 369/433, d=0.000, g=0.001\n",
      ">1, 370/433, d=0.000, g=0.000\n",
      ">1, 371/433, d=0.000, g=0.001\n",
      ">1, 372/433, d=0.000, g=0.001\n",
      ">1, 373/433, d=0.000, g=0.001\n",
      ">1, 374/433, d=0.000, g=0.001\n",
      ">1, 375/433, d=0.000, g=0.001\n",
      ">1, 376/433, d=0.000, g=0.001\n",
      ">1, 377/433, d=0.001, g=0.001\n",
      ">1, 378/433, d=0.003, g=0.001\n",
      ">1, 379/433, d=0.001, g=0.001\n",
      ">1, 380/433, d=0.012, g=0.001\n",
      ">1, 381/433, d=0.000, g=0.001\n",
      ">1, 382/433, d=0.000, g=0.000\n",
      ">1, 383/433, d=0.000, g=0.001\n",
      ">1, 384/433, d=0.005, g=0.001\n",
      ">1, 385/433, d=0.000, g=0.001\n",
      ">1, 386/433, d=0.000, g=0.000\n",
      ">1, 387/433, d=0.000, g=0.001\n",
      ">1, 388/433, d=0.007, g=0.000\n",
      ">1, 389/433, d=0.000, g=0.001\n",
      ">1, 390/433, d=0.000, g=0.001\n",
      ">1, 391/433, d=0.001, g=0.001\n",
      ">1, 392/433, d=0.000, g=0.001\n",
      ">1, 393/433, d=0.000, g=0.001\n",
      ">1, 394/433, d=0.000, g=0.000\n",
      ">1, 395/433, d=0.002, g=0.001\n",
      ">1, 396/433, d=0.000, g=0.001\n",
      ">1, 397/433, d=0.000, g=0.001\n",
      ">1, 398/433, d=0.001, g=0.001\n",
      ">1, 399/433, d=0.000, g=0.001\n",
      ">1, 400/433, d=0.001, g=0.001\n",
      ">1, 401/433, d=0.000, g=0.001\n",
      ">1, 402/433, d=0.000, g=0.001\n",
      ">1, 403/433, d=0.000, g=0.001\n",
      ">1, 404/433, d=0.000, g=0.001\n",
      ">1, 405/433, d=0.001, g=0.001\n",
      ">1, 406/433, d=0.000, g=0.000\n",
      ">1, 407/433, d=0.000, g=0.001\n",
      ">1, 408/433, d=0.000, g=0.001\n",
      ">1, 409/433, d=0.000, g=0.001\n",
      ">1, 410/433, d=0.000, g=0.001\n",
      ">1, 411/433, d=0.000, g=0.001\n",
      ">1, 412/433, d=0.000, g=0.001\n",
      ">1, 413/433, d=0.000, g=0.001\n",
      ">1, 414/433, d=0.000, g=0.001\n",
      ">1, 415/433, d=0.000, g=0.000\n",
      ">1, 416/433, d=0.000, g=0.001\n",
      ">1, 417/433, d=0.001, g=0.001\n",
      ">1, 418/433, d=0.000, g=0.001\n",
      ">1, 419/433, d=0.003, g=0.000\n",
      ">1, 420/433, d=0.001, g=0.001\n",
      ">1, 421/433, d=0.001, g=0.001\n",
      ">1, 422/433, d=0.009, g=0.000\n",
      ">1, 423/433, d=0.003, g=0.000\n",
      ">1, 424/433, d=0.015, g=0.001\n",
      ">1, 425/433, d=0.000, g=0.001\n",
      ">1, 426/433, d=0.000, g=0.001\n",
      ">1, 427/433, d=0.000, g=0.001\n",
      ">1, 428/433, d=0.001, g=0.001\n",
      ">1, 429/433, d=0.000, g=0.000\n",
      ">1, 430/433, d=0.004, g=0.001\n",
      ">1, 431/433, d=0.000, g=0.001\n",
      ">1, 432/433, d=0.007, g=0.001\n",
      ">1, 433/433, d=0.001, g=0.000\n",
      "(100, 64, 64, 3) (100, 18) (100, 1)\n",
      ">Accuracy real: 100%, fake: 100%\n",
      "WARNING:tensorflow:Compiled the loaded model, but the compiled metrics have yet to be built. `model.compile_metrics` will be empty until you train or evaluate the model.\n",
      "WARNING:tensorflow:Compiled the loaded model, but the compiled metrics have yet to be built. `model.compile_metrics` will be empty until you train or evaluate the model.\n"
     ]
    }
   ],
   "source": [
    "train(generator, discriminator, gan_model, train_ds, latent_dim, n_epochs=1)"
   ]
  },
  {
   "cell_type": "code",
   "execution_count": 31,
   "metadata": {},
   "outputs": [
    {
     "data": {
      "application/vnd.plotly.v1+json": {
       "config": {
        "plotlyServerURL": "https://plot.ly"
       },
       "data": [
        {
         "hovertemplate": "x: %{x}<br>y: %{y}<extra></extra>",
         "name": "0",
         "source": "data:image/png;base64,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",
         "type": "image",
         "xaxis": "x",
         "yaxis": "y"
        }
       ],
       "layout": {
        "annotations": [
         {
          "align": "left",
          "bgcolor": "#ff7f0e",
          "bordercolor": "#c7c7c7",
          "borderpad": 2,
          "borderwidth": 1,
          "font": {
           "color": "#ffffff",
           "family": "Courier New, monospace",
           "size": 12
          },
          "opacity": 0.8,
          "showarrow": false,
          "text": "real: 46%",
          "x": 1,
          "xref": "paper",
          "y": 1,
          "yref": "paper"
         }
        ],
        "height": 350,
        "images": [
         {
          "layer": "below",
          "sizex": 0.3,
          "sizey": 0.3,
          "source": "images/final/real/1.png",
          "x": 1,
          "xref": "paper",
          "y": 1.1,
          "yref": "paper"
         }
        ],
        "margin": {
         "l": 0,
         "t": 60
        },
        "shapes": [
         {
          "line": {
           "color": "black",
           "width": 2
          },
          "type": "rect",
          "x0": 0,
          "x1": 64,
          "xref": "x",
          "y0": 0,
          "y1": 64,
          "yref": "y"
         }
        ],
        "template": {
         "data": {
          "bar": [
           {
            "error_x": {
             "color": "#2a3f5f"
            },
            "error_y": {
             "color": "#2a3f5f"
            },
            "marker": {
             "line": {
              "color": "#E5ECF6",
              "width": 0.5
             },
             "pattern": {
              "fillmode": "overlay",
              "size": 10,
              "solidity": 0.2
             }
            },
            "type": "bar"
           }
          ],
          "barpolar": [
           {
            "marker": {
             "line": {
              "color": "#E5ECF6",
              "width": 0.5
             },
             "pattern": {
              "fillmode": "overlay",
              "size": 10,
              "solidity": 0.2
             }
            },
            "type": "barpolar"
           }
          ],
          "carpet": [
           {
            "aaxis": {
             "endlinecolor": "#2a3f5f",
             "gridcolor": "white",
             "linecolor": "white",
             "minorgridcolor": "white",
             "startlinecolor": "#2a3f5f"
            },
            "baxis": {
             "endlinecolor": "#2a3f5f",
             "gridcolor": "white",
             "linecolor": "white",
             "minorgridcolor": "white",
             "startlinecolor": "#2a3f5f"
            },
            "type": "carpet"
           }
          ],
          "choropleth": [
           {
            "colorbar": {
             "outlinewidth": 0,
             "ticks": ""
            },
            "type": "choropleth"
           }
          ],
          "contour": [
           {
            "colorbar": {
             "outlinewidth": 0,
             "ticks": ""
            },
            "colorscale": [
             [
              0,
              "#0d0887"
             ],
             [
              0.1111111111111111,
              "#46039f"
             ],
             [
              0.2222222222222222,
              "#7201a8"
             ],
             [
              0.3333333333333333,
              "#9c179e"
             ],
             [
              0.4444444444444444,
              "#bd3786"
             ],
             [
              0.5555555555555556,
              "#d8576b"
             ],
             [
              0.6666666666666666,
              "#ed7953"
             ],
             [
              0.7777777777777778,
              "#fb9f3a"
             ],
             [
              0.8888888888888888,
              "#fdca26"
             ],
             [
              1,
              "#f0f921"
             ]
            ],
            "type": "contour"
           }
          ],
          "contourcarpet": [
           {
            "colorbar": {
             "outlinewidth": 0,
             "ticks": ""
            },
            "type": "contourcarpet"
           }
          ],
          "heatmap": [
           {
            "colorbar": {
             "outlinewidth": 0,
             "ticks": ""
            },
            "colorscale": [
             [
              0,
              "#0d0887"
             ],
             [
              0.1111111111111111,
              "#46039f"
             ],
             [
              0.2222222222222222,
              "#7201a8"
             ],
             [
              0.3333333333333333,
              "#9c179e"
             ],
             [
              0.4444444444444444,
              "#bd3786"
             ],
             [
              0.5555555555555556,
              "#d8576b"
             ],
             [
              0.6666666666666666,
              "#ed7953"
             ],
             [
              0.7777777777777778,
              "#fb9f3a"
             ],
             [
              0.8888888888888888,
              "#fdca26"
             ],
             [
              1,
              "#f0f921"
             ]
            ],
            "type": "heatmap"
           }
          ],
          "heatmapgl": [
           {
            "colorbar": {
             "outlinewidth": 0,
             "ticks": ""
            },
            "colorscale": [
             [
              0,
              "#0d0887"
             ],
             [
              0.1111111111111111,
              "#46039f"
             ],
             [
              0.2222222222222222,
              "#7201a8"
             ],
             [
              0.3333333333333333,
              "#9c179e"
             ],
             [
              0.4444444444444444,
              "#bd3786"
             ],
             [
              0.5555555555555556,
              "#d8576b"
             ],
             [
              0.6666666666666666,
              "#ed7953"
             ],
             [
              0.7777777777777778,
              "#fb9f3a"
             ],
             [
              0.8888888888888888,
              "#fdca26"
             ],
             [
              1,
              "#f0f921"
             ]
            ],
            "type": "heatmapgl"
           }
          ],
          "histogram": [
           {
            "marker": {
             "pattern": {
              "fillmode": "overlay",
              "size": 10,
              "solidity": 0.2
             }
            },
            "type": "histogram"
           }
          ],
          "histogram2d": [
           {
            "colorbar": {
             "outlinewidth": 0,
             "ticks": ""
            },
            "colorscale": [
             [
              0,
              "#0d0887"
             ],
             [
              0.1111111111111111,
              "#46039f"
             ],
             [
              0.2222222222222222,
              "#7201a8"
             ],
             [
              0.3333333333333333,
              "#9c179e"
             ],
             [
              0.4444444444444444,
              "#bd3786"
             ],
             [
              0.5555555555555556,
              "#d8576b"
             ],
             [
              0.6666666666666666,
              "#ed7953"
             ],
             [
              0.7777777777777778,
              "#fb9f3a"
             ],
             [
              0.8888888888888888,
              "#fdca26"
             ],
             [
              1,
              "#f0f921"
             ]
            ],
            "type": "histogram2d"
           }
          ],
          "histogram2dcontour": [
           {
            "colorbar": {
             "outlinewidth": 0,
             "ticks": ""
            },
            "colorscale": [
             [
              0,
              "#0d0887"
             ],
             [
              0.1111111111111111,
              "#46039f"
             ],
             [
              0.2222222222222222,
              "#7201a8"
             ],
             [
              0.3333333333333333,
              "#9c179e"
             ],
             [
              0.4444444444444444,
              "#bd3786"
             ],
             [
              0.5555555555555556,
              "#d8576b"
             ],
             [
              0.6666666666666666,
              "#ed7953"
             ],
             [
              0.7777777777777778,
              "#fb9f3a"
             ],
             [
              0.8888888888888888,
              "#fdca26"
             ],
             [
              1,
              "#f0f921"
             ]
            ],
            "type": "histogram2dcontour"
           }
          ],
          "mesh3d": [
           {
            "colorbar": {
             "outlinewidth": 0,
             "ticks": ""
            },
            "type": "mesh3d"
           }
          ],
          "parcoords": [
           {
            "line": {
             "colorbar": {
              "outlinewidth": 0,
              "ticks": ""
             }
            },
            "type": "parcoords"
           }
          ],
          "pie": [
           {
            "automargin": true,
            "type": "pie"
           }
          ],
          "scatter": [
           {
            "fillpattern": {
             "fillmode": "overlay",
             "size": 10,
             "solidity": 0.2
            },
            "type": "scatter"
           }
          ],
          "scatter3d": [
           {
            "line": {
             "colorbar": {
              "outlinewidth": 0,
              "ticks": ""
             }
            },
            "marker": {
             "colorbar": {
              "outlinewidth": 0,
              "ticks": ""
             }
            },
            "type": "scatter3d"
           }
          ],
          "scattercarpet": [
           {
            "marker": {
             "colorbar": {
              "outlinewidth": 0,
              "ticks": ""
             }
            },
            "type": "scattercarpet"
           }
          ],
          "scattergeo": [
           {
            "marker": {
             "colorbar": {
              "outlinewidth": 0,
              "ticks": ""
             }
            },
            "type": "scattergeo"
           }
          ],
          "scattergl": [
           {
            "marker": {
             "colorbar": {
              "outlinewidth": 0,
              "ticks": ""
             }
            },
            "type": "scattergl"
           }
          ],
          "scattermapbox": [
           {
            "marker": {
             "colorbar": {
              "outlinewidth": 0,
              "ticks": ""
             }
            },
            "type": "scattermapbox"
           }
          ],
          "scatterpolar": [
           {
            "marker": {
             "colorbar": {
              "outlinewidth": 0,
              "ticks": ""
             }
            },
            "type": "scatterpolar"
           }
          ],
          "scatterpolargl": [
           {
            "marker": {
             "colorbar": {
              "outlinewidth": 0,
              "ticks": ""
             }
            },
            "type": "scatterpolargl"
           }
          ],
          "scatterternary": [
           {
            "marker": {
             "colorbar": {
              "outlinewidth": 0,
              "ticks": ""
             }
            },
            "type": "scatterternary"
           }
          ],
          "surface": [
           {
            "colorbar": {
             "outlinewidth": 0,
             "ticks": ""
            },
            "colorscale": [
             [
              0,
              "#0d0887"
             ],
             [
              0.1111111111111111,
              "#46039f"
             ],
             [
              0.2222222222222222,
              "#7201a8"
             ],
             [
              0.3333333333333333,
              "#9c179e"
             ],
             [
              0.4444444444444444,
              "#bd3786"
             ],
             [
              0.5555555555555556,
              "#d8576b"
             ],
             [
              0.6666666666666666,
              "#ed7953"
             ],
             [
              0.7777777777777778,
              "#fb9f3a"
             ],
             [
              0.8888888888888888,
              "#fdca26"
             ],
             [
              1,
              "#f0f921"
             ]
            ],
            "type": "surface"
           }
          ],
          "table": [
           {
            "cells": {
             "fill": {
              "color": "#EBF0F8"
             },
             "line": {
              "color": "white"
             }
            },
            "header": {
             "fill": {
              "color": "#C8D4E3"
             },
             "line": {
              "color": "white"
             }
            },
            "type": "table"
           }
          ]
         },
         "layout": {
          "annotationdefaults": {
           "arrowcolor": "#2a3f5f",
           "arrowhead": 0,
           "arrowwidth": 1
          },
          "autotypenumbers": "strict",
          "coloraxis": {
           "colorbar": {
            "outlinewidth": 0,
            "ticks": ""
           }
          },
          "colorscale": {
           "diverging": [
            [
             0,
             "#8e0152"
            ],
            [
             0.1,
             "#c51b7d"
            ],
            [
             0.2,
             "#de77ae"
            ],
            [
             0.3,
             "#f1b6da"
            ],
            [
             0.4,
             "#fde0ef"
            ],
            [
             0.5,
             "#f7f7f7"
            ],
            [
             0.6,
             "#e6f5d0"
            ],
            [
             0.7,
             "#b8e186"
            ],
            [
             0.8,
             "#7fbc41"
            ],
            [
             0.9,
             "#4d9221"
            ],
            [
             1,
             "#276419"
            ]
           ],
           "sequential": [
            [
             0,
             "#0d0887"
            ],
            [
             0.1111111111111111,
             "#46039f"
            ],
            [
             0.2222222222222222,
             "#7201a8"
            ],
            [
             0.3333333333333333,
             "#9c179e"
            ],
            [
             0.4444444444444444,
             "#bd3786"
            ],
            [
             0.5555555555555556,
             "#d8576b"
            ],
            [
             0.6666666666666666,
             "#ed7953"
            ],
            [
             0.7777777777777778,
             "#fb9f3a"
            ],
            [
             0.8888888888888888,
             "#fdca26"
            ],
            [
             1,
             "#f0f921"
            ]
           ],
           "sequentialminus": [
            [
             0,
             "#0d0887"
            ],
            [
             0.1111111111111111,
             "#46039f"
            ],
            [
             0.2222222222222222,
             "#7201a8"
            ],
            [
             0.3333333333333333,
             "#9c179e"
            ],
            [
             0.4444444444444444,
             "#bd3786"
            ],
            [
             0.5555555555555556,
             "#d8576b"
            ],
            [
             0.6666666666666666,
             "#ed7953"
            ],
            [
             0.7777777777777778,
             "#fb9f3a"
            ],
            [
             0.8888888888888888,
             "#fdca26"
            ],
            [
             1,
             "#f0f921"
            ]
           ]
          },
          "colorway": [
           "#636efa",
           "#EF553B",
           "#00cc96",
           "#ab63fa",
           "#FFA15A",
           "#19d3f3",
           "#FF6692",
           "#B6E880",
           "#FF97FF",
           "#FECB52"
          ],
          "font": {
           "color": "#2a3f5f"
          },
          "geo": {
           "bgcolor": "white",
           "lakecolor": "white",
           "landcolor": "#E5ECF6",
           "showlakes": true,
           "showland": true,
           "subunitcolor": "white"
          },
          "hoverlabel": {
           "align": "left"
          },
          "hovermode": "closest",
          "mapbox": {
           "style": "light"
          },
          "paper_bgcolor": "white",
          "plot_bgcolor": "#E5ECF6",
          "polar": {
           "angularaxis": {
            "gridcolor": "white",
            "linecolor": "white",
            "ticks": ""
           },
           "bgcolor": "#E5ECF6",
           "radialaxis": {
            "gridcolor": "white",
            "linecolor": "white",
            "ticks": ""
           }
          },
          "scene": {
           "xaxis": {
            "backgroundcolor": "#E5ECF6",
            "gridcolor": "white",
            "gridwidth": 2,
            "linecolor": "white",
            "showbackground": true,
            "ticks": "",
            "zerolinecolor": "white"
           },
           "yaxis": {
            "backgroundcolor": "#E5ECF6",
            "gridcolor": "white",
            "gridwidth": 2,
            "linecolor": "white",
            "showbackground": true,
            "ticks": "",
            "zerolinecolor": "white"
           },
           "zaxis": {
            "backgroundcolor": "#E5ECF6",
            "gridcolor": "white",
            "gridwidth": 2,
            "linecolor": "white",
            "showbackground": true,
            "ticks": "",
            "zerolinecolor": "white"
           }
          },
          "shapedefaults": {
           "line": {
            "color": "#2a3f5f"
           }
          },
          "ternary": {
           "aaxis": {
            "gridcolor": "white",
            "linecolor": "white",
            "ticks": ""
           },
           "baxis": {
            "gridcolor": "white",
            "linecolor": "white",
            "ticks": ""
           },
           "bgcolor": "#E5ECF6",
           "caxis": {
            "gridcolor": "white",
            "linecolor": "white",
            "ticks": ""
           }
          },
          "title": {
           "x": 0.05
          },
          "xaxis": {
           "automargin": true,
           "gridcolor": "white",
           "linecolor": "white",
           "ticks": "",
           "title": {
            "standoff": 15
           },
           "zerolinecolor": "white",
           "zerolinewidth": 2
          },
          "yaxis": {
           "automargin": true,
           "gridcolor": "white",
           "linecolor": "white",
           "ticks": "",
           "title": {
            "standoff": 15
           },
           "zerolinecolor": "white",
           "zerolinewidth": 2
          }
         }
        },
        "title": {
         "text": "Label: image générée"
        },
        "width": 500,
        "xaxis": {
         "anchor": "y",
         "domain": [
          0,
          1
         ],
         "showgrid": false,
         "showticklabels": false,
         "visible": false,
         "zeroline": false
        },
        "yaxis": {
         "anchor": "x",
         "domain": [
          0,
          1
         ],
         "showgrid": false,
         "showticklabels": false,
         "visible": false,
         "zeroline": false
        }
       }
      }
     },
     "metadata": {},
     "output_type": "display_data"
    }
   ],
   "source": [
    "X = cgenerator.predict([generate_latent_points(100, 1), types_to_vector('Fire')], verbose=0)\n",
    "plot_image(X[0], \"image générée\", {\"real\": cdiscriminator.predict([X, types_to_vector('Fire')], verbose=0)[0][0]}, 64)"
   ]
  },
  {
   "cell_type": "code",
   "execution_count": 29,
   "metadata": {},
   "outputs": [],
   "source": [
    "# test image with random noise between -1 and 1\n",
    "test_image_noise = tf.random.uniform(shape=(1, 64, 64, 3), minval=-1, maxval=1)"
   ]
  },
  {
   "cell_type": "code",
   "execution_count": 30,
   "metadata": {},
   "outputs": [
    {
     "data": {
      "application/vnd.plotly.v1+json": {
       "config": {
        "plotlyServerURL": "https://plot.ly"
       },
       "data": [
        {
         "hovertemplate": "x: %{x}<br>y: %{y}<extra></extra>",
         "name": "0",
         "source": "data:image/png;base64,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",
         "type": "image",
         "xaxis": "x",
         "yaxis": "y"
        }
       ],
       "layout": {
        "annotations": [
         {
          "align": "left",
          "bgcolor": "#ff7f0e",
          "bordercolor": "#c7c7c7",
          "borderpad": 2,
          "borderwidth": 1,
          "font": {
           "color": "#ffffff",
           "family": "Courier New, monospace",
           "size": 12
          },
          "opacity": 0.8,
          "showarrow": false,
          "text": "real: 55%",
          "x": 1,
          "xref": "paper",
          "y": 1,
          "yref": "paper"
         }
        ],
        "height": 350,
        "images": [
         {
          "layer": "below",
          "sizex": 0.3,
          "sizey": 0.3,
          "source": "images/final/real/1.png",
          "x": 1,
          "xref": "paper",
          "y": 1.1,
          "yref": "paper"
         }
        ],
        "margin": {
         "l": 0,
         "t": 60
        },
        "shapes": [
         {
          "line": {
           "color": "black",
           "width": 2
          },
          "type": "rect",
          "x0": 0,
          "x1": 128,
          "xref": "x",
          "y0": 0,
          "y1": 128,
          "yref": "y"
         }
        ],
        "template": {
         "data": {
          "bar": [
           {
            "error_x": {
             "color": "#2a3f5f"
            },
            "error_y": {
             "color": "#2a3f5f"
            },
            "marker": {
             "line": {
              "color": "#E5ECF6",
              "width": 0.5
             },
             "pattern": {
              "fillmode": "overlay",
              "size": 10,
              "solidity": 0.2
             }
            },
            "type": "bar"
           }
          ],
          "barpolar": [
           {
            "marker": {
             "line": {
              "color": "#E5ECF6",
              "width": 0.5
             },
             "pattern": {
              "fillmode": "overlay",
              "size": 10,
              "solidity": 0.2
             }
            },
            "type": "barpolar"
           }
          ],
          "carpet": [
           {
            "aaxis": {
             "endlinecolor": "#2a3f5f",
             "gridcolor": "white",
             "linecolor": "white",
             "minorgridcolor": "white",
             "startlinecolor": "#2a3f5f"
            },
            "baxis": {
             "endlinecolor": "#2a3f5f",
             "gridcolor": "white",
             "linecolor": "white",
             "minorgridcolor": "white",
             "startlinecolor": "#2a3f5f"
            },
            "type": "carpet"
           }
          ],
          "choropleth": [
           {
            "colorbar": {
             "outlinewidth": 0,
             "ticks": ""
            },
            "type": "choropleth"
           }
          ],
          "contour": [
           {
            "colorbar": {
             "outlinewidth": 0,
             "ticks": ""
            },
            "colorscale": [
             [
              0,
              "#0d0887"
             ],
             [
              0.1111111111111111,
              "#46039f"
             ],
             [
              0.2222222222222222,
              "#7201a8"
             ],
             [
              0.3333333333333333,
              "#9c179e"
             ],
             [
              0.4444444444444444,
              "#bd3786"
             ],
             [
              0.5555555555555556,
              "#d8576b"
             ],
             [
              0.6666666666666666,
              "#ed7953"
             ],
             [
              0.7777777777777778,
              "#fb9f3a"
             ],
             [
              0.8888888888888888,
              "#fdca26"
             ],
             [
              1,
              "#f0f921"
             ]
            ],
            "type": "contour"
           }
          ],
          "contourcarpet": [
           {
            "colorbar": {
             "outlinewidth": 0,
             "ticks": ""
            },
            "type": "contourcarpet"
           }
          ],
          "heatmap": [
           {
            "colorbar": {
             "outlinewidth": 0,
             "ticks": ""
            },
            "colorscale": [
             [
              0,
              "#0d0887"
             ],
             [
              0.1111111111111111,
              "#46039f"
             ],
             [
              0.2222222222222222,
              "#7201a8"
             ],
             [
              0.3333333333333333,
              "#9c179e"
             ],
             [
              0.4444444444444444,
              "#bd3786"
             ],
             [
              0.5555555555555556,
              "#d8576b"
             ],
             [
              0.6666666666666666,
              "#ed7953"
             ],
             [
              0.7777777777777778,
              "#fb9f3a"
             ],
             [
              0.8888888888888888,
              "#fdca26"
             ],
             [
              1,
              "#f0f921"
             ]
            ],
            "type": "heatmap"
           }
          ],
          "heatmapgl": [
           {
            "colorbar": {
             "outlinewidth": 0,
             "ticks": ""
            },
            "colorscale": [
             [
              0,
              "#0d0887"
             ],
             [
              0.1111111111111111,
              "#46039f"
             ],
             [
              0.2222222222222222,
              "#7201a8"
             ],
             [
              0.3333333333333333,
              "#9c179e"
             ],
             [
              0.4444444444444444,
              "#bd3786"
             ],
             [
              0.5555555555555556,
              "#d8576b"
             ],
             [
              0.6666666666666666,
              "#ed7953"
             ],
             [
              0.7777777777777778,
              "#fb9f3a"
             ],
             [
              0.8888888888888888,
              "#fdca26"
             ],
             [
              1,
              "#f0f921"
             ]
            ],
            "type": "heatmapgl"
           }
          ],
          "histogram": [
           {
            "marker": {
             "pattern": {
              "fillmode": "overlay",
              "size": 10,
              "solidity": 0.2
             }
            },
            "type": "histogram"
           }
          ],
          "histogram2d": [
           {
            "colorbar": {
             "outlinewidth": 0,
             "ticks": ""
            },
            "colorscale": [
             [
              0,
              "#0d0887"
             ],
             [
              0.1111111111111111,
              "#46039f"
             ],
             [
              0.2222222222222222,
              "#7201a8"
             ],
             [
              0.3333333333333333,
              "#9c179e"
             ],
             [
              0.4444444444444444,
              "#bd3786"
             ],
             [
              0.5555555555555556,
              "#d8576b"
             ],
             [
              0.6666666666666666,
              "#ed7953"
             ],
             [
              0.7777777777777778,
              "#fb9f3a"
             ],
             [
              0.8888888888888888,
              "#fdca26"
             ],
             [
              1,
              "#f0f921"
             ]
            ],
            "type": "histogram2d"
           }
          ],
          "histogram2dcontour": [
           {
            "colorbar": {
             "outlinewidth": 0,
             "ticks": ""
            },
            "colorscale": [
             [
              0,
              "#0d0887"
             ],
             [
              0.1111111111111111,
              "#46039f"
             ],
             [
              0.2222222222222222,
              "#7201a8"
             ],
             [
              0.3333333333333333,
              "#9c179e"
             ],
             [
              0.4444444444444444,
              "#bd3786"
             ],
             [
              0.5555555555555556,
              "#d8576b"
             ],
             [
              0.6666666666666666,
              "#ed7953"
             ],
             [
              0.7777777777777778,
              "#fb9f3a"
             ],
             [
              0.8888888888888888,
              "#fdca26"
             ],
             [
              1,
              "#f0f921"
             ]
            ],
            "type": "histogram2dcontour"
           }
          ],
          "mesh3d": [
           {
            "colorbar": {
             "outlinewidth": 0,
             "ticks": ""
            },
            "type": "mesh3d"
           }
          ],
          "parcoords": [
           {
            "line": {
             "colorbar": {
              "outlinewidth": 0,
              "ticks": ""
             }
            },
            "type": "parcoords"
           }
          ],
          "pie": [
           {
            "automargin": true,
            "type": "pie"
           }
          ],
          "scatter": [
           {
            "fillpattern": {
             "fillmode": "overlay",
             "size": 10,
             "solidity": 0.2
            },
            "type": "scatter"
           }
          ],
          "scatter3d": [
           {
            "line": {
             "colorbar": {
              "outlinewidth": 0,
              "ticks": ""
             }
            },
            "marker": {
             "colorbar": {
              "outlinewidth": 0,
              "ticks": ""
             }
            },
            "type": "scatter3d"
           }
          ],
          "scattercarpet": [
           {
            "marker": {
             "colorbar": {
              "outlinewidth": 0,
              "ticks": ""
             }
            },
            "type": "scattercarpet"
           }
          ],
          "scattergeo": [
           {
            "marker": {
             "colorbar": {
              "outlinewidth": 0,
              "ticks": ""
             }
            },
            "type": "scattergeo"
           }
          ],
          "scattergl": [
           {
            "marker": {
             "colorbar": {
              "outlinewidth": 0,
              "ticks": ""
             }
            },
            "type": "scattergl"
           }
          ],
          "scattermapbox": [
           {
            "marker": {
             "colorbar": {
              "outlinewidth": 0,
              "ticks": ""
             }
            },
            "type": "scattermapbox"
           }
          ],
          "scatterpolar": [
           {
            "marker": {
             "colorbar": {
              "outlinewidth": 0,
              "ticks": ""
             }
            },
            "type": "scatterpolar"
           }
          ],
          "scatterpolargl": [
           {
            "marker": {
             "colorbar": {
              "outlinewidth": 0,
              "ticks": ""
             }
            },
            "type": "scatterpolargl"
           }
          ],
          "scatterternary": [
           {
            "marker": {
             "colorbar": {
              "outlinewidth": 0,
              "ticks": ""
             }
            },
            "type": "scatterternary"
           }
          ],
          "surface": [
           {
            "colorbar": {
             "outlinewidth": 0,
             "ticks": ""
            },
            "colorscale": [
             [
              0,
              "#0d0887"
             ],
             [
              0.1111111111111111,
              "#46039f"
             ],
             [
              0.2222222222222222,
              "#7201a8"
             ],
             [
              0.3333333333333333,
              "#9c179e"
             ],
             [
              0.4444444444444444,
              "#bd3786"
             ],
             [
              0.5555555555555556,
              "#d8576b"
             ],
             [
              0.6666666666666666,
              "#ed7953"
             ],
             [
              0.7777777777777778,
              "#fb9f3a"
             ],
             [
              0.8888888888888888,
              "#fdca26"
             ],
             [
              1,
              "#f0f921"
             ]
            ],
            "type": "surface"
           }
          ],
          "table": [
           {
            "cells": {
             "fill": {
              "color": "#EBF0F8"
             },
             "line": {
              "color": "white"
             }
            },
            "header": {
             "fill": {
              "color": "#C8D4E3"
             },
             "line": {
              "color": "white"
             }
            },
            "type": "table"
           }
          ]
         },
         "layout": {
          "annotationdefaults": {
           "arrowcolor": "#2a3f5f",
           "arrowhead": 0,
           "arrowwidth": 1
          },
          "autotypenumbers": "strict",
          "coloraxis": {
           "colorbar": {
            "outlinewidth": 0,
            "ticks": ""
           }
          },
          "colorscale": {
           "diverging": [
            [
             0,
             "#8e0152"
            ],
            [
             0.1,
             "#c51b7d"
            ],
            [
             0.2,
             "#de77ae"
            ],
            [
             0.3,
             "#f1b6da"
            ],
            [
             0.4,
             "#fde0ef"
            ],
            [
             0.5,
             "#f7f7f7"
            ],
            [
             0.6,
             "#e6f5d0"
            ],
            [
             0.7,
             "#b8e186"
            ],
            [
             0.8,
             "#7fbc41"
            ],
            [
             0.9,
             "#4d9221"
            ],
            [
             1,
             "#276419"
            ]
           ],
           "sequential": [
            [
             0,
             "#0d0887"
            ],
            [
             0.1111111111111111,
             "#46039f"
            ],
            [
             0.2222222222222222,
             "#7201a8"
            ],
            [
             0.3333333333333333,
             "#9c179e"
            ],
            [
             0.4444444444444444,
             "#bd3786"
            ],
            [
             0.5555555555555556,
             "#d8576b"
            ],
            [
             0.6666666666666666,
             "#ed7953"
            ],
            [
             0.7777777777777778,
             "#fb9f3a"
            ],
            [
             0.8888888888888888,
             "#fdca26"
            ],
            [
             1,
             "#f0f921"
            ]
           ],
           "sequentialminus": [
            [
             0,
             "#0d0887"
            ],
            [
             0.1111111111111111,
             "#46039f"
            ],
            [
             0.2222222222222222,
             "#7201a8"
            ],
            [
             0.3333333333333333,
             "#9c179e"
            ],
            [
             0.4444444444444444,
             "#bd3786"
            ],
            [
             0.5555555555555556,
             "#d8576b"
            ],
            [
             0.6666666666666666,
             "#ed7953"
            ],
            [
             0.7777777777777778,
             "#fb9f3a"
            ],
            [
             0.8888888888888888,
             "#fdca26"
            ],
            [
             1,
             "#f0f921"
            ]
           ]
          },
          "colorway": [
           "#636efa",
           "#EF553B",
           "#00cc96",
           "#ab63fa",
           "#FFA15A",
           "#19d3f3",
           "#FF6692",
           "#B6E880",
           "#FF97FF",
           "#FECB52"
          ],
          "font": {
           "color": "#2a3f5f"
          },
          "geo": {
           "bgcolor": "white",
           "lakecolor": "white",
           "landcolor": "#E5ECF6",
           "showlakes": true,
           "showland": true,
           "subunitcolor": "white"
          },
          "hoverlabel": {
           "align": "left"
          },
          "hovermode": "closest",
          "mapbox": {
           "style": "light"
          },
          "paper_bgcolor": "white",
          "plot_bgcolor": "#E5ECF6",
          "polar": {
           "angularaxis": {
            "gridcolor": "white",
            "linecolor": "white",
            "ticks": ""
           },
           "bgcolor": "#E5ECF6",
           "radialaxis": {
            "gridcolor": "white",
            "linecolor": "white",
            "ticks": ""
           }
          },
          "scene": {
           "xaxis": {
            "backgroundcolor": "#E5ECF6",
            "gridcolor": "white",
            "gridwidth": 2,
            "linecolor": "white",
            "showbackground": true,
            "ticks": "",
            "zerolinecolor": "white"
           },
           "yaxis": {
            "backgroundcolor": "#E5ECF6",
            "gridcolor": "white",
            "gridwidth": 2,
            "linecolor": "white",
            "showbackground": true,
            "ticks": "",
            "zerolinecolor": "white"
           },
           "zaxis": {
            "backgroundcolor": "#E5ECF6",
            "gridcolor": "white",
            "gridwidth": 2,
            "linecolor": "white",
            "showbackground": true,
            "ticks": "",
            "zerolinecolor": "white"
           }
          },
          "shapedefaults": {
           "line": {
            "color": "#2a3f5f"
           }
          },
          "ternary": {
           "aaxis": {
            "gridcolor": "white",
            "linecolor": "white",
            "ticks": ""
           },
           "baxis": {
            "gridcolor": "white",
            "linecolor": "white",
            "ticks": ""
           },
           "bgcolor": "#E5ECF6",
           "caxis": {
            "gridcolor": "white",
            "linecolor": "white",
            "ticks": ""
           }
          },
          "title": {
           "x": 0.05
          },
          "xaxis": {
           "automargin": true,
           "gridcolor": "white",
           "linecolor": "white",
           "ticks": "",
           "title": {
            "standoff": 15
           },
           "zerolinecolor": "white",
           "zerolinewidth": 2
          },
          "yaxis": {
           "automargin": true,
           "gridcolor": "white",
           "linecolor": "white",
           "ticks": "",
           "title": {
            "standoff": 15
           },
           "zerolinecolor": "white",
           "zerolinewidth": 2
          }
         }
        },
        "title": {
         "text": "Label: image test"
        },
        "width": 500,
        "xaxis": {
         "anchor": "y",
         "domain": [
          0,
          1
         ],
         "showgrid": false,
         "showticklabels": false,
         "visible": false,
         "zeroline": false
        },
        "yaxis": {
         "anchor": "x",
         "domain": [
          0,
          1
         ],
         "showgrid": false,
         "showticklabels": false,
         "visible": false,
         "zeroline": false
        }
       }
      }
     },
     "metadata": {},
     "output_type": "display_data"
    }
   ],
   "source": [
    "plot_image(test_image_noise[0], \"image test\", {\"real\": cdiscriminator.predict([test_image_noise, types_to_vector('Grass')], verbose=0)[0][0]})"
   ]
  },
  {
   "cell_type": "code",
   "execution_count": 31,
   "metadata": {},
   "outputs": [
    {
     "name": "stdout",
     "output_type": "stream",
     "text": [
      "(1, 64, 64, 3)\n"
     ]
    }
   ],
   "source": [
    "# load images/test/charmander.png to test\n",
    "test_image = tf.keras.preprocessing.image.load_img('images/test/charmander.png', color_mode='rgba', target_size=image_size)\n",
    "test_image = tf.keras.preprocessing.image.img_to_array(test_image)\n",
    "test_image = tf.expand_dims(test_image, axis=0)\n",
    "test_image = preprocess_image(test_image)\n",
    "print(test_image.shape)"
   ]
  },
  {
   "cell_type": "code",
   "execution_count": 32,
   "metadata": {},
   "outputs": [
    {
     "data": {
      "application/vnd.plotly.v1+json": {
       "config": {
        "plotlyServerURL": "https://plot.ly"
       },
       "data": [
        {
         "hovertemplate": "x: %{x}<br>y: %{y}<br>color: [%{z[0]}, %{z[1]}, %{z[2]}]<extra></extra>",
         "name": "0",
         "source": "data:image/png;base64,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",
         "type": "image",
         "xaxis": "x",
         "yaxis": "y"
        }
       ],
       "layout": {
        "annotations": [
         {
          "align": "left",
          "bgcolor": "#ff7f0e",
          "bordercolor": "#c7c7c7",
          "borderpad": 2,
          "borderwidth": 1,
          "font": {
           "color": "#ffffff",
           "family": "Courier New, monospace",
           "size": 12
          },
          "opacity": 0.8,
          "showarrow": false,
          "text": "real: 100%",
          "x": 1,
          "xref": "paper",
          "y": 1,
          "yref": "paper"
         }
        ],
        "height": 350,
        "images": [
         {
          "layer": "below",
          "sizex": 0.3,
          "sizey": 0.3,
          "source": "images/final/real/1.png",
          "x": 1,
          "xref": "paper",
          "y": 1.1,
          "yref": "paper"
         }
        ],
        "margin": {
         "l": 0,
         "t": 60
        },
        "shapes": [
         {
          "line": {
           "color": "black",
           "width": 2
          },
          "type": "rect",
          "x0": 0,
          "x1": 128,
          "xref": "x",
          "y0": 0,
          "y1": 128,
          "yref": "y"
         }
        ],
        "template": {
         "data": {
          "bar": [
           {
            "error_x": {
             "color": "#2a3f5f"
            },
            "error_y": {
             "color": "#2a3f5f"
            },
            "marker": {
             "line": {
              "color": "#E5ECF6",
              "width": 0.5
             },
             "pattern": {
              "fillmode": "overlay",
              "size": 10,
              "solidity": 0.2
             }
            },
            "type": "bar"
           }
          ],
          "barpolar": [
           {
            "marker": {
             "line": {
              "color": "#E5ECF6",
              "width": 0.5
             },
             "pattern": {
              "fillmode": "overlay",
              "size": 10,
              "solidity": 0.2
             }
            },
            "type": "barpolar"
           }
          ],
          "carpet": [
           {
            "aaxis": {
             "endlinecolor": "#2a3f5f",
             "gridcolor": "white",
             "linecolor": "white",
             "minorgridcolor": "white",
             "startlinecolor": "#2a3f5f"
            },
            "baxis": {
             "endlinecolor": "#2a3f5f",
             "gridcolor": "white",
             "linecolor": "white",
             "minorgridcolor": "white",
             "startlinecolor": "#2a3f5f"
            },
            "type": "carpet"
           }
          ],
          "choropleth": [
           {
            "colorbar": {
             "outlinewidth": 0,
             "ticks": ""
            },
            "type": "choropleth"
           }
          ],
          "contour": [
           {
            "colorbar": {
             "outlinewidth": 0,
             "ticks": ""
            },
            "colorscale": [
             [
              0,
              "#0d0887"
             ],
             [
              0.1111111111111111,
              "#46039f"
             ],
             [
              0.2222222222222222,
              "#7201a8"
             ],
             [
              0.3333333333333333,
              "#9c179e"
             ],
             [
              0.4444444444444444,
              "#bd3786"
             ],
             [
              0.5555555555555556,
              "#d8576b"
             ],
             [
              0.6666666666666666,
              "#ed7953"
             ],
             [
              0.7777777777777778,
              "#fb9f3a"
             ],
             [
              0.8888888888888888,
              "#fdca26"
             ],
             [
              1,
              "#f0f921"
             ]
            ],
            "type": "contour"
           }
          ],
          "contourcarpet": [
           {
            "colorbar": {
             "outlinewidth": 0,
             "ticks": ""
            },
            "type": "contourcarpet"
           }
          ],
          "heatmap": [
           {
            "colorbar": {
             "outlinewidth": 0,
             "ticks": ""
            },
            "colorscale": [
             [
              0,
              "#0d0887"
             ],
             [
              0.1111111111111111,
              "#46039f"
             ],
             [
              0.2222222222222222,
              "#7201a8"
             ],
             [
              0.3333333333333333,
              "#9c179e"
             ],
             [
              0.4444444444444444,
              "#bd3786"
             ],
             [
              0.5555555555555556,
              "#d8576b"
             ],
             [
              0.6666666666666666,
              "#ed7953"
             ],
             [
              0.7777777777777778,
              "#fb9f3a"
             ],
             [
              0.8888888888888888,
              "#fdca26"
             ],
             [
              1,
              "#f0f921"
             ]
            ],
            "type": "heatmap"
           }
          ],
          "heatmapgl": [
           {
            "colorbar": {
             "outlinewidth": 0,
             "ticks": ""
            },
            "colorscale": [
             [
              0,
              "#0d0887"
             ],
             [
              0.1111111111111111,
              "#46039f"
             ],
             [
              0.2222222222222222,
              "#7201a8"
             ],
             [
              0.3333333333333333,
              "#9c179e"
             ],
             [
              0.4444444444444444,
              "#bd3786"
             ],
             [
              0.5555555555555556,
              "#d8576b"
             ],
             [
              0.6666666666666666,
              "#ed7953"
             ],
             [
              0.7777777777777778,
              "#fb9f3a"
             ],
             [
              0.8888888888888888,
              "#fdca26"
             ],
             [
              1,
              "#f0f921"
             ]
            ],
            "type": "heatmapgl"
           }
          ],
          "histogram": [
           {
            "marker": {
             "pattern": {
              "fillmode": "overlay",
              "size": 10,
              "solidity": 0.2
             }
            },
            "type": "histogram"
           }
          ],
          "histogram2d": [
           {
            "colorbar": {
             "outlinewidth": 0,
             "ticks": ""
            },
            "colorscale": [
             [
              0,
              "#0d0887"
             ],
             [
              0.1111111111111111,
              "#46039f"
             ],
             [
              0.2222222222222222,
              "#7201a8"
             ],
             [
              0.3333333333333333,
              "#9c179e"
             ],
             [
              0.4444444444444444,
              "#bd3786"
             ],
             [
              0.5555555555555556,
              "#d8576b"
             ],
             [
              0.6666666666666666,
              "#ed7953"
             ],
             [
              0.7777777777777778,
              "#fb9f3a"
             ],
             [
              0.8888888888888888,
              "#fdca26"
             ],
             [
              1,
              "#f0f921"
             ]
            ],
            "type": "histogram2d"
           }
          ],
          "histogram2dcontour": [
           {
            "colorbar": {
             "outlinewidth": 0,
             "ticks": ""
            },
            "colorscale": [
             [
              0,
              "#0d0887"
             ],
             [
              0.1111111111111111,
              "#46039f"
             ],
             [
              0.2222222222222222,
              "#7201a8"
             ],
             [
              0.3333333333333333,
              "#9c179e"
             ],
             [
              0.4444444444444444,
              "#bd3786"
             ],
             [
              0.5555555555555556,
              "#d8576b"
             ],
             [
              0.6666666666666666,
              "#ed7953"
             ],
             [
              0.7777777777777778,
              "#fb9f3a"
             ],
             [
              0.8888888888888888,
              "#fdca26"
             ],
             [
              1,
              "#f0f921"
             ]
            ],
            "type": "histogram2dcontour"
           }
          ],
          "mesh3d": [
           {
            "colorbar": {
             "outlinewidth": 0,
             "ticks": ""
            },
            "type": "mesh3d"
           }
          ],
          "parcoords": [
           {
            "line": {
             "colorbar": {
              "outlinewidth": 0,
              "ticks": ""
             }
            },
            "type": "parcoords"
           }
          ],
          "pie": [
           {
            "automargin": true,
            "type": "pie"
           }
          ],
          "scatter": [
           {
            "fillpattern": {
             "fillmode": "overlay",
             "size": 10,
             "solidity": 0.2
            },
            "type": "scatter"
           }
          ],
          "scatter3d": [
           {
            "line": {
             "colorbar": {
              "outlinewidth": 0,
              "ticks": ""
             }
            },
            "marker": {
             "colorbar": {
              "outlinewidth": 0,
              "ticks": ""
             }
            },
            "type": "scatter3d"
           }
          ],
          "scattercarpet": [
           {
            "marker": {
             "colorbar": {
              "outlinewidth": 0,
              "ticks": ""
             }
            },
            "type": "scattercarpet"
           }
          ],
          "scattergeo": [
           {
            "marker": {
             "colorbar": {
              "outlinewidth": 0,
              "ticks": ""
             }
            },
            "type": "scattergeo"
           }
          ],
          "scattergl": [
           {
            "marker": {
             "colorbar": {
              "outlinewidth": 0,
              "ticks": ""
             }
            },
            "type": "scattergl"
           }
          ],
          "scattermapbox": [
           {
            "marker": {
             "colorbar": {
              "outlinewidth": 0,
              "ticks": ""
             }
            },
            "type": "scattermapbox"
           }
          ],
          "scatterpolar": [
           {
            "marker": {
             "colorbar": {
              "outlinewidth": 0,
              "ticks": ""
             }
            },
            "type": "scatterpolar"
           }
          ],
          "scatterpolargl": [
           {
            "marker": {
             "colorbar": {
              "outlinewidth": 0,
              "ticks": ""
             }
            },
            "type": "scatterpolargl"
           }
          ],
          "scatterternary": [
           {
            "marker": {
             "colorbar": {
              "outlinewidth": 0,
              "ticks": ""
             }
            },
            "type": "scatterternary"
           }
          ],
          "surface": [
           {
            "colorbar": {
             "outlinewidth": 0,
             "ticks": ""
            },
            "colorscale": [
             [
              0,
              "#0d0887"
             ],
             [
              0.1111111111111111,
              "#46039f"
             ],
             [
              0.2222222222222222,
              "#7201a8"
             ],
             [
              0.3333333333333333,
              "#9c179e"
             ],
             [
              0.4444444444444444,
              "#bd3786"
             ],
             [
              0.5555555555555556,
              "#d8576b"
             ],
             [
              0.6666666666666666,
              "#ed7953"
             ],
             [
              0.7777777777777778,
              "#fb9f3a"
             ],
             [
              0.8888888888888888,
              "#fdca26"
             ],
             [
              1,
              "#f0f921"
             ]
            ],
            "type": "surface"
           }
          ],
          "table": [
           {
            "cells": {
             "fill": {
              "color": "#EBF0F8"
             },
             "line": {
              "color": "white"
             }
            },
            "header": {
             "fill": {
              "color": "#C8D4E3"
             },
             "line": {
              "color": "white"
             }
            },
            "type": "table"
           }
          ]
         },
         "layout": {
          "annotationdefaults": {
           "arrowcolor": "#2a3f5f",
           "arrowhead": 0,
           "arrowwidth": 1
          },
          "autotypenumbers": "strict",
          "coloraxis": {
           "colorbar": {
            "outlinewidth": 0,
            "ticks": ""
           }
          },
          "colorscale": {
           "diverging": [
            [
             0,
             "#8e0152"
            ],
            [
             0.1,
             "#c51b7d"
            ],
            [
             0.2,
             "#de77ae"
            ],
            [
             0.3,
             "#f1b6da"
            ],
            [
             0.4,
             "#fde0ef"
            ],
            [
             0.5,
             "#f7f7f7"
            ],
            [
             0.6,
             "#e6f5d0"
            ],
            [
             0.7,
             "#b8e186"
            ],
            [
             0.8,
             "#7fbc41"
            ],
            [
             0.9,
             "#4d9221"
            ],
            [
             1,
             "#276419"
            ]
           ],
           "sequential": [
            [
             0,
             "#0d0887"
            ],
            [
             0.1111111111111111,
             "#46039f"
            ],
            [
             0.2222222222222222,
             "#7201a8"
            ],
            [
             0.3333333333333333,
             "#9c179e"
            ],
            [
             0.4444444444444444,
             "#bd3786"
            ],
            [
             0.5555555555555556,
             "#d8576b"
            ],
            [
             0.6666666666666666,
             "#ed7953"
            ],
            [
             0.7777777777777778,
             "#fb9f3a"
            ],
            [
             0.8888888888888888,
             "#fdca26"
            ],
            [
             1,
             "#f0f921"
            ]
           ],
           "sequentialminus": [
            [
             0,
             "#0d0887"
            ],
            [
             0.1111111111111111,
             "#46039f"
            ],
            [
             0.2222222222222222,
             "#7201a8"
            ],
            [
             0.3333333333333333,
             "#9c179e"
            ],
            [
             0.4444444444444444,
             "#bd3786"
            ],
            [
             0.5555555555555556,
             "#d8576b"
            ],
            [
             0.6666666666666666,
             "#ed7953"
            ],
            [
             0.7777777777777778,
             "#fb9f3a"
            ],
            [
             0.8888888888888888,
             "#fdca26"
            ],
            [
             1,
             "#f0f921"
            ]
           ]
          },
          "colorway": [
           "#636efa",
           "#EF553B",
           "#00cc96",
           "#ab63fa",
           "#FFA15A",
           "#19d3f3",
           "#FF6692",
           "#B6E880",
           "#FF97FF",
           "#FECB52"
          ],
          "font": {
           "color": "#2a3f5f"
          },
          "geo": {
           "bgcolor": "white",
           "lakecolor": "white",
           "landcolor": "#E5ECF6",
           "showlakes": true,
           "showland": true,
           "subunitcolor": "white"
          },
          "hoverlabel": {
           "align": "left"
          },
          "hovermode": "closest",
          "mapbox": {
           "style": "light"
          },
          "paper_bgcolor": "white",
          "plot_bgcolor": "#E5ECF6",
          "polar": {
           "angularaxis": {
            "gridcolor": "white",
            "linecolor": "white",
            "ticks": ""
           },
           "bgcolor": "#E5ECF6",
           "radialaxis": {
            "gridcolor": "white",
            "linecolor": "white",
            "ticks": ""
           }
          },
          "scene": {
           "xaxis": {
            "backgroundcolor": "#E5ECF6",
            "gridcolor": "white",
            "gridwidth": 2,
            "linecolor": "white",
            "showbackground": true,
            "ticks": "",
            "zerolinecolor": "white"
           },
           "yaxis": {
            "backgroundcolor": "#E5ECF6",
            "gridcolor": "white",
            "gridwidth": 2,
            "linecolor": "white",
            "showbackground": true,
            "ticks": "",
            "zerolinecolor": "white"
           },
           "zaxis": {
            "backgroundcolor": "#E5ECF6",
            "gridcolor": "white",
            "gridwidth": 2,
            "linecolor": "white",
            "showbackground": true,
            "ticks": "",
            "zerolinecolor": "white"
           }
          },
          "shapedefaults": {
           "line": {
            "color": "#2a3f5f"
           }
          },
          "ternary": {
           "aaxis": {
            "gridcolor": "white",
            "linecolor": "white",
            "ticks": ""
           },
           "baxis": {
            "gridcolor": "white",
            "linecolor": "white",
            "ticks": ""
           },
           "bgcolor": "#E5ECF6",
           "caxis": {
            "gridcolor": "white",
            "linecolor": "white",
            "ticks": ""
           }
          },
          "title": {
           "x": 0.05
          },
          "xaxis": {
           "automargin": true,
           "gridcolor": "white",
           "linecolor": "white",
           "ticks": "",
           "title": {
            "standoff": 15
           },
           "zerolinecolor": "white",
           "zerolinewidth": 2
          },
          "yaxis": {
           "automargin": true,
           "gridcolor": "white",
           "linecolor": "white",
           "ticks": "",
           "title": {
            "standoff": 15
           },
           "zerolinecolor": "white",
           "zerolinewidth": 2
          }
         }
        },
        "title": {
         "text": "Label: image test"
        },
        "width": 500,
        "xaxis": {
         "anchor": "y",
         "domain": [
          0,
          1
         ],
         "showgrid": false,
         "showticklabels": false,
         "visible": false,
         "zeroline": false
        },
        "yaxis": {
         "anchor": "x",
         "domain": [
          0,
          1
         ],
         "showgrid": false,
         "showticklabels": false,
         "visible": false,
         "zeroline": false
        }
       }
      }
     },
     "metadata": {},
     "output_type": "display_data"
    }
   ],
   "source": [
    "# test discriminator with test image\n",
    "plot_image(test_image[0], \"image test\", {\"real\": cdiscriminator.predict([test_image, types_to_vector('Fire')], verbose=0)[0][0]})"
   ]
  }
 ],
 "metadata": {
  "kernelspec": {
   "display_name": "Python 3",
   "language": "python",
   "name": "python3"
  },
  "language_info": {
   "codemirror_mode": {
    "name": "ipython",
    "version": 3
   },
   "file_extension": ".py",
   "mimetype": "text/x-python",
   "name": "python",
   "nbconvert_exporter": "python",
   "pygments_lexer": "ipython3",
   "version": "3.10.6"
  },
  "orig_nbformat": 4
 },
 "nbformat": 4,
 "nbformat_minor": 2
}
