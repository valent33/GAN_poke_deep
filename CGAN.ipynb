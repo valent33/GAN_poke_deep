{
 "cells": [
  {
   "cell_type": "code",
   "execution_count": 1,
   "metadata": {},
   "outputs": [],
   "source": [
    "import tensorflow as tf\n",
    "# import plotly.express as px\n",
    "import matplotlib.pyplot as plt\n",
    "from utils import *\n",
    "import pandas as pd"
   ]
  },
  {
   "cell_type": "code",
   "execution_count": 2,
   "metadata": {},
   "outputs": [],
   "source": [
    "directory = 'images/final/'\n",
    "width = 96\n",
    "height = 96\n",
    "channels = 4\n",
    "image_size = (width, height)\n",
    "input_shape = (width, height, channels)\n",
    "batch_size = 32"
   ]
  },
  {
   "cell_type": "code",
   "execution_count": 3,
   "metadata": {},
   "outputs": [
    {
     "name": "stdout",
     "output_type": "stream",
     "text": [
      "Found 13849 files belonging to 905 classes.\n"
     ]
    }
   ],
   "source": [
    "train_ds, class_names = load_data(directory, batch_size, image_size, GAN=True)"
   ]
  },
  {
   "cell_type": "code",
   "execution_count": 4,
   "metadata": {},
   "outputs": [],
   "source": [
    "types = pd.read_csv('PokeDataset.csv', usecols=['Name', 'Type1', 'Type2'])\n",
    "# reorder by alphabetical order of column 'Name'\n",
    "types = types.sort_values(by=['Name'])\n",
    "types = types.reset_index(drop=True)"
   ]
  },
  {
   "cell_type": "code",
   "execution_count": 5,
   "metadata": {},
   "outputs": [
    {
     "name": "stdout",
     "output_type": "stream",
     "text": [
      "Percentage of pokemon with double type: 49.61%\n"
     ]
    }
   ],
   "source": [
    "# give percentage of pokemon with double type\n",
    "print(f\"Percentage of pokemon with double type: {types['Type2'].count() / types['Type1'].count() * 100:.2f}%\")"
   ]
  },
  {
   "cell_type": "code",
   "execution_count": 6,
   "metadata": {},
   "outputs": [
    {
     "data": {
      "text/html": [
       "<div>\n",
       "<style scoped>\n",
       "    .dataframe tbody tr th:only-of-type {\n",
       "        vertical-align: middle;\n",
       "    }\n",
       "\n",
       "    .dataframe tbody tr th {\n",
       "        vertical-align: top;\n",
       "    }\n",
       "\n",
       "    .dataframe thead th {\n",
       "        text-align: right;\n",
       "    }\n",
       "</style>\n",
       "<table border=\"1\" class=\"dataframe\">\n",
       "  <thead>\n",
       "    <tr style=\"text-align: right;\">\n",
       "      <th></th>\n",
       "      <th>Name</th>\n",
       "      <th>Type1</th>\n",
       "      <th>Type2</th>\n",
       "    </tr>\n",
       "  </thead>\n",
       "  <tbody>\n",
       "    <tr>\n",
       "      <th>0</th>\n",
       "      <td>Abomasnow</td>\n",
       "      <td>Grass</td>\n",
       "      <td>Ice</td>\n",
       "    </tr>\n",
       "    <tr>\n",
       "      <th>1</th>\n",
       "      <td>Abra</td>\n",
       "      <td>Psychic</td>\n",
       "      <td>NaN</td>\n",
       "    </tr>\n",
       "    <tr>\n",
       "      <th>2</th>\n",
       "      <td>Absol</td>\n",
       "      <td>Dark</td>\n",
       "      <td>NaN</td>\n",
       "    </tr>\n",
       "    <tr>\n",
       "      <th>3</th>\n",
       "      <td>Accelgor</td>\n",
       "      <td>Bug</td>\n",
       "      <td>NaN</td>\n",
       "    </tr>\n",
       "    <tr>\n",
       "      <th>4</th>\n",
       "      <td>Aegislash</td>\n",
       "      <td>Steel</td>\n",
       "      <td>Ghost</td>\n",
       "    </tr>\n",
       "  </tbody>\n",
       "</table>\n",
       "</div>"
      ],
      "text/plain": [
       "        Name    Type1  Type2\n",
       "0  Abomasnow    Grass    Ice\n",
       "1       Abra  Psychic    NaN\n",
       "2      Absol     Dark    NaN\n",
       "3   Accelgor      Bug    NaN\n",
       "4  Aegislash    Steel  Ghost"
      ]
     },
     "execution_count": 6,
     "metadata": {},
     "output_type": "execute_result"
    }
   ],
   "source": [
    "types.head(5)"
   ]
  },
  {
   "cell_type": "code",
   "execution_count": 7,
   "metadata": {},
   "outputs": [],
   "source": [
    "# make a dictionary of types and their index in the list of types\n",
    "types_dict = {}\n",
    "for i, t in enumerate(types['Type1'].unique()):\n",
    "    types_dict[t] = i\n",
    "\n",
    "# create vector of labels with 0 for each type except the one in the row (type1 and type2 are strings)\n",
    "def create_label(row):\n",
    "    label = np.zeros(18)\n",
    "    label[types_dict[row['Type1']]] = 1\n",
    "    if row['Type2'] in types_dict:\n",
    "        label[types_dict[row['Type2']]] = 1\n",
    "    return label\n",
    "\n",
    "types['Label'] = types.apply(create_label, axis=1)"
   ]
  },
  {
   "cell_type": "code",
   "execution_count": 8,
   "metadata": {},
   "outputs": [],
   "source": [
    "def types_to_vector(type1, type2=None):\n",
    "    label = np.zeros(18)\n",
    "    label[types_dict[type1]] = 1\n",
    "    if type2 in types_dict:\n",
    "        label[types_dict[type2]] = 1\n",
    "    return label.reshape(1, 18)"
   ]
  },
  {
   "cell_type": "code",
   "execution_count": 9,
   "metadata": {},
   "outputs": [
    {
     "name": "stdout",
     "output_type": "stream",
     "text": [
      "521\n"
     ]
    },
    {
     "data": {
      "application/vnd.plotly.v1+json": {
       "config": {
        "plotlyServerURL": "https://plot.ly"
       },
       "data": [
        {
         "hovertemplate": "x: %{x}<br>y: %{y}<extra></extra>",
         "name": "0",
         "source": "data:image/png;base64,iVBORw0KGgoAAAANSUhEUgAAAGAAAABgCAYAAADimHc4AAAcyElEQVR4Xu2ceXhU1d3Hv3eZmTv7lkwy2QOBkAVCEhbZBAEDCioKyCJUhFYUV9SCVazVarWvUCpaxeVFbV2KiFC1IiKIRhaDQAIkISQEksk6mX2/M3d5/4iEMC8oCMHRJ5/nmSdP7vndc+6c7/mde5bfGaCXXnrppZdeeumll1566aWXywoRfSEWiYuLU5IkSVmtVk/36yaTScNIGOrU/2S3NG/Iz9vt9jPsYxE6+kIsUjKh5HazUp9++PDhzyorjwymKFoKgJ8wckKBSWJilEoFzOYkZAjarnu+bDjoP3iwvJTnebu6IPVQVdWhturqw87TuV4Y06bN0tQdqbzZ6rCWWR3WQ9HpP5WY94CRw0em6FX6D6YWjdonk8kCHo9HR1GUDkAIgFMVUfEejyf++PHjVxtOEomkhERedh5a5SGRpmnW6XSGy+M87nDY3ZiRkfh+fHL8rn3f7qvdtGHTeXvH6NETCgsLR/1126fv988bkDd343837o62+alcdgE0Gg2t1WqlFoslEJ0WDUlSVEJCxp9uuGFm1tq1z86JTo8mPj5ePvXqq++wNzUtm6a8MpGiKITDYRzWmgAAHMfBFXLxSpWsdODAnDceW/XbnTzPt/t8PjYqK+h0Oloul8evmLvqVovF8nBdXZ2WSvC8un7L+sXRthfDZRPg1mmzZM5AcKQgCCOvGH4FseLpFU9F20Rzy6zb+jc0tG4xmrR3/uej9Z9Hp5+L26ZPXxTv6vuiTqdjeJ6HXaVBJBwBABASAmzYj3A4gAjprfN4PP/u6OjYlZal373hw/c8ADBvxj1944xxMwxGw3TPSc9Qj8eDiooKd/wAuviTbZ8cP6Owi+SyvAOmjJ5QWJCa/cymL78smD9//qcv/fOlZ6NtzkZKYvocvzuk/Lr08wv60p/s3Pn2hCHZS/wyWREAtLVa4HK5AAAqpQomkwFarRaikJAlJwLLGJi9ctpV94cHHv8nTUt0gs98eyAQSLA3CQwh4eAIOnD/H+5fMWfJ5At6jvOhRwUwxSfS2xa/vOjAiapHd+86KMsbnTf/9uW3/2hLnnndb5KSDX3fjFPmX+1P5j+QMTs7om1+iIeWLUurK+WTpKIEjY2N8Fq9UMgUAADWx6KhtRlyuRyEgYDJZJKmZ6QZBX+KMdJODY8A4DgfBEEARVEIkxHozcznD/z5tvfOLOXS0H3kdsmZd/Nts/fu3bu2qqpK18Y7F69du/ZHKx8AnE6nORwO55WVlUVYlv1u3rx5F9RVVlZUDtdoNImhYAgOhwMqlQ4SiRwSiRwKhQYKhQaCQCLgCKDhaAOa6ppAhv2IeB2IeB0gWB8I1gclJaKtrS0giuLGcDjsiC7nUtBjAgzMLRwbDLJPabVa+Hy+8M7KPUeibc6F2+XqX1RUpA4Ggx19+/Y9mZGRcWu0zQ/Bsdx4iqIQDAYhiiI6Hf30hySlkEjkUJJKyAk5wu4wvB2tYN12hD0OiEEvOJ8LYY8d4UioWWeQf2C328UzS7k09IgAZpNZefPkRYsU6Jt+RCeDPTHReHPJkhfNCWbZKZuhg4ea71p0l7n7fQBgNqXIb5lyzzAFm8wY+rrqhUBzAnnSPSTaLpr09HQyPaWP5qbJ8yYX50wcwws8vE4vVJQq2rQLgpCDJBXgOBpWNw2zTI8Rai1SKBWkpAx7jh5FxmD9W6//67WfPH/4MS5agKJBRSqdVnfGu2T00NFDHA7HJJYNo7XNCZ0+EQ2N7ZPGjx6/YmDOQBUALL9r+RC9Sl9gNBhJACguGM4svvU+fW7fwrEajebW/fv3SxITE7e3tLSMPnSy5v3u+Z+NxYsXD7t/4V/+tzB33Lvt7e4sm80Gn88Hmv7x15xEIun6SxAEQqEQACAvLw/1Va2zfzf/3it1WsMFdYPny0UJYDQalUMKhjydm5r74ZL7lxScup5qSp0eiURMLpcTLS0OtLQ4kJ6ejVZL67JBhYOWm81m2ZOrnqyO18dP1Kq1CqPRqJk9fd7qEYOv+nb2jbe+oNFo9DabDTRNNwWDwYFvf7Shvnu5Z0MQhEhp6XeT7faAvq6uGRaLBQzDgCDOv978fj8aGxvR1taGUCgEiqKQnVaQV7W//jWBE9Oi7S8FFyWA3W737zqwa4s8QT6UtRh2P3bPS6vy+hfnkmTf/qxfDkttI9R0POQwoP2kB+b4IqmvWb3i4TueX+IP+VUn206meP1efZIhyUC2SK/SOhL6pSivzGJdBETRcTi+wpsTRyldCp36R1+AK1as2B9RNTzD8ragilaCAAFRpEAQ8mjTs0JSchxx8NjLGdEsNaHFQ6LhaDuCThmhkJr6XT/ut0/o9XoNAJjNZmVyYmqcSqHuQ5Lkj7vYD3D+zeMcFBUV0ddff/2CfduaVqampmpNJpPV5+VMzQ3N8Dg8UEviIX7/+nLzbUhOTobeoEf/HHlZeXm5jJJR80tGjpfVlbftUPAmtSolGyTpxrZt7+8pyTJ6OtRc+6pN65Z43G52zs0369dv3Gh3OBzCmU/RiVarS5xesngTw8VdUVdXBwkhh4xSRpudJxwikSA4mkNqphn1jceQmKl7t7m5edeUKVOGRTyR1MN1+8gvvvl4ltVqtUbffb5clAcAwIEDB7jXX3993bRp0xY0NDS4BUEw+f1+CILQ1beegqF1cNlCaD5pR+OxlmEnjzYVDM8bNdJut49lGEbJ8zxIkoTT6UR2dnaBw+EYs2PHjsNPPvkkcd24casmjR9/fVxcXNfqZzR33/3gQBkjSydJsmscfzFIJBLwPI+TJ08iKysLGkn67MIB41fVlFt/s2vXrlyJRPKkw+GwRd93IVy0AADQ1NQkPL769o8Gjol7aMeBd5yMqxUZNAWjN9LV+gFAJjKgOQn89gBqjkUgo+Pw3htvPJBHTrw9yziGNKUXQKfTQdbsgLmyRcEwDHnjFdeMqX57d63CrzJ9Xlr69rFjxzrXFM5CimogJSHk8nZPAwhWDhpMtMkFQANgoCANUASkCFa1gIFASiRBZn/VtqC+D5a/tX7tlxzHndUbz5eL6r+609LSImzduvXNiRMnwrHLsTLNFK+Ni5PA7e9s1QC6XohyuRxBNgitUgWZxpwml8sR5nmIJIFgmAVBEBg4cCBKm0sZMRLpe8BS+fy2ml3P4ovuJZ7J1KlTZbVVJ+bQYJRcEJBKpdEmPwmCIKBSqxGnlsDj9cJls2HSpElrn1m9/J/Rtj+FS+IBp6ioqODefffddf369XvRZutcPeisc/H7z2kkEgk8Hg9ycnKYQCDAsCyLcDgMp9MJuVyO7xfA7PstlX/Yebzsf864OYqpU6fKsrKyHmdo1c1cCJKQj7tkAoiiCKlUimAwCI/HA7vNDgAX17d145IKAACtra0CmUdu7FCGXDUuDwiCgCiK389IT6PheYheCj6bGpHkePgYEjKNHNXV/0VLroj1hQIUV+ZrZt67+Iokc9JZPdVkMmkG5VxRfM0Vd72vR/FDHMcxra2t4Hn+HMNP4vvrHEQxCEEQuj6iLAgwIRByFp1bDRwIggBFUbD7eVh8NLwdHLSyROz9smKR2Xx6UnkxXHIBAGDVqlVN8fHx5dGVfkoIURQRIMMIkGFI9HLs2fMlgkEHKiv3Q2vQYNINE+ByuTD3lrkSRsUsuKbkmr7d81Ep1JJrxt04edm9j79yU8mS7RUVFdfv3r1bUne0Dn63HzLqh+vG7/ejo6MDdndD16ejowM2mw1+vx88z5/RYEiShEQigUQiAcuy8Hg8qqVLl5Z0y/Inc9aWdTGsWbNG+eGHHz7l9/vzaZrGqZFNJ51fiqZpNPtsMJgNsAYc4G02eL1WfPfdd3joDwvQ7GgASZIYPGow3nzlzaTkhOR7Adx5qozn/ri2n6WhZfWJqtbshoYawmKxQKfTQU4wkEvkIAgCQtSrkSQpCIIAi8WCwsKBB7KyMkrBOPnTFnq0t7drKioqrmUjbBLLBtDa0QGdSgeNRgOlUgmCILpm1nv37h0F4OPT9/80zuanF82yO5763ZFDlffJpPIBcDEUTasgCFIQBAGCJ0AKJFrFKpSUlMDhcKDeGQRJkjAajZg0KRtNTU0YN24cWipb8O67m/DttxV46Omb+ixevPjEK6+8klK+xf2xUqkcXFFRgTb3URTmD4EYoeC3n+73T3U1BMFD0Iiw2+0RjuM6Rl+X+WhbW/N7b731v/9vF6w7M2bMkGVnZ48POLmCI0dqrhJ4qm+ontUrFAp1XFycRJpEH80YpC984oknOtctfiI9IgAAxOkScwtyi19PIvNGsCwBnu9cZyF4AjJKhjrfHsyZMwfV1dUgDAbo9XqYzWaoaRZarRbl5eWor6qHy8WisdGK/gX0B3JGfptCoVij5gfdVltbi5aWFvTJM6Awfwi+2r4LMjGxq/xOr+PgdtsBHeuWKcm1Ih354NMd73x3+inPj7FjxtKZ6QMMx/bXFVOUbKQoUr8jlKwnvzh7+Msvv3BRC3U9JgAAMAxjHp088wDD6BJlMi1EUQTBE/C5fKhybMfYsWORmZmJL/Z/g8GDB4NlWbBtHpw4cQKDBg2CwWBAZWU9vN4IwuGjzpycnA0qlWqGvVljOHbsGGiaxgOPLsSm9z9CwBMGQnqQJIlQKASfzwev14ni4oKtM+4b9vT02TeWebzuH2z154NCoZLMnbt4dnt7+yypVHxk48Z3DkXbXAg9KgAA3HnnnYtqD9teZEQz4/P5RKVSaenTL3Xd4OHGrV9//XVW/379H87rc13eU089BbPZDEVYD5fLhfz8fEQoLziOQ6OlETKpFhzHgaZpBAQn7PZm3HHHbzBkeI64aMF9Qa1W63K7SR4AFAoZC8q5Z/rcqRueW/PUFovFwkU/V6zQ4wLodDrjyKIp/xb82omtzirHVeOvWvTme2v+43J3bnCMGTkm93cLlu2HCGblypUwUtkgSRI5OTkgSQEiRLS0tMBpDaKoqAjt7e2oajyI0aOLsXz5XVj/0TvtBw8e/CPLsvt4XsICQFqaqeNvLz19QduYPxeXfBQUjdfrddht9ud5f6TQGal3d3iTvztV+QBQuru06reLf7s8Pz//+bc3voClt63ZlpmZ3qAxKWa729wqURShUqkg5TWQEBIUFxRjf81ulJRcjZqaOgQE+7sfb3v/NafT2SM7Vj1Nj8wDusPzvPjtoc8+Uad1bELnDFIbbbNs2bL3a8qte30Wk3jfbxYPGSDLStXV6+hRxVMwbFAJhg0swRViBvKURshEJ/71wj+xf3sV/vXCJxBF8etTlZ+eni4zGo097tWXkh73gFNotdq7JRLJ7RqNxhOdFg6Hrbt3794sDNYW6SlG7/f5J6lpPWwnXAAAl8uNrPh4UBIKTU1NSLfbMWrsWAgkieoDO5aMKp7YIWcY2ZiRhVe32tvXrF33auuZJcQul7W1SKVSqNVqInqDOyEhgXxgyZ/vykws+uvOzVvk/U25MDOpaGhnwTAMGIZBkUGBamc1SutK0RrqXEtKTEyEOs4n1NXVHacoyudqq4oz9Uma/PZ/1ld1zz+WuSweoFGpGJqikkWR5ERebIxOT4pPjxMD4uQtW96Vcx4u5IpvQlKmhrleGYFUyuLEiXL8200CJOCQSmHq37JTEIQNIaJl1p7P3VkZGRkpXq+fCZP9Ojx+ZCabM+uaW0+Eo8uJRXrcA5SMQnnT2JL7w4HA/S6WcI4YN+J3/1j3j687bB1dXvD8nzas+Gz7pkeMOnP9ofJvXko2JRXk9M9d0D8SL2XZEFiWRUu8DsFgEIePHA5Jk5pH7ty58+Att9wia28I53rskUXx+tRFDMNISZJsysvL23DgxOa/fvTRhzE/EupxD0hJSYmkDRjwQYpSv+eva19ey+iYP9IkPRtABwDcOGtKyZEjdctZv6y+tP7T+Q3N1QerWyTajAGJVR+W1/09OTkZAGA71gybzYaxY8eufvbN+w5ed9118X369JmWpjOPSklKG5qclCZ95513SJqm015798/33zDzuhoAr3V7lJikxz2gOytWrJix/YMDr+Qnj6maf/uENRVVVbmlZbtuP3ywUu/nbUsbO4690t3+9tmP3ltXc+KvABitYAbv5zGycOQ3zYEjQZ/PN0ChUKRCj0ggEAhkZmaSdfvq+KQ8w2uEIdSan5//6i233OLvnl8sclkF0Ov18UsXPPl+inLguG8PbYI3FHKe7DjempGRtq+iav/dlTUVvlO2UybMSUGAGcUHmL+wLNtHI9FCCAjoY+4DudwAu92G+HgTrFSDVyqTNnIRzuW3N+UwZjyxccfbL7lcrpid/Xanx7ug7vz+9783tVRa0w9Vf4pW1xG0eprecoRtq2oaD/rsdntX5RfnX1UyNH/ySq2YkLxv3z51q7sVpIxEdk42UowpUIYHoo+eB8dx4EhaPXz48Dy/3x/66KO/S0Ku4BKCIDYBsHQrOma5LALo9XqCoqiE2jLbyhMnjtMZfTM2G05wXonWsLn+YE1Td9t+ycOHzcz7n38kOjOyBEFASb9iBJIDoFUUOI5D0BeEjbYiJPjQ7mxG/pA8yBVaaLRxzNhB01DrO9QhkWy/6EW3y0WPCzD3prkpXIS7KcJF5litjXHjJw1f+MK61du7j4JOMW7EhLE3DP3L67yNyuI4DhxCEDgBAsnD62Mh8J27LIIgIOAPICcnB6lmM1i/HyyA/v37w1J1LCkcDp9fNFYM0ONLEQvnLOybn5Xff/q10/+z+8j2iX9/deW5Kj9+5nVz/xYXF5fFcTxCoRACYTdCnBfBiBc8z0JEBCIiCAaDSDQnIjMzE0I4AoIXQPCdcUDBYDDjmWde6BOdf6zS4x4wcebErwB8FX09GikXNzBJNiS1tvYEwmEgAALotq1IEJ29Cs/zcAgnkJ05AoIkiLAQAUVToGkaTQ436uudpHSfdnZaWtpXjY2NFxWzcznocQEugAEajUatUgURcHgAAhDF0zFYPMFBEAV4vB7kFudCqVSC53kIggCSJOH1elFWVgaJVIodO3ZMu3PB0gOfffZZQ0JCQgMv9Tdv3Ljx/61BxQI/uwCrV69OaGxsnBaxqm4CcEY4g4jTAnAEhxAbgkwlg9lsRjgchiAIoGkaoVAIZWVl8Pk6B1Iqlcq087NvV7WddIdcbWxg2KR+KwGs6coshvhZBZg2bZqmrKxs1p49e+7NTio2ipP9MKXFw2JpgcALIMnOc10AQAoiWMIPfYIaFE0gHOEhiDw6bC1otbTC1dYClUoFXpCi2RVEcgp5UpOYtXPEuHFfJCWptr32WmxOii/rROxcLFy40MTaJLMnDL/hSR2To92/qwIEKwXVPbJZDMHHu1A8qgCCEEYwGIDf7wdFATWVNQj7WfCCADdrx/7Kvbh1yZV3/elvf3rpdAaxSY+Pgs6HdevWWR1Ox3+am5stMpkMyckp4DjudETj92MmRsYgHA7Dam2By2UHRQF2ux0etxuBQABerxeC0Bnqs3///pSuAmKYmBAAALaUbmiocu7YzrIsjMkahBgnIpwXEc4LNuxGG1sNUumHy9WKMMmCoyPwhN04ebIaTl8HAmIAESqMsBjG0GFDITGabrz77ocuJjz6shAzAgDA4cOHX92z70s3IWGR1scEX7ADnoAVbn87gkEvGIZGJBKE2++Gw+OApdUCq9XadQ5AFEXQFA29Xh+Vc+wSUwIcOXKkSqWjnz1UVQZKFoFABuD2tUEkA5BKSQAc7PZ2eINeOL1ONLU1QS6Xn3EQQ6FUXPTBjMtJTAkAAKv/fe8bdv/xXawrjOR8I0RdEPXOKvh5P2w+GwJiAGQ4DHe7HbyfhyjKIIqdFc4SbmhMUtQ1HUE43L7zzTfXRuUee8ScACqVyqXX67+xWCwRr9cLnU4HqVQKler0eV+SJCGTyc6IYD4Vkh4IBKBUKvHgXcuv++28Ox5VyJWaLqMY5GedB5yN9vZ2dt++fdtIt3FhEm+ONxqNyMjIgFQq7apwiUQCn8/XeQjj+1X/SCQCo8kIQYjAbDYjyZCWvPjWJQ/JafWV7YGGR9atW7erWzExQ8x5QEZqhuzZZ5ePThkYVluaDsPvtkMmyroOUhAgEGJD4FkeVKSz6+EJHoJUgFzPQsKwaLLU2T/975fW2mPNzPQb5l15w9gbPrtx8o33JCcmn57ZxQgxJ8CE0RPGer3eJbm5uUwkEkGjpbFriQEAZDIZ2traEI6Eu07BiKL4fTS0HFarF8XFo149ULXrlrJDX32xZeemcKIxUfXgHQ8+/Zff/+XFIYVDcrsyiwFiSoDHHnssYdG8RW9ZrVaTyWTaOn369FsjkYi1vb0dTqcTADrPadntYJjTQ/xTQbsEIUcwKGLChDE73tv8xvZX/7VmNq2KTF//zvpvao7UqAtyC2675457Nj3yyCMzExITYuK7x8RSBAColWrNY0sfe72ooOimz3Z+VrruvXWzSUh8wwaPfra1wb7QZMxRqFQqWK1WGAgDaJoGSZLwSzuPFDEMgxRlGO3tJy0763aPtXmcJ07lbTQaNfPnz38iGAzOmHPjbWa73R6prq5+7cXXVz7Bsqzj54wrjQkBNBqN5NEHHl2WoE1YUX6ofO+HWz+8q7GlsQoA+mXm6GdOmzOr9uvau+12e55ebwATlCESiYCiKHCcD0qlEmq1GjbeFjAma598e9t7f3dFnQUoLCykU1NTC0YPmTgvGAzeajQa9XFG1ZbKysqXnl/7/FaPz3PO88c9SUwIkJqa2mf1M6t3H6s4VvvcK8/NcHqc7d3TU1JSSCUnzR1uzHs1LS1tRLYpGzabDW63GzpRhEajQXl5OdwDjP/dvG/zLLfPfc5wlPS0TFnx4GEjkxPSHspOS78mIyPDsfPrnS8n5yY/u3Tp0nPe11PEhAAlJSWfm0wmasuWLXPtdvsZld+dq6+8ui/N0csyed0UkiQNGo1G7hcFSKVSCIKAwrkjhs+bN68s+r5zsXTp0mn2dvszJeNLMsuPNpQ3Nx+/Y/36N48IgnDZQlpiQoBrr732ytra2rba2tpj0WlnY8bIKYMJnlgwavioxXFJqYzBYEBTUxO8Su/MB5c/+EG0/Q+Rnpqe+vgjj8/67xe7p8pkImU26xasWrXqkv8437mICQF+CjOnzkwZNmjYV4MKhvWx2WxgWRbVJw9uem7NczdF2/4Y6WnppM8fNIoir9DrdW3Hjx+/bGEtv1gBAGDJwiUPDh145UrJ92d3a6yN5U1NdSVvvPFSzAflniImxsI/laJhRZvb2trcFE1DKpWC53kjy4bio+1imV+0AI//+fETKpWqVBRF8DwPhUKhaWxszIu2i2V+0QI0NzcL8amqf/v9Nl4MBpEkl6v0jDxHIpH8YrrWX7QAAFC6p3QfF+EaRFGEIAjUtVOuzTebzepou1jlFy/A5o83t9ISeh/DMKcCtLSRSOTM30qLYX7xAhAk4eclfHkIoYhEIgERIoZHQhFDtF2s8osXoKmpSfjkk0/2+Hw+p0wmA8Mw2ikTpxRE28Uqv3gBAODrvV/vrauva6Sozt8EmjJxyvBom1jlVyGAx+dhOSW3wevjIGN0qK1rGhhtE6v8KgQAgKqqqo319fUhqUQCv98/KTo9VvnVCLB169bjapVqB0EQCAWDePjhh38R74FfjQAAIOqCb7OkW4iPV0Mv118TnR6L/KoEeO655/YAaEpLS0NzS/NVo0aMirmwm2h+VQJIpVK7w+HYU1tbC7VKnTZ65OiYFyDmH/BCaG5u9m74eMPLSUlJ/Y4fPa5NNaeOAPBltF0s8avyAAA4ePDgVyRJTk41p97tDriPRqf30ksvvfTSSy+99NJLL7300ksvPyf/Bwt6jQmIJet0AAAAAElFTkSuQmCC",
         "type": "image",
         "xaxis": "x",
         "yaxis": "y"
        }
       ],
       "layout": {
        "height": 350,
        "margin": {
         "l": 0,
         "t": 60
        },
        "shapes": [
         {
          "line": {
           "color": "black",
           "width": 2
          },
          "type": "rect",
          "x0": 0,
          "x1": 96,
          "xref": "x",
          "y0": 0,
          "y1": 96,
          "yref": "y"
         }
        ],
        "template": {
         "data": {
          "bar": [
           {
            "error_x": {
             "color": "#2a3f5f"
            },
            "error_y": {
             "color": "#2a3f5f"
            },
            "marker": {
             "line": {
              "color": "#E5ECF6",
              "width": 0.5
             },
             "pattern": {
              "fillmode": "overlay",
              "size": 10,
              "solidity": 0.2
             }
            },
            "type": "bar"
           }
          ],
          "barpolar": [
           {
            "marker": {
             "line": {
              "color": "#E5ECF6",
              "width": 0.5
             },
             "pattern": {
              "fillmode": "overlay",
              "size": 10,
              "solidity": 0.2
             }
            },
            "type": "barpolar"
           }
          ],
          "carpet": [
           {
            "aaxis": {
             "endlinecolor": "#2a3f5f",
             "gridcolor": "white",
             "linecolor": "white",
             "minorgridcolor": "white",
             "startlinecolor": "#2a3f5f"
            },
            "baxis": {
             "endlinecolor": "#2a3f5f",
             "gridcolor": "white",
             "linecolor": "white",
             "minorgridcolor": "white",
             "startlinecolor": "#2a3f5f"
            },
            "type": "carpet"
           }
          ],
          "choropleth": [
           {
            "colorbar": {
             "outlinewidth": 0,
             "ticks": ""
            },
            "type": "choropleth"
           }
          ],
          "contour": [
           {
            "colorbar": {
             "outlinewidth": 0,
             "ticks": ""
            },
            "colorscale": [
             [
              0,
              "#0d0887"
             ],
             [
              0.1111111111111111,
              "#46039f"
             ],
             [
              0.2222222222222222,
              "#7201a8"
             ],
             [
              0.3333333333333333,
              "#9c179e"
             ],
             [
              0.4444444444444444,
              "#bd3786"
             ],
             [
              0.5555555555555556,
              "#d8576b"
             ],
             [
              0.6666666666666666,
              "#ed7953"
             ],
             [
              0.7777777777777778,
              "#fb9f3a"
             ],
             [
              0.8888888888888888,
              "#fdca26"
             ],
             [
              1,
              "#f0f921"
             ]
            ],
            "type": "contour"
           }
          ],
          "contourcarpet": [
           {
            "colorbar": {
             "outlinewidth": 0,
             "ticks": ""
            },
            "type": "contourcarpet"
           }
          ],
          "heatmap": [
           {
            "colorbar": {
             "outlinewidth": 0,
             "ticks": ""
            },
            "colorscale": [
             [
              0,
              "#0d0887"
             ],
             [
              0.1111111111111111,
              "#46039f"
             ],
             [
              0.2222222222222222,
              "#7201a8"
             ],
             [
              0.3333333333333333,
              "#9c179e"
             ],
             [
              0.4444444444444444,
              "#bd3786"
             ],
             [
              0.5555555555555556,
              "#d8576b"
             ],
             [
              0.6666666666666666,
              "#ed7953"
             ],
             [
              0.7777777777777778,
              "#fb9f3a"
             ],
             [
              0.8888888888888888,
              "#fdca26"
             ],
             [
              1,
              "#f0f921"
             ]
            ],
            "type": "heatmap"
           }
          ],
          "heatmapgl": [
           {
            "colorbar": {
             "outlinewidth": 0,
             "ticks": ""
            },
            "colorscale": [
             [
              0,
              "#0d0887"
             ],
             [
              0.1111111111111111,
              "#46039f"
             ],
             [
              0.2222222222222222,
              "#7201a8"
             ],
             [
              0.3333333333333333,
              "#9c179e"
             ],
             [
              0.4444444444444444,
              "#bd3786"
             ],
             [
              0.5555555555555556,
              "#d8576b"
             ],
             [
              0.6666666666666666,
              "#ed7953"
             ],
             [
              0.7777777777777778,
              "#fb9f3a"
             ],
             [
              0.8888888888888888,
              "#fdca26"
             ],
             [
              1,
              "#f0f921"
             ]
            ],
            "type": "heatmapgl"
           }
          ],
          "histogram": [
           {
            "marker": {
             "pattern": {
              "fillmode": "overlay",
              "size": 10,
              "solidity": 0.2
             }
            },
            "type": "histogram"
           }
          ],
          "histogram2d": [
           {
            "colorbar": {
             "outlinewidth": 0,
             "ticks": ""
            },
            "colorscale": [
             [
              0,
              "#0d0887"
             ],
             [
              0.1111111111111111,
              "#46039f"
             ],
             [
              0.2222222222222222,
              "#7201a8"
             ],
             [
              0.3333333333333333,
              "#9c179e"
             ],
             [
              0.4444444444444444,
              "#bd3786"
             ],
             [
              0.5555555555555556,
              "#d8576b"
             ],
             [
              0.6666666666666666,
              "#ed7953"
             ],
             [
              0.7777777777777778,
              "#fb9f3a"
             ],
             [
              0.8888888888888888,
              "#fdca26"
             ],
             [
              1,
              "#f0f921"
             ]
            ],
            "type": "histogram2d"
           }
          ],
          "histogram2dcontour": [
           {
            "colorbar": {
             "outlinewidth": 0,
             "ticks": ""
            },
            "colorscale": [
             [
              0,
              "#0d0887"
             ],
             [
              0.1111111111111111,
              "#46039f"
             ],
             [
              0.2222222222222222,
              "#7201a8"
             ],
             [
              0.3333333333333333,
              "#9c179e"
             ],
             [
              0.4444444444444444,
              "#bd3786"
             ],
             [
              0.5555555555555556,
              "#d8576b"
             ],
             [
              0.6666666666666666,
              "#ed7953"
             ],
             [
              0.7777777777777778,
              "#fb9f3a"
             ],
             [
              0.8888888888888888,
              "#fdca26"
             ],
             [
              1,
              "#f0f921"
             ]
            ],
            "type": "histogram2dcontour"
           }
          ],
          "mesh3d": [
           {
            "colorbar": {
             "outlinewidth": 0,
             "ticks": ""
            },
            "type": "mesh3d"
           }
          ],
          "parcoords": [
           {
            "line": {
             "colorbar": {
              "outlinewidth": 0,
              "ticks": ""
             }
            },
            "type": "parcoords"
           }
          ],
          "pie": [
           {
            "automargin": true,
            "type": "pie"
           }
          ],
          "scatter": [
           {
            "fillpattern": {
             "fillmode": "overlay",
             "size": 10,
             "solidity": 0.2
            },
            "type": "scatter"
           }
          ],
          "scatter3d": [
           {
            "line": {
             "colorbar": {
              "outlinewidth": 0,
              "ticks": ""
             }
            },
            "marker": {
             "colorbar": {
              "outlinewidth": 0,
              "ticks": ""
             }
            },
            "type": "scatter3d"
           }
          ],
          "scattercarpet": [
           {
            "marker": {
             "colorbar": {
              "outlinewidth": 0,
              "ticks": ""
             }
            },
            "type": "scattercarpet"
           }
          ],
          "scattergeo": [
           {
            "marker": {
             "colorbar": {
              "outlinewidth": 0,
              "ticks": ""
             }
            },
            "type": "scattergeo"
           }
          ],
          "scattergl": [
           {
            "marker": {
             "colorbar": {
              "outlinewidth": 0,
              "ticks": ""
             }
            },
            "type": "scattergl"
           }
          ],
          "scattermapbox": [
           {
            "marker": {
             "colorbar": {
              "outlinewidth": 0,
              "ticks": ""
             }
            },
            "type": "scattermapbox"
           }
          ],
          "scatterpolar": [
           {
            "marker": {
             "colorbar": {
              "outlinewidth": 0,
              "ticks": ""
             }
            },
            "type": "scatterpolar"
           }
          ],
          "scatterpolargl": [
           {
            "marker": {
             "colorbar": {
              "outlinewidth": 0,
              "ticks": ""
             }
            },
            "type": "scatterpolargl"
           }
          ],
          "scatterternary": [
           {
            "marker": {
             "colorbar": {
              "outlinewidth": 0,
              "ticks": ""
             }
            },
            "type": "scatterternary"
           }
          ],
          "surface": [
           {
            "colorbar": {
             "outlinewidth": 0,
             "ticks": ""
            },
            "colorscale": [
             [
              0,
              "#0d0887"
             ],
             [
              0.1111111111111111,
              "#46039f"
             ],
             [
              0.2222222222222222,
              "#7201a8"
             ],
             [
              0.3333333333333333,
              "#9c179e"
             ],
             [
              0.4444444444444444,
              "#bd3786"
             ],
             [
              0.5555555555555556,
              "#d8576b"
             ],
             [
              0.6666666666666666,
              "#ed7953"
             ],
             [
              0.7777777777777778,
              "#fb9f3a"
             ],
             [
              0.8888888888888888,
              "#fdca26"
             ],
             [
              1,
              "#f0f921"
             ]
            ],
            "type": "surface"
           }
          ],
          "table": [
           {
            "cells": {
             "fill": {
              "color": "#EBF0F8"
             },
             "line": {
              "color": "white"
             }
            },
            "header": {
             "fill": {
              "color": "#C8D4E3"
             },
             "line": {
              "color": "white"
             }
            },
            "type": "table"
           }
          ]
         },
         "layout": {
          "annotationdefaults": {
           "arrowcolor": "#2a3f5f",
           "arrowhead": 0,
           "arrowwidth": 1
          },
          "autotypenumbers": "strict",
          "coloraxis": {
           "colorbar": {
            "outlinewidth": 0,
            "ticks": ""
           }
          },
          "colorscale": {
           "diverging": [
            [
             0,
             "#8e0152"
            ],
            [
             0.1,
             "#c51b7d"
            ],
            [
             0.2,
             "#de77ae"
            ],
            [
             0.3,
             "#f1b6da"
            ],
            [
             0.4,
             "#fde0ef"
            ],
            [
             0.5,
             "#f7f7f7"
            ],
            [
             0.6,
             "#e6f5d0"
            ],
            [
             0.7,
             "#b8e186"
            ],
            [
             0.8,
             "#7fbc41"
            ],
            [
             0.9,
             "#4d9221"
            ],
            [
             1,
             "#276419"
            ]
           ],
           "sequential": [
            [
             0,
             "#0d0887"
            ],
            [
             0.1111111111111111,
             "#46039f"
            ],
            [
             0.2222222222222222,
             "#7201a8"
            ],
            [
             0.3333333333333333,
             "#9c179e"
            ],
            [
             0.4444444444444444,
             "#bd3786"
            ],
            [
             0.5555555555555556,
             "#d8576b"
            ],
            [
             0.6666666666666666,
             "#ed7953"
            ],
            [
             0.7777777777777778,
             "#fb9f3a"
            ],
            [
             0.8888888888888888,
             "#fdca26"
            ],
            [
             1,
             "#f0f921"
            ]
           ],
           "sequentialminus": [
            [
             0,
             "#0d0887"
            ],
            [
             0.1111111111111111,
             "#46039f"
            ],
            [
             0.2222222222222222,
             "#7201a8"
            ],
            [
             0.3333333333333333,
             "#9c179e"
            ],
            [
             0.4444444444444444,
             "#bd3786"
            ],
            [
             0.5555555555555556,
             "#d8576b"
            ],
            [
             0.6666666666666666,
             "#ed7953"
            ],
            [
             0.7777777777777778,
             "#fb9f3a"
            ],
            [
             0.8888888888888888,
             "#fdca26"
            ],
            [
             1,
             "#f0f921"
            ]
           ]
          },
          "colorway": [
           "#636efa",
           "#EF553B",
           "#00cc96",
           "#ab63fa",
           "#FFA15A",
           "#19d3f3",
           "#FF6692",
           "#B6E880",
           "#FF97FF",
           "#FECB52"
          ],
          "font": {
           "color": "#2a3f5f"
          },
          "geo": {
           "bgcolor": "white",
           "lakecolor": "white",
           "landcolor": "#E5ECF6",
           "showlakes": true,
           "showland": true,
           "subunitcolor": "white"
          },
          "hoverlabel": {
           "align": "left"
          },
          "hovermode": "closest",
          "mapbox": {
           "style": "light"
          },
          "paper_bgcolor": "white",
          "plot_bgcolor": "#E5ECF6",
          "polar": {
           "angularaxis": {
            "gridcolor": "white",
            "linecolor": "white",
            "ticks": ""
           },
           "bgcolor": "#E5ECF6",
           "radialaxis": {
            "gridcolor": "white",
            "linecolor": "white",
            "ticks": ""
           }
          },
          "scene": {
           "xaxis": {
            "backgroundcolor": "#E5ECF6",
            "gridcolor": "white",
            "gridwidth": 2,
            "linecolor": "white",
            "showbackground": true,
            "ticks": "",
            "zerolinecolor": "white"
           },
           "yaxis": {
            "backgroundcolor": "#E5ECF6",
            "gridcolor": "white",
            "gridwidth": 2,
            "linecolor": "white",
            "showbackground": true,
            "ticks": "",
            "zerolinecolor": "white"
           },
           "zaxis": {
            "backgroundcolor": "#E5ECF6",
            "gridcolor": "white",
            "gridwidth": 2,
            "linecolor": "white",
            "showbackground": true,
            "ticks": "",
            "zerolinecolor": "white"
           }
          },
          "shapedefaults": {
           "line": {
            "color": "#2a3f5f"
           }
          },
          "ternary": {
           "aaxis": {
            "gridcolor": "white",
            "linecolor": "white",
            "ticks": ""
           },
           "baxis": {
            "gridcolor": "white",
            "linecolor": "white",
            "ticks": ""
           },
           "bgcolor": "#E5ECF6",
           "caxis": {
            "gridcolor": "white",
            "linecolor": "white",
            "ticks": ""
           }
          },
          "title": {
           "x": 0.05
          },
          "xaxis": {
           "automargin": true,
           "gridcolor": "white",
           "linecolor": "white",
           "ticks": "",
           "title": {
            "standoff": 15
           },
           "zerolinecolor": "white",
           "zerolinewidth": 2
          },
          "yaxis": {
           "automargin": true,
           "gridcolor": "white",
           "linecolor": "white",
           "ticks": "",
           "title": {
            "standoff": 15
           },
           "zerolinecolor": "white",
           "zerolinewidth": 2
          }
         }
        },
        "title": {
         "text": "Label: Naganadel"
        },
        "width": 500,
        "xaxis": {
         "anchor": "y",
         "domain": [
          0,
          1
         ],
         "showgrid": false,
         "showticklabels": false,
         "visible": false,
         "zeroline": false
        },
        "yaxis": {
         "anchor": "x",
         "domain": [
          0,
          1
         ],
         "showgrid": false,
         "showticklabels": false,
         "visible": false,
         "zeroline": false
        }
       }
      }
     },
     "metadata": {},
     "output_type": "display_data"
    }
   ],
   "source": [
    "for x, y in train_ds.take(1):\n",
    "    print(int(tf.argmax(tf.reshape(y[0], [-1, 1]), axis=0)))\n",
    "    plot_image(x[0], class_names[int(tf.argmax(tf.reshape(y[0], [-1, 1]), axis=0))], size=width)"
   ]
  },
  {
   "cell_type": "code",
   "execution_count": 10,
   "metadata": {},
   "outputs": [],
   "source": [
    "# map labels in train_ds to the column Label in types\n",
    "def map_labels(x, y):\n",
    "    y_onehot = tf.argmax(y, axis=1).numpy()\n",
    "    y_labels = np.zeros((len(y_onehot), 18))\n",
    "    for i in range(len(y_onehot)):\n",
    "        y_labels[i] = types.loc[y_onehot[i], 'Label']\n",
    "    y_label = np.insert(y_labels, 0, 1, axis=1)\n",
    "    y_label_tensor = tf.convert_to_tensor(y_label, dtype=tf.float32)\n",
    "    return x, y_label_tensor\n",
    "\n"
   ]
  },
  {
   "cell_type": "code",
   "execution_count": 11,
   "metadata": {},
   "outputs": [
    {
     "name": "stdout",
     "output_type": "stream",
     "text": [
      "WARNING:tensorflow:Using a while_loop for converting RngReadAndSkip cause there is no registered converter for this op.\n",
      "WARNING:tensorflow:Using a while_loop for converting Bitcast cause there is no registered converter for this op.\n",
      "WARNING:tensorflow:Using a while_loop for converting Bitcast cause there is no registered converter for this op.\n",
      "WARNING:tensorflow:Using a while_loop for converting StatelessRandomUniformV2 cause there is no registered converter for this op.\n",
      "WARNING:tensorflow:Using a while_loop for converting ImageProjectiveTransformV3 cause there is no registered converter for this op.\n",
      "WARNING:tensorflow:Using a while_loop for converting RngReadAndSkip cause there is no registered converter for this op.\n",
      "WARNING:tensorflow:Using a while_loop for converting Bitcast cause there is no registered converter for this op.\n",
      "WARNING:tensorflow:Using a while_loop for converting Bitcast cause there is no registered converter for this op.\n",
      "WARNING:tensorflow:Using a while_loop for converting StatelessRandomUniformV2 cause there is no registered converter for this op.\n",
      "WARNING:tensorflow:Using a while_loop for converting ImageProjectiveTransformV3 cause there is no registered converter for this op.\n"
     ]
    }
   ],
   "source": [
    "train_ds = prepare(train_ds, shuffle=True, augment=True, GAN=True)\n",
    "train_ds = train_ds.map(lambda x, y: tf.py_function(map_labels, [x, y], [tf.float32, tf.float32]))\n",
    "\n",
    "channels = 3\n",
    "input_shape = (width, height, channels)"
   ]
  },
  {
   "cell_type": "code",
   "execution_count": 12,
   "metadata": {},
   "outputs": [
    {
     "name": "stdout",
     "output_type": "stream",
     "text": [
      "tf.Tensor([1. 0. 1. 0. 0. 0. 0. 0. 0. 0. 0. 0. 0. 0. 0. 0. 0. 0. 1.], shape=(19,), dtype=float32)\n",
      "(96, 96, 3)\n"
     ]
    },
    {
     "data": {
      "application/vnd.plotly.v1+json": {
       "config": {
        "plotlyServerURL": "https://plot.ly"
       },
       "data": [
        {
         "hovertemplate": "x: %{x}<br>y: %{y}<br>color: [%{z[0]}, %{z[1]}, %{z[2]}]<extra></extra>",
         "name": "0",
         "source": "data:image/png;base64,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",
         "type": "image",
         "xaxis": "x",
         "yaxis": "y"
        }
       ],
       "layout": {
        "height": 350,
        "margin": {
         "l": 0,
         "t": 60
        },
        "shapes": [
         {
          "line": {
           "color": "black",
           "width": 2
          },
          "type": "rect",
          "x0": 0,
          "x1": 96,
          "xref": "x",
          "y0": 0,
          "y1": 96,
          "yref": "y"
         }
        ],
        "template": {
         "data": {
          "bar": [
           {
            "error_x": {
             "color": "#2a3f5f"
            },
            "error_y": {
             "color": "#2a3f5f"
            },
            "marker": {
             "line": {
              "color": "#E5ECF6",
              "width": 0.5
             },
             "pattern": {
              "fillmode": "overlay",
              "size": 10,
              "solidity": 0.2
             }
            },
            "type": "bar"
           }
          ],
          "barpolar": [
           {
            "marker": {
             "line": {
              "color": "#E5ECF6",
              "width": 0.5
             },
             "pattern": {
              "fillmode": "overlay",
              "size": 10,
              "solidity": 0.2
             }
            },
            "type": "barpolar"
           }
          ],
          "carpet": [
           {
            "aaxis": {
             "endlinecolor": "#2a3f5f",
             "gridcolor": "white",
             "linecolor": "white",
             "minorgridcolor": "white",
             "startlinecolor": "#2a3f5f"
            },
            "baxis": {
             "endlinecolor": "#2a3f5f",
             "gridcolor": "white",
             "linecolor": "white",
             "minorgridcolor": "white",
             "startlinecolor": "#2a3f5f"
            },
            "type": "carpet"
           }
          ],
          "choropleth": [
           {
            "colorbar": {
             "outlinewidth": 0,
             "ticks": ""
            },
            "type": "choropleth"
           }
          ],
          "contour": [
           {
            "colorbar": {
             "outlinewidth": 0,
             "ticks": ""
            },
            "colorscale": [
             [
              0,
              "#0d0887"
             ],
             [
              0.1111111111111111,
              "#46039f"
             ],
             [
              0.2222222222222222,
              "#7201a8"
             ],
             [
              0.3333333333333333,
              "#9c179e"
             ],
             [
              0.4444444444444444,
              "#bd3786"
             ],
             [
              0.5555555555555556,
              "#d8576b"
             ],
             [
              0.6666666666666666,
              "#ed7953"
             ],
             [
              0.7777777777777778,
              "#fb9f3a"
             ],
             [
              0.8888888888888888,
              "#fdca26"
             ],
             [
              1,
              "#f0f921"
             ]
            ],
            "type": "contour"
           }
          ],
          "contourcarpet": [
           {
            "colorbar": {
             "outlinewidth": 0,
             "ticks": ""
            },
            "type": "contourcarpet"
           }
          ],
          "heatmap": [
           {
            "colorbar": {
             "outlinewidth": 0,
             "ticks": ""
            },
            "colorscale": [
             [
              0,
              "#0d0887"
             ],
             [
              0.1111111111111111,
              "#46039f"
             ],
             [
              0.2222222222222222,
              "#7201a8"
             ],
             [
              0.3333333333333333,
              "#9c179e"
             ],
             [
              0.4444444444444444,
              "#bd3786"
             ],
             [
              0.5555555555555556,
              "#d8576b"
             ],
             [
              0.6666666666666666,
              "#ed7953"
             ],
             [
              0.7777777777777778,
              "#fb9f3a"
             ],
             [
              0.8888888888888888,
              "#fdca26"
             ],
             [
              1,
              "#f0f921"
             ]
            ],
            "type": "heatmap"
           }
          ],
          "heatmapgl": [
           {
            "colorbar": {
             "outlinewidth": 0,
             "ticks": ""
            },
            "colorscale": [
             [
              0,
              "#0d0887"
             ],
             [
              0.1111111111111111,
              "#46039f"
             ],
             [
              0.2222222222222222,
              "#7201a8"
             ],
             [
              0.3333333333333333,
              "#9c179e"
             ],
             [
              0.4444444444444444,
              "#bd3786"
             ],
             [
              0.5555555555555556,
              "#d8576b"
             ],
             [
              0.6666666666666666,
              "#ed7953"
             ],
             [
              0.7777777777777778,
              "#fb9f3a"
             ],
             [
              0.8888888888888888,
              "#fdca26"
             ],
             [
              1,
              "#f0f921"
             ]
            ],
            "type": "heatmapgl"
           }
          ],
          "histogram": [
           {
            "marker": {
             "pattern": {
              "fillmode": "overlay",
              "size": 10,
              "solidity": 0.2
             }
            },
            "type": "histogram"
           }
          ],
          "histogram2d": [
           {
            "colorbar": {
             "outlinewidth": 0,
             "ticks": ""
            },
            "colorscale": [
             [
              0,
              "#0d0887"
             ],
             [
              0.1111111111111111,
              "#46039f"
             ],
             [
              0.2222222222222222,
              "#7201a8"
             ],
             [
              0.3333333333333333,
              "#9c179e"
             ],
             [
              0.4444444444444444,
              "#bd3786"
             ],
             [
              0.5555555555555556,
              "#d8576b"
             ],
             [
              0.6666666666666666,
              "#ed7953"
             ],
             [
              0.7777777777777778,
              "#fb9f3a"
             ],
             [
              0.8888888888888888,
              "#fdca26"
             ],
             [
              1,
              "#f0f921"
             ]
            ],
            "type": "histogram2d"
           }
          ],
          "histogram2dcontour": [
           {
            "colorbar": {
             "outlinewidth": 0,
             "ticks": ""
            },
            "colorscale": [
             [
              0,
              "#0d0887"
             ],
             [
              0.1111111111111111,
              "#46039f"
             ],
             [
              0.2222222222222222,
              "#7201a8"
             ],
             [
              0.3333333333333333,
              "#9c179e"
             ],
             [
              0.4444444444444444,
              "#bd3786"
             ],
             [
              0.5555555555555556,
              "#d8576b"
             ],
             [
              0.6666666666666666,
              "#ed7953"
             ],
             [
              0.7777777777777778,
              "#fb9f3a"
             ],
             [
              0.8888888888888888,
              "#fdca26"
             ],
             [
              1,
              "#f0f921"
             ]
            ],
            "type": "histogram2dcontour"
           }
          ],
          "mesh3d": [
           {
            "colorbar": {
             "outlinewidth": 0,
             "ticks": ""
            },
            "type": "mesh3d"
           }
          ],
          "parcoords": [
           {
            "line": {
             "colorbar": {
              "outlinewidth": 0,
              "ticks": ""
             }
            },
            "type": "parcoords"
           }
          ],
          "pie": [
           {
            "automargin": true,
            "type": "pie"
           }
          ],
          "scatter": [
           {
            "fillpattern": {
             "fillmode": "overlay",
             "size": 10,
             "solidity": 0.2
            },
            "type": "scatter"
           }
          ],
          "scatter3d": [
           {
            "line": {
             "colorbar": {
              "outlinewidth": 0,
              "ticks": ""
             }
            },
            "marker": {
             "colorbar": {
              "outlinewidth": 0,
              "ticks": ""
             }
            },
            "type": "scatter3d"
           }
          ],
          "scattercarpet": [
           {
            "marker": {
             "colorbar": {
              "outlinewidth": 0,
              "ticks": ""
             }
            },
            "type": "scattercarpet"
           }
          ],
          "scattergeo": [
           {
            "marker": {
             "colorbar": {
              "outlinewidth": 0,
              "ticks": ""
             }
            },
            "type": "scattergeo"
           }
          ],
          "scattergl": [
           {
            "marker": {
             "colorbar": {
              "outlinewidth": 0,
              "ticks": ""
             }
            },
            "type": "scattergl"
           }
          ],
          "scattermapbox": [
           {
            "marker": {
             "colorbar": {
              "outlinewidth": 0,
              "ticks": ""
             }
            },
            "type": "scattermapbox"
           }
          ],
          "scatterpolar": [
           {
            "marker": {
             "colorbar": {
              "outlinewidth": 0,
              "ticks": ""
             }
            },
            "type": "scatterpolar"
           }
          ],
          "scatterpolargl": [
           {
            "marker": {
             "colorbar": {
              "outlinewidth": 0,
              "ticks": ""
             }
            },
            "type": "scatterpolargl"
           }
          ],
          "scatterternary": [
           {
            "marker": {
             "colorbar": {
              "outlinewidth": 0,
              "ticks": ""
             }
            },
            "type": "scatterternary"
           }
          ],
          "surface": [
           {
            "colorbar": {
             "outlinewidth": 0,
             "ticks": ""
            },
            "colorscale": [
             [
              0,
              "#0d0887"
             ],
             [
              0.1111111111111111,
              "#46039f"
             ],
             [
              0.2222222222222222,
              "#7201a8"
             ],
             [
              0.3333333333333333,
              "#9c179e"
             ],
             [
              0.4444444444444444,
              "#bd3786"
             ],
             [
              0.5555555555555556,
              "#d8576b"
             ],
             [
              0.6666666666666666,
              "#ed7953"
             ],
             [
              0.7777777777777778,
              "#fb9f3a"
             ],
             [
              0.8888888888888888,
              "#fdca26"
             ],
             [
              1,
              "#f0f921"
             ]
            ],
            "type": "surface"
           }
          ],
          "table": [
           {
            "cells": {
             "fill": {
              "color": "#EBF0F8"
             },
             "line": {
              "color": "white"
             }
            },
            "header": {
             "fill": {
              "color": "#C8D4E3"
             },
             "line": {
              "color": "white"
             }
            },
            "type": "table"
           }
          ]
         },
         "layout": {
          "annotationdefaults": {
           "arrowcolor": "#2a3f5f",
           "arrowhead": 0,
           "arrowwidth": 1
          },
          "autotypenumbers": "strict",
          "coloraxis": {
           "colorbar": {
            "outlinewidth": 0,
            "ticks": ""
           }
          },
          "colorscale": {
           "diverging": [
            [
             0,
             "#8e0152"
            ],
            [
             0.1,
             "#c51b7d"
            ],
            [
             0.2,
             "#de77ae"
            ],
            [
             0.3,
             "#f1b6da"
            ],
            [
             0.4,
             "#fde0ef"
            ],
            [
             0.5,
             "#f7f7f7"
            ],
            [
             0.6,
             "#e6f5d0"
            ],
            [
             0.7,
             "#b8e186"
            ],
            [
             0.8,
             "#7fbc41"
            ],
            [
             0.9,
             "#4d9221"
            ],
            [
             1,
             "#276419"
            ]
           ],
           "sequential": [
            [
             0,
             "#0d0887"
            ],
            [
             0.1111111111111111,
             "#46039f"
            ],
            [
             0.2222222222222222,
             "#7201a8"
            ],
            [
             0.3333333333333333,
             "#9c179e"
            ],
            [
             0.4444444444444444,
             "#bd3786"
            ],
            [
             0.5555555555555556,
             "#d8576b"
            ],
            [
             0.6666666666666666,
             "#ed7953"
            ],
            [
             0.7777777777777778,
             "#fb9f3a"
            ],
            [
             0.8888888888888888,
             "#fdca26"
            ],
            [
             1,
             "#f0f921"
            ]
           ],
           "sequentialminus": [
            [
             0,
             "#0d0887"
            ],
            [
             0.1111111111111111,
             "#46039f"
            ],
            [
             0.2222222222222222,
             "#7201a8"
            ],
            [
             0.3333333333333333,
             "#9c179e"
            ],
            [
             0.4444444444444444,
             "#bd3786"
            ],
            [
             0.5555555555555556,
             "#d8576b"
            ],
            [
             0.6666666666666666,
             "#ed7953"
            ],
            [
             0.7777777777777778,
             "#fb9f3a"
            ],
            [
             0.8888888888888888,
             "#fdca26"
            ],
            [
             1,
             "#f0f921"
            ]
           ]
          },
          "colorway": [
           "#636efa",
           "#EF553B",
           "#00cc96",
           "#ab63fa",
           "#FFA15A",
           "#19d3f3",
           "#FF6692",
           "#B6E880",
           "#FF97FF",
           "#FECB52"
          ],
          "font": {
           "color": "#2a3f5f"
          },
          "geo": {
           "bgcolor": "white",
           "lakecolor": "white",
           "landcolor": "#E5ECF6",
           "showlakes": true,
           "showland": true,
           "subunitcolor": "white"
          },
          "hoverlabel": {
           "align": "left"
          },
          "hovermode": "closest",
          "mapbox": {
           "style": "light"
          },
          "paper_bgcolor": "white",
          "plot_bgcolor": "#E5ECF6",
          "polar": {
           "angularaxis": {
            "gridcolor": "white",
            "linecolor": "white",
            "ticks": ""
           },
           "bgcolor": "#E5ECF6",
           "radialaxis": {
            "gridcolor": "white",
            "linecolor": "white",
            "ticks": ""
           }
          },
          "scene": {
           "xaxis": {
            "backgroundcolor": "#E5ECF6",
            "gridcolor": "white",
            "gridwidth": 2,
            "linecolor": "white",
            "showbackground": true,
            "ticks": "",
            "zerolinecolor": "white"
           },
           "yaxis": {
            "backgroundcolor": "#E5ECF6",
            "gridcolor": "white",
            "gridwidth": 2,
            "linecolor": "white",
            "showbackground": true,
            "ticks": "",
            "zerolinecolor": "white"
           },
           "zaxis": {
            "backgroundcolor": "#E5ECF6",
            "gridcolor": "white",
            "gridwidth": 2,
            "linecolor": "white",
            "showbackground": true,
            "ticks": "",
            "zerolinecolor": "white"
           }
          },
          "shapedefaults": {
           "line": {
            "color": "#2a3f5f"
           }
          },
          "ternary": {
           "aaxis": {
            "gridcolor": "white",
            "linecolor": "white",
            "ticks": ""
           },
           "baxis": {
            "gridcolor": "white",
            "linecolor": "white",
            "ticks": ""
           },
           "bgcolor": "#E5ECF6",
           "caxis": {
            "gridcolor": "white",
            "linecolor": "white",
            "ticks": ""
           }
          },
          "title": {
           "x": 0.05
          },
          "xaxis": {
           "automargin": true,
           "gridcolor": "white",
           "linecolor": "white",
           "ticks": "",
           "title": {
            "standoff": 15
           },
           "zerolinecolor": "white",
           "zerolinewidth": 2
          },
          "yaxis": {
           "automargin": true,
           "gridcolor": "white",
           "linecolor": "white",
           "ticks": "",
           "title": {
            "standoff": 15
           },
           "zerolinecolor": "white",
           "zerolinewidth": 2
          }
         }
        },
        "title": {
         "text": "Label: Abomasnow"
        },
        "width": 500,
        "xaxis": {
         "anchor": "y",
         "domain": [
          0,
          1
         ],
         "showgrid": false,
         "showticklabels": false,
         "visible": false,
         "zeroline": false
        },
        "yaxis": {
         "anchor": "x",
         "domain": [
          0,
          1
         ],
         "showgrid": false,
         "showticklabels": false,
         "visible": false,
         "zeroline": false
        }
       }
      }
     },
     "metadata": {},
     "output_type": "display_data"
    },
    {
     "name": "stdout",
     "output_type": "stream",
     "text": [
      "tf.Tensor([1. 0. 0. 0. 0. 1. 0. 0. 0. 0. 1. 0. 0. 0. 0. 0. 0. 0. 0.], shape=(19,), dtype=float32)\n",
      "(96, 96, 3)\n"
     ]
    },
    {
     "data": {
      "application/vnd.plotly.v1+json": {
       "config": {
        "plotlyServerURL": "https://plot.ly"
       },
       "data": [
        {
         "hovertemplate": "x: %{x}<br>y: %{y}<br>color: [%{z[0]}, %{z[1]}, %{z[2]}]<extra></extra>",
         "name": "0",
         "source": "data:image/png;base64,iVBORw0KGgoAAAANSUhEUgAAAGAAAABgCAIAAABt+uBvAAAuI0lEQVR4Xu28V5hdxZn3W1Urr513d+/OOUgtdSvnjCQyWAQTZDDBYM2YEWPA4dhzbDwP/ubMGA9gYYbPHtt4MGCSwTQCISQkoZzVanXOeXfvnFeuqnMhLEubIBkLzQ2/vuhnV71Vb9X/qbxqLUgpBV/y6aDsgC85ly8FOg9fCnQevhToPHwp0Hn4UqDz8KVA5+FLgc7DlwKdhy8FOg8XWaCJQPCgP2Nikh3xBRCPx7ODvgDY7IC/j+d//4Jiy2/Pke7/2s3ZcReV5ubmkZFISUnN3LkV2XEXFfj3bFYppRDCs0MSicw7h3tXzyou9OWdHX5eTAtrBnbIfHbEJ0Ep7e4eYbmCZEJxOo2amvxsi4vH5+9i23cffPWNt88OOdTW9vjTT57s7zzU5z87/LzEMsbhvtjWI73ZEZ+CYZomAkjmI4byjw9+0zTNbIuLx+cRKJ5MPv9mU1QnM6bXnw5pGR39oKOjZXR0WNNuW7X4D398PZFMn5voU9ENM5HMFOXntPf7T3SNZEd/EpTStIFTFBBZ/PkvnuU4Ltvi4vF5xiC301lSXl9XVlCa50yb5lMHD27eu1eYP98nSabN/tudHfMa5jvscnayT2HrO+84cgvrZi6aWV/54uY9c6bemW1xLiMjI9FUyuer1TBgKakoysm2uKh8nhZkYUIwef6lVwEAdo4bicXuuOqquoq6YAZOmb+wtMZ94vgpVdOzk30Suq6FIqGS0gqCaX1Nhaqb7354NNvoXGw2W64nx7R41oLdHf3NrRfaMT8fn0cglkFj0VTzYPitDw4CAKYjVizIt3FSsD3pdRVQqPlKbNFYIjvZJyEI4sBA35HjJzCBgICbr1+zYEZdttG5ON0ep8cnMVRN60payaRT2RYXlb9ZoOHh4Z/97GeTfS15hYW/fWP7Zf/0/ede/XOVwNnSug2iEz2R6tyyqto5JUUXOrPcfc99No4CAFjIutwOwrDBcCzbCAAAACFYUbSRkUhCByqhIsP1DQUa6s8j6N/J3yyQw+F49913q3zu+OSwkpwszM2Zvnyxw+uuKnJJkdjJgdH+yfTihdOypv/PYMqUKfMXrIAEQAgEKOxsHr73kceTaTXLrKenp/VUayKhcozD1KGFadRULr9iXmXp+dcTlmVlB10wf7NAXq/35ltvb3r/w/nT6z544b8ayipu+cpVEqSjpsYW2FdwbKHE7O75G6Z5QohlmIhSAKhNlFjI1s2YP+jPbkThcFgURQgRQgxDAYSIMLS+4vwj9MTE5G9/97vs0AvmbxBI07TXXnsNAPBP/7jh5vV3d/cNb/twfwiyqiACCOpETskYx1r6QTKVDPr39w5np/8UEEKRWBQylIEAAFBemFde5Kyv9GWZ1dfXj4yOAoAtjlEBpRDEE6mTbV1ZZh+nsLAAANDR058dcWFcqEDPPfe7hQsXPvLII++++25fX9+RPdtEZ86DP/mPw4OhEjvHUjpGkN0hN1YXs4gRLVFxCCYhmJx/U9ba2rpv7w6WgQACAqjL5WAAfWv7gSwznuclKc+yvNSChAJNN2IWJdgg53ORscCyG+5MCgXZERfG+QVqampas2b1o48+GovFVq5cWVJSUlpaetmSuWkiibJr/sIqieVMDCaDaaU32DcUrijK4xihq93/4gcfvPDWW9nZfYzGxsbpDQ2KphoEAAgoBQ3TZ2ze3xOIJM82m5wMJpNpAAAFgBBAMDGiE+lUEqFPrUIqrQxPRAaTWMWC3x+KJLPHtQvhU3MHAOzfv//WW2994IEHenv7Ghoan3322ccff/z999/ftm3beDyTSodFV0GgbAZLAWBQYDDosHBxvqd9IBBWtPf7J7FuXLl8eXamH6O9vX3H9vcESYYAUAoRYuyyVFtW8tLbe88243l2+qxZCkM0RDHGukHTKtq5c08y9QlLdlXTj5zs3Lr7cDRjARMN9o0f2n8wxyll210AnyxQV1fXAw88cOuttxw8eLCoqOixxx574403xsfH77nnHp/Pt3z5ckZL5TNuNqmNv79z+0B8IGGNR1WAybA/nueRcm1cRXGub3pDYV5eIpkMEOIPBFOZTLYbAAAA06dPX7xoQTQSBgBAACgFgiA21JUriqLpxmmbUDgMBFfKEkxMCaEWJpoJQ+HoVdde63TYz8kOAABAZ+9AIKHNmLeUl32ZJM2VmEfuuSbb6MLIFigcDj/66I9Xr169efNmQRAfeuihffv2SZK0fv16VVVffvnle+65Jzc3t2HmIlH2uHzFNC6/OapZHCtbxBJ5h5MfD6ciSibUM/rUL54MJ5Mnjh+PxOObj57ce7Q1y9dpRkdH29o78nIclFAAACUEIWS3O69YtUQU+Iyit7S0vPnGW4m0BQDElJoWwYQwQCG6euuVi8/Oqq2t4+jR4zEV2Arra6bOzGg0HFMPNjeHYxMFua6zLS+cv+7FKKVPP/30009v0nWD47g77rhj48aNbW1t3/zmN6uqqp544ona2trTlqlU6sSxfVFDTJsJkE56g1prKMN6ZKxhi1rlhW6LgpTFCwUr3zx58saGBsCKqxevmRgfV02iZTIet+OMUwBAaWmp3SaPDA968ysJ4SgFlBC3y9E3NOr1eIKRJA89a9fepgLGJARCSAjGxEhrydJi15mzGozxli3bT7W2VtU3YldMkpyWZSmaFo7GrltWV1N0jse/iY8EeumlFzdtetrv9zMMc+21127cuFFV1f/4j/+AED744IPz588HAIyNjTU1NS1fvrynpye/oLCWRYMjshrsBZ25S64o77ZwVBJSk/GTvRMqRhy0dIpJpaDqOgt4iRdListaOsfb2lrv/9pVmBDmL4NrMBj0eL2lZRVpFQPAUkIhpYZh5rrd8TQRbS5AsOzi0kkCKCWUmpapGWosnRAdks0mGobB8zzDMMXFhaFoMregUhTshmHqhhFNJPc3t04rmQ/A3yHQ1q1bn356U0vLKYZhFi1atHHjxqKiohdffHF4ePjOO++8/PLLAQDJZLKpqWnXrl3r1q1jWRZCuPW997jSRSyEsuQ0BLJnJFxWlT+4qzvP4Vy3vHHLoT7NpNfNnnHb3KmJRCIYingKHaZG8wuKWcn7UtPuZGz8W/d8DQCgqsqG++/NLyjylTUWl9ciZBGKMKYcw3b19c+YNkXgOUrpWNiglGF5HgNgGpZuGLLEewo9b2z5YLS79ZFHHrEwKaion5dbjzE1TayZumZqvWMTE/6++srrsyv9t4Duu+++trb2urq6p5566tlnn21ubv7e977X2Nj4/PPPn1anqanpoYceAgBs2rQpFovddtttNpvtX3/y45Icp6masYlBl8lghxjlAe8SLMP487YTLM+wAO47csowLZfLVVtTJXFQFACg1G0Xa6bMihhyWtEBAJIkv/jHV//52w9NqSywLIotTAgllFgYl5cUAkoMw9RNbFkEIoZQSjCmlGaSOg94t5Bb17Bk4aKlwxPRE93B8ZCi66amm5qu6YYenBhvbe++evHMc+ubTeov88CngXJycn70ox9t27YtmUyuX7/eZrO9/PLLt9xyCwBg165dDz300NjY2E9/+lOPx7Nu3brvfOc7wWBwy5YtL7z4cmvnhCTZsWUEg+Ncf3i6TUh6WMAwsWQmHMsgk0RHg39sev+0G4kDNpEiRBGiXpfjK1ddNRhQnnt9KwDAZrNxol2Q7AILMCGUYEIoANQ/Malqqmkapm5QSrClWxa2DFPX1d6BPpsomaalqBi5qyYTBuI5DKCJsWEaqqolksljLW1aaKC29Dx75qt+99IHIxPZoWfB7tu3b8eOHevXr1+wYMELL7xQVFQEADh+/HhTU5MkSRs2bEgmkw8//PCOHTsQQpIkPfrooxs2bGhra3ecCrz2zk7R4bHczvcyyr1ScanJxggeGg8UmJq7pNhbVPb8n96+ZtViX64XQSiywCaSRAZACDiITMqr0NM3Hve6JJPPC0Q1SeAsizAspIAwDJPj8VimhQBiEWIRtLAFILIsI5lMelxOWRQN3QAAQAAAsBjCYUoIxoZpprE5Hg5ef9m81fPvOrey2fT7A7zJ/2EitbasMDvuL7CPPPKIz+d77LHHpk2bBgDo7e1tamqKRCLr1q3Ly8t74oknXnnlFYZheJ73eDwul2t8fBwAEEukeke6OM7QJ8b4cNkMXJPMaAmfE7bRcCQJtSTvckp2V1HFzF2HTt523WoAAMcAWQCKDnSTQggQgnPrq0MTfoBKQ0kN6Yah6xSxlFIAoaoqqqpIAk8pFQTWMDGFDLCIaVmWadklu65ZhBKKMWIYhpctTCnFpmli05wIBXfvOzzvzquzqvpxdMi5yqq6ertew9FblyzKjgYAAMDee++9S5cuBQAEAoGmpqaWlpZ169YtXLjwiSeeeOaZZxBCHMe53W63221ZVjqdppTqum4YhsyyhmHxDrcenPR3xG64YtoBlkbtLI3DpKIrwZDI5xQUNly7+iPHEEKOgbJINYMiCBGAdkkKq/aJsCoBoGGSMU2ETF6CCCGWQQxChmkyiNE0E0LI8SImZjKRisUTxcVFlFKCCTj9zzIJpRY2LROrqp4MTP7X//uNAu/5Fz77BgOzaktXKYwRiWTH/QW0dOlSVVVfeeWV7373u16vd9OmTd3d3TNnznz22WdZlnW73aWlpQ6HQ1XVxYsXv/TSS4899pggCAsXzF8wZzZEkOMYl8dDctlt0RSX64KqARCjW3qZz15gk5Vo9I0/b+8cGD3tjGOQLECeoRhjAAClVBLlZDRGMD49+lJCsGlgQggmLqdDEgQAIICAZRGmlonNjJIsKCiQZZlQQLAFAACIwRgbhqFquj8Y2n34cDwyyZ3vNAoT8rvdrbu6x6eX5ux75/05dVOyLf4Cu2XLlqampoULF27atOn9999fvHjxwMAAwzAOh8PtdnMcp+v69OnTN2zYsGrVqjPJ7DapJN87a2rV/mMnYbyfTTXe6nP925FBKgpA15MZI6ZqwBm32cGKZbP/vPswgxDHMByi+YUFNhtKKwYAEBPKsCzP84l0mmdZSgjLc9g0IGIIoROBoCzJXreHUmCYGDLANHXDMGyCCC1ACD69LMKmZWJT0/RAOKIo6fVXL1oy+/xnjPf/y+Nd3vJbb1pVKLPf+ua900pLsi3+AtvT0/PDH/6wt7f3jjvuOHLkCMMwNpvN4/GIoqjrutfr3bBhw0033ZSdDoDw5FB9kdTllFJyGZLZHRNJp8BqmHHlupYtbSwu9k0Eo6nU0J+2JQqqZ/z+z/tG/OH7rpudm+N1CowiwVj6o1M+WZYnA5Ocw0EIsTBGCJq6TgD05eUZukEpAYA5PbsFgiFFNTiOJQQYhnr60NLCWDf0aDQ2PND18x/ef04RP4U9pwYChVPz502tyPdYhJS7P6szsqtWrfrxj3/87rvvMgwjiqLH47Hb7bquU0o3btx4//2f6nJsdHR8bPSKZfPePhHWAFzpc+xKa1QUvDkyy3OjgRiglJGLuvuGE3QyhVlnXokjp1AQeEqp18EEowpEiBLIIGSTZEVVZVHUdUMQeExMDJh4IsEgxmm3Y2xhCiyCw5HI1LqpFABMMAWAUGBqmmno3f0Dh44eunL5HE3TRVHILui5pBTtgadfFucu+Yea0gqbkEwmJP6zHueyq1evPjNJud1uwzDS6fRdd921YcMGt9udbX4WM+cuqK2t7RkYcee4ow7xWFotK/IMW2B4LLViflXnoB8TItoc3pzZCGKHQ/rhnaudNhEA0N7dCzjG4cqJhRWEGACQLIrBTFrgeQChbpgAQoiA0+FIJJMEUENXEcOahuF0up1OB8FEUzMWwQSTaCI5NDpZ6pOf/T8PV5Sc/0gsrajPbd4j5+XyQI3akAABhIz0sR372bAcx7lcLrfbTQhJp9PXXnvthg0bqqqqsg3PZcfBk6+/s7OsouZQ6zgjugomEwu89g84HkqCOhGIhZJ5nDk4MsQX1IXTGQay6XSyY8Bf6JFbuseOnmxbMLdi2tx8HLAwtiBkIISyKGUyitPpUDWdEszzvKpkOJZDCHG8oGl6IpnmBYlSbJmmaRiGZWqGGgz4771pZU3Z+c/tT9M7PP7i5v284ImggBFLhwR2x4nOUVG8Y/GMbNO/wJaUlCCENE1btGjRhg0b5s2bl23yMSilmqIItsL+/tHwSE/ZnNV9DqZ5IrbGyTcJJL8IVE3LH+81BWzI1IgjBGU4carrXx47MK2ufMa8Ffa8GlZ2hoNByLIMRYqqMYgTBD6dSRumybKsaRBVN3iWDccTHrdb0zRV0ziOLSzIo4QoSiaTUYKhQHtXbzwUvPP6pdnl+xS27Wt95YNOSfTpakLMLYki0pPM/NPSWfmf3cUwxpWVlRs2bLjiiiuyIz8FCGFhrqO6yHE8NDyzoaG20jvcFzpAqRdRWU1qqjo0GAj5xwb6Bq5fuPLUWHD11Us6P9wejiXdZXURxYxEUw6xEqhMRjEknhBCMDYoBZIkpdPpHI8XUGooCqHU43IxEGLLUjUtLzeX47h4LJ5MpAORcGdf95UrZt22bm124T6JvmH/E79/p6U3iBiRAJrJcYhz6hIs/GNb79KZU88j0A9+8IPbb789O/h8zJnZ6MvNseL9XcPBtXOuGgpmmve1j+uETZur5jROqahtO9Lsn5wcj4Rgrr1tZPSuH/1z18HOvq7e4nKQMSxdIzangKmW0YiAGIyxpussy2KMFVUVBYHjOCWdsSzssNl4lh0dG83LzcMWoRRE49HunvaMlbzu8gttO6GEcmpgghMdlqJaLHDNaVzVWNVzokPasnfayvnZ1ueCPoc6pykpLnrkoW//w123ZDKZ29fOCrx9OHmwWQkM+nJtf/7Ta8eOHiutqc7J8+ixzH8//eLriVT+8jmuyoqusUCezDOI0TXzRN+YSSjDshzHsQzSdZXnuUQqySBommYwEuU5nhDKC+Li+QtlSdYNTeIFiXMGAuGFddWTsb+e6n/80WAknnnm5d2BSOrXbx78yXO7Wc5hKIrKgMSUkrp5tQzLtB5qOf7hll179mclzOLvukB1mqPHmj0+X894tLtvrKqirK2j709/2sJwwlWXL0yzIpJdfQeOtUfD5fMaF3/tihMdw4VHutfOafDluI4PTHA8t3hKmYUxITiZSlqmFU0kZVnGhPpD0YaaakIsyLCUUgooAFTN6Ec7+5s7e3hLDWFrdpl7zeI5J06084j89McPny4PIfS5Nw88v/moBaBkEwxFwbpGDN20sDWjqubOtVN9nl3vHR586c1KJnHw7ZfOrU02n+f6SxaiJO74cF/3eGb+rLr+wfGtOw7HMpo3T95/6FQkMjF35ZX1i+b3vPTayLZjiixWL59ZtGb2jj1t969ZkOBodDRUkeN020WWY202u6ZrvKq4nY7+sUBOjsfCJotgMBJPZ5SSPI8JSCyVGB4aMQzoqptC+v2nOqMn23ZopqolQ96CtxbNmeoPp377+p5AXGdYDnEwFUlS0yKWZTllc2Z12WWzZhTm9HQNxw+3ljPmP911/t5zEVoQAODIidaX39574HDb7JmN5XVVbe29DnfRsUMHEtGA0+WunlafSqUH2rux26lOrbr/h3f1dIxcntFPHO1lZXnOlFKZpQ6HnRd4SkEsnmBZtmcspJkWxzD+ycju5p4itzS7rjw33z0WCAxNhq74zl1lEvurcDL2q82Z0TBHAIWUmIYk8JqJCUCUAmJqlGJKCBF5LT9HbKhcvXJmY3Xxzr0te198b01xzvP/vjG7Gp/EZ62RLpyC/DxqZdKJZHh8klqmwNOTJ/aYROMkWzqVPnW8ORqJQITYVIZr7m/67VZXmddXX7JzNNgbjnCQiBybSMQikRClpl2WIIQMRL0j4fcPdJ7oHrWJfCSROdjc3ts31Nc7NDLi39rSnYL0/6nIueXrq51rZ1sIQEoZxOomgRBCamE9iU1Fh4ZWXaTPrWu8ecX6DdfDkvzfnBw6vO0gHwxW5rvwhV3FvTgClRUXlJX4ZjXWZgzlrTdecfDWLx7dYHPaWVZiWYlSGA2GKCQAAhFrkbcPHT7akRSZqjtXhWoKdh3pYBiIMOwZm7SInueVTUz84cRYIE4IhhQAjBEAGVX3T0TCsbShmv4t+7bFMh4GXjmj/KYbF1VcP18vy6MMwwAIAWAQI0hOW36RcuuaaXetuffBGysX13dntNY9JyL/9Tw+ccocH5pfW8wwF1T3i9PFAAATgfDYZOjRJ5+LhYObfvrdhXMa//v1D5789Rsy7zGsBNZ1AAEgEEBkURaU+ewNlfbSIn/bCH+qt8yFKwp9U+qKS6qnUsJkNLxtf+tkJIktk1gmtgximcSyKDaxZRJiqbI4Y+Ot31zeUMJBhYDxlPZUx5j6+gGUyABFBYRABBmeEz3c4gdu7LSLqe4R/7uHMm39wFSn15VsvO2qqy5bkF2BT+GiCXSaF19r6h8aScQjT/5//woA+P1rW472RQ8cbbYyCjEsAAClCACAGZbyHAKIQZAxMctBlqeWxdhKqr62eraF8QcHOyLRBKXkoxMiyyLYotgk2KQE4/LCxu/c/u2pZQ5AKaA8YJt10jEaPjE4OTERo829XDSJKAWqQn1Ok0OxvhGqaBw2sJ5876WfT6mpOKfQn8lFmMXO5o5bvgIhVFXt9M97b71m2qm+g8daIM9DDAAlgAJAAUMJMAwEIQQIIGSZwKJcfo5zSX0+x8G0aoTDUcvQAQCAAkowJYRiQjAm2MQYS4XeRbkuE8A0ACq2bAz0saynqqC4Mn84rXUvnhqaiCSHAkzrADMywWLiwtSEiCKYTgX/c9Ovf/PLfz+7zJ/NRRbo9BmNJIlnQhbOqLl8yYyte1sYmSWqCgihAMKPDtsBAABQACGgljm1soRjLYZBff3DWM9gEwMIAAWUAkAJpYQQQAjADLL7PKzLtWci1nX4FFfoNUwmKduFaDJlF902mdQWNpbllSyb3tlZMx6Om50j8ZP9cjhixMPpyPjtN197xvOFcJEFAgCMjY2Jopibm3sm5L6b17y784jg8GBCsaEBQgE9LdFHQiEGAkAryvJtbtnAJBpLaYqGGAABBABQCiilgBIAIAQMUXW+suxIa//uN7azA+NMykBeL7AwI7skyAY8TkviA7WFHfXFFUU5q6eWVS+dsXtocvDgqcmTfR4tte1g55pVy86U7bxcZIGSyeSxY8cKiosdDocgfHR2NaWy6Okf3Tccyjz78jYatyjAlAAA0em2gxCAgLqd9gVz6vvGJ1XNTCYzgEJA//L30RUpCgGggGEK8iDHBCfDYMcBjAnibTStIElmUjpmBDaS4AXJ6hxLHuiaLMubWDHNNqP87qrc8bIV+5c2vuu2bd979KtXtHnczprqsrMK/qlc0FR34UiS5M3Ls3m9z/z3b0+2d58JX7Nk1jfWLa2sKmRkETIsRAgCgBBACAIAZFm6bNncwbGAYeKh4bG0koIQUAIohRTAj7QCACEAEUKhWF5Rsb9vjBBCdN1MJ6x0gqoZomUsLWXqGUtNYksVAlHpWH/gtX0vdY0iYk0TmCsr8hdPLdcF4Xs/evL3r35wpmyfzUUWiOM4r8vV391909fvNvj8Xz/3Yjzx1y3llQtr2VwXYliKgCjyAs9xHDOrcWp9XVVJsW8yOJZORv0TAdO0yEeTKwQAQoYDkggQBBBABgAKul94x9J0S9MoIZalW9gwlKShJi01ZWkpS01aWoaYGWAocCSIj/e/PpFIApCH8Iw18zCSJlNKirJH2kfG/KEzZfs0LnIXAwA0NDS0tbUF+7sVXZg1Z0ksjUcDI5VFObIs/eoXv3BOnYdz7dWFJeXFBQLPzWyshwhkMiq2NAvkDwwOWYQKoqSpaQAYAACEkDptoMwnuO3aoTZkmEjk0/ub04wGESSWRTG2DE2w2ZFlAcRZHMNwHGI4yHIsEpElWruObi73ljvFRqdkF9nCNXNT2wxOEt870Lbngw+f3/T9koK/Dpcf5+ILBAC4/fbbg8Fgc/PJmdMW93S1pxjvzt1/znM7yzxVWiI5/457GkXOLkuGrumGxnKcJImhUHJkdHwsELfbbdgMIxYQgiFgCEKmyPPz61eumHWYZ6OtA2gyytuhrOE0xgACyCJqWpapAsaCUGeBYBEdIoYyrCFZHMRMQifbjr6aSJ9YO+cKpz1dXhCzsGESyPBV06b97g9v/eT7n/pgAlz0LnYGn8+3evVlaiapquqUUm/19NrKWdOuuWlFdaFUDxNumZFlmeW4wMSYpmmqqiaSCcs0nHZJEoQpdaXVVSWKrpjY1LRMEc9VJBRlIrL0q5eVfGW5aXOIst3m8PK8SKlJgMVwAsGGkglVlNqe+dkjN1+3srHG65bNm69cbGGNGjp3qif21t6dr+3940AgLouWw9Ha3C6JEoLMSy+8ceRYW3bpz+Iir6SzME0zGo06nc7OsTGD0lQoLnJOwySaQb2+YohQT0+nZmKWZSOhQDASBQwHAWRZRpZlQOnwWIAAACEMZehgUd6SGxaUuW393SPDJ/uDbYOgbzgRHdOVKMRWrpN7+NsbvvH1W0/7jScSLqcTQnjnt//PiZZBQbY73O4AgXRqRWpere1378JQeNHi2bLIxUIBOwO+8+Ct06d+dH8uiy+qBZ2G47j8/HxFUdqPHi3z+fSUkUkR04IMi3Q1JfJcZUWloWuqpmHI2R1uSZQkUZAEwS5LpcVFpUV5ToeUTGuRQBq2Tx579dCB3Z3l1aUPfePqxjvW5i6e5ayf4SwqnTW34eTh98+oAwBwu1ynl6wP3HGdXYKjYxNzG2sLKGaOtjpefI+LJxgGnjrZOtA7eNnlK8ejmatv3/hfv/vkk7MvtgWdYd++fel0ur8/MKV+cSQTrqspHRsPF5fXsgzT1dc/EY4aum6aJsYWBEDgeUGUhsfGYon0+GR4cCxsk/IYwQHtEiPbhHnljbNLp9bmaf5w05Fu9Z19Wnz8lV/8S0NdRbZXAAAAj//3n1OqOaNhan//aNM7HyYNk+imL9dpGEY8Gps1Y0pVVeWuvYfDEz0ndrxq/9hrbl9sCzrDsmXL5s6dm0pN7N39umom7E6xrMxnUp0FVGYphJBhGYZBLMNCiBLpzKnOzuHxCYMy46N+aukYqwSrQDOoomonRg++1xfS8PwK3/rr5jfcvoqZOuX5Nz9o7x7M9grAqN8fjfTmeSUlo1RXls2dVe9zOwihELHXXLFCN63Dh48DYs1buDS/vPGXv/9zdvpL1oLOEAwG7R6vhYmA0MHhKNSZD4cT4XA4TwvaJCkeTyqqmkxnYskUADAUCI8NDSOW5+05nOBgORkJIsvbTK+36rLa666omc7SXh3/66u7xR0HYl19P/nO3etvuCzr6bNhGLv2nWjrHE1qeDIQsHtyt2w/SCi589arW9u6TpxorSjNX7l8YQp6//TH3//+Px8uyPNMqa08k/wStaAz+Hw+ASFV1RQTJwj8TW+8UxWGLKkrQYdjajAa9wdD4VgcY2yZOsAasVSKDWIo2ExhnMaGYulpNpboPzIYimoYwHKRvXl2jVJWLkrOJ3791vT5V/YPjpztkef55Ytmrb9xZW9Px9GTp1RVWbpoJssyew+eXLViQW5+Qd/QxPjIkMeGFqy87M6Hf/bjxzadnfxSCwQA6JsInxry2yVedMgcyZh6ChtW3J0/EoqFE0nDMAnBp899NFUxNcUyFIozlpa0tISlJbCRwlqKmnrLUBgCKFN6VUOZvTCfOOyGrkkO96tv787yKMtiUZHvhutWxBKRY80nVy2bn+d1DI9NDIz4ly2ZXVxadOJUjxIZu+zytbll1a6cPEX561sdl1qgXUdbnm56k2PhZCSpRGO+ygK2Mtc+y+2a6wBWmhBCKAEUE2wRQjw5uZRAy9C1VBLrKWyksB61tBjRE8JwoCWZ6UmplAI/JoX1RZzsABjxPNcXZX705B/e33Uwy/Wt16+dOa0mEAofOHxi8fyZTonZvvvk7PrqytKCZDrT19OvBsfWrliaU1Qiy399q+OSCvTb51+89+EfDCe5F3cP/vszr/zbT58e2LqVjnYzw33GW++xWgoYGjYNgjHGlmUaEIJpc2aWVlbZZRkYKYIty9SwlrHUlKkluZMDW2KKTsFUDkpTC9lch8Plbpy/0u6WhoLJ/3zynJ5ymo333UaB1dzaWVZWWlaca2mp4ye7pk2pKSkrbW3vTo8PzZs/N5yxjpzqPJPkkgp01drVamicc7k7O3oONA9koun2XXtbn3tu+E9buBRwCI68XB+HgKGkTF0j2LJMgwLG7vbmFdfYvfkJfyfKjMcnewGxKI5aJ9pbj/btnEz5KaojNFVeAHh20cJ5DEI5+YWuitnH27JfiF67bP7aZXOxpYyODpWXlzllrr2zq6q8pHrqFMDxHZ3d4bHemUvqk6nEmSSXVKCjo+H1j/+C421GXEOQZyBnaKYSjo329h3Zvav5yMGOlpPEwl6319DS6ag/E5/Q0mElGU5E++Mjxx79/gMdR7b99Pv3LJ+ba6gxkFbB7vbXD/Vuz1Cckyu6nFFKm5vb82x8PBICRLO0zJnD3zNsvPvmwf6hPK/DJgt2u8ywaMw/Pm1aXWVtxWDvsWKZ3r964dqlf73xeukEahv2v7D7WG5hwVC3n2Bw+jQDAYZhBYRYXTfCwXBfZ+e+Dz9sb+82TRaJ9tzCEiUR9XhyEUOf+eXT37r/bgDAvXfd8Y9335JJhoiedoXC1o7jO/64+53dbYrASQzbfKod63ooEOgfnvjKXY/8/Jn/ObcUYE7jlNu+srqjvXNOY21+jj2ZUeIJparY99VrV774P//3hmtWSBxztv0lXQc9sf3woeFQ5/4ePqlZegbraVNNmJpi6SqxDMsyLUAlp8MmOA1NU/QExaS4yGd3uRQ1XVPqe/U3T57J6lf/8+pgINMzEp9bP+3V9w+xuTai6TSRoqZWUuT15efaPI5t725NR4OHtj5fUVZ8VinA6NjEwstuev753+zbf3Tf3n3Llq+4/+s3lBa4zrY5w6UTaELFTzT7O7btD/b4iaaaehqrSUNJWVrKMlRgGMi0xKpywebBGSUVCeUX5E2tr2ZZ1j/mT6rp4OjQpn/7wfXXrDmdGyHknXfesdunA5l9+Z0dLe0DhmFBAFgWKum4XZauvuGKro7O5sNH1q1d8vi/PnhuWcDPn/rV+Hjw5hu/xrCZJQtnZsWezRdyHvSJhLE+3NXmHw8xlBBiQWwSyyRYJwRDAiDGoLrMs3yFa2SycHquQ2TzcnNC4WAkEmEEgahKZVXZGXUAAAghu9PdN9o6dcaCa1YvGBqZiMYT2KKVZWUMym9p7Tp6sHnd9WuT0fTm7cfW39w7u/GczfqD37pn69aty5fWnB34iVyiMWjrqfaXDzePjAQMgIFpUcu0TB1bKrFMbGFMLcTpV69YUVJdjgRYVpBbXVmOMQaQYURBU9XAyFB39/Abm3eeneeKZUuHBzo62lo6OtrLi72FeS7D1Eb9wVuuXysKfH/PwOjQ2MJ5Mytqqp569pVf/vr5s9OKonjDDTecHfJpXAqBNF3/n188le/J4dOMnKGEmNjSsaliUyXEopQAQgCh6fiYZ7RXZnSNIlEQBVlOpRT/iD8UCBELYcxs+s3rO3btj8U/moNZllk0f+7xg7tmTikZmwzWVBZ6nHI0Hjt4vH3NigUIwQ93H6zx5dTU157sGz/a0qOoF/ut54tFIpGonloP0zB1+uEzNqmpEVPDlgVMzJjm/V+/8e03n3NbMUQxpICjlqLpvd0D3Z094yP+RDRJKYSA9vUN3vaN7/7sif97Jufrr7nyN888ft3lS69cNisUjU2fUiqwYOf+5pkNddXlBdFY9MDxU4VuR920KSqSZOnivfV8cUkkkkc7+0xAJB5RQ6eWgS0Nmwa1MGMRlqRu/+oVM2ZMv/ve+0vdhfnewsHBoVQqTaiVSqc13YSIgYhhGA5CwPLys79+rqPjrw+UTnPPV9eouiYIXK7XbhrK/iOtc2bWe1zyniPH3V6xsrw0kjLf3nmeD+98IpdCoLramnvv+0ZOiZNW5UCAAKWUEkoppQBAmJeb9/4HHwIAigp8DGTXrlo6o6Ge4yDHwry8HIbhEMMixECIIESAAXPmz8vPz74Y7XHZ775pjYmt/Dw3A63B0QmH01Feks8y4ODBk0X53tq6qa+8l707uxAuhUD9/sAvN2+bW+K1e2y6WwQIIsQihkUMizkmEDSPdBknTvXt2buHg8a4PwghzPflCzwniJIoywzHI4aFiIEQIsR2DIynMp8wmsysKysvKfC4nTaJR1RPplLFxYWlvtzmA6dsvFBaUlJfVahc2GefzuZSCFRdlP/NG6850D92+fQSK0cmlECIEEIIQcQgT4GX1wP/+exzTU1v+/JL8nyFhJBYImaz2ZwOGbEcRCxkGAgRBBACCCl44pnsr7m88c72hhU3um3M2stmu522sfEJuyy5nM7CvLwit3ust7vj4Os5Qko+35scH+dSrIP84divXnhn5Q1r5yydXT29fGhsEilJABGBCFCTSnyUYCWh5nK28ORAbnENQCAnxxMMhXy57oGRoKpqACHAIEgYSCjDyLleDz33C4VL5s/q2PdWWXFh12RoekNtPBHv7em8+bp1iUicEvL9f14/MLxwxvTpZxXqQrkULago13N9ud0dDSTiqamL6mmRxykLCMH8gsIlq1ZMnz0TcoKmqF39/nlLLgMQZjIZXdVlUWJZrrqigAAGIRYCeHrJDwFUNeNsdQAAhfl5ZcWFR46eeOG3f6irrczJz/eP9Y34RxRL/edH1tvt0udTB1yaFgQA+N63HxgcGnvu/ZbM8nqxspALR69ZOs/t9cZjsWg8KopyJJzigPjBzj2FhQVup1MQBI7lWIbxuOz5ua5QKHT6mhAmhomVtrbmdCZjt9nOdpHOZP7lRz9x2G02p9shwlU3fOW6tQs33HHV2Tafg0skkCAIba1dic6e4VTEyPEkIpmClYWKokCEJEke6h9MJ1MMwx471nzDumtj0ZgsSpQShkEcg4oLPMFQhGDLMpW6msKHv3X3DdeszXYAgN1m27717eHhYUW3ylo7r718lcf1+T+4cIZLJBAA4Lrr1o6l1InWQW5gwuXzTkwEvV5nOBhqP9UemJxACJmGOTIysWvX/jlzGvJ9uYlUmmEYUeB5joFYc9iYh7/3wH133pSd71lACCsqKgAA06acf5N1gVyKMeg0oiiUV+QXl+Q5EnGspD0OKZ1KDw4MJRIplhMZxHIcl0ymW1o6BI7NqAYviLwgxCKhwe6Wf7jrK8c/fPmz1fmCuHQCZTKZnW/+CabSZbnOknxPJJ7wuuwlpUWEAobjIcMglgEAJFOZw8faGcFmYC0aCyxb2Lj51V99/8E7hc98aemL49J1MZvNtmrVmmPtY9Buqywtbtq6x7d6aVFhXnFJod8fgAwHsIkYhDE5duyIt9C+eO70u65fUlKQvWi+xFy6FgQAuPHG62dOm2rjBcvAi2ZPZxhEAaitLaeQBYgDkIEQQpakVGWkp++Oa1b+r6sDLrFATU2bm1uOu2xsUX5ROpmoLCuzybLDYauuKkEIAsQAgBgACXTu2rF9y9Zt2en/N7h0XQwAcM21V6WBK5ZOh6LBHG9OMBiWRDmTThcV5/sngqplUkAJAxBIfu/hf1i14m+4rPvFcUlbkMDzjdOqIOTsshxPxCtKSxiW4XleFHifLwcATJF1201rDm1+7tHvbZTl7Jso/yv8/8D7NyePZI15AAAAAElFTkSuQmCC",
         "type": "image",
         "xaxis": "x",
         "yaxis": "y"
        }
       ],
       "layout": {
        "height": 350,
        "margin": {
         "l": 0,
         "t": 60
        },
        "shapes": [
         {
          "line": {
           "color": "black",
           "width": 2
          },
          "type": "rect",
          "x0": 0,
          "x1": 96,
          "xref": "x",
          "y0": 0,
          "y1": 96,
          "yref": "y"
         }
        ],
        "template": {
         "data": {
          "bar": [
           {
            "error_x": {
             "color": "#2a3f5f"
            },
            "error_y": {
             "color": "#2a3f5f"
            },
            "marker": {
             "line": {
              "color": "#E5ECF6",
              "width": 0.5
             },
             "pattern": {
              "fillmode": "overlay",
              "size": 10,
              "solidity": 0.2
             }
            },
            "type": "bar"
           }
          ],
          "barpolar": [
           {
            "marker": {
             "line": {
              "color": "#E5ECF6",
              "width": 0.5
             },
             "pattern": {
              "fillmode": "overlay",
              "size": 10,
              "solidity": 0.2
             }
            },
            "type": "barpolar"
           }
          ],
          "carpet": [
           {
            "aaxis": {
             "endlinecolor": "#2a3f5f",
             "gridcolor": "white",
             "linecolor": "white",
             "minorgridcolor": "white",
             "startlinecolor": "#2a3f5f"
            },
            "baxis": {
             "endlinecolor": "#2a3f5f",
             "gridcolor": "white",
             "linecolor": "white",
             "minorgridcolor": "white",
             "startlinecolor": "#2a3f5f"
            },
            "type": "carpet"
           }
          ],
          "choropleth": [
           {
            "colorbar": {
             "outlinewidth": 0,
             "ticks": ""
            },
            "type": "choropleth"
           }
          ],
          "contour": [
           {
            "colorbar": {
             "outlinewidth": 0,
             "ticks": ""
            },
            "colorscale": [
             [
              0,
              "#0d0887"
             ],
             [
              0.1111111111111111,
              "#46039f"
             ],
             [
              0.2222222222222222,
              "#7201a8"
             ],
             [
              0.3333333333333333,
              "#9c179e"
             ],
             [
              0.4444444444444444,
              "#bd3786"
             ],
             [
              0.5555555555555556,
              "#d8576b"
             ],
             [
              0.6666666666666666,
              "#ed7953"
             ],
             [
              0.7777777777777778,
              "#fb9f3a"
             ],
             [
              0.8888888888888888,
              "#fdca26"
             ],
             [
              1,
              "#f0f921"
             ]
            ],
            "type": "contour"
           }
          ],
          "contourcarpet": [
           {
            "colorbar": {
             "outlinewidth": 0,
             "ticks": ""
            },
            "type": "contourcarpet"
           }
          ],
          "heatmap": [
           {
            "colorbar": {
             "outlinewidth": 0,
             "ticks": ""
            },
            "colorscale": [
             [
              0,
              "#0d0887"
             ],
             [
              0.1111111111111111,
              "#46039f"
             ],
             [
              0.2222222222222222,
              "#7201a8"
             ],
             [
              0.3333333333333333,
              "#9c179e"
             ],
             [
              0.4444444444444444,
              "#bd3786"
             ],
             [
              0.5555555555555556,
              "#d8576b"
             ],
             [
              0.6666666666666666,
              "#ed7953"
             ],
             [
              0.7777777777777778,
              "#fb9f3a"
             ],
             [
              0.8888888888888888,
              "#fdca26"
             ],
             [
              1,
              "#f0f921"
             ]
            ],
            "type": "heatmap"
           }
          ],
          "heatmapgl": [
           {
            "colorbar": {
             "outlinewidth": 0,
             "ticks": ""
            },
            "colorscale": [
             [
              0,
              "#0d0887"
             ],
             [
              0.1111111111111111,
              "#46039f"
             ],
             [
              0.2222222222222222,
              "#7201a8"
             ],
             [
              0.3333333333333333,
              "#9c179e"
             ],
             [
              0.4444444444444444,
              "#bd3786"
             ],
             [
              0.5555555555555556,
              "#d8576b"
             ],
             [
              0.6666666666666666,
              "#ed7953"
             ],
             [
              0.7777777777777778,
              "#fb9f3a"
             ],
             [
              0.8888888888888888,
              "#fdca26"
             ],
             [
              1,
              "#f0f921"
             ]
            ],
            "type": "heatmapgl"
           }
          ],
          "histogram": [
           {
            "marker": {
             "pattern": {
              "fillmode": "overlay",
              "size": 10,
              "solidity": 0.2
             }
            },
            "type": "histogram"
           }
          ],
          "histogram2d": [
           {
            "colorbar": {
             "outlinewidth": 0,
             "ticks": ""
            },
            "colorscale": [
             [
              0,
              "#0d0887"
             ],
             [
              0.1111111111111111,
              "#46039f"
             ],
             [
              0.2222222222222222,
              "#7201a8"
             ],
             [
              0.3333333333333333,
              "#9c179e"
             ],
             [
              0.4444444444444444,
              "#bd3786"
             ],
             [
              0.5555555555555556,
              "#d8576b"
             ],
             [
              0.6666666666666666,
              "#ed7953"
             ],
             [
              0.7777777777777778,
              "#fb9f3a"
             ],
             [
              0.8888888888888888,
              "#fdca26"
             ],
             [
              1,
              "#f0f921"
             ]
            ],
            "type": "histogram2d"
           }
          ],
          "histogram2dcontour": [
           {
            "colorbar": {
             "outlinewidth": 0,
             "ticks": ""
            },
            "colorscale": [
             [
              0,
              "#0d0887"
             ],
             [
              0.1111111111111111,
              "#46039f"
             ],
             [
              0.2222222222222222,
              "#7201a8"
             ],
             [
              0.3333333333333333,
              "#9c179e"
             ],
             [
              0.4444444444444444,
              "#bd3786"
             ],
             [
              0.5555555555555556,
              "#d8576b"
             ],
             [
              0.6666666666666666,
              "#ed7953"
             ],
             [
              0.7777777777777778,
              "#fb9f3a"
             ],
             [
              0.8888888888888888,
              "#fdca26"
             ],
             [
              1,
              "#f0f921"
             ]
            ],
            "type": "histogram2dcontour"
           }
          ],
          "mesh3d": [
           {
            "colorbar": {
             "outlinewidth": 0,
             "ticks": ""
            },
            "type": "mesh3d"
           }
          ],
          "parcoords": [
           {
            "line": {
             "colorbar": {
              "outlinewidth": 0,
              "ticks": ""
             }
            },
            "type": "parcoords"
           }
          ],
          "pie": [
           {
            "automargin": true,
            "type": "pie"
           }
          ],
          "scatter": [
           {
            "fillpattern": {
             "fillmode": "overlay",
             "size": 10,
             "solidity": 0.2
            },
            "type": "scatter"
           }
          ],
          "scatter3d": [
           {
            "line": {
             "colorbar": {
              "outlinewidth": 0,
              "ticks": ""
             }
            },
            "marker": {
             "colorbar": {
              "outlinewidth": 0,
              "ticks": ""
             }
            },
            "type": "scatter3d"
           }
          ],
          "scattercarpet": [
           {
            "marker": {
             "colorbar": {
              "outlinewidth": 0,
              "ticks": ""
             }
            },
            "type": "scattercarpet"
           }
          ],
          "scattergeo": [
           {
            "marker": {
             "colorbar": {
              "outlinewidth": 0,
              "ticks": ""
             }
            },
            "type": "scattergeo"
           }
          ],
          "scattergl": [
           {
            "marker": {
             "colorbar": {
              "outlinewidth": 0,
              "ticks": ""
             }
            },
            "type": "scattergl"
           }
          ],
          "scattermapbox": [
           {
            "marker": {
             "colorbar": {
              "outlinewidth": 0,
              "ticks": ""
             }
            },
            "type": "scattermapbox"
           }
          ],
          "scatterpolar": [
           {
            "marker": {
             "colorbar": {
              "outlinewidth": 0,
              "ticks": ""
             }
            },
            "type": "scatterpolar"
           }
          ],
          "scatterpolargl": [
           {
            "marker": {
             "colorbar": {
              "outlinewidth": 0,
              "ticks": ""
             }
            },
            "type": "scatterpolargl"
           }
          ],
          "scatterternary": [
           {
            "marker": {
             "colorbar": {
              "outlinewidth": 0,
              "ticks": ""
             }
            },
            "type": "scatterternary"
           }
          ],
          "surface": [
           {
            "colorbar": {
             "outlinewidth": 0,
             "ticks": ""
            },
            "colorscale": [
             [
              0,
              "#0d0887"
             ],
             [
              0.1111111111111111,
              "#46039f"
             ],
             [
              0.2222222222222222,
              "#7201a8"
             ],
             [
              0.3333333333333333,
              "#9c179e"
             ],
             [
              0.4444444444444444,
              "#bd3786"
             ],
             [
              0.5555555555555556,
              "#d8576b"
             ],
             [
              0.6666666666666666,
              "#ed7953"
             ],
             [
              0.7777777777777778,
              "#fb9f3a"
             ],
             [
              0.8888888888888888,
              "#fdca26"
             ],
             [
              1,
              "#f0f921"
             ]
            ],
            "type": "surface"
           }
          ],
          "table": [
           {
            "cells": {
             "fill": {
              "color": "#EBF0F8"
             },
             "line": {
              "color": "white"
             }
            },
            "header": {
             "fill": {
              "color": "#C8D4E3"
             },
             "line": {
              "color": "white"
             }
            },
            "type": "table"
           }
          ]
         },
         "layout": {
          "annotationdefaults": {
           "arrowcolor": "#2a3f5f",
           "arrowhead": 0,
           "arrowwidth": 1
          },
          "autotypenumbers": "strict",
          "coloraxis": {
           "colorbar": {
            "outlinewidth": 0,
            "ticks": ""
           }
          },
          "colorscale": {
           "diverging": [
            [
             0,
             "#8e0152"
            ],
            [
             0.1,
             "#c51b7d"
            ],
            [
             0.2,
             "#de77ae"
            ],
            [
             0.3,
             "#f1b6da"
            ],
            [
             0.4,
             "#fde0ef"
            ],
            [
             0.5,
             "#f7f7f7"
            ],
            [
             0.6,
             "#e6f5d0"
            ],
            [
             0.7,
             "#b8e186"
            ],
            [
             0.8,
             "#7fbc41"
            ],
            [
             0.9,
             "#4d9221"
            ],
            [
             1,
             "#276419"
            ]
           ],
           "sequential": [
            [
             0,
             "#0d0887"
            ],
            [
             0.1111111111111111,
             "#46039f"
            ],
            [
             0.2222222222222222,
             "#7201a8"
            ],
            [
             0.3333333333333333,
             "#9c179e"
            ],
            [
             0.4444444444444444,
             "#bd3786"
            ],
            [
             0.5555555555555556,
             "#d8576b"
            ],
            [
             0.6666666666666666,
             "#ed7953"
            ],
            [
             0.7777777777777778,
             "#fb9f3a"
            ],
            [
             0.8888888888888888,
             "#fdca26"
            ],
            [
             1,
             "#f0f921"
            ]
           ],
           "sequentialminus": [
            [
             0,
             "#0d0887"
            ],
            [
             0.1111111111111111,
             "#46039f"
            ],
            [
             0.2222222222222222,
             "#7201a8"
            ],
            [
             0.3333333333333333,
             "#9c179e"
            ],
            [
             0.4444444444444444,
             "#bd3786"
            ],
            [
             0.5555555555555556,
             "#d8576b"
            ],
            [
             0.6666666666666666,
             "#ed7953"
            ],
            [
             0.7777777777777778,
             "#fb9f3a"
            ],
            [
             0.8888888888888888,
             "#fdca26"
            ],
            [
             1,
             "#f0f921"
            ]
           ]
          },
          "colorway": [
           "#636efa",
           "#EF553B",
           "#00cc96",
           "#ab63fa",
           "#FFA15A",
           "#19d3f3",
           "#FF6692",
           "#B6E880",
           "#FF97FF",
           "#FECB52"
          ],
          "font": {
           "color": "#2a3f5f"
          },
          "geo": {
           "bgcolor": "white",
           "lakecolor": "white",
           "landcolor": "#E5ECF6",
           "showlakes": true,
           "showland": true,
           "subunitcolor": "white"
          },
          "hoverlabel": {
           "align": "left"
          },
          "hovermode": "closest",
          "mapbox": {
           "style": "light"
          },
          "paper_bgcolor": "white",
          "plot_bgcolor": "#E5ECF6",
          "polar": {
           "angularaxis": {
            "gridcolor": "white",
            "linecolor": "white",
            "ticks": ""
           },
           "bgcolor": "#E5ECF6",
           "radialaxis": {
            "gridcolor": "white",
            "linecolor": "white",
            "ticks": ""
           }
          },
          "scene": {
           "xaxis": {
            "backgroundcolor": "#E5ECF6",
            "gridcolor": "white",
            "gridwidth": 2,
            "linecolor": "white",
            "showbackground": true,
            "ticks": "",
            "zerolinecolor": "white"
           },
           "yaxis": {
            "backgroundcolor": "#E5ECF6",
            "gridcolor": "white",
            "gridwidth": 2,
            "linecolor": "white",
            "showbackground": true,
            "ticks": "",
            "zerolinecolor": "white"
           },
           "zaxis": {
            "backgroundcolor": "#E5ECF6",
            "gridcolor": "white",
            "gridwidth": 2,
            "linecolor": "white",
            "showbackground": true,
            "ticks": "",
            "zerolinecolor": "white"
           }
          },
          "shapedefaults": {
           "line": {
            "color": "#2a3f5f"
           }
          },
          "ternary": {
           "aaxis": {
            "gridcolor": "white",
            "linecolor": "white",
            "ticks": ""
           },
           "baxis": {
            "gridcolor": "white",
            "linecolor": "white",
            "ticks": ""
           },
           "bgcolor": "#E5ECF6",
           "caxis": {
            "gridcolor": "white",
            "linecolor": "white",
            "ticks": ""
           }
          },
          "title": {
           "x": 0.05
          },
          "xaxis": {
           "automargin": true,
           "gridcolor": "white",
           "linecolor": "white",
           "ticks": "",
           "title": {
            "standoff": 15
           },
           "zerolinecolor": "white",
           "zerolinewidth": 2
          },
          "yaxis": {
           "automargin": true,
           "gridcolor": "white",
           "linecolor": "white",
           "ticks": "",
           "title": {
            "standoff": 15
           },
           "zerolinecolor": "white",
           "zerolinewidth": 2
          }
         }
        },
        "title": {
         "text": "Label: Abomasnow"
        },
        "width": 500,
        "xaxis": {
         "anchor": "y",
         "domain": [
          0,
          1
         ],
         "showgrid": false,
         "showticklabels": false,
         "visible": false,
         "zeroline": false
        },
        "yaxis": {
         "anchor": "x",
         "domain": [
          0,
          1
         ],
         "showgrid": false,
         "showticklabels": false,
         "visible": false,
         "zeroline": false
        }
       }
      }
     },
     "metadata": {},
     "output_type": "display_data"
    },
    {
     "name": "stdout",
     "output_type": "stream",
     "text": [
      "tf.Tensor([1. 0. 0. 0. 0. 0. 0. 0. 0. 1. 0. 0. 0. 0. 0. 0. 0. 0. 0.], shape=(19,), dtype=float32)\n",
      "(96, 96, 3)\n"
     ]
    },
    {
     "data": {
      "application/vnd.plotly.v1+json": {
       "config": {
        "plotlyServerURL": "https://plot.ly"
       },
       "data": [
        {
         "hovertemplate": "x: %{x}<br>y: %{y}<br>color: [%{z[0]}, %{z[1]}, %{z[2]}]<extra></extra>",
         "name": "0",
         "source": "data:image/png;base64,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",
         "type": "image",
         "xaxis": "x",
         "yaxis": "y"
        }
       ],
       "layout": {
        "height": 350,
        "margin": {
         "l": 0,
         "t": 60
        },
        "shapes": [
         {
          "line": {
           "color": "black",
           "width": 2
          },
          "type": "rect",
          "x0": 0,
          "x1": 96,
          "xref": "x",
          "y0": 0,
          "y1": 96,
          "yref": "y"
         }
        ],
        "template": {
         "data": {
          "bar": [
           {
            "error_x": {
             "color": "#2a3f5f"
            },
            "error_y": {
             "color": "#2a3f5f"
            },
            "marker": {
             "line": {
              "color": "#E5ECF6",
              "width": 0.5
             },
             "pattern": {
              "fillmode": "overlay",
              "size": 10,
              "solidity": 0.2
             }
            },
            "type": "bar"
           }
          ],
          "barpolar": [
           {
            "marker": {
             "line": {
              "color": "#E5ECF6",
              "width": 0.5
             },
             "pattern": {
              "fillmode": "overlay",
              "size": 10,
              "solidity": 0.2
             }
            },
            "type": "barpolar"
           }
          ],
          "carpet": [
           {
            "aaxis": {
             "endlinecolor": "#2a3f5f",
             "gridcolor": "white",
             "linecolor": "white",
             "minorgridcolor": "white",
             "startlinecolor": "#2a3f5f"
            },
            "baxis": {
             "endlinecolor": "#2a3f5f",
             "gridcolor": "white",
             "linecolor": "white",
             "minorgridcolor": "white",
             "startlinecolor": "#2a3f5f"
            },
            "type": "carpet"
           }
          ],
          "choropleth": [
           {
            "colorbar": {
             "outlinewidth": 0,
             "ticks": ""
            },
            "type": "choropleth"
           }
          ],
          "contour": [
           {
            "colorbar": {
             "outlinewidth": 0,
             "ticks": ""
            },
            "colorscale": [
             [
              0,
              "#0d0887"
             ],
             [
              0.1111111111111111,
              "#46039f"
             ],
             [
              0.2222222222222222,
              "#7201a8"
             ],
             [
              0.3333333333333333,
              "#9c179e"
             ],
             [
              0.4444444444444444,
              "#bd3786"
             ],
             [
              0.5555555555555556,
              "#d8576b"
             ],
             [
              0.6666666666666666,
              "#ed7953"
             ],
             [
              0.7777777777777778,
              "#fb9f3a"
             ],
             [
              0.8888888888888888,
              "#fdca26"
             ],
             [
              1,
              "#f0f921"
             ]
            ],
            "type": "contour"
           }
          ],
          "contourcarpet": [
           {
            "colorbar": {
             "outlinewidth": 0,
             "ticks": ""
            },
            "type": "contourcarpet"
           }
          ],
          "heatmap": [
           {
            "colorbar": {
             "outlinewidth": 0,
             "ticks": ""
            },
            "colorscale": [
             [
              0,
              "#0d0887"
             ],
             [
              0.1111111111111111,
              "#46039f"
             ],
             [
              0.2222222222222222,
              "#7201a8"
             ],
             [
              0.3333333333333333,
              "#9c179e"
             ],
             [
              0.4444444444444444,
              "#bd3786"
             ],
             [
              0.5555555555555556,
              "#d8576b"
             ],
             [
              0.6666666666666666,
              "#ed7953"
             ],
             [
              0.7777777777777778,
              "#fb9f3a"
             ],
             [
              0.8888888888888888,
              "#fdca26"
             ],
             [
              1,
              "#f0f921"
             ]
            ],
            "type": "heatmap"
           }
          ],
          "heatmapgl": [
           {
            "colorbar": {
             "outlinewidth": 0,
             "ticks": ""
            },
            "colorscale": [
             [
              0,
              "#0d0887"
             ],
             [
              0.1111111111111111,
              "#46039f"
             ],
             [
              0.2222222222222222,
              "#7201a8"
             ],
             [
              0.3333333333333333,
              "#9c179e"
             ],
             [
              0.4444444444444444,
              "#bd3786"
             ],
             [
              0.5555555555555556,
              "#d8576b"
             ],
             [
              0.6666666666666666,
              "#ed7953"
             ],
             [
              0.7777777777777778,
              "#fb9f3a"
             ],
             [
              0.8888888888888888,
              "#fdca26"
             ],
             [
              1,
              "#f0f921"
             ]
            ],
            "type": "heatmapgl"
           }
          ],
          "histogram": [
           {
            "marker": {
             "pattern": {
              "fillmode": "overlay",
              "size": 10,
              "solidity": 0.2
             }
            },
            "type": "histogram"
           }
          ],
          "histogram2d": [
           {
            "colorbar": {
             "outlinewidth": 0,
             "ticks": ""
            },
            "colorscale": [
             [
              0,
              "#0d0887"
             ],
             [
              0.1111111111111111,
              "#46039f"
             ],
             [
              0.2222222222222222,
              "#7201a8"
             ],
             [
              0.3333333333333333,
              "#9c179e"
             ],
             [
              0.4444444444444444,
              "#bd3786"
             ],
             [
              0.5555555555555556,
              "#d8576b"
             ],
             [
              0.6666666666666666,
              "#ed7953"
             ],
             [
              0.7777777777777778,
              "#fb9f3a"
             ],
             [
              0.8888888888888888,
              "#fdca26"
             ],
             [
              1,
              "#f0f921"
             ]
            ],
            "type": "histogram2d"
           }
          ],
          "histogram2dcontour": [
           {
            "colorbar": {
             "outlinewidth": 0,
             "ticks": ""
            },
            "colorscale": [
             [
              0,
              "#0d0887"
             ],
             [
              0.1111111111111111,
              "#46039f"
             ],
             [
              0.2222222222222222,
              "#7201a8"
             ],
             [
              0.3333333333333333,
              "#9c179e"
             ],
             [
              0.4444444444444444,
              "#bd3786"
             ],
             [
              0.5555555555555556,
              "#d8576b"
             ],
             [
              0.6666666666666666,
              "#ed7953"
             ],
             [
              0.7777777777777778,
              "#fb9f3a"
             ],
             [
              0.8888888888888888,
              "#fdca26"
             ],
             [
              1,
              "#f0f921"
             ]
            ],
            "type": "histogram2dcontour"
           }
          ],
          "mesh3d": [
           {
            "colorbar": {
             "outlinewidth": 0,
             "ticks": ""
            },
            "type": "mesh3d"
           }
          ],
          "parcoords": [
           {
            "line": {
             "colorbar": {
              "outlinewidth": 0,
              "ticks": ""
             }
            },
            "type": "parcoords"
           }
          ],
          "pie": [
           {
            "automargin": true,
            "type": "pie"
           }
          ],
          "scatter": [
           {
            "fillpattern": {
             "fillmode": "overlay",
             "size": 10,
             "solidity": 0.2
            },
            "type": "scatter"
           }
          ],
          "scatter3d": [
           {
            "line": {
             "colorbar": {
              "outlinewidth": 0,
              "ticks": ""
             }
            },
            "marker": {
             "colorbar": {
              "outlinewidth": 0,
              "ticks": ""
             }
            },
            "type": "scatter3d"
           }
          ],
          "scattercarpet": [
           {
            "marker": {
             "colorbar": {
              "outlinewidth": 0,
              "ticks": ""
             }
            },
            "type": "scattercarpet"
           }
          ],
          "scattergeo": [
           {
            "marker": {
             "colorbar": {
              "outlinewidth": 0,
              "ticks": ""
             }
            },
            "type": "scattergeo"
           }
          ],
          "scattergl": [
           {
            "marker": {
             "colorbar": {
              "outlinewidth": 0,
              "ticks": ""
             }
            },
            "type": "scattergl"
           }
          ],
          "scattermapbox": [
           {
            "marker": {
             "colorbar": {
              "outlinewidth": 0,
              "ticks": ""
             }
            },
            "type": "scattermapbox"
           }
          ],
          "scatterpolar": [
           {
            "marker": {
             "colorbar": {
              "outlinewidth": 0,
              "ticks": ""
             }
            },
            "type": "scatterpolar"
           }
          ],
          "scatterpolargl": [
           {
            "marker": {
             "colorbar": {
              "outlinewidth": 0,
              "ticks": ""
             }
            },
            "type": "scatterpolargl"
           }
          ],
          "scatterternary": [
           {
            "marker": {
             "colorbar": {
              "outlinewidth": 0,
              "ticks": ""
             }
            },
            "type": "scatterternary"
           }
          ],
          "surface": [
           {
            "colorbar": {
             "outlinewidth": 0,
             "ticks": ""
            },
            "colorscale": [
             [
              0,
              "#0d0887"
             ],
             [
              0.1111111111111111,
              "#46039f"
             ],
             [
              0.2222222222222222,
              "#7201a8"
             ],
             [
              0.3333333333333333,
              "#9c179e"
             ],
             [
              0.4444444444444444,
              "#bd3786"
             ],
             [
              0.5555555555555556,
              "#d8576b"
             ],
             [
              0.6666666666666666,
              "#ed7953"
             ],
             [
              0.7777777777777778,
              "#fb9f3a"
             ],
             [
              0.8888888888888888,
              "#fdca26"
             ],
             [
              1,
              "#f0f921"
             ]
            ],
            "type": "surface"
           }
          ],
          "table": [
           {
            "cells": {
             "fill": {
              "color": "#EBF0F8"
             },
             "line": {
              "color": "white"
             }
            },
            "header": {
             "fill": {
              "color": "#C8D4E3"
             },
             "line": {
              "color": "white"
             }
            },
            "type": "table"
           }
          ]
         },
         "layout": {
          "annotationdefaults": {
           "arrowcolor": "#2a3f5f",
           "arrowhead": 0,
           "arrowwidth": 1
          },
          "autotypenumbers": "strict",
          "coloraxis": {
           "colorbar": {
            "outlinewidth": 0,
            "ticks": ""
           }
          },
          "colorscale": {
           "diverging": [
            [
             0,
             "#8e0152"
            ],
            [
             0.1,
             "#c51b7d"
            ],
            [
             0.2,
             "#de77ae"
            ],
            [
             0.3,
             "#f1b6da"
            ],
            [
             0.4,
             "#fde0ef"
            ],
            [
             0.5,
             "#f7f7f7"
            ],
            [
             0.6,
             "#e6f5d0"
            ],
            [
             0.7,
             "#b8e186"
            ],
            [
             0.8,
             "#7fbc41"
            ],
            [
             0.9,
             "#4d9221"
            ],
            [
             1,
             "#276419"
            ]
           ],
           "sequential": [
            [
             0,
             "#0d0887"
            ],
            [
             0.1111111111111111,
             "#46039f"
            ],
            [
             0.2222222222222222,
             "#7201a8"
            ],
            [
             0.3333333333333333,
             "#9c179e"
            ],
            [
             0.4444444444444444,
             "#bd3786"
            ],
            [
             0.5555555555555556,
             "#d8576b"
            ],
            [
             0.6666666666666666,
             "#ed7953"
            ],
            [
             0.7777777777777778,
             "#fb9f3a"
            ],
            [
             0.8888888888888888,
             "#fdca26"
            ],
            [
             1,
             "#f0f921"
            ]
           ],
           "sequentialminus": [
            [
             0,
             "#0d0887"
            ],
            [
             0.1111111111111111,
             "#46039f"
            ],
            [
             0.2222222222222222,
             "#7201a8"
            ],
            [
             0.3333333333333333,
             "#9c179e"
            ],
            [
             0.4444444444444444,
             "#bd3786"
            ],
            [
             0.5555555555555556,
             "#d8576b"
            ],
            [
             0.6666666666666666,
             "#ed7953"
            ],
            [
             0.7777777777777778,
             "#fb9f3a"
            ],
            [
             0.8888888888888888,
             "#fdca26"
            ],
            [
             1,
             "#f0f921"
            ]
           ]
          },
          "colorway": [
           "#636efa",
           "#EF553B",
           "#00cc96",
           "#ab63fa",
           "#FFA15A",
           "#19d3f3",
           "#FF6692",
           "#B6E880",
           "#FF97FF",
           "#FECB52"
          ],
          "font": {
           "color": "#2a3f5f"
          },
          "geo": {
           "bgcolor": "white",
           "lakecolor": "white",
           "landcolor": "#E5ECF6",
           "showlakes": true,
           "showland": true,
           "subunitcolor": "white"
          },
          "hoverlabel": {
           "align": "left"
          },
          "hovermode": "closest",
          "mapbox": {
           "style": "light"
          },
          "paper_bgcolor": "white",
          "plot_bgcolor": "#E5ECF6",
          "polar": {
           "angularaxis": {
            "gridcolor": "white",
            "linecolor": "white",
            "ticks": ""
           },
           "bgcolor": "#E5ECF6",
           "radialaxis": {
            "gridcolor": "white",
            "linecolor": "white",
            "ticks": ""
           }
          },
          "scene": {
           "xaxis": {
            "backgroundcolor": "#E5ECF6",
            "gridcolor": "white",
            "gridwidth": 2,
            "linecolor": "white",
            "showbackground": true,
            "ticks": "",
            "zerolinecolor": "white"
           },
           "yaxis": {
            "backgroundcolor": "#E5ECF6",
            "gridcolor": "white",
            "gridwidth": 2,
            "linecolor": "white",
            "showbackground": true,
            "ticks": "",
            "zerolinecolor": "white"
           },
           "zaxis": {
            "backgroundcolor": "#E5ECF6",
            "gridcolor": "white",
            "gridwidth": 2,
            "linecolor": "white",
            "showbackground": true,
            "ticks": "",
            "zerolinecolor": "white"
           }
          },
          "shapedefaults": {
           "line": {
            "color": "#2a3f5f"
           }
          },
          "ternary": {
           "aaxis": {
            "gridcolor": "white",
            "linecolor": "white",
            "ticks": ""
           },
           "baxis": {
            "gridcolor": "white",
            "linecolor": "white",
            "ticks": ""
           },
           "bgcolor": "#E5ECF6",
           "caxis": {
            "gridcolor": "white",
            "linecolor": "white",
            "ticks": ""
           }
          },
          "title": {
           "x": 0.05
          },
          "xaxis": {
           "automargin": true,
           "gridcolor": "white",
           "linecolor": "white",
           "ticks": "",
           "title": {
            "standoff": 15
           },
           "zerolinecolor": "white",
           "zerolinewidth": 2
          },
          "yaxis": {
           "automargin": true,
           "gridcolor": "white",
           "linecolor": "white",
           "ticks": "",
           "title": {
            "standoff": 15
           },
           "zerolinecolor": "white",
           "zerolinewidth": 2
          }
         }
        },
        "title": {
         "text": "Label: Abomasnow"
        },
        "width": 500,
        "xaxis": {
         "anchor": "y",
         "domain": [
          0,
          1
         ],
         "showgrid": false,
         "showticklabels": false,
         "visible": false,
         "zeroline": false
        },
        "yaxis": {
         "anchor": "x",
         "domain": [
          0,
          1
         ],
         "showgrid": false,
         "showticklabels": false,
         "visible": false,
         "zeroline": false
        }
       }
      }
     },
     "metadata": {},
     "output_type": "display_data"
    },
    {
     "name": "stdout",
     "output_type": "stream",
     "text": [
      "tf.Tensor([1. 0. 0. 1. 0. 0. 0. 0. 0. 0. 0. 0. 0. 0. 0. 0. 0. 0. 0.], shape=(19,), dtype=float32)\n",
      "(96, 96, 3)\n"
     ]
    },
    {
     "data": {
      "application/vnd.plotly.v1+json": {
       "config": {
        "plotlyServerURL": "https://plot.ly"
       },
       "data": [
        {
         "hovertemplate": "x: %{x}<br>y: %{y}<br>color: [%{z[0]}, %{z[1]}, %{z[2]}]<extra></extra>",
         "name": "0",
         "source": "data:image/png;base64,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",
         "type": "image",
         "xaxis": "x",
         "yaxis": "y"
        }
       ],
       "layout": {
        "height": 350,
        "margin": {
         "l": 0,
         "t": 60
        },
        "shapes": [
         {
          "line": {
           "color": "black",
           "width": 2
          },
          "type": "rect",
          "x0": 0,
          "x1": 96,
          "xref": "x",
          "y0": 0,
          "y1": 96,
          "yref": "y"
         }
        ],
        "template": {
         "data": {
          "bar": [
           {
            "error_x": {
             "color": "#2a3f5f"
            },
            "error_y": {
             "color": "#2a3f5f"
            },
            "marker": {
             "line": {
              "color": "#E5ECF6",
              "width": 0.5
             },
             "pattern": {
              "fillmode": "overlay",
              "size": 10,
              "solidity": 0.2
             }
            },
            "type": "bar"
           }
          ],
          "barpolar": [
           {
            "marker": {
             "line": {
              "color": "#E5ECF6",
              "width": 0.5
             },
             "pattern": {
              "fillmode": "overlay",
              "size": 10,
              "solidity": 0.2
             }
            },
            "type": "barpolar"
           }
          ],
          "carpet": [
           {
            "aaxis": {
             "endlinecolor": "#2a3f5f",
             "gridcolor": "white",
             "linecolor": "white",
             "minorgridcolor": "white",
             "startlinecolor": "#2a3f5f"
            },
            "baxis": {
             "endlinecolor": "#2a3f5f",
             "gridcolor": "white",
             "linecolor": "white",
             "minorgridcolor": "white",
             "startlinecolor": "#2a3f5f"
            },
            "type": "carpet"
           }
          ],
          "choropleth": [
           {
            "colorbar": {
             "outlinewidth": 0,
             "ticks": ""
            },
            "type": "choropleth"
           }
          ],
          "contour": [
           {
            "colorbar": {
             "outlinewidth": 0,
             "ticks": ""
            },
            "colorscale": [
             [
              0,
              "#0d0887"
             ],
             [
              0.1111111111111111,
              "#46039f"
             ],
             [
              0.2222222222222222,
              "#7201a8"
             ],
             [
              0.3333333333333333,
              "#9c179e"
             ],
             [
              0.4444444444444444,
              "#bd3786"
             ],
             [
              0.5555555555555556,
              "#d8576b"
             ],
             [
              0.6666666666666666,
              "#ed7953"
             ],
             [
              0.7777777777777778,
              "#fb9f3a"
             ],
             [
              0.8888888888888888,
              "#fdca26"
             ],
             [
              1,
              "#f0f921"
             ]
            ],
            "type": "contour"
           }
          ],
          "contourcarpet": [
           {
            "colorbar": {
             "outlinewidth": 0,
             "ticks": ""
            },
            "type": "contourcarpet"
           }
          ],
          "heatmap": [
           {
            "colorbar": {
             "outlinewidth": 0,
             "ticks": ""
            },
            "colorscale": [
             [
              0,
              "#0d0887"
             ],
             [
              0.1111111111111111,
              "#46039f"
             ],
             [
              0.2222222222222222,
              "#7201a8"
             ],
             [
              0.3333333333333333,
              "#9c179e"
             ],
             [
              0.4444444444444444,
              "#bd3786"
             ],
             [
              0.5555555555555556,
              "#d8576b"
             ],
             [
              0.6666666666666666,
              "#ed7953"
             ],
             [
              0.7777777777777778,
              "#fb9f3a"
             ],
             [
              0.8888888888888888,
              "#fdca26"
             ],
             [
              1,
              "#f0f921"
             ]
            ],
            "type": "heatmap"
           }
          ],
          "heatmapgl": [
           {
            "colorbar": {
             "outlinewidth": 0,
             "ticks": ""
            },
            "colorscale": [
             [
              0,
              "#0d0887"
             ],
             [
              0.1111111111111111,
              "#46039f"
             ],
             [
              0.2222222222222222,
              "#7201a8"
             ],
             [
              0.3333333333333333,
              "#9c179e"
             ],
             [
              0.4444444444444444,
              "#bd3786"
             ],
             [
              0.5555555555555556,
              "#d8576b"
             ],
             [
              0.6666666666666666,
              "#ed7953"
             ],
             [
              0.7777777777777778,
              "#fb9f3a"
             ],
             [
              0.8888888888888888,
              "#fdca26"
             ],
             [
              1,
              "#f0f921"
             ]
            ],
            "type": "heatmapgl"
           }
          ],
          "histogram": [
           {
            "marker": {
             "pattern": {
              "fillmode": "overlay",
              "size": 10,
              "solidity": 0.2
             }
            },
            "type": "histogram"
           }
          ],
          "histogram2d": [
           {
            "colorbar": {
             "outlinewidth": 0,
             "ticks": ""
            },
            "colorscale": [
             [
              0,
              "#0d0887"
             ],
             [
              0.1111111111111111,
              "#46039f"
             ],
             [
              0.2222222222222222,
              "#7201a8"
             ],
             [
              0.3333333333333333,
              "#9c179e"
             ],
             [
              0.4444444444444444,
              "#bd3786"
             ],
             [
              0.5555555555555556,
              "#d8576b"
             ],
             [
              0.6666666666666666,
              "#ed7953"
             ],
             [
              0.7777777777777778,
              "#fb9f3a"
             ],
             [
              0.8888888888888888,
              "#fdca26"
             ],
             [
              1,
              "#f0f921"
             ]
            ],
            "type": "histogram2d"
           }
          ],
          "histogram2dcontour": [
           {
            "colorbar": {
             "outlinewidth": 0,
             "ticks": ""
            },
            "colorscale": [
             [
              0,
              "#0d0887"
             ],
             [
              0.1111111111111111,
              "#46039f"
             ],
             [
              0.2222222222222222,
              "#7201a8"
             ],
             [
              0.3333333333333333,
              "#9c179e"
             ],
             [
              0.4444444444444444,
              "#bd3786"
             ],
             [
              0.5555555555555556,
              "#d8576b"
             ],
             [
              0.6666666666666666,
              "#ed7953"
             ],
             [
              0.7777777777777778,
              "#fb9f3a"
             ],
             [
              0.8888888888888888,
              "#fdca26"
             ],
             [
              1,
              "#f0f921"
             ]
            ],
            "type": "histogram2dcontour"
           }
          ],
          "mesh3d": [
           {
            "colorbar": {
             "outlinewidth": 0,
             "ticks": ""
            },
            "type": "mesh3d"
           }
          ],
          "parcoords": [
           {
            "line": {
             "colorbar": {
              "outlinewidth": 0,
              "ticks": ""
             }
            },
            "type": "parcoords"
           }
          ],
          "pie": [
           {
            "automargin": true,
            "type": "pie"
           }
          ],
          "scatter": [
           {
            "fillpattern": {
             "fillmode": "overlay",
             "size": 10,
             "solidity": 0.2
            },
            "type": "scatter"
           }
          ],
          "scatter3d": [
           {
            "line": {
             "colorbar": {
              "outlinewidth": 0,
              "ticks": ""
             }
            },
            "marker": {
             "colorbar": {
              "outlinewidth": 0,
              "ticks": ""
             }
            },
            "type": "scatter3d"
           }
          ],
          "scattercarpet": [
           {
            "marker": {
             "colorbar": {
              "outlinewidth": 0,
              "ticks": ""
             }
            },
            "type": "scattercarpet"
           }
          ],
          "scattergeo": [
           {
            "marker": {
             "colorbar": {
              "outlinewidth": 0,
              "ticks": ""
             }
            },
            "type": "scattergeo"
           }
          ],
          "scattergl": [
           {
            "marker": {
             "colorbar": {
              "outlinewidth": 0,
              "ticks": ""
             }
            },
            "type": "scattergl"
           }
          ],
          "scattermapbox": [
           {
            "marker": {
             "colorbar": {
              "outlinewidth": 0,
              "ticks": ""
             }
            },
            "type": "scattermapbox"
           }
          ],
          "scatterpolar": [
           {
            "marker": {
             "colorbar": {
              "outlinewidth": 0,
              "ticks": ""
             }
            },
            "type": "scatterpolar"
           }
          ],
          "scatterpolargl": [
           {
            "marker": {
             "colorbar": {
              "outlinewidth": 0,
              "ticks": ""
             }
            },
            "type": "scatterpolargl"
           }
          ],
          "scatterternary": [
           {
            "marker": {
             "colorbar": {
              "outlinewidth": 0,
              "ticks": ""
             }
            },
            "type": "scatterternary"
           }
          ],
          "surface": [
           {
            "colorbar": {
             "outlinewidth": 0,
             "ticks": ""
            },
            "colorscale": [
             [
              0,
              "#0d0887"
             ],
             [
              0.1111111111111111,
              "#46039f"
             ],
             [
              0.2222222222222222,
              "#7201a8"
             ],
             [
              0.3333333333333333,
              "#9c179e"
             ],
             [
              0.4444444444444444,
              "#bd3786"
             ],
             [
              0.5555555555555556,
              "#d8576b"
             ],
             [
              0.6666666666666666,
              "#ed7953"
             ],
             [
              0.7777777777777778,
              "#fb9f3a"
             ],
             [
              0.8888888888888888,
              "#fdca26"
             ],
             [
              1,
              "#f0f921"
             ]
            ],
            "type": "surface"
           }
          ],
          "table": [
           {
            "cells": {
             "fill": {
              "color": "#EBF0F8"
             },
             "line": {
              "color": "white"
             }
            },
            "header": {
             "fill": {
              "color": "#C8D4E3"
             },
             "line": {
              "color": "white"
             }
            },
            "type": "table"
           }
          ]
         },
         "layout": {
          "annotationdefaults": {
           "arrowcolor": "#2a3f5f",
           "arrowhead": 0,
           "arrowwidth": 1
          },
          "autotypenumbers": "strict",
          "coloraxis": {
           "colorbar": {
            "outlinewidth": 0,
            "ticks": ""
           }
          },
          "colorscale": {
           "diverging": [
            [
             0,
             "#8e0152"
            ],
            [
             0.1,
             "#c51b7d"
            ],
            [
             0.2,
             "#de77ae"
            ],
            [
             0.3,
             "#f1b6da"
            ],
            [
             0.4,
             "#fde0ef"
            ],
            [
             0.5,
             "#f7f7f7"
            ],
            [
             0.6,
             "#e6f5d0"
            ],
            [
             0.7,
             "#b8e186"
            ],
            [
             0.8,
             "#7fbc41"
            ],
            [
             0.9,
             "#4d9221"
            ],
            [
             1,
             "#276419"
            ]
           ],
           "sequential": [
            [
             0,
             "#0d0887"
            ],
            [
             0.1111111111111111,
             "#46039f"
            ],
            [
             0.2222222222222222,
             "#7201a8"
            ],
            [
             0.3333333333333333,
             "#9c179e"
            ],
            [
             0.4444444444444444,
             "#bd3786"
            ],
            [
             0.5555555555555556,
             "#d8576b"
            ],
            [
             0.6666666666666666,
             "#ed7953"
            ],
            [
             0.7777777777777778,
             "#fb9f3a"
            ],
            [
             0.8888888888888888,
             "#fdca26"
            ],
            [
             1,
             "#f0f921"
            ]
           ],
           "sequentialminus": [
            [
             0,
             "#0d0887"
            ],
            [
             0.1111111111111111,
             "#46039f"
            ],
            [
             0.2222222222222222,
             "#7201a8"
            ],
            [
             0.3333333333333333,
             "#9c179e"
            ],
            [
             0.4444444444444444,
             "#bd3786"
            ],
            [
             0.5555555555555556,
             "#d8576b"
            ],
            [
             0.6666666666666666,
             "#ed7953"
            ],
            [
             0.7777777777777778,
             "#fb9f3a"
            ],
            [
             0.8888888888888888,
             "#fdca26"
            ],
            [
             1,
             "#f0f921"
            ]
           ]
          },
          "colorway": [
           "#636efa",
           "#EF553B",
           "#00cc96",
           "#ab63fa",
           "#FFA15A",
           "#19d3f3",
           "#FF6692",
           "#B6E880",
           "#FF97FF",
           "#FECB52"
          ],
          "font": {
           "color": "#2a3f5f"
          },
          "geo": {
           "bgcolor": "white",
           "lakecolor": "white",
           "landcolor": "#E5ECF6",
           "showlakes": true,
           "showland": true,
           "subunitcolor": "white"
          },
          "hoverlabel": {
           "align": "left"
          },
          "hovermode": "closest",
          "mapbox": {
           "style": "light"
          },
          "paper_bgcolor": "white",
          "plot_bgcolor": "#E5ECF6",
          "polar": {
           "angularaxis": {
            "gridcolor": "white",
            "linecolor": "white",
            "ticks": ""
           },
           "bgcolor": "#E5ECF6",
           "radialaxis": {
            "gridcolor": "white",
            "linecolor": "white",
            "ticks": ""
           }
          },
          "scene": {
           "xaxis": {
            "backgroundcolor": "#E5ECF6",
            "gridcolor": "white",
            "gridwidth": 2,
            "linecolor": "white",
            "showbackground": true,
            "ticks": "",
            "zerolinecolor": "white"
           },
           "yaxis": {
            "backgroundcolor": "#E5ECF6",
            "gridcolor": "white",
            "gridwidth": 2,
            "linecolor": "white",
            "showbackground": true,
            "ticks": "",
            "zerolinecolor": "white"
           },
           "zaxis": {
            "backgroundcolor": "#E5ECF6",
            "gridcolor": "white",
            "gridwidth": 2,
            "linecolor": "white",
            "showbackground": true,
            "ticks": "",
            "zerolinecolor": "white"
           }
          },
          "shapedefaults": {
           "line": {
            "color": "#2a3f5f"
           }
          },
          "ternary": {
           "aaxis": {
            "gridcolor": "white",
            "linecolor": "white",
            "ticks": ""
           },
           "baxis": {
            "gridcolor": "white",
            "linecolor": "white",
            "ticks": ""
           },
           "bgcolor": "#E5ECF6",
           "caxis": {
            "gridcolor": "white",
            "linecolor": "white",
            "ticks": ""
           }
          },
          "title": {
           "x": 0.05
          },
          "xaxis": {
           "automargin": true,
           "gridcolor": "white",
           "linecolor": "white",
           "ticks": "",
           "title": {
            "standoff": 15
           },
           "zerolinecolor": "white",
           "zerolinewidth": 2
          },
          "yaxis": {
           "automargin": true,
           "gridcolor": "white",
           "linecolor": "white",
           "ticks": "",
           "title": {
            "standoff": 15
           },
           "zerolinecolor": "white",
           "zerolinewidth": 2
          }
         }
        },
        "title": {
         "text": "Label: Abomasnow"
        },
        "width": 500,
        "xaxis": {
         "anchor": "y",
         "domain": [
          0,
          1
         ],
         "showgrid": false,
         "showticklabels": false,
         "visible": false,
         "zeroline": false
        },
        "yaxis": {
         "anchor": "x",
         "domain": [
          0,
          1
         ],
         "showgrid": false,
         "showticklabels": false,
         "visible": false,
         "zeroline": false
        }
       }
      }
     },
     "metadata": {},
     "output_type": "display_data"
    },
    {
     "name": "stdout",
     "output_type": "stream",
     "text": [
      "tf.Tensor([1. 0. 0. 0. 0. 0. 1. 0. 0. 0. 0. 0. 1. 0. 0. 0. 0. 0. 0.], shape=(19,), dtype=float32)\n",
      "(96, 96, 3)\n"
     ]
    },
    {
     "data": {
      "application/vnd.plotly.v1+json": {
       "config": {
        "plotlyServerURL": "https://plot.ly"
       },
       "data": [
        {
         "hovertemplate": "x: %{x}<br>y: %{y}<br>color: [%{z[0]}, %{z[1]}, %{z[2]}]<extra></extra>",
         "name": "0",
         "source": "data:image/png;base64,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",
         "type": "image",
         "xaxis": "x",
         "yaxis": "y"
        }
       ],
       "layout": {
        "height": 350,
        "margin": {
         "l": 0,
         "t": 60
        },
        "shapes": [
         {
          "line": {
           "color": "black",
           "width": 2
          },
          "type": "rect",
          "x0": 0,
          "x1": 96,
          "xref": "x",
          "y0": 0,
          "y1": 96,
          "yref": "y"
         }
        ],
        "template": {
         "data": {
          "bar": [
           {
            "error_x": {
             "color": "#2a3f5f"
            },
            "error_y": {
             "color": "#2a3f5f"
            },
            "marker": {
             "line": {
              "color": "#E5ECF6",
              "width": 0.5
             },
             "pattern": {
              "fillmode": "overlay",
              "size": 10,
              "solidity": 0.2
             }
            },
            "type": "bar"
           }
          ],
          "barpolar": [
           {
            "marker": {
             "line": {
              "color": "#E5ECF6",
              "width": 0.5
             },
             "pattern": {
              "fillmode": "overlay",
              "size": 10,
              "solidity": 0.2
             }
            },
            "type": "barpolar"
           }
          ],
          "carpet": [
           {
            "aaxis": {
             "endlinecolor": "#2a3f5f",
             "gridcolor": "white",
             "linecolor": "white",
             "minorgridcolor": "white",
             "startlinecolor": "#2a3f5f"
            },
            "baxis": {
             "endlinecolor": "#2a3f5f",
             "gridcolor": "white",
             "linecolor": "white",
             "minorgridcolor": "white",
             "startlinecolor": "#2a3f5f"
            },
            "type": "carpet"
           }
          ],
          "choropleth": [
           {
            "colorbar": {
             "outlinewidth": 0,
             "ticks": ""
            },
            "type": "choropleth"
           }
          ],
          "contour": [
           {
            "colorbar": {
             "outlinewidth": 0,
             "ticks": ""
            },
            "colorscale": [
             [
              0,
              "#0d0887"
             ],
             [
              0.1111111111111111,
              "#46039f"
             ],
             [
              0.2222222222222222,
              "#7201a8"
             ],
             [
              0.3333333333333333,
              "#9c179e"
             ],
             [
              0.4444444444444444,
              "#bd3786"
             ],
             [
              0.5555555555555556,
              "#d8576b"
             ],
             [
              0.6666666666666666,
              "#ed7953"
             ],
             [
              0.7777777777777778,
              "#fb9f3a"
             ],
             [
              0.8888888888888888,
              "#fdca26"
             ],
             [
              1,
              "#f0f921"
             ]
            ],
            "type": "contour"
           }
          ],
          "contourcarpet": [
           {
            "colorbar": {
             "outlinewidth": 0,
             "ticks": ""
            },
            "type": "contourcarpet"
           }
          ],
          "heatmap": [
           {
            "colorbar": {
             "outlinewidth": 0,
             "ticks": ""
            },
            "colorscale": [
             [
              0,
              "#0d0887"
             ],
             [
              0.1111111111111111,
              "#46039f"
             ],
             [
              0.2222222222222222,
              "#7201a8"
             ],
             [
              0.3333333333333333,
              "#9c179e"
             ],
             [
              0.4444444444444444,
              "#bd3786"
             ],
             [
              0.5555555555555556,
              "#d8576b"
             ],
             [
              0.6666666666666666,
              "#ed7953"
             ],
             [
              0.7777777777777778,
              "#fb9f3a"
             ],
             [
              0.8888888888888888,
              "#fdca26"
             ],
             [
              1,
              "#f0f921"
             ]
            ],
            "type": "heatmap"
           }
          ],
          "heatmapgl": [
           {
            "colorbar": {
             "outlinewidth": 0,
             "ticks": ""
            },
            "colorscale": [
             [
              0,
              "#0d0887"
             ],
             [
              0.1111111111111111,
              "#46039f"
             ],
             [
              0.2222222222222222,
              "#7201a8"
             ],
             [
              0.3333333333333333,
              "#9c179e"
             ],
             [
              0.4444444444444444,
              "#bd3786"
             ],
             [
              0.5555555555555556,
              "#d8576b"
             ],
             [
              0.6666666666666666,
              "#ed7953"
             ],
             [
              0.7777777777777778,
              "#fb9f3a"
             ],
             [
              0.8888888888888888,
              "#fdca26"
             ],
             [
              1,
              "#f0f921"
             ]
            ],
            "type": "heatmapgl"
           }
          ],
          "histogram": [
           {
            "marker": {
             "pattern": {
              "fillmode": "overlay",
              "size": 10,
              "solidity": 0.2
             }
            },
            "type": "histogram"
           }
          ],
          "histogram2d": [
           {
            "colorbar": {
             "outlinewidth": 0,
             "ticks": ""
            },
            "colorscale": [
             [
              0,
              "#0d0887"
             ],
             [
              0.1111111111111111,
              "#46039f"
             ],
             [
              0.2222222222222222,
              "#7201a8"
             ],
             [
              0.3333333333333333,
              "#9c179e"
             ],
             [
              0.4444444444444444,
              "#bd3786"
             ],
             [
              0.5555555555555556,
              "#d8576b"
             ],
             [
              0.6666666666666666,
              "#ed7953"
             ],
             [
              0.7777777777777778,
              "#fb9f3a"
             ],
             [
              0.8888888888888888,
              "#fdca26"
             ],
             [
              1,
              "#f0f921"
             ]
            ],
            "type": "histogram2d"
           }
          ],
          "histogram2dcontour": [
           {
            "colorbar": {
             "outlinewidth": 0,
             "ticks": ""
            },
            "colorscale": [
             [
              0,
              "#0d0887"
             ],
             [
              0.1111111111111111,
              "#46039f"
             ],
             [
              0.2222222222222222,
              "#7201a8"
             ],
             [
              0.3333333333333333,
              "#9c179e"
             ],
             [
              0.4444444444444444,
              "#bd3786"
             ],
             [
              0.5555555555555556,
              "#d8576b"
             ],
             [
              0.6666666666666666,
              "#ed7953"
             ],
             [
              0.7777777777777778,
              "#fb9f3a"
             ],
             [
              0.8888888888888888,
              "#fdca26"
             ],
             [
              1,
              "#f0f921"
             ]
            ],
            "type": "histogram2dcontour"
           }
          ],
          "mesh3d": [
           {
            "colorbar": {
             "outlinewidth": 0,
             "ticks": ""
            },
            "type": "mesh3d"
           }
          ],
          "parcoords": [
           {
            "line": {
             "colorbar": {
              "outlinewidth": 0,
              "ticks": ""
             }
            },
            "type": "parcoords"
           }
          ],
          "pie": [
           {
            "automargin": true,
            "type": "pie"
           }
          ],
          "scatter": [
           {
            "fillpattern": {
             "fillmode": "overlay",
             "size": 10,
             "solidity": 0.2
            },
            "type": "scatter"
           }
          ],
          "scatter3d": [
           {
            "line": {
             "colorbar": {
              "outlinewidth": 0,
              "ticks": ""
             }
            },
            "marker": {
             "colorbar": {
              "outlinewidth": 0,
              "ticks": ""
             }
            },
            "type": "scatter3d"
           }
          ],
          "scattercarpet": [
           {
            "marker": {
             "colorbar": {
              "outlinewidth": 0,
              "ticks": ""
             }
            },
            "type": "scattercarpet"
           }
          ],
          "scattergeo": [
           {
            "marker": {
             "colorbar": {
              "outlinewidth": 0,
              "ticks": ""
             }
            },
            "type": "scattergeo"
           }
          ],
          "scattergl": [
           {
            "marker": {
             "colorbar": {
              "outlinewidth": 0,
              "ticks": ""
             }
            },
            "type": "scattergl"
           }
          ],
          "scattermapbox": [
           {
            "marker": {
             "colorbar": {
              "outlinewidth": 0,
              "ticks": ""
             }
            },
            "type": "scattermapbox"
           }
          ],
          "scatterpolar": [
           {
            "marker": {
             "colorbar": {
              "outlinewidth": 0,
              "ticks": ""
             }
            },
            "type": "scatterpolar"
           }
          ],
          "scatterpolargl": [
           {
            "marker": {
             "colorbar": {
              "outlinewidth": 0,
              "ticks": ""
             }
            },
            "type": "scatterpolargl"
           }
          ],
          "scatterternary": [
           {
            "marker": {
             "colorbar": {
              "outlinewidth": 0,
              "ticks": ""
             }
            },
            "type": "scatterternary"
           }
          ],
          "surface": [
           {
            "colorbar": {
             "outlinewidth": 0,
             "ticks": ""
            },
            "colorscale": [
             [
              0,
              "#0d0887"
             ],
             [
              0.1111111111111111,
              "#46039f"
             ],
             [
              0.2222222222222222,
              "#7201a8"
             ],
             [
              0.3333333333333333,
              "#9c179e"
             ],
             [
              0.4444444444444444,
              "#bd3786"
             ],
             [
              0.5555555555555556,
              "#d8576b"
             ],
             [
              0.6666666666666666,
              "#ed7953"
             ],
             [
              0.7777777777777778,
              "#fb9f3a"
             ],
             [
              0.8888888888888888,
              "#fdca26"
             ],
             [
              1,
              "#f0f921"
             ]
            ],
            "type": "surface"
           }
          ],
          "table": [
           {
            "cells": {
             "fill": {
              "color": "#EBF0F8"
             },
             "line": {
              "color": "white"
             }
            },
            "header": {
             "fill": {
              "color": "#C8D4E3"
             },
             "line": {
              "color": "white"
             }
            },
            "type": "table"
           }
          ]
         },
         "layout": {
          "annotationdefaults": {
           "arrowcolor": "#2a3f5f",
           "arrowhead": 0,
           "arrowwidth": 1
          },
          "autotypenumbers": "strict",
          "coloraxis": {
           "colorbar": {
            "outlinewidth": 0,
            "ticks": ""
           }
          },
          "colorscale": {
           "diverging": [
            [
             0,
             "#8e0152"
            ],
            [
             0.1,
             "#c51b7d"
            ],
            [
             0.2,
             "#de77ae"
            ],
            [
             0.3,
             "#f1b6da"
            ],
            [
             0.4,
             "#fde0ef"
            ],
            [
             0.5,
             "#f7f7f7"
            ],
            [
             0.6,
             "#e6f5d0"
            ],
            [
             0.7,
             "#b8e186"
            ],
            [
             0.8,
             "#7fbc41"
            ],
            [
             0.9,
             "#4d9221"
            ],
            [
             1,
             "#276419"
            ]
           ],
           "sequential": [
            [
             0,
             "#0d0887"
            ],
            [
             0.1111111111111111,
             "#46039f"
            ],
            [
             0.2222222222222222,
             "#7201a8"
            ],
            [
             0.3333333333333333,
             "#9c179e"
            ],
            [
             0.4444444444444444,
             "#bd3786"
            ],
            [
             0.5555555555555556,
             "#d8576b"
            ],
            [
             0.6666666666666666,
             "#ed7953"
            ],
            [
             0.7777777777777778,
             "#fb9f3a"
            ],
            [
             0.8888888888888888,
             "#fdca26"
            ],
            [
             1,
             "#f0f921"
            ]
           ],
           "sequentialminus": [
            [
             0,
             "#0d0887"
            ],
            [
             0.1111111111111111,
             "#46039f"
            ],
            [
             0.2222222222222222,
             "#7201a8"
            ],
            [
             0.3333333333333333,
             "#9c179e"
            ],
            [
             0.4444444444444444,
             "#bd3786"
            ],
            [
             0.5555555555555556,
             "#d8576b"
            ],
            [
             0.6666666666666666,
             "#ed7953"
            ],
            [
             0.7777777777777778,
             "#fb9f3a"
            ],
            [
             0.8888888888888888,
             "#fdca26"
            ],
            [
             1,
             "#f0f921"
            ]
           ]
          },
          "colorway": [
           "#636efa",
           "#EF553B",
           "#00cc96",
           "#ab63fa",
           "#FFA15A",
           "#19d3f3",
           "#FF6692",
           "#B6E880",
           "#FF97FF",
           "#FECB52"
          ],
          "font": {
           "color": "#2a3f5f"
          },
          "geo": {
           "bgcolor": "white",
           "lakecolor": "white",
           "landcolor": "#E5ECF6",
           "showlakes": true,
           "showland": true,
           "subunitcolor": "white"
          },
          "hoverlabel": {
           "align": "left"
          },
          "hovermode": "closest",
          "mapbox": {
           "style": "light"
          },
          "paper_bgcolor": "white",
          "plot_bgcolor": "#E5ECF6",
          "polar": {
           "angularaxis": {
            "gridcolor": "white",
            "linecolor": "white",
            "ticks": ""
           },
           "bgcolor": "#E5ECF6",
           "radialaxis": {
            "gridcolor": "white",
            "linecolor": "white",
            "ticks": ""
           }
          },
          "scene": {
           "xaxis": {
            "backgroundcolor": "#E5ECF6",
            "gridcolor": "white",
            "gridwidth": 2,
            "linecolor": "white",
            "showbackground": true,
            "ticks": "",
            "zerolinecolor": "white"
           },
           "yaxis": {
            "backgroundcolor": "#E5ECF6",
            "gridcolor": "white",
            "gridwidth": 2,
            "linecolor": "white",
            "showbackground": true,
            "ticks": "",
            "zerolinecolor": "white"
           },
           "zaxis": {
            "backgroundcolor": "#E5ECF6",
            "gridcolor": "white",
            "gridwidth": 2,
            "linecolor": "white",
            "showbackground": true,
            "ticks": "",
            "zerolinecolor": "white"
           }
          },
          "shapedefaults": {
           "line": {
            "color": "#2a3f5f"
           }
          },
          "ternary": {
           "aaxis": {
            "gridcolor": "white",
            "linecolor": "white",
            "ticks": ""
           },
           "baxis": {
            "gridcolor": "white",
            "linecolor": "white",
            "ticks": ""
           },
           "bgcolor": "#E5ECF6",
           "caxis": {
            "gridcolor": "white",
            "linecolor": "white",
            "ticks": ""
           }
          },
          "title": {
           "x": 0.05
          },
          "xaxis": {
           "automargin": true,
           "gridcolor": "white",
           "linecolor": "white",
           "ticks": "",
           "title": {
            "standoff": 15
           },
           "zerolinecolor": "white",
           "zerolinewidth": 2
          },
          "yaxis": {
           "automargin": true,
           "gridcolor": "white",
           "linecolor": "white",
           "ticks": "",
           "title": {
            "standoff": 15
           },
           "zerolinecolor": "white",
           "zerolinewidth": 2
          }
         }
        },
        "title": {
         "text": "Label: Abomasnow"
        },
        "width": 500,
        "xaxis": {
         "anchor": "y",
         "domain": [
          0,
          1
         ],
         "showgrid": false,
         "showticklabels": false,
         "visible": false,
         "zeroline": false
        },
        "yaxis": {
         "anchor": "x",
         "domain": [
          0,
          1
         ],
         "showgrid": false,
         "showticklabels": false,
         "visible": false,
         "zeroline": false
        }
       }
      }
     },
     "metadata": {},
     "output_type": "display_data"
    }
   ],
   "source": [
    "plot_n_images(train_ds, 5, class_names, GAN=True, size=width)"
   ]
  },
  {
   "cell_type": "code",
   "execution_count": 13,
   "metadata": {},
   "outputs": [],
   "source": [
    "# define the discriminator model\n",
    "def define_cdiscriminator(input_shape, num_classes):\n",
    "    img_input = tf.keras.layers.Input(shape=input_shape)\n",
    "    label_input = tf.keras.layers.Input(shape=(num_classes,))\n",
    "    \n",
    "    # image branch\n",
    "    layer = tf.keras.layers.Conv2D(64, (3, 3), padding='same')(img_input)\n",
    "    layer = tf.keras.layers.LeakyReLU(alpha=0.2)(layer)\n",
    "    layer = tf.keras.layers.Conv2D(128, (3, 3), strides=(2, 2), padding='same')(layer)\n",
    "    layer = tf.keras.layers.LeakyReLU(alpha=0.2)(layer)\n",
    "    layer = tf.keras.layers.Conv2D(128, (3, 3), strides=(2, 2), padding='same')(layer)\n",
    "    layer = tf.keras.layers.LeakyReLU(alpha=0.2)(layer)\n",
    "    layer = tf.keras.layers.Conv2D(256, (3, 3), strides=(2, 2), padding='same')(layer)\n",
    "    layer = tf.keras.layers.LeakyReLU(alpha=0.2)(layer)\n",
    "    layer = tf.keras.layers.Conv2D(256, (3, 3), strides=(2, 2), padding='same')(layer)\n",
    "    layer = tf.keras.layers.LeakyReLU(alpha=0.2)(layer)\n",
    "    layer = tf.keras.layers.Flatten()(layer)\n",
    "\n",
    "    # label branch\n",
    "    label_layer = tf.keras.layers.Dense(64)(label_input)\n",
    "    label_layer = tf.keras.layers.LeakyReLU(alpha=0.2)(label_layer)\n",
    "    label_layer = tf.keras.layers.Dense(128)(label_layer)\n",
    "    label_layer = tf.keras.layers.LeakyReLU(alpha=0.2)(label_layer)\n",
    "    label_layer = tf.keras.layers.Dense(256)(label_layer)\n",
    "    label_layer = tf.keras.layers.LeakyReLU(alpha=0.2)(label_layer)\n",
    "    label_layer = tf.keras.layers.Dense(256)(label_layer)\n",
    "    label_layer = tf.keras.layers.LeakyReLU(alpha=0.2)(label_layer)\n",
    "    label_layer = tf.keras.layers.Flatten()(label_layer)\n",
    "\n",
    "    # concatenate image and label branches\n",
    "    layer = tf.keras.layers.concatenate([layer, label_layer])\n",
    "    layer = tf.keras.layers.Dropout(0.4)(layer)\n",
    "    layer = tf.keras.layers.Dense(1, activation='sigmoid')(layer)\n",
    "    \n",
    "    # define the model\n",
    "    model = tf.keras.models.Model(inputs=[img_input, label_input], outputs=layer)\n",
    "\n",
    "    # compile the model\n",
    "    opt = tf.keras.optimizers.Adam(learning_rate=0.0002, beta_1=0.5)\n",
    "    model.compile(loss='binary_crossentropy', optimizer=opt, metrics=['accuracy'])\n",
    "    \n",
    "    return model\n",
    "\n",
    "    \n",
    "# define the standalone generator model\n",
    "def define_cgenerator(latent_dim, num_classes):\n",
    "    # Define the noise vector input\n",
    "    in_lat = tf.keras.layers.Input(shape=(latent_dim,))\n",
    "    # Define the class vector input\n",
    "    in_class = tf.keras.layers.Input(shape=(num_classes,))\n",
    "    # Concatenate the noise and class vectors\n",
    "    merge = tf.keras.layers.Concatenate()([in_lat, in_class])\n",
    "    # Project the concatenated vector to a larger dimension\n",
    "    n = 128\n",
    "    size = int(width/16)\n",
    "    n_nodes = n * size * size\n",
    "    dense = tf.keras.layers.Dense(n_nodes)(merge)\n",
    "    # Reshape the dense layer output\n",
    "    reshaped = tf.keras.layers.Reshape((size, size, n))(dense)\n",
    "    # Upsample the feature maps\n",
    "    upsampled = tf.keras.layers.Conv2DTranspose(256, (4,4), strides=(2,2), padding='same')(reshaped)\n",
    "    upsampled = tf.keras.layers.LeakyReLU(alpha=0.2)(upsampled)\n",
    "    upsampled = tf.keras.layers.Conv2DTranspose(256, (4,4), strides=(2,2), padding='same')(upsampled)\n",
    "    upsampled = tf.keras.layers.LeakyReLU(alpha=0.2)(upsampled)\n",
    "    upsampled = tf.keras.layers.Conv2DTranspose(128, (4,4), strides=(2,2), padding='same')(upsampled)\n",
    "    upsampled = tf.keras.layers.LeakyReLU(alpha=0.2)(upsampled)\n",
    "    upsampled = tf.keras.layers.Conv2DTranspose(128, (4,4), strides=(2,2), padding='same')(upsampled)\n",
    "    upsampled = tf.keras.layers.LeakyReLU(alpha=0.2)(upsampled)\n",
    "    # Output layer\n",
    "    out_layer = tf.keras.layers.Conv2D(3, (3,3), activation='tanh', padding='same')(upsampled)\n",
    "    # Define the model\n",
    "    model = tf.keras.models.Model([in_lat, in_class], out_layer)\n",
    "    return model"
   ]
  },
  {
   "cell_type": "code",
   "execution_count": 14,
   "metadata": {},
   "outputs": [],
   "source": [
    "def define_cgan(g_model, d_model):\n",
    "    d_model.trainable = False\n",
    "    gen_noise, gen_label = g_model.input\n",
    "    gen_output = g_model.output\n",
    "    gan_output = d_model([gen_output, gen_label])\n",
    "    model = tf.keras.Model([gen_noise, gen_label], gan_output)\n",
    "    opt = tf.keras.optimizers.Adam(learning_rate=0.0002, beta_1=0.5)\n",
    "    model.compile(loss='binary_crossentropy', optimizer=opt)\n",
    "    return model\n"
   ]
  },
  {
   "cell_type": "code",
   "execution_count": 15,
   "metadata": {},
   "outputs": [
    {
     "name": "stdout",
     "output_type": "stream",
     "text": [
      "Model: \"model\"\n",
      "__________________________________________________________________________________________________\n",
      " Layer (type)                   Output Shape         Param #     Connected to                     \n",
      "==================================================================================================\n",
      " input_1 (InputLayer)           [(None, 96, 96, 3)]  0           []                               \n",
      "                                                                                                  \n",
      " conv2d (Conv2D)                (None, 96, 96, 64)   1792        ['input_1[0][0]']                \n",
      "                                                                                                  \n",
      " leaky_re_lu (LeakyReLU)        (None, 96, 96, 64)   0           ['conv2d[0][0]']                 \n",
      "                                                                                                  \n",
      " input_2 (InputLayer)           [(None, 18)]         0           []                               \n",
      "                                                                                                  \n",
      " conv2d_1 (Conv2D)              (None, 48, 48, 128)  73856       ['leaky_re_lu[0][0]']            \n",
      "                                                                                                  \n",
      " dense (Dense)                  (None, 64)           1216        ['input_2[0][0]']                \n",
      "                                                                                                  \n",
      " leaky_re_lu_1 (LeakyReLU)      (None, 48, 48, 128)  0           ['conv2d_1[0][0]']               \n",
      "                                                                                                  \n",
      " leaky_re_lu_5 (LeakyReLU)      (None, 64)           0           ['dense[0][0]']                  \n",
      "                                                                                                  \n",
      " conv2d_2 (Conv2D)              (None, 24, 24, 128)  147584      ['leaky_re_lu_1[0][0]']          \n",
      "                                                                                                  \n",
      " dense_1 (Dense)                (None, 128)          8320        ['leaky_re_lu_5[0][0]']          \n",
      "                                                                                                  \n",
      " leaky_re_lu_2 (LeakyReLU)      (None, 24, 24, 128)  0           ['conv2d_2[0][0]']               \n",
      "                                                                                                  \n",
      " leaky_re_lu_6 (LeakyReLU)      (None, 128)          0           ['dense_1[0][0]']                \n",
      "                                                                                                  \n",
      " conv2d_3 (Conv2D)              (None, 12, 12, 256)  295168      ['leaky_re_lu_2[0][0]']          \n",
      "                                                                                                  \n",
      " dense_2 (Dense)                (None, 256)          33024       ['leaky_re_lu_6[0][0]']          \n",
      "                                                                                                  \n",
      " leaky_re_lu_3 (LeakyReLU)      (None, 12, 12, 256)  0           ['conv2d_3[0][0]']               \n",
      "                                                                                                  \n",
      " leaky_re_lu_7 (LeakyReLU)      (None, 256)          0           ['dense_2[0][0]']                \n",
      "                                                                                                  \n",
      " conv2d_4 (Conv2D)              (None, 6, 6, 256)    590080      ['leaky_re_lu_3[0][0]']          \n",
      "                                                                                                  \n",
      " dense_3 (Dense)                (None, 256)          65792       ['leaky_re_lu_7[0][0]']          \n",
      "                                                                                                  \n",
      " leaky_re_lu_4 (LeakyReLU)      (None, 6, 6, 256)    0           ['conv2d_4[0][0]']               \n",
      "                                                                                                  \n",
      " leaky_re_lu_8 (LeakyReLU)      (None, 256)          0           ['dense_3[0][0]']                \n",
      "                                                                                                  \n",
      " flatten (Flatten)              (None, 9216)         0           ['leaky_re_lu_4[0][0]']          \n",
      "                                                                                                  \n",
      " flatten_1 (Flatten)            (None, 256)          0           ['leaky_re_lu_8[0][0]']          \n",
      "                                                                                                  \n",
      " concatenate (Concatenate)      (None, 9472)         0           ['flatten[0][0]',                \n",
      "                                                                  'flatten_1[0][0]']              \n",
      "                                                                                                  \n",
      " dropout (Dropout)              (None, 9472)         0           ['concatenate[0][0]']            \n",
      "                                                                                                  \n",
      " dense_4 (Dense)                (None, 1)            9473        ['dropout[0][0]']                \n",
      "                                                                                                  \n",
      "==================================================================================================\n",
      "Total params: 1,226,305\n",
      "Trainable params: 1,226,305\n",
      "Non-trainable params: 0\n",
      "__________________________________________________________________________________________________\n"
     ]
    }
   ],
   "source": [
    "# build and compile the discriminator\n",
    "cdiscriminator = define_cdiscriminator((width, height, 3), 18)\n",
    "cdiscriminator.summary()"
   ]
  },
  {
   "cell_type": "code",
   "execution_count": 16,
   "metadata": {},
   "outputs": [
    {
     "name": "stdout",
     "output_type": "stream",
     "text": [
      "Model: \"model_1\"\n",
      "__________________________________________________________________________________________________\n",
      " Layer (type)                   Output Shape         Param #     Connected to                     \n",
      "==================================================================================================\n",
      " input_3 (InputLayer)           [(None, 100)]        0           []                               \n",
      "                                                                                                  \n",
      " input_4 (InputLayer)           [(None, 18)]         0           []                               \n",
      "                                                                                                  \n",
      " concatenate_1 (Concatenate)    (None, 118)          0           ['input_3[0][0]',                \n",
      "                                                                  'input_4[0][0]']                \n",
      "                                                                                                  \n",
      " dense_5 (Dense)                (None, 4608)         548352      ['concatenate_1[0][0]']          \n",
      "                                                                                                  \n",
      " reshape (Reshape)              (None, 6, 6, 128)    0           ['dense_5[0][0]']                \n",
      "                                                                                                  \n",
      " conv2d_transpose (Conv2DTransp  (None, 12, 12, 256)  524544     ['reshape[0][0]']                \n",
      " ose)                                                                                             \n",
      "                                                                                                  \n",
      " leaky_re_lu_9 (LeakyReLU)      (None, 12, 12, 256)  0           ['conv2d_transpose[0][0]']       \n",
      "                                                                                                  \n",
      " conv2d_transpose_1 (Conv2DTran  (None, 24, 24, 256)  1048832    ['leaky_re_lu_9[0][0]']          \n",
      " spose)                                                                                           \n",
      "                                                                                                  \n",
      " leaky_re_lu_10 (LeakyReLU)     (None, 24, 24, 256)  0           ['conv2d_transpose_1[0][0]']     \n",
      "                                                                                                  \n",
      " conv2d_transpose_2 (Conv2DTran  (None, 48, 48, 128)  524416     ['leaky_re_lu_10[0][0]']         \n",
      " spose)                                                                                           \n",
      "                                                                                                  \n",
      " leaky_re_lu_11 (LeakyReLU)     (None, 48, 48, 128)  0           ['conv2d_transpose_2[0][0]']     \n",
      "                                                                                                  \n",
      " conv2d_transpose_3 (Conv2DTran  (None, 96, 96, 128)  262272     ['leaky_re_lu_11[0][0]']         \n",
      " spose)                                                                                           \n",
      "                                                                                                  \n",
      " leaky_re_lu_12 (LeakyReLU)     (None, 96, 96, 128)  0           ['conv2d_transpose_3[0][0]']     \n",
      "                                                                                                  \n",
      " conv2d_5 (Conv2D)              (None, 96, 96, 3)    3459        ['leaky_re_lu_12[0][0]']         \n",
      "                                                                                                  \n",
      "==================================================================================================\n",
      "Total params: 2,911,875\n",
      "Trainable params: 2,911,875\n",
      "Non-trainable params: 0\n",
      "__________________________________________________________________________________________________\n"
     ]
    }
   ],
   "source": [
    "# build the generator\n",
    "cgenerator = define_cgenerator(100, 18)\n",
    "cgenerator.summary()"
   ]
  },
  {
   "cell_type": "code",
   "execution_count": 17,
   "metadata": {},
   "outputs": [],
   "source": [
    "# build the gan\n",
    "cgan_model = define_cgan(cgenerator, cdiscriminator)\n",
    "# cgan_model.summary()"
   ]
  },
  {
   "cell_type": "code",
   "execution_count": 18,
   "metadata": {},
   "outputs": [
    {
     "data": {
      "image/png": "[encoded data removed]",
      "text/plain": [
       "<IPython.core.display.Image object>"
      ]
     },
     "execution_count": 18,
     "metadata": {},
     "output_type": "execute_result"
    }
   ],
   "source": [
    "dot_img_file = '/CGAN.png'\n",
    "tf.keras.utils.plot_model(cgan_model, to_file=dot_img_file, show_shapes=True)"
   ]
  },
  {
   "cell_type": "code",
   "execution_count": 13,
   "metadata": {},
   "outputs": [],
   "source": [
    "def generate_fake_samples(g_model, latent_dim, n_samples, n_classes):\n",
    "    # generate points in latent space\n",
    "    noise_input = generate_latent_points(latent_dim, n_samples)\n",
    "    # generate random class labels\n",
    "    y_types = generate_class_labels(n_samples, n_classes)\n",
    "    # predict outputs\n",
    "    X = g_model.predict([noise_input, y_types], verbose=0)\n",
    "    # # create 'fake' class labels (0)\n",
    "    y_class = tf.zeros((n_samples, 1))\n",
    "    return X, y_types, y_class\n",
    "\n",
    "def generate_latent_points(latent_dim, n_samples):\n",
    "    # generate points in the latent space\n",
    "    x_input = tf.random.normal(shape=(n_samples, latent_dim))\n",
    "    return x_input\n",
    "\n",
    "def generate_class_labels(n_samples, n_classes):\n",
    "    class_labels = np.zeros((n_samples, n_classes))\n",
    "    for i in range(n_samples):\n",
    "        class_labels[i, np.random.randint(0, n_classes)] = 1\n",
    "        if np.random.random() > 0.5:\n",
    "            class_labels[i, np.random.randint(0, n_classes)] = 1\n",
    "    class_labels = tf.convert_to_tensor(class_labels, dtype=tf.float32)\n",
    "    # print(class_labels)\n",
    "    return class_labels\n",
    "\n",
    "def generate_real_samples(dataset, n_samples):\n",
    "    X, y_types, y_class = [], [], []\n",
    "    while len(X) < n_samples:\n",
    "        dataset.shuffle(100)\n",
    "        for x, label in dataset.take(5):\n",
    "            for i in range(len(x)):\n",
    "                X.append(x[i])\n",
    "                y_types.append(label[i][1:])\n",
    "                y_class.append(label[i][0])\n",
    "                if len(X) == n_samples:\n",
    "                    break\n",
    "            if len(X) == n_samples:\n",
    "                break\n",
    "    X = tf.stack(X)\n",
    "    y_types = tf.stack(y_types)\n",
    "    y_class = tf.reshape(tf.stack(y_class), (n_samples, 1))\n",
    "    return X, y_types, y_class"
   ]
  },
  {
   "cell_type": "code",
   "execution_count": 14,
   "metadata": {},
   "outputs": [],
   "source": [
    "def summarize_performance(epoch, g_model, d_model, dataset, latent_dim, n_samples=100):\n",
    "    # prepare real samples\n",
    "    X_real, y_real_types, y_real_class = generate_real_samples(dataset, n_samples)\n",
    "    # print(X_real.shape, y_real_types.shape, y_real_class.shape)\n",
    "    # evaluate discriminator on real examples\n",
    "    _, acc_real = d_model.evaluate([X_real, y_real_types], y_real_class, verbose=0)\n",
    "    # prepare fake examples\n",
    "    x_fake, y_fake_types, y_fake_class = generate_fake_samples(g_model, latent_dim, n_samples, 18)\n",
    "    # evaluate discriminator on fake examples\n",
    "    _, acc_fake = d_model.evaluate([x_fake, y_fake_types], y_fake_class, verbose=0)\n",
    "    # summarize discriminator performance\n",
    "    print('>Accuracy real: %.0f%%, fake: %.0f%%' % (acc_real*100, acc_fake*100))\n",
    "    # save plot\n",
    "    save_plot(x_fake, epoch)\n",
    "    # save the generator model tile file\n",
    "    filename = 'cgenerator_model_64_e%03d.h5' % (epoch+1)\n",
    "    g_model.save(filename)\n",
    "\n",
    "def save_plot(examples, epoch, n=10):\n",
    "    # plot images\n",
    "    for i in range(n * n):\n",
    "        # define subplot\n",
    "        plt.subplot(n, n, 1 + i)\n",
    "        # turn off axis\n",
    "        plt.axis('off')\n",
    "        # scale from [-1,1] to [0,1]\n",
    "        examples[i, :, :, :] = (examples[i, :, :, :] + 1) / 2.0\n",
    "        # plot raw pixel data\n",
    "        plt.imshow(examples[i, :, :, :])\n",
    "    # save plot to file\n",
    "    filename = 'cgenerated_plot_64_e%03d.png' % (epoch+1)\n",
    "    plt.savefig(filename)\n",
    "    plt.close()"
   ]
  },
  {
   "cell_type": "code",
   "execution_count": 57,
   "metadata": {},
   "outputs": [],
   "source": [
    "def train(g_model, d_model, gan_model, dataset, latent_dim, n_epochs=10, n_batch=64, resume_training=0):\n",
    "    # checkpoint_dir = './checkpoints/'\n",
    "    # checkpoint = tf.train.Checkpoint(gan_optimizer=gan_model.optimizer,\n",
    "    #                             discriminator_optimizer=d_model.optimizer,\n",
    "    #                                 generator=g_model,\n",
    "    #                                 discriminator=d_model,\n",
    "    #                                 gan_model = gan_model)\n",
    "    # ckpt_manager = tf.train.CheckpointManager(checkpoint, checkpoint_dir, max_to_keep=3)\n",
    "    bat_per_epo = int(dataset.cardinality())\n",
    "    # print(bat_per_epo)\n",
    "    # manually enumerate epochs\n",
    "    for i in range(n_epochs):\n",
    "        # enumerate batches over the training set\n",
    "        for j, batch in enumerate(dataset):\n",
    "            # get randomly selected 'real' samples\n",
    "            X_real, y_real_types, y_real_class = batch[0], batch[1][:, 1:], batch[1][:, 0]\n",
    "            # print(y_real_types[0])\n",
    "            # plot_image(X_real[0], str(y_real_class[0]), size=64)\n",
    "            half_batch = int(X_real.shape[0])\n",
    "            # generate 'fake' examples\n",
    "            X_fake, y_fake_types, y_fake_class = generate_fake_samples(g_model, latent_dim, half_batch, 18)\n",
    "            # print(y_fake_types[0])\n",
    "            # plot_image(X_fake[0], str(y_fake_class[0]), size=64)\n",
    "            # create training set for the discriminator\n",
    "            y_real_class = tf.reshape(y_real_class, (half_batch, 1))\n",
    "            X, y_types, y_class = tf.concat([X_real, X_fake], axis=0), tf.concat([y_real_types, y_fake_types], axis=0), tf.concat([y_real_class, y_fake_class], axis=0)\n",
    "            # update discriminator model weights\n",
    "            # print(\"\\ntraining on both real and fake for discriminator...\\n\")\n",
    "            d_loss, _ = d_model.train_on_batch([X, y_types], y_class)\n",
    "            # prepare points in latent space as input for the generator\n",
    "            X_gan, y_gan_types, y_gan_class = generate_latent_points(latent_dim, n_batch), generate_class_labels(n_batch, 18), tf.ones((n_batch, 1))\n",
    "            # print(X_gan.shape, y_gan_types.shape, y_gan_class.shape)\n",
    "            # print(y_gan_types[0])\n",
    "            # print(y_gan_class[0])\n",
    "            # print(\"\\ntraining on random latent points for generator...\\n\")\n",
    "            g_loss = gan_model.train_on_batch([X_gan, y_gan_types], y_gan_class)\n",
    "            # summarize loss on this batch\n",
    "            print('>%d, %d/%d, d=%.3f, g=%.3f' % (i+resume_training+1, j+1, bat_per_epo, d_loss, g_loss))\n",
    "            # break\n",
    "        # evaluate the model performance, sometimes\n",
    "        if (i+resume_training) % 10 == 0:\n",
    "            # ckpt_save_path = ckpt_manager.save()\n",
    "            # print ('Saving checkpoint for epoch {} at {}'.format(i+1,ckpt_save_path))\n",
    "            # summarize_performance(i+resume_training, g_model, d_model, dataset, latent_dim)\n",
    "            pass\n",
    "    # save the generator model\n",
    "    # g_model.save('cgenerator_model_64_final.h5')\n"
   ]
  },
  {
   "cell_type": "code",
   "execution_count": 56,
   "metadata": {},
   "outputs": [
    {
     "name": "stdout",
     "output_type": "stream",
     "text": [
      "Saving checkpoint for epoch 1 at ./checkpoints/ckpt-1\n"
     ]
    }
   ],
   "source": [
    "# size of the latent space\n",
    "latent_dim = 100\n",
    "# train model\n",
    "train(cgenerator, cdiscriminator, cgan_model, train_ds, latent_dim, n_epochs=1, resume_training=150)\n"
   ]
  },
  {
   "cell_type": "code",
   "execution_count": 32,
   "metadata": {},
   "outputs": [],
   "source": [
    "import pickle"
   ]
  },
  {
   "cell_type": "code",
   "execution_count": 70,
   "metadata": {},
   "outputs": [
    {
     "name": "stderr",
     "output_type": "stream",
     "text": [
      "WARNING:absl:Found untraced functions such as _jit_compiled_convolution_op, _jit_compiled_convolution_op, _jit_compiled_convolution_op, _jit_compiled_convolution_op, _jit_compiled_convolution_op while saving (showing 5 of 10). These functions will not be directly callable after loading.\n"
     ]
    },
    {
     "name": "stdout",
     "output_type": "stream",
     "text": [
      "INFO:tensorflow:Assets written to: ram://b2e51af8-be0c-45e9-bbbd-6d17d4c68b43/assets\n"
     ]
    },
    {
     "name": "stderr",
     "output_type": "stream",
     "text": [
      "INFO:tensorflow:Assets written to: ram://b2e51af8-be0c-45e9-bbbd-6d17d4c68b43/assets\n",
      "WARNING:absl:Found untraced functions such as _jit_compiled_convolution_op, _jit_compiled_convolution_op, _jit_compiled_convolution_op, _jit_compiled_convolution_op, _jit_compiled_convolution_op while saving (showing 5 of 5). These functions will not be directly callable after loading.\n"
     ]
    },
    {
     "name": "stdout",
     "output_type": "stream",
     "text": [
      "INFO:tensorflow:Assets written to: ram://f303e57a-3273-4e66-93c2-fc5a87ed8a7b/assets\n"
     ]
    },
    {
     "name": "stderr",
     "output_type": "stream",
     "text": [
      "INFO:tensorflow:Assets written to: ram://f303e57a-3273-4e66-93c2-fc5a87ed8a7b/assets\n"
     ]
    },
    {
     "name": "stdout",
     "output_type": "stream",
     "text": [
      "WARNING:tensorflow:Compiled the loaded model, but the compiled metrics have yet to be built. `model.compile_metrics` will be empty until you train or evaluate the model.\n"
     ]
    },
    {
     "name": "stderr",
     "output_type": "stream",
     "text": [
      "WARNING:tensorflow:Compiled the loaded model, but the compiled metrics have yet to be built. `model.compile_metrics` will be empty until you train or evaluate the model.\n",
      "WARNING:absl:Found untraced functions such as _jit_compiled_convolution_op, _jit_compiled_convolution_op, _jit_compiled_convolution_op, _jit_compiled_convolution_op, _jit_compiled_convolution_op while saving (showing 5 of 5). These functions will not be directly callable after loading.\n"
     ]
    },
    {
     "name": "stdout",
     "output_type": "stream",
     "text": [
      "INFO:tensorflow:Assets written to: ram://161664e1-7a08-4b31-b7df-33ac0671e2f0/assets\n"
     ]
    },
    {
     "name": "stderr",
     "output_type": "stream",
     "text": [
      "INFO:tensorflow:Assets written to: ram://161664e1-7a08-4b31-b7df-33ac0671e2f0/assets\n"
     ]
    }
   ],
   "source": [
    "# save model to resume training\n",
    "with open('cgan_model_64_150.pkl', 'wb') as f:\n",
    "    pickle.dump(cgan_model, f)\n",
    "with open('cdiscriminator_64_150.pkl', 'wb') as f:\n",
    "    pickle.dump(cdiscriminator, f)\n",
    "with open('cgenerator_64_150.pkl', 'wb') as f:\n",
    "    pickle.dump(cgenerator, f)"
   ]
  },
  {
   "attachments": {},
   "cell_type": "markdown",
   "metadata": {},
   "source": [
    "test"
   ]
  },
  {
   "cell_type": "code",
   "execution_count": 38,
   "metadata": {},
   "outputs": [
    {
     "name": "stdout",
     "output_type": "stream",
     "text": [
      "WARNING:tensorflow:No training configuration found in the save file, so the model was *not* compiled. Compile it manually.\n",
      "WARNING:tensorflow:Error in loading the saved optimizer state. As a result, your model is starting with a freshly initialized optimizer.\n"
     ]
    },
    {
     "ename": "ValueError",
     "evalue": "You called `set_weights(weights)` on optimizer Adam with a  weight list of length 41, but the optimizer was expecting 1 weights. Provided weights: [57156, array([[[[ 0.15729398,  0.08485835,  0.094...",
     "output_type": "error",
     "traceback": [
      "\u001b[1;31m---------------------------------------------------------------------------\u001b[0m",
      "\u001b[1;31mValueError\u001b[0m                                Traceback (most recent call last)",
      "\u001b[1;32md:\\GAN_poke\\CGAN.ipynb Cell 26\u001b[0m in \u001b[0;36m7\n\u001b[0;32m      <a href='vscode-notebook-cell:/d%3A/GAN_poke/CGAN.ipynb#X33sZmlsZQ%3D%3D?line=4'>5</a>\u001b[0m \u001b[39m# load optimizer state\u001b[39;00m\n\u001b[0;32m      <a href='vscode-notebook-cell:/d%3A/GAN_poke/CGAN.ipynb#X33sZmlsZQ%3D%3D?line=5'>6</a>\u001b[0m \u001b[39mwith\u001b[39;00m \u001b[39mopen\u001b[39m(\u001b[39m'\u001b[39m\u001b[39mcdiscriminator_optimizer_64.pkl\u001b[39m\u001b[39m'\u001b[39m, \u001b[39m'\u001b[39m\u001b[39mrb\u001b[39m\u001b[39m'\u001b[39m) \u001b[39mas\u001b[39;00m f:\n\u001b[1;32m----> <a href='vscode-notebook-cell:/d%3A/GAN_poke/CGAN.ipynb#X33sZmlsZQ%3D%3D?line=6'>7</a>\u001b[0m     discriminator\u001b[39m.\u001b[39;49moptimizer\u001b[39m.\u001b[39;49mset_weights(pickle\u001b[39m.\u001b[39;49mload(f))\n\u001b[0;32m      <a href='vscode-notebook-cell:/d%3A/GAN_poke/CGAN.ipynb#X33sZmlsZQ%3D%3D?line=7'>8</a>\u001b[0m gan_model \u001b[39m=\u001b[39m tf\u001b[39m.\u001b[39mkeras\u001b[39m.\u001b[39mmodels\u001b[39m.\u001b[39mload_model(\u001b[39m'\u001b[39m\u001b[39mcgan_model_64.h5\u001b[39m\u001b[39m'\u001b[39m)\n",
      "File \u001b[1;32mc:\\Users\\valen\\AppData\\Local\\Programs\\Python\\Python310\\lib\\site-packages\\keras\\optimizers\\optimizer_v2\\adam.py:165\u001b[0m, in \u001b[0;36mAdam.set_weights\u001b[1;34m(self, weights)\u001b[0m\n\u001b[0;32m    163\u001b[0m \u001b[39mif\u001b[39;00m \u001b[39mlen\u001b[39m(weights) \u001b[39m==\u001b[39m \u001b[39m3\u001b[39m \u001b[39m*\u001b[39m num_vars \u001b[39m+\u001b[39m \u001b[39m1\u001b[39m:\n\u001b[0;32m    164\u001b[0m     weights \u001b[39m=\u001b[39m weights[: \u001b[39mlen\u001b[39m(params)]\n\u001b[1;32m--> 165\u001b[0m \u001b[39msuper\u001b[39;49m()\u001b[39m.\u001b[39;49mset_weights(weights)\n",
      "File \u001b[1;32mc:\\Users\\valen\\AppData\\Local\\Programs\\Python\\Python310\\lib\\site-packages\\keras\\optimizers\\optimizer_v2\\optimizer_v2.py:1301\u001b[0m, in \u001b[0;36mOptimizerV2.set_weights\u001b[1;34m(self, weights)\u001b[0m\n\u001b[0;32m   1299\u001b[0m params \u001b[39m=\u001b[39m \u001b[39mself\u001b[39m\u001b[39m.\u001b[39mweights\n\u001b[0;32m   1300\u001b[0m \u001b[39mif\u001b[39;00m \u001b[39mlen\u001b[39m(params) \u001b[39m!=\u001b[39m \u001b[39mlen\u001b[39m(weights):\n\u001b[1;32m-> 1301\u001b[0m     \u001b[39mraise\u001b[39;00m \u001b[39mValueError\u001b[39;00m(\n\u001b[0;32m   1302\u001b[0m         \u001b[39mf\u001b[39m\u001b[39m\"\u001b[39m\u001b[39mYou called `set_weights(weights)` on optimizer \u001b[39m\u001b[39m{\u001b[39;00m\u001b[39mself\u001b[39m\u001b[39m.\u001b[39m_name\u001b[39m}\u001b[39;00m\u001b[39m \u001b[39m\u001b[39m\"\u001b[39m\n\u001b[0;32m   1303\u001b[0m         \u001b[39mf\u001b[39m\u001b[39m\"\u001b[39m\u001b[39mwith a  weight list of length \u001b[39m\u001b[39m{\u001b[39;00m\u001b[39mstr\u001b[39m(\u001b[39mlen\u001b[39m(weights))\u001b[39m}\u001b[39;00m\u001b[39m, \u001b[39m\u001b[39m\"\u001b[39m\n\u001b[0;32m   1304\u001b[0m         \u001b[39mf\u001b[39m\u001b[39m\"\u001b[39m\u001b[39mbut the optimizer was expecting \u001b[39m\u001b[39m{\u001b[39;00m\u001b[39mstr\u001b[39m(\u001b[39mlen\u001b[39m(params))\u001b[39m}\u001b[39;00m\u001b[39m \u001b[39m\u001b[39m\"\u001b[39m\n\u001b[0;32m   1305\u001b[0m         \u001b[39mf\u001b[39m\u001b[39m\"\u001b[39m\u001b[39mweights. Provided weights: \u001b[39m\u001b[39m{\u001b[39;00m\u001b[39mstr\u001b[39m(weights)[:\u001b[39m50\u001b[39m]\u001b[39m}\u001b[39;00m\u001b[39m...\u001b[39m\u001b[39m\"\u001b[39m\n\u001b[0;32m   1306\u001b[0m     )\n\u001b[0;32m   1307\u001b[0m \u001b[39mif\u001b[39;00m \u001b[39mnot\u001b[39;00m params:\n\u001b[0;32m   1308\u001b[0m     \u001b[39mreturn\u001b[39;00m\n",
      "\u001b[1;31mValueError\u001b[0m: You called `set_weights(weights)` on optimizer Adam with a  weight list of length 41, but the optimizer was expecting 1 weights. Provided weights: [57156, array([[[[ 0.15729398,  0.08485835,  0.094..."
     ]
    }
   ],
   "source": [
    "generator = tf.keras.models.load_model('cgenerator_model_64_final.h5')\n",
    "# discriminator = define_cdiscriminator((64, 64, 3), 18)\n",
    "# discriminator.load_weights('cdiscriminator_model_64.h5')\n",
    "discriminator = tf.keras.models.load_model('cdiscriminator_model_64.h5')\n",
    "# load optimizer state\n",
    "with open('cdiscriminator_optimizer_64.pkl', 'rb') as f:\n",
    "    discriminator.optimizer.set_weights(pickle.load(f))\n",
    "gan_model = tf.keras.models.load_model('cgan_model_64.h5')"
   ]
  },
  {
   "cell_type": "code",
   "execution_count": 54,
   "metadata": {},
   "outputs": [
    {
     "name": "stdout",
     "output_type": "stream",
     "text": [
      "WARNING:tensorflow:Inconsistent references when loading the checkpoint into this object graph. For example, in the saved checkpoint object, `model.layer.weight` and `model.layer_copy.weight` reference the same variable, while in the current object these are two different variables. The referenced variables are:(<keras.engine.functional.Functional object at 0x000002DC82DA7340> and <keras.engine.functional.Functional object at 0x000002DC8722DE70>).\n",
      "WARNING:tensorflow:Inconsistent references when loading the checkpoint into this object graph. For example, in the saved checkpoint object, `model.layer.weight` and `model.layer_copy.weight` reference the same variable, while in the current object these are two different variables. The referenced variables are:(<keras.engine.functional.Functional object at 0x000002DC82DA7340> and <keras.engine.functional.Functional object at 0x000002DC8722DE70>).\n",
      "WARNING:tensorflow:Inconsistent references when loading the checkpoint into this object graph. For example, in the saved checkpoint object, `model.layer.weight` and `model.layer_copy.weight` reference the same variable, while in the current object these are two different variables. The referenced variables are:(<keras.engine.input_layer.InputLayer object at 0x000002DC875258A0> and <keras.engine.input_layer.InputLayer object at 0x000002DC82D6A050>).\n",
      "WARNING:tensorflow:Inconsistent references when loading the checkpoint into this object graph. For example, in the saved checkpoint object, `model.layer.weight` and `model.layer_copy.weight` reference the same variable, while in the current object these are two different variables. The referenced variables are:(<keras.engine.input_layer.InputLayer object at 0x000002DC87525900> and <keras.engine.input_layer.InputLayer object at 0x000002DC82D68880>).\n",
      "WARNING:tensorflow:Inconsistent references when loading the checkpoint into this object graph. For example, in the saved checkpoint object, `model.layer.weight` and `model.layer_copy.weight` reference the same variable, while in the current object these are two different variables. The referenced variables are:(<keras.layers.merging.concatenate.Concatenate object at 0x000002DC87525E40> and <keras.layers.merging.concatenate.Concatenate object at 0x000002DC998306A0>).\n",
      "WARNING:tensorflow:Inconsistent references when loading the checkpoint into this object graph. For example, in the saved checkpoint object, `model.layer.weight` and `model.layer_copy.weight` reference the same variable, while in the current object these are two different variables. The referenced variables are:(<keras.layers.core.dense.Dense object at 0x000002DC87525F90> and <keras.layers.core.dense.Dense object at 0x000002DC998308B0>).\n",
      "WARNING:tensorflow:Inconsistent references when loading the checkpoint into this object graph. For example, in the saved checkpoint object, `model.layer.weight` and `model.layer_copy.weight` reference the same variable, while in the current object these are two different variables. The referenced variables are:(<keras.layers.core.dense.Dense object at 0x000002DC87525F90> and <keras.layers.core.dense.Dense object at 0x000002DC998308B0>).\n",
      "WARNING:tensorflow:Inconsistent references when loading the checkpoint into this object graph. For example, in the saved checkpoint object, `model.layer.weight` and `model.layer_copy.weight` reference the same variable, while in the current object these are two different variables. The referenced variables are:(<keras.layers.reshaping.reshape.Reshape object at 0x000002DC875260E0> and <keras.layers.reshaping.reshape.Reshape object at 0x000002DC99831F60>).\n",
      "WARNING:tensorflow:Inconsistent references when loading the checkpoint into this object graph. For example, in the saved checkpoint object, `model.layer.weight` and `model.layer_copy.weight` reference the same variable, while in the current object these are two different variables. The referenced variables are:(<keras.layers.convolutional.conv2d_transpose.Conv2DTranspose object at 0x000002DC87526020> and <keras.layers.convolutional.conv2d_transpose.Conv2DTranspose object at 0x000002DC99833A60>).\n",
      "WARNING:tensorflow:Inconsistent references when loading the checkpoint into this object graph. For example, in the saved checkpoint object, `model.layer.weight` and `model.layer_copy.weight` reference the same variable, while in the current object these are two different variables. The referenced variables are:(<keras.layers.convolutional.conv2d_transpose.Conv2DTranspose object at 0x000002DC87526020> and <keras.layers.convolutional.conv2d_transpose.Conv2DTranspose object at 0x000002DC99833A60>).\n",
      "WARNING:tensorflow:Inconsistent references when loading the checkpoint into this object graph. For example, in the saved checkpoint object, `model.layer.weight` and `model.layer_copy.weight` reference the same variable, while in the current object these are two different variables. The referenced variables are:(<keras.layers.activation.leaky_relu.LeakyReLU object at 0x000002DC87526560> and <keras.layers.activation.leaky_relu.LeakyReLU object at 0x000002DC7A9008B0>).\n",
      "WARNING:tensorflow:Inconsistent references when loading the checkpoint into this object graph. For example, in the saved checkpoint object, `model.layer.weight` and `model.layer_copy.weight` reference the same variable, while in the current object these are two different variables. The referenced variables are:(<keras.layers.convolutional.conv2d_transpose.Conv2DTranspose object at 0x000002DC87526740> and <keras.layers.convolutional.conv2d_transpose.Conv2DTranspose object at 0x000002DC82D68190>).\n",
      "WARNING:tensorflow:Inconsistent references when loading the checkpoint into this object graph. For example, in the saved checkpoint object, `model.layer.weight` and `model.layer_copy.weight` reference the same variable, while in the current object these are two different variables. The referenced variables are:(<keras.layers.convolutional.conv2d_transpose.Conv2DTranspose object at 0x000002DC87526740> and <keras.layers.convolutional.conv2d_transpose.Conv2DTranspose object at 0x000002DC82D68190>).\n",
      "WARNING:tensorflow:Inconsistent references when loading the checkpoint into this object graph. For example, in the saved checkpoint object, `model.layer.weight` and `model.layer_copy.weight` reference the same variable, while in the current object these are two different variables. The referenced variables are:(<keras.layers.activation.leaky_relu.LeakyReLU object at 0x000002DC87526BC0> and <keras.layers.activation.leaky_relu.LeakyReLU object at 0x000002DC82CE9EA0>).\n",
      "WARNING:tensorflow:Inconsistent references when loading the checkpoint into this object graph. For example, in the saved checkpoint object, `model.layer.weight` and `model.layer_copy.weight` reference the same variable, while in the current object these are two different variables. The referenced variables are:(<keras.layers.convolutional.conv2d_transpose.Conv2DTranspose object at 0x000002DC87526E00> and <keras.layers.convolutional.conv2d_transpose.Conv2DTranspose object at 0x000002DC82D6A440>).\n",
      "WARNING:tensorflow:Inconsistent references when loading the checkpoint into this object graph. For example, in the saved checkpoint object, `model.layer.weight` and `model.layer_copy.weight` reference the same variable, while in the current object these are two different variables. The referenced variables are:(<keras.layers.convolutional.conv2d_transpose.Conv2DTranspose object at 0x000002DC87526E00> and <keras.layers.convolutional.conv2d_transpose.Conv2DTranspose object at 0x000002DC82D6A440>).\n",
      "WARNING:tensorflow:Inconsistent references when loading the checkpoint into this object graph. For example, in the saved checkpoint object, `model.layer.weight` and `model.layer_copy.weight` reference the same variable, while in the current object these are two different variables. The referenced variables are:(<keras.layers.activation.leaky_relu.LeakyReLU object at 0x000002DC87527280> and <keras.layers.activation.leaky_relu.LeakyReLU object at 0x000002DC82CEBDC0>).\n",
      "WARNING:tensorflow:Inconsistent references when loading the checkpoint into this object graph. For example, in the saved checkpoint object, `model.layer.weight` and `model.layer_copy.weight` reference the same variable, while in the current object these are two different variables. The referenced variables are:(<keras.layers.convolutional.conv2d_transpose.Conv2DTranspose object at 0x000002DC875274C0> and <keras.layers.convolutional.conv2d_transpose.Conv2DTranspose object at 0x000002DC82CE95A0>).\n",
      "WARNING:tensorflow:Inconsistent references when loading the checkpoint into this object graph. For example, in the saved checkpoint object, `model.layer.weight` and `model.layer_copy.weight` reference the same variable, while in the current object these are two different variables. The referenced variables are:(<keras.layers.convolutional.conv2d_transpose.Conv2DTranspose object at 0x000002DC875274C0> and <keras.layers.convolutional.conv2d_transpose.Conv2DTranspose object at 0x000002DC82CE95A0>).\n",
      "WARNING:tensorflow:Inconsistent references when loading the checkpoint into this object graph. For example, in the saved checkpoint object, `model.layer.weight` and `model.layer_copy.weight` reference the same variable, while in the current object these are two different variables. The referenced variables are:(<keras.layers.activation.leaky_relu.LeakyReLU object at 0x000002DC87527940> and <keras.layers.activation.leaky_relu.LeakyReLU object at 0x000002DC82CE1840>).\n",
      "WARNING:tensorflow:Inconsistent references when loading the checkpoint into this object graph. For example, in the saved checkpoint object, `model.layer.weight` and `model.layer_copy.weight` reference the same variable, while in the current object these are two different variables. The referenced variables are:(<keras.layers.convolutional.conv2d.Conv2D object at 0x000002DC87527B50> and <keras.layers.convolutional.conv2d.Conv2D object at 0x000002DC82CE82B0>).\n",
      "WARNING:tensorflow:Inconsistent references when loading the checkpoint into this object graph. For example, in the saved checkpoint object, `model.layer.weight` and `model.layer_copy.weight` reference the same variable, while in the current object these are two different variables. The referenced variables are:(<keras.layers.convolutional.conv2d.Conv2D object at 0x000002DC87527B50> and <keras.layers.convolutional.conv2d.Conv2D object at 0x000002DC82CE82B0>).\n"
     ]
    },
    {
     "data": {
      "text/plain": [
       "'./checkpoints/ckpt-1'"
      ]
     },
     "execution_count": 54,
     "metadata": {},
     "output_type": "execute_result"
    }
   ],
   "source": [
    "# load model from ./checkpoints\n",
    "checkpoint_dir = './checkpoints/'\n",
    "checkpoint = tf.train.Checkpoint(gan_optimizer=gan_model.optimizer,\n",
    "                                discriminator_optimizer=discriminator.optimizer,\n",
    "\n",
    "                                    generator=generator,\n",
    "                                    discriminator=discriminator,\n",
    "                                    gan_model = gan_model)\n",
    "ckpt_manager = tf.train.CheckpointManager(checkpoint, checkpoint_dir, max_to_keep=3)\n",
    "ckpt_manager.restore_or_initialize()\n"
   ]
  },
  {
   "cell_type": "code",
   "execution_count": 58,
   "metadata": {},
   "outputs": [
    {
     "name": "stdout",
     "output_type": "stream",
     "text": [
      ">151, 1/433, d=0.106, g=2.799\n",
      ">151, 2/433, d=0.128, g=2.816\n",
      ">151, 3/433, d=0.146, g=3.102\n",
      ">151, 4/433, d=0.147, g=2.906\n",
      ">151, 5/433, d=0.093, g=3.158\n",
      ">151, 6/433, d=0.042, g=2.776\n",
      ">151, 7/433, d=0.060, g=2.803\n",
      ">151, 8/433, d=0.076, g=2.228\n",
      ">151, 9/433, d=0.139, g=2.613\n",
      ">151, 10/433, d=0.185, g=2.321\n",
      ">151, 11/433, d=0.158, g=2.132\n",
      ">151, 12/433, d=0.110, g=2.301\n",
      ">151, 13/433, d=0.216, g=2.586\n",
      ">151, 14/433, d=0.169, g=2.202\n",
      ">151, 15/433, d=0.126, g=2.279\n",
      ">151, 16/433, d=0.080, g=2.145\n",
      ">151, 17/433, d=0.085, g=2.272\n",
      ">151, 18/433, d=0.178, g=2.094\n",
      ">151, 19/433, d=0.182, g=2.017\n",
      ">151, 20/433, d=0.142, g=1.983\n",
      ">151, 21/433, d=0.168, g=2.026\n",
      ">151, 22/433, d=0.125, g=1.542\n",
      ">151, 23/433, d=0.084, g=1.294\n",
      ">151, 24/433, d=0.209, g=1.146\n",
      ">151, 25/433, d=0.144, g=0.755\n",
      ">151, 26/433, d=0.207, g=0.675\n",
      ">151, 27/433, d=0.096, g=0.646\n",
      ">151, 28/433, d=0.109, g=1.049\n",
      ">151, 29/433, d=0.198, g=1.056\n",
      ">151, 30/433, d=0.057, g=0.663\n",
      ">151, 31/433, d=0.111, g=0.628\n",
      ">151, 32/433, d=0.055, g=0.492\n",
      ">151, 33/433, d=0.159, g=0.789\n",
      ">151, 34/433, d=0.151, g=0.628\n",
      ">151, 35/433, d=0.165, g=0.601\n",
      ">151, 36/433, d=0.224, g=0.346\n",
      ">151, 37/433, d=0.117, g=0.254\n",
      ">151, 38/433, d=0.075, g=0.484\n",
      ">151, 39/433, d=0.174, g=0.475\n",
      ">151, 40/433, d=0.100, g=0.367\n",
      ">151, 41/433, d=0.147, g=0.298\n",
      ">151, 42/433, d=0.116, g=0.133\n",
      ">151, 43/433, d=0.154, g=0.262\n",
      ">151, 44/433, d=0.136, g=0.107\n",
      ">151, 45/433, d=0.147, g=0.205\n",
      ">151, 46/433, d=0.104, g=0.202\n",
      ">151, 47/433, d=0.116, g=0.141\n",
      ">151, 48/433, d=0.059, g=0.047\n",
      ">151, 49/433, d=0.118, g=0.120\n",
      ">151, 50/433, d=0.123, g=0.179\n",
      ">151, 51/433, d=0.134, g=0.124\n",
      ">151, 52/433, d=0.168, g=0.128\n",
      ">151, 53/433, d=0.133, g=0.193\n",
      ">151, 54/433, d=0.156, g=0.040\n",
      ">151, 55/433, d=0.080, g=0.098\n",
      ">151, 56/433, d=0.105, g=0.003\n",
      ">151, 57/433, d=0.141, g=0.004\n",
      ">151, 58/433, d=0.134, g=0.196\n",
      ">151, 59/433, d=0.174, g=0.172\n",
      ">151, 60/433, d=0.173, g=0.219\n",
      ">151, 61/433, d=0.114, g=0.146\n",
      ">151, 62/433, d=0.170, g=0.046\n",
      ">151, 63/433, d=0.151, g=0.032\n",
      ">151, 64/433, d=0.150, g=0.041\n",
      ">151, 65/433, d=0.086, g=0.051\n",
      ">151, 66/433, d=0.166, g=0.007\n",
      ">151, 67/433, d=0.130, g=0.030\n",
      ">151, 68/433, d=0.091, g=0.119\n",
      ">151, 69/433, d=0.111, g=0.048\n",
      ">151, 70/433, d=0.100, g=0.007\n",
      ">151, 71/433, d=0.091, g=0.054\n",
      ">151, 72/433, d=0.158, g=0.105\n",
      ">151, 73/433, d=0.135, g=0.024\n",
      ">151, 74/433, d=0.161, g=0.002\n",
      ">151, 75/433, d=0.080, g=0.028\n",
      ">151, 76/433, d=0.114, g=0.004\n",
      ">151, 77/433, d=0.084, g=0.008\n",
      ">151, 78/433, d=0.195, g=0.004\n",
      ">151, 79/433, d=0.107, g=0.001\n",
      ">151, 80/433, d=0.132, g=0.119\n",
      ">151, 81/433, d=0.036, g=0.098\n",
      ">151, 82/433, d=0.094, g=0.014\n",
      ">151, 83/433, d=0.096, g=0.003\n",
      ">151, 84/433, d=0.126, g=0.010\n",
      ">151, 85/433, d=0.094, g=0.014\n",
      ">151, 86/433, d=0.098, g=0.005\n",
      ">151, 87/433, d=0.166, g=0.050\n",
      ">151, 88/433, d=0.182, g=0.009\n",
      ">151, 89/433, d=0.113, g=0.008\n",
      ">151, 90/433, d=0.118, g=0.020\n",
      ">151, 91/433, d=0.119, g=0.001\n",
      ">151, 92/433, d=0.183, g=0.004\n",
      ">151, 93/433, d=0.073, g=0.012\n",
      ">151, 94/433, d=0.124, g=0.061\n",
      ">151, 95/433, d=0.051, g=0.000\n",
      ">151, 96/433, d=0.108, g=0.105\n",
      ">151, 97/433, d=0.211, g=0.006\n",
      ">151, 98/433, d=0.133, g=0.001\n",
      ">151, 99/433, d=0.081, g=0.000\n",
      ">151, 100/433, d=0.116, g=0.051\n",
      ">151, 101/433, d=0.239, g=0.109\n",
      ">151, 102/433, d=0.182, g=0.000\n",
      ">151, 103/433, d=0.135, g=0.015\n",
      ">151, 104/433, d=0.096, g=0.050\n",
      ">151, 105/433, d=0.240, g=0.022\n",
      ">151, 106/433, d=0.067, g=0.000\n",
      ">151, 107/433, d=0.117, g=0.054\n",
      ">151, 108/433, d=0.121, g=0.031\n",
      ">151, 109/433, d=0.154, g=0.000\n",
      ">151, 110/433, d=0.135, g=0.002\n",
      ">151, 111/433, d=0.184, g=0.058\n",
      ">151, 112/433, d=0.282, g=0.000\n",
      ">151, 113/433, d=0.130, g=0.019\n",
      ">151, 114/433, d=0.113, g=0.000\n",
      ">151, 115/433, d=0.120, g=0.016\n",
      ">151, 116/433, d=0.151, g=0.001\n",
      ">151, 117/433, d=0.122, g=0.008\n",
      ">151, 118/433, d=0.122, g=0.117\n",
      ">151, 119/433, d=0.068, g=0.001\n",
      ">151, 120/433, d=0.109, g=0.012\n",
      ">151, 121/433, d=0.179, g=0.002\n",
      ">151, 122/433, d=0.104, g=0.000\n",
      ">151, 123/433, d=0.100, g=0.002\n",
      ">151, 124/433, d=0.169, g=0.016\n",
      ">151, 125/433, d=0.121, g=0.000\n",
      ">151, 126/433, d=0.107, g=0.001\n",
      ">151, 127/433, d=0.157, g=0.063\n",
      ">151, 128/433, d=0.112, g=0.009\n",
      ">151, 129/433, d=0.098, g=0.001\n",
      ">151, 130/433, d=0.117, g=0.006\n",
      ">151, 131/433, d=0.079, g=0.002\n",
      ">151, 132/433, d=0.088, g=0.002\n",
      ">151, 133/433, d=0.162, g=0.000\n",
      ">151, 134/433, d=0.049, g=0.001\n",
      ">151, 135/433, d=0.156, g=0.001\n",
      ">151, 136/433, d=0.151, g=0.004\n",
      ">151, 137/433, d=0.185, g=0.004\n",
      ">151, 138/433, d=0.174, g=0.001\n",
      ">151, 139/433, d=0.169, g=0.000\n",
      ">151, 140/433, d=0.142, g=0.000\n",
      ">151, 141/433, d=0.185, g=0.006\n",
      ">151, 142/433, d=0.116, g=0.003\n",
      ">151, 143/433, d=0.102, g=0.001\n",
      ">151, 144/433, d=0.102, g=0.000\n",
      ">151, 145/433, d=0.118, g=0.003\n",
      ">151, 146/433, d=0.117, g=0.009\n",
      ">151, 147/433, d=0.093, g=0.016\n",
      ">151, 148/433, d=0.167, g=0.000\n",
      ">151, 149/433, d=0.100, g=0.000\n",
      ">151, 150/433, d=0.103, g=0.001\n",
      ">151, 151/433, d=0.114, g=0.000\n",
      ">151, 152/433, d=0.135, g=0.015\n",
      ">151, 153/433, d=0.109, g=0.000\n",
      ">151, 154/433, d=0.063, g=0.000\n",
      ">151, 155/433, d=0.063, g=0.000\n",
      ">151, 156/433, d=0.210, g=0.000\n",
      ">151, 157/433, d=0.082, g=0.000\n",
      ">151, 158/433, d=0.138, g=0.000\n",
      ">151, 159/433, d=0.061, g=0.046\n",
      ">151, 160/433, d=0.108, g=0.000\n",
      ">151, 161/433, d=0.225, g=0.000\n",
      ">151, 162/433, d=0.130, g=0.095\n",
      ">151, 163/433, d=0.064, g=0.003\n",
      ">151, 164/433, d=0.110, g=0.003\n",
      ">151, 165/433, d=0.108, g=0.000\n",
      ">151, 166/433, d=0.139, g=0.000\n",
      ">151, 167/433, d=0.238, g=0.000\n",
      ">151, 168/433, d=0.084, g=0.001\n",
      ">151, 169/433, d=0.103, g=0.000\n",
      ">151, 170/433, d=0.087, g=0.009\n",
      ">151, 171/433, d=0.149, g=0.001\n",
      ">151, 172/433, d=0.097, g=0.013\n",
      ">151, 173/433, d=0.109, g=0.001\n",
      ">151, 174/433, d=0.142, g=0.001\n",
      ">151, 175/433, d=0.060, g=0.003\n",
      ">151, 176/433, d=0.123, g=0.000\n",
      ">151, 177/433, d=0.098, g=0.014\n",
      ">151, 178/433, d=0.154, g=0.010\n",
      ">151, 179/433, d=0.173, g=0.000\n",
      ">151, 180/433, d=0.147, g=0.007\n",
      ">151, 181/433, d=0.179, g=0.000\n",
      ">151, 182/433, d=0.055, g=0.000\n",
      ">151, 183/433, d=0.090, g=0.001\n",
      ">151, 184/433, d=0.217, g=0.005\n",
      ">151, 185/433, d=0.162, g=0.000\n",
      ">151, 186/433, d=0.094, g=0.000\n",
      ">151, 187/433, d=0.110, g=0.000\n",
      ">151, 188/433, d=0.179, g=0.040\n",
      ">151, 189/433, d=0.209, g=0.000\n",
      ">151, 190/433, d=0.095, g=0.000\n",
      ">151, 191/433, d=0.058, g=0.002\n",
      ">151, 192/433, d=0.216, g=0.031\n",
      ">151, 193/433, d=0.073, g=0.000\n",
      ">151, 194/433, d=0.060, g=0.000\n",
      ">151, 195/433, d=0.140, g=0.000\n",
      ">151, 196/433, d=0.128, g=0.000\n",
      ">151, 197/433, d=0.116, g=0.000\n",
      ">151, 198/433, d=0.144, g=0.000\n",
      ">151, 199/433, d=0.101, g=0.000\n",
      ">151, 200/433, d=0.140, g=0.010\n",
      ">151, 201/433, d=0.048, g=0.000\n",
      ">151, 202/433, d=0.137, g=0.020\n",
      ">151, 203/433, d=0.074, g=0.000\n",
      ">151, 204/433, d=0.129, g=0.000\n",
      ">151, 205/433, d=0.140, g=0.000\n",
      ">151, 206/433, d=0.103, g=0.028\n",
      ">151, 207/433, d=0.106, g=0.000\n",
      ">151, 208/433, d=0.229, g=0.000\n"
     ]
    },
    {
     "ename": "KeyboardInterrupt",
     "evalue": "",
     "output_type": "error",
     "traceback": [
      "\u001b[1;31m---------------------------------------------------------------------------\u001b[0m",
      "\u001b[1;31mKeyboardInterrupt\u001b[0m                         Traceback (most recent call last)",
      "\u001b[1;32md:\\GAN_poke\\CGAN.ipynb Cell 29\u001b[0m in \u001b[0;36m2\n\u001b[0;32m      <a href='vscode-notebook-cell:/d%3A/GAN_poke/CGAN.ipynb#X52sZmlsZQ%3D%3D?line=0'>1</a>\u001b[0m \u001b[39m# resume training\u001b[39;00m\n\u001b[1;32m----> <a href='vscode-notebook-cell:/d%3A/GAN_poke/CGAN.ipynb#X52sZmlsZQ%3D%3D?line=1'>2</a>\u001b[0m train(generator, discriminator, gan_model, train_ds, latent_dim, n_epochs\u001b[39m=\u001b[39;49m\u001b[39m1\u001b[39;49m, resume_training\u001b[39m=\u001b[39;49m\u001b[39m150\u001b[39;49m)\n",
      "\u001b[1;32md:\\GAN_poke\\CGAN.ipynb Cell 29\u001b[0m in \u001b[0;36m2\n\u001b[0;32m     <a href='vscode-notebook-cell:/d%3A/GAN_poke/CGAN.ipynb#X52sZmlsZQ%3D%3D?line=25'>26</a>\u001b[0m X, y_types, y_class \u001b[39m=\u001b[39m tf\u001b[39m.\u001b[39mconcat([X_real, X_fake], axis\u001b[39m=\u001b[39m\u001b[39m0\u001b[39m), tf\u001b[39m.\u001b[39mconcat([y_real_types, y_fake_types], axis\u001b[39m=\u001b[39m\u001b[39m0\u001b[39m), tf\u001b[39m.\u001b[39mconcat([y_real_class, y_fake_class], axis\u001b[39m=\u001b[39m\u001b[39m0\u001b[39m)\n\u001b[0;32m     <a href='vscode-notebook-cell:/d%3A/GAN_poke/CGAN.ipynb#X52sZmlsZQ%3D%3D?line=26'>27</a>\u001b[0m \u001b[39m# update discriminator model weights\u001b[39;00m\n\u001b[0;32m     <a href='vscode-notebook-cell:/d%3A/GAN_poke/CGAN.ipynb#X52sZmlsZQ%3D%3D?line=27'>28</a>\u001b[0m \u001b[39m# print(\"\\ntraining on both real and fake for discriminator...\\n\")\u001b[39;00m\n\u001b[1;32m---> <a href='vscode-notebook-cell:/d%3A/GAN_poke/CGAN.ipynb#X52sZmlsZQ%3D%3D?line=28'>29</a>\u001b[0m d_loss, _ \u001b[39m=\u001b[39m d_model\u001b[39m.\u001b[39;49mtrain_on_batch([X, y_types], y_class)\n\u001b[0;32m     <a href='vscode-notebook-cell:/d%3A/GAN_poke/CGAN.ipynb#X52sZmlsZQ%3D%3D?line=29'>30</a>\u001b[0m \u001b[39m# prepare points in latent space as input for the generator\u001b[39;00m\n\u001b[0;32m     <a href='vscode-notebook-cell:/d%3A/GAN_poke/CGAN.ipynb#X52sZmlsZQ%3D%3D?line=30'>31</a>\u001b[0m X_gan, y_gan_types, y_gan_class \u001b[39m=\u001b[39m generate_latent_points(latent_dim, n_batch), generate_class_labels(n_batch, \u001b[39m18\u001b[39m), tf\u001b[39m.\u001b[39mones((n_batch, \u001b[39m1\u001b[39m))\n",
      "\u001b[1;31mKeyboardInterrupt\u001b[0m: "
     ]
    }
   ],
   "source": [
    "# resume training\n",
    "train(generator, discriminator, gan_model, train_ds, latent_dim, n_epochs=1, resume_training=150)"
   ]
  },
  {
   "cell_type": "code",
   "execution_count": 17,
   "metadata": {},
   "outputs": [
    {
     "name": "stdout",
     "output_type": "stream",
     "text": [
      "WARNING:tensorflow:No training configuration found in the save file, so the model was *not* compiled. Compile it manually.\n",
      "WARNING:tensorflow:Error in loading the saved optimizer state. As a result, your model is starting with a freshly initialized optimizer.\n"
     ]
    }
   ],
   "source": [
    "generator = tf.keras.models.load_model('cgenerator_model_64_e131.h5')\n",
    "discriminator = tf.keras.models.load_model('cdiscriminator_model_64.h5')"
   ]
  },
  {
   "cell_type": "code",
   "execution_count": 492,
   "metadata": {},
   "outputs": [
    {
     "data": {
      "application/vnd.plotly.v1+json": {
       "config": {
        "plotlyServerURL": "https://plot.ly"
       },
       "data": [
        {
         "hovertemplate": "x: %{x}<br>y: %{y}<extra></extra>",
         "name": "0",
         "source": "data:image/png;base64,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",
         "type": "image",
         "xaxis": "x",
         "yaxis": "y"
        }
       ],
       "layout": {
        "annotations": [
         {
          "align": "left",
          "bgcolor": "#ff7f0e",
          "bordercolor": "#c7c7c7",
          "borderpad": 2,
          "borderwidth": 1,
          "font": {
           "color": "#ffffff",
           "family": "Courier New, monospace",
           "size": 12
          },
          "opacity": 0.8,
          "showarrow": false,
          "text": "real: 0%",
          "x": 1,
          "xref": "paper",
          "y": 1,
          "yref": "paper"
         }
        ],
        "height": 350,
        "images": [
         {
          "layer": "below",
          "sizex": 0.3,
          "sizey": 0.3,
          "source": "images/final/real/1.png",
          "x": 1,
          "xref": "paper",
          "y": 1.1,
          "yref": "paper"
         }
        ],
        "margin": {
         "l": 0,
         "t": 60
        },
        "shapes": [
         {
          "line": {
           "color": "black",
           "width": 2
          },
          "type": "rect",
          "x0": 0,
          "x1": 96,
          "xref": "x",
          "y0": 0,
          "y1": 96,
          "yref": "y"
         }
        ],
        "template": {
         "data": {
          "bar": [
           {
            "error_x": {
             "color": "#2a3f5f"
            },
            "error_y": {
             "color": "#2a3f5f"
            },
            "marker": {
             "line": {
              "color": "#E5ECF6",
              "width": 0.5
             },
             "pattern": {
              "fillmode": "overlay",
              "size": 10,
              "solidity": 0.2
             }
            },
            "type": "bar"
           }
          ],
          "barpolar": [
           {
            "marker": {
             "line": {
              "color": "#E5ECF6",
              "width": 0.5
             },
             "pattern": {
              "fillmode": "overlay",
              "size": 10,
              "solidity": 0.2
             }
            },
            "type": "barpolar"
           }
          ],
          "carpet": [
           {
            "aaxis": {
             "endlinecolor": "#2a3f5f",
             "gridcolor": "white",
             "linecolor": "white",
             "minorgridcolor": "white",
             "startlinecolor": "#2a3f5f"
            },
            "baxis": {
             "endlinecolor": "#2a3f5f",
             "gridcolor": "white",
             "linecolor": "white",
             "minorgridcolor": "white",
             "startlinecolor": "#2a3f5f"
            },
            "type": "carpet"
           }
          ],
          "choropleth": [
           {
            "colorbar": {
             "outlinewidth": 0,
             "ticks": ""
            },
            "type": "choropleth"
           }
          ],
          "contour": [
           {
            "colorbar": {
             "outlinewidth": 0,
             "ticks": ""
            },
            "colorscale": [
             [
              0,
              "#0d0887"
             ],
             [
              0.1111111111111111,
              "#46039f"
             ],
             [
              0.2222222222222222,
              "#7201a8"
             ],
             [
              0.3333333333333333,
              "#9c179e"
             ],
             [
              0.4444444444444444,
              "#bd3786"
             ],
             [
              0.5555555555555556,
              "#d8576b"
             ],
             [
              0.6666666666666666,
              "#ed7953"
             ],
             [
              0.7777777777777778,
              "#fb9f3a"
             ],
             [
              0.8888888888888888,
              "#fdca26"
             ],
             [
              1,
              "#f0f921"
             ]
            ],
            "type": "contour"
           }
          ],
          "contourcarpet": [
           {
            "colorbar": {
             "outlinewidth": 0,
             "ticks": ""
            },
            "type": "contourcarpet"
           }
          ],
          "heatmap": [
           {
            "colorbar": {
             "outlinewidth": 0,
             "ticks": ""
            },
            "colorscale": [
             [
              0,
              "#0d0887"
             ],
             [
              0.1111111111111111,
              "#46039f"
             ],
             [
              0.2222222222222222,
              "#7201a8"
             ],
             [
              0.3333333333333333,
              "#9c179e"
             ],
             [
              0.4444444444444444,
              "#bd3786"
             ],
             [
              0.5555555555555556,
              "#d8576b"
             ],
             [
              0.6666666666666666,
              "#ed7953"
             ],
             [
              0.7777777777777778,
              "#fb9f3a"
             ],
             [
              0.8888888888888888,
              "#fdca26"
             ],
             [
              1,
              "#f0f921"
             ]
            ],
            "type": "heatmap"
           }
          ],
          "heatmapgl": [
           {
            "colorbar": {
             "outlinewidth": 0,
             "ticks": ""
            },
            "colorscale": [
             [
              0,
              "#0d0887"
             ],
             [
              0.1111111111111111,
              "#46039f"
             ],
             [
              0.2222222222222222,
              "#7201a8"
             ],
             [
              0.3333333333333333,
              "#9c179e"
             ],
             [
              0.4444444444444444,
              "#bd3786"
             ],
             [
              0.5555555555555556,
              "#d8576b"
             ],
             [
              0.6666666666666666,
              "#ed7953"
             ],
             [
              0.7777777777777778,
              "#fb9f3a"
             ],
             [
              0.8888888888888888,
              "#fdca26"
             ],
             [
              1,
              "#f0f921"
             ]
            ],
            "type": "heatmapgl"
           }
          ],
          "histogram": [
           {
            "marker": {
             "pattern": {
              "fillmode": "overlay",
              "size": 10,
              "solidity": 0.2
             }
            },
            "type": "histogram"
           }
          ],
          "histogram2d": [
           {
            "colorbar": {
             "outlinewidth": 0,
             "ticks": ""
            },
            "colorscale": [
             [
              0,
              "#0d0887"
             ],
             [
              0.1111111111111111,
              "#46039f"
             ],
             [
              0.2222222222222222,
              "#7201a8"
             ],
             [
              0.3333333333333333,
              "#9c179e"
             ],
             [
              0.4444444444444444,
              "#bd3786"
             ],
             [
              0.5555555555555556,
              "#d8576b"
             ],
             [
              0.6666666666666666,
              "#ed7953"
             ],
             [
              0.7777777777777778,
              "#fb9f3a"
             ],
             [
              0.8888888888888888,
              "#fdca26"
             ],
             [
              1,
              "#f0f921"
             ]
            ],
            "type": "histogram2d"
           }
          ],
          "histogram2dcontour": [
           {
            "colorbar": {
             "outlinewidth": 0,
             "ticks": ""
            },
            "colorscale": [
             [
              0,
              "#0d0887"
             ],
             [
              0.1111111111111111,
              "#46039f"
             ],
             [
              0.2222222222222222,
              "#7201a8"
             ],
             [
              0.3333333333333333,
              "#9c179e"
             ],
             [
              0.4444444444444444,
              "#bd3786"
             ],
             [
              0.5555555555555556,
              "#d8576b"
             ],
             [
              0.6666666666666666,
              "#ed7953"
             ],
             [
              0.7777777777777778,
              "#fb9f3a"
             ],
             [
              0.8888888888888888,
              "#fdca26"
             ],
             [
              1,
              "#f0f921"
             ]
            ],
            "type": "histogram2dcontour"
           }
          ],
          "mesh3d": [
           {
            "colorbar": {
             "outlinewidth": 0,
             "ticks": ""
            },
            "type": "mesh3d"
           }
          ],
          "parcoords": [
           {
            "line": {
             "colorbar": {
              "outlinewidth": 0,
              "ticks": ""
             }
            },
            "type": "parcoords"
           }
          ],
          "pie": [
           {
            "automargin": true,
            "type": "pie"
           }
          ],
          "scatter": [
           {
            "fillpattern": {
             "fillmode": "overlay",
             "size": 10,
             "solidity": 0.2
            },
            "type": "scatter"
           }
          ],
          "scatter3d": [
           {
            "line": {
             "colorbar": {
              "outlinewidth": 0,
              "ticks": ""
             }
            },
            "marker": {
             "colorbar": {
              "outlinewidth": 0,
              "ticks": ""
             }
            },
            "type": "scatter3d"
           }
          ],
          "scattercarpet": [
           {
            "marker": {
             "colorbar": {
              "outlinewidth": 0,
              "ticks": ""
             }
            },
            "type": "scattercarpet"
           }
          ],
          "scattergeo": [
           {
            "marker": {
             "colorbar": {
              "outlinewidth": 0,
              "ticks": ""
             }
            },
            "type": "scattergeo"
           }
          ],
          "scattergl": [
           {
            "marker": {
             "colorbar": {
              "outlinewidth": 0,
              "ticks": ""
             }
            },
            "type": "scattergl"
           }
          ],
          "scattermapbox": [
           {
            "marker": {
             "colorbar": {
              "outlinewidth": 0,
              "ticks": ""
             }
            },
            "type": "scattermapbox"
           }
          ],
          "scatterpolar": [
           {
            "marker": {
             "colorbar": {
              "outlinewidth": 0,
              "ticks": ""
             }
            },
            "type": "scatterpolar"
           }
          ],
          "scatterpolargl": [
           {
            "marker": {
             "colorbar": {
              "outlinewidth": 0,
              "ticks": ""
             }
            },
            "type": "scatterpolargl"
           }
          ],
          "scatterternary": [
           {
            "marker": {
             "colorbar": {
              "outlinewidth": 0,
              "ticks": ""
             }
            },
            "type": "scatterternary"
           }
          ],
          "surface": [
           {
            "colorbar": {
             "outlinewidth": 0,
             "ticks": ""
            },
            "colorscale": [
             [
              0,
              "#0d0887"
             ],
             [
              0.1111111111111111,
              "#46039f"
             ],
             [
              0.2222222222222222,
              "#7201a8"
             ],
             [
              0.3333333333333333,
              "#9c179e"
             ],
             [
              0.4444444444444444,
              "#bd3786"
             ],
             [
              0.5555555555555556,
              "#d8576b"
             ],
             [
              0.6666666666666666,
              "#ed7953"
             ],
             [
              0.7777777777777778,
              "#fb9f3a"
             ],
             [
              0.8888888888888888,
              "#fdca26"
             ],
             [
              1,
              "#f0f921"
             ]
            ],
            "type": "surface"
           }
          ],
          "table": [
           {
            "cells": {
             "fill": {
              "color": "#EBF0F8"
             },
             "line": {
              "color": "white"
             }
            },
            "header": {
             "fill": {
              "color": "#C8D4E3"
             },
             "line": {
              "color": "white"
             }
            },
            "type": "table"
           }
          ]
         },
         "layout": {
          "annotationdefaults": {
           "arrowcolor": "#2a3f5f",
           "arrowhead": 0,
           "arrowwidth": 1
          },
          "autotypenumbers": "strict",
          "coloraxis": {
           "colorbar": {
            "outlinewidth": 0,
            "ticks": ""
           }
          },
          "colorscale": {
           "diverging": [
            [
             0,
             "#8e0152"
            ],
            [
             0.1,
             "#c51b7d"
            ],
            [
             0.2,
             "#de77ae"
            ],
            [
             0.3,
             "#f1b6da"
            ],
            [
             0.4,
             "#fde0ef"
            ],
            [
             0.5,
             "#f7f7f7"
            ],
            [
             0.6,
             "#e6f5d0"
            ],
            [
             0.7,
             "#b8e186"
            ],
            [
             0.8,
             "#7fbc41"
            ],
            [
             0.9,
             "#4d9221"
            ],
            [
             1,
             "#276419"
            ]
           ],
           "sequential": [
            [
             0,
             "#0d0887"
            ],
            [
             0.1111111111111111,
             "#46039f"
            ],
            [
             0.2222222222222222,
             "#7201a8"
            ],
            [
             0.3333333333333333,
             "#9c179e"
            ],
            [
             0.4444444444444444,
             "#bd3786"
            ],
            [
             0.5555555555555556,
             "#d8576b"
            ],
            [
             0.6666666666666666,
             "#ed7953"
            ],
            [
             0.7777777777777778,
             "#fb9f3a"
            ],
            [
             0.8888888888888888,
             "#fdca26"
            ],
            [
             1,
             "#f0f921"
            ]
           ],
           "sequentialminus": [
            [
             0,
             "#0d0887"
            ],
            [
             0.1111111111111111,
             "#46039f"
            ],
            [
             0.2222222222222222,
             "#7201a8"
            ],
            [
             0.3333333333333333,
             "#9c179e"
            ],
            [
             0.4444444444444444,
             "#bd3786"
            ],
            [
             0.5555555555555556,
             "#d8576b"
            ],
            [
             0.6666666666666666,
             "#ed7953"
            ],
            [
             0.7777777777777778,
             "#fb9f3a"
            ],
            [
             0.8888888888888888,
             "#fdca26"
            ],
            [
             1,
             "#f0f921"
            ]
           ]
          },
          "colorway": [
           "#636efa",
           "#EF553B",
           "#00cc96",
           "#ab63fa",
           "#FFA15A",
           "#19d3f3",
           "#FF6692",
           "#B6E880",
           "#FF97FF",
           "#FECB52"
          ],
          "font": {
           "color": "#2a3f5f"
          },
          "geo": {
           "bgcolor": "white",
           "lakecolor": "white",
           "landcolor": "#E5ECF6",
           "showlakes": true,
           "showland": true,
           "subunitcolor": "white"
          },
          "hoverlabel": {
           "align": "left"
          },
          "hovermode": "closest",
          "mapbox": {
           "style": "light"
          },
          "paper_bgcolor": "white",
          "plot_bgcolor": "#E5ECF6",
          "polar": {
           "angularaxis": {
            "gridcolor": "white",
            "linecolor": "white",
            "ticks": ""
           },
           "bgcolor": "#E5ECF6",
           "radialaxis": {
            "gridcolor": "white",
            "linecolor": "white",
            "ticks": ""
           }
          },
          "scene": {
           "xaxis": {
            "backgroundcolor": "#E5ECF6",
            "gridcolor": "white",
            "gridwidth": 2,
            "linecolor": "white",
            "showbackground": true,
            "ticks": "",
            "zerolinecolor": "white"
           },
           "yaxis": {
            "backgroundcolor": "#E5ECF6",
            "gridcolor": "white",
            "gridwidth": 2,
            "linecolor": "white",
            "showbackground": true,
            "ticks": "",
            "zerolinecolor": "white"
           },
           "zaxis": {
            "backgroundcolor": "#E5ECF6",
            "gridcolor": "white",
            "gridwidth": 2,
            "linecolor": "white",
            "showbackground": true,
            "ticks": "",
            "zerolinecolor": "white"
           }
          },
          "shapedefaults": {
           "line": {
            "color": "#2a3f5f"
           }
          },
          "ternary": {
           "aaxis": {
            "gridcolor": "white",
            "linecolor": "white",
            "ticks": ""
           },
           "baxis": {
            "gridcolor": "white",
            "linecolor": "white",
            "ticks": ""
           },
           "bgcolor": "#E5ECF6",
           "caxis": {
            "gridcolor": "white",
            "linecolor": "white",
            "ticks": ""
           }
          },
          "title": {
           "x": 0.05
          },
          "xaxis": {
           "automargin": true,
           "gridcolor": "white",
           "linecolor": "white",
           "ticks": "",
           "title": {
            "standoff": 15
           },
           "zerolinecolor": "white",
           "zerolinewidth": 2
          },
          "yaxis": {
           "automargin": true,
           "gridcolor": "white",
           "linecolor": "white",
           "ticks": "",
           "title": {
            "standoff": 15
           },
           "zerolinecolor": "white",
           "zerolinewidth": 2
          }
         }
        },
        "title": {
         "text": "Label: image générée"
        },
        "width": 500,
        "xaxis": {
         "anchor": "y",
         "domain": [
          0,
          1
         ],
         "showgrid": false,
         "showticklabels": false,
         "visible": false,
         "zeroline": false
        },
        "yaxis": {
         "anchor": "x",
         "domain": [
          0,
          1
         ],
         "showgrid": false,
         "showticklabels": false,
         "visible": false,
         "zeroline": false
        }
       }
      }
     },
     "metadata": {},
     "output_type": "display_data"
    }
   ],
   "source": [
    "X = generator.predict([generate_latent_points(100, 1), types_to_vector('Ghost', 'Fighting')], verbose=0)\n",
    "plot_image(X[0], \"image générée\", {\"real\": discriminator.predict([X, types_to_vector('Ghost', 'Fighting')], verbose=0)[0][0]}, 96)"
   ]
  },
  {
   "cell_type": "code",
   "execution_count": null,
   "metadata": {},
   "outputs": [],
   "source": [
    "X = generator.predict([generate_latent_points(100, 1), np.array([[1., 1., 1., 1., 1., 1., 1., 1., 1., 1., 1., 1., 1., 1., 1., 1., 1., 1.]])], verbose=0)\n",
    "plot_image(X[0], \"image générée\", {\"real\": discriminator.predict([X, np.array([[1., 1., 1., 1., 1., 1., 1., 1., 1., 1., 1., 1., 1., 1., 1., 1., 1., 1.]])], verbose=0)[0][0]}, 96)"
   ]
  },
  {
   "cell_type": "code",
   "execution_count": 91,
   "metadata": {},
   "outputs": [],
   "source": [
    "# test image with random noise between -1 and 1\n",
    "test_image_noise = tf.random.uniform(shape=(1, 96, 96, 3), minval=-1, maxval=1)"
   ]
  },
  {
   "cell_type": "code",
   "execution_count": 94,
   "metadata": {},
   "outputs": [
    {
     "data": {
      "application/vnd.plotly.v1+json": {
       "config": {
        "plotlyServerURL": "https://plot.ly"
       },
       "data": [
        {
         "hovertemplate": "x: %{x}<br>y: %{y}<extra></extra>",
         "name": "0",
         "source": "data:image/png;base64,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",
         "type": "image",
         "xaxis": "x",
         "yaxis": "y"
        }
       ],
       "layout": {
        "annotations": [
         {
          "align": "left",
          "bgcolor": "#ff7f0e",
          "bordercolor": "#c7c7c7",
          "borderpad": 2,
          "borderwidth": 1,
          "font": {
           "color": "#ffffff",
           "family": "Courier New, monospace",
           "size": 12
          },
          "opacity": 0.8,
          "showarrow": false,
          "text": "real: 0%",
          "x": 1,
          "xref": "paper",
          "y": 1,
          "yref": "paper"
         }
        ],
        "height": 350,
        "images": [
         {
          "layer": "below",
          "sizex": 0.3,
          "sizey": 0.3,
          "source": "images/final/real/1.png",
          "x": 1,
          "xref": "paper",
          "y": 1.1,
          "yref": "paper"
         }
        ],
        "margin": {
         "l": 0,
         "t": 60
        },
        "shapes": [
         {
          "line": {
           "color": "black",
           "width": 2
          },
          "type": "rect",
          "x0": 0,
          "x1": 96,
          "xref": "x",
          "y0": 0,
          "y1": 96,
          "yref": "y"
         }
        ],
        "template": {
         "data": {
          "bar": [
           {
            "error_x": {
             "color": "#2a3f5f"
            },
            "error_y": {
             "color": "#2a3f5f"
            },
            "marker": {
             "line": {
              "color": "#E5ECF6",
              "width": 0.5
             },
             "pattern": {
              "fillmode": "overlay",
              "size": 10,
              "solidity": 0.2
             }
            },
            "type": "bar"
           }
          ],
          "barpolar": [
           {
            "marker": {
             "line": {
              "color": "#E5ECF6",
              "width": 0.5
             },
             "pattern": {
              "fillmode": "overlay",
              "size": 10,
              "solidity": 0.2
             }
            },
            "type": "barpolar"
           }
          ],
          "carpet": [
           {
            "aaxis": {
             "endlinecolor": "#2a3f5f",
             "gridcolor": "white",
             "linecolor": "white",
             "minorgridcolor": "white",
             "startlinecolor": "#2a3f5f"
            },
            "baxis": {
             "endlinecolor": "#2a3f5f",
             "gridcolor": "white",
             "linecolor": "white",
             "minorgridcolor": "white",
             "startlinecolor": "#2a3f5f"
            },
            "type": "carpet"
           }
          ],
          "choropleth": [
           {
            "colorbar": {
             "outlinewidth": 0,
             "ticks": ""
            },
            "type": "choropleth"
           }
          ],
          "contour": [
           {
            "colorbar": {
             "outlinewidth": 0,
             "ticks": ""
            },
            "colorscale": [
             [
              0,
              "#0d0887"
             ],
             [
              0.1111111111111111,
              "#46039f"
             ],
             [
              0.2222222222222222,
              "#7201a8"
             ],
             [
              0.3333333333333333,
              "#9c179e"
             ],
             [
              0.4444444444444444,
              "#bd3786"
             ],
             [
              0.5555555555555556,
              "#d8576b"
             ],
             [
              0.6666666666666666,
              "#ed7953"
             ],
             [
              0.7777777777777778,
              "#fb9f3a"
             ],
             [
              0.8888888888888888,
              "#fdca26"
             ],
             [
              1,
              "#f0f921"
             ]
            ],
            "type": "contour"
           }
          ],
          "contourcarpet": [
           {
            "colorbar": {
             "outlinewidth": 0,
             "ticks": ""
            },
            "type": "contourcarpet"
           }
          ],
          "heatmap": [
           {
            "colorbar": {
             "outlinewidth": 0,
             "ticks": ""
            },
            "colorscale": [
             [
              0,
              "#0d0887"
             ],
             [
              0.1111111111111111,
              "#46039f"
             ],
             [
              0.2222222222222222,
              "#7201a8"
             ],
             [
              0.3333333333333333,
              "#9c179e"
             ],
             [
              0.4444444444444444,
              "#bd3786"
             ],
             [
              0.5555555555555556,
              "#d8576b"
             ],
             [
              0.6666666666666666,
              "#ed7953"
             ],
             [
              0.7777777777777778,
              "#fb9f3a"
             ],
             [
              0.8888888888888888,
              "#fdca26"
             ],
             [
              1,
              "#f0f921"
             ]
            ],
            "type": "heatmap"
           }
          ],
          "heatmapgl": [
           {
            "colorbar": {
             "outlinewidth": 0,
             "ticks": ""
            },
            "colorscale": [
             [
              0,
              "#0d0887"
             ],
             [
              0.1111111111111111,
              "#46039f"
             ],
             [
              0.2222222222222222,
              "#7201a8"
             ],
             [
              0.3333333333333333,
              "#9c179e"
             ],
             [
              0.4444444444444444,
              "#bd3786"
             ],
             [
              0.5555555555555556,
              "#d8576b"
             ],
             [
              0.6666666666666666,
              "#ed7953"
             ],
             [
              0.7777777777777778,
              "#fb9f3a"
             ],
             [
              0.8888888888888888,
              "#fdca26"
             ],
             [
              1,
              "#f0f921"
             ]
            ],
            "type": "heatmapgl"
           }
          ],
          "histogram": [
           {
            "marker": {
             "pattern": {
              "fillmode": "overlay",
              "size": 10,
              "solidity": 0.2
             }
            },
            "type": "histogram"
           }
          ],
          "histogram2d": [
           {
            "colorbar": {
             "outlinewidth": 0,
             "ticks": ""
            },
            "colorscale": [
             [
              0,
              "#0d0887"
             ],
             [
              0.1111111111111111,
              "#46039f"
             ],
             [
              0.2222222222222222,
              "#7201a8"
             ],
             [
              0.3333333333333333,
              "#9c179e"
             ],
             [
              0.4444444444444444,
              "#bd3786"
             ],
             [
              0.5555555555555556,
              "#d8576b"
             ],
             [
              0.6666666666666666,
              "#ed7953"
             ],
             [
              0.7777777777777778,
              "#fb9f3a"
             ],
             [
              0.8888888888888888,
              "#fdca26"
             ],
             [
              1,
              "#f0f921"
             ]
            ],
            "type": "histogram2d"
           }
          ],
          "histogram2dcontour": [
           {
            "colorbar": {
             "outlinewidth": 0,
             "ticks": ""
            },
            "colorscale": [
             [
              0,
              "#0d0887"
             ],
             [
              0.1111111111111111,
              "#46039f"
             ],
             [
              0.2222222222222222,
              "#7201a8"
             ],
             [
              0.3333333333333333,
              "#9c179e"
             ],
             [
              0.4444444444444444,
              "#bd3786"
             ],
             [
              0.5555555555555556,
              "#d8576b"
             ],
             [
              0.6666666666666666,
              "#ed7953"
             ],
             [
              0.7777777777777778,
              "#fb9f3a"
             ],
             [
              0.8888888888888888,
              "#fdca26"
             ],
             [
              1,
              "#f0f921"
             ]
            ],
            "type": "histogram2dcontour"
           }
          ],
          "mesh3d": [
           {
            "colorbar": {
             "outlinewidth": 0,
             "ticks": ""
            },
            "type": "mesh3d"
           }
          ],
          "parcoords": [
           {
            "line": {
             "colorbar": {
              "outlinewidth": 0,
              "ticks": ""
             }
            },
            "type": "parcoords"
           }
          ],
          "pie": [
           {
            "automargin": true,
            "type": "pie"
           }
          ],
          "scatter": [
           {
            "fillpattern": {
             "fillmode": "overlay",
             "size": 10,
             "solidity": 0.2
            },
            "type": "scatter"
           }
          ],
          "scatter3d": [
           {
            "line": {
             "colorbar": {
              "outlinewidth": 0,
              "ticks": ""
             }
            },
            "marker": {
             "colorbar": {
              "outlinewidth": 0,
              "ticks": ""
             }
            },
            "type": "scatter3d"
           }
          ],
          "scattercarpet": [
           {
            "marker": {
             "colorbar": {
              "outlinewidth": 0,
              "ticks": ""
             }
            },
            "type": "scattercarpet"
           }
          ],
          "scattergeo": [
           {
            "marker": {
             "colorbar": {
              "outlinewidth": 0,
              "ticks": ""
             }
            },
            "type": "scattergeo"
           }
          ],
          "scattergl": [
           {
            "marker": {
             "colorbar": {
              "outlinewidth": 0,
              "ticks": ""
             }
            },
            "type": "scattergl"
           }
          ],
          "scattermapbox": [
           {
            "marker": {
             "colorbar": {
              "outlinewidth": 0,
              "ticks": ""
             }
            },
            "type": "scattermapbox"
           }
          ],
          "scatterpolar": [
           {
            "marker": {
             "colorbar": {
              "outlinewidth": 0,
              "ticks": ""
             }
            },
            "type": "scatterpolar"
           }
          ],
          "scatterpolargl": [
           {
            "marker": {
             "colorbar": {
              "outlinewidth": 0,
              "ticks": ""
             }
            },
            "type": "scatterpolargl"
           }
          ],
          "scatterternary": [
           {
            "marker": {
             "colorbar": {
              "outlinewidth": 0,
              "ticks": ""
             }
            },
            "type": "scatterternary"
           }
          ],
          "surface": [
           {
            "colorbar": {
             "outlinewidth": 0,
             "ticks": ""
            },
            "colorscale": [
             [
              0,
              "#0d0887"
             ],
             [
              0.1111111111111111,
              "#46039f"
             ],
             [
              0.2222222222222222,
              "#7201a8"
             ],
             [
              0.3333333333333333,
              "#9c179e"
             ],
             [
              0.4444444444444444,
              "#bd3786"
             ],
             [
              0.5555555555555556,
              "#d8576b"
             ],
             [
              0.6666666666666666,
              "#ed7953"
             ],
             [
              0.7777777777777778,
              "#fb9f3a"
             ],
             [
              0.8888888888888888,
              "#fdca26"
             ],
             [
              1,
              "#f0f921"
             ]
            ],
            "type": "surface"
           }
          ],
          "table": [
           {
            "cells": {
             "fill": {
              "color": "#EBF0F8"
             },
             "line": {
              "color": "white"
             }
            },
            "header": {
             "fill": {
              "color": "#C8D4E3"
             },
             "line": {
              "color": "white"
             }
            },
            "type": "table"
           }
          ]
         },
         "layout": {
          "annotationdefaults": {
           "arrowcolor": "#2a3f5f",
           "arrowhead": 0,
           "arrowwidth": 1
          },
          "autotypenumbers": "strict",
          "coloraxis": {
           "colorbar": {
            "outlinewidth": 0,
            "ticks": ""
           }
          },
          "colorscale": {
           "diverging": [
            [
             0,
             "#8e0152"
            ],
            [
             0.1,
             "#c51b7d"
            ],
            [
             0.2,
             "#de77ae"
            ],
            [
             0.3,
             "#f1b6da"
            ],
            [
             0.4,
             "#fde0ef"
            ],
            [
             0.5,
             "#f7f7f7"
            ],
            [
             0.6,
             "#e6f5d0"
            ],
            [
             0.7,
             "#b8e186"
            ],
            [
             0.8,
             "#7fbc41"
            ],
            [
             0.9,
             "#4d9221"
            ],
            [
             1,
             "#276419"
            ]
           ],
           "sequential": [
            [
             0,
             "#0d0887"
            ],
            [
             0.1111111111111111,
             "#46039f"
            ],
            [
             0.2222222222222222,
             "#7201a8"
            ],
            [
             0.3333333333333333,
             "#9c179e"
            ],
            [
             0.4444444444444444,
             "#bd3786"
            ],
            [
             0.5555555555555556,
             "#d8576b"
            ],
            [
             0.6666666666666666,
             "#ed7953"
            ],
            [
             0.7777777777777778,
             "#fb9f3a"
            ],
            [
             0.8888888888888888,
             "#fdca26"
            ],
            [
             1,
             "#f0f921"
            ]
           ],
           "sequentialminus": [
            [
             0,
             "#0d0887"
            ],
            [
             0.1111111111111111,
             "#46039f"
            ],
            [
             0.2222222222222222,
             "#7201a8"
            ],
            [
             0.3333333333333333,
             "#9c179e"
            ],
            [
             0.4444444444444444,
             "#bd3786"
            ],
            [
             0.5555555555555556,
             "#d8576b"
            ],
            [
             0.6666666666666666,
             "#ed7953"
            ],
            [
             0.7777777777777778,
             "#fb9f3a"
            ],
            [
             0.8888888888888888,
             "#fdca26"
            ],
            [
             1,
             "#f0f921"
            ]
           ]
          },
          "colorway": [
           "#636efa",
           "#EF553B",
           "#00cc96",
           "#ab63fa",
           "#FFA15A",
           "#19d3f3",
           "#FF6692",
           "#B6E880",
           "#FF97FF",
           "#FECB52"
          ],
          "font": {
           "color": "#2a3f5f"
          },
          "geo": {
           "bgcolor": "white",
           "lakecolor": "white",
           "landcolor": "#E5ECF6",
           "showlakes": true,
           "showland": true,
           "subunitcolor": "white"
          },
          "hoverlabel": {
           "align": "left"
          },
          "hovermode": "closest",
          "mapbox": {
           "style": "light"
          },
          "paper_bgcolor": "white",
          "plot_bgcolor": "#E5ECF6",
          "polar": {
           "angularaxis": {
            "gridcolor": "white",
            "linecolor": "white",
            "ticks": ""
           },
           "bgcolor": "#E5ECF6",
           "radialaxis": {
            "gridcolor": "white",
            "linecolor": "white",
            "ticks": ""
           }
          },
          "scene": {
           "xaxis": {
            "backgroundcolor": "#E5ECF6",
            "gridcolor": "white",
            "gridwidth": 2,
            "linecolor": "white",
            "showbackground": true,
            "ticks": "",
            "zerolinecolor": "white"
           },
           "yaxis": {
            "backgroundcolor": "#E5ECF6",
            "gridcolor": "white",
            "gridwidth": 2,
            "linecolor": "white",
            "showbackground": true,
            "ticks": "",
            "zerolinecolor": "white"
           },
           "zaxis": {
            "backgroundcolor": "#E5ECF6",
            "gridcolor": "white",
            "gridwidth": 2,
            "linecolor": "white",
            "showbackground": true,
            "ticks": "",
            "zerolinecolor": "white"
           }
          },
          "shapedefaults": {
           "line": {
            "color": "#2a3f5f"
           }
          },
          "ternary": {
           "aaxis": {
            "gridcolor": "white",
            "linecolor": "white",
            "ticks": ""
           },
           "baxis": {
            "gridcolor": "white",
            "linecolor": "white",
            "ticks": ""
           },
           "bgcolor": "#E5ECF6",
           "caxis": {
            "gridcolor": "white",
            "linecolor": "white",
            "ticks": ""
           }
          },
          "title": {
           "x": 0.05
          },
          "xaxis": {
           "automargin": true,
           "gridcolor": "white",
           "linecolor": "white",
           "ticks": "",
           "title": {
            "standoff": 15
           },
           "zerolinecolor": "white",
           "zerolinewidth": 2
          },
          "yaxis": {
           "automargin": true,
           "gridcolor": "white",
           "linecolor": "white",
           "ticks": "",
           "title": {
            "standoff": 15
           },
           "zerolinecolor": "white",
           "zerolinewidth": 2
          }
         }
        },
        "title": {
         "text": "Label: image test"
        },
        "width": 500,
        "xaxis": {
         "anchor": "y",
         "domain": [
          0,
          1
         ],
         "showgrid": false,
         "showticklabels": false,
         "visible": false,
         "zeroline": false
        },
        "yaxis": {
         "anchor": "x",
         "domain": [
          0,
          1
         ],
         "showgrid": false,
         "showticklabels": false,
         "visible": false,
         "zeroline": false
        }
       }
      }
     },
     "metadata": {},
     "output_type": "display_data"
    }
   ],
   "source": [
    "plot_image(test_image_noise[0], \"image test\", {\"real\": discriminator.predict([test_image_noise, types_to_vector('Dark')], verbose=0)[0][0]}, 96)"
   ]
  },
  {
   "cell_type": "code",
   "execution_count": 84,
   "metadata": {},
   "outputs": [
    {
     "name": "stdout",
     "output_type": "stream",
     "text": [
      "(1, 96, 96, 3)\n"
     ]
    }
   ],
   "source": [
    "# load images/test/charmander.png to test\n",
    "test_image = tf.keras.preprocessing.image.load_img('images/test/charmander.png', color_mode='rgba', target_size=image_size)\n",
    "test_image = tf.keras.preprocessing.image.img_to_array(test_image)\n",
    "test_image = tf.expand_dims(test_image, axis=0)\n",
    "test_image = preprocess_image(test_image)\n",
    "print(test_image.shape)"
   ]
  },
  {
   "cell_type": "code",
   "execution_count": 192,
   "metadata": {},
   "outputs": [
    {
     "data": {
      "application/vnd.plotly.v1+json": {
       "config": {
        "plotlyServerURL": "https://plot.ly"
       },
       "data": [
        {
         "hovertemplate": "x: %{x}<br>y: %{y}<br>color: [%{z[0]}, %{z[1]}, %{z[2]}]<extra></extra>",
         "name": "0",
         "source": "data:image/png;base64,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",
         "type": "image",
         "xaxis": "x",
         "yaxis": "y"
        }
       ],
       "layout": {
        "annotations": [
         {
          "align": "left",
          "bgcolor": "#ff7f0e",
          "bordercolor": "#c7c7c7",
          "borderpad": 2,
          "borderwidth": 1,
          "font": {
           "color": "#ffffff",
           "family": "Courier New, monospace",
           "size": 12
          },
          "opacity": 0.8,
          "showarrow": false,
          "text": "real: 100%",
          "x": 1,
          "xref": "paper",
          "y": 1,
          "yref": "paper"
         }
        ],
        "height": 350,
        "images": [
         {
          "layer": "below",
          "sizex": 0.3,
          "sizey": 0.3,
          "source": "images/final/real/1.png",
          "x": 1,
          "xref": "paper",
          "y": 1.1,
          "yref": "paper"
         }
        ],
        "margin": {
         "l": 0,
         "t": 60
        },
        "shapes": [
         {
          "line": {
           "color": "black",
           "width": 2
          },
          "type": "rect",
          "x0": 0,
          "x1": 96,
          "xref": "x",
          "y0": 0,
          "y1": 96,
          "yref": "y"
         }
        ],
        "template": {
         "data": {
          "bar": [
           {
            "error_x": {
             "color": "#2a3f5f"
            },
            "error_y": {
             "color": "#2a3f5f"
            },
            "marker": {
             "line": {
              "color": "#E5ECF6",
              "width": 0.5
             },
             "pattern": {
              "fillmode": "overlay",
              "size": 10,
              "solidity": 0.2
             }
            },
            "type": "bar"
           }
          ],
          "barpolar": [
           {
            "marker": {
             "line": {
              "color": "#E5ECF6",
              "width": 0.5
             },
             "pattern": {
              "fillmode": "overlay",
              "size": 10,
              "solidity": 0.2
             }
            },
            "type": "barpolar"
           }
          ],
          "carpet": [
           {
            "aaxis": {
             "endlinecolor": "#2a3f5f",
             "gridcolor": "white",
             "linecolor": "white",
             "minorgridcolor": "white",
             "startlinecolor": "#2a3f5f"
            },
            "baxis": {
             "endlinecolor": "#2a3f5f",
             "gridcolor": "white",
             "linecolor": "white",
             "minorgridcolor": "white",
             "startlinecolor": "#2a3f5f"
            },
            "type": "carpet"
           }
          ],
          "choropleth": [
           {
            "colorbar": {
             "outlinewidth": 0,
             "ticks": ""
            },
            "type": "choropleth"
           }
          ],
          "contour": [
           {
            "colorbar": {
             "outlinewidth": 0,
             "ticks": ""
            },
            "colorscale": [
             [
              0,
              "#0d0887"
             ],
             [
              0.1111111111111111,
              "#46039f"
             ],
             [
              0.2222222222222222,
              "#7201a8"
             ],
             [
              0.3333333333333333,
              "#9c179e"
             ],
             [
              0.4444444444444444,
              "#bd3786"
             ],
             [
              0.5555555555555556,
              "#d8576b"
             ],
             [
              0.6666666666666666,
              "#ed7953"
             ],
             [
              0.7777777777777778,
              "#fb9f3a"
             ],
             [
              0.8888888888888888,
              "#fdca26"
             ],
             [
              1,
              "#f0f921"
             ]
            ],
            "type": "contour"
           }
          ],
          "contourcarpet": [
           {
            "colorbar": {
             "outlinewidth": 0,
             "ticks": ""
            },
            "type": "contourcarpet"
           }
          ],
          "heatmap": [
           {
            "colorbar": {
             "outlinewidth": 0,
             "ticks": ""
            },
            "colorscale": [
             [
              0,
              "#0d0887"
             ],
             [
              0.1111111111111111,
              "#46039f"
             ],
             [
              0.2222222222222222,
              "#7201a8"
             ],
             [
              0.3333333333333333,
              "#9c179e"
             ],
             [
              0.4444444444444444,
              "#bd3786"
             ],
             [
              0.5555555555555556,
              "#d8576b"
             ],
             [
              0.6666666666666666,
              "#ed7953"
             ],
             [
              0.7777777777777778,
              "#fb9f3a"
             ],
             [
              0.8888888888888888,
              "#fdca26"
             ],
             [
              1,
              "#f0f921"
             ]
            ],
            "type": "heatmap"
           }
          ],
          "heatmapgl": [
           {
            "colorbar": {
             "outlinewidth": 0,
             "ticks": ""
            },
            "colorscale": [
             [
              0,
              "#0d0887"
             ],
             [
              0.1111111111111111,
              "#46039f"
             ],
             [
              0.2222222222222222,
              "#7201a8"
             ],
             [
              0.3333333333333333,
              "#9c179e"
             ],
             [
              0.4444444444444444,
              "#bd3786"
             ],
             [
              0.5555555555555556,
              "#d8576b"
             ],
             [
              0.6666666666666666,
              "#ed7953"
             ],
             [
              0.7777777777777778,
              "#fb9f3a"
             ],
             [
              0.8888888888888888,
              "#fdca26"
             ],
             [
              1,
              "#f0f921"
             ]
            ],
            "type": "heatmapgl"
           }
          ],
          "histogram": [
           {
            "marker": {
             "pattern": {
              "fillmode": "overlay",
              "size": 10,
              "solidity": 0.2
             }
            },
            "type": "histogram"
           }
          ],
          "histogram2d": [
           {
            "colorbar": {
             "outlinewidth": 0,
             "ticks": ""
            },
            "colorscale": [
             [
              0,
              "#0d0887"
             ],
             [
              0.1111111111111111,
              "#46039f"
             ],
             [
              0.2222222222222222,
              "#7201a8"
             ],
             [
              0.3333333333333333,
              "#9c179e"
             ],
             [
              0.4444444444444444,
              "#bd3786"
             ],
             [
              0.5555555555555556,
              "#d8576b"
             ],
             [
              0.6666666666666666,
              "#ed7953"
             ],
             [
              0.7777777777777778,
              "#fb9f3a"
             ],
             [
              0.8888888888888888,
              "#fdca26"
             ],
             [
              1,
              "#f0f921"
             ]
            ],
            "type": "histogram2d"
           }
          ],
          "histogram2dcontour": [
           {
            "colorbar": {
             "outlinewidth": 0,
             "ticks": ""
            },
            "colorscale": [
             [
              0,
              "#0d0887"
             ],
             [
              0.1111111111111111,
              "#46039f"
             ],
             [
              0.2222222222222222,
              "#7201a8"
             ],
             [
              0.3333333333333333,
              "#9c179e"
             ],
             [
              0.4444444444444444,
              "#bd3786"
             ],
             [
              0.5555555555555556,
              "#d8576b"
             ],
             [
              0.6666666666666666,
              "#ed7953"
             ],
             [
              0.7777777777777778,
              "#fb9f3a"
             ],
             [
              0.8888888888888888,
              "#fdca26"
             ],
             [
              1,
              "#f0f921"
             ]
            ],
            "type": "histogram2dcontour"
           }
          ],
          "mesh3d": [
           {
            "colorbar": {
             "outlinewidth": 0,
             "ticks": ""
            },
            "type": "mesh3d"
           }
          ],
          "parcoords": [
           {
            "line": {
             "colorbar": {
              "outlinewidth": 0,
              "ticks": ""
             }
            },
            "type": "parcoords"
           }
          ],
          "pie": [
           {
            "automargin": true,
            "type": "pie"
           }
          ],
          "scatter": [
           {
            "fillpattern": {
             "fillmode": "overlay",
             "size": 10,
             "solidity": 0.2
            },
            "type": "scatter"
           }
          ],
          "scatter3d": [
           {
            "line": {
             "colorbar": {
              "outlinewidth": 0,
              "ticks": ""
             }
            },
            "marker": {
             "colorbar": {
              "outlinewidth": 0,
              "ticks": ""
             }
            },
            "type": "scatter3d"
           }
          ],
          "scattercarpet": [
           {
            "marker": {
             "colorbar": {
              "outlinewidth": 0,
              "ticks": ""
             }
            },
            "type": "scattercarpet"
           }
          ],
          "scattergeo": [
           {
            "marker": {
             "colorbar": {
              "outlinewidth": 0,
              "ticks": ""
             }
            },
            "type": "scattergeo"
           }
          ],
          "scattergl": [
           {
            "marker": {
             "colorbar": {
              "outlinewidth": 0,
              "ticks": ""
             }
            },
            "type": "scattergl"
           }
          ],
          "scattermapbox": [
           {
            "marker": {
             "colorbar": {
              "outlinewidth": 0,
              "ticks": ""
             }
            },
            "type": "scattermapbox"
           }
          ],
          "scatterpolar": [
           {
            "marker": {
             "colorbar": {
              "outlinewidth": 0,
              "ticks": ""
             }
            },
            "type": "scatterpolar"
           }
          ],
          "scatterpolargl": [
           {
            "marker": {
             "colorbar": {
              "outlinewidth": 0,
              "ticks": ""
             }
            },
            "type": "scatterpolargl"
           }
          ],
          "scatterternary": [
           {
            "marker": {
             "colorbar": {
              "outlinewidth": 0,
              "ticks": ""
             }
            },
            "type": "scatterternary"
           }
          ],
          "surface": [
           {
            "colorbar": {
             "outlinewidth": 0,
             "ticks": ""
            },
            "colorscale": [
             [
              0,
              "#0d0887"
             ],
             [
              0.1111111111111111,
              "#46039f"
             ],
             [
              0.2222222222222222,
              "#7201a8"
             ],
             [
              0.3333333333333333,
              "#9c179e"
             ],
             [
              0.4444444444444444,
              "#bd3786"
             ],
             [
              0.5555555555555556,
              "#d8576b"
             ],
             [
              0.6666666666666666,
              "#ed7953"
             ],
             [
              0.7777777777777778,
              "#fb9f3a"
             ],
             [
              0.8888888888888888,
              "#fdca26"
             ],
             [
              1,
              "#f0f921"
             ]
            ],
            "type": "surface"
           }
          ],
          "table": [
           {
            "cells": {
             "fill": {
              "color": "#EBF0F8"
             },
             "line": {
              "color": "white"
             }
            },
            "header": {
             "fill": {
              "color": "#C8D4E3"
             },
             "line": {
              "color": "white"
             }
            },
            "type": "table"
           }
          ]
         },
         "layout": {
          "annotationdefaults": {
           "arrowcolor": "#2a3f5f",
           "arrowhead": 0,
           "arrowwidth": 1
          },
          "autotypenumbers": "strict",
          "coloraxis": {
           "colorbar": {
            "outlinewidth": 0,
            "ticks": ""
           }
          },
          "colorscale": {
           "diverging": [
            [
             0,
             "#8e0152"
            ],
            [
             0.1,
             "#c51b7d"
            ],
            [
             0.2,
             "#de77ae"
            ],
            [
             0.3,
             "#f1b6da"
            ],
            [
             0.4,
             "#fde0ef"
            ],
            [
             0.5,
             "#f7f7f7"
            ],
            [
             0.6,
             "#e6f5d0"
            ],
            [
             0.7,
             "#b8e186"
            ],
            [
             0.8,
             "#7fbc41"
            ],
            [
             0.9,
             "#4d9221"
            ],
            [
             1,
             "#276419"
            ]
           ],
           "sequential": [
            [
             0,
             "#0d0887"
            ],
            [
             0.1111111111111111,
             "#46039f"
            ],
            [
             0.2222222222222222,
             "#7201a8"
            ],
            [
             0.3333333333333333,
             "#9c179e"
            ],
            [
             0.4444444444444444,
             "#bd3786"
            ],
            [
             0.5555555555555556,
             "#d8576b"
            ],
            [
             0.6666666666666666,
             "#ed7953"
            ],
            [
             0.7777777777777778,
             "#fb9f3a"
            ],
            [
             0.8888888888888888,
             "#fdca26"
            ],
            [
             1,
             "#f0f921"
            ]
           ],
           "sequentialminus": [
            [
             0,
             "#0d0887"
            ],
            [
             0.1111111111111111,
             "#46039f"
            ],
            [
             0.2222222222222222,
             "#7201a8"
            ],
            [
             0.3333333333333333,
             "#9c179e"
            ],
            [
             0.4444444444444444,
             "#bd3786"
            ],
            [
             0.5555555555555556,
             "#d8576b"
            ],
            [
             0.6666666666666666,
             "#ed7953"
            ],
            [
             0.7777777777777778,
             "#fb9f3a"
            ],
            [
             0.8888888888888888,
             "#fdca26"
            ],
            [
             1,
             "#f0f921"
            ]
           ]
          },
          "colorway": [
           "#636efa",
           "#EF553B",
           "#00cc96",
           "#ab63fa",
           "#FFA15A",
           "#19d3f3",
           "#FF6692",
           "#B6E880",
           "#FF97FF",
           "#FECB52"
          ],
          "font": {
           "color": "#2a3f5f"
          },
          "geo": {
           "bgcolor": "white",
           "lakecolor": "white",
           "landcolor": "#E5ECF6",
           "showlakes": true,
           "showland": true,
           "subunitcolor": "white"
          },
          "hoverlabel": {
           "align": "left"
          },
          "hovermode": "closest",
          "mapbox": {
           "style": "light"
          },
          "paper_bgcolor": "white",
          "plot_bgcolor": "#E5ECF6",
          "polar": {
           "angularaxis": {
            "gridcolor": "white",
            "linecolor": "white",
            "ticks": ""
           },
           "bgcolor": "#E5ECF6",
           "radialaxis": {
            "gridcolor": "white",
            "linecolor": "white",
            "ticks": ""
           }
          },
          "scene": {
           "xaxis": {
            "backgroundcolor": "#E5ECF6",
            "gridcolor": "white",
            "gridwidth": 2,
            "linecolor": "white",
            "showbackground": true,
            "ticks": "",
            "zerolinecolor": "white"
           },
           "yaxis": {
            "backgroundcolor": "#E5ECF6",
            "gridcolor": "white",
            "gridwidth": 2,
            "linecolor": "white",
            "showbackground": true,
            "ticks": "",
            "zerolinecolor": "white"
           },
           "zaxis": {
            "backgroundcolor": "#E5ECF6",
            "gridcolor": "white",
            "gridwidth": 2,
            "linecolor": "white",
            "showbackground": true,
            "ticks": "",
            "zerolinecolor": "white"
           }
          },
          "shapedefaults": {
           "line": {
            "color": "#2a3f5f"
           }
          },
          "ternary": {
           "aaxis": {
            "gridcolor": "white",
            "linecolor": "white",
            "ticks": ""
           },
           "baxis": {
            "gridcolor": "white",
            "linecolor": "white",
            "ticks": ""
           },
           "bgcolor": "#E5ECF6",
           "caxis": {
            "gridcolor": "white",
            "linecolor": "white",
            "ticks": ""
           }
          },
          "title": {
           "x": 0.05
          },
          "xaxis": {
           "automargin": true,
           "gridcolor": "white",
           "linecolor": "white",
           "ticks": "",
           "title": {
            "standoff": 15
           },
           "zerolinecolor": "white",
           "zerolinewidth": 2
          },
          "yaxis": {
           "automargin": true,
           "gridcolor": "white",
           "linecolor": "white",
           "ticks": "",
           "title": {
            "standoff": 15
           },
           "zerolinecolor": "white",
           "zerolinewidth": 2
          }
         }
        },
        "title": {
         "text": "Label: image test"
        },
        "width": 500,
        "xaxis": {
         "anchor": "y",
         "domain": [
          0,
          1
         ],
         "showgrid": false,
         "showticklabels": false,
         "visible": false,
         "zeroline": false
        },
        "yaxis": {
         "anchor": "x",
         "domain": [
          0,
          1
         ],
         "showgrid": false,
         "showticklabels": false,
         "visible": false,
         "zeroline": false
        }
       }
      }
     },
     "metadata": {},
     "output_type": "display_data"
    }
   ],
   "source": [
    "# test discriminator with test image\n",
    "plot_image(test_image[0], \"image test\", {\"real\": discriminator.predict([test_image, types_to_vector('Fire', 'Flying')], verbose=0)[0][0]}, 96)"
   ]
  }
 ],
 "metadata": {
  "kernelspec": {
   "display_name": "Python 3",
   "language": "python",
   "name": "python3"
  },
  "language_info": {
   "codemirror_mode": {
    "name": "ipython",
    "version": 3
   },
   "file_extension": ".py",
   "mimetype": "text/x-python",
   "name": "python",
   "nbconvert_exporter": "python",
   "pygments_lexer": "ipython3",
   "version": "3.10.6"
  },
  "orig_nbformat": 4
 },
 "nbformat": 4,
 "nbformat_minor": 2
}
