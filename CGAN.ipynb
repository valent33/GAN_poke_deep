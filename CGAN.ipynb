{
 "cells": [
  {
   "cell_type": "code",
   "execution_count": 1,
   "metadata": {},
   "outputs": [],
   "source": [
    "import tensorflow as tf\n",
    "import plotly.express as px\n",
    "import matplotlib.pyplot as plt\n",
    "from utils import *\n",
    "import pandas as pd"
   ]
  },
  {
   "cell_type": "code",
   "execution_count": 2,
   "metadata": {},
   "outputs": [],
   "source": [
    "directory = 'images/final/'\n",
    "width = 64\n",
    "height = 64\n",
    "channels = 4\n",
    "image_size = (width, height)\n",
    "input_shape = (width, height, channels)\n",
    "batch_size = 32"
   ]
  },
  {
   "cell_type": "code",
   "execution_count": 3,
   "metadata": {},
   "outputs": [
    {
     "name": "stdout",
     "output_type": "stream",
     "text": [
      "Found 13849 files belonging to 905 classes.\n"
     ]
    }
   ],
   "source": [
    "train_ds, class_names = load_data(directory, batch_size, image_size, GAN=True)"
   ]
  },
  {
   "cell_type": "code",
   "execution_count": 4,
   "metadata": {},
   "outputs": [],
   "source": [
    "types = pd.read_csv('PokeDataset.csv', usecols=['Name', 'Type1', 'Type2'])"
   ]
  },
  {
   "cell_type": "code",
   "execution_count": 5,
   "metadata": {},
   "outputs": [
    {
     "data": {
      "text/html": [
       "<div>\n",
       "<style scoped>\n",
       "    .dataframe tbody tr th:only-of-type {\n",
       "        vertical-align: middle;\n",
       "    }\n",
       "\n",
       "    .dataframe tbody tr th {\n",
       "        vertical-align: top;\n",
       "    }\n",
       "\n",
       "    .dataframe thead th {\n",
       "        text-align: right;\n",
       "    }\n",
       "</style>\n",
       "<table border=\"1\" class=\"dataframe\">\n",
       "  <thead>\n",
       "    <tr style=\"text-align: right;\">\n",
       "      <th></th>\n",
       "      <th>Name</th>\n",
       "      <th>Type1</th>\n",
       "      <th>Type2</th>\n",
       "    </tr>\n",
       "  </thead>\n",
       "  <tbody>\n",
       "    <tr>\n",
       "      <th>247</th>\n",
       "      <td>Tyranitar</td>\n",
       "      <td>Rock</td>\n",
       "      <td>Dark</td>\n",
       "    </tr>\n",
       "    <tr>\n",
       "      <th>114</th>\n",
       "      <td>Kangaskhan</td>\n",
       "      <td>Normal</td>\n",
       "      <td>NaN</td>\n",
       "    </tr>\n",
       "    <tr>\n",
       "      <th>769</th>\n",
       "      <td>Palossand</td>\n",
       "      <td>Ghost</td>\n",
       "      <td>Ground</td>\n",
       "    </tr>\n",
       "    <tr>\n",
       "      <th>240</th>\n",
       "      <td>Miltank</td>\n",
       "      <td>Normal</td>\n",
       "      <td>NaN</td>\n",
       "    </tr>\n",
       "    <tr>\n",
       "      <th>754</th>\n",
       "      <td>Morelull</td>\n",
       "      <td>Grass</td>\n",
       "      <td>Fairy</td>\n",
       "    </tr>\n",
       "  </tbody>\n",
       "</table>\n",
       "</div>"
      ],
      "text/plain": [
       "           Name   Type1   Type2\n",
       "247   Tyranitar    Rock    Dark\n",
       "114  Kangaskhan  Normal     NaN\n",
       "769   Palossand   Ghost  Ground\n",
       "240     Miltank  Normal     NaN\n",
       "754    Morelull   Grass   Fairy"
      ]
     },
     "execution_count": 5,
     "metadata": {},
     "output_type": "execute_result"
    }
   ],
   "source": [
    "types.sample(5)"
   ]
  },
  {
   "cell_type": "code",
   "execution_count": 6,
   "metadata": {},
   "outputs": [],
   "source": [
    "# make a dictionary of types and their index in the list of types\n",
    "types_dict = {}\n",
    "for i, t in enumerate(types['Type1'].unique()):\n",
    "    types_dict[t] = i\n",
    "\n",
    "# create vector of labels with 0 for each type except the one in the row (type1 and type2 are strings)\n",
    "def create_label(row):\n",
    "    label = np.zeros(18)\n",
    "    label[types_dict[row['Type1']]] = 1\n",
    "    if row['Type2'] in types_dict:\n",
    "        label[types_dict[row['Type2']]] = 1\n",
    "    return label\n",
    "\n",
    "\n",
    "types['Label'] = types.apply(create_label, axis=1)"
   ]
  },
  {
   "cell_type": "code",
   "execution_count": 48,
   "metadata": {},
   "outputs": [],
   "source": [
    "def type_to_vector(type):\n",
    "    label = np.zeros(18)\n",
    "    label[types_dict[type]] = 1\n",
    "    return label.reshape(1, 18)"
   ]
  },
  {
   "cell_type": "code",
   "execution_count": 7,
   "metadata": {},
   "outputs": [],
   "source": [
    "# map labels in train_ds to the column Label in types\n",
    "def map_labels(x, y):\n",
    "    y_onehot = tf.one_hot(tf.argmax(y, axis=1), depth=18)\n",
    "    y_label = y_onehot.numpy()\n",
    "    for i in range(len(y_label)):\n",
    "        y_label[i] = types.iloc[i]['Label']\n",
    "    # add a 1 before the label to indicate that it is a real image\n",
    "    y_label = np.insert(y_label, 0, 1, axis=1)\n",
    "    y_label_tensor = tf.convert_to_tensor(y_label, dtype=tf.float32)\n",
    "    return x, y_label_tensor\n",
    "\n",
    "train_ds = train_ds.map(lambda x, y: tf.py_function(map_labels, [x, y], [tf.float32, tf.float32]))\n"
   ]
  },
  {
   "cell_type": "code",
   "execution_count": 9,
   "metadata": {},
   "outputs": [],
   "source": [
    "train_ds = prepare(train_ds, shuffle=True, augment=False, GAN=True)\n",
    "\n",
    "channels = 3\n",
    "input_shape = (width, height, channels)"
   ]
  },
  {
   "cell_type": "code",
   "execution_count": 10,
   "metadata": {},
   "outputs": [
    {
     "name": "stdout",
     "output_type": "stream",
     "text": [
      "(64, 64, 3)\n"
     ]
    },
    {
     "data": {
      "application/vnd.plotly.v1+json": {
       "config": {
        "plotlyServerURL": "https://plot.ly"
       },
       "data": [
        {
         "hovertemplate": "x: %{x}<br>y: %{y}<br>color: [%{z[0]}, %{z[1]}, %{z[2]}]<extra></extra>",
         "name": "0",
         "source": "data:image/png;base64,iVBORw0KGgoAAAANSUhEUgAAAEAAAABACAIAAAAlC+aJAAAQW0lEQVR4Xu2aeVwTZxrHn2SSyUkSIAFjQC4v5JRiVUSRrRWoB+raWrX2orX2rra2q1a31Xa3ardu3Wpp1bpaXa320q61urUWRUEFQRCRSwiSEEhC7kwymWP/GAwhqxLU2vbz2e9n/ph53uc9fpn3ea8Ji6Zp+D3D9jf83vi/gF+bOyPA3GVc8vT89X95B8Mw/7RfmDsjYNN7qwemKk3Olh1bC++yhjsjgEEsRk8V/Wi1WPwTerNz587nnntu5cqV/gm3BMffcHuoIiQrXlu8ddcer+WJuXMBoEWjMZrNjCXj3vviolMGRoc/MXduUvK4Z158UiQWev37C+uOzAPvvv4yL4qLOzCn3gI0rdNRedNmfL59K8JBRk8azvjY2o00SZlM2Omzl41m86o/vR8+SCUUivZ9Xrjq3bdVKlXvIgPlDghobqjbs+tjNIwDAE69GbdjBEFp2qwgYAPKigoO8s8AAAAEQdXWaYcMT5eFqrZv37Rr166xY8f6OwXAbQlw2Gzf7dvd3FjPVlAIr0cAk6rVdVmszvihEb3y+GC348HyEQhfardZL5w/tWr16lvQcFsC3l32MkfBsmpsElUQI4AiKZtGT5OUv+v/gOMkC4nImz4f5fEokmxtadm///OPPt7Q377UvyC2mI0URQEN3+37V/2VMgRFuJwQFguA1e3ARtjSQeGW1o4+NRAELZMGsxGk6Xzpxg/empr/4MNznpwwfmLTlQZ/15vSDwHq5rrK8lMOh+1iRTkqRiWRCjbCdpmcLIRkIb2G4yCVwtVlZe5xO+Z2EXYHDgCdxi6pRDhwQAgA6HTk7EdmVpeXx1d/cG7WqBp74/FaUUbGhOKiosysLN/Sbk6gAtTNdermutxp8/bt2CJWylAxyti5YpQrRtm9BbARtlAhA4DGqrbU+MyU9BEOOw4Amg692WTruHr55OkTkcrBANDScmkGbzAAJIg5La3fhk5cvnLlyuMnTviWdnMCFWA0dIiDZG8ufV0eg3hbDwAI94YlNFa1vfTim1HRsd5h3uXCz59vdCakh4Wnbtv5d6vJajXbQAgAUGzCBYjyrxve/uLoj76F9MkNq/fF1KVvbrqUO2W+TPQVgiJeO0XRbgxn7mmaxj0ePh/l8VEWi9XeYkxPy4sbMozDYXfodPu3flJefBIAouNTRk2akZI+8hXRnzUtGorqCRWUjVqt5ocfmvntwcOhoaFe+80JdClhNHR8vOE9trzH0tlm4kGYiI5gLq47/HKlrfJUo91oJQiSTQtGpiXyeNxDX3+xceG07Lbz2xOl2xOls7HGU58sOXZwH1NIaKhSR3QCQGYwmhmMhspkBXPG9GuVEdAbYBg9Pnv/V7sHxYcCgLbZkDV2anLKmJjBEQDQ0tLhduNZk2w1NRf27Ppw7NjhHFqJ8kM8HkL9xeuLo+PkaHdFCWLO4mjhnrbPqzF3UvI4APhMgxUMqE6WJDU7m2fnp/tUGBABzQOFG/+8oOA1kSjIoNe/9NyTiaMGjUvPy8zKQxCkuKhoW2EhjhPiIOljC5cAQNnpcx9uWpX7h2nTZj3y/cEd7wnVwsg4SEoCADhyhCnQSWKPNXCTkjJSIuvGJImWv1syO6y22ByZPGXKRztP9qsL9S3AYjbWNxg6WluLD+1Nv3/GhOyM5ibN6HHJBr3+hXkz7g8PKYiVAYDTZtzRdqkjYoEqNpnN7u6ZPxzeuT9NArm5zCNpdxzZfVDCYWUGo6027F2LYcMbWSUN6OOLt8/JzT5RdsFB0DU1NddqDoi+Y2DLptVhwShV+tFr4kbLgc1HD50OV8o7O81LXnhh+RBTQd5oyM2F3FxhZNyzUfcM6fiRcF1nOa02dJ1Xt51pbUdYkBncPYi1m5Hjl3guDwsArHbHiKTkE/0ZQBn6FgAA6sbGgeyrcuWwgghh2dnjJ46V7dy6czh1Pjn7cYiJ6XZKT4fo6Bw5qq4t6ZXZ7YbmZuZWwmHlyHnMfZW1ur6pva5JyzzqjKbJD0wNvOd46VvA08+vulC8P0k5FsaMAT4/1bXfg3uaGi7PC4sF33ULhwOhoXJU3qFVA4CmrfGHwzsxzJ534CwYjVHykLSoiMTGOq/7p5pwASr49lDFK6t2Zt+bqowZOn369J7SAqbvUUgqCz1fduVcVJAVgnMA8iT3vFV2jCAIPkvAOOw+XrHv58oDbz/BPD4UVrL5G2pGdtiqdUNO16OffkYePvvNxGa1AGEBAEERbsr9reZkvTZ8atZYAPAQZH2n5fCWLdcq7B99CyguKpLJ+JkJ0UeAbcdwPsJKEHGqHOhBtWGhRgMqlTxImJUcBwQBRiMAtGAKFjgLZkYAQMZQvH5S8tLN2gVDuyIBBwAcxTChZX9L9NSsVABwuvCoYUkf7ljVq8r+0LeAbYWFT08beKREmzM5Awx8t93E1Z9wUsk7dPjCsjLA8Zz0YTnpw6C0FLTaZmdzsSWyQa2+oOZeKwAXi9DLYsFZOw0AYrZUwR2RlgwA4HThlZeblq/d4K3rFuhbAAAMjxP+55wZSkvB4yEoQjoAX/IHmSpk9NJ1l9dDFdTVAQA4nQBgxI0Vda2ZE0ev21Y6b+Y4JjsLAdXAEBWEAABNg8cBlAe++OH4IGV46vC4mTPyz5WV91TWT/oOYrlCcbKWE5IiOdjusHsc+9uLtMIRaUPQ8FDe868Mf7vWaLF0Oax6B+GotjS8VW6d/MCEcIWMpFlHi6r0Ruu6zf++b0IKUxRN0w4r3qrp+uZY8Zzc7LEpI4R8XlbK8OTk5N519oO+JzIA+OC9dzBzw5nzV8aHtHM4iFmW+GCeSioRHKvA3t/8w/gIXOBpB4BOQoLGpDPLfQC4VHe1vaOLab3djms7DBRJu+y0LEg4QN7tw1DZ0LJm7fu3sJ+EAAVgGPbj0aM2h+Ozwk1uFzZy+BCaTWWNj7U7sM3bfoofFml3OQHAu1nxpbHRoNZqVPJwkqD4AtH0mfMZ+5mfD9qcruAgIQDYHE4kRLl58+ZeOQMjIAFeNBpNW1vb7FkzIwYoLXYTgrCz0kby+Sjr2paSoaap7WJD987wofzxuAc36l1/nPuiVBYiEEkYu9moP3nsR6OuRiIS3D0BfjCHVgw//PQT99pW4dE52V47TdNmM5E2Oj8+caShs+Nc8c8AkDHxPqFYijmw777ehXj0KJdTr257+Mln5s2b580YIAGNQjdi+56eE7gN69ayWbjN0UGBCwBID0G6PQCA46REFhefOLL2YsXJY3sHhEkA4OdDjZExmWmZWTFxQ7WNZoBb/xH7HoUCYVth4UuvLv3jw89EDBzGD5YIFTKhQiaUS4Vyqd3OnvzAAyaDqfL0kYhIicuDa9rNLB7Vrq40GUyp6RkSudi/uP5wZwQUFxVt2/3XxtYzD8593KMjAQDhctAgIRokdLlgwsRxTQ1nFUMlOE4OlNAFs4ddbbXSXEdL/VmhWMjls9HrH94FxJ0RAACkq+v4kX9XV5Qv/8vf3W0eiujZ7CIIG7m2Q7gufmOAF5IkO3Q65mptbTUajf4etxkDvsyKx5eXGGvqLyampT/76psb1i6TRssAICiUX36uPHnkhH3/LJfKEa2V3PZlXeQgCcsjih56r9PupEjKQxIiiSzGuzIHAIDioiKDvvOrvf9kHhtb1SNHjpo0eerknByxuKfX3eyHCZyCRYu2faMBgIqy05jDQZKUyeZkkoLE9Jd7v0RQXmpGTttVK5+LqpQy2s1OzZgcLA+uLDvtdNpdbjx4gMp3Ijty6NC+3R//5/CeqGgZc903IUXEdX6995NXX13sdYM7JSAzK+tsjVUhQ61dVoqmL1Q1Y24cAGxaA3hwq7mp9mJFfOLIWXOXcHmDubzBE6c8o4qJr71Y0dxUzGb7H0IWFxUdOvB5UBA7KmmQJEIhiVAwJ388Pic6SiFgG/Py8rzOtzUP+NKh0732QkF0pHLiA09VlVUYjcXeJJKk9Hpi9vxXgiQyl9Ppxl0AUFd1serC96oIid2B/XSqsaqqqlc5scFBKgWb03MGZW5u994btE62rHviu2MxwBcI4obGxw1N9eBwoujrhMQwxk6SlBPj3T9lnkQaXFl+ur21rqX5EgBERctUERK7Ha+obg6VybzllBSfFIlRQYjEt/V+iII5Rov5ypUrsbGxd6YLAYBUKl34/OLL9fVWqyVrUr7B0B0DDJVlp8tLD9RUfk/TWqZPEwSlbjE77HjGvd2fcBh2bP1ULu/jixMfRbt0mtLSUrjJG/BdJsgVivUbN/okXp+BKtWSV19e9cYyo8HA5eBMOxCELRS4CfyKToMEB3fvQuvrDFHK0AFKMYfDRhC29/PZjbBpDf6ma/gLwDDsH39bX1J80tsHAADHO2fk3P/YUwunz5qFIDd8swAQGhq6aeunGo1m5vTpJpMzPj7c7XEzSW4cAECnt11u7ASAq52m7PRkq8XI5oLvR43ympqExDCnwcLmctgIG3e4MIMNADwkiV5ba/mGba8uhGHYjq2F2rZq39YDAIoiI+LDDh/413fffO1rvxEqlerDjz6ShUlwO11a2nD02IWGVheBKAlEOXXGo1VVVVVVVSVnzk57pIDiKwlEefjw4Z7MNFAEAIC93Whq0jv1TjZHwOYIzHYSsxNuFwEAuK3HvdcotO6d1Z2GupABUgBwGq5zPmUyYWmjJhcsWuSfcD1KSkpWvvGa1WIZkZS8avU7sbGx/h7XY+uWLWeLvg8bIPQ4QTxAStMU0AQAUBRt67R3WZwhQWK3k7ADlymzl4BZU3LG5CQwXysIF25vv87UrdFQvovQm6PRaEiSFIlEgZ9YXW1tfXjW9LioyMFpgwibjaYomuppIWalWq52yaVC7/6hR8ATc+cmZPb0RcpDWNv03kcv+rZb33wEyIEDBzasXTvqnkgerydEaRpINxAYNF7tdCMcb6/r3zBKdn/N+GXJz89ftmKF283qVR0FXXqHzmAamzneN2Z6B7HR2nPf5RMp1yDu1v84cqZMeWj+s2q12TufeDDQGU1RI1JeWrrU17PXMGrTODo1Jq3GFqUMRVjA696+duNxAu2/bPkFyczKCg4Jee/tPzHzic2KKWOGLluxQiDonkwYet6AXKFwOHAPIGPzEgemKuXxYbiN5XZSFElTBLhMQLoBANweIvCIvE0SkpIee+pFo97pMgNF0QiX67uQZugRsH7jxvYua/TQ7hkAQRFZjMTmdHVonL7j7vkG9Zo1a3qef2Ewt9tmdgMNCIJI/qf14BcDjz75lLa5e9KmSMptc8rlQn4Q+0x1LWM8U117N1sPAAlJSZwg2YmyCwRwFyxY4J/sN5F16HTLl70Qnx4NAN6/C7itsPfQ8Tm52Weqa9//x8ejR4/2+t8djEajw+EQCgRyhcI/zU/AzNz70zJieDKxTaOncMrjplx2Cvd46tQ6o92+Zs2a/Px8n7y/CXqNQmwOgkqEjo4uAqN0WjtXKB6ekKrWaDIHJ9zlnhM4PQK2FRbKJSKbxky4PKfP1K546x1JcPCtHbjeTXoEFBcVhQr5ri7P2era9b9GX781esXAE3PnGs3mgkWLfoN9/UbcsU39r0X/FnO/QX73Av4LI3WQWeSXbM0AAAAASUVORK5CYII=",
         "type": "image",
         "xaxis": "x",
         "yaxis": "y"
        }
       ],
       "layout": {
        "height": 350,
        "margin": {
         "l": 0,
         "t": 60
        },
        "shapes": [
         {
          "line": {
           "color": "black",
           "width": 2
          },
          "type": "rect",
          "x0": 0,
          "x1": 64,
          "xref": "x",
          "y0": 0,
          "y1": 64,
          "yref": "y"
         }
        ],
        "template": {
         "data": {
          "bar": [
           {
            "error_x": {
             "color": "#2a3f5f"
            },
            "error_y": {
             "color": "#2a3f5f"
            },
            "marker": {
             "line": {
              "color": "#E5ECF6",
              "width": 0.5
             },
             "pattern": {
              "fillmode": "overlay",
              "size": 10,
              "solidity": 0.2
             }
            },
            "type": "bar"
           }
          ],
          "barpolar": [
           {
            "marker": {
             "line": {
              "color": "#E5ECF6",
              "width": 0.5
             },
             "pattern": {
              "fillmode": "overlay",
              "size": 10,
              "solidity": 0.2
             }
            },
            "type": "barpolar"
           }
          ],
          "carpet": [
           {
            "aaxis": {
             "endlinecolor": "#2a3f5f",
             "gridcolor": "white",
             "linecolor": "white",
             "minorgridcolor": "white",
             "startlinecolor": "#2a3f5f"
            },
            "baxis": {
             "endlinecolor": "#2a3f5f",
             "gridcolor": "white",
             "linecolor": "white",
             "minorgridcolor": "white",
             "startlinecolor": "#2a3f5f"
            },
            "type": "carpet"
           }
          ],
          "choropleth": [
           {
            "colorbar": {
             "outlinewidth": 0,
             "ticks": ""
            },
            "type": "choropleth"
           }
          ],
          "contour": [
           {
            "colorbar": {
             "outlinewidth": 0,
             "ticks": ""
            },
            "colorscale": [
             [
              0,
              "#0d0887"
             ],
             [
              0.1111111111111111,
              "#46039f"
             ],
             [
              0.2222222222222222,
              "#7201a8"
             ],
             [
              0.3333333333333333,
              "#9c179e"
             ],
             [
              0.4444444444444444,
              "#bd3786"
             ],
             [
              0.5555555555555556,
              "#d8576b"
             ],
             [
              0.6666666666666666,
              "#ed7953"
             ],
             [
              0.7777777777777778,
              "#fb9f3a"
             ],
             [
              0.8888888888888888,
              "#fdca26"
             ],
             [
              1,
              "#f0f921"
             ]
            ],
            "type": "contour"
           }
          ],
          "contourcarpet": [
           {
            "colorbar": {
             "outlinewidth": 0,
             "ticks": ""
            },
            "type": "contourcarpet"
           }
          ],
          "heatmap": [
           {
            "colorbar": {
             "outlinewidth": 0,
             "ticks": ""
            },
            "colorscale": [
             [
              0,
              "#0d0887"
             ],
             [
              0.1111111111111111,
              "#46039f"
             ],
             [
              0.2222222222222222,
              "#7201a8"
             ],
             [
              0.3333333333333333,
              "#9c179e"
             ],
             [
              0.4444444444444444,
              "#bd3786"
             ],
             [
              0.5555555555555556,
              "#d8576b"
             ],
             [
              0.6666666666666666,
              "#ed7953"
             ],
             [
              0.7777777777777778,
              "#fb9f3a"
             ],
             [
              0.8888888888888888,
              "#fdca26"
             ],
             [
              1,
              "#f0f921"
             ]
            ],
            "type": "heatmap"
           }
          ],
          "heatmapgl": [
           {
            "colorbar": {
             "outlinewidth": 0,
             "ticks": ""
            },
            "colorscale": [
             [
              0,
              "#0d0887"
             ],
             [
              0.1111111111111111,
              "#46039f"
             ],
             [
              0.2222222222222222,
              "#7201a8"
             ],
             [
              0.3333333333333333,
              "#9c179e"
             ],
             [
              0.4444444444444444,
              "#bd3786"
             ],
             [
              0.5555555555555556,
              "#d8576b"
             ],
             [
              0.6666666666666666,
              "#ed7953"
             ],
             [
              0.7777777777777778,
              "#fb9f3a"
             ],
             [
              0.8888888888888888,
              "#fdca26"
             ],
             [
              1,
              "#f0f921"
             ]
            ],
            "type": "heatmapgl"
           }
          ],
          "histogram": [
           {
            "marker": {
             "pattern": {
              "fillmode": "overlay",
              "size": 10,
              "solidity": 0.2
             }
            },
            "type": "histogram"
           }
          ],
          "histogram2d": [
           {
            "colorbar": {
             "outlinewidth": 0,
             "ticks": ""
            },
            "colorscale": [
             [
              0,
              "#0d0887"
             ],
             [
              0.1111111111111111,
              "#46039f"
             ],
             [
              0.2222222222222222,
              "#7201a8"
             ],
             [
              0.3333333333333333,
              "#9c179e"
             ],
             [
              0.4444444444444444,
              "#bd3786"
             ],
             [
              0.5555555555555556,
              "#d8576b"
             ],
             [
              0.6666666666666666,
              "#ed7953"
             ],
             [
              0.7777777777777778,
              "#fb9f3a"
             ],
             [
              0.8888888888888888,
              "#fdca26"
             ],
             [
              1,
              "#f0f921"
             ]
            ],
            "type": "histogram2d"
           }
          ],
          "histogram2dcontour": [
           {
            "colorbar": {
             "outlinewidth": 0,
             "ticks": ""
            },
            "colorscale": [
             [
              0,
              "#0d0887"
             ],
             [
              0.1111111111111111,
              "#46039f"
             ],
             [
              0.2222222222222222,
              "#7201a8"
             ],
             [
              0.3333333333333333,
              "#9c179e"
             ],
             [
              0.4444444444444444,
              "#bd3786"
             ],
             [
              0.5555555555555556,
              "#d8576b"
             ],
             [
              0.6666666666666666,
              "#ed7953"
             ],
             [
              0.7777777777777778,
              "#fb9f3a"
             ],
             [
              0.8888888888888888,
              "#fdca26"
             ],
             [
              1,
              "#f0f921"
             ]
            ],
            "type": "histogram2dcontour"
           }
          ],
          "mesh3d": [
           {
            "colorbar": {
             "outlinewidth": 0,
             "ticks": ""
            },
            "type": "mesh3d"
           }
          ],
          "parcoords": [
           {
            "line": {
             "colorbar": {
              "outlinewidth": 0,
              "ticks": ""
             }
            },
            "type": "parcoords"
           }
          ],
          "pie": [
           {
            "automargin": true,
            "type": "pie"
           }
          ],
          "scatter": [
           {
            "fillpattern": {
             "fillmode": "overlay",
             "size": 10,
             "solidity": 0.2
            },
            "type": "scatter"
           }
          ],
          "scatter3d": [
           {
            "line": {
             "colorbar": {
              "outlinewidth": 0,
              "ticks": ""
             }
            },
            "marker": {
             "colorbar": {
              "outlinewidth": 0,
              "ticks": ""
             }
            },
            "type": "scatter3d"
           }
          ],
          "scattercarpet": [
           {
            "marker": {
             "colorbar": {
              "outlinewidth": 0,
              "ticks": ""
             }
            },
            "type": "scattercarpet"
           }
          ],
          "scattergeo": [
           {
            "marker": {
             "colorbar": {
              "outlinewidth": 0,
              "ticks": ""
             }
            },
            "type": "scattergeo"
           }
          ],
          "scattergl": [
           {
            "marker": {
             "colorbar": {
              "outlinewidth": 0,
              "ticks": ""
             }
            },
            "type": "scattergl"
           }
          ],
          "scattermapbox": [
           {
            "marker": {
             "colorbar": {
              "outlinewidth": 0,
              "ticks": ""
             }
            },
            "type": "scattermapbox"
           }
          ],
          "scatterpolar": [
           {
            "marker": {
             "colorbar": {
              "outlinewidth": 0,
              "ticks": ""
             }
            },
            "type": "scatterpolar"
           }
          ],
          "scatterpolargl": [
           {
            "marker": {
             "colorbar": {
              "outlinewidth": 0,
              "ticks": ""
             }
            },
            "type": "scatterpolargl"
           }
          ],
          "scatterternary": [
           {
            "marker": {
             "colorbar": {
              "outlinewidth": 0,
              "ticks": ""
             }
            },
            "type": "scatterternary"
           }
          ],
          "surface": [
           {
            "colorbar": {
             "outlinewidth": 0,
             "ticks": ""
            },
            "colorscale": [
             [
              0,
              "#0d0887"
             ],
             [
              0.1111111111111111,
              "#46039f"
             ],
             [
              0.2222222222222222,
              "#7201a8"
             ],
             [
              0.3333333333333333,
              "#9c179e"
             ],
             [
              0.4444444444444444,
              "#bd3786"
             ],
             [
              0.5555555555555556,
              "#d8576b"
             ],
             [
              0.6666666666666666,
              "#ed7953"
             ],
             [
              0.7777777777777778,
              "#fb9f3a"
             ],
             [
              0.8888888888888888,
              "#fdca26"
             ],
             [
              1,
              "#f0f921"
             ]
            ],
            "type": "surface"
           }
          ],
          "table": [
           {
            "cells": {
             "fill": {
              "color": "#EBF0F8"
             },
             "line": {
              "color": "white"
             }
            },
            "header": {
             "fill": {
              "color": "#C8D4E3"
             },
             "line": {
              "color": "white"
             }
            },
            "type": "table"
           }
          ]
         },
         "layout": {
          "annotationdefaults": {
           "arrowcolor": "#2a3f5f",
           "arrowhead": 0,
           "arrowwidth": 1
          },
          "autotypenumbers": "strict",
          "coloraxis": {
           "colorbar": {
            "outlinewidth": 0,
            "ticks": ""
           }
          },
          "colorscale": {
           "diverging": [
            [
             0,
             "#8e0152"
            ],
            [
             0.1,
             "#c51b7d"
            ],
            [
             0.2,
             "#de77ae"
            ],
            [
             0.3,
             "#f1b6da"
            ],
            [
             0.4,
             "#fde0ef"
            ],
            [
             0.5,
             "#f7f7f7"
            ],
            [
             0.6,
             "#e6f5d0"
            ],
            [
             0.7,
             "#b8e186"
            ],
            [
             0.8,
             "#7fbc41"
            ],
            [
             0.9,
             "#4d9221"
            ],
            [
             1,
             "#276419"
            ]
           ],
           "sequential": [
            [
             0,
             "#0d0887"
            ],
            [
             0.1111111111111111,
             "#46039f"
            ],
            [
             0.2222222222222222,
             "#7201a8"
            ],
            [
             0.3333333333333333,
             "#9c179e"
            ],
            [
             0.4444444444444444,
             "#bd3786"
            ],
            [
             0.5555555555555556,
             "#d8576b"
            ],
            [
             0.6666666666666666,
             "#ed7953"
            ],
            [
             0.7777777777777778,
             "#fb9f3a"
            ],
            [
             0.8888888888888888,
             "#fdca26"
            ],
            [
             1,
             "#f0f921"
            ]
           ],
           "sequentialminus": [
            [
             0,
             "#0d0887"
            ],
            [
             0.1111111111111111,
             "#46039f"
            ],
            [
             0.2222222222222222,
             "#7201a8"
            ],
            [
             0.3333333333333333,
             "#9c179e"
            ],
            [
             0.4444444444444444,
             "#bd3786"
            ],
            [
             0.5555555555555556,
             "#d8576b"
            ],
            [
             0.6666666666666666,
             "#ed7953"
            ],
            [
             0.7777777777777778,
             "#fb9f3a"
            ],
            [
             0.8888888888888888,
             "#fdca26"
            ],
            [
             1,
             "#f0f921"
            ]
           ]
          },
          "colorway": [
           "#636efa",
           "#EF553B",
           "#00cc96",
           "#ab63fa",
           "#FFA15A",
           "#19d3f3",
           "#FF6692",
           "#B6E880",
           "#FF97FF",
           "#FECB52"
          ],
          "font": {
           "color": "#2a3f5f"
          },
          "geo": {
           "bgcolor": "white",
           "lakecolor": "white",
           "landcolor": "#E5ECF6",
           "showlakes": true,
           "showland": true,
           "subunitcolor": "white"
          },
          "hoverlabel": {
           "align": "left"
          },
          "hovermode": "closest",
          "mapbox": {
           "style": "light"
          },
          "paper_bgcolor": "white",
          "plot_bgcolor": "#E5ECF6",
          "polar": {
           "angularaxis": {
            "gridcolor": "white",
            "linecolor": "white",
            "ticks": ""
           },
           "bgcolor": "#E5ECF6",
           "radialaxis": {
            "gridcolor": "white",
            "linecolor": "white",
            "ticks": ""
           }
          },
          "scene": {
           "xaxis": {
            "backgroundcolor": "#E5ECF6",
            "gridcolor": "white",
            "gridwidth": 2,
            "linecolor": "white",
            "showbackground": true,
            "ticks": "",
            "zerolinecolor": "white"
           },
           "yaxis": {
            "backgroundcolor": "#E5ECF6",
            "gridcolor": "white",
            "gridwidth": 2,
            "linecolor": "white",
            "showbackground": true,
            "ticks": "",
            "zerolinecolor": "white"
           },
           "zaxis": {
            "backgroundcolor": "#E5ECF6",
            "gridcolor": "white",
            "gridwidth": 2,
            "linecolor": "white",
            "showbackground": true,
            "ticks": "",
            "zerolinecolor": "white"
           }
          },
          "shapedefaults": {
           "line": {
            "color": "#2a3f5f"
           }
          },
          "ternary": {
           "aaxis": {
            "gridcolor": "white",
            "linecolor": "white",
            "ticks": ""
           },
           "baxis": {
            "gridcolor": "white",
            "linecolor": "white",
            "ticks": ""
           },
           "bgcolor": "#E5ECF6",
           "caxis": {
            "gridcolor": "white",
            "linecolor": "white",
            "ticks": ""
           }
          },
          "title": {
           "x": 0.05
          },
          "xaxis": {
           "automargin": true,
           "gridcolor": "white",
           "linecolor": "white",
           "ticks": "",
           "title": {
            "standoff": 15
           },
           "zerolinecolor": "white",
           "zerolinewidth": 2
          },
          "yaxis": {
           "automargin": true,
           "gridcolor": "white",
           "linecolor": "white",
           "ticks": "",
           "title": {
            "standoff": 15
           },
           "zerolinecolor": "white",
           "zerolinewidth": 2
          }
         }
        },
        "title": {
         "text": "Label: Abomasnow"
        },
        "width": 500,
        "xaxis": {
         "anchor": "y",
         "domain": [
          0,
          1
         ],
         "showgrid": false,
         "showticklabels": false,
         "visible": false,
         "zeroline": false
        },
        "yaxis": {
         "anchor": "x",
         "domain": [
          0,
          1
         ],
         "showgrid": false,
         "showticklabels": false,
         "visible": false,
         "zeroline": false
        }
       }
      }
     },
     "metadata": {},
     "output_type": "display_data"
    },
    {
     "name": "stdout",
     "output_type": "stream",
     "text": [
      "(64, 64, 3)\n"
     ]
    },
    {
     "data": {
      "application/vnd.plotly.v1+json": {
       "config": {
        "plotlyServerURL": "https://plot.ly"
       },
       "data": [
        {
         "hovertemplate": "x: %{x}<br>y: %{y}<br>color: [%{z[0]}, %{z[1]}, %{z[2]}]<extra></extra>",
         "name": "0",
         "source": "data:image/png;base64,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",
         "type": "image",
         "xaxis": "x",
         "yaxis": "y"
        }
       ],
       "layout": {
        "height": 350,
        "margin": {
         "l": 0,
         "t": 60
        },
        "shapes": [
         {
          "line": {
           "color": "black",
           "width": 2
          },
          "type": "rect",
          "x0": 0,
          "x1": 64,
          "xref": "x",
          "y0": 0,
          "y1": 64,
          "yref": "y"
         }
        ],
        "template": {
         "data": {
          "bar": [
           {
            "error_x": {
             "color": "#2a3f5f"
            },
            "error_y": {
             "color": "#2a3f5f"
            },
            "marker": {
             "line": {
              "color": "#E5ECF6",
              "width": 0.5
             },
             "pattern": {
              "fillmode": "overlay",
              "size": 10,
              "solidity": 0.2
             }
            },
            "type": "bar"
           }
          ],
          "barpolar": [
           {
            "marker": {
             "line": {
              "color": "#E5ECF6",
              "width": 0.5
             },
             "pattern": {
              "fillmode": "overlay",
              "size": 10,
              "solidity": 0.2
             }
            },
            "type": "barpolar"
           }
          ],
          "carpet": [
           {
            "aaxis": {
             "endlinecolor": "#2a3f5f",
             "gridcolor": "white",
             "linecolor": "white",
             "minorgridcolor": "white",
             "startlinecolor": "#2a3f5f"
            },
            "baxis": {
             "endlinecolor": "#2a3f5f",
             "gridcolor": "white",
             "linecolor": "white",
             "minorgridcolor": "white",
             "startlinecolor": "#2a3f5f"
            },
            "type": "carpet"
           }
          ],
          "choropleth": [
           {
            "colorbar": {
             "outlinewidth": 0,
             "ticks": ""
            },
            "type": "choropleth"
           }
          ],
          "contour": [
           {
            "colorbar": {
             "outlinewidth": 0,
             "ticks": ""
            },
            "colorscale": [
             [
              0,
              "#0d0887"
             ],
             [
              0.1111111111111111,
              "#46039f"
             ],
             [
              0.2222222222222222,
              "#7201a8"
             ],
             [
              0.3333333333333333,
              "#9c179e"
             ],
             [
              0.4444444444444444,
              "#bd3786"
             ],
             [
              0.5555555555555556,
              "#d8576b"
             ],
             [
              0.6666666666666666,
              "#ed7953"
             ],
             [
              0.7777777777777778,
              "#fb9f3a"
             ],
             [
              0.8888888888888888,
              "#fdca26"
             ],
             [
              1,
              "#f0f921"
             ]
            ],
            "type": "contour"
           }
          ],
          "contourcarpet": [
           {
            "colorbar": {
             "outlinewidth": 0,
             "ticks": ""
            },
            "type": "contourcarpet"
           }
          ],
          "heatmap": [
           {
            "colorbar": {
             "outlinewidth": 0,
             "ticks": ""
            },
            "colorscale": [
             [
              0,
              "#0d0887"
             ],
             [
              0.1111111111111111,
              "#46039f"
             ],
             [
              0.2222222222222222,
              "#7201a8"
             ],
             [
              0.3333333333333333,
              "#9c179e"
             ],
             [
              0.4444444444444444,
              "#bd3786"
             ],
             [
              0.5555555555555556,
              "#d8576b"
             ],
             [
              0.6666666666666666,
              "#ed7953"
             ],
             [
              0.7777777777777778,
              "#fb9f3a"
             ],
             [
              0.8888888888888888,
              "#fdca26"
             ],
             [
              1,
              "#f0f921"
             ]
            ],
            "type": "heatmap"
           }
          ],
          "heatmapgl": [
           {
            "colorbar": {
             "outlinewidth": 0,
             "ticks": ""
            },
            "colorscale": [
             [
              0,
              "#0d0887"
             ],
             [
              0.1111111111111111,
              "#46039f"
             ],
             [
              0.2222222222222222,
              "#7201a8"
             ],
             [
              0.3333333333333333,
              "#9c179e"
             ],
             [
              0.4444444444444444,
              "#bd3786"
             ],
             [
              0.5555555555555556,
              "#d8576b"
             ],
             [
              0.6666666666666666,
              "#ed7953"
             ],
             [
              0.7777777777777778,
              "#fb9f3a"
             ],
             [
              0.8888888888888888,
              "#fdca26"
             ],
             [
              1,
              "#f0f921"
             ]
            ],
            "type": "heatmapgl"
           }
          ],
          "histogram": [
           {
            "marker": {
             "pattern": {
              "fillmode": "overlay",
              "size": 10,
              "solidity": 0.2
             }
            },
            "type": "histogram"
           }
          ],
          "histogram2d": [
           {
            "colorbar": {
             "outlinewidth": 0,
             "ticks": ""
            },
            "colorscale": [
             [
              0,
              "#0d0887"
             ],
             [
              0.1111111111111111,
              "#46039f"
             ],
             [
              0.2222222222222222,
              "#7201a8"
             ],
             [
              0.3333333333333333,
              "#9c179e"
             ],
             [
              0.4444444444444444,
              "#bd3786"
             ],
             [
              0.5555555555555556,
              "#d8576b"
             ],
             [
              0.6666666666666666,
              "#ed7953"
             ],
             [
              0.7777777777777778,
              "#fb9f3a"
             ],
             [
              0.8888888888888888,
              "#fdca26"
             ],
             [
              1,
              "#f0f921"
             ]
            ],
            "type": "histogram2d"
           }
          ],
          "histogram2dcontour": [
           {
            "colorbar": {
             "outlinewidth": 0,
             "ticks": ""
            },
            "colorscale": [
             [
              0,
              "#0d0887"
             ],
             [
              0.1111111111111111,
              "#46039f"
             ],
             [
              0.2222222222222222,
              "#7201a8"
             ],
             [
              0.3333333333333333,
              "#9c179e"
             ],
             [
              0.4444444444444444,
              "#bd3786"
             ],
             [
              0.5555555555555556,
              "#d8576b"
             ],
             [
              0.6666666666666666,
              "#ed7953"
             ],
             [
              0.7777777777777778,
              "#fb9f3a"
             ],
             [
              0.8888888888888888,
              "#fdca26"
             ],
             [
              1,
              "#f0f921"
             ]
            ],
            "type": "histogram2dcontour"
           }
          ],
          "mesh3d": [
           {
            "colorbar": {
             "outlinewidth": 0,
             "ticks": ""
            },
            "type": "mesh3d"
           }
          ],
          "parcoords": [
           {
            "line": {
             "colorbar": {
              "outlinewidth": 0,
              "ticks": ""
             }
            },
            "type": "parcoords"
           }
          ],
          "pie": [
           {
            "automargin": true,
            "type": "pie"
           }
          ],
          "scatter": [
           {
            "fillpattern": {
             "fillmode": "overlay",
             "size": 10,
             "solidity": 0.2
            },
            "type": "scatter"
           }
          ],
          "scatter3d": [
           {
            "line": {
             "colorbar": {
              "outlinewidth": 0,
              "ticks": ""
             }
            },
            "marker": {
             "colorbar": {
              "outlinewidth": 0,
              "ticks": ""
             }
            },
            "type": "scatter3d"
           }
          ],
          "scattercarpet": [
           {
            "marker": {
             "colorbar": {
              "outlinewidth": 0,
              "ticks": ""
             }
            },
            "type": "scattercarpet"
           }
          ],
          "scattergeo": [
           {
            "marker": {
             "colorbar": {
              "outlinewidth": 0,
              "ticks": ""
             }
            },
            "type": "scattergeo"
           }
          ],
          "scattergl": [
           {
            "marker": {
             "colorbar": {
              "outlinewidth": 0,
              "ticks": ""
             }
            },
            "type": "scattergl"
           }
          ],
          "scattermapbox": [
           {
            "marker": {
             "colorbar": {
              "outlinewidth": 0,
              "ticks": ""
             }
            },
            "type": "scattermapbox"
           }
          ],
          "scatterpolar": [
           {
            "marker": {
             "colorbar": {
              "outlinewidth": 0,
              "ticks": ""
             }
            },
            "type": "scatterpolar"
           }
          ],
          "scatterpolargl": [
           {
            "marker": {
             "colorbar": {
              "outlinewidth": 0,
              "ticks": ""
             }
            },
            "type": "scatterpolargl"
           }
          ],
          "scatterternary": [
           {
            "marker": {
             "colorbar": {
              "outlinewidth": 0,
              "ticks": ""
             }
            },
            "type": "scatterternary"
           }
          ],
          "surface": [
           {
            "colorbar": {
             "outlinewidth": 0,
             "ticks": ""
            },
            "colorscale": [
             [
              0,
              "#0d0887"
             ],
             [
              0.1111111111111111,
              "#46039f"
             ],
             [
              0.2222222222222222,
              "#7201a8"
             ],
             [
              0.3333333333333333,
              "#9c179e"
             ],
             [
              0.4444444444444444,
              "#bd3786"
             ],
             [
              0.5555555555555556,
              "#d8576b"
             ],
             [
              0.6666666666666666,
              "#ed7953"
             ],
             [
              0.7777777777777778,
              "#fb9f3a"
             ],
             [
              0.8888888888888888,
              "#fdca26"
             ],
             [
              1,
              "#f0f921"
             ]
            ],
            "type": "surface"
           }
          ],
          "table": [
           {
            "cells": {
             "fill": {
              "color": "#EBF0F8"
             },
             "line": {
              "color": "white"
             }
            },
            "header": {
             "fill": {
              "color": "#C8D4E3"
             },
             "line": {
              "color": "white"
             }
            },
            "type": "table"
           }
          ]
         },
         "layout": {
          "annotationdefaults": {
           "arrowcolor": "#2a3f5f",
           "arrowhead": 0,
           "arrowwidth": 1
          },
          "autotypenumbers": "strict",
          "coloraxis": {
           "colorbar": {
            "outlinewidth": 0,
            "ticks": ""
           }
          },
          "colorscale": {
           "diverging": [
            [
             0,
             "#8e0152"
            ],
            [
             0.1,
             "#c51b7d"
            ],
            [
             0.2,
             "#de77ae"
            ],
            [
             0.3,
             "#f1b6da"
            ],
            [
             0.4,
             "#fde0ef"
            ],
            [
             0.5,
             "#f7f7f7"
            ],
            [
             0.6,
             "#e6f5d0"
            ],
            [
             0.7,
             "#b8e186"
            ],
            [
             0.8,
             "#7fbc41"
            ],
            [
             0.9,
             "#4d9221"
            ],
            [
             1,
             "#276419"
            ]
           ],
           "sequential": [
            [
             0,
             "#0d0887"
            ],
            [
             0.1111111111111111,
             "#46039f"
            ],
            [
             0.2222222222222222,
             "#7201a8"
            ],
            [
             0.3333333333333333,
             "#9c179e"
            ],
            [
             0.4444444444444444,
             "#bd3786"
            ],
            [
             0.5555555555555556,
             "#d8576b"
            ],
            [
             0.6666666666666666,
             "#ed7953"
            ],
            [
             0.7777777777777778,
             "#fb9f3a"
            ],
            [
             0.8888888888888888,
             "#fdca26"
            ],
            [
             1,
             "#f0f921"
            ]
           ],
           "sequentialminus": [
            [
             0,
             "#0d0887"
            ],
            [
             0.1111111111111111,
             "#46039f"
            ],
            [
             0.2222222222222222,
             "#7201a8"
            ],
            [
             0.3333333333333333,
             "#9c179e"
            ],
            [
             0.4444444444444444,
             "#bd3786"
            ],
            [
             0.5555555555555556,
             "#d8576b"
            ],
            [
             0.6666666666666666,
             "#ed7953"
            ],
            [
             0.7777777777777778,
             "#fb9f3a"
            ],
            [
             0.8888888888888888,
             "#fdca26"
            ],
            [
             1,
             "#f0f921"
            ]
           ]
          },
          "colorway": [
           "#636efa",
           "#EF553B",
           "#00cc96",
           "#ab63fa",
           "#FFA15A",
           "#19d3f3",
           "#FF6692",
           "#B6E880",
           "#FF97FF",
           "#FECB52"
          ],
          "font": {
           "color": "#2a3f5f"
          },
          "geo": {
           "bgcolor": "white",
           "lakecolor": "white",
           "landcolor": "#E5ECF6",
           "showlakes": true,
           "showland": true,
           "subunitcolor": "white"
          },
          "hoverlabel": {
           "align": "left"
          },
          "hovermode": "closest",
          "mapbox": {
           "style": "light"
          },
          "paper_bgcolor": "white",
          "plot_bgcolor": "#E5ECF6",
          "polar": {
           "angularaxis": {
            "gridcolor": "white",
            "linecolor": "white",
            "ticks": ""
           },
           "bgcolor": "#E5ECF6",
           "radialaxis": {
            "gridcolor": "white",
            "linecolor": "white",
            "ticks": ""
           }
          },
          "scene": {
           "xaxis": {
            "backgroundcolor": "#E5ECF6",
            "gridcolor": "white",
            "gridwidth": 2,
            "linecolor": "white",
            "showbackground": true,
            "ticks": "",
            "zerolinecolor": "white"
           },
           "yaxis": {
            "backgroundcolor": "#E5ECF6",
            "gridcolor": "white",
            "gridwidth": 2,
            "linecolor": "white",
            "showbackground": true,
            "ticks": "",
            "zerolinecolor": "white"
           },
           "zaxis": {
            "backgroundcolor": "#E5ECF6",
            "gridcolor": "white",
            "gridwidth": 2,
            "linecolor": "white",
            "showbackground": true,
            "ticks": "",
            "zerolinecolor": "white"
           }
          },
          "shapedefaults": {
           "line": {
            "color": "#2a3f5f"
           }
          },
          "ternary": {
           "aaxis": {
            "gridcolor": "white",
            "linecolor": "white",
            "ticks": ""
           },
           "baxis": {
            "gridcolor": "white",
            "linecolor": "white",
            "ticks": ""
           },
           "bgcolor": "#E5ECF6",
           "caxis": {
            "gridcolor": "white",
            "linecolor": "white",
            "ticks": ""
           }
          },
          "title": {
           "x": 0.05
          },
          "xaxis": {
           "automargin": true,
           "gridcolor": "white",
           "linecolor": "white",
           "ticks": "",
           "title": {
            "standoff": 15
           },
           "zerolinecolor": "white",
           "zerolinewidth": 2
          },
          "yaxis": {
           "automargin": true,
           "gridcolor": "white",
           "linecolor": "white",
           "ticks": "",
           "title": {
            "standoff": 15
           },
           "zerolinecolor": "white",
           "zerolinewidth": 2
          }
         }
        },
        "title": {
         "text": "Label: Abomasnow"
        },
        "width": 500,
        "xaxis": {
         "anchor": "y",
         "domain": [
          0,
          1
         ],
         "showgrid": false,
         "showticklabels": false,
         "visible": false,
         "zeroline": false
        },
        "yaxis": {
         "anchor": "x",
         "domain": [
          0,
          1
         ],
         "showgrid": false,
         "showticklabels": false,
         "visible": false,
         "zeroline": false
        }
       }
      }
     },
     "metadata": {},
     "output_type": "display_data"
    },
    {
     "name": "stdout",
     "output_type": "stream",
     "text": [
      "(64, 64, 3)\n"
     ]
    },
    {
     "data": {
      "application/vnd.plotly.v1+json": {
       "config": {
        "plotlyServerURL": "https://plot.ly"
       },
       "data": [
        {
         "hovertemplate": "x: %{x}<br>y: %{y}<br>color: [%{z[0]}, %{z[1]}, %{z[2]}]<extra></extra>",
         "name": "0",
         "source": "data:image/png;base64,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",
         "type": "image",
         "xaxis": "x",
         "yaxis": "y"
        }
       ],
       "layout": {
        "height": 350,
        "margin": {
         "l": 0,
         "t": 60
        },
        "shapes": [
         {
          "line": {
           "color": "black",
           "width": 2
          },
          "type": "rect",
          "x0": 0,
          "x1": 64,
          "xref": "x",
          "y0": 0,
          "y1": 64,
          "yref": "y"
         }
        ],
        "template": {
         "data": {
          "bar": [
           {
            "error_x": {
             "color": "#2a3f5f"
            },
            "error_y": {
             "color": "#2a3f5f"
            },
            "marker": {
             "line": {
              "color": "#E5ECF6",
              "width": 0.5
             },
             "pattern": {
              "fillmode": "overlay",
              "size": 10,
              "solidity": 0.2
             }
            },
            "type": "bar"
           }
          ],
          "barpolar": [
           {
            "marker": {
             "line": {
              "color": "#E5ECF6",
              "width": 0.5
             },
             "pattern": {
              "fillmode": "overlay",
              "size": 10,
              "solidity": 0.2
             }
            },
            "type": "barpolar"
           }
          ],
          "carpet": [
           {
            "aaxis": {
             "endlinecolor": "#2a3f5f",
             "gridcolor": "white",
             "linecolor": "white",
             "minorgridcolor": "white",
             "startlinecolor": "#2a3f5f"
            },
            "baxis": {
             "endlinecolor": "#2a3f5f",
             "gridcolor": "white",
             "linecolor": "white",
             "minorgridcolor": "white",
             "startlinecolor": "#2a3f5f"
            },
            "type": "carpet"
           }
          ],
          "choropleth": [
           {
            "colorbar": {
             "outlinewidth": 0,
             "ticks": ""
            },
            "type": "choropleth"
           }
          ],
          "contour": [
           {
            "colorbar": {
             "outlinewidth": 0,
             "ticks": ""
            },
            "colorscale": [
             [
              0,
              "#0d0887"
             ],
             [
              0.1111111111111111,
              "#46039f"
             ],
             [
              0.2222222222222222,
              "#7201a8"
             ],
             [
              0.3333333333333333,
              "#9c179e"
             ],
             [
              0.4444444444444444,
              "#bd3786"
             ],
             [
              0.5555555555555556,
              "#d8576b"
             ],
             [
              0.6666666666666666,
              "#ed7953"
             ],
             [
              0.7777777777777778,
              "#fb9f3a"
             ],
             [
              0.8888888888888888,
              "#fdca26"
             ],
             [
              1,
              "#f0f921"
             ]
            ],
            "type": "contour"
           }
          ],
          "contourcarpet": [
           {
            "colorbar": {
             "outlinewidth": 0,
             "ticks": ""
            },
            "type": "contourcarpet"
           }
          ],
          "heatmap": [
           {
            "colorbar": {
             "outlinewidth": 0,
             "ticks": ""
            },
            "colorscale": [
             [
              0,
              "#0d0887"
             ],
             [
              0.1111111111111111,
              "#46039f"
             ],
             [
              0.2222222222222222,
              "#7201a8"
             ],
             [
              0.3333333333333333,
              "#9c179e"
             ],
             [
              0.4444444444444444,
              "#bd3786"
             ],
             [
              0.5555555555555556,
              "#d8576b"
             ],
             [
              0.6666666666666666,
              "#ed7953"
             ],
             [
              0.7777777777777778,
              "#fb9f3a"
             ],
             [
              0.8888888888888888,
              "#fdca26"
             ],
             [
              1,
              "#f0f921"
             ]
            ],
            "type": "heatmap"
           }
          ],
          "heatmapgl": [
           {
            "colorbar": {
             "outlinewidth": 0,
             "ticks": ""
            },
            "colorscale": [
             [
              0,
              "#0d0887"
             ],
             [
              0.1111111111111111,
              "#46039f"
             ],
             [
              0.2222222222222222,
              "#7201a8"
             ],
             [
              0.3333333333333333,
              "#9c179e"
             ],
             [
              0.4444444444444444,
              "#bd3786"
             ],
             [
              0.5555555555555556,
              "#d8576b"
             ],
             [
              0.6666666666666666,
              "#ed7953"
             ],
             [
              0.7777777777777778,
              "#fb9f3a"
             ],
             [
              0.8888888888888888,
              "#fdca26"
             ],
             [
              1,
              "#f0f921"
             ]
            ],
            "type": "heatmapgl"
           }
          ],
          "histogram": [
           {
            "marker": {
             "pattern": {
              "fillmode": "overlay",
              "size": 10,
              "solidity": 0.2
             }
            },
            "type": "histogram"
           }
          ],
          "histogram2d": [
           {
            "colorbar": {
             "outlinewidth": 0,
             "ticks": ""
            },
            "colorscale": [
             [
              0,
              "#0d0887"
             ],
             [
              0.1111111111111111,
              "#46039f"
             ],
             [
              0.2222222222222222,
              "#7201a8"
             ],
             [
              0.3333333333333333,
              "#9c179e"
             ],
             [
              0.4444444444444444,
              "#bd3786"
             ],
             [
              0.5555555555555556,
              "#d8576b"
             ],
             [
              0.6666666666666666,
              "#ed7953"
             ],
             [
              0.7777777777777778,
              "#fb9f3a"
             ],
             [
              0.8888888888888888,
              "#fdca26"
             ],
             [
              1,
              "#f0f921"
             ]
            ],
            "type": "histogram2d"
           }
          ],
          "histogram2dcontour": [
           {
            "colorbar": {
             "outlinewidth": 0,
             "ticks": ""
            },
            "colorscale": [
             [
              0,
              "#0d0887"
             ],
             [
              0.1111111111111111,
              "#46039f"
             ],
             [
              0.2222222222222222,
              "#7201a8"
             ],
             [
              0.3333333333333333,
              "#9c179e"
             ],
             [
              0.4444444444444444,
              "#bd3786"
             ],
             [
              0.5555555555555556,
              "#d8576b"
             ],
             [
              0.6666666666666666,
              "#ed7953"
             ],
             [
              0.7777777777777778,
              "#fb9f3a"
             ],
             [
              0.8888888888888888,
              "#fdca26"
             ],
             [
              1,
              "#f0f921"
             ]
            ],
            "type": "histogram2dcontour"
           }
          ],
          "mesh3d": [
           {
            "colorbar": {
             "outlinewidth": 0,
             "ticks": ""
            },
            "type": "mesh3d"
           }
          ],
          "parcoords": [
           {
            "line": {
             "colorbar": {
              "outlinewidth": 0,
              "ticks": ""
             }
            },
            "type": "parcoords"
           }
          ],
          "pie": [
           {
            "automargin": true,
            "type": "pie"
           }
          ],
          "scatter": [
           {
            "fillpattern": {
             "fillmode": "overlay",
             "size": 10,
             "solidity": 0.2
            },
            "type": "scatter"
           }
          ],
          "scatter3d": [
           {
            "line": {
             "colorbar": {
              "outlinewidth": 0,
              "ticks": ""
             }
            },
            "marker": {
             "colorbar": {
              "outlinewidth": 0,
              "ticks": ""
             }
            },
            "type": "scatter3d"
           }
          ],
          "scattercarpet": [
           {
            "marker": {
             "colorbar": {
              "outlinewidth": 0,
              "ticks": ""
             }
            },
            "type": "scattercarpet"
           }
          ],
          "scattergeo": [
           {
            "marker": {
             "colorbar": {
              "outlinewidth": 0,
              "ticks": ""
             }
            },
            "type": "scattergeo"
           }
          ],
          "scattergl": [
           {
            "marker": {
             "colorbar": {
              "outlinewidth": 0,
              "ticks": ""
             }
            },
            "type": "scattergl"
           }
          ],
          "scattermapbox": [
           {
            "marker": {
             "colorbar": {
              "outlinewidth": 0,
              "ticks": ""
             }
            },
            "type": "scattermapbox"
           }
          ],
          "scatterpolar": [
           {
            "marker": {
             "colorbar": {
              "outlinewidth": 0,
              "ticks": ""
             }
            },
            "type": "scatterpolar"
           }
          ],
          "scatterpolargl": [
           {
            "marker": {
             "colorbar": {
              "outlinewidth": 0,
              "ticks": ""
             }
            },
            "type": "scatterpolargl"
           }
          ],
          "scatterternary": [
           {
            "marker": {
             "colorbar": {
              "outlinewidth": 0,
              "ticks": ""
             }
            },
            "type": "scatterternary"
           }
          ],
          "surface": [
           {
            "colorbar": {
             "outlinewidth": 0,
             "ticks": ""
            },
            "colorscale": [
             [
              0,
              "#0d0887"
             ],
             [
              0.1111111111111111,
              "#46039f"
             ],
             [
              0.2222222222222222,
              "#7201a8"
             ],
             [
              0.3333333333333333,
              "#9c179e"
             ],
             [
              0.4444444444444444,
              "#bd3786"
             ],
             [
              0.5555555555555556,
              "#d8576b"
             ],
             [
              0.6666666666666666,
              "#ed7953"
             ],
             [
              0.7777777777777778,
              "#fb9f3a"
             ],
             [
              0.8888888888888888,
              "#fdca26"
             ],
             [
              1,
              "#f0f921"
             ]
            ],
            "type": "surface"
           }
          ],
          "table": [
           {
            "cells": {
             "fill": {
              "color": "#EBF0F8"
             },
             "line": {
              "color": "white"
             }
            },
            "header": {
             "fill": {
              "color": "#C8D4E3"
             },
             "line": {
              "color": "white"
             }
            },
            "type": "table"
           }
          ]
         },
         "layout": {
          "annotationdefaults": {
           "arrowcolor": "#2a3f5f",
           "arrowhead": 0,
           "arrowwidth": 1
          },
          "autotypenumbers": "strict",
          "coloraxis": {
           "colorbar": {
            "outlinewidth": 0,
            "ticks": ""
           }
          },
          "colorscale": {
           "diverging": [
            [
             0,
             "#8e0152"
            ],
            [
             0.1,
             "#c51b7d"
            ],
            [
             0.2,
             "#de77ae"
            ],
            [
             0.3,
             "#f1b6da"
            ],
            [
             0.4,
             "#fde0ef"
            ],
            [
             0.5,
             "#f7f7f7"
            ],
            [
             0.6,
             "#e6f5d0"
            ],
            [
             0.7,
             "#b8e186"
            ],
            [
             0.8,
             "#7fbc41"
            ],
            [
             0.9,
             "#4d9221"
            ],
            [
             1,
             "#276419"
            ]
           ],
           "sequential": [
            [
             0,
             "#0d0887"
            ],
            [
             0.1111111111111111,
             "#46039f"
            ],
            [
             0.2222222222222222,
             "#7201a8"
            ],
            [
             0.3333333333333333,
             "#9c179e"
            ],
            [
             0.4444444444444444,
             "#bd3786"
            ],
            [
             0.5555555555555556,
             "#d8576b"
            ],
            [
             0.6666666666666666,
             "#ed7953"
            ],
            [
             0.7777777777777778,
             "#fb9f3a"
            ],
            [
             0.8888888888888888,
             "#fdca26"
            ],
            [
             1,
             "#f0f921"
            ]
           ],
           "sequentialminus": [
            [
             0,
             "#0d0887"
            ],
            [
             0.1111111111111111,
             "#46039f"
            ],
            [
             0.2222222222222222,
             "#7201a8"
            ],
            [
             0.3333333333333333,
             "#9c179e"
            ],
            [
             0.4444444444444444,
             "#bd3786"
            ],
            [
             0.5555555555555556,
             "#d8576b"
            ],
            [
             0.6666666666666666,
             "#ed7953"
            ],
            [
             0.7777777777777778,
             "#fb9f3a"
            ],
            [
             0.8888888888888888,
             "#fdca26"
            ],
            [
             1,
             "#f0f921"
            ]
           ]
          },
          "colorway": [
           "#636efa",
           "#EF553B",
           "#00cc96",
           "#ab63fa",
           "#FFA15A",
           "#19d3f3",
           "#FF6692",
           "#B6E880",
           "#FF97FF",
           "#FECB52"
          ],
          "font": {
           "color": "#2a3f5f"
          },
          "geo": {
           "bgcolor": "white",
           "lakecolor": "white",
           "landcolor": "#E5ECF6",
           "showlakes": true,
           "showland": true,
           "subunitcolor": "white"
          },
          "hoverlabel": {
           "align": "left"
          },
          "hovermode": "closest",
          "mapbox": {
           "style": "light"
          },
          "paper_bgcolor": "white",
          "plot_bgcolor": "#E5ECF6",
          "polar": {
           "angularaxis": {
            "gridcolor": "white",
            "linecolor": "white",
            "ticks": ""
           },
           "bgcolor": "#E5ECF6",
           "radialaxis": {
            "gridcolor": "white",
            "linecolor": "white",
            "ticks": ""
           }
          },
          "scene": {
           "xaxis": {
            "backgroundcolor": "#E5ECF6",
            "gridcolor": "white",
            "gridwidth": 2,
            "linecolor": "white",
            "showbackground": true,
            "ticks": "",
            "zerolinecolor": "white"
           },
           "yaxis": {
            "backgroundcolor": "#E5ECF6",
            "gridcolor": "white",
            "gridwidth": 2,
            "linecolor": "white",
            "showbackground": true,
            "ticks": "",
            "zerolinecolor": "white"
           },
           "zaxis": {
            "backgroundcolor": "#E5ECF6",
            "gridcolor": "white",
            "gridwidth": 2,
            "linecolor": "white",
            "showbackground": true,
            "ticks": "",
            "zerolinecolor": "white"
           }
          },
          "shapedefaults": {
           "line": {
            "color": "#2a3f5f"
           }
          },
          "ternary": {
           "aaxis": {
            "gridcolor": "white",
            "linecolor": "white",
            "ticks": ""
           },
           "baxis": {
            "gridcolor": "white",
            "linecolor": "white",
            "ticks": ""
           },
           "bgcolor": "#E5ECF6",
           "caxis": {
            "gridcolor": "white",
            "linecolor": "white",
            "ticks": ""
           }
          },
          "title": {
           "x": 0.05
          },
          "xaxis": {
           "automargin": true,
           "gridcolor": "white",
           "linecolor": "white",
           "ticks": "",
           "title": {
            "standoff": 15
           },
           "zerolinecolor": "white",
           "zerolinewidth": 2
          },
          "yaxis": {
           "automargin": true,
           "gridcolor": "white",
           "linecolor": "white",
           "ticks": "",
           "title": {
            "standoff": 15
           },
           "zerolinecolor": "white",
           "zerolinewidth": 2
          }
         }
        },
        "title": {
         "text": "Label: Abomasnow"
        },
        "width": 500,
        "xaxis": {
         "anchor": "y",
         "domain": [
          0,
          1
         ],
         "showgrid": false,
         "showticklabels": false,
         "visible": false,
         "zeroline": false
        },
        "yaxis": {
         "anchor": "x",
         "domain": [
          0,
          1
         ],
         "showgrid": false,
         "showticklabels": false,
         "visible": false,
         "zeroline": false
        }
       }
      }
     },
     "metadata": {},
     "output_type": "display_data"
    },
    {
     "name": "stdout",
     "output_type": "stream",
     "text": [
      "(64, 64, 3)\n"
     ]
    },
    {
     "data": {
      "application/vnd.plotly.v1+json": {
       "config": {
        "plotlyServerURL": "https://plot.ly"
       },
       "data": [
        {
         "hovertemplate": "x: %{x}<br>y: %{y}<br>color: [%{z[0]}, %{z[1]}, %{z[2]}]<extra></extra>",
         "name": "0",
         "source": "data:image/png;base64,iVBORw0KGgoAAAANSUhEUgAAAEAAAABACAIAAAAlC+aJAAANCElEQVR4Xu2YeVxUV5bHz73v1b5QUFBFsYqKiWgQFGcEFZO4xKhtuzaOmjhucf0kcUniMtPpdH800XQ0pNuoadsY9yXaxrQTJa2CRgmIgIggIqtCQRUUBdT26r137/yBwbI6ZpzuGTGfD98/z1bn9zn33TrvIUop/JzB/oafG90CuppuAV1Nt4CupltAV9MtoKvpFvD/idFoBIBr164plUp/Xyf0aeX5F15wC3TJkiVugWRnZ/u7f+BpEQAABw4coJSeOXOGYRiEkFcgnEicnODmRUL84zt5WgSEhAQLhPIi4XhhzPB5syauXvzlubikMXPnLyeEEELWrVtXe++e3W63NDX5HhxEn44XmsBAndVqmfjSUkHwBKkNaft/d+TVd6SKAFdyTI/xY+YTR0zvZymlDEL6wID29vbORNanSFfCcd5fr0vneMcbxz+jWNFmsbYosX7UoLY9R5pyat5urD95fhcvQt3dmszMTN/Ep+UWcrlcxvgwB+st2nKq+PeHd278Xdwbb0Ynp0pbueqKwgHbt761aTMg9NHH6UlJSb6JT4WA119/3eN236yuHxaX2uq0tTpberh0TbeLvE5Hn11bB/7hE3drizU6HgN8sOlDXhDT0tI6c5+cgBUrpricV7IytyCEfO0DBvQ8883R4tJSbb3E5XJaLRaz2YwRsv/XeUopQgghBEA14T0JIQgjTiR79h+MjY3tSH9yArZuPaFUpdwqE0WhtkODSinPy9/65fFzRaXm3DsVZnO90+EkhHR4Gcr4potuJ8aYEsogFB1uKi8v77A/OQEdLFr01s2SS4UFnxsMAbv3vjlx4iaTyUgIabS3YvxQM4LH3TkrCgA3r/CCaG2oV0hZi8XSGdYFt1B8/CyOy0j/w+IZ0zd1HJK6urpIU3i5UMYyDzRIeIoQppQQAAMDaYPjEYIQU/ikSZMe1HryE0AIRUUZC64VHTl0scNCKR0/ftygcINdaPWNlIEEMKIUTFJcY76TkDLM4/GwGB05dlwul3eGPVEB7723RhTqi6/vfqZP+J5dr3s936jVmk+3b7+cmx8Xn6hflgboQT+KQL1EKwMAToK3pg4WBDFArfr6UrZSLuM4rjPsn/0n1mo0vWNjCwsLCSH+Ph90OnWj+WBjVXlwVA+5hBCRdbo5l9uplKsmT//wat7tJptN9PIvvrKyN6PDCAMApbRWNAdMTjs6JVVkZQgjKpL4uNiKymrfyv/4BNatW8eLxNzccik71+kVPBzndz920ic2bMiQweO+EBnJuPWHm45myGecVANldfpZn++/uXXLa+YGu0AQZaXfHdvWNz6o0VrXaKkjTOve9F8fSRuDFEosegnP8Zzz23OZfsX/wQksXbZs85Z0BABAEcIAFCHkbm8NCgryDwXYsGFDVWGRbO3mCN5pl+mj6m7cixswofZmYvJwALrv850vvTQhIipaoMRcW2MMiwSEKAACQAiVl5XExfX7Nr/EVlFSWlWdceJYbm7uQ9U717qfBgBmzpxZc/cex3E8z3t53u0V2z28V/B8f/UKIcTJCQ6Onz59ul9iytChew8fnDL0+XNZWWO27JzaL766omL6mJdHxg1wuL0OD+/ghHYPP3nyFEqpQMiJkyc9InFygsPNu3gybfacKzk5BzMurXhn7fmicr/i9HG20dTU1AuZmZxAEUZEJAghSgnDsITSd9euM9dAsD7Y4+EJ0/Dxji1SBoebQm3NNkEUqmtqV69auWL16oO/eT8qMFghV1TbLKaw8PDgkOzCvLqWlmnLXpv2qzQvLwIAg5FaIVu0aNG2bduOnzgx4ZeTCSHHDu6RGGO+O/+3pORheoNBH2Ic2ifSrz1/AcveWb/v0/S2dgcAnCso7qFVhEZEI4QAAaUUI0QpAAWEEQXKYnh16hqZTEoppZS8u2meVK2vszSTtqbDhw/P/fe58YmJBXm5Rz/ZsfGLXUc3fOQ2aOcsWOg6l3s7WBp7x6qYMjrjm9Mjx44DChRofk728OHDJRIJz/Ocx1Nadmvx/PcxRvPenmEwRbIMIyXeUSn/4tst/L2As3k33G5P4oDneus1Jy7magJ0UTLRGNlDhuHkyb/UmRsXLlpMAXUcUErp4PixcrmGZZnqqrLdZw6KnEfCMsUFV1e8tkAUeIZhvAQwEJEip8uhVKoRQqsWzv/osz/v3rlt3uLlCIBQwmBMKZRcz08dMaK2tjYmJiYwUBdpGiaKQpOt5uP9OwABxsycCSOt1ibfbsFPwOCUobdLS45kZHEchxmmvrbaFB6l0mgriq7F9E9wO51OlyspxhTRoyelgDGmlKamDMm/lt83oX9JYZFMLj927nLljWsD+/VtarJ8uS8vLCzUYmle8ua45wYOAkopgITBp05+felC3uixw8aMGy2IFGMkEoIxLisplsvl3549u3DJ8trK8tzyGswglVrHYowYZvN/vp2Zcdan8/s8JEAboNv3dQYFYBgmxGC0N9Zp9SFNthZKqZRleUFACLES6YsJz4iAGYYRRXHO7JnHjh7trLDv5F8bmlqWz5k5YVRamCH2h4sVORx2U7TSYRdkEj2A6HZ7EEKVVVVZuYc4XlRIcOH165ZmW2pKskSmEAhFCP56+aqMZTHLgihOHTnU7XJ1/oov93ehoakjtvx5/3cld/Jyc0zhEVv+uCPyxenO5kaZytposfQV6kaPmyCVSnheUKnVLCsRBREAoOPh8OGVSRMUSqVJBsFBoT6rGFGrde3NACDxiK77eQAxPaKrqm9HRsW6BdJgNr8weqy5sSHSJBdFgWVZGcveKSt5c+5sAHhU9+A7gaySSrvNRindfuC4rk8iABUEL8tKsVRKOM7J8fMGR7EKtc1unzQsSarUIIwR0GFD/jUv7+rDNaHZZquuqvxk8ylKBYwkLqF+zfolMrls/er0AE1I5y/KZYode9d7eApA62urIqNjADMYQXV9w43KuyGGkNGJcR63++Ha/jwQgDDOKqmQSqQr39lICc8o5d4b9555Y0HFjn36MckqvRFhJkXZ3iPuOQrI0dSQ9otxIoVwk9H6w3KLEOJ5nuO4C1lZGrV6cFJSq71No1UBq5BJQBQFxMoyTp/eu/OiLlDTYLbOXZr68oTJFIGcxTW1d/WButrmtq9On66/W5ubeT4v93u/C+ZHebBOMxjvTt86KGmws6QCvLxHdAUGRtz9/hIhorulRaUPpUTMRaakIH2zzaYNMWUV36kvLWiyWjsrhBgMAmJAIhs1Zqwo0tyS24PjerGsZNSw8b2iB4qi2GBu2n1o/bhT4wFApCAQwjDMn7ZvW7J0qSkissXSoNNqwiIiA4P0u7Z++Djdg+8upNZoX12y/IM1n/AKHhAyjkh2OVqM/RPBS4z9EzqOM+9oW/WnwwIRKaVupyMmYYhGG9BZoX+/fkQUEaBvcwrySsvsDseF/OL0vYdcSG6zNGLMhIUb1ryxk+PcCCFCqCDwBYXXE1JHVdRbESCDMfS99zdSQG2tzSL9qdXQlwcTsLfYACBAr1Tojb1mT5QH6NjRE11WS69Fs0WP534Qpb16xQUH6lwcfzHjzNmvvmxrtXdW6Ns3jmUZQaSL/23qgVNnQk1hjQ31x3ce5DivZt5cJFE0lF332ttGLnjrP5bNA4Q7PrcxnOtuaVHElKkcgSsXzhe3eJ8zaO5fEo+B/xtZya2sEbNXlezYqQkwIMTaHeaBy1f4BvBe9+WLWf0Tk8ZPn7Fx/Vu+LgpUgpAItP5uzfMJzwLAZUHggddiXeXO/dQruB0tIGGwSA0bjI31lo6/QkrBYDBQQiklJfl5RipDE2Y+5vmBH12nP/tgtUoVDBQoEbSKkLI/7pKqtT5+3NzU7HC0X7nwtz1HjvnY4fBXX+fkF0jZBxfD0Gej22yVMCAaehvc7laVzqDShsgDg+eMnU3v75HE1mzN+T4bELAMZllJY8FlpTHCt+xP479KAABCSKc19IxJkUllHd8IRJcn4bdr22prOgJeGRhBJYq1y+bfKCjwTVQFBU9M3/3e8IQ+PaJ87QihhBGT2grKApITlb1jJEql0GjT2moXrFzxlyMH9n32qUIms7U7F+4+uH/RK5TSjsn4VvgJHhkqkypGJM9iWOTlBYfLyTCSNt7WZ9q0urLi9QtnYYx79ukTF6z2TUEIrbvZfGj+9Mrsc772TlTGULUxlAqCo8HssjX7um6Vl3/hVL2fEOZrfBx+5Ah1wHndL88YpA5htRpdaHAow2C+Rejpsi765Ui5XIYQlJeW+qVQSsXW2qqcC372TpyNDY1FhZaSYr/uAWDPrbrAIJ2f8bGgj8bXu3zVyqwbZQDwm81bKKWjxv/i8q1qlUr9IPqfY+y7G1dm3/K3PgaPPEJ/T0R4+L26On/r/xEIoQBTuL3+nr/jf+J/IeDp5JHPwM+FbgFdTbeArqZbQFfTLaCr6RbQ1XQL6Gp+9gL+G69NHTf69xz5AAAAAElFTkSuQmCC",
         "type": "image",
         "xaxis": "x",
         "yaxis": "y"
        }
       ],
       "layout": {
        "height": 350,
        "margin": {
         "l": 0,
         "t": 60
        },
        "shapes": [
         {
          "line": {
           "color": "black",
           "width": 2
          },
          "type": "rect",
          "x0": 0,
          "x1": 64,
          "xref": "x",
          "y0": 0,
          "y1": 64,
          "yref": "y"
         }
        ],
        "template": {
         "data": {
          "bar": [
           {
            "error_x": {
             "color": "#2a3f5f"
            },
            "error_y": {
             "color": "#2a3f5f"
            },
            "marker": {
             "line": {
              "color": "#E5ECF6",
              "width": 0.5
             },
             "pattern": {
              "fillmode": "overlay",
              "size": 10,
              "solidity": 0.2
             }
            },
            "type": "bar"
           }
          ],
          "barpolar": [
           {
            "marker": {
             "line": {
              "color": "#E5ECF6",
              "width": 0.5
             },
             "pattern": {
              "fillmode": "overlay",
              "size": 10,
              "solidity": 0.2
             }
            },
            "type": "barpolar"
           }
          ],
          "carpet": [
           {
            "aaxis": {
             "endlinecolor": "#2a3f5f",
             "gridcolor": "white",
             "linecolor": "white",
             "minorgridcolor": "white",
             "startlinecolor": "#2a3f5f"
            },
            "baxis": {
             "endlinecolor": "#2a3f5f",
             "gridcolor": "white",
             "linecolor": "white",
             "minorgridcolor": "white",
             "startlinecolor": "#2a3f5f"
            },
            "type": "carpet"
           }
          ],
          "choropleth": [
           {
            "colorbar": {
             "outlinewidth": 0,
             "ticks": ""
            },
            "type": "choropleth"
           }
          ],
          "contour": [
           {
            "colorbar": {
             "outlinewidth": 0,
             "ticks": ""
            },
            "colorscale": [
             [
              0,
              "#0d0887"
             ],
             [
              0.1111111111111111,
              "#46039f"
             ],
             [
              0.2222222222222222,
              "#7201a8"
             ],
             [
              0.3333333333333333,
              "#9c179e"
             ],
             [
              0.4444444444444444,
              "#bd3786"
             ],
             [
              0.5555555555555556,
              "#d8576b"
             ],
             [
              0.6666666666666666,
              "#ed7953"
             ],
             [
              0.7777777777777778,
              "#fb9f3a"
             ],
             [
              0.8888888888888888,
              "#fdca26"
             ],
             [
              1,
              "#f0f921"
             ]
            ],
            "type": "contour"
           }
          ],
          "contourcarpet": [
           {
            "colorbar": {
             "outlinewidth": 0,
             "ticks": ""
            },
            "type": "contourcarpet"
           }
          ],
          "heatmap": [
           {
            "colorbar": {
             "outlinewidth": 0,
             "ticks": ""
            },
            "colorscale": [
             [
              0,
              "#0d0887"
             ],
             [
              0.1111111111111111,
              "#46039f"
             ],
             [
              0.2222222222222222,
              "#7201a8"
             ],
             [
              0.3333333333333333,
              "#9c179e"
             ],
             [
              0.4444444444444444,
              "#bd3786"
             ],
             [
              0.5555555555555556,
              "#d8576b"
             ],
             [
              0.6666666666666666,
              "#ed7953"
             ],
             [
              0.7777777777777778,
              "#fb9f3a"
             ],
             [
              0.8888888888888888,
              "#fdca26"
             ],
             [
              1,
              "#f0f921"
             ]
            ],
            "type": "heatmap"
           }
          ],
          "heatmapgl": [
           {
            "colorbar": {
             "outlinewidth": 0,
             "ticks": ""
            },
            "colorscale": [
             [
              0,
              "#0d0887"
             ],
             [
              0.1111111111111111,
              "#46039f"
             ],
             [
              0.2222222222222222,
              "#7201a8"
             ],
             [
              0.3333333333333333,
              "#9c179e"
             ],
             [
              0.4444444444444444,
              "#bd3786"
             ],
             [
              0.5555555555555556,
              "#d8576b"
             ],
             [
              0.6666666666666666,
              "#ed7953"
             ],
             [
              0.7777777777777778,
              "#fb9f3a"
             ],
             [
              0.8888888888888888,
              "#fdca26"
             ],
             [
              1,
              "#f0f921"
             ]
            ],
            "type": "heatmapgl"
           }
          ],
          "histogram": [
           {
            "marker": {
             "pattern": {
              "fillmode": "overlay",
              "size": 10,
              "solidity": 0.2
             }
            },
            "type": "histogram"
           }
          ],
          "histogram2d": [
           {
            "colorbar": {
             "outlinewidth": 0,
             "ticks": ""
            },
            "colorscale": [
             [
              0,
              "#0d0887"
             ],
             [
              0.1111111111111111,
              "#46039f"
             ],
             [
              0.2222222222222222,
              "#7201a8"
             ],
             [
              0.3333333333333333,
              "#9c179e"
             ],
             [
              0.4444444444444444,
              "#bd3786"
             ],
             [
              0.5555555555555556,
              "#d8576b"
             ],
             [
              0.6666666666666666,
              "#ed7953"
             ],
             [
              0.7777777777777778,
              "#fb9f3a"
             ],
             [
              0.8888888888888888,
              "#fdca26"
             ],
             [
              1,
              "#f0f921"
             ]
            ],
            "type": "histogram2d"
           }
          ],
          "histogram2dcontour": [
           {
            "colorbar": {
             "outlinewidth": 0,
             "ticks": ""
            },
            "colorscale": [
             [
              0,
              "#0d0887"
             ],
             [
              0.1111111111111111,
              "#46039f"
             ],
             [
              0.2222222222222222,
              "#7201a8"
             ],
             [
              0.3333333333333333,
              "#9c179e"
             ],
             [
              0.4444444444444444,
              "#bd3786"
             ],
             [
              0.5555555555555556,
              "#d8576b"
             ],
             [
              0.6666666666666666,
              "#ed7953"
             ],
             [
              0.7777777777777778,
              "#fb9f3a"
             ],
             [
              0.8888888888888888,
              "#fdca26"
             ],
             [
              1,
              "#f0f921"
             ]
            ],
            "type": "histogram2dcontour"
           }
          ],
          "mesh3d": [
           {
            "colorbar": {
             "outlinewidth": 0,
             "ticks": ""
            },
            "type": "mesh3d"
           }
          ],
          "parcoords": [
           {
            "line": {
             "colorbar": {
              "outlinewidth": 0,
              "ticks": ""
             }
            },
            "type": "parcoords"
           }
          ],
          "pie": [
           {
            "automargin": true,
            "type": "pie"
           }
          ],
          "scatter": [
           {
            "fillpattern": {
             "fillmode": "overlay",
             "size": 10,
             "solidity": 0.2
            },
            "type": "scatter"
           }
          ],
          "scatter3d": [
           {
            "line": {
             "colorbar": {
              "outlinewidth": 0,
              "ticks": ""
             }
            },
            "marker": {
             "colorbar": {
              "outlinewidth": 0,
              "ticks": ""
             }
            },
            "type": "scatter3d"
           }
          ],
          "scattercarpet": [
           {
            "marker": {
             "colorbar": {
              "outlinewidth": 0,
              "ticks": ""
             }
            },
            "type": "scattercarpet"
           }
          ],
          "scattergeo": [
           {
            "marker": {
             "colorbar": {
              "outlinewidth": 0,
              "ticks": ""
             }
            },
            "type": "scattergeo"
           }
          ],
          "scattergl": [
           {
            "marker": {
             "colorbar": {
              "outlinewidth": 0,
              "ticks": ""
             }
            },
            "type": "scattergl"
           }
          ],
          "scattermapbox": [
           {
            "marker": {
             "colorbar": {
              "outlinewidth": 0,
              "ticks": ""
             }
            },
            "type": "scattermapbox"
           }
          ],
          "scatterpolar": [
           {
            "marker": {
             "colorbar": {
              "outlinewidth": 0,
              "ticks": ""
             }
            },
            "type": "scatterpolar"
           }
          ],
          "scatterpolargl": [
           {
            "marker": {
             "colorbar": {
              "outlinewidth": 0,
              "ticks": ""
             }
            },
            "type": "scatterpolargl"
           }
          ],
          "scatterternary": [
           {
            "marker": {
             "colorbar": {
              "outlinewidth": 0,
              "ticks": ""
             }
            },
            "type": "scatterternary"
           }
          ],
          "surface": [
           {
            "colorbar": {
             "outlinewidth": 0,
             "ticks": ""
            },
            "colorscale": [
             [
              0,
              "#0d0887"
             ],
             [
              0.1111111111111111,
              "#46039f"
             ],
             [
              0.2222222222222222,
              "#7201a8"
             ],
             [
              0.3333333333333333,
              "#9c179e"
             ],
             [
              0.4444444444444444,
              "#bd3786"
             ],
             [
              0.5555555555555556,
              "#d8576b"
             ],
             [
              0.6666666666666666,
              "#ed7953"
             ],
             [
              0.7777777777777778,
              "#fb9f3a"
             ],
             [
              0.8888888888888888,
              "#fdca26"
             ],
             [
              1,
              "#f0f921"
             ]
            ],
            "type": "surface"
           }
          ],
          "table": [
           {
            "cells": {
             "fill": {
              "color": "#EBF0F8"
             },
             "line": {
              "color": "white"
             }
            },
            "header": {
             "fill": {
              "color": "#C8D4E3"
             },
             "line": {
              "color": "white"
             }
            },
            "type": "table"
           }
          ]
         },
         "layout": {
          "annotationdefaults": {
           "arrowcolor": "#2a3f5f",
           "arrowhead": 0,
           "arrowwidth": 1
          },
          "autotypenumbers": "strict",
          "coloraxis": {
           "colorbar": {
            "outlinewidth": 0,
            "ticks": ""
           }
          },
          "colorscale": {
           "diverging": [
            [
             0,
             "#8e0152"
            ],
            [
             0.1,
             "#c51b7d"
            ],
            [
             0.2,
             "#de77ae"
            ],
            [
             0.3,
             "#f1b6da"
            ],
            [
             0.4,
             "#fde0ef"
            ],
            [
             0.5,
             "#f7f7f7"
            ],
            [
             0.6,
             "#e6f5d0"
            ],
            [
             0.7,
             "#b8e186"
            ],
            [
             0.8,
             "#7fbc41"
            ],
            [
             0.9,
             "#4d9221"
            ],
            [
             1,
             "#276419"
            ]
           ],
           "sequential": [
            [
             0,
             "#0d0887"
            ],
            [
             0.1111111111111111,
             "#46039f"
            ],
            [
             0.2222222222222222,
             "#7201a8"
            ],
            [
             0.3333333333333333,
             "#9c179e"
            ],
            [
             0.4444444444444444,
             "#bd3786"
            ],
            [
             0.5555555555555556,
             "#d8576b"
            ],
            [
             0.6666666666666666,
             "#ed7953"
            ],
            [
             0.7777777777777778,
             "#fb9f3a"
            ],
            [
             0.8888888888888888,
             "#fdca26"
            ],
            [
             1,
             "#f0f921"
            ]
           ],
           "sequentialminus": [
            [
             0,
             "#0d0887"
            ],
            [
             0.1111111111111111,
             "#46039f"
            ],
            [
             0.2222222222222222,
             "#7201a8"
            ],
            [
             0.3333333333333333,
             "#9c179e"
            ],
            [
             0.4444444444444444,
             "#bd3786"
            ],
            [
             0.5555555555555556,
             "#d8576b"
            ],
            [
             0.6666666666666666,
             "#ed7953"
            ],
            [
             0.7777777777777778,
             "#fb9f3a"
            ],
            [
             0.8888888888888888,
             "#fdca26"
            ],
            [
             1,
             "#f0f921"
            ]
           ]
          },
          "colorway": [
           "#636efa",
           "#EF553B",
           "#00cc96",
           "#ab63fa",
           "#FFA15A",
           "#19d3f3",
           "#FF6692",
           "#B6E880",
           "#FF97FF",
           "#FECB52"
          ],
          "font": {
           "color": "#2a3f5f"
          },
          "geo": {
           "bgcolor": "white",
           "lakecolor": "white",
           "landcolor": "#E5ECF6",
           "showlakes": true,
           "showland": true,
           "subunitcolor": "white"
          },
          "hoverlabel": {
           "align": "left"
          },
          "hovermode": "closest",
          "mapbox": {
           "style": "light"
          },
          "paper_bgcolor": "white",
          "plot_bgcolor": "#E5ECF6",
          "polar": {
           "angularaxis": {
            "gridcolor": "white",
            "linecolor": "white",
            "ticks": ""
           },
           "bgcolor": "#E5ECF6",
           "radialaxis": {
            "gridcolor": "white",
            "linecolor": "white",
            "ticks": ""
           }
          },
          "scene": {
           "xaxis": {
            "backgroundcolor": "#E5ECF6",
            "gridcolor": "white",
            "gridwidth": 2,
            "linecolor": "white",
            "showbackground": true,
            "ticks": "",
            "zerolinecolor": "white"
           },
           "yaxis": {
            "backgroundcolor": "#E5ECF6",
            "gridcolor": "white",
            "gridwidth": 2,
            "linecolor": "white",
            "showbackground": true,
            "ticks": "",
            "zerolinecolor": "white"
           },
           "zaxis": {
            "backgroundcolor": "#E5ECF6",
            "gridcolor": "white",
            "gridwidth": 2,
            "linecolor": "white",
            "showbackground": true,
            "ticks": "",
            "zerolinecolor": "white"
           }
          },
          "shapedefaults": {
           "line": {
            "color": "#2a3f5f"
           }
          },
          "ternary": {
           "aaxis": {
            "gridcolor": "white",
            "linecolor": "white",
            "ticks": ""
           },
           "baxis": {
            "gridcolor": "white",
            "linecolor": "white",
            "ticks": ""
           },
           "bgcolor": "#E5ECF6",
           "caxis": {
            "gridcolor": "white",
            "linecolor": "white",
            "ticks": ""
           }
          },
          "title": {
           "x": 0.05
          },
          "xaxis": {
           "automargin": true,
           "gridcolor": "white",
           "linecolor": "white",
           "ticks": "",
           "title": {
            "standoff": 15
           },
           "zerolinecolor": "white",
           "zerolinewidth": 2
          },
          "yaxis": {
           "automargin": true,
           "gridcolor": "white",
           "linecolor": "white",
           "ticks": "",
           "title": {
            "standoff": 15
           },
           "zerolinecolor": "white",
           "zerolinewidth": 2
          }
         }
        },
        "title": {
         "text": "Label: Abomasnow"
        },
        "width": 500,
        "xaxis": {
         "anchor": "y",
         "domain": [
          0,
          1
         ],
         "showgrid": false,
         "showticklabels": false,
         "visible": false,
         "zeroline": false
        },
        "yaxis": {
         "anchor": "x",
         "domain": [
          0,
          1
         ],
         "showgrid": false,
         "showticklabels": false,
         "visible": false,
         "zeroline": false
        }
       }
      }
     },
     "metadata": {},
     "output_type": "display_data"
    },
    {
     "name": "stdout",
     "output_type": "stream",
     "text": [
      "(64, 64, 3)\n"
     ]
    },
    {
     "data": {
      "application/vnd.plotly.v1+json": {
       "config": {
        "plotlyServerURL": "https://plot.ly"
       },
       "data": [
        {
         "hovertemplate": "x: %{x}<br>y: %{y}<br>color: [%{z[0]}, %{z[1]}, %{z[2]}]<extra></extra>",
         "name": "0",
         "source": "data:image/png;base64,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",
         "type": "image",
         "xaxis": "x",
         "yaxis": "y"
        }
       ],
       "layout": {
        "height": 350,
        "margin": {
         "l": 0,
         "t": 60
        },
        "shapes": [
         {
          "line": {
           "color": "black",
           "width": 2
          },
          "type": "rect",
          "x0": 0,
          "x1": 64,
          "xref": "x",
          "y0": 0,
          "y1": 64,
          "yref": "y"
         }
        ],
        "template": {
         "data": {
          "bar": [
           {
            "error_x": {
             "color": "#2a3f5f"
            },
            "error_y": {
             "color": "#2a3f5f"
            },
            "marker": {
             "line": {
              "color": "#E5ECF6",
              "width": 0.5
             },
             "pattern": {
              "fillmode": "overlay",
              "size": 10,
              "solidity": 0.2
             }
            },
            "type": "bar"
           }
          ],
          "barpolar": [
           {
            "marker": {
             "line": {
              "color": "#E5ECF6",
              "width": 0.5
             },
             "pattern": {
              "fillmode": "overlay",
              "size": 10,
              "solidity": 0.2
             }
            },
            "type": "barpolar"
           }
          ],
          "carpet": [
           {
            "aaxis": {
             "endlinecolor": "#2a3f5f",
             "gridcolor": "white",
             "linecolor": "white",
             "minorgridcolor": "white",
             "startlinecolor": "#2a3f5f"
            },
            "baxis": {
             "endlinecolor": "#2a3f5f",
             "gridcolor": "white",
             "linecolor": "white",
             "minorgridcolor": "white",
             "startlinecolor": "#2a3f5f"
            },
            "type": "carpet"
           }
          ],
          "choropleth": [
           {
            "colorbar": {
             "outlinewidth": 0,
             "ticks": ""
            },
            "type": "choropleth"
           }
          ],
          "contour": [
           {
            "colorbar": {
             "outlinewidth": 0,
             "ticks": ""
            },
            "colorscale": [
             [
              0,
              "#0d0887"
             ],
             [
              0.1111111111111111,
              "#46039f"
             ],
             [
              0.2222222222222222,
              "#7201a8"
             ],
             [
              0.3333333333333333,
              "#9c179e"
             ],
             [
              0.4444444444444444,
              "#bd3786"
             ],
             [
              0.5555555555555556,
              "#d8576b"
             ],
             [
              0.6666666666666666,
              "#ed7953"
             ],
             [
              0.7777777777777778,
              "#fb9f3a"
             ],
             [
              0.8888888888888888,
              "#fdca26"
             ],
             [
              1,
              "#f0f921"
             ]
            ],
            "type": "contour"
           }
          ],
          "contourcarpet": [
           {
            "colorbar": {
             "outlinewidth": 0,
             "ticks": ""
            },
            "type": "contourcarpet"
           }
          ],
          "heatmap": [
           {
            "colorbar": {
             "outlinewidth": 0,
             "ticks": ""
            },
            "colorscale": [
             [
              0,
              "#0d0887"
             ],
             [
              0.1111111111111111,
              "#46039f"
             ],
             [
              0.2222222222222222,
              "#7201a8"
             ],
             [
              0.3333333333333333,
              "#9c179e"
             ],
             [
              0.4444444444444444,
              "#bd3786"
             ],
             [
              0.5555555555555556,
              "#d8576b"
             ],
             [
              0.6666666666666666,
              "#ed7953"
             ],
             [
              0.7777777777777778,
              "#fb9f3a"
             ],
             [
              0.8888888888888888,
              "#fdca26"
             ],
             [
              1,
              "#f0f921"
             ]
            ],
            "type": "heatmap"
           }
          ],
          "heatmapgl": [
           {
            "colorbar": {
             "outlinewidth": 0,
             "ticks": ""
            },
            "colorscale": [
             [
              0,
              "#0d0887"
             ],
             [
              0.1111111111111111,
              "#46039f"
             ],
             [
              0.2222222222222222,
              "#7201a8"
             ],
             [
              0.3333333333333333,
              "#9c179e"
             ],
             [
              0.4444444444444444,
              "#bd3786"
             ],
             [
              0.5555555555555556,
              "#d8576b"
             ],
             [
              0.6666666666666666,
              "#ed7953"
             ],
             [
              0.7777777777777778,
              "#fb9f3a"
             ],
             [
              0.8888888888888888,
              "#fdca26"
             ],
             [
              1,
              "#f0f921"
             ]
            ],
            "type": "heatmapgl"
           }
          ],
          "histogram": [
           {
            "marker": {
             "pattern": {
              "fillmode": "overlay",
              "size": 10,
              "solidity": 0.2
             }
            },
            "type": "histogram"
           }
          ],
          "histogram2d": [
           {
            "colorbar": {
             "outlinewidth": 0,
             "ticks": ""
            },
            "colorscale": [
             [
              0,
              "#0d0887"
             ],
             [
              0.1111111111111111,
              "#46039f"
             ],
             [
              0.2222222222222222,
              "#7201a8"
             ],
             [
              0.3333333333333333,
              "#9c179e"
             ],
             [
              0.4444444444444444,
              "#bd3786"
             ],
             [
              0.5555555555555556,
              "#d8576b"
             ],
             [
              0.6666666666666666,
              "#ed7953"
             ],
             [
              0.7777777777777778,
              "#fb9f3a"
             ],
             [
              0.8888888888888888,
              "#fdca26"
             ],
             [
              1,
              "#f0f921"
             ]
            ],
            "type": "histogram2d"
           }
          ],
          "histogram2dcontour": [
           {
            "colorbar": {
             "outlinewidth": 0,
             "ticks": ""
            },
            "colorscale": [
             [
              0,
              "#0d0887"
             ],
             [
              0.1111111111111111,
              "#46039f"
             ],
             [
              0.2222222222222222,
              "#7201a8"
             ],
             [
              0.3333333333333333,
              "#9c179e"
             ],
             [
              0.4444444444444444,
              "#bd3786"
             ],
             [
              0.5555555555555556,
              "#d8576b"
             ],
             [
              0.6666666666666666,
              "#ed7953"
             ],
             [
              0.7777777777777778,
              "#fb9f3a"
             ],
             [
              0.8888888888888888,
              "#fdca26"
             ],
             [
              1,
              "#f0f921"
             ]
            ],
            "type": "histogram2dcontour"
           }
          ],
          "mesh3d": [
           {
            "colorbar": {
             "outlinewidth": 0,
             "ticks": ""
            },
            "type": "mesh3d"
           }
          ],
          "parcoords": [
           {
            "line": {
             "colorbar": {
              "outlinewidth": 0,
              "ticks": ""
             }
            },
            "type": "parcoords"
           }
          ],
          "pie": [
           {
            "automargin": true,
            "type": "pie"
           }
          ],
          "scatter": [
           {
            "fillpattern": {
             "fillmode": "overlay",
             "size": 10,
             "solidity": 0.2
            },
            "type": "scatter"
           }
          ],
          "scatter3d": [
           {
            "line": {
             "colorbar": {
              "outlinewidth": 0,
              "ticks": ""
             }
            },
            "marker": {
             "colorbar": {
              "outlinewidth": 0,
              "ticks": ""
             }
            },
            "type": "scatter3d"
           }
          ],
          "scattercarpet": [
           {
            "marker": {
             "colorbar": {
              "outlinewidth": 0,
              "ticks": ""
             }
            },
            "type": "scattercarpet"
           }
          ],
          "scattergeo": [
           {
            "marker": {
             "colorbar": {
              "outlinewidth": 0,
              "ticks": ""
             }
            },
            "type": "scattergeo"
           }
          ],
          "scattergl": [
           {
            "marker": {
             "colorbar": {
              "outlinewidth": 0,
              "ticks": ""
             }
            },
            "type": "scattergl"
           }
          ],
          "scattermapbox": [
           {
            "marker": {
             "colorbar": {
              "outlinewidth": 0,
              "ticks": ""
             }
            },
            "type": "scattermapbox"
           }
          ],
          "scatterpolar": [
           {
            "marker": {
             "colorbar": {
              "outlinewidth": 0,
              "ticks": ""
             }
            },
            "type": "scatterpolar"
           }
          ],
          "scatterpolargl": [
           {
            "marker": {
             "colorbar": {
              "outlinewidth": 0,
              "ticks": ""
             }
            },
            "type": "scatterpolargl"
           }
          ],
          "scatterternary": [
           {
            "marker": {
             "colorbar": {
              "outlinewidth": 0,
              "ticks": ""
             }
            },
            "type": "scatterternary"
           }
          ],
          "surface": [
           {
            "colorbar": {
             "outlinewidth": 0,
             "ticks": ""
            },
            "colorscale": [
             [
              0,
              "#0d0887"
             ],
             [
              0.1111111111111111,
              "#46039f"
             ],
             [
              0.2222222222222222,
              "#7201a8"
             ],
             [
              0.3333333333333333,
              "#9c179e"
             ],
             [
              0.4444444444444444,
              "#bd3786"
             ],
             [
              0.5555555555555556,
              "#d8576b"
             ],
             [
              0.6666666666666666,
              "#ed7953"
             ],
             [
              0.7777777777777778,
              "#fb9f3a"
             ],
             [
              0.8888888888888888,
              "#fdca26"
             ],
             [
              1,
              "#f0f921"
             ]
            ],
            "type": "surface"
           }
          ],
          "table": [
           {
            "cells": {
             "fill": {
              "color": "#EBF0F8"
             },
             "line": {
              "color": "white"
             }
            },
            "header": {
             "fill": {
              "color": "#C8D4E3"
             },
             "line": {
              "color": "white"
             }
            },
            "type": "table"
           }
          ]
         },
         "layout": {
          "annotationdefaults": {
           "arrowcolor": "#2a3f5f",
           "arrowhead": 0,
           "arrowwidth": 1
          },
          "autotypenumbers": "strict",
          "coloraxis": {
           "colorbar": {
            "outlinewidth": 0,
            "ticks": ""
           }
          },
          "colorscale": {
           "diverging": [
            [
             0,
             "#8e0152"
            ],
            [
             0.1,
             "#c51b7d"
            ],
            [
             0.2,
             "#de77ae"
            ],
            [
             0.3,
             "#f1b6da"
            ],
            [
             0.4,
             "#fde0ef"
            ],
            [
             0.5,
             "#f7f7f7"
            ],
            [
             0.6,
             "#e6f5d0"
            ],
            [
             0.7,
             "#b8e186"
            ],
            [
             0.8,
             "#7fbc41"
            ],
            [
             0.9,
             "#4d9221"
            ],
            [
             1,
             "#276419"
            ]
           ],
           "sequential": [
            [
             0,
             "#0d0887"
            ],
            [
             0.1111111111111111,
             "#46039f"
            ],
            [
             0.2222222222222222,
             "#7201a8"
            ],
            [
             0.3333333333333333,
             "#9c179e"
            ],
            [
             0.4444444444444444,
             "#bd3786"
            ],
            [
             0.5555555555555556,
             "#d8576b"
            ],
            [
             0.6666666666666666,
             "#ed7953"
            ],
            [
             0.7777777777777778,
             "#fb9f3a"
            ],
            [
             0.8888888888888888,
             "#fdca26"
            ],
            [
             1,
             "#f0f921"
            ]
           ],
           "sequentialminus": [
            [
             0,
             "#0d0887"
            ],
            [
             0.1111111111111111,
             "#46039f"
            ],
            [
             0.2222222222222222,
             "#7201a8"
            ],
            [
             0.3333333333333333,
             "#9c179e"
            ],
            [
             0.4444444444444444,
             "#bd3786"
            ],
            [
             0.5555555555555556,
             "#d8576b"
            ],
            [
             0.6666666666666666,
             "#ed7953"
            ],
            [
             0.7777777777777778,
             "#fb9f3a"
            ],
            [
             0.8888888888888888,
             "#fdca26"
            ],
            [
             1,
             "#f0f921"
            ]
           ]
          },
          "colorway": [
           "#636efa",
           "#EF553B",
           "#00cc96",
           "#ab63fa",
           "#FFA15A",
           "#19d3f3",
           "#FF6692",
           "#B6E880",
           "#FF97FF",
           "#FECB52"
          ],
          "font": {
           "color": "#2a3f5f"
          },
          "geo": {
           "bgcolor": "white",
           "lakecolor": "white",
           "landcolor": "#E5ECF6",
           "showlakes": true,
           "showland": true,
           "subunitcolor": "white"
          },
          "hoverlabel": {
           "align": "left"
          },
          "hovermode": "closest",
          "mapbox": {
           "style": "light"
          },
          "paper_bgcolor": "white",
          "plot_bgcolor": "#E5ECF6",
          "polar": {
           "angularaxis": {
            "gridcolor": "white",
            "linecolor": "white",
            "ticks": ""
           },
           "bgcolor": "#E5ECF6",
           "radialaxis": {
            "gridcolor": "white",
            "linecolor": "white",
            "ticks": ""
           }
          },
          "scene": {
           "xaxis": {
            "backgroundcolor": "#E5ECF6",
            "gridcolor": "white",
            "gridwidth": 2,
            "linecolor": "white",
            "showbackground": true,
            "ticks": "",
            "zerolinecolor": "white"
           },
           "yaxis": {
            "backgroundcolor": "#E5ECF6",
            "gridcolor": "white",
            "gridwidth": 2,
            "linecolor": "white",
            "showbackground": true,
            "ticks": "",
            "zerolinecolor": "white"
           },
           "zaxis": {
            "backgroundcolor": "#E5ECF6",
            "gridcolor": "white",
            "gridwidth": 2,
            "linecolor": "white",
            "showbackground": true,
            "ticks": "",
            "zerolinecolor": "white"
           }
          },
          "shapedefaults": {
           "line": {
            "color": "#2a3f5f"
           }
          },
          "ternary": {
           "aaxis": {
            "gridcolor": "white",
            "linecolor": "white",
            "ticks": ""
           },
           "baxis": {
            "gridcolor": "white",
            "linecolor": "white",
            "ticks": ""
           },
           "bgcolor": "#E5ECF6",
           "caxis": {
            "gridcolor": "white",
            "linecolor": "white",
            "ticks": ""
           }
          },
          "title": {
           "x": 0.05
          },
          "xaxis": {
           "automargin": true,
           "gridcolor": "white",
           "linecolor": "white",
           "ticks": "",
           "title": {
            "standoff": 15
           },
           "zerolinecolor": "white",
           "zerolinewidth": 2
          },
          "yaxis": {
           "automargin": true,
           "gridcolor": "white",
           "linecolor": "white",
           "ticks": "",
           "title": {
            "standoff": 15
           },
           "zerolinecolor": "white",
           "zerolinewidth": 2
          }
         }
        },
        "title": {
         "text": "Label: Abomasnow"
        },
        "width": 500,
        "xaxis": {
         "anchor": "y",
         "domain": [
          0,
          1
         ],
         "showgrid": false,
         "showticklabels": false,
         "visible": false,
         "zeroline": false
        },
        "yaxis": {
         "anchor": "x",
         "domain": [
          0,
          1
         ],
         "showgrid": false,
         "showticklabels": false,
         "visible": false,
         "zeroline": false
        }
       }
      }
     },
     "metadata": {},
     "output_type": "display_data"
    }
   ],
   "source": [
    "plot_n_images(train_ds, 5, class_names, GAN=True, size=width)"
   ]
  },
  {
   "cell_type": "code",
   "execution_count": 14,
   "metadata": {},
   "outputs": [],
   "source": [
    "# define the discriminator model\n",
    "def define_cdiscriminator(input_shape, num_classes):\n",
    "    img_input = tf.keras.layers.Input(shape=input_shape)\n",
    "    label_input = tf.keras.layers.Input(shape=(num_classes,))\n",
    "    \n",
    "    # image branch\n",
    "    layer = tf.keras.layers.Conv2D(64, (3, 3), padding='same')(img_input)\n",
    "    layer = tf.keras.layers.LeakyReLU(alpha=0.2)(layer)\n",
    "    layer = tf.keras.layers.Conv2D(128, (3, 3), strides=(2, 2), padding='same')(layer)\n",
    "    layer = tf.keras.layers.LeakyReLU(alpha=0.2)(layer)\n",
    "    layer = tf.keras.layers.Conv2D(256, (3, 3), strides=(2, 2), padding='same')(layer)\n",
    "    layer = tf.keras.layers.LeakyReLU(alpha=0.2)(layer)\n",
    "    layer = tf.keras.layers.Conv2D(256, (3, 3), strides=(2, 2), padding='same')(layer)\n",
    "    layer = tf.keras.layers.LeakyReLU(alpha=0.2)(layer)\n",
    "    layer = tf.keras.layers.Flatten()(layer)\n",
    "\n",
    "    # label branch\n",
    "    label_layer = tf.keras.layers.Dense(64)(label_input)\n",
    "    label_layer = tf.keras.layers.LeakyReLU(alpha=0.2)(label_layer)\n",
    "    label_layer = tf.keras.layers.Dense(128)(label_layer)\n",
    "    label_layer = tf.keras.layers.LeakyReLU(alpha=0.2)(label_layer)\n",
    "    label_layer = tf.keras.layers.Dense(256)(label_layer)\n",
    "    label_layer = tf.keras.layers.LeakyReLU(alpha=0.2)(label_layer)\n",
    "    label_layer = tf.keras.layers.Dense(256)(label_layer)\n",
    "    label_layer = tf.keras.layers.LeakyReLU(alpha=0.2)(label_layer)\n",
    "    label_layer = tf.keras.layers.Flatten()(label_layer)\n",
    "\n",
    "    # concatenate image and label branches\n",
    "    layer = tf.keras.layers.concatenate([layer, label_layer])\n",
    "    layer = tf.keras.layers.Dropout(0.4)(layer)\n",
    "    layer = tf.keras.layers.Dense(1, activation='sigmoid')(layer)\n",
    "    \n",
    "    # define the model\n",
    "    model = tf.keras.models.Model(inputs=[img_input, label_input], outputs=layer)\n",
    "\n",
    "    # compile the model\n",
    "    opt = tf.keras.optimizers.Adam(learning_rate=0.0002, beta_1=0.5)\n",
    "    model.compile(loss='categorical_crossentropy', optimizer=opt, metrics=['accuracy'])\n",
    "    \n",
    "    return model\n",
    "\n",
    "    \n",
    "# define the standalone generator model\n",
    "def define_cgenerator(latent_dim, num_classes):\n",
    "    # Define the noise vector input\n",
    "    in_lat = tf.keras.layers.Input(shape=(latent_dim,))\n",
    "    # Define the class vector input\n",
    "    in_class = tf.keras.layers.Input(shape=(num_classes,))\n",
    "    # Concatenate the noise and class vectors\n",
    "    merge = tf.keras.layers.Concatenate()([in_lat, in_class])\n",
    "    # Project the concatenated vector to a larger dimension\n",
    "    n_nodes = 256 * 8 * 8\n",
    "    dense = tf.keras.layers.Dense(n_nodes)(merge)\n",
    "    # Reshape the dense layer output\n",
    "    reshaped = tf.keras.layers.Reshape((8, 8, 256))(dense)\n",
    "    # Upsample the feature maps\n",
    "    upsampled = tf.keras.layers.Conv2DTranspose(256, (4,4), strides=(2,2), padding='same')(reshaped)\n",
    "    upsampled = tf.keras.layers.LeakyReLU(alpha=0.2)(upsampled)\n",
    "    upsampled = tf.keras.layers.Conv2DTranspose(256, (4,4), strides=(2,2), padding='same')(upsampled)\n",
    "    upsampled = tf.keras.layers.LeakyReLU(alpha=0.2)(upsampled)\n",
    "    upsampled = tf.keras.layers.Conv2DTranspose(128, (4,4), strides=(2,2), padding='same')(upsampled)\n",
    "    upsampled = tf.keras.layers.LeakyReLU(alpha=0.2)(upsampled)\n",
    "    # Output layer\n",
    "    out_layer = tf.keras.layers.Conv2D(3, (3,3), activation='tanh', padding='same')(upsampled)\n",
    "    # Define the model\n",
    "    model = tf.keras.models.Model([in_lat, in_class], out_layer)\n",
    "    return model"
   ]
  },
  {
   "cell_type": "code",
   "execution_count": 15,
   "metadata": {},
   "outputs": [],
   "source": [
    "def define_cgan(g_model, d_model):\n",
    "    d_model.trainable = False\n",
    "    gen_noise, gen_label = g_model.input\n",
    "    gen_output = g_model.output\n",
    "    gan_output = d_model([gen_output, gen_label])\n",
    "    model = tf.keras.Model([gen_noise, gen_label], gan_output)\n",
    "    opt = tf.keras.optimizers.Adam(learning_rate=0.0002, beta_1=0.5)\n",
    "    model.compile(loss='categorical_crossentropy', optimizer=opt)\n",
    "    return model\n"
   ]
  },
  {
   "cell_type": "code",
   "execution_count": 19,
   "metadata": {},
   "outputs": [
    {
     "name": "stdout",
     "output_type": "stream",
     "text": [
      "Model: \"model\"\n",
      "__________________________________________________________________________________________________\n",
      " Layer (type)                   Output Shape         Param #     Connected to                     \n",
      "==================================================================================================\n",
      " input_1 (InputLayer)           [(None, 64, 64, 3)]  0           []                               \n",
      "                                                                                                  \n",
      " input_2 (InputLayer)           [(None, 18)]         0           []                               \n",
      "                                                                                                  \n",
      " conv2d (Conv2D)                (None, 64, 64, 64)   1792        ['input_1[0][0]']                \n",
      "                                                                                                  \n",
      " dense (Dense)                  (None, 64)           1216        ['input_2[0][0]']                \n",
      "                                                                                                  \n",
      " leaky_re_lu (LeakyReLU)        (None, 64, 64, 64)   0           ['conv2d[0][0]']                 \n",
      "                                                                                                  \n",
      " leaky_re_lu_4 (LeakyReLU)      (None, 64)           0           ['dense[0][0]']                  \n",
      "                                                                                                  \n",
      " conv2d_1 (Conv2D)              (None, 32, 32, 128)  73856       ['leaky_re_lu[0][0]']            \n",
      "                                                                                                  \n",
      " dense_1 (Dense)                (None, 128)          8320        ['leaky_re_lu_4[0][0]']          \n",
      "                                                                                                  \n",
      " leaky_re_lu_1 (LeakyReLU)      (None, 32, 32, 128)  0           ['conv2d_1[0][0]']               \n",
      "                                                                                                  \n",
      " leaky_re_lu_5 (LeakyReLU)      (None, 128)          0           ['dense_1[0][0]']                \n",
      "                                                                                                  \n",
      " conv2d_2 (Conv2D)              (None, 16, 16, 256)  295168      ['leaky_re_lu_1[0][0]']          \n",
      "                                                                                                  \n",
      " dense_2 (Dense)                (None, 256)          33024       ['leaky_re_lu_5[0][0]']          \n",
      "                                                                                                  \n",
      " leaky_re_lu_2 (LeakyReLU)      (None, 16, 16, 256)  0           ['conv2d_2[0][0]']               \n",
      "                                                                                                  \n",
      " leaky_re_lu_6 (LeakyReLU)      (None, 256)          0           ['dense_2[0][0]']                \n",
      "                                                                                                  \n",
      " conv2d_3 (Conv2D)              (None, 8, 8, 256)    590080      ['leaky_re_lu_2[0][0]']          \n",
      "                                                                                                  \n",
      " dense_3 (Dense)                (None, 256)          65792       ['leaky_re_lu_6[0][0]']          \n",
      "                                                                                                  \n",
      " leaky_re_lu_3 (LeakyReLU)      (None, 8, 8, 256)    0           ['conv2d_3[0][0]']               \n",
      "                                                                                                  \n",
      " leaky_re_lu_7 (LeakyReLU)      (None, 256)          0           ['dense_3[0][0]']                \n",
      "                                                                                                  \n",
      " flatten (Flatten)              (None, 16384)        0           ['leaky_re_lu_3[0][0]']          \n",
      "                                                                                                  \n",
      " flatten_1 (Flatten)            (None, 256)          0           ['leaky_re_lu_7[0][0]']          \n",
      "                                                                                                  \n",
      " concatenate (Concatenate)      (None, 16640)        0           ['flatten[0][0]',                \n",
      "                                                                  'flatten_1[0][0]']              \n",
      "                                                                                                  \n",
      " dropout (Dropout)              (None, 16640)        0           ['concatenate[0][0]']            \n",
      "                                                                                                  \n",
      " dense_4 (Dense)                (None, 1)            16641       ['dropout[0][0]']                \n",
      "                                                                                                  \n",
      "==================================================================================================\n",
      "Total params: 1,085,889\n",
      "Trainable params: 1,085,889\n",
      "Non-trainable params: 0\n",
      "__________________________________________________________________________________________________\n"
     ]
    }
   ],
   "source": [
    "# build and compile the discriminator\n",
    "cdiscriminator = define_cdiscriminator((64, 64, 3), 18)\n",
    "cdiscriminator.summary()"
   ]
  },
  {
   "cell_type": "code",
   "execution_count": 20,
   "metadata": {},
   "outputs": [
    {
     "name": "stdout",
     "output_type": "stream",
     "text": [
      "Model: \"model_1\"\n",
      "__________________________________________________________________________________________________\n",
      " Layer (type)                   Output Shape         Param #     Connected to                     \n",
      "==================================================================================================\n",
      " input_3 (InputLayer)           [(None, 100)]        0           []                               \n",
      "                                                                                                  \n",
      " input_4 (InputLayer)           [(None, 18)]         0           []                               \n",
      "                                                                                                  \n",
      " concatenate_1 (Concatenate)    (None, 118)          0           ['input_3[0][0]',                \n",
      "                                                                  'input_4[0][0]']                \n",
      "                                                                                                  \n",
      " dense_5 (Dense)                (None, 16384)        1949696     ['concatenate_1[0][0]']          \n",
      "                                                                                                  \n",
      " reshape (Reshape)              (None, 8, 8, 256)    0           ['dense_5[0][0]']                \n",
      "                                                                                                  \n",
      " conv2d_transpose (Conv2DTransp  (None, 16, 16, 256)  1048832    ['reshape[0][0]']                \n",
      " ose)                                                                                             \n",
      "                                                                                                  \n",
      " leaky_re_lu_8 (LeakyReLU)      (None, 16, 16, 256)  0           ['conv2d_transpose[0][0]']       \n",
      "                                                                                                  \n",
      " conv2d_transpose_1 (Conv2DTran  (None, 32, 32, 256)  1048832    ['leaky_re_lu_8[0][0]']          \n",
      " spose)                                                                                           \n",
      "                                                                                                  \n",
      " leaky_re_lu_9 (LeakyReLU)      (None, 32, 32, 256)  0           ['conv2d_transpose_1[0][0]']     \n",
      "                                                                                                  \n",
      " conv2d_transpose_2 (Conv2DTran  (None, 64, 64, 128)  524416     ['leaky_re_lu_9[0][0]']          \n",
      " spose)                                                                                           \n",
      "                                                                                                  \n",
      " leaky_re_lu_10 (LeakyReLU)     (None, 64, 64, 128)  0           ['conv2d_transpose_2[0][0]']     \n",
      "                                                                                                  \n",
      " conv2d_4 (Conv2D)              (None, 64, 64, 3)    3459        ['leaky_re_lu_10[0][0]']         \n",
      "                                                                                                  \n",
      "==================================================================================================\n",
      "Total params: 4,575,235\n",
      "Trainable params: 4,575,235\n",
      "Non-trainable params: 0\n",
      "__________________________________________________________________________________________________\n"
     ]
    }
   ],
   "source": [
    "# build the generator\n",
    "cgenerator = define_cgenerator(100, 18)\n",
    "cgenerator.summary()"
   ]
  },
  {
   "cell_type": "code",
   "execution_count": 21,
   "metadata": {},
   "outputs": [
    {
     "name": "stdout",
     "output_type": "stream",
     "text": [
      "Model: \"model_2\"\n",
      "__________________________________________________________________________________________________\n",
      " Layer (type)                   Output Shape         Param #     Connected to                     \n",
      "==================================================================================================\n",
      " input_3 (InputLayer)           [(None, 100)]        0           []                               \n",
      "                                                                                                  \n",
      " input_4 (InputLayer)           [(None, 18)]         0           []                               \n",
      "                                                                                                  \n",
      " concatenate_1 (Concatenate)    (None, 118)          0           ['input_3[0][0]',                \n",
      "                                                                  'input_4[0][0]']                \n",
      "                                                                                                  \n",
      " dense_5 (Dense)                (None, 16384)        1949696     ['concatenate_1[0][0]']          \n",
      "                                                                                                  \n",
      " reshape (Reshape)              (None, 8, 8, 256)    0           ['dense_5[0][0]']                \n",
      "                                                                                                  \n",
      " conv2d_transpose (Conv2DTransp  (None, 16, 16, 256)  1048832    ['reshape[0][0]']                \n",
      " ose)                                                                                             \n",
      "                                                                                                  \n",
      " leaky_re_lu_8 (LeakyReLU)      (None, 16, 16, 256)  0           ['conv2d_transpose[0][0]']       \n",
      "                                                                                                  \n",
      " conv2d_transpose_1 (Conv2DTran  (None, 32, 32, 256)  1048832    ['leaky_re_lu_8[0][0]']          \n",
      " spose)                                                                                           \n",
      "                                                                                                  \n",
      " leaky_re_lu_9 (LeakyReLU)      (None, 32, 32, 256)  0           ['conv2d_transpose_1[0][0]']     \n",
      "                                                                                                  \n",
      " conv2d_transpose_2 (Conv2DTran  (None, 64, 64, 128)  524416     ['leaky_re_lu_9[0][0]']          \n",
      " spose)                                                                                           \n",
      "                                                                                                  \n",
      " leaky_re_lu_10 (LeakyReLU)     (None, 64, 64, 128)  0           ['conv2d_transpose_2[0][0]']     \n",
      "                                                                                                  \n",
      " conv2d_4 (Conv2D)              (None, 64, 64, 3)    3459        ['leaky_re_lu_10[0][0]']         \n",
      "                                                                                                  \n",
      " model (Functional)             (None, 1)            1085889     ['conv2d_4[0][0]',               \n",
      "                                                                  'input_4[0][0]']                \n",
      "                                                                                                  \n",
      "==================================================================================================\n",
      "Total params: 5,661,124\n",
      "Trainable params: 4,575,235\n",
      "Non-trainable params: 1,085,889\n",
      "__________________________________________________________________________________________________\n"
     ]
    }
   ],
   "source": [
    "# build the gan\n",
    "cgan_model = define_cgan(cgenerator, cdiscriminator)\n",
    "cgan_model.summary()"
   ]
  },
  {
   "cell_type": "code",
   "execution_count": 35,
   "metadata": {},
   "outputs": [],
   "source": [
    "def generate_fake_samples(g_model, latent_dim, n_samples, n_classes):\n",
    "    # generate points in latent space\n",
    "    noise_input = generate_latent_points(latent_dim, n_samples)\n",
    "    # generate random class labels\n",
    "    y_types = generate_class_labels(n_samples, n_classes)\n",
    "    # predict outputs\n",
    "    X = g_model.predict([noise_input, y_types], verbose=0)\n",
    "    # # create 'fake' class labels (0)\n",
    "    y_class = tf.zeros((n_samples, 1))\n",
    "    return X, y_types, y_class\n",
    "\n",
    "def generate_latent_points(latent_dim, n_samples):\n",
    "    # generate points in the latent space\n",
    "    x_input = tf.random.normal(shape=(n_samples, latent_dim))\n",
    "    return x_input\n",
    "\n",
    "def generate_class_labels(n_samples, n_classes):\n",
    "    # generate random one-hot class labels\n",
    "    class_labels = tf.random.uniform((n_samples, n_classes), minval=0, maxval=1, dtype=tf.int32)\n",
    "    return tf.one_hot(tf.argmax(class_labels, axis=1), depth=n_classes)\n",
    "\n",
    "def generate_real_samples(dataset, n_samples):\n",
    "    X, y_types, y_class = [], [], []\n",
    "    while len(X) < n_samples:\n",
    "        dataset.shuffle(100, seed=123)\n",
    "        for x, label in dataset.take(5):\n",
    "            for i in range(len(x)):\n",
    "                X.append(x[i])\n",
    "                y_types.append(label[i][1:])\n",
    "                y_class.append(label[i][0])\n",
    "                if len(X) == n_samples:\n",
    "                    break\n",
    "            if len(X) == n_samples:\n",
    "                break\n",
    "    X = tf.stack(X)\n",
    "    y_types = tf.stack(y_types)\n",
    "    y_class = tf.reshape(tf.stack(y_class), (n_samples, 1))\n",
    "    return X, y_types, y_class"
   ]
  },
  {
   "cell_type": "code",
   "execution_count": 42,
   "metadata": {},
   "outputs": [],
   "source": [
    "def summarize_performance(epoch, g_model, d_model, dataset, latent_dim, n_samples=100):\n",
    "    # prepare real samples\n",
    "    X_real, y_real_types, y_real_class = generate_real_samples(dataset, n_samples)\n",
    "    print(X_real.shape, y_real_types.shape, y_real_class.shape)\n",
    "    # evaluate discriminator on real examples\n",
    "    _, acc_real = d_model.evaluate([X_real, y_real_types], y_real_class, verbose=0)\n",
    "    # prepare fake examples\n",
    "    x_fake, y_fake_types, y_fake_class = generate_fake_samples(g_model, latent_dim, n_samples, 18)\n",
    "    # evaluate discriminator on fake examples\n",
    "    _, acc_fake = d_model.evaluate([x_fake, y_fake_types], y_fake_class, verbose=0)\n",
    "    # summarize discriminator performance\n",
    "    print('>Accuracy real: %.0f%%, fake: %.0f%%' % (acc_real*100, acc_fake*100))\n",
    "    # save plot\n",
    "    save_plot(x_fake, epoch)\n",
    "    # save the generator model tile file\n",
    "    filename = 'cgenerator_model_64_e%03d.h5' % (epoch+1)\n",
    "    g_model.save(filename)\n",
    "\n",
    "def save_plot(examples, epoch, n=10):\n",
    "    # plot images\n",
    "    for i in range(n * n):\n",
    "        # define subplot\n",
    "        plt.subplot(n, n, 1 + i)\n",
    "        # turn off axis\n",
    "        plt.axis('off')\n",
    "        # plot raw pixel data\n",
    "        print(examples[i])\n",
    "        plt.imshow(examples[i, :, :, :])\n",
    "    # save plot to file\n",
    "    filename = 'cgenerated_plot_64_e%03d.png' % (epoch+1)\n",
    "    plt.savefig(filename)\n",
    "    plt.close()"
   ]
  },
  {
   "cell_type": "code",
   "execution_count": 40,
   "metadata": {},
   "outputs": [],
   "source": [
    "def train(g_model, d_model, gan_model, dataset, latent_dim, n_epochs=10, n_batch=64):\n",
    "    bat_per_epo = int(dataset.cardinality())\n",
    "    # manually enumerate epochs\n",
    "    for i in range(n_epochs):\n",
    "        # enumerate batches over the training set\n",
    "        for j, batch in enumerate(dataset):\n",
    "            # get randomly selected 'real' samples\n",
    "            X_real, y_real_class, y_real_types = batch[0], batch[1][:, 0], batch[1][:, 1:]\n",
    "            half_batch = int(X_real.shape[0])\n",
    "            # generate 'fake' examples\n",
    "            # y_gan = tf.one_hot(tf.random.uniform((half_batch, 1), minval=0, maxval=10, dtype=tf.int32), depth=10)\n",
    "            X_fake, y_fake_types, y_fake_class = generate_fake_samples(g_model, latent_dim, half_batch, 18)\n",
    "            # create training set for the discriminator\n",
    "            y_real_class = tf.reshape(y_real_class, (half_batch, 1))\n",
    "            # y_fake = tf.zeros((half_batch, 1))\n",
    "            # print(y_real.shape, y_fake.shape, X_real.shape, X_fake.shape)\n",
    "            X, y_types = tf.concat([X_real, X_fake], axis=0), tf.concat([y_real_types, y_fake_types], axis=0)\n",
    "            y_class = tf.concat([y_real_class, y_fake_class], axis=0)\n",
    "            # update discriminator model weights\n",
    "            # print(X.shape, y_types.shape, y_class.shape)\n",
    "            d_loss, _ = d_model.train_on_batch([X, y_types], y_class)\n",
    "            # prepare points in latent space as input for the generator\n",
    "            X_gan, y_gan_types = generate_latent_points(latent_dim, n_batch), tf.squeeze(tf.one_hot(tf.random.uniform((n_batch, 1), minval=0, maxval=18, dtype=tf.int32), depth=18))\n",
    "            # update the generator via the discriminator's error\n",
    "            y_gan_class = tf.zeros((n_batch, 1))\n",
    "            # print(X_gan.shape, y_gan_types.shape, y_gan_class.shape)\n",
    "            g_loss = gan_model.train_on_batch([X_gan, y_gan_types], y_gan_class)\n",
    "            # summarize loss on this batch\n",
    "            print('>%d, %d/%d, d=%.3f, g=%.3f' % (i+1, j+1, bat_per_epo, d_loss, g_loss))\n",
    "        # evaluate the model performance, sometimes\n",
    "        if (i) % 10 == 0:\n",
    "            summarize_performance(i, g_model, d_model, dataset, latent_dim)\n",
    "    # save the generator model\n",
    "    g_model.save('cgenerator_model_64_final.h5')\n"
   ]
  },
  {
   "cell_type": "code",
   "execution_count": 41,
   "metadata": {},
   "outputs": [
    {
     "name": "stdout",
     "output_type": "stream",
     "text": [
      ">1, 1/433, d=0.000, g=0.000\n",
      ">1, 2/433, d=0.000, g=0.000\n",
      ">1, 3/433, d=0.000, g=0.000\n",
      ">1, 4/433, d=0.000, g=0.000\n",
      ">1, 5/433, d=0.000, g=0.000\n",
      ">1, 6/433, d=0.000, g=0.000\n",
      ">1, 7/433, d=0.000, g=0.000\n",
      ">1, 8/433, d=0.000, g=0.000\n",
      ">1, 9/433, d=0.000, g=0.000\n",
      ">1, 10/433, d=0.000, g=0.000\n",
      ">1, 11/433, d=0.000, g=0.000\n",
      ">1, 12/433, d=0.000, g=0.000\n",
      ">1, 13/433, d=0.000, g=0.000\n",
      ">1, 14/433, d=0.000, g=0.000\n",
      ">1, 15/433, d=0.000, g=0.000\n",
      ">1, 16/433, d=0.000, g=0.000\n",
      ">1, 17/433, d=0.000, g=0.000\n",
      ">1, 18/433, d=0.000, g=0.000\n",
      ">1, 19/433, d=0.000, g=0.000\n",
      ">1, 20/433, d=0.000, g=0.000\n",
      ">1, 21/433, d=0.000, g=0.000\n",
      ">1, 22/433, d=0.000, g=0.000\n",
      ">1, 23/433, d=0.000, g=0.000\n",
      ">1, 24/433, d=0.000, g=0.000\n",
      ">1, 25/433, d=0.000, g=0.000\n",
      ">1, 26/433, d=0.000, g=0.000\n",
      ">1, 27/433, d=0.000, g=0.000\n",
      ">1, 28/433, d=0.000, g=0.000\n",
      ">1, 29/433, d=0.000, g=0.000\n",
      ">1, 30/433, d=0.000, g=0.000\n",
      ">1, 31/433, d=0.000, g=0.000\n",
      ">1, 32/433, d=0.000, g=0.000\n",
      ">1, 33/433, d=0.000, g=0.000\n",
      ">1, 34/433, d=0.000, g=0.000\n",
      ">1, 35/433, d=0.000, g=0.000\n",
      ">1, 36/433, d=0.000, g=0.000\n",
      ">1, 37/433, d=0.000, g=0.000\n",
      ">1, 38/433, d=0.000, g=0.000\n",
      ">1, 39/433, d=0.000, g=0.000\n",
      ">1, 40/433, d=0.000, g=0.000\n",
      ">1, 41/433, d=0.000, g=0.000\n",
      ">1, 42/433, d=0.000, g=0.000\n",
      ">1, 43/433, d=0.000, g=0.000\n",
      ">1, 44/433, d=0.000, g=0.000\n",
      ">1, 45/433, d=0.000, g=0.000\n",
      ">1, 46/433, d=0.000, g=0.000\n",
      ">1, 47/433, d=0.000, g=0.000\n",
      ">1, 48/433, d=0.000, g=0.000\n",
      ">1, 49/433, d=0.000, g=0.000\n",
      ">1, 50/433, d=0.000, g=0.000\n",
      ">1, 51/433, d=0.000, g=0.000\n",
      ">1, 52/433, d=0.000, g=0.000\n",
      ">1, 53/433, d=0.000, g=0.000\n",
      ">1, 54/433, d=0.000, g=0.000\n",
      ">1, 55/433, d=0.000, g=0.000\n",
      ">1, 56/433, d=0.000, g=0.000\n",
      ">1, 57/433, d=0.000, g=0.000\n",
      ">1, 58/433, d=0.000, g=0.000\n",
      ">1, 59/433, d=0.000, g=0.000\n",
      ">1, 60/433, d=0.000, g=0.000\n",
      ">1, 61/433, d=0.000, g=0.000\n",
      ">1, 62/433, d=0.000, g=0.000\n",
      ">1, 63/433, d=0.000, g=0.000\n",
      ">1, 64/433, d=0.000, g=0.000\n",
      ">1, 65/433, d=0.000, g=0.000\n",
      ">1, 66/433, d=0.000, g=0.000\n",
      ">1, 67/433, d=0.000, g=0.000\n",
      ">1, 68/433, d=0.000, g=0.000\n",
      ">1, 69/433, d=0.000, g=0.000\n",
      ">1, 70/433, d=0.000, g=0.000\n",
      ">1, 71/433, d=0.000, g=0.000\n",
      ">1, 72/433, d=0.000, g=0.000\n",
      ">1, 73/433, d=0.000, g=0.000\n",
      ">1, 74/433, d=0.000, g=0.000\n",
      ">1, 75/433, d=0.000, g=0.000\n",
      ">1, 76/433, d=0.000, g=0.000\n",
      ">1, 77/433, d=0.000, g=0.000\n",
      ">1, 78/433, d=0.000, g=0.000\n",
      ">1, 79/433, d=0.000, g=0.000\n",
      ">1, 80/433, d=0.000, g=0.000\n",
      ">1, 81/433, d=0.000, g=0.000\n",
      ">1, 82/433, d=0.000, g=0.000\n",
      ">1, 83/433, d=0.000, g=0.000\n",
      ">1, 84/433, d=0.000, g=0.000\n",
      ">1, 85/433, d=0.000, g=0.000\n",
      ">1, 86/433, d=0.000, g=0.000\n",
      ">1, 87/433, d=0.000, g=0.000\n",
      ">1, 88/433, d=0.000, g=0.000\n",
      ">1, 89/433, d=0.000, g=0.000\n",
      ">1, 90/433, d=0.000, g=0.000\n",
      ">1, 91/433, d=0.000, g=0.000\n",
      ">1, 92/433, d=0.000, g=0.000\n",
      ">1, 93/433, d=0.000, g=0.000\n",
      ">1, 94/433, d=0.000, g=0.000\n",
      ">1, 95/433, d=0.000, g=0.000\n",
      ">1, 96/433, d=0.000, g=0.000\n",
      ">1, 97/433, d=0.000, g=0.000\n",
      ">1, 98/433, d=0.000, g=0.000\n",
      ">1, 99/433, d=0.000, g=0.000\n",
      ">1, 100/433, d=0.000, g=0.000\n",
      ">1, 101/433, d=0.000, g=0.000\n",
      ">1, 102/433, d=0.000, g=0.000\n",
      ">1, 103/433, d=0.000, g=0.000\n",
      ">1, 104/433, d=0.000, g=0.000\n",
      ">1, 105/433, d=0.000, g=0.000\n",
      ">1, 106/433, d=0.000, g=0.000\n",
      ">1, 107/433, d=0.000, g=0.000\n",
      ">1, 108/433, d=0.000, g=0.000\n",
      ">1, 109/433, d=0.000, g=0.000\n",
      ">1, 110/433, d=0.000, g=0.000\n",
      ">1, 111/433, d=0.000, g=0.000\n",
      ">1, 112/433, d=0.000, g=0.000\n",
      ">1, 113/433, d=0.000, g=0.000\n",
      ">1, 114/433, d=0.000, g=0.000\n",
      ">1, 115/433, d=0.000, g=0.000\n",
      ">1, 116/433, d=0.000, g=0.000\n",
      ">1, 117/433, d=0.000, g=0.000\n",
      ">1, 118/433, d=0.000, g=0.000\n",
      ">1, 119/433, d=0.000, g=0.000\n",
      ">1, 120/433, d=0.000, g=0.000\n",
      ">1, 121/433, d=0.000, g=0.000\n",
      ">1, 122/433, d=0.000, g=0.000\n",
      ">1, 123/433, d=0.000, g=0.000\n",
      ">1, 124/433, d=0.000, g=0.000\n",
      ">1, 125/433, d=0.000, g=0.000\n",
      ">1, 126/433, d=0.000, g=0.000\n",
      ">1, 127/433, d=0.000, g=0.000\n",
      ">1, 128/433, d=0.000, g=0.000\n",
      ">1, 129/433, d=0.000, g=0.000\n",
      ">1, 130/433, d=0.000, g=0.000\n",
      ">1, 131/433, d=0.000, g=0.000\n",
      ">1, 132/433, d=0.000, g=0.000\n",
      ">1, 133/433, d=0.000, g=0.000\n",
      ">1, 134/433, d=0.000, g=0.000\n",
      ">1, 135/433, d=0.000, g=0.000\n",
      ">1, 136/433, d=0.000, g=0.000\n",
      ">1, 137/433, d=0.000, g=0.000\n",
      ">1, 138/433, d=0.000, g=0.000\n",
      ">1, 139/433, d=0.000, g=0.000\n",
      ">1, 140/433, d=0.000, g=0.000\n",
      ">1, 141/433, d=0.000, g=0.000\n",
      ">1, 142/433, d=0.000, g=0.000\n",
      ">1, 143/433, d=0.000, g=0.000\n",
      ">1, 144/433, d=0.000, g=0.000\n",
      ">1, 145/433, d=0.000, g=0.000\n",
      ">1, 146/433, d=0.000, g=0.000\n",
      ">1, 147/433, d=0.000, g=0.000\n",
      ">1, 148/433, d=0.000, g=0.000\n",
      ">1, 149/433, d=0.000, g=0.000\n",
      ">1, 150/433, d=0.000, g=0.000\n",
      ">1, 151/433, d=0.000, g=0.000\n",
      ">1, 152/433, d=0.000, g=0.000\n",
      ">1, 153/433, d=0.000, g=0.000\n",
      ">1, 154/433, d=0.000, g=0.000\n",
      ">1, 155/433, d=0.000, g=0.000\n",
      ">1, 156/433, d=0.000, g=0.000\n",
      ">1, 157/433, d=0.000, g=0.000\n",
      ">1, 158/433, d=0.000, g=0.000\n",
      ">1, 159/433, d=0.000, g=0.000\n",
      ">1, 160/433, d=0.000, g=0.000\n",
      ">1, 161/433, d=0.000, g=0.000\n",
      ">1, 162/433, d=0.000, g=0.000\n",
      ">1, 163/433, d=0.000, g=0.000\n",
      ">1, 164/433, d=0.000, g=0.000\n",
      ">1, 165/433, d=0.000, g=0.000\n",
      ">1, 166/433, d=0.000, g=0.000\n",
      ">1, 167/433, d=0.000, g=0.000\n",
      ">1, 168/433, d=0.000, g=0.000\n",
      ">1, 169/433, d=0.000, g=0.000\n",
      ">1, 170/433, d=0.000, g=0.000\n",
      ">1, 171/433, d=0.000, g=0.000\n",
      ">1, 172/433, d=0.000, g=0.000\n",
      ">1, 173/433, d=0.000, g=0.000\n",
      ">1, 174/433, d=0.000, g=0.000\n",
      ">1, 175/433, d=0.000, g=0.000\n",
      ">1, 176/433, d=0.000, g=0.000\n",
      ">1, 177/433, d=0.000, g=0.000\n",
      ">1, 178/433, d=0.000, g=0.000\n",
      ">1, 179/433, d=0.000, g=0.000\n",
      ">1, 180/433, d=0.000, g=0.000\n",
      ">1, 181/433, d=0.000, g=0.000\n",
      ">1, 182/433, d=0.000, g=0.000\n",
      ">1, 183/433, d=0.000, g=0.000\n",
      ">1, 184/433, d=0.000, g=0.000\n",
      ">1, 185/433, d=0.000, g=0.000\n",
      ">1, 186/433, d=0.000, g=0.000\n",
      ">1, 187/433, d=0.000, g=0.000\n",
      ">1, 188/433, d=0.000, g=0.000\n",
      ">1, 189/433, d=0.000, g=0.000\n",
      ">1, 190/433, d=0.000, g=0.000\n",
      ">1, 191/433, d=0.000, g=0.000\n",
      ">1, 192/433, d=0.000, g=0.000\n",
      ">1, 193/433, d=0.000, g=0.000\n",
      ">1, 194/433, d=0.000, g=0.000\n",
      ">1, 195/433, d=0.000, g=0.000\n",
      ">1, 196/433, d=0.000, g=0.000\n",
      ">1, 197/433, d=0.000, g=0.000\n",
      ">1, 198/433, d=0.000, g=0.000\n",
      ">1, 199/433, d=0.000, g=0.000\n",
      ">1, 200/433, d=0.000, g=0.000\n",
      ">1, 201/433, d=0.000, g=0.000\n",
      ">1, 202/433, d=0.000, g=0.000\n",
      ">1, 203/433, d=0.000, g=0.000\n",
      ">1, 204/433, d=0.000, g=0.000\n",
      ">1, 205/433, d=0.000, g=0.000\n",
      ">1, 206/433, d=0.000, g=0.000\n",
      ">1, 207/433, d=0.000, g=0.000\n",
      ">1, 208/433, d=0.000, g=0.000\n",
      ">1, 209/433, d=0.000, g=0.000\n",
      ">1, 210/433, d=0.000, g=0.000\n",
      ">1, 211/433, d=0.000, g=0.000\n",
      ">1, 212/433, d=0.000, g=0.000\n",
      ">1, 213/433, d=0.000, g=0.000\n",
      ">1, 214/433, d=0.000, g=0.000\n",
      ">1, 215/433, d=0.000, g=0.000\n",
      ">1, 216/433, d=0.000, g=0.000\n",
      ">1, 217/433, d=0.000, g=0.000\n",
      ">1, 218/433, d=0.000, g=0.000\n",
      ">1, 219/433, d=0.000, g=0.000\n",
      ">1, 220/433, d=0.000, g=0.000\n",
      ">1, 221/433, d=0.000, g=0.000\n",
      ">1, 222/433, d=0.000, g=0.000\n",
      ">1, 223/433, d=0.000, g=0.000\n",
      ">1, 224/433, d=0.000, g=0.000\n",
      ">1, 225/433, d=0.000, g=0.000\n",
      ">1, 226/433, d=0.000, g=0.000\n",
      ">1, 227/433, d=0.000, g=0.000\n",
      ">1, 228/433, d=0.000, g=0.000\n",
      ">1, 229/433, d=0.000, g=0.000\n",
      ">1, 230/433, d=0.000, g=0.000\n",
      ">1, 231/433, d=0.000, g=0.000\n",
      ">1, 232/433, d=0.000, g=0.000\n",
      ">1, 233/433, d=0.000, g=0.000\n",
      ">1, 234/433, d=0.000, g=0.000\n",
      ">1, 235/433, d=0.000, g=0.000\n",
      ">1, 236/433, d=0.000, g=0.000\n",
      ">1, 237/433, d=0.000, g=0.000\n",
      ">1, 238/433, d=0.000, g=0.000\n",
      ">1, 239/433, d=0.000, g=0.000\n",
      ">1, 240/433, d=0.000, g=0.000\n",
      ">1, 241/433, d=0.000, g=0.000\n",
      ">1, 242/433, d=0.000, g=0.000\n",
      ">1, 243/433, d=0.000, g=0.000\n",
      ">1, 244/433, d=0.000, g=0.000\n",
      ">1, 245/433, d=0.000, g=0.000\n",
      ">1, 246/433, d=0.000, g=0.000\n",
      ">1, 247/433, d=0.000, g=0.000\n",
      ">1, 248/433, d=0.000, g=0.000\n",
      ">1, 249/433, d=0.000, g=0.000\n",
      ">1, 250/433, d=0.000, g=0.000\n",
      ">1, 251/433, d=0.000, g=0.000\n",
      ">1, 252/433, d=0.000, g=0.000\n",
      ">1, 253/433, d=0.000, g=0.000\n",
      ">1, 254/433, d=0.000, g=0.000\n",
      ">1, 255/433, d=0.000, g=0.000\n",
      ">1, 256/433, d=0.000, g=0.000\n",
      ">1, 257/433, d=0.000, g=0.000\n",
      ">1, 258/433, d=0.000, g=0.000\n",
      ">1, 259/433, d=0.000, g=0.000\n",
      ">1, 260/433, d=0.000, g=0.000\n",
      ">1, 261/433, d=0.000, g=0.000\n",
      ">1, 262/433, d=0.000, g=0.000\n",
      ">1, 263/433, d=0.000, g=0.000\n",
      ">1, 264/433, d=0.000, g=0.000\n",
      ">1, 265/433, d=0.000, g=0.000\n",
      ">1, 266/433, d=0.000, g=0.000\n",
      ">1, 267/433, d=0.000, g=0.000\n",
      ">1, 268/433, d=0.000, g=0.000\n",
      ">1, 269/433, d=0.000, g=0.000\n",
      ">1, 270/433, d=0.000, g=0.000\n",
      ">1, 271/433, d=0.000, g=0.000\n",
      ">1, 272/433, d=0.000, g=0.000\n",
      ">1, 273/433, d=0.000, g=0.000\n",
      ">1, 274/433, d=0.000, g=0.000\n",
      ">1, 275/433, d=0.000, g=0.000\n",
      ">1, 276/433, d=0.000, g=0.000\n",
      ">1, 277/433, d=0.000, g=0.000\n",
      ">1, 278/433, d=0.000, g=0.000\n",
      ">1, 279/433, d=0.000, g=0.000\n",
      ">1, 280/433, d=0.000, g=0.000\n",
      ">1, 281/433, d=0.000, g=0.000\n",
      ">1, 282/433, d=0.000, g=0.000\n",
      ">1, 283/433, d=0.000, g=0.000\n",
      ">1, 284/433, d=0.000, g=0.000\n",
      ">1, 285/433, d=0.000, g=0.000\n",
      ">1, 286/433, d=0.000, g=0.000\n",
      ">1, 287/433, d=0.000, g=0.000\n",
      ">1, 288/433, d=0.000, g=0.000\n",
      ">1, 289/433, d=0.000, g=0.000\n",
      ">1, 290/433, d=0.000, g=0.000\n",
      ">1, 291/433, d=0.000, g=0.000\n",
      ">1, 292/433, d=0.000, g=0.000\n",
      ">1, 293/433, d=0.000, g=0.000\n",
      ">1, 294/433, d=0.000, g=0.000\n",
      ">1, 295/433, d=0.000, g=0.000\n",
      ">1, 296/433, d=0.000, g=0.000\n",
      ">1, 297/433, d=0.000, g=0.000\n",
      ">1, 298/433, d=0.000, g=0.000\n",
      ">1, 299/433, d=0.000, g=0.000\n",
      ">1, 300/433, d=0.000, g=0.000\n",
      ">1, 301/433, d=0.000, g=0.000\n",
      ">1, 302/433, d=0.000, g=0.000\n",
      ">1, 303/433, d=0.000, g=0.000\n",
      ">1, 304/433, d=0.000, g=0.000\n",
      ">1, 305/433, d=0.000, g=0.000\n",
      ">1, 306/433, d=0.000, g=0.000\n",
      ">1, 307/433, d=0.000, g=0.000\n",
      ">1, 308/433, d=0.000, g=0.000\n",
      ">1, 309/433, d=0.000, g=0.000\n",
      ">1, 310/433, d=0.000, g=0.000\n",
      ">1, 311/433, d=0.000, g=0.000\n",
      ">1, 312/433, d=0.000, g=0.000\n",
      ">1, 313/433, d=0.000, g=0.000\n",
      ">1, 314/433, d=0.000, g=0.000\n",
      ">1, 315/433, d=0.000, g=0.000\n",
      ">1, 316/433, d=0.000, g=0.000\n",
      ">1, 317/433, d=0.000, g=0.000\n",
      ">1, 318/433, d=0.000, g=0.000\n",
      ">1, 319/433, d=0.000, g=0.000\n",
      ">1, 320/433, d=0.000, g=0.000\n",
      ">1, 321/433, d=0.000, g=0.000\n",
      ">1, 322/433, d=0.000, g=0.000\n",
      ">1, 323/433, d=0.000, g=0.000\n",
      ">1, 324/433, d=0.000, g=0.000\n",
      ">1, 325/433, d=0.000, g=0.000\n",
      ">1, 326/433, d=0.000, g=0.000\n",
      ">1, 327/433, d=0.000, g=0.000\n",
      ">1, 328/433, d=0.000, g=0.000\n",
      ">1, 329/433, d=0.000, g=0.000\n",
      ">1, 330/433, d=0.000, g=0.000\n",
      ">1, 331/433, d=0.000, g=0.000\n",
      ">1, 332/433, d=0.000, g=0.000\n",
      ">1, 333/433, d=0.000, g=0.000\n",
      ">1, 334/433, d=0.000, g=0.000\n",
      ">1, 335/433, d=0.000, g=0.000\n",
      ">1, 336/433, d=0.000, g=0.000\n",
      ">1, 337/433, d=0.000, g=0.000\n",
      ">1, 338/433, d=0.000, g=0.000\n",
      ">1, 339/433, d=0.000, g=0.000\n",
      ">1, 340/433, d=0.000, g=0.000\n",
      ">1, 341/433, d=0.000, g=0.000\n",
      ">1, 342/433, d=0.000, g=0.000\n",
      ">1, 343/433, d=0.000, g=0.000\n",
      ">1, 344/433, d=0.000, g=0.000\n",
      ">1, 345/433, d=0.000, g=0.000\n",
      ">1, 346/433, d=0.000, g=0.000\n",
      ">1, 347/433, d=0.000, g=0.000\n",
      ">1, 348/433, d=0.000, g=0.000\n",
      ">1, 349/433, d=0.000, g=0.000\n",
      ">1, 350/433, d=0.000, g=0.000\n",
      ">1, 351/433, d=0.000, g=0.000\n",
      ">1, 352/433, d=0.000, g=0.000\n",
      ">1, 353/433, d=0.000, g=0.000\n",
      ">1, 354/433, d=0.000, g=0.000\n",
      ">1, 355/433, d=0.000, g=0.000\n",
      ">1, 356/433, d=0.000, g=0.000\n",
      ">1, 357/433, d=0.000, g=0.000\n",
      ">1, 358/433, d=0.000, g=0.000\n",
      ">1, 359/433, d=0.000, g=0.000\n",
      ">1, 360/433, d=0.000, g=0.000\n",
      ">1, 361/433, d=0.000, g=0.000\n",
      ">1, 362/433, d=0.000, g=0.000\n",
      ">1, 363/433, d=0.000, g=0.000\n",
      ">1, 364/433, d=0.000, g=0.000\n",
      ">1, 365/433, d=0.000, g=0.000\n",
      ">1, 366/433, d=0.000, g=0.000\n",
      ">1, 367/433, d=0.000, g=0.000\n",
      ">1, 368/433, d=0.000, g=0.000\n",
      ">1, 369/433, d=0.000, g=0.000\n",
      ">1, 370/433, d=0.000, g=0.000\n",
      ">1, 371/433, d=0.000, g=0.000\n",
      ">1, 372/433, d=0.000, g=0.000\n",
      ">1, 373/433, d=0.000, g=0.000\n",
      ">1, 374/433, d=0.000, g=0.000\n",
      ">1, 375/433, d=0.000, g=0.000\n",
      ">1, 376/433, d=0.000, g=0.000\n",
      ">1, 377/433, d=0.000, g=0.000\n",
      ">1, 378/433, d=0.000, g=0.000\n",
      ">1, 379/433, d=0.000, g=0.000\n",
      ">1, 380/433, d=0.000, g=0.000\n",
      ">1, 381/433, d=0.000, g=0.000\n",
      ">1, 382/433, d=0.000, g=0.000\n",
      ">1, 383/433, d=0.000, g=0.000\n",
      ">1, 384/433, d=0.000, g=0.000\n",
      ">1, 385/433, d=0.000, g=0.000\n",
      ">1, 386/433, d=0.000, g=0.000\n",
      ">1, 387/433, d=0.000, g=0.000\n",
      ">1, 388/433, d=0.000, g=0.000\n",
      ">1, 389/433, d=0.000, g=0.000\n",
      ">1, 390/433, d=0.000, g=0.000\n",
      ">1, 391/433, d=0.000, g=0.000\n",
      ">1, 392/433, d=0.000, g=0.000\n",
      ">1, 393/433, d=0.000, g=0.000\n",
      ">1, 394/433, d=0.000, g=0.000\n",
      ">1, 395/433, d=0.000, g=0.000\n",
      ">1, 396/433, d=0.000, g=0.000\n",
      ">1, 397/433, d=0.000, g=0.000\n",
      ">1, 398/433, d=0.000, g=0.000\n",
      ">1, 399/433, d=0.000, g=0.000\n",
      ">1, 400/433, d=0.000, g=0.000\n",
      ">1, 401/433, d=0.000, g=0.000\n",
      ">1, 402/433, d=0.000, g=0.000\n",
      ">1, 403/433, d=0.000, g=0.000\n",
      ">1, 404/433, d=0.000, g=0.000\n",
      ">1, 405/433, d=0.000, g=0.000\n",
      ">1, 406/433, d=0.000, g=0.000\n",
      ">1, 407/433, d=0.000, g=0.000\n",
      ">1, 408/433, d=0.000, g=0.000\n",
      ">1, 409/433, d=0.000, g=0.000\n",
      ">1, 410/433, d=0.000, g=0.000\n",
      ">1, 411/433, d=0.000, g=0.000\n",
      ">1, 412/433, d=0.000, g=0.000\n",
      ">1, 413/433, d=0.000, g=0.000\n",
      ">1, 414/433, d=0.000, g=0.000\n",
      ">1, 415/433, d=0.000, g=0.000\n",
      ">1, 416/433, d=0.000, g=0.000\n",
      ">1, 417/433, d=0.000, g=0.000\n",
      ">1, 418/433, d=0.000, g=0.000\n",
      ">1, 419/433, d=0.000, g=0.000\n",
      ">1, 420/433, d=0.000, g=0.000\n",
      ">1, 421/433, d=0.000, g=0.000\n",
      ">1, 422/433, d=0.000, g=0.000\n",
      ">1, 423/433, d=0.000, g=0.000\n",
      ">1, 424/433, d=0.000, g=0.000\n",
      ">1, 425/433, d=0.000, g=0.000\n",
      ">1, 426/433, d=0.000, g=0.000\n",
      ">1, 427/433, d=0.000, g=0.000\n",
      ">1, 428/433, d=0.000, g=0.000\n",
      ">1, 429/433, d=0.000, g=0.000\n",
      ">1, 430/433, d=0.000, g=0.000\n",
      ">1, 431/433, d=0.000, g=0.000\n",
      ">1, 432/433, d=0.000, g=0.000\n",
      ">1, 433/433, d=0.000, g=0.000\n",
      "(100, 64, 64, 3) (100, 18) (100, 1)\n"
     ]
    },
    {
     "name": "stderr",
     "output_type": "stream",
     "text": [
      "Clipping input data to the valid range for imshow with RGB data ([0..1] for floats or [0..255] for integers).\n",
      "Clipping input data to the valid range for imshow with RGB data ([0..1] for floats or [0..255] for integers).\n",
      "Clipping input data to the valid range for imshow with RGB data ([0..1] for floats or [0..255] for integers).\n",
      "Clipping input data to the valid range for imshow with RGB data ([0..1] for floats or [0..255] for integers).\n",
      "Clipping input data to the valid range for imshow with RGB data ([0..1] for floats or [0..255] for integers).\n",
      "Clipping input data to the valid range for imshow with RGB data ([0..1] for floats or [0..255] for integers).\n",
      "Clipping input data to the valid range for imshow with RGB data ([0..1] for floats or [0..255] for integers).\n",
      "Clipping input data to the valid range for imshow with RGB data ([0..1] for floats or [0..255] for integers).\n",
      "Clipping input data to the valid range for imshow with RGB data ([0..1] for floats or [0..255] for integers).\n"
     ]
    },
    {
     "name": "stdout",
     "output_type": "stream",
     "text": [
      ">Accuracy real: 95%, fake: 100%\n"
     ]
    },
    {
     "name": "stderr",
     "output_type": "stream",
     "text": [
      "Clipping input data to the valid range for imshow with RGB data ([0..1] for floats or [0..255] for integers).\n",
      "Clipping input data to the valid range for imshow with RGB data ([0..1] for floats or [0..255] for integers).\n",
      "Clipping input data to the valid range for imshow with RGB data ([0..1] for floats or [0..255] for integers).\n",
      "Clipping input data to the valid range for imshow with RGB data ([0..1] for floats or [0..255] for integers).\n",
      "Clipping input data to the valid range for imshow with RGB data ([0..1] for floats or [0..255] for integers).\n",
      "Clipping input data to the valid range for imshow with RGB data ([0..1] for floats or [0..255] for integers).\n",
      "Clipping input data to the valid range for imshow with RGB data ([0..1] for floats or [0..255] for integers).\n",
      "Clipping input data to the valid range for imshow with RGB data ([0..1] for floats or [0..255] for integers).\n",
      "Clipping input data to the valid range for imshow with RGB data ([0..1] for floats or [0..255] for integers).\n",
      "Clipping input data to the valid range for imshow with RGB data ([0..1] for floats or [0..255] for integers).\n",
      "Clipping input data to the valid range for imshow with RGB data ([0..1] for floats or [0..255] for integers).\n",
      "Clipping input data to the valid range for imshow with RGB data ([0..1] for floats or [0..255] for integers).\n",
      "Clipping input data to the valid range for imshow with RGB data ([0..1] for floats or [0..255] for integers).\n",
      "Clipping input data to the valid range for imshow with RGB data ([0..1] for floats or [0..255] for integers).\n",
      "Clipping input data to the valid range for imshow with RGB data ([0..1] for floats or [0..255] for integers).\n",
      "Clipping input data to the valid range for imshow with RGB data ([0..1] for floats or [0..255] for integers).\n",
      "Clipping input data to the valid range for imshow with RGB data ([0..1] for floats or [0..255] for integers).\n",
      "Clipping input data to the valid range for imshow with RGB data ([0..1] for floats or [0..255] for integers).\n",
      "Clipping input data to the valid range for imshow with RGB data ([0..1] for floats or [0..255] for integers).\n",
      "Clipping input data to the valid range for imshow with RGB data ([0..1] for floats or [0..255] for integers).\n",
      "Clipping input data to the valid range for imshow with RGB data ([0..1] for floats or [0..255] for integers).\n",
      "Clipping input data to the valid range for imshow with RGB data ([0..1] for floats or [0..255] for integers).\n",
      "Clipping input data to the valid range for imshow with RGB data ([0..1] for floats or [0..255] for integers).\n",
      "Clipping input data to the valid range for imshow with RGB data ([0..1] for floats or [0..255] for integers).\n",
      "Clipping input data to the valid range for imshow with RGB data ([0..1] for floats or [0..255] for integers).\n",
      "Clipping input data to the valid range for imshow with RGB data ([0..1] for floats or [0..255] for integers).\n",
      "Clipping input data to the valid range for imshow with RGB data ([0..1] for floats or [0..255] for integers).\n",
      "Clipping input data to the valid range for imshow with RGB data ([0..1] for floats or [0..255] for integers).\n",
      "Clipping input data to the valid range for imshow with RGB data ([0..1] for floats or [0..255] for integers).\n",
      "Clipping input data to the valid range for imshow with RGB data ([0..1] for floats or [0..255] for integers).\n",
      "Clipping input data to the valid range for imshow with RGB data ([0..1] for floats or [0..255] for integers).\n",
      "Clipping input data to the valid range for imshow with RGB data ([0..1] for floats or [0..255] for integers).\n",
      "Clipping input data to the valid range for imshow with RGB data ([0..1] for floats or [0..255] for integers).\n",
      "Clipping input data to the valid range for imshow with RGB data ([0..1] for floats or [0..255] for integers).\n",
      "Clipping input data to the valid range for imshow with RGB data ([0..1] for floats or [0..255] for integers).\n",
      "Clipping input data to the valid range for imshow with RGB data ([0..1] for floats or [0..255] for integers).\n",
      "Clipping input data to the valid range for imshow with RGB data ([0..1] for floats or [0..255] for integers).\n",
      "Clipping input data to the valid range for imshow with RGB data ([0..1] for floats or [0..255] for integers).\n",
      "Clipping input data to the valid range for imshow with RGB data ([0..1] for floats or [0..255] for integers).\n",
      "Clipping input data to the valid range for imshow with RGB data ([0..1] for floats or [0..255] for integers).\n",
      "Clipping input data to the valid range for imshow with RGB data ([0..1] for floats or [0..255] for integers).\n",
      "Clipping input data to the valid range for imshow with RGB data ([0..1] for floats or [0..255] for integers).\n",
      "Clipping input data to the valid range for imshow with RGB data ([0..1] for floats or [0..255] for integers).\n",
      "Clipping input data to the valid range for imshow with RGB data ([0..1] for floats or [0..255] for integers).\n",
      "Clipping input data to the valid range for imshow with RGB data ([0..1] for floats or [0..255] for integers).\n",
      "Clipping input data to the valid range for imshow with RGB data ([0..1] for floats or [0..255] for integers).\n",
      "Clipping input data to the valid range for imshow with RGB data ([0..1] for floats or [0..255] for integers).\n",
      "Clipping input data to the valid range for imshow with RGB data ([0..1] for floats or [0..255] for integers).\n",
      "Clipping input data to the valid range for imshow with RGB data ([0..1] for floats or [0..255] for integers).\n",
      "Clipping input data to the valid range for imshow with RGB data ([0..1] for floats or [0..255] for integers).\n",
      "Clipping input data to the valid range for imshow with RGB data ([0..1] for floats or [0..255] for integers).\n",
      "Clipping input data to the valid range for imshow with RGB data ([0..1] for floats or [0..255] for integers).\n",
      "Clipping input data to the valid range for imshow with RGB data ([0..1] for floats or [0..255] for integers).\n",
      "Clipping input data to the valid range for imshow with RGB data ([0..1] for floats or [0..255] for integers).\n",
      "Clipping input data to the valid range for imshow with RGB data ([0..1] for floats or [0..255] for integers).\n",
      "Clipping input data to the valid range for imshow with RGB data ([0..1] for floats or [0..255] for integers).\n",
      "Clipping input data to the valid range for imshow with RGB data ([0..1] for floats or [0..255] for integers).\n",
      "Clipping input data to the valid range for imshow with RGB data ([0..1] for floats or [0..255] for integers).\n",
      "Clipping input data to the valid range for imshow with RGB data ([0..1] for floats or [0..255] for integers).\n",
      "Clipping input data to the valid range for imshow with RGB data ([0..1] for floats or [0..255] for integers).\n",
      "Clipping input data to the valid range for imshow with RGB data ([0..1] for floats or [0..255] for integers).\n",
      "Clipping input data to the valid range for imshow with RGB data ([0..1] for floats or [0..255] for integers).\n",
      "Clipping input data to the valid range for imshow with RGB data ([0..1] for floats or [0..255] for integers).\n",
      "Clipping input data to the valid range for imshow with RGB data ([0..1] for floats or [0..255] for integers).\n",
      "Clipping input data to the valid range for imshow with RGB data ([0..1] for floats or [0..255] for integers).\n",
      "Clipping input data to the valid range for imshow with RGB data ([0..1] for floats or [0..255] for integers).\n",
      "Clipping input data to the valid range for imshow with RGB data ([0..1] for floats or [0..255] for integers).\n",
      "Clipping input data to the valid range for imshow with RGB data ([0..1] for floats or [0..255] for integers).\n",
      "Clipping input data to the valid range for imshow with RGB data ([0..1] for floats or [0..255] for integers).\n",
      "Clipping input data to the valid range for imshow with RGB data ([0..1] for floats or [0..255] for integers).\n",
      "Clipping input data to the valid range for imshow with RGB data ([0..1] for floats or [0..255] for integers).\n",
      "Clipping input data to the valid range for imshow with RGB data ([0..1] for floats or [0..255] for integers).\n",
      "Clipping input data to the valid range for imshow with RGB data ([0..1] for floats or [0..255] for integers).\n",
      "Clipping input data to the valid range for imshow with RGB data ([0..1] for floats or [0..255] for integers).\n",
      "Clipping input data to the valid range for imshow with RGB data ([0..1] for floats or [0..255] for integers).\n",
      "Clipping input data to the valid range for imshow with RGB data ([0..1] for floats or [0..255] for integers).\n",
      "Clipping input data to the valid range for imshow with RGB data ([0..1] for floats or [0..255] for integers).\n",
      "Clipping input data to the valid range for imshow with RGB data ([0..1] for floats or [0..255] for integers).\n",
      "Clipping input data to the valid range for imshow with RGB data ([0..1] for floats or [0..255] for integers).\n",
      "Clipping input data to the valid range for imshow with RGB data ([0..1] for floats or [0..255] for integers).\n",
      "Clipping input data to the valid range for imshow with RGB data ([0..1] for floats or [0..255] for integers).\n",
      "Clipping input data to the valid range for imshow with RGB data ([0..1] for floats or [0..255] for integers).\n",
      "Clipping input data to the valid range for imshow with RGB data ([0..1] for floats or [0..255] for integers).\n",
      "Clipping input data to the valid range for imshow with RGB data ([0..1] for floats or [0..255] for integers).\n",
      "Clipping input data to the valid range for imshow with RGB data ([0..1] for floats or [0..255] for integers).\n",
      "Clipping input data to the valid range for imshow with RGB data ([0..1] for floats or [0..255] for integers).\n",
      "Clipping input data to the valid range for imshow with RGB data ([0..1] for floats or [0..255] for integers).\n",
      "Clipping input data to the valid range for imshow with RGB data ([0..1] for floats or [0..255] for integers).\n",
      "Clipping input data to the valid range for imshow with RGB data ([0..1] for floats or [0..255] for integers).\n",
      "Clipping input data to the valid range for imshow with RGB data ([0..1] for floats or [0..255] for integers).\n",
      "Clipping input data to the valid range for imshow with RGB data ([0..1] for floats or [0..255] for integers).\n"
     ]
    },
    {
     "name": "stdout",
     "output_type": "stream",
     "text": [
      "WARNING:tensorflow:Compiled the loaded model, but the compiled metrics have yet to be built. `model.compile_metrics` will be empty until you train or evaluate the model.\n",
      "WARNING:tensorflow:Compiled the loaded model, but the compiled metrics have yet to be built. `model.compile_metrics` will be empty until you train or evaluate the model.\n"
     ]
    }
   ],
   "source": [
    "# size of the latent space\n",
    "latent_dim = 100\n",
    "# train model\n",
    "train(cgenerator, cdiscriminator, cgan_model, train_ds, latent_dim, n_epochs=1)\n"
   ]
  },
  {
   "cell_type": "code",
   "execution_count": 77,
   "metadata": {},
   "outputs": [
    {
     "name": "stdout",
     "output_type": "stream",
     "text": [
      "WARNING:tensorflow:Compiled the loaded model, but the compiled metrics have yet to be built. `model.compile_metrics` will be empty until you train or evaluate the model.\n"
     ]
    }
   ],
   "source": [
    "# save model to resume training\n",
    "cgenerator.save('cgenerator_model_64.h5')\n",
    "cdiscriminator.save('cdiscriminator_model_64.h5')\n",
    "cgan_model.save('cgan_model_64.h5')"
   ]
  },
  {
   "attachments": {},
   "cell_type": "markdown",
   "metadata": {},
   "source": [
    "test"
   ]
  },
  {
   "cell_type": "code",
   "execution_count": 17,
   "metadata": {},
   "outputs": [
    {
     "name": "stdout",
     "output_type": "stream",
     "text": [
      "WARNING:tensorflow:No training configuration found in the save file, so the model was *not* compiled. Compile it manually.\n"
     ]
    }
   ],
   "source": [
    "# generator = tf.keras.models.load_model('cgenerator_model.h5')"
   ]
  },
  {
   "cell_type": "code",
   "execution_count": 57,
   "metadata": {},
   "outputs": [
    {
     "data": {
      "application/vnd.plotly.v1+json": {
       "config": {
        "plotlyServerURL": "https://plot.ly"
       },
       "data": [
        {
         "hovertemplate": "x: %{x}<br>y: %{y}<extra></extra>",
         "name": "0",
         "source": "data:image/png;base64,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",
         "type": "image",
         "xaxis": "x",
         "yaxis": "y"
        }
       ],
       "layout": {
        "annotations": [
         {
          "align": "left",
          "bgcolor": "#ff7f0e",
          "bordercolor": "#c7c7c7",
          "borderpad": 2,
          "borderwidth": 1,
          "font": {
           "color": "#ffffff",
           "family": "Courier New, monospace",
           "size": 12
          },
          "opacity": 0.8,
          "showarrow": false,
          "text": "real: 59%",
          "x": 1,
          "xref": "paper",
          "y": 1,
          "yref": "paper"
         }
        ],
        "height": 350,
        "images": [
         {
          "layer": "below",
          "sizex": 0.3,
          "sizey": 0.3,
          "source": "images/final/real/1.png",
          "x": 1,
          "xref": "paper",
          "y": 1.1,
          "yref": "paper"
         }
        ],
        "margin": {
         "l": 0,
         "t": 60
        },
        "shapes": [
         {
          "line": {
           "color": "black",
           "width": 2
          },
          "type": "rect",
          "x0": 0,
          "x1": 128,
          "xref": "x",
          "y0": 0,
          "y1": 128,
          "yref": "y"
         }
        ],
        "template": {
         "data": {
          "bar": [
           {
            "error_x": {
             "color": "#2a3f5f"
            },
            "error_y": {
             "color": "#2a3f5f"
            },
            "marker": {
             "line": {
              "color": "#E5ECF6",
              "width": 0.5
             },
             "pattern": {
              "fillmode": "overlay",
              "size": 10,
              "solidity": 0.2
             }
            },
            "type": "bar"
           }
          ],
          "barpolar": [
           {
            "marker": {
             "line": {
              "color": "#E5ECF6",
              "width": 0.5
             },
             "pattern": {
              "fillmode": "overlay",
              "size": 10,
              "solidity": 0.2
             }
            },
            "type": "barpolar"
           }
          ],
          "carpet": [
           {
            "aaxis": {
             "endlinecolor": "#2a3f5f",
             "gridcolor": "white",
             "linecolor": "white",
             "minorgridcolor": "white",
             "startlinecolor": "#2a3f5f"
            },
            "baxis": {
             "endlinecolor": "#2a3f5f",
             "gridcolor": "white",
             "linecolor": "white",
             "minorgridcolor": "white",
             "startlinecolor": "#2a3f5f"
            },
            "type": "carpet"
           }
          ],
          "choropleth": [
           {
            "colorbar": {
             "outlinewidth": 0,
             "ticks": ""
            },
            "type": "choropleth"
           }
          ],
          "contour": [
           {
            "colorbar": {
             "outlinewidth": 0,
             "ticks": ""
            },
            "colorscale": [
             [
              0,
              "#0d0887"
             ],
             [
              0.1111111111111111,
              "#46039f"
             ],
             [
              0.2222222222222222,
              "#7201a8"
             ],
             [
              0.3333333333333333,
              "#9c179e"
             ],
             [
              0.4444444444444444,
              "#bd3786"
             ],
             [
              0.5555555555555556,
              "#d8576b"
             ],
             [
              0.6666666666666666,
              "#ed7953"
             ],
             [
              0.7777777777777778,
              "#fb9f3a"
             ],
             [
              0.8888888888888888,
              "#fdca26"
             ],
             [
              1,
              "#f0f921"
             ]
            ],
            "type": "contour"
           }
          ],
          "contourcarpet": [
           {
            "colorbar": {
             "outlinewidth": 0,
             "ticks": ""
            },
            "type": "contourcarpet"
           }
          ],
          "heatmap": [
           {
            "colorbar": {
             "outlinewidth": 0,
             "ticks": ""
            },
            "colorscale": [
             [
              0,
              "#0d0887"
             ],
             [
              0.1111111111111111,
              "#46039f"
             ],
             [
              0.2222222222222222,
              "#7201a8"
             ],
             [
              0.3333333333333333,
              "#9c179e"
             ],
             [
              0.4444444444444444,
              "#bd3786"
             ],
             [
              0.5555555555555556,
              "#d8576b"
             ],
             [
              0.6666666666666666,
              "#ed7953"
             ],
             [
              0.7777777777777778,
              "#fb9f3a"
             ],
             [
              0.8888888888888888,
              "#fdca26"
             ],
             [
              1,
              "#f0f921"
             ]
            ],
            "type": "heatmap"
           }
          ],
          "heatmapgl": [
           {
            "colorbar": {
             "outlinewidth": 0,
             "ticks": ""
            },
            "colorscale": [
             [
              0,
              "#0d0887"
             ],
             [
              0.1111111111111111,
              "#46039f"
             ],
             [
              0.2222222222222222,
              "#7201a8"
             ],
             [
              0.3333333333333333,
              "#9c179e"
             ],
             [
              0.4444444444444444,
              "#bd3786"
             ],
             [
              0.5555555555555556,
              "#d8576b"
             ],
             [
              0.6666666666666666,
              "#ed7953"
             ],
             [
              0.7777777777777778,
              "#fb9f3a"
             ],
             [
              0.8888888888888888,
              "#fdca26"
             ],
             [
              1,
              "#f0f921"
             ]
            ],
            "type": "heatmapgl"
           }
          ],
          "histogram": [
           {
            "marker": {
             "pattern": {
              "fillmode": "overlay",
              "size": 10,
              "solidity": 0.2
             }
            },
            "type": "histogram"
           }
          ],
          "histogram2d": [
           {
            "colorbar": {
             "outlinewidth": 0,
             "ticks": ""
            },
            "colorscale": [
             [
              0,
              "#0d0887"
             ],
             [
              0.1111111111111111,
              "#46039f"
             ],
             [
              0.2222222222222222,
              "#7201a8"
             ],
             [
              0.3333333333333333,
              "#9c179e"
             ],
             [
              0.4444444444444444,
              "#bd3786"
             ],
             [
              0.5555555555555556,
              "#d8576b"
             ],
             [
              0.6666666666666666,
              "#ed7953"
             ],
             [
              0.7777777777777778,
              "#fb9f3a"
             ],
             [
              0.8888888888888888,
              "#fdca26"
             ],
             [
              1,
              "#f0f921"
             ]
            ],
            "type": "histogram2d"
           }
          ],
          "histogram2dcontour": [
           {
            "colorbar": {
             "outlinewidth": 0,
             "ticks": ""
            },
            "colorscale": [
             [
              0,
              "#0d0887"
             ],
             [
              0.1111111111111111,
              "#46039f"
             ],
             [
              0.2222222222222222,
              "#7201a8"
             ],
             [
              0.3333333333333333,
              "#9c179e"
             ],
             [
              0.4444444444444444,
              "#bd3786"
             ],
             [
              0.5555555555555556,
              "#d8576b"
             ],
             [
              0.6666666666666666,
              "#ed7953"
             ],
             [
              0.7777777777777778,
              "#fb9f3a"
             ],
             [
              0.8888888888888888,
              "#fdca26"
             ],
             [
              1,
              "#f0f921"
             ]
            ],
            "type": "histogram2dcontour"
           }
          ],
          "mesh3d": [
           {
            "colorbar": {
             "outlinewidth": 0,
             "ticks": ""
            },
            "type": "mesh3d"
           }
          ],
          "parcoords": [
           {
            "line": {
             "colorbar": {
              "outlinewidth": 0,
              "ticks": ""
             }
            },
            "type": "parcoords"
           }
          ],
          "pie": [
           {
            "automargin": true,
            "type": "pie"
           }
          ],
          "scatter": [
           {
            "fillpattern": {
             "fillmode": "overlay",
             "size": 10,
             "solidity": 0.2
            },
            "type": "scatter"
           }
          ],
          "scatter3d": [
           {
            "line": {
             "colorbar": {
              "outlinewidth": 0,
              "ticks": ""
             }
            },
            "marker": {
             "colorbar": {
              "outlinewidth": 0,
              "ticks": ""
             }
            },
            "type": "scatter3d"
           }
          ],
          "scattercarpet": [
           {
            "marker": {
             "colorbar": {
              "outlinewidth": 0,
              "ticks": ""
             }
            },
            "type": "scattercarpet"
           }
          ],
          "scattergeo": [
           {
            "marker": {
             "colorbar": {
              "outlinewidth": 0,
              "ticks": ""
             }
            },
            "type": "scattergeo"
           }
          ],
          "scattergl": [
           {
            "marker": {
             "colorbar": {
              "outlinewidth": 0,
              "ticks": ""
             }
            },
            "type": "scattergl"
           }
          ],
          "scattermapbox": [
           {
            "marker": {
             "colorbar": {
              "outlinewidth": 0,
              "ticks": ""
             }
            },
            "type": "scattermapbox"
           }
          ],
          "scatterpolar": [
           {
            "marker": {
             "colorbar": {
              "outlinewidth": 0,
              "ticks": ""
             }
            },
            "type": "scatterpolar"
           }
          ],
          "scatterpolargl": [
           {
            "marker": {
             "colorbar": {
              "outlinewidth": 0,
              "ticks": ""
             }
            },
            "type": "scatterpolargl"
           }
          ],
          "scatterternary": [
           {
            "marker": {
             "colorbar": {
              "outlinewidth": 0,
              "ticks": ""
             }
            },
            "type": "scatterternary"
           }
          ],
          "surface": [
           {
            "colorbar": {
             "outlinewidth": 0,
             "ticks": ""
            },
            "colorscale": [
             [
              0,
              "#0d0887"
             ],
             [
              0.1111111111111111,
              "#46039f"
             ],
             [
              0.2222222222222222,
              "#7201a8"
             ],
             [
              0.3333333333333333,
              "#9c179e"
             ],
             [
              0.4444444444444444,
              "#bd3786"
             ],
             [
              0.5555555555555556,
              "#d8576b"
             ],
             [
              0.6666666666666666,
              "#ed7953"
             ],
             [
              0.7777777777777778,
              "#fb9f3a"
             ],
             [
              0.8888888888888888,
              "#fdca26"
             ],
             [
              1,
              "#f0f921"
             ]
            ],
            "type": "surface"
           }
          ],
          "table": [
           {
            "cells": {
             "fill": {
              "color": "#EBF0F8"
             },
             "line": {
              "color": "white"
             }
            },
            "header": {
             "fill": {
              "color": "#C8D4E3"
             },
             "line": {
              "color": "white"
             }
            },
            "type": "table"
           }
          ]
         },
         "layout": {
          "annotationdefaults": {
           "arrowcolor": "#2a3f5f",
           "arrowhead": 0,
           "arrowwidth": 1
          },
          "autotypenumbers": "strict",
          "coloraxis": {
           "colorbar": {
            "outlinewidth": 0,
            "ticks": ""
           }
          },
          "colorscale": {
           "diverging": [
            [
             0,
             "#8e0152"
            ],
            [
             0.1,
             "#c51b7d"
            ],
            [
             0.2,
             "#de77ae"
            ],
            [
             0.3,
             "#f1b6da"
            ],
            [
             0.4,
             "#fde0ef"
            ],
            [
             0.5,
             "#f7f7f7"
            ],
            [
             0.6,
             "#e6f5d0"
            ],
            [
             0.7,
             "#b8e186"
            ],
            [
             0.8,
             "#7fbc41"
            ],
            [
             0.9,
             "#4d9221"
            ],
            [
             1,
             "#276419"
            ]
           ],
           "sequential": [
            [
             0,
             "#0d0887"
            ],
            [
             0.1111111111111111,
             "#46039f"
            ],
            [
             0.2222222222222222,
             "#7201a8"
            ],
            [
             0.3333333333333333,
             "#9c179e"
            ],
            [
             0.4444444444444444,
             "#bd3786"
            ],
            [
             0.5555555555555556,
             "#d8576b"
            ],
            [
             0.6666666666666666,
             "#ed7953"
            ],
            [
             0.7777777777777778,
             "#fb9f3a"
            ],
            [
             0.8888888888888888,
             "#fdca26"
            ],
            [
             1,
             "#f0f921"
            ]
           ],
           "sequentialminus": [
            [
             0,
             "#0d0887"
            ],
            [
             0.1111111111111111,
             "#46039f"
            ],
            [
             0.2222222222222222,
             "#7201a8"
            ],
            [
             0.3333333333333333,
             "#9c179e"
            ],
            [
             0.4444444444444444,
             "#bd3786"
            ],
            [
             0.5555555555555556,
             "#d8576b"
            ],
            [
             0.6666666666666666,
             "#ed7953"
            ],
            [
             0.7777777777777778,
             "#fb9f3a"
            ],
            [
             0.8888888888888888,
             "#fdca26"
            ],
            [
             1,
             "#f0f921"
            ]
           ]
          },
          "colorway": [
           "#636efa",
           "#EF553B",
           "#00cc96",
           "#ab63fa",
           "#FFA15A",
           "#19d3f3",
           "#FF6692",
           "#B6E880",
           "#FF97FF",
           "#FECB52"
          ],
          "font": {
           "color": "#2a3f5f"
          },
          "geo": {
           "bgcolor": "white",
           "lakecolor": "white",
           "landcolor": "#E5ECF6",
           "showlakes": true,
           "showland": true,
           "subunitcolor": "white"
          },
          "hoverlabel": {
           "align": "left"
          },
          "hovermode": "closest",
          "mapbox": {
           "style": "light"
          },
          "paper_bgcolor": "white",
          "plot_bgcolor": "#E5ECF6",
          "polar": {
           "angularaxis": {
            "gridcolor": "white",
            "linecolor": "white",
            "ticks": ""
           },
           "bgcolor": "#E5ECF6",
           "radialaxis": {
            "gridcolor": "white",
            "linecolor": "white",
            "ticks": ""
           }
          },
          "scene": {
           "xaxis": {
            "backgroundcolor": "#E5ECF6",
            "gridcolor": "white",
            "gridwidth": 2,
            "linecolor": "white",
            "showbackground": true,
            "ticks": "",
            "zerolinecolor": "white"
           },
           "yaxis": {
            "backgroundcolor": "#E5ECF6",
            "gridcolor": "white",
            "gridwidth": 2,
            "linecolor": "white",
            "showbackground": true,
            "ticks": "",
            "zerolinecolor": "white"
           },
           "zaxis": {
            "backgroundcolor": "#E5ECF6",
            "gridcolor": "white",
            "gridwidth": 2,
            "linecolor": "white",
            "showbackground": true,
            "ticks": "",
            "zerolinecolor": "white"
           }
          },
          "shapedefaults": {
           "line": {
            "color": "#2a3f5f"
           }
          },
          "ternary": {
           "aaxis": {
            "gridcolor": "white",
            "linecolor": "white",
            "ticks": ""
           },
           "baxis": {
            "gridcolor": "white",
            "linecolor": "white",
            "ticks": ""
           },
           "bgcolor": "#E5ECF6",
           "caxis": {
            "gridcolor": "white",
            "linecolor": "white",
            "ticks": ""
           }
          },
          "title": {
           "x": 0.05
          },
          "xaxis": {
           "automargin": true,
           "gridcolor": "white",
           "linecolor": "white",
           "ticks": "",
           "title": {
            "standoff": 15
           },
           "zerolinecolor": "white",
           "zerolinewidth": 2
          },
          "yaxis": {
           "automargin": true,
           "gridcolor": "white",
           "linecolor": "white",
           "ticks": "",
           "title": {
            "standoff": 15
           },
           "zerolinecolor": "white",
           "zerolinewidth": 2
          }
         }
        },
        "title": {
         "text": "Label: image générée"
        },
        "width": 500,
        "xaxis": {
         "anchor": "y",
         "domain": [
          0,
          1
         ],
         "showgrid": false,
         "showticklabels": false,
         "visible": false,
         "zeroline": false
        },
        "yaxis": {
         "anchor": "x",
         "domain": [
          0,
          1
         ],
         "showgrid": false,
         "showticklabels": false,
         "visible": false,
         "zeroline": false
        }
       }
      }
     },
     "metadata": {},
     "output_type": "display_data"
    }
   ],
   "source": [
    "# while True:\n",
    "#     X = cgenerator.predict(generate_latent_points(100, 1), verbose=0)\n",
    "#     fake_or_true = cdiscriminator.predict(X, verbose=0)[0][0]\n",
    "#     if fake_or_true > 0.5:\n",
    "#         break\n",
    "# plot_image(X[0], \"image générée\", {\"real\": fake_or_true})"
   ]
  },
  {
   "cell_type": "code",
   "execution_count": 53,
   "metadata": {},
   "outputs": [
    {
     "data": {
      "application/vnd.plotly.v1+json": {
       "config": {
        "plotlyServerURL": "https://plot.ly"
       },
       "data": [
        {
         "hovertemplate": "x: %{x}<br>y: %{y}<extra></extra>",
         "name": "0",
         "source": "data:image/png;base64,iVBORw0KGgoAAAANSUhEUgAAAEAAAABACAIAAAAlC+aJAAAAY0lEQVR4Xu3RAQkAMAzAsM2/6F9GGSQKCt03by7b4/2zDsQcqDlQc6DmQM2BmgM1B2oO1ByoOVBzoOZAzYGaAzUHag7UHKg5UHOg5kDNgZoDNQdqDtQcqDlQc6DmQM2BmgO1Dx83X+Eoyt+9AAAAAElFTkSuQmCC",
         "type": "image",
         "xaxis": "x",
         "yaxis": "y"
        }
       ],
       "layout": {
        "annotations": [
         {
          "align": "left",
          "bgcolor": "#ff7f0e",
          "bordercolor": "#c7c7c7",
          "borderpad": 2,
          "borderwidth": 1,
          "font": {
           "color": "#ffffff",
           "family": "Courier New, monospace",
           "size": 12
          },
          "opacity": 0.8,
          "showarrow": false,
          "text": "real: 0%",
          "x": 1,
          "xref": "paper",
          "y": 1,
          "yref": "paper"
         }
        ],
        "height": 350,
        "images": [
         {
          "layer": "below",
          "sizex": 0.3,
          "sizey": 0.3,
          "source": "images/final/real/1.png",
          "x": 1,
          "xref": "paper",
          "y": 1.1,
          "yref": "paper"
         }
        ],
        "margin": {
         "l": 0,
         "t": 60
        },
        "shapes": [
         {
          "line": {
           "color": "black",
           "width": 2
          },
          "type": "rect",
          "x0": 0,
          "x1": 64,
          "xref": "x",
          "y0": 0,
          "y1": 64,
          "yref": "y"
         }
        ],
        "template": {
         "data": {
          "bar": [
           {
            "error_x": {
             "color": "#2a3f5f"
            },
            "error_y": {
             "color": "#2a3f5f"
            },
            "marker": {
             "line": {
              "color": "#E5ECF6",
              "width": 0.5
             },
             "pattern": {
              "fillmode": "overlay",
              "size": 10,
              "solidity": 0.2
             }
            },
            "type": "bar"
           }
          ],
          "barpolar": [
           {
            "marker": {
             "line": {
              "color": "#E5ECF6",
              "width": 0.5
             },
             "pattern": {
              "fillmode": "overlay",
              "size": 10,
              "solidity": 0.2
             }
            },
            "type": "barpolar"
           }
          ],
          "carpet": [
           {
            "aaxis": {
             "endlinecolor": "#2a3f5f",
             "gridcolor": "white",
             "linecolor": "white",
             "minorgridcolor": "white",
             "startlinecolor": "#2a3f5f"
            },
            "baxis": {
             "endlinecolor": "#2a3f5f",
             "gridcolor": "white",
             "linecolor": "white",
             "minorgridcolor": "white",
             "startlinecolor": "#2a3f5f"
            },
            "type": "carpet"
           }
          ],
          "choropleth": [
           {
            "colorbar": {
             "outlinewidth": 0,
             "ticks": ""
            },
            "type": "choropleth"
           }
          ],
          "contour": [
           {
            "colorbar": {
             "outlinewidth": 0,
             "ticks": ""
            },
            "colorscale": [
             [
              0,
              "#0d0887"
             ],
             [
              0.1111111111111111,
              "#46039f"
             ],
             [
              0.2222222222222222,
              "#7201a8"
             ],
             [
              0.3333333333333333,
              "#9c179e"
             ],
             [
              0.4444444444444444,
              "#bd3786"
             ],
             [
              0.5555555555555556,
              "#d8576b"
             ],
             [
              0.6666666666666666,
              "#ed7953"
             ],
             [
              0.7777777777777778,
              "#fb9f3a"
             ],
             [
              0.8888888888888888,
              "#fdca26"
             ],
             [
              1,
              "#f0f921"
             ]
            ],
            "type": "contour"
           }
          ],
          "contourcarpet": [
           {
            "colorbar": {
             "outlinewidth": 0,
             "ticks": ""
            },
            "type": "contourcarpet"
           }
          ],
          "heatmap": [
           {
            "colorbar": {
             "outlinewidth": 0,
             "ticks": ""
            },
            "colorscale": [
             [
              0,
              "#0d0887"
             ],
             [
              0.1111111111111111,
              "#46039f"
             ],
             [
              0.2222222222222222,
              "#7201a8"
             ],
             [
              0.3333333333333333,
              "#9c179e"
             ],
             [
              0.4444444444444444,
              "#bd3786"
             ],
             [
              0.5555555555555556,
              "#d8576b"
             ],
             [
              0.6666666666666666,
              "#ed7953"
             ],
             [
              0.7777777777777778,
              "#fb9f3a"
             ],
             [
              0.8888888888888888,
              "#fdca26"
             ],
             [
              1,
              "#f0f921"
             ]
            ],
            "type": "heatmap"
           }
          ],
          "heatmapgl": [
           {
            "colorbar": {
             "outlinewidth": 0,
             "ticks": ""
            },
            "colorscale": [
             [
              0,
              "#0d0887"
             ],
             [
              0.1111111111111111,
              "#46039f"
             ],
             [
              0.2222222222222222,
              "#7201a8"
             ],
             [
              0.3333333333333333,
              "#9c179e"
             ],
             [
              0.4444444444444444,
              "#bd3786"
             ],
             [
              0.5555555555555556,
              "#d8576b"
             ],
             [
              0.6666666666666666,
              "#ed7953"
             ],
             [
              0.7777777777777778,
              "#fb9f3a"
             ],
             [
              0.8888888888888888,
              "#fdca26"
             ],
             [
              1,
              "#f0f921"
             ]
            ],
            "type": "heatmapgl"
           }
          ],
          "histogram": [
           {
            "marker": {
             "pattern": {
              "fillmode": "overlay",
              "size": 10,
              "solidity": 0.2
             }
            },
            "type": "histogram"
           }
          ],
          "histogram2d": [
           {
            "colorbar": {
             "outlinewidth": 0,
             "ticks": ""
            },
            "colorscale": [
             [
              0,
              "#0d0887"
             ],
             [
              0.1111111111111111,
              "#46039f"
             ],
             [
              0.2222222222222222,
              "#7201a8"
             ],
             [
              0.3333333333333333,
              "#9c179e"
             ],
             [
              0.4444444444444444,
              "#bd3786"
             ],
             [
              0.5555555555555556,
              "#d8576b"
             ],
             [
              0.6666666666666666,
              "#ed7953"
             ],
             [
              0.7777777777777778,
              "#fb9f3a"
             ],
             [
              0.8888888888888888,
              "#fdca26"
             ],
             [
              1,
              "#f0f921"
             ]
            ],
            "type": "histogram2d"
           }
          ],
          "histogram2dcontour": [
           {
            "colorbar": {
             "outlinewidth": 0,
             "ticks": ""
            },
            "colorscale": [
             [
              0,
              "#0d0887"
             ],
             [
              0.1111111111111111,
              "#46039f"
             ],
             [
              0.2222222222222222,
              "#7201a8"
             ],
             [
              0.3333333333333333,
              "#9c179e"
             ],
             [
              0.4444444444444444,
              "#bd3786"
             ],
             [
              0.5555555555555556,
              "#d8576b"
             ],
             [
              0.6666666666666666,
              "#ed7953"
             ],
             [
              0.7777777777777778,
              "#fb9f3a"
             ],
             [
              0.8888888888888888,
              "#fdca26"
             ],
             [
              1,
              "#f0f921"
             ]
            ],
            "type": "histogram2dcontour"
           }
          ],
          "mesh3d": [
           {
            "colorbar": {
             "outlinewidth": 0,
             "ticks": ""
            },
            "type": "mesh3d"
           }
          ],
          "parcoords": [
           {
            "line": {
             "colorbar": {
              "outlinewidth": 0,
              "ticks": ""
             }
            },
            "type": "parcoords"
           }
          ],
          "pie": [
           {
            "automargin": true,
            "type": "pie"
           }
          ],
          "scatter": [
           {
            "fillpattern": {
             "fillmode": "overlay",
             "size": 10,
             "solidity": 0.2
            },
            "type": "scatter"
           }
          ],
          "scatter3d": [
           {
            "line": {
             "colorbar": {
              "outlinewidth": 0,
              "ticks": ""
             }
            },
            "marker": {
             "colorbar": {
              "outlinewidth": 0,
              "ticks": ""
             }
            },
            "type": "scatter3d"
           }
          ],
          "scattercarpet": [
           {
            "marker": {
             "colorbar": {
              "outlinewidth": 0,
              "ticks": ""
             }
            },
            "type": "scattercarpet"
           }
          ],
          "scattergeo": [
           {
            "marker": {
             "colorbar": {
              "outlinewidth": 0,
              "ticks": ""
             }
            },
            "type": "scattergeo"
           }
          ],
          "scattergl": [
           {
            "marker": {
             "colorbar": {
              "outlinewidth": 0,
              "ticks": ""
             }
            },
            "type": "scattergl"
           }
          ],
          "scattermapbox": [
           {
            "marker": {
             "colorbar": {
              "outlinewidth": 0,
              "ticks": ""
             }
            },
            "type": "scattermapbox"
           }
          ],
          "scatterpolar": [
           {
            "marker": {
             "colorbar": {
              "outlinewidth": 0,
              "ticks": ""
             }
            },
            "type": "scatterpolar"
           }
          ],
          "scatterpolargl": [
           {
            "marker": {
             "colorbar": {
              "outlinewidth": 0,
              "ticks": ""
             }
            },
            "type": "scatterpolargl"
           }
          ],
          "scatterternary": [
           {
            "marker": {
             "colorbar": {
              "outlinewidth": 0,
              "ticks": ""
             }
            },
            "type": "scatterternary"
           }
          ],
          "surface": [
           {
            "colorbar": {
             "outlinewidth": 0,
             "ticks": ""
            },
            "colorscale": [
             [
              0,
              "#0d0887"
             ],
             [
              0.1111111111111111,
              "#46039f"
             ],
             [
              0.2222222222222222,
              "#7201a8"
             ],
             [
              0.3333333333333333,
              "#9c179e"
             ],
             [
              0.4444444444444444,
              "#bd3786"
             ],
             [
              0.5555555555555556,
              "#d8576b"
             ],
             [
              0.6666666666666666,
              "#ed7953"
             ],
             [
              0.7777777777777778,
              "#fb9f3a"
             ],
             [
              0.8888888888888888,
              "#fdca26"
             ],
             [
              1,
              "#f0f921"
             ]
            ],
            "type": "surface"
           }
          ],
          "table": [
           {
            "cells": {
             "fill": {
              "color": "#EBF0F8"
             },
             "line": {
              "color": "white"
             }
            },
            "header": {
             "fill": {
              "color": "#C8D4E3"
             },
             "line": {
              "color": "white"
             }
            },
            "type": "table"
           }
          ]
         },
         "layout": {
          "annotationdefaults": {
           "arrowcolor": "#2a3f5f",
           "arrowhead": 0,
           "arrowwidth": 1
          },
          "autotypenumbers": "strict",
          "coloraxis": {
           "colorbar": {
            "outlinewidth": 0,
            "ticks": ""
           }
          },
          "colorscale": {
           "diverging": [
            [
             0,
             "#8e0152"
            ],
            [
             0.1,
             "#c51b7d"
            ],
            [
             0.2,
             "#de77ae"
            ],
            [
             0.3,
             "#f1b6da"
            ],
            [
             0.4,
             "#fde0ef"
            ],
            [
             0.5,
             "#f7f7f7"
            ],
            [
             0.6,
             "#e6f5d0"
            ],
            [
             0.7,
             "#b8e186"
            ],
            [
             0.8,
             "#7fbc41"
            ],
            [
             0.9,
             "#4d9221"
            ],
            [
             1,
             "#276419"
            ]
           ],
           "sequential": [
            [
             0,
             "#0d0887"
            ],
            [
             0.1111111111111111,
             "#46039f"
            ],
            [
             0.2222222222222222,
             "#7201a8"
            ],
            [
             0.3333333333333333,
             "#9c179e"
            ],
            [
             0.4444444444444444,
             "#bd3786"
            ],
            [
             0.5555555555555556,
             "#d8576b"
            ],
            [
             0.6666666666666666,
             "#ed7953"
            ],
            [
             0.7777777777777778,
             "#fb9f3a"
            ],
            [
             0.8888888888888888,
             "#fdca26"
            ],
            [
             1,
             "#f0f921"
            ]
           ],
           "sequentialminus": [
            [
             0,
             "#0d0887"
            ],
            [
             0.1111111111111111,
             "#46039f"
            ],
            [
             0.2222222222222222,
             "#7201a8"
            ],
            [
             0.3333333333333333,
             "#9c179e"
            ],
            [
             0.4444444444444444,
             "#bd3786"
            ],
            [
             0.5555555555555556,
             "#d8576b"
            ],
            [
             0.6666666666666666,
             "#ed7953"
            ],
            [
             0.7777777777777778,
             "#fb9f3a"
            ],
            [
             0.8888888888888888,
             "#fdca26"
            ],
            [
             1,
             "#f0f921"
            ]
           ]
          },
          "colorway": [
           "#636efa",
           "#EF553B",
           "#00cc96",
           "#ab63fa",
           "#FFA15A",
           "#19d3f3",
           "#FF6692",
           "#B6E880",
           "#FF97FF",
           "#FECB52"
          ],
          "font": {
           "color": "#2a3f5f"
          },
          "geo": {
           "bgcolor": "white",
           "lakecolor": "white",
           "landcolor": "#E5ECF6",
           "showlakes": true,
           "showland": true,
           "subunitcolor": "white"
          },
          "hoverlabel": {
           "align": "left"
          },
          "hovermode": "closest",
          "mapbox": {
           "style": "light"
          },
          "paper_bgcolor": "white",
          "plot_bgcolor": "#E5ECF6",
          "polar": {
           "angularaxis": {
            "gridcolor": "white",
            "linecolor": "white",
            "ticks": ""
           },
           "bgcolor": "#E5ECF6",
           "radialaxis": {
            "gridcolor": "white",
            "linecolor": "white",
            "ticks": ""
           }
          },
          "scene": {
           "xaxis": {
            "backgroundcolor": "#E5ECF6",
            "gridcolor": "white",
            "gridwidth": 2,
            "linecolor": "white",
            "showbackground": true,
            "ticks": "",
            "zerolinecolor": "white"
           },
           "yaxis": {
            "backgroundcolor": "#E5ECF6",
            "gridcolor": "white",
            "gridwidth": 2,
            "linecolor": "white",
            "showbackground": true,
            "ticks": "",
            "zerolinecolor": "white"
           },
           "zaxis": {
            "backgroundcolor": "#E5ECF6",
            "gridcolor": "white",
            "gridwidth": 2,
            "linecolor": "white",
            "showbackground": true,
            "ticks": "",
            "zerolinecolor": "white"
           }
          },
          "shapedefaults": {
           "line": {
            "color": "#2a3f5f"
           }
          },
          "ternary": {
           "aaxis": {
            "gridcolor": "white",
            "linecolor": "white",
            "ticks": ""
           },
           "baxis": {
            "gridcolor": "white",
            "linecolor": "white",
            "ticks": ""
           },
           "bgcolor": "#E5ECF6",
           "caxis": {
            "gridcolor": "white",
            "linecolor": "white",
            "ticks": ""
           }
          },
          "title": {
           "x": 0.05
          },
          "xaxis": {
           "automargin": true,
           "gridcolor": "white",
           "linecolor": "white",
           "ticks": "",
           "title": {
            "standoff": 15
           },
           "zerolinecolor": "white",
           "zerolinewidth": 2
          },
          "yaxis": {
           "automargin": true,
           "gridcolor": "white",
           "linecolor": "white",
           "ticks": "",
           "title": {
            "standoff": 15
           },
           "zerolinecolor": "white",
           "zerolinewidth": 2
          }
         }
        },
        "title": {
         "text": "Label: image générée"
        },
        "width": 500,
        "xaxis": {
         "anchor": "y",
         "domain": [
          0,
          1
         ],
         "showgrid": false,
         "showticklabels": false,
         "visible": false,
         "zeroline": false
        },
        "yaxis": {
         "anchor": "x",
         "domain": [
          0,
          1
         ],
         "showgrid": false,
         "showticklabels": false,
         "visible": false,
         "zeroline": false
        }
       }
      }
     },
     "metadata": {},
     "output_type": "display_data"
    }
   ],
   "source": [
    "X = cgenerator.predict([generate_latent_points(100, 1), type_to_vector('Grass')], verbose=0)\n",
    "plot_image(X[0], \"image générée\", {\"real\": cdiscriminator.predict([X, type_to_vector('Grass')], verbose=0)[0][0]}, 64)"
   ]
  },
  {
   "cell_type": "code",
   "execution_count": 75,
   "metadata": {},
   "outputs": [],
   "source": [
    "# test image with random noise between -1 and 1\n",
    "test_image_noise = tf.random.uniform(shape=(1, 64, 64, 3), minval=-1, maxval=1)\n",
    "# print(test_image_noise[0][100][50])"
   ]
  },
  {
   "cell_type": "code",
   "execution_count": 76,
   "metadata": {},
   "outputs": [
    {
     "data": {
      "application/vnd.plotly.v1+json": {
       "config": {
        "plotlyServerURL": "https://plot.ly"
       },
       "data": [
        {
         "hovertemplate": "x: %{x}<br>y: %{y}<extra></extra>",
         "name": "0",
         "source": "data:image/png;base64,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",
         "type": "image",
         "xaxis": "x",
         "yaxis": "y"
        }
       ],
       "layout": {
        "annotations": [
         {
          "align": "left",
          "bgcolor": "#ff7f0e",
          "bordercolor": "#c7c7c7",
          "borderpad": 2,
          "borderwidth": 1,
          "font": {
           "color": "#ffffff",
           "family": "Courier New, monospace",
           "size": 12
          },
          "opacity": 0.8,
          "showarrow": false,
          "text": "real: 100%",
          "x": 1,
          "xref": "paper",
          "y": 1,
          "yref": "paper"
         }
        ],
        "height": 350,
        "images": [
         {
          "layer": "below",
          "sizex": 0.3,
          "sizey": 0.3,
          "source": "images/final/real/1.png",
          "x": 1,
          "xref": "paper",
          "y": 1.1,
          "yref": "paper"
         }
        ],
        "margin": {
         "l": 0,
         "t": 60
        },
        "shapes": [
         {
          "line": {
           "color": "black",
           "width": 2
          },
          "type": "rect",
          "x0": 0,
          "x1": 128,
          "xref": "x",
          "y0": 0,
          "y1": 128,
          "yref": "y"
         }
        ],
        "template": {
         "data": {
          "bar": [
           {
            "error_x": {
             "color": "#2a3f5f"
            },
            "error_y": {
             "color": "#2a3f5f"
            },
            "marker": {
             "line": {
              "color": "#E5ECF6",
              "width": 0.5
             },
             "pattern": {
              "fillmode": "overlay",
              "size": 10,
              "solidity": 0.2
             }
            },
            "type": "bar"
           }
          ],
          "barpolar": [
           {
            "marker": {
             "line": {
              "color": "#E5ECF6",
              "width": 0.5
             },
             "pattern": {
              "fillmode": "overlay",
              "size": 10,
              "solidity": 0.2
             }
            },
            "type": "barpolar"
           }
          ],
          "carpet": [
           {
            "aaxis": {
             "endlinecolor": "#2a3f5f",
             "gridcolor": "white",
             "linecolor": "white",
             "minorgridcolor": "white",
             "startlinecolor": "#2a3f5f"
            },
            "baxis": {
             "endlinecolor": "#2a3f5f",
             "gridcolor": "white",
             "linecolor": "white",
             "minorgridcolor": "white",
             "startlinecolor": "#2a3f5f"
            },
            "type": "carpet"
           }
          ],
          "choropleth": [
           {
            "colorbar": {
             "outlinewidth": 0,
             "ticks": ""
            },
            "type": "choropleth"
           }
          ],
          "contour": [
           {
            "colorbar": {
             "outlinewidth": 0,
             "ticks": ""
            },
            "colorscale": [
             [
              0,
              "#0d0887"
             ],
             [
              0.1111111111111111,
              "#46039f"
             ],
             [
              0.2222222222222222,
              "#7201a8"
             ],
             [
              0.3333333333333333,
              "#9c179e"
             ],
             [
              0.4444444444444444,
              "#bd3786"
             ],
             [
              0.5555555555555556,
              "#d8576b"
             ],
             [
              0.6666666666666666,
              "#ed7953"
             ],
             [
              0.7777777777777778,
              "#fb9f3a"
             ],
             [
              0.8888888888888888,
              "#fdca26"
             ],
             [
              1,
              "#f0f921"
             ]
            ],
            "type": "contour"
           }
          ],
          "contourcarpet": [
           {
            "colorbar": {
             "outlinewidth": 0,
             "ticks": ""
            },
            "type": "contourcarpet"
           }
          ],
          "heatmap": [
           {
            "colorbar": {
             "outlinewidth": 0,
             "ticks": ""
            },
            "colorscale": [
             [
              0,
              "#0d0887"
             ],
             [
              0.1111111111111111,
              "#46039f"
             ],
             [
              0.2222222222222222,
              "#7201a8"
             ],
             [
              0.3333333333333333,
              "#9c179e"
             ],
             [
              0.4444444444444444,
              "#bd3786"
             ],
             [
              0.5555555555555556,
              "#d8576b"
             ],
             [
              0.6666666666666666,
              "#ed7953"
             ],
             [
              0.7777777777777778,
              "#fb9f3a"
             ],
             [
              0.8888888888888888,
              "#fdca26"
             ],
             [
              1,
              "#f0f921"
             ]
            ],
            "type": "heatmap"
           }
          ],
          "heatmapgl": [
           {
            "colorbar": {
             "outlinewidth": 0,
             "ticks": ""
            },
            "colorscale": [
             [
              0,
              "#0d0887"
             ],
             [
              0.1111111111111111,
              "#46039f"
             ],
             [
              0.2222222222222222,
              "#7201a8"
             ],
             [
              0.3333333333333333,
              "#9c179e"
             ],
             [
              0.4444444444444444,
              "#bd3786"
             ],
             [
              0.5555555555555556,
              "#d8576b"
             ],
             [
              0.6666666666666666,
              "#ed7953"
             ],
             [
              0.7777777777777778,
              "#fb9f3a"
             ],
             [
              0.8888888888888888,
              "#fdca26"
             ],
             [
              1,
              "#f0f921"
             ]
            ],
            "type": "heatmapgl"
           }
          ],
          "histogram": [
           {
            "marker": {
             "pattern": {
              "fillmode": "overlay",
              "size": 10,
              "solidity": 0.2
             }
            },
            "type": "histogram"
           }
          ],
          "histogram2d": [
           {
            "colorbar": {
             "outlinewidth": 0,
             "ticks": ""
            },
            "colorscale": [
             [
              0,
              "#0d0887"
             ],
             [
              0.1111111111111111,
              "#46039f"
             ],
             [
              0.2222222222222222,
              "#7201a8"
             ],
             [
              0.3333333333333333,
              "#9c179e"
             ],
             [
              0.4444444444444444,
              "#bd3786"
             ],
             [
              0.5555555555555556,
              "#d8576b"
             ],
             [
              0.6666666666666666,
              "#ed7953"
             ],
             [
              0.7777777777777778,
              "#fb9f3a"
             ],
             [
              0.8888888888888888,
              "#fdca26"
             ],
             [
              1,
              "#f0f921"
             ]
            ],
            "type": "histogram2d"
           }
          ],
          "histogram2dcontour": [
           {
            "colorbar": {
             "outlinewidth": 0,
             "ticks": ""
            },
            "colorscale": [
             [
              0,
              "#0d0887"
             ],
             [
              0.1111111111111111,
              "#46039f"
             ],
             [
              0.2222222222222222,
              "#7201a8"
             ],
             [
              0.3333333333333333,
              "#9c179e"
             ],
             [
              0.4444444444444444,
              "#bd3786"
             ],
             [
              0.5555555555555556,
              "#d8576b"
             ],
             [
              0.6666666666666666,
              "#ed7953"
             ],
             [
              0.7777777777777778,
              "#fb9f3a"
             ],
             [
              0.8888888888888888,
              "#fdca26"
             ],
             [
              1,
              "#f0f921"
             ]
            ],
            "type": "histogram2dcontour"
           }
          ],
          "mesh3d": [
           {
            "colorbar": {
             "outlinewidth": 0,
             "ticks": ""
            },
            "type": "mesh3d"
           }
          ],
          "parcoords": [
           {
            "line": {
             "colorbar": {
              "outlinewidth": 0,
              "ticks": ""
             }
            },
            "type": "parcoords"
           }
          ],
          "pie": [
           {
            "automargin": true,
            "type": "pie"
           }
          ],
          "scatter": [
           {
            "fillpattern": {
             "fillmode": "overlay",
             "size": 10,
             "solidity": 0.2
            },
            "type": "scatter"
           }
          ],
          "scatter3d": [
           {
            "line": {
             "colorbar": {
              "outlinewidth": 0,
              "ticks": ""
             }
            },
            "marker": {
             "colorbar": {
              "outlinewidth": 0,
              "ticks": ""
             }
            },
            "type": "scatter3d"
           }
          ],
          "scattercarpet": [
           {
            "marker": {
             "colorbar": {
              "outlinewidth": 0,
              "ticks": ""
             }
            },
            "type": "scattercarpet"
           }
          ],
          "scattergeo": [
           {
            "marker": {
             "colorbar": {
              "outlinewidth": 0,
              "ticks": ""
             }
            },
            "type": "scattergeo"
           }
          ],
          "scattergl": [
           {
            "marker": {
             "colorbar": {
              "outlinewidth": 0,
              "ticks": ""
             }
            },
            "type": "scattergl"
           }
          ],
          "scattermapbox": [
           {
            "marker": {
             "colorbar": {
              "outlinewidth": 0,
              "ticks": ""
             }
            },
            "type": "scattermapbox"
           }
          ],
          "scatterpolar": [
           {
            "marker": {
             "colorbar": {
              "outlinewidth": 0,
              "ticks": ""
             }
            },
            "type": "scatterpolar"
           }
          ],
          "scatterpolargl": [
           {
            "marker": {
             "colorbar": {
              "outlinewidth": 0,
              "ticks": ""
             }
            },
            "type": "scatterpolargl"
           }
          ],
          "scatterternary": [
           {
            "marker": {
             "colorbar": {
              "outlinewidth": 0,
              "ticks": ""
             }
            },
            "type": "scatterternary"
           }
          ],
          "surface": [
           {
            "colorbar": {
             "outlinewidth": 0,
             "ticks": ""
            },
            "colorscale": [
             [
              0,
              "#0d0887"
             ],
             [
              0.1111111111111111,
              "#46039f"
             ],
             [
              0.2222222222222222,
              "#7201a8"
             ],
             [
              0.3333333333333333,
              "#9c179e"
             ],
             [
              0.4444444444444444,
              "#bd3786"
             ],
             [
              0.5555555555555556,
              "#d8576b"
             ],
             [
              0.6666666666666666,
              "#ed7953"
             ],
             [
              0.7777777777777778,
              "#fb9f3a"
             ],
             [
              0.8888888888888888,
              "#fdca26"
             ],
             [
              1,
              "#f0f921"
             ]
            ],
            "type": "surface"
           }
          ],
          "table": [
           {
            "cells": {
             "fill": {
              "color": "#EBF0F8"
             },
             "line": {
              "color": "white"
             }
            },
            "header": {
             "fill": {
              "color": "#C8D4E3"
             },
             "line": {
              "color": "white"
             }
            },
            "type": "table"
           }
          ]
         },
         "layout": {
          "annotationdefaults": {
           "arrowcolor": "#2a3f5f",
           "arrowhead": 0,
           "arrowwidth": 1
          },
          "autotypenumbers": "strict",
          "coloraxis": {
           "colorbar": {
            "outlinewidth": 0,
            "ticks": ""
           }
          },
          "colorscale": {
           "diverging": [
            [
             0,
             "#8e0152"
            ],
            [
             0.1,
             "#c51b7d"
            ],
            [
             0.2,
             "#de77ae"
            ],
            [
             0.3,
             "#f1b6da"
            ],
            [
             0.4,
             "#fde0ef"
            ],
            [
             0.5,
             "#f7f7f7"
            ],
            [
             0.6,
             "#e6f5d0"
            ],
            [
             0.7,
             "#b8e186"
            ],
            [
             0.8,
             "#7fbc41"
            ],
            [
             0.9,
             "#4d9221"
            ],
            [
             1,
             "#276419"
            ]
           ],
           "sequential": [
            [
             0,
             "#0d0887"
            ],
            [
             0.1111111111111111,
             "#46039f"
            ],
            [
             0.2222222222222222,
             "#7201a8"
            ],
            [
             0.3333333333333333,
             "#9c179e"
            ],
            [
             0.4444444444444444,
             "#bd3786"
            ],
            [
             0.5555555555555556,
             "#d8576b"
            ],
            [
             0.6666666666666666,
             "#ed7953"
            ],
            [
             0.7777777777777778,
             "#fb9f3a"
            ],
            [
             0.8888888888888888,
             "#fdca26"
            ],
            [
             1,
             "#f0f921"
            ]
           ],
           "sequentialminus": [
            [
             0,
             "#0d0887"
            ],
            [
             0.1111111111111111,
             "#46039f"
            ],
            [
             0.2222222222222222,
             "#7201a8"
            ],
            [
             0.3333333333333333,
             "#9c179e"
            ],
            [
             0.4444444444444444,
             "#bd3786"
            ],
            [
             0.5555555555555556,
             "#d8576b"
            ],
            [
             0.6666666666666666,
             "#ed7953"
            ],
            [
             0.7777777777777778,
             "#fb9f3a"
            ],
            [
             0.8888888888888888,
             "#fdca26"
            ],
            [
             1,
             "#f0f921"
            ]
           ]
          },
          "colorway": [
           "#636efa",
           "#EF553B",
           "#00cc96",
           "#ab63fa",
           "#FFA15A",
           "#19d3f3",
           "#FF6692",
           "#B6E880",
           "#FF97FF",
           "#FECB52"
          ],
          "font": {
           "color": "#2a3f5f"
          },
          "geo": {
           "bgcolor": "white",
           "lakecolor": "white",
           "landcolor": "#E5ECF6",
           "showlakes": true,
           "showland": true,
           "subunitcolor": "white"
          },
          "hoverlabel": {
           "align": "left"
          },
          "hovermode": "closest",
          "mapbox": {
           "style": "light"
          },
          "paper_bgcolor": "white",
          "plot_bgcolor": "#E5ECF6",
          "polar": {
           "angularaxis": {
            "gridcolor": "white",
            "linecolor": "white",
            "ticks": ""
           },
           "bgcolor": "#E5ECF6",
           "radialaxis": {
            "gridcolor": "white",
            "linecolor": "white",
            "ticks": ""
           }
          },
          "scene": {
           "xaxis": {
            "backgroundcolor": "#E5ECF6",
            "gridcolor": "white",
            "gridwidth": 2,
            "linecolor": "white",
            "showbackground": true,
            "ticks": "",
            "zerolinecolor": "white"
           },
           "yaxis": {
            "backgroundcolor": "#E5ECF6",
            "gridcolor": "white",
            "gridwidth": 2,
            "linecolor": "white",
            "showbackground": true,
            "ticks": "",
            "zerolinecolor": "white"
           },
           "zaxis": {
            "backgroundcolor": "#E5ECF6",
            "gridcolor": "white",
            "gridwidth": 2,
            "linecolor": "white",
            "showbackground": true,
            "ticks": "",
            "zerolinecolor": "white"
           }
          },
          "shapedefaults": {
           "line": {
            "color": "#2a3f5f"
           }
          },
          "ternary": {
           "aaxis": {
            "gridcolor": "white",
            "linecolor": "white",
            "ticks": ""
           },
           "baxis": {
            "gridcolor": "white",
            "linecolor": "white",
            "ticks": ""
           },
           "bgcolor": "#E5ECF6",
           "caxis": {
            "gridcolor": "white",
            "linecolor": "white",
            "ticks": ""
           }
          },
          "title": {
           "x": 0.05
          },
          "xaxis": {
           "automargin": true,
           "gridcolor": "white",
           "linecolor": "white",
           "ticks": "",
           "title": {
            "standoff": 15
           },
           "zerolinecolor": "white",
           "zerolinewidth": 2
          },
          "yaxis": {
           "automargin": true,
           "gridcolor": "white",
           "linecolor": "white",
           "ticks": "",
           "title": {
            "standoff": 15
           },
           "zerolinecolor": "white",
           "zerolinewidth": 2
          }
         }
        },
        "title": {
         "text": "Label: image test"
        },
        "width": 500,
        "xaxis": {
         "anchor": "y",
         "domain": [
          0,
          1
         ],
         "showgrid": false,
         "showticklabels": false,
         "visible": false,
         "zeroline": false
        },
        "yaxis": {
         "anchor": "x",
         "domain": [
          0,
          1
         ],
         "showgrid": false,
         "showticklabels": false,
         "visible": false,
         "zeroline": false
        }
       }
      }
     },
     "metadata": {},
     "output_type": "display_data"
    }
   ],
   "source": [
    "plot_image(test_image_noise[0], \"image test\", {\"real\": discriminator.predict(test_image_noise, verbose=0)[0][0]})"
   ]
  },
  {
   "cell_type": "code",
   "execution_count": null,
   "metadata": {},
   "outputs": [],
   "source": []
  }
 ],
 "metadata": {
  "kernelspec": {
   "display_name": "Python 3",
   "language": "python",
   "name": "python3"
  },
  "language_info": {
   "codemirror_mode": {
    "name": "ipython",
    "version": 3
   },
   "file_extension": ".py",
   "mimetype": "text/x-python",
   "name": "python",
   "nbconvert_exporter": "python",
   "pygments_lexer": "ipython3",
   "version": "3.10.6"
  },
  "orig_nbformat": 4
 },
 "nbformat": 4,
 "nbformat_minor": 2
}
