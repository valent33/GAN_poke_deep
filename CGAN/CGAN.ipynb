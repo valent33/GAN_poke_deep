{
 "cells": [
  {
   "cell_type": "code",
   "execution_count": 1,
   "metadata": {},
   "outputs": [],
   "source": [
    "import tensorflow as tf\n",
    "import matplotlib.pyplot as plt\n",
    "import pandas as pd\n",
    "import sys\n",
    "sys.path.append('../')\n",
    "from utils import *"
   ]
  },
  {
   "cell_type": "code",
   "execution_count": 2,
   "metadata": {},
   "outputs": [],
   "source": [
    "directory = '../images/final/'\n",
    "width = 96\n",
    "height = 96\n",
    "channels = 4\n",
    "image_size = (width, height)\n",
    "input_shape = (width, height, channels)\n",
    "batch_size = 32\n",
    "latent_dim = 100\n",
    "nb_types = 18"
   ]
  },
  {
   "attachments": {},
   "cell_type": "markdown",
   "metadata": {},
   "source": [
    "## PREPARATION DES DONNEES"
   ]
  },
  {
   "cell_type": "code",
   "execution_count": 3,
   "metadata": {},
   "outputs": [
    {
     "name": "stdout",
     "output_type": "stream",
     "text": [
      "Found 13849 files belonging to 905 classes.\n"
     ]
    }
   ],
   "source": [
    "train_ds, class_names = load_data(directory, batch_size, image_size, GAN=True)"
   ]
  },
  {
   "cell_type": "code",
   "execution_count": 4,
   "metadata": {},
   "outputs": [],
   "source": [
    "types = pd.read_csv('../PokeDataset.csv', usecols=['Name', 'Type1', 'Type2'])\n",
    "# reorder by alphabetical order of column 'Name'\n",
    "types = types.sort_values(by=['Name'])\n",
    "types = types.reset_index(drop=True)"
   ]
  },
  {
   "cell_type": "code",
   "execution_count": 5,
   "metadata": {},
   "outputs": [
    {
     "name": "stdout",
     "output_type": "stream",
     "text": [
      "Percentage of pokemon with double type: 49.61%\n"
     ]
    }
   ],
   "source": [
    "# give percentage of pokemon with double type\n",
    "print(f\"Percentage of pokemon with double type: {types['Type2'].count() / types['Type1'].count() * 100:.2f}%\")"
   ]
  },
  {
   "cell_type": "code",
   "execution_count": 6,
   "metadata": {},
   "outputs": [
    {
     "data": {
      "text/html": [
       "<div>\n",
       "<style scoped>\n",
       "    .dataframe tbody tr th:only-of-type {\n",
       "        vertical-align: middle;\n",
       "    }\n",
       "\n",
       "    .dataframe tbody tr th {\n",
       "        vertical-align: top;\n",
       "    }\n",
       "\n",
       "    .dataframe thead th {\n",
       "        text-align: right;\n",
       "    }\n",
       "</style>\n",
       "<table border=\"1\" class=\"dataframe\">\n",
       "  <thead>\n",
       "    <tr style=\"text-align: right;\">\n",
       "      <th></th>\n",
       "      <th>Name</th>\n",
       "      <th>Type1</th>\n",
       "      <th>Type2</th>\n",
       "    </tr>\n",
       "  </thead>\n",
       "  <tbody>\n",
       "    <tr>\n",
       "      <th>0</th>\n",
       "      <td>Abomasnow</td>\n",
       "      <td>Grass</td>\n",
       "      <td>Ice</td>\n",
       "    </tr>\n",
       "    <tr>\n",
       "      <th>1</th>\n",
       "      <td>Abra</td>\n",
       "      <td>Psychic</td>\n",
       "      <td>NaN</td>\n",
       "    </tr>\n",
       "    <tr>\n",
       "      <th>2</th>\n",
       "      <td>Absol</td>\n",
       "      <td>Dark</td>\n",
       "      <td>NaN</td>\n",
       "    </tr>\n",
       "    <tr>\n",
       "      <th>3</th>\n",
       "      <td>Accelgor</td>\n",
       "      <td>Bug</td>\n",
       "      <td>NaN</td>\n",
       "    </tr>\n",
       "    <tr>\n",
       "      <th>4</th>\n",
       "      <td>Aegislash</td>\n",
       "      <td>Steel</td>\n",
       "      <td>Ghost</td>\n",
       "    </tr>\n",
       "  </tbody>\n",
       "</table>\n",
       "</div>"
      ],
      "text/plain": [
       "        Name    Type1  Type2\n",
       "0  Abomasnow    Grass    Ice\n",
       "1       Abra  Psychic    NaN\n",
       "2      Absol     Dark    NaN\n",
       "3   Accelgor      Bug    NaN\n",
       "4  Aegislash    Steel  Ghost"
      ]
     },
     "execution_count": 6,
     "metadata": {},
     "output_type": "execute_result"
    }
   ],
   "source": [
    "types.head(5)"
   ]
  },
  {
   "cell_type": "code",
   "execution_count": 7,
   "metadata": {},
   "outputs": [],
   "source": [
    "# make a dictionary of types and their index in the list of types\n",
    "types_dict = {}\n",
    "for i, t in enumerate(types['Type1'].unique()):\n",
    "    types_dict[t] = i\n",
    "\n",
    "# create vector of labels with 0 for each type except the one in the row (type1 and type2 are strings)\n",
    "def create_label(row):\n",
    "    label = np.zeros(18)\n",
    "    label[types_dict[row['Type1']]] = 1\n",
    "    if row['Type2'] in types_dict:\n",
    "        label[types_dict[row['Type2']]] = 1\n",
    "    return label\n",
    "\n",
    "types['Label'] = types.apply(create_label, axis=1)"
   ]
  },
  {
   "cell_type": "code",
   "execution_count": 8,
   "metadata": {},
   "outputs": [],
   "source": [
    "def types_to_vector(type1, type2=None):\n",
    "    label = np.zeros(18)\n",
    "    label[types_dict[type1]] = 1\n",
    "    if type2 in types_dict:\n",
    "        label[types_dict[type2]] = 1\n",
    "    return label.reshape(1, 18)"
   ]
  },
  {
   "cell_type": "code",
   "execution_count": 9,
   "metadata": {},
   "outputs": [
    {
     "name": "stdout",
     "output_type": "stream",
     "text": [
      "521\n"
     ]
    },
    {
     "data": {
      "application/vnd.plotly.v1+json": {
       "config": {
        "plotlyServerURL": "https://plot.ly"
       },
       "data": [
        {
         "hovertemplate": "x: %{x}<br>y: %{y}<extra></extra>",
         "name": "0",
         "source": "data:image/png;base64,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",
         "type": "image",
         "xaxis": "x",
         "yaxis": "y"
        }
       ],
       "layout": {
        "height": 350,
        "margin": {
         "l": 0,
         "t": 60
        },
        "shapes": [
         {
          "line": {
           "color": "black",
           "width": 2
          },
          "type": "rect",
          "x0": 0,
          "x1": 96,
          "xref": "x",
          "y0": 0,
          "y1": 96,
          "yref": "y"
         }
        ],
        "template": {
         "data": {
          "bar": [
           {
            "error_x": {
             "color": "#2a3f5f"
            },
            "error_y": {
             "color": "#2a3f5f"
            },
            "marker": {
             "line": {
              "color": "#E5ECF6",
              "width": 0.5
             },
             "pattern": {
              "fillmode": "overlay",
              "size": 10,
              "solidity": 0.2
             }
            },
            "type": "bar"
           }
          ],
          "barpolar": [
           {
            "marker": {
             "line": {
              "color": "#E5ECF6",
              "width": 0.5
             },
             "pattern": {
              "fillmode": "overlay",
              "size": 10,
              "solidity": 0.2
             }
            },
            "type": "barpolar"
           }
          ],
          "carpet": [
           {
            "aaxis": {
             "endlinecolor": "#2a3f5f",
             "gridcolor": "white",
             "linecolor": "white",
             "minorgridcolor": "white",
             "startlinecolor": "#2a3f5f"
            },
            "baxis": {
             "endlinecolor": "#2a3f5f",
             "gridcolor": "white",
             "linecolor": "white",
             "minorgridcolor": "white",
             "startlinecolor": "#2a3f5f"
            },
            "type": "carpet"
           }
          ],
          "choropleth": [
           {
            "colorbar": {
             "outlinewidth": 0,
             "ticks": ""
            },
            "type": "choropleth"
           }
          ],
          "contour": [
           {
            "colorbar": {
             "outlinewidth": 0,
             "ticks": ""
            },
            "colorscale": [
             [
              0,
              "#0d0887"
             ],
             [
              0.1111111111111111,
              "#46039f"
             ],
             [
              0.2222222222222222,
              "#7201a8"
             ],
             [
              0.3333333333333333,
              "#9c179e"
             ],
             [
              0.4444444444444444,
              "#bd3786"
             ],
             [
              0.5555555555555556,
              "#d8576b"
             ],
             [
              0.6666666666666666,
              "#ed7953"
             ],
             [
              0.7777777777777778,
              "#fb9f3a"
             ],
             [
              0.8888888888888888,
              "#fdca26"
             ],
             [
              1,
              "#f0f921"
             ]
            ],
            "type": "contour"
           }
          ],
          "contourcarpet": [
           {
            "colorbar": {
             "outlinewidth": 0,
             "ticks": ""
            },
            "type": "contourcarpet"
           }
          ],
          "heatmap": [
           {
            "colorbar": {
             "outlinewidth": 0,
             "ticks": ""
            },
            "colorscale": [
             [
              0,
              "#0d0887"
             ],
             [
              0.1111111111111111,
              "#46039f"
             ],
             [
              0.2222222222222222,
              "#7201a8"
             ],
             [
              0.3333333333333333,
              "#9c179e"
             ],
             [
              0.4444444444444444,
              "#bd3786"
             ],
             [
              0.5555555555555556,
              "#d8576b"
             ],
             [
              0.6666666666666666,
              "#ed7953"
             ],
             [
              0.7777777777777778,
              "#fb9f3a"
             ],
             [
              0.8888888888888888,
              "#fdca26"
             ],
             [
              1,
              "#f0f921"
             ]
            ],
            "type": "heatmap"
           }
          ],
          "heatmapgl": [
           {
            "colorbar": {
             "outlinewidth": 0,
             "ticks": ""
            },
            "colorscale": [
             [
              0,
              "#0d0887"
             ],
             [
              0.1111111111111111,
              "#46039f"
             ],
             [
              0.2222222222222222,
              "#7201a8"
             ],
             [
              0.3333333333333333,
              "#9c179e"
             ],
             [
              0.4444444444444444,
              "#bd3786"
             ],
             [
              0.5555555555555556,
              "#d8576b"
             ],
             [
              0.6666666666666666,
              "#ed7953"
             ],
             [
              0.7777777777777778,
              "#fb9f3a"
             ],
             [
              0.8888888888888888,
              "#fdca26"
             ],
             [
              1,
              "#f0f921"
             ]
            ],
            "type": "heatmapgl"
           }
          ],
          "histogram": [
           {
            "marker": {
             "pattern": {
              "fillmode": "overlay",
              "size": 10,
              "solidity": 0.2
             }
            },
            "type": "histogram"
           }
          ],
          "histogram2d": [
           {
            "colorbar": {
             "outlinewidth": 0,
             "ticks": ""
            },
            "colorscale": [
             [
              0,
              "#0d0887"
             ],
             [
              0.1111111111111111,
              "#46039f"
             ],
             [
              0.2222222222222222,
              "#7201a8"
             ],
             [
              0.3333333333333333,
              "#9c179e"
             ],
             [
              0.4444444444444444,
              "#bd3786"
             ],
             [
              0.5555555555555556,
              "#d8576b"
             ],
             [
              0.6666666666666666,
              "#ed7953"
             ],
             [
              0.7777777777777778,
              "#fb9f3a"
             ],
             [
              0.8888888888888888,
              "#fdca26"
             ],
             [
              1,
              "#f0f921"
             ]
            ],
            "type": "histogram2d"
           }
          ],
          "histogram2dcontour": [
           {
            "colorbar": {
             "outlinewidth": 0,
             "ticks": ""
            },
            "colorscale": [
             [
              0,
              "#0d0887"
             ],
             [
              0.1111111111111111,
              "#46039f"
             ],
             [
              0.2222222222222222,
              "#7201a8"
             ],
             [
              0.3333333333333333,
              "#9c179e"
             ],
             [
              0.4444444444444444,
              "#bd3786"
             ],
             [
              0.5555555555555556,
              "#d8576b"
             ],
             [
              0.6666666666666666,
              "#ed7953"
             ],
             [
              0.7777777777777778,
              "#fb9f3a"
             ],
             [
              0.8888888888888888,
              "#fdca26"
             ],
             [
              1,
              "#f0f921"
             ]
            ],
            "type": "histogram2dcontour"
           }
          ],
          "mesh3d": [
           {
            "colorbar": {
             "outlinewidth": 0,
             "ticks": ""
            },
            "type": "mesh3d"
           }
          ],
          "parcoords": [
           {
            "line": {
             "colorbar": {
              "outlinewidth": 0,
              "ticks": ""
             }
            },
            "type": "parcoords"
           }
          ],
          "pie": [
           {
            "automargin": true,
            "type": "pie"
           }
          ],
          "scatter": [
           {
            "fillpattern": {
             "fillmode": "overlay",
             "size": 10,
             "solidity": 0.2
            },
            "type": "scatter"
           }
          ],
          "scatter3d": [
           {
            "line": {
             "colorbar": {
              "outlinewidth": 0,
              "ticks": ""
             }
            },
            "marker": {
             "colorbar": {
              "outlinewidth": 0,
              "ticks": ""
             }
            },
            "type": "scatter3d"
           }
          ],
          "scattercarpet": [
           {
            "marker": {
             "colorbar": {
              "outlinewidth": 0,
              "ticks": ""
             }
            },
            "type": "scattercarpet"
           }
          ],
          "scattergeo": [
           {
            "marker": {
             "colorbar": {
              "outlinewidth": 0,
              "ticks": ""
             }
            },
            "type": "scattergeo"
           }
          ],
          "scattergl": [
           {
            "marker": {
             "colorbar": {
              "outlinewidth": 0,
              "ticks": ""
             }
            },
            "type": "scattergl"
           }
          ],
          "scattermapbox": [
           {
            "marker": {
             "colorbar": {
              "outlinewidth": 0,
              "ticks": ""
             }
            },
            "type": "scattermapbox"
           }
          ],
          "scatterpolar": [
           {
            "marker": {
             "colorbar": {
              "outlinewidth": 0,
              "ticks": ""
             }
            },
            "type": "scatterpolar"
           }
          ],
          "scatterpolargl": [
           {
            "marker": {
             "colorbar": {
              "outlinewidth": 0,
              "ticks": ""
             }
            },
            "type": "scatterpolargl"
           }
          ],
          "scatterternary": [
           {
            "marker": {
             "colorbar": {
              "outlinewidth": 0,
              "ticks": ""
             }
            },
            "type": "scatterternary"
           }
          ],
          "surface": [
           {
            "colorbar": {
             "outlinewidth": 0,
             "ticks": ""
            },
            "colorscale": [
             [
              0,
              "#0d0887"
             ],
             [
              0.1111111111111111,
              "#46039f"
             ],
             [
              0.2222222222222222,
              "#7201a8"
             ],
             [
              0.3333333333333333,
              "#9c179e"
             ],
             [
              0.4444444444444444,
              "#bd3786"
             ],
             [
              0.5555555555555556,
              "#d8576b"
             ],
             [
              0.6666666666666666,
              "#ed7953"
             ],
             [
              0.7777777777777778,
              "#fb9f3a"
             ],
             [
              0.8888888888888888,
              "#fdca26"
             ],
             [
              1,
              "#f0f921"
             ]
            ],
            "type": "surface"
           }
          ],
          "table": [
           {
            "cells": {
             "fill": {
              "color": "#EBF0F8"
             },
             "line": {
              "color": "white"
             }
            },
            "header": {
             "fill": {
              "color": "#C8D4E3"
             },
             "line": {
              "color": "white"
             }
            },
            "type": "table"
           }
          ]
         },
         "layout": {
          "annotationdefaults": {
           "arrowcolor": "#2a3f5f",
           "arrowhead": 0,
           "arrowwidth": 1
          },
          "autotypenumbers": "strict",
          "coloraxis": {
           "colorbar": {
            "outlinewidth": 0,
            "ticks": ""
           }
          },
          "colorscale": {
           "diverging": [
            [
             0,
             "#8e0152"
            ],
            [
             0.1,
             "#c51b7d"
            ],
            [
             0.2,
             "#de77ae"
            ],
            [
             0.3,
             "#f1b6da"
            ],
            [
             0.4,
             "#fde0ef"
            ],
            [
             0.5,
             "#f7f7f7"
            ],
            [
             0.6,
             "#e6f5d0"
            ],
            [
             0.7,
             "#b8e186"
            ],
            [
             0.8,
             "#7fbc41"
            ],
            [
             0.9,
             "#4d9221"
            ],
            [
             1,
             "#276419"
            ]
           ],
           "sequential": [
            [
             0,
             "#0d0887"
            ],
            [
             0.1111111111111111,
             "#46039f"
            ],
            [
             0.2222222222222222,
             "#7201a8"
            ],
            [
             0.3333333333333333,
             "#9c179e"
            ],
            [
             0.4444444444444444,
             "#bd3786"
            ],
            [
             0.5555555555555556,
             "#d8576b"
            ],
            [
             0.6666666666666666,
             "#ed7953"
            ],
            [
             0.7777777777777778,
             "#fb9f3a"
            ],
            [
             0.8888888888888888,
             "#fdca26"
            ],
            [
             1,
             "#f0f921"
            ]
           ],
           "sequentialminus": [
            [
             0,
             "#0d0887"
            ],
            [
             0.1111111111111111,
             "#46039f"
            ],
            [
             0.2222222222222222,
             "#7201a8"
            ],
            [
             0.3333333333333333,
             "#9c179e"
            ],
            [
             0.4444444444444444,
             "#bd3786"
            ],
            [
             0.5555555555555556,
             "#d8576b"
            ],
            [
             0.6666666666666666,
             "#ed7953"
            ],
            [
             0.7777777777777778,
             "#fb9f3a"
            ],
            [
             0.8888888888888888,
             "#fdca26"
            ],
            [
             1,
             "#f0f921"
            ]
           ]
          },
          "colorway": [
           "#636efa",
           "#EF553B",
           "#00cc96",
           "#ab63fa",
           "#FFA15A",
           "#19d3f3",
           "#FF6692",
           "#B6E880",
           "#FF97FF",
           "#FECB52"
          ],
          "font": {
           "color": "#2a3f5f"
          },
          "geo": {
           "bgcolor": "white",
           "lakecolor": "white",
           "landcolor": "#E5ECF6",
           "showlakes": true,
           "showland": true,
           "subunitcolor": "white"
          },
          "hoverlabel": {
           "align": "left"
          },
          "hovermode": "closest",
          "mapbox": {
           "style": "light"
          },
          "paper_bgcolor": "white",
          "plot_bgcolor": "#E5ECF6",
          "polar": {
           "angularaxis": {
            "gridcolor": "white",
            "linecolor": "white",
            "ticks": ""
           },
           "bgcolor": "#E5ECF6",
           "radialaxis": {
            "gridcolor": "white",
            "linecolor": "white",
            "ticks": ""
           }
          },
          "scene": {
           "xaxis": {
            "backgroundcolor": "#E5ECF6",
            "gridcolor": "white",
            "gridwidth": 2,
            "linecolor": "white",
            "showbackground": true,
            "ticks": "",
            "zerolinecolor": "white"
           },
           "yaxis": {
            "backgroundcolor": "#E5ECF6",
            "gridcolor": "white",
            "gridwidth": 2,
            "linecolor": "white",
            "showbackground": true,
            "ticks": "",
            "zerolinecolor": "white"
           },
           "zaxis": {
            "backgroundcolor": "#E5ECF6",
            "gridcolor": "white",
            "gridwidth": 2,
            "linecolor": "white",
            "showbackground": true,
            "ticks": "",
            "zerolinecolor": "white"
           }
          },
          "shapedefaults": {
           "line": {
            "color": "#2a3f5f"
           }
          },
          "ternary": {
           "aaxis": {
            "gridcolor": "white",
            "linecolor": "white",
            "ticks": ""
           },
           "baxis": {
            "gridcolor": "white",
            "linecolor": "white",
            "ticks": ""
           },
           "bgcolor": "#E5ECF6",
           "caxis": {
            "gridcolor": "white",
            "linecolor": "white",
            "ticks": ""
           }
          },
          "title": {
           "x": 0.05
          },
          "xaxis": {
           "automargin": true,
           "gridcolor": "white",
           "linecolor": "white",
           "ticks": "",
           "title": {
            "standoff": 15
           },
           "zerolinecolor": "white",
           "zerolinewidth": 2
          },
          "yaxis": {
           "automargin": true,
           "gridcolor": "white",
           "linecolor": "white",
           "ticks": "",
           "title": {
            "standoff": 15
           },
           "zerolinecolor": "white",
           "zerolinewidth": 2
          }
         }
        },
        "title": {
         "text": "Label: Naganadel"
        },
        "width": 500,
        "xaxis": {
         "anchor": "y",
         "domain": [
          0,
          1
         ],
         "showgrid": false,
         "showticklabels": false,
         "visible": false,
         "zeroline": false
        },
        "yaxis": {
         "anchor": "x",
         "domain": [
          0,
          1
         ],
         "showgrid": false,
         "showticklabels": false,
         "visible": false,
         "zeroline": false
        }
       }
      }
     },
     "metadata": {},
     "output_type": "display_data"
    }
   ],
   "source": [
    "for x, y in train_ds.take(1):\n",
    "    print(int(tf.argmax(tf.reshape(y[0], [-1, 1]), axis=0)))\n",
    "    plot_image(x[0], class_names[int(tf.argmax(tf.reshape(y[0], [-1, 1]), axis=0))], size=width)"
   ]
  },
  {
   "cell_type": "code",
   "execution_count": 10,
   "metadata": {},
   "outputs": [],
   "source": [
    "# map labels in train_ds to the column Label in types\n",
    "def map_labels(x, y):\n",
    "    y_onehot = tf.argmax(y, axis=1).numpy()\n",
    "    y_labels = np.zeros((len(y_onehot), 18))\n",
    "    for i in range(len(y_onehot)):\n",
    "        y_labels[i] = types.loc[y_onehot[i], 'Label']\n",
    "    y_label = np.insert(y_labels, 0, 1, axis=1)\n",
    "    y_label_tensor = tf.convert_to_tensor(y_label, dtype=tf.float32)\n",
    "    return x, y_label_tensor"
   ]
  },
  {
   "cell_type": "code",
   "execution_count": 11,
   "metadata": {},
   "outputs": [
    {
     "name": "stdout",
     "output_type": "stream",
     "text": [
      "WARNING:tensorflow:Using a while_loop for converting RngReadAndSkip cause there is no registered converter for this op.\n",
      "WARNING:tensorflow:Using a while_loop for converting Bitcast cause there is no registered converter for this op.\n",
      "WARNING:tensorflow:Using a while_loop for converting Bitcast cause there is no registered converter for this op.\n",
      "WARNING:tensorflow:Using a while_loop for converting StatelessRandomUniformV2 cause there is no registered converter for this op.\n",
      "WARNING:tensorflow:Using a while_loop for converting ImageProjectiveTransformV3 cause there is no registered converter for this op.\n",
      "WARNING:tensorflow:Using a while_loop for converting RngReadAndSkip cause there is no registered converter for this op.\n",
      "WARNING:tensorflow:Using a while_loop for converting Bitcast cause there is no registered converter for this op.\n",
      "WARNING:tensorflow:Using a while_loop for converting Bitcast cause there is no registered converter for this op.\n",
      "WARNING:tensorflow:Using a while_loop for converting StatelessRandomUniformV2 cause there is no registered converter for this op.\n",
      "WARNING:tensorflow:Using a while_loop for converting RngReadAndSkip cause there is no registered converter for this op.\n",
      "WARNING:tensorflow:Using a while_loop for converting Bitcast cause there is no registered converter for this op.\n",
      "WARNING:tensorflow:Using a while_loop for converting Bitcast cause there is no registered converter for this op.\n",
      "WARNING:tensorflow:Using a while_loop for converting StatelessRandomUniformV2 cause there is no registered converter for this op.\n",
      "WARNING:tensorflow:Using a while_loop for converting RngReadAndSkip cause there is no registered converter for this op.\n",
      "WARNING:tensorflow:Using a while_loop for converting Bitcast cause there is no registered converter for this op.\n",
      "WARNING:tensorflow:Using a while_loop for converting Bitcast cause there is no registered converter for this op.\n",
      "WARNING:tensorflow:Using a while_loop for converting StatelessRandomUniformV2 cause there is no registered converter for this op.\n",
      "WARNING:tensorflow:Using a while_loop for converting ImageProjectiveTransformV3 cause there is no registered converter for this op.\n",
      "WARNING:tensorflow:Using a while_loop for converting RngReadAndSkip cause there is no registered converter for this op.\n",
      "WARNING:tensorflow:Using a while_loop for converting Bitcast cause there is no registered converter for this op.\n",
      "WARNING:tensorflow:Using a while_loop for converting Bitcast cause there is no registered converter for this op.\n",
      "WARNING:tensorflow:Using a while_loop for converting StatelessRandomUniformV2 cause there is no registered converter for this op.\n",
      "WARNING:tensorflow:Using a while_loop for converting RngReadAndSkip cause there is no registered converter for this op.\n",
      "WARNING:tensorflow:Using a while_loop for converting Bitcast cause there is no registered converter for this op.\n",
      "WARNING:tensorflow:Using a while_loop for converting Bitcast cause there is no registered converter for this op.\n",
      "WARNING:tensorflow:Using a while_loop for converting StatelessRandomUniformV2 cause there is no registered converter for this op.\n"
     ]
    }
   ],
   "source": [
    "train_ds = prepare(train_ds, shuffle=True, augment=True, GAN=True)\n",
    "train_ds = train_ds.map(lambda x, y: tf.py_function(map_labels, [x, y], [tf.float32, tf.float32]))\n",
    "\n",
    "channels = 3\n",
    "input_shape = (width, height, channels)"
   ]
  },
  {
   "cell_type": "code",
   "execution_count": 12,
   "metadata": {},
   "outputs": [
    {
     "name": "stdout",
     "output_type": "stream",
     "text": [
      "image shape :  (96, 96, 3)\n"
     ]
    },
    {
     "data": {
      "application/vnd.plotly.v1+json": {
       "config": {
        "plotlyServerURL": "https://plot.ly"
       },
       "data": [
        {
         "hovertemplate": "x: %{x}<br>y: %{y}<br>color: [%{z[0]}, %{z[1]}, %{z[2]}]<extra></extra>",
         "name": "0",
         "source": "data:image/png;base64,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",
         "type": "image",
         "xaxis": "x",
         "yaxis": "y"
        }
       ],
       "layout": {
        "height": 350,
        "margin": {
         "l": 0,
         "t": 60
        },
        "shapes": [
         {
          "line": {
           "color": "black",
           "width": 2
          },
          "type": "rect",
          "x0": 0,
          "x1": 96,
          "xref": "x",
          "y0": 0,
          "y1": 96,
          "yref": "y"
         }
        ],
        "template": {
         "data": {
          "bar": [
           {
            "error_x": {
             "color": "#2a3f5f"
            },
            "error_y": {
             "color": "#2a3f5f"
            },
            "marker": {
             "line": {
              "color": "#E5ECF6",
              "width": 0.5
             },
             "pattern": {
              "fillmode": "overlay",
              "size": 10,
              "solidity": 0.2
             }
            },
            "type": "bar"
           }
          ],
          "barpolar": [
           {
            "marker": {
             "line": {
              "color": "#E5ECF6",
              "width": 0.5
             },
             "pattern": {
              "fillmode": "overlay",
              "size": 10,
              "solidity": 0.2
             }
            },
            "type": "barpolar"
           }
          ],
          "carpet": [
           {
            "aaxis": {
             "endlinecolor": "#2a3f5f",
             "gridcolor": "white",
             "linecolor": "white",
             "minorgridcolor": "white",
             "startlinecolor": "#2a3f5f"
            },
            "baxis": {
             "endlinecolor": "#2a3f5f",
             "gridcolor": "white",
             "linecolor": "white",
             "minorgridcolor": "white",
             "startlinecolor": "#2a3f5f"
            },
            "type": "carpet"
           }
          ],
          "choropleth": [
           {
            "colorbar": {
             "outlinewidth": 0,
             "ticks": ""
            },
            "type": "choropleth"
           }
          ],
          "contour": [
           {
            "colorbar": {
             "outlinewidth": 0,
             "ticks": ""
            },
            "colorscale": [
             [
              0,
              "#0d0887"
             ],
             [
              0.1111111111111111,
              "#46039f"
             ],
             [
              0.2222222222222222,
              "#7201a8"
             ],
             [
              0.3333333333333333,
              "#9c179e"
             ],
             [
              0.4444444444444444,
              "#bd3786"
             ],
             [
              0.5555555555555556,
              "#d8576b"
             ],
             [
              0.6666666666666666,
              "#ed7953"
             ],
             [
              0.7777777777777778,
              "#fb9f3a"
             ],
             [
              0.8888888888888888,
              "#fdca26"
             ],
             [
              1,
              "#f0f921"
             ]
            ],
            "type": "contour"
           }
          ],
          "contourcarpet": [
           {
            "colorbar": {
             "outlinewidth": 0,
             "ticks": ""
            },
            "type": "contourcarpet"
           }
          ],
          "heatmap": [
           {
            "colorbar": {
             "outlinewidth": 0,
             "ticks": ""
            },
            "colorscale": [
             [
              0,
              "#0d0887"
             ],
             [
              0.1111111111111111,
              "#46039f"
             ],
             [
              0.2222222222222222,
              "#7201a8"
             ],
             [
              0.3333333333333333,
              "#9c179e"
             ],
             [
              0.4444444444444444,
              "#bd3786"
             ],
             [
              0.5555555555555556,
              "#d8576b"
             ],
             [
              0.6666666666666666,
              "#ed7953"
             ],
             [
              0.7777777777777778,
              "#fb9f3a"
             ],
             [
              0.8888888888888888,
              "#fdca26"
             ],
             [
              1,
              "#f0f921"
             ]
            ],
            "type": "heatmap"
           }
          ],
          "heatmapgl": [
           {
            "colorbar": {
             "outlinewidth": 0,
             "ticks": ""
            },
            "colorscale": [
             [
              0,
              "#0d0887"
             ],
             [
              0.1111111111111111,
              "#46039f"
             ],
             [
              0.2222222222222222,
              "#7201a8"
             ],
             [
              0.3333333333333333,
              "#9c179e"
             ],
             [
              0.4444444444444444,
              "#bd3786"
             ],
             [
              0.5555555555555556,
              "#d8576b"
             ],
             [
              0.6666666666666666,
              "#ed7953"
             ],
             [
              0.7777777777777778,
              "#fb9f3a"
             ],
             [
              0.8888888888888888,
              "#fdca26"
             ],
             [
              1,
              "#f0f921"
             ]
            ],
            "type": "heatmapgl"
           }
          ],
          "histogram": [
           {
            "marker": {
             "pattern": {
              "fillmode": "overlay",
              "size": 10,
              "solidity": 0.2
             }
            },
            "type": "histogram"
           }
          ],
          "histogram2d": [
           {
            "colorbar": {
             "outlinewidth": 0,
             "ticks": ""
            },
            "colorscale": [
             [
              0,
              "#0d0887"
             ],
             [
              0.1111111111111111,
              "#46039f"
             ],
             [
              0.2222222222222222,
              "#7201a8"
             ],
             [
              0.3333333333333333,
              "#9c179e"
             ],
             [
              0.4444444444444444,
              "#bd3786"
             ],
             [
              0.5555555555555556,
              "#d8576b"
             ],
             [
              0.6666666666666666,
              "#ed7953"
             ],
             [
              0.7777777777777778,
              "#fb9f3a"
             ],
             [
              0.8888888888888888,
              "#fdca26"
             ],
             [
              1,
              "#f0f921"
             ]
            ],
            "type": "histogram2d"
           }
          ],
          "histogram2dcontour": [
           {
            "colorbar": {
             "outlinewidth": 0,
             "ticks": ""
            },
            "colorscale": [
             [
              0,
              "#0d0887"
             ],
             [
              0.1111111111111111,
              "#46039f"
             ],
             [
              0.2222222222222222,
              "#7201a8"
             ],
             [
              0.3333333333333333,
              "#9c179e"
             ],
             [
              0.4444444444444444,
              "#bd3786"
             ],
             [
              0.5555555555555556,
              "#d8576b"
             ],
             [
              0.6666666666666666,
              "#ed7953"
             ],
             [
              0.7777777777777778,
              "#fb9f3a"
             ],
             [
              0.8888888888888888,
              "#fdca26"
             ],
             [
              1,
              "#f0f921"
             ]
            ],
            "type": "histogram2dcontour"
           }
          ],
          "mesh3d": [
           {
            "colorbar": {
             "outlinewidth": 0,
             "ticks": ""
            },
            "type": "mesh3d"
           }
          ],
          "parcoords": [
           {
            "line": {
             "colorbar": {
              "outlinewidth": 0,
              "ticks": ""
             }
            },
            "type": "parcoords"
           }
          ],
          "pie": [
           {
            "automargin": true,
            "type": "pie"
           }
          ],
          "scatter": [
           {
            "fillpattern": {
             "fillmode": "overlay",
             "size": 10,
             "solidity": 0.2
            },
            "type": "scatter"
           }
          ],
          "scatter3d": [
           {
            "line": {
             "colorbar": {
              "outlinewidth": 0,
              "ticks": ""
             }
            },
            "marker": {
             "colorbar": {
              "outlinewidth": 0,
              "ticks": ""
             }
            },
            "type": "scatter3d"
           }
          ],
          "scattercarpet": [
           {
            "marker": {
             "colorbar": {
              "outlinewidth": 0,
              "ticks": ""
             }
            },
            "type": "scattercarpet"
           }
          ],
          "scattergeo": [
           {
            "marker": {
             "colorbar": {
              "outlinewidth": 0,
              "ticks": ""
             }
            },
            "type": "scattergeo"
           }
          ],
          "scattergl": [
           {
            "marker": {
             "colorbar": {
              "outlinewidth": 0,
              "ticks": ""
             }
            },
            "type": "scattergl"
           }
          ],
          "scattermapbox": [
           {
            "marker": {
             "colorbar": {
              "outlinewidth": 0,
              "ticks": ""
             }
            },
            "type": "scattermapbox"
           }
          ],
          "scatterpolar": [
           {
            "marker": {
             "colorbar": {
              "outlinewidth": 0,
              "ticks": ""
             }
            },
            "type": "scatterpolar"
           }
          ],
          "scatterpolargl": [
           {
            "marker": {
             "colorbar": {
              "outlinewidth": 0,
              "ticks": ""
             }
            },
            "type": "scatterpolargl"
           }
          ],
          "scatterternary": [
           {
            "marker": {
             "colorbar": {
              "outlinewidth": 0,
              "ticks": ""
             }
            },
            "type": "scatterternary"
           }
          ],
          "surface": [
           {
            "colorbar": {
             "outlinewidth": 0,
             "ticks": ""
            },
            "colorscale": [
             [
              0,
              "#0d0887"
             ],
             [
              0.1111111111111111,
              "#46039f"
             ],
             [
              0.2222222222222222,
              "#7201a8"
             ],
             [
              0.3333333333333333,
              "#9c179e"
             ],
             [
              0.4444444444444444,
              "#bd3786"
             ],
             [
              0.5555555555555556,
              "#d8576b"
             ],
             [
              0.6666666666666666,
              "#ed7953"
             ],
             [
              0.7777777777777778,
              "#fb9f3a"
             ],
             [
              0.8888888888888888,
              "#fdca26"
             ],
             [
              1,
              "#f0f921"
             ]
            ],
            "type": "surface"
           }
          ],
          "table": [
           {
            "cells": {
             "fill": {
              "color": "#EBF0F8"
             },
             "line": {
              "color": "white"
             }
            },
            "header": {
             "fill": {
              "color": "#C8D4E3"
             },
             "line": {
              "color": "white"
             }
            },
            "type": "table"
           }
          ]
         },
         "layout": {
          "annotationdefaults": {
           "arrowcolor": "#2a3f5f",
           "arrowhead": 0,
           "arrowwidth": 1
          },
          "autotypenumbers": "strict",
          "coloraxis": {
           "colorbar": {
            "outlinewidth": 0,
            "ticks": ""
           }
          },
          "colorscale": {
           "diverging": [
            [
             0,
             "#8e0152"
            ],
            [
             0.1,
             "#c51b7d"
            ],
            [
             0.2,
             "#de77ae"
            ],
            [
             0.3,
             "#f1b6da"
            ],
            [
             0.4,
             "#fde0ef"
            ],
            [
             0.5,
             "#f7f7f7"
            ],
            [
             0.6,
             "#e6f5d0"
            ],
            [
             0.7,
             "#b8e186"
            ],
            [
             0.8,
             "#7fbc41"
            ],
            [
             0.9,
             "#4d9221"
            ],
            [
             1,
             "#276419"
            ]
           ],
           "sequential": [
            [
             0,
             "#0d0887"
            ],
            [
             0.1111111111111111,
             "#46039f"
            ],
            [
             0.2222222222222222,
             "#7201a8"
            ],
            [
             0.3333333333333333,
             "#9c179e"
            ],
            [
             0.4444444444444444,
             "#bd3786"
            ],
            [
             0.5555555555555556,
             "#d8576b"
            ],
            [
             0.6666666666666666,
             "#ed7953"
            ],
            [
             0.7777777777777778,
             "#fb9f3a"
            ],
            [
             0.8888888888888888,
             "#fdca26"
            ],
            [
             1,
             "#f0f921"
            ]
           ],
           "sequentialminus": [
            [
             0,
             "#0d0887"
            ],
            [
             0.1111111111111111,
             "#46039f"
            ],
            [
             0.2222222222222222,
             "#7201a8"
            ],
            [
             0.3333333333333333,
             "#9c179e"
            ],
            [
             0.4444444444444444,
             "#bd3786"
            ],
            [
             0.5555555555555556,
             "#d8576b"
            ],
            [
             0.6666666666666666,
             "#ed7953"
            ],
            [
             0.7777777777777778,
             "#fb9f3a"
            ],
            [
             0.8888888888888888,
             "#fdca26"
            ],
            [
             1,
             "#f0f921"
            ]
           ]
          },
          "colorway": [
           "#636efa",
           "#EF553B",
           "#00cc96",
           "#ab63fa",
           "#FFA15A",
           "#19d3f3",
           "#FF6692",
           "#B6E880",
           "#FF97FF",
           "#FECB52"
          ],
          "font": {
           "color": "#2a3f5f"
          },
          "geo": {
           "bgcolor": "white",
           "lakecolor": "white",
           "landcolor": "#E5ECF6",
           "showlakes": true,
           "showland": true,
           "subunitcolor": "white"
          },
          "hoverlabel": {
           "align": "left"
          },
          "hovermode": "closest",
          "mapbox": {
           "style": "light"
          },
          "paper_bgcolor": "white",
          "plot_bgcolor": "#E5ECF6",
          "polar": {
           "angularaxis": {
            "gridcolor": "white",
            "linecolor": "white",
            "ticks": ""
           },
           "bgcolor": "#E5ECF6",
           "radialaxis": {
            "gridcolor": "white",
            "linecolor": "white",
            "ticks": ""
           }
          },
          "scene": {
           "xaxis": {
            "backgroundcolor": "#E5ECF6",
            "gridcolor": "white",
            "gridwidth": 2,
            "linecolor": "white",
            "showbackground": true,
            "ticks": "",
            "zerolinecolor": "white"
           },
           "yaxis": {
            "backgroundcolor": "#E5ECF6",
            "gridcolor": "white",
            "gridwidth": 2,
            "linecolor": "white",
            "showbackground": true,
            "ticks": "",
            "zerolinecolor": "white"
           },
           "zaxis": {
            "backgroundcolor": "#E5ECF6",
            "gridcolor": "white",
            "gridwidth": 2,
            "linecolor": "white",
            "showbackground": true,
            "ticks": "",
            "zerolinecolor": "white"
           }
          },
          "shapedefaults": {
           "line": {
            "color": "#2a3f5f"
           }
          },
          "ternary": {
           "aaxis": {
            "gridcolor": "white",
            "linecolor": "white",
            "ticks": ""
           },
           "baxis": {
            "gridcolor": "white",
            "linecolor": "white",
            "ticks": ""
           },
           "bgcolor": "#E5ECF6",
           "caxis": {
            "gridcolor": "white",
            "linecolor": "white",
            "ticks": ""
           }
          },
          "title": {
           "x": 0.05
          },
          "xaxis": {
           "automargin": true,
           "gridcolor": "white",
           "linecolor": "white",
           "ticks": "",
           "title": {
            "standoff": 15
           },
           "zerolinecolor": "white",
           "zerolinewidth": 2
          },
          "yaxis": {
           "automargin": true,
           "gridcolor": "white",
           "linecolor": "white",
           "ticks": "",
           "title": {
            "standoff": 15
           },
           "zerolinecolor": "white",
           "zerolinewidth": 2
          }
         }
        },
        "title": {
         "text": "Label: Abomasnow"
        },
        "width": 500,
        "xaxis": {
         "anchor": "y",
         "domain": [
          0,
          1
         ],
         "showgrid": false,
         "showticklabels": false,
         "visible": false,
         "zeroline": false
        },
        "yaxis": {
         "anchor": "x",
         "domain": [
          0,
          1
         ],
         "showgrid": false,
         "showticklabels": false,
         "visible": false,
         "zeroline": false
        }
       }
      }
     },
     "metadata": {},
     "output_type": "display_data"
    },
    {
     "data": {
      "application/vnd.plotly.v1+json": {
       "config": {
        "plotlyServerURL": "https://plot.ly"
       },
       "data": [
        {
         "hovertemplate": "x: %{x}<br>y: %{y}<br>color: [%{z[0]}, %{z[1]}, %{z[2]}]<extra></extra>",
         "name": "0",
         "source": "data:image/png;base64,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",
         "type": "image",
         "xaxis": "x",
         "yaxis": "y"
        }
       ],
       "layout": {
        "height": 350,
        "margin": {
         "l": 0,
         "t": 60
        },
        "shapes": [
         {
          "line": {
           "color": "black",
           "width": 2
          },
          "type": "rect",
          "x0": 0,
          "x1": 96,
          "xref": "x",
          "y0": 0,
          "y1": 96,
          "yref": "y"
         }
        ],
        "template": {
         "data": {
          "bar": [
           {
            "error_x": {
             "color": "#2a3f5f"
            },
            "error_y": {
             "color": "#2a3f5f"
            },
            "marker": {
             "line": {
              "color": "#E5ECF6",
              "width": 0.5
             },
             "pattern": {
              "fillmode": "overlay",
              "size": 10,
              "solidity": 0.2
             }
            },
            "type": "bar"
           }
          ],
          "barpolar": [
           {
            "marker": {
             "line": {
              "color": "#E5ECF6",
              "width": 0.5
             },
             "pattern": {
              "fillmode": "overlay",
              "size": 10,
              "solidity": 0.2
             }
            },
            "type": "barpolar"
           }
          ],
          "carpet": [
           {
            "aaxis": {
             "endlinecolor": "#2a3f5f",
             "gridcolor": "white",
             "linecolor": "white",
             "minorgridcolor": "white",
             "startlinecolor": "#2a3f5f"
            },
            "baxis": {
             "endlinecolor": "#2a3f5f",
             "gridcolor": "white",
             "linecolor": "white",
             "minorgridcolor": "white",
             "startlinecolor": "#2a3f5f"
            },
            "type": "carpet"
           }
          ],
          "choropleth": [
           {
            "colorbar": {
             "outlinewidth": 0,
             "ticks": ""
            },
            "type": "choropleth"
           }
          ],
          "contour": [
           {
            "colorbar": {
             "outlinewidth": 0,
             "ticks": ""
            },
            "colorscale": [
             [
              0,
              "#0d0887"
             ],
             [
              0.1111111111111111,
              "#46039f"
             ],
             [
              0.2222222222222222,
              "#7201a8"
             ],
             [
              0.3333333333333333,
              "#9c179e"
             ],
             [
              0.4444444444444444,
              "#bd3786"
             ],
             [
              0.5555555555555556,
              "#d8576b"
             ],
             [
              0.6666666666666666,
              "#ed7953"
             ],
             [
              0.7777777777777778,
              "#fb9f3a"
             ],
             [
              0.8888888888888888,
              "#fdca26"
             ],
             [
              1,
              "#f0f921"
             ]
            ],
            "type": "contour"
           }
          ],
          "contourcarpet": [
           {
            "colorbar": {
             "outlinewidth": 0,
             "ticks": ""
            },
            "type": "contourcarpet"
           }
          ],
          "heatmap": [
           {
            "colorbar": {
             "outlinewidth": 0,
             "ticks": ""
            },
            "colorscale": [
             [
              0,
              "#0d0887"
             ],
             [
              0.1111111111111111,
              "#46039f"
             ],
             [
              0.2222222222222222,
              "#7201a8"
             ],
             [
              0.3333333333333333,
              "#9c179e"
             ],
             [
              0.4444444444444444,
              "#bd3786"
             ],
             [
              0.5555555555555556,
              "#d8576b"
             ],
             [
              0.6666666666666666,
              "#ed7953"
             ],
             [
              0.7777777777777778,
              "#fb9f3a"
             ],
             [
              0.8888888888888888,
              "#fdca26"
             ],
             [
              1,
              "#f0f921"
             ]
            ],
            "type": "heatmap"
           }
          ],
          "heatmapgl": [
           {
            "colorbar": {
             "outlinewidth": 0,
             "ticks": ""
            },
            "colorscale": [
             [
              0,
              "#0d0887"
             ],
             [
              0.1111111111111111,
              "#46039f"
             ],
             [
              0.2222222222222222,
              "#7201a8"
             ],
             [
              0.3333333333333333,
              "#9c179e"
             ],
             [
              0.4444444444444444,
              "#bd3786"
             ],
             [
              0.5555555555555556,
              "#d8576b"
             ],
             [
              0.6666666666666666,
              "#ed7953"
             ],
             [
              0.7777777777777778,
              "#fb9f3a"
             ],
             [
              0.8888888888888888,
              "#fdca26"
             ],
             [
              1,
              "#f0f921"
             ]
            ],
            "type": "heatmapgl"
           }
          ],
          "histogram": [
           {
            "marker": {
             "pattern": {
              "fillmode": "overlay",
              "size": 10,
              "solidity": 0.2
             }
            },
            "type": "histogram"
           }
          ],
          "histogram2d": [
           {
            "colorbar": {
             "outlinewidth": 0,
             "ticks": ""
            },
            "colorscale": [
             [
              0,
              "#0d0887"
             ],
             [
              0.1111111111111111,
              "#46039f"
             ],
             [
              0.2222222222222222,
              "#7201a8"
             ],
             [
              0.3333333333333333,
              "#9c179e"
             ],
             [
              0.4444444444444444,
              "#bd3786"
             ],
             [
              0.5555555555555556,
              "#d8576b"
             ],
             [
              0.6666666666666666,
              "#ed7953"
             ],
             [
              0.7777777777777778,
              "#fb9f3a"
             ],
             [
              0.8888888888888888,
              "#fdca26"
             ],
             [
              1,
              "#f0f921"
             ]
            ],
            "type": "histogram2d"
           }
          ],
          "histogram2dcontour": [
           {
            "colorbar": {
             "outlinewidth": 0,
             "ticks": ""
            },
            "colorscale": [
             [
              0,
              "#0d0887"
             ],
             [
              0.1111111111111111,
              "#46039f"
             ],
             [
              0.2222222222222222,
              "#7201a8"
             ],
             [
              0.3333333333333333,
              "#9c179e"
             ],
             [
              0.4444444444444444,
              "#bd3786"
             ],
             [
              0.5555555555555556,
              "#d8576b"
             ],
             [
              0.6666666666666666,
              "#ed7953"
             ],
             [
              0.7777777777777778,
              "#fb9f3a"
             ],
             [
              0.8888888888888888,
              "#fdca26"
             ],
             [
              1,
              "#f0f921"
             ]
            ],
            "type": "histogram2dcontour"
           }
          ],
          "mesh3d": [
           {
            "colorbar": {
             "outlinewidth": 0,
             "ticks": ""
            },
            "type": "mesh3d"
           }
          ],
          "parcoords": [
           {
            "line": {
             "colorbar": {
              "outlinewidth": 0,
              "ticks": ""
             }
            },
            "type": "parcoords"
           }
          ],
          "pie": [
           {
            "automargin": true,
            "type": "pie"
           }
          ],
          "scatter": [
           {
            "fillpattern": {
             "fillmode": "overlay",
             "size": 10,
             "solidity": 0.2
            },
            "type": "scatter"
           }
          ],
          "scatter3d": [
           {
            "line": {
             "colorbar": {
              "outlinewidth": 0,
              "ticks": ""
             }
            },
            "marker": {
             "colorbar": {
              "outlinewidth": 0,
              "ticks": ""
             }
            },
            "type": "scatter3d"
           }
          ],
          "scattercarpet": [
           {
            "marker": {
             "colorbar": {
              "outlinewidth": 0,
              "ticks": ""
             }
            },
            "type": "scattercarpet"
           }
          ],
          "scattergeo": [
           {
            "marker": {
             "colorbar": {
              "outlinewidth": 0,
              "ticks": ""
             }
            },
            "type": "scattergeo"
           }
          ],
          "scattergl": [
           {
            "marker": {
             "colorbar": {
              "outlinewidth": 0,
              "ticks": ""
             }
            },
            "type": "scattergl"
           }
          ],
          "scattermapbox": [
           {
            "marker": {
             "colorbar": {
              "outlinewidth": 0,
              "ticks": ""
             }
            },
            "type": "scattermapbox"
           }
          ],
          "scatterpolar": [
           {
            "marker": {
             "colorbar": {
              "outlinewidth": 0,
              "ticks": ""
             }
            },
            "type": "scatterpolar"
           }
          ],
          "scatterpolargl": [
           {
            "marker": {
             "colorbar": {
              "outlinewidth": 0,
              "ticks": ""
             }
            },
            "type": "scatterpolargl"
           }
          ],
          "scatterternary": [
           {
            "marker": {
             "colorbar": {
              "outlinewidth": 0,
              "ticks": ""
             }
            },
            "type": "scatterternary"
           }
          ],
          "surface": [
           {
            "colorbar": {
             "outlinewidth": 0,
             "ticks": ""
            },
            "colorscale": [
             [
              0,
              "#0d0887"
             ],
             [
              0.1111111111111111,
              "#46039f"
             ],
             [
              0.2222222222222222,
              "#7201a8"
             ],
             [
              0.3333333333333333,
              "#9c179e"
             ],
             [
              0.4444444444444444,
              "#bd3786"
             ],
             [
              0.5555555555555556,
              "#d8576b"
             ],
             [
              0.6666666666666666,
              "#ed7953"
             ],
             [
              0.7777777777777778,
              "#fb9f3a"
             ],
             [
              0.8888888888888888,
              "#fdca26"
             ],
             [
              1,
              "#f0f921"
             ]
            ],
            "type": "surface"
           }
          ],
          "table": [
           {
            "cells": {
             "fill": {
              "color": "#EBF0F8"
             },
             "line": {
              "color": "white"
             }
            },
            "header": {
             "fill": {
              "color": "#C8D4E3"
             },
             "line": {
              "color": "white"
             }
            },
            "type": "table"
           }
          ]
         },
         "layout": {
          "annotationdefaults": {
           "arrowcolor": "#2a3f5f",
           "arrowhead": 0,
           "arrowwidth": 1
          },
          "autotypenumbers": "strict",
          "coloraxis": {
           "colorbar": {
            "outlinewidth": 0,
            "ticks": ""
           }
          },
          "colorscale": {
           "diverging": [
            [
             0,
             "#8e0152"
            ],
            [
             0.1,
             "#c51b7d"
            ],
            [
             0.2,
             "#de77ae"
            ],
            [
             0.3,
             "#f1b6da"
            ],
            [
             0.4,
             "#fde0ef"
            ],
            [
             0.5,
             "#f7f7f7"
            ],
            [
             0.6,
             "#e6f5d0"
            ],
            [
             0.7,
             "#b8e186"
            ],
            [
             0.8,
             "#7fbc41"
            ],
            [
             0.9,
             "#4d9221"
            ],
            [
             1,
             "#276419"
            ]
           ],
           "sequential": [
            [
             0,
             "#0d0887"
            ],
            [
             0.1111111111111111,
             "#46039f"
            ],
            [
             0.2222222222222222,
             "#7201a8"
            ],
            [
             0.3333333333333333,
             "#9c179e"
            ],
            [
             0.4444444444444444,
             "#bd3786"
            ],
            [
             0.5555555555555556,
             "#d8576b"
            ],
            [
             0.6666666666666666,
             "#ed7953"
            ],
            [
             0.7777777777777778,
             "#fb9f3a"
            ],
            [
             0.8888888888888888,
             "#fdca26"
            ],
            [
             1,
             "#f0f921"
            ]
           ],
           "sequentialminus": [
            [
             0,
             "#0d0887"
            ],
            [
             0.1111111111111111,
             "#46039f"
            ],
            [
             0.2222222222222222,
             "#7201a8"
            ],
            [
             0.3333333333333333,
             "#9c179e"
            ],
            [
             0.4444444444444444,
             "#bd3786"
            ],
            [
             0.5555555555555556,
             "#d8576b"
            ],
            [
             0.6666666666666666,
             "#ed7953"
            ],
            [
             0.7777777777777778,
             "#fb9f3a"
            ],
            [
             0.8888888888888888,
             "#fdca26"
            ],
            [
             1,
             "#f0f921"
            ]
           ]
          },
          "colorway": [
           "#636efa",
           "#EF553B",
           "#00cc96",
           "#ab63fa",
           "#FFA15A",
           "#19d3f3",
           "#FF6692",
           "#B6E880",
           "#FF97FF",
           "#FECB52"
          ],
          "font": {
           "color": "#2a3f5f"
          },
          "geo": {
           "bgcolor": "white",
           "lakecolor": "white",
           "landcolor": "#E5ECF6",
           "showlakes": true,
           "showland": true,
           "subunitcolor": "white"
          },
          "hoverlabel": {
           "align": "left"
          },
          "hovermode": "closest",
          "mapbox": {
           "style": "light"
          },
          "paper_bgcolor": "white",
          "plot_bgcolor": "#E5ECF6",
          "polar": {
           "angularaxis": {
            "gridcolor": "white",
            "linecolor": "white",
            "ticks": ""
           },
           "bgcolor": "#E5ECF6",
           "radialaxis": {
            "gridcolor": "white",
            "linecolor": "white",
            "ticks": ""
           }
          },
          "scene": {
           "xaxis": {
            "backgroundcolor": "#E5ECF6",
            "gridcolor": "white",
            "gridwidth": 2,
            "linecolor": "white",
            "showbackground": true,
            "ticks": "",
            "zerolinecolor": "white"
           },
           "yaxis": {
            "backgroundcolor": "#E5ECF6",
            "gridcolor": "white",
            "gridwidth": 2,
            "linecolor": "white",
            "showbackground": true,
            "ticks": "",
            "zerolinecolor": "white"
           },
           "zaxis": {
            "backgroundcolor": "#E5ECF6",
            "gridcolor": "white",
            "gridwidth": 2,
            "linecolor": "white",
            "showbackground": true,
            "ticks": "",
            "zerolinecolor": "white"
           }
          },
          "shapedefaults": {
           "line": {
            "color": "#2a3f5f"
           }
          },
          "ternary": {
           "aaxis": {
            "gridcolor": "white",
            "linecolor": "white",
            "ticks": ""
           },
           "baxis": {
            "gridcolor": "white",
            "linecolor": "white",
            "ticks": ""
           },
           "bgcolor": "#E5ECF6",
           "caxis": {
            "gridcolor": "white",
            "linecolor": "white",
            "ticks": ""
           }
          },
          "title": {
           "x": 0.05
          },
          "xaxis": {
           "automargin": true,
           "gridcolor": "white",
           "linecolor": "white",
           "ticks": "",
           "title": {
            "standoff": 15
           },
           "zerolinecolor": "white",
           "zerolinewidth": 2
          },
          "yaxis": {
           "automargin": true,
           "gridcolor": "white",
           "linecolor": "white",
           "ticks": "",
           "title": {
            "standoff": 15
           },
           "zerolinecolor": "white",
           "zerolinewidth": 2
          }
         }
        },
        "title": {
         "text": "Label: Abomasnow"
        },
        "width": 500,
        "xaxis": {
         "anchor": "y",
         "domain": [
          0,
          1
         ],
         "showgrid": false,
         "showticklabels": false,
         "visible": false,
         "zeroline": false
        },
        "yaxis": {
         "anchor": "x",
         "domain": [
          0,
          1
         ],
         "showgrid": false,
         "showticklabels": false,
         "visible": false,
         "zeroline": false
        }
       }
      }
     },
     "metadata": {},
     "output_type": "display_data"
    },
    {
     "data": {
      "application/vnd.plotly.v1+json": {
       "config": {
        "plotlyServerURL": "https://plot.ly"
       },
       "data": [
        {
         "hovertemplate": "x: %{x}<br>y: %{y}<br>color: [%{z[0]}, %{z[1]}, %{z[2]}]<extra></extra>",
         "name": "0",
         "source": "data:image/png;base64,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",
         "type": "image",
         "xaxis": "x",
         "yaxis": "y"
        }
       ],
       "layout": {
        "height": 350,
        "margin": {
         "l": 0,
         "t": 60
        },
        "shapes": [
         {
          "line": {
           "color": "black",
           "width": 2
          },
          "type": "rect",
          "x0": 0,
          "x1": 96,
          "xref": "x",
          "y0": 0,
          "y1": 96,
          "yref": "y"
         }
        ],
        "template": {
         "data": {
          "bar": [
           {
            "error_x": {
             "color": "#2a3f5f"
            },
            "error_y": {
             "color": "#2a3f5f"
            },
            "marker": {
             "line": {
              "color": "#E5ECF6",
              "width": 0.5
             },
             "pattern": {
              "fillmode": "overlay",
              "size": 10,
              "solidity": 0.2
             }
            },
            "type": "bar"
           }
          ],
          "barpolar": [
           {
            "marker": {
             "line": {
              "color": "#E5ECF6",
              "width": 0.5
             },
             "pattern": {
              "fillmode": "overlay",
              "size": 10,
              "solidity": 0.2
             }
            },
            "type": "barpolar"
           }
          ],
          "carpet": [
           {
            "aaxis": {
             "endlinecolor": "#2a3f5f",
             "gridcolor": "white",
             "linecolor": "white",
             "minorgridcolor": "white",
             "startlinecolor": "#2a3f5f"
            },
            "baxis": {
             "endlinecolor": "#2a3f5f",
             "gridcolor": "white",
             "linecolor": "white",
             "minorgridcolor": "white",
             "startlinecolor": "#2a3f5f"
            },
            "type": "carpet"
           }
          ],
          "choropleth": [
           {
            "colorbar": {
             "outlinewidth": 0,
             "ticks": ""
            },
            "type": "choropleth"
           }
          ],
          "contour": [
           {
            "colorbar": {
             "outlinewidth": 0,
             "ticks": ""
            },
            "colorscale": [
             [
              0,
              "#0d0887"
             ],
             [
              0.1111111111111111,
              "#46039f"
             ],
             [
              0.2222222222222222,
              "#7201a8"
             ],
             [
              0.3333333333333333,
              "#9c179e"
             ],
             [
              0.4444444444444444,
              "#bd3786"
             ],
             [
              0.5555555555555556,
              "#d8576b"
             ],
             [
              0.6666666666666666,
              "#ed7953"
             ],
             [
              0.7777777777777778,
              "#fb9f3a"
             ],
             [
              0.8888888888888888,
              "#fdca26"
             ],
             [
              1,
              "#f0f921"
             ]
            ],
            "type": "contour"
           }
          ],
          "contourcarpet": [
           {
            "colorbar": {
             "outlinewidth": 0,
             "ticks": ""
            },
            "type": "contourcarpet"
           }
          ],
          "heatmap": [
           {
            "colorbar": {
             "outlinewidth": 0,
             "ticks": ""
            },
            "colorscale": [
             [
              0,
              "#0d0887"
             ],
             [
              0.1111111111111111,
              "#46039f"
             ],
             [
              0.2222222222222222,
              "#7201a8"
             ],
             [
              0.3333333333333333,
              "#9c179e"
             ],
             [
              0.4444444444444444,
              "#bd3786"
             ],
             [
              0.5555555555555556,
              "#d8576b"
             ],
             [
              0.6666666666666666,
              "#ed7953"
             ],
             [
              0.7777777777777778,
              "#fb9f3a"
             ],
             [
              0.8888888888888888,
              "#fdca26"
             ],
             [
              1,
              "#f0f921"
             ]
            ],
            "type": "heatmap"
           }
          ],
          "heatmapgl": [
           {
            "colorbar": {
             "outlinewidth": 0,
             "ticks": ""
            },
            "colorscale": [
             [
              0,
              "#0d0887"
             ],
             [
              0.1111111111111111,
              "#46039f"
             ],
             [
              0.2222222222222222,
              "#7201a8"
             ],
             [
              0.3333333333333333,
              "#9c179e"
             ],
             [
              0.4444444444444444,
              "#bd3786"
             ],
             [
              0.5555555555555556,
              "#d8576b"
             ],
             [
              0.6666666666666666,
              "#ed7953"
             ],
             [
              0.7777777777777778,
              "#fb9f3a"
             ],
             [
              0.8888888888888888,
              "#fdca26"
             ],
             [
              1,
              "#f0f921"
             ]
            ],
            "type": "heatmapgl"
           }
          ],
          "histogram": [
           {
            "marker": {
             "pattern": {
              "fillmode": "overlay",
              "size": 10,
              "solidity": 0.2
             }
            },
            "type": "histogram"
           }
          ],
          "histogram2d": [
           {
            "colorbar": {
             "outlinewidth": 0,
             "ticks": ""
            },
            "colorscale": [
             [
              0,
              "#0d0887"
             ],
             [
              0.1111111111111111,
              "#46039f"
             ],
             [
              0.2222222222222222,
              "#7201a8"
             ],
             [
              0.3333333333333333,
              "#9c179e"
             ],
             [
              0.4444444444444444,
              "#bd3786"
             ],
             [
              0.5555555555555556,
              "#d8576b"
             ],
             [
              0.6666666666666666,
              "#ed7953"
             ],
             [
              0.7777777777777778,
              "#fb9f3a"
             ],
             [
              0.8888888888888888,
              "#fdca26"
             ],
             [
              1,
              "#f0f921"
             ]
            ],
            "type": "histogram2d"
           }
          ],
          "histogram2dcontour": [
           {
            "colorbar": {
             "outlinewidth": 0,
             "ticks": ""
            },
            "colorscale": [
             [
              0,
              "#0d0887"
             ],
             [
              0.1111111111111111,
              "#46039f"
             ],
             [
              0.2222222222222222,
              "#7201a8"
             ],
             [
              0.3333333333333333,
              "#9c179e"
             ],
             [
              0.4444444444444444,
              "#bd3786"
             ],
             [
              0.5555555555555556,
              "#d8576b"
             ],
             [
              0.6666666666666666,
              "#ed7953"
             ],
             [
              0.7777777777777778,
              "#fb9f3a"
             ],
             [
              0.8888888888888888,
              "#fdca26"
             ],
             [
              1,
              "#f0f921"
             ]
            ],
            "type": "histogram2dcontour"
           }
          ],
          "mesh3d": [
           {
            "colorbar": {
             "outlinewidth": 0,
             "ticks": ""
            },
            "type": "mesh3d"
           }
          ],
          "parcoords": [
           {
            "line": {
             "colorbar": {
              "outlinewidth": 0,
              "ticks": ""
             }
            },
            "type": "parcoords"
           }
          ],
          "pie": [
           {
            "automargin": true,
            "type": "pie"
           }
          ],
          "scatter": [
           {
            "fillpattern": {
             "fillmode": "overlay",
             "size": 10,
             "solidity": 0.2
            },
            "type": "scatter"
           }
          ],
          "scatter3d": [
           {
            "line": {
             "colorbar": {
              "outlinewidth": 0,
              "ticks": ""
             }
            },
            "marker": {
             "colorbar": {
              "outlinewidth": 0,
              "ticks": ""
             }
            },
            "type": "scatter3d"
           }
          ],
          "scattercarpet": [
           {
            "marker": {
             "colorbar": {
              "outlinewidth": 0,
              "ticks": ""
             }
            },
            "type": "scattercarpet"
           }
          ],
          "scattergeo": [
           {
            "marker": {
             "colorbar": {
              "outlinewidth": 0,
              "ticks": ""
             }
            },
            "type": "scattergeo"
           }
          ],
          "scattergl": [
           {
            "marker": {
             "colorbar": {
              "outlinewidth": 0,
              "ticks": ""
             }
            },
            "type": "scattergl"
           }
          ],
          "scattermapbox": [
           {
            "marker": {
             "colorbar": {
              "outlinewidth": 0,
              "ticks": ""
             }
            },
            "type": "scattermapbox"
           }
          ],
          "scatterpolar": [
           {
            "marker": {
             "colorbar": {
              "outlinewidth": 0,
              "ticks": ""
             }
            },
            "type": "scatterpolar"
           }
          ],
          "scatterpolargl": [
           {
            "marker": {
             "colorbar": {
              "outlinewidth": 0,
              "ticks": ""
             }
            },
            "type": "scatterpolargl"
           }
          ],
          "scatterternary": [
           {
            "marker": {
             "colorbar": {
              "outlinewidth": 0,
              "ticks": ""
             }
            },
            "type": "scatterternary"
           }
          ],
          "surface": [
           {
            "colorbar": {
             "outlinewidth": 0,
             "ticks": ""
            },
            "colorscale": [
             [
              0,
              "#0d0887"
             ],
             [
              0.1111111111111111,
              "#46039f"
             ],
             [
              0.2222222222222222,
              "#7201a8"
             ],
             [
              0.3333333333333333,
              "#9c179e"
             ],
             [
              0.4444444444444444,
              "#bd3786"
             ],
             [
              0.5555555555555556,
              "#d8576b"
             ],
             [
              0.6666666666666666,
              "#ed7953"
             ],
             [
              0.7777777777777778,
              "#fb9f3a"
             ],
             [
              0.8888888888888888,
              "#fdca26"
             ],
             [
              1,
              "#f0f921"
             ]
            ],
            "type": "surface"
           }
          ],
          "table": [
           {
            "cells": {
             "fill": {
              "color": "#EBF0F8"
             },
             "line": {
              "color": "white"
             }
            },
            "header": {
             "fill": {
              "color": "#C8D4E3"
             },
             "line": {
              "color": "white"
             }
            },
            "type": "table"
           }
          ]
         },
         "layout": {
          "annotationdefaults": {
           "arrowcolor": "#2a3f5f",
           "arrowhead": 0,
           "arrowwidth": 1
          },
          "autotypenumbers": "strict",
          "coloraxis": {
           "colorbar": {
            "outlinewidth": 0,
            "ticks": ""
           }
          },
          "colorscale": {
           "diverging": [
            [
             0,
             "#8e0152"
            ],
            [
             0.1,
             "#c51b7d"
            ],
            [
             0.2,
             "#de77ae"
            ],
            [
             0.3,
             "#f1b6da"
            ],
            [
             0.4,
             "#fde0ef"
            ],
            [
             0.5,
             "#f7f7f7"
            ],
            [
             0.6,
             "#e6f5d0"
            ],
            [
             0.7,
             "#b8e186"
            ],
            [
             0.8,
             "#7fbc41"
            ],
            [
             0.9,
             "#4d9221"
            ],
            [
             1,
             "#276419"
            ]
           ],
           "sequential": [
            [
             0,
             "#0d0887"
            ],
            [
             0.1111111111111111,
             "#46039f"
            ],
            [
             0.2222222222222222,
             "#7201a8"
            ],
            [
             0.3333333333333333,
             "#9c179e"
            ],
            [
             0.4444444444444444,
             "#bd3786"
            ],
            [
             0.5555555555555556,
             "#d8576b"
            ],
            [
             0.6666666666666666,
             "#ed7953"
            ],
            [
             0.7777777777777778,
             "#fb9f3a"
            ],
            [
             0.8888888888888888,
             "#fdca26"
            ],
            [
             1,
             "#f0f921"
            ]
           ],
           "sequentialminus": [
            [
             0,
             "#0d0887"
            ],
            [
             0.1111111111111111,
             "#46039f"
            ],
            [
             0.2222222222222222,
             "#7201a8"
            ],
            [
             0.3333333333333333,
             "#9c179e"
            ],
            [
             0.4444444444444444,
             "#bd3786"
            ],
            [
             0.5555555555555556,
             "#d8576b"
            ],
            [
             0.6666666666666666,
             "#ed7953"
            ],
            [
             0.7777777777777778,
             "#fb9f3a"
            ],
            [
             0.8888888888888888,
             "#fdca26"
            ],
            [
             1,
             "#f0f921"
            ]
           ]
          },
          "colorway": [
           "#636efa",
           "#EF553B",
           "#00cc96",
           "#ab63fa",
           "#FFA15A",
           "#19d3f3",
           "#FF6692",
           "#B6E880",
           "#FF97FF",
           "#FECB52"
          ],
          "font": {
           "color": "#2a3f5f"
          },
          "geo": {
           "bgcolor": "white",
           "lakecolor": "white",
           "landcolor": "#E5ECF6",
           "showlakes": true,
           "showland": true,
           "subunitcolor": "white"
          },
          "hoverlabel": {
           "align": "left"
          },
          "hovermode": "closest",
          "mapbox": {
           "style": "light"
          },
          "paper_bgcolor": "white",
          "plot_bgcolor": "#E5ECF6",
          "polar": {
           "angularaxis": {
            "gridcolor": "white",
            "linecolor": "white",
            "ticks": ""
           },
           "bgcolor": "#E5ECF6",
           "radialaxis": {
            "gridcolor": "white",
            "linecolor": "white",
            "ticks": ""
           }
          },
          "scene": {
           "xaxis": {
            "backgroundcolor": "#E5ECF6",
            "gridcolor": "white",
            "gridwidth": 2,
            "linecolor": "white",
            "showbackground": true,
            "ticks": "",
            "zerolinecolor": "white"
           },
           "yaxis": {
            "backgroundcolor": "#E5ECF6",
            "gridcolor": "white",
            "gridwidth": 2,
            "linecolor": "white",
            "showbackground": true,
            "ticks": "",
            "zerolinecolor": "white"
           },
           "zaxis": {
            "backgroundcolor": "#E5ECF6",
            "gridcolor": "white",
            "gridwidth": 2,
            "linecolor": "white",
            "showbackground": true,
            "ticks": "",
            "zerolinecolor": "white"
           }
          },
          "shapedefaults": {
           "line": {
            "color": "#2a3f5f"
           }
          },
          "ternary": {
           "aaxis": {
            "gridcolor": "white",
            "linecolor": "white",
            "ticks": ""
           },
           "baxis": {
            "gridcolor": "white",
            "linecolor": "white",
            "ticks": ""
           },
           "bgcolor": "#E5ECF6",
           "caxis": {
            "gridcolor": "white",
            "linecolor": "white",
            "ticks": ""
           }
          },
          "title": {
           "x": 0.05
          },
          "xaxis": {
           "automargin": true,
           "gridcolor": "white",
           "linecolor": "white",
           "ticks": "",
           "title": {
            "standoff": 15
           },
           "zerolinecolor": "white",
           "zerolinewidth": 2
          },
          "yaxis": {
           "automargin": true,
           "gridcolor": "white",
           "linecolor": "white",
           "ticks": "",
           "title": {
            "standoff": 15
           },
           "zerolinecolor": "white",
           "zerolinewidth": 2
          }
         }
        },
        "title": {
         "text": "Label: Abomasnow"
        },
        "width": 500,
        "xaxis": {
         "anchor": "y",
         "domain": [
          0,
          1
         ],
         "showgrid": false,
         "showticklabels": false,
         "visible": false,
         "zeroline": false
        },
        "yaxis": {
         "anchor": "x",
         "domain": [
          0,
          1
         ],
         "showgrid": false,
         "showticklabels": false,
         "visible": false,
         "zeroline": false
        }
       }
      }
     },
     "metadata": {},
     "output_type": "display_data"
    },
    {
     "data": {
      "application/vnd.plotly.v1+json": {
       "config": {
        "plotlyServerURL": "https://plot.ly"
       },
       "data": [
        {
         "hovertemplate": "x: %{x}<br>y: %{y}<br>color: [%{z[0]}, %{z[1]}, %{z[2]}]<extra></extra>",
         "name": "0",
         "source": "data:image/png;base64,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",
         "type": "image",
         "xaxis": "x",
         "yaxis": "y"
        }
       ],
       "layout": {
        "height": 350,
        "margin": {
         "l": 0,
         "t": 60
        },
        "shapes": [
         {
          "line": {
           "color": "black",
           "width": 2
          },
          "type": "rect",
          "x0": 0,
          "x1": 96,
          "xref": "x",
          "y0": 0,
          "y1": 96,
          "yref": "y"
         }
        ],
        "template": {
         "data": {
          "bar": [
           {
            "error_x": {
             "color": "#2a3f5f"
            },
            "error_y": {
             "color": "#2a3f5f"
            },
            "marker": {
             "line": {
              "color": "#E5ECF6",
              "width": 0.5
             },
             "pattern": {
              "fillmode": "overlay",
              "size": 10,
              "solidity": 0.2
             }
            },
            "type": "bar"
           }
          ],
          "barpolar": [
           {
            "marker": {
             "line": {
              "color": "#E5ECF6",
              "width": 0.5
             },
             "pattern": {
              "fillmode": "overlay",
              "size": 10,
              "solidity": 0.2
             }
            },
            "type": "barpolar"
           }
          ],
          "carpet": [
           {
            "aaxis": {
             "endlinecolor": "#2a3f5f",
             "gridcolor": "white",
             "linecolor": "white",
             "minorgridcolor": "white",
             "startlinecolor": "#2a3f5f"
            },
            "baxis": {
             "endlinecolor": "#2a3f5f",
             "gridcolor": "white",
             "linecolor": "white",
             "minorgridcolor": "white",
             "startlinecolor": "#2a3f5f"
            },
            "type": "carpet"
           }
          ],
          "choropleth": [
           {
            "colorbar": {
             "outlinewidth": 0,
             "ticks": ""
            },
            "type": "choropleth"
           }
          ],
          "contour": [
           {
            "colorbar": {
             "outlinewidth": 0,
             "ticks": ""
            },
            "colorscale": [
             [
              0,
              "#0d0887"
             ],
             [
              0.1111111111111111,
              "#46039f"
             ],
             [
              0.2222222222222222,
              "#7201a8"
             ],
             [
              0.3333333333333333,
              "#9c179e"
             ],
             [
              0.4444444444444444,
              "#bd3786"
             ],
             [
              0.5555555555555556,
              "#d8576b"
             ],
             [
              0.6666666666666666,
              "#ed7953"
             ],
             [
              0.7777777777777778,
              "#fb9f3a"
             ],
             [
              0.8888888888888888,
              "#fdca26"
             ],
             [
              1,
              "#f0f921"
             ]
            ],
            "type": "contour"
           }
          ],
          "contourcarpet": [
           {
            "colorbar": {
             "outlinewidth": 0,
             "ticks": ""
            },
            "type": "contourcarpet"
           }
          ],
          "heatmap": [
           {
            "colorbar": {
             "outlinewidth": 0,
             "ticks": ""
            },
            "colorscale": [
             [
              0,
              "#0d0887"
             ],
             [
              0.1111111111111111,
              "#46039f"
             ],
             [
              0.2222222222222222,
              "#7201a8"
             ],
             [
              0.3333333333333333,
              "#9c179e"
             ],
             [
              0.4444444444444444,
              "#bd3786"
             ],
             [
              0.5555555555555556,
              "#d8576b"
             ],
             [
              0.6666666666666666,
              "#ed7953"
             ],
             [
              0.7777777777777778,
              "#fb9f3a"
             ],
             [
              0.8888888888888888,
              "#fdca26"
             ],
             [
              1,
              "#f0f921"
             ]
            ],
            "type": "heatmap"
           }
          ],
          "heatmapgl": [
           {
            "colorbar": {
             "outlinewidth": 0,
             "ticks": ""
            },
            "colorscale": [
             [
              0,
              "#0d0887"
             ],
             [
              0.1111111111111111,
              "#46039f"
             ],
             [
              0.2222222222222222,
              "#7201a8"
             ],
             [
              0.3333333333333333,
              "#9c179e"
             ],
             [
              0.4444444444444444,
              "#bd3786"
             ],
             [
              0.5555555555555556,
              "#d8576b"
             ],
             [
              0.6666666666666666,
              "#ed7953"
             ],
             [
              0.7777777777777778,
              "#fb9f3a"
             ],
             [
              0.8888888888888888,
              "#fdca26"
             ],
             [
              1,
              "#f0f921"
             ]
            ],
            "type": "heatmapgl"
           }
          ],
          "histogram": [
           {
            "marker": {
             "pattern": {
              "fillmode": "overlay",
              "size": 10,
              "solidity": 0.2
             }
            },
            "type": "histogram"
           }
          ],
          "histogram2d": [
           {
            "colorbar": {
             "outlinewidth": 0,
             "ticks": ""
            },
            "colorscale": [
             [
              0,
              "#0d0887"
             ],
             [
              0.1111111111111111,
              "#46039f"
             ],
             [
              0.2222222222222222,
              "#7201a8"
             ],
             [
              0.3333333333333333,
              "#9c179e"
             ],
             [
              0.4444444444444444,
              "#bd3786"
             ],
             [
              0.5555555555555556,
              "#d8576b"
             ],
             [
              0.6666666666666666,
              "#ed7953"
             ],
             [
              0.7777777777777778,
              "#fb9f3a"
             ],
             [
              0.8888888888888888,
              "#fdca26"
             ],
             [
              1,
              "#f0f921"
             ]
            ],
            "type": "histogram2d"
           }
          ],
          "histogram2dcontour": [
           {
            "colorbar": {
             "outlinewidth": 0,
             "ticks": ""
            },
            "colorscale": [
             [
              0,
              "#0d0887"
             ],
             [
              0.1111111111111111,
              "#46039f"
             ],
             [
              0.2222222222222222,
              "#7201a8"
             ],
             [
              0.3333333333333333,
              "#9c179e"
             ],
             [
              0.4444444444444444,
              "#bd3786"
             ],
             [
              0.5555555555555556,
              "#d8576b"
             ],
             [
              0.6666666666666666,
              "#ed7953"
             ],
             [
              0.7777777777777778,
              "#fb9f3a"
             ],
             [
              0.8888888888888888,
              "#fdca26"
             ],
             [
              1,
              "#f0f921"
             ]
            ],
            "type": "histogram2dcontour"
           }
          ],
          "mesh3d": [
           {
            "colorbar": {
             "outlinewidth": 0,
             "ticks": ""
            },
            "type": "mesh3d"
           }
          ],
          "parcoords": [
           {
            "line": {
             "colorbar": {
              "outlinewidth": 0,
              "ticks": ""
             }
            },
            "type": "parcoords"
           }
          ],
          "pie": [
           {
            "automargin": true,
            "type": "pie"
           }
          ],
          "scatter": [
           {
            "fillpattern": {
             "fillmode": "overlay",
             "size": 10,
             "solidity": 0.2
            },
            "type": "scatter"
           }
          ],
          "scatter3d": [
           {
            "line": {
             "colorbar": {
              "outlinewidth": 0,
              "ticks": ""
             }
            },
            "marker": {
             "colorbar": {
              "outlinewidth": 0,
              "ticks": ""
             }
            },
            "type": "scatter3d"
           }
          ],
          "scattercarpet": [
           {
            "marker": {
             "colorbar": {
              "outlinewidth": 0,
              "ticks": ""
             }
            },
            "type": "scattercarpet"
           }
          ],
          "scattergeo": [
           {
            "marker": {
             "colorbar": {
              "outlinewidth": 0,
              "ticks": ""
             }
            },
            "type": "scattergeo"
           }
          ],
          "scattergl": [
           {
            "marker": {
             "colorbar": {
              "outlinewidth": 0,
              "ticks": ""
             }
            },
            "type": "scattergl"
           }
          ],
          "scattermapbox": [
           {
            "marker": {
             "colorbar": {
              "outlinewidth": 0,
              "ticks": ""
             }
            },
            "type": "scattermapbox"
           }
          ],
          "scatterpolar": [
           {
            "marker": {
             "colorbar": {
              "outlinewidth": 0,
              "ticks": ""
             }
            },
            "type": "scatterpolar"
           }
          ],
          "scatterpolargl": [
           {
            "marker": {
             "colorbar": {
              "outlinewidth": 0,
              "ticks": ""
             }
            },
            "type": "scatterpolargl"
           }
          ],
          "scatterternary": [
           {
            "marker": {
             "colorbar": {
              "outlinewidth": 0,
              "ticks": ""
             }
            },
            "type": "scatterternary"
           }
          ],
          "surface": [
           {
            "colorbar": {
             "outlinewidth": 0,
             "ticks": ""
            },
            "colorscale": [
             [
              0,
              "#0d0887"
             ],
             [
              0.1111111111111111,
              "#46039f"
             ],
             [
              0.2222222222222222,
              "#7201a8"
             ],
             [
              0.3333333333333333,
              "#9c179e"
             ],
             [
              0.4444444444444444,
              "#bd3786"
             ],
             [
              0.5555555555555556,
              "#d8576b"
             ],
             [
              0.6666666666666666,
              "#ed7953"
             ],
             [
              0.7777777777777778,
              "#fb9f3a"
             ],
             [
              0.8888888888888888,
              "#fdca26"
             ],
             [
              1,
              "#f0f921"
             ]
            ],
            "type": "surface"
           }
          ],
          "table": [
           {
            "cells": {
             "fill": {
              "color": "#EBF0F8"
             },
             "line": {
              "color": "white"
             }
            },
            "header": {
             "fill": {
              "color": "#C8D4E3"
             },
             "line": {
              "color": "white"
             }
            },
            "type": "table"
           }
          ]
         },
         "layout": {
          "annotationdefaults": {
           "arrowcolor": "#2a3f5f",
           "arrowhead": 0,
           "arrowwidth": 1
          },
          "autotypenumbers": "strict",
          "coloraxis": {
           "colorbar": {
            "outlinewidth": 0,
            "ticks": ""
           }
          },
          "colorscale": {
           "diverging": [
            [
             0,
             "#8e0152"
            ],
            [
             0.1,
             "#c51b7d"
            ],
            [
             0.2,
             "#de77ae"
            ],
            [
             0.3,
             "#f1b6da"
            ],
            [
             0.4,
             "#fde0ef"
            ],
            [
             0.5,
             "#f7f7f7"
            ],
            [
             0.6,
             "#e6f5d0"
            ],
            [
             0.7,
             "#b8e186"
            ],
            [
             0.8,
             "#7fbc41"
            ],
            [
             0.9,
             "#4d9221"
            ],
            [
             1,
             "#276419"
            ]
           ],
           "sequential": [
            [
             0,
             "#0d0887"
            ],
            [
             0.1111111111111111,
             "#46039f"
            ],
            [
             0.2222222222222222,
             "#7201a8"
            ],
            [
             0.3333333333333333,
             "#9c179e"
            ],
            [
             0.4444444444444444,
             "#bd3786"
            ],
            [
             0.5555555555555556,
             "#d8576b"
            ],
            [
             0.6666666666666666,
             "#ed7953"
            ],
            [
             0.7777777777777778,
             "#fb9f3a"
            ],
            [
             0.8888888888888888,
             "#fdca26"
            ],
            [
             1,
             "#f0f921"
            ]
           ],
           "sequentialminus": [
            [
             0,
             "#0d0887"
            ],
            [
             0.1111111111111111,
             "#46039f"
            ],
            [
             0.2222222222222222,
             "#7201a8"
            ],
            [
             0.3333333333333333,
             "#9c179e"
            ],
            [
             0.4444444444444444,
             "#bd3786"
            ],
            [
             0.5555555555555556,
             "#d8576b"
            ],
            [
             0.6666666666666666,
             "#ed7953"
            ],
            [
             0.7777777777777778,
             "#fb9f3a"
            ],
            [
             0.8888888888888888,
             "#fdca26"
            ],
            [
             1,
             "#f0f921"
            ]
           ]
          },
          "colorway": [
           "#636efa",
           "#EF553B",
           "#00cc96",
           "#ab63fa",
           "#FFA15A",
           "#19d3f3",
           "#FF6692",
           "#B6E880",
           "#FF97FF",
           "#FECB52"
          ],
          "font": {
           "color": "#2a3f5f"
          },
          "geo": {
           "bgcolor": "white",
           "lakecolor": "white",
           "landcolor": "#E5ECF6",
           "showlakes": true,
           "showland": true,
           "subunitcolor": "white"
          },
          "hoverlabel": {
           "align": "left"
          },
          "hovermode": "closest",
          "mapbox": {
           "style": "light"
          },
          "paper_bgcolor": "white",
          "plot_bgcolor": "#E5ECF6",
          "polar": {
           "angularaxis": {
            "gridcolor": "white",
            "linecolor": "white",
            "ticks": ""
           },
           "bgcolor": "#E5ECF6",
           "radialaxis": {
            "gridcolor": "white",
            "linecolor": "white",
            "ticks": ""
           }
          },
          "scene": {
           "xaxis": {
            "backgroundcolor": "#E5ECF6",
            "gridcolor": "white",
            "gridwidth": 2,
            "linecolor": "white",
            "showbackground": true,
            "ticks": "",
            "zerolinecolor": "white"
           },
           "yaxis": {
            "backgroundcolor": "#E5ECF6",
            "gridcolor": "white",
            "gridwidth": 2,
            "linecolor": "white",
            "showbackground": true,
            "ticks": "",
            "zerolinecolor": "white"
           },
           "zaxis": {
            "backgroundcolor": "#E5ECF6",
            "gridcolor": "white",
            "gridwidth": 2,
            "linecolor": "white",
            "showbackground": true,
            "ticks": "",
            "zerolinecolor": "white"
           }
          },
          "shapedefaults": {
           "line": {
            "color": "#2a3f5f"
           }
          },
          "ternary": {
           "aaxis": {
            "gridcolor": "white",
            "linecolor": "white",
            "ticks": ""
           },
           "baxis": {
            "gridcolor": "white",
            "linecolor": "white",
            "ticks": ""
           },
           "bgcolor": "#E5ECF6",
           "caxis": {
            "gridcolor": "white",
            "linecolor": "white",
            "ticks": ""
           }
          },
          "title": {
           "x": 0.05
          },
          "xaxis": {
           "automargin": true,
           "gridcolor": "white",
           "linecolor": "white",
           "ticks": "",
           "title": {
            "standoff": 15
           },
           "zerolinecolor": "white",
           "zerolinewidth": 2
          },
          "yaxis": {
           "automargin": true,
           "gridcolor": "white",
           "linecolor": "white",
           "ticks": "",
           "title": {
            "standoff": 15
           },
           "zerolinecolor": "white",
           "zerolinewidth": 2
          }
         }
        },
        "title": {
         "text": "Label: Abomasnow"
        },
        "width": 500,
        "xaxis": {
         "anchor": "y",
         "domain": [
          0,
          1
         ],
         "showgrid": false,
         "showticklabels": false,
         "visible": false,
         "zeroline": false
        },
        "yaxis": {
         "anchor": "x",
         "domain": [
          0,
          1
         ],
         "showgrid": false,
         "showticklabels": false,
         "visible": false,
         "zeroline": false
        }
       }
      }
     },
     "metadata": {},
     "output_type": "display_data"
    },
    {
     "data": {
      "application/vnd.plotly.v1+json": {
       "config": {
        "plotlyServerURL": "https://plot.ly"
       },
       "data": [
        {
         "hovertemplate": "x: %{x}<br>y: %{y}<br>color: [%{z[0]}, %{z[1]}, %{z[2]}]<extra></extra>",
         "name": "0",
         "source": "data:image/png;base64,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",
         "type": "image",
         "xaxis": "x",
         "yaxis": "y"
        }
       ],
       "layout": {
        "height": 350,
        "margin": {
         "l": 0,
         "t": 60
        },
        "shapes": [
         {
          "line": {
           "color": "black",
           "width": 2
          },
          "type": "rect",
          "x0": 0,
          "x1": 96,
          "xref": "x",
          "y0": 0,
          "y1": 96,
          "yref": "y"
         }
        ],
        "template": {
         "data": {
          "bar": [
           {
            "error_x": {
             "color": "#2a3f5f"
            },
            "error_y": {
             "color": "#2a3f5f"
            },
            "marker": {
             "line": {
              "color": "#E5ECF6",
              "width": 0.5
             },
             "pattern": {
              "fillmode": "overlay",
              "size": 10,
              "solidity": 0.2
             }
            },
            "type": "bar"
           }
          ],
          "barpolar": [
           {
            "marker": {
             "line": {
              "color": "#E5ECF6",
              "width": 0.5
             },
             "pattern": {
              "fillmode": "overlay",
              "size": 10,
              "solidity": 0.2
             }
            },
            "type": "barpolar"
           }
          ],
          "carpet": [
           {
            "aaxis": {
             "endlinecolor": "#2a3f5f",
             "gridcolor": "white",
             "linecolor": "white",
             "minorgridcolor": "white",
             "startlinecolor": "#2a3f5f"
            },
            "baxis": {
             "endlinecolor": "#2a3f5f",
             "gridcolor": "white",
             "linecolor": "white",
             "minorgridcolor": "white",
             "startlinecolor": "#2a3f5f"
            },
            "type": "carpet"
           }
          ],
          "choropleth": [
           {
            "colorbar": {
             "outlinewidth": 0,
             "ticks": ""
            },
            "type": "choropleth"
           }
          ],
          "contour": [
           {
            "colorbar": {
             "outlinewidth": 0,
             "ticks": ""
            },
            "colorscale": [
             [
              0,
              "#0d0887"
             ],
             [
              0.1111111111111111,
              "#46039f"
             ],
             [
              0.2222222222222222,
              "#7201a8"
             ],
             [
              0.3333333333333333,
              "#9c179e"
             ],
             [
              0.4444444444444444,
              "#bd3786"
             ],
             [
              0.5555555555555556,
              "#d8576b"
             ],
             [
              0.6666666666666666,
              "#ed7953"
             ],
             [
              0.7777777777777778,
              "#fb9f3a"
             ],
             [
              0.8888888888888888,
              "#fdca26"
             ],
             [
              1,
              "#f0f921"
             ]
            ],
            "type": "contour"
           }
          ],
          "contourcarpet": [
           {
            "colorbar": {
             "outlinewidth": 0,
             "ticks": ""
            },
            "type": "contourcarpet"
           }
          ],
          "heatmap": [
           {
            "colorbar": {
             "outlinewidth": 0,
             "ticks": ""
            },
            "colorscale": [
             [
              0,
              "#0d0887"
             ],
             [
              0.1111111111111111,
              "#46039f"
             ],
             [
              0.2222222222222222,
              "#7201a8"
             ],
             [
              0.3333333333333333,
              "#9c179e"
             ],
             [
              0.4444444444444444,
              "#bd3786"
             ],
             [
              0.5555555555555556,
              "#d8576b"
             ],
             [
              0.6666666666666666,
              "#ed7953"
             ],
             [
              0.7777777777777778,
              "#fb9f3a"
             ],
             [
              0.8888888888888888,
              "#fdca26"
             ],
             [
              1,
              "#f0f921"
             ]
            ],
            "type": "heatmap"
           }
          ],
          "heatmapgl": [
           {
            "colorbar": {
             "outlinewidth": 0,
             "ticks": ""
            },
            "colorscale": [
             [
              0,
              "#0d0887"
             ],
             [
              0.1111111111111111,
              "#46039f"
             ],
             [
              0.2222222222222222,
              "#7201a8"
             ],
             [
              0.3333333333333333,
              "#9c179e"
             ],
             [
              0.4444444444444444,
              "#bd3786"
             ],
             [
              0.5555555555555556,
              "#d8576b"
             ],
             [
              0.6666666666666666,
              "#ed7953"
             ],
             [
              0.7777777777777778,
              "#fb9f3a"
             ],
             [
              0.8888888888888888,
              "#fdca26"
             ],
             [
              1,
              "#f0f921"
             ]
            ],
            "type": "heatmapgl"
           }
          ],
          "histogram": [
           {
            "marker": {
             "pattern": {
              "fillmode": "overlay",
              "size": 10,
              "solidity": 0.2
             }
            },
            "type": "histogram"
           }
          ],
          "histogram2d": [
           {
            "colorbar": {
             "outlinewidth": 0,
             "ticks": ""
            },
            "colorscale": [
             [
              0,
              "#0d0887"
             ],
             [
              0.1111111111111111,
              "#46039f"
             ],
             [
              0.2222222222222222,
              "#7201a8"
             ],
             [
              0.3333333333333333,
              "#9c179e"
             ],
             [
              0.4444444444444444,
              "#bd3786"
             ],
             [
              0.5555555555555556,
              "#d8576b"
             ],
             [
              0.6666666666666666,
              "#ed7953"
             ],
             [
              0.7777777777777778,
              "#fb9f3a"
             ],
             [
              0.8888888888888888,
              "#fdca26"
             ],
             [
              1,
              "#f0f921"
             ]
            ],
            "type": "histogram2d"
           }
          ],
          "histogram2dcontour": [
           {
            "colorbar": {
             "outlinewidth": 0,
             "ticks": ""
            },
            "colorscale": [
             [
              0,
              "#0d0887"
             ],
             [
              0.1111111111111111,
              "#46039f"
             ],
             [
              0.2222222222222222,
              "#7201a8"
             ],
             [
              0.3333333333333333,
              "#9c179e"
             ],
             [
              0.4444444444444444,
              "#bd3786"
             ],
             [
              0.5555555555555556,
              "#d8576b"
             ],
             [
              0.6666666666666666,
              "#ed7953"
             ],
             [
              0.7777777777777778,
              "#fb9f3a"
             ],
             [
              0.8888888888888888,
              "#fdca26"
             ],
             [
              1,
              "#f0f921"
             ]
            ],
            "type": "histogram2dcontour"
           }
          ],
          "mesh3d": [
           {
            "colorbar": {
             "outlinewidth": 0,
             "ticks": ""
            },
            "type": "mesh3d"
           }
          ],
          "parcoords": [
           {
            "line": {
             "colorbar": {
              "outlinewidth": 0,
              "ticks": ""
             }
            },
            "type": "parcoords"
           }
          ],
          "pie": [
           {
            "automargin": true,
            "type": "pie"
           }
          ],
          "scatter": [
           {
            "fillpattern": {
             "fillmode": "overlay",
             "size": 10,
             "solidity": 0.2
            },
            "type": "scatter"
           }
          ],
          "scatter3d": [
           {
            "line": {
             "colorbar": {
              "outlinewidth": 0,
              "ticks": ""
             }
            },
            "marker": {
             "colorbar": {
              "outlinewidth": 0,
              "ticks": ""
             }
            },
            "type": "scatter3d"
           }
          ],
          "scattercarpet": [
           {
            "marker": {
             "colorbar": {
              "outlinewidth": 0,
              "ticks": ""
             }
            },
            "type": "scattercarpet"
           }
          ],
          "scattergeo": [
           {
            "marker": {
             "colorbar": {
              "outlinewidth": 0,
              "ticks": ""
             }
            },
            "type": "scattergeo"
           }
          ],
          "scattergl": [
           {
            "marker": {
             "colorbar": {
              "outlinewidth": 0,
              "ticks": ""
             }
            },
            "type": "scattergl"
           }
          ],
          "scattermapbox": [
           {
            "marker": {
             "colorbar": {
              "outlinewidth": 0,
              "ticks": ""
             }
            },
            "type": "scattermapbox"
           }
          ],
          "scatterpolar": [
           {
            "marker": {
             "colorbar": {
              "outlinewidth": 0,
              "ticks": ""
             }
            },
            "type": "scatterpolar"
           }
          ],
          "scatterpolargl": [
           {
            "marker": {
             "colorbar": {
              "outlinewidth": 0,
              "ticks": ""
             }
            },
            "type": "scatterpolargl"
           }
          ],
          "scatterternary": [
           {
            "marker": {
             "colorbar": {
              "outlinewidth": 0,
              "ticks": ""
             }
            },
            "type": "scatterternary"
           }
          ],
          "surface": [
           {
            "colorbar": {
             "outlinewidth": 0,
             "ticks": ""
            },
            "colorscale": [
             [
              0,
              "#0d0887"
             ],
             [
              0.1111111111111111,
              "#46039f"
             ],
             [
              0.2222222222222222,
              "#7201a8"
             ],
             [
              0.3333333333333333,
              "#9c179e"
             ],
             [
              0.4444444444444444,
              "#bd3786"
             ],
             [
              0.5555555555555556,
              "#d8576b"
             ],
             [
              0.6666666666666666,
              "#ed7953"
             ],
             [
              0.7777777777777778,
              "#fb9f3a"
             ],
             [
              0.8888888888888888,
              "#fdca26"
             ],
             [
              1,
              "#f0f921"
             ]
            ],
            "type": "surface"
           }
          ],
          "table": [
           {
            "cells": {
             "fill": {
              "color": "#EBF0F8"
             },
             "line": {
              "color": "white"
             }
            },
            "header": {
             "fill": {
              "color": "#C8D4E3"
             },
             "line": {
              "color": "white"
             }
            },
            "type": "table"
           }
          ]
         },
         "layout": {
          "annotationdefaults": {
           "arrowcolor": "#2a3f5f",
           "arrowhead": 0,
           "arrowwidth": 1
          },
          "autotypenumbers": "strict",
          "coloraxis": {
           "colorbar": {
            "outlinewidth": 0,
            "ticks": ""
           }
          },
          "colorscale": {
           "diverging": [
            [
             0,
             "#8e0152"
            ],
            [
             0.1,
             "#c51b7d"
            ],
            [
             0.2,
             "#de77ae"
            ],
            [
             0.3,
             "#f1b6da"
            ],
            [
             0.4,
             "#fde0ef"
            ],
            [
             0.5,
             "#f7f7f7"
            ],
            [
             0.6,
             "#e6f5d0"
            ],
            [
             0.7,
             "#b8e186"
            ],
            [
             0.8,
             "#7fbc41"
            ],
            [
             0.9,
             "#4d9221"
            ],
            [
             1,
             "#276419"
            ]
           ],
           "sequential": [
            [
             0,
             "#0d0887"
            ],
            [
             0.1111111111111111,
             "#46039f"
            ],
            [
             0.2222222222222222,
             "#7201a8"
            ],
            [
             0.3333333333333333,
             "#9c179e"
            ],
            [
             0.4444444444444444,
             "#bd3786"
            ],
            [
             0.5555555555555556,
             "#d8576b"
            ],
            [
             0.6666666666666666,
             "#ed7953"
            ],
            [
             0.7777777777777778,
             "#fb9f3a"
            ],
            [
             0.8888888888888888,
             "#fdca26"
            ],
            [
             1,
             "#f0f921"
            ]
           ],
           "sequentialminus": [
            [
             0,
             "#0d0887"
            ],
            [
             0.1111111111111111,
             "#46039f"
            ],
            [
             0.2222222222222222,
             "#7201a8"
            ],
            [
             0.3333333333333333,
             "#9c179e"
            ],
            [
             0.4444444444444444,
             "#bd3786"
            ],
            [
             0.5555555555555556,
             "#d8576b"
            ],
            [
             0.6666666666666666,
             "#ed7953"
            ],
            [
             0.7777777777777778,
             "#fb9f3a"
            ],
            [
             0.8888888888888888,
             "#fdca26"
            ],
            [
             1,
             "#f0f921"
            ]
           ]
          },
          "colorway": [
           "#636efa",
           "#EF553B",
           "#00cc96",
           "#ab63fa",
           "#FFA15A",
           "#19d3f3",
           "#FF6692",
           "#B6E880",
           "#FF97FF",
           "#FECB52"
          ],
          "font": {
           "color": "#2a3f5f"
          },
          "geo": {
           "bgcolor": "white",
           "lakecolor": "white",
           "landcolor": "#E5ECF6",
           "showlakes": true,
           "showland": true,
           "subunitcolor": "white"
          },
          "hoverlabel": {
           "align": "left"
          },
          "hovermode": "closest",
          "mapbox": {
           "style": "light"
          },
          "paper_bgcolor": "white",
          "plot_bgcolor": "#E5ECF6",
          "polar": {
           "angularaxis": {
            "gridcolor": "white",
            "linecolor": "white",
            "ticks": ""
           },
           "bgcolor": "#E5ECF6",
           "radialaxis": {
            "gridcolor": "white",
            "linecolor": "white",
            "ticks": ""
           }
          },
          "scene": {
           "xaxis": {
            "backgroundcolor": "#E5ECF6",
            "gridcolor": "white",
            "gridwidth": 2,
            "linecolor": "white",
            "showbackground": true,
            "ticks": "",
            "zerolinecolor": "white"
           },
           "yaxis": {
            "backgroundcolor": "#E5ECF6",
            "gridcolor": "white",
            "gridwidth": 2,
            "linecolor": "white",
            "showbackground": true,
            "ticks": "",
            "zerolinecolor": "white"
           },
           "zaxis": {
            "backgroundcolor": "#E5ECF6",
            "gridcolor": "white",
            "gridwidth": 2,
            "linecolor": "white",
            "showbackground": true,
            "ticks": "",
            "zerolinecolor": "white"
           }
          },
          "shapedefaults": {
           "line": {
            "color": "#2a3f5f"
           }
          },
          "ternary": {
           "aaxis": {
            "gridcolor": "white",
            "linecolor": "white",
            "ticks": ""
           },
           "baxis": {
            "gridcolor": "white",
            "linecolor": "white",
            "ticks": ""
           },
           "bgcolor": "#E5ECF6",
           "caxis": {
            "gridcolor": "white",
            "linecolor": "white",
            "ticks": ""
           }
          },
          "title": {
           "x": 0.05
          },
          "xaxis": {
           "automargin": true,
           "gridcolor": "white",
           "linecolor": "white",
           "ticks": "",
           "title": {
            "standoff": 15
           },
           "zerolinecolor": "white",
           "zerolinewidth": 2
          },
          "yaxis": {
           "automargin": true,
           "gridcolor": "white",
           "linecolor": "white",
           "ticks": "",
           "title": {
            "standoff": 15
           },
           "zerolinecolor": "white",
           "zerolinewidth": 2
          }
         }
        },
        "title": {
         "text": "Label: Abomasnow"
        },
        "width": 500,
        "xaxis": {
         "anchor": "y",
         "domain": [
          0,
          1
         ],
         "showgrid": false,
         "showticklabels": false,
         "visible": false,
         "zeroline": false
        },
        "yaxis": {
         "anchor": "x",
         "domain": [
          0,
          1
         ],
         "showgrid": false,
         "showticklabels": false,
         "visible": false,
         "zeroline": false
        }
       }
      }
     },
     "metadata": {},
     "output_type": "display_data"
    }
   ],
   "source": [
    "plot_n_images(train_ds, 5, class_names, GAN=True, size=width)"
   ]
  },
  {
   "attachments": {},
   "cell_type": "markdown",
   "metadata": {},
   "source": [
    "## CREATION DES MODELES"
   ]
  },
  {
   "cell_type": "code",
   "execution_count": 13,
   "metadata": {},
   "outputs": [],
   "source": [
    "# define the discriminator model\n",
    "def define_cdiscriminator(input_shape, num_classes):\n",
    "    img_input = tf.keras.layers.Input(shape=input_shape)\n",
    "    label_input = tf.keras.layers.Input(shape=(num_classes,))\n",
    "    \n",
    "    # image branch\n",
    "    layer = tf.keras.layers.Conv2D(64, (3, 3), padding='same')(img_input)\n",
    "    layer = tf.keras.layers.LeakyReLU(alpha=0.2)(layer)\n",
    "    layer = tf.keras.layers.Conv2D(128, (3, 3), strides=(2, 2), padding='same')(layer)\n",
    "    layer = tf.keras.layers.LeakyReLU(alpha=0.2)(layer)\n",
    "    layer = tf.keras.layers.Conv2D(128, (3, 3), strides=(2, 2), padding='same')(layer)\n",
    "    layer = tf.keras.layers.LeakyReLU(alpha=0.2)(layer)\n",
    "    layer = tf.keras.layers.Conv2D(256, (3, 3), strides=(2, 2), padding='same')(layer)\n",
    "    layer = tf.keras.layers.LeakyReLU(alpha=0.2)(layer)\n",
    "    layer = tf.keras.layers.Conv2D(256, (3, 3), strides=(2, 2), padding='same')(layer)\n",
    "    layer = tf.keras.layers.LeakyReLU(alpha=0.2)(layer)\n",
    "    layer = tf.keras.layers.Flatten()(layer)\n",
    "\n",
    "    # label branch\n",
    "    label_layer = tf.keras.layers.Dense(64)(label_input)\n",
    "    label_layer = tf.keras.layers.LeakyReLU(alpha=0.2)(label_layer)\n",
    "    label_layer = tf.keras.layers.Dense(128)(label_layer)\n",
    "    label_layer = tf.keras.layers.LeakyReLU(alpha=0.2)(label_layer)\n",
    "    label_layer = tf.keras.layers.Dense(256)(label_layer)\n",
    "    label_layer = tf.keras.layers.LeakyReLU(alpha=0.2)(label_layer)\n",
    "    label_layer = tf.keras.layers.Dense(256)(label_layer)\n",
    "    label_layer = tf.keras.layers.LeakyReLU(alpha=0.2)(label_layer)\n",
    "    label_layer = tf.keras.layers.Flatten()(label_layer)\n",
    "\n",
    "    # concatenate image and label branches\n",
    "    layer = tf.keras.layers.concatenate([layer, label_layer])\n",
    "    layer = tf.keras.layers.Dropout(0.4)(layer)\n",
    "    layer = tf.keras.layers.Dense(1, activation='sigmoid')(layer)\n",
    "    \n",
    "    # define the model\n",
    "    model = tf.keras.models.Model(inputs=[img_input, label_input], outputs=layer)\n",
    "\n",
    "    # compile the model\n",
    "    opt = tf.keras.optimizers.Adam(learning_rate=0.0002, beta_1=0.5)\n",
    "    model.compile(loss='binary_crossentropy', optimizer=opt, metrics=['accuracy'])\n",
    "    \n",
    "    return model\n",
    "\n",
    "    \n",
    "# define the standalone generator model\n",
    "def define_cgenerator(latent_dim, num_classes):\n",
    "    # Define the noise vector input\n",
    "    in_lat = tf.keras.layers.Input(shape=(latent_dim,))\n",
    "    # Define the class vector input\n",
    "    in_class = tf.keras.layers.Input(shape=(num_classes,))\n",
    "    # Concatenate the noise and class vectors\n",
    "    merge = tf.keras.layers.Concatenate()([in_lat, in_class])\n",
    "    # Project the concatenated vector to a larger dimension\n",
    "    n = 128\n",
    "    size = int(width/16)\n",
    "    n_nodes = n * size * size\n",
    "    dense = tf.keras.layers.Dense(n_nodes)(merge)\n",
    "    # Reshape the dense layer output\n",
    "    reshaped = tf.keras.layers.Reshape((size, size, n))(dense)\n",
    "    # Upsample the feature maps\n",
    "    upsampled = tf.keras.layers.Conv2DTranspose(256, (4,4), strides=(2,2), padding='same')(reshaped)\n",
    "    upsampled = tf.keras.layers.LeakyReLU(alpha=0.2)(upsampled)\n",
    "    upsampled = tf.keras.layers.Conv2DTranspose(256, (4,4), strides=(2,2), padding='same')(upsampled)\n",
    "    upsampled = tf.keras.layers.LeakyReLU(alpha=0.2)(upsampled)\n",
    "    upsampled = tf.keras.layers.Conv2DTranspose(128, (4,4), strides=(2,2), padding='same')(upsampled)\n",
    "    upsampled = tf.keras.layers.LeakyReLU(alpha=0.2)(upsampled)\n",
    "    upsampled = tf.keras.layers.Conv2DTranspose(128, (4,4), strides=(2,2), padding='same')(upsampled)\n",
    "    upsampled = tf.keras.layers.LeakyReLU(alpha=0.2)(upsampled)\n",
    "    # Output layer\n",
    "    out_layer = tf.keras.layers.Conv2D(3, (3,3), activation='tanh', padding='same')(upsampled)\n",
    "    # Define the model\n",
    "    model = tf.keras.models.Model([in_lat, in_class], out_layer)\n",
    "    return model"
   ]
  },
  {
   "cell_type": "code",
   "execution_count": 14,
   "metadata": {},
   "outputs": [],
   "source": [
    "def define_cgan(g_model, d_model):\n",
    "    d_model.trainable = False\n",
    "    gen_noise, gen_label = g_model.input\n",
    "    gen_output = g_model.output\n",
    "    gan_output = d_model([gen_output, gen_label])\n",
    "    model = tf.keras.Model([gen_noise, gen_label], gan_output)\n",
    "    opt = tf.keras.optimizers.Adam(learning_rate=0.0002, beta_1=0.5)\n",
    "    model.compile(loss='binary_crossentropy', optimizer=opt)\n",
    "    return model"
   ]
  },
  {
   "cell_type": "code",
   "execution_count": 16,
   "metadata": {},
   "outputs": [
    {
     "name": "stdout",
     "output_type": "stream",
     "text": [
      "Model: \"model_1\"\n",
      "__________________________________________________________________________________________________\n",
      " Layer (type)                   Output Shape         Param #     Connected to                     \n",
      "==================================================================================================\n",
      " input_3 (InputLayer)           [(None, 96, 96, 3)]  0           []                               \n",
      "                                                                                                  \n",
      " conv2d_5 (Conv2D)              (None, 96, 96, 64)   1792        ['input_3[0][0]']                \n",
      "                                                                                                  \n",
      " leaky_re_lu_9 (LeakyReLU)      (None, 96, 96, 64)   0           ['conv2d_5[0][0]']               \n",
      "                                                                                                  \n",
      " input_4 (InputLayer)           [(None, 18)]         0           []                               \n",
      "                                                                                                  \n",
      " conv2d_6 (Conv2D)              (None, 48, 48, 128)  73856       ['leaky_re_lu_9[0][0]']          \n",
      "                                                                                                  \n",
      " dense_5 (Dense)                (None, 64)           1216        ['input_4[0][0]']                \n",
      "                                                                                                  \n",
      " leaky_re_lu_10 (LeakyReLU)     (None, 48, 48, 128)  0           ['conv2d_6[0][0]']               \n",
      "                                                                                                  \n",
      " leaky_re_lu_14 (LeakyReLU)     (None, 64)           0           ['dense_5[0][0]']                \n",
      "                                                                                                  \n",
      " conv2d_7 (Conv2D)              (None, 24, 24, 128)  147584      ['leaky_re_lu_10[0][0]']         \n",
      "                                                                                                  \n",
      " dense_6 (Dense)                (None, 128)          8320        ['leaky_re_lu_14[0][0]']         \n",
      "                                                                                                  \n",
      " leaky_re_lu_11 (LeakyReLU)     (None, 24, 24, 128)  0           ['conv2d_7[0][0]']               \n",
      "                                                                                                  \n",
      " leaky_re_lu_15 (LeakyReLU)     (None, 128)          0           ['dense_6[0][0]']                \n",
      "                                                                                                  \n",
      " conv2d_8 (Conv2D)              (None, 12, 12, 256)  295168      ['leaky_re_lu_11[0][0]']         \n",
      "                                                                                                  \n",
      " dense_7 (Dense)                (None, 256)          33024       ['leaky_re_lu_15[0][0]']         \n",
      "                                                                                                  \n",
      " leaky_re_lu_12 (LeakyReLU)     (None, 12, 12, 256)  0           ['conv2d_8[0][0]']               \n",
      "                                                                                                  \n",
      " leaky_re_lu_16 (LeakyReLU)     (None, 256)          0           ['dense_7[0][0]']                \n",
      "                                                                                                  \n",
      " conv2d_9 (Conv2D)              (None, 6, 6, 256)    590080      ['leaky_re_lu_12[0][0]']         \n",
      "                                                                                                  \n",
      " dense_8 (Dense)                (None, 256)          65792       ['leaky_re_lu_16[0][0]']         \n",
      "                                                                                                  \n",
      " leaky_re_lu_13 (LeakyReLU)     (None, 6, 6, 256)    0           ['conv2d_9[0][0]']               \n",
      "                                                                                                  \n",
      " leaky_re_lu_17 (LeakyReLU)     (None, 256)          0           ['dense_8[0][0]']                \n",
      "                                                                                                  \n",
      " flatten_2 (Flatten)            (None, 9216)         0           ['leaky_re_lu_13[0][0]']         \n",
      "                                                                                                  \n",
      " flatten_3 (Flatten)            (None, 256)          0           ['leaky_re_lu_17[0][0]']         \n",
      "                                                                                                  \n",
      " concatenate_1 (Concatenate)    (None, 9472)         0           ['flatten_2[0][0]',              \n",
      "                                                                  'flatten_3[0][0]']              \n",
      "                                                                                                  \n",
      " dropout_1 (Dropout)            (None, 9472)         0           ['concatenate_1[0][0]']          \n",
      "                                                                                                  \n",
      " dense_9 (Dense)                (None, 1)            9473        ['dropout_1[0][0]']              \n",
      "                                                                                                  \n",
      "==================================================================================================\n",
      "Total params: 1,226,305\n",
      "Trainable params: 1,226,305\n",
      "Non-trainable params: 0\n",
      "__________________________________________________________________________________________________\n"
     ]
    }
   ],
   "source": [
    "# build and compile the discriminator\n",
    "cdiscriminator = define_cdiscriminator((width, height, 3), nb_types)\n",
    "cdiscriminator.summary()"
   ]
  },
  {
   "cell_type": "code",
   "execution_count": 17,
   "metadata": {},
   "outputs": [
    {
     "name": "stdout",
     "output_type": "stream",
     "text": [
      "Model: \"model_2\"\n",
      "__________________________________________________________________________________________________\n",
      " Layer (type)                   Output Shape         Param #     Connected to                     \n",
      "==================================================================================================\n",
      " input_5 (InputLayer)           [(None, 100)]        0           []                               \n",
      "                                                                                                  \n",
      " input_6 (InputLayer)           [(None, 18)]         0           []                               \n",
      "                                                                                                  \n",
      " concatenate_2 (Concatenate)    (None, 118)          0           ['input_5[0][0]',                \n",
      "                                                                  'input_6[0][0]']                \n",
      "                                                                                                  \n",
      " dense_10 (Dense)               (None, 4608)         548352      ['concatenate_2[0][0]']          \n",
      "                                                                                                  \n",
      " reshape (Reshape)              (None, 6, 6, 128)    0           ['dense_10[0][0]']               \n",
      "                                                                                                  \n",
      " conv2d_transpose (Conv2DTransp  (None, 12, 12, 256)  524544     ['reshape[0][0]']                \n",
      " ose)                                                                                             \n",
      "                                                                                                  \n",
      " leaky_re_lu_18 (LeakyReLU)     (None, 12, 12, 256)  0           ['conv2d_transpose[0][0]']       \n",
      "                                                                                                  \n",
      " conv2d_transpose_1 (Conv2DTran  (None, 24, 24, 256)  1048832    ['leaky_re_lu_18[0][0]']         \n",
      " spose)                                                                                           \n",
      "                                                                                                  \n",
      " leaky_re_lu_19 (LeakyReLU)     (None, 24, 24, 256)  0           ['conv2d_transpose_1[0][0]']     \n",
      "                                                                                                  \n",
      " conv2d_transpose_2 (Conv2DTran  (None, 48, 48, 128)  524416     ['leaky_re_lu_19[0][0]']         \n",
      " spose)                                                                                           \n",
      "                                                                                                  \n",
      " leaky_re_lu_20 (LeakyReLU)     (None, 48, 48, 128)  0           ['conv2d_transpose_2[0][0]']     \n",
      "                                                                                                  \n",
      " conv2d_transpose_3 (Conv2DTran  (None, 96, 96, 128)  262272     ['leaky_re_lu_20[0][0]']         \n",
      " spose)                                                                                           \n",
      "                                                                                                  \n",
      " leaky_re_lu_21 (LeakyReLU)     (None, 96, 96, 128)  0           ['conv2d_transpose_3[0][0]']     \n",
      "                                                                                                  \n",
      " conv2d_10 (Conv2D)             (None, 96, 96, 3)    3459        ['leaky_re_lu_21[0][0]']         \n",
      "                                                                                                  \n",
      "==================================================================================================\n",
      "Total params: 2,911,875\n",
      "Trainable params: 2,911,875\n",
      "Non-trainable params: 0\n",
      "__________________________________________________________________________________________________\n"
     ]
    }
   ],
   "source": [
    "# build the generator\n",
    "cgenerator = define_cgenerator(latent_dim, nb_types)\n",
    "cgenerator.summary()"
   ]
  },
  {
   "cell_type": "code",
   "execution_count": 18,
   "metadata": {},
   "outputs": [
    {
     "data": {
      "image/png": "[encoded data removed]",
      "text/plain": [
       "<IPython.core.display.Image object>"
      ]
     },
     "execution_count": 18,
     "metadata": {},
     "output_type": "execute_result"
    }
   ],
   "source": [
    "# build the gan\n",
    "cgan_model = define_cgan(cgenerator, cdiscriminator)\n",
    "tf.keras.utils.plot_model(cgan_model, show_shapes=True)"
   ]
  },
  {
   "cell_type": "code",
   "execution_count": 19,
   "metadata": {},
   "outputs": [],
   "source": [
    "def generate_fake_samples(g_model, latent_dim, n_samples, n_classes):\n",
    "    # generate points in latent space\n",
    "    noise_input = generate_latent_points(latent_dim, n_samples)\n",
    "    # generate random class labels\n",
    "    y_types = generate_class_labels(n_samples, n_classes)\n",
    "    # predict outputs\n",
    "    X = g_model.predict([noise_input, y_types], verbose=0)\n",
    "    # # create 'fake' class labels (0)\n",
    "    y_class = tf.zeros((n_samples, 1))\n",
    "    return X, y_types, y_class\n",
    "\n",
    "def generate_latent_points(latent_dim, n_samples):\n",
    "    # generate points in the latent space\n",
    "    x_input = tf.random.normal(shape=(n_samples, latent_dim))\n",
    "    return x_input\n",
    "\n",
    "def generate_class_labels(n_samples, n_classes):\n",
    "    class_labels = np.zeros((n_samples, n_classes))\n",
    "    for i in range(n_samples):\n",
    "        class_labels[i, np.random.randint(0, n_classes)] = 1\n",
    "        if np.random.random() > 0.5:\n",
    "            class_labels[i, np.random.randint(0, n_classes)] = 1\n",
    "    class_labels = tf.convert_to_tensor(class_labels, dtype=tf.float32)\n",
    "    # print(class_labels)\n",
    "    return class_labels\n",
    "\n",
    "def generate_real_samples(dataset, n_samples):\n",
    "    X, y_types, y_class = [], [], []\n",
    "    while len(X) < n_samples:\n",
    "        dataset.shuffle(100)\n",
    "        for x, label in dataset.take(5):\n",
    "            for i in range(len(x)):\n",
    "                X.append(x[i])\n",
    "                y_types.append(label[i][1:])\n",
    "                y_class.append(label[i][0])\n",
    "                if len(X) == n_samples:\n",
    "                    break\n",
    "            if len(X) == n_samples:\n",
    "                break\n",
    "    X = tf.stack(X)\n",
    "    y_types = tf.stack(y_types)\n",
    "    y_class = tf.reshape(tf.stack(y_class), (n_samples, 1))\n",
    "    return X, y_types, y_class"
   ]
  },
  {
   "cell_type": "code",
   "execution_count": 20,
   "metadata": {},
   "outputs": [],
   "source": [
    "def summarize_performance(epoch, g_model, d_model, dataset, latent_dim, n_samples=100):\n",
    "    # prepare real samples\n",
    "    X_real, y_real_types, y_real_class = generate_real_samples(dataset, n_samples)\n",
    "    # print(X_real.shape, y_real_types.shape, y_real_class.shape)\n",
    "    # evaluate discriminator on real examples\n",
    "    _, acc_real = d_model.evaluate([X_real, y_real_types], y_real_class, verbose=0)\n",
    "    # prepare fake examples\n",
    "    x_fake, y_fake_types, y_fake_class = generate_fake_samples(g_model, latent_dim, n_samples, nb_types)\n",
    "    # evaluate discriminator on fake examples\n",
    "    _, acc_fake = d_model.evaluate([x_fake, y_fake_types], y_fake_class, verbose=0)\n",
    "    # summarize discriminator performance\n",
    "    print('>Accuracy real: %.0f%%, fake: %.0f%%' % (acc_real*100, acc_fake*100))\n",
    "    # save plot\n",
    "    save_plot(x_fake, epoch)\n",
    "    # save the generator model tile file\n",
    "    filename = 'cgenerator_model_96_e%03d.h5' % (epoch+1)\n",
    "    g_model.save(filename)\n",
    "\n",
    "def save_plot(examples, epoch, n=10):\n",
    "    # plot images\n",
    "    for i in range(n * n):\n",
    "        # define subplot\n",
    "        plt.subplot(n, n, 1 + i)\n",
    "        # turn off axis\n",
    "        plt.axis('off')\n",
    "        # scale from [-1,1] to [0,1]\n",
    "        examples[i, :, :, :] = (examples[i, :, :, :] + 1) / 2.0\n",
    "        # plot raw pixel data\n",
    "        plt.imshow(examples[i, :, :, :])\n",
    "    # save plot to file\n",
    "    filename = 'cgenerated_plot_96_e%03d.png' % (epoch+1)\n",
    "    plt.savefig(filename)\n",
    "    plt.close()"
   ]
  },
  {
   "cell_type": "code",
   "execution_count": 21,
   "metadata": {},
   "outputs": [],
   "source": [
    "def train(g_model, d_model, gan_model, dataset, latent_dim, n_epochs=10, n_batch=64, resume_training=0):\n",
    "    bat_per_epo = int(dataset.cardinality())\n",
    "    # manually enumerate epochs\n",
    "    for i in range(n_epochs):\n",
    "        # enumerate batches over the training set\n",
    "        for j, batch in enumerate(dataset):\n",
    "            # get randomly selected 'real' samples\n",
    "            X_real, y_real_types, y_real_class = batch[0], batch[1][:, 1:], batch[1][:, 0]\n",
    "            half_batch = int(X_real.shape[0])\n",
    "            # generate 'fake' examples\n",
    "            X_fake, y_fake_types, y_fake_class = generate_fake_samples(g_model, latent_dim, half_batch, nb_types)\n",
    "            # create training set for the discriminator\n",
    "            y_real_class = tf.reshape(y_real_class, (half_batch, 1))\n",
    "            X, y_types, y_class = tf.concat([X_real, X_fake], axis=0), tf.concat([y_real_types, y_fake_types], axis=0), tf.concat([y_real_class, y_fake_class], axis=0)\n",
    "            # update discriminator model weights\n",
    "            d_loss, _ = d_model.train_on_batch([X, y_types], y_class)\n",
    "            # prepare points in latent space as input for the generator\n",
    "            X_gan, y_gan_types, y_gan_class = generate_latent_points(latent_dim, n_batch), generate_class_labels(n_batch, nb_types), tf.ones((n_batch, 1))\n",
    "            g_loss = gan_model.train_on_batch([X_gan, y_gan_types], y_gan_class)\n",
    "            # summarize loss on this batch\n",
    "            print('>%d, %d/%d, d=%.3f, g=%.3f' % (i+resume_training+1, j+1, bat_per_epo, d_loss, g_loss))\n",
    "        # evaluate the model performance, sometimes\n",
    "        if (i+resume_training) % 10 == 0:\n",
    "            summarize_performance(i+resume_training, g_model, d_model, dataset, latent_dim)\n",
    "            pass\n",
    "    # save the generator model\n",
    "    g_model.save('cgenerator_model_96_final.h5')\n",
    "    d_model.save('cdiscriminator_model_96_final.h5')"
   ]
  },
  {
   "cell_type": "code",
   "execution_count": 23,
   "metadata": {},
   "outputs": [],
   "source": [
    "# train model\n",
    "train(cgenerator, cdiscriminator, cgan_model, train_ds, latent_dim, n_epochs=11, resume_training=0)"
   ]
  },
  {
   "attachments": {},
   "cell_type": "markdown",
   "metadata": {},
   "source": [
    "## TESTING ZONE"
   ]
  },
  {
   "cell_type": "code",
   "execution_count": 41,
   "metadata": {},
   "outputs": [
    {
     "name": "stdout",
     "output_type": "stream",
     "text": [
      "WARNING:tensorflow:No training configuration found in the save file, so the model was *not* compiled. Compile it manually.\n",
      "WARNING:tensorflow:Error in loading the saved optimizer state. As a result, your model is starting with a freshly initialized optimizer.\n"
     ]
    }
   ],
   "source": [
    "try :\n",
    "    generator, discriminator = tf.keras.models.load_model('cgenerator_model_96_final.h5'), tf.keras.models.load_model('cdiscriminator_model_96_final.h5')\n",
    "except:\n",
    "    generator, discriminator = tf.keras.models.load_model('cgenerator_model_150_96.h5'), tf.keras.models.load_model('cdiscriminator_model_150_96.h5')"
   ]
  },
  {
   "cell_type": "code",
   "execution_count": 46,
   "metadata": {},
   "outputs": [
    {
     "data": {
      "application/vnd.plotly.v1+json": {
       "config": {
        "plotlyServerURL": "https://plot.ly"
       },
       "data": [
        {
         "hovertemplate": "x: %{x}<br>y: %{y}<extra></extra>",
         "name": "0",
         "source": "data:image/png;base64,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",
         "type": "image",
         "xaxis": "x",
         "yaxis": "y"
        }
       ],
       "layout": {
        "annotations": [
         {
          "align": "left",
          "bgcolor": "#ff7f0e",
          "bordercolor": "#c7c7c7",
          "borderpad": 2,
          "borderwidth": 1,
          "font": {
           "color": "#ffffff",
           "family": "Courier New, monospace",
           "size": 12
          },
          "opacity": 0.8,
          "showarrow": false,
          "text": "real: 1%",
          "x": 1,
          "xref": "paper",
          "y": 1,
          "yref": "paper"
         }
        ],
        "height": 350,
        "images": [
         {
          "layer": "below",
          "sizex": 0.3,
          "sizey": 0.3,
          "source": "images/final/real/1.png",
          "x": 1,
          "xref": "paper",
          "y": 1.1,
          "yref": "paper"
         }
        ],
        "margin": {
         "l": 0,
         "t": 60
        },
        "shapes": [
         {
          "line": {
           "color": "black",
           "width": 2
          },
          "type": "rect",
          "x0": 0,
          "x1": 96,
          "xref": "x",
          "y0": 0,
          "y1": 96,
          "yref": "y"
         }
        ],
        "template": {
         "data": {
          "bar": [
           {
            "error_x": {
             "color": "#2a3f5f"
            },
            "error_y": {
             "color": "#2a3f5f"
            },
            "marker": {
             "line": {
              "color": "#E5ECF6",
              "width": 0.5
             },
             "pattern": {
              "fillmode": "overlay",
              "size": 10,
              "solidity": 0.2
             }
            },
            "type": "bar"
           }
          ],
          "barpolar": [
           {
            "marker": {
             "line": {
              "color": "#E5ECF6",
              "width": 0.5
             },
             "pattern": {
              "fillmode": "overlay",
              "size": 10,
              "solidity": 0.2
             }
            },
            "type": "barpolar"
           }
          ],
          "carpet": [
           {
            "aaxis": {
             "endlinecolor": "#2a3f5f",
             "gridcolor": "white",
             "linecolor": "white",
             "minorgridcolor": "white",
             "startlinecolor": "#2a3f5f"
            },
            "baxis": {
             "endlinecolor": "#2a3f5f",
             "gridcolor": "white",
             "linecolor": "white",
             "minorgridcolor": "white",
             "startlinecolor": "#2a3f5f"
            },
            "type": "carpet"
           }
          ],
          "choropleth": [
           {
            "colorbar": {
             "outlinewidth": 0,
             "ticks": ""
            },
            "type": "choropleth"
           }
          ],
          "contour": [
           {
            "colorbar": {
             "outlinewidth": 0,
             "ticks": ""
            },
            "colorscale": [
             [
              0,
              "#0d0887"
             ],
             [
              0.1111111111111111,
              "#46039f"
             ],
             [
              0.2222222222222222,
              "#7201a8"
             ],
             [
              0.3333333333333333,
              "#9c179e"
             ],
             [
              0.4444444444444444,
              "#bd3786"
             ],
             [
              0.5555555555555556,
              "#d8576b"
             ],
             [
              0.6666666666666666,
              "#ed7953"
             ],
             [
              0.7777777777777778,
              "#fb9f3a"
             ],
             [
              0.8888888888888888,
              "#fdca26"
             ],
             [
              1,
              "#f0f921"
             ]
            ],
            "type": "contour"
           }
          ],
          "contourcarpet": [
           {
            "colorbar": {
             "outlinewidth": 0,
             "ticks": ""
            },
            "type": "contourcarpet"
           }
          ],
          "heatmap": [
           {
            "colorbar": {
             "outlinewidth": 0,
             "ticks": ""
            },
            "colorscale": [
             [
              0,
              "#0d0887"
             ],
             [
              0.1111111111111111,
              "#46039f"
             ],
             [
              0.2222222222222222,
              "#7201a8"
             ],
             [
              0.3333333333333333,
              "#9c179e"
             ],
             [
              0.4444444444444444,
              "#bd3786"
             ],
             [
              0.5555555555555556,
              "#d8576b"
             ],
             [
              0.6666666666666666,
              "#ed7953"
             ],
             [
              0.7777777777777778,
              "#fb9f3a"
             ],
             [
              0.8888888888888888,
              "#fdca26"
             ],
             [
              1,
              "#f0f921"
             ]
            ],
            "type": "heatmap"
           }
          ],
          "heatmapgl": [
           {
            "colorbar": {
             "outlinewidth": 0,
             "ticks": ""
            },
            "colorscale": [
             [
              0,
              "#0d0887"
             ],
             [
              0.1111111111111111,
              "#46039f"
             ],
             [
              0.2222222222222222,
              "#7201a8"
             ],
             [
              0.3333333333333333,
              "#9c179e"
             ],
             [
              0.4444444444444444,
              "#bd3786"
             ],
             [
              0.5555555555555556,
              "#d8576b"
             ],
             [
              0.6666666666666666,
              "#ed7953"
             ],
             [
              0.7777777777777778,
              "#fb9f3a"
             ],
             [
              0.8888888888888888,
              "#fdca26"
             ],
             [
              1,
              "#f0f921"
             ]
            ],
            "type": "heatmapgl"
           }
          ],
          "histogram": [
           {
            "marker": {
             "pattern": {
              "fillmode": "overlay",
              "size": 10,
              "solidity": 0.2
             }
            },
            "type": "histogram"
           }
          ],
          "histogram2d": [
           {
            "colorbar": {
             "outlinewidth": 0,
             "ticks": ""
            },
            "colorscale": [
             [
              0,
              "#0d0887"
             ],
             [
              0.1111111111111111,
              "#46039f"
             ],
             [
              0.2222222222222222,
              "#7201a8"
             ],
             [
              0.3333333333333333,
              "#9c179e"
             ],
             [
              0.4444444444444444,
              "#bd3786"
             ],
             [
              0.5555555555555556,
              "#d8576b"
             ],
             [
              0.6666666666666666,
              "#ed7953"
             ],
             [
              0.7777777777777778,
              "#fb9f3a"
             ],
             [
              0.8888888888888888,
              "#fdca26"
             ],
             [
              1,
              "#f0f921"
             ]
            ],
            "type": "histogram2d"
           }
          ],
          "histogram2dcontour": [
           {
            "colorbar": {
             "outlinewidth": 0,
             "ticks": ""
            },
            "colorscale": [
             [
              0,
              "#0d0887"
             ],
             [
              0.1111111111111111,
              "#46039f"
             ],
             [
              0.2222222222222222,
              "#7201a8"
             ],
             [
              0.3333333333333333,
              "#9c179e"
             ],
             [
              0.4444444444444444,
              "#bd3786"
             ],
             [
              0.5555555555555556,
              "#d8576b"
             ],
             [
              0.6666666666666666,
              "#ed7953"
             ],
             [
              0.7777777777777778,
              "#fb9f3a"
             ],
             [
              0.8888888888888888,
              "#fdca26"
             ],
             [
              1,
              "#f0f921"
             ]
            ],
            "type": "histogram2dcontour"
           }
          ],
          "mesh3d": [
           {
            "colorbar": {
             "outlinewidth": 0,
             "ticks": ""
            },
            "type": "mesh3d"
           }
          ],
          "parcoords": [
           {
            "line": {
             "colorbar": {
              "outlinewidth": 0,
              "ticks": ""
             }
            },
            "type": "parcoords"
           }
          ],
          "pie": [
           {
            "automargin": true,
            "type": "pie"
           }
          ],
          "scatter": [
           {
            "fillpattern": {
             "fillmode": "overlay",
             "size": 10,
             "solidity": 0.2
            },
            "type": "scatter"
           }
          ],
          "scatter3d": [
           {
            "line": {
             "colorbar": {
              "outlinewidth": 0,
              "ticks": ""
             }
            },
            "marker": {
             "colorbar": {
              "outlinewidth": 0,
              "ticks": ""
             }
            },
            "type": "scatter3d"
           }
          ],
          "scattercarpet": [
           {
            "marker": {
             "colorbar": {
              "outlinewidth": 0,
              "ticks": ""
             }
            },
            "type": "scattercarpet"
           }
          ],
          "scattergeo": [
           {
            "marker": {
             "colorbar": {
              "outlinewidth": 0,
              "ticks": ""
             }
            },
            "type": "scattergeo"
           }
          ],
          "scattergl": [
           {
            "marker": {
             "colorbar": {
              "outlinewidth": 0,
              "ticks": ""
             }
            },
            "type": "scattergl"
           }
          ],
          "scattermapbox": [
           {
            "marker": {
             "colorbar": {
              "outlinewidth": 0,
              "ticks": ""
             }
            },
            "type": "scattermapbox"
           }
          ],
          "scatterpolar": [
           {
            "marker": {
             "colorbar": {
              "outlinewidth": 0,
              "ticks": ""
             }
            },
            "type": "scatterpolar"
           }
          ],
          "scatterpolargl": [
           {
            "marker": {
             "colorbar": {
              "outlinewidth": 0,
              "ticks": ""
             }
            },
            "type": "scatterpolargl"
           }
          ],
          "scatterternary": [
           {
            "marker": {
             "colorbar": {
              "outlinewidth": 0,
              "ticks": ""
             }
            },
            "type": "scatterternary"
           }
          ],
          "surface": [
           {
            "colorbar": {
             "outlinewidth": 0,
             "ticks": ""
            },
            "colorscale": [
             [
              0,
              "#0d0887"
             ],
             [
              0.1111111111111111,
              "#46039f"
             ],
             [
              0.2222222222222222,
              "#7201a8"
             ],
             [
              0.3333333333333333,
              "#9c179e"
             ],
             [
              0.4444444444444444,
              "#bd3786"
             ],
             [
              0.5555555555555556,
              "#d8576b"
             ],
             [
              0.6666666666666666,
              "#ed7953"
             ],
             [
              0.7777777777777778,
              "#fb9f3a"
             ],
             [
              0.8888888888888888,
              "#fdca26"
             ],
             [
              1,
              "#f0f921"
             ]
            ],
            "type": "surface"
           }
          ],
          "table": [
           {
            "cells": {
             "fill": {
              "color": "#EBF0F8"
             },
             "line": {
              "color": "white"
             }
            },
            "header": {
             "fill": {
              "color": "#C8D4E3"
             },
             "line": {
              "color": "white"
             }
            },
            "type": "table"
           }
          ]
         },
         "layout": {
          "annotationdefaults": {
           "arrowcolor": "#2a3f5f",
           "arrowhead": 0,
           "arrowwidth": 1
          },
          "autotypenumbers": "strict",
          "coloraxis": {
           "colorbar": {
            "outlinewidth": 0,
            "ticks": ""
           }
          },
          "colorscale": {
           "diverging": [
            [
             0,
             "#8e0152"
            ],
            [
             0.1,
             "#c51b7d"
            ],
            [
             0.2,
             "#de77ae"
            ],
            [
             0.3,
             "#f1b6da"
            ],
            [
             0.4,
             "#fde0ef"
            ],
            [
             0.5,
             "#f7f7f7"
            ],
            [
             0.6,
             "#e6f5d0"
            ],
            [
             0.7,
             "#b8e186"
            ],
            [
             0.8,
             "#7fbc41"
            ],
            [
             0.9,
             "#4d9221"
            ],
            [
             1,
             "#276419"
            ]
           ],
           "sequential": [
            [
             0,
             "#0d0887"
            ],
            [
             0.1111111111111111,
             "#46039f"
            ],
            [
             0.2222222222222222,
             "#7201a8"
            ],
            [
             0.3333333333333333,
             "#9c179e"
            ],
            [
             0.4444444444444444,
             "#bd3786"
            ],
            [
             0.5555555555555556,
             "#d8576b"
            ],
            [
             0.6666666666666666,
             "#ed7953"
            ],
            [
             0.7777777777777778,
             "#fb9f3a"
            ],
            [
             0.8888888888888888,
             "#fdca26"
            ],
            [
             1,
             "#f0f921"
            ]
           ],
           "sequentialminus": [
            [
             0,
             "#0d0887"
            ],
            [
             0.1111111111111111,
             "#46039f"
            ],
            [
             0.2222222222222222,
             "#7201a8"
            ],
            [
             0.3333333333333333,
             "#9c179e"
            ],
            [
             0.4444444444444444,
             "#bd3786"
            ],
            [
             0.5555555555555556,
             "#d8576b"
            ],
            [
             0.6666666666666666,
             "#ed7953"
            ],
            [
             0.7777777777777778,
             "#fb9f3a"
            ],
            [
             0.8888888888888888,
             "#fdca26"
            ],
            [
             1,
             "#f0f921"
            ]
           ]
          },
          "colorway": [
           "#636efa",
           "#EF553B",
           "#00cc96",
           "#ab63fa",
           "#FFA15A",
           "#19d3f3",
           "#FF6692",
           "#B6E880",
           "#FF97FF",
           "#FECB52"
          ],
          "font": {
           "color": "#2a3f5f"
          },
          "geo": {
           "bgcolor": "white",
           "lakecolor": "white",
           "landcolor": "#E5ECF6",
           "showlakes": true,
           "showland": true,
           "subunitcolor": "white"
          },
          "hoverlabel": {
           "align": "left"
          },
          "hovermode": "closest",
          "mapbox": {
           "style": "light"
          },
          "paper_bgcolor": "white",
          "plot_bgcolor": "#E5ECF6",
          "polar": {
           "angularaxis": {
            "gridcolor": "white",
            "linecolor": "white",
            "ticks": ""
           },
           "bgcolor": "#E5ECF6",
           "radialaxis": {
            "gridcolor": "white",
            "linecolor": "white",
            "ticks": ""
           }
          },
          "scene": {
           "xaxis": {
            "backgroundcolor": "#E5ECF6",
            "gridcolor": "white",
            "gridwidth": 2,
            "linecolor": "white",
            "showbackground": true,
            "ticks": "",
            "zerolinecolor": "white"
           },
           "yaxis": {
            "backgroundcolor": "#E5ECF6",
            "gridcolor": "white",
            "gridwidth": 2,
            "linecolor": "white",
            "showbackground": true,
            "ticks": "",
            "zerolinecolor": "white"
           },
           "zaxis": {
            "backgroundcolor": "#E5ECF6",
            "gridcolor": "white",
            "gridwidth": 2,
            "linecolor": "white",
            "showbackground": true,
            "ticks": "",
            "zerolinecolor": "white"
           }
          },
          "shapedefaults": {
           "line": {
            "color": "#2a3f5f"
           }
          },
          "ternary": {
           "aaxis": {
            "gridcolor": "white",
            "linecolor": "white",
            "ticks": ""
           },
           "baxis": {
            "gridcolor": "white",
            "linecolor": "white",
            "ticks": ""
           },
           "bgcolor": "#E5ECF6",
           "caxis": {
            "gridcolor": "white",
            "linecolor": "white",
            "ticks": ""
           }
          },
          "title": {
           "x": 0.05
          },
          "xaxis": {
           "automargin": true,
           "gridcolor": "white",
           "linecolor": "white",
           "ticks": "",
           "title": {
            "standoff": 15
           },
           "zerolinecolor": "white",
           "zerolinewidth": 2
          },
          "yaxis": {
           "automargin": true,
           "gridcolor": "white",
           "linecolor": "white",
           "ticks": "",
           "title": {
            "standoff": 15
           },
           "zerolinecolor": "white",
           "zerolinewidth": 2
          }
         }
        },
        "title": {
         "text": "Label: image générée"
        },
        "width": 500,
        "xaxis": {
         "anchor": "y",
         "domain": [
          0,
          1
         ],
         "showgrid": false,
         "showticklabels": false,
         "visible": false,
         "zeroline": false
        },
        "yaxis": {
         "anchor": "x",
         "domain": [
          0,
          1
         ],
         "showgrid": false,
         "showticklabels": false,
         "visible": false,
         "zeroline": false
        }
       }
      }
     },
     "metadata": {},
     "output_type": "display_data"
    }
   ],
   "source": [
    "type1 = 'Ghost'\n",
    "type2 = 'Fighting'\n",
    "encoded_types = types_to_vector(type1, type2)\n",
    "X = generator.predict([generate_latent_points(latent_dim, 1), encoded_types], verbose=0)\n",
    "plot_image(X[0], \"image générée\", {\"real\": discriminator.predict([X, encoded_types], verbose=0)[0][0]}, 96)"
   ]
  },
  {
   "cell_type": "code",
   "execution_count": 52,
   "metadata": {},
   "outputs": [
    {
     "data": {
      "application/vnd.plotly.v1+json": {
       "config": {
        "plotlyServerURL": "https://plot.ly"
       },
       "data": [
        {
         "hovertemplate": "x: %{x}<br>y: %{y}<extra></extra>",
         "name": "0",
         "source": "data:image/png;base64,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",
         "type": "image",
         "xaxis": "x",
         "yaxis": "y"
        }
       ],
       "layout": {
        "annotations": [
         {
          "align": "left",
          "bgcolor": "#ff7f0e",
          "bordercolor": "#c7c7c7",
          "borderpad": 2,
          "borderwidth": 1,
          "font": {
           "color": "#ffffff",
           "family": "Courier New, monospace",
           "size": 12
          },
          "opacity": 0.8,
          "showarrow": false,
          "text": "real: 10%",
          "x": 1,
          "xref": "paper",
          "y": 1,
          "yref": "paper"
         }
        ],
        "height": 350,
        "images": [
         {
          "layer": "below",
          "sizex": 0.3,
          "sizey": 0.3,
          "source": "images/final/real/1.png",
          "x": 1,
          "xref": "paper",
          "y": 1.1,
          "yref": "paper"
         }
        ],
        "margin": {
         "l": 0,
         "t": 60
        },
        "shapes": [
         {
          "line": {
           "color": "black",
           "width": 2
          },
          "type": "rect",
          "x0": 0,
          "x1": 96,
          "xref": "x",
          "y0": 0,
          "y1": 96,
          "yref": "y"
         }
        ],
        "template": {
         "data": {
          "bar": [
           {
            "error_x": {
             "color": "#2a3f5f"
            },
            "error_y": {
             "color": "#2a3f5f"
            },
            "marker": {
             "line": {
              "color": "#E5ECF6",
              "width": 0.5
             },
             "pattern": {
              "fillmode": "overlay",
              "size": 10,
              "solidity": 0.2
             }
            },
            "type": "bar"
           }
          ],
          "barpolar": [
           {
            "marker": {
             "line": {
              "color": "#E5ECF6",
              "width": 0.5
             },
             "pattern": {
              "fillmode": "overlay",
              "size": 10,
              "solidity": 0.2
             }
            },
            "type": "barpolar"
           }
          ],
          "carpet": [
           {
            "aaxis": {
             "endlinecolor": "#2a3f5f",
             "gridcolor": "white",
             "linecolor": "white",
             "minorgridcolor": "white",
             "startlinecolor": "#2a3f5f"
            },
            "baxis": {
             "endlinecolor": "#2a3f5f",
             "gridcolor": "white",
             "linecolor": "white",
             "minorgridcolor": "white",
             "startlinecolor": "#2a3f5f"
            },
            "type": "carpet"
           }
          ],
          "choropleth": [
           {
            "colorbar": {
             "outlinewidth": 0,
             "ticks": ""
            },
            "type": "choropleth"
           }
          ],
          "contour": [
           {
            "colorbar": {
             "outlinewidth": 0,
             "ticks": ""
            },
            "colorscale": [
             [
              0,
              "#0d0887"
             ],
             [
              0.1111111111111111,
              "#46039f"
             ],
             [
              0.2222222222222222,
              "#7201a8"
             ],
             [
              0.3333333333333333,
              "#9c179e"
             ],
             [
              0.4444444444444444,
              "#bd3786"
             ],
             [
              0.5555555555555556,
              "#d8576b"
             ],
             [
              0.6666666666666666,
              "#ed7953"
             ],
             [
              0.7777777777777778,
              "#fb9f3a"
             ],
             [
              0.8888888888888888,
              "#fdca26"
             ],
             [
              1,
              "#f0f921"
             ]
            ],
            "type": "contour"
           }
          ],
          "contourcarpet": [
           {
            "colorbar": {
             "outlinewidth": 0,
             "ticks": ""
            },
            "type": "contourcarpet"
           }
          ],
          "heatmap": [
           {
            "colorbar": {
             "outlinewidth": 0,
             "ticks": ""
            },
            "colorscale": [
             [
              0,
              "#0d0887"
             ],
             [
              0.1111111111111111,
              "#46039f"
             ],
             [
              0.2222222222222222,
              "#7201a8"
             ],
             [
              0.3333333333333333,
              "#9c179e"
             ],
             [
              0.4444444444444444,
              "#bd3786"
             ],
             [
              0.5555555555555556,
              "#d8576b"
             ],
             [
              0.6666666666666666,
              "#ed7953"
             ],
             [
              0.7777777777777778,
              "#fb9f3a"
             ],
             [
              0.8888888888888888,
              "#fdca26"
             ],
             [
              1,
              "#f0f921"
             ]
            ],
            "type": "heatmap"
           }
          ],
          "heatmapgl": [
           {
            "colorbar": {
             "outlinewidth": 0,
             "ticks": ""
            },
            "colorscale": [
             [
              0,
              "#0d0887"
             ],
             [
              0.1111111111111111,
              "#46039f"
             ],
             [
              0.2222222222222222,
              "#7201a8"
             ],
             [
              0.3333333333333333,
              "#9c179e"
             ],
             [
              0.4444444444444444,
              "#bd3786"
             ],
             [
              0.5555555555555556,
              "#d8576b"
             ],
             [
              0.6666666666666666,
              "#ed7953"
             ],
             [
              0.7777777777777778,
              "#fb9f3a"
             ],
             [
              0.8888888888888888,
              "#fdca26"
             ],
             [
              1,
              "#f0f921"
             ]
            ],
            "type": "heatmapgl"
           }
          ],
          "histogram": [
           {
            "marker": {
             "pattern": {
              "fillmode": "overlay",
              "size": 10,
              "solidity": 0.2
             }
            },
            "type": "histogram"
           }
          ],
          "histogram2d": [
           {
            "colorbar": {
             "outlinewidth": 0,
             "ticks": ""
            },
            "colorscale": [
             [
              0,
              "#0d0887"
             ],
             [
              0.1111111111111111,
              "#46039f"
             ],
             [
              0.2222222222222222,
              "#7201a8"
             ],
             [
              0.3333333333333333,
              "#9c179e"
             ],
             [
              0.4444444444444444,
              "#bd3786"
             ],
             [
              0.5555555555555556,
              "#d8576b"
             ],
             [
              0.6666666666666666,
              "#ed7953"
             ],
             [
              0.7777777777777778,
              "#fb9f3a"
             ],
             [
              0.8888888888888888,
              "#fdca26"
             ],
             [
              1,
              "#f0f921"
             ]
            ],
            "type": "histogram2d"
           }
          ],
          "histogram2dcontour": [
           {
            "colorbar": {
             "outlinewidth": 0,
             "ticks": ""
            },
            "colorscale": [
             [
              0,
              "#0d0887"
             ],
             [
              0.1111111111111111,
              "#46039f"
             ],
             [
              0.2222222222222222,
              "#7201a8"
             ],
             [
              0.3333333333333333,
              "#9c179e"
             ],
             [
              0.4444444444444444,
              "#bd3786"
             ],
             [
              0.5555555555555556,
              "#d8576b"
             ],
             [
              0.6666666666666666,
              "#ed7953"
             ],
             [
              0.7777777777777778,
              "#fb9f3a"
             ],
             [
              0.8888888888888888,
              "#fdca26"
             ],
             [
              1,
              "#f0f921"
             ]
            ],
            "type": "histogram2dcontour"
           }
          ],
          "mesh3d": [
           {
            "colorbar": {
             "outlinewidth": 0,
             "ticks": ""
            },
            "type": "mesh3d"
           }
          ],
          "parcoords": [
           {
            "line": {
             "colorbar": {
              "outlinewidth": 0,
              "ticks": ""
             }
            },
            "type": "parcoords"
           }
          ],
          "pie": [
           {
            "automargin": true,
            "type": "pie"
           }
          ],
          "scatter": [
           {
            "fillpattern": {
             "fillmode": "overlay",
             "size": 10,
             "solidity": 0.2
            },
            "type": "scatter"
           }
          ],
          "scatter3d": [
           {
            "line": {
             "colorbar": {
              "outlinewidth": 0,
              "ticks": ""
             }
            },
            "marker": {
             "colorbar": {
              "outlinewidth": 0,
              "ticks": ""
             }
            },
            "type": "scatter3d"
           }
          ],
          "scattercarpet": [
           {
            "marker": {
             "colorbar": {
              "outlinewidth": 0,
              "ticks": ""
             }
            },
            "type": "scattercarpet"
           }
          ],
          "scattergeo": [
           {
            "marker": {
             "colorbar": {
              "outlinewidth": 0,
              "ticks": ""
             }
            },
            "type": "scattergeo"
           }
          ],
          "scattergl": [
           {
            "marker": {
             "colorbar": {
              "outlinewidth": 0,
              "ticks": ""
             }
            },
            "type": "scattergl"
           }
          ],
          "scattermapbox": [
           {
            "marker": {
             "colorbar": {
              "outlinewidth": 0,
              "ticks": ""
             }
            },
            "type": "scattermapbox"
           }
          ],
          "scatterpolar": [
           {
            "marker": {
             "colorbar": {
              "outlinewidth": 0,
              "ticks": ""
             }
            },
            "type": "scatterpolar"
           }
          ],
          "scatterpolargl": [
           {
            "marker": {
             "colorbar": {
              "outlinewidth": 0,
              "ticks": ""
             }
            },
            "type": "scatterpolargl"
           }
          ],
          "scatterternary": [
           {
            "marker": {
             "colorbar": {
              "outlinewidth": 0,
              "ticks": ""
             }
            },
            "type": "scatterternary"
           }
          ],
          "surface": [
           {
            "colorbar": {
             "outlinewidth": 0,
             "ticks": ""
            },
            "colorscale": [
             [
              0,
              "#0d0887"
             ],
             [
              0.1111111111111111,
              "#46039f"
             ],
             [
              0.2222222222222222,
              "#7201a8"
             ],
             [
              0.3333333333333333,
              "#9c179e"
             ],
             [
              0.4444444444444444,
              "#bd3786"
             ],
             [
              0.5555555555555556,
              "#d8576b"
             ],
             [
              0.6666666666666666,
              "#ed7953"
             ],
             [
              0.7777777777777778,
              "#fb9f3a"
             ],
             [
              0.8888888888888888,
              "#fdca26"
             ],
             [
              1,
              "#f0f921"
             ]
            ],
            "type": "surface"
           }
          ],
          "table": [
           {
            "cells": {
             "fill": {
              "color": "#EBF0F8"
             },
             "line": {
              "color": "white"
             }
            },
            "header": {
             "fill": {
              "color": "#C8D4E3"
             },
             "line": {
              "color": "white"
             }
            },
            "type": "table"
           }
          ]
         },
         "layout": {
          "annotationdefaults": {
           "arrowcolor": "#2a3f5f",
           "arrowhead": 0,
           "arrowwidth": 1
          },
          "autotypenumbers": "strict",
          "coloraxis": {
           "colorbar": {
            "outlinewidth": 0,
            "ticks": ""
           }
          },
          "colorscale": {
           "diverging": [
            [
             0,
             "#8e0152"
            ],
            [
             0.1,
             "#c51b7d"
            ],
            [
             0.2,
             "#de77ae"
            ],
            [
             0.3,
             "#f1b6da"
            ],
            [
             0.4,
             "#fde0ef"
            ],
            [
             0.5,
             "#f7f7f7"
            ],
            [
             0.6,
             "#e6f5d0"
            ],
            [
             0.7,
             "#b8e186"
            ],
            [
             0.8,
             "#7fbc41"
            ],
            [
             0.9,
             "#4d9221"
            ],
            [
             1,
             "#276419"
            ]
           ],
           "sequential": [
            [
             0,
             "#0d0887"
            ],
            [
             0.1111111111111111,
             "#46039f"
            ],
            [
             0.2222222222222222,
             "#7201a8"
            ],
            [
             0.3333333333333333,
             "#9c179e"
            ],
            [
             0.4444444444444444,
             "#bd3786"
            ],
            [
             0.5555555555555556,
             "#d8576b"
            ],
            [
             0.6666666666666666,
             "#ed7953"
            ],
            [
             0.7777777777777778,
             "#fb9f3a"
            ],
            [
             0.8888888888888888,
             "#fdca26"
            ],
            [
             1,
             "#f0f921"
            ]
           ],
           "sequentialminus": [
            [
             0,
             "#0d0887"
            ],
            [
             0.1111111111111111,
             "#46039f"
            ],
            [
             0.2222222222222222,
             "#7201a8"
            ],
            [
             0.3333333333333333,
             "#9c179e"
            ],
            [
             0.4444444444444444,
             "#bd3786"
            ],
            [
             0.5555555555555556,
             "#d8576b"
            ],
            [
             0.6666666666666666,
             "#ed7953"
            ],
            [
             0.7777777777777778,
             "#fb9f3a"
            ],
            [
             0.8888888888888888,
             "#fdca26"
            ],
            [
             1,
             "#f0f921"
            ]
           ]
          },
          "colorway": [
           "#636efa",
           "#EF553B",
           "#00cc96",
           "#ab63fa",
           "#FFA15A",
           "#19d3f3",
           "#FF6692",
           "#B6E880",
           "#FF97FF",
           "#FECB52"
          ],
          "font": {
           "color": "#2a3f5f"
          },
          "geo": {
           "bgcolor": "white",
           "lakecolor": "white",
           "landcolor": "#E5ECF6",
           "showlakes": true,
           "showland": true,
           "subunitcolor": "white"
          },
          "hoverlabel": {
           "align": "left"
          },
          "hovermode": "closest",
          "mapbox": {
           "style": "light"
          },
          "paper_bgcolor": "white",
          "plot_bgcolor": "#E5ECF6",
          "polar": {
           "angularaxis": {
            "gridcolor": "white",
            "linecolor": "white",
            "ticks": ""
           },
           "bgcolor": "#E5ECF6",
           "radialaxis": {
            "gridcolor": "white",
            "linecolor": "white",
            "ticks": ""
           }
          },
          "scene": {
           "xaxis": {
            "backgroundcolor": "#E5ECF6",
            "gridcolor": "white",
            "gridwidth": 2,
            "linecolor": "white",
            "showbackground": true,
            "ticks": "",
            "zerolinecolor": "white"
           },
           "yaxis": {
            "backgroundcolor": "#E5ECF6",
            "gridcolor": "white",
            "gridwidth": 2,
            "linecolor": "white",
            "showbackground": true,
            "ticks": "",
            "zerolinecolor": "white"
           },
           "zaxis": {
            "backgroundcolor": "#E5ECF6",
            "gridcolor": "white",
            "gridwidth": 2,
            "linecolor": "white",
            "showbackground": true,
            "ticks": "",
            "zerolinecolor": "white"
           }
          },
          "shapedefaults": {
           "line": {
            "color": "#2a3f5f"
           }
          },
          "ternary": {
           "aaxis": {
            "gridcolor": "white",
            "linecolor": "white",
            "ticks": ""
           },
           "baxis": {
            "gridcolor": "white",
            "linecolor": "white",
            "ticks": ""
           },
           "bgcolor": "#E5ECF6",
           "caxis": {
            "gridcolor": "white",
            "linecolor": "white",
            "ticks": ""
           }
          },
          "title": {
           "x": 0.05
          },
          "xaxis": {
           "automargin": true,
           "gridcolor": "white",
           "linecolor": "white",
           "ticks": "",
           "title": {
            "standoff": 15
           },
           "zerolinecolor": "white",
           "zerolinewidth": 2
          },
          "yaxis": {
           "automargin": true,
           "gridcolor": "white",
           "linecolor": "white",
           "ticks": "",
           "title": {
            "standoff": 15
           },
           "zerolinecolor": "white",
           "zerolinewidth": 2
          }
         }
        },
        "title": {
         "text": "Label: image générée"
        },
        "width": 500,
        "xaxis": {
         "anchor": "y",
         "domain": [
          0,
          1
         ],
         "showgrid": false,
         "showticklabels": false,
         "visible": false,
         "zeroline": false
        },
        "yaxis": {
         "anchor": "x",
         "domain": [
          0,
          1
         ],
         "showgrid": false,
         "showticklabels": false,
         "visible": false,
         "zeroline": false
        }
       }
      }
     },
     "metadata": {},
     "output_type": "display_data"
    }
   ],
   "source": [
    "ultimate_type = np.array([[1., 1., 1., 1., 1., 1., 1., 1., 1., 1., 1., 1., 1., 1., 1., 1., 1., 1.]])\n",
    "X = generator.predict([generate_latent_points(100, 1), ultimate_type], verbose=0)\n",
    "plot_image(X[0], \"image générée\", {\"real\": discriminator.predict([X, ultimate_type], verbose=0)[0][0]}, 96)"
   ]
  },
  {
   "cell_type": "code",
   "execution_count": 53,
   "metadata": {},
   "outputs": [
    {
     "name": "stdout",
     "output_type": "stream",
     "text": [
      "(1, 96, 96, 3)\n"
     ]
    }
   ],
   "source": [
    "# load images/test/charmander.png to test\n",
    "test_image = tf.keras.preprocessing.image.load_img('../images/test/charmander.png', color_mode='rgba', target_size=image_size)\n",
    "test_image = tf.keras.preprocessing.image.img_to_array(test_image)\n",
    "test_image = tf.expand_dims(test_image, axis=0)\n",
    "test_image = preprocess_image(test_image)\n",
    "print(test_image.shape)"
   ]
  },
  {
   "cell_type": "code",
   "execution_count": 54,
   "metadata": {},
   "outputs": [
    {
     "data": {
      "application/vnd.plotly.v1+json": {
       "config": {
        "plotlyServerURL": "https://plot.ly"
       },
       "data": [
        {
         "hovertemplate": "x: %{x}<br>y: %{y}<br>color: [%{z[0]}, %{z[1]}, %{z[2]}]<extra></extra>",
         "name": "0",
         "source": "data:image/png;base64,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",
         "type": "image",
         "xaxis": "x",
         "yaxis": "y"
        }
       ],
       "layout": {
        "annotations": [
         {
          "align": "left",
          "bgcolor": "#ff7f0e",
          "bordercolor": "#c7c7c7",
          "borderpad": 2,
          "borderwidth": 1,
          "font": {
           "color": "#ffffff",
           "family": "Courier New, monospace",
           "size": 12
          },
          "opacity": 0.8,
          "showarrow": false,
          "text": "real: 100%",
          "x": 1,
          "xref": "paper",
          "y": 1,
          "yref": "paper"
         }
        ],
        "height": 350,
        "images": [
         {
          "layer": "below",
          "sizex": 0.3,
          "sizey": 0.3,
          "source": "images/final/real/1.png",
          "x": 1,
          "xref": "paper",
          "y": 1.1,
          "yref": "paper"
         }
        ],
        "margin": {
         "l": 0,
         "t": 60
        },
        "shapes": [
         {
          "line": {
           "color": "black",
           "width": 2
          },
          "type": "rect",
          "x0": 0,
          "x1": 96,
          "xref": "x",
          "y0": 0,
          "y1": 96,
          "yref": "y"
         }
        ],
        "template": {
         "data": {
          "bar": [
           {
            "error_x": {
             "color": "#2a3f5f"
            },
            "error_y": {
             "color": "#2a3f5f"
            },
            "marker": {
             "line": {
              "color": "#E5ECF6",
              "width": 0.5
             },
             "pattern": {
              "fillmode": "overlay",
              "size": 10,
              "solidity": 0.2
             }
            },
            "type": "bar"
           }
          ],
          "barpolar": [
           {
            "marker": {
             "line": {
              "color": "#E5ECF6",
              "width": 0.5
             },
             "pattern": {
              "fillmode": "overlay",
              "size": 10,
              "solidity": 0.2
             }
            },
            "type": "barpolar"
           }
          ],
          "carpet": [
           {
            "aaxis": {
             "endlinecolor": "#2a3f5f",
             "gridcolor": "white",
             "linecolor": "white",
             "minorgridcolor": "white",
             "startlinecolor": "#2a3f5f"
            },
            "baxis": {
             "endlinecolor": "#2a3f5f",
             "gridcolor": "white",
             "linecolor": "white",
             "minorgridcolor": "white",
             "startlinecolor": "#2a3f5f"
            },
            "type": "carpet"
           }
          ],
          "choropleth": [
           {
            "colorbar": {
             "outlinewidth": 0,
             "ticks": ""
            },
            "type": "choropleth"
           }
          ],
          "contour": [
           {
            "colorbar": {
             "outlinewidth": 0,
             "ticks": ""
            },
            "colorscale": [
             [
              0,
              "#0d0887"
             ],
             [
              0.1111111111111111,
              "#46039f"
             ],
             [
              0.2222222222222222,
              "#7201a8"
             ],
             [
              0.3333333333333333,
              "#9c179e"
             ],
             [
              0.4444444444444444,
              "#bd3786"
             ],
             [
              0.5555555555555556,
              "#d8576b"
             ],
             [
              0.6666666666666666,
              "#ed7953"
             ],
             [
              0.7777777777777778,
              "#fb9f3a"
             ],
             [
              0.8888888888888888,
              "#fdca26"
             ],
             [
              1,
              "#f0f921"
             ]
            ],
            "type": "contour"
           }
          ],
          "contourcarpet": [
           {
            "colorbar": {
             "outlinewidth": 0,
             "ticks": ""
            },
            "type": "contourcarpet"
           }
          ],
          "heatmap": [
           {
            "colorbar": {
             "outlinewidth": 0,
             "ticks": ""
            },
            "colorscale": [
             [
              0,
              "#0d0887"
             ],
             [
              0.1111111111111111,
              "#46039f"
             ],
             [
              0.2222222222222222,
              "#7201a8"
             ],
             [
              0.3333333333333333,
              "#9c179e"
             ],
             [
              0.4444444444444444,
              "#bd3786"
             ],
             [
              0.5555555555555556,
              "#d8576b"
             ],
             [
              0.6666666666666666,
              "#ed7953"
             ],
             [
              0.7777777777777778,
              "#fb9f3a"
             ],
             [
              0.8888888888888888,
              "#fdca26"
             ],
             [
              1,
              "#f0f921"
             ]
            ],
            "type": "heatmap"
           }
          ],
          "heatmapgl": [
           {
            "colorbar": {
             "outlinewidth": 0,
             "ticks": ""
            },
            "colorscale": [
             [
              0,
              "#0d0887"
             ],
             [
              0.1111111111111111,
              "#46039f"
             ],
             [
              0.2222222222222222,
              "#7201a8"
             ],
             [
              0.3333333333333333,
              "#9c179e"
             ],
             [
              0.4444444444444444,
              "#bd3786"
             ],
             [
              0.5555555555555556,
              "#d8576b"
             ],
             [
              0.6666666666666666,
              "#ed7953"
             ],
             [
              0.7777777777777778,
              "#fb9f3a"
             ],
             [
              0.8888888888888888,
              "#fdca26"
             ],
             [
              1,
              "#f0f921"
             ]
            ],
            "type": "heatmapgl"
           }
          ],
          "histogram": [
           {
            "marker": {
             "pattern": {
              "fillmode": "overlay",
              "size": 10,
              "solidity": 0.2
             }
            },
            "type": "histogram"
           }
          ],
          "histogram2d": [
           {
            "colorbar": {
             "outlinewidth": 0,
             "ticks": ""
            },
            "colorscale": [
             [
              0,
              "#0d0887"
             ],
             [
              0.1111111111111111,
              "#46039f"
             ],
             [
              0.2222222222222222,
              "#7201a8"
             ],
             [
              0.3333333333333333,
              "#9c179e"
             ],
             [
              0.4444444444444444,
              "#bd3786"
             ],
             [
              0.5555555555555556,
              "#d8576b"
             ],
             [
              0.6666666666666666,
              "#ed7953"
             ],
             [
              0.7777777777777778,
              "#fb9f3a"
             ],
             [
              0.8888888888888888,
              "#fdca26"
             ],
             [
              1,
              "#f0f921"
             ]
            ],
            "type": "histogram2d"
           }
          ],
          "histogram2dcontour": [
           {
            "colorbar": {
             "outlinewidth": 0,
             "ticks": ""
            },
            "colorscale": [
             [
              0,
              "#0d0887"
             ],
             [
              0.1111111111111111,
              "#46039f"
             ],
             [
              0.2222222222222222,
              "#7201a8"
             ],
             [
              0.3333333333333333,
              "#9c179e"
             ],
             [
              0.4444444444444444,
              "#bd3786"
             ],
             [
              0.5555555555555556,
              "#d8576b"
             ],
             [
              0.6666666666666666,
              "#ed7953"
             ],
             [
              0.7777777777777778,
              "#fb9f3a"
             ],
             [
              0.8888888888888888,
              "#fdca26"
             ],
             [
              1,
              "#f0f921"
             ]
            ],
            "type": "histogram2dcontour"
           }
          ],
          "mesh3d": [
           {
            "colorbar": {
             "outlinewidth": 0,
             "ticks": ""
            },
            "type": "mesh3d"
           }
          ],
          "parcoords": [
           {
            "line": {
             "colorbar": {
              "outlinewidth": 0,
              "ticks": ""
             }
            },
            "type": "parcoords"
           }
          ],
          "pie": [
           {
            "automargin": true,
            "type": "pie"
           }
          ],
          "scatter": [
           {
            "fillpattern": {
             "fillmode": "overlay",
             "size": 10,
             "solidity": 0.2
            },
            "type": "scatter"
           }
          ],
          "scatter3d": [
           {
            "line": {
             "colorbar": {
              "outlinewidth": 0,
              "ticks": ""
             }
            },
            "marker": {
             "colorbar": {
              "outlinewidth": 0,
              "ticks": ""
             }
            },
            "type": "scatter3d"
           }
          ],
          "scattercarpet": [
           {
            "marker": {
             "colorbar": {
              "outlinewidth": 0,
              "ticks": ""
             }
            },
            "type": "scattercarpet"
           }
          ],
          "scattergeo": [
           {
            "marker": {
             "colorbar": {
              "outlinewidth": 0,
              "ticks": ""
             }
            },
            "type": "scattergeo"
           }
          ],
          "scattergl": [
           {
            "marker": {
             "colorbar": {
              "outlinewidth": 0,
              "ticks": ""
             }
            },
            "type": "scattergl"
           }
          ],
          "scattermapbox": [
           {
            "marker": {
             "colorbar": {
              "outlinewidth": 0,
              "ticks": ""
             }
            },
            "type": "scattermapbox"
           }
          ],
          "scatterpolar": [
           {
            "marker": {
             "colorbar": {
              "outlinewidth": 0,
              "ticks": ""
             }
            },
            "type": "scatterpolar"
           }
          ],
          "scatterpolargl": [
           {
            "marker": {
             "colorbar": {
              "outlinewidth": 0,
              "ticks": ""
             }
            },
            "type": "scatterpolargl"
           }
          ],
          "scatterternary": [
           {
            "marker": {
             "colorbar": {
              "outlinewidth": 0,
              "ticks": ""
             }
            },
            "type": "scatterternary"
           }
          ],
          "surface": [
           {
            "colorbar": {
             "outlinewidth": 0,
             "ticks": ""
            },
            "colorscale": [
             [
              0,
              "#0d0887"
             ],
             [
              0.1111111111111111,
              "#46039f"
             ],
             [
              0.2222222222222222,
              "#7201a8"
             ],
             [
              0.3333333333333333,
              "#9c179e"
             ],
             [
              0.4444444444444444,
              "#bd3786"
             ],
             [
              0.5555555555555556,
              "#d8576b"
             ],
             [
              0.6666666666666666,
              "#ed7953"
             ],
             [
              0.7777777777777778,
              "#fb9f3a"
             ],
             [
              0.8888888888888888,
              "#fdca26"
             ],
             [
              1,
              "#f0f921"
             ]
            ],
            "type": "surface"
           }
          ],
          "table": [
           {
            "cells": {
             "fill": {
              "color": "#EBF0F8"
             },
             "line": {
              "color": "white"
             }
            },
            "header": {
             "fill": {
              "color": "#C8D4E3"
             },
             "line": {
              "color": "white"
             }
            },
            "type": "table"
           }
          ]
         },
         "layout": {
          "annotationdefaults": {
           "arrowcolor": "#2a3f5f",
           "arrowhead": 0,
           "arrowwidth": 1
          },
          "autotypenumbers": "strict",
          "coloraxis": {
           "colorbar": {
            "outlinewidth": 0,
            "ticks": ""
           }
          },
          "colorscale": {
           "diverging": [
            [
             0,
             "#8e0152"
            ],
            [
             0.1,
             "#c51b7d"
            ],
            [
             0.2,
             "#de77ae"
            ],
            [
             0.3,
             "#f1b6da"
            ],
            [
             0.4,
             "#fde0ef"
            ],
            [
             0.5,
             "#f7f7f7"
            ],
            [
             0.6,
             "#e6f5d0"
            ],
            [
             0.7,
             "#b8e186"
            ],
            [
             0.8,
             "#7fbc41"
            ],
            [
             0.9,
             "#4d9221"
            ],
            [
             1,
             "#276419"
            ]
           ],
           "sequential": [
            [
             0,
             "#0d0887"
            ],
            [
             0.1111111111111111,
             "#46039f"
            ],
            [
             0.2222222222222222,
             "#7201a8"
            ],
            [
             0.3333333333333333,
             "#9c179e"
            ],
            [
             0.4444444444444444,
             "#bd3786"
            ],
            [
             0.5555555555555556,
             "#d8576b"
            ],
            [
             0.6666666666666666,
             "#ed7953"
            ],
            [
             0.7777777777777778,
             "#fb9f3a"
            ],
            [
             0.8888888888888888,
             "#fdca26"
            ],
            [
             1,
             "#f0f921"
            ]
           ],
           "sequentialminus": [
            [
             0,
             "#0d0887"
            ],
            [
             0.1111111111111111,
             "#46039f"
            ],
            [
             0.2222222222222222,
             "#7201a8"
            ],
            [
             0.3333333333333333,
             "#9c179e"
            ],
            [
             0.4444444444444444,
             "#bd3786"
            ],
            [
             0.5555555555555556,
             "#d8576b"
            ],
            [
             0.6666666666666666,
             "#ed7953"
            ],
            [
             0.7777777777777778,
             "#fb9f3a"
            ],
            [
             0.8888888888888888,
             "#fdca26"
            ],
            [
             1,
             "#f0f921"
            ]
           ]
          },
          "colorway": [
           "#636efa",
           "#EF553B",
           "#00cc96",
           "#ab63fa",
           "#FFA15A",
           "#19d3f3",
           "#FF6692",
           "#B6E880",
           "#FF97FF",
           "#FECB52"
          ],
          "font": {
           "color": "#2a3f5f"
          },
          "geo": {
           "bgcolor": "white",
           "lakecolor": "white",
           "landcolor": "#E5ECF6",
           "showlakes": true,
           "showland": true,
           "subunitcolor": "white"
          },
          "hoverlabel": {
           "align": "left"
          },
          "hovermode": "closest",
          "mapbox": {
           "style": "light"
          },
          "paper_bgcolor": "white",
          "plot_bgcolor": "#E5ECF6",
          "polar": {
           "angularaxis": {
            "gridcolor": "white",
            "linecolor": "white",
            "ticks": ""
           },
           "bgcolor": "#E5ECF6",
           "radialaxis": {
            "gridcolor": "white",
            "linecolor": "white",
            "ticks": ""
           }
          },
          "scene": {
           "xaxis": {
            "backgroundcolor": "#E5ECF6",
            "gridcolor": "white",
            "gridwidth": 2,
            "linecolor": "white",
            "showbackground": true,
            "ticks": "",
            "zerolinecolor": "white"
           },
           "yaxis": {
            "backgroundcolor": "#E5ECF6",
            "gridcolor": "white",
            "gridwidth": 2,
            "linecolor": "white",
            "showbackground": true,
            "ticks": "",
            "zerolinecolor": "white"
           },
           "zaxis": {
            "backgroundcolor": "#E5ECF6",
            "gridcolor": "white",
            "gridwidth": 2,
            "linecolor": "white",
            "showbackground": true,
            "ticks": "",
            "zerolinecolor": "white"
           }
          },
          "shapedefaults": {
           "line": {
            "color": "#2a3f5f"
           }
          },
          "ternary": {
           "aaxis": {
            "gridcolor": "white",
            "linecolor": "white",
            "ticks": ""
           },
           "baxis": {
            "gridcolor": "white",
            "linecolor": "white",
            "ticks": ""
           },
           "bgcolor": "#E5ECF6",
           "caxis": {
            "gridcolor": "white",
            "linecolor": "white",
            "ticks": ""
           }
          },
          "title": {
           "x": 0.05
          },
          "xaxis": {
           "automargin": true,
           "gridcolor": "white",
           "linecolor": "white",
           "ticks": "",
           "title": {
            "standoff": 15
           },
           "zerolinecolor": "white",
           "zerolinewidth": 2
          },
          "yaxis": {
           "automargin": true,
           "gridcolor": "white",
           "linecolor": "white",
           "ticks": "",
           "title": {
            "standoff": 15
           },
           "zerolinecolor": "white",
           "zerolinewidth": 2
          }
         }
        },
        "title": {
         "text": "Label: image test"
        },
        "width": 500,
        "xaxis": {
         "anchor": "y",
         "domain": [
          0,
          1
         ],
         "showgrid": false,
         "showticklabels": false,
         "visible": false,
         "zeroline": false
        },
        "yaxis": {
         "anchor": "x",
         "domain": [
          0,
          1
         ],
         "showgrid": false,
         "showticklabels": false,
         "visible": false,
         "zeroline": false
        }
       }
      }
     },
     "metadata": {},
     "output_type": "display_data"
    }
   ],
   "source": [
    "# test discriminator with test image\n",
    "plot_image(test_image[0], \"image test\", {\"real\": discriminator.predict([test_image, types_to_vector('Fire')], verbose=0)[0][0]}, 96)"
   ]
  }
 ],
 "metadata": {
  "kernelspec": {
   "display_name": "Python 3",
   "language": "python",
   "name": "python3"
  },
  "language_info": {
   "codemirror_mode": {
    "name": "ipython",
    "version": 3
   },
   "file_extension": ".py",
   "mimetype": "text/x-python",
   "name": "python",
   "nbconvert_exporter": "python",
   "pygments_lexer": "ipython3",
   "version": "3.10.6"
  },
  "orig_nbformat": 4
 },
 "nbformat": 4,
 "nbformat_minor": 2
}
